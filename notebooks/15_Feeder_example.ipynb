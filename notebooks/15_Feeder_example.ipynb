{
 "cells": [
  {
   "cell_type": "markdown",
   "metadata": {},
   "source": [
    "# Demo Feeder Concept\n",
    "This notebook shows a basics of a feeder concept. This scenario has two vessels:\n",
    "* a *vessel* for the transport of material\n",
    "* an *installer*, receiving the material and installing it.\n",
    "Thus, we also need two processes - one for each vessel. In this process the hand over of the material is done from the *vessel* to the *installer*."
   ]
  },
  {
   "cell_type": "code",
   "execution_count": 1,
   "metadata": {},
   "outputs": [],
   "source": [
    "import datetime, time\n",
    "import simpy\n",
    "\n",
    "import shapely.geometry\n",
    "\n",
    "\n",
    "# package(s) for data handling\n",
    "import pandas as pd\n",
    "import numpy as np\n",
    "\n",
    "import openclsim.core as core\n",
    "import openclsim.model as model\n",
    "import openclsim.plot as plot\n",
    "\n",
    "import uuid\n",
    "\n",
    "# setup environment\n",
    "simulation_start = 0\n",
    "my_env = simpy.Environment(initial_time=simulation_start)\n",
    "registry = {}\n",
    "keep_resources = {}"
   ]
  },
  {
   "cell_type": "markdown",
   "metadata": {},
   "source": [
    "## Definition of Sites"
   ]
  },
  {
   "cell_type": "code",
   "execution_count": 2,
   "metadata": {},
   "outputs": [],
   "source": [
    "# The generic site class\n",
    "Site = type(\n",
    "    \"Site\",\n",
    "    (\n",
    "        core.Identifiable,  # Give it a name\n",
    "        core.Log,  # Allow logging of all discrete events\n",
    "        core.Locatable,  # Add coordinates to extract distance information and visualize\n",
    "        core.HasMultiContainer,  # Add information on the material available at the site\n",
    "        core.HasResource,\n",
    "    ),  # Add information on serving equipment\n",
    "    {},\n",
    ")  # The dictionary is empty because the site type is generic\n",
    "\n",
    "# Information on the extraction site - the \"from site\" - the \"win locatie\"\n",
    "location_from_site = shapely.geometry.Point(4.18055556, 52.18664444)  # lon, lat\n",
    "\n",
    "data_from_site = {\n",
    "    \"env\": my_env,  # The simpy environment defined in the first cel\n",
    "    \"name\": \"Winlocatie\",  # The name of the site\n",
    "    \"ID\": str(uuid.uuid4()),  # For logging purposes\n",
    "    \"geometry\": location_from_site,  # The coordinates of the project site\n",
    "    \"store_capacity\": 4,\n",
    "    \"initials\": [\n",
    "        {\"id\": \"MP\", \"level\": 5, \"capacity\": 10},\n",
    "        {\"id\": \"TP\", \"level\": 5, \"capacity\": 10},\n",
    "    ],\n",
    "}  # The actual volume of the site\n",
    "\n",
    "# Information on the dumping site - the \"to site\" - the \"dump locatie\"\n",
    "location_to_site = shapely.geometry.Point(4.25222222, 52.11428333)  # lon, lat\n",
    "\n",
    "data_to_site = {\n",
    "    \"env\": my_env,  # The simpy environment defined in the first cel\n",
    "    \"name\": \"Dumplocatie\",  # The name of the site\n",
    "    \"ID\": str(uuid.uuid4()),  # For logging purposes\n",
    "    \"geometry\": location_to_site,  # The coordinates of the project site\n",
    "    \"store_capacity\": 4,\n",
    "    \"initials\": [\n",
    "        {\"id\": \"MP\", \"level\": 0, \"capacity\": 5},\n",
    "        {\"id\": \"TP\", \"level\": 0, \"capacity\": 5},\n",
    "    ],\n",
    "}  # The actual volume of the site (empty of course)\n",
    "\n",
    "# The two objects used for the simulation\n",
    "from_site = Site(**data_from_site)\n",
    "to_site = Site(**data_to_site)\n"
   ]
  },
  {
   "cell_type": "markdown",
   "metadata": {},
   "source": [
    "## Definition of Vessels"
   ]
  },
  {
   "cell_type": "code",
   "execution_count": 3,
   "metadata": {},
   "outputs": [],
   "source": [
    "# The generic class for an object that can move and transport (a TSHD for example)\n",
    "TransportProcessingResource = type(\n",
    "    \"TransportProcessingResource\",\n",
    "    (\n",
    "        core.Identifiable,  # Give it a name\n",
    "        core.Log,  # Allow logging of all discrete events\n",
    "        core.MultiContainerDependentMovable,  # A moving container, so capacity and location\n",
    "        core.Processor,  # Allow for loading and unloading\n",
    "        core.HasResource,  # Add information on serving equipment\n",
    "        \n",
    "        core.LoadingFunction,  # Add a loading function\n",
    "        core.UnloadingFunction,  # Add an unloading function\n",
    "        # SiteRegistry,\n",
    "    ),\n",
    "    {\"key\": \"MultiStoreHopper\"},\n",
    ")\n",
    "\n",
    "# print(SiteRegistry.inspect(\"MultiStoreHopper\"))\n",
    "# For more realistic simulation you might want to have speed dependent on the volume carried by the vessel\n",
    "def compute_v_provider(v_empty, v_full):\n",
    "    return lambda x: 10\n",
    "\n",
    "\n",
    "# TSHD variables\n",
    "data_vessel = {\n",
    "    \"env\": my_env,  # The simpy environment\n",
    "    \"name\": \"Vessel 01\",  # Name\n",
    "    \"ID\": str(uuid.uuid4()),  # For logging purposes\n",
    "    \"geometry\": location_from_site,  # It starts at the \"from site\"\n",
    "    \"loading_rate\": 1,  # Loading rate\n",
    "    \"unloading_rate\": 1,  # Unloading rate\n",
    "    \"store_capacity\": 4,\n",
    "    \"initials\": [\n",
    "        {\"id\": \"MP\", \"level\": 0, \"capacity\": 2},\n",
    "        {\"id\": \"TP\", \"level\": 0, \"capacity\": 2},\n",
    "    ],  # Capacity of the hopper - \"Beunvolume\"\n",
    "    \"compute_v\": compute_v_provider(5, 4.5),  # Variable speed\n",
    "}\n",
    "vessel = TransportProcessingResource(**data_vessel)\n",
    "\n",
    "\n",
    "data_installer = {\n",
    "    \"env\": my_env,  # The simpy environment\n",
    "    \"name\": \"Installer\",  # Name\n",
    "    \"ID\": str(uuid.uuid4()),  # For logging purposes\n",
    "    \"geometry\": location_from_site,  # It starts at the \"from site\"\n",
    "    \"loading_rate\": 1,  # Loading rate\n",
    "    \"unloading_rate\": 1,  # Unloading rate\n",
    "    \"store_capacity\": 4,\n",
    "    \"initials\": [\n",
    "        {\"id\": \"MP\", \"level\": 0, \"capacity\": 1},\n",
    "        {\"id\": \"TP\", \"level\": 0, \"capacity\": 1},\n",
    "    ],  # Capacity of the hopper - \"Beunvolume\"\n",
    "    \"compute_v\": compute_v_provider(5, 4.5),  # Variable speed\n",
    "}\n",
    "installer = TransportProcessingResource(**data_installer)"
   ]
  },
  {
   "cell_type": "markdown",
   "metadata": {},
   "source": [
    "## Definition of Vessel process"
   ]
  },
  {
   "cell_type": "code",
   "execution_count": 4,
   "metadata": {},
   "outputs": [],
   "source": [
    "# definition of vessel main cycle\n",
    "def vessel_process(vessel):\n",
    "    single_run = []\n",
    "    move_activity_to_harbor_data = {\n",
    "        \"env\": my_env,  # The simpy environment defined in the first cel\n",
    "        \"name\": \"sailing empty\",  # We are moving soil\n",
    "        \"ID\": str(uuid.uuid4()),  # For logging purposes\n",
    "        \"registry\": registry,\n",
    "        \"mover\": vessel,\n",
    "        \"destination\": from_site,\n",
    "        \"postpone_start\": True,\n",
    "    }\n",
    "    single_run.append(model.MoveActivity(**move_activity_to_harbor_data))\n",
    "    \n",
    "    shift_amount_loading_data = {\n",
    "        \"env\": my_env,  # The simpy environment defined in the first cel\n",
    "        \"name\": \"Load MP\",  # We are moving soil\n",
    "        \"ID\": str(uuid.uuid4()),  # For logging purposes\n",
    "        \"registry\": registry,\n",
    "        \"processor\": vessel,\n",
    "        \"origin\": from_site,\n",
    "        \"destination\": vessel,\n",
    "        \"amount\": 1,\n",
    "        \"duration\": 120,\n",
    "        \"id_\": \"MP\",\n",
    "        \"postpone_start\": True,\n",
    "    }\n",
    "    single_run.append(model.ShiftAmountActivity(**shift_amount_loading_data))\n",
    "    \n",
    "    move_activity_to_site_data = {\n",
    "        \"env\": my_env,  # The simpy environment defined in the first cel\n",
    "        \"name\": \"sailing filled\",  # We are moving soil\n",
    "        \"ID\": str(uuid.uuid4()),  # For logging purposes\n",
    "        \"registry\": registry,\n",
    "        \"mover\": vessel,\n",
    "        \"destination\": to_site,\n",
    "        \"postpone_start\": True,\n",
    "    }\n",
    "    single_run.append(model.MoveActivity(**move_activity_to_site_data))\n",
    "    \n",
    "    shift_amount_unloading_data = {\n",
    "        \"env\": my_env,  # The simpy environment defined in the first cel\n",
    "        \"name\": \"Transfer MP\",  # We are moving soil\n",
    "        \"ID\": str(uuid.uuid4()),  # For logging purposes\n",
    "        \"registry\": registry,\n",
    "        \"processor\": installer,\n",
    "        \"origin\": vessel,\n",
    "        \"destination\": installer,\n",
    "        \"amount\": 1,\n",
    "        \"duration\": 120,\n",
    "        \"id_\": \"MP\",\n",
    "        \"postpone_start\": True,\n",
    "        \"start_event\": [{\"type\":\"activity\", \"name\": \"Sail transit\" , \"state\":\"done\"}],\n",
    "    }\n",
    "    single_run.append(model.ShiftAmountActivity(**shift_amount_unloading_data))\n",
    "    \n",
    "    sequential_activity_data3 = {\n",
    "        \"env\": my_env,\n",
    "        \"name\": \"Single run process\",\n",
    "        \"ID\": str(uuid.uuid4()),  # For logging purposes\n",
    "        \"registry\": registry,\n",
    "        \"sub_processes\": single_run,\n",
    "        \"postpone_start\": True,\n",
    "    }\n",
    "    activity = model.SequentialActivity(**sequential_activity_data3)\n",
    "    \n",
    "    while_data = {\n",
    "        \"env\": my_env,  # The simpy environment defined in the first cel\n",
    "        \"name\": \"single run while\",  # We are moving soil\n",
    "        \"ID\": str(uuid.uuid4()),  # For logging purposes\n",
    "        \"registry\": registry,\n",
    "        \"sub_process\": activity,\n",
    "        \"condition_event\": [{\"type\":\"container\", \"concept\": from_site, \"state\":\"empty\", \"id_\":\"MP\"}],\n",
    "        \"postpone_start\": False,\n",
    "    }\n",
    "    while_activity = model.WhileActivity(**while_data)\n",
    "    return while_activity\n"
   ]
  },
  {
   "cell_type": "markdown",
   "metadata": {},
   "source": [
    "## Definition of Installer process"
   ]
  },
  {
   "cell_type": "code",
   "execution_count": 5,
   "metadata": {},
   "outputs": [],
   "source": [
    "# installer process\n",
    "#\n",
    "installer_run = []\n",
    "move_activity_to_site_data = {\n",
    "    \"env\": my_env,  # The simpy environment defined in the first cel\n",
    "    \"name\": \"sailing empty\",  # We are moving soil\n",
    "    \"ID\": str(uuid.uuid4()),  # For logging purposes\n",
    "    \"registry\": registry,\n",
    "    \"mover\": installer,\n",
    "    \"destination\": to_site,\n",
    "    \"postpone_start\": True,\n",
    "}\n",
    "installer_run.append(model.MoveActivity(**move_activity_to_site_data))\n",
    "\n",
    "installer_run2 = []\n",
    "basic_activity_data= {\"env\"  : my_env,\n",
    "                      \"name\" : \"Sail transit\",\n",
    "                      \"registry\": registry,\n",
    "                      \"ID\":str(uuid.uuid4()),  # For logging purposes\n",
    "                      \"duration\" : 30,\n",
    "                      \"additional_logs\": [installer],\n",
    "                      \"postpone_start\": True,\n",
    "                      }\n",
    "installer_run2.append(model.BasicActivity(**basic_activity_data))\n",
    "\n",
    "basic_activity_data33= {\"env\"  : my_env,\n",
    "                      \"name\" : \"Prepare installation\",\n",
    "                      \"registry\": registry,\n",
    "                      \"ID\":str(uuid.uuid4()),  # For logging purposes\n",
    "                      \"duration\" : 60,\n",
    "                      \"additional_logs\": [installer],\n",
    "                      \"postpone_start\": True,\n",
    "                      \"start_event\": [{\"type\":\"activity\", \"name\": \"Single run process\" , \"state\":\"done\"}],\n",
    "                      }\n",
    "installer_run2.append(model.BasicActivity(**basic_activity_data33))\n",
    "\n",
    "shift_amount_unloading_data2 = {\n",
    "    \"env\": my_env,  # The simpy environment defined in the first cel\n",
    "    \"name\": \"Install MP\",  # We are moving soil\n",
    "    \"ID\": str(uuid.uuid4()),  # For logging purposes\n",
    "    \"registry\": registry,\n",
    "    \"processor\": installer,\n",
    "    \"origin\": installer,\n",
    "    \"destination\": to_site,\n",
    "    \"amount\": 1,\n",
    "    \"duration\": 120,\n",
    "    \"id_\": \"MP\",\n",
    "    \"postpone_start\": True,\n",
    "}\n",
    "installer_run2.append(model.ShiftAmountActivity(**shift_amount_unloading_data2))\n",
    "\n",
    "sequential_activity_data3 = {\n",
    "    \"env\": my_env,\n",
    "    \"name\": \"Installer run process 2\",\n",
    "    \"ID\": str(uuid.uuid4()),  # For logging purposes\n",
    "    \"registry\": registry,\n",
    "    \"sub_processes\": installer_run2,\n",
    "    \"postpone_start\": True,\n",
    "}\n",
    "activity = model.SequentialActivity(**sequential_activity_data3)\n",
    "\n",
    "while_data = {\n",
    "    \"env\": my_env,  # The simpy environment defined in the first cel\n",
    "    \"name\": \"installer run while\",  # We are moving soil\n",
    "    \"ID\": str(uuid.uuid4()),  # For logging purposes\n",
    "    \"registry\": registry,\n",
    "    \"sub_process\": activity,\n",
    "    \"condition_event\": [{\"type\":\"container\", \"concept\": to_site, \"state\":\"full\", \"id_\":\"MP\"}],\n",
    "    \"postpone_start\": True,\n",
    "}\n",
    "installer_run.append(model.WhileActivity(**while_data))\n",
    "\n",
    "sequential_activity_data4 = {\n",
    "    \"env\": my_env,\n",
    "    \"name\": \"Installer run process\",\n",
    "    \"ID\": str(uuid.uuid4()),  # For logging purposes\n",
    "    \"registry\": registry,\n",
    "    \"sub_processes\": installer_run,\n",
    "    \"postpone_start\": False,\n",
    "}\n",
    "installer_proc = model.SequentialActivity(**sequential_activity_data4)\n",
    "\n",
    "## instantiate vessel process\n",
    "vessel_proc = vessel_process(vessel)\n"
   ]
  },
  {
   "cell_type": "code",
   "execution_count": 6,
   "metadata": {
    "tags": [
     "outputPrepend"
    ]
   },
   "outputs": [],
   "source": [
    "my_env.run()\n"
   ]
  },
  {
   "cell_type": "code",
   "execution_count": 8,
   "metadata": {},
   "outputs": [
    {
     "data": {
      "text/html": [
       "        <script type=\"text/javascript\">\n",
       "        window.PlotlyConfig = {MathJaxConfig: 'local'};\n",
       "        if (window.MathJax) {MathJax.Hub.Config({SVG: {font: \"STIX-Web\"}});}\n",
       "        if (typeof require !== 'undefined') {\n",
       "        require.undef(\"plotly\");\n",
       "        requirejs.config({\n",
       "            paths: {\n",
       "                'plotly': ['https://cdn.plot.ly/plotly-latest.min']\n",
       "            }\n",
       "        });\n",
       "        require(['plotly'], function(Plotly) {\n",
       "            window._Plotly = Plotly;\n",
       "        });\n",
       "        }\n",
       "        </script>\n",
       "        "
      ]
     },
     "metadata": {},
     "output_type": "display_data"
    },
    {
     "data": {
      "application/vnd.plotly.v1+json": {
       "config": {
        "linkText": "Export to plot.ly",
        "plotlyServerURL": "https://plot.ly",
        "showLink": false
       },
       "data": [
        {
         "connectgaps": false,
         "hoverinfo": "y+name",
         "line": {
          "color": "rgb(236,241,71)",
          "width": 10
         },
         "mode": "lines",
         "name": "4869a803-2c3d-41b0-9ac1-2d5aa2682a7c",
         "type": "scatter",
         "x": [
          "1970-01-01T00:00:00",
          "1970-01-01T00:00:00",
          "1970-01-01T00:00:00",
          "1970-01-01T00:00:00",
          "1970-01-01T00:00:00",
          "1970-01-01T00:19:42.824591",
          "1970-01-01T00:19:42.824591",
          "1970-01-01T00:35:25.649183",
          "1970-01-01T00:35:25.649183",
          "1970-01-01T00:35:25.649183",
          "1970-01-01T00:55:08.473774",
          "1970-01-01T00:55:08.473774",
          "1970-01-01T01:10:51.298365",
          "1970-01-01T01:10:51.298365",
          "1970-01-01T01:10:51.298365",
          "1970-01-01T01:30:34.122956",
          "1970-01-01T01:30:34.122956",
          "1970-01-01T01:46:16.947548",
          "1970-01-01T01:46:16.947548",
          "1970-01-01T01:46:16.947548",
          "1970-01-01T02:05:59.772139",
          "1970-01-01T02:05:59.772139",
          "1970-01-01T02:21:42.596730",
          "1970-01-01T02:21:42.596730",
          "1970-01-01T02:21:42.596730"
         ],
         "y": [
          "Vessel 01",
          "Vessel 01",
          "Vessel 01",
          "Vessel 01",
          null,
          "Vessel 01",
          "Vessel 01",
          "Vessel 01",
          "Vessel 01",
          null,
          "Vessel 01",
          "Vessel 01",
          "Vessel 01",
          "Vessel 01",
          null,
          "Vessel 01",
          "Vessel 01",
          "Vessel 01",
          "Vessel 01",
          null,
          "Vessel 01",
          "Vessel 01",
          "Vessel 01",
          "Vessel 01",
          null
         ]
        },
        {
         "connectgaps": false,
         "hoverinfo": "y+name",
         "line": {
          "color": "rgb(3,8,94)",
          "width": 10
         },
         "mode": "lines",
         "name": "09564ea3-ebab-4cc3-8738-d8eb242b5c20",
         "type": "scatter",
         "x": [
          "1970-01-01T00:17:42.824591",
          "1970-01-01T00:17:42.824591",
          "1970-01-01T00:19:42.824591",
          "1970-01-01T00:19:42.824591",
          "1970-01-01T00:19:42.824591",
          "1970-01-01T00:53:08.473774",
          "1970-01-01T00:53:08.473774",
          "1970-01-01T00:55:08.473774",
          "1970-01-01T00:55:08.473774",
          "1970-01-01T00:55:08.473774",
          "1970-01-01T01:28:34.122956",
          "1970-01-01T01:28:34.122956",
          "1970-01-01T01:30:34.122956",
          "1970-01-01T01:30:34.122956",
          "1970-01-01T01:30:34.122956",
          "1970-01-01T02:03:59.772139",
          "1970-01-01T02:03:59.772139",
          "1970-01-01T02:05:59.772139",
          "1970-01-01T02:05:59.772139",
          "1970-01-01T02:05:59.772139",
          "1970-01-01T02:39:25.421321",
          "1970-01-01T02:39:25.421321",
          "1970-01-01T02:41:25.421321",
          "1970-01-01T02:41:25.421321",
          "1970-01-01T02:41:25.421321",
          "1970-01-01T00:17:42.824591",
          "1970-01-01T00:17:42.824591",
          "1970-01-01T00:19:42.824591",
          "1970-01-01T00:19:42.824591",
          "1970-01-01T00:19:42.824591",
          "1970-01-01T00:17:42.824591",
          "1970-01-01T00:17:42.824591",
          "1970-01-01T00:19:42.824591",
          "1970-01-01T00:19:42.824591",
          "1970-01-01T00:19:42.824591",
          "1970-01-01T00:53:08.473774",
          "1970-01-01T00:53:08.473774",
          "1970-01-01T00:55:08.473774",
          "1970-01-01T00:55:08.473774",
          "1970-01-01T00:55:08.473774",
          "1970-01-01T00:53:08.473774",
          "1970-01-01T00:53:08.473774",
          "1970-01-01T00:55:08.473774",
          "1970-01-01T00:55:08.473774",
          "1970-01-01T00:55:08.473774",
          "1970-01-01T01:28:34.122956",
          "1970-01-01T01:28:34.122956",
          "1970-01-01T01:30:34.122956",
          "1970-01-01T01:30:34.122956",
          "1970-01-01T01:30:34.122956",
          "1970-01-01T01:28:34.122956",
          "1970-01-01T01:28:34.122956",
          "1970-01-01T01:30:34.122956",
          "1970-01-01T01:30:34.122956",
          "1970-01-01T01:30:34.122956",
          "1970-01-01T02:03:59.772139",
          "1970-01-01T02:03:59.772139",
          "1970-01-01T02:05:59.772139",
          "1970-01-01T02:05:59.772139",
          "1970-01-01T02:05:59.772139",
          "1970-01-01T02:03:59.772139",
          "1970-01-01T02:03:59.772139",
          "1970-01-01T02:05:59.772139",
          "1970-01-01T02:05:59.772139",
          "1970-01-01T02:05:59.772139",
          "1970-01-01T02:39:25.421321",
          "1970-01-01T02:39:25.421321",
          "1970-01-01T02:41:25.421321",
          "1970-01-01T02:41:25.421321",
          "1970-01-01T02:41:25.421321",
          "1970-01-01T02:39:25.421321",
          "1970-01-01T02:39:25.421321",
          "1970-01-01T02:41:25.421321",
          "1970-01-01T02:41:25.421321",
          "1970-01-01T02:41:25.421321"
         ],
         "y": [
          "Vessel 01",
          "Vessel 01",
          "Vessel 01",
          "Vessel 01",
          null,
          "Vessel 01",
          "Vessel 01",
          "Vessel 01",
          "Vessel 01",
          null,
          "Vessel 01",
          "Vessel 01",
          "Vessel 01",
          "Vessel 01",
          null,
          "Vessel 01",
          "Vessel 01",
          "Vessel 01",
          "Vessel 01",
          null,
          "Vessel 01",
          "Vessel 01",
          "Vessel 01",
          "Vessel 01",
          null,
          "Installer",
          "Installer",
          "Installer",
          "Installer",
          null,
          "Installer",
          "Installer",
          "Installer",
          "Installer",
          null,
          "Installer",
          "Installer",
          "Installer",
          "Installer",
          null,
          "Installer",
          "Installer",
          "Installer",
          "Installer",
          null,
          "Installer",
          "Installer",
          "Installer",
          "Installer",
          null,
          "Installer",
          "Installer",
          "Installer",
          "Installer",
          null,
          "Installer",
          "Installer",
          "Installer",
          "Installer",
          null,
          "Installer",
          "Installer",
          "Installer",
          "Installer",
          null,
          "Installer",
          "Installer",
          "Installer",
          "Installer",
          null,
          "Installer",
          "Installer",
          "Installer",
          "Installer",
          null
         ]
        },
        {
         "connectgaps": false,
         "hoverinfo": "y+name",
         "line": {
          "color": "rgb(26,31,117)",
          "width": 10
         },
         "mode": "lines",
         "name": "3ec5020a-32f5-4c3c-ae8f-67df98677a55",
         "type": "scatter",
         "x": [
          "1970-01-01T00:02:00",
          "1970-01-01T00:02:00",
          "1970-01-01T00:17:42.824591",
          "1970-01-01T00:17:42.824591",
          "1970-01-01T00:17:42.824591",
          "1970-01-01T00:37:25.649183",
          "1970-01-01T00:37:25.649183",
          "1970-01-01T00:53:08.473774",
          "1970-01-01T00:53:08.473774",
          "1970-01-01T00:53:08.473774",
          "1970-01-01T01:12:51.298365",
          "1970-01-01T01:12:51.298365",
          "1970-01-01T01:28:34.122956",
          "1970-01-01T01:28:34.122956",
          "1970-01-01T01:28:34.122956",
          "1970-01-01T01:48:16.947548",
          "1970-01-01T01:48:16.947548",
          "1970-01-01T02:03:59.772139",
          "1970-01-01T02:03:59.772139",
          "1970-01-01T02:03:59.772139",
          "1970-01-01T02:23:42.596730",
          "1970-01-01T02:23:42.596730",
          "1970-01-01T02:39:25.421321",
          "1970-01-01T02:39:25.421321",
          "1970-01-01T02:39:25.421321"
         ],
         "y": [
          "Vessel 01",
          "Vessel 01",
          "Vessel 01",
          "Vessel 01",
          null,
          "Vessel 01",
          "Vessel 01",
          "Vessel 01",
          "Vessel 01",
          null,
          "Vessel 01",
          "Vessel 01",
          "Vessel 01",
          "Vessel 01",
          null,
          "Vessel 01",
          "Vessel 01",
          "Vessel 01",
          "Vessel 01",
          null,
          "Vessel 01",
          "Vessel 01",
          "Vessel 01",
          "Vessel 01",
          null
         ]
        },
        {
         "connectgaps": false,
         "hoverinfo": "y+name",
         "line": {
          "color": "rgb(49,54,140)",
          "width": 10
         },
         "mode": "lines",
         "name": "26d7beba-321a-405e-aa0d-12a7ddcc8221",
         "type": "scatter",
         "x": [
          "1970-01-01T00:00:00",
          "1970-01-01T00:00:00",
          "1970-01-01T00:02:00",
          "1970-01-01T00:02:00",
          "1970-01-01T00:02:00",
          "1970-01-01T00:00:00",
          "1970-01-01T00:00:00",
          "1970-01-01T00:02:00",
          "1970-01-01T00:02:00",
          "1970-01-01T00:02:00",
          "1970-01-01T00:35:25.649183",
          "1970-01-01T00:35:25.649183",
          "1970-01-01T00:37:25.649183",
          "1970-01-01T00:37:25.649183",
          "1970-01-01T00:37:25.649183",
          "1970-01-01T00:35:25.649183",
          "1970-01-01T00:35:25.649183",
          "1970-01-01T00:37:25.649183",
          "1970-01-01T00:37:25.649183",
          "1970-01-01T00:37:25.649183",
          "1970-01-01T01:10:51.298365",
          "1970-01-01T01:10:51.298365",
          "1970-01-01T01:12:51.298365",
          "1970-01-01T01:12:51.298365",
          "1970-01-01T01:12:51.298365",
          "1970-01-01T01:10:51.298365",
          "1970-01-01T01:10:51.298365",
          "1970-01-01T01:12:51.298365",
          "1970-01-01T01:12:51.298365",
          "1970-01-01T01:12:51.298365",
          "1970-01-01T01:46:16.947548",
          "1970-01-01T01:46:16.947548",
          "1970-01-01T01:48:16.947548",
          "1970-01-01T01:48:16.947548",
          "1970-01-01T01:48:16.947548",
          "1970-01-01T01:46:16.947548",
          "1970-01-01T01:46:16.947548",
          "1970-01-01T01:48:16.947548",
          "1970-01-01T01:48:16.947548",
          "1970-01-01T01:48:16.947548",
          "1970-01-01T02:21:42.596730",
          "1970-01-01T02:21:42.596730",
          "1970-01-01T02:23:42.596730",
          "1970-01-01T02:23:42.596730",
          "1970-01-01T02:23:42.596730",
          "1970-01-01T02:21:42.596730",
          "1970-01-01T02:21:42.596730",
          "1970-01-01T02:23:42.596730",
          "1970-01-01T02:23:42.596730",
          "1970-01-01T02:23:42.596730",
          "1970-01-01T00:00:00",
          "1970-01-01T00:00:00",
          "1970-01-01T00:02:00",
          "1970-01-01T00:02:00",
          "1970-01-01T00:02:00",
          "1970-01-01T00:35:25.649183",
          "1970-01-01T00:35:25.649183",
          "1970-01-01T00:37:25.649183",
          "1970-01-01T00:37:25.649183",
          "1970-01-01T00:37:25.649183",
          "1970-01-01T01:10:51.298365",
          "1970-01-01T01:10:51.298365",
          "1970-01-01T01:12:51.298365",
          "1970-01-01T01:12:51.298365",
          "1970-01-01T01:12:51.298365",
          "1970-01-01T01:46:16.947548",
          "1970-01-01T01:46:16.947548",
          "1970-01-01T01:48:16.947548",
          "1970-01-01T01:48:16.947548",
          "1970-01-01T01:48:16.947548",
          "1970-01-01T02:21:42.596730",
          "1970-01-01T02:21:42.596730",
          "1970-01-01T02:23:42.596730",
          "1970-01-01T02:23:42.596730",
          "1970-01-01T02:23:42.596730"
         ],
         "y": [
          "Vessel 01",
          "Vessel 01",
          "Vessel 01",
          "Vessel 01",
          null,
          "Vessel 01",
          "Vessel 01",
          "Vessel 01",
          "Vessel 01",
          null,
          "Vessel 01",
          "Vessel 01",
          "Vessel 01",
          "Vessel 01",
          null,
          "Vessel 01",
          "Vessel 01",
          "Vessel 01",
          "Vessel 01",
          null,
          "Vessel 01",
          "Vessel 01",
          "Vessel 01",
          "Vessel 01",
          null,
          "Vessel 01",
          "Vessel 01",
          "Vessel 01",
          "Vessel 01",
          null,
          "Vessel 01",
          "Vessel 01",
          "Vessel 01",
          "Vessel 01",
          null,
          "Vessel 01",
          "Vessel 01",
          "Vessel 01",
          "Vessel 01",
          null,
          "Vessel 01",
          "Vessel 01",
          "Vessel 01",
          "Vessel 01",
          null,
          "Vessel 01",
          "Vessel 01",
          "Vessel 01",
          "Vessel 01",
          null,
          "Winlocatie",
          "Winlocatie",
          "Winlocatie",
          "Winlocatie",
          null,
          "Winlocatie",
          "Winlocatie",
          "Winlocatie",
          "Winlocatie",
          null,
          "Winlocatie",
          "Winlocatie",
          "Winlocatie",
          "Winlocatie",
          null,
          "Winlocatie",
          "Winlocatie",
          "Winlocatie",
          "Winlocatie",
          null,
          "Winlocatie",
          "Winlocatie",
          "Winlocatie",
          "Winlocatie",
          null
         ]
        },
        {
         "connectgaps": false,
         "hoverinfo": "y+name",
         "line": {
          "color": "rgb(72,77,163)",
          "width": 10
         },
         "mode": "lines",
         "name": "09564ea3-ebab-4cc3-8738-d8eb242b5c20",
         "type": "scatter",
         "x": [
          "1970-01-01T00:17:42.824591",
          "1970-01-01T00:17:42.824591",
          "1970-01-01T00:19:42.824591",
          "1970-01-01T00:19:42.824591",
          "1970-01-01T00:19:42.824591",
          "1970-01-01T00:53:08.473774",
          "1970-01-01T00:53:08.473774",
          "1970-01-01T00:55:08.473774",
          "1970-01-01T00:55:08.473774",
          "1970-01-01T00:55:08.473774",
          "1970-01-01T01:28:34.122956",
          "1970-01-01T01:28:34.122956",
          "1970-01-01T01:30:34.122956",
          "1970-01-01T01:30:34.122956",
          "1970-01-01T01:30:34.122956",
          "1970-01-01T02:03:59.772139",
          "1970-01-01T02:03:59.772139",
          "1970-01-01T02:05:59.772139",
          "1970-01-01T02:05:59.772139",
          "1970-01-01T02:05:59.772139",
          "1970-01-01T02:39:25.421321",
          "1970-01-01T02:39:25.421321",
          "1970-01-01T02:41:25.421321",
          "1970-01-01T02:41:25.421321",
          "1970-01-01T02:41:25.421321",
          "1970-01-01T00:17:42.824591",
          "1970-01-01T00:17:42.824591",
          "1970-01-01T00:19:42.824591",
          "1970-01-01T00:19:42.824591",
          "1970-01-01T00:19:42.824591",
          "1970-01-01T00:17:42.824591",
          "1970-01-01T00:17:42.824591",
          "1970-01-01T00:19:42.824591",
          "1970-01-01T00:19:42.824591",
          "1970-01-01T00:19:42.824591",
          "1970-01-01T00:53:08.473774",
          "1970-01-01T00:53:08.473774",
          "1970-01-01T00:55:08.473774",
          "1970-01-01T00:55:08.473774",
          "1970-01-01T00:55:08.473774",
          "1970-01-01T00:53:08.473774",
          "1970-01-01T00:53:08.473774",
          "1970-01-01T00:55:08.473774",
          "1970-01-01T00:55:08.473774",
          "1970-01-01T00:55:08.473774",
          "1970-01-01T01:28:34.122956",
          "1970-01-01T01:28:34.122956",
          "1970-01-01T01:30:34.122956",
          "1970-01-01T01:30:34.122956",
          "1970-01-01T01:30:34.122956",
          "1970-01-01T01:28:34.122956",
          "1970-01-01T01:28:34.122956",
          "1970-01-01T01:30:34.122956",
          "1970-01-01T01:30:34.122956",
          "1970-01-01T01:30:34.122956",
          "1970-01-01T02:03:59.772139",
          "1970-01-01T02:03:59.772139",
          "1970-01-01T02:05:59.772139",
          "1970-01-01T02:05:59.772139",
          "1970-01-01T02:05:59.772139",
          "1970-01-01T02:03:59.772139",
          "1970-01-01T02:03:59.772139",
          "1970-01-01T02:05:59.772139",
          "1970-01-01T02:05:59.772139",
          "1970-01-01T02:05:59.772139",
          "1970-01-01T02:39:25.421321",
          "1970-01-01T02:39:25.421321",
          "1970-01-01T02:41:25.421321",
          "1970-01-01T02:41:25.421321",
          "1970-01-01T02:41:25.421321",
          "1970-01-01T02:39:25.421321",
          "1970-01-01T02:39:25.421321",
          "1970-01-01T02:41:25.421321",
          "1970-01-01T02:41:25.421321",
          "1970-01-01T02:41:25.421321"
         ],
         "y": [
          "Vessel 01",
          "Vessel 01",
          "Vessel 01",
          "Vessel 01",
          null,
          "Vessel 01",
          "Vessel 01",
          "Vessel 01",
          "Vessel 01",
          null,
          "Vessel 01",
          "Vessel 01",
          "Vessel 01",
          "Vessel 01",
          null,
          "Vessel 01",
          "Vessel 01",
          "Vessel 01",
          "Vessel 01",
          null,
          "Vessel 01",
          "Vessel 01",
          "Vessel 01",
          "Vessel 01",
          null,
          "Installer",
          "Installer",
          "Installer",
          "Installer",
          null,
          "Installer",
          "Installer",
          "Installer",
          "Installer",
          null,
          "Installer",
          "Installer",
          "Installer",
          "Installer",
          null,
          "Installer",
          "Installer",
          "Installer",
          "Installer",
          null,
          "Installer",
          "Installer",
          "Installer",
          "Installer",
          null,
          "Installer",
          "Installer",
          "Installer",
          "Installer",
          null,
          "Installer",
          "Installer",
          "Installer",
          "Installer",
          null,
          "Installer",
          "Installer",
          "Installer",
          "Installer",
          null,
          "Installer",
          "Installer",
          "Installer",
          "Installer",
          null,
          "Installer",
          "Installer",
          "Installer",
          "Installer",
          null
         ]
        },
        {
         "connectgaps": false,
         "hoverinfo": "y+name",
         "line": {
          "color": "rgb(95,100,186)",
          "width": 10
         },
         "mode": "lines",
         "name": "d322625b-dded-4fd9-9a08-e900d5a7129e",
         "type": "scatter",
         "x": [
          "1970-01-01T00:15:42.824591",
          "1970-01-01T00:15:42.824591",
          "1970-01-01T00:16:12.824591",
          "1970-01-01T00:16:12.824591",
          "1970-01-01T00:16:12.824591",
          "1970-01-01T00:22:42.824591",
          "1970-01-01T00:22:42.824591",
          "1970-01-01T00:23:12.824591",
          "1970-01-01T00:23:12.824591",
          "1970-01-01T00:23:12.824591",
          "1970-01-01T00:58:08.473774",
          "1970-01-01T00:58:08.473774",
          "1970-01-01T00:58:38.473774",
          "1970-01-01T00:58:38.473774",
          "1970-01-01T00:58:38.473774",
          "1970-01-01T01:33:34.122956",
          "1970-01-01T01:33:34.122956",
          "1970-01-01T01:34:04.122956",
          "1970-01-01T01:34:04.122956",
          "1970-01-01T01:34:04.122956",
          "1970-01-01T02:08:59.772139",
          "1970-01-01T02:08:59.772139",
          "1970-01-01T02:09:29.772139",
          "1970-01-01T02:09:29.772139",
          "1970-01-01T02:09:29.772139"
         ],
         "y": [
          "Installer",
          "Installer",
          "Installer",
          "Installer",
          null,
          "Installer",
          "Installer",
          "Installer",
          "Installer",
          null,
          "Installer",
          "Installer",
          "Installer",
          "Installer",
          null,
          "Installer",
          "Installer",
          "Installer",
          "Installer",
          null,
          "Installer",
          "Installer",
          "Installer",
          "Installer",
          null
         ]
        },
        {
         "connectgaps": false,
         "hoverinfo": "y+name",
         "line": {
          "color": "rgb(118,123,209)",
          "width": 10
         },
         "mode": "lines",
         "name": "5cb67d4f-3bb9-4899-a367-827dcc64b2f3",
         "type": "scatter",
         "x": [
          "1970-01-01T00:16:12.824591",
          "1970-01-01T00:16:12.824591",
          "1970-01-01T00:19:42.824591",
          "1970-01-01T00:19:42.824591",
          "1970-01-01T00:19:42.824591",
          "1970-01-01T00:19:42.824591",
          "1970-01-01T00:19:42.824591",
          "1970-01-01T00:20:42.824591",
          "1970-01-01T00:20:42.824591",
          "1970-01-01T00:20:42.824591",
          "1970-01-01T00:23:12.824591",
          "1970-01-01T00:23:12.824591",
          "1970-01-01T00:55:08.473774",
          "1970-01-01T00:55:08.473774",
          "1970-01-01T00:55:08.473774",
          "1970-01-01T00:55:08.473774",
          "1970-01-01T00:55:08.473774",
          "1970-01-01T00:56:08.473774",
          "1970-01-01T00:56:08.473774",
          "1970-01-01T00:56:08.473774",
          "1970-01-01T00:58:38.473774",
          "1970-01-01T00:58:38.473774",
          "1970-01-01T01:30:34.122956",
          "1970-01-01T01:30:34.122956",
          "1970-01-01T01:30:34.122956",
          "1970-01-01T01:30:34.122956",
          "1970-01-01T01:30:34.122956",
          "1970-01-01T01:31:34.122956",
          "1970-01-01T01:31:34.122956",
          "1970-01-01T01:31:34.122956",
          "1970-01-01T01:34:04.122956",
          "1970-01-01T01:34:04.122956",
          "1970-01-01T02:05:59.772139",
          "1970-01-01T02:05:59.772139",
          "1970-01-01T02:05:59.772139",
          "1970-01-01T02:05:59.772139",
          "1970-01-01T02:05:59.772139",
          "1970-01-01T02:06:59.772139",
          "1970-01-01T02:06:59.772139",
          "1970-01-01T02:06:59.772139",
          "1970-01-01T02:09:29.772139",
          "1970-01-01T02:09:29.772139",
          "1970-01-01T02:41:25.421321",
          "1970-01-01T02:41:25.421321",
          "1970-01-01T02:41:25.421321",
          "1970-01-01T02:41:25.421321",
          "1970-01-01T02:41:25.421321",
          "1970-01-01T02:42:25.421321",
          "1970-01-01T02:42:25.421321",
          "1970-01-01T02:42:25.421321"
         ],
         "y": [
          "Installer",
          "Installer",
          "Installer",
          "Installer",
          null,
          "Installer",
          "Installer",
          "Installer",
          "Installer",
          null,
          "Installer",
          "Installer",
          "Installer",
          "Installer",
          null,
          "Installer",
          "Installer",
          "Installer",
          "Installer",
          null,
          "Installer",
          "Installer",
          "Installer",
          "Installer",
          null,
          "Installer",
          "Installer",
          "Installer",
          "Installer",
          null,
          "Installer",
          "Installer",
          "Installer",
          "Installer",
          null,
          "Installer",
          "Installer",
          "Installer",
          "Installer",
          null,
          "Installer",
          "Installer",
          "Installer",
          "Installer",
          null,
          "Installer",
          "Installer",
          "Installer",
          "Installer",
          null
         ]
        },
        {
         "connectgaps": false,
         "hoverinfo": "y+name",
         "line": {
          "color": "rgb(141,146,232)",
          "width": 10
         },
         "mode": "lines",
         "name": "e8b19fb3-9429-4d31-9843-b3ef9594b387",
         "type": "scatter",
         "x": [
          "1970-01-01T00:20:42.824591",
          "1970-01-01T00:20:42.824591",
          "1970-01-01T00:22:42.824591",
          "1970-01-01T00:22:42.824591",
          "1970-01-01T00:22:42.824591",
          "1970-01-01T00:20:42.824591",
          "1970-01-01T00:20:42.824591",
          "1970-01-01T00:22:42.824591",
          "1970-01-01T00:22:42.824591",
          "1970-01-01T00:22:42.824591",
          "1970-01-01T00:56:08.473774",
          "1970-01-01T00:56:08.473774",
          "1970-01-01T00:58:08.473774",
          "1970-01-01T00:58:08.473774",
          "1970-01-01T00:58:08.473774",
          "1970-01-01T00:56:08.473774",
          "1970-01-01T00:56:08.473774",
          "1970-01-01T00:58:08.473774",
          "1970-01-01T00:58:08.473774",
          "1970-01-01T00:58:08.473774",
          "1970-01-01T01:31:34.122956",
          "1970-01-01T01:31:34.122956",
          "1970-01-01T01:33:34.122956",
          "1970-01-01T01:33:34.122956",
          "1970-01-01T01:33:34.122956",
          "1970-01-01T01:31:34.122956",
          "1970-01-01T01:31:34.122956",
          "1970-01-01T01:33:34.122956",
          "1970-01-01T01:33:34.122956",
          "1970-01-01T01:33:34.122956",
          "1970-01-01T02:06:59.772139",
          "1970-01-01T02:06:59.772139",
          "1970-01-01T02:08:59.772139",
          "1970-01-01T02:08:59.772139",
          "1970-01-01T02:08:59.772139",
          "1970-01-01T02:06:59.772139",
          "1970-01-01T02:06:59.772139",
          "1970-01-01T02:08:59.772139",
          "1970-01-01T02:08:59.772139",
          "1970-01-01T02:08:59.772139",
          "1970-01-01T02:42:25.421321",
          "1970-01-01T02:42:25.421321",
          "1970-01-01T02:44:25.421321",
          "1970-01-01T02:44:25.421321",
          "1970-01-01T02:44:25.421321",
          "1970-01-01T02:42:25.421321",
          "1970-01-01T02:42:25.421321",
          "1970-01-01T02:44:25.421321",
          "1970-01-01T02:44:25.421321",
          "1970-01-01T02:44:25.421321",
          "1970-01-01T00:20:42.824591",
          "1970-01-01T00:20:42.824591",
          "1970-01-01T00:22:42.824591",
          "1970-01-01T00:22:42.824591",
          "1970-01-01T00:22:42.824591",
          "1970-01-01T00:56:08.473774",
          "1970-01-01T00:56:08.473774",
          "1970-01-01T00:58:08.473774",
          "1970-01-01T00:58:08.473774",
          "1970-01-01T00:58:08.473774",
          "1970-01-01T01:31:34.122956",
          "1970-01-01T01:31:34.122956",
          "1970-01-01T01:33:34.122956",
          "1970-01-01T01:33:34.122956",
          "1970-01-01T01:33:34.122956",
          "1970-01-01T02:06:59.772139",
          "1970-01-01T02:06:59.772139",
          "1970-01-01T02:08:59.772139",
          "1970-01-01T02:08:59.772139",
          "1970-01-01T02:08:59.772139",
          "1970-01-01T02:42:25.421321",
          "1970-01-01T02:42:25.421321",
          "1970-01-01T02:44:25.421321",
          "1970-01-01T02:44:25.421321",
          "1970-01-01T02:44:25.421321"
         ],
         "y": [
          "Installer",
          "Installer",
          "Installer",
          "Installer",
          null,
          "Installer",
          "Installer",
          "Installer",
          "Installer",
          null,
          "Installer",
          "Installer",
          "Installer",
          "Installer",
          null,
          "Installer",
          "Installer",
          "Installer",
          "Installer",
          null,
          "Installer",
          "Installer",
          "Installer",
          "Installer",
          null,
          "Installer",
          "Installer",
          "Installer",
          "Installer",
          null,
          "Installer",
          "Installer",
          "Installer",
          "Installer",
          null,
          "Installer",
          "Installer",
          "Installer",
          "Installer",
          null,
          "Installer",
          "Installer",
          "Installer",
          "Installer",
          null,
          "Installer",
          "Installer",
          "Installer",
          "Installer",
          null,
          "Dumplocatie",
          "Dumplocatie",
          "Dumplocatie",
          "Dumplocatie",
          null,
          "Dumplocatie",
          "Dumplocatie",
          "Dumplocatie",
          "Dumplocatie",
          null,
          "Dumplocatie",
          "Dumplocatie",
          "Dumplocatie",
          "Dumplocatie",
          null,
          "Dumplocatie",
          "Dumplocatie",
          "Dumplocatie",
          "Dumplocatie",
          null,
          "Dumplocatie",
          "Dumplocatie",
          "Dumplocatie",
          "Dumplocatie",
          null
         ]
        },
        {
         "connectgaps": false,
         "hoverinfo": "y+name",
         "line": {
          "color": "rgb(164,169,255)",
          "width": 10
         },
         "mode": "lines",
         "name": "74700872-c049-4729-a1a1-85432edae6ba",
         "type": "scatter",
         "x": [
          "1970-01-01T00:00:00",
          "1970-01-01T00:00:00",
          "1970-01-01T00:15:42.824591",
          "1970-01-01T00:15:42.824591",
          "1970-01-01T00:15:42.824591"
         ],
         "y": [
          "Installer",
          "Installer",
          "Installer",
          "Installer",
          null
         ]
        },
        {
         "connectgaps": false,
         "hoverinfo": "y+name",
         "line": {
          "color": "rgb(187,192,22)",
          "width": 10
         },
         "mode": "lines",
         "name": "26d7beba-321a-405e-aa0d-12a7ddcc8221",
         "type": "scatter",
         "x": [
          "1970-01-01T00:00:00",
          "1970-01-01T00:00:00",
          "1970-01-01T00:02:00",
          "1970-01-01T00:02:00",
          "1970-01-01T00:02:00",
          "1970-01-01T00:00:00",
          "1970-01-01T00:00:00",
          "1970-01-01T00:02:00",
          "1970-01-01T00:02:00",
          "1970-01-01T00:02:00",
          "1970-01-01T00:35:25.649183",
          "1970-01-01T00:35:25.649183",
          "1970-01-01T00:37:25.649183",
          "1970-01-01T00:37:25.649183",
          "1970-01-01T00:37:25.649183",
          "1970-01-01T00:35:25.649183",
          "1970-01-01T00:35:25.649183",
          "1970-01-01T00:37:25.649183",
          "1970-01-01T00:37:25.649183",
          "1970-01-01T00:37:25.649183",
          "1970-01-01T01:10:51.298365",
          "1970-01-01T01:10:51.298365",
          "1970-01-01T01:12:51.298365",
          "1970-01-01T01:12:51.298365",
          "1970-01-01T01:12:51.298365",
          "1970-01-01T01:10:51.298365",
          "1970-01-01T01:10:51.298365",
          "1970-01-01T01:12:51.298365",
          "1970-01-01T01:12:51.298365",
          "1970-01-01T01:12:51.298365",
          "1970-01-01T01:46:16.947548",
          "1970-01-01T01:46:16.947548",
          "1970-01-01T01:48:16.947548",
          "1970-01-01T01:48:16.947548",
          "1970-01-01T01:48:16.947548",
          "1970-01-01T01:46:16.947548",
          "1970-01-01T01:46:16.947548",
          "1970-01-01T01:48:16.947548",
          "1970-01-01T01:48:16.947548",
          "1970-01-01T01:48:16.947548",
          "1970-01-01T02:21:42.596730",
          "1970-01-01T02:21:42.596730",
          "1970-01-01T02:23:42.596730",
          "1970-01-01T02:23:42.596730",
          "1970-01-01T02:23:42.596730",
          "1970-01-01T02:21:42.596730",
          "1970-01-01T02:21:42.596730",
          "1970-01-01T02:23:42.596730",
          "1970-01-01T02:23:42.596730",
          "1970-01-01T02:23:42.596730",
          "1970-01-01T00:00:00",
          "1970-01-01T00:00:00",
          "1970-01-01T00:02:00",
          "1970-01-01T00:02:00",
          "1970-01-01T00:02:00",
          "1970-01-01T00:35:25.649183",
          "1970-01-01T00:35:25.649183",
          "1970-01-01T00:37:25.649183",
          "1970-01-01T00:37:25.649183",
          "1970-01-01T00:37:25.649183",
          "1970-01-01T01:10:51.298365",
          "1970-01-01T01:10:51.298365",
          "1970-01-01T01:12:51.298365",
          "1970-01-01T01:12:51.298365",
          "1970-01-01T01:12:51.298365",
          "1970-01-01T01:46:16.947548",
          "1970-01-01T01:46:16.947548",
          "1970-01-01T01:48:16.947548",
          "1970-01-01T01:48:16.947548",
          "1970-01-01T01:48:16.947548",
          "1970-01-01T02:21:42.596730",
          "1970-01-01T02:21:42.596730",
          "1970-01-01T02:23:42.596730",
          "1970-01-01T02:23:42.596730",
          "1970-01-01T02:23:42.596730"
         ],
         "y": [
          "Vessel 01",
          "Vessel 01",
          "Vessel 01",
          "Vessel 01",
          null,
          "Vessel 01",
          "Vessel 01",
          "Vessel 01",
          "Vessel 01",
          null,
          "Vessel 01",
          "Vessel 01",
          "Vessel 01",
          "Vessel 01",
          null,
          "Vessel 01",
          "Vessel 01",
          "Vessel 01",
          "Vessel 01",
          null,
          "Vessel 01",
          "Vessel 01",
          "Vessel 01",
          "Vessel 01",
          null,
          "Vessel 01",
          "Vessel 01",
          "Vessel 01",
          "Vessel 01",
          null,
          "Vessel 01",
          "Vessel 01",
          "Vessel 01",
          "Vessel 01",
          null,
          "Vessel 01",
          "Vessel 01",
          "Vessel 01",
          "Vessel 01",
          null,
          "Vessel 01",
          "Vessel 01",
          "Vessel 01",
          "Vessel 01",
          null,
          "Vessel 01",
          "Vessel 01",
          "Vessel 01",
          "Vessel 01",
          null,
          "Winlocatie",
          "Winlocatie",
          "Winlocatie",
          "Winlocatie",
          null,
          "Winlocatie",
          "Winlocatie",
          "Winlocatie",
          "Winlocatie",
          null,
          "Winlocatie",
          "Winlocatie",
          "Winlocatie",
          "Winlocatie",
          null,
          "Winlocatie",
          "Winlocatie",
          "Winlocatie",
          "Winlocatie",
          null,
          "Winlocatie",
          "Winlocatie",
          "Winlocatie",
          "Winlocatie",
          null
         ]
        },
        {
         "connectgaps": false,
         "hoverinfo": "y+name",
         "line": {
          "color": "rgb(210,215,45)",
          "width": 10
         },
         "mode": "lines",
         "name": "e8b19fb3-9429-4d31-9843-b3ef9594b387",
         "type": "scatter",
         "x": [
          "1970-01-01T00:20:42.824591",
          "1970-01-01T00:20:42.824591",
          "1970-01-01T00:22:42.824591",
          "1970-01-01T00:22:42.824591",
          "1970-01-01T00:22:42.824591",
          "1970-01-01T00:20:42.824591",
          "1970-01-01T00:20:42.824591",
          "1970-01-01T00:22:42.824591",
          "1970-01-01T00:22:42.824591",
          "1970-01-01T00:22:42.824591",
          "1970-01-01T00:56:08.473774",
          "1970-01-01T00:56:08.473774",
          "1970-01-01T00:58:08.473774",
          "1970-01-01T00:58:08.473774",
          "1970-01-01T00:58:08.473774",
          "1970-01-01T00:56:08.473774",
          "1970-01-01T00:56:08.473774",
          "1970-01-01T00:58:08.473774",
          "1970-01-01T00:58:08.473774",
          "1970-01-01T00:58:08.473774",
          "1970-01-01T01:31:34.122956",
          "1970-01-01T01:31:34.122956",
          "1970-01-01T01:33:34.122956",
          "1970-01-01T01:33:34.122956",
          "1970-01-01T01:33:34.122956",
          "1970-01-01T01:31:34.122956",
          "1970-01-01T01:31:34.122956",
          "1970-01-01T01:33:34.122956",
          "1970-01-01T01:33:34.122956",
          "1970-01-01T01:33:34.122956",
          "1970-01-01T02:06:59.772139",
          "1970-01-01T02:06:59.772139",
          "1970-01-01T02:08:59.772139",
          "1970-01-01T02:08:59.772139",
          "1970-01-01T02:08:59.772139",
          "1970-01-01T02:06:59.772139",
          "1970-01-01T02:06:59.772139",
          "1970-01-01T02:08:59.772139",
          "1970-01-01T02:08:59.772139",
          "1970-01-01T02:08:59.772139",
          "1970-01-01T02:42:25.421321",
          "1970-01-01T02:42:25.421321",
          "1970-01-01T02:44:25.421321",
          "1970-01-01T02:44:25.421321",
          "1970-01-01T02:44:25.421321",
          "1970-01-01T02:42:25.421321",
          "1970-01-01T02:42:25.421321",
          "1970-01-01T02:44:25.421321",
          "1970-01-01T02:44:25.421321",
          "1970-01-01T02:44:25.421321",
          "1970-01-01T00:20:42.824591",
          "1970-01-01T00:20:42.824591",
          "1970-01-01T00:22:42.824591",
          "1970-01-01T00:22:42.824591",
          "1970-01-01T00:22:42.824591",
          "1970-01-01T00:56:08.473774",
          "1970-01-01T00:56:08.473774",
          "1970-01-01T00:58:08.473774",
          "1970-01-01T00:58:08.473774",
          "1970-01-01T00:58:08.473774",
          "1970-01-01T01:31:34.122956",
          "1970-01-01T01:31:34.122956",
          "1970-01-01T01:33:34.122956",
          "1970-01-01T01:33:34.122956",
          "1970-01-01T01:33:34.122956",
          "1970-01-01T02:06:59.772139",
          "1970-01-01T02:06:59.772139",
          "1970-01-01T02:08:59.772139",
          "1970-01-01T02:08:59.772139",
          "1970-01-01T02:08:59.772139",
          "1970-01-01T02:42:25.421321",
          "1970-01-01T02:42:25.421321",
          "1970-01-01T02:44:25.421321",
          "1970-01-01T02:44:25.421321",
          "1970-01-01T02:44:25.421321"
         ],
         "y": [
          "Installer",
          "Installer",
          "Installer",
          "Installer",
          null,
          "Installer",
          "Installer",
          "Installer",
          "Installer",
          null,
          "Installer",
          "Installer",
          "Installer",
          "Installer",
          null,
          "Installer",
          "Installer",
          "Installer",
          "Installer",
          null,
          "Installer",
          "Installer",
          "Installer",
          "Installer",
          null,
          "Installer",
          "Installer",
          "Installer",
          "Installer",
          null,
          "Installer",
          "Installer",
          "Installer",
          "Installer",
          null,
          "Installer",
          "Installer",
          "Installer",
          "Installer",
          null,
          "Installer",
          "Installer",
          "Installer",
          "Installer",
          null,
          "Installer",
          "Installer",
          "Installer",
          "Installer",
          null,
          "Dumplocatie",
          "Dumplocatie",
          "Dumplocatie",
          "Dumplocatie",
          null,
          "Dumplocatie",
          "Dumplocatie",
          "Dumplocatie",
          "Dumplocatie",
          null,
          "Dumplocatie",
          "Dumplocatie",
          "Dumplocatie",
          "Dumplocatie",
          null,
          "Dumplocatie",
          "Dumplocatie",
          "Dumplocatie",
          "Dumplocatie",
          null,
          "Dumplocatie",
          "Dumplocatie",
          "Dumplocatie",
          "Dumplocatie",
          null
         ]
        }
       ],
       "layout": {
        "hovermode": "closest",
        "legend": {
         "orientation": "h",
         "x": 0,
         "y": -0.2
        },
        "template": {
         "data": {
          "bar": [
           {
            "error_x": {
             "color": "#2a3f5f"
            },
            "error_y": {
             "color": "#2a3f5f"
            },
            "marker": {
             "line": {
              "color": "#E5ECF6",
              "width": 0.5
             }
            },
            "type": "bar"
           }
          ],
          "barpolar": [
           {
            "marker": {
             "line": {
              "color": "#E5ECF6",
              "width": 0.5
             }
            },
            "type": "barpolar"
           }
          ],
          "carpet": [
           {
            "aaxis": {
             "endlinecolor": "#2a3f5f",
             "gridcolor": "white",
             "linecolor": "white",
             "minorgridcolor": "white",
             "startlinecolor": "#2a3f5f"
            },
            "baxis": {
             "endlinecolor": "#2a3f5f",
             "gridcolor": "white",
             "linecolor": "white",
             "minorgridcolor": "white",
             "startlinecolor": "#2a3f5f"
            },
            "type": "carpet"
           }
          ],
          "choropleth": [
           {
            "colorbar": {
             "outlinewidth": 0,
             "ticks": ""
            },
            "type": "choropleth"
           }
          ],
          "contour": [
           {
            "colorbar": {
             "outlinewidth": 0,
             "ticks": ""
            },
            "colorscale": [
             [
              0,
              "#0d0887"
             ],
             [
              0.1111111111111111,
              "#46039f"
             ],
             [
              0.2222222222222222,
              "#7201a8"
             ],
             [
              0.3333333333333333,
              "#9c179e"
             ],
             [
              0.4444444444444444,
              "#bd3786"
             ],
             [
              0.5555555555555556,
              "#d8576b"
             ],
             [
              0.6666666666666666,
              "#ed7953"
             ],
             [
              0.7777777777777778,
              "#fb9f3a"
             ],
             [
              0.8888888888888888,
              "#fdca26"
             ],
             [
              1,
              "#f0f921"
             ]
            ],
            "type": "contour"
           }
          ],
          "contourcarpet": [
           {
            "colorbar": {
             "outlinewidth": 0,
             "ticks": ""
            },
            "type": "contourcarpet"
           }
          ],
          "heatmap": [
           {
            "colorbar": {
             "outlinewidth": 0,
             "ticks": ""
            },
            "colorscale": [
             [
              0,
              "#0d0887"
             ],
             [
              0.1111111111111111,
              "#46039f"
             ],
             [
              0.2222222222222222,
              "#7201a8"
             ],
             [
              0.3333333333333333,
              "#9c179e"
             ],
             [
              0.4444444444444444,
              "#bd3786"
             ],
             [
              0.5555555555555556,
              "#d8576b"
             ],
             [
              0.6666666666666666,
              "#ed7953"
             ],
             [
              0.7777777777777778,
              "#fb9f3a"
             ],
             [
              0.8888888888888888,
              "#fdca26"
             ],
             [
              1,
              "#f0f921"
             ]
            ],
            "type": "heatmap"
           }
          ],
          "heatmapgl": [
           {
            "colorbar": {
             "outlinewidth": 0,
             "ticks": ""
            },
            "colorscale": [
             [
              0,
              "#0d0887"
             ],
             [
              0.1111111111111111,
              "#46039f"
             ],
             [
              0.2222222222222222,
              "#7201a8"
             ],
             [
              0.3333333333333333,
              "#9c179e"
             ],
             [
              0.4444444444444444,
              "#bd3786"
             ],
             [
              0.5555555555555556,
              "#d8576b"
             ],
             [
              0.6666666666666666,
              "#ed7953"
             ],
             [
              0.7777777777777778,
              "#fb9f3a"
             ],
             [
              0.8888888888888888,
              "#fdca26"
             ],
             [
              1,
              "#f0f921"
             ]
            ],
            "type": "heatmapgl"
           }
          ],
          "histogram": [
           {
            "marker": {
             "colorbar": {
              "outlinewidth": 0,
              "ticks": ""
             }
            },
            "type": "histogram"
           }
          ],
          "histogram2d": [
           {
            "colorbar": {
             "outlinewidth": 0,
             "ticks": ""
            },
            "colorscale": [
             [
              0,
              "#0d0887"
             ],
             [
              0.1111111111111111,
              "#46039f"
             ],
             [
              0.2222222222222222,
              "#7201a8"
             ],
             [
              0.3333333333333333,
              "#9c179e"
             ],
             [
              0.4444444444444444,
              "#bd3786"
             ],
             [
              0.5555555555555556,
              "#d8576b"
             ],
             [
              0.6666666666666666,
              "#ed7953"
             ],
             [
              0.7777777777777778,
              "#fb9f3a"
             ],
             [
              0.8888888888888888,
              "#fdca26"
             ],
             [
              1,
              "#f0f921"
             ]
            ],
            "type": "histogram2d"
           }
          ],
          "histogram2dcontour": [
           {
            "colorbar": {
             "outlinewidth": 0,
             "ticks": ""
            },
            "colorscale": [
             [
              0,
              "#0d0887"
             ],
             [
              0.1111111111111111,
              "#46039f"
             ],
             [
              0.2222222222222222,
              "#7201a8"
             ],
             [
              0.3333333333333333,
              "#9c179e"
             ],
             [
              0.4444444444444444,
              "#bd3786"
             ],
             [
              0.5555555555555556,
              "#d8576b"
             ],
             [
              0.6666666666666666,
              "#ed7953"
             ],
             [
              0.7777777777777778,
              "#fb9f3a"
             ],
             [
              0.8888888888888888,
              "#fdca26"
             ],
             [
              1,
              "#f0f921"
             ]
            ],
            "type": "histogram2dcontour"
           }
          ],
          "mesh3d": [
           {
            "colorbar": {
             "outlinewidth": 0,
             "ticks": ""
            },
            "type": "mesh3d"
           }
          ],
          "parcoords": [
           {
            "line": {
             "colorbar": {
              "outlinewidth": 0,
              "ticks": ""
             }
            },
            "type": "parcoords"
           }
          ],
          "pie": [
           {
            "automargin": true,
            "type": "pie"
           }
          ],
          "scatter": [
           {
            "marker": {
             "colorbar": {
              "outlinewidth": 0,
              "ticks": ""
             }
            },
            "type": "scatter"
           }
          ],
          "scatter3d": [
           {
            "line": {
             "colorbar": {
              "outlinewidth": 0,
              "ticks": ""
             }
            },
            "marker": {
             "colorbar": {
              "outlinewidth": 0,
              "ticks": ""
             }
            },
            "type": "scatter3d"
           }
          ],
          "scattercarpet": [
           {
            "marker": {
             "colorbar": {
              "outlinewidth": 0,
              "ticks": ""
             }
            },
            "type": "scattercarpet"
           }
          ],
          "scattergeo": [
           {
            "marker": {
             "colorbar": {
              "outlinewidth": 0,
              "ticks": ""
             }
            },
            "type": "scattergeo"
           }
          ],
          "scattergl": [
           {
            "marker": {
             "colorbar": {
              "outlinewidth": 0,
              "ticks": ""
             }
            },
            "type": "scattergl"
           }
          ],
          "scattermapbox": [
           {
            "marker": {
             "colorbar": {
              "outlinewidth": 0,
              "ticks": ""
             }
            },
            "type": "scattermapbox"
           }
          ],
          "scatterpolar": [
           {
            "marker": {
             "colorbar": {
              "outlinewidth": 0,
              "ticks": ""
             }
            },
            "type": "scatterpolar"
           }
          ],
          "scatterpolargl": [
           {
            "marker": {
             "colorbar": {
              "outlinewidth": 0,
              "ticks": ""
             }
            },
            "type": "scatterpolargl"
           }
          ],
          "scatterternary": [
           {
            "marker": {
             "colorbar": {
              "outlinewidth": 0,
              "ticks": ""
             }
            },
            "type": "scatterternary"
           }
          ],
          "surface": [
           {
            "colorbar": {
             "outlinewidth": 0,
             "ticks": ""
            },
            "colorscale": [
             [
              0,
              "#0d0887"
             ],
             [
              0.1111111111111111,
              "#46039f"
             ],
             [
              0.2222222222222222,
              "#7201a8"
             ],
             [
              0.3333333333333333,
              "#9c179e"
             ],
             [
              0.4444444444444444,
              "#bd3786"
             ],
             [
              0.5555555555555556,
              "#d8576b"
             ],
             [
              0.6666666666666666,
              "#ed7953"
             ],
             [
              0.7777777777777778,
              "#fb9f3a"
             ],
             [
              0.8888888888888888,
              "#fdca26"
             ],
             [
              1,
              "#f0f921"
             ]
            ],
            "type": "surface"
           }
          ],
          "table": [
           {
            "cells": {
             "fill": {
              "color": "#EBF0F8"
             },
             "line": {
              "color": "white"
             }
            },
            "header": {
             "fill": {
              "color": "#C8D4E3"
             },
             "line": {
              "color": "white"
             }
            },
            "type": "table"
           }
          ]
         },
         "layout": {
          "annotationdefaults": {
           "arrowcolor": "#2a3f5f",
           "arrowhead": 0,
           "arrowwidth": 1
          },
          "coloraxis": {
           "colorbar": {
            "outlinewidth": 0,
            "ticks": ""
           }
          },
          "colorscale": {
           "diverging": [
            [
             0,
             "#8e0152"
            ],
            [
             0.1,
             "#c51b7d"
            ],
            [
             0.2,
             "#de77ae"
            ],
            [
             0.3,
             "#f1b6da"
            ],
            [
             0.4,
             "#fde0ef"
            ],
            [
             0.5,
             "#f7f7f7"
            ],
            [
             0.6,
             "#e6f5d0"
            ],
            [
             0.7,
             "#b8e186"
            ],
            [
             0.8,
             "#7fbc41"
            ],
            [
             0.9,
             "#4d9221"
            ],
            [
             1,
             "#276419"
            ]
           ],
           "sequential": [
            [
             0,
             "#0d0887"
            ],
            [
             0.1111111111111111,
             "#46039f"
            ],
            [
             0.2222222222222222,
             "#7201a8"
            ],
            [
             0.3333333333333333,
             "#9c179e"
            ],
            [
             0.4444444444444444,
             "#bd3786"
            ],
            [
             0.5555555555555556,
             "#d8576b"
            ],
            [
             0.6666666666666666,
             "#ed7953"
            ],
            [
             0.7777777777777778,
             "#fb9f3a"
            ],
            [
             0.8888888888888888,
             "#fdca26"
            ],
            [
             1,
             "#f0f921"
            ]
           ],
           "sequentialminus": [
            [
             0,
             "#0d0887"
            ],
            [
             0.1111111111111111,
             "#46039f"
            ],
            [
             0.2222222222222222,
             "#7201a8"
            ],
            [
             0.3333333333333333,
             "#9c179e"
            ],
            [
             0.4444444444444444,
             "#bd3786"
            ],
            [
             0.5555555555555556,
             "#d8576b"
            ],
            [
             0.6666666666666666,
             "#ed7953"
            ],
            [
             0.7777777777777778,
             "#fb9f3a"
            ],
            [
             0.8888888888888888,
             "#fdca26"
            ],
            [
             1,
             "#f0f921"
            ]
           ]
          },
          "colorway": [
           "#636efa",
           "#EF553B",
           "#00cc96",
           "#ab63fa",
           "#FFA15A",
           "#19d3f3",
           "#FF6692",
           "#B6E880",
           "#FF97FF",
           "#FECB52"
          ],
          "font": {
           "color": "#2a3f5f"
          },
          "geo": {
           "bgcolor": "white",
           "lakecolor": "white",
           "landcolor": "#E5ECF6",
           "showlakes": true,
           "showland": true,
           "subunitcolor": "white"
          },
          "hoverlabel": {
           "align": "left"
          },
          "hovermode": "closest",
          "mapbox": {
           "style": "light"
          },
          "paper_bgcolor": "white",
          "plot_bgcolor": "#E5ECF6",
          "polar": {
           "angularaxis": {
            "gridcolor": "white",
            "linecolor": "white",
            "ticks": ""
           },
           "bgcolor": "#E5ECF6",
           "radialaxis": {
            "gridcolor": "white",
            "linecolor": "white",
            "ticks": ""
           }
          },
          "scene": {
           "xaxis": {
            "backgroundcolor": "#E5ECF6",
            "gridcolor": "white",
            "gridwidth": 2,
            "linecolor": "white",
            "showbackground": true,
            "ticks": "",
            "zerolinecolor": "white"
           },
           "yaxis": {
            "backgroundcolor": "#E5ECF6",
            "gridcolor": "white",
            "gridwidth": 2,
            "linecolor": "white",
            "showbackground": true,
            "ticks": "",
            "zerolinecolor": "white"
           },
           "zaxis": {
            "backgroundcolor": "#E5ECF6",
            "gridcolor": "white",
            "gridwidth": 2,
            "linecolor": "white",
            "showbackground": true,
            "ticks": "",
            "zerolinecolor": "white"
           }
          },
          "shapedefaults": {
           "line": {
            "color": "#2a3f5f"
           }
          },
          "ternary": {
           "aaxis": {
            "gridcolor": "white",
            "linecolor": "white",
            "ticks": ""
           },
           "baxis": {
            "gridcolor": "white",
            "linecolor": "white",
            "ticks": ""
           },
           "bgcolor": "#E5ECF6",
           "caxis": {
            "gridcolor": "white",
            "linecolor": "white",
            "ticks": ""
           }
          },
          "title": {
           "x": 0.05
          },
          "xaxis": {
           "automargin": true,
           "gridcolor": "white",
           "linecolor": "white",
           "ticks": "",
           "title": {
            "standoff": 15
           },
           "zerolinecolor": "white",
           "zerolinewidth": 2
          },
          "yaxis": {
           "automargin": true,
           "gridcolor": "white",
           "linecolor": "white",
           "ticks": "",
           "title": {
            "standoff": 15
           },
           "zerolinecolor": "white",
           "zerolinewidth": 2
          }
         }
        },
        "title": {
         "text": "Vessel planning"
        },
        "xaxis": {
         "range": [
          "1970-01-01T00:00:00",
          "1970-01-01T02:44:25.421321"
         ],
         "title": {
          "font": {
           "color": "#7f7f7f",
           "family": "Courier New, monospace",
           "size": 18
          },
          "text": "Time"
         }
        },
        "yaxis": {
         "title": {
          "font": {
           "color": "#7f7f7f",
           "family": "Courier New, monospace",
           "size": 18
          },
          "text": "Vessels"
         }
        }
       }
      },
      "text/html": [
       "<div>                            <div id=\"4306b0d1-0b1d-4341-80a1-710b176a3150\" class=\"plotly-graph-div\" style=\"height:525px; width:100%;\"></div>            <script type=\"text/javascript\">                require([\"plotly\"], function(Plotly) {                    window.PLOTLYENV=window.PLOTLYENV || {};                                    if (document.getElementById(\"4306b0d1-0b1d-4341-80a1-710b176a3150\")) {                    Plotly.newPlot(                        \"4306b0d1-0b1d-4341-80a1-710b176a3150\",                        [{\"connectgaps\": false, \"hoverinfo\": \"y+name\", \"line\": {\"color\": \"rgb(236,241,71)\", \"width\": 10}, \"mode\": \"lines\", \"name\": \"4869a803-2c3d-41b0-9ac1-2d5aa2682a7c\", \"type\": \"scatter\", \"x\": [\"1970-01-01T00:00:00\", \"1970-01-01T00:00:00\", \"1970-01-01T00:00:00\", \"1970-01-01T00:00:00\", \"1970-01-01T00:00:00\", \"1970-01-01T00:19:42.824591\", \"1970-01-01T00:19:42.824591\", \"1970-01-01T00:35:25.649183\", \"1970-01-01T00:35:25.649183\", \"1970-01-01T00:35:25.649183\", \"1970-01-01T00:55:08.473774\", \"1970-01-01T00:55:08.473774\", \"1970-01-01T01:10:51.298365\", \"1970-01-01T01:10:51.298365\", \"1970-01-01T01:10:51.298365\", \"1970-01-01T01:30:34.122956\", \"1970-01-01T01:30:34.122956\", \"1970-01-01T01:46:16.947548\", \"1970-01-01T01:46:16.947548\", \"1970-01-01T01:46:16.947548\", \"1970-01-01T02:05:59.772139\", \"1970-01-01T02:05:59.772139\", \"1970-01-01T02:21:42.596730\", \"1970-01-01T02:21:42.596730\", \"1970-01-01T02:21:42.596730\"], \"y\": [\"Vessel 01\", \"Vessel 01\", \"Vessel 01\", \"Vessel 01\", null, \"Vessel 01\", \"Vessel 01\", \"Vessel 01\", \"Vessel 01\", null, \"Vessel 01\", \"Vessel 01\", \"Vessel 01\", \"Vessel 01\", null, \"Vessel 01\", \"Vessel 01\", \"Vessel 01\", \"Vessel 01\", null, \"Vessel 01\", \"Vessel 01\", \"Vessel 01\", \"Vessel 01\", null]}, {\"connectgaps\": false, \"hoverinfo\": \"y+name\", \"line\": {\"color\": \"rgb(3,8,94)\", \"width\": 10}, \"mode\": \"lines\", \"name\": \"09564ea3-ebab-4cc3-8738-d8eb242b5c20\", \"type\": \"scatter\", \"x\": [\"1970-01-01T00:17:42.824591\", \"1970-01-01T00:17:42.824591\", \"1970-01-01T00:19:42.824591\", \"1970-01-01T00:19:42.824591\", \"1970-01-01T00:19:42.824591\", \"1970-01-01T00:53:08.473774\", \"1970-01-01T00:53:08.473774\", \"1970-01-01T00:55:08.473774\", \"1970-01-01T00:55:08.473774\", \"1970-01-01T00:55:08.473774\", \"1970-01-01T01:28:34.122956\", \"1970-01-01T01:28:34.122956\", \"1970-01-01T01:30:34.122956\", \"1970-01-01T01:30:34.122956\", \"1970-01-01T01:30:34.122956\", \"1970-01-01T02:03:59.772139\", \"1970-01-01T02:03:59.772139\", \"1970-01-01T02:05:59.772139\", \"1970-01-01T02:05:59.772139\", \"1970-01-01T02:05:59.772139\", \"1970-01-01T02:39:25.421321\", \"1970-01-01T02:39:25.421321\", \"1970-01-01T02:41:25.421321\", \"1970-01-01T02:41:25.421321\", \"1970-01-01T02:41:25.421321\", \"1970-01-01T00:17:42.824591\", \"1970-01-01T00:17:42.824591\", \"1970-01-01T00:19:42.824591\", \"1970-01-01T00:19:42.824591\", \"1970-01-01T00:19:42.824591\", \"1970-01-01T00:17:42.824591\", \"1970-01-01T00:17:42.824591\", \"1970-01-01T00:19:42.824591\", \"1970-01-01T00:19:42.824591\", \"1970-01-01T00:19:42.824591\", \"1970-01-01T00:53:08.473774\", \"1970-01-01T00:53:08.473774\", \"1970-01-01T00:55:08.473774\", \"1970-01-01T00:55:08.473774\", \"1970-01-01T00:55:08.473774\", \"1970-01-01T00:53:08.473774\", \"1970-01-01T00:53:08.473774\", \"1970-01-01T00:55:08.473774\", \"1970-01-01T00:55:08.473774\", \"1970-01-01T00:55:08.473774\", \"1970-01-01T01:28:34.122956\", \"1970-01-01T01:28:34.122956\", \"1970-01-01T01:30:34.122956\", \"1970-01-01T01:30:34.122956\", \"1970-01-01T01:30:34.122956\", \"1970-01-01T01:28:34.122956\", \"1970-01-01T01:28:34.122956\", \"1970-01-01T01:30:34.122956\", \"1970-01-01T01:30:34.122956\", \"1970-01-01T01:30:34.122956\", \"1970-01-01T02:03:59.772139\", \"1970-01-01T02:03:59.772139\", \"1970-01-01T02:05:59.772139\", \"1970-01-01T02:05:59.772139\", \"1970-01-01T02:05:59.772139\", \"1970-01-01T02:03:59.772139\", \"1970-01-01T02:03:59.772139\", \"1970-01-01T02:05:59.772139\", \"1970-01-01T02:05:59.772139\", \"1970-01-01T02:05:59.772139\", \"1970-01-01T02:39:25.421321\", \"1970-01-01T02:39:25.421321\", \"1970-01-01T02:41:25.421321\", \"1970-01-01T02:41:25.421321\", \"1970-01-01T02:41:25.421321\", \"1970-01-01T02:39:25.421321\", \"1970-01-01T02:39:25.421321\", \"1970-01-01T02:41:25.421321\", \"1970-01-01T02:41:25.421321\", \"1970-01-01T02:41:25.421321\"], \"y\": [\"Vessel 01\", \"Vessel 01\", \"Vessel 01\", \"Vessel 01\", null, \"Vessel 01\", \"Vessel 01\", \"Vessel 01\", \"Vessel 01\", null, \"Vessel 01\", \"Vessel 01\", \"Vessel 01\", \"Vessel 01\", null, \"Vessel 01\", \"Vessel 01\", \"Vessel 01\", \"Vessel 01\", null, \"Vessel 01\", \"Vessel 01\", \"Vessel 01\", \"Vessel 01\", null, \"Installer\", \"Installer\", \"Installer\", \"Installer\", null, \"Installer\", \"Installer\", \"Installer\", \"Installer\", null, \"Installer\", \"Installer\", \"Installer\", \"Installer\", null, \"Installer\", \"Installer\", \"Installer\", \"Installer\", null, \"Installer\", \"Installer\", \"Installer\", \"Installer\", null, \"Installer\", \"Installer\", \"Installer\", \"Installer\", null, \"Installer\", \"Installer\", \"Installer\", \"Installer\", null, \"Installer\", \"Installer\", \"Installer\", \"Installer\", null, \"Installer\", \"Installer\", \"Installer\", \"Installer\", null, \"Installer\", \"Installer\", \"Installer\", \"Installer\", null]}, {\"connectgaps\": false, \"hoverinfo\": \"y+name\", \"line\": {\"color\": \"rgb(26,31,117)\", \"width\": 10}, \"mode\": \"lines\", \"name\": \"3ec5020a-32f5-4c3c-ae8f-67df98677a55\", \"type\": \"scatter\", \"x\": [\"1970-01-01T00:02:00\", \"1970-01-01T00:02:00\", \"1970-01-01T00:17:42.824591\", \"1970-01-01T00:17:42.824591\", \"1970-01-01T00:17:42.824591\", \"1970-01-01T00:37:25.649183\", \"1970-01-01T00:37:25.649183\", \"1970-01-01T00:53:08.473774\", \"1970-01-01T00:53:08.473774\", \"1970-01-01T00:53:08.473774\", \"1970-01-01T01:12:51.298365\", \"1970-01-01T01:12:51.298365\", \"1970-01-01T01:28:34.122956\", \"1970-01-01T01:28:34.122956\", \"1970-01-01T01:28:34.122956\", \"1970-01-01T01:48:16.947548\", \"1970-01-01T01:48:16.947548\", \"1970-01-01T02:03:59.772139\", \"1970-01-01T02:03:59.772139\", \"1970-01-01T02:03:59.772139\", \"1970-01-01T02:23:42.596730\", \"1970-01-01T02:23:42.596730\", \"1970-01-01T02:39:25.421321\", \"1970-01-01T02:39:25.421321\", \"1970-01-01T02:39:25.421321\"], \"y\": [\"Vessel 01\", \"Vessel 01\", \"Vessel 01\", \"Vessel 01\", null, \"Vessel 01\", \"Vessel 01\", \"Vessel 01\", \"Vessel 01\", null, \"Vessel 01\", \"Vessel 01\", \"Vessel 01\", \"Vessel 01\", null, \"Vessel 01\", \"Vessel 01\", \"Vessel 01\", \"Vessel 01\", null, \"Vessel 01\", \"Vessel 01\", \"Vessel 01\", \"Vessel 01\", null]}, {\"connectgaps\": false, \"hoverinfo\": \"y+name\", \"line\": {\"color\": \"rgb(49,54,140)\", \"width\": 10}, \"mode\": \"lines\", \"name\": \"26d7beba-321a-405e-aa0d-12a7ddcc8221\", \"type\": \"scatter\", \"x\": [\"1970-01-01T00:00:00\", \"1970-01-01T00:00:00\", \"1970-01-01T00:02:00\", \"1970-01-01T00:02:00\", \"1970-01-01T00:02:00\", \"1970-01-01T00:00:00\", \"1970-01-01T00:00:00\", \"1970-01-01T00:02:00\", \"1970-01-01T00:02:00\", \"1970-01-01T00:02:00\", \"1970-01-01T00:35:25.649183\", \"1970-01-01T00:35:25.649183\", \"1970-01-01T00:37:25.649183\", \"1970-01-01T00:37:25.649183\", \"1970-01-01T00:37:25.649183\", \"1970-01-01T00:35:25.649183\", \"1970-01-01T00:35:25.649183\", \"1970-01-01T00:37:25.649183\", \"1970-01-01T00:37:25.649183\", \"1970-01-01T00:37:25.649183\", \"1970-01-01T01:10:51.298365\", \"1970-01-01T01:10:51.298365\", \"1970-01-01T01:12:51.298365\", \"1970-01-01T01:12:51.298365\", \"1970-01-01T01:12:51.298365\", \"1970-01-01T01:10:51.298365\", \"1970-01-01T01:10:51.298365\", \"1970-01-01T01:12:51.298365\", \"1970-01-01T01:12:51.298365\", \"1970-01-01T01:12:51.298365\", \"1970-01-01T01:46:16.947548\", \"1970-01-01T01:46:16.947548\", \"1970-01-01T01:48:16.947548\", \"1970-01-01T01:48:16.947548\", \"1970-01-01T01:48:16.947548\", \"1970-01-01T01:46:16.947548\", \"1970-01-01T01:46:16.947548\", \"1970-01-01T01:48:16.947548\", \"1970-01-01T01:48:16.947548\", \"1970-01-01T01:48:16.947548\", \"1970-01-01T02:21:42.596730\", \"1970-01-01T02:21:42.596730\", \"1970-01-01T02:23:42.596730\", \"1970-01-01T02:23:42.596730\", \"1970-01-01T02:23:42.596730\", \"1970-01-01T02:21:42.596730\", \"1970-01-01T02:21:42.596730\", \"1970-01-01T02:23:42.596730\", \"1970-01-01T02:23:42.596730\", \"1970-01-01T02:23:42.596730\", \"1970-01-01T00:00:00\", \"1970-01-01T00:00:00\", \"1970-01-01T00:02:00\", \"1970-01-01T00:02:00\", \"1970-01-01T00:02:00\", \"1970-01-01T00:35:25.649183\", \"1970-01-01T00:35:25.649183\", \"1970-01-01T00:37:25.649183\", \"1970-01-01T00:37:25.649183\", \"1970-01-01T00:37:25.649183\", \"1970-01-01T01:10:51.298365\", \"1970-01-01T01:10:51.298365\", \"1970-01-01T01:12:51.298365\", \"1970-01-01T01:12:51.298365\", \"1970-01-01T01:12:51.298365\", \"1970-01-01T01:46:16.947548\", \"1970-01-01T01:46:16.947548\", \"1970-01-01T01:48:16.947548\", \"1970-01-01T01:48:16.947548\", \"1970-01-01T01:48:16.947548\", \"1970-01-01T02:21:42.596730\", \"1970-01-01T02:21:42.596730\", \"1970-01-01T02:23:42.596730\", \"1970-01-01T02:23:42.596730\", \"1970-01-01T02:23:42.596730\"], \"y\": [\"Vessel 01\", \"Vessel 01\", \"Vessel 01\", \"Vessel 01\", null, \"Vessel 01\", \"Vessel 01\", \"Vessel 01\", \"Vessel 01\", null, \"Vessel 01\", \"Vessel 01\", \"Vessel 01\", \"Vessel 01\", null, \"Vessel 01\", \"Vessel 01\", \"Vessel 01\", \"Vessel 01\", null, \"Vessel 01\", \"Vessel 01\", \"Vessel 01\", \"Vessel 01\", null, \"Vessel 01\", \"Vessel 01\", \"Vessel 01\", \"Vessel 01\", null, \"Vessel 01\", \"Vessel 01\", \"Vessel 01\", \"Vessel 01\", null, \"Vessel 01\", \"Vessel 01\", \"Vessel 01\", \"Vessel 01\", null, \"Vessel 01\", \"Vessel 01\", \"Vessel 01\", \"Vessel 01\", null, \"Vessel 01\", \"Vessel 01\", \"Vessel 01\", \"Vessel 01\", null, \"Winlocatie\", \"Winlocatie\", \"Winlocatie\", \"Winlocatie\", null, \"Winlocatie\", \"Winlocatie\", \"Winlocatie\", \"Winlocatie\", null, \"Winlocatie\", \"Winlocatie\", \"Winlocatie\", \"Winlocatie\", null, \"Winlocatie\", \"Winlocatie\", \"Winlocatie\", \"Winlocatie\", null, \"Winlocatie\", \"Winlocatie\", \"Winlocatie\", \"Winlocatie\", null]}, {\"connectgaps\": false, \"hoverinfo\": \"y+name\", \"line\": {\"color\": \"rgb(72,77,163)\", \"width\": 10}, \"mode\": \"lines\", \"name\": \"09564ea3-ebab-4cc3-8738-d8eb242b5c20\", \"type\": \"scatter\", \"x\": [\"1970-01-01T00:17:42.824591\", \"1970-01-01T00:17:42.824591\", \"1970-01-01T00:19:42.824591\", \"1970-01-01T00:19:42.824591\", \"1970-01-01T00:19:42.824591\", \"1970-01-01T00:53:08.473774\", \"1970-01-01T00:53:08.473774\", \"1970-01-01T00:55:08.473774\", \"1970-01-01T00:55:08.473774\", \"1970-01-01T00:55:08.473774\", \"1970-01-01T01:28:34.122956\", \"1970-01-01T01:28:34.122956\", \"1970-01-01T01:30:34.122956\", \"1970-01-01T01:30:34.122956\", \"1970-01-01T01:30:34.122956\", \"1970-01-01T02:03:59.772139\", \"1970-01-01T02:03:59.772139\", \"1970-01-01T02:05:59.772139\", \"1970-01-01T02:05:59.772139\", \"1970-01-01T02:05:59.772139\", \"1970-01-01T02:39:25.421321\", \"1970-01-01T02:39:25.421321\", \"1970-01-01T02:41:25.421321\", \"1970-01-01T02:41:25.421321\", \"1970-01-01T02:41:25.421321\", \"1970-01-01T00:17:42.824591\", \"1970-01-01T00:17:42.824591\", \"1970-01-01T00:19:42.824591\", \"1970-01-01T00:19:42.824591\", \"1970-01-01T00:19:42.824591\", \"1970-01-01T00:17:42.824591\", \"1970-01-01T00:17:42.824591\", \"1970-01-01T00:19:42.824591\", \"1970-01-01T00:19:42.824591\", \"1970-01-01T00:19:42.824591\", \"1970-01-01T00:53:08.473774\", \"1970-01-01T00:53:08.473774\", \"1970-01-01T00:55:08.473774\", \"1970-01-01T00:55:08.473774\", \"1970-01-01T00:55:08.473774\", \"1970-01-01T00:53:08.473774\", \"1970-01-01T00:53:08.473774\", \"1970-01-01T00:55:08.473774\", \"1970-01-01T00:55:08.473774\", \"1970-01-01T00:55:08.473774\", \"1970-01-01T01:28:34.122956\", \"1970-01-01T01:28:34.122956\", \"1970-01-01T01:30:34.122956\", \"1970-01-01T01:30:34.122956\", \"1970-01-01T01:30:34.122956\", \"1970-01-01T01:28:34.122956\", \"1970-01-01T01:28:34.122956\", \"1970-01-01T01:30:34.122956\", \"1970-01-01T01:30:34.122956\", \"1970-01-01T01:30:34.122956\", \"1970-01-01T02:03:59.772139\", \"1970-01-01T02:03:59.772139\", \"1970-01-01T02:05:59.772139\", \"1970-01-01T02:05:59.772139\", \"1970-01-01T02:05:59.772139\", \"1970-01-01T02:03:59.772139\", \"1970-01-01T02:03:59.772139\", \"1970-01-01T02:05:59.772139\", \"1970-01-01T02:05:59.772139\", \"1970-01-01T02:05:59.772139\", \"1970-01-01T02:39:25.421321\", \"1970-01-01T02:39:25.421321\", \"1970-01-01T02:41:25.421321\", \"1970-01-01T02:41:25.421321\", \"1970-01-01T02:41:25.421321\", \"1970-01-01T02:39:25.421321\", \"1970-01-01T02:39:25.421321\", \"1970-01-01T02:41:25.421321\", \"1970-01-01T02:41:25.421321\", \"1970-01-01T02:41:25.421321\"], \"y\": [\"Vessel 01\", \"Vessel 01\", \"Vessel 01\", \"Vessel 01\", null, \"Vessel 01\", \"Vessel 01\", \"Vessel 01\", \"Vessel 01\", null, \"Vessel 01\", \"Vessel 01\", \"Vessel 01\", \"Vessel 01\", null, \"Vessel 01\", \"Vessel 01\", \"Vessel 01\", \"Vessel 01\", null, \"Vessel 01\", \"Vessel 01\", \"Vessel 01\", \"Vessel 01\", null, \"Installer\", \"Installer\", \"Installer\", \"Installer\", null, \"Installer\", \"Installer\", \"Installer\", \"Installer\", null, \"Installer\", \"Installer\", \"Installer\", \"Installer\", null, \"Installer\", \"Installer\", \"Installer\", \"Installer\", null, \"Installer\", \"Installer\", \"Installer\", \"Installer\", null, \"Installer\", \"Installer\", \"Installer\", \"Installer\", null, \"Installer\", \"Installer\", \"Installer\", \"Installer\", null, \"Installer\", \"Installer\", \"Installer\", \"Installer\", null, \"Installer\", \"Installer\", \"Installer\", \"Installer\", null, \"Installer\", \"Installer\", \"Installer\", \"Installer\", null]}, {\"connectgaps\": false, \"hoverinfo\": \"y+name\", \"line\": {\"color\": \"rgb(95,100,186)\", \"width\": 10}, \"mode\": \"lines\", \"name\": \"d322625b-dded-4fd9-9a08-e900d5a7129e\", \"type\": \"scatter\", \"x\": [\"1970-01-01T00:15:42.824591\", \"1970-01-01T00:15:42.824591\", \"1970-01-01T00:16:12.824591\", \"1970-01-01T00:16:12.824591\", \"1970-01-01T00:16:12.824591\", \"1970-01-01T00:22:42.824591\", \"1970-01-01T00:22:42.824591\", \"1970-01-01T00:23:12.824591\", \"1970-01-01T00:23:12.824591\", \"1970-01-01T00:23:12.824591\", \"1970-01-01T00:58:08.473774\", \"1970-01-01T00:58:08.473774\", \"1970-01-01T00:58:38.473774\", \"1970-01-01T00:58:38.473774\", \"1970-01-01T00:58:38.473774\", \"1970-01-01T01:33:34.122956\", \"1970-01-01T01:33:34.122956\", \"1970-01-01T01:34:04.122956\", \"1970-01-01T01:34:04.122956\", \"1970-01-01T01:34:04.122956\", \"1970-01-01T02:08:59.772139\", \"1970-01-01T02:08:59.772139\", \"1970-01-01T02:09:29.772139\", \"1970-01-01T02:09:29.772139\", \"1970-01-01T02:09:29.772139\"], \"y\": [\"Installer\", \"Installer\", \"Installer\", \"Installer\", null, \"Installer\", \"Installer\", \"Installer\", \"Installer\", null, \"Installer\", \"Installer\", \"Installer\", \"Installer\", null, \"Installer\", \"Installer\", \"Installer\", \"Installer\", null, \"Installer\", \"Installer\", \"Installer\", \"Installer\", null]}, {\"connectgaps\": false, \"hoverinfo\": \"y+name\", \"line\": {\"color\": \"rgb(118,123,209)\", \"width\": 10}, \"mode\": \"lines\", \"name\": \"5cb67d4f-3bb9-4899-a367-827dcc64b2f3\", \"type\": \"scatter\", \"x\": [\"1970-01-01T00:16:12.824591\", \"1970-01-01T00:16:12.824591\", \"1970-01-01T00:19:42.824591\", \"1970-01-01T00:19:42.824591\", \"1970-01-01T00:19:42.824591\", \"1970-01-01T00:19:42.824591\", \"1970-01-01T00:19:42.824591\", \"1970-01-01T00:20:42.824591\", \"1970-01-01T00:20:42.824591\", \"1970-01-01T00:20:42.824591\", \"1970-01-01T00:23:12.824591\", \"1970-01-01T00:23:12.824591\", \"1970-01-01T00:55:08.473774\", \"1970-01-01T00:55:08.473774\", \"1970-01-01T00:55:08.473774\", \"1970-01-01T00:55:08.473774\", \"1970-01-01T00:55:08.473774\", \"1970-01-01T00:56:08.473774\", \"1970-01-01T00:56:08.473774\", \"1970-01-01T00:56:08.473774\", \"1970-01-01T00:58:38.473774\", \"1970-01-01T00:58:38.473774\", \"1970-01-01T01:30:34.122956\", \"1970-01-01T01:30:34.122956\", \"1970-01-01T01:30:34.122956\", \"1970-01-01T01:30:34.122956\", \"1970-01-01T01:30:34.122956\", \"1970-01-01T01:31:34.122956\", \"1970-01-01T01:31:34.122956\", \"1970-01-01T01:31:34.122956\", \"1970-01-01T01:34:04.122956\", \"1970-01-01T01:34:04.122956\", \"1970-01-01T02:05:59.772139\", \"1970-01-01T02:05:59.772139\", \"1970-01-01T02:05:59.772139\", \"1970-01-01T02:05:59.772139\", \"1970-01-01T02:05:59.772139\", \"1970-01-01T02:06:59.772139\", \"1970-01-01T02:06:59.772139\", \"1970-01-01T02:06:59.772139\", \"1970-01-01T02:09:29.772139\", \"1970-01-01T02:09:29.772139\", \"1970-01-01T02:41:25.421321\", \"1970-01-01T02:41:25.421321\", \"1970-01-01T02:41:25.421321\", \"1970-01-01T02:41:25.421321\", \"1970-01-01T02:41:25.421321\", \"1970-01-01T02:42:25.421321\", \"1970-01-01T02:42:25.421321\", \"1970-01-01T02:42:25.421321\"], \"y\": [\"Installer\", \"Installer\", \"Installer\", \"Installer\", null, \"Installer\", \"Installer\", \"Installer\", \"Installer\", null, \"Installer\", \"Installer\", \"Installer\", \"Installer\", null, \"Installer\", \"Installer\", \"Installer\", \"Installer\", null, \"Installer\", \"Installer\", \"Installer\", \"Installer\", null, \"Installer\", \"Installer\", \"Installer\", \"Installer\", null, \"Installer\", \"Installer\", \"Installer\", \"Installer\", null, \"Installer\", \"Installer\", \"Installer\", \"Installer\", null, \"Installer\", \"Installer\", \"Installer\", \"Installer\", null, \"Installer\", \"Installer\", \"Installer\", \"Installer\", null]}, {\"connectgaps\": false, \"hoverinfo\": \"y+name\", \"line\": {\"color\": \"rgb(141,146,232)\", \"width\": 10}, \"mode\": \"lines\", \"name\": \"e8b19fb3-9429-4d31-9843-b3ef9594b387\", \"type\": \"scatter\", \"x\": [\"1970-01-01T00:20:42.824591\", \"1970-01-01T00:20:42.824591\", \"1970-01-01T00:22:42.824591\", \"1970-01-01T00:22:42.824591\", \"1970-01-01T00:22:42.824591\", \"1970-01-01T00:20:42.824591\", \"1970-01-01T00:20:42.824591\", \"1970-01-01T00:22:42.824591\", \"1970-01-01T00:22:42.824591\", \"1970-01-01T00:22:42.824591\", \"1970-01-01T00:56:08.473774\", \"1970-01-01T00:56:08.473774\", \"1970-01-01T00:58:08.473774\", \"1970-01-01T00:58:08.473774\", \"1970-01-01T00:58:08.473774\", \"1970-01-01T00:56:08.473774\", \"1970-01-01T00:56:08.473774\", \"1970-01-01T00:58:08.473774\", \"1970-01-01T00:58:08.473774\", \"1970-01-01T00:58:08.473774\", \"1970-01-01T01:31:34.122956\", \"1970-01-01T01:31:34.122956\", \"1970-01-01T01:33:34.122956\", \"1970-01-01T01:33:34.122956\", \"1970-01-01T01:33:34.122956\", \"1970-01-01T01:31:34.122956\", \"1970-01-01T01:31:34.122956\", \"1970-01-01T01:33:34.122956\", \"1970-01-01T01:33:34.122956\", \"1970-01-01T01:33:34.122956\", \"1970-01-01T02:06:59.772139\", \"1970-01-01T02:06:59.772139\", \"1970-01-01T02:08:59.772139\", \"1970-01-01T02:08:59.772139\", \"1970-01-01T02:08:59.772139\", \"1970-01-01T02:06:59.772139\", \"1970-01-01T02:06:59.772139\", \"1970-01-01T02:08:59.772139\", \"1970-01-01T02:08:59.772139\", \"1970-01-01T02:08:59.772139\", \"1970-01-01T02:42:25.421321\", \"1970-01-01T02:42:25.421321\", \"1970-01-01T02:44:25.421321\", \"1970-01-01T02:44:25.421321\", \"1970-01-01T02:44:25.421321\", \"1970-01-01T02:42:25.421321\", \"1970-01-01T02:42:25.421321\", \"1970-01-01T02:44:25.421321\", \"1970-01-01T02:44:25.421321\", \"1970-01-01T02:44:25.421321\", \"1970-01-01T00:20:42.824591\", \"1970-01-01T00:20:42.824591\", \"1970-01-01T00:22:42.824591\", \"1970-01-01T00:22:42.824591\", \"1970-01-01T00:22:42.824591\", \"1970-01-01T00:56:08.473774\", \"1970-01-01T00:56:08.473774\", \"1970-01-01T00:58:08.473774\", \"1970-01-01T00:58:08.473774\", \"1970-01-01T00:58:08.473774\", \"1970-01-01T01:31:34.122956\", \"1970-01-01T01:31:34.122956\", \"1970-01-01T01:33:34.122956\", \"1970-01-01T01:33:34.122956\", \"1970-01-01T01:33:34.122956\", \"1970-01-01T02:06:59.772139\", \"1970-01-01T02:06:59.772139\", \"1970-01-01T02:08:59.772139\", \"1970-01-01T02:08:59.772139\", \"1970-01-01T02:08:59.772139\", \"1970-01-01T02:42:25.421321\", \"1970-01-01T02:42:25.421321\", \"1970-01-01T02:44:25.421321\", \"1970-01-01T02:44:25.421321\", \"1970-01-01T02:44:25.421321\"], \"y\": [\"Installer\", \"Installer\", \"Installer\", \"Installer\", null, \"Installer\", \"Installer\", \"Installer\", \"Installer\", null, \"Installer\", \"Installer\", \"Installer\", \"Installer\", null, \"Installer\", \"Installer\", \"Installer\", \"Installer\", null, \"Installer\", \"Installer\", \"Installer\", \"Installer\", null, \"Installer\", \"Installer\", \"Installer\", \"Installer\", null, \"Installer\", \"Installer\", \"Installer\", \"Installer\", null, \"Installer\", \"Installer\", \"Installer\", \"Installer\", null, \"Installer\", \"Installer\", \"Installer\", \"Installer\", null, \"Installer\", \"Installer\", \"Installer\", \"Installer\", null, \"Dumplocatie\", \"Dumplocatie\", \"Dumplocatie\", \"Dumplocatie\", null, \"Dumplocatie\", \"Dumplocatie\", \"Dumplocatie\", \"Dumplocatie\", null, \"Dumplocatie\", \"Dumplocatie\", \"Dumplocatie\", \"Dumplocatie\", null, \"Dumplocatie\", \"Dumplocatie\", \"Dumplocatie\", \"Dumplocatie\", null, \"Dumplocatie\", \"Dumplocatie\", \"Dumplocatie\", \"Dumplocatie\", null]}, {\"connectgaps\": false, \"hoverinfo\": \"y+name\", \"line\": {\"color\": \"rgb(164,169,255)\", \"width\": 10}, \"mode\": \"lines\", \"name\": \"74700872-c049-4729-a1a1-85432edae6ba\", \"type\": \"scatter\", \"x\": [\"1970-01-01T00:00:00\", \"1970-01-01T00:00:00\", \"1970-01-01T00:15:42.824591\", \"1970-01-01T00:15:42.824591\", \"1970-01-01T00:15:42.824591\"], \"y\": [\"Installer\", \"Installer\", \"Installer\", \"Installer\", null]}, {\"connectgaps\": false, \"hoverinfo\": \"y+name\", \"line\": {\"color\": \"rgb(187,192,22)\", \"width\": 10}, \"mode\": \"lines\", \"name\": \"26d7beba-321a-405e-aa0d-12a7ddcc8221\", \"type\": \"scatter\", \"x\": [\"1970-01-01T00:00:00\", \"1970-01-01T00:00:00\", \"1970-01-01T00:02:00\", \"1970-01-01T00:02:00\", \"1970-01-01T00:02:00\", \"1970-01-01T00:00:00\", \"1970-01-01T00:00:00\", \"1970-01-01T00:02:00\", \"1970-01-01T00:02:00\", \"1970-01-01T00:02:00\", \"1970-01-01T00:35:25.649183\", \"1970-01-01T00:35:25.649183\", \"1970-01-01T00:37:25.649183\", \"1970-01-01T00:37:25.649183\", \"1970-01-01T00:37:25.649183\", \"1970-01-01T00:35:25.649183\", \"1970-01-01T00:35:25.649183\", \"1970-01-01T00:37:25.649183\", \"1970-01-01T00:37:25.649183\", \"1970-01-01T00:37:25.649183\", \"1970-01-01T01:10:51.298365\", \"1970-01-01T01:10:51.298365\", \"1970-01-01T01:12:51.298365\", \"1970-01-01T01:12:51.298365\", \"1970-01-01T01:12:51.298365\", \"1970-01-01T01:10:51.298365\", \"1970-01-01T01:10:51.298365\", \"1970-01-01T01:12:51.298365\", \"1970-01-01T01:12:51.298365\", \"1970-01-01T01:12:51.298365\", \"1970-01-01T01:46:16.947548\", \"1970-01-01T01:46:16.947548\", \"1970-01-01T01:48:16.947548\", \"1970-01-01T01:48:16.947548\", \"1970-01-01T01:48:16.947548\", \"1970-01-01T01:46:16.947548\", \"1970-01-01T01:46:16.947548\", \"1970-01-01T01:48:16.947548\", \"1970-01-01T01:48:16.947548\", \"1970-01-01T01:48:16.947548\", \"1970-01-01T02:21:42.596730\", \"1970-01-01T02:21:42.596730\", \"1970-01-01T02:23:42.596730\", \"1970-01-01T02:23:42.596730\", \"1970-01-01T02:23:42.596730\", \"1970-01-01T02:21:42.596730\", \"1970-01-01T02:21:42.596730\", \"1970-01-01T02:23:42.596730\", \"1970-01-01T02:23:42.596730\", \"1970-01-01T02:23:42.596730\", \"1970-01-01T00:00:00\", \"1970-01-01T00:00:00\", \"1970-01-01T00:02:00\", \"1970-01-01T00:02:00\", \"1970-01-01T00:02:00\", \"1970-01-01T00:35:25.649183\", \"1970-01-01T00:35:25.649183\", \"1970-01-01T00:37:25.649183\", \"1970-01-01T00:37:25.649183\", \"1970-01-01T00:37:25.649183\", \"1970-01-01T01:10:51.298365\", \"1970-01-01T01:10:51.298365\", \"1970-01-01T01:12:51.298365\", \"1970-01-01T01:12:51.298365\", \"1970-01-01T01:12:51.298365\", \"1970-01-01T01:46:16.947548\", \"1970-01-01T01:46:16.947548\", \"1970-01-01T01:48:16.947548\", \"1970-01-01T01:48:16.947548\", \"1970-01-01T01:48:16.947548\", \"1970-01-01T02:21:42.596730\", \"1970-01-01T02:21:42.596730\", \"1970-01-01T02:23:42.596730\", \"1970-01-01T02:23:42.596730\", \"1970-01-01T02:23:42.596730\"], \"y\": [\"Vessel 01\", \"Vessel 01\", \"Vessel 01\", \"Vessel 01\", null, \"Vessel 01\", \"Vessel 01\", \"Vessel 01\", \"Vessel 01\", null, \"Vessel 01\", \"Vessel 01\", \"Vessel 01\", \"Vessel 01\", null, \"Vessel 01\", \"Vessel 01\", \"Vessel 01\", \"Vessel 01\", null, \"Vessel 01\", \"Vessel 01\", \"Vessel 01\", \"Vessel 01\", null, \"Vessel 01\", \"Vessel 01\", \"Vessel 01\", \"Vessel 01\", null, \"Vessel 01\", \"Vessel 01\", \"Vessel 01\", \"Vessel 01\", null, \"Vessel 01\", \"Vessel 01\", \"Vessel 01\", \"Vessel 01\", null, \"Vessel 01\", \"Vessel 01\", \"Vessel 01\", \"Vessel 01\", null, \"Vessel 01\", \"Vessel 01\", \"Vessel 01\", \"Vessel 01\", null, \"Winlocatie\", \"Winlocatie\", \"Winlocatie\", \"Winlocatie\", null, \"Winlocatie\", \"Winlocatie\", \"Winlocatie\", \"Winlocatie\", null, \"Winlocatie\", \"Winlocatie\", \"Winlocatie\", \"Winlocatie\", null, \"Winlocatie\", \"Winlocatie\", \"Winlocatie\", \"Winlocatie\", null, \"Winlocatie\", \"Winlocatie\", \"Winlocatie\", \"Winlocatie\", null]}, {\"connectgaps\": false, \"hoverinfo\": \"y+name\", \"line\": {\"color\": \"rgb(210,215,45)\", \"width\": 10}, \"mode\": \"lines\", \"name\": \"e8b19fb3-9429-4d31-9843-b3ef9594b387\", \"type\": \"scatter\", \"x\": [\"1970-01-01T00:20:42.824591\", \"1970-01-01T00:20:42.824591\", \"1970-01-01T00:22:42.824591\", \"1970-01-01T00:22:42.824591\", \"1970-01-01T00:22:42.824591\", \"1970-01-01T00:20:42.824591\", \"1970-01-01T00:20:42.824591\", \"1970-01-01T00:22:42.824591\", \"1970-01-01T00:22:42.824591\", \"1970-01-01T00:22:42.824591\", \"1970-01-01T00:56:08.473774\", \"1970-01-01T00:56:08.473774\", \"1970-01-01T00:58:08.473774\", \"1970-01-01T00:58:08.473774\", \"1970-01-01T00:58:08.473774\", \"1970-01-01T00:56:08.473774\", \"1970-01-01T00:56:08.473774\", \"1970-01-01T00:58:08.473774\", \"1970-01-01T00:58:08.473774\", \"1970-01-01T00:58:08.473774\", \"1970-01-01T01:31:34.122956\", \"1970-01-01T01:31:34.122956\", \"1970-01-01T01:33:34.122956\", \"1970-01-01T01:33:34.122956\", \"1970-01-01T01:33:34.122956\", \"1970-01-01T01:31:34.122956\", \"1970-01-01T01:31:34.122956\", \"1970-01-01T01:33:34.122956\", \"1970-01-01T01:33:34.122956\", \"1970-01-01T01:33:34.122956\", \"1970-01-01T02:06:59.772139\", \"1970-01-01T02:06:59.772139\", \"1970-01-01T02:08:59.772139\", \"1970-01-01T02:08:59.772139\", \"1970-01-01T02:08:59.772139\", \"1970-01-01T02:06:59.772139\", \"1970-01-01T02:06:59.772139\", \"1970-01-01T02:08:59.772139\", \"1970-01-01T02:08:59.772139\", \"1970-01-01T02:08:59.772139\", \"1970-01-01T02:42:25.421321\", \"1970-01-01T02:42:25.421321\", \"1970-01-01T02:44:25.421321\", \"1970-01-01T02:44:25.421321\", \"1970-01-01T02:44:25.421321\", \"1970-01-01T02:42:25.421321\", \"1970-01-01T02:42:25.421321\", \"1970-01-01T02:44:25.421321\", \"1970-01-01T02:44:25.421321\", \"1970-01-01T02:44:25.421321\", \"1970-01-01T00:20:42.824591\", \"1970-01-01T00:20:42.824591\", \"1970-01-01T00:22:42.824591\", \"1970-01-01T00:22:42.824591\", \"1970-01-01T00:22:42.824591\", \"1970-01-01T00:56:08.473774\", \"1970-01-01T00:56:08.473774\", \"1970-01-01T00:58:08.473774\", \"1970-01-01T00:58:08.473774\", \"1970-01-01T00:58:08.473774\", \"1970-01-01T01:31:34.122956\", \"1970-01-01T01:31:34.122956\", \"1970-01-01T01:33:34.122956\", \"1970-01-01T01:33:34.122956\", \"1970-01-01T01:33:34.122956\", \"1970-01-01T02:06:59.772139\", \"1970-01-01T02:06:59.772139\", \"1970-01-01T02:08:59.772139\", \"1970-01-01T02:08:59.772139\", \"1970-01-01T02:08:59.772139\", \"1970-01-01T02:42:25.421321\", \"1970-01-01T02:42:25.421321\", \"1970-01-01T02:44:25.421321\", \"1970-01-01T02:44:25.421321\", \"1970-01-01T02:44:25.421321\"], \"y\": [\"Installer\", \"Installer\", \"Installer\", \"Installer\", null, \"Installer\", \"Installer\", \"Installer\", \"Installer\", null, \"Installer\", \"Installer\", \"Installer\", \"Installer\", null, \"Installer\", \"Installer\", \"Installer\", \"Installer\", null, \"Installer\", \"Installer\", \"Installer\", \"Installer\", null, \"Installer\", \"Installer\", \"Installer\", \"Installer\", null, \"Installer\", \"Installer\", \"Installer\", \"Installer\", null, \"Installer\", \"Installer\", \"Installer\", \"Installer\", null, \"Installer\", \"Installer\", \"Installer\", \"Installer\", null, \"Installer\", \"Installer\", \"Installer\", \"Installer\", null, \"Dumplocatie\", \"Dumplocatie\", \"Dumplocatie\", \"Dumplocatie\", null, \"Dumplocatie\", \"Dumplocatie\", \"Dumplocatie\", \"Dumplocatie\", null, \"Dumplocatie\", \"Dumplocatie\", \"Dumplocatie\", \"Dumplocatie\", null, \"Dumplocatie\", \"Dumplocatie\", \"Dumplocatie\", \"Dumplocatie\", null, \"Dumplocatie\", \"Dumplocatie\", \"Dumplocatie\", \"Dumplocatie\", null]}],                        {\"hovermode\": \"closest\", \"legend\": {\"orientation\": \"h\", \"x\": 0, \"y\": -0.2}, \"template\": {\"data\": {\"bar\": [{\"error_x\": {\"color\": \"#2a3f5f\"}, \"error_y\": {\"color\": \"#2a3f5f\"}, \"marker\": {\"line\": {\"color\": \"#E5ECF6\", \"width\": 0.5}}, \"type\": \"bar\"}], \"barpolar\": [{\"marker\": {\"line\": {\"color\": \"#E5ECF6\", \"width\": 0.5}}, \"type\": \"barpolar\"}], \"carpet\": [{\"aaxis\": {\"endlinecolor\": \"#2a3f5f\", \"gridcolor\": \"white\", \"linecolor\": \"white\", \"minorgridcolor\": \"white\", \"startlinecolor\": \"#2a3f5f\"}, \"baxis\": {\"endlinecolor\": \"#2a3f5f\", \"gridcolor\": \"white\", \"linecolor\": \"white\", \"minorgridcolor\": \"white\", \"startlinecolor\": \"#2a3f5f\"}, \"type\": \"carpet\"}], \"choropleth\": [{\"colorbar\": {\"outlinewidth\": 0, \"ticks\": \"\"}, \"type\": \"choropleth\"}], \"contour\": [{\"colorbar\": {\"outlinewidth\": 0, \"ticks\": \"\"}, \"colorscale\": [[0.0, \"#0d0887\"], [0.1111111111111111, \"#46039f\"], [0.2222222222222222, \"#7201a8\"], [0.3333333333333333, \"#9c179e\"], [0.4444444444444444, \"#bd3786\"], [0.5555555555555556, \"#d8576b\"], [0.6666666666666666, \"#ed7953\"], [0.7777777777777778, \"#fb9f3a\"], [0.8888888888888888, \"#fdca26\"], [1.0, \"#f0f921\"]], \"type\": \"contour\"}], \"contourcarpet\": [{\"colorbar\": {\"outlinewidth\": 0, \"ticks\": \"\"}, \"type\": \"contourcarpet\"}], \"heatmap\": [{\"colorbar\": {\"outlinewidth\": 0, \"ticks\": \"\"}, \"colorscale\": [[0.0, \"#0d0887\"], [0.1111111111111111, \"#46039f\"], [0.2222222222222222, \"#7201a8\"], [0.3333333333333333, \"#9c179e\"], [0.4444444444444444, \"#bd3786\"], [0.5555555555555556, \"#d8576b\"], [0.6666666666666666, \"#ed7953\"], [0.7777777777777778, \"#fb9f3a\"], [0.8888888888888888, \"#fdca26\"], [1.0, \"#f0f921\"]], \"type\": \"heatmap\"}], \"heatmapgl\": [{\"colorbar\": {\"outlinewidth\": 0, \"ticks\": \"\"}, \"colorscale\": [[0.0, \"#0d0887\"], [0.1111111111111111, \"#46039f\"], [0.2222222222222222, \"#7201a8\"], [0.3333333333333333, \"#9c179e\"], [0.4444444444444444, \"#bd3786\"], [0.5555555555555556, \"#d8576b\"], [0.6666666666666666, \"#ed7953\"], [0.7777777777777778, \"#fb9f3a\"], [0.8888888888888888, \"#fdca26\"], [1.0, \"#f0f921\"]], \"type\": \"heatmapgl\"}], \"histogram\": [{\"marker\": {\"colorbar\": {\"outlinewidth\": 0, \"ticks\": \"\"}}, \"type\": \"histogram\"}], \"histogram2d\": [{\"colorbar\": {\"outlinewidth\": 0, \"ticks\": \"\"}, \"colorscale\": [[0.0, \"#0d0887\"], [0.1111111111111111, \"#46039f\"], [0.2222222222222222, \"#7201a8\"], [0.3333333333333333, \"#9c179e\"], [0.4444444444444444, \"#bd3786\"], [0.5555555555555556, \"#d8576b\"], [0.6666666666666666, \"#ed7953\"], [0.7777777777777778, \"#fb9f3a\"], [0.8888888888888888, \"#fdca26\"], [1.0, \"#f0f921\"]], \"type\": \"histogram2d\"}], \"histogram2dcontour\": [{\"colorbar\": {\"outlinewidth\": 0, \"ticks\": \"\"}, \"colorscale\": [[0.0, \"#0d0887\"], [0.1111111111111111, \"#46039f\"], [0.2222222222222222, \"#7201a8\"], [0.3333333333333333, \"#9c179e\"], [0.4444444444444444, \"#bd3786\"], [0.5555555555555556, \"#d8576b\"], [0.6666666666666666, \"#ed7953\"], [0.7777777777777778, \"#fb9f3a\"], [0.8888888888888888, \"#fdca26\"], [1.0, \"#f0f921\"]], \"type\": \"histogram2dcontour\"}], \"mesh3d\": [{\"colorbar\": {\"outlinewidth\": 0, \"ticks\": \"\"}, \"type\": \"mesh3d\"}], \"parcoords\": [{\"line\": {\"colorbar\": {\"outlinewidth\": 0, \"ticks\": \"\"}}, \"type\": \"parcoords\"}], \"pie\": [{\"automargin\": true, \"type\": \"pie\"}], \"scatter\": [{\"marker\": {\"colorbar\": {\"outlinewidth\": 0, \"ticks\": \"\"}}, \"type\": \"scatter\"}], \"scatter3d\": [{\"line\": {\"colorbar\": {\"outlinewidth\": 0, \"ticks\": \"\"}}, \"marker\": {\"colorbar\": {\"outlinewidth\": 0, \"ticks\": \"\"}}, \"type\": \"scatter3d\"}], \"scattercarpet\": [{\"marker\": {\"colorbar\": {\"outlinewidth\": 0, \"ticks\": \"\"}}, \"type\": \"scattercarpet\"}], \"scattergeo\": [{\"marker\": {\"colorbar\": {\"outlinewidth\": 0, \"ticks\": \"\"}}, \"type\": \"scattergeo\"}], \"scattergl\": [{\"marker\": {\"colorbar\": {\"outlinewidth\": 0, \"ticks\": \"\"}}, \"type\": \"scattergl\"}], \"scattermapbox\": [{\"marker\": {\"colorbar\": {\"outlinewidth\": 0, \"ticks\": \"\"}}, \"type\": \"scattermapbox\"}], \"scatterpolar\": [{\"marker\": {\"colorbar\": {\"outlinewidth\": 0, \"ticks\": \"\"}}, \"type\": \"scatterpolar\"}], \"scatterpolargl\": [{\"marker\": {\"colorbar\": {\"outlinewidth\": 0, \"ticks\": \"\"}}, \"type\": \"scatterpolargl\"}], \"scatterternary\": [{\"marker\": {\"colorbar\": {\"outlinewidth\": 0, \"ticks\": \"\"}}, \"type\": \"scatterternary\"}], \"surface\": [{\"colorbar\": {\"outlinewidth\": 0, \"ticks\": \"\"}, \"colorscale\": [[0.0, \"#0d0887\"], [0.1111111111111111, \"#46039f\"], [0.2222222222222222, \"#7201a8\"], [0.3333333333333333, \"#9c179e\"], [0.4444444444444444, \"#bd3786\"], [0.5555555555555556, \"#d8576b\"], [0.6666666666666666, \"#ed7953\"], [0.7777777777777778, \"#fb9f3a\"], [0.8888888888888888, \"#fdca26\"], [1.0, \"#f0f921\"]], \"type\": \"surface\"}], \"table\": [{\"cells\": {\"fill\": {\"color\": \"#EBF0F8\"}, \"line\": {\"color\": \"white\"}}, \"header\": {\"fill\": {\"color\": \"#C8D4E3\"}, \"line\": {\"color\": \"white\"}}, \"type\": \"table\"}]}, \"layout\": {\"annotationdefaults\": {\"arrowcolor\": \"#2a3f5f\", \"arrowhead\": 0, \"arrowwidth\": 1}, \"coloraxis\": {\"colorbar\": {\"outlinewidth\": 0, \"ticks\": \"\"}}, \"colorscale\": {\"diverging\": [[0, \"#8e0152\"], [0.1, \"#c51b7d\"], [0.2, \"#de77ae\"], [0.3, \"#f1b6da\"], [0.4, \"#fde0ef\"], [0.5, \"#f7f7f7\"], [0.6, \"#e6f5d0\"], [0.7, \"#b8e186\"], [0.8, \"#7fbc41\"], [0.9, \"#4d9221\"], [1, \"#276419\"]], \"sequential\": [[0.0, \"#0d0887\"], [0.1111111111111111, \"#46039f\"], [0.2222222222222222, \"#7201a8\"], [0.3333333333333333, \"#9c179e\"], [0.4444444444444444, \"#bd3786\"], [0.5555555555555556, \"#d8576b\"], [0.6666666666666666, \"#ed7953\"], [0.7777777777777778, \"#fb9f3a\"], [0.8888888888888888, \"#fdca26\"], [1.0, \"#f0f921\"]], \"sequentialminus\": [[0.0, \"#0d0887\"], [0.1111111111111111, \"#46039f\"], [0.2222222222222222, \"#7201a8\"], [0.3333333333333333, \"#9c179e\"], [0.4444444444444444, \"#bd3786\"], [0.5555555555555556, \"#d8576b\"], [0.6666666666666666, \"#ed7953\"], [0.7777777777777778, \"#fb9f3a\"], [0.8888888888888888, \"#fdca26\"], [1.0, \"#f0f921\"]]}, \"colorway\": [\"#636efa\", \"#EF553B\", \"#00cc96\", \"#ab63fa\", \"#FFA15A\", \"#19d3f3\", \"#FF6692\", \"#B6E880\", \"#FF97FF\", \"#FECB52\"], \"font\": {\"color\": \"#2a3f5f\"}, \"geo\": {\"bgcolor\": \"white\", \"lakecolor\": \"white\", \"landcolor\": \"#E5ECF6\", \"showlakes\": true, \"showland\": true, \"subunitcolor\": \"white\"}, \"hoverlabel\": {\"align\": \"left\"}, \"hovermode\": \"closest\", \"mapbox\": {\"style\": \"light\"}, \"paper_bgcolor\": \"white\", \"plot_bgcolor\": \"#E5ECF6\", \"polar\": {\"angularaxis\": {\"gridcolor\": \"white\", \"linecolor\": \"white\", \"ticks\": \"\"}, \"bgcolor\": \"#E5ECF6\", \"radialaxis\": {\"gridcolor\": \"white\", \"linecolor\": \"white\", \"ticks\": \"\"}}, \"scene\": {\"xaxis\": {\"backgroundcolor\": \"#E5ECF6\", \"gridcolor\": \"white\", \"gridwidth\": 2, \"linecolor\": \"white\", \"showbackground\": true, \"ticks\": \"\", \"zerolinecolor\": \"white\"}, \"yaxis\": {\"backgroundcolor\": \"#E5ECF6\", \"gridcolor\": \"white\", \"gridwidth\": 2, \"linecolor\": \"white\", \"showbackground\": true, \"ticks\": \"\", \"zerolinecolor\": \"white\"}, \"zaxis\": {\"backgroundcolor\": \"#E5ECF6\", \"gridcolor\": \"white\", \"gridwidth\": 2, \"linecolor\": \"white\", \"showbackground\": true, \"ticks\": \"\", \"zerolinecolor\": \"white\"}}, \"shapedefaults\": {\"line\": {\"color\": \"#2a3f5f\"}}, \"ternary\": {\"aaxis\": {\"gridcolor\": \"white\", \"linecolor\": \"white\", \"ticks\": \"\"}, \"baxis\": {\"gridcolor\": \"white\", \"linecolor\": \"white\", \"ticks\": \"\"}, \"bgcolor\": \"#E5ECF6\", \"caxis\": {\"gridcolor\": \"white\", \"linecolor\": \"white\", \"ticks\": \"\"}}, \"title\": {\"x\": 0.05}, \"xaxis\": {\"automargin\": true, \"gridcolor\": \"white\", \"linecolor\": \"white\", \"ticks\": \"\", \"title\": {\"standoff\": 15}, \"zerolinecolor\": \"white\", \"zerolinewidth\": 2}, \"yaxis\": {\"automargin\": true, \"gridcolor\": \"white\", \"linecolor\": \"white\", \"ticks\": \"\", \"title\": {\"standoff\": 15}, \"zerolinecolor\": \"white\", \"zerolinewidth\": 2}}}, \"title\": {\"text\": \"Vessel planning\"}, \"xaxis\": {\"range\": [\"1970-01-01T00:00:00\", \"1970-01-01T02:44:25.421321\"], \"title\": {\"font\": {\"color\": \"#7f7f7f\", \"family\": \"Courier New, monospace\", \"size\": 18}, \"text\": \"Time\"}}, \"yaxis\": {\"title\": {\"font\": {\"color\": \"#7f7f7f\", \"family\": \"Courier New, monospace\", \"size\": 18}, \"text\": \"Vessels\"}}},                        {\"responsive\": true}                    ).then(function(){\n",
       "                            \n",
       "var gd = document.getElementById('4306b0d1-0b1d-4341-80a1-710b176a3150');\n",
       "var x = new MutationObserver(function (mutations, observer) {{\n",
       "        var display = window.getComputedStyle(gd).display;\n",
       "        if (!display || display === 'none') {{\n",
       "            console.log([gd, 'removed!']);\n",
       "            Plotly.purge(gd);\n",
       "            observer.disconnect();\n",
       "        }}\n",
       "}});\n",
       "\n",
       "// Listen for the removal of the full notebook cells\n",
       "var notebookContainer = gd.closest('#notebook-container');\n",
       "if (notebookContainer) {{\n",
       "    x.observe(notebookContainer, {childList: true});\n",
       "}}\n",
       "\n",
       "// Listen for the clearing of the current output cell\n",
       "var outputEl = gd.closest('.output');\n",
       "if (outputEl) {{\n",
       "    x.observe(outputEl, {childList: true});\n",
       "}}\n",
       "\n",
       "                        })                };                });            </script>        </div>"
      ]
     },
     "metadata": {},
     "output_type": "display_data"
    }
   ],
   "source": [
    " plot.vessel_planning([vessel, installer, from_site, to_site])"
   ]
  },
  {
   "cell_type": "code",
   "execution_count": 12,
   "metadata": {},
   "outputs": [
    {
     "data": {
      "image/png": "[encoded data removed]",
      "text/plain": [
       "<Figure size 432x288 with 1 Axes>"
      ]
     },
     "metadata": {
      "needs_background": "light"
     },
     "output_type": "display_data"
    },
    {
     "data": {
      "image/png": "[encoded data removed]",
      "text/plain": [
       "<Figure size 432x288 with 1 Axes>"
      ]
     },
     "metadata": {
      "needs_background": "light"
     },
     "output_type": "display_data"
    }
   ],
   "source": [
    "fig = plot.get_step_chart([from_site, to_site])\n",
    "fig = plot.get_step_chart([vessel, installer])"
   ]
  },
  {
   "cell_type": "code",
   "execution_count": null,
   "metadata": {},
   "outputs": [],
   "source": []
  }
 ],
 "metadata": {
  "kernelspec": {
   "display_name": "Python 3",
   "language": "python",
   "name": "python3"
  },
  "language_info": {
   "codemirror_mode": {
    "name": "ipython",
    "version": 3
   },
   "file_extension": ".py",
   "mimetype": "text/x-python",
   "name": "python",
   "nbconvert_exporter": "python",
   "pygments_lexer": "ipython3",
   "version": "3.7.3"
  }
 },
 "nbformat": 4,
 "nbformat_minor": 2
}
