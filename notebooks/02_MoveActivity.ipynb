{
 "cells": [
  {
   "cell_type": "markdown",
   "metadata": {},
   "source": [
    "# Demo MoverActivity"
   ]
  },
  {
   "cell_type": "code",
   "execution_count": 1,
   "metadata": {},
   "outputs": [],
   "source": [
    "import datetime, time\n",
    "import simpy\n",
    "\n",
    "import shapely.geometry\n",
    "\n",
    "import pandas as pd\n",
    "import openclsim.core as core\n",
    "import openclsim.model as model\n",
    "import openclsim.plot as plot\n",
    "\n",
    "# setup environment\n",
    "simulation_start = 0\n",
    "my_env = simpy.Environment(initial_time=simulation_start)\n",
    "registry = {}"
   ]
  },
  {
   "cell_type": "markdown",
   "metadata": {},
   "source": [
    "## Definition of Sites"
   ]
  },
  {
   "cell_type": "code",
   "execution_count": 2,
   "metadata": {},
   "outputs": [],
   "source": [
    "location_from_site = shapely.geometry.Point(4.18055556, 52.18664444)  # lon, lat\n",
    "location_to_site = shapely.geometry.Point(4.25222222, 52.11428333)  # lon, lat\n",
    "\n",
    "Site = type(\n",
    "    \"Site\",\n",
    "    (\n",
    "        core.Identifiable,\n",
    "        core.Log,\n",
    "        core.Locatable,\n",
    "        core.HasContainer,\n",
    "        core.HasResource,\n",
    "    ),\n",
    "    {},\n",
    ")\n",
    "\n",
    "data_from_site = {\n",
    "    \"env\": my_env,\n",
    "    \"name\": \"Winlocatie\",\n",
    "    \"ID\": \"6dbbbdf4-4589-11e9-a501-b469212bff5b\",\n",
    "    \"geometry\": location_from_site,\n",
    "    \"capacity\": 10,\n",
    "    \"level\": 2,\n",
    "}\n",
    "\n",
    "data_to_site = {\n",
    "    \"env\": my_env,\n",
    "    \"name\": \"Dumplocatie\",\n",
    "    \"ID\": \"6dbbbdf5-4589-11e9-82b2-b469212bff5b\",\n",
    "    \"geometry\": location_to_site,\n",
    "    \"capacity\": 10,\n",
    "    \"level\": 0,\n",
    "}\n",
    "\n",
    "from_site = Site(**data_from_site)\n",
    "to_site = Site(**data_to_site)"
   ]
  },
  {
   "cell_type": "markdown",
   "metadata": {},
   "source": [
    "## Creation of Vessel"
   ]
  },
  {
   "cell_type": "code",
   "execution_count": 3,
   "metadata": {},
   "outputs": [],
   "source": [
    "TransportProcessingResource = type(\n",
    "    \"TransportProcessingResource\",\n",
    "    (\n",
    "        core.Identifiable,\n",
    "        core.Log,\n",
    "        core.ContainerDependentMovable,\n",
    "        core.HasResource,\n",
    "        core.Processor,\n",
    "        core.LoadingFunction,\n",
    "        core.UnloadingFunction,\n",
    "    ),\n",
    "    {},\n",
    ")\n",
    "\n",
    "def compute_v_provider(v_empty, v_full):\n",
    "    return lambda x: 10\n",
    "\n",
    "data_hopper = {\n",
    "    \"env\": my_env,\n",
    "    \"name\": \"Hopper 01\",\n",
    "    \"ID\": \"6dbbbdf6-4589-11e9-95a2-b469212bff5b\",\n",
    "    \"geometry\": location_from_site,\n",
    "    \"loading_rate\": 1,\n",
    "    \"unloading_rate\": 1,\n",
    "    \"capacity\": 5,\n",
    "    \"compute_v\": compute_v_provider(5, 4.5),\n",
    "}\n",
    "\n",
    "hopper = TransportProcessingResource(**data_hopper)"
   ]
  },
  {
   "cell_type": "markdown",
   "metadata": {},
   "source": [
    "## Definition of Move activity"
   ]
  },
  {
   "cell_type": "code",
   "execution_count": 4,
   "metadata": {},
   "outputs": [],
   "source": [
    "move_activity_data = {\n",
    "    \"env\": my_env,\n",
    "    \"name\": \"Soil movement\",\n",
    "    \"ID\": \"6dbbbdf7-4589-11e9-bf3b-b469212bff5b\",\n",
    "    \"registry\": registry,\n",
    "    \"mover\": hopper,\n",
    "    \"destination\": to_site,\n",
    "}\n",
    "activity = model.MoveActivity(**move_activity_data)"
   ]
  },
  {
   "cell_type": "markdown",
   "metadata": {},
   "source": [
    "## Run simulation"
   ]
  },
  {
   "cell_type": "code",
   "execution_count": 5,
   "metadata": {},
   "outputs": [],
   "source": [
    "my_env.run()"
   ]
  },
  {
   "cell_type": "code",
   "execution_count": 6,
   "metadata": {},
   "outputs": [
    {
     "data": {
      "text/html": [
       "<div>\n",
       "<style scoped>\n",
       "    .dataframe tbody tr th:only-of-type {\n",
       "        vertical-align: middle;\n",
       "    }\n",
       "\n",
       "    .dataframe tbody tr th {\n",
       "        vertical-align: top;\n",
       "    }\n",
       "\n",
       "    .dataframe thead th {\n",
       "        text-align: right;\n",
       "    }\n",
       "</style>\n",
       "<table border=\"1\" class=\"dataframe\">\n",
       "  <thead>\n",
       "    <tr style=\"text-align: right;\">\n",
       "      <th></th>\n",
       "      <th>Timestamp</th>\n",
       "      <th>ActivityState</th>\n",
       "    </tr>\n",
       "  </thead>\n",
       "  <tbody>\n",
       "    <tr>\n",
       "      <th>0</th>\n",
       "      <td>1970-01-01 00:00:00.000000</td>\n",
       "      <td>START</td>\n",
       "    </tr>\n",
       "    <tr>\n",
       "      <th>1</th>\n",
       "      <td>1970-01-01 00:15:42.824591</td>\n",
       "      <td>STOP</td>\n",
       "    </tr>\n",
       "  </tbody>\n",
       "</table>\n",
       "</div>"
      ],
      "text/plain": [
       "                   Timestamp ActivityState\n",
       "0 1970-01-01 00:00:00.000000         START\n",
       "1 1970-01-01 00:15:42.824591          STOP"
      ]
     },
     "metadata": {},
     "output_type": "display_data"
    },
    {
     "data": {
      "text/html": [
       "<div>\n",
       "<style scoped>\n",
       "    .dataframe tbody tr th:only-of-type {\n",
       "        vertical-align: middle;\n",
       "    }\n",
       "\n",
       "    .dataframe tbody tr th {\n",
       "        vertical-align: top;\n",
       "    }\n",
       "\n",
       "    .dataframe thead th {\n",
       "        text-align: right;\n",
       "    }\n",
       "</style>\n",
       "<table border=\"1\" class=\"dataframe\">\n",
       "  <thead>\n",
       "    <tr style=\"text-align: right;\">\n",
       "      <th></th>\n",
       "      <th>Timestamp</th>\n",
       "      <th>ActivityState</th>\n",
       "      <th>geometry</th>\n",
       "      <th>container level</th>\n",
       "    </tr>\n",
       "  </thead>\n",
       "  <tbody>\n",
       "    <tr>\n",
       "      <th>0</th>\n",
       "      <td>1970-01-01 00:00:00.000000</td>\n",
       "      <td>START</td>\n",
       "      <td>POINT (4.18055556 52.18664444)</td>\n",
       "      <td>0.0</td>\n",
       "    </tr>\n",
       "    <tr>\n",
       "      <th>1</th>\n",
       "      <td>1970-01-01 00:15:42.824591</td>\n",
       "      <td>STOP</td>\n",
       "      <td>POINT (4.25222222 52.11428333)</td>\n",
       "      <td>0.0</td>\n",
       "    </tr>\n",
       "  </tbody>\n",
       "</table>\n",
       "</div>"
      ],
      "text/plain": [
       "                   Timestamp ActivityState                        geometry  \\\n",
       "0 1970-01-01 00:00:00.000000         START  POINT (4.18055556 52.18664444)   \n",
       "1 1970-01-01 00:15:42.824591          STOP  POINT (4.25222222 52.11428333)   \n",
       "\n",
       "   container level  \n",
       "0              0.0  \n",
       "1              0.0  "
      ]
     },
     "metadata": {},
     "output_type": "display_data"
    }
   ],
   "source": [
    "display(plot.get_log_dataframe(activity, [activity]))\n",
    "display(plot.get_log_dataframe(hopper, [activity]))"
   ]
  },
  {
   "cell_type": "code",
   "execution_count": 8,
   "metadata": {},
   "outputs": [
    {
     "data": {
      "text/html": [
       "<div>\n",
       "<style scoped>\n",
       "    .dataframe tbody tr th:only-of-type {\n",
       "        vertical-align: middle;\n",
       "    }\n",
       "\n",
       "    .dataframe tbody tr th {\n",
       "        vertical-align: top;\n",
       "    }\n",
       "\n",
       "    .dataframe thead th {\n",
       "        text-align: right;\n",
       "    }\n",
       "</style>\n",
       "<table border=\"1\" class=\"dataframe\">\n",
       "  <thead>\n",
       "    <tr style=\"text-align: right;\">\n",
       "      <th></th>\n",
       "      <th>Timestamp</th>\n",
       "      <th>ActivityState</th>\n",
       "      <th>geometry</th>\n",
       "      <th>container level</th>\n",
       "    </tr>\n",
       "  </thead>\n",
       "  <tbody>\n",
       "    <tr>\n",
       "      <th>0</th>\n",
       "      <td>1970-01-01 00:00:00.000000</td>\n",
       "      <td>START</td>\n",
       "      <td>POINT (4.18055556 52.18664444)</td>\n",
       "      <td>0.0</td>\n",
       "    </tr>\n",
       "    <tr>\n",
       "      <th>1</th>\n",
       "      <td>1970-01-01 00:15:42.824591</td>\n",
       "      <td>STOP</td>\n",
       "      <td>POINT (4.25222222 52.11428333)</td>\n",
       "      <td>0.0</td>\n",
       "    </tr>\n",
       "  </tbody>\n",
       "</table>\n",
       "</div>"
      ],
      "text/plain": [
       "                   Timestamp ActivityState                        geometry  \\\n",
       "0 1970-01-01 00:00:00.000000         START  POINT (4.18055556 52.18664444)   \n",
       "1 1970-01-01 00:15:42.824591          STOP  POINT (4.25222222 52.11428333)   \n",
       "\n",
       "   container level  \n",
       "0              0.0  \n",
       "1              0.0  "
      ]
     },
     "execution_count": 8,
     "metadata": {},
     "output_type": "execute_result"
    }
   ],
   "source": [
    "simulation_object = hopper\n",
    "activities = []\n",
    "id_map = {act.id: act.name for act in activities}\n",
    "pd.concat(\n",
    "    [\n",
    "        (\n",
    "            pd.DataFrame(simulation_object.log)\n",
    "            .filter(\"ActivityID\")\n",
    "            .rename(columns={\"ActivityID\": \"Activity\"})\n",
    "            .replace(id_map)\n",
    "        ),\n",
    "        pd.DataFrame(simulation_object.log).filter([\"Timestamp\", \"ActivityState\"]),\n",
    "        pd.DataFrame(simulation_object.log[\"ObjectState\"]),\n",
    "    ],\n",
    "    axis=1,\n",
    ")"
   ]
  },
  {
   "cell_type": "code",
   "execution_count": 20,
   "metadata": {},
   "outputs": [
    {
     "data": {
      "text/html": [
       "<div>\n",
       "<style scoped>\n",
       "    .dataframe tbody tr th:only-of-type {\n",
       "        vertical-align: middle;\n",
       "    }\n",
       "\n",
       "    .dataframe tbody tr th {\n",
       "        vertical-align: top;\n",
       "    }\n",
       "\n",
       "    .dataframe thead th {\n",
       "        text-align: right;\n",
       "    }\n",
       "</style>\n",
       "<table border=\"1\" class=\"dataframe\">\n",
       "  <thead>\n",
       "    <tr style=\"text-align: right;\">\n",
       "      <th></th>\n",
       "    </tr>\n",
       "  </thead>\n",
       "  <tbody>\n",
       "    <tr>\n",
       "      <th>0</th>\n",
       "    </tr>\n",
       "    <tr>\n",
       "      <th>1</th>\n",
       "    </tr>\n",
       "  </tbody>\n",
       "</table>\n",
       "</div>"
      ],
      "text/plain": [
       "Empty DataFrame\n",
       "Columns: []\n",
       "Index: [0, 1]"
      ]
     },
     "execution_count": 20,
     "metadata": {},
     "output_type": "execute_result"
    }
   ],
   "source": [
    "(\n",
    "    pd.DataFrame(simulation_object.log)\n",
    "    .filter(items=\"ActivityID\")\n",
    "    .rename(columns={\"ActivityID\": \"Activity\"})\n",
    "    .replace(id_map)\n",
    ")"
   ]
  },
  {
   "cell_type": "code",
   "execution_count": 21,
   "metadata": {},
   "outputs": [
    {
     "data": {
      "text/html": [
       "<div>\n",
       "<style scoped>\n",
       "    .dataframe tbody tr th:only-of-type {\n",
       "        vertical-align: middle;\n",
       "    }\n",
       "\n",
       "    .dataframe tbody tr th {\n",
       "        vertical-align: top;\n",
       "    }\n",
       "\n",
       "    .dataframe thead th {\n",
       "        text-align: right;\n",
       "    }\n",
       "</style>\n",
       "<table border=\"1\" class=\"dataframe\">\n",
       "  <thead>\n",
       "    <tr style=\"text-align: right;\">\n",
       "      <th></th>\n",
       "    </tr>\n",
       "  </thead>\n",
       "  <tbody>\n",
       "    <tr>\n",
       "      <th>0</th>\n",
       "    </tr>\n",
       "    <tr>\n",
       "      <th>1</th>\n",
       "    </tr>\n",
       "  </tbody>\n",
       "</table>\n",
       "</div>"
      ],
      "text/plain": [
       "Empty DataFrame\n",
       "Columns: []\n",
       "Index: [0, 1]"
      ]
     },
     "execution_count": 21,
     "metadata": {},
     "output_type": "execute_result"
    }
   ],
   "source": [
    "pd.DataFrame(simulation_object.log)"
   ]
  },
  {
   "cell_type": "code",
   "execution_count": null,
   "metadata": {},
   "outputs": [],
   "source": []
  }
 ],
 "metadata": {
  "kernelspec": {
   "display_name": "Python 3",
   "language": "python",
   "name": "python3"
  },
  "language_info": {
   "codemirror_mode": {
    "name": "ipython",
    "version": 3
   },
   "file_extension": ".py",
   "mimetype": "text/x-python",
   "name": "python",
   "nbconvert_exporter": "python",
   "pygments_lexer": "ipython3",
   "version": "3.7.3"
  }
 },
 "nbformat": 4,
 "nbformat_minor": 2
}
