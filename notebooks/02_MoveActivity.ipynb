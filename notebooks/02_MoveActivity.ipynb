{
 "cells": [
  {
   "cell_type": "markdown",
   "metadata": {},
   "source": [
    "# Demo MoverActivity"
   ]
  },
  {
   "cell_type": "code",
   "execution_count": 1,
   "metadata": {},
   "outputs": [],
   "source": [
    "import datetime, time\n",
    "import simpy\n",
    "\n",
    "import shapely.geometry\n",
    "\n",
    "import pandas as pd\n",
    "import openclsim.core as core\n",
    "import openclsim.model as model\n",
    "import openclsim.plot as plot\n",
    "\n",
    "# setup environment\n",
    "simulation_start = 0\n",
    "my_env = simpy.Environment(initial_time=simulation_start)\n",
    "registry = {}"
   ]
  },
  {
   "cell_type": "markdown",
   "metadata": {},
   "source": [
    "## Definition of Sites"
   ]
  },
  {
   "cell_type": "code",
   "execution_count": 2,
   "metadata": {},
   "outputs": [],
   "source": [
    "location_from_site = shapely.geometry.Point(4.18055556, 52.18664444)  # lon, lat\n",
    "location_to_site = shapely.geometry.Point(4.25222222, 52.11428333)  # lon, lat\n",
    "\n",
    "Site = type(\n",
    "    \"Site\",\n",
    "    (\n",
    "        core.Identifiable,\n",
    "        core.Log,\n",
    "        core.Locatable,\n",
    "        core.HasContainer,\n",
    "        core.HasResource,\n",
    "    ),\n",
    "    {},\n",
    ")\n",
    "\n",
    "data_from_site = {\n",
    "    \"env\": my_env,\n",
    "    \"name\": \"Winlocatie\",\n",
    "    \"ID\": \"6dbbbdf4-4589-11e9-a501-b469212bff5b\",\n",
    "    \"geometry\": location_from_site,\n",
    "    \"capacity\": 10,\n",
    "    \"level\": 2,\n",
    "}\n",
    "\n",
    "data_to_site = {\n",
    "    \"env\": my_env,\n",
    "    \"name\": \"Dumplocatie\",\n",
    "    \"ID\": \"6dbbbdf5-4589-11e9-82b2-b469212bff5b\",\n",
    "    \"geometry\": location_to_site,\n",
    "    \"capacity\": 10,\n",
    "    \"level\": 0,\n",
    "}\n",
    "\n",
    "from_site = Site(**data_from_site)\n",
    "to_site = Site(**data_to_site)"
   ]
  },
  {
   "cell_type": "markdown",
   "metadata": {},
   "source": [
    "## Creation of Vessel"
   ]
  },
  {
   "cell_type": "code",
   "execution_count": 3,
   "metadata": {},
   "outputs": [],
   "source": [
    "TransportProcessingResource = type(\n",
    "    \"TransportProcessingResource\",\n",
    "    (\n",
    "        core.Identifiable,\n",
    "        core.Log,\n",
    "        core.ContainerDependentMovable,\n",
    "        core.HasResource,\n",
    "        core.Processor,\n",
    "        core.LoadingFunction,\n",
    "        core.UnloadingFunction,\n",
    "    ),\n",
    "    {},\n",
    ")\n",
    "\n",
    "def compute_v_provider(v_empty, v_full):\n",
    "    return lambda x: 10\n",
    "\n",
    "data_hopper = {\n",
    "    \"env\": my_env,\n",
    "    \"name\": \"Hopper 01\",\n",
    "    \"ID\": \"6dbbbdf6-4589-11e9-95a2-b469212bff5b\",\n",
    "    \"geometry\": location_from_site,\n",
    "    \"loading_rate\": 1,\n",
    "    \"unloading_rate\": 1,\n",
    "    \"capacity\": 5,\n",
    "    \"compute_v\": compute_v_provider(5, 4.5),\n",
    "}\n",
    "\n",
    "hopper = TransportProcessingResource(**data_hopper)"
   ]
  },
  {
   "cell_type": "markdown",
   "metadata": {},
   "source": [
    "## Definition of Move activity"
   ]
  },
  {
   "cell_type": "code",
   "execution_count": 4,
   "metadata": {},
   "outputs": [],
   "source": [
    "move_activity_data = {\n",
    "    \"env\": my_env,\n",
    "    \"name\": \"Soil movement\",\n",
    "    \"ID\": \"6dbbbdf7-4589-11e9-bf3b-b469212bff5b\",\n",
    "    \"registry\": registry,\n",
    "    \"mover\": hopper,\n",
    "    \"destination\": to_site,\n",
    "}\n",
    "activity = model.MoveActivity(**move_activity_data)"
   ]
  },
  {
   "cell_type": "markdown",
   "metadata": {},
   "source": [
    "## Run simulation"
   ]
  },
  {
   "cell_type": "code",
   "execution_count": 5,
   "metadata": {},
   "outputs": [],
   "source": [
    "my_env.run()"
   ]
  },
  {
   "cell_type": "code",
   "execution_count": 9,
   "metadata": {},
   "outputs": [
    {
     "data": {
      "text/html": [
       "<style  type=\"text/css\" >\n",
       "</style><table id=\"T_1ac91860_19c5_11eb_bac9_0242ac140002\" ><caption>Log of the Soil movement</caption><thead>    <tr>        <th class=\"blank level0\" ></th>        <th class=\"col_heading level0 col0\" >Timestamp</th>        <th class=\"col_heading level0 col1\" >Activity</th>        <th class=\"col_heading level0 col2\" >ActivityState</th>    </tr></thead><tbody>\n",
       "                <tr>\n",
       "                        <th id=\"T_1ac91860_19c5_11eb_bac9_0242ac140002level0_row0\" class=\"row_heading level0 row0\" >0</th>\n",
       "                        <td id=\"T_1ac91860_19c5_11eb_bac9_0242ac140002row0_col0\" class=\"data row0 col0\" >1970-01-01 00:00:00</td>\n",
       "                        <td id=\"T_1ac91860_19c5_11eb_bac9_0242ac140002row0_col1\" class=\"data row0 col1\" >Soil movement</td>\n",
       "                        <td id=\"T_1ac91860_19c5_11eb_bac9_0242ac140002row0_col2\" class=\"data row0 col2\" >START</td>\n",
       "            </tr>\n",
       "            <tr>\n",
       "                        <th id=\"T_1ac91860_19c5_11eb_bac9_0242ac140002level0_row1\" class=\"row_heading level0 row1\" >1</th>\n",
       "                        <td id=\"T_1ac91860_19c5_11eb_bac9_0242ac140002row1_col0\" class=\"data row1 col0\" >1970-01-01 00:15:42.824591</td>\n",
       "                        <td id=\"T_1ac91860_19c5_11eb_bac9_0242ac140002row1_col1\" class=\"data row1 col1\" >Soil movement</td>\n",
       "                        <td id=\"T_1ac91860_19c5_11eb_bac9_0242ac140002row1_col2\" class=\"data row1 col2\" >STOP</td>\n",
       "            </tr>\n",
       "    </tbody></table>"
      ],
      "text/plain": [
       "<pandas.io.formats.style.Styler at 0x7fb21c931c18>"
      ]
     },
     "metadata": {},
     "output_type": "display_data"
    },
    {
     "data": {
      "text/html": [
       "<style  type=\"text/css\" >\n",
       "</style><table id=\"T_1aca6756_19c5_11eb_bac9_0242ac140002\" ><caption>Log of the Hopper 01</caption><thead>    <tr>        <th class=\"blank level0\" ></th>        <th class=\"col_heading level0 col0\" >Timestamp</th>        <th class=\"col_heading level0 col1\" >Activity</th>        <th class=\"col_heading level0 col2\" >ActivityState</th>        <th class=\"col_heading level0 col3\" >geometry</th>        <th class=\"col_heading level0 col4\" >container level</th>    </tr></thead><tbody>\n",
       "                <tr>\n",
       "                        <th id=\"T_1aca6756_19c5_11eb_bac9_0242ac140002level0_row0\" class=\"row_heading level0 row0\" >0</th>\n",
       "                        <td id=\"T_1aca6756_19c5_11eb_bac9_0242ac140002row0_col0\" class=\"data row0 col0\" >1970-01-01 00:00:00</td>\n",
       "                        <td id=\"T_1aca6756_19c5_11eb_bac9_0242ac140002row0_col1\" class=\"data row0 col1\" >Soil movement</td>\n",
       "                        <td id=\"T_1aca6756_19c5_11eb_bac9_0242ac140002row0_col2\" class=\"data row0 col2\" >START</td>\n",
       "                        <td id=\"T_1aca6756_19c5_11eb_bac9_0242ac140002row0_col3\" class=\"data row0 col3\" >POINT (4.18055556 52.18664444)</td>\n",
       "                        <td id=\"T_1aca6756_19c5_11eb_bac9_0242ac140002row0_col4\" class=\"data row0 col4\" >0.000000</td>\n",
       "            </tr>\n",
       "            <tr>\n",
       "                        <th id=\"T_1aca6756_19c5_11eb_bac9_0242ac140002level0_row1\" class=\"row_heading level0 row1\" >1</th>\n",
       "                        <td id=\"T_1aca6756_19c5_11eb_bac9_0242ac140002row1_col0\" class=\"data row1 col0\" >1970-01-01 00:15:42.824591</td>\n",
       "                        <td id=\"T_1aca6756_19c5_11eb_bac9_0242ac140002row1_col1\" class=\"data row1 col1\" >Soil movement</td>\n",
       "                        <td id=\"T_1aca6756_19c5_11eb_bac9_0242ac140002row1_col2\" class=\"data row1 col2\" >STOP</td>\n",
       "                        <td id=\"T_1aca6756_19c5_11eb_bac9_0242ac140002row1_col3\" class=\"data row1 col3\" >POINT (4.25222222 52.11428333)</td>\n",
       "                        <td id=\"T_1aca6756_19c5_11eb_bac9_0242ac140002row1_col4\" class=\"data row1 col4\" >0.000000</td>\n",
       "            </tr>\n",
       "    </tbody></table>"
      ],
      "text/plain": [
       "<pandas.io.formats.style.Styler at 0x7fb21c931f28>"
      ]
     },
     "metadata": {},
     "output_type": "display_data"
    }
   ],
   "source": [
    "display(plot.get_log_dataframe(activity, [activity]))\n",
    "display(plot.get_log_dataframe(hopper, [activity]))"
   ]
  },
  {
   "cell_type": "code",
   "execution_count": null,
   "metadata": {},
   "outputs": [],
   "source": []
  }
 ],
 "metadata": {
  "kernelspec": {
   "display_name": "Python 3",
   "language": "python",
   "name": "python3"
  },
  "language_info": {
   "codemirror_mode": {
    "name": "ipython",
    "version": 3
   },
   "file_extension": ".py",
   "mimetype": "text/x-python",
   "name": "python",
   "nbconvert_exporter": "python",
   "pygments_lexer": "ipython3",
   "version": "3.7.3"
  }
 },
 "nbformat": 4,
 "nbformat_minor": 2
}
