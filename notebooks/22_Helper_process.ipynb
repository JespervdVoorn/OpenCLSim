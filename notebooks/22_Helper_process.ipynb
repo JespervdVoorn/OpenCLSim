{
 "cells": [
  {
   "cell_type": "markdown",
   "metadata": {},
   "source": [
    "## Demo: Triggers in ParallelActivity\n",
    "The basic steps to set up an OpenCLSim simulation are:\n",
    "* Import libraries\n",
    "* Initialise simpy environment\n",
    "* Define object classes\n",
    "* Create objects\n",
    "  * Create sites\n",
    "  * Create vessels\n",
    "  * Create activities\n",
    "* Register processes and run simpy\n",
    "\n",
    "----\n",
    "\n",
    "This notebook is a small extension to notebook 14 'Singelrun': 'repeating a subcycle until a stop condition is triggered'. It is a single run consisting of the following four phases, but with exar helper processes:\n",
    "* sail empty\n",
    "* loading\n",
    "* sail full\n",
    "* unloading: with a prio prepair and a posterior clean-up activity"
   ]
  },
  {
   "cell_type": "markdown",
   "metadata": {},
   "source": [
    "#### 0. Import libraries"
   ]
  },
  {
   "cell_type": "code",
   "execution_count": 1,
   "metadata": {},
   "outputs": [],
   "source": [
    "import datetime, time\n",
    "import simpy\n",
    "\n",
    "import shapely.geometry\n",
    "import pandas as pd\n",
    "\n",
    "import openclsim.core as core\n",
    "import openclsim.model as model\n",
    "import openclsim.plot as plot"
   ]
  },
  {
   "cell_type": "markdown",
   "metadata": {},
   "source": [
    "#### 1. Initialise simpy environment"
   ]
  },
  {
   "cell_type": "code",
   "execution_count": 2,
   "metadata": {},
   "outputs": [],
   "source": [
    "# setup environment\n",
    "simulation_start = 0\n",
    "my_env = simpy.Environment(initial_time=simulation_start)"
   ]
  },
  {
   "cell_type": "markdown",
   "metadata": {},
   "source": [
    "#### 2. Define object classes"
   ]
  },
  {
   "cell_type": "code",
   "execution_count": 3,
   "metadata": {},
   "outputs": [],
   "source": [
    "# create a Site object based on desired mixin classes\n",
    "Site = type(\n",
    "    \"Site\",\n",
    "    (\n",
    "        core.Identifiable,\n",
    "        core.Log,\n",
    "        core.Locatable,\n",
    "        core.HasContainer,\n",
    "        core.HasResource,\n",
    "    ),\n",
    "    {},\n",
    ")\n",
    "\n",
    "# create a TransportProcessingResource object based on desired mixin classes\n",
    "TransportProcessingResource = type(\n",
    "    \"TransportProcessingResource\",\n",
    "    (\n",
    "        core.ContainerDependentMovable,\n",
    "        core.Processor,\n",
    "        core.HasResource,\n",
    "        core.LoadingFunction,\n",
    "        core.UnloadingFunction,\n",
    "        core.Identifiable,\n",
    "        core.Log,\n",
    "    ),\n",
    "    {},\n",
    ")"
   ]
  },
  {
   "cell_type": "markdown",
   "metadata": {},
   "source": [
    "#### 3. Create objects\n",
    "##### 3.1. Create site object(s)"
   ]
  },
  {
   "cell_type": "code",
   "execution_count": 4,
   "metadata": {},
   "outputs": [],
   "source": [
    "# prepare input data for from_site\n",
    "location_from_site = shapely.geometry.Point(4.18055556, 52.18664444)\n",
    "data_from_site = {\"env\": my_env,\n",
    "                  \"name\": \"from_site\",\n",
    "                  \"geometry\": location_from_site,\n",
    "                  \"capacity\": 100,\n",
    "                  \"level\": 50\n",
    "                 }\n",
    "# instantiate from_site \n",
    "from_site = Site(**data_from_site)\n",
    "\n",
    "# prepare input data for to_site\n",
    "location_to_site = shapely.geometry.Point(4.25222222, 52.11428333)\n",
    "data_to_site = {\"env\": my_env,\n",
    "                \"name\": \"to_site\",\n",
    "                \"geometry\": location_to_site,\n",
    "                \"capacity\": 50,\n",
    "                \"level\": 0\n",
    "               }\n",
    "# instantiate to_site \n",
    "to_site = Site(**data_to_site)"
   ]
  },
  {
   "cell_type": "markdown",
   "metadata": {},
   "source": [
    "##### 3.2. Create vessel object(s)"
   ]
  },
  {
   "cell_type": "code",
   "execution_count": 5,
   "metadata": {},
   "outputs": [],
   "source": [
    "# prepare input data for vessel_01\n",
    "data_vessel01 = {\"env\": my_env,\n",
    "                 \"name\": \"vessel01\",\n",
    "                 \"geometry\": location_from_site, \n",
    "                 \"loading_rate\": 0.00001,\n",
    "                 \"unloading_rate\": 0.00001,\n",
    "                 \"capacity\": 4,\n",
    "                 \"compute_v\": lambda x: 10\n",
    "               }\n",
    "# instantiate vessel_01 \n",
    "vessel01 = TransportProcessingResource(**data_vessel01)"
   ]
  },
  {
   "cell_type": "markdown",
   "metadata": {},
   "source": [
    "##### 3.3 Create activity/activities"
   ]
  },
  {
   "cell_type": "code",
   "execution_count": 6,
   "metadata": {},
   "outputs": [],
   "source": [
    "# initialise registry\n",
    "registry = {}"
   ]
  },
  {
   "cell_type": "code",
   "execution_count": 7,
   "metadata": {},
   "outputs": [],
   "source": [
    "# create a list of the sub processes\n",
    "sub_processes_main = [\n",
    "    model.MoveActivity(\n",
    "        env=my_env,\n",
    "        name=\"sailing empty\",\n",
    "        registry=registry,\n",
    "        mover=vessel01,\n",
    "        destination=from_site,\n",
    "        duration=1000,\n",
    "    ),\n",
    "    model.ShiftAmountActivity(\n",
    "        env=my_env,\n",
    "        name=\"Loading\",\n",
    "        registry=registry,\n",
    "        processor=vessel01,\n",
    "        origin=from_site,\n",
    "        destination=vessel01,\n",
    "        amount=4,\n",
    "        duration=1000,\n",
    "    ),\n",
    "    model.MoveActivity(\n",
    "        env=my_env,\n",
    "        name=\"sailing filled\",\n",
    "        registry=registry,\n",
    "        mover=vessel01,\n",
    "        destination=to_site,\n",
    "        duration=1000,\n",
    "    ),\n",
    "    model.ShiftAmountActivity(\n",
    "        env=my_env,\n",
    "        name=\"unloading\",\n",
    "        registry=registry,\n",
    "        processor=vessel01,\n",
    "        origin=vessel01,\n",
    "        destination=to_site,\n",
    "        amount=4,\n",
    "        duration=1000,\n",
    "        start_event=[\n",
    "            {\n",
    "                \"name\": \"prepair\",\n",
    "                \"type\": \"activity\",\n",
    "                \"state\": \"done\"\n",
    "            }\n",
    "        ]\n",
    "    ),\n",
    "    model.BasicActivity(\n",
    "        env=my_env,\n",
    "        name=\"Basic activity\",\n",
    "        registry=registry,\n",
    "        duration=1000,\n",
    "        additional_logs=[vessel01],\n",
    "    ),\n",
    "]\n",
    "\n",
    "# create a 'sequential activity' that is made up of the 'sub_processes'\n",
    "sequential_activity_main = model.SequentialActivity(\n",
    "    env=my_env,\n",
    "    name=\"main_process\",\n",
    "    registry=registry,\n",
    "    sub_processes=sub_processes_main,\n",
    ")\n",
    "\n",
    "# create a list of the sub processes\n",
    "sub_processes_helper = [\n",
    "    model.BasicActivity(\n",
    "        env=my_env,\n",
    "        name=\"prepair\",\n",
    "        registry=registry,\n",
    "        duration=10000,\n",
    "        additional_logs=[vessel01],\n",
    "    ),\n",
    "    model.BasicActivity(\n",
    "        env=my_env,\n",
    "        name=\"clean-up\",\n",
    "        registry=registry,\n",
    "        duration=1000,\n",
    "        additional_logs=[vessel01],\n",
    "        start_event=[\n",
    "            {\n",
    "                \"name\": \"unloading\",\n",
    "                \"type\": \"activity\",\n",
    "                \"state\": \"done\"\n",
    "            }\n",
    "        ]\n",
    "    ),\n",
    "]\n",
    "\n",
    "# create a 'sequential activity' that is made up of the 'sub_processes'\n",
    "sequential_activity_helper = model.SequentialActivity(\n",
    "    env=my_env,\n",
    "    name=\"helper_process\",\n",
    "    registry=registry,\n",
    "    sub_processes=sub_processes_helper,\n",
    ")\n",
    "\n",
    "parallel = model.ParallelActivity(\n",
    "    env=my_env,\n",
    "    name=\"parallel\",\n",
    "    registry=registry,\n",
    "    sub_processes=[sequential_activity_helper, sequential_activity_main],\n",
    ")\n",
    "\n",
    "while_activity = model.WhileActivity(\n",
    "    env=my_env,\n",
    "    name=\"while\",\n",
    "    registry=registry,\n",
    "    sub_processes=[parallel],\n",
    "    condition_event=[{\"type\": \"container\", \"concept\": to_site, \"state\": \"full\"}],\n",
    ")"
   ]
  },
  {
   "cell_type": "markdown",
   "metadata": {},
   "source": [
    "#### 4. Register processes and run simpy"
   ]
  },
  {
   "cell_type": "code",
   "execution_count": 8,
   "metadata": {},
   "outputs": [],
   "source": [
    "model.register_processes([while_activity])\n",
    "my_env.run()"
   ]
  },
  {
   "cell_type": "markdown",
   "metadata": {},
   "source": [
    "#### 5. Inspect results\n",
    "##### 5.1 Inspect logs"
   ]
  },
  {
   "cell_type": "code",
   "execution_count": 9,
   "metadata": {},
   "outputs": [
    {
     "data": {
      "text/html": [
       "<div>\n",
       "<style scoped>\n",
       "    .dataframe tbody tr th:only-of-type {\n",
       "        vertical-align: middle;\n",
       "    }\n",
       "\n",
       "    .dataframe tbody tr th {\n",
       "        vertical-align: top;\n",
       "    }\n",
       "\n",
       "    .dataframe thead th {\n",
       "        text-align: right;\n",
       "    }\n",
       "</style>\n",
       "<table border=\"1\" class=\"dataframe\">\n",
       "  <thead>\n",
       "    <tr style=\"text-align: right;\">\n",
       "      <th></th>\n",
       "      <th>Activity</th>\n",
       "      <th>Timestamp</th>\n",
       "      <th>ActivityState</th>\n",
       "      <th>container level</th>\n",
       "      <th>geometry</th>\n",
       "      <th>type</th>\n",
       "      <th>ref</th>\n",
       "    </tr>\n",
       "  </thead>\n",
       "  <tbody>\n",
       "    <tr>\n",
       "      <th>0</th>\n",
       "      <td>prepair</td>\n",
       "      <td>1970-01-01 00:00:00</td>\n",
       "      <td>START</td>\n",
       "      <td>0.0</td>\n",
       "      <td>POINT (4.18055556 52.18664444)</td>\n",
       "      <td>additional log</td>\n",
       "      <td>792d9b37-33b1-4450-b540-c022917cfd21</td>\n",
       "    </tr>\n",
       "    <tr>\n",
       "      <th>1</th>\n",
       "      <td>sailing empty</td>\n",
       "      <td>1970-01-01 00:00:00</td>\n",
       "      <td>START</td>\n",
       "      <td>0.0</td>\n",
       "      <td>POINT (4.18055556 52.18664444)</td>\n",
       "      <td>NaN</td>\n",
       "      <td>NaN</td>\n",
       "    </tr>\n",
       "    <tr>\n",
       "      <th>2</th>\n",
       "      <td>sailing empty</td>\n",
       "      <td>1970-01-01 00:16:40</td>\n",
       "      <td>STOP</td>\n",
       "      <td>0.0</td>\n",
       "      <td>POINT (4.18055556 52.18664444)</td>\n",
       "      <td>NaN</td>\n",
       "      <td>NaN</td>\n",
       "    </tr>\n",
       "    <tr>\n",
       "      <th>3</th>\n",
       "      <td>Loading</td>\n",
       "      <td>1970-01-01 00:16:40</td>\n",
       "      <td>START</td>\n",
       "      <td>0.0</td>\n",
       "      <td>POINT (4.18055556 52.18664444)</td>\n",
       "      <td>NaN</td>\n",
       "      <td>NaN</td>\n",
       "    </tr>\n",
       "    <tr>\n",
       "      <th>4</th>\n",
       "      <td>Loading</td>\n",
       "      <td>1970-01-01 00:33:20</td>\n",
       "      <td>STOP</td>\n",
       "      <td>4.0</td>\n",
       "      <td>POINT (4.18055556 52.18664444)</td>\n",
       "      <td>NaN</td>\n",
       "      <td>NaN</td>\n",
       "    </tr>\n",
       "    <tr>\n",
       "      <th>...</th>\n",
       "      <td>...</td>\n",
       "      <td>...</td>\n",
       "      <td>...</td>\n",
       "      <td>...</td>\n",
       "      <td>...</td>\n",
       "      <td>...</td>\n",
       "      <td>...</td>\n",
       "    </tr>\n",
       "    <tr>\n",
       "      <th>204</th>\n",
       "      <td>clean-up</td>\n",
       "      <td>1970-01-02 19:03:20</td>\n",
       "      <td>WAIT_STOP</td>\n",
       "      <td>0.0</td>\n",
       "      <td>POINT (4.25222222 52.11428333)</td>\n",
       "      <td>additional log</td>\n",
       "      <td>2a2ab74e-4b4a-4aba-b2b5-65c8ffb28527</td>\n",
       "    </tr>\n",
       "    <tr>\n",
       "      <th>201</th>\n",
       "      <td>unloading</td>\n",
       "      <td>1970-01-02 19:03:20</td>\n",
       "      <td>STOP</td>\n",
       "      <td>0.0</td>\n",
       "      <td>POINT (4.25222222 52.11428333)</td>\n",
       "      <td>NaN</td>\n",
       "      <td>NaN</td>\n",
       "    </tr>\n",
       "    <tr>\n",
       "      <th>205</th>\n",
       "      <td>clean-up</td>\n",
       "      <td>1970-01-02 19:03:20</td>\n",
       "      <td>START</td>\n",
       "      <td>0.0</td>\n",
       "      <td>POINT (4.25222222 52.11428333)</td>\n",
       "      <td>additional log</td>\n",
       "      <td>2a2ab74e-4b4a-4aba-b2b5-65c8ffb28527</td>\n",
       "    </tr>\n",
       "    <tr>\n",
       "      <th>206</th>\n",
       "      <td>Basic activity</td>\n",
       "      <td>1970-01-02 19:20:00</td>\n",
       "      <td>STOP</td>\n",
       "      <td>0.0</td>\n",
       "      <td>POINT (4.25222222 52.11428333)</td>\n",
       "      <td>additional log</td>\n",
       "      <td>856d6d81-3314-4b7a-807f-486cfdce8554</td>\n",
       "    </tr>\n",
       "    <tr>\n",
       "      <th>207</th>\n",
       "      <td>clean-up</td>\n",
       "      <td>1970-01-02 19:20:00</td>\n",
       "      <td>STOP</td>\n",
       "      <td>0.0</td>\n",
       "      <td>POINT (4.25222222 52.11428333)</td>\n",
       "      <td>additional log</td>\n",
       "      <td>2a2ab74e-4b4a-4aba-b2b5-65c8ffb28527</td>\n",
       "    </tr>\n",
       "  </tbody>\n",
       "</table>\n",
       "<p>208 rows × 7 columns</p>\n",
       "</div>"
      ],
      "text/plain": [
       "           Activity           Timestamp ActivityState  container level  \\\n",
       "0           prepair 1970-01-01 00:00:00         START              0.0   \n",
       "1     sailing empty 1970-01-01 00:00:00         START              0.0   \n",
       "2     sailing empty 1970-01-01 00:16:40          STOP              0.0   \n",
       "3           Loading 1970-01-01 00:16:40         START              0.0   \n",
       "4           Loading 1970-01-01 00:33:20          STOP              4.0   \n",
       "..              ...                 ...           ...              ...   \n",
       "204        clean-up 1970-01-02 19:03:20     WAIT_STOP              0.0   \n",
       "201       unloading 1970-01-02 19:03:20          STOP              0.0   \n",
       "205        clean-up 1970-01-02 19:03:20         START              0.0   \n",
       "206  Basic activity 1970-01-02 19:20:00          STOP              0.0   \n",
       "207        clean-up 1970-01-02 19:20:00          STOP              0.0   \n",
       "\n",
       "                           geometry            type  \\\n",
       "0    POINT (4.18055556 52.18664444)  additional log   \n",
       "1    POINT (4.18055556 52.18664444)             NaN   \n",
       "2    POINT (4.18055556 52.18664444)             NaN   \n",
       "3    POINT (4.18055556 52.18664444)             NaN   \n",
       "4    POINT (4.18055556 52.18664444)             NaN   \n",
       "..                              ...             ...   \n",
       "204  POINT (4.25222222 52.11428333)  additional log   \n",
       "201  POINT (4.25222222 52.11428333)             NaN   \n",
       "205  POINT (4.25222222 52.11428333)  additional log   \n",
       "206  POINT (4.25222222 52.11428333)  additional log   \n",
       "207  POINT (4.25222222 52.11428333)  additional log   \n",
       "\n",
       "                                      ref  \n",
       "0    792d9b37-33b1-4450-b540-c022917cfd21  \n",
       "1                                     NaN  \n",
       "2                                     NaN  \n",
       "3                                     NaN  \n",
       "4                                     NaN  \n",
       "..                                    ...  \n",
       "204  2a2ab74e-4b4a-4aba-b2b5-65c8ffb28527  \n",
       "201                                   NaN  \n",
       "205  2a2ab74e-4b4a-4aba-b2b5-65c8ffb28527  \n",
       "206  856d6d81-3314-4b7a-807f-486cfdce8554  \n",
       "207  2a2ab74e-4b4a-4aba-b2b5-65c8ffb28527  \n",
       "\n",
       "[208 rows x 7 columns]"
      ]
     },
     "execution_count": 9,
     "metadata": {},
     "output_type": "execute_result"
    }
   ],
   "source": [
    "plot.get_log_dataframe(vessel01, [while_activity, *sub_processes_main, sequential_activity_main])"
   ]
  },
  {
   "cell_type": "code",
   "execution_count": 10,
   "metadata": {},
   "outputs": [
    {
     "data": {
      "text/html": [
       "<div>\n",
       "<style scoped>\n",
       "    .dataframe tbody tr th:only-of-type {\n",
       "        vertical-align: middle;\n",
       "    }\n",
       "\n",
       "    .dataframe tbody tr th {\n",
       "        vertical-align: top;\n",
       "    }\n",
       "\n",
       "    .dataframe thead th {\n",
       "        text-align: right;\n",
       "    }\n",
       "</style>\n",
       "<table border=\"1\" class=\"dataframe\">\n",
       "  <thead>\n",
       "    <tr style=\"text-align: right;\">\n",
       "      <th></th>\n",
       "      <th>Activity</th>\n",
       "      <th>Timestamp</th>\n",
       "      <th>ActivityState</th>\n",
       "      <th>container level</th>\n",
       "      <th>geometry</th>\n",
       "      <th>type</th>\n",
       "      <th>ref</th>\n",
       "    </tr>\n",
       "  </thead>\n",
       "  <tbody>\n",
       "    <tr>\n",
       "      <th>0</th>\n",
       "      <td>prepair</td>\n",
       "      <td>1970-01-01 00:00:00</td>\n",
       "      <td>START</td>\n",
       "      <td>0.0</td>\n",
       "      <td>POINT (4.18055556 52.18664444)</td>\n",
       "      <td>additional log</td>\n",
       "      <td>792d9b37-33b1-4450-b540-c022917cfd21</td>\n",
       "    </tr>\n",
       "    <tr>\n",
       "      <th>1</th>\n",
       "      <td>sailing empty</td>\n",
       "      <td>1970-01-01 00:00:00</td>\n",
       "      <td>START</td>\n",
       "      <td>0.0</td>\n",
       "      <td>POINT (4.18055556 52.18664444)</td>\n",
       "      <td>NaN</td>\n",
       "      <td>NaN</td>\n",
       "    </tr>\n",
       "    <tr>\n",
       "      <th>2</th>\n",
       "      <td>sailing empty</td>\n",
       "      <td>1970-01-01 00:16:40</td>\n",
       "      <td>STOP</td>\n",
       "      <td>0.0</td>\n",
       "      <td>POINT (4.18055556 52.18664444)</td>\n",
       "      <td>NaN</td>\n",
       "      <td>NaN</td>\n",
       "    </tr>\n",
       "    <tr>\n",
       "      <th>3</th>\n",
       "      <td>Loading</td>\n",
       "      <td>1970-01-01 00:16:40</td>\n",
       "      <td>START</td>\n",
       "      <td>0.0</td>\n",
       "      <td>POINT (4.18055556 52.18664444)</td>\n",
       "      <td>NaN</td>\n",
       "      <td>NaN</td>\n",
       "    </tr>\n",
       "    <tr>\n",
       "      <th>4</th>\n",
       "      <td>Loading</td>\n",
       "      <td>1970-01-01 00:33:20</td>\n",
       "      <td>STOP</td>\n",
       "      <td>4.0</td>\n",
       "      <td>POINT (4.18055556 52.18664444)</td>\n",
       "      <td>NaN</td>\n",
       "      <td>NaN</td>\n",
       "    </tr>\n",
       "    <tr>\n",
       "      <th>...</th>\n",
       "      <td>...</td>\n",
       "      <td>...</td>\n",
       "      <td>...</td>\n",
       "      <td>...</td>\n",
       "      <td>...</td>\n",
       "      <td>...</td>\n",
       "      <td>...</td>\n",
       "    </tr>\n",
       "    <tr>\n",
       "      <th>204</th>\n",
       "      <td>clean-up</td>\n",
       "      <td>1970-01-02 19:03:20</td>\n",
       "      <td>WAIT_STOP</td>\n",
       "      <td>0.0</td>\n",
       "      <td>POINT (4.25222222 52.11428333)</td>\n",
       "      <td>additional log</td>\n",
       "      <td>2a2ab74e-4b4a-4aba-b2b5-65c8ffb28527</td>\n",
       "    </tr>\n",
       "    <tr>\n",
       "      <th>201</th>\n",
       "      <td>unloading</td>\n",
       "      <td>1970-01-02 19:03:20</td>\n",
       "      <td>STOP</td>\n",
       "      <td>0.0</td>\n",
       "      <td>POINT (4.25222222 52.11428333)</td>\n",
       "      <td>NaN</td>\n",
       "      <td>NaN</td>\n",
       "    </tr>\n",
       "    <tr>\n",
       "      <th>205</th>\n",
       "      <td>clean-up</td>\n",
       "      <td>1970-01-02 19:03:20</td>\n",
       "      <td>START</td>\n",
       "      <td>0.0</td>\n",
       "      <td>POINT (4.25222222 52.11428333)</td>\n",
       "      <td>additional log</td>\n",
       "      <td>2a2ab74e-4b4a-4aba-b2b5-65c8ffb28527</td>\n",
       "    </tr>\n",
       "    <tr>\n",
       "      <th>206</th>\n",
       "      <td>Basic activity</td>\n",
       "      <td>1970-01-02 19:20:00</td>\n",
       "      <td>STOP</td>\n",
       "      <td>0.0</td>\n",
       "      <td>POINT (4.25222222 52.11428333)</td>\n",
       "      <td>additional log</td>\n",
       "      <td>856d6d81-3314-4b7a-807f-486cfdce8554</td>\n",
       "    </tr>\n",
       "    <tr>\n",
       "      <th>207</th>\n",
       "      <td>clean-up</td>\n",
       "      <td>1970-01-02 19:20:00</td>\n",
       "      <td>STOP</td>\n",
       "      <td>0.0</td>\n",
       "      <td>POINT (4.25222222 52.11428333)</td>\n",
       "      <td>additional log</td>\n",
       "      <td>2a2ab74e-4b4a-4aba-b2b5-65c8ffb28527</td>\n",
       "    </tr>\n",
       "  </tbody>\n",
       "</table>\n",
       "<p>208 rows × 7 columns</p>\n",
       "</div>"
      ],
      "text/plain": [
       "           Activity           Timestamp ActivityState  container level  \\\n",
       "0           prepair 1970-01-01 00:00:00         START              0.0   \n",
       "1     sailing empty 1970-01-01 00:00:00         START              0.0   \n",
       "2     sailing empty 1970-01-01 00:16:40          STOP              0.0   \n",
       "3           Loading 1970-01-01 00:16:40         START              0.0   \n",
       "4           Loading 1970-01-01 00:33:20          STOP              4.0   \n",
       "..              ...                 ...           ...              ...   \n",
       "204        clean-up 1970-01-02 19:03:20     WAIT_STOP              0.0   \n",
       "201       unloading 1970-01-02 19:03:20          STOP              0.0   \n",
       "205        clean-up 1970-01-02 19:03:20         START              0.0   \n",
       "206  Basic activity 1970-01-02 19:20:00          STOP              0.0   \n",
       "207        clean-up 1970-01-02 19:20:00          STOP              0.0   \n",
       "\n",
       "                           geometry            type  \\\n",
       "0    POINT (4.18055556 52.18664444)  additional log   \n",
       "1    POINT (4.18055556 52.18664444)             NaN   \n",
       "2    POINT (4.18055556 52.18664444)             NaN   \n",
       "3    POINT (4.18055556 52.18664444)             NaN   \n",
       "4    POINT (4.18055556 52.18664444)             NaN   \n",
       "..                              ...             ...   \n",
       "204  POINT (4.25222222 52.11428333)  additional log   \n",
       "201  POINT (4.25222222 52.11428333)             NaN   \n",
       "205  POINT (4.25222222 52.11428333)  additional log   \n",
       "206  POINT (4.25222222 52.11428333)  additional log   \n",
       "207  POINT (4.25222222 52.11428333)  additional log   \n",
       "\n",
       "                                      ref  \n",
       "0    792d9b37-33b1-4450-b540-c022917cfd21  \n",
       "1                                     NaN  \n",
       "2                                     NaN  \n",
       "3                                     NaN  \n",
       "4                                     NaN  \n",
       "..                                    ...  \n",
       "204  2a2ab74e-4b4a-4aba-b2b5-65c8ffb28527  \n",
       "201                                   NaN  \n",
       "205  2a2ab74e-4b4a-4aba-b2b5-65c8ffb28527  \n",
       "206  856d6d81-3314-4b7a-807f-486cfdce8554  \n",
       "207  2a2ab74e-4b4a-4aba-b2b5-65c8ffb28527  \n",
       "\n",
       "[208 rows x 7 columns]"
      ]
     },
     "execution_count": 10,
     "metadata": {},
     "output_type": "execute_result"
    }
   ],
   "source": [
    "plot.get_log_dataframe(vessel01, [while_activity, *sub_processes_helper, sequential_activity_helper])"
   ]
  },
  {
   "cell_type": "markdown",
   "metadata": {},
   "source": [
    "##### 5.2 Visualise gantt charts"
   ]
  },
  {
   "cell_type": "markdown",
   "metadata": {},
   "source": [
    "Note the cleanup and pre-pair activities before and after the unloading activity."
   ]
  },
  {
   "cell_type": "code",
   "execution_count": 11,
   "metadata": {},
   "outputs": [
    {
     "data": {
      "text/html": [
       "        <script type=\"text/javascript\">\n",
       "        window.PlotlyConfig = {MathJaxConfig: 'local'};\n",
       "        if (window.MathJax) {MathJax.Hub.Config({SVG: {font: \"STIX-Web\"}});}\n",
       "        if (typeof require !== 'undefined') {\n",
       "        require.undef(\"plotly\");\n",
       "        requirejs.config({\n",
       "            paths: {\n",
       "                'plotly': ['https://cdn.plot.ly/plotly-2.8.3.min']\n",
       "            }\n",
       "        });\n",
       "        require(['plotly'], function(Plotly) {\n",
       "            window._Plotly = Plotly;\n",
       "        });\n",
       "        }\n",
       "        </script>\n",
       "        "
      ]
     },
     "metadata": {},
     "output_type": "display_data"
    },
    {
     "data": {
      "application/vnd.plotly.v1+json": {
       "config": {
        "linkText": "Export to plot.ly",
        "plotlyServerURL": "https://plot.ly",
        "showLink": false
       },
       "data": [
        {
         "connectgaps": false,
         "hoverinfo": "y+name",
         "line": {
          "color": "rgb(16,102,58)",
          "width": 10
         },
         "mode": "lines",
         "name": "prepair",
         "type": "scatter",
         "x": [
          "1970-01-01T00:00:00",
          "1970-01-01T00:00:00",
          "1970-01-01T02:46:40",
          "1970-01-01T02:46:40",
          "1970-01-01T02:46:40",
          "1970-01-01T03:20:00",
          "1970-01-01T03:20:00",
          "1970-01-01T06:06:40",
          "1970-01-01T06:06:40",
          "1970-01-01T06:06:40",
          "1970-01-01T06:40:00",
          "1970-01-01T06:40:00",
          "1970-01-01T09:26:40",
          "1970-01-01T09:26:40",
          "1970-01-01T09:26:40",
          "1970-01-01T10:00:00",
          "1970-01-01T10:00:00",
          "1970-01-01T12:46:40",
          "1970-01-01T12:46:40",
          "1970-01-01T12:46:40",
          "1970-01-01T13:20:00",
          "1970-01-01T13:20:00",
          "1970-01-01T16:06:40",
          "1970-01-01T16:06:40",
          "1970-01-01T16:06:40",
          "1970-01-01T16:40:00",
          "1970-01-01T16:40:00",
          "1970-01-01T19:26:40",
          "1970-01-01T19:26:40",
          "1970-01-01T19:26:40",
          "1970-01-01T20:00:00",
          "1970-01-01T20:00:00",
          "1970-01-01T22:46:40",
          "1970-01-01T22:46:40",
          "1970-01-01T22:46:40",
          "1970-01-01T23:20:00",
          "1970-01-01T23:20:00",
          "1970-01-02T02:06:40",
          "1970-01-02T02:06:40",
          "1970-01-02T02:06:40",
          "1970-01-02T02:40:00",
          "1970-01-02T02:40:00",
          "1970-01-02T05:26:40",
          "1970-01-02T05:26:40",
          "1970-01-02T05:26:40",
          "1970-01-02T06:00:00",
          "1970-01-02T06:00:00",
          "1970-01-02T08:46:40",
          "1970-01-02T08:46:40",
          "1970-01-02T08:46:40",
          "1970-01-02T09:20:00",
          "1970-01-02T09:20:00",
          "1970-01-02T12:06:40",
          "1970-01-02T12:06:40",
          "1970-01-02T12:06:40",
          "1970-01-02T12:40:00",
          "1970-01-02T12:40:00",
          "1970-01-02T15:26:40",
          "1970-01-02T15:26:40",
          "1970-01-02T15:26:40",
          "1970-01-02T16:00:00",
          "1970-01-02T16:00:00",
          "1970-01-02T18:46:40",
          "1970-01-02T18:46:40",
          "1970-01-02T18:46:40"
         ],
         "y": [
          "prepair",
          "prepair",
          "prepair",
          "prepair",
          null,
          "prepair",
          "prepair",
          "prepair",
          "prepair",
          null,
          "prepair",
          "prepair",
          "prepair",
          "prepair",
          null,
          "prepair",
          "prepair",
          "prepair",
          "prepair",
          null,
          "prepair",
          "prepair",
          "prepair",
          "prepair",
          null,
          "prepair",
          "prepair",
          "prepair",
          "prepair",
          null,
          "prepair",
          "prepair",
          "prepair",
          "prepair",
          null,
          "prepair",
          "prepair",
          "prepair",
          "prepair",
          null,
          "prepair",
          "prepair",
          "prepair",
          "prepair",
          null,
          "prepair",
          "prepair",
          "prepair",
          "prepair",
          null,
          "prepair",
          "prepair",
          "prepair",
          "prepair",
          null,
          "prepair",
          "prepair",
          "prepair",
          "prepair",
          null,
          "prepair",
          "prepair",
          "prepair",
          "prepair",
          null
         ]
        },
        {
         "connectgaps": false,
         "hoverinfo": "y+name",
         "line": {
          "color": "rgb(52,138,94)",
          "width": 10
         },
         "mode": "lines",
         "name": "clean-up",
         "type": "scatter",
         "x": [
          "1970-01-01T03:03:20",
          "1970-01-01T03:03:20",
          "1970-01-01T03:20:00",
          "1970-01-01T03:20:00",
          "1970-01-01T03:20:00",
          "1970-01-01T06:23:20",
          "1970-01-01T06:23:20",
          "1970-01-01T06:40:00",
          "1970-01-01T06:40:00",
          "1970-01-01T06:40:00",
          "1970-01-01T09:43:20",
          "1970-01-01T09:43:20",
          "1970-01-01T10:00:00",
          "1970-01-01T10:00:00",
          "1970-01-01T10:00:00",
          "1970-01-01T13:03:20",
          "1970-01-01T13:03:20",
          "1970-01-01T13:20:00",
          "1970-01-01T13:20:00",
          "1970-01-01T13:20:00",
          "1970-01-01T16:23:20",
          "1970-01-01T16:23:20",
          "1970-01-01T16:40:00",
          "1970-01-01T16:40:00",
          "1970-01-01T16:40:00",
          "1970-01-01T19:43:20",
          "1970-01-01T19:43:20",
          "1970-01-01T20:00:00",
          "1970-01-01T20:00:00",
          "1970-01-01T20:00:00",
          "1970-01-01T23:03:20",
          "1970-01-01T23:03:20",
          "1970-01-01T23:20:00",
          "1970-01-01T23:20:00",
          "1970-01-01T23:20:00",
          "1970-01-02T02:23:20",
          "1970-01-02T02:23:20",
          "1970-01-02T02:40:00",
          "1970-01-02T02:40:00",
          "1970-01-02T02:40:00",
          "1970-01-02T05:43:20",
          "1970-01-02T05:43:20",
          "1970-01-02T06:00:00",
          "1970-01-02T06:00:00",
          "1970-01-02T06:00:00",
          "1970-01-02T09:03:20",
          "1970-01-02T09:03:20",
          "1970-01-02T09:20:00",
          "1970-01-02T09:20:00",
          "1970-01-02T09:20:00",
          "1970-01-02T12:23:20",
          "1970-01-02T12:23:20",
          "1970-01-02T12:40:00",
          "1970-01-02T12:40:00",
          "1970-01-02T12:40:00",
          "1970-01-02T15:43:20",
          "1970-01-02T15:43:20",
          "1970-01-02T16:00:00",
          "1970-01-02T16:00:00",
          "1970-01-02T16:00:00",
          "1970-01-02T19:03:20",
          "1970-01-02T19:03:20",
          "1970-01-02T19:20:00",
          "1970-01-02T19:20:00",
          "1970-01-02T19:20:00"
         ],
         "y": [
          "clean-up",
          "clean-up",
          "clean-up",
          "clean-up",
          null,
          "clean-up",
          "clean-up",
          "clean-up",
          "clean-up",
          null,
          "clean-up",
          "clean-up",
          "clean-up",
          "clean-up",
          null,
          "clean-up",
          "clean-up",
          "clean-up",
          "clean-up",
          null,
          "clean-up",
          "clean-up",
          "clean-up",
          "clean-up",
          null,
          "clean-up",
          "clean-up",
          "clean-up",
          "clean-up",
          null,
          "clean-up",
          "clean-up",
          "clean-up",
          "clean-up",
          null,
          "clean-up",
          "clean-up",
          "clean-up",
          "clean-up",
          null,
          "clean-up",
          "clean-up",
          "clean-up",
          "clean-up",
          null,
          "clean-up",
          "clean-up",
          "clean-up",
          "clean-up",
          null,
          "clean-up",
          "clean-up",
          "clean-up",
          "clean-up",
          null,
          "clean-up",
          "clean-up",
          "clean-up",
          "clean-up",
          null,
          "clean-up",
          "clean-up",
          "clean-up",
          "clean-up",
          null
         ]
        },
        {
         "connectgaps": false,
         "hoverinfo": "y+name",
         "line": {
          "color": "rgb(88,174,130)",
          "width": 10
         },
         "mode": "lines",
         "name": "sailing empty",
         "type": "scatter",
         "x": [
          "1970-01-01T00:00:00",
          "1970-01-01T00:00:00",
          "1970-01-01T00:16:40",
          "1970-01-01T00:16:40",
          "1970-01-01T00:16:40",
          "1970-01-01T03:20:00",
          "1970-01-01T03:20:00",
          "1970-01-01T03:36:40",
          "1970-01-01T03:36:40",
          "1970-01-01T03:36:40",
          "1970-01-01T06:40:00",
          "1970-01-01T06:40:00",
          "1970-01-01T06:56:40",
          "1970-01-01T06:56:40",
          "1970-01-01T06:56:40",
          "1970-01-01T10:00:00",
          "1970-01-01T10:00:00",
          "1970-01-01T10:16:40",
          "1970-01-01T10:16:40",
          "1970-01-01T10:16:40",
          "1970-01-01T13:20:00",
          "1970-01-01T13:20:00",
          "1970-01-01T13:36:40",
          "1970-01-01T13:36:40",
          "1970-01-01T13:36:40",
          "1970-01-01T16:40:00",
          "1970-01-01T16:40:00",
          "1970-01-01T16:56:40",
          "1970-01-01T16:56:40",
          "1970-01-01T16:56:40",
          "1970-01-01T20:00:00",
          "1970-01-01T20:00:00",
          "1970-01-01T20:16:40",
          "1970-01-01T20:16:40",
          "1970-01-01T20:16:40",
          "1970-01-01T23:20:00",
          "1970-01-01T23:20:00",
          "1970-01-01T23:36:40",
          "1970-01-01T23:36:40",
          "1970-01-01T23:36:40",
          "1970-01-02T02:40:00",
          "1970-01-02T02:40:00",
          "1970-01-02T02:56:40",
          "1970-01-02T02:56:40",
          "1970-01-02T02:56:40",
          "1970-01-02T06:00:00",
          "1970-01-02T06:00:00",
          "1970-01-02T06:16:40",
          "1970-01-02T06:16:40",
          "1970-01-02T06:16:40",
          "1970-01-02T09:20:00",
          "1970-01-02T09:20:00",
          "1970-01-02T09:36:40",
          "1970-01-02T09:36:40",
          "1970-01-02T09:36:40",
          "1970-01-02T12:40:00",
          "1970-01-02T12:40:00",
          "1970-01-02T12:56:40",
          "1970-01-02T12:56:40",
          "1970-01-02T12:56:40",
          "1970-01-02T16:00:00",
          "1970-01-02T16:00:00",
          "1970-01-02T16:16:40",
          "1970-01-02T16:16:40",
          "1970-01-02T16:16:40"
         ],
         "y": [
          "sailing empty",
          "sailing empty",
          "sailing empty",
          "sailing empty",
          null,
          "sailing empty",
          "sailing empty",
          "sailing empty",
          "sailing empty",
          null,
          "sailing empty",
          "sailing empty",
          "sailing empty",
          "sailing empty",
          null,
          "sailing empty",
          "sailing empty",
          "sailing empty",
          "sailing empty",
          null,
          "sailing empty",
          "sailing empty",
          "sailing empty",
          "sailing empty",
          null,
          "sailing empty",
          "sailing empty",
          "sailing empty",
          "sailing empty",
          null,
          "sailing empty",
          "sailing empty",
          "sailing empty",
          "sailing empty",
          null,
          "sailing empty",
          "sailing empty",
          "sailing empty",
          "sailing empty",
          null,
          "sailing empty",
          "sailing empty",
          "sailing empty",
          "sailing empty",
          null,
          "sailing empty",
          "sailing empty",
          "sailing empty",
          "sailing empty",
          null,
          "sailing empty",
          "sailing empty",
          "sailing empty",
          "sailing empty",
          null,
          "sailing empty",
          "sailing empty",
          "sailing empty",
          "sailing empty",
          null,
          "sailing empty",
          "sailing empty",
          "sailing empty",
          "sailing empty",
          null
         ]
        },
        {
         "connectgaps": false,
         "hoverinfo": "y+name",
         "line": {
          "color": "rgb(124,210,166)",
          "width": 10
         },
         "mode": "lines",
         "name": "Loading",
         "type": "scatter",
         "x": [
          "1970-01-01T00:16:40",
          "1970-01-01T00:16:40",
          "1970-01-01T00:33:20",
          "1970-01-01T00:33:20",
          "1970-01-01T00:33:20",
          "1970-01-01T03:36:40",
          "1970-01-01T03:36:40",
          "1970-01-01T03:53:20",
          "1970-01-01T03:53:20",
          "1970-01-01T03:53:20",
          "1970-01-01T06:56:40",
          "1970-01-01T06:56:40",
          "1970-01-01T07:13:20",
          "1970-01-01T07:13:20",
          "1970-01-01T07:13:20",
          "1970-01-01T10:16:40",
          "1970-01-01T10:16:40",
          "1970-01-01T10:33:20",
          "1970-01-01T10:33:20",
          "1970-01-01T10:33:20",
          "1970-01-01T13:36:40",
          "1970-01-01T13:36:40",
          "1970-01-01T13:53:20",
          "1970-01-01T13:53:20",
          "1970-01-01T13:53:20",
          "1970-01-01T16:56:40",
          "1970-01-01T16:56:40",
          "1970-01-01T17:13:20",
          "1970-01-01T17:13:20",
          "1970-01-01T17:13:20",
          "1970-01-01T20:16:40",
          "1970-01-01T20:16:40",
          "1970-01-01T20:33:20",
          "1970-01-01T20:33:20",
          "1970-01-01T20:33:20",
          "1970-01-01T23:36:40",
          "1970-01-01T23:36:40",
          "1970-01-01T23:53:20",
          "1970-01-01T23:53:20",
          "1970-01-01T23:53:20",
          "1970-01-02T02:56:40",
          "1970-01-02T02:56:40",
          "1970-01-02T03:13:20",
          "1970-01-02T03:13:20",
          "1970-01-02T03:13:20",
          "1970-01-02T06:16:40",
          "1970-01-02T06:16:40",
          "1970-01-02T06:33:20",
          "1970-01-02T06:33:20",
          "1970-01-02T06:33:20",
          "1970-01-02T09:36:40",
          "1970-01-02T09:36:40",
          "1970-01-02T09:53:20",
          "1970-01-02T09:53:20",
          "1970-01-02T09:53:20",
          "1970-01-02T12:56:40",
          "1970-01-02T12:56:40",
          "1970-01-02T13:13:20",
          "1970-01-02T13:13:20",
          "1970-01-02T13:13:20",
          "1970-01-02T16:16:40",
          "1970-01-02T16:16:40",
          "1970-01-02T16:33:20",
          "1970-01-02T16:33:20",
          "1970-01-02T16:33:20"
         ],
         "y": [
          "Loading",
          "Loading",
          "Loading",
          "Loading",
          null,
          "Loading",
          "Loading",
          "Loading",
          "Loading",
          null,
          "Loading",
          "Loading",
          "Loading",
          "Loading",
          null,
          "Loading",
          "Loading",
          "Loading",
          "Loading",
          null,
          "Loading",
          "Loading",
          "Loading",
          "Loading",
          null,
          "Loading",
          "Loading",
          "Loading",
          "Loading",
          null,
          "Loading",
          "Loading",
          "Loading",
          "Loading",
          null,
          "Loading",
          "Loading",
          "Loading",
          "Loading",
          null,
          "Loading",
          "Loading",
          "Loading",
          "Loading",
          null,
          "Loading",
          "Loading",
          "Loading",
          "Loading",
          null,
          "Loading",
          "Loading",
          "Loading",
          "Loading",
          null,
          "Loading",
          "Loading",
          "Loading",
          "Loading",
          null,
          "Loading",
          "Loading",
          "Loading",
          "Loading",
          null
         ]
        },
        {
         "connectgaps": false,
         "hoverinfo": "y+name",
         "line": {
          "color": "rgb(160,246,202)",
          "width": 10
         },
         "mode": "lines",
         "name": "sailing filled",
         "type": "scatter",
         "x": [
          "1970-01-01T00:33:20",
          "1970-01-01T00:33:20",
          "1970-01-01T00:50:00",
          "1970-01-01T00:50:00",
          "1970-01-01T00:50:00",
          "1970-01-01T03:53:20",
          "1970-01-01T03:53:20",
          "1970-01-01T04:10:00",
          "1970-01-01T04:10:00",
          "1970-01-01T04:10:00",
          "1970-01-01T07:13:20",
          "1970-01-01T07:13:20",
          "1970-01-01T07:30:00",
          "1970-01-01T07:30:00",
          "1970-01-01T07:30:00",
          "1970-01-01T10:33:20",
          "1970-01-01T10:33:20",
          "1970-01-01T10:50:00",
          "1970-01-01T10:50:00",
          "1970-01-01T10:50:00",
          "1970-01-01T13:53:20",
          "1970-01-01T13:53:20",
          "1970-01-01T14:10:00",
          "1970-01-01T14:10:00",
          "1970-01-01T14:10:00",
          "1970-01-01T17:13:20",
          "1970-01-01T17:13:20",
          "1970-01-01T17:30:00",
          "1970-01-01T17:30:00",
          "1970-01-01T17:30:00",
          "1970-01-01T20:33:20",
          "1970-01-01T20:33:20",
          "1970-01-01T20:50:00",
          "1970-01-01T20:50:00",
          "1970-01-01T20:50:00",
          "1970-01-01T23:53:20",
          "1970-01-01T23:53:20",
          "1970-01-02T00:10:00",
          "1970-01-02T00:10:00",
          "1970-01-02T00:10:00",
          "1970-01-02T03:13:20",
          "1970-01-02T03:13:20",
          "1970-01-02T03:30:00",
          "1970-01-02T03:30:00",
          "1970-01-02T03:30:00",
          "1970-01-02T06:33:20",
          "1970-01-02T06:33:20",
          "1970-01-02T06:50:00",
          "1970-01-02T06:50:00",
          "1970-01-02T06:50:00",
          "1970-01-02T09:53:20",
          "1970-01-02T09:53:20",
          "1970-01-02T10:10:00",
          "1970-01-02T10:10:00",
          "1970-01-02T10:10:00",
          "1970-01-02T13:13:20",
          "1970-01-02T13:13:20",
          "1970-01-02T13:30:00",
          "1970-01-02T13:30:00",
          "1970-01-02T13:30:00",
          "1970-01-02T16:33:20",
          "1970-01-02T16:33:20",
          "1970-01-02T16:50:00",
          "1970-01-02T16:50:00",
          "1970-01-02T16:50:00"
         ],
         "y": [
          "sailing filled",
          "sailing filled",
          "sailing filled",
          "sailing filled",
          null,
          "sailing filled",
          "sailing filled",
          "sailing filled",
          "sailing filled",
          null,
          "sailing filled",
          "sailing filled",
          "sailing filled",
          "sailing filled",
          null,
          "sailing filled",
          "sailing filled",
          "sailing filled",
          "sailing filled",
          null,
          "sailing filled",
          "sailing filled",
          "sailing filled",
          "sailing filled",
          null,
          "sailing filled",
          "sailing filled",
          "sailing filled",
          "sailing filled",
          null,
          "sailing filled",
          "sailing filled",
          "sailing filled",
          "sailing filled",
          null,
          "sailing filled",
          "sailing filled",
          "sailing filled",
          "sailing filled",
          null,
          "sailing filled",
          "sailing filled",
          "sailing filled",
          "sailing filled",
          null,
          "sailing filled",
          "sailing filled",
          "sailing filled",
          "sailing filled",
          null,
          "sailing filled",
          "sailing filled",
          "sailing filled",
          "sailing filled",
          null,
          "sailing filled",
          "sailing filled",
          "sailing filled",
          "sailing filled",
          null,
          "sailing filled",
          "sailing filled",
          "sailing filled",
          "sailing filled",
          null
         ]
        },
        {
         "connectgaps": false,
         "hoverinfo": "y+name",
         "line": {
          "color": "rgb(196,26,238)",
          "width": 10
         },
         "mode": "lines",
         "name": "unloading",
         "type": "scatter",
         "x": [
          "1970-01-01T02:46:40",
          "1970-01-01T02:46:40",
          "1970-01-01T03:03:20",
          "1970-01-01T03:03:20",
          "1970-01-01T03:03:20",
          "1970-01-01T06:06:40",
          "1970-01-01T06:06:40",
          "1970-01-01T06:23:20",
          "1970-01-01T06:23:20",
          "1970-01-01T06:23:20",
          "1970-01-01T09:26:40",
          "1970-01-01T09:26:40",
          "1970-01-01T09:43:20",
          "1970-01-01T09:43:20",
          "1970-01-01T09:43:20",
          "1970-01-01T12:46:40",
          "1970-01-01T12:46:40",
          "1970-01-01T13:03:20",
          "1970-01-01T13:03:20",
          "1970-01-01T13:03:20",
          "1970-01-01T16:06:40",
          "1970-01-01T16:06:40",
          "1970-01-01T16:23:20",
          "1970-01-01T16:23:20",
          "1970-01-01T16:23:20",
          "1970-01-01T19:26:40",
          "1970-01-01T19:26:40",
          "1970-01-01T19:43:20",
          "1970-01-01T19:43:20",
          "1970-01-01T19:43:20",
          "1970-01-01T22:46:40",
          "1970-01-01T22:46:40",
          "1970-01-01T23:03:20",
          "1970-01-01T23:03:20",
          "1970-01-01T23:03:20",
          "1970-01-02T02:06:40",
          "1970-01-02T02:06:40",
          "1970-01-02T02:23:20",
          "1970-01-02T02:23:20",
          "1970-01-02T02:23:20",
          "1970-01-02T05:26:40",
          "1970-01-02T05:26:40",
          "1970-01-02T05:43:20",
          "1970-01-02T05:43:20",
          "1970-01-02T05:43:20",
          "1970-01-02T08:46:40",
          "1970-01-02T08:46:40",
          "1970-01-02T09:03:20",
          "1970-01-02T09:03:20",
          "1970-01-02T09:03:20",
          "1970-01-02T12:06:40",
          "1970-01-02T12:06:40",
          "1970-01-02T12:23:20",
          "1970-01-02T12:23:20",
          "1970-01-02T12:23:20",
          "1970-01-02T15:26:40",
          "1970-01-02T15:26:40",
          "1970-01-02T15:43:20",
          "1970-01-02T15:43:20",
          "1970-01-02T15:43:20",
          "1970-01-02T18:46:40",
          "1970-01-02T18:46:40",
          "1970-01-02T19:03:20",
          "1970-01-02T19:03:20",
          "1970-01-02T19:03:20"
         ],
         "y": [
          "unloading",
          "unloading",
          "unloading",
          "unloading",
          null,
          "unloading",
          "unloading",
          "unloading",
          "unloading",
          null,
          "unloading",
          "unloading",
          "unloading",
          "unloading",
          null,
          "unloading",
          "unloading",
          "unloading",
          "unloading",
          null,
          "unloading",
          "unloading",
          "unloading",
          "unloading",
          null,
          "unloading",
          "unloading",
          "unloading",
          "unloading",
          null,
          "unloading",
          "unloading",
          "unloading",
          "unloading",
          null,
          "unloading",
          "unloading",
          "unloading",
          "unloading",
          null,
          "unloading",
          "unloading",
          "unloading",
          "unloading",
          null,
          "unloading",
          "unloading",
          "unloading",
          "unloading",
          null,
          "unloading",
          "unloading",
          "unloading",
          "unloading",
          null,
          "unloading",
          "unloading",
          "unloading",
          "unloading",
          null,
          "unloading",
          "unloading",
          "unloading",
          "unloading",
          null
         ]
        },
        {
         "connectgaps": false,
         "hoverinfo": "y+name",
         "line": {
          "color": "rgb(232,62,18)",
          "width": 10
         },
         "mode": "lines",
         "name": "Basic activity",
         "type": "scatter",
         "x": [
          "1970-01-01T03:03:20",
          "1970-01-01T03:03:20",
          "1970-01-01T03:20:00",
          "1970-01-01T03:20:00",
          "1970-01-01T03:20:00",
          "1970-01-01T06:23:20",
          "1970-01-01T06:23:20",
          "1970-01-01T06:40:00",
          "1970-01-01T06:40:00",
          "1970-01-01T06:40:00",
          "1970-01-01T09:43:20",
          "1970-01-01T09:43:20",
          "1970-01-01T10:00:00",
          "1970-01-01T10:00:00",
          "1970-01-01T10:00:00",
          "1970-01-01T13:03:20",
          "1970-01-01T13:03:20",
          "1970-01-01T13:20:00",
          "1970-01-01T13:20:00",
          "1970-01-01T13:20:00",
          "1970-01-01T16:23:20",
          "1970-01-01T16:23:20",
          "1970-01-01T16:40:00",
          "1970-01-01T16:40:00",
          "1970-01-01T16:40:00",
          "1970-01-01T19:43:20",
          "1970-01-01T19:43:20",
          "1970-01-01T20:00:00",
          "1970-01-01T20:00:00",
          "1970-01-01T20:00:00",
          "1970-01-01T23:03:20",
          "1970-01-01T23:03:20",
          "1970-01-01T23:20:00",
          "1970-01-01T23:20:00",
          "1970-01-01T23:20:00",
          "1970-01-02T02:23:20",
          "1970-01-02T02:23:20",
          "1970-01-02T02:40:00",
          "1970-01-02T02:40:00",
          "1970-01-02T02:40:00",
          "1970-01-02T05:43:20",
          "1970-01-02T05:43:20",
          "1970-01-02T06:00:00",
          "1970-01-02T06:00:00",
          "1970-01-02T06:00:00",
          "1970-01-02T09:03:20",
          "1970-01-02T09:03:20",
          "1970-01-02T09:20:00",
          "1970-01-02T09:20:00",
          "1970-01-02T09:20:00",
          "1970-01-02T12:23:20",
          "1970-01-02T12:23:20",
          "1970-01-02T12:40:00",
          "1970-01-02T12:40:00",
          "1970-01-02T12:40:00",
          "1970-01-02T15:43:20",
          "1970-01-02T15:43:20",
          "1970-01-02T16:00:00",
          "1970-01-02T16:00:00",
          "1970-01-02T16:00:00",
          "1970-01-02T19:03:20",
          "1970-01-02T19:03:20",
          "1970-01-02T19:20:00",
          "1970-01-02T19:20:00",
          "1970-01-02T19:20:00"
         ],
         "y": [
          "Basic activity",
          "Basic activity",
          "Basic activity",
          "Basic activity",
          null,
          "Basic activity",
          "Basic activity",
          "Basic activity",
          "Basic activity",
          null,
          "Basic activity",
          "Basic activity",
          "Basic activity",
          "Basic activity",
          null,
          "Basic activity",
          "Basic activity",
          "Basic activity",
          "Basic activity",
          null,
          "Basic activity",
          "Basic activity",
          "Basic activity",
          "Basic activity",
          null,
          "Basic activity",
          "Basic activity",
          "Basic activity",
          "Basic activity",
          null,
          "Basic activity",
          "Basic activity",
          "Basic activity",
          "Basic activity",
          null,
          "Basic activity",
          "Basic activity",
          "Basic activity",
          "Basic activity",
          null,
          "Basic activity",
          "Basic activity",
          "Basic activity",
          "Basic activity",
          null,
          "Basic activity",
          "Basic activity",
          "Basic activity",
          "Basic activity",
          null,
          "Basic activity",
          "Basic activity",
          "Basic activity",
          "Basic activity",
          null,
          "Basic activity",
          "Basic activity",
          "Basic activity",
          "Basic activity",
          null,
          "Basic activity",
          "Basic activity",
          "Basic activity",
          "Basic activity",
          null
         ]
        }
       ],
       "layout": {
        "hovermode": "closest",
        "legend": {
         "orientation": "h",
         "x": 0,
         "y": -0.2
        },
        "template": {
         "data": {
          "bar": [
           {
            "error_x": {
             "color": "#2a3f5f"
            },
            "error_y": {
             "color": "#2a3f5f"
            },
            "marker": {
             "line": {
              "color": "#E5ECF6",
              "width": 0.5
             },
             "pattern": {
              "fillmode": "overlay",
              "size": 10,
              "solidity": 0.2
             }
            },
            "type": "bar"
           }
          ],
          "barpolar": [
           {
            "marker": {
             "line": {
              "color": "#E5ECF6",
              "width": 0.5
             },
             "pattern": {
              "fillmode": "overlay",
              "size": 10,
              "solidity": 0.2
             }
            },
            "type": "barpolar"
           }
          ],
          "carpet": [
           {
            "aaxis": {
             "endlinecolor": "#2a3f5f",
             "gridcolor": "white",
             "linecolor": "white",
             "minorgridcolor": "white",
             "startlinecolor": "#2a3f5f"
            },
            "baxis": {
             "endlinecolor": "#2a3f5f",
             "gridcolor": "white",
             "linecolor": "white",
             "minorgridcolor": "white",
             "startlinecolor": "#2a3f5f"
            },
            "type": "carpet"
           }
          ],
          "choropleth": [
           {
            "colorbar": {
             "outlinewidth": 0,
             "ticks": ""
            },
            "type": "choropleth"
           }
          ],
          "contour": [
           {
            "colorbar": {
             "outlinewidth": 0,
             "ticks": ""
            },
            "colorscale": [
             [
              0,
              "#0d0887"
             ],
             [
              0.1111111111111111,
              "#46039f"
             ],
             [
              0.2222222222222222,
              "#7201a8"
             ],
             [
              0.3333333333333333,
              "#9c179e"
             ],
             [
              0.4444444444444444,
              "#bd3786"
             ],
             [
              0.5555555555555556,
              "#d8576b"
             ],
             [
              0.6666666666666666,
              "#ed7953"
             ],
             [
              0.7777777777777778,
              "#fb9f3a"
             ],
             [
              0.8888888888888888,
              "#fdca26"
             ],
             [
              1,
              "#f0f921"
             ]
            ],
            "type": "contour"
           }
          ],
          "contourcarpet": [
           {
            "colorbar": {
             "outlinewidth": 0,
             "ticks": ""
            },
            "type": "contourcarpet"
           }
          ],
          "heatmap": [
           {
            "colorbar": {
             "outlinewidth": 0,
             "ticks": ""
            },
            "colorscale": [
             [
              0,
              "#0d0887"
             ],
             [
              0.1111111111111111,
              "#46039f"
             ],
             [
              0.2222222222222222,
              "#7201a8"
             ],
             [
              0.3333333333333333,
              "#9c179e"
             ],
             [
              0.4444444444444444,
              "#bd3786"
             ],
             [
              0.5555555555555556,
              "#d8576b"
             ],
             [
              0.6666666666666666,
              "#ed7953"
             ],
             [
              0.7777777777777778,
              "#fb9f3a"
             ],
             [
              0.8888888888888888,
              "#fdca26"
             ],
             [
              1,
              "#f0f921"
             ]
            ],
            "type": "heatmap"
           }
          ],
          "heatmapgl": [
           {
            "colorbar": {
             "outlinewidth": 0,
             "ticks": ""
            },
            "colorscale": [
             [
              0,
              "#0d0887"
             ],
             [
              0.1111111111111111,
              "#46039f"
             ],
             [
              0.2222222222222222,
              "#7201a8"
             ],
             [
              0.3333333333333333,
              "#9c179e"
             ],
             [
              0.4444444444444444,
              "#bd3786"
             ],
             [
              0.5555555555555556,
              "#d8576b"
             ],
             [
              0.6666666666666666,
              "#ed7953"
             ],
             [
              0.7777777777777778,
              "#fb9f3a"
             ],
             [
              0.8888888888888888,
              "#fdca26"
             ],
             [
              1,
              "#f0f921"
             ]
            ],
            "type": "heatmapgl"
           }
          ],
          "histogram": [
           {
            "marker": {
             "pattern": {
              "fillmode": "overlay",
              "size": 10,
              "solidity": 0.2
             }
            },
            "type": "histogram"
           }
          ],
          "histogram2d": [
           {
            "colorbar": {
             "outlinewidth": 0,
             "ticks": ""
            },
            "colorscale": [
             [
              0,
              "#0d0887"
             ],
             [
              0.1111111111111111,
              "#46039f"
             ],
             [
              0.2222222222222222,
              "#7201a8"
             ],
             [
              0.3333333333333333,
              "#9c179e"
             ],
             [
              0.4444444444444444,
              "#bd3786"
             ],
             [
              0.5555555555555556,
              "#d8576b"
             ],
             [
              0.6666666666666666,
              "#ed7953"
             ],
             [
              0.7777777777777778,
              "#fb9f3a"
             ],
             [
              0.8888888888888888,
              "#fdca26"
             ],
             [
              1,
              "#f0f921"
             ]
            ],
            "type": "histogram2d"
           }
          ],
          "histogram2dcontour": [
           {
            "colorbar": {
             "outlinewidth": 0,
             "ticks": ""
            },
            "colorscale": [
             [
              0,
              "#0d0887"
             ],
             [
              0.1111111111111111,
              "#46039f"
             ],
             [
              0.2222222222222222,
              "#7201a8"
             ],
             [
              0.3333333333333333,
              "#9c179e"
             ],
             [
              0.4444444444444444,
              "#bd3786"
             ],
             [
              0.5555555555555556,
              "#d8576b"
             ],
             [
              0.6666666666666666,
              "#ed7953"
             ],
             [
              0.7777777777777778,
              "#fb9f3a"
             ],
             [
              0.8888888888888888,
              "#fdca26"
             ],
             [
              1,
              "#f0f921"
             ]
            ],
            "type": "histogram2dcontour"
           }
          ],
          "mesh3d": [
           {
            "colorbar": {
             "outlinewidth": 0,
             "ticks": ""
            },
            "type": "mesh3d"
           }
          ],
          "parcoords": [
           {
            "line": {
             "colorbar": {
              "outlinewidth": 0,
              "ticks": ""
             }
            },
            "type": "parcoords"
           }
          ],
          "pie": [
           {
            "automargin": true,
            "type": "pie"
           }
          ],
          "scatter": [
           {
            "marker": {
             "colorbar": {
              "outlinewidth": 0,
              "ticks": ""
             }
            },
            "type": "scatter"
           }
          ],
          "scatter3d": [
           {
            "line": {
             "colorbar": {
              "outlinewidth": 0,
              "ticks": ""
             }
            },
            "marker": {
             "colorbar": {
              "outlinewidth": 0,
              "ticks": ""
             }
            },
            "type": "scatter3d"
           }
          ],
          "scattercarpet": [
           {
            "marker": {
             "colorbar": {
              "outlinewidth": 0,
              "ticks": ""
             }
            },
            "type": "scattercarpet"
           }
          ],
          "scattergeo": [
           {
            "marker": {
             "colorbar": {
              "outlinewidth": 0,
              "ticks": ""
             }
            },
            "type": "scattergeo"
           }
          ],
          "scattergl": [
           {
            "marker": {
             "colorbar": {
              "outlinewidth": 0,
              "ticks": ""
             }
            },
            "type": "scattergl"
           }
          ],
          "scattermapbox": [
           {
            "marker": {
             "colorbar": {
              "outlinewidth": 0,
              "ticks": ""
             }
            },
            "type": "scattermapbox"
           }
          ],
          "scatterpolar": [
           {
            "marker": {
             "colorbar": {
              "outlinewidth": 0,
              "ticks": ""
             }
            },
            "type": "scatterpolar"
           }
          ],
          "scatterpolargl": [
           {
            "marker": {
             "colorbar": {
              "outlinewidth": 0,
              "ticks": ""
             }
            },
            "type": "scatterpolargl"
           }
          ],
          "scatterternary": [
           {
            "marker": {
             "colorbar": {
              "outlinewidth": 0,
              "ticks": ""
             }
            },
            "type": "scatterternary"
           }
          ],
          "surface": [
           {
            "colorbar": {
             "outlinewidth": 0,
             "ticks": ""
            },
            "colorscale": [
             [
              0,
              "#0d0887"
             ],
             [
              0.1111111111111111,
              "#46039f"
             ],
             [
              0.2222222222222222,
              "#7201a8"
             ],
             [
              0.3333333333333333,
              "#9c179e"
             ],
             [
              0.4444444444444444,
              "#bd3786"
             ],
             [
              0.5555555555555556,
              "#d8576b"
             ],
             [
              0.6666666666666666,
              "#ed7953"
             ],
             [
              0.7777777777777778,
              "#fb9f3a"
             ],
             [
              0.8888888888888888,
              "#fdca26"
             ],
             [
              1,
              "#f0f921"
             ]
            ],
            "type": "surface"
           }
          ],
          "table": [
           {
            "cells": {
             "fill": {
              "color": "#EBF0F8"
             },
             "line": {
              "color": "white"
             }
            },
            "header": {
             "fill": {
              "color": "#C8D4E3"
             },
             "line": {
              "color": "white"
             }
            },
            "type": "table"
           }
          ]
         },
         "layout": {
          "annotationdefaults": {
           "arrowcolor": "#2a3f5f",
           "arrowhead": 0,
           "arrowwidth": 1
          },
          "autotypenumbers": "strict",
          "coloraxis": {
           "colorbar": {
            "outlinewidth": 0,
            "ticks": ""
           }
          },
          "colorscale": {
           "diverging": [
            [
             0,
             "#8e0152"
            ],
            [
             0.1,
             "#c51b7d"
            ],
            [
             0.2,
             "#de77ae"
            ],
            [
             0.3,
             "#f1b6da"
            ],
            [
             0.4,
             "#fde0ef"
            ],
            [
             0.5,
             "#f7f7f7"
            ],
            [
             0.6,
             "#e6f5d0"
            ],
            [
             0.7,
             "#b8e186"
            ],
            [
             0.8,
             "#7fbc41"
            ],
            [
             0.9,
             "#4d9221"
            ],
            [
             1,
             "#276419"
            ]
           ],
           "sequential": [
            [
             0,
             "#0d0887"
            ],
            [
             0.1111111111111111,
             "#46039f"
            ],
            [
             0.2222222222222222,
             "#7201a8"
            ],
            [
             0.3333333333333333,
             "#9c179e"
            ],
            [
             0.4444444444444444,
             "#bd3786"
            ],
            [
             0.5555555555555556,
             "#d8576b"
            ],
            [
             0.6666666666666666,
             "#ed7953"
            ],
            [
             0.7777777777777778,
             "#fb9f3a"
            ],
            [
             0.8888888888888888,
             "#fdca26"
            ],
            [
             1,
             "#f0f921"
            ]
           ],
           "sequentialminus": [
            [
             0,
             "#0d0887"
            ],
            [
             0.1111111111111111,
             "#46039f"
            ],
            [
             0.2222222222222222,
             "#7201a8"
            ],
            [
             0.3333333333333333,
             "#9c179e"
            ],
            [
             0.4444444444444444,
             "#bd3786"
            ],
            [
             0.5555555555555556,
             "#d8576b"
            ],
            [
             0.6666666666666666,
             "#ed7953"
            ],
            [
             0.7777777777777778,
             "#fb9f3a"
            ],
            [
             0.8888888888888888,
             "#fdca26"
            ],
            [
             1,
             "#f0f921"
            ]
           ]
          },
          "colorway": [
           "#636efa",
           "#EF553B",
           "#00cc96",
           "#ab63fa",
           "#FFA15A",
           "#19d3f3",
           "#FF6692",
           "#B6E880",
           "#FF97FF",
           "#FECB52"
          ],
          "font": {
           "color": "#2a3f5f"
          },
          "geo": {
           "bgcolor": "white",
           "lakecolor": "white",
           "landcolor": "#E5ECF6",
           "showlakes": true,
           "showland": true,
           "subunitcolor": "white"
          },
          "hoverlabel": {
           "align": "left"
          },
          "hovermode": "closest",
          "mapbox": {
           "style": "light"
          },
          "paper_bgcolor": "white",
          "plot_bgcolor": "#E5ECF6",
          "polar": {
           "angularaxis": {
            "gridcolor": "white",
            "linecolor": "white",
            "ticks": ""
           },
           "bgcolor": "#E5ECF6",
           "radialaxis": {
            "gridcolor": "white",
            "linecolor": "white",
            "ticks": ""
           }
          },
          "scene": {
           "xaxis": {
            "backgroundcolor": "#E5ECF6",
            "gridcolor": "white",
            "gridwidth": 2,
            "linecolor": "white",
            "showbackground": true,
            "ticks": "",
            "zerolinecolor": "white"
           },
           "yaxis": {
            "backgroundcolor": "#E5ECF6",
            "gridcolor": "white",
            "gridwidth": 2,
            "linecolor": "white",
            "showbackground": true,
            "ticks": "",
            "zerolinecolor": "white"
           },
           "zaxis": {
            "backgroundcolor": "#E5ECF6",
            "gridcolor": "white",
            "gridwidth": 2,
            "linecolor": "white",
            "showbackground": true,
            "ticks": "",
            "zerolinecolor": "white"
           }
          },
          "shapedefaults": {
           "line": {
            "color": "#2a3f5f"
           }
          },
          "ternary": {
           "aaxis": {
            "gridcolor": "white",
            "linecolor": "white",
            "ticks": ""
           },
           "baxis": {
            "gridcolor": "white",
            "linecolor": "white",
            "ticks": ""
           },
           "bgcolor": "#E5ECF6",
           "caxis": {
            "gridcolor": "white",
            "linecolor": "white",
            "ticks": ""
           }
          },
          "title": {
           "x": 0.05
          },
          "xaxis": {
           "automargin": true,
           "gridcolor": "white",
           "linecolor": "white",
           "ticks": "",
           "title": {
            "standoff": 15
           },
           "zerolinecolor": "white",
           "zerolinewidth": 2
          },
          "yaxis": {
           "automargin": true,
           "gridcolor": "white",
           "linecolor": "white",
           "ticks": "",
           "title": {
            "standoff": 15
           },
           "zerolinecolor": "white",
           "zerolinewidth": 2
          }
         }
        },
        "title": {
         "text": "GANTT Chart"
        },
        "xaxis": {
         "range": [
          "1970-01-01T00:00:00",
          "1970-01-02T19:20:00"
         ],
         "title": {
          "font": {
           "color": "#7f7f7f",
           "family": "Courier New, monospace",
           "size": 18
          },
          "text": "Time"
         }
        },
        "yaxis": {
         "title": {
          "font": {
           "color": "#7f7f7f",
           "family": "Courier New, monospace",
           "size": 18
          },
          "text": "Activities"
         }
        }
       }
      },
      "text/html": [
       "<div>                            <div id=\"dca4cfcf-6ac8-4570-bc4c-31d7139bd838\" class=\"plotly-graph-div\" style=\"height:525px; width:100%;\"></div>            <script type=\"text/javascript\">                require([\"plotly\"], function(Plotly) {                    window.PLOTLYENV=window.PLOTLYENV || {};                                    if (document.getElementById(\"dca4cfcf-6ac8-4570-bc4c-31d7139bd838\")) {                    Plotly.newPlot(                        \"dca4cfcf-6ac8-4570-bc4c-31d7139bd838\",                        [{\"connectgaps\":false,\"hoverinfo\":\"y+name\",\"line\":{\"color\":\"rgb(16,102,58)\",\"width\":10},\"mode\":\"lines\",\"name\":\"prepair\",\"x\":[\"1970-01-01T00:00:00\",\"1970-01-01T00:00:00\",\"1970-01-01T02:46:40\",\"1970-01-01T02:46:40\",\"1970-01-01T02:46:40\",\"1970-01-01T03:20:00\",\"1970-01-01T03:20:00\",\"1970-01-01T06:06:40\",\"1970-01-01T06:06:40\",\"1970-01-01T06:06:40\",\"1970-01-01T06:40:00\",\"1970-01-01T06:40:00\",\"1970-01-01T09:26:40\",\"1970-01-01T09:26:40\",\"1970-01-01T09:26:40\",\"1970-01-01T10:00:00\",\"1970-01-01T10:00:00\",\"1970-01-01T12:46:40\",\"1970-01-01T12:46:40\",\"1970-01-01T12:46:40\",\"1970-01-01T13:20:00\",\"1970-01-01T13:20:00\",\"1970-01-01T16:06:40\",\"1970-01-01T16:06:40\",\"1970-01-01T16:06:40\",\"1970-01-01T16:40:00\",\"1970-01-01T16:40:00\",\"1970-01-01T19:26:40\",\"1970-01-01T19:26:40\",\"1970-01-01T19:26:40\",\"1970-01-01T20:00:00\",\"1970-01-01T20:00:00\",\"1970-01-01T22:46:40\",\"1970-01-01T22:46:40\",\"1970-01-01T22:46:40\",\"1970-01-01T23:20:00\",\"1970-01-01T23:20:00\",\"1970-01-02T02:06:40\",\"1970-01-02T02:06:40\",\"1970-01-02T02:06:40\",\"1970-01-02T02:40:00\",\"1970-01-02T02:40:00\",\"1970-01-02T05:26:40\",\"1970-01-02T05:26:40\",\"1970-01-02T05:26:40\",\"1970-01-02T06:00:00\",\"1970-01-02T06:00:00\",\"1970-01-02T08:46:40\",\"1970-01-02T08:46:40\",\"1970-01-02T08:46:40\",\"1970-01-02T09:20:00\",\"1970-01-02T09:20:00\",\"1970-01-02T12:06:40\",\"1970-01-02T12:06:40\",\"1970-01-02T12:06:40\",\"1970-01-02T12:40:00\",\"1970-01-02T12:40:00\",\"1970-01-02T15:26:40\",\"1970-01-02T15:26:40\",\"1970-01-02T15:26:40\",\"1970-01-02T16:00:00\",\"1970-01-02T16:00:00\",\"1970-01-02T18:46:40\",\"1970-01-02T18:46:40\",\"1970-01-02T18:46:40\"],\"y\":[\"prepair\",\"prepair\",\"prepair\",\"prepair\",null,\"prepair\",\"prepair\",\"prepair\",\"prepair\",null,\"prepair\",\"prepair\",\"prepair\",\"prepair\",null,\"prepair\",\"prepair\",\"prepair\",\"prepair\",null,\"prepair\",\"prepair\",\"prepair\",\"prepair\",null,\"prepair\",\"prepair\",\"prepair\",\"prepair\",null,\"prepair\",\"prepair\",\"prepair\",\"prepair\",null,\"prepair\",\"prepair\",\"prepair\",\"prepair\",null,\"prepair\",\"prepair\",\"prepair\",\"prepair\",null,\"prepair\",\"prepair\",\"prepair\",\"prepair\",null,\"prepair\",\"prepair\",\"prepair\",\"prepair\",null,\"prepair\",\"prepair\",\"prepair\",\"prepair\",null,\"prepair\",\"prepair\",\"prepair\",\"prepair\",null],\"type\":\"scatter\"},{\"connectgaps\":false,\"hoverinfo\":\"y+name\",\"line\":{\"color\":\"rgb(52,138,94)\",\"width\":10},\"mode\":\"lines\",\"name\":\"clean-up\",\"x\":[\"1970-01-01T03:03:20\",\"1970-01-01T03:03:20\",\"1970-01-01T03:20:00\",\"1970-01-01T03:20:00\",\"1970-01-01T03:20:00\",\"1970-01-01T06:23:20\",\"1970-01-01T06:23:20\",\"1970-01-01T06:40:00\",\"1970-01-01T06:40:00\",\"1970-01-01T06:40:00\",\"1970-01-01T09:43:20\",\"1970-01-01T09:43:20\",\"1970-01-01T10:00:00\",\"1970-01-01T10:00:00\",\"1970-01-01T10:00:00\",\"1970-01-01T13:03:20\",\"1970-01-01T13:03:20\",\"1970-01-01T13:20:00\",\"1970-01-01T13:20:00\",\"1970-01-01T13:20:00\",\"1970-01-01T16:23:20\",\"1970-01-01T16:23:20\",\"1970-01-01T16:40:00\",\"1970-01-01T16:40:00\",\"1970-01-01T16:40:00\",\"1970-01-01T19:43:20\",\"1970-01-01T19:43:20\",\"1970-01-01T20:00:00\",\"1970-01-01T20:00:00\",\"1970-01-01T20:00:00\",\"1970-01-01T23:03:20\",\"1970-01-01T23:03:20\",\"1970-01-01T23:20:00\",\"1970-01-01T23:20:00\",\"1970-01-01T23:20:00\",\"1970-01-02T02:23:20\",\"1970-01-02T02:23:20\",\"1970-01-02T02:40:00\",\"1970-01-02T02:40:00\",\"1970-01-02T02:40:00\",\"1970-01-02T05:43:20\",\"1970-01-02T05:43:20\",\"1970-01-02T06:00:00\",\"1970-01-02T06:00:00\",\"1970-01-02T06:00:00\",\"1970-01-02T09:03:20\",\"1970-01-02T09:03:20\",\"1970-01-02T09:20:00\",\"1970-01-02T09:20:00\",\"1970-01-02T09:20:00\",\"1970-01-02T12:23:20\",\"1970-01-02T12:23:20\",\"1970-01-02T12:40:00\",\"1970-01-02T12:40:00\",\"1970-01-02T12:40:00\",\"1970-01-02T15:43:20\",\"1970-01-02T15:43:20\",\"1970-01-02T16:00:00\",\"1970-01-02T16:00:00\",\"1970-01-02T16:00:00\",\"1970-01-02T19:03:20\",\"1970-01-02T19:03:20\",\"1970-01-02T19:20:00\",\"1970-01-02T19:20:00\",\"1970-01-02T19:20:00\"],\"y\":[\"clean-up\",\"clean-up\",\"clean-up\",\"clean-up\",null,\"clean-up\",\"clean-up\",\"clean-up\",\"clean-up\",null,\"clean-up\",\"clean-up\",\"clean-up\",\"clean-up\",null,\"clean-up\",\"clean-up\",\"clean-up\",\"clean-up\",null,\"clean-up\",\"clean-up\",\"clean-up\",\"clean-up\",null,\"clean-up\",\"clean-up\",\"clean-up\",\"clean-up\",null,\"clean-up\",\"clean-up\",\"clean-up\",\"clean-up\",null,\"clean-up\",\"clean-up\",\"clean-up\",\"clean-up\",null,\"clean-up\",\"clean-up\",\"clean-up\",\"clean-up\",null,\"clean-up\",\"clean-up\",\"clean-up\",\"clean-up\",null,\"clean-up\",\"clean-up\",\"clean-up\",\"clean-up\",null,\"clean-up\",\"clean-up\",\"clean-up\",\"clean-up\",null,\"clean-up\",\"clean-up\",\"clean-up\",\"clean-up\",null],\"type\":\"scatter\"},{\"connectgaps\":false,\"hoverinfo\":\"y+name\",\"line\":{\"color\":\"rgb(88,174,130)\",\"width\":10},\"mode\":\"lines\",\"name\":\"sailing empty\",\"x\":[\"1970-01-01T00:00:00\",\"1970-01-01T00:00:00\",\"1970-01-01T00:16:40\",\"1970-01-01T00:16:40\",\"1970-01-01T00:16:40\",\"1970-01-01T03:20:00\",\"1970-01-01T03:20:00\",\"1970-01-01T03:36:40\",\"1970-01-01T03:36:40\",\"1970-01-01T03:36:40\",\"1970-01-01T06:40:00\",\"1970-01-01T06:40:00\",\"1970-01-01T06:56:40\",\"1970-01-01T06:56:40\",\"1970-01-01T06:56:40\",\"1970-01-01T10:00:00\",\"1970-01-01T10:00:00\",\"1970-01-01T10:16:40\",\"1970-01-01T10:16:40\",\"1970-01-01T10:16:40\",\"1970-01-01T13:20:00\",\"1970-01-01T13:20:00\",\"1970-01-01T13:36:40\",\"1970-01-01T13:36:40\",\"1970-01-01T13:36:40\",\"1970-01-01T16:40:00\",\"1970-01-01T16:40:00\",\"1970-01-01T16:56:40\",\"1970-01-01T16:56:40\",\"1970-01-01T16:56:40\",\"1970-01-01T20:00:00\",\"1970-01-01T20:00:00\",\"1970-01-01T20:16:40\",\"1970-01-01T20:16:40\",\"1970-01-01T20:16:40\",\"1970-01-01T23:20:00\",\"1970-01-01T23:20:00\",\"1970-01-01T23:36:40\",\"1970-01-01T23:36:40\",\"1970-01-01T23:36:40\",\"1970-01-02T02:40:00\",\"1970-01-02T02:40:00\",\"1970-01-02T02:56:40\",\"1970-01-02T02:56:40\",\"1970-01-02T02:56:40\",\"1970-01-02T06:00:00\",\"1970-01-02T06:00:00\",\"1970-01-02T06:16:40\",\"1970-01-02T06:16:40\",\"1970-01-02T06:16:40\",\"1970-01-02T09:20:00\",\"1970-01-02T09:20:00\",\"1970-01-02T09:36:40\",\"1970-01-02T09:36:40\",\"1970-01-02T09:36:40\",\"1970-01-02T12:40:00\",\"1970-01-02T12:40:00\",\"1970-01-02T12:56:40\",\"1970-01-02T12:56:40\",\"1970-01-02T12:56:40\",\"1970-01-02T16:00:00\",\"1970-01-02T16:00:00\",\"1970-01-02T16:16:40\",\"1970-01-02T16:16:40\",\"1970-01-02T16:16:40\"],\"y\":[\"sailing empty\",\"sailing empty\",\"sailing empty\",\"sailing empty\",null,\"sailing empty\",\"sailing empty\",\"sailing empty\",\"sailing empty\",null,\"sailing empty\",\"sailing empty\",\"sailing empty\",\"sailing empty\",null,\"sailing empty\",\"sailing empty\",\"sailing empty\",\"sailing empty\",null,\"sailing empty\",\"sailing empty\",\"sailing empty\",\"sailing empty\",null,\"sailing empty\",\"sailing empty\",\"sailing empty\",\"sailing empty\",null,\"sailing empty\",\"sailing empty\",\"sailing empty\",\"sailing empty\",null,\"sailing empty\",\"sailing empty\",\"sailing empty\",\"sailing empty\",null,\"sailing empty\",\"sailing empty\",\"sailing empty\",\"sailing empty\",null,\"sailing empty\",\"sailing empty\",\"sailing empty\",\"sailing empty\",null,\"sailing empty\",\"sailing empty\",\"sailing empty\",\"sailing empty\",null,\"sailing empty\",\"sailing empty\",\"sailing empty\",\"sailing empty\",null,\"sailing empty\",\"sailing empty\",\"sailing empty\",\"sailing empty\",null],\"type\":\"scatter\"},{\"connectgaps\":false,\"hoverinfo\":\"y+name\",\"line\":{\"color\":\"rgb(124,210,166)\",\"width\":10},\"mode\":\"lines\",\"name\":\"Loading\",\"x\":[\"1970-01-01T00:16:40\",\"1970-01-01T00:16:40\",\"1970-01-01T00:33:20\",\"1970-01-01T00:33:20\",\"1970-01-01T00:33:20\",\"1970-01-01T03:36:40\",\"1970-01-01T03:36:40\",\"1970-01-01T03:53:20\",\"1970-01-01T03:53:20\",\"1970-01-01T03:53:20\",\"1970-01-01T06:56:40\",\"1970-01-01T06:56:40\",\"1970-01-01T07:13:20\",\"1970-01-01T07:13:20\",\"1970-01-01T07:13:20\",\"1970-01-01T10:16:40\",\"1970-01-01T10:16:40\",\"1970-01-01T10:33:20\",\"1970-01-01T10:33:20\",\"1970-01-01T10:33:20\",\"1970-01-01T13:36:40\",\"1970-01-01T13:36:40\",\"1970-01-01T13:53:20\",\"1970-01-01T13:53:20\",\"1970-01-01T13:53:20\",\"1970-01-01T16:56:40\",\"1970-01-01T16:56:40\",\"1970-01-01T17:13:20\",\"1970-01-01T17:13:20\",\"1970-01-01T17:13:20\",\"1970-01-01T20:16:40\",\"1970-01-01T20:16:40\",\"1970-01-01T20:33:20\",\"1970-01-01T20:33:20\",\"1970-01-01T20:33:20\",\"1970-01-01T23:36:40\",\"1970-01-01T23:36:40\",\"1970-01-01T23:53:20\",\"1970-01-01T23:53:20\",\"1970-01-01T23:53:20\",\"1970-01-02T02:56:40\",\"1970-01-02T02:56:40\",\"1970-01-02T03:13:20\",\"1970-01-02T03:13:20\",\"1970-01-02T03:13:20\",\"1970-01-02T06:16:40\",\"1970-01-02T06:16:40\",\"1970-01-02T06:33:20\",\"1970-01-02T06:33:20\",\"1970-01-02T06:33:20\",\"1970-01-02T09:36:40\",\"1970-01-02T09:36:40\",\"1970-01-02T09:53:20\",\"1970-01-02T09:53:20\",\"1970-01-02T09:53:20\",\"1970-01-02T12:56:40\",\"1970-01-02T12:56:40\",\"1970-01-02T13:13:20\",\"1970-01-02T13:13:20\",\"1970-01-02T13:13:20\",\"1970-01-02T16:16:40\",\"1970-01-02T16:16:40\",\"1970-01-02T16:33:20\",\"1970-01-02T16:33:20\",\"1970-01-02T16:33:20\"],\"y\":[\"Loading\",\"Loading\",\"Loading\",\"Loading\",null,\"Loading\",\"Loading\",\"Loading\",\"Loading\",null,\"Loading\",\"Loading\",\"Loading\",\"Loading\",null,\"Loading\",\"Loading\",\"Loading\",\"Loading\",null,\"Loading\",\"Loading\",\"Loading\",\"Loading\",null,\"Loading\",\"Loading\",\"Loading\",\"Loading\",null,\"Loading\",\"Loading\",\"Loading\",\"Loading\",null,\"Loading\",\"Loading\",\"Loading\",\"Loading\",null,\"Loading\",\"Loading\",\"Loading\",\"Loading\",null,\"Loading\",\"Loading\",\"Loading\",\"Loading\",null,\"Loading\",\"Loading\",\"Loading\",\"Loading\",null,\"Loading\",\"Loading\",\"Loading\",\"Loading\",null,\"Loading\",\"Loading\",\"Loading\",\"Loading\",null],\"type\":\"scatter\"},{\"connectgaps\":false,\"hoverinfo\":\"y+name\",\"line\":{\"color\":\"rgb(160,246,202)\",\"width\":10},\"mode\":\"lines\",\"name\":\"sailing filled\",\"x\":[\"1970-01-01T00:33:20\",\"1970-01-01T00:33:20\",\"1970-01-01T00:50:00\",\"1970-01-01T00:50:00\",\"1970-01-01T00:50:00\",\"1970-01-01T03:53:20\",\"1970-01-01T03:53:20\",\"1970-01-01T04:10:00\",\"1970-01-01T04:10:00\",\"1970-01-01T04:10:00\",\"1970-01-01T07:13:20\",\"1970-01-01T07:13:20\",\"1970-01-01T07:30:00\",\"1970-01-01T07:30:00\",\"1970-01-01T07:30:00\",\"1970-01-01T10:33:20\",\"1970-01-01T10:33:20\",\"1970-01-01T10:50:00\",\"1970-01-01T10:50:00\",\"1970-01-01T10:50:00\",\"1970-01-01T13:53:20\",\"1970-01-01T13:53:20\",\"1970-01-01T14:10:00\",\"1970-01-01T14:10:00\",\"1970-01-01T14:10:00\",\"1970-01-01T17:13:20\",\"1970-01-01T17:13:20\",\"1970-01-01T17:30:00\",\"1970-01-01T17:30:00\",\"1970-01-01T17:30:00\",\"1970-01-01T20:33:20\",\"1970-01-01T20:33:20\",\"1970-01-01T20:50:00\",\"1970-01-01T20:50:00\",\"1970-01-01T20:50:00\",\"1970-01-01T23:53:20\",\"1970-01-01T23:53:20\",\"1970-01-02T00:10:00\",\"1970-01-02T00:10:00\",\"1970-01-02T00:10:00\",\"1970-01-02T03:13:20\",\"1970-01-02T03:13:20\",\"1970-01-02T03:30:00\",\"1970-01-02T03:30:00\",\"1970-01-02T03:30:00\",\"1970-01-02T06:33:20\",\"1970-01-02T06:33:20\",\"1970-01-02T06:50:00\",\"1970-01-02T06:50:00\",\"1970-01-02T06:50:00\",\"1970-01-02T09:53:20\",\"1970-01-02T09:53:20\",\"1970-01-02T10:10:00\",\"1970-01-02T10:10:00\",\"1970-01-02T10:10:00\",\"1970-01-02T13:13:20\",\"1970-01-02T13:13:20\",\"1970-01-02T13:30:00\",\"1970-01-02T13:30:00\",\"1970-01-02T13:30:00\",\"1970-01-02T16:33:20\",\"1970-01-02T16:33:20\",\"1970-01-02T16:50:00\",\"1970-01-02T16:50:00\",\"1970-01-02T16:50:00\"],\"y\":[\"sailing filled\",\"sailing filled\",\"sailing filled\",\"sailing filled\",null,\"sailing filled\",\"sailing filled\",\"sailing filled\",\"sailing filled\",null,\"sailing filled\",\"sailing filled\",\"sailing filled\",\"sailing filled\",null,\"sailing filled\",\"sailing filled\",\"sailing filled\",\"sailing filled\",null,\"sailing filled\",\"sailing filled\",\"sailing filled\",\"sailing filled\",null,\"sailing filled\",\"sailing filled\",\"sailing filled\",\"sailing filled\",null,\"sailing filled\",\"sailing filled\",\"sailing filled\",\"sailing filled\",null,\"sailing filled\",\"sailing filled\",\"sailing filled\",\"sailing filled\",null,\"sailing filled\",\"sailing filled\",\"sailing filled\",\"sailing filled\",null,\"sailing filled\",\"sailing filled\",\"sailing filled\",\"sailing filled\",null,\"sailing filled\",\"sailing filled\",\"sailing filled\",\"sailing filled\",null,\"sailing filled\",\"sailing filled\",\"sailing filled\",\"sailing filled\",null,\"sailing filled\",\"sailing filled\",\"sailing filled\",\"sailing filled\",null],\"type\":\"scatter\"},{\"connectgaps\":false,\"hoverinfo\":\"y+name\",\"line\":{\"color\":\"rgb(196,26,238)\",\"width\":10},\"mode\":\"lines\",\"name\":\"unloading\",\"x\":[\"1970-01-01T02:46:40\",\"1970-01-01T02:46:40\",\"1970-01-01T03:03:20\",\"1970-01-01T03:03:20\",\"1970-01-01T03:03:20\",\"1970-01-01T06:06:40\",\"1970-01-01T06:06:40\",\"1970-01-01T06:23:20\",\"1970-01-01T06:23:20\",\"1970-01-01T06:23:20\",\"1970-01-01T09:26:40\",\"1970-01-01T09:26:40\",\"1970-01-01T09:43:20\",\"1970-01-01T09:43:20\",\"1970-01-01T09:43:20\",\"1970-01-01T12:46:40\",\"1970-01-01T12:46:40\",\"1970-01-01T13:03:20\",\"1970-01-01T13:03:20\",\"1970-01-01T13:03:20\",\"1970-01-01T16:06:40\",\"1970-01-01T16:06:40\",\"1970-01-01T16:23:20\",\"1970-01-01T16:23:20\",\"1970-01-01T16:23:20\",\"1970-01-01T19:26:40\",\"1970-01-01T19:26:40\",\"1970-01-01T19:43:20\",\"1970-01-01T19:43:20\",\"1970-01-01T19:43:20\",\"1970-01-01T22:46:40\",\"1970-01-01T22:46:40\",\"1970-01-01T23:03:20\",\"1970-01-01T23:03:20\",\"1970-01-01T23:03:20\",\"1970-01-02T02:06:40\",\"1970-01-02T02:06:40\",\"1970-01-02T02:23:20\",\"1970-01-02T02:23:20\",\"1970-01-02T02:23:20\",\"1970-01-02T05:26:40\",\"1970-01-02T05:26:40\",\"1970-01-02T05:43:20\",\"1970-01-02T05:43:20\",\"1970-01-02T05:43:20\",\"1970-01-02T08:46:40\",\"1970-01-02T08:46:40\",\"1970-01-02T09:03:20\",\"1970-01-02T09:03:20\",\"1970-01-02T09:03:20\",\"1970-01-02T12:06:40\",\"1970-01-02T12:06:40\",\"1970-01-02T12:23:20\",\"1970-01-02T12:23:20\",\"1970-01-02T12:23:20\",\"1970-01-02T15:26:40\",\"1970-01-02T15:26:40\",\"1970-01-02T15:43:20\",\"1970-01-02T15:43:20\",\"1970-01-02T15:43:20\",\"1970-01-02T18:46:40\",\"1970-01-02T18:46:40\",\"1970-01-02T19:03:20\",\"1970-01-02T19:03:20\",\"1970-01-02T19:03:20\"],\"y\":[\"unloading\",\"unloading\",\"unloading\",\"unloading\",null,\"unloading\",\"unloading\",\"unloading\",\"unloading\",null,\"unloading\",\"unloading\",\"unloading\",\"unloading\",null,\"unloading\",\"unloading\",\"unloading\",\"unloading\",null,\"unloading\",\"unloading\",\"unloading\",\"unloading\",null,\"unloading\",\"unloading\",\"unloading\",\"unloading\",null,\"unloading\",\"unloading\",\"unloading\",\"unloading\",null,\"unloading\",\"unloading\",\"unloading\",\"unloading\",null,\"unloading\",\"unloading\",\"unloading\",\"unloading\",null,\"unloading\",\"unloading\",\"unloading\",\"unloading\",null,\"unloading\",\"unloading\",\"unloading\",\"unloading\",null,\"unloading\",\"unloading\",\"unloading\",\"unloading\",null,\"unloading\",\"unloading\",\"unloading\",\"unloading\",null],\"type\":\"scatter\"},{\"connectgaps\":false,\"hoverinfo\":\"y+name\",\"line\":{\"color\":\"rgb(232,62,18)\",\"width\":10},\"mode\":\"lines\",\"name\":\"Basic activity\",\"x\":[\"1970-01-01T03:03:20\",\"1970-01-01T03:03:20\",\"1970-01-01T03:20:00\",\"1970-01-01T03:20:00\",\"1970-01-01T03:20:00\",\"1970-01-01T06:23:20\",\"1970-01-01T06:23:20\",\"1970-01-01T06:40:00\",\"1970-01-01T06:40:00\",\"1970-01-01T06:40:00\",\"1970-01-01T09:43:20\",\"1970-01-01T09:43:20\",\"1970-01-01T10:00:00\",\"1970-01-01T10:00:00\",\"1970-01-01T10:00:00\",\"1970-01-01T13:03:20\",\"1970-01-01T13:03:20\",\"1970-01-01T13:20:00\",\"1970-01-01T13:20:00\",\"1970-01-01T13:20:00\",\"1970-01-01T16:23:20\",\"1970-01-01T16:23:20\",\"1970-01-01T16:40:00\",\"1970-01-01T16:40:00\",\"1970-01-01T16:40:00\",\"1970-01-01T19:43:20\",\"1970-01-01T19:43:20\",\"1970-01-01T20:00:00\",\"1970-01-01T20:00:00\",\"1970-01-01T20:00:00\",\"1970-01-01T23:03:20\",\"1970-01-01T23:03:20\",\"1970-01-01T23:20:00\",\"1970-01-01T23:20:00\",\"1970-01-01T23:20:00\",\"1970-01-02T02:23:20\",\"1970-01-02T02:23:20\",\"1970-01-02T02:40:00\",\"1970-01-02T02:40:00\",\"1970-01-02T02:40:00\",\"1970-01-02T05:43:20\",\"1970-01-02T05:43:20\",\"1970-01-02T06:00:00\",\"1970-01-02T06:00:00\",\"1970-01-02T06:00:00\",\"1970-01-02T09:03:20\",\"1970-01-02T09:03:20\",\"1970-01-02T09:20:00\",\"1970-01-02T09:20:00\",\"1970-01-02T09:20:00\",\"1970-01-02T12:23:20\",\"1970-01-02T12:23:20\",\"1970-01-02T12:40:00\",\"1970-01-02T12:40:00\",\"1970-01-02T12:40:00\",\"1970-01-02T15:43:20\",\"1970-01-02T15:43:20\",\"1970-01-02T16:00:00\",\"1970-01-02T16:00:00\",\"1970-01-02T16:00:00\",\"1970-01-02T19:03:20\",\"1970-01-02T19:03:20\",\"1970-01-02T19:20:00\",\"1970-01-02T19:20:00\",\"1970-01-02T19:20:00\"],\"y\":[\"Basic activity\",\"Basic activity\",\"Basic activity\",\"Basic activity\",null,\"Basic activity\",\"Basic activity\",\"Basic activity\",\"Basic activity\",null,\"Basic activity\",\"Basic activity\",\"Basic activity\",\"Basic activity\",null,\"Basic activity\",\"Basic activity\",\"Basic activity\",\"Basic activity\",null,\"Basic activity\",\"Basic activity\",\"Basic activity\",\"Basic activity\",null,\"Basic activity\",\"Basic activity\",\"Basic activity\",\"Basic activity\",null,\"Basic activity\",\"Basic activity\",\"Basic activity\",\"Basic activity\",null,\"Basic activity\",\"Basic activity\",\"Basic activity\",\"Basic activity\",null,\"Basic activity\",\"Basic activity\",\"Basic activity\",\"Basic activity\",null,\"Basic activity\",\"Basic activity\",\"Basic activity\",\"Basic activity\",null,\"Basic activity\",\"Basic activity\",\"Basic activity\",\"Basic activity\",null,\"Basic activity\",\"Basic activity\",\"Basic activity\",\"Basic activity\",null,\"Basic activity\",\"Basic activity\",\"Basic activity\",\"Basic activity\",null],\"type\":\"scatter\"}],                        {\"hovermode\":\"closest\",\"legend\":{\"orientation\":\"h\",\"x\":0,\"y\":-0.2},\"template\":{\"data\":{\"barpolar\":[{\"marker\":{\"line\":{\"color\":\"#E5ECF6\",\"width\":0.5},\"pattern\":{\"fillmode\":\"overlay\",\"size\":10,\"solidity\":0.2}},\"type\":\"barpolar\"}],\"bar\":[{\"error_x\":{\"color\":\"#2a3f5f\"},\"error_y\":{\"color\":\"#2a3f5f\"},\"marker\":{\"line\":{\"color\":\"#E5ECF6\",\"width\":0.5},\"pattern\":{\"fillmode\":\"overlay\",\"size\":10,\"solidity\":0.2}},\"type\":\"bar\"}],\"carpet\":[{\"aaxis\":{\"endlinecolor\":\"#2a3f5f\",\"gridcolor\":\"white\",\"linecolor\":\"white\",\"minorgridcolor\":\"white\",\"startlinecolor\":\"#2a3f5f\"},\"baxis\":{\"endlinecolor\":\"#2a3f5f\",\"gridcolor\":\"white\",\"linecolor\":\"white\",\"minorgridcolor\":\"white\",\"startlinecolor\":\"#2a3f5f\"},\"type\":\"carpet\"}],\"choropleth\":[{\"colorbar\":{\"outlinewidth\":0,\"ticks\":\"\"},\"type\":\"choropleth\"}],\"contourcarpet\":[{\"colorbar\":{\"outlinewidth\":0,\"ticks\":\"\"},\"type\":\"contourcarpet\"}],\"contour\":[{\"colorbar\":{\"outlinewidth\":0,\"ticks\":\"\"},\"colorscale\":[[0.0,\"#0d0887\"],[0.1111111111111111,\"#46039f\"],[0.2222222222222222,\"#7201a8\"],[0.3333333333333333,\"#9c179e\"],[0.4444444444444444,\"#bd3786\"],[0.5555555555555556,\"#d8576b\"],[0.6666666666666666,\"#ed7953\"],[0.7777777777777778,\"#fb9f3a\"],[0.8888888888888888,\"#fdca26\"],[1.0,\"#f0f921\"]],\"type\":\"contour\"}],\"heatmapgl\":[{\"colorbar\":{\"outlinewidth\":0,\"ticks\":\"\"},\"colorscale\":[[0.0,\"#0d0887\"],[0.1111111111111111,\"#46039f\"],[0.2222222222222222,\"#7201a8\"],[0.3333333333333333,\"#9c179e\"],[0.4444444444444444,\"#bd3786\"],[0.5555555555555556,\"#d8576b\"],[0.6666666666666666,\"#ed7953\"],[0.7777777777777778,\"#fb9f3a\"],[0.8888888888888888,\"#fdca26\"],[1.0,\"#f0f921\"]],\"type\":\"heatmapgl\"}],\"heatmap\":[{\"colorbar\":{\"outlinewidth\":0,\"ticks\":\"\"},\"colorscale\":[[0.0,\"#0d0887\"],[0.1111111111111111,\"#46039f\"],[0.2222222222222222,\"#7201a8\"],[0.3333333333333333,\"#9c179e\"],[0.4444444444444444,\"#bd3786\"],[0.5555555555555556,\"#d8576b\"],[0.6666666666666666,\"#ed7953\"],[0.7777777777777778,\"#fb9f3a\"],[0.8888888888888888,\"#fdca26\"],[1.0,\"#f0f921\"]],\"type\":\"heatmap\"}],\"histogram2dcontour\":[{\"colorbar\":{\"outlinewidth\":0,\"ticks\":\"\"},\"colorscale\":[[0.0,\"#0d0887\"],[0.1111111111111111,\"#46039f\"],[0.2222222222222222,\"#7201a8\"],[0.3333333333333333,\"#9c179e\"],[0.4444444444444444,\"#bd3786\"],[0.5555555555555556,\"#d8576b\"],[0.6666666666666666,\"#ed7953\"],[0.7777777777777778,\"#fb9f3a\"],[0.8888888888888888,\"#fdca26\"],[1.0,\"#f0f921\"]],\"type\":\"histogram2dcontour\"}],\"histogram2d\":[{\"colorbar\":{\"outlinewidth\":0,\"ticks\":\"\"},\"colorscale\":[[0.0,\"#0d0887\"],[0.1111111111111111,\"#46039f\"],[0.2222222222222222,\"#7201a8\"],[0.3333333333333333,\"#9c179e\"],[0.4444444444444444,\"#bd3786\"],[0.5555555555555556,\"#d8576b\"],[0.6666666666666666,\"#ed7953\"],[0.7777777777777778,\"#fb9f3a\"],[0.8888888888888888,\"#fdca26\"],[1.0,\"#f0f921\"]],\"type\":\"histogram2d\"}],\"histogram\":[{\"marker\":{\"pattern\":{\"fillmode\":\"overlay\",\"size\":10,\"solidity\":0.2}},\"type\":\"histogram\"}],\"mesh3d\":[{\"colorbar\":{\"outlinewidth\":0,\"ticks\":\"\"},\"type\":\"mesh3d\"}],\"parcoords\":[{\"line\":{\"colorbar\":{\"outlinewidth\":0,\"ticks\":\"\"}},\"type\":\"parcoords\"}],\"pie\":[{\"automargin\":true,\"type\":\"pie\"}],\"scatter3d\":[{\"line\":{\"colorbar\":{\"outlinewidth\":0,\"ticks\":\"\"}},\"marker\":{\"colorbar\":{\"outlinewidth\":0,\"ticks\":\"\"}},\"type\":\"scatter3d\"}],\"scattercarpet\":[{\"marker\":{\"colorbar\":{\"outlinewidth\":0,\"ticks\":\"\"}},\"type\":\"scattercarpet\"}],\"scattergeo\":[{\"marker\":{\"colorbar\":{\"outlinewidth\":0,\"ticks\":\"\"}},\"type\":\"scattergeo\"}],\"scattergl\":[{\"marker\":{\"colorbar\":{\"outlinewidth\":0,\"ticks\":\"\"}},\"type\":\"scattergl\"}],\"scattermapbox\":[{\"marker\":{\"colorbar\":{\"outlinewidth\":0,\"ticks\":\"\"}},\"type\":\"scattermapbox\"}],\"scatterpolargl\":[{\"marker\":{\"colorbar\":{\"outlinewidth\":0,\"ticks\":\"\"}},\"type\":\"scatterpolargl\"}],\"scatterpolar\":[{\"marker\":{\"colorbar\":{\"outlinewidth\":0,\"ticks\":\"\"}},\"type\":\"scatterpolar\"}],\"scatter\":[{\"marker\":{\"colorbar\":{\"outlinewidth\":0,\"ticks\":\"\"}},\"type\":\"scatter\"}],\"scatterternary\":[{\"marker\":{\"colorbar\":{\"outlinewidth\":0,\"ticks\":\"\"}},\"type\":\"scatterternary\"}],\"surface\":[{\"colorbar\":{\"outlinewidth\":0,\"ticks\":\"\"},\"colorscale\":[[0.0,\"#0d0887\"],[0.1111111111111111,\"#46039f\"],[0.2222222222222222,\"#7201a8\"],[0.3333333333333333,\"#9c179e\"],[0.4444444444444444,\"#bd3786\"],[0.5555555555555556,\"#d8576b\"],[0.6666666666666666,\"#ed7953\"],[0.7777777777777778,\"#fb9f3a\"],[0.8888888888888888,\"#fdca26\"],[1.0,\"#f0f921\"]],\"type\":\"surface\"}],\"table\":[{\"cells\":{\"fill\":{\"color\":\"#EBF0F8\"},\"line\":{\"color\":\"white\"}},\"header\":{\"fill\":{\"color\":\"#C8D4E3\"},\"line\":{\"color\":\"white\"}},\"type\":\"table\"}]},\"layout\":{\"annotationdefaults\":{\"arrowcolor\":\"#2a3f5f\",\"arrowhead\":0,\"arrowwidth\":1},\"autotypenumbers\":\"strict\",\"coloraxis\":{\"colorbar\":{\"outlinewidth\":0,\"ticks\":\"\"}},\"colorscale\":{\"diverging\":[[0,\"#8e0152\"],[0.1,\"#c51b7d\"],[0.2,\"#de77ae\"],[0.3,\"#f1b6da\"],[0.4,\"#fde0ef\"],[0.5,\"#f7f7f7\"],[0.6,\"#e6f5d0\"],[0.7,\"#b8e186\"],[0.8,\"#7fbc41\"],[0.9,\"#4d9221\"],[1,\"#276419\"]],\"sequential\":[[0.0,\"#0d0887\"],[0.1111111111111111,\"#46039f\"],[0.2222222222222222,\"#7201a8\"],[0.3333333333333333,\"#9c179e\"],[0.4444444444444444,\"#bd3786\"],[0.5555555555555556,\"#d8576b\"],[0.6666666666666666,\"#ed7953\"],[0.7777777777777778,\"#fb9f3a\"],[0.8888888888888888,\"#fdca26\"],[1.0,\"#f0f921\"]],\"sequentialminus\":[[0.0,\"#0d0887\"],[0.1111111111111111,\"#46039f\"],[0.2222222222222222,\"#7201a8\"],[0.3333333333333333,\"#9c179e\"],[0.4444444444444444,\"#bd3786\"],[0.5555555555555556,\"#d8576b\"],[0.6666666666666666,\"#ed7953\"],[0.7777777777777778,\"#fb9f3a\"],[0.8888888888888888,\"#fdca26\"],[1.0,\"#f0f921\"]]},\"colorway\":[\"#636efa\",\"#EF553B\",\"#00cc96\",\"#ab63fa\",\"#FFA15A\",\"#19d3f3\",\"#FF6692\",\"#B6E880\",\"#FF97FF\",\"#FECB52\"],\"font\":{\"color\":\"#2a3f5f\"},\"geo\":{\"bgcolor\":\"white\",\"lakecolor\":\"white\",\"landcolor\":\"#E5ECF6\",\"showlakes\":true,\"showland\":true,\"subunitcolor\":\"white\"},\"hoverlabel\":{\"align\":\"left\"},\"hovermode\":\"closest\",\"mapbox\":{\"style\":\"light\"},\"paper_bgcolor\":\"white\",\"plot_bgcolor\":\"#E5ECF6\",\"polar\":{\"angularaxis\":{\"gridcolor\":\"white\",\"linecolor\":\"white\",\"ticks\":\"\"},\"bgcolor\":\"#E5ECF6\",\"radialaxis\":{\"gridcolor\":\"white\",\"linecolor\":\"white\",\"ticks\":\"\"}},\"scene\":{\"xaxis\":{\"backgroundcolor\":\"#E5ECF6\",\"gridcolor\":\"white\",\"gridwidth\":2,\"linecolor\":\"white\",\"showbackground\":true,\"ticks\":\"\",\"zerolinecolor\":\"white\"},\"yaxis\":{\"backgroundcolor\":\"#E5ECF6\",\"gridcolor\":\"white\",\"gridwidth\":2,\"linecolor\":\"white\",\"showbackground\":true,\"ticks\":\"\",\"zerolinecolor\":\"white\"},\"zaxis\":{\"backgroundcolor\":\"#E5ECF6\",\"gridcolor\":\"white\",\"gridwidth\":2,\"linecolor\":\"white\",\"showbackground\":true,\"ticks\":\"\",\"zerolinecolor\":\"white\"}},\"shapedefaults\":{\"line\":{\"color\":\"#2a3f5f\"}},\"ternary\":{\"aaxis\":{\"gridcolor\":\"white\",\"linecolor\":\"white\",\"ticks\":\"\"},\"baxis\":{\"gridcolor\":\"white\",\"linecolor\":\"white\",\"ticks\":\"\"},\"bgcolor\":\"#E5ECF6\",\"caxis\":{\"gridcolor\":\"white\",\"linecolor\":\"white\",\"ticks\":\"\"}},\"title\":{\"x\":0.05},\"xaxis\":{\"automargin\":true,\"gridcolor\":\"white\",\"linecolor\":\"white\",\"ticks\":\"\",\"title\":{\"standoff\":15},\"zerolinecolor\":\"white\",\"zerolinewidth\":2},\"yaxis\":{\"automargin\":true,\"gridcolor\":\"white\",\"linecolor\":\"white\",\"ticks\":\"\",\"title\":{\"standoff\":15},\"zerolinecolor\":\"white\",\"zerolinewidth\":2}}},\"title\":{\"text\":\"GANTT Chart\"},\"xaxis\":{\"range\":[\"1970-01-01T00:00:00\",\"1970-01-02T19:20:00\"],\"title\":{\"font\":{\"color\":\"#7f7f7f\",\"family\":\"Courier New, monospace\",\"size\":18},\"text\":\"Time\"}},\"yaxis\":{\"title\":{\"font\":{\"color\":\"#7f7f7f\",\"family\":\"Courier New, monospace\",\"size\":18},\"text\":\"Activities\"}}},                        {\"responsive\": true}                    ).then(function(){\n",
       "                            \n",
       "var gd = document.getElementById('dca4cfcf-6ac8-4570-bc4c-31d7139bd838');\n",
       "var x = new MutationObserver(function (mutations, observer) {{\n",
       "        var display = window.getComputedStyle(gd).display;\n",
       "        if (!display || display === 'none') {{\n",
       "            console.log([gd, 'removed!']);\n",
       "            Plotly.purge(gd);\n",
       "            observer.disconnect();\n",
       "        }}\n",
       "}});\n",
       "\n",
       "// Listen for the removal of the full notebook cells\n",
       "var notebookContainer = gd.closest('#notebook-container');\n",
       "if (notebookContainer) {{\n",
       "    x.observe(notebookContainer, {childList: true});\n",
       "}}\n",
       "\n",
       "// Listen for the clearing of the current output cell\n",
       "var outputEl = gd.closest('.output');\n",
       "if (outputEl) {{\n",
       "    x.observe(outputEl, {childList: true});\n",
       "}}\n",
       "\n",
       "                        })                };                });            </script>        </div>"
      ]
     },
     "metadata": {},
     "output_type": "display_data"
    }
   ],
   "source": [
    " plot.get_gantt_chart([*sub_processes_helper, *sub_processes_main])"
   ]
  },
  {
   "cell_type": "code",
   "execution_count": 12,
   "metadata": {},
   "outputs": [
    {
     "data": {
      "text/html": [
       "        <script type=\"text/javascript\">\n",
       "        window.PlotlyConfig = {MathJaxConfig: 'local'};\n",
       "        if (window.MathJax) {MathJax.Hub.Config({SVG: {font: \"STIX-Web\"}});}\n",
       "        if (typeof require !== 'undefined') {\n",
       "        require.undef(\"plotly\");\n",
       "        requirejs.config({\n",
       "            paths: {\n",
       "                'plotly': ['https://cdn.plot.ly/plotly-2.8.3.min']\n",
       "            }\n",
       "        });\n",
       "        require(['plotly'], function(Plotly) {\n",
       "            window._Plotly = Plotly;\n",
       "        });\n",
       "        }\n",
       "        </script>\n",
       "        "
      ]
     },
     "metadata": {},
     "output_type": "display_data"
    },
    {
     "data": {
      "application/vnd.plotly.v1+json": {
       "config": {
        "linkText": "Export to plot.ly",
        "plotlyServerURL": "https://plot.ly",
        "showLink": false
       },
       "data": [
        {
         "connectgaps": false,
         "hoverinfo": "y+name",
         "line": {
          "color": "rgb(87,15,235)",
          "width": 10
         },
         "mode": "lines",
         "name": "sailing filled",
         "type": "scatter",
         "x": [
          "1970-01-01T00:33:20",
          "1970-01-01T00:33:20",
          "1970-01-01T00:50:00",
          "1970-01-01T00:50:00",
          "1970-01-01T00:50:00",
          "1970-01-01T03:53:20",
          "1970-01-01T03:53:20",
          "1970-01-01T04:10:00",
          "1970-01-01T04:10:00",
          "1970-01-01T04:10:00",
          "1970-01-01T07:13:20",
          "1970-01-01T07:13:20",
          "1970-01-01T07:30:00",
          "1970-01-01T07:30:00",
          "1970-01-01T07:30:00",
          "1970-01-01T10:33:20",
          "1970-01-01T10:33:20",
          "1970-01-01T10:50:00",
          "1970-01-01T10:50:00",
          "1970-01-01T10:50:00",
          "1970-01-01T13:53:20",
          "1970-01-01T13:53:20",
          "1970-01-01T14:10:00",
          "1970-01-01T14:10:00",
          "1970-01-01T14:10:00",
          "1970-01-01T17:13:20",
          "1970-01-01T17:13:20",
          "1970-01-01T17:30:00",
          "1970-01-01T17:30:00",
          "1970-01-01T17:30:00",
          "1970-01-01T20:33:20",
          "1970-01-01T20:33:20",
          "1970-01-01T20:50:00",
          "1970-01-01T20:50:00",
          "1970-01-01T20:50:00",
          "1970-01-01T23:53:20",
          "1970-01-01T23:53:20",
          "1970-01-02T00:10:00",
          "1970-01-02T00:10:00",
          "1970-01-02T00:10:00",
          "1970-01-02T03:13:20",
          "1970-01-02T03:13:20",
          "1970-01-02T03:30:00",
          "1970-01-02T03:30:00",
          "1970-01-02T03:30:00",
          "1970-01-02T06:33:20",
          "1970-01-02T06:33:20",
          "1970-01-02T06:50:00",
          "1970-01-02T06:50:00",
          "1970-01-02T06:50:00",
          "1970-01-02T09:53:20",
          "1970-01-02T09:53:20",
          "1970-01-02T10:10:00",
          "1970-01-02T10:10:00",
          "1970-01-02T10:10:00",
          "1970-01-02T13:13:20",
          "1970-01-02T13:13:20",
          "1970-01-02T13:30:00",
          "1970-01-02T13:30:00",
          "1970-01-02T13:30:00",
          "1970-01-02T16:33:20",
          "1970-01-02T16:33:20",
          "1970-01-02T16:50:00",
          "1970-01-02T16:50:00",
          "1970-01-02T16:50:00"
         ],
         "y": [
          "vessel01",
          "vessel01",
          "vessel01",
          "vessel01",
          null,
          "vessel01",
          "vessel01",
          "vessel01",
          "vessel01",
          null,
          "vessel01",
          "vessel01",
          "vessel01",
          "vessel01",
          null,
          "vessel01",
          "vessel01",
          "vessel01",
          "vessel01",
          null,
          "vessel01",
          "vessel01",
          "vessel01",
          "vessel01",
          null,
          "vessel01",
          "vessel01",
          "vessel01",
          "vessel01",
          null,
          "vessel01",
          "vessel01",
          "vessel01",
          "vessel01",
          null,
          "vessel01",
          "vessel01",
          "vessel01",
          "vessel01",
          null,
          "vessel01",
          "vessel01",
          "vessel01",
          "vessel01",
          null,
          "vessel01",
          "vessel01",
          "vessel01",
          "vessel01",
          null,
          "vessel01",
          "vessel01",
          "vessel01",
          "vessel01",
          null,
          "vessel01",
          "vessel01",
          "vessel01",
          "vessel01",
          null,
          "vessel01",
          "vessel01",
          "vessel01",
          "vessel01",
          null
         ]
        },
        {
         "connectgaps": false,
         "hoverinfo": "y+name",
         "line": {
          "color": "rgb(115,43,7)",
          "width": 10
         },
         "mode": "lines",
         "name": "Basic activity",
         "type": "scatter",
         "x": [
          "1970-01-01T03:03:20",
          "1970-01-01T03:03:20",
          "1970-01-01T03:20:00",
          "1970-01-01T03:20:00",
          "1970-01-01T03:20:00",
          "1970-01-01T06:23:20",
          "1970-01-01T06:23:20",
          "1970-01-01T06:40:00",
          "1970-01-01T06:40:00",
          "1970-01-01T06:40:00",
          "1970-01-01T09:43:20",
          "1970-01-01T09:43:20",
          "1970-01-01T10:00:00",
          "1970-01-01T10:00:00",
          "1970-01-01T10:00:00",
          "1970-01-01T13:03:20",
          "1970-01-01T13:03:20",
          "1970-01-01T13:20:00",
          "1970-01-01T13:20:00",
          "1970-01-01T13:20:00",
          "1970-01-01T16:23:20",
          "1970-01-01T16:23:20",
          "1970-01-01T16:40:00",
          "1970-01-01T16:40:00",
          "1970-01-01T16:40:00",
          "1970-01-01T19:43:20",
          "1970-01-01T19:43:20",
          "1970-01-01T20:00:00",
          "1970-01-01T20:00:00",
          "1970-01-01T20:00:00",
          "1970-01-01T23:03:20",
          "1970-01-01T23:03:20",
          "1970-01-01T23:20:00",
          "1970-01-01T23:20:00",
          "1970-01-01T23:20:00",
          "1970-01-02T02:23:20",
          "1970-01-02T02:23:20",
          "1970-01-02T02:40:00",
          "1970-01-02T02:40:00",
          "1970-01-02T02:40:00",
          "1970-01-02T05:43:20",
          "1970-01-02T05:43:20",
          "1970-01-02T06:00:00",
          "1970-01-02T06:00:00",
          "1970-01-02T06:00:00",
          "1970-01-02T09:03:20",
          "1970-01-02T09:03:20",
          "1970-01-02T09:20:00",
          "1970-01-02T09:20:00",
          "1970-01-02T09:20:00",
          "1970-01-02T12:23:20",
          "1970-01-02T12:23:20",
          "1970-01-02T12:40:00",
          "1970-01-02T12:40:00",
          "1970-01-02T12:40:00",
          "1970-01-02T15:43:20",
          "1970-01-02T15:43:20",
          "1970-01-02T16:00:00",
          "1970-01-02T16:00:00",
          "1970-01-02T16:00:00",
          "1970-01-02T19:03:20",
          "1970-01-02T19:03:20",
          "1970-01-02T19:20:00",
          "1970-01-02T19:20:00",
          "1970-01-02T19:20:00"
         ],
         "y": [
          "vessel01",
          "vessel01",
          "vessel01",
          "vessel01",
          null,
          "vessel01",
          "vessel01",
          "vessel01",
          "vessel01",
          null,
          "vessel01",
          "vessel01",
          "vessel01",
          "vessel01",
          null,
          "vessel01",
          "vessel01",
          "vessel01",
          "vessel01",
          null,
          "vessel01",
          "vessel01",
          "vessel01",
          "vessel01",
          null,
          "vessel01",
          "vessel01",
          "vessel01",
          "vessel01",
          null,
          "vessel01",
          "vessel01",
          "vessel01",
          "vessel01",
          null,
          "vessel01",
          "vessel01",
          "vessel01",
          "vessel01",
          null,
          "vessel01",
          "vessel01",
          "vessel01",
          "vessel01",
          null,
          "vessel01",
          "vessel01",
          "vessel01",
          "vessel01",
          null,
          "vessel01",
          "vessel01",
          "vessel01",
          "vessel01",
          null,
          "vessel01",
          "vessel01",
          "vessel01",
          "vessel01",
          null,
          "vessel01",
          "vessel01",
          "vessel01",
          "vessel01",
          null
         ]
        },
        {
         "connectgaps": false,
         "hoverinfo": "y+name",
         "line": {
          "color": "rgb(143,71,35)",
          "width": 10
         },
         "mode": "lines",
         "name": "prepair",
         "type": "scatter",
         "x": [
          "1970-01-01T00:00:00",
          "1970-01-01T00:00:00",
          "1970-01-01T02:46:40",
          "1970-01-01T02:46:40",
          "1970-01-01T02:46:40",
          "1970-01-01T03:20:00",
          "1970-01-01T03:20:00",
          "1970-01-01T06:06:40",
          "1970-01-01T06:06:40",
          "1970-01-01T06:06:40",
          "1970-01-01T06:40:00",
          "1970-01-01T06:40:00",
          "1970-01-01T09:26:40",
          "1970-01-01T09:26:40",
          "1970-01-01T09:26:40",
          "1970-01-01T10:00:00",
          "1970-01-01T10:00:00",
          "1970-01-01T12:46:40",
          "1970-01-01T12:46:40",
          "1970-01-01T12:46:40",
          "1970-01-01T13:20:00",
          "1970-01-01T13:20:00",
          "1970-01-01T16:06:40",
          "1970-01-01T16:06:40",
          "1970-01-01T16:06:40",
          "1970-01-01T16:40:00",
          "1970-01-01T16:40:00",
          "1970-01-01T19:26:40",
          "1970-01-01T19:26:40",
          "1970-01-01T19:26:40",
          "1970-01-01T20:00:00",
          "1970-01-01T20:00:00",
          "1970-01-01T22:46:40",
          "1970-01-01T22:46:40",
          "1970-01-01T22:46:40",
          "1970-01-01T23:20:00",
          "1970-01-01T23:20:00",
          "1970-01-02T02:06:40",
          "1970-01-02T02:06:40",
          "1970-01-02T02:06:40",
          "1970-01-02T02:40:00",
          "1970-01-02T02:40:00",
          "1970-01-02T05:26:40",
          "1970-01-02T05:26:40",
          "1970-01-02T05:26:40",
          "1970-01-02T06:00:00",
          "1970-01-02T06:00:00",
          "1970-01-02T08:46:40",
          "1970-01-02T08:46:40",
          "1970-01-02T08:46:40",
          "1970-01-02T09:20:00",
          "1970-01-02T09:20:00",
          "1970-01-02T12:06:40",
          "1970-01-02T12:06:40",
          "1970-01-02T12:06:40",
          "1970-01-02T12:40:00",
          "1970-01-02T12:40:00",
          "1970-01-02T15:26:40",
          "1970-01-02T15:26:40",
          "1970-01-02T15:26:40",
          "1970-01-02T16:00:00",
          "1970-01-02T16:00:00",
          "1970-01-02T18:46:40",
          "1970-01-02T18:46:40",
          "1970-01-02T18:46:40"
         ],
         "y": [
          "vessel01",
          "vessel01",
          "vessel01",
          "vessel01",
          null,
          "vessel01",
          "vessel01",
          "vessel01",
          "vessel01",
          null,
          "vessel01",
          "vessel01",
          "vessel01",
          "vessel01",
          null,
          "vessel01",
          "vessel01",
          "vessel01",
          "vessel01",
          null,
          "vessel01",
          "vessel01",
          "vessel01",
          "vessel01",
          null,
          "vessel01",
          "vessel01",
          "vessel01",
          "vessel01",
          null,
          "vessel01",
          "vessel01",
          "vessel01",
          "vessel01",
          null,
          "vessel01",
          "vessel01",
          "vessel01",
          "vessel01",
          null,
          "vessel01",
          "vessel01",
          "vessel01",
          "vessel01",
          null,
          "vessel01",
          "vessel01",
          "vessel01",
          "vessel01",
          null,
          "vessel01",
          "vessel01",
          "vessel01",
          "vessel01",
          null,
          "vessel01",
          "vessel01",
          "vessel01",
          "vessel01",
          null,
          "vessel01",
          "vessel01",
          "vessel01",
          "vessel01",
          null
         ]
        },
        {
         "connectgaps": false,
         "hoverinfo": "y+name",
         "line": {
          "color": "rgb(171,99,63)",
          "width": 10
         },
         "mode": "lines",
         "name": "unloading",
         "type": "scatter",
         "x": [
          "1970-01-01T02:46:40",
          "1970-01-01T02:46:40",
          "1970-01-01T03:03:20",
          "1970-01-01T03:03:20",
          "1970-01-01T03:03:20",
          "1970-01-01T06:06:40",
          "1970-01-01T06:06:40",
          "1970-01-01T06:23:20",
          "1970-01-01T06:23:20",
          "1970-01-01T06:23:20",
          "1970-01-01T09:26:40",
          "1970-01-01T09:26:40",
          "1970-01-01T09:43:20",
          "1970-01-01T09:43:20",
          "1970-01-01T09:43:20",
          "1970-01-01T12:46:40",
          "1970-01-01T12:46:40",
          "1970-01-01T13:03:20",
          "1970-01-01T13:03:20",
          "1970-01-01T13:03:20",
          "1970-01-01T16:06:40",
          "1970-01-01T16:06:40",
          "1970-01-01T16:23:20",
          "1970-01-01T16:23:20",
          "1970-01-01T16:23:20",
          "1970-01-01T19:26:40",
          "1970-01-01T19:26:40",
          "1970-01-01T19:43:20",
          "1970-01-01T19:43:20",
          "1970-01-01T19:43:20",
          "1970-01-01T22:46:40",
          "1970-01-01T22:46:40",
          "1970-01-01T23:03:20",
          "1970-01-01T23:03:20",
          "1970-01-01T23:03:20",
          "1970-01-02T02:06:40",
          "1970-01-02T02:06:40",
          "1970-01-02T02:23:20",
          "1970-01-02T02:23:20",
          "1970-01-02T02:23:20",
          "1970-01-02T05:26:40",
          "1970-01-02T05:26:40",
          "1970-01-02T05:43:20",
          "1970-01-02T05:43:20",
          "1970-01-02T05:43:20",
          "1970-01-02T08:46:40",
          "1970-01-02T08:46:40",
          "1970-01-02T09:03:20",
          "1970-01-02T09:03:20",
          "1970-01-02T09:03:20",
          "1970-01-02T12:06:40",
          "1970-01-02T12:06:40",
          "1970-01-02T12:23:20",
          "1970-01-02T12:23:20",
          "1970-01-02T12:23:20",
          "1970-01-02T15:26:40",
          "1970-01-02T15:26:40",
          "1970-01-02T15:43:20",
          "1970-01-02T15:43:20",
          "1970-01-02T15:43:20",
          "1970-01-02T18:46:40",
          "1970-01-02T18:46:40",
          "1970-01-02T19:03:20",
          "1970-01-02T19:03:20",
          "1970-01-02T19:03:20",
          "1970-01-01T02:46:40",
          "1970-01-01T02:46:40",
          "1970-01-01T03:03:20",
          "1970-01-01T03:03:20",
          "1970-01-01T03:03:20",
          "1970-01-01T06:06:40",
          "1970-01-01T06:06:40",
          "1970-01-01T06:23:20",
          "1970-01-01T06:23:20",
          "1970-01-01T06:23:20",
          "1970-01-01T09:26:40",
          "1970-01-01T09:26:40",
          "1970-01-01T09:43:20",
          "1970-01-01T09:43:20",
          "1970-01-01T09:43:20",
          "1970-01-01T12:46:40",
          "1970-01-01T12:46:40",
          "1970-01-01T13:03:20",
          "1970-01-01T13:03:20",
          "1970-01-01T13:03:20",
          "1970-01-01T16:06:40",
          "1970-01-01T16:06:40",
          "1970-01-01T16:23:20",
          "1970-01-01T16:23:20",
          "1970-01-01T16:23:20",
          "1970-01-01T19:26:40",
          "1970-01-01T19:26:40",
          "1970-01-01T19:43:20",
          "1970-01-01T19:43:20",
          "1970-01-01T19:43:20",
          "1970-01-01T22:46:40",
          "1970-01-01T22:46:40",
          "1970-01-01T23:03:20",
          "1970-01-01T23:03:20",
          "1970-01-01T23:03:20",
          "1970-01-02T02:06:40",
          "1970-01-02T02:06:40",
          "1970-01-02T02:23:20",
          "1970-01-02T02:23:20",
          "1970-01-02T02:23:20",
          "1970-01-02T05:26:40",
          "1970-01-02T05:26:40",
          "1970-01-02T05:43:20",
          "1970-01-02T05:43:20",
          "1970-01-02T05:43:20",
          "1970-01-02T08:46:40",
          "1970-01-02T08:46:40",
          "1970-01-02T09:03:20",
          "1970-01-02T09:03:20",
          "1970-01-02T09:03:20",
          "1970-01-02T12:06:40",
          "1970-01-02T12:06:40",
          "1970-01-02T12:23:20",
          "1970-01-02T12:23:20",
          "1970-01-02T12:23:20",
          "1970-01-02T15:26:40",
          "1970-01-02T15:26:40",
          "1970-01-02T15:43:20",
          "1970-01-02T15:43:20",
          "1970-01-02T15:43:20",
          "1970-01-02T18:46:40",
          "1970-01-02T18:46:40",
          "1970-01-02T19:03:20",
          "1970-01-02T19:03:20",
          "1970-01-02T19:03:20"
         ],
         "y": [
          "vessel01",
          "vessel01",
          "vessel01",
          "vessel01",
          null,
          "vessel01",
          "vessel01",
          "vessel01",
          "vessel01",
          null,
          "vessel01",
          "vessel01",
          "vessel01",
          "vessel01",
          null,
          "vessel01",
          "vessel01",
          "vessel01",
          "vessel01",
          null,
          "vessel01",
          "vessel01",
          "vessel01",
          "vessel01",
          null,
          "vessel01",
          "vessel01",
          "vessel01",
          "vessel01",
          null,
          "vessel01",
          "vessel01",
          "vessel01",
          "vessel01",
          null,
          "vessel01",
          "vessel01",
          "vessel01",
          "vessel01",
          null,
          "vessel01",
          "vessel01",
          "vessel01",
          "vessel01",
          null,
          "vessel01",
          "vessel01",
          "vessel01",
          "vessel01",
          null,
          "vessel01",
          "vessel01",
          "vessel01",
          "vessel01",
          null,
          "vessel01",
          "vessel01",
          "vessel01",
          "vessel01",
          null,
          "vessel01",
          "vessel01",
          "vessel01",
          "vessel01",
          null,
          "to_site",
          "to_site",
          "to_site",
          "to_site",
          null,
          "to_site",
          "to_site",
          "to_site",
          "to_site",
          null,
          "to_site",
          "to_site",
          "to_site",
          "to_site",
          null,
          "to_site",
          "to_site",
          "to_site",
          "to_site",
          null,
          "to_site",
          "to_site",
          "to_site",
          "to_site",
          null,
          "to_site",
          "to_site",
          "to_site",
          "to_site",
          null,
          "to_site",
          "to_site",
          "to_site",
          "to_site",
          null,
          "to_site",
          "to_site",
          "to_site",
          "to_site",
          null,
          "to_site",
          "to_site",
          "to_site",
          "to_site",
          null,
          "to_site",
          "to_site",
          "to_site",
          "to_site",
          null,
          "to_site",
          "to_site",
          "to_site",
          "to_site",
          null,
          "to_site",
          "to_site",
          "to_site",
          "to_site",
          null,
          "to_site",
          "to_site",
          "to_site",
          "to_site",
          null
         ]
        },
        {
         "connectgaps": false,
         "hoverinfo": "y+name",
         "line": {
          "color": "rgb(199,127,91)",
          "width": 10
         },
         "mode": "lines",
         "name": "clean-up",
         "type": "scatter",
         "x": [
          "1970-01-01T03:03:20",
          "1970-01-01T03:03:20",
          "1970-01-01T03:20:00",
          "1970-01-01T03:20:00",
          "1970-01-01T03:20:00",
          "1970-01-01T06:23:20",
          "1970-01-01T06:23:20",
          "1970-01-01T06:40:00",
          "1970-01-01T06:40:00",
          "1970-01-01T06:40:00",
          "1970-01-01T09:43:20",
          "1970-01-01T09:43:20",
          "1970-01-01T10:00:00",
          "1970-01-01T10:00:00",
          "1970-01-01T10:00:00",
          "1970-01-01T13:03:20",
          "1970-01-01T13:03:20",
          "1970-01-01T13:20:00",
          "1970-01-01T13:20:00",
          "1970-01-01T13:20:00",
          "1970-01-01T16:23:20",
          "1970-01-01T16:23:20",
          "1970-01-01T16:40:00",
          "1970-01-01T16:40:00",
          "1970-01-01T16:40:00",
          "1970-01-01T19:43:20",
          "1970-01-01T19:43:20",
          "1970-01-01T20:00:00",
          "1970-01-01T20:00:00",
          "1970-01-01T20:00:00",
          "1970-01-01T23:03:20",
          "1970-01-01T23:03:20",
          "1970-01-01T23:20:00",
          "1970-01-01T23:20:00",
          "1970-01-01T23:20:00",
          "1970-01-02T02:23:20",
          "1970-01-02T02:23:20",
          "1970-01-02T02:40:00",
          "1970-01-02T02:40:00",
          "1970-01-02T02:40:00",
          "1970-01-02T05:43:20",
          "1970-01-02T05:43:20",
          "1970-01-02T06:00:00",
          "1970-01-02T06:00:00",
          "1970-01-02T06:00:00",
          "1970-01-02T09:03:20",
          "1970-01-02T09:03:20",
          "1970-01-02T09:20:00",
          "1970-01-02T09:20:00",
          "1970-01-02T09:20:00",
          "1970-01-02T12:23:20",
          "1970-01-02T12:23:20",
          "1970-01-02T12:40:00",
          "1970-01-02T12:40:00",
          "1970-01-02T12:40:00",
          "1970-01-02T15:43:20",
          "1970-01-02T15:43:20",
          "1970-01-02T16:00:00",
          "1970-01-02T16:00:00",
          "1970-01-02T16:00:00",
          "1970-01-02T19:03:20",
          "1970-01-02T19:03:20",
          "1970-01-02T19:20:00",
          "1970-01-02T19:20:00",
          "1970-01-02T19:20:00"
         ],
         "y": [
          "vessel01",
          "vessel01",
          "vessel01",
          "vessel01",
          null,
          "vessel01",
          "vessel01",
          "vessel01",
          "vessel01",
          null,
          "vessel01",
          "vessel01",
          "vessel01",
          "vessel01",
          null,
          "vessel01",
          "vessel01",
          "vessel01",
          "vessel01",
          null,
          "vessel01",
          "vessel01",
          "vessel01",
          "vessel01",
          null,
          "vessel01",
          "vessel01",
          "vessel01",
          "vessel01",
          null,
          "vessel01",
          "vessel01",
          "vessel01",
          "vessel01",
          null,
          "vessel01",
          "vessel01",
          "vessel01",
          "vessel01",
          null,
          "vessel01",
          "vessel01",
          "vessel01",
          "vessel01",
          null,
          "vessel01",
          "vessel01",
          "vessel01",
          "vessel01",
          null,
          "vessel01",
          "vessel01",
          "vessel01",
          "vessel01",
          null,
          "vessel01",
          "vessel01",
          "vessel01",
          "vessel01",
          null,
          "vessel01",
          "vessel01",
          "vessel01",
          "vessel01",
          null
         ]
        },
        {
         "connectgaps": false,
         "hoverinfo": "y+name",
         "line": {
          "color": "rgb(227,155,119)",
          "width": 10
         },
         "mode": "lines",
         "name": "sailing empty",
         "type": "scatter",
         "x": [
          "1970-01-01T00:00:00",
          "1970-01-01T00:00:00",
          "1970-01-01T00:16:40",
          "1970-01-01T00:16:40",
          "1970-01-01T00:16:40",
          "1970-01-01T03:20:00",
          "1970-01-01T03:20:00",
          "1970-01-01T03:36:40",
          "1970-01-01T03:36:40",
          "1970-01-01T03:36:40",
          "1970-01-01T06:40:00",
          "1970-01-01T06:40:00",
          "1970-01-01T06:56:40",
          "1970-01-01T06:56:40",
          "1970-01-01T06:56:40",
          "1970-01-01T10:00:00",
          "1970-01-01T10:00:00",
          "1970-01-01T10:16:40",
          "1970-01-01T10:16:40",
          "1970-01-01T10:16:40",
          "1970-01-01T13:20:00",
          "1970-01-01T13:20:00",
          "1970-01-01T13:36:40",
          "1970-01-01T13:36:40",
          "1970-01-01T13:36:40",
          "1970-01-01T16:40:00",
          "1970-01-01T16:40:00",
          "1970-01-01T16:56:40",
          "1970-01-01T16:56:40",
          "1970-01-01T16:56:40",
          "1970-01-01T20:00:00",
          "1970-01-01T20:00:00",
          "1970-01-01T20:16:40",
          "1970-01-01T20:16:40",
          "1970-01-01T20:16:40",
          "1970-01-01T23:20:00",
          "1970-01-01T23:20:00",
          "1970-01-01T23:36:40",
          "1970-01-01T23:36:40",
          "1970-01-01T23:36:40",
          "1970-01-02T02:40:00",
          "1970-01-02T02:40:00",
          "1970-01-02T02:56:40",
          "1970-01-02T02:56:40",
          "1970-01-02T02:56:40",
          "1970-01-02T06:00:00",
          "1970-01-02T06:00:00",
          "1970-01-02T06:16:40",
          "1970-01-02T06:16:40",
          "1970-01-02T06:16:40",
          "1970-01-02T09:20:00",
          "1970-01-02T09:20:00",
          "1970-01-02T09:36:40",
          "1970-01-02T09:36:40",
          "1970-01-02T09:36:40",
          "1970-01-02T12:40:00",
          "1970-01-02T12:40:00",
          "1970-01-02T12:56:40",
          "1970-01-02T12:56:40",
          "1970-01-02T12:56:40",
          "1970-01-02T16:00:00",
          "1970-01-02T16:00:00",
          "1970-01-02T16:16:40",
          "1970-01-02T16:16:40",
          "1970-01-02T16:16:40"
         ],
         "y": [
          "vessel01",
          "vessel01",
          "vessel01",
          "vessel01",
          null,
          "vessel01",
          "vessel01",
          "vessel01",
          "vessel01",
          null,
          "vessel01",
          "vessel01",
          "vessel01",
          "vessel01",
          null,
          "vessel01",
          "vessel01",
          "vessel01",
          "vessel01",
          null,
          "vessel01",
          "vessel01",
          "vessel01",
          "vessel01",
          null,
          "vessel01",
          "vessel01",
          "vessel01",
          "vessel01",
          null,
          "vessel01",
          "vessel01",
          "vessel01",
          "vessel01",
          null,
          "vessel01",
          "vessel01",
          "vessel01",
          "vessel01",
          null,
          "vessel01",
          "vessel01",
          "vessel01",
          "vessel01",
          null,
          "vessel01",
          "vessel01",
          "vessel01",
          "vessel01",
          null,
          "vessel01",
          "vessel01",
          "vessel01",
          "vessel01",
          null,
          "vessel01",
          "vessel01",
          "vessel01",
          "vessel01",
          null,
          "vessel01",
          "vessel01",
          "vessel01",
          "vessel01",
          null
         ]
        },
        {
         "connectgaps": false,
         "hoverinfo": "y+name",
         "line": {
          "color": "rgb(255,183,147)",
          "width": 10
         },
         "mode": "lines",
         "name": "Loading",
         "type": "scatter",
         "x": [
          "1970-01-01T00:16:40",
          "1970-01-01T00:16:40",
          "1970-01-01T00:33:20",
          "1970-01-01T00:33:20",
          "1970-01-01T00:33:20",
          "1970-01-01T03:36:40",
          "1970-01-01T03:36:40",
          "1970-01-01T03:53:20",
          "1970-01-01T03:53:20",
          "1970-01-01T03:53:20",
          "1970-01-01T06:56:40",
          "1970-01-01T06:56:40",
          "1970-01-01T07:13:20",
          "1970-01-01T07:13:20",
          "1970-01-01T07:13:20",
          "1970-01-01T10:16:40",
          "1970-01-01T10:16:40",
          "1970-01-01T10:33:20",
          "1970-01-01T10:33:20",
          "1970-01-01T10:33:20",
          "1970-01-01T13:36:40",
          "1970-01-01T13:36:40",
          "1970-01-01T13:53:20",
          "1970-01-01T13:53:20",
          "1970-01-01T13:53:20",
          "1970-01-01T16:56:40",
          "1970-01-01T16:56:40",
          "1970-01-01T17:13:20",
          "1970-01-01T17:13:20",
          "1970-01-01T17:13:20",
          "1970-01-01T20:16:40",
          "1970-01-01T20:16:40",
          "1970-01-01T20:33:20",
          "1970-01-01T20:33:20",
          "1970-01-01T20:33:20",
          "1970-01-01T23:36:40",
          "1970-01-01T23:36:40",
          "1970-01-01T23:53:20",
          "1970-01-01T23:53:20",
          "1970-01-01T23:53:20",
          "1970-01-02T02:56:40",
          "1970-01-02T02:56:40",
          "1970-01-02T03:13:20",
          "1970-01-02T03:13:20",
          "1970-01-02T03:13:20",
          "1970-01-02T06:16:40",
          "1970-01-02T06:16:40",
          "1970-01-02T06:33:20",
          "1970-01-02T06:33:20",
          "1970-01-02T06:33:20",
          "1970-01-02T09:36:40",
          "1970-01-02T09:36:40",
          "1970-01-02T09:53:20",
          "1970-01-02T09:53:20",
          "1970-01-02T09:53:20",
          "1970-01-02T12:56:40",
          "1970-01-02T12:56:40",
          "1970-01-02T13:13:20",
          "1970-01-02T13:13:20",
          "1970-01-02T13:13:20",
          "1970-01-02T16:16:40",
          "1970-01-02T16:16:40",
          "1970-01-02T16:33:20",
          "1970-01-02T16:33:20",
          "1970-01-02T16:33:20",
          "1970-01-01T00:16:40",
          "1970-01-01T00:16:40",
          "1970-01-01T00:33:20",
          "1970-01-01T00:33:20",
          "1970-01-01T00:33:20",
          "1970-01-01T03:36:40",
          "1970-01-01T03:36:40",
          "1970-01-01T03:53:20",
          "1970-01-01T03:53:20",
          "1970-01-01T03:53:20",
          "1970-01-01T06:56:40",
          "1970-01-01T06:56:40",
          "1970-01-01T07:13:20",
          "1970-01-01T07:13:20",
          "1970-01-01T07:13:20",
          "1970-01-01T10:16:40",
          "1970-01-01T10:16:40",
          "1970-01-01T10:33:20",
          "1970-01-01T10:33:20",
          "1970-01-01T10:33:20",
          "1970-01-01T13:36:40",
          "1970-01-01T13:36:40",
          "1970-01-01T13:53:20",
          "1970-01-01T13:53:20",
          "1970-01-01T13:53:20",
          "1970-01-01T16:56:40",
          "1970-01-01T16:56:40",
          "1970-01-01T17:13:20",
          "1970-01-01T17:13:20",
          "1970-01-01T17:13:20",
          "1970-01-01T20:16:40",
          "1970-01-01T20:16:40",
          "1970-01-01T20:33:20",
          "1970-01-01T20:33:20",
          "1970-01-01T20:33:20",
          "1970-01-01T23:36:40",
          "1970-01-01T23:36:40",
          "1970-01-01T23:53:20",
          "1970-01-01T23:53:20",
          "1970-01-01T23:53:20",
          "1970-01-02T02:56:40",
          "1970-01-02T02:56:40",
          "1970-01-02T03:13:20",
          "1970-01-02T03:13:20",
          "1970-01-02T03:13:20",
          "1970-01-02T06:16:40",
          "1970-01-02T06:16:40",
          "1970-01-02T06:33:20",
          "1970-01-02T06:33:20",
          "1970-01-02T06:33:20",
          "1970-01-02T09:36:40",
          "1970-01-02T09:36:40",
          "1970-01-02T09:53:20",
          "1970-01-02T09:53:20",
          "1970-01-02T09:53:20",
          "1970-01-02T12:56:40",
          "1970-01-02T12:56:40",
          "1970-01-02T13:13:20",
          "1970-01-02T13:13:20",
          "1970-01-02T13:13:20",
          "1970-01-02T16:16:40",
          "1970-01-02T16:16:40",
          "1970-01-02T16:33:20",
          "1970-01-02T16:33:20",
          "1970-01-02T16:33:20"
         ],
         "y": [
          "vessel01",
          "vessel01",
          "vessel01",
          "vessel01",
          null,
          "vessel01",
          "vessel01",
          "vessel01",
          "vessel01",
          null,
          "vessel01",
          "vessel01",
          "vessel01",
          "vessel01",
          null,
          "vessel01",
          "vessel01",
          "vessel01",
          "vessel01",
          null,
          "vessel01",
          "vessel01",
          "vessel01",
          "vessel01",
          null,
          "vessel01",
          "vessel01",
          "vessel01",
          "vessel01",
          null,
          "vessel01",
          "vessel01",
          "vessel01",
          "vessel01",
          null,
          "vessel01",
          "vessel01",
          "vessel01",
          "vessel01",
          null,
          "vessel01",
          "vessel01",
          "vessel01",
          "vessel01",
          null,
          "vessel01",
          "vessel01",
          "vessel01",
          "vessel01",
          null,
          "vessel01",
          "vessel01",
          "vessel01",
          "vessel01",
          null,
          "vessel01",
          "vessel01",
          "vessel01",
          "vessel01",
          null,
          "vessel01",
          "vessel01",
          "vessel01",
          "vessel01",
          null,
          "from_site",
          "from_site",
          "from_site",
          "from_site",
          null,
          "from_site",
          "from_site",
          "from_site",
          "from_site",
          null,
          "from_site",
          "from_site",
          "from_site",
          "from_site",
          null,
          "from_site",
          "from_site",
          "from_site",
          "from_site",
          null,
          "from_site",
          "from_site",
          "from_site",
          "from_site",
          null,
          "from_site",
          "from_site",
          "from_site",
          "from_site",
          null,
          "from_site",
          "from_site",
          "from_site",
          "from_site",
          null,
          "from_site",
          "from_site",
          "from_site",
          "from_site",
          null,
          "from_site",
          "from_site",
          "from_site",
          "from_site",
          null,
          "from_site",
          "from_site",
          "from_site",
          "from_site",
          null,
          "from_site",
          "from_site",
          "from_site",
          "from_site",
          null,
          "from_site",
          "from_site",
          "from_site",
          "from_site",
          null,
          "from_site",
          "from_site",
          "from_site",
          "from_site",
          null
         ]
        },
        {
         "connectgaps": false,
         "hoverinfo": "y+name",
         "line": {
          "color": "rgb(27,211,175)",
          "width": 10
         },
         "mode": "lines",
         "name": "Loading",
         "type": "scatter",
         "x": [
          "1970-01-01T00:16:40",
          "1970-01-01T00:16:40",
          "1970-01-01T00:33:20",
          "1970-01-01T00:33:20",
          "1970-01-01T00:33:20",
          "1970-01-01T03:36:40",
          "1970-01-01T03:36:40",
          "1970-01-01T03:53:20",
          "1970-01-01T03:53:20",
          "1970-01-01T03:53:20",
          "1970-01-01T06:56:40",
          "1970-01-01T06:56:40",
          "1970-01-01T07:13:20",
          "1970-01-01T07:13:20",
          "1970-01-01T07:13:20",
          "1970-01-01T10:16:40",
          "1970-01-01T10:16:40",
          "1970-01-01T10:33:20",
          "1970-01-01T10:33:20",
          "1970-01-01T10:33:20",
          "1970-01-01T13:36:40",
          "1970-01-01T13:36:40",
          "1970-01-01T13:53:20",
          "1970-01-01T13:53:20",
          "1970-01-01T13:53:20",
          "1970-01-01T16:56:40",
          "1970-01-01T16:56:40",
          "1970-01-01T17:13:20",
          "1970-01-01T17:13:20",
          "1970-01-01T17:13:20",
          "1970-01-01T20:16:40",
          "1970-01-01T20:16:40",
          "1970-01-01T20:33:20",
          "1970-01-01T20:33:20",
          "1970-01-01T20:33:20",
          "1970-01-01T23:36:40",
          "1970-01-01T23:36:40",
          "1970-01-01T23:53:20",
          "1970-01-01T23:53:20",
          "1970-01-01T23:53:20",
          "1970-01-02T02:56:40",
          "1970-01-02T02:56:40",
          "1970-01-02T03:13:20",
          "1970-01-02T03:13:20",
          "1970-01-02T03:13:20",
          "1970-01-02T06:16:40",
          "1970-01-02T06:16:40",
          "1970-01-02T06:33:20",
          "1970-01-02T06:33:20",
          "1970-01-02T06:33:20",
          "1970-01-02T09:36:40",
          "1970-01-02T09:36:40",
          "1970-01-02T09:53:20",
          "1970-01-02T09:53:20",
          "1970-01-02T09:53:20",
          "1970-01-02T12:56:40",
          "1970-01-02T12:56:40",
          "1970-01-02T13:13:20",
          "1970-01-02T13:13:20",
          "1970-01-02T13:13:20",
          "1970-01-02T16:16:40",
          "1970-01-02T16:16:40",
          "1970-01-02T16:33:20",
          "1970-01-02T16:33:20",
          "1970-01-02T16:33:20",
          "1970-01-01T00:16:40",
          "1970-01-01T00:16:40",
          "1970-01-01T00:33:20",
          "1970-01-01T00:33:20",
          "1970-01-01T00:33:20",
          "1970-01-01T03:36:40",
          "1970-01-01T03:36:40",
          "1970-01-01T03:53:20",
          "1970-01-01T03:53:20",
          "1970-01-01T03:53:20",
          "1970-01-01T06:56:40",
          "1970-01-01T06:56:40",
          "1970-01-01T07:13:20",
          "1970-01-01T07:13:20",
          "1970-01-01T07:13:20",
          "1970-01-01T10:16:40",
          "1970-01-01T10:16:40",
          "1970-01-01T10:33:20",
          "1970-01-01T10:33:20",
          "1970-01-01T10:33:20",
          "1970-01-01T13:36:40",
          "1970-01-01T13:36:40",
          "1970-01-01T13:53:20",
          "1970-01-01T13:53:20",
          "1970-01-01T13:53:20",
          "1970-01-01T16:56:40",
          "1970-01-01T16:56:40",
          "1970-01-01T17:13:20",
          "1970-01-01T17:13:20",
          "1970-01-01T17:13:20",
          "1970-01-01T20:16:40",
          "1970-01-01T20:16:40",
          "1970-01-01T20:33:20",
          "1970-01-01T20:33:20",
          "1970-01-01T20:33:20",
          "1970-01-01T23:36:40",
          "1970-01-01T23:36:40",
          "1970-01-01T23:53:20",
          "1970-01-01T23:53:20",
          "1970-01-01T23:53:20",
          "1970-01-02T02:56:40",
          "1970-01-02T02:56:40",
          "1970-01-02T03:13:20",
          "1970-01-02T03:13:20",
          "1970-01-02T03:13:20",
          "1970-01-02T06:16:40",
          "1970-01-02T06:16:40",
          "1970-01-02T06:33:20",
          "1970-01-02T06:33:20",
          "1970-01-02T06:33:20",
          "1970-01-02T09:36:40",
          "1970-01-02T09:36:40",
          "1970-01-02T09:53:20",
          "1970-01-02T09:53:20",
          "1970-01-02T09:53:20",
          "1970-01-02T12:56:40",
          "1970-01-02T12:56:40",
          "1970-01-02T13:13:20",
          "1970-01-02T13:13:20",
          "1970-01-02T13:13:20",
          "1970-01-02T16:16:40",
          "1970-01-02T16:16:40",
          "1970-01-02T16:33:20",
          "1970-01-02T16:33:20",
          "1970-01-02T16:33:20"
         ],
         "y": [
          "vessel01",
          "vessel01",
          "vessel01",
          "vessel01",
          null,
          "vessel01",
          "vessel01",
          "vessel01",
          "vessel01",
          null,
          "vessel01",
          "vessel01",
          "vessel01",
          "vessel01",
          null,
          "vessel01",
          "vessel01",
          "vessel01",
          "vessel01",
          null,
          "vessel01",
          "vessel01",
          "vessel01",
          "vessel01",
          null,
          "vessel01",
          "vessel01",
          "vessel01",
          "vessel01",
          null,
          "vessel01",
          "vessel01",
          "vessel01",
          "vessel01",
          null,
          "vessel01",
          "vessel01",
          "vessel01",
          "vessel01",
          null,
          "vessel01",
          "vessel01",
          "vessel01",
          "vessel01",
          null,
          "vessel01",
          "vessel01",
          "vessel01",
          "vessel01",
          null,
          "vessel01",
          "vessel01",
          "vessel01",
          "vessel01",
          null,
          "vessel01",
          "vessel01",
          "vessel01",
          "vessel01",
          null,
          "vessel01",
          "vessel01",
          "vessel01",
          "vessel01",
          null,
          "from_site",
          "from_site",
          "from_site",
          "from_site",
          null,
          "from_site",
          "from_site",
          "from_site",
          "from_site",
          null,
          "from_site",
          "from_site",
          "from_site",
          "from_site",
          null,
          "from_site",
          "from_site",
          "from_site",
          "from_site",
          null,
          "from_site",
          "from_site",
          "from_site",
          "from_site",
          null,
          "from_site",
          "from_site",
          "from_site",
          "from_site",
          null,
          "from_site",
          "from_site",
          "from_site",
          "from_site",
          null,
          "from_site",
          "from_site",
          "from_site",
          "from_site",
          null,
          "from_site",
          "from_site",
          "from_site",
          "from_site",
          null,
          "from_site",
          "from_site",
          "from_site",
          "from_site",
          null,
          "from_site",
          "from_site",
          "from_site",
          "from_site",
          null,
          "from_site",
          "from_site",
          "from_site",
          "from_site",
          null,
          "from_site",
          "from_site",
          "from_site",
          "from_site",
          null
         ]
        },
        {
         "connectgaps": false,
         "hoverinfo": "y+name",
         "line": {
          "color": "rgb(55,239,203)",
          "width": 10
         },
         "mode": "lines",
         "name": "unloading",
         "type": "scatter",
         "x": [
          "1970-01-01T02:46:40",
          "1970-01-01T02:46:40",
          "1970-01-01T03:03:20",
          "1970-01-01T03:03:20",
          "1970-01-01T03:03:20",
          "1970-01-01T06:06:40",
          "1970-01-01T06:06:40",
          "1970-01-01T06:23:20",
          "1970-01-01T06:23:20",
          "1970-01-01T06:23:20",
          "1970-01-01T09:26:40",
          "1970-01-01T09:26:40",
          "1970-01-01T09:43:20",
          "1970-01-01T09:43:20",
          "1970-01-01T09:43:20",
          "1970-01-01T12:46:40",
          "1970-01-01T12:46:40",
          "1970-01-01T13:03:20",
          "1970-01-01T13:03:20",
          "1970-01-01T13:03:20",
          "1970-01-01T16:06:40",
          "1970-01-01T16:06:40",
          "1970-01-01T16:23:20",
          "1970-01-01T16:23:20",
          "1970-01-01T16:23:20",
          "1970-01-01T19:26:40",
          "1970-01-01T19:26:40",
          "1970-01-01T19:43:20",
          "1970-01-01T19:43:20",
          "1970-01-01T19:43:20",
          "1970-01-01T22:46:40",
          "1970-01-01T22:46:40",
          "1970-01-01T23:03:20",
          "1970-01-01T23:03:20",
          "1970-01-01T23:03:20",
          "1970-01-02T02:06:40",
          "1970-01-02T02:06:40",
          "1970-01-02T02:23:20",
          "1970-01-02T02:23:20",
          "1970-01-02T02:23:20",
          "1970-01-02T05:26:40",
          "1970-01-02T05:26:40",
          "1970-01-02T05:43:20",
          "1970-01-02T05:43:20",
          "1970-01-02T05:43:20",
          "1970-01-02T08:46:40",
          "1970-01-02T08:46:40",
          "1970-01-02T09:03:20",
          "1970-01-02T09:03:20",
          "1970-01-02T09:03:20",
          "1970-01-02T12:06:40",
          "1970-01-02T12:06:40",
          "1970-01-02T12:23:20",
          "1970-01-02T12:23:20",
          "1970-01-02T12:23:20",
          "1970-01-02T15:26:40",
          "1970-01-02T15:26:40",
          "1970-01-02T15:43:20",
          "1970-01-02T15:43:20",
          "1970-01-02T15:43:20",
          "1970-01-02T18:46:40",
          "1970-01-02T18:46:40",
          "1970-01-02T19:03:20",
          "1970-01-02T19:03:20",
          "1970-01-02T19:03:20",
          "1970-01-01T02:46:40",
          "1970-01-01T02:46:40",
          "1970-01-01T03:03:20",
          "1970-01-01T03:03:20",
          "1970-01-01T03:03:20",
          "1970-01-01T06:06:40",
          "1970-01-01T06:06:40",
          "1970-01-01T06:23:20",
          "1970-01-01T06:23:20",
          "1970-01-01T06:23:20",
          "1970-01-01T09:26:40",
          "1970-01-01T09:26:40",
          "1970-01-01T09:43:20",
          "1970-01-01T09:43:20",
          "1970-01-01T09:43:20",
          "1970-01-01T12:46:40",
          "1970-01-01T12:46:40",
          "1970-01-01T13:03:20",
          "1970-01-01T13:03:20",
          "1970-01-01T13:03:20",
          "1970-01-01T16:06:40",
          "1970-01-01T16:06:40",
          "1970-01-01T16:23:20",
          "1970-01-01T16:23:20",
          "1970-01-01T16:23:20",
          "1970-01-01T19:26:40",
          "1970-01-01T19:26:40",
          "1970-01-01T19:43:20",
          "1970-01-01T19:43:20",
          "1970-01-01T19:43:20",
          "1970-01-01T22:46:40",
          "1970-01-01T22:46:40",
          "1970-01-01T23:03:20",
          "1970-01-01T23:03:20",
          "1970-01-01T23:03:20",
          "1970-01-02T02:06:40",
          "1970-01-02T02:06:40",
          "1970-01-02T02:23:20",
          "1970-01-02T02:23:20",
          "1970-01-02T02:23:20",
          "1970-01-02T05:26:40",
          "1970-01-02T05:26:40",
          "1970-01-02T05:43:20",
          "1970-01-02T05:43:20",
          "1970-01-02T05:43:20",
          "1970-01-02T08:46:40",
          "1970-01-02T08:46:40",
          "1970-01-02T09:03:20",
          "1970-01-02T09:03:20",
          "1970-01-02T09:03:20",
          "1970-01-02T12:06:40",
          "1970-01-02T12:06:40",
          "1970-01-02T12:23:20",
          "1970-01-02T12:23:20",
          "1970-01-02T12:23:20",
          "1970-01-02T15:26:40",
          "1970-01-02T15:26:40",
          "1970-01-02T15:43:20",
          "1970-01-02T15:43:20",
          "1970-01-02T15:43:20",
          "1970-01-02T18:46:40",
          "1970-01-02T18:46:40",
          "1970-01-02T19:03:20",
          "1970-01-02T19:03:20",
          "1970-01-02T19:03:20"
         ],
         "y": [
          "vessel01",
          "vessel01",
          "vessel01",
          "vessel01",
          null,
          "vessel01",
          "vessel01",
          "vessel01",
          "vessel01",
          null,
          "vessel01",
          "vessel01",
          "vessel01",
          "vessel01",
          null,
          "vessel01",
          "vessel01",
          "vessel01",
          "vessel01",
          null,
          "vessel01",
          "vessel01",
          "vessel01",
          "vessel01",
          null,
          "vessel01",
          "vessel01",
          "vessel01",
          "vessel01",
          null,
          "vessel01",
          "vessel01",
          "vessel01",
          "vessel01",
          null,
          "vessel01",
          "vessel01",
          "vessel01",
          "vessel01",
          null,
          "vessel01",
          "vessel01",
          "vessel01",
          "vessel01",
          null,
          "vessel01",
          "vessel01",
          "vessel01",
          "vessel01",
          null,
          "vessel01",
          "vessel01",
          "vessel01",
          "vessel01",
          null,
          "vessel01",
          "vessel01",
          "vessel01",
          "vessel01",
          null,
          "vessel01",
          "vessel01",
          "vessel01",
          "vessel01",
          null,
          "to_site",
          "to_site",
          "to_site",
          "to_site",
          null,
          "to_site",
          "to_site",
          "to_site",
          "to_site",
          null,
          "to_site",
          "to_site",
          "to_site",
          "to_site",
          null,
          "to_site",
          "to_site",
          "to_site",
          "to_site",
          null,
          "to_site",
          "to_site",
          "to_site",
          "to_site",
          null,
          "to_site",
          "to_site",
          "to_site",
          "to_site",
          null,
          "to_site",
          "to_site",
          "to_site",
          "to_site",
          null,
          "to_site",
          "to_site",
          "to_site",
          "to_site",
          null,
          "to_site",
          "to_site",
          "to_site",
          "to_site",
          null,
          "to_site",
          "to_site",
          "to_site",
          "to_site",
          null,
          "to_site",
          "to_site",
          "to_site",
          "to_site",
          null,
          "to_site",
          "to_site",
          "to_site",
          "to_site",
          null,
          "to_site",
          "to_site",
          "to_site",
          "to_site",
          null
         ]
        }
       ],
       "layout": {
        "hovermode": "closest",
        "legend": {
         "orientation": "h",
         "x": 0,
         "y": -0.2
        },
        "template": {
         "data": {
          "bar": [
           {
            "error_x": {
             "color": "#2a3f5f"
            },
            "error_y": {
             "color": "#2a3f5f"
            },
            "marker": {
             "line": {
              "color": "#E5ECF6",
              "width": 0.5
             },
             "pattern": {
              "fillmode": "overlay",
              "size": 10,
              "solidity": 0.2
             }
            },
            "type": "bar"
           }
          ],
          "barpolar": [
           {
            "marker": {
             "line": {
              "color": "#E5ECF6",
              "width": 0.5
             },
             "pattern": {
              "fillmode": "overlay",
              "size": 10,
              "solidity": 0.2
             }
            },
            "type": "barpolar"
           }
          ],
          "carpet": [
           {
            "aaxis": {
             "endlinecolor": "#2a3f5f",
             "gridcolor": "white",
             "linecolor": "white",
             "minorgridcolor": "white",
             "startlinecolor": "#2a3f5f"
            },
            "baxis": {
             "endlinecolor": "#2a3f5f",
             "gridcolor": "white",
             "linecolor": "white",
             "minorgridcolor": "white",
             "startlinecolor": "#2a3f5f"
            },
            "type": "carpet"
           }
          ],
          "choropleth": [
           {
            "colorbar": {
             "outlinewidth": 0,
             "ticks": ""
            },
            "type": "choropleth"
           }
          ],
          "contour": [
           {
            "colorbar": {
             "outlinewidth": 0,
             "ticks": ""
            },
            "colorscale": [
             [
              0,
              "#0d0887"
             ],
             [
              0.1111111111111111,
              "#46039f"
             ],
             [
              0.2222222222222222,
              "#7201a8"
             ],
             [
              0.3333333333333333,
              "#9c179e"
             ],
             [
              0.4444444444444444,
              "#bd3786"
             ],
             [
              0.5555555555555556,
              "#d8576b"
             ],
             [
              0.6666666666666666,
              "#ed7953"
             ],
             [
              0.7777777777777778,
              "#fb9f3a"
             ],
             [
              0.8888888888888888,
              "#fdca26"
             ],
             [
              1,
              "#f0f921"
             ]
            ],
            "type": "contour"
           }
          ],
          "contourcarpet": [
           {
            "colorbar": {
             "outlinewidth": 0,
             "ticks": ""
            },
            "type": "contourcarpet"
           }
          ],
          "heatmap": [
           {
            "colorbar": {
             "outlinewidth": 0,
             "ticks": ""
            },
            "colorscale": [
             [
              0,
              "#0d0887"
             ],
             [
              0.1111111111111111,
              "#46039f"
             ],
             [
              0.2222222222222222,
              "#7201a8"
             ],
             [
              0.3333333333333333,
              "#9c179e"
             ],
             [
              0.4444444444444444,
              "#bd3786"
             ],
             [
              0.5555555555555556,
              "#d8576b"
             ],
             [
              0.6666666666666666,
              "#ed7953"
             ],
             [
              0.7777777777777778,
              "#fb9f3a"
             ],
             [
              0.8888888888888888,
              "#fdca26"
             ],
             [
              1,
              "#f0f921"
             ]
            ],
            "type": "heatmap"
           }
          ],
          "heatmapgl": [
           {
            "colorbar": {
             "outlinewidth": 0,
             "ticks": ""
            },
            "colorscale": [
             [
              0,
              "#0d0887"
             ],
             [
              0.1111111111111111,
              "#46039f"
             ],
             [
              0.2222222222222222,
              "#7201a8"
             ],
             [
              0.3333333333333333,
              "#9c179e"
             ],
             [
              0.4444444444444444,
              "#bd3786"
             ],
             [
              0.5555555555555556,
              "#d8576b"
             ],
             [
              0.6666666666666666,
              "#ed7953"
             ],
             [
              0.7777777777777778,
              "#fb9f3a"
             ],
             [
              0.8888888888888888,
              "#fdca26"
             ],
             [
              1,
              "#f0f921"
             ]
            ],
            "type": "heatmapgl"
           }
          ],
          "histogram": [
           {
            "marker": {
             "pattern": {
              "fillmode": "overlay",
              "size": 10,
              "solidity": 0.2
             }
            },
            "type": "histogram"
           }
          ],
          "histogram2d": [
           {
            "colorbar": {
             "outlinewidth": 0,
             "ticks": ""
            },
            "colorscale": [
             [
              0,
              "#0d0887"
             ],
             [
              0.1111111111111111,
              "#46039f"
             ],
             [
              0.2222222222222222,
              "#7201a8"
             ],
             [
              0.3333333333333333,
              "#9c179e"
             ],
             [
              0.4444444444444444,
              "#bd3786"
             ],
             [
              0.5555555555555556,
              "#d8576b"
             ],
             [
              0.6666666666666666,
              "#ed7953"
             ],
             [
              0.7777777777777778,
              "#fb9f3a"
             ],
             [
              0.8888888888888888,
              "#fdca26"
             ],
             [
              1,
              "#f0f921"
             ]
            ],
            "type": "histogram2d"
           }
          ],
          "histogram2dcontour": [
           {
            "colorbar": {
             "outlinewidth": 0,
             "ticks": ""
            },
            "colorscale": [
             [
              0,
              "#0d0887"
             ],
             [
              0.1111111111111111,
              "#46039f"
             ],
             [
              0.2222222222222222,
              "#7201a8"
             ],
             [
              0.3333333333333333,
              "#9c179e"
             ],
             [
              0.4444444444444444,
              "#bd3786"
             ],
             [
              0.5555555555555556,
              "#d8576b"
             ],
             [
              0.6666666666666666,
              "#ed7953"
             ],
             [
              0.7777777777777778,
              "#fb9f3a"
             ],
             [
              0.8888888888888888,
              "#fdca26"
             ],
             [
              1,
              "#f0f921"
             ]
            ],
            "type": "histogram2dcontour"
           }
          ],
          "mesh3d": [
           {
            "colorbar": {
             "outlinewidth": 0,
             "ticks": ""
            },
            "type": "mesh3d"
           }
          ],
          "parcoords": [
           {
            "line": {
             "colorbar": {
              "outlinewidth": 0,
              "ticks": ""
             }
            },
            "type": "parcoords"
           }
          ],
          "pie": [
           {
            "automargin": true,
            "type": "pie"
           }
          ],
          "scatter": [
           {
            "marker": {
             "colorbar": {
              "outlinewidth": 0,
              "ticks": ""
             }
            },
            "type": "scatter"
           }
          ],
          "scatter3d": [
           {
            "line": {
             "colorbar": {
              "outlinewidth": 0,
              "ticks": ""
             }
            },
            "marker": {
             "colorbar": {
              "outlinewidth": 0,
              "ticks": ""
             }
            },
            "type": "scatter3d"
           }
          ],
          "scattercarpet": [
           {
            "marker": {
             "colorbar": {
              "outlinewidth": 0,
              "ticks": ""
             }
            },
            "type": "scattercarpet"
           }
          ],
          "scattergeo": [
           {
            "marker": {
             "colorbar": {
              "outlinewidth": 0,
              "ticks": ""
             }
            },
            "type": "scattergeo"
           }
          ],
          "scattergl": [
           {
            "marker": {
             "colorbar": {
              "outlinewidth": 0,
              "ticks": ""
             }
            },
            "type": "scattergl"
           }
          ],
          "scattermapbox": [
           {
            "marker": {
             "colorbar": {
              "outlinewidth": 0,
              "ticks": ""
             }
            },
            "type": "scattermapbox"
           }
          ],
          "scatterpolar": [
           {
            "marker": {
             "colorbar": {
              "outlinewidth": 0,
              "ticks": ""
             }
            },
            "type": "scatterpolar"
           }
          ],
          "scatterpolargl": [
           {
            "marker": {
             "colorbar": {
              "outlinewidth": 0,
              "ticks": ""
             }
            },
            "type": "scatterpolargl"
           }
          ],
          "scatterternary": [
           {
            "marker": {
             "colorbar": {
              "outlinewidth": 0,
              "ticks": ""
             }
            },
            "type": "scatterternary"
           }
          ],
          "surface": [
           {
            "colorbar": {
             "outlinewidth": 0,
             "ticks": ""
            },
            "colorscale": [
             [
              0,
              "#0d0887"
             ],
             [
              0.1111111111111111,
              "#46039f"
             ],
             [
              0.2222222222222222,
              "#7201a8"
             ],
             [
              0.3333333333333333,
              "#9c179e"
             ],
             [
              0.4444444444444444,
              "#bd3786"
             ],
             [
              0.5555555555555556,
              "#d8576b"
             ],
             [
              0.6666666666666666,
              "#ed7953"
             ],
             [
              0.7777777777777778,
              "#fb9f3a"
             ],
             [
              0.8888888888888888,
              "#fdca26"
             ],
             [
              1,
              "#f0f921"
             ]
            ],
            "type": "surface"
           }
          ],
          "table": [
           {
            "cells": {
             "fill": {
              "color": "#EBF0F8"
             },
             "line": {
              "color": "white"
             }
            },
            "header": {
             "fill": {
              "color": "#C8D4E3"
             },
             "line": {
              "color": "white"
             }
            },
            "type": "table"
           }
          ]
         },
         "layout": {
          "annotationdefaults": {
           "arrowcolor": "#2a3f5f",
           "arrowhead": 0,
           "arrowwidth": 1
          },
          "autotypenumbers": "strict",
          "coloraxis": {
           "colorbar": {
            "outlinewidth": 0,
            "ticks": ""
           }
          },
          "colorscale": {
           "diverging": [
            [
             0,
             "#8e0152"
            ],
            [
             0.1,
             "#c51b7d"
            ],
            [
             0.2,
             "#de77ae"
            ],
            [
             0.3,
             "#f1b6da"
            ],
            [
             0.4,
             "#fde0ef"
            ],
            [
             0.5,
             "#f7f7f7"
            ],
            [
             0.6,
             "#e6f5d0"
            ],
            [
             0.7,
             "#b8e186"
            ],
            [
             0.8,
             "#7fbc41"
            ],
            [
             0.9,
             "#4d9221"
            ],
            [
             1,
             "#276419"
            ]
           ],
           "sequential": [
            [
             0,
             "#0d0887"
            ],
            [
             0.1111111111111111,
             "#46039f"
            ],
            [
             0.2222222222222222,
             "#7201a8"
            ],
            [
             0.3333333333333333,
             "#9c179e"
            ],
            [
             0.4444444444444444,
             "#bd3786"
            ],
            [
             0.5555555555555556,
             "#d8576b"
            ],
            [
             0.6666666666666666,
             "#ed7953"
            ],
            [
             0.7777777777777778,
             "#fb9f3a"
            ],
            [
             0.8888888888888888,
             "#fdca26"
            ],
            [
             1,
             "#f0f921"
            ]
           ],
           "sequentialminus": [
            [
             0,
             "#0d0887"
            ],
            [
             0.1111111111111111,
             "#46039f"
            ],
            [
             0.2222222222222222,
             "#7201a8"
            ],
            [
             0.3333333333333333,
             "#9c179e"
            ],
            [
             0.4444444444444444,
             "#bd3786"
            ],
            [
             0.5555555555555556,
             "#d8576b"
            ],
            [
             0.6666666666666666,
             "#ed7953"
            ],
            [
             0.7777777777777778,
             "#fb9f3a"
            ],
            [
             0.8888888888888888,
             "#fdca26"
            ],
            [
             1,
             "#f0f921"
            ]
           ]
          },
          "colorway": [
           "#636efa",
           "#EF553B",
           "#00cc96",
           "#ab63fa",
           "#FFA15A",
           "#19d3f3",
           "#FF6692",
           "#B6E880",
           "#FF97FF",
           "#FECB52"
          ],
          "font": {
           "color": "#2a3f5f"
          },
          "geo": {
           "bgcolor": "white",
           "lakecolor": "white",
           "landcolor": "#E5ECF6",
           "showlakes": true,
           "showland": true,
           "subunitcolor": "white"
          },
          "hoverlabel": {
           "align": "left"
          },
          "hovermode": "closest",
          "mapbox": {
           "style": "light"
          },
          "paper_bgcolor": "white",
          "plot_bgcolor": "#E5ECF6",
          "polar": {
           "angularaxis": {
            "gridcolor": "white",
            "linecolor": "white",
            "ticks": ""
           },
           "bgcolor": "#E5ECF6",
           "radialaxis": {
            "gridcolor": "white",
            "linecolor": "white",
            "ticks": ""
           }
          },
          "scene": {
           "xaxis": {
            "backgroundcolor": "#E5ECF6",
            "gridcolor": "white",
            "gridwidth": 2,
            "linecolor": "white",
            "showbackground": true,
            "ticks": "",
            "zerolinecolor": "white"
           },
           "yaxis": {
            "backgroundcolor": "#E5ECF6",
            "gridcolor": "white",
            "gridwidth": 2,
            "linecolor": "white",
            "showbackground": true,
            "ticks": "",
            "zerolinecolor": "white"
           },
           "zaxis": {
            "backgroundcolor": "#E5ECF6",
            "gridcolor": "white",
            "gridwidth": 2,
            "linecolor": "white",
            "showbackground": true,
            "ticks": "",
            "zerolinecolor": "white"
           }
          },
          "shapedefaults": {
           "line": {
            "color": "#2a3f5f"
           }
          },
          "ternary": {
           "aaxis": {
            "gridcolor": "white",
            "linecolor": "white",
            "ticks": ""
           },
           "baxis": {
            "gridcolor": "white",
            "linecolor": "white",
            "ticks": ""
           },
           "bgcolor": "#E5ECF6",
           "caxis": {
            "gridcolor": "white",
            "linecolor": "white",
            "ticks": ""
           }
          },
          "title": {
           "x": 0.05
          },
          "xaxis": {
           "automargin": true,
           "gridcolor": "white",
           "linecolor": "white",
           "ticks": "",
           "title": {
            "standoff": 15
           },
           "zerolinecolor": "white",
           "zerolinewidth": 2
          },
          "yaxis": {
           "automargin": true,
           "gridcolor": "white",
           "linecolor": "white",
           "ticks": "",
           "title": {
            "standoff": 15
           },
           "zerolinecolor": "white",
           "zerolinewidth": 2
          }
         }
        },
        "title": {
         "text": "GANTT Chart"
        },
        "xaxis": {
         "range": [
          "1970-01-01T00:00:00",
          "1970-01-02T19:20:00"
         ],
         "title": {
          "font": {
           "color": "#7f7f7f",
           "family": "Courier New, monospace",
           "size": 18
          },
          "text": "Time"
         }
        },
        "yaxis": {
         "title": {
          "font": {
           "color": "#7f7f7f",
           "family": "Courier New, monospace",
           "size": 18
          },
          "text": "Activities"
         }
        }
       }
      },
      "text/html": [
       "<div>                            <div id=\"3d509783-2d0d-4e95-ae9b-efbad9c22295\" class=\"plotly-graph-div\" style=\"height:525px; width:100%;\"></div>            <script type=\"text/javascript\">                require([\"plotly\"], function(Plotly) {                    window.PLOTLYENV=window.PLOTLYENV || {};                                    if (document.getElementById(\"3d509783-2d0d-4e95-ae9b-efbad9c22295\")) {                    Plotly.newPlot(                        \"3d509783-2d0d-4e95-ae9b-efbad9c22295\",                        [{\"connectgaps\":false,\"hoverinfo\":\"y+name\",\"line\":{\"color\":\"rgb(87,15,235)\",\"width\":10},\"mode\":\"lines\",\"name\":\"sailing filled\",\"x\":[\"1970-01-01T00:33:20\",\"1970-01-01T00:33:20\",\"1970-01-01T00:50:00\",\"1970-01-01T00:50:00\",\"1970-01-01T00:50:00\",\"1970-01-01T03:53:20\",\"1970-01-01T03:53:20\",\"1970-01-01T04:10:00\",\"1970-01-01T04:10:00\",\"1970-01-01T04:10:00\",\"1970-01-01T07:13:20\",\"1970-01-01T07:13:20\",\"1970-01-01T07:30:00\",\"1970-01-01T07:30:00\",\"1970-01-01T07:30:00\",\"1970-01-01T10:33:20\",\"1970-01-01T10:33:20\",\"1970-01-01T10:50:00\",\"1970-01-01T10:50:00\",\"1970-01-01T10:50:00\",\"1970-01-01T13:53:20\",\"1970-01-01T13:53:20\",\"1970-01-01T14:10:00\",\"1970-01-01T14:10:00\",\"1970-01-01T14:10:00\",\"1970-01-01T17:13:20\",\"1970-01-01T17:13:20\",\"1970-01-01T17:30:00\",\"1970-01-01T17:30:00\",\"1970-01-01T17:30:00\",\"1970-01-01T20:33:20\",\"1970-01-01T20:33:20\",\"1970-01-01T20:50:00\",\"1970-01-01T20:50:00\",\"1970-01-01T20:50:00\",\"1970-01-01T23:53:20\",\"1970-01-01T23:53:20\",\"1970-01-02T00:10:00\",\"1970-01-02T00:10:00\",\"1970-01-02T00:10:00\",\"1970-01-02T03:13:20\",\"1970-01-02T03:13:20\",\"1970-01-02T03:30:00\",\"1970-01-02T03:30:00\",\"1970-01-02T03:30:00\",\"1970-01-02T06:33:20\",\"1970-01-02T06:33:20\",\"1970-01-02T06:50:00\",\"1970-01-02T06:50:00\",\"1970-01-02T06:50:00\",\"1970-01-02T09:53:20\",\"1970-01-02T09:53:20\",\"1970-01-02T10:10:00\",\"1970-01-02T10:10:00\",\"1970-01-02T10:10:00\",\"1970-01-02T13:13:20\",\"1970-01-02T13:13:20\",\"1970-01-02T13:30:00\",\"1970-01-02T13:30:00\",\"1970-01-02T13:30:00\",\"1970-01-02T16:33:20\",\"1970-01-02T16:33:20\",\"1970-01-02T16:50:00\",\"1970-01-02T16:50:00\",\"1970-01-02T16:50:00\"],\"y\":[\"vessel01\",\"vessel01\",\"vessel01\",\"vessel01\",null,\"vessel01\",\"vessel01\",\"vessel01\",\"vessel01\",null,\"vessel01\",\"vessel01\",\"vessel01\",\"vessel01\",null,\"vessel01\",\"vessel01\",\"vessel01\",\"vessel01\",null,\"vessel01\",\"vessel01\",\"vessel01\",\"vessel01\",null,\"vessel01\",\"vessel01\",\"vessel01\",\"vessel01\",null,\"vessel01\",\"vessel01\",\"vessel01\",\"vessel01\",null,\"vessel01\",\"vessel01\",\"vessel01\",\"vessel01\",null,\"vessel01\",\"vessel01\",\"vessel01\",\"vessel01\",null,\"vessel01\",\"vessel01\",\"vessel01\",\"vessel01\",null,\"vessel01\",\"vessel01\",\"vessel01\",\"vessel01\",null,\"vessel01\",\"vessel01\",\"vessel01\",\"vessel01\",null,\"vessel01\",\"vessel01\",\"vessel01\",\"vessel01\",null],\"type\":\"scatter\"},{\"connectgaps\":false,\"hoverinfo\":\"y+name\",\"line\":{\"color\":\"rgb(115,43,7)\",\"width\":10},\"mode\":\"lines\",\"name\":\"Basic activity\",\"x\":[\"1970-01-01T03:03:20\",\"1970-01-01T03:03:20\",\"1970-01-01T03:20:00\",\"1970-01-01T03:20:00\",\"1970-01-01T03:20:00\",\"1970-01-01T06:23:20\",\"1970-01-01T06:23:20\",\"1970-01-01T06:40:00\",\"1970-01-01T06:40:00\",\"1970-01-01T06:40:00\",\"1970-01-01T09:43:20\",\"1970-01-01T09:43:20\",\"1970-01-01T10:00:00\",\"1970-01-01T10:00:00\",\"1970-01-01T10:00:00\",\"1970-01-01T13:03:20\",\"1970-01-01T13:03:20\",\"1970-01-01T13:20:00\",\"1970-01-01T13:20:00\",\"1970-01-01T13:20:00\",\"1970-01-01T16:23:20\",\"1970-01-01T16:23:20\",\"1970-01-01T16:40:00\",\"1970-01-01T16:40:00\",\"1970-01-01T16:40:00\",\"1970-01-01T19:43:20\",\"1970-01-01T19:43:20\",\"1970-01-01T20:00:00\",\"1970-01-01T20:00:00\",\"1970-01-01T20:00:00\",\"1970-01-01T23:03:20\",\"1970-01-01T23:03:20\",\"1970-01-01T23:20:00\",\"1970-01-01T23:20:00\",\"1970-01-01T23:20:00\",\"1970-01-02T02:23:20\",\"1970-01-02T02:23:20\",\"1970-01-02T02:40:00\",\"1970-01-02T02:40:00\",\"1970-01-02T02:40:00\",\"1970-01-02T05:43:20\",\"1970-01-02T05:43:20\",\"1970-01-02T06:00:00\",\"1970-01-02T06:00:00\",\"1970-01-02T06:00:00\",\"1970-01-02T09:03:20\",\"1970-01-02T09:03:20\",\"1970-01-02T09:20:00\",\"1970-01-02T09:20:00\",\"1970-01-02T09:20:00\",\"1970-01-02T12:23:20\",\"1970-01-02T12:23:20\",\"1970-01-02T12:40:00\",\"1970-01-02T12:40:00\",\"1970-01-02T12:40:00\",\"1970-01-02T15:43:20\",\"1970-01-02T15:43:20\",\"1970-01-02T16:00:00\",\"1970-01-02T16:00:00\",\"1970-01-02T16:00:00\",\"1970-01-02T19:03:20\",\"1970-01-02T19:03:20\",\"1970-01-02T19:20:00\",\"1970-01-02T19:20:00\",\"1970-01-02T19:20:00\"],\"y\":[\"vessel01\",\"vessel01\",\"vessel01\",\"vessel01\",null,\"vessel01\",\"vessel01\",\"vessel01\",\"vessel01\",null,\"vessel01\",\"vessel01\",\"vessel01\",\"vessel01\",null,\"vessel01\",\"vessel01\",\"vessel01\",\"vessel01\",null,\"vessel01\",\"vessel01\",\"vessel01\",\"vessel01\",null,\"vessel01\",\"vessel01\",\"vessel01\",\"vessel01\",null,\"vessel01\",\"vessel01\",\"vessel01\",\"vessel01\",null,\"vessel01\",\"vessel01\",\"vessel01\",\"vessel01\",null,\"vessel01\",\"vessel01\",\"vessel01\",\"vessel01\",null,\"vessel01\",\"vessel01\",\"vessel01\",\"vessel01\",null,\"vessel01\",\"vessel01\",\"vessel01\",\"vessel01\",null,\"vessel01\",\"vessel01\",\"vessel01\",\"vessel01\",null,\"vessel01\",\"vessel01\",\"vessel01\",\"vessel01\",null],\"type\":\"scatter\"},{\"connectgaps\":false,\"hoverinfo\":\"y+name\",\"line\":{\"color\":\"rgb(143,71,35)\",\"width\":10},\"mode\":\"lines\",\"name\":\"prepair\",\"x\":[\"1970-01-01T00:00:00\",\"1970-01-01T00:00:00\",\"1970-01-01T02:46:40\",\"1970-01-01T02:46:40\",\"1970-01-01T02:46:40\",\"1970-01-01T03:20:00\",\"1970-01-01T03:20:00\",\"1970-01-01T06:06:40\",\"1970-01-01T06:06:40\",\"1970-01-01T06:06:40\",\"1970-01-01T06:40:00\",\"1970-01-01T06:40:00\",\"1970-01-01T09:26:40\",\"1970-01-01T09:26:40\",\"1970-01-01T09:26:40\",\"1970-01-01T10:00:00\",\"1970-01-01T10:00:00\",\"1970-01-01T12:46:40\",\"1970-01-01T12:46:40\",\"1970-01-01T12:46:40\",\"1970-01-01T13:20:00\",\"1970-01-01T13:20:00\",\"1970-01-01T16:06:40\",\"1970-01-01T16:06:40\",\"1970-01-01T16:06:40\",\"1970-01-01T16:40:00\",\"1970-01-01T16:40:00\",\"1970-01-01T19:26:40\",\"1970-01-01T19:26:40\",\"1970-01-01T19:26:40\",\"1970-01-01T20:00:00\",\"1970-01-01T20:00:00\",\"1970-01-01T22:46:40\",\"1970-01-01T22:46:40\",\"1970-01-01T22:46:40\",\"1970-01-01T23:20:00\",\"1970-01-01T23:20:00\",\"1970-01-02T02:06:40\",\"1970-01-02T02:06:40\",\"1970-01-02T02:06:40\",\"1970-01-02T02:40:00\",\"1970-01-02T02:40:00\",\"1970-01-02T05:26:40\",\"1970-01-02T05:26:40\",\"1970-01-02T05:26:40\",\"1970-01-02T06:00:00\",\"1970-01-02T06:00:00\",\"1970-01-02T08:46:40\",\"1970-01-02T08:46:40\",\"1970-01-02T08:46:40\",\"1970-01-02T09:20:00\",\"1970-01-02T09:20:00\",\"1970-01-02T12:06:40\",\"1970-01-02T12:06:40\",\"1970-01-02T12:06:40\",\"1970-01-02T12:40:00\",\"1970-01-02T12:40:00\",\"1970-01-02T15:26:40\",\"1970-01-02T15:26:40\",\"1970-01-02T15:26:40\",\"1970-01-02T16:00:00\",\"1970-01-02T16:00:00\",\"1970-01-02T18:46:40\",\"1970-01-02T18:46:40\",\"1970-01-02T18:46:40\"],\"y\":[\"vessel01\",\"vessel01\",\"vessel01\",\"vessel01\",null,\"vessel01\",\"vessel01\",\"vessel01\",\"vessel01\",null,\"vessel01\",\"vessel01\",\"vessel01\",\"vessel01\",null,\"vessel01\",\"vessel01\",\"vessel01\",\"vessel01\",null,\"vessel01\",\"vessel01\",\"vessel01\",\"vessel01\",null,\"vessel01\",\"vessel01\",\"vessel01\",\"vessel01\",null,\"vessel01\",\"vessel01\",\"vessel01\",\"vessel01\",null,\"vessel01\",\"vessel01\",\"vessel01\",\"vessel01\",null,\"vessel01\",\"vessel01\",\"vessel01\",\"vessel01\",null,\"vessel01\",\"vessel01\",\"vessel01\",\"vessel01\",null,\"vessel01\",\"vessel01\",\"vessel01\",\"vessel01\",null,\"vessel01\",\"vessel01\",\"vessel01\",\"vessel01\",null,\"vessel01\",\"vessel01\",\"vessel01\",\"vessel01\",null],\"type\":\"scatter\"},{\"connectgaps\":false,\"hoverinfo\":\"y+name\",\"line\":{\"color\":\"rgb(171,99,63)\",\"width\":10},\"mode\":\"lines\",\"name\":\"unloading\",\"x\":[\"1970-01-01T02:46:40\",\"1970-01-01T02:46:40\",\"1970-01-01T03:03:20\",\"1970-01-01T03:03:20\",\"1970-01-01T03:03:20\",\"1970-01-01T06:06:40\",\"1970-01-01T06:06:40\",\"1970-01-01T06:23:20\",\"1970-01-01T06:23:20\",\"1970-01-01T06:23:20\",\"1970-01-01T09:26:40\",\"1970-01-01T09:26:40\",\"1970-01-01T09:43:20\",\"1970-01-01T09:43:20\",\"1970-01-01T09:43:20\",\"1970-01-01T12:46:40\",\"1970-01-01T12:46:40\",\"1970-01-01T13:03:20\",\"1970-01-01T13:03:20\",\"1970-01-01T13:03:20\",\"1970-01-01T16:06:40\",\"1970-01-01T16:06:40\",\"1970-01-01T16:23:20\",\"1970-01-01T16:23:20\",\"1970-01-01T16:23:20\",\"1970-01-01T19:26:40\",\"1970-01-01T19:26:40\",\"1970-01-01T19:43:20\",\"1970-01-01T19:43:20\",\"1970-01-01T19:43:20\",\"1970-01-01T22:46:40\",\"1970-01-01T22:46:40\",\"1970-01-01T23:03:20\",\"1970-01-01T23:03:20\",\"1970-01-01T23:03:20\",\"1970-01-02T02:06:40\",\"1970-01-02T02:06:40\",\"1970-01-02T02:23:20\",\"1970-01-02T02:23:20\",\"1970-01-02T02:23:20\",\"1970-01-02T05:26:40\",\"1970-01-02T05:26:40\",\"1970-01-02T05:43:20\",\"1970-01-02T05:43:20\",\"1970-01-02T05:43:20\",\"1970-01-02T08:46:40\",\"1970-01-02T08:46:40\",\"1970-01-02T09:03:20\",\"1970-01-02T09:03:20\",\"1970-01-02T09:03:20\",\"1970-01-02T12:06:40\",\"1970-01-02T12:06:40\",\"1970-01-02T12:23:20\",\"1970-01-02T12:23:20\",\"1970-01-02T12:23:20\",\"1970-01-02T15:26:40\",\"1970-01-02T15:26:40\",\"1970-01-02T15:43:20\",\"1970-01-02T15:43:20\",\"1970-01-02T15:43:20\",\"1970-01-02T18:46:40\",\"1970-01-02T18:46:40\",\"1970-01-02T19:03:20\",\"1970-01-02T19:03:20\",\"1970-01-02T19:03:20\",\"1970-01-01T02:46:40\",\"1970-01-01T02:46:40\",\"1970-01-01T03:03:20\",\"1970-01-01T03:03:20\",\"1970-01-01T03:03:20\",\"1970-01-01T06:06:40\",\"1970-01-01T06:06:40\",\"1970-01-01T06:23:20\",\"1970-01-01T06:23:20\",\"1970-01-01T06:23:20\",\"1970-01-01T09:26:40\",\"1970-01-01T09:26:40\",\"1970-01-01T09:43:20\",\"1970-01-01T09:43:20\",\"1970-01-01T09:43:20\",\"1970-01-01T12:46:40\",\"1970-01-01T12:46:40\",\"1970-01-01T13:03:20\",\"1970-01-01T13:03:20\",\"1970-01-01T13:03:20\",\"1970-01-01T16:06:40\",\"1970-01-01T16:06:40\",\"1970-01-01T16:23:20\",\"1970-01-01T16:23:20\",\"1970-01-01T16:23:20\",\"1970-01-01T19:26:40\",\"1970-01-01T19:26:40\",\"1970-01-01T19:43:20\",\"1970-01-01T19:43:20\",\"1970-01-01T19:43:20\",\"1970-01-01T22:46:40\",\"1970-01-01T22:46:40\",\"1970-01-01T23:03:20\",\"1970-01-01T23:03:20\",\"1970-01-01T23:03:20\",\"1970-01-02T02:06:40\",\"1970-01-02T02:06:40\",\"1970-01-02T02:23:20\",\"1970-01-02T02:23:20\",\"1970-01-02T02:23:20\",\"1970-01-02T05:26:40\",\"1970-01-02T05:26:40\",\"1970-01-02T05:43:20\",\"1970-01-02T05:43:20\",\"1970-01-02T05:43:20\",\"1970-01-02T08:46:40\",\"1970-01-02T08:46:40\",\"1970-01-02T09:03:20\",\"1970-01-02T09:03:20\",\"1970-01-02T09:03:20\",\"1970-01-02T12:06:40\",\"1970-01-02T12:06:40\",\"1970-01-02T12:23:20\",\"1970-01-02T12:23:20\",\"1970-01-02T12:23:20\",\"1970-01-02T15:26:40\",\"1970-01-02T15:26:40\",\"1970-01-02T15:43:20\",\"1970-01-02T15:43:20\",\"1970-01-02T15:43:20\",\"1970-01-02T18:46:40\",\"1970-01-02T18:46:40\",\"1970-01-02T19:03:20\",\"1970-01-02T19:03:20\",\"1970-01-02T19:03:20\"],\"y\":[\"vessel01\",\"vessel01\",\"vessel01\",\"vessel01\",null,\"vessel01\",\"vessel01\",\"vessel01\",\"vessel01\",null,\"vessel01\",\"vessel01\",\"vessel01\",\"vessel01\",null,\"vessel01\",\"vessel01\",\"vessel01\",\"vessel01\",null,\"vessel01\",\"vessel01\",\"vessel01\",\"vessel01\",null,\"vessel01\",\"vessel01\",\"vessel01\",\"vessel01\",null,\"vessel01\",\"vessel01\",\"vessel01\",\"vessel01\",null,\"vessel01\",\"vessel01\",\"vessel01\",\"vessel01\",null,\"vessel01\",\"vessel01\",\"vessel01\",\"vessel01\",null,\"vessel01\",\"vessel01\",\"vessel01\",\"vessel01\",null,\"vessel01\",\"vessel01\",\"vessel01\",\"vessel01\",null,\"vessel01\",\"vessel01\",\"vessel01\",\"vessel01\",null,\"vessel01\",\"vessel01\",\"vessel01\",\"vessel01\",null,\"to_site\",\"to_site\",\"to_site\",\"to_site\",null,\"to_site\",\"to_site\",\"to_site\",\"to_site\",null,\"to_site\",\"to_site\",\"to_site\",\"to_site\",null,\"to_site\",\"to_site\",\"to_site\",\"to_site\",null,\"to_site\",\"to_site\",\"to_site\",\"to_site\",null,\"to_site\",\"to_site\",\"to_site\",\"to_site\",null,\"to_site\",\"to_site\",\"to_site\",\"to_site\",null,\"to_site\",\"to_site\",\"to_site\",\"to_site\",null,\"to_site\",\"to_site\",\"to_site\",\"to_site\",null,\"to_site\",\"to_site\",\"to_site\",\"to_site\",null,\"to_site\",\"to_site\",\"to_site\",\"to_site\",null,\"to_site\",\"to_site\",\"to_site\",\"to_site\",null,\"to_site\",\"to_site\",\"to_site\",\"to_site\",null],\"type\":\"scatter\"},{\"connectgaps\":false,\"hoverinfo\":\"y+name\",\"line\":{\"color\":\"rgb(199,127,91)\",\"width\":10},\"mode\":\"lines\",\"name\":\"clean-up\",\"x\":[\"1970-01-01T03:03:20\",\"1970-01-01T03:03:20\",\"1970-01-01T03:20:00\",\"1970-01-01T03:20:00\",\"1970-01-01T03:20:00\",\"1970-01-01T06:23:20\",\"1970-01-01T06:23:20\",\"1970-01-01T06:40:00\",\"1970-01-01T06:40:00\",\"1970-01-01T06:40:00\",\"1970-01-01T09:43:20\",\"1970-01-01T09:43:20\",\"1970-01-01T10:00:00\",\"1970-01-01T10:00:00\",\"1970-01-01T10:00:00\",\"1970-01-01T13:03:20\",\"1970-01-01T13:03:20\",\"1970-01-01T13:20:00\",\"1970-01-01T13:20:00\",\"1970-01-01T13:20:00\",\"1970-01-01T16:23:20\",\"1970-01-01T16:23:20\",\"1970-01-01T16:40:00\",\"1970-01-01T16:40:00\",\"1970-01-01T16:40:00\",\"1970-01-01T19:43:20\",\"1970-01-01T19:43:20\",\"1970-01-01T20:00:00\",\"1970-01-01T20:00:00\",\"1970-01-01T20:00:00\",\"1970-01-01T23:03:20\",\"1970-01-01T23:03:20\",\"1970-01-01T23:20:00\",\"1970-01-01T23:20:00\",\"1970-01-01T23:20:00\",\"1970-01-02T02:23:20\",\"1970-01-02T02:23:20\",\"1970-01-02T02:40:00\",\"1970-01-02T02:40:00\",\"1970-01-02T02:40:00\",\"1970-01-02T05:43:20\",\"1970-01-02T05:43:20\",\"1970-01-02T06:00:00\",\"1970-01-02T06:00:00\",\"1970-01-02T06:00:00\",\"1970-01-02T09:03:20\",\"1970-01-02T09:03:20\",\"1970-01-02T09:20:00\",\"1970-01-02T09:20:00\",\"1970-01-02T09:20:00\",\"1970-01-02T12:23:20\",\"1970-01-02T12:23:20\",\"1970-01-02T12:40:00\",\"1970-01-02T12:40:00\",\"1970-01-02T12:40:00\",\"1970-01-02T15:43:20\",\"1970-01-02T15:43:20\",\"1970-01-02T16:00:00\",\"1970-01-02T16:00:00\",\"1970-01-02T16:00:00\",\"1970-01-02T19:03:20\",\"1970-01-02T19:03:20\",\"1970-01-02T19:20:00\",\"1970-01-02T19:20:00\",\"1970-01-02T19:20:00\"],\"y\":[\"vessel01\",\"vessel01\",\"vessel01\",\"vessel01\",null,\"vessel01\",\"vessel01\",\"vessel01\",\"vessel01\",null,\"vessel01\",\"vessel01\",\"vessel01\",\"vessel01\",null,\"vessel01\",\"vessel01\",\"vessel01\",\"vessel01\",null,\"vessel01\",\"vessel01\",\"vessel01\",\"vessel01\",null,\"vessel01\",\"vessel01\",\"vessel01\",\"vessel01\",null,\"vessel01\",\"vessel01\",\"vessel01\",\"vessel01\",null,\"vessel01\",\"vessel01\",\"vessel01\",\"vessel01\",null,\"vessel01\",\"vessel01\",\"vessel01\",\"vessel01\",null,\"vessel01\",\"vessel01\",\"vessel01\",\"vessel01\",null,\"vessel01\",\"vessel01\",\"vessel01\",\"vessel01\",null,\"vessel01\",\"vessel01\",\"vessel01\",\"vessel01\",null,\"vessel01\",\"vessel01\",\"vessel01\",\"vessel01\",null],\"type\":\"scatter\"},{\"connectgaps\":false,\"hoverinfo\":\"y+name\",\"line\":{\"color\":\"rgb(227,155,119)\",\"width\":10},\"mode\":\"lines\",\"name\":\"sailing empty\",\"x\":[\"1970-01-01T00:00:00\",\"1970-01-01T00:00:00\",\"1970-01-01T00:16:40\",\"1970-01-01T00:16:40\",\"1970-01-01T00:16:40\",\"1970-01-01T03:20:00\",\"1970-01-01T03:20:00\",\"1970-01-01T03:36:40\",\"1970-01-01T03:36:40\",\"1970-01-01T03:36:40\",\"1970-01-01T06:40:00\",\"1970-01-01T06:40:00\",\"1970-01-01T06:56:40\",\"1970-01-01T06:56:40\",\"1970-01-01T06:56:40\",\"1970-01-01T10:00:00\",\"1970-01-01T10:00:00\",\"1970-01-01T10:16:40\",\"1970-01-01T10:16:40\",\"1970-01-01T10:16:40\",\"1970-01-01T13:20:00\",\"1970-01-01T13:20:00\",\"1970-01-01T13:36:40\",\"1970-01-01T13:36:40\",\"1970-01-01T13:36:40\",\"1970-01-01T16:40:00\",\"1970-01-01T16:40:00\",\"1970-01-01T16:56:40\",\"1970-01-01T16:56:40\",\"1970-01-01T16:56:40\",\"1970-01-01T20:00:00\",\"1970-01-01T20:00:00\",\"1970-01-01T20:16:40\",\"1970-01-01T20:16:40\",\"1970-01-01T20:16:40\",\"1970-01-01T23:20:00\",\"1970-01-01T23:20:00\",\"1970-01-01T23:36:40\",\"1970-01-01T23:36:40\",\"1970-01-01T23:36:40\",\"1970-01-02T02:40:00\",\"1970-01-02T02:40:00\",\"1970-01-02T02:56:40\",\"1970-01-02T02:56:40\",\"1970-01-02T02:56:40\",\"1970-01-02T06:00:00\",\"1970-01-02T06:00:00\",\"1970-01-02T06:16:40\",\"1970-01-02T06:16:40\",\"1970-01-02T06:16:40\",\"1970-01-02T09:20:00\",\"1970-01-02T09:20:00\",\"1970-01-02T09:36:40\",\"1970-01-02T09:36:40\",\"1970-01-02T09:36:40\",\"1970-01-02T12:40:00\",\"1970-01-02T12:40:00\",\"1970-01-02T12:56:40\",\"1970-01-02T12:56:40\",\"1970-01-02T12:56:40\",\"1970-01-02T16:00:00\",\"1970-01-02T16:00:00\",\"1970-01-02T16:16:40\",\"1970-01-02T16:16:40\",\"1970-01-02T16:16:40\"],\"y\":[\"vessel01\",\"vessel01\",\"vessel01\",\"vessel01\",null,\"vessel01\",\"vessel01\",\"vessel01\",\"vessel01\",null,\"vessel01\",\"vessel01\",\"vessel01\",\"vessel01\",null,\"vessel01\",\"vessel01\",\"vessel01\",\"vessel01\",null,\"vessel01\",\"vessel01\",\"vessel01\",\"vessel01\",null,\"vessel01\",\"vessel01\",\"vessel01\",\"vessel01\",null,\"vessel01\",\"vessel01\",\"vessel01\",\"vessel01\",null,\"vessel01\",\"vessel01\",\"vessel01\",\"vessel01\",null,\"vessel01\",\"vessel01\",\"vessel01\",\"vessel01\",null,\"vessel01\",\"vessel01\",\"vessel01\",\"vessel01\",null,\"vessel01\",\"vessel01\",\"vessel01\",\"vessel01\",null,\"vessel01\",\"vessel01\",\"vessel01\",\"vessel01\",null,\"vessel01\",\"vessel01\",\"vessel01\",\"vessel01\",null],\"type\":\"scatter\"},{\"connectgaps\":false,\"hoverinfo\":\"y+name\",\"line\":{\"color\":\"rgb(255,183,147)\",\"width\":10},\"mode\":\"lines\",\"name\":\"Loading\",\"x\":[\"1970-01-01T00:16:40\",\"1970-01-01T00:16:40\",\"1970-01-01T00:33:20\",\"1970-01-01T00:33:20\",\"1970-01-01T00:33:20\",\"1970-01-01T03:36:40\",\"1970-01-01T03:36:40\",\"1970-01-01T03:53:20\",\"1970-01-01T03:53:20\",\"1970-01-01T03:53:20\",\"1970-01-01T06:56:40\",\"1970-01-01T06:56:40\",\"1970-01-01T07:13:20\",\"1970-01-01T07:13:20\",\"1970-01-01T07:13:20\",\"1970-01-01T10:16:40\",\"1970-01-01T10:16:40\",\"1970-01-01T10:33:20\",\"1970-01-01T10:33:20\",\"1970-01-01T10:33:20\",\"1970-01-01T13:36:40\",\"1970-01-01T13:36:40\",\"1970-01-01T13:53:20\",\"1970-01-01T13:53:20\",\"1970-01-01T13:53:20\",\"1970-01-01T16:56:40\",\"1970-01-01T16:56:40\",\"1970-01-01T17:13:20\",\"1970-01-01T17:13:20\",\"1970-01-01T17:13:20\",\"1970-01-01T20:16:40\",\"1970-01-01T20:16:40\",\"1970-01-01T20:33:20\",\"1970-01-01T20:33:20\",\"1970-01-01T20:33:20\",\"1970-01-01T23:36:40\",\"1970-01-01T23:36:40\",\"1970-01-01T23:53:20\",\"1970-01-01T23:53:20\",\"1970-01-01T23:53:20\",\"1970-01-02T02:56:40\",\"1970-01-02T02:56:40\",\"1970-01-02T03:13:20\",\"1970-01-02T03:13:20\",\"1970-01-02T03:13:20\",\"1970-01-02T06:16:40\",\"1970-01-02T06:16:40\",\"1970-01-02T06:33:20\",\"1970-01-02T06:33:20\",\"1970-01-02T06:33:20\",\"1970-01-02T09:36:40\",\"1970-01-02T09:36:40\",\"1970-01-02T09:53:20\",\"1970-01-02T09:53:20\",\"1970-01-02T09:53:20\",\"1970-01-02T12:56:40\",\"1970-01-02T12:56:40\",\"1970-01-02T13:13:20\",\"1970-01-02T13:13:20\",\"1970-01-02T13:13:20\",\"1970-01-02T16:16:40\",\"1970-01-02T16:16:40\",\"1970-01-02T16:33:20\",\"1970-01-02T16:33:20\",\"1970-01-02T16:33:20\",\"1970-01-01T00:16:40\",\"1970-01-01T00:16:40\",\"1970-01-01T00:33:20\",\"1970-01-01T00:33:20\",\"1970-01-01T00:33:20\",\"1970-01-01T03:36:40\",\"1970-01-01T03:36:40\",\"1970-01-01T03:53:20\",\"1970-01-01T03:53:20\",\"1970-01-01T03:53:20\",\"1970-01-01T06:56:40\",\"1970-01-01T06:56:40\",\"1970-01-01T07:13:20\",\"1970-01-01T07:13:20\",\"1970-01-01T07:13:20\",\"1970-01-01T10:16:40\",\"1970-01-01T10:16:40\",\"1970-01-01T10:33:20\",\"1970-01-01T10:33:20\",\"1970-01-01T10:33:20\",\"1970-01-01T13:36:40\",\"1970-01-01T13:36:40\",\"1970-01-01T13:53:20\",\"1970-01-01T13:53:20\",\"1970-01-01T13:53:20\",\"1970-01-01T16:56:40\",\"1970-01-01T16:56:40\",\"1970-01-01T17:13:20\",\"1970-01-01T17:13:20\",\"1970-01-01T17:13:20\",\"1970-01-01T20:16:40\",\"1970-01-01T20:16:40\",\"1970-01-01T20:33:20\",\"1970-01-01T20:33:20\",\"1970-01-01T20:33:20\",\"1970-01-01T23:36:40\",\"1970-01-01T23:36:40\",\"1970-01-01T23:53:20\",\"1970-01-01T23:53:20\",\"1970-01-01T23:53:20\",\"1970-01-02T02:56:40\",\"1970-01-02T02:56:40\",\"1970-01-02T03:13:20\",\"1970-01-02T03:13:20\",\"1970-01-02T03:13:20\",\"1970-01-02T06:16:40\",\"1970-01-02T06:16:40\",\"1970-01-02T06:33:20\",\"1970-01-02T06:33:20\",\"1970-01-02T06:33:20\",\"1970-01-02T09:36:40\",\"1970-01-02T09:36:40\",\"1970-01-02T09:53:20\",\"1970-01-02T09:53:20\",\"1970-01-02T09:53:20\",\"1970-01-02T12:56:40\",\"1970-01-02T12:56:40\",\"1970-01-02T13:13:20\",\"1970-01-02T13:13:20\",\"1970-01-02T13:13:20\",\"1970-01-02T16:16:40\",\"1970-01-02T16:16:40\",\"1970-01-02T16:33:20\",\"1970-01-02T16:33:20\",\"1970-01-02T16:33:20\"],\"y\":[\"vessel01\",\"vessel01\",\"vessel01\",\"vessel01\",null,\"vessel01\",\"vessel01\",\"vessel01\",\"vessel01\",null,\"vessel01\",\"vessel01\",\"vessel01\",\"vessel01\",null,\"vessel01\",\"vessel01\",\"vessel01\",\"vessel01\",null,\"vessel01\",\"vessel01\",\"vessel01\",\"vessel01\",null,\"vessel01\",\"vessel01\",\"vessel01\",\"vessel01\",null,\"vessel01\",\"vessel01\",\"vessel01\",\"vessel01\",null,\"vessel01\",\"vessel01\",\"vessel01\",\"vessel01\",null,\"vessel01\",\"vessel01\",\"vessel01\",\"vessel01\",null,\"vessel01\",\"vessel01\",\"vessel01\",\"vessel01\",null,\"vessel01\",\"vessel01\",\"vessel01\",\"vessel01\",null,\"vessel01\",\"vessel01\",\"vessel01\",\"vessel01\",null,\"vessel01\",\"vessel01\",\"vessel01\",\"vessel01\",null,\"from_site\",\"from_site\",\"from_site\",\"from_site\",null,\"from_site\",\"from_site\",\"from_site\",\"from_site\",null,\"from_site\",\"from_site\",\"from_site\",\"from_site\",null,\"from_site\",\"from_site\",\"from_site\",\"from_site\",null,\"from_site\",\"from_site\",\"from_site\",\"from_site\",null,\"from_site\",\"from_site\",\"from_site\",\"from_site\",null,\"from_site\",\"from_site\",\"from_site\",\"from_site\",null,\"from_site\",\"from_site\",\"from_site\",\"from_site\",null,\"from_site\",\"from_site\",\"from_site\",\"from_site\",null,\"from_site\",\"from_site\",\"from_site\",\"from_site\",null,\"from_site\",\"from_site\",\"from_site\",\"from_site\",null,\"from_site\",\"from_site\",\"from_site\",\"from_site\",null,\"from_site\",\"from_site\",\"from_site\",\"from_site\",null],\"type\":\"scatter\"},{\"connectgaps\":false,\"hoverinfo\":\"y+name\",\"line\":{\"color\":\"rgb(27,211,175)\",\"width\":10},\"mode\":\"lines\",\"name\":\"Loading\",\"x\":[\"1970-01-01T00:16:40\",\"1970-01-01T00:16:40\",\"1970-01-01T00:33:20\",\"1970-01-01T00:33:20\",\"1970-01-01T00:33:20\",\"1970-01-01T03:36:40\",\"1970-01-01T03:36:40\",\"1970-01-01T03:53:20\",\"1970-01-01T03:53:20\",\"1970-01-01T03:53:20\",\"1970-01-01T06:56:40\",\"1970-01-01T06:56:40\",\"1970-01-01T07:13:20\",\"1970-01-01T07:13:20\",\"1970-01-01T07:13:20\",\"1970-01-01T10:16:40\",\"1970-01-01T10:16:40\",\"1970-01-01T10:33:20\",\"1970-01-01T10:33:20\",\"1970-01-01T10:33:20\",\"1970-01-01T13:36:40\",\"1970-01-01T13:36:40\",\"1970-01-01T13:53:20\",\"1970-01-01T13:53:20\",\"1970-01-01T13:53:20\",\"1970-01-01T16:56:40\",\"1970-01-01T16:56:40\",\"1970-01-01T17:13:20\",\"1970-01-01T17:13:20\",\"1970-01-01T17:13:20\",\"1970-01-01T20:16:40\",\"1970-01-01T20:16:40\",\"1970-01-01T20:33:20\",\"1970-01-01T20:33:20\",\"1970-01-01T20:33:20\",\"1970-01-01T23:36:40\",\"1970-01-01T23:36:40\",\"1970-01-01T23:53:20\",\"1970-01-01T23:53:20\",\"1970-01-01T23:53:20\",\"1970-01-02T02:56:40\",\"1970-01-02T02:56:40\",\"1970-01-02T03:13:20\",\"1970-01-02T03:13:20\",\"1970-01-02T03:13:20\",\"1970-01-02T06:16:40\",\"1970-01-02T06:16:40\",\"1970-01-02T06:33:20\",\"1970-01-02T06:33:20\",\"1970-01-02T06:33:20\",\"1970-01-02T09:36:40\",\"1970-01-02T09:36:40\",\"1970-01-02T09:53:20\",\"1970-01-02T09:53:20\",\"1970-01-02T09:53:20\",\"1970-01-02T12:56:40\",\"1970-01-02T12:56:40\",\"1970-01-02T13:13:20\",\"1970-01-02T13:13:20\",\"1970-01-02T13:13:20\",\"1970-01-02T16:16:40\",\"1970-01-02T16:16:40\",\"1970-01-02T16:33:20\",\"1970-01-02T16:33:20\",\"1970-01-02T16:33:20\",\"1970-01-01T00:16:40\",\"1970-01-01T00:16:40\",\"1970-01-01T00:33:20\",\"1970-01-01T00:33:20\",\"1970-01-01T00:33:20\",\"1970-01-01T03:36:40\",\"1970-01-01T03:36:40\",\"1970-01-01T03:53:20\",\"1970-01-01T03:53:20\",\"1970-01-01T03:53:20\",\"1970-01-01T06:56:40\",\"1970-01-01T06:56:40\",\"1970-01-01T07:13:20\",\"1970-01-01T07:13:20\",\"1970-01-01T07:13:20\",\"1970-01-01T10:16:40\",\"1970-01-01T10:16:40\",\"1970-01-01T10:33:20\",\"1970-01-01T10:33:20\",\"1970-01-01T10:33:20\",\"1970-01-01T13:36:40\",\"1970-01-01T13:36:40\",\"1970-01-01T13:53:20\",\"1970-01-01T13:53:20\",\"1970-01-01T13:53:20\",\"1970-01-01T16:56:40\",\"1970-01-01T16:56:40\",\"1970-01-01T17:13:20\",\"1970-01-01T17:13:20\",\"1970-01-01T17:13:20\",\"1970-01-01T20:16:40\",\"1970-01-01T20:16:40\",\"1970-01-01T20:33:20\",\"1970-01-01T20:33:20\",\"1970-01-01T20:33:20\",\"1970-01-01T23:36:40\",\"1970-01-01T23:36:40\",\"1970-01-01T23:53:20\",\"1970-01-01T23:53:20\",\"1970-01-01T23:53:20\",\"1970-01-02T02:56:40\",\"1970-01-02T02:56:40\",\"1970-01-02T03:13:20\",\"1970-01-02T03:13:20\",\"1970-01-02T03:13:20\",\"1970-01-02T06:16:40\",\"1970-01-02T06:16:40\",\"1970-01-02T06:33:20\",\"1970-01-02T06:33:20\",\"1970-01-02T06:33:20\",\"1970-01-02T09:36:40\",\"1970-01-02T09:36:40\",\"1970-01-02T09:53:20\",\"1970-01-02T09:53:20\",\"1970-01-02T09:53:20\",\"1970-01-02T12:56:40\",\"1970-01-02T12:56:40\",\"1970-01-02T13:13:20\",\"1970-01-02T13:13:20\",\"1970-01-02T13:13:20\",\"1970-01-02T16:16:40\",\"1970-01-02T16:16:40\",\"1970-01-02T16:33:20\",\"1970-01-02T16:33:20\",\"1970-01-02T16:33:20\"],\"y\":[\"vessel01\",\"vessel01\",\"vessel01\",\"vessel01\",null,\"vessel01\",\"vessel01\",\"vessel01\",\"vessel01\",null,\"vessel01\",\"vessel01\",\"vessel01\",\"vessel01\",null,\"vessel01\",\"vessel01\",\"vessel01\",\"vessel01\",null,\"vessel01\",\"vessel01\",\"vessel01\",\"vessel01\",null,\"vessel01\",\"vessel01\",\"vessel01\",\"vessel01\",null,\"vessel01\",\"vessel01\",\"vessel01\",\"vessel01\",null,\"vessel01\",\"vessel01\",\"vessel01\",\"vessel01\",null,\"vessel01\",\"vessel01\",\"vessel01\",\"vessel01\",null,\"vessel01\",\"vessel01\",\"vessel01\",\"vessel01\",null,\"vessel01\",\"vessel01\",\"vessel01\",\"vessel01\",null,\"vessel01\",\"vessel01\",\"vessel01\",\"vessel01\",null,\"vessel01\",\"vessel01\",\"vessel01\",\"vessel01\",null,\"from_site\",\"from_site\",\"from_site\",\"from_site\",null,\"from_site\",\"from_site\",\"from_site\",\"from_site\",null,\"from_site\",\"from_site\",\"from_site\",\"from_site\",null,\"from_site\",\"from_site\",\"from_site\",\"from_site\",null,\"from_site\",\"from_site\",\"from_site\",\"from_site\",null,\"from_site\",\"from_site\",\"from_site\",\"from_site\",null,\"from_site\",\"from_site\",\"from_site\",\"from_site\",null,\"from_site\",\"from_site\",\"from_site\",\"from_site\",null,\"from_site\",\"from_site\",\"from_site\",\"from_site\",null,\"from_site\",\"from_site\",\"from_site\",\"from_site\",null,\"from_site\",\"from_site\",\"from_site\",\"from_site\",null,\"from_site\",\"from_site\",\"from_site\",\"from_site\",null,\"from_site\",\"from_site\",\"from_site\",\"from_site\",null],\"type\":\"scatter\"},{\"connectgaps\":false,\"hoverinfo\":\"y+name\",\"line\":{\"color\":\"rgb(55,239,203)\",\"width\":10},\"mode\":\"lines\",\"name\":\"unloading\",\"x\":[\"1970-01-01T02:46:40\",\"1970-01-01T02:46:40\",\"1970-01-01T03:03:20\",\"1970-01-01T03:03:20\",\"1970-01-01T03:03:20\",\"1970-01-01T06:06:40\",\"1970-01-01T06:06:40\",\"1970-01-01T06:23:20\",\"1970-01-01T06:23:20\",\"1970-01-01T06:23:20\",\"1970-01-01T09:26:40\",\"1970-01-01T09:26:40\",\"1970-01-01T09:43:20\",\"1970-01-01T09:43:20\",\"1970-01-01T09:43:20\",\"1970-01-01T12:46:40\",\"1970-01-01T12:46:40\",\"1970-01-01T13:03:20\",\"1970-01-01T13:03:20\",\"1970-01-01T13:03:20\",\"1970-01-01T16:06:40\",\"1970-01-01T16:06:40\",\"1970-01-01T16:23:20\",\"1970-01-01T16:23:20\",\"1970-01-01T16:23:20\",\"1970-01-01T19:26:40\",\"1970-01-01T19:26:40\",\"1970-01-01T19:43:20\",\"1970-01-01T19:43:20\",\"1970-01-01T19:43:20\",\"1970-01-01T22:46:40\",\"1970-01-01T22:46:40\",\"1970-01-01T23:03:20\",\"1970-01-01T23:03:20\",\"1970-01-01T23:03:20\",\"1970-01-02T02:06:40\",\"1970-01-02T02:06:40\",\"1970-01-02T02:23:20\",\"1970-01-02T02:23:20\",\"1970-01-02T02:23:20\",\"1970-01-02T05:26:40\",\"1970-01-02T05:26:40\",\"1970-01-02T05:43:20\",\"1970-01-02T05:43:20\",\"1970-01-02T05:43:20\",\"1970-01-02T08:46:40\",\"1970-01-02T08:46:40\",\"1970-01-02T09:03:20\",\"1970-01-02T09:03:20\",\"1970-01-02T09:03:20\",\"1970-01-02T12:06:40\",\"1970-01-02T12:06:40\",\"1970-01-02T12:23:20\",\"1970-01-02T12:23:20\",\"1970-01-02T12:23:20\",\"1970-01-02T15:26:40\",\"1970-01-02T15:26:40\",\"1970-01-02T15:43:20\",\"1970-01-02T15:43:20\",\"1970-01-02T15:43:20\",\"1970-01-02T18:46:40\",\"1970-01-02T18:46:40\",\"1970-01-02T19:03:20\",\"1970-01-02T19:03:20\",\"1970-01-02T19:03:20\",\"1970-01-01T02:46:40\",\"1970-01-01T02:46:40\",\"1970-01-01T03:03:20\",\"1970-01-01T03:03:20\",\"1970-01-01T03:03:20\",\"1970-01-01T06:06:40\",\"1970-01-01T06:06:40\",\"1970-01-01T06:23:20\",\"1970-01-01T06:23:20\",\"1970-01-01T06:23:20\",\"1970-01-01T09:26:40\",\"1970-01-01T09:26:40\",\"1970-01-01T09:43:20\",\"1970-01-01T09:43:20\",\"1970-01-01T09:43:20\",\"1970-01-01T12:46:40\",\"1970-01-01T12:46:40\",\"1970-01-01T13:03:20\",\"1970-01-01T13:03:20\",\"1970-01-01T13:03:20\",\"1970-01-01T16:06:40\",\"1970-01-01T16:06:40\",\"1970-01-01T16:23:20\",\"1970-01-01T16:23:20\",\"1970-01-01T16:23:20\",\"1970-01-01T19:26:40\",\"1970-01-01T19:26:40\",\"1970-01-01T19:43:20\",\"1970-01-01T19:43:20\",\"1970-01-01T19:43:20\",\"1970-01-01T22:46:40\",\"1970-01-01T22:46:40\",\"1970-01-01T23:03:20\",\"1970-01-01T23:03:20\",\"1970-01-01T23:03:20\",\"1970-01-02T02:06:40\",\"1970-01-02T02:06:40\",\"1970-01-02T02:23:20\",\"1970-01-02T02:23:20\",\"1970-01-02T02:23:20\",\"1970-01-02T05:26:40\",\"1970-01-02T05:26:40\",\"1970-01-02T05:43:20\",\"1970-01-02T05:43:20\",\"1970-01-02T05:43:20\",\"1970-01-02T08:46:40\",\"1970-01-02T08:46:40\",\"1970-01-02T09:03:20\",\"1970-01-02T09:03:20\",\"1970-01-02T09:03:20\",\"1970-01-02T12:06:40\",\"1970-01-02T12:06:40\",\"1970-01-02T12:23:20\",\"1970-01-02T12:23:20\",\"1970-01-02T12:23:20\",\"1970-01-02T15:26:40\",\"1970-01-02T15:26:40\",\"1970-01-02T15:43:20\",\"1970-01-02T15:43:20\",\"1970-01-02T15:43:20\",\"1970-01-02T18:46:40\",\"1970-01-02T18:46:40\",\"1970-01-02T19:03:20\",\"1970-01-02T19:03:20\",\"1970-01-02T19:03:20\"],\"y\":[\"vessel01\",\"vessel01\",\"vessel01\",\"vessel01\",null,\"vessel01\",\"vessel01\",\"vessel01\",\"vessel01\",null,\"vessel01\",\"vessel01\",\"vessel01\",\"vessel01\",null,\"vessel01\",\"vessel01\",\"vessel01\",\"vessel01\",null,\"vessel01\",\"vessel01\",\"vessel01\",\"vessel01\",null,\"vessel01\",\"vessel01\",\"vessel01\",\"vessel01\",null,\"vessel01\",\"vessel01\",\"vessel01\",\"vessel01\",null,\"vessel01\",\"vessel01\",\"vessel01\",\"vessel01\",null,\"vessel01\",\"vessel01\",\"vessel01\",\"vessel01\",null,\"vessel01\",\"vessel01\",\"vessel01\",\"vessel01\",null,\"vessel01\",\"vessel01\",\"vessel01\",\"vessel01\",null,\"vessel01\",\"vessel01\",\"vessel01\",\"vessel01\",null,\"vessel01\",\"vessel01\",\"vessel01\",\"vessel01\",null,\"to_site\",\"to_site\",\"to_site\",\"to_site\",null,\"to_site\",\"to_site\",\"to_site\",\"to_site\",null,\"to_site\",\"to_site\",\"to_site\",\"to_site\",null,\"to_site\",\"to_site\",\"to_site\",\"to_site\",null,\"to_site\",\"to_site\",\"to_site\",\"to_site\",null,\"to_site\",\"to_site\",\"to_site\",\"to_site\",null,\"to_site\",\"to_site\",\"to_site\",\"to_site\",null,\"to_site\",\"to_site\",\"to_site\",\"to_site\",null,\"to_site\",\"to_site\",\"to_site\",\"to_site\",null,\"to_site\",\"to_site\",\"to_site\",\"to_site\",null,\"to_site\",\"to_site\",\"to_site\",\"to_site\",null,\"to_site\",\"to_site\",\"to_site\",\"to_site\",null,\"to_site\",\"to_site\",\"to_site\",\"to_site\",null],\"type\":\"scatter\"}],                        {\"hovermode\":\"closest\",\"legend\":{\"orientation\":\"h\",\"x\":0,\"y\":-0.2},\"template\":{\"data\":{\"barpolar\":[{\"marker\":{\"line\":{\"color\":\"#E5ECF6\",\"width\":0.5},\"pattern\":{\"fillmode\":\"overlay\",\"size\":10,\"solidity\":0.2}},\"type\":\"barpolar\"}],\"bar\":[{\"error_x\":{\"color\":\"#2a3f5f\"},\"error_y\":{\"color\":\"#2a3f5f\"},\"marker\":{\"line\":{\"color\":\"#E5ECF6\",\"width\":0.5},\"pattern\":{\"fillmode\":\"overlay\",\"size\":10,\"solidity\":0.2}},\"type\":\"bar\"}],\"carpet\":[{\"aaxis\":{\"endlinecolor\":\"#2a3f5f\",\"gridcolor\":\"white\",\"linecolor\":\"white\",\"minorgridcolor\":\"white\",\"startlinecolor\":\"#2a3f5f\"},\"baxis\":{\"endlinecolor\":\"#2a3f5f\",\"gridcolor\":\"white\",\"linecolor\":\"white\",\"minorgridcolor\":\"white\",\"startlinecolor\":\"#2a3f5f\"},\"type\":\"carpet\"}],\"choropleth\":[{\"colorbar\":{\"outlinewidth\":0,\"ticks\":\"\"},\"type\":\"choropleth\"}],\"contourcarpet\":[{\"colorbar\":{\"outlinewidth\":0,\"ticks\":\"\"},\"type\":\"contourcarpet\"}],\"contour\":[{\"colorbar\":{\"outlinewidth\":0,\"ticks\":\"\"},\"colorscale\":[[0.0,\"#0d0887\"],[0.1111111111111111,\"#46039f\"],[0.2222222222222222,\"#7201a8\"],[0.3333333333333333,\"#9c179e\"],[0.4444444444444444,\"#bd3786\"],[0.5555555555555556,\"#d8576b\"],[0.6666666666666666,\"#ed7953\"],[0.7777777777777778,\"#fb9f3a\"],[0.8888888888888888,\"#fdca26\"],[1.0,\"#f0f921\"]],\"type\":\"contour\"}],\"heatmapgl\":[{\"colorbar\":{\"outlinewidth\":0,\"ticks\":\"\"},\"colorscale\":[[0.0,\"#0d0887\"],[0.1111111111111111,\"#46039f\"],[0.2222222222222222,\"#7201a8\"],[0.3333333333333333,\"#9c179e\"],[0.4444444444444444,\"#bd3786\"],[0.5555555555555556,\"#d8576b\"],[0.6666666666666666,\"#ed7953\"],[0.7777777777777778,\"#fb9f3a\"],[0.8888888888888888,\"#fdca26\"],[1.0,\"#f0f921\"]],\"type\":\"heatmapgl\"}],\"heatmap\":[{\"colorbar\":{\"outlinewidth\":0,\"ticks\":\"\"},\"colorscale\":[[0.0,\"#0d0887\"],[0.1111111111111111,\"#46039f\"],[0.2222222222222222,\"#7201a8\"],[0.3333333333333333,\"#9c179e\"],[0.4444444444444444,\"#bd3786\"],[0.5555555555555556,\"#d8576b\"],[0.6666666666666666,\"#ed7953\"],[0.7777777777777778,\"#fb9f3a\"],[0.8888888888888888,\"#fdca26\"],[1.0,\"#f0f921\"]],\"type\":\"heatmap\"}],\"histogram2dcontour\":[{\"colorbar\":{\"outlinewidth\":0,\"ticks\":\"\"},\"colorscale\":[[0.0,\"#0d0887\"],[0.1111111111111111,\"#46039f\"],[0.2222222222222222,\"#7201a8\"],[0.3333333333333333,\"#9c179e\"],[0.4444444444444444,\"#bd3786\"],[0.5555555555555556,\"#d8576b\"],[0.6666666666666666,\"#ed7953\"],[0.7777777777777778,\"#fb9f3a\"],[0.8888888888888888,\"#fdca26\"],[1.0,\"#f0f921\"]],\"type\":\"histogram2dcontour\"}],\"histogram2d\":[{\"colorbar\":{\"outlinewidth\":0,\"ticks\":\"\"},\"colorscale\":[[0.0,\"#0d0887\"],[0.1111111111111111,\"#46039f\"],[0.2222222222222222,\"#7201a8\"],[0.3333333333333333,\"#9c179e\"],[0.4444444444444444,\"#bd3786\"],[0.5555555555555556,\"#d8576b\"],[0.6666666666666666,\"#ed7953\"],[0.7777777777777778,\"#fb9f3a\"],[0.8888888888888888,\"#fdca26\"],[1.0,\"#f0f921\"]],\"type\":\"histogram2d\"}],\"histogram\":[{\"marker\":{\"pattern\":{\"fillmode\":\"overlay\",\"size\":10,\"solidity\":0.2}},\"type\":\"histogram\"}],\"mesh3d\":[{\"colorbar\":{\"outlinewidth\":0,\"ticks\":\"\"},\"type\":\"mesh3d\"}],\"parcoords\":[{\"line\":{\"colorbar\":{\"outlinewidth\":0,\"ticks\":\"\"}},\"type\":\"parcoords\"}],\"pie\":[{\"automargin\":true,\"type\":\"pie\"}],\"scatter3d\":[{\"line\":{\"colorbar\":{\"outlinewidth\":0,\"ticks\":\"\"}},\"marker\":{\"colorbar\":{\"outlinewidth\":0,\"ticks\":\"\"}},\"type\":\"scatter3d\"}],\"scattercarpet\":[{\"marker\":{\"colorbar\":{\"outlinewidth\":0,\"ticks\":\"\"}},\"type\":\"scattercarpet\"}],\"scattergeo\":[{\"marker\":{\"colorbar\":{\"outlinewidth\":0,\"ticks\":\"\"}},\"type\":\"scattergeo\"}],\"scattergl\":[{\"marker\":{\"colorbar\":{\"outlinewidth\":0,\"ticks\":\"\"}},\"type\":\"scattergl\"}],\"scattermapbox\":[{\"marker\":{\"colorbar\":{\"outlinewidth\":0,\"ticks\":\"\"}},\"type\":\"scattermapbox\"}],\"scatterpolargl\":[{\"marker\":{\"colorbar\":{\"outlinewidth\":0,\"ticks\":\"\"}},\"type\":\"scatterpolargl\"}],\"scatterpolar\":[{\"marker\":{\"colorbar\":{\"outlinewidth\":0,\"ticks\":\"\"}},\"type\":\"scatterpolar\"}],\"scatter\":[{\"marker\":{\"colorbar\":{\"outlinewidth\":0,\"ticks\":\"\"}},\"type\":\"scatter\"}],\"scatterternary\":[{\"marker\":{\"colorbar\":{\"outlinewidth\":0,\"ticks\":\"\"}},\"type\":\"scatterternary\"}],\"surface\":[{\"colorbar\":{\"outlinewidth\":0,\"ticks\":\"\"},\"colorscale\":[[0.0,\"#0d0887\"],[0.1111111111111111,\"#46039f\"],[0.2222222222222222,\"#7201a8\"],[0.3333333333333333,\"#9c179e\"],[0.4444444444444444,\"#bd3786\"],[0.5555555555555556,\"#d8576b\"],[0.6666666666666666,\"#ed7953\"],[0.7777777777777778,\"#fb9f3a\"],[0.8888888888888888,\"#fdca26\"],[1.0,\"#f0f921\"]],\"type\":\"surface\"}],\"table\":[{\"cells\":{\"fill\":{\"color\":\"#EBF0F8\"},\"line\":{\"color\":\"white\"}},\"header\":{\"fill\":{\"color\":\"#C8D4E3\"},\"line\":{\"color\":\"white\"}},\"type\":\"table\"}]},\"layout\":{\"annotationdefaults\":{\"arrowcolor\":\"#2a3f5f\",\"arrowhead\":0,\"arrowwidth\":1},\"autotypenumbers\":\"strict\",\"coloraxis\":{\"colorbar\":{\"outlinewidth\":0,\"ticks\":\"\"}},\"colorscale\":{\"diverging\":[[0,\"#8e0152\"],[0.1,\"#c51b7d\"],[0.2,\"#de77ae\"],[0.3,\"#f1b6da\"],[0.4,\"#fde0ef\"],[0.5,\"#f7f7f7\"],[0.6,\"#e6f5d0\"],[0.7,\"#b8e186\"],[0.8,\"#7fbc41\"],[0.9,\"#4d9221\"],[1,\"#276419\"]],\"sequential\":[[0.0,\"#0d0887\"],[0.1111111111111111,\"#46039f\"],[0.2222222222222222,\"#7201a8\"],[0.3333333333333333,\"#9c179e\"],[0.4444444444444444,\"#bd3786\"],[0.5555555555555556,\"#d8576b\"],[0.6666666666666666,\"#ed7953\"],[0.7777777777777778,\"#fb9f3a\"],[0.8888888888888888,\"#fdca26\"],[1.0,\"#f0f921\"]],\"sequentialminus\":[[0.0,\"#0d0887\"],[0.1111111111111111,\"#46039f\"],[0.2222222222222222,\"#7201a8\"],[0.3333333333333333,\"#9c179e\"],[0.4444444444444444,\"#bd3786\"],[0.5555555555555556,\"#d8576b\"],[0.6666666666666666,\"#ed7953\"],[0.7777777777777778,\"#fb9f3a\"],[0.8888888888888888,\"#fdca26\"],[1.0,\"#f0f921\"]]},\"colorway\":[\"#636efa\",\"#EF553B\",\"#00cc96\",\"#ab63fa\",\"#FFA15A\",\"#19d3f3\",\"#FF6692\",\"#B6E880\",\"#FF97FF\",\"#FECB52\"],\"font\":{\"color\":\"#2a3f5f\"},\"geo\":{\"bgcolor\":\"white\",\"lakecolor\":\"white\",\"landcolor\":\"#E5ECF6\",\"showlakes\":true,\"showland\":true,\"subunitcolor\":\"white\"},\"hoverlabel\":{\"align\":\"left\"},\"hovermode\":\"closest\",\"mapbox\":{\"style\":\"light\"},\"paper_bgcolor\":\"white\",\"plot_bgcolor\":\"#E5ECF6\",\"polar\":{\"angularaxis\":{\"gridcolor\":\"white\",\"linecolor\":\"white\",\"ticks\":\"\"},\"bgcolor\":\"#E5ECF6\",\"radialaxis\":{\"gridcolor\":\"white\",\"linecolor\":\"white\",\"ticks\":\"\"}},\"scene\":{\"xaxis\":{\"backgroundcolor\":\"#E5ECF6\",\"gridcolor\":\"white\",\"gridwidth\":2,\"linecolor\":\"white\",\"showbackground\":true,\"ticks\":\"\",\"zerolinecolor\":\"white\"},\"yaxis\":{\"backgroundcolor\":\"#E5ECF6\",\"gridcolor\":\"white\",\"gridwidth\":2,\"linecolor\":\"white\",\"showbackground\":true,\"ticks\":\"\",\"zerolinecolor\":\"white\"},\"zaxis\":{\"backgroundcolor\":\"#E5ECF6\",\"gridcolor\":\"white\",\"gridwidth\":2,\"linecolor\":\"white\",\"showbackground\":true,\"ticks\":\"\",\"zerolinecolor\":\"white\"}},\"shapedefaults\":{\"line\":{\"color\":\"#2a3f5f\"}},\"ternary\":{\"aaxis\":{\"gridcolor\":\"white\",\"linecolor\":\"white\",\"ticks\":\"\"},\"baxis\":{\"gridcolor\":\"white\",\"linecolor\":\"white\",\"ticks\":\"\"},\"bgcolor\":\"#E5ECF6\",\"caxis\":{\"gridcolor\":\"white\",\"linecolor\":\"white\",\"ticks\":\"\"}},\"title\":{\"x\":0.05},\"xaxis\":{\"automargin\":true,\"gridcolor\":\"white\",\"linecolor\":\"white\",\"ticks\":\"\",\"title\":{\"standoff\":15},\"zerolinecolor\":\"white\",\"zerolinewidth\":2},\"yaxis\":{\"automargin\":true,\"gridcolor\":\"white\",\"linecolor\":\"white\",\"ticks\":\"\",\"title\":{\"standoff\":15},\"zerolinecolor\":\"white\",\"zerolinewidth\":2}}},\"title\":{\"text\":\"GANTT Chart\"},\"xaxis\":{\"range\":[\"1970-01-01T00:00:00\",\"1970-01-02T19:20:00\"],\"title\":{\"font\":{\"color\":\"#7f7f7f\",\"family\":\"Courier New, monospace\",\"size\":18},\"text\":\"Time\"}},\"yaxis\":{\"title\":{\"font\":{\"color\":\"#7f7f7f\",\"family\":\"Courier New, monospace\",\"size\":18},\"text\":\"Activities\"}}},                        {\"responsive\": true}                    ).then(function(){\n",
       "                            \n",
       "var gd = document.getElementById('3d509783-2d0d-4e95-ae9b-efbad9c22295');\n",
       "var x = new MutationObserver(function (mutations, observer) {{\n",
       "        var display = window.getComputedStyle(gd).display;\n",
       "        if (!display || display === 'none') {{\n",
       "            console.log([gd, 'removed!']);\n",
       "            Plotly.purge(gd);\n",
       "            observer.disconnect();\n",
       "        }}\n",
       "}});\n",
       "\n",
       "// Listen for the removal of the full notebook cells\n",
       "var notebookContainer = gd.closest('#notebook-container');\n",
       "if (notebookContainer) {{\n",
       "    x.observe(notebookContainer, {childList: true});\n",
       "}}\n",
       "\n",
       "// Listen for the clearing of the current output cell\n",
       "var outputEl = gd.closest('.output');\n",
       "if (outputEl) {{\n",
       "    x.observe(outputEl, {childList: true});\n",
       "}}\n",
       "\n",
       "                        })                };                });            </script>        </div>"
      ]
     },
     "metadata": {},
     "output_type": "display_data"
    }
   ],
   "source": [
    "plot.get_gantt_chart([vessel01, from_site, to_site], id_map=[while_activity])"
   ]
  },
  {
   "cell_type": "markdown",
   "metadata": {},
   "source": [
    "##### 5.3 Visualise step charts"
   ]
  },
  {
   "cell_type": "code",
   "execution_count": 13,
   "metadata": {},
   "outputs": [
    {
     "data": {
      "image/png": "[encoded data removed]",
      "text/plain": [
       "<Figure size 1008x504 with 1 Axes>"
      ]
     },
     "metadata": {
      "needs_background": "light"
     },
     "output_type": "display_data"
    }
   ],
   "source": [
    "fig = plot.get_step_chart([from_site, vessel01, to_site])"
   ]
  }
 ],
 "metadata": {
  "kernelspec": {
   "display_name": "Python 3 (ipykernel)",
   "language": "python",
   "name": "python3"
  },
  "language_info": {
   "codemirror_mode": {
    "name": "ipython",
    "version": 3
   },
   "file_extension": ".py",
   "mimetype": "text/x-python",
   "name": "python",
   "nbconvert_exporter": "python",
   "pygments_lexer": "ipython3",
   "version": "3.9.16"
  }
 },
 "nbformat": 4,
 "nbformat_minor": 2
}
