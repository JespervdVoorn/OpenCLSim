{
 "cells": [
  {
   "cell_type": "markdown",
   "metadata": {},
   "source": [
    "# Demo While Activity with ShiftAmount Activity\n",
    "The combination of a while activity with a shift amount activity can be used to represent the loading or unloading of a vessel, where coordination of the process is represented on the granularity of the amount shifted in one iteration."
   ]
  },
  {
   "cell_type": "code",
   "execution_count": 1,
   "metadata": {},
   "outputs": [],
   "source": [
    "import datetime, time\n",
    "import simpy\n",
    "\n",
    "import shapely.geometry\n",
    "\n",
    "import pandas as pd\n",
    "import openclsim.core as core\n",
    "import openclsim.model as model\n",
    "import openclsim.plot as plot\n",
    "\n",
    "# setup environment\n",
    "simulation_start = 0\n",
    "my_env = simpy.Environment(initial_time=simulation_start)\n",
    "registry = {}"
   ]
  },
  {
   "cell_type": "markdown",
   "metadata": {},
   "source": [
    "## Definition of Sites"
   ]
  },
  {
   "cell_type": "code",
   "execution_count": 2,
   "metadata": {},
   "outputs": [],
   "source": [
    "# The generic site class\n",
    "Site = type(\n",
    "    \"Site\",\n",
    "    (\n",
    "        core.Identifiable,\n",
    "        core.Log,\n",
    "        core.Locatable,\n",
    "        core.HasContainer,\n",
    "        core.HasResource,\n",
    "    ),\n",
    "    {},\n",
    ")\n",
    "\n",
    "location_from_site = shapely.geometry.Point(4.18055556, 52.18664444)\n",
    "\n",
    "data_from_site = {\n",
    "    \"env\": my_env,\n",
    "    \"name\": \"Winlocatie\",\n",
    "    \"ID\": \"6dbbbdf4-4589-11e9-a501-b469212bff5b\",\n",
    "    \"geometry\": location_from_site,\n",
    "    \"capacity\": 10,\n",
    "    \"level\": 10,\n",
    "}\n",
    "\n",
    "location_to_site = shapely.geometry.Point(4.25222222, 52.11428333)\n",
    "\n",
    "data_to_site = {\n",
    "    \"env\": my_env,\n",
    "    \"name\": \"Dumplocatie\",\n",
    "    \"ID\": \"6dbbbdf5-4589-11e9-82b2-b469212bff5b\",\n",
    "    \"geometry\": location_to_site,\n",
    "    \"capacity\": 10,\n",
    "    \"level\": 0,\n",
    "}\n",
    "\n",
    "from_site = Site(**data_from_site)\n",
    "to_site = Site(**data_to_site)"
   ]
  },
  {
   "cell_type": "markdown",
   "metadata": {},
   "source": [
    "## Creation of Vessel"
   ]
  },
  {
   "cell_type": "code",
   "execution_count": 3,
   "metadata": {},
   "outputs": [],
   "source": [
    "TransportProcessingResource = type(\n",
    "    \"TransportProcessingResource\",\n",
    "    (\n",
    "        core.Identifiable,\n",
    "        core.Log,\n",
    "        core.ContainerDependentMovable,\n",
    "        core.Processor,\n",
    "        core.HasResource,\n",
    "        core.LoadingFunction,\n",
    "        core.UnloadingFunction,\n",
    "    ),\n",
    "    {},\n",
    ")\n",
    "\n",
    "def compute_v_provider(v_empty, v_full):\n",
    "    return lambda x: 10\n",
    "\n",
    "# TSHD variables\n",
    "data_hopper = {\n",
    "    \"env\": my_env,\n",
    "    \"name\": \"Hopper 01\",\n",
    "    \"ID\": \"6dbbbdf6-4589-11e9-95a2-b469212bff5b\",\n",
    "    \"geometry\": location_from_site,\n",
    "    \"loading_rate\": 1,\n",
    "    \"unloading_rate\": 1,\n",
    "    \"capacity\": 5,\n",
    "    \"compute_v\": compute_v_provider(5, 4.5),\n",
    "}\n",
    "\n",
    "hopper = TransportProcessingResource(**data_hopper)"
   ]
  },
  {
   "cell_type": "markdown",
   "metadata": {},
   "source": [
    "## Definition of Shift Amount activity"
   ]
  },
  {
   "cell_type": "code",
   "execution_count": 4,
   "metadata": {},
   "outputs": [],
   "source": [
    "shift_amount_activity_loading_data = {\n",
    "    \"env\": my_env,\n",
    "    \"name\": \"Transfer MP\",\n",
    "    \"ID\": \"6dbbbdf7-4589-11e9-bf3b-b469212bff52\",\n",
    "    \"registry\": registry,\n",
    "    \"processor\": hopper,\n",
    "    \"origin\": from_site,\n",
    "    \"destination\": hopper,\n",
    "    \"amount\": 1,\n",
    "    \"duration\": 20,\n",
    "    \"postpone_start\": True,\n",
    "}\n",
    "activity = model.ShiftAmountActivity(**shift_amount_activity_loading_data)\n",
    "\n",
    "while_data = {\n",
    "    \"env\": my_env,\n",
    "    \"name\": \"while\",\n",
    "    \"registry\": registry,\n",
    "    \"sub_process\": activity,\n",
    "    \"condition_event\": [{\"type\":\"container\", \"concept\": hopper, \"state\":\"full\"}],\n",
    "    \"postpone_start\": False,\n",
    "}\n",
    "while_activity = model.WhileActivity(**while_data)\n"
   ]
  },
  {
   "cell_type": "markdown",
   "metadata": {},
   "source": [
    "## Run simulation"
   ]
  },
  {
   "cell_type": "code",
   "execution_count": 5,
   "metadata": {},
   "outputs": [],
   "source": [
    "my_env.run()"
   ]
  },
  {
   "cell_type": "code",
   "execution_count": 10,
   "metadata": {},
   "outputs": [
    {
     "data": {
      "text/html": [
       "<style  type=\"text/css\" >\n",
       "</style><table id=\"T_dddb8cbc_19c9_11eb_8233_0242ac140002\" ><caption>Log of the while</caption><thead>    <tr>        <th class=\"blank level0\" ></th>        <th class=\"col_heading level0 col0\" >Timestamp</th>        <th class=\"col_heading level0 col1\" >Activity</th>        <th class=\"col_heading level0 col2\" >ActivityState</th>    </tr></thead><tbody>\n",
       "                <tr>\n",
       "                        <th id=\"T_dddb8cbc_19c9_11eb_8233_0242ac140002level0_row0\" class=\"row_heading level0 row0\" >0</th>\n",
       "                        <td id=\"T_dddb8cbc_19c9_11eb_8233_0242ac140002row0_col0\" class=\"data row0 col0\" >1970-01-01 00:00:00</td>\n",
       "                        <td id=\"T_dddb8cbc_19c9_11eb_8233_0242ac140002row0_col1\" class=\"data row0 col1\" >while</td>\n",
       "                        <td id=\"T_dddb8cbc_19c9_11eb_8233_0242ac140002row0_col2\" class=\"data row0 col2\" >START</td>\n",
       "            </tr>\n",
       "            <tr>\n",
       "                        <th id=\"T_dddb8cbc_19c9_11eb_8233_0242ac140002level0_row1\" class=\"row_heading level0 row1\" >1</th>\n",
       "                        <td id=\"T_dddb8cbc_19c9_11eb_8233_0242ac140002row1_col0\" class=\"data row1 col0\" >1970-01-01 00:00:00</td>\n",
       "                        <td id=\"T_dddb8cbc_19c9_11eb_8233_0242ac140002row1_col1\" class=\"data row1 col1\" >while</td>\n",
       "                        <td id=\"T_dddb8cbc_19c9_11eb_8233_0242ac140002row1_col2\" class=\"data row1 col2\" >START</td>\n",
       "            </tr>\n",
       "            <tr>\n",
       "                        <th id=\"T_dddb8cbc_19c9_11eb_8233_0242ac140002level0_row2\" class=\"row_heading level0 row2\" >2</th>\n",
       "                        <td id=\"T_dddb8cbc_19c9_11eb_8233_0242ac140002row2_col0\" class=\"data row2 col0\" >1970-01-01 00:00:00</td>\n",
       "                        <td id=\"T_dddb8cbc_19c9_11eb_8233_0242ac140002row2_col1\" class=\"data row2 col1\" >while</td>\n",
       "                        <td id=\"T_dddb8cbc_19c9_11eb_8233_0242ac140002row2_col2\" class=\"data row2 col2\" >START</td>\n",
       "            </tr>\n",
       "            <tr>\n",
       "                        <th id=\"T_dddb8cbc_19c9_11eb_8233_0242ac140002level0_row3\" class=\"row_heading level0 row3\" >3</th>\n",
       "                        <td id=\"T_dddb8cbc_19c9_11eb_8233_0242ac140002row3_col0\" class=\"data row3 col0\" >1970-01-01 00:00:20</td>\n",
       "                        <td id=\"T_dddb8cbc_19c9_11eb_8233_0242ac140002row3_col1\" class=\"data row3 col1\" >while</td>\n",
       "                        <td id=\"T_dddb8cbc_19c9_11eb_8233_0242ac140002row3_col2\" class=\"data row3 col2\" >STOP</td>\n",
       "            </tr>\n",
       "            <tr>\n",
       "                        <th id=\"T_dddb8cbc_19c9_11eb_8233_0242ac140002level0_row4\" class=\"row_heading level0 row4\" >4</th>\n",
       "                        <td id=\"T_dddb8cbc_19c9_11eb_8233_0242ac140002row4_col0\" class=\"data row4 col0\" >1970-01-01 00:00:20</td>\n",
       "                        <td id=\"T_dddb8cbc_19c9_11eb_8233_0242ac140002row4_col1\" class=\"data row4 col1\" >while</td>\n",
       "                        <td id=\"T_dddb8cbc_19c9_11eb_8233_0242ac140002row4_col2\" class=\"data row4 col2\" >STOP</td>\n",
       "            </tr>\n",
       "            <tr>\n",
       "                        <th id=\"T_dddb8cbc_19c9_11eb_8233_0242ac140002level0_row5\" class=\"row_heading level0 row5\" >5</th>\n",
       "                        <td id=\"T_dddb8cbc_19c9_11eb_8233_0242ac140002row5_col0\" class=\"data row5 col0\" >1970-01-01 00:00:20</td>\n",
       "                        <td id=\"T_dddb8cbc_19c9_11eb_8233_0242ac140002row5_col1\" class=\"data row5 col1\" >while</td>\n",
       "                        <td id=\"T_dddb8cbc_19c9_11eb_8233_0242ac140002row5_col2\" class=\"data row5 col2\" >START</td>\n",
       "            </tr>\n",
       "            <tr>\n",
       "                        <th id=\"T_dddb8cbc_19c9_11eb_8233_0242ac140002level0_row6\" class=\"row_heading level0 row6\" >6</th>\n",
       "                        <td id=\"T_dddb8cbc_19c9_11eb_8233_0242ac140002row6_col0\" class=\"data row6 col0\" >1970-01-01 00:00:20</td>\n",
       "                        <td id=\"T_dddb8cbc_19c9_11eb_8233_0242ac140002row6_col1\" class=\"data row6 col1\" >while</td>\n",
       "                        <td id=\"T_dddb8cbc_19c9_11eb_8233_0242ac140002row6_col2\" class=\"data row6 col2\" >START</td>\n",
       "            </tr>\n",
       "            <tr>\n",
       "                        <th id=\"T_dddb8cbc_19c9_11eb_8233_0242ac140002level0_row7\" class=\"row_heading level0 row7\" >7</th>\n",
       "                        <td id=\"T_dddb8cbc_19c9_11eb_8233_0242ac140002row7_col0\" class=\"data row7 col0\" >1970-01-01 00:00:40</td>\n",
       "                        <td id=\"T_dddb8cbc_19c9_11eb_8233_0242ac140002row7_col1\" class=\"data row7 col1\" >while</td>\n",
       "                        <td id=\"T_dddb8cbc_19c9_11eb_8233_0242ac140002row7_col2\" class=\"data row7 col2\" >STOP</td>\n",
       "            </tr>\n",
       "            <tr>\n",
       "                        <th id=\"T_dddb8cbc_19c9_11eb_8233_0242ac140002level0_row8\" class=\"row_heading level0 row8\" >8</th>\n",
       "                        <td id=\"T_dddb8cbc_19c9_11eb_8233_0242ac140002row8_col0\" class=\"data row8 col0\" >1970-01-01 00:00:40</td>\n",
       "                        <td id=\"T_dddb8cbc_19c9_11eb_8233_0242ac140002row8_col1\" class=\"data row8 col1\" >while</td>\n",
       "                        <td id=\"T_dddb8cbc_19c9_11eb_8233_0242ac140002row8_col2\" class=\"data row8 col2\" >STOP</td>\n",
       "            </tr>\n",
       "            <tr>\n",
       "                        <th id=\"T_dddb8cbc_19c9_11eb_8233_0242ac140002level0_row9\" class=\"row_heading level0 row9\" >9</th>\n",
       "                        <td id=\"T_dddb8cbc_19c9_11eb_8233_0242ac140002row9_col0\" class=\"data row9 col0\" >1970-01-01 00:00:40</td>\n",
       "                        <td id=\"T_dddb8cbc_19c9_11eb_8233_0242ac140002row9_col1\" class=\"data row9 col1\" >while</td>\n",
       "                        <td id=\"T_dddb8cbc_19c9_11eb_8233_0242ac140002row9_col2\" class=\"data row9 col2\" >START</td>\n",
       "            </tr>\n",
       "            <tr>\n",
       "                        <th id=\"T_dddb8cbc_19c9_11eb_8233_0242ac140002level0_row10\" class=\"row_heading level0 row10\" >10</th>\n",
       "                        <td id=\"T_dddb8cbc_19c9_11eb_8233_0242ac140002row10_col0\" class=\"data row10 col0\" >1970-01-01 00:00:40</td>\n",
       "                        <td id=\"T_dddb8cbc_19c9_11eb_8233_0242ac140002row10_col1\" class=\"data row10 col1\" >while</td>\n",
       "                        <td id=\"T_dddb8cbc_19c9_11eb_8233_0242ac140002row10_col2\" class=\"data row10 col2\" >START</td>\n",
       "            </tr>\n",
       "            <tr>\n",
       "                        <th id=\"T_dddb8cbc_19c9_11eb_8233_0242ac140002level0_row11\" class=\"row_heading level0 row11\" >11</th>\n",
       "                        <td id=\"T_dddb8cbc_19c9_11eb_8233_0242ac140002row11_col0\" class=\"data row11 col0\" >1970-01-01 00:01:00</td>\n",
       "                        <td id=\"T_dddb8cbc_19c9_11eb_8233_0242ac140002row11_col1\" class=\"data row11 col1\" >while</td>\n",
       "                        <td id=\"T_dddb8cbc_19c9_11eb_8233_0242ac140002row11_col2\" class=\"data row11 col2\" >STOP</td>\n",
       "            </tr>\n",
       "            <tr>\n",
       "                        <th id=\"T_dddb8cbc_19c9_11eb_8233_0242ac140002level0_row12\" class=\"row_heading level0 row12\" >12</th>\n",
       "                        <td id=\"T_dddb8cbc_19c9_11eb_8233_0242ac140002row12_col0\" class=\"data row12 col0\" >1970-01-01 00:01:00</td>\n",
       "                        <td id=\"T_dddb8cbc_19c9_11eb_8233_0242ac140002row12_col1\" class=\"data row12 col1\" >while</td>\n",
       "                        <td id=\"T_dddb8cbc_19c9_11eb_8233_0242ac140002row12_col2\" class=\"data row12 col2\" >STOP</td>\n",
       "            </tr>\n",
       "            <tr>\n",
       "                        <th id=\"T_dddb8cbc_19c9_11eb_8233_0242ac140002level0_row13\" class=\"row_heading level0 row13\" >13</th>\n",
       "                        <td id=\"T_dddb8cbc_19c9_11eb_8233_0242ac140002row13_col0\" class=\"data row13 col0\" >1970-01-01 00:01:00</td>\n",
       "                        <td id=\"T_dddb8cbc_19c9_11eb_8233_0242ac140002row13_col1\" class=\"data row13 col1\" >while</td>\n",
       "                        <td id=\"T_dddb8cbc_19c9_11eb_8233_0242ac140002row13_col2\" class=\"data row13 col2\" >START</td>\n",
       "            </tr>\n",
       "            <tr>\n",
       "                        <th id=\"T_dddb8cbc_19c9_11eb_8233_0242ac140002level0_row14\" class=\"row_heading level0 row14\" >14</th>\n",
       "                        <td id=\"T_dddb8cbc_19c9_11eb_8233_0242ac140002row14_col0\" class=\"data row14 col0\" >1970-01-01 00:01:00</td>\n",
       "                        <td id=\"T_dddb8cbc_19c9_11eb_8233_0242ac140002row14_col1\" class=\"data row14 col1\" >while</td>\n",
       "                        <td id=\"T_dddb8cbc_19c9_11eb_8233_0242ac140002row14_col2\" class=\"data row14 col2\" >START</td>\n",
       "            </tr>\n",
       "            <tr>\n",
       "                        <th id=\"T_dddb8cbc_19c9_11eb_8233_0242ac140002level0_row15\" class=\"row_heading level0 row15\" >15</th>\n",
       "                        <td id=\"T_dddb8cbc_19c9_11eb_8233_0242ac140002row15_col0\" class=\"data row15 col0\" >1970-01-01 00:01:20</td>\n",
       "                        <td id=\"T_dddb8cbc_19c9_11eb_8233_0242ac140002row15_col1\" class=\"data row15 col1\" >while</td>\n",
       "                        <td id=\"T_dddb8cbc_19c9_11eb_8233_0242ac140002row15_col2\" class=\"data row15 col2\" >STOP</td>\n",
       "            </tr>\n",
       "            <tr>\n",
       "                        <th id=\"T_dddb8cbc_19c9_11eb_8233_0242ac140002level0_row16\" class=\"row_heading level0 row16\" >16</th>\n",
       "                        <td id=\"T_dddb8cbc_19c9_11eb_8233_0242ac140002row16_col0\" class=\"data row16 col0\" >1970-01-01 00:01:20</td>\n",
       "                        <td id=\"T_dddb8cbc_19c9_11eb_8233_0242ac140002row16_col1\" class=\"data row16 col1\" >while</td>\n",
       "                        <td id=\"T_dddb8cbc_19c9_11eb_8233_0242ac140002row16_col2\" class=\"data row16 col2\" >STOP</td>\n",
       "            </tr>\n",
       "            <tr>\n",
       "                        <th id=\"T_dddb8cbc_19c9_11eb_8233_0242ac140002level0_row17\" class=\"row_heading level0 row17\" >17</th>\n",
       "                        <td id=\"T_dddb8cbc_19c9_11eb_8233_0242ac140002row17_col0\" class=\"data row17 col0\" >1970-01-01 00:01:20</td>\n",
       "                        <td id=\"T_dddb8cbc_19c9_11eb_8233_0242ac140002row17_col1\" class=\"data row17 col1\" >while</td>\n",
       "                        <td id=\"T_dddb8cbc_19c9_11eb_8233_0242ac140002row17_col2\" class=\"data row17 col2\" >START</td>\n",
       "            </tr>\n",
       "            <tr>\n",
       "                        <th id=\"T_dddb8cbc_19c9_11eb_8233_0242ac140002level0_row18\" class=\"row_heading level0 row18\" >18</th>\n",
       "                        <td id=\"T_dddb8cbc_19c9_11eb_8233_0242ac140002row18_col0\" class=\"data row18 col0\" >1970-01-01 00:01:20</td>\n",
       "                        <td id=\"T_dddb8cbc_19c9_11eb_8233_0242ac140002row18_col1\" class=\"data row18 col1\" >while</td>\n",
       "                        <td id=\"T_dddb8cbc_19c9_11eb_8233_0242ac140002row18_col2\" class=\"data row18 col2\" >START</td>\n",
       "            </tr>\n",
       "            <tr>\n",
       "                        <th id=\"T_dddb8cbc_19c9_11eb_8233_0242ac140002level0_row19\" class=\"row_heading level0 row19\" >19</th>\n",
       "                        <td id=\"T_dddb8cbc_19c9_11eb_8233_0242ac140002row19_col0\" class=\"data row19 col0\" >1970-01-01 00:01:40</td>\n",
       "                        <td id=\"T_dddb8cbc_19c9_11eb_8233_0242ac140002row19_col1\" class=\"data row19 col1\" >while</td>\n",
       "                        <td id=\"T_dddb8cbc_19c9_11eb_8233_0242ac140002row19_col2\" class=\"data row19 col2\" >STOP</td>\n",
       "            </tr>\n",
       "            <tr>\n",
       "                        <th id=\"T_dddb8cbc_19c9_11eb_8233_0242ac140002level0_row20\" class=\"row_heading level0 row20\" >20</th>\n",
       "                        <td id=\"T_dddb8cbc_19c9_11eb_8233_0242ac140002row20_col0\" class=\"data row20 col0\" >1970-01-01 00:01:40</td>\n",
       "                        <td id=\"T_dddb8cbc_19c9_11eb_8233_0242ac140002row20_col1\" class=\"data row20 col1\" >while</td>\n",
       "                        <td id=\"T_dddb8cbc_19c9_11eb_8233_0242ac140002row20_col2\" class=\"data row20 col2\" >STOP</td>\n",
       "            </tr>\n",
       "            <tr>\n",
       "                        <th id=\"T_dddb8cbc_19c9_11eb_8233_0242ac140002level0_row21\" class=\"row_heading level0 row21\" >21</th>\n",
       "                        <td id=\"T_dddb8cbc_19c9_11eb_8233_0242ac140002row21_col0\" class=\"data row21 col0\" >1970-01-01 00:01:40</td>\n",
       "                        <td id=\"T_dddb8cbc_19c9_11eb_8233_0242ac140002row21_col1\" class=\"data row21 col1\" >while</td>\n",
       "                        <td id=\"T_dddb8cbc_19c9_11eb_8233_0242ac140002row21_col2\" class=\"data row21 col2\" >STOP</td>\n",
       "            </tr>\n",
       "    </tbody></table>"
      ],
      "text/plain": [
       "<pandas.io.formats.style.Styler at 0x7f01fd1944a8>"
      ]
     },
     "metadata": {},
     "output_type": "display_data"
    }
   ],
   "source": [
    "display(plot.get_log_dataframe(while_activity, [activity, while_activity]))"
   ]
  },
  {
   "cell_type": "markdown",
   "metadata": {},
   "source": [
    "The resulting levels of objects in the hopper and the from_site are requested below. "
   ]
  },
  {
   "cell_type": "code",
   "execution_count": 11,
   "metadata": {},
   "outputs": [
    {
     "data": {
      "text/plain": [
       "5.0"
      ]
     },
     "execution_count": 11,
     "metadata": {},
     "output_type": "execute_result"
    }
   ],
   "source": [
    "hopper.container.get_level()"
   ]
  },
  {
   "cell_type": "code",
   "execution_count": 12,
   "metadata": {},
   "outputs": [
    {
     "data": {
      "text/plain": [
       "5.0"
      ]
     },
     "execution_count": 12,
     "metadata": {},
     "output_type": "execute_result"
    }
   ],
   "source": [
    "from_site.container.get_level()"
   ]
  },
  {
   "cell_type": "code",
   "execution_count": null,
   "metadata": {},
   "outputs": [],
   "source": []
  },
  {
   "cell_type": "code",
   "execution_count": null,
   "metadata": {},
   "outputs": [],
   "source": []
  },
  {
   "cell_type": "code",
   "execution_count": null,
   "metadata": {},
   "outputs": [],
   "source": []
  }
 ],
 "metadata": {
  "kernelspec": {
   "display_name": "Python 3",
   "language": "python",
   "name": "python3"
  },
  "language_info": {
   "codemirror_mode": {
    "name": "ipython",
    "version": 3
   },
   "file_extension": ".py",
   "mimetype": "text/x-python",
   "name": "python",
   "nbconvert_exporter": "python",
   "pygments_lexer": "ipython3",
   "version": "3.7.3"
  }
 },
 "nbformat": 4,
 "nbformat_minor": 2
}
