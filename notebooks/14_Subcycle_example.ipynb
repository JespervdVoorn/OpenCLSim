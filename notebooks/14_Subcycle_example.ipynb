{
 "cells": [
  {
   "cell_type": "markdown",
   "metadata": {},
   "source": [
    "# Demo Subcyle example\n",
    "This notebook demonstartes the capabilities comparable to current cycle sheets without weather. It uses MultiStores to represent containers for MPs and TPs. "
   ]
  },
  {
   "cell_type": "code",
   "execution_count": 1,
   "metadata": {},
   "outputs": [],
   "source": [
    "import datetime, time\n",
    "import simpy\n",
    "\n",
    "import shapely.geometry\n",
    "\n",
    "\n",
    "import pandas as pd\n",
    "import openclsim.core as core\n",
    "import openclsim.model as model\n",
    "import openclsim.plot as plot\n",
    "\n",
    "import uuid\n",
    "\n",
    "# setup environment\n",
    "simulation_start = 0\n",
    "my_env = simpy.Environment(initial_time=simulation_start)\n",
    "registry = {}\n",
    "keep_resources = {}"
   ]
  },
  {
   "cell_type": "markdown",
   "metadata": {},
   "source": [
    "## Definition of Site"
   ]
  },
  {
   "cell_type": "code",
   "execution_count": 2,
   "metadata": {},
   "outputs": [],
   "source": [
    "# The generic site class\n",
    "Site = type(\n",
    "    \"Site\",\n",
    "    (\n",
    "        core.Identifiable,  # Give it a name\n",
    "        core.Log,  # Allow logging of all discrete events\n",
    "        core.Locatable,  # Add coordinates to extract distance information and visualize\n",
    "        core.HasMultiContainer,  # Add information on the material available at the site\n",
    "        core.HasResource,\n",
    "    ),  # Add information on serving equipment\n",
    "    {},\n",
    ")  # The dictionary is empty because the site type is generic\n",
    "\n",
    "# Information on the extraction site - the \"from site\" - the \"win locatie\"\n",
    "location_from_site = shapely.geometry.Point(4.18055556, 52.18664444)  # lon, lat\n",
    "\n",
    "data_from_site = {\n",
    "    \"env\": my_env,  # The simpy environment defined in the first cel\n",
    "    \"name\": \"Winlocatie\",  # The name of the site\n",
    "    \"ID\": str(uuid.uuid4()),  # For logging purposes\n",
    "    \"geometry\": location_from_site,  # The coordinates of the project site\n",
    "    \"store_capacity\": 4,\n",
    "    \"initials\": [\n",
    "        {\"id\": \"MP\", \"level\": 5, \"capacity\": 10},\n",
    "        {\"id\": \"TP\", \"level\": 5, \"capacity\": 10},\n",
    "    ],\n",
    "}  # The actual volume of the site\n",
    "\n",
    "# Information on the dumping site - the \"to site\" - the \"dump locatie\"\n",
    "location_to_site = shapely.geometry.Point(4.25222222, 52.11428333)  # lon, lat\n",
    "\n",
    "data_to_site = {\n",
    "    \"env\": my_env,  # The simpy environment defined in the first cel\n",
    "    \"name\": \"Dumplocatie\",  # The name of the site\n",
    "    \"ID\": str(uuid.uuid4()),  # For logging purposes\n",
    "    \"geometry\": location_to_site,  # The coordinates of the project site\n",
    "    \"store_capacity\": 4,\n",
    "    \"initials\": [\n",
    "        {\"id\": \"MP\", \"level\": 0, \"capacity\": 5},\n",
    "        {\"id\": \"TP\", \"level\": 0, \"capacity\": 5},\n",
    "    ],\n",
    "}  # The actual volume of the site (empty of course)\n",
    "\n",
    "# The two objects used for the simulation\n",
    "from_site = Site(**data_from_site)\n",
    "to_site = Site(**data_to_site)"
   ]
  },
  {
   "cell_type": "markdown",
   "metadata": {},
   "source": [
    "## Definition of Vessels"
   ]
  },
  {
   "cell_type": "code",
   "execution_count": 3,
   "metadata": {},
   "outputs": [],
   "source": [
    "TransportProcessingResource = type(\n",
    "    \"TransportProcessingResource\",\n",
    "    (\n",
    "        core.Identifiable,  # Give it a name\n",
    "        core.Log,  # Allow logging of all discrete events\n",
    "        core.MultiContainerDependentMovable,  # A moving container, so capacity and location\n",
    "        core.Processor,  # Allow for loading and unloading\n",
    "        core.HasResource,  # Add information on serving equipment\n",
    "        \n",
    "        core.LoadingFunction,  # Add a loading function\n",
    "        core.UnloadingFunction,  # Add an unloading function\n",
    "        # SiteRegistry,\n",
    "    ),\n",
    "    {\"key\": \"MultiStoreHopper\"},\n",
    ")\n",
    "\n",
    "# print(SiteRegistry.inspect(\"MultiStoreHopper\"))\n",
    "# For more realistic simulation you might want to have speed dependent on the volume carried by the vessel\n",
    "def compute_v_provider(v_empty, v_full):\n",
    "    return lambda x: 10\n",
    "\n",
    "# TSHD variables\n",
    "data_hopper = {\n",
    "    \"env\": my_env,  # The simpy environment\n",
    "    \"name\": \"Hopper 01\",  # Name\n",
    "    \"ID\": str(uuid.uuid4()),  # For logging purposes\n",
    "    \"geometry\": location_from_site,  # It starts at the \"from site\"\n",
    "    \"loading_rate\": 1,  # Loading rate\n",
    "    \"unloading_rate\": 1,  # Unloading rate\n",
    "    \"store_capacity\": 4,\n",
    "    \"initials\": [\n",
    "        {\"id\": \"MP\", \"level\": 0, \"capacity\": 2},\n",
    "        {\"id\": \"TP\", \"level\": 0, \"capacity\": 2},\n",
    "    ],  # Capacity of the hopper - \"Beunvolume\"\n",
    "    \"compute_v\": compute_v_provider(5, 4.5),  # Variable speed\n",
    "}\n",
    "\n",
    "hopper = TransportProcessingResource(**data_hopper)"
   ]
  },
  {
   "cell_type": "markdown",
   "metadata": {},
   "source": [
    "## Definition of process\n",
    "The process is introduced in three parts:\n",
    "- Loading process\n",
    "- Unloading process\n",
    "- High level process\n",
    "\n",
    "### Definition of Loading process\n",
    "The loging process consists of simulation of a cyclesheet. There are some preparatory actions, followed by a loop to load MPs, then some changes on the crane configuration before the TPs are loaded in a loop again. "
   ]
  },
  {
   "cell_type": "code",
   "execution_count": 4,
   "metadata": {},
   "outputs": [],
   "source": [
    "# definition of loading\n",
    "loading = []\n",
    "\n",
    "basic_activity_data1= {\"env\"  : my_env,\n",
    "                      \"name\" : \"MP loading hook on rigging\",\n",
    "                      \"registry\": registry,\n",
    "                      \"ID\":str(uuid.uuid4()),\n",
    "                      \"duration\" : 45,\n",
    "                      \"additional_logs\": [hopper],\n",
    "                      \"postpone_start\": True,\n",
    "                      }\n",
    "loading.append(model.BasicActivity(**basic_activity_data1))\n",
    "\n",
    "shift_amount_loading_data = {\n",
    "    \"env\": my_env,  # The simpy environment defined in the first cel\n",
    "    \"name\": \"Transfer MP\",  # We are moving soil\n",
    "    \"ID\": str(uuid.uuid4()),  # For logging purposes\n",
    "    \"registry\": registry,\n",
    "    \"processor\": hopper,\n",
    "    \"origin\": from_site,\n",
    "    \"destination\": hopper,\n",
    "    \"amount\": 1,\n",
    "    \"duration\": 120,\n",
    "    \"id_\": \"MP\",\n",
    "    \"postpone_start\": True,\n",
    "}\n",
    "activity_mp_loading = model.ShiftAmountActivity(**shift_amount_loading_data)\n",
    "activity_mp_loading_seq_data = {\n",
    "    \"env\": my_env,\n",
    "    \"name\": \"loading MP seq\",\n",
    "    \"ID\": str(uuid.uuid4()),  # For logging purposes\n",
    "    \"registry\": registry,\n",
    "    \"sub_processes\": [activity_mp_loading],\n",
    "    \"postpone_start\": True,\n",
    "}\n",
    "activity_mp_loading_seq = model.SequentialActivity(**activity_mp_loading_seq_data)\n",
    "while_data = {\n",
    "    \"env\": my_env,  # The simpy environment defined in the first cel\n",
    "    \"name\": \"loading MP while\",  # We are moving soil\n",
    "    \"ID\": str(uuid.uuid4()),  # For logging purposes\n",
    "    \"registry\": registry,\n",
    "    \"sub_process\": activity_mp_loading_seq,\n",
    "    \"condition_event\": [{\"or\":[{\"type\":\"container\", \"concept\": hopper, \"state\":\"full\", \"id_\":\"MP\"},\n",
    "                                {\"type\":\"container\", \"concept\": from_site, \"state\":\"empty\", \"id_\":\"MP\"}]\n",
    "                        }],\n",
    "    \"postpone_start\": True,\n",
    "}\n",
    "loading.append(model.WhileActivity(**while_data))\n",
    "\n",
    "basic_activity_data2= {\"env\"  : my_env,\n",
    "                      \"name\" : \"MP loading hook off rigging\",\n",
    "                      \"registry\": registry,\n",
    "                      \"ID\":str(uuid.uuid4()),  # For logging purposes\n",
    "                      \"duration\" : 15,\n",
    "                      \"additional_logs\": [hopper],\n",
    "                      \"postpone_start\": True,\n",
    "                      }\n",
    "loading.append(model.BasicActivity(**basic_activity_data2))\n",
    "\n",
    "basic_activity_data3= {\"env\"  : my_env,\n",
    "                      \"name\" : \"TP loading hook on rigging\",\n",
    "                      \"registry\": registry,\n",
    "                      \"ID\":str(uuid.uuid4()),  # For logging purposes\n",
    "                      \"duration\" : 30,\n",
    "                      \"additional_logs\": [hopper],\n",
    "                      \"postpone_start\": True,\n",
    "                      }\n",
    "loading.append(model.BasicActivity(**basic_activity_data3))\n",
    "\n",
    "shift_amount_loading_data2 = {\n",
    "    \"env\": my_env,  # The simpy environment defined in the first cel\n",
    "    \"name\": \"Transfer TP\",  # We are moving soil\n",
    "    \"registry\": registry,\n",
    "    \"processor\": hopper,\n",
    "    \"origin\": from_site,\n",
    "    \"destination\": hopper,\n",
    "    \"amount\": 1,\n",
    "    \"duration\": 10,\n",
    "    \"id_\": \"TP\",\n",
    "    \"postpone_start\": True,\n",
    "}\n",
    "activity_tp_loading = model.ShiftAmountActivity(**shift_amount_loading_data2)\n",
    "activity_tp_loading_seq_data = {\n",
    "    \"env\": my_env,\n",
    "    \"name\": \"loading MP seq\",\n",
    "    \"ID\": str(uuid.uuid4()),  # For logging purposes\n",
    "    \"registry\": registry,\n",
    "    \"sub_processes\": [activity_tp_loading],\n",
    "    \"postpone_start\": True,\n",
    "}\n",
    "activity_tp_loading_seq = model.SequentialActivity(**activity_tp_loading_seq_data)\n",
    "while_data2 = {\n",
    "    \"env\": my_env,  # The simpy environment defined in the first cel\n",
    "    \"name\": \"loading MP while\",  # We are moving soil\n",
    "    \"ID\": str(uuid.uuid4()),  # For logging purposes\n",
    "    \"registry\": registry,\n",
    "    \"sub_process\": activity_tp_loading_seq,\n",
    "    \"condition_event\": [{\"or\":[{\"type\":\"container\", \"concept\": hopper, \"state\":\"full\", \"id_\":\"TP\"},\n",
    "                                {\"type\":\"container\", \"concept\": from_site, \"state\":\"empty\", \"id_\":\"TP\"}]\n",
    "                          }],\n",
    "    #\"condition_event\": [{\"type\":\"container\", \"concept\": hopper, \"state\":\"full\", \"id_\":\"TP\"}],\n",
    "    \"postpone_start\": True,\n",
    "}\n",
    "loading.append(model.WhileActivity(**while_data2))\n",
    "\n",
    "basic_activity_data4= {\"env\"  : my_env,\n",
    "                      \"name\" : \"TP loading hook off rigging\",\n",
    "                      \"registry\": registry,\n",
    "                      \"ID\":str(uuid.uuid4()),  # For logging purposes\n",
    "                      \"duration\" : 15,\n",
    "                      \"additional_logs\": [hopper],\n",
    "                      \"postpone_start\": True,\n",
    "                      }\n",
    "loading.append(model.BasicActivity(**basic_activity_data4))\n",
    "\n",
    "sequential_activity_data1 = {\n",
    "    \"env\": my_env,\n",
    "    \"name\": \"loading\",\n",
    "    \"ID\": str(uuid.uuid4()),  # For logging purposes\"registry\": registry,\n",
    "    \"registry\": registry,\n",
    "    \"sub_processes\": loading,\n",
    "    \"postpone_start\": True,\n",
    "}\n",
    "\n",
    "loading_activity = model.SequentialActivity(**sequential_activity_data1)\n"
   ]
  },
  {
   "cell_type": "markdown",
   "metadata": {},
   "source": [
    "### Definition of Unloading\n",
    "The unloading consists of unloading an MP and a TP with some auxilary actions."
   ]
  },
  {
   "cell_type": "code",
   "execution_count": 5,
   "metadata": {},
   "outputs": [],
   "source": [
    "# definition of unloading\n",
    "#\n",
    "unloading = []\n",
    "move_activity_transit_data = {\n",
    "    \"env\": my_env,  # The simpy environment defined in the first cel\n",
    "    \"name\": \"sailing transit\",  # We are moving soil\n",
    "    \"ID\": str(uuid.uuid4()),  # For logging purposes\n",
    "    \"registry\": registry,\n",
    "    \"mover\": hopper,\n",
    "    \"destination\": to_site,\n",
    "    \"postpone_start\": True,\n",
    "}\n",
    "unloading.append(model.MoveActivity(**move_activity_transit_data))\n",
    "basic_activity_data20= {\"env\"  : my_env,\n",
    "                      \"name\" : \"MP preparing for installation\",\n",
    "                      \"registry\": registry,\n",
    "                      \"ID\":str(uuid.uuid4()),  # For logging purposes\n",
    "                      \"duration\" : 45,\n",
    "                      \"additional_logs\": [hopper],\n",
    "                      \"postpone_start\": True,\n",
    "                      }\n",
    "unloading.append(model.BasicActivity(**basic_activity_data20))\n",
    "shift_amount_unloading_data = {\n",
    "    \"env\": my_env,  # The simpy environment defined in the first cel\n",
    "    \"name\": \"Install MP\",  # We are moving soil\n",
    "    \"ID\": str(uuid.uuid4()),  # For logging purposes\n",
    "    \"registry\": registry,\n",
    "    \"processor\": hopper,\n",
    "    \"origin\": hopper,\n",
    "    \"destination\": to_site,\n",
    "    \"amount\": 1,\n",
    "    \"duration\": 120,\n",
    "    \"id_\": \"MP\",\n",
    "    \"postpone_start\": True,\n",
    "}\n",
    "unloading.append(model.ShiftAmountActivity(**shift_amount_unloading_data))\n",
    "basic_activity_data21= {\"env\"  : my_env,\n",
    "                      \"name\" : \"Installing MP\",\n",
    "                      \"registry\": registry,\n",
    "                      \"ID\":str(uuid.uuid4()),  # For logging purposes\n",
    "                      \"duration\" : 45,\n",
    "                      \"additional_logs\": [hopper],\n",
    "                      \"postpone_start\": True,\n",
    "                      }\n",
    "unloading.append(model.BasicActivity(**basic_activity_data21))\n",
    "basic_activity_data22= {\"env\"  : my_env,\n",
    "                      \"name\" : \"Prepare TP installation\",\n",
    "                      \"registry\": registry,\n",
    "                      \"ID\":str(uuid.uuid4()),  # For logging purposes\n",
    "                      \"duration\" : 45,\n",
    "                      \"additional_logs\": [hopper],\n",
    "                      \"postpone_start\": True,\n",
    "                      }\n",
    "unloading.append(model.BasicActivity(**basic_activity_data22))\n",
    "\n",
    "shift_amount_unloading_data2 = {\n",
    "    \"env\": my_env,  # The simpy environment defined in the first cel\n",
    "    \"name\": \"Install TP\",  # We are moving soil\n",
    "    \"ID\": str(uuid.uuid4()),  # For logging purposes\n",
    "    \"registry\": registry,\n",
    "    \"processor\": hopper,\n",
    "    \"origin\": hopper,\n",
    "    \"destination\": to_site,\n",
    "    \"amount\": 1,\n",
    "    \"duration\": 120,\n",
    "    \"id_\": \"TP\",\n",
    "    \"postpone_start\": True,\n",
    "}\n",
    "unloading.append(model.ShiftAmountActivity(**shift_amount_unloading_data2))\n",
    "\n",
    "basic_activity_data23= {\"env\"  : my_env,\n",
    "                      \"name\" : \"TP finalize installation\",\n",
    "                      \"registry\": registry,\n",
    "                      \"ID\":str(uuid.uuid4()),  # For logging purposes\n",
    "                      \"duration\" : 45,\n",
    "                      \"additional_logs\": [hopper],\n",
    "                      \"postpone_start\": True,\n",
    "                      }\n",
    "unloading.append(model.BasicActivity(**basic_activity_data23))\n",
    "\n",
    "sequential_activity_data2 = {\n",
    "    \"env\": my_env,\n",
    "    \"name\": \"unloading\",\n",
    "    \"ID\": str(uuid.uuid4()),  # For logging purposes\n",
    "    \"registry\": registry,\n",
    "    \"sub_processes\": unloading,\n",
    "    \"postpone_start\": True,\n",
    "}\n",
    "sequential_activity = model.SequentialActivity(**sequential_activity_data2)\n",
    "\n",
    "while_data = {\n",
    "    \"env\": my_env,  # The simpy environment defined in the first cel\n",
    "    \"name\": \"unloading while\",  # We are moving soil\n",
    "    \"ID\":str(uuid.uuid4()),  # For logging purposes\n",
    "    \"registry\": registry,\n",
    "    \"sub_process\": sequential_activity,\n",
    "    \"condition_event\": [{\"or\":[{\"type\":\"container\", \"concept\": to_site, \"state\":\"full\", \"id_\":\"TP\"},\n",
    "                                {\"type\":\"container\", \"concept\": hopper, \"state\":\"empty\", \"id_\":\"TP\"}]\n",
    "                          }],\n",
    "    #\"condition_event\": [{\"type\":\"container\", \"concept\": hopper, \"state\":\"empty\", \"id_\":\"TP\"}],\n",
    "    \"postpone_start\": True,\n",
    "}\n",
    "unloading_activity = model.WhileActivity(**while_data)"
   ]
  },
  {
   "cell_type": "markdown",
   "metadata": {},
   "source": [
    "### Definition of High level Process\n",
    "The high level process is based on the following steps:\n",
    "- While the destination is not full do:\n",
    "    - Sail empty\n",
    "    - Loading\n",
    "    - Sail full\n",
    "    - Unloading"
   ]
  },
  {
   "cell_type": "code",
   "execution_count": 6,
   "metadata": {},
   "outputs": [],
   "source": [
    "# definition of main cycle\n",
    "\n",
    "single_run = []\n",
    "\n",
    "move_activity_to_harbor_data = {\n",
    "    \"env\": my_env,  # The simpy environment defined in the first cel\n",
    "    \"name\": \"sailing empty\",  # We are moving soil\n",
    "    \"ID\": str(uuid.uuid4()),  # For logging purposes\n",
    "    \"registry\": registry,\n",
    "    \"mover\": hopper,\n",
    "    \"destination\": from_site,\n",
    "    \"postpone_start\": True,\n",
    "}\n",
    "single_run.append(model.MoveActivity(**move_activity_to_harbor_data))\n",
    "\n",
    "single_run.append(loading_activity)\n",
    "\n",
    "move_activity_to_site_data = {\n",
    "    \"env\": my_env,  # The simpy environment defined in the first cel\n",
    "    \"name\": \"sailing filled\",  # We are moving soil\n",
    "    \"ID\": str(uuid.uuid4()),  # For logging purposes\n",
    "    \"registry\": registry,\n",
    "    \"mover\": hopper,\n",
    "    \"destination\": to_site,\n",
    "    \"postpone_start\": True,\n",
    "}\n",
    "single_run.append(model.MoveActivity(**move_activity_to_site_data))\n",
    "\n",
    "single_run.append(unloading_activity)\n",
    "\n",
    "sequential_activity_data3 = {\n",
    "    \"env\": my_env,\n",
    "    \"name\": \"Single run process\",\n",
    "    \"ID\": str(uuid.uuid4()),  # For logging purposes\n",
    "    \"registry\": registry,\n",
    "    \"sub_processes\": single_run,\n",
    "    \"postpone_start\": True,\n",
    "}\n",
    "activity = model.SequentialActivity(**sequential_activity_data3)\n",
    "\n",
    "while_data = {\n",
    "    \"env\": my_env,  # The simpy environment defined in the first cel\n",
    "    \"name\": \"single run while\",  # We are moving soil\n",
    "    \"ID\": str(uuid.uuid4()),  # For logging purposes\n",
    "    \"registry\": registry,\n",
    "    \"sub_process\": activity,\n",
    "    \"condition_event\": [{\"type\":\"container\", \"concept\": to_site, \"state\":\"full\", \"id_\":\"TP\"}],\n",
    "    \"postpone_start\": False,\n",
    "}\n",
    "while_activity = model.WhileActivity(**while_data)\n"
   ]
  },
  {
   "cell_type": "code",
   "execution_count": 7,
   "metadata": {
    "tags": [
     "outputPrepend"
    ]
   },
   "outputs": [],
   "source": [
    "my_env.run()"
   ]
  },
  {
   "cell_type": "code",
   "execution_count": 8,
   "metadata": {},
   "outputs": [
    {
     "data": {
      "text/html": [
       "        <script type=\"text/javascript\">\n",
       "        window.PlotlyConfig = {MathJaxConfig: 'local'};\n",
       "        if (window.MathJax) {MathJax.Hub.Config({SVG: {font: \"STIX-Web\"}});}\n",
       "        if (typeof require !== 'undefined') {\n",
       "        require.undef(\"plotly\");\n",
       "        requirejs.config({\n",
       "            paths: {\n",
       "                'plotly': ['https://cdn.plot.ly/plotly-latest.min']\n",
       "            }\n",
       "        });\n",
       "        require(['plotly'], function(Plotly) {\n",
       "            window._Plotly = Plotly;\n",
       "        });\n",
       "        }\n",
       "        </script>\n",
       "        "
      ]
     },
     "metadata": {},
     "output_type": "display_data"
    },
    {
     "data": {
      "application/vnd.plotly.v1+json": {
       "config": {
        "linkText": "Export to plot.ly",
        "plotlyServerURL": "https://plot.ly",
        "showLink": false
       },
       "data": [
        {
         "connectgaps": false,
         "hoverinfo": "y+name",
         "line": {
          "color": "rgb(179,198,235)",
          "width": 10
         },
         "mode": "lines",
         "name": "ebe6d31d-22cf-4e71-9987-aaeec9a097b1",
         "type": "scatter",
         "x": [
          "1970-01-01T00:04:45",
          "1970-01-01T00:04:45",
          "1970-01-01T00:05:00",
          "1970-01-01T00:05:00",
          "1970-01-01T00:05:00",
          "1970-01-01T00:56:15.649183",
          "1970-01-01T00:56:15.649183",
          "1970-01-01T00:56:30.649183",
          "1970-01-01T00:56:30.649183",
          "1970-01-01T00:56:30.649183",
          "1970-01-01T01:45:46.298365",
          "1970-01-01T01:45:46.298365",
          "1970-01-01T01:46:01.298365",
          "1970-01-01T01:46:01.298365",
          "1970-01-01T01:46:01.298365"
         ],
         "y": [
          "Hopper 01",
          "Hopper 01",
          "Hopper 01",
          "Hopper 01",
          null,
          "Hopper 01",
          "Hopper 01",
          "Hopper 01",
          "Hopper 01",
          null,
          "Hopper 01",
          "Hopper 01",
          "Hopper 01",
          "Hopper 01",
          null
         ]
        },
        {
         "connectgaps": false,
         "hoverinfo": "y+name",
         "line": {
          "color": "rgb(192,211,248)",
          "width": 10
         },
         "mode": "lines",
         "name": "6029ecc9-e8e4-49df-b69d-3fa85172dea5",
         "type": "scatter",
         "x": [
          "1970-01-01T00:24:32.824591",
          "1970-01-01T00:24:32.824591",
          "1970-01-01T00:25:17.824591",
          "1970-01-01T00:25:17.824591",
          "1970-01-01T00:25:17.824591",
          "1970-01-01T00:31:32.824591",
          "1970-01-01T00:31:32.824591",
          "1970-01-01T00:32:17.824591",
          "1970-01-01T00:32:17.824591",
          "1970-01-01T00:32:17.824591",
          "1970-01-01T01:16:03.473774",
          "1970-01-01T01:16:03.473774",
          "1970-01-01T01:16:48.473774",
          "1970-01-01T01:16:48.473774",
          "1970-01-01T01:16:48.473774",
          "1970-01-01T01:23:03.473774",
          "1970-01-01T01:23:03.473774",
          "1970-01-01T01:23:48.473774",
          "1970-01-01T01:23:48.473774",
          "1970-01-01T01:23:48.473774",
          "1970-01-01T02:05:24.122956",
          "1970-01-01T02:05:24.122956",
          "1970-01-01T02:06:09.122956",
          "1970-01-01T02:06:09.122956",
          "1970-01-01T02:06:09.122956"
         ],
         "y": [
          "Hopper 01",
          "Hopper 01",
          "Hopper 01",
          "Hopper 01",
          null,
          "Hopper 01",
          "Hopper 01",
          "Hopper 01",
          "Hopper 01",
          null,
          "Hopper 01",
          "Hopper 01",
          "Hopper 01",
          "Hopper 01",
          null,
          "Hopper 01",
          "Hopper 01",
          "Hopper 01",
          "Hopper 01",
          null,
          "Hopper 01",
          "Hopper 01",
          "Hopper 01",
          "Hopper 01",
          null
         ]
        },
        {
         "connectgaps": false,
         "hoverinfo": "y+name",
         "line": {
          "color": "rgb(205,224,5)",
          "width": 10
         },
         "mode": "lines",
         "name": "cc163f39-f3f1-4626-886a-ba1beb1640fd",
         "type": "scatter",
         "x": [
          "1970-01-01T00:21:47.824591",
          "1970-01-01T00:21:47.824591",
          "1970-01-01T00:21:47.824591",
          "1970-01-01T00:21:47.824591",
          "1970-01-01T00:21:47.824591",
          "1970-01-01T00:28:47.824591",
          "1970-01-01T00:28:47.824591",
          "1970-01-01T00:28:47.824591",
          "1970-01-01T00:28:47.824591",
          "1970-01-01T00:28:47.824591",
          "1970-01-01T01:13:18.473774",
          "1970-01-01T01:13:18.473774",
          "1970-01-01T01:13:18.473774",
          "1970-01-01T01:13:18.473774",
          "1970-01-01T01:13:18.473774",
          "1970-01-01T01:20:18.473774",
          "1970-01-01T01:20:18.473774",
          "1970-01-01T01:20:18.473774",
          "1970-01-01T01:20:18.473774",
          "1970-01-01T01:20:18.473774",
          "1970-01-01T02:02:39.122956",
          "1970-01-01T02:02:39.122956",
          "1970-01-01T02:02:39.122956",
          "1970-01-01T02:02:39.122956",
          "1970-01-01T02:02:39.122956"
         ],
         "y": [
          "Hopper 01",
          "Hopper 01",
          "Hopper 01",
          "Hopper 01",
          null,
          "Hopper 01",
          "Hopper 01",
          "Hopper 01",
          "Hopper 01",
          null,
          "Hopper 01",
          "Hopper 01",
          "Hopper 01",
          "Hopper 01",
          null,
          "Hopper 01",
          "Hopper 01",
          "Hopper 01",
          "Hopper 01",
          null,
          "Hopper 01",
          "Hopper 01",
          "Hopper 01",
          "Hopper 01",
          null
         ]
        },
        {
         "connectgaps": false,
         "hoverinfo": "y+name",
         "line": {
          "color": "rgb(218,237,18)",
          "width": 10
         },
         "mode": "lines",
         "name": "95f1a962-feae-472f-9a1b-1b078e515a50",
         "type": "scatter",
         "x": [
          0,
          0,
          "1970-01-01T00:00:00",
          "1970-01-01T00:00:00",
          "1970-01-01T00:00:00",
          "1970-01-01T00:35:47.824591",
          "1970-01-01T00:35:47.824591",
          "1970-01-01T00:51:30.649183",
          "1970-01-01T00:51:30.649183",
          "1970-01-01T00:51:30.649183",
          "1970-01-01T01:27:18.473774",
          "1970-01-01T01:27:18.473774",
          "1970-01-01T01:43:01.298365",
          "1970-01-01T01:43:01.298365",
          "1970-01-01T01:43:01.298365"
         ],
         "y": [
          "Hopper 01",
          "Hopper 01",
          "Hopper 01",
          "Hopper 01",
          null,
          "Hopper 01",
          "Hopper 01",
          "Hopper 01",
          "Hopper 01",
          null,
          "Hopper 01",
          "Hopper 01",
          "Hopper 01",
          "Hopper 01",
          null
         ]
        },
        {
         "connectgaps": false,
         "hoverinfo": "y+name",
         "line": {
          "color": "rgb(231,250,31)",
          "width": 10
         },
         "mode": "lines",
         "name": "533345f1-4ec8-4055-9cd3-ff8b5e311086",
         "type": "scatter",
         "x": [
          "1970-01-01T00:22:32.824591",
          "1970-01-01T00:22:32.824591",
          "1970-01-01T00:24:32.824591",
          "1970-01-01T00:24:32.824591",
          "1970-01-01T00:24:32.824591",
          "1970-01-01T00:22:32.824591",
          "1970-01-01T00:22:32.824591",
          "1970-01-01T00:24:32.824591",
          "1970-01-01T00:24:32.824591",
          "1970-01-01T00:24:32.824591",
          "1970-01-01T00:29:32.824591",
          "1970-01-01T00:29:32.824591",
          "1970-01-01T00:31:32.824591",
          "1970-01-01T00:31:32.824591",
          "1970-01-01T00:31:32.824591",
          "1970-01-01T00:29:32.824591",
          "1970-01-01T00:29:32.824591",
          "1970-01-01T00:31:32.824591",
          "1970-01-01T00:31:32.824591",
          "1970-01-01T00:31:32.824591",
          "1970-01-01T01:14:03.473774",
          "1970-01-01T01:14:03.473774",
          "1970-01-01T01:16:03.473774",
          "1970-01-01T01:16:03.473774",
          "1970-01-01T01:16:03.473774",
          "1970-01-01T01:14:03.473774",
          "1970-01-01T01:14:03.473774",
          "1970-01-01T01:16:03.473774",
          "1970-01-01T01:16:03.473774",
          "1970-01-01T01:16:03.473774",
          "1970-01-01T01:21:03.473774",
          "1970-01-01T01:21:03.473774",
          "1970-01-01T01:23:03.473774",
          "1970-01-01T01:23:03.473774",
          "1970-01-01T01:23:03.473774",
          "1970-01-01T01:21:03.473774",
          "1970-01-01T01:21:03.473774",
          "1970-01-01T01:23:03.473774",
          "1970-01-01T01:23:03.473774",
          "1970-01-01T01:23:03.473774",
          "1970-01-01T02:03:24.122956",
          "1970-01-01T02:03:24.122956",
          "1970-01-01T02:05:24.122956",
          "1970-01-01T02:05:24.122956",
          "1970-01-01T02:05:24.122956",
          "1970-01-01T02:03:24.122956",
          "1970-01-01T02:03:24.122956",
          "1970-01-01T02:05:24.122956",
          "1970-01-01T02:05:24.122956",
          "1970-01-01T02:05:24.122956",
          "1970-01-01T00:22:32.824591",
          "1970-01-01T00:22:32.824591",
          "1970-01-01T00:24:32.824591",
          "1970-01-01T00:24:32.824591",
          "1970-01-01T00:24:32.824591",
          "1970-01-01T00:29:32.824591",
          "1970-01-01T00:29:32.824591",
          "1970-01-01T00:31:32.824591",
          "1970-01-01T00:31:32.824591",
          "1970-01-01T00:31:32.824591",
          "1970-01-01T01:14:03.473774",
          "1970-01-01T01:14:03.473774",
          "1970-01-01T01:16:03.473774",
          "1970-01-01T01:16:03.473774",
          "1970-01-01T01:16:03.473774",
          "1970-01-01T01:21:03.473774",
          "1970-01-01T01:21:03.473774",
          "1970-01-01T01:23:03.473774",
          "1970-01-01T01:23:03.473774",
          "1970-01-01T01:23:03.473774",
          "1970-01-01T02:03:24.122956",
          "1970-01-01T02:03:24.122956",
          "1970-01-01T02:05:24.122956",
          "1970-01-01T02:05:24.122956",
          "1970-01-01T02:05:24.122956"
         ],
         "y": [
          "Hopper 01",
          "Hopper 01",
          "Hopper 01",
          "Hopper 01",
          null,
          "Hopper 01",
          "Hopper 01",
          "Hopper 01",
          "Hopper 01",
          null,
          "Hopper 01",
          "Hopper 01",
          "Hopper 01",
          "Hopper 01",
          null,
          "Hopper 01",
          "Hopper 01",
          "Hopper 01",
          "Hopper 01",
          null,
          "Hopper 01",
          "Hopper 01",
          "Hopper 01",
          "Hopper 01",
          null,
          "Hopper 01",
          "Hopper 01",
          "Hopper 01",
          "Hopper 01",
          null,
          "Hopper 01",
          "Hopper 01",
          "Hopper 01",
          "Hopper 01",
          null,
          "Hopper 01",
          "Hopper 01",
          "Hopper 01",
          "Hopper 01",
          null,
          "Hopper 01",
          "Hopper 01",
          "Hopper 01",
          "Hopper 01",
          null,
          "Hopper 01",
          "Hopper 01",
          "Hopper 01",
          "Hopper 01",
          null,
          "Dumplocatie",
          "Dumplocatie",
          "Dumplocatie",
          "Dumplocatie",
          null,
          "Dumplocatie",
          "Dumplocatie",
          "Dumplocatie",
          "Dumplocatie",
          null,
          "Dumplocatie",
          "Dumplocatie",
          "Dumplocatie",
          "Dumplocatie",
          null,
          "Dumplocatie",
          "Dumplocatie",
          "Dumplocatie",
          "Dumplocatie",
          null,
          "Dumplocatie",
          "Dumplocatie",
          "Dumplocatie",
          "Dumplocatie",
          null
         ]
        },
        {
         "connectgaps": false,
         "hoverinfo": "y+name",
         "line": {
          "color": "rgb(244,7,44)",
          "width": 10
         },
         "mode": "lines",
         "name": "4d0d2f11-6111-4933-bd76-5f5f01cdda8e",
         "type": "scatter",
         "x": [
          "1970-01-01T00:00:00",
          "1970-01-01T00:00:00",
          "1970-01-01T00:00:45",
          "1970-01-01T00:00:45",
          "1970-01-01T00:00:45",
          "1970-01-01T00:51:30.649183",
          "1970-01-01T00:51:30.649183",
          "1970-01-01T00:52:15.649183",
          "1970-01-01T00:52:15.649183",
          "1970-01-01T00:52:15.649183",
          "1970-01-01T01:43:01.298365",
          "1970-01-01T01:43:01.298365",
          "1970-01-01T01:43:46.298365",
          "1970-01-01T01:43:46.298365",
          "1970-01-01T01:43:46.298365"
         ],
         "y": [
          "Hopper 01",
          "Hopper 01",
          "Hopper 01",
          "Hopper 01",
          null,
          "Hopper 01",
          "Hopper 01",
          "Hopper 01",
          "Hopper 01",
          null,
          "Hopper 01",
          "Hopper 01",
          "Hopper 01",
          "Hopper 01",
          null
         ]
        },
        {
         "connectgaps": false,
         "hoverinfo": "y+name",
         "line": {
          "color": "rgb(1,20,57)",
          "width": 10
         },
         "mode": "lines",
         "name": "c3174181-0a3f-4034-b934-1ca4966b5f98",
         "type": "scatter",
         "x": [
          "1970-01-01T00:05:00",
          "1970-01-01T00:05:00",
          "1970-01-01T00:05:30",
          "1970-01-01T00:05:30",
          "1970-01-01T00:05:30",
          "1970-01-01T00:56:30.649183",
          "1970-01-01T00:56:30.649183",
          "1970-01-01T00:57:00.649183",
          "1970-01-01T00:57:00.649183",
          "1970-01-01T00:57:00.649183",
          "1970-01-01T01:46:01.298365",
          "1970-01-01T01:46:01.298365",
          "1970-01-01T01:46:31.298365",
          "1970-01-01T01:46:31.298365",
          "1970-01-01T01:46:31.298365"
         ],
         "y": [
          "Hopper 01",
          "Hopper 01",
          "Hopper 01",
          "Hopper 01",
          null,
          "Hopper 01",
          "Hopper 01",
          "Hopper 01",
          "Hopper 01",
          null,
          "Hopper 01",
          "Hopper 01",
          "Hopper 01",
          "Hopper 01",
          null
         ]
        },
        {
         "connectgaps": false,
         "hoverinfo": "y+name",
         "line": {
          "color": "rgb(14,33,70)",
          "width": 10
         },
         "mode": "lines",
         "name": "b85fd31c-4828-45dc-8815-42ac1d791749",
         "type": "scatter",
         "x": [
          "1970-01-01T00:05:30",
          "1970-01-01T00:05:30",
          "1970-01-01T00:05:40",
          "1970-01-01T00:05:40",
          "1970-01-01T00:05:40",
          "1970-01-01T00:05:30",
          "1970-01-01T00:05:30",
          "1970-01-01T00:05:40",
          "1970-01-01T00:05:40",
          "1970-01-01T00:05:40",
          "1970-01-01T00:05:40",
          "1970-01-01T00:05:40",
          "1970-01-01T00:05:50",
          "1970-01-01T00:05:50",
          "1970-01-01T00:05:50",
          "1970-01-01T00:05:40",
          "1970-01-01T00:05:40",
          "1970-01-01T00:05:50",
          "1970-01-01T00:05:50",
          "1970-01-01T00:05:50",
          "1970-01-01T00:57:00.649183",
          "1970-01-01T00:57:00.649183",
          "1970-01-01T00:57:10.649183",
          "1970-01-01T00:57:10.649183",
          "1970-01-01T00:57:10.649183",
          "1970-01-01T00:57:00.649183",
          "1970-01-01T00:57:00.649183",
          "1970-01-01T00:57:10.649183",
          "1970-01-01T00:57:10.649183",
          "1970-01-01T00:57:10.649183",
          "1970-01-01T00:57:10.649183",
          "1970-01-01T00:57:10.649183",
          "1970-01-01T00:57:20.649183",
          "1970-01-01T00:57:20.649183",
          "1970-01-01T00:57:20.649183",
          "1970-01-01T00:57:10.649183",
          "1970-01-01T00:57:10.649183",
          "1970-01-01T00:57:20.649183",
          "1970-01-01T00:57:20.649183",
          "1970-01-01T00:57:20.649183",
          "1970-01-01T01:46:31.298365",
          "1970-01-01T01:46:31.298365",
          "1970-01-01T01:46:41.298365",
          "1970-01-01T01:46:41.298365",
          "1970-01-01T01:46:41.298365",
          "1970-01-01T01:46:31.298365",
          "1970-01-01T01:46:31.298365",
          "1970-01-01T01:46:41.298365",
          "1970-01-01T01:46:41.298365",
          "1970-01-01T01:46:41.298365",
          "1970-01-01T00:05:30",
          "1970-01-01T00:05:30",
          "1970-01-01T00:05:40",
          "1970-01-01T00:05:40",
          "1970-01-01T00:05:40",
          "1970-01-01T00:05:40",
          "1970-01-01T00:05:40",
          "1970-01-01T00:05:50",
          "1970-01-01T00:05:50",
          "1970-01-01T00:05:50",
          "1970-01-01T00:57:00.649183",
          "1970-01-01T00:57:00.649183",
          "1970-01-01T00:57:10.649183",
          "1970-01-01T00:57:10.649183",
          "1970-01-01T00:57:10.649183",
          "1970-01-01T00:57:10.649183",
          "1970-01-01T00:57:10.649183",
          "1970-01-01T00:57:20.649183",
          "1970-01-01T00:57:20.649183",
          "1970-01-01T00:57:20.649183",
          "1970-01-01T01:46:31.298365",
          "1970-01-01T01:46:31.298365",
          "1970-01-01T01:46:41.298365",
          "1970-01-01T01:46:41.298365",
          "1970-01-01T01:46:41.298365"
         ],
         "y": [
          "Hopper 01",
          "Hopper 01",
          "Hopper 01",
          "Hopper 01",
          null,
          "Hopper 01",
          "Hopper 01",
          "Hopper 01",
          "Hopper 01",
          null,
          "Hopper 01",
          "Hopper 01",
          "Hopper 01",
          "Hopper 01",
          null,
          "Hopper 01",
          "Hopper 01",
          "Hopper 01",
          "Hopper 01",
          null,
          "Hopper 01",
          "Hopper 01",
          "Hopper 01",
          "Hopper 01",
          null,
          "Hopper 01",
          "Hopper 01",
          "Hopper 01",
          "Hopper 01",
          null,
          "Hopper 01",
          "Hopper 01",
          "Hopper 01",
          "Hopper 01",
          null,
          "Hopper 01",
          "Hopper 01",
          "Hopper 01",
          "Hopper 01",
          null,
          "Hopper 01",
          "Hopper 01",
          "Hopper 01",
          "Hopper 01",
          null,
          "Hopper 01",
          "Hopper 01",
          "Hopper 01",
          "Hopper 01",
          null,
          "Winlocatie",
          "Winlocatie",
          "Winlocatie",
          "Winlocatie",
          null,
          "Winlocatie",
          "Winlocatie",
          "Winlocatie",
          "Winlocatie",
          null,
          "Winlocatie",
          "Winlocatie",
          "Winlocatie",
          "Winlocatie",
          null,
          "Winlocatie",
          "Winlocatie",
          "Winlocatie",
          "Winlocatie",
          null,
          "Winlocatie",
          "Winlocatie",
          "Winlocatie",
          "Winlocatie",
          null
         ]
        },
        {
         "connectgaps": false,
         "hoverinfo": "y+name",
         "line": {
          "color": "rgb(27,46,83)",
          "width": 10
         },
         "mode": "lines",
         "name": "e6deafcb-ad48-423a-b08f-e13837dd1975",
         "type": "scatter",
         "x": [
          "1970-01-01T00:21:47.824591",
          "1970-01-01T00:21:47.824591",
          "1970-01-01T00:22:32.824591",
          "1970-01-01T00:22:32.824591",
          "1970-01-01T00:22:32.824591",
          "1970-01-01T00:28:47.824591",
          "1970-01-01T00:28:47.824591",
          "1970-01-01T00:29:32.824591",
          "1970-01-01T00:29:32.824591",
          "1970-01-01T00:29:32.824591",
          "1970-01-01T01:13:18.473774",
          "1970-01-01T01:13:18.473774",
          "1970-01-01T01:14:03.473774",
          "1970-01-01T01:14:03.473774",
          "1970-01-01T01:14:03.473774",
          "1970-01-01T01:20:18.473774",
          "1970-01-01T01:20:18.473774",
          "1970-01-01T01:21:03.473774",
          "1970-01-01T01:21:03.473774",
          "1970-01-01T01:21:03.473774",
          "1970-01-01T02:02:39.122956",
          "1970-01-01T02:02:39.122956",
          "1970-01-01T02:03:24.122956",
          "1970-01-01T02:03:24.122956",
          "1970-01-01T02:03:24.122956"
         ],
         "y": [
          "Hopper 01",
          "Hopper 01",
          "Hopper 01",
          "Hopper 01",
          null,
          "Hopper 01",
          "Hopper 01",
          "Hopper 01",
          "Hopper 01",
          null,
          "Hopper 01",
          "Hopper 01",
          "Hopper 01",
          "Hopper 01",
          null,
          "Hopper 01",
          "Hopper 01",
          "Hopper 01",
          "Hopper 01",
          null,
          "Hopper 01",
          "Hopper 01",
          "Hopper 01",
          "Hopper 01",
          null
         ]
        },
        {
         "connectgaps": false,
         "hoverinfo": "y+name",
         "line": {
          "color": "rgb(40,59,96)",
          "width": 10
         },
         "mode": "lines",
         "name": "cfbfeb4b-b95d-4f72-ab8f-9bf9e72e1d9d",
         "type": "scatter",
         "x": [
          "1970-01-01T00:00:45",
          "1970-01-01T00:00:45",
          "1970-01-01T00:02:45",
          "1970-01-01T00:02:45",
          "1970-01-01T00:02:45",
          "1970-01-01T00:00:45",
          "1970-01-01T00:00:45",
          "1970-01-01T00:02:45",
          "1970-01-01T00:02:45",
          "1970-01-01T00:02:45",
          "1970-01-01T00:02:45",
          "1970-01-01T00:02:45",
          "1970-01-01T00:04:45",
          "1970-01-01T00:04:45",
          "1970-01-01T00:04:45",
          "1970-01-01T00:02:45",
          "1970-01-01T00:02:45",
          "1970-01-01T00:04:45",
          "1970-01-01T00:04:45",
          "1970-01-01T00:04:45",
          "1970-01-01T00:52:15.649183",
          "1970-01-01T00:52:15.649183",
          "1970-01-01T00:54:15.649183",
          "1970-01-01T00:54:15.649183",
          "1970-01-01T00:54:15.649183",
          "1970-01-01T00:52:15.649183",
          "1970-01-01T00:52:15.649183",
          "1970-01-01T00:54:15.649183",
          "1970-01-01T00:54:15.649183",
          "1970-01-01T00:54:15.649183",
          "1970-01-01T00:54:15.649183",
          "1970-01-01T00:54:15.649183",
          "1970-01-01T00:56:15.649183",
          "1970-01-01T00:56:15.649183",
          "1970-01-01T00:56:15.649183",
          "1970-01-01T00:54:15.649183",
          "1970-01-01T00:54:15.649183",
          "1970-01-01T00:56:15.649183",
          "1970-01-01T00:56:15.649183",
          "1970-01-01T00:56:15.649183",
          "1970-01-01T01:43:46.298365",
          "1970-01-01T01:43:46.298365",
          "1970-01-01T01:45:46.298365",
          "1970-01-01T01:45:46.298365",
          "1970-01-01T01:45:46.298365",
          "1970-01-01T01:43:46.298365",
          "1970-01-01T01:43:46.298365",
          "1970-01-01T01:45:46.298365",
          "1970-01-01T01:45:46.298365",
          "1970-01-01T01:45:46.298365",
          "1970-01-01T00:00:45",
          "1970-01-01T00:00:45",
          "1970-01-01T00:02:45",
          "1970-01-01T00:02:45",
          "1970-01-01T00:02:45",
          "1970-01-01T00:02:45",
          "1970-01-01T00:02:45",
          "1970-01-01T00:04:45",
          "1970-01-01T00:04:45",
          "1970-01-01T00:04:45",
          "1970-01-01T00:52:15.649183",
          "1970-01-01T00:52:15.649183",
          "1970-01-01T00:54:15.649183",
          "1970-01-01T00:54:15.649183",
          "1970-01-01T00:54:15.649183",
          "1970-01-01T00:54:15.649183",
          "1970-01-01T00:54:15.649183",
          "1970-01-01T00:56:15.649183",
          "1970-01-01T00:56:15.649183",
          "1970-01-01T00:56:15.649183",
          "1970-01-01T01:43:46.298365",
          "1970-01-01T01:43:46.298365",
          "1970-01-01T01:45:46.298365",
          "1970-01-01T01:45:46.298365",
          "1970-01-01T01:45:46.298365"
         ],
         "y": [
          "Hopper 01",
          "Hopper 01",
          "Hopper 01",
          "Hopper 01",
          null,
          "Hopper 01",
          "Hopper 01",
          "Hopper 01",
          "Hopper 01",
          null,
          "Hopper 01",
          "Hopper 01",
          "Hopper 01",
          "Hopper 01",
          null,
          "Hopper 01",
          "Hopper 01",
          "Hopper 01",
          "Hopper 01",
          null,
          "Hopper 01",
          "Hopper 01",
          "Hopper 01",
          "Hopper 01",
          null,
          "Hopper 01",
          "Hopper 01",
          "Hopper 01",
          "Hopper 01",
          null,
          "Hopper 01",
          "Hopper 01",
          "Hopper 01",
          "Hopper 01",
          null,
          "Hopper 01",
          "Hopper 01",
          "Hopper 01",
          "Hopper 01",
          null,
          "Hopper 01",
          "Hopper 01",
          "Hopper 01",
          "Hopper 01",
          null,
          "Hopper 01",
          "Hopper 01",
          "Hopper 01",
          "Hopper 01",
          null,
          "Winlocatie",
          "Winlocatie",
          "Winlocatie",
          "Winlocatie",
          null,
          "Winlocatie",
          "Winlocatie",
          "Winlocatie",
          "Winlocatie",
          null,
          "Winlocatie",
          "Winlocatie",
          "Winlocatie",
          "Winlocatie",
          null,
          "Winlocatie",
          "Winlocatie",
          "Winlocatie",
          "Winlocatie",
          null,
          "Winlocatie",
          "Winlocatie",
          "Winlocatie",
          "Winlocatie",
          null
         ]
        },
        {
         "connectgaps": false,
         "hoverinfo": "y+name",
         "line": {
          "color": "rgb(53,72,109)",
          "width": 10
         },
         "mode": "lines",
         "name": "5fa709e1-448b-47a4-8fa0-a2396e6e68eb",
         "type": "scatter",
         "x": [
          "1970-01-01T00:25:17.824591",
          "1970-01-01T00:25:17.824591",
          "1970-01-01T00:26:02.824591",
          "1970-01-01T00:26:02.824591",
          "1970-01-01T00:26:02.824591",
          "1970-01-01T00:32:17.824591",
          "1970-01-01T00:32:17.824591",
          "1970-01-01T00:33:02.824591",
          "1970-01-01T00:33:02.824591",
          "1970-01-01T00:33:02.824591",
          "1970-01-01T01:16:48.473774",
          "1970-01-01T01:16:48.473774",
          "1970-01-01T01:17:33.473774",
          "1970-01-01T01:17:33.473774",
          "1970-01-01T01:17:33.473774",
          "1970-01-01T01:23:48.473774",
          "1970-01-01T01:23:48.473774",
          "1970-01-01T01:24:33.473774",
          "1970-01-01T01:24:33.473774",
          "1970-01-01T01:24:33.473774",
          "1970-01-01T02:06:09.122956",
          "1970-01-01T02:06:09.122956",
          "1970-01-01T02:06:54.122956",
          "1970-01-01T02:06:54.122956",
          "1970-01-01T02:06:54.122956"
         ],
         "y": [
          "Hopper 01",
          "Hopper 01",
          "Hopper 01",
          "Hopper 01",
          null,
          "Hopper 01",
          "Hopper 01",
          "Hopper 01",
          "Hopper 01",
          null,
          "Hopper 01",
          "Hopper 01",
          "Hopper 01",
          "Hopper 01",
          null,
          "Hopper 01",
          "Hopper 01",
          "Hopper 01",
          "Hopper 01",
          null,
          "Hopper 01",
          "Hopper 01",
          "Hopper 01",
          "Hopper 01",
          null
         ]
        },
        {
         "connectgaps": false,
         "hoverinfo": "y+name",
         "line": {
          "color": "rgb(66,85,122)",
          "width": 10
         },
         "mode": "lines",
         "name": "fa8d8031-2da0-469e-ac06-79d9b6be99a4",
         "type": "scatter",
         "x": [
          "1970-01-01T00:06:05",
          "1970-01-01T00:06:05",
          "1970-01-01T00:21:47.824591",
          "1970-01-01T00:21:47.824591",
          "1970-01-01T00:21:47.824591",
          "1970-01-01T00:57:35.649183",
          "1970-01-01T00:57:35.649183",
          "1970-01-01T01:13:18.473774",
          "1970-01-01T01:13:18.473774",
          "1970-01-01T01:13:18.473774",
          "1970-01-01T01:46:56.298365",
          "1970-01-01T01:46:56.298365",
          "1970-01-01T02:02:39.122956",
          "1970-01-01T02:02:39.122956",
          "1970-01-01T02:02:39.122956"
         ],
         "y": [
          "Hopper 01",
          "Hopper 01",
          "Hopper 01",
          "Hopper 01",
          null,
          "Hopper 01",
          "Hopper 01",
          "Hopper 01",
          "Hopper 01",
          null,
          "Hopper 01",
          "Hopper 01",
          "Hopper 01",
          "Hopper 01",
          null
         ]
        },
        {
         "connectgaps": false,
         "hoverinfo": "y+name",
         "line": {
          "color": "rgb(79,98,135)",
          "width": 10
         },
         "mode": "lines",
         "name": "121569ed-dec6-443d-be66-11753c124f46",
         "type": "scatter",
         "x": [
          "1970-01-01T00:05:50",
          "1970-01-01T00:05:50",
          "1970-01-01T00:06:05",
          "1970-01-01T00:06:05",
          "1970-01-01T00:06:05",
          "1970-01-01T00:57:20.649183",
          "1970-01-01T00:57:20.649183",
          "1970-01-01T00:57:35.649183",
          "1970-01-01T00:57:35.649183",
          "1970-01-01T00:57:35.649183",
          "1970-01-01T01:46:41.298365",
          "1970-01-01T01:46:41.298365",
          "1970-01-01T01:46:56.298365",
          "1970-01-01T01:46:56.298365",
          "1970-01-01T01:46:56.298365"
         ],
         "y": [
          "Hopper 01",
          "Hopper 01",
          "Hopper 01",
          "Hopper 01",
          null,
          "Hopper 01",
          "Hopper 01",
          "Hopper 01",
          "Hopper 01",
          null,
          "Hopper 01",
          "Hopper 01",
          "Hopper 01",
          "Hopper 01",
          null
         ]
        },
        {
         "connectgaps": false,
         "hoverinfo": "y+name",
         "line": {
          "color": "rgb(92,111,148)",
          "width": 10
         },
         "mode": "lines",
         "name": "9cd1f7c7-a5a7-4ce6-9d01-e0278a1ce7fd",
         "type": "scatter",
         "x": [
          "1970-01-01T00:28:02.824591",
          "1970-01-01T00:28:02.824591",
          "1970-01-01T00:28:47.824591",
          "1970-01-01T00:28:47.824591",
          "1970-01-01T00:28:47.824591",
          "1970-01-01T00:35:02.824591",
          "1970-01-01T00:35:02.824591",
          "1970-01-01T00:35:47.824591",
          "1970-01-01T00:35:47.824591",
          "1970-01-01T00:35:47.824591",
          "1970-01-01T01:19:33.473774",
          "1970-01-01T01:19:33.473774",
          "1970-01-01T01:20:18.473774",
          "1970-01-01T01:20:18.473774",
          "1970-01-01T01:20:18.473774",
          "1970-01-01T01:26:33.473774",
          "1970-01-01T01:26:33.473774",
          "1970-01-01T01:27:18.473774",
          "1970-01-01T01:27:18.473774",
          "1970-01-01T01:27:18.473774",
          "1970-01-01T02:08:54.122956",
          "1970-01-01T02:08:54.122956",
          "1970-01-01T02:09:39.122956",
          "1970-01-01T02:09:39.122956",
          "1970-01-01T02:09:39.122956"
         ],
         "y": [
          "Hopper 01",
          "Hopper 01",
          "Hopper 01",
          "Hopper 01",
          null,
          "Hopper 01",
          "Hopper 01",
          "Hopper 01",
          "Hopper 01",
          null,
          "Hopper 01",
          "Hopper 01",
          "Hopper 01",
          "Hopper 01",
          null,
          "Hopper 01",
          "Hopper 01",
          "Hopper 01",
          "Hopper 01",
          null,
          "Hopper 01",
          "Hopper 01",
          "Hopper 01",
          "Hopper 01",
          null
         ]
        },
        {
         "connectgaps": false,
         "hoverinfo": "y+name",
         "line": {
          "color": "rgb(105,124,161)",
          "width": 10
         },
         "mode": "lines",
         "name": "56ab4cc3-4627-44c9-9d87-8281e76de89e",
         "type": "scatter",
         "x": [
          "1970-01-01T00:26:02.824591",
          "1970-01-01T00:26:02.824591",
          "1970-01-01T00:28:02.824591",
          "1970-01-01T00:28:02.824591",
          "1970-01-01T00:28:02.824591",
          "1970-01-01T00:26:02.824591",
          "1970-01-01T00:26:02.824591",
          "1970-01-01T00:28:02.824591",
          "1970-01-01T00:28:02.824591",
          "1970-01-01T00:28:02.824591",
          "1970-01-01T00:33:02.824591",
          "1970-01-01T00:33:02.824591",
          "1970-01-01T00:35:02.824591",
          "1970-01-01T00:35:02.824591",
          "1970-01-01T00:35:02.824591",
          "1970-01-01T00:33:02.824591",
          "1970-01-01T00:33:02.824591",
          "1970-01-01T00:35:02.824591",
          "1970-01-01T00:35:02.824591",
          "1970-01-01T00:35:02.824591",
          "1970-01-01T01:17:33.473774",
          "1970-01-01T01:17:33.473774",
          "1970-01-01T01:19:33.473774",
          "1970-01-01T01:19:33.473774",
          "1970-01-01T01:19:33.473774",
          "1970-01-01T01:17:33.473774",
          "1970-01-01T01:17:33.473774",
          "1970-01-01T01:19:33.473774",
          "1970-01-01T01:19:33.473774",
          "1970-01-01T01:19:33.473774",
          "1970-01-01T01:24:33.473774",
          "1970-01-01T01:24:33.473774",
          "1970-01-01T01:26:33.473774",
          "1970-01-01T01:26:33.473774",
          "1970-01-01T01:26:33.473774",
          "1970-01-01T01:24:33.473774",
          "1970-01-01T01:24:33.473774",
          "1970-01-01T01:26:33.473774",
          "1970-01-01T01:26:33.473774",
          "1970-01-01T01:26:33.473774",
          "1970-01-01T02:06:54.122956",
          "1970-01-01T02:06:54.122956",
          "1970-01-01T02:08:54.122956",
          "1970-01-01T02:08:54.122956",
          "1970-01-01T02:08:54.122956",
          "1970-01-01T02:06:54.122956",
          "1970-01-01T02:06:54.122956",
          "1970-01-01T02:08:54.122956",
          "1970-01-01T02:08:54.122956",
          "1970-01-01T02:08:54.122956",
          "1970-01-01T00:26:02.824591",
          "1970-01-01T00:26:02.824591",
          "1970-01-01T00:28:02.824591",
          "1970-01-01T00:28:02.824591",
          "1970-01-01T00:28:02.824591",
          "1970-01-01T00:33:02.824591",
          "1970-01-01T00:33:02.824591",
          "1970-01-01T00:35:02.824591",
          "1970-01-01T00:35:02.824591",
          "1970-01-01T00:35:02.824591",
          "1970-01-01T01:17:33.473774",
          "1970-01-01T01:17:33.473774",
          "1970-01-01T01:19:33.473774",
          "1970-01-01T01:19:33.473774",
          "1970-01-01T01:19:33.473774",
          "1970-01-01T01:24:33.473774",
          "1970-01-01T01:24:33.473774",
          "1970-01-01T01:26:33.473774",
          "1970-01-01T01:26:33.473774",
          "1970-01-01T01:26:33.473774",
          "1970-01-01T02:06:54.122956",
          "1970-01-01T02:06:54.122956",
          "1970-01-01T02:08:54.122956",
          "1970-01-01T02:08:54.122956",
          "1970-01-01T02:08:54.122956"
         ],
         "y": [
          "Hopper 01",
          "Hopper 01",
          "Hopper 01",
          "Hopper 01",
          null,
          "Hopper 01",
          "Hopper 01",
          "Hopper 01",
          "Hopper 01",
          null,
          "Hopper 01",
          "Hopper 01",
          "Hopper 01",
          "Hopper 01",
          null,
          "Hopper 01",
          "Hopper 01",
          "Hopper 01",
          "Hopper 01",
          null,
          "Hopper 01",
          "Hopper 01",
          "Hopper 01",
          "Hopper 01",
          null,
          "Hopper 01",
          "Hopper 01",
          "Hopper 01",
          "Hopper 01",
          null,
          "Hopper 01",
          "Hopper 01",
          "Hopper 01",
          "Hopper 01",
          null,
          "Hopper 01",
          "Hopper 01",
          "Hopper 01",
          "Hopper 01",
          null,
          "Hopper 01",
          "Hopper 01",
          "Hopper 01",
          "Hopper 01",
          null,
          "Hopper 01",
          "Hopper 01",
          "Hopper 01",
          "Hopper 01",
          null,
          "Dumplocatie",
          "Dumplocatie",
          "Dumplocatie",
          "Dumplocatie",
          null,
          "Dumplocatie",
          "Dumplocatie",
          "Dumplocatie",
          "Dumplocatie",
          null,
          "Dumplocatie",
          "Dumplocatie",
          "Dumplocatie",
          "Dumplocatie",
          null,
          "Dumplocatie",
          "Dumplocatie",
          "Dumplocatie",
          "Dumplocatie",
          null,
          "Dumplocatie",
          "Dumplocatie",
          "Dumplocatie",
          "Dumplocatie",
          null
         ]
        },
        {
         "connectgaps": false,
         "hoverinfo": "y+name",
         "line": {
          "color": "rgb(118,137,174)",
          "width": 10
         },
         "mode": "lines",
         "name": "cfbfeb4b-b95d-4f72-ab8f-9bf9e72e1d9d",
         "type": "scatter",
         "x": [
          "1970-01-01T00:00:45",
          "1970-01-01T00:00:45",
          "1970-01-01T00:02:45",
          "1970-01-01T00:02:45",
          "1970-01-01T00:02:45",
          "1970-01-01T00:00:45",
          "1970-01-01T00:00:45",
          "1970-01-01T00:02:45",
          "1970-01-01T00:02:45",
          "1970-01-01T00:02:45",
          "1970-01-01T00:02:45",
          "1970-01-01T00:02:45",
          "1970-01-01T00:04:45",
          "1970-01-01T00:04:45",
          "1970-01-01T00:04:45",
          "1970-01-01T00:02:45",
          "1970-01-01T00:02:45",
          "1970-01-01T00:04:45",
          "1970-01-01T00:04:45",
          "1970-01-01T00:04:45",
          "1970-01-01T00:52:15.649183",
          "1970-01-01T00:52:15.649183",
          "1970-01-01T00:54:15.649183",
          "1970-01-01T00:54:15.649183",
          "1970-01-01T00:54:15.649183",
          "1970-01-01T00:52:15.649183",
          "1970-01-01T00:52:15.649183",
          "1970-01-01T00:54:15.649183",
          "1970-01-01T00:54:15.649183",
          "1970-01-01T00:54:15.649183",
          "1970-01-01T00:54:15.649183",
          "1970-01-01T00:54:15.649183",
          "1970-01-01T00:56:15.649183",
          "1970-01-01T00:56:15.649183",
          "1970-01-01T00:56:15.649183",
          "1970-01-01T00:54:15.649183",
          "1970-01-01T00:54:15.649183",
          "1970-01-01T00:56:15.649183",
          "1970-01-01T00:56:15.649183",
          "1970-01-01T00:56:15.649183",
          "1970-01-01T01:43:46.298365",
          "1970-01-01T01:43:46.298365",
          "1970-01-01T01:45:46.298365",
          "1970-01-01T01:45:46.298365",
          "1970-01-01T01:45:46.298365",
          "1970-01-01T01:43:46.298365",
          "1970-01-01T01:43:46.298365",
          "1970-01-01T01:45:46.298365",
          "1970-01-01T01:45:46.298365",
          "1970-01-01T01:45:46.298365",
          "1970-01-01T00:00:45",
          "1970-01-01T00:00:45",
          "1970-01-01T00:02:45",
          "1970-01-01T00:02:45",
          "1970-01-01T00:02:45",
          "1970-01-01T00:02:45",
          "1970-01-01T00:02:45",
          "1970-01-01T00:04:45",
          "1970-01-01T00:04:45",
          "1970-01-01T00:04:45",
          "1970-01-01T00:52:15.649183",
          "1970-01-01T00:52:15.649183",
          "1970-01-01T00:54:15.649183",
          "1970-01-01T00:54:15.649183",
          "1970-01-01T00:54:15.649183",
          "1970-01-01T00:54:15.649183",
          "1970-01-01T00:54:15.649183",
          "1970-01-01T00:56:15.649183",
          "1970-01-01T00:56:15.649183",
          "1970-01-01T00:56:15.649183",
          "1970-01-01T01:43:46.298365",
          "1970-01-01T01:43:46.298365",
          "1970-01-01T01:45:46.298365",
          "1970-01-01T01:45:46.298365",
          "1970-01-01T01:45:46.298365"
         ],
         "y": [
          "Hopper 01",
          "Hopper 01",
          "Hopper 01",
          "Hopper 01",
          null,
          "Hopper 01",
          "Hopper 01",
          "Hopper 01",
          "Hopper 01",
          null,
          "Hopper 01",
          "Hopper 01",
          "Hopper 01",
          "Hopper 01",
          null,
          "Hopper 01",
          "Hopper 01",
          "Hopper 01",
          "Hopper 01",
          null,
          "Hopper 01",
          "Hopper 01",
          "Hopper 01",
          "Hopper 01",
          null,
          "Hopper 01",
          "Hopper 01",
          "Hopper 01",
          "Hopper 01",
          null,
          "Hopper 01",
          "Hopper 01",
          "Hopper 01",
          "Hopper 01",
          null,
          "Hopper 01",
          "Hopper 01",
          "Hopper 01",
          "Hopper 01",
          null,
          "Hopper 01",
          "Hopper 01",
          "Hopper 01",
          "Hopper 01",
          null,
          "Hopper 01",
          "Hopper 01",
          "Hopper 01",
          "Hopper 01",
          null,
          "Winlocatie",
          "Winlocatie",
          "Winlocatie",
          "Winlocatie",
          null,
          "Winlocatie",
          "Winlocatie",
          "Winlocatie",
          "Winlocatie",
          null,
          "Winlocatie",
          "Winlocatie",
          "Winlocatie",
          "Winlocatie",
          null,
          "Winlocatie",
          "Winlocatie",
          "Winlocatie",
          "Winlocatie",
          null,
          "Winlocatie",
          "Winlocatie",
          "Winlocatie",
          "Winlocatie",
          null
         ]
        },
        {
         "connectgaps": false,
         "hoverinfo": "y+name",
         "line": {
          "color": "rgb(131,150,187)",
          "width": 10
         },
         "mode": "lines",
         "name": "b85fd31c-4828-45dc-8815-42ac1d791749",
         "type": "scatter",
         "x": [
          "1970-01-01T00:05:30",
          "1970-01-01T00:05:30",
          "1970-01-01T00:05:40",
          "1970-01-01T00:05:40",
          "1970-01-01T00:05:40",
          "1970-01-01T00:05:30",
          "1970-01-01T00:05:30",
          "1970-01-01T00:05:40",
          "1970-01-01T00:05:40",
          "1970-01-01T00:05:40",
          "1970-01-01T00:05:40",
          "1970-01-01T00:05:40",
          "1970-01-01T00:05:50",
          "1970-01-01T00:05:50",
          "1970-01-01T00:05:50",
          "1970-01-01T00:05:40",
          "1970-01-01T00:05:40",
          "1970-01-01T00:05:50",
          "1970-01-01T00:05:50",
          "1970-01-01T00:05:50",
          "1970-01-01T00:57:00.649183",
          "1970-01-01T00:57:00.649183",
          "1970-01-01T00:57:10.649183",
          "1970-01-01T00:57:10.649183",
          "1970-01-01T00:57:10.649183",
          "1970-01-01T00:57:00.649183",
          "1970-01-01T00:57:00.649183",
          "1970-01-01T00:57:10.649183",
          "1970-01-01T00:57:10.649183",
          "1970-01-01T00:57:10.649183",
          "1970-01-01T00:57:10.649183",
          "1970-01-01T00:57:10.649183",
          "1970-01-01T00:57:20.649183",
          "1970-01-01T00:57:20.649183",
          "1970-01-01T00:57:20.649183",
          "1970-01-01T00:57:10.649183",
          "1970-01-01T00:57:10.649183",
          "1970-01-01T00:57:20.649183",
          "1970-01-01T00:57:20.649183",
          "1970-01-01T00:57:20.649183",
          "1970-01-01T01:46:31.298365",
          "1970-01-01T01:46:31.298365",
          "1970-01-01T01:46:41.298365",
          "1970-01-01T01:46:41.298365",
          "1970-01-01T01:46:41.298365",
          "1970-01-01T01:46:31.298365",
          "1970-01-01T01:46:31.298365",
          "1970-01-01T01:46:41.298365",
          "1970-01-01T01:46:41.298365",
          "1970-01-01T01:46:41.298365",
          "1970-01-01T00:05:30",
          "1970-01-01T00:05:30",
          "1970-01-01T00:05:40",
          "1970-01-01T00:05:40",
          "1970-01-01T00:05:40",
          "1970-01-01T00:05:40",
          "1970-01-01T00:05:40",
          "1970-01-01T00:05:50",
          "1970-01-01T00:05:50",
          "1970-01-01T00:05:50",
          "1970-01-01T00:57:00.649183",
          "1970-01-01T00:57:00.649183",
          "1970-01-01T00:57:10.649183",
          "1970-01-01T00:57:10.649183",
          "1970-01-01T00:57:10.649183",
          "1970-01-01T00:57:10.649183",
          "1970-01-01T00:57:10.649183",
          "1970-01-01T00:57:20.649183",
          "1970-01-01T00:57:20.649183",
          "1970-01-01T00:57:20.649183",
          "1970-01-01T01:46:31.298365",
          "1970-01-01T01:46:31.298365",
          "1970-01-01T01:46:41.298365",
          "1970-01-01T01:46:41.298365",
          "1970-01-01T01:46:41.298365"
         ],
         "y": [
          "Hopper 01",
          "Hopper 01",
          "Hopper 01",
          "Hopper 01",
          null,
          "Hopper 01",
          "Hopper 01",
          "Hopper 01",
          "Hopper 01",
          null,
          "Hopper 01",
          "Hopper 01",
          "Hopper 01",
          "Hopper 01",
          null,
          "Hopper 01",
          "Hopper 01",
          "Hopper 01",
          "Hopper 01",
          null,
          "Hopper 01",
          "Hopper 01",
          "Hopper 01",
          "Hopper 01",
          null,
          "Hopper 01",
          "Hopper 01",
          "Hopper 01",
          "Hopper 01",
          null,
          "Hopper 01",
          "Hopper 01",
          "Hopper 01",
          "Hopper 01",
          null,
          "Hopper 01",
          "Hopper 01",
          "Hopper 01",
          "Hopper 01",
          null,
          "Hopper 01",
          "Hopper 01",
          "Hopper 01",
          "Hopper 01",
          null,
          "Hopper 01",
          "Hopper 01",
          "Hopper 01",
          "Hopper 01",
          null,
          "Winlocatie",
          "Winlocatie",
          "Winlocatie",
          "Winlocatie",
          null,
          "Winlocatie",
          "Winlocatie",
          "Winlocatie",
          "Winlocatie",
          null,
          "Winlocatie",
          "Winlocatie",
          "Winlocatie",
          "Winlocatie",
          null,
          "Winlocatie",
          "Winlocatie",
          "Winlocatie",
          "Winlocatie",
          null,
          "Winlocatie",
          "Winlocatie",
          "Winlocatie",
          "Winlocatie",
          null
         ]
        },
        {
         "connectgaps": false,
         "hoverinfo": "y+name",
         "line": {
          "color": "rgb(144,163,200)",
          "width": 10
         },
         "mode": "lines",
         "name": "533345f1-4ec8-4055-9cd3-ff8b5e311086",
         "type": "scatter",
         "x": [
          "1970-01-01T00:22:32.824591",
          "1970-01-01T00:22:32.824591",
          "1970-01-01T00:24:32.824591",
          "1970-01-01T00:24:32.824591",
          "1970-01-01T00:24:32.824591",
          "1970-01-01T00:22:32.824591",
          "1970-01-01T00:22:32.824591",
          "1970-01-01T00:24:32.824591",
          "1970-01-01T00:24:32.824591",
          "1970-01-01T00:24:32.824591",
          "1970-01-01T00:29:32.824591",
          "1970-01-01T00:29:32.824591",
          "1970-01-01T00:31:32.824591",
          "1970-01-01T00:31:32.824591",
          "1970-01-01T00:31:32.824591",
          "1970-01-01T00:29:32.824591",
          "1970-01-01T00:29:32.824591",
          "1970-01-01T00:31:32.824591",
          "1970-01-01T00:31:32.824591",
          "1970-01-01T00:31:32.824591",
          "1970-01-01T01:14:03.473774",
          "1970-01-01T01:14:03.473774",
          "1970-01-01T01:16:03.473774",
          "1970-01-01T01:16:03.473774",
          "1970-01-01T01:16:03.473774",
          "1970-01-01T01:14:03.473774",
          "1970-01-01T01:14:03.473774",
          "1970-01-01T01:16:03.473774",
          "1970-01-01T01:16:03.473774",
          "1970-01-01T01:16:03.473774",
          "1970-01-01T01:21:03.473774",
          "1970-01-01T01:21:03.473774",
          "1970-01-01T01:23:03.473774",
          "1970-01-01T01:23:03.473774",
          "1970-01-01T01:23:03.473774",
          "1970-01-01T01:21:03.473774",
          "1970-01-01T01:21:03.473774",
          "1970-01-01T01:23:03.473774",
          "1970-01-01T01:23:03.473774",
          "1970-01-01T01:23:03.473774",
          "1970-01-01T02:03:24.122956",
          "1970-01-01T02:03:24.122956",
          "1970-01-01T02:05:24.122956",
          "1970-01-01T02:05:24.122956",
          "1970-01-01T02:05:24.122956",
          "1970-01-01T02:03:24.122956",
          "1970-01-01T02:03:24.122956",
          "1970-01-01T02:05:24.122956",
          "1970-01-01T02:05:24.122956",
          "1970-01-01T02:05:24.122956",
          "1970-01-01T00:22:32.824591",
          "1970-01-01T00:22:32.824591",
          "1970-01-01T00:24:32.824591",
          "1970-01-01T00:24:32.824591",
          "1970-01-01T00:24:32.824591",
          "1970-01-01T00:29:32.824591",
          "1970-01-01T00:29:32.824591",
          "1970-01-01T00:31:32.824591",
          "1970-01-01T00:31:32.824591",
          "1970-01-01T00:31:32.824591",
          "1970-01-01T01:14:03.473774",
          "1970-01-01T01:14:03.473774",
          "1970-01-01T01:16:03.473774",
          "1970-01-01T01:16:03.473774",
          "1970-01-01T01:16:03.473774",
          "1970-01-01T01:21:03.473774",
          "1970-01-01T01:21:03.473774",
          "1970-01-01T01:23:03.473774",
          "1970-01-01T01:23:03.473774",
          "1970-01-01T01:23:03.473774",
          "1970-01-01T02:03:24.122956",
          "1970-01-01T02:03:24.122956",
          "1970-01-01T02:05:24.122956",
          "1970-01-01T02:05:24.122956",
          "1970-01-01T02:05:24.122956"
         ],
         "y": [
          "Hopper 01",
          "Hopper 01",
          "Hopper 01",
          "Hopper 01",
          null,
          "Hopper 01",
          "Hopper 01",
          "Hopper 01",
          "Hopper 01",
          null,
          "Hopper 01",
          "Hopper 01",
          "Hopper 01",
          "Hopper 01",
          null,
          "Hopper 01",
          "Hopper 01",
          "Hopper 01",
          "Hopper 01",
          null,
          "Hopper 01",
          "Hopper 01",
          "Hopper 01",
          "Hopper 01",
          null,
          "Hopper 01",
          "Hopper 01",
          "Hopper 01",
          "Hopper 01",
          null,
          "Hopper 01",
          "Hopper 01",
          "Hopper 01",
          "Hopper 01",
          null,
          "Hopper 01",
          "Hopper 01",
          "Hopper 01",
          "Hopper 01",
          null,
          "Hopper 01",
          "Hopper 01",
          "Hopper 01",
          "Hopper 01",
          null,
          "Hopper 01",
          "Hopper 01",
          "Hopper 01",
          "Hopper 01",
          null,
          "Dumplocatie",
          "Dumplocatie",
          "Dumplocatie",
          "Dumplocatie",
          null,
          "Dumplocatie",
          "Dumplocatie",
          "Dumplocatie",
          "Dumplocatie",
          null,
          "Dumplocatie",
          "Dumplocatie",
          "Dumplocatie",
          "Dumplocatie",
          null,
          "Dumplocatie",
          "Dumplocatie",
          "Dumplocatie",
          "Dumplocatie",
          null,
          "Dumplocatie",
          "Dumplocatie",
          "Dumplocatie",
          "Dumplocatie",
          null
         ]
        },
        {
         "connectgaps": false,
         "hoverinfo": "y+name",
         "line": {
          "color": "rgb(157,176,213)",
          "width": 10
         },
         "mode": "lines",
         "name": "56ab4cc3-4627-44c9-9d87-8281e76de89e",
         "type": "scatter",
         "x": [
          "1970-01-01T00:26:02.824591",
          "1970-01-01T00:26:02.824591",
          "1970-01-01T00:28:02.824591",
          "1970-01-01T00:28:02.824591",
          "1970-01-01T00:28:02.824591",
          "1970-01-01T00:26:02.824591",
          "1970-01-01T00:26:02.824591",
          "1970-01-01T00:28:02.824591",
          "1970-01-01T00:28:02.824591",
          "1970-01-01T00:28:02.824591",
          "1970-01-01T00:33:02.824591",
          "1970-01-01T00:33:02.824591",
          "1970-01-01T00:35:02.824591",
          "1970-01-01T00:35:02.824591",
          "1970-01-01T00:35:02.824591",
          "1970-01-01T00:33:02.824591",
          "1970-01-01T00:33:02.824591",
          "1970-01-01T00:35:02.824591",
          "1970-01-01T00:35:02.824591",
          "1970-01-01T00:35:02.824591",
          "1970-01-01T01:17:33.473774",
          "1970-01-01T01:17:33.473774",
          "1970-01-01T01:19:33.473774",
          "1970-01-01T01:19:33.473774",
          "1970-01-01T01:19:33.473774",
          "1970-01-01T01:17:33.473774",
          "1970-01-01T01:17:33.473774",
          "1970-01-01T01:19:33.473774",
          "1970-01-01T01:19:33.473774",
          "1970-01-01T01:19:33.473774",
          "1970-01-01T01:24:33.473774",
          "1970-01-01T01:24:33.473774",
          "1970-01-01T01:26:33.473774",
          "1970-01-01T01:26:33.473774",
          "1970-01-01T01:26:33.473774",
          "1970-01-01T01:24:33.473774",
          "1970-01-01T01:24:33.473774",
          "1970-01-01T01:26:33.473774",
          "1970-01-01T01:26:33.473774",
          "1970-01-01T01:26:33.473774",
          "1970-01-01T02:06:54.122956",
          "1970-01-01T02:06:54.122956",
          "1970-01-01T02:08:54.122956",
          "1970-01-01T02:08:54.122956",
          "1970-01-01T02:08:54.122956",
          "1970-01-01T02:06:54.122956",
          "1970-01-01T02:06:54.122956",
          "1970-01-01T02:08:54.122956",
          "1970-01-01T02:08:54.122956",
          "1970-01-01T02:08:54.122956",
          "1970-01-01T00:26:02.824591",
          "1970-01-01T00:26:02.824591",
          "1970-01-01T00:28:02.824591",
          "1970-01-01T00:28:02.824591",
          "1970-01-01T00:28:02.824591",
          "1970-01-01T00:33:02.824591",
          "1970-01-01T00:33:02.824591",
          "1970-01-01T00:35:02.824591",
          "1970-01-01T00:35:02.824591",
          "1970-01-01T00:35:02.824591",
          "1970-01-01T01:17:33.473774",
          "1970-01-01T01:17:33.473774",
          "1970-01-01T01:19:33.473774",
          "1970-01-01T01:19:33.473774",
          "1970-01-01T01:19:33.473774",
          "1970-01-01T01:24:33.473774",
          "1970-01-01T01:24:33.473774",
          "1970-01-01T01:26:33.473774",
          "1970-01-01T01:26:33.473774",
          "1970-01-01T01:26:33.473774",
          "1970-01-01T02:06:54.122956",
          "1970-01-01T02:06:54.122956",
          "1970-01-01T02:08:54.122956",
          "1970-01-01T02:08:54.122956",
          "1970-01-01T02:08:54.122956"
         ],
         "y": [
          "Hopper 01",
          "Hopper 01",
          "Hopper 01",
          "Hopper 01",
          null,
          "Hopper 01",
          "Hopper 01",
          "Hopper 01",
          "Hopper 01",
          null,
          "Hopper 01",
          "Hopper 01",
          "Hopper 01",
          "Hopper 01",
          null,
          "Hopper 01",
          "Hopper 01",
          "Hopper 01",
          "Hopper 01",
          null,
          "Hopper 01",
          "Hopper 01",
          "Hopper 01",
          "Hopper 01",
          null,
          "Hopper 01",
          "Hopper 01",
          "Hopper 01",
          "Hopper 01",
          null,
          "Hopper 01",
          "Hopper 01",
          "Hopper 01",
          "Hopper 01",
          null,
          "Hopper 01",
          "Hopper 01",
          "Hopper 01",
          "Hopper 01",
          null,
          "Hopper 01",
          "Hopper 01",
          "Hopper 01",
          "Hopper 01",
          null,
          "Hopper 01",
          "Hopper 01",
          "Hopper 01",
          "Hopper 01",
          null,
          "Dumplocatie",
          "Dumplocatie",
          "Dumplocatie",
          "Dumplocatie",
          null,
          "Dumplocatie",
          "Dumplocatie",
          "Dumplocatie",
          "Dumplocatie",
          null,
          "Dumplocatie",
          "Dumplocatie",
          "Dumplocatie",
          "Dumplocatie",
          null,
          "Dumplocatie",
          "Dumplocatie",
          "Dumplocatie",
          "Dumplocatie",
          null,
          "Dumplocatie",
          "Dumplocatie",
          "Dumplocatie",
          "Dumplocatie",
          null
         ]
        }
       ],
       "layout": {
        "hovermode": "closest",
        "legend": {
         "orientation": "h",
         "x": 0,
         "y": -0.2
        },
        "template": {
         "data": {
          "bar": [
           {
            "error_x": {
             "color": "#2a3f5f"
            },
            "error_y": {
             "color": "#2a3f5f"
            },
            "marker": {
             "line": {
              "color": "#E5ECF6",
              "width": 0.5
             }
            },
            "type": "bar"
           }
          ],
          "barpolar": [
           {
            "marker": {
             "line": {
              "color": "#E5ECF6",
              "width": 0.5
             }
            },
            "type": "barpolar"
           }
          ],
          "carpet": [
           {
            "aaxis": {
             "endlinecolor": "#2a3f5f",
             "gridcolor": "white",
             "linecolor": "white",
             "minorgridcolor": "white",
             "startlinecolor": "#2a3f5f"
            },
            "baxis": {
             "endlinecolor": "#2a3f5f",
             "gridcolor": "white",
             "linecolor": "white",
             "minorgridcolor": "white",
             "startlinecolor": "#2a3f5f"
            },
            "type": "carpet"
           }
          ],
          "choropleth": [
           {
            "colorbar": {
             "outlinewidth": 0,
             "ticks": ""
            },
            "type": "choropleth"
           }
          ],
          "contour": [
           {
            "colorbar": {
             "outlinewidth": 0,
             "ticks": ""
            },
            "colorscale": [
             [
              0,
              "#0d0887"
             ],
             [
              0.1111111111111111,
              "#46039f"
             ],
             [
              0.2222222222222222,
              "#7201a8"
             ],
             [
              0.3333333333333333,
              "#9c179e"
             ],
             [
              0.4444444444444444,
              "#bd3786"
             ],
             [
              0.5555555555555556,
              "#d8576b"
             ],
             [
              0.6666666666666666,
              "#ed7953"
             ],
             [
              0.7777777777777778,
              "#fb9f3a"
             ],
             [
              0.8888888888888888,
              "#fdca26"
             ],
             [
              1,
              "#f0f921"
             ]
            ],
            "type": "contour"
           }
          ],
          "contourcarpet": [
           {
            "colorbar": {
             "outlinewidth": 0,
             "ticks": ""
            },
            "type": "contourcarpet"
           }
          ],
          "heatmap": [
           {
            "colorbar": {
             "outlinewidth": 0,
             "ticks": ""
            },
            "colorscale": [
             [
              0,
              "#0d0887"
             ],
             [
              0.1111111111111111,
              "#46039f"
             ],
             [
              0.2222222222222222,
              "#7201a8"
             ],
             [
              0.3333333333333333,
              "#9c179e"
             ],
             [
              0.4444444444444444,
              "#bd3786"
             ],
             [
              0.5555555555555556,
              "#d8576b"
             ],
             [
              0.6666666666666666,
              "#ed7953"
             ],
             [
              0.7777777777777778,
              "#fb9f3a"
             ],
             [
              0.8888888888888888,
              "#fdca26"
             ],
             [
              1,
              "#f0f921"
             ]
            ],
            "type": "heatmap"
           }
          ],
          "heatmapgl": [
           {
            "colorbar": {
             "outlinewidth": 0,
             "ticks": ""
            },
            "colorscale": [
             [
              0,
              "#0d0887"
             ],
             [
              0.1111111111111111,
              "#46039f"
             ],
             [
              0.2222222222222222,
              "#7201a8"
             ],
             [
              0.3333333333333333,
              "#9c179e"
             ],
             [
              0.4444444444444444,
              "#bd3786"
             ],
             [
              0.5555555555555556,
              "#d8576b"
             ],
             [
              0.6666666666666666,
              "#ed7953"
             ],
             [
              0.7777777777777778,
              "#fb9f3a"
             ],
             [
              0.8888888888888888,
              "#fdca26"
             ],
             [
              1,
              "#f0f921"
             ]
            ],
            "type": "heatmapgl"
           }
          ],
          "histogram": [
           {
            "marker": {
             "colorbar": {
              "outlinewidth": 0,
              "ticks": ""
             }
            },
            "type": "histogram"
           }
          ],
          "histogram2d": [
           {
            "colorbar": {
             "outlinewidth": 0,
             "ticks": ""
            },
            "colorscale": [
             [
              0,
              "#0d0887"
             ],
             [
              0.1111111111111111,
              "#46039f"
             ],
             [
              0.2222222222222222,
              "#7201a8"
             ],
             [
              0.3333333333333333,
              "#9c179e"
             ],
             [
              0.4444444444444444,
              "#bd3786"
             ],
             [
              0.5555555555555556,
              "#d8576b"
             ],
             [
              0.6666666666666666,
              "#ed7953"
             ],
             [
              0.7777777777777778,
              "#fb9f3a"
             ],
             [
              0.8888888888888888,
              "#fdca26"
             ],
             [
              1,
              "#f0f921"
             ]
            ],
            "type": "histogram2d"
           }
          ],
          "histogram2dcontour": [
           {
            "colorbar": {
             "outlinewidth": 0,
             "ticks": ""
            },
            "colorscale": [
             [
              0,
              "#0d0887"
             ],
             [
              0.1111111111111111,
              "#46039f"
             ],
             [
              0.2222222222222222,
              "#7201a8"
             ],
             [
              0.3333333333333333,
              "#9c179e"
             ],
             [
              0.4444444444444444,
              "#bd3786"
             ],
             [
              0.5555555555555556,
              "#d8576b"
             ],
             [
              0.6666666666666666,
              "#ed7953"
             ],
             [
              0.7777777777777778,
              "#fb9f3a"
             ],
             [
              0.8888888888888888,
              "#fdca26"
             ],
             [
              1,
              "#f0f921"
             ]
            ],
            "type": "histogram2dcontour"
           }
          ],
          "mesh3d": [
           {
            "colorbar": {
             "outlinewidth": 0,
             "ticks": ""
            },
            "type": "mesh3d"
           }
          ],
          "parcoords": [
           {
            "line": {
             "colorbar": {
              "outlinewidth": 0,
              "ticks": ""
             }
            },
            "type": "parcoords"
           }
          ],
          "pie": [
           {
            "automargin": true,
            "type": "pie"
           }
          ],
          "scatter": [
           {
            "marker": {
             "colorbar": {
              "outlinewidth": 0,
              "ticks": ""
             }
            },
            "type": "scatter"
           }
          ],
          "scatter3d": [
           {
            "line": {
             "colorbar": {
              "outlinewidth": 0,
              "ticks": ""
             }
            },
            "marker": {
             "colorbar": {
              "outlinewidth": 0,
              "ticks": ""
             }
            },
            "type": "scatter3d"
           }
          ],
          "scattercarpet": [
           {
            "marker": {
             "colorbar": {
              "outlinewidth": 0,
              "ticks": ""
             }
            },
            "type": "scattercarpet"
           }
          ],
          "scattergeo": [
           {
            "marker": {
             "colorbar": {
              "outlinewidth": 0,
              "ticks": ""
             }
            },
            "type": "scattergeo"
           }
          ],
          "scattergl": [
           {
            "marker": {
             "colorbar": {
              "outlinewidth": 0,
              "ticks": ""
             }
            },
            "type": "scattergl"
           }
          ],
          "scattermapbox": [
           {
            "marker": {
             "colorbar": {
              "outlinewidth": 0,
              "ticks": ""
             }
            },
            "type": "scattermapbox"
           }
          ],
          "scatterpolar": [
           {
            "marker": {
             "colorbar": {
              "outlinewidth": 0,
              "ticks": ""
             }
            },
            "type": "scatterpolar"
           }
          ],
          "scatterpolargl": [
           {
            "marker": {
             "colorbar": {
              "outlinewidth": 0,
              "ticks": ""
             }
            },
            "type": "scatterpolargl"
           }
          ],
          "scatterternary": [
           {
            "marker": {
             "colorbar": {
              "outlinewidth": 0,
              "ticks": ""
             }
            },
            "type": "scatterternary"
           }
          ],
          "surface": [
           {
            "colorbar": {
             "outlinewidth": 0,
             "ticks": ""
            },
            "colorscale": [
             [
              0,
              "#0d0887"
             ],
             [
              0.1111111111111111,
              "#46039f"
             ],
             [
              0.2222222222222222,
              "#7201a8"
             ],
             [
              0.3333333333333333,
              "#9c179e"
             ],
             [
              0.4444444444444444,
              "#bd3786"
             ],
             [
              0.5555555555555556,
              "#d8576b"
             ],
             [
              0.6666666666666666,
              "#ed7953"
             ],
             [
              0.7777777777777778,
              "#fb9f3a"
             ],
             [
              0.8888888888888888,
              "#fdca26"
             ],
             [
              1,
              "#f0f921"
             ]
            ],
            "type": "surface"
           }
          ],
          "table": [
           {
            "cells": {
             "fill": {
              "color": "#EBF0F8"
             },
             "line": {
              "color": "white"
             }
            },
            "header": {
             "fill": {
              "color": "#C8D4E3"
             },
             "line": {
              "color": "white"
             }
            },
            "type": "table"
           }
          ]
         },
         "layout": {
          "annotationdefaults": {
           "arrowcolor": "#2a3f5f",
           "arrowhead": 0,
           "arrowwidth": 1
          },
          "coloraxis": {
           "colorbar": {
            "outlinewidth": 0,
            "ticks": ""
           }
          },
          "colorscale": {
           "diverging": [
            [
             0,
             "#8e0152"
            ],
            [
             0.1,
             "#c51b7d"
            ],
            [
             0.2,
             "#de77ae"
            ],
            [
             0.3,
             "#f1b6da"
            ],
            [
             0.4,
             "#fde0ef"
            ],
            [
             0.5,
             "#f7f7f7"
            ],
            [
             0.6,
             "#e6f5d0"
            ],
            [
             0.7,
             "#b8e186"
            ],
            [
             0.8,
             "#7fbc41"
            ],
            [
             0.9,
             "#4d9221"
            ],
            [
             1,
             "#276419"
            ]
           ],
           "sequential": [
            [
             0,
             "#0d0887"
            ],
            [
             0.1111111111111111,
             "#46039f"
            ],
            [
             0.2222222222222222,
             "#7201a8"
            ],
            [
             0.3333333333333333,
             "#9c179e"
            ],
            [
             0.4444444444444444,
             "#bd3786"
            ],
            [
             0.5555555555555556,
             "#d8576b"
            ],
            [
             0.6666666666666666,
             "#ed7953"
            ],
            [
             0.7777777777777778,
             "#fb9f3a"
            ],
            [
             0.8888888888888888,
             "#fdca26"
            ],
            [
             1,
             "#f0f921"
            ]
           ],
           "sequentialminus": [
            [
             0,
             "#0d0887"
            ],
            [
             0.1111111111111111,
             "#46039f"
            ],
            [
             0.2222222222222222,
             "#7201a8"
            ],
            [
             0.3333333333333333,
             "#9c179e"
            ],
            [
             0.4444444444444444,
             "#bd3786"
            ],
            [
             0.5555555555555556,
             "#d8576b"
            ],
            [
             0.6666666666666666,
             "#ed7953"
            ],
            [
             0.7777777777777778,
             "#fb9f3a"
            ],
            [
             0.8888888888888888,
             "#fdca26"
            ],
            [
             1,
             "#f0f921"
            ]
           ]
          },
          "colorway": [
           "#636efa",
           "#EF553B",
           "#00cc96",
           "#ab63fa",
           "#FFA15A",
           "#19d3f3",
           "#FF6692",
           "#B6E880",
           "#FF97FF",
           "#FECB52"
          ],
          "font": {
           "color": "#2a3f5f"
          },
          "geo": {
           "bgcolor": "white",
           "lakecolor": "white",
           "landcolor": "#E5ECF6",
           "showlakes": true,
           "showland": true,
           "subunitcolor": "white"
          },
          "hoverlabel": {
           "align": "left"
          },
          "hovermode": "closest",
          "mapbox": {
           "style": "light"
          },
          "paper_bgcolor": "white",
          "plot_bgcolor": "#E5ECF6",
          "polar": {
           "angularaxis": {
            "gridcolor": "white",
            "linecolor": "white",
            "ticks": ""
           },
           "bgcolor": "#E5ECF6",
           "radialaxis": {
            "gridcolor": "white",
            "linecolor": "white",
            "ticks": ""
           }
          },
          "scene": {
           "xaxis": {
            "backgroundcolor": "#E5ECF6",
            "gridcolor": "white",
            "gridwidth": 2,
            "linecolor": "white",
            "showbackground": true,
            "ticks": "",
            "zerolinecolor": "white"
           },
           "yaxis": {
            "backgroundcolor": "#E5ECF6",
            "gridcolor": "white",
            "gridwidth": 2,
            "linecolor": "white",
            "showbackground": true,
            "ticks": "",
            "zerolinecolor": "white"
           },
           "zaxis": {
            "backgroundcolor": "#E5ECF6",
            "gridcolor": "white",
            "gridwidth": 2,
            "linecolor": "white",
            "showbackground": true,
            "ticks": "",
            "zerolinecolor": "white"
           }
          },
          "shapedefaults": {
           "line": {
            "color": "#2a3f5f"
           }
          },
          "ternary": {
           "aaxis": {
            "gridcolor": "white",
            "linecolor": "white",
            "ticks": ""
           },
           "baxis": {
            "gridcolor": "white",
            "linecolor": "white",
            "ticks": ""
           },
           "bgcolor": "#E5ECF6",
           "caxis": {
            "gridcolor": "white",
            "linecolor": "white",
            "ticks": ""
           }
          },
          "title": {
           "x": 0.05
          },
          "xaxis": {
           "automargin": true,
           "gridcolor": "white",
           "linecolor": "white",
           "ticks": "",
           "title": {
            "standoff": 15
           },
           "zerolinecolor": "white",
           "zerolinewidth": 2
          },
          "yaxis": {
           "automargin": true,
           "gridcolor": "white",
           "linecolor": "white",
           "ticks": "",
           "title": {
            "standoff": 15
           },
           "zerolinecolor": "white",
           "zerolinewidth": 2
          }
         }
        },
        "title": {
         "text": "Vessel planning"
        },
        "xaxis": {
         "range": [
          "1970-01-01T00:00:00",
          "1970-01-01T02:09:39.122956"
         ],
         "title": {
          "font": {
           "color": "#7f7f7f",
           "family": "Courier New, monospace",
           "size": 18
          },
          "text": "Time"
         }
        },
        "yaxis": {
         "title": {
          "font": {
           "color": "#7f7f7f",
           "family": "Courier New, monospace",
           "size": 18
          },
          "text": "Vessels"
         }
        }
       }
      },
      "text/html": [
       "<div>                            <div id=\"1c5ea0c5-7946-48a9-8a67-cc6f63f13c2b\" class=\"plotly-graph-div\" style=\"height:525px; width:100%;\"></div>            <script type=\"text/javascript\">                require([\"plotly\"], function(Plotly) {                    window.PLOTLYENV=window.PLOTLYENV || {};                                    if (document.getElementById(\"1c5ea0c5-7946-48a9-8a67-cc6f63f13c2b\")) {                    Plotly.newPlot(                        \"1c5ea0c5-7946-48a9-8a67-cc6f63f13c2b\",                        [{\"connectgaps\": false, \"hoverinfo\": \"y+name\", \"line\": {\"color\": \"rgb(179,198,235)\", \"width\": 10}, \"mode\": \"lines\", \"name\": \"ebe6d31d-22cf-4e71-9987-aaeec9a097b1\", \"type\": \"scatter\", \"x\": [\"1970-01-01T00:04:45\", \"1970-01-01T00:04:45\", \"1970-01-01T00:05:00\", \"1970-01-01T00:05:00\", \"1970-01-01T00:05:00\", \"1970-01-01T00:56:15.649183\", \"1970-01-01T00:56:15.649183\", \"1970-01-01T00:56:30.649183\", \"1970-01-01T00:56:30.649183\", \"1970-01-01T00:56:30.649183\", \"1970-01-01T01:45:46.298365\", \"1970-01-01T01:45:46.298365\", \"1970-01-01T01:46:01.298365\", \"1970-01-01T01:46:01.298365\", \"1970-01-01T01:46:01.298365\"], \"y\": [\"Hopper 01\", \"Hopper 01\", \"Hopper 01\", \"Hopper 01\", null, \"Hopper 01\", \"Hopper 01\", \"Hopper 01\", \"Hopper 01\", null, \"Hopper 01\", \"Hopper 01\", \"Hopper 01\", \"Hopper 01\", null]}, {\"connectgaps\": false, \"hoverinfo\": \"y+name\", \"line\": {\"color\": \"rgb(192,211,248)\", \"width\": 10}, \"mode\": \"lines\", \"name\": \"6029ecc9-e8e4-49df-b69d-3fa85172dea5\", \"type\": \"scatter\", \"x\": [\"1970-01-01T00:24:32.824591\", \"1970-01-01T00:24:32.824591\", \"1970-01-01T00:25:17.824591\", \"1970-01-01T00:25:17.824591\", \"1970-01-01T00:25:17.824591\", \"1970-01-01T00:31:32.824591\", \"1970-01-01T00:31:32.824591\", \"1970-01-01T00:32:17.824591\", \"1970-01-01T00:32:17.824591\", \"1970-01-01T00:32:17.824591\", \"1970-01-01T01:16:03.473774\", \"1970-01-01T01:16:03.473774\", \"1970-01-01T01:16:48.473774\", \"1970-01-01T01:16:48.473774\", \"1970-01-01T01:16:48.473774\", \"1970-01-01T01:23:03.473774\", \"1970-01-01T01:23:03.473774\", \"1970-01-01T01:23:48.473774\", \"1970-01-01T01:23:48.473774\", \"1970-01-01T01:23:48.473774\", \"1970-01-01T02:05:24.122956\", \"1970-01-01T02:05:24.122956\", \"1970-01-01T02:06:09.122956\", \"1970-01-01T02:06:09.122956\", \"1970-01-01T02:06:09.122956\"], \"y\": [\"Hopper 01\", \"Hopper 01\", \"Hopper 01\", \"Hopper 01\", null, \"Hopper 01\", \"Hopper 01\", \"Hopper 01\", \"Hopper 01\", null, \"Hopper 01\", \"Hopper 01\", \"Hopper 01\", \"Hopper 01\", null, \"Hopper 01\", \"Hopper 01\", \"Hopper 01\", \"Hopper 01\", null, \"Hopper 01\", \"Hopper 01\", \"Hopper 01\", \"Hopper 01\", null]}, {\"connectgaps\": false, \"hoverinfo\": \"y+name\", \"line\": {\"color\": \"rgb(205,224,5)\", \"width\": 10}, \"mode\": \"lines\", \"name\": \"cc163f39-f3f1-4626-886a-ba1beb1640fd\", \"type\": \"scatter\", \"x\": [\"1970-01-01T00:21:47.824591\", \"1970-01-01T00:21:47.824591\", \"1970-01-01T00:21:47.824591\", \"1970-01-01T00:21:47.824591\", \"1970-01-01T00:21:47.824591\", \"1970-01-01T00:28:47.824591\", \"1970-01-01T00:28:47.824591\", \"1970-01-01T00:28:47.824591\", \"1970-01-01T00:28:47.824591\", \"1970-01-01T00:28:47.824591\", \"1970-01-01T01:13:18.473774\", \"1970-01-01T01:13:18.473774\", \"1970-01-01T01:13:18.473774\", \"1970-01-01T01:13:18.473774\", \"1970-01-01T01:13:18.473774\", \"1970-01-01T01:20:18.473774\", \"1970-01-01T01:20:18.473774\", \"1970-01-01T01:20:18.473774\", \"1970-01-01T01:20:18.473774\", \"1970-01-01T01:20:18.473774\", \"1970-01-01T02:02:39.122956\", \"1970-01-01T02:02:39.122956\", \"1970-01-01T02:02:39.122956\", \"1970-01-01T02:02:39.122956\", \"1970-01-01T02:02:39.122956\"], \"y\": [\"Hopper 01\", \"Hopper 01\", \"Hopper 01\", \"Hopper 01\", null, \"Hopper 01\", \"Hopper 01\", \"Hopper 01\", \"Hopper 01\", null, \"Hopper 01\", \"Hopper 01\", \"Hopper 01\", \"Hopper 01\", null, \"Hopper 01\", \"Hopper 01\", \"Hopper 01\", \"Hopper 01\", null, \"Hopper 01\", \"Hopper 01\", \"Hopper 01\", \"Hopper 01\", null]}, {\"connectgaps\": false, \"hoverinfo\": \"y+name\", \"line\": {\"color\": \"rgb(218,237,18)\", \"width\": 10}, \"mode\": \"lines\", \"name\": \"95f1a962-feae-472f-9a1b-1b078e515a50\", \"type\": \"scatter\", \"x\": [0, 0, \"1970-01-01T00:00:00\", \"1970-01-01T00:00:00\", \"1970-01-01T00:00:00\", \"1970-01-01T00:35:47.824591\", \"1970-01-01T00:35:47.824591\", \"1970-01-01T00:51:30.649183\", \"1970-01-01T00:51:30.649183\", \"1970-01-01T00:51:30.649183\", \"1970-01-01T01:27:18.473774\", \"1970-01-01T01:27:18.473774\", \"1970-01-01T01:43:01.298365\", \"1970-01-01T01:43:01.298365\", \"1970-01-01T01:43:01.298365\"], \"y\": [\"Hopper 01\", \"Hopper 01\", \"Hopper 01\", \"Hopper 01\", null, \"Hopper 01\", \"Hopper 01\", \"Hopper 01\", \"Hopper 01\", null, \"Hopper 01\", \"Hopper 01\", \"Hopper 01\", \"Hopper 01\", null]}, {\"connectgaps\": false, \"hoverinfo\": \"y+name\", \"line\": {\"color\": \"rgb(231,250,31)\", \"width\": 10}, \"mode\": \"lines\", \"name\": \"533345f1-4ec8-4055-9cd3-ff8b5e311086\", \"type\": \"scatter\", \"x\": [\"1970-01-01T00:22:32.824591\", \"1970-01-01T00:22:32.824591\", \"1970-01-01T00:24:32.824591\", \"1970-01-01T00:24:32.824591\", \"1970-01-01T00:24:32.824591\", \"1970-01-01T00:22:32.824591\", \"1970-01-01T00:22:32.824591\", \"1970-01-01T00:24:32.824591\", \"1970-01-01T00:24:32.824591\", \"1970-01-01T00:24:32.824591\", \"1970-01-01T00:29:32.824591\", \"1970-01-01T00:29:32.824591\", \"1970-01-01T00:31:32.824591\", \"1970-01-01T00:31:32.824591\", \"1970-01-01T00:31:32.824591\", \"1970-01-01T00:29:32.824591\", \"1970-01-01T00:29:32.824591\", \"1970-01-01T00:31:32.824591\", \"1970-01-01T00:31:32.824591\", \"1970-01-01T00:31:32.824591\", \"1970-01-01T01:14:03.473774\", \"1970-01-01T01:14:03.473774\", \"1970-01-01T01:16:03.473774\", \"1970-01-01T01:16:03.473774\", \"1970-01-01T01:16:03.473774\", \"1970-01-01T01:14:03.473774\", \"1970-01-01T01:14:03.473774\", \"1970-01-01T01:16:03.473774\", \"1970-01-01T01:16:03.473774\", \"1970-01-01T01:16:03.473774\", \"1970-01-01T01:21:03.473774\", \"1970-01-01T01:21:03.473774\", \"1970-01-01T01:23:03.473774\", \"1970-01-01T01:23:03.473774\", \"1970-01-01T01:23:03.473774\", \"1970-01-01T01:21:03.473774\", \"1970-01-01T01:21:03.473774\", \"1970-01-01T01:23:03.473774\", \"1970-01-01T01:23:03.473774\", \"1970-01-01T01:23:03.473774\", \"1970-01-01T02:03:24.122956\", \"1970-01-01T02:03:24.122956\", \"1970-01-01T02:05:24.122956\", \"1970-01-01T02:05:24.122956\", \"1970-01-01T02:05:24.122956\", \"1970-01-01T02:03:24.122956\", \"1970-01-01T02:03:24.122956\", \"1970-01-01T02:05:24.122956\", \"1970-01-01T02:05:24.122956\", \"1970-01-01T02:05:24.122956\", \"1970-01-01T00:22:32.824591\", \"1970-01-01T00:22:32.824591\", \"1970-01-01T00:24:32.824591\", \"1970-01-01T00:24:32.824591\", \"1970-01-01T00:24:32.824591\", \"1970-01-01T00:29:32.824591\", \"1970-01-01T00:29:32.824591\", \"1970-01-01T00:31:32.824591\", \"1970-01-01T00:31:32.824591\", \"1970-01-01T00:31:32.824591\", \"1970-01-01T01:14:03.473774\", \"1970-01-01T01:14:03.473774\", \"1970-01-01T01:16:03.473774\", \"1970-01-01T01:16:03.473774\", \"1970-01-01T01:16:03.473774\", \"1970-01-01T01:21:03.473774\", \"1970-01-01T01:21:03.473774\", \"1970-01-01T01:23:03.473774\", \"1970-01-01T01:23:03.473774\", \"1970-01-01T01:23:03.473774\", \"1970-01-01T02:03:24.122956\", \"1970-01-01T02:03:24.122956\", \"1970-01-01T02:05:24.122956\", \"1970-01-01T02:05:24.122956\", \"1970-01-01T02:05:24.122956\"], \"y\": [\"Hopper 01\", \"Hopper 01\", \"Hopper 01\", \"Hopper 01\", null, \"Hopper 01\", \"Hopper 01\", \"Hopper 01\", \"Hopper 01\", null, \"Hopper 01\", \"Hopper 01\", \"Hopper 01\", \"Hopper 01\", null, \"Hopper 01\", \"Hopper 01\", \"Hopper 01\", \"Hopper 01\", null, \"Hopper 01\", \"Hopper 01\", \"Hopper 01\", \"Hopper 01\", null, \"Hopper 01\", \"Hopper 01\", \"Hopper 01\", \"Hopper 01\", null, \"Hopper 01\", \"Hopper 01\", \"Hopper 01\", \"Hopper 01\", null, \"Hopper 01\", \"Hopper 01\", \"Hopper 01\", \"Hopper 01\", null, \"Hopper 01\", \"Hopper 01\", \"Hopper 01\", \"Hopper 01\", null, \"Hopper 01\", \"Hopper 01\", \"Hopper 01\", \"Hopper 01\", null, \"Dumplocatie\", \"Dumplocatie\", \"Dumplocatie\", \"Dumplocatie\", null, \"Dumplocatie\", \"Dumplocatie\", \"Dumplocatie\", \"Dumplocatie\", null, \"Dumplocatie\", \"Dumplocatie\", \"Dumplocatie\", \"Dumplocatie\", null, \"Dumplocatie\", \"Dumplocatie\", \"Dumplocatie\", \"Dumplocatie\", null, \"Dumplocatie\", \"Dumplocatie\", \"Dumplocatie\", \"Dumplocatie\", null]}, {\"connectgaps\": false, \"hoverinfo\": \"y+name\", \"line\": {\"color\": \"rgb(244,7,44)\", \"width\": 10}, \"mode\": \"lines\", \"name\": \"4d0d2f11-6111-4933-bd76-5f5f01cdda8e\", \"type\": \"scatter\", \"x\": [\"1970-01-01T00:00:00\", \"1970-01-01T00:00:00\", \"1970-01-01T00:00:45\", \"1970-01-01T00:00:45\", \"1970-01-01T00:00:45\", \"1970-01-01T00:51:30.649183\", \"1970-01-01T00:51:30.649183\", \"1970-01-01T00:52:15.649183\", \"1970-01-01T00:52:15.649183\", \"1970-01-01T00:52:15.649183\", \"1970-01-01T01:43:01.298365\", \"1970-01-01T01:43:01.298365\", \"1970-01-01T01:43:46.298365\", \"1970-01-01T01:43:46.298365\", \"1970-01-01T01:43:46.298365\"], \"y\": [\"Hopper 01\", \"Hopper 01\", \"Hopper 01\", \"Hopper 01\", null, \"Hopper 01\", \"Hopper 01\", \"Hopper 01\", \"Hopper 01\", null, \"Hopper 01\", \"Hopper 01\", \"Hopper 01\", \"Hopper 01\", null]}, {\"connectgaps\": false, \"hoverinfo\": \"y+name\", \"line\": {\"color\": \"rgb(1,20,57)\", \"width\": 10}, \"mode\": \"lines\", \"name\": \"c3174181-0a3f-4034-b934-1ca4966b5f98\", \"type\": \"scatter\", \"x\": [\"1970-01-01T00:05:00\", \"1970-01-01T00:05:00\", \"1970-01-01T00:05:30\", \"1970-01-01T00:05:30\", \"1970-01-01T00:05:30\", \"1970-01-01T00:56:30.649183\", \"1970-01-01T00:56:30.649183\", \"1970-01-01T00:57:00.649183\", \"1970-01-01T00:57:00.649183\", \"1970-01-01T00:57:00.649183\", \"1970-01-01T01:46:01.298365\", \"1970-01-01T01:46:01.298365\", \"1970-01-01T01:46:31.298365\", \"1970-01-01T01:46:31.298365\", \"1970-01-01T01:46:31.298365\"], \"y\": [\"Hopper 01\", \"Hopper 01\", \"Hopper 01\", \"Hopper 01\", null, \"Hopper 01\", \"Hopper 01\", \"Hopper 01\", \"Hopper 01\", null, \"Hopper 01\", \"Hopper 01\", \"Hopper 01\", \"Hopper 01\", null]}, {\"connectgaps\": false, \"hoverinfo\": \"y+name\", \"line\": {\"color\": \"rgb(14,33,70)\", \"width\": 10}, \"mode\": \"lines\", \"name\": \"b85fd31c-4828-45dc-8815-42ac1d791749\", \"type\": \"scatter\", \"x\": [\"1970-01-01T00:05:30\", \"1970-01-01T00:05:30\", \"1970-01-01T00:05:40\", \"1970-01-01T00:05:40\", \"1970-01-01T00:05:40\", \"1970-01-01T00:05:30\", \"1970-01-01T00:05:30\", \"1970-01-01T00:05:40\", \"1970-01-01T00:05:40\", \"1970-01-01T00:05:40\", \"1970-01-01T00:05:40\", \"1970-01-01T00:05:40\", \"1970-01-01T00:05:50\", \"1970-01-01T00:05:50\", \"1970-01-01T00:05:50\", \"1970-01-01T00:05:40\", \"1970-01-01T00:05:40\", \"1970-01-01T00:05:50\", \"1970-01-01T00:05:50\", \"1970-01-01T00:05:50\", \"1970-01-01T00:57:00.649183\", \"1970-01-01T00:57:00.649183\", \"1970-01-01T00:57:10.649183\", \"1970-01-01T00:57:10.649183\", \"1970-01-01T00:57:10.649183\", \"1970-01-01T00:57:00.649183\", \"1970-01-01T00:57:00.649183\", \"1970-01-01T00:57:10.649183\", \"1970-01-01T00:57:10.649183\", \"1970-01-01T00:57:10.649183\", \"1970-01-01T00:57:10.649183\", \"1970-01-01T00:57:10.649183\", \"1970-01-01T00:57:20.649183\", \"1970-01-01T00:57:20.649183\", \"1970-01-01T00:57:20.649183\", \"1970-01-01T00:57:10.649183\", \"1970-01-01T00:57:10.649183\", \"1970-01-01T00:57:20.649183\", \"1970-01-01T00:57:20.649183\", \"1970-01-01T00:57:20.649183\", \"1970-01-01T01:46:31.298365\", \"1970-01-01T01:46:31.298365\", \"1970-01-01T01:46:41.298365\", \"1970-01-01T01:46:41.298365\", \"1970-01-01T01:46:41.298365\", \"1970-01-01T01:46:31.298365\", \"1970-01-01T01:46:31.298365\", \"1970-01-01T01:46:41.298365\", \"1970-01-01T01:46:41.298365\", \"1970-01-01T01:46:41.298365\", \"1970-01-01T00:05:30\", \"1970-01-01T00:05:30\", \"1970-01-01T00:05:40\", \"1970-01-01T00:05:40\", \"1970-01-01T00:05:40\", \"1970-01-01T00:05:40\", \"1970-01-01T00:05:40\", \"1970-01-01T00:05:50\", \"1970-01-01T00:05:50\", \"1970-01-01T00:05:50\", \"1970-01-01T00:57:00.649183\", \"1970-01-01T00:57:00.649183\", \"1970-01-01T00:57:10.649183\", \"1970-01-01T00:57:10.649183\", \"1970-01-01T00:57:10.649183\", \"1970-01-01T00:57:10.649183\", \"1970-01-01T00:57:10.649183\", \"1970-01-01T00:57:20.649183\", \"1970-01-01T00:57:20.649183\", \"1970-01-01T00:57:20.649183\", \"1970-01-01T01:46:31.298365\", \"1970-01-01T01:46:31.298365\", \"1970-01-01T01:46:41.298365\", \"1970-01-01T01:46:41.298365\", \"1970-01-01T01:46:41.298365\"], \"y\": [\"Hopper 01\", \"Hopper 01\", \"Hopper 01\", \"Hopper 01\", null, \"Hopper 01\", \"Hopper 01\", \"Hopper 01\", \"Hopper 01\", null, \"Hopper 01\", \"Hopper 01\", \"Hopper 01\", \"Hopper 01\", null, \"Hopper 01\", \"Hopper 01\", \"Hopper 01\", \"Hopper 01\", null, \"Hopper 01\", \"Hopper 01\", \"Hopper 01\", \"Hopper 01\", null, \"Hopper 01\", \"Hopper 01\", \"Hopper 01\", \"Hopper 01\", null, \"Hopper 01\", \"Hopper 01\", \"Hopper 01\", \"Hopper 01\", null, \"Hopper 01\", \"Hopper 01\", \"Hopper 01\", \"Hopper 01\", null, \"Hopper 01\", \"Hopper 01\", \"Hopper 01\", \"Hopper 01\", null, \"Hopper 01\", \"Hopper 01\", \"Hopper 01\", \"Hopper 01\", null, \"Winlocatie\", \"Winlocatie\", \"Winlocatie\", \"Winlocatie\", null, \"Winlocatie\", \"Winlocatie\", \"Winlocatie\", \"Winlocatie\", null, \"Winlocatie\", \"Winlocatie\", \"Winlocatie\", \"Winlocatie\", null, \"Winlocatie\", \"Winlocatie\", \"Winlocatie\", \"Winlocatie\", null, \"Winlocatie\", \"Winlocatie\", \"Winlocatie\", \"Winlocatie\", null]}, {\"connectgaps\": false, \"hoverinfo\": \"y+name\", \"line\": {\"color\": \"rgb(27,46,83)\", \"width\": 10}, \"mode\": \"lines\", \"name\": \"e6deafcb-ad48-423a-b08f-e13837dd1975\", \"type\": \"scatter\", \"x\": [\"1970-01-01T00:21:47.824591\", \"1970-01-01T00:21:47.824591\", \"1970-01-01T00:22:32.824591\", \"1970-01-01T00:22:32.824591\", \"1970-01-01T00:22:32.824591\", \"1970-01-01T00:28:47.824591\", \"1970-01-01T00:28:47.824591\", \"1970-01-01T00:29:32.824591\", \"1970-01-01T00:29:32.824591\", \"1970-01-01T00:29:32.824591\", \"1970-01-01T01:13:18.473774\", \"1970-01-01T01:13:18.473774\", \"1970-01-01T01:14:03.473774\", \"1970-01-01T01:14:03.473774\", \"1970-01-01T01:14:03.473774\", \"1970-01-01T01:20:18.473774\", \"1970-01-01T01:20:18.473774\", \"1970-01-01T01:21:03.473774\", \"1970-01-01T01:21:03.473774\", \"1970-01-01T01:21:03.473774\", \"1970-01-01T02:02:39.122956\", \"1970-01-01T02:02:39.122956\", \"1970-01-01T02:03:24.122956\", \"1970-01-01T02:03:24.122956\", \"1970-01-01T02:03:24.122956\"], \"y\": [\"Hopper 01\", \"Hopper 01\", \"Hopper 01\", \"Hopper 01\", null, \"Hopper 01\", \"Hopper 01\", \"Hopper 01\", \"Hopper 01\", null, \"Hopper 01\", \"Hopper 01\", \"Hopper 01\", \"Hopper 01\", null, \"Hopper 01\", \"Hopper 01\", \"Hopper 01\", \"Hopper 01\", null, \"Hopper 01\", \"Hopper 01\", \"Hopper 01\", \"Hopper 01\", null]}, {\"connectgaps\": false, \"hoverinfo\": \"y+name\", \"line\": {\"color\": \"rgb(40,59,96)\", \"width\": 10}, \"mode\": \"lines\", \"name\": \"cfbfeb4b-b95d-4f72-ab8f-9bf9e72e1d9d\", \"type\": \"scatter\", \"x\": [\"1970-01-01T00:00:45\", \"1970-01-01T00:00:45\", \"1970-01-01T00:02:45\", \"1970-01-01T00:02:45\", \"1970-01-01T00:02:45\", \"1970-01-01T00:00:45\", \"1970-01-01T00:00:45\", \"1970-01-01T00:02:45\", \"1970-01-01T00:02:45\", \"1970-01-01T00:02:45\", \"1970-01-01T00:02:45\", \"1970-01-01T00:02:45\", \"1970-01-01T00:04:45\", \"1970-01-01T00:04:45\", \"1970-01-01T00:04:45\", \"1970-01-01T00:02:45\", \"1970-01-01T00:02:45\", \"1970-01-01T00:04:45\", \"1970-01-01T00:04:45\", \"1970-01-01T00:04:45\", \"1970-01-01T00:52:15.649183\", \"1970-01-01T00:52:15.649183\", \"1970-01-01T00:54:15.649183\", \"1970-01-01T00:54:15.649183\", \"1970-01-01T00:54:15.649183\", \"1970-01-01T00:52:15.649183\", \"1970-01-01T00:52:15.649183\", \"1970-01-01T00:54:15.649183\", \"1970-01-01T00:54:15.649183\", \"1970-01-01T00:54:15.649183\", \"1970-01-01T00:54:15.649183\", \"1970-01-01T00:54:15.649183\", \"1970-01-01T00:56:15.649183\", \"1970-01-01T00:56:15.649183\", \"1970-01-01T00:56:15.649183\", \"1970-01-01T00:54:15.649183\", \"1970-01-01T00:54:15.649183\", \"1970-01-01T00:56:15.649183\", \"1970-01-01T00:56:15.649183\", \"1970-01-01T00:56:15.649183\", \"1970-01-01T01:43:46.298365\", \"1970-01-01T01:43:46.298365\", \"1970-01-01T01:45:46.298365\", \"1970-01-01T01:45:46.298365\", \"1970-01-01T01:45:46.298365\", \"1970-01-01T01:43:46.298365\", \"1970-01-01T01:43:46.298365\", \"1970-01-01T01:45:46.298365\", \"1970-01-01T01:45:46.298365\", \"1970-01-01T01:45:46.298365\", \"1970-01-01T00:00:45\", \"1970-01-01T00:00:45\", \"1970-01-01T00:02:45\", \"1970-01-01T00:02:45\", \"1970-01-01T00:02:45\", \"1970-01-01T00:02:45\", \"1970-01-01T00:02:45\", \"1970-01-01T00:04:45\", \"1970-01-01T00:04:45\", \"1970-01-01T00:04:45\", \"1970-01-01T00:52:15.649183\", \"1970-01-01T00:52:15.649183\", \"1970-01-01T00:54:15.649183\", \"1970-01-01T00:54:15.649183\", \"1970-01-01T00:54:15.649183\", \"1970-01-01T00:54:15.649183\", \"1970-01-01T00:54:15.649183\", \"1970-01-01T00:56:15.649183\", \"1970-01-01T00:56:15.649183\", \"1970-01-01T00:56:15.649183\", \"1970-01-01T01:43:46.298365\", \"1970-01-01T01:43:46.298365\", \"1970-01-01T01:45:46.298365\", \"1970-01-01T01:45:46.298365\", \"1970-01-01T01:45:46.298365\"], \"y\": [\"Hopper 01\", \"Hopper 01\", \"Hopper 01\", \"Hopper 01\", null, \"Hopper 01\", \"Hopper 01\", \"Hopper 01\", \"Hopper 01\", null, \"Hopper 01\", \"Hopper 01\", \"Hopper 01\", \"Hopper 01\", null, \"Hopper 01\", \"Hopper 01\", \"Hopper 01\", \"Hopper 01\", null, \"Hopper 01\", \"Hopper 01\", \"Hopper 01\", \"Hopper 01\", null, \"Hopper 01\", \"Hopper 01\", \"Hopper 01\", \"Hopper 01\", null, \"Hopper 01\", \"Hopper 01\", \"Hopper 01\", \"Hopper 01\", null, \"Hopper 01\", \"Hopper 01\", \"Hopper 01\", \"Hopper 01\", null, \"Hopper 01\", \"Hopper 01\", \"Hopper 01\", \"Hopper 01\", null, \"Hopper 01\", \"Hopper 01\", \"Hopper 01\", \"Hopper 01\", null, \"Winlocatie\", \"Winlocatie\", \"Winlocatie\", \"Winlocatie\", null, \"Winlocatie\", \"Winlocatie\", \"Winlocatie\", \"Winlocatie\", null, \"Winlocatie\", \"Winlocatie\", \"Winlocatie\", \"Winlocatie\", null, \"Winlocatie\", \"Winlocatie\", \"Winlocatie\", \"Winlocatie\", null, \"Winlocatie\", \"Winlocatie\", \"Winlocatie\", \"Winlocatie\", null]}, {\"connectgaps\": false, \"hoverinfo\": \"y+name\", \"line\": {\"color\": \"rgb(53,72,109)\", \"width\": 10}, \"mode\": \"lines\", \"name\": \"5fa709e1-448b-47a4-8fa0-a2396e6e68eb\", \"type\": \"scatter\", \"x\": [\"1970-01-01T00:25:17.824591\", \"1970-01-01T00:25:17.824591\", \"1970-01-01T00:26:02.824591\", \"1970-01-01T00:26:02.824591\", \"1970-01-01T00:26:02.824591\", \"1970-01-01T00:32:17.824591\", \"1970-01-01T00:32:17.824591\", \"1970-01-01T00:33:02.824591\", \"1970-01-01T00:33:02.824591\", \"1970-01-01T00:33:02.824591\", \"1970-01-01T01:16:48.473774\", \"1970-01-01T01:16:48.473774\", \"1970-01-01T01:17:33.473774\", \"1970-01-01T01:17:33.473774\", \"1970-01-01T01:17:33.473774\", \"1970-01-01T01:23:48.473774\", \"1970-01-01T01:23:48.473774\", \"1970-01-01T01:24:33.473774\", \"1970-01-01T01:24:33.473774\", \"1970-01-01T01:24:33.473774\", \"1970-01-01T02:06:09.122956\", \"1970-01-01T02:06:09.122956\", \"1970-01-01T02:06:54.122956\", \"1970-01-01T02:06:54.122956\", \"1970-01-01T02:06:54.122956\"], \"y\": [\"Hopper 01\", \"Hopper 01\", \"Hopper 01\", \"Hopper 01\", null, \"Hopper 01\", \"Hopper 01\", \"Hopper 01\", \"Hopper 01\", null, \"Hopper 01\", \"Hopper 01\", \"Hopper 01\", \"Hopper 01\", null, \"Hopper 01\", \"Hopper 01\", \"Hopper 01\", \"Hopper 01\", null, \"Hopper 01\", \"Hopper 01\", \"Hopper 01\", \"Hopper 01\", null]}, {\"connectgaps\": false, \"hoverinfo\": \"y+name\", \"line\": {\"color\": \"rgb(66,85,122)\", \"width\": 10}, \"mode\": \"lines\", \"name\": \"fa8d8031-2da0-469e-ac06-79d9b6be99a4\", \"type\": \"scatter\", \"x\": [\"1970-01-01T00:06:05\", \"1970-01-01T00:06:05\", \"1970-01-01T00:21:47.824591\", \"1970-01-01T00:21:47.824591\", \"1970-01-01T00:21:47.824591\", \"1970-01-01T00:57:35.649183\", \"1970-01-01T00:57:35.649183\", \"1970-01-01T01:13:18.473774\", \"1970-01-01T01:13:18.473774\", \"1970-01-01T01:13:18.473774\", \"1970-01-01T01:46:56.298365\", \"1970-01-01T01:46:56.298365\", \"1970-01-01T02:02:39.122956\", \"1970-01-01T02:02:39.122956\", \"1970-01-01T02:02:39.122956\"], \"y\": [\"Hopper 01\", \"Hopper 01\", \"Hopper 01\", \"Hopper 01\", null, \"Hopper 01\", \"Hopper 01\", \"Hopper 01\", \"Hopper 01\", null, \"Hopper 01\", \"Hopper 01\", \"Hopper 01\", \"Hopper 01\", null]}, {\"connectgaps\": false, \"hoverinfo\": \"y+name\", \"line\": {\"color\": \"rgb(79,98,135)\", \"width\": 10}, \"mode\": \"lines\", \"name\": \"121569ed-dec6-443d-be66-11753c124f46\", \"type\": \"scatter\", \"x\": [\"1970-01-01T00:05:50\", \"1970-01-01T00:05:50\", \"1970-01-01T00:06:05\", \"1970-01-01T00:06:05\", \"1970-01-01T00:06:05\", \"1970-01-01T00:57:20.649183\", \"1970-01-01T00:57:20.649183\", \"1970-01-01T00:57:35.649183\", \"1970-01-01T00:57:35.649183\", \"1970-01-01T00:57:35.649183\", \"1970-01-01T01:46:41.298365\", \"1970-01-01T01:46:41.298365\", \"1970-01-01T01:46:56.298365\", \"1970-01-01T01:46:56.298365\", \"1970-01-01T01:46:56.298365\"], \"y\": [\"Hopper 01\", \"Hopper 01\", \"Hopper 01\", \"Hopper 01\", null, \"Hopper 01\", \"Hopper 01\", \"Hopper 01\", \"Hopper 01\", null, \"Hopper 01\", \"Hopper 01\", \"Hopper 01\", \"Hopper 01\", null]}, {\"connectgaps\": false, \"hoverinfo\": \"y+name\", \"line\": {\"color\": \"rgb(92,111,148)\", \"width\": 10}, \"mode\": \"lines\", \"name\": \"9cd1f7c7-a5a7-4ce6-9d01-e0278a1ce7fd\", \"type\": \"scatter\", \"x\": [\"1970-01-01T00:28:02.824591\", \"1970-01-01T00:28:02.824591\", \"1970-01-01T00:28:47.824591\", \"1970-01-01T00:28:47.824591\", \"1970-01-01T00:28:47.824591\", \"1970-01-01T00:35:02.824591\", \"1970-01-01T00:35:02.824591\", \"1970-01-01T00:35:47.824591\", \"1970-01-01T00:35:47.824591\", \"1970-01-01T00:35:47.824591\", \"1970-01-01T01:19:33.473774\", \"1970-01-01T01:19:33.473774\", \"1970-01-01T01:20:18.473774\", \"1970-01-01T01:20:18.473774\", \"1970-01-01T01:20:18.473774\", \"1970-01-01T01:26:33.473774\", \"1970-01-01T01:26:33.473774\", \"1970-01-01T01:27:18.473774\", \"1970-01-01T01:27:18.473774\", \"1970-01-01T01:27:18.473774\", \"1970-01-01T02:08:54.122956\", \"1970-01-01T02:08:54.122956\", \"1970-01-01T02:09:39.122956\", \"1970-01-01T02:09:39.122956\", \"1970-01-01T02:09:39.122956\"], \"y\": [\"Hopper 01\", \"Hopper 01\", \"Hopper 01\", \"Hopper 01\", null, \"Hopper 01\", \"Hopper 01\", \"Hopper 01\", \"Hopper 01\", null, \"Hopper 01\", \"Hopper 01\", \"Hopper 01\", \"Hopper 01\", null, \"Hopper 01\", \"Hopper 01\", \"Hopper 01\", \"Hopper 01\", null, \"Hopper 01\", \"Hopper 01\", \"Hopper 01\", \"Hopper 01\", null]}, {\"connectgaps\": false, \"hoverinfo\": \"y+name\", \"line\": {\"color\": \"rgb(105,124,161)\", \"width\": 10}, \"mode\": \"lines\", \"name\": \"56ab4cc3-4627-44c9-9d87-8281e76de89e\", \"type\": \"scatter\", \"x\": [\"1970-01-01T00:26:02.824591\", \"1970-01-01T00:26:02.824591\", \"1970-01-01T00:28:02.824591\", \"1970-01-01T00:28:02.824591\", \"1970-01-01T00:28:02.824591\", \"1970-01-01T00:26:02.824591\", \"1970-01-01T00:26:02.824591\", \"1970-01-01T00:28:02.824591\", \"1970-01-01T00:28:02.824591\", \"1970-01-01T00:28:02.824591\", \"1970-01-01T00:33:02.824591\", \"1970-01-01T00:33:02.824591\", \"1970-01-01T00:35:02.824591\", \"1970-01-01T00:35:02.824591\", \"1970-01-01T00:35:02.824591\", \"1970-01-01T00:33:02.824591\", \"1970-01-01T00:33:02.824591\", \"1970-01-01T00:35:02.824591\", \"1970-01-01T00:35:02.824591\", \"1970-01-01T00:35:02.824591\", \"1970-01-01T01:17:33.473774\", \"1970-01-01T01:17:33.473774\", \"1970-01-01T01:19:33.473774\", \"1970-01-01T01:19:33.473774\", \"1970-01-01T01:19:33.473774\", \"1970-01-01T01:17:33.473774\", \"1970-01-01T01:17:33.473774\", \"1970-01-01T01:19:33.473774\", \"1970-01-01T01:19:33.473774\", \"1970-01-01T01:19:33.473774\", \"1970-01-01T01:24:33.473774\", \"1970-01-01T01:24:33.473774\", \"1970-01-01T01:26:33.473774\", \"1970-01-01T01:26:33.473774\", \"1970-01-01T01:26:33.473774\", \"1970-01-01T01:24:33.473774\", \"1970-01-01T01:24:33.473774\", \"1970-01-01T01:26:33.473774\", \"1970-01-01T01:26:33.473774\", \"1970-01-01T01:26:33.473774\", \"1970-01-01T02:06:54.122956\", \"1970-01-01T02:06:54.122956\", \"1970-01-01T02:08:54.122956\", \"1970-01-01T02:08:54.122956\", \"1970-01-01T02:08:54.122956\", \"1970-01-01T02:06:54.122956\", \"1970-01-01T02:06:54.122956\", \"1970-01-01T02:08:54.122956\", \"1970-01-01T02:08:54.122956\", \"1970-01-01T02:08:54.122956\", \"1970-01-01T00:26:02.824591\", \"1970-01-01T00:26:02.824591\", \"1970-01-01T00:28:02.824591\", \"1970-01-01T00:28:02.824591\", \"1970-01-01T00:28:02.824591\", \"1970-01-01T00:33:02.824591\", \"1970-01-01T00:33:02.824591\", \"1970-01-01T00:35:02.824591\", \"1970-01-01T00:35:02.824591\", \"1970-01-01T00:35:02.824591\", \"1970-01-01T01:17:33.473774\", \"1970-01-01T01:17:33.473774\", \"1970-01-01T01:19:33.473774\", \"1970-01-01T01:19:33.473774\", \"1970-01-01T01:19:33.473774\", \"1970-01-01T01:24:33.473774\", \"1970-01-01T01:24:33.473774\", \"1970-01-01T01:26:33.473774\", \"1970-01-01T01:26:33.473774\", \"1970-01-01T01:26:33.473774\", \"1970-01-01T02:06:54.122956\", \"1970-01-01T02:06:54.122956\", \"1970-01-01T02:08:54.122956\", \"1970-01-01T02:08:54.122956\", \"1970-01-01T02:08:54.122956\"], \"y\": [\"Hopper 01\", \"Hopper 01\", \"Hopper 01\", \"Hopper 01\", null, \"Hopper 01\", \"Hopper 01\", \"Hopper 01\", \"Hopper 01\", null, \"Hopper 01\", \"Hopper 01\", \"Hopper 01\", \"Hopper 01\", null, \"Hopper 01\", \"Hopper 01\", \"Hopper 01\", \"Hopper 01\", null, \"Hopper 01\", \"Hopper 01\", \"Hopper 01\", \"Hopper 01\", null, \"Hopper 01\", \"Hopper 01\", \"Hopper 01\", \"Hopper 01\", null, \"Hopper 01\", \"Hopper 01\", \"Hopper 01\", \"Hopper 01\", null, \"Hopper 01\", \"Hopper 01\", \"Hopper 01\", \"Hopper 01\", null, \"Hopper 01\", \"Hopper 01\", \"Hopper 01\", \"Hopper 01\", null, \"Hopper 01\", \"Hopper 01\", \"Hopper 01\", \"Hopper 01\", null, \"Dumplocatie\", \"Dumplocatie\", \"Dumplocatie\", \"Dumplocatie\", null, \"Dumplocatie\", \"Dumplocatie\", \"Dumplocatie\", \"Dumplocatie\", null, \"Dumplocatie\", \"Dumplocatie\", \"Dumplocatie\", \"Dumplocatie\", null, \"Dumplocatie\", \"Dumplocatie\", \"Dumplocatie\", \"Dumplocatie\", null, \"Dumplocatie\", \"Dumplocatie\", \"Dumplocatie\", \"Dumplocatie\", null]}, {\"connectgaps\": false, \"hoverinfo\": \"y+name\", \"line\": {\"color\": \"rgb(118,137,174)\", \"width\": 10}, \"mode\": \"lines\", \"name\": \"cfbfeb4b-b95d-4f72-ab8f-9bf9e72e1d9d\", \"type\": \"scatter\", \"x\": [\"1970-01-01T00:00:45\", \"1970-01-01T00:00:45\", \"1970-01-01T00:02:45\", \"1970-01-01T00:02:45\", \"1970-01-01T00:02:45\", \"1970-01-01T00:00:45\", \"1970-01-01T00:00:45\", \"1970-01-01T00:02:45\", \"1970-01-01T00:02:45\", \"1970-01-01T00:02:45\", \"1970-01-01T00:02:45\", \"1970-01-01T00:02:45\", \"1970-01-01T00:04:45\", \"1970-01-01T00:04:45\", \"1970-01-01T00:04:45\", \"1970-01-01T00:02:45\", \"1970-01-01T00:02:45\", \"1970-01-01T00:04:45\", \"1970-01-01T00:04:45\", \"1970-01-01T00:04:45\", \"1970-01-01T00:52:15.649183\", \"1970-01-01T00:52:15.649183\", \"1970-01-01T00:54:15.649183\", \"1970-01-01T00:54:15.649183\", \"1970-01-01T00:54:15.649183\", \"1970-01-01T00:52:15.649183\", \"1970-01-01T00:52:15.649183\", \"1970-01-01T00:54:15.649183\", \"1970-01-01T00:54:15.649183\", \"1970-01-01T00:54:15.649183\", \"1970-01-01T00:54:15.649183\", \"1970-01-01T00:54:15.649183\", \"1970-01-01T00:56:15.649183\", \"1970-01-01T00:56:15.649183\", \"1970-01-01T00:56:15.649183\", \"1970-01-01T00:54:15.649183\", \"1970-01-01T00:54:15.649183\", \"1970-01-01T00:56:15.649183\", \"1970-01-01T00:56:15.649183\", \"1970-01-01T00:56:15.649183\", \"1970-01-01T01:43:46.298365\", \"1970-01-01T01:43:46.298365\", \"1970-01-01T01:45:46.298365\", \"1970-01-01T01:45:46.298365\", \"1970-01-01T01:45:46.298365\", \"1970-01-01T01:43:46.298365\", \"1970-01-01T01:43:46.298365\", \"1970-01-01T01:45:46.298365\", \"1970-01-01T01:45:46.298365\", \"1970-01-01T01:45:46.298365\", \"1970-01-01T00:00:45\", \"1970-01-01T00:00:45\", \"1970-01-01T00:02:45\", \"1970-01-01T00:02:45\", \"1970-01-01T00:02:45\", \"1970-01-01T00:02:45\", \"1970-01-01T00:02:45\", \"1970-01-01T00:04:45\", \"1970-01-01T00:04:45\", \"1970-01-01T00:04:45\", \"1970-01-01T00:52:15.649183\", \"1970-01-01T00:52:15.649183\", \"1970-01-01T00:54:15.649183\", \"1970-01-01T00:54:15.649183\", \"1970-01-01T00:54:15.649183\", \"1970-01-01T00:54:15.649183\", \"1970-01-01T00:54:15.649183\", \"1970-01-01T00:56:15.649183\", \"1970-01-01T00:56:15.649183\", \"1970-01-01T00:56:15.649183\", \"1970-01-01T01:43:46.298365\", \"1970-01-01T01:43:46.298365\", \"1970-01-01T01:45:46.298365\", \"1970-01-01T01:45:46.298365\", \"1970-01-01T01:45:46.298365\"], \"y\": [\"Hopper 01\", \"Hopper 01\", \"Hopper 01\", \"Hopper 01\", null, \"Hopper 01\", \"Hopper 01\", \"Hopper 01\", \"Hopper 01\", null, \"Hopper 01\", \"Hopper 01\", \"Hopper 01\", \"Hopper 01\", null, \"Hopper 01\", \"Hopper 01\", \"Hopper 01\", \"Hopper 01\", null, \"Hopper 01\", \"Hopper 01\", \"Hopper 01\", \"Hopper 01\", null, \"Hopper 01\", \"Hopper 01\", \"Hopper 01\", \"Hopper 01\", null, \"Hopper 01\", \"Hopper 01\", \"Hopper 01\", \"Hopper 01\", null, \"Hopper 01\", \"Hopper 01\", \"Hopper 01\", \"Hopper 01\", null, \"Hopper 01\", \"Hopper 01\", \"Hopper 01\", \"Hopper 01\", null, \"Hopper 01\", \"Hopper 01\", \"Hopper 01\", \"Hopper 01\", null, \"Winlocatie\", \"Winlocatie\", \"Winlocatie\", \"Winlocatie\", null, \"Winlocatie\", \"Winlocatie\", \"Winlocatie\", \"Winlocatie\", null, \"Winlocatie\", \"Winlocatie\", \"Winlocatie\", \"Winlocatie\", null, \"Winlocatie\", \"Winlocatie\", \"Winlocatie\", \"Winlocatie\", null, \"Winlocatie\", \"Winlocatie\", \"Winlocatie\", \"Winlocatie\", null]}, {\"connectgaps\": false, \"hoverinfo\": \"y+name\", \"line\": {\"color\": \"rgb(131,150,187)\", \"width\": 10}, \"mode\": \"lines\", \"name\": \"b85fd31c-4828-45dc-8815-42ac1d791749\", \"type\": \"scatter\", \"x\": [\"1970-01-01T00:05:30\", \"1970-01-01T00:05:30\", \"1970-01-01T00:05:40\", \"1970-01-01T00:05:40\", \"1970-01-01T00:05:40\", \"1970-01-01T00:05:30\", \"1970-01-01T00:05:30\", \"1970-01-01T00:05:40\", \"1970-01-01T00:05:40\", \"1970-01-01T00:05:40\", \"1970-01-01T00:05:40\", \"1970-01-01T00:05:40\", \"1970-01-01T00:05:50\", \"1970-01-01T00:05:50\", \"1970-01-01T00:05:50\", \"1970-01-01T00:05:40\", \"1970-01-01T00:05:40\", \"1970-01-01T00:05:50\", \"1970-01-01T00:05:50\", \"1970-01-01T00:05:50\", \"1970-01-01T00:57:00.649183\", \"1970-01-01T00:57:00.649183\", \"1970-01-01T00:57:10.649183\", \"1970-01-01T00:57:10.649183\", \"1970-01-01T00:57:10.649183\", \"1970-01-01T00:57:00.649183\", \"1970-01-01T00:57:00.649183\", \"1970-01-01T00:57:10.649183\", \"1970-01-01T00:57:10.649183\", \"1970-01-01T00:57:10.649183\", \"1970-01-01T00:57:10.649183\", \"1970-01-01T00:57:10.649183\", \"1970-01-01T00:57:20.649183\", \"1970-01-01T00:57:20.649183\", \"1970-01-01T00:57:20.649183\", \"1970-01-01T00:57:10.649183\", \"1970-01-01T00:57:10.649183\", \"1970-01-01T00:57:20.649183\", \"1970-01-01T00:57:20.649183\", \"1970-01-01T00:57:20.649183\", \"1970-01-01T01:46:31.298365\", \"1970-01-01T01:46:31.298365\", \"1970-01-01T01:46:41.298365\", \"1970-01-01T01:46:41.298365\", \"1970-01-01T01:46:41.298365\", \"1970-01-01T01:46:31.298365\", \"1970-01-01T01:46:31.298365\", \"1970-01-01T01:46:41.298365\", \"1970-01-01T01:46:41.298365\", \"1970-01-01T01:46:41.298365\", \"1970-01-01T00:05:30\", \"1970-01-01T00:05:30\", \"1970-01-01T00:05:40\", \"1970-01-01T00:05:40\", \"1970-01-01T00:05:40\", \"1970-01-01T00:05:40\", \"1970-01-01T00:05:40\", \"1970-01-01T00:05:50\", \"1970-01-01T00:05:50\", \"1970-01-01T00:05:50\", \"1970-01-01T00:57:00.649183\", \"1970-01-01T00:57:00.649183\", \"1970-01-01T00:57:10.649183\", \"1970-01-01T00:57:10.649183\", \"1970-01-01T00:57:10.649183\", \"1970-01-01T00:57:10.649183\", \"1970-01-01T00:57:10.649183\", \"1970-01-01T00:57:20.649183\", \"1970-01-01T00:57:20.649183\", \"1970-01-01T00:57:20.649183\", \"1970-01-01T01:46:31.298365\", \"1970-01-01T01:46:31.298365\", \"1970-01-01T01:46:41.298365\", \"1970-01-01T01:46:41.298365\", \"1970-01-01T01:46:41.298365\"], \"y\": [\"Hopper 01\", \"Hopper 01\", \"Hopper 01\", \"Hopper 01\", null, \"Hopper 01\", \"Hopper 01\", \"Hopper 01\", \"Hopper 01\", null, \"Hopper 01\", \"Hopper 01\", \"Hopper 01\", \"Hopper 01\", null, \"Hopper 01\", \"Hopper 01\", \"Hopper 01\", \"Hopper 01\", null, \"Hopper 01\", \"Hopper 01\", \"Hopper 01\", \"Hopper 01\", null, \"Hopper 01\", \"Hopper 01\", \"Hopper 01\", \"Hopper 01\", null, \"Hopper 01\", \"Hopper 01\", \"Hopper 01\", \"Hopper 01\", null, \"Hopper 01\", \"Hopper 01\", \"Hopper 01\", \"Hopper 01\", null, \"Hopper 01\", \"Hopper 01\", \"Hopper 01\", \"Hopper 01\", null, \"Hopper 01\", \"Hopper 01\", \"Hopper 01\", \"Hopper 01\", null, \"Winlocatie\", \"Winlocatie\", \"Winlocatie\", \"Winlocatie\", null, \"Winlocatie\", \"Winlocatie\", \"Winlocatie\", \"Winlocatie\", null, \"Winlocatie\", \"Winlocatie\", \"Winlocatie\", \"Winlocatie\", null, \"Winlocatie\", \"Winlocatie\", \"Winlocatie\", \"Winlocatie\", null, \"Winlocatie\", \"Winlocatie\", \"Winlocatie\", \"Winlocatie\", null]}, {\"connectgaps\": false, \"hoverinfo\": \"y+name\", \"line\": {\"color\": \"rgb(144,163,200)\", \"width\": 10}, \"mode\": \"lines\", \"name\": \"533345f1-4ec8-4055-9cd3-ff8b5e311086\", \"type\": \"scatter\", \"x\": [\"1970-01-01T00:22:32.824591\", \"1970-01-01T00:22:32.824591\", \"1970-01-01T00:24:32.824591\", \"1970-01-01T00:24:32.824591\", \"1970-01-01T00:24:32.824591\", \"1970-01-01T00:22:32.824591\", \"1970-01-01T00:22:32.824591\", \"1970-01-01T00:24:32.824591\", \"1970-01-01T00:24:32.824591\", \"1970-01-01T00:24:32.824591\", \"1970-01-01T00:29:32.824591\", \"1970-01-01T00:29:32.824591\", \"1970-01-01T00:31:32.824591\", \"1970-01-01T00:31:32.824591\", \"1970-01-01T00:31:32.824591\", \"1970-01-01T00:29:32.824591\", \"1970-01-01T00:29:32.824591\", \"1970-01-01T00:31:32.824591\", \"1970-01-01T00:31:32.824591\", \"1970-01-01T00:31:32.824591\", \"1970-01-01T01:14:03.473774\", \"1970-01-01T01:14:03.473774\", \"1970-01-01T01:16:03.473774\", \"1970-01-01T01:16:03.473774\", \"1970-01-01T01:16:03.473774\", \"1970-01-01T01:14:03.473774\", \"1970-01-01T01:14:03.473774\", \"1970-01-01T01:16:03.473774\", \"1970-01-01T01:16:03.473774\", \"1970-01-01T01:16:03.473774\", \"1970-01-01T01:21:03.473774\", \"1970-01-01T01:21:03.473774\", \"1970-01-01T01:23:03.473774\", \"1970-01-01T01:23:03.473774\", \"1970-01-01T01:23:03.473774\", \"1970-01-01T01:21:03.473774\", \"1970-01-01T01:21:03.473774\", \"1970-01-01T01:23:03.473774\", \"1970-01-01T01:23:03.473774\", \"1970-01-01T01:23:03.473774\", \"1970-01-01T02:03:24.122956\", \"1970-01-01T02:03:24.122956\", \"1970-01-01T02:05:24.122956\", \"1970-01-01T02:05:24.122956\", \"1970-01-01T02:05:24.122956\", \"1970-01-01T02:03:24.122956\", \"1970-01-01T02:03:24.122956\", \"1970-01-01T02:05:24.122956\", \"1970-01-01T02:05:24.122956\", \"1970-01-01T02:05:24.122956\", \"1970-01-01T00:22:32.824591\", \"1970-01-01T00:22:32.824591\", \"1970-01-01T00:24:32.824591\", \"1970-01-01T00:24:32.824591\", \"1970-01-01T00:24:32.824591\", \"1970-01-01T00:29:32.824591\", \"1970-01-01T00:29:32.824591\", \"1970-01-01T00:31:32.824591\", \"1970-01-01T00:31:32.824591\", \"1970-01-01T00:31:32.824591\", \"1970-01-01T01:14:03.473774\", \"1970-01-01T01:14:03.473774\", \"1970-01-01T01:16:03.473774\", \"1970-01-01T01:16:03.473774\", \"1970-01-01T01:16:03.473774\", \"1970-01-01T01:21:03.473774\", \"1970-01-01T01:21:03.473774\", \"1970-01-01T01:23:03.473774\", \"1970-01-01T01:23:03.473774\", \"1970-01-01T01:23:03.473774\", \"1970-01-01T02:03:24.122956\", \"1970-01-01T02:03:24.122956\", \"1970-01-01T02:05:24.122956\", \"1970-01-01T02:05:24.122956\", \"1970-01-01T02:05:24.122956\"], \"y\": [\"Hopper 01\", \"Hopper 01\", \"Hopper 01\", \"Hopper 01\", null, \"Hopper 01\", \"Hopper 01\", \"Hopper 01\", \"Hopper 01\", null, \"Hopper 01\", \"Hopper 01\", \"Hopper 01\", \"Hopper 01\", null, \"Hopper 01\", \"Hopper 01\", \"Hopper 01\", \"Hopper 01\", null, \"Hopper 01\", \"Hopper 01\", \"Hopper 01\", \"Hopper 01\", null, \"Hopper 01\", \"Hopper 01\", \"Hopper 01\", \"Hopper 01\", null, \"Hopper 01\", \"Hopper 01\", \"Hopper 01\", \"Hopper 01\", null, \"Hopper 01\", \"Hopper 01\", \"Hopper 01\", \"Hopper 01\", null, \"Hopper 01\", \"Hopper 01\", \"Hopper 01\", \"Hopper 01\", null, \"Hopper 01\", \"Hopper 01\", \"Hopper 01\", \"Hopper 01\", null, \"Dumplocatie\", \"Dumplocatie\", \"Dumplocatie\", \"Dumplocatie\", null, \"Dumplocatie\", \"Dumplocatie\", \"Dumplocatie\", \"Dumplocatie\", null, \"Dumplocatie\", \"Dumplocatie\", \"Dumplocatie\", \"Dumplocatie\", null, \"Dumplocatie\", \"Dumplocatie\", \"Dumplocatie\", \"Dumplocatie\", null, \"Dumplocatie\", \"Dumplocatie\", \"Dumplocatie\", \"Dumplocatie\", null]}, {\"connectgaps\": false, \"hoverinfo\": \"y+name\", \"line\": {\"color\": \"rgb(157,176,213)\", \"width\": 10}, \"mode\": \"lines\", \"name\": \"56ab4cc3-4627-44c9-9d87-8281e76de89e\", \"type\": \"scatter\", \"x\": [\"1970-01-01T00:26:02.824591\", \"1970-01-01T00:26:02.824591\", \"1970-01-01T00:28:02.824591\", \"1970-01-01T00:28:02.824591\", \"1970-01-01T00:28:02.824591\", \"1970-01-01T00:26:02.824591\", \"1970-01-01T00:26:02.824591\", \"1970-01-01T00:28:02.824591\", \"1970-01-01T00:28:02.824591\", \"1970-01-01T00:28:02.824591\", \"1970-01-01T00:33:02.824591\", \"1970-01-01T00:33:02.824591\", \"1970-01-01T00:35:02.824591\", \"1970-01-01T00:35:02.824591\", \"1970-01-01T00:35:02.824591\", \"1970-01-01T00:33:02.824591\", \"1970-01-01T00:33:02.824591\", \"1970-01-01T00:35:02.824591\", \"1970-01-01T00:35:02.824591\", \"1970-01-01T00:35:02.824591\", \"1970-01-01T01:17:33.473774\", \"1970-01-01T01:17:33.473774\", \"1970-01-01T01:19:33.473774\", \"1970-01-01T01:19:33.473774\", \"1970-01-01T01:19:33.473774\", \"1970-01-01T01:17:33.473774\", \"1970-01-01T01:17:33.473774\", \"1970-01-01T01:19:33.473774\", \"1970-01-01T01:19:33.473774\", \"1970-01-01T01:19:33.473774\", \"1970-01-01T01:24:33.473774\", \"1970-01-01T01:24:33.473774\", \"1970-01-01T01:26:33.473774\", \"1970-01-01T01:26:33.473774\", \"1970-01-01T01:26:33.473774\", \"1970-01-01T01:24:33.473774\", \"1970-01-01T01:24:33.473774\", \"1970-01-01T01:26:33.473774\", \"1970-01-01T01:26:33.473774\", \"1970-01-01T01:26:33.473774\", \"1970-01-01T02:06:54.122956\", \"1970-01-01T02:06:54.122956\", \"1970-01-01T02:08:54.122956\", \"1970-01-01T02:08:54.122956\", \"1970-01-01T02:08:54.122956\", \"1970-01-01T02:06:54.122956\", \"1970-01-01T02:06:54.122956\", \"1970-01-01T02:08:54.122956\", \"1970-01-01T02:08:54.122956\", \"1970-01-01T02:08:54.122956\", \"1970-01-01T00:26:02.824591\", \"1970-01-01T00:26:02.824591\", \"1970-01-01T00:28:02.824591\", \"1970-01-01T00:28:02.824591\", \"1970-01-01T00:28:02.824591\", \"1970-01-01T00:33:02.824591\", \"1970-01-01T00:33:02.824591\", \"1970-01-01T00:35:02.824591\", \"1970-01-01T00:35:02.824591\", \"1970-01-01T00:35:02.824591\", \"1970-01-01T01:17:33.473774\", \"1970-01-01T01:17:33.473774\", \"1970-01-01T01:19:33.473774\", \"1970-01-01T01:19:33.473774\", \"1970-01-01T01:19:33.473774\", \"1970-01-01T01:24:33.473774\", \"1970-01-01T01:24:33.473774\", \"1970-01-01T01:26:33.473774\", \"1970-01-01T01:26:33.473774\", \"1970-01-01T01:26:33.473774\", \"1970-01-01T02:06:54.122956\", \"1970-01-01T02:06:54.122956\", \"1970-01-01T02:08:54.122956\", \"1970-01-01T02:08:54.122956\", \"1970-01-01T02:08:54.122956\"], \"y\": [\"Hopper 01\", \"Hopper 01\", \"Hopper 01\", \"Hopper 01\", null, \"Hopper 01\", \"Hopper 01\", \"Hopper 01\", \"Hopper 01\", null, \"Hopper 01\", \"Hopper 01\", \"Hopper 01\", \"Hopper 01\", null, \"Hopper 01\", \"Hopper 01\", \"Hopper 01\", \"Hopper 01\", null, \"Hopper 01\", \"Hopper 01\", \"Hopper 01\", \"Hopper 01\", null, \"Hopper 01\", \"Hopper 01\", \"Hopper 01\", \"Hopper 01\", null, \"Hopper 01\", \"Hopper 01\", \"Hopper 01\", \"Hopper 01\", null, \"Hopper 01\", \"Hopper 01\", \"Hopper 01\", \"Hopper 01\", null, \"Hopper 01\", \"Hopper 01\", \"Hopper 01\", \"Hopper 01\", null, \"Hopper 01\", \"Hopper 01\", \"Hopper 01\", \"Hopper 01\", null, \"Dumplocatie\", \"Dumplocatie\", \"Dumplocatie\", \"Dumplocatie\", null, \"Dumplocatie\", \"Dumplocatie\", \"Dumplocatie\", \"Dumplocatie\", null, \"Dumplocatie\", \"Dumplocatie\", \"Dumplocatie\", \"Dumplocatie\", null, \"Dumplocatie\", \"Dumplocatie\", \"Dumplocatie\", \"Dumplocatie\", null, \"Dumplocatie\", \"Dumplocatie\", \"Dumplocatie\", \"Dumplocatie\", null]}],                        {\"hovermode\": \"closest\", \"legend\": {\"orientation\": \"h\", \"x\": 0, \"y\": -0.2}, \"template\": {\"data\": {\"bar\": [{\"error_x\": {\"color\": \"#2a3f5f\"}, \"error_y\": {\"color\": \"#2a3f5f\"}, \"marker\": {\"line\": {\"color\": \"#E5ECF6\", \"width\": 0.5}}, \"type\": \"bar\"}], \"barpolar\": [{\"marker\": {\"line\": {\"color\": \"#E5ECF6\", \"width\": 0.5}}, \"type\": \"barpolar\"}], \"carpet\": [{\"aaxis\": {\"endlinecolor\": \"#2a3f5f\", \"gridcolor\": \"white\", \"linecolor\": \"white\", \"minorgridcolor\": \"white\", \"startlinecolor\": \"#2a3f5f\"}, \"baxis\": {\"endlinecolor\": \"#2a3f5f\", \"gridcolor\": \"white\", \"linecolor\": \"white\", \"minorgridcolor\": \"white\", \"startlinecolor\": \"#2a3f5f\"}, \"type\": \"carpet\"}], \"choropleth\": [{\"colorbar\": {\"outlinewidth\": 0, \"ticks\": \"\"}, \"type\": \"choropleth\"}], \"contour\": [{\"colorbar\": {\"outlinewidth\": 0, \"ticks\": \"\"}, \"colorscale\": [[0.0, \"#0d0887\"], [0.1111111111111111, \"#46039f\"], [0.2222222222222222, \"#7201a8\"], [0.3333333333333333, \"#9c179e\"], [0.4444444444444444, \"#bd3786\"], [0.5555555555555556, \"#d8576b\"], [0.6666666666666666, \"#ed7953\"], [0.7777777777777778, \"#fb9f3a\"], [0.8888888888888888, \"#fdca26\"], [1.0, \"#f0f921\"]], \"type\": \"contour\"}], \"contourcarpet\": [{\"colorbar\": {\"outlinewidth\": 0, \"ticks\": \"\"}, \"type\": \"contourcarpet\"}], \"heatmap\": [{\"colorbar\": {\"outlinewidth\": 0, \"ticks\": \"\"}, \"colorscale\": [[0.0, \"#0d0887\"], [0.1111111111111111, \"#46039f\"], [0.2222222222222222, \"#7201a8\"], [0.3333333333333333, \"#9c179e\"], [0.4444444444444444, \"#bd3786\"], [0.5555555555555556, \"#d8576b\"], [0.6666666666666666, \"#ed7953\"], [0.7777777777777778, \"#fb9f3a\"], [0.8888888888888888, \"#fdca26\"], [1.0, \"#f0f921\"]], \"type\": \"heatmap\"}], \"heatmapgl\": [{\"colorbar\": {\"outlinewidth\": 0, \"ticks\": \"\"}, \"colorscale\": [[0.0, \"#0d0887\"], [0.1111111111111111, \"#46039f\"], [0.2222222222222222, \"#7201a8\"], [0.3333333333333333, \"#9c179e\"], [0.4444444444444444, \"#bd3786\"], [0.5555555555555556, \"#d8576b\"], [0.6666666666666666, \"#ed7953\"], [0.7777777777777778, \"#fb9f3a\"], [0.8888888888888888, \"#fdca26\"], [1.0, \"#f0f921\"]], \"type\": \"heatmapgl\"}], \"histogram\": [{\"marker\": {\"colorbar\": {\"outlinewidth\": 0, \"ticks\": \"\"}}, \"type\": \"histogram\"}], \"histogram2d\": [{\"colorbar\": {\"outlinewidth\": 0, \"ticks\": \"\"}, \"colorscale\": [[0.0, \"#0d0887\"], [0.1111111111111111, \"#46039f\"], [0.2222222222222222, \"#7201a8\"], [0.3333333333333333, \"#9c179e\"], [0.4444444444444444, \"#bd3786\"], [0.5555555555555556, \"#d8576b\"], [0.6666666666666666, \"#ed7953\"], [0.7777777777777778, \"#fb9f3a\"], [0.8888888888888888, \"#fdca26\"], [1.0, \"#f0f921\"]], \"type\": \"histogram2d\"}], \"histogram2dcontour\": [{\"colorbar\": {\"outlinewidth\": 0, \"ticks\": \"\"}, \"colorscale\": [[0.0, \"#0d0887\"], [0.1111111111111111, \"#46039f\"], [0.2222222222222222, \"#7201a8\"], [0.3333333333333333, \"#9c179e\"], [0.4444444444444444, \"#bd3786\"], [0.5555555555555556, \"#d8576b\"], [0.6666666666666666, \"#ed7953\"], [0.7777777777777778, \"#fb9f3a\"], [0.8888888888888888, \"#fdca26\"], [1.0, \"#f0f921\"]], \"type\": \"histogram2dcontour\"}], \"mesh3d\": [{\"colorbar\": {\"outlinewidth\": 0, \"ticks\": \"\"}, \"type\": \"mesh3d\"}], \"parcoords\": [{\"line\": {\"colorbar\": {\"outlinewidth\": 0, \"ticks\": \"\"}}, \"type\": \"parcoords\"}], \"pie\": [{\"automargin\": true, \"type\": \"pie\"}], \"scatter\": [{\"marker\": {\"colorbar\": {\"outlinewidth\": 0, \"ticks\": \"\"}}, \"type\": \"scatter\"}], \"scatter3d\": [{\"line\": {\"colorbar\": {\"outlinewidth\": 0, \"ticks\": \"\"}}, \"marker\": {\"colorbar\": {\"outlinewidth\": 0, \"ticks\": \"\"}}, \"type\": \"scatter3d\"}], \"scattercarpet\": [{\"marker\": {\"colorbar\": {\"outlinewidth\": 0, \"ticks\": \"\"}}, \"type\": \"scattercarpet\"}], \"scattergeo\": [{\"marker\": {\"colorbar\": {\"outlinewidth\": 0, \"ticks\": \"\"}}, \"type\": \"scattergeo\"}], \"scattergl\": [{\"marker\": {\"colorbar\": {\"outlinewidth\": 0, \"ticks\": \"\"}}, \"type\": \"scattergl\"}], \"scattermapbox\": [{\"marker\": {\"colorbar\": {\"outlinewidth\": 0, \"ticks\": \"\"}}, \"type\": \"scattermapbox\"}], \"scatterpolar\": [{\"marker\": {\"colorbar\": {\"outlinewidth\": 0, \"ticks\": \"\"}}, \"type\": \"scatterpolar\"}], \"scatterpolargl\": [{\"marker\": {\"colorbar\": {\"outlinewidth\": 0, \"ticks\": \"\"}}, \"type\": \"scatterpolargl\"}], \"scatterternary\": [{\"marker\": {\"colorbar\": {\"outlinewidth\": 0, \"ticks\": \"\"}}, \"type\": \"scatterternary\"}], \"surface\": [{\"colorbar\": {\"outlinewidth\": 0, \"ticks\": \"\"}, \"colorscale\": [[0.0, \"#0d0887\"], [0.1111111111111111, \"#46039f\"], [0.2222222222222222, \"#7201a8\"], [0.3333333333333333, \"#9c179e\"], [0.4444444444444444, \"#bd3786\"], [0.5555555555555556, \"#d8576b\"], [0.6666666666666666, \"#ed7953\"], [0.7777777777777778, \"#fb9f3a\"], [0.8888888888888888, \"#fdca26\"], [1.0, \"#f0f921\"]], \"type\": \"surface\"}], \"table\": [{\"cells\": {\"fill\": {\"color\": \"#EBF0F8\"}, \"line\": {\"color\": \"white\"}}, \"header\": {\"fill\": {\"color\": \"#C8D4E3\"}, \"line\": {\"color\": \"white\"}}, \"type\": \"table\"}]}, \"layout\": {\"annotationdefaults\": {\"arrowcolor\": \"#2a3f5f\", \"arrowhead\": 0, \"arrowwidth\": 1}, \"coloraxis\": {\"colorbar\": {\"outlinewidth\": 0, \"ticks\": \"\"}}, \"colorscale\": {\"diverging\": [[0, \"#8e0152\"], [0.1, \"#c51b7d\"], [0.2, \"#de77ae\"], [0.3, \"#f1b6da\"], [0.4, \"#fde0ef\"], [0.5, \"#f7f7f7\"], [0.6, \"#e6f5d0\"], [0.7, \"#b8e186\"], [0.8, \"#7fbc41\"], [0.9, \"#4d9221\"], [1, \"#276419\"]], \"sequential\": [[0.0, \"#0d0887\"], [0.1111111111111111, \"#46039f\"], [0.2222222222222222, \"#7201a8\"], [0.3333333333333333, \"#9c179e\"], [0.4444444444444444, \"#bd3786\"], [0.5555555555555556, \"#d8576b\"], [0.6666666666666666, \"#ed7953\"], [0.7777777777777778, \"#fb9f3a\"], [0.8888888888888888, \"#fdca26\"], [1.0, \"#f0f921\"]], \"sequentialminus\": [[0.0, \"#0d0887\"], [0.1111111111111111, \"#46039f\"], [0.2222222222222222, \"#7201a8\"], [0.3333333333333333, \"#9c179e\"], [0.4444444444444444, \"#bd3786\"], [0.5555555555555556, \"#d8576b\"], [0.6666666666666666, \"#ed7953\"], [0.7777777777777778, \"#fb9f3a\"], [0.8888888888888888, \"#fdca26\"], [1.0, \"#f0f921\"]]}, \"colorway\": [\"#636efa\", \"#EF553B\", \"#00cc96\", \"#ab63fa\", \"#FFA15A\", \"#19d3f3\", \"#FF6692\", \"#B6E880\", \"#FF97FF\", \"#FECB52\"], \"font\": {\"color\": \"#2a3f5f\"}, \"geo\": {\"bgcolor\": \"white\", \"lakecolor\": \"white\", \"landcolor\": \"#E5ECF6\", \"showlakes\": true, \"showland\": true, \"subunitcolor\": \"white\"}, \"hoverlabel\": {\"align\": \"left\"}, \"hovermode\": \"closest\", \"mapbox\": {\"style\": \"light\"}, \"paper_bgcolor\": \"white\", \"plot_bgcolor\": \"#E5ECF6\", \"polar\": {\"angularaxis\": {\"gridcolor\": \"white\", \"linecolor\": \"white\", \"ticks\": \"\"}, \"bgcolor\": \"#E5ECF6\", \"radialaxis\": {\"gridcolor\": \"white\", \"linecolor\": \"white\", \"ticks\": \"\"}}, \"scene\": {\"xaxis\": {\"backgroundcolor\": \"#E5ECF6\", \"gridcolor\": \"white\", \"gridwidth\": 2, \"linecolor\": \"white\", \"showbackground\": true, \"ticks\": \"\", \"zerolinecolor\": \"white\"}, \"yaxis\": {\"backgroundcolor\": \"#E5ECF6\", \"gridcolor\": \"white\", \"gridwidth\": 2, \"linecolor\": \"white\", \"showbackground\": true, \"ticks\": \"\", \"zerolinecolor\": \"white\"}, \"zaxis\": {\"backgroundcolor\": \"#E5ECF6\", \"gridcolor\": \"white\", \"gridwidth\": 2, \"linecolor\": \"white\", \"showbackground\": true, \"ticks\": \"\", \"zerolinecolor\": \"white\"}}, \"shapedefaults\": {\"line\": {\"color\": \"#2a3f5f\"}}, \"ternary\": {\"aaxis\": {\"gridcolor\": \"white\", \"linecolor\": \"white\", \"ticks\": \"\"}, \"baxis\": {\"gridcolor\": \"white\", \"linecolor\": \"white\", \"ticks\": \"\"}, \"bgcolor\": \"#E5ECF6\", \"caxis\": {\"gridcolor\": \"white\", \"linecolor\": \"white\", \"ticks\": \"\"}}, \"title\": {\"x\": 0.05}, \"xaxis\": {\"automargin\": true, \"gridcolor\": \"white\", \"linecolor\": \"white\", \"ticks\": \"\", \"title\": {\"standoff\": 15}, \"zerolinecolor\": \"white\", \"zerolinewidth\": 2}, \"yaxis\": {\"automargin\": true, \"gridcolor\": \"white\", \"linecolor\": \"white\", \"ticks\": \"\", \"title\": {\"standoff\": 15}, \"zerolinecolor\": \"white\", \"zerolinewidth\": 2}}}, \"title\": {\"text\": \"Vessel planning\"}, \"xaxis\": {\"range\": [\"1970-01-01T00:00:00\", \"1970-01-01T02:09:39.122956\"], \"title\": {\"font\": {\"color\": \"#7f7f7f\", \"family\": \"Courier New, monospace\", \"size\": 18}, \"text\": \"Time\"}}, \"yaxis\": {\"title\": {\"font\": {\"color\": \"#7f7f7f\", \"family\": \"Courier New, monospace\", \"size\": 18}, \"text\": \"Vessels\"}}},                        {\"responsive\": true}                    ).then(function(){\n",
       "                            \n",
       "var gd = document.getElementById('1c5ea0c5-7946-48a9-8a67-cc6f63f13c2b');\n",
       "var x = new MutationObserver(function (mutations, observer) {{\n",
       "        var display = window.getComputedStyle(gd).display;\n",
       "        if (!display || display === 'none') {{\n",
       "            console.log([gd, 'removed!']);\n",
       "            Plotly.purge(gd);\n",
       "            observer.disconnect();\n",
       "        }}\n",
       "}});\n",
       "\n",
       "// Listen for the removal of the full notebook cells\n",
       "var notebookContainer = gd.closest('#notebook-container');\n",
       "if (notebookContainer) {{\n",
       "    x.observe(notebookContainer, {childList: true});\n",
       "}}\n",
       "\n",
       "// Listen for the clearing of the current output cell\n",
       "var outputEl = gd.closest('.output');\n",
       "if (outputEl) {{\n",
       "    x.observe(outputEl, {childList: true});\n",
       "}}\n",
       "\n",
       "                        })                };                });            </script>        </div>"
      ]
     },
     "metadata": {},
     "output_type": "display_data"
    }
   ],
   "source": [
    "plot.vessel_planning([hopper, from_site, to_site])"
   ]
  },
  {
   "cell_type": "code",
   "execution_count": 9,
   "metadata": {
    "scrolled": false
   },
   "outputs": [
    {
     "name": "stderr",
     "output_type": "stream",
     "text": [
      "/opt/conda/lib/python3.7/site-packages/pandas/plotting/_matplotlib/converter.py:102: FutureWarning:\n",
      "\n",
      "Using an implicitly registered datetime converter for a matplotlib plotting method. The converter was registered by pandas on import. Future versions of pandas will require you to explicitly register matplotlib converters.\n",
      "\n",
      "To register the converters:\n",
      "\t>>> from pandas.plotting import register_matplotlib_converters\n",
      "\t>>> register_matplotlib_converters()\n",
      "\n"
     ]
    },
    {
     "data": {
      "image/png": "[encoded data removed]",
      "text/plain": [
       "<Figure size 432x288 with 1 Axes>"
      ]
     },
     "metadata": {
      "needs_background": "light"
     },
     "output_type": "display_data"
    },
    {
     "data": {
      "image/png": "[encoded data removed]",
      "text/plain": [
       "<Figure size 432x288 with 1 Axes>"
      ]
     },
     "metadata": {
      "needs_background": "light"
     },
     "output_type": "display_data"
    },
    {
     "data": {
      "image/png": "[encoded data removed]",
      "text/plain": [
       "<Figure size 432x288 with 1 Axes>"
      ]
     },
     "metadata": {
      "needs_background": "light"
     },
     "output_type": "display_data"
    }
   ],
   "source": [
    "fig = plot.get_step_chart([to_site])\n",
    "fig = plot.get_step_chart([from_site])\n",
    "fig = plot.get_step_chart([hopper])"
   ]
  },
  {
   "cell_type": "code",
   "execution_count": 10,
   "metadata": {},
   "outputs": [
    {
     "data": {
      "text/html": [
       "        <script type=\"text/javascript\">\n",
       "        window.PlotlyConfig = {MathJaxConfig: 'local'};\n",
       "        if (window.MathJax) {MathJax.Hub.Config({SVG: {font: \"STIX-Web\"}});}\n",
       "        if (typeof require !== 'undefined') {\n",
       "        require.undef(\"plotly\");\n",
       "        requirejs.config({\n",
       "            paths: {\n",
       "                'plotly': ['https://cdn.plot.ly/plotly-latest.min']\n",
       "            }\n",
       "        });\n",
       "        require(['plotly'], function(Plotly) {\n",
       "            window._Plotly = Plotly;\n",
       "        });\n",
       "        }\n",
       "        </script>\n",
       "        "
      ]
     },
     "metadata": {},
     "output_type": "display_data"
    },
    {
     "data": {
      "application/vnd.plotly.v1+json": {
       "config": {
        "linkText": "Export to plot.ly",
        "plotlyServerURL": "https://plot.ly",
        "showLink": false
       },
       "data": [
        {
         "connectgaps": false,
         "hoverinfo": "y+name",
         "line": {
          "color": "rgb(102,80,209)",
          "width": 10
         },
         "mode": "lines",
         "name": "sailing empty",
         "type": "scatter",
         "x": [
          0,
          0,
          "1970-01-01T00:00:00",
          "1970-01-01T00:00:00",
          "1970-01-01T00:00:00",
          "1970-01-01T00:35:47.824591",
          "1970-01-01T00:35:47.824591",
          "1970-01-01T00:51:30.649183",
          "1970-01-01T00:51:30.649183",
          "1970-01-01T00:51:30.649183",
          "1970-01-01T01:27:18.473774",
          "1970-01-01T01:27:18.473774",
          "1970-01-01T01:43:01.298365",
          "1970-01-01T01:43:01.298365",
          "1970-01-01T01:43:01.298365"
         ],
         "y": [
          "sailing empty",
          "sailing empty",
          "sailing empty",
          "sailing empty",
          null,
          "sailing empty",
          "sailing empty",
          "sailing empty",
          "sailing empty",
          null,
          "sailing empty",
          "sailing empty",
          "sailing empty",
          "sailing empty",
          null
         ]
        },
        {
         "connectgaps": false,
         "hoverinfo": "y+name",
         "line": {
          "color": "rgb(117,95,224)",
          "width": 10
         },
         "mode": "lines",
         "name": "loading",
         "type": "scatter",
         "x": [
          "1970-01-01T00:00:00",
          "1970-01-01T00:00:00",
          "1970-01-01T00:00:45",
          "1970-01-01T00:00:45",
          "1970-01-01T00:00:45",
          "1970-01-01T00:00:45",
          "1970-01-01T00:00:45",
          "1970-01-01T00:04:45",
          "1970-01-01T00:04:45",
          "1970-01-01T00:04:45",
          "1970-01-01T00:04:45",
          "1970-01-01T00:04:45",
          "1970-01-01T00:05:00",
          "1970-01-01T00:05:00",
          "1970-01-01T00:05:00",
          "1970-01-01T00:05:00",
          "1970-01-01T00:05:00",
          "1970-01-01T00:05:30",
          "1970-01-01T00:05:30",
          "1970-01-01T00:05:30",
          "1970-01-01T00:05:30",
          "1970-01-01T00:05:30",
          "1970-01-01T00:05:50",
          "1970-01-01T00:05:50",
          "1970-01-01T00:05:50",
          "1970-01-01T00:05:50",
          "1970-01-01T00:05:50",
          "1970-01-01T00:06:05",
          "1970-01-01T00:06:05",
          "1970-01-01T00:06:05",
          "1970-01-01T00:05:50",
          "1970-01-01T00:05:50",
          "1970-01-01T00:06:05",
          "1970-01-01T00:06:05",
          "1970-01-01T00:06:05",
          "1970-01-01T00:51:30.649183",
          "1970-01-01T00:51:30.649183",
          "1970-01-01T00:52:15.649183",
          "1970-01-01T00:52:15.649183",
          "1970-01-01T00:52:15.649183",
          "1970-01-01T00:52:15.649183",
          "1970-01-01T00:52:15.649183",
          "1970-01-01T00:56:15.649183",
          "1970-01-01T00:56:15.649183",
          "1970-01-01T00:56:15.649183",
          "1970-01-01T00:56:15.649183",
          "1970-01-01T00:56:15.649183",
          "1970-01-01T00:56:30.649183",
          "1970-01-01T00:56:30.649183",
          "1970-01-01T00:56:30.649183",
          "1970-01-01T00:56:30.649183",
          "1970-01-01T00:56:30.649183",
          "1970-01-01T00:57:00.649183",
          "1970-01-01T00:57:00.649183",
          "1970-01-01T00:57:00.649183",
          "1970-01-01T00:57:00.649183",
          "1970-01-01T00:57:00.649183",
          "1970-01-01T00:57:20.649183",
          "1970-01-01T00:57:20.649183",
          "1970-01-01T00:57:20.649183",
          "1970-01-01T00:57:20.649183",
          "1970-01-01T00:57:20.649183",
          "1970-01-01T00:57:35.649183",
          "1970-01-01T00:57:35.649183",
          "1970-01-01T00:57:35.649183",
          "1970-01-01T00:57:20.649183",
          "1970-01-01T00:57:20.649183",
          "1970-01-01T00:57:35.649183",
          "1970-01-01T00:57:35.649183",
          "1970-01-01T00:57:35.649183",
          "1970-01-01T01:43:01.298365",
          "1970-01-01T01:43:01.298365",
          "1970-01-01T01:43:46.298365",
          "1970-01-01T01:43:46.298365",
          "1970-01-01T01:43:46.298365",
          "1970-01-01T01:43:46.298365",
          "1970-01-01T01:43:46.298365",
          "1970-01-01T01:45:46.298365",
          "1970-01-01T01:45:46.298365",
          "1970-01-01T01:45:46.298365",
          "1970-01-01T01:45:46.298365",
          "1970-01-01T01:45:46.298365",
          "1970-01-01T01:46:01.298365",
          "1970-01-01T01:46:01.298365",
          "1970-01-01T01:46:01.298365",
          "1970-01-01T01:46:01.298365",
          "1970-01-01T01:46:01.298365",
          "1970-01-01T01:46:31.298365",
          "1970-01-01T01:46:31.298365",
          "1970-01-01T01:46:31.298365",
          "1970-01-01T01:46:31.298365",
          "1970-01-01T01:46:31.298365",
          "1970-01-01T01:46:41.298365",
          "1970-01-01T01:46:41.298365",
          "1970-01-01T01:46:41.298365",
          "1970-01-01T01:46:41.298365",
          "1970-01-01T01:46:41.298365",
          "1970-01-01T01:46:56.298365",
          "1970-01-01T01:46:56.298365",
          "1970-01-01T01:46:56.298365",
          "1970-01-01T01:46:41.298365",
          "1970-01-01T01:46:41.298365",
          "1970-01-01T01:46:56.298365",
          "1970-01-01T01:46:56.298365",
          "1970-01-01T01:46:56.298365"
         ],
         "y": [
          "loading",
          "loading",
          "loading",
          "loading",
          null,
          "loading",
          "loading",
          "loading",
          "loading",
          null,
          "loading",
          "loading",
          "loading",
          "loading",
          null,
          "loading",
          "loading",
          "loading",
          "loading",
          null,
          "loading",
          "loading",
          "loading",
          "loading",
          null,
          "loading",
          "loading",
          "loading",
          "loading",
          null,
          "loading",
          "loading",
          "loading",
          "loading",
          null,
          "loading",
          "loading",
          "loading",
          "loading",
          null,
          "loading",
          "loading",
          "loading",
          "loading",
          null,
          "loading",
          "loading",
          "loading",
          "loading",
          null,
          "loading",
          "loading",
          "loading",
          "loading",
          null,
          "loading",
          "loading",
          "loading",
          "loading",
          null,
          "loading",
          "loading",
          "loading",
          "loading",
          null,
          "loading",
          "loading",
          "loading",
          "loading",
          null,
          "loading",
          "loading",
          "loading",
          "loading",
          null,
          "loading",
          "loading",
          "loading",
          "loading",
          null,
          "loading",
          "loading",
          "loading",
          "loading",
          null,
          "loading",
          "loading",
          "loading",
          "loading",
          null,
          "loading",
          "loading",
          "loading",
          "loading",
          null,
          "loading",
          "loading",
          "loading",
          "loading",
          null,
          "loading",
          "loading",
          "loading",
          "loading",
          null
         ]
        },
        {
         "connectgaps": false,
         "hoverinfo": "y+name",
         "line": {
          "color": "rgb(132,110,239)",
          "width": 10
         },
         "mode": "lines",
         "name": "sailing filled",
         "type": "scatter",
         "x": [
          "1970-01-01T00:06:05",
          "1970-01-01T00:06:05",
          "1970-01-01T00:21:47.824591",
          "1970-01-01T00:21:47.824591",
          "1970-01-01T00:21:47.824591",
          "1970-01-01T00:57:35.649183",
          "1970-01-01T00:57:35.649183",
          "1970-01-01T01:13:18.473774",
          "1970-01-01T01:13:18.473774",
          "1970-01-01T01:13:18.473774",
          "1970-01-01T01:46:56.298365",
          "1970-01-01T01:46:56.298365",
          "1970-01-01T02:02:39.122956",
          "1970-01-01T02:02:39.122956",
          "1970-01-01T02:02:39.122956"
         ],
         "y": [
          "sailing filled",
          "sailing filled",
          "sailing filled",
          "sailing filled",
          null,
          "sailing filled",
          "sailing filled",
          "sailing filled",
          "sailing filled",
          null,
          "sailing filled",
          "sailing filled",
          "sailing filled",
          "sailing filled",
          null
         ]
        },
        {
         "connectgaps": false,
         "hoverinfo": "y+name",
         "line": {
          "color": "rgb(147,125,254)",
          "width": 10
         },
         "mode": "lines",
         "name": "unloading while",
         "type": "scatter",
         "x": [
          "1970-01-01T00:21:47.824591",
          "1970-01-01T00:21:47.824591",
          "1970-01-01T00:21:47.824591",
          "1970-01-01T00:21:47.824591",
          "1970-01-01T00:21:47.824591",
          "1970-01-01T00:21:47.824591",
          "1970-01-01T00:21:47.824591",
          "1970-01-01T00:22:32.824591",
          "1970-01-01T00:22:32.824591",
          "1970-01-01T00:22:32.824591",
          "1970-01-01T00:22:32.824591",
          "1970-01-01T00:22:32.824591",
          "1970-01-01T00:24:32.824591",
          "1970-01-01T00:24:32.824591",
          "1970-01-01T00:24:32.824591",
          "1970-01-01T00:24:32.824591",
          "1970-01-01T00:24:32.824591",
          "1970-01-01T00:25:17.824591",
          "1970-01-01T00:25:17.824591",
          "1970-01-01T00:25:17.824591",
          "1970-01-01T00:25:17.824591",
          "1970-01-01T00:25:17.824591",
          "1970-01-01T00:26:02.824591",
          "1970-01-01T00:26:02.824591",
          "1970-01-01T00:26:02.824591",
          "1970-01-01T00:26:02.824591",
          "1970-01-01T00:26:02.824591",
          "1970-01-01T00:28:02.824591",
          "1970-01-01T00:28:02.824591",
          "1970-01-01T00:28:02.824591",
          "1970-01-01T00:28:02.824591",
          "1970-01-01T00:28:02.824591",
          "1970-01-01T00:28:47.824591",
          "1970-01-01T00:28:47.824591",
          "1970-01-01T00:28:47.824591",
          "1970-01-01T00:28:02.824591",
          "1970-01-01T00:28:02.824591",
          "1970-01-01T00:28:47.824591",
          "1970-01-01T00:28:47.824591",
          "1970-01-01T00:28:47.824591",
          "1970-01-01T00:28:02.824591",
          "1970-01-01T00:28:02.824591",
          "1970-01-01T00:28:47.824591",
          "1970-01-01T00:28:47.824591",
          "1970-01-01T00:28:47.824591",
          "1970-01-01T00:28:47.824591",
          "1970-01-01T00:28:47.824591",
          "1970-01-01T00:28:47.824591",
          "1970-01-01T00:28:47.824591",
          "1970-01-01T00:28:47.824591",
          "1970-01-01T00:28:47.824591",
          "1970-01-01T00:28:47.824591",
          "1970-01-01T00:29:32.824591",
          "1970-01-01T00:29:32.824591",
          "1970-01-01T00:29:32.824591",
          "1970-01-01T00:29:32.824591",
          "1970-01-01T00:29:32.824591",
          "1970-01-01T00:31:32.824591",
          "1970-01-01T00:31:32.824591",
          "1970-01-01T00:31:32.824591",
          "1970-01-01T00:31:32.824591",
          "1970-01-01T00:31:32.824591",
          "1970-01-01T00:32:17.824591",
          "1970-01-01T00:32:17.824591",
          "1970-01-01T00:32:17.824591",
          "1970-01-01T00:32:17.824591",
          "1970-01-01T00:32:17.824591",
          "1970-01-01T00:33:02.824591",
          "1970-01-01T00:33:02.824591",
          "1970-01-01T00:33:02.824591",
          "1970-01-01T00:33:02.824591",
          "1970-01-01T00:33:02.824591",
          "1970-01-01T00:35:02.824591",
          "1970-01-01T00:35:02.824591",
          "1970-01-01T00:35:02.824591",
          "1970-01-01T00:35:02.824591",
          "1970-01-01T00:35:02.824591",
          "1970-01-01T00:35:47.824591",
          "1970-01-01T00:35:47.824591",
          "1970-01-01T00:35:47.824591",
          "1970-01-01T00:35:02.824591",
          "1970-01-01T00:35:02.824591",
          "1970-01-01T00:35:47.824591",
          "1970-01-01T00:35:47.824591",
          "1970-01-01T00:35:47.824591",
          "1970-01-01T00:35:02.824591",
          "1970-01-01T00:35:02.824591",
          "1970-01-01T00:35:47.824591",
          "1970-01-01T00:35:47.824591",
          "1970-01-01T00:35:47.824591",
          "1970-01-01T00:35:02.824591",
          "1970-01-01T00:35:02.824591",
          "1970-01-01T00:35:47.824591",
          "1970-01-01T00:35:47.824591",
          "1970-01-01T00:35:47.824591",
          "1970-01-01T01:13:18.473774",
          "1970-01-01T01:13:18.473774",
          "1970-01-01T01:13:18.473774",
          "1970-01-01T01:13:18.473774",
          "1970-01-01T01:13:18.473774",
          "1970-01-01T01:13:18.473774",
          "1970-01-01T01:13:18.473774",
          "1970-01-01T01:14:03.473774",
          "1970-01-01T01:14:03.473774",
          "1970-01-01T01:14:03.473774",
          "1970-01-01T01:14:03.473774",
          "1970-01-01T01:14:03.473774",
          "1970-01-01T01:16:03.473774",
          "1970-01-01T01:16:03.473774",
          "1970-01-01T01:16:03.473774",
          "1970-01-01T01:16:03.473774",
          "1970-01-01T01:16:03.473774",
          "1970-01-01T01:16:48.473774",
          "1970-01-01T01:16:48.473774",
          "1970-01-01T01:16:48.473774",
          "1970-01-01T01:16:48.473774",
          "1970-01-01T01:16:48.473774",
          "1970-01-01T01:17:33.473774",
          "1970-01-01T01:17:33.473774",
          "1970-01-01T01:17:33.473774",
          "1970-01-01T01:17:33.473774",
          "1970-01-01T01:17:33.473774",
          "1970-01-01T01:19:33.473774",
          "1970-01-01T01:19:33.473774",
          "1970-01-01T01:19:33.473774",
          "1970-01-01T01:19:33.473774",
          "1970-01-01T01:19:33.473774",
          "1970-01-01T01:20:18.473774",
          "1970-01-01T01:20:18.473774",
          "1970-01-01T01:20:18.473774",
          "1970-01-01T01:19:33.473774",
          "1970-01-01T01:19:33.473774",
          "1970-01-01T01:20:18.473774",
          "1970-01-01T01:20:18.473774",
          "1970-01-01T01:20:18.473774",
          "1970-01-01T01:19:33.473774",
          "1970-01-01T01:19:33.473774",
          "1970-01-01T01:20:18.473774",
          "1970-01-01T01:20:18.473774",
          "1970-01-01T01:20:18.473774",
          "1970-01-01T01:20:18.473774",
          "1970-01-01T01:20:18.473774",
          "1970-01-01T01:20:18.473774",
          "1970-01-01T01:20:18.473774",
          "1970-01-01T01:20:18.473774",
          "1970-01-01T01:20:18.473774",
          "1970-01-01T01:20:18.473774",
          "1970-01-01T01:21:03.473774",
          "1970-01-01T01:21:03.473774",
          "1970-01-01T01:21:03.473774",
          "1970-01-01T01:21:03.473774",
          "1970-01-01T01:21:03.473774",
          "1970-01-01T01:23:03.473774",
          "1970-01-01T01:23:03.473774",
          "1970-01-01T01:23:03.473774",
          "1970-01-01T01:23:03.473774",
          "1970-01-01T01:23:03.473774",
          "1970-01-01T01:23:48.473774",
          "1970-01-01T01:23:48.473774",
          "1970-01-01T01:23:48.473774",
          "1970-01-01T01:23:48.473774",
          "1970-01-01T01:23:48.473774",
          "1970-01-01T01:24:33.473774",
          "1970-01-01T01:24:33.473774",
          "1970-01-01T01:24:33.473774",
          "1970-01-01T01:24:33.473774",
          "1970-01-01T01:24:33.473774",
          "1970-01-01T01:26:33.473774",
          "1970-01-01T01:26:33.473774",
          "1970-01-01T01:26:33.473774",
          "1970-01-01T01:26:33.473774",
          "1970-01-01T01:26:33.473774",
          "1970-01-01T01:27:18.473774",
          "1970-01-01T01:27:18.473774",
          "1970-01-01T01:27:18.473774",
          "1970-01-01T01:26:33.473774",
          "1970-01-01T01:26:33.473774",
          "1970-01-01T01:27:18.473774",
          "1970-01-01T01:27:18.473774",
          "1970-01-01T01:27:18.473774",
          "1970-01-01T01:26:33.473774",
          "1970-01-01T01:26:33.473774",
          "1970-01-01T01:27:18.473774",
          "1970-01-01T01:27:18.473774",
          "1970-01-01T01:27:18.473774",
          "1970-01-01T01:26:33.473774",
          "1970-01-01T01:26:33.473774",
          "1970-01-01T01:27:18.473774",
          "1970-01-01T01:27:18.473774",
          "1970-01-01T01:27:18.473774",
          "1970-01-01T02:02:39.122956",
          "1970-01-01T02:02:39.122956",
          "1970-01-01T02:02:39.122956",
          "1970-01-01T02:02:39.122956",
          "1970-01-01T02:02:39.122956",
          "1970-01-01T02:02:39.122956",
          "1970-01-01T02:02:39.122956",
          "1970-01-01T02:03:24.122956",
          "1970-01-01T02:03:24.122956",
          "1970-01-01T02:03:24.122956",
          "1970-01-01T02:03:24.122956",
          "1970-01-01T02:03:24.122956",
          "1970-01-01T02:05:24.122956",
          "1970-01-01T02:05:24.122956",
          "1970-01-01T02:05:24.122956",
          "1970-01-01T02:05:24.122956",
          "1970-01-01T02:05:24.122956",
          "1970-01-01T02:06:09.122956",
          "1970-01-01T02:06:09.122956",
          "1970-01-01T02:06:09.122956",
          "1970-01-01T02:06:09.122956",
          "1970-01-01T02:06:09.122956",
          "1970-01-01T02:06:54.122956",
          "1970-01-01T02:06:54.122956",
          "1970-01-01T02:06:54.122956",
          "1970-01-01T02:06:54.122956",
          "1970-01-01T02:06:54.122956",
          "1970-01-01T02:08:54.122956",
          "1970-01-01T02:08:54.122956",
          "1970-01-01T02:08:54.122956",
          "1970-01-01T02:08:54.122956",
          "1970-01-01T02:08:54.122956",
          "1970-01-01T02:09:39.122956",
          "1970-01-01T02:09:39.122956",
          "1970-01-01T02:09:39.122956",
          "1970-01-01T02:08:54.122956",
          "1970-01-01T02:08:54.122956",
          "1970-01-01T02:09:39.122956",
          "1970-01-01T02:09:39.122956",
          "1970-01-01T02:09:39.122956",
          "1970-01-01T02:08:54.122956",
          "1970-01-01T02:08:54.122956",
          "1970-01-01T02:09:39.122956",
          "1970-01-01T02:09:39.122956",
          "1970-01-01T02:09:39.122956",
          "1970-01-01T02:08:54.122956",
          "1970-01-01T02:08:54.122956",
          "1970-01-01T02:09:39.122956",
          "1970-01-01T02:09:39.122956",
          "1970-01-01T02:09:39.122956"
         ],
         "y": [
          "unloading while",
          "unloading while",
          "unloading while",
          "unloading while",
          null,
          "unloading while",
          "unloading while",
          "unloading while",
          "unloading while",
          null,
          "unloading while",
          "unloading while",
          "unloading while",
          "unloading while",
          null,
          "unloading while",
          "unloading while",
          "unloading while",
          "unloading while",
          null,
          "unloading while",
          "unloading while",
          "unloading while",
          "unloading while",
          null,
          "unloading while",
          "unloading while",
          "unloading while",
          "unloading while",
          null,
          "unloading while",
          "unloading while",
          "unloading while",
          "unloading while",
          null,
          "unloading while",
          "unloading while",
          "unloading while",
          "unloading while",
          null,
          "unloading while",
          "unloading while",
          "unloading while",
          "unloading while",
          null,
          "unloading while",
          "unloading while",
          "unloading while",
          "unloading while",
          null,
          "unloading while",
          "unloading while",
          "unloading while",
          "unloading while",
          null,
          "unloading while",
          "unloading while",
          "unloading while",
          "unloading while",
          null,
          "unloading while",
          "unloading while",
          "unloading while",
          "unloading while",
          null,
          "unloading while",
          "unloading while",
          "unloading while",
          "unloading while",
          null,
          "unloading while",
          "unloading while",
          "unloading while",
          "unloading while",
          null,
          "unloading while",
          "unloading while",
          "unloading while",
          "unloading while",
          null,
          "unloading while",
          "unloading while",
          "unloading while",
          "unloading while",
          null,
          "unloading while",
          "unloading while",
          "unloading while",
          "unloading while",
          null,
          "unloading while",
          "unloading while",
          "unloading while",
          "unloading while",
          null,
          "unloading while",
          "unloading while",
          "unloading while",
          "unloading while",
          null,
          "unloading while",
          "unloading while",
          "unloading while",
          "unloading while",
          null,
          "unloading while",
          "unloading while",
          "unloading while",
          "unloading while",
          null,
          "unloading while",
          "unloading while",
          "unloading while",
          "unloading while",
          null,
          "unloading while",
          "unloading while",
          "unloading while",
          "unloading while",
          null,
          "unloading while",
          "unloading while",
          "unloading while",
          "unloading while",
          null,
          "unloading while",
          "unloading while",
          "unloading while",
          "unloading while",
          null,
          "unloading while",
          "unloading while",
          "unloading while",
          "unloading while",
          null,
          "unloading while",
          "unloading while",
          "unloading while",
          "unloading while",
          null,
          "unloading while",
          "unloading while",
          "unloading while",
          "unloading while",
          null,
          "unloading while",
          "unloading while",
          "unloading while",
          "unloading while",
          null,
          "unloading while",
          "unloading while",
          "unloading while",
          "unloading while",
          null,
          "unloading while",
          "unloading while",
          "unloading while",
          "unloading while",
          null,
          "unloading while",
          "unloading while",
          "unloading while",
          "unloading while",
          null,
          "unloading while",
          "unloading while",
          "unloading while",
          "unloading while",
          null,
          "unloading while",
          "unloading while",
          "unloading while",
          "unloading while",
          null,
          "unloading while",
          "unloading while",
          "unloading while",
          "unloading while",
          null,
          "unloading while",
          "unloading while",
          "unloading while",
          "unloading while",
          null,
          "unloading while",
          "unloading while",
          "unloading while",
          "unloading while",
          null,
          "unloading while",
          "unloading while",
          "unloading while",
          "unloading while",
          null,
          "unloading while",
          "unloading while",
          "unloading while",
          "unloading while",
          null,
          "unloading while",
          "unloading while",
          "unloading while",
          "unloading while",
          null,
          "unloading while",
          "unloading while",
          "unloading while",
          "unloading while",
          null,
          "unloading while",
          "unloading while",
          "unloading while",
          "unloading while",
          null,
          "unloading while",
          "unloading while",
          "unloading while",
          "unloading while",
          null,
          "unloading while",
          "unloading while",
          "unloading while",
          "unloading while",
          null,
          "unloading while",
          "unloading while",
          "unloading while",
          "unloading while",
          null,
          "unloading while",
          "unloading while",
          "unloading while",
          "unloading while",
          null,
          "unloading while",
          "unloading while",
          "unloading while",
          "unloading while",
          null
         ]
        },
        {
         "connectgaps": false,
         "hoverinfo": "y+name",
         "line": {
          "color": "rgb(162,140,13)",
          "width": 10
         },
         "mode": "lines",
         "name": "MP loading hook on rigging",
         "type": "scatter",
         "x": [
          "1970-01-01T00:00:00",
          "1970-01-01T00:00:00",
          "1970-01-01T00:00:45",
          "1970-01-01T00:00:45",
          "1970-01-01T00:00:45",
          "1970-01-01T00:51:30.649183",
          "1970-01-01T00:51:30.649183",
          "1970-01-01T00:52:15.649183",
          "1970-01-01T00:52:15.649183",
          "1970-01-01T00:52:15.649183",
          "1970-01-01T01:43:01.298365",
          "1970-01-01T01:43:01.298365",
          "1970-01-01T01:43:46.298365",
          "1970-01-01T01:43:46.298365",
          "1970-01-01T01:43:46.298365"
         ],
         "y": [
          "MP loading hook on rigging",
          "MP loading hook on rigging",
          "MP loading hook on rigging",
          "MP loading hook on rigging",
          null,
          "MP loading hook on rigging",
          "MP loading hook on rigging",
          "MP loading hook on rigging",
          "MP loading hook on rigging",
          null,
          "MP loading hook on rigging",
          "MP loading hook on rigging",
          "MP loading hook on rigging",
          "MP loading hook on rigging",
          null
         ]
        },
        {
         "connectgaps": false,
         "hoverinfo": "y+name",
         "line": {
          "color": "rgb(177,155,28)",
          "width": 10
         },
         "mode": "lines",
         "name": "loading MP while",
         "type": "scatter",
         "x": [
          "1970-01-01T00:00:45",
          "1970-01-01T00:00:45",
          "1970-01-01T00:02:45",
          "1970-01-01T00:02:45",
          "1970-01-01T00:02:45",
          "1970-01-01T00:00:45",
          "1970-01-01T00:00:45",
          "1970-01-01T00:02:45",
          "1970-01-01T00:02:45",
          "1970-01-01T00:02:45",
          "1970-01-01T00:00:45",
          "1970-01-01T00:00:45",
          "1970-01-01T00:02:45",
          "1970-01-01T00:02:45",
          "1970-01-01T00:02:45",
          "1970-01-01T00:02:45",
          "1970-01-01T00:02:45",
          "1970-01-01T00:04:45",
          "1970-01-01T00:04:45",
          "1970-01-01T00:04:45",
          "1970-01-01T00:02:45",
          "1970-01-01T00:02:45",
          "1970-01-01T00:04:45",
          "1970-01-01T00:04:45",
          "1970-01-01T00:04:45",
          "1970-01-01T00:02:45",
          "1970-01-01T00:02:45",
          "1970-01-01T00:04:45",
          "1970-01-01T00:04:45",
          "1970-01-01T00:04:45",
          "1970-01-01T00:02:45",
          "1970-01-01T00:02:45",
          "1970-01-01T00:04:45",
          "1970-01-01T00:04:45",
          "1970-01-01T00:04:45",
          "1970-01-01T00:52:15.649183",
          "1970-01-01T00:52:15.649183",
          "1970-01-01T00:54:15.649183",
          "1970-01-01T00:54:15.649183",
          "1970-01-01T00:54:15.649183",
          "1970-01-01T00:52:15.649183",
          "1970-01-01T00:52:15.649183",
          "1970-01-01T00:54:15.649183",
          "1970-01-01T00:54:15.649183",
          "1970-01-01T00:54:15.649183",
          "1970-01-01T00:52:15.649183",
          "1970-01-01T00:52:15.649183",
          "1970-01-01T00:54:15.649183",
          "1970-01-01T00:54:15.649183",
          "1970-01-01T00:54:15.649183",
          "1970-01-01T00:54:15.649183",
          "1970-01-01T00:54:15.649183",
          "1970-01-01T00:56:15.649183",
          "1970-01-01T00:56:15.649183",
          "1970-01-01T00:56:15.649183",
          "1970-01-01T00:54:15.649183",
          "1970-01-01T00:54:15.649183",
          "1970-01-01T00:56:15.649183",
          "1970-01-01T00:56:15.649183",
          "1970-01-01T00:56:15.649183",
          "1970-01-01T00:54:15.649183",
          "1970-01-01T00:54:15.649183",
          "1970-01-01T00:56:15.649183",
          "1970-01-01T00:56:15.649183",
          "1970-01-01T00:56:15.649183",
          "1970-01-01T00:54:15.649183",
          "1970-01-01T00:54:15.649183",
          "1970-01-01T00:56:15.649183",
          "1970-01-01T00:56:15.649183",
          "1970-01-01T00:56:15.649183",
          "1970-01-01T01:43:46.298365",
          "1970-01-01T01:43:46.298365",
          "1970-01-01T01:45:46.298365",
          "1970-01-01T01:45:46.298365",
          "1970-01-01T01:45:46.298365",
          "1970-01-01T01:43:46.298365",
          "1970-01-01T01:43:46.298365",
          "1970-01-01T01:45:46.298365",
          "1970-01-01T01:45:46.298365",
          "1970-01-01T01:45:46.298365",
          "1970-01-01T01:43:46.298365",
          "1970-01-01T01:43:46.298365",
          "1970-01-01T01:45:46.298365",
          "1970-01-01T01:45:46.298365",
          "1970-01-01T01:45:46.298365",
          "1970-01-01T01:43:46.298365",
          "1970-01-01T01:43:46.298365",
          "1970-01-01T01:45:46.298365",
          "1970-01-01T01:45:46.298365",
          "1970-01-01T01:45:46.298365",
          "1970-01-01T00:05:30",
          "1970-01-01T00:05:30",
          "1970-01-01T00:05:40",
          "1970-01-01T00:05:40",
          "1970-01-01T00:05:40",
          "1970-01-01T00:05:30",
          "1970-01-01T00:05:30",
          "1970-01-01T00:05:40",
          "1970-01-01T00:05:40",
          "1970-01-01T00:05:40",
          "1970-01-01T00:05:30",
          "1970-01-01T00:05:30",
          "1970-01-01T00:05:40",
          "1970-01-01T00:05:40",
          "1970-01-01T00:05:40",
          "1970-01-01T00:05:40",
          "1970-01-01T00:05:40",
          "1970-01-01T00:05:50",
          "1970-01-01T00:05:50",
          "1970-01-01T00:05:50",
          "1970-01-01T00:05:40",
          "1970-01-01T00:05:40",
          "1970-01-01T00:05:50",
          "1970-01-01T00:05:50",
          "1970-01-01T00:05:50",
          "1970-01-01T00:05:40",
          "1970-01-01T00:05:40",
          "1970-01-01T00:05:50",
          "1970-01-01T00:05:50",
          "1970-01-01T00:05:50",
          "1970-01-01T00:05:40",
          "1970-01-01T00:05:40",
          "1970-01-01T00:05:50",
          "1970-01-01T00:05:50",
          "1970-01-01T00:05:50",
          "1970-01-01T00:57:00.649183",
          "1970-01-01T00:57:00.649183",
          "1970-01-01T00:57:10.649183",
          "1970-01-01T00:57:10.649183",
          "1970-01-01T00:57:10.649183",
          "1970-01-01T00:57:00.649183",
          "1970-01-01T00:57:00.649183",
          "1970-01-01T00:57:10.649183",
          "1970-01-01T00:57:10.649183",
          "1970-01-01T00:57:10.649183",
          "1970-01-01T00:57:00.649183",
          "1970-01-01T00:57:00.649183",
          "1970-01-01T00:57:10.649183",
          "1970-01-01T00:57:10.649183",
          "1970-01-01T00:57:10.649183",
          "1970-01-01T00:57:10.649183",
          "1970-01-01T00:57:10.649183",
          "1970-01-01T00:57:20.649183",
          "1970-01-01T00:57:20.649183",
          "1970-01-01T00:57:20.649183",
          "1970-01-01T00:57:10.649183",
          "1970-01-01T00:57:10.649183",
          "1970-01-01T00:57:20.649183",
          "1970-01-01T00:57:20.649183",
          "1970-01-01T00:57:20.649183",
          "1970-01-01T00:57:10.649183",
          "1970-01-01T00:57:10.649183",
          "1970-01-01T00:57:20.649183",
          "1970-01-01T00:57:20.649183",
          "1970-01-01T00:57:20.649183",
          "1970-01-01T00:57:10.649183",
          "1970-01-01T00:57:10.649183",
          "1970-01-01T00:57:20.649183",
          "1970-01-01T00:57:20.649183",
          "1970-01-01T00:57:20.649183",
          "1970-01-01T01:46:31.298365",
          "1970-01-01T01:46:31.298365",
          "1970-01-01T01:46:41.298365",
          "1970-01-01T01:46:41.298365",
          "1970-01-01T01:46:41.298365",
          "1970-01-01T01:46:31.298365",
          "1970-01-01T01:46:31.298365",
          "1970-01-01T01:46:41.298365",
          "1970-01-01T01:46:41.298365",
          "1970-01-01T01:46:41.298365",
          "1970-01-01T01:46:31.298365",
          "1970-01-01T01:46:31.298365",
          "1970-01-01T01:46:41.298365",
          "1970-01-01T01:46:41.298365",
          "1970-01-01T01:46:41.298365",
          "1970-01-01T01:46:31.298365",
          "1970-01-01T01:46:31.298365",
          "1970-01-01T01:46:41.298365",
          "1970-01-01T01:46:41.298365",
          "1970-01-01T01:46:41.298365"
         ],
         "y": [
          "loading MP while",
          "loading MP while",
          "loading MP while",
          "loading MP while",
          null,
          "loading MP while",
          "loading MP while",
          "loading MP while",
          "loading MP while",
          null,
          "loading MP while",
          "loading MP while",
          "loading MP while",
          "loading MP while",
          null,
          "loading MP while",
          "loading MP while",
          "loading MP while",
          "loading MP while",
          null,
          "loading MP while",
          "loading MP while",
          "loading MP while",
          "loading MP while",
          null,
          "loading MP while",
          "loading MP while",
          "loading MP while",
          "loading MP while",
          null,
          "loading MP while",
          "loading MP while",
          "loading MP while",
          "loading MP while",
          null,
          "loading MP while",
          "loading MP while",
          "loading MP while",
          "loading MP while",
          null,
          "loading MP while",
          "loading MP while",
          "loading MP while",
          "loading MP while",
          null,
          "loading MP while",
          "loading MP while",
          "loading MP while",
          "loading MP while",
          null,
          "loading MP while",
          "loading MP while",
          "loading MP while",
          "loading MP while",
          null,
          "loading MP while",
          "loading MP while",
          "loading MP while",
          "loading MP while",
          null,
          "loading MP while",
          "loading MP while",
          "loading MP while",
          "loading MP while",
          null,
          "loading MP while",
          "loading MP while",
          "loading MP while",
          "loading MP while",
          null,
          "loading MP while",
          "loading MP while",
          "loading MP while",
          "loading MP while",
          null,
          "loading MP while",
          "loading MP while",
          "loading MP while",
          "loading MP while",
          null,
          "loading MP while",
          "loading MP while",
          "loading MP while",
          "loading MP while",
          null,
          "loading MP while",
          "loading MP while",
          "loading MP while",
          "loading MP while",
          null,
          "loading MP while",
          "loading MP while",
          "loading MP while",
          "loading MP while",
          null,
          "loading MP while",
          "loading MP while",
          "loading MP while",
          "loading MP while",
          null,
          "loading MP while",
          "loading MP while",
          "loading MP while",
          "loading MP while",
          null,
          "loading MP while",
          "loading MP while",
          "loading MP while",
          "loading MP while",
          null,
          "loading MP while",
          "loading MP while",
          "loading MP while",
          "loading MP while",
          null,
          "loading MP while",
          "loading MP while",
          "loading MP while",
          "loading MP while",
          null,
          "loading MP while",
          "loading MP while",
          "loading MP while",
          "loading MP while",
          null,
          "loading MP while",
          "loading MP while",
          "loading MP while",
          "loading MP while",
          null,
          "loading MP while",
          "loading MP while",
          "loading MP while",
          "loading MP while",
          null,
          "loading MP while",
          "loading MP while",
          "loading MP while",
          "loading MP while",
          null,
          "loading MP while",
          "loading MP while",
          "loading MP while",
          "loading MP while",
          null,
          "loading MP while",
          "loading MP while",
          "loading MP while",
          "loading MP while",
          null,
          "loading MP while",
          "loading MP while",
          "loading MP while",
          "loading MP while",
          null,
          "loading MP while",
          "loading MP while",
          "loading MP while",
          "loading MP while",
          null,
          "loading MP while",
          "loading MP while",
          "loading MP while",
          "loading MP while",
          null,
          "loading MP while",
          "loading MP while",
          "loading MP while",
          "loading MP while",
          null,
          "loading MP while",
          "loading MP while",
          "loading MP while",
          "loading MP while",
          null,
          "loading MP while",
          "loading MP while",
          "loading MP while",
          "loading MP while",
          null
         ]
        },
        {
         "connectgaps": false,
         "hoverinfo": "y+name",
         "line": {
          "color": "rgb(192,170,43)",
          "width": 10
         },
         "mode": "lines",
         "name": "MP loading hook off rigging",
         "type": "scatter",
         "x": [
          "1970-01-01T00:04:45",
          "1970-01-01T00:04:45",
          "1970-01-01T00:05:00",
          "1970-01-01T00:05:00",
          "1970-01-01T00:05:00",
          "1970-01-01T00:56:15.649183",
          "1970-01-01T00:56:15.649183",
          "1970-01-01T00:56:30.649183",
          "1970-01-01T00:56:30.649183",
          "1970-01-01T00:56:30.649183",
          "1970-01-01T01:45:46.298365",
          "1970-01-01T01:45:46.298365",
          "1970-01-01T01:46:01.298365",
          "1970-01-01T01:46:01.298365",
          "1970-01-01T01:46:01.298365"
         ],
         "y": [
          "MP loading hook off rigging",
          "MP loading hook off rigging",
          "MP loading hook off rigging",
          "MP loading hook off rigging",
          null,
          "MP loading hook off rigging",
          "MP loading hook off rigging",
          "MP loading hook off rigging",
          "MP loading hook off rigging",
          null,
          "MP loading hook off rigging",
          "MP loading hook off rigging",
          "MP loading hook off rigging",
          "MP loading hook off rigging",
          null
         ]
        },
        {
         "connectgaps": false,
         "hoverinfo": "y+name",
         "line": {
          "color": "rgb(207,185,58)",
          "width": 10
         },
         "mode": "lines",
         "name": "TP loading hook on rigging",
         "type": "scatter",
         "x": [
          "1970-01-01T00:05:00",
          "1970-01-01T00:05:00",
          "1970-01-01T00:05:30",
          "1970-01-01T00:05:30",
          "1970-01-01T00:05:30",
          "1970-01-01T00:56:30.649183",
          "1970-01-01T00:56:30.649183",
          "1970-01-01T00:57:00.649183",
          "1970-01-01T00:57:00.649183",
          "1970-01-01T00:57:00.649183",
          "1970-01-01T01:46:01.298365",
          "1970-01-01T01:46:01.298365",
          "1970-01-01T01:46:31.298365",
          "1970-01-01T01:46:31.298365",
          "1970-01-01T01:46:31.298365"
         ],
         "y": [
          "TP loading hook on rigging",
          "TP loading hook on rigging",
          "TP loading hook on rigging",
          "TP loading hook on rigging",
          null,
          "TP loading hook on rigging",
          "TP loading hook on rigging",
          "TP loading hook on rigging",
          "TP loading hook on rigging",
          null,
          "TP loading hook on rigging",
          "TP loading hook on rigging",
          "TP loading hook on rigging",
          "TP loading hook on rigging",
          null
         ]
        },
        {
         "connectgaps": false,
         "hoverinfo": "y+name",
         "line": {
          "color": "rgb(222,200,73)",
          "width": 10
         },
         "mode": "lines",
         "name": "loading MP while",
         "type": "scatter",
         "x": [
          "1970-01-01T00:00:45",
          "1970-01-01T00:00:45",
          "1970-01-01T00:02:45",
          "1970-01-01T00:02:45",
          "1970-01-01T00:02:45",
          "1970-01-01T00:00:45",
          "1970-01-01T00:00:45",
          "1970-01-01T00:02:45",
          "1970-01-01T00:02:45",
          "1970-01-01T00:02:45",
          "1970-01-01T00:00:45",
          "1970-01-01T00:00:45",
          "1970-01-01T00:02:45",
          "1970-01-01T00:02:45",
          "1970-01-01T00:02:45",
          "1970-01-01T00:02:45",
          "1970-01-01T00:02:45",
          "1970-01-01T00:04:45",
          "1970-01-01T00:04:45",
          "1970-01-01T00:04:45",
          "1970-01-01T00:02:45",
          "1970-01-01T00:02:45",
          "1970-01-01T00:04:45",
          "1970-01-01T00:04:45",
          "1970-01-01T00:04:45",
          "1970-01-01T00:02:45",
          "1970-01-01T00:02:45",
          "1970-01-01T00:04:45",
          "1970-01-01T00:04:45",
          "1970-01-01T00:04:45",
          "1970-01-01T00:02:45",
          "1970-01-01T00:02:45",
          "1970-01-01T00:04:45",
          "1970-01-01T00:04:45",
          "1970-01-01T00:04:45",
          "1970-01-01T00:52:15.649183",
          "1970-01-01T00:52:15.649183",
          "1970-01-01T00:54:15.649183",
          "1970-01-01T00:54:15.649183",
          "1970-01-01T00:54:15.649183",
          "1970-01-01T00:52:15.649183",
          "1970-01-01T00:52:15.649183",
          "1970-01-01T00:54:15.649183",
          "1970-01-01T00:54:15.649183",
          "1970-01-01T00:54:15.649183",
          "1970-01-01T00:52:15.649183",
          "1970-01-01T00:52:15.649183",
          "1970-01-01T00:54:15.649183",
          "1970-01-01T00:54:15.649183",
          "1970-01-01T00:54:15.649183",
          "1970-01-01T00:54:15.649183",
          "1970-01-01T00:54:15.649183",
          "1970-01-01T00:56:15.649183",
          "1970-01-01T00:56:15.649183",
          "1970-01-01T00:56:15.649183",
          "1970-01-01T00:54:15.649183",
          "1970-01-01T00:54:15.649183",
          "1970-01-01T00:56:15.649183",
          "1970-01-01T00:56:15.649183",
          "1970-01-01T00:56:15.649183",
          "1970-01-01T00:54:15.649183",
          "1970-01-01T00:54:15.649183",
          "1970-01-01T00:56:15.649183",
          "1970-01-01T00:56:15.649183",
          "1970-01-01T00:56:15.649183",
          "1970-01-01T00:54:15.649183",
          "1970-01-01T00:54:15.649183",
          "1970-01-01T00:56:15.649183",
          "1970-01-01T00:56:15.649183",
          "1970-01-01T00:56:15.649183",
          "1970-01-01T01:43:46.298365",
          "1970-01-01T01:43:46.298365",
          "1970-01-01T01:45:46.298365",
          "1970-01-01T01:45:46.298365",
          "1970-01-01T01:45:46.298365",
          "1970-01-01T01:43:46.298365",
          "1970-01-01T01:43:46.298365",
          "1970-01-01T01:45:46.298365",
          "1970-01-01T01:45:46.298365",
          "1970-01-01T01:45:46.298365",
          "1970-01-01T01:43:46.298365",
          "1970-01-01T01:43:46.298365",
          "1970-01-01T01:45:46.298365",
          "1970-01-01T01:45:46.298365",
          "1970-01-01T01:45:46.298365",
          "1970-01-01T01:43:46.298365",
          "1970-01-01T01:43:46.298365",
          "1970-01-01T01:45:46.298365",
          "1970-01-01T01:45:46.298365",
          "1970-01-01T01:45:46.298365",
          "1970-01-01T00:05:30",
          "1970-01-01T00:05:30",
          "1970-01-01T00:05:40",
          "1970-01-01T00:05:40",
          "1970-01-01T00:05:40",
          "1970-01-01T00:05:30",
          "1970-01-01T00:05:30",
          "1970-01-01T00:05:40",
          "1970-01-01T00:05:40",
          "1970-01-01T00:05:40",
          "1970-01-01T00:05:30",
          "1970-01-01T00:05:30",
          "1970-01-01T00:05:40",
          "1970-01-01T00:05:40",
          "1970-01-01T00:05:40",
          "1970-01-01T00:05:40",
          "1970-01-01T00:05:40",
          "1970-01-01T00:05:50",
          "1970-01-01T00:05:50",
          "1970-01-01T00:05:50",
          "1970-01-01T00:05:40",
          "1970-01-01T00:05:40",
          "1970-01-01T00:05:50",
          "1970-01-01T00:05:50",
          "1970-01-01T00:05:50",
          "1970-01-01T00:05:40",
          "1970-01-01T00:05:40",
          "1970-01-01T00:05:50",
          "1970-01-01T00:05:50",
          "1970-01-01T00:05:50",
          "1970-01-01T00:05:40",
          "1970-01-01T00:05:40",
          "1970-01-01T00:05:50",
          "1970-01-01T00:05:50",
          "1970-01-01T00:05:50",
          "1970-01-01T00:57:00.649183",
          "1970-01-01T00:57:00.649183",
          "1970-01-01T00:57:10.649183",
          "1970-01-01T00:57:10.649183",
          "1970-01-01T00:57:10.649183",
          "1970-01-01T00:57:00.649183",
          "1970-01-01T00:57:00.649183",
          "1970-01-01T00:57:10.649183",
          "1970-01-01T00:57:10.649183",
          "1970-01-01T00:57:10.649183",
          "1970-01-01T00:57:00.649183",
          "1970-01-01T00:57:00.649183",
          "1970-01-01T00:57:10.649183",
          "1970-01-01T00:57:10.649183",
          "1970-01-01T00:57:10.649183",
          "1970-01-01T00:57:10.649183",
          "1970-01-01T00:57:10.649183",
          "1970-01-01T00:57:20.649183",
          "1970-01-01T00:57:20.649183",
          "1970-01-01T00:57:20.649183",
          "1970-01-01T00:57:10.649183",
          "1970-01-01T00:57:10.649183",
          "1970-01-01T00:57:20.649183",
          "1970-01-01T00:57:20.649183",
          "1970-01-01T00:57:20.649183",
          "1970-01-01T00:57:10.649183",
          "1970-01-01T00:57:10.649183",
          "1970-01-01T00:57:20.649183",
          "1970-01-01T00:57:20.649183",
          "1970-01-01T00:57:20.649183",
          "1970-01-01T00:57:10.649183",
          "1970-01-01T00:57:10.649183",
          "1970-01-01T00:57:20.649183",
          "1970-01-01T00:57:20.649183",
          "1970-01-01T00:57:20.649183",
          "1970-01-01T01:46:31.298365",
          "1970-01-01T01:46:31.298365",
          "1970-01-01T01:46:41.298365",
          "1970-01-01T01:46:41.298365",
          "1970-01-01T01:46:41.298365",
          "1970-01-01T01:46:31.298365",
          "1970-01-01T01:46:31.298365",
          "1970-01-01T01:46:41.298365",
          "1970-01-01T01:46:41.298365",
          "1970-01-01T01:46:41.298365",
          "1970-01-01T01:46:31.298365",
          "1970-01-01T01:46:31.298365",
          "1970-01-01T01:46:41.298365",
          "1970-01-01T01:46:41.298365",
          "1970-01-01T01:46:41.298365",
          "1970-01-01T01:46:31.298365",
          "1970-01-01T01:46:31.298365",
          "1970-01-01T01:46:41.298365",
          "1970-01-01T01:46:41.298365",
          "1970-01-01T01:46:41.298365"
         ],
         "y": [
          "loading MP while",
          "loading MP while",
          "loading MP while",
          "loading MP while",
          null,
          "loading MP while",
          "loading MP while",
          "loading MP while",
          "loading MP while",
          null,
          "loading MP while",
          "loading MP while",
          "loading MP while",
          "loading MP while",
          null,
          "loading MP while",
          "loading MP while",
          "loading MP while",
          "loading MP while",
          null,
          "loading MP while",
          "loading MP while",
          "loading MP while",
          "loading MP while",
          null,
          "loading MP while",
          "loading MP while",
          "loading MP while",
          "loading MP while",
          null,
          "loading MP while",
          "loading MP while",
          "loading MP while",
          "loading MP while",
          null,
          "loading MP while",
          "loading MP while",
          "loading MP while",
          "loading MP while",
          null,
          "loading MP while",
          "loading MP while",
          "loading MP while",
          "loading MP while",
          null,
          "loading MP while",
          "loading MP while",
          "loading MP while",
          "loading MP while",
          null,
          "loading MP while",
          "loading MP while",
          "loading MP while",
          "loading MP while",
          null,
          "loading MP while",
          "loading MP while",
          "loading MP while",
          "loading MP while",
          null,
          "loading MP while",
          "loading MP while",
          "loading MP while",
          "loading MP while",
          null,
          "loading MP while",
          "loading MP while",
          "loading MP while",
          "loading MP while",
          null,
          "loading MP while",
          "loading MP while",
          "loading MP while",
          "loading MP while",
          null,
          "loading MP while",
          "loading MP while",
          "loading MP while",
          "loading MP while",
          null,
          "loading MP while",
          "loading MP while",
          "loading MP while",
          "loading MP while",
          null,
          "loading MP while",
          "loading MP while",
          "loading MP while",
          "loading MP while",
          null,
          "loading MP while",
          "loading MP while",
          "loading MP while",
          "loading MP while",
          null,
          "loading MP while",
          "loading MP while",
          "loading MP while",
          "loading MP while",
          null,
          "loading MP while",
          "loading MP while",
          "loading MP while",
          "loading MP while",
          null,
          "loading MP while",
          "loading MP while",
          "loading MP while",
          "loading MP while",
          null,
          "loading MP while",
          "loading MP while",
          "loading MP while",
          "loading MP while",
          null,
          "loading MP while",
          "loading MP while",
          "loading MP while",
          "loading MP while",
          null,
          "loading MP while",
          "loading MP while",
          "loading MP while",
          "loading MP while",
          null,
          "loading MP while",
          "loading MP while",
          "loading MP while",
          "loading MP while",
          null,
          "loading MP while",
          "loading MP while",
          "loading MP while",
          "loading MP while",
          null,
          "loading MP while",
          "loading MP while",
          "loading MP while",
          "loading MP while",
          null,
          "loading MP while",
          "loading MP while",
          "loading MP while",
          "loading MP while",
          null,
          "loading MP while",
          "loading MP while",
          "loading MP while",
          "loading MP while",
          null,
          "loading MP while",
          "loading MP while",
          "loading MP while",
          "loading MP while",
          null,
          "loading MP while",
          "loading MP while",
          "loading MP while",
          "loading MP while",
          null,
          "loading MP while",
          "loading MP while",
          "loading MP while",
          "loading MP while",
          null,
          "loading MP while",
          "loading MP while",
          "loading MP while",
          "loading MP while",
          null,
          "loading MP while",
          "loading MP while",
          "loading MP while",
          "loading MP while",
          null,
          "loading MP while",
          "loading MP while",
          "loading MP while",
          "loading MP while",
          null
         ]
        },
        {
         "connectgaps": false,
         "hoverinfo": "y+name",
         "line": {
          "color": "rgb(237,215,88)",
          "width": 10
         },
         "mode": "lines",
         "name": "TP loading hook off rigging",
         "type": "scatter",
         "x": [
          "1970-01-01T00:05:50",
          "1970-01-01T00:05:50",
          "1970-01-01T00:06:05",
          "1970-01-01T00:06:05",
          "1970-01-01T00:06:05",
          "1970-01-01T00:57:20.649183",
          "1970-01-01T00:57:20.649183",
          "1970-01-01T00:57:35.649183",
          "1970-01-01T00:57:35.649183",
          "1970-01-01T00:57:35.649183",
          "1970-01-01T01:46:41.298365",
          "1970-01-01T01:46:41.298365",
          "1970-01-01T01:46:56.298365",
          "1970-01-01T01:46:56.298365",
          "1970-01-01T01:46:56.298365"
         ],
         "y": [
          "TP loading hook off rigging",
          "TP loading hook off rigging",
          "TP loading hook off rigging",
          "TP loading hook off rigging",
          null,
          "TP loading hook off rigging",
          "TP loading hook off rigging",
          "TP loading hook off rigging",
          "TP loading hook off rigging",
          null,
          "TP loading hook off rigging",
          "TP loading hook off rigging",
          "TP loading hook off rigging",
          "TP loading hook off rigging",
          null
         ]
        },
        {
         "connectgaps": false,
         "hoverinfo": "y+name",
         "line": {
          "color": "rgb(252,230,103)",
          "width": 10
         },
         "mode": "lines",
         "name": "sailing transit",
         "type": "scatter",
         "x": [
          "1970-01-01T00:21:47.824591",
          "1970-01-01T00:21:47.824591",
          "1970-01-01T00:21:47.824591",
          "1970-01-01T00:21:47.824591",
          "1970-01-01T00:21:47.824591",
          "1970-01-01T00:28:47.824591",
          "1970-01-01T00:28:47.824591",
          "1970-01-01T00:28:47.824591",
          "1970-01-01T00:28:47.824591",
          "1970-01-01T00:28:47.824591",
          "1970-01-01T01:13:18.473774",
          "1970-01-01T01:13:18.473774",
          "1970-01-01T01:13:18.473774",
          "1970-01-01T01:13:18.473774",
          "1970-01-01T01:13:18.473774",
          "1970-01-01T01:20:18.473774",
          "1970-01-01T01:20:18.473774",
          "1970-01-01T01:20:18.473774",
          "1970-01-01T01:20:18.473774",
          "1970-01-01T01:20:18.473774",
          "1970-01-01T02:02:39.122956",
          "1970-01-01T02:02:39.122956",
          "1970-01-01T02:02:39.122956",
          "1970-01-01T02:02:39.122956",
          "1970-01-01T02:02:39.122956"
         ],
         "y": [
          "sailing transit",
          "sailing transit",
          "sailing transit",
          "sailing transit",
          null,
          "sailing transit",
          "sailing transit",
          "sailing transit",
          "sailing transit",
          null,
          "sailing transit",
          "sailing transit",
          "sailing transit",
          "sailing transit",
          null,
          "sailing transit",
          "sailing transit",
          "sailing transit",
          "sailing transit",
          null,
          "sailing transit",
          "sailing transit",
          "sailing transit",
          "sailing transit",
          null
         ]
        },
        {
         "connectgaps": false,
         "hoverinfo": "y+name",
         "line": {
          "color": "rgb(11,245,118)",
          "width": 10
         },
         "mode": "lines",
         "name": "MP preparing for installation",
         "type": "scatter",
         "x": [
          "1970-01-01T00:21:47.824591",
          "1970-01-01T00:21:47.824591",
          "1970-01-01T00:22:32.824591",
          "1970-01-01T00:22:32.824591",
          "1970-01-01T00:22:32.824591",
          "1970-01-01T00:28:47.824591",
          "1970-01-01T00:28:47.824591",
          "1970-01-01T00:29:32.824591",
          "1970-01-01T00:29:32.824591",
          "1970-01-01T00:29:32.824591",
          "1970-01-01T01:13:18.473774",
          "1970-01-01T01:13:18.473774",
          "1970-01-01T01:14:03.473774",
          "1970-01-01T01:14:03.473774",
          "1970-01-01T01:14:03.473774",
          "1970-01-01T01:20:18.473774",
          "1970-01-01T01:20:18.473774",
          "1970-01-01T01:21:03.473774",
          "1970-01-01T01:21:03.473774",
          "1970-01-01T01:21:03.473774",
          "1970-01-01T02:02:39.122956",
          "1970-01-01T02:02:39.122956",
          "1970-01-01T02:03:24.122956",
          "1970-01-01T02:03:24.122956",
          "1970-01-01T02:03:24.122956"
         ],
         "y": [
          "MP preparing for installation",
          "MP preparing for installation",
          "MP preparing for installation",
          "MP preparing for installation",
          null,
          "MP preparing for installation",
          "MP preparing for installation",
          "MP preparing for installation",
          "MP preparing for installation",
          null,
          "MP preparing for installation",
          "MP preparing for installation",
          "MP preparing for installation",
          "MP preparing for installation",
          null,
          "MP preparing for installation",
          "MP preparing for installation",
          "MP preparing for installation",
          "MP preparing for installation",
          null,
          "MP preparing for installation",
          "MP preparing for installation",
          "MP preparing for installation",
          "MP preparing for installation",
          null
         ]
        },
        {
         "connectgaps": false,
         "hoverinfo": "y+name",
         "line": {
          "color": "rgb(26,4,133)",
          "width": 10
         },
         "mode": "lines",
         "name": "Install MP",
         "type": "scatter",
         "x": [
          "1970-01-01T00:22:32.824591",
          "1970-01-01T00:22:32.824591",
          "1970-01-01T00:24:32.824591",
          "1970-01-01T00:24:32.824591",
          "1970-01-01T00:24:32.824591",
          "1970-01-01T00:29:32.824591",
          "1970-01-01T00:29:32.824591",
          "1970-01-01T00:31:32.824591",
          "1970-01-01T00:31:32.824591",
          "1970-01-01T00:31:32.824591",
          "1970-01-01T01:14:03.473774",
          "1970-01-01T01:14:03.473774",
          "1970-01-01T01:16:03.473774",
          "1970-01-01T01:16:03.473774",
          "1970-01-01T01:16:03.473774",
          "1970-01-01T01:21:03.473774",
          "1970-01-01T01:21:03.473774",
          "1970-01-01T01:23:03.473774",
          "1970-01-01T01:23:03.473774",
          "1970-01-01T01:23:03.473774",
          "1970-01-01T02:03:24.122956",
          "1970-01-01T02:03:24.122956",
          "1970-01-01T02:05:24.122956",
          "1970-01-01T02:05:24.122956",
          "1970-01-01T02:05:24.122956"
         ],
         "y": [
          "Install MP",
          "Install MP",
          "Install MP",
          "Install MP",
          null,
          "Install MP",
          "Install MP",
          "Install MP",
          "Install MP",
          null,
          "Install MP",
          "Install MP",
          "Install MP",
          "Install MP",
          null,
          "Install MP",
          "Install MP",
          "Install MP",
          "Install MP",
          null,
          "Install MP",
          "Install MP",
          "Install MP",
          "Install MP",
          null
         ]
        },
        {
         "connectgaps": false,
         "hoverinfo": "y+name",
         "line": {
          "color": "rgb(41,19,148)",
          "width": 10
         },
         "mode": "lines",
         "name": "Installing MP",
         "type": "scatter",
         "x": [
          "1970-01-01T00:24:32.824591",
          "1970-01-01T00:24:32.824591",
          "1970-01-01T00:25:17.824591",
          "1970-01-01T00:25:17.824591",
          "1970-01-01T00:25:17.824591",
          "1970-01-01T00:31:32.824591",
          "1970-01-01T00:31:32.824591",
          "1970-01-01T00:32:17.824591",
          "1970-01-01T00:32:17.824591",
          "1970-01-01T00:32:17.824591",
          "1970-01-01T01:16:03.473774",
          "1970-01-01T01:16:03.473774",
          "1970-01-01T01:16:48.473774",
          "1970-01-01T01:16:48.473774",
          "1970-01-01T01:16:48.473774",
          "1970-01-01T01:23:03.473774",
          "1970-01-01T01:23:03.473774",
          "1970-01-01T01:23:48.473774",
          "1970-01-01T01:23:48.473774",
          "1970-01-01T01:23:48.473774",
          "1970-01-01T02:05:24.122956",
          "1970-01-01T02:05:24.122956",
          "1970-01-01T02:06:09.122956",
          "1970-01-01T02:06:09.122956",
          "1970-01-01T02:06:09.122956"
         ],
         "y": [
          "Installing MP",
          "Installing MP",
          "Installing MP",
          "Installing MP",
          null,
          "Installing MP",
          "Installing MP",
          "Installing MP",
          "Installing MP",
          null,
          "Installing MP",
          "Installing MP",
          "Installing MP",
          "Installing MP",
          null,
          "Installing MP",
          "Installing MP",
          "Installing MP",
          "Installing MP",
          null,
          "Installing MP",
          "Installing MP",
          "Installing MP",
          "Installing MP",
          null
         ]
        },
        {
         "connectgaps": false,
         "hoverinfo": "y+name",
         "line": {
          "color": "rgb(56,34,163)",
          "width": 10
         },
         "mode": "lines",
         "name": "Prepare TP installation",
         "type": "scatter",
         "x": [
          "1970-01-01T00:25:17.824591",
          "1970-01-01T00:25:17.824591",
          "1970-01-01T00:26:02.824591",
          "1970-01-01T00:26:02.824591",
          "1970-01-01T00:26:02.824591",
          "1970-01-01T00:32:17.824591",
          "1970-01-01T00:32:17.824591",
          "1970-01-01T00:33:02.824591",
          "1970-01-01T00:33:02.824591",
          "1970-01-01T00:33:02.824591",
          "1970-01-01T01:16:48.473774",
          "1970-01-01T01:16:48.473774",
          "1970-01-01T01:17:33.473774",
          "1970-01-01T01:17:33.473774",
          "1970-01-01T01:17:33.473774",
          "1970-01-01T01:23:48.473774",
          "1970-01-01T01:23:48.473774",
          "1970-01-01T01:24:33.473774",
          "1970-01-01T01:24:33.473774",
          "1970-01-01T01:24:33.473774",
          "1970-01-01T02:06:09.122956",
          "1970-01-01T02:06:09.122956",
          "1970-01-01T02:06:54.122956",
          "1970-01-01T02:06:54.122956",
          "1970-01-01T02:06:54.122956"
         ],
         "y": [
          "Prepare TP installation",
          "Prepare TP installation",
          "Prepare TP installation",
          "Prepare TP installation",
          null,
          "Prepare TP installation",
          "Prepare TP installation",
          "Prepare TP installation",
          "Prepare TP installation",
          null,
          "Prepare TP installation",
          "Prepare TP installation",
          "Prepare TP installation",
          "Prepare TP installation",
          null,
          "Prepare TP installation",
          "Prepare TP installation",
          "Prepare TP installation",
          "Prepare TP installation",
          null,
          "Prepare TP installation",
          "Prepare TP installation",
          "Prepare TP installation",
          "Prepare TP installation",
          null
         ]
        },
        {
         "connectgaps": false,
         "hoverinfo": "y+name",
         "line": {
          "color": "rgb(71,49,178)",
          "width": 10
         },
         "mode": "lines",
         "name": "Install TP",
         "type": "scatter",
         "x": [
          "1970-01-01T00:26:02.824591",
          "1970-01-01T00:26:02.824591",
          "1970-01-01T00:28:02.824591",
          "1970-01-01T00:28:02.824591",
          "1970-01-01T00:28:02.824591",
          "1970-01-01T00:33:02.824591",
          "1970-01-01T00:33:02.824591",
          "1970-01-01T00:35:02.824591",
          "1970-01-01T00:35:02.824591",
          "1970-01-01T00:35:02.824591",
          "1970-01-01T01:17:33.473774",
          "1970-01-01T01:17:33.473774",
          "1970-01-01T01:19:33.473774",
          "1970-01-01T01:19:33.473774",
          "1970-01-01T01:19:33.473774",
          "1970-01-01T01:24:33.473774",
          "1970-01-01T01:24:33.473774",
          "1970-01-01T01:26:33.473774",
          "1970-01-01T01:26:33.473774",
          "1970-01-01T01:26:33.473774",
          "1970-01-01T02:06:54.122956",
          "1970-01-01T02:06:54.122956",
          "1970-01-01T02:08:54.122956",
          "1970-01-01T02:08:54.122956",
          "1970-01-01T02:08:54.122956"
         ],
         "y": [
          "Install TP",
          "Install TP",
          "Install TP",
          "Install TP",
          null,
          "Install TP",
          "Install TP",
          "Install TP",
          "Install TP",
          null,
          "Install TP",
          "Install TP",
          "Install TP",
          "Install TP",
          null,
          "Install TP",
          "Install TP",
          "Install TP",
          "Install TP",
          null,
          "Install TP",
          "Install TP",
          "Install TP",
          "Install TP",
          null
         ]
        },
        {
         "connectgaps": false,
         "hoverinfo": "y+name",
         "line": {
          "color": "rgb(86,64,193)",
          "width": 10
         },
         "mode": "lines",
         "name": "TP finalize installation",
         "type": "scatter",
         "x": [
          "1970-01-01T00:28:02.824591",
          "1970-01-01T00:28:02.824591",
          "1970-01-01T00:28:47.824591",
          "1970-01-01T00:28:47.824591",
          "1970-01-01T00:28:47.824591",
          "1970-01-01T00:35:02.824591",
          "1970-01-01T00:35:02.824591",
          "1970-01-01T00:35:47.824591",
          "1970-01-01T00:35:47.824591",
          "1970-01-01T00:35:47.824591",
          "1970-01-01T01:19:33.473774",
          "1970-01-01T01:19:33.473774",
          "1970-01-01T01:20:18.473774",
          "1970-01-01T01:20:18.473774",
          "1970-01-01T01:20:18.473774",
          "1970-01-01T01:26:33.473774",
          "1970-01-01T01:26:33.473774",
          "1970-01-01T01:27:18.473774",
          "1970-01-01T01:27:18.473774",
          "1970-01-01T01:27:18.473774",
          "1970-01-01T02:08:54.122956",
          "1970-01-01T02:08:54.122956",
          "1970-01-01T02:09:39.122956",
          "1970-01-01T02:09:39.122956",
          "1970-01-01T02:09:39.122956"
         ],
         "y": [
          "TP finalize installation",
          "TP finalize installation",
          "TP finalize installation",
          "TP finalize installation",
          null,
          "TP finalize installation",
          "TP finalize installation",
          "TP finalize installation",
          "TP finalize installation",
          null,
          "TP finalize installation",
          "TP finalize installation",
          "TP finalize installation",
          "TP finalize installation",
          null,
          "TP finalize installation",
          "TP finalize installation",
          "TP finalize installation",
          "TP finalize installation",
          null,
          "TP finalize installation",
          "TP finalize installation",
          "TP finalize installation",
          "TP finalize installation",
          null
         ]
        }
       ],
       "layout": {
        "hovermode": "closest",
        "legend": {
         "orientation": "h",
         "x": 0,
         "y": -0.2
        },
        "template": {
         "data": {
          "bar": [
           {
            "error_x": {
             "color": "#2a3f5f"
            },
            "error_y": {
             "color": "#2a3f5f"
            },
            "marker": {
             "line": {
              "color": "#E5ECF6",
              "width": 0.5
             }
            },
            "type": "bar"
           }
          ],
          "barpolar": [
           {
            "marker": {
             "line": {
              "color": "#E5ECF6",
              "width": 0.5
             }
            },
            "type": "barpolar"
           }
          ],
          "carpet": [
           {
            "aaxis": {
             "endlinecolor": "#2a3f5f",
             "gridcolor": "white",
             "linecolor": "white",
             "minorgridcolor": "white",
             "startlinecolor": "#2a3f5f"
            },
            "baxis": {
             "endlinecolor": "#2a3f5f",
             "gridcolor": "white",
             "linecolor": "white",
             "minorgridcolor": "white",
             "startlinecolor": "#2a3f5f"
            },
            "type": "carpet"
           }
          ],
          "choropleth": [
           {
            "colorbar": {
             "outlinewidth": 0,
             "ticks": ""
            },
            "type": "choropleth"
           }
          ],
          "contour": [
           {
            "colorbar": {
             "outlinewidth": 0,
             "ticks": ""
            },
            "colorscale": [
             [
              0,
              "#0d0887"
             ],
             [
              0.1111111111111111,
              "#46039f"
             ],
             [
              0.2222222222222222,
              "#7201a8"
             ],
             [
              0.3333333333333333,
              "#9c179e"
             ],
             [
              0.4444444444444444,
              "#bd3786"
             ],
             [
              0.5555555555555556,
              "#d8576b"
             ],
             [
              0.6666666666666666,
              "#ed7953"
             ],
             [
              0.7777777777777778,
              "#fb9f3a"
             ],
             [
              0.8888888888888888,
              "#fdca26"
             ],
             [
              1,
              "#f0f921"
             ]
            ],
            "type": "contour"
           }
          ],
          "contourcarpet": [
           {
            "colorbar": {
             "outlinewidth": 0,
             "ticks": ""
            },
            "type": "contourcarpet"
           }
          ],
          "heatmap": [
           {
            "colorbar": {
             "outlinewidth": 0,
             "ticks": ""
            },
            "colorscale": [
             [
              0,
              "#0d0887"
             ],
             [
              0.1111111111111111,
              "#46039f"
             ],
             [
              0.2222222222222222,
              "#7201a8"
             ],
             [
              0.3333333333333333,
              "#9c179e"
             ],
             [
              0.4444444444444444,
              "#bd3786"
             ],
             [
              0.5555555555555556,
              "#d8576b"
             ],
             [
              0.6666666666666666,
              "#ed7953"
             ],
             [
              0.7777777777777778,
              "#fb9f3a"
             ],
             [
              0.8888888888888888,
              "#fdca26"
             ],
             [
              1,
              "#f0f921"
             ]
            ],
            "type": "heatmap"
           }
          ],
          "heatmapgl": [
           {
            "colorbar": {
             "outlinewidth": 0,
             "ticks": ""
            },
            "colorscale": [
             [
              0,
              "#0d0887"
             ],
             [
              0.1111111111111111,
              "#46039f"
             ],
             [
              0.2222222222222222,
              "#7201a8"
             ],
             [
              0.3333333333333333,
              "#9c179e"
             ],
             [
              0.4444444444444444,
              "#bd3786"
             ],
             [
              0.5555555555555556,
              "#d8576b"
             ],
             [
              0.6666666666666666,
              "#ed7953"
             ],
             [
              0.7777777777777778,
              "#fb9f3a"
             ],
             [
              0.8888888888888888,
              "#fdca26"
             ],
             [
              1,
              "#f0f921"
             ]
            ],
            "type": "heatmapgl"
           }
          ],
          "histogram": [
           {
            "marker": {
             "colorbar": {
              "outlinewidth": 0,
              "ticks": ""
             }
            },
            "type": "histogram"
           }
          ],
          "histogram2d": [
           {
            "colorbar": {
             "outlinewidth": 0,
             "ticks": ""
            },
            "colorscale": [
             [
              0,
              "#0d0887"
             ],
             [
              0.1111111111111111,
              "#46039f"
             ],
             [
              0.2222222222222222,
              "#7201a8"
             ],
             [
              0.3333333333333333,
              "#9c179e"
             ],
             [
              0.4444444444444444,
              "#bd3786"
             ],
             [
              0.5555555555555556,
              "#d8576b"
             ],
             [
              0.6666666666666666,
              "#ed7953"
             ],
             [
              0.7777777777777778,
              "#fb9f3a"
             ],
             [
              0.8888888888888888,
              "#fdca26"
             ],
             [
              1,
              "#f0f921"
             ]
            ],
            "type": "histogram2d"
           }
          ],
          "histogram2dcontour": [
           {
            "colorbar": {
             "outlinewidth": 0,
             "ticks": ""
            },
            "colorscale": [
             [
              0,
              "#0d0887"
             ],
             [
              0.1111111111111111,
              "#46039f"
             ],
             [
              0.2222222222222222,
              "#7201a8"
             ],
             [
              0.3333333333333333,
              "#9c179e"
             ],
             [
              0.4444444444444444,
              "#bd3786"
             ],
             [
              0.5555555555555556,
              "#d8576b"
             ],
             [
              0.6666666666666666,
              "#ed7953"
             ],
             [
              0.7777777777777778,
              "#fb9f3a"
             ],
             [
              0.8888888888888888,
              "#fdca26"
             ],
             [
              1,
              "#f0f921"
             ]
            ],
            "type": "histogram2dcontour"
           }
          ],
          "mesh3d": [
           {
            "colorbar": {
             "outlinewidth": 0,
             "ticks": ""
            },
            "type": "mesh3d"
           }
          ],
          "parcoords": [
           {
            "line": {
             "colorbar": {
              "outlinewidth": 0,
              "ticks": ""
             }
            },
            "type": "parcoords"
           }
          ],
          "pie": [
           {
            "automargin": true,
            "type": "pie"
           }
          ],
          "scatter": [
           {
            "marker": {
             "colorbar": {
              "outlinewidth": 0,
              "ticks": ""
             }
            },
            "type": "scatter"
           }
          ],
          "scatter3d": [
           {
            "line": {
             "colorbar": {
              "outlinewidth": 0,
              "ticks": ""
             }
            },
            "marker": {
             "colorbar": {
              "outlinewidth": 0,
              "ticks": ""
             }
            },
            "type": "scatter3d"
           }
          ],
          "scattercarpet": [
           {
            "marker": {
             "colorbar": {
              "outlinewidth": 0,
              "ticks": ""
             }
            },
            "type": "scattercarpet"
           }
          ],
          "scattergeo": [
           {
            "marker": {
             "colorbar": {
              "outlinewidth": 0,
              "ticks": ""
             }
            },
            "type": "scattergeo"
           }
          ],
          "scattergl": [
           {
            "marker": {
             "colorbar": {
              "outlinewidth": 0,
              "ticks": ""
             }
            },
            "type": "scattergl"
           }
          ],
          "scattermapbox": [
           {
            "marker": {
             "colorbar": {
              "outlinewidth": 0,
              "ticks": ""
             }
            },
            "type": "scattermapbox"
           }
          ],
          "scatterpolar": [
           {
            "marker": {
             "colorbar": {
              "outlinewidth": 0,
              "ticks": ""
             }
            },
            "type": "scatterpolar"
           }
          ],
          "scatterpolargl": [
           {
            "marker": {
             "colorbar": {
              "outlinewidth": 0,
              "ticks": ""
             }
            },
            "type": "scatterpolargl"
           }
          ],
          "scatterternary": [
           {
            "marker": {
             "colorbar": {
              "outlinewidth": 0,
              "ticks": ""
             }
            },
            "type": "scatterternary"
           }
          ],
          "surface": [
           {
            "colorbar": {
             "outlinewidth": 0,
             "ticks": ""
            },
            "colorscale": [
             [
              0,
              "#0d0887"
             ],
             [
              0.1111111111111111,
              "#46039f"
             ],
             [
              0.2222222222222222,
              "#7201a8"
             ],
             [
              0.3333333333333333,
              "#9c179e"
             ],
             [
              0.4444444444444444,
              "#bd3786"
             ],
             [
              0.5555555555555556,
              "#d8576b"
             ],
             [
              0.6666666666666666,
              "#ed7953"
             ],
             [
              0.7777777777777778,
              "#fb9f3a"
             ],
             [
              0.8888888888888888,
              "#fdca26"
             ],
             [
              1,
              "#f0f921"
             ]
            ],
            "type": "surface"
           }
          ],
          "table": [
           {
            "cells": {
             "fill": {
              "color": "#EBF0F8"
             },
             "line": {
              "color": "white"
             }
            },
            "header": {
             "fill": {
              "color": "#C8D4E3"
             },
             "line": {
              "color": "white"
             }
            },
            "type": "table"
           }
          ]
         },
         "layout": {
          "annotationdefaults": {
           "arrowcolor": "#2a3f5f",
           "arrowhead": 0,
           "arrowwidth": 1
          },
          "coloraxis": {
           "colorbar": {
            "outlinewidth": 0,
            "ticks": ""
           }
          },
          "colorscale": {
           "diverging": [
            [
             0,
             "#8e0152"
            ],
            [
             0.1,
             "#c51b7d"
            ],
            [
             0.2,
             "#de77ae"
            ],
            [
             0.3,
             "#f1b6da"
            ],
            [
             0.4,
             "#fde0ef"
            ],
            [
             0.5,
             "#f7f7f7"
            ],
            [
             0.6,
             "#e6f5d0"
            ],
            [
             0.7,
             "#b8e186"
            ],
            [
             0.8,
             "#7fbc41"
            ],
            [
             0.9,
             "#4d9221"
            ],
            [
             1,
             "#276419"
            ]
           ],
           "sequential": [
            [
             0,
             "#0d0887"
            ],
            [
             0.1111111111111111,
             "#46039f"
            ],
            [
             0.2222222222222222,
             "#7201a8"
            ],
            [
             0.3333333333333333,
             "#9c179e"
            ],
            [
             0.4444444444444444,
             "#bd3786"
            ],
            [
             0.5555555555555556,
             "#d8576b"
            ],
            [
             0.6666666666666666,
             "#ed7953"
            ],
            [
             0.7777777777777778,
             "#fb9f3a"
            ],
            [
             0.8888888888888888,
             "#fdca26"
            ],
            [
             1,
             "#f0f921"
            ]
           ],
           "sequentialminus": [
            [
             0,
             "#0d0887"
            ],
            [
             0.1111111111111111,
             "#46039f"
            ],
            [
             0.2222222222222222,
             "#7201a8"
            ],
            [
             0.3333333333333333,
             "#9c179e"
            ],
            [
             0.4444444444444444,
             "#bd3786"
            ],
            [
             0.5555555555555556,
             "#d8576b"
            ],
            [
             0.6666666666666666,
             "#ed7953"
            ],
            [
             0.7777777777777778,
             "#fb9f3a"
            ],
            [
             0.8888888888888888,
             "#fdca26"
            ],
            [
             1,
             "#f0f921"
            ]
           ]
          },
          "colorway": [
           "#636efa",
           "#EF553B",
           "#00cc96",
           "#ab63fa",
           "#FFA15A",
           "#19d3f3",
           "#FF6692",
           "#B6E880",
           "#FF97FF",
           "#FECB52"
          ],
          "font": {
           "color": "#2a3f5f"
          },
          "geo": {
           "bgcolor": "white",
           "lakecolor": "white",
           "landcolor": "#E5ECF6",
           "showlakes": true,
           "showland": true,
           "subunitcolor": "white"
          },
          "hoverlabel": {
           "align": "left"
          },
          "hovermode": "closest",
          "mapbox": {
           "style": "light"
          },
          "paper_bgcolor": "white",
          "plot_bgcolor": "#E5ECF6",
          "polar": {
           "angularaxis": {
            "gridcolor": "white",
            "linecolor": "white",
            "ticks": ""
           },
           "bgcolor": "#E5ECF6",
           "radialaxis": {
            "gridcolor": "white",
            "linecolor": "white",
            "ticks": ""
           }
          },
          "scene": {
           "xaxis": {
            "backgroundcolor": "#E5ECF6",
            "gridcolor": "white",
            "gridwidth": 2,
            "linecolor": "white",
            "showbackground": true,
            "ticks": "",
            "zerolinecolor": "white"
           },
           "yaxis": {
            "backgroundcolor": "#E5ECF6",
            "gridcolor": "white",
            "gridwidth": 2,
            "linecolor": "white",
            "showbackground": true,
            "ticks": "",
            "zerolinecolor": "white"
           },
           "zaxis": {
            "backgroundcolor": "#E5ECF6",
            "gridcolor": "white",
            "gridwidth": 2,
            "linecolor": "white",
            "showbackground": true,
            "ticks": "",
            "zerolinecolor": "white"
           }
          },
          "shapedefaults": {
           "line": {
            "color": "#2a3f5f"
           }
          },
          "ternary": {
           "aaxis": {
            "gridcolor": "white",
            "linecolor": "white",
            "ticks": ""
           },
           "baxis": {
            "gridcolor": "white",
            "linecolor": "white",
            "ticks": ""
           },
           "bgcolor": "#E5ECF6",
           "caxis": {
            "gridcolor": "white",
            "linecolor": "white",
            "ticks": ""
           }
          },
          "title": {
           "x": 0.05
          },
          "xaxis": {
           "automargin": true,
           "gridcolor": "white",
           "linecolor": "white",
           "ticks": "",
           "title": {
            "standoff": 15
           },
           "zerolinecolor": "white",
           "zerolinewidth": 2
          },
          "yaxis": {
           "automargin": true,
           "gridcolor": "white",
           "linecolor": "white",
           "ticks": "",
           "title": {
            "standoff": 15
           },
           "zerolinecolor": "white",
           "zerolinewidth": 2
          }
         }
        },
        "title": {
         "text": "Vessel planning"
        },
        "xaxis": {
         "range": [
          "1970-01-01T00:00:00",
          "1970-01-01T02:09:39.122956"
         ],
         "title": {
          "font": {
           "color": "#7f7f7f",
           "family": "Courier New, monospace",
           "size": 18
          },
          "text": "Time"
         }
        },
        "yaxis": {
         "title": {
          "font": {
           "color": "#7f7f7f",
           "family": "Courier New, monospace",
           "size": 18
          },
          "text": "Vessels"
         }
        }
       }
      },
      "text/html": [
       "<div>                            <div id=\"029909a7-c358-46bc-8a72-a69a8196ab5b\" class=\"plotly-graph-div\" style=\"height:525px; width:100%;\"></div>            <script type=\"text/javascript\">                require([\"plotly\"], function(Plotly) {                    window.PLOTLYENV=window.PLOTLYENV || {};                                    if (document.getElementById(\"029909a7-c358-46bc-8a72-a69a8196ab5b\")) {                    Plotly.newPlot(                        \"029909a7-c358-46bc-8a72-a69a8196ab5b\",                        [{\"connectgaps\": false, \"hoverinfo\": \"y+name\", \"line\": {\"color\": \"rgb(102,80,209)\", \"width\": 10}, \"mode\": \"lines\", \"name\": \"sailing empty\", \"type\": \"scatter\", \"x\": [0, 0, \"1970-01-01T00:00:00\", \"1970-01-01T00:00:00\", \"1970-01-01T00:00:00\", \"1970-01-01T00:35:47.824591\", \"1970-01-01T00:35:47.824591\", \"1970-01-01T00:51:30.649183\", \"1970-01-01T00:51:30.649183\", \"1970-01-01T00:51:30.649183\", \"1970-01-01T01:27:18.473774\", \"1970-01-01T01:27:18.473774\", \"1970-01-01T01:43:01.298365\", \"1970-01-01T01:43:01.298365\", \"1970-01-01T01:43:01.298365\"], \"y\": [\"sailing empty\", \"sailing empty\", \"sailing empty\", \"sailing empty\", null, \"sailing empty\", \"sailing empty\", \"sailing empty\", \"sailing empty\", null, \"sailing empty\", \"sailing empty\", \"sailing empty\", \"sailing empty\", null]}, {\"connectgaps\": false, \"hoverinfo\": \"y+name\", \"line\": {\"color\": \"rgb(117,95,224)\", \"width\": 10}, \"mode\": \"lines\", \"name\": \"loading\", \"type\": \"scatter\", \"x\": [\"1970-01-01T00:00:00\", \"1970-01-01T00:00:00\", \"1970-01-01T00:00:45\", \"1970-01-01T00:00:45\", \"1970-01-01T00:00:45\", \"1970-01-01T00:00:45\", \"1970-01-01T00:00:45\", \"1970-01-01T00:04:45\", \"1970-01-01T00:04:45\", \"1970-01-01T00:04:45\", \"1970-01-01T00:04:45\", \"1970-01-01T00:04:45\", \"1970-01-01T00:05:00\", \"1970-01-01T00:05:00\", \"1970-01-01T00:05:00\", \"1970-01-01T00:05:00\", \"1970-01-01T00:05:00\", \"1970-01-01T00:05:30\", \"1970-01-01T00:05:30\", \"1970-01-01T00:05:30\", \"1970-01-01T00:05:30\", \"1970-01-01T00:05:30\", \"1970-01-01T00:05:50\", \"1970-01-01T00:05:50\", \"1970-01-01T00:05:50\", \"1970-01-01T00:05:50\", \"1970-01-01T00:05:50\", \"1970-01-01T00:06:05\", \"1970-01-01T00:06:05\", \"1970-01-01T00:06:05\", \"1970-01-01T00:05:50\", \"1970-01-01T00:05:50\", \"1970-01-01T00:06:05\", \"1970-01-01T00:06:05\", \"1970-01-01T00:06:05\", \"1970-01-01T00:51:30.649183\", \"1970-01-01T00:51:30.649183\", \"1970-01-01T00:52:15.649183\", \"1970-01-01T00:52:15.649183\", \"1970-01-01T00:52:15.649183\", \"1970-01-01T00:52:15.649183\", \"1970-01-01T00:52:15.649183\", \"1970-01-01T00:56:15.649183\", \"1970-01-01T00:56:15.649183\", \"1970-01-01T00:56:15.649183\", \"1970-01-01T00:56:15.649183\", \"1970-01-01T00:56:15.649183\", \"1970-01-01T00:56:30.649183\", \"1970-01-01T00:56:30.649183\", \"1970-01-01T00:56:30.649183\", \"1970-01-01T00:56:30.649183\", \"1970-01-01T00:56:30.649183\", \"1970-01-01T00:57:00.649183\", \"1970-01-01T00:57:00.649183\", \"1970-01-01T00:57:00.649183\", \"1970-01-01T00:57:00.649183\", \"1970-01-01T00:57:00.649183\", \"1970-01-01T00:57:20.649183\", \"1970-01-01T00:57:20.649183\", \"1970-01-01T00:57:20.649183\", \"1970-01-01T00:57:20.649183\", \"1970-01-01T00:57:20.649183\", \"1970-01-01T00:57:35.649183\", \"1970-01-01T00:57:35.649183\", \"1970-01-01T00:57:35.649183\", \"1970-01-01T00:57:20.649183\", \"1970-01-01T00:57:20.649183\", \"1970-01-01T00:57:35.649183\", \"1970-01-01T00:57:35.649183\", \"1970-01-01T00:57:35.649183\", \"1970-01-01T01:43:01.298365\", \"1970-01-01T01:43:01.298365\", \"1970-01-01T01:43:46.298365\", \"1970-01-01T01:43:46.298365\", \"1970-01-01T01:43:46.298365\", \"1970-01-01T01:43:46.298365\", \"1970-01-01T01:43:46.298365\", \"1970-01-01T01:45:46.298365\", \"1970-01-01T01:45:46.298365\", \"1970-01-01T01:45:46.298365\", \"1970-01-01T01:45:46.298365\", \"1970-01-01T01:45:46.298365\", \"1970-01-01T01:46:01.298365\", \"1970-01-01T01:46:01.298365\", \"1970-01-01T01:46:01.298365\", \"1970-01-01T01:46:01.298365\", \"1970-01-01T01:46:01.298365\", \"1970-01-01T01:46:31.298365\", \"1970-01-01T01:46:31.298365\", \"1970-01-01T01:46:31.298365\", \"1970-01-01T01:46:31.298365\", \"1970-01-01T01:46:31.298365\", \"1970-01-01T01:46:41.298365\", \"1970-01-01T01:46:41.298365\", \"1970-01-01T01:46:41.298365\", \"1970-01-01T01:46:41.298365\", \"1970-01-01T01:46:41.298365\", \"1970-01-01T01:46:56.298365\", \"1970-01-01T01:46:56.298365\", \"1970-01-01T01:46:56.298365\", \"1970-01-01T01:46:41.298365\", \"1970-01-01T01:46:41.298365\", \"1970-01-01T01:46:56.298365\", \"1970-01-01T01:46:56.298365\", \"1970-01-01T01:46:56.298365\"], \"y\": [\"loading\", \"loading\", \"loading\", \"loading\", null, \"loading\", \"loading\", \"loading\", \"loading\", null, \"loading\", \"loading\", \"loading\", \"loading\", null, \"loading\", \"loading\", \"loading\", \"loading\", null, \"loading\", \"loading\", \"loading\", \"loading\", null, \"loading\", \"loading\", \"loading\", \"loading\", null, \"loading\", \"loading\", \"loading\", \"loading\", null, \"loading\", \"loading\", \"loading\", \"loading\", null, \"loading\", \"loading\", \"loading\", \"loading\", null, \"loading\", \"loading\", \"loading\", \"loading\", null, \"loading\", \"loading\", \"loading\", \"loading\", null, \"loading\", \"loading\", \"loading\", \"loading\", null, \"loading\", \"loading\", \"loading\", \"loading\", null, \"loading\", \"loading\", \"loading\", \"loading\", null, \"loading\", \"loading\", \"loading\", \"loading\", null, \"loading\", \"loading\", \"loading\", \"loading\", null, \"loading\", \"loading\", \"loading\", \"loading\", null, \"loading\", \"loading\", \"loading\", \"loading\", null, \"loading\", \"loading\", \"loading\", \"loading\", null, \"loading\", \"loading\", \"loading\", \"loading\", null, \"loading\", \"loading\", \"loading\", \"loading\", null]}, {\"connectgaps\": false, \"hoverinfo\": \"y+name\", \"line\": {\"color\": \"rgb(132,110,239)\", \"width\": 10}, \"mode\": \"lines\", \"name\": \"sailing filled\", \"type\": \"scatter\", \"x\": [\"1970-01-01T00:06:05\", \"1970-01-01T00:06:05\", \"1970-01-01T00:21:47.824591\", \"1970-01-01T00:21:47.824591\", \"1970-01-01T00:21:47.824591\", \"1970-01-01T00:57:35.649183\", \"1970-01-01T00:57:35.649183\", \"1970-01-01T01:13:18.473774\", \"1970-01-01T01:13:18.473774\", \"1970-01-01T01:13:18.473774\", \"1970-01-01T01:46:56.298365\", \"1970-01-01T01:46:56.298365\", \"1970-01-01T02:02:39.122956\", \"1970-01-01T02:02:39.122956\", \"1970-01-01T02:02:39.122956\"], \"y\": [\"sailing filled\", \"sailing filled\", \"sailing filled\", \"sailing filled\", null, \"sailing filled\", \"sailing filled\", \"sailing filled\", \"sailing filled\", null, \"sailing filled\", \"sailing filled\", \"sailing filled\", \"sailing filled\", null]}, {\"connectgaps\": false, \"hoverinfo\": \"y+name\", \"line\": {\"color\": \"rgb(147,125,254)\", \"width\": 10}, \"mode\": \"lines\", \"name\": \"unloading while\", \"type\": \"scatter\", \"x\": [\"1970-01-01T00:21:47.824591\", \"1970-01-01T00:21:47.824591\", \"1970-01-01T00:21:47.824591\", \"1970-01-01T00:21:47.824591\", \"1970-01-01T00:21:47.824591\", \"1970-01-01T00:21:47.824591\", \"1970-01-01T00:21:47.824591\", \"1970-01-01T00:22:32.824591\", \"1970-01-01T00:22:32.824591\", \"1970-01-01T00:22:32.824591\", \"1970-01-01T00:22:32.824591\", \"1970-01-01T00:22:32.824591\", \"1970-01-01T00:24:32.824591\", \"1970-01-01T00:24:32.824591\", \"1970-01-01T00:24:32.824591\", \"1970-01-01T00:24:32.824591\", \"1970-01-01T00:24:32.824591\", \"1970-01-01T00:25:17.824591\", \"1970-01-01T00:25:17.824591\", \"1970-01-01T00:25:17.824591\", \"1970-01-01T00:25:17.824591\", \"1970-01-01T00:25:17.824591\", \"1970-01-01T00:26:02.824591\", \"1970-01-01T00:26:02.824591\", \"1970-01-01T00:26:02.824591\", \"1970-01-01T00:26:02.824591\", \"1970-01-01T00:26:02.824591\", \"1970-01-01T00:28:02.824591\", \"1970-01-01T00:28:02.824591\", \"1970-01-01T00:28:02.824591\", \"1970-01-01T00:28:02.824591\", \"1970-01-01T00:28:02.824591\", \"1970-01-01T00:28:47.824591\", \"1970-01-01T00:28:47.824591\", \"1970-01-01T00:28:47.824591\", \"1970-01-01T00:28:02.824591\", \"1970-01-01T00:28:02.824591\", \"1970-01-01T00:28:47.824591\", \"1970-01-01T00:28:47.824591\", \"1970-01-01T00:28:47.824591\", \"1970-01-01T00:28:02.824591\", \"1970-01-01T00:28:02.824591\", \"1970-01-01T00:28:47.824591\", \"1970-01-01T00:28:47.824591\", \"1970-01-01T00:28:47.824591\", \"1970-01-01T00:28:47.824591\", \"1970-01-01T00:28:47.824591\", \"1970-01-01T00:28:47.824591\", \"1970-01-01T00:28:47.824591\", \"1970-01-01T00:28:47.824591\", \"1970-01-01T00:28:47.824591\", \"1970-01-01T00:28:47.824591\", \"1970-01-01T00:29:32.824591\", \"1970-01-01T00:29:32.824591\", \"1970-01-01T00:29:32.824591\", \"1970-01-01T00:29:32.824591\", \"1970-01-01T00:29:32.824591\", \"1970-01-01T00:31:32.824591\", \"1970-01-01T00:31:32.824591\", \"1970-01-01T00:31:32.824591\", \"1970-01-01T00:31:32.824591\", \"1970-01-01T00:31:32.824591\", \"1970-01-01T00:32:17.824591\", \"1970-01-01T00:32:17.824591\", \"1970-01-01T00:32:17.824591\", \"1970-01-01T00:32:17.824591\", \"1970-01-01T00:32:17.824591\", \"1970-01-01T00:33:02.824591\", \"1970-01-01T00:33:02.824591\", \"1970-01-01T00:33:02.824591\", \"1970-01-01T00:33:02.824591\", \"1970-01-01T00:33:02.824591\", \"1970-01-01T00:35:02.824591\", \"1970-01-01T00:35:02.824591\", \"1970-01-01T00:35:02.824591\", \"1970-01-01T00:35:02.824591\", \"1970-01-01T00:35:02.824591\", \"1970-01-01T00:35:47.824591\", \"1970-01-01T00:35:47.824591\", \"1970-01-01T00:35:47.824591\", \"1970-01-01T00:35:02.824591\", \"1970-01-01T00:35:02.824591\", \"1970-01-01T00:35:47.824591\", \"1970-01-01T00:35:47.824591\", \"1970-01-01T00:35:47.824591\", \"1970-01-01T00:35:02.824591\", \"1970-01-01T00:35:02.824591\", \"1970-01-01T00:35:47.824591\", \"1970-01-01T00:35:47.824591\", \"1970-01-01T00:35:47.824591\", \"1970-01-01T00:35:02.824591\", \"1970-01-01T00:35:02.824591\", \"1970-01-01T00:35:47.824591\", \"1970-01-01T00:35:47.824591\", \"1970-01-01T00:35:47.824591\", \"1970-01-01T01:13:18.473774\", \"1970-01-01T01:13:18.473774\", \"1970-01-01T01:13:18.473774\", \"1970-01-01T01:13:18.473774\", \"1970-01-01T01:13:18.473774\", \"1970-01-01T01:13:18.473774\", \"1970-01-01T01:13:18.473774\", \"1970-01-01T01:14:03.473774\", \"1970-01-01T01:14:03.473774\", \"1970-01-01T01:14:03.473774\", \"1970-01-01T01:14:03.473774\", \"1970-01-01T01:14:03.473774\", \"1970-01-01T01:16:03.473774\", \"1970-01-01T01:16:03.473774\", \"1970-01-01T01:16:03.473774\", \"1970-01-01T01:16:03.473774\", \"1970-01-01T01:16:03.473774\", \"1970-01-01T01:16:48.473774\", \"1970-01-01T01:16:48.473774\", \"1970-01-01T01:16:48.473774\", \"1970-01-01T01:16:48.473774\", \"1970-01-01T01:16:48.473774\", \"1970-01-01T01:17:33.473774\", \"1970-01-01T01:17:33.473774\", \"1970-01-01T01:17:33.473774\", \"1970-01-01T01:17:33.473774\", \"1970-01-01T01:17:33.473774\", \"1970-01-01T01:19:33.473774\", \"1970-01-01T01:19:33.473774\", \"1970-01-01T01:19:33.473774\", \"1970-01-01T01:19:33.473774\", \"1970-01-01T01:19:33.473774\", \"1970-01-01T01:20:18.473774\", \"1970-01-01T01:20:18.473774\", \"1970-01-01T01:20:18.473774\", \"1970-01-01T01:19:33.473774\", \"1970-01-01T01:19:33.473774\", \"1970-01-01T01:20:18.473774\", \"1970-01-01T01:20:18.473774\", \"1970-01-01T01:20:18.473774\", \"1970-01-01T01:19:33.473774\", \"1970-01-01T01:19:33.473774\", \"1970-01-01T01:20:18.473774\", \"1970-01-01T01:20:18.473774\", \"1970-01-01T01:20:18.473774\", \"1970-01-01T01:20:18.473774\", \"1970-01-01T01:20:18.473774\", \"1970-01-01T01:20:18.473774\", \"1970-01-01T01:20:18.473774\", \"1970-01-01T01:20:18.473774\", \"1970-01-01T01:20:18.473774\", \"1970-01-01T01:20:18.473774\", \"1970-01-01T01:21:03.473774\", \"1970-01-01T01:21:03.473774\", \"1970-01-01T01:21:03.473774\", \"1970-01-01T01:21:03.473774\", \"1970-01-01T01:21:03.473774\", \"1970-01-01T01:23:03.473774\", \"1970-01-01T01:23:03.473774\", \"1970-01-01T01:23:03.473774\", \"1970-01-01T01:23:03.473774\", \"1970-01-01T01:23:03.473774\", \"1970-01-01T01:23:48.473774\", \"1970-01-01T01:23:48.473774\", \"1970-01-01T01:23:48.473774\", \"1970-01-01T01:23:48.473774\", \"1970-01-01T01:23:48.473774\", \"1970-01-01T01:24:33.473774\", \"1970-01-01T01:24:33.473774\", \"1970-01-01T01:24:33.473774\", \"1970-01-01T01:24:33.473774\", \"1970-01-01T01:24:33.473774\", \"1970-01-01T01:26:33.473774\", \"1970-01-01T01:26:33.473774\", \"1970-01-01T01:26:33.473774\", \"1970-01-01T01:26:33.473774\", \"1970-01-01T01:26:33.473774\", \"1970-01-01T01:27:18.473774\", \"1970-01-01T01:27:18.473774\", \"1970-01-01T01:27:18.473774\", \"1970-01-01T01:26:33.473774\", \"1970-01-01T01:26:33.473774\", \"1970-01-01T01:27:18.473774\", \"1970-01-01T01:27:18.473774\", \"1970-01-01T01:27:18.473774\", \"1970-01-01T01:26:33.473774\", \"1970-01-01T01:26:33.473774\", \"1970-01-01T01:27:18.473774\", \"1970-01-01T01:27:18.473774\", \"1970-01-01T01:27:18.473774\", \"1970-01-01T01:26:33.473774\", \"1970-01-01T01:26:33.473774\", \"1970-01-01T01:27:18.473774\", \"1970-01-01T01:27:18.473774\", \"1970-01-01T01:27:18.473774\", \"1970-01-01T02:02:39.122956\", \"1970-01-01T02:02:39.122956\", \"1970-01-01T02:02:39.122956\", \"1970-01-01T02:02:39.122956\", \"1970-01-01T02:02:39.122956\", \"1970-01-01T02:02:39.122956\", \"1970-01-01T02:02:39.122956\", \"1970-01-01T02:03:24.122956\", \"1970-01-01T02:03:24.122956\", \"1970-01-01T02:03:24.122956\", \"1970-01-01T02:03:24.122956\", \"1970-01-01T02:03:24.122956\", \"1970-01-01T02:05:24.122956\", \"1970-01-01T02:05:24.122956\", \"1970-01-01T02:05:24.122956\", \"1970-01-01T02:05:24.122956\", \"1970-01-01T02:05:24.122956\", \"1970-01-01T02:06:09.122956\", \"1970-01-01T02:06:09.122956\", \"1970-01-01T02:06:09.122956\", \"1970-01-01T02:06:09.122956\", \"1970-01-01T02:06:09.122956\", \"1970-01-01T02:06:54.122956\", \"1970-01-01T02:06:54.122956\", \"1970-01-01T02:06:54.122956\", \"1970-01-01T02:06:54.122956\", \"1970-01-01T02:06:54.122956\", \"1970-01-01T02:08:54.122956\", \"1970-01-01T02:08:54.122956\", \"1970-01-01T02:08:54.122956\", \"1970-01-01T02:08:54.122956\", \"1970-01-01T02:08:54.122956\", \"1970-01-01T02:09:39.122956\", \"1970-01-01T02:09:39.122956\", \"1970-01-01T02:09:39.122956\", \"1970-01-01T02:08:54.122956\", \"1970-01-01T02:08:54.122956\", \"1970-01-01T02:09:39.122956\", \"1970-01-01T02:09:39.122956\", \"1970-01-01T02:09:39.122956\", \"1970-01-01T02:08:54.122956\", \"1970-01-01T02:08:54.122956\", \"1970-01-01T02:09:39.122956\", \"1970-01-01T02:09:39.122956\", \"1970-01-01T02:09:39.122956\", \"1970-01-01T02:08:54.122956\", \"1970-01-01T02:08:54.122956\", \"1970-01-01T02:09:39.122956\", \"1970-01-01T02:09:39.122956\", \"1970-01-01T02:09:39.122956\"], \"y\": [\"unloading while\", \"unloading while\", \"unloading while\", \"unloading while\", null, \"unloading while\", \"unloading while\", \"unloading while\", \"unloading while\", null, \"unloading while\", \"unloading while\", \"unloading while\", \"unloading while\", null, \"unloading while\", \"unloading while\", \"unloading while\", \"unloading while\", null, \"unloading while\", \"unloading while\", \"unloading while\", \"unloading while\", null, \"unloading while\", \"unloading while\", \"unloading while\", \"unloading while\", null, \"unloading while\", \"unloading while\", \"unloading while\", \"unloading while\", null, \"unloading while\", \"unloading while\", \"unloading while\", \"unloading while\", null, \"unloading while\", \"unloading while\", \"unloading while\", \"unloading while\", null, \"unloading while\", \"unloading while\", \"unloading while\", \"unloading while\", null, \"unloading while\", \"unloading while\", \"unloading while\", \"unloading while\", null, \"unloading while\", \"unloading while\", \"unloading while\", \"unloading while\", null, \"unloading while\", \"unloading while\", \"unloading while\", \"unloading while\", null, \"unloading while\", \"unloading while\", \"unloading while\", \"unloading while\", null, \"unloading while\", \"unloading while\", \"unloading while\", \"unloading while\", null, \"unloading while\", \"unloading while\", \"unloading while\", \"unloading while\", null, \"unloading while\", \"unloading while\", \"unloading while\", \"unloading while\", null, \"unloading while\", \"unloading while\", \"unloading while\", \"unloading while\", null, \"unloading while\", \"unloading while\", \"unloading while\", \"unloading while\", null, \"unloading while\", \"unloading while\", \"unloading while\", \"unloading while\", null, \"unloading while\", \"unloading while\", \"unloading while\", \"unloading while\", null, \"unloading while\", \"unloading while\", \"unloading while\", \"unloading while\", null, \"unloading while\", \"unloading while\", \"unloading while\", \"unloading while\", null, \"unloading while\", \"unloading while\", \"unloading while\", \"unloading while\", null, \"unloading while\", \"unloading while\", \"unloading while\", \"unloading while\", null, \"unloading while\", \"unloading while\", \"unloading while\", \"unloading while\", null, \"unloading while\", \"unloading while\", \"unloading while\", \"unloading while\", null, \"unloading while\", \"unloading while\", \"unloading while\", \"unloading while\", null, \"unloading while\", \"unloading while\", \"unloading while\", \"unloading while\", null, \"unloading while\", \"unloading while\", \"unloading while\", \"unloading while\", null, \"unloading while\", \"unloading while\", \"unloading while\", \"unloading while\", null, \"unloading while\", \"unloading while\", \"unloading while\", \"unloading while\", null, \"unloading while\", \"unloading while\", \"unloading while\", \"unloading while\", null, \"unloading while\", \"unloading while\", \"unloading while\", \"unloading while\", null, \"unloading while\", \"unloading while\", \"unloading while\", \"unloading while\", null, \"unloading while\", \"unloading while\", \"unloading while\", \"unloading while\", null, \"unloading while\", \"unloading while\", \"unloading while\", \"unloading while\", null, \"unloading while\", \"unloading while\", \"unloading while\", \"unloading while\", null, \"unloading while\", \"unloading while\", \"unloading while\", \"unloading while\", null, \"unloading while\", \"unloading while\", \"unloading while\", \"unloading while\", null, \"unloading while\", \"unloading while\", \"unloading while\", \"unloading while\", null, \"unloading while\", \"unloading while\", \"unloading while\", \"unloading while\", null, \"unloading while\", \"unloading while\", \"unloading while\", \"unloading while\", null, \"unloading while\", \"unloading while\", \"unloading while\", \"unloading while\", null, \"unloading while\", \"unloading while\", \"unloading while\", \"unloading while\", null, \"unloading while\", \"unloading while\", \"unloading while\", \"unloading while\", null, \"unloading while\", \"unloading while\", \"unloading while\", \"unloading while\", null, \"unloading while\", \"unloading while\", \"unloading while\", \"unloading while\", null]}, {\"connectgaps\": false, \"hoverinfo\": \"y+name\", \"line\": {\"color\": \"rgb(162,140,13)\", \"width\": 10}, \"mode\": \"lines\", \"name\": \"MP loading hook on rigging\", \"type\": \"scatter\", \"x\": [\"1970-01-01T00:00:00\", \"1970-01-01T00:00:00\", \"1970-01-01T00:00:45\", \"1970-01-01T00:00:45\", \"1970-01-01T00:00:45\", \"1970-01-01T00:51:30.649183\", \"1970-01-01T00:51:30.649183\", \"1970-01-01T00:52:15.649183\", \"1970-01-01T00:52:15.649183\", \"1970-01-01T00:52:15.649183\", \"1970-01-01T01:43:01.298365\", \"1970-01-01T01:43:01.298365\", \"1970-01-01T01:43:46.298365\", \"1970-01-01T01:43:46.298365\", \"1970-01-01T01:43:46.298365\"], \"y\": [\"MP loading hook on rigging\", \"MP loading hook on rigging\", \"MP loading hook on rigging\", \"MP loading hook on rigging\", null, \"MP loading hook on rigging\", \"MP loading hook on rigging\", \"MP loading hook on rigging\", \"MP loading hook on rigging\", null, \"MP loading hook on rigging\", \"MP loading hook on rigging\", \"MP loading hook on rigging\", \"MP loading hook on rigging\", null]}, {\"connectgaps\": false, \"hoverinfo\": \"y+name\", \"line\": {\"color\": \"rgb(177,155,28)\", \"width\": 10}, \"mode\": \"lines\", \"name\": \"loading MP while\", \"type\": \"scatter\", \"x\": [\"1970-01-01T00:00:45\", \"1970-01-01T00:00:45\", \"1970-01-01T00:02:45\", \"1970-01-01T00:02:45\", \"1970-01-01T00:02:45\", \"1970-01-01T00:00:45\", \"1970-01-01T00:00:45\", \"1970-01-01T00:02:45\", \"1970-01-01T00:02:45\", \"1970-01-01T00:02:45\", \"1970-01-01T00:00:45\", \"1970-01-01T00:00:45\", \"1970-01-01T00:02:45\", \"1970-01-01T00:02:45\", \"1970-01-01T00:02:45\", \"1970-01-01T00:02:45\", \"1970-01-01T00:02:45\", \"1970-01-01T00:04:45\", \"1970-01-01T00:04:45\", \"1970-01-01T00:04:45\", \"1970-01-01T00:02:45\", \"1970-01-01T00:02:45\", \"1970-01-01T00:04:45\", \"1970-01-01T00:04:45\", \"1970-01-01T00:04:45\", \"1970-01-01T00:02:45\", \"1970-01-01T00:02:45\", \"1970-01-01T00:04:45\", \"1970-01-01T00:04:45\", \"1970-01-01T00:04:45\", \"1970-01-01T00:02:45\", \"1970-01-01T00:02:45\", \"1970-01-01T00:04:45\", \"1970-01-01T00:04:45\", \"1970-01-01T00:04:45\", \"1970-01-01T00:52:15.649183\", \"1970-01-01T00:52:15.649183\", \"1970-01-01T00:54:15.649183\", \"1970-01-01T00:54:15.649183\", \"1970-01-01T00:54:15.649183\", \"1970-01-01T00:52:15.649183\", \"1970-01-01T00:52:15.649183\", \"1970-01-01T00:54:15.649183\", \"1970-01-01T00:54:15.649183\", \"1970-01-01T00:54:15.649183\", \"1970-01-01T00:52:15.649183\", \"1970-01-01T00:52:15.649183\", \"1970-01-01T00:54:15.649183\", \"1970-01-01T00:54:15.649183\", \"1970-01-01T00:54:15.649183\", \"1970-01-01T00:54:15.649183\", \"1970-01-01T00:54:15.649183\", \"1970-01-01T00:56:15.649183\", \"1970-01-01T00:56:15.649183\", \"1970-01-01T00:56:15.649183\", \"1970-01-01T00:54:15.649183\", \"1970-01-01T00:54:15.649183\", \"1970-01-01T00:56:15.649183\", \"1970-01-01T00:56:15.649183\", \"1970-01-01T00:56:15.649183\", \"1970-01-01T00:54:15.649183\", \"1970-01-01T00:54:15.649183\", \"1970-01-01T00:56:15.649183\", \"1970-01-01T00:56:15.649183\", \"1970-01-01T00:56:15.649183\", \"1970-01-01T00:54:15.649183\", \"1970-01-01T00:54:15.649183\", \"1970-01-01T00:56:15.649183\", \"1970-01-01T00:56:15.649183\", \"1970-01-01T00:56:15.649183\", \"1970-01-01T01:43:46.298365\", \"1970-01-01T01:43:46.298365\", \"1970-01-01T01:45:46.298365\", \"1970-01-01T01:45:46.298365\", \"1970-01-01T01:45:46.298365\", \"1970-01-01T01:43:46.298365\", \"1970-01-01T01:43:46.298365\", \"1970-01-01T01:45:46.298365\", \"1970-01-01T01:45:46.298365\", \"1970-01-01T01:45:46.298365\", \"1970-01-01T01:43:46.298365\", \"1970-01-01T01:43:46.298365\", \"1970-01-01T01:45:46.298365\", \"1970-01-01T01:45:46.298365\", \"1970-01-01T01:45:46.298365\", \"1970-01-01T01:43:46.298365\", \"1970-01-01T01:43:46.298365\", \"1970-01-01T01:45:46.298365\", \"1970-01-01T01:45:46.298365\", \"1970-01-01T01:45:46.298365\", \"1970-01-01T00:05:30\", \"1970-01-01T00:05:30\", \"1970-01-01T00:05:40\", \"1970-01-01T00:05:40\", \"1970-01-01T00:05:40\", \"1970-01-01T00:05:30\", \"1970-01-01T00:05:30\", \"1970-01-01T00:05:40\", \"1970-01-01T00:05:40\", \"1970-01-01T00:05:40\", \"1970-01-01T00:05:30\", \"1970-01-01T00:05:30\", \"1970-01-01T00:05:40\", \"1970-01-01T00:05:40\", \"1970-01-01T00:05:40\", \"1970-01-01T00:05:40\", \"1970-01-01T00:05:40\", \"1970-01-01T00:05:50\", \"1970-01-01T00:05:50\", \"1970-01-01T00:05:50\", \"1970-01-01T00:05:40\", \"1970-01-01T00:05:40\", \"1970-01-01T00:05:50\", \"1970-01-01T00:05:50\", \"1970-01-01T00:05:50\", \"1970-01-01T00:05:40\", \"1970-01-01T00:05:40\", \"1970-01-01T00:05:50\", \"1970-01-01T00:05:50\", \"1970-01-01T00:05:50\", \"1970-01-01T00:05:40\", \"1970-01-01T00:05:40\", \"1970-01-01T00:05:50\", \"1970-01-01T00:05:50\", \"1970-01-01T00:05:50\", \"1970-01-01T00:57:00.649183\", \"1970-01-01T00:57:00.649183\", \"1970-01-01T00:57:10.649183\", \"1970-01-01T00:57:10.649183\", \"1970-01-01T00:57:10.649183\", \"1970-01-01T00:57:00.649183\", \"1970-01-01T00:57:00.649183\", \"1970-01-01T00:57:10.649183\", \"1970-01-01T00:57:10.649183\", \"1970-01-01T00:57:10.649183\", \"1970-01-01T00:57:00.649183\", \"1970-01-01T00:57:00.649183\", \"1970-01-01T00:57:10.649183\", \"1970-01-01T00:57:10.649183\", \"1970-01-01T00:57:10.649183\", \"1970-01-01T00:57:10.649183\", \"1970-01-01T00:57:10.649183\", \"1970-01-01T00:57:20.649183\", \"1970-01-01T00:57:20.649183\", \"1970-01-01T00:57:20.649183\", \"1970-01-01T00:57:10.649183\", \"1970-01-01T00:57:10.649183\", \"1970-01-01T00:57:20.649183\", \"1970-01-01T00:57:20.649183\", \"1970-01-01T00:57:20.649183\", \"1970-01-01T00:57:10.649183\", \"1970-01-01T00:57:10.649183\", \"1970-01-01T00:57:20.649183\", \"1970-01-01T00:57:20.649183\", \"1970-01-01T00:57:20.649183\", \"1970-01-01T00:57:10.649183\", \"1970-01-01T00:57:10.649183\", \"1970-01-01T00:57:20.649183\", \"1970-01-01T00:57:20.649183\", \"1970-01-01T00:57:20.649183\", \"1970-01-01T01:46:31.298365\", \"1970-01-01T01:46:31.298365\", \"1970-01-01T01:46:41.298365\", \"1970-01-01T01:46:41.298365\", \"1970-01-01T01:46:41.298365\", \"1970-01-01T01:46:31.298365\", \"1970-01-01T01:46:31.298365\", \"1970-01-01T01:46:41.298365\", \"1970-01-01T01:46:41.298365\", \"1970-01-01T01:46:41.298365\", \"1970-01-01T01:46:31.298365\", \"1970-01-01T01:46:31.298365\", \"1970-01-01T01:46:41.298365\", \"1970-01-01T01:46:41.298365\", \"1970-01-01T01:46:41.298365\", \"1970-01-01T01:46:31.298365\", \"1970-01-01T01:46:31.298365\", \"1970-01-01T01:46:41.298365\", \"1970-01-01T01:46:41.298365\", \"1970-01-01T01:46:41.298365\"], \"y\": [\"loading MP while\", \"loading MP while\", \"loading MP while\", \"loading MP while\", null, \"loading MP while\", \"loading MP while\", \"loading MP while\", \"loading MP while\", null, \"loading MP while\", \"loading MP while\", \"loading MP while\", \"loading MP while\", null, \"loading MP while\", \"loading MP while\", \"loading MP while\", \"loading MP while\", null, \"loading MP while\", \"loading MP while\", \"loading MP while\", \"loading MP while\", null, \"loading MP while\", \"loading MP while\", \"loading MP while\", \"loading MP while\", null, \"loading MP while\", \"loading MP while\", \"loading MP while\", \"loading MP while\", null, \"loading MP while\", \"loading MP while\", \"loading MP while\", \"loading MP while\", null, \"loading MP while\", \"loading MP while\", \"loading MP while\", \"loading MP while\", null, \"loading MP while\", \"loading MP while\", \"loading MP while\", \"loading MP while\", null, \"loading MP while\", \"loading MP while\", \"loading MP while\", \"loading MP while\", null, \"loading MP while\", \"loading MP while\", \"loading MP while\", \"loading MP while\", null, \"loading MP while\", \"loading MP while\", \"loading MP while\", \"loading MP while\", null, \"loading MP while\", \"loading MP while\", \"loading MP while\", \"loading MP while\", null, \"loading MP while\", \"loading MP while\", \"loading MP while\", \"loading MP while\", null, \"loading MP while\", \"loading MP while\", \"loading MP while\", \"loading MP while\", null, \"loading MP while\", \"loading MP while\", \"loading MP while\", \"loading MP while\", null, \"loading MP while\", \"loading MP while\", \"loading MP while\", \"loading MP while\", null, \"loading MP while\", \"loading MP while\", \"loading MP while\", \"loading MP while\", null, \"loading MP while\", \"loading MP while\", \"loading MP while\", \"loading MP while\", null, \"loading MP while\", \"loading MP while\", \"loading MP while\", \"loading MP while\", null, \"loading MP while\", \"loading MP while\", \"loading MP while\", \"loading MP while\", null, \"loading MP while\", \"loading MP while\", \"loading MP while\", \"loading MP while\", null, \"loading MP while\", \"loading MP while\", \"loading MP while\", \"loading MP while\", null, \"loading MP while\", \"loading MP while\", \"loading MP while\", \"loading MP while\", null, \"loading MP while\", \"loading MP while\", \"loading MP while\", \"loading MP while\", null, \"loading MP while\", \"loading MP while\", \"loading MP while\", \"loading MP while\", null, \"loading MP while\", \"loading MP while\", \"loading MP while\", \"loading MP while\", null, \"loading MP while\", \"loading MP while\", \"loading MP while\", \"loading MP while\", null, \"loading MP while\", \"loading MP while\", \"loading MP while\", \"loading MP while\", null, \"loading MP while\", \"loading MP while\", \"loading MP while\", \"loading MP while\", null, \"loading MP while\", \"loading MP while\", \"loading MP while\", \"loading MP while\", null, \"loading MP while\", \"loading MP while\", \"loading MP while\", \"loading MP while\", null, \"loading MP while\", \"loading MP while\", \"loading MP while\", \"loading MP while\", null, \"loading MP while\", \"loading MP while\", \"loading MP while\", \"loading MP while\", null, \"loading MP while\", \"loading MP while\", \"loading MP while\", \"loading MP while\", null]}, {\"connectgaps\": false, \"hoverinfo\": \"y+name\", \"line\": {\"color\": \"rgb(192,170,43)\", \"width\": 10}, \"mode\": \"lines\", \"name\": \"MP loading hook off rigging\", \"type\": \"scatter\", \"x\": [\"1970-01-01T00:04:45\", \"1970-01-01T00:04:45\", \"1970-01-01T00:05:00\", \"1970-01-01T00:05:00\", \"1970-01-01T00:05:00\", \"1970-01-01T00:56:15.649183\", \"1970-01-01T00:56:15.649183\", \"1970-01-01T00:56:30.649183\", \"1970-01-01T00:56:30.649183\", \"1970-01-01T00:56:30.649183\", \"1970-01-01T01:45:46.298365\", \"1970-01-01T01:45:46.298365\", \"1970-01-01T01:46:01.298365\", \"1970-01-01T01:46:01.298365\", \"1970-01-01T01:46:01.298365\"], \"y\": [\"MP loading hook off rigging\", \"MP loading hook off rigging\", \"MP loading hook off rigging\", \"MP loading hook off rigging\", null, \"MP loading hook off rigging\", \"MP loading hook off rigging\", \"MP loading hook off rigging\", \"MP loading hook off rigging\", null, \"MP loading hook off rigging\", \"MP loading hook off rigging\", \"MP loading hook off rigging\", \"MP loading hook off rigging\", null]}, {\"connectgaps\": false, \"hoverinfo\": \"y+name\", \"line\": {\"color\": \"rgb(207,185,58)\", \"width\": 10}, \"mode\": \"lines\", \"name\": \"TP loading hook on rigging\", \"type\": \"scatter\", \"x\": [\"1970-01-01T00:05:00\", \"1970-01-01T00:05:00\", \"1970-01-01T00:05:30\", \"1970-01-01T00:05:30\", \"1970-01-01T00:05:30\", \"1970-01-01T00:56:30.649183\", \"1970-01-01T00:56:30.649183\", \"1970-01-01T00:57:00.649183\", \"1970-01-01T00:57:00.649183\", \"1970-01-01T00:57:00.649183\", \"1970-01-01T01:46:01.298365\", \"1970-01-01T01:46:01.298365\", \"1970-01-01T01:46:31.298365\", \"1970-01-01T01:46:31.298365\", \"1970-01-01T01:46:31.298365\"], \"y\": [\"TP loading hook on rigging\", \"TP loading hook on rigging\", \"TP loading hook on rigging\", \"TP loading hook on rigging\", null, \"TP loading hook on rigging\", \"TP loading hook on rigging\", \"TP loading hook on rigging\", \"TP loading hook on rigging\", null, \"TP loading hook on rigging\", \"TP loading hook on rigging\", \"TP loading hook on rigging\", \"TP loading hook on rigging\", null]}, {\"connectgaps\": false, \"hoverinfo\": \"y+name\", \"line\": {\"color\": \"rgb(222,200,73)\", \"width\": 10}, \"mode\": \"lines\", \"name\": \"loading MP while\", \"type\": \"scatter\", \"x\": [\"1970-01-01T00:00:45\", \"1970-01-01T00:00:45\", \"1970-01-01T00:02:45\", \"1970-01-01T00:02:45\", \"1970-01-01T00:02:45\", \"1970-01-01T00:00:45\", \"1970-01-01T00:00:45\", \"1970-01-01T00:02:45\", \"1970-01-01T00:02:45\", \"1970-01-01T00:02:45\", \"1970-01-01T00:00:45\", \"1970-01-01T00:00:45\", \"1970-01-01T00:02:45\", \"1970-01-01T00:02:45\", \"1970-01-01T00:02:45\", \"1970-01-01T00:02:45\", \"1970-01-01T00:02:45\", \"1970-01-01T00:04:45\", \"1970-01-01T00:04:45\", \"1970-01-01T00:04:45\", \"1970-01-01T00:02:45\", \"1970-01-01T00:02:45\", \"1970-01-01T00:04:45\", \"1970-01-01T00:04:45\", \"1970-01-01T00:04:45\", \"1970-01-01T00:02:45\", \"1970-01-01T00:02:45\", \"1970-01-01T00:04:45\", \"1970-01-01T00:04:45\", \"1970-01-01T00:04:45\", \"1970-01-01T00:02:45\", \"1970-01-01T00:02:45\", \"1970-01-01T00:04:45\", \"1970-01-01T00:04:45\", \"1970-01-01T00:04:45\", \"1970-01-01T00:52:15.649183\", \"1970-01-01T00:52:15.649183\", \"1970-01-01T00:54:15.649183\", \"1970-01-01T00:54:15.649183\", \"1970-01-01T00:54:15.649183\", \"1970-01-01T00:52:15.649183\", \"1970-01-01T00:52:15.649183\", \"1970-01-01T00:54:15.649183\", \"1970-01-01T00:54:15.649183\", \"1970-01-01T00:54:15.649183\", \"1970-01-01T00:52:15.649183\", \"1970-01-01T00:52:15.649183\", \"1970-01-01T00:54:15.649183\", \"1970-01-01T00:54:15.649183\", \"1970-01-01T00:54:15.649183\", \"1970-01-01T00:54:15.649183\", \"1970-01-01T00:54:15.649183\", \"1970-01-01T00:56:15.649183\", \"1970-01-01T00:56:15.649183\", \"1970-01-01T00:56:15.649183\", \"1970-01-01T00:54:15.649183\", \"1970-01-01T00:54:15.649183\", \"1970-01-01T00:56:15.649183\", \"1970-01-01T00:56:15.649183\", \"1970-01-01T00:56:15.649183\", \"1970-01-01T00:54:15.649183\", \"1970-01-01T00:54:15.649183\", \"1970-01-01T00:56:15.649183\", \"1970-01-01T00:56:15.649183\", \"1970-01-01T00:56:15.649183\", \"1970-01-01T00:54:15.649183\", \"1970-01-01T00:54:15.649183\", \"1970-01-01T00:56:15.649183\", \"1970-01-01T00:56:15.649183\", \"1970-01-01T00:56:15.649183\", \"1970-01-01T01:43:46.298365\", \"1970-01-01T01:43:46.298365\", \"1970-01-01T01:45:46.298365\", \"1970-01-01T01:45:46.298365\", \"1970-01-01T01:45:46.298365\", \"1970-01-01T01:43:46.298365\", \"1970-01-01T01:43:46.298365\", \"1970-01-01T01:45:46.298365\", \"1970-01-01T01:45:46.298365\", \"1970-01-01T01:45:46.298365\", \"1970-01-01T01:43:46.298365\", \"1970-01-01T01:43:46.298365\", \"1970-01-01T01:45:46.298365\", \"1970-01-01T01:45:46.298365\", \"1970-01-01T01:45:46.298365\", \"1970-01-01T01:43:46.298365\", \"1970-01-01T01:43:46.298365\", \"1970-01-01T01:45:46.298365\", \"1970-01-01T01:45:46.298365\", \"1970-01-01T01:45:46.298365\", \"1970-01-01T00:05:30\", \"1970-01-01T00:05:30\", \"1970-01-01T00:05:40\", \"1970-01-01T00:05:40\", \"1970-01-01T00:05:40\", \"1970-01-01T00:05:30\", \"1970-01-01T00:05:30\", \"1970-01-01T00:05:40\", \"1970-01-01T00:05:40\", \"1970-01-01T00:05:40\", \"1970-01-01T00:05:30\", \"1970-01-01T00:05:30\", \"1970-01-01T00:05:40\", \"1970-01-01T00:05:40\", \"1970-01-01T00:05:40\", \"1970-01-01T00:05:40\", \"1970-01-01T00:05:40\", \"1970-01-01T00:05:50\", \"1970-01-01T00:05:50\", \"1970-01-01T00:05:50\", \"1970-01-01T00:05:40\", \"1970-01-01T00:05:40\", \"1970-01-01T00:05:50\", \"1970-01-01T00:05:50\", \"1970-01-01T00:05:50\", \"1970-01-01T00:05:40\", \"1970-01-01T00:05:40\", \"1970-01-01T00:05:50\", \"1970-01-01T00:05:50\", \"1970-01-01T00:05:50\", \"1970-01-01T00:05:40\", \"1970-01-01T00:05:40\", \"1970-01-01T00:05:50\", \"1970-01-01T00:05:50\", \"1970-01-01T00:05:50\", \"1970-01-01T00:57:00.649183\", \"1970-01-01T00:57:00.649183\", \"1970-01-01T00:57:10.649183\", \"1970-01-01T00:57:10.649183\", \"1970-01-01T00:57:10.649183\", \"1970-01-01T00:57:00.649183\", \"1970-01-01T00:57:00.649183\", \"1970-01-01T00:57:10.649183\", \"1970-01-01T00:57:10.649183\", \"1970-01-01T00:57:10.649183\", \"1970-01-01T00:57:00.649183\", \"1970-01-01T00:57:00.649183\", \"1970-01-01T00:57:10.649183\", \"1970-01-01T00:57:10.649183\", \"1970-01-01T00:57:10.649183\", \"1970-01-01T00:57:10.649183\", \"1970-01-01T00:57:10.649183\", \"1970-01-01T00:57:20.649183\", \"1970-01-01T00:57:20.649183\", \"1970-01-01T00:57:20.649183\", \"1970-01-01T00:57:10.649183\", \"1970-01-01T00:57:10.649183\", \"1970-01-01T00:57:20.649183\", \"1970-01-01T00:57:20.649183\", \"1970-01-01T00:57:20.649183\", \"1970-01-01T00:57:10.649183\", \"1970-01-01T00:57:10.649183\", \"1970-01-01T00:57:20.649183\", \"1970-01-01T00:57:20.649183\", \"1970-01-01T00:57:20.649183\", \"1970-01-01T00:57:10.649183\", \"1970-01-01T00:57:10.649183\", \"1970-01-01T00:57:20.649183\", \"1970-01-01T00:57:20.649183\", \"1970-01-01T00:57:20.649183\", \"1970-01-01T01:46:31.298365\", \"1970-01-01T01:46:31.298365\", \"1970-01-01T01:46:41.298365\", \"1970-01-01T01:46:41.298365\", \"1970-01-01T01:46:41.298365\", \"1970-01-01T01:46:31.298365\", \"1970-01-01T01:46:31.298365\", \"1970-01-01T01:46:41.298365\", \"1970-01-01T01:46:41.298365\", \"1970-01-01T01:46:41.298365\", \"1970-01-01T01:46:31.298365\", \"1970-01-01T01:46:31.298365\", \"1970-01-01T01:46:41.298365\", \"1970-01-01T01:46:41.298365\", \"1970-01-01T01:46:41.298365\", \"1970-01-01T01:46:31.298365\", \"1970-01-01T01:46:31.298365\", \"1970-01-01T01:46:41.298365\", \"1970-01-01T01:46:41.298365\", \"1970-01-01T01:46:41.298365\"], \"y\": [\"loading MP while\", \"loading MP while\", \"loading MP while\", \"loading MP while\", null, \"loading MP while\", \"loading MP while\", \"loading MP while\", \"loading MP while\", null, \"loading MP while\", \"loading MP while\", \"loading MP while\", \"loading MP while\", null, \"loading MP while\", \"loading MP while\", \"loading MP while\", \"loading MP while\", null, \"loading MP while\", \"loading MP while\", \"loading MP while\", \"loading MP while\", null, \"loading MP while\", \"loading MP while\", \"loading MP while\", \"loading MP while\", null, \"loading MP while\", \"loading MP while\", \"loading MP while\", \"loading MP while\", null, \"loading MP while\", \"loading MP while\", \"loading MP while\", \"loading MP while\", null, \"loading MP while\", \"loading MP while\", \"loading MP while\", \"loading MP while\", null, \"loading MP while\", \"loading MP while\", \"loading MP while\", \"loading MP while\", null, \"loading MP while\", \"loading MP while\", \"loading MP while\", \"loading MP while\", null, \"loading MP while\", \"loading MP while\", \"loading MP while\", \"loading MP while\", null, \"loading MP while\", \"loading MP while\", \"loading MP while\", \"loading MP while\", null, \"loading MP while\", \"loading MP while\", \"loading MP while\", \"loading MP while\", null, \"loading MP while\", \"loading MP while\", \"loading MP while\", \"loading MP while\", null, \"loading MP while\", \"loading MP while\", \"loading MP while\", \"loading MP while\", null, \"loading MP while\", \"loading MP while\", \"loading MP while\", \"loading MP while\", null, \"loading MP while\", \"loading MP while\", \"loading MP while\", \"loading MP while\", null, \"loading MP while\", \"loading MP while\", \"loading MP while\", \"loading MP while\", null, \"loading MP while\", \"loading MP while\", \"loading MP while\", \"loading MP while\", null, \"loading MP while\", \"loading MP while\", \"loading MP while\", \"loading MP while\", null, \"loading MP while\", \"loading MP while\", \"loading MP while\", \"loading MP while\", null, \"loading MP while\", \"loading MP while\", \"loading MP while\", \"loading MP while\", null, \"loading MP while\", \"loading MP while\", \"loading MP while\", \"loading MP while\", null, \"loading MP while\", \"loading MP while\", \"loading MP while\", \"loading MP while\", null, \"loading MP while\", \"loading MP while\", \"loading MP while\", \"loading MP while\", null, \"loading MP while\", \"loading MP while\", \"loading MP while\", \"loading MP while\", null, \"loading MP while\", \"loading MP while\", \"loading MP while\", \"loading MP while\", null, \"loading MP while\", \"loading MP while\", \"loading MP while\", \"loading MP while\", null, \"loading MP while\", \"loading MP while\", \"loading MP while\", \"loading MP while\", null, \"loading MP while\", \"loading MP while\", \"loading MP while\", \"loading MP while\", null, \"loading MP while\", \"loading MP while\", \"loading MP while\", \"loading MP while\", null, \"loading MP while\", \"loading MP while\", \"loading MP while\", \"loading MP while\", null, \"loading MP while\", \"loading MP while\", \"loading MP while\", \"loading MP while\", null, \"loading MP while\", \"loading MP while\", \"loading MP while\", \"loading MP while\", null, \"loading MP while\", \"loading MP while\", \"loading MP while\", \"loading MP while\", null]}, {\"connectgaps\": false, \"hoverinfo\": \"y+name\", \"line\": {\"color\": \"rgb(237,215,88)\", \"width\": 10}, \"mode\": \"lines\", \"name\": \"TP loading hook off rigging\", \"type\": \"scatter\", \"x\": [\"1970-01-01T00:05:50\", \"1970-01-01T00:05:50\", \"1970-01-01T00:06:05\", \"1970-01-01T00:06:05\", \"1970-01-01T00:06:05\", \"1970-01-01T00:57:20.649183\", \"1970-01-01T00:57:20.649183\", \"1970-01-01T00:57:35.649183\", \"1970-01-01T00:57:35.649183\", \"1970-01-01T00:57:35.649183\", \"1970-01-01T01:46:41.298365\", \"1970-01-01T01:46:41.298365\", \"1970-01-01T01:46:56.298365\", \"1970-01-01T01:46:56.298365\", \"1970-01-01T01:46:56.298365\"], \"y\": [\"TP loading hook off rigging\", \"TP loading hook off rigging\", \"TP loading hook off rigging\", \"TP loading hook off rigging\", null, \"TP loading hook off rigging\", \"TP loading hook off rigging\", \"TP loading hook off rigging\", \"TP loading hook off rigging\", null, \"TP loading hook off rigging\", \"TP loading hook off rigging\", \"TP loading hook off rigging\", \"TP loading hook off rigging\", null]}, {\"connectgaps\": false, \"hoverinfo\": \"y+name\", \"line\": {\"color\": \"rgb(252,230,103)\", \"width\": 10}, \"mode\": \"lines\", \"name\": \"sailing transit\", \"type\": \"scatter\", \"x\": [\"1970-01-01T00:21:47.824591\", \"1970-01-01T00:21:47.824591\", \"1970-01-01T00:21:47.824591\", \"1970-01-01T00:21:47.824591\", \"1970-01-01T00:21:47.824591\", \"1970-01-01T00:28:47.824591\", \"1970-01-01T00:28:47.824591\", \"1970-01-01T00:28:47.824591\", \"1970-01-01T00:28:47.824591\", \"1970-01-01T00:28:47.824591\", \"1970-01-01T01:13:18.473774\", \"1970-01-01T01:13:18.473774\", \"1970-01-01T01:13:18.473774\", \"1970-01-01T01:13:18.473774\", \"1970-01-01T01:13:18.473774\", \"1970-01-01T01:20:18.473774\", \"1970-01-01T01:20:18.473774\", \"1970-01-01T01:20:18.473774\", \"1970-01-01T01:20:18.473774\", \"1970-01-01T01:20:18.473774\", \"1970-01-01T02:02:39.122956\", \"1970-01-01T02:02:39.122956\", \"1970-01-01T02:02:39.122956\", \"1970-01-01T02:02:39.122956\", \"1970-01-01T02:02:39.122956\"], \"y\": [\"sailing transit\", \"sailing transit\", \"sailing transit\", \"sailing transit\", null, \"sailing transit\", \"sailing transit\", \"sailing transit\", \"sailing transit\", null, \"sailing transit\", \"sailing transit\", \"sailing transit\", \"sailing transit\", null, \"sailing transit\", \"sailing transit\", \"sailing transit\", \"sailing transit\", null, \"sailing transit\", \"sailing transit\", \"sailing transit\", \"sailing transit\", null]}, {\"connectgaps\": false, \"hoverinfo\": \"y+name\", \"line\": {\"color\": \"rgb(11,245,118)\", \"width\": 10}, \"mode\": \"lines\", \"name\": \"MP preparing for installation\", \"type\": \"scatter\", \"x\": [\"1970-01-01T00:21:47.824591\", \"1970-01-01T00:21:47.824591\", \"1970-01-01T00:22:32.824591\", \"1970-01-01T00:22:32.824591\", \"1970-01-01T00:22:32.824591\", \"1970-01-01T00:28:47.824591\", \"1970-01-01T00:28:47.824591\", \"1970-01-01T00:29:32.824591\", \"1970-01-01T00:29:32.824591\", \"1970-01-01T00:29:32.824591\", \"1970-01-01T01:13:18.473774\", \"1970-01-01T01:13:18.473774\", \"1970-01-01T01:14:03.473774\", \"1970-01-01T01:14:03.473774\", \"1970-01-01T01:14:03.473774\", \"1970-01-01T01:20:18.473774\", \"1970-01-01T01:20:18.473774\", \"1970-01-01T01:21:03.473774\", \"1970-01-01T01:21:03.473774\", \"1970-01-01T01:21:03.473774\", \"1970-01-01T02:02:39.122956\", \"1970-01-01T02:02:39.122956\", \"1970-01-01T02:03:24.122956\", \"1970-01-01T02:03:24.122956\", \"1970-01-01T02:03:24.122956\"], \"y\": [\"MP preparing for installation\", \"MP preparing for installation\", \"MP preparing for installation\", \"MP preparing for installation\", null, \"MP preparing for installation\", \"MP preparing for installation\", \"MP preparing for installation\", \"MP preparing for installation\", null, \"MP preparing for installation\", \"MP preparing for installation\", \"MP preparing for installation\", \"MP preparing for installation\", null, \"MP preparing for installation\", \"MP preparing for installation\", \"MP preparing for installation\", \"MP preparing for installation\", null, \"MP preparing for installation\", \"MP preparing for installation\", \"MP preparing for installation\", \"MP preparing for installation\", null]}, {\"connectgaps\": false, \"hoverinfo\": \"y+name\", \"line\": {\"color\": \"rgb(26,4,133)\", \"width\": 10}, \"mode\": \"lines\", \"name\": \"Install MP\", \"type\": \"scatter\", \"x\": [\"1970-01-01T00:22:32.824591\", \"1970-01-01T00:22:32.824591\", \"1970-01-01T00:24:32.824591\", \"1970-01-01T00:24:32.824591\", \"1970-01-01T00:24:32.824591\", \"1970-01-01T00:29:32.824591\", \"1970-01-01T00:29:32.824591\", \"1970-01-01T00:31:32.824591\", \"1970-01-01T00:31:32.824591\", \"1970-01-01T00:31:32.824591\", \"1970-01-01T01:14:03.473774\", \"1970-01-01T01:14:03.473774\", \"1970-01-01T01:16:03.473774\", \"1970-01-01T01:16:03.473774\", \"1970-01-01T01:16:03.473774\", \"1970-01-01T01:21:03.473774\", \"1970-01-01T01:21:03.473774\", \"1970-01-01T01:23:03.473774\", \"1970-01-01T01:23:03.473774\", \"1970-01-01T01:23:03.473774\", \"1970-01-01T02:03:24.122956\", \"1970-01-01T02:03:24.122956\", \"1970-01-01T02:05:24.122956\", \"1970-01-01T02:05:24.122956\", \"1970-01-01T02:05:24.122956\"], \"y\": [\"Install MP\", \"Install MP\", \"Install MP\", \"Install MP\", null, \"Install MP\", \"Install MP\", \"Install MP\", \"Install MP\", null, \"Install MP\", \"Install MP\", \"Install MP\", \"Install MP\", null, \"Install MP\", \"Install MP\", \"Install MP\", \"Install MP\", null, \"Install MP\", \"Install MP\", \"Install MP\", \"Install MP\", null]}, {\"connectgaps\": false, \"hoverinfo\": \"y+name\", \"line\": {\"color\": \"rgb(41,19,148)\", \"width\": 10}, \"mode\": \"lines\", \"name\": \"Installing MP\", \"type\": \"scatter\", \"x\": [\"1970-01-01T00:24:32.824591\", \"1970-01-01T00:24:32.824591\", \"1970-01-01T00:25:17.824591\", \"1970-01-01T00:25:17.824591\", \"1970-01-01T00:25:17.824591\", \"1970-01-01T00:31:32.824591\", \"1970-01-01T00:31:32.824591\", \"1970-01-01T00:32:17.824591\", \"1970-01-01T00:32:17.824591\", \"1970-01-01T00:32:17.824591\", \"1970-01-01T01:16:03.473774\", \"1970-01-01T01:16:03.473774\", \"1970-01-01T01:16:48.473774\", \"1970-01-01T01:16:48.473774\", \"1970-01-01T01:16:48.473774\", \"1970-01-01T01:23:03.473774\", \"1970-01-01T01:23:03.473774\", \"1970-01-01T01:23:48.473774\", \"1970-01-01T01:23:48.473774\", \"1970-01-01T01:23:48.473774\", \"1970-01-01T02:05:24.122956\", \"1970-01-01T02:05:24.122956\", \"1970-01-01T02:06:09.122956\", \"1970-01-01T02:06:09.122956\", \"1970-01-01T02:06:09.122956\"], \"y\": [\"Installing MP\", \"Installing MP\", \"Installing MP\", \"Installing MP\", null, \"Installing MP\", \"Installing MP\", \"Installing MP\", \"Installing MP\", null, \"Installing MP\", \"Installing MP\", \"Installing MP\", \"Installing MP\", null, \"Installing MP\", \"Installing MP\", \"Installing MP\", \"Installing MP\", null, \"Installing MP\", \"Installing MP\", \"Installing MP\", \"Installing MP\", null]}, {\"connectgaps\": false, \"hoverinfo\": \"y+name\", \"line\": {\"color\": \"rgb(56,34,163)\", \"width\": 10}, \"mode\": \"lines\", \"name\": \"Prepare TP installation\", \"type\": \"scatter\", \"x\": [\"1970-01-01T00:25:17.824591\", \"1970-01-01T00:25:17.824591\", \"1970-01-01T00:26:02.824591\", \"1970-01-01T00:26:02.824591\", \"1970-01-01T00:26:02.824591\", \"1970-01-01T00:32:17.824591\", \"1970-01-01T00:32:17.824591\", \"1970-01-01T00:33:02.824591\", \"1970-01-01T00:33:02.824591\", \"1970-01-01T00:33:02.824591\", \"1970-01-01T01:16:48.473774\", \"1970-01-01T01:16:48.473774\", \"1970-01-01T01:17:33.473774\", \"1970-01-01T01:17:33.473774\", \"1970-01-01T01:17:33.473774\", \"1970-01-01T01:23:48.473774\", \"1970-01-01T01:23:48.473774\", \"1970-01-01T01:24:33.473774\", \"1970-01-01T01:24:33.473774\", \"1970-01-01T01:24:33.473774\", \"1970-01-01T02:06:09.122956\", \"1970-01-01T02:06:09.122956\", \"1970-01-01T02:06:54.122956\", \"1970-01-01T02:06:54.122956\", \"1970-01-01T02:06:54.122956\"], \"y\": [\"Prepare TP installation\", \"Prepare TP installation\", \"Prepare TP installation\", \"Prepare TP installation\", null, \"Prepare TP installation\", \"Prepare TP installation\", \"Prepare TP installation\", \"Prepare TP installation\", null, \"Prepare TP installation\", \"Prepare TP installation\", \"Prepare TP installation\", \"Prepare TP installation\", null, \"Prepare TP installation\", \"Prepare TP installation\", \"Prepare TP installation\", \"Prepare TP installation\", null, \"Prepare TP installation\", \"Prepare TP installation\", \"Prepare TP installation\", \"Prepare TP installation\", null]}, {\"connectgaps\": false, \"hoverinfo\": \"y+name\", \"line\": {\"color\": \"rgb(71,49,178)\", \"width\": 10}, \"mode\": \"lines\", \"name\": \"Install TP\", \"type\": \"scatter\", \"x\": [\"1970-01-01T00:26:02.824591\", \"1970-01-01T00:26:02.824591\", \"1970-01-01T00:28:02.824591\", \"1970-01-01T00:28:02.824591\", \"1970-01-01T00:28:02.824591\", \"1970-01-01T00:33:02.824591\", \"1970-01-01T00:33:02.824591\", \"1970-01-01T00:35:02.824591\", \"1970-01-01T00:35:02.824591\", \"1970-01-01T00:35:02.824591\", \"1970-01-01T01:17:33.473774\", \"1970-01-01T01:17:33.473774\", \"1970-01-01T01:19:33.473774\", \"1970-01-01T01:19:33.473774\", \"1970-01-01T01:19:33.473774\", \"1970-01-01T01:24:33.473774\", \"1970-01-01T01:24:33.473774\", \"1970-01-01T01:26:33.473774\", \"1970-01-01T01:26:33.473774\", \"1970-01-01T01:26:33.473774\", \"1970-01-01T02:06:54.122956\", \"1970-01-01T02:06:54.122956\", \"1970-01-01T02:08:54.122956\", \"1970-01-01T02:08:54.122956\", \"1970-01-01T02:08:54.122956\"], \"y\": [\"Install TP\", \"Install TP\", \"Install TP\", \"Install TP\", null, \"Install TP\", \"Install TP\", \"Install TP\", \"Install TP\", null, \"Install TP\", \"Install TP\", \"Install TP\", \"Install TP\", null, \"Install TP\", \"Install TP\", \"Install TP\", \"Install TP\", null, \"Install TP\", \"Install TP\", \"Install TP\", \"Install TP\", null]}, {\"connectgaps\": false, \"hoverinfo\": \"y+name\", \"line\": {\"color\": \"rgb(86,64,193)\", \"width\": 10}, \"mode\": \"lines\", \"name\": \"TP finalize installation\", \"type\": \"scatter\", \"x\": [\"1970-01-01T00:28:02.824591\", \"1970-01-01T00:28:02.824591\", \"1970-01-01T00:28:47.824591\", \"1970-01-01T00:28:47.824591\", \"1970-01-01T00:28:47.824591\", \"1970-01-01T00:35:02.824591\", \"1970-01-01T00:35:02.824591\", \"1970-01-01T00:35:47.824591\", \"1970-01-01T00:35:47.824591\", \"1970-01-01T00:35:47.824591\", \"1970-01-01T01:19:33.473774\", \"1970-01-01T01:19:33.473774\", \"1970-01-01T01:20:18.473774\", \"1970-01-01T01:20:18.473774\", \"1970-01-01T01:20:18.473774\", \"1970-01-01T01:26:33.473774\", \"1970-01-01T01:26:33.473774\", \"1970-01-01T01:27:18.473774\", \"1970-01-01T01:27:18.473774\", \"1970-01-01T01:27:18.473774\", \"1970-01-01T02:08:54.122956\", \"1970-01-01T02:08:54.122956\", \"1970-01-01T02:09:39.122956\", \"1970-01-01T02:09:39.122956\", \"1970-01-01T02:09:39.122956\"], \"y\": [\"TP finalize installation\", \"TP finalize installation\", \"TP finalize installation\", \"TP finalize installation\", null, \"TP finalize installation\", \"TP finalize installation\", \"TP finalize installation\", \"TP finalize installation\", null, \"TP finalize installation\", \"TP finalize installation\", \"TP finalize installation\", \"TP finalize installation\", null, \"TP finalize installation\", \"TP finalize installation\", \"TP finalize installation\", \"TP finalize installation\", null, \"TP finalize installation\", \"TP finalize installation\", \"TP finalize installation\", \"TP finalize installation\", null]}],                        {\"hovermode\": \"closest\", \"legend\": {\"orientation\": \"h\", \"x\": 0, \"y\": -0.2}, \"template\": {\"data\": {\"bar\": [{\"error_x\": {\"color\": \"#2a3f5f\"}, \"error_y\": {\"color\": \"#2a3f5f\"}, \"marker\": {\"line\": {\"color\": \"#E5ECF6\", \"width\": 0.5}}, \"type\": \"bar\"}], \"barpolar\": [{\"marker\": {\"line\": {\"color\": \"#E5ECF6\", \"width\": 0.5}}, \"type\": \"barpolar\"}], \"carpet\": [{\"aaxis\": {\"endlinecolor\": \"#2a3f5f\", \"gridcolor\": \"white\", \"linecolor\": \"white\", \"minorgridcolor\": \"white\", \"startlinecolor\": \"#2a3f5f\"}, \"baxis\": {\"endlinecolor\": \"#2a3f5f\", \"gridcolor\": \"white\", \"linecolor\": \"white\", \"minorgridcolor\": \"white\", \"startlinecolor\": \"#2a3f5f\"}, \"type\": \"carpet\"}], \"choropleth\": [{\"colorbar\": {\"outlinewidth\": 0, \"ticks\": \"\"}, \"type\": \"choropleth\"}], \"contour\": [{\"colorbar\": {\"outlinewidth\": 0, \"ticks\": \"\"}, \"colorscale\": [[0.0, \"#0d0887\"], [0.1111111111111111, \"#46039f\"], [0.2222222222222222, \"#7201a8\"], [0.3333333333333333, \"#9c179e\"], [0.4444444444444444, \"#bd3786\"], [0.5555555555555556, \"#d8576b\"], [0.6666666666666666, \"#ed7953\"], [0.7777777777777778, \"#fb9f3a\"], [0.8888888888888888, \"#fdca26\"], [1.0, \"#f0f921\"]], \"type\": \"contour\"}], \"contourcarpet\": [{\"colorbar\": {\"outlinewidth\": 0, \"ticks\": \"\"}, \"type\": \"contourcarpet\"}], \"heatmap\": [{\"colorbar\": {\"outlinewidth\": 0, \"ticks\": \"\"}, \"colorscale\": [[0.0, \"#0d0887\"], [0.1111111111111111, \"#46039f\"], [0.2222222222222222, \"#7201a8\"], [0.3333333333333333, \"#9c179e\"], [0.4444444444444444, \"#bd3786\"], [0.5555555555555556, \"#d8576b\"], [0.6666666666666666, \"#ed7953\"], [0.7777777777777778, \"#fb9f3a\"], [0.8888888888888888, \"#fdca26\"], [1.0, \"#f0f921\"]], \"type\": \"heatmap\"}], \"heatmapgl\": [{\"colorbar\": {\"outlinewidth\": 0, \"ticks\": \"\"}, \"colorscale\": [[0.0, \"#0d0887\"], [0.1111111111111111, \"#46039f\"], [0.2222222222222222, \"#7201a8\"], [0.3333333333333333, \"#9c179e\"], [0.4444444444444444, \"#bd3786\"], [0.5555555555555556, \"#d8576b\"], [0.6666666666666666, \"#ed7953\"], [0.7777777777777778, \"#fb9f3a\"], [0.8888888888888888, \"#fdca26\"], [1.0, \"#f0f921\"]], \"type\": \"heatmapgl\"}], \"histogram\": [{\"marker\": {\"colorbar\": {\"outlinewidth\": 0, \"ticks\": \"\"}}, \"type\": \"histogram\"}], \"histogram2d\": [{\"colorbar\": {\"outlinewidth\": 0, \"ticks\": \"\"}, \"colorscale\": [[0.0, \"#0d0887\"], [0.1111111111111111, \"#46039f\"], [0.2222222222222222, \"#7201a8\"], [0.3333333333333333, \"#9c179e\"], [0.4444444444444444, \"#bd3786\"], [0.5555555555555556, \"#d8576b\"], [0.6666666666666666, \"#ed7953\"], [0.7777777777777778, \"#fb9f3a\"], [0.8888888888888888, \"#fdca26\"], [1.0, \"#f0f921\"]], \"type\": \"histogram2d\"}], \"histogram2dcontour\": [{\"colorbar\": {\"outlinewidth\": 0, \"ticks\": \"\"}, \"colorscale\": [[0.0, \"#0d0887\"], [0.1111111111111111, \"#46039f\"], [0.2222222222222222, \"#7201a8\"], [0.3333333333333333, \"#9c179e\"], [0.4444444444444444, \"#bd3786\"], [0.5555555555555556, \"#d8576b\"], [0.6666666666666666, \"#ed7953\"], [0.7777777777777778, \"#fb9f3a\"], [0.8888888888888888, \"#fdca26\"], [1.0, \"#f0f921\"]], \"type\": \"histogram2dcontour\"}], \"mesh3d\": [{\"colorbar\": {\"outlinewidth\": 0, \"ticks\": \"\"}, \"type\": \"mesh3d\"}], \"parcoords\": [{\"line\": {\"colorbar\": {\"outlinewidth\": 0, \"ticks\": \"\"}}, \"type\": \"parcoords\"}], \"pie\": [{\"automargin\": true, \"type\": \"pie\"}], \"scatter\": [{\"marker\": {\"colorbar\": {\"outlinewidth\": 0, \"ticks\": \"\"}}, \"type\": \"scatter\"}], \"scatter3d\": [{\"line\": {\"colorbar\": {\"outlinewidth\": 0, \"ticks\": \"\"}}, \"marker\": {\"colorbar\": {\"outlinewidth\": 0, \"ticks\": \"\"}}, \"type\": \"scatter3d\"}], \"scattercarpet\": [{\"marker\": {\"colorbar\": {\"outlinewidth\": 0, \"ticks\": \"\"}}, \"type\": \"scattercarpet\"}], \"scattergeo\": [{\"marker\": {\"colorbar\": {\"outlinewidth\": 0, \"ticks\": \"\"}}, \"type\": \"scattergeo\"}], \"scattergl\": [{\"marker\": {\"colorbar\": {\"outlinewidth\": 0, \"ticks\": \"\"}}, \"type\": \"scattergl\"}], \"scattermapbox\": [{\"marker\": {\"colorbar\": {\"outlinewidth\": 0, \"ticks\": \"\"}}, \"type\": \"scattermapbox\"}], \"scatterpolar\": [{\"marker\": {\"colorbar\": {\"outlinewidth\": 0, \"ticks\": \"\"}}, \"type\": \"scatterpolar\"}], \"scatterpolargl\": [{\"marker\": {\"colorbar\": {\"outlinewidth\": 0, \"ticks\": \"\"}}, \"type\": \"scatterpolargl\"}], \"scatterternary\": [{\"marker\": {\"colorbar\": {\"outlinewidth\": 0, \"ticks\": \"\"}}, \"type\": \"scatterternary\"}], \"surface\": [{\"colorbar\": {\"outlinewidth\": 0, \"ticks\": \"\"}, \"colorscale\": [[0.0, \"#0d0887\"], [0.1111111111111111, \"#46039f\"], [0.2222222222222222, \"#7201a8\"], [0.3333333333333333, \"#9c179e\"], [0.4444444444444444, \"#bd3786\"], [0.5555555555555556, \"#d8576b\"], [0.6666666666666666, \"#ed7953\"], [0.7777777777777778, \"#fb9f3a\"], [0.8888888888888888, \"#fdca26\"], [1.0, \"#f0f921\"]], \"type\": \"surface\"}], \"table\": [{\"cells\": {\"fill\": {\"color\": \"#EBF0F8\"}, \"line\": {\"color\": \"white\"}}, \"header\": {\"fill\": {\"color\": \"#C8D4E3\"}, \"line\": {\"color\": \"white\"}}, \"type\": \"table\"}]}, \"layout\": {\"annotationdefaults\": {\"arrowcolor\": \"#2a3f5f\", \"arrowhead\": 0, \"arrowwidth\": 1}, \"coloraxis\": {\"colorbar\": {\"outlinewidth\": 0, \"ticks\": \"\"}}, \"colorscale\": {\"diverging\": [[0, \"#8e0152\"], [0.1, \"#c51b7d\"], [0.2, \"#de77ae\"], [0.3, \"#f1b6da\"], [0.4, \"#fde0ef\"], [0.5, \"#f7f7f7\"], [0.6, \"#e6f5d0\"], [0.7, \"#b8e186\"], [0.8, \"#7fbc41\"], [0.9, \"#4d9221\"], [1, \"#276419\"]], \"sequential\": [[0.0, \"#0d0887\"], [0.1111111111111111, \"#46039f\"], [0.2222222222222222, \"#7201a8\"], [0.3333333333333333, \"#9c179e\"], [0.4444444444444444, \"#bd3786\"], [0.5555555555555556, \"#d8576b\"], [0.6666666666666666, \"#ed7953\"], [0.7777777777777778, \"#fb9f3a\"], [0.8888888888888888, \"#fdca26\"], [1.0, \"#f0f921\"]], \"sequentialminus\": [[0.0, \"#0d0887\"], [0.1111111111111111, \"#46039f\"], [0.2222222222222222, \"#7201a8\"], [0.3333333333333333, \"#9c179e\"], [0.4444444444444444, \"#bd3786\"], [0.5555555555555556, \"#d8576b\"], [0.6666666666666666, \"#ed7953\"], [0.7777777777777778, \"#fb9f3a\"], [0.8888888888888888, \"#fdca26\"], [1.0, \"#f0f921\"]]}, \"colorway\": [\"#636efa\", \"#EF553B\", \"#00cc96\", \"#ab63fa\", \"#FFA15A\", \"#19d3f3\", \"#FF6692\", \"#B6E880\", \"#FF97FF\", \"#FECB52\"], \"font\": {\"color\": \"#2a3f5f\"}, \"geo\": {\"bgcolor\": \"white\", \"lakecolor\": \"white\", \"landcolor\": \"#E5ECF6\", \"showlakes\": true, \"showland\": true, \"subunitcolor\": \"white\"}, \"hoverlabel\": {\"align\": \"left\"}, \"hovermode\": \"closest\", \"mapbox\": {\"style\": \"light\"}, \"paper_bgcolor\": \"white\", \"plot_bgcolor\": \"#E5ECF6\", \"polar\": {\"angularaxis\": {\"gridcolor\": \"white\", \"linecolor\": \"white\", \"ticks\": \"\"}, \"bgcolor\": \"#E5ECF6\", \"radialaxis\": {\"gridcolor\": \"white\", \"linecolor\": \"white\", \"ticks\": \"\"}}, \"scene\": {\"xaxis\": {\"backgroundcolor\": \"#E5ECF6\", \"gridcolor\": \"white\", \"gridwidth\": 2, \"linecolor\": \"white\", \"showbackground\": true, \"ticks\": \"\", \"zerolinecolor\": \"white\"}, \"yaxis\": {\"backgroundcolor\": \"#E5ECF6\", \"gridcolor\": \"white\", \"gridwidth\": 2, \"linecolor\": \"white\", \"showbackground\": true, \"ticks\": \"\", \"zerolinecolor\": \"white\"}, \"zaxis\": {\"backgroundcolor\": \"#E5ECF6\", \"gridcolor\": \"white\", \"gridwidth\": 2, \"linecolor\": \"white\", \"showbackground\": true, \"ticks\": \"\", \"zerolinecolor\": \"white\"}}, \"shapedefaults\": {\"line\": {\"color\": \"#2a3f5f\"}}, \"ternary\": {\"aaxis\": {\"gridcolor\": \"white\", \"linecolor\": \"white\", \"ticks\": \"\"}, \"baxis\": {\"gridcolor\": \"white\", \"linecolor\": \"white\", \"ticks\": \"\"}, \"bgcolor\": \"#E5ECF6\", \"caxis\": {\"gridcolor\": \"white\", \"linecolor\": \"white\", \"ticks\": \"\"}}, \"title\": {\"x\": 0.05}, \"xaxis\": {\"automargin\": true, \"gridcolor\": \"white\", \"linecolor\": \"white\", \"ticks\": \"\", \"title\": {\"standoff\": 15}, \"zerolinecolor\": \"white\", \"zerolinewidth\": 2}, \"yaxis\": {\"automargin\": true, \"gridcolor\": \"white\", \"linecolor\": \"white\", \"ticks\": \"\", \"title\": {\"standoff\": 15}, \"zerolinecolor\": \"white\", \"zerolinewidth\": 2}}}, \"title\": {\"text\": \"Vessel planning\"}, \"xaxis\": {\"range\": [\"1970-01-01T00:00:00\", \"1970-01-01T02:09:39.122956\"], \"title\": {\"font\": {\"color\": \"#7f7f7f\", \"family\": \"Courier New, monospace\", \"size\": 18}, \"text\": \"Time\"}}, \"yaxis\": {\"title\": {\"font\": {\"color\": \"#7f7f7f\", \"family\": \"Courier New, monospace\", \"size\": 18}, \"text\": \"Vessels\"}}},                        {\"responsive\": true}                    ).then(function(){\n",
       "                            \n",
       "var gd = document.getElementById('029909a7-c358-46bc-8a72-a69a8196ab5b');\n",
       "var x = new MutationObserver(function (mutations, observer) {{\n",
       "        var display = window.getComputedStyle(gd).display;\n",
       "        if (!display || display === 'none') {{\n",
       "            console.log([gd, 'removed!']);\n",
       "            Plotly.purge(gd);\n",
       "            observer.disconnect();\n",
       "        }}\n",
       "}});\n",
       "\n",
       "// Listen for the removal of the full notebook cells\n",
       "var notebookContainer = gd.closest('#notebook-container');\n",
       "if (notebookContainer) {{\n",
       "    x.observe(notebookContainer, {childList: true});\n",
       "}}\n",
       "\n",
       "// Listen for the clearing of the current output cell\n",
       "var outputEl = gd.closest('.output');\n",
       "if (outputEl) {{\n",
       "    x.observe(outputEl, {childList: true});\n",
       "}}\n",
       "\n",
       "                        })                };                });            </script>        </div>"
      ]
     },
     "metadata": {},
     "output_type": "display_data"
    }
   ],
   "source": [
    "plot.vessel_planning([*single_run, *loading, *unloading])"
   ]
  },
  {
   "cell_type": "code",
   "execution_count": null,
   "metadata": {},
   "outputs": [],
   "source": []
  }
 ],
 "metadata": {
  "kernelspec": {
   "display_name": "Python 3",
   "language": "python",
   "name": "python3"
  },
  "language_info": {
   "codemirror_mode": {
    "name": "ipython",
    "version": 3
   },
   "file_extension": ".py",
   "mimetype": "text/x-python",
   "name": "python",
   "nbconvert_exporter": "python",
   "pygments_lexer": "ipython3",
   "version": "3.7.3"
  }
 },
 "nbformat": 4,
 "nbformat_minor": 2
}
