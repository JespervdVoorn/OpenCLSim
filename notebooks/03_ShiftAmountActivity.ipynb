{
 "cells": [
  {
   "cell_type": "markdown",
   "metadata": {},
   "source": [
    "# Demo ShiftAmountActivity\n",
    "This activity uses a processor to transfer a specified number of objects from an origin resource, which must have a container, to a destination resource, which also must have a container.\n",
    "\n",
    "Shift Amount checks the possible amount of objects which can be transferred, based on the number of objects available in the origin, the number of objects which can be stored in the destination and the number of objects requested to be transferred. If the number of actually to be transferred objects is zero than an exception is raised. These cases have to be prevented by using appropriate events."
   ]
  },
  {
   "cell_type": "code",
   "execution_count": 1,
   "metadata": {},
   "outputs": [],
   "source": [
    "import datetime, time\n",
    "import simpy\n",
    "\n",
    "import shapely.geometry\n",
    "\n",
    "import pandas as pd\n",
    "import openclsim.core as core\n",
    "import openclsim.model as model\n",
    "import openclsim.plot as plot"
   ]
  },
  {
   "cell_type": "code",
   "execution_count": 2,
   "metadata": {},
   "outputs": [],
   "source": [
    "simulation_start = 0\n",
    "my_env = simpy.Environment(initial_time=simulation_start)\n",
    "registry = {}"
   ]
  },
  {
   "cell_type": "markdown",
   "metadata": {},
   "source": [
    "## Definition of Sites"
   ]
  },
  {
   "cell_type": "code",
   "execution_count": 3,
   "metadata": {},
   "outputs": [],
   "source": [
    "Site = type(\n",
    "    \"Site\",\n",
    "    (\n",
    "        core.Identifiable,\n",
    "        core.Log,\n",
    "        core.Locatable,\n",
    "        core.HasContainer,\n",
    "        core.HasResource,\n",
    "    ),\n",
    "    {},\n",
    ")\n",
    "\n",
    "location_from_site = shapely.geometry.Point(4.18055556, 52.18664444)\n",
    "\n",
    "data_from_site = {\n",
    "    \"env\": my_env,\n",
    "    \"name\": \"Winlocatie\",\n",
    "    \"geometry\": location_from_site,\n",
    "    \"capacity\": 10,\n",
    "    \"level\": 2,\n",
    "}\n",
    "\n",
    "\n",
    "\n",
    "# The two objects used for the simulation\n",
    "from_site = Site(**data_from_site)\n"
   ]
  },
  {
   "cell_type": "markdown",
   "metadata": {},
   "source": [
    "## Creation of Vessel"
   ]
  },
  {
   "cell_type": "code",
   "execution_count": 4,
   "metadata": {},
   "outputs": [],
   "source": [
    "TransportProcessingResource = type(\n",
    "    \"TransportProcessingResource\",\n",
    "    (\n",
    "        core.Identifiable,\n",
    "        core.Log,\n",
    "        core.ContainerDependentMovable,\n",
    "        core.Processor,\n",
    "        core.HasResource,\n",
    "        core.LoadingFunction,\n",
    "        core.UnloadingFunction,\n",
    "    ),\n",
    "    {},\n",
    ")\n",
    "\n",
    "def compute_v_provider(v_empty, v_full):\n",
    "    return lambda x: 10\n",
    "\n",
    "data_hopper = {\n",
    "    \"env\": my_env,\n",
    "    \"name\": \"Hopper 01\",\n",
    "    \"geometry\": location_from_site,\n",
    "    \"loading_rate\": 1,\n",
    "    \"unloading_rate\": 1, \n",
    "    \"capacity\": 5,\n",
    "    \"compute_v\": compute_v_provider(5, 4.5),\n",
    "}\n",
    "\n",
    "hopper = TransportProcessingResource(**data_hopper)"
   ]
  },
  {
   "cell_type": "markdown",
   "metadata": {},
   "source": [
    "## Definition of Shift Amount activity"
   ]
  },
  {
   "cell_type": "code",
   "execution_count": 5,
   "metadata": {},
   "outputs": [],
   "source": [
    "shift_amount_activity_data = {\n",
    "    \"env\": my_env,  # The simpy environment defined in the first cel\n",
    "    \"name\": \"Transfer MP\",  # We are moving soil\n",
    "    \"ID\": \"6dbbbdf7-4589-11e9-bf3b-b469212bff5b\",  # For logging purposes\n",
    "    \"registry\": registry,\n",
    "    \"processor\": hopper,\n",
    "    \"origin\": from_site,\n",
    "    \"destination\": hopper,\n",
    "    \"amount\": 100,\n",
    "    \"duration\": 10,\n",
    "}\n",
    "activity = model.ShiftAmountActivity(**shift_amount_activity_data)"
   ]
  },
  {
   "cell_type": "markdown",
   "metadata": {},
   "source": [
    "## Run simulation"
   ]
  },
  {
   "cell_type": "code",
   "execution_count": 6,
   "metadata": {},
   "outputs": [],
   "source": [
    "my_env.run()"
   ]
  },
  {
   "cell_type": "code",
   "execution_count": 7,
   "metadata": {},
   "outputs": [
    {
     "data": {
      "text/html": [
       "<style  type=\"text/css\" >\n",
       "</style><table id=\"T_ea211b90_19c4_11eb_8246_0242ac140002\" ><caption>Log of the Transfer MP</caption><thead>    <tr>        <th class=\"blank level0\" ></th>        <th class=\"col_heading level0 col0\" >Timestamp</th>        <th class=\"col_heading level0 col1\" >Activity</th>        <th class=\"col_heading level0 col2\" >ActivityState</th>    </tr></thead><tbody>\n",
       "                <tr>\n",
       "                        <th id=\"T_ea211b90_19c4_11eb_8246_0242ac140002level0_row0\" class=\"row_heading level0 row0\" >0</th>\n",
       "                        <td id=\"T_ea211b90_19c4_11eb_8246_0242ac140002row0_col0\" class=\"data row0 col0\" >1970-01-01 00:00:00</td>\n",
       "                        <td id=\"T_ea211b90_19c4_11eb_8246_0242ac140002row0_col1\" class=\"data row0 col1\" >Transfer MP</td>\n",
       "                        <td id=\"T_ea211b90_19c4_11eb_8246_0242ac140002row0_col2\" class=\"data row0 col2\" >START</td>\n",
       "            </tr>\n",
       "            <tr>\n",
       "                        <th id=\"T_ea211b90_19c4_11eb_8246_0242ac140002level0_row1\" class=\"row_heading level0 row1\" >1</th>\n",
       "                        <td id=\"T_ea211b90_19c4_11eb_8246_0242ac140002row1_col0\" class=\"data row1 col0\" >1970-01-01 00:00:10</td>\n",
       "                        <td id=\"T_ea211b90_19c4_11eb_8246_0242ac140002row1_col1\" class=\"data row1 col1\" >Transfer MP</td>\n",
       "                        <td id=\"T_ea211b90_19c4_11eb_8246_0242ac140002row1_col2\" class=\"data row1 col2\" >STOP</td>\n",
       "            </tr>\n",
       "    </tbody></table>"
      ],
      "text/plain": [
       "<pandas.io.formats.style.Styler at 0x7f0848194d68>"
      ]
     },
     "metadata": {},
     "output_type": "display_data"
    },
    {
     "data": {
      "text/html": [
       "<style  type=\"text/css\" >\n",
       "</style><table id=\"T_ea22664e_19c4_11eb_8246_0242ac140002\" ><caption>Log of the Winlocatie</caption><thead>    <tr>        <th class=\"blank level0\" ></th>        <th class=\"col_heading level0 col0\" >Timestamp</th>        <th class=\"col_heading level0 col1\" >Activity</th>        <th class=\"col_heading level0 col2\" >ActivityState</th>        <th class=\"col_heading level0 col3\" >container level</th>        <th class=\"col_heading level0 col4\" >geometry</th>    </tr></thead><tbody>\n",
       "                <tr>\n",
       "                        <th id=\"T_ea22664e_19c4_11eb_8246_0242ac140002level0_row0\" class=\"row_heading level0 row0\" >0</th>\n",
       "                        <td id=\"T_ea22664e_19c4_11eb_8246_0242ac140002row0_col0\" class=\"data row0 col0\" >1970-01-01 00:00:00</td>\n",
       "                        <td id=\"T_ea22664e_19c4_11eb_8246_0242ac140002row0_col1\" class=\"data row0 col1\" >Transfer MP</td>\n",
       "                        <td id=\"T_ea22664e_19c4_11eb_8246_0242ac140002row0_col2\" class=\"data row0 col2\" >START</td>\n",
       "                        <td id=\"T_ea22664e_19c4_11eb_8246_0242ac140002row0_col3\" class=\"data row0 col3\" >2</td>\n",
       "                        <td id=\"T_ea22664e_19c4_11eb_8246_0242ac140002row0_col4\" class=\"data row0 col4\" >POINT (4.18055556 52.18664444)</td>\n",
       "            </tr>\n",
       "            <tr>\n",
       "                        <th id=\"T_ea22664e_19c4_11eb_8246_0242ac140002level0_row1\" class=\"row_heading level0 row1\" >1</th>\n",
       "                        <td id=\"T_ea22664e_19c4_11eb_8246_0242ac140002row1_col0\" class=\"data row1 col0\" >1970-01-01 00:00:10</td>\n",
       "                        <td id=\"T_ea22664e_19c4_11eb_8246_0242ac140002row1_col1\" class=\"data row1 col1\" >Transfer MP</td>\n",
       "                        <td id=\"T_ea22664e_19c4_11eb_8246_0242ac140002row1_col2\" class=\"data row1 col2\" >STOP</td>\n",
       "                        <td id=\"T_ea22664e_19c4_11eb_8246_0242ac140002row1_col3\" class=\"data row1 col3\" >0</td>\n",
       "                        <td id=\"T_ea22664e_19c4_11eb_8246_0242ac140002row1_col4\" class=\"data row1 col4\" >POINT (4.18055556 52.18664444)</td>\n",
       "            </tr>\n",
       "    </tbody></table>"
      ],
      "text/plain": [
       "<pandas.io.formats.style.Styler at 0x7f0831c25588>"
      ]
     },
     "metadata": {},
     "output_type": "display_data"
    },
    {
     "data": {
      "text/html": [
       "<style  type=\"text/css\" >\n",
       "</style><table id=\"T_ea23be40_19c4_11eb_8246_0242ac140002\" ><caption>Log of the Hopper 01</caption><thead>    <tr>        <th class=\"blank level0\" ></th>        <th class=\"col_heading level0 col0\" >Timestamp</th>        <th class=\"col_heading level0 col1\" >Activity</th>        <th class=\"col_heading level0 col2\" >ActivityState</th>        <th class=\"col_heading level0 col3\" >geometry</th>        <th class=\"col_heading level0 col4\" >container level</th>    </tr></thead><tbody>\n",
       "                <tr>\n",
       "                        <th id=\"T_ea23be40_19c4_11eb_8246_0242ac140002level0_row0\" class=\"row_heading level0 row0\" >0</th>\n",
       "                        <td id=\"T_ea23be40_19c4_11eb_8246_0242ac140002row0_col0\" class=\"data row0 col0\" >1970-01-01 00:00:00</td>\n",
       "                        <td id=\"T_ea23be40_19c4_11eb_8246_0242ac140002row0_col1\" class=\"data row0 col1\" >Transfer MP</td>\n",
       "                        <td id=\"T_ea23be40_19c4_11eb_8246_0242ac140002row0_col2\" class=\"data row0 col2\" >START</td>\n",
       "                        <td id=\"T_ea23be40_19c4_11eb_8246_0242ac140002row0_col3\" class=\"data row0 col3\" >POINT (4.18055556 52.18664444)</td>\n",
       "                        <td id=\"T_ea23be40_19c4_11eb_8246_0242ac140002row0_col4\" class=\"data row0 col4\" >0.000000</td>\n",
       "            </tr>\n",
       "            <tr>\n",
       "                        <th id=\"T_ea23be40_19c4_11eb_8246_0242ac140002level0_row1\" class=\"row_heading level0 row1\" >1</th>\n",
       "                        <td id=\"T_ea23be40_19c4_11eb_8246_0242ac140002row1_col0\" class=\"data row1 col0\" >1970-01-01 00:00:00</td>\n",
       "                        <td id=\"T_ea23be40_19c4_11eb_8246_0242ac140002row1_col1\" class=\"data row1 col1\" >Transfer MP</td>\n",
       "                        <td id=\"T_ea23be40_19c4_11eb_8246_0242ac140002row1_col2\" class=\"data row1 col2\" >START</td>\n",
       "                        <td id=\"T_ea23be40_19c4_11eb_8246_0242ac140002row1_col3\" class=\"data row1 col3\" >POINT (4.18055556 52.18664444)</td>\n",
       "                        <td id=\"T_ea23be40_19c4_11eb_8246_0242ac140002row1_col4\" class=\"data row1 col4\" >0.000000</td>\n",
       "            </tr>\n",
       "            <tr>\n",
       "                        <th id=\"T_ea23be40_19c4_11eb_8246_0242ac140002level0_row2\" class=\"row_heading level0 row2\" >2</th>\n",
       "                        <td id=\"T_ea23be40_19c4_11eb_8246_0242ac140002row2_col0\" class=\"data row2 col0\" >1970-01-01 00:00:10</td>\n",
       "                        <td id=\"T_ea23be40_19c4_11eb_8246_0242ac140002row2_col1\" class=\"data row2 col1\" >Transfer MP</td>\n",
       "                        <td id=\"T_ea23be40_19c4_11eb_8246_0242ac140002row2_col2\" class=\"data row2 col2\" >STOP</td>\n",
       "                        <td id=\"T_ea23be40_19c4_11eb_8246_0242ac140002row2_col3\" class=\"data row2 col3\" >POINT (4.18055556 52.18664444)</td>\n",
       "                        <td id=\"T_ea23be40_19c4_11eb_8246_0242ac140002row2_col4\" class=\"data row2 col4\" >2.000000</td>\n",
       "            </tr>\n",
       "            <tr>\n",
       "                        <th id=\"T_ea23be40_19c4_11eb_8246_0242ac140002level0_row3\" class=\"row_heading level0 row3\" >3</th>\n",
       "                        <td id=\"T_ea23be40_19c4_11eb_8246_0242ac140002row3_col0\" class=\"data row3 col0\" >1970-01-01 00:00:10</td>\n",
       "                        <td id=\"T_ea23be40_19c4_11eb_8246_0242ac140002row3_col1\" class=\"data row3 col1\" >Transfer MP</td>\n",
       "                        <td id=\"T_ea23be40_19c4_11eb_8246_0242ac140002row3_col2\" class=\"data row3 col2\" >STOP</td>\n",
       "                        <td id=\"T_ea23be40_19c4_11eb_8246_0242ac140002row3_col3\" class=\"data row3 col3\" >POINT (4.18055556 52.18664444)</td>\n",
       "                        <td id=\"T_ea23be40_19c4_11eb_8246_0242ac140002row3_col4\" class=\"data row3 col4\" >2.000000</td>\n",
       "            </tr>\n",
       "    </tbody></table>"
      ],
      "text/plain": [
       "<pandas.io.formats.style.Styler at 0x7f08347ec668>"
      ]
     },
     "metadata": {},
     "output_type": "display_data"
    }
   ],
   "source": [
    "display(plot.get_log_dataframe(activity, [activity]))\n",
    "display(plot.get_log_dataframe(from_site, [activity]))\n",
    "display(plot.get_log_dataframe(hopper, [activity]))"
   ]
  },
  {
   "cell_type": "markdown",
   "metadata": {},
   "source": [
    "The resulting levels ob objects in the hopper and the from_site are requested below. "
   ]
  }
 ],
 "metadata": {
  "kernelspec": {
   "display_name": "Python 3",
   "language": "python",
   "name": "python3"
  },
  "language_info": {
   "codemirror_mode": {
    "name": "ipython",
    "version": 3
   },
   "file_extension": ".py",
   "mimetype": "text/x-python",
   "name": "python",
   "nbconvert_exporter": "python",
   "pygments_lexer": "ipython3",
   "version": "3.7.3"
  }
 },
 "nbformat": 4,
 "nbformat_minor": 2
}
