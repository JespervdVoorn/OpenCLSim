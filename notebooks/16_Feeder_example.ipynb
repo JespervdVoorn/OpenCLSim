{
 "cells": [
  {
   "cell_type": "markdown",
   "metadata": {},
   "source": [
    "# Demo Feeder Concept\n",
    "This notebook shows a basics of a feeder concept. This scenario has two vessels:\n",
    "* a *vessel* for the transport of material\n",
    "* an *installer*, receiving the material and installing it.\n",
    "Thus, we also need two processes - one for each vessel. In this process the hand over of the material is done from the *vessel* to the *installer*."
   ]
  },
  {
   "cell_type": "code",
   "execution_count": 1,
   "metadata": {},
   "outputs": [],
   "source": [
    "import datetime\n",
    "import time\n",
    "import uuid\n",
    "\n",
    "import numpy as np\n",
    "# package(s) for data handling\n",
    "import pandas as pd\n",
    "import shapely.geometry\n",
    "import simpy\n",
    "\n",
    "import openclsim.core as core\n",
    "import openclsim.model as model\n",
    "import openclsim.plot as plot\n",
    "\n",
    "# setup environment\n",
    "simulation_start = 0\n",
    "my_env = simpy.Environment(initial_time=simulation_start)\n",
    "registry = {}\n",
    "keep_resources = {}"
   ]
  },
  {
   "cell_type": "code",
   "execution_count": 2,
   "metadata": {},
   "outputs": [],
   "source": [
    "Site = type(\n",
    "    \"Site\",\n",
    "    (\n",
    "        core.Identifiable,\n",
    "        core.Log,\n",
    "        core.Locatable,\n",
    "        core.HasMultiContainer,\n",
    "        core.HasResource,\n",
    "    ),\n",
    "    {},\n",
    ")\n",
    "\n",
    "TransportProcessingResource = type(\n",
    "    \"TransportProcessingResource\",\n",
    "    (\n",
    "        core.Identifiable,\n",
    "        core.Log,\n",
    "        core.MultiContainerDependentMovable,\n",
    "        core.Processor,\n",
    "        core.HasResource,\n",
    "        core.LoadingFunction,\n",
    "        core.UnloadingFunction,\n",
    "    ),\n",
    "    {\"key\": \"MultiStoreHopper\"},\n",
    ")"
   ]
  },
  {
   "cell_type": "markdown",
   "metadata": {},
   "source": [
    "## Definition of Sites"
   ]
  },
  {
   "cell_type": "code",
   "execution_count": 3,
   "metadata": {},
   "outputs": [],
   "source": [
    "location_from_site = shapely.geometry.Point(4.18055556, 52.18664444)\n",
    "location_to_site = shapely.geometry.Point(4.25222222, 52.11428333)\n",
    "\n",
    "from_site = Site(\n",
    "    env=my_env,\n",
    "    name=\"Winlocatie\",\n",
    "    ID=str(uuid.uuid4()),\n",
    "    geometry=location_from_site,\n",
    "    store_capacity=4,\n",
    "    initials=[\n",
    "        {\"id\": \"MP\", \"level\": 5, \"capacity\": 10},\n",
    "        {\"id\": \"TP\", \"level\": 5, \"capacity\": 10},\n",
    "    ],\n",
    ")\n",
    "to_site = Site(\n",
    "    env=my_env,\n",
    "    name=\"Dumplocatie\",\n",
    "    ID=str(uuid.uuid4()),\n",
    "    geometry=location_to_site,\n",
    "    store_capacity=4,\n",
    "    initials=[\n",
    "        {\"id\": \"MP\", \"level\": 0, \"capacity\": 5},\n",
    "        {\"id\": \"TP\", \"level\": 0, \"capacity\": 5},\n",
    "    ],\n",
    ")"
   ]
  },
  {
   "cell_type": "markdown",
   "metadata": {},
   "source": [
    "## Definition of Vessels"
   ]
  },
  {
   "cell_type": "code",
   "execution_count": 4,
   "metadata": {},
   "outputs": [],
   "source": [
    "vessel = TransportProcessingResource(\n",
    "    env=my_env,\n",
    "    name=\"Vessel 01\",\n",
    "    ID=str(uuid.uuid4()),\n",
    "    geometry=location_from_site,\n",
    "    loading_rate=1,\n",
    "    unloading_rate=1,\n",
    "    store_capacity=4,\n",
    "    compute_v=lambda x: 10,\n",
    "    initials=[\n",
    "        {\"id\": \"MP\", \"level\": 0, \"capacity\": 2},\n",
    "        {\"id\": \"TP\", \"level\": 0, \"capacity\": 2},\n",
    "    ],\n",
    ")\n",
    "\n",
    "installer = TransportProcessingResource(\n",
    "    env=my_env,\n",
    "    name=\"Installer\",\n",
    "    ID=str(uuid.uuid4()),\n",
    "    geometry=location_from_site,\n",
    "    loading_rate=1,\n",
    "    unloading_rate=1,\n",
    "    store_capacity=4,\n",
    "    compute_v=lambda x: 10,\n",
    "    initials=[\n",
    "        {\"id\": \"MP\", \"level\": 0, \"capacity\": 1},\n",
    "        {\"id\": \"TP\", \"level\": 0, \"capacity\": 1},\n",
    "    ],\n",
    ")"
   ]
  },
  {
   "cell_type": "markdown",
   "metadata": {},
   "source": [
    "## Definition of Vessel process"
   ]
  },
  {
   "cell_type": "markdown",
   "metadata": {},
   "source": [
    "## Definition of Installer process"
   ]
  },
  {
   "cell_type": "code",
   "execution_count": 5,
   "metadata": {
    "scrolled": false
   },
   "outputs": [],
   "source": [
    "vessel_proc = model.WhileActivity(\n",
    "    env=my_env,\n",
    "    name=\"single run while\",\n",
    "    ID=str(uuid.uuid4()),\n",
    "    registry=registry,\n",
    "    sub_processes=[\n",
    "        model.SequentialActivity(\n",
    "            env=my_env,\n",
    "            name=\"Single run process\",\n",
    "            ID=str(uuid.uuid4()),\n",
    "            registry=registry,\n",
    "            sub_processes=[\n",
    "                model.MoveActivity(\n",
    "                    env=my_env,\n",
    "                    name=\"sailing empty\",\n",
    "                    ID=str(uuid.uuid4()),\n",
    "                    registry=registry,\n",
    "                    mover=vessel,\n",
    "                    destination=from_site,\n",
    "                    postpone_start=True,\n",
    "                ),\n",
    "                model.ShiftAmountActivity(\n",
    "                    env=my_env,\n",
    "                    name=\"Load MP\",\n",
    "                    ID=str(uuid.uuid4()),\n",
    "                    registry=registry,\n",
    "                    processor=vessel,\n",
    "                    origin=from_site,\n",
    "                    destination=vessel,\n",
    "                    amount=1,\n",
    "                    duration=120,\n",
    "                    id_=\"MP\",\n",
    "                    postpone_start=True,\n",
    "                ),\n",
    "                model.MoveActivity(\n",
    "                    env=my_env,\n",
    "                    name=\"sailing filled\",\n",
    "                    ID=str(uuid.uuid4()),\n",
    "                    registry=registry,\n",
    "                    mover=vessel,\n",
    "                    destination=to_site,\n",
    "                    postpone_start=True,\n",
    "                ),\n",
    "                model.ShiftAmountActivity(\n",
    "                    env=my_env,\n",
    "                    name=\"Transfer MP\",\n",
    "                    ID=str(uuid.uuid4()),\n",
    "                    registry=registry,\n",
    "                    processor=installer,\n",
    "                    origin=vessel,\n",
    "                    destination=installer,\n",
    "                    amount=1,\n",
    "                    duration=120,\n",
    "                    id_=\"MP\",\n",
    "                    postpone_start=True,\n",
    "                    start_event=[\n",
    "                        {\n",
    "                            \"type\": \"activity\",\n",
    "                            \"name\": \"Sail transit\",\n",
    "                            \"state\": \"done\",\n",
    "                        }\n",
    "                    ],\n",
    "                ),\n",
    "            ],\n",
    "            postpone_start=True,\n",
    "        )\n",
    "    ],\n",
    "    postpone_start=False,\n",
    "    condition_event=[\n",
    "        {\"type\": \"container\", \"concept\": from_site, \"state\": \"empty\", \"id_\": \"MP\"}\n",
    "    ],\n",
    ")\n",
    "\n",
    "\n",
    "installer_run2 = [\n",
    "    model.BasicActivity(\n",
    "        env=my_env,\n",
    "        name=\"Sail transit\",\n",
    "        registry=registry,\n",
    "        ID=str(uuid.uuid4()),\n",
    "        duration=30,\n",
    "        additional_logs=[installer],\n",
    "        postpone_start=True,\n",
    "    ),\n",
    "    model.BasicActivity(\n",
    "        env=my_env,\n",
    "        name=\"Prepare installation\",\n",
    "        registry=registry,\n",
    "        ID=str(uuid.uuid4()),\n",
    "        duration=60,\n",
    "        additional_logs=[installer],\n",
    "        postpone_start=True,\n",
    "        start_event=[\n",
    "            {\"type\": \"activity\", \"name\": \"Single run process\", \"state\": \"done\"}\n",
    "        ],\n",
    "    ),\n",
    "    model.ShiftAmountActivity(\n",
    "        env=my_env,\n",
    "        name=\"Install MP\",\n",
    "        ID=str(uuid.uuid4()),\n",
    "        registry=registry,\n",
    "        processor=installer,\n",
    "        origin=installer,\n",
    "        destination=to_site,\n",
    "        amount=1,\n",
    "        duration=120,\n",
    "        id_=\"MP\",\n",
    "        postpone_start=True,\n",
    "    ),\n",
    "]\n",
    "activity = model.SequentialActivity(\n",
    "    env=my_env,\n",
    "    name=\"Installer run process 2\",\n",
    "    ID=str(uuid.uuid4()),\n",
    "    registry=registry,\n",
    "    sub_processes=installer_run2,\n",
    "    postpone_start=True,\n",
    ")\n",
    "\n",
    "\n",
    "installer_run = [\n",
    "    model.MoveActivity(\n",
    "        env=my_env,\n",
    "        name=\"sailing empty\",\n",
    "        ID=str(uuid.uuid4()),\n",
    "        registry=registry,\n",
    "        mover=installer,\n",
    "        destination=to_site,\n",
    "        postpone_start=True,\n",
    "    ),\n",
    "    model.WhileActivity(\n",
    "        env=my_env,\n",
    "        name=\"installer run while\",\n",
    "        ID=str(uuid.uuid4()),\n",
    "        registry=registry,\n",
    "        sub_processes=[activity],\n",
    "        postpone_start=True,\n",
    "        condition_event=[\n",
    "            {\"type\": \"container\", \"concept\": to_site, \"state\": \"full\", \"id_\": \"MP\"}\n",
    "        ],\n",
    "    ),\n",
    "]\n",
    "\n",
    "installer_proc = model.SequentialActivity(\n",
    "    env=my_env,\n",
    "    name=\"Installer run process\",\n",
    "    ID=str(uuid.uuid4()),\n",
    "    registry=registry,\n",
    "    sub_processes=installer_run,\n",
    "    postpone_start=False,\n",
    ")"
   ]
  },
  {
   "cell_type": "code",
   "execution_count": 6,
   "metadata": {
    "tags": [
     "outputPrepend"
    ]
   },
   "outputs": [],
   "source": [
    "model.register_processes([installer_proc, vessel_proc])\n",
    "my_env.run()"
   ]
  },
  {
   "cell_type": "code",
   "execution_count": 10,
   "metadata": {},
   "outputs": [
    {
     "data": {
      "text/html": [
       "        <script type=\"text/javascript\">\n",
       "        window.PlotlyConfig = {MathJaxConfig: 'local'};\n",
       "        if (window.MathJax) {MathJax.Hub.Config({SVG: {font: \"STIX-Web\"}});}\n",
       "        if (typeof require !== 'undefined') {\n",
       "        require.undef(\"plotly\");\n",
       "        requirejs.config({\n",
       "            paths: {\n",
       "                'plotly': ['https://cdn.plot.ly/plotly-latest.min']\n",
       "            }\n",
       "        });\n",
       "        require(['plotly'], function(Plotly) {\n",
       "            window._Plotly = Plotly;\n",
       "        });\n",
       "        }\n",
       "        </script>\n",
       "        "
      ]
     },
     "metadata": {},
     "output_type": "display_data"
    },
    {
     "data": {
      "application/vnd.plotly.v1+json": {
       "config": {
        "linkText": "Export to plot.ly",
        "plotlyServerURL": "https://plot.ly",
        "showLink": false
       },
       "data": [
        {
         "connectgaps": false,
         "hoverinfo": "y+name",
         "line": {
          "color": "rgb(181,97,142)",
          "width": 10
         },
         "mode": "lines",
         "name": "Installer run process",
         "type": "scatter",
         "x": [
          "1970-01-01T00:00:00",
          "1970-01-01T00:00:00",
          "1970-01-01T00:15:42.824591",
          "1970-01-01T00:15:42.824591",
          "1970-01-01T00:15:42.824591",
          "1970-01-01T00:15:42.824591",
          "1970-01-01T00:15:42.824591",
          "1970-01-01T03:00:08.245913",
          "1970-01-01T03:00:08.245913",
          "1970-01-01T03:00:08.245913",
          "1970-01-01T00:15:42.824591",
          "1970-01-01T00:15:42.824591",
          "1970-01-01T03:00:08.245913",
          "1970-01-01T03:00:08.245913",
          "1970-01-01T03:00:08.245913"
         ],
         "y": [
          "Installer run process",
          "Installer run process",
          "Installer run process",
          "Installer run process",
          null,
          "Installer run process",
          "Installer run process",
          "Installer run process",
          "Installer run process",
          null,
          "Installer run process",
          "Installer run process",
          "Installer run process",
          "Installer run process",
          null
         ]
        },
        {
         "connectgaps": false,
         "hoverinfo": "y+name",
         "line": {
          "color": "rgb(200,116,161)",
          "width": 10
         },
         "mode": "lines",
         "name": "sailing empty",
         "type": "scatter",
         "x": [
          "1970-01-01T00:00:00",
          "1970-01-01T00:00:00",
          "1970-01-01T00:15:42.824591",
          "1970-01-01T00:15:42.824591",
          "1970-01-01T00:15:42.824591",
          "1970-01-01T00:00:00",
          "1970-01-01T00:00:00",
          "1970-01-01T00:00:00",
          "1970-01-01T00:00:00",
          "1970-01-01T00:00:00",
          "1970-01-01T00:35:25.649183",
          "1970-01-01T00:35:25.649183",
          "1970-01-01T00:51:08.473774",
          "1970-01-01T00:51:08.473774",
          "1970-01-01T00:51:08.473774",
          "1970-01-01T01:10:51.298365",
          "1970-01-01T01:10:51.298365",
          "1970-01-01T01:26:34.122956",
          "1970-01-01T01:26:34.122956",
          "1970-01-01T01:26:34.122956",
          "1970-01-01T01:46:16.947548",
          "1970-01-01T01:46:16.947548",
          "1970-01-01T02:01:59.772139",
          "1970-01-01T02:01:59.772139",
          "1970-01-01T02:01:59.772139",
          "1970-01-01T02:21:42.596730",
          "1970-01-01T02:21:42.596730",
          "1970-01-01T02:37:25.421321",
          "1970-01-01T02:37:25.421321",
          "1970-01-01T02:37:25.421321"
         ],
         "y": [
          "sailing empty",
          "sailing empty",
          "sailing empty",
          "sailing empty",
          null,
          "sailing empty",
          "sailing empty",
          "sailing empty",
          "sailing empty",
          null,
          "sailing empty",
          "sailing empty",
          "sailing empty",
          "sailing empty",
          null,
          "sailing empty",
          "sailing empty",
          "sailing empty",
          "sailing empty",
          null,
          "sailing empty",
          "sailing empty",
          "sailing empty",
          "sailing empty",
          null,
          "sailing empty",
          "sailing empty",
          "sailing empty",
          "sailing empty",
          null
         ]
        },
        {
         "connectgaps": false,
         "hoverinfo": "y+name",
         "line": {
          "color": "rgb(219,135,180)",
          "width": 10
         },
         "mode": "lines",
         "name": "installer run while",
         "type": "scatter",
         "x": [
          "1970-01-01T00:15:42.824591",
          "1970-01-01T00:15:42.824591",
          "1970-01-01T00:38:25.649183",
          "1970-01-01T00:38:25.649183",
          "1970-01-01T00:38:25.649183",
          "1970-01-01T00:38:25.649183",
          "1970-01-01T00:38:25.649183",
          "1970-01-01T01:13:51.298365",
          "1970-01-01T01:13:51.298365",
          "1970-01-01T01:13:51.298365",
          "1970-01-01T01:13:51.298365",
          "1970-01-01T01:13:51.298365",
          "1970-01-01T01:49:16.947548",
          "1970-01-01T01:49:16.947548",
          "1970-01-01T01:49:16.947548",
          "1970-01-01T01:49:16.947548",
          "1970-01-01T01:49:16.947548",
          "1970-01-01T02:24:42.596730",
          "1970-01-01T02:24:42.596730",
          "1970-01-01T02:24:42.596730",
          "1970-01-01T02:24:42.596730",
          "1970-01-01T02:24:42.596730",
          "1970-01-01T03:00:08.245913",
          "1970-01-01T03:00:08.245913",
          "1970-01-01T03:00:08.245913",
          "1970-01-01T02:24:42.596730",
          "1970-01-01T02:24:42.596730",
          "1970-01-01T03:00:08.245913",
          "1970-01-01T03:00:08.245913",
          "1970-01-01T03:00:08.245913"
         ],
         "y": [
          "installer run while",
          "installer run while",
          "installer run while",
          "installer run while",
          null,
          "installer run while",
          "installer run while",
          "installer run while",
          "installer run while",
          null,
          "installer run while",
          "installer run while",
          "installer run while",
          "installer run while",
          null,
          "installer run while",
          "installer run while",
          "installer run while",
          "installer run while",
          null,
          "installer run while",
          "installer run while",
          "installer run while",
          "installer run while",
          null,
          "installer run while",
          "installer run while",
          "installer run while",
          "installer run while",
          null
         ]
        },
        {
         "connectgaps": false,
         "hoverinfo": "y+name",
         "line": {
          "color": "rgb(238,154,199)",
          "width": 10
         },
         "mode": "lines",
         "name": "Installer run process 2",
         "type": "scatter",
         "x": [
          "1970-01-01T00:15:42.824591",
          "1970-01-01T00:15:42.824591",
          "1970-01-01T00:16:12.824591",
          "1970-01-01T00:16:12.824591",
          "1970-01-01T00:16:12.824591",
          "1970-01-01T00:35:25.649183",
          "1970-01-01T00:35:25.649183",
          "1970-01-01T00:36:25.649183",
          "1970-01-01T00:36:25.649183",
          "1970-01-01T00:36:25.649183",
          "1970-01-01T00:36:25.649183",
          "1970-01-01T00:36:25.649183",
          "1970-01-01T00:38:25.649183",
          "1970-01-01T00:38:25.649183",
          "1970-01-01T00:38:25.649183",
          "1970-01-01T00:36:25.649183",
          "1970-01-01T00:36:25.649183",
          "1970-01-01T00:38:25.649183",
          "1970-01-01T00:38:25.649183",
          "1970-01-01T00:38:25.649183",
          "1970-01-01T00:38:25.649183",
          "1970-01-01T00:38:25.649183",
          "1970-01-01T00:38:55.649183",
          "1970-01-01T00:38:55.649183",
          "1970-01-01T00:38:55.649183",
          "1970-01-01T01:10:51.298365",
          "1970-01-01T01:10:51.298365",
          "1970-01-01T01:11:51.298365",
          "1970-01-01T01:11:51.298365",
          "1970-01-01T01:11:51.298365",
          "1970-01-01T01:11:51.298365",
          "1970-01-01T01:11:51.298365",
          "1970-01-01T01:13:51.298365",
          "1970-01-01T01:13:51.298365",
          "1970-01-01T01:13:51.298365",
          "1970-01-01T01:11:51.298365",
          "1970-01-01T01:11:51.298365",
          "1970-01-01T01:13:51.298365",
          "1970-01-01T01:13:51.298365",
          "1970-01-01T01:13:51.298365",
          "1970-01-01T01:13:51.298365",
          "1970-01-01T01:13:51.298365",
          "1970-01-01T01:14:21.298365",
          "1970-01-01T01:14:21.298365",
          "1970-01-01T01:14:21.298365",
          "1970-01-01T01:46:16.947548",
          "1970-01-01T01:46:16.947548",
          "1970-01-01T01:47:16.947548",
          "1970-01-01T01:47:16.947548",
          "1970-01-01T01:47:16.947548",
          "1970-01-01T01:47:16.947548",
          "1970-01-01T01:47:16.947548",
          "1970-01-01T01:49:16.947548",
          "1970-01-01T01:49:16.947548",
          "1970-01-01T01:49:16.947548",
          "1970-01-01T01:47:16.947548",
          "1970-01-01T01:47:16.947548",
          "1970-01-01T01:49:16.947548",
          "1970-01-01T01:49:16.947548",
          "1970-01-01T01:49:16.947548",
          "1970-01-01T01:49:16.947548",
          "1970-01-01T01:49:16.947548",
          "1970-01-01T01:49:46.947548",
          "1970-01-01T01:49:46.947548",
          "1970-01-01T01:49:46.947548",
          "1970-01-01T02:21:42.596730",
          "1970-01-01T02:21:42.596730",
          "1970-01-01T02:22:42.596730",
          "1970-01-01T02:22:42.596730",
          "1970-01-01T02:22:42.596730",
          "1970-01-01T02:22:42.596730",
          "1970-01-01T02:22:42.596730",
          "1970-01-01T02:24:42.596730",
          "1970-01-01T02:24:42.596730",
          "1970-01-01T02:24:42.596730",
          "1970-01-01T02:22:42.596730",
          "1970-01-01T02:22:42.596730",
          "1970-01-01T02:24:42.596730",
          "1970-01-01T02:24:42.596730",
          "1970-01-01T02:24:42.596730",
          "1970-01-01T02:24:42.596730",
          "1970-01-01T02:24:42.596730",
          "1970-01-01T02:25:12.596730",
          "1970-01-01T02:25:12.596730",
          "1970-01-01T02:25:12.596730",
          "1970-01-01T02:57:08.245913",
          "1970-01-01T02:57:08.245913",
          "1970-01-01T02:58:08.245913",
          "1970-01-01T02:58:08.245913",
          "1970-01-01T02:58:08.245913",
          "1970-01-01T02:58:08.245913",
          "1970-01-01T02:58:08.245913",
          "1970-01-01T03:00:08.245913",
          "1970-01-01T03:00:08.245913",
          "1970-01-01T03:00:08.245913",
          "1970-01-01T02:58:08.245913",
          "1970-01-01T02:58:08.245913",
          "1970-01-01T03:00:08.245913",
          "1970-01-01T03:00:08.245913",
          "1970-01-01T03:00:08.245913"
         ],
         "y": [
          "Installer run process 2",
          "Installer run process 2",
          "Installer run process 2",
          "Installer run process 2",
          null,
          "Installer run process 2",
          "Installer run process 2",
          "Installer run process 2",
          "Installer run process 2",
          null,
          "Installer run process 2",
          "Installer run process 2",
          "Installer run process 2",
          "Installer run process 2",
          null,
          "Installer run process 2",
          "Installer run process 2",
          "Installer run process 2",
          "Installer run process 2",
          null,
          "Installer run process 2",
          "Installer run process 2",
          "Installer run process 2",
          "Installer run process 2",
          null,
          "Installer run process 2",
          "Installer run process 2",
          "Installer run process 2",
          "Installer run process 2",
          null,
          "Installer run process 2",
          "Installer run process 2",
          "Installer run process 2",
          "Installer run process 2",
          null,
          "Installer run process 2",
          "Installer run process 2",
          "Installer run process 2",
          "Installer run process 2",
          null,
          "Installer run process 2",
          "Installer run process 2",
          "Installer run process 2",
          "Installer run process 2",
          null,
          "Installer run process 2",
          "Installer run process 2",
          "Installer run process 2",
          "Installer run process 2",
          null,
          "Installer run process 2",
          "Installer run process 2",
          "Installer run process 2",
          "Installer run process 2",
          null,
          "Installer run process 2",
          "Installer run process 2",
          "Installer run process 2",
          "Installer run process 2",
          null,
          "Installer run process 2",
          "Installer run process 2",
          "Installer run process 2",
          "Installer run process 2",
          null,
          "Installer run process 2",
          "Installer run process 2",
          "Installer run process 2",
          "Installer run process 2",
          null,
          "Installer run process 2",
          "Installer run process 2",
          "Installer run process 2",
          "Installer run process 2",
          null,
          "Installer run process 2",
          "Installer run process 2",
          "Installer run process 2",
          "Installer run process 2",
          null,
          "Installer run process 2",
          "Installer run process 2",
          "Installer run process 2",
          "Installer run process 2",
          null,
          "Installer run process 2",
          "Installer run process 2",
          "Installer run process 2",
          "Installer run process 2",
          null,
          "Installer run process 2",
          "Installer run process 2",
          "Installer run process 2",
          "Installer run process 2",
          null,
          "Installer run process 2",
          "Installer run process 2",
          "Installer run process 2",
          "Installer run process 2",
          null
         ]
        },
        {
         "connectgaps": false,
         "hoverinfo": "y+name",
         "line": {
          "color": "rgb(1,173,218)",
          "width": 10
         },
         "mode": "lines",
         "name": "Sail transit",
         "type": "scatter",
         "x": [
          "1970-01-01T00:15:42.824591",
          "1970-01-01T00:15:42.824591",
          "1970-01-01T00:16:12.824591",
          "1970-01-01T00:16:12.824591",
          "1970-01-01T00:16:12.824591",
          "1970-01-01T00:38:25.649183",
          "1970-01-01T00:38:25.649183",
          "1970-01-01T00:38:55.649183",
          "1970-01-01T00:38:55.649183",
          "1970-01-01T00:38:55.649183",
          "1970-01-01T01:13:51.298365",
          "1970-01-01T01:13:51.298365",
          "1970-01-01T01:14:21.298365",
          "1970-01-01T01:14:21.298365",
          "1970-01-01T01:14:21.298365",
          "1970-01-01T01:49:16.947548",
          "1970-01-01T01:49:16.947548",
          "1970-01-01T01:49:46.947548",
          "1970-01-01T01:49:46.947548",
          "1970-01-01T01:49:46.947548",
          "1970-01-01T02:24:42.596730",
          "1970-01-01T02:24:42.596730",
          "1970-01-01T02:25:12.596730",
          "1970-01-01T02:25:12.596730",
          "1970-01-01T02:25:12.596730"
         ],
         "y": [
          "Sail transit",
          "Sail transit",
          "Sail transit",
          "Sail transit",
          null,
          "Sail transit",
          "Sail transit",
          "Sail transit",
          "Sail transit",
          null,
          "Sail transit",
          "Sail transit",
          "Sail transit",
          "Sail transit",
          null,
          "Sail transit",
          "Sail transit",
          "Sail transit",
          "Sail transit",
          null,
          "Sail transit",
          "Sail transit",
          "Sail transit",
          "Sail transit",
          null
         ]
        },
        {
         "connectgaps": false,
         "hoverinfo": "y+name",
         "line": {
          "color": "rgb(20,192,237)",
          "width": 10
         },
         "mode": "lines",
         "name": "Prepare installation",
         "type": "scatter",
         "x": [
          "1970-01-01T00:35:25.649183",
          "1970-01-01T00:35:25.649183",
          "1970-01-01T00:36:25.649183",
          "1970-01-01T00:36:25.649183",
          "1970-01-01T00:36:25.649183",
          "1970-01-01T01:10:51.298365",
          "1970-01-01T01:10:51.298365",
          "1970-01-01T01:11:51.298365",
          "1970-01-01T01:11:51.298365",
          "1970-01-01T01:11:51.298365",
          "1970-01-01T01:46:16.947548",
          "1970-01-01T01:46:16.947548",
          "1970-01-01T01:47:16.947548",
          "1970-01-01T01:47:16.947548",
          "1970-01-01T01:47:16.947548",
          "1970-01-01T02:21:42.596730",
          "1970-01-01T02:21:42.596730",
          "1970-01-01T02:22:42.596730",
          "1970-01-01T02:22:42.596730",
          "1970-01-01T02:22:42.596730",
          "1970-01-01T02:57:08.245913",
          "1970-01-01T02:57:08.245913",
          "1970-01-01T02:58:08.245913",
          "1970-01-01T02:58:08.245913",
          "1970-01-01T02:58:08.245913"
         ],
         "y": [
          "Prepare installation",
          "Prepare installation",
          "Prepare installation",
          "Prepare installation",
          null,
          "Prepare installation",
          "Prepare installation",
          "Prepare installation",
          "Prepare installation",
          null,
          "Prepare installation",
          "Prepare installation",
          "Prepare installation",
          "Prepare installation",
          null,
          "Prepare installation",
          "Prepare installation",
          "Prepare installation",
          "Prepare installation",
          null,
          "Prepare installation",
          "Prepare installation",
          "Prepare installation",
          "Prepare installation",
          null
         ]
        },
        {
         "connectgaps": false,
         "hoverinfo": "y+name",
         "line": {
          "color": "rgb(39,211,0)",
          "width": 10
         },
         "mode": "lines",
         "name": "Install MP",
         "type": "scatter",
         "x": [
          "1970-01-01T00:36:25.649183",
          "1970-01-01T00:36:25.649183",
          "1970-01-01T00:38:25.649183",
          "1970-01-01T00:38:25.649183",
          "1970-01-01T00:38:25.649183",
          "1970-01-01T01:11:51.298365",
          "1970-01-01T01:11:51.298365",
          "1970-01-01T01:13:51.298365",
          "1970-01-01T01:13:51.298365",
          "1970-01-01T01:13:51.298365",
          "1970-01-01T01:47:16.947548",
          "1970-01-01T01:47:16.947548",
          "1970-01-01T01:49:16.947548",
          "1970-01-01T01:49:16.947548",
          "1970-01-01T01:49:16.947548",
          "1970-01-01T02:22:42.596730",
          "1970-01-01T02:22:42.596730",
          "1970-01-01T02:24:42.596730",
          "1970-01-01T02:24:42.596730",
          "1970-01-01T02:24:42.596730",
          "1970-01-01T02:58:08.245913",
          "1970-01-01T02:58:08.245913",
          "1970-01-01T03:00:08.245913",
          "1970-01-01T03:00:08.245913",
          "1970-01-01T03:00:08.245913"
         ],
         "y": [
          "Install MP",
          "Install MP",
          "Install MP",
          "Install MP",
          null,
          "Install MP",
          "Install MP",
          "Install MP",
          "Install MP",
          null,
          "Install MP",
          "Install MP",
          "Install MP",
          "Install MP",
          null,
          "Install MP",
          "Install MP",
          "Install MP",
          "Install MP",
          null,
          "Install MP",
          "Install MP",
          "Install MP",
          "Install MP",
          null
         ]
        },
        {
         "connectgaps": false,
         "hoverinfo": "y+name",
         "line": {
          "color": "rgb(58,230,19)",
          "width": 10
         },
         "mode": "lines",
         "name": "single run while",
         "type": "scatter",
         "x": [
          "1970-01-01T00:00:00",
          "1970-01-01T00:00:00",
          "1970-01-01T00:35:25.649183",
          "1970-01-01T00:35:25.649183",
          "1970-01-01T00:35:25.649183",
          "1970-01-01T00:35:25.649183",
          "1970-01-01T00:35:25.649183",
          "1970-01-01T01:10:51.298365",
          "1970-01-01T01:10:51.298365",
          "1970-01-01T01:10:51.298365",
          "1970-01-01T01:10:51.298365",
          "1970-01-01T01:10:51.298365",
          "1970-01-01T01:46:16.947548",
          "1970-01-01T01:46:16.947548",
          "1970-01-01T01:46:16.947548",
          "1970-01-01T01:46:16.947548",
          "1970-01-01T01:46:16.947548",
          "1970-01-01T02:21:42.596730",
          "1970-01-01T02:21:42.596730",
          "1970-01-01T02:21:42.596730",
          "1970-01-01T02:21:42.596730",
          "1970-01-01T02:21:42.596730",
          "1970-01-01T02:57:08.245913",
          "1970-01-01T02:57:08.245913",
          "1970-01-01T02:57:08.245913",
          "1970-01-01T02:21:42.596730",
          "1970-01-01T02:21:42.596730",
          "1970-01-01T02:57:08.245913",
          "1970-01-01T02:57:08.245913",
          "1970-01-01T02:57:08.245913"
         ],
         "y": [
          "single run while",
          "single run while",
          "single run while",
          "single run while",
          null,
          "single run while",
          "single run while",
          "single run while",
          "single run while",
          null,
          "single run while",
          "single run while",
          "single run while",
          "single run while",
          null,
          "single run while",
          "single run while",
          "single run while",
          "single run while",
          null,
          "single run while",
          "single run while",
          "single run while",
          "single run while",
          null,
          "single run while",
          "single run while",
          "single run while",
          "single run while",
          null
         ]
        },
        {
         "connectgaps": false,
         "hoverinfo": "y+name",
         "line": {
          "color": "rgb(77,249,38)",
          "width": 10
         },
         "mode": "lines",
         "name": "Single run process",
         "type": "scatter",
         "x": [
          "1970-01-01T00:00:00",
          "1970-01-01T00:00:00",
          "1970-01-01T00:15:42.824591",
          "1970-01-01T00:15:42.824591",
          "1970-01-01T00:15:42.824591",
          "1970-01-01T00:15:42.824591",
          "1970-01-01T00:15:42.824591",
          "1970-01-01T00:17:42.824591",
          "1970-01-01T00:17:42.824591",
          "1970-01-01T00:17:42.824591",
          "1970-01-01T00:17:42.824591",
          "1970-01-01T00:17:42.824591",
          "1970-01-01T00:33:25.649183",
          "1970-01-01T00:33:25.649183",
          "1970-01-01T00:33:25.649183",
          "1970-01-01T00:33:25.649183",
          "1970-01-01T00:33:25.649183",
          "1970-01-01T00:35:25.649183",
          "1970-01-01T00:35:25.649183",
          "1970-01-01T00:35:25.649183",
          "1970-01-01T00:33:25.649183",
          "1970-01-01T00:33:25.649183",
          "1970-01-01T00:35:25.649183",
          "1970-01-01T00:35:25.649183",
          "1970-01-01T00:35:25.649183",
          "1970-01-01T00:35:25.649183",
          "1970-01-01T00:35:25.649183",
          "1970-01-01T00:51:08.473774",
          "1970-01-01T00:51:08.473774",
          "1970-01-01T00:51:08.473774",
          "1970-01-01T00:51:08.473774",
          "1970-01-01T00:51:08.473774",
          "1970-01-01T00:53:08.473774",
          "1970-01-01T00:53:08.473774",
          "1970-01-01T00:53:08.473774",
          "1970-01-01T00:53:08.473774",
          "1970-01-01T00:53:08.473774",
          "1970-01-01T01:08:51.298365",
          "1970-01-01T01:08:51.298365",
          "1970-01-01T01:08:51.298365",
          "1970-01-01T01:08:51.298365",
          "1970-01-01T01:08:51.298365",
          "1970-01-01T01:10:51.298365",
          "1970-01-01T01:10:51.298365",
          "1970-01-01T01:10:51.298365",
          "1970-01-01T01:08:51.298365",
          "1970-01-01T01:08:51.298365",
          "1970-01-01T01:10:51.298365",
          "1970-01-01T01:10:51.298365",
          "1970-01-01T01:10:51.298365",
          "1970-01-01T01:10:51.298365",
          "1970-01-01T01:10:51.298365",
          "1970-01-01T01:26:34.122956",
          "1970-01-01T01:26:34.122956",
          "1970-01-01T01:26:34.122956",
          "1970-01-01T01:26:34.122956",
          "1970-01-01T01:26:34.122956",
          "1970-01-01T01:28:34.122956",
          "1970-01-01T01:28:34.122956",
          "1970-01-01T01:28:34.122956",
          "1970-01-01T01:28:34.122956",
          "1970-01-01T01:28:34.122956",
          "1970-01-01T01:44:16.947548",
          "1970-01-01T01:44:16.947548",
          "1970-01-01T01:44:16.947548",
          "1970-01-01T01:44:16.947548",
          "1970-01-01T01:44:16.947548",
          "1970-01-01T01:46:16.947548",
          "1970-01-01T01:46:16.947548",
          "1970-01-01T01:46:16.947548",
          "1970-01-01T01:44:16.947548",
          "1970-01-01T01:44:16.947548",
          "1970-01-01T01:46:16.947548",
          "1970-01-01T01:46:16.947548",
          "1970-01-01T01:46:16.947548",
          "1970-01-01T01:46:16.947548",
          "1970-01-01T01:46:16.947548",
          "1970-01-01T02:01:59.772139",
          "1970-01-01T02:01:59.772139",
          "1970-01-01T02:01:59.772139",
          "1970-01-01T02:01:59.772139",
          "1970-01-01T02:01:59.772139",
          "1970-01-01T02:03:59.772139",
          "1970-01-01T02:03:59.772139",
          "1970-01-01T02:03:59.772139",
          "1970-01-01T02:03:59.772139",
          "1970-01-01T02:03:59.772139",
          "1970-01-01T02:19:42.596730",
          "1970-01-01T02:19:42.596730",
          "1970-01-01T02:19:42.596730",
          "1970-01-01T02:19:42.596730",
          "1970-01-01T02:19:42.596730",
          "1970-01-01T02:21:42.596730",
          "1970-01-01T02:21:42.596730",
          "1970-01-01T02:21:42.596730",
          "1970-01-01T02:19:42.596730",
          "1970-01-01T02:19:42.596730",
          "1970-01-01T02:21:42.596730",
          "1970-01-01T02:21:42.596730",
          "1970-01-01T02:21:42.596730",
          "1970-01-01T02:21:42.596730",
          "1970-01-01T02:21:42.596730",
          "1970-01-01T02:37:25.421321",
          "1970-01-01T02:37:25.421321",
          "1970-01-01T02:37:25.421321",
          "1970-01-01T02:37:25.421321",
          "1970-01-01T02:37:25.421321",
          "1970-01-01T02:39:25.421321",
          "1970-01-01T02:39:25.421321",
          "1970-01-01T02:39:25.421321",
          "1970-01-01T02:39:25.421321",
          "1970-01-01T02:39:25.421321",
          "1970-01-01T02:55:08.245913",
          "1970-01-01T02:55:08.245913",
          "1970-01-01T02:55:08.245913",
          "1970-01-01T02:55:08.245913",
          "1970-01-01T02:55:08.245913",
          "1970-01-01T02:57:08.245913",
          "1970-01-01T02:57:08.245913",
          "1970-01-01T02:57:08.245913",
          "1970-01-01T02:55:08.245913",
          "1970-01-01T02:55:08.245913",
          "1970-01-01T02:57:08.245913",
          "1970-01-01T02:57:08.245913",
          "1970-01-01T02:57:08.245913"
         ],
         "y": [
          "Single run process",
          "Single run process",
          "Single run process",
          "Single run process",
          null,
          "Single run process",
          "Single run process",
          "Single run process",
          "Single run process",
          null,
          "Single run process",
          "Single run process",
          "Single run process",
          "Single run process",
          null,
          "Single run process",
          "Single run process",
          "Single run process",
          "Single run process",
          null,
          "Single run process",
          "Single run process",
          "Single run process",
          "Single run process",
          null,
          "Single run process",
          "Single run process",
          "Single run process",
          "Single run process",
          null,
          "Single run process",
          "Single run process",
          "Single run process",
          "Single run process",
          null,
          "Single run process",
          "Single run process",
          "Single run process",
          "Single run process",
          null,
          "Single run process",
          "Single run process",
          "Single run process",
          "Single run process",
          null,
          "Single run process",
          "Single run process",
          "Single run process",
          "Single run process",
          null,
          "Single run process",
          "Single run process",
          "Single run process",
          "Single run process",
          null,
          "Single run process",
          "Single run process",
          "Single run process",
          "Single run process",
          null,
          "Single run process",
          "Single run process",
          "Single run process",
          "Single run process",
          null,
          "Single run process",
          "Single run process",
          "Single run process",
          "Single run process",
          null,
          "Single run process",
          "Single run process",
          "Single run process",
          "Single run process",
          null,
          "Single run process",
          "Single run process",
          "Single run process",
          "Single run process",
          null,
          "Single run process",
          "Single run process",
          "Single run process",
          "Single run process",
          null,
          "Single run process",
          "Single run process",
          "Single run process",
          "Single run process",
          null,
          "Single run process",
          "Single run process",
          "Single run process",
          "Single run process",
          null,
          "Single run process",
          "Single run process",
          "Single run process",
          "Single run process",
          null,
          "Single run process",
          "Single run process",
          "Single run process",
          "Single run process",
          null,
          "Single run process",
          "Single run process",
          "Single run process",
          "Single run process",
          null,
          "Single run process",
          "Single run process",
          "Single run process",
          "Single run process",
          null,
          "Single run process",
          "Single run process",
          "Single run process",
          "Single run process",
          null,
          "Single run process",
          "Single run process",
          "Single run process",
          "Single run process",
          null
         ]
        },
        {
         "connectgaps": false,
         "hoverinfo": "y+name",
         "line": {
          "color": "rgb(96,12,57)",
          "width": 10
         },
         "mode": "lines",
         "name": "sailing empty",
         "type": "scatter",
         "x": [
          "1970-01-01T00:00:00",
          "1970-01-01T00:00:00",
          "1970-01-01T00:15:42.824591",
          "1970-01-01T00:15:42.824591",
          "1970-01-01T00:15:42.824591",
          "1970-01-01T00:00:00",
          "1970-01-01T00:00:00",
          "1970-01-01T00:00:00",
          "1970-01-01T00:00:00",
          "1970-01-01T00:00:00",
          "1970-01-01T00:35:25.649183",
          "1970-01-01T00:35:25.649183",
          "1970-01-01T00:51:08.473774",
          "1970-01-01T00:51:08.473774",
          "1970-01-01T00:51:08.473774",
          "1970-01-01T01:10:51.298365",
          "1970-01-01T01:10:51.298365",
          "1970-01-01T01:26:34.122956",
          "1970-01-01T01:26:34.122956",
          "1970-01-01T01:26:34.122956",
          "1970-01-01T01:46:16.947548",
          "1970-01-01T01:46:16.947548",
          "1970-01-01T02:01:59.772139",
          "1970-01-01T02:01:59.772139",
          "1970-01-01T02:01:59.772139",
          "1970-01-01T02:21:42.596730",
          "1970-01-01T02:21:42.596730",
          "1970-01-01T02:37:25.421321",
          "1970-01-01T02:37:25.421321",
          "1970-01-01T02:37:25.421321"
         ],
         "y": [
          "sailing empty",
          "sailing empty",
          "sailing empty",
          "sailing empty",
          null,
          "sailing empty",
          "sailing empty",
          "sailing empty",
          "sailing empty",
          null,
          "sailing empty",
          "sailing empty",
          "sailing empty",
          "sailing empty",
          null,
          "sailing empty",
          "sailing empty",
          "sailing empty",
          "sailing empty",
          null,
          "sailing empty",
          "sailing empty",
          "sailing empty",
          "sailing empty",
          null,
          "sailing empty",
          "sailing empty",
          "sailing empty",
          "sailing empty",
          null
         ]
        },
        {
         "connectgaps": false,
         "hoverinfo": "y+name",
         "line": {
          "color": "rgb(115,31,76)",
          "width": 10
         },
         "mode": "lines",
         "name": "Load MP",
         "type": "scatter",
         "x": [
          "1970-01-01T00:15:42.824591",
          "1970-01-01T00:15:42.824591",
          "1970-01-01T00:17:42.824591",
          "1970-01-01T00:17:42.824591",
          "1970-01-01T00:17:42.824591",
          "1970-01-01T00:51:08.473774",
          "1970-01-01T00:51:08.473774",
          "1970-01-01T00:53:08.473774",
          "1970-01-01T00:53:08.473774",
          "1970-01-01T00:53:08.473774",
          "1970-01-01T01:26:34.122956",
          "1970-01-01T01:26:34.122956",
          "1970-01-01T01:28:34.122956",
          "1970-01-01T01:28:34.122956",
          "1970-01-01T01:28:34.122956",
          "1970-01-01T02:01:59.772139",
          "1970-01-01T02:01:59.772139",
          "1970-01-01T02:03:59.772139",
          "1970-01-01T02:03:59.772139",
          "1970-01-01T02:03:59.772139",
          "1970-01-01T02:37:25.421321",
          "1970-01-01T02:37:25.421321",
          "1970-01-01T02:39:25.421321",
          "1970-01-01T02:39:25.421321",
          "1970-01-01T02:39:25.421321"
         ],
         "y": [
          "Load MP",
          "Load MP",
          "Load MP",
          "Load MP",
          null,
          "Load MP",
          "Load MP",
          "Load MP",
          "Load MP",
          null,
          "Load MP",
          "Load MP",
          "Load MP",
          "Load MP",
          null,
          "Load MP",
          "Load MP",
          "Load MP",
          "Load MP",
          null,
          "Load MP",
          "Load MP",
          "Load MP",
          "Load MP",
          null
         ]
        },
        {
         "connectgaps": false,
         "hoverinfo": "y+name",
         "line": {
          "color": "rgb(134,50,95)",
          "width": 10
         },
         "mode": "lines",
         "name": "sailing filled",
         "type": "scatter",
         "x": [
          "1970-01-01T00:17:42.824591",
          "1970-01-01T00:17:42.824591",
          "1970-01-01T00:33:25.649183",
          "1970-01-01T00:33:25.649183",
          "1970-01-01T00:33:25.649183",
          "1970-01-01T00:53:08.473774",
          "1970-01-01T00:53:08.473774",
          "1970-01-01T01:08:51.298365",
          "1970-01-01T01:08:51.298365",
          "1970-01-01T01:08:51.298365",
          "1970-01-01T01:28:34.122956",
          "1970-01-01T01:28:34.122956",
          "1970-01-01T01:44:16.947548",
          "1970-01-01T01:44:16.947548",
          "1970-01-01T01:44:16.947548",
          "1970-01-01T02:03:59.772139",
          "1970-01-01T02:03:59.772139",
          "1970-01-01T02:19:42.596730",
          "1970-01-01T02:19:42.596730",
          "1970-01-01T02:19:42.596730",
          "1970-01-01T02:39:25.421321",
          "1970-01-01T02:39:25.421321",
          "1970-01-01T02:55:08.245913",
          "1970-01-01T02:55:08.245913",
          "1970-01-01T02:55:08.245913"
         ],
         "y": [
          "sailing filled",
          "sailing filled",
          "sailing filled",
          "sailing filled",
          null,
          "sailing filled",
          "sailing filled",
          "sailing filled",
          "sailing filled",
          null,
          "sailing filled",
          "sailing filled",
          "sailing filled",
          "sailing filled",
          null,
          "sailing filled",
          "sailing filled",
          "sailing filled",
          "sailing filled",
          null,
          "sailing filled",
          "sailing filled",
          "sailing filled",
          "sailing filled",
          null
         ]
        },
        {
         "connectgaps": false,
         "hoverinfo": "y+name",
         "line": {
          "color": "rgb(153,69,114)",
          "width": 10
         },
         "mode": "lines",
         "name": "Transfer MP",
         "type": "scatter",
         "x": [
          "1970-01-01T00:33:25.649183",
          "1970-01-01T00:33:25.649183",
          "1970-01-01T00:35:25.649183",
          "1970-01-01T00:35:25.649183",
          "1970-01-01T00:35:25.649183",
          "1970-01-01T01:08:51.298365",
          "1970-01-01T01:08:51.298365",
          "1970-01-01T01:10:51.298365",
          "1970-01-01T01:10:51.298365",
          "1970-01-01T01:10:51.298365",
          "1970-01-01T01:44:16.947548",
          "1970-01-01T01:44:16.947548",
          "1970-01-01T01:46:16.947548",
          "1970-01-01T01:46:16.947548",
          "1970-01-01T01:46:16.947548",
          "1970-01-01T02:19:42.596730",
          "1970-01-01T02:19:42.596730",
          "1970-01-01T02:21:42.596730",
          "1970-01-01T02:21:42.596730",
          "1970-01-01T02:21:42.596730",
          "1970-01-01T02:55:08.245913",
          "1970-01-01T02:55:08.245913",
          "1970-01-01T02:57:08.245913",
          "1970-01-01T02:57:08.245913",
          "1970-01-01T02:57:08.245913"
         ],
         "y": [
          "Transfer MP",
          "Transfer MP",
          "Transfer MP",
          "Transfer MP",
          null,
          "Transfer MP",
          "Transfer MP",
          "Transfer MP",
          "Transfer MP",
          null,
          "Transfer MP",
          "Transfer MP",
          "Transfer MP",
          "Transfer MP",
          null,
          "Transfer MP",
          "Transfer MP",
          "Transfer MP",
          "Transfer MP",
          null,
          "Transfer MP",
          "Transfer MP",
          "Transfer MP",
          "Transfer MP",
          null
         ]
        }
       ],
       "layout": {
        "hovermode": "closest",
        "legend": {
         "orientation": "h",
         "x": 0,
         "y": -0.2
        },
        "template": {
         "data": {
          "bar": [
           {
            "error_x": {
             "color": "#2a3f5f"
            },
            "error_y": {
             "color": "#2a3f5f"
            },
            "marker": {
             "line": {
              "color": "#E5ECF6",
              "width": 0.5
             }
            },
            "type": "bar"
           }
          ],
          "barpolar": [
           {
            "marker": {
             "line": {
              "color": "#E5ECF6",
              "width": 0.5
             }
            },
            "type": "barpolar"
           }
          ],
          "carpet": [
           {
            "aaxis": {
             "endlinecolor": "#2a3f5f",
             "gridcolor": "white",
             "linecolor": "white",
             "minorgridcolor": "white",
             "startlinecolor": "#2a3f5f"
            },
            "baxis": {
             "endlinecolor": "#2a3f5f",
             "gridcolor": "white",
             "linecolor": "white",
             "minorgridcolor": "white",
             "startlinecolor": "#2a3f5f"
            },
            "type": "carpet"
           }
          ],
          "choropleth": [
           {
            "colorbar": {
             "outlinewidth": 0,
             "ticks": ""
            },
            "type": "choropleth"
           }
          ],
          "contour": [
           {
            "colorbar": {
             "outlinewidth": 0,
             "ticks": ""
            },
            "colorscale": [
             [
              0,
              "#0d0887"
             ],
             [
              0.1111111111111111,
              "#46039f"
             ],
             [
              0.2222222222222222,
              "#7201a8"
             ],
             [
              0.3333333333333333,
              "#9c179e"
             ],
             [
              0.4444444444444444,
              "#bd3786"
             ],
             [
              0.5555555555555556,
              "#d8576b"
             ],
             [
              0.6666666666666666,
              "#ed7953"
             ],
             [
              0.7777777777777778,
              "#fb9f3a"
             ],
             [
              0.8888888888888888,
              "#fdca26"
             ],
             [
              1,
              "#f0f921"
             ]
            ],
            "type": "contour"
           }
          ],
          "contourcarpet": [
           {
            "colorbar": {
             "outlinewidth": 0,
             "ticks": ""
            },
            "type": "contourcarpet"
           }
          ],
          "heatmap": [
           {
            "colorbar": {
             "outlinewidth": 0,
             "ticks": ""
            },
            "colorscale": [
             [
              0,
              "#0d0887"
             ],
             [
              0.1111111111111111,
              "#46039f"
             ],
             [
              0.2222222222222222,
              "#7201a8"
             ],
             [
              0.3333333333333333,
              "#9c179e"
             ],
             [
              0.4444444444444444,
              "#bd3786"
             ],
             [
              0.5555555555555556,
              "#d8576b"
             ],
             [
              0.6666666666666666,
              "#ed7953"
             ],
             [
              0.7777777777777778,
              "#fb9f3a"
             ],
             [
              0.8888888888888888,
              "#fdca26"
             ],
             [
              1,
              "#f0f921"
             ]
            ],
            "type": "heatmap"
           }
          ],
          "heatmapgl": [
           {
            "colorbar": {
             "outlinewidth": 0,
             "ticks": ""
            },
            "colorscale": [
             [
              0,
              "#0d0887"
             ],
             [
              0.1111111111111111,
              "#46039f"
             ],
             [
              0.2222222222222222,
              "#7201a8"
             ],
             [
              0.3333333333333333,
              "#9c179e"
             ],
             [
              0.4444444444444444,
              "#bd3786"
             ],
             [
              0.5555555555555556,
              "#d8576b"
             ],
             [
              0.6666666666666666,
              "#ed7953"
             ],
             [
              0.7777777777777778,
              "#fb9f3a"
             ],
             [
              0.8888888888888888,
              "#fdca26"
             ],
             [
              1,
              "#f0f921"
             ]
            ],
            "type": "heatmapgl"
           }
          ],
          "histogram": [
           {
            "marker": {
             "colorbar": {
              "outlinewidth": 0,
              "ticks": ""
             }
            },
            "type": "histogram"
           }
          ],
          "histogram2d": [
           {
            "colorbar": {
             "outlinewidth": 0,
             "ticks": ""
            },
            "colorscale": [
             [
              0,
              "#0d0887"
             ],
             [
              0.1111111111111111,
              "#46039f"
             ],
             [
              0.2222222222222222,
              "#7201a8"
             ],
             [
              0.3333333333333333,
              "#9c179e"
             ],
             [
              0.4444444444444444,
              "#bd3786"
             ],
             [
              0.5555555555555556,
              "#d8576b"
             ],
             [
              0.6666666666666666,
              "#ed7953"
             ],
             [
              0.7777777777777778,
              "#fb9f3a"
             ],
             [
              0.8888888888888888,
              "#fdca26"
             ],
             [
              1,
              "#f0f921"
             ]
            ],
            "type": "histogram2d"
           }
          ],
          "histogram2dcontour": [
           {
            "colorbar": {
             "outlinewidth": 0,
             "ticks": ""
            },
            "colorscale": [
             [
              0,
              "#0d0887"
             ],
             [
              0.1111111111111111,
              "#46039f"
             ],
             [
              0.2222222222222222,
              "#7201a8"
             ],
             [
              0.3333333333333333,
              "#9c179e"
             ],
             [
              0.4444444444444444,
              "#bd3786"
             ],
             [
              0.5555555555555556,
              "#d8576b"
             ],
             [
              0.6666666666666666,
              "#ed7953"
             ],
             [
              0.7777777777777778,
              "#fb9f3a"
             ],
             [
              0.8888888888888888,
              "#fdca26"
             ],
             [
              1,
              "#f0f921"
             ]
            ],
            "type": "histogram2dcontour"
           }
          ],
          "mesh3d": [
           {
            "colorbar": {
             "outlinewidth": 0,
             "ticks": ""
            },
            "type": "mesh3d"
           }
          ],
          "parcoords": [
           {
            "line": {
             "colorbar": {
              "outlinewidth": 0,
              "ticks": ""
             }
            },
            "type": "parcoords"
           }
          ],
          "pie": [
           {
            "automargin": true,
            "type": "pie"
           }
          ],
          "scatter": [
           {
            "marker": {
             "colorbar": {
              "outlinewidth": 0,
              "ticks": ""
             }
            },
            "type": "scatter"
           }
          ],
          "scatter3d": [
           {
            "line": {
             "colorbar": {
              "outlinewidth": 0,
              "ticks": ""
             }
            },
            "marker": {
             "colorbar": {
              "outlinewidth": 0,
              "ticks": ""
             }
            },
            "type": "scatter3d"
           }
          ],
          "scattercarpet": [
           {
            "marker": {
             "colorbar": {
              "outlinewidth": 0,
              "ticks": ""
             }
            },
            "type": "scattercarpet"
           }
          ],
          "scattergeo": [
           {
            "marker": {
             "colorbar": {
              "outlinewidth": 0,
              "ticks": ""
             }
            },
            "type": "scattergeo"
           }
          ],
          "scattergl": [
           {
            "marker": {
             "colorbar": {
              "outlinewidth": 0,
              "ticks": ""
             }
            },
            "type": "scattergl"
           }
          ],
          "scattermapbox": [
           {
            "marker": {
             "colorbar": {
              "outlinewidth": 0,
              "ticks": ""
             }
            },
            "type": "scattermapbox"
           }
          ],
          "scatterpolar": [
           {
            "marker": {
             "colorbar": {
              "outlinewidth": 0,
              "ticks": ""
             }
            },
            "type": "scatterpolar"
           }
          ],
          "scatterpolargl": [
           {
            "marker": {
             "colorbar": {
              "outlinewidth": 0,
              "ticks": ""
             }
            },
            "type": "scatterpolargl"
           }
          ],
          "scatterternary": [
           {
            "marker": {
             "colorbar": {
              "outlinewidth": 0,
              "ticks": ""
             }
            },
            "type": "scatterternary"
           }
          ],
          "surface": [
           {
            "colorbar": {
             "outlinewidth": 0,
             "ticks": ""
            },
            "colorscale": [
             [
              0,
              "#0d0887"
             ],
             [
              0.1111111111111111,
              "#46039f"
             ],
             [
              0.2222222222222222,
              "#7201a8"
             ],
             [
              0.3333333333333333,
              "#9c179e"
             ],
             [
              0.4444444444444444,
              "#bd3786"
             ],
             [
              0.5555555555555556,
              "#d8576b"
             ],
             [
              0.6666666666666666,
              "#ed7953"
             ],
             [
              0.7777777777777778,
              "#fb9f3a"
             ],
             [
              0.8888888888888888,
              "#fdca26"
             ],
             [
              1,
              "#f0f921"
             ]
            ],
            "type": "surface"
           }
          ],
          "table": [
           {
            "cells": {
             "fill": {
              "color": "#EBF0F8"
             },
             "line": {
              "color": "white"
             }
            },
            "header": {
             "fill": {
              "color": "#C8D4E3"
             },
             "line": {
              "color": "white"
             }
            },
            "type": "table"
           }
          ]
         },
         "layout": {
          "annotationdefaults": {
           "arrowcolor": "#2a3f5f",
           "arrowhead": 0,
           "arrowwidth": 1
          },
          "autotypenumbers": "strict",
          "coloraxis": {
           "colorbar": {
            "outlinewidth": 0,
            "ticks": ""
           }
          },
          "colorscale": {
           "diverging": [
            [
             0,
             "#8e0152"
            ],
            [
             0.1,
             "#c51b7d"
            ],
            [
             0.2,
             "#de77ae"
            ],
            [
             0.3,
             "#f1b6da"
            ],
            [
             0.4,
             "#fde0ef"
            ],
            [
             0.5,
             "#f7f7f7"
            ],
            [
             0.6,
             "#e6f5d0"
            ],
            [
             0.7,
             "#b8e186"
            ],
            [
             0.8,
             "#7fbc41"
            ],
            [
             0.9,
             "#4d9221"
            ],
            [
             1,
             "#276419"
            ]
           ],
           "sequential": [
            [
             0,
             "#0d0887"
            ],
            [
             0.1111111111111111,
             "#46039f"
            ],
            [
             0.2222222222222222,
             "#7201a8"
            ],
            [
             0.3333333333333333,
             "#9c179e"
            ],
            [
             0.4444444444444444,
             "#bd3786"
            ],
            [
             0.5555555555555556,
             "#d8576b"
            ],
            [
             0.6666666666666666,
             "#ed7953"
            ],
            [
             0.7777777777777778,
             "#fb9f3a"
            ],
            [
             0.8888888888888888,
             "#fdca26"
            ],
            [
             1,
             "#f0f921"
            ]
           ],
           "sequentialminus": [
            [
             0,
             "#0d0887"
            ],
            [
             0.1111111111111111,
             "#46039f"
            ],
            [
             0.2222222222222222,
             "#7201a8"
            ],
            [
             0.3333333333333333,
             "#9c179e"
            ],
            [
             0.4444444444444444,
             "#bd3786"
            ],
            [
             0.5555555555555556,
             "#d8576b"
            ],
            [
             0.6666666666666666,
             "#ed7953"
            ],
            [
             0.7777777777777778,
             "#fb9f3a"
            ],
            [
             0.8888888888888888,
             "#fdca26"
            ],
            [
             1,
             "#f0f921"
            ]
           ]
          },
          "colorway": [
           "#636efa",
           "#EF553B",
           "#00cc96",
           "#ab63fa",
           "#FFA15A",
           "#19d3f3",
           "#FF6692",
           "#B6E880",
           "#FF97FF",
           "#FECB52"
          ],
          "font": {
           "color": "#2a3f5f"
          },
          "geo": {
           "bgcolor": "white",
           "lakecolor": "white",
           "landcolor": "#E5ECF6",
           "showlakes": true,
           "showland": true,
           "subunitcolor": "white"
          },
          "hoverlabel": {
           "align": "left"
          },
          "hovermode": "closest",
          "mapbox": {
           "style": "light"
          },
          "paper_bgcolor": "white",
          "plot_bgcolor": "#E5ECF6",
          "polar": {
           "angularaxis": {
            "gridcolor": "white",
            "linecolor": "white",
            "ticks": ""
           },
           "bgcolor": "#E5ECF6",
           "radialaxis": {
            "gridcolor": "white",
            "linecolor": "white",
            "ticks": ""
           }
          },
          "scene": {
           "xaxis": {
            "backgroundcolor": "#E5ECF6",
            "gridcolor": "white",
            "gridwidth": 2,
            "linecolor": "white",
            "showbackground": true,
            "ticks": "",
            "zerolinecolor": "white"
           },
           "yaxis": {
            "backgroundcolor": "#E5ECF6",
            "gridcolor": "white",
            "gridwidth": 2,
            "linecolor": "white",
            "showbackground": true,
            "ticks": "",
            "zerolinecolor": "white"
           },
           "zaxis": {
            "backgroundcolor": "#E5ECF6",
            "gridcolor": "white",
            "gridwidth": 2,
            "linecolor": "white",
            "showbackground": true,
            "ticks": "",
            "zerolinecolor": "white"
           }
          },
          "shapedefaults": {
           "line": {
            "color": "#2a3f5f"
           }
          },
          "ternary": {
           "aaxis": {
            "gridcolor": "white",
            "linecolor": "white",
            "ticks": ""
           },
           "baxis": {
            "gridcolor": "white",
            "linecolor": "white",
            "ticks": ""
           },
           "bgcolor": "#E5ECF6",
           "caxis": {
            "gridcolor": "white",
            "linecolor": "white",
            "ticks": ""
           }
          },
          "title": {
           "x": 0.05
          },
          "xaxis": {
           "automargin": true,
           "gridcolor": "white",
           "linecolor": "white",
           "ticks": "",
           "title": {
            "standoff": 15
           },
           "zerolinecolor": "white",
           "zerolinewidth": 2
          },
          "yaxis": {
           "automargin": true,
           "gridcolor": "white",
           "linecolor": "white",
           "ticks": "",
           "title": {
            "standoff": 15
           },
           "zerolinecolor": "white",
           "zerolinewidth": 2
          }
         }
        },
        "title": {
         "text": "Vessel planning"
        },
        "xaxis": {
         "range": [
          "1970-01-01T00:00:00",
          "1970-01-01T03:00:08.245913"
         ],
         "title": {
          "font": {
           "color": "#7f7f7f",
           "family": "Courier New, monospace",
           "size": 18
          },
          "text": "Time"
         }
        },
        "yaxis": {
         "title": {
          "font": {
           "color": "#7f7f7f",
           "family": "Courier New, monospace",
           "size": 18
          },
          "text": "Vessels"
         }
        }
       }
      },
      "text/html": [
       "<div>                            <div id=\"557527f8-2d3b-493c-b2c9-49ed92e8fab7\" class=\"plotly-graph-div\" style=\"height:525px; width:100%;\"></div>            <script type=\"text/javascript\">                require([\"plotly\"], function(Plotly) {                    window.PLOTLYENV=window.PLOTLYENV || {};                                    if (document.getElementById(\"557527f8-2d3b-493c-b2c9-49ed92e8fab7\")) {                    Plotly.newPlot(                        \"557527f8-2d3b-493c-b2c9-49ed92e8fab7\",                        [{\"connectgaps\": false, \"hoverinfo\": \"y+name\", \"line\": {\"color\": \"rgb(181,97,142)\", \"width\": 10}, \"mode\": \"lines\", \"name\": \"Installer run process\", \"type\": \"scatter\", \"x\": [\"1970-01-01T00:00:00\", \"1970-01-01T00:00:00\", \"1970-01-01T00:15:42.824591\", \"1970-01-01T00:15:42.824591\", \"1970-01-01T00:15:42.824591\", \"1970-01-01T00:15:42.824591\", \"1970-01-01T00:15:42.824591\", \"1970-01-01T03:00:08.245913\", \"1970-01-01T03:00:08.245913\", \"1970-01-01T03:00:08.245913\", \"1970-01-01T00:15:42.824591\", \"1970-01-01T00:15:42.824591\", \"1970-01-01T03:00:08.245913\", \"1970-01-01T03:00:08.245913\", \"1970-01-01T03:00:08.245913\"], \"y\": [\"Installer run process\", \"Installer run process\", \"Installer run process\", \"Installer run process\", null, \"Installer run process\", \"Installer run process\", \"Installer run process\", \"Installer run process\", null, \"Installer run process\", \"Installer run process\", \"Installer run process\", \"Installer run process\", null]}, {\"connectgaps\": false, \"hoverinfo\": \"y+name\", \"line\": {\"color\": \"rgb(200,116,161)\", \"width\": 10}, \"mode\": \"lines\", \"name\": \"sailing empty\", \"type\": \"scatter\", \"x\": [\"1970-01-01T00:00:00\", \"1970-01-01T00:00:00\", \"1970-01-01T00:15:42.824591\", \"1970-01-01T00:15:42.824591\", \"1970-01-01T00:15:42.824591\", \"1970-01-01T00:00:00\", \"1970-01-01T00:00:00\", \"1970-01-01T00:00:00\", \"1970-01-01T00:00:00\", \"1970-01-01T00:00:00\", \"1970-01-01T00:35:25.649183\", \"1970-01-01T00:35:25.649183\", \"1970-01-01T00:51:08.473774\", \"1970-01-01T00:51:08.473774\", \"1970-01-01T00:51:08.473774\", \"1970-01-01T01:10:51.298365\", \"1970-01-01T01:10:51.298365\", \"1970-01-01T01:26:34.122956\", \"1970-01-01T01:26:34.122956\", \"1970-01-01T01:26:34.122956\", \"1970-01-01T01:46:16.947548\", \"1970-01-01T01:46:16.947548\", \"1970-01-01T02:01:59.772139\", \"1970-01-01T02:01:59.772139\", \"1970-01-01T02:01:59.772139\", \"1970-01-01T02:21:42.596730\", \"1970-01-01T02:21:42.596730\", \"1970-01-01T02:37:25.421321\", \"1970-01-01T02:37:25.421321\", \"1970-01-01T02:37:25.421321\"], \"y\": [\"sailing empty\", \"sailing empty\", \"sailing empty\", \"sailing empty\", null, \"sailing empty\", \"sailing empty\", \"sailing empty\", \"sailing empty\", null, \"sailing empty\", \"sailing empty\", \"sailing empty\", \"sailing empty\", null, \"sailing empty\", \"sailing empty\", \"sailing empty\", \"sailing empty\", null, \"sailing empty\", \"sailing empty\", \"sailing empty\", \"sailing empty\", null, \"sailing empty\", \"sailing empty\", \"sailing empty\", \"sailing empty\", null]}, {\"connectgaps\": false, \"hoverinfo\": \"y+name\", \"line\": {\"color\": \"rgb(219,135,180)\", \"width\": 10}, \"mode\": \"lines\", \"name\": \"installer run while\", \"type\": \"scatter\", \"x\": [\"1970-01-01T00:15:42.824591\", \"1970-01-01T00:15:42.824591\", \"1970-01-01T00:38:25.649183\", \"1970-01-01T00:38:25.649183\", \"1970-01-01T00:38:25.649183\", \"1970-01-01T00:38:25.649183\", \"1970-01-01T00:38:25.649183\", \"1970-01-01T01:13:51.298365\", \"1970-01-01T01:13:51.298365\", \"1970-01-01T01:13:51.298365\", \"1970-01-01T01:13:51.298365\", \"1970-01-01T01:13:51.298365\", \"1970-01-01T01:49:16.947548\", \"1970-01-01T01:49:16.947548\", \"1970-01-01T01:49:16.947548\", \"1970-01-01T01:49:16.947548\", \"1970-01-01T01:49:16.947548\", \"1970-01-01T02:24:42.596730\", \"1970-01-01T02:24:42.596730\", \"1970-01-01T02:24:42.596730\", \"1970-01-01T02:24:42.596730\", \"1970-01-01T02:24:42.596730\", \"1970-01-01T03:00:08.245913\", \"1970-01-01T03:00:08.245913\", \"1970-01-01T03:00:08.245913\", \"1970-01-01T02:24:42.596730\", \"1970-01-01T02:24:42.596730\", \"1970-01-01T03:00:08.245913\", \"1970-01-01T03:00:08.245913\", \"1970-01-01T03:00:08.245913\"], \"y\": [\"installer run while\", \"installer run while\", \"installer run while\", \"installer run while\", null, \"installer run while\", \"installer run while\", \"installer run while\", \"installer run while\", null, \"installer run while\", \"installer run while\", \"installer run while\", \"installer run while\", null, \"installer run while\", \"installer run while\", \"installer run while\", \"installer run while\", null, \"installer run while\", \"installer run while\", \"installer run while\", \"installer run while\", null, \"installer run while\", \"installer run while\", \"installer run while\", \"installer run while\", null]}, {\"connectgaps\": false, \"hoverinfo\": \"y+name\", \"line\": {\"color\": \"rgb(238,154,199)\", \"width\": 10}, \"mode\": \"lines\", \"name\": \"Installer run process 2\", \"type\": \"scatter\", \"x\": [\"1970-01-01T00:15:42.824591\", \"1970-01-01T00:15:42.824591\", \"1970-01-01T00:16:12.824591\", \"1970-01-01T00:16:12.824591\", \"1970-01-01T00:16:12.824591\", \"1970-01-01T00:35:25.649183\", \"1970-01-01T00:35:25.649183\", \"1970-01-01T00:36:25.649183\", \"1970-01-01T00:36:25.649183\", \"1970-01-01T00:36:25.649183\", \"1970-01-01T00:36:25.649183\", \"1970-01-01T00:36:25.649183\", \"1970-01-01T00:38:25.649183\", \"1970-01-01T00:38:25.649183\", \"1970-01-01T00:38:25.649183\", \"1970-01-01T00:36:25.649183\", \"1970-01-01T00:36:25.649183\", \"1970-01-01T00:38:25.649183\", \"1970-01-01T00:38:25.649183\", \"1970-01-01T00:38:25.649183\", \"1970-01-01T00:38:25.649183\", \"1970-01-01T00:38:25.649183\", \"1970-01-01T00:38:55.649183\", \"1970-01-01T00:38:55.649183\", \"1970-01-01T00:38:55.649183\", \"1970-01-01T01:10:51.298365\", \"1970-01-01T01:10:51.298365\", \"1970-01-01T01:11:51.298365\", \"1970-01-01T01:11:51.298365\", \"1970-01-01T01:11:51.298365\", \"1970-01-01T01:11:51.298365\", \"1970-01-01T01:11:51.298365\", \"1970-01-01T01:13:51.298365\", \"1970-01-01T01:13:51.298365\", \"1970-01-01T01:13:51.298365\", \"1970-01-01T01:11:51.298365\", \"1970-01-01T01:11:51.298365\", \"1970-01-01T01:13:51.298365\", \"1970-01-01T01:13:51.298365\", \"1970-01-01T01:13:51.298365\", \"1970-01-01T01:13:51.298365\", \"1970-01-01T01:13:51.298365\", \"1970-01-01T01:14:21.298365\", \"1970-01-01T01:14:21.298365\", \"1970-01-01T01:14:21.298365\", \"1970-01-01T01:46:16.947548\", \"1970-01-01T01:46:16.947548\", \"1970-01-01T01:47:16.947548\", \"1970-01-01T01:47:16.947548\", \"1970-01-01T01:47:16.947548\", \"1970-01-01T01:47:16.947548\", \"1970-01-01T01:47:16.947548\", \"1970-01-01T01:49:16.947548\", \"1970-01-01T01:49:16.947548\", \"1970-01-01T01:49:16.947548\", \"1970-01-01T01:47:16.947548\", \"1970-01-01T01:47:16.947548\", \"1970-01-01T01:49:16.947548\", \"1970-01-01T01:49:16.947548\", \"1970-01-01T01:49:16.947548\", \"1970-01-01T01:49:16.947548\", \"1970-01-01T01:49:16.947548\", \"1970-01-01T01:49:46.947548\", \"1970-01-01T01:49:46.947548\", \"1970-01-01T01:49:46.947548\", \"1970-01-01T02:21:42.596730\", \"1970-01-01T02:21:42.596730\", \"1970-01-01T02:22:42.596730\", \"1970-01-01T02:22:42.596730\", \"1970-01-01T02:22:42.596730\", \"1970-01-01T02:22:42.596730\", \"1970-01-01T02:22:42.596730\", \"1970-01-01T02:24:42.596730\", \"1970-01-01T02:24:42.596730\", \"1970-01-01T02:24:42.596730\", \"1970-01-01T02:22:42.596730\", \"1970-01-01T02:22:42.596730\", \"1970-01-01T02:24:42.596730\", \"1970-01-01T02:24:42.596730\", \"1970-01-01T02:24:42.596730\", \"1970-01-01T02:24:42.596730\", \"1970-01-01T02:24:42.596730\", \"1970-01-01T02:25:12.596730\", \"1970-01-01T02:25:12.596730\", \"1970-01-01T02:25:12.596730\", \"1970-01-01T02:57:08.245913\", \"1970-01-01T02:57:08.245913\", \"1970-01-01T02:58:08.245913\", \"1970-01-01T02:58:08.245913\", \"1970-01-01T02:58:08.245913\", \"1970-01-01T02:58:08.245913\", \"1970-01-01T02:58:08.245913\", \"1970-01-01T03:00:08.245913\", \"1970-01-01T03:00:08.245913\", \"1970-01-01T03:00:08.245913\", \"1970-01-01T02:58:08.245913\", \"1970-01-01T02:58:08.245913\", \"1970-01-01T03:00:08.245913\", \"1970-01-01T03:00:08.245913\", \"1970-01-01T03:00:08.245913\"], \"y\": [\"Installer run process 2\", \"Installer run process 2\", \"Installer run process 2\", \"Installer run process 2\", null, \"Installer run process 2\", \"Installer run process 2\", \"Installer run process 2\", \"Installer run process 2\", null, \"Installer run process 2\", \"Installer run process 2\", \"Installer run process 2\", \"Installer run process 2\", null, \"Installer run process 2\", \"Installer run process 2\", \"Installer run process 2\", \"Installer run process 2\", null, \"Installer run process 2\", \"Installer run process 2\", \"Installer run process 2\", \"Installer run process 2\", null, \"Installer run process 2\", \"Installer run process 2\", \"Installer run process 2\", \"Installer run process 2\", null, \"Installer run process 2\", \"Installer run process 2\", \"Installer run process 2\", \"Installer run process 2\", null, \"Installer run process 2\", \"Installer run process 2\", \"Installer run process 2\", \"Installer run process 2\", null, \"Installer run process 2\", \"Installer run process 2\", \"Installer run process 2\", \"Installer run process 2\", null, \"Installer run process 2\", \"Installer run process 2\", \"Installer run process 2\", \"Installer run process 2\", null, \"Installer run process 2\", \"Installer run process 2\", \"Installer run process 2\", \"Installer run process 2\", null, \"Installer run process 2\", \"Installer run process 2\", \"Installer run process 2\", \"Installer run process 2\", null, \"Installer run process 2\", \"Installer run process 2\", \"Installer run process 2\", \"Installer run process 2\", null, \"Installer run process 2\", \"Installer run process 2\", \"Installer run process 2\", \"Installer run process 2\", null, \"Installer run process 2\", \"Installer run process 2\", \"Installer run process 2\", \"Installer run process 2\", null, \"Installer run process 2\", \"Installer run process 2\", \"Installer run process 2\", \"Installer run process 2\", null, \"Installer run process 2\", \"Installer run process 2\", \"Installer run process 2\", \"Installer run process 2\", null, \"Installer run process 2\", \"Installer run process 2\", \"Installer run process 2\", \"Installer run process 2\", null, \"Installer run process 2\", \"Installer run process 2\", \"Installer run process 2\", \"Installer run process 2\", null, \"Installer run process 2\", \"Installer run process 2\", \"Installer run process 2\", \"Installer run process 2\", null]}, {\"connectgaps\": false, \"hoverinfo\": \"y+name\", \"line\": {\"color\": \"rgb(1,173,218)\", \"width\": 10}, \"mode\": \"lines\", \"name\": \"Sail transit\", \"type\": \"scatter\", \"x\": [\"1970-01-01T00:15:42.824591\", \"1970-01-01T00:15:42.824591\", \"1970-01-01T00:16:12.824591\", \"1970-01-01T00:16:12.824591\", \"1970-01-01T00:16:12.824591\", \"1970-01-01T00:38:25.649183\", \"1970-01-01T00:38:25.649183\", \"1970-01-01T00:38:55.649183\", \"1970-01-01T00:38:55.649183\", \"1970-01-01T00:38:55.649183\", \"1970-01-01T01:13:51.298365\", \"1970-01-01T01:13:51.298365\", \"1970-01-01T01:14:21.298365\", \"1970-01-01T01:14:21.298365\", \"1970-01-01T01:14:21.298365\", \"1970-01-01T01:49:16.947548\", \"1970-01-01T01:49:16.947548\", \"1970-01-01T01:49:46.947548\", \"1970-01-01T01:49:46.947548\", \"1970-01-01T01:49:46.947548\", \"1970-01-01T02:24:42.596730\", \"1970-01-01T02:24:42.596730\", \"1970-01-01T02:25:12.596730\", \"1970-01-01T02:25:12.596730\", \"1970-01-01T02:25:12.596730\"], \"y\": [\"Sail transit\", \"Sail transit\", \"Sail transit\", \"Sail transit\", null, \"Sail transit\", \"Sail transit\", \"Sail transit\", \"Sail transit\", null, \"Sail transit\", \"Sail transit\", \"Sail transit\", \"Sail transit\", null, \"Sail transit\", \"Sail transit\", \"Sail transit\", \"Sail transit\", null, \"Sail transit\", \"Sail transit\", \"Sail transit\", \"Sail transit\", null]}, {\"connectgaps\": false, \"hoverinfo\": \"y+name\", \"line\": {\"color\": \"rgb(20,192,237)\", \"width\": 10}, \"mode\": \"lines\", \"name\": \"Prepare installation\", \"type\": \"scatter\", \"x\": [\"1970-01-01T00:35:25.649183\", \"1970-01-01T00:35:25.649183\", \"1970-01-01T00:36:25.649183\", \"1970-01-01T00:36:25.649183\", \"1970-01-01T00:36:25.649183\", \"1970-01-01T01:10:51.298365\", \"1970-01-01T01:10:51.298365\", \"1970-01-01T01:11:51.298365\", \"1970-01-01T01:11:51.298365\", \"1970-01-01T01:11:51.298365\", \"1970-01-01T01:46:16.947548\", \"1970-01-01T01:46:16.947548\", \"1970-01-01T01:47:16.947548\", \"1970-01-01T01:47:16.947548\", \"1970-01-01T01:47:16.947548\", \"1970-01-01T02:21:42.596730\", \"1970-01-01T02:21:42.596730\", \"1970-01-01T02:22:42.596730\", \"1970-01-01T02:22:42.596730\", \"1970-01-01T02:22:42.596730\", \"1970-01-01T02:57:08.245913\", \"1970-01-01T02:57:08.245913\", \"1970-01-01T02:58:08.245913\", \"1970-01-01T02:58:08.245913\", \"1970-01-01T02:58:08.245913\"], \"y\": [\"Prepare installation\", \"Prepare installation\", \"Prepare installation\", \"Prepare installation\", null, \"Prepare installation\", \"Prepare installation\", \"Prepare installation\", \"Prepare installation\", null, \"Prepare installation\", \"Prepare installation\", \"Prepare installation\", \"Prepare installation\", null, \"Prepare installation\", \"Prepare installation\", \"Prepare installation\", \"Prepare installation\", null, \"Prepare installation\", \"Prepare installation\", \"Prepare installation\", \"Prepare installation\", null]}, {\"connectgaps\": false, \"hoverinfo\": \"y+name\", \"line\": {\"color\": \"rgb(39,211,0)\", \"width\": 10}, \"mode\": \"lines\", \"name\": \"Install MP\", \"type\": \"scatter\", \"x\": [\"1970-01-01T00:36:25.649183\", \"1970-01-01T00:36:25.649183\", \"1970-01-01T00:38:25.649183\", \"1970-01-01T00:38:25.649183\", \"1970-01-01T00:38:25.649183\", \"1970-01-01T01:11:51.298365\", \"1970-01-01T01:11:51.298365\", \"1970-01-01T01:13:51.298365\", \"1970-01-01T01:13:51.298365\", \"1970-01-01T01:13:51.298365\", \"1970-01-01T01:47:16.947548\", \"1970-01-01T01:47:16.947548\", \"1970-01-01T01:49:16.947548\", \"1970-01-01T01:49:16.947548\", \"1970-01-01T01:49:16.947548\", \"1970-01-01T02:22:42.596730\", \"1970-01-01T02:22:42.596730\", \"1970-01-01T02:24:42.596730\", \"1970-01-01T02:24:42.596730\", \"1970-01-01T02:24:42.596730\", \"1970-01-01T02:58:08.245913\", \"1970-01-01T02:58:08.245913\", \"1970-01-01T03:00:08.245913\", \"1970-01-01T03:00:08.245913\", \"1970-01-01T03:00:08.245913\"], \"y\": [\"Install MP\", \"Install MP\", \"Install MP\", \"Install MP\", null, \"Install MP\", \"Install MP\", \"Install MP\", \"Install MP\", null, \"Install MP\", \"Install MP\", \"Install MP\", \"Install MP\", null, \"Install MP\", \"Install MP\", \"Install MP\", \"Install MP\", null, \"Install MP\", \"Install MP\", \"Install MP\", \"Install MP\", null]}, {\"connectgaps\": false, \"hoverinfo\": \"y+name\", \"line\": {\"color\": \"rgb(58,230,19)\", \"width\": 10}, \"mode\": \"lines\", \"name\": \"single run while\", \"type\": \"scatter\", \"x\": [\"1970-01-01T00:00:00\", \"1970-01-01T00:00:00\", \"1970-01-01T00:35:25.649183\", \"1970-01-01T00:35:25.649183\", \"1970-01-01T00:35:25.649183\", \"1970-01-01T00:35:25.649183\", \"1970-01-01T00:35:25.649183\", \"1970-01-01T01:10:51.298365\", \"1970-01-01T01:10:51.298365\", \"1970-01-01T01:10:51.298365\", \"1970-01-01T01:10:51.298365\", \"1970-01-01T01:10:51.298365\", \"1970-01-01T01:46:16.947548\", \"1970-01-01T01:46:16.947548\", \"1970-01-01T01:46:16.947548\", \"1970-01-01T01:46:16.947548\", \"1970-01-01T01:46:16.947548\", \"1970-01-01T02:21:42.596730\", \"1970-01-01T02:21:42.596730\", \"1970-01-01T02:21:42.596730\", \"1970-01-01T02:21:42.596730\", \"1970-01-01T02:21:42.596730\", \"1970-01-01T02:57:08.245913\", \"1970-01-01T02:57:08.245913\", \"1970-01-01T02:57:08.245913\", \"1970-01-01T02:21:42.596730\", \"1970-01-01T02:21:42.596730\", \"1970-01-01T02:57:08.245913\", \"1970-01-01T02:57:08.245913\", \"1970-01-01T02:57:08.245913\"], \"y\": [\"single run while\", \"single run while\", \"single run while\", \"single run while\", null, \"single run while\", \"single run while\", \"single run while\", \"single run while\", null, \"single run while\", \"single run while\", \"single run while\", \"single run while\", null, \"single run while\", \"single run while\", \"single run while\", \"single run while\", null, \"single run while\", \"single run while\", \"single run while\", \"single run while\", null, \"single run while\", \"single run while\", \"single run while\", \"single run while\", null]}, {\"connectgaps\": false, \"hoverinfo\": \"y+name\", \"line\": {\"color\": \"rgb(77,249,38)\", \"width\": 10}, \"mode\": \"lines\", \"name\": \"Single run process\", \"type\": \"scatter\", \"x\": [\"1970-01-01T00:00:00\", \"1970-01-01T00:00:00\", \"1970-01-01T00:15:42.824591\", \"1970-01-01T00:15:42.824591\", \"1970-01-01T00:15:42.824591\", \"1970-01-01T00:15:42.824591\", \"1970-01-01T00:15:42.824591\", \"1970-01-01T00:17:42.824591\", \"1970-01-01T00:17:42.824591\", \"1970-01-01T00:17:42.824591\", \"1970-01-01T00:17:42.824591\", \"1970-01-01T00:17:42.824591\", \"1970-01-01T00:33:25.649183\", \"1970-01-01T00:33:25.649183\", \"1970-01-01T00:33:25.649183\", \"1970-01-01T00:33:25.649183\", \"1970-01-01T00:33:25.649183\", \"1970-01-01T00:35:25.649183\", \"1970-01-01T00:35:25.649183\", \"1970-01-01T00:35:25.649183\", \"1970-01-01T00:33:25.649183\", \"1970-01-01T00:33:25.649183\", \"1970-01-01T00:35:25.649183\", \"1970-01-01T00:35:25.649183\", \"1970-01-01T00:35:25.649183\", \"1970-01-01T00:35:25.649183\", \"1970-01-01T00:35:25.649183\", \"1970-01-01T00:51:08.473774\", \"1970-01-01T00:51:08.473774\", \"1970-01-01T00:51:08.473774\", \"1970-01-01T00:51:08.473774\", \"1970-01-01T00:51:08.473774\", \"1970-01-01T00:53:08.473774\", \"1970-01-01T00:53:08.473774\", \"1970-01-01T00:53:08.473774\", \"1970-01-01T00:53:08.473774\", \"1970-01-01T00:53:08.473774\", \"1970-01-01T01:08:51.298365\", \"1970-01-01T01:08:51.298365\", \"1970-01-01T01:08:51.298365\", \"1970-01-01T01:08:51.298365\", \"1970-01-01T01:08:51.298365\", \"1970-01-01T01:10:51.298365\", \"1970-01-01T01:10:51.298365\", \"1970-01-01T01:10:51.298365\", \"1970-01-01T01:08:51.298365\", \"1970-01-01T01:08:51.298365\", \"1970-01-01T01:10:51.298365\", \"1970-01-01T01:10:51.298365\", \"1970-01-01T01:10:51.298365\", \"1970-01-01T01:10:51.298365\", \"1970-01-01T01:10:51.298365\", \"1970-01-01T01:26:34.122956\", \"1970-01-01T01:26:34.122956\", \"1970-01-01T01:26:34.122956\", \"1970-01-01T01:26:34.122956\", \"1970-01-01T01:26:34.122956\", \"1970-01-01T01:28:34.122956\", \"1970-01-01T01:28:34.122956\", \"1970-01-01T01:28:34.122956\", \"1970-01-01T01:28:34.122956\", \"1970-01-01T01:28:34.122956\", \"1970-01-01T01:44:16.947548\", \"1970-01-01T01:44:16.947548\", \"1970-01-01T01:44:16.947548\", \"1970-01-01T01:44:16.947548\", \"1970-01-01T01:44:16.947548\", \"1970-01-01T01:46:16.947548\", \"1970-01-01T01:46:16.947548\", \"1970-01-01T01:46:16.947548\", \"1970-01-01T01:44:16.947548\", \"1970-01-01T01:44:16.947548\", \"1970-01-01T01:46:16.947548\", \"1970-01-01T01:46:16.947548\", \"1970-01-01T01:46:16.947548\", \"1970-01-01T01:46:16.947548\", \"1970-01-01T01:46:16.947548\", \"1970-01-01T02:01:59.772139\", \"1970-01-01T02:01:59.772139\", \"1970-01-01T02:01:59.772139\", \"1970-01-01T02:01:59.772139\", \"1970-01-01T02:01:59.772139\", \"1970-01-01T02:03:59.772139\", \"1970-01-01T02:03:59.772139\", \"1970-01-01T02:03:59.772139\", \"1970-01-01T02:03:59.772139\", \"1970-01-01T02:03:59.772139\", \"1970-01-01T02:19:42.596730\", \"1970-01-01T02:19:42.596730\", \"1970-01-01T02:19:42.596730\", \"1970-01-01T02:19:42.596730\", \"1970-01-01T02:19:42.596730\", \"1970-01-01T02:21:42.596730\", \"1970-01-01T02:21:42.596730\", \"1970-01-01T02:21:42.596730\", \"1970-01-01T02:19:42.596730\", \"1970-01-01T02:19:42.596730\", \"1970-01-01T02:21:42.596730\", \"1970-01-01T02:21:42.596730\", \"1970-01-01T02:21:42.596730\", \"1970-01-01T02:21:42.596730\", \"1970-01-01T02:21:42.596730\", \"1970-01-01T02:37:25.421321\", \"1970-01-01T02:37:25.421321\", \"1970-01-01T02:37:25.421321\", \"1970-01-01T02:37:25.421321\", \"1970-01-01T02:37:25.421321\", \"1970-01-01T02:39:25.421321\", \"1970-01-01T02:39:25.421321\", \"1970-01-01T02:39:25.421321\", \"1970-01-01T02:39:25.421321\", \"1970-01-01T02:39:25.421321\", \"1970-01-01T02:55:08.245913\", \"1970-01-01T02:55:08.245913\", \"1970-01-01T02:55:08.245913\", \"1970-01-01T02:55:08.245913\", \"1970-01-01T02:55:08.245913\", \"1970-01-01T02:57:08.245913\", \"1970-01-01T02:57:08.245913\", \"1970-01-01T02:57:08.245913\", \"1970-01-01T02:55:08.245913\", \"1970-01-01T02:55:08.245913\", \"1970-01-01T02:57:08.245913\", \"1970-01-01T02:57:08.245913\", \"1970-01-01T02:57:08.245913\"], \"y\": [\"Single run process\", \"Single run process\", \"Single run process\", \"Single run process\", null, \"Single run process\", \"Single run process\", \"Single run process\", \"Single run process\", null, \"Single run process\", \"Single run process\", \"Single run process\", \"Single run process\", null, \"Single run process\", \"Single run process\", \"Single run process\", \"Single run process\", null, \"Single run process\", \"Single run process\", \"Single run process\", \"Single run process\", null, \"Single run process\", \"Single run process\", \"Single run process\", \"Single run process\", null, \"Single run process\", \"Single run process\", \"Single run process\", \"Single run process\", null, \"Single run process\", \"Single run process\", \"Single run process\", \"Single run process\", null, \"Single run process\", \"Single run process\", \"Single run process\", \"Single run process\", null, \"Single run process\", \"Single run process\", \"Single run process\", \"Single run process\", null, \"Single run process\", \"Single run process\", \"Single run process\", \"Single run process\", null, \"Single run process\", \"Single run process\", \"Single run process\", \"Single run process\", null, \"Single run process\", \"Single run process\", \"Single run process\", \"Single run process\", null, \"Single run process\", \"Single run process\", \"Single run process\", \"Single run process\", null, \"Single run process\", \"Single run process\", \"Single run process\", \"Single run process\", null, \"Single run process\", \"Single run process\", \"Single run process\", \"Single run process\", null, \"Single run process\", \"Single run process\", \"Single run process\", \"Single run process\", null, \"Single run process\", \"Single run process\", \"Single run process\", \"Single run process\", null, \"Single run process\", \"Single run process\", \"Single run process\", \"Single run process\", null, \"Single run process\", \"Single run process\", \"Single run process\", \"Single run process\", null, \"Single run process\", \"Single run process\", \"Single run process\", \"Single run process\", null, \"Single run process\", \"Single run process\", \"Single run process\", \"Single run process\", null, \"Single run process\", \"Single run process\", \"Single run process\", \"Single run process\", null, \"Single run process\", \"Single run process\", \"Single run process\", \"Single run process\", null, \"Single run process\", \"Single run process\", \"Single run process\", \"Single run process\", null]}, {\"connectgaps\": false, \"hoverinfo\": \"y+name\", \"line\": {\"color\": \"rgb(96,12,57)\", \"width\": 10}, \"mode\": \"lines\", \"name\": \"sailing empty\", \"type\": \"scatter\", \"x\": [\"1970-01-01T00:00:00\", \"1970-01-01T00:00:00\", \"1970-01-01T00:15:42.824591\", \"1970-01-01T00:15:42.824591\", \"1970-01-01T00:15:42.824591\", \"1970-01-01T00:00:00\", \"1970-01-01T00:00:00\", \"1970-01-01T00:00:00\", \"1970-01-01T00:00:00\", \"1970-01-01T00:00:00\", \"1970-01-01T00:35:25.649183\", \"1970-01-01T00:35:25.649183\", \"1970-01-01T00:51:08.473774\", \"1970-01-01T00:51:08.473774\", \"1970-01-01T00:51:08.473774\", \"1970-01-01T01:10:51.298365\", \"1970-01-01T01:10:51.298365\", \"1970-01-01T01:26:34.122956\", \"1970-01-01T01:26:34.122956\", \"1970-01-01T01:26:34.122956\", \"1970-01-01T01:46:16.947548\", \"1970-01-01T01:46:16.947548\", \"1970-01-01T02:01:59.772139\", \"1970-01-01T02:01:59.772139\", \"1970-01-01T02:01:59.772139\", \"1970-01-01T02:21:42.596730\", \"1970-01-01T02:21:42.596730\", \"1970-01-01T02:37:25.421321\", \"1970-01-01T02:37:25.421321\", \"1970-01-01T02:37:25.421321\"], \"y\": [\"sailing empty\", \"sailing empty\", \"sailing empty\", \"sailing empty\", null, \"sailing empty\", \"sailing empty\", \"sailing empty\", \"sailing empty\", null, \"sailing empty\", \"sailing empty\", \"sailing empty\", \"sailing empty\", null, \"sailing empty\", \"sailing empty\", \"sailing empty\", \"sailing empty\", null, \"sailing empty\", \"sailing empty\", \"sailing empty\", \"sailing empty\", null, \"sailing empty\", \"sailing empty\", \"sailing empty\", \"sailing empty\", null]}, {\"connectgaps\": false, \"hoverinfo\": \"y+name\", \"line\": {\"color\": \"rgb(115,31,76)\", \"width\": 10}, \"mode\": \"lines\", \"name\": \"Load MP\", \"type\": \"scatter\", \"x\": [\"1970-01-01T00:15:42.824591\", \"1970-01-01T00:15:42.824591\", \"1970-01-01T00:17:42.824591\", \"1970-01-01T00:17:42.824591\", \"1970-01-01T00:17:42.824591\", \"1970-01-01T00:51:08.473774\", \"1970-01-01T00:51:08.473774\", \"1970-01-01T00:53:08.473774\", \"1970-01-01T00:53:08.473774\", \"1970-01-01T00:53:08.473774\", \"1970-01-01T01:26:34.122956\", \"1970-01-01T01:26:34.122956\", \"1970-01-01T01:28:34.122956\", \"1970-01-01T01:28:34.122956\", \"1970-01-01T01:28:34.122956\", \"1970-01-01T02:01:59.772139\", \"1970-01-01T02:01:59.772139\", \"1970-01-01T02:03:59.772139\", \"1970-01-01T02:03:59.772139\", \"1970-01-01T02:03:59.772139\", \"1970-01-01T02:37:25.421321\", \"1970-01-01T02:37:25.421321\", \"1970-01-01T02:39:25.421321\", \"1970-01-01T02:39:25.421321\", \"1970-01-01T02:39:25.421321\"], \"y\": [\"Load MP\", \"Load MP\", \"Load MP\", \"Load MP\", null, \"Load MP\", \"Load MP\", \"Load MP\", \"Load MP\", null, \"Load MP\", \"Load MP\", \"Load MP\", \"Load MP\", null, \"Load MP\", \"Load MP\", \"Load MP\", \"Load MP\", null, \"Load MP\", \"Load MP\", \"Load MP\", \"Load MP\", null]}, {\"connectgaps\": false, \"hoverinfo\": \"y+name\", \"line\": {\"color\": \"rgb(134,50,95)\", \"width\": 10}, \"mode\": \"lines\", \"name\": \"sailing filled\", \"type\": \"scatter\", \"x\": [\"1970-01-01T00:17:42.824591\", \"1970-01-01T00:17:42.824591\", \"1970-01-01T00:33:25.649183\", \"1970-01-01T00:33:25.649183\", \"1970-01-01T00:33:25.649183\", \"1970-01-01T00:53:08.473774\", \"1970-01-01T00:53:08.473774\", \"1970-01-01T01:08:51.298365\", \"1970-01-01T01:08:51.298365\", \"1970-01-01T01:08:51.298365\", \"1970-01-01T01:28:34.122956\", \"1970-01-01T01:28:34.122956\", \"1970-01-01T01:44:16.947548\", \"1970-01-01T01:44:16.947548\", \"1970-01-01T01:44:16.947548\", \"1970-01-01T02:03:59.772139\", \"1970-01-01T02:03:59.772139\", \"1970-01-01T02:19:42.596730\", \"1970-01-01T02:19:42.596730\", \"1970-01-01T02:19:42.596730\", \"1970-01-01T02:39:25.421321\", \"1970-01-01T02:39:25.421321\", \"1970-01-01T02:55:08.245913\", \"1970-01-01T02:55:08.245913\", \"1970-01-01T02:55:08.245913\"], \"y\": [\"sailing filled\", \"sailing filled\", \"sailing filled\", \"sailing filled\", null, \"sailing filled\", \"sailing filled\", \"sailing filled\", \"sailing filled\", null, \"sailing filled\", \"sailing filled\", \"sailing filled\", \"sailing filled\", null, \"sailing filled\", \"sailing filled\", \"sailing filled\", \"sailing filled\", null, \"sailing filled\", \"sailing filled\", \"sailing filled\", \"sailing filled\", null]}, {\"connectgaps\": false, \"hoverinfo\": \"y+name\", \"line\": {\"color\": \"rgb(153,69,114)\", \"width\": 10}, \"mode\": \"lines\", \"name\": \"Transfer MP\", \"type\": \"scatter\", \"x\": [\"1970-01-01T00:33:25.649183\", \"1970-01-01T00:33:25.649183\", \"1970-01-01T00:35:25.649183\", \"1970-01-01T00:35:25.649183\", \"1970-01-01T00:35:25.649183\", \"1970-01-01T01:08:51.298365\", \"1970-01-01T01:08:51.298365\", \"1970-01-01T01:10:51.298365\", \"1970-01-01T01:10:51.298365\", \"1970-01-01T01:10:51.298365\", \"1970-01-01T01:44:16.947548\", \"1970-01-01T01:44:16.947548\", \"1970-01-01T01:46:16.947548\", \"1970-01-01T01:46:16.947548\", \"1970-01-01T01:46:16.947548\", \"1970-01-01T02:19:42.596730\", \"1970-01-01T02:19:42.596730\", \"1970-01-01T02:21:42.596730\", \"1970-01-01T02:21:42.596730\", \"1970-01-01T02:21:42.596730\", \"1970-01-01T02:55:08.245913\", \"1970-01-01T02:55:08.245913\", \"1970-01-01T02:57:08.245913\", \"1970-01-01T02:57:08.245913\", \"1970-01-01T02:57:08.245913\"], \"y\": [\"Transfer MP\", \"Transfer MP\", \"Transfer MP\", \"Transfer MP\", null, \"Transfer MP\", \"Transfer MP\", \"Transfer MP\", \"Transfer MP\", null, \"Transfer MP\", \"Transfer MP\", \"Transfer MP\", \"Transfer MP\", null, \"Transfer MP\", \"Transfer MP\", \"Transfer MP\", \"Transfer MP\", null, \"Transfer MP\", \"Transfer MP\", \"Transfer MP\", \"Transfer MP\", null]}],                        {\"hovermode\": \"closest\", \"legend\": {\"orientation\": \"h\", \"x\": 0, \"y\": -0.2}, \"template\": {\"data\": {\"bar\": [{\"error_x\": {\"color\": \"#2a3f5f\"}, \"error_y\": {\"color\": \"#2a3f5f\"}, \"marker\": {\"line\": {\"color\": \"#E5ECF6\", \"width\": 0.5}}, \"type\": \"bar\"}], \"barpolar\": [{\"marker\": {\"line\": {\"color\": \"#E5ECF6\", \"width\": 0.5}}, \"type\": \"barpolar\"}], \"carpet\": [{\"aaxis\": {\"endlinecolor\": \"#2a3f5f\", \"gridcolor\": \"white\", \"linecolor\": \"white\", \"minorgridcolor\": \"white\", \"startlinecolor\": \"#2a3f5f\"}, \"baxis\": {\"endlinecolor\": \"#2a3f5f\", \"gridcolor\": \"white\", \"linecolor\": \"white\", \"minorgridcolor\": \"white\", \"startlinecolor\": \"#2a3f5f\"}, \"type\": \"carpet\"}], \"choropleth\": [{\"colorbar\": {\"outlinewidth\": 0, \"ticks\": \"\"}, \"type\": \"choropleth\"}], \"contour\": [{\"colorbar\": {\"outlinewidth\": 0, \"ticks\": \"\"}, \"colorscale\": [[0.0, \"#0d0887\"], [0.1111111111111111, \"#46039f\"], [0.2222222222222222, \"#7201a8\"], [0.3333333333333333, \"#9c179e\"], [0.4444444444444444, \"#bd3786\"], [0.5555555555555556, \"#d8576b\"], [0.6666666666666666, \"#ed7953\"], [0.7777777777777778, \"#fb9f3a\"], [0.8888888888888888, \"#fdca26\"], [1.0, \"#f0f921\"]], \"type\": \"contour\"}], \"contourcarpet\": [{\"colorbar\": {\"outlinewidth\": 0, \"ticks\": \"\"}, \"type\": \"contourcarpet\"}], \"heatmap\": [{\"colorbar\": {\"outlinewidth\": 0, \"ticks\": \"\"}, \"colorscale\": [[0.0, \"#0d0887\"], [0.1111111111111111, \"#46039f\"], [0.2222222222222222, \"#7201a8\"], [0.3333333333333333, \"#9c179e\"], [0.4444444444444444, \"#bd3786\"], [0.5555555555555556, \"#d8576b\"], [0.6666666666666666, \"#ed7953\"], [0.7777777777777778, \"#fb9f3a\"], [0.8888888888888888, \"#fdca26\"], [1.0, \"#f0f921\"]], \"type\": \"heatmap\"}], \"heatmapgl\": [{\"colorbar\": {\"outlinewidth\": 0, \"ticks\": \"\"}, \"colorscale\": [[0.0, \"#0d0887\"], [0.1111111111111111, \"#46039f\"], [0.2222222222222222, \"#7201a8\"], [0.3333333333333333, \"#9c179e\"], [0.4444444444444444, \"#bd3786\"], [0.5555555555555556, \"#d8576b\"], [0.6666666666666666, \"#ed7953\"], [0.7777777777777778, \"#fb9f3a\"], [0.8888888888888888, \"#fdca26\"], [1.0, \"#f0f921\"]], \"type\": \"heatmapgl\"}], \"histogram\": [{\"marker\": {\"colorbar\": {\"outlinewidth\": 0, \"ticks\": \"\"}}, \"type\": \"histogram\"}], \"histogram2d\": [{\"colorbar\": {\"outlinewidth\": 0, \"ticks\": \"\"}, \"colorscale\": [[0.0, \"#0d0887\"], [0.1111111111111111, \"#46039f\"], [0.2222222222222222, \"#7201a8\"], [0.3333333333333333, \"#9c179e\"], [0.4444444444444444, \"#bd3786\"], [0.5555555555555556, \"#d8576b\"], [0.6666666666666666, \"#ed7953\"], [0.7777777777777778, \"#fb9f3a\"], [0.8888888888888888, \"#fdca26\"], [1.0, \"#f0f921\"]], \"type\": \"histogram2d\"}], \"histogram2dcontour\": [{\"colorbar\": {\"outlinewidth\": 0, \"ticks\": \"\"}, \"colorscale\": [[0.0, \"#0d0887\"], [0.1111111111111111, \"#46039f\"], [0.2222222222222222, \"#7201a8\"], [0.3333333333333333, \"#9c179e\"], [0.4444444444444444, \"#bd3786\"], [0.5555555555555556, \"#d8576b\"], [0.6666666666666666, \"#ed7953\"], [0.7777777777777778, \"#fb9f3a\"], [0.8888888888888888, \"#fdca26\"], [1.0, \"#f0f921\"]], \"type\": \"histogram2dcontour\"}], \"mesh3d\": [{\"colorbar\": {\"outlinewidth\": 0, \"ticks\": \"\"}, \"type\": \"mesh3d\"}], \"parcoords\": [{\"line\": {\"colorbar\": {\"outlinewidth\": 0, \"ticks\": \"\"}}, \"type\": \"parcoords\"}], \"pie\": [{\"automargin\": true, \"type\": \"pie\"}], \"scatter\": [{\"marker\": {\"colorbar\": {\"outlinewidth\": 0, \"ticks\": \"\"}}, \"type\": \"scatter\"}], \"scatter3d\": [{\"line\": {\"colorbar\": {\"outlinewidth\": 0, \"ticks\": \"\"}}, \"marker\": {\"colorbar\": {\"outlinewidth\": 0, \"ticks\": \"\"}}, \"type\": \"scatter3d\"}], \"scattercarpet\": [{\"marker\": {\"colorbar\": {\"outlinewidth\": 0, \"ticks\": \"\"}}, \"type\": \"scattercarpet\"}], \"scattergeo\": [{\"marker\": {\"colorbar\": {\"outlinewidth\": 0, \"ticks\": \"\"}}, \"type\": \"scattergeo\"}], \"scattergl\": [{\"marker\": {\"colorbar\": {\"outlinewidth\": 0, \"ticks\": \"\"}}, \"type\": \"scattergl\"}], \"scattermapbox\": [{\"marker\": {\"colorbar\": {\"outlinewidth\": 0, \"ticks\": \"\"}}, \"type\": \"scattermapbox\"}], \"scatterpolar\": [{\"marker\": {\"colorbar\": {\"outlinewidth\": 0, \"ticks\": \"\"}}, \"type\": \"scatterpolar\"}], \"scatterpolargl\": [{\"marker\": {\"colorbar\": {\"outlinewidth\": 0, \"ticks\": \"\"}}, \"type\": \"scatterpolargl\"}], \"scatterternary\": [{\"marker\": {\"colorbar\": {\"outlinewidth\": 0, \"ticks\": \"\"}}, \"type\": \"scatterternary\"}], \"surface\": [{\"colorbar\": {\"outlinewidth\": 0, \"ticks\": \"\"}, \"colorscale\": [[0.0, \"#0d0887\"], [0.1111111111111111, \"#46039f\"], [0.2222222222222222, \"#7201a8\"], [0.3333333333333333, \"#9c179e\"], [0.4444444444444444, \"#bd3786\"], [0.5555555555555556, \"#d8576b\"], [0.6666666666666666, \"#ed7953\"], [0.7777777777777778, \"#fb9f3a\"], [0.8888888888888888, \"#fdca26\"], [1.0, \"#f0f921\"]], \"type\": \"surface\"}], \"table\": [{\"cells\": {\"fill\": {\"color\": \"#EBF0F8\"}, \"line\": {\"color\": \"white\"}}, \"header\": {\"fill\": {\"color\": \"#C8D4E3\"}, \"line\": {\"color\": \"white\"}}, \"type\": \"table\"}]}, \"layout\": {\"annotationdefaults\": {\"arrowcolor\": \"#2a3f5f\", \"arrowhead\": 0, \"arrowwidth\": 1}, \"autotypenumbers\": \"strict\", \"coloraxis\": {\"colorbar\": {\"outlinewidth\": 0, \"ticks\": \"\"}}, \"colorscale\": {\"diverging\": [[0, \"#8e0152\"], [0.1, \"#c51b7d\"], [0.2, \"#de77ae\"], [0.3, \"#f1b6da\"], [0.4, \"#fde0ef\"], [0.5, \"#f7f7f7\"], [0.6, \"#e6f5d0\"], [0.7, \"#b8e186\"], [0.8, \"#7fbc41\"], [0.9, \"#4d9221\"], [1, \"#276419\"]], \"sequential\": [[0.0, \"#0d0887\"], [0.1111111111111111, \"#46039f\"], [0.2222222222222222, \"#7201a8\"], [0.3333333333333333, \"#9c179e\"], [0.4444444444444444, \"#bd3786\"], [0.5555555555555556, \"#d8576b\"], [0.6666666666666666, \"#ed7953\"], [0.7777777777777778, \"#fb9f3a\"], [0.8888888888888888, \"#fdca26\"], [1.0, \"#f0f921\"]], \"sequentialminus\": [[0.0, \"#0d0887\"], [0.1111111111111111, \"#46039f\"], [0.2222222222222222, \"#7201a8\"], [0.3333333333333333, \"#9c179e\"], [0.4444444444444444, \"#bd3786\"], [0.5555555555555556, \"#d8576b\"], [0.6666666666666666, \"#ed7953\"], [0.7777777777777778, \"#fb9f3a\"], [0.8888888888888888, \"#fdca26\"], [1.0, \"#f0f921\"]]}, \"colorway\": [\"#636efa\", \"#EF553B\", \"#00cc96\", \"#ab63fa\", \"#FFA15A\", \"#19d3f3\", \"#FF6692\", \"#B6E880\", \"#FF97FF\", \"#FECB52\"], \"font\": {\"color\": \"#2a3f5f\"}, \"geo\": {\"bgcolor\": \"white\", \"lakecolor\": \"white\", \"landcolor\": \"#E5ECF6\", \"showlakes\": true, \"showland\": true, \"subunitcolor\": \"white\"}, \"hoverlabel\": {\"align\": \"left\"}, \"hovermode\": \"closest\", \"mapbox\": {\"style\": \"light\"}, \"paper_bgcolor\": \"white\", \"plot_bgcolor\": \"#E5ECF6\", \"polar\": {\"angularaxis\": {\"gridcolor\": \"white\", \"linecolor\": \"white\", \"ticks\": \"\"}, \"bgcolor\": \"#E5ECF6\", \"radialaxis\": {\"gridcolor\": \"white\", \"linecolor\": \"white\", \"ticks\": \"\"}}, \"scene\": {\"xaxis\": {\"backgroundcolor\": \"#E5ECF6\", \"gridcolor\": \"white\", \"gridwidth\": 2, \"linecolor\": \"white\", \"showbackground\": true, \"ticks\": \"\", \"zerolinecolor\": \"white\"}, \"yaxis\": {\"backgroundcolor\": \"#E5ECF6\", \"gridcolor\": \"white\", \"gridwidth\": 2, \"linecolor\": \"white\", \"showbackground\": true, \"ticks\": \"\", \"zerolinecolor\": \"white\"}, \"zaxis\": {\"backgroundcolor\": \"#E5ECF6\", \"gridcolor\": \"white\", \"gridwidth\": 2, \"linecolor\": \"white\", \"showbackground\": true, \"ticks\": \"\", \"zerolinecolor\": \"white\"}}, \"shapedefaults\": {\"line\": {\"color\": \"#2a3f5f\"}}, \"ternary\": {\"aaxis\": {\"gridcolor\": \"white\", \"linecolor\": \"white\", \"ticks\": \"\"}, \"baxis\": {\"gridcolor\": \"white\", \"linecolor\": \"white\", \"ticks\": \"\"}, \"bgcolor\": \"#E5ECF6\", \"caxis\": {\"gridcolor\": \"white\", \"linecolor\": \"white\", \"ticks\": \"\"}}, \"title\": {\"x\": 0.05}, \"xaxis\": {\"automargin\": true, \"gridcolor\": \"white\", \"linecolor\": \"white\", \"ticks\": \"\", \"title\": {\"standoff\": 15}, \"zerolinecolor\": \"white\", \"zerolinewidth\": 2}, \"yaxis\": {\"automargin\": true, \"gridcolor\": \"white\", \"linecolor\": \"white\", \"ticks\": \"\", \"title\": {\"standoff\": 15}, \"zerolinecolor\": \"white\", \"zerolinewidth\": 2}}}, \"title\": {\"text\": \"Vessel planning\"}, \"xaxis\": {\"range\": [\"1970-01-01T00:00:00\", \"1970-01-01T03:00:08.245913\"], \"title\": {\"font\": {\"color\": \"#7f7f7f\", \"family\": \"Courier New, monospace\", \"size\": 18}, \"text\": \"Time\"}}, \"yaxis\": {\"title\": {\"font\": {\"color\": \"#7f7f7f\", \"family\": \"Courier New, monospace\", \"size\": 18}, \"text\": \"Vessels\"}}},                        {\"responsive\": true}                    ).then(function(){\n",
       "                            \n",
       "var gd = document.getElementById('557527f8-2d3b-493c-b2c9-49ed92e8fab7');\n",
       "var x = new MutationObserver(function (mutations, observer) {{\n",
       "        var display = window.getComputedStyle(gd).display;\n",
       "        if (!display || display === 'none') {{\n",
       "            console.log([gd, 'removed!']);\n",
       "            Plotly.purge(gd);\n",
       "            observer.disconnect();\n",
       "        }}\n",
       "}});\n",
       "\n",
       "// Listen for the removal of the full notebook cells\n",
       "var notebookContainer = gd.closest('#notebook-container');\n",
       "if (notebookContainer) {{\n",
       "    x.observe(notebookContainer, {childList: true});\n",
       "}}\n",
       "\n",
       "// Listen for the clearing of the current output cell\n",
       "var outputEl = gd.closest('.output');\n",
       "if (outputEl) {{\n",
       "    x.observe(outputEl, {childList: true});\n",
       "}}\n",
       "\n",
       "                        })                };                });            </script>        </div>"
      ]
     },
     "metadata": {},
     "output_type": "display_data"
    }
   ],
   "source": [
    "plot.vessel_planning([*model.get_subprocesses(installer_proc), *model.get_subprocesses(vessel_proc)])"
   ]
  },
  {
   "cell_type": "code",
   "execution_count": 8,
   "metadata": {},
   "outputs": [
    {
     "data": {
      "image/png": "[encoded data removed]",
      "text/plain": [
       "<Figure size 432x288 with 1 Axes>"
      ]
     },
     "metadata": {
      "needs_background": "light"
     },
     "output_type": "display_data"
    },
    {
     "data": {
      "image/png": "[encoded data removed]",
      "text/plain": [
       "<Figure size 432x288 with 1 Axes>"
      ]
     },
     "metadata": {
      "needs_background": "light"
     },
     "output_type": "display_data"
    }
   ],
   "source": [
    "fig = plot.get_step_chart([from_site, to_site])\n",
    "fig = plot.get_step_chart([vessel, installer])"
   ]
  },
  {
   "cell_type": "code",
   "execution_count": null,
   "metadata": {},
   "outputs": [],
   "source": []
  },
  {
   "cell_type": "code",
   "execution_count": null,
   "metadata": {},
   "outputs": [],
   "source": []
  }
 ],
 "metadata": {
  "kernelspec": {
   "display_name": "Python 3",
   "language": "python",
   "name": "python3"
  },
  "language_info": {
   "codemirror_mode": {
    "name": "ipython",
    "version": 3
   },
   "file_extension": ".py",
   "mimetype": "text/x-python",
   "name": "python",
   "nbconvert_exporter": "python",
   "pygments_lexer": "ipython3",
   "version": "3.7.3"
  }
 },
 "nbformat": 4,
 "nbformat_minor": 2
}
