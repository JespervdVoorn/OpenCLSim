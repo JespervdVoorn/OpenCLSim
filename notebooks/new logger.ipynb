{
 "cells": [
  {
   "cell_type": "code",
   "execution_count": 1,
   "metadata": {},
   "outputs": [
    {
     "data": {
      "text/plain": [
       "{'c': 3, 'lat': 2, 'lon': 1}"
      ]
     },
     "execution_count": 1,
     "metadata": {},
     "output_type": "execute_result"
    }
   ],
   "source": [
    "class Log:    \n",
    "    def __init__(self, *args, **kwargs):\n",
    "        super().__init__(*args, **kwargs)\n",
    "        \"\"\"Initialization\"\"\"\n",
    "        self.log = {\n",
    "            \"Message\": [],\n",
    "            \"Timestamp\": [],\n",
    "            \"Value\": [],\n",
    "            \"Geometry\": [],\n",
    "            \"ActivityID\": [],\n",
    "            \"ActivityState\": [],\n",
    "            \"ObjectState\":[],\n",
    "        }\n",
    "        \n",
    "    \n",
    "    def log_entry(\n",
    "        self, log, t, ActivityID,simulation_object, ActivityState=\"UNKNOWN\"\n",
    "    ):\n",
    "        self.log[\"Timestamp\"].append(datetime.datetime.fromtimestamp(t))\n",
    "        self.log[\"ActivityID\"].append(ActivityID)\n",
    "        self.log[\"ActivityState\"].append(ActivityState.name)\n",
    "        self.log[\"ObjectState\"].append(self.get_state2(simulation_object))\n",
    "          \n",
    "        \n",
    "        \n",
    "class Locatable():\n",
    "    \n",
    "        def __init__(self, lat , lon, *args, **kwargs):\n",
    "            super().__init__(*args, **kwargs)\n",
    "            \n",
    "            self.lon = lat\n",
    "            self.lat = lon\n",
    "            \n",
    "        def get_state2(self):\n",
    "            state = {}\n",
    "            if hasattr(super(), 'get_state2'):\n",
    "                state = super().get_state2()\n",
    "                \n",
    "            state.update({\"lat\": self.lat, \"lon\":self.lon})\n",
    "            \n",
    "            return state\n",
    "\n",
    "            \n",
    "class C():\n",
    "    \n",
    "        def __init__(self, c, *args, **kwargs):\n",
    "            super().__init__(*args, **kwargs)\n",
    "            \n",
    "            self.c = c\n",
    "            \n",
    "        def get_state2(self):\n",
    "            state = {}\n",
    "            if hasattr(super(), 'get_state2'):\n",
    "                state = super().get_state2()\n",
    "                \n",
    "            state.update({\"c\":self.c})\n",
    "            \n",
    "            return state\n",
    "            \n",
    "            \n",
    "            \n",
    "vessel = type(\"vessel\", ( Log, Locatable, C), {})\n",
    "ves = vessel(1,2,3)\n",
    "\n",
    "ves.get_state2()"
   ]
  },
  {
   "cell_type": "code",
   "execution_count": null,
   "metadata": {},
   "outputs": [],
   "source": []
  },
  {
   "cell_type": "code",
   "execution_count": null,
   "metadata": {},
   "outputs": [],
   "source": []
  },
  {
   "cell_type": "code",
   "execution_count": null,
   "metadata": {},
   "outputs": [],
   "source": []
  },
  {
   "cell_type": "code",
   "execution_count": null,
   "metadata": {},
   "outputs": [],
   "source": []
  }
 ],
 "metadata": {
  "kernelspec": {
   "display_name": "Python 3",
   "language": "python",
   "name": "python3"
  },
  "language_info": {
   "codemirror_mode": {
    "name": "ipython",
    "version": 3
   },
   "file_extension": ".py",
   "mimetype": "text/x-python",
   "name": "python",
   "nbconvert_exporter": "python",
   "pygments_lexer": "ipython3",
   "version": "3.7.3"
  }
 },
 "nbformat": 4,
 "nbformat_minor": 4
}
