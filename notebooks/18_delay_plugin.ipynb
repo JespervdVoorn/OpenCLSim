{
 "cells": [
  {
   "cell_type": "code",
   "execution_count": 1,
   "metadata": {},
   "outputs": [],
   "source": [
    "import datetime, time\n",
    "import simpy\n",
    "\n",
    "import shapely.geometry\n",
    "\n",
    "\n",
    "import pandas as pd\n",
    "import openclsim.core as core\n",
    "import openclsim.model as model\n",
    "import openclsim.plot as plot\n",
    "import openclsim.plugins as plugins\n",
    "\n",
    "# setup environment\n",
    "simulation_start = 0\n",
    "my_env = simpy.Environment(initial_time=simulation_start)\n",
    "registry = {}\n",
    "keep_resources = {}"
   ]
  },
  {
   "cell_type": "code",
   "execution_count": 2,
   "metadata": {},
   "outputs": [],
   "source": [
    "# The generic site class\n",
    "Site = type(\n",
    "    \"Site\",\n",
    "    (\n",
    "        core.Identifiable,  # Give it a name\n",
    "        core.Log,  # Allow logging of all discrete events\n",
    "        core.Locatable,  # Add coordinates to extract distance information and visualize\n",
    "        core.HasContainer,  # Add information on the material available at the site\n",
    "        core.HasResource,\n",
    "    ),  # Add information on serving equipment\n",
    "    {},\n",
    ")  # The dictionary is empty because the site type is generic\n",
    "\n",
    "# Information on the extraction site - the \"from site\" - the \"win locatie\"\n",
    "location_from_site = shapely.geometry.Point(4.18055556, 52.18664444)  # lon, lat\n",
    "\n",
    "data_from_site = {\n",
    "    \"env\": my_env,  # The simpy environment defined in the first cel\n",
    "    \"name\": \"Winlocatie\",  # The name of the site\n",
    "    \"ID\": \"6dbbbdf4-4589-11e9-a501-b469212bff5d\",  # For logging purposes\n",
    "    \"geometry\": location_from_site,  # The coordinates of the project site\n",
    "    \"capacity\": 12,  # The capacity of the site\n",
    "    \"level\": 12,\n",
    "}  # The actual volume of the site\n",
    "\n",
    "# Information on the dumping site - the \"to site\" - the \"dump locatie\"\n",
    "location_to_site = shapely.geometry.Point(4.25222222, 52.11428333)  # lon, lat\n",
    "\n",
    "data_to_site = {\n",
    "    \"env\": my_env,  # The simpy environment defined in the first cel\n",
    "    \"name\": \"Dumplocatie\",  # The name of the site\n",
    "    \"ID\": \"6dbbbdf5-4589-11e9-82b2-b469212bff5c\",  # For logging purposes\n",
    "    \"geometry\": location_to_site,  # The coordinates of the project site\n",
    "    \"capacity\": 12,  # The capacity of the site\n",
    "    \"level\": 0,\n",
    "}  # The actual volume of the site (empty of course)\n",
    "\n",
    "# The two objects used for the simulation\n",
    "from_site = Site(**data_from_site)\n",
    "to_site = Site(**data_to_site)"
   ]
  },
  {
   "cell_type": "code",
   "execution_count": 3,
   "metadata": {},
   "outputs": [],
   "source": [
    "# The generic class for an object that can move and transport (a TSHD for example)\n",
    "TransportProcessingResource = type(\n",
    "    \"TransportProcessingResource\",\n",
    "    (\n",
    "        core.Identifiable,  # Give it a name\n",
    "        core.Log,  # Allow logging of all discrete events\n",
    "        core.ContainerDependentMovable,  # A moving container, so capacity and location\n",
    "        core.Processor,  # Allow for loading and unloading\n",
    "        core.HasResource,  # Add information on serving equipment\n",
    "        core.LoadingFunction,  # Add a loading function\n",
    "        core.UnloadingFunction,  # Add an unloading function\n",
    "    ),\n",
    "    {},\n",
    ")\n",
    "\n",
    "# For more realistic simulation you might want to have speed dependent on the volume carried by the vessel\n",
    "def compute_v_provider(v_empty, v_full):\n",
    "    return lambda x: 10\n",
    "\n",
    "# TSHD variables\n",
    "data_hopper = {\n",
    "    \"env\": my_env,  # The simpy environment\n",
    "    \"name\": \"Hopper 01\",  # Name\n",
    "    \"ID\": \"6dbbbdf6-4589-11e9-95a2-b469212bff5b\",  # For logging purposes\n",
    "    \"geometry\": location_from_site,  # It starts at the \"from site\"\n",
    "    \"loading_rate\": 1,  # Loading rate\n",
    "    \"unloading_rate\": 1,  # Unloading rate\n",
    "    \"capacity\": 4,  # Capacity of the hopper - \"Beunvolume\"\n",
    "    \"compute_v\": compute_v_provider(5, 4.5),  # Variable speed\n",
    "}\n",
    "\n",
    "hopper = TransportProcessingResource(**data_hopper)"
   ]
  },
  {
   "cell_type": "markdown",
   "metadata": {},
   "source": [
    "## Definition of the activities"
   ]
  },
  {
   "cell_type": "code",
   "execution_count": 4,
   "metadata": {},
   "outputs": [],
   "source": [
    "DelaySequenceActivity =  type(\n",
    "    \"TestShiftActivity\",\n",
    "    (\n",
    "        plugins.HasDelayPlugin,\n",
    "        model.SequentialActivity,  # the order is critical!\n",
    "    ),\n",
    "    {},\n",
    ")\n",
    "\n",
    "DelayWhileActivity =  type(\n",
    "    \"TestShiftActivity\",\n",
    "    (\n",
    "        plugins.HasDelayPlugin,\n",
    "        model.WhileActivity,  # the order is critical!\n",
    "    ),\n",
    "    {},\n",
    ")\n",
    "\n",
    "DelayMoveActivity =  type(\n",
    "    \"TestMoveActivity\",\n",
    "    (\n",
    "        plugins.HasDelayPlugin,\n",
    "        model.MoveActivity,  # the order is critical!\n",
    "    ),\n",
    "    {},\n",
    ")\n",
    "\n",
    "\n",
    "DelayShiftActivity =  type(\n",
    "    \"TestShiftActivity\",\n",
    "    (\n",
    "        plugins.HasDelayPlugin,\n",
    "        model.ShiftAmountActivity,  # the order is critical!\n",
    "    ),\n",
    "    {},\n",
    ")\n",
    "\n",
    "DelayBasicActivity =  type(\n",
    "    \"TestShiftActivity\",\n",
    "    (\n",
    "        plugins.HasDelayPlugin,\n",
    "        model.BasicActivity,  # the order is critical!\n",
    "    ),\n",
    "    {},\n",
    ")"
   ]
  },
  {
   "cell_type": "code",
   "execution_count": 5,
   "metadata": {},
   "outputs": [],
   "source": [
    "single_run = []\n",
    "\n",
    "move_activity_to_harbor_data = {\n",
    "    \"env\": my_env,  # The simpy environment defined in the first cel\n",
    "    \"name\": \"sailing empty\",  # We are moving soil\n",
    "    \"ID\": \"6dbbbdf7-4589-11e9-bf3b-b469212bff5d\",  # For logging purposes\n",
    "    \"registry\": registry,\n",
    "    \"mover\": hopper,\n",
    "    \"destination\": from_site,\n",
    "    \"postpone_start\": True,\n",
    "    \"delay_percentage\":10,\n",
    "}\n",
    "single_run.append(DelayMoveActivity(**move_activity_to_harbor_data))\n",
    "\n",
    "shift_amount_activity_loading_data = {\n",
    "    \"env\": my_env,  # The simpy environment defined in the first cel\n",
    "    \"name\": \"Transfer MP\",  # We are moving soil\n",
    "    \"ID\": \"6dbbbdf7-4589-11e9-bf3b-b469212bff52\",  # For logging purposes\n",
    "    \"registry\": registry,\n",
    "    \"processor\": hopper,\n",
    "    \"origin\": from_site,\n",
    "    \"destination\": hopper,\n",
    "    \"amount\": 4,\n",
    "    \"duration\": 10,\n",
    "    \"postpone_start\": True,\n",
    "    \"delay_percentage\":10,\n",
    "}\n",
    "single_run.append(DelayShiftActivity(**shift_amount_activity_loading_data))\n",
    "\n",
    "move_activity_to_site_data = {\n",
    "    \"env\": my_env,  # The simpy environment defined in the first cel\n",
    "    \"name\": \"sailing filler\",  # We are moving soil\n",
    "    \"ID\": \"6dbbbdf7-4589-11e9-bf3b-b469212bff5b\",  # For logging purposes\n",
    "    \"registry\": registry,\n",
    "    \"mover\": hopper,\n",
    "    \"destination\": to_site,\n",
    "    \"postpone_start\": True,\n",
    "    \"delay_percentage\":10,\n",
    "}\n",
    "single_run.append(DelayMoveActivity(**move_activity_to_site_data))\n",
    "\n",
    "shift_amount_activity_unloading_data = {\n",
    "    \"env\": my_env,  # The simpy environment defined in the first cel\n",
    "    \"name\": \"Transfer TP\",  # We are moving soil\n",
    "    \"ID\": \"6dbbbdf7-4589-11e9-bf3b-b469212bff54\",  # For logging purposes\n",
    "    \"registry\": registry,\n",
    "    \"processor\": hopper,\n",
    "    \"origin\": hopper,\n",
    "    \"destination\": to_site,\n",
    "    \"amount\": 4,\n",
    "    \"duration\": 10,\n",
    "    \"postpone_start\": True,\n",
    "    \"delay_percentage\":10,\n",
    "}\n",
    "single_run.append(DelayShiftActivity(**shift_amount_activity_unloading_data))\n",
    "\n",
    "basic_activity_data = {\n",
    "    \"env\": my_env,\n",
    "    \"name\": \"Basic activity\",\n",
    "    \"ID\": \"6dbbbdf7-4589-11e9-bf3b-b469212bff5h\",  # For logging purposes\n",
    "    \"registry\": registry,\n",
    "    \"duration\": 0,\n",
    "     \"additional_logs\": [hopper],\n",
    "    \"postpone_start\": True,\n",
    "    \"delay_percentage\":10,\n",
    "}\n",
    "single_run.append(DelayBasicActivity(**basic_activity_data))\n",
    "\n",
    "\n",
    "sequential_activity_data = {\n",
    "    \"env\": my_env,\n",
    "    \"name\": \"Single run process\",\n",
    "    \"ID\": \"6dbbbdf7-4589-11e9-bf3b-b469212bff60\",  # For logging purposes\n",
    "    \"registry\": registry,\n",
    "    \"sub_processes\": single_run,\n",
    "    \"postpone_start\": True,\n",
    "    \"delay_percentage\":10,\n",
    "}\n",
    "activity = DelaySequenceActivity(**sequential_activity_data)\n",
    "\n",
    "expr = [{\"type\":\"container\", \"concept\": to_site, \"state\":\"full\"}]\n",
    "while_data = {\n",
    "    \"env\": my_env,  # The simpy environment defined in the first cel\n",
    "    \"name\": \"while\",  # We are moving soil\n",
    "    \"ID\": \"6dbbbdf7-4589-11e9-bf3b-b469212bff5g\",  # For logging purposes\n",
    "    \"registry\": registry,\n",
    "    \"sub_process\": activity,\n",
    "    \"condition_event\": expr,\n",
    "    \"postpone_start\": False,\n",
    "    \"delay_percentage\":10,\n",
    "}\n",
    "while_activity = DelayWhileActivity(**while_data)\n"
   ]
  },
  {
   "cell_type": "code",
   "execution_count": 6,
   "metadata": {},
   "outputs": [],
   "source": [
    "my_env.run()"
   ]
  },
  {
   "cell_type": "code",
   "execution_count": 17,
   "metadata": {},
   "outputs": [
    {
     "data": {
      "text/html": [
       "<div>\n",
       "<style scoped>\n",
       "    .dataframe tbody tr th:only-of-type {\n",
       "        vertical-align: middle;\n",
       "    }\n",
       "\n",
       "    .dataframe tbody tr th {\n",
       "        vertical-align: top;\n",
       "    }\n",
       "\n",
       "    .dataframe thead th {\n",
       "        text-align: right;\n",
       "    }\n",
       "</style>\n",
       "<table border=\"1\" class=\"dataframe\">\n",
       "  <thead>\n",
       "    <tr style=\"text-align: right;\">\n",
       "      <th></th>\n",
       "      <th>Message</th>\n",
       "      <th>Duration (Hours)</th>\n",
       "    </tr>\n",
       "  </thead>\n",
       "  <tbody>\n",
       "    <tr>\n",
       "      <th>0</th>\n",
       "      <td>conditional process while</td>\n",
       "      <td>1.765099</td>\n",
       "    </tr>\n",
       "    <tr>\n",
       "      <th>1</th>\n",
       "      <td>sub process sailing empty</td>\n",
       "      <td>0.000000</td>\n",
       "    </tr>\n",
       "    <tr>\n",
       "      <th>2</th>\n",
       "      <td>sequential Single run process</td>\n",
       "      <td>0.323616</td>\n",
       "    </tr>\n",
       "    <tr>\n",
       "      <th>3</th>\n",
       "      <td>sub process Transfer MP</td>\n",
       "      <td>0.003056</td>\n",
       "    </tr>\n",
       "    <tr>\n",
       "      <th>4</th>\n",
       "      <td>sub process Single run process</td>\n",
       "      <td>0.323616</td>\n",
       "    </tr>\n",
       "    <tr>\n",
       "      <th>5</th>\n",
       "      <td>sub process sailing filler</td>\n",
       "      <td>0.288085</td>\n",
       "    </tr>\n",
       "    <tr>\n",
       "      <th>6</th>\n",
       "      <td>sub process Transfer TP</td>\n",
       "      <td>0.003056</td>\n",
       "    </tr>\n",
       "    <tr>\n",
       "      <th>7</th>\n",
       "      <td>delay and downtime Sequence activity Single ru...</td>\n",
       "      <td>0.029420</td>\n",
       "    </tr>\n",
       "    <tr>\n",
       "      <th>8</th>\n",
       "      <td>sub process Basic activity</td>\n",
       "      <td>0.000000</td>\n",
       "    </tr>\n",
       "    <tr>\n",
       "      <th>9</th>\n",
       "      <td>sub process sailing empty</td>\n",
       "      <td>0.288085</td>\n",
       "    </tr>\n",
       "    <tr>\n",
       "      <th>10</th>\n",
       "      <td>sub process Single run process</td>\n",
       "      <td>0.640510</td>\n",
       "    </tr>\n",
       "    <tr>\n",
       "      <th>11</th>\n",
       "      <td>sequential Single run process</td>\n",
       "      <td>0.640510</td>\n",
       "    </tr>\n",
       "    <tr>\n",
       "      <th>12</th>\n",
       "      <td>sub process Transfer MP</td>\n",
       "      <td>0.003056</td>\n",
       "    </tr>\n",
       "    <tr>\n",
       "      <th>13</th>\n",
       "      <td>sub process sailing filler</td>\n",
       "      <td>0.288085</td>\n",
       "    </tr>\n",
       "    <tr>\n",
       "      <th>14</th>\n",
       "      <td>sub process Transfer TP</td>\n",
       "      <td>0.003056</td>\n",
       "    </tr>\n",
       "    <tr>\n",
       "      <th>15</th>\n",
       "      <td>sub process Basic activity</td>\n",
       "      <td>0.000000</td>\n",
       "    </tr>\n",
       "    <tr>\n",
       "      <th>16</th>\n",
       "      <td>delay and downtime Sequence activity Single ru...</td>\n",
       "      <td>0.058228</td>\n",
       "    </tr>\n",
       "    <tr>\n",
       "      <th>17</th>\n",
       "      <td>sub process Single run process</td>\n",
       "      <td>0.640510</td>\n",
       "    </tr>\n",
       "    <tr>\n",
       "      <th>18</th>\n",
       "      <td>sequential Single run process</td>\n",
       "      <td>0.640510</td>\n",
       "    </tr>\n",
       "    <tr>\n",
       "      <th>19</th>\n",
       "      <td>sub process sailing empty</td>\n",
       "      <td>0.288085</td>\n",
       "    </tr>\n",
       "    <tr>\n",
       "      <th>20</th>\n",
       "      <td>sub process Transfer MP</td>\n",
       "      <td>0.003056</td>\n",
       "    </tr>\n",
       "    <tr>\n",
       "      <th>21</th>\n",
       "      <td>sub process sailing filler</td>\n",
       "      <td>0.288085</td>\n",
       "    </tr>\n",
       "    <tr>\n",
       "      <th>22</th>\n",
       "      <td>sub process Transfer TP</td>\n",
       "      <td>0.003056</td>\n",
       "    </tr>\n",
       "    <tr>\n",
       "      <th>23</th>\n",
       "      <td>delay and downtime Sequence activity Single ru...</td>\n",
       "      <td>0.058228</td>\n",
       "    </tr>\n",
       "    <tr>\n",
       "      <th>24</th>\n",
       "      <td>sub process Basic activity</td>\n",
       "      <td>0.000000</td>\n",
       "    </tr>\n",
       "    <tr>\n",
       "      <th>25</th>\n",
       "      <td>delay and downtime While activity while</td>\n",
       "      <td>0.160464</td>\n",
       "    </tr>\n",
       "  </tbody>\n",
       "</table>\n",
       "</div>"
      ],
      "text/plain": [
       "                                              Message  Duration (Hours)\n",
       "0                           conditional process while          1.765099\n",
       "1                           sub process sailing empty          0.000000\n",
       "2                       sequential Single run process          0.323616\n",
       "3                             sub process Transfer MP          0.003056\n",
       "4                      sub process Single run process          0.323616\n",
       "5                          sub process sailing filler          0.288085\n",
       "6                             sub process Transfer TP          0.003056\n",
       "7   delay and downtime Sequence activity Single ru...          0.029420\n",
       "8                          sub process Basic activity          0.000000\n",
       "9                           sub process sailing empty          0.288085\n",
       "10                     sub process Single run process          0.640510\n",
       "11                      sequential Single run process          0.640510\n",
       "12                            sub process Transfer MP          0.003056\n",
       "13                         sub process sailing filler          0.288085\n",
       "14                            sub process Transfer TP          0.003056\n",
       "15                         sub process Basic activity          0.000000\n",
       "16  delay and downtime Sequence activity Single ru...          0.058228\n",
       "17                     sub process Single run process          0.640510\n",
       "18                      sequential Single run process          0.640510\n",
       "19                          sub process sailing empty          0.288085\n",
       "20                            sub process Transfer MP          0.003056\n",
       "21                         sub process sailing filler          0.288085\n",
       "22                            sub process Transfer TP          0.003056\n",
       "23  delay and downtime Sequence activity Single ru...          0.058228\n",
       "24                         sub process Basic activity          0.000000\n",
       "25            delay and downtime While activity while          0.160464"
      ]
     },
     "execution_count": 17,
     "metadata": {},
     "output_type": "execute_result"
    }
   ],
   "source": [
    "df = pd.DataFrame(while_activity.log)\n",
    "\n",
    "df[\"ActivityState\"] = (\n",
    "    df[\"ActivityState\"]\n",
    "    .replace(\"WAIT_START\", \"START\")\n",
    "    .replace(\"WAIT_STOP\", \"STOP\")\n",
    ")\n",
    "\n",
    "ix_starts = df[\"ActivityState\"] == \"START\"\n",
    "ix_stops = df[\"ActivityState\"] == \"STOP\"\n",
    "\n",
    "df_starts = df[ix_starts][[\"Message\", \"Timestamp\", 'Value', 'ActivityID']]\n",
    "df_starts = df_starts.sort_values(by=[\"Message\", \"Timestamp\"])\n",
    "df_starts = df_starts.rename(columns={\"Timestamp\": \"TimestampStart\"})\n",
    "df_starts = df_starts.set_index(\"Message\")\n",
    "\n",
    "df_stops = df[ix_stops][[\"Message\", \"Timestamp\"]]\n",
    "df_stops = df_stops.sort_values(by=[\"Message\", \"Timestamp\"])\n",
    "df_stops = df_stops.rename(columns={\"Timestamp\": \"TimestampStop\"})\n",
    "df_stops = df_stops.set_index(\"Message\")\n",
    "\n",
    "df = pd.concat([df_starts, df_stops], axis=1).sort_values(by='TimestampStart').reset_index()\n",
    "df['Duration (Hours)'] = [dt.total_seconds()/3600 for dt in (df.TimestampStop - df.TimestampStart)]\n",
    "\n",
    "df[[\"Message\", \"Duration (Hours)\"]].head(50)"
   ]
  },
  {
   "cell_type": "code",
   "execution_count": 18,
   "metadata": {},
   "outputs": [
    {
     "data": {
      "text/html": [
       "        <script type=\"text/javascript\">\n",
       "        window.PlotlyConfig = {MathJaxConfig: 'local'};\n",
       "        if (window.MathJax) {MathJax.Hub.Config({SVG: {font: \"STIX-Web\"}});}\n",
       "        if (typeof require !== 'undefined') {\n",
       "        require.undef(\"plotly\");\n",
       "        requirejs.config({\n",
       "            paths: {\n",
       "                'plotly': ['https://cdn.plot.ly/plotly-latest.min']\n",
       "            }\n",
       "        });\n",
       "        require(['plotly'], function(Plotly) {\n",
       "            window._Plotly = Plotly;\n",
       "        });\n",
       "        }\n",
       "        </script>\n",
       "        "
      ]
     },
     "metadata": {},
     "output_type": "display_data"
    },
    {
     "data": {
      "application/vnd.plotly.v1+json": {
       "config": {
        "linkText": "Export to plot.ly",
        "plotlyServerURL": "https://plot.ly",
        "showLink": false
       },
       "data": [
        {
         "connectgaps": false,
         "hoverinfo": "y+name",
         "line": {
          "color": "rgb(236,54,106)",
          "width": 10
         },
         "mode": "lines",
         "name": "Basic activity",
         "type": "scatter",
         "x": [
          "1970-01-01T00:17:39.107050",
          "1970-01-01T00:17:39.107050",
          "1970-01-01T00:17:39.107050",
          "1970-01-01T00:17:39.107050",
          "1970-01-01T00:17:39.107050",
          "1970-01-01T00:54:21.231856",
          "1970-01-01T00:54:21.231856",
          "1970-01-01T00:54:21.231856",
          "1970-01-01T00:54:21.231856",
          "1970-01-01T00:54:21.231856",
          "1970-01-01T01:32:47.067367",
          "1970-01-01T01:32:47.067367",
          "1970-01-01T01:32:47.067367",
          "1970-01-01T01:32:47.067367",
          "1970-01-01T01:32:47.067367",
          "1970-01-01T00:17:39.107050",
          "1970-01-01T00:17:39.107050",
          "1970-01-01T00:17:39.107050",
          "1970-01-01T00:17:39.107050",
          "1970-01-01T00:17:39.107050",
          "1970-01-01T00:54:21.231856",
          "1970-01-01T00:54:21.231856",
          "1970-01-01T00:54:21.231856",
          "1970-01-01T00:54:21.231856",
          "1970-01-01T00:54:21.231856",
          "1970-01-01T01:32:47.067367",
          "1970-01-01T01:32:47.067367",
          "1970-01-01T01:32:47.067367",
          "1970-01-01T01:32:47.067367",
          "1970-01-01T01:32:47.067367"
         ],
         "y": [
          "Hopper 01",
          "Hopper 01",
          "Hopper 01",
          "Hopper 01",
          null,
          "Hopper 01",
          "Hopper 01",
          "Hopper 01",
          "Hopper 01",
          null,
          "Hopper 01",
          "Hopper 01",
          "Hopper 01",
          "Hopper 01",
          null,
          "Basic activity",
          "Basic activity",
          "Basic activity",
          "Basic activity",
          null,
          "Basic activity",
          "Basic activity",
          "Basic activity",
          "Basic activity",
          null,
          "Basic activity",
          "Basic activity",
          "Basic activity",
          "Basic activity",
          null
         ]
        },
        {
         "connectgaps": false,
         "hoverinfo": "y+name",
         "line": {
          "color": "rgb(245,63,115)",
          "width": 10
         },
         "mode": "lines",
         "name": "move activity sailing filler of Hopper 01 to Dumplocatie",
         "type": "scatter",
         "x": [
          "1970-01-01T00:00:11",
          "1970-01-01T00:00:11",
          "1970-01-01T00:15:53.824591",
          "1970-01-01T00:15:53.824591",
          "1970-01-01T00:15:53.824591",
          "1970-01-01T00:36:53.124806",
          "1970-01-01T00:36:53.124806",
          "1970-01-01T00:52:35.949397",
          "1970-01-01T00:52:35.949397",
          "1970-01-01T00:52:35.949397",
          "1970-01-01T01:15:18.960317",
          "1970-01-01T01:15:18.960317",
          "1970-01-01T01:31:01.784908",
          "1970-01-01T01:31:01.784908",
          "1970-01-01T01:31:01.784908",
          "1970-01-01T00:00:11",
          "1970-01-01T00:00:11",
          "1970-01-01T00:17:28.107050",
          "1970-01-01T00:17:28.107050",
          "1970-01-01T00:17:28.107050",
          "1970-01-01T00:36:53.124806",
          "1970-01-01T00:36:53.124806",
          "1970-01-01T00:54:10.231856",
          "1970-01-01T00:54:10.231856",
          "1970-01-01T00:54:10.231856",
          "1970-01-01T01:15:18.960317",
          "1970-01-01T01:15:18.960317",
          "1970-01-01T01:32:36.067367",
          "1970-01-01T01:32:36.067367",
          "1970-01-01T01:32:36.067367"
         ],
         "y": [
          "Hopper 01",
          "Hopper 01",
          "Hopper 01",
          "Hopper 01",
          null,
          "Hopper 01",
          "Hopper 01",
          "Hopper 01",
          "Hopper 01",
          null,
          "Hopper 01",
          "Hopper 01",
          "Hopper 01",
          "Hopper 01",
          null,
          "sailing filler",
          "sailing filler",
          "sailing filler",
          "sailing filler",
          null,
          "sailing filler",
          "sailing filler",
          "sailing filler",
          "sailing filler",
          null,
          "sailing filler",
          "sailing filler",
          "sailing filler",
          "sailing filler",
          null
         ]
        },
        {
         "connectgaps": false,
         "hoverinfo": "y+name",
         "line": {
          "color": "rgb(254,72,124)",
          "width": 10
         },
         "mode": "lines",
         "name": "move activity sailing empty of Hopper 01 to Winlocatie",
         "type": "scatter",
         "x": [
          "1970-01-01T00:00:00",
          "1970-01-01T00:00:00",
          "1970-01-01T00:00:00",
          "1970-01-01T00:00:00",
          "1970-01-01T00:00:00",
          "1970-01-01T00:19:25.017755",
          "1970-01-01T00:19:25.017755",
          "1970-01-01T00:35:07.842347",
          "1970-01-01T00:35:07.842347",
          "1970-01-01T00:35:07.842347",
          "1970-01-01T00:57:50.853266",
          "1970-01-01T00:57:50.853266",
          "1970-01-01T01:13:33.677858",
          "1970-01-01T01:13:33.677858",
          "1970-01-01T01:13:33.677858",
          "1970-01-01T00:00:00",
          "1970-01-01T00:00:00",
          "1970-01-01T00:00:00",
          "1970-01-01T00:00:00",
          "1970-01-01T00:00:00",
          "1970-01-01T00:19:25.017755",
          "1970-01-01T00:19:25.017755",
          "1970-01-01T00:36:42.124806",
          "1970-01-01T00:36:42.124806",
          "1970-01-01T00:36:42.124806",
          "1970-01-01T00:57:50.853266",
          "1970-01-01T00:57:50.853266",
          "1970-01-01T01:15:07.960317",
          "1970-01-01T01:15:07.960317",
          "1970-01-01T01:15:07.960317"
         ],
         "y": [
          "Hopper 01",
          "Hopper 01",
          "Hopper 01",
          "Hopper 01",
          null,
          "Hopper 01",
          "Hopper 01",
          "Hopper 01",
          "Hopper 01",
          null,
          "Hopper 01",
          "Hopper 01",
          "Hopper 01",
          "Hopper 01",
          null,
          "sailing empty",
          "sailing empty",
          "sailing empty",
          "sailing empty",
          null,
          "sailing empty",
          "sailing empty",
          "sailing empty",
          "sailing empty",
          null,
          "sailing empty",
          "sailing empty",
          "sailing empty",
          "sailing empty",
          null
         ]
        },
        {
         "connectgaps": false,
         "hoverinfo": "y+name",
         "line": {
          "color": "rgb(7,81,133)",
          "width": 10
         },
         "mode": "lines",
         "name": "Shift amount activity Transfer MP transfer default from Winlocatie to Hopper 01 with Hopper 01",
         "type": "scatter",
         "x": [
          "1970-01-01T00:00:00",
          "1970-01-01T00:00:00",
          "1970-01-01T00:00:10",
          "1970-01-01T00:00:10",
          "1970-01-01T00:00:10",
          "1970-01-01T00:00:00",
          "1970-01-01T00:00:00",
          "1970-01-01T00:00:10",
          "1970-01-01T00:00:10",
          "1970-01-01T00:00:10",
          "1970-01-01T00:36:42.124806",
          "1970-01-01T00:36:42.124806",
          "1970-01-01T00:36:52.124806",
          "1970-01-01T00:36:52.124806",
          "1970-01-01T00:36:52.124806",
          "1970-01-01T00:36:42.124806",
          "1970-01-01T00:36:42.124806",
          "1970-01-01T00:36:52.124806",
          "1970-01-01T00:36:52.124806",
          "1970-01-01T00:36:52.124806",
          "1970-01-01T01:15:07.960317",
          "1970-01-01T01:15:07.960317",
          "1970-01-01T01:15:17.960317",
          "1970-01-01T01:15:17.960317",
          "1970-01-01T01:15:17.960317",
          "1970-01-01T01:15:07.960317",
          "1970-01-01T01:15:07.960317",
          "1970-01-01T01:15:17.960317",
          "1970-01-01T01:15:17.960317",
          "1970-01-01T01:15:17.960317",
          "1970-01-01T00:00:00",
          "1970-01-01T00:00:00",
          "1970-01-01T00:00:10",
          "1970-01-01T00:00:10",
          "1970-01-01T00:00:10",
          "1970-01-01T00:36:42.124806",
          "1970-01-01T00:36:42.124806",
          "1970-01-01T00:36:52.124806",
          "1970-01-01T00:36:52.124806",
          "1970-01-01T00:36:52.124806",
          "1970-01-01T01:15:07.960317",
          "1970-01-01T01:15:07.960317",
          "1970-01-01T01:15:17.960317",
          "1970-01-01T01:15:17.960317",
          "1970-01-01T01:15:17.960317"
         ],
         "y": [
          "Hopper 01",
          "Hopper 01",
          "Hopper 01",
          "Hopper 01",
          null,
          "Hopper 01",
          "Hopper 01",
          "Hopper 01",
          "Hopper 01",
          null,
          "Hopper 01",
          "Hopper 01",
          "Hopper 01",
          "Hopper 01",
          null,
          "Hopper 01",
          "Hopper 01",
          "Hopper 01",
          "Hopper 01",
          null,
          "Hopper 01",
          "Hopper 01",
          "Hopper 01",
          "Hopper 01",
          null,
          "Hopper 01",
          "Hopper 01",
          "Hopper 01",
          "Hopper 01",
          null,
          "Winlocatie",
          "Winlocatie",
          "Winlocatie",
          "Winlocatie",
          null,
          "Winlocatie",
          "Winlocatie",
          "Winlocatie",
          "Winlocatie",
          null,
          "Winlocatie",
          "Winlocatie",
          "Winlocatie",
          "Winlocatie",
          null
         ]
        },
        {
         "connectgaps": false,
         "hoverinfo": "y+name",
         "line": {
          "color": "rgb(16,90,142)",
          "width": 10
         },
         "mode": "lines",
         "name": "Shift amount activity Transfer TP transfer default from Hopper 01 to Dumplocatie with Hopper 01",
         "type": "scatter",
         "x": [
          "1970-01-01T00:17:28.107050",
          "1970-01-01T00:17:28.107050",
          "1970-01-01T00:17:38.107050",
          "1970-01-01T00:17:38.107050",
          "1970-01-01T00:17:38.107050",
          "1970-01-01T00:17:28.107050",
          "1970-01-01T00:17:28.107050",
          "1970-01-01T00:17:38.107050",
          "1970-01-01T00:17:38.107050",
          "1970-01-01T00:17:38.107050",
          "1970-01-01T00:54:10.231856",
          "1970-01-01T00:54:10.231856",
          "1970-01-01T00:54:20.231856",
          "1970-01-01T00:54:20.231856",
          "1970-01-01T00:54:20.231856",
          "1970-01-01T00:54:10.231856",
          "1970-01-01T00:54:10.231856",
          "1970-01-01T00:54:20.231856",
          "1970-01-01T00:54:20.231856",
          "1970-01-01T00:54:20.231856",
          "1970-01-01T01:32:36.067367",
          "1970-01-01T01:32:36.067367",
          "1970-01-01T01:32:46.067367",
          "1970-01-01T01:32:46.067367",
          "1970-01-01T01:32:46.067367",
          "1970-01-01T01:32:36.067367",
          "1970-01-01T01:32:36.067367",
          "1970-01-01T01:32:46.067367",
          "1970-01-01T01:32:46.067367",
          "1970-01-01T01:32:46.067367",
          "1970-01-01T00:17:28.107050",
          "1970-01-01T00:17:28.107050",
          "1970-01-01T00:17:38.107050",
          "1970-01-01T00:17:38.107050",
          "1970-01-01T00:17:38.107050",
          "1970-01-01T00:54:10.231856",
          "1970-01-01T00:54:10.231856",
          "1970-01-01T00:54:20.231856",
          "1970-01-01T00:54:20.231856",
          "1970-01-01T00:54:20.231856",
          "1970-01-01T01:32:36.067367",
          "1970-01-01T01:32:36.067367",
          "1970-01-01T01:32:46.067367",
          "1970-01-01T01:32:46.067367",
          "1970-01-01T01:32:46.067367"
         ],
         "y": [
          "Hopper 01",
          "Hopper 01",
          "Hopper 01",
          "Hopper 01",
          null,
          "Hopper 01",
          "Hopper 01",
          "Hopper 01",
          "Hopper 01",
          null,
          "Hopper 01",
          "Hopper 01",
          "Hopper 01",
          "Hopper 01",
          null,
          "Hopper 01",
          "Hopper 01",
          "Hopper 01",
          "Hopper 01",
          null,
          "Hopper 01",
          "Hopper 01",
          "Hopper 01",
          "Hopper 01",
          null,
          "Hopper 01",
          "Hopper 01",
          "Hopper 01",
          "Hopper 01",
          null,
          "Dumplocatie",
          "Dumplocatie",
          "Dumplocatie",
          "Dumplocatie",
          null,
          "Dumplocatie",
          "Dumplocatie",
          "Dumplocatie",
          "Dumplocatie",
          null,
          "Dumplocatie",
          "Dumplocatie",
          "Dumplocatie",
          "Dumplocatie",
          null
         ]
        },
        {
         "connectgaps": false,
         "hoverinfo": "y+name",
         "line": {
          "color": "rgb(25,99,151)",
          "width": 10
         },
         "mode": "lines",
         "name": "Shift amount activity Transfer MP transfer default from Winlocatie to Hopper 01 with Hopper 01",
         "type": "scatter",
         "x": [
          "1970-01-01T00:00:00",
          "1970-01-01T00:00:00",
          "1970-01-01T00:00:10",
          "1970-01-01T00:00:10",
          "1970-01-01T00:00:10",
          "1970-01-01T00:00:00",
          "1970-01-01T00:00:00",
          "1970-01-01T00:00:10",
          "1970-01-01T00:00:10",
          "1970-01-01T00:00:10",
          "1970-01-01T00:36:42.124806",
          "1970-01-01T00:36:42.124806",
          "1970-01-01T00:36:52.124806",
          "1970-01-01T00:36:52.124806",
          "1970-01-01T00:36:52.124806",
          "1970-01-01T00:36:42.124806",
          "1970-01-01T00:36:42.124806",
          "1970-01-01T00:36:52.124806",
          "1970-01-01T00:36:52.124806",
          "1970-01-01T00:36:52.124806",
          "1970-01-01T01:15:07.960317",
          "1970-01-01T01:15:07.960317",
          "1970-01-01T01:15:17.960317",
          "1970-01-01T01:15:17.960317",
          "1970-01-01T01:15:17.960317",
          "1970-01-01T01:15:07.960317",
          "1970-01-01T01:15:07.960317",
          "1970-01-01T01:15:17.960317",
          "1970-01-01T01:15:17.960317",
          "1970-01-01T01:15:17.960317",
          "1970-01-01T00:00:00",
          "1970-01-01T00:00:00",
          "1970-01-01T00:00:10",
          "1970-01-01T00:00:10",
          "1970-01-01T00:00:10",
          "1970-01-01T00:36:42.124806",
          "1970-01-01T00:36:42.124806",
          "1970-01-01T00:36:52.124806",
          "1970-01-01T00:36:52.124806",
          "1970-01-01T00:36:52.124806",
          "1970-01-01T01:15:07.960317",
          "1970-01-01T01:15:07.960317",
          "1970-01-01T01:15:17.960317",
          "1970-01-01T01:15:17.960317",
          "1970-01-01T01:15:17.960317"
         ],
         "y": [
          "Hopper 01",
          "Hopper 01",
          "Hopper 01",
          "Hopper 01",
          null,
          "Hopper 01",
          "Hopper 01",
          "Hopper 01",
          "Hopper 01",
          null,
          "Hopper 01",
          "Hopper 01",
          "Hopper 01",
          "Hopper 01",
          null,
          "Hopper 01",
          "Hopper 01",
          "Hopper 01",
          "Hopper 01",
          null,
          "Hopper 01",
          "Hopper 01",
          "Hopper 01",
          "Hopper 01",
          null,
          "Hopper 01",
          "Hopper 01",
          "Hopper 01",
          "Hopper 01",
          null,
          "Winlocatie",
          "Winlocatie",
          "Winlocatie",
          "Winlocatie",
          null,
          "Winlocatie",
          "Winlocatie",
          "Winlocatie",
          "Winlocatie",
          null,
          "Winlocatie",
          "Winlocatie",
          "Winlocatie",
          "Winlocatie",
          null
         ]
        },
        {
         "connectgaps": false,
         "hoverinfo": "y+name",
         "line": {
          "color": "rgb(34,108,160)",
          "width": 10
         },
         "mode": "lines",
         "name": "Shift amount activity Transfer TP transfer default from Hopper 01 to Dumplocatie with Hopper 01",
         "type": "scatter",
         "x": [
          "1970-01-01T00:17:28.107050",
          "1970-01-01T00:17:28.107050",
          "1970-01-01T00:17:38.107050",
          "1970-01-01T00:17:38.107050",
          "1970-01-01T00:17:38.107050",
          "1970-01-01T00:17:28.107050",
          "1970-01-01T00:17:28.107050",
          "1970-01-01T00:17:38.107050",
          "1970-01-01T00:17:38.107050",
          "1970-01-01T00:17:38.107050",
          "1970-01-01T00:54:10.231856",
          "1970-01-01T00:54:10.231856",
          "1970-01-01T00:54:20.231856",
          "1970-01-01T00:54:20.231856",
          "1970-01-01T00:54:20.231856",
          "1970-01-01T00:54:10.231856",
          "1970-01-01T00:54:10.231856",
          "1970-01-01T00:54:20.231856",
          "1970-01-01T00:54:20.231856",
          "1970-01-01T00:54:20.231856",
          "1970-01-01T01:32:36.067367",
          "1970-01-01T01:32:36.067367",
          "1970-01-01T01:32:46.067367",
          "1970-01-01T01:32:46.067367",
          "1970-01-01T01:32:46.067367",
          "1970-01-01T01:32:36.067367",
          "1970-01-01T01:32:36.067367",
          "1970-01-01T01:32:46.067367",
          "1970-01-01T01:32:46.067367",
          "1970-01-01T01:32:46.067367",
          "1970-01-01T00:17:28.107050",
          "1970-01-01T00:17:28.107050",
          "1970-01-01T00:17:38.107050",
          "1970-01-01T00:17:38.107050",
          "1970-01-01T00:17:38.107050",
          "1970-01-01T00:54:10.231856",
          "1970-01-01T00:54:10.231856",
          "1970-01-01T00:54:20.231856",
          "1970-01-01T00:54:20.231856",
          "1970-01-01T00:54:20.231856",
          "1970-01-01T01:32:36.067367",
          "1970-01-01T01:32:36.067367",
          "1970-01-01T01:32:46.067367",
          "1970-01-01T01:32:46.067367",
          "1970-01-01T01:32:46.067367"
         ],
         "y": [
          "Hopper 01",
          "Hopper 01",
          "Hopper 01",
          "Hopper 01",
          null,
          "Hopper 01",
          "Hopper 01",
          "Hopper 01",
          "Hopper 01",
          null,
          "Hopper 01",
          "Hopper 01",
          "Hopper 01",
          "Hopper 01",
          null,
          "Hopper 01",
          "Hopper 01",
          "Hopper 01",
          "Hopper 01",
          null,
          "Hopper 01",
          "Hopper 01",
          "Hopper 01",
          "Hopper 01",
          null,
          "Hopper 01",
          "Hopper 01",
          "Hopper 01",
          "Hopper 01",
          null,
          "Dumplocatie",
          "Dumplocatie",
          "Dumplocatie",
          "Dumplocatie",
          null,
          "Dumplocatie",
          "Dumplocatie",
          "Dumplocatie",
          "Dumplocatie",
          null,
          "Dumplocatie",
          "Dumplocatie",
          "Dumplocatie",
          "Dumplocatie",
          null
         ]
        },
        {
         "connectgaps": false,
         "hoverinfo": "y+name",
         "line": {
          "color": "rgb(43,117,169)",
          "width": 10
         },
         "mode": "lines",
         "name": "sub process sailing empty",
         "type": "scatter",
         "x": [
          "1970-01-01T00:00:00",
          "1970-01-01T00:00:00",
          "1970-01-01T00:00:00",
          "1970-01-01T00:00:00",
          "1970-01-01T00:00:00",
          "1970-01-01T00:19:25.017755",
          "1970-01-01T00:19:25.017755",
          "1970-01-01T00:36:42.124806",
          "1970-01-01T00:36:42.124806",
          "1970-01-01T00:36:42.124806",
          "1970-01-01T00:57:50.853266",
          "1970-01-01T00:57:50.853266",
          "1970-01-01T01:15:07.960317",
          "1970-01-01T01:15:07.960317",
          "1970-01-01T01:15:07.960317"
         ],
         "y": [
          "while",
          "while",
          "while",
          "while",
          null,
          "while",
          "while",
          "while",
          "while",
          null,
          "while",
          "while",
          "while",
          "while",
          null
         ]
        },
        {
         "connectgaps": false,
         "hoverinfo": "y+name",
         "line": {
          "color": "rgb(52,126,178)",
          "width": 10
         },
         "mode": "lines",
         "name": "sub process Transfer MP",
         "type": "scatter",
         "x": [
          "1970-01-01T00:00:00",
          "1970-01-01T00:00:00",
          "1970-01-01T00:00:11",
          "1970-01-01T00:00:11",
          "1970-01-01T00:00:11",
          "1970-01-01T00:36:42.124806",
          "1970-01-01T00:36:42.124806",
          "1970-01-01T00:36:53.124806",
          "1970-01-01T00:36:53.124806",
          "1970-01-01T00:36:53.124806",
          "1970-01-01T01:15:07.960317",
          "1970-01-01T01:15:07.960317",
          "1970-01-01T01:15:18.960317",
          "1970-01-01T01:15:18.960317",
          "1970-01-01T01:15:18.960317"
         ],
         "y": [
          "while",
          "while",
          "while",
          "while",
          null,
          "while",
          "while",
          "while",
          "while",
          null,
          "while",
          "while",
          "while",
          "while",
          null
         ]
        },
        {
         "connectgaps": false,
         "hoverinfo": "y+name",
         "line": {
          "color": "rgb(61,135,187)",
          "width": 10
         },
         "mode": "lines",
         "name": "sub process Basic activity",
         "type": "scatter",
         "x": [
          "1970-01-01T00:17:39.107050",
          "1970-01-01T00:17:39.107050",
          "1970-01-01T00:17:39.107050",
          "1970-01-01T00:17:39.107050",
          "1970-01-01T00:17:39.107050",
          "1970-01-01T00:54:21.231856",
          "1970-01-01T00:54:21.231856",
          "1970-01-01T00:54:21.231856",
          "1970-01-01T00:54:21.231856",
          "1970-01-01T00:54:21.231856",
          "1970-01-01T01:32:47.067367",
          "1970-01-01T01:32:47.067367",
          "1970-01-01T01:32:47.067367",
          "1970-01-01T01:32:47.067367",
          "1970-01-01T01:32:47.067367"
         ],
         "y": [
          "while",
          "while",
          "while",
          "while",
          null,
          "while",
          "while",
          "while",
          "while",
          null,
          "while",
          "while",
          "while",
          "while",
          null
         ]
        },
        {
         "connectgaps": false,
         "hoverinfo": "y+name",
         "line": {
          "color": "rgb(70,144,196)",
          "width": 10
         },
         "mode": "lines",
         "name": "delay and downtime While activity while",
         "type": "scatter",
         "x": [
          "1970-01-01T01:36:16.688777",
          "1970-01-01T01:36:16.688777",
          "1970-01-01T01:45:54.357655",
          "1970-01-01T01:45:54.357655",
          "1970-01-01T01:45:54.357655"
         ],
         "y": [
          "while",
          "while",
          "while",
          "while",
          null
         ]
        },
        {
         "connectgaps": false,
         "hoverinfo": "y+name",
         "line": {
          "color": "rgb(79,153,205)",
          "width": 10
         },
         "mode": "lines",
         "name": "delay and downtime Sequence activity Single run process",
         "type": "scatter",
         "x": [
          "1970-01-01T00:17:39.107050",
          "1970-01-01T00:17:39.107050",
          "1970-01-01T00:19:25.017755",
          "1970-01-01T00:19:25.017755",
          "1970-01-01T00:19:25.017755",
          "1970-01-01T00:54:21.231856",
          "1970-01-01T00:54:21.231856",
          "1970-01-01T00:57:50.853266",
          "1970-01-01T00:57:50.853266",
          "1970-01-01T00:57:50.853266",
          "1970-01-01T01:32:47.067367",
          "1970-01-01T01:32:47.067367",
          "1970-01-01T01:36:16.688777",
          "1970-01-01T01:36:16.688777",
          "1970-01-01T01:36:16.688777"
         ],
         "y": [
          "while",
          "while",
          "while",
          "while",
          null,
          "while",
          "while",
          "while",
          "while",
          null,
          "while",
          "while",
          "while",
          "while",
          null
         ]
        },
        {
         "connectgaps": false,
         "hoverinfo": "y+name",
         "line": {
          "color": "rgb(88,162,214)",
          "width": 10
         },
         "mode": "lines",
         "name": "sequential Single run process",
         "type": "scatter",
         "x": [
          "1970-01-01T00:00:00",
          "1970-01-01T00:00:00",
          "1970-01-01T00:19:25.017755",
          "1970-01-01T00:19:25.017755",
          "1970-01-01T00:19:25.017755",
          "1970-01-01T00:19:25.017755",
          "1970-01-01T00:19:25.017755",
          "1970-01-01T00:57:50.853266",
          "1970-01-01T00:57:50.853266",
          "1970-01-01T00:57:50.853266",
          "1970-01-01T00:57:50.853266",
          "1970-01-01T00:57:50.853266",
          "1970-01-01T01:36:16.688777",
          "1970-01-01T01:36:16.688777",
          "1970-01-01T01:36:16.688777"
         ],
         "y": [
          "while",
          "while",
          "while",
          "while",
          null,
          "while",
          "while",
          "while",
          "while",
          null,
          "while",
          "while",
          "while",
          "while",
          null
         ]
        },
        {
         "connectgaps": false,
         "hoverinfo": "y+name",
         "line": {
          "color": "rgb(97,171,223)",
          "width": 10
         },
         "mode": "lines",
         "name": "sub process Transfer TP",
         "type": "scatter",
         "x": [
          "1970-01-01T00:17:28.107050",
          "1970-01-01T00:17:28.107050",
          "1970-01-01T00:17:39.107050",
          "1970-01-01T00:17:39.107050",
          "1970-01-01T00:17:39.107050",
          "1970-01-01T00:54:10.231856",
          "1970-01-01T00:54:10.231856",
          "1970-01-01T00:54:21.231856",
          "1970-01-01T00:54:21.231856",
          "1970-01-01T00:54:21.231856",
          "1970-01-01T01:32:36.067367",
          "1970-01-01T01:32:36.067367",
          "1970-01-01T01:32:47.067367",
          "1970-01-01T01:32:47.067367",
          "1970-01-01T01:32:47.067367"
         ],
         "y": [
          "while",
          "while",
          "while",
          "while",
          null,
          "while",
          "while",
          "while",
          "while",
          null,
          "while",
          "while",
          "while",
          "while",
          null
         ]
        },
        {
         "connectgaps": false,
         "hoverinfo": "y+name",
         "line": {
          "color": "rgb(106,180,232)",
          "width": 10
         },
         "mode": "lines",
         "name": "conditional process while",
         "type": "scatter",
         "x": [
          "1970-01-01T00:00:00",
          "1970-01-01T00:00:00",
          "1970-01-01T01:45:54.357655",
          "1970-01-01T01:45:54.357655",
          "1970-01-01T01:45:54.357655"
         ],
         "y": [
          "while",
          "while",
          "while",
          "while",
          null
         ]
        },
        {
         "connectgaps": false,
         "hoverinfo": "y+name",
         "line": {
          "color": "rgb(115,189,241)",
          "width": 10
         },
         "mode": "lines",
         "name": "sub process sailing filler",
         "type": "scatter",
         "x": [
          "1970-01-01T00:00:11",
          "1970-01-01T00:00:11",
          "1970-01-01T00:17:28.107050",
          "1970-01-01T00:17:28.107050",
          "1970-01-01T00:17:28.107050",
          "1970-01-01T00:36:53.124806",
          "1970-01-01T00:36:53.124806",
          "1970-01-01T00:54:10.231856",
          "1970-01-01T00:54:10.231856",
          "1970-01-01T00:54:10.231856",
          "1970-01-01T01:15:18.960317",
          "1970-01-01T01:15:18.960317",
          "1970-01-01T01:32:36.067367",
          "1970-01-01T01:32:36.067367",
          "1970-01-01T01:32:36.067367"
         ],
         "y": [
          "while",
          "while",
          "while",
          "while",
          null,
          "while",
          "while",
          "while",
          "while",
          null,
          "while",
          "while",
          "while",
          "while",
          null
         ]
        },
        {
         "connectgaps": false,
         "hoverinfo": "y+name",
         "line": {
          "color": "rgb(124,198,250)",
          "width": 10
         },
         "mode": "lines",
         "name": "sub process Single run process",
         "type": "scatter",
         "x": [
          "1970-01-01T00:00:00",
          "1970-01-01T00:00:00",
          "1970-01-01T00:19:25.017755",
          "1970-01-01T00:19:25.017755",
          "1970-01-01T00:19:25.017755",
          "1970-01-01T00:19:25.017755",
          "1970-01-01T00:19:25.017755",
          "1970-01-01T00:57:50.853266",
          "1970-01-01T00:57:50.853266",
          "1970-01-01T00:57:50.853266",
          "1970-01-01T00:57:50.853266",
          "1970-01-01T00:57:50.853266",
          "1970-01-01T01:36:16.688777",
          "1970-01-01T01:36:16.688777",
          "1970-01-01T01:36:16.688777"
         ],
         "y": [
          "while",
          "while",
          "while",
          "while",
          null,
          "while",
          "while",
          "while",
          "while",
          null,
          "while",
          "while",
          "while",
          "while",
          null
         ]
        },
        {
         "connectgaps": false,
         "hoverinfo": "y+name",
         "line": {
          "color": "rgb(133,207,3)",
          "width": 10
         },
         "mode": "lines",
         "name": "move activity sailing empty of Hopper 01 to Winlocatie",
         "type": "scatter",
         "x": [
          "1970-01-01T00:00:00",
          "1970-01-01T00:00:00",
          "1970-01-01T00:00:00",
          "1970-01-01T00:00:00",
          "1970-01-01T00:00:00",
          "1970-01-01T00:19:25.017755",
          "1970-01-01T00:19:25.017755",
          "1970-01-01T00:35:07.842347",
          "1970-01-01T00:35:07.842347",
          "1970-01-01T00:35:07.842347",
          "1970-01-01T00:57:50.853266",
          "1970-01-01T00:57:50.853266",
          "1970-01-01T01:13:33.677858",
          "1970-01-01T01:13:33.677858",
          "1970-01-01T01:13:33.677858",
          "1970-01-01T00:00:00",
          "1970-01-01T00:00:00",
          "1970-01-01T00:00:00",
          "1970-01-01T00:00:00",
          "1970-01-01T00:00:00",
          "1970-01-01T00:19:25.017755",
          "1970-01-01T00:19:25.017755",
          "1970-01-01T00:36:42.124806",
          "1970-01-01T00:36:42.124806",
          "1970-01-01T00:36:42.124806",
          "1970-01-01T00:57:50.853266",
          "1970-01-01T00:57:50.853266",
          "1970-01-01T01:15:07.960317",
          "1970-01-01T01:15:07.960317",
          "1970-01-01T01:15:07.960317"
         ],
         "y": [
          "Hopper 01",
          "Hopper 01",
          "Hopper 01",
          "Hopper 01",
          null,
          "Hopper 01",
          "Hopper 01",
          "Hopper 01",
          "Hopper 01",
          null,
          "Hopper 01",
          "Hopper 01",
          "Hopper 01",
          "Hopper 01",
          null,
          "sailing empty",
          "sailing empty",
          "sailing empty",
          "sailing empty",
          null,
          "sailing empty",
          "sailing empty",
          "sailing empty",
          "sailing empty",
          null,
          "sailing empty",
          "sailing empty",
          "sailing empty",
          "sailing empty",
          null
         ]
        },
        {
         "connectgaps": false,
         "hoverinfo": "y+name",
         "line": {
          "color": "rgb(142,216,12)",
          "width": 10
         },
         "mode": "lines",
         "name": "delay and downtime move activity sailing empty of Hopper 01 to Winlocatie",
         "type": "scatter",
         "x": [
          "1970-01-01T00:00:00",
          "1970-01-01T00:00:00",
          "1970-01-01T00:00:00",
          "1970-01-01T00:00:00",
          "1970-01-01T00:00:00",
          "1970-01-01T00:35:07.842347",
          "1970-01-01T00:35:07.842347",
          "1970-01-01T00:36:42.124806",
          "1970-01-01T00:36:42.124806",
          "1970-01-01T00:36:42.124806",
          "1970-01-01T01:13:33.677858",
          "1970-01-01T01:13:33.677858",
          "1970-01-01T01:15:07.960317",
          "1970-01-01T01:15:07.960317",
          "1970-01-01T01:15:07.960317"
         ],
         "y": [
          "sailing empty",
          "sailing empty",
          "sailing empty",
          "sailing empty",
          null,
          "sailing empty",
          "sailing empty",
          "sailing empty",
          "sailing empty",
          null,
          "sailing empty",
          "sailing empty",
          "sailing empty",
          "sailing empty",
          null
         ]
        },
        {
         "connectgaps": false,
         "hoverinfo": "y+name",
         "line": {
          "color": "rgb(151,225,21)",
          "width": 10
         },
         "mode": "lines",
         "name": "delay and downtime Transfer MP",
         "type": "scatter",
         "x": [
          "1970-01-01T00:00:10",
          "1970-01-01T00:00:10",
          "1970-01-01T00:00:11",
          "1970-01-01T00:00:11",
          "1970-01-01T00:00:11",
          "1970-01-01T00:36:52.124806",
          "1970-01-01T00:36:52.124806",
          "1970-01-01T00:36:53.124806",
          "1970-01-01T00:36:53.124806",
          "1970-01-01T00:36:53.124806",
          "1970-01-01T01:15:17.960317",
          "1970-01-01T01:15:17.960317",
          "1970-01-01T01:15:18.960317",
          "1970-01-01T01:15:18.960317",
          "1970-01-01T01:15:18.960317"
         ],
         "y": [
          "Transfer MP",
          "Transfer MP",
          "Transfer MP",
          "Transfer MP",
          null,
          "Transfer MP",
          "Transfer MP",
          "Transfer MP",
          "Transfer MP",
          null,
          "Transfer MP",
          "Transfer MP",
          "Transfer MP",
          "Transfer MP",
          null
         ]
        },
        {
         "connectgaps": false,
         "hoverinfo": "y+name",
         "line": {
          "color": "rgb(160,234,30)",
          "width": 10
         },
         "mode": "lines",
         "name": "Transfer MP",
         "type": "scatter",
         "x": [
          "1970-01-01T00:00:00",
          "1970-01-01T00:00:00",
          "1970-01-01T00:00:11",
          "1970-01-01T00:00:11",
          "1970-01-01T00:00:11",
          "1970-01-01T00:36:42.124806",
          "1970-01-01T00:36:42.124806",
          "1970-01-01T00:36:53.124806",
          "1970-01-01T00:36:53.124806",
          "1970-01-01T00:36:53.124806",
          "1970-01-01T01:15:07.960317",
          "1970-01-01T01:15:07.960317",
          "1970-01-01T01:15:18.960317",
          "1970-01-01T01:15:18.960317",
          "1970-01-01T01:15:18.960317"
         ],
         "y": [
          "Transfer MP",
          "Transfer MP",
          "Transfer MP",
          "Transfer MP",
          null,
          "Transfer MP",
          "Transfer MP",
          "Transfer MP",
          "Transfer MP",
          null,
          "Transfer MP",
          "Transfer MP",
          "Transfer MP",
          "Transfer MP",
          null
         ]
        },
        {
         "connectgaps": false,
         "hoverinfo": "y+name",
         "line": {
          "color": "rgb(169,243,39)",
          "width": 10
         },
         "mode": "lines",
         "name": "move activity sailing filler of Hopper 01 to Dumplocatie",
         "type": "scatter",
         "x": [
          "1970-01-01T00:00:11",
          "1970-01-01T00:00:11",
          "1970-01-01T00:15:53.824591",
          "1970-01-01T00:15:53.824591",
          "1970-01-01T00:15:53.824591",
          "1970-01-01T00:36:53.124806",
          "1970-01-01T00:36:53.124806",
          "1970-01-01T00:52:35.949397",
          "1970-01-01T00:52:35.949397",
          "1970-01-01T00:52:35.949397",
          "1970-01-01T01:15:18.960317",
          "1970-01-01T01:15:18.960317",
          "1970-01-01T01:31:01.784908",
          "1970-01-01T01:31:01.784908",
          "1970-01-01T01:31:01.784908",
          "1970-01-01T00:00:11",
          "1970-01-01T00:00:11",
          "1970-01-01T00:17:28.107050",
          "1970-01-01T00:17:28.107050",
          "1970-01-01T00:17:28.107050",
          "1970-01-01T00:36:53.124806",
          "1970-01-01T00:36:53.124806",
          "1970-01-01T00:54:10.231856",
          "1970-01-01T00:54:10.231856",
          "1970-01-01T00:54:10.231856",
          "1970-01-01T01:15:18.960317",
          "1970-01-01T01:15:18.960317",
          "1970-01-01T01:32:36.067367",
          "1970-01-01T01:32:36.067367",
          "1970-01-01T01:32:36.067367"
         ],
         "y": [
          "Hopper 01",
          "Hopper 01",
          "Hopper 01",
          "Hopper 01",
          null,
          "Hopper 01",
          "Hopper 01",
          "Hopper 01",
          "Hopper 01",
          null,
          "Hopper 01",
          "Hopper 01",
          "Hopper 01",
          "Hopper 01",
          null,
          "sailing filler",
          "sailing filler",
          "sailing filler",
          "sailing filler",
          null,
          "sailing filler",
          "sailing filler",
          "sailing filler",
          "sailing filler",
          null,
          "sailing filler",
          "sailing filler",
          "sailing filler",
          "sailing filler",
          null
         ]
        },
        {
         "connectgaps": false,
         "hoverinfo": "y+name",
         "line": {
          "color": "rgb(178,252,48)",
          "width": 10
         },
         "mode": "lines",
         "name": "delay and downtime move activity sailing filler of Hopper 01 to Dumplocatie",
         "type": "scatter",
         "x": [
          "1970-01-01T00:15:53.824591",
          "1970-01-01T00:15:53.824591",
          "1970-01-01T00:17:28.107050",
          "1970-01-01T00:17:28.107050",
          "1970-01-01T00:17:28.107050",
          "1970-01-01T00:52:35.949397",
          "1970-01-01T00:52:35.949397",
          "1970-01-01T00:54:10.231856",
          "1970-01-01T00:54:10.231856",
          "1970-01-01T00:54:10.231856",
          "1970-01-01T01:31:01.784908",
          "1970-01-01T01:31:01.784908",
          "1970-01-01T01:32:36.067367",
          "1970-01-01T01:32:36.067367",
          "1970-01-01T01:32:36.067367"
         ],
         "y": [
          "sailing filler",
          "sailing filler",
          "sailing filler",
          "sailing filler",
          null,
          "sailing filler",
          "sailing filler",
          "sailing filler",
          "sailing filler",
          null,
          "sailing filler",
          "sailing filler",
          "sailing filler",
          "sailing filler",
          null
         ]
        },
        {
         "connectgaps": false,
         "hoverinfo": "y+name",
         "line": {
          "color": "rgb(187,5,57)",
          "width": 10
         },
         "mode": "lines",
         "name": "delay and downtime Transfer TP",
         "type": "scatter",
         "x": [
          "1970-01-01T00:17:38.107050",
          "1970-01-01T00:17:38.107050",
          "1970-01-01T00:17:39.107050",
          "1970-01-01T00:17:39.107050",
          "1970-01-01T00:17:39.107050",
          "1970-01-01T00:54:20.231856",
          "1970-01-01T00:54:20.231856",
          "1970-01-01T00:54:21.231856",
          "1970-01-01T00:54:21.231856",
          "1970-01-01T00:54:21.231856",
          "1970-01-01T01:32:46.067367",
          "1970-01-01T01:32:46.067367",
          "1970-01-01T01:32:47.067367",
          "1970-01-01T01:32:47.067367",
          "1970-01-01T01:32:47.067367"
         ],
         "y": [
          "Transfer TP",
          "Transfer TP",
          "Transfer TP",
          "Transfer TP",
          null,
          "Transfer TP",
          "Transfer TP",
          "Transfer TP",
          "Transfer TP",
          null,
          "Transfer TP",
          "Transfer TP",
          "Transfer TP",
          "Transfer TP",
          null
         ]
        },
        {
         "connectgaps": false,
         "hoverinfo": "y+name",
         "line": {
          "color": "rgb(196,14,66)",
          "width": 10
         },
         "mode": "lines",
         "name": "Transfer TP",
         "type": "scatter",
         "x": [
          "1970-01-01T00:17:28.107050",
          "1970-01-01T00:17:28.107050",
          "1970-01-01T00:17:39.107050",
          "1970-01-01T00:17:39.107050",
          "1970-01-01T00:17:39.107050",
          "1970-01-01T00:54:10.231856",
          "1970-01-01T00:54:10.231856",
          "1970-01-01T00:54:21.231856",
          "1970-01-01T00:54:21.231856",
          "1970-01-01T00:54:21.231856",
          "1970-01-01T01:32:36.067367",
          "1970-01-01T01:32:36.067367",
          "1970-01-01T01:32:47.067367",
          "1970-01-01T01:32:47.067367",
          "1970-01-01T01:32:47.067367"
         ],
         "y": [
          "Transfer TP",
          "Transfer TP",
          "Transfer TP",
          "Transfer TP",
          null,
          "Transfer TP",
          "Transfer TP",
          "Transfer TP",
          "Transfer TP",
          null,
          "Transfer TP",
          "Transfer TP",
          "Transfer TP",
          "Transfer TP",
          null
         ]
        },
        {
         "connectgaps": false,
         "hoverinfo": "y+name",
         "line": {
          "color": "rgb(205,23,75)",
          "width": 10
         },
         "mode": "lines",
         "name": "delay and downtime Basic activity Basic activity",
         "type": "scatter",
         "x": [
          "1970-01-01T00:17:39.107050",
          "1970-01-01T00:17:39.107050",
          "1970-01-01T00:17:39.107050",
          "1970-01-01T00:17:39.107050",
          "1970-01-01T00:17:39.107050",
          "1970-01-01T00:54:21.231856",
          "1970-01-01T00:54:21.231856",
          "1970-01-01T00:54:21.231856",
          "1970-01-01T00:54:21.231856",
          "1970-01-01T00:54:21.231856",
          "1970-01-01T01:32:47.067367",
          "1970-01-01T01:32:47.067367",
          "1970-01-01T01:32:47.067367",
          "1970-01-01T01:32:47.067367",
          "1970-01-01T01:32:47.067367"
         ],
         "y": [
          "Basic activity",
          "Basic activity",
          "Basic activity",
          "Basic activity",
          null,
          "Basic activity",
          "Basic activity",
          "Basic activity",
          "Basic activity",
          null,
          "Basic activity",
          "Basic activity",
          "Basic activity",
          "Basic activity",
          null
         ]
        },
        {
         "connectgaps": false,
         "hoverinfo": "y+name",
         "line": {
          "color": "rgb(214,32,84)",
          "width": 10
         },
         "mode": "lines",
         "name": "Basic activity",
         "type": "scatter",
         "x": [
          "1970-01-01T00:17:39.107050",
          "1970-01-01T00:17:39.107050",
          "1970-01-01T00:17:39.107050",
          "1970-01-01T00:17:39.107050",
          "1970-01-01T00:17:39.107050",
          "1970-01-01T00:54:21.231856",
          "1970-01-01T00:54:21.231856",
          "1970-01-01T00:54:21.231856",
          "1970-01-01T00:54:21.231856",
          "1970-01-01T00:54:21.231856",
          "1970-01-01T01:32:47.067367",
          "1970-01-01T01:32:47.067367",
          "1970-01-01T01:32:47.067367",
          "1970-01-01T01:32:47.067367",
          "1970-01-01T01:32:47.067367",
          "1970-01-01T00:17:39.107050",
          "1970-01-01T00:17:39.107050",
          "1970-01-01T00:17:39.107050",
          "1970-01-01T00:17:39.107050",
          "1970-01-01T00:17:39.107050",
          "1970-01-01T00:54:21.231856",
          "1970-01-01T00:54:21.231856",
          "1970-01-01T00:54:21.231856",
          "1970-01-01T00:54:21.231856",
          "1970-01-01T00:54:21.231856",
          "1970-01-01T01:32:47.067367",
          "1970-01-01T01:32:47.067367",
          "1970-01-01T01:32:47.067367",
          "1970-01-01T01:32:47.067367",
          "1970-01-01T01:32:47.067367"
         ],
         "y": [
          "Hopper 01",
          "Hopper 01",
          "Hopper 01",
          "Hopper 01",
          null,
          "Hopper 01",
          "Hopper 01",
          "Hopper 01",
          "Hopper 01",
          null,
          "Hopper 01",
          "Hopper 01",
          "Hopper 01",
          "Hopper 01",
          null,
          "Basic activity",
          "Basic activity",
          "Basic activity",
          "Basic activity",
          null,
          "Basic activity",
          "Basic activity",
          "Basic activity",
          "Basic activity",
          null,
          "Basic activity",
          "Basic activity",
          "Basic activity",
          "Basic activity",
          null
         ]
        }
       ],
       "layout": {
        "hovermode": "closest",
        "legend": {
         "orientation": "h",
         "x": 0,
         "y": -0.2
        },
        "template": {
         "data": {
          "bar": [
           {
            "error_x": {
             "color": "#2a3f5f"
            },
            "error_y": {
             "color": "#2a3f5f"
            },
            "marker": {
             "line": {
              "color": "#E5ECF6",
              "width": 0.5
             }
            },
            "type": "bar"
           }
          ],
          "barpolar": [
           {
            "marker": {
             "line": {
              "color": "#E5ECF6",
              "width": 0.5
             }
            },
            "type": "barpolar"
           }
          ],
          "carpet": [
           {
            "aaxis": {
             "endlinecolor": "#2a3f5f",
             "gridcolor": "white",
             "linecolor": "white",
             "minorgridcolor": "white",
             "startlinecolor": "#2a3f5f"
            },
            "baxis": {
             "endlinecolor": "#2a3f5f",
             "gridcolor": "white",
             "linecolor": "white",
             "minorgridcolor": "white",
             "startlinecolor": "#2a3f5f"
            },
            "type": "carpet"
           }
          ],
          "choropleth": [
           {
            "colorbar": {
             "outlinewidth": 0,
             "ticks": ""
            },
            "type": "choropleth"
           }
          ],
          "contour": [
           {
            "colorbar": {
             "outlinewidth": 0,
             "ticks": ""
            },
            "colorscale": [
             [
              0,
              "#0d0887"
             ],
             [
              0.1111111111111111,
              "#46039f"
             ],
             [
              0.2222222222222222,
              "#7201a8"
             ],
             [
              0.3333333333333333,
              "#9c179e"
             ],
             [
              0.4444444444444444,
              "#bd3786"
             ],
             [
              0.5555555555555556,
              "#d8576b"
             ],
             [
              0.6666666666666666,
              "#ed7953"
             ],
             [
              0.7777777777777778,
              "#fb9f3a"
             ],
             [
              0.8888888888888888,
              "#fdca26"
             ],
             [
              1,
              "#f0f921"
             ]
            ],
            "type": "contour"
           }
          ],
          "contourcarpet": [
           {
            "colorbar": {
             "outlinewidth": 0,
             "ticks": ""
            },
            "type": "contourcarpet"
           }
          ],
          "heatmap": [
           {
            "colorbar": {
             "outlinewidth": 0,
             "ticks": ""
            },
            "colorscale": [
             [
              0,
              "#0d0887"
             ],
             [
              0.1111111111111111,
              "#46039f"
             ],
             [
              0.2222222222222222,
              "#7201a8"
             ],
             [
              0.3333333333333333,
              "#9c179e"
             ],
             [
              0.4444444444444444,
              "#bd3786"
             ],
             [
              0.5555555555555556,
              "#d8576b"
             ],
             [
              0.6666666666666666,
              "#ed7953"
             ],
             [
              0.7777777777777778,
              "#fb9f3a"
             ],
             [
              0.8888888888888888,
              "#fdca26"
             ],
             [
              1,
              "#f0f921"
             ]
            ],
            "type": "heatmap"
           }
          ],
          "heatmapgl": [
           {
            "colorbar": {
             "outlinewidth": 0,
             "ticks": ""
            },
            "colorscale": [
             [
              0,
              "#0d0887"
             ],
             [
              0.1111111111111111,
              "#46039f"
             ],
             [
              0.2222222222222222,
              "#7201a8"
             ],
             [
              0.3333333333333333,
              "#9c179e"
             ],
             [
              0.4444444444444444,
              "#bd3786"
             ],
             [
              0.5555555555555556,
              "#d8576b"
             ],
             [
              0.6666666666666666,
              "#ed7953"
             ],
             [
              0.7777777777777778,
              "#fb9f3a"
             ],
             [
              0.8888888888888888,
              "#fdca26"
             ],
             [
              1,
              "#f0f921"
             ]
            ],
            "type": "heatmapgl"
           }
          ],
          "histogram": [
           {
            "marker": {
             "colorbar": {
              "outlinewidth": 0,
              "ticks": ""
             }
            },
            "type": "histogram"
           }
          ],
          "histogram2d": [
           {
            "colorbar": {
             "outlinewidth": 0,
             "ticks": ""
            },
            "colorscale": [
             [
              0,
              "#0d0887"
             ],
             [
              0.1111111111111111,
              "#46039f"
             ],
             [
              0.2222222222222222,
              "#7201a8"
             ],
             [
              0.3333333333333333,
              "#9c179e"
             ],
             [
              0.4444444444444444,
              "#bd3786"
             ],
             [
              0.5555555555555556,
              "#d8576b"
             ],
             [
              0.6666666666666666,
              "#ed7953"
             ],
             [
              0.7777777777777778,
              "#fb9f3a"
             ],
             [
              0.8888888888888888,
              "#fdca26"
             ],
             [
              1,
              "#f0f921"
             ]
            ],
            "type": "histogram2d"
           }
          ],
          "histogram2dcontour": [
           {
            "colorbar": {
             "outlinewidth": 0,
             "ticks": ""
            },
            "colorscale": [
             [
              0,
              "#0d0887"
             ],
             [
              0.1111111111111111,
              "#46039f"
             ],
             [
              0.2222222222222222,
              "#7201a8"
             ],
             [
              0.3333333333333333,
              "#9c179e"
             ],
             [
              0.4444444444444444,
              "#bd3786"
             ],
             [
              0.5555555555555556,
              "#d8576b"
             ],
             [
              0.6666666666666666,
              "#ed7953"
             ],
             [
              0.7777777777777778,
              "#fb9f3a"
             ],
             [
              0.8888888888888888,
              "#fdca26"
             ],
             [
              1,
              "#f0f921"
             ]
            ],
            "type": "histogram2dcontour"
           }
          ],
          "mesh3d": [
           {
            "colorbar": {
             "outlinewidth": 0,
             "ticks": ""
            },
            "type": "mesh3d"
           }
          ],
          "parcoords": [
           {
            "line": {
             "colorbar": {
              "outlinewidth": 0,
              "ticks": ""
             }
            },
            "type": "parcoords"
           }
          ],
          "pie": [
           {
            "automargin": true,
            "type": "pie"
           }
          ],
          "scatter": [
           {
            "marker": {
             "colorbar": {
              "outlinewidth": 0,
              "ticks": ""
             }
            },
            "type": "scatter"
           }
          ],
          "scatter3d": [
           {
            "line": {
             "colorbar": {
              "outlinewidth": 0,
              "ticks": ""
             }
            },
            "marker": {
             "colorbar": {
              "outlinewidth": 0,
              "ticks": ""
             }
            },
            "type": "scatter3d"
           }
          ],
          "scattercarpet": [
           {
            "marker": {
             "colorbar": {
              "outlinewidth": 0,
              "ticks": ""
             }
            },
            "type": "scattercarpet"
           }
          ],
          "scattergeo": [
           {
            "marker": {
             "colorbar": {
              "outlinewidth": 0,
              "ticks": ""
             }
            },
            "type": "scattergeo"
           }
          ],
          "scattergl": [
           {
            "marker": {
             "colorbar": {
              "outlinewidth": 0,
              "ticks": ""
             }
            },
            "type": "scattergl"
           }
          ],
          "scattermapbox": [
           {
            "marker": {
             "colorbar": {
              "outlinewidth": 0,
              "ticks": ""
             }
            },
            "type": "scattermapbox"
           }
          ],
          "scatterpolar": [
           {
            "marker": {
             "colorbar": {
              "outlinewidth": 0,
              "ticks": ""
             }
            },
            "type": "scatterpolar"
           }
          ],
          "scatterpolargl": [
           {
            "marker": {
             "colorbar": {
              "outlinewidth": 0,
              "ticks": ""
             }
            },
            "type": "scatterpolargl"
           }
          ],
          "scatterternary": [
           {
            "marker": {
             "colorbar": {
              "outlinewidth": 0,
              "ticks": ""
             }
            },
            "type": "scatterternary"
           }
          ],
          "surface": [
           {
            "colorbar": {
             "outlinewidth": 0,
             "ticks": ""
            },
            "colorscale": [
             [
              0,
              "#0d0887"
             ],
             [
              0.1111111111111111,
              "#46039f"
             ],
             [
              0.2222222222222222,
              "#7201a8"
             ],
             [
              0.3333333333333333,
              "#9c179e"
             ],
             [
              0.4444444444444444,
              "#bd3786"
             ],
             [
              0.5555555555555556,
              "#d8576b"
             ],
             [
              0.6666666666666666,
              "#ed7953"
             ],
             [
              0.7777777777777778,
              "#fb9f3a"
             ],
             [
              0.8888888888888888,
              "#fdca26"
             ],
             [
              1,
              "#f0f921"
             ]
            ],
            "type": "surface"
           }
          ],
          "table": [
           {
            "cells": {
             "fill": {
              "color": "#EBF0F8"
             },
             "line": {
              "color": "white"
             }
            },
            "header": {
             "fill": {
              "color": "#C8D4E3"
             },
             "line": {
              "color": "white"
             }
            },
            "type": "table"
           }
          ]
         },
         "layout": {
          "annotationdefaults": {
           "arrowcolor": "#2a3f5f",
           "arrowhead": 0,
           "arrowwidth": 1
          },
          "coloraxis": {
           "colorbar": {
            "outlinewidth": 0,
            "ticks": ""
           }
          },
          "colorscale": {
           "diverging": [
            [
             0,
             "#8e0152"
            ],
            [
             0.1,
             "#c51b7d"
            ],
            [
             0.2,
             "#de77ae"
            ],
            [
             0.3,
             "#f1b6da"
            ],
            [
             0.4,
             "#fde0ef"
            ],
            [
             0.5,
             "#f7f7f7"
            ],
            [
             0.6,
             "#e6f5d0"
            ],
            [
             0.7,
             "#b8e186"
            ],
            [
             0.8,
             "#7fbc41"
            ],
            [
             0.9,
             "#4d9221"
            ],
            [
             1,
             "#276419"
            ]
           ],
           "sequential": [
            [
             0,
             "#0d0887"
            ],
            [
             0.1111111111111111,
             "#46039f"
            ],
            [
             0.2222222222222222,
             "#7201a8"
            ],
            [
             0.3333333333333333,
             "#9c179e"
            ],
            [
             0.4444444444444444,
             "#bd3786"
            ],
            [
             0.5555555555555556,
             "#d8576b"
            ],
            [
             0.6666666666666666,
             "#ed7953"
            ],
            [
             0.7777777777777778,
             "#fb9f3a"
            ],
            [
             0.8888888888888888,
             "#fdca26"
            ],
            [
             1,
             "#f0f921"
            ]
           ],
           "sequentialminus": [
            [
             0,
             "#0d0887"
            ],
            [
             0.1111111111111111,
             "#46039f"
            ],
            [
             0.2222222222222222,
             "#7201a8"
            ],
            [
             0.3333333333333333,
             "#9c179e"
            ],
            [
             0.4444444444444444,
             "#bd3786"
            ],
            [
             0.5555555555555556,
             "#d8576b"
            ],
            [
             0.6666666666666666,
             "#ed7953"
            ],
            [
             0.7777777777777778,
             "#fb9f3a"
            ],
            [
             0.8888888888888888,
             "#fdca26"
            ],
            [
             1,
             "#f0f921"
            ]
           ]
          },
          "colorway": [
           "#636efa",
           "#EF553B",
           "#00cc96",
           "#ab63fa",
           "#FFA15A",
           "#19d3f3",
           "#FF6692",
           "#B6E880",
           "#FF97FF",
           "#FECB52"
          ],
          "font": {
           "color": "#2a3f5f"
          },
          "geo": {
           "bgcolor": "white",
           "lakecolor": "white",
           "landcolor": "#E5ECF6",
           "showlakes": true,
           "showland": true,
           "subunitcolor": "white"
          },
          "hoverlabel": {
           "align": "left"
          },
          "hovermode": "closest",
          "mapbox": {
           "style": "light"
          },
          "paper_bgcolor": "white",
          "plot_bgcolor": "#E5ECF6",
          "polar": {
           "angularaxis": {
            "gridcolor": "white",
            "linecolor": "white",
            "ticks": ""
           },
           "bgcolor": "#E5ECF6",
           "radialaxis": {
            "gridcolor": "white",
            "linecolor": "white",
            "ticks": ""
           }
          },
          "scene": {
           "xaxis": {
            "backgroundcolor": "#E5ECF6",
            "gridcolor": "white",
            "gridwidth": 2,
            "linecolor": "white",
            "showbackground": true,
            "ticks": "",
            "zerolinecolor": "white"
           },
           "yaxis": {
            "backgroundcolor": "#E5ECF6",
            "gridcolor": "white",
            "gridwidth": 2,
            "linecolor": "white",
            "showbackground": true,
            "ticks": "",
            "zerolinecolor": "white"
           },
           "zaxis": {
            "backgroundcolor": "#E5ECF6",
            "gridcolor": "white",
            "gridwidth": 2,
            "linecolor": "white",
            "showbackground": true,
            "ticks": "",
            "zerolinecolor": "white"
           }
          },
          "shapedefaults": {
           "line": {
            "color": "#2a3f5f"
           }
          },
          "ternary": {
           "aaxis": {
            "gridcolor": "white",
            "linecolor": "white",
            "ticks": ""
           },
           "baxis": {
            "gridcolor": "white",
            "linecolor": "white",
            "ticks": ""
           },
           "bgcolor": "#E5ECF6",
           "caxis": {
            "gridcolor": "white",
            "linecolor": "white",
            "ticks": ""
           }
          },
          "title": {
           "x": 0.05
          },
          "xaxis": {
           "automargin": true,
           "gridcolor": "white",
           "linecolor": "white",
           "ticks": "",
           "title": {
            "standoff": 15
           },
           "zerolinecolor": "white",
           "zerolinewidth": 2
          },
          "yaxis": {
           "automargin": true,
           "gridcolor": "white",
           "linecolor": "white",
           "ticks": "",
           "title": {
            "standoff": 15
           },
           "zerolinecolor": "white",
           "zerolinewidth": 2
          }
         }
        },
        "title": {
         "text": "Vessel planning"
        },
        "xaxis": {
         "range": [
          "1970-01-01T00:00:00",
          "1970-01-01T01:45:54.357655"
         ],
         "title": {
          "font": {
           "color": "#7f7f7f",
           "family": "Courier New, monospace",
           "size": 18
          },
          "text": "Time"
         }
        },
        "yaxis": {
         "title": {
          "font": {
           "color": "#7f7f7f",
           "family": "Courier New, monospace",
           "size": 18
          },
          "text": "Vessels"
         }
        }
       }
      },
      "text/html": [
       "<div>                            <div id=\"cab0c8ce-9413-4832-96e5-79092d79bb88\" class=\"plotly-graph-div\" style=\"height:525px; width:100%;\"></div>            <script type=\"text/javascript\">                require([\"plotly\"], function(Plotly) {                    window.PLOTLYENV=window.PLOTLYENV || {};                                    if (document.getElementById(\"cab0c8ce-9413-4832-96e5-79092d79bb88\")) {                    Plotly.newPlot(                        \"cab0c8ce-9413-4832-96e5-79092d79bb88\",                        [{\"connectgaps\": false, \"hoverinfo\": \"y+name\", \"line\": {\"color\": \"rgb(236,54,106)\", \"width\": 10}, \"mode\": \"lines\", \"name\": \"Basic activity\", \"type\": \"scatter\", \"x\": [\"1970-01-01T00:17:39.107050\", \"1970-01-01T00:17:39.107050\", \"1970-01-01T00:17:39.107050\", \"1970-01-01T00:17:39.107050\", \"1970-01-01T00:17:39.107050\", \"1970-01-01T00:54:21.231856\", \"1970-01-01T00:54:21.231856\", \"1970-01-01T00:54:21.231856\", \"1970-01-01T00:54:21.231856\", \"1970-01-01T00:54:21.231856\", \"1970-01-01T01:32:47.067367\", \"1970-01-01T01:32:47.067367\", \"1970-01-01T01:32:47.067367\", \"1970-01-01T01:32:47.067367\", \"1970-01-01T01:32:47.067367\", \"1970-01-01T00:17:39.107050\", \"1970-01-01T00:17:39.107050\", \"1970-01-01T00:17:39.107050\", \"1970-01-01T00:17:39.107050\", \"1970-01-01T00:17:39.107050\", \"1970-01-01T00:54:21.231856\", \"1970-01-01T00:54:21.231856\", \"1970-01-01T00:54:21.231856\", \"1970-01-01T00:54:21.231856\", \"1970-01-01T00:54:21.231856\", \"1970-01-01T01:32:47.067367\", \"1970-01-01T01:32:47.067367\", \"1970-01-01T01:32:47.067367\", \"1970-01-01T01:32:47.067367\", \"1970-01-01T01:32:47.067367\"], \"y\": [\"Hopper 01\", \"Hopper 01\", \"Hopper 01\", \"Hopper 01\", null, \"Hopper 01\", \"Hopper 01\", \"Hopper 01\", \"Hopper 01\", null, \"Hopper 01\", \"Hopper 01\", \"Hopper 01\", \"Hopper 01\", null, \"Basic activity\", \"Basic activity\", \"Basic activity\", \"Basic activity\", null, \"Basic activity\", \"Basic activity\", \"Basic activity\", \"Basic activity\", null, \"Basic activity\", \"Basic activity\", \"Basic activity\", \"Basic activity\", null]}, {\"connectgaps\": false, \"hoverinfo\": \"y+name\", \"line\": {\"color\": \"rgb(245,63,115)\", \"width\": 10}, \"mode\": \"lines\", \"name\": \"move activity sailing filler of Hopper 01 to Dumplocatie\", \"type\": \"scatter\", \"x\": [\"1970-01-01T00:00:11\", \"1970-01-01T00:00:11\", \"1970-01-01T00:15:53.824591\", \"1970-01-01T00:15:53.824591\", \"1970-01-01T00:15:53.824591\", \"1970-01-01T00:36:53.124806\", \"1970-01-01T00:36:53.124806\", \"1970-01-01T00:52:35.949397\", \"1970-01-01T00:52:35.949397\", \"1970-01-01T00:52:35.949397\", \"1970-01-01T01:15:18.960317\", \"1970-01-01T01:15:18.960317\", \"1970-01-01T01:31:01.784908\", \"1970-01-01T01:31:01.784908\", \"1970-01-01T01:31:01.784908\", \"1970-01-01T00:00:11\", \"1970-01-01T00:00:11\", \"1970-01-01T00:17:28.107050\", \"1970-01-01T00:17:28.107050\", \"1970-01-01T00:17:28.107050\", \"1970-01-01T00:36:53.124806\", \"1970-01-01T00:36:53.124806\", \"1970-01-01T00:54:10.231856\", \"1970-01-01T00:54:10.231856\", \"1970-01-01T00:54:10.231856\", \"1970-01-01T01:15:18.960317\", \"1970-01-01T01:15:18.960317\", \"1970-01-01T01:32:36.067367\", \"1970-01-01T01:32:36.067367\", \"1970-01-01T01:32:36.067367\"], \"y\": [\"Hopper 01\", \"Hopper 01\", \"Hopper 01\", \"Hopper 01\", null, \"Hopper 01\", \"Hopper 01\", \"Hopper 01\", \"Hopper 01\", null, \"Hopper 01\", \"Hopper 01\", \"Hopper 01\", \"Hopper 01\", null, \"sailing filler\", \"sailing filler\", \"sailing filler\", \"sailing filler\", null, \"sailing filler\", \"sailing filler\", \"sailing filler\", \"sailing filler\", null, \"sailing filler\", \"sailing filler\", \"sailing filler\", \"sailing filler\", null]}, {\"connectgaps\": false, \"hoverinfo\": \"y+name\", \"line\": {\"color\": \"rgb(254,72,124)\", \"width\": 10}, \"mode\": \"lines\", \"name\": \"move activity sailing empty of Hopper 01 to Winlocatie\", \"type\": \"scatter\", \"x\": [\"1970-01-01T00:00:00\", \"1970-01-01T00:00:00\", \"1970-01-01T00:00:00\", \"1970-01-01T00:00:00\", \"1970-01-01T00:00:00\", \"1970-01-01T00:19:25.017755\", \"1970-01-01T00:19:25.017755\", \"1970-01-01T00:35:07.842347\", \"1970-01-01T00:35:07.842347\", \"1970-01-01T00:35:07.842347\", \"1970-01-01T00:57:50.853266\", \"1970-01-01T00:57:50.853266\", \"1970-01-01T01:13:33.677858\", \"1970-01-01T01:13:33.677858\", \"1970-01-01T01:13:33.677858\", \"1970-01-01T00:00:00\", \"1970-01-01T00:00:00\", \"1970-01-01T00:00:00\", \"1970-01-01T00:00:00\", \"1970-01-01T00:00:00\", \"1970-01-01T00:19:25.017755\", \"1970-01-01T00:19:25.017755\", \"1970-01-01T00:36:42.124806\", \"1970-01-01T00:36:42.124806\", \"1970-01-01T00:36:42.124806\", \"1970-01-01T00:57:50.853266\", \"1970-01-01T00:57:50.853266\", \"1970-01-01T01:15:07.960317\", \"1970-01-01T01:15:07.960317\", \"1970-01-01T01:15:07.960317\"], \"y\": [\"Hopper 01\", \"Hopper 01\", \"Hopper 01\", \"Hopper 01\", null, \"Hopper 01\", \"Hopper 01\", \"Hopper 01\", \"Hopper 01\", null, \"Hopper 01\", \"Hopper 01\", \"Hopper 01\", \"Hopper 01\", null, \"sailing empty\", \"sailing empty\", \"sailing empty\", \"sailing empty\", null, \"sailing empty\", \"sailing empty\", \"sailing empty\", \"sailing empty\", null, \"sailing empty\", \"sailing empty\", \"sailing empty\", \"sailing empty\", null]}, {\"connectgaps\": false, \"hoverinfo\": \"y+name\", \"line\": {\"color\": \"rgb(7,81,133)\", \"width\": 10}, \"mode\": \"lines\", \"name\": \"Shift amount activity Transfer MP transfer default from Winlocatie to Hopper 01 with Hopper 01\", \"type\": \"scatter\", \"x\": [\"1970-01-01T00:00:00\", \"1970-01-01T00:00:00\", \"1970-01-01T00:00:10\", \"1970-01-01T00:00:10\", \"1970-01-01T00:00:10\", \"1970-01-01T00:00:00\", \"1970-01-01T00:00:00\", \"1970-01-01T00:00:10\", \"1970-01-01T00:00:10\", \"1970-01-01T00:00:10\", \"1970-01-01T00:36:42.124806\", \"1970-01-01T00:36:42.124806\", \"1970-01-01T00:36:52.124806\", \"1970-01-01T00:36:52.124806\", \"1970-01-01T00:36:52.124806\", \"1970-01-01T00:36:42.124806\", \"1970-01-01T00:36:42.124806\", \"1970-01-01T00:36:52.124806\", \"1970-01-01T00:36:52.124806\", \"1970-01-01T00:36:52.124806\", \"1970-01-01T01:15:07.960317\", \"1970-01-01T01:15:07.960317\", \"1970-01-01T01:15:17.960317\", \"1970-01-01T01:15:17.960317\", \"1970-01-01T01:15:17.960317\", \"1970-01-01T01:15:07.960317\", \"1970-01-01T01:15:07.960317\", \"1970-01-01T01:15:17.960317\", \"1970-01-01T01:15:17.960317\", \"1970-01-01T01:15:17.960317\", \"1970-01-01T00:00:00\", \"1970-01-01T00:00:00\", \"1970-01-01T00:00:10\", \"1970-01-01T00:00:10\", \"1970-01-01T00:00:10\", \"1970-01-01T00:36:42.124806\", \"1970-01-01T00:36:42.124806\", \"1970-01-01T00:36:52.124806\", \"1970-01-01T00:36:52.124806\", \"1970-01-01T00:36:52.124806\", \"1970-01-01T01:15:07.960317\", \"1970-01-01T01:15:07.960317\", \"1970-01-01T01:15:17.960317\", \"1970-01-01T01:15:17.960317\", \"1970-01-01T01:15:17.960317\"], \"y\": [\"Hopper 01\", \"Hopper 01\", \"Hopper 01\", \"Hopper 01\", null, \"Hopper 01\", \"Hopper 01\", \"Hopper 01\", \"Hopper 01\", null, \"Hopper 01\", \"Hopper 01\", \"Hopper 01\", \"Hopper 01\", null, \"Hopper 01\", \"Hopper 01\", \"Hopper 01\", \"Hopper 01\", null, \"Hopper 01\", \"Hopper 01\", \"Hopper 01\", \"Hopper 01\", null, \"Hopper 01\", \"Hopper 01\", \"Hopper 01\", \"Hopper 01\", null, \"Winlocatie\", \"Winlocatie\", \"Winlocatie\", \"Winlocatie\", null, \"Winlocatie\", \"Winlocatie\", \"Winlocatie\", \"Winlocatie\", null, \"Winlocatie\", \"Winlocatie\", \"Winlocatie\", \"Winlocatie\", null]}, {\"connectgaps\": false, \"hoverinfo\": \"y+name\", \"line\": {\"color\": \"rgb(16,90,142)\", \"width\": 10}, \"mode\": \"lines\", \"name\": \"Shift amount activity Transfer TP transfer default from Hopper 01 to Dumplocatie with Hopper 01\", \"type\": \"scatter\", \"x\": [\"1970-01-01T00:17:28.107050\", \"1970-01-01T00:17:28.107050\", \"1970-01-01T00:17:38.107050\", \"1970-01-01T00:17:38.107050\", \"1970-01-01T00:17:38.107050\", \"1970-01-01T00:17:28.107050\", \"1970-01-01T00:17:28.107050\", \"1970-01-01T00:17:38.107050\", \"1970-01-01T00:17:38.107050\", \"1970-01-01T00:17:38.107050\", \"1970-01-01T00:54:10.231856\", \"1970-01-01T00:54:10.231856\", \"1970-01-01T00:54:20.231856\", \"1970-01-01T00:54:20.231856\", \"1970-01-01T00:54:20.231856\", \"1970-01-01T00:54:10.231856\", \"1970-01-01T00:54:10.231856\", \"1970-01-01T00:54:20.231856\", \"1970-01-01T00:54:20.231856\", \"1970-01-01T00:54:20.231856\", \"1970-01-01T01:32:36.067367\", \"1970-01-01T01:32:36.067367\", \"1970-01-01T01:32:46.067367\", \"1970-01-01T01:32:46.067367\", \"1970-01-01T01:32:46.067367\", \"1970-01-01T01:32:36.067367\", \"1970-01-01T01:32:36.067367\", \"1970-01-01T01:32:46.067367\", \"1970-01-01T01:32:46.067367\", \"1970-01-01T01:32:46.067367\", \"1970-01-01T00:17:28.107050\", \"1970-01-01T00:17:28.107050\", \"1970-01-01T00:17:38.107050\", \"1970-01-01T00:17:38.107050\", \"1970-01-01T00:17:38.107050\", \"1970-01-01T00:54:10.231856\", \"1970-01-01T00:54:10.231856\", \"1970-01-01T00:54:20.231856\", \"1970-01-01T00:54:20.231856\", \"1970-01-01T00:54:20.231856\", \"1970-01-01T01:32:36.067367\", \"1970-01-01T01:32:36.067367\", \"1970-01-01T01:32:46.067367\", \"1970-01-01T01:32:46.067367\", \"1970-01-01T01:32:46.067367\"], \"y\": [\"Hopper 01\", \"Hopper 01\", \"Hopper 01\", \"Hopper 01\", null, \"Hopper 01\", \"Hopper 01\", \"Hopper 01\", \"Hopper 01\", null, \"Hopper 01\", \"Hopper 01\", \"Hopper 01\", \"Hopper 01\", null, \"Hopper 01\", \"Hopper 01\", \"Hopper 01\", \"Hopper 01\", null, \"Hopper 01\", \"Hopper 01\", \"Hopper 01\", \"Hopper 01\", null, \"Hopper 01\", \"Hopper 01\", \"Hopper 01\", \"Hopper 01\", null, \"Dumplocatie\", \"Dumplocatie\", \"Dumplocatie\", \"Dumplocatie\", null, \"Dumplocatie\", \"Dumplocatie\", \"Dumplocatie\", \"Dumplocatie\", null, \"Dumplocatie\", \"Dumplocatie\", \"Dumplocatie\", \"Dumplocatie\", null]}, {\"connectgaps\": false, \"hoverinfo\": \"y+name\", \"line\": {\"color\": \"rgb(25,99,151)\", \"width\": 10}, \"mode\": \"lines\", \"name\": \"Shift amount activity Transfer MP transfer default from Winlocatie to Hopper 01 with Hopper 01\", \"type\": \"scatter\", \"x\": [\"1970-01-01T00:00:00\", \"1970-01-01T00:00:00\", \"1970-01-01T00:00:10\", \"1970-01-01T00:00:10\", \"1970-01-01T00:00:10\", \"1970-01-01T00:00:00\", \"1970-01-01T00:00:00\", \"1970-01-01T00:00:10\", \"1970-01-01T00:00:10\", \"1970-01-01T00:00:10\", \"1970-01-01T00:36:42.124806\", \"1970-01-01T00:36:42.124806\", \"1970-01-01T00:36:52.124806\", \"1970-01-01T00:36:52.124806\", \"1970-01-01T00:36:52.124806\", \"1970-01-01T00:36:42.124806\", \"1970-01-01T00:36:42.124806\", \"1970-01-01T00:36:52.124806\", \"1970-01-01T00:36:52.124806\", \"1970-01-01T00:36:52.124806\", \"1970-01-01T01:15:07.960317\", \"1970-01-01T01:15:07.960317\", \"1970-01-01T01:15:17.960317\", \"1970-01-01T01:15:17.960317\", \"1970-01-01T01:15:17.960317\", \"1970-01-01T01:15:07.960317\", \"1970-01-01T01:15:07.960317\", \"1970-01-01T01:15:17.960317\", \"1970-01-01T01:15:17.960317\", \"1970-01-01T01:15:17.960317\", \"1970-01-01T00:00:00\", \"1970-01-01T00:00:00\", \"1970-01-01T00:00:10\", \"1970-01-01T00:00:10\", \"1970-01-01T00:00:10\", \"1970-01-01T00:36:42.124806\", \"1970-01-01T00:36:42.124806\", \"1970-01-01T00:36:52.124806\", \"1970-01-01T00:36:52.124806\", \"1970-01-01T00:36:52.124806\", \"1970-01-01T01:15:07.960317\", \"1970-01-01T01:15:07.960317\", \"1970-01-01T01:15:17.960317\", \"1970-01-01T01:15:17.960317\", \"1970-01-01T01:15:17.960317\"], \"y\": [\"Hopper 01\", \"Hopper 01\", \"Hopper 01\", \"Hopper 01\", null, \"Hopper 01\", \"Hopper 01\", \"Hopper 01\", \"Hopper 01\", null, \"Hopper 01\", \"Hopper 01\", \"Hopper 01\", \"Hopper 01\", null, \"Hopper 01\", \"Hopper 01\", \"Hopper 01\", \"Hopper 01\", null, \"Hopper 01\", \"Hopper 01\", \"Hopper 01\", \"Hopper 01\", null, \"Hopper 01\", \"Hopper 01\", \"Hopper 01\", \"Hopper 01\", null, \"Winlocatie\", \"Winlocatie\", \"Winlocatie\", \"Winlocatie\", null, \"Winlocatie\", \"Winlocatie\", \"Winlocatie\", \"Winlocatie\", null, \"Winlocatie\", \"Winlocatie\", \"Winlocatie\", \"Winlocatie\", null]}, {\"connectgaps\": false, \"hoverinfo\": \"y+name\", \"line\": {\"color\": \"rgb(34,108,160)\", \"width\": 10}, \"mode\": \"lines\", \"name\": \"Shift amount activity Transfer TP transfer default from Hopper 01 to Dumplocatie with Hopper 01\", \"type\": \"scatter\", \"x\": [\"1970-01-01T00:17:28.107050\", \"1970-01-01T00:17:28.107050\", \"1970-01-01T00:17:38.107050\", \"1970-01-01T00:17:38.107050\", \"1970-01-01T00:17:38.107050\", \"1970-01-01T00:17:28.107050\", \"1970-01-01T00:17:28.107050\", \"1970-01-01T00:17:38.107050\", \"1970-01-01T00:17:38.107050\", \"1970-01-01T00:17:38.107050\", \"1970-01-01T00:54:10.231856\", \"1970-01-01T00:54:10.231856\", \"1970-01-01T00:54:20.231856\", \"1970-01-01T00:54:20.231856\", \"1970-01-01T00:54:20.231856\", \"1970-01-01T00:54:10.231856\", \"1970-01-01T00:54:10.231856\", \"1970-01-01T00:54:20.231856\", \"1970-01-01T00:54:20.231856\", \"1970-01-01T00:54:20.231856\", \"1970-01-01T01:32:36.067367\", \"1970-01-01T01:32:36.067367\", \"1970-01-01T01:32:46.067367\", \"1970-01-01T01:32:46.067367\", \"1970-01-01T01:32:46.067367\", \"1970-01-01T01:32:36.067367\", \"1970-01-01T01:32:36.067367\", \"1970-01-01T01:32:46.067367\", \"1970-01-01T01:32:46.067367\", \"1970-01-01T01:32:46.067367\", \"1970-01-01T00:17:28.107050\", \"1970-01-01T00:17:28.107050\", \"1970-01-01T00:17:38.107050\", \"1970-01-01T00:17:38.107050\", \"1970-01-01T00:17:38.107050\", \"1970-01-01T00:54:10.231856\", \"1970-01-01T00:54:10.231856\", \"1970-01-01T00:54:20.231856\", \"1970-01-01T00:54:20.231856\", \"1970-01-01T00:54:20.231856\", \"1970-01-01T01:32:36.067367\", \"1970-01-01T01:32:36.067367\", \"1970-01-01T01:32:46.067367\", \"1970-01-01T01:32:46.067367\", \"1970-01-01T01:32:46.067367\"], \"y\": [\"Hopper 01\", \"Hopper 01\", \"Hopper 01\", \"Hopper 01\", null, \"Hopper 01\", \"Hopper 01\", \"Hopper 01\", \"Hopper 01\", null, \"Hopper 01\", \"Hopper 01\", \"Hopper 01\", \"Hopper 01\", null, \"Hopper 01\", \"Hopper 01\", \"Hopper 01\", \"Hopper 01\", null, \"Hopper 01\", \"Hopper 01\", \"Hopper 01\", \"Hopper 01\", null, \"Hopper 01\", \"Hopper 01\", \"Hopper 01\", \"Hopper 01\", null, \"Dumplocatie\", \"Dumplocatie\", \"Dumplocatie\", \"Dumplocatie\", null, \"Dumplocatie\", \"Dumplocatie\", \"Dumplocatie\", \"Dumplocatie\", null, \"Dumplocatie\", \"Dumplocatie\", \"Dumplocatie\", \"Dumplocatie\", null]}, {\"connectgaps\": false, \"hoverinfo\": \"y+name\", \"line\": {\"color\": \"rgb(43,117,169)\", \"width\": 10}, \"mode\": \"lines\", \"name\": \"sub process sailing empty\", \"type\": \"scatter\", \"x\": [\"1970-01-01T00:00:00\", \"1970-01-01T00:00:00\", \"1970-01-01T00:00:00\", \"1970-01-01T00:00:00\", \"1970-01-01T00:00:00\", \"1970-01-01T00:19:25.017755\", \"1970-01-01T00:19:25.017755\", \"1970-01-01T00:36:42.124806\", \"1970-01-01T00:36:42.124806\", \"1970-01-01T00:36:42.124806\", \"1970-01-01T00:57:50.853266\", \"1970-01-01T00:57:50.853266\", \"1970-01-01T01:15:07.960317\", \"1970-01-01T01:15:07.960317\", \"1970-01-01T01:15:07.960317\"], \"y\": [\"while\", \"while\", \"while\", \"while\", null, \"while\", \"while\", \"while\", \"while\", null, \"while\", \"while\", \"while\", \"while\", null]}, {\"connectgaps\": false, \"hoverinfo\": \"y+name\", \"line\": {\"color\": \"rgb(52,126,178)\", \"width\": 10}, \"mode\": \"lines\", \"name\": \"sub process Transfer MP\", \"type\": \"scatter\", \"x\": [\"1970-01-01T00:00:00\", \"1970-01-01T00:00:00\", \"1970-01-01T00:00:11\", \"1970-01-01T00:00:11\", \"1970-01-01T00:00:11\", \"1970-01-01T00:36:42.124806\", \"1970-01-01T00:36:42.124806\", \"1970-01-01T00:36:53.124806\", \"1970-01-01T00:36:53.124806\", \"1970-01-01T00:36:53.124806\", \"1970-01-01T01:15:07.960317\", \"1970-01-01T01:15:07.960317\", \"1970-01-01T01:15:18.960317\", \"1970-01-01T01:15:18.960317\", \"1970-01-01T01:15:18.960317\"], \"y\": [\"while\", \"while\", \"while\", \"while\", null, \"while\", \"while\", \"while\", \"while\", null, \"while\", \"while\", \"while\", \"while\", null]}, {\"connectgaps\": false, \"hoverinfo\": \"y+name\", \"line\": {\"color\": \"rgb(61,135,187)\", \"width\": 10}, \"mode\": \"lines\", \"name\": \"sub process Basic activity\", \"type\": \"scatter\", \"x\": [\"1970-01-01T00:17:39.107050\", \"1970-01-01T00:17:39.107050\", \"1970-01-01T00:17:39.107050\", \"1970-01-01T00:17:39.107050\", \"1970-01-01T00:17:39.107050\", \"1970-01-01T00:54:21.231856\", \"1970-01-01T00:54:21.231856\", \"1970-01-01T00:54:21.231856\", \"1970-01-01T00:54:21.231856\", \"1970-01-01T00:54:21.231856\", \"1970-01-01T01:32:47.067367\", \"1970-01-01T01:32:47.067367\", \"1970-01-01T01:32:47.067367\", \"1970-01-01T01:32:47.067367\", \"1970-01-01T01:32:47.067367\"], \"y\": [\"while\", \"while\", \"while\", \"while\", null, \"while\", \"while\", \"while\", \"while\", null, \"while\", \"while\", \"while\", \"while\", null]}, {\"connectgaps\": false, \"hoverinfo\": \"y+name\", \"line\": {\"color\": \"rgb(70,144,196)\", \"width\": 10}, \"mode\": \"lines\", \"name\": \"delay and downtime While activity while\", \"type\": \"scatter\", \"x\": [\"1970-01-01T01:36:16.688777\", \"1970-01-01T01:36:16.688777\", \"1970-01-01T01:45:54.357655\", \"1970-01-01T01:45:54.357655\", \"1970-01-01T01:45:54.357655\"], \"y\": [\"while\", \"while\", \"while\", \"while\", null]}, {\"connectgaps\": false, \"hoverinfo\": \"y+name\", \"line\": {\"color\": \"rgb(79,153,205)\", \"width\": 10}, \"mode\": \"lines\", \"name\": \"delay and downtime Sequence activity Single run process\", \"type\": \"scatter\", \"x\": [\"1970-01-01T00:17:39.107050\", \"1970-01-01T00:17:39.107050\", \"1970-01-01T00:19:25.017755\", \"1970-01-01T00:19:25.017755\", \"1970-01-01T00:19:25.017755\", \"1970-01-01T00:54:21.231856\", \"1970-01-01T00:54:21.231856\", \"1970-01-01T00:57:50.853266\", \"1970-01-01T00:57:50.853266\", \"1970-01-01T00:57:50.853266\", \"1970-01-01T01:32:47.067367\", \"1970-01-01T01:32:47.067367\", \"1970-01-01T01:36:16.688777\", \"1970-01-01T01:36:16.688777\", \"1970-01-01T01:36:16.688777\"], \"y\": [\"while\", \"while\", \"while\", \"while\", null, \"while\", \"while\", \"while\", \"while\", null, \"while\", \"while\", \"while\", \"while\", null]}, {\"connectgaps\": false, \"hoverinfo\": \"y+name\", \"line\": {\"color\": \"rgb(88,162,214)\", \"width\": 10}, \"mode\": \"lines\", \"name\": \"sequential Single run process\", \"type\": \"scatter\", \"x\": [\"1970-01-01T00:00:00\", \"1970-01-01T00:00:00\", \"1970-01-01T00:19:25.017755\", \"1970-01-01T00:19:25.017755\", \"1970-01-01T00:19:25.017755\", \"1970-01-01T00:19:25.017755\", \"1970-01-01T00:19:25.017755\", \"1970-01-01T00:57:50.853266\", \"1970-01-01T00:57:50.853266\", \"1970-01-01T00:57:50.853266\", \"1970-01-01T00:57:50.853266\", \"1970-01-01T00:57:50.853266\", \"1970-01-01T01:36:16.688777\", \"1970-01-01T01:36:16.688777\", \"1970-01-01T01:36:16.688777\"], \"y\": [\"while\", \"while\", \"while\", \"while\", null, \"while\", \"while\", \"while\", \"while\", null, \"while\", \"while\", \"while\", \"while\", null]}, {\"connectgaps\": false, \"hoverinfo\": \"y+name\", \"line\": {\"color\": \"rgb(97,171,223)\", \"width\": 10}, \"mode\": \"lines\", \"name\": \"sub process Transfer TP\", \"type\": \"scatter\", \"x\": [\"1970-01-01T00:17:28.107050\", \"1970-01-01T00:17:28.107050\", \"1970-01-01T00:17:39.107050\", \"1970-01-01T00:17:39.107050\", \"1970-01-01T00:17:39.107050\", \"1970-01-01T00:54:10.231856\", \"1970-01-01T00:54:10.231856\", \"1970-01-01T00:54:21.231856\", \"1970-01-01T00:54:21.231856\", \"1970-01-01T00:54:21.231856\", \"1970-01-01T01:32:36.067367\", \"1970-01-01T01:32:36.067367\", \"1970-01-01T01:32:47.067367\", \"1970-01-01T01:32:47.067367\", \"1970-01-01T01:32:47.067367\"], \"y\": [\"while\", \"while\", \"while\", \"while\", null, \"while\", \"while\", \"while\", \"while\", null, \"while\", \"while\", \"while\", \"while\", null]}, {\"connectgaps\": false, \"hoverinfo\": \"y+name\", \"line\": {\"color\": \"rgb(106,180,232)\", \"width\": 10}, \"mode\": \"lines\", \"name\": \"conditional process while\", \"type\": \"scatter\", \"x\": [\"1970-01-01T00:00:00\", \"1970-01-01T00:00:00\", \"1970-01-01T01:45:54.357655\", \"1970-01-01T01:45:54.357655\", \"1970-01-01T01:45:54.357655\"], \"y\": [\"while\", \"while\", \"while\", \"while\", null]}, {\"connectgaps\": false, \"hoverinfo\": \"y+name\", \"line\": {\"color\": \"rgb(115,189,241)\", \"width\": 10}, \"mode\": \"lines\", \"name\": \"sub process sailing filler\", \"type\": \"scatter\", \"x\": [\"1970-01-01T00:00:11\", \"1970-01-01T00:00:11\", \"1970-01-01T00:17:28.107050\", \"1970-01-01T00:17:28.107050\", \"1970-01-01T00:17:28.107050\", \"1970-01-01T00:36:53.124806\", \"1970-01-01T00:36:53.124806\", \"1970-01-01T00:54:10.231856\", \"1970-01-01T00:54:10.231856\", \"1970-01-01T00:54:10.231856\", \"1970-01-01T01:15:18.960317\", \"1970-01-01T01:15:18.960317\", \"1970-01-01T01:32:36.067367\", \"1970-01-01T01:32:36.067367\", \"1970-01-01T01:32:36.067367\"], \"y\": [\"while\", \"while\", \"while\", \"while\", null, \"while\", \"while\", \"while\", \"while\", null, \"while\", \"while\", \"while\", \"while\", null]}, {\"connectgaps\": false, \"hoverinfo\": \"y+name\", \"line\": {\"color\": \"rgb(124,198,250)\", \"width\": 10}, \"mode\": \"lines\", \"name\": \"sub process Single run process\", \"type\": \"scatter\", \"x\": [\"1970-01-01T00:00:00\", \"1970-01-01T00:00:00\", \"1970-01-01T00:19:25.017755\", \"1970-01-01T00:19:25.017755\", \"1970-01-01T00:19:25.017755\", \"1970-01-01T00:19:25.017755\", \"1970-01-01T00:19:25.017755\", \"1970-01-01T00:57:50.853266\", \"1970-01-01T00:57:50.853266\", \"1970-01-01T00:57:50.853266\", \"1970-01-01T00:57:50.853266\", \"1970-01-01T00:57:50.853266\", \"1970-01-01T01:36:16.688777\", \"1970-01-01T01:36:16.688777\", \"1970-01-01T01:36:16.688777\"], \"y\": [\"while\", \"while\", \"while\", \"while\", null, \"while\", \"while\", \"while\", \"while\", null, \"while\", \"while\", \"while\", \"while\", null]}, {\"connectgaps\": false, \"hoverinfo\": \"y+name\", \"line\": {\"color\": \"rgb(133,207,3)\", \"width\": 10}, \"mode\": \"lines\", \"name\": \"move activity sailing empty of Hopper 01 to Winlocatie\", \"type\": \"scatter\", \"x\": [\"1970-01-01T00:00:00\", \"1970-01-01T00:00:00\", \"1970-01-01T00:00:00\", \"1970-01-01T00:00:00\", \"1970-01-01T00:00:00\", \"1970-01-01T00:19:25.017755\", \"1970-01-01T00:19:25.017755\", \"1970-01-01T00:35:07.842347\", \"1970-01-01T00:35:07.842347\", \"1970-01-01T00:35:07.842347\", \"1970-01-01T00:57:50.853266\", \"1970-01-01T00:57:50.853266\", \"1970-01-01T01:13:33.677858\", \"1970-01-01T01:13:33.677858\", \"1970-01-01T01:13:33.677858\", \"1970-01-01T00:00:00\", \"1970-01-01T00:00:00\", \"1970-01-01T00:00:00\", \"1970-01-01T00:00:00\", \"1970-01-01T00:00:00\", \"1970-01-01T00:19:25.017755\", \"1970-01-01T00:19:25.017755\", \"1970-01-01T00:36:42.124806\", \"1970-01-01T00:36:42.124806\", \"1970-01-01T00:36:42.124806\", \"1970-01-01T00:57:50.853266\", \"1970-01-01T00:57:50.853266\", \"1970-01-01T01:15:07.960317\", \"1970-01-01T01:15:07.960317\", \"1970-01-01T01:15:07.960317\"], \"y\": [\"Hopper 01\", \"Hopper 01\", \"Hopper 01\", \"Hopper 01\", null, \"Hopper 01\", \"Hopper 01\", \"Hopper 01\", \"Hopper 01\", null, \"Hopper 01\", \"Hopper 01\", \"Hopper 01\", \"Hopper 01\", null, \"sailing empty\", \"sailing empty\", \"sailing empty\", \"sailing empty\", null, \"sailing empty\", \"sailing empty\", \"sailing empty\", \"sailing empty\", null, \"sailing empty\", \"sailing empty\", \"sailing empty\", \"sailing empty\", null]}, {\"connectgaps\": false, \"hoverinfo\": \"y+name\", \"line\": {\"color\": \"rgb(142,216,12)\", \"width\": 10}, \"mode\": \"lines\", \"name\": \"delay and downtime move activity sailing empty of Hopper 01 to Winlocatie\", \"type\": \"scatter\", \"x\": [\"1970-01-01T00:00:00\", \"1970-01-01T00:00:00\", \"1970-01-01T00:00:00\", \"1970-01-01T00:00:00\", \"1970-01-01T00:00:00\", \"1970-01-01T00:35:07.842347\", \"1970-01-01T00:35:07.842347\", \"1970-01-01T00:36:42.124806\", \"1970-01-01T00:36:42.124806\", \"1970-01-01T00:36:42.124806\", \"1970-01-01T01:13:33.677858\", \"1970-01-01T01:13:33.677858\", \"1970-01-01T01:15:07.960317\", \"1970-01-01T01:15:07.960317\", \"1970-01-01T01:15:07.960317\"], \"y\": [\"sailing empty\", \"sailing empty\", \"sailing empty\", \"sailing empty\", null, \"sailing empty\", \"sailing empty\", \"sailing empty\", \"sailing empty\", null, \"sailing empty\", \"sailing empty\", \"sailing empty\", \"sailing empty\", null]}, {\"connectgaps\": false, \"hoverinfo\": \"y+name\", \"line\": {\"color\": \"rgb(151,225,21)\", \"width\": 10}, \"mode\": \"lines\", \"name\": \"delay and downtime Transfer MP\", \"type\": \"scatter\", \"x\": [\"1970-01-01T00:00:10\", \"1970-01-01T00:00:10\", \"1970-01-01T00:00:11\", \"1970-01-01T00:00:11\", \"1970-01-01T00:00:11\", \"1970-01-01T00:36:52.124806\", \"1970-01-01T00:36:52.124806\", \"1970-01-01T00:36:53.124806\", \"1970-01-01T00:36:53.124806\", \"1970-01-01T00:36:53.124806\", \"1970-01-01T01:15:17.960317\", \"1970-01-01T01:15:17.960317\", \"1970-01-01T01:15:18.960317\", \"1970-01-01T01:15:18.960317\", \"1970-01-01T01:15:18.960317\"], \"y\": [\"Transfer MP\", \"Transfer MP\", \"Transfer MP\", \"Transfer MP\", null, \"Transfer MP\", \"Transfer MP\", \"Transfer MP\", \"Transfer MP\", null, \"Transfer MP\", \"Transfer MP\", \"Transfer MP\", \"Transfer MP\", null]}, {\"connectgaps\": false, \"hoverinfo\": \"y+name\", \"line\": {\"color\": \"rgb(160,234,30)\", \"width\": 10}, \"mode\": \"lines\", \"name\": \"Transfer MP\", \"type\": \"scatter\", \"x\": [\"1970-01-01T00:00:00\", \"1970-01-01T00:00:00\", \"1970-01-01T00:00:11\", \"1970-01-01T00:00:11\", \"1970-01-01T00:00:11\", \"1970-01-01T00:36:42.124806\", \"1970-01-01T00:36:42.124806\", \"1970-01-01T00:36:53.124806\", \"1970-01-01T00:36:53.124806\", \"1970-01-01T00:36:53.124806\", \"1970-01-01T01:15:07.960317\", \"1970-01-01T01:15:07.960317\", \"1970-01-01T01:15:18.960317\", \"1970-01-01T01:15:18.960317\", \"1970-01-01T01:15:18.960317\"], \"y\": [\"Transfer MP\", \"Transfer MP\", \"Transfer MP\", \"Transfer MP\", null, \"Transfer MP\", \"Transfer MP\", \"Transfer MP\", \"Transfer MP\", null, \"Transfer MP\", \"Transfer MP\", \"Transfer MP\", \"Transfer MP\", null]}, {\"connectgaps\": false, \"hoverinfo\": \"y+name\", \"line\": {\"color\": \"rgb(169,243,39)\", \"width\": 10}, \"mode\": \"lines\", \"name\": \"move activity sailing filler of Hopper 01 to Dumplocatie\", \"type\": \"scatter\", \"x\": [\"1970-01-01T00:00:11\", \"1970-01-01T00:00:11\", \"1970-01-01T00:15:53.824591\", \"1970-01-01T00:15:53.824591\", \"1970-01-01T00:15:53.824591\", \"1970-01-01T00:36:53.124806\", \"1970-01-01T00:36:53.124806\", \"1970-01-01T00:52:35.949397\", \"1970-01-01T00:52:35.949397\", \"1970-01-01T00:52:35.949397\", \"1970-01-01T01:15:18.960317\", \"1970-01-01T01:15:18.960317\", \"1970-01-01T01:31:01.784908\", \"1970-01-01T01:31:01.784908\", \"1970-01-01T01:31:01.784908\", \"1970-01-01T00:00:11\", \"1970-01-01T00:00:11\", \"1970-01-01T00:17:28.107050\", \"1970-01-01T00:17:28.107050\", \"1970-01-01T00:17:28.107050\", \"1970-01-01T00:36:53.124806\", \"1970-01-01T00:36:53.124806\", \"1970-01-01T00:54:10.231856\", \"1970-01-01T00:54:10.231856\", \"1970-01-01T00:54:10.231856\", \"1970-01-01T01:15:18.960317\", \"1970-01-01T01:15:18.960317\", \"1970-01-01T01:32:36.067367\", \"1970-01-01T01:32:36.067367\", \"1970-01-01T01:32:36.067367\"], \"y\": [\"Hopper 01\", \"Hopper 01\", \"Hopper 01\", \"Hopper 01\", null, \"Hopper 01\", \"Hopper 01\", \"Hopper 01\", \"Hopper 01\", null, \"Hopper 01\", \"Hopper 01\", \"Hopper 01\", \"Hopper 01\", null, \"sailing filler\", \"sailing filler\", \"sailing filler\", \"sailing filler\", null, \"sailing filler\", \"sailing filler\", \"sailing filler\", \"sailing filler\", null, \"sailing filler\", \"sailing filler\", \"sailing filler\", \"sailing filler\", null]}, {\"connectgaps\": false, \"hoverinfo\": \"y+name\", \"line\": {\"color\": \"rgb(178,252,48)\", \"width\": 10}, \"mode\": \"lines\", \"name\": \"delay and downtime move activity sailing filler of Hopper 01 to Dumplocatie\", \"type\": \"scatter\", \"x\": [\"1970-01-01T00:15:53.824591\", \"1970-01-01T00:15:53.824591\", \"1970-01-01T00:17:28.107050\", \"1970-01-01T00:17:28.107050\", \"1970-01-01T00:17:28.107050\", \"1970-01-01T00:52:35.949397\", \"1970-01-01T00:52:35.949397\", \"1970-01-01T00:54:10.231856\", \"1970-01-01T00:54:10.231856\", \"1970-01-01T00:54:10.231856\", \"1970-01-01T01:31:01.784908\", \"1970-01-01T01:31:01.784908\", \"1970-01-01T01:32:36.067367\", \"1970-01-01T01:32:36.067367\", \"1970-01-01T01:32:36.067367\"], \"y\": [\"sailing filler\", \"sailing filler\", \"sailing filler\", \"sailing filler\", null, \"sailing filler\", \"sailing filler\", \"sailing filler\", \"sailing filler\", null, \"sailing filler\", \"sailing filler\", \"sailing filler\", \"sailing filler\", null]}, {\"connectgaps\": false, \"hoverinfo\": \"y+name\", \"line\": {\"color\": \"rgb(187,5,57)\", \"width\": 10}, \"mode\": \"lines\", \"name\": \"delay and downtime Transfer TP\", \"type\": \"scatter\", \"x\": [\"1970-01-01T00:17:38.107050\", \"1970-01-01T00:17:38.107050\", \"1970-01-01T00:17:39.107050\", \"1970-01-01T00:17:39.107050\", \"1970-01-01T00:17:39.107050\", \"1970-01-01T00:54:20.231856\", \"1970-01-01T00:54:20.231856\", \"1970-01-01T00:54:21.231856\", \"1970-01-01T00:54:21.231856\", \"1970-01-01T00:54:21.231856\", \"1970-01-01T01:32:46.067367\", \"1970-01-01T01:32:46.067367\", \"1970-01-01T01:32:47.067367\", \"1970-01-01T01:32:47.067367\", \"1970-01-01T01:32:47.067367\"], \"y\": [\"Transfer TP\", \"Transfer TP\", \"Transfer TP\", \"Transfer TP\", null, \"Transfer TP\", \"Transfer TP\", \"Transfer TP\", \"Transfer TP\", null, \"Transfer TP\", \"Transfer TP\", \"Transfer TP\", \"Transfer TP\", null]}, {\"connectgaps\": false, \"hoverinfo\": \"y+name\", \"line\": {\"color\": \"rgb(196,14,66)\", \"width\": 10}, \"mode\": \"lines\", \"name\": \"Transfer TP\", \"type\": \"scatter\", \"x\": [\"1970-01-01T00:17:28.107050\", \"1970-01-01T00:17:28.107050\", \"1970-01-01T00:17:39.107050\", \"1970-01-01T00:17:39.107050\", \"1970-01-01T00:17:39.107050\", \"1970-01-01T00:54:10.231856\", \"1970-01-01T00:54:10.231856\", \"1970-01-01T00:54:21.231856\", \"1970-01-01T00:54:21.231856\", \"1970-01-01T00:54:21.231856\", \"1970-01-01T01:32:36.067367\", \"1970-01-01T01:32:36.067367\", \"1970-01-01T01:32:47.067367\", \"1970-01-01T01:32:47.067367\", \"1970-01-01T01:32:47.067367\"], \"y\": [\"Transfer TP\", \"Transfer TP\", \"Transfer TP\", \"Transfer TP\", null, \"Transfer TP\", \"Transfer TP\", \"Transfer TP\", \"Transfer TP\", null, \"Transfer TP\", \"Transfer TP\", \"Transfer TP\", \"Transfer TP\", null]}, {\"connectgaps\": false, \"hoverinfo\": \"y+name\", \"line\": {\"color\": \"rgb(205,23,75)\", \"width\": 10}, \"mode\": \"lines\", \"name\": \"delay and downtime Basic activity Basic activity\", \"type\": \"scatter\", \"x\": [\"1970-01-01T00:17:39.107050\", \"1970-01-01T00:17:39.107050\", \"1970-01-01T00:17:39.107050\", \"1970-01-01T00:17:39.107050\", \"1970-01-01T00:17:39.107050\", \"1970-01-01T00:54:21.231856\", \"1970-01-01T00:54:21.231856\", \"1970-01-01T00:54:21.231856\", \"1970-01-01T00:54:21.231856\", \"1970-01-01T00:54:21.231856\", \"1970-01-01T01:32:47.067367\", \"1970-01-01T01:32:47.067367\", \"1970-01-01T01:32:47.067367\", \"1970-01-01T01:32:47.067367\", \"1970-01-01T01:32:47.067367\"], \"y\": [\"Basic activity\", \"Basic activity\", \"Basic activity\", \"Basic activity\", null, \"Basic activity\", \"Basic activity\", \"Basic activity\", \"Basic activity\", null, \"Basic activity\", \"Basic activity\", \"Basic activity\", \"Basic activity\", null]}, {\"connectgaps\": false, \"hoverinfo\": \"y+name\", \"line\": {\"color\": \"rgb(214,32,84)\", \"width\": 10}, \"mode\": \"lines\", \"name\": \"Basic activity\", \"type\": \"scatter\", \"x\": [\"1970-01-01T00:17:39.107050\", \"1970-01-01T00:17:39.107050\", \"1970-01-01T00:17:39.107050\", \"1970-01-01T00:17:39.107050\", \"1970-01-01T00:17:39.107050\", \"1970-01-01T00:54:21.231856\", \"1970-01-01T00:54:21.231856\", \"1970-01-01T00:54:21.231856\", \"1970-01-01T00:54:21.231856\", \"1970-01-01T00:54:21.231856\", \"1970-01-01T01:32:47.067367\", \"1970-01-01T01:32:47.067367\", \"1970-01-01T01:32:47.067367\", \"1970-01-01T01:32:47.067367\", \"1970-01-01T01:32:47.067367\", \"1970-01-01T00:17:39.107050\", \"1970-01-01T00:17:39.107050\", \"1970-01-01T00:17:39.107050\", \"1970-01-01T00:17:39.107050\", \"1970-01-01T00:17:39.107050\", \"1970-01-01T00:54:21.231856\", \"1970-01-01T00:54:21.231856\", \"1970-01-01T00:54:21.231856\", \"1970-01-01T00:54:21.231856\", \"1970-01-01T00:54:21.231856\", \"1970-01-01T01:32:47.067367\", \"1970-01-01T01:32:47.067367\", \"1970-01-01T01:32:47.067367\", \"1970-01-01T01:32:47.067367\", \"1970-01-01T01:32:47.067367\"], \"y\": [\"Hopper 01\", \"Hopper 01\", \"Hopper 01\", \"Hopper 01\", null, \"Hopper 01\", \"Hopper 01\", \"Hopper 01\", \"Hopper 01\", null, \"Hopper 01\", \"Hopper 01\", \"Hopper 01\", \"Hopper 01\", null, \"Basic activity\", \"Basic activity\", \"Basic activity\", \"Basic activity\", null, \"Basic activity\", \"Basic activity\", \"Basic activity\", \"Basic activity\", null, \"Basic activity\", \"Basic activity\", \"Basic activity\", \"Basic activity\", null]}],                        {\"hovermode\": \"closest\", \"legend\": {\"orientation\": \"h\", \"x\": 0, \"y\": -0.2}, \"template\": {\"data\": {\"bar\": [{\"error_x\": {\"color\": \"#2a3f5f\"}, \"error_y\": {\"color\": \"#2a3f5f\"}, \"marker\": {\"line\": {\"color\": \"#E5ECF6\", \"width\": 0.5}}, \"type\": \"bar\"}], \"barpolar\": [{\"marker\": {\"line\": {\"color\": \"#E5ECF6\", \"width\": 0.5}}, \"type\": \"barpolar\"}], \"carpet\": [{\"aaxis\": {\"endlinecolor\": \"#2a3f5f\", \"gridcolor\": \"white\", \"linecolor\": \"white\", \"minorgridcolor\": \"white\", \"startlinecolor\": \"#2a3f5f\"}, \"baxis\": {\"endlinecolor\": \"#2a3f5f\", \"gridcolor\": \"white\", \"linecolor\": \"white\", \"minorgridcolor\": \"white\", \"startlinecolor\": \"#2a3f5f\"}, \"type\": \"carpet\"}], \"choropleth\": [{\"colorbar\": {\"outlinewidth\": 0, \"ticks\": \"\"}, \"type\": \"choropleth\"}], \"contour\": [{\"colorbar\": {\"outlinewidth\": 0, \"ticks\": \"\"}, \"colorscale\": [[0.0, \"#0d0887\"], [0.1111111111111111, \"#46039f\"], [0.2222222222222222, \"#7201a8\"], [0.3333333333333333, \"#9c179e\"], [0.4444444444444444, \"#bd3786\"], [0.5555555555555556, \"#d8576b\"], [0.6666666666666666, \"#ed7953\"], [0.7777777777777778, \"#fb9f3a\"], [0.8888888888888888, \"#fdca26\"], [1.0, \"#f0f921\"]], \"type\": \"contour\"}], \"contourcarpet\": [{\"colorbar\": {\"outlinewidth\": 0, \"ticks\": \"\"}, \"type\": \"contourcarpet\"}], \"heatmap\": [{\"colorbar\": {\"outlinewidth\": 0, \"ticks\": \"\"}, \"colorscale\": [[0.0, \"#0d0887\"], [0.1111111111111111, \"#46039f\"], [0.2222222222222222, \"#7201a8\"], [0.3333333333333333, \"#9c179e\"], [0.4444444444444444, \"#bd3786\"], [0.5555555555555556, \"#d8576b\"], [0.6666666666666666, \"#ed7953\"], [0.7777777777777778, \"#fb9f3a\"], [0.8888888888888888, \"#fdca26\"], [1.0, \"#f0f921\"]], \"type\": \"heatmap\"}], \"heatmapgl\": [{\"colorbar\": {\"outlinewidth\": 0, \"ticks\": \"\"}, \"colorscale\": [[0.0, \"#0d0887\"], [0.1111111111111111, \"#46039f\"], [0.2222222222222222, \"#7201a8\"], [0.3333333333333333, \"#9c179e\"], [0.4444444444444444, \"#bd3786\"], [0.5555555555555556, \"#d8576b\"], [0.6666666666666666, \"#ed7953\"], [0.7777777777777778, \"#fb9f3a\"], [0.8888888888888888, \"#fdca26\"], [1.0, \"#f0f921\"]], \"type\": \"heatmapgl\"}], \"histogram\": [{\"marker\": {\"colorbar\": {\"outlinewidth\": 0, \"ticks\": \"\"}}, \"type\": \"histogram\"}], \"histogram2d\": [{\"colorbar\": {\"outlinewidth\": 0, \"ticks\": \"\"}, \"colorscale\": [[0.0, \"#0d0887\"], [0.1111111111111111, \"#46039f\"], [0.2222222222222222, \"#7201a8\"], [0.3333333333333333, \"#9c179e\"], [0.4444444444444444, \"#bd3786\"], [0.5555555555555556, \"#d8576b\"], [0.6666666666666666, \"#ed7953\"], [0.7777777777777778, \"#fb9f3a\"], [0.8888888888888888, \"#fdca26\"], [1.0, \"#f0f921\"]], \"type\": \"histogram2d\"}], \"histogram2dcontour\": [{\"colorbar\": {\"outlinewidth\": 0, \"ticks\": \"\"}, \"colorscale\": [[0.0, \"#0d0887\"], [0.1111111111111111, \"#46039f\"], [0.2222222222222222, \"#7201a8\"], [0.3333333333333333, \"#9c179e\"], [0.4444444444444444, \"#bd3786\"], [0.5555555555555556, \"#d8576b\"], [0.6666666666666666, \"#ed7953\"], [0.7777777777777778, \"#fb9f3a\"], [0.8888888888888888, \"#fdca26\"], [1.0, \"#f0f921\"]], \"type\": \"histogram2dcontour\"}], \"mesh3d\": [{\"colorbar\": {\"outlinewidth\": 0, \"ticks\": \"\"}, \"type\": \"mesh3d\"}], \"parcoords\": [{\"line\": {\"colorbar\": {\"outlinewidth\": 0, \"ticks\": \"\"}}, \"type\": \"parcoords\"}], \"pie\": [{\"automargin\": true, \"type\": \"pie\"}], \"scatter\": [{\"marker\": {\"colorbar\": {\"outlinewidth\": 0, \"ticks\": \"\"}}, \"type\": \"scatter\"}], \"scatter3d\": [{\"line\": {\"colorbar\": {\"outlinewidth\": 0, \"ticks\": \"\"}}, \"marker\": {\"colorbar\": {\"outlinewidth\": 0, \"ticks\": \"\"}}, \"type\": \"scatter3d\"}], \"scattercarpet\": [{\"marker\": {\"colorbar\": {\"outlinewidth\": 0, \"ticks\": \"\"}}, \"type\": \"scattercarpet\"}], \"scattergeo\": [{\"marker\": {\"colorbar\": {\"outlinewidth\": 0, \"ticks\": \"\"}}, \"type\": \"scattergeo\"}], \"scattergl\": [{\"marker\": {\"colorbar\": {\"outlinewidth\": 0, \"ticks\": \"\"}}, \"type\": \"scattergl\"}], \"scattermapbox\": [{\"marker\": {\"colorbar\": {\"outlinewidth\": 0, \"ticks\": \"\"}}, \"type\": \"scattermapbox\"}], \"scatterpolar\": [{\"marker\": {\"colorbar\": {\"outlinewidth\": 0, \"ticks\": \"\"}}, \"type\": \"scatterpolar\"}], \"scatterpolargl\": [{\"marker\": {\"colorbar\": {\"outlinewidth\": 0, \"ticks\": \"\"}}, \"type\": \"scatterpolargl\"}], \"scatterternary\": [{\"marker\": {\"colorbar\": {\"outlinewidth\": 0, \"ticks\": \"\"}}, \"type\": \"scatterternary\"}], \"surface\": [{\"colorbar\": {\"outlinewidth\": 0, \"ticks\": \"\"}, \"colorscale\": [[0.0, \"#0d0887\"], [0.1111111111111111, \"#46039f\"], [0.2222222222222222, \"#7201a8\"], [0.3333333333333333, \"#9c179e\"], [0.4444444444444444, \"#bd3786\"], [0.5555555555555556, \"#d8576b\"], [0.6666666666666666, \"#ed7953\"], [0.7777777777777778, \"#fb9f3a\"], [0.8888888888888888, \"#fdca26\"], [1.0, \"#f0f921\"]], \"type\": \"surface\"}], \"table\": [{\"cells\": {\"fill\": {\"color\": \"#EBF0F8\"}, \"line\": {\"color\": \"white\"}}, \"header\": {\"fill\": {\"color\": \"#C8D4E3\"}, \"line\": {\"color\": \"white\"}}, \"type\": \"table\"}]}, \"layout\": {\"annotationdefaults\": {\"arrowcolor\": \"#2a3f5f\", \"arrowhead\": 0, \"arrowwidth\": 1}, \"coloraxis\": {\"colorbar\": {\"outlinewidth\": 0, \"ticks\": \"\"}}, \"colorscale\": {\"diverging\": [[0, \"#8e0152\"], [0.1, \"#c51b7d\"], [0.2, \"#de77ae\"], [0.3, \"#f1b6da\"], [0.4, \"#fde0ef\"], [0.5, \"#f7f7f7\"], [0.6, \"#e6f5d0\"], [0.7, \"#b8e186\"], [0.8, \"#7fbc41\"], [0.9, \"#4d9221\"], [1, \"#276419\"]], \"sequential\": [[0.0, \"#0d0887\"], [0.1111111111111111, \"#46039f\"], [0.2222222222222222, \"#7201a8\"], [0.3333333333333333, \"#9c179e\"], [0.4444444444444444, \"#bd3786\"], [0.5555555555555556, \"#d8576b\"], [0.6666666666666666, \"#ed7953\"], [0.7777777777777778, \"#fb9f3a\"], [0.8888888888888888, \"#fdca26\"], [1.0, \"#f0f921\"]], \"sequentialminus\": [[0.0, \"#0d0887\"], [0.1111111111111111, \"#46039f\"], [0.2222222222222222, \"#7201a8\"], [0.3333333333333333, \"#9c179e\"], [0.4444444444444444, \"#bd3786\"], [0.5555555555555556, \"#d8576b\"], [0.6666666666666666, \"#ed7953\"], [0.7777777777777778, \"#fb9f3a\"], [0.8888888888888888, \"#fdca26\"], [1.0, \"#f0f921\"]]}, \"colorway\": [\"#636efa\", \"#EF553B\", \"#00cc96\", \"#ab63fa\", \"#FFA15A\", \"#19d3f3\", \"#FF6692\", \"#B6E880\", \"#FF97FF\", \"#FECB52\"], \"font\": {\"color\": \"#2a3f5f\"}, \"geo\": {\"bgcolor\": \"white\", \"lakecolor\": \"white\", \"landcolor\": \"#E5ECF6\", \"showlakes\": true, \"showland\": true, \"subunitcolor\": \"white\"}, \"hoverlabel\": {\"align\": \"left\"}, \"hovermode\": \"closest\", \"mapbox\": {\"style\": \"light\"}, \"paper_bgcolor\": \"white\", \"plot_bgcolor\": \"#E5ECF6\", \"polar\": {\"angularaxis\": {\"gridcolor\": \"white\", \"linecolor\": \"white\", \"ticks\": \"\"}, \"bgcolor\": \"#E5ECF6\", \"radialaxis\": {\"gridcolor\": \"white\", \"linecolor\": \"white\", \"ticks\": \"\"}}, \"scene\": {\"xaxis\": {\"backgroundcolor\": \"#E5ECF6\", \"gridcolor\": \"white\", \"gridwidth\": 2, \"linecolor\": \"white\", \"showbackground\": true, \"ticks\": \"\", \"zerolinecolor\": \"white\"}, \"yaxis\": {\"backgroundcolor\": \"#E5ECF6\", \"gridcolor\": \"white\", \"gridwidth\": 2, \"linecolor\": \"white\", \"showbackground\": true, \"ticks\": \"\", \"zerolinecolor\": \"white\"}, \"zaxis\": {\"backgroundcolor\": \"#E5ECF6\", \"gridcolor\": \"white\", \"gridwidth\": 2, \"linecolor\": \"white\", \"showbackground\": true, \"ticks\": \"\", \"zerolinecolor\": \"white\"}}, \"shapedefaults\": {\"line\": {\"color\": \"#2a3f5f\"}}, \"ternary\": {\"aaxis\": {\"gridcolor\": \"white\", \"linecolor\": \"white\", \"ticks\": \"\"}, \"baxis\": {\"gridcolor\": \"white\", \"linecolor\": \"white\", \"ticks\": \"\"}, \"bgcolor\": \"#E5ECF6\", \"caxis\": {\"gridcolor\": \"white\", \"linecolor\": \"white\", \"ticks\": \"\"}}, \"title\": {\"x\": 0.05}, \"xaxis\": {\"automargin\": true, \"gridcolor\": \"white\", \"linecolor\": \"white\", \"ticks\": \"\", \"title\": {\"standoff\": 15}, \"zerolinecolor\": \"white\", \"zerolinewidth\": 2}, \"yaxis\": {\"automargin\": true, \"gridcolor\": \"white\", \"linecolor\": \"white\", \"ticks\": \"\", \"title\": {\"standoff\": 15}, \"zerolinecolor\": \"white\", \"zerolinewidth\": 2}}}, \"title\": {\"text\": \"Vessel planning\"}, \"xaxis\": {\"range\": [\"1970-01-01T00:00:00\", \"1970-01-01T01:45:54.357655\"], \"title\": {\"font\": {\"color\": \"#7f7f7f\", \"family\": \"Courier New, monospace\", \"size\": 18}, \"text\": \"Time\"}}, \"yaxis\": {\"title\": {\"font\": {\"color\": \"#7f7f7f\", \"family\": \"Courier New, monospace\", \"size\": 18}, \"text\": \"Vessels\"}}},                        {\"responsive\": true}                    ).then(function(){\n",
       "                            \n",
       "var gd = document.getElementById('cab0c8ce-9413-4832-96e5-79092d79bb88');\n",
       "var x = new MutationObserver(function (mutations, observer) {{\n",
       "        var display = window.getComputedStyle(gd).display;\n",
       "        if (!display || display === 'none') {{\n",
       "            console.log([gd, 'removed!']);\n",
       "            Plotly.purge(gd);\n",
       "            observer.disconnect();\n",
       "        }}\n",
       "}});\n",
       "\n",
       "// Listen for the removal of the full notebook cells\n",
       "var notebookContainer = gd.closest('#notebook-container');\n",
       "if (notebookContainer) {{\n",
       "    x.observe(notebookContainer, {childList: true});\n",
       "}}\n",
       "\n",
       "// Listen for the clearing of the current output cell\n",
       "var outputEl = gd.closest('.output');\n",
       "if (outputEl) {{\n",
       "    x.observe(outputEl, {childList: true});\n",
       "}}\n",
       "\n",
       "                        })                };                });            </script>        </div>"
      ]
     },
     "metadata": {},
     "output_type": "display_data"
    }
   ],
   "source": [
    "objects = [hopper, from_site, to_site, while_activity, activity]\n",
    "objects.extend(single_run)\n",
    "\n",
    "\n",
    "plot.vessel_planning(objects)"
   ]
  },
  {
   "cell_type": "code",
   "execution_count": null,
   "metadata": {},
   "outputs": [],
   "source": []
  }
 ],
 "metadata": {
  "kernelspec": {
   "display_name": "Python 3",
   "language": "python",
   "name": "python3"
  },
  "language_info": {
   "codemirror_mode": {
    "name": "ipython",
    "version": 3
   },
   "file_extension": ".py",
   "mimetype": "text/x-python",
   "name": "python",
   "nbconvert_exporter": "python",
   "pygments_lexer": "ipython3",
   "version": "3.7.3"
  }
 },
 "nbformat": 4,
 "nbformat_minor": 4
}
