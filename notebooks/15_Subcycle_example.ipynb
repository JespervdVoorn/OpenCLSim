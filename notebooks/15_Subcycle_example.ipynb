{
 "cells": [
  {
   "cell_type": "markdown",
   "metadata": {},
   "source": [
    "# Demo Subcycle\n",
    "\n",
    "This notebook shows a single run consisting of the following four phases:\n",
    "* sail empty\n",
    "* loading\n",
    "* sail full\n",
    "* unloading"
   ]
  },
  {
   "cell_type": "code",
   "execution_count": 1,
   "metadata": {},
   "outputs": [],
   "source": [
    "import datetime, time\n",
    "import simpy\n",
    "\n",
    "import shapely.geometry\n",
    "\n",
    "\n",
    "import pandas as pd\n",
    "import openclsim.core as core\n",
    "import openclsim.model as model\n",
    "import openclsim.plot as plot\n",
    "\n",
    "# setup environment\n",
    "simulation_start = 0\n",
    "my_env = simpy.Environment(initial_time=simulation_start)\n",
    "registry = {}\n",
    "keep_resources = {}"
   ]
  },
  {
   "cell_type": "code",
   "execution_count": 2,
   "metadata": {},
   "outputs": [],
   "source": [
    "Site = type(\n",
    "    \"Site\",\n",
    "    (\n",
    "        core.Identifiable,\n",
    "        core.Log,\n",
    "        core.Locatable,\n",
    "        core.HasContainer,\n",
    "        core.HasResource,\n",
    "    ),\n",
    "    {},\n",
    ")\n",
    "\n",
    "TransportProcessingResource = type(\n",
    "    \"TransportProcessingResource\",\n",
    "    (\n",
    "        core.Identifiable,\n",
    "        core.Log,\n",
    "        core.ContainerDependentMovable,\n",
    "        core.Processor,\n",
    "        core.HasResource,\n",
    "        core.LoadingFunction,\n",
    "        core.UnloadingFunction,\n",
    "    ),\n",
    "    {},\n",
    ")\n",
    "location_from_site = shapely.geometry.Point(4.18055556, 52.18664444)\n",
    "location_to_site = shapely.geometry.Point(4.25222222, 52.11428333)\n"
   ]
  },
  {
   "cell_type": "markdown",
   "metadata": {},
   "source": [
    "## Definition of Site"
   ]
  },
  {
   "cell_type": "code",
   "execution_count": 3,
   "metadata": {},
   "outputs": [],
   "source": [
    "from_site = Site(\n",
    "    env=my_env,\n",
    "    name=\"Winlocatie\",\n",
    "    ID=\"6dbbbdf4-4589-11e9-a501-b469212bff5d\",\n",
    "    geometry=location_from_site,\n",
    "    capacity=100,\n",
    "    level=50,\n",
    ")\n",
    "\n",
    "\n",
    "to_site = Site(\n",
    "    env=my_env,\n",
    "    name=\"Dumplocatie\",\n",
    "    ID=\"6dbbbdf5-4589-11e9-82b2-b469212bff5c\",\n",
    "    geometry=location_to_site,\n",
    "    capacity=50,\n",
    "    level=0,\n",
    ")"
   ]
  },
  {
   "cell_type": "markdown",
   "metadata": {},
   "source": [
    "## Definition of Vessels"
   ]
  },
  {
   "cell_type": "code",
   "execution_count": 4,
   "metadata": {},
   "outputs": [],
   "source": [
    "hopper = TransportProcessingResource(\n",
    "    env=my_env,\n",
    "    name=\"Hopper 01\",\n",
    "    ID=\"6dbbbdf6-4589-11e9-95a2-b469212bff5b\",\n",
    "    geometry=location_from_site,\n",
    "    loading_rate=0.00001,\n",
    "    unloading_rate=0.00001,\n",
    "    capacity=4,\n",
    "    compute_v=lambda x: 10,\n",
    ")"
   ]
  },
  {
   "cell_type": "markdown",
   "metadata": {},
   "source": [
    "## Defenition of the activities"
   ]
  },
  {
   "cell_type": "code",
   "execution_count": 5,
   "metadata": {},
   "outputs": [],
   "source": [
    "loading_subcycle_processes =[\n",
    "    model.BasicActivity(\n",
    "        env=my_env,\n",
    "        name=\"loading activity 1\",\n",
    "        registry=registry,\n",
    "        duration=100,\n",
    "        additional_logs=[hopper],\n",
    "    ),\n",
    "    model.ShiftAmountActivity(\n",
    "        env=my_env,\n",
    "        name=\"Transfer MP\",\n",
    "        registry=registry,\n",
    "        processor=hopper,\n",
    "        origin=from_site,\n",
    "        destination=hopper,\n",
    "        amount=4,\n",
    "        duration=1000,\n",
    "    ),\n",
    "    model.BasicActivity(\n",
    "        env=my_env,\n",
    "        name=\"loading activity 2\",\n",
    "        registry=registry,\n",
    "        duration=100,\n",
    "        additional_logs=[hopper],\n",
    "    ),\n",
    "]\n",
    "\n",
    "loading_subcycle_process = model.SequentialActivity(\n",
    "    env=my_env,\n",
    "    name=\"Loading subcycle\",\n",
    "    registry=registry,\n",
    "    sub_processes=loading_subcycle_processes,\n",
    ")"
   ]
  },
  {
   "cell_type": "code",
   "execution_count": 6,
   "metadata": {},
   "outputs": [],
   "source": [
    "single_run = [\n",
    "    model.BasicActivity(\n",
    "        env=my_env,\n",
    "        name=\"Basic activity 3\",\n",
    "        registry=registry,\n",
    "        duration=100,\n",
    "        additional_logs=[hopper],\n",
    "    ),\n",
    "    model.MoveActivity(\n",
    "        env=my_env,\n",
    "        name=\"sailing empty\",\n",
    "        registry=registry,\n",
    "        mover=hopper,\n",
    "        destination=from_site,\n",
    "        duration=500,\n",
    "    ),\n",
    "    loading_subcycle_process,\n",
    "    model.MoveActivity(\n",
    "        env=my_env,\n",
    "        name=\"sailing filled\",\n",
    "        registry=registry,\n",
    "        mover=hopper,\n",
    "        duration=500,\n",
    "        destination=to_site,\n",
    "    ),\n",
    "    model.ShiftAmountActivity(\n",
    "        env=my_env,\n",
    "        name=\"Transfer TP\",\n",
    "        registry=registry,\n",
    "        processor=hopper,\n",
    "        origin=hopper,\n",
    "        destination=to_site,\n",
    "        amount=4,\n",
    "        duration=1000,\n",
    "    ),\n",
    "    model.BasicActivity(\n",
    "        env=my_env,\n",
    "        name=\"Basic activity\",\n",
    "        registry=registry,\n",
    "        duration=100,\n",
    "        additional_logs=[hopper],\n",
    "    ),\n",
    "]\n",
    "\n",
    "\n",
    "activity = model.SequentialActivity(\n",
    "    env=my_env,\n",
    "    name=\"Single run process\",\n",
    "    registry=registry,\n",
    "    sub_processes=single_run,\n",
    ")\n",
    "\n",
    "\n",
    "while_activity = model.WhileActivity(\n",
    "    env=my_env,\n",
    "    name=\"while\",\n",
    "    registry=registry,\n",
    "    sub_processes=[activity],\n",
    "    condition_event=[{\"type\": \"container\", \"concept\": to_site, \"state\": \"full\"}],\n",
    ")"
   ]
  },
  {
   "cell_type": "code",
   "execution_count": 7,
   "metadata": {},
   "outputs": [
    {
     "name": "stdout",
     "output_type": "stream",
     "text": [
      "Loading subcycle\n",
      "sailing filled\n",
      "loading activity 1\n",
      "loading activity 2\n",
      "Transfer TP\n",
      "Single run process\n",
      "Basic activity 3\n",
      "Basic activity\n",
      "Transfer MP\n",
      "sailing empty\n",
      "while\n",
      "env.run()\n",
      "sailing filled\n",
      "Loading subcycle\n",
      "loading activity 1\n",
      "loading activity 2\n",
      "Transfer TP\n",
      "Single run process\n",
      "Basic activity 3\n",
      "Basic activity\n",
      "Transfer MP\n",
      "sailing empty\n"
     ]
    },
    {
     "ename": "AssertionError",
     "evalue": "",
     "output_type": "error",
     "traceback": [
      "\u001b[0;31m---------------------------------------------------------------------------\u001b[0m",
      "\u001b[0;31mAssertionError\u001b[0m                            Traceback (most recent call last)",
      "\u001b[0;32m/OpenCLSim/openclsim/model/base_activities.py\u001b[0m in \u001b[0;36mdelayed_process\u001b[0;34m(self, activity_log, env)\u001b[0m\n\u001b[1;32m    236\u001b[0m \u001b[0;34m\u001b[0m\u001b[0m\n\u001b[0;32m--> 237\u001b[0;31m         \u001b[0;32myield\u001b[0m \u001b[0;32mfrom\u001b[0m \u001b[0mself\u001b[0m\u001b[0;34m.\u001b[0m\u001b[0mmain_process_function\u001b[0m\u001b[0;34m(\u001b[0m\u001b[0mactivity_log\u001b[0m\u001b[0;34m=\u001b[0m\u001b[0mself\u001b[0m\u001b[0;34m,\u001b[0m \u001b[0menv\u001b[0m\u001b[0;34m=\u001b[0m\u001b[0mself\u001b[0m\u001b[0;34m.\u001b[0m\u001b[0menv\u001b[0m\u001b[0;34m)\u001b[0m\u001b[0;34m\u001b[0m\u001b[0;34m\u001b[0m\u001b[0m\n\u001b[0m\u001b[1;32m    238\u001b[0m \u001b[0;34m\u001b[0m\u001b[0m\n",
      "\u001b[0;32m/OpenCLSim/openclsim/model/shift_amount_activity.py\u001b[0m in \u001b[0;36mmain_process_function\u001b[0;34m(self, activity_log, env)\u001b[0m\n\u001b[1;32m    113\u001b[0m         \u001b[0;34m\"\"\"Origin and Destination are of type HasContainer.\"\"\"\u001b[0m\u001b[0;34m\u001b[0m\u001b[0;34m\u001b[0m\u001b[0m\n\u001b[0;32m--> 114\u001b[0;31m         \u001b[0;32massert\u001b[0m \u001b[0mself\u001b[0m\u001b[0;34m.\u001b[0m\u001b[0mprocessor\u001b[0m\u001b[0;34m.\u001b[0m\u001b[0mis_at\u001b[0m\u001b[0;34m(\u001b[0m\u001b[0mself\u001b[0m\u001b[0;34m.\u001b[0m\u001b[0morigin\u001b[0m\u001b[0;34m)\u001b[0m\u001b[0;34m\u001b[0m\u001b[0;34m\u001b[0m\u001b[0m\n\u001b[0m\u001b[1;32m    115\u001b[0m         \u001b[0;32massert\u001b[0m \u001b[0mself\u001b[0m\u001b[0;34m.\u001b[0m\u001b[0mdestination\u001b[0m\u001b[0;34m.\u001b[0m\u001b[0mis_at\u001b[0m\u001b[0;34m(\u001b[0m\u001b[0mself\u001b[0m\u001b[0;34m.\u001b[0m\u001b[0morigin\u001b[0m\u001b[0;34m)\u001b[0m\u001b[0;34m\u001b[0m\u001b[0;34m\u001b[0m\u001b[0m\n",
      "\u001b[0;31mAssertionError\u001b[0m: ",
      "\nThe above exception was the direct cause of the following exception:\n",
      "\u001b[0;31mAssertionError\u001b[0m                            Traceback (most recent call last)",
      "\u001b[0;32m/OpenCLSim/openclsim/model/base_activities.py\u001b[0m in \u001b[0;36mdelayed_process\u001b[0;34m(self, activity_log, env)\u001b[0m\n\u001b[1;32m    203\u001b[0m         \u001b[0;32mif\u001b[0m \u001b[0mstart_event_parent\u001b[0m \u001b[0;32mis\u001b[0m \u001b[0;32mnot\u001b[0m \u001b[0;32mNone\u001b[0m\u001b[0;34m:\u001b[0m\u001b[0;34m\u001b[0m\u001b[0;34m\u001b[0m\u001b[0m\n\u001b[0;32m--> 204\u001b[0;31m             \u001b[0;32myield\u001b[0m \u001b[0mself\u001b[0m\u001b[0;34m.\u001b[0m\u001b[0mparse_expression\u001b[0m\u001b[0;34m(\u001b[0m\u001b[0mstart_event_parent\u001b[0m\u001b[0;34m)\u001b[0m\u001b[0;34m\u001b[0m\u001b[0;34m\u001b[0m\u001b[0m\n\u001b[0m\u001b[1;32m    205\u001b[0m \u001b[0;34m\u001b[0m\u001b[0m\n",
      "\u001b[0;31mAssertionError\u001b[0m: ",
      "\nThe above exception was the direct cause of the following exception:\n",
      "\u001b[0;31mAssertionError\u001b[0m                            Traceback (most recent call last)",
      "\u001b[0;32m<ipython-input-7-4528245a65de>\u001b[0m in \u001b[0;36m<module>\u001b[0;34m\u001b[0m\n\u001b[1;32m      1\u001b[0m \u001b[0mmodel\u001b[0m\u001b[0;34m.\u001b[0m\u001b[0mregister_processes\u001b[0m\u001b[0;34m(\u001b[0m\u001b[0;34m[\u001b[0m\u001b[0mwhile_activity\u001b[0m\u001b[0;34m]\u001b[0m\u001b[0;34m)\u001b[0m\u001b[0;34m\u001b[0m\u001b[0;34m\u001b[0m\u001b[0m\n\u001b[1;32m      2\u001b[0m \u001b[0mprint\u001b[0m\u001b[0;34m(\u001b[0m\u001b[0;34m'env.run()'\u001b[0m\u001b[0;34m)\u001b[0m\u001b[0;34m\u001b[0m\u001b[0;34m\u001b[0m\u001b[0m\n\u001b[0;32m----> 3\u001b[0;31m \u001b[0mmy_env\u001b[0m\u001b[0;34m.\u001b[0m\u001b[0mrun\u001b[0m\u001b[0;34m(\u001b[0m\u001b[0;34m)\u001b[0m\u001b[0;34m\u001b[0m\u001b[0;34m\u001b[0m\u001b[0m\n\u001b[0m",
      "\u001b[0;32m/opt/conda/lib/python3.7/site-packages/simpy/core.py\u001b[0m in \u001b[0;36mrun\u001b[0;34m(self, until)\u001b[0m\n\u001b[1;32m    252\u001b[0m         \u001b[0;32mtry\u001b[0m\u001b[0;34m:\u001b[0m\u001b[0;34m\u001b[0m\u001b[0;34m\u001b[0m\u001b[0m\n\u001b[1;32m    253\u001b[0m             \u001b[0;32mwhile\u001b[0m \u001b[0;32mTrue\u001b[0m\u001b[0;34m:\u001b[0m\u001b[0;34m\u001b[0m\u001b[0;34m\u001b[0m\u001b[0m\n\u001b[0;32m--> 254\u001b[0;31m                 \u001b[0mself\u001b[0m\u001b[0;34m.\u001b[0m\u001b[0mstep\u001b[0m\u001b[0;34m(\u001b[0m\u001b[0;34m)\u001b[0m\u001b[0;34m\u001b[0m\u001b[0;34m\u001b[0m\u001b[0m\n\u001b[0m\u001b[1;32m    255\u001b[0m         \u001b[0;32mexcept\u001b[0m \u001b[0mStopSimulation\u001b[0m \u001b[0;32mas\u001b[0m \u001b[0mexc\u001b[0m\u001b[0;34m:\u001b[0m\u001b[0;34m\u001b[0m\u001b[0;34m\u001b[0m\u001b[0m\n\u001b[1;32m    256\u001b[0m             \u001b[0;32mreturn\u001b[0m \u001b[0mexc\u001b[0m\u001b[0;34m.\u001b[0m\u001b[0margs\u001b[0m\u001b[0;34m[\u001b[0m\u001b[0;36m0\u001b[0m\u001b[0;34m]\u001b[0m  \u001b[0;31m# == until.value\u001b[0m\u001b[0;34m\u001b[0m\u001b[0;34m\u001b[0m\u001b[0m\n",
      "\u001b[0;32m/opt/conda/lib/python3.7/site-packages/simpy/core.py\u001b[0m in \u001b[0;36mstep\u001b[0;34m(self)\u001b[0m\n\u001b[1;32m    204\u001b[0m             \u001b[0mexc\u001b[0m \u001b[0;34m=\u001b[0m \u001b[0mtype\u001b[0m\u001b[0;34m(\u001b[0m\u001b[0mevent\u001b[0m\u001b[0;34m.\u001b[0m\u001b[0m_value\u001b[0m\u001b[0;34m)\u001b[0m\u001b[0;34m(\u001b[0m\u001b[0;34m*\u001b[0m\u001b[0mevent\u001b[0m\u001b[0;34m.\u001b[0m\u001b[0m_value\u001b[0m\u001b[0;34m.\u001b[0m\u001b[0margs\u001b[0m\u001b[0;34m)\u001b[0m\u001b[0;34m\u001b[0m\u001b[0;34m\u001b[0m\u001b[0m\n\u001b[1;32m    205\u001b[0m             \u001b[0mexc\u001b[0m\u001b[0;34m.\u001b[0m\u001b[0m__cause__\u001b[0m \u001b[0;34m=\u001b[0m \u001b[0mevent\u001b[0m\u001b[0;34m.\u001b[0m\u001b[0m_value\u001b[0m\u001b[0;34m\u001b[0m\u001b[0;34m\u001b[0m\u001b[0m\n\u001b[0;32m--> 206\u001b[0;31m             \u001b[0;32mraise\u001b[0m \u001b[0mexc\u001b[0m\u001b[0;34m\u001b[0m\u001b[0;34m\u001b[0m\u001b[0m\n\u001b[0m\u001b[1;32m    207\u001b[0m \u001b[0;34m\u001b[0m\u001b[0m\n\u001b[1;32m    208\u001b[0m     def run(\n",
      "\u001b[0;31mAssertionError\u001b[0m: "
     ]
    }
   ],
   "source": [
    "model.register_processes([while_activity])\n",
    "print('env.run()')\n",
    "my_env.run()"
   ]
  },
  {
   "cell_type": "code",
   "execution_count": 8,
   "metadata": {},
   "outputs": [
    {
     "data": {
      "text/html": [
       "        <script type=\"text/javascript\">\n",
       "        window.PlotlyConfig = {MathJaxConfig: 'local'};\n",
       "        if (window.MathJax) {MathJax.Hub.Config({SVG: {font: \"STIX-Web\"}});}\n",
       "        if (typeof require !== 'undefined') {\n",
       "        require.undef(\"plotly\");\n",
       "        requirejs.config({\n",
       "            paths: {\n",
       "                'plotly': ['https://cdn.plot.ly/plotly-latest.min']\n",
       "            }\n",
       "        });\n",
       "        require(['plotly'], function(Plotly) {\n",
       "            window._Plotly = Plotly;\n",
       "        });\n",
       "        }\n",
       "        </script>\n",
       "        "
      ]
     },
     "metadata": {},
     "output_type": "display_data"
    },
    {
     "data": {
      "application/vnd.plotly.v1+json": {
       "config": {
        "linkText": "Export to plot.ly",
        "plotlyServerURL": "https://plot.ly",
        "showLink": false
       },
       "data": [
        {
         "connectgaps": false,
         "hoverinfo": "y+name",
         "line": {
          "color": "rgb(244,192,110)",
          "width": 10
         },
         "mode": "lines",
         "name": "1b7eeec0-980b-43ec-8025-90e23ae41154",
         "type": "scatter",
         "x": [
          "1970-01-01T00:11:40",
          "1970-01-01T00:11:40",
          "1970-01-01T00:28:20",
          "1970-01-01T00:28:20",
          "1970-01-01T00:28:20",
          "1970-01-01T00:11:40",
          "1970-01-01T00:11:40",
          "1970-01-01T00:28:20",
          "1970-01-01T00:28:20",
          "1970-01-01T00:28:20",
          "1970-01-01T00:11:40",
          "1970-01-01T00:11:40",
          "1970-01-01T00:28:20",
          "1970-01-01T00:28:20",
          "1970-01-01T00:28:20"
         ],
         "y": [
          "Hopper 01",
          "Hopper 01",
          "Hopper 01",
          "Hopper 01",
          null,
          "Hopper 01",
          "Hopper 01",
          "Hopper 01",
          "Hopper 01",
          null,
          "Winlocatie",
          "Winlocatie",
          "Winlocatie",
          "Winlocatie",
          null
         ]
        },
        {
         "connectgaps": false,
         "hoverinfo": "y+name",
         "line": {
          "color": "rgb(13,217,135)",
          "width": 10
         },
         "mode": "lines",
         "name": "88664527-849c-4c83-a210-d4ce7ad5c67f",
         "type": "scatter",
         "x": [
          "1970-01-01T00:10:00",
          "1970-01-01T00:10:00",
          "1970-01-01T00:11:40",
          "1970-01-01T00:11:40",
          "1970-01-01T00:11:40",
          "1970-01-01T00:56:40",
          "1970-01-01T00:56:40",
          "1970-01-01T00:58:20",
          "1970-01-01T00:58:20",
          "1970-01-01T00:58:20"
         ],
         "y": [
          "Hopper 01",
          "Hopper 01",
          "Hopper 01",
          "Hopper 01",
          null,
          "Hopper 01",
          "Hopper 01",
          "Hopper 01",
          "Hopper 01",
          null
         ]
        },
        {
         "connectgaps": false,
         "hoverinfo": "y+name",
         "line": {
          "color": "rgb(38,242,160)",
          "width": 10
         },
         "mode": "lines",
         "name": "1ed54783-d9b8-4080-b07d-42c7d251f171",
         "type": "scatter",
         "x": [
          "1970-01-01T00:28:20",
          "1970-01-01T00:28:20",
          "1970-01-01T00:30:00",
          "1970-01-01T00:30:00",
          "1970-01-01T00:30:00"
         ],
         "y": [
          "Hopper 01",
          "Hopper 01",
          "Hopper 01",
          "Hopper 01",
          null
         ]
        },
        {
         "connectgaps": false,
         "hoverinfo": "y+name",
         "line": {
          "color": "rgb(63,11,185)",
          "width": 10
         },
         "mode": "lines",
         "name": "4302095e-e83e-46d3-b04e-c1f5b1c9173b",
         "type": "scatter",
         "x": [
          "1970-01-01T00:30:00",
          "1970-01-01T00:30:00",
          "1970-01-01T00:38:20",
          "1970-01-01T00:38:20",
          "1970-01-01T00:38:20"
         ],
         "y": [
          "Hopper 01",
          "Hopper 01",
          "Hopper 01",
          "Hopper 01",
          null
         ]
        },
        {
         "connectgaps": false,
         "hoverinfo": "y+name",
         "line": {
          "color": "rgb(88,36,210)",
          "width": 10
         },
         "mode": "lines",
         "name": "1e4561a3-c22b-4370-9d0f-505e0c39cfb7",
         "type": "scatter",
         "x": [
          "1970-01-01T00:38:20",
          "1970-01-01T00:38:20",
          "1970-01-01T00:55:00",
          "1970-01-01T00:55:00",
          "1970-01-01T00:55:00",
          "1970-01-01T00:38:20",
          "1970-01-01T00:38:20",
          "1970-01-01T00:55:00",
          "1970-01-01T00:55:00",
          "1970-01-01T00:55:00",
          "1970-01-01T00:38:20",
          "1970-01-01T00:38:20",
          "1970-01-01T00:55:00",
          "1970-01-01T00:55:00",
          "1970-01-01T00:55:00"
         ],
         "y": [
          "Hopper 01",
          "Hopper 01",
          "Hopper 01",
          "Hopper 01",
          null,
          "Hopper 01",
          "Hopper 01",
          "Hopper 01",
          "Hopper 01",
          null,
          "Dumplocatie",
          "Dumplocatie",
          "Dumplocatie",
          "Dumplocatie",
          null
         ]
        },
        {
         "connectgaps": false,
         "hoverinfo": "y+name",
         "line": {
          "color": "rgb(113,61,235)",
          "width": 10
         },
         "mode": "lines",
         "name": "8cde98e2-5572-40c5-834a-f5e41fa2a843",
         "type": "scatter",
         "x": [
          "1970-01-01T00:01:40",
          "1970-01-01T00:01:40",
          "1970-01-01T00:10:00",
          "1970-01-01T00:10:00",
          "1970-01-01T00:10:00"
         ],
         "y": [
          "Hopper 01",
          "Hopper 01",
          "Hopper 01",
          "Hopper 01",
          null
         ]
        },
        {
         "connectgaps": false,
         "hoverinfo": "y+name",
         "line": {
          "color": "rgb(138,86,4)",
          "width": 10
         },
         "mode": "lines",
         "name": "856ccb7e-4835-4edd-87ab-fe8dac58d787",
         "type": "scatter",
         "x": [
          "1970-01-01T00:55:00",
          "1970-01-01T00:55:00",
          "1970-01-01T00:56:40",
          "1970-01-01T00:56:40",
          "1970-01-01T00:56:40"
         ],
         "y": [
          "Hopper 01",
          "Hopper 01",
          "Hopper 01",
          "Hopper 01",
          null
         ]
        },
        {
         "connectgaps": false,
         "hoverinfo": "y+name",
         "line": {
          "color": "rgb(163,111,29)",
          "width": 10
         },
         "mode": "lines",
         "name": "6c33d3d7-b202-4dbb-8c5d-1d7fc3d61e74",
         "type": "scatter",
         "x": [
          "1970-01-01T00:00:00",
          "1970-01-01T00:00:00",
          "1970-01-01T00:01:40",
          "1970-01-01T00:01:40",
          "1970-01-01T00:01:40",
          "1970-01-01T00:56:40",
          "1970-01-01T00:56:40",
          "1970-01-01T00:58:20",
          "1970-01-01T00:58:20",
          "1970-01-01T00:58:20"
         ],
         "y": [
          "Hopper 01",
          "Hopper 01",
          "Hopper 01",
          "Hopper 01",
          null,
          "Hopper 01",
          "Hopper 01",
          "Hopper 01",
          "Hopper 01",
          null
         ]
        },
        {
         "connectgaps": false,
         "hoverinfo": "y+name",
         "line": {
          "color": "rgb(188,136,54)",
          "width": 10
         },
         "mode": "lines",
         "name": "1b7eeec0-980b-43ec-8025-90e23ae41154",
         "type": "scatter",
         "x": [
          "1970-01-01T00:11:40",
          "1970-01-01T00:11:40",
          "1970-01-01T00:28:20",
          "1970-01-01T00:28:20",
          "1970-01-01T00:28:20",
          "1970-01-01T00:11:40",
          "1970-01-01T00:11:40",
          "1970-01-01T00:28:20",
          "1970-01-01T00:28:20",
          "1970-01-01T00:28:20",
          "1970-01-01T00:11:40",
          "1970-01-01T00:11:40",
          "1970-01-01T00:28:20",
          "1970-01-01T00:28:20",
          "1970-01-01T00:28:20"
         ],
         "y": [
          "Hopper 01",
          "Hopper 01",
          "Hopper 01",
          "Hopper 01",
          null,
          "Hopper 01",
          "Hopper 01",
          "Hopper 01",
          "Hopper 01",
          null,
          "Winlocatie",
          "Winlocatie",
          "Winlocatie",
          "Winlocatie",
          null
         ]
        },
        {
         "connectgaps": false,
         "hoverinfo": "y+name",
         "line": {
          "color": "rgb(213,161,79)",
          "width": 10
         },
         "mode": "lines",
         "name": "1e4561a3-c22b-4370-9d0f-505e0c39cfb7",
         "type": "scatter",
         "x": [
          "1970-01-01T00:38:20",
          "1970-01-01T00:38:20",
          "1970-01-01T00:55:00",
          "1970-01-01T00:55:00",
          "1970-01-01T00:55:00",
          "1970-01-01T00:38:20",
          "1970-01-01T00:38:20",
          "1970-01-01T00:55:00",
          "1970-01-01T00:55:00",
          "1970-01-01T00:55:00",
          "1970-01-01T00:38:20",
          "1970-01-01T00:38:20",
          "1970-01-01T00:55:00",
          "1970-01-01T00:55:00",
          "1970-01-01T00:55:00"
         ],
         "y": [
          "Hopper 01",
          "Hopper 01",
          "Hopper 01",
          "Hopper 01",
          null,
          "Hopper 01",
          "Hopper 01",
          "Hopper 01",
          "Hopper 01",
          null,
          "Dumplocatie",
          "Dumplocatie",
          "Dumplocatie",
          "Dumplocatie",
          null
         ]
        }
       ],
       "layout": {
        "hovermode": "closest",
        "legend": {
         "orientation": "h",
         "x": 0,
         "y": -0.2
        },
        "template": {
         "data": {
          "bar": [
           {
            "error_x": {
             "color": "#2a3f5f"
            },
            "error_y": {
             "color": "#2a3f5f"
            },
            "marker": {
             "line": {
              "color": "#E5ECF6",
              "width": 0.5
             }
            },
            "type": "bar"
           }
          ],
          "barpolar": [
           {
            "marker": {
             "line": {
              "color": "#E5ECF6",
              "width": 0.5
             }
            },
            "type": "barpolar"
           }
          ],
          "carpet": [
           {
            "aaxis": {
             "endlinecolor": "#2a3f5f",
             "gridcolor": "white",
             "linecolor": "white",
             "minorgridcolor": "white",
             "startlinecolor": "#2a3f5f"
            },
            "baxis": {
             "endlinecolor": "#2a3f5f",
             "gridcolor": "white",
             "linecolor": "white",
             "minorgridcolor": "white",
             "startlinecolor": "#2a3f5f"
            },
            "type": "carpet"
           }
          ],
          "choropleth": [
           {
            "colorbar": {
             "outlinewidth": 0,
             "ticks": ""
            },
            "type": "choropleth"
           }
          ],
          "contour": [
           {
            "colorbar": {
             "outlinewidth": 0,
             "ticks": ""
            },
            "colorscale": [
             [
              0,
              "#0d0887"
             ],
             [
              0.1111111111111111,
              "#46039f"
             ],
             [
              0.2222222222222222,
              "#7201a8"
             ],
             [
              0.3333333333333333,
              "#9c179e"
             ],
             [
              0.4444444444444444,
              "#bd3786"
             ],
             [
              0.5555555555555556,
              "#d8576b"
             ],
             [
              0.6666666666666666,
              "#ed7953"
             ],
             [
              0.7777777777777778,
              "#fb9f3a"
             ],
             [
              0.8888888888888888,
              "#fdca26"
             ],
             [
              1,
              "#f0f921"
             ]
            ],
            "type": "contour"
           }
          ],
          "contourcarpet": [
           {
            "colorbar": {
             "outlinewidth": 0,
             "ticks": ""
            },
            "type": "contourcarpet"
           }
          ],
          "heatmap": [
           {
            "colorbar": {
             "outlinewidth": 0,
             "ticks": ""
            },
            "colorscale": [
             [
              0,
              "#0d0887"
             ],
             [
              0.1111111111111111,
              "#46039f"
             ],
             [
              0.2222222222222222,
              "#7201a8"
             ],
             [
              0.3333333333333333,
              "#9c179e"
             ],
             [
              0.4444444444444444,
              "#bd3786"
             ],
             [
              0.5555555555555556,
              "#d8576b"
             ],
             [
              0.6666666666666666,
              "#ed7953"
             ],
             [
              0.7777777777777778,
              "#fb9f3a"
             ],
             [
              0.8888888888888888,
              "#fdca26"
             ],
             [
              1,
              "#f0f921"
             ]
            ],
            "type": "heatmap"
           }
          ],
          "heatmapgl": [
           {
            "colorbar": {
             "outlinewidth": 0,
             "ticks": ""
            },
            "colorscale": [
             [
              0,
              "#0d0887"
             ],
             [
              0.1111111111111111,
              "#46039f"
             ],
             [
              0.2222222222222222,
              "#7201a8"
             ],
             [
              0.3333333333333333,
              "#9c179e"
             ],
             [
              0.4444444444444444,
              "#bd3786"
             ],
             [
              0.5555555555555556,
              "#d8576b"
             ],
             [
              0.6666666666666666,
              "#ed7953"
             ],
             [
              0.7777777777777778,
              "#fb9f3a"
             ],
             [
              0.8888888888888888,
              "#fdca26"
             ],
             [
              1,
              "#f0f921"
             ]
            ],
            "type": "heatmapgl"
           }
          ],
          "histogram": [
           {
            "marker": {
             "colorbar": {
              "outlinewidth": 0,
              "ticks": ""
             }
            },
            "type": "histogram"
           }
          ],
          "histogram2d": [
           {
            "colorbar": {
             "outlinewidth": 0,
             "ticks": ""
            },
            "colorscale": [
             [
              0,
              "#0d0887"
             ],
             [
              0.1111111111111111,
              "#46039f"
             ],
             [
              0.2222222222222222,
              "#7201a8"
             ],
             [
              0.3333333333333333,
              "#9c179e"
             ],
             [
              0.4444444444444444,
              "#bd3786"
             ],
             [
              0.5555555555555556,
              "#d8576b"
             ],
             [
              0.6666666666666666,
              "#ed7953"
             ],
             [
              0.7777777777777778,
              "#fb9f3a"
             ],
             [
              0.8888888888888888,
              "#fdca26"
             ],
             [
              1,
              "#f0f921"
             ]
            ],
            "type": "histogram2d"
           }
          ],
          "histogram2dcontour": [
           {
            "colorbar": {
             "outlinewidth": 0,
             "ticks": ""
            },
            "colorscale": [
             [
              0,
              "#0d0887"
             ],
             [
              0.1111111111111111,
              "#46039f"
             ],
             [
              0.2222222222222222,
              "#7201a8"
             ],
             [
              0.3333333333333333,
              "#9c179e"
             ],
             [
              0.4444444444444444,
              "#bd3786"
             ],
             [
              0.5555555555555556,
              "#d8576b"
             ],
             [
              0.6666666666666666,
              "#ed7953"
             ],
             [
              0.7777777777777778,
              "#fb9f3a"
             ],
             [
              0.8888888888888888,
              "#fdca26"
             ],
             [
              1,
              "#f0f921"
             ]
            ],
            "type": "histogram2dcontour"
           }
          ],
          "mesh3d": [
           {
            "colorbar": {
             "outlinewidth": 0,
             "ticks": ""
            },
            "type": "mesh3d"
           }
          ],
          "parcoords": [
           {
            "line": {
             "colorbar": {
              "outlinewidth": 0,
              "ticks": ""
             }
            },
            "type": "parcoords"
           }
          ],
          "pie": [
           {
            "automargin": true,
            "type": "pie"
           }
          ],
          "scatter": [
           {
            "marker": {
             "colorbar": {
              "outlinewidth": 0,
              "ticks": ""
             }
            },
            "type": "scatter"
           }
          ],
          "scatter3d": [
           {
            "line": {
             "colorbar": {
              "outlinewidth": 0,
              "ticks": ""
             }
            },
            "marker": {
             "colorbar": {
              "outlinewidth": 0,
              "ticks": ""
             }
            },
            "type": "scatter3d"
           }
          ],
          "scattercarpet": [
           {
            "marker": {
             "colorbar": {
              "outlinewidth": 0,
              "ticks": ""
             }
            },
            "type": "scattercarpet"
           }
          ],
          "scattergeo": [
           {
            "marker": {
             "colorbar": {
              "outlinewidth": 0,
              "ticks": ""
             }
            },
            "type": "scattergeo"
           }
          ],
          "scattergl": [
           {
            "marker": {
             "colorbar": {
              "outlinewidth": 0,
              "ticks": ""
             }
            },
            "type": "scattergl"
           }
          ],
          "scattermapbox": [
           {
            "marker": {
             "colorbar": {
              "outlinewidth": 0,
              "ticks": ""
             }
            },
            "type": "scattermapbox"
           }
          ],
          "scatterpolar": [
           {
            "marker": {
             "colorbar": {
              "outlinewidth": 0,
              "ticks": ""
             }
            },
            "type": "scatterpolar"
           }
          ],
          "scatterpolargl": [
           {
            "marker": {
             "colorbar": {
              "outlinewidth": 0,
              "ticks": ""
             }
            },
            "type": "scatterpolargl"
           }
          ],
          "scatterternary": [
           {
            "marker": {
             "colorbar": {
              "outlinewidth": 0,
              "ticks": ""
             }
            },
            "type": "scatterternary"
           }
          ],
          "surface": [
           {
            "colorbar": {
             "outlinewidth": 0,
             "ticks": ""
            },
            "colorscale": [
             [
              0,
              "#0d0887"
             ],
             [
              0.1111111111111111,
              "#46039f"
             ],
             [
              0.2222222222222222,
              "#7201a8"
             ],
             [
              0.3333333333333333,
              "#9c179e"
             ],
             [
              0.4444444444444444,
              "#bd3786"
             ],
             [
              0.5555555555555556,
              "#d8576b"
             ],
             [
              0.6666666666666666,
              "#ed7953"
             ],
             [
              0.7777777777777778,
              "#fb9f3a"
             ],
             [
              0.8888888888888888,
              "#fdca26"
             ],
             [
              1,
              "#f0f921"
             ]
            ],
            "type": "surface"
           }
          ],
          "table": [
           {
            "cells": {
             "fill": {
              "color": "#EBF0F8"
             },
             "line": {
              "color": "white"
             }
            },
            "header": {
             "fill": {
              "color": "#C8D4E3"
             },
             "line": {
              "color": "white"
             }
            },
            "type": "table"
           }
          ]
         },
         "layout": {
          "annotationdefaults": {
           "arrowcolor": "#2a3f5f",
           "arrowhead": 0,
           "arrowwidth": 1
          },
          "autotypenumbers": "strict",
          "coloraxis": {
           "colorbar": {
            "outlinewidth": 0,
            "ticks": ""
           }
          },
          "colorscale": {
           "diverging": [
            [
             0,
             "#8e0152"
            ],
            [
             0.1,
             "#c51b7d"
            ],
            [
             0.2,
             "#de77ae"
            ],
            [
             0.3,
             "#f1b6da"
            ],
            [
             0.4,
             "#fde0ef"
            ],
            [
             0.5,
             "#f7f7f7"
            ],
            [
             0.6,
             "#e6f5d0"
            ],
            [
             0.7,
             "#b8e186"
            ],
            [
             0.8,
             "#7fbc41"
            ],
            [
             0.9,
             "#4d9221"
            ],
            [
             1,
             "#276419"
            ]
           ],
           "sequential": [
            [
             0,
             "#0d0887"
            ],
            [
             0.1111111111111111,
             "#46039f"
            ],
            [
             0.2222222222222222,
             "#7201a8"
            ],
            [
             0.3333333333333333,
             "#9c179e"
            ],
            [
             0.4444444444444444,
             "#bd3786"
            ],
            [
             0.5555555555555556,
             "#d8576b"
            ],
            [
             0.6666666666666666,
             "#ed7953"
            ],
            [
             0.7777777777777778,
             "#fb9f3a"
            ],
            [
             0.8888888888888888,
             "#fdca26"
            ],
            [
             1,
             "#f0f921"
            ]
           ],
           "sequentialminus": [
            [
             0,
             "#0d0887"
            ],
            [
             0.1111111111111111,
             "#46039f"
            ],
            [
             0.2222222222222222,
             "#7201a8"
            ],
            [
             0.3333333333333333,
             "#9c179e"
            ],
            [
             0.4444444444444444,
             "#bd3786"
            ],
            [
             0.5555555555555556,
             "#d8576b"
            ],
            [
             0.6666666666666666,
             "#ed7953"
            ],
            [
             0.7777777777777778,
             "#fb9f3a"
            ],
            [
             0.8888888888888888,
             "#fdca26"
            ],
            [
             1,
             "#f0f921"
            ]
           ]
          },
          "colorway": [
           "#636efa",
           "#EF553B",
           "#00cc96",
           "#ab63fa",
           "#FFA15A",
           "#19d3f3",
           "#FF6692",
           "#B6E880",
           "#FF97FF",
           "#FECB52"
          ],
          "font": {
           "color": "#2a3f5f"
          },
          "geo": {
           "bgcolor": "white",
           "lakecolor": "white",
           "landcolor": "#E5ECF6",
           "showlakes": true,
           "showland": true,
           "subunitcolor": "white"
          },
          "hoverlabel": {
           "align": "left"
          },
          "hovermode": "closest",
          "mapbox": {
           "style": "light"
          },
          "paper_bgcolor": "white",
          "plot_bgcolor": "#E5ECF6",
          "polar": {
           "angularaxis": {
            "gridcolor": "white",
            "linecolor": "white",
            "ticks": ""
           },
           "bgcolor": "#E5ECF6",
           "radialaxis": {
            "gridcolor": "white",
            "linecolor": "white",
            "ticks": ""
           }
          },
          "scene": {
           "xaxis": {
            "backgroundcolor": "#E5ECF6",
            "gridcolor": "white",
            "gridwidth": 2,
            "linecolor": "white",
            "showbackground": true,
            "ticks": "",
            "zerolinecolor": "white"
           },
           "yaxis": {
            "backgroundcolor": "#E5ECF6",
            "gridcolor": "white",
            "gridwidth": 2,
            "linecolor": "white",
            "showbackground": true,
            "ticks": "",
            "zerolinecolor": "white"
           },
           "zaxis": {
            "backgroundcolor": "#E5ECF6",
            "gridcolor": "white",
            "gridwidth": 2,
            "linecolor": "white",
            "showbackground": true,
            "ticks": "",
            "zerolinecolor": "white"
           }
          },
          "shapedefaults": {
           "line": {
            "color": "#2a3f5f"
           }
          },
          "ternary": {
           "aaxis": {
            "gridcolor": "white",
            "linecolor": "white",
            "ticks": ""
           },
           "baxis": {
            "gridcolor": "white",
            "linecolor": "white",
            "ticks": ""
           },
           "bgcolor": "#E5ECF6",
           "caxis": {
            "gridcolor": "white",
            "linecolor": "white",
            "ticks": ""
           }
          },
          "title": {
           "x": 0.05
          },
          "xaxis": {
           "automargin": true,
           "gridcolor": "white",
           "linecolor": "white",
           "ticks": "",
           "title": {
            "standoff": 15
           },
           "zerolinecolor": "white",
           "zerolinewidth": 2
          },
          "yaxis": {
           "automargin": true,
           "gridcolor": "white",
           "linecolor": "white",
           "ticks": "",
           "title": {
            "standoff": 15
           },
           "zerolinecolor": "white",
           "zerolinewidth": 2
          }
         }
        },
        "title": {
         "text": "Vessel planning"
        },
        "xaxis": {
         "range": [
          "1970-01-01T00:00:00",
          "1970-01-01T00:58:20"
         ],
         "title": {
          "font": {
           "color": "#7f7f7f",
           "family": "Courier New, monospace",
           "size": 18
          },
          "text": "Time"
         }
        },
        "yaxis": {
         "title": {
          "font": {
           "color": "#7f7f7f",
           "family": "Courier New, monospace",
           "size": 18
          },
          "text": "Vessels"
         }
        }
       }
      },
      "text/html": [
       "<div>                            <div id=\"50afce95-e62a-45b1-b16a-fbe2ed6b892f\" class=\"plotly-graph-div\" style=\"height:525px; width:100%;\"></div>            <script type=\"text/javascript\">                require([\"plotly\"], function(Plotly) {                    window.PLOTLYENV=window.PLOTLYENV || {};                                    if (document.getElementById(\"50afce95-e62a-45b1-b16a-fbe2ed6b892f\")) {                    Plotly.newPlot(                        \"50afce95-e62a-45b1-b16a-fbe2ed6b892f\",                        [{\"connectgaps\": false, \"hoverinfo\": \"y+name\", \"line\": {\"color\": \"rgb(244,192,110)\", \"width\": 10}, \"mode\": \"lines\", \"name\": \"1b7eeec0-980b-43ec-8025-90e23ae41154\", \"type\": \"scatter\", \"x\": [\"1970-01-01T00:11:40\", \"1970-01-01T00:11:40\", \"1970-01-01T00:28:20\", \"1970-01-01T00:28:20\", \"1970-01-01T00:28:20\", \"1970-01-01T00:11:40\", \"1970-01-01T00:11:40\", \"1970-01-01T00:28:20\", \"1970-01-01T00:28:20\", \"1970-01-01T00:28:20\", \"1970-01-01T00:11:40\", \"1970-01-01T00:11:40\", \"1970-01-01T00:28:20\", \"1970-01-01T00:28:20\", \"1970-01-01T00:28:20\"], \"y\": [\"Hopper 01\", \"Hopper 01\", \"Hopper 01\", \"Hopper 01\", null, \"Hopper 01\", \"Hopper 01\", \"Hopper 01\", \"Hopper 01\", null, \"Winlocatie\", \"Winlocatie\", \"Winlocatie\", \"Winlocatie\", null]}, {\"connectgaps\": false, \"hoverinfo\": \"y+name\", \"line\": {\"color\": \"rgb(13,217,135)\", \"width\": 10}, \"mode\": \"lines\", \"name\": \"88664527-849c-4c83-a210-d4ce7ad5c67f\", \"type\": \"scatter\", \"x\": [\"1970-01-01T00:10:00\", \"1970-01-01T00:10:00\", \"1970-01-01T00:11:40\", \"1970-01-01T00:11:40\", \"1970-01-01T00:11:40\", \"1970-01-01T00:56:40\", \"1970-01-01T00:56:40\", \"1970-01-01T00:58:20\", \"1970-01-01T00:58:20\", \"1970-01-01T00:58:20\"], \"y\": [\"Hopper 01\", \"Hopper 01\", \"Hopper 01\", \"Hopper 01\", null, \"Hopper 01\", \"Hopper 01\", \"Hopper 01\", \"Hopper 01\", null]}, {\"connectgaps\": false, \"hoverinfo\": \"y+name\", \"line\": {\"color\": \"rgb(38,242,160)\", \"width\": 10}, \"mode\": \"lines\", \"name\": \"1ed54783-d9b8-4080-b07d-42c7d251f171\", \"type\": \"scatter\", \"x\": [\"1970-01-01T00:28:20\", \"1970-01-01T00:28:20\", \"1970-01-01T00:30:00\", \"1970-01-01T00:30:00\", \"1970-01-01T00:30:00\"], \"y\": [\"Hopper 01\", \"Hopper 01\", \"Hopper 01\", \"Hopper 01\", null]}, {\"connectgaps\": false, \"hoverinfo\": \"y+name\", \"line\": {\"color\": \"rgb(63,11,185)\", \"width\": 10}, \"mode\": \"lines\", \"name\": \"4302095e-e83e-46d3-b04e-c1f5b1c9173b\", \"type\": \"scatter\", \"x\": [\"1970-01-01T00:30:00\", \"1970-01-01T00:30:00\", \"1970-01-01T00:38:20\", \"1970-01-01T00:38:20\", \"1970-01-01T00:38:20\"], \"y\": [\"Hopper 01\", \"Hopper 01\", \"Hopper 01\", \"Hopper 01\", null]}, {\"connectgaps\": false, \"hoverinfo\": \"y+name\", \"line\": {\"color\": \"rgb(88,36,210)\", \"width\": 10}, \"mode\": \"lines\", \"name\": \"1e4561a3-c22b-4370-9d0f-505e0c39cfb7\", \"type\": \"scatter\", \"x\": [\"1970-01-01T00:38:20\", \"1970-01-01T00:38:20\", \"1970-01-01T00:55:00\", \"1970-01-01T00:55:00\", \"1970-01-01T00:55:00\", \"1970-01-01T00:38:20\", \"1970-01-01T00:38:20\", \"1970-01-01T00:55:00\", \"1970-01-01T00:55:00\", \"1970-01-01T00:55:00\", \"1970-01-01T00:38:20\", \"1970-01-01T00:38:20\", \"1970-01-01T00:55:00\", \"1970-01-01T00:55:00\", \"1970-01-01T00:55:00\"], \"y\": [\"Hopper 01\", \"Hopper 01\", \"Hopper 01\", \"Hopper 01\", null, \"Hopper 01\", \"Hopper 01\", \"Hopper 01\", \"Hopper 01\", null, \"Dumplocatie\", \"Dumplocatie\", \"Dumplocatie\", \"Dumplocatie\", null]}, {\"connectgaps\": false, \"hoverinfo\": \"y+name\", \"line\": {\"color\": \"rgb(113,61,235)\", \"width\": 10}, \"mode\": \"lines\", \"name\": \"8cde98e2-5572-40c5-834a-f5e41fa2a843\", \"type\": \"scatter\", \"x\": [\"1970-01-01T00:01:40\", \"1970-01-01T00:01:40\", \"1970-01-01T00:10:00\", \"1970-01-01T00:10:00\", \"1970-01-01T00:10:00\"], \"y\": [\"Hopper 01\", \"Hopper 01\", \"Hopper 01\", \"Hopper 01\", null]}, {\"connectgaps\": false, \"hoverinfo\": \"y+name\", \"line\": {\"color\": \"rgb(138,86,4)\", \"width\": 10}, \"mode\": \"lines\", \"name\": \"856ccb7e-4835-4edd-87ab-fe8dac58d787\", \"type\": \"scatter\", \"x\": [\"1970-01-01T00:55:00\", \"1970-01-01T00:55:00\", \"1970-01-01T00:56:40\", \"1970-01-01T00:56:40\", \"1970-01-01T00:56:40\"], \"y\": [\"Hopper 01\", \"Hopper 01\", \"Hopper 01\", \"Hopper 01\", null]}, {\"connectgaps\": false, \"hoverinfo\": \"y+name\", \"line\": {\"color\": \"rgb(163,111,29)\", \"width\": 10}, \"mode\": \"lines\", \"name\": \"6c33d3d7-b202-4dbb-8c5d-1d7fc3d61e74\", \"type\": \"scatter\", \"x\": [\"1970-01-01T00:00:00\", \"1970-01-01T00:00:00\", \"1970-01-01T00:01:40\", \"1970-01-01T00:01:40\", \"1970-01-01T00:01:40\", \"1970-01-01T00:56:40\", \"1970-01-01T00:56:40\", \"1970-01-01T00:58:20\", \"1970-01-01T00:58:20\", \"1970-01-01T00:58:20\"], \"y\": [\"Hopper 01\", \"Hopper 01\", \"Hopper 01\", \"Hopper 01\", null, \"Hopper 01\", \"Hopper 01\", \"Hopper 01\", \"Hopper 01\", null]}, {\"connectgaps\": false, \"hoverinfo\": \"y+name\", \"line\": {\"color\": \"rgb(188,136,54)\", \"width\": 10}, \"mode\": \"lines\", \"name\": \"1b7eeec0-980b-43ec-8025-90e23ae41154\", \"type\": \"scatter\", \"x\": [\"1970-01-01T00:11:40\", \"1970-01-01T00:11:40\", \"1970-01-01T00:28:20\", \"1970-01-01T00:28:20\", \"1970-01-01T00:28:20\", \"1970-01-01T00:11:40\", \"1970-01-01T00:11:40\", \"1970-01-01T00:28:20\", \"1970-01-01T00:28:20\", \"1970-01-01T00:28:20\", \"1970-01-01T00:11:40\", \"1970-01-01T00:11:40\", \"1970-01-01T00:28:20\", \"1970-01-01T00:28:20\", \"1970-01-01T00:28:20\"], \"y\": [\"Hopper 01\", \"Hopper 01\", \"Hopper 01\", \"Hopper 01\", null, \"Hopper 01\", \"Hopper 01\", \"Hopper 01\", \"Hopper 01\", null, \"Winlocatie\", \"Winlocatie\", \"Winlocatie\", \"Winlocatie\", null]}, {\"connectgaps\": false, \"hoverinfo\": \"y+name\", \"line\": {\"color\": \"rgb(213,161,79)\", \"width\": 10}, \"mode\": \"lines\", \"name\": \"1e4561a3-c22b-4370-9d0f-505e0c39cfb7\", \"type\": \"scatter\", \"x\": [\"1970-01-01T00:38:20\", \"1970-01-01T00:38:20\", \"1970-01-01T00:55:00\", \"1970-01-01T00:55:00\", \"1970-01-01T00:55:00\", \"1970-01-01T00:38:20\", \"1970-01-01T00:38:20\", \"1970-01-01T00:55:00\", \"1970-01-01T00:55:00\", \"1970-01-01T00:55:00\", \"1970-01-01T00:38:20\", \"1970-01-01T00:38:20\", \"1970-01-01T00:55:00\", \"1970-01-01T00:55:00\", \"1970-01-01T00:55:00\"], \"y\": [\"Hopper 01\", \"Hopper 01\", \"Hopper 01\", \"Hopper 01\", null, \"Hopper 01\", \"Hopper 01\", \"Hopper 01\", \"Hopper 01\", null, \"Dumplocatie\", \"Dumplocatie\", \"Dumplocatie\", \"Dumplocatie\", null]}],                        {\"hovermode\": \"closest\", \"legend\": {\"orientation\": \"h\", \"x\": 0, \"y\": -0.2}, \"template\": {\"data\": {\"bar\": [{\"error_x\": {\"color\": \"#2a3f5f\"}, \"error_y\": {\"color\": \"#2a3f5f\"}, \"marker\": {\"line\": {\"color\": \"#E5ECF6\", \"width\": 0.5}}, \"type\": \"bar\"}], \"barpolar\": [{\"marker\": {\"line\": {\"color\": \"#E5ECF6\", \"width\": 0.5}}, \"type\": \"barpolar\"}], \"carpet\": [{\"aaxis\": {\"endlinecolor\": \"#2a3f5f\", \"gridcolor\": \"white\", \"linecolor\": \"white\", \"minorgridcolor\": \"white\", \"startlinecolor\": \"#2a3f5f\"}, \"baxis\": {\"endlinecolor\": \"#2a3f5f\", \"gridcolor\": \"white\", \"linecolor\": \"white\", \"minorgridcolor\": \"white\", \"startlinecolor\": \"#2a3f5f\"}, \"type\": \"carpet\"}], \"choropleth\": [{\"colorbar\": {\"outlinewidth\": 0, \"ticks\": \"\"}, \"type\": \"choropleth\"}], \"contour\": [{\"colorbar\": {\"outlinewidth\": 0, \"ticks\": \"\"}, \"colorscale\": [[0.0, \"#0d0887\"], [0.1111111111111111, \"#46039f\"], [0.2222222222222222, \"#7201a8\"], [0.3333333333333333, \"#9c179e\"], [0.4444444444444444, \"#bd3786\"], [0.5555555555555556, \"#d8576b\"], [0.6666666666666666, \"#ed7953\"], [0.7777777777777778, \"#fb9f3a\"], [0.8888888888888888, \"#fdca26\"], [1.0, \"#f0f921\"]], \"type\": \"contour\"}], \"contourcarpet\": [{\"colorbar\": {\"outlinewidth\": 0, \"ticks\": \"\"}, \"type\": \"contourcarpet\"}], \"heatmap\": [{\"colorbar\": {\"outlinewidth\": 0, \"ticks\": \"\"}, \"colorscale\": [[0.0, \"#0d0887\"], [0.1111111111111111, \"#46039f\"], [0.2222222222222222, \"#7201a8\"], [0.3333333333333333, \"#9c179e\"], [0.4444444444444444, \"#bd3786\"], [0.5555555555555556, \"#d8576b\"], [0.6666666666666666, \"#ed7953\"], [0.7777777777777778, \"#fb9f3a\"], [0.8888888888888888, \"#fdca26\"], [1.0, \"#f0f921\"]], \"type\": \"heatmap\"}], \"heatmapgl\": [{\"colorbar\": {\"outlinewidth\": 0, \"ticks\": \"\"}, \"colorscale\": [[0.0, \"#0d0887\"], [0.1111111111111111, \"#46039f\"], [0.2222222222222222, \"#7201a8\"], [0.3333333333333333, \"#9c179e\"], [0.4444444444444444, \"#bd3786\"], [0.5555555555555556, \"#d8576b\"], [0.6666666666666666, \"#ed7953\"], [0.7777777777777778, \"#fb9f3a\"], [0.8888888888888888, \"#fdca26\"], [1.0, \"#f0f921\"]], \"type\": \"heatmapgl\"}], \"histogram\": [{\"marker\": {\"colorbar\": {\"outlinewidth\": 0, \"ticks\": \"\"}}, \"type\": \"histogram\"}], \"histogram2d\": [{\"colorbar\": {\"outlinewidth\": 0, \"ticks\": \"\"}, \"colorscale\": [[0.0, \"#0d0887\"], [0.1111111111111111, \"#46039f\"], [0.2222222222222222, \"#7201a8\"], [0.3333333333333333, \"#9c179e\"], [0.4444444444444444, \"#bd3786\"], [0.5555555555555556, \"#d8576b\"], [0.6666666666666666, \"#ed7953\"], [0.7777777777777778, \"#fb9f3a\"], [0.8888888888888888, \"#fdca26\"], [1.0, \"#f0f921\"]], \"type\": \"histogram2d\"}], \"histogram2dcontour\": [{\"colorbar\": {\"outlinewidth\": 0, \"ticks\": \"\"}, \"colorscale\": [[0.0, \"#0d0887\"], [0.1111111111111111, \"#46039f\"], [0.2222222222222222, \"#7201a8\"], [0.3333333333333333, \"#9c179e\"], [0.4444444444444444, \"#bd3786\"], [0.5555555555555556, \"#d8576b\"], [0.6666666666666666, \"#ed7953\"], [0.7777777777777778, \"#fb9f3a\"], [0.8888888888888888, \"#fdca26\"], [1.0, \"#f0f921\"]], \"type\": \"histogram2dcontour\"}], \"mesh3d\": [{\"colorbar\": {\"outlinewidth\": 0, \"ticks\": \"\"}, \"type\": \"mesh3d\"}], \"parcoords\": [{\"line\": {\"colorbar\": {\"outlinewidth\": 0, \"ticks\": \"\"}}, \"type\": \"parcoords\"}], \"pie\": [{\"automargin\": true, \"type\": \"pie\"}], \"scatter\": [{\"marker\": {\"colorbar\": {\"outlinewidth\": 0, \"ticks\": \"\"}}, \"type\": \"scatter\"}], \"scatter3d\": [{\"line\": {\"colorbar\": {\"outlinewidth\": 0, \"ticks\": \"\"}}, \"marker\": {\"colorbar\": {\"outlinewidth\": 0, \"ticks\": \"\"}}, \"type\": \"scatter3d\"}], \"scattercarpet\": [{\"marker\": {\"colorbar\": {\"outlinewidth\": 0, \"ticks\": \"\"}}, \"type\": \"scattercarpet\"}], \"scattergeo\": [{\"marker\": {\"colorbar\": {\"outlinewidth\": 0, \"ticks\": \"\"}}, \"type\": \"scattergeo\"}], \"scattergl\": [{\"marker\": {\"colorbar\": {\"outlinewidth\": 0, \"ticks\": \"\"}}, \"type\": \"scattergl\"}], \"scattermapbox\": [{\"marker\": {\"colorbar\": {\"outlinewidth\": 0, \"ticks\": \"\"}}, \"type\": \"scattermapbox\"}], \"scatterpolar\": [{\"marker\": {\"colorbar\": {\"outlinewidth\": 0, \"ticks\": \"\"}}, \"type\": \"scatterpolar\"}], \"scatterpolargl\": [{\"marker\": {\"colorbar\": {\"outlinewidth\": 0, \"ticks\": \"\"}}, \"type\": \"scatterpolargl\"}], \"scatterternary\": [{\"marker\": {\"colorbar\": {\"outlinewidth\": 0, \"ticks\": \"\"}}, \"type\": \"scatterternary\"}], \"surface\": [{\"colorbar\": {\"outlinewidth\": 0, \"ticks\": \"\"}, \"colorscale\": [[0.0, \"#0d0887\"], [0.1111111111111111, \"#46039f\"], [0.2222222222222222, \"#7201a8\"], [0.3333333333333333, \"#9c179e\"], [0.4444444444444444, \"#bd3786\"], [0.5555555555555556, \"#d8576b\"], [0.6666666666666666, \"#ed7953\"], [0.7777777777777778, \"#fb9f3a\"], [0.8888888888888888, \"#fdca26\"], [1.0, \"#f0f921\"]], \"type\": \"surface\"}], \"table\": [{\"cells\": {\"fill\": {\"color\": \"#EBF0F8\"}, \"line\": {\"color\": \"white\"}}, \"header\": {\"fill\": {\"color\": \"#C8D4E3\"}, \"line\": {\"color\": \"white\"}}, \"type\": \"table\"}]}, \"layout\": {\"annotationdefaults\": {\"arrowcolor\": \"#2a3f5f\", \"arrowhead\": 0, \"arrowwidth\": 1}, \"autotypenumbers\": \"strict\", \"coloraxis\": {\"colorbar\": {\"outlinewidth\": 0, \"ticks\": \"\"}}, \"colorscale\": {\"diverging\": [[0, \"#8e0152\"], [0.1, \"#c51b7d\"], [0.2, \"#de77ae\"], [0.3, \"#f1b6da\"], [0.4, \"#fde0ef\"], [0.5, \"#f7f7f7\"], [0.6, \"#e6f5d0\"], [0.7, \"#b8e186\"], [0.8, \"#7fbc41\"], [0.9, \"#4d9221\"], [1, \"#276419\"]], \"sequential\": [[0.0, \"#0d0887\"], [0.1111111111111111, \"#46039f\"], [0.2222222222222222, \"#7201a8\"], [0.3333333333333333, \"#9c179e\"], [0.4444444444444444, \"#bd3786\"], [0.5555555555555556, \"#d8576b\"], [0.6666666666666666, \"#ed7953\"], [0.7777777777777778, \"#fb9f3a\"], [0.8888888888888888, \"#fdca26\"], [1.0, \"#f0f921\"]], \"sequentialminus\": [[0.0, \"#0d0887\"], [0.1111111111111111, \"#46039f\"], [0.2222222222222222, \"#7201a8\"], [0.3333333333333333, \"#9c179e\"], [0.4444444444444444, \"#bd3786\"], [0.5555555555555556, \"#d8576b\"], [0.6666666666666666, \"#ed7953\"], [0.7777777777777778, \"#fb9f3a\"], [0.8888888888888888, \"#fdca26\"], [1.0, \"#f0f921\"]]}, \"colorway\": [\"#636efa\", \"#EF553B\", \"#00cc96\", \"#ab63fa\", \"#FFA15A\", \"#19d3f3\", \"#FF6692\", \"#B6E880\", \"#FF97FF\", \"#FECB52\"], \"font\": {\"color\": \"#2a3f5f\"}, \"geo\": {\"bgcolor\": \"white\", \"lakecolor\": \"white\", \"landcolor\": \"#E5ECF6\", \"showlakes\": true, \"showland\": true, \"subunitcolor\": \"white\"}, \"hoverlabel\": {\"align\": \"left\"}, \"hovermode\": \"closest\", \"mapbox\": {\"style\": \"light\"}, \"paper_bgcolor\": \"white\", \"plot_bgcolor\": \"#E5ECF6\", \"polar\": {\"angularaxis\": {\"gridcolor\": \"white\", \"linecolor\": \"white\", \"ticks\": \"\"}, \"bgcolor\": \"#E5ECF6\", \"radialaxis\": {\"gridcolor\": \"white\", \"linecolor\": \"white\", \"ticks\": \"\"}}, \"scene\": {\"xaxis\": {\"backgroundcolor\": \"#E5ECF6\", \"gridcolor\": \"white\", \"gridwidth\": 2, \"linecolor\": \"white\", \"showbackground\": true, \"ticks\": \"\", \"zerolinecolor\": \"white\"}, \"yaxis\": {\"backgroundcolor\": \"#E5ECF6\", \"gridcolor\": \"white\", \"gridwidth\": 2, \"linecolor\": \"white\", \"showbackground\": true, \"ticks\": \"\", \"zerolinecolor\": \"white\"}, \"zaxis\": {\"backgroundcolor\": \"#E5ECF6\", \"gridcolor\": \"white\", \"gridwidth\": 2, \"linecolor\": \"white\", \"showbackground\": true, \"ticks\": \"\", \"zerolinecolor\": \"white\"}}, \"shapedefaults\": {\"line\": {\"color\": \"#2a3f5f\"}}, \"ternary\": {\"aaxis\": {\"gridcolor\": \"white\", \"linecolor\": \"white\", \"ticks\": \"\"}, \"baxis\": {\"gridcolor\": \"white\", \"linecolor\": \"white\", \"ticks\": \"\"}, \"bgcolor\": \"#E5ECF6\", \"caxis\": {\"gridcolor\": \"white\", \"linecolor\": \"white\", \"ticks\": \"\"}}, \"title\": {\"x\": 0.05}, \"xaxis\": {\"automargin\": true, \"gridcolor\": \"white\", \"linecolor\": \"white\", \"ticks\": \"\", \"title\": {\"standoff\": 15}, \"zerolinecolor\": \"white\", \"zerolinewidth\": 2}, \"yaxis\": {\"automargin\": true, \"gridcolor\": \"white\", \"linecolor\": \"white\", \"ticks\": \"\", \"title\": {\"standoff\": 15}, \"zerolinecolor\": \"white\", \"zerolinewidth\": 2}}}, \"title\": {\"text\": \"Vessel planning\"}, \"xaxis\": {\"range\": [\"1970-01-01T00:00:00\", \"1970-01-01T00:58:20\"], \"title\": {\"font\": {\"color\": \"#7f7f7f\", \"family\": \"Courier New, monospace\", \"size\": 18}, \"text\": \"Time\"}}, \"yaxis\": {\"title\": {\"font\": {\"color\": \"#7f7f7f\", \"family\": \"Courier New, monospace\", \"size\": 18}, \"text\": \"Vessels\"}}},                        {\"responsive\": true}                    ).then(function(){\n",
       "                            \n",
       "var gd = document.getElementById('50afce95-e62a-45b1-b16a-fbe2ed6b892f');\n",
       "var x = new MutationObserver(function (mutations, observer) {{\n",
       "        var display = window.getComputedStyle(gd).display;\n",
       "        if (!display || display === 'none') {{\n",
       "            console.log([gd, 'removed!']);\n",
       "            Plotly.purge(gd);\n",
       "            observer.disconnect();\n",
       "        }}\n",
       "}});\n",
       "\n",
       "// Listen for the removal of the full notebook cells\n",
       "var notebookContainer = gd.closest('#notebook-container');\n",
       "if (notebookContainer) {{\n",
       "    x.observe(notebookContainer, {childList: true});\n",
       "}}\n",
       "\n",
       "// Listen for the clearing of the current output cell\n",
       "var outputEl = gd.closest('.output');\n",
       "if (outputEl) {{\n",
       "    x.observe(outputEl, {childList: true});\n",
       "}}\n",
       "\n",
       "                        })                };                });            </script>        </div>"
      ]
     },
     "metadata": {},
     "output_type": "display_data"
    }
   ],
   "source": [
    "plot.vessel_planning([hopper, from_site, to_site])"
   ]
  },
  {
   "cell_type": "code",
   "execution_count": 9,
   "metadata": {},
   "outputs": [
    {
     "data": {
      "image/png": "[encoded data removed]",
      "text/plain": [
       "<Figure size 432x288 with 1 Axes>"
      ]
     },
     "metadata": {
      "needs_background": "light"
     },
     "output_type": "display_data"
    }
   ],
   "source": [
    "fig = plot.get_step_chart([from_site, hopper, to_site])"
   ]
  },
  {
   "cell_type": "code",
   "execution_count": 10,
   "metadata": {},
   "outputs": [
    {
     "data": {
      "text/html": [
       "        <script type=\"text/javascript\">\n",
       "        window.PlotlyConfig = {MathJaxConfig: 'local'};\n",
       "        if (window.MathJax) {MathJax.Hub.Config({SVG: {font: \"STIX-Web\"}});}\n",
       "        if (typeof require !== 'undefined') {\n",
       "        require.undef(\"plotly\");\n",
       "        requirejs.config({\n",
       "            paths: {\n",
       "                'plotly': ['https://cdn.plot.ly/plotly-latest.min']\n",
       "            }\n",
       "        });\n",
       "        require(['plotly'], function(Plotly) {\n",
       "            window._Plotly = Plotly;\n",
       "        });\n",
       "        }\n",
       "        </script>\n",
       "        "
      ]
     },
     "metadata": {},
     "output_type": "display_data"
    },
    {
     "data": {
      "application/vnd.plotly.v1+json": {
       "config": {
        "linkText": "Export to plot.ly",
        "plotlyServerURL": "https://plot.ly",
        "showLink": false
       },
       "data": [
        {
         "connectgaps": false,
         "hoverinfo": "y+name",
         "line": {
          "color": "rgb(42,11,243)",
          "width": 10
         },
         "mode": "lines",
         "name": "Basic activity 3",
         "type": "scatter",
         "x": [
          "1970-01-01T00:00:00",
          "1970-01-01T00:00:00",
          "1970-01-01T00:01:40",
          "1970-01-01T00:01:40",
          "1970-01-01T00:01:40",
          "1970-01-01T00:56:40",
          "1970-01-01T00:56:40",
          "1970-01-01T00:58:20",
          "1970-01-01T00:58:20",
          "1970-01-01T00:58:20"
         ],
         "y": [
          "Basic activity 3",
          "Basic activity 3",
          "Basic activity 3",
          "Basic activity 3",
          null,
          "Basic activity 3",
          "Basic activity 3",
          "Basic activity 3",
          "Basic activity 3",
          null
         ]
        },
        {
         "connectgaps": false,
         "hoverinfo": "y+name",
         "line": {
          "color": "rgb(70,39,15)",
          "width": 10
         },
         "mode": "lines",
         "name": "sailing empty",
         "type": "scatter",
         "x": [
          "1970-01-01T00:01:40",
          "1970-01-01T00:01:40",
          "1970-01-01T00:10:00",
          "1970-01-01T00:10:00",
          "1970-01-01T00:10:00"
         ],
         "y": [
          "sailing empty",
          "sailing empty",
          "sailing empty",
          "sailing empty",
          null
         ]
        },
        {
         "connectgaps": false,
         "hoverinfo": "y+name",
         "line": {
          "color": "rgb(98,67,43)",
          "width": 10
         },
         "mode": "lines",
         "name": "Loading subcycle",
         "type": "scatter",
         "x": [
          "1970-01-01T00:10:00",
          "1970-01-01T00:10:00",
          "1970-01-01T00:11:40",
          "1970-01-01T00:11:40",
          "1970-01-01T00:11:40",
          "1970-01-01T00:11:40",
          "1970-01-01T00:11:40",
          "1970-01-01T00:28:20",
          "1970-01-01T00:28:20",
          "1970-01-01T00:28:20",
          "1970-01-01T00:28:20",
          "1970-01-01T00:28:20",
          "1970-01-01T00:30:00",
          "1970-01-01T00:30:00",
          "1970-01-01T00:30:00",
          "1970-01-01T00:28:20",
          "1970-01-01T00:28:20",
          "1970-01-01T00:30:00",
          "1970-01-01T00:30:00",
          "1970-01-01T00:30:00"
         ],
         "y": [
          "Loading subcycle",
          "Loading subcycle",
          "Loading subcycle",
          "Loading subcycle",
          null,
          "Loading subcycle",
          "Loading subcycle",
          "Loading subcycle",
          "Loading subcycle",
          null,
          "Loading subcycle",
          "Loading subcycle",
          "Loading subcycle",
          "Loading subcycle",
          null,
          "Loading subcycle",
          "Loading subcycle",
          "Loading subcycle",
          "Loading subcycle",
          null
         ]
        },
        {
         "connectgaps": false,
         "hoverinfo": "y+name",
         "line": {
          "color": "rgb(126,95,71)",
          "width": 10
         },
         "mode": "lines",
         "name": "sailing filled",
         "type": "scatter",
         "x": [
          "1970-01-01T00:30:00",
          "1970-01-01T00:30:00",
          "1970-01-01T00:38:20",
          "1970-01-01T00:38:20",
          "1970-01-01T00:38:20"
         ],
         "y": [
          "sailing filled",
          "sailing filled",
          "sailing filled",
          "sailing filled",
          null
         ]
        },
        {
         "connectgaps": false,
         "hoverinfo": "y+name",
         "line": {
          "color": "rgb(154,123,99)",
          "width": 10
         },
         "mode": "lines",
         "name": "Transfer TP",
         "type": "scatter",
         "x": [
          "1970-01-01T00:38:20",
          "1970-01-01T00:38:20",
          "1970-01-01T00:55:00",
          "1970-01-01T00:55:00",
          "1970-01-01T00:55:00"
         ],
         "y": [
          "Transfer TP",
          "Transfer TP",
          "Transfer TP",
          "Transfer TP",
          null
         ]
        },
        {
         "connectgaps": false,
         "hoverinfo": "y+name",
         "line": {
          "color": "rgb(182,151,127)",
          "width": 10
         },
         "mode": "lines",
         "name": "Basic activity",
         "type": "scatter",
         "x": [
          "1970-01-01T00:55:00",
          "1970-01-01T00:55:00",
          "1970-01-01T00:56:40",
          "1970-01-01T00:56:40",
          "1970-01-01T00:56:40"
         ],
         "y": [
          "Basic activity",
          "Basic activity",
          "Basic activity",
          "Basic activity",
          null
         ]
        },
        {
         "connectgaps": false,
         "hoverinfo": "y+name",
         "line": {
          "color": "rgb(210,179,155)",
          "width": 10
         },
         "mode": "lines",
         "name": "loading activity 1",
         "type": "scatter",
         "x": [
          "1970-01-01T00:10:00",
          "1970-01-01T00:10:00",
          "1970-01-01T00:11:40",
          "1970-01-01T00:11:40",
          "1970-01-01T00:11:40",
          "1970-01-01T00:56:40",
          "1970-01-01T00:56:40",
          "1970-01-01T00:58:20",
          "1970-01-01T00:58:20",
          "1970-01-01T00:58:20"
         ],
         "y": [
          "loading activity 1",
          "loading activity 1",
          "loading activity 1",
          "loading activity 1",
          null,
          "loading activity 1",
          "loading activity 1",
          "loading activity 1",
          "loading activity 1",
          null
         ]
        },
        {
         "connectgaps": false,
         "hoverinfo": "y+name",
         "line": {
          "color": "rgb(238,207,183)",
          "width": 10
         },
         "mode": "lines",
         "name": "Transfer MP",
         "type": "scatter",
         "x": [
          "1970-01-01T00:11:40",
          "1970-01-01T00:11:40",
          "1970-01-01T00:28:20",
          "1970-01-01T00:28:20",
          "1970-01-01T00:28:20"
         ],
         "y": [
          "Transfer MP",
          "Transfer MP",
          "Transfer MP",
          "Transfer MP",
          null
         ]
        },
        {
         "connectgaps": false,
         "hoverinfo": "y+name",
         "line": {
          "color": "rgb(10,235,211)",
          "width": 10
         },
         "mode": "lines",
         "name": "loading activity 2",
         "type": "scatter",
         "x": [
          "1970-01-01T00:28:20",
          "1970-01-01T00:28:20",
          "1970-01-01T00:30:00",
          "1970-01-01T00:30:00",
          "1970-01-01T00:30:00"
         ],
         "y": [
          "loading activity 2",
          "loading activity 2",
          "loading activity 2",
          "loading activity 2",
          null
         ]
        }
       ],
       "layout": {
        "hovermode": "closest",
        "legend": {
         "orientation": "h",
         "x": 0,
         "y": -0.2
        },
        "template": {
         "data": {
          "bar": [
           {
            "error_x": {
             "color": "#2a3f5f"
            },
            "error_y": {
             "color": "#2a3f5f"
            },
            "marker": {
             "line": {
              "color": "#E5ECF6",
              "width": 0.5
             }
            },
            "type": "bar"
           }
          ],
          "barpolar": [
           {
            "marker": {
             "line": {
              "color": "#E5ECF6",
              "width": 0.5
             }
            },
            "type": "barpolar"
           }
          ],
          "carpet": [
           {
            "aaxis": {
             "endlinecolor": "#2a3f5f",
             "gridcolor": "white",
             "linecolor": "white",
             "minorgridcolor": "white",
             "startlinecolor": "#2a3f5f"
            },
            "baxis": {
             "endlinecolor": "#2a3f5f",
             "gridcolor": "white",
             "linecolor": "white",
             "minorgridcolor": "white",
             "startlinecolor": "#2a3f5f"
            },
            "type": "carpet"
           }
          ],
          "choropleth": [
           {
            "colorbar": {
             "outlinewidth": 0,
             "ticks": ""
            },
            "type": "choropleth"
           }
          ],
          "contour": [
           {
            "colorbar": {
             "outlinewidth": 0,
             "ticks": ""
            },
            "colorscale": [
             [
              0,
              "#0d0887"
             ],
             [
              0.1111111111111111,
              "#46039f"
             ],
             [
              0.2222222222222222,
              "#7201a8"
             ],
             [
              0.3333333333333333,
              "#9c179e"
             ],
             [
              0.4444444444444444,
              "#bd3786"
             ],
             [
              0.5555555555555556,
              "#d8576b"
             ],
             [
              0.6666666666666666,
              "#ed7953"
             ],
             [
              0.7777777777777778,
              "#fb9f3a"
             ],
             [
              0.8888888888888888,
              "#fdca26"
             ],
             [
              1,
              "#f0f921"
             ]
            ],
            "type": "contour"
           }
          ],
          "contourcarpet": [
           {
            "colorbar": {
             "outlinewidth": 0,
             "ticks": ""
            },
            "type": "contourcarpet"
           }
          ],
          "heatmap": [
           {
            "colorbar": {
             "outlinewidth": 0,
             "ticks": ""
            },
            "colorscale": [
             [
              0,
              "#0d0887"
             ],
             [
              0.1111111111111111,
              "#46039f"
             ],
             [
              0.2222222222222222,
              "#7201a8"
             ],
             [
              0.3333333333333333,
              "#9c179e"
             ],
             [
              0.4444444444444444,
              "#bd3786"
             ],
             [
              0.5555555555555556,
              "#d8576b"
             ],
             [
              0.6666666666666666,
              "#ed7953"
             ],
             [
              0.7777777777777778,
              "#fb9f3a"
             ],
             [
              0.8888888888888888,
              "#fdca26"
             ],
             [
              1,
              "#f0f921"
             ]
            ],
            "type": "heatmap"
           }
          ],
          "heatmapgl": [
           {
            "colorbar": {
             "outlinewidth": 0,
             "ticks": ""
            },
            "colorscale": [
             [
              0,
              "#0d0887"
             ],
             [
              0.1111111111111111,
              "#46039f"
             ],
             [
              0.2222222222222222,
              "#7201a8"
             ],
             [
              0.3333333333333333,
              "#9c179e"
             ],
             [
              0.4444444444444444,
              "#bd3786"
             ],
             [
              0.5555555555555556,
              "#d8576b"
             ],
             [
              0.6666666666666666,
              "#ed7953"
             ],
             [
              0.7777777777777778,
              "#fb9f3a"
             ],
             [
              0.8888888888888888,
              "#fdca26"
             ],
             [
              1,
              "#f0f921"
             ]
            ],
            "type": "heatmapgl"
           }
          ],
          "histogram": [
           {
            "marker": {
             "colorbar": {
              "outlinewidth": 0,
              "ticks": ""
             }
            },
            "type": "histogram"
           }
          ],
          "histogram2d": [
           {
            "colorbar": {
             "outlinewidth": 0,
             "ticks": ""
            },
            "colorscale": [
             [
              0,
              "#0d0887"
             ],
             [
              0.1111111111111111,
              "#46039f"
             ],
             [
              0.2222222222222222,
              "#7201a8"
             ],
             [
              0.3333333333333333,
              "#9c179e"
             ],
             [
              0.4444444444444444,
              "#bd3786"
             ],
             [
              0.5555555555555556,
              "#d8576b"
             ],
             [
              0.6666666666666666,
              "#ed7953"
             ],
             [
              0.7777777777777778,
              "#fb9f3a"
             ],
             [
              0.8888888888888888,
              "#fdca26"
             ],
             [
              1,
              "#f0f921"
             ]
            ],
            "type": "histogram2d"
           }
          ],
          "histogram2dcontour": [
           {
            "colorbar": {
             "outlinewidth": 0,
             "ticks": ""
            },
            "colorscale": [
             [
              0,
              "#0d0887"
             ],
             [
              0.1111111111111111,
              "#46039f"
             ],
             [
              0.2222222222222222,
              "#7201a8"
             ],
             [
              0.3333333333333333,
              "#9c179e"
             ],
             [
              0.4444444444444444,
              "#bd3786"
             ],
             [
              0.5555555555555556,
              "#d8576b"
             ],
             [
              0.6666666666666666,
              "#ed7953"
             ],
             [
              0.7777777777777778,
              "#fb9f3a"
             ],
             [
              0.8888888888888888,
              "#fdca26"
             ],
             [
              1,
              "#f0f921"
             ]
            ],
            "type": "histogram2dcontour"
           }
          ],
          "mesh3d": [
           {
            "colorbar": {
             "outlinewidth": 0,
             "ticks": ""
            },
            "type": "mesh3d"
           }
          ],
          "parcoords": [
           {
            "line": {
             "colorbar": {
              "outlinewidth": 0,
              "ticks": ""
             }
            },
            "type": "parcoords"
           }
          ],
          "pie": [
           {
            "automargin": true,
            "type": "pie"
           }
          ],
          "scatter": [
           {
            "marker": {
             "colorbar": {
              "outlinewidth": 0,
              "ticks": ""
             }
            },
            "type": "scatter"
           }
          ],
          "scatter3d": [
           {
            "line": {
             "colorbar": {
              "outlinewidth": 0,
              "ticks": ""
             }
            },
            "marker": {
             "colorbar": {
              "outlinewidth": 0,
              "ticks": ""
             }
            },
            "type": "scatter3d"
           }
          ],
          "scattercarpet": [
           {
            "marker": {
             "colorbar": {
              "outlinewidth": 0,
              "ticks": ""
             }
            },
            "type": "scattercarpet"
           }
          ],
          "scattergeo": [
           {
            "marker": {
             "colorbar": {
              "outlinewidth": 0,
              "ticks": ""
             }
            },
            "type": "scattergeo"
           }
          ],
          "scattergl": [
           {
            "marker": {
             "colorbar": {
              "outlinewidth": 0,
              "ticks": ""
             }
            },
            "type": "scattergl"
           }
          ],
          "scattermapbox": [
           {
            "marker": {
             "colorbar": {
              "outlinewidth": 0,
              "ticks": ""
             }
            },
            "type": "scattermapbox"
           }
          ],
          "scatterpolar": [
           {
            "marker": {
             "colorbar": {
              "outlinewidth": 0,
              "ticks": ""
             }
            },
            "type": "scatterpolar"
           }
          ],
          "scatterpolargl": [
           {
            "marker": {
             "colorbar": {
              "outlinewidth": 0,
              "ticks": ""
             }
            },
            "type": "scatterpolargl"
           }
          ],
          "scatterternary": [
           {
            "marker": {
             "colorbar": {
              "outlinewidth": 0,
              "ticks": ""
             }
            },
            "type": "scatterternary"
           }
          ],
          "surface": [
           {
            "colorbar": {
             "outlinewidth": 0,
             "ticks": ""
            },
            "colorscale": [
             [
              0,
              "#0d0887"
             ],
             [
              0.1111111111111111,
              "#46039f"
             ],
             [
              0.2222222222222222,
              "#7201a8"
             ],
             [
              0.3333333333333333,
              "#9c179e"
             ],
             [
              0.4444444444444444,
              "#bd3786"
             ],
             [
              0.5555555555555556,
              "#d8576b"
             ],
             [
              0.6666666666666666,
              "#ed7953"
             ],
             [
              0.7777777777777778,
              "#fb9f3a"
             ],
             [
              0.8888888888888888,
              "#fdca26"
             ],
             [
              1,
              "#f0f921"
             ]
            ],
            "type": "surface"
           }
          ],
          "table": [
           {
            "cells": {
             "fill": {
              "color": "#EBF0F8"
             },
             "line": {
              "color": "white"
             }
            },
            "header": {
             "fill": {
              "color": "#C8D4E3"
             },
             "line": {
              "color": "white"
             }
            },
            "type": "table"
           }
          ]
         },
         "layout": {
          "annotationdefaults": {
           "arrowcolor": "#2a3f5f",
           "arrowhead": 0,
           "arrowwidth": 1
          },
          "autotypenumbers": "strict",
          "coloraxis": {
           "colorbar": {
            "outlinewidth": 0,
            "ticks": ""
           }
          },
          "colorscale": {
           "diverging": [
            [
             0,
             "#8e0152"
            ],
            [
             0.1,
             "#c51b7d"
            ],
            [
             0.2,
             "#de77ae"
            ],
            [
             0.3,
             "#f1b6da"
            ],
            [
             0.4,
             "#fde0ef"
            ],
            [
             0.5,
             "#f7f7f7"
            ],
            [
             0.6,
             "#e6f5d0"
            ],
            [
             0.7,
             "#b8e186"
            ],
            [
             0.8,
             "#7fbc41"
            ],
            [
             0.9,
             "#4d9221"
            ],
            [
             1,
             "#276419"
            ]
           ],
           "sequential": [
            [
             0,
             "#0d0887"
            ],
            [
             0.1111111111111111,
             "#46039f"
            ],
            [
             0.2222222222222222,
             "#7201a8"
            ],
            [
             0.3333333333333333,
             "#9c179e"
            ],
            [
             0.4444444444444444,
             "#bd3786"
            ],
            [
             0.5555555555555556,
             "#d8576b"
            ],
            [
             0.6666666666666666,
             "#ed7953"
            ],
            [
             0.7777777777777778,
             "#fb9f3a"
            ],
            [
             0.8888888888888888,
             "#fdca26"
            ],
            [
             1,
             "#f0f921"
            ]
           ],
           "sequentialminus": [
            [
             0,
             "#0d0887"
            ],
            [
             0.1111111111111111,
             "#46039f"
            ],
            [
             0.2222222222222222,
             "#7201a8"
            ],
            [
             0.3333333333333333,
             "#9c179e"
            ],
            [
             0.4444444444444444,
             "#bd3786"
            ],
            [
             0.5555555555555556,
             "#d8576b"
            ],
            [
             0.6666666666666666,
             "#ed7953"
            ],
            [
             0.7777777777777778,
             "#fb9f3a"
            ],
            [
             0.8888888888888888,
             "#fdca26"
            ],
            [
             1,
             "#f0f921"
            ]
           ]
          },
          "colorway": [
           "#636efa",
           "#EF553B",
           "#00cc96",
           "#ab63fa",
           "#FFA15A",
           "#19d3f3",
           "#FF6692",
           "#B6E880",
           "#FF97FF",
           "#FECB52"
          ],
          "font": {
           "color": "#2a3f5f"
          },
          "geo": {
           "bgcolor": "white",
           "lakecolor": "white",
           "landcolor": "#E5ECF6",
           "showlakes": true,
           "showland": true,
           "subunitcolor": "white"
          },
          "hoverlabel": {
           "align": "left"
          },
          "hovermode": "closest",
          "mapbox": {
           "style": "light"
          },
          "paper_bgcolor": "white",
          "plot_bgcolor": "#E5ECF6",
          "polar": {
           "angularaxis": {
            "gridcolor": "white",
            "linecolor": "white",
            "ticks": ""
           },
           "bgcolor": "#E5ECF6",
           "radialaxis": {
            "gridcolor": "white",
            "linecolor": "white",
            "ticks": ""
           }
          },
          "scene": {
           "xaxis": {
            "backgroundcolor": "#E5ECF6",
            "gridcolor": "white",
            "gridwidth": 2,
            "linecolor": "white",
            "showbackground": true,
            "ticks": "",
            "zerolinecolor": "white"
           },
           "yaxis": {
            "backgroundcolor": "#E5ECF6",
            "gridcolor": "white",
            "gridwidth": 2,
            "linecolor": "white",
            "showbackground": true,
            "ticks": "",
            "zerolinecolor": "white"
           },
           "zaxis": {
            "backgroundcolor": "#E5ECF6",
            "gridcolor": "white",
            "gridwidth": 2,
            "linecolor": "white",
            "showbackground": true,
            "ticks": "",
            "zerolinecolor": "white"
           }
          },
          "shapedefaults": {
           "line": {
            "color": "#2a3f5f"
           }
          },
          "ternary": {
           "aaxis": {
            "gridcolor": "white",
            "linecolor": "white",
            "ticks": ""
           },
           "baxis": {
            "gridcolor": "white",
            "linecolor": "white",
            "ticks": ""
           },
           "bgcolor": "#E5ECF6",
           "caxis": {
            "gridcolor": "white",
            "linecolor": "white",
            "ticks": ""
           }
          },
          "title": {
           "x": 0.05
          },
          "xaxis": {
           "automargin": true,
           "gridcolor": "white",
           "linecolor": "white",
           "ticks": "",
           "title": {
            "standoff": 15
           },
           "zerolinecolor": "white",
           "zerolinewidth": 2
          },
          "yaxis": {
           "automargin": true,
           "gridcolor": "white",
           "linecolor": "white",
           "ticks": "",
           "title": {
            "standoff": 15
           },
           "zerolinecolor": "white",
           "zerolinewidth": 2
          }
         }
        },
        "title": {
         "text": "Vessel planning"
        },
        "xaxis": {
         "range": [
          "1970-01-01T00:00:00",
          "1970-01-01T00:58:20"
         ],
         "title": {
          "font": {
           "color": "#7f7f7f",
           "family": "Courier New, monospace",
           "size": 18
          },
          "text": "Time"
         }
        },
        "yaxis": {
         "title": {
          "font": {
           "color": "#7f7f7f",
           "family": "Courier New, monospace",
           "size": 18
          },
          "text": "Vessels"
         }
        }
       }
      },
      "text/html": [
       "<div>                            <div id=\"0e3aee94-ad64-4173-9c7b-b630696d89d4\" class=\"plotly-graph-div\" style=\"height:525px; width:100%;\"></div>            <script type=\"text/javascript\">                require([\"plotly\"], function(Plotly) {                    window.PLOTLYENV=window.PLOTLYENV || {};                                    if (document.getElementById(\"0e3aee94-ad64-4173-9c7b-b630696d89d4\")) {                    Plotly.newPlot(                        \"0e3aee94-ad64-4173-9c7b-b630696d89d4\",                        [{\"connectgaps\": false, \"hoverinfo\": \"y+name\", \"line\": {\"color\": \"rgb(42,11,243)\", \"width\": 10}, \"mode\": \"lines\", \"name\": \"Basic activity 3\", \"type\": \"scatter\", \"x\": [\"1970-01-01T00:00:00\", \"1970-01-01T00:00:00\", \"1970-01-01T00:01:40\", \"1970-01-01T00:01:40\", \"1970-01-01T00:01:40\", \"1970-01-01T00:56:40\", \"1970-01-01T00:56:40\", \"1970-01-01T00:58:20\", \"1970-01-01T00:58:20\", \"1970-01-01T00:58:20\"], \"y\": [\"Basic activity 3\", \"Basic activity 3\", \"Basic activity 3\", \"Basic activity 3\", null, \"Basic activity 3\", \"Basic activity 3\", \"Basic activity 3\", \"Basic activity 3\", null]}, {\"connectgaps\": false, \"hoverinfo\": \"y+name\", \"line\": {\"color\": \"rgb(70,39,15)\", \"width\": 10}, \"mode\": \"lines\", \"name\": \"sailing empty\", \"type\": \"scatter\", \"x\": [\"1970-01-01T00:01:40\", \"1970-01-01T00:01:40\", \"1970-01-01T00:10:00\", \"1970-01-01T00:10:00\", \"1970-01-01T00:10:00\"], \"y\": [\"sailing empty\", \"sailing empty\", \"sailing empty\", \"sailing empty\", null]}, {\"connectgaps\": false, \"hoverinfo\": \"y+name\", \"line\": {\"color\": \"rgb(98,67,43)\", \"width\": 10}, \"mode\": \"lines\", \"name\": \"Loading subcycle\", \"type\": \"scatter\", \"x\": [\"1970-01-01T00:10:00\", \"1970-01-01T00:10:00\", \"1970-01-01T00:11:40\", \"1970-01-01T00:11:40\", \"1970-01-01T00:11:40\", \"1970-01-01T00:11:40\", \"1970-01-01T00:11:40\", \"1970-01-01T00:28:20\", \"1970-01-01T00:28:20\", \"1970-01-01T00:28:20\", \"1970-01-01T00:28:20\", \"1970-01-01T00:28:20\", \"1970-01-01T00:30:00\", \"1970-01-01T00:30:00\", \"1970-01-01T00:30:00\", \"1970-01-01T00:28:20\", \"1970-01-01T00:28:20\", \"1970-01-01T00:30:00\", \"1970-01-01T00:30:00\", \"1970-01-01T00:30:00\"], \"y\": [\"Loading subcycle\", \"Loading subcycle\", \"Loading subcycle\", \"Loading subcycle\", null, \"Loading subcycle\", \"Loading subcycle\", \"Loading subcycle\", \"Loading subcycle\", null, \"Loading subcycle\", \"Loading subcycle\", \"Loading subcycle\", \"Loading subcycle\", null, \"Loading subcycle\", \"Loading subcycle\", \"Loading subcycle\", \"Loading subcycle\", null]}, {\"connectgaps\": false, \"hoverinfo\": \"y+name\", \"line\": {\"color\": \"rgb(126,95,71)\", \"width\": 10}, \"mode\": \"lines\", \"name\": \"sailing filled\", \"type\": \"scatter\", \"x\": [\"1970-01-01T00:30:00\", \"1970-01-01T00:30:00\", \"1970-01-01T00:38:20\", \"1970-01-01T00:38:20\", \"1970-01-01T00:38:20\"], \"y\": [\"sailing filled\", \"sailing filled\", \"sailing filled\", \"sailing filled\", null]}, {\"connectgaps\": false, \"hoverinfo\": \"y+name\", \"line\": {\"color\": \"rgb(154,123,99)\", \"width\": 10}, \"mode\": \"lines\", \"name\": \"Transfer TP\", \"type\": \"scatter\", \"x\": [\"1970-01-01T00:38:20\", \"1970-01-01T00:38:20\", \"1970-01-01T00:55:00\", \"1970-01-01T00:55:00\", \"1970-01-01T00:55:00\"], \"y\": [\"Transfer TP\", \"Transfer TP\", \"Transfer TP\", \"Transfer TP\", null]}, {\"connectgaps\": false, \"hoverinfo\": \"y+name\", \"line\": {\"color\": \"rgb(182,151,127)\", \"width\": 10}, \"mode\": \"lines\", \"name\": \"Basic activity\", \"type\": \"scatter\", \"x\": [\"1970-01-01T00:55:00\", \"1970-01-01T00:55:00\", \"1970-01-01T00:56:40\", \"1970-01-01T00:56:40\", \"1970-01-01T00:56:40\"], \"y\": [\"Basic activity\", \"Basic activity\", \"Basic activity\", \"Basic activity\", null]}, {\"connectgaps\": false, \"hoverinfo\": \"y+name\", \"line\": {\"color\": \"rgb(210,179,155)\", \"width\": 10}, \"mode\": \"lines\", \"name\": \"loading activity 1\", \"type\": \"scatter\", \"x\": [\"1970-01-01T00:10:00\", \"1970-01-01T00:10:00\", \"1970-01-01T00:11:40\", \"1970-01-01T00:11:40\", \"1970-01-01T00:11:40\", \"1970-01-01T00:56:40\", \"1970-01-01T00:56:40\", \"1970-01-01T00:58:20\", \"1970-01-01T00:58:20\", \"1970-01-01T00:58:20\"], \"y\": [\"loading activity 1\", \"loading activity 1\", \"loading activity 1\", \"loading activity 1\", null, \"loading activity 1\", \"loading activity 1\", \"loading activity 1\", \"loading activity 1\", null]}, {\"connectgaps\": false, \"hoverinfo\": \"y+name\", \"line\": {\"color\": \"rgb(238,207,183)\", \"width\": 10}, \"mode\": \"lines\", \"name\": \"Transfer MP\", \"type\": \"scatter\", \"x\": [\"1970-01-01T00:11:40\", \"1970-01-01T00:11:40\", \"1970-01-01T00:28:20\", \"1970-01-01T00:28:20\", \"1970-01-01T00:28:20\"], \"y\": [\"Transfer MP\", \"Transfer MP\", \"Transfer MP\", \"Transfer MP\", null]}, {\"connectgaps\": false, \"hoverinfo\": \"y+name\", \"line\": {\"color\": \"rgb(10,235,211)\", \"width\": 10}, \"mode\": \"lines\", \"name\": \"loading activity 2\", \"type\": \"scatter\", \"x\": [\"1970-01-01T00:28:20\", \"1970-01-01T00:28:20\", \"1970-01-01T00:30:00\", \"1970-01-01T00:30:00\", \"1970-01-01T00:30:00\"], \"y\": [\"loading activity 2\", \"loading activity 2\", \"loading activity 2\", \"loading activity 2\", null]}],                        {\"hovermode\": \"closest\", \"legend\": {\"orientation\": \"h\", \"x\": 0, \"y\": -0.2}, \"template\": {\"data\": {\"bar\": [{\"error_x\": {\"color\": \"#2a3f5f\"}, \"error_y\": {\"color\": \"#2a3f5f\"}, \"marker\": {\"line\": {\"color\": \"#E5ECF6\", \"width\": 0.5}}, \"type\": \"bar\"}], \"barpolar\": [{\"marker\": {\"line\": {\"color\": \"#E5ECF6\", \"width\": 0.5}}, \"type\": \"barpolar\"}], \"carpet\": [{\"aaxis\": {\"endlinecolor\": \"#2a3f5f\", \"gridcolor\": \"white\", \"linecolor\": \"white\", \"minorgridcolor\": \"white\", \"startlinecolor\": \"#2a3f5f\"}, \"baxis\": {\"endlinecolor\": \"#2a3f5f\", \"gridcolor\": \"white\", \"linecolor\": \"white\", \"minorgridcolor\": \"white\", \"startlinecolor\": \"#2a3f5f\"}, \"type\": \"carpet\"}], \"choropleth\": [{\"colorbar\": {\"outlinewidth\": 0, \"ticks\": \"\"}, \"type\": \"choropleth\"}], \"contour\": [{\"colorbar\": {\"outlinewidth\": 0, \"ticks\": \"\"}, \"colorscale\": [[0.0, \"#0d0887\"], [0.1111111111111111, \"#46039f\"], [0.2222222222222222, \"#7201a8\"], [0.3333333333333333, \"#9c179e\"], [0.4444444444444444, \"#bd3786\"], [0.5555555555555556, \"#d8576b\"], [0.6666666666666666, \"#ed7953\"], [0.7777777777777778, \"#fb9f3a\"], [0.8888888888888888, \"#fdca26\"], [1.0, \"#f0f921\"]], \"type\": \"contour\"}], \"contourcarpet\": [{\"colorbar\": {\"outlinewidth\": 0, \"ticks\": \"\"}, \"type\": \"contourcarpet\"}], \"heatmap\": [{\"colorbar\": {\"outlinewidth\": 0, \"ticks\": \"\"}, \"colorscale\": [[0.0, \"#0d0887\"], [0.1111111111111111, \"#46039f\"], [0.2222222222222222, \"#7201a8\"], [0.3333333333333333, \"#9c179e\"], [0.4444444444444444, \"#bd3786\"], [0.5555555555555556, \"#d8576b\"], [0.6666666666666666, \"#ed7953\"], [0.7777777777777778, \"#fb9f3a\"], [0.8888888888888888, \"#fdca26\"], [1.0, \"#f0f921\"]], \"type\": \"heatmap\"}], \"heatmapgl\": [{\"colorbar\": {\"outlinewidth\": 0, \"ticks\": \"\"}, \"colorscale\": [[0.0, \"#0d0887\"], [0.1111111111111111, \"#46039f\"], [0.2222222222222222, \"#7201a8\"], [0.3333333333333333, \"#9c179e\"], [0.4444444444444444, \"#bd3786\"], [0.5555555555555556, \"#d8576b\"], [0.6666666666666666, \"#ed7953\"], [0.7777777777777778, \"#fb9f3a\"], [0.8888888888888888, \"#fdca26\"], [1.0, \"#f0f921\"]], \"type\": \"heatmapgl\"}], \"histogram\": [{\"marker\": {\"colorbar\": {\"outlinewidth\": 0, \"ticks\": \"\"}}, \"type\": \"histogram\"}], \"histogram2d\": [{\"colorbar\": {\"outlinewidth\": 0, \"ticks\": \"\"}, \"colorscale\": [[0.0, \"#0d0887\"], [0.1111111111111111, \"#46039f\"], [0.2222222222222222, \"#7201a8\"], [0.3333333333333333, \"#9c179e\"], [0.4444444444444444, \"#bd3786\"], [0.5555555555555556, \"#d8576b\"], [0.6666666666666666, \"#ed7953\"], [0.7777777777777778, \"#fb9f3a\"], [0.8888888888888888, \"#fdca26\"], [1.0, \"#f0f921\"]], \"type\": \"histogram2d\"}], \"histogram2dcontour\": [{\"colorbar\": {\"outlinewidth\": 0, \"ticks\": \"\"}, \"colorscale\": [[0.0, \"#0d0887\"], [0.1111111111111111, \"#46039f\"], [0.2222222222222222, \"#7201a8\"], [0.3333333333333333, \"#9c179e\"], [0.4444444444444444, \"#bd3786\"], [0.5555555555555556, \"#d8576b\"], [0.6666666666666666, \"#ed7953\"], [0.7777777777777778, \"#fb9f3a\"], [0.8888888888888888, \"#fdca26\"], [1.0, \"#f0f921\"]], \"type\": \"histogram2dcontour\"}], \"mesh3d\": [{\"colorbar\": {\"outlinewidth\": 0, \"ticks\": \"\"}, \"type\": \"mesh3d\"}], \"parcoords\": [{\"line\": {\"colorbar\": {\"outlinewidth\": 0, \"ticks\": \"\"}}, \"type\": \"parcoords\"}], \"pie\": [{\"automargin\": true, \"type\": \"pie\"}], \"scatter\": [{\"marker\": {\"colorbar\": {\"outlinewidth\": 0, \"ticks\": \"\"}}, \"type\": \"scatter\"}], \"scatter3d\": [{\"line\": {\"colorbar\": {\"outlinewidth\": 0, \"ticks\": \"\"}}, \"marker\": {\"colorbar\": {\"outlinewidth\": 0, \"ticks\": \"\"}}, \"type\": \"scatter3d\"}], \"scattercarpet\": [{\"marker\": {\"colorbar\": {\"outlinewidth\": 0, \"ticks\": \"\"}}, \"type\": \"scattercarpet\"}], \"scattergeo\": [{\"marker\": {\"colorbar\": {\"outlinewidth\": 0, \"ticks\": \"\"}}, \"type\": \"scattergeo\"}], \"scattergl\": [{\"marker\": {\"colorbar\": {\"outlinewidth\": 0, \"ticks\": \"\"}}, \"type\": \"scattergl\"}], \"scattermapbox\": [{\"marker\": {\"colorbar\": {\"outlinewidth\": 0, \"ticks\": \"\"}}, \"type\": \"scattermapbox\"}], \"scatterpolar\": [{\"marker\": {\"colorbar\": {\"outlinewidth\": 0, \"ticks\": \"\"}}, \"type\": \"scatterpolar\"}], \"scatterpolargl\": [{\"marker\": {\"colorbar\": {\"outlinewidth\": 0, \"ticks\": \"\"}}, \"type\": \"scatterpolargl\"}], \"scatterternary\": [{\"marker\": {\"colorbar\": {\"outlinewidth\": 0, \"ticks\": \"\"}}, \"type\": \"scatterternary\"}], \"surface\": [{\"colorbar\": {\"outlinewidth\": 0, \"ticks\": \"\"}, \"colorscale\": [[0.0, \"#0d0887\"], [0.1111111111111111, \"#46039f\"], [0.2222222222222222, \"#7201a8\"], [0.3333333333333333, \"#9c179e\"], [0.4444444444444444, \"#bd3786\"], [0.5555555555555556, \"#d8576b\"], [0.6666666666666666, \"#ed7953\"], [0.7777777777777778, \"#fb9f3a\"], [0.8888888888888888, \"#fdca26\"], [1.0, \"#f0f921\"]], \"type\": \"surface\"}], \"table\": [{\"cells\": {\"fill\": {\"color\": \"#EBF0F8\"}, \"line\": {\"color\": \"white\"}}, \"header\": {\"fill\": {\"color\": \"#C8D4E3\"}, \"line\": {\"color\": \"white\"}}, \"type\": \"table\"}]}, \"layout\": {\"annotationdefaults\": {\"arrowcolor\": \"#2a3f5f\", \"arrowhead\": 0, \"arrowwidth\": 1}, \"autotypenumbers\": \"strict\", \"coloraxis\": {\"colorbar\": {\"outlinewidth\": 0, \"ticks\": \"\"}}, \"colorscale\": {\"diverging\": [[0, \"#8e0152\"], [0.1, \"#c51b7d\"], [0.2, \"#de77ae\"], [0.3, \"#f1b6da\"], [0.4, \"#fde0ef\"], [0.5, \"#f7f7f7\"], [0.6, \"#e6f5d0\"], [0.7, \"#b8e186\"], [0.8, \"#7fbc41\"], [0.9, \"#4d9221\"], [1, \"#276419\"]], \"sequential\": [[0.0, \"#0d0887\"], [0.1111111111111111, \"#46039f\"], [0.2222222222222222, \"#7201a8\"], [0.3333333333333333, \"#9c179e\"], [0.4444444444444444, \"#bd3786\"], [0.5555555555555556, \"#d8576b\"], [0.6666666666666666, \"#ed7953\"], [0.7777777777777778, \"#fb9f3a\"], [0.8888888888888888, \"#fdca26\"], [1.0, \"#f0f921\"]], \"sequentialminus\": [[0.0, \"#0d0887\"], [0.1111111111111111, \"#46039f\"], [0.2222222222222222, \"#7201a8\"], [0.3333333333333333, \"#9c179e\"], [0.4444444444444444, \"#bd3786\"], [0.5555555555555556, \"#d8576b\"], [0.6666666666666666, \"#ed7953\"], [0.7777777777777778, \"#fb9f3a\"], [0.8888888888888888, \"#fdca26\"], [1.0, \"#f0f921\"]]}, \"colorway\": [\"#636efa\", \"#EF553B\", \"#00cc96\", \"#ab63fa\", \"#FFA15A\", \"#19d3f3\", \"#FF6692\", \"#B6E880\", \"#FF97FF\", \"#FECB52\"], \"font\": {\"color\": \"#2a3f5f\"}, \"geo\": {\"bgcolor\": \"white\", \"lakecolor\": \"white\", \"landcolor\": \"#E5ECF6\", \"showlakes\": true, \"showland\": true, \"subunitcolor\": \"white\"}, \"hoverlabel\": {\"align\": \"left\"}, \"hovermode\": \"closest\", \"mapbox\": {\"style\": \"light\"}, \"paper_bgcolor\": \"white\", \"plot_bgcolor\": \"#E5ECF6\", \"polar\": {\"angularaxis\": {\"gridcolor\": \"white\", \"linecolor\": \"white\", \"ticks\": \"\"}, \"bgcolor\": \"#E5ECF6\", \"radialaxis\": {\"gridcolor\": \"white\", \"linecolor\": \"white\", \"ticks\": \"\"}}, \"scene\": {\"xaxis\": {\"backgroundcolor\": \"#E5ECF6\", \"gridcolor\": \"white\", \"gridwidth\": 2, \"linecolor\": \"white\", \"showbackground\": true, \"ticks\": \"\", \"zerolinecolor\": \"white\"}, \"yaxis\": {\"backgroundcolor\": \"#E5ECF6\", \"gridcolor\": \"white\", \"gridwidth\": 2, \"linecolor\": \"white\", \"showbackground\": true, \"ticks\": \"\", \"zerolinecolor\": \"white\"}, \"zaxis\": {\"backgroundcolor\": \"#E5ECF6\", \"gridcolor\": \"white\", \"gridwidth\": 2, \"linecolor\": \"white\", \"showbackground\": true, \"ticks\": \"\", \"zerolinecolor\": \"white\"}}, \"shapedefaults\": {\"line\": {\"color\": \"#2a3f5f\"}}, \"ternary\": {\"aaxis\": {\"gridcolor\": \"white\", \"linecolor\": \"white\", \"ticks\": \"\"}, \"baxis\": {\"gridcolor\": \"white\", \"linecolor\": \"white\", \"ticks\": \"\"}, \"bgcolor\": \"#E5ECF6\", \"caxis\": {\"gridcolor\": \"white\", \"linecolor\": \"white\", \"ticks\": \"\"}}, \"title\": {\"x\": 0.05}, \"xaxis\": {\"automargin\": true, \"gridcolor\": \"white\", \"linecolor\": \"white\", \"ticks\": \"\", \"title\": {\"standoff\": 15}, \"zerolinecolor\": \"white\", \"zerolinewidth\": 2}, \"yaxis\": {\"automargin\": true, \"gridcolor\": \"white\", \"linecolor\": \"white\", \"ticks\": \"\", \"title\": {\"standoff\": 15}, \"zerolinecolor\": \"white\", \"zerolinewidth\": 2}}}, \"title\": {\"text\": \"Vessel planning\"}, \"xaxis\": {\"range\": [\"1970-01-01T00:00:00\", \"1970-01-01T00:58:20\"], \"title\": {\"font\": {\"color\": \"#7f7f7f\", \"family\": \"Courier New, monospace\", \"size\": 18}, \"text\": \"Time\"}}, \"yaxis\": {\"title\": {\"font\": {\"color\": \"#7f7f7f\", \"family\": \"Courier New, monospace\", \"size\": 18}, \"text\": \"Vessels\"}}},                        {\"responsive\": true}                    ).then(function(){\n",
       "                            \n",
       "var gd = document.getElementById('0e3aee94-ad64-4173-9c7b-b630696d89d4');\n",
       "var x = new MutationObserver(function (mutations, observer) {{\n",
       "        var display = window.getComputedStyle(gd).display;\n",
       "        if (!display || display === 'none') {{\n",
       "            console.log([gd, 'removed!']);\n",
       "            Plotly.purge(gd);\n",
       "            observer.disconnect();\n",
       "        }}\n",
       "}});\n",
       "\n",
       "// Listen for the removal of the full notebook cells\n",
       "var notebookContainer = gd.closest('#notebook-container');\n",
       "if (notebookContainer) {{\n",
       "    x.observe(notebookContainer, {childList: true});\n",
       "}}\n",
       "\n",
       "// Listen for the clearing of the current output cell\n",
       "var outputEl = gd.closest('.output');\n",
       "if (outputEl) {{\n",
       "    x.observe(outputEl, {childList: true});\n",
       "}}\n",
       "\n",
       "                        })                };                });            </script>        </div>"
      ]
     },
     "metadata": {},
     "output_type": "display_data"
    }
   ],
   "source": [
    "plot.vessel_planning([*single_run, *loading_subcycle_processes])"
   ]
  },
  {
   "cell_type": "code",
   "execution_count": 11,
   "metadata": {},
   "outputs": [
    {
     "data": {
      "text/plain": [
       "{'Timestamp': [datetime.datetime(1970, 1, 1, 0, 11, 40),\n",
       "  datetime.datetime(1970, 1, 1, 0, 28, 20)],\n",
       " 'ActivityID': ['1b7eeec0-980b-43ec-8025-90e23ae41154',\n",
       "  '1b7eeec0-980b-43ec-8025-90e23ae41154'],\n",
       " 'ActivityState': ['START', 'STOP'],\n",
       " 'ObjectState': [{}, {}],\n",
       " 'ActivityLabel': [{}, {}]}"
      ]
     },
     "execution_count": 11,
     "metadata": {},
     "output_type": "execute_result"
    }
   ],
   "source": [
    "loading_subcycle_processes[1].log"
   ]
  },
  {
   "cell_type": "code",
   "execution_count": 12,
   "metadata": {},
   "outputs": [
    {
     "data": {
      "text/plain": [
       "{'Timestamp': [datetime.datetime(1970, 1, 1, 0, 0),\n",
       "  datetime.datetime(1970, 1, 1, 0, 1, 40),\n",
       "  datetime.datetime(1970, 1, 1, 0, 56, 40),\n",
       "  datetime.datetime(1970, 1, 1, 0, 58, 20)],\n",
       " 'ActivityID': ['6c33d3d7-b202-4dbb-8c5d-1d7fc3d61e74',\n",
       "  '6c33d3d7-b202-4dbb-8c5d-1d7fc3d61e74',\n",
       "  '6c33d3d7-b202-4dbb-8c5d-1d7fc3d61e74',\n",
       "  '6c33d3d7-b202-4dbb-8c5d-1d7fc3d61e74'],\n",
       " 'ActivityState': ['START', 'STOP', 'START', 'STOP'],\n",
       " 'ObjectState': [{}, {}, {}, {}],\n",
       " 'ActivityLabel': [{}, {}, {}, {}]}"
      ]
     },
     "execution_count": 12,
     "metadata": {},
     "output_type": "execute_result"
    }
   ],
   "source": [
    "single_run[0].log"
   ]
  },
  {
   "cell_type": "code",
   "execution_count": null,
   "metadata": {},
   "outputs": [],
   "source": []
  },
  {
   "cell_type": "code",
   "execution_count": null,
   "metadata": {},
   "outputs": [],
   "source": []
  },
  {
   "cell_type": "code",
   "execution_count": null,
   "metadata": {},
   "outputs": [],
   "source": []
  },
  {
   "cell_type": "code",
   "execution_count": null,
   "metadata": {},
   "outputs": [],
   "source": []
  },
  {
   "cell_type": "code",
   "execution_count": null,
   "metadata": {},
   "outputs": [],
   "source": []
  }
 ],
 "metadata": {
  "kernelspec": {
   "display_name": "Python 3",
   "language": "python",
   "name": "python3"
  },
  "language_info": {
   "codemirror_mode": {
    "name": "ipython",
    "version": 3
   },
   "file_extension": ".py",
   "mimetype": "text/x-python",
   "name": "python",
   "nbconvert_exporter": "python",
   "pygments_lexer": "ipython3",
   "version": "3.7.3"
  }
 },
 "nbformat": 4,
 "nbformat_minor": 2
}
