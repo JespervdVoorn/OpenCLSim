{
 "cells": [
  {
   "cell_type": "markdown",
   "metadata": {},
   "source": [
    "# Demo SequenceActivity\n",
    "The sequence activity calls all activities which are specified as sub processes."
   ]
  },
  {
   "cell_type": "code",
   "execution_count": 6,
   "metadata": {},
   "outputs": [],
   "source": [
    "import datetime, time\n",
    "import simpy\n",
    "\n",
    "import pandas as pd\n",
    "import openclsim.core as core\n",
    "import openclsim.model as model\n",
    "import openclsim.plot as plot\n",
    "\n",
    "# setup environment\n",
    "simulation_start = 0\n",
    "my_env = simpy.Environment(initial_time=simulation_start)\n",
    "registry = {}"
   ]
  },
  {
   "cell_type": "markdown",
   "metadata": {},
   "source": [
    "## Definition of the subprocesses used in the seqeunce activity\n",
    "The sequence activity executes three basic activities in a sequence. Since the individual basic activities are executed one after the other, it is necessary to postpone the initialization of the initialization of these activities. This is done using the **postpone_start** parameter.\n",
    "\n",
    "To ensure that all logging of the basic activities are available in a single log, additional logging is configured to an reporting activity."
   ]
  },
  {
   "cell_type": "code",
   "execution_count": 2,
   "metadata": {},
   "outputs": [],
   "source": [
    "reporting_activity_data = {\n",
    "    \"env\": my_env,\n",
    "    \"name\": \"Reporting activity\",\n",
    "    \"ID\": \"6dbbbdf7-4589-11e9-bf3b-b469212bff5k\",  # For logging purposes\n",
    "    \"registry\": registry,\n",
    "    \"duration\": 0,\n",
    "    \"postpone_start\": False,\n",
    "}\n",
    "reporting_activity = model.BasicActivity(**reporting_activity_data)\n",
    "\n",
    "sub_processes = []\n",
    "basic_activity_data1 = {\n",
    "    \"env\": my_env,\n",
    "    \"name\": \"Basic activity1\",\n",
    "    \"ID\": \"6dbbbdf7-4589-11e9-bf3b-b469212bff5b\",  # For logging purposes\n",
    "    \"registry\": registry,\n",
    "    \"duration\": 14,\n",
    "    \"postpone_start\": True,\n",
    "    \"additional_logs\": [reporting_activity],\n",
    "}\n",
    "sub_processes.append(model.BasicActivity(**basic_activity_data1))\n",
    "basic_activity_data2 = {\n",
    "    \"env\": my_env,\n",
    "    \"name\": \"Basic activity2\",\n",
    "    \"ID\": \"6dbbbdf7-4589-11e9-bf3b-b469212bff5c\",  # For logging purposes\n",
    "    \"registry\": registry,\n",
    "    \"duration\": 5,\n",
    "    \"additional_logs\": [reporting_activity],\n",
    "    \"postpone_start\": True,\n",
    "}\n",
    "sub_processes.append(model.BasicActivity(**basic_activity_data2))\n",
    "basic_activity_data3 = {\n",
    "    \"env\": my_env,\n",
    "    \"name\": \"Basic activity3\",\n",
    "    \"ID\": \"6dbbbdf7-4589-11e9-bf3b-b469212bff5d\",  # For logging purposes\n",
    "    \"registry\": registry,\n",
    "    \"duration\": 220,\n",
    "    \"additional_logs\": [reporting_activity],\n",
    "    \"postpone_start\": True,\n",
    "}\n",
    "sub_processes.append(model.BasicActivity(**basic_activity_data3))\n",
    "\n"
   ]
  },
  {
   "cell_type": "markdown",
   "metadata": {},
   "source": [
    "## Definition of seqeunce activity"
   ]
  },
  {
   "cell_type": "code",
   "execution_count": 3,
   "metadata": {},
   "outputs": [],
   "source": [
    "sequential_activity_data = {\n",
    "    \"env\": my_env,\n",
    "    \"name\": \"Sequential process\",\n",
    "    \"ID\": \"6dbbbdf7-4589-11e9-bf3b-b469212bff60\",  # For logging purposes\n",
    "    \"registry\": registry,\n",
    "    \"sub_processes\": sub_processes,\n",
    "}\n",
    "activity = model.SequentialActivity(**sequential_activity_data)"
   ]
  },
  {
   "cell_type": "code",
   "execution_count": 4,
   "metadata": {},
   "outputs": [],
   "source": [
    "my_env.run()"
   ]
  },
  {
   "cell_type": "code",
   "execution_count": 11,
   "metadata": {},
   "outputs": [
    {
     "data": {
      "text/html": [
       "<style  type=\"text/css\" >\n",
       "</style><table id=\"T_9c3c43ce_19c8_11eb_884a_0242ac140002\" ><caption>Log of the Reporting activity</caption><thead>    <tr>        <th class=\"blank level0\" ></th>        <th class=\"col_heading level0 col0\" >Timestamp</th>        <th class=\"col_heading level0 col1\" >Activity</th>        <th class=\"col_heading level0 col2\" >ActivityState</th>    </tr></thead><tbody>\n",
       "                <tr>\n",
       "                        <th id=\"T_9c3c43ce_19c8_11eb_884a_0242ac140002level0_row0\" class=\"row_heading level0 row0\" >0</th>\n",
       "                        <td id=\"T_9c3c43ce_19c8_11eb_884a_0242ac140002row0_col0\" class=\"data row0 col0\" >1970-01-01 00:00:00</td>\n",
       "                        <td id=\"T_9c3c43ce_19c8_11eb_884a_0242ac140002row0_col1\" class=\"data row0 col1\" >Reporting activity</td>\n",
       "                        <td id=\"T_9c3c43ce_19c8_11eb_884a_0242ac140002row0_col2\" class=\"data row0 col2\" >START</td>\n",
       "            </tr>\n",
       "            <tr>\n",
       "                        <th id=\"T_9c3c43ce_19c8_11eb_884a_0242ac140002level0_row1\" class=\"row_heading level0 row1\" >1</th>\n",
       "                        <td id=\"T_9c3c43ce_19c8_11eb_884a_0242ac140002row1_col0\" class=\"data row1 col0\" >1970-01-01 00:00:00</td>\n",
       "                        <td id=\"T_9c3c43ce_19c8_11eb_884a_0242ac140002row1_col1\" class=\"data row1 col1\" >Basic activity1</td>\n",
       "                        <td id=\"T_9c3c43ce_19c8_11eb_884a_0242ac140002row1_col2\" class=\"data row1 col2\" >START</td>\n",
       "            </tr>\n",
       "            <tr>\n",
       "                        <th id=\"T_9c3c43ce_19c8_11eb_884a_0242ac140002level0_row2\" class=\"row_heading level0 row2\" >2</th>\n",
       "                        <td id=\"T_9c3c43ce_19c8_11eb_884a_0242ac140002row2_col0\" class=\"data row2 col0\" >1970-01-01 00:00:00</td>\n",
       "                        <td id=\"T_9c3c43ce_19c8_11eb_884a_0242ac140002row2_col1\" class=\"data row2 col1\" >Reporting activity</td>\n",
       "                        <td id=\"T_9c3c43ce_19c8_11eb_884a_0242ac140002row2_col2\" class=\"data row2 col2\" >STOP</td>\n",
       "            </tr>\n",
       "            <tr>\n",
       "                        <th id=\"T_9c3c43ce_19c8_11eb_884a_0242ac140002level0_row3\" class=\"row_heading level0 row3\" >3</th>\n",
       "                        <td id=\"T_9c3c43ce_19c8_11eb_884a_0242ac140002row3_col0\" class=\"data row3 col0\" >1970-01-01 00:00:14</td>\n",
       "                        <td id=\"T_9c3c43ce_19c8_11eb_884a_0242ac140002row3_col1\" class=\"data row3 col1\" >Basic activity1</td>\n",
       "                        <td id=\"T_9c3c43ce_19c8_11eb_884a_0242ac140002row3_col2\" class=\"data row3 col2\" >STOP</td>\n",
       "            </tr>\n",
       "            <tr>\n",
       "                        <th id=\"T_9c3c43ce_19c8_11eb_884a_0242ac140002level0_row4\" class=\"row_heading level0 row4\" >4</th>\n",
       "                        <td id=\"T_9c3c43ce_19c8_11eb_884a_0242ac140002row4_col0\" class=\"data row4 col0\" >1970-01-01 00:00:14</td>\n",
       "                        <td id=\"T_9c3c43ce_19c8_11eb_884a_0242ac140002row4_col1\" class=\"data row4 col1\" >Basic activity2</td>\n",
       "                        <td id=\"T_9c3c43ce_19c8_11eb_884a_0242ac140002row4_col2\" class=\"data row4 col2\" >START</td>\n",
       "            </tr>\n",
       "            <tr>\n",
       "                        <th id=\"T_9c3c43ce_19c8_11eb_884a_0242ac140002level0_row5\" class=\"row_heading level0 row5\" >5</th>\n",
       "                        <td id=\"T_9c3c43ce_19c8_11eb_884a_0242ac140002row5_col0\" class=\"data row5 col0\" >1970-01-01 00:00:19</td>\n",
       "                        <td id=\"T_9c3c43ce_19c8_11eb_884a_0242ac140002row5_col1\" class=\"data row5 col1\" >Basic activity2</td>\n",
       "                        <td id=\"T_9c3c43ce_19c8_11eb_884a_0242ac140002row5_col2\" class=\"data row5 col2\" >STOP</td>\n",
       "            </tr>\n",
       "            <tr>\n",
       "                        <th id=\"T_9c3c43ce_19c8_11eb_884a_0242ac140002level0_row6\" class=\"row_heading level0 row6\" >6</th>\n",
       "                        <td id=\"T_9c3c43ce_19c8_11eb_884a_0242ac140002row6_col0\" class=\"data row6 col0\" >1970-01-01 00:00:19</td>\n",
       "                        <td id=\"T_9c3c43ce_19c8_11eb_884a_0242ac140002row6_col1\" class=\"data row6 col1\" >Basic activity3</td>\n",
       "                        <td id=\"T_9c3c43ce_19c8_11eb_884a_0242ac140002row6_col2\" class=\"data row6 col2\" >START</td>\n",
       "            </tr>\n",
       "            <tr>\n",
       "                        <th id=\"T_9c3c43ce_19c8_11eb_884a_0242ac140002level0_row7\" class=\"row_heading level0 row7\" >7</th>\n",
       "                        <td id=\"T_9c3c43ce_19c8_11eb_884a_0242ac140002row7_col0\" class=\"data row7 col0\" >1970-01-01 00:03:59</td>\n",
       "                        <td id=\"T_9c3c43ce_19c8_11eb_884a_0242ac140002row7_col1\" class=\"data row7 col1\" >Basic activity3</td>\n",
       "                        <td id=\"T_9c3c43ce_19c8_11eb_884a_0242ac140002row7_col2\" class=\"data row7 col2\" >STOP</td>\n",
       "            </tr>\n",
       "    </tbody></table>"
      ],
      "text/plain": [
       "<pandas.io.formats.style.Styler at 0x7fb8c2a149e8>"
      ]
     },
     "metadata": {},
     "output_type": "display_data"
    },
    {
     "data": {
      "text/html": [
       "<style  type=\"text/css\" >\n",
       "</style><table id=\"T_9c3d85ea_19c8_11eb_884a_0242ac140002\" ><caption>Log of the Basic activity1</caption><thead>    <tr>        <th class=\"blank level0\" ></th>        <th class=\"col_heading level0 col0\" >Timestamp</th>        <th class=\"col_heading level0 col1\" >Activity</th>        <th class=\"col_heading level0 col2\" >ActivityState</th>    </tr></thead><tbody>\n",
       "                <tr>\n",
       "                        <th id=\"T_9c3d85ea_19c8_11eb_884a_0242ac140002level0_row0\" class=\"row_heading level0 row0\" >0</th>\n",
       "                        <td id=\"T_9c3d85ea_19c8_11eb_884a_0242ac140002row0_col0\" class=\"data row0 col0\" >1970-01-01 00:00:00</td>\n",
       "                        <td id=\"T_9c3d85ea_19c8_11eb_884a_0242ac140002row0_col1\" class=\"data row0 col1\" >Basic activity1</td>\n",
       "                        <td id=\"T_9c3d85ea_19c8_11eb_884a_0242ac140002row0_col2\" class=\"data row0 col2\" >START</td>\n",
       "            </tr>\n",
       "            <tr>\n",
       "                        <th id=\"T_9c3d85ea_19c8_11eb_884a_0242ac140002level0_row1\" class=\"row_heading level0 row1\" >1</th>\n",
       "                        <td id=\"T_9c3d85ea_19c8_11eb_884a_0242ac140002row1_col0\" class=\"data row1 col0\" >1970-01-01 00:00:14</td>\n",
       "                        <td id=\"T_9c3d85ea_19c8_11eb_884a_0242ac140002row1_col1\" class=\"data row1 col1\" >Basic activity1</td>\n",
       "                        <td id=\"T_9c3d85ea_19c8_11eb_884a_0242ac140002row1_col2\" class=\"data row1 col2\" >STOP</td>\n",
       "            </tr>\n",
       "    </tbody></table>"
      ],
      "text/plain": [
       "<pandas.io.formats.style.Styler at 0x7fb8e459e438>"
      ]
     },
     "metadata": {},
     "output_type": "display_data"
    },
    {
     "data": {
      "text/html": [
       "<style  type=\"text/css\" >\n",
       "</style><table id=\"T_9c3e54fc_19c8_11eb_884a_0242ac140002\" ><caption>Log of the Basic activity2</caption><thead>    <tr>        <th class=\"blank level0\" ></th>        <th class=\"col_heading level0 col0\" >Timestamp</th>        <th class=\"col_heading level0 col1\" >Activity</th>        <th class=\"col_heading level0 col2\" >ActivityState</th>    </tr></thead><tbody>\n",
       "                <tr>\n",
       "                        <th id=\"T_9c3e54fc_19c8_11eb_884a_0242ac140002level0_row0\" class=\"row_heading level0 row0\" >0</th>\n",
       "                        <td id=\"T_9c3e54fc_19c8_11eb_884a_0242ac140002row0_col0\" class=\"data row0 col0\" >1970-01-01 00:00:14</td>\n",
       "                        <td id=\"T_9c3e54fc_19c8_11eb_884a_0242ac140002row0_col1\" class=\"data row0 col1\" >Basic activity2</td>\n",
       "                        <td id=\"T_9c3e54fc_19c8_11eb_884a_0242ac140002row0_col2\" class=\"data row0 col2\" >START</td>\n",
       "            </tr>\n",
       "            <tr>\n",
       "                        <th id=\"T_9c3e54fc_19c8_11eb_884a_0242ac140002level0_row1\" class=\"row_heading level0 row1\" >1</th>\n",
       "                        <td id=\"T_9c3e54fc_19c8_11eb_884a_0242ac140002row1_col0\" class=\"data row1 col0\" >1970-01-01 00:00:19</td>\n",
       "                        <td id=\"T_9c3e54fc_19c8_11eb_884a_0242ac140002row1_col1\" class=\"data row1 col1\" >Basic activity2</td>\n",
       "                        <td id=\"T_9c3e54fc_19c8_11eb_884a_0242ac140002row1_col2\" class=\"data row1 col2\" >STOP</td>\n",
       "            </tr>\n",
       "    </tbody></table>"
      ],
      "text/plain": [
       "<pandas.io.formats.style.Styler at 0x7fb8c2cb8e48>"
      ]
     },
     "metadata": {},
     "output_type": "display_data"
    },
    {
     "data": {
      "text/html": [
       "<style  type=\"text/css\" >\n",
       "</style><table id=\"T_9c3f6f90_19c8_11eb_884a_0242ac140002\" ><caption>Log of the Basic activity3</caption><thead>    <tr>        <th class=\"blank level0\" ></th>        <th class=\"col_heading level0 col0\" >Timestamp</th>        <th class=\"col_heading level0 col1\" >Activity</th>        <th class=\"col_heading level0 col2\" >ActivityState</th>    </tr></thead><tbody>\n",
       "                <tr>\n",
       "                        <th id=\"T_9c3f6f90_19c8_11eb_884a_0242ac140002level0_row0\" class=\"row_heading level0 row0\" >0</th>\n",
       "                        <td id=\"T_9c3f6f90_19c8_11eb_884a_0242ac140002row0_col0\" class=\"data row0 col0\" >1970-01-01 00:00:19</td>\n",
       "                        <td id=\"T_9c3f6f90_19c8_11eb_884a_0242ac140002row0_col1\" class=\"data row0 col1\" >Basic activity3</td>\n",
       "                        <td id=\"T_9c3f6f90_19c8_11eb_884a_0242ac140002row0_col2\" class=\"data row0 col2\" >START</td>\n",
       "            </tr>\n",
       "            <tr>\n",
       "                        <th id=\"T_9c3f6f90_19c8_11eb_884a_0242ac140002level0_row1\" class=\"row_heading level0 row1\" >1</th>\n",
       "                        <td id=\"T_9c3f6f90_19c8_11eb_884a_0242ac140002row1_col0\" class=\"data row1 col0\" >1970-01-01 00:03:59</td>\n",
       "                        <td id=\"T_9c3f6f90_19c8_11eb_884a_0242ac140002row1_col1\" class=\"data row1 col1\" >Basic activity3</td>\n",
       "                        <td id=\"T_9c3f6f90_19c8_11eb_884a_0242ac140002row1_col2\" class=\"data row1 col2\" >STOP</td>\n",
       "            </tr>\n",
       "    </tbody></table>"
      ],
      "text/plain": [
       "<pandas.io.formats.style.Styler at 0x7fb8c2a1b940>"
      ]
     },
     "metadata": {},
     "output_type": "display_data"
    },
    {
     "data": {
      "text/html": [
       "<style  type=\"text/css\" >\n",
       "</style><table id=\"T_9c4064d6_19c8_11eb_884a_0242ac140002\" ><caption>Log of the Sequential process</caption><thead>    <tr>        <th class=\"blank level0\" ></th>        <th class=\"col_heading level0 col0\" >Timestamp</th>        <th class=\"col_heading level0 col1\" >Activity</th>        <th class=\"col_heading level0 col2\" >ActivityState</th>    </tr></thead><tbody>\n",
       "                <tr>\n",
       "                        <th id=\"T_9c4064d6_19c8_11eb_884a_0242ac140002level0_row0\" class=\"row_heading level0 row0\" >0</th>\n",
       "                        <td id=\"T_9c4064d6_19c8_11eb_884a_0242ac140002row0_col0\" class=\"data row0 col0\" >1970-01-01 00:00:00</td>\n",
       "                        <td id=\"T_9c4064d6_19c8_11eb_884a_0242ac140002row0_col1\" class=\"data row0 col1\" >Sequential process</td>\n",
       "                        <td id=\"T_9c4064d6_19c8_11eb_884a_0242ac140002row0_col2\" class=\"data row0 col2\" >START</td>\n",
       "            </tr>\n",
       "            <tr>\n",
       "                        <th id=\"T_9c4064d6_19c8_11eb_884a_0242ac140002level0_row1\" class=\"row_heading level0 row1\" >1</th>\n",
       "                        <td id=\"T_9c4064d6_19c8_11eb_884a_0242ac140002row1_col0\" class=\"data row1 col0\" >1970-01-01 00:00:00</td>\n",
       "                        <td id=\"T_9c4064d6_19c8_11eb_884a_0242ac140002row1_col1\" class=\"data row1 col1\" >Sequential process</td>\n",
       "                        <td id=\"T_9c4064d6_19c8_11eb_884a_0242ac140002row1_col2\" class=\"data row1 col2\" >START</td>\n",
       "            </tr>\n",
       "            <tr>\n",
       "                        <th id=\"T_9c4064d6_19c8_11eb_884a_0242ac140002level0_row2\" class=\"row_heading level0 row2\" >2</th>\n",
       "                        <td id=\"T_9c4064d6_19c8_11eb_884a_0242ac140002row2_col0\" class=\"data row2 col0\" >1970-01-01 00:00:14</td>\n",
       "                        <td id=\"T_9c4064d6_19c8_11eb_884a_0242ac140002row2_col1\" class=\"data row2 col1\" >Sequential process</td>\n",
       "                        <td id=\"T_9c4064d6_19c8_11eb_884a_0242ac140002row2_col2\" class=\"data row2 col2\" >STOP</td>\n",
       "            </tr>\n",
       "            <tr>\n",
       "                        <th id=\"T_9c4064d6_19c8_11eb_884a_0242ac140002level0_row3\" class=\"row_heading level0 row3\" >3</th>\n",
       "                        <td id=\"T_9c4064d6_19c8_11eb_884a_0242ac140002row3_col0\" class=\"data row3 col0\" >1970-01-01 00:00:14</td>\n",
       "                        <td id=\"T_9c4064d6_19c8_11eb_884a_0242ac140002row3_col1\" class=\"data row3 col1\" >Sequential process</td>\n",
       "                        <td id=\"T_9c4064d6_19c8_11eb_884a_0242ac140002row3_col2\" class=\"data row3 col2\" >START</td>\n",
       "            </tr>\n",
       "            <tr>\n",
       "                        <th id=\"T_9c4064d6_19c8_11eb_884a_0242ac140002level0_row4\" class=\"row_heading level0 row4\" >4</th>\n",
       "                        <td id=\"T_9c4064d6_19c8_11eb_884a_0242ac140002row4_col0\" class=\"data row4 col0\" >1970-01-01 00:00:19</td>\n",
       "                        <td id=\"T_9c4064d6_19c8_11eb_884a_0242ac140002row4_col1\" class=\"data row4 col1\" >Sequential process</td>\n",
       "                        <td id=\"T_9c4064d6_19c8_11eb_884a_0242ac140002row4_col2\" class=\"data row4 col2\" >STOP</td>\n",
       "            </tr>\n",
       "            <tr>\n",
       "                        <th id=\"T_9c4064d6_19c8_11eb_884a_0242ac140002level0_row5\" class=\"row_heading level0 row5\" >5</th>\n",
       "                        <td id=\"T_9c4064d6_19c8_11eb_884a_0242ac140002row5_col0\" class=\"data row5 col0\" >1970-01-01 00:00:19</td>\n",
       "                        <td id=\"T_9c4064d6_19c8_11eb_884a_0242ac140002row5_col1\" class=\"data row5 col1\" >Sequential process</td>\n",
       "                        <td id=\"T_9c4064d6_19c8_11eb_884a_0242ac140002row5_col2\" class=\"data row5 col2\" >START</td>\n",
       "            </tr>\n",
       "            <tr>\n",
       "                        <th id=\"T_9c4064d6_19c8_11eb_884a_0242ac140002level0_row6\" class=\"row_heading level0 row6\" >6</th>\n",
       "                        <td id=\"T_9c4064d6_19c8_11eb_884a_0242ac140002row6_col0\" class=\"data row6 col0\" >1970-01-01 00:03:59</td>\n",
       "                        <td id=\"T_9c4064d6_19c8_11eb_884a_0242ac140002row6_col1\" class=\"data row6 col1\" >Sequential process</td>\n",
       "                        <td id=\"T_9c4064d6_19c8_11eb_884a_0242ac140002row6_col2\" class=\"data row6 col2\" >STOP</td>\n",
       "            </tr>\n",
       "            <tr>\n",
       "                        <th id=\"T_9c4064d6_19c8_11eb_884a_0242ac140002level0_row7\" class=\"row_heading level0 row7\" >7</th>\n",
       "                        <td id=\"T_9c4064d6_19c8_11eb_884a_0242ac140002row7_col0\" class=\"data row7 col0\" >1970-01-01 00:03:59</td>\n",
       "                        <td id=\"T_9c4064d6_19c8_11eb_884a_0242ac140002row7_col1\" class=\"data row7 col1\" >Sequential process</td>\n",
       "                        <td id=\"T_9c4064d6_19c8_11eb_884a_0242ac140002row7_col2\" class=\"data row7 col2\" >STOP</td>\n",
       "            </tr>\n",
       "    </tbody></table>"
      ],
      "text/plain": [
       "<pandas.io.formats.style.Styler at 0x7fb8c2a1b208>"
      ]
     },
     "metadata": {},
     "output_type": "display_data"
    }
   ],
   "source": [
    "display(plot.get_log_dataframe(reporting_activity, [*sub_processes, activity, reporting_activity]))\n",
    "for act in [*sub_processes, activity]:\n",
    "    display(plot.get_log_dataframe(act, [*sub_processes, activity, reporting_activity]))"
   ]
  }
 ],
 "metadata": {
  "kernelspec": {
   "display_name": "Python 3",
   "language": "python",
   "name": "python3"
  },
  "language_info": {
   "codemirror_mode": {
    "name": "ipython",
    "version": 3
   },
   "file_extension": ".py",
   "mimetype": "text/x-python",
   "name": "python",
   "nbconvert_exporter": "python",
   "pygments_lexer": "ipython3",
   "version": "3.7.3"
  }
 },
 "nbformat": 4,
 "nbformat_minor": 2
}
