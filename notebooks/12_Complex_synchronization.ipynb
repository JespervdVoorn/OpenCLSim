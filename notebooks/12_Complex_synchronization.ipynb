{
 "cells": [
  {
   "cell_type": "markdown",
   "metadata": {},
   "source": [
    "## Demo: complex process synchronization\n",
    "The basic steps to set up an OpenCLSim simulation are:\n",
    "* Import libraries\n",
    "* Initialise simpy environment\n",
    "* Define object classes\n",
    "* Create objects\n",
    "  * Create sites\n",
    "  * Create vessels\n",
    "  * Create activities\n",
    "* Register processes and run simpy\n",
    "\n",
    "----\n",
    "\n",
    "In the Process Synchronization notebook the Synchronization using **start_events** was compared with a sequence of activities. However, the synchronization of two processes e.g. two vessels can not be implemented using sequence, but requires the **start_event** synchronization. \n",
    "\n",
    "In this demo two processes each consisting of a sequence of activities representing the processes of two vessels are synchronized, e.g. because they have to make a hand-over of material. \n",
    "\n",
    "This basic mechanism is also used in the feeder demo."
   ]
  },
  {
   "cell_type": "markdown",
   "metadata": {},
   "source": [
    "#### 0. Import libraries"
   ]
  },
  {
   "cell_type": "code",
   "execution_count": 30,
   "metadata": {},
   "outputs": [],
   "source": [
    "import datetime, time\n",
    "import simpy\n",
    "\n",
    "import pandas as pd\n",
    "\n",
    "import openclsim.core as core\n",
    "import openclsim.model as model\n",
    "import openclsim.plot as plot"
   ]
  },
  {
   "cell_type": "markdown",
   "metadata": {},
   "source": [
    "#### 1. Initialise simpy environment"
   ]
  },
  {
   "cell_type": "code",
   "execution_count": 31,
   "metadata": {},
   "outputs": [],
   "source": [
    "# setup environment\n",
    "simulation_start = 0\n",
    "my_env = simpy.Environment(initial_time=simulation_start)"
   ]
  },
  {
   "cell_type": "markdown",
   "metadata": {},
   "source": [
    "#### 2. Define object classes\n",
    "No sites and vessels defined in this example"
   ]
  },
  {
   "cell_type": "markdown",
   "metadata": {},
   "source": [
    "#### 3. Create objects"
   ]
  },
  {
   "cell_type": "markdown",
   "metadata": {},
   "source": [
    "##### 3.1. Create site object(s)\n",
    "No site objects defined in this example"
   ]
  },
  {
   "cell_type": "markdown",
   "metadata": {},
   "source": [
    "##### 3.2. Create vessel object(s)\n",
    "No vessel objects defined in this example"
   ]
  },
  {
   "cell_type": "markdown",
   "metadata": {},
   "source": [
    "##### 3.3 Create activity/activities\n",
    "The activity names of the first sequence all start with *A Basic activity*. Activity *A Basic activity3* is constrained such that it can only be executed after *B Basic activity 2* has been completed. Thus, in this demo, two processes controlled by a structural control element are synchronized with each other using **start_events**."
   ]
  },
  {
   "cell_type": "code",
   "execution_count": 32,
   "metadata": {},
   "outputs": [],
   "source": [
    "# initialise registry and keep_resources\n",
    "registry = {}\n",
    "keep_resources = {}"
   ]
  },
  {
   "cell_type": "code",
   "execution_count": 33,
   "metadata": {},
   "outputs": [],
   "source": [
    "# create a reporting activity\n",
    "reporting_activity = model.BasicActivity(\n",
    "    env=my_env,\n",
    "    name=\"Reporting activity\",\n",
    "    registry=registry,\n",
    "    duration=0,\n",
    "    keep_resources=keep_resources,\n",
    ")"
   ]
  },
  {
   "cell_type": "code",
   "execution_count": 34,
   "metadata": {},
   "outputs": [],
   "source": [
    "# create a list of the sub processes\n",
    "sub_processes_B = [\n",
    "    model.BasicActivity(\n",
    "        env=my_env,\n",
    "        name=\"B Basic activity1\",\n",
    "        registry=registry,\n",
    "        duration=10,\n",
    "        additional_logs=[reporting_activity],\n",
    "        keep_resources=keep_resources,\n",
    "    ),\n",
    "    model.BasicActivity(\n",
    "        env=my_env,\n",
    "        name=\"B Basic activity2\",\n",
    "        registry=registry,\n",
    "        duration=500,\n",
    "        additional_logs=[reporting_activity],\n",
    "        keep_resources=keep_resources,\n",
    "    ),\n",
    "    model.BasicActivity(\n",
    "        env=my_env,\n",
    "        name=\"B Basic activity3\",\n",
    "        registry=registry,\n",
    "        duration=120,\n",
    "        additional_logs=[reporting_activity],\n",
    "        keep_resources=keep_resources,\n",
    "    ),\n",
    "]\n",
    "\n",
    "# create a 'sequential activity' that is made up of the 'sub_processes'\n",
    "sequential_activity_B = model.SequentialActivity(\n",
    "    env=my_env,\n",
    "    name=\"B Sequential process\",\n",
    "    registry=registry,\n",
    "    sub_processes=sub_processes_B,\n",
    "    keep_resources=keep_resources,\n",
    ")"
   ]
  },
  {
   "cell_type": "code",
   "execution_count": 35,
   "metadata": {},
   "outputs": [],
   "source": [
    "# create a list of the sub processes\n",
    "sub_processes_A = [\n",
    "    model.BasicActivity(\n",
    "        env=my_env,\n",
    "        name=\"A Basic activity1\",\n",
    "        registry=registry,\n",
    "        duration=14,\n",
    "        additional_logs=[reporting_activity],\n",
    "        keep_resources=keep_resources,\n",
    "    ),\n",
    "    model.BasicActivity(\n",
    "        env=my_env,\n",
    "        name=\"A Basic activity2\",\n",
    "        registry=registry,\n",
    "        duration=10,\n",
    "        additional_logs=[reporting_activity],\n",
    "        keep_resources=keep_resources,\n",
    "    ),\n",
    "    model.BasicActivity(\n",
    "        env=my_env,\n",
    "        name=\"A Basic activity3\",\n",
    "        registry=registry,\n",
    "        duration=220,\n",
    "        additional_logs=[reporting_activity],\n",
    "        keep_resources=keep_resources,\n",
    "        start_event=[{\"type\": \"activity\", \"name\": \"B Basic activity2\", \"state\": \"done\"}],\n",
    "    ),\n",
    "]\n",
    "\n",
    "# create a 'sequential activity' that is made up of the 'sub_processes'\n",
    "sequential_activity_A = model.SequentialActivity(\n",
    "    env=my_env,\n",
    "    name=\"A Sequential process\",\n",
    "    registry=registry,\n",
    "    sub_processes=sub_processes_A,\n",
    "    keep_resources=keep_resources,\n",
    ")"
   ]
  },
  {
   "cell_type": "markdown",
   "metadata": {},
   "source": [
    "#### 4. Register processes and run simpy"
   ]
  },
  {
   "cell_type": "code",
   "execution_count": 36,
   "metadata": {},
   "outputs": [],
   "source": [
    "# initate the simpy processes defined in the 'while activity' and run simpy\n",
    "model.register_processes([sequential_activity_A, sequential_activity_B, reporting_activity])\n",
    "my_env.run()"
   ]
  },
  {
   "cell_type": "markdown",
   "metadata": {},
   "source": [
    "#### 5. Inspect results\n",
    "##### 5.1 Inspect logs"
   ]
  },
  {
   "cell_type": "code",
   "execution_count": 37,
   "metadata": {},
   "outputs": [
    {
     "data": {
      "text/html": [
       "<div>\n",
       "<style scoped>\n",
       "    .dataframe tbody tr th:only-of-type {\n",
       "        vertical-align: middle;\n",
       "    }\n",
       "\n",
       "    .dataframe tbody tr th {\n",
       "        vertical-align: top;\n",
       "    }\n",
       "\n",
       "    .dataframe thead th {\n",
       "        text-align: right;\n",
       "    }\n",
       "</style>\n",
       "<table border=\"1\" class=\"dataframe\">\n",
       "  <thead>\n",
       "    <tr style=\"text-align: right;\">\n",
       "      <th></th>\n",
       "      <th>Activity</th>\n",
       "      <th>Timestamp</th>\n",
       "      <th>ActivityState</th>\n",
       "      <th>type</th>\n",
       "      <th>ref</th>\n",
       "    </tr>\n",
       "  </thead>\n",
       "  <tbody>\n",
       "    <tr>\n",
       "      <th>0</th>\n",
       "      <td>Reporting activity</td>\n",
       "      <td>1970-01-01 00:00:00</td>\n",
       "      <td>START</td>\n",
       "      <td>NaN</td>\n",
       "      <td>NaN</td>\n",
       "    </tr>\n",
       "    <tr>\n",
       "      <th>1</th>\n",
       "      <td>B Basic activity1</td>\n",
       "      <td>1970-01-01 00:00:00</td>\n",
       "      <td>START</td>\n",
       "      <td>additional log</td>\n",
       "      <td>4e8356de-c899-492b-b355-aa504432102d</td>\n",
       "    </tr>\n",
       "    <tr>\n",
       "      <th>2</th>\n",
       "      <td>Reporting activity</td>\n",
       "      <td>1970-01-01 00:00:00</td>\n",
       "      <td>STOP</td>\n",
       "      <td>NaN</td>\n",
       "      <td>NaN</td>\n",
       "    </tr>\n",
       "    <tr>\n",
       "      <th>3</th>\n",
       "      <td>A Basic activity1</td>\n",
       "      <td>1970-01-01 00:00:00</td>\n",
       "      <td>START</td>\n",
       "      <td>additional log</td>\n",
       "      <td>f0012f69-550a-454f-8c0d-772c028ef85f</td>\n",
       "    </tr>\n",
       "    <tr>\n",
       "      <th>4</th>\n",
       "      <td>B Basic activity1</td>\n",
       "      <td>1970-01-01 00:00:10</td>\n",
       "      <td>STOP</td>\n",
       "      <td>additional log</td>\n",
       "      <td>4e8356de-c899-492b-b355-aa504432102d</td>\n",
       "    </tr>\n",
       "    <tr>\n",
       "      <th>5</th>\n",
       "      <td>B Basic activity2</td>\n",
       "      <td>1970-01-01 00:00:10</td>\n",
       "      <td>START</td>\n",
       "      <td>additional log</td>\n",
       "      <td>025cbdca-ac79-41a8-90ce-70c30c3f796f</td>\n",
       "    </tr>\n",
       "    <tr>\n",
       "      <th>6</th>\n",
       "      <td>A Basic activity1</td>\n",
       "      <td>1970-01-01 00:00:14</td>\n",
       "      <td>STOP</td>\n",
       "      <td>additional log</td>\n",
       "      <td>f0012f69-550a-454f-8c0d-772c028ef85f</td>\n",
       "    </tr>\n",
       "    <tr>\n",
       "      <th>7</th>\n",
       "      <td>A Basic activity2</td>\n",
       "      <td>1970-01-01 00:00:14</td>\n",
       "      <td>START</td>\n",
       "      <td>additional log</td>\n",
       "      <td>0214949e-1535-4b2a-acdc-909f860a143a</td>\n",
       "    </tr>\n",
       "    <tr>\n",
       "      <th>8</th>\n",
       "      <td>A Basic activity2</td>\n",
       "      <td>1970-01-01 00:00:24</td>\n",
       "      <td>STOP</td>\n",
       "      <td>additional log</td>\n",
       "      <td>0214949e-1535-4b2a-acdc-909f860a143a</td>\n",
       "    </tr>\n",
       "    <tr>\n",
       "      <th>9</th>\n",
       "      <td>B Basic activity2</td>\n",
       "      <td>1970-01-01 00:08:30</td>\n",
       "      <td>STOP</td>\n",
       "      <td>additional log</td>\n",
       "      <td>025cbdca-ac79-41a8-90ce-70c30c3f796f</td>\n",
       "    </tr>\n",
       "    <tr>\n",
       "      <th>10</th>\n",
       "      <td>B Basic activity3</td>\n",
       "      <td>1970-01-01 00:08:30</td>\n",
       "      <td>START</td>\n",
       "      <td>additional log</td>\n",
       "      <td>21c46708-bffb-4a70-a7b9-de964027827b</td>\n",
       "    </tr>\n",
       "    <tr>\n",
       "      <th>11</th>\n",
       "      <td>A Basic activity3</td>\n",
       "      <td>1970-01-01 00:00:24</td>\n",
       "      <td>WAIT_START</td>\n",
       "      <td>additional log</td>\n",
       "      <td>acd006b1-f7e7-4cd2-bf35-1223582e1126</td>\n",
       "    </tr>\n",
       "    <tr>\n",
       "      <th>12</th>\n",
       "      <td>A Basic activity3</td>\n",
       "      <td>1970-01-01 00:08:30</td>\n",
       "      <td>WAIT_STOP</td>\n",
       "      <td>additional log</td>\n",
       "      <td>acd006b1-f7e7-4cd2-bf35-1223582e1126</td>\n",
       "    </tr>\n",
       "    <tr>\n",
       "      <th>13</th>\n",
       "      <td>A Basic activity3</td>\n",
       "      <td>1970-01-01 00:08:30</td>\n",
       "      <td>START</td>\n",
       "      <td>additional log</td>\n",
       "      <td>acd006b1-f7e7-4cd2-bf35-1223582e1126</td>\n",
       "    </tr>\n",
       "    <tr>\n",
       "      <th>14</th>\n",
       "      <td>B Basic activity3</td>\n",
       "      <td>1970-01-01 00:10:30</td>\n",
       "      <td>STOP</td>\n",
       "      <td>additional log</td>\n",
       "      <td>21c46708-bffb-4a70-a7b9-de964027827b</td>\n",
       "    </tr>\n",
       "    <tr>\n",
       "      <th>15</th>\n",
       "      <td>A Basic activity3</td>\n",
       "      <td>1970-01-01 00:12:10</td>\n",
       "      <td>STOP</td>\n",
       "      <td>additional log</td>\n",
       "      <td>acd006b1-f7e7-4cd2-bf35-1223582e1126</td>\n",
       "    </tr>\n",
       "  </tbody>\n",
       "</table>\n",
       "</div>"
      ],
      "text/plain": [
       "              Activity           Timestamp ActivityState            type  \\\n",
       "0   Reporting activity 1970-01-01 00:00:00         START             NaN   \n",
       "1    B Basic activity1 1970-01-01 00:00:00         START  additional log   \n",
       "2   Reporting activity 1970-01-01 00:00:00          STOP             NaN   \n",
       "3    A Basic activity1 1970-01-01 00:00:00         START  additional log   \n",
       "4    B Basic activity1 1970-01-01 00:00:10          STOP  additional log   \n",
       "5    B Basic activity2 1970-01-01 00:00:10         START  additional log   \n",
       "6    A Basic activity1 1970-01-01 00:00:14          STOP  additional log   \n",
       "7    A Basic activity2 1970-01-01 00:00:14         START  additional log   \n",
       "8    A Basic activity2 1970-01-01 00:00:24          STOP  additional log   \n",
       "9    B Basic activity2 1970-01-01 00:08:30          STOP  additional log   \n",
       "10   B Basic activity3 1970-01-01 00:08:30         START  additional log   \n",
       "11   A Basic activity3 1970-01-01 00:00:24    WAIT_START  additional log   \n",
       "12   A Basic activity3 1970-01-01 00:08:30     WAIT_STOP  additional log   \n",
       "13   A Basic activity3 1970-01-01 00:08:30         START  additional log   \n",
       "14   B Basic activity3 1970-01-01 00:10:30          STOP  additional log   \n",
       "15   A Basic activity3 1970-01-01 00:12:10          STOP  additional log   \n",
       "\n",
       "                                     ref  \n",
       "0                                    NaN  \n",
       "1   4e8356de-c899-492b-b355-aa504432102d  \n",
       "2                                    NaN  \n",
       "3   f0012f69-550a-454f-8c0d-772c028ef85f  \n",
       "4   4e8356de-c899-492b-b355-aa504432102d  \n",
       "5   025cbdca-ac79-41a8-90ce-70c30c3f796f  \n",
       "6   f0012f69-550a-454f-8c0d-772c028ef85f  \n",
       "7   0214949e-1535-4b2a-acdc-909f860a143a  \n",
       "8   0214949e-1535-4b2a-acdc-909f860a143a  \n",
       "9   025cbdca-ac79-41a8-90ce-70c30c3f796f  \n",
       "10  21c46708-bffb-4a70-a7b9-de964027827b  \n",
       "11  acd006b1-f7e7-4cd2-bf35-1223582e1126  \n",
       "12  acd006b1-f7e7-4cd2-bf35-1223582e1126  \n",
       "13  acd006b1-f7e7-4cd2-bf35-1223582e1126  \n",
       "14  21c46708-bffb-4a70-a7b9-de964027827b  \n",
       "15  acd006b1-f7e7-4cd2-bf35-1223582e1126  "
      ]
     },
     "metadata": {},
     "output_type": "display_data"
    }
   ],
   "source": [
    "display(plot.get_log_dataframe(reporting_activity, [sequential_activity_A, *sub_processes_A, sequential_activity_B, *sub_processes_B, reporting_activity]))"
   ]
  },
  {
   "cell_type": "markdown",
   "metadata": {},
   "source": [
    "##### 5.2 Visualise gantt charts"
   ]
  },
  {
   "cell_type": "code",
   "execution_count": 38,
   "metadata": {},
   "outputs": [
    {
     "data": {
      "text/html": [
       "        <script type=\"text/javascript\">\n",
       "        window.PlotlyConfig = {MathJaxConfig: 'local'};\n",
       "        if (window.MathJax) {MathJax.Hub.Config({SVG: {font: \"STIX-Web\"}});}\n",
       "        if (typeof require !== 'undefined') {\n",
       "        require.undef(\"plotly\");\n",
       "        requirejs.config({\n",
       "            paths: {\n",
       "                'plotly': ['https://cdn.plot.ly/plotly-latest.min']\n",
       "            }\n",
       "        });\n",
       "        require(['plotly'], function(Plotly) {\n",
       "            window._Plotly = Plotly;\n",
       "        });\n",
       "        }\n",
       "        </script>\n",
       "        "
      ]
     },
     "metadata": {},
     "output_type": "display_data"
    },
    {
     "data": {
      "application/vnd.plotly.v1+json": {
       "config": {
        "linkText": "Export to plot.ly",
        "plotlyServerURL": "https://plot.ly",
        "showLink": false
       },
       "data": [
        {
         "connectgaps": false,
         "hoverinfo": "y+name",
         "line": {
          "color": "rgb(127,249,113)",
          "width": 10
         },
         "mode": "lines",
         "name": "A Sequential process",
         "type": "scatter",
         "x": [
          "1970-01-01T00:00:00",
          "1970-01-01T00:00:00",
          "1970-01-01T00:00:14",
          "1970-01-01T00:00:14",
          "1970-01-01T00:00:14",
          "1970-01-01T00:00:14",
          "1970-01-01T00:00:14",
          "1970-01-01T00:00:24",
          "1970-01-01T00:00:24",
          "1970-01-01T00:00:24",
          "1970-01-01T00:00:24",
          "1970-01-01T00:00:24",
          "1970-01-01T00:12:10",
          "1970-01-01T00:12:10",
          "1970-01-01T00:12:10",
          "1970-01-01T00:00:24",
          "1970-01-01T00:00:24",
          "1970-01-01T00:12:10",
          "1970-01-01T00:12:10",
          "1970-01-01T00:12:10"
         ],
         "y": [
          "A Sequential process",
          "A Sequential process",
          "A Sequential process",
          "A Sequential process",
          null,
          "A Sequential process",
          "A Sequential process",
          "A Sequential process",
          "A Sequential process",
          null,
          "A Sequential process",
          "A Sequential process",
          "A Sequential process",
          "A Sequential process",
          null,
          "A Sequential process",
          "A Sequential process",
          "A Sequential process",
          "A Sequential process",
          null
         ]
        },
        {
         "connectgaps": false,
         "hoverinfo": "y+name",
         "line": {
          "color": "rgb(159,25,145)",
          "width": 10
         },
         "mode": "lines",
         "name": "A Basic activity1",
         "type": "scatter",
         "x": [
          "1970-01-01T00:00:00",
          "1970-01-01T00:00:00",
          "1970-01-01T00:00:14",
          "1970-01-01T00:00:14",
          "1970-01-01T00:00:14"
         ],
         "y": [
          "A Basic activity1",
          "A Basic activity1",
          "A Basic activity1",
          "A Basic activity1",
          null
         ]
        },
        {
         "connectgaps": false,
         "hoverinfo": "y+name",
         "line": {
          "color": "rgb(191,57,177)",
          "width": 10
         },
         "mode": "lines",
         "name": "A Basic activity2",
         "type": "scatter",
         "x": [
          "1970-01-01T00:00:14",
          "1970-01-01T00:00:14",
          "1970-01-01T00:00:24",
          "1970-01-01T00:00:24",
          "1970-01-01T00:00:24"
         ],
         "y": [
          "A Basic activity2",
          "A Basic activity2",
          "A Basic activity2",
          "A Basic activity2",
          null
         ]
        },
        {
         "connectgaps": false,
         "hoverinfo": "y+name",
         "line": {
          "color": "rgb(223,89,209)",
          "width": 10
         },
         "mode": "lines",
         "name": "A Basic activity3",
         "type": "scatter",
         "x": [
          "1970-01-01T00:08:30",
          "1970-01-01T00:08:30",
          "1970-01-01T00:12:10",
          "1970-01-01T00:12:10",
          "1970-01-01T00:12:10"
         ],
         "y": [
          "A Basic activity3",
          "A Basic activity3",
          "A Basic activity3",
          "A Basic activity3",
          null
         ]
        },
        {
         "connectgaps": false,
         "hoverinfo": "y+name",
         "line": {
          "color": "rgb(255,121,241)",
          "width": 10
         },
         "mode": "lines",
         "name": "B Sequential process",
         "type": "scatter",
         "x": [
          "1970-01-01T00:00:00",
          "1970-01-01T00:00:00",
          "1970-01-01T00:00:10",
          "1970-01-01T00:00:10",
          "1970-01-01T00:00:10",
          "1970-01-01T00:00:10",
          "1970-01-01T00:00:10",
          "1970-01-01T00:08:30",
          "1970-01-01T00:08:30",
          "1970-01-01T00:08:30",
          "1970-01-01T00:08:30",
          "1970-01-01T00:08:30",
          "1970-01-01T00:10:30",
          "1970-01-01T00:10:30",
          "1970-01-01T00:10:30",
          "1970-01-01T00:08:30",
          "1970-01-01T00:08:30",
          "1970-01-01T00:10:30",
          "1970-01-01T00:10:30",
          "1970-01-01T00:10:30"
         ],
         "y": [
          "B Sequential process",
          "B Sequential process",
          "B Sequential process",
          "B Sequential process",
          null,
          "B Sequential process",
          "B Sequential process",
          "B Sequential process",
          "B Sequential process",
          null,
          "B Sequential process",
          "B Sequential process",
          "B Sequential process",
          "B Sequential process",
          null,
          "B Sequential process",
          "B Sequential process",
          "B Sequential process",
          "B Sequential process",
          null
         ]
        },
        {
         "connectgaps": false,
         "hoverinfo": "y+name",
         "line": {
          "color": "rgb(31,153,17)",
          "width": 10
         },
         "mode": "lines",
         "name": "B Basic activity1",
         "type": "scatter",
         "x": [
          "1970-01-01T00:00:00",
          "1970-01-01T00:00:00",
          "1970-01-01T00:00:10",
          "1970-01-01T00:00:10",
          "1970-01-01T00:00:10"
         ],
         "y": [
          "B Basic activity1",
          "B Basic activity1",
          "B Basic activity1",
          "B Basic activity1",
          null
         ]
        },
        {
         "connectgaps": false,
         "hoverinfo": "y+name",
         "line": {
          "color": "rgb(63,185,49)",
          "width": 10
         },
         "mode": "lines",
         "name": "B Basic activity2",
         "type": "scatter",
         "x": [
          "1970-01-01T00:00:10",
          "1970-01-01T00:00:10",
          "1970-01-01T00:08:30",
          "1970-01-01T00:08:30",
          "1970-01-01T00:08:30"
         ],
         "y": [
          "B Basic activity2",
          "B Basic activity2",
          "B Basic activity2",
          "B Basic activity2",
          null
         ]
        },
        {
         "connectgaps": false,
         "hoverinfo": "y+name",
         "line": {
          "color": "rgb(95,217,81)",
          "width": 10
         },
         "mode": "lines",
         "name": "B Basic activity3",
         "type": "scatter",
         "x": [
          "1970-01-01T00:08:30",
          "1970-01-01T00:08:30",
          "1970-01-01T00:10:30",
          "1970-01-01T00:10:30",
          "1970-01-01T00:10:30"
         ],
         "y": [
          "B Basic activity3",
          "B Basic activity3",
          "B Basic activity3",
          "B Basic activity3",
          null
         ]
        }
       ],
       "layout": {
        "hovermode": "closest",
        "legend": {
         "orientation": "h",
         "x": 0,
         "y": -0.2
        },
        "template": {
         "data": {
          "bar": [
           {
            "error_x": {
             "color": "#2a3f5f"
            },
            "error_y": {
             "color": "#2a3f5f"
            },
            "marker": {
             "line": {
              "color": "#E5ECF6",
              "width": 0.5
             }
            },
            "type": "bar"
           }
          ],
          "barpolar": [
           {
            "marker": {
             "line": {
              "color": "#E5ECF6",
              "width": 0.5
             }
            },
            "type": "barpolar"
           }
          ],
          "carpet": [
           {
            "aaxis": {
             "endlinecolor": "#2a3f5f",
             "gridcolor": "white",
             "linecolor": "white",
             "minorgridcolor": "white",
             "startlinecolor": "#2a3f5f"
            },
            "baxis": {
             "endlinecolor": "#2a3f5f",
             "gridcolor": "white",
             "linecolor": "white",
             "minorgridcolor": "white",
             "startlinecolor": "#2a3f5f"
            },
            "type": "carpet"
           }
          ],
          "choropleth": [
           {
            "colorbar": {
             "outlinewidth": 0,
             "ticks": ""
            },
            "type": "choropleth"
           }
          ],
          "contour": [
           {
            "colorbar": {
             "outlinewidth": 0,
             "ticks": ""
            },
            "colorscale": [
             [
              0,
              "#0d0887"
             ],
             [
              0.1111111111111111,
              "#46039f"
             ],
             [
              0.2222222222222222,
              "#7201a8"
             ],
             [
              0.3333333333333333,
              "#9c179e"
             ],
             [
              0.4444444444444444,
              "#bd3786"
             ],
             [
              0.5555555555555556,
              "#d8576b"
             ],
             [
              0.6666666666666666,
              "#ed7953"
             ],
             [
              0.7777777777777778,
              "#fb9f3a"
             ],
             [
              0.8888888888888888,
              "#fdca26"
             ],
             [
              1,
              "#f0f921"
             ]
            ],
            "type": "contour"
           }
          ],
          "contourcarpet": [
           {
            "colorbar": {
             "outlinewidth": 0,
             "ticks": ""
            },
            "type": "contourcarpet"
           }
          ],
          "heatmap": [
           {
            "colorbar": {
             "outlinewidth": 0,
             "ticks": ""
            },
            "colorscale": [
             [
              0,
              "#0d0887"
             ],
             [
              0.1111111111111111,
              "#46039f"
             ],
             [
              0.2222222222222222,
              "#7201a8"
             ],
             [
              0.3333333333333333,
              "#9c179e"
             ],
             [
              0.4444444444444444,
              "#bd3786"
             ],
             [
              0.5555555555555556,
              "#d8576b"
             ],
             [
              0.6666666666666666,
              "#ed7953"
             ],
             [
              0.7777777777777778,
              "#fb9f3a"
             ],
             [
              0.8888888888888888,
              "#fdca26"
             ],
             [
              1,
              "#f0f921"
             ]
            ],
            "type": "heatmap"
           }
          ],
          "heatmapgl": [
           {
            "colorbar": {
             "outlinewidth": 0,
             "ticks": ""
            },
            "colorscale": [
             [
              0,
              "#0d0887"
             ],
             [
              0.1111111111111111,
              "#46039f"
             ],
             [
              0.2222222222222222,
              "#7201a8"
             ],
             [
              0.3333333333333333,
              "#9c179e"
             ],
             [
              0.4444444444444444,
              "#bd3786"
             ],
             [
              0.5555555555555556,
              "#d8576b"
             ],
             [
              0.6666666666666666,
              "#ed7953"
             ],
             [
              0.7777777777777778,
              "#fb9f3a"
             ],
             [
              0.8888888888888888,
              "#fdca26"
             ],
             [
              1,
              "#f0f921"
             ]
            ],
            "type": "heatmapgl"
           }
          ],
          "histogram": [
           {
            "marker": {
             "colorbar": {
              "outlinewidth": 0,
              "ticks": ""
             }
            },
            "type": "histogram"
           }
          ],
          "histogram2d": [
           {
            "colorbar": {
             "outlinewidth": 0,
             "ticks": ""
            },
            "colorscale": [
             [
              0,
              "#0d0887"
             ],
             [
              0.1111111111111111,
              "#46039f"
             ],
             [
              0.2222222222222222,
              "#7201a8"
             ],
             [
              0.3333333333333333,
              "#9c179e"
             ],
             [
              0.4444444444444444,
              "#bd3786"
             ],
             [
              0.5555555555555556,
              "#d8576b"
             ],
             [
              0.6666666666666666,
              "#ed7953"
             ],
             [
              0.7777777777777778,
              "#fb9f3a"
             ],
             [
              0.8888888888888888,
              "#fdca26"
             ],
             [
              1,
              "#f0f921"
             ]
            ],
            "type": "histogram2d"
           }
          ],
          "histogram2dcontour": [
           {
            "colorbar": {
             "outlinewidth": 0,
             "ticks": ""
            },
            "colorscale": [
             [
              0,
              "#0d0887"
             ],
             [
              0.1111111111111111,
              "#46039f"
             ],
             [
              0.2222222222222222,
              "#7201a8"
             ],
             [
              0.3333333333333333,
              "#9c179e"
             ],
             [
              0.4444444444444444,
              "#bd3786"
             ],
             [
              0.5555555555555556,
              "#d8576b"
             ],
             [
              0.6666666666666666,
              "#ed7953"
             ],
             [
              0.7777777777777778,
              "#fb9f3a"
             ],
             [
              0.8888888888888888,
              "#fdca26"
             ],
             [
              1,
              "#f0f921"
             ]
            ],
            "type": "histogram2dcontour"
           }
          ],
          "mesh3d": [
           {
            "colorbar": {
             "outlinewidth": 0,
             "ticks": ""
            },
            "type": "mesh3d"
           }
          ],
          "parcoords": [
           {
            "line": {
             "colorbar": {
              "outlinewidth": 0,
              "ticks": ""
             }
            },
            "type": "parcoords"
           }
          ],
          "pie": [
           {
            "automargin": true,
            "type": "pie"
           }
          ],
          "scatter": [
           {
            "marker": {
             "colorbar": {
              "outlinewidth": 0,
              "ticks": ""
             }
            },
            "type": "scatter"
           }
          ],
          "scatter3d": [
           {
            "line": {
             "colorbar": {
              "outlinewidth": 0,
              "ticks": ""
             }
            },
            "marker": {
             "colorbar": {
              "outlinewidth": 0,
              "ticks": ""
             }
            },
            "type": "scatter3d"
           }
          ],
          "scattercarpet": [
           {
            "marker": {
             "colorbar": {
              "outlinewidth": 0,
              "ticks": ""
             }
            },
            "type": "scattercarpet"
           }
          ],
          "scattergeo": [
           {
            "marker": {
             "colorbar": {
              "outlinewidth": 0,
              "ticks": ""
             }
            },
            "type": "scattergeo"
           }
          ],
          "scattergl": [
           {
            "marker": {
             "colorbar": {
              "outlinewidth": 0,
              "ticks": ""
             }
            },
            "type": "scattergl"
           }
          ],
          "scattermapbox": [
           {
            "marker": {
             "colorbar": {
              "outlinewidth": 0,
              "ticks": ""
             }
            },
            "type": "scattermapbox"
           }
          ],
          "scatterpolar": [
           {
            "marker": {
             "colorbar": {
              "outlinewidth": 0,
              "ticks": ""
             }
            },
            "type": "scatterpolar"
           }
          ],
          "scatterpolargl": [
           {
            "marker": {
             "colorbar": {
              "outlinewidth": 0,
              "ticks": ""
             }
            },
            "type": "scatterpolargl"
           }
          ],
          "scatterternary": [
           {
            "marker": {
             "colorbar": {
              "outlinewidth": 0,
              "ticks": ""
             }
            },
            "type": "scatterternary"
           }
          ],
          "surface": [
           {
            "colorbar": {
             "outlinewidth": 0,
             "ticks": ""
            },
            "colorscale": [
             [
              0,
              "#0d0887"
             ],
             [
              0.1111111111111111,
              "#46039f"
             ],
             [
              0.2222222222222222,
              "#7201a8"
             ],
             [
              0.3333333333333333,
              "#9c179e"
             ],
             [
              0.4444444444444444,
              "#bd3786"
             ],
             [
              0.5555555555555556,
              "#d8576b"
             ],
             [
              0.6666666666666666,
              "#ed7953"
             ],
             [
              0.7777777777777778,
              "#fb9f3a"
             ],
             [
              0.8888888888888888,
              "#fdca26"
             ],
             [
              1,
              "#f0f921"
             ]
            ],
            "type": "surface"
           }
          ],
          "table": [
           {
            "cells": {
             "fill": {
              "color": "#EBF0F8"
             },
             "line": {
              "color": "white"
             }
            },
            "header": {
             "fill": {
              "color": "#C8D4E3"
             },
             "line": {
              "color": "white"
             }
            },
            "type": "table"
           }
          ]
         },
         "layout": {
          "annotationdefaults": {
           "arrowcolor": "#2a3f5f",
           "arrowhead": 0,
           "arrowwidth": 1
          },
          "coloraxis": {
           "colorbar": {
            "outlinewidth": 0,
            "ticks": ""
           }
          },
          "colorscale": {
           "diverging": [
            [
             0,
             "#8e0152"
            ],
            [
             0.1,
             "#c51b7d"
            ],
            [
             0.2,
             "#de77ae"
            ],
            [
             0.3,
             "#f1b6da"
            ],
            [
             0.4,
             "#fde0ef"
            ],
            [
             0.5,
             "#f7f7f7"
            ],
            [
             0.6,
             "#e6f5d0"
            ],
            [
             0.7,
             "#b8e186"
            ],
            [
             0.8,
             "#7fbc41"
            ],
            [
             0.9,
             "#4d9221"
            ],
            [
             1,
             "#276419"
            ]
           ],
           "sequential": [
            [
             0,
             "#0d0887"
            ],
            [
             0.1111111111111111,
             "#46039f"
            ],
            [
             0.2222222222222222,
             "#7201a8"
            ],
            [
             0.3333333333333333,
             "#9c179e"
            ],
            [
             0.4444444444444444,
             "#bd3786"
            ],
            [
             0.5555555555555556,
             "#d8576b"
            ],
            [
             0.6666666666666666,
             "#ed7953"
            ],
            [
             0.7777777777777778,
             "#fb9f3a"
            ],
            [
             0.8888888888888888,
             "#fdca26"
            ],
            [
             1,
             "#f0f921"
            ]
           ],
           "sequentialminus": [
            [
             0,
             "#0d0887"
            ],
            [
             0.1111111111111111,
             "#46039f"
            ],
            [
             0.2222222222222222,
             "#7201a8"
            ],
            [
             0.3333333333333333,
             "#9c179e"
            ],
            [
             0.4444444444444444,
             "#bd3786"
            ],
            [
             0.5555555555555556,
             "#d8576b"
            ],
            [
             0.6666666666666666,
             "#ed7953"
            ],
            [
             0.7777777777777778,
             "#fb9f3a"
            ],
            [
             0.8888888888888888,
             "#fdca26"
            ],
            [
             1,
             "#f0f921"
            ]
           ]
          },
          "colorway": [
           "#636efa",
           "#EF553B",
           "#00cc96",
           "#ab63fa",
           "#FFA15A",
           "#19d3f3",
           "#FF6692",
           "#B6E880",
           "#FF97FF",
           "#FECB52"
          ],
          "font": {
           "color": "#2a3f5f"
          },
          "geo": {
           "bgcolor": "white",
           "lakecolor": "white",
           "landcolor": "#E5ECF6",
           "showlakes": true,
           "showland": true,
           "subunitcolor": "white"
          },
          "hoverlabel": {
           "align": "left"
          },
          "hovermode": "closest",
          "mapbox": {
           "style": "light"
          },
          "paper_bgcolor": "white",
          "plot_bgcolor": "#E5ECF6",
          "polar": {
           "angularaxis": {
            "gridcolor": "white",
            "linecolor": "white",
            "ticks": ""
           },
           "bgcolor": "#E5ECF6",
           "radialaxis": {
            "gridcolor": "white",
            "linecolor": "white",
            "ticks": ""
           }
          },
          "scene": {
           "xaxis": {
            "backgroundcolor": "#E5ECF6",
            "gridcolor": "white",
            "gridwidth": 2,
            "linecolor": "white",
            "showbackground": true,
            "ticks": "",
            "zerolinecolor": "white"
           },
           "yaxis": {
            "backgroundcolor": "#E5ECF6",
            "gridcolor": "white",
            "gridwidth": 2,
            "linecolor": "white",
            "showbackground": true,
            "ticks": "",
            "zerolinecolor": "white"
           },
           "zaxis": {
            "backgroundcolor": "#E5ECF6",
            "gridcolor": "white",
            "gridwidth": 2,
            "linecolor": "white",
            "showbackground": true,
            "ticks": "",
            "zerolinecolor": "white"
           }
          },
          "shapedefaults": {
           "line": {
            "color": "#2a3f5f"
           }
          },
          "ternary": {
           "aaxis": {
            "gridcolor": "white",
            "linecolor": "white",
            "ticks": ""
           },
           "baxis": {
            "gridcolor": "white",
            "linecolor": "white",
            "ticks": ""
           },
           "bgcolor": "#E5ECF6",
           "caxis": {
            "gridcolor": "white",
            "linecolor": "white",
            "ticks": ""
           }
          },
          "title": {
           "x": 0.05
          },
          "xaxis": {
           "automargin": true,
           "gridcolor": "white",
           "linecolor": "white",
           "ticks": "",
           "title": {
            "standoff": 15
           },
           "zerolinecolor": "white",
           "zerolinewidth": 2
          },
          "yaxis": {
           "automargin": true,
           "gridcolor": "white",
           "linecolor": "white",
           "ticks": "",
           "title": {
            "standoff": 15
           },
           "zerolinecolor": "white",
           "zerolinewidth": 2
          }
         }
        },
        "title": {
         "text": "Vessel planning"
        },
        "xaxis": {
         "range": [
          "1970-01-01T00:00:00",
          "1970-01-01T00:12:10"
         ],
         "title": {
          "font": {
           "color": "#7f7f7f",
           "family": "Courier New, monospace",
           "size": 18
          },
          "text": "Time"
         }
        },
        "yaxis": {
         "title": {
          "font": {
           "color": "#7f7f7f",
           "family": "Courier New, monospace",
           "size": 18
          },
          "text": "Vessels"
         }
        }
       }
      },
      "text/html": [
       "<div>                            <div id=\"0f047e54-1344-4769-b654-5825f8733e19\" class=\"plotly-graph-div\" style=\"height:525px; width:100%;\"></div>            <script type=\"text/javascript\">                require([\"plotly\"], function(Plotly) {                    window.PLOTLYENV=window.PLOTLYENV || {};                                    if (document.getElementById(\"0f047e54-1344-4769-b654-5825f8733e19\")) {                    Plotly.newPlot(                        \"0f047e54-1344-4769-b654-5825f8733e19\",                        [{\"connectgaps\": false, \"hoverinfo\": \"y+name\", \"line\": {\"color\": \"rgb(127,249,113)\", \"width\": 10}, \"mode\": \"lines\", \"name\": \"A Sequential process\", \"type\": \"scatter\", \"x\": [\"1970-01-01T00:00:00\", \"1970-01-01T00:00:00\", \"1970-01-01T00:00:14\", \"1970-01-01T00:00:14\", \"1970-01-01T00:00:14\", \"1970-01-01T00:00:14\", \"1970-01-01T00:00:14\", \"1970-01-01T00:00:24\", \"1970-01-01T00:00:24\", \"1970-01-01T00:00:24\", \"1970-01-01T00:00:24\", \"1970-01-01T00:00:24\", \"1970-01-01T00:12:10\", \"1970-01-01T00:12:10\", \"1970-01-01T00:12:10\", \"1970-01-01T00:00:24\", \"1970-01-01T00:00:24\", \"1970-01-01T00:12:10\", \"1970-01-01T00:12:10\", \"1970-01-01T00:12:10\"], \"y\": [\"A Sequential process\", \"A Sequential process\", \"A Sequential process\", \"A Sequential process\", null, \"A Sequential process\", \"A Sequential process\", \"A Sequential process\", \"A Sequential process\", null, \"A Sequential process\", \"A Sequential process\", \"A Sequential process\", \"A Sequential process\", null, \"A Sequential process\", \"A Sequential process\", \"A Sequential process\", \"A Sequential process\", null]}, {\"connectgaps\": false, \"hoverinfo\": \"y+name\", \"line\": {\"color\": \"rgb(159,25,145)\", \"width\": 10}, \"mode\": \"lines\", \"name\": \"A Basic activity1\", \"type\": \"scatter\", \"x\": [\"1970-01-01T00:00:00\", \"1970-01-01T00:00:00\", \"1970-01-01T00:00:14\", \"1970-01-01T00:00:14\", \"1970-01-01T00:00:14\"], \"y\": [\"A Basic activity1\", \"A Basic activity1\", \"A Basic activity1\", \"A Basic activity1\", null]}, {\"connectgaps\": false, \"hoverinfo\": \"y+name\", \"line\": {\"color\": \"rgb(191,57,177)\", \"width\": 10}, \"mode\": \"lines\", \"name\": \"A Basic activity2\", \"type\": \"scatter\", \"x\": [\"1970-01-01T00:00:14\", \"1970-01-01T00:00:14\", \"1970-01-01T00:00:24\", \"1970-01-01T00:00:24\", \"1970-01-01T00:00:24\"], \"y\": [\"A Basic activity2\", \"A Basic activity2\", \"A Basic activity2\", \"A Basic activity2\", null]}, {\"connectgaps\": false, \"hoverinfo\": \"y+name\", \"line\": {\"color\": \"rgb(223,89,209)\", \"width\": 10}, \"mode\": \"lines\", \"name\": \"A Basic activity3\", \"type\": \"scatter\", \"x\": [\"1970-01-01T00:08:30\", \"1970-01-01T00:08:30\", \"1970-01-01T00:12:10\", \"1970-01-01T00:12:10\", \"1970-01-01T00:12:10\"], \"y\": [\"A Basic activity3\", \"A Basic activity3\", \"A Basic activity3\", \"A Basic activity3\", null]}, {\"connectgaps\": false, \"hoverinfo\": \"y+name\", \"line\": {\"color\": \"rgb(255,121,241)\", \"width\": 10}, \"mode\": \"lines\", \"name\": \"B Sequential process\", \"type\": \"scatter\", \"x\": [\"1970-01-01T00:00:00\", \"1970-01-01T00:00:00\", \"1970-01-01T00:00:10\", \"1970-01-01T00:00:10\", \"1970-01-01T00:00:10\", \"1970-01-01T00:00:10\", \"1970-01-01T00:00:10\", \"1970-01-01T00:08:30\", \"1970-01-01T00:08:30\", \"1970-01-01T00:08:30\", \"1970-01-01T00:08:30\", \"1970-01-01T00:08:30\", \"1970-01-01T00:10:30\", \"1970-01-01T00:10:30\", \"1970-01-01T00:10:30\", \"1970-01-01T00:08:30\", \"1970-01-01T00:08:30\", \"1970-01-01T00:10:30\", \"1970-01-01T00:10:30\", \"1970-01-01T00:10:30\"], \"y\": [\"B Sequential process\", \"B Sequential process\", \"B Sequential process\", \"B Sequential process\", null, \"B Sequential process\", \"B Sequential process\", \"B Sequential process\", \"B Sequential process\", null, \"B Sequential process\", \"B Sequential process\", \"B Sequential process\", \"B Sequential process\", null, \"B Sequential process\", \"B Sequential process\", \"B Sequential process\", \"B Sequential process\", null]}, {\"connectgaps\": false, \"hoverinfo\": \"y+name\", \"line\": {\"color\": \"rgb(31,153,17)\", \"width\": 10}, \"mode\": \"lines\", \"name\": \"B Basic activity1\", \"type\": \"scatter\", \"x\": [\"1970-01-01T00:00:00\", \"1970-01-01T00:00:00\", \"1970-01-01T00:00:10\", \"1970-01-01T00:00:10\", \"1970-01-01T00:00:10\"], \"y\": [\"B Basic activity1\", \"B Basic activity1\", \"B Basic activity1\", \"B Basic activity1\", null]}, {\"connectgaps\": false, \"hoverinfo\": \"y+name\", \"line\": {\"color\": \"rgb(63,185,49)\", \"width\": 10}, \"mode\": \"lines\", \"name\": \"B Basic activity2\", \"type\": \"scatter\", \"x\": [\"1970-01-01T00:00:10\", \"1970-01-01T00:00:10\", \"1970-01-01T00:08:30\", \"1970-01-01T00:08:30\", \"1970-01-01T00:08:30\"], \"y\": [\"B Basic activity2\", \"B Basic activity2\", \"B Basic activity2\", \"B Basic activity2\", null]}, {\"connectgaps\": false, \"hoverinfo\": \"y+name\", \"line\": {\"color\": \"rgb(95,217,81)\", \"width\": 10}, \"mode\": \"lines\", \"name\": \"B Basic activity3\", \"type\": \"scatter\", \"x\": [\"1970-01-01T00:08:30\", \"1970-01-01T00:08:30\", \"1970-01-01T00:10:30\", \"1970-01-01T00:10:30\", \"1970-01-01T00:10:30\"], \"y\": [\"B Basic activity3\", \"B Basic activity3\", \"B Basic activity3\", \"B Basic activity3\", null]}],                        {\"hovermode\": \"closest\", \"legend\": {\"orientation\": \"h\", \"x\": 0, \"y\": -0.2}, \"template\": {\"data\": {\"bar\": [{\"error_x\": {\"color\": \"#2a3f5f\"}, \"error_y\": {\"color\": \"#2a3f5f\"}, \"marker\": {\"line\": {\"color\": \"#E5ECF6\", \"width\": 0.5}}, \"type\": \"bar\"}], \"barpolar\": [{\"marker\": {\"line\": {\"color\": \"#E5ECF6\", \"width\": 0.5}}, \"type\": \"barpolar\"}], \"carpet\": [{\"aaxis\": {\"endlinecolor\": \"#2a3f5f\", \"gridcolor\": \"white\", \"linecolor\": \"white\", \"minorgridcolor\": \"white\", \"startlinecolor\": \"#2a3f5f\"}, \"baxis\": {\"endlinecolor\": \"#2a3f5f\", \"gridcolor\": \"white\", \"linecolor\": \"white\", \"minorgridcolor\": \"white\", \"startlinecolor\": \"#2a3f5f\"}, \"type\": \"carpet\"}], \"choropleth\": [{\"colorbar\": {\"outlinewidth\": 0, \"ticks\": \"\"}, \"type\": \"choropleth\"}], \"contour\": [{\"colorbar\": {\"outlinewidth\": 0, \"ticks\": \"\"}, \"colorscale\": [[0.0, \"#0d0887\"], [0.1111111111111111, \"#46039f\"], [0.2222222222222222, \"#7201a8\"], [0.3333333333333333, \"#9c179e\"], [0.4444444444444444, \"#bd3786\"], [0.5555555555555556, \"#d8576b\"], [0.6666666666666666, \"#ed7953\"], [0.7777777777777778, \"#fb9f3a\"], [0.8888888888888888, \"#fdca26\"], [1.0, \"#f0f921\"]], \"type\": \"contour\"}], \"contourcarpet\": [{\"colorbar\": {\"outlinewidth\": 0, \"ticks\": \"\"}, \"type\": \"contourcarpet\"}], \"heatmap\": [{\"colorbar\": {\"outlinewidth\": 0, \"ticks\": \"\"}, \"colorscale\": [[0.0, \"#0d0887\"], [0.1111111111111111, \"#46039f\"], [0.2222222222222222, \"#7201a8\"], [0.3333333333333333, \"#9c179e\"], [0.4444444444444444, \"#bd3786\"], [0.5555555555555556, \"#d8576b\"], [0.6666666666666666, \"#ed7953\"], [0.7777777777777778, \"#fb9f3a\"], [0.8888888888888888, \"#fdca26\"], [1.0, \"#f0f921\"]], \"type\": \"heatmap\"}], \"heatmapgl\": [{\"colorbar\": {\"outlinewidth\": 0, \"ticks\": \"\"}, \"colorscale\": [[0.0, \"#0d0887\"], [0.1111111111111111, \"#46039f\"], [0.2222222222222222, \"#7201a8\"], [0.3333333333333333, \"#9c179e\"], [0.4444444444444444, \"#bd3786\"], [0.5555555555555556, \"#d8576b\"], [0.6666666666666666, \"#ed7953\"], [0.7777777777777778, \"#fb9f3a\"], [0.8888888888888888, \"#fdca26\"], [1.0, \"#f0f921\"]], \"type\": \"heatmapgl\"}], \"histogram\": [{\"marker\": {\"colorbar\": {\"outlinewidth\": 0, \"ticks\": \"\"}}, \"type\": \"histogram\"}], \"histogram2d\": [{\"colorbar\": {\"outlinewidth\": 0, \"ticks\": \"\"}, \"colorscale\": [[0.0, \"#0d0887\"], [0.1111111111111111, \"#46039f\"], [0.2222222222222222, \"#7201a8\"], [0.3333333333333333, \"#9c179e\"], [0.4444444444444444, \"#bd3786\"], [0.5555555555555556, \"#d8576b\"], [0.6666666666666666, \"#ed7953\"], [0.7777777777777778, \"#fb9f3a\"], [0.8888888888888888, \"#fdca26\"], [1.0, \"#f0f921\"]], \"type\": \"histogram2d\"}], \"histogram2dcontour\": [{\"colorbar\": {\"outlinewidth\": 0, \"ticks\": \"\"}, \"colorscale\": [[0.0, \"#0d0887\"], [0.1111111111111111, \"#46039f\"], [0.2222222222222222, \"#7201a8\"], [0.3333333333333333, \"#9c179e\"], [0.4444444444444444, \"#bd3786\"], [0.5555555555555556, \"#d8576b\"], [0.6666666666666666, \"#ed7953\"], [0.7777777777777778, \"#fb9f3a\"], [0.8888888888888888, \"#fdca26\"], [1.0, \"#f0f921\"]], \"type\": \"histogram2dcontour\"}], \"mesh3d\": [{\"colorbar\": {\"outlinewidth\": 0, \"ticks\": \"\"}, \"type\": \"mesh3d\"}], \"parcoords\": [{\"line\": {\"colorbar\": {\"outlinewidth\": 0, \"ticks\": \"\"}}, \"type\": \"parcoords\"}], \"pie\": [{\"automargin\": true, \"type\": \"pie\"}], \"scatter\": [{\"marker\": {\"colorbar\": {\"outlinewidth\": 0, \"ticks\": \"\"}}, \"type\": \"scatter\"}], \"scatter3d\": [{\"line\": {\"colorbar\": {\"outlinewidth\": 0, \"ticks\": \"\"}}, \"marker\": {\"colorbar\": {\"outlinewidth\": 0, \"ticks\": \"\"}}, \"type\": \"scatter3d\"}], \"scattercarpet\": [{\"marker\": {\"colorbar\": {\"outlinewidth\": 0, \"ticks\": \"\"}}, \"type\": \"scattercarpet\"}], \"scattergeo\": [{\"marker\": {\"colorbar\": {\"outlinewidth\": 0, \"ticks\": \"\"}}, \"type\": \"scattergeo\"}], \"scattergl\": [{\"marker\": {\"colorbar\": {\"outlinewidth\": 0, \"ticks\": \"\"}}, \"type\": \"scattergl\"}], \"scattermapbox\": [{\"marker\": {\"colorbar\": {\"outlinewidth\": 0, \"ticks\": \"\"}}, \"type\": \"scattermapbox\"}], \"scatterpolar\": [{\"marker\": {\"colorbar\": {\"outlinewidth\": 0, \"ticks\": \"\"}}, \"type\": \"scatterpolar\"}], \"scatterpolargl\": [{\"marker\": {\"colorbar\": {\"outlinewidth\": 0, \"ticks\": \"\"}}, \"type\": \"scatterpolargl\"}], \"scatterternary\": [{\"marker\": {\"colorbar\": {\"outlinewidth\": 0, \"ticks\": \"\"}}, \"type\": \"scatterternary\"}], \"surface\": [{\"colorbar\": {\"outlinewidth\": 0, \"ticks\": \"\"}, \"colorscale\": [[0.0, \"#0d0887\"], [0.1111111111111111, \"#46039f\"], [0.2222222222222222, \"#7201a8\"], [0.3333333333333333, \"#9c179e\"], [0.4444444444444444, \"#bd3786\"], [0.5555555555555556, \"#d8576b\"], [0.6666666666666666, \"#ed7953\"], [0.7777777777777778, \"#fb9f3a\"], [0.8888888888888888, \"#fdca26\"], [1.0, \"#f0f921\"]], \"type\": \"surface\"}], \"table\": [{\"cells\": {\"fill\": {\"color\": \"#EBF0F8\"}, \"line\": {\"color\": \"white\"}}, \"header\": {\"fill\": {\"color\": \"#C8D4E3\"}, \"line\": {\"color\": \"white\"}}, \"type\": \"table\"}]}, \"layout\": {\"annotationdefaults\": {\"arrowcolor\": \"#2a3f5f\", \"arrowhead\": 0, \"arrowwidth\": 1}, \"coloraxis\": {\"colorbar\": {\"outlinewidth\": 0, \"ticks\": \"\"}}, \"colorscale\": {\"diverging\": [[0, \"#8e0152\"], [0.1, \"#c51b7d\"], [0.2, \"#de77ae\"], [0.3, \"#f1b6da\"], [0.4, \"#fde0ef\"], [0.5, \"#f7f7f7\"], [0.6, \"#e6f5d0\"], [0.7, \"#b8e186\"], [0.8, \"#7fbc41\"], [0.9, \"#4d9221\"], [1, \"#276419\"]], \"sequential\": [[0.0, \"#0d0887\"], [0.1111111111111111, \"#46039f\"], [0.2222222222222222, \"#7201a8\"], [0.3333333333333333, \"#9c179e\"], [0.4444444444444444, \"#bd3786\"], [0.5555555555555556, \"#d8576b\"], [0.6666666666666666, \"#ed7953\"], [0.7777777777777778, \"#fb9f3a\"], [0.8888888888888888, \"#fdca26\"], [1.0, \"#f0f921\"]], \"sequentialminus\": [[0.0, \"#0d0887\"], [0.1111111111111111, \"#46039f\"], [0.2222222222222222, \"#7201a8\"], [0.3333333333333333, \"#9c179e\"], [0.4444444444444444, \"#bd3786\"], [0.5555555555555556, \"#d8576b\"], [0.6666666666666666, \"#ed7953\"], [0.7777777777777778, \"#fb9f3a\"], [0.8888888888888888, \"#fdca26\"], [1.0, \"#f0f921\"]]}, \"colorway\": [\"#636efa\", \"#EF553B\", \"#00cc96\", \"#ab63fa\", \"#FFA15A\", \"#19d3f3\", \"#FF6692\", \"#B6E880\", \"#FF97FF\", \"#FECB52\"], \"font\": {\"color\": \"#2a3f5f\"}, \"geo\": {\"bgcolor\": \"white\", \"lakecolor\": \"white\", \"landcolor\": \"#E5ECF6\", \"showlakes\": true, \"showland\": true, \"subunitcolor\": \"white\"}, \"hoverlabel\": {\"align\": \"left\"}, \"hovermode\": \"closest\", \"mapbox\": {\"style\": \"light\"}, \"paper_bgcolor\": \"white\", \"plot_bgcolor\": \"#E5ECF6\", \"polar\": {\"angularaxis\": {\"gridcolor\": \"white\", \"linecolor\": \"white\", \"ticks\": \"\"}, \"bgcolor\": \"#E5ECF6\", \"radialaxis\": {\"gridcolor\": \"white\", \"linecolor\": \"white\", \"ticks\": \"\"}}, \"scene\": {\"xaxis\": {\"backgroundcolor\": \"#E5ECF6\", \"gridcolor\": \"white\", \"gridwidth\": 2, \"linecolor\": \"white\", \"showbackground\": true, \"ticks\": \"\", \"zerolinecolor\": \"white\"}, \"yaxis\": {\"backgroundcolor\": \"#E5ECF6\", \"gridcolor\": \"white\", \"gridwidth\": 2, \"linecolor\": \"white\", \"showbackground\": true, \"ticks\": \"\", \"zerolinecolor\": \"white\"}, \"zaxis\": {\"backgroundcolor\": \"#E5ECF6\", \"gridcolor\": \"white\", \"gridwidth\": 2, \"linecolor\": \"white\", \"showbackground\": true, \"ticks\": \"\", \"zerolinecolor\": \"white\"}}, \"shapedefaults\": {\"line\": {\"color\": \"#2a3f5f\"}}, \"ternary\": {\"aaxis\": {\"gridcolor\": \"white\", \"linecolor\": \"white\", \"ticks\": \"\"}, \"baxis\": {\"gridcolor\": \"white\", \"linecolor\": \"white\", \"ticks\": \"\"}, \"bgcolor\": \"#E5ECF6\", \"caxis\": {\"gridcolor\": \"white\", \"linecolor\": \"white\", \"ticks\": \"\"}}, \"title\": {\"x\": 0.05}, \"xaxis\": {\"automargin\": true, \"gridcolor\": \"white\", \"linecolor\": \"white\", \"ticks\": \"\", \"title\": {\"standoff\": 15}, \"zerolinecolor\": \"white\", \"zerolinewidth\": 2}, \"yaxis\": {\"automargin\": true, \"gridcolor\": \"white\", \"linecolor\": \"white\", \"ticks\": \"\", \"title\": {\"standoff\": 15}, \"zerolinecolor\": \"white\", \"zerolinewidth\": 2}}}, \"title\": {\"text\": \"Vessel planning\"}, \"xaxis\": {\"range\": [\"1970-01-01T00:00:00\", \"1970-01-01T00:12:10\"], \"title\": {\"font\": {\"color\": \"#7f7f7f\", \"family\": \"Courier New, monospace\", \"size\": 18}, \"text\": \"Time\"}}, \"yaxis\": {\"title\": {\"font\": {\"color\": \"#7f7f7f\", \"family\": \"Courier New, monospace\", \"size\": 18}, \"text\": \"Vessels\"}}},                        {\"responsive\": true}                    ).then(function(){\n",
       "                            \n",
       "var gd = document.getElementById('0f047e54-1344-4769-b654-5825f8733e19');\n",
       "var x = new MutationObserver(function (mutations, observer) {{\n",
       "        var display = window.getComputedStyle(gd).display;\n",
       "        if (!display || display === 'none') {{\n",
       "            console.log([gd, 'removed!']);\n",
       "            Plotly.purge(gd);\n",
       "            observer.disconnect();\n",
       "        }}\n",
       "}});\n",
       "\n",
       "// Listen for the removal of the full notebook cells\n",
       "var notebookContainer = gd.closest('#notebook-container');\n",
       "if (notebookContainer) {{\n",
       "    x.observe(notebookContainer, {childList: true});\n",
       "}}\n",
       "\n",
       "// Listen for the clearing of the current output cell\n",
       "var outputEl = gd.closest('.output');\n",
       "if (outputEl) {{\n",
       "    x.observe(outputEl, {childList: true});\n",
       "}}\n",
       "\n",
       "                        })                };                });            </script>        </div>"
      ]
     },
     "metadata": {},
     "output_type": "display_data"
    }
   ],
   "source": [
    "plot.vessel_planning([*model.get_subprocesses(sequential_activity_A), *model.get_subprocesses(sequential_activity_B)])"
   ]
  },
  {
   "cell_type": "markdown",
   "metadata": {},
   "source": [
    "Both processes start at the same time. *A Basic activity3* enters waiting state since *A Basic activity2* has not been completed yet.\n",
    "\n",
    "**Hint:** Having a start_event based on the last activity of a sequence is currently not working. If the constraint is made based on the end of the parent sequence, then the intended synchronization can be accomplished.\n",
    "\n",
    "When changing the duration of *A Basic activity2* to 1000 then there will be no waiting since the *A Basic activity2* completes after *B Basic activity2* has been completed. "
   ]
  },
  {
   "cell_type": "markdown",
   "metadata": {},
   "source": [
    "##### 5.3 Visualise container volume developments\n",
    "Since there are no objects with containers, in this example, there is nothing to visualise."
   ]
  }
 ],
 "metadata": {
  "kernelspec": {
   "display_name": "Python 3",
   "language": "python",
   "name": "python3"
  },
  "language_info": {
   "codemirror_mode": {
    "name": "ipython",
    "version": 3
   },
   "file_extension": ".py",
   "mimetype": "text/x-python",
   "name": "python",
   "nbconvert_exporter": "python",
   "pygments_lexer": "ipython3",
   "version": "3.8.6"
  }
 },
 "nbformat": 4,
 "nbformat_minor": 2
}
