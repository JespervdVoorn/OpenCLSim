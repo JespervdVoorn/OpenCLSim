{
 "cells": [
  {
   "cell_type": "markdown",
   "metadata": {},
   "source": [
    "## feeder concept\n",
    "\n",
    "This notebook shows how to implement a basic feeder concept. This scenario has two vessels:\n",
    "* __transporter01__: a vessel that transports the material from __from_site__, the source of the cargo, to __to_site__, the site where the cargo should be installed, and\n",
    "* __installer01__: a vessel that waits at the installation site for material and installs it.\n",
    "\n",
    "Thus, we also need two processes - one for each vessel. In this notebook the hand over of cargo is done from the __transporter01__ to __installer01__.\n",
    "\n",
    "NB1: in this example there are two types of cargo: Cargo_1 and Cargo_2. This means that the vessels and sites have to have multistore containers that can contain these different cargos. \n",
    "\n",
    "NB2: For now we only implemented the transport and installation process for Cargo_1. In fact only a quantity of one is shifted each cycle. An example of sequential execution of two types fo cargo transfer is found in in the next example. "
   ]
  },
  {
   "cell_type": "markdown",
   "metadata": {},
   "source": [
    "#### 0. Import libraries"
   ]
  },
  {
   "cell_type": "code",
   "execution_count": 1,
   "metadata": {},
   "outputs": [],
   "source": [
    "import datetime, time\n",
    "import simpy\n",
    "\n",
    "import shapely.geometry\n",
    "import pandas as pd\n",
    "\n",
    "import openclsim.core as core\n",
    "import openclsim.model as model\n",
    "import openclsim.plot as plot"
   ]
  },
  {
   "cell_type": "markdown",
   "metadata": {},
   "source": [
    "#### 1. Initialise simpy environment"
   ]
  },
  {
   "cell_type": "code",
   "execution_count": 2,
   "metadata": {},
   "outputs": [],
   "source": [
    "# setup environment\n",
    "simulation_start = 0\n",
    "my_env = simpy.Environment(initial_time=simulation_start)"
   ]
  },
  {
   "cell_type": "markdown",
   "metadata": {},
   "source": [
    "#### 2. Define object classes"
   ]
  },
  {
   "cell_type": "code",
   "execution_count": 3,
   "metadata": {},
   "outputs": [],
   "source": [
    "# create a Site object based on desired mixin classes\n",
    "Site = type(\n",
    "    \"Site\",\n",
    "    (\n",
    "        core.Identifiable,\n",
    "        core.Log,\n",
    "        core.Locatable,\n",
    "        core.HasMultiContainer,\n",
    "        core.HasResource,\n",
    "    ),\n",
    "    {},\n",
    ")\n",
    "\n",
    "# create a TransportProcessingResource object based on desired mixin classes\n",
    "TransportProcessingResource = type(\n",
    "    \"TransportProcessingResource\",\n",
    "    (\n",
    "        core.MultiContainerDependentMovable,\n",
    "        core.Processor,\n",
    "        core.HasResource,\n",
    "        core.LoadingFunction,\n",
    "        core.UnloadingFunction,\n",
    "        core.Identifiable,\n",
    "        core.Log,\n",
    "    ),\n",
    "    {\"key\": \"MultiStoreHopper\"},\n",
    ")"
   ]
  },
  {
   "cell_type": "markdown",
   "metadata": {},
   "source": [
    "#### 3. Create objects\n",
    "##### 3.1. Create site object(s)"
   ]
  },
  {
   "cell_type": "code",
   "execution_count": 4,
   "metadata": {},
   "outputs": [],
   "source": [
    "# prepare input data for from_site\n",
    "location_from_site = shapely.geometry.Point(4.18055556, 52.18664444)\n",
    "data_from_site = {\"env\": my_env,\n",
    "                  \"name\": \"from_site\",\n",
    "                  \"geometry\": location_from_site,\n",
    "                  \"store_capacity\": 4,\n",
    "                  \"initials\": [\n",
    "                               {\"id\": \"Cargo_1\", \"level\": 5, \"capacity\": 10},\n",
    "                               {\"id\": \"Cargo_2\", \"level\": 5, \"capacity\": 10},\n",
    "                              ]\n",
    "                 }\n",
    "# instantiate from_site \n",
    "from_site = Site(**data_from_site)\n",
    "\n",
    "# prepare input data for to_site\n",
    "location_to_site = shapely.geometry.Point(4.25222222, 52.11428333)\n",
    "data_to_site = {\"env\": my_env,\n",
    "                \"name\": \"to_site\",\n",
    "                \"geometry\": location_to_site,\n",
    "                \"store_capacity\": 4,\n",
    "                \"initials\": [\n",
    "                            {\"id\": \"Cargo_1\", \"level\": 0, \"capacity\": 5},\n",
    "                            {\"id\": \"Cargo_2\", \"level\": 0, \"capacity\": 5},\n",
    "                           ]\n",
    "               }\n",
    "\n",
    "# instantiate to_site \n",
    "to_site = Site(**data_to_site)"
   ]
  },
  {
   "cell_type": "markdown",
   "metadata": {},
   "source": [
    "##### 3.2. Create vessel object(s)"
   ]
  },
  {
   "cell_type": "code",
   "execution_count": 5,
   "metadata": {},
   "outputs": [],
   "source": [
    "# prepare input data for transporter01\n",
    "data_transporter01 = {\"env\": my_env,\n",
    "                      \"name\": \"transporter01\",\n",
    "                      \"geometry\": location_from_site, \n",
    "                      \"loading_rate\": 1,\n",
    "                      \"unloading_rate\": 1,\n",
    "                      \"store_capacity\": 4,\n",
    "                      \"compute_v\": lambda x: 10,\n",
    "                      \"initials\": [\n",
    "                                   {\"id\": \"Cargo_1\", \"level\": 0, \"capacity\": 2},\n",
    "                                   {\"id\": \"Cargo_2\", \"level\": 0, \"capacity\": 2},\n",
    "                                  ],\n",
    "                     }\n",
    "# instantiate transporter01 \n",
    "transporter01 = TransportProcessingResource(**data_transporter01)\n",
    "\n",
    "# prepare input data for installer01\n",
    "data_installer01 = {\"env\": my_env,\n",
    "                    \"name\": \"installer01\",\n",
    "                    \"geometry\": location_from_site, \n",
    "                    \"loading_rate\": 1,\n",
    "                    \"unloading_rate\": 1,\n",
    "                    \"store_capacity\": 4,\n",
    "                    \"compute_v\": lambda x: 10,\n",
    "                    \"initials\": [\n",
    "                                 {\"id\": \"Cargo_1\", \"level\": 0, \"capacity\": 1},\n",
    "                                 {\"id\": \"Cargo_2\", \"level\": 0, \"capacity\": 1},\n",
    "                                ],\n",
    "                   }\n",
    "# instantiate installer01 \n",
    "installer01 = TransportProcessingResource(**data_installer01)"
   ]
  },
  {
   "cell_type": "markdown",
   "metadata": {},
   "source": [
    "##### 3.3 Create activity/activities"
   ]
  },
  {
   "cell_type": "code",
   "execution_count": 6,
   "metadata": {},
   "outputs": [],
   "source": [
    "# initialise registry\n",
    "registry = {}"
   ]
  },
  {
   "cell_type": "markdown",
   "metadata": {},
   "source": [
    "###### 3.3.1 Create transporter activity"
   ]
  },
  {
   "cell_type": "code",
   "execution_count": 7,
   "metadata": {},
   "outputs": [],
   "source": [
    "# create a list of the sub processes: transport to installation site\n",
    "sub_processes =[\n",
    "    model.MoveActivity(\n",
    "        env=my_env,\n",
    "        name=\"sailing empty\",\n",
    "        registry=registry,\n",
    "        mover=transporter01,\n",
    "        destination=from_site,\n",
    "    ),\n",
    "    model.ShiftAmountActivity(\n",
    "        env=my_env,\n",
    "        name=\"loading Cargo_1\",\n",
    "        registry=registry,\n",
    "        processor=transporter01,\n",
    "        origin=from_site,\n",
    "        destination=transporter01,\n",
    "        amount=1,\n",
    "        duration=120,\n",
    "        id_=\"Cargo_1\",\n",
    "    ),\n",
    "    model.MoveActivity(\n",
    "        env=my_env,\n",
    "        name=\"sailing filled\",\n",
    "        registry=registry,\n",
    "        mover=transporter01,\n",
    "        destination=to_site,\n",
    "    ),\n",
    "    model.ShiftAmountActivity(\n",
    "        env=my_env,\n",
    "        name=\"transfer Cargo_1\",\n",
    "        registry=registry,\n",
    "        processor=installer01,\n",
    "        origin=transporter01,\n",
    "        destination=installer01,\n",
    "        amount=1,\n",
    "        duration=120,\n",
    "        id_=\"Cargo_1\",\n",
    "        start_event=[{\"type\": \"activity\", \"name\": \"preparing for delivery\", \"state\": \"done\",}],\n",
    "    ),\n",
    "]\n",
    "\n",
    "# create a 'sequential activity' that is made up of the 'sub_processes'\n",
    "sequential_activity = model.SequentialActivity(\n",
    "    env=my_env,\n",
    "    name=\"sequential_activity_transport_subcycle\",\n",
    "    registry=registry,\n",
    "    sub_processes=sub_processes,\n",
    ")    \n",
    "\n",
    "# create a while activity that executes the 'sequential activity' while the stop condition is not triggered \n",
    "transport_activity = model.WhileActivity(\n",
    "    env=my_env,\n",
    "    name=\"Transporter01 move process\",\n",
    "    registry=registry,\n",
    "    sub_processes=[sequential_activity],\n",
    "    condition_event=[{\"type\": \"container\", \"concept\": from_site, \"state\": \"empty\", \"id_\": \"Cargo_1\"}],\n",
    ")"
   ]
  },
  {
   "cell_type": "markdown",
   "metadata": {},
   "source": [
    "###### 3.3.2 Create installer activity (first move, then install)"
   ]
  },
  {
   "cell_type": "code",
   "execution_count": 8,
   "metadata": {},
   "outputs": [],
   "source": [
    "# create a list of the sub processes: in field installation\n",
    "sub_processes =[\n",
    "    model.BasicActivity(\n",
    "        env=my_env,\n",
    "        name=\"preparing for delivery\",\n",
    "        registry=registry,\n",
    "        duration=30,\n",
    "        additional_logs=[installer01],\n",
    "    ),\n",
    "    model.BasicActivity(\n",
    "        env=my_env,\n",
    "        name=\"preparing for unloading\",\n",
    "        registry=registry,\n",
    "        duration=60,\n",
    "        additional_logs=[installer01],\n",
    "        start_event=[\n",
    "            {\"type\": \"activity\", \"name\": \"sequential_activity_transport_subcycle\", \"state\": \"done\"}\n",
    "        ],\n",
    "    ),\n",
    "    model.ShiftAmountActivity(\n",
    "        env=my_env,\n",
    "        name=\"unload Cargo_1\",\n",
    "        registry=registry,\n",
    "        processor=installer01,\n",
    "        origin=installer01,\n",
    "        destination=to_site,\n",
    "        amount=1,\n",
    "        duration=120,\n",
    "        id_=\"Cargo_1\",\n",
    "    ),\n",
    "]\n",
    "\n",
    "# create a 'sequential activity' that is made up of the 'sub_processes'\n",
    "installer_shift_sequential_activity = model.SequentialActivity(\n",
    "    env=my_env,\n",
    "    name=\"Installer01 installation process\",\n",
    "    registry=registry,\n",
    "    sub_processes=sub_processes,\n",
    ")"
   ]
  },
  {
   "cell_type": "code",
   "execution_count": 9,
   "metadata": {},
   "outputs": [],
   "source": [
    "# create a list of the sub processes: in field installation\n",
    "sub_processes = [\n",
    "    model.MoveActivity(\n",
    "        env=my_env,\n",
    "        name=\"sailing to site\",\n",
    "        registry=registry,\n",
    "        mover=installer01,\n",
    "        destination=to_site,\n",
    "    ),\n",
    "    model.WhileActivity(\n",
    "        env=my_env,\n",
    "        name=\"installer run while\",\n",
    "        registry=registry,\n",
    "        sub_processes=[installer_shift_sequential_activity],\n",
    "        condition_event=[\n",
    "            {\"type\": \"container\", \"concept\": to_site, \"state\": \"full\", \"id_\": \"Cargo_1\"}\n",
    "        ],\n",
    "    ),\n",
    "]\n",
    "\n",
    "installer_move_sequential_activity = model.SequentialActivity(\n",
    "    env=my_env,\n",
    "    name=\"Installer01 move process\",\n",
    "    registry=registry,\n",
    "    sub_processes=sub_processes,\n",
    ")"
   ]
  },
  {
   "cell_type": "markdown",
   "metadata": {
    "scrolled": false
   },
   "source": [
    "#### 4. Register processes and run simpy"
   ]
  },
  {
   "cell_type": "code",
   "execution_count": 10,
   "metadata": {
    "tags": [
     "outputPrepend"
    ]
   },
   "outputs": [],
   "source": [
    "model.register_processes([transport_activity, installer_move_sequential_activity])\n",
    "my_env.run()"
   ]
  },
  {
   "cell_type": "markdown",
   "metadata": {},
   "source": [
    "#### 5. Inspect results\n",
    "##### 5.1 Inspect logs"
   ]
  },
  {
   "cell_type": "code",
   "execution_count": 11,
   "metadata": {},
   "outputs": [
    {
     "data": {
      "text/html": [
       "<div>\n",
       "<style scoped>\n",
       "    .dataframe tbody tr th:only-of-type {\n",
       "        vertical-align: middle;\n",
       "    }\n",
       "\n",
       "    .dataframe tbody tr th {\n",
       "        vertical-align: top;\n",
       "    }\n",
       "\n",
       "    .dataframe thead th {\n",
       "        text-align: right;\n",
       "    }\n",
       "</style>\n",
       "<table border=\"1\" class=\"dataframe\">\n",
       "  <thead>\n",
       "    <tr style=\"text-align: right;\">\n",
       "      <th></th>\n",
       "      <th>Activity</th>\n",
       "      <th>Timestamp</th>\n",
       "      <th>ActivityState</th>\n",
       "      <th>container level</th>\n",
       "      <th>geometry</th>\n",
       "    </tr>\n",
       "  </thead>\n",
       "  <tbody>\n",
       "    <tr>\n",
       "      <th>0</th>\n",
       "      <td>sailing empty</td>\n",
       "      <td>1970-01-01 00:00:00.000000</td>\n",
       "      <td>START</td>\n",
       "      <td>{'Cargo_1': 0, 'Cargo_2': 0}</td>\n",
       "      <td>POINT (4.18055556 52.18664444)</td>\n",
       "    </tr>\n",
       "    <tr>\n",
       "      <th>1</th>\n",
       "      <td>sailing empty</td>\n",
       "      <td>1970-01-01 00:00:00.000000</td>\n",
       "      <td>STOP</td>\n",
       "      <td>{'Cargo_1': 0, 'Cargo_2': 0}</td>\n",
       "      <td>POINT (4.18055556 52.18664444)</td>\n",
       "    </tr>\n",
       "    <tr>\n",
       "      <th>2</th>\n",
       "      <td>loading Cargo_1</td>\n",
       "      <td>1970-01-01 00:00:00.000000</td>\n",
       "      <td>START</td>\n",
       "      <td>{'Cargo_1': 0, 'Cargo_2': 0}</td>\n",
       "      <td>POINT (4.18055556 52.18664444)</td>\n",
       "    </tr>\n",
       "    <tr>\n",
       "      <th>3</th>\n",
       "      <td>loading Cargo_1</td>\n",
       "      <td>1970-01-01 00:02:00.000000</td>\n",
       "      <td>STOP</td>\n",
       "      <td>{'Cargo_2': 0, 'Cargo_1': 1}</td>\n",
       "      <td>POINT (4.18055556 52.18664444)</td>\n",
       "    </tr>\n",
       "    <tr>\n",
       "      <th>4</th>\n",
       "      <td>sailing filled</td>\n",
       "      <td>1970-01-01 00:02:00.000000</td>\n",
       "      <td>START</td>\n",
       "      <td>{'Cargo_2': 0, 'Cargo_1': 1}</td>\n",
       "      <td>POINT (4.18055556 52.18664444)</td>\n",
       "    </tr>\n",
       "    <tr>\n",
       "      <th>5</th>\n",
       "      <td>sailing filled</td>\n",
       "      <td>1970-01-01 00:17:42.824591</td>\n",
       "      <td>STOP</td>\n",
       "      <td>{'Cargo_2': 0, 'Cargo_1': 1}</td>\n",
       "      <td>POINT (4.25222222 52.11428333)</td>\n",
       "    </tr>\n",
       "    <tr>\n",
       "      <th>6</th>\n",
       "      <td>transfer Cargo_1</td>\n",
       "      <td>1970-01-01 00:17:42.824591</td>\n",
       "      <td>START</td>\n",
       "      <td>{'Cargo_2': 0, 'Cargo_1': 1}</td>\n",
       "      <td>POINT (4.25222222 52.11428333)</td>\n",
       "    </tr>\n",
       "    <tr>\n",
       "      <th>7</th>\n",
       "      <td>transfer Cargo_1</td>\n",
       "      <td>1970-01-01 00:19:42.824591</td>\n",
       "      <td>STOP</td>\n",
       "      <td>{'Cargo_2': 0, 'Cargo_1': 0}</td>\n",
       "      <td>POINT (4.25222222 52.11428333)</td>\n",
       "    </tr>\n",
       "    <tr>\n",
       "      <th>8</th>\n",
       "      <td>sailing empty</td>\n",
       "      <td>1970-01-01 00:19:42.824591</td>\n",
       "      <td>START</td>\n",
       "      <td>{'Cargo_2': 0, 'Cargo_1': 0}</td>\n",
       "      <td>POINT (4.25222222 52.11428333)</td>\n",
       "    </tr>\n",
       "    <tr>\n",
       "      <th>9</th>\n",
       "      <td>sailing empty</td>\n",
       "      <td>1970-01-01 00:35:25.649183</td>\n",
       "      <td>STOP</td>\n",
       "      <td>{'Cargo_2': 0, 'Cargo_1': 0}</td>\n",
       "      <td>POINT (4.18055556 52.18664444)</td>\n",
       "    </tr>\n",
       "    <tr>\n",
       "      <th>10</th>\n",
       "      <td>loading Cargo_1</td>\n",
       "      <td>1970-01-01 00:35:25.649183</td>\n",
       "      <td>START</td>\n",
       "      <td>{'Cargo_2': 0, 'Cargo_1': 0}</td>\n",
       "      <td>POINT (4.18055556 52.18664444)</td>\n",
       "    </tr>\n",
       "    <tr>\n",
       "      <th>11</th>\n",
       "      <td>loading Cargo_1</td>\n",
       "      <td>1970-01-01 00:37:25.649183</td>\n",
       "      <td>STOP</td>\n",
       "      <td>{'Cargo_2': 0, 'Cargo_1': 1}</td>\n",
       "      <td>POINT (4.18055556 52.18664444)</td>\n",
       "    </tr>\n",
       "    <tr>\n",
       "      <th>12</th>\n",
       "      <td>sailing filled</td>\n",
       "      <td>1970-01-01 00:37:25.649183</td>\n",
       "      <td>START</td>\n",
       "      <td>{'Cargo_2': 0, 'Cargo_1': 1}</td>\n",
       "      <td>POINT (4.18055556 52.18664444)</td>\n",
       "    </tr>\n",
       "    <tr>\n",
       "      <th>13</th>\n",
       "      <td>sailing filled</td>\n",
       "      <td>1970-01-01 00:53:08.473774</td>\n",
       "      <td>STOP</td>\n",
       "      <td>{'Cargo_2': 0, 'Cargo_1': 1}</td>\n",
       "      <td>POINT (4.25222222 52.11428333)</td>\n",
       "    </tr>\n",
       "    <tr>\n",
       "      <th>14</th>\n",
       "      <td>transfer Cargo_1</td>\n",
       "      <td>1970-01-01 00:53:08.473774</td>\n",
       "      <td>START</td>\n",
       "      <td>{'Cargo_2': 0, 'Cargo_1': 1}</td>\n",
       "      <td>POINT (4.25222222 52.11428333)</td>\n",
       "    </tr>\n",
       "    <tr>\n",
       "      <th>15</th>\n",
       "      <td>transfer Cargo_1</td>\n",
       "      <td>1970-01-01 00:55:08.473774</td>\n",
       "      <td>STOP</td>\n",
       "      <td>{'Cargo_2': 0, 'Cargo_1': 0}</td>\n",
       "      <td>POINT (4.25222222 52.11428333)</td>\n",
       "    </tr>\n",
       "    <tr>\n",
       "      <th>16</th>\n",
       "      <td>sailing empty</td>\n",
       "      <td>1970-01-01 00:55:08.473774</td>\n",
       "      <td>START</td>\n",
       "      <td>{'Cargo_2': 0, 'Cargo_1': 0}</td>\n",
       "      <td>POINT (4.25222222 52.11428333)</td>\n",
       "    </tr>\n",
       "    <tr>\n",
       "      <th>17</th>\n",
       "      <td>sailing empty</td>\n",
       "      <td>1970-01-01 01:10:51.298365</td>\n",
       "      <td>STOP</td>\n",
       "      <td>{'Cargo_2': 0, 'Cargo_1': 0}</td>\n",
       "      <td>POINT (4.18055556 52.18664444)</td>\n",
       "    </tr>\n",
       "    <tr>\n",
       "      <th>18</th>\n",
       "      <td>loading Cargo_1</td>\n",
       "      <td>1970-01-01 01:10:51.298365</td>\n",
       "      <td>START</td>\n",
       "      <td>{'Cargo_2': 0, 'Cargo_1': 0}</td>\n",
       "      <td>POINT (4.18055556 52.18664444)</td>\n",
       "    </tr>\n",
       "    <tr>\n",
       "      <th>19</th>\n",
       "      <td>loading Cargo_1</td>\n",
       "      <td>1970-01-01 01:12:51.298365</td>\n",
       "      <td>STOP</td>\n",
       "      <td>{'Cargo_2': 0, 'Cargo_1': 1}</td>\n",
       "      <td>POINT (4.18055556 52.18664444)</td>\n",
       "    </tr>\n",
       "    <tr>\n",
       "      <th>20</th>\n",
       "      <td>sailing filled</td>\n",
       "      <td>1970-01-01 01:12:51.298365</td>\n",
       "      <td>START</td>\n",
       "      <td>{'Cargo_2': 0, 'Cargo_1': 1}</td>\n",
       "      <td>POINT (4.18055556 52.18664444)</td>\n",
       "    </tr>\n",
       "    <tr>\n",
       "      <th>21</th>\n",
       "      <td>sailing filled</td>\n",
       "      <td>1970-01-01 01:28:34.122956</td>\n",
       "      <td>STOP</td>\n",
       "      <td>{'Cargo_2': 0, 'Cargo_1': 1}</td>\n",
       "      <td>POINT (4.25222222 52.11428333)</td>\n",
       "    </tr>\n",
       "    <tr>\n",
       "      <th>22</th>\n",
       "      <td>transfer Cargo_1</td>\n",
       "      <td>1970-01-01 01:28:34.122956</td>\n",
       "      <td>START</td>\n",
       "      <td>{'Cargo_2': 0, 'Cargo_1': 1}</td>\n",
       "      <td>POINT (4.25222222 52.11428333)</td>\n",
       "    </tr>\n",
       "    <tr>\n",
       "      <th>23</th>\n",
       "      <td>transfer Cargo_1</td>\n",
       "      <td>1970-01-01 01:30:34.122956</td>\n",
       "      <td>STOP</td>\n",
       "      <td>{'Cargo_2': 0, 'Cargo_1': 0}</td>\n",
       "      <td>POINT (4.25222222 52.11428333)</td>\n",
       "    </tr>\n",
       "    <tr>\n",
       "      <th>24</th>\n",
       "      <td>sailing empty</td>\n",
       "      <td>1970-01-01 01:30:34.122956</td>\n",
       "      <td>START</td>\n",
       "      <td>{'Cargo_2': 0, 'Cargo_1': 0}</td>\n",
       "      <td>POINT (4.25222222 52.11428333)</td>\n",
       "    </tr>\n",
       "    <tr>\n",
       "      <th>25</th>\n",
       "      <td>sailing empty</td>\n",
       "      <td>1970-01-01 01:46:16.947548</td>\n",
       "      <td>STOP</td>\n",
       "      <td>{'Cargo_2': 0, 'Cargo_1': 0}</td>\n",
       "      <td>POINT (4.18055556 52.18664444)</td>\n",
       "    </tr>\n",
       "    <tr>\n",
       "      <th>26</th>\n",
       "      <td>loading Cargo_1</td>\n",
       "      <td>1970-01-01 01:46:16.947548</td>\n",
       "      <td>START</td>\n",
       "      <td>{'Cargo_2': 0, 'Cargo_1': 0}</td>\n",
       "      <td>POINT (4.18055556 52.18664444)</td>\n",
       "    </tr>\n",
       "    <tr>\n",
       "      <th>27</th>\n",
       "      <td>loading Cargo_1</td>\n",
       "      <td>1970-01-01 01:48:16.947548</td>\n",
       "      <td>STOP</td>\n",
       "      <td>{'Cargo_2': 0, 'Cargo_1': 1}</td>\n",
       "      <td>POINT (4.18055556 52.18664444)</td>\n",
       "    </tr>\n",
       "    <tr>\n",
       "      <th>28</th>\n",
       "      <td>sailing filled</td>\n",
       "      <td>1970-01-01 01:48:16.947548</td>\n",
       "      <td>START</td>\n",
       "      <td>{'Cargo_2': 0, 'Cargo_1': 1}</td>\n",
       "      <td>POINT (4.18055556 52.18664444)</td>\n",
       "    </tr>\n",
       "    <tr>\n",
       "      <th>29</th>\n",
       "      <td>sailing filled</td>\n",
       "      <td>1970-01-01 02:03:59.772139</td>\n",
       "      <td>STOP</td>\n",
       "      <td>{'Cargo_2': 0, 'Cargo_1': 1}</td>\n",
       "      <td>POINT (4.25222222 52.11428333)</td>\n",
       "    </tr>\n",
       "    <tr>\n",
       "      <th>30</th>\n",
       "      <td>transfer Cargo_1</td>\n",
       "      <td>1970-01-01 02:03:59.772139</td>\n",
       "      <td>START</td>\n",
       "      <td>{'Cargo_2': 0, 'Cargo_1': 1}</td>\n",
       "      <td>POINT (4.25222222 52.11428333)</td>\n",
       "    </tr>\n",
       "    <tr>\n",
       "      <th>31</th>\n",
       "      <td>transfer Cargo_1</td>\n",
       "      <td>1970-01-01 02:05:59.772139</td>\n",
       "      <td>STOP</td>\n",
       "      <td>{'Cargo_2': 0, 'Cargo_1': 0}</td>\n",
       "      <td>POINT (4.25222222 52.11428333)</td>\n",
       "    </tr>\n",
       "    <tr>\n",
       "      <th>32</th>\n",
       "      <td>sailing empty</td>\n",
       "      <td>1970-01-01 02:05:59.772139</td>\n",
       "      <td>START</td>\n",
       "      <td>{'Cargo_2': 0, 'Cargo_1': 0}</td>\n",
       "      <td>POINT (4.25222222 52.11428333)</td>\n",
       "    </tr>\n",
       "    <tr>\n",
       "      <th>33</th>\n",
       "      <td>sailing empty</td>\n",
       "      <td>1970-01-01 02:21:42.596730</td>\n",
       "      <td>STOP</td>\n",
       "      <td>{'Cargo_2': 0, 'Cargo_1': 0}</td>\n",
       "      <td>POINT (4.18055556 52.18664444)</td>\n",
       "    </tr>\n",
       "    <tr>\n",
       "      <th>34</th>\n",
       "      <td>loading Cargo_1</td>\n",
       "      <td>1970-01-01 02:21:42.596730</td>\n",
       "      <td>START</td>\n",
       "      <td>{'Cargo_2': 0, 'Cargo_1': 0}</td>\n",
       "      <td>POINT (4.18055556 52.18664444)</td>\n",
       "    </tr>\n",
       "    <tr>\n",
       "      <th>35</th>\n",
       "      <td>loading Cargo_1</td>\n",
       "      <td>1970-01-01 02:23:42.596730</td>\n",
       "      <td>STOP</td>\n",
       "      <td>{'Cargo_2': 0, 'Cargo_1': 1}</td>\n",
       "      <td>POINT (4.18055556 52.18664444)</td>\n",
       "    </tr>\n",
       "    <tr>\n",
       "      <th>36</th>\n",
       "      <td>sailing filled</td>\n",
       "      <td>1970-01-01 02:23:42.596730</td>\n",
       "      <td>START</td>\n",
       "      <td>{'Cargo_2': 0, 'Cargo_1': 1}</td>\n",
       "      <td>POINT (4.18055556 52.18664444)</td>\n",
       "    </tr>\n",
       "    <tr>\n",
       "      <th>37</th>\n",
       "      <td>sailing filled</td>\n",
       "      <td>1970-01-01 02:39:25.421321</td>\n",
       "      <td>STOP</td>\n",
       "      <td>{'Cargo_2': 0, 'Cargo_1': 1}</td>\n",
       "      <td>POINT (4.25222222 52.11428333)</td>\n",
       "    </tr>\n",
       "    <tr>\n",
       "      <th>38</th>\n",
       "      <td>transfer Cargo_1</td>\n",
       "      <td>1970-01-01 02:39:25.421321</td>\n",
       "      <td>START</td>\n",
       "      <td>{'Cargo_2': 0, 'Cargo_1': 1}</td>\n",
       "      <td>POINT (4.25222222 52.11428333)</td>\n",
       "    </tr>\n",
       "    <tr>\n",
       "      <th>39</th>\n",
       "      <td>transfer Cargo_1</td>\n",
       "      <td>1970-01-01 02:41:25.421321</td>\n",
       "      <td>STOP</td>\n",
       "      <td>{'Cargo_2': 0, 'Cargo_1': 0}</td>\n",
       "      <td>POINT (4.25222222 52.11428333)</td>\n",
       "    </tr>\n",
       "  </tbody>\n",
       "</table>\n",
       "</div>"
      ],
      "text/plain": [
       "            Activity                  Timestamp ActivityState  \\\n",
       "0      sailing empty 1970-01-01 00:00:00.000000         START   \n",
       "1      sailing empty 1970-01-01 00:00:00.000000          STOP   \n",
       "2    loading Cargo_1 1970-01-01 00:00:00.000000         START   \n",
       "3    loading Cargo_1 1970-01-01 00:02:00.000000          STOP   \n",
       "4     sailing filled 1970-01-01 00:02:00.000000         START   \n",
       "5     sailing filled 1970-01-01 00:17:42.824591          STOP   \n",
       "6   transfer Cargo_1 1970-01-01 00:17:42.824591         START   \n",
       "7   transfer Cargo_1 1970-01-01 00:19:42.824591          STOP   \n",
       "8      sailing empty 1970-01-01 00:19:42.824591         START   \n",
       "9      sailing empty 1970-01-01 00:35:25.649183          STOP   \n",
       "10   loading Cargo_1 1970-01-01 00:35:25.649183         START   \n",
       "11   loading Cargo_1 1970-01-01 00:37:25.649183          STOP   \n",
       "12    sailing filled 1970-01-01 00:37:25.649183         START   \n",
       "13    sailing filled 1970-01-01 00:53:08.473774          STOP   \n",
       "14  transfer Cargo_1 1970-01-01 00:53:08.473774         START   \n",
       "15  transfer Cargo_1 1970-01-01 00:55:08.473774          STOP   \n",
       "16     sailing empty 1970-01-01 00:55:08.473774         START   \n",
       "17     sailing empty 1970-01-01 01:10:51.298365          STOP   \n",
       "18   loading Cargo_1 1970-01-01 01:10:51.298365         START   \n",
       "19   loading Cargo_1 1970-01-01 01:12:51.298365          STOP   \n",
       "20    sailing filled 1970-01-01 01:12:51.298365         START   \n",
       "21    sailing filled 1970-01-01 01:28:34.122956          STOP   \n",
       "22  transfer Cargo_1 1970-01-01 01:28:34.122956         START   \n",
       "23  transfer Cargo_1 1970-01-01 01:30:34.122956          STOP   \n",
       "24     sailing empty 1970-01-01 01:30:34.122956         START   \n",
       "25     sailing empty 1970-01-01 01:46:16.947548          STOP   \n",
       "26   loading Cargo_1 1970-01-01 01:46:16.947548         START   \n",
       "27   loading Cargo_1 1970-01-01 01:48:16.947548          STOP   \n",
       "28    sailing filled 1970-01-01 01:48:16.947548         START   \n",
       "29    sailing filled 1970-01-01 02:03:59.772139          STOP   \n",
       "30  transfer Cargo_1 1970-01-01 02:03:59.772139         START   \n",
       "31  transfer Cargo_1 1970-01-01 02:05:59.772139          STOP   \n",
       "32     sailing empty 1970-01-01 02:05:59.772139         START   \n",
       "33     sailing empty 1970-01-01 02:21:42.596730          STOP   \n",
       "34   loading Cargo_1 1970-01-01 02:21:42.596730         START   \n",
       "35   loading Cargo_1 1970-01-01 02:23:42.596730          STOP   \n",
       "36    sailing filled 1970-01-01 02:23:42.596730         START   \n",
       "37    sailing filled 1970-01-01 02:39:25.421321          STOP   \n",
       "38  transfer Cargo_1 1970-01-01 02:39:25.421321         START   \n",
       "39  transfer Cargo_1 1970-01-01 02:41:25.421321          STOP   \n",
       "\n",
       "                 container level                        geometry  \n",
       "0   {'Cargo_1': 0, 'Cargo_2': 0}  POINT (4.18055556 52.18664444)  \n",
       "1   {'Cargo_1': 0, 'Cargo_2': 0}  POINT (4.18055556 52.18664444)  \n",
       "2   {'Cargo_1': 0, 'Cargo_2': 0}  POINT (4.18055556 52.18664444)  \n",
       "3   {'Cargo_2': 0, 'Cargo_1': 1}  POINT (4.18055556 52.18664444)  \n",
       "4   {'Cargo_2': 0, 'Cargo_1': 1}  POINT (4.18055556 52.18664444)  \n",
       "5   {'Cargo_2': 0, 'Cargo_1': 1}  POINT (4.25222222 52.11428333)  \n",
       "6   {'Cargo_2': 0, 'Cargo_1': 1}  POINT (4.25222222 52.11428333)  \n",
       "7   {'Cargo_2': 0, 'Cargo_1': 0}  POINT (4.25222222 52.11428333)  \n",
       "8   {'Cargo_2': 0, 'Cargo_1': 0}  POINT (4.25222222 52.11428333)  \n",
       "9   {'Cargo_2': 0, 'Cargo_1': 0}  POINT (4.18055556 52.18664444)  \n",
       "10  {'Cargo_2': 0, 'Cargo_1': 0}  POINT (4.18055556 52.18664444)  \n",
       "11  {'Cargo_2': 0, 'Cargo_1': 1}  POINT (4.18055556 52.18664444)  \n",
       "12  {'Cargo_2': 0, 'Cargo_1': 1}  POINT (4.18055556 52.18664444)  \n",
       "13  {'Cargo_2': 0, 'Cargo_1': 1}  POINT (4.25222222 52.11428333)  \n",
       "14  {'Cargo_2': 0, 'Cargo_1': 1}  POINT (4.25222222 52.11428333)  \n",
       "15  {'Cargo_2': 0, 'Cargo_1': 0}  POINT (4.25222222 52.11428333)  \n",
       "16  {'Cargo_2': 0, 'Cargo_1': 0}  POINT (4.25222222 52.11428333)  \n",
       "17  {'Cargo_2': 0, 'Cargo_1': 0}  POINT (4.18055556 52.18664444)  \n",
       "18  {'Cargo_2': 0, 'Cargo_1': 0}  POINT (4.18055556 52.18664444)  \n",
       "19  {'Cargo_2': 0, 'Cargo_1': 1}  POINT (4.18055556 52.18664444)  \n",
       "20  {'Cargo_2': 0, 'Cargo_1': 1}  POINT (4.18055556 52.18664444)  \n",
       "21  {'Cargo_2': 0, 'Cargo_1': 1}  POINT (4.25222222 52.11428333)  \n",
       "22  {'Cargo_2': 0, 'Cargo_1': 1}  POINT (4.25222222 52.11428333)  \n",
       "23  {'Cargo_2': 0, 'Cargo_1': 0}  POINT (4.25222222 52.11428333)  \n",
       "24  {'Cargo_2': 0, 'Cargo_1': 0}  POINT (4.25222222 52.11428333)  \n",
       "25  {'Cargo_2': 0, 'Cargo_1': 0}  POINT (4.18055556 52.18664444)  \n",
       "26  {'Cargo_2': 0, 'Cargo_1': 0}  POINT (4.18055556 52.18664444)  \n",
       "27  {'Cargo_2': 0, 'Cargo_1': 1}  POINT (4.18055556 52.18664444)  \n",
       "28  {'Cargo_2': 0, 'Cargo_1': 1}  POINT (4.18055556 52.18664444)  \n",
       "29  {'Cargo_2': 0, 'Cargo_1': 1}  POINT (4.25222222 52.11428333)  \n",
       "30  {'Cargo_2': 0, 'Cargo_1': 1}  POINT (4.25222222 52.11428333)  \n",
       "31  {'Cargo_2': 0, 'Cargo_1': 0}  POINT (4.25222222 52.11428333)  \n",
       "32  {'Cargo_2': 0, 'Cargo_1': 0}  POINT (4.25222222 52.11428333)  \n",
       "33  {'Cargo_2': 0, 'Cargo_1': 0}  POINT (4.18055556 52.18664444)  \n",
       "34  {'Cargo_2': 0, 'Cargo_1': 0}  POINT (4.18055556 52.18664444)  \n",
       "35  {'Cargo_2': 0, 'Cargo_1': 1}  POINT (4.18055556 52.18664444)  \n",
       "36  {'Cargo_2': 0, 'Cargo_1': 1}  POINT (4.18055556 52.18664444)  \n",
       "37  {'Cargo_2': 0, 'Cargo_1': 1}  POINT (4.25222222 52.11428333)  \n",
       "38  {'Cargo_2': 0, 'Cargo_1': 1}  POINT (4.25222222 52.11428333)  \n",
       "39  {'Cargo_2': 0, 'Cargo_1': 0}  POINT (4.25222222 52.11428333)  "
      ]
     },
     "execution_count": 11,
     "metadata": {},
     "output_type": "execute_result"
    }
   ],
   "source": [
    "plot.get_log_dataframe(transporter01, [transport_activity])"
   ]
  },
  {
   "cell_type": "markdown",
   "metadata": {},
   "source": [
    "##### 5.2 Visualise gantt charts"
   ]
  },
  {
   "cell_type": "code",
   "execution_count": 12,
   "metadata": {},
   "outputs": [
    {
     "data": {
      "text/html": [
       "        <script type=\"text/javascript\">\n",
       "        window.PlotlyConfig = {MathJaxConfig: 'local'};\n",
       "        if (window.MathJax) {MathJax.Hub.Config({SVG: {font: \"STIX-Web\"}});}\n",
       "        if (typeof require !== 'undefined') {\n",
       "        require.undef(\"plotly\");\n",
       "        requirejs.config({\n",
       "            paths: {\n",
       "                'plotly': ['https://cdn.plot.ly/plotly-2.8.3.min']\n",
       "            }\n",
       "        });\n",
       "        require(['plotly'], function(Plotly) {\n",
       "            window._Plotly = Plotly;\n",
       "        });\n",
       "        }\n",
       "        </script>\n",
       "        "
      ]
     },
     "metadata": {},
     "output_type": "display_data"
    },
    {
     "data": {
      "application/vnd.plotly.v1+json": {
       "config": {
        "linkText": "Export to plot.ly",
        "plotlyServerURL": "https://plot.ly",
        "showLink": false
       },
       "data": [
        {
         "connectgaps": false,
         "hoverinfo": "y+name",
         "line": {
          "color": "rgb(217,109,176)",
          "width": 10
         },
         "mode": "lines",
         "name": "Transporter01 move process",
         "type": "scatter",
         "x": [
          "1970-01-01T00:00:00",
          "1970-01-01T00:00:00",
          "1970-01-01T00:19:42.824591",
          "1970-01-01T00:19:42.824591",
          "1970-01-01T00:19:42.824591",
          "1970-01-01T00:19:42.824591",
          "1970-01-01T00:19:42.824591",
          "1970-01-01T00:55:08.473774",
          "1970-01-01T00:55:08.473774",
          "1970-01-01T00:55:08.473774",
          "1970-01-01T00:55:08.473774",
          "1970-01-01T00:55:08.473774",
          "1970-01-01T01:30:34.122956",
          "1970-01-01T01:30:34.122956",
          "1970-01-01T01:30:34.122956",
          "1970-01-01T01:30:34.122956",
          "1970-01-01T01:30:34.122956",
          "1970-01-01T02:05:59.772139",
          "1970-01-01T02:05:59.772139",
          "1970-01-01T02:05:59.772139",
          "1970-01-01T02:05:59.772139",
          "1970-01-01T02:05:59.772139",
          "1970-01-01T02:41:25.421321",
          "1970-01-01T02:41:25.421321",
          "1970-01-01T02:41:25.421321",
          "1970-01-01T02:05:59.772139",
          "1970-01-01T02:05:59.772139",
          "1970-01-01T02:41:25.421321",
          "1970-01-01T02:41:25.421321",
          "1970-01-01T02:41:25.421321"
         ],
         "y": [
          "Transporter01 move process",
          "Transporter01 move process",
          "Transporter01 move process",
          "Transporter01 move process",
          null,
          "Transporter01 move process",
          "Transporter01 move process",
          "Transporter01 move process",
          "Transporter01 move process",
          null,
          "Transporter01 move process",
          "Transporter01 move process",
          "Transporter01 move process",
          "Transporter01 move process",
          null,
          "Transporter01 move process",
          "Transporter01 move process",
          "Transporter01 move process",
          "Transporter01 move process",
          null,
          "Transporter01 move process",
          "Transporter01 move process",
          "Transporter01 move process",
          "Transporter01 move process",
          null,
          "Transporter01 move process",
          "Transporter01 move process",
          "Transporter01 move process",
          "Transporter01 move process",
          null
         ]
        },
        {
         "connectgaps": false,
         "hoverinfo": "y+name",
         "line": {
          "color": "rgb(89,237,48)",
          "width": 10
         },
         "mode": "lines",
         "name": "Installer01 move process",
         "type": "scatter",
         "x": [
          "1970-01-01T00:00:00",
          "1970-01-01T00:00:00",
          "1970-01-01T00:15:42.824591",
          "1970-01-01T00:15:42.824591",
          "1970-01-01T00:15:42.824591",
          "1970-01-01T00:15:42.824591",
          "1970-01-01T00:15:42.824591",
          "1970-01-01T02:44:25.421321",
          "1970-01-01T02:44:25.421321",
          "1970-01-01T02:44:25.421321",
          "1970-01-01T00:15:42.824591",
          "1970-01-01T00:15:42.824591",
          "1970-01-01T02:44:25.421321",
          "1970-01-01T02:44:25.421321",
          "1970-01-01T02:44:25.421321"
         ],
         "y": [
          "Installer01 move process",
          "Installer01 move process",
          "Installer01 move process",
          "Installer01 move process",
          null,
          "Installer01 move process",
          "Installer01 move process",
          "Installer01 move process",
          "Installer01 move process",
          null,
          "Installer01 move process",
          "Installer01 move process",
          "Installer01 move process",
          "Installer01 move process",
          null
         ]
        }
       ],
       "layout": {
        "hovermode": "closest",
        "legend": {
         "orientation": "h",
         "x": 0,
         "y": -0.2
        },
        "template": {
         "data": {
          "bar": [
           {
            "error_x": {
             "color": "#2a3f5f"
            },
            "error_y": {
             "color": "#2a3f5f"
            },
            "marker": {
             "line": {
              "color": "#E5ECF6",
              "width": 0.5
             },
             "pattern": {
              "fillmode": "overlay",
              "size": 10,
              "solidity": 0.2
             }
            },
            "type": "bar"
           }
          ],
          "barpolar": [
           {
            "marker": {
             "line": {
              "color": "#E5ECF6",
              "width": 0.5
             },
             "pattern": {
              "fillmode": "overlay",
              "size": 10,
              "solidity": 0.2
             }
            },
            "type": "barpolar"
           }
          ],
          "carpet": [
           {
            "aaxis": {
             "endlinecolor": "#2a3f5f",
             "gridcolor": "white",
             "linecolor": "white",
             "minorgridcolor": "white",
             "startlinecolor": "#2a3f5f"
            },
            "baxis": {
             "endlinecolor": "#2a3f5f",
             "gridcolor": "white",
             "linecolor": "white",
             "minorgridcolor": "white",
             "startlinecolor": "#2a3f5f"
            },
            "type": "carpet"
           }
          ],
          "choropleth": [
           {
            "colorbar": {
             "outlinewidth": 0,
             "ticks": ""
            },
            "type": "choropleth"
           }
          ],
          "contour": [
           {
            "colorbar": {
             "outlinewidth": 0,
             "ticks": ""
            },
            "colorscale": [
             [
              0,
              "#0d0887"
             ],
             [
              0.1111111111111111,
              "#46039f"
             ],
             [
              0.2222222222222222,
              "#7201a8"
             ],
             [
              0.3333333333333333,
              "#9c179e"
             ],
             [
              0.4444444444444444,
              "#bd3786"
             ],
             [
              0.5555555555555556,
              "#d8576b"
             ],
             [
              0.6666666666666666,
              "#ed7953"
             ],
             [
              0.7777777777777778,
              "#fb9f3a"
             ],
             [
              0.8888888888888888,
              "#fdca26"
             ],
             [
              1,
              "#f0f921"
             ]
            ],
            "type": "contour"
           }
          ],
          "contourcarpet": [
           {
            "colorbar": {
             "outlinewidth": 0,
             "ticks": ""
            },
            "type": "contourcarpet"
           }
          ],
          "heatmap": [
           {
            "colorbar": {
             "outlinewidth": 0,
             "ticks": ""
            },
            "colorscale": [
             [
              0,
              "#0d0887"
             ],
             [
              0.1111111111111111,
              "#46039f"
             ],
             [
              0.2222222222222222,
              "#7201a8"
             ],
             [
              0.3333333333333333,
              "#9c179e"
             ],
             [
              0.4444444444444444,
              "#bd3786"
             ],
             [
              0.5555555555555556,
              "#d8576b"
             ],
             [
              0.6666666666666666,
              "#ed7953"
             ],
             [
              0.7777777777777778,
              "#fb9f3a"
             ],
             [
              0.8888888888888888,
              "#fdca26"
             ],
             [
              1,
              "#f0f921"
             ]
            ],
            "type": "heatmap"
           }
          ],
          "heatmapgl": [
           {
            "colorbar": {
             "outlinewidth": 0,
             "ticks": ""
            },
            "colorscale": [
             [
              0,
              "#0d0887"
             ],
             [
              0.1111111111111111,
              "#46039f"
             ],
             [
              0.2222222222222222,
              "#7201a8"
             ],
             [
              0.3333333333333333,
              "#9c179e"
             ],
             [
              0.4444444444444444,
              "#bd3786"
             ],
             [
              0.5555555555555556,
              "#d8576b"
             ],
             [
              0.6666666666666666,
              "#ed7953"
             ],
             [
              0.7777777777777778,
              "#fb9f3a"
             ],
             [
              0.8888888888888888,
              "#fdca26"
             ],
             [
              1,
              "#f0f921"
             ]
            ],
            "type": "heatmapgl"
           }
          ],
          "histogram": [
           {
            "marker": {
             "pattern": {
              "fillmode": "overlay",
              "size": 10,
              "solidity": 0.2
             }
            },
            "type": "histogram"
           }
          ],
          "histogram2d": [
           {
            "colorbar": {
             "outlinewidth": 0,
             "ticks": ""
            },
            "colorscale": [
             [
              0,
              "#0d0887"
             ],
             [
              0.1111111111111111,
              "#46039f"
             ],
             [
              0.2222222222222222,
              "#7201a8"
             ],
             [
              0.3333333333333333,
              "#9c179e"
             ],
             [
              0.4444444444444444,
              "#bd3786"
             ],
             [
              0.5555555555555556,
              "#d8576b"
             ],
             [
              0.6666666666666666,
              "#ed7953"
             ],
             [
              0.7777777777777778,
              "#fb9f3a"
             ],
             [
              0.8888888888888888,
              "#fdca26"
             ],
             [
              1,
              "#f0f921"
             ]
            ],
            "type": "histogram2d"
           }
          ],
          "histogram2dcontour": [
           {
            "colorbar": {
             "outlinewidth": 0,
             "ticks": ""
            },
            "colorscale": [
             [
              0,
              "#0d0887"
             ],
             [
              0.1111111111111111,
              "#46039f"
             ],
             [
              0.2222222222222222,
              "#7201a8"
             ],
             [
              0.3333333333333333,
              "#9c179e"
             ],
             [
              0.4444444444444444,
              "#bd3786"
             ],
             [
              0.5555555555555556,
              "#d8576b"
             ],
             [
              0.6666666666666666,
              "#ed7953"
             ],
             [
              0.7777777777777778,
              "#fb9f3a"
             ],
             [
              0.8888888888888888,
              "#fdca26"
             ],
             [
              1,
              "#f0f921"
             ]
            ],
            "type": "histogram2dcontour"
           }
          ],
          "mesh3d": [
           {
            "colorbar": {
             "outlinewidth": 0,
             "ticks": ""
            },
            "type": "mesh3d"
           }
          ],
          "parcoords": [
           {
            "line": {
             "colorbar": {
              "outlinewidth": 0,
              "ticks": ""
             }
            },
            "type": "parcoords"
           }
          ],
          "pie": [
           {
            "automargin": true,
            "type": "pie"
           }
          ],
          "scatter": [
           {
            "marker": {
             "colorbar": {
              "outlinewidth": 0,
              "ticks": ""
             }
            },
            "type": "scatter"
           }
          ],
          "scatter3d": [
           {
            "line": {
             "colorbar": {
              "outlinewidth": 0,
              "ticks": ""
             }
            },
            "marker": {
             "colorbar": {
              "outlinewidth": 0,
              "ticks": ""
             }
            },
            "type": "scatter3d"
           }
          ],
          "scattercarpet": [
           {
            "marker": {
             "colorbar": {
              "outlinewidth": 0,
              "ticks": ""
             }
            },
            "type": "scattercarpet"
           }
          ],
          "scattergeo": [
           {
            "marker": {
             "colorbar": {
              "outlinewidth": 0,
              "ticks": ""
             }
            },
            "type": "scattergeo"
           }
          ],
          "scattergl": [
           {
            "marker": {
             "colorbar": {
              "outlinewidth": 0,
              "ticks": ""
             }
            },
            "type": "scattergl"
           }
          ],
          "scattermapbox": [
           {
            "marker": {
             "colorbar": {
              "outlinewidth": 0,
              "ticks": ""
             }
            },
            "type": "scattermapbox"
           }
          ],
          "scatterpolar": [
           {
            "marker": {
             "colorbar": {
              "outlinewidth": 0,
              "ticks": ""
             }
            },
            "type": "scatterpolar"
           }
          ],
          "scatterpolargl": [
           {
            "marker": {
             "colorbar": {
              "outlinewidth": 0,
              "ticks": ""
             }
            },
            "type": "scatterpolargl"
           }
          ],
          "scatterternary": [
           {
            "marker": {
             "colorbar": {
              "outlinewidth": 0,
              "ticks": ""
             }
            },
            "type": "scatterternary"
           }
          ],
          "surface": [
           {
            "colorbar": {
             "outlinewidth": 0,
             "ticks": ""
            },
            "colorscale": [
             [
              0,
              "#0d0887"
             ],
             [
              0.1111111111111111,
              "#46039f"
             ],
             [
              0.2222222222222222,
              "#7201a8"
             ],
             [
              0.3333333333333333,
              "#9c179e"
             ],
             [
              0.4444444444444444,
              "#bd3786"
             ],
             [
              0.5555555555555556,
              "#d8576b"
             ],
             [
              0.6666666666666666,
              "#ed7953"
             ],
             [
              0.7777777777777778,
              "#fb9f3a"
             ],
             [
              0.8888888888888888,
              "#fdca26"
             ],
             [
              1,
              "#f0f921"
             ]
            ],
            "type": "surface"
           }
          ],
          "table": [
           {
            "cells": {
             "fill": {
              "color": "#EBF0F8"
             },
             "line": {
              "color": "white"
             }
            },
            "header": {
             "fill": {
              "color": "#C8D4E3"
             },
             "line": {
              "color": "white"
             }
            },
            "type": "table"
           }
          ]
         },
         "layout": {
          "annotationdefaults": {
           "arrowcolor": "#2a3f5f",
           "arrowhead": 0,
           "arrowwidth": 1
          },
          "autotypenumbers": "strict",
          "coloraxis": {
           "colorbar": {
            "outlinewidth": 0,
            "ticks": ""
           }
          },
          "colorscale": {
           "diverging": [
            [
             0,
             "#8e0152"
            ],
            [
             0.1,
             "#c51b7d"
            ],
            [
             0.2,
             "#de77ae"
            ],
            [
             0.3,
             "#f1b6da"
            ],
            [
             0.4,
             "#fde0ef"
            ],
            [
             0.5,
             "#f7f7f7"
            ],
            [
             0.6,
             "#e6f5d0"
            ],
            [
             0.7,
             "#b8e186"
            ],
            [
             0.8,
             "#7fbc41"
            ],
            [
             0.9,
             "#4d9221"
            ],
            [
             1,
             "#276419"
            ]
           ],
           "sequential": [
            [
             0,
             "#0d0887"
            ],
            [
             0.1111111111111111,
             "#46039f"
            ],
            [
             0.2222222222222222,
             "#7201a8"
            ],
            [
             0.3333333333333333,
             "#9c179e"
            ],
            [
             0.4444444444444444,
             "#bd3786"
            ],
            [
             0.5555555555555556,
             "#d8576b"
            ],
            [
             0.6666666666666666,
             "#ed7953"
            ],
            [
             0.7777777777777778,
             "#fb9f3a"
            ],
            [
             0.8888888888888888,
             "#fdca26"
            ],
            [
             1,
             "#f0f921"
            ]
           ],
           "sequentialminus": [
            [
             0,
             "#0d0887"
            ],
            [
             0.1111111111111111,
             "#46039f"
            ],
            [
             0.2222222222222222,
             "#7201a8"
            ],
            [
             0.3333333333333333,
             "#9c179e"
            ],
            [
             0.4444444444444444,
             "#bd3786"
            ],
            [
             0.5555555555555556,
             "#d8576b"
            ],
            [
             0.6666666666666666,
             "#ed7953"
            ],
            [
             0.7777777777777778,
             "#fb9f3a"
            ],
            [
             0.8888888888888888,
             "#fdca26"
            ],
            [
             1,
             "#f0f921"
            ]
           ]
          },
          "colorway": [
           "#636efa",
           "#EF553B",
           "#00cc96",
           "#ab63fa",
           "#FFA15A",
           "#19d3f3",
           "#FF6692",
           "#B6E880",
           "#FF97FF",
           "#FECB52"
          ],
          "font": {
           "color": "#2a3f5f"
          },
          "geo": {
           "bgcolor": "white",
           "lakecolor": "white",
           "landcolor": "#E5ECF6",
           "showlakes": true,
           "showland": true,
           "subunitcolor": "white"
          },
          "hoverlabel": {
           "align": "left"
          },
          "hovermode": "closest",
          "mapbox": {
           "style": "light"
          },
          "paper_bgcolor": "white",
          "plot_bgcolor": "#E5ECF6",
          "polar": {
           "angularaxis": {
            "gridcolor": "white",
            "linecolor": "white",
            "ticks": ""
           },
           "bgcolor": "#E5ECF6",
           "radialaxis": {
            "gridcolor": "white",
            "linecolor": "white",
            "ticks": ""
           }
          },
          "scene": {
           "xaxis": {
            "backgroundcolor": "#E5ECF6",
            "gridcolor": "white",
            "gridwidth": 2,
            "linecolor": "white",
            "showbackground": true,
            "ticks": "",
            "zerolinecolor": "white"
           },
           "yaxis": {
            "backgroundcolor": "#E5ECF6",
            "gridcolor": "white",
            "gridwidth": 2,
            "linecolor": "white",
            "showbackground": true,
            "ticks": "",
            "zerolinecolor": "white"
           },
           "zaxis": {
            "backgroundcolor": "#E5ECF6",
            "gridcolor": "white",
            "gridwidth": 2,
            "linecolor": "white",
            "showbackground": true,
            "ticks": "",
            "zerolinecolor": "white"
           }
          },
          "shapedefaults": {
           "line": {
            "color": "#2a3f5f"
           }
          },
          "ternary": {
           "aaxis": {
            "gridcolor": "white",
            "linecolor": "white",
            "ticks": ""
           },
           "baxis": {
            "gridcolor": "white",
            "linecolor": "white",
            "ticks": ""
           },
           "bgcolor": "#E5ECF6",
           "caxis": {
            "gridcolor": "white",
            "linecolor": "white",
            "ticks": ""
           }
          },
          "title": {
           "x": 0.05
          },
          "xaxis": {
           "automargin": true,
           "gridcolor": "white",
           "linecolor": "white",
           "ticks": "",
           "title": {
            "standoff": 15
           },
           "zerolinecolor": "white",
           "zerolinewidth": 2
          },
          "yaxis": {
           "automargin": true,
           "gridcolor": "white",
           "linecolor": "white",
           "ticks": "",
           "title": {
            "standoff": 15
           },
           "zerolinecolor": "white",
           "zerolinewidth": 2
          }
         }
        },
        "title": {
         "text": "GANTT Chart"
        },
        "xaxis": {
         "range": [
          "1970-01-01T00:00:00",
          "1970-01-01T02:44:25.421321"
         ],
         "title": {
          "font": {
           "color": "#7f7f7f",
           "family": "Courier New, monospace",
           "size": 18
          },
          "text": "Time"
         }
        },
        "yaxis": {
         "title": {
          "font": {
           "color": "#7f7f7f",
           "family": "Courier New, monospace",
           "size": 18
          },
          "text": "Activities"
         }
        }
       }
      },
      "text/html": [
       "<div>                            <div id=\"451321f3-99f6-4f32-8214-ebd9962788e2\" class=\"plotly-graph-div\" style=\"height:525px; width:100%;\"></div>            <script type=\"text/javascript\">                require([\"plotly\"], function(Plotly) {                    window.PLOTLYENV=window.PLOTLYENV || {};                                    if (document.getElementById(\"451321f3-99f6-4f32-8214-ebd9962788e2\")) {                    Plotly.newPlot(                        \"451321f3-99f6-4f32-8214-ebd9962788e2\",                        [{\"connectgaps\":false,\"hoverinfo\":\"y+name\",\"line\":{\"color\":\"rgb(217,109,176)\",\"width\":10},\"mode\":\"lines\",\"name\":\"Transporter01 move process\",\"x\":[\"1970-01-01T00:00:00\",\"1970-01-01T00:00:00\",\"1970-01-01T00:19:42.824591\",\"1970-01-01T00:19:42.824591\",\"1970-01-01T00:19:42.824591\",\"1970-01-01T00:19:42.824591\",\"1970-01-01T00:19:42.824591\",\"1970-01-01T00:55:08.473774\",\"1970-01-01T00:55:08.473774\",\"1970-01-01T00:55:08.473774\",\"1970-01-01T00:55:08.473774\",\"1970-01-01T00:55:08.473774\",\"1970-01-01T01:30:34.122956\",\"1970-01-01T01:30:34.122956\",\"1970-01-01T01:30:34.122956\",\"1970-01-01T01:30:34.122956\",\"1970-01-01T01:30:34.122956\",\"1970-01-01T02:05:59.772139\",\"1970-01-01T02:05:59.772139\",\"1970-01-01T02:05:59.772139\",\"1970-01-01T02:05:59.772139\",\"1970-01-01T02:05:59.772139\",\"1970-01-01T02:41:25.421321\",\"1970-01-01T02:41:25.421321\",\"1970-01-01T02:41:25.421321\",\"1970-01-01T02:05:59.772139\",\"1970-01-01T02:05:59.772139\",\"1970-01-01T02:41:25.421321\",\"1970-01-01T02:41:25.421321\",\"1970-01-01T02:41:25.421321\"],\"y\":[\"Transporter01 move process\",\"Transporter01 move process\",\"Transporter01 move process\",\"Transporter01 move process\",null,\"Transporter01 move process\",\"Transporter01 move process\",\"Transporter01 move process\",\"Transporter01 move process\",null,\"Transporter01 move process\",\"Transporter01 move process\",\"Transporter01 move process\",\"Transporter01 move process\",null,\"Transporter01 move process\",\"Transporter01 move process\",\"Transporter01 move process\",\"Transporter01 move process\",null,\"Transporter01 move process\",\"Transporter01 move process\",\"Transporter01 move process\",\"Transporter01 move process\",null,\"Transporter01 move process\",\"Transporter01 move process\",\"Transporter01 move process\",\"Transporter01 move process\",null],\"type\":\"scatter\"},{\"connectgaps\":false,\"hoverinfo\":\"y+name\",\"line\":{\"color\":\"rgb(89,237,48)\",\"width\":10},\"mode\":\"lines\",\"name\":\"Installer01 move process\",\"x\":[\"1970-01-01T00:00:00\",\"1970-01-01T00:00:00\",\"1970-01-01T00:15:42.824591\",\"1970-01-01T00:15:42.824591\",\"1970-01-01T00:15:42.824591\",\"1970-01-01T00:15:42.824591\",\"1970-01-01T00:15:42.824591\",\"1970-01-01T02:44:25.421321\",\"1970-01-01T02:44:25.421321\",\"1970-01-01T02:44:25.421321\",\"1970-01-01T00:15:42.824591\",\"1970-01-01T00:15:42.824591\",\"1970-01-01T02:44:25.421321\",\"1970-01-01T02:44:25.421321\",\"1970-01-01T02:44:25.421321\"],\"y\":[\"Installer01 move process\",\"Installer01 move process\",\"Installer01 move process\",\"Installer01 move process\",null,\"Installer01 move process\",\"Installer01 move process\",\"Installer01 move process\",\"Installer01 move process\",null,\"Installer01 move process\",\"Installer01 move process\",\"Installer01 move process\",\"Installer01 move process\",null],\"type\":\"scatter\"}],                        {\"hovermode\":\"closest\",\"legend\":{\"orientation\":\"h\",\"x\":0,\"y\":-0.2},\"template\":{\"data\":{\"barpolar\":[{\"marker\":{\"line\":{\"color\":\"#E5ECF6\",\"width\":0.5},\"pattern\":{\"fillmode\":\"overlay\",\"size\":10,\"solidity\":0.2}},\"type\":\"barpolar\"}],\"bar\":[{\"error_x\":{\"color\":\"#2a3f5f\"},\"error_y\":{\"color\":\"#2a3f5f\"},\"marker\":{\"line\":{\"color\":\"#E5ECF6\",\"width\":0.5},\"pattern\":{\"fillmode\":\"overlay\",\"size\":10,\"solidity\":0.2}},\"type\":\"bar\"}],\"carpet\":[{\"aaxis\":{\"endlinecolor\":\"#2a3f5f\",\"gridcolor\":\"white\",\"linecolor\":\"white\",\"minorgridcolor\":\"white\",\"startlinecolor\":\"#2a3f5f\"},\"baxis\":{\"endlinecolor\":\"#2a3f5f\",\"gridcolor\":\"white\",\"linecolor\":\"white\",\"minorgridcolor\":\"white\",\"startlinecolor\":\"#2a3f5f\"},\"type\":\"carpet\"}],\"choropleth\":[{\"colorbar\":{\"outlinewidth\":0,\"ticks\":\"\"},\"type\":\"choropleth\"}],\"contourcarpet\":[{\"colorbar\":{\"outlinewidth\":0,\"ticks\":\"\"},\"type\":\"contourcarpet\"}],\"contour\":[{\"colorbar\":{\"outlinewidth\":0,\"ticks\":\"\"},\"colorscale\":[[0.0,\"#0d0887\"],[0.1111111111111111,\"#46039f\"],[0.2222222222222222,\"#7201a8\"],[0.3333333333333333,\"#9c179e\"],[0.4444444444444444,\"#bd3786\"],[0.5555555555555556,\"#d8576b\"],[0.6666666666666666,\"#ed7953\"],[0.7777777777777778,\"#fb9f3a\"],[0.8888888888888888,\"#fdca26\"],[1.0,\"#f0f921\"]],\"type\":\"contour\"}],\"heatmapgl\":[{\"colorbar\":{\"outlinewidth\":0,\"ticks\":\"\"},\"colorscale\":[[0.0,\"#0d0887\"],[0.1111111111111111,\"#46039f\"],[0.2222222222222222,\"#7201a8\"],[0.3333333333333333,\"#9c179e\"],[0.4444444444444444,\"#bd3786\"],[0.5555555555555556,\"#d8576b\"],[0.6666666666666666,\"#ed7953\"],[0.7777777777777778,\"#fb9f3a\"],[0.8888888888888888,\"#fdca26\"],[1.0,\"#f0f921\"]],\"type\":\"heatmapgl\"}],\"heatmap\":[{\"colorbar\":{\"outlinewidth\":0,\"ticks\":\"\"},\"colorscale\":[[0.0,\"#0d0887\"],[0.1111111111111111,\"#46039f\"],[0.2222222222222222,\"#7201a8\"],[0.3333333333333333,\"#9c179e\"],[0.4444444444444444,\"#bd3786\"],[0.5555555555555556,\"#d8576b\"],[0.6666666666666666,\"#ed7953\"],[0.7777777777777778,\"#fb9f3a\"],[0.8888888888888888,\"#fdca26\"],[1.0,\"#f0f921\"]],\"type\":\"heatmap\"}],\"histogram2dcontour\":[{\"colorbar\":{\"outlinewidth\":0,\"ticks\":\"\"},\"colorscale\":[[0.0,\"#0d0887\"],[0.1111111111111111,\"#46039f\"],[0.2222222222222222,\"#7201a8\"],[0.3333333333333333,\"#9c179e\"],[0.4444444444444444,\"#bd3786\"],[0.5555555555555556,\"#d8576b\"],[0.6666666666666666,\"#ed7953\"],[0.7777777777777778,\"#fb9f3a\"],[0.8888888888888888,\"#fdca26\"],[1.0,\"#f0f921\"]],\"type\":\"histogram2dcontour\"}],\"histogram2d\":[{\"colorbar\":{\"outlinewidth\":0,\"ticks\":\"\"},\"colorscale\":[[0.0,\"#0d0887\"],[0.1111111111111111,\"#46039f\"],[0.2222222222222222,\"#7201a8\"],[0.3333333333333333,\"#9c179e\"],[0.4444444444444444,\"#bd3786\"],[0.5555555555555556,\"#d8576b\"],[0.6666666666666666,\"#ed7953\"],[0.7777777777777778,\"#fb9f3a\"],[0.8888888888888888,\"#fdca26\"],[1.0,\"#f0f921\"]],\"type\":\"histogram2d\"}],\"histogram\":[{\"marker\":{\"pattern\":{\"fillmode\":\"overlay\",\"size\":10,\"solidity\":0.2}},\"type\":\"histogram\"}],\"mesh3d\":[{\"colorbar\":{\"outlinewidth\":0,\"ticks\":\"\"},\"type\":\"mesh3d\"}],\"parcoords\":[{\"line\":{\"colorbar\":{\"outlinewidth\":0,\"ticks\":\"\"}},\"type\":\"parcoords\"}],\"pie\":[{\"automargin\":true,\"type\":\"pie\"}],\"scatter3d\":[{\"line\":{\"colorbar\":{\"outlinewidth\":0,\"ticks\":\"\"}},\"marker\":{\"colorbar\":{\"outlinewidth\":0,\"ticks\":\"\"}},\"type\":\"scatter3d\"}],\"scattercarpet\":[{\"marker\":{\"colorbar\":{\"outlinewidth\":0,\"ticks\":\"\"}},\"type\":\"scattercarpet\"}],\"scattergeo\":[{\"marker\":{\"colorbar\":{\"outlinewidth\":0,\"ticks\":\"\"}},\"type\":\"scattergeo\"}],\"scattergl\":[{\"marker\":{\"colorbar\":{\"outlinewidth\":0,\"ticks\":\"\"}},\"type\":\"scattergl\"}],\"scattermapbox\":[{\"marker\":{\"colorbar\":{\"outlinewidth\":0,\"ticks\":\"\"}},\"type\":\"scattermapbox\"}],\"scatterpolargl\":[{\"marker\":{\"colorbar\":{\"outlinewidth\":0,\"ticks\":\"\"}},\"type\":\"scatterpolargl\"}],\"scatterpolar\":[{\"marker\":{\"colorbar\":{\"outlinewidth\":0,\"ticks\":\"\"}},\"type\":\"scatterpolar\"}],\"scatter\":[{\"marker\":{\"colorbar\":{\"outlinewidth\":0,\"ticks\":\"\"}},\"type\":\"scatter\"}],\"scatterternary\":[{\"marker\":{\"colorbar\":{\"outlinewidth\":0,\"ticks\":\"\"}},\"type\":\"scatterternary\"}],\"surface\":[{\"colorbar\":{\"outlinewidth\":0,\"ticks\":\"\"},\"colorscale\":[[0.0,\"#0d0887\"],[0.1111111111111111,\"#46039f\"],[0.2222222222222222,\"#7201a8\"],[0.3333333333333333,\"#9c179e\"],[0.4444444444444444,\"#bd3786\"],[0.5555555555555556,\"#d8576b\"],[0.6666666666666666,\"#ed7953\"],[0.7777777777777778,\"#fb9f3a\"],[0.8888888888888888,\"#fdca26\"],[1.0,\"#f0f921\"]],\"type\":\"surface\"}],\"table\":[{\"cells\":{\"fill\":{\"color\":\"#EBF0F8\"},\"line\":{\"color\":\"white\"}},\"header\":{\"fill\":{\"color\":\"#C8D4E3\"},\"line\":{\"color\":\"white\"}},\"type\":\"table\"}]},\"layout\":{\"annotationdefaults\":{\"arrowcolor\":\"#2a3f5f\",\"arrowhead\":0,\"arrowwidth\":1},\"autotypenumbers\":\"strict\",\"coloraxis\":{\"colorbar\":{\"outlinewidth\":0,\"ticks\":\"\"}},\"colorscale\":{\"diverging\":[[0,\"#8e0152\"],[0.1,\"#c51b7d\"],[0.2,\"#de77ae\"],[0.3,\"#f1b6da\"],[0.4,\"#fde0ef\"],[0.5,\"#f7f7f7\"],[0.6,\"#e6f5d0\"],[0.7,\"#b8e186\"],[0.8,\"#7fbc41\"],[0.9,\"#4d9221\"],[1,\"#276419\"]],\"sequential\":[[0.0,\"#0d0887\"],[0.1111111111111111,\"#46039f\"],[0.2222222222222222,\"#7201a8\"],[0.3333333333333333,\"#9c179e\"],[0.4444444444444444,\"#bd3786\"],[0.5555555555555556,\"#d8576b\"],[0.6666666666666666,\"#ed7953\"],[0.7777777777777778,\"#fb9f3a\"],[0.8888888888888888,\"#fdca26\"],[1.0,\"#f0f921\"]],\"sequentialminus\":[[0.0,\"#0d0887\"],[0.1111111111111111,\"#46039f\"],[0.2222222222222222,\"#7201a8\"],[0.3333333333333333,\"#9c179e\"],[0.4444444444444444,\"#bd3786\"],[0.5555555555555556,\"#d8576b\"],[0.6666666666666666,\"#ed7953\"],[0.7777777777777778,\"#fb9f3a\"],[0.8888888888888888,\"#fdca26\"],[1.0,\"#f0f921\"]]},\"colorway\":[\"#636efa\",\"#EF553B\",\"#00cc96\",\"#ab63fa\",\"#FFA15A\",\"#19d3f3\",\"#FF6692\",\"#B6E880\",\"#FF97FF\",\"#FECB52\"],\"font\":{\"color\":\"#2a3f5f\"},\"geo\":{\"bgcolor\":\"white\",\"lakecolor\":\"white\",\"landcolor\":\"#E5ECF6\",\"showlakes\":true,\"showland\":true,\"subunitcolor\":\"white\"},\"hoverlabel\":{\"align\":\"left\"},\"hovermode\":\"closest\",\"mapbox\":{\"style\":\"light\"},\"paper_bgcolor\":\"white\",\"plot_bgcolor\":\"#E5ECF6\",\"polar\":{\"angularaxis\":{\"gridcolor\":\"white\",\"linecolor\":\"white\",\"ticks\":\"\"},\"bgcolor\":\"#E5ECF6\",\"radialaxis\":{\"gridcolor\":\"white\",\"linecolor\":\"white\",\"ticks\":\"\"}},\"scene\":{\"xaxis\":{\"backgroundcolor\":\"#E5ECF6\",\"gridcolor\":\"white\",\"gridwidth\":2,\"linecolor\":\"white\",\"showbackground\":true,\"ticks\":\"\",\"zerolinecolor\":\"white\"},\"yaxis\":{\"backgroundcolor\":\"#E5ECF6\",\"gridcolor\":\"white\",\"gridwidth\":2,\"linecolor\":\"white\",\"showbackground\":true,\"ticks\":\"\",\"zerolinecolor\":\"white\"},\"zaxis\":{\"backgroundcolor\":\"#E5ECF6\",\"gridcolor\":\"white\",\"gridwidth\":2,\"linecolor\":\"white\",\"showbackground\":true,\"ticks\":\"\",\"zerolinecolor\":\"white\"}},\"shapedefaults\":{\"line\":{\"color\":\"#2a3f5f\"}},\"ternary\":{\"aaxis\":{\"gridcolor\":\"white\",\"linecolor\":\"white\",\"ticks\":\"\"},\"baxis\":{\"gridcolor\":\"white\",\"linecolor\":\"white\",\"ticks\":\"\"},\"bgcolor\":\"#E5ECF6\",\"caxis\":{\"gridcolor\":\"white\",\"linecolor\":\"white\",\"ticks\":\"\"}},\"title\":{\"x\":0.05},\"xaxis\":{\"automargin\":true,\"gridcolor\":\"white\",\"linecolor\":\"white\",\"ticks\":\"\",\"title\":{\"standoff\":15},\"zerolinecolor\":\"white\",\"zerolinewidth\":2},\"yaxis\":{\"automargin\":true,\"gridcolor\":\"white\",\"linecolor\":\"white\",\"ticks\":\"\",\"title\":{\"standoff\":15},\"zerolinecolor\":\"white\",\"zerolinewidth\":2}}},\"title\":{\"text\":\"GANTT Chart\"},\"xaxis\":{\"range\":[\"1970-01-01T00:00:00\",\"1970-01-01T02:44:25.421321\"],\"title\":{\"font\":{\"color\":\"#7f7f7f\",\"family\":\"Courier New, monospace\",\"size\":18},\"text\":\"Time\"}},\"yaxis\":{\"title\":{\"font\":{\"color\":\"#7f7f7f\",\"family\":\"Courier New, monospace\",\"size\":18},\"text\":\"Activities\"}}},                        {\"responsive\": true}                    ).then(function(){\n",
       "                            \n",
       "var gd = document.getElementById('451321f3-99f6-4f32-8214-ebd9962788e2');\n",
       "var x = new MutationObserver(function (mutations, observer) {{\n",
       "        var display = window.getComputedStyle(gd).display;\n",
       "        if (!display || display === 'none') {{\n",
       "            console.log([gd, 'removed!']);\n",
       "            Plotly.purge(gd);\n",
       "            observer.disconnect();\n",
       "        }}\n",
       "}});\n",
       "\n",
       "// Listen for the removal of the full notebook cells\n",
       "var notebookContainer = gd.closest('#notebook-container');\n",
       "if (notebookContainer) {{\n",
       "    x.observe(notebookContainer, {childList: true});\n",
       "}}\n",
       "\n",
       "// Listen for the clearing of the current output cell\n",
       "var outputEl = gd.closest('.output');\n",
       "if (outputEl) {{\n",
       "    x.observe(outputEl, {childList: true});\n",
       "}}\n",
       "\n",
       "                        })                };                });            </script>        </div>"
      ]
     },
     "metadata": {},
     "output_type": "display_data"
    }
   ],
   "source": [
    "plot.get_gantt_chart([transport_activity, installer_move_sequential_activity])"
   ]
  },
  {
   "cell_type": "code",
   "execution_count": 13,
   "metadata": {},
   "outputs": [
    {
     "data": {
      "text/html": [
       "        <script type=\"text/javascript\">\n",
       "        window.PlotlyConfig = {MathJaxConfig: 'local'};\n",
       "        if (window.MathJax) {MathJax.Hub.Config({SVG: {font: \"STIX-Web\"}});}\n",
       "        if (typeof require !== 'undefined') {\n",
       "        require.undef(\"plotly\");\n",
       "        requirejs.config({\n",
       "            paths: {\n",
       "                'plotly': ['https://cdn.plot.ly/plotly-2.8.3.min']\n",
       "            }\n",
       "        });\n",
       "        require(['plotly'], function(Plotly) {\n",
       "            window._Plotly = Plotly;\n",
       "        });\n",
       "        }\n",
       "        </script>\n",
       "        "
      ]
     },
     "metadata": {},
     "output_type": "display_data"
    },
    {
     "data": {
      "application/vnd.plotly.v1+json": {
       "config": {
        "linkText": "Export to plot.ly",
        "plotlyServerURL": "https://plot.ly",
        "showLink": false
       },
       "data": [
        {
         "connectgaps": false,
         "hoverinfo": "y+name",
         "line": {
          "color": "rgb(18,226,66)",
          "width": 10
         },
         "mode": "lines",
         "name": "transfer Cargo_1",
         "type": "scatter",
         "x": [
          "1970-01-01T00:17:42.824591",
          "1970-01-01T00:17:42.824591",
          "1970-01-01T00:19:42.824591",
          "1970-01-01T00:19:42.824591",
          "1970-01-01T00:19:42.824591",
          "1970-01-01T00:53:08.473774",
          "1970-01-01T00:53:08.473774",
          "1970-01-01T00:55:08.473774",
          "1970-01-01T00:55:08.473774",
          "1970-01-01T00:55:08.473774",
          "1970-01-01T01:28:34.122956",
          "1970-01-01T01:28:34.122956",
          "1970-01-01T01:30:34.122956",
          "1970-01-01T01:30:34.122956",
          "1970-01-01T01:30:34.122956",
          "1970-01-01T02:03:59.772139",
          "1970-01-01T02:03:59.772139",
          "1970-01-01T02:05:59.772139",
          "1970-01-01T02:05:59.772139",
          "1970-01-01T02:05:59.772139",
          "1970-01-01T02:39:25.421321",
          "1970-01-01T02:39:25.421321",
          "1970-01-01T02:41:25.421321",
          "1970-01-01T02:41:25.421321",
          "1970-01-01T02:41:25.421321",
          "1970-01-01T00:17:42.824591",
          "1970-01-01T00:17:42.824591",
          "1970-01-01T00:19:42.824591",
          "1970-01-01T00:19:42.824591",
          "1970-01-01T00:19:42.824591",
          "1970-01-01T00:53:08.473774",
          "1970-01-01T00:53:08.473774",
          "1970-01-01T00:55:08.473774",
          "1970-01-01T00:55:08.473774",
          "1970-01-01T00:55:08.473774",
          "1970-01-01T01:28:34.122956",
          "1970-01-01T01:28:34.122956",
          "1970-01-01T01:30:34.122956",
          "1970-01-01T01:30:34.122956",
          "1970-01-01T01:30:34.122956",
          "1970-01-01T02:03:59.772139",
          "1970-01-01T02:03:59.772139",
          "1970-01-01T02:05:59.772139",
          "1970-01-01T02:05:59.772139",
          "1970-01-01T02:05:59.772139",
          "1970-01-01T02:39:25.421321",
          "1970-01-01T02:39:25.421321",
          "1970-01-01T02:41:25.421321",
          "1970-01-01T02:41:25.421321",
          "1970-01-01T02:41:25.421321"
         ],
         "y": [
          "transporter01",
          "transporter01",
          "transporter01",
          "transporter01",
          null,
          "transporter01",
          "transporter01",
          "transporter01",
          "transporter01",
          null,
          "transporter01",
          "transporter01",
          "transporter01",
          "transporter01",
          null,
          "transporter01",
          "transporter01",
          "transporter01",
          "transporter01",
          null,
          "transporter01",
          "transporter01",
          "transporter01",
          "transporter01",
          null,
          "installer01",
          "installer01",
          "installer01",
          "installer01",
          null,
          "installer01",
          "installer01",
          "installer01",
          "installer01",
          null,
          "installer01",
          "installer01",
          "installer01",
          "installer01",
          null,
          "installer01",
          "installer01",
          "installer01",
          "installer01",
          null,
          "installer01",
          "installer01",
          "installer01",
          "installer01",
          null
         ]
        },
        {
         "connectgaps": false,
         "hoverinfo": "y+name",
         "line": {
          "color": "rgb(41,249,89)",
          "width": 10
         },
         "mode": "lines",
         "name": "sailing empty",
         "type": "scatter",
         "x": [
          "1970-01-01T00:00:00",
          "1970-01-01T00:00:00",
          "1970-01-01T00:00:00",
          "1970-01-01T00:00:00",
          "1970-01-01T00:00:00",
          "1970-01-01T00:19:42.824591",
          "1970-01-01T00:19:42.824591",
          "1970-01-01T00:35:25.649183",
          "1970-01-01T00:35:25.649183",
          "1970-01-01T00:35:25.649183",
          "1970-01-01T00:55:08.473774",
          "1970-01-01T00:55:08.473774",
          "1970-01-01T01:10:51.298365",
          "1970-01-01T01:10:51.298365",
          "1970-01-01T01:10:51.298365",
          "1970-01-01T01:30:34.122956",
          "1970-01-01T01:30:34.122956",
          "1970-01-01T01:46:16.947548",
          "1970-01-01T01:46:16.947548",
          "1970-01-01T01:46:16.947548",
          "1970-01-01T02:05:59.772139",
          "1970-01-01T02:05:59.772139",
          "1970-01-01T02:21:42.596730",
          "1970-01-01T02:21:42.596730",
          "1970-01-01T02:21:42.596730"
         ],
         "y": [
          "transporter01",
          "transporter01",
          "transporter01",
          "transporter01",
          null,
          "transporter01",
          "transporter01",
          "transporter01",
          "transporter01",
          null,
          "transporter01",
          "transporter01",
          "transporter01",
          "transporter01",
          null,
          "transporter01",
          "transporter01",
          "transporter01",
          "transporter01",
          null,
          "transporter01",
          "transporter01",
          "transporter01",
          "transporter01",
          null
         ]
        },
        {
         "connectgaps": false,
         "hoverinfo": "y+name",
         "line": {
          "color": "rgb(64,16,112)",
          "width": 10
         },
         "mode": "lines",
         "name": "loading Cargo_1",
         "type": "scatter",
         "x": [
          "1970-01-01T00:00:00",
          "1970-01-01T00:00:00",
          "1970-01-01T00:02:00",
          "1970-01-01T00:02:00",
          "1970-01-01T00:02:00",
          "1970-01-01T00:35:25.649183",
          "1970-01-01T00:35:25.649183",
          "1970-01-01T00:37:25.649183",
          "1970-01-01T00:37:25.649183",
          "1970-01-01T00:37:25.649183",
          "1970-01-01T01:10:51.298365",
          "1970-01-01T01:10:51.298365",
          "1970-01-01T01:12:51.298365",
          "1970-01-01T01:12:51.298365",
          "1970-01-01T01:12:51.298365",
          "1970-01-01T01:46:16.947548",
          "1970-01-01T01:46:16.947548",
          "1970-01-01T01:48:16.947548",
          "1970-01-01T01:48:16.947548",
          "1970-01-01T01:48:16.947548",
          "1970-01-01T02:21:42.596730",
          "1970-01-01T02:21:42.596730",
          "1970-01-01T02:23:42.596730",
          "1970-01-01T02:23:42.596730",
          "1970-01-01T02:23:42.596730",
          "1970-01-01T00:00:00",
          "1970-01-01T00:00:00",
          "1970-01-01T00:02:00",
          "1970-01-01T00:02:00",
          "1970-01-01T00:02:00",
          "1970-01-01T00:35:25.649183",
          "1970-01-01T00:35:25.649183",
          "1970-01-01T00:37:25.649183",
          "1970-01-01T00:37:25.649183",
          "1970-01-01T00:37:25.649183",
          "1970-01-01T01:10:51.298365",
          "1970-01-01T01:10:51.298365",
          "1970-01-01T01:12:51.298365",
          "1970-01-01T01:12:51.298365",
          "1970-01-01T01:12:51.298365",
          "1970-01-01T01:46:16.947548",
          "1970-01-01T01:46:16.947548",
          "1970-01-01T01:48:16.947548",
          "1970-01-01T01:48:16.947548",
          "1970-01-01T01:48:16.947548",
          "1970-01-01T02:21:42.596730",
          "1970-01-01T02:21:42.596730",
          "1970-01-01T02:23:42.596730",
          "1970-01-01T02:23:42.596730",
          "1970-01-01T02:23:42.596730"
         ],
         "y": [
          "transporter01",
          "transporter01",
          "transporter01",
          "transporter01",
          null,
          "transporter01",
          "transporter01",
          "transporter01",
          "transporter01",
          null,
          "transporter01",
          "transporter01",
          "transporter01",
          "transporter01",
          null,
          "transporter01",
          "transporter01",
          "transporter01",
          "transporter01",
          null,
          "transporter01",
          "transporter01",
          "transporter01",
          "transporter01",
          null,
          "from_site",
          "from_site",
          "from_site",
          "from_site",
          null,
          "from_site",
          "from_site",
          "from_site",
          "from_site",
          null,
          "from_site",
          "from_site",
          "from_site",
          "from_site",
          null,
          "from_site",
          "from_site",
          "from_site",
          "from_site",
          null,
          "from_site",
          "from_site",
          "from_site",
          "from_site",
          null
         ]
        },
        {
         "connectgaps": false,
         "hoverinfo": "y+name",
         "line": {
          "color": "rgb(87,39,135)",
          "width": 10
         },
         "mode": "lines",
         "name": "sailing filled",
         "type": "scatter",
         "x": [
          "1970-01-01T00:02:00",
          "1970-01-01T00:02:00",
          "1970-01-01T00:17:42.824591",
          "1970-01-01T00:17:42.824591",
          "1970-01-01T00:17:42.824591",
          "1970-01-01T00:37:25.649183",
          "1970-01-01T00:37:25.649183",
          "1970-01-01T00:53:08.473774",
          "1970-01-01T00:53:08.473774",
          "1970-01-01T00:53:08.473774",
          "1970-01-01T01:12:51.298365",
          "1970-01-01T01:12:51.298365",
          "1970-01-01T01:28:34.122956",
          "1970-01-01T01:28:34.122956",
          "1970-01-01T01:28:34.122956",
          "1970-01-01T01:48:16.947548",
          "1970-01-01T01:48:16.947548",
          "1970-01-01T02:03:59.772139",
          "1970-01-01T02:03:59.772139",
          "1970-01-01T02:03:59.772139",
          "1970-01-01T02:23:42.596730",
          "1970-01-01T02:23:42.596730",
          "1970-01-01T02:39:25.421321",
          "1970-01-01T02:39:25.421321",
          "1970-01-01T02:39:25.421321"
         ],
         "y": [
          "transporter01",
          "transporter01",
          "transporter01",
          "transporter01",
          null,
          "transporter01",
          "transporter01",
          "transporter01",
          "transporter01",
          null,
          "transporter01",
          "transporter01",
          "transporter01",
          "transporter01",
          null,
          "transporter01",
          "transporter01",
          "transporter01",
          "transporter01",
          null,
          "transporter01",
          "transporter01",
          "transporter01",
          "transporter01",
          null
         ]
        },
        {
         "connectgaps": false,
         "hoverinfo": "y+name",
         "line": {
          "color": "rgb(110,62,158)",
          "width": 10
         },
         "mode": "lines",
         "name": "transfer Cargo_1",
         "type": "scatter",
         "x": [
          "1970-01-01T00:17:42.824591",
          "1970-01-01T00:17:42.824591",
          "1970-01-01T00:19:42.824591",
          "1970-01-01T00:19:42.824591",
          "1970-01-01T00:19:42.824591",
          "1970-01-01T00:53:08.473774",
          "1970-01-01T00:53:08.473774",
          "1970-01-01T00:55:08.473774",
          "1970-01-01T00:55:08.473774",
          "1970-01-01T00:55:08.473774",
          "1970-01-01T01:28:34.122956",
          "1970-01-01T01:28:34.122956",
          "1970-01-01T01:30:34.122956",
          "1970-01-01T01:30:34.122956",
          "1970-01-01T01:30:34.122956",
          "1970-01-01T02:03:59.772139",
          "1970-01-01T02:03:59.772139",
          "1970-01-01T02:05:59.772139",
          "1970-01-01T02:05:59.772139",
          "1970-01-01T02:05:59.772139",
          "1970-01-01T02:39:25.421321",
          "1970-01-01T02:39:25.421321",
          "1970-01-01T02:41:25.421321",
          "1970-01-01T02:41:25.421321",
          "1970-01-01T02:41:25.421321",
          "1970-01-01T00:17:42.824591",
          "1970-01-01T00:17:42.824591",
          "1970-01-01T00:19:42.824591",
          "1970-01-01T00:19:42.824591",
          "1970-01-01T00:19:42.824591",
          "1970-01-01T00:53:08.473774",
          "1970-01-01T00:53:08.473774",
          "1970-01-01T00:55:08.473774",
          "1970-01-01T00:55:08.473774",
          "1970-01-01T00:55:08.473774",
          "1970-01-01T01:28:34.122956",
          "1970-01-01T01:28:34.122956",
          "1970-01-01T01:30:34.122956",
          "1970-01-01T01:30:34.122956",
          "1970-01-01T01:30:34.122956",
          "1970-01-01T02:03:59.772139",
          "1970-01-01T02:03:59.772139",
          "1970-01-01T02:05:59.772139",
          "1970-01-01T02:05:59.772139",
          "1970-01-01T02:05:59.772139",
          "1970-01-01T02:39:25.421321",
          "1970-01-01T02:39:25.421321",
          "1970-01-01T02:41:25.421321",
          "1970-01-01T02:41:25.421321",
          "1970-01-01T02:41:25.421321"
         ],
         "y": [
          "transporter01",
          "transporter01",
          "transporter01",
          "transporter01",
          null,
          "transporter01",
          "transporter01",
          "transporter01",
          "transporter01",
          null,
          "transporter01",
          "transporter01",
          "transporter01",
          "transporter01",
          null,
          "transporter01",
          "transporter01",
          "transporter01",
          "transporter01",
          null,
          "transporter01",
          "transporter01",
          "transporter01",
          "transporter01",
          null,
          "installer01",
          "installer01",
          "installer01",
          "installer01",
          null,
          "installer01",
          "installer01",
          "installer01",
          "installer01",
          null,
          "installer01",
          "installer01",
          "installer01",
          "installer01",
          null,
          "installer01",
          "installer01",
          "installer01",
          "installer01",
          null,
          "installer01",
          "installer01",
          "installer01",
          "installer01",
          null
         ]
        },
        {
         "connectgaps": false,
         "hoverinfo": "y+name",
         "line": {
          "color": "rgb(133,85,181)",
          "width": 10
         },
         "mode": "lines",
         "name": "unload Cargo_1",
         "type": "scatter",
         "x": [
          "1970-01-01T00:20:42.824591",
          "1970-01-01T00:20:42.824591",
          "1970-01-01T00:22:42.824591",
          "1970-01-01T00:22:42.824591",
          "1970-01-01T00:22:42.824591",
          "1970-01-01T00:56:08.473774",
          "1970-01-01T00:56:08.473774",
          "1970-01-01T00:58:08.473774",
          "1970-01-01T00:58:08.473774",
          "1970-01-01T00:58:08.473774",
          "1970-01-01T01:31:34.122956",
          "1970-01-01T01:31:34.122956",
          "1970-01-01T01:33:34.122956",
          "1970-01-01T01:33:34.122956",
          "1970-01-01T01:33:34.122956",
          "1970-01-01T02:06:59.772139",
          "1970-01-01T02:06:59.772139",
          "1970-01-01T02:08:59.772139",
          "1970-01-01T02:08:59.772139",
          "1970-01-01T02:08:59.772139",
          "1970-01-01T02:42:25.421321",
          "1970-01-01T02:42:25.421321",
          "1970-01-01T02:44:25.421321",
          "1970-01-01T02:44:25.421321",
          "1970-01-01T02:44:25.421321",
          "1970-01-01T00:20:42.824591",
          "1970-01-01T00:20:42.824591",
          "1970-01-01T00:22:42.824591",
          "1970-01-01T00:22:42.824591",
          "1970-01-01T00:22:42.824591",
          "1970-01-01T00:56:08.473774",
          "1970-01-01T00:56:08.473774",
          "1970-01-01T00:58:08.473774",
          "1970-01-01T00:58:08.473774",
          "1970-01-01T00:58:08.473774",
          "1970-01-01T01:31:34.122956",
          "1970-01-01T01:31:34.122956",
          "1970-01-01T01:33:34.122956",
          "1970-01-01T01:33:34.122956",
          "1970-01-01T01:33:34.122956",
          "1970-01-01T02:06:59.772139",
          "1970-01-01T02:06:59.772139",
          "1970-01-01T02:08:59.772139",
          "1970-01-01T02:08:59.772139",
          "1970-01-01T02:08:59.772139",
          "1970-01-01T02:42:25.421321",
          "1970-01-01T02:42:25.421321",
          "1970-01-01T02:44:25.421321",
          "1970-01-01T02:44:25.421321",
          "1970-01-01T02:44:25.421321"
         ],
         "y": [
          "installer01",
          "installer01",
          "installer01",
          "installer01",
          null,
          "installer01",
          "installer01",
          "installer01",
          "installer01",
          null,
          "installer01",
          "installer01",
          "installer01",
          "installer01",
          null,
          "installer01",
          "installer01",
          "installer01",
          "installer01",
          null,
          "installer01",
          "installer01",
          "installer01",
          "installer01",
          null,
          "to_site",
          "to_site",
          "to_site",
          "to_site",
          null,
          "to_site",
          "to_site",
          "to_site",
          "to_site",
          null,
          "to_site",
          "to_site",
          "to_site",
          "to_site",
          null,
          "to_site",
          "to_site",
          "to_site",
          "to_site",
          null,
          "to_site",
          "to_site",
          "to_site",
          "to_site",
          null
         ]
        },
        {
         "connectgaps": false,
         "hoverinfo": "y+name",
         "line": {
          "color": "rgb(156,108,204)",
          "width": 10
         },
         "mode": "lines",
         "name": "sailing to site",
         "type": "scatter",
         "x": [
          "1970-01-01T00:00:00",
          "1970-01-01T00:00:00",
          "1970-01-01T00:15:42.824591",
          "1970-01-01T00:15:42.824591",
          "1970-01-01T00:15:42.824591"
         ],
         "y": [
          "installer01",
          "installer01",
          "installer01",
          "installer01",
          null
         ]
        },
        {
         "connectgaps": false,
         "hoverinfo": "y+name",
         "line": {
          "color": "rgb(179,131,227)",
          "width": 10
         },
         "mode": "lines",
         "name": "preparing for delivery",
         "type": "scatter",
         "x": [
          "1970-01-01T00:15:42.824591",
          "1970-01-01T00:15:42.824591",
          "1970-01-01T00:16:12.824591",
          "1970-01-01T00:16:12.824591",
          "1970-01-01T00:16:12.824591",
          "1970-01-01T00:22:42.824591",
          "1970-01-01T00:22:42.824591",
          "1970-01-01T00:23:12.824591",
          "1970-01-01T00:23:12.824591",
          "1970-01-01T00:23:12.824591",
          "1970-01-01T00:58:08.473774",
          "1970-01-01T00:58:08.473774",
          "1970-01-01T00:58:38.473774",
          "1970-01-01T00:58:38.473774",
          "1970-01-01T00:58:38.473774",
          "1970-01-01T01:33:34.122956",
          "1970-01-01T01:33:34.122956",
          "1970-01-01T01:34:04.122956",
          "1970-01-01T01:34:04.122956",
          "1970-01-01T01:34:04.122956",
          "1970-01-01T02:08:59.772139",
          "1970-01-01T02:08:59.772139",
          "1970-01-01T02:09:29.772139",
          "1970-01-01T02:09:29.772139",
          "1970-01-01T02:09:29.772139"
         ],
         "y": [
          "installer01",
          "installer01",
          "installer01",
          "installer01",
          null,
          "installer01",
          "installer01",
          "installer01",
          "installer01",
          null,
          "installer01",
          "installer01",
          "installer01",
          "installer01",
          null,
          "installer01",
          "installer01",
          "installer01",
          "installer01",
          null,
          "installer01",
          "installer01",
          "installer01",
          "installer01",
          null
         ]
        },
        {
         "connectgaps": false,
         "hoverinfo": "y+name",
         "line": {
          "color": "rgb(202,154,250)",
          "width": 10
         },
         "mode": "lines",
         "name": "preparing for unloading",
         "type": "scatter",
         "x": [
          "1970-01-01T00:19:42.824591",
          "1970-01-01T00:19:42.824591",
          "1970-01-01T00:20:42.824591",
          "1970-01-01T00:20:42.824591",
          "1970-01-01T00:20:42.824591",
          "1970-01-01T00:55:08.473774",
          "1970-01-01T00:55:08.473774",
          "1970-01-01T00:56:08.473774",
          "1970-01-01T00:56:08.473774",
          "1970-01-01T00:56:08.473774",
          "1970-01-01T01:30:34.122956",
          "1970-01-01T01:30:34.122956",
          "1970-01-01T01:31:34.122956",
          "1970-01-01T01:31:34.122956",
          "1970-01-01T01:31:34.122956",
          "1970-01-01T02:05:59.772139",
          "1970-01-01T02:05:59.772139",
          "1970-01-01T02:06:59.772139",
          "1970-01-01T02:06:59.772139",
          "1970-01-01T02:06:59.772139",
          "1970-01-01T02:41:25.421321",
          "1970-01-01T02:41:25.421321",
          "1970-01-01T02:42:25.421321",
          "1970-01-01T02:42:25.421321",
          "1970-01-01T02:42:25.421321"
         ],
         "y": [
          "installer01",
          "installer01",
          "installer01",
          "installer01",
          null,
          "installer01",
          "installer01",
          "installer01",
          "installer01",
          null,
          "installer01",
          "installer01",
          "installer01",
          "installer01",
          null,
          "installer01",
          "installer01",
          "installer01",
          "installer01",
          null,
          "installer01",
          "installer01",
          "installer01",
          "installer01",
          null
         ]
        },
        {
         "connectgaps": false,
         "hoverinfo": "y+name",
         "line": {
          "color": "rgb(225,177,17)",
          "width": 10
         },
         "mode": "lines",
         "name": "loading Cargo_1",
         "type": "scatter",
         "x": [
          "1970-01-01T00:00:00",
          "1970-01-01T00:00:00",
          "1970-01-01T00:02:00",
          "1970-01-01T00:02:00",
          "1970-01-01T00:02:00",
          "1970-01-01T00:35:25.649183",
          "1970-01-01T00:35:25.649183",
          "1970-01-01T00:37:25.649183",
          "1970-01-01T00:37:25.649183",
          "1970-01-01T00:37:25.649183",
          "1970-01-01T01:10:51.298365",
          "1970-01-01T01:10:51.298365",
          "1970-01-01T01:12:51.298365",
          "1970-01-01T01:12:51.298365",
          "1970-01-01T01:12:51.298365",
          "1970-01-01T01:46:16.947548",
          "1970-01-01T01:46:16.947548",
          "1970-01-01T01:48:16.947548",
          "1970-01-01T01:48:16.947548",
          "1970-01-01T01:48:16.947548",
          "1970-01-01T02:21:42.596730",
          "1970-01-01T02:21:42.596730",
          "1970-01-01T02:23:42.596730",
          "1970-01-01T02:23:42.596730",
          "1970-01-01T02:23:42.596730",
          "1970-01-01T00:00:00",
          "1970-01-01T00:00:00",
          "1970-01-01T00:02:00",
          "1970-01-01T00:02:00",
          "1970-01-01T00:02:00",
          "1970-01-01T00:35:25.649183",
          "1970-01-01T00:35:25.649183",
          "1970-01-01T00:37:25.649183",
          "1970-01-01T00:37:25.649183",
          "1970-01-01T00:37:25.649183",
          "1970-01-01T01:10:51.298365",
          "1970-01-01T01:10:51.298365",
          "1970-01-01T01:12:51.298365",
          "1970-01-01T01:12:51.298365",
          "1970-01-01T01:12:51.298365",
          "1970-01-01T01:46:16.947548",
          "1970-01-01T01:46:16.947548",
          "1970-01-01T01:48:16.947548",
          "1970-01-01T01:48:16.947548",
          "1970-01-01T01:48:16.947548",
          "1970-01-01T02:21:42.596730",
          "1970-01-01T02:21:42.596730",
          "1970-01-01T02:23:42.596730",
          "1970-01-01T02:23:42.596730",
          "1970-01-01T02:23:42.596730"
         ],
         "y": [
          "transporter01",
          "transporter01",
          "transporter01",
          "transporter01",
          null,
          "transporter01",
          "transporter01",
          "transporter01",
          "transporter01",
          null,
          "transporter01",
          "transporter01",
          "transporter01",
          "transporter01",
          null,
          "transporter01",
          "transporter01",
          "transporter01",
          "transporter01",
          null,
          "transporter01",
          "transporter01",
          "transporter01",
          "transporter01",
          null,
          "from_site",
          "from_site",
          "from_site",
          "from_site",
          null,
          "from_site",
          "from_site",
          "from_site",
          "from_site",
          null,
          "from_site",
          "from_site",
          "from_site",
          "from_site",
          null,
          "from_site",
          "from_site",
          "from_site",
          "from_site",
          null,
          "from_site",
          "from_site",
          "from_site",
          "from_site",
          null
         ]
        },
        {
         "connectgaps": false,
         "hoverinfo": "y+name",
         "line": {
          "color": "rgb(248,200,40)",
          "width": 10
         },
         "mode": "lines",
         "name": "unload Cargo_1",
         "type": "scatter",
         "x": [
          "1970-01-01T00:20:42.824591",
          "1970-01-01T00:20:42.824591",
          "1970-01-01T00:22:42.824591",
          "1970-01-01T00:22:42.824591",
          "1970-01-01T00:22:42.824591",
          "1970-01-01T00:56:08.473774",
          "1970-01-01T00:56:08.473774",
          "1970-01-01T00:58:08.473774",
          "1970-01-01T00:58:08.473774",
          "1970-01-01T00:58:08.473774",
          "1970-01-01T01:31:34.122956",
          "1970-01-01T01:31:34.122956",
          "1970-01-01T01:33:34.122956",
          "1970-01-01T01:33:34.122956",
          "1970-01-01T01:33:34.122956",
          "1970-01-01T02:06:59.772139",
          "1970-01-01T02:06:59.772139",
          "1970-01-01T02:08:59.772139",
          "1970-01-01T02:08:59.772139",
          "1970-01-01T02:08:59.772139",
          "1970-01-01T02:42:25.421321",
          "1970-01-01T02:42:25.421321",
          "1970-01-01T02:44:25.421321",
          "1970-01-01T02:44:25.421321",
          "1970-01-01T02:44:25.421321",
          "1970-01-01T00:20:42.824591",
          "1970-01-01T00:20:42.824591",
          "1970-01-01T00:22:42.824591",
          "1970-01-01T00:22:42.824591",
          "1970-01-01T00:22:42.824591",
          "1970-01-01T00:56:08.473774",
          "1970-01-01T00:56:08.473774",
          "1970-01-01T00:58:08.473774",
          "1970-01-01T00:58:08.473774",
          "1970-01-01T00:58:08.473774",
          "1970-01-01T01:31:34.122956",
          "1970-01-01T01:31:34.122956",
          "1970-01-01T01:33:34.122956",
          "1970-01-01T01:33:34.122956",
          "1970-01-01T01:33:34.122956",
          "1970-01-01T02:06:59.772139",
          "1970-01-01T02:06:59.772139",
          "1970-01-01T02:08:59.772139",
          "1970-01-01T02:08:59.772139",
          "1970-01-01T02:08:59.772139",
          "1970-01-01T02:42:25.421321",
          "1970-01-01T02:42:25.421321",
          "1970-01-01T02:44:25.421321",
          "1970-01-01T02:44:25.421321",
          "1970-01-01T02:44:25.421321"
         ],
         "y": [
          "installer01",
          "installer01",
          "installer01",
          "installer01",
          null,
          "installer01",
          "installer01",
          "installer01",
          "installer01",
          null,
          "installer01",
          "installer01",
          "installer01",
          "installer01",
          null,
          "installer01",
          "installer01",
          "installer01",
          "installer01",
          null,
          "installer01",
          "installer01",
          "installer01",
          "installer01",
          null,
          "to_site",
          "to_site",
          "to_site",
          "to_site",
          null,
          "to_site",
          "to_site",
          "to_site",
          "to_site",
          null,
          "to_site",
          "to_site",
          "to_site",
          "to_site",
          null,
          "to_site",
          "to_site",
          "to_site",
          "to_site",
          null,
          "to_site",
          "to_site",
          "to_site",
          "to_site",
          null
         ]
        }
       ],
       "layout": {
        "hovermode": "closest",
        "legend": {
         "orientation": "h",
         "x": 0,
         "y": -0.2
        },
        "template": {
         "data": {
          "bar": [
           {
            "error_x": {
             "color": "#2a3f5f"
            },
            "error_y": {
             "color": "#2a3f5f"
            },
            "marker": {
             "line": {
              "color": "#E5ECF6",
              "width": 0.5
             },
             "pattern": {
              "fillmode": "overlay",
              "size": 10,
              "solidity": 0.2
             }
            },
            "type": "bar"
           }
          ],
          "barpolar": [
           {
            "marker": {
             "line": {
              "color": "#E5ECF6",
              "width": 0.5
             },
             "pattern": {
              "fillmode": "overlay",
              "size": 10,
              "solidity": 0.2
             }
            },
            "type": "barpolar"
           }
          ],
          "carpet": [
           {
            "aaxis": {
             "endlinecolor": "#2a3f5f",
             "gridcolor": "white",
             "linecolor": "white",
             "minorgridcolor": "white",
             "startlinecolor": "#2a3f5f"
            },
            "baxis": {
             "endlinecolor": "#2a3f5f",
             "gridcolor": "white",
             "linecolor": "white",
             "minorgridcolor": "white",
             "startlinecolor": "#2a3f5f"
            },
            "type": "carpet"
           }
          ],
          "choropleth": [
           {
            "colorbar": {
             "outlinewidth": 0,
             "ticks": ""
            },
            "type": "choropleth"
           }
          ],
          "contour": [
           {
            "colorbar": {
             "outlinewidth": 0,
             "ticks": ""
            },
            "colorscale": [
             [
              0,
              "#0d0887"
             ],
             [
              0.1111111111111111,
              "#46039f"
             ],
             [
              0.2222222222222222,
              "#7201a8"
             ],
             [
              0.3333333333333333,
              "#9c179e"
             ],
             [
              0.4444444444444444,
              "#bd3786"
             ],
             [
              0.5555555555555556,
              "#d8576b"
             ],
             [
              0.6666666666666666,
              "#ed7953"
             ],
             [
              0.7777777777777778,
              "#fb9f3a"
             ],
             [
              0.8888888888888888,
              "#fdca26"
             ],
             [
              1,
              "#f0f921"
             ]
            ],
            "type": "contour"
           }
          ],
          "contourcarpet": [
           {
            "colorbar": {
             "outlinewidth": 0,
             "ticks": ""
            },
            "type": "contourcarpet"
           }
          ],
          "heatmap": [
           {
            "colorbar": {
             "outlinewidth": 0,
             "ticks": ""
            },
            "colorscale": [
             [
              0,
              "#0d0887"
             ],
             [
              0.1111111111111111,
              "#46039f"
             ],
             [
              0.2222222222222222,
              "#7201a8"
             ],
             [
              0.3333333333333333,
              "#9c179e"
             ],
             [
              0.4444444444444444,
              "#bd3786"
             ],
             [
              0.5555555555555556,
              "#d8576b"
             ],
             [
              0.6666666666666666,
              "#ed7953"
             ],
             [
              0.7777777777777778,
              "#fb9f3a"
             ],
             [
              0.8888888888888888,
              "#fdca26"
             ],
             [
              1,
              "#f0f921"
             ]
            ],
            "type": "heatmap"
           }
          ],
          "heatmapgl": [
           {
            "colorbar": {
             "outlinewidth": 0,
             "ticks": ""
            },
            "colorscale": [
             [
              0,
              "#0d0887"
             ],
             [
              0.1111111111111111,
              "#46039f"
             ],
             [
              0.2222222222222222,
              "#7201a8"
             ],
             [
              0.3333333333333333,
              "#9c179e"
             ],
             [
              0.4444444444444444,
              "#bd3786"
             ],
             [
              0.5555555555555556,
              "#d8576b"
             ],
             [
              0.6666666666666666,
              "#ed7953"
             ],
             [
              0.7777777777777778,
              "#fb9f3a"
             ],
             [
              0.8888888888888888,
              "#fdca26"
             ],
             [
              1,
              "#f0f921"
             ]
            ],
            "type": "heatmapgl"
           }
          ],
          "histogram": [
           {
            "marker": {
             "pattern": {
              "fillmode": "overlay",
              "size": 10,
              "solidity": 0.2
             }
            },
            "type": "histogram"
           }
          ],
          "histogram2d": [
           {
            "colorbar": {
             "outlinewidth": 0,
             "ticks": ""
            },
            "colorscale": [
             [
              0,
              "#0d0887"
             ],
             [
              0.1111111111111111,
              "#46039f"
             ],
             [
              0.2222222222222222,
              "#7201a8"
             ],
             [
              0.3333333333333333,
              "#9c179e"
             ],
             [
              0.4444444444444444,
              "#bd3786"
             ],
             [
              0.5555555555555556,
              "#d8576b"
             ],
             [
              0.6666666666666666,
              "#ed7953"
             ],
             [
              0.7777777777777778,
              "#fb9f3a"
             ],
             [
              0.8888888888888888,
              "#fdca26"
             ],
             [
              1,
              "#f0f921"
             ]
            ],
            "type": "histogram2d"
           }
          ],
          "histogram2dcontour": [
           {
            "colorbar": {
             "outlinewidth": 0,
             "ticks": ""
            },
            "colorscale": [
             [
              0,
              "#0d0887"
             ],
             [
              0.1111111111111111,
              "#46039f"
             ],
             [
              0.2222222222222222,
              "#7201a8"
             ],
             [
              0.3333333333333333,
              "#9c179e"
             ],
             [
              0.4444444444444444,
              "#bd3786"
             ],
             [
              0.5555555555555556,
              "#d8576b"
             ],
             [
              0.6666666666666666,
              "#ed7953"
             ],
             [
              0.7777777777777778,
              "#fb9f3a"
             ],
             [
              0.8888888888888888,
              "#fdca26"
             ],
             [
              1,
              "#f0f921"
             ]
            ],
            "type": "histogram2dcontour"
           }
          ],
          "mesh3d": [
           {
            "colorbar": {
             "outlinewidth": 0,
             "ticks": ""
            },
            "type": "mesh3d"
           }
          ],
          "parcoords": [
           {
            "line": {
             "colorbar": {
              "outlinewidth": 0,
              "ticks": ""
             }
            },
            "type": "parcoords"
           }
          ],
          "pie": [
           {
            "automargin": true,
            "type": "pie"
           }
          ],
          "scatter": [
           {
            "marker": {
             "colorbar": {
              "outlinewidth": 0,
              "ticks": ""
             }
            },
            "type": "scatter"
           }
          ],
          "scatter3d": [
           {
            "line": {
             "colorbar": {
              "outlinewidth": 0,
              "ticks": ""
             }
            },
            "marker": {
             "colorbar": {
              "outlinewidth": 0,
              "ticks": ""
             }
            },
            "type": "scatter3d"
           }
          ],
          "scattercarpet": [
           {
            "marker": {
             "colorbar": {
              "outlinewidth": 0,
              "ticks": ""
             }
            },
            "type": "scattercarpet"
           }
          ],
          "scattergeo": [
           {
            "marker": {
             "colorbar": {
              "outlinewidth": 0,
              "ticks": ""
             }
            },
            "type": "scattergeo"
           }
          ],
          "scattergl": [
           {
            "marker": {
             "colorbar": {
              "outlinewidth": 0,
              "ticks": ""
             }
            },
            "type": "scattergl"
           }
          ],
          "scattermapbox": [
           {
            "marker": {
             "colorbar": {
              "outlinewidth": 0,
              "ticks": ""
             }
            },
            "type": "scattermapbox"
           }
          ],
          "scatterpolar": [
           {
            "marker": {
             "colorbar": {
              "outlinewidth": 0,
              "ticks": ""
             }
            },
            "type": "scatterpolar"
           }
          ],
          "scatterpolargl": [
           {
            "marker": {
             "colorbar": {
              "outlinewidth": 0,
              "ticks": ""
             }
            },
            "type": "scatterpolargl"
           }
          ],
          "scatterternary": [
           {
            "marker": {
             "colorbar": {
              "outlinewidth": 0,
              "ticks": ""
             }
            },
            "type": "scatterternary"
           }
          ],
          "surface": [
           {
            "colorbar": {
             "outlinewidth": 0,
             "ticks": ""
            },
            "colorscale": [
             [
              0,
              "#0d0887"
             ],
             [
              0.1111111111111111,
              "#46039f"
             ],
             [
              0.2222222222222222,
              "#7201a8"
             ],
             [
              0.3333333333333333,
              "#9c179e"
             ],
             [
              0.4444444444444444,
              "#bd3786"
             ],
             [
              0.5555555555555556,
              "#d8576b"
             ],
             [
              0.6666666666666666,
              "#ed7953"
             ],
             [
              0.7777777777777778,
              "#fb9f3a"
             ],
             [
              0.8888888888888888,
              "#fdca26"
             ],
             [
              1,
              "#f0f921"
             ]
            ],
            "type": "surface"
           }
          ],
          "table": [
           {
            "cells": {
             "fill": {
              "color": "#EBF0F8"
             },
             "line": {
              "color": "white"
             }
            },
            "header": {
             "fill": {
              "color": "#C8D4E3"
             },
             "line": {
              "color": "white"
             }
            },
            "type": "table"
           }
          ]
         },
         "layout": {
          "annotationdefaults": {
           "arrowcolor": "#2a3f5f",
           "arrowhead": 0,
           "arrowwidth": 1
          },
          "autotypenumbers": "strict",
          "coloraxis": {
           "colorbar": {
            "outlinewidth": 0,
            "ticks": ""
           }
          },
          "colorscale": {
           "diverging": [
            [
             0,
             "#8e0152"
            ],
            [
             0.1,
             "#c51b7d"
            ],
            [
             0.2,
             "#de77ae"
            ],
            [
             0.3,
             "#f1b6da"
            ],
            [
             0.4,
             "#fde0ef"
            ],
            [
             0.5,
             "#f7f7f7"
            ],
            [
             0.6,
             "#e6f5d0"
            ],
            [
             0.7,
             "#b8e186"
            ],
            [
             0.8,
             "#7fbc41"
            ],
            [
             0.9,
             "#4d9221"
            ],
            [
             1,
             "#276419"
            ]
           ],
           "sequential": [
            [
             0,
             "#0d0887"
            ],
            [
             0.1111111111111111,
             "#46039f"
            ],
            [
             0.2222222222222222,
             "#7201a8"
            ],
            [
             0.3333333333333333,
             "#9c179e"
            ],
            [
             0.4444444444444444,
             "#bd3786"
            ],
            [
             0.5555555555555556,
             "#d8576b"
            ],
            [
             0.6666666666666666,
             "#ed7953"
            ],
            [
             0.7777777777777778,
             "#fb9f3a"
            ],
            [
             0.8888888888888888,
             "#fdca26"
            ],
            [
             1,
             "#f0f921"
            ]
           ],
           "sequentialminus": [
            [
             0,
             "#0d0887"
            ],
            [
             0.1111111111111111,
             "#46039f"
            ],
            [
             0.2222222222222222,
             "#7201a8"
            ],
            [
             0.3333333333333333,
             "#9c179e"
            ],
            [
             0.4444444444444444,
             "#bd3786"
            ],
            [
             0.5555555555555556,
             "#d8576b"
            ],
            [
             0.6666666666666666,
             "#ed7953"
            ],
            [
             0.7777777777777778,
             "#fb9f3a"
            ],
            [
             0.8888888888888888,
             "#fdca26"
            ],
            [
             1,
             "#f0f921"
            ]
           ]
          },
          "colorway": [
           "#636efa",
           "#EF553B",
           "#00cc96",
           "#ab63fa",
           "#FFA15A",
           "#19d3f3",
           "#FF6692",
           "#B6E880",
           "#FF97FF",
           "#FECB52"
          ],
          "font": {
           "color": "#2a3f5f"
          },
          "geo": {
           "bgcolor": "white",
           "lakecolor": "white",
           "landcolor": "#E5ECF6",
           "showlakes": true,
           "showland": true,
           "subunitcolor": "white"
          },
          "hoverlabel": {
           "align": "left"
          },
          "hovermode": "closest",
          "mapbox": {
           "style": "light"
          },
          "paper_bgcolor": "white",
          "plot_bgcolor": "#E5ECF6",
          "polar": {
           "angularaxis": {
            "gridcolor": "white",
            "linecolor": "white",
            "ticks": ""
           },
           "bgcolor": "#E5ECF6",
           "radialaxis": {
            "gridcolor": "white",
            "linecolor": "white",
            "ticks": ""
           }
          },
          "scene": {
           "xaxis": {
            "backgroundcolor": "#E5ECF6",
            "gridcolor": "white",
            "gridwidth": 2,
            "linecolor": "white",
            "showbackground": true,
            "ticks": "",
            "zerolinecolor": "white"
           },
           "yaxis": {
            "backgroundcolor": "#E5ECF6",
            "gridcolor": "white",
            "gridwidth": 2,
            "linecolor": "white",
            "showbackground": true,
            "ticks": "",
            "zerolinecolor": "white"
           },
           "zaxis": {
            "backgroundcolor": "#E5ECF6",
            "gridcolor": "white",
            "gridwidth": 2,
            "linecolor": "white",
            "showbackground": true,
            "ticks": "",
            "zerolinecolor": "white"
           }
          },
          "shapedefaults": {
           "line": {
            "color": "#2a3f5f"
           }
          },
          "ternary": {
           "aaxis": {
            "gridcolor": "white",
            "linecolor": "white",
            "ticks": ""
           },
           "baxis": {
            "gridcolor": "white",
            "linecolor": "white",
            "ticks": ""
           },
           "bgcolor": "#E5ECF6",
           "caxis": {
            "gridcolor": "white",
            "linecolor": "white",
            "ticks": ""
           }
          },
          "title": {
           "x": 0.05
          },
          "xaxis": {
           "automargin": true,
           "gridcolor": "white",
           "linecolor": "white",
           "ticks": "",
           "title": {
            "standoff": 15
           },
           "zerolinecolor": "white",
           "zerolinewidth": 2
          },
          "yaxis": {
           "automargin": true,
           "gridcolor": "white",
           "linecolor": "white",
           "ticks": "",
           "title": {
            "standoff": 15
           },
           "zerolinecolor": "white",
           "zerolinewidth": 2
          }
         }
        },
        "title": {
         "text": "GANTT Chart"
        },
        "xaxis": {
         "range": [
          "1970-01-01T00:00:00",
          "1970-01-01T02:44:25.421321"
         ],
         "title": {
          "font": {
           "color": "#7f7f7f",
           "family": "Courier New, monospace",
           "size": 18
          },
          "text": "Time"
         }
        },
        "yaxis": {
         "title": {
          "font": {
           "color": "#7f7f7f",
           "family": "Courier New, monospace",
           "size": 18
          },
          "text": "Activities"
         }
        }
       }
      },
      "text/html": [
       "<div>                            <div id=\"eec97529-f5fb-403b-a8e8-c17676b66249\" class=\"plotly-graph-div\" style=\"height:525px; width:100%;\"></div>            <script type=\"text/javascript\">                require([\"plotly\"], function(Plotly) {                    window.PLOTLYENV=window.PLOTLYENV || {};                                    if (document.getElementById(\"eec97529-f5fb-403b-a8e8-c17676b66249\")) {                    Plotly.newPlot(                        \"eec97529-f5fb-403b-a8e8-c17676b66249\",                        [{\"connectgaps\":false,\"hoverinfo\":\"y+name\",\"line\":{\"color\":\"rgb(18,226,66)\",\"width\":10},\"mode\":\"lines\",\"name\":\"transfer Cargo_1\",\"x\":[\"1970-01-01T00:17:42.824591\",\"1970-01-01T00:17:42.824591\",\"1970-01-01T00:19:42.824591\",\"1970-01-01T00:19:42.824591\",\"1970-01-01T00:19:42.824591\",\"1970-01-01T00:53:08.473774\",\"1970-01-01T00:53:08.473774\",\"1970-01-01T00:55:08.473774\",\"1970-01-01T00:55:08.473774\",\"1970-01-01T00:55:08.473774\",\"1970-01-01T01:28:34.122956\",\"1970-01-01T01:28:34.122956\",\"1970-01-01T01:30:34.122956\",\"1970-01-01T01:30:34.122956\",\"1970-01-01T01:30:34.122956\",\"1970-01-01T02:03:59.772139\",\"1970-01-01T02:03:59.772139\",\"1970-01-01T02:05:59.772139\",\"1970-01-01T02:05:59.772139\",\"1970-01-01T02:05:59.772139\",\"1970-01-01T02:39:25.421321\",\"1970-01-01T02:39:25.421321\",\"1970-01-01T02:41:25.421321\",\"1970-01-01T02:41:25.421321\",\"1970-01-01T02:41:25.421321\",\"1970-01-01T00:17:42.824591\",\"1970-01-01T00:17:42.824591\",\"1970-01-01T00:19:42.824591\",\"1970-01-01T00:19:42.824591\",\"1970-01-01T00:19:42.824591\",\"1970-01-01T00:53:08.473774\",\"1970-01-01T00:53:08.473774\",\"1970-01-01T00:55:08.473774\",\"1970-01-01T00:55:08.473774\",\"1970-01-01T00:55:08.473774\",\"1970-01-01T01:28:34.122956\",\"1970-01-01T01:28:34.122956\",\"1970-01-01T01:30:34.122956\",\"1970-01-01T01:30:34.122956\",\"1970-01-01T01:30:34.122956\",\"1970-01-01T02:03:59.772139\",\"1970-01-01T02:03:59.772139\",\"1970-01-01T02:05:59.772139\",\"1970-01-01T02:05:59.772139\",\"1970-01-01T02:05:59.772139\",\"1970-01-01T02:39:25.421321\",\"1970-01-01T02:39:25.421321\",\"1970-01-01T02:41:25.421321\",\"1970-01-01T02:41:25.421321\",\"1970-01-01T02:41:25.421321\"],\"y\":[\"transporter01\",\"transporter01\",\"transporter01\",\"transporter01\",null,\"transporter01\",\"transporter01\",\"transporter01\",\"transporter01\",null,\"transporter01\",\"transporter01\",\"transporter01\",\"transporter01\",null,\"transporter01\",\"transporter01\",\"transporter01\",\"transporter01\",null,\"transporter01\",\"transporter01\",\"transporter01\",\"transporter01\",null,\"installer01\",\"installer01\",\"installer01\",\"installer01\",null,\"installer01\",\"installer01\",\"installer01\",\"installer01\",null,\"installer01\",\"installer01\",\"installer01\",\"installer01\",null,\"installer01\",\"installer01\",\"installer01\",\"installer01\",null,\"installer01\",\"installer01\",\"installer01\",\"installer01\",null],\"type\":\"scatter\"},{\"connectgaps\":false,\"hoverinfo\":\"y+name\",\"line\":{\"color\":\"rgb(41,249,89)\",\"width\":10},\"mode\":\"lines\",\"name\":\"sailing empty\",\"x\":[\"1970-01-01T00:00:00\",\"1970-01-01T00:00:00\",\"1970-01-01T00:00:00\",\"1970-01-01T00:00:00\",\"1970-01-01T00:00:00\",\"1970-01-01T00:19:42.824591\",\"1970-01-01T00:19:42.824591\",\"1970-01-01T00:35:25.649183\",\"1970-01-01T00:35:25.649183\",\"1970-01-01T00:35:25.649183\",\"1970-01-01T00:55:08.473774\",\"1970-01-01T00:55:08.473774\",\"1970-01-01T01:10:51.298365\",\"1970-01-01T01:10:51.298365\",\"1970-01-01T01:10:51.298365\",\"1970-01-01T01:30:34.122956\",\"1970-01-01T01:30:34.122956\",\"1970-01-01T01:46:16.947548\",\"1970-01-01T01:46:16.947548\",\"1970-01-01T01:46:16.947548\",\"1970-01-01T02:05:59.772139\",\"1970-01-01T02:05:59.772139\",\"1970-01-01T02:21:42.596730\",\"1970-01-01T02:21:42.596730\",\"1970-01-01T02:21:42.596730\"],\"y\":[\"transporter01\",\"transporter01\",\"transporter01\",\"transporter01\",null,\"transporter01\",\"transporter01\",\"transporter01\",\"transporter01\",null,\"transporter01\",\"transporter01\",\"transporter01\",\"transporter01\",null,\"transporter01\",\"transporter01\",\"transporter01\",\"transporter01\",null,\"transporter01\",\"transporter01\",\"transporter01\",\"transporter01\",null],\"type\":\"scatter\"},{\"connectgaps\":false,\"hoverinfo\":\"y+name\",\"line\":{\"color\":\"rgb(64,16,112)\",\"width\":10},\"mode\":\"lines\",\"name\":\"loading Cargo_1\",\"x\":[\"1970-01-01T00:00:00\",\"1970-01-01T00:00:00\",\"1970-01-01T00:02:00\",\"1970-01-01T00:02:00\",\"1970-01-01T00:02:00\",\"1970-01-01T00:35:25.649183\",\"1970-01-01T00:35:25.649183\",\"1970-01-01T00:37:25.649183\",\"1970-01-01T00:37:25.649183\",\"1970-01-01T00:37:25.649183\",\"1970-01-01T01:10:51.298365\",\"1970-01-01T01:10:51.298365\",\"1970-01-01T01:12:51.298365\",\"1970-01-01T01:12:51.298365\",\"1970-01-01T01:12:51.298365\",\"1970-01-01T01:46:16.947548\",\"1970-01-01T01:46:16.947548\",\"1970-01-01T01:48:16.947548\",\"1970-01-01T01:48:16.947548\",\"1970-01-01T01:48:16.947548\",\"1970-01-01T02:21:42.596730\",\"1970-01-01T02:21:42.596730\",\"1970-01-01T02:23:42.596730\",\"1970-01-01T02:23:42.596730\",\"1970-01-01T02:23:42.596730\",\"1970-01-01T00:00:00\",\"1970-01-01T00:00:00\",\"1970-01-01T00:02:00\",\"1970-01-01T00:02:00\",\"1970-01-01T00:02:00\",\"1970-01-01T00:35:25.649183\",\"1970-01-01T00:35:25.649183\",\"1970-01-01T00:37:25.649183\",\"1970-01-01T00:37:25.649183\",\"1970-01-01T00:37:25.649183\",\"1970-01-01T01:10:51.298365\",\"1970-01-01T01:10:51.298365\",\"1970-01-01T01:12:51.298365\",\"1970-01-01T01:12:51.298365\",\"1970-01-01T01:12:51.298365\",\"1970-01-01T01:46:16.947548\",\"1970-01-01T01:46:16.947548\",\"1970-01-01T01:48:16.947548\",\"1970-01-01T01:48:16.947548\",\"1970-01-01T01:48:16.947548\",\"1970-01-01T02:21:42.596730\",\"1970-01-01T02:21:42.596730\",\"1970-01-01T02:23:42.596730\",\"1970-01-01T02:23:42.596730\",\"1970-01-01T02:23:42.596730\"],\"y\":[\"transporter01\",\"transporter01\",\"transporter01\",\"transporter01\",null,\"transporter01\",\"transporter01\",\"transporter01\",\"transporter01\",null,\"transporter01\",\"transporter01\",\"transporter01\",\"transporter01\",null,\"transporter01\",\"transporter01\",\"transporter01\",\"transporter01\",null,\"transporter01\",\"transporter01\",\"transporter01\",\"transporter01\",null,\"from_site\",\"from_site\",\"from_site\",\"from_site\",null,\"from_site\",\"from_site\",\"from_site\",\"from_site\",null,\"from_site\",\"from_site\",\"from_site\",\"from_site\",null,\"from_site\",\"from_site\",\"from_site\",\"from_site\",null,\"from_site\",\"from_site\",\"from_site\",\"from_site\",null],\"type\":\"scatter\"},{\"connectgaps\":false,\"hoverinfo\":\"y+name\",\"line\":{\"color\":\"rgb(87,39,135)\",\"width\":10},\"mode\":\"lines\",\"name\":\"sailing filled\",\"x\":[\"1970-01-01T00:02:00\",\"1970-01-01T00:02:00\",\"1970-01-01T00:17:42.824591\",\"1970-01-01T00:17:42.824591\",\"1970-01-01T00:17:42.824591\",\"1970-01-01T00:37:25.649183\",\"1970-01-01T00:37:25.649183\",\"1970-01-01T00:53:08.473774\",\"1970-01-01T00:53:08.473774\",\"1970-01-01T00:53:08.473774\",\"1970-01-01T01:12:51.298365\",\"1970-01-01T01:12:51.298365\",\"1970-01-01T01:28:34.122956\",\"1970-01-01T01:28:34.122956\",\"1970-01-01T01:28:34.122956\",\"1970-01-01T01:48:16.947548\",\"1970-01-01T01:48:16.947548\",\"1970-01-01T02:03:59.772139\",\"1970-01-01T02:03:59.772139\",\"1970-01-01T02:03:59.772139\",\"1970-01-01T02:23:42.596730\",\"1970-01-01T02:23:42.596730\",\"1970-01-01T02:39:25.421321\",\"1970-01-01T02:39:25.421321\",\"1970-01-01T02:39:25.421321\"],\"y\":[\"transporter01\",\"transporter01\",\"transporter01\",\"transporter01\",null,\"transporter01\",\"transporter01\",\"transporter01\",\"transporter01\",null,\"transporter01\",\"transporter01\",\"transporter01\",\"transporter01\",null,\"transporter01\",\"transporter01\",\"transporter01\",\"transporter01\",null,\"transporter01\",\"transporter01\",\"transporter01\",\"transporter01\",null],\"type\":\"scatter\"},{\"connectgaps\":false,\"hoverinfo\":\"y+name\",\"line\":{\"color\":\"rgb(110,62,158)\",\"width\":10},\"mode\":\"lines\",\"name\":\"transfer Cargo_1\",\"x\":[\"1970-01-01T00:17:42.824591\",\"1970-01-01T00:17:42.824591\",\"1970-01-01T00:19:42.824591\",\"1970-01-01T00:19:42.824591\",\"1970-01-01T00:19:42.824591\",\"1970-01-01T00:53:08.473774\",\"1970-01-01T00:53:08.473774\",\"1970-01-01T00:55:08.473774\",\"1970-01-01T00:55:08.473774\",\"1970-01-01T00:55:08.473774\",\"1970-01-01T01:28:34.122956\",\"1970-01-01T01:28:34.122956\",\"1970-01-01T01:30:34.122956\",\"1970-01-01T01:30:34.122956\",\"1970-01-01T01:30:34.122956\",\"1970-01-01T02:03:59.772139\",\"1970-01-01T02:03:59.772139\",\"1970-01-01T02:05:59.772139\",\"1970-01-01T02:05:59.772139\",\"1970-01-01T02:05:59.772139\",\"1970-01-01T02:39:25.421321\",\"1970-01-01T02:39:25.421321\",\"1970-01-01T02:41:25.421321\",\"1970-01-01T02:41:25.421321\",\"1970-01-01T02:41:25.421321\",\"1970-01-01T00:17:42.824591\",\"1970-01-01T00:17:42.824591\",\"1970-01-01T00:19:42.824591\",\"1970-01-01T00:19:42.824591\",\"1970-01-01T00:19:42.824591\",\"1970-01-01T00:53:08.473774\",\"1970-01-01T00:53:08.473774\",\"1970-01-01T00:55:08.473774\",\"1970-01-01T00:55:08.473774\",\"1970-01-01T00:55:08.473774\",\"1970-01-01T01:28:34.122956\",\"1970-01-01T01:28:34.122956\",\"1970-01-01T01:30:34.122956\",\"1970-01-01T01:30:34.122956\",\"1970-01-01T01:30:34.122956\",\"1970-01-01T02:03:59.772139\",\"1970-01-01T02:03:59.772139\",\"1970-01-01T02:05:59.772139\",\"1970-01-01T02:05:59.772139\",\"1970-01-01T02:05:59.772139\",\"1970-01-01T02:39:25.421321\",\"1970-01-01T02:39:25.421321\",\"1970-01-01T02:41:25.421321\",\"1970-01-01T02:41:25.421321\",\"1970-01-01T02:41:25.421321\"],\"y\":[\"transporter01\",\"transporter01\",\"transporter01\",\"transporter01\",null,\"transporter01\",\"transporter01\",\"transporter01\",\"transporter01\",null,\"transporter01\",\"transporter01\",\"transporter01\",\"transporter01\",null,\"transporter01\",\"transporter01\",\"transporter01\",\"transporter01\",null,\"transporter01\",\"transporter01\",\"transporter01\",\"transporter01\",null,\"installer01\",\"installer01\",\"installer01\",\"installer01\",null,\"installer01\",\"installer01\",\"installer01\",\"installer01\",null,\"installer01\",\"installer01\",\"installer01\",\"installer01\",null,\"installer01\",\"installer01\",\"installer01\",\"installer01\",null,\"installer01\",\"installer01\",\"installer01\",\"installer01\",null],\"type\":\"scatter\"},{\"connectgaps\":false,\"hoverinfo\":\"y+name\",\"line\":{\"color\":\"rgb(133,85,181)\",\"width\":10},\"mode\":\"lines\",\"name\":\"unload Cargo_1\",\"x\":[\"1970-01-01T00:20:42.824591\",\"1970-01-01T00:20:42.824591\",\"1970-01-01T00:22:42.824591\",\"1970-01-01T00:22:42.824591\",\"1970-01-01T00:22:42.824591\",\"1970-01-01T00:56:08.473774\",\"1970-01-01T00:56:08.473774\",\"1970-01-01T00:58:08.473774\",\"1970-01-01T00:58:08.473774\",\"1970-01-01T00:58:08.473774\",\"1970-01-01T01:31:34.122956\",\"1970-01-01T01:31:34.122956\",\"1970-01-01T01:33:34.122956\",\"1970-01-01T01:33:34.122956\",\"1970-01-01T01:33:34.122956\",\"1970-01-01T02:06:59.772139\",\"1970-01-01T02:06:59.772139\",\"1970-01-01T02:08:59.772139\",\"1970-01-01T02:08:59.772139\",\"1970-01-01T02:08:59.772139\",\"1970-01-01T02:42:25.421321\",\"1970-01-01T02:42:25.421321\",\"1970-01-01T02:44:25.421321\",\"1970-01-01T02:44:25.421321\",\"1970-01-01T02:44:25.421321\",\"1970-01-01T00:20:42.824591\",\"1970-01-01T00:20:42.824591\",\"1970-01-01T00:22:42.824591\",\"1970-01-01T00:22:42.824591\",\"1970-01-01T00:22:42.824591\",\"1970-01-01T00:56:08.473774\",\"1970-01-01T00:56:08.473774\",\"1970-01-01T00:58:08.473774\",\"1970-01-01T00:58:08.473774\",\"1970-01-01T00:58:08.473774\",\"1970-01-01T01:31:34.122956\",\"1970-01-01T01:31:34.122956\",\"1970-01-01T01:33:34.122956\",\"1970-01-01T01:33:34.122956\",\"1970-01-01T01:33:34.122956\",\"1970-01-01T02:06:59.772139\",\"1970-01-01T02:06:59.772139\",\"1970-01-01T02:08:59.772139\",\"1970-01-01T02:08:59.772139\",\"1970-01-01T02:08:59.772139\",\"1970-01-01T02:42:25.421321\",\"1970-01-01T02:42:25.421321\",\"1970-01-01T02:44:25.421321\",\"1970-01-01T02:44:25.421321\",\"1970-01-01T02:44:25.421321\"],\"y\":[\"installer01\",\"installer01\",\"installer01\",\"installer01\",null,\"installer01\",\"installer01\",\"installer01\",\"installer01\",null,\"installer01\",\"installer01\",\"installer01\",\"installer01\",null,\"installer01\",\"installer01\",\"installer01\",\"installer01\",null,\"installer01\",\"installer01\",\"installer01\",\"installer01\",null,\"to_site\",\"to_site\",\"to_site\",\"to_site\",null,\"to_site\",\"to_site\",\"to_site\",\"to_site\",null,\"to_site\",\"to_site\",\"to_site\",\"to_site\",null,\"to_site\",\"to_site\",\"to_site\",\"to_site\",null,\"to_site\",\"to_site\",\"to_site\",\"to_site\",null],\"type\":\"scatter\"},{\"connectgaps\":false,\"hoverinfo\":\"y+name\",\"line\":{\"color\":\"rgb(156,108,204)\",\"width\":10},\"mode\":\"lines\",\"name\":\"sailing to site\",\"x\":[\"1970-01-01T00:00:00\",\"1970-01-01T00:00:00\",\"1970-01-01T00:15:42.824591\",\"1970-01-01T00:15:42.824591\",\"1970-01-01T00:15:42.824591\"],\"y\":[\"installer01\",\"installer01\",\"installer01\",\"installer01\",null],\"type\":\"scatter\"},{\"connectgaps\":false,\"hoverinfo\":\"y+name\",\"line\":{\"color\":\"rgb(179,131,227)\",\"width\":10},\"mode\":\"lines\",\"name\":\"preparing for delivery\",\"x\":[\"1970-01-01T00:15:42.824591\",\"1970-01-01T00:15:42.824591\",\"1970-01-01T00:16:12.824591\",\"1970-01-01T00:16:12.824591\",\"1970-01-01T00:16:12.824591\",\"1970-01-01T00:22:42.824591\",\"1970-01-01T00:22:42.824591\",\"1970-01-01T00:23:12.824591\",\"1970-01-01T00:23:12.824591\",\"1970-01-01T00:23:12.824591\",\"1970-01-01T00:58:08.473774\",\"1970-01-01T00:58:08.473774\",\"1970-01-01T00:58:38.473774\",\"1970-01-01T00:58:38.473774\",\"1970-01-01T00:58:38.473774\",\"1970-01-01T01:33:34.122956\",\"1970-01-01T01:33:34.122956\",\"1970-01-01T01:34:04.122956\",\"1970-01-01T01:34:04.122956\",\"1970-01-01T01:34:04.122956\",\"1970-01-01T02:08:59.772139\",\"1970-01-01T02:08:59.772139\",\"1970-01-01T02:09:29.772139\",\"1970-01-01T02:09:29.772139\",\"1970-01-01T02:09:29.772139\"],\"y\":[\"installer01\",\"installer01\",\"installer01\",\"installer01\",null,\"installer01\",\"installer01\",\"installer01\",\"installer01\",null,\"installer01\",\"installer01\",\"installer01\",\"installer01\",null,\"installer01\",\"installer01\",\"installer01\",\"installer01\",null,\"installer01\",\"installer01\",\"installer01\",\"installer01\",null],\"type\":\"scatter\"},{\"connectgaps\":false,\"hoverinfo\":\"y+name\",\"line\":{\"color\":\"rgb(202,154,250)\",\"width\":10},\"mode\":\"lines\",\"name\":\"preparing for unloading\",\"x\":[\"1970-01-01T00:19:42.824591\",\"1970-01-01T00:19:42.824591\",\"1970-01-01T00:20:42.824591\",\"1970-01-01T00:20:42.824591\",\"1970-01-01T00:20:42.824591\",\"1970-01-01T00:55:08.473774\",\"1970-01-01T00:55:08.473774\",\"1970-01-01T00:56:08.473774\",\"1970-01-01T00:56:08.473774\",\"1970-01-01T00:56:08.473774\",\"1970-01-01T01:30:34.122956\",\"1970-01-01T01:30:34.122956\",\"1970-01-01T01:31:34.122956\",\"1970-01-01T01:31:34.122956\",\"1970-01-01T01:31:34.122956\",\"1970-01-01T02:05:59.772139\",\"1970-01-01T02:05:59.772139\",\"1970-01-01T02:06:59.772139\",\"1970-01-01T02:06:59.772139\",\"1970-01-01T02:06:59.772139\",\"1970-01-01T02:41:25.421321\",\"1970-01-01T02:41:25.421321\",\"1970-01-01T02:42:25.421321\",\"1970-01-01T02:42:25.421321\",\"1970-01-01T02:42:25.421321\"],\"y\":[\"installer01\",\"installer01\",\"installer01\",\"installer01\",null,\"installer01\",\"installer01\",\"installer01\",\"installer01\",null,\"installer01\",\"installer01\",\"installer01\",\"installer01\",null,\"installer01\",\"installer01\",\"installer01\",\"installer01\",null,\"installer01\",\"installer01\",\"installer01\",\"installer01\",null],\"type\":\"scatter\"},{\"connectgaps\":false,\"hoverinfo\":\"y+name\",\"line\":{\"color\":\"rgb(225,177,17)\",\"width\":10},\"mode\":\"lines\",\"name\":\"loading Cargo_1\",\"x\":[\"1970-01-01T00:00:00\",\"1970-01-01T00:00:00\",\"1970-01-01T00:02:00\",\"1970-01-01T00:02:00\",\"1970-01-01T00:02:00\",\"1970-01-01T00:35:25.649183\",\"1970-01-01T00:35:25.649183\",\"1970-01-01T00:37:25.649183\",\"1970-01-01T00:37:25.649183\",\"1970-01-01T00:37:25.649183\",\"1970-01-01T01:10:51.298365\",\"1970-01-01T01:10:51.298365\",\"1970-01-01T01:12:51.298365\",\"1970-01-01T01:12:51.298365\",\"1970-01-01T01:12:51.298365\",\"1970-01-01T01:46:16.947548\",\"1970-01-01T01:46:16.947548\",\"1970-01-01T01:48:16.947548\",\"1970-01-01T01:48:16.947548\",\"1970-01-01T01:48:16.947548\",\"1970-01-01T02:21:42.596730\",\"1970-01-01T02:21:42.596730\",\"1970-01-01T02:23:42.596730\",\"1970-01-01T02:23:42.596730\",\"1970-01-01T02:23:42.596730\",\"1970-01-01T00:00:00\",\"1970-01-01T00:00:00\",\"1970-01-01T00:02:00\",\"1970-01-01T00:02:00\",\"1970-01-01T00:02:00\",\"1970-01-01T00:35:25.649183\",\"1970-01-01T00:35:25.649183\",\"1970-01-01T00:37:25.649183\",\"1970-01-01T00:37:25.649183\",\"1970-01-01T00:37:25.649183\",\"1970-01-01T01:10:51.298365\",\"1970-01-01T01:10:51.298365\",\"1970-01-01T01:12:51.298365\",\"1970-01-01T01:12:51.298365\",\"1970-01-01T01:12:51.298365\",\"1970-01-01T01:46:16.947548\",\"1970-01-01T01:46:16.947548\",\"1970-01-01T01:48:16.947548\",\"1970-01-01T01:48:16.947548\",\"1970-01-01T01:48:16.947548\",\"1970-01-01T02:21:42.596730\",\"1970-01-01T02:21:42.596730\",\"1970-01-01T02:23:42.596730\",\"1970-01-01T02:23:42.596730\",\"1970-01-01T02:23:42.596730\"],\"y\":[\"transporter01\",\"transporter01\",\"transporter01\",\"transporter01\",null,\"transporter01\",\"transporter01\",\"transporter01\",\"transporter01\",null,\"transporter01\",\"transporter01\",\"transporter01\",\"transporter01\",null,\"transporter01\",\"transporter01\",\"transporter01\",\"transporter01\",null,\"transporter01\",\"transporter01\",\"transporter01\",\"transporter01\",null,\"from_site\",\"from_site\",\"from_site\",\"from_site\",null,\"from_site\",\"from_site\",\"from_site\",\"from_site\",null,\"from_site\",\"from_site\",\"from_site\",\"from_site\",null,\"from_site\",\"from_site\",\"from_site\",\"from_site\",null,\"from_site\",\"from_site\",\"from_site\",\"from_site\",null],\"type\":\"scatter\"},{\"connectgaps\":false,\"hoverinfo\":\"y+name\",\"line\":{\"color\":\"rgb(248,200,40)\",\"width\":10},\"mode\":\"lines\",\"name\":\"unload Cargo_1\",\"x\":[\"1970-01-01T00:20:42.824591\",\"1970-01-01T00:20:42.824591\",\"1970-01-01T00:22:42.824591\",\"1970-01-01T00:22:42.824591\",\"1970-01-01T00:22:42.824591\",\"1970-01-01T00:56:08.473774\",\"1970-01-01T00:56:08.473774\",\"1970-01-01T00:58:08.473774\",\"1970-01-01T00:58:08.473774\",\"1970-01-01T00:58:08.473774\",\"1970-01-01T01:31:34.122956\",\"1970-01-01T01:31:34.122956\",\"1970-01-01T01:33:34.122956\",\"1970-01-01T01:33:34.122956\",\"1970-01-01T01:33:34.122956\",\"1970-01-01T02:06:59.772139\",\"1970-01-01T02:06:59.772139\",\"1970-01-01T02:08:59.772139\",\"1970-01-01T02:08:59.772139\",\"1970-01-01T02:08:59.772139\",\"1970-01-01T02:42:25.421321\",\"1970-01-01T02:42:25.421321\",\"1970-01-01T02:44:25.421321\",\"1970-01-01T02:44:25.421321\",\"1970-01-01T02:44:25.421321\",\"1970-01-01T00:20:42.824591\",\"1970-01-01T00:20:42.824591\",\"1970-01-01T00:22:42.824591\",\"1970-01-01T00:22:42.824591\",\"1970-01-01T00:22:42.824591\",\"1970-01-01T00:56:08.473774\",\"1970-01-01T00:56:08.473774\",\"1970-01-01T00:58:08.473774\",\"1970-01-01T00:58:08.473774\",\"1970-01-01T00:58:08.473774\",\"1970-01-01T01:31:34.122956\",\"1970-01-01T01:31:34.122956\",\"1970-01-01T01:33:34.122956\",\"1970-01-01T01:33:34.122956\",\"1970-01-01T01:33:34.122956\",\"1970-01-01T02:06:59.772139\",\"1970-01-01T02:06:59.772139\",\"1970-01-01T02:08:59.772139\",\"1970-01-01T02:08:59.772139\",\"1970-01-01T02:08:59.772139\",\"1970-01-01T02:42:25.421321\",\"1970-01-01T02:42:25.421321\",\"1970-01-01T02:44:25.421321\",\"1970-01-01T02:44:25.421321\",\"1970-01-01T02:44:25.421321\"],\"y\":[\"installer01\",\"installer01\",\"installer01\",\"installer01\",null,\"installer01\",\"installer01\",\"installer01\",\"installer01\",null,\"installer01\",\"installer01\",\"installer01\",\"installer01\",null,\"installer01\",\"installer01\",\"installer01\",\"installer01\",null,\"installer01\",\"installer01\",\"installer01\",\"installer01\",null,\"to_site\",\"to_site\",\"to_site\",\"to_site\",null,\"to_site\",\"to_site\",\"to_site\",\"to_site\",null,\"to_site\",\"to_site\",\"to_site\",\"to_site\",null,\"to_site\",\"to_site\",\"to_site\",\"to_site\",null,\"to_site\",\"to_site\",\"to_site\",\"to_site\",null],\"type\":\"scatter\"}],                        {\"hovermode\":\"closest\",\"legend\":{\"orientation\":\"h\",\"x\":0,\"y\":-0.2},\"template\":{\"data\":{\"barpolar\":[{\"marker\":{\"line\":{\"color\":\"#E5ECF6\",\"width\":0.5},\"pattern\":{\"fillmode\":\"overlay\",\"size\":10,\"solidity\":0.2}},\"type\":\"barpolar\"}],\"bar\":[{\"error_x\":{\"color\":\"#2a3f5f\"},\"error_y\":{\"color\":\"#2a3f5f\"},\"marker\":{\"line\":{\"color\":\"#E5ECF6\",\"width\":0.5},\"pattern\":{\"fillmode\":\"overlay\",\"size\":10,\"solidity\":0.2}},\"type\":\"bar\"}],\"carpet\":[{\"aaxis\":{\"endlinecolor\":\"#2a3f5f\",\"gridcolor\":\"white\",\"linecolor\":\"white\",\"minorgridcolor\":\"white\",\"startlinecolor\":\"#2a3f5f\"},\"baxis\":{\"endlinecolor\":\"#2a3f5f\",\"gridcolor\":\"white\",\"linecolor\":\"white\",\"minorgridcolor\":\"white\",\"startlinecolor\":\"#2a3f5f\"},\"type\":\"carpet\"}],\"choropleth\":[{\"colorbar\":{\"outlinewidth\":0,\"ticks\":\"\"},\"type\":\"choropleth\"}],\"contourcarpet\":[{\"colorbar\":{\"outlinewidth\":0,\"ticks\":\"\"},\"type\":\"contourcarpet\"}],\"contour\":[{\"colorbar\":{\"outlinewidth\":0,\"ticks\":\"\"},\"colorscale\":[[0.0,\"#0d0887\"],[0.1111111111111111,\"#46039f\"],[0.2222222222222222,\"#7201a8\"],[0.3333333333333333,\"#9c179e\"],[0.4444444444444444,\"#bd3786\"],[0.5555555555555556,\"#d8576b\"],[0.6666666666666666,\"#ed7953\"],[0.7777777777777778,\"#fb9f3a\"],[0.8888888888888888,\"#fdca26\"],[1.0,\"#f0f921\"]],\"type\":\"contour\"}],\"heatmapgl\":[{\"colorbar\":{\"outlinewidth\":0,\"ticks\":\"\"},\"colorscale\":[[0.0,\"#0d0887\"],[0.1111111111111111,\"#46039f\"],[0.2222222222222222,\"#7201a8\"],[0.3333333333333333,\"#9c179e\"],[0.4444444444444444,\"#bd3786\"],[0.5555555555555556,\"#d8576b\"],[0.6666666666666666,\"#ed7953\"],[0.7777777777777778,\"#fb9f3a\"],[0.8888888888888888,\"#fdca26\"],[1.0,\"#f0f921\"]],\"type\":\"heatmapgl\"}],\"heatmap\":[{\"colorbar\":{\"outlinewidth\":0,\"ticks\":\"\"},\"colorscale\":[[0.0,\"#0d0887\"],[0.1111111111111111,\"#46039f\"],[0.2222222222222222,\"#7201a8\"],[0.3333333333333333,\"#9c179e\"],[0.4444444444444444,\"#bd3786\"],[0.5555555555555556,\"#d8576b\"],[0.6666666666666666,\"#ed7953\"],[0.7777777777777778,\"#fb9f3a\"],[0.8888888888888888,\"#fdca26\"],[1.0,\"#f0f921\"]],\"type\":\"heatmap\"}],\"histogram2dcontour\":[{\"colorbar\":{\"outlinewidth\":0,\"ticks\":\"\"},\"colorscale\":[[0.0,\"#0d0887\"],[0.1111111111111111,\"#46039f\"],[0.2222222222222222,\"#7201a8\"],[0.3333333333333333,\"#9c179e\"],[0.4444444444444444,\"#bd3786\"],[0.5555555555555556,\"#d8576b\"],[0.6666666666666666,\"#ed7953\"],[0.7777777777777778,\"#fb9f3a\"],[0.8888888888888888,\"#fdca26\"],[1.0,\"#f0f921\"]],\"type\":\"histogram2dcontour\"}],\"histogram2d\":[{\"colorbar\":{\"outlinewidth\":0,\"ticks\":\"\"},\"colorscale\":[[0.0,\"#0d0887\"],[0.1111111111111111,\"#46039f\"],[0.2222222222222222,\"#7201a8\"],[0.3333333333333333,\"#9c179e\"],[0.4444444444444444,\"#bd3786\"],[0.5555555555555556,\"#d8576b\"],[0.6666666666666666,\"#ed7953\"],[0.7777777777777778,\"#fb9f3a\"],[0.8888888888888888,\"#fdca26\"],[1.0,\"#f0f921\"]],\"type\":\"histogram2d\"}],\"histogram\":[{\"marker\":{\"pattern\":{\"fillmode\":\"overlay\",\"size\":10,\"solidity\":0.2}},\"type\":\"histogram\"}],\"mesh3d\":[{\"colorbar\":{\"outlinewidth\":0,\"ticks\":\"\"},\"type\":\"mesh3d\"}],\"parcoords\":[{\"line\":{\"colorbar\":{\"outlinewidth\":0,\"ticks\":\"\"}},\"type\":\"parcoords\"}],\"pie\":[{\"automargin\":true,\"type\":\"pie\"}],\"scatter3d\":[{\"line\":{\"colorbar\":{\"outlinewidth\":0,\"ticks\":\"\"}},\"marker\":{\"colorbar\":{\"outlinewidth\":0,\"ticks\":\"\"}},\"type\":\"scatter3d\"}],\"scattercarpet\":[{\"marker\":{\"colorbar\":{\"outlinewidth\":0,\"ticks\":\"\"}},\"type\":\"scattercarpet\"}],\"scattergeo\":[{\"marker\":{\"colorbar\":{\"outlinewidth\":0,\"ticks\":\"\"}},\"type\":\"scattergeo\"}],\"scattergl\":[{\"marker\":{\"colorbar\":{\"outlinewidth\":0,\"ticks\":\"\"}},\"type\":\"scattergl\"}],\"scattermapbox\":[{\"marker\":{\"colorbar\":{\"outlinewidth\":0,\"ticks\":\"\"}},\"type\":\"scattermapbox\"}],\"scatterpolargl\":[{\"marker\":{\"colorbar\":{\"outlinewidth\":0,\"ticks\":\"\"}},\"type\":\"scatterpolargl\"}],\"scatterpolar\":[{\"marker\":{\"colorbar\":{\"outlinewidth\":0,\"ticks\":\"\"}},\"type\":\"scatterpolar\"}],\"scatter\":[{\"marker\":{\"colorbar\":{\"outlinewidth\":0,\"ticks\":\"\"}},\"type\":\"scatter\"}],\"scatterternary\":[{\"marker\":{\"colorbar\":{\"outlinewidth\":0,\"ticks\":\"\"}},\"type\":\"scatterternary\"}],\"surface\":[{\"colorbar\":{\"outlinewidth\":0,\"ticks\":\"\"},\"colorscale\":[[0.0,\"#0d0887\"],[0.1111111111111111,\"#46039f\"],[0.2222222222222222,\"#7201a8\"],[0.3333333333333333,\"#9c179e\"],[0.4444444444444444,\"#bd3786\"],[0.5555555555555556,\"#d8576b\"],[0.6666666666666666,\"#ed7953\"],[0.7777777777777778,\"#fb9f3a\"],[0.8888888888888888,\"#fdca26\"],[1.0,\"#f0f921\"]],\"type\":\"surface\"}],\"table\":[{\"cells\":{\"fill\":{\"color\":\"#EBF0F8\"},\"line\":{\"color\":\"white\"}},\"header\":{\"fill\":{\"color\":\"#C8D4E3\"},\"line\":{\"color\":\"white\"}},\"type\":\"table\"}]},\"layout\":{\"annotationdefaults\":{\"arrowcolor\":\"#2a3f5f\",\"arrowhead\":0,\"arrowwidth\":1},\"autotypenumbers\":\"strict\",\"coloraxis\":{\"colorbar\":{\"outlinewidth\":0,\"ticks\":\"\"}},\"colorscale\":{\"diverging\":[[0,\"#8e0152\"],[0.1,\"#c51b7d\"],[0.2,\"#de77ae\"],[0.3,\"#f1b6da\"],[0.4,\"#fde0ef\"],[0.5,\"#f7f7f7\"],[0.6,\"#e6f5d0\"],[0.7,\"#b8e186\"],[0.8,\"#7fbc41\"],[0.9,\"#4d9221\"],[1,\"#276419\"]],\"sequential\":[[0.0,\"#0d0887\"],[0.1111111111111111,\"#46039f\"],[0.2222222222222222,\"#7201a8\"],[0.3333333333333333,\"#9c179e\"],[0.4444444444444444,\"#bd3786\"],[0.5555555555555556,\"#d8576b\"],[0.6666666666666666,\"#ed7953\"],[0.7777777777777778,\"#fb9f3a\"],[0.8888888888888888,\"#fdca26\"],[1.0,\"#f0f921\"]],\"sequentialminus\":[[0.0,\"#0d0887\"],[0.1111111111111111,\"#46039f\"],[0.2222222222222222,\"#7201a8\"],[0.3333333333333333,\"#9c179e\"],[0.4444444444444444,\"#bd3786\"],[0.5555555555555556,\"#d8576b\"],[0.6666666666666666,\"#ed7953\"],[0.7777777777777778,\"#fb9f3a\"],[0.8888888888888888,\"#fdca26\"],[1.0,\"#f0f921\"]]},\"colorway\":[\"#636efa\",\"#EF553B\",\"#00cc96\",\"#ab63fa\",\"#FFA15A\",\"#19d3f3\",\"#FF6692\",\"#B6E880\",\"#FF97FF\",\"#FECB52\"],\"font\":{\"color\":\"#2a3f5f\"},\"geo\":{\"bgcolor\":\"white\",\"lakecolor\":\"white\",\"landcolor\":\"#E5ECF6\",\"showlakes\":true,\"showland\":true,\"subunitcolor\":\"white\"},\"hoverlabel\":{\"align\":\"left\"},\"hovermode\":\"closest\",\"mapbox\":{\"style\":\"light\"},\"paper_bgcolor\":\"white\",\"plot_bgcolor\":\"#E5ECF6\",\"polar\":{\"angularaxis\":{\"gridcolor\":\"white\",\"linecolor\":\"white\",\"ticks\":\"\"},\"bgcolor\":\"#E5ECF6\",\"radialaxis\":{\"gridcolor\":\"white\",\"linecolor\":\"white\",\"ticks\":\"\"}},\"scene\":{\"xaxis\":{\"backgroundcolor\":\"#E5ECF6\",\"gridcolor\":\"white\",\"gridwidth\":2,\"linecolor\":\"white\",\"showbackground\":true,\"ticks\":\"\",\"zerolinecolor\":\"white\"},\"yaxis\":{\"backgroundcolor\":\"#E5ECF6\",\"gridcolor\":\"white\",\"gridwidth\":2,\"linecolor\":\"white\",\"showbackground\":true,\"ticks\":\"\",\"zerolinecolor\":\"white\"},\"zaxis\":{\"backgroundcolor\":\"#E5ECF6\",\"gridcolor\":\"white\",\"gridwidth\":2,\"linecolor\":\"white\",\"showbackground\":true,\"ticks\":\"\",\"zerolinecolor\":\"white\"}},\"shapedefaults\":{\"line\":{\"color\":\"#2a3f5f\"}},\"ternary\":{\"aaxis\":{\"gridcolor\":\"white\",\"linecolor\":\"white\",\"ticks\":\"\"},\"baxis\":{\"gridcolor\":\"white\",\"linecolor\":\"white\",\"ticks\":\"\"},\"bgcolor\":\"#E5ECF6\",\"caxis\":{\"gridcolor\":\"white\",\"linecolor\":\"white\",\"ticks\":\"\"}},\"title\":{\"x\":0.05},\"xaxis\":{\"automargin\":true,\"gridcolor\":\"white\",\"linecolor\":\"white\",\"ticks\":\"\",\"title\":{\"standoff\":15},\"zerolinecolor\":\"white\",\"zerolinewidth\":2},\"yaxis\":{\"automargin\":true,\"gridcolor\":\"white\",\"linecolor\":\"white\",\"ticks\":\"\",\"title\":{\"standoff\":15},\"zerolinecolor\":\"white\",\"zerolinewidth\":2}}},\"title\":{\"text\":\"GANTT Chart\"},\"xaxis\":{\"range\":[\"1970-01-01T00:00:00\",\"1970-01-01T02:44:25.421321\"],\"title\":{\"font\":{\"color\":\"#7f7f7f\",\"family\":\"Courier New, monospace\",\"size\":18},\"text\":\"Time\"}},\"yaxis\":{\"title\":{\"font\":{\"color\":\"#7f7f7f\",\"family\":\"Courier New, monospace\",\"size\":18},\"text\":\"Activities\"}}},                        {\"responsive\": true}                    ).then(function(){\n",
       "                            \n",
       "var gd = document.getElementById('eec97529-f5fb-403b-a8e8-c17676b66249');\n",
       "var x = new MutationObserver(function (mutations, observer) {{\n",
       "        var display = window.getComputedStyle(gd).display;\n",
       "        if (!display || display === 'none') {{\n",
       "            console.log([gd, 'removed!']);\n",
       "            Plotly.purge(gd);\n",
       "            observer.disconnect();\n",
       "        }}\n",
       "}});\n",
       "\n",
       "// Listen for the removal of the full notebook cells\n",
       "var notebookContainer = gd.closest('#notebook-container');\n",
       "if (notebookContainer) {{\n",
       "    x.observe(notebookContainer, {childList: true});\n",
       "}}\n",
       "\n",
       "// Listen for the clearing of the current output cell\n",
       "var outputEl = gd.closest('.output');\n",
       "if (outputEl) {{\n",
       "    x.observe(outputEl, {childList: true});\n",
       "}}\n",
       "\n",
       "                        })                };                });            </script>        </div>"
      ]
     },
     "metadata": {},
     "output_type": "display_data"
    }
   ],
   "source": [
    "plot.get_gantt_chart([transporter01, installer01, from_site, to_site],id_map=[transport_activity, installer_move_sequential_activity])"
   ]
  },
  {
   "cell_type": "markdown",
   "metadata": {},
   "source": [
    "##### 5.3 Visualise container volume developments"
   ]
  },
  {
   "cell_type": "code",
   "execution_count": 14,
   "metadata": {},
   "outputs": [
    {
     "data": {
      "image/png": "[encoded data removed]",
      "text/plain": [
       "<Figure size 1008x504 with 1 Axes>"
      ]
     },
     "metadata": {
      "needs_background": "light"
     },
     "output_type": "display_data"
    }
   ],
   "source": [
    "fig = plot.get_step_chart([from_site, to_site])"
   ]
  },
  {
   "cell_type": "code",
   "execution_count": 15,
   "metadata": {},
   "outputs": [
    {
     "data": {
      "image/png": "[encoded data removed]",
      "text/plain": [
       "<Figure size 1008x504 with 1 Axes>"
      ]
     },
     "metadata": {
      "needs_background": "light"
     },
     "output_type": "display_data"
    }
   ],
   "source": [
    "fig = plot.get_step_chart([transporter01, installer01])"
   ]
  }
 ],
 "metadata": {
  "kernelspec": {
   "display_name": "Python 3 (ipykernel)",
   "language": "python",
   "name": "python3"
  },
  "language_info": {
   "codemirror_mode": {
    "name": "ipython",
    "version": 3
   },
   "file_extension": ".py",
   "mimetype": "text/x-python",
   "name": "python",
   "nbconvert_exporter": "python",
   "pygments_lexer": "ipython3",
   "version": "3.9.16"
  }
 },
 "nbformat": 4,
 "nbformat_minor": 2
}
