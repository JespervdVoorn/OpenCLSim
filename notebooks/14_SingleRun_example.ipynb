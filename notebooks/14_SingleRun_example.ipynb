{
 "cells": [
  {
   "cell_type": "markdown",
   "metadata": {},
   "source": [
    "## Demo: repeating a subcycle until a stop condition is triggered\n",
    "The basic steps to set up an OpenCLSim simulation are:\n",
    "* Import libraries\n",
    "* Initialise simpy environment\n",
    "* Define object classes\n",
    "* Create objects\n",
    "  * Create sites\n",
    "  * Create vessels\n",
    "  * Create activities\n",
    "* Register processes and run simpy\n",
    "\n",
    "----\n",
    "\n",
    "This notebook provides an example of a simulation that takes a number of sub processes, grouped in a sequential activity, that is **executed while a stop condition is not yet met**.\n",
    "\n",
    "For this example we work with the following sub processes:\n",
    "* sailing empty\n",
    "* loading\n",
    "* sailing full\n",
    "* unloading"
   ]
  },
  {
   "cell_type": "markdown",
   "metadata": {},
   "source": [
    "#### 0. Import libraries"
   ]
  },
  {
   "cell_type": "code",
   "execution_count": 1,
   "metadata": {},
   "outputs": [],
   "source": [
    "import datetime, time\n",
    "import simpy\n",
    "\n",
    "import shapely.geometry\n",
    "import pandas as pd\n",
    "\n",
    "import openclsim.core as core\n",
    "import openclsim.model as model\n",
    "import openclsim.plot as plot"
   ]
  },
  {
   "cell_type": "markdown",
   "metadata": {},
   "source": [
    "#### 1. Initialise simpy environment"
   ]
  },
  {
   "cell_type": "code",
   "execution_count": 2,
   "metadata": {},
   "outputs": [],
   "source": [
    "# setup environment\n",
    "simulation_start = 0\n",
    "my_env = simpy.Environment(initial_time=simulation_start)"
   ]
  },
  {
   "cell_type": "markdown",
   "metadata": {},
   "source": [
    "#### 2. Define object classes"
   ]
  },
  {
   "cell_type": "code",
   "execution_count": 3,
   "metadata": {},
   "outputs": [],
   "source": [
    "# create a Site object based on desired mixin classes\n",
    "Site = type(\n",
    "    \"Site\",\n",
    "    (\n",
    "        core.Identifiable,\n",
    "        core.Log,\n",
    "        core.Locatable,\n",
    "        core.HasContainer,\n",
    "        core.HasResource,\n",
    "    ),\n",
    "    {},\n",
    ")\n",
    "\n",
    "# create a TransportProcessingResource object based on desired mixin classes\n",
    "TransportProcessingResource = type(\n",
    "    \"TransportProcessingResource\",\n",
    "    (\n",
    "        core.Identifiable,\n",
    "        core.Log,\n",
    "        core.ContainerDependentMovable,\n",
    "        core.Processor,\n",
    "        core.HasResource,\n",
    "        core.LoadingFunction,\n",
    "        core.UnloadingFunction,\n",
    "    ),\n",
    "    {},\n",
    ")"
   ]
  },
  {
   "cell_type": "markdown",
   "metadata": {},
   "source": [
    "#### 3. Create objects\n",
    "##### 3.1. Create site object(s)"
   ]
  },
  {
   "cell_type": "code",
   "execution_count": 4,
   "metadata": {},
   "outputs": [],
   "source": [
    "# prepare input data for from_site\n",
    "location_from_site = shapely.geometry.Point(4.18055556, 52.18664444)\n",
    "data_from_site = {\"env\": my_env,\n",
    "                  \"name\": \"from_site\",\n",
    "                  \"geometry\": location_from_site,\n",
    "                  \"capacity\": 100,\n",
    "                  \"level\": 50\n",
    "                 }\n",
    "# instantiate from_site \n",
    "from_site = Site(**data_from_site)\n",
    "\n",
    "# prepare input data for from_site\n",
    "location_to_site = shapely.geometry.Point(4.25222222, 52.11428333)\n",
    "data_to_site = {\"env\": my_env,\n",
    "                \"name\": \"to_site\",\n",
    "                \"geometry\": location_to_site,\n",
    "                \"capacity\": 50,\n",
    "                \"level\": 0\n",
    "               }\n",
    "# instantiate from_site \n",
    "to_site = Site(**data_to_site)"
   ]
  },
  {
   "cell_type": "markdown",
   "metadata": {},
   "source": [
    "##### 3.2. Create vessel object(s)"
   ]
  },
  {
   "cell_type": "code",
   "execution_count": 5,
   "metadata": {},
   "outputs": [],
   "source": [
    "# prepare input data for vessel_01\n",
    "data_vessel01 = {\"env\": my_env,\n",
    "                 \"name\": \"vessel01\",\n",
    "                 \"geometry\": location_from_site, \n",
    "                 \"loading_rate\": 0.00001,\n",
    "                 \"unloading_rate\": 0.00001,\n",
    "                 \"capacity\": 4,\n",
    "                 \"compute_v\": lambda x: 10\n",
    "               }\n",
    "# instantiate vessel_01 \n",
    "vessel01 = TransportProcessingResource(**data_vessel01)"
   ]
  },
  {
   "cell_type": "markdown",
   "metadata": {},
   "source": [
    "##### 3.3 Create activity/activities"
   ]
  },
  {
   "cell_type": "code",
   "execution_count": 6,
   "metadata": {},
   "outputs": [],
   "source": [
    "# initialise registry\n",
    "registry = {}"
   ]
  },
  {
   "cell_type": "code",
   "execution_count": 7,
   "metadata": {},
   "outputs": [],
   "source": [
    "# create a list of the sub processes\n",
    "sub_processes = [\n",
    "    model.MoveActivity(\n",
    "        env=my_env,\n",
    "        name=\"sailing empty\",\n",
    "        registry=registry,\n",
    "        mover=vessel01,\n",
    "        destination=from_site,\n",
    "    ),\n",
    "    model.ShiftAmountActivity(\n",
    "        env=my_env,\n",
    "        name=\"loading\",\n",
    "        registry=registry,\n",
    "        processor=vessel01,\n",
    "        origin=from_site,\n",
    "        destination=vessel01,\n",
    "        amount=4,\n",
    "        duration=1000,\n",
    "    ),\n",
    "    model.MoveActivity(\n",
    "        env=my_env,\n",
    "        name=\"sailing full\",\n",
    "        registry=registry,\n",
    "        mover=vessel01,\n",
    "        destination=to_site,\n",
    "    ),\n",
    "    model.ShiftAmountActivity(\n",
    "        env=my_env,\n",
    "        name=\"unloading\",\n",
    "        registry=registry,\n",
    "        processor=vessel01,\n",
    "        origin=vessel01,\n",
    "        destination=to_site,\n",
    "        amount=4,\n",
    "        duration=1000,\n",
    "    ),\n",
    "    model.BasicActivity(\n",
    "        env=my_env,\n",
    "        name=\"basic activity\",\n",
    "        registry=registry,\n",
    "        duration=0,\n",
    "        additional_logs=[vessel01],\n",
    "    ),\n",
    "]\n",
    "\n",
    "# create a 'sequential activity' that is made up of the 'sub_processes'\n",
    "sequential_activity = model.SequentialActivity(\n",
    "    env=my_env,\n",
    "    name=\"While sequential activity subcycle\",\n",
    "    registry=registry,\n",
    "    sub_processes=sub_processes,\n",
    ")\n",
    "\n",
    "# create a while activity that executes the 'sequential activity' while the stop condition is not triggered \n",
    "while_activity = model.WhileActivity(\n",
    "    env=my_env,\n",
    "    name=\"while_sequential_activity_subcycle\",\n",
    "    registry=registry,\n",
    "    sub_processes=[sequential_activity],\n",
    "    condition_event=[{\"type\": \"container\", \"concept\": to_site, \"state\": \"full\"}],\n",
    ")"
   ]
  },
  {
   "cell_type": "markdown",
   "metadata": {},
   "source": [
    "#### 4. Register processes and run simpy"
   ]
  },
  {
   "cell_type": "code",
   "execution_count": 8,
   "metadata": {},
   "outputs": [],
   "source": [
    "# initate the simpy processes defined in the 'while activity' and run simpy\n",
    "model.register_processes([while_activity])\n",
    "my_env.run()"
   ]
  },
  {
   "cell_type": "markdown",
   "metadata": {},
   "source": [
    "#### 5. Inspect results\n",
    "##### 5.1 Inspect logs"
   ]
  },
  {
   "cell_type": "code",
   "execution_count": 9,
   "metadata": {
    "scrolled": false
   },
   "outputs": [
    {
     "data": {
      "text/html": [
       "<div>\n",
       "<style scoped>\n",
       "    .dataframe tbody tr th:only-of-type {\n",
       "        vertical-align: middle;\n",
       "    }\n",
       "\n",
       "    .dataframe tbody tr th {\n",
       "        vertical-align: top;\n",
       "    }\n",
       "\n",
       "    .dataframe thead th {\n",
       "        text-align: right;\n",
       "    }\n",
       "</style>\n",
       "<table border=\"1\" class=\"dataframe\">\n",
       "  <thead>\n",
       "    <tr style=\"text-align: right;\">\n",
       "      <th></th>\n",
       "      <th>Activity</th>\n",
       "      <th>Timestamp</th>\n",
       "      <th>ActivityState</th>\n",
       "      <th>geometry</th>\n",
       "      <th>container level</th>\n",
       "      <th>type</th>\n",
       "      <th>ref</th>\n",
       "    </tr>\n",
       "  </thead>\n",
       "  <tbody>\n",
       "    <tr>\n",
       "      <th>0</th>\n",
       "      <td>sailing empty</td>\n",
       "      <td>1970-01-01 00:00:00.000000</td>\n",
       "      <td>START</td>\n",
       "      <td>POINT (4.18055556 52.18664444)</td>\n",
       "      <td>0.0</td>\n",
       "      <td>NaN</td>\n",
       "      <td>NaN</td>\n",
       "    </tr>\n",
       "    <tr>\n",
       "      <th>1</th>\n",
       "      <td>sailing empty</td>\n",
       "      <td>1970-01-01 00:00:00.000000</td>\n",
       "      <td>STOP</td>\n",
       "      <td>POINT (4.18055556 52.18664444)</td>\n",
       "      <td>0.0</td>\n",
       "      <td>NaN</td>\n",
       "      <td>NaN</td>\n",
       "    </tr>\n",
       "    <tr>\n",
       "      <th>2</th>\n",
       "      <td>loading</td>\n",
       "      <td>1970-01-01 00:00:00.000000</td>\n",
       "      <td>START</td>\n",
       "      <td>POINT (4.18055556 52.18664444)</td>\n",
       "      <td>0.0</td>\n",
       "      <td>NaN</td>\n",
       "      <td>NaN</td>\n",
       "    </tr>\n",
       "    <tr>\n",
       "      <th>3</th>\n",
       "      <td>loading</td>\n",
       "      <td>1970-01-01 00:16:40.000000</td>\n",
       "      <td>STOP</td>\n",
       "      <td>POINT (4.18055556 52.18664444)</td>\n",
       "      <td>4.0</td>\n",
       "      <td>NaN</td>\n",
       "      <td>NaN</td>\n",
       "    </tr>\n",
       "    <tr>\n",
       "      <th>4</th>\n",
       "      <td>sailing full</td>\n",
       "      <td>1970-01-01 00:16:40.000000</td>\n",
       "      <td>START</td>\n",
       "      <td>POINT (4.18055556 52.18664444)</td>\n",
       "      <td>4.0</td>\n",
       "      <td>NaN</td>\n",
       "      <td>NaN</td>\n",
       "    </tr>\n",
       "    <tr>\n",
       "      <th>...</th>\n",
       "      <td>...</td>\n",
       "      <td>...</td>\n",
       "      <td>...</td>\n",
       "      <td>...</td>\n",
       "      <td>...</td>\n",
       "      <td>...</td>\n",
       "      <td>...</td>\n",
       "    </tr>\n",
       "    <tr>\n",
       "      <th>125</th>\n",
       "      <td>sailing full</td>\n",
       "      <td>1970-01-01 13:29:30.614782</td>\n",
       "      <td>STOP</td>\n",
       "      <td>POINT (4.25222222 52.11428333)</td>\n",
       "      <td>2.0</td>\n",
       "      <td>NaN</td>\n",
       "      <td>NaN</td>\n",
       "    </tr>\n",
       "    <tr>\n",
       "      <th>126</th>\n",
       "      <td>unloading</td>\n",
       "      <td>1970-01-01 13:29:30.614782</td>\n",
       "      <td>START</td>\n",
       "      <td>POINT (4.25222222 52.11428333)</td>\n",
       "      <td>2.0</td>\n",
       "      <td>NaN</td>\n",
       "      <td>NaN</td>\n",
       "    </tr>\n",
       "    <tr>\n",
       "      <th>127</th>\n",
       "      <td>unloading</td>\n",
       "      <td>1970-01-01 13:46:10.614782</td>\n",
       "      <td>STOP</td>\n",
       "      <td>POINT (4.25222222 52.11428333)</td>\n",
       "      <td>0.0</td>\n",
       "      <td>NaN</td>\n",
       "      <td>NaN</td>\n",
       "    </tr>\n",
       "    <tr>\n",
       "      <th>128</th>\n",
       "      <td>basic activity</td>\n",
       "      <td>1970-01-01 13:46:10.614782</td>\n",
       "      <td>START</td>\n",
       "      <td>POINT (4.25222222 52.11428333)</td>\n",
       "      <td>0.0</td>\n",
       "      <td>additional log</td>\n",
       "      <td>6df6fa10-9cd3-4c4a-9b5c-5a72ab1881be</td>\n",
       "    </tr>\n",
       "    <tr>\n",
       "      <th>129</th>\n",
       "      <td>basic activity</td>\n",
       "      <td>1970-01-01 13:46:10.614782</td>\n",
       "      <td>STOP</td>\n",
       "      <td>POINT (4.25222222 52.11428333)</td>\n",
       "      <td>0.0</td>\n",
       "      <td>additional log</td>\n",
       "      <td>6df6fa10-9cd3-4c4a-9b5c-5a72ab1881be</td>\n",
       "    </tr>\n",
       "  </tbody>\n",
       "</table>\n",
       "<p>130 rows × 7 columns</p>\n",
       "</div>"
      ],
      "text/plain": [
       "           Activity                  Timestamp ActivityState  \\\n",
       "0     sailing empty 1970-01-01 00:00:00.000000         START   \n",
       "1     sailing empty 1970-01-01 00:00:00.000000          STOP   \n",
       "2           loading 1970-01-01 00:00:00.000000         START   \n",
       "3           loading 1970-01-01 00:16:40.000000          STOP   \n",
       "4      sailing full 1970-01-01 00:16:40.000000         START   \n",
       "..              ...                        ...           ...   \n",
       "125    sailing full 1970-01-01 13:29:30.614782          STOP   \n",
       "126       unloading 1970-01-01 13:29:30.614782         START   \n",
       "127       unloading 1970-01-01 13:46:10.614782          STOP   \n",
       "128  basic activity 1970-01-01 13:46:10.614782         START   \n",
       "129  basic activity 1970-01-01 13:46:10.614782          STOP   \n",
       "\n",
       "                           geometry  container level            type  \\\n",
       "0    POINT (4.18055556 52.18664444)              0.0             NaN   \n",
       "1    POINT (4.18055556 52.18664444)              0.0             NaN   \n",
       "2    POINT (4.18055556 52.18664444)              0.0             NaN   \n",
       "3    POINT (4.18055556 52.18664444)              4.0             NaN   \n",
       "4    POINT (4.18055556 52.18664444)              4.0             NaN   \n",
       "..                              ...              ...             ...   \n",
       "125  POINT (4.25222222 52.11428333)              2.0             NaN   \n",
       "126  POINT (4.25222222 52.11428333)              2.0             NaN   \n",
       "127  POINT (4.25222222 52.11428333)              0.0             NaN   \n",
       "128  POINT (4.25222222 52.11428333)              0.0  additional log   \n",
       "129  POINT (4.25222222 52.11428333)              0.0  additional log   \n",
       "\n",
       "                                      ref  \n",
       "0                                     NaN  \n",
       "1                                     NaN  \n",
       "2                                     NaN  \n",
       "3                                     NaN  \n",
       "4                                     NaN  \n",
       "..                                    ...  \n",
       "125                                   NaN  \n",
       "126                                   NaN  \n",
       "127                                   NaN  \n",
       "128  6df6fa10-9cd3-4c4a-9b5c-5a72ab1881be  \n",
       "129  6df6fa10-9cd3-4c4a-9b5c-5a72ab1881be  \n",
       "\n",
       "[130 rows x 7 columns]"
      ]
     },
     "execution_count": 9,
     "metadata": {},
     "output_type": "execute_result"
    }
   ],
   "source": [
    "plot.get_log_dataframe(vessel01, [while_activity, *sub_processes, sequential_activity])"
   ]
  },
  {
   "cell_type": "markdown",
   "metadata": {},
   "source": [
    "##### 5.2 Visualise gantt charts"
   ]
  },
  {
   "cell_type": "code",
   "execution_count": 10,
   "metadata": {},
   "outputs": [
    {
     "data": {
      "text/html": [
       "        <script type=\"text/javascript\">\n",
       "        window.PlotlyConfig = {MathJaxConfig: 'local'};\n",
       "        if (window.MathJax) {MathJax.Hub.Config({SVG: {font: \"STIX-Web\"}});}\n",
       "        if (typeof require !== 'undefined') {\n",
       "        require.undef(\"plotly\");\n",
       "        requirejs.config({\n",
       "            paths: {\n",
       "                'plotly': ['https://cdn.plot.ly/plotly-latest.min']\n",
       "            }\n",
       "        });\n",
       "        require(['plotly'], function(Plotly) {\n",
       "            window._Plotly = Plotly;\n",
       "        });\n",
       "        }\n",
       "        </script>\n",
       "        "
      ]
     },
     "metadata": {},
     "output_type": "display_data"
    },
    {
     "data": {
      "application/vnd.plotly.v1+json": {
       "config": {
        "linkText": "Export to plot.ly",
        "plotlyServerURL": "https://plot.ly",
        "showLink": false
       },
       "data": [
        {
         "connectgaps": false,
         "hoverinfo": "y+name",
         "line": {
          "color": "rgb(178,143,92)",
          "width": 10
         },
         "mode": "lines",
         "name": "while_sequential_activity_subcycle",
         "type": "scatter",
         "x": [
          "1970-01-01T00:00:00",
          "1970-01-01T00:00:00",
          "1970-01-01T00:49:02.824591",
          "1970-01-01T00:49:02.824591",
          "1970-01-01T00:49:02.824591",
          "1970-01-01T00:49:02.824591",
          "1970-01-01T00:49:02.824591",
          "1970-01-01T01:53:48.473774",
          "1970-01-01T01:53:48.473774",
          "1970-01-01T01:53:48.473774",
          "1970-01-01T01:53:48.473774",
          "1970-01-01T01:53:48.473774",
          "1970-01-01T02:58:34.122956",
          "1970-01-01T02:58:34.122956",
          "1970-01-01T02:58:34.122956",
          "1970-01-01T02:58:34.122956",
          "1970-01-01T02:58:34.122956",
          "1970-01-01T04:03:19.772139",
          "1970-01-01T04:03:19.772139",
          "1970-01-01T04:03:19.772139",
          "1970-01-01T04:03:19.772139",
          "1970-01-01T04:03:19.772139",
          "1970-01-01T05:08:05.421321",
          "1970-01-01T05:08:05.421321",
          "1970-01-01T05:08:05.421321",
          "1970-01-01T05:08:05.421321",
          "1970-01-01T05:08:05.421321",
          "1970-01-01T06:12:51.070504",
          "1970-01-01T06:12:51.070504",
          "1970-01-01T06:12:51.070504",
          "1970-01-01T06:12:51.070504",
          "1970-01-01T06:12:51.070504",
          "1970-01-01T07:17:36.719687",
          "1970-01-01T07:17:36.719687",
          "1970-01-01T07:17:36.719687",
          "1970-01-01T07:17:36.719687",
          "1970-01-01T07:17:36.719687",
          "1970-01-01T08:22:22.368869",
          "1970-01-01T08:22:22.368869",
          "1970-01-01T08:22:22.368869",
          "1970-01-01T08:22:22.368869",
          "1970-01-01T08:22:22.368869",
          "1970-01-01T09:27:08.018052",
          "1970-01-01T09:27:08.018052",
          "1970-01-01T09:27:08.018052",
          "1970-01-01T09:27:08.018052",
          "1970-01-01T09:27:08.018052",
          "1970-01-01T10:31:53.667234",
          "1970-01-01T10:31:53.667234",
          "1970-01-01T10:31:53.667234",
          "1970-01-01T10:31:53.667234",
          "1970-01-01T10:31:53.667234",
          "1970-01-01T11:36:39.316417",
          "1970-01-01T11:36:39.316417",
          "1970-01-01T11:36:39.316417",
          "1970-01-01T11:36:39.316417",
          "1970-01-01T11:36:39.316417",
          "1970-01-01T12:41:24.965599",
          "1970-01-01T12:41:24.965599",
          "1970-01-01T12:41:24.965599",
          "1970-01-01T12:41:24.965599",
          "1970-01-01T12:41:24.965599",
          "1970-01-01T13:46:10.614782",
          "1970-01-01T13:46:10.614782",
          "1970-01-01T13:46:10.614782",
          "1970-01-01T12:41:24.965599",
          "1970-01-01T12:41:24.965599",
          "1970-01-01T13:46:10.614782",
          "1970-01-01T13:46:10.614782",
          "1970-01-01T13:46:10.614782"
         ],
         "y": [
          "while_sequential_activity_subcycle",
          "while_sequential_activity_subcycle",
          "while_sequential_activity_subcycle",
          "while_sequential_activity_subcycle",
          null,
          "while_sequential_activity_subcycle",
          "while_sequential_activity_subcycle",
          "while_sequential_activity_subcycle",
          "while_sequential_activity_subcycle",
          null,
          "while_sequential_activity_subcycle",
          "while_sequential_activity_subcycle",
          "while_sequential_activity_subcycle",
          "while_sequential_activity_subcycle",
          null,
          "while_sequential_activity_subcycle",
          "while_sequential_activity_subcycle",
          "while_sequential_activity_subcycle",
          "while_sequential_activity_subcycle",
          null,
          "while_sequential_activity_subcycle",
          "while_sequential_activity_subcycle",
          "while_sequential_activity_subcycle",
          "while_sequential_activity_subcycle",
          null,
          "while_sequential_activity_subcycle",
          "while_sequential_activity_subcycle",
          "while_sequential_activity_subcycle",
          "while_sequential_activity_subcycle",
          null,
          "while_sequential_activity_subcycle",
          "while_sequential_activity_subcycle",
          "while_sequential_activity_subcycle",
          "while_sequential_activity_subcycle",
          null,
          "while_sequential_activity_subcycle",
          "while_sequential_activity_subcycle",
          "while_sequential_activity_subcycle",
          "while_sequential_activity_subcycle",
          null,
          "while_sequential_activity_subcycle",
          "while_sequential_activity_subcycle",
          "while_sequential_activity_subcycle",
          "while_sequential_activity_subcycle",
          null,
          "while_sequential_activity_subcycle",
          "while_sequential_activity_subcycle",
          "while_sequential_activity_subcycle",
          "while_sequential_activity_subcycle",
          null,
          "while_sequential_activity_subcycle",
          "while_sequential_activity_subcycle",
          "while_sequential_activity_subcycle",
          "while_sequential_activity_subcycle",
          null,
          "while_sequential_activity_subcycle",
          "while_sequential_activity_subcycle",
          "while_sequential_activity_subcycle",
          "while_sequential_activity_subcycle",
          null,
          "while_sequential_activity_subcycle",
          "while_sequential_activity_subcycle",
          "while_sequential_activity_subcycle",
          "while_sequential_activity_subcycle",
          null,
          "while_sequential_activity_subcycle",
          "while_sequential_activity_subcycle",
          "while_sequential_activity_subcycle",
          "while_sequential_activity_subcycle",
          null
         ]
        },
        {
         "connectgaps": false,
         "hoverinfo": "y+name",
         "line": {
          "color": "rgb(214,179,128)",
          "width": 10
         },
         "mode": "lines",
         "name": "sailing empty",
         "type": "scatter",
         "x": [
          "1970-01-01T00:00:00",
          "1970-01-01T00:00:00",
          "1970-01-01T00:00:00",
          "1970-01-01T00:00:00",
          "1970-01-01T00:00:00",
          "1970-01-01T00:49:02.824591",
          "1970-01-01T00:49:02.824591",
          "1970-01-01T01:04:45.649183",
          "1970-01-01T01:04:45.649183",
          "1970-01-01T01:04:45.649183",
          "1970-01-01T01:53:48.473774",
          "1970-01-01T01:53:48.473774",
          "1970-01-01T02:09:31.298365",
          "1970-01-01T02:09:31.298365",
          "1970-01-01T02:09:31.298365",
          "1970-01-01T02:58:34.122956",
          "1970-01-01T02:58:34.122956",
          "1970-01-01T03:14:16.947548",
          "1970-01-01T03:14:16.947548",
          "1970-01-01T03:14:16.947548",
          "1970-01-01T04:03:19.772139",
          "1970-01-01T04:03:19.772139",
          "1970-01-01T04:19:02.596730",
          "1970-01-01T04:19:02.596730",
          "1970-01-01T04:19:02.596730",
          "1970-01-01T05:08:05.421321",
          "1970-01-01T05:08:05.421321",
          "1970-01-01T05:23:48.245913",
          "1970-01-01T05:23:48.245913",
          "1970-01-01T05:23:48.245913",
          "1970-01-01T06:12:51.070504",
          "1970-01-01T06:12:51.070504",
          "1970-01-01T06:28:33.895095",
          "1970-01-01T06:28:33.895095",
          "1970-01-01T06:28:33.895095",
          "1970-01-01T07:17:36.719687",
          "1970-01-01T07:17:36.719687",
          "1970-01-01T07:33:19.544278",
          "1970-01-01T07:33:19.544278",
          "1970-01-01T07:33:19.544278",
          "1970-01-01T08:22:22.368869",
          "1970-01-01T08:22:22.368869",
          "1970-01-01T08:38:05.193460",
          "1970-01-01T08:38:05.193460",
          "1970-01-01T08:38:05.193460",
          "1970-01-01T09:27:08.018052",
          "1970-01-01T09:27:08.018052",
          "1970-01-01T09:42:50.842643",
          "1970-01-01T09:42:50.842643",
          "1970-01-01T09:42:50.842643",
          "1970-01-01T10:31:53.667234",
          "1970-01-01T10:31:53.667234",
          "1970-01-01T10:47:36.491825",
          "1970-01-01T10:47:36.491825",
          "1970-01-01T10:47:36.491825",
          "1970-01-01T11:36:39.316417",
          "1970-01-01T11:36:39.316417",
          "1970-01-01T11:52:22.141008",
          "1970-01-01T11:52:22.141008",
          "1970-01-01T11:52:22.141008",
          "1970-01-01T12:41:24.965599",
          "1970-01-01T12:41:24.965599",
          "1970-01-01T12:57:07.790191",
          "1970-01-01T12:57:07.790191",
          "1970-01-01T12:57:07.790191"
         ],
         "y": [
          "sailing empty",
          "sailing empty",
          "sailing empty",
          "sailing empty",
          null,
          "sailing empty",
          "sailing empty",
          "sailing empty",
          "sailing empty",
          null,
          "sailing empty",
          "sailing empty",
          "sailing empty",
          "sailing empty",
          null,
          "sailing empty",
          "sailing empty",
          "sailing empty",
          "sailing empty",
          null,
          "sailing empty",
          "sailing empty",
          "sailing empty",
          "sailing empty",
          null,
          "sailing empty",
          "sailing empty",
          "sailing empty",
          "sailing empty",
          null,
          "sailing empty",
          "sailing empty",
          "sailing empty",
          "sailing empty",
          null,
          "sailing empty",
          "sailing empty",
          "sailing empty",
          "sailing empty",
          null,
          "sailing empty",
          "sailing empty",
          "sailing empty",
          "sailing empty",
          null,
          "sailing empty",
          "sailing empty",
          "sailing empty",
          "sailing empty",
          null,
          "sailing empty",
          "sailing empty",
          "sailing empty",
          "sailing empty",
          null,
          "sailing empty",
          "sailing empty",
          "sailing empty",
          "sailing empty",
          null,
          "sailing empty",
          "sailing empty",
          "sailing empty",
          "sailing empty",
          null
         ]
        },
        {
         "connectgaps": false,
         "hoverinfo": "y+name",
         "line": {
          "color": "rgb(250,215,164)",
          "width": 10
         },
         "mode": "lines",
         "name": "loading",
         "type": "scatter",
         "x": [
          "1970-01-01T00:00:00",
          "1970-01-01T00:00:00",
          "1970-01-01T00:16:40",
          "1970-01-01T00:16:40",
          "1970-01-01T00:16:40",
          "1970-01-01T01:04:45.649183",
          "1970-01-01T01:04:45.649183",
          "1970-01-01T01:21:25.649183",
          "1970-01-01T01:21:25.649183",
          "1970-01-01T01:21:25.649183",
          "1970-01-01T02:09:31.298365",
          "1970-01-01T02:09:31.298365",
          "1970-01-01T02:26:11.298365",
          "1970-01-01T02:26:11.298365",
          "1970-01-01T02:26:11.298365",
          "1970-01-01T03:14:16.947548",
          "1970-01-01T03:14:16.947548",
          "1970-01-01T03:30:56.947548",
          "1970-01-01T03:30:56.947548",
          "1970-01-01T03:30:56.947548",
          "1970-01-01T04:19:02.596730",
          "1970-01-01T04:19:02.596730",
          "1970-01-01T04:35:42.596730",
          "1970-01-01T04:35:42.596730",
          "1970-01-01T04:35:42.596730",
          "1970-01-01T05:23:48.245913",
          "1970-01-01T05:23:48.245913",
          "1970-01-01T05:40:28.245913",
          "1970-01-01T05:40:28.245913",
          "1970-01-01T05:40:28.245913",
          "1970-01-01T06:28:33.895095",
          "1970-01-01T06:28:33.895095",
          "1970-01-01T06:45:13.895095",
          "1970-01-01T06:45:13.895095",
          "1970-01-01T06:45:13.895095",
          "1970-01-01T07:33:19.544278",
          "1970-01-01T07:33:19.544278",
          "1970-01-01T07:49:59.544278",
          "1970-01-01T07:49:59.544278",
          "1970-01-01T07:49:59.544278",
          "1970-01-01T08:38:05.193460",
          "1970-01-01T08:38:05.193460",
          "1970-01-01T08:54:45.193460",
          "1970-01-01T08:54:45.193460",
          "1970-01-01T08:54:45.193460",
          "1970-01-01T09:42:50.842643",
          "1970-01-01T09:42:50.842643",
          "1970-01-01T09:59:30.842643",
          "1970-01-01T09:59:30.842643",
          "1970-01-01T09:59:30.842643",
          "1970-01-01T10:47:36.491825",
          "1970-01-01T10:47:36.491825",
          "1970-01-01T11:04:16.491825",
          "1970-01-01T11:04:16.491825",
          "1970-01-01T11:04:16.491825",
          "1970-01-01T11:52:22.141008",
          "1970-01-01T11:52:22.141008",
          "1970-01-01T12:09:02.141008",
          "1970-01-01T12:09:02.141008",
          "1970-01-01T12:09:02.141008",
          "1970-01-01T12:57:07.790191",
          "1970-01-01T12:57:07.790191",
          "1970-01-01T13:13:47.790191",
          "1970-01-01T13:13:47.790191",
          "1970-01-01T13:13:47.790191"
         ],
         "y": [
          "loading",
          "loading",
          "loading",
          "loading",
          null,
          "loading",
          "loading",
          "loading",
          "loading",
          null,
          "loading",
          "loading",
          "loading",
          "loading",
          null,
          "loading",
          "loading",
          "loading",
          "loading",
          null,
          "loading",
          "loading",
          "loading",
          "loading",
          null,
          "loading",
          "loading",
          "loading",
          "loading",
          null,
          "loading",
          "loading",
          "loading",
          "loading",
          null,
          "loading",
          "loading",
          "loading",
          "loading",
          null,
          "loading",
          "loading",
          "loading",
          "loading",
          null,
          "loading",
          "loading",
          "loading",
          "loading",
          null,
          "loading",
          "loading",
          "loading",
          "loading",
          null,
          "loading",
          "loading",
          "loading",
          "loading",
          null,
          "loading",
          "loading",
          "loading",
          "loading",
          null
         ]
        },
        {
         "connectgaps": false,
         "hoverinfo": "y+name",
         "line": {
          "color": "rgb(30,251,200)",
          "width": 10
         },
         "mode": "lines",
         "name": "sailing full",
         "type": "scatter",
         "x": [
          "1970-01-01T00:16:40",
          "1970-01-01T00:16:40",
          "1970-01-01T00:32:22.824591",
          "1970-01-01T00:32:22.824591",
          "1970-01-01T00:32:22.824591",
          "1970-01-01T01:21:25.649183",
          "1970-01-01T01:21:25.649183",
          "1970-01-01T01:37:08.473774",
          "1970-01-01T01:37:08.473774",
          "1970-01-01T01:37:08.473774",
          "1970-01-01T02:26:11.298365",
          "1970-01-01T02:26:11.298365",
          "1970-01-01T02:41:54.122956",
          "1970-01-01T02:41:54.122956",
          "1970-01-01T02:41:54.122956",
          "1970-01-01T03:30:56.947548",
          "1970-01-01T03:30:56.947548",
          "1970-01-01T03:46:39.772139",
          "1970-01-01T03:46:39.772139",
          "1970-01-01T03:46:39.772139",
          "1970-01-01T04:35:42.596730",
          "1970-01-01T04:35:42.596730",
          "1970-01-01T04:51:25.421321",
          "1970-01-01T04:51:25.421321",
          "1970-01-01T04:51:25.421321",
          "1970-01-01T05:40:28.245913",
          "1970-01-01T05:40:28.245913",
          "1970-01-01T05:56:11.070504",
          "1970-01-01T05:56:11.070504",
          "1970-01-01T05:56:11.070504",
          "1970-01-01T06:45:13.895095",
          "1970-01-01T06:45:13.895095",
          "1970-01-01T07:00:56.719687",
          "1970-01-01T07:00:56.719687",
          "1970-01-01T07:00:56.719687",
          "1970-01-01T07:49:59.544278",
          "1970-01-01T07:49:59.544278",
          "1970-01-01T08:05:42.368869",
          "1970-01-01T08:05:42.368869",
          "1970-01-01T08:05:42.368869",
          "1970-01-01T08:54:45.193460",
          "1970-01-01T08:54:45.193460",
          "1970-01-01T09:10:28.018052",
          "1970-01-01T09:10:28.018052",
          "1970-01-01T09:10:28.018052",
          "1970-01-01T09:59:30.842643",
          "1970-01-01T09:59:30.842643",
          "1970-01-01T10:15:13.667234",
          "1970-01-01T10:15:13.667234",
          "1970-01-01T10:15:13.667234",
          "1970-01-01T11:04:16.491825",
          "1970-01-01T11:04:16.491825",
          "1970-01-01T11:19:59.316417",
          "1970-01-01T11:19:59.316417",
          "1970-01-01T11:19:59.316417",
          "1970-01-01T12:09:02.141008",
          "1970-01-01T12:09:02.141008",
          "1970-01-01T12:24:44.965599",
          "1970-01-01T12:24:44.965599",
          "1970-01-01T12:24:44.965599",
          "1970-01-01T13:13:47.790191",
          "1970-01-01T13:13:47.790191",
          "1970-01-01T13:29:30.614782",
          "1970-01-01T13:29:30.614782",
          "1970-01-01T13:29:30.614782"
         ],
         "y": [
          "sailing full",
          "sailing full",
          "sailing full",
          "sailing full",
          null,
          "sailing full",
          "sailing full",
          "sailing full",
          "sailing full",
          null,
          "sailing full",
          "sailing full",
          "sailing full",
          "sailing full",
          null,
          "sailing full",
          "sailing full",
          "sailing full",
          "sailing full",
          null,
          "sailing full",
          "sailing full",
          "sailing full",
          "sailing full",
          null,
          "sailing full",
          "sailing full",
          "sailing full",
          "sailing full",
          null,
          "sailing full",
          "sailing full",
          "sailing full",
          "sailing full",
          null,
          "sailing full",
          "sailing full",
          "sailing full",
          "sailing full",
          null,
          "sailing full",
          "sailing full",
          "sailing full",
          "sailing full",
          null,
          "sailing full",
          "sailing full",
          "sailing full",
          "sailing full",
          null,
          "sailing full",
          "sailing full",
          "sailing full",
          "sailing full",
          null,
          "sailing full",
          "sailing full",
          "sailing full",
          "sailing full",
          null,
          "sailing full",
          "sailing full",
          "sailing full",
          "sailing full",
          null
         ]
        },
        {
         "connectgaps": false,
         "hoverinfo": "y+name",
         "line": {
          "color": "rgb(66,31,236)",
          "width": 10
         },
         "mode": "lines",
         "name": "unloading",
         "type": "scatter",
         "x": [
          "1970-01-01T00:32:22.824591",
          "1970-01-01T00:32:22.824591",
          "1970-01-01T00:49:02.824591",
          "1970-01-01T00:49:02.824591",
          "1970-01-01T00:49:02.824591",
          "1970-01-01T01:37:08.473774",
          "1970-01-01T01:37:08.473774",
          "1970-01-01T01:53:48.473774",
          "1970-01-01T01:53:48.473774",
          "1970-01-01T01:53:48.473774",
          "1970-01-01T02:41:54.122956",
          "1970-01-01T02:41:54.122956",
          "1970-01-01T02:58:34.122956",
          "1970-01-01T02:58:34.122956",
          "1970-01-01T02:58:34.122956",
          "1970-01-01T03:46:39.772139",
          "1970-01-01T03:46:39.772139",
          "1970-01-01T04:03:19.772139",
          "1970-01-01T04:03:19.772139",
          "1970-01-01T04:03:19.772139",
          "1970-01-01T04:51:25.421321",
          "1970-01-01T04:51:25.421321",
          "1970-01-01T05:08:05.421321",
          "1970-01-01T05:08:05.421321",
          "1970-01-01T05:08:05.421321",
          "1970-01-01T05:56:11.070504",
          "1970-01-01T05:56:11.070504",
          "1970-01-01T06:12:51.070504",
          "1970-01-01T06:12:51.070504",
          "1970-01-01T06:12:51.070504",
          "1970-01-01T07:00:56.719687",
          "1970-01-01T07:00:56.719687",
          "1970-01-01T07:17:36.719687",
          "1970-01-01T07:17:36.719687",
          "1970-01-01T07:17:36.719687",
          "1970-01-01T08:05:42.368869",
          "1970-01-01T08:05:42.368869",
          "1970-01-01T08:22:22.368869",
          "1970-01-01T08:22:22.368869",
          "1970-01-01T08:22:22.368869",
          "1970-01-01T09:10:28.018052",
          "1970-01-01T09:10:28.018052",
          "1970-01-01T09:27:08.018052",
          "1970-01-01T09:27:08.018052",
          "1970-01-01T09:27:08.018052",
          "1970-01-01T10:15:13.667234",
          "1970-01-01T10:15:13.667234",
          "1970-01-01T10:31:53.667234",
          "1970-01-01T10:31:53.667234",
          "1970-01-01T10:31:53.667234",
          "1970-01-01T11:19:59.316417",
          "1970-01-01T11:19:59.316417",
          "1970-01-01T11:36:39.316417",
          "1970-01-01T11:36:39.316417",
          "1970-01-01T11:36:39.316417",
          "1970-01-01T12:24:44.965599",
          "1970-01-01T12:24:44.965599",
          "1970-01-01T12:41:24.965599",
          "1970-01-01T12:41:24.965599",
          "1970-01-01T12:41:24.965599",
          "1970-01-01T13:29:30.614782",
          "1970-01-01T13:29:30.614782",
          "1970-01-01T13:46:10.614782",
          "1970-01-01T13:46:10.614782",
          "1970-01-01T13:46:10.614782"
         ],
         "y": [
          "unloading",
          "unloading",
          "unloading",
          "unloading",
          null,
          "unloading",
          "unloading",
          "unloading",
          "unloading",
          null,
          "unloading",
          "unloading",
          "unloading",
          "unloading",
          null,
          "unloading",
          "unloading",
          "unloading",
          "unloading",
          null,
          "unloading",
          "unloading",
          "unloading",
          "unloading",
          null,
          "unloading",
          "unloading",
          "unloading",
          "unloading",
          null,
          "unloading",
          "unloading",
          "unloading",
          "unloading",
          null,
          "unloading",
          "unloading",
          "unloading",
          "unloading",
          null,
          "unloading",
          "unloading",
          "unloading",
          "unloading",
          null,
          "unloading",
          "unloading",
          "unloading",
          "unloading",
          null,
          "unloading",
          "unloading",
          "unloading",
          "unloading",
          null,
          "unloading",
          "unloading",
          "unloading",
          "unloading",
          null,
          "unloading",
          "unloading",
          "unloading",
          "unloading",
          null
         ]
        },
        {
         "connectgaps": false,
         "hoverinfo": "y+name",
         "line": {
          "color": "rgb(102,67,16)",
          "width": 10
         },
         "mode": "lines",
         "name": "basic activity",
         "type": "scatter",
         "x": [
          "1970-01-01T00:49:02.824591",
          "1970-01-01T00:49:02.824591",
          "1970-01-01T00:49:02.824591",
          "1970-01-01T00:49:02.824591",
          "1970-01-01T00:49:02.824591",
          "1970-01-01T01:53:48.473774",
          "1970-01-01T01:53:48.473774",
          "1970-01-01T01:53:48.473774",
          "1970-01-01T01:53:48.473774",
          "1970-01-01T01:53:48.473774",
          "1970-01-01T02:58:34.122956",
          "1970-01-01T02:58:34.122956",
          "1970-01-01T02:58:34.122956",
          "1970-01-01T02:58:34.122956",
          "1970-01-01T02:58:34.122956",
          "1970-01-01T04:03:19.772139",
          "1970-01-01T04:03:19.772139",
          "1970-01-01T04:03:19.772139",
          "1970-01-01T04:03:19.772139",
          "1970-01-01T04:03:19.772139",
          "1970-01-01T05:08:05.421321",
          "1970-01-01T05:08:05.421321",
          "1970-01-01T05:08:05.421321",
          "1970-01-01T05:08:05.421321",
          "1970-01-01T05:08:05.421321",
          "1970-01-01T06:12:51.070504",
          "1970-01-01T06:12:51.070504",
          "1970-01-01T06:12:51.070504",
          "1970-01-01T06:12:51.070504",
          "1970-01-01T06:12:51.070504",
          "1970-01-01T07:17:36.719687",
          "1970-01-01T07:17:36.719687",
          "1970-01-01T07:17:36.719687",
          "1970-01-01T07:17:36.719687",
          "1970-01-01T07:17:36.719687",
          "1970-01-01T08:22:22.368869",
          "1970-01-01T08:22:22.368869",
          "1970-01-01T08:22:22.368869",
          "1970-01-01T08:22:22.368869",
          "1970-01-01T08:22:22.368869",
          "1970-01-01T09:27:08.018052",
          "1970-01-01T09:27:08.018052",
          "1970-01-01T09:27:08.018052",
          "1970-01-01T09:27:08.018052",
          "1970-01-01T09:27:08.018052",
          "1970-01-01T10:31:53.667234",
          "1970-01-01T10:31:53.667234",
          "1970-01-01T10:31:53.667234",
          "1970-01-01T10:31:53.667234",
          "1970-01-01T10:31:53.667234",
          "1970-01-01T11:36:39.316417",
          "1970-01-01T11:36:39.316417",
          "1970-01-01T11:36:39.316417",
          "1970-01-01T11:36:39.316417",
          "1970-01-01T11:36:39.316417",
          "1970-01-01T12:41:24.965599",
          "1970-01-01T12:41:24.965599",
          "1970-01-01T12:41:24.965599",
          "1970-01-01T12:41:24.965599",
          "1970-01-01T12:41:24.965599",
          "1970-01-01T13:46:10.614782",
          "1970-01-01T13:46:10.614782",
          "1970-01-01T13:46:10.614782",
          "1970-01-01T13:46:10.614782",
          "1970-01-01T13:46:10.614782"
         ],
         "y": [
          "basic activity",
          "basic activity",
          "basic activity",
          "basic activity",
          null,
          "basic activity",
          "basic activity",
          "basic activity",
          "basic activity",
          null,
          "basic activity",
          "basic activity",
          "basic activity",
          "basic activity",
          null,
          "basic activity",
          "basic activity",
          "basic activity",
          "basic activity",
          null,
          "basic activity",
          "basic activity",
          "basic activity",
          "basic activity",
          null,
          "basic activity",
          "basic activity",
          "basic activity",
          "basic activity",
          null,
          "basic activity",
          "basic activity",
          "basic activity",
          "basic activity",
          null,
          "basic activity",
          "basic activity",
          "basic activity",
          "basic activity",
          null,
          "basic activity",
          "basic activity",
          "basic activity",
          "basic activity",
          null,
          "basic activity",
          "basic activity",
          "basic activity",
          "basic activity",
          null,
          "basic activity",
          "basic activity",
          "basic activity",
          "basic activity",
          null,
          "basic activity",
          "basic activity",
          "basic activity",
          "basic activity",
          null,
          "basic activity",
          "basic activity",
          "basic activity",
          "basic activity",
          null
         ]
        },
        {
         "connectgaps": false,
         "hoverinfo": "y+name",
         "line": {
          "color": "rgb(138,103,52)",
          "width": 10
         },
         "mode": "lines",
         "name": "While sequential activity subcycle",
         "type": "scatter",
         "x": [
          "1970-01-01T00:00:00",
          "1970-01-01T00:00:00",
          "1970-01-01T00:00:00",
          "1970-01-01T00:00:00",
          "1970-01-01T00:00:00",
          "1970-01-01T00:00:00",
          "1970-01-01T00:00:00",
          "1970-01-01T00:16:40",
          "1970-01-01T00:16:40",
          "1970-01-01T00:16:40",
          "1970-01-01T00:16:40",
          "1970-01-01T00:16:40",
          "1970-01-01T00:32:22.824591",
          "1970-01-01T00:32:22.824591",
          "1970-01-01T00:32:22.824591",
          "1970-01-01T00:32:22.824591",
          "1970-01-01T00:32:22.824591",
          "1970-01-01T00:49:02.824591",
          "1970-01-01T00:49:02.824591",
          "1970-01-01T00:49:02.824591",
          "1970-01-01T00:49:02.824591",
          "1970-01-01T00:49:02.824591",
          "1970-01-01T00:49:02.824591",
          "1970-01-01T00:49:02.824591",
          "1970-01-01T00:49:02.824591",
          "1970-01-01T00:49:02.824591",
          "1970-01-01T00:49:02.824591",
          "1970-01-01T00:49:02.824591",
          "1970-01-01T00:49:02.824591",
          "1970-01-01T00:49:02.824591",
          "1970-01-01T00:49:02.824591",
          "1970-01-01T00:49:02.824591",
          "1970-01-01T01:04:45.649183",
          "1970-01-01T01:04:45.649183",
          "1970-01-01T01:04:45.649183",
          "1970-01-01T01:04:45.649183",
          "1970-01-01T01:04:45.649183",
          "1970-01-01T01:21:25.649183",
          "1970-01-01T01:21:25.649183",
          "1970-01-01T01:21:25.649183",
          "1970-01-01T01:21:25.649183",
          "1970-01-01T01:21:25.649183",
          "1970-01-01T01:37:08.473774",
          "1970-01-01T01:37:08.473774",
          "1970-01-01T01:37:08.473774",
          "1970-01-01T01:37:08.473774",
          "1970-01-01T01:37:08.473774",
          "1970-01-01T01:53:48.473774",
          "1970-01-01T01:53:48.473774",
          "1970-01-01T01:53:48.473774",
          "1970-01-01T01:53:48.473774",
          "1970-01-01T01:53:48.473774",
          "1970-01-01T01:53:48.473774",
          "1970-01-01T01:53:48.473774",
          "1970-01-01T01:53:48.473774",
          "1970-01-01T01:53:48.473774",
          "1970-01-01T01:53:48.473774",
          "1970-01-01T01:53:48.473774",
          "1970-01-01T01:53:48.473774",
          "1970-01-01T01:53:48.473774",
          "1970-01-01T01:53:48.473774",
          "1970-01-01T01:53:48.473774",
          "1970-01-01T02:09:31.298365",
          "1970-01-01T02:09:31.298365",
          "1970-01-01T02:09:31.298365",
          "1970-01-01T02:09:31.298365",
          "1970-01-01T02:09:31.298365",
          "1970-01-01T02:26:11.298365",
          "1970-01-01T02:26:11.298365",
          "1970-01-01T02:26:11.298365",
          "1970-01-01T02:26:11.298365",
          "1970-01-01T02:26:11.298365",
          "1970-01-01T02:41:54.122956",
          "1970-01-01T02:41:54.122956",
          "1970-01-01T02:41:54.122956",
          "1970-01-01T02:41:54.122956",
          "1970-01-01T02:41:54.122956",
          "1970-01-01T02:58:34.122956",
          "1970-01-01T02:58:34.122956",
          "1970-01-01T02:58:34.122956",
          "1970-01-01T02:58:34.122956",
          "1970-01-01T02:58:34.122956",
          "1970-01-01T02:58:34.122956",
          "1970-01-01T02:58:34.122956",
          "1970-01-01T02:58:34.122956",
          "1970-01-01T02:58:34.122956",
          "1970-01-01T02:58:34.122956",
          "1970-01-01T02:58:34.122956",
          "1970-01-01T02:58:34.122956",
          "1970-01-01T02:58:34.122956",
          "1970-01-01T02:58:34.122956",
          "1970-01-01T02:58:34.122956",
          "1970-01-01T03:14:16.947548",
          "1970-01-01T03:14:16.947548",
          "1970-01-01T03:14:16.947548",
          "1970-01-01T03:14:16.947548",
          "1970-01-01T03:14:16.947548",
          "1970-01-01T03:30:56.947548",
          "1970-01-01T03:30:56.947548",
          "1970-01-01T03:30:56.947548",
          "1970-01-01T03:30:56.947548",
          "1970-01-01T03:30:56.947548",
          "1970-01-01T03:46:39.772139",
          "1970-01-01T03:46:39.772139",
          "1970-01-01T03:46:39.772139",
          "1970-01-01T03:46:39.772139",
          "1970-01-01T03:46:39.772139",
          "1970-01-01T04:03:19.772139",
          "1970-01-01T04:03:19.772139",
          "1970-01-01T04:03:19.772139",
          "1970-01-01T04:03:19.772139",
          "1970-01-01T04:03:19.772139",
          "1970-01-01T04:03:19.772139",
          "1970-01-01T04:03:19.772139",
          "1970-01-01T04:03:19.772139",
          "1970-01-01T04:03:19.772139",
          "1970-01-01T04:03:19.772139",
          "1970-01-01T04:03:19.772139",
          "1970-01-01T04:03:19.772139",
          "1970-01-01T04:03:19.772139",
          "1970-01-01T04:03:19.772139",
          "1970-01-01T04:03:19.772139",
          "1970-01-01T04:19:02.596730",
          "1970-01-01T04:19:02.596730",
          "1970-01-01T04:19:02.596730",
          "1970-01-01T04:19:02.596730",
          "1970-01-01T04:19:02.596730",
          "1970-01-01T04:35:42.596730",
          "1970-01-01T04:35:42.596730",
          "1970-01-01T04:35:42.596730",
          "1970-01-01T04:35:42.596730",
          "1970-01-01T04:35:42.596730",
          "1970-01-01T04:51:25.421321",
          "1970-01-01T04:51:25.421321",
          "1970-01-01T04:51:25.421321",
          "1970-01-01T04:51:25.421321",
          "1970-01-01T04:51:25.421321",
          "1970-01-01T05:08:05.421321",
          "1970-01-01T05:08:05.421321",
          "1970-01-01T05:08:05.421321",
          "1970-01-01T05:08:05.421321",
          "1970-01-01T05:08:05.421321",
          "1970-01-01T05:08:05.421321",
          "1970-01-01T05:08:05.421321",
          "1970-01-01T05:08:05.421321",
          "1970-01-01T05:08:05.421321",
          "1970-01-01T05:08:05.421321",
          "1970-01-01T05:08:05.421321",
          "1970-01-01T05:08:05.421321",
          "1970-01-01T05:08:05.421321",
          "1970-01-01T05:08:05.421321",
          "1970-01-01T05:08:05.421321",
          "1970-01-01T05:23:48.245913",
          "1970-01-01T05:23:48.245913",
          "1970-01-01T05:23:48.245913",
          "1970-01-01T05:23:48.245913",
          "1970-01-01T05:23:48.245913",
          "1970-01-01T05:40:28.245913",
          "1970-01-01T05:40:28.245913",
          "1970-01-01T05:40:28.245913",
          "1970-01-01T05:40:28.245913",
          "1970-01-01T05:40:28.245913",
          "1970-01-01T05:56:11.070504",
          "1970-01-01T05:56:11.070504",
          "1970-01-01T05:56:11.070504",
          "1970-01-01T05:56:11.070504",
          "1970-01-01T05:56:11.070504",
          "1970-01-01T06:12:51.070504",
          "1970-01-01T06:12:51.070504",
          "1970-01-01T06:12:51.070504",
          "1970-01-01T06:12:51.070504",
          "1970-01-01T06:12:51.070504",
          "1970-01-01T06:12:51.070504",
          "1970-01-01T06:12:51.070504",
          "1970-01-01T06:12:51.070504",
          "1970-01-01T06:12:51.070504",
          "1970-01-01T06:12:51.070504",
          "1970-01-01T06:12:51.070504",
          "1970-01-01T06:12:51.070504",
          "1970-01-01T06:12:51.070504",
          "1970-01-01T06:12:51.070504",
          "1970-01-01T06:12:51.070504",
          "1970-01-01T06:28:33.895095",
          "1970-01-01T06:28:33.895095",
          "1970-01-01T06:28:33.895095",
          "1970-01-01T06:28:33.895095",
          "1970-01-01T06:28:33.895095",
          "1970-01-01T06:45:13.895095",
          "1970-01-01T06:45:13.895095",
          "1970-01-01T06:45:13.895095",
          "1970-01-01T06:45:13.895095",
          "1970-01-01T06:45:13.895095",
          "1970-01-01T07:00:56.719687",
          "1970-01-01T07:00:56.719687",
          "1970-01-01T07:00:56.719687",
          "1970-01-01T07:00:56.719687",
          "1970-01-01T07:00:56.719687",
          "1970-01-01T07:17:36.719687",
          "1970-01-01T07:17:36.719687",
          "1970-01-01T07:17:36.719687",
          "1970-01-01T07:17:36.719687",
          "1970-01-01T07:17:36.719687",
          "1970-01-01T07:17:36.719687",
          "1970-01-01T07:17:36.719687",
          "1970-01-01T07:17:36.719687",
          "1970-01-01T07:17:36.719687",
          "1970-01-01T07:17:36.719687",
          "1970-01-01T07:17:36.719687",
          "1970-01-01T07:17:36.719687",
          "1970-01-01T07:17:36.719687",
          "1970-01-01T07:17:36.719687",
          "1970-01-01T07:17:36.719687",
          "1970-01-01T07:33:19.544278",
          "1970-01-01T07:33:19.544278",
          "1970-01-01T07:33:19.544278",
          "1970-01-01T07:33:19.544278",
          "1970-01-01T07:33:19.544278",
          "1970-01-01T07:49:59.544278",
          "1970-01-01T07:49:59.544278",
          "1970-01-01T07:49:59.544278",
          "1970-01-01T07:49:59.544278",
          "1970-01-01T07:49:59.544278",
          "1970-01-01T08:05:42.368869",
          "1970-01-01T08:05:42.368869",
          "1970-01-01T08:05:42.368869",
          "1970-01-01T08:05:42.368869",
          "1970-01-01T08:05:42.368869",
          "1970-01-01T08:22:22.368869",
          "1970-01-01T08:22:22.368869",
          "1970-01-01T08:22:22.368869",
          "1970-01-01T08:22:22.368869",
          "1970-01-01T08:22:22.368869",
          "1970-01-01T08:22:22.368869",
          "1970-01-01T08:22:22.368869",
          "1970-01-01T08:22:22.368869",
          "1970-01-01T08:22:22.368869",
          "1970-01-01T08:22:22.368869",
          "1970-01-01T08:22:22.368869",
          "1970-01-01T08:22:22.368869",
          "1970-01-01T08:22:22.368869",
          "1970-01-01T08:22:22.368869",
          "1970-01-01T08:22:22.368869",
          "1970-01-01T08:38:05.193460",
          "1970-01-01T08:38:05.193460",
          "1970-01-01T08:38:05.193460",
          "1970-01-01T08:38:05.193460",
          "1970-01-01T08:38:05.193460",
          "1970-01-01T08:54:45.193460",
          "1970-01-01T08:54:45.193460",
          "1970-01-01T08:54:45.193460",
          "1970-01-01T08:54:45.193460",
          "1970-01-01T08:54:45.193460",
          "1970-01-01T09:10:28.018052",
          "1970-01-01T09:10:28.018052",
          "1970-01-01T09:10:28.018052",
          "1970-01-01T09:10:28.018052",
          "1970-01-01T09:10:28.018052",
          "1970-01-01T09:27:08.018052",
          "1970-01-01T09:27:08.018052",
          "1970-01-01T09:27:08.018052",
          "1970-01-01T09:27:08.018052",
          "1970-01-01T09:27:08.018052",
          "1970-01-01T09:27:08.018052",
          "1970-01-01T09:27:08.018052",
          "1970-01-01T09:27:08.018052",
          "1970-01-01T09:27:08.018052",
          "1970-01-01T09:27:08.018052",
          "1970-01-01T09:27:08.018052",
          "1970-01-01T09:27:08.018052",
          "1970-01-01T09:27:08.018052",
          "1970-01-01T09:27:08.018052",
          "1970-01-01T09:27:08.018052",
          "1970-01-01T09:42:50.842643",
          "1970-01-01T09:42:50.842643",
          "1970-01-01T09:42:50.842643",
          "1970-01-01T09:42:50.842643",
          "1970-01-01T09:42:50.842643",
          "1970-01-01T09:59:30.842643",
          "1970-01-01T09:59:30.842643",
          "1970-01-01T09:59:30.842643",
          "1970-01-01T09:59:30.842643",
          "1970-01-01T09:59:30.842643",
          "1970-01-01T10:15:13.667234",
          "1970-01-01T10:15:13.667234",
          "1970-01-01T10:15:13.667234",
          "1970-01-01T10:15:13.667234",
          "1970-01-01T10:15:13.667234",
          "1970-01-01T10:31:53.667234",
          "1970-01-01T10:31:53.667234",
          "1970-01-01T10:31:53.667234",
          "1970-01-01T10:31:53.667234",
          "1970-01-01T10:31:53.667234",
          "1970-01-01T10:31:53.667234",
          "1970-01-01T10:31:53.667234",
          "1970-01-01T10:31:53.667234",
          "1970-01-01T10:31:53.667234",
          "1970-01-01T10:31:53.667234",
          "1970-01-01T10:31:53.667234",
          "1970-01-01T10:31:53.667234",
          "1970-01-01T10:31:53.667234",
          "1970-01-01T10:31:53.667234",
          "1970-01-01T10:31:53.667234",
          "1970-01-01T10:47:36.491825",
          "1970-01-01T10:47:36.491825",
          "1970-01-01T10:47:36.491825",
          "1970-01-01T10:47:36.491825",
          "1970-01-01T10:47:36.491825",
          "1970-01-01T11:04:16.491825",
          "1970-01-01T11:04:16.491825",
          "1970-01-01T11:04:16.491825",
          "1970-01-01T11:04:16.491825",
          "1970-01-01T11:04:16.491825",
          "1970-01-01T11:19:59.316417",
          "1970-01-01T11:19:59.316417",
          "1970-01-01T11:19:59.316417",
          "1970-01-01T11:19:59.316417",
          "1970-01-01T11:19:59.316417",
          "1970-01-01T11:36:39.316417",
          "1970-01-01T11:36:39.316417",
          "1970-01-01T11:36:39.316417",
          "1970-01-01T11:36:39.316417",
          "1970-01-01T11:36:39.316417",
          "1970-01-01T11:36:39.316417",
          "1970-01-01T11:36:39.316417",
          "1970-01-01T11:36:39.316417",
          "1970-01-01T11:36:39.316417",
          "1970-01-01T11:36:39.316417",
          "1970-01-01T11:36:39.316417",
          "1970-01-01T11:36:39.316417",
          "1970-01-01T11:36:39.316417",
          "1970-01-01T11:36:39.316417",
          "1970-01-01T11:36:39.316417",
          "1970-01-01T11:52:22.141008",
          "1970-01-01T11:52:22.141008",
          "1970-01-01T11:52:22.141008",
          "1970-01-01T11:52:22.141008",
          "1970-01-01T11:52:22.141008",
          "1970-01-01T12:09:02.141008",
          "1970-01-01T12:09:02.141008",
          "1970-01-01T12:09:02.141008",
          "1970-01-01T12:09:02.141008",
          "1970-01-01T12:09:02.141008",
          "1970-01-01T12:24:44.965599",
          "1970-01-01T12:24:44.965599",
          "1970-01-01T12:24:44.965599",
          "1970-01-01T12:24:44.965599",
          "1970-01-01T12:24:44.965599",
          "1970-01-01T12:41:24.965599",
          "1970-01-01T12:41:24.965599",
          "1970-01-01T12:41:24.965599",
          "1970-01-01T12:41:24.965599",
          "1970-01-01T12:41:24.965599",
          "1970-01-01T12:41:24.965599",
          "1970-01-01T12:41:24.965599",
          "1970-01-01T12:41:24.965599",
          "1970-01-01T12:41:24.965599",
          "1970-01-01T12:41:24.965599",
          "1970-01-01T12:41:24.965599",
          "1970-01-01T12:41:24.965599",
          "1970-01-01T12:41:24.965599",
          "1970-01-01T12:41:24.965599",
          "1970-01-01T12:41:24.965599",
          "1970-01-01T12:57:07.790191",
          "1970-01-01T12:57:07.790191",
          "1970-01-01T12:57:07.790191",
          "1970-01-01T12:57:07.790191",
          "1970-01-01T12:57:07.790191",
          "1970-01-01T13:13:47.790191",
          "1970-01-01T13:13:47.790191",
          "1970-01-01T13:13:47.790191",
          "1970-01-01T13:13:47.790191",
          "1970-01-01T13:13:47.790191",
          "1970-01-01T13:29:30.614782",
          "1970-01-01T13:29:30.614782",
          "1970-01-01T13:29:30.614782",
          "1970-01-01T13:29:30.614782",
          "1970-01-01T13:29:30.614782",
          "1970-01-01T13:46:10.614782",
          "1970-01-01T13:46:10.614782",
          "1970-01-01T13:46:10.614782",
          "1970-01-01T13:46:10.614782",
          "1970-01-01T13:46:10.614782",
          "1970-01-01T13:46:10.614782",
          "1970-01-01T13:46:10.614782",
          "1970-01-01T13:46:10.614782",
          "1970-01-01T13:46:10.614782",
          "1970-01-01T13:46:10.614782",
          "1970-01-01T13:46:10.614782",
          "1970-01-01T13:46:10.614782",
          "1970-01-01T13:46:10.614782"
         ],
         "y": [
          "While sequential activity subcycle",
          "While sequential activity subcycle",
          "While sequential activity subcycle",
          "While sequential activity subcycle",
          null,
          "While sequential activity subcycle",
          "While sequential activity subcycle",
          "While sequential activity subcycle",
          "While sequential activity subcycle",
          null,
          "While sequential activity subcycle",
          "While sequential activity subcycle",
          "While sequential activity subcycle",
          "While sequential activity subcycle",
          null,
          "While sequential activity subcycle",
          "While sequential activity subcycle",
          "While sequential activity subcycle",
          "While sequential activity subcycle",
          null,
          "While sequential activity subcycle",
          "While sequential activity subcycle",
          "While sequential activity subcycle",
          "While sequential activity subcycle",
          null,
          "While sequential activity subcycle",
          "While sequential activity subcycle",
          "While sequential activity subcycle",
          "While sequential activity subcycle",
          null,
          "While sequential activity subcycle",
          "While sequential activity subcycle",
          "While sequential activity subcycle",
          "While sequential activity subcycle",
          null,
          "While sequential activity subcycle",
          "While sequential activity subcycle",
          "While sequential activity subcycle",
          "While sequential activity subcycle",
          null,
          "While sequential activity subcycle",
          "While sequential activity subcycle",
          "While sequential activity subcycle",
          "While sequential activity subcycle",
          null,
          "While sequential activity subcycle",
          "While sequential activity subcycle",
          "While sequential activity subcycle",
          "While sequential activity subcycle",
          null,
          "While sequential activity subcycle",
          "While sequential activity subcycle",
          "While sequential activity subcycle",
          "While sequential activity subcycle",
          null,
          "While sequential activity subcycle",
          "While sequential activity subcycle",
          "While sequential activity subcycle",
          "While sequential activity subcycle",
          null,
          "While sequential activity subcycle",
          "While sequential activity subcycle",
          "While sequential activity subcycle",
          "While sequential activity subcycle",
          null,
          "While sequential activity subcycle",
          "While sequential activity subcycle",
          "While sequential activity subcycle",
          "While sequential activity subcycle",
          null,
          "While sequential activity subcycle",
          "While sequential activity subcycle",
          "While sequential activity subcycle",
          "While sequential activity subcycle",
          null,
          "While sequential activity subcycle",
          "While sequential activity subcycle",
          "While sequential activity subcycle",
          "While sequential activity subcycle",
          null,
          "While sequential activity subcycle",
          "While sequential activity subcycle",
          "While sequential activity subcycle",
          "While sequential activity subcycle",
          null,
          "While sequential activity subcycle",
          "While sequential activity subcycle",
          "While sequential activity subcycle",
          "While sequential activity subcycle",
          null,
          "While sequential activity subcycle",
          "While sequential activity subcycle",
          "While sequential activity subcycle",
          "While sequential activity subcycle",
          null,
          "While sequential activity subcycle",
          "While sequential activity subcycle",
          "While sequential activity subcycle",
          "While sequential activity subcycle",
          null,
          "While sequential activity subcycle",
          "While sequential activity subcycle",
          "While sequential activity subcycle",
          "While sequential activity subcycle",
          null,
          "While sequential activity subcycle",
          "While sequential activity subcycle",
          "While sequential activity subcycle",
          "While sequential activity subcycle",
          null,
          "While sequential activity subcycle",
          "While sequential activity subcycle",
          "While sequential activity subcycle",
          "While sequential activity subcycle",
          null,
          "While sequential activity subcycle",
          "While sequential activity subcycle",
          "While sequential activity subcycle",
          "While sequential activity subcycle",
          null,
          "While sequential activity subcycle",
          "While sequential activity subcycle",
          "While sequential activity subcycle",
          "While sequential activity subcycle",
          null,
          "While sequential activity subcycle",
          "While sequential activity subcycle",
          "While sequential activity subcycle",
          "While sequential activity subcycle",
          null,
          "While sequential activity subcycle",
          "While sequential activity subcycle",
          "While sequential activity subcycle",
          "While sequential activity subcycle",
          null,
          "While sequential activity subcycle",
          "While sequential activity subcycle",
          "While sequential activity subcycle",
          "While sequential activity subcycle",
          null,
          "While sequential activity subcycle",
          "While sequential activity subcycle",
          "While sequential activity subcycle",
          "While sequential activity subcycle",
          null,
          "While sequential activity subcycle",
          "While sequential activity subcycle",
          "While sequential activity subcycle",
          "While sequential activity subcycle",
          null,
          "While sequential activity subcycle",
          "While sequential activity subcycle",
          "While sequential activity subcycle",
          "While sequential activity subcycle",
          null,
          "While sequential activity subcycle",
          "While sequential activity subcycle",
          "While sequential activity subcycle",
          "While sequential activity subcycle",
          null,
          "While sequential activity subcycle",
          "While sequential activity subcycle",
          "While sequential activity subcycle",
          "While sequential activity subcycle",
          null,
          "While sequential activity subcycle",
          "While sequential activity subcycle",
          "While sequential activity subcycle",
          "While sequential activity subcycle",
          null,
          "While sequential activity subcycle",
          "While sequential activity subcycle",
          "While sequential activity subcycle",
          "While sequential activity subcycle",
          null,
          "While sequential activity subcycle",
          "While sequential activity subcycle",
          "While sequential activity subcycle",
          "While sequential activity subcycle",
          null,
          "While sequential activity subcycle",
          "While sequential activity subcycle",
          "While sequential activity subcycle",
          "While sequential activity subcycle",
          null,
          "While sequential activity subcycle",
          "While sequential activity subcycle",
          "While sequential activity subcycle",
          "While sequential activity subcycle",
          null,
          "While sequential activity subcycle",
          "While sequential activity subcycle",
          "While sequential activity subcycle",
          "While sequential activity subcycle",
          null,
          "While sequential activity subcycle",
          "While sequential activity subcycle",
          "While sequential activity subcycle",
          "While sequential activity subcycle",
          null,
          "While sequential activity subcycle",
          "While sequential activity subcycle",
          "While sequential activity subcycle",
          "While sequential activity subcycle",
          null,
          "While sequential activity subcycle",
          "While sequential activity subcycle",
          "While sequential activity subcycle",
          "While sequential activity subcycle",
          null,
          "While sequential activity subcycle",
          "While sequential activity subcycle",
          "While sequential activity subcycle",
          "While sequential activity subcycle",
          null,
          "While sequential activity subcycle",
          "While sequential activity subcycle",
          "While sequential activity subcycle",
          "While sequential activity subcycle",
          null,
          "While sequential activity subcycle",
          "While sequential activity subcycle",
          "While sequential activity subcycle",
          "While sequential activity subcycle",
          null,
          "While sequential activity subcycle",
          "While sequential activity subcycle",
          "While sequential activity subcycle",
          "While sequential activity subcycle",
          null,
          "While sequential activity subcycle",
          "While sequential activity subcycle",
          "While sequential activity subcycle",
          "While sequential activity subcycle",
          null,
          "While sequential activity subcycle",
          "While sequential activity subcycle",
          "While sequential activity subcycle",
          "While sequential activity subcycle",
          null,
          "While sequential activity subcycle",
          "While sequential activity subcycle",
          "While sequential activity subcycle",
          "While sequential activity subcycle",
          null,
          "While sequential activity subcycle",
          "While sequential activity subcycle",
          "While sequential activity subcycle",
          "While sequential activity subcycle",
          null,
          "While sequential activity subcycle",
          "While sequential activity subcycle",
          "While sequential activity subcycle",
          "While sequential activity subcycle",
          null,
          "While sequential activity subcycle",
          "While sequential activity subcycle",
          "While sequential activity subcycle",
          "While sequential activity subcycle",
          null,
          "While sequential activity subcycle",
          "While sequential activity subcycle",
          "While sequential activity subcycle",
          "While sequential activity subcycle",
          null,
          "While sequential activity subcycle",
          "While sequential activity subcycle",
          "While sequential activity subcycle",
          "While sequential activity subcycle",
          null,
          "While sequential activity subcycle",
          "While sequential activity subcycle",
          "While sequential activity subcycle",
          "While sequential activity subcycle",
          null,
          "While sequential activity subcycle",
          "While sequential activity subcycle",
          "While sequential activity subcycle",
          "While sequential activity subcycle",
          null,
          "While sequential activity subcycle",
          "While sequential activity subcycle",
          "While sequential activity subcycle",
          "While sequential activity subcycle",
          null,
          "While sequential activity subcycle",
          "While sequential activity subcycle",
          "While sequential activity subcycle",
          "While sequential activity subcycle",
          null,
          "While sequential activity subcycle",
          "While sequential activity subcycle",
          "While sequential activity subcycle",
          "While sequential activity subcycle",
          null,
          "While sequential activity subcycle",
          "While sequential activity subcycle",
          "While sequential activity subcycle",
          "While sequential activity subcycle",
          null,
          "While sequential activity subcycle",
          "While sequential activity subcycle",
          "While sequential activity subcycle",
          "While sequential activity subcycle",
          null,
          "While sequential activity subcycle",
          "While sequential activity subcycle",
          "While sequential activity subcycle",
          "While sequential activity subcycle",
          null,
          "While sequential activity subcycle",
          "While sequential activity subcycle",
          "While sequential activity subcycle",
          "While sequential activity subcycle",
          null,
          "While sequential activity subcycle",
          "While sequential activity subcycle",
          "While sequential activity subcycle",
          "While sequential activity subcycle",
          null,
          "While sequential activity subcycle",
          "While sequential activity subcycle",
          "While sequential activity subcycle",
          "While sequential activity subcycle",
          null,
          "While sequential activity subcycle",
          "While sequential activity subcycle",
          "While sequential activity subcycle",
          "While sequential activity subcycle",
          null,
          "While sequential activity subcycle",
          "While sequential activity subcycle",
          "While sequential activity subcycle",
          "While sequential activity subcycle",
          null,
          "While sequential activity subcycle",
          "While sequential activity subcycle",
          "While sequential activity subcycle",
          "While sequential activity subcycle",
          null,
          "While sequential activity subcycle",
          "While sequential activity subcycle",
          "While sequential activity subcycle",
          "While sequential activity subcycle",
          null,
          "While sequential activity subcycle",
          "While sequential activity subcycle",
          "While sequential activity subcycle",
          "While sequential activity subcycle",
          null,
          "While sequential activity subcycle",
          "While sequential activity subcycle",
          "While sequential activity subcycle",
          "While sequential activity subcycle",
          null,
          "While sequential activity subcycle",
          "While sequential activity subcycle",
          "While sequential activity subcycle",
          "While sequential activity subcycle",
          null,
          "While sequential activity subcycle",
          "While sequential activity subcycle",
          "While sequential activity subcycle",
          "While sequential activity subcycle",
          null,
          "While sequential activity subcycle",
          "While sequential activity subcycle",
          "While sequential activity subcycle",
          "While sequential activity subcycle",
          null,
          "While sequential activity subcycle",
          "While sequential activity subcycle",
          "While sequential activity subcycle",
          "While sequential activity subcycle",
          null,
          "While sequential activity subcycle",
          "While sequential activity subcycle",
          "While sequential activity subcycle",
          "While sequential activity subcycle",
          null,
          "While sequential activity subcycle",
          "While sequential activity subcycle",
          "While sequential activity subcycle",
          "While sequential activity subcycle",
          null,
          "While sequential activity subcycle",
          "While sequential activity subcycle",
          "While sequential activity subcycle",
          "While sequential activity subcycle",
          null
         ]
        }
       ],
       "layout": {
        "hovermode": "closest",
        "legend": {
         "orientation": "h",
         "x": 0,
         "y": -0.2
        },
        "template": {
         "data": {
          "bar": [
           {
            "error_x": {
             "color": "#2a3f5f"
            },
            "error_y": {
             "color": "#2a3f5f"
            },
            "marker": {
             "line": {
              "color": "#E5ECF6",
              "width": 0.5
             }
            },
            "type": "bar"
           }
          ],
          "barpolar": [
           {
            "marker": {
             "line": {
              "color": "#E5ECF6",
              "width": 0.5
             }
            },
            "type": "barpolar"
           }
          ],
          "carpet": [
           {
            "aaxis": {
             "endlinecolor": "#2a3f5f",
             "gridcolor": "white",
             "linecolor": "white",
             "minorgridcolor": "white",
             "startlinecolor": "#2a3f5f"
            },
            "baxis": {
             "endlinecolor": "#2a3f5f",
             "gridcolor": "white",
             "linecolor": "white",
             "minorgridcolor": "white",
             "startlinecolor": "#2a3f5f"
            },
            "type": "carpet"
           }
          ],
          "choropleth": [
           {
            "colorbar": {
             "outlinewidth": 0,
             "ticks": ""
            },
            "type": "choropleth"
           }
          ],
          "contour": [
           {
            "colorbar": {
             "outlinewidth": 0,
             "ticks": ""
            },
            "colorscale": [
             [
              0,
              "#0d0887"
             ],
             [
              0.1111111111111111,
              "#46039f"
             ],
             [
              0.2222222222222222,
              "#7201a8"
             ],
             [
              0.3333333333333333,
              "#9c179e"
             ],
             [
              0.4444444444444444,
              "#bd3786"
             ],
             [
              0.5555555555555556,
              "#d8576b"
             ],
             [
              0.6666666666666666,
              "#ed7953"
             ],
             [
              0.7777777777777778,
              "#fb9f3a"
             ],
             [
              0.8888888888888888,
              "#fdca26"
             ],
             [
              1,
              "#f0f921"
             ]
            ],
            "type": "contour"
           }
          ],
          "contourcarpet": [
           {
            "colorbar": {
             "outlinewidth": 0,
             "ticks": ""
            },
            "type": "contourcarpet"
           }
          ],
          "heatmap": [
           {
            "colorbar": {
             "outlinewidth": 0,
             "ticks": ""
            },
            "colorscale": [
             [
              0,
              "#0d0887"
             ],
             [
              0.1111111111111111,
              "#46039f"
             ],
             [
              0.2222222222222222,
              "#7201a8"
             ],
             [
              0.3333333333333333,
              "#9c179e"
             ],
             [
              0.4444444444444444,
              "#bd3786"
             ],
             [
              0.5555555555555556,
              "#d8576b"
             ],
             [
              0.6666666666666666,
              "#ed7953"
             ],
             [
              0.7777777777777778,
              "#fb9f3a"
             ],
             [
              0.8888888888888888,
              "#fdca26"
             ],
             [
              1,
              "#f0f921"
             ]
            ],
            "type": "heatmap"
           }
          ],
          "heatmapgl": [
           {
            "colorbar": {
             "outlinewidth": 0,
             "ticks": ""
            },
            "colorscale": [
             [
              0,
              "#0d0887"
             ],
             [
              0.1111111111111111,
              "#46039f"
             ],
             [
              0.2222222222222222,
              "#7201a8"
             ],
             [
              0.3333333333333333,
              "#9c179e"
             ],
             [
              0.4444444444444444,
              "#bd3786"
             ],
             [
              0.5555555555555556,
              "#d8576b"
             ],
             [
              0.6666666666666666,
              "#ed7953"
             ],
             [
              0.7777777777777778,
              "#fb9f3a"
             ],
             [
              0.8888888888888888,
              "#fdca26"
             ],
             [
              1,
              "#f0f921"
             ]
            ],
            "type": "heatmapgl"
           }
          ],
          "histogram": [
           {
            "marker": {
             "colorbar": {
              "outlinewidth": 0,
              "ticks": ""
             }
            },
            "type": "histogram"
           }
          ],
          "histogram2d": [
           {
            "colorbar": {
             "outlinewidth": 0,
             "ticks": ""
            },
            "colorscale": [
             [
              0,
              "#0d0887"
             ],
             [
              0.1111111111111111,
              "#46039f"
             ],
             [
              0.2222222222222222,
              "#7201a8"
             ],
             [
              0.3333333333333333,
              "#9c179e"
             ],
             [
              0.4444444444444444,
              "#bd3786"
             ],
             [
              0.5555555555555556,
              "#d8576b"
             ],
             [
              0.6666666666666666,
              "#ed7953"
             ],
             [
              0.7777777777777778,
              "#fb9f3a"
             ],
             [
              0.8888888888888888,
              "#fdca26"
             ],
             [
              1,
              "#f0f921"
             ]
            ],
            "type": "histogram2d"
           }
          ],
          "histogram2dcontour": [
           {
            "colorbar": {
             "outlinewidth": 0,
             "ticks": ""
            },
            "colorscale": [
             [
              0,
              "#0d0887"
             ],
             [
              0.1111111111111111,
              "#46039f"
             ],
             [
              0.2222222222222222,
              "#7201a8"
             ],
             [
              0.3333333333333333,
              "#9c179e"
             ],
             [
              0.4444444444444444,
              "#bd3786"
             ],
             [
              0.5555555555555556,
              "#d8576b"
             ],
             [
              0.6666666666666666,
              "#ed7953"
             ],
             [
              0.7777777777777778,
              "#fb9f3a"
             ],
             [
              0.8888888888888888,
              "#fdca26"
             ],
             [
              1,
              "#f0f921"
             ]
            ],
            "type": "histogram2dcontour"
           }
          ],
          "mesh3d": [
           {
            "colorbar": {
             "outlinewidth": 0,
             "ticks": ""
            },
            "type": "mesh3d"
           }
          ],
          "parcoords": [
           {
            "line": {
             "colorbar": {
              "outlinewidth": 0,
              "ticks": ""
             }
            },
            "type": "parcoords"
           }
          ],
          "pie": [
           {
            "automargin": true,
            "type": "pie"
           }
          ],
          "scatter": [
           {
            "marker": {
             "colorbar": {
              "outlinewidth": 0,
              "ticks": ""
             }
            },
            "type": "scatter"
           }
          ],
          "scatter3d": [
           {
            "line": {
             "colorbar": {
              "outlinewidth": 0,
              "ticks": ""
             }
            },
            "marker": {
             "colorbar": {
              "outlinewidth": 0,
              "ticks": ""
             }
            },
            "type": "scatter3d"
           }
          ],
          "scattercarpet": [
           {
            "marker": {
             "colorbar": {
              "outlinewidth": 0,
              "ticks": ""
             }
            },
            "type": "scattercarpet"
           }
          ],
          "scattergeo": [
           {
            "marker": {
             "colorbar": {
              "outlinewidth": 0,
              "ticks": ""
             }
            },
            "type": "scattergeo"
           }
          ],
          "scattergl": [
           {
            "marker": {
             "colorbar": {
              "outlinewidth": 0,
              "ticks": ""
             }
            },
            "type": "scattergl"
           }
          ],
          "scattermapbox": [
           {
            "marker": {
             "colorbar": {
              "outlinewidth": 0,
              "ticks": ""
             }
            },
            "type": "scattermapbox"
           }
          ],
          "scatterpolar": [
           {
            "marker": {
             "colorbar": {
              "outlinewidth": 0,
              "ticks": ""
             }
            },
            "type": "scatterpolar"
           }
          ],
          "scatterpolargl": [
           {
            "marker": {
             "colorbar": {
              "outlinewidth": 0,
              "ticks": ""
             }
            },
            "type": "scatterpolargl"
           }
          ],
          "scatterternary": [
           {
            "marker": {
             "colorbar": {
              "outlinewidth": 0,
              "ticks": ""
             }
            },
            "type": "scatterternary"
           }
          ],
          "surface": [
           {
            "colorbar": {
             "outlinewidth": 0,
             "ticks": ""
            },
            "colorscale": [
             [
              0,
              "#0d0887"
             ],
             [
              0.1111111111111111,
              "#46039f"
             ],
             [
              0.2222222222222222,
              "#7201a8"
             ],
             [
              0.3333333333333333,
              "#9c179e"
             ],
             [
              0.4444444444444444,
              "#bd3786"
             ],
             [
              0.5555555555555556,
              "#d8576b"
             ],
             [
              0.6666666666666666,
              "#ed7953"
             ],
             [
              0.7777777777777778,
              "#fb9f3a"
             ],
             [
              0.8888888888888888,
              "#fdca26"
             ],
             [
              1,
              "#f0f921"
             ]
            ],
            "type": "surface"
           }
          ],
          "table": [
           {
            "cells": {
             "fill": {
              "color": "#EBF0F8"
             },
             "line": {
              "color": "white"
             }
            },
            "header": {
             "fill": {
              "color": "#C8D4E3"
             },
             "line": {
              "color": "white"
             }
            },
            "type": "table"
           }
          ]
         },
         "layout": {
          "annotationdefaults": {
           "arrowcolor": "#2a3f5f",
           "arrowhead": 0,
           "arrowwidth": 1
          },
          "coloraxis": {
           "colorbar": {
            "outlinewidth": 0,
            "ticks": ""
           }
          },
          "colorscale": {
           "diverging": [
            [
             0,
             "#8e0152"
            ],
            [
             0.1,
             "#c51b7d"
            ],
            [
             0.2,
             "#de77ae"
            ],
            [
             0.3,
             "#f1b6da"
            ],
            [
             0.4,
             "#fde0ef"
            ],
            [
             0.5,
             "#f7f7f7"
            ],
            [
             0.6,
             "#e6f5d0"
            ],
            [
             0.7,
             "#b8e186"
            ],
            [
             0.8,
             "#7fbc41"
            ],
            [
             0.9,
             "#4d9221"
            ],
            [
             1,
             "#276419"
            ]
           ],
           "sequential": [
            [
             0,
             "#0d0887"
            ],
            [
             0.1111111111111111,
             "#46039f"
            ],
            [
             0.2222222222222222,
             "#7201a8"
            ],
            [
             0.3333333333333333,
             "#9c179e"
            ],
            [
             0.4444444444444444,
             "#bd3786"
            ],
            [
             0.5555555555555556,
             "#d8576b"
            ],
            [
             0.6666666666666666,
             "#ed7953"
            ],
            [
             0.7777777777777778,
             "#fb9f3a"
            ],
            [
             0.8888888888888888,
             "#fdca26"
            ],
            [
             1,
             "#f0f921"
            ]
           ],
           "sequentialminus": [
            [
             0,
             "#0d0887"
            ],
            [
             0.1111111111111111,
             "#46039f"
            ],
            [
             0.2222222222222222,
             "#7201a8"
            ],
            [
             0.3333333333333333,
             "#9c179e"
            ],
            [
             0.4444444444444444,
             "#bd3786"
            ],
            [
             0.5555555555555556,
             "#d8576b"
            ],
            [
             0.6666666666666666,
             "#ed7953"
            ],
            [
             0.7777777777777778,
             "#fb9f3a"
            ],
            [
             0.8888888888888888,
             "#fdca26"
            ],
            [
             1,
             "#f0f921"
            ]
           ]
          },
          "colorway": [
           "#636efa",
           "#EF553B",
           "#00cc96",
           "#ab63fa",
           "#FFA15A",
           "#19d3f3",
           "#FF6692",
           "#B6E880",
           "#FF97FF",
           "#FECB52"
          ],
          "font": {
           "color": "#2a3f5f"
          },
          "geo": {
           "bgcolor": "white",
           "lakecolor": "white",
           "landcolor": "#E5ECF6",
           "showlakes": true,
           "showland": true,
           "subunitcolor": "white"
          },
          "hoverlabel": {
           "align": "left"
          },
          "hovermode": "closest",
          "mapbox": {
           "style": "light"
          },
          "paper_bgcolor": "white",
          "plot_bgcolor": "#E5ECF6",
          "polar": {
           "angularaxis": {
            "gridcolor": "white",
            "linecolor": "white",
            "ticks": ""
           },
           "bgcolor": "#E5ECF6",
           "radialaxis": {
            "gridcolor": "white",
            "linecolor": "white",
            "ticks": ""
           }
          },
          "scene": {
           "xaxis": {
            "backgroundcolor": "#E5ECF6",
            "gridcolor": "white",
            "gridwidth": 2,
            "linecolor": "white",
            "showbackground": true,
            "ticks": "",
            "zerolinecolor": "white"
           },
           "yaxis": {
            "backgroundcolor": "#E5ECF6",
            "gridcolor": "white",
            "gridwidth": 2,
            "linecolor": "white",
            "showbackground": true,
            "ticks": "",
            "zerolinecolor": "white"
           },
           "zaxis": {
            "backgroundcolor": "#E5ECF6",
            "gridcolor": "white",
            "gridwidth": 2,
            "linecolor": "white",
            "showbackground": true,
            "ticks": "",
            "zerolinecolor": "white"
           }
          },
          "shapedefaults": {
           "line": {
            "color": "#2a3f5f"
           }
          },
          "ternary": {
           "aaxis": {
            "gridcolor": "white",
            "linecolor": "white",
            "ticks": ""
           },
           "baxis": {
            "gridcolor": "white",
            "linecolor": "white",
            "ticks": ""
           },
           "bgcolor": "#E5ECF6",
           "caxis": {
            "gridcolor": "white",
            "linecolor": "white",
            "ticks": ""
           }
          },
          "title": {
           "x": 0.05
          },
          "xaxis": {
           "automargin": true,
           "gridcolor": "white",
           "linecolor": "white",
           "ticks": "",
           "title": {
            "standoff": 15
           },
           "zerolinecolor": "white",
           "zerolinewidth": 2
          },
          "yaxis": {
           "automargin": true,
           "gridcolor": "white",
           "linecolor": "white",
           "ticks": "",
           "title": {
            "standoff": 15
           },
           "zerolinecolor": "white",
           "zerolinewidth": 2
          }
         }
        },
        "title": {
         "text": "Vessel planning"
        },
        "xaxis": {
         "range": [
          "1970-01-01T00:00:00",
          "1970-01-01T13:46:10.614782"
         ],
         "title": {
          "font": {
           "color": "#7f7f7f",
           "family": "Courier New, monospace",
           "size": 18
          },
          "text": "Time"
         }
        },
        "yaxis": {
         "title": {
          "font": {
           "color": "#7f7f7f",
           "family": "Courier New, monospace",
           "size": 18
          },
          "text": "Vessels"
         }
        }
       }
      },
      "text/html": [
       "<div>                            <div id=\"610c6f31-aa30-4647-8d8e-73d08eb4a6cb\" class=\"plotly-graph-div\" style=\"height:525px; width:100%;\"></div>            <script type=\"text/javascript\">                require([\"plotly\"], function(Plotly) {                    window.PLOTLYENV=window.PLOTLYENV || {};                                    if (document.getElementById(\"610c6f31-aa30-4647-8d8e-73d08eb4a6cb\")) {                    Plotly.newPlot(                        \"610c6f31-aa30-4647-8d8e-73d08eb4a6cb\",                        [{\"connectgaps\": false, \"hoverinfo\": \"y+name\", \"line\": {\"color\": \"rgb(178,143,92)\", \"width\": 10}, \"mode\": \"lines\", \"name\": \"while_sequential_activity_subcycle\", \"type\": \"scatter\", \"x\": [\"1970-01-01T00:00:00\", \"1970-01-01T00:00:00\", \"1970-01-01T00:49:02.824591\", \"1970-01-01T00:49:02.824591\", \"1970-01-01T00:49:02.824591\", \"1970-01-01T00:49:02.824591\", \"1970-01-01T00:49:02.824591\", \"1970-01-01T01:53:48.473774\", \"1970-01-01T01:53:48.473774\", \"1970-01-01T01:53:48.473774\", \"1970-01-01T01:53:48.473774\", \"1970-01-01T01:53:48.473774\", \"1970-01-01T02:58:34.122956\", \"1970-01-01T02:58:34.122956\", \"1970-01-01T02:58:34.122956\", \"1970-01-01T02:58:34.122956\", \"1970-01-01T02:58:34.122956\", \"1970-01-01T04:03:19.772139\", \"1970-01-01T04:03:19.772139\", \"1970-01-01T04:03:19.772139\", \"1970-01-01T04:03:19.772139\", \"1970-01-01T04:03:19.772139\", \"1970-01-01T05:08:05.421321\", \"1970-01-01T05:08:05.421321\", \"1970-01-01T05:08:05.421321\", \"1970-01-01T05:08:05.421321\", \"1970-01-01T05:08:05.421321\", \"1970-01-01T06:12:51.070504\", \"1970-01-01T06:12:51.070504\", \"1970-01-01T06:12:51.070504\", \"1970-01-01T06:12:51.070504\", \"1970-01-01T06:12:51.070504\", \"1970-01-01T07:17:36.719687\", \"1970-01-01T07:17:36.719687\", \"1970-01-01T07:17:36.719687\", \"1970-01-01T07:17:36.719687\", \"1970-01-01T07:17:36.719687\", \"1970-01-01T08:22:22.368869\", \"1970-01-01T08:22:22.368869\", \"1970-01-01T08:22:22.368869\", \"1970-01-01T08:22:22.368869\", \"1970-01-01T08:22:22.368869\", \"1970-01-01T09:27:08.018052\", \"1970-01-01T09:27:08.018052\", \"1970-01-01T09:27:08.018052\", \"1970-01-01T09:27:08.018052\", \"1970-01-01T09:27:08.018052\", \"1970-01-01T10:31:53.667234\", \"1970-01-01T10:31:53.667234\", \"1970-01-01T10:31:53.667234\", \"1970-01-01T10:31:53.667234\", \"1970-01-01T10:31:53.667234\", \"1970-01-01T11:36:39.316417\", \"1970-01-01T11:36:39.316417\", \"1970-01-01T11:36:39.316417\", \"1970-01-01T11:36:39.316417\", \"1970-01-01T11:36:39.316417\", \"1970-01-01T12:41:24.965599\", \"1970-01-01T12:41:24.965599\", \"1970-01-01T12:41:24.965599\", \"1970-01-01T12:41:24.965599\", \"1970-01-01T12:41:24.965599\", \"1970-01-01T13:46:10.614782\", \"1970-01-01T13:46:10.614782\", \"1970-01-01T13:46:10.614782\", \"1970-01-01T12:41:24.965599\", \"1970-01-01T12:41:24.965599\", \"1970-01-01T13:46:10.614782\", \"1970-01-01T13:46:10.614782\", \"1970-01-01T13:46:10.614782\"], \"y\": [\"while_sequential_activity_subcycle\", \"while_sequential_activity_subcycle\", \"while_sequential_activity_subcycle\", \"while_sequential_activity_subcycle\", null, \"while_sequential_activity_subcycle\", \"while_sequential_activity_subcycle\", \"while_sequential_activity_subcycle\", \"while_sequential_activity_subcycle\", null, \"while_sequential_activity_subcycle\", \"while_sequential_activity_subcycle\", \"while_sequential_activity_subcycle\", \"while_sequential_activity_subcycle\", null, \"while_sequential_activity_subcycle\", \"while_sequential_activity_subcycle\", \"while_sequential_activity_subcycle\", \"while_sequential_activity_subcycle\", null, \"while_sequential_activity_subcycle\", \"while_sequential_activity_subcycle\", \"while_sequential_activity_subcycle\", \"while_sequential_activity_subcycle\", null, \"while_sequential_activity_subcycle\", \"while_sequential_activity_subcycle\", \"while_sequential_activity_subcycle\", \"while_sequential_activity_subcycle\", null, \"while_sequential_activity_subcycle\", \"while_sequential_activity_subcycle\", \"while_sequential_activity_subcycle\", \"while_sequential_activity_subcycle\", null, \"while_sequential_activity_subcycle\", \"while_sequential_activity_subcycle\", \"while_sequential_activity_subcycle\", \"while_sequential_activity_subcycle\", null, \"while_sequential_activity_subcycle\", \"while_sequential_activity_subcycle\", \"while_sequential_activity_subcycle\", \"while_sequential_activity_subcycle\", null, \"while_sequential_activity_subcycle\", \"while_sequential_activity_subcycle\", \"while_sequential_activity_subcycle\", \"while_sequential_activity_subcycle\", null, \"while_sequential_activity_subcycle\", \"while_sequential_activity_subcycle\", \"while_sequential_activity_subcycle\", \"while_sequential_activity_subcycle\", null, \"while_sequential_activity_subcycle\", \"while_sequential_activity_subcycle\", \"while_sequential_activity_subcycle\", \"while_sequential_activity_subcycle\", null, \"while_sequential_activity_subcycle\", \"while_sequential_activity_subcycle\", \"while_sequential_activity_subcycle\", \"while_sequential_activity_subcycle\", null, \"while_sequential_activity_subcycle\", \"while_sequential_activity_subcycle\", \"while_sequential_activity_subcycle\", \"while_sequential_activity_subcycle\", null]}, {\"connectgaps\": false, \"hoverinfo\": \"y+name\", \"line\": {\"color\": \"rgb(214,179,128)\", \"width\": 10}, \"mode\": \"lines\", \"name\": \"sailing empty\", \"type\": \"scatter\", \"x\": [\"1970-01-01T00:00:00\", \"1970-01-01T00:00:00\", \"1970-01-01T00:00:00\", \"1970-01-01T00:00:00\", \"1970-01-01T00:00:00\", \"1970-01-01T00:49:02.824591\", \"1970-01-01T00:49:02.824591\", \"1970-01-01T01:04:45.649183\", \"1970-01-01T01:04:45.649183\", \"1970-01-01T01:04:45.649183\", \"1970-01-01T01:53:48.473774\", \"1970-01-01T01:53:48.473774\", \"1970-01-01T02:09:31.298365\", \"1970-01-01T02:09:31.298365\", \"1970-01-01T02:09:31.298365\", \"1970-01-01T02:58:34.122956\", \"1970-01-01T02:58:34.122956\", \"1970-01-01T03:14:16.947548\", \"1970-01-01T03:14:16.947548\", \"1970-01-01T03:14:16.947548\", \"1970-01-01T04:03:19.772139\", \"1970-01-01T04:03:19.772139\", \"1970-01-01T04:19:02.596730\", \"1970-01-01T04:19:02.596730\", \"1970-01-01T04:19:02.596730\", \"1970-01-01T05:08:05.421321\", \"1970-01-01T05:08:05.421321\", \"1970-01-01T05:23:48.245913\", \"1970-01-01T05:23:48.245913\", \"1970-01-01T05:23:48.245913\", \"1970-01-01T06:12:51.070504\", \"1970-01-01T06:12:51.070504\", \"1970-01-01T06:28:33.895095\", \"1970-01-01T06:28:33.895095\", \"1970-01-01T06:28:33.895095\", \"1970-01-01T07:17:36.719687\", \"1970-01-01T07:17:36.719687\", \"1970-01-01T07:33:19.544278\", \"1970-01-01T07:33:19.544278\", \"1970-01-01T07:33:19.544278\", \"1970-01-01T08:22:22.368869\", \"1970-01-01T08:22:22.368869\", \"1970-01-01T08:38:05.193460\", \"1970-01-01T08:38:05.193460\", \"1970-01-01T08:38:05.193460\", \"1970-01-01T09:27:08.018052\", \"1970-01-01T09:27:08.018052\", \"1970-01-01T09:42:50.842643\", \"1970-01-01T09:42:50.842643\", \"1970-01-01T09:42:50.842643\", \"1970-01-01T10:31:53.667234\", \"1970-01-01T10:31:53.667234\", \"1970-01-01T10:47:36.491825\", \"1970-01-01T10:47:36.491825\", \"1970-01-01T10:47:36.491825\", \"1970-01-01T11:36:39.316417\", \"1970-01-01T11:36:39.316417\", \"1970-01-01T11:52:22.141008\", \"1970-01-01T11:52:22.141008\", \"1970-01-01T11:52:22.141008\", \"1970-01-01T12:41:24.965599\", \"1970-01-01T12:41:24.965599\", \"1970-01-01T12:57:07.790191\", \"1970-01-01T12:57:07.790191\", \"1970-01-01T12:57:07.790191\"], \"y\": [\"sailing empty\", \"sailing empty\", \"sailing empty\", \"sailing empty\", null, \"sailing empty\", \"sailing empty\", \"sailing empty\", \"sailing empty\", null, \"sailing empty\", \"sailing empty\", \"sailing empty\", \"sailing empty\", null, \"sailing empty\", \"sailing empty\", \"sailing empty\", \"sailing empty\", null, \"sailing empty\", \"sailing empty\", \"sailing empty\", \"sailing empty\", null, \"sailing empty\", \"sailing empty\", \"sailing empty\", \"sailing empty\", null, \"sailing empty\", \"sailing empty\", \"sailing empty\", \"sailing empty\", null, \"sailing empty\", \"sailing empty\", \"sailing empty\", \"sailing empty\", null, \"sailing empty\", \"sailing empty\", \"sailing empty\", \"sailing empty\", null, \"sailing empty\", \"sailing empty\", \"sailing empty\", \"sailing empty\", null, \"sailing empty\", \"sailing empty\", \"sailing empty\", \"sailing empty\", null, \"sailing empty\", \"sailing empty\", \"sailing empty\", \"sailing empty\", null, \"sailing empty\", \"sailing empty\", \"sailing empty\", \"sailing empty\", null]}, {\"connectgaps\": false, \"hoverinfo\": \"y+name\", \"line\": {\"color\": \"rgb(250,215,164)\", \"width\": 10}, \"mode\": \"lines\", \"name\": \"loading\", \"type\": \"scatter\", \"x\": [\"1970-01-01T00:00:00\", \"1970-01-01T00:00:00\", \"1970-01-01T00:16:40\", \"1970-01-01T00:16:40\", \"1970-01-01T00:16:40\", \"1970-01-01T01:04:45.649183\", \"1970-01-01T01:04:45.649183\", \"1970-01-01T01:21:25.649183\", \"1970-01-01T01:21:25.649183\", \"1970-01-01T01:21:25.649183\", \"1970-01-01T02:09:31.298365\", \"1970-01-01T02:09:31.298365\", \"1970-01-01T02:26:11.298365\", \"1970-01-01T02:26:11.298365\", \"1970-01-01T02:26:11.298365\", \"1970-01-01T03:14:16.947548\", \"1970-01-01T03:14:16.947548\", \"1970-01-01T03:30:56.947548\", \"1970-01-01T03:30:56.947548\", \"1970-01-01T03:30:56.947548\", \"1970-01-01T04:19:02.596730\", \"1970-01-01T04:19:02.596730\", \"1970-01-01T04:35:42.596730\", \"1970-01-01T04:35:42.596730\", \"1970-01-01T04:35:42.596730\", \"1970-01-01T05:23:48.245913\", \"1970-01-01T05:23:48.245913\", \"1970-01-01T05:40:28.245913\", \"1970-01-01T05:40:28.245913\", \"1970-01-01T05:40:28.245913\", \"1970-01-01T06:28:33.895095\", \"1970-01-01T06:28:33.895095\", \"1970-01-01T06:45:13.895095\", \"1970-01-01T06:45:13.895095\", \"1970-01-01T06:45:13.895095\", \"1970-01-01T07:33:19.544278\", \"1970-01-01T07:33:19.544278\", \"1970-01-01T07:49:59.544278\", \"1970-01-01T07:49:59.544278\", \"1970-01-01T07:49:59.544278\", \"1970-01-01T08:38:05.193460\", \"1970-01-01T08:38:05.193460\", \"1970-01-01T08:54:45.193460\", \"1970-01-01T08:54:45.193460\", \"1970-01-01T08:54:45.193460\", \"1970-01-01T09:42:50.842643\", \"1970-01-01T09:42:50.842643\", \"1970-01-01T09:59:30.842643\", \"1970-01-01T09:59:30.842643\", \"1970-01-01T09:59:30.842643\", \"1970-01-01T10:47:36.491825\", \"1970-01-01T10:47:36.491825\", \"1970-01-01T11:04:16.491825\", \"1970-01-01T11:04:16.491825\", \"1970-01-01T11:04:16.491825\", \"1970-01-01T11:52:22.141008\", \"1970-01-01T11:52:22.141008\", \"1970-01-01T12:09:02.141008\", \"1970-01-01T12:09:02.141008\", \"1970-01-01T12:09:02.141008\", \"1970-01-01T12:57:07.790191\", \"1970-01-01T12:57:07.790191\", \"1970-01-01T13:13:47.790191\", \"1970-01-01T13:13:47.790191\", \"1970-01-01T13:13:47.790191\"], \"y\": [\"loading\", \"loading\", \"loading\", \"loading\", null, \"loading\", \"loading\", \"loading\", \"loading\", null, \"loading\", \"loading\", \"loading\", \"loading\", null, \"loading\", \"loading\", \"loading\", \"loading\", null, \"loading\", \"loading\", \"loading\", \"loading\", null, \"loading\", \"loading\", \"loading\", \"loading\", null, \"loading\", \"loading\", \"loading\", \"loading\", null, \"loading\", \"loading\", \"loading\", \"loading\", null, \"loading\", \"loading\", \"loading\", \"loading\", null, \"loading\", \"loading\", \"loading\", \"loading\", null, \"loading\", \"loading\", \"loading\", \"loading\", null, \"loading\", \"loading\", \"loading\", \"loading\", null, \"loading\", \"loading\", \"loading\", \"loading\", null]}, {\"connectgaps\": false, \"hoverinfo\": \"y+name\", \"line\": {\"color\": \"rgb(30,251,200)\", \"width\": 10}, \"mode\": \"lines\", \"name\": \"sailing full\", \"type\": \"scatter\", \"x\": [\"1970-01-01T00:16:40\", \"1970-01-01T00:16:40\", \"1970-01-01T00:32:22.824591\", \"1970-01-01T00:32:22.824591\", \"1970-01-01T00:32:22.824591\", \"1970-01-01T01:21:25.649183\", \"1970-01-01T01:21:25.649183\", \"1970-01-01T01:37:08.473774\", \"1970-01-01T01:37:08.473774\", \"1970-01-01T01:37:08.473774\", \"1970-01-01T02:26:11.298365\", \"1970-01-01T02:26:11.298365\", \"1970-01-01T02:41:54.122956\", \"1970-01-01T02:41:54.122956\", \"1970-01-01T02:41:54.122956\", \"1970-01-01T03:30:56.947548\", \"1970-01-01T03:30:56.947548\", \"1970-01-01T03:46:39.772139\", \"1970-01-01T03:46:39.772139\", \"1970-01-01T03:46:39.772139\", \"1970-01-01T04:35:42.596730\", \"1970-01-01T04:35:42.596730\", \"1970-01-01T04:51:25.421321\", \"1970-01-01T04:51:25.421321\", \"1970-01-01T04:51:25.421321\", \"1970-01-01T05:40:28.245913\", \"1970-01-01T05:40:28.245913\", \"1970-01-01T05:56:11.070504\", \"1970-01-01T05:56:11.070504\", \"1970-01-01T05:56:11.070504\", \"1970-01-01T06:45:13.895095\", \"1970-01-01T06:45:13.895095\", \"1970-01-01T07:00:56.719687\", \"1970-01-01T07:00:56.719687\", \"1970-01-01T07:00:56.719687\", \"1970-01-01T07:49:59.544278\", \"1970-01-01T07:49:59.544278\", \"1970-01-01T08:05:42.368869\", \"1970-01-01T08:05:42.368869\", \"1970-01-01T08:05:42.368869\", \"1970-01-01T08:54:45.193460\", \"1970-01-01T08:54:45.193460\", \"1970-01-01T09:10:28.018052\", \"1970-01-01T09:10:28.018052\", \"1970-01-01T09:10:28.018052\", \"1970-01-01T09:59:30.842643\", \"1970-01-01T09:59:30.842643\", \"1970-01-01T10:15:13.667234\", \"1970-01-01T10:15:13.667234\", \"1970-01-01T10:15:13.667234\", \"1970-01-01T11:04:16.491825\", \"1970-01-01T11:04:16.491825\", \"1970-01-01T11:19:59.316417\", \"1970-01-01T11:19:59.316417\", \"1970-01-01T11:19:59.316417\", \"1970-01-01T12:09:02.141008\", \"1970-01-01T12:09:02.141008\", \"1970-01-01T12:24:44.965599\", \"1970-01-01T12:24:44.965599\", \"1970-01-01T12:24:44.965599\", \"1970-01-01T13:13:47.790191\", \"1970-01-01T13:13:47.790191\", \"1970-01-01T13:29:30.614782\", \"1970-01-01T13:29:30.614782\", \"1970-01-01T13:29:30.614782\"], \"y\": [\"sailing full\", \"sailing full\", \"sailing full\", \"sailing full\", null, \"sailing full\", \"sailing full\", \"sailing full\", \"sailing full\", null, \"sailing full\", \"sailing full\", \"sailing full\", \"sailing full\", null, \"sailing full\", \"sailing full\", \"sailing full\", \"sailing full\", null, \"sailing full\", \"sailing full\", \"sailing full\", \"sailing full\", null, \"sailing full\", \"sailing full\", \"sailing full\", \"sailing full\", null, \"sailing full\", \"sailing full\", \"sailing full\", \"sailing full\", null, \"sailing full\", \"sailing full\", \"sailing full\", \"sailing full\", null, \"sailing full\", \"sailing full\", \"sailing full\", \"sailing full\", null, \"sailing full\", \"sailing full\", \"sailing full\", \"sailing full\", null, \"sailing full\", \"sailing full\", \"sailing full\", \"sailing full\", null, \"sailing full\", \"sailing full\", \"sailing full\", \"sailing full\", null, \"sailing full\", \"sailing full\", \"sailing full\", \"sailing full\", null]}, {\"connectgaps\": false, \"hoverinfo\": \"y+name\", \"line\": {\"color\": \"rgb(66,31,236)\", \"width\": 10}, \"mode\": \"lines\", \"name\": \"unloading\", \"type\": \"scatter\", \"x\": [\"1970-01-01T00:32:22.824591\", \"1970-01-01T00:32:22.824591\", \"1970-01-01T00:49:02.824591\", \"1970-01-01T00:49:02.824591\", \"1970-01-01T00:49:02.824591\", \"1970-01-01T01:37:08.473774\", \"1970-01-01T01:37:08.473774\", \"1970-01-01T01:53:48.473774\", \"1970-01-01T01:53:48.473774\", \"1970-01-01T01:53:48.473774\", \"1970-01-01T02:41:54.122956\", \"1970-01-01T02:41:54.122956\", \"1970-01-01T02:58:34.122956\", \"1970-01-01T02:58:34.122956\", \"1970-01-01T02:58:34.122956\", \"1970-01-01T03:46:39.772139\", \"1970-01-01T03:46:39.772139\", \"1970-01-01T04:03:19.772139\", \"1970-01-01T04:03:19.772139\", \"1970-01-01T04:03:19.772139\", \"1970-01-01T04:51:25.421321\", \"1970-01-01T04:51:25.421321\", \"1970-01-01T05:08:05.421321\", \"1970-01-01T05:08:05.421321\", \"1970-01-01T05:08:05.421321\", \"1970-01-01T05:56:11.070504\", \"1970-01-01T05:56:11.070504\", \"1970-01-01T06:12:51.070504\", \"1970-01-01T06:12:51.070504\", \"1970-01-01T06:12:51.070504\", \"1970-01-01T07:00:56.719687\", \"1970-01-01T07:00:56.719687\", \"1970-01-01T07:17:36.719687\", \"1970-01-01T07:17:36.719687\", \"1970-01-01T07:17:36.719687\", \"1970-01-01T08:05:42.368869\", \"1970-01-01T08:05:42.368869\", \"1970-01-01T08:22:22.368869\", \"1970-01-01T08:22:22.368869\", \"1970-01-01T08:22:22.368869\", \"1970-01-01T09:10:28.018052\", \"1970-01-01T09:10:28.018052\", \"1970-01-01T09:27:08.018052\", \"1970-01-01T09:27:08.018052\", \"1970-01-01T09:27:08.018052\", \"1970-01-01T10:15:13.667234\", \"1970-01-01T10:15:13.667234\", \"1970-01-01T10:31:53.667234\", \"1970-01-01T10:31:53.667234\", \"1970-01-01T10:31:53.667234\", \"1970-01-01T11:19:59.316417\", \"1970-01-01T11:19:59.316417\", \"1970-01-01T11:36:39.316417\", \"1970-01-01T11:36:39.316417\", \"1970-01-01T11:36:39.316417\", \"1970-01-01T12:24:44.965599\", \"1970-01-01T12:24:44.965599\", \"1970-01-01T12:41:24.965599\", \"1970-01-01T12:41:24.965599\", \"1970-01-01T12:41:24.965599\", \"1970-01-01T13:29:30.614782\", \"1970-01-01T13:29:30.614782\", \"1970-01-01T13:46:10.614782\", \"1970-01-01T13:46:10.614782\", \"1970-01-01T13:46:10.614782\"], \"y\": [\"unloading\", \"unloading\", \"unloading\", \"unloading\", null, \"unloading\", \"unloading\", \"unloading\", \"unloading\", null, \"unloading\", \"unloading\", \"unloading\", \"unloading\", null, \"unloading\", \"unloading\", \"unloading\", \"unloading\", null, \"unloading\", \"unloading\", \"unloading\", \"unloading\", null, \"unloading\", \"unloading\", \"unloading\", \"unloading\", null, \"unloading\", \"unloading\", \"unloading\", \"unloading\", null, \"unloading\", \"unloading\", \"unloading\", \"unloading\", null, \"unloading\", \"unloading\", \"unloading\", \"unloading\", null, \"unloading\", \"unloading\", \"unloading\", \"unloading\", null, \"unloading\", \"unloading\", \"unloading\", \"unloading\", null, \"unloading\", \"unloading\", \"unloading\", \"unloading\", null, \"unloading\", \"unloading\", \"unloading\", \"unloading\", null]}, {\"connectgaps\": false, \"hoverinfo\": \"y+name\", \"line\": {\"color\": \"rgb(102,67,16)\", \"width\": 10}, \"mode\": \"lines\", \"name\": \"basic activity\", \"type\": \"scatter\", \"x\": [\"1970-01-01T00:49:02.824591\", \"1970-01-01T00:49:02.824591\", \"1970-01-01T00:49:02.824591\", \"1970-01-01T00:49:02.824591\", \"1970-01-01T00:49:02.824591\", \"1970-01-01T01:53:48.473774\", \"1970-01-01T01:53:48.473774\", \"1970-01-01T01:53:48.473774\", \"1970-01-01T01:53:48.473774\", \"1970-01-01T01:53:48.473774\", \"1970-01-01T02:58:34.122956\", \"1970-01-01T02:58:34.122956\", \"1970-01-01T02:58:34.122956\", \"1970-01-01T02:58:34.122956\", \"1970-01-01T02:58:34.122956\", \"1970-01-01T04:03:19.772139\", \"1970-01-01T04:03:19.772139\", \"1970-01-01T04:03:19.772139\", \"1970-01-01T04:03:19.772139\", \"1970-01-01T04:03:19.772139\", \"1970-01-01T05:08:05.421321\", \"1970-01-01T05:08:05.421321\", \"1970-01-01T05:08:05.421321\", \"1970-01-01T05:08:05.421321\", \"1970-01-01T05:08:05.421321\", \"1970-01-01T06:12:51.070504\", \"1970-01-01T06:12:51.070504\", \"1970-01-01T06:12:51.070504\", \"1970-01-01T06:12:51.070504\", \"1970-01-01T06:12:51.070504\", \"1970-01-01T07:17:36.719687\", \"1970-01-01T07:17:36.719687\", \"1970-01-01T07:17:36.719687\", \"1970-01-01T07:17:36.719687\", \"1970-01-01T07:17:36.719687\", \"1970-01-01T08:22:22.368869\", \"1970-01-01T08:22:22.368869\", \"1970-01-01T08:22:22.368869\", \"1970-01-01T08:22:22.368869\", \"1970-01-01T08:22:22.368869\", \"1970-01-01T09:27:08.018052\", \"1970-01-01T09:27:08.018052\", \"1970-01-01T09:27:08.018052\", \"1970-01-01T09:27:08.018052\", \"1970-01-01T09:27:08.018052\", \"1970-01-01T10:31:53.667234\", \"1970-01-01T10:31:53.667234\", \"1970-01-01T10:31:53.667234\", \"1970-01-01T10:31:53.667234\", \"1970-01-01T10:31:53.667234\", \"1970-01-01T11:36:39.316417\", \"1970-01-01T11:36:39.316417\", \"1970-01-01T11:36:39.316417\", \"1970-01-01T11:36:39.316417\", \"1970-01-01T11:36:39.316417\", \"1970-01-01T12:41:24.965599\", \"1970-01-01T12:41:24.965599\", \"1970-01-01T12:41:24.965599\", \"1970-01-01T12:41:24.965599\", \"1970-01-01T12:41:24.965599\", \"1970-01-01T13:46:10.614782\", \"1970-01-01T13:46:10.614782\", \"1970-01-01T13:46:10.614782\", \"1970-01-01T13:46:10.614782\", \"1970-01-01T13:46:10.614782\"], \"y\": [\"basic activity\", \"basic activity\", \"basic activity\", \"basic activity\", null, \"basic activity\", \"basic activity\", \"basic activity\", \"basic activity\", null, \"basic activity\", \"basic activity\", \"basic activity\", \"basic activity\", null, \"basic activity\", \"basic activity\", \"basic activity\", \"basic activity\", null, \"basic activity\", \"basic activity\", \"basic activity\", \"basic activity\", null, \"basic activity\", \"basic activity\", \"basic activity\", \"basic activity\", null, \"basic activity\", \"basic activity\", \"basic activity\", \"basic activity\", null, \"basic activity\", \"basic activity\", \"basic activity\", \"basic activity\", null, \"basic activity\", \"basic activity\", \"basic activity\", \"basic activity\", null, \"basic activity\", \"basic activity\", \"basic activity\", \"basic activity\", null, \"basic activity\", \"basic activity\", \"basic activity\", \"basic activity\", null, \"basic activity\", \"basic activity\", \"basic activity\", \"basic activity\", null, \"basic activity\", \"basic activity\", \"basic activity\", \"basic activity\", null]}, {\"connectgaps\": false, \"hoverinfo\": \"y+name\", \"line\": {\"color\": \"rgb(138,103,52)\", \"width\": 10}, \"mode\": \"lines\", \"name\": \"While sequential activity subcycle\", \"type\": \"scatter\", \"x\": [\"1970-01-01T00:00:00\", \"1970-01-01T00:00:00\", \"1970-01-01T00:00:00\", \"1970-01-01T00:00:00\", \"1970-01-01T00:00:00\", \"1970-01-01T00:00:00\", \"1970-01-01T00:00:00\", \"1970-01-01T00:16:40\", \"1970-01-01T00:16:40\", \"1970-01-01T00:16:40\", \"1970-01-01T00:16:40\", \"1970-01-01T00:16:40\", \"1970-01-01T00:32:22.824591\", \"1970-01-01T00:32:22.824591\", \"1970-01-01T00:32:22.824591\", \"1970-01-01T00:32:22.824591\", \"1970-01-01T00:32:22.824591\", \"1970-01-01T00:49:02.824591\", \"1970-01-01T00:49:02.824591\", \"1970-01-01T00:49:02.824591\", \"1970-01-01T00:49:02.824591\", \"1970-01-01T00:49:02.824591\", \"1970-01-01T00:49:02.824591\", \"1970-01-01T00:49:02.824591\", \"1970-01-01T00:49:02.824591\", \"1970-01-01T00:49:02.824591\", \"1970-01-01T00:49:02.824591\", \"1970-01-01T00:49:02.824591\", \"1970-01-01T00:49:02.824591\", \"1970-01-01T00:49:02.824591\", \"1970-01-01T00:49:02.824591\", \"1970-01-01T00:49:02.824591\", \"1970-01-01T01:04:45.649183\", \"1970-01-01T01:04:45.649183\", \"1970-01-01T01:04:45.649183\", \"1970-01-01T01:04:45.649183\", \"1970-01-01T01:04:45.649183\", \"1970-01-01T01:21:25.649183\", \"1970-01-01T01:21:25.649183\", \"1970-01-01T01:21:25.649183\", \"1970-01-01T01:21:25.649183\", \"1970-01-01T01:21:25.649183\", \"1970-01-01T01:37:08.473774\", \"1970-01-01T01:37:08.473774\", \"1970-01-01T01:37:08.473774\", \"1970-01-01T01:37:08.473774\", \"1970-01-01T01:37:08.473774\", \"1970-01-01T01:53:48.473774\", \"1970-01-01T01:53:48.473774\", \"1970-01-01T01:53:48.473774\", \"1970-01-01T01:53:48.473774\", \"1970-01-01T01:53:48.473774\", \"1970-01-01T01:53:48.473774\", \"1970-01-01T01:53:48.473774\", \"1970-01-01T01:53:48.473774\", \"1970-01-01T01:53:48.473774\", \"1970-01-01T01:53:48.473774\", \"1970-01-01T01:53:48.473774\", \"1970-01-01T01:53:48.473774\", \"1970-01-01T01:53:48.473774\", \"1970-01-01T01:53:48.473774\", \"1970-01-01T01:53:48.473774\", \"1970-01-01T02:09:31.298365\", \"1970-01-01T02:09:31.298365\", \"1970-01-01T02:09:31.298365\", \"1970-01-01T02:09:31.298365\", \"1970-01-01T02:09:31.298365\", \"1970-01-01T02:26:11.298365\", \"1970-01-01T02:26:11.298365\", \"1970-01-01T02:26:11.298365\", \"1970-01-01T02:26:11.298365\", \"1970-01-01T02:26:11.298365\", \"1970-01-01T02:41:54.122956\", \"1970-01-01T02:41:54.122956\", \"1970-01-01T02:41:54.122956\", \"1970-01-01T02:41:54.122956\", \"1970-01-01T02:41:54.122956\", \"1970-01-01T02:58:34.122956\", \"1970-01-01T02:58:34.122956\", \"1970-01-01T02:58:34.122956\", \"1970-01-01T02:58:34.122956\", \"1970-01-01T02:58:34.122956\", \"1970-01-01T02:58:34.122956\", \"1970-01-01T02:58:34.122956\", \"1970-01-01T02:58:34.122956\", \"1970-01-01T02:58:34.122956\", \"1970-01-01T02:58:34.122956\", \"1970-01-01T02:58:34.122956\", \"1970-01-01T02:58:34.122956\", \"1970-01-01T02:58:34.122956\", \"1970-01-01T02:58:34.122956\", \"1970-01-01T02:58:34.122956\", \"1970-01-01T03:14:16.947548\", \"1970-01-01T03:14:16.947548\", \"1970-01-01T03:14:16.947548\", \"1970-01-01T03:14:16.947548\", \"1970-01-01T03:14:16.947548\", \"1970-01-01T03:30:56.947548\", \"1970-01-01T03:30:56.947548\", \"1970-01-01T03:30:56.947548\", \"1970-01-01T03:30:56.947548\", \"1970-01-01T03:30:56.947548\", \"1970-01-01T03:46:39.772139\", \"1970-01-01T03:46:39.772139\", \"1970-01-01T03:46:39.772139\", \"1970-01-01T03:46:39.772139\", \"1970-01-01T03:46:39.772139\", \"1970-01-01T04:03:19.772139\", \"1970-01-01T04:03:19.772139\", \"1970-01-01T04:03:19.772139\", \"1970-01-01T04:03:19.772139\", \"1970-01-01T04:03:19.772139\", \"1970-01-01T04:03:19.772139\", \"1970-01-01T04:03:19.772139\", \"1970-01-01T04:03:19.772139\", \"1970-01-01T04:03:19.772139\", \"1970-01-01T04:03:19.772139\", \"1970-01-01T04:03:19.772139\", \"1970-01-01T04:03:19.772139\", \"1970-01-01T04:03:19.772139\", \"1970-01-01T04:03:19.772139\", \"1970-01-01T04:03:19.772139\", \"1970-01-01T04:19:02.596730\", \"1970-01-01T04:19:02.596730\", \"1970-01-01T04:19:02.596730\", \"1970-01-01T04:19:02.596730\", \"1970-01-01T04:19:02.596730\", \"1970-01-01T04:35:42.596730\", \"1970-01-01T04:35:42.596730\", \"1970-01-01T04:35:42.596730\", \"1970-01-01T04:35:42.596730\", \"1970-01-01T04:35:42.596730\", \"1970-01-01T04:51:25.421321\", \"1970-01-01T04:51:25.421321\", \"1970-01-01T04:51:25.421321\", \"1970-01-01T04:51:25.421321\", \"1970-01-01T04:51:25.421321\", \"1970-01-01T05:08:05.421321\", \"1970-01-01T05:08:05.421321\", \"1970-01-01T05:08:05.421321\", \"1970-01-01T05:08:05.421321\", \"1970-01-01T05:08:05.421321\", \"1970-01-01T05:08:05.421321\", \"1970-01-01T05:08:05.421321\", \"1970-01-01T05:08:05.421321\", \"1970-01-01T05:08:05.421321\", \"1970-01-01T05:08:05.421321\", \"1970-01-01T05:08:05.421321\", \"1970-01-01T05:08:05.421321\", \"1970-01-01T05:08:05.421321\", \"1970-01-01T05:08:05.421321\", \"1970-01-01T05:08:05.421321\", \"1970-01-01T05:23:48.245913\", \"1970-01-01T05:23:48.245913\", \"1970-01-01T05:23:48.245913\", \"1970-01-01T05:23:48.245913\", \"1970-01-01T05:23:48.245913\", \"1970-01-01T05:40:28.245913\", \"1970-01-01T05:40:28.245913\", \"1970-01-01T05:40:28.245913\", \"1970-01-01T05:40:28.245913\", \"1970-01-01T05:40:28.245913\", \"1970-01-01T05:56:11.070504\", \"1970-01-01T05:56:11.070504\", \"1970-01-01T05:56:11.070504\", \"1970-01-01T05:56:11.070504\", \"1970-01-01T05:56:11.070504\", \"1970-01-01T06:12:51.070504\", \"1970-01-01T06:12:51.070504\", \"1970-01-01T06:12:51.070504\", \"1970-01-01T06:12:51.070504\", \"1970-01-01T06:12:51.070504\", \"1970-01-01T06:12:51.070504\", \"1970-01-01T06:12:51.070504\", \"1970-01-01T06:12:51.070504\", \"1970-01-01T06:12:51.070504\", \"1970-01-01T06:12:51.070504\", \"1970-01-01T06:12:51.070504\", \"1970-01-01T06:12:51.070504\", \"1970-01-01T06:12:51.070504\", \"1970-01-01T06:12:51.070504\", \"1970-01-01T06:12:51.070504\", \"1970-01-01T06:28:33.895095\", \"1970-01-01T06:28:33.895095\", \"1970-01-01T06:28:33.895095\", \"1970-01-01T06:28:33.895095\", \"1970-01-01T06:28:33.895095\", \"1970-01-01T06:45:13.895095\", \"1970-01-01T06:45:13.895095\", \"1970-01-01T06:45:13.895095\", \"1970-01-01T06:45:13.895095\", \"1970-01-01T06:45:13.895095\", \"1970-01-01T07:00:56.719687\", \"1970-01-01T07:00:56.719687\", \"1970-01-01T07:00:56.719687\", \"1970-01-01T07:00:56.719687\", \"1970-01-01T07:00:56.719687\", \"1970-01-01T07:17:36.719687\", \"1970-01-01T07:17:36.719687\", \"1970-01-01T07:17:36.719687\", \"1970-01-01T07:17:36.719687\", \"1970-01-01T07:17:36.719687\", \"1970-01-01T07:17:36.719687\", \"1970-01-01T07:17:36.719687\", \"1970-01-01T07:17:36.719687\", \"1970-01-01T07:17:36.719687\", \"1970-01-01T07:17:36.719687\", \"1970-01-01T07:17:36.719687\", \"1970-01-01T07:17:36.719687\", \"1970-01-01T07:17:36.719687\", \"1970-01-01T07:17:36.719687\", \"1970-01-01T07:17:36.719687\", \"1970-01-01T07:33:19.544278\", \"1970-01-01T07:33:19.544278\", \"1970-01-01T07:33:19.544278\", \"1970-01-01T07:33:19.544278\", \"1970-01-01T07:33:19.544278\", \"1970-01-01T07:49:59.544278\", \"1970-01-01T07:49:59.544278\", \"1970-01-01T07:49:59.544278\", \"1970-01-01T07:49:59.544278\", \"1970-01-01T07:49:59.544278\", \"1970-01-01T08:05:42.368869\", \"1970-01-01T08:05:42.368869\", \"1970-01-01T08:05:42.368869\", \"1970-01-01T08:05:42.368869\", \"1970-01-01T08:05:42.368869\", \"1970-01-01T08:22:22.368869\", \"1970-01-01T08:22:22.368869\", \"1970-01-01T08:22:22.368869\", \"1970-01-01T08:22:22.368869\", \"1970-01-01T08:22:22.368869\", \"1970-01-01T08:22:22.368869\", \"1970-01-01T08:22:22.368869\", \"1970-01-01T08:22:22.368869\", \"1970-01-01T08:22:22.368869\", \"1970-01-01T08:22:22.368869\", \"1970-01-01T08:22:22.368869\", \"1970-01-01T08:22:22.368869\", \"1970-01-01T08:22:22.368869\", \"1970-01-01T08:22:22.368869\", \"1970-01-01T08:22:22.368869\", \"1970-01-01T08:38:05.193460\", \"1970-01-01T08:38:05.193460\", \"1970-01-01T08:38:05.193460\", \"1970-01-01T08:38:05.193460\", \"1970-01-01T08:38:05.193460\", \"1970-01-01T08:54:45.193460\", \"1970-01-01T08:54:45.193460\", \"1970-01-01T08:54:45.193460\", \"1970-01-01T08:54:45.193460\", \"1970-01-01T08:54:45.193460\", \"1970-01-01T09:10:28.018052\", \"1970-01-01T09:10:28.018052\", \"1970-01-01T09:10:28.018052\", \"1970-01-01T09:10:28.018052\", \"1970-01-01T09:10:28.018052\", \"1970-01-01T09:27:08.018052\", \"1970-01-01T09:27:08.018052\", \"1970-01-01T09:27:08.018052\", \"1970-01-01T09:27:08.018052\", \"1970-01-01T09:27:08.018052\", \"1970-01-01T09:27:08.018052\", \"1970-01-01T09:27:08.018052\", \"1970-01-01T09:27:08.018052\", \"1970-01-01T09:27:08.018052\", \"1970-01-01T09:27:08.018052\", \"1970-01-01T09:27:08.018052\", \"1970-01-01T09:27:08.018052\", \"1970-01-01T09:27:08.018052\", \"1970-01-01T09:27:08.018052\", \"1970-01-01T09:27:08.018052\", \"1970-01-01T09:42:50.842643\", \"1970-01-01T09:42:50.842643\", \"1970-01-01T09:42:50.842643\", \"1970-01-01T09:42:50.842643\", \"1970-01-01T09:42:50.842643\", \"1970-01-01T09:59:30.842643\", \"1970-01-01T09:59:30.842643\", \"1970-01-01T09:59:30.842643\", \"1970-01-01T09:59:30.842643\", \"1970-01-01T09:59:30.842643\", \"1970-01-01T10:15:13.667234\", \"1970-01-01T10:15:13.667234\", \"1970-01-01T10:15:13.667234\", \"1970-01-01T10:15:13.667234\", \"1970-01-01T10:15:13.667234\", \"1970-01-01T10:31:53.667234\", \"1970-01-01T10:31:53.667234\", \"1970-01-01T10:31:53.667234\", \"1970-01-01T10:31:53.667234\", \"1970-01-01T10:31:53.667234\", \"1970-01-01T10:31:53.667234\", \"1970-01-01T10:31:53.667234\", \"1970-01-01T10:31:53.667234\", \"1970-01-01T10:31:53.667234\", \"1970-01-01T10:31:53.667234\", \"1970-01-01T10:31:53.667234\", \"1970-01-01T10:31:53.667234\", \"1970-01-01T10:31:53.667234\", \"1970-01-01T10:31:53.667234\", \"1970-01-01T10:31:53.667234\", \"1970-01-01T10:47:36.491825\", \"1970-01-01T10:47:36.491825\", \"1970-01-01T10:47:36.491825\", \"1970-01-01T10:47:36.491825\", \"1970-01-01T10:47:36.491825\", \"1970-01-01T11:04:16.491825\", \"1970-01-01T11:04:16.491825\", \"1970-01-01T11:04:16.491825\", \"1970-01-01T11:04:16.491825\", \"1970-01-01T11:04:16.491825\", \"1970-01-01T11:19:59.316417\", \"1970-01-01T11:19:59.316417\", \"1970-01-01T11:19:59.316417\", \"1970-01-01T11:19:59.316417\", \"1970-01-01T11:19:59.316417\", \"1970-01-01T11:36:39.316417\", \"1970-01-01T11:36:39.316417\", \"1970-01-01T11:36:39.316417\", \"1970-01-01T11:36:39.316417\", \"1970-01-01T11:36:39.316417\", \"1970-01-01T11:36:39.316417\", \"1970-01-01T11:36:39.316417\", \"1970-01-01T11:36:39.316417\", \"1970-01-01T11:36:39.316417\", \"1970-01-01T11:36:39.316417\", \"1970-01-01T11:36:39.316417\", \"1970-01-01T11:36:39.316417\", \"1970-01-01T11:36:39.316417\", \"1970-01-01T11:36:39.316417\", \"1970-01-01T11:36:39.316417\", \"1970-01-01T11:52:22.141008\", \"1970-01-01T11:52:22.141008\", \"1970-01-01T11:52:22.141008\", \"1970-01-01T11:52:22.141008\", \"1970-01-01T11:52:22.141008\", \"1970-01-01T12:09:02.141008\", \"1970-01-01T12:09:02.141008\", \"1970-01-01T12:09:02.141008\", \"1970-01-01T12:09:02.141008\", \"1970-01-01T12:09:02.141008\", \"1970-01-01T12:24:44.965599\", \"1970-01-01T12:24:44.965599\", \"1970-01-01T12:24:44.965599\", \"1970-01-01T12:24:44.965599\", \"1970-01-01T12:24:44.965599\", \"1970-01-01T12:41:24.965599\", \"1970-01-01T12:41:24.965599\", \"1970-01-01T12:41:24.965599\", \"1970-01-01T12:41:24.965599\", \"1970-01-01T12:41:24.965599\", \"1970-01-01T12:41:24.965599\", \"1970-01-01T12:41:24.965599\", \"1970-01-01T12:41:24.965599\", \"1970-01-01T12:41:24.965599\", \"1970-01-01T12:41:24.965599\", \"1970-01-01T12:41:24.965599\", \"1970-01-01T12:41:24.965599\", \"1970-01-01T12:41:24.965599\", \"1970-01-01T12:41:24.965599\", \"1970-01-01T12:41:24.965599\", \"1970-01-01T12:57:07.790191\", \"1970-01-01T12:57:07.790191\", \"1970-01-01T12:57:07.790191\", \"1970-01-01T12:57:07.790191\", \"1970-01-01T12:57:07.790191\", \"1970-01-01T13:13:47.790191\", \"1970-01-01T13:13:47.790191\", \"1970-01-01T13:13:47.790191\", \"1970-01-01T13:13:47.790191\", \"1970-01-01T13:13:47.790191\", \"1970-01-01T13:29:30.614782\", \"1970-01-01T13:29:30.614782\", \"1970-01-01T13:29:30.614782\", \"1970-01-01T13:29:30.614782\", \"1970-01-01T13:29:30.614782\", \"1970-01-01T13:46:10.614782\", \"1970-01-01T13:46:10.614782\", \"1970-01-01T13:46:10.614782\", \"1970-01-01T13:46:10.614782\", \"1970-01-01T13:46:10.614782\", \"1970-01-01T13:46:10.614782\", \"1970-01-01T13:46:10.614782\", \"1970-01-01T13:46:10.614782\", \"1970-01-01T13:46:10.614782\", \"1970-01-01T13:46:10.614782\", \"1970-01-01T13:46:10.614782\", \"1970-01-01T13:46:10.614782\", \"1970-01-01T13:46:10.614782\"], \"y\": [\"While sequential activity subcycle\", \"While sequential activity subcycle\", \"While sequential activity subcycle\", \"While sequential activity subcycle\", null, \"While sequential activity subcycle\", \"While sequential activity subcycle\", \"While sequential activity subcycle\", \"While sequential activity subcycle\", null, \"While sequential activity subcycle\", \"While sequential activity subcycle\", \"While sequential activity subcycle\", \"While sequential activity subcycle\", null, \"While sequential activity subcycle\", \"While sequential activity subcycle\", \"While sequential activity subcycle\", \"While sequential activity subcycle\", null, \"While sequential activity subcycle\", \"While sequential activity subcycle\", \"While sequential activity subcycle\", \"While sequential activity subcycle\", null, \"While sequential activity subcycle\", \"While sequential activity subcycle\", \"While sequential activity subcycle\", \"While sequential activity subcycle\", null, \"While sequential activity subcycle\", \"While sequential activity subcycle\", \"While sequential activity subcycle\", \"While sequential activity subcycle\", null, \"While sequential activity subcycle\", \"While sequential activity subcycle\", \"While sequential activity subcycle\", \"While sequential activity subcycle\", null, \"While sequential activity subcycle\", \"While sequential activity subcycle\", \"While sequential activity subcycle\", \"While sequential activity subcycle\", null, \"While sequential activity subcycle\", \"While sequential activity subcycle\", \"While sequential activity subcycle\", \"While sequential activity subcycle\", null, \"While sequential activity subcycle\", \"While sequential activity subcycle\", \"While sequential activity subcycle\", \"While sequential activity subcycle\", null, \"While sequential activity subcycle\", \"While sequential activity subcycle\", \"While sequential activity subcycle\", \"While sequential activity subcycle\", null, \"While sequential activity subcycle\", \"While sequential activity subcycle\", \"While sequential activity subcycle\", \"While sequential activity subcycle\", null, \"While sequential activity subcycle\", \"While sequential activity subcycle\", \"While sequential activity subcycle\", \"While sequential activity subcycle\", null, \"While sequential activity subcycle\", \"While sequential activity subcycle\", \"While sequential activity subcycle\", \"While sequential activity subcycle\", null, \"While sequential activity subcycle\", \"While sequential activity subcycle\", \"While sequential activity subcycle\", \"While sequential activity subcycle\", null, \"While sequential activity subcycle\", \"While sequential activity subcycle\", \"While sequential activity subcycle\", \"While sequential activity subcycle\", null, \"While sequential activity subcycle\", \"While sequential activity subcycle\", \"While sequential activity subcycle\", \"While sequential activity subcycle\", null, \"While sequential activity subcycle\", \"While sequential activity subcycle\", \"While sequential activity subcycle\", \"While sequential activity subcycle\", null, \"While sequential activity subcycle\", \"While sequential activity subcycle\", \"While sequential activity subcycle\", \"While sequential activity subcycle\", null, \"While sequential activity subcycle\", \"While sequential activity subcycle\", \"While sequential activity subcycle\", \"While sequential activity subcycle\", null, \"While sequential activity subcycle\", \"While sequential activity subcycle\", \"While sequential activity subcycle\", \"While sequential activity subcycle\", null, \"While sequential activity subcycle\", \"While sequential activity subcycle\", \"While sequential activity subcycle\", \"While sequential activity subcycle\", null, \"While sequential activity subcycle\", \"While sequential activity subcycle\", \"While sequential activity subcycle\", \"While sequential activity subcycle\", null, \"While sequential activity subcycle\", \"While sequential activity subcycle\", \"While sequential activity subcycle\", \"While sequential activity subcycle\", null, \"While sequential activity subcycle\", \"While sequential activity subcycle\", \"While sequential activity subcycle\", \"While sequential activity subcycle\", null, \"While sequential activity subcycle\", \"While sequential activity subcycle\", \"While sequential activity subcycle\", \"While sequential activity subcycle\", null, \"While sequential activity subcycle\", \"While sequential activity subcycle\", \"While sequential activity subcycle\", \"While sequential activity subcycle\", null, \"While sequential activity subcycle\", \"While sequential activity subcycle\", \"While sequential activity subcycle\", \"While sequential activity subcycle\", null, \"While sequential activity subcycle\", \"While sequential activity subcycle\", \"While sequential activity subcycle\", \"While sequential activity subcycle\", null, \"While sequential activity subcycle\", \"While sequential activity subcycle\", \"While sequential activity subcycle\", \"While sequential activity subcycle\", null, \"While sequential activity subcycle\", \"While sequential activity subcycle\", \"While sequential activity subcycle\", \"While sequential activity subcycle\", null, \"While sequential activity subcycle\", \"While sequential activity subcycle\", \"While sequential activity subcycle\", \"While sequential activity subcycle\", null, \"While sequential activity subcycle\", \"While sequential activity subcycle\", \"While sequential activity subcycle\", \"While sequential activity subcycle\", null, \"While sequential activity subcycle\", \"While sequential activity subcycle\", \"While sequential activity subcycle\", \"While sequential activity subcycle\", null, \"While sequential activity subcycle\", \"While sequential activity subcycle\", \"While sequential activity subcycle\", \"While sequential activity subcycle\", null, \"While sequential activity subcycle\", \"While sequential activity subcycle\", \"While sequential activity subcycle\", \"While sequential activity subcycle\", null, \"While sequential activity subcycle\", \"While sequential activity subcycle\", \"While sequential activity subcycle\", \"While sequential activity subcycle\", null, \"While sequential activity subcycle\", \"While sequential activity subcycle\", \"While sequential activity subcycle\", \"While sequential activity subcycle\", null, \"While sequential activity subcycle\", \"While sequential activity subcycle\", \"While sequential activity subcycle\", \"While sequential activity subcycle\", null, \"While sequential activity subcycle\", \"While sequential activity subcycle\", \"While sequential activity subcycle\", \"While sequential activity subcycle\", null, \"While sequential activity subcycle\", \"While sequential activity subcycle\", \"While sequential activity subcycle\", \"While sequential activity subcycle\", null, \"While sequential activity subcycle\", \"While sequential activity subcycle\", \"While sequential activity subcycle\", \"While sequential activity subcycle\", null, \"While sequential activity subcycle\", \"While sequential activity subcycle\", \"While sequential activity subcycle\", \"While sequential activity subcycle\", null, \"While sequential activity subcycle\", \"While sequential activity subcycle\", \"While sequential activity subcycle\", \"While sequential activity subcycle\", null, \"While sequential activity subcycle\", \"While sequential activity subcycle\", \"While sequential activity subcycle\", \"While sequential activity subcycle\", null, \"While sequential activity subcycle\", \"While sequential activity subcycle\", \"While sequential activity subcycle\", \"While sequential activity subcycle\", null, \"While sequential activity subcycle\", \"While sequential activity subcycle\", \"While sequential activity subcycle\", \"While sequential activity subcycle\", null, \"While sequential activity subcycle\", \"While sequential activity subcycle\", \"While sequential activity subcycle\", \"While sequential activity subcycle\", null, \"While sequential activity subcycle\", \"While sequential activity subcycle\", \"While sequential activity subcycle\", \"While sequential activity subcycle\", null, \"While sequential activity subcycle\", \"While sequential activity subcycle\", \"While sequential activity subcycle\", \"While sequential activity subcycle\", null, \"While sequential activity subcycle\", \"While sequential activity subcycle\", \"While sequential activity subcycle\", \"While sequential activity subcycle\", null, \"While sequential activity subcycle\", \"While sequential activity subcycle\", \"While sequential activity subcycle\", \"While sequential activity subcycle\", null, \"While sequential activity subcycle\", \"While sequential activity subcycle\", \"While sequential activity subcycle\", \"While sequential activity subcycle\", null, \"While sequential activity subcycle\", \"While sequential activity subcycle\", \"While sequential activity subcycle\", \"While sequential activity subcycle\", null, \"While sequential activity subcycle\", \"While sequential activity subcycle\", \"While sequential activity subcycle\", \"While sequential activity subcycle\", null, \"While sequential activity subcycle\", \"While sequential activity subcycle\", \"While sequential activity subcycle\", \"While sequential activity subcycle\", null, \"While sequential activity subcycle\", \"While sequential activity subcycle\", \"While sequential activity subcycle\", \"While sequential activity subcycle\", null, \"While sequential activity subcycle\", \"While sequential activity subcycle\", \"While sequential activity subcycle\", \"While sequential activity subcycle\", null, \"While sequential activity subcycle\", \"While sequential activity subcycle\", \"While sequential activity subcycle\", \"While sequential activity subcycle\", null, \"While sequential activity subcycle\", \"While sequential activity subcycle\", \"While sequential activity subcycle\", \"While sequential activity subcycle\", null, \"While sequential activity subcycle\", \"While sequential activity subcycle\", \"While sequential activity subcycle\", \"While sequential activity subcycle\", null, \"While sequential activity subcycle\", \"While sequential activity subcycle\", \"While sequential activity subcycle\", \"While sequential activity subcycle\", null, \"While sequential activity subcycle\", \"While sequential activity subcycle\", \"While sequential activity subcycle\", \"While sequential activity subcycle\", null, \"While sequential activity subcycle\", \"While sequential activity subcycle\", \"While sequential activity subcycle\", \"While sequential activity subcycle\", null, \"While sequential activity subcycle\", \"While sequential activity subcycle\", \"While sequential activity subcycle\", \"While sequential activity subcycle\", null, \"While sequential activity subcycle\", \"While sequential activity subcycle\", \"While sequential activity subcycle\", \"While sequential activity subcycle\", null, \"While sequential activity subcycle\", \"While sequential activity subcycle\", \"While sequential activity subcycle\", \"While sequential activity subcycle\", null, \"While sequential activity subcycle\", \"While sequential activity subcycle\", \"While sequential activity subcycle\", \"While sequential activity subcycle\", null, \"While sequential activity subcycle\", \"While sequential activity subcycle\", \"While sequential activity subcycle\", \"While sequential activity subcycle\", null, \"While sequential activity subcycle\", \"While sequential activity subcycle\", \"While sequential activity subcycle\", \"While sequential activity subcycle\", null, \"While sequential activity subcycle\", \"While sequential activity subcycle\", \"While sequential activity subcycle\", \"While sequential activity subcycle\", null, \"While sequential activity subcycle\", \"While sequential activity subcycle\", \"While sequential activity subcycle\", \"While sequential activity subcycle\", null, \"While sequential activity subcycle\", \"While sequential activity subcycle\", \"While sequential activity subcycle\", \"While sequential activity subcycle\", null, \"While sequential activity subcycle\", \"While sequential activity subcycle\", \"While sequential activity subcycle\", \"While sequential activity subcycle\", null, \"While sequential activity subcycle\", \"While sequential activity subcycle\", \"While sequential activity subcycle\", \"While sequential activity subcycle\", null, \"While sequential activity subcycle\", \"While sequential activity subcycle\", \"While sequential activity subcycle\", \"While sequential activity subcycle\", null, \"While sequential activity subcycle\", \"While sequential activity subcycle\", \"While sequential activity subcycle\", \"While sequential activity subcycle\", null]}],                        {\"hovermode\": \"closest\", \"legend\": {\"orientation\": \"h\", \"x\": 0, \"y\": -0.2}, \"template\": {\"data\": {\"bar\": [{\"error_x\": {\"color\": \"#2a3f5f\"}, \"error_y\": {\"color\": \"#2a3f5f\"}, \"marker\": {\"line\": {\"color\": \"#E5ECF6\", \"width\": 0.5}}, \"type\": \"bar\"}], \"barpolar\": [{\"marker\": {\"line\": {\"color\": \"#E5ECF6\", \"width\": 0.5}}, \"type\": \"barpolar\"}], \"carpet\": [{\"aaxis\": {\"endlinecolor\": \"#2a3f5f\", \"gridcolor\": \"white\", \"linecolor\": \"white\", \"minorgridcolor\": \"white\", \"startlinecolor\": \"#2a3f5f\"}, \"baxis\": {\"endlinecolor\": \"#2a3f5f\", \"gridcolor\": \"white\", \"linecolor\": \"white\", \"minorgridcolor\": \"white\", \"startlinecolor\": \"#2a3f5f\"}, \"type\": \"carpet\"}], \"choropleth\": [{\"colorbar\": {\"outlinewidth\": 0, \"ticks\": \"\"}, \"type\": \"choropleth\"}], \"contour\": [{\"colorbar\": {\"outlinewidth\": 0, \"ticks\": \"\"}, \"colorscale\": [[0.0, \"#0d0887\"], [0.1111111111111111, \"#46039f\"], [0.2222222222222222, \"#7201a8\"], [0.3333333333333333, \"#9c179e\"], [0.4444444444444444, \"#bd3786\"], [0.5555555555555556, \"#d8576b\"], [0.6666666666666666, \"#ed7953\"], [0.7777777777777778, \"#fb9f3a\"], [0.8888888888888888, \"#fdca26\"], [1.0, \"#f0f921\"]], \"type\": \"contour\"}], \"contourcarpet\": [{\"colorbar\": {\"outlinewidth\": 0, \"ticks\": \"\"}, \"type\": \"contourcarpet\"}], \"heatmap\": [{\"colorbar\": {\"outlinewidth\": 0, \"ticks\": \"\"}, \"colorscale\": [[0.0, \"#0d0887\"], [0.1111111111111111, \"#46039f\"], [0.2222222222222222, \"#7201a8\"], [0.3333333333333333, \"#9c179e\"], [0.4444444444444444, \"#bd3786\"], [0.5555555555555556, \"#d8576b\"], [0.6666666666666666, \"#ed7953\"], [0.7777777777777778, \"#fb9f3a\"], [0.8888888888888888, \"#fdca26\"], [1.0, \"#f0f921\"]], \"type\": \"heatmap\"}], \"heatmapgl\": [{\"colorbar\": {\"outlinewidth\": 0, \"ticks\": \"\"}, \"colorscale\": [[0.0, \"#0d0887\"], [0.1111111111111111, \"#46039f\"], [0.2222222222222222, \"#7201a8\"], [0.3333333333333333, \"#9c179e\"], [0.4444444444444444, \"#bd3786\"], [0.5555555555555556, \"#d8576b\"], [0.6666666666666666, \"#ed7953\"], [0.7777777777777778, \"#fb9f3a\"], [0.8888888888888888, \"#fdca26\"], [1.0, \"#f0f921\"]], \"type\": \"heatmapgl\"}], \"histogram\": [{\"marker\": {\"colorbar\": {\"outlinewidth\": 0, \"ticks\": \"\"}}, \"type\": \"histogram\"}], \"histogram2d\": [{\"colorbar\": {\"outlinewidth\": 0, \"ticks\": \"\"}, \"colorscale\": [[0.0, \"#0d0887\"], [0.1111111111111111, \"#46039f\"], [0.2222222222222222, \"#7201a8\"], [0.3333333333333333, \"#9c179e\"], [0.4444444444444444, \"#bd3786\"], [0.5555555555555556, \"#d8576b\"], [0.6666666666666666, \"#ed7953\"], [0.7777777777777778, \"#fb9f3a\"], [0.8888888888888888, \"#fdca26\"], [1.0, \"#f0f921\"]], \"type\": \"histogram2d\"}], \"histogram2dcontour\": [{\"colorbar\": {\"outlinewidth\": 0, \"ticks\": \"\"}, \"colorscale\": [[0.0, \"#0d0887\"], [0.1111111111111111, \"#46039f\"], [0.2222222222222222, \"#7201a8\"], [0.3333333333333333, \"#9c179e\"], [0.4444444444444444, \"#bd3786\"], [0.5555555555555556, \"#d8576b\"], [0.6666666666666666, \"#ed7953\"], [0.7777777777777778, \"#fb9f3a\"], [0.8888888888888888, \"#fdca26\"], [1.0, \"#f0f921\"]], \"type\": \"histogram2dcontour\"}], \"mesh3d\": [{\"colorbar\": {\"outlinewidth\": 0, \"ticks\": \"\"}, \"type\": \"mesh3d\"}], \"parcoords\": [{\"line\": {\"colorbar\": {\"outlinewidth\": 0, \"ticks\": \"\"}}, \"type\": \"parcoords\"}], \"pie\": [{\"automargin\": true, \"type\": \"pie\"}], \"scatter\": [{\"marker\": {\"colorbar\": {\"outlinewidth\": 0, \"ticks\": \"\"}}, \"type\": \"scatter\"}], \"scatter3d\": [{\"line\": {\"colorbar\": {\"outlinewidth\": 0, \"ticks\": \"\"}}, \"marker\": {\"colorbar\": {\"outlinewidth\": 0, \"ticks\": \"\"}}, \"type\": \"scatter3d\"}], \"scattercarpet\": [{\"marker\": {\"colorbar\": {\"outlinewidth\": 0, \"ticks\": \"\"}}, \"type\": \"scattercarpet\"}], \"scattergeo\": [{\"marker\": {\"colorbar\": {\"outlinewidth\": 0, \"ticks\": \"\"}}, \"type\": \"scattergeo\"}], \"scattergl\": [{\"marker\": {\"colorbar\": {\"outlinewidth\": 0, \"ticks\": \"\"}}, \"type\": \"scattergl\"}], \"scattermapbox\": [{\"marker\": {\"colorbar\": {\"outlinewidth\": 0, \"ticks\": \"\"}}, \"type\": \"scattermapbox\"}], \"scatterpolar\": [{\"marker\": {\"colorbar\": {\"outlinewidth\": 0, \"ticks\": \"\"}}, \"type\": \"scatterpolar\"}], \"scatterpolargl\": [{\"marker\": {\"colorbar\": {\"outlinewidth\": 0, \"ticks\": \"\"}}, \"type\": \"scatterpolargl\"}], \"scatterternary\": [{\"marker\": {\"colorbar\": {\"outlinewidth\": 0, \"ticks\": \"\"}}, \"type\": \"scatterternary\"}], \"surface\": [{\"colorbar\": {\"outlinewidth\": 0, \"ticks\": \"\"}, \"colorscale\": [[0.0, \"#0d0887\"], [0.1111111111111111, \"#46039f\"], [0.2222222222222222, \"#7201a8\"], [0.3333333333333333, \"#9c179e\"], [0.4444444444444444, \"#bd3786\"], [0.5555555555555556, \"#d8576b\"], [0.6666666666666666, \"#ed7953\"], [0.7777777777777778, \"#fb9f3a\"], [0.8888888888888888, \"#fdca26\"], [1.0, \"#f0f921\"]], \"type\": \"surface\"}], \"table\": [{\"cells\": {\"fill\": {\"color\": \"#EBF0F8\"}, \"line\": {\"color\": \"white\"}}, \"header\": {\"fill\": {\"color\": \"#C8D4E3\"}, \"line\": {\"color\": \"white\"}}, \"type\": \"table\"}]}, \"layout\": {\"annotationdefaults\": {\"arrowcolor\": \"#2a3f5f\", \"arrowhead\": 0, \"arrowwidth\": 1}, \"coloraxis\": {\"colorbar\": {\"outlinewidth\": 0, \"ticks\": \"\"}}, \"colorscale\": {\"diverging\": [[0, \"#8e0152\"], [0.1, \"#c51b7d\"], [0.2, \"#de77ae\"], [0.3, \"#f1b6da\"], [0.4, \"#fde0ef\"], [0.5, \"#f7f7f7\"], [0.6, \"#e6f5d0\"], [0.7, \"#b8e186\"], [0.8, \"#7fbc41\"], [0.9, \"#4d9221\"], [1, \"#276419\"]], \"sequential\": [[0.0, \"#0d0887\"], [0.1111111111111111, \"#46039f\"], [0.2222222222222222, \"#7201a8\"], [0.3333333333333333, \"#9c179e\"], [0.4444444444444444, \"#bd3786\"], [0.5555555555555556, \"#d8576b\"], [0.6666666666666666, \"#ed7953\"], [0.7777777777777778, \"#fb9f3a\"], [0.8888888888888888, \"#fdca26\"], [1.0, \"#f0f921\"]], \"sequentialminus\": [[0.0, \"#0d0887\"], [0.1111111111111111, \"#46039f\"], [0.2222222222222222, \"#7201a8\"], [0.3333333333333333, \"#9c179e\"], [0.4444444444444444, \"#bd3786\"], [0.5555555555555556, \"#d8576b\"], [0.6666666666666666, \"#ed7953\"], [0.7777777777777778, \"#fb9f3a\"], [0.8888888888888888, \"#fdca26\"], [1.0, \"#f0f921\"]]}, \"colorway\": [\"#636efa\", \"#EF553B\", \"#00cc96\", \"#ab63fa\", \"#FFA15A\", \"#19d3f3\", \"#FF6692\", \"#B6E880\", \"#FF97FF\", \"#FECB52\"], \"font\": {\"color\": \"#2a3f5f\"}, \"geo\": {\"bgcolor\": \"white\", \"lakecolor\": \"white\", \"landcolor\": \"#E5ECF6\", \"showlakes\": true, \"showland\": true, \"subunitcolor\": \"white\"}, \"hoverlabel\": {\"align\": \"left\"}, \"hovermode\": \"closest\", \"mapbox\": {\"style\": \"light\"}, \"paper_bgcolor\": \"white\", \"plot_bgcolor\": \"#E5ECF6\", \"polar\": {\"angularaxis\": {\"gridcolor\": \"white\", \"linecolor\": \"white\", \"ticks\": \"\"}, \"bgcolor\": \"#E5ECF6\", \"radialaxis\": {\"gridcolor\": \"white\", \"linecolor\": \"white\", \"ticks\": \"\"}}, \"scene\": {\"xaxis\": {\"backgroundcolor\": \"#E5ECF6\", \"gridcolor\": \"white\", \"gridwidth\": 2, \"linecolor\": \"white\", \"showbackground\": true, \"ticks\": \"\", \"zerolinecolor\": \"white\"}, \"yaxis\": {\"backgroundcolor\": \"#E5ECF6\", \"gridcolor\": \"white\", \"gridwidth\": 2, \"linecolor\": \"white\", \"showbackground\": true, \"ticks\": \"\", \"zerolinecolor\": \"white\"}, \"zaxis\": {\"backgroundcolor\": \"#E5ECF6\", \"gridcolor\": \"white\", \"gridwidth\": 2, \"linecolor\": \"white\", \"showbackground\": true, \"ticks\": \"\", \"zerolinecolor\": \"white\"}}, \"shapedefaults\": {\"line\": {\"color\": \"#2a3f5f\"}}, \"ternary\": {\"aaxis\": {\"gridcolor\": \"white\", \"linecolor\": \"white\", \"ticks\": \"\"}, \"baxis\": {\"gridcolor\": \"white\", \"linecolor\": \"white\", \"ticks\": \"\"}, \"bgcolor\": \"#E5ECF6\", \"caxis\": {\"gridcolor\": \"white\", \"linecolor\": \"white\", \"ticks\": \"\"}}, \"title\": {\"x\": 0.05}, \"xaxis\": {\"automargin\": true, \"gridcolor\": \"white\", \"linecolor\": \"white\", \"ticks\": \"\", \"title\": {\"standoff\": 15}, \"zerolinecolor\": \"white\", \"zerolinewidth\": 2}, \"yaxis\": {\"automargin\": true, \"gridcolor\": \"white\", \"linecolor\": \"white\", \"ticks\": \"\", \"title\": {\"standoff\": 15}, \"zerolinecolor\": \"white\", \"zerolinewidth\": 2}}}, \"title\": {\"text\": \"Vessel planning\"}, \"xaxis\": {\"range\": [\"1970-01-01T00:00:00\", \"1970-01-01T13:46:10.614782\"], \"title\": {\"font\": {\"color\": \"#7f7f7f\", \"family\": \"Courier New, monospace\", \"size\": 18}, \"text\": \"Time\"}}, \"yaxis\": {\"title\": {\"font\": {\"color\": \"#7f7f7f\", \"family\": \"Courier New, monospace\", \"size\": 18}, \"text\": \"Vessels\"}}},                        {\"responsive\": true}                    ).then(function(){\n",
       "                            \n",
       "var gd = document.getElementById('610c6f31-aa30-4647-8d8e-73d08eb4a6cb');\n",
       "var x = new MutationObserver(function (mutations, observer) {{\n",
       "        var display = window.getComputedStyle(gd).display;\n",
       "        if (!display || display === 'none') {{\n",
       "            console.log([gd, 'removed!']);\n",
       "            Plotly.purge(gd);\n",
       "            observer.disconnect();\n",
       "        }}\n",
       "}});\n",
       "\n",
       "// Listen for the removal of the full notebook cells\n",
       "var notebookContainer = gd.closest('#notebook-container');\n",
       "if (notebookContainer) {{\n",
       "    x.observe(notebookContainer, {childList: true});\n",
       "}}\n",
       "\n",
       "// Listen for the clearing of the current output cell\n",
       "var outputEl = gd.closest('.output');\n",
       "if (outputEl) {{\n",
       "    x.observe(outputEl, {childList: true});\n",
       "}}\n",
       "\n",
       "                        })                };                });            </script>        </div>"
      ]
     },
     "metadata": {},
     "output_type": "display_data"
    }
   ],
   "source": [
    "plot.vessel_planning([while_activity, *sub_processes, sequential_activity])"
   ]
  },
  {
   "cell_type": "code",
   "execution_count": 11,
   "metadata": {},
   "outputs": [
    {
     "data": {
      "text/html": [
       "        <script type=\"text/javascript\">\n",
       "        window.PlotlyConfig = {MathJaxConfig: 'local'};\n",
       "        if (window.MathJax) {MathJax.Hub.Config({SVG: {font: \"STIX-Web\"}});}\n",
       "        if (typeof require !== 'undefined') {\n",
       "        require.undef(\"plotly\");\n",
       "        requirejs.config({\n",
       "            paths: {\n",
       "                'plotly': ['https://cdn.plot.ly/plotly-latest.min']\n",
       "            }\n",
       "        });\n",
       "        require(['plotly'], function(Plotly) {\n",
       "            window._Plotly = Plotly;\n",
       "        });\n",
       "        }\n",
       "        </script>\n",
       "        "
      ]
     },
     "metadata": {},
     "output_type": "display_data"
    },
    {
     "data": {
      "application/vnd.plotly.v1+json": {
       "config": {
        "linkText": "Export to plot.ly",
        "plotlyServerURL": "https://plot.ly",
        "showLink": false
       },
       "data": [
        {
         "connectgaps": false,
         "hoverinfo": "y+name",
         "line": {
          "color": "rgb(172,161,170)",
          "width": 10
         },
         "mode": "lines",
         "name": "91985ff3-457e-4e0f-b70f-ded9106b34a2",
         "type": "scatter",
         "x": [
          "1970-01-01T00:00:00",
          "1970-01-01T00:00:00",
          "1970-01-01T00:00:00",
          "1970-01-01T00:00:00",
          "1970-01-01T00:00:00",
          "1970-01-01T00:49:02.824591",
          "1970-01-01T00:49:02.824591",
          "1970-01-01T01:04:45.649183",
          "1970-01-01T01:04:45.649183",
          "1970-01-01T01:04:45.649183",
          "1970-01-01T01:53:48.473774",
          "1970-01-01T01:53:48.473774",
          "1970-01-01T02:09:31.298365",
          "1970-01-01T02:09:31.298365",
          "1970-01-01T02:09:31.298365",
          "1970-01-01T02:58:34.122956",
          "1970-01-01T02:58:34.122956",
          "1970-01-01T03:14:16.947548",
          "1970-01-01T03:14:16.947548",
          "1970-01-01T03:14:16.947548",
          "1970-01-01T04:03:19.772139",
          "1970-01-01T04:03:19.772139",
          "1970-01-01T04:19:02.596730",
          "1970-01-01T04:19:02.596730",
          "1970-01-01T04:19:02.596730",
          "1970-01-01T05:08:05.421321",
          "1970-01-01T05:08:05.421321",
          "1970-01-01T05:23:48.245913",
          "1970-01-01T05:23:48.245913",
          "1970-01-01T05:23:48.245913",
          "1970-01-01T06:12:51.070504",
          "1970-01-01T06:12:51.070504",
          "1970-01-01T06:28:33.895095",
          "1970-01-01T06:28:33.895095",
          "1970-01-01T06:28:33.895095",
          "1970-01-01T07:17:36.719687",
          "1970-01-01T07:17:36.719687",
          "1970-01-01T07:33:19.544278",
          "1970-01-01T07:33:19.544278",
          "1970-01-01T07:33:19.544278",
          "1970-01-01T08:22:22.368869",
          "1970-01-01T08:22:22.368869",
          "1970-01-01T08:38:05.193460",
          "1970-01-01T08:38:05.193460",
          "1970-01-01T08:38:05.193460",
          "1970-01-01T09:27:08.018052",
          "1970-01-01T09:27:08.018052",
          "1970-01-01T09:42:50.842643",
          "1970-01-01T09:42:50.842643",
          "1970-01-01T09:42:50.842643",
          "1970-01-01T10:31:53.667234",
          "1970-01-01T10:31:53.667234",
          "1970-01-01T10:47:36.491825",
          "1970-01-01T10:47:36.491825",
          "1970-01-01T10:47:36.491825",
          "1970-01-01T11:36:39.316417",
          "1970-01-01T11:36:39.316417",
          "1970-01-01T11:52:22.141008",
          "1970-01-01T11:52:22.141008",
          "1970-01-01T11:52:22.141008",
          "1970-01-01T12:41:24.965599",
          "1970-01-01T12:41:24.965599",
          "1970-01-01T12:57:07.790191",
          "1970-01-01T12:57:07.790191",
          "1970-01-01T12:57:07.790191"
         ],
         "y": [
          "vessel01",
          "vessel01",
          "vessel01",
          "vessel01",
          null,
          "vessel01",
          "vessel01",
          "vessel01",
          "vessel01",
          null,
          "vessel01",
          "vessel01",
          "vessel01",
          "vessel01",
          null,
          "vessel01",
          "vessel01",
          "vessel01",
          "vessel01",
          null,
          "vessel01",
          "vessel01",
          "vessel01",
          "vessel01",
          null,
          "vessel01",
          "vessel01",
          "vessel01",
          "vessel01",
          null,
          "vessel01",
          "vessel01",
          "vessel01",
          "vessel01",
          null,
          "vessel01",
          "vessel01",
          "vessel01",
          "vessel01",
          null,
          "vessel01",
          "vessel01",
          "vessel01",
          "vessel01",
          null,
          "vessel01",
          "vessel01",
          "vessel01",
          "vessel01",
          null,
          "vessel01",
          "vessel01",
          "vessel01",
          "vessel01",
          null,
          "vessel01",
          "vessel01",
          "vessel01",
          "vessel01",
          null,
          "vessel01",
          "vessel01",
          "vessel01",
          "vessel01",
          null
         ]
        },
        {
         "connectgaps": false,
         "hoverinfo": "y+name",
         "line": {
          "color": "rgb(208,197,206)",
          "width": 10
         },
         "mode": "lines",
         "name": "6df6fa10-9cd3-4c4a-9b5c-5a72ab1881be",
         "type": "scatter",
         "x": [
          "1970-01-01T00:49:02.824591",
          "1970-01-01T00:49:02.824591",
          "1970-01-01T00:49:02.824591",
          "1970-01-01T00:49:02.824591",
          "1970-01-01T00:49:02.824591",
          "1970-01-01T01:53:48.473774",
          "1970-01-01T01:53:48.473774",
          "1970-01-01T01:53:48.473774",
          "1970-01-01T01:53:48.473774",
          "1970-01-01T01:53:48.473774",
          "1970-01-01T02:58:34.122956",
          "1970-01-01T02:58:34.122956",
          "1970-01-01T02:58:34.122956",
          "1970-01-01T02:58:34.122956",
          "1970-01-01T02:58:34.122956",
          "1970-01-01T04:03:19.772139",
          "1970-01-01T04:03:19.772139",
          "1970-01-01T04:03:19.772139",
          "1970-01-01T04:03:19.772139",
          "1970-01-01T04:03:19.772139",
          "1970-01-01T05:08:05.421321",
          "1970-01-01T05:08:05.421321",
          "1970-01-01T05:08:05.421321",
          "1970-01-01T05:08:05.421321",
          "1970-01-01T05:08:05.421321",
          "1970-01-01T06:12:51.070504",
          "1970-01-01T06:12:51.070504",
          "1970-01-01T06:12:51.070504",
          "1970-01-01T06:12:51.070504",
          "1970-01-01T06:12:51.070504",
          "1970-01-01T07:17:36.719687",
          "1970-01-01T07:17:36.719687",
          "1970-01-01T07:17:36.719687",
          "1970-01-01T07:17:36.719687",
          "1970-01-01T07:17:36.719687",
          "1970-01-01T08:22:22.368869",
          "1970-01-01T08:22:22.368869",
          "1970-01-01T08:22:22.368869",
          "1970-01-01T08:22:22.368869",
          "1970-01-01T08:22:22.368869",
          "1970-01-01T09:27:08.018052",
          "1970-01-01T09:27:08.018052",
          "1970-01-01T09:27:08.018052",
          "1970-01-01T09:27:08.018052",
          "1970-01-01T09:27:08.018052",
          "1970-01-01T10:31:53.667234",
          "1970-01-01T10:31:53.667234",
          "1970-01-01T10:31:53.667234",
          "1970-01-01T10:31:53.667234",
          "1970-01-01T10:31:53.667234",
          "1970-01-01T11:36:39.316417",
          "1970-01-01T11:36:39.316417",
          "1970-01-01T11:36:39.316417",
          "1970-01-01T11:36:39.316417",
          "1970-01-01T11:36:39.316417",
          "1970-01-01T12:41:24.965599",
          "1970-01-01T12:41:24.965599",
          "1970-01-01T12:41:24.965599",
          "1970-01-01T12:41:24.965599",
          "1970-01-01T12:41:24.965599",
          "1970-01-01T13:46:10.614782",
          "1970-01-01T13:46:10.614782",
          "1970-01-01T13:46:10.614782",
          "1970-01-01T13:46:10.614782",
          "1970-01-01T13:46:10.614782"
         ],
         "y": [
          "vessel01",
          "vessel01",
          "vessel01",
          "vessel01",
          null,
          "vessel01",
          "vessel01",
          "vessel01",
          "vessel01",
          null,
          "vessel01",
          "vessel01",
          "vessel01",
          "vessel01",
          null,
          "vessel01",
          "vessel01",
          "vessel01",
          "vessel01",
          null,
          "vessel01",
          "vessel01",
          "vessel01",
          "vessel01",
          null,
          "vessel01",
          "vessel01",
          "vessel01",
          "vessel01",
          null,
          "vessel01",
          "vessel01",
          "vessel01",
          "vessel01",
          null,
          "vessel01",
          "vessel01",
          "vessel01",
          "vessel01",
          null,
          "vessel01",
          "vessel01",
          "vessel01",
          "vessel01",
          null,
          "vessel01",
          "vessel01",
          "vessel01",
          "vessel01",
          null,
          "vessel01",
          "vessel01",
          "vessel01",
          "vessel01",
          null,
          "vessel01",
          "vessel01",
          "vessel01",
          "vessel01",
          null,
          "vessel01",
          "vessel01",
          "vessel01",
          "vessel01",
          null
         ]
        },
        {
         "connectgaps": false,
         "hoverinfo": "y+name",
         "line": {
          "color": "rgb(244,233,242)",
          "width": 10
         },
         "mode": "lines",
         "name": "c752fb53-40c5-402a-87bd-5fab8fd5fd5b",
         "type": "scatter",
         "x": [
          "1970-01-01T00:00:00",
          "1970-01-01T00:00:00",
          "1970-01-01T00:16:40",
          "1970-01-01T00:16:40",
          "1970-01-01T00:16:40",
          "1970-01-01T01:04:45.649183",
          "1970-01-01T01:04:45.649183",
          "1970-01-01T01:21:25.649183",
          "1970-01-01T01:21:25.649183",
          "1970-01-01T01:21:25.649183",
          "1970-01-01T02:09:31.298365",
          "1970-01-01T02:09:31.298365",
          "1970-01-01T02:26:11.298365",
          "1970-01-01T02:26:11.298365",
          "1970-01-01T02:26:11.298365",
          "1970-01-01T03:14:16.947548",
          "1970-01-01T03:14:16.947548",
          "1970-01-01T03:30:56.947548",
          "1970-01-01T03:30:56.947548",
          "1970-01-01T03:30:56.947548",
          "1970-01-01T04:19:02.596730",
          "1970-01-01T04:19:02.596730",
          "1970-01-01T04:35:42.596730",
          "1970-01-01T04:35:42.596730",
          "1970-01-01T04:35:42.596730",
          "1970-01-01T05:23:48.245913",
          "1970-01-01T05:23:48.245913",
          "1970-01-01T05:40:28.245913",
          "1970-01-01T05:40:28.245913",
          "1970-01-01T05:40:28.245913",
          "1970-01-01T06:28:33.895095",
          "1970-01-01T06:28:33.895095",
          "1970-01-01T06:45:13.895095",
          "1970-01-01T06:45:13.895095",
          "1970-01-01T06:45:13.895095",
          "1970-01-01T07:33:19.544278",
          "1970-01-01T07:33:19.544278",
          "1970-01-01T07:49:59.544278",
          "1970-01-01T07:49:59.544278",
          "1970-01-01T07:49:59.544278",
          "1970-01-01T08:38:05.193460",
          "1970-01-01T08:38:05.193460",
          "1970-01-01T08:54:45.193460",
          "1970-01-01T08:54:45.193460",
          "1970-01-01T08:54:45.193460",
          "1970-01-01T09:42:50.842643",
          "1970-01-01T09:42:50.842643",
          "1970-01-01T09:59:30.842643",
          "1970-01-01T09:59:30.842643",
          "1970-01-01T09:59:30.842643",
          "1970-01-01T10:47:36.491825",
          "1970-01-01T10:47:36.491825",
          "1970-01-01T11:04:16.491825",
          "1970-01-01T11:04:16.491825",
          "1970-01-01T11:04:16.491825",
          "1970-01-01T11:52:22.141008",
          "1970-01-01T11:52:22.141008",
          "1970-01-01T12:09:02.141008",
          "1970-01-01T12:09:02.141008",
          "1970-01-01T12:09:02.141008",
          "1970-01-01T12:57:07.790191",
          "1970-01-01T12:57:07.790191",
          "1970-01-01T13:13:47.790191",
          "1970-01-01T13:13:47.790191",
          "1970-01-01T13:13:47.790191",
          "1970-01-01T00:00:00",
          "1970-01-01T00:00:00",
          "1970-01-01T00:16:40",
          "1970-01-01T00:16:40",
          "1970-01-01T00:16:40",
          "1970-01-01T01:04:45.649183",
          "1970-01-01T01:04:45.649183",
          "1970-01-01T01:21:25.649183",
          "1970-01-01T01:21:25.649183",
          "1970-01-01T01:21:25.649183",
          "1970-01-01T02:09:31.298365",
          "1970-01-01T02:09:31.298365",
          "1970-01-01T02:26:11.298365",
          "1970-01-01T02:26:11.298365",
          "1970-01-01T02:26:11.298365",
          "1970-01-01T03:14:16.947548",
          "1970-01-01T03:14:16.947548",
          "1970-01-01T03:30:56.947548",
          "1970-01-01T03:30:56.947548",
          "1970-01-01T03:30:56.947548",
          "1970-01-01T04:19:02.596730",
          "1970-01-01T04:19:02.596730",
          "1970-01-01T04:35:42.596730",
          "1970-01-01T04:35:42.596730",
          "1970-01-01T04:35:42.596730",
          "1970-01-01T05:23:48.245913",
          "1970-01-01T05:23:48.245913",
          "1970-01-01T05:40:28.245913",
          "1970-01-01T05:40:28.245913",
          "1970-01-01T05:40:28.245913",
          "1970-01-01T06:28:33.895095",
          "1970-01-01T06:28:33.895095",
          "1970-01-01T06:45:13.895095",
          "1970-01-01T06:45:13.895095",
          "1970-01-01T06:45:13.895095",
          "1970-01-01T07:33:19.544278",
          "1970-01-01T07:33:19.544278",
          "1970-01-01T07:49:59.544278",
          "1970-01-01T07:49:59.544278",
          "1970-01-01T07:49:59.544278",
          "1970-01-01T08:38:05.193460",
          "1970-01-01T08:38:05.193460",
          "1970-01-01T08:54:45.193460",
          "1970-01-01T08:54:45.193460",
          "1970-01-01T08:54:45.193460",
          "1970-01-01T09:42:50.842643",
          "1970-01-01T09:42:50.842643",
          "1970-01-01T09:59:30.842643",
          "1970-01-01T09:59:30.842643",
          "1970-01-01T09:59:30.842643",
          "1970-01-01T10:47:36.491825",
          "1970-01-01T10:47:36.491825",
          "1970-01-01T11:04:16.491825",
          "1970-01-01T11:04:16.491825",
          "1970-01-01T11:04:16.491825",
          "1970-01-01T11:52:22.141008",
          "1970-01-01T11:52:22.141008",
          "1970-01-01T12:09:02.141008",
          "1970-01-01T12:09:02.141008",
          "1970-01-01T12:09:02.141008",
          "1970-01-01T12:57:07.790191",
          "1970-01-01T12:57:07.790191",
          "1970-01-01T13:13:47.790191",
          "1970-01-01T13:13:47.790191",
          "1970-01-01T13:13:47.790191"
         ],
         "y": [
          "vessel01",
          "vessel01",
          "vessel01",
          "vessel01",
          null,
          "vessel01",
          "vessel01",
          "vessel01",
          "vessel01",
          null,
          "vessel01",
          "vessel01",
          "vessel01",
          "vessel01",
          null,
          "vessel01",
          "vessel01",
          "vessel01",
          "vessel01",
          null,
          "vessel01",
          "vessel01",
          "vessel01",
          "vessel01",
          null,
          "vessel01",
          "vessel01",
          "vessel01",
          "vessel01",
          null,
          "vessel01",
          "vessel01",
          "vessel01",
          "vessel01",
          null,
          "vessel01",
          "vessel01",
          "vessel01",
          "vessel01",
          null,
          "vessel01",
          "vessel01",
          "vessel01",
          "vessel01",
          null,
          "vessel01",
          "vessel01",
          "vessel01",
          "vessel01",
          null,
          "vessel01",
          "vessel01",
          "vessel01",
          "vessel01",
          null,
          "vessel01",
          "vessel01",
          "vessel01",
          "vessel01",
          null,
          "vessel01",
          "vessel01",
          "vessel01",
          "vessel01",
          null,
          "from_site",
          "from_site",
          "from_site",
          "from_site",
          null,
          "from_site",
          "from_site",
          "from_site",
          "from_site",
          null,
          "from_site",
          "from_site",
          "from_site",
          "from_site",
          null,
          "from_site",
          "from_site",
          "from_site",
          "from_site",
          null,
          "from_site",
          "from_site",
          "from_site",
          "from_site",
          null,
          "from_site",
          "from_site",
          "from_site",
          "from_site",
          null,
          "from_site",
          "from_site",
          "from_site",
          "from_site",
          null,
          "from_site",
          "from_site",
          "from_site",
          "from_site",
          null,
          "from_site",
          "from_site",
          "from_site",
          "from_site",
          null,
          "from_site",
          "from_site",
          "from_site",
          "from_site",
          null,
          "from_site",
          "from_site",
          "from_site",
          "from_site",
          null,
          "from_site",
          "from_site",
          "from_site",
          "from_site",
          null,
          "from_site",
          "from_site",
          "from_site",
          "from_site",
          null
         ]
        },
        {
         "connectgaps": false,
         "hoverinfo": "y+name",
         "line": {
          "color": "rgb(24,13,22)",
          "width": 10
         },
         "mode": "lines",
         "name": "e02c4c2d-4cdd-4185-984a-5c35b5b4566c",
         "type": "scatter",
         "x": [
          "1970-01-01T00:16:40",
          "1970-01-01T00:16:40",
          "1970-01-01T00:32:22.824591",
          "1970-01-01T00:32:22.824591",
          "1970-01-01T00:32:22.824591",
          "1970-01-01T01:21:25.649183",
          "1970-01-01T01:21:25.649183",
          "1970-01-01T01:37:08.473774",
          "1970-01-01T01:37:08.473774",
          "1970-01-01T01:37:08.473774",
          "1970-01-01T02:26:11.298365",
          "1970-01-01T02:26:11.298365",
          "1970-01-01T02:41:54.122956",
          "1970-01-01T02:41:54.122956",
          "1970-01-01T02:41:54.122956",
          "1970-01-01T03:30:56.947548",
          "1970-01-01T03:30:56.947548",
          "1970-01-01T03:46:39.772139",
          "1970-01-01T03:46:39.772139",
          "1970-01-01T03:46:39.772139",
          "1970-01-01T04:35:42.596730",
          "1970-01-01T04:35:42.596730",
          "1970-01-01T04:51:25.421321",
          "1970-01-01T04:51:25.421321",
          "1970-01-01T04:51:25.421321",
          "1970-01-01T05:40:28.245913",
          "1970-01-01T05:40:28.245913",
          "1970-01-01T05:56:11.070504",
          "1970-01-01T05:56:11.070504",
          "1970-01-01T05:56:11.070504",
          "1970-01-01T06:45:13.895095",
          "1970-01-01T06:45:13.895095",
          "1970-01-01T07:00:56.719687",
          "1970-01-01T07:00:56.719687",
          "1970-01-01T07:00:56.719687",
          "1970-01-01T07:49:59.544278",
          "1970-01-01T07:49:59.544278",
          "1970-01-01T08:05:42.368869",
          "1970-01-01T08:05:42.368869",
          "1970-01-01T08:05:42.368869",
          "1970-01-01T08:54:45.193460",
          "1970-01-01T08:54:45.193460",
          "1970-01-01T09:10:28.018052",
          "1970-01-01T09:10:28.018052",
          "1970-01-01T09:10:28.018052",
          "1970-01-01T09:59:30.842643",
          "1970-01-01T09:59:30.842643",
          "1970-01-01T10:15:13.667234",
          "1970-01-01T10:15:13.667234",
          "1970-01-01T10:15:13.667234",
          "1970-01-01T11:04:16.491825",
          "1970-01-01T11:04:16.491825",
          "1970-01-01T11:19:59.316417",
          "1970-01-01T11:19:59.316417",
          "1970-01-01T11:19:59.316417",
          "1970-01-01T12:09:02.141008",
          "1970-01-01T12:09:02.141008",
          "1970-01-01T12:24:44.965599",
          "1970-01-01T12:24:44.965599",
          "1970-01-01T12:24:44.965599",
          "1970-01-01T13:13:47.790191",
          "1970-01-01T13:13:47.790191",
          "1970-01-01T13:29:30.614782",
          "1970-01-01T13:29:30.614782",
          "1970-01-01T13:29:30.614782"
         ],
         "y": [
          "vessel01",
          "vessel01",
          "vessel01",
          "vessel01",
          null,
          "vessel01",
          "vessel01",
          "vessel01",
          "vessel01",
          null,
          "vessel01",
          "vessel01",
          "vessel01",
          "vessel01",
          null,
          "vessel01",
          "vessel01",
          "vessel01",
          "vessel01",
          null,
          "vessel01",
          "vessel01",
          "vessel01",
          "vessel01",
          null,
          "vessel01",
          "vessel01",
          "vessel01",
          "vessel01",
          null,
          "vessel01",
          "vessel01",
          "vessel01",
          "vessel01",
          null,
          "vessel01",
          "vessel01",
          "vessel01",
          "vessel01",
          null,
          "vessel01",
          "vessel01",
          "vessel01",
          "vessel01",
          null,
          "vessel01",
          "vessel01",
          "vessel01",
          "vessel01",
          null,
          "vessel01",
          "vessel01",
          "vessel01",
          "vessel01",
          null,
          "vessel01",
          "vessel01",
          "vessel01",
          "vessel01",
          null,
          "vessel01",
          "vessel01",
          "vessel01",
          "vessel01",
          null
         ]
        },
        {
         "connectgaps": false,
         "hoverinfo": "y+name",
         "line": {
          "color": "rgb(60,49,58)",
          "width": 10
         },
         "mode": "lines",
         "name": "51233e51-d0b1-4feb-8729-b0b4b9a93981",
         "type": "scatter",
         "x": [
          "1970-01-01T00:32:22.824591",
          "1970-01-01T00:32:22.824591",
          "1970-01-01T00:49:02.824591",
          "1970-01-01T00:49:02.824591",
          "1970-01-01T00:49:02.824591",
          "1970-01-01T01:37:08.473774",
          "1970-01-01T01:37:08.473774",
          "1970-01-01T01:53:48.473774",
          "1970-01-01T01:53:48.473774",
          "1970-01-01T01:53:48.473774",
          "1970-01-01T02:41:54.122956",
          "1970-01-01T02:41:54.122956",
          "1970-01-01T02:58:34.122956",
          "1970-01-01T02:58:34.122956",
          "1970-01-01T02:58:34.122956",
          "1970-01-01T03:46:39.772139",
          "1970-01-01T03:46:39.772139",
          "1970-01-01T04:03:19.772139",
          "1970-01-01T04:03:19.772139",
          "1970-01-01T04:03:19.772139",
          "1970-01-01T04:51:25.421321",
          "1970-01-01T04:51:25.421321",
          "1970-01-01T05:08:05.421321",
          "1970-01-01T05:08:05.421321",
          "1970-01-01T05:08:05.421321",
          "1970-01-01T05:56:11.070504",
          "1970-01-01T05:56:11.070504",
          "1970-01-01T06:12:51.070504",
          "1970-01-01T06:12:51.070504",
          "1970-01-01T06:12:51.070504",
          "1970-01-01T07:00:56.719687",
          "1970-01-01T07:00:56.719687",
          "1970-01-01T07:17:36.719687",
          "1970-01-01T07:17:36.719687",
          "1970-01-01T07:17:36.719687",
          "1970-01-01T08:05:42.368869",
          "1970-01-01T08:05:42.368869",
          "1970-01-01T08:22:22.368869",
          "1970-01-01T08:22:22.368869",
          "1970-01-01T08:22:22.368869",
          "1970-01-01T09:10:28.018052",
          "1970-01-01T09:10:28.018052",
          "1970-01-01T09:27:08.018052",
          "1970-01-01T09:27:08.018052",
          "1970-01-01T09:27:08.018052",
          "1970-01-01T10:15:13.667234",
          "1970-01-01T10:15:13.667234",
          "1970-01-01T10:31:53.667234",
          "1970-01-01T10:31:53.667234",
          "1970-01-01T10:31:53.667234",
          "1970-01-01T11:19:59.316417",
          "1970-01-01T11:19:59.316417",
          "1970-01-01T11:36:39.316417",
          "1970-01-01T11:36:39.316417",
          "1970-01-01T11:36:39.316417",
          "1970-01-01T12:24:44.965599",
          "1970-01-01T12:24:44.965599",
          "1970-01-01T12:41:24.965599",
          "1970-01-01T12:41:24.965599",
          "1970-01-01T12:41:24.965599",
          "1970-01-01T13:29:30.614782",
          "1970-01-01T13:29:30.614782",
          "1970-01-01T13:46:10.614782",
          "1970-01-01T13:46:10.614782",
          "1970-01-01T13:46:10.614782",
          "1970-01-01T00:32:22.824591",
          "1970-01-01T00:32:22.824591",
          "1970-01-01T00:49:02.824591",
          "1970-01-01T00:49:02.824591",
          "1970-01-01T00:49:02.824591",
          "1970-01-01T01:37:08.473774",
          "1970-01-01T01:37:08.473774",
          "1970-01-01T01:53:48.473774",
          "1970-01-01T01:53:48.473774",
          "1970-01-01T01:53:48.473774",
          "1970-01-01T02:41:54.122956",
          "1970-01-01T02:41:54.122956",
          "1970-01-01T02:58:34.122956",
          "1970-01-01T02:58:34.122956",
          "1970-01-01T02:58:34.122956",
          "1970-01-01T03:46:39.772139",
          "1970-01-01T03:46:39.772139",
          "1970-01-01T04:03:19.772139",
          "1970-01-01T04:03:19.772139",
          "1970-01-01T04:03:19.772139",
          "1970-01-01T04:51:25.421321",
          "1970-01-01T04:51:25.421321",
          "1970-01-01T05:08:05.421321",
          "1970-01-01T05:08:05.421321",
          "1970-01-01T05:08:05.421321",
          "1970-01-01T05:56:11.070504",
          "1970-01-01T05:56:11.070504",
          "1970-01-01T06:12:51.070504",
          "1970-01-01T06:12:51.070504",
          "1970-01-01T06:12:51.070504",
          "1970-01-01T07:00:56.719687",
          "1970-01-01T07:00:56.719687",
          "1970-01-01T07:17:36.719687",
          "1970-01-01T07:17:36.719687",
          "1970-01-01T07:17:36.719687",
          "1970-01-01T08:05:42.368869",
          "1970-01-01T08:05:42.368869",
          "1970-01-01T08:22:22.368869",
          "1970-01-01T08:22:22.368869",
          "1970-01-01T08:22:22.368869",
          "1970-01-01T09:10:28.018052",
          "1970-01-01T09:10:28.018052",
          "1970-01-01T09:27:08.018052",
          "1970-01-01T09:27:08.018052",
          "1970-01-01T09:27:08.018052",
          "1970-01-01T10:15:13.667234",
          "1970-01-01T10:15:13.667234",
          "1970-01-01T10:31:53.667234",
          "1970-01-01T10:31:53.667234",
          "1970-01-01T10:31:53.667234",
          "1970-01-01T11:19:59.316417",
          "1970-01-01T11:19:59.316417",
          "1970-01-01T11:36:39.316417",
          "1970-01-01T11:36:39.316417",
          "1970-01-01T11:36:39.316417",
          "1970-01-01T12:24:44.965599",
          "1970-01-01T12:24:44.965599",
          "1970-01-01T12:41:24.965599",
          "1970-01-01T12:41:24.965599",
          "1970-01-01T12:41:24.965599",
          "1970-01-01T13:29:30.614782",
          "1970-01-01T13:29:30.614782",
          "1970-01-01T13:46:10.614782",
          "1970-01-01T13:46:10.614782",
          "1970-01-01T13:46:10.614782"
         ],
         "y": [
          "vessel01",
          "vessel01",
          "vessel01",
          "vessel01",
          null,
          "vessel01",
          "vessel01",
          "vessel01",
          "vessel01",
          null,
          "vessel01",
          "vessel01",
          "vessel01",
          "vessel01",
          null,
          "vessel01",
          "vessel01",
          "vessel01",
          "vessel01",
          null,
          "vessel01",
          "vessel01",
          "vessel01",
          "vessel01",
          null,
          "vessel01",
          "vessel01",
          "vessel01",
          "vessel01",
          null,
          "vessel01",
          "vessel01",
          "vessel01",
          "vessel01",
          null,
          "vessel01",
          "vessel01",
          "vessel01",
          "vessel01",
          null,
          "vessel01",
          "vessel01",
          "vessel01",
          "vessel01",
          null,
          "vessel01",
          "vessel01",
          "vessel01",
          "vessel01",
          null,
          "vessel01",
          "vessel01",
          "vessel01",
          "vessel01",
          null,
          "vessel01",
          "vessel01",
          "vessel01",
          "vessel01",
          null,
          "vessel01",
          "vessel01",
          "vessel01",
          "vessel01",
          null,
          "to_site",
          "to_site",
          "to_site",
          "to_site",
          null,
          "to_site",
          "to_site",
          "to_site",
          "to_site",
          null,
          "to_site",
          "to_site",
          "to_site",
          "to_site",
          null,
          "to_site",
          "to_site",
          "to_site",
          "to_site",
          null,
          "to_site",
          "to_site",
          "to_site",
          "to_site",
          null,
          "to_site",
          "to_site",
          "to_site",
          "to_site",
          null,
          "to_site",
          "to_site",
          "to_site",
          "to_site",
          null,
          "to_site",
          "to_site",
          "to_site",
          "to_site",
          null,
          "to_site",
          "to_site",
          "to_site",
          "to_site",
          null,
          "to_site",
          "to_site",
          "to_site",
          "to_site",
          null,
          "to_site",
          "to_site",
          "to_site",
          "to_site",
          null,
          "to_site",
          "to_site",
          "to_site",
          "to_site",
          null,
          "to_site",
          "to_site",
          "to_site",
          "to_site",
          null
         ]
        },
        {
         "connectgaps": false,
         "hoverinfo": "y+name",
         "line": {
          "color": "rgb(96,85,94)",
          "width": 10
         },
         "mode": "lines",
         "name": "c752fb53-40c5-402a-87bd-5fab8fd5fd5b",
         "type": "scatter",
         "x": [
          "1970-01-01T00:00:00",
          "1970-01-01T00:00:00",
          "1970-01-01T00:16:40",
          "1970-01-01T00:16:40",
          "1970-01-01T00:16:40",
          "1970-01-01T01:04:45.649183",
          "1970-01-01T01:04:45.649183",
          "1970-01-01T01:21:25.649183",
          "1970-01-01T01:21:25.649183",
          "1970-01-01T01:21:25.649183",
          "1970-01-01T02:09:31.298365",
          "1970-01-01T02:09:31.298365",
          "1970-01-01T02:26:11.298365",
          "1970-01-01T02:26:11.298365",
          "1970-01-01T02:26:11.298365",
          "1970-01-01T03:14:16.947548",
          "1970-01-01T03:14:16.947548",
          "1970-01-01T03:30:56.947548",
          "1970-01-01T03:30:56.947548",
          "1970-01-01T03:30:56.947548",
          "1970-01-01T04:19:02.596730",
          "1970-01-01T04:19:02.596730",
          "1970-01-01T04:35:42.596730",
          "1970-01-01T04:35:42.596730",
          "1970-01-01T04:35:42.596730",
          "1970-01-01T05:23:48.245913",
          "1970-01-01T05:23:48.245913",
          "1970-01-01T05:40:28.245913",
          "1970-01-01T05:40:28.245913",
          "1970-01-01T05:40:28.245913",
          "1970-01-01T06:28:33.895095",
          "1970-01-01T06:28:33.895095",
          "1970-01-01T06:45:13.895095",
          "1970-01-01T06:45:13.895095",
          "1970-01-01T06:45:13.895095",
          "1970-01-01T07:33:19.544278",
          "1970-01-01T07:33:19.544278",
          "1970-01-01T07:49:59.544278",
          "1970-01-01T07:49:59.544278",
          "1970-01-01T07:49:59.544278",
          "1970-01-01T08:38:05.193460",
          "1970-01-01T08:38:05.193460",
          "1970-01-01T08:54:45.193460",
          "1970-01-01T08:54:45.193460",
          "1970-01-01T08:54:45.193460",
          "1970-01-01T09:42:50.842643",
          "1970-01-01T09:42:50.842643",
          "1970-01-01T09:59:30.842643",
          "1970-01-01T09:59:30.842643",
          "1970-01-01T09:59:30.842643",
          "1970-01-01T10:47:36.491825",
          "1970-01-01T10:47:36.491825",
          "1970-01-01T11:04:16.491825",
          "1970-01-01T11:04:16.491825",
          "1970-01-01T11:04:16.491825",
          "1970-01-01T11:52:22.141008",
          "1970-01-01T11:52:22.141008",
          "1970-01-01T12:09:02.141008",
          "1970-01-01T12:09:02.141008",
          "1970-01-01T12:09:02.141008",
          "1970-01-01T12:57:07.790191",
          "1970-01-01T12:57:07.790191",
          "1970-01-01T13:13:47.790191",
          "1970-01-01T13:13:47.790191",
          "1970-01-01T13:13:47.790191",
          "1970-01-01T00:00:00",
          "1970-01-01T00:00:00",
          "1970-01-01T00:16:40",
          "1970-01-01T00:16:40",
          "1970-01-01T00:16:40",
          "1970-01-01T01:04:45.649183",
          "1970-01-01T01:04:45.649183",
          "1970-01-01T01:21:25.649183",
          "1970-01-01T01:21:25.649183",
          "1970-01-01T01:21:25.649183",
          "1970-01-01T02:09:31.298365",
          "1970-01-01T02:09:31.298365",
          "1970-01-01T02:26:11.298365",
          "1970-01-01T02:26:11.298365",
          "1970-01-01T02:26:11.298365",
          "1970-01-01T03:14:16.947548",
          "1970-01-01T03:14:16.947548",
          "1970-01-01T03:30:56.947548",
          "1970-01-01T03:30:56.947548",
          "1970-01-01T03:30:56.947548",
          "1970-01-01T04:19:02.596730",
          "1970-01-01T04:19:02.596730",
          "1970-01-01T04:35:42.596730",
          "1970-01-01T04:35:42.596730",
          "1970-01-01T04:35:42.596730",
          "1970-01-01T05:23:48.245913",
          "1970-01-01T05:23:48.245913",
          "1970-01-01T05:40:28.245913",
          "1970-01-01T05:40:28.245913",
          "1970-01-01T05:40:28.245913",
          "1970-01-01T06:28:33.895095",
          "1970-01-01T06:28:33.895095",
          "1970-01-01T06:45:13.895095",
          "1970-01-01T06:45:13.895095",
          "1970-01-01T06:45:13.895095",
          "1970-01-01T07:33:19.544278",
          "1970-01-01T07:33:19.544278",
          "1970-01-01T07:49:59.544278",
          "1970-01-01T07:49:59.544278",
          "1970-01-01T07:49:59.544278",
          "1970-01-01T08:38:05.193460",
          "1970-01-01T08:38:05.193460",
          "1970-01-01T08:54:45.193460",
          "1970-01-01T08:54:45.193460",
          "1970-01-01T08:54:45.193460",
          "1970-01-01T09:42:50.842643",
          "1970-01-01T09:42:50.842643",
          "1970-01-01T09:59:30.842643",
          "1970-01-01T09:59:30.842643",
          "1970-01-01T09:59:30.842643",
          "1970-01-01T10:47:36.491825",
          "1970-01-01T10:47:36.491825",
          "1970-01-01T11:04:16.491825",
          "1970-01-01T11:04:16.491825",
          "1970-01-01T11:04:16.491825",
          "1970-01-01T11:52:22.141008",
          "1970-01-01T11:52:22.141008",
          "1970-01-01T12:09:02.141008",
          "1970-01-01T12:09:02.141008",
          "1970-01-01T12:09:02.141008",
          "1970-01-01T12:57:07.790191",
          "1970-01-01T12:57:07.790191",
          "1970-01-01T13:13:47.790191",
          "1970-01-01T13:13:47.790191",
          "1970-01-01T13:13:47.790191"
         ],
         "y": [
          "vessel01",
          "vessel01",
          "vessel01",
          "vessel01",
          null,
          "vessel01",
          "vessel01",
          "vessel01",
          "vessel01",
          null,
          "vessel01",
          "vessel01",
          "vessel01",
          "vessel01",
          null,
          "vessel01",
          "vessel01",
          "vessel01",
          "vessel01",
          null,
          "vessel01",
          "vessel01",
          "vessel01",
          "vessel01",
          null,
          "vessel01",
          "vessel01",
          "vessel01",
          "vessel01",
          null,
          "vessel01",
          "vessel01",
          "vessel01",
          "vessel01",
          null,
          "vessel01",
          "vessel01",
          "vessel01",
          "vessel01",
          null,
          "vessel01",
          "vessel01",
          "vessel01",
          "vessel01",
          null,
          "vessel01",
          "vessel01",
          "vessel01",
          "vessel01",
          null,
          "vessel01",
          "vessel01",
          "vessel01",
          "vessel01",
          null,
          "vessel01",
          "vessel01",
          "vessel01",
          "vessel01",
          null,
          "vessel01",
          "vessel01",
          "vessel01",
          "vessel01",
          null,
          "from_site",
          "from_site",
          "from_site",
          "from_site",
          null,
          "from_site",
          "from_site",
          "from_site",
          "from_site",
          null,
          "from_site",
          "from_site",
          "from_site",
          "from_site",
          null,
          "from_site",
          "from_site",
          "from_site",
          "from_site",
          null,
          "from_site",
          "from_site",
          "from_site",
          "from_site",
          null,
          "from_site",
          "from_site",
          "from_site",
          "from_site",
          null,
          "from_site",
          "from_site",
          "from_site",
          "from_site",
          null,
          "from_site",
          "from_site",
          "from_site",
          "from_site",
          null,
          "from_site",
          "from_site",
          "from_site",
          "from_site",
          null,
          "from_site",
          "from_site",
          "from_site",
          "from_site",
          null,
          "from_site",
          "from_site",
          "from_site",
          "from_site",
          null,
          "from_site",
          "from_site",
          "from_site",
          "from_site",
          null,
          "from_site",
          "from_site",
          "from_site",
          "from_site",
          null
         ]
        },
        {
         "connectgaps": false,
         "hoverinfo": "y+name",
         "line": {
          "color": "rgb(132,121,130)",
          "width": 10
         },
         "mode": "lines",
         "name": "51233e51-d0b1-4feb-8729-b0b4b9a93981",
         "type": "scatter",
         "x": [
          "1970-01-01T00:32:22.824591",
          "1970-01-01T00:32:22.824591",
          "1970-01-01T00:49:02.824591",
          "1970-01-01T00:49:02.824591",
          "1970-01-01T00:49:02.824591",
          "1970-01-01T01:37:08.473774",
          "1970-01-01T01:37:08.473774",
          "1970-01-01T01:53:48.473774",
          "1970-01-01T01:53:48.473774",
          "1970-01-01T01:53:48.473774",
          "1970-01-01T02:41:54.122956",
          "1970-01-01T02:41:54.122956",
          "1970-01-01T02:58:34.122956",
          "1970-01-01T02:58:34.122956",
          "1970-01-01T02:58:34.122956",
          "1970-01-01T03:46:39.772139",
          "1970-01-01T03:46:39.772139",
          "1970-01-01T04:03:19.772139",
          "1970-01-01T04:03:19.772139",
          "1970-01-01T04:03:19.772139",
          "1970-01-01T04:51:25.421321",
          "1970-01-01T04:51:25.421321",
          "1970-01-01T05:08:05.421321",
          "1970-01-01T05:08:05.421321",
          "1970-01-01T05:08:05.421321",
          "1970-01-01T05:56:11.070504",
          "1970-01-01T05:56:11.070504",
          "1970-01-01T06:12:51.070504",
          "1970-01-01T06:12:51.070504",
          "1970-01-01T06:12:51.070504",
          "1970-01-01T07:00:56.719687",
          "1970-01-01T07:00:56.719687",
          "1970-01-01T07:17:36.719687",
          "1970-01-01T07:17:36.719687",
          "1970-01-01T07:17:36.719687",
          "1970-01-01T08:05:42.368869",
          "1970-01-01T08:05:42.368869",
          "1970-01-01T08:22:22.368869",
          "1970-01-01T08:22:22.368869",
          "1970-01-01T08:22:22.368869",
          "1970-01-01T09:10:28.018052",
          "1970-01-01T09:10:28.018052",
          "1970-01-01T09:27:08.018052",
          "1970-01-01T09:27:08.018052",
          "1970-01-01T09:27:08.018052",
          "1970-01-01T10:15:13.667234",
          "1970-01-01T10:15:13.667234",
          "1970-01-01T10:31:53.667234",
          "1970-01-01T10:31:53.667234",
          "1970-01-01T10:31:53.667234",
          "1970-01-01T11:19:59.316417",
          "1970-01-01T11:19:59.316417",
          "1970-01-01T11:36:39.316417",
          "1970-01-01T11:36:39.316417",
          "1970-01-01T11:36:39.316417",
          "1970-01-01T12:24:44.965599",
          "1970-01-01T12:24:44.965599",
          "1970-01-01T12:41:24.965599",
          "1970-01-01T12:41:24.965599",
          "1970-01-01T12:41:24.965599",
          "1970-01-01T13:29:30.614782",
          "1970-01-01T13:29:30.614782",
          "1970-01-01T13:46:10.614782",
          "1970-01-01T13:46:10.614782",
          "1970-01-01T13:46:10.614782",
          "1970-01-01T00:32:22.824591",
          "1970-01-01T00:32:22.824591",
          "1970-01-01T00:49:02.824591",
          "1970-01-01T00:49:02.824591",
          "1970-01-01T00:49:02.824591",
          "1970-01-01T01:37:08.473774",
          "1970-01-01T01:37:08.473774",
          "1970-01-01T01:53:48.473774",
          "1970-01-01T01:53:48.473774",
          "1970-01-01T01:53:48.473774",
          "1970-01-01T02:41:54.122956",
          "1970-01-01T02:41:54.122956",
          "1970-01-01T02:58:34.122956",
          "1970-01-01T02:58:34.122956",
          "1970-01-01T02:58:34.122956",
          "1970-01-01T03:46:39.772139",
          "1970-01-01T03:46:39.772139",
          "1970-01-01T04:03:19.772139",
          "1970-01-01T04:03:19.772139",
          "1970-01-01T04:03:19.772139",
          "1970-01-01T04:51:25.421321",
          "1970-01-01T04:51:25.421321",
          "1970-01-01T05:08:05.421321",
          "1970-01-01T05:08:05.421321",
          "1970-01-01T05:08:05.421321",
          "1970-01-01T05:56:11.070504",
          "1970-01-01T05:56:11.070504",
          "1970-01-01T06:12:51.070504",
          "1970-01-01T06:12:51.070504",
          "1970-01-01T06:12:51.070504",
          "1970-01-01T07:00:56.719687",
          "1970-01-01T07:00:56.719687",
          "1970-01-01T07:17:36.719687",
          "1970-01-01T07:17:36.719687",
          "1970-01-01T07:17:36.719687",
          "1970-01-01T08:05:42.368869",
          "1970-01-01T08:05:42.368869",
          "1970-01-01T08:22:22.368869",
          "1970-01-01T08:22:22.368869",
          "1970-01-01T08:22:22.368869",
          "1970-01-01T09:10:28.018052",
          "1970-01-01T09:10:28.018052",
          "1970-01-01T09:27:08.018052",
          "1970-01-01T09:27:08.018052",
          "1970-01-01T09:27:08.018052",
          "1970-01-01T10:15:13.667234",
          "1970-01-01T10:15:13.667234",
          "1970-01-01T10:31:53.667234",
          "1970-01-01T10:31:53.667234",
          "1970-01-01T10:31:53.667234",
          "1970-01-01T11:19:59.316417",
          "1970-01-01T11:19:59.316417",
          "1970-01-01T11:36:39.316417",
          "1970-01-01T11:36:39.316417",
          "1970-01-01T11:36:39.316417",
          "1970-01-01T12:24:44.965599",
          "1970-01-01T12:24:44.965599",
          "1970-01-01T12:41:24.965599",
          "1970-01-01T12:41:24.965599",
          "1970-01-01T12:41:24.965599",
          "1970-01-01T13:29:30.614782",
          "1970-01-01T13:29:30.614782",
          "1970-01-01T13:46:10.614782",
          "1970-01-01T13:46:10.614782",
          "1970-01-01T13:46:10.614782"
         ],
         "y": [
          "vessel01",
          "vessel01",
          "vessel01",
          "vessel01",
          null,
          "vessel01",
          "vessel01",
          "vessel01",
          "vessel01",
          null,
          "vessel01",
          "vessel01",
          "vessel01",
          "vessel01",
          null,
          "vessel01",
          "vessel01",
          "vessel01",
          "vessel01",
          null,
          "vessel01",
          "vessel01",
          "vessel01",
          "vessel01",
          null,
          "vessel01",
          "vessel01",
          "vessel01",
          "vessel01",
          null,
          "vessel01",
          "vessel01",
          "vessel01",
          "vessel01",
          null,
          "vessel01",
          "vessel01",
          "vessel01",
          "vessel01",
          null,
          "vessel01",
          "vessel01",
          "vessel01",
          "vessel01",
          null,
          "vessel01",
          "vessel01",
          "vessel01",
          "vessel01",
          null,
          "vessel01",
          "vessel01",
          "vessel01",
          "vessel01",
          null,
          "vessel01",
          "vessel01",
          "vessel01",
          "vessel01",
          null,
          "vessel01",
          "vessel01",
          "vessel01",
          "vessel01",
          null,
          "to_site",
          "to_site",
          "to_site",
          "to_site",
          null,
          "to_site",
          "to_site",
          "to_site",
          "to_site",
          null,
          "to_site",
          "to_site",
          "to_site",
          "to_site",
          null,
          "to_site",
          "to_site",
          "to_site",
          "to_site",
          null,
          "to_site",
          "to_site",
          "to_site",
          "to_site",
          null,
          "to_site",
          "to_site",
          "to_site",
          "to_site",
          null,
          "to_site",
          "to_site",
          "to_site",
          "to_site",
          null,
          "to_site",
          "to_site",
          "to_site",
          "to_site",
          null,
          "to_site",
          "to_site",
          "to_site",
          "to_site",
          null,
          "to_site",
          "to_site",
          "to_site",
          "to_site",
          null,
          "to_site",
          "to_site",
          "to_site",
          "to_site",
          null,
          "to_site",
          "to_site",
          "to_site",
          "to_site",
          null,
          "to_site",
          "to_site",
          "to_site",
          "to_site",
          null
         ]
        }
       ],
       "layout": {
        "hovermode": "closest",
        "legend": {
         "orientation": "h",
         "x": 0,
         "y": -0.2
        },
        "template": {
         "data": {
          "bar": [
           {
            "error_x": {
             "color": "#2a3f5f"
            },
            "error_y": {
             "color": "#2a3f5f"
            },
            "marker": {
             "line": {
              "color": "#E5ECF6",
              "width": 0.5
             }
            },
            "type": "bar"
           }
          ],
          "barpolar": [
           {
            "marker": {
             "line": {
              "color": "#E5ECF6",
              "width": 0.5
             }
            },
            "type": "barpolar"
           }
          ],
          "carpet": [
           {
            "aaxis": {
             "endlinecolor": "#2a3f5f",
             "gridcolor": "white",
             "linecolor": "white",
             "minorgridcolor": "white",
             "startlinecolor": "#2a3f5f"
            },
            "baxis": {
             "endlinecolor": "#2a3f5f",
             "gridcolor": "white",
             "linecolor": "white",
             "minorgridcolor": "white",
             "startlinecolor": "#2a3f5f"
            },
            "type": "carpet"
           }
          ],
          "choropleth": [
           {
            "colorbar": {
             "outlinewidth": 0,
             "ticks": ""
            },
            "type": "choropleth"
           }
          ],
          "contour": [
           {
            "colorbar": {
             "outlinewidth": 0,
             "ticks": ""
            },
            "colorscale": [
             [
              0,
              "#0d0887"
             ],
             [
              0.1111111111111111,
              "#46039f"
             ],
             [
              0.2222222222222222,
              "#7201a8"
             ],
             [
              0.3333333333333333,
              "#9c179e"
             ],
             [
              0.4444444444444444,
              "#bd3786"
             ],
             [
              0.5555555555555556,
              "#d8576b"
             ],
             [
              0.6666666666666666,
              "#ed7953"
             ],
             [
              0.7777777777777778,
              "#fb9f3a"
             ],
             [
              0.8888888888888888,
              "#fdca26"
             ],
             [
              1,
              "#f0f921"
             ]
            ],
            "type": "contour"
           }
          ],
          "contourcarpet": [
           {
            "colorbar": {
             "outlinewidth": 0,
             "ticks": ""
            },
            "type": "contourcarpet"
           }
          ],
          "heatmap": [
           {
            "colorbar": {
             "outlinewidth": 0,
             "ticks": ""
            },
            "colorscale": [
             [
              0,
              "#0d0887"
             ],
             [
              0.1111111111111111,
              "#46039f"
             ],
             [
              0.2222222222222222,
              "#7201a8"
             ],
             [
              0.3333333333333333,
              "#9c179e"
             ],
             [
              0.4444444444444444,
              "#bd3786"
             ],
             [
              0.5555555555555556,
              "#d8576b"
             ],
             [
              0.6666666666666666,
              "#ed7953"
             ],
             [
              0.7777777777777778,
              "#fb9f3a"
             ],
             [
              0.8888888888888888,
              "#fdca26"
             ],
             [
              1,
              "#f0f921"
             ]
            ],
            "type": "heatmap"
           }
          ],
          "heatmapgl": [
           {
            "colorbar": {
             "outlinewidth": 0,
             "ticks": ""
            },
            "colorscale": [
             [
              0,
              "#0d0887"
             ],
             [
              0.1111111111111111,
              "#46039f"
             ],
             [
              0.2222222222222222,
              "#7201a8"
             ],
             [
              0.3333333333333333,
              "#9c179e"
             ],
             [
              0.4444444444444444,
              "#bd3786"
             ],
             [
              0.5555555555555556,
              "#d8576b"
             ],
             [
              0.6666666666666666,
              "#ed7953"
             ],
             [
              0.7777777777777778,
              "#fb9f3a"
             ],
             [
              0.8888888888888888,
              "#fdca26"
             ],
             [
              1,
              "#f0f921"
             ]
            ],
            "type": "heatmapgl"
           }
          ],
          "histogram": [
           {
            "marker": {
             "colorbar": {
              "outlinewidth": 0,
              "ticks": ""
             }
            },
            "type": "histogram"
           }
          ],
          "histogram2d": [
           {
            "colorbar": {
             "outlinewidth": 0,
             "ticks": ""
            },
            "colorscale": [
             [
              0,
              "#0d0887"
             ],
             [
              0.1111111111111111,
              "#46039f"
             ],
             [
              0.2222222222222222,
              "#7201a8"
             ],
             [
              0.3333333333333333,
              "#9c179e"
             ],
             [
              0.4444444444444444,
              "#bd3786"
             ],
             [
              0.5555555555555556,
              "#d8576b"
             ],
             [
              0.6666666666666666,
              "#ed7953"
             ],
             [
              0.7777777777777778,
              "#fb9f3a"
             ],
             [
              0.8888888888888888,
              "#fdca26"
             ],
             [
              1,
              "#f0f921"
             ]
            ],
            "type": "histogram2d"
           }
          ],
          "histogram2dcontour": [
           {
            "colorbar": {
             "outlinewidth": 0,
             "ticks": ""
            },
            "colorscale": [
             [
              0,
              "#0d0887"
             ],
             [
              0.1111111111111111,
              "#46039f"
             ],
             [
              0.2222222222222222,
              "#7201a8"
             ],
             [
              0.3333333333333333,
              "#9c179e"
             ],
             [
              0.4444444444444444,
              "#bd3786"
             ],
             [
              0.5555555555555556,
              "#d8576b"
             ],
             [
              0.6666666666666666,
              "#ed7953"
             ],
             [
              0.7777777777777778,
              "#fb9f3a"
             ],
             [
              0.8888888888888888,
              "#fdca26"
             ],
             [
              1,
              "#f0f921"
             ]
            ],
            "type": "histogram2dcontour"
           }
          ],
          "mesh3d": [
           {
            "colorbar": {
             "outlinewidth": 0,
             "ticks": ""
            },
            "type": "mesh3d"
           }
          ],
          "parcoords": [
           {
            "line": {
             "colorbar": {
              "outlinewidth": 0,
              "ticks": ""
             }
            },
            "type": "parcoords"
           }
          ],
          "pie": [
           {
            "automargin": true,
            "type": "pie"
           }
          ],
          "scatter": [
           {
            "marker": {
             "colorbar": {
              "outlinewidth": 0,
              "ticks": ""
             }
            },
            "type": "scatter"
           }
          ],
          "scatter3d": [
           {
            "line": {
             "colorbar": {
              "outlinewidth": 0,
              "ticks": ""
             }
            },
            "marker": {
             "colorbar": {
              "outlinewidth": 0,
              "ticks": ""
             }
            },
            "type": "scatter3d"
           }
          ],
          "scattercarpet": [
           {
            "marker": {
             "colorbar": {
              "outlinewidth": 0,
              "ticks": ""
             }
            },
            "type": "scattercarpet"
           }
          ],
          "scattergeo": [
           {
            "marker": {
             "colorbar": {
              "outlinewidth": 0,
              "ticks": ""
             }
            },
            "type": "scattergeo"
           }
          ],
          "scattergl": [
           {
            "marker": {
             "colorbar": {
              "outlinewidth": 0,
              "ticks": ""
             }
            },
            "type": "scattergl"
           }
          ],
          "scattermapbox": [
           {
            "marker": {
             "colorbar": {
              "outlinewidth": 0,
              "ticks": ""
             }
            },
            "type": "scattermapbox"
           }
          ],
          "scatterpolar": [
           {
            "marker": {
             "colorbar": {
              "outlinewidth": 0,
              "ticks": ""
             }
            },
            "type": "scatterpolar"
           }
          ],
          "scatterpolargl": [
           {
            "marker": {
             "colorbar": {
              "outlinewidth": 0,
              "ticks": ""
             }
            },
            "type": "scatterpolargl"
           }
          ],
          "scatterternary": [
           {
            "marker": {
             "colorbar": {
              "outlinewidth": 0,
              "ticks": ""
             }
            },
            "type": "scatterternary"
           }
          ],
          "surface": [
           {
            "colorbar": {
             "outlinewidth": 0,
             "ticks": ""
            },
            "colorscale": [
             [
              0,
              "#0d0887"
             ],
             [
              0.1111111111111111,
              "#46039f"
             ],
             [
              0.2222222222222222,
              "#7201a8"
             ],
             [
              0.3333333333333333,
              "#9c179e"
             ],
             [
              0.4444444444444444,
              "#bd3786"
             ],
             [
              0.5555555555555556,
              "#d8576b"
             ],
             [
              0.6666666666666666,
              "#ed7953"
             ],
             [
              0.7777777777777778,
              "#fb9f3a"
             ],
             [
              0.8888888888888888,
              "#fdca26"
             ],
             [
              1,
              "#f0f921"
             ]
            ],
            "type": "surface"
           }
          ],
          "table": [
           {
            "cells": {
             "fill": {
              "color": "#EBF0F8"
             },
             "line": {
              "color": "white"
             }
            },
            "header": {
             "fill": {
              "color": "#C8D4E3"
             },
             "line": {
              "color": "white"
             }
            },
            "type": "table"
           }
          ]
         },
         "layout": {
          "annotationdefaults": {
           "arrowcolor": "#2a3f5f",
           "arrowhead": 0,
           "arrowwidth": 1
          },
          "coloraxis": {
           "colorbar": {
            "outlinewidth": 0,
            "ticks": ""
           }
          },
          "colorscale": {
           "diverging": [
            [
             0,
             "#8e0152"
            ],
            [
             0.1,
             "#c51b7d"
            ],
            [
             0.2,
             "#de77ae"
            ],
            [
             0.3,
             "#f1b6da"
            ],
            [
             0.4,
             "#fde0ef"
            ],
            [
             0.5,
             "#f7f7f7"
            ],
            [
             0.6,
             "#e6f5d0"
            ],
            [
             0.7,
             "#b8e186"
            ],
            [
             0.8,
             "#7fbc41"
            ],
            [
             0.9,
             "#4d9221"
            ],
            [
             1,
             "#276419"
            ]
           ],
           "sequential": [
            [
             0,
             "#0d0887"
            ],
            [
             0.1111111111111111,
             "#46039f"
            ],
            [
             0.2222222222222222,
             "#7201a8"
            ],
            [
             0.3333333333333333,
             "#9c179e"
            ],
            [
             0.4444444444444444,
             "#bd3786"
            ],
            [
             0.5555555555555556,
             "#d8576b"
            ],
            [
             0.6666666666666666,
             "#ed7953"
            ],
            [
             0.7777777777777778,
             "#fb9f3a"
            ],
            [
             0.8888888888888888,
             "#fdca26"
            ],
            [
             1,
             "#f0f921"
            ]
           ],
           "sequentialminus": [
            [
             0,
             "#0d0887"
            ],
            [
             0.1111111111111111,
             "#46039f"
            ],
            [
             0.2222222222222222,
             "#7201a8"
            ],
            [
             0.3333333333333333,
             "#9c179e"
            ],
            [
             0.4444444444444444,
             "#bd3786"
            ],
            [
             0.5555555555555556,
             "#d8576b"
            ],
            [
             0.6666666666666666,
             "#ed7953"
            ],
            [
             0.7777777777777778,
             "#fb9f3a"
            ],
            [
             0.8888888888888888,
             "#fdca26"
            ],
            [
             1,
             "#f0f921"
            ]
           ]
          },
          "colorway": [
           "#636efa",
           "#EF553B",
           "#00cc96",
           "#ab63fa",
           "#FFA15A",
           "#19d3f3",
           "#FF6692",
           "#B6E880",
           "#FF97FF",
           "#FECB52"
          ],
          "font": {
           "color": "#2a3f5f"
          },
          "geo": {
           "bgcolor": "white",
           "lakecolor": "white",
           "landcolor": "#E5ECF6",
           "showlakes": true,
           "showland": true,
           "subunitcolor": "white"
          },
          "hoverlabel": {
           "align": "left"
          },
          "hovermode": "closest",
          "mapbox": {
           "style": "light"
          },
          "paper_bgcolor": "white",
          "plot_bgcolor": "#E5ECF6",
          "polar": {
           "angularaxis": {
            "gridcolor": "white",
            "linecolor": "white",
            "ticks": ""
           },
           "bgcolor": "#E5ECF6",
           "radialaxis": {
            "gridcolor": "white",
            "linecolor": "white",
            "ticks": ""
           }
          },
          "scene": {
           "xaxis": {
            "backgroundcolor": "#E5ECF6",
            "gridcolor": "white",
            "gridwidth": 2,
            "linecolor": "white",
            "showbackground": true,
            "ticks": "",
            "zerolinecolor": "white"
           },
           "yaxis": {
            "backgroundcolor": "#E5ECF6",
            "gridcolor": "white",
            "gridwidth": 2,
            "linecolor": "white",
            "showbackground": true,
            "ticks": "",
            "zerolinecolor": "white"
           },
           "zaxis": {
            "backgroundcolor": "#E5ECF6",
            "gridcolor": "white",
            "gridwidth": 2,
            "linecolor": "white",
            "showbackground": true,
            "ticks": "",
            "zerolinecolor": "white"
           }
          },
          "shapedefaults": {
           "line": {
            "color": "#2a3f5f"
           }
          },
          "ternary": {
           "aaxis": {
            "gridcolor": "white",
            "linecolor": "white",
            "ticks": ""
           },
           "baxis": {
            "gridcolor": "white",
            "linecolor": "white",
            "ticks": ""
           },
           "bgcolor": "#E5ECF6",
           "caxis": {
            "gridcolor": "white",
            "linecolor": "white",
            "ticks": ""
           }
          },
          "title": {
           "x": 0.05
          },
          "xaxis": {
           "automargin": true,
           "gridcolor": "white",
           "linecolor": "white",
           "ticks": "",
           "title": {
            "standoff": 15
           },
           "zerolinecolor": "white",
           "zerolinewidth": 2
          },
          "yaxis": {
           "automargin": true,
           "gridcolor": "white",
           "linecolor": "white",
           "ticks": "",
           "title": {
            "standoff": 15
           },
           "zerolinecolor": "white",
           "zerolinewidth": 2
          }
         }
        },
        "title": {
         "text": "Vessel planning"
        },
        "xaxis": {
         "range": [
          "1970-01-01T00:00:00",
          "1970-01-01T13:46:10.614782"
         ],
         "title": {
          "font": {
           "color": "#7f7f7f",
           "family": "Courier New, monospace",
           "size": 18
          },
          "text": "Time"
         }
        },
        "yaxis": {
         "title": {
          "font": {
           "color": "#7f7f7f",
           "family": "Courier New, monospace",
           "size": 18
          },
          "text": "Vessels"
         }
        }
       }
      },
      "text/html": [
       "<div>                            <div id=\"8b728ed6-81da-4d51-878d-eb1c019754da\" class=\"plotly-graph-div\" style=\"height:525px; width:100%;\"></div>            <script type=\"text/javascript\">                require([\"plotly\"], function(Plotly) {                    window.PLOTLYENV=window.PLOTLYENV || {};                                    if (document.getElementById(\"8b728ed6-81da-4d51-878d-eb1c019754da\")) {                    Plotly.newPlot(                        \"8b728ed6-81da-4d51-878d-eb1c019754da\",                        [{\"connectgaps\": false, \"hoverinfo\": \"y+name\", \"line\": {\"color\": \"rgb(172,161,170)\", \"width\": 10}, \"mode\": \"lines\", \"name\": \"91985ff3-457e-4e0f-b70f-ded9106b34a2\", \"type\": \"scatter\", \"x\": [\"1970-01-01T00:00:00\", \"1970-01-01T00:00:00\", \"1970-01-01T00:00:00\", \"1970-01-01T00:00:00\", \"1970-01-01T00:00:00\", \"1970-01-01T00:49:02.824591\", \"1970-01-01T00:49:02.824591\", \"1970-01-01T01:04:45.649183\", \"1970-01-01T01:04:45.649183\", \"1970-01-01T01:04:45.649183\", \"1970-01-01T01:53:48.473774\", \"1970-01-01T01:53:48.473774\", \"1970-01-01T02:09:31.298365\", \"1970-01-01T02:09:31.298365\", \"1970-01-01T02:09:31.298365\", \"1970-01-01T02:58:34.122956\", \"1970-01-01T02:58:34.122956\", \"1970-01-01T03:14:16.947548\", \"1970-01-01T03:14:16.947548\", \"1970-01-01T03:14:16.947548\", \"1970-01-01T04:03:19.772139\", \"1970-01-01T04:03:19.772139\", \"1970-01-01T04:19:02.596730\", \"1970-01-01T04:19:02.596730\", \"1970-01-01T04:19:02.596730\", \"1970-01-01T05:08:05.421321\", \"1970-01-01T05:08:05.421321\", \"1970-01-01T05:23:48.245913\", \"1970-01-01T05:23:48.245913\", \"1970-01-01T05:23:48.245913\", \"1970-01-01T06:12:51.070504\", \"1970-01-01T06:12:51.070504\", \"1970-01-01T06:28:33.895095\", \"1970-01-01T06:28:33.895095\", \"1970-01-01T06:28:33.895095\", \"1970-01-01T07:17:36.719687\", \"1970-01-01T07:17:36.719687\", \"1970-01-01T07:33:19.544278\", \"1970-01-01T07:33:19.544278\", \"1970-01-01T07:33:19.544278\", \"1970-01-01T08:22:22.368869\", \"1970-01-01T08:22:22.368869\", \"1970-01-01T08:38:05.193460\", \"1970-01-01T08:38:05.193460\", \"1970-01-01T08:38:05.193460\", \"1970-01-01T09:27:08.018052\", \"1970-01-01T09:27:08.018052\", \"1970-01-01T09:42:50.842643\", \"1970-01-01T09:42:50.842643\", \"1970-01-01T09:42:50.842643\", \"1970-01-01T10:31:53.667234\", \"1970-01-01T10:31:53.667234\", \"1970-01-01T10:47:36.491825\", \"1970-01-01T10:47:36.491825\", \"1970-01-01T10:47:36.491825\", \"1970-01-01T11:36:39.316417\", \"1970-01-01T11:36:39.316417\", \"1970-01-01T11:52:22.141008\", \"1970-01-01T11:52:22.141008\", \"1970-01-01T11:52:22.141008\", \"1970-01-01T12:41:24.965599\", \"1970-01-01T12:41:24.965599\", \"1970-01-01T12:57:07.790191\", \"1970-01-01T12:57:07.790191\", \"1970-01-01T12:57:07.790191\"], \"y\": [\"vessel01\", \"vessel01\", \"vessel01\", \"vessel01\", null, \"vessel01\", \"vessel01\", \"vessel01\", \"vessel01\", null, \"vessel01\", \"vessel01\", \"vessel01\", \"vessel01\", null, \"vessel01\", \"vessel01\", \"vessel01\", \"vessel01\", null, \"vessel01\", \"vessel01\", \"vessel01\", \"vessel01\", null, \"vessel01\", \"vessel01\", \"vessel01\", \"vessel01\", null, \"vessel01\", \"vessel01\", \"vessel01\", \"vessel01\", null, \"vessel01\", \"vessel01\", \"vessel01\", \"vessel01\", null, \"vessel01\", \"vessel01\", \"vessel01\", \"vessel01\", null, \"vessel01\", \"vessel01\", \"vessel01\", \"vessel01\", null, \"vessel01\", \"vessel01\", \"vessel01\", \"vessel01\", null, \"vessel01\", \"vessel01\", \"vessel01\", \"vessel01\", null, \"vessel01\", \"vessel01\", \"vessel01\", \"vessel01\", null]}, {\"connectgaps\": false, \"hoverinfo\": \"y+name\", \"line\": {\"color\": \"rgb(208,197,206)\", \"width\": 10}, \"mode\": \"lines\", \"name\": \"6df6fa10-9cd3-4c4a-9b5c-5a72ab1881be\", \"type\": \"scatter\", \"x\": [\"1970-01-01T00:49:02.824591\", \"1970-01-01T00:49:02.824591\", \"1970-01-01T00:49:02.824591\", \"1970-01-01T00:49:02.824591\", \"1970-01-01T00:49:02.824591\", \"1970-01-01T01:53:48.473774\", \"1970-01-01T01:53:48.473774\", \"1970-01-01T01:53:48.473774\", \"1970-01-01T01:53:48.473774\", \"1970-01-01T01:53:48.473774\", \"1970-01-01T02:58:34.122956\", \"1970-01-01T02:58:34.122956\", \"1970-01-01T02:58:34.122956\", \"1970-01-01T02:58:34.122956\", \"1970-01-01T02:58:34.122956\", \"1970-01-01T04:03:19.772139\", \"1970-01-01T04:03:19.772139\", \"1970-01-01T04:03:19.772139\", \"1970-01-01T04:03:19.772139\", \"1970-01-01T04:03:19.772139\", \"1970-01-01T05:08:05.421321\", \"1970-01-01T05:08:05.421321\", \"1970-01-01T05:08:05.421321\", \"1970-01-01T05:08:05.421321\", \"1970-01-01T05:08:05.421321\", \"1970-01-01T06:12:51.070504\", \"1970-01-01T06:12:51.070504\", \"1970-01-01T06:12:51.070504\", \"1970-01-01T06:12:51.070504\", \"1970-01-01T06:12:51.070504\", \"1970-01-01T07:17:36.719687\", \"1970-01-01T07:17:36.719687\", \"1970-01-01T07:17:36.719687\", \"1970-01-01T07:17:36.719687\", \"1970-01-01T07:17:36.719687\", \"1970-01-01T08:22:22.368869\", \"1970-01-01T08:22:22.368869\", \"1970-01-01T08:22:22.368869\", \"1970-01-01T08:22:22.368869\", \"1970-01-01T08:22:22.368869\", \"1970-01-01T09:27:08.018052\", \"1970-01-01T09:27:08.018052\", \"1970-01-01T09:27:08.018052\", \"1970-01-01T09:27:08.018052\", \"1970-01-01T09:27:08.018052\", \"1970-01-01T10:31:53.667234\", \"1970-01-01T10:31:53.667234\", \"1970-01-01T10:31:53.667234\", \"1970-01-01T10:31:53.667234\", \"1970-01-01T10:31:53.667234\", \"1970-01-01T11:36:39.316417\", \"1970-01-01T11:36:39.316417\", \"1970-01-01T11:36:39.316417\", \"1970-01-01T11:36:39.316417\", \"1970-01-01T11:36:39.316417\", \"1970-01-01T12:41:24.965599\", \"1970-01-01T12:41:24.965599\", \"1970-01-01T12:41:24.965599\", \"1970-01-01T12:41:24.965599\", \"1970-01-01T12:41:24.965599\", \"1970-01-01T13:46:10.614782\", \"1970-01-01T13:46:10.614782\", \"1970-01-01T13:46:10.614782\", \"1970-01-01T13:46:10.614782\", \"1970-01-01T13:46:10.614782\"], \"y\": [\"vessel01\", \"vessel01\", \"vessel01\", \"vessel01\", null, \"vessel01\", \"vessel01\", \"vessel01\", \"vessel01\", null, \"vessel01\", \"vessel01\", \"vessel01\", \"vessel01\", null, \"vessel01\", \"vessel01\", \"vessel01\", \"vessel01\", null, \"vessel01\", \"vessel01\", \"vessel01\", \"vessel01\", null, \"vessel01\", \"vessel01\", \"vessel01\", \"vessel01\", null, \"vessel01\", \"vessel01\", \"vessel01\", \"vessel01\", null, \"vessel01\", \"vessel01\", \"vessel01\", \"vessel01\", null, \"vessel01\", \"vessel01\", \"vessel01\", \"vessel01\", null, \"vessel01\", \"vessel01\", \"vessel01\", \"vessel01\", null, \"vessel01\", \"vessel01\", \"vessel01\", \"vessel01\", null, \"vessel01\", \"vessel01\", \"vessel01\", \"vessel01\", null, \"vessel01\", \"vessel01\", \"vessel01\", \"vessel01\", null]}, {\"connectgaps\": false, \"hoverinfo\": \"y+name\", \"line\": {\"color\": \"rgb(244,233,242)\", \"width\": 10}, \"mode\": \"lines\", \"name\": \"c752fb53-40c5-402a-87bd-5fab8fd5fd5b\", \"type\": \"scatter\", \"x\": [\"1970-01-01T00:00:00\", \"1970-01-01T00:00:00\", \"1970-01-01T00:16:40\", \"1970-01-01T00:16:40\", \"1970-01-01T00:16:40\", \"1970-01-01T01:04:45.649183\", \"1970-01-01T01:04:45.649183\", \"1970-01-01T01:21:25.649183\", \"1970-01-01T01:21:25.649183\", \"1970-01-01T01:21:25.649183\", \"1970-01-01T02:09:31.298365\", \"1970-01-01T02:09:31.298365\", \"1970-01-01T02:26:11.298365\", \"1970-01-01T02:26:11.298365\", \"1970-01-01T02:26:11.298365\", \"1970-01-01T03:14:16.947548\", \"1970-01-01T03:14:16.947548\", \"1970-01-01T03:30:56.947548\", \"1970-01-01T03:30:56.947548\", \"1970-01-01T03:30:56.947548\", \"1970-01-01T04:19:02.596730\", \"1970-01-01T04:19:02.596730\", \"1970-01-01T04:35:42.596730\", \"1970-01-01T04:35:42.596730\", \"1970-01-01T04:35:42.596730\", \"1970-01-01T05:23:48.245913\", \"1970-01-01T05:23:48.245913\", \"1970-01-01T05:40:28.245913\", \"1970-01-01T05:40:28.245913\", \"1970-01-01T05:40:28.245913\", \"1970-01-01T06:28:33.895095\", \"1970-01-01T06:28:33.895095\", \"1970-01-01T06:45:13.895095\", \"1970-01-01T06:45:13.895095\", \"1970-01-01T06:45:13.895095\", \"1970-01-01T07:33:19.544278\", \"1970-01-01T07:33:19.544278\", \"1970-01-01T07:49:59.544278\", \"1970-01-01T07:49:59.544278\", \"1970-01-01T07:49:59.544278\", \"1970-01-01T08:38:05.193460\", \"1970-01-01T08:38:05.193460\", \"1970-01-01T08:54:45.193460\", \"1970-01-01T08:54:45.193460\", \"1970-01-01T08:54:45.193460\", \"1970-01-01T09:42:50.842643\", \"1970-01-01T09:42:50.842643\", \"1970-01-01T09:59:30.842643\", \"1970-01-01T09:59:30.842643\", \"1970-01-01T09:59:30.842643\", \"1970-01-01T10:47:36.491825\", \"1970-01-01T10:47:36.491825\", \"1970-01-01T11:04:16.491825\", \"1970-01-01T11:04:16.491825\", \"1970-01-01T11:04:16.491825\", \"1970-01-01T11:52:22.141008\", \"1970-01-01T11:52:22.141008\", \"1970-01-01T12:09:02.141008\", \"1970-01-01T12:09:02.141008\", \"1970-01-01T12:09:02.141008\", \"1970-01-01T12:57:07.790191\", \"1970-01-01T12:57:07.790191\", \"1970-01-01T13:13:47.790191\", \"1970-01-01T13:13:47.790191\", \"1970-01-01T13:13:47.790191\", \"1970-01-01T00:00:00\", \"1970-01-01T00:00:00\", \"1970-01-01T00:16:40\", \"1970-01-01T00:16:40\", \"1970-01-01T00:16:40\", \"1970-01-01T01:04:45.649183\", \"1970-01-01T01:04:45.649183\", \"1970-01-01T01:21:25.649183\", \"1970-01-01T01:21:25.649183\", \"1970-01-01T01:21:25.649183\", \"1970-01-01T02:09:31.298365\", \"1970-01-01T02:09:31.298365\", \"1970-01-01T02:26:11.298365\", \"1970-01-01T02:26:11.298365\", \"1970-01-01T02:26:11.298365\", \"1970-01-01T03:14:16.947548\", \"1970-01-01T03:14:16.947548\", \"1970-01-01T03:30:56.947548\", \"1970-01-01T03:30:56.947548\", \"1970-01-01T03:30:56.947548\", \"1970-01-01T04:19:02.596730\", \"1970-01-01T04:19:02.596730\", \"1970-01-01T04:35:42.596730\", \"1970-01-01T04:35:42.596730\", \"1970-01-01T04:35:42.596730\", \"1970-01-01T05:23:48.245913\", \"1970-01-01T05:23:48.245913\", \"1970-01-01T05:40:28.245913\", \"1970-01-01T05:40:28.245913\", \"1970-01-01T05:40:28.245913\", \"1970-01-01T06:28:33.895095\", \"1970-01-01T06:28:33.895095\", \"1970-01-01T06:45:13.895095\", \"1970-01-01T06:45:13.895095\", \"1970-01-01T06:45:13.895095\", \"1970-01-01T07:33:19.544278\", \"1970-01-01T07:33:19.544278\", \"1970-01-01T07:49:59.544278\", \"1970-01-01T07:49:59.544278\", \"1970-01-01T07:49:59.544278\", \"1970-01-01T08:38:05.193460\", \"1970-01-01T08:38:05.193460\", \"1970-01-01T08:54:45.193460\", \"1970-01-01T08:54:45.193460\", \"1970-01-01T08:54:45.193460\", \"1970-01-01T09:42:50.842643\", \"1970-01-01T09:42:50.842643\", \"1970-01-01T09:59:30.842643\", \"1970-01-01T09:59:30.842643\", \"1970-01-01T09:59:30.842643\", \"1970-01-01T10:47:36.491825\", \"1970-01-01T10:47:36.491825\", \"1970-01-01T11:04:16.491825\", \"1970-01-01T11:04:16.491825\", \"1970-01-01T11:04:16.491825\", \"1970-01-01T11:52:22.141008\", \"1970-01-01T11:52:22.141008\", \"1970-01-01T12:09:02.141008\", \"1970-01-01T12:09:02.141008\", \"1970-01-01T12:09:02.141008\", \"1970-01-01T12:57:07.790191\", \"1970-01-01T12:57:07.790191\", \"1970-01-01T13:13:47.790191\", \"1970-01-01T13:13:47.790191\", \"1970-01-01T13:13:47.790191\"], \"y\": [\"vessel01\", \"vessel01\", \"vessel01\", \"vessel01\", null, \"vessel01\", \"vessel01\", \"vessel01\", \"vessel01\", null, \"vessel01\", \"vessel01\", \"vessel01\", \"vessel01\", null, \"vessel01\", \"vessel01\", \"vessel01\", \"vessel01\", null, \"vessel01\", \"vessel01\", \"vessel01\", \"vessel01\", null, \"vessel01\", \"vessel01\", \"vessel01\", \"vessel01\", null, \"vessel01\", \"vessel01\", \"vessel01\", \"vessel01\", null, \"vessel01\", \"vessel01\", \"vessel01\", \"vessel01\", null, \"vessel01\", \"vessel01\", \"vessel01\", \"vessel01\", null, \"vessel01\", \"vessel01\", \"vessel01\", \"vessel01\", null, \"vessel01\", \"vessel01\", \"vessel01\", \"vessel01\", null, \"vessel01\", \"vessel01\", \"vessel01\", \"vessel01\", null, \"vessel01\", \"vessel01\", \"vessel01\", \"vessel01\", null, \"from_site\", \"from_site\", \"from_site\", \"from_site\", null, \"from_site\", \"from_site\", \"from_site\", \"from_site\", null, \"from_site\", \"from_site\", \"from_site\", \"from_site\", null, \"from_site\", \"from_site\", \"from_site\", \"from_site\", null, \"from_site\", \"from_site\", \"from_site\", \"from_site\", null, \"from_site\", \"from_site\", \"from_site\", \"from_site\", null, \"from_site\", \"from_site\", \"from_site\", \"from_site\", null, \"from_site\", \"from_site\", \"from_site\", \"from_site\", null, \"from_site\", \"from_site\", \"from_site\", \"from_site\", null, \"from_site\", \"from_site\", \"from_site\", \"from_site\", null, \"from_site\", \"from_site\", \"from_site\", \"from_site\", null, \"from_site\", \"from_site\", \"from_site\", \"from_site\", null, \"from_site\", \"from_site\", \"from_site\", \"from_site\", null]}, {\"connectgaps\": false, \"hoverinfo\": \"y+name\", \"line\": {\"color\": \"rgb(24,13,22)\", \"width\": 10}, \"mode\": \"lines\", \"name\": \"e02c4c2d-4cdd-4185-984a-5c35b5b4566c\", \"type\": \"scatter\", \"x\": [\"1970-01-01T00:16:40\", \"1970-01-01T00:16:40\", \"1970-01-01T00:32:22.824591\", \"1970-01-01T00:32:22.824591\", \"1970-01-01T00:32:22.824591\", \"1970-01-01T01:21:25.649183\", \"1970-01-01T01:21:25.649183\", \"1970-01-01T01:37:08.473774\", \"1970-01-01T01:37:08.473774\", \"1970-01-01T01:37:08.473774\", \"1970-01-01T02:26:11.298365\", \"1970-01-01T02:26:11.298365\", \"1970-01-01T02:41:54.122956\", \"1970-01-01T02:41:54.122956\", \"1970-01-01T02:41:54.122956\", \"1970-01-01T03:30:56.947548\", \"1970-01-01T03:30:56.947548\", \"1970-01-01T03:46:39.772139\", \"1970-01-01T03:46:39.772139\", \"1970-01-01T03:46:39.772139\", \"1970-01-01T04:35:42.596730\", \"1970-01-01T04:35:42.596730\", \"1970-01-01T04:51:25.421321\", \"1970-01-01T04:51:25.421321\", \"1970-01-01T04:51:25.421321\", \"1970-01-01T05:40:28.245913\", \"1970-01-01T05:40:28.245913\", \"1970-01-01T05:56:11.070504\", \"1970-01-01T05:56:11.070504\", \"1970-01-01T05:56:11.070504\", \"1970-01-01T06:45:13.895095\", \"1970-01-01T06:45:13.895095\", \"1970-01-01T07:00:56.719687\", \"1970-01-01T07:00:56.719687\", \"1970-01-01T07:00:56.719687\", \"1970-01-01T07:49:59.544278\", \"1970-01-01T07:49:59.544278\", \"1970-01-01T08:05:42.368869\", \"1970-01-01T08:05:42.368869\", \"1970-01-01T08:05:42.368869\", \"1970-01-01T08:54:45.193460\", \"1970-01-01T08:54:45.193460\", \"1970-01-01T09:10:28.018052\", \"1970-01-01T09:10:28.018052\", \"1970-01-01T09:10:28.018052\", \"1970-01-01T09:59:30.842643\", \"1970-01-01T09:59:30.842643\", \"1970-01-01T10:15:13.667234\", \"1970-01-01T10:15:13.667234\", \"1970-01-01T10:15:13.667234\", \"1970-01-01T11:04:16.491825\", \"1970-01-01T11:04:16.491825\", \"1970-01-01T11:19:59.316417\", \"1970-01-01T11:19:59.316417\", \"1970-01-01T11:19:59.316417\", \"1970-01-01T12:09:02.141008\", \"1970-01-01T12:09:02.141008\", \"1970-01-01T12:24:44.965599\", \"1970-01-01T12:24:44.965599\", \"1970-01-01T12:24:44.965599\", \"1970-01-01T13:13:47.790191\", \"1970-01-01T13:13:47.790191\", \"1970-01-01T13:29:30.614782\", \"1970-01-01T13:29:30.614782\", \"1970-01-01T13:29:30.614782\"], \"y\": [\"vessel01\", \"vessel01\", \"vessel01\", \"vessel01\", null, \"vessel01\", \"vessel01\", \"vessel01\", \"vessel01\", null, \"vessel01\", \"vessel01\", \"vessel01\", \"vessel01\", null, \"vessel01\", \"vessel01\", \"vessel01\", \"vessel01\", null, \"vessel01\", \"vessel01\", \"vessel01\", \"vessel01\", null, \"vessel01\", \"vessel01\", \"vessel01\", \"vessel01\", null, \"vessel01\", \"vessel01\", \"vessel01\", \"vessel01\", null, \"vessel01\", \"vessel01\", \"vessel01\", \"vessel01\", null, \"vessel01\", \"vessel01\", \"vessel01\", \"vessel01\", null, \"vessel01\", \"vessel01\", \"vessel01\", \"vessel01\", null, \"vessel01\", \"vessel01\", \"vessel01\", \"vessel01\", null, \"vessel01\", \"vessel01\", \"vessel01\", \"vessel01\", null, \"vessel01\", \"vessel01\", \"vessel01\", \"vessel01\", null]}, {\"connectgaps\": false, \"hoverinfo\": \"y+name\", \"line\": {\"color\": \"rgb(60,49,58)\", \"width\": 10}, \"mode\": \"lines\", \"name\": \"51233e51-d0b1-4feb-8729-b0b4b9a93981\", \"type\": \"scatter\", \"x\": [\"1970-01-01T00:32:22.824591\", \"1970-01-01T00:32:22.824591\", \"1970-01-01T00:49:02.824591\", \"1970-01-01T00:49:02.824591\", \"1970-01-01T00:49:02.824591\", \"1970-01-01T01:37:08.473774\", \"1970-01-01T01:37:08.473774\", \"1970-01-01T01:53:48.473774\", \"1970-01-01T01:53:48.473774\", \"1970-01-01T01:53:48.473774\", \"1970-01-01T02:41:54.122956\", \"1970-01-01T02:41:54.122956\", \"1970-01-01T02:58:34.122956\", \"1970-01-01T02:58:34.122956\", \"1970-01-01T02:58:34.122956\", \"1970-01-01T03:46:39.772139\", \"1970-01-01T03:46:39.772139\", \"1970-01-01T04:03:19.772139\", \"1970-01-01T04:03:19.772139\", \"1970-01-01T04:03:19.772139\", \"1970-01-01T04:51:25.421321\", \"1970-01-01T04:51:25.421321\", \"1970-01-01T05:08:05.421321\", \"1970-01-01T05:08:05.421321\", \"1970-01-01T05:08:05.421321\", \"1970-01-01T05:56:11.070504\", \"1970-01-01T05:56:11.070504\", \"1970-01-01T06:12:51.070504\", \"1970-01-01T06:12:51.070504\", \"1970-01-01T06:12:51.070504\", \"1970-01-01T07:00:56.719687\", \"1970-01-01T07:00:56.719687\", \"1970-01-01T07:17:36.719687\", \"1970-01-01T07:17:36.719687\", \"1970-01-01T07:17:36.719687\", \"1970-01-01T08:05:42.368869\", \"1970-01-01T08:05:42.368869\", \"1970-01-01T08:22:22.368869\", \"1970-01-01T08:22:22.368869\", \"1970-01-01T08:22:22.368869\", \"1970-01-01T09:10:28.018052\", \"1970-01-01T09:10:28.018052\", \"1970-01-01T09:27:08.018052\", \"1970-01-01T09:27:08.018052\", \"1970-01-01T09:27:08.018052\", \"1970-01-01T10:15:13.667234\", \"1970-01-01T10:15:13.667234\", \"1970-01-01T10:31:53.667234\", \"1970-01-01T10:31:53.667234\", \"1970-01-01T10:31:53.667234\", \"1970-01-01T11:19:59.316417\", \"1970-01-01T11:19:59.316417\", \"1970-01-01T11:36:39.316417\", \"1970-01-01T11:36:39.316417\", \"1970-01-01T11:36:39.316417\", \"1970-01-01T12:24:44.965599\", \"1970-01-01T12:24:44.965599\", \"1970-01-01T12:41:24.965599\", \"1970-01-01T12:41:24.965599\", \"1970-01-01T12:41:24.965599\", \"1970-01-01T13:29:30.614782\", \"1970-01-01T13:29:30.614782\", \"1970-01-01T13:46:10.614782\", \"1970-01-01T13:46:10.614782\", \"1970-01-01T13:46:10.614782\", \"1970-01-01T00:32:22.824591\", \"1970-01-01T00:32:22.824591\", \"1970-01-01T00:49:02.824591\", \"1970-01-01T00:49:02.824591\", \"1970-01-01T00:49:02.824591\", \"1970-01-01T01:37:08.473774\", \"1970-01-01T01:37:08.473774\", \"1970-01-01T01:53:48.473774\", \"1970-01-01T01:53:48.473774\", \"1970-01-01T01:53:48.473774\", \"1970-01-01T02:41:54.122956\", \"1970-01-01T02:41:54.122956\", \"1970-01-01T02:58:34.122956\", \"1970-01-01T02:58:34.122956\", \"1970-01-01T02:58:34.122956\", \"1970-01-01T03:46:39.772139\", \"1970-01-01T03:46:39.772139\", \"1970-01-01T04:03:19.772139\", \"1970-01-01T04:03:19.772139\", \"1970-01-01T04:03:19.772139\", \"1970-01-01T04:51:25.421321\", \"1970-01-01T04:51:25.421321\", \"1970-01-01T05:08:05.421321\", \"1970-01-01T05:08:05.421321\", \"1970-01-01T05:08:05.421321\", \"1970-01-01T05:56:11.070504\", \"1970-01-01T05:56:11.070504\", \"1970-01-01T06:12:51.070504\", \"1970-01-01T06:12:51.070504\", \"1970-01-01T06:12:51.070504\", \"1970-01-01T07:00:56.719687\", \"1970-01-01T07:00:56.719687\", \"1970-01-01T07:17:36.719687\", \"1970-01-01T07:17:36.719687\", \"1970-01-01T07:17:36.719687\", \"1970-01-01T08:05:42.368869\", \"1970-01-01T08:05:42.368869\", \"1970-01-01T08:22:22.368869\", \"1970-01-01T08:22:22.368869\", \"1970-01-01T08:22:22.368869\", \"1970-01-01T09:10:28.018052\", \"1970-01-01T09:10:28.018052\", \"1970-01-01T09:27:08.018052\", \"1970-01-01T09:27:08.018052\", \"1970-01-01T09:27:08.018052\", \"1970-01-01T10:15:13.667234\", \"1970-01-01T10:15:13.667234\", \"1970-01-01T10:31:53.667234\", \"1970-01-01T10:31:53.667234\", \"1970-01-01T10:31:53.667234\", \"1970-01-01T11:19:59.316417\", \"1970-01-01T11:19:59.316417\", \"1970-01-01T11:36:39.316417\", \"1970-01-01T11:36:39.316417\", \"1970-01-01T11:36:39.316417\", \"1970-01-01T12:24:44.965599\", \"1970-01-01T12:24:44.965599\", \"1970-01-01T12:41:24.965599\", \"1970-01-01T12:41:24.965599\", \"1970-01-01T12:41:24.965599\", \"1970-01-01T13:29:30.614782\", \"1970-01-01T13:29:30.614782\", \"1970-01-01T13:46:10.614782\", \"1970-01-01T13:46:10.614782\", \"1970-01-01T13:46:10.614782\"], \"y\": [\"vessel01\", \"vessel01\", \"vessel01\", \"vessel01\", null, \"vessel01\", \"vessel01\", \"vessel01\", \"vessel01\", null, \"vessel01\", \"vessel01\", \"vessel01\", \"vessel01\", null, \"vessel01\", \"vessel01\", \"vessel01\", \"vessel01\", null, \"vessel01\", \"vessel01\", \"vessel01\", \"vessel01\", null, \"vessel01\", \"vessel01\", \"vessel01\", \"vessel01\", null, \"vessel01\", \"vessel01\", \"vessel01\", \"vessel01\", null, \"vessel01\", \"vessel01\", \"vessel01\", \"vessel01\", null, \"vessel01\", \"vessel01\", \"vessel01\", \"vessel01\", null, \"vessel01\", \"vessel01\", \"vessel01\", \"vessel01\", null, \"vessel01\", \"vessel01\", \"vessel01\", \"vessel01\", null, \"vessel01\", \"vessel01\", \"vessel01\", \"vessel01\", null, \"vessel01\", \"vessel01\", \"vessel01\", \"vessel01\", null, \"to_site\", \"to_site\", \"to_site\", \"to_site\", null, \"to_site\", \"to_site\", \"to_site\", \"to_site\", null, \"to_site\", \"to_site\", \"to_site\", \"to_site\", null, \"to_site\", \"to_site\", \"to_site\", \"to_site\", null, \"to_site\", \"to_site\", \"to_site\", \"to_site\", null, \"to_site\", \"to_site\", \"to_site\", \"to_site\", null, \"to_site\", \"to_site\", \"to_site\", \"to_site\", null, \"to_site\", \"to_site\", \"to_site\", \"to_site\", null, \"to_site\", \"to_site\", \"to_site\", \"to_site\", null, \"to_site\", \"to_site\", \"to_site\", \"to_site\", null, \"to_site\", \"to_site\", \"to_site\", \"to_site\", null, \"to_site\", \"to_site\", \"to_site\", \"to_site\", null, \"to_site\", \"to_site\", \"to_site\", \"to_site\", null]}, {\"connectgaps\": false, \"hoverinfo\": \"y+name\", \"line\": {\"color\": \"rgb(96,85,94)\", \"width\": 10}, \"mode\": \"lines\", \"name\": \"c752fb53-40c5-402a-87bd-5fab8fd5fd5b\", \"type\": \"scatter\", \"x\": [\"1970-01-01T00:00:00\", \"1970-01-01T00:00:00\", \"1970-01-01T00:16:40\", \"1970-01-01T00:16:40\", \"1970-01-01T00:16:40\", \"1970-01-01T01:04:45.649183\", \"1970-01-01T01:04:45.649183\", \"1970-01-01T01:21:25.649183\", \"1970-01-01T01:21:25.649183\", \"1970-01-01T01:21:25.649183\", \"1970-01-01T02:09:31.298365\", \"1970-01-01T02:09:31.298365\", \"1970-01-01T02:26:11.298365\", \"1970-01-01T02:26:11.298365\", \"1970-01-01T02:26:11.298365\", \"1970-01-01T03:14:16.947548\", \"1970-01-01T03:14:16.947548\", \"1970-01-01T03:30:56.947548\", \"1970-01-01T03:30:56.947548\", \"1970-01-01T03:30:56.947548\", \"1970-01-01T04:19:02.596730\", \"1970-01-01T04:19:02.596730\", \"1970-01-01T04:35:42.596730\", \"1970-01-01T04:35:42.596730\", \"1970-01-01T04:35:42.596730\", \"1970-01-01T05:23:48.245913\", \"1970-01-01T05:23:48.245913\", \"1970-01-01T05:40:28.245913\", \"1970-01-01T05:40:28.245913\", \"1970-01-01T05:40:28.245913\", \"1970-01-01T06:28:33.895095\", \"1970-01-01T06:28:33.895095\", \"1970-01-01T06:45:13.895095\", \"1970-01-01T06:45:13.895095\", \"1970-01-01T06:45:13.895095\", \"1970-01-01T07:33:19.544278\", \"1970-01-01T07:33:19.544278\", \"1970-01-01T07:49:59.544278\", \"1970-01-01T07:49:59.544278\", \"1970-01-01T07:49:59.544278\", \"1970-01-01T08:38:05.193460\", \"1970-01-01T08:38:05.193460\", \"1970-01-01T08:54:45.193460\", \"1970-01-01T08:54:45.193460\", \"1970-01-01T08:54:45.193460\", \"1970-01-01T09:42:50.842643\", \"1970-01-01T09:42:50.842643\", \"1970-01-01T09:59:30.842643\", \"1970-01-01T09:59:30.842643\", \"1970-01-01T09:59:30.842643\", \"1970-01-01T10:47:36.491825\", \"1970-01-01T10:47:36.491825\", \"1970-01-01T11:04:16.491825\", \"1970-01-01T11:04:16.491825\", \"1970-01-01T11:04:16.491825\", \"1970-01-01T11:52:22.141008\", \"1970-01-01T11:52:22.141008\", \"1970-01-01T12:09:02.141008\", \"1970-01-01T12:09:02.141008\", \"1970-01-01T12:09:02.141008\", \"1970-01-01T12:57:07.790191\", \"1970-01-01T12:57:07.790191\", \"1970-01-01T13:13:47.790191\", \"1970-01-01T13:13:47.790191\", \"1970-01-01T13:13:47.790191\", \"1970-01-01T00:00:00\", \"1970-01-01T00:00:00\", \"1970-01-01T00:16:40\", \"1970-01-01T00:16:40\", \"1970-01-01T00:16:40\", \"1970-01-01T01:04:45.649183\", \"1970-01-01T01:04:45.649183\", \"1970-01-01T01:21:25.649183\", \"1970-01-01T01:21:25.649183\", \"1970-01-01T01:21:25.649183\", \"1970-01-01T02:09:31.298365\", \"1970-01-01T02:09:31.298365\", \"1970-01-01T02:26:11.298365\", \"1970-01-01T02:26:11.298365\", \"1970-01-01T02:26:11.298365\", \"1970-01-01T03:14:16.947548\", \"1970-01-01T03:14:16.947548\", \"1970-01-01T03:30:56.947548\", \"1970-01-01T03:30:56.947548\", \"1970-01-01T03:30:56.947548\", \"1970-01-01T04:19:02.596730\", \"1970-01-01T04:19:02.596730\", \"1970-01-01T04:35:42.596730\", \"1970-01-01T04:35:42.596730\", \"1970-01-01T04:35:42.596730\", \"1970-01-01T05:23:48.245913\", \"1970-01-01T05:23:48.245913\", \"1970-01-01T05:40:28.245913\", \"1970-01-01T05:40:28.245913\", \"1970-01-01T05:40:28.245913\", \"1970-01-01T06:28:33.895095\", \"1970-01-01T06:28:33.895095\", \"1970-01-01T06:45:13.895095\", \"1970-01-01T06:45:13.895095\", \"1970-01-01T06:45:13.895095\", \"1970-01-01T07:33:19.544278\", \"1970-01-01T07:33:19.544278\", \"1970-01-01T07:49:59.544278\", \"1970-01-01T07:49:59.544278\", \"1970-01-01T07:49:59.544278\", \"1970-01-01T08:38:05.193460\", \"1970-01-01T08:38:05.193460\", \"1970-01-01T08:54:45.193460\", \"1970-01-01T08:54:45.193460\", \"1970-01-01T08:54:45.193460\", \"1970-01-01T09:42:50.842643\", \"1970-01-01T09:42:50.842643\", \"1970-01-01T09:59:30.842643\", \"1970-01-01T09:59:30.842643\", \"1970-01-01T09:59:30.842643\", \"1970-01-01T10:47:36.491825\", \"1970-01-01T10:47:36.491825\", \"1970-01-01T11:04:16.491825\", \"1970-01-01T11:04:16.491825\", \"1970-01-01T11:04:16.491825\", \"1970-01-01T11:52:22.141008\", \"1970-01-01T11:52:22.141008\", \"1970-01-01T12:09:02.141008\", \"1970-01-01T12:09:02.141008\", \"1970-01-01T12:09:02.141008\", \"1970-01-01T12:57:07.790191\", \"1970-01-01T12:57:07.790191\", \"1970-01-01T13:13:47.790191\", \"1970-01-01T13:13:47.790191\", \"1970-01-01T13:13:47.790191\"], \"y\": [\"vessel01\", \"vessel01\", \"vessel01\", \"vessel01\", null, \"vessel01\", \"vessel01\", \"vessel01\", \"vessel01\", null, \"vessel01\", \"vessel01\", \"vessel01\", \"vessel01\", null, \"vessel01\", \"vessel01\", \"vessel01\", \"vessel01\", null, \"vessel01\", \"vessel01\", \"vessel01\", \"vessel01\", null, \"vessel01\", \"vessel01\", \"vessel01\", \"vessel01\", null, \"vessel01\", \"vessel01\", \"vessel01\", \"vessel01\", null, \"vessel01\", \"vessel01\", \"vessel01\", \"vessel01\", null, \"vessel01\", \"vessel01\", \"vessel01\", \"vessel01\", null, \"vessel01\", \"vessel01\", \"vessel01\", \"vessel01\", null, \"vessel01\", \"vessel01\", \"vessel01\", \"vessel01\", null, \"vessel01\", \"vessel01\", \"vessel01\", \"vessel01\", null, \"vessel01\", \"vessel01\", \"vessel01\", \"vessel01\", null, \"from_site\", \"from_site\", \"from_site\", \"from_site\", null, \"from_site\", \"from_site\", \"from_site\", \"from_site\", null, \"from_site\", \"from_site\", \"from_site\", \"from_site\", null, \"from_site\", \"from_site\", \"from_site\", \"from_site\", null, \"from_site\", \"from_site\", \"from_site\", \"from_site\", null, \"from_site\", \"from_site\", \"from_site\", \"from_site\", null, \"from_site\", \"from_site\", \"from_site\", \"from_site\", null, \"from_site\", \"from_site\", \"from_site\", \"from_site\", null, \"from_site\", \"from_site\", \"from_site\", \"from_site\", null, \"from_site\", \"from_site\", \"from_site\", \"from_site\", null, \"from_site\", \"from_site\", \"from_site\", \"from_site\", null, \"from_site\", \"from_site\", \"from_site\", \"from_site\", null, \"from_site\", \"from_site\", \"from_site\", \"from_site\", null]}, {\"connectgaps\": false, \"hoverinfo\": \"y+name\", \"line\": {\"color\": \"rgb(132,121,130)\", \"width\": 10}, \"mode\": \"lines\", \"name\": \"51233e51-d0b1-4feb-8729-b0b4b9a93981\", \"type\": \"scatter\", \"x\": [\"1970-01-01T00:32:22.824591\", \"1970-01-01T00:32:22.824591\", \"1970-01-01T00:49:02.824591\", \"1970-01-01T00:49:02.824591\", \"1970-01-01T00:49:02.824591\", \"1970-01-01T01:37:08.473774\", \"1970-01-01T01:37:08.473774\", \"1970-01-01T01:53:48.473774\", \"1970-01-01T01:53:48.473774\", \"1970-01-01T01:53:48.473774\", \"1970-01-01T02:41:54.122956\", \"1970-01-01T02:41:54.122956\", \"1970-01-01T02:58:34.122956\", \"1970-01-01T02:58:34.122956\", \"1970-01-01T02:58:34.122956\", \"1970-01-01T03:46:39.772139\", \"1970-01-01T03:46:39.772139\", \"1970-01-01T04:03:19.772139\", \"1970-01-01T04:03:19.772139\", \"1970-01-01T04:03:19.772139\", \"1970-01-01T04:51:25.421321\", \"1970-01-01T04:51:25.421321\", \"1970-01-01T05:08:05.421321\", \"1970-01-01T05:08:05.421321\", \"1970-01-01T05:08:05.421321\", \"1970-01-01T05:56:11.070504\", \"1970-01-01T05:56:11.070504\", \"1970-01-01T06:12:51.070504\", \"1970-01-01T06:12:51.070504\", \"1970-01-01T06:12:51.070504\", \"1970-01-01T07:00:56.719687\", \"1970-01-01T07:00:56.719687\", \"1970-01-01T07:17:36.719687\", \"1970-01-01T07:17:36.719687\", \"1970-01-01T07:17:36.719687\", \"1970-01-01T08:05:42.368869\", \"1970-01-01T08:05:42.368869\", \"1970-01-01T08:22:22.368869\", \"1970-01-01T08:22:22.368869\", \"1970-01-01T08:22:22.368869\", \"1970-01-01T09:10:28.018052\", \"1970-01-01T09:10:28.018052\", \"1970-01-01T09:27:08.018052\", \"1970-01-01T09:27:08.018052\", \"1970-01-01T09:27:08.018052\", \"1970-01-01T10:15:13.667234\", \"1970-01-01T10:15:13.667234\", \"1970-01-01T10:31:53.667234\", \"1970-01-01T10:31:53.667234\", \"1970-01-01T10:31:53.667234\", \"1970-01-01T11:19:59.316417\", \"1970-01-01T11:19:59.316417\", \"1970-01-01T11:36:39.316417\", \"1970-01-01T11:36:39.316417\", \"1970-01-01T11:36:39.316417\", \"1970-01-01T12:24:44.965599\", \"1970-01-01T12:24:44.965599\", \"1970-01-01T12:41:24.965599\", \"1970-01-01T12:41:24.965599\", \"1970-01-01T12:41:24.965599\", \"1970-01-01T13:29:30.614782\", \"1970-01-01T13:29:30.614782\", \"1970-01-01T13:46:10.614782\", \"1970-01-01T13:46:10.614782\", \"1970-01-01T13:46:10.614782\", \"1970-01-01T00:32:22.824591\", \"1970-01-01T00:32:22.824591\", \"1970-01-01T00:49:02.824591\", \"1970-01-01T00:49:02.824591\", \"1970-01-01T00:49:02.824591\", \"1970-01-01T01:37:08.473774\", \"1970-01-01T01:37:08.473774\", \"1970-01-01T01:53:48.473774\", \"1970-01-01T01:53:48.473774\", \"1970-01-01T01:53:48.473774\", \"1970-01-01T02:41:54.122956\", \"1970-01-01T02:41:54.122956\", \"1970-01-01T02:58:34.122956\", \"1970-01-01T02:58:34.122956\", \"1970-01-01T02:58:34.122956\", \"1970-01-01T03:46:39.772139\", \"1970-01-01T03:46:39.772139\", \"1970-01-01T04:03:19.772139\", \"1970-01-01T04:03:19.772139\", \"1970-01-01T04:03:19.772139\", \"1970-01-01T04:51:25.421321\", \"1970-01-01T04:51:25.421321\", \"1970-01-01T05:08:05.421321\", \"1970-01-01T05:08:05.421321\", \"1970-01-01T05:08:05.421321\", \"1970-01-01T05:56:11.070504\", \"1970-01-01T05:56:11.070504\", \"1970-01-01T06:12:51.070504\", \"1970-01-01T06:12:51.070504\", \"1970-01-01T06:12:51.070504\", \"1970-01-01T07:00:56.719687\", \"1970-01-01T07:00:56.719687\", \"1970-01-01T07:17:36.719687\", \"1970-01-01T07:17:36.719687\", \"1970-01-01T07:17:36.719687\", \"1970-01-01T08:05:42.368869\", \"1970-01-01T08:05:42.368869\", \"1970-01-01T08:22:22.368869\", \"1970-01-01T08:22:22.368869\", \"1970-01-01T08:22:22.368869\", \"1970-01-01T09:10:28.018052\", \"1970-01-01T09:10:28.018052\", \"1970-01-01T09:27:08.018052\", \"1970-01-01T09:27:08.018052\", \"1970-01-01T09:27:08.018052\", \"1970-01-01T10:15:13.667234\", \"1970-01-01T10:15:13.667234\", \"1970-01-01T10:31:53.667234\", \"1970-01-01T10:31:53.667234\", \"1970-01-01T10:31:53.667234\", \"1970-01-01T11:19:59.316417\", \"1970-01-01T11:19:59.316417\", \"1970-01-01T11:36:39.316417\", \"1970-01-01T11:36:39.316417\", \"1970-01-01T11:36:39.316417\", \"1970-01-01T12:24:44.965599\", \"1970-01-01T12:24:44.965599\", \"1970-01-01T12:41:24.965599\", \"1970-01-01T12:41:24.965599\", \"1970-01-01T12:41:24.965599\", \"1970-01-01T13:29:30.614782\", \"1970-01-01T13:29:30.614782\", \"1970-01-01T13:46:10.614782\", \"1970-01-01T13:46:10.614782\", \"1970-01-01T13:46:10.614782\"], \"y\": [\"vessel01\", \"vessel01\", \"vessel01\", \"vessel01\", null, \"vessel01\", \"vessel01\", \"vessel01\", \"vessel01\", null, \"vessel01\", \"vessel01\", \"vessel01\", \"vessel01\", null, \"vessel01\", \"vessel01\", \"vessel01\", \"vessel01\", null, \"vessel01\", \"vessel01\", \"vessel01\", \"vessel01\", null, \"vessel01\", \"vessel01\", \"vessel01\", \"vessel01\", null, \"vessel01\", \"vessel01\", \"vessel01\", \"vessel01\", null, \"vessel01\", \"vessel01\", \"vessel01\", \"vessel01\", null, \"vessel01\", \"vessel01\", \"vessel01\", \"vessel01\", null, \"vessel01\", \"vessel01\", \"vessel01\", \"vessel01\", null, \"vessel01\", \"vessel01\", \"vessel01\", \"vessel01\", null, \"vessel01\", \"vessel01\", \"vessel01\", \"vessel01\", null, \"vessel01\", \"vessel01\", \"vessel01\", \"vessel01\", null, \"to_site\", \"to_site\", \"to_site\", \"to_site\", null, \"to_site\", \"to_site\", \"to_site\", \"to_site\", null, \"to_site\", \"to_site\", \"to_site\", \"to_site\", null, \"to_site\", \"to_site\", \"to_site\", \"to_site\", null, \"to_site\", \"to_site\", \"to_site\", \"to_site\", null, \"to_site\", \"to_site\", \"to_site\", \"to_site\", null, \"to_site\", \"to_site\", \"to_site\", \"to_site\", null, \"to_site\", \"to_site\", \"to_site\", \"to_site\", null, \"to_site\", \"to_site\", \"to_site\", \"to_site\", null, \"to_site\", \"to_site\", \"to_site\", \"to_site\", null, \"to_site\", \"to_site\", \"to_site\", \"to_site\", null, \"to_site\", \"to_site\", \"to_site\", \"to_site\", null, \"to_site\", \"to_site\", \"to_site\", \"to_site\", null]}],                        {\"hovermode\": \"closest\", \"legend\": {\"orientation\": \"h\", \"x\": 0, \"y\": -0.2}, \"template\": {\"data\": {\"bar\": [{\"error_x\": {\"color\": \"#2a3f5f\"}, \"error_y\": {\"color\": \"#2a3f5f\"}, \"marker\": {\"line\": {\"color\": \"#E5ECF6\", \"width\": 0.5}}, \"type\": \"bar\"}], \"barpolar\": [{\"marker\": {\"line\": {\"color\": \"#E5ECF6\", \"width\": 0.5}}, \"type\": \"barpolar\"}], \"carpet\": [{\"aaxis\": {\"endlinecolor\": \"#2a3f5f\", \"gridcolor\": \"white\", \"linecolor\": \"white\", \"minorgridcolor\": \"white\", \"startlinecolor\": \"#2a3f5f\"}, \"baxis\": {\"endlinecolor\": \"#2a3f5f\", \"gridcolor\": \"white\", \"linecolor\": \"white\", \"minorgridcolor\": \"white\", \"startlinecolor\": \"#2a3f5f\"}, \"type\": \"carpet\"}], \"choropleth\": [{\"colorbar\": {\"outlinewidth\": 0, \"ticks\": \"\"}, \"type\": \"choropleth\"}], \"contour\": [{\"colorbar\": {\"outlinewidth\": 0, \"ticks\": \"\"}, \"colorscale\": [[0.0, \"#0d0887\"], [0.1111111111111111, \"#46039f\"], [0.2222222222222222, \"#7201a8\"], [0.3333333333333333, \"#9c179e\"], [0.4444444444444444, \"#bd3786\"], [0.5555555555555556, \"#d8576b\"], [0.6666666666666666, \"#ed7953\"], [0.7777777777777778, \"#fb9f3a\"], [0.8888888888888888, \"#fdca26\"], [1.0, \"#f0f921\"]], \"type\": \"contour\"}], \"contourcarpet\": [{\"colorbar\": {\"outlinewidth\": 0, \"ticks\": \"\"}, \"type\": \"contourcarpet\"}], \"heatmap\": [{\"colorbar\": {\"outlinewidth\": 0, \"ticks\": \"\"}, \"colorscale\": [[0.0, \"#0d0887\"], [0.1111111111111111, \"#46039f\"], [0.2222222222222222, \"#7201a8\"], [0.3333333333333333, \"#9c179e\"], [0.4444444444444444, \"#bd3786\"], [0.5555555555555556, \"#d8576b\"], [0.6666666666666666, \"#ed7953\"], [0.7777777777777778, \"#fb9f3a\"], [0.8888888888888888, \"#fdca26\"], [1.0, \"#f0f921\"]], \"type\": \"heatmap\"}], \"heatmapgl\": [{\"colorbar\": {\"outlinewidth\": 0, \"ticks\": \"\"}, \"colorscale\": [[0.0, \"#0d0887\"], [0.1111111111111111, \"#46039f\"], [0.2222222222222222, \"#7201a8\"], [0.3333333333333333, \"#9c179e\"], [0.4444444444444444, \"#bd3786\"], [0.5555555555555556, \"#d8576b\"], [0.6666666666666666, \"#ed7953\"], [0.7777777777777778, \"#fb9f3a\"], [0.8888888888888888, \"#fdca26\"], [1.0, \"#f0f921\"]], \"type\": \"heatmapgl\"}], \"histogram\": [{\"marker\": {\"colorbar\": {\"outlinewidth\": 0, \"ticks\": \"\"}}, \"type\": \"histogram\"}], \"histogram2d\": [{\"colorbar\": {\"outlinewidth\": 0, \"ticks\": \"\"}, \"colorscale\": [[0.0, \"#0d0887\"], [0.1111111111111111, \"#46039f\"], [0.2222222222222222, \"#7201a8\"], [0.3333333333333333, \"#9c179e\"], [0.4444444444444444, \"#bd3786\"], [0.5555555555555556, \"#d8576b\"], [0.6666666666666666, \"#ed7953\"], [0.7777777777777778, \"#fb9f3a\"], [0.8888888888888888, \"#fdca26\"], [1.0, \"#f0f921\"]], \"type\": \"histogram2d\"}], \"histogram2dcontour\": [{\"colorbar\": {\"outlinewidth\": 0, \"ticks\": \"\"}, \"colorscale\": [[0.0, \"#0d0887\"], [0.1111111111111111, \"#46039f\"], [0.2222222222222222, \"#7201a8\"], [0.3333333333333333, \"#9c179e\"], [0.4444444444444444, \"#bd3786\"], [0.5555555555555556, \"#d8576b\"], [0.6666666666666666, \"#ed7953\"], [0.7777777777777778, \"#fb9f3a\"], [0.8888888888888888, \"#fdca26\"], [1.0, \"#f0f921\"]], \"type\": \"histogram2dcontour\"}], \"mesh3d\": [{\"colorbar\": {\"outlinewidth\": 0, \"ticks\": \"\"}, \"type\": \"mesh3d\"}], \"parcoords\": [{\"line\": {\"colorbar\": {\"outlinewidth\": 0, \"ticks\": \"\"}}, \"type\": \"parcoords\"}], \"pie\": [{\"automargin\": true, \"type\": \"pie\"}], \"scatter\": [{\"marker\": {\"colorbar\": {\"outlinewidth\": 0, \"ticks\": \"\"}}, \"type\": \"scatter\"}], \"scatter3d\": [{\"line\": {\"colorbar\": {\"outlinewidth\": 0, \"ticks\": \"\"}}, \"marker\": {\"colorbar\": {\"outlinewidth\": 0, \"ticks\": \"\"}}, \"type\": \"scatter3d\"}], \"scattercarpet\": [{\"marker\": {\"colorbar\": {\"outlinewidth\": 0, \"ticks\": \"\"}}, \"type\": \"scattercarpet\"}], \"scattergeo\": [{\"marker\": {\"colorbar\": {\"outlinewidth\": 0, \"ticks\": \"\"}}, \"type\": \"scattergeo\"}], \"scattergl\": [{\"marker\": {\"colorbar\": {\"outlinewidth\": 0, \"ticks\": \"\"}}, \"type\": \"scattergl\"}], \"scattermapbox\": [{\"marker\": {\"colorbar\": {\"outlinewidth\": 0, \"ticks\": \"\"}}, \"type\": \"scattermapbox\"}], \"scatterpolar\": [{\"marker\": {\"colorbar\": {\"outlinewidth\": 0, \"ticks\": \"\"}}, \"type\": \"scatterpolar\"}], \"scatterpolargl\": [{\"marker\": {\"colorbar\": {\"outlinewidth\": 0, \"ticks\": \"\"}}, \"type\": \"scatterpolargl\"}], \"scatterternary\": [{\"marker\": {\"colorbar\": {\"outlinewidth\": 0, \"ticks\": \"\"}}, \"type\": \"scatterternary\"}], \"surface\": [{\"colorbar\": {\"outlinewidth\": 0, \"ticks\": \"\"}, \"colorscale\": [[0.0, \"#0d0887\"], [0.1111111111111111, \"#46039f\"], [0.2222222222222222, \"#7201a8\"], [0.3333333333333333, \"#9c179e\"], [0.4444444444444444, \"#bd3786\"], [0.5555555555555556, \"#d8576b\"], [0.6666666666666666, \"#ed7953\"], [0.7777777777777778, \"#fb9f3a\"], [0.8888888888888888, \"#fdca26\"], [1.0, \"#f0f921\"]], \"type\": \"surface\"}], \"table\": [{\"cells\": {\"fill\": {\"color\": \"#EBF0F8\"}, \"line\": {\"color\": \"white\"}}, \"header\": {\"fill\": {\"color\": \"#C8D4E3\"}, \"line\": {\"color\": \"white\"}}, \"type\": \"table\"}]}, \"layout\": {\"annotationdefaults\": {\"arrowcolor\": \"#2a3f5f\", \"arrowhead\": 0, \"arrowwidth\": 1}, \"coloraxis\": {\"colorbar\": {\"outlinewidth\": 0, \"ticks\": \"\"}}, \"colorscale\": {\"diverging\": [[0, \"#8e0152\"], [0.1, \"#c51b7d\"], [0.2, \"#de77ae\"], [0.3, \"#f1b6da\"], [0.4, \"#fde0ef\"], [0.5, \"#f7f7f7\"], [0.6, \"#e6f5d0\"], [0.7, \"#b8e186\"], [0.8, \"#7fbc41\"], [0.9, \"#4d9221\"], [1, \"#276419\"]], \"sequential\": [[0.0, \"#0d0887\"], [0.1111111111111111, \"#46039f\"], [0.2222222222222222, \"#7201a8\"], [0.3333333333333333, \"#9c179e\"], [0.4444444444444444, \"#bd3786\"], [0.5555555555555556, \"#d8576b\"], [0.6666666666666666, \"#ed7953\"], [0.7777777777777778, \"#fb9f3a\"], [0.8888888888888888, \"#fdca26\"], [1.0, \"#f0f921\"]], \"sequentialminus\": [[0.0, \"#0d0887\"], [0.1111111111111111, \"#46039f\"], [0.2222222222222222, \"#7201a8\"], [0.3333333333333333, \"#9c179e\"], [0.4444444444444444, \"#bd3786\"], [0.5555555555555556, \"#d8576b\"], [0.6666666666666666, \"#ed7953\"], [0.7777777777777778, \"#fb9f3a\"], [0.8888888888888888, \"#fdca26\"], [1.0, \"#f0f921\"]]}, \"colorway\": [\"#636efa\", \"#EF553B\", \"#00cc96\", \"#ab63fa\", \"#FFA15A\", \"#19d3f3\", \"#FF6692\", \"#B6E880\", \"#FF97FF\", \"#FECB52\"], \"font\": {\"color\": \"#2a3f5f\"}, \"geo\": {\"bgcolor\": \"white\", \"lakecolor\": \"white\", \"landcolor\": \"#E5ECF6\", \"showlakes\": true, \"showland\": true, \"subunitcolor\": \"white\"}, \"hoverlabel\": {\"align\": \"left\"}, \"hovermode\": \"closest\", \"mapbox\": {\"style\": \"light\"}, \"paper_bgcolor\": \"white\", \"plot_bgcolor\": \"#E5ECF6\", \"polar\": {\"angularaxis\": {\"gridcolor\": \"white\", \"linecolor\": \"white\", \"ticks\": \"\"}, \"bgcolor\": \"#E5ECF6\", \"radialaxis\": {\"gridcolor\": \"white\", \"linecolor\": \"white\", \"ticks\": \"\"}}, \"scene\": {\"xaxis\": {\"backgroundcolor\": \"#E5ECF6\", \"gridcolor\": \"white\", \"gridwidth\": 2, \"linecolor\": \"white\", \"showbackground\": true, \"ticks\": \"\", \"zerolinecolor\": \"white\"}, \"yaxis\": {\"backgroundcolor\": \"#E5ECF6\", \"gridcolor\": \"white\", \"gridwidth\": 2, \"linecolor\": \"white\", \"showbackground\": true, \"ticks\": \"\", \"zerolinecolor\": \"white\"}, \"zaxis\": {\"backgroundcolor\": \"#E5ECF6\", \"gridcolor\": \"white\", \"gridwidth\": 2, \"linecolor\": \"white\", \"showbackground\": true, \"ticks\": \"\", \"zerolinecolor\": \"white\"}}, \"shapedefaults\": {\"line\": {\"color\": \"#2a3f5f\"}}, \"ternary\": {\"aaxis\": {\"gridcolor\": \"white\", \"linecolor\": \"white\", \"ticks\": \"\"}, \"baxis\": {\"gridcolor\": \"white\", \"linecolor\": \"white\", \"ticks\": \"\"}, \"bgcolor\": \"#E5ECF6\", \"caxis\": {\"gridcolor\": \"white\", \"linecolor\": \"white\", \"ticks\": \"\"}}, \"title\": {\"x\": 0.05}, \"xaxis\": {\"automargin\": true, \"gridcolor\": \"white\", \"linecolor\": \"white\", \"ticks\": \"\", \"title\": {\"standoff\": 15}, \"zerolinecolor\": \"white\", \"zerolinewidth\": 2}, \"yaxis\": {\"automargin\": true, \"gridcolor\": \"white\", \"linecolor\": \"white\", \"ticks\": \"\", \"title\": {\"standoff\": 15}, \"zerolinecolor\": \"white\", \"zerolinewidth\": 2}}}, \"title\": {\"text\": \"Vessel planning\"}, \"xaxis\": {\"range\": [\"1970-01-01T00:00:00\", \"1970-01-01T13:46:10.614782\"], \"title\": {\"font\": {\"color\": \"#7f7f7f\", \"family\": \"Courier New, monospace\", \"size\": 18}, \"text\": \"Time\"}}, \"yaxis\": {\"title\": {\"font\": {\"color\": \"#7f7f7f\", \"family\": \"Courier New, monospace\", \"size\": 18}, \"text\": \"Vessels\"}}},                        {\"responsive\": true}                    ).then(function(){\n",
       "                            \n",
       "var gd = document.getElementById('8b728ed6-81da-4d51-878d-eb1c019754da');\n",
       "var x = new MutationObserver(function (mutations, observer) {{\n",
       "        var display = window.getComputedStyle(gd).display;\n",
       "        if (!display || display === 'none') {{\n",
       "            console.log([gd, 'removed!']);\n",
       "            Plotly.purge(gd);\n",
       "            observer.disconnect();\n",
       "        }}\n",
       "}});\n",
       "\n",
       "// Listen for the removal of the full notebook cells\n",
       "var notebookContainer = gd.closest('#notebook-container');\n",
       "if (notebookContainer) {{\n",
       "    x.observe(notebookContainer, {childList: true});\n",
       "}}\n",
       "\n",
       "// Listen for the clearing of the current output cell\n",
       "var outputEl = gd.closest('.output');\n",
       "if (outputEl) {{\n",
       "    x.observe(outputEl, {childList: true});\n",
       "}}\n",
       "\n",
       "                        })                };                });            </script>        </div>"
      ]
     },
     "metadata": {},
     "output_type": "display_data"
    }
   ],
   "source": [
    "plot.vessel_planning([vessel01, from_site, to_site])"
   ]
  },
  {
   "cell_type": "markdown",
   "metadata": {},
   "source": [
    "##### 5.3 Visualise container volume developments"
   ]
  },
  {
   "cell_type": "code",
   "execution_count": 12,
   "metadata": {},
   "outputs": [
    {
     "data": {
      "image/png": "[encoded data removed]",
      "text/plain": [
       "<Figure size 432x288 with 1 Axes>"
      ]
     },
     "metadata": {
      "needs_background": "light"
     },
     "output_type": "display_data"
    }
   ],
   "source": [
    "fig = plot.get_step_chart([from_site, vessel01, to_site])"
   ]
  },
  {
   "cell_type": "markdown",
   "metadata": {},
   "source": [
    "#### Sandbox"
   ]
  },
  {
   "cell_type": "code",
   "execution_count": 13,
   "metadata": {},
   "outputs": [
    {
     "data": {
      "text/html": [
       "<div>\n",
       "<style scoped>\n",
       "    .dataframe tbody tr th:only-of-type {\n",
       "        vertical-align: middle;\n",
       "    }\n",
       "\n",
       "    .dataframe tbody tr th {\n",
       "        vertical-align: top;\n",
       "    }\n",
       "\n",
       "    .dataframe thead th {\n",
       "        text-align: right;\n",
       "    }\n",
       "</style>\n",
       "<table border=\"1\" class=\"dataframe\">\n",
       "  <thead>\n",
       "    <tr style=\"text-align: right;\">\n",
       "      <th></th>\n",
       "      <th>Timestamp</th>\n",
       "      <th>ActivityID</th>\n",
       "      <th>ActivityState</th>\n",
       "      <th>ObjectState</th>\n",
       "      <th>ActivityLabel</th>\n",
       "    </tr>\n",
       "  </thead>\n",
       "  <tbody>\n",
       "    <tr>\n",
       "      <th>0</th>\n",
       "      <td>1970-01-01 00:00:00.000000</td>\n",
       "      <td>91985ff3-457e-4e0f-b70f-ded9106b34a2</td>\n",
       "      <td>START</td>\n",
       "      <td>{'geometry': POINT (4.18055556 52.18664444), '...</td>\n",
       "      <td>{}</td>\n",
       "    </tr>\n",
       "    <tr>\n",
       "      <th>1</th>\n",
       "      <td>1970-01-01 00:00:00.000000</td>\n",
       "      <td>91985ff3-457e-4e0f-b70f-ded9106b34a2</td>\n",
       "      <td>STOP</td>\n",
       "      <td>{'geometry': POINT (4.18055556 52.18664444), '...</td>\n",
       "      <td>{}</td>\n",
       "    </tr>\n",
       "    <tr>\n",
       "      <th>2</th>\n",
       "      <td>1970-01-01 00:00:00.000000</td>\n",
       "      <td>c752fb53-40c5-402a-87bd-5fab8fd5fd5b</td>\n",
       "      <td>START</td>\n",
       "      <td>{'geometry': POINT (4.18055556 52.18664444), '...</td>\n",
       "      <td>{}</td>\n",
       "    </tr>\n",
       "    <tr>\n",
       "      <th>3</th>\n",
       "      <td>1970-01-01 00:16:40.000000</td>\n",
       "      <td>c752fb53-40c5-402a-87bd-5fab8fd5fd5b</td>\n",
       "      <td>STOP</td>\n",
       "      <td>{'geometry': POINT (4.18055556 52.18664444), '...</td>\n",
       "      <td>{}</td>\n",
       "    </tr>\n",
       "    <tr>\n",
       "      <th>4</th>\n",
       "      <td>1970-01-01 00:16:40.000000</td>\n",
       "      <td>e02c4c2d-4cdd-4185-984a-5c35b5b4566c</td>\n",
       "      <td>START</td>\n",
       "      <td>{'geometry': POINT (4.18055556 52.18664444), '...</td>\n",
       "      <td>{}</td>\n",
       "    </tr>\n",
       "    <tr>\n",
       "      <th>...</th>\n",
       "      <td>...</td>\n",
       "      <td>...</td>\n",
       "      <td>...</td>\n",
       "      <td>...</td>\n",
       "      <td>...</td>\n",
       "    </tr>\n",
       "    <tr>\n",
       "      <th>125</th>\n",
       "      <td>1970-01-01 13:29:30.614782</td>\n",
       "      <td>e02c4c2d-4cdd-4185-984a-5c35b5b4566c</td>\n",
       "      <td>STOP</td>\n",
       "      <td>{'geometry': POINT (4.25222222 52.11428333), '...</td>\n",
       "      <td>{}</td>\n",
       "    </tr>\n",
       "    <tr>\n",
       "      <th>126</th>\n",
       "      <td>1970-01-01 13:29:30.614782</td>\n",
       "      <td>51233e51-d0b1-4feb-8729-b0b4b9a93981</td>\n",
       "      <td>START</td>\n",
       "      <td>{'geometry': POINT (4.25222222 52.11428333), '...</td>\n",
       "      <td>{}</td>\n",
       "    </tr>\n",
       "    <tr>\n",
       "      <th>127</th>\n",
       "      <td>1970-01-01 13:46:10.614782</td>\n",
       "      <td>51233e51-d0b1-4feb-8729-b0b4b9a93981</td>\n",
       "      <td>STOP</td>\n",
       "      <td>{'geometry': POINT (4.25222222 52.11428333), '...</td>\n",
       "      <td>{}</td>\n",
       "    </tr>\n",
       "    <tr>\n",
       "      <th>128</th>\n",
       "      <td>1970-01-01 13:46:10.614782</td>\n",
       "      <td>6df6fa10-9cd3-4c4a-9b5c-5a72ab1881be</td>\n",
       "      <td>START</td>\n",
       "      <td>{'geometry': POINT (4.25222222 52.11428333), '...</td>\n",
       "      <td>{'type': 'additional log', 'ref': '6df6fa10-9c...</td>\n",
       "    </tr>\n",
       "    <tr>\n",
       "      <th>129</th>\n",
       "      <td>1970-01-01 13:46:10.614782</td>\n",
       "      <td>6df6fa10-9cd3-4c4a-9b5c-5a72ab1881be</td>\n",
       "      <td>STOP</td>\n",
       "      <td>{'geometry': POINT (4.25222222 52.11428333), '...</td>\n",
       "      <td>{'type': 'additional log', 'ref': '6df6fa10-9c...</td>\n",
       "    </tr>\n",
       "  </tbody>\n",
       "</table>\n",
       "<p>130 rows × 5 columns</p>\n",
       "</div>"
      ],
      "text/plain": [
       "                     Timestamp                            ActivityID  \\\n",
       "0   1970-01-01 00:00:00.000000  91985ff3-457e-4e0f-b70f-ded9106b34a2   \n",
       "1   1970-01-01 00:00:00.000000  91985ff3-457e-4e0f-b70f-ded9106b34a2   \n",
       "2   1970-01-01 00:00:00.000000  c752fb53-40c5-402a-87bd-5fab8fd5fd5b   \n",
       "3   1970-01-01 00:16:40.000000  c752fb53-40c5-402a-87bd-5fab8fd5fd5b   \n",
       "4   1970-01-01 00:16:40.000000  e02c4c2d-4cdd-4185-984a-5c35b5b4566c   \n",
       "..                         ...                                   ...   \n",
       "125 1970-01-01 13:29:30.614782  e02c4c2d-4cdd-4185-984a-5c35b5b4566c   \n",
       "126 1970-01-01 13:29:30.614782  51233e51-d0b1-4feb-8729-b0b4b9a93981   \n",
       "127 1970-01-01 13:46:10.614782  51233e51-d0b1-4feb-8729-b0b4b9a93981   \n",
       "128 1970-01-01 13:46:10.614782  6df6fa10-9cd3-4c4a-9b5c-5a72ab1881be   \n",
       "129 1970-01-01 13:46:10.614782  6df6fa10-9cd3-4c4a-9b5c-5a72ab1881be   \n",
       "\n",
       "    ActivityState                                        ObjectState  \\\n",
       "0           START  {'geometry': POINT (4.18055556 52.18664444), '...   \n",
       "1            STOP  {'geometry': POINT (4.18055556 52.18664444), '...   \n",
       "2           START  {'geometry': POINT (4.18055556 52.18664444), '...   \n",
       "3            STOP  {'geometry': POINT (4.18055556 52.18664444), '...   \n",
       "4           START  {'geometry': POINT (4.18055556 52.18664444), '...   \n",
       "..            ...                                                ...   \n",
       "125          STOP  {'geometry': POINT (4.25222222 52.11428333), '...   \n",
       "126         START  {'geometry': POINT (4.25222222 52.11428333), '...   \n",
       "127          STOP  {'geometry': POINT (4.25222222 52.11428333), '...   \n",
       "128         START  {'geometry': POINT (4.25222222 52.11428333), '...   \n",
       "129          STOP  {'geometry': POINT (4.25222222 52.11428333), '...   \n",
       "\n",
       "                                         ActivityLabel  \n",
       "0                                                   {}  \n",
       "1                                                   {}  \n",
       "2                                                   {}  \n",
       "3                                                   {}  \n",
       "4                                                   {}  \n",
       "..                                                 ...  \n",
       "125                                                 {}  \n",
       "126                                                 {}  \n",
       "127                                                 {}  \n",
       "128  {'type': 'additional log', 'ref': '6df6fa10-9c...  \n",
       "129  {'type': 'additional log', 'ref': '6df6fa10-9c...  \n",
       "\n",
       "[130 rows x 5 columns]"
      ]
     },
     "execution_count": 13,
     "metadata": {},
     "output_type": "execute_result"
    }
   ],
   "source": [
    "pd.DataFrame.from_dict(vessel01.log)"
   ]
  },
  {
   "cell_type": "code",
   "execution_count": 14,
   "metadata": {},
   "outputs": [
    {
     "data": {
      "text/plain": [
       "['91985ff3-457e-4e0f-b70f-ded9106b34a2',\n",
       " '6df6fa10-9cd3-4c4a-9b5c-5a72ab1881be',\n",
       " 'c752fb53-40c5-402a-87bd-5fab8fd5fd5b',\n",
       " 'e02c4c2d-4cdd-4185-984a-5c35b5b4566c',\n",
       " '51233e51-d0b1-4feb-8729-b0b4b9a93981']"
      ]
     },
     "execution_count": 14,
     "metadata": {},
     "output_type": "execute_result"
    }
   ],
   "source": [
    "list(set(vessel01.log[\"ActivityID\"]))"
   ]
  }
 ],
 "metadata": {
  "kernelspec": {
   "display_name": "Python 3",
   "language": "python",
   "name": "python3"
  },
  "language_info": {
   "codemirror_mode": {
    "name": "ipython",
    "version": 3
   },
   "file_extension": ".py",
   "mimetype": "text/x-python",
   "name": "python",
   "nbconvert_exporter": "python",
   "pygments_lexer": "ipython3",
   "version": "3.8.6"
  }
 },
 "nbformat": 4,
 "nbformat_minor": 2
}
