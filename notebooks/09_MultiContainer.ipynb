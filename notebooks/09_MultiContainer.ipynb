{
 "cells": [
  {
   "cell_type": "markdown",
   "metadata": {},
   "source": [
    "# Demo MultiContainer with ShiftAmount Activity\n",
    "In certain scenarios it is important to distinguish which types of objects are available in a container. HasContainer does not provide this capability, while MultiContainer do. A MultiContainer represents a named set of containers. The number of allowed containers is limited by parameter **store_capacity**.\n",
    "For each container a name (**id_** property), a **capacity** and **level** is specified. \n",
    "A MultiContainer can be initialized with parameter **initials** as provided in the example for site and vessel configuration below."
   ]
  },
  {
   "cell_type": "code",
   "execution_count": 1,
   "metadata": {},
   "outputs": [],
   "source": [
    "import datetime, time\n",
    "import simpy\n",
    "\n",
    "import shapely.geometry\n",
    "\n",
    "import pandas as pd\n",
    "import openclsim.core as core\n",
    "import openclsim.model as model\n",
    "import openclsim.plot as plot\n",
    "\n",
    "# setup environment\n",
    "simulation_start = 0\n",
    "my_env = simpy.Environment(initial_time=simulation_start)\n",
    "registry = {}"
   ]
  },
  {
   "cell_type": "markdown",
   "metadata": {},
   "source": [
    "## Definition of Site with MultiContainer\n",
    "The clas HasContainer has now been replaced with HasMultiContainer. The **from_site** can contain four different container types, but right now contains only two: One called MP with a capacity of 10 and a level of 2 and one called TP with a capacity of 2 and a level of 0."
   ]
  },
  {
   "cell_type": "code",
   "execution_count": 2,
   "metadata": {},
   "outputs": [],
   "source": [
    "# The generic site class\n",
    "Site = type(\n",
    "    \"Site\",\n",
    "    (\n",
    "        core.Identifiable,  # Give it a name\n",
    "        core.Log,  # Allow logging of all discrete events\n",
    "        core.Locatable,  # Add coordinates to extract distance information and visualize\n",
    "        core.HasMultiContainer,  # Add information on the material available at the site\n",
    "        core.HasResource,\n",
    "    ),  # Add information on serving equipment\n",
    "    {},\n",
    ")  # The dictionary is empty because the site type is generic\n",
    "\n",
    "# Information on the extraction site - the \"from site\" - the \"win locatie\"\n",
    "location_from_site = shapely.geometry.Point(4.18055556, 52.18664444)  # lon, lat\n",
    "\n",
    "data_from_site = {\n",
    "    \"env\": my_env,  # The simpy environment defined in the first cel\n",
    "    \"name\": \"Winlocatie\",  # The name of the site\n",
    "    \"ID\": \"6dbbbdf4-4589-11e9-a501-b469212bff5d\",  # For logging purposes\n",
    "    \"geometry\": location_from_site,  # The coordinates of the project site\n",
    "    \"store_capacity\": 4,\n",
    "    \"initials\": [\n",
    "        {\"id\": \"MP\", \"level\": 2, \"capacity\": 10},\n",
    "        {\"id\": \"TP\", \"level\": 0, \"capacity\": 2},\n",
    "    ],  # Capacity of the hopper - \"Beunvolume\"\n",
    "}  # The actual volume of the site\n",
    "from_site = Site(**data_from_site)"
   ]
  },
  {
   "cell_type": "markdown",
   "metadata": {},
   "source": [
    "## Creation of Vessel with MultiContainer\n",
    "The class ContainerDependentMovable has been replaced with MultiContainerDependentMovable. The vessel has two containers, one for MPs and one for TPs, each with a capacity of two and a current level of zero."
   ]
  },
  {
   "cell_type": "code",
   "execution_count": 3,
   "metadata": {},
   "outputs": [],
   "source": [
    "# The generic class for an object that can move and transport (a TSHD for example)\n",
    "TransportProcessingResource = type(\n",
    "    \"TransportProcessingResource\",\n",
    "    (\n",
    "        core.Identifiable,  # Give it a name\n",
    "        core.Log,  # Allow logging of all discrete events\n",
    "        core.MultiContainerDependentMovable,  # A moving container, so capacity and location\n",
    "        core.Processor,  # Allow for loading and unloading\n",
    "        core.HasResource,  # Add information on serving equipment\n",
    "        core.LoadingFunction,  # Add a loading function\n",
    "        core.UnloadingFunction,  # Add an unloading function\n",
    "    ),\n",
    "    {},\n",
    ")\n",
    "\n",
    "# For more realistic simulation you might want to have speed dependent on the volume carried by the vessel\n",
    "def compute_v_provider(v_empty, v_full):\n",
    "    return lambda x: 10\n",
    "\n",
    "# TSHD variables\n",
    "data_hopper = {\n",
    "    \"env\": my_env,  # The simpy environment\n",
    "    \"name\": \"Hopper 01\",  # Name\n",
    "    \"ID\": \"6dbbbdf6-4589-11e9-95a2-b469212bff5b\",  # For logging purposes\n",
    "    \"geometry\": location_from_site,  # It starts at the \"from site\"\n",
    "    \"loading_rate\": 1,  # Loading rate\n",
    "    \"unloading_rate\": 1,  # Unloading rate\n",
    "    \"store_capacity\": 4,\n",
    "    \"initials\": [\n",
    "        {\"id\": \"MP\", \"level\": 0, \"capacity\": 2},\n",
    "        {\"id\": \"TP\", \"level\": 0, \"capacity\": 2},\n",
    "    ],  # Capacity of the hopper - \"Beunvolume\"\n",
    "    \"compute_v\": compute_v_provider(5, 4.5),  # Variable speed\n",
    "}\n",
    "\n",
    "hopper = TransportProcessingResource(**data_hopper)"
   ]
  },
  {
   "cell_type": "markdown",
   "metadata": {},
   "source": [
    "## ShiftAmount Activity for MultiContainer\n",
    "The **amount** specifies the objects to be transfered and the **id_** parameter specifies to which container this activity relates."
   ]
  },
  {
   "cell_type": "code",
   "execution_count": 4,
   "metadata": {},
   "outputs": [],
   "source": [
    "shift_amount_activity_loading_data = {\n",
    "    \"env\": my_env,  # The simpy environment defined in the first cel\n",
    "    \"name\": \"Transfer MP\",  # We are moving soil\n",
    "    \"ID\": \"6dbbbdf7-4589-11e9-bf3b-b469212bff52\",  # For logging purposes\n",
    "    \"registry\": registry,\n",
    "    \"processor\": hopper,\n",
    "    \"origin\": from_site,\n",
    "    \"destination\": hopper,\n",
    "    \"amount\": 1,\n",
    "    \"id_\":\"MP\",\n",
    "    \"duration\": 20,\n",
    "    \"postpone_start\": False,\n",
    "}\n",
    "activity = model.ShiftAmountActivity(**shift_amount_activity_loading_data)\n"
   ]
  },
  {
   "cell_type": "markdown",
   "metadata": {},
   "source": [
    "## Run simulation"
   ]
  },
  {
   "cell_type": "code",
   "execution_count": 5,
   "metadata": {},
   "outputs": [],
   "source": [
    "my_env.run()"
   ]
  },
  {
   "cell_type": "code",
   "execution_count": 7,
   "metadata": {},
   "outputs": [
    {
     "data": {
      "text/html": [
       "<style  type=\"text/css\" >\n",
       "</style><table id=\"T_5f3c5f1a_19cb_11eb_9f2b_0242ac140002\" ><caption>Log of the Hopper 01</caption><thead>    <tr>        <th class=\"blank level0\" ></th>        <th class=\"col_heading level0 col0\" >Timestamp</th>        <th class=\"col_heading level0 col1\" >Activity</th>        <th class=\"col_heading level0 col2\" >ActivityState</th>        <th class=\"col_heading level0 col3\" >geometry</th>        <th class=\"col_heading level0 col4\" >container level</th>        <th class=\"col_heading level0 col5\" >container level MP</th>        <th class=\"col_heading level0 col6\" >container level TP</th>    </tr></thead><tbody>\n",
       "                <tr>\n",
       "                        <th id=\"T_5f3c5f1a_19cb_11eb_9f2b_0242ac140002level0_row0\" class=\"row_heading level0 row0\" >0</th>\n",
       "                        <td id=\"T_5f3c5f1a_19cb_11eb_9f2b_0242ac140002row0_col0\" class=\"data row0 col0\" >1970-01-01 00:00:00</td>\n",
       "                        <td id=\"T_5f3c5f1a_19cb_11eb_9f2b_0242ac140002row0_col1\" class=\"data row0 col1\" >Transfer MP</td>\n",
       "                        <td id=\"T_5f3c5f1a_19cb_11eb_9f2b_0242ac140002row0_col2\" class=\"data row0 col2\" >START</td>\n",
       "                        <td id=\"T_5f3c5f1a_19cb_11eb_9f2b_0242ac140002row0_col3\" class=\"data row0 col3\" >POINT (4.18055556 52.18664444)</td>\n",
       "                        <td id=\"T_5f3c5f1a_19cb_11eb_9f2b_0242ac140002row0_col4\" class=\"data row0 col4\" >0</td>\n",
       "                        <td id=\"T_5f3c5f1a_19cb_11eb_9f2b_0242ac140002row0_col5\" class=\"data row0 col5\" >0</td>\n",
       "                        <td id=\"T_5f3c5f1a_19cb_11eb_9f2b_0242ac140002row0_col6\" class=\"data row0 col6\" >0</td>\n",
       "            </tr>\n",
       "            <tr>\n",
       "                        <th id=\"T_5f3c5f1a_19cb_11eb_9f2b_0242ac140002level0_row1\" class=\"row_heading level0 row1\" >1</th>\n",
       "                        <td id=\"T_5f3c5f1a_19cb_11eb_9f2b_0242ac140002row1_col0\" class=\"data row1 col0\" >1970-01-01 00:00:00</td>\n",
       "                        <td id=\"T_5f3c5f1a_19cb_11eb_9f2b_0242ac140002row1_col1\" class=\"data row1 col1\" >Transfer MP</td>\n",
       "                        <td id=\"T_5f3c5f1a_19cb_11eb_9f2b_0242ac140002row1_col2\" class=\"data row1 col2\" >START</td>\n",
       "                        <td id=\"T_5f3c5f1a_19cb_11eb_9f2b_0242ac140002row1_col3\" class=\"data row1 col3\" >POINT (4.18055556 52.18664444)</td>\n",
       "                        <td id=\"T_5f3c5f1a_19cb_11eb_9f2b_0242ac140002row1_col4\" class=\"data row1 col4\" >0</td>\n",
       "                        <td id=\"T_5f3c5f1a_19cb_11eb_9f2b_0242ac140002row1_col5\" class=\"data row1 col5\" >0</td>\n",
       "                        <td id=\"T_5f3c5f1a_19cb_11eb_9f2b_0242ac140002row1_col6\" class=\"data row1 col6\" >0</td>\n",
       "            </tr>\n",
       "            <tr>\n",
       "                        <th id=\"T_5f3c5f1a_19cb_11eb_9f2b_0242ac140002level0_row2\" class=\"row_heading level0 row2\" >2</th>\n",
       "                        <td id=\"T_5f3c5f1a_19cb_11eb_9f2b_0242ac140002row2_col0\" class=\"data row2 col0\" >1970-01-01 00:00:20</td>\n",
       "                        <td id=\"T_5f3c5f1a_19cb_11eb_9f2b_0242ac140002row2_col1\" class=\"data row2 col1\" >Transfer MP</td>\n",
       "                        <td id=\"T_5f3c5f1a_19cb_11eb_9f2b_0242ac140002row2_col2\" class=\"data row2 col2\" >STOP</td>\n",
       "                        <td id=\"T_5f3c5f1a_19cb_11eb_9f2b_0242ac140002row2_col3\" class=\"data row2 col3\" >POINT (4.18055556 52.18664444)</td>\n",
       "                        <td id=\"T_5f3c5f1a_19cb_11eb_9f2b_0242ac140002row2_col4\" class=\"data row2 col4\" >0</td>\n",
       "                        <td id=\"T_5f3c5f1a_19cb_11eb_9f2b_0242ac140002row2_col5\" class=\"data row2 col5\" >1</td>\n",
       "                        <td id=\"T_5f3c5f1a_19cb_11eb_9f2b_0242ac140002row2_col6\" class=\"data row2 col6\" >0</td>\n",
       "            </tr>\n",
       "            <tr>\n",
       "                        <th id=\"T_5f3c5f1a_19cb_11eb_9f2b_0242ac140002level0_row3\" class=\"row_heading level0 row3\" >3</th>\n",
       "                        <td id=\"T_5f3c5f1a_19cb_11eb_9f2b_0242ac140002row3_col0\" class=\"data row3 col0\" >1970-01-01 00:00:20</td>\n",
       "                        <td id=\"T_5f3c5f1a_19cb_11eb_9f2b_0242ac140002row3_col1\" class=\"data row3 col1\" >Transfer MP</td>\n",
       "                        <td id=\"T_5f3c5f1a_19cb_11eb_9f2b_0242ac140002row3_col2\" class=\"data row3 col2\" >STOP</td>\n",
       "                        <td id=\"T_5f3c5f1a_19cb_11eb_9f2b_0242ac140002row3_col3\" class=\"data row3 col3\" >POINT (4.18055556 52.18664444)</td>\n",
       "                        <td id=\"T_5f3c5f1a_19cb_11eb_9f2b_0242ac140002row3_col4\" class=\"data row3 col4\" >0</td>\n",
       "                        <td id=\"T_5f3c5f1a_19cb_11eb_9f2b_0242ac140002row3_col5\" class=\"data row3 col5\" >1</td>\n",
       "                        <td id=\"T_5f3c5f1a_19cb_11eb_9f2b_0242ac140002row3_col6\" class=\"data row3 col6\" >0</td>\n",
       "            </tr>\n",
       "    </tbody></table>"
      ],
      "text/plain": [
       "<pandas.io.formats.style.Styler at 0x7f87a1e6c3c8>"
      ]
     },
     "metadata": {},
     "output_type": "display_data"
    },
    {
     "data": {
      "text/html": [
       "<style  type=\"text/css\" >\n",
       "</style><table id=\"T_5f3d6a22_19cb_11eb_9f2b_0242ac140002\" ><caption>Log of the Transfer MP</caption><thead>    <tr>        <th class=\"blank level0\" ></th>        <th class=\"col_heading level0 col0\" >Timestamp</th>        <th class=\"col_heading level0 col1\" >Activity</th>        <th class=\"col_heading level0 col2\" >ActivityState</th>    </tr></thead><tbody>\n",
       "                <tr>\n",
       "                        <th id=\"T_5f3d6a22_19cb_11eb_9f2b_0242ac140002level0_row0\" class=\"row_heading level0 row0\" >0</th>\n",
       "                        <td id=\"T_5f3d6a22_19cb_11eb_9f2b_0242ac140002row0_col0\" class=\"data row0 col0\" >1970-01-01 00:00:00</td>\n",
       "                        <td id=\"T_5f3d6a22_19cb_11eb_9f2b_0242ac140002row0_col1\" class=\"data row0 col1\" >Transfer MP</td>\n",
       "                        <td id=\"T_5f3d6a22_19cb_11eb_9f2b_0242ac140002row0_col2\" class=\"data row0 col2\" >START</td>\n",
       "            </tr>\n",
       "            <tr>\n",
       "                        <th id=\"T_5f3d6a22_19cb_11eb_9f2b_0242ac140002level0_row1\" class=\"row_heading level0 row1\" >1</th>\n",
       "                        <td id=\"T_5f3d6a22_19cb_11eb_9f2b_0242ac140002row1_col0\" class=\"data row1 col0\" >1970-01-01 00:00:20</td>\n",
       "                        <td id=\"T_5f3d6a22_19cb_11eb_9f2b_0242ac140002row1_col1\" class=\"data row1 col1\" >Transfer MP</td>\n",
       "                        <td id=\"T_5f3d6a22_19cb_11eb_9f2b_0242ac140002row1_col2\" class=\"data row1 col2\" >STOP</td>\n",
       "            </tr>\n",
       "    </tbody></table>"
      ],
      "text/plain": [
       "<pandas.io.formats.style.Styler at 0x7f87cc03f4a8>"
      ]
     },
     "metadata": {},
     "output_type": "display_data"
    }
   ],
   "source": [
    "display(plot.get_log_dataframe(hopper, [activity]))\n",
    "display(plot.get_log_dataframe(activity, [activity]))"
   ]
  },
  {
   "cell_type": "code",
   "execution_count": null,
   "metadata": {},
   "outputs": [],
   "source": []
  }
 ],
 "metadata": {
  "kernelspec": {
   "display_name": "Python 3",
   "language": "python",
   "name": "python3"
  },
  "language_info": {
   "codemirror_mode": {
    "name": "ipython",
    "version": 3
   },
   "file_extension": ".py",
   "mimetype": "text/x-python",
   "name": "python",
   "nbconvert_exporter": "python",
   "pygments_lexer": "ipython3",
   "version": "3.7.3"
  }
 },
 "nbformat": 4,
 "nbformat_minor": 2
}
