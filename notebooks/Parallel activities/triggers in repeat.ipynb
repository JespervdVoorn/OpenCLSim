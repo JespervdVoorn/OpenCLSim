{
 "cells": [
  {
   "cell_type": "code",
   "execution_count": 1,
   "metadata": {},
   "outputs": [],
   "source": [
    "import datetime, time\n",
    "import simpy\n",
    "\n",
    "import pandas as pd\n",
    "import openclsim.core as core\n",
    "import openclsim.model as model\n",
    "import openclsim.plot as plot"
   ]
  },
  {
   "cell_type": "code",
   "execution_count": 2,
   "metadata": {},
   "outputs": [
    {
     "name": "stdout",
     "output_type": "stream",
     "text": [
      "a <AllOf(all_events, (<Event() object at 0x7f9b4c485e48>,)) object at 0x7f9b4c485f28>\n",
      "a2 <AllOf(all_events, (<Process(delayed_process) object at 0x7f9b4c4090f0>,)) object at 0x7f9b4c4091d0>\n",
      "c <AllOf(all_events, (<Event() object at 0x7f9b4c4092b0>,)) object at 0x7f9b4c409390>\n",
      "Ra <AllOf(all_events, (<Process(delayed_process) object at 0x7f9b4c485d30>,)) object at 0x7f9b4c4094e0>\n",
      "start in init Sc\n",
      "Sc None\n",
      "start in init b\n",
      "b <Process(delayed_process) object at 0x7f9b4c4090f0>\n",
      "env.run()\n",
      "<Process(delayed_process) object at 0x7f9b4c4090f0>\n",
      "<Process(delayed_process) object at 0x7f9b4c485c88>\n",
      "a <AllOf(all_events, (<Event() object at 0x7f9b4c485e48>,)) object at 0x7f9b4c409240>\n",
      "a2 <AllOf(all_events, (<Process(delayed_process) object at 0x7f9b4c485f28>, <Process(delayed_process) object at 0x7f9b4c485f28>)) object at 0x7f9b4c409710>\n",
      "[<Process(delayed_process) object at 0x7f9b4c485f28>, <Process(delayed_process) object at 0x7f9b4c485f28>]\n"
     ]
    },
    {
     "ename": "RuntimeError",
     "evalue": "\n  File \"/OpenCLSim/openclsim/model/base_activities.py\", line 337, in delayed_process\n    yield from sub_process(activity_log=activity_log, env=env)\nInvalid yield value \"[<Process(delayed_process) object at 0x7f9b4c485f28>, <Process(delayed_process) object at 0x7f9b4c485f28>]\"",
     "output_type": "error",
     "traceback": [
      "\u001b[0;31m---------------------------------------------------------------------------\u001b[0m",
      "\u001b[0;31mRuntimeError\u001b[0m                              Traceback (most recent call last)",
      "\u001b[0;32m<ipython-input-2-32227be5202d>\u001b[0m in \u001b[0;36m<module>\u001b[0;34m\u001b[0m\n\u001b[1;32m     75\u001b[0m \u001b[0;34m\u001b[0m\u001b[0m\n\u001b[1;32m     76\u001b[0m \u001b[0mprint\u001b[0m\u001b[0;34m(\u001b[0m\u001b[0;34m\"env.run()\"\u001b[0m\u001b[0;34m)\u001b[0m\u001b[0;34m\u001b[0m\u001b[0;34m\u001b[0m\u001b[0m\n\u001b[0;32m---> 77\u001b[0;31m \u001b[0menv\u001b[0m\u001b[0;34m.\u001b[0m\u001b[0mrun\u001b[0m\u001b[0;34m(\u001b[0m\u001b[0;34m)\u001b[0m\u001b[0;34m\u001b[0m\u001b[0;34m\u001b[0m\u001b[0m\n\u001b[0m",
      "\u001b[0;32m/opt/conda/lib/python3.7/site-packages/simpy/core.py\u001b[0m in \u001b[0;36mrun\u001b[0;34m(self, until)\u001b[0m\n\u001b[1;32m    252\u001b[0m         \u001b[0;32mtry\u001b[0m\u001b[0;34m:\u001b[0m\u001b[0;34m\u001b[0m\u001b[0;34m\u001b[0m\u001b[0m\n\u001b[1;32m    253\u001b[0m             \u001b[0;32mwhile\u001b[0m \u001b[0;32mTrue\u001b[0m\u001b[0;34m:\u001b[0m\u001b[0;34m\u001b[0m\u001b[0;34m\u001b[0m\u001b[0m\n\u001b[0;32m--> 254\u001b[0;31m                 \u001b[0mself\u001b[0m\u001b[0;34m.\u001b[0m\u001b[0mstep\u001b[0m\u001b[0;34m(\u001b[0m\u001b[0;34m)\u001b[0m\u001b[0;34m\u001b[0m\u001b[0;34m\u001b[0m\u001b[0m\n\u001b[0m\u001b[1;32m    255\u001b[0m         \u001b[0;32mexcept\u001b[0m \u001b[0mStopSimulation\u001b[0m \u001b[0;32mas\u001b[0m \u001b[0mexc\u001b[0m\u001b[0;34m:\u001b[0m\u001b[0;34m\u001b[0m\u001b[0;34m\u001b[0m\u001b[0m\n\u001b[1;32m    256\u001b[0m             \u001b[0;32mreturn\u001b[0m \u001b[0mexc\u001b[0m\u001b[0;34m.\u001b[0m\u001b[0margs\u001b[0m\u001b[0;34m[\u001b[0m\u001b[0;36m0\u001b[0m\u001b[0;34m]\u001b[0m  \u001b[0;31m# == until.value\u001b[0m\u001b[0;34m\u001b[0m\u001b[0;34m\u001b[0m\u001b[0m\n",
      "\u001b[0;32m/opt/conda/lib/python3.7/site-packages/simpy/core.py\u001b[0m in \u001b[0;36mstep\u001b[0;34m(self)\u001b[0m\n\u001b[1;32m    196\u001b[0m         \u001b[0mcallbacks\u001b[0m\u001b[0;34m,\u001b[0m \u001b[0mevent\u001b[0m\u001b[0;34m.\u001b[0m\u001b[0mcallbacks\u001b[0m \u001b[0;34m=\u001b[0m \u001b[0mevent\u001b[0m\u001b[0;34m.\u001b[0m\u001b[0mcallbacks\u001b[0m\u001b[0;34m,\u001b[0m \u001b[0;32mNone\u001b[0m  \u001b[0;31m# type: ignore\u001b[0m\u001b[0;34m\u001b[0m\u001b[0;34m\u001b[0m\u001b[0m\n\u001b[1;32m    197\u001b[0m         \u001b[0;32mfor\u001b[0m \u001b[0mcallback\u001b[0m \u001b[0;32min\u001b[0m \u001b[0mcallbacks\u001b[0m\u001b[0;34m:\u001b[0m\u001b[0;34m\u001b[0m\u001b[0;34m\u001b[0m\u001b[0m\n\u001b[0;32m--> 198\u001b[0;31m             \u001b[0mcallback\u001b[0m\u001b[0;34m(\u001b[0m\u001b[0mevent\u001b[0m\u001b[0;34m)\u001b[0m\u001b[0;34m\u001b[0m\u001b[0;34m\u001b[0m\u001b[0m\n\u001b[0m\u001b[1;32m    199\u001b[0m \u001b[0;34m\u001b[0m\u001b[0m\n\u001b[1;32m    200\u001b[0m         \u001b[0;32mif\u001b[0m \u001b[0;32mnot\u001b[0m \u001b[0mevent\u001b[0m\u001b[0;34m.\u001b[0m\u001b[0m_ok\u001b[0m \u001b[0;32mand\u001b[0m \u001b[0;32mnot\u001b[0m \u001b[0mhasattr\u001b[0m\u001b[0;34m(\u001b[0m\u001b[0mevent\u001b[0m\u001b[0;34m,\u001b[0m \u001b[0;34m'_defused'\u001b[0m\u001b[0;34m)\u001b[0m\u001b[0;34m:\u001b[0m\u001b[0;34m\u001b[0m\u001b[0;34m\u001b[0m\u001b[0m\n",
      "\u001b[0;32m/opt/conda/lib/python3.7/site-packages/simpy/events.py\u001b[0m in \u001b[0;36m_resume\u001b[0;34m(self, event)\u001b[0m\n\u001b[1;32m    438\u001b[0m                 \u001b[0;31m# Drop the AttributeError as the cause for this exception.\u001b[0m\u001b[0;34m\u001b[0m\u001b[0;34m\u001b[0m\u001b[0;34m\u001b[0m\u001b[0m\n\u001b[1;32m    439\u001b[0m                 \u001b[0merror\u001b[0m\u001b[0;34m.\u001b[0m\u001b[0m__cause__\u001b[0m \u001b[0;34m=\u001b[0m \u001b[0;32mNone\u001b[0m\u001b[0;34m\u001b[0m\u001b[0;34m\u001b[0m\u001b[0m\n\u001b[0;32m--> 440\u001b[0;31m                 \u001b[0;32mraise\u001b[0m \u001b[0merror\u001b[0m\u001b[0;34m\u001b[0m\u001b[0;34m\u001b[0m\u001b[0m\n\u001b[0m\u001b[1;32m    441\u001b[0m \u001b[0;34m\u001b[0m\u001b[0m\n\u001b[1;32m    442\u001b[0m         \u001b[0mself\u001b[0m\u001b[0;34m.\u001b[0m\u001b[0m_target\u001b[0m \u001b[0;34m=\u001b[0m \u001b[0mevent\u001b[0m\u001b[0;34m\u001b[0m\u001b[0;34m\u001b[0m\u001b[0m\n",
      "\u001b[0;31mRuntimeError\u001b[0m: \n  File \"/OpenCLSim/openclsim/model/base_activities.py\", line 337, in delayed_process\n    yield from sub_process(activity_log=activity_log, env=env)\nInvalid yield value \"[<Process(delayed_process) object at 0x7f9b4c485f28>, <Process(delayed_process) object at 0x7f9b4c485f28>]\""
     ]
    }
   ],
   "source": [
    "simulation_start = 0\n",
    "env = simpy.Environment(initial_time=simulation_start)\n",
    "registry = {}\n",
    "\n",
    "a = model.BasicActivity(\n",
    "    ID= \"a\",\n",
    "    env= env,\n",
    "    name= \"a\",\n",
    "    registry= registry,\n",
    "    duration= 1,\n",
    "    postpone_start= True,\n",
    ")\n",
    "a2 = model.BasicActivity(\n",
    "    ID= \"a2\",\n",
    "    env= env,\n",
    "    name= \"a2\",\n",
    "    registry= registry,\n",
    "    duration= 1,\n",
    "    postpone_start= True,\n",
    ")\n",
    "c = model.BasicActivity(\n",
    "    ID= \"c\",\n",
    "    env= env,\n",
    "    name= \"c\",\n",
    "    registry= registry,\n",
    "    duration= 1,\n",
    "    postpone_start= True,\n",
    ")\n",
    "\n",
    "Ra=model.RepeatActivity(    \n",
    "    env= env,\n",
    "    name= \"Ra\",\n",
    "    ID= \"Ra\",\n",
    "    registry= registry,\n",
    "    sub_processes= [a, a2],\n",
    "    postpone_start= True,\n",
    "    repetitions=3\n",
    ")\n",
    "\n",
    "Sc=model.SequentialActivity(    \n",
    "    env= env,\n",
    "    name= \"Sc\",\n",
    "    ID= \"Sc\",\n",
    "    registry= registry,\n",
    "    sub_processes= [c, Ra],\n",
    "    postpone_start= False,\n",
    ")\n",
    "\n",
    "\n",
    "b = model.BasicActivity(\n",
    "    ID= \"b\",\n",
    "    env= env,\n",
    "    name= \"b\",\n",
    "    registry= registry,\n",
    "    duration= 0.5,\n",
    "    postpone_start= False,\n",
    "    start_event=[\n",
    "        {\n",
    "            \"name\": \"a\",\n",
    "            \"type\": \"activity\",\n",
    "            \"state\": \"done\"\n",
    "        }\n",
    "    ]\n",
    ")\n",
    "\n",
    "# Rb=model.RepeatActivity(    \n",
    "#     env= env,\n",
    "#     name= \"Rb\",\n",
    "#     ID= \"Rb\",\n",
    "#     registry= registry,\n",
    "#     sub_processes= [b],\n",
    "#     postpone_start= False,\n",
    "#     repetitions=3\n",
    "# )\n",
    "\n",
    "print(\"env.run()\")\n",
    "env.run()"
   ]
  },
  {
   "cell_type": "code",
   "execution_count": null,
   "metadata": {},
   "outputs": [],
   "source": [
    "plot.vessel_planning([Sc,c,Ra,a,a2,b])"
   ]
  },
  {
   "cell_type": "code",
   "execution_count": null,
   "metadata": {
    "scrolled": false
   },
   "outputs": [],
   "source": [
    "display(pd.DataFrame(Sc.log))\n",
    "display(pd.DataFrame(c.log))\n",
    "\n",
    "display(pd.DataFrame(Ra.log))\n",
    "display(pd.DataFrame(a.log))\n",
    "display(pd.DataFrame(a2.log))\n",
    "\n",
    "\n",
    "display(pd.DataFrame(b.log))"
   ]
  },
  {
   "cell_type": "code",
   "execution_count": null,
   "metadata": {},
   "outputs": [],
   "source": []
  },
  {
   "cell_type": "code",
   "execution_count": null,
   "metadata": {},
   "outputs": [],
   "source": []
  },
  {
   "cell_type": "code",
   "execution_count": null,
   "metadata": {},
   "outputs": [],
   "source": []
  },
  {
   "cell_type": "code",
   "execution_count": null,
   "metadata": {},
   "outputs": [],
   "source": []
  },
  {
   "cell_type": "code",
   "execution_count": null,
   "metadata": {},
   "outputs": [],
   "source": []
  }
 ],
 "metadata": {
  "kernelspec": {
   "display_name": "Python 3",
   "language": "python",
   "name": "python3"
  },
  "language_info": {
   "codemirror_mode": {
    "name": "ipython",
    "version": 3
   },
   "file_extension": ".py",
   "mimetype": "text/x-python",
   "name": "python",
   "nbconvert_exporter": "python",
   "pygments_lexer": "ipython3",
   "version": "3.7.3"
  }
 },
 "nbformat": 4,
 "nbformat_minor": 4
}
