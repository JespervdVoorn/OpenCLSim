{
 "cells": [
  {
   "cell_type": "markdown",
   "id": "384a3d39",
   "metadata": {},
   "source": [
    "## feeder concept: cutter + barges\n",
    "\n",
    "This notebook shows how to implement a basic feeder concept for a cutter suction dredge working with multiple barges."
   ]
  },
  {
   "cell_type": "code",
   "execution_count": 1,
   "id": "b6580ad4",
   "metadata": {},
   "outputs": [],
   "source": [
    "import datetime, time\n",
    "import simpy\n",
    "\n",
    "import shapely.geometry\n",
    "import pandas as pd\n",
    "\n",
    "import openclsim.core as core\n",
    "import openclsim.model as model\n",
    "import openclsim.plot as plot\n",
    "import numpy as np"
   ]
  },
  {
   "cell_type": "code",
   "execution_count": 2,
   "id": "102a1c18",
   "metadata": {},
   "outputs": [],
   "source": [
    "Site = type(\n",
    "    \"Site\",\n",
    "    (\n",
    "        core.Identifiable,\n",
    "        core.Log,\n",
    "        core.Locatable,\n",
    "        core.HasContainer,\n",
    "        core.HasResource,\n",
    "    ),\n",
    "    {},\n",
    ")\n",
    "TransportProcessingResource = type(\n",
    "    \"TransportProcessingResource\",\n",
    "    (\n",
    "        core.ContainerDependentMovable,\n",
    "        core.Processor,\n",
    "        core.HasResource,\n",
    "        core.Identifiable,\n",
    "        core.Log,\n",
    "    ),\n",
    "    {},\n",
    ")"
   ]
  },
  {
   "cell_type": "code",
   "execution_count": 3,
   "id": "cef14598",
   "metadata": {},
   "outputs": [],
   "source": [
    "def run(NR_BARGES, total_amount):\n",
    "    simulation_start = 0\n",
    "    my_env = simpy.Environment(initial_time=simulation_start)\n",
    "    registry = {}\n",
    "\n",
    "    location_from_site = shapely.geometry.Point(4.18055556, 52.18664444)\n",
    "    location_to_site = shapely.geometry.Point(4.25222222, 52.11428333)\n",
    "\n",
    "    data_from_site = {\"env\": my_env,\n",
    "                      \"name\": \"from_site\",\n",
    "                      \"geometry\": location_from_site,\n",
    "                      \"capacity\": total_amount,\n",
    "                      \"level\": total_amount,\n",
    "                      \"nr_resources\":1\n",
    "                     }\n",
    "    from_site = Site(**data_from_site)\n",
    "\n",
    "    location_to_site = shapely.geometry.Point(4.25222222, 52.11428333)\n",
    "    data_to_site = {\"env\": my_env,\n",
    "                    \"name\": \"to_site\",\n",
    "                    \"geometry\": location_to_site,\n",
    "                    \"capacity\": total_amount,\n",
    "                    \"level\": 0,\n",
    "                    \"nr_resources\":4\n",
    "                   }\n",
    "    to_site = Site(**data_to_site)\n",
    "\n",
    "    vessels = {}\n",
    "\n",
    "    for i in range(NR_BARGES):\n",
    "        vessels[f\"vessel{i}\"] = TransportProcessingResource(\n",
    "            env=my_env,\n",
    "            name=f\"barge_{i}\",\n",
    "            geometry=location_from_site, \n",
    "            capacity=10,\n",
    "            compute_v=lambda x: 10\n",
    "        )\n",
    "    cutter = TransportProcessingResource(\n",
    "        env=my_env,\n",
    "        name=f\"cutter\",\n",
    "        geometry=location_from_site, \n",
    "        capacity=10,\n",
    "        compute_v=lambda x: 10\n",
    "    )\n",
    "    vessels['cutter'] = cutter\n",
    "    \n",
    "\n",
    "    activities = {}\n",
    "    for i in range(NR_BARGES):\n",
    "        amount = np.random.randint(4,6) # handle loading\n",
    "        duration=np.random.randint(2000,3000) # sailing and unloading\n",
    "\n",
    "        requested_resources={}\n",
    "        activities[f\"activity{i}\"] = model.WhileActivity(\n",
    "            env=my_env,\n",
    "            name=f\"while_sequential_activity_subcycle{i}\",\n",
    "            registry=registry,\n",
    "            sub_processes=[model.SequentialActivity(\n",
    "                env=my_env,\n",
    "                name=f\"sequential_activity_subcycle{i}\",\n",
    "                registry=registry,\n",
    "                sub_processes=[\n",
    "                    model.BasicActivity(\n",
    "                        env=my_env,\n",
    "                        name=f\"basic activity:\"+vessels[f\"vessel{i}\"].name,\n",
    "                        registry=registry,\n",
    "                        duration=duration,\n",
    "                        additional_logs=[vessels[f\"vessel{i}\"]],\n",
    "                    ),\n",
    "                    model.MoveActivity(\n",
    "                        env=my_env,\n",
    "                        name=f\"sailing empty:\"+vessels[f\"vessel{i}\"].name,\n",
    "                        registry=registry,\n",
    "                        mover=vessels[f\"vessel{i}\"],\n",
    "                        destination=from_site,\n",
    "                        duration=duration,\n",
    "                    ),\n",
    "                    model.ShiftAmountActivity(\n",
    "                        env=my_env,\n",
    "                        name=f\"loading:\"+vessels[f\"vessel{i}\"].name,\n",
    "                        registry=registry,\n",
    "                        processor=cutter,\n",
    "                        origin=from_site,\n",
    "                        destination=vessels[f\"vessel{i}\"],\n",
    "                        amount=amount,\n",
    "                        duration=500*amount,\n",
    "                        requested_resources=requested_resources,\n",
    "                    ),\n",
    "                    model.MoveActivity(\n",
    "                        env=my_env,\n",
    "                        name=f\"sailing full:\"+vessels[f\"vessel{i}\"].name,\n",
    "                        registry=registry,\n",
    "                        mover=vessels[f\"vessel{i}\"],\n",
    "                        destination=to_site,\n",
    "                        duration=duration,\n",
    "                    ),\n",
    "                    model.ShiftAmountActivity(\n",
    "                        env=my_env,\n",
    "                        name=f\"unloading:\"+vessels[f\"vessel{i}\"].name,\n",
    "                        registry=registry,\n",
    "                        processor=vessels[f\"vessel{i}\"],\n",
    "                        origin=vessels[f\"vessel{i}\"],\n",
    "                        destination=to_site,\n",
    "                        amount=amount,\n",
    "                        duration=duration,\n",
    "                        requested_resources=requested_resources,\n",
    "                    ),\n",
    "                ],\n",
    "            )],\n",
    "            condition_event=[\n",
    "                {\n",
    "                    \"type\": \"container\", \n",
    "                    \"concept\": to_site, \n",
    "                    \"state\": \"full\",\n",
    "                    \"id_\":\"default_reservations\"\n",
    "                }\n",
    "            ],\n",
    "        )\n",
    "\n",
    "    model.register_processes(list(activities.values()))\n",
    "    my_env.run()\n",
    "    \n",
    "    return {\n",
    "        \"vessels\": vessels,\n",
    "        \"activities\":activities,\n",
    "        \"from_site\":from_site,\n",
    "        \"to_site\":to_site,\n",
    "    }\n"
   ]
  },
  {
   "cell_type": "code",
   "execution_count": 4,
   "id": "9aa8b351",
   "metadata": {},
   "outputs": [
    {
     "name": "stdout",
     "output_type": "stream",
     "text": [
      "CPU times: user 19.1 ms, sys: 1.46 ms, total: 20.6 ms\n",
      "Wall time: 20.6 ms\n"
     ]
    }
   ],
   "source": [
    "%%time\n",
    "\n",
    "res = run(3,100)\n",
    "vessels = res['vessels']\n",
    "activities = res['activities']\n",
    "cutter = vessels['cutter']\n",
    "to_site = res['to_site']\n",
    "from_site = res['from_site']"
   ]
  },
  {
   "cell_type": "code",
   "execution_count": 5,
   "id": "8f993fc6",
   "metadata": {},
   "outputs": [
    {
     "data": {
      "text/html": [
       "        <script type=\"text/javascript\">\n",
       "        window.PlotlyConfig = {MathJaxConfig: 'local'};\n",
       "        if (window.MathJax) {MathJax.Hub.Config({SVG: {font: \"STIX-Web\"}});}\n",
       "        if (typeof require !== 'undefined') {\n",
       "        require.undef(\"plotly\");\n",
       "        requirejs.config({\n",
       "            paths: {\n",
       "                'plotly': ['https://cdn.plot.ly/plotly-2.8.3.min']\n",
       "            }\n",
       "        });\n",
       "        require(['plotly'], function(Plotly) {\n",
       "            window._Plotly = Plotly;\n",
       "        });\n",
       "        }\n",
       "        </script>\n",
       "        "
      ]
     },
     "metadata": {},
     "output_type": "display_data"
    },
    {
     "data": {
      "application/vnd.plotly.v1+json": {
       "config": {
        "linkText": "Export to plot.ly",
        "plotlyServerURL": "https://plot.ly",
        "showLink": false
       },
       "data": [
        {
         "connectgaps": false,
         "hoverinfo": "y+name",
         "line": {
          "color": "rgb(189,151,13)",
          "width": 10
         },
         "mode": "lines",
         "name": "loading:barge_0",
         "type": "scatter",
         "x": [
          "1970-01-01T01:13:30",
          "1970-01-01T01:13:30",
          "1970-01-01T01:46:50",
          "1970-01-01T01:46:50",
          "1970-01-01T01:46:50",
          "1970-01-01T04:13:50",
          "1970-01-01T04:13:50",
          "1970-01-01T04:47:10",
          "1970-01-01T04:47:10",
          "1970-01-01T04:47:10",
          "1970-01-01T07:14:10",
          "1970-01-01T07:14:10",
          "1970-01-01T07:47:30",
          "1970-01-01T07:47:30",
          "1970-01-01T07:47:30",
          "1970-01-01T10:14:30",
          "1970-01-01T10:14:30",
          "1970-01-01T10:47:50",
          "1970-01-01T10:47:50",
          "1970-01-01T10:47:50",
          "1970-01-01T13:14:50",
          "1970-01-01T13:14:50",
          "1970-01-01T13:48:10",
          "1970-01-01T13:48:10",
          "1970-01-01T13:48:10",
          "1970-01-01T16:15:10",
          "1970-01-01T16:15:10",
          "1970-01-01T16:48:30",
          "1970-01-01T16:48:30",
          "1970-01-01T16:48:30",
          "1970-01-01T19:15:30",
          "1970-01-01T19:15:30",
          "1970-01-01T19:48:50",
          "1970-01-01T19:48:50",
          "1970-01-01T19:48:50",
          "1970-01-01T22:19:26",
          "1970-01-01T22:19:26",
          "1970-01-01T22:52:46",
          "1970-01-01T22:52:46",
          "1970-01-01T22:52:46",
          "1970-01-01T01:13:30",
          "1970-01-01T01:13:30",
          "1970-01-01T01:46:50",
          "1970-01-01T01:46:50",
          "1970-01-01T01:46:50",
          "1970-01-01T04:13:50",
          "1970-01-01T04:13:50",
          "1970-01-01T04:47:10",
          "1970-01-01T04:47:10",
          "1970-01-01T04:47:10",
          "1970-01-01T07:14:10",
          "1970-01-01T07:14:10",
          "1970-01-01T07:47:30",
          "1970-01-01T07:47:30",
          "1970-01-01T07:47:30",
          "1970-01-01T10:14:30",
          "1970-01-01T10:14:30",
          "1970-01-01T10:47:50",
          "1970-01-01T10:47:50",
          "1970-01-01T10:47:50",
          "1970-01-01T13:14:50",
          "1970-01-01T13:14:50",
          "1970-01-01T13:48:10",
          "1970-01-01T13:48:10",
          "1970-01-01T13:48:10",
          "1970-01-01T16:15:10",
          "1970-01-01T16:15:10",
          "1970-01-01T16:48:30",
          "1970-01-01T16:48:30",
          "1970-01-01T16:48:30",
          "1970-01-01T19:15:30",
          "1970-01-01T19:15:30",
          "1970-01-01T19:48:50",
          "1970-01-01T19:48:50",
          "1970-01-01T19:48:50",
          "1970-01-01T22:19:26",
          "1970-01-01T22:19:26",
          "1970-01-01T22:52:46",
          "1970-01-01T22:52:46",
          "1970-01-01T22:52:46"
         ],
         "y": [
          "barge_0",
          "barge_0",
          "barge_0",
          "barge_0",
          null,
          "barge_0",
          "barge_0",
          "barge_0",
          "barge_0",
          null,
          "barge_0",
          "barge_0",
          "barge_0",
          "barge_0",
          null,
          "barge_0",
          "barge_0",
          "barge_0",
          "barge_0",
          null,
          "barge_0",
          "barge_0",
          "barge_0",
          "barge_0",
          null,
          "barge_0",
          "barge_0",
          "barge_0",
          "barge_0",
          null,
          "barge_0",
          "barge_0",
          "barge_0",
          "barge_0",
          null,
          "barge_0",
          "barge_0",
          "barge_0",
          "barge_0",
          null,
          "cutter",
          "cutter",
          "cutter",
          "cutter",
          null,
          "cutter",
          "cutter",
          "cutter",
          "cutter",
          null,
          "cutter",
          "cutter",
          "cutter",
          "cutter",
          null,
          "cutter",
          "cutter",
          "cutter",
          "cutter",
          null,
          "cutter",
          "cutter",
          "cutter",
          "cutter",
          null,
          "cutter",
          "cutter",
          "cutter",
          "cutter",
          null,
          "cutter",
          "cutter",
          "cutter",
          "cutter",
          null,
          "cutter",
          "cutter",
          "cutter",
          "cutter",
          null
         ]
        },
        {
         "connectgaps": false,
         "hoverinfo": "y+name",
         "line": {
          "color": "rgb(203,165,27)",
          "width": 10
         },
         "mode": "lines",
         "name": "basic activity:barge_0",
         "type": "scatter",
         "x": [
          "1970-01-01T00:00:00",
          "1970-01-01T00:00:00",
          "1970-01-01T00:36:45",
          "1970-01-01T00:36:45",
          "1970-01-01T00:36:45",
          "1970-01-01T03:00:20",
          "1970-01-01T03:00:20",
          "1970-01-01T03:37:05",
          "1970-01-01T03:37:05",
          "1970-01-01T03:37:05",
          "1970-01-01T06:00:40",
          "1970-01-01T06:00:40",
          "1970-01-01T06:37:25",
          "1970-01-01T06:37:25",
          "1970-01-01T06:37:25",
          "1970-01-01T09:01:00",
          "1970-01-01T09:01:00",
          "1970-01-01T09:37:45",
          "1970-01-01T09:37:45",
          "1970-01-01T09:37:45",
          "1970-01-01T12:01:20",
          "1970-01-01T12:01:20",
          "1970-01-01T12:38:05",
          "1970-01-01T12:38:05",
          "1970-01-01T12:38:05",
          "1970-01-01T15:01:40",
          "1970-01-01T15:01:40",
          "1970-01-01T15:38:25",
          "1970-01-01T15:38:25",
          "1970-01-01T15:38:25",
          "1970-01-01T18:02:00",
          "1970-01-01T18:02:00",
          "1970-01-01T18:38:45",
          "1970-01-01T18:38:45",
          "1970-01-01T18:38:45",
          "1970-01-01T21:02:20",
          "1970-01-01T21:02:20",
          "1970-01-01T21:39:05",
          "1970-01-01T21:39:05",
          "1970-01-01T21:39:05"
         ],
         "y": [
          "barge_0",
          "barge_0",
          "barge_0",
          "barge_0",
          null,
          "barge_0",
          "barge_0",
          "barge_0",
          "barge_0",
          null,
          "barge_0",
          "barge_0",
          "barge_0",
          "barge_0",
          null,
          "barge_0",
          "barge_0",
          "barge_0",
          "barge_0",
          null,
          "barge_0",
          "barge_0",
          "barge_0",
          "barge_0",
          null,
          "barge_0",
          "barge_0",
          "barge_0",
          "barge_0",
          null,
          "barge_0",
          "barge_0",
          "barge_0",
          "barge_0",
          null,
          "barge_0",
          "barge_0",
          "barge_0",
          "barge_0",
          null
         ]
        },
        {
         "connectgaps": false,
         "hoverinfo": "y+name",
         "line": {
          "color": "rgb(217,179,41)",
          "width": 10
         },
         "mode": "lines",
         "name": "unloading:barge_0",
         "type": "scatter",
         "x": [
          "1970-01-01T02:23:35",
          "1970-01-01T02:23:35",
          "1970-01-01T03:00:20",
          "1970-01-01T03:00:20",
          "1970-01-01T03:00:20",
          "1970-01-01T05:23:55",
          "1970-01-01T05:23:55",
          "1970-01-01T06:00:40",
          "1970-01-01T06:00:40",
          "1970-01-01T06:00:40",
          "1970-01-01T08:24:15",
          "1970-01-01T08:24:15",
          "1970-01-01T09:01:00",
          "1970-01-01T09:01:00",
          "1970-01-01T09:01:00",
          "1970-01-01T11:24:35",
          "1970-01-01T11:24:35",
          "1970-01-01T12:01:20",
          "1970-01-01T12:01:20",
          "1970-01-01T12:01:20",
          "1970-01-01T14:24:55",
          "1970-01-01T14:24:55",
          "1970-01-01T15:01:40",
          "1970-01-01T15:01:40",
          "1970-01-01T15:01:40",
          "1970-01-01T17:25:15",
          "1970-01-01T17:25:15",
          "1970-01-01T18:02:00",
          "1970-01-01T18:02:00",
          "1970-01-01T18:02:00",
          "1970-01-01T20:25:35",
          "1970-01-01T20:25:35",
          "1970-01-01T21:02:20",
          "1970-01-01T21:02:20",
          "1970-01-01T21:02:20",
          "1970-01-01T23:29:31",
          "1970-01-01T23:29:31",
          "1970-01-02T00:06:16",
          "1970-01-02T00:06:16",
          "1970-01-02T00:06:16"
         ],
         "y": [
          "barge_0",
          "barge_0",
          "barge_0",
          "barge_0",
          null,
          "barge_0",
          "barge_0",
          "barge_0",
          "barge_0",
          null,
          "barge_0",
          "barge_0",
          "barge_0",
          "barge_0",
          null,
          "barge_0",
          "barge_0",
          "barge_0",
          "barge_0",
          null,
          "barge_0",
          "barge_0",
          "barge_0",
          "barge_0",
          null,
          "barge_0",
          "barge_0",
          "barge_0",
          "barge_0",
          null,
          "barge_0",
          "barge_0",
          "barge_0",
          "barge_0",
          null,
          "barge_0",
          "barge_0",
          "barge_0",
          "barge_0",
          null
         ]
        },
        {
         "connectgaps": false,
         "hoverinfo": "y+name",
         "line": {
          "color": "rgb(231,193,55)",
          "width": 10
         },
         "mode": "lines",
         "name": "sailing full:barge_0",
         "type": "scatter",
         "x": [
          "1970-01-01T01:46:50",
          "1970-01-01T01:46:50",
          "1970-01-01T02:23:35",
          "1970-01-01T02:23:35",
          "1970-01-01T02:23:35",
          "1970-01-01T04:47:10",
          "1970-01-01T04:47:10",
          "1970-01-01T05:23:55",
          "1970-01-01T05:23:55",
          "1970-01-01T05:23:55",
          "1970-01-01T07:47:30",
          "1970-01-01T07:47:30",
          "1970-01-01T08:24:15",
          "1970-01-01T08:24:15",
          "1970-01-01T08:24:15",
          "1970-01-01T10:47:50",
          "1970-01-01T10:47:50",
          "1970-01-01T11:24:35",
          "1970-01-01T11:24:35",
          "1970-01-01T11:24:35",
          "1970-01-01T13:48:10",
          "1970-01-01T13:48:10",
          "1970-01-01T14:24:55",
          "1970-01-01T14:24:55",
          "1970-01-01T14:24:55",
          "1970-01-01T16:48:30",
          "1970-01-01T16:48:30",
          "1970-01-01T17:25:15",
          "1970-01-01T17:25:15",
          "1970-01-01T17:25:15",
          "1970-01-01T19:48:50",
          "1970-01-01T19:48:50",
          "1970-01-01T20:25:35",
          "1970-01-01T20:25:35",
          "1970-01-01T20:25:35",
          "1970-01-01T22:52:46",
          "1970-01-01T22:52:46",
          "1970-01-01T23:29:31",
          "1970-01-01T23:29:31",
          "1970-01-01T23:29:31"
         ],
         "y": [
          "barge_0",
          "barge_0",
          "barge_0",
          "barge_0",
          null,
          "barge_0",
          "barge_0",
          "barge_0",
          "barge_0",
          null,
          "barge_0",
          "barge_0",
          "barge_0",
          "barge_0",
          null,
          "barge_0",
          "barge_0",
          "barge_0",
          "barge_0",
          null,
          "barge_0",
          "barge_0",
          "barge_0",
          "barge_0",
          null,
          "barge_0",
          "barge_0",
          "barge_0",
          "barge_0",
          null,
          "barge_0",
          "barge_0",
          "barge_0",
          "barge_0",
          null,
          "barge_0",
          "barge_0",
          "barge_0",
          "barge_0",
          null
         ]
        },
        {
         "connectgaps": false,
         "hoverinfo": "y+name",
         "line": {
          "color": "rgb(245,207,69)",
          "width": 10
         },
         "mode": "lines",
         "name": "sailing empty:barge_0",
         "type": "scatter",
         "x": [
          "1970-01-01T00:36:45",
          "1970-01-01T00:36:45",
          "1970-01-01T01:13:30",
          "1970-01-01T01:13:30",
          "1970-01-01T01:13:30",
          "1970-01-01T03:37:05",
          "1970-01-01T03:37:05",
          "1970-01-01T04:13:50",
          "1970-01-01T04:13:50",
          "1970-01-01T04:13:50",
          "1970-01-01T06:37:25",
          "1970-01-01T06:37:25",
          "1970-01-01T07:14:10",
          "1970-01-01T07:14:10",
          "1970-01-01T07:14:10",
          "1970-01-01T09:37:45",
          "1970-01-01T09:37:45",
          "1970-01-01T10:14:30",
          "1970-01-01T10:14:30",
          "1970-01-01T10:14:30",
          "1970-01-01T12:38:05",
          "1970-01-01T12:38:05",
          "1970-01-01T13:14:50",
          "1970-01-01T13:14:50",
          "1970-01-01T13:14:50",
          "1970-01-01T15:38:25",
          "1970-01-01T15:38:25",
          "1970-01-01T16:15:10",
          "1970-01-01T16:15:10",
          "1970-01-01T16:15:10",
          "1970-01-01T18:38:45",
          "1970-01-01T18:38:45",
          "1970-01-01T19:15:30",
          "1970-01-01T19:15:30",
          "1970-01-01T19:15:30",
          "1970-01-01T21:39:05",
          "1970-01-01T21:39:05",
          "1970-01-01T22:15:50",
          "1970-01-01T22:15:50",
          "1970-01-01T22:15:50"
         ],
         "y": [
          "barge_0",
          "barge_0",
          "barge_0",
          "barge_0",
          null,
          "barge_0",
          "barge_0",
          "barge_0",
          "barge_0",
          null,
          "barge_0",
          "barge_0",
          "barge_0",
          "barge_0",
          null,
          "barge_0",
          "barge_0",
          "barge_0",
          "barge_0",
          null,
          "barge_0",
          "barge_0",
          "barge_0",
          "barge_0",
          null,
          "barge_0",
          "barge_0",
          "barge_0",
          "barge_0",
          null,
          "barge_0",
          "barge_0",
          "barge_0",
          "barge_0",
          null,
          "barge_0",
          "barge_0",
          "barge_0",
          "barge_0",
          null
         ]
        },
        {
         "connectgaps": false,
         "hoverinfo": "y+name",
         "line": {
          "color": "rgb(3,221,83)",
          "width": 10
         },
         "mode": "lines",
         "name": "loading:barge_1",
         "type": "scatter",
         "x": [
          "1970-01-01T01:46:50",
          "1970-01-01T01:46:50",
          "1970-01-01T02:28:30",
          "1970-01-01T02:28:30",
          "1970-01-01T02:28:30",
          "1970-01-01T04:59:46",
          "1970-01-01T04:59:46",
          "1970-01-01T05:41:26",
          "1970-01-01T05:41:26",
          "1970-01-01T05:41:26",
          "1970-01-01T08:12:42",
          "1970-01-01T08:12:42",
          "1970-01-01T08:54:22",
          "1970-01-01T08:54:22",
          "1970-01-01T08:54:22",
          "1970-01-01T11:25:38",
          "1970-01-01T11:25:38",
          "1970-01-01T12:07:18",
          "1970-01-01T12:07:18",
          "1970-01-01T12:07:18",
          "1970-01-01T14:38:34",
          "1970-01-01T14:38:34",
          "1970-01-01T15:20:14",
          "1970-01-01T15:20:14",
          "1970-01-01T15:20:14",
          "1970-01-01T17:51:30",
          "1970-01-01T17:51:30",
          "1970-01-01T18:33:10",
          "1970-01-01T18:33:10",
          "1970-01-01T18:33:10",
          "1970-01-01T21:04:26",
          "1970-01-01T21:04:26",
          "1970-01-01T21:46:06",
          "1970-01-01T21:46:06",
          "1970-01-01T21:46:06",
          "1970-01-02T00:17:22",
          "1970-01-02T00:17:22",
          "1970-01-02T00:59:02",
          "1970-01-02T00:59:02",
          "1970-01-02T00:59:02",
          "1970-01-01T01:46:50",
          "1970-01-01T01:46:50",
          "1970-01-01T02:28:30",
          "1970-01-01T02:28:30",
          "1970-01-01T02:28:30",
          "1970-01-01T04:59:46",
          "1970-01-01T04:59:46",
          "1970-01-01T05:41:26",
          "1970-01-01T05:41:26",
          "1970-01-01T05:41:26",
          "1970-01-01T08:12:42",
          "1970-01-01T08:12:42",
          "1970-01-01T08:54:22",
          "1970-01-01T08:54:22",
          "1970-01-01T08:54:22",
          "1970-01-01T11:25:38",
          "1970-01-01T11:25:38",
          "1970-01-01T12:07:18",
          "1970-01-01T12:07:18",
          "1970-01-01T12:07:18",
          "1970-01-01T14:38:34",
          "1970-01-01T14:38:34",
          "1970-01-01T15:20:14",
          "1970-01-01T15:20:14",
          "1970-01-01T15:20:14",
          "1970-01-01T17:51:30",
          "1970-01-01T17:51:30",
          "1970-01-01T18:33:10",
          "1970-01-01T18:33:10",
          "1970-01-01T18:33:10",
          "1970-01-01T21:04:26",
          "1970-01-01T21:04:26",
          "1970-01-01T21:46:06",
          "1970-01-01T21:46:06",
          "1970-01-01T21:46:06",
          "1970-01-02T00:17:22",
          "1970-01-02T00:17:22",
          "1970-01-02T00:59:02",
          "1970-01-02T00:59:02",
          "1970-01-02T00:59:02"
         ],
         "y": [
          "barge_1",
          "barge_1",
          "barge_1",
          "barge_1",
          null,
          "barge_1",
          "barge_1",
          "barge_1",
          "barge_1",
          null,
          "barge_1",
          "barge_1",
          "barge_1",
          "barge_1",
          null,
          "barge_1",
          "barge_1",
          "barge_1",
          "barge_1",
          null,
          "barge_1",
          "barge_1",
          "barge_1",
          "barge_1",
          null,
          "barge_1",
          "barge_1",
          "barge_1",
          "barge_1",
          null,
          "barge_1",
          "barge_1",
          "barge_1",
          "barge_1",
          null,
          "barge_1",
          "barge_1",
          "barge_1",
          "barge_1",
          null,
          "cutter",
          "cutter",
          "cutter",
          "cutter",
          null,
          "cutter",
          "cutter",
          "cutter",
          "cutter",
          null,
          "cutter",
          "cutter",
          "cutter",
          "cutter",
          null,
          "cutter",
          "cutter",
          "cutter",
          "cutter",
          null,
          "cutter",
          "cutter",
          "cutter",
          "cutter",
          null,
          "cutter",
          "cutter",
          "cutter",
          "cutter",
          null,
          "cutter",
          "cutter",
          "cutter",
          "cutter",
          null,
          "cutter",
          "cutter",
          "cutter",
          "cutter",
          null
         ]
        },
        {
         "connectgaps": false,
         "hoverinfo": "y+name",
         "line": {
          "color": "rgb(17,235,97)",
          "width": 10
         },
         "mode": "lines",
         "name": "unloading:barge_1",
         "type": "scatter",
         "x": [
          "1970-01-01T03:06:19",
          "1970-01-01T03:06:19",
          "1970-01-01T03:44:08",
          "1970-01-01T03:44:08",
          "1970-01-01T03:44:08",
          "1970-01-01T06:19:15",
          "1970-01-01T06:19:15",
          "1970-01-01T06:57:04",
          "1970-01-01T06:57:04",
          "1970-01-01T06:57:04",
          "1970-01-01T09:32:11",
          "1970-01-01T09:32:11",
          "1970-01-01T10:10:00",
          "1970-01-01T10:10:00",
          "1970-01-01T10:10:00",
          "1970-01-01T12:45:07",
          "1970-01-01T12:45:07",
          "1970-01-01T13:22:56",
          "1970-01-01T13:22:56",
          "1970-01-01T13:22:56",
          "1970-01-01T15:58:03",
          "1970-01-01T15:58:03",
          "1970-01-01T16:35:52",
          "1970-01-01T16:35:52",
          "1970-01-01T16:35:52",
          "1970-01-01T19:10:59",
          "1970-01-01T19:10:59",
          "1970-01-01T19:48:48",
          "1970-01-01T19:48:48",
          "1970-01-01T19:48:48",
          "1970-01-01T22:23:55",
          "1970-01-01T22:23:55",
          "1970-01-01T23:01:44",
          "1970-01-01T23:01:44",
          "1970-01-01T23:01:44",
          "1970-01-02T01:36:51",
          "1970-01-02T01:36:51",
          "1970-01-02T02:14:40",
          "1970-01-02T02:14:40",
          "1970-01-02T02:14:40"
         ],
         "y": [
          "barge_1",
          "barge_1",
          "barge_1",
          "barge_1",
          null,
          "barge_1",
          "barge_1",
          "barge_1",
          "barge_1",
          null,
          "barge_1",
          "barge_1",
          "barge_1",
          "barge_1",
          null,
          "barge_1",
          "barge_1",
          "barge_1",
          "barge_1",
          null,
          "barge_1",
          "barge_1",
          "barge_1",
          "barge_1",
          null,
          "barge_1",
          "barge_1",
          "barge_1",
          "barge_1",
          null,
          "barge_1",
          "barge_1",
          "barge_1",
          "barge_1",
          null,
          "barge_1",
          "barge_1",
          "barge_1",
          "barge_1",
          null
         ]
        },
        {
         "connectgaps": false,
         "hoverinfo": "y+name",
         "line": {
          "color": "rgb(31,249,111)",
          "width": 10
         },
         "mode": "lines",
         "name": "sailing full:barge_1",
         "type": "scatter",
         "x": [
          "1970-01-01T02:28:30",
          "1970-01-01T02:28:30",
          "1970-01-01T03:06:19",
          "1970-01-01T03:06:19",
          "1970-01-01T03:06:19",
          "1970-01-01T05:41:26",
          "1970-01-01T05:41:26",
          "1970-01-01T06:19:15",
          "1970-01-01T06:19:15",
          "1970-01-01T06:19:15",
          "1970-01-01T08:54:22",
          "1970-01-01T08:54:22",
          "1970-01-01T09:32:11",
          "1970-01-01T09:32:11",
          "1970-01-01T09:32:11",
          "1970-01-01T12:07:18",
          "1970-01-01T12:07:18",
          "1970-01-01T12:45:07",
          "1970-01-01T12:45:07",
          "1970-01-01T12:45:07",
          "1970-01-01T15:20:14",
          "1970-01-01T15:20:14",
          "1970-01-01T15:58:03",
          "1970-01-01T15:58:03",
          "1970-01-01T15:58:03",
          "1970-01-01T18:33:10",
          "1970-01-01T18:33:10",
          "1970-01-01T19:10:59",
          "1970-01-01T19:10:59",
          "1970-01-01T19:10:59",
          "1970-01-01T21:46:06",
          "1970-01-01T21:46:06",
          "1970-01-01T22:23:55",
          "1970-01-01T22:23:55",
          "1970-01-01T22:23:55",
          "1970-01-02T00:59:02",
          "1970-01-02T00:59:02",
          "1970-01-02T01:36:51",
          "1970-01-02T01:36:51",
          "1970-01-02T01:36:51"
         ],
         "y": [
          "barge_1",
          "barge_1",
          "barge_1",
          "barge_1",
          null,
          "barge_1",
          "barge_1",
          "barge_1",
          "barge_1",
          null,
          "barge_1",
          "barge_1",
          "barge_1",
          "barge_1",
          null,
          "barge_1",
          "barge_1",
          "barge_1",
          "barge_1",
          null,
          "barge_1",
          "barge_1",
          "barge_1",
          "barge_1",
          null,
          "barge_1",
          "barge_1",
          "barge_1",
          "barge_1",
          null,
          "barge_1",
          "barge_1",
          "barge_1",
          "barge_1",
          null,
          "barge_1",
          "barge_1",
          "barge_1",
          "barge_1",
          null
         ]
        },
        {
         "connectgaps": false,
         "hoverinfo": "y+name",
         "line": {
          "color": "rgb(45,7,125)",
          "width": 10
         },
         "mode": "lines",
         "name": "basic activity:barge_1",
         "type": "scatter",
         "x": [
          "1970-01-01T00:00:00",
          "1970-01-01T00:00:00",
          "1970-01-01T00:37:49",
          "1970-01-01T00:37:49",
          "1970-01-01T00:37:49",
          "1970-01-01T03:44:08",
          "1970-01-01T03:44:08",
          "1970-01-01T04:21:57",
          "1970-01-01T04:21:57",
          "1970-01-01T04:21:57",
          "1970-01-01T06:57:04",
          "1970-01-01T06:57:04",
          "1970-01-01T07:34:53",
          "1970-01-01T07:34:53",
          "1970-01-01T07:34:53",
          "1970-01-01T10:10:00",
          "1970-01-01T10:10:00",
          "1970-01-01T10:47:49",
          "1970-01-01T10:47:49",
          "1970-01-01T10:47:49",
          "1970-01-01T13:22:56",
          "1970-01-01T13:22:56",
          "1970-01-01T14:00:45",
          "1970-01-01T14:00:45",
          "1970-01-01T14:00:45",
          "1970-01-01T16:35:52",
          "1970-01-01T16:35:52",
          "1970-01-01T17:13:41",
          "1970-01-01T17:13:41",
          "1970-01-01T17:13:41",
          "1970-01-01T19:48:48",
          "1970-01-01T19:48:48",
          "1970-01-01T20:26:37",
          "1970-01-01T20:26:37",
          "1970-01-01T20:26:37",
          "1970-01-01T23:01:44",
          "1970-01-01T23:01:44",
          "1970-01-01T23:39:33",
          "1970-01-01T23:39:33",
          "1970-01-01T23:39:33"
         ],
         "y": [
          "barge_1",
          "barge_1",
          "barge_1",
          "barge_1",
          null,
          "barge_1",
          "barge_1",
          "barge_1",
          "barge_1",
          null,
          "barge_1",
          "barge_1",
          "barge_1",
          "barge_1",
          null,
          "barge_1",
          "barge_1",
          "barge_1",
          "barge_1",
          null,
          "barge_1",
          "barge_1",
          "barge_1",
          "barge_1",
          null,
          "barge_1",
          "barge_1",
          "barge_1",
          "barge_1",
          null,
          "barge_1",
          "barge_1",
          "barge_1",
          "barge_1",
          null,
          "barge_1",
          "barge_1",
          "barge_1",
          "barge_1",
          null
         ]
        },
        {
         "connectgaps": false,
         "hoverinfo": "y+name",
         "line": {
          "color": "rgb(59,21,139)",
          "width": 10
         },
         "mode": "lines",
         "name": "sailing empty:barge_1",
         "type": "scatter",
         "x": [
          "1970-01-01T00:37:49",
          "1970-01-01T00:37:49",
          "1970-01-01T01:15:38",
          "1970-01-01T01:15:38",
          "1970-01-01T01:15:38",
          "1970-01-01T04:21:57",
          "1970-01-01T04:21:57",
          "1970-01-01T04:59:46",
          "1970-01-01T04:59:46",
          "1970-01-01T04:59:46",
          "1970-01-01T07:34:53",
          "1970-01-01T07:34:53",
          "1970-01-01T08:12:42",
          "1970-01-01T08:12:42",
          "1970-01-01T08:12:42",
          "1970-01-01T10:47:49",
          "1970-01-01T10:47:49",
          "1970-01-01T11:25:38",
          "1970-01-01T11:25:38",
          "1970-01-01T11:25:38",
          "1970-01-01T14:00:45",
          "1970-01-01T14:00:45",
          "1970-01-01T14:38:34",
          "1970-01-01T14:38:34",
          "1970-01-01T14:38:34",
          "1970-01-01T17:13:41",
          "1970-01-01T17:13:41",
          "1970-01-01T17:51:30",
          "1970-01-01T17:51:30",
          "1970-01-01T17:51:30",
          "1970-01-01T20:26:37",
          "1970-01-01T20:26:37",
          "1970-01-01T21:04:26",
          "1970-01-01T21:04:26",
          "1970-01-01T21:04:26",
          "1970-01-01T23:39:33",
          "1970-01-01T23:39:33",
          "1970-01-02T00:17:22",
          "1970-01-02T00:17:22",
          "1970-01-02T00:17:22"
         ],
         "y": [
          "barge_1",
          "barge_1",
          "barge_1",
          "barge_1",
          null,
          "barge_1",
          "barge_1",
          "barge_1",
          "barge_1",
          null,
          "barge_1",
          "barge_1",
          "barge_1",
          "barge_1",
          null,
          "barge_1",
          "barge_1",
          "barge_1",
          "barge_1",
          null,
          "barge_1",
          "barge_1",
          "barge_1",
          "barge_1",
          null,
          "barge_1",
          "barge_1",
          "barge_1",
          "barge_1",
          null,
          "barge_1",
          "barge_1",
          "barge_1",
          "barge_1",
          null,
          "barge_1",
          "barge_1",
          "barge_1",
          "barge_1",
          null
         ]
        },
        {
         "connectgaps": false,
         "hoverinfo": "y+name",
         "line": {
          "color": "rgb(73,35,153)",
          "width": 10
         },
         "mode": "lines",
         "name": "loading:barge_2",
         "type": "scatter",
         "x": [
          "1970-01-01T02:28:30",
          "1970-01-01T02:28:30",
          "1970-01-01T03:01:50",
          "1970-01-01T03:01:50",
          "1970-01-01T03:01:50",
          "1970-01-01T05:41:26",
          "1970-01-01T05:41:26",
          "1970-01-01T06:14:46",
          "1970-01-01T06:14:46",
          "1970-01-01T06:14:46",
          "1970-01-01T08:54:22",
          "1970-01-01T08:54:22",
          "1970-01-01T09:27:42",
          "1970-01-01T09:27:42",
          "1970-01-01T09:27:42",
          "1970-01-01T12:07:18",
          "1970-01-01T12:07:18",
          "1970-01-01T12:40:38",
          "1970-01-01T12:40:38",
          "1970-01-01T12:40:38",
          "1970-01-01T15:20:14",
          "1970-01-01T15:20:14",
          "1970-01-01T15:53:34",
          "1970-01-01T15:53:34",
          "1970-01-01T15:53:34",
          "1970-01-01T18:33:10",
          "1970-01-01T18:33:10",
          "1970-01-01T19:06:30",
          "1970-01-01T19:06:30",
          "1970-01-01T19:06:30",
          "1970-01-01T21:46:06",
          "1970-01-01T21:46:06",
          "1970-01-01T22:19:26",
          "1970-01-01T22:19:26",
          "1970-01-01T22:19:26",
          "1970-01-01T02:28:30",
          "1970-01-01T02:28:30",
          "1970-01-01T03:01:50",
          "1970-01-01T03:01:50",
          "1970-01-01T03:01:50",
          "1970-01-01T05:41:26",
          "1970-01-01T05:41:26",
          "1970-01-01T06:14:46",
          "1970-01-01T06:14:46",
          "1970-01-01T06:14:46",
          "1970-01-01T08:54:22",
          "1970-01-01T08:54:22",
          "1970-01-01T09:27:42",
          "1970-01-01T09:27:42",
          "1970-01-01T09:27:42",
          "1970-01-01T12:07:18",
          "1970-01-01T12:07:18",
          "1970-01-01T12:40:38",
          "1970-01-01T12:40:38",
          "1970-01-01T12:40:38",
          "1970-01-01T15:20:14",
          "1970-01-01T15:20:14",
          "1970-01-01T15:53:34",
          "1970-01-01T15:53:34",
          "1970-01-01T15:53:34",
          "1970-01-01T18:33:10",
          "1970-01-01T18:33:10",
          "1970-01-01T19:06:30",
          "1970-01-01T19:06:30",
          "1970-01-01T19:06:30",
          "1970-01-01T21:46:06",
          "1970-01-01T21:46:06",
          "1970-01-01T22:19:26",
          "1970-01-01T22:19:26",
          "1970-01-01T22:19:26"
         ],
         "y": [
          "barge_2",
          "barge_2",
          "barge_2",
          "barge_2",
          null,
          "barge_2",
          "barge_2",
          "barge_2",
          "barge_2",
          null,
          "barge_2",
          "barge_2",
          "barge_2",
          "barge_2",
          null,
          "barge_2",
          "barge_2",
          "barge_2",
          "barge_2",
          null,
          "barge_2",
          "barge_2",
          "barge_2",
          "barge_2",
          null,
          "barge_2",
          "barge_2",
          "barge_2",
          "barge_2",
          null,
          "barge_2",
          "barge_2",
          "barge_2",
          "barge_2",
          null,
          "cutter",
          "cutter",
          "cutter",
          "cutter",
          null,
          "cutter",
          "cutter",
          "cutter",
          "cutter",
          null,
          "cutter",
          "cutter",
          "cutter",
          "cutter",
          null,
          "cutter",
          "cutter",
          "cutter",
          "cutter",
          null,
          "cutter",
          "cutter",
          "cutter",
          "cutter",
          null,
          "cutter",
          "cutter",
          "cutter",
          "cutter",
          null,
          "cutter",
          "cutter",
          "cutter",
          "cutter",
          null
         ]
        },
        {
         "connectgaps": false,
         "hoverinfo": "y+name",
         "line": {
          "color": "rgb(87,49,167)",
          "width": 10
         },
         "mode": "lines",
         "name": "sailing empty:barge_2",
         "type": "scatter",
         "x": [
          "1970-01-01T00:38:52",
          "1970-01-01T00:38:52",
          "1970-01-01T01:17:44",
          "1970-01-01T01:17:44",
          "1970-01-01T01:17:44",
          "1970-01-01T04:58:26",
          "1970-01-01T04:58:26",
          "1970-01-01T05:37:18",
          "1970-01-01T05:37:18",
          "1970-01-01T05:37:18",
          "1970-01-01T08:11:22",
          "1970-01-01T08:11:22",
          "1970-01-01T08:50:14",
          "1970-01-01T08:50:14",
          "1970-01-01T08:50:14",
          "1970-01-01T11:24:18",
          "1970-01-01T11:24:18",
          "1970-01-01T12:03:10",
          "1970-01-01T12:03:10",
          "1970-01-01T12:03:10",
          "1970-01-01T14:37:14",
          "1970-01-01T14:37:14",
          "1970-01-01T15:16:06",
          "1970-01-01T15:16:06",
          "1970-01-01T15:16:06",
          "1970-01-01T17:50:10",
          "1970-01-01T17:50:10",
          "1970-01-01T18:29:02",
          "1970-01-01T18:29:02",
          "1970-01-01T18:29:02",
          "1970-01-01T21:03:06",
          "1970-01-01T21:03:06",
          "1970-01-01T21:41:58",
          "1970-01-01T21:41:58",
          "1970-01-01T21:41:58"
         ],
         "y": [
          "barge_2",
          "barge_2",
          "barge_2",
          "barge_2",
          null,
          "barge_2",
          "barge_2",
          "barge_2",
          "barge_2",
          null,
          "barge_2",
          "barge_2",
          "barge_2",
          "barge_2",
          null,
          "barge_2",
          "barge_2",
          "barge_2",
          "barge_2",
          null,
          "barge_2",
          "barge_2",
          "barge_2",
          "barge_2",
          null,
          "barge_2",
          "barge_2",
          "barge_2",
          "barge_2",
          null,
          "barge_2",
          "barge_2",
          "barge_2",
          "barge_2",
          null
         ]
        },
        {
         "connectgaps": false,
         "hoverinfo": "y+name",
         "line": {
          "color": "rgb(101,63,181)",
          "width": 10
         },
         "mode": "lines",
         "name": "basic activity:barge_2",
         "type": "scatter",
         "x": [
          "1970-01-01T00:00:00",
          "1970-01-01T00:00:00",
          "1970-01-01T00:38:52",
          "1970-01-01T00:38:52",
          "1970-01-01T00:38:52",
          "1970-01-01T04:19:34",
          "1970-01-01T04:19:34",
          "1970-01-01T04:58:26",
          "1970-01-01T04:58:26",
          "1970-01-01T04:58:26",
          "1970-01-01T07:32:30",
          "1970-01-01T07:32:30",
          "1970-01-01T08:11:22",
          "1970-01-01T08:11:22",
          "1970-01-01T08:11:22",
          "1970-01-01T10:45:26",
          "1970-01-01T10:45:26",
          "1970-01-01T11:24:18",
          "1970-01-01T11:24:18",
          "1970-01-01T11:24:18",
          "1970-01-01T13:58:22",
          "1970-01-01T13:58:22",
          "1970-01-01T14:37:14",
          "1970-01-01T14:37:14",
          "1970-01-01T14:37:14",
          "1970-01-01T17:11:18",
          "1970-01-01T17:11:18",
          "1970-01-01T17:50:10",
          "1970-01-01T17:50:10",
          "1970-01-01T17:50:10",
          "1970-01-01T20:24:14",
          "1970-01-01T20:24:14",
          "1970-01-01T21:03:06",
          "1970-01-01T21:03:06",
          "1970-01-01T21:03:06"
         ],
         "y": [
          "barge_2",
          "barge_2",
          "barge_2",
          "barge_2",
          null,
          "barge_2",
          "barge_2",
          "barge_2",
          "barge_2",
          null,
          "barge_2",
          "barge_2",
          "barge_2",
          "barge_2",
          null,
          "barge_2",
          "barge_2",
          "barge_2",
          "barge_2",
          null,
          "barge_2",
          "barge_2",
          "barge_2",
          "barge_2",
          null,
          "barge_2",
          "barge_2",
          "barge_2",
          "barge_2",
          null,
          "barge_2",
          "barge_2",
          "barge_2",
          "barge_2",
          null
         ]
        },
        {
         "connectgaps": false,
         "hoverinfo": "y+name",
         "line": {
          "color": "rgb(115,77,195)",
          "width": 10
         },
         "mode": "lines",
         "name": "unloading:barge_2",
         "type": "scatter",
         "x": [
          "1970-01-01T03:40:42",
          "1970-01-01T03:40:42",
          "1970-01-01T04:19:34",
          "1970-01-01T04:19:34",
          "1970-01-01T04:19:34",
          "1970-01-01T06:53:38",
          "1970-01-01T06:53:38",
          "1970-01-01T07:32:30",
          "1970-01-01T07:32:30",
          "1970-01-01T07:32:30",
          "1970-01-01T10:06:34",
          "1970-01-01T10:06:34",
          "1970-01-01T10:45:26",
          "1970-01-01T10:45:26",
          "1970-01-01T10:45:26",
          "1970-01-01T13:19:30",
          "1970-01-01T13:19:30",
          "1970-01-01T13:58:22",
          "1970-01-01T13:58:22",
          "1970-01-01T13:58:22",
          "1970-01-01T16:32:26",
          "1970-01-01T16:32:26",
          "1970-01-01T17:11:18",
          "1970-01-01T17:11:18",
          "1970-01-01T17:11:18",
          "1970-01-01T19:45:22",
          "1970-01-01T19:45:22",
          "1970-01-01T20:24:14",
          "1970-01-01T20:24:14",
          "1970-01-01T20:24:14",
          "1970-01-01T22:58:18",
          "1970-01-01T22:58:18",
          "1970-01-01T23:37:10",
          "1970-01-01T23:37:10",
          "1970-01-01T23:37:10"
         ],
         "y": [
          "barge_2",
          "barge_2",
          "barge_2",
          "barge_2",
          null,
          "barge_2",
          "barge_2",
          "barge_2",
          "barge_2",
          null,
          "barge_2",
          "barge_2",
          "barge_2",
          "barge_2",
          null,
          "barge_2",
          "barge_2",
          "barge_2",
          "barge_2",
          null,
          "barge_2",
          "barge_2",
          "barge_2",
          "barge_2",
          null,
          "barge_2",
          "barge_2",
          "barge_2",
          "barge_2",
          null,
          "barge_2",
          "barge_2",
          "barge_2",
          "barge_2",
          null
         ]
        },
        {
         "connectgaps": false,
         "hoverinfo": "y+name",
         "line": {
          "color": "rgb(129,91,209)",
          "width": 10
         },
         "mode": "lines",
         "name": "sailing full:barge_2",
         "type": "scatter",
         "x": [
          "1970-01-01T03:01:50",
          "1970-01-01T03:01:50",
          "1970-01-01T03:40:42",
          "1970-01-01T03:40:42",
          "1970-01-01T03:40:42",
          "1970-01-01T06:14:46",
          "1970-01-01T06:14:46",
          "1970-01-01T06:53:38",
          "1970-01-01T06:53:38",
          "1970-01-01T06:53:38",
          "1970-01-01T09:27:42",
          "1970-01-01T09:27:42",
          "1970-01-01T10:06:34",
          "1970-01-01T10:06:34",
          "1970-01-01T10:06:34",
          "1970-01-01T12:40:38",
          "1970-01-01T12:40:38",
          "1970-01-01T13:19:30",
          "1970-01-01T13:19:30",
          "1970-01-01T13:19:30",
          "1970-01-01T15:53:34",
          "1970-01-01T15:53:34",
          "1970-01-01T16:32:26",
          "1970-01-01T16:32:26",
          "1970-01-01T16:32:26",
          "1970-01-01T19:06:30",
          "1970-01-01T19:06:30",
          "1970-01-01T19:45:22",
          "1970-01-01T19:45:22",
          "1970-01-01T19:45:22",
          "1970-01-01T22:19:26",
          "1970-01-01T22:19:26",
          "1970-01-01T22:58:18",
          "1970-01-01T22:58:18",
          "1970-01-01T22:58:18"
         ],
         "y": [
          "barge_2",
          "barge_2",
          "barge_2",
          "barge_2",
          null,
          "barge_2",
          "barge_2",
          "barge_2",
          "barge_2",
          null,
          "barge_2",
          "barge_2",
          "barge_2",
          "barge_2",
          null,
          "barge_2",
          "barge_2",
          "barge_2",
          "barge_2",
          null,
          "barge_2",
          "barge_2",
          "barge_2",
          "barge_2",
          null,
          "barge_2",
          "barge_2",
          "barge_2",
          "barge_2",
          null,
          "barge_2",
          "barge_2",
          "barge_2",
          "barge_2",
          null
         ]
        },
        {
         "connectgaps": false,
         "hoverinfo": "y+name",
         "line": {
          "color": "rgb(143,105,223)",
          "width": 10
         },
         "mode": "lines",
         "name": "loading:barge_1",
         "type": "scatter",
         "x": [
          "1970-01-01T01:46:50",
          "1970-01-01T01:46:50",
          "1970-01-01T02:28:30",
          "1970-01-01T02:28:30",
          "1970-01-01T02:28:30",
          "1970-01-01T04:59:46",
          "1970-01-01T04:59:46",
          "1970-01-01T05:41:26",
          "1970-01-01T05:41:26",
          "1970-01-01T05:41:26",
          "1970-01-01T08:12:42",
          "1970-01-01T08:12:42",
          "1970-01-01T08:54:22",
          "1970-01-01T08:54:22",
          "1970-01-01T08:54:22",
          "1970-01-01T11:25:38",
          "1970-01-01T11:25:38",
          "1970-01-01T12:07:18",
          "1970-01-01T12:07:18",
          "1970-01-01T12:07:18",
          "1970-01-01T14:38:34",
          "1970-01-01T14:38:34",
          "1970-01-01T15:20:14",
          "1970-01-01T15:20:14",
          "1970-01-01T15:20:14",
          "1970-01-01T17:51:30",
          "1970-01-01T17:51:30",
          "1970-01-01T18:33:10",
          "1970-01-01T18:33:10",
          "1970-01-01T18:33:10",
          "1970-01-01T21:04:26",
          "1970-01-01T21:04:26",
          "1970-01-01T21:46:06",
          "1970-01-01T21:46:06",
          "1970-01-01T21:46:06",
          "1970-01-02T00:17:22",
          "1970-01-02T00:17:22",
          "1970-01-02T00:59:02",
          "1970-01-02T00:59:02",
          "1970-01-02T00:59:02",
          "1970-01-01T01:46:50",
          "1970-01-01T01:46:50",
          "1970-01-01T02:28:30",
          "1970-01-01T02:28:30",
          "1970-01-01T02:28:30",
          "1970-01-01T04:59:46",
          "1970-01-01T04:59:46",
          "1970-01-01T05:41:26",
          "1970-01-01T05:41:26",
          "1970-01-01T05:41:26",
          "1970-01-01T08:12:42",
          "1970-01-01T08:12:42",
          "1970-01-01T08:54:22",
          "1970-01-01T08:54:22",
          "1970-01-01T08:54:22",
          "1970-01-01T11:25:38",
          "1970-01-01T11:25:38",
          "1970-01-01T12:07:18",
          "1970-01-01T12:07:18",
          "1970-01-01T12:07:18",
          "1970-01-01T14:38:34",
          "1970-01-01T14:38:34",
          "1970-01-01T15:20:14",
          "1970-01-01T15:20:14",
          "1970-01-01T15:20:14",
          "1970-01-01T17:51:30",
          "1970-01-01T17:51:30",
          "1970-01-01T18:33:10",
          "1970-01-01T18:33:10",
          "1970-01-01T18:33:10",
          "1970-01-01T21:04:26",
          "1970-01-01T21:04:26",
          "1970-01-01T21:46:06",
          "1970-01-01T21:46:06",
          "1970-01-01T21:46:06",
          "1970-01-02T00:17:22",
          "1970-01-02T00:17:22",
          "1970-01-02T00:59:02",
          "1970-01-02T00:59:02",
          "1970-01-02T00:59:02"
         ],
         "y": [
          "barge_1",
          "barge_1",
          "barge_1",
          "barge_1",
          null,
          "barge_1",
          "barge_1",
          "barge_1",
          "barge_1",
          null,
          "barge_1",
          "barge_1",
          "barge_1",
          "barge_1",
          null,
          "barge_1",
          "barge_1",
          "barge_1",
          "barge_1",
          null,
          "barge_1",
          "barge_1",
          "barge_1",
          "barge_1",
          null,
          "barge_1",
          "barge_1",
          "barge_1",
          "barge_1",
          null,
          "barge_1",
          "barge_1",
          "barge_1",
          "barge_1",
          null,
          "barge_1",
          "barge_1",
          "barge_1",
          "barge_1",
          null,
          "cutter",
          "cutter",
          "cutter",
          "cutter",
          null,
          "cutter",
          "cutter",
          "cutter",
          "cutter",
          null,
          "cutter",
          "cutter",
          "cutter",
          "cutter",
          null,
          "cutter",
          "cutter",
          "cutter",
          "cutter",
          null,
          "cutter",
          "cutter",
          "cutter",
          "cutter",
          null,
          "cutter",
          "cutter",
          "cutter",
          "cutter",
          null,
          "cutter",
          "cutter",
          "cutter",
          "cutter",
          null,
          "cutter",
          "cutter",
          "cutter",
          "cutter",
          null
         ]
        },
        {
         "connectgaps": false,
         "hoverinfo": "y+name",
         "line": {
          "color": "rgb(157,119,237)",
          "width": 10
         },
         "mode": "lines",
         "name": "loading:barge_2",
         "type": "scatter",
         "x": [
          "1970-01-01T02:28:30",
          "1970-01-01T02:28:30",
          "1970-01-01T03:01:50",
          "1970-01-01T03:01:50",
          "1970-01-01T03:01:50",
          "1970-01-01T05:41:26",
          "1970-01-01T05:41:26",
          "1970-01-01T06:14:46",
          "1970-01-01T06:14:46",
          "1970-01-01T06:14:46",
          "1970-01-01T08:54:22",
          "1970-01-01T08:54:22",
          "1970-01-01T09:27:42",
          "1970-01-01T09:27:42",
          "1970-01-01T09:27:42",
          "1970-01-01T12:07:18",
          "1970-01-01T12:07:18",
          "1970-01-01T12:40:38",
          "1970-01-01T12:40:38",
          "1970-01-01T12:40:38",
          "1970-01-01T15:20:14",
          "1970-01-01T15:20:14",
          "1970-01-01T15:53:34",
          "1970-01-01T15:53:34",
          "1970-01-01T15:53:34",
          "1970-01-01T18:33:10",
          "1970-01-01T18:33:10",
          "1970-01-01T19:06:30",
          "1970-01-01T19:06:30",
          "1970-01-01T19:06:30",
          "1970-01-01T21:46:06",
          "1970-01-01T21:46:06",
          "1970-01-01T22:19:26",
          "1970-01-01T22:19:26",
          "1970-01-01T22:19:26",
          "1970-01-01T02:28:30",
          "1970-01-01T02:28:30",
          "1970-01-01T03:01:50",
          "1970-01-01T03:01:50",
          "1970-01-01T03:01:50",
          "1970-01-01T05:41:26",
          "1970-01-01T05:41:26",
          "1970-01-01T06:14:46",
          "1970-01-01T06:14:46",
          "1970-01-01T06:14:46",
          "1970-01-01T08:54:22",
          "1970-01-01T08:54:22",
          "1970-01-01T09:27:42",
          "1970-01-01T09:27:42",
          "1970-01-01T09:27:42",
          "1970-01-01T12:07:18",
          "1970-01-01T12:07:18",
          "1970-01-01T12:40:38",
          "1970-01-01T12:40:38",
          "1970-01-01T12:40:38",
          "1970-01-01T15:20:14",
          "1970-01-01T15:20:14",
          "1970-01-01T15:53:34",
          "1970-01-01T15:53:34",
          "1970-01-01T15:53:34",
          "1970-01-01T18:33:10",
          "1970-01-01T18:33:10",
          "1970-01-01T19:06:30",
          "1970-01-01T19:06:30",
          "1970-01-01T19:06:30",
          "1970-01-01T21:46:06",
          "1970-01-01T21:46:06",
          "1970-01-01T22:19:26",
          "1970-01-01T22:19:26",
          "1970-01-01T22:19:26"
         ],
         "y": [
          "barge_2",
          "barge_2",
          "barge_2",
          "barge_2",
          null,
          "barge_2",
          "barge_2",
          "barge_2",
          "barge_2",
          null,
          "barge_2",
          "barge_2",
          "barge_2",
          "barge_2",
          null,
          "barge_2",
          "barge_2",
          "barge_2",
          "barge_2",
          null,
          "barge_2",
          "barge_2",
          "barge_2",
          "barge_2",
          null,
          "barge_2",
          "barge_2",
          "barge_2",
          "barge_2",
          null,
          "barge_2",
          "barge_2",
          "barge_2",
          "barge_2",
          null,
          "cutter",
          "cutter",
          "cutter",
          "cutter",
          null,
          "cutter",
          "cutter",
          "cutter",
          "cutter",
          null,
          "cutter",
          "cutter",
          "cutter",
          "cutter",
          null,
          "cutter",
          "cutter",
          "cutter",
          "cutter",
          null,
          "cutter",
          "cutter",
          "cutter",
          "cutter",
          null,
          "cutter",
          "cutter",
          "cutter",
          "cutter",
          null,
          "cutter",
          "cutter",
          "cutter",
          "cutter",
          null
         ]
        },
        {
         "connectgaps": false,
         "hoverinfo": "y+name",
         "line": {
          "color": "rgb(171,133,251)",
          "width": 10
         },
         "mode": "lines",
         "name": "loading:barge_0",
         "type": "scatter",
         "x": [
          "1970-01-01T01:13:30",
          "1970-01-01T01:13:30",
          "1970-01-01T01:46:50",
          "1970-01-01T01:46:50",
          "1970-01-01T01:46:50",
          "1970-01-01T04:13:50",
          "1970-01-01T04:13:50",
          "1970-01-01T04:47:10",
          "1970-01-01T04:47:10",
          "1970-01-01T04:47:10",
          "1970-01-01T07:14:10",
          "1970-01-01T07:14:10",
          "1970-01-01T07:47:30",
          "1970-01-01T07:47:30",
          "1970-01-01T07:47:30",
          "1970-01-01T10:14:30",
          "1970-01-01T10:14:30",
          "1970-01-01T10:47:50",
          "1970-01-01T10:47:50",
          "1970-01-01T10:47:50",
          "1970-01-01T13:14:50",
          "1970-01-01T13:14:50",
          "1970-01-01T13:48:10",
          "1970-01-01T13:48:10",
          "1970-01-01T13:48:10",
          "1970-01-01T16:15:10",
          "1970-01-01T16:15:10",
          "1970-01-01T16:48:30",
          "1970-01-01T16:48:30",
          "1970-01-01T16:48:30",
          "1970-01-01T19:15:30",
          "1970-01-01T19:15:30",
          "1970-01-01T19:48:50",
          "1970-01-01T19:48:50",
          "1970-01-01T19:48:50",
          "1970-01-01T22:19:26",
          "1970-01-01T22:19:26",
          "1970-01-01T22:52:46",
          "1970-01-01T22:52:46",
          "1970-01-01T22:52:46",
          "1970-01-01T01:13:30",
          "1970-01-01T01:13:30",
          "1970-01-01T01:46:50",
          "1970-01-01T01:46:50",
          "1970-01-01T01:46:50",
          "1970-01-01T04:13:50",
          "1970-01-01T04:13:50",
          "1970-01-01T04:47:10",
          "1970-01-01T04:47:10",
          "1970-01-01T04:47:10",
          "1970-01-01T07:14:10",
          "1970-01-01T07:14:10",
          "1970-01-01T07:47:30",
          "1970-01-01T07:47:30",
          "1970-01-01T07:47:30",
          "1970-01-01T10:14:30",
          "1970-01-01T10:14:30",
          "1970-01-01T10:47:50",
          "1970-01-01T10:47:50",
          "1970-01-01T10:47:50",
          "1970-01-01T13:14:50",
          "1970-01-01T13:14:50",
          "1970-01-01T13:48:10",
          "1970-01-01T13:48:10",
          "1970-01-01T13:48:10",
          "1970-01-01T16:15:10",
          "1970-01-01T16:15:10",
          "1970-01-01T16:48:30",
          "1970-01-01T16:48:30",
          "1970-01-01T16:48:30",
          "1970-01-01T19:15:30",
          "1970-01-01T19:15:30",
          "1970-01-01T19:48:50",
          "1970-01-01T19:48:50",
          "1970-01-01T19:48:50",
          "1970-01-01T22:19:26",
          "1970-01-01T22:19:26",
          "1970-01-01T22:52:46",
          "1970-01-01T22:52:46",
          "1970-01-01T22:52:46"
         ],
         "y": [
          "barge_0",
          "barge_0",
          "barge_0",
          "barge_0",
          null,
          "barge_0",
          "barge_0",
          "barge_0",
          "barge_0",
          null,
          "barge_0",
          "barge_0",
          "barge_0",
          "barge_0",
          null,
          "barge_0",
          "barge_0",
          "barge_0",
          "barge_0",
          null,
          "barge_0",
          "barge_0",
          "barge_0",
          "barge_0",
          null,
          "barge_0",
          "barge_0",
          "barge_0",
          "barge_0",
          null,
          "barge_0",
          "barge_0",
          "barge_0",
          "barge_0",
          null,
          "barge_0",
          "barge_0",
          "barge_0",
          "barge_0",
          null,
          "cutter",
          "cutter",
          "cutter",
          "cutter",
          null,
          "cutter",
          "cutter",
          "cutter",
          "cutter",
          null,
          "cutter",
          "cutter",
          "cutter",
          "cutter",
          null,
          "cutter",
          "cutter",
          "cutter",
          "cutter",
          null,
          "cutter",
          "cutter",
          "cutter",
          "cutter",
          null,
          "cutter",
          "cutter",
          "cutter",
          "cutter",
          null,
          "cutter",
          "cutter",
          "cutter",
          "cutter",
          null,
          "cutter",
          "cutter",
          "cutter",
          "cutter",
          null
         ]
        }
       ],
       "layout": {
        "hovermode": "closest",
        "legend": {
         "orientation": "h",
         "x": 0,
         "y": -0.2
        },
        "template": {
         "data": {
          "bar": [
           {
            "error_x": {
             "color": "#2a3f5f"
            },
            "error_y": {
             "color": "#2a3f5f"
            },
            "marker": {
             "line": {
              "color": "#E5ECF6",
              "width": 0.5
             },
             "pattern": {
              "fillmode": "overlay",
              "size": 10,
              "solidity": 0.2
             }
            },
            "type": "bar"
           }
          ],
          "barpolar": [
           {
            "marker": {
             "line": {
              "color": "#E5ECF6",
              "width": 0.5
             },
             "pattern": {
              "fillmode": "overlay",
              "size": 10,
              "solidity": 0.2
             }
            },
            "type": "barpolar"
           }
          ],
          "carpet": [
           {
            "aaxis": {
             "endlinecolor": "#2a3f5f",
             "gridcolor": "white",
             "linecolor": "white",
             "minorgridcolor": "white",
             "startlinecolor": "#2a3f5f"
            },
            "baxis": {
             "endlinecolor": "#2a3f5f",
             "gridcolor": "white",
             "linecolor": "white",
             "minorgridcolor": "white",
             "startlinecolor": "#2a3f5f"
            },
            "type": "carpet"
           }
          ],
          "choropleth": [
           {
            "colorbar": {
             "outlinewidth": 0,
             "ticks": ""
            },
            "type": "choropleth"
           }
          ],
          "contour": [
           {
            "colorbar": {
             "outlinewidth": 0,
             "ticks": ""
            },
            "colorscale": [
             [
              0,
              "#0d0887"
             ],
             [
              0.1111111111111111,
              "#46039f"
             ],
             [
              0.2222222222222222,
              "#7201a8"
             ],
             [
              0.3333333333333333,
              "#9c179e"
             ],
             [
              0.4444444444444444,
              "#bd3786"
             ],
             [
              0.5555555555555556,
              "#d8576b"
             ],
             [
              0.6666666666666666,
              "#ed7953"
             ],
             [
              0.7777777777777778,
              "#fb9f3a"
             ],
             [
              0.8888888888888888,
              "#fdca26"
             ],
             [
              1,
              "#f0f921"
             ]
            ],
            "type": "contour"
           }
          ],
          "contourcarpet": [
           {
            "colorbar": {
             "outlinewidth": 0,
             "ticks": ""
            },
            "type": "contourcarpet"
           }
          ],
          "heatmap": [
           {
            "colorbar": {
             "outlinewidth": 0,
             "ticks": ""
            },
            "colorscale": [
             [
              0,
              "#0d0887"
             ],
             [
              0.1111111111111111,
              "#46039f"
             ],
             [
              0.2222222222222222,
              "#7201a8"
             ],
             [
              0.3333333333333333,
              "#9c179e"
             ],
             [
              0.4444444444444444,
              "#bd3786"
             ],
             [
              0.5555555555555556,
              "#d8576b"
             ],
             [
              0.6666666666666666,
              "#ed7953"
             ],
             [
              0.7777777777777778,
              "#fb9f3a"
             ],
             [
              0.8888888888888888,
              "#fdca26"
             ],
             [
              1,
              "#f0f921"
             ]
            ],
            "type": "heatmap"
           }
          ],
          "heatmapgl": [
           {
            "colorbar": {
             "outlinewidth": 0,
             "ticks": ""
            },
            "colorscale": [
             [
              0,
              "#0d0887"
             ],
             [
              0.1111111111111111,
              "#46039f"
             ],
             [
              0.2222222222222222,
              "#7201a8"
             ],
             [
              0.3333333333333333,
              "#9c179e"
             ],
             [
              0.4444444444444444,
              "#bd3786"
             ],
             [
              0.5555555555555556,
              "#d8576b"
             ],
             [
              0.6666666666666666,
              "#ed7953"
             ],
             [
              0.7777777777777778,
              "#fb9f3a"
             ],
             [
              0.8888888888888888,
              "#fdca26"
             ],
             [
              1,
              "#f0f921"
             ]
            ],
            "type": "heatmapgl"
           }
          ],
          "histogram": [
           {
            "marker": {
             "pattern": {
              "fillmode": "overlay",
              "size": 10,
              "solidity": 0.2
             }
            },
            "type": "histogram"
           }
          ],
          "histogram2d": [
           {
            "colorbar": {
             "outlinewidth": 0,
             "ticks": ""
            },
            "colorscale": [
             [
              0,
              "#0d0887"
             ],
             [
              0.1111111111111111,
              "#46039f"
             ],
             [
              0.2222222222222222,
              "#7201a8"
             ],
             [
              0.3333333333333333,
              "#9c179e"
             ],
             [
              0.4444444444444444,
              "#bd3786"
             ],
             [
              0.5555555555555556,
              "#d8576b"
             ],
             [
              0.6666666666666666,
              "#ed7953"
             ],
             [
              0.7777777777777778,
              "#fb9f3a"
             ],
             [
              0.8888888888888888,
              "#fdca26"
             ],
             [
              1,
              "#f0f921"
             ]
            ],
            "type": "histogram2d"
           }
          ],
          "histogram2dcontour": [
           {
            "colorbar": {
             "outlinewidth": 0,
             "ticks": ""
            },
            "colorscale": [
             [
              0,
              "#0d0887"
             ],
             [
              0.1111111111111111,
              "#46039f"
             ],
             [
              0.2222222222222222,
              "#7201a8"
             ],
             [
              0.3333333333333333,
              "#9c179e"
             ],
             [
              0.4444444444444444,
              "#bd3786"
             ],
             [
              0.5555555555555556,
              "#d8576b"
             ],
             [
              0.6666666666666666,
              "#ed7953"
             ],
             [
              0.7777777777777778,
              "#fb9f3a"
             ],
             [
              0.8888888888888888,
              "#fdca26"
             ],
             [
              1,
              "#f0f921"
             ]
            ],
            "type": "histogram2dcontour"
           }
          ],
          "mesh3d": [
           {
            "colorbar": {
             "outlinewidth": 0,
             "ticks": ""
            },
            "type": "mesh3d"
           }
          ],
          "parcoords": [
           {
            "line": {
             "colorbar": {
              "outlinewidth": 0,
              "ticks": ""
             }
            },
            "type": "parcoords"
           }
          ],
          "pie": [
           {
            "automargin": true,
            "type": "pie"
           }
          ],
          "scatter": [
           {
            "marker": {
             "colorbar": {
              "outlinewidth": 0,
              "ticks": ""
             }
            },
            "type": "scatter"
           }
          ],
          "scatter3d": [
           {
            "line": {
             "colorbar": {
              "outlinewidth": 0,
              "ticks": ""
             }
            },
            "marker": {
             "colorbar": {
              "outlinewidth": 0,
              "ticks": ""
             }
            },
            "type": "scatter3d"
           }
          ],
          "scattercarpet": [
           {
            "marker": {
             "colorbar": {
              "outlinewidth": 0,
              "ticks": ""
             }
            },
            "type": "scattercarpet"
           }
          ],
          "scattergeo": [
           {
            "marker": {
             "colorbar": {
              "outlinewidth": 0,
              "ticks": ""
             }
            },
            "type": "scattergeo"
           }
          ],
          "scattergl": [
           {
            "marker": {
             "colorbar": {
              "outlinewidth": 0,
              "ticks": ""
             }
            },
            "type": "scattergl"
           }
          ],
          "scattermapbox": [
           {
            "marker": {
             "colorbar": {
              "outlinewidth": 0,
              "ticks": ""
             }
            },
            "type": "scattermapbox"
           }
          ],
          "scatterpolar": [
           {
            "marker": {
             "colorbar": {
              "outlinewidth": 0,
              "ticks": ""
             }
            },
            "type": "scatterpolar"
           }
          ],
          "scatterpolargl": [
           {
            "marker": {
             "colorbar": {
              "outlinewidth": 0,
              "ticks": ""
             }
            },
            "type": "scatterpolargl"
           }
          ],
          "scatterternary": [
           {
            "marker": {
             "colorbar": {
              "outlinewidth": 0,
              "ticks": ""
             }
            },
            "type": "scatterternary"
           }
          ],
          "surface": [
           {
            "colorbar": {
             "outlinewidth": 0,
             "ticks": ""
            },
            "colorscale": [
             [
              0,
              "#0d0887"
             ],
             [
              0.1111111111111111,
              "#46039f"
             ],
             [
              0.2222222222222222,
              "#7201a8"
             ],
             [
              0.3333333333333333,
              "#9c179e"
             ],
             [
              0.4444444444444444,
              "#bd3786"
             ],
             [
              0.5555555555555556,
              "#d8576b"
             ],
             [
              0.6666666666666666,
              "#ed7953"
             ],
             [
              0.7777777777777778,
              "#fb9f3a"
             ],
             [
              0.8888888888888888,
              "#fdca26"
             ],
             [
              1,
              "#f0f921"
             ]
            ],
            "type": "surface"
           }
          ],
          "table": [
           {
            "cells": {
             "fill": {
              "color": "#EBF0F8"
             },
             "line": {
              "color": "white"
             }
            },
            "header": {
             "fill": {
              "color": "#C8D4E3"
             },
             "line": {
              "color": "white"
             }
            },
            "type": "table"
           }
          ]
         },
         "layout": {
          "annotationdefaults": {
           "arrowcolor": "#2a3f5f",
           "arrowhead": 0,
           "arrowwidth": 1
          },
          "autotypenumbers": "strict",
          "coloraxis": {
           "colorbar": {
            "outlinewidth": 0,
            "ticks": ""
           }
          },
          "colorscale": {
           "diverging": [
            [
             0,
             "#8e0152"
            ],
            [
             0.1,
             "#c51b7d"
            ],
            [
             0.2,
             "#de77ae"
            ],
            [
             0.3,
             "#f1b6da"
            ],
            [
             0.4,
             "#fde0ef"
            ],
            [
             0.5,
             "#f7f7f7"
            ],
            [
             0.6,
             "#e6f5d0"
            ],
            [
             0.7,
             "#b8e186"
            ],
            [
             0.8,
             "#7fbc41"
            ],
            [
             0.9,
             "#4d9221"
            ],
            [
             1,
             "#276419"
            ]
           ],
           "sequential": [
            [
             0,
             "#0d0887"
            ],
            [
             0.1111111111111111,
             "#46039f"
            ],
            [
             0.2222222222222222,
             "#7201a8"
            ],
            [
             0.3333333333333333,
             "#9c179e"
            ],
            [
             0.4444444444444444,
             "#bd3786"
            ],
            [
             0.5555555555555556,
             "#d8576b"
            ],
            [
             0.6666666666666666,
             "#ed7953"
            ],
            [
             0.7777777777777778,
             "#fb9f3a"
            ],
            [
             0.8888888888888888,
             "#fdca26"
            ],
            [
             1,
             "#f0f921"
            ]
           ],
           "sequentialminus": [
            [
             0,
             "#0d0887"
            ],
            [
             0.1111111111111111,
             "#46039f"
            ],
            [
             0.2222222222222222,
             "#7201a8"
            ],
            [
             0.3333333333333333,
             "#9c179e"
            ],
            [
             0.4444444444444444,
             "#bd3786"
            ],
            [
             0.5555555555555556,
             "#d8576b"
            ],
            [
             0.6666666666666666,
             "#ed7953"
            ],
            [
             0.7777777777777778,
             "#fb9f3a"
            ],
            [
             0.8888888888888888,
             "#fdca26"
            ],
            [
             1,
             "#f0f921"
            ]
           ]
          },
          "colorway": [
           "#636efa",
           "#EF553B",
           "#00cc96",
           "#ab63fa",
           "#FFA15A",
           "#19d3f3",
           "#FF6692",
           "#B6E880",
           "#FF97FF",
           "#FECB52"
          ],
          "font": {
           "color": "#2a3f5f"
          },
          "geo": {
           "bgcolor": "white",
           "lakecolor": "white",
           "landcolor": "#E5ECF6",
           "showlakes": true,
           "showland": true,
           "subunitcolor": "white"
          },
          "hoverlabel": {
           "align": "left"
          },
          "hovermode": "closest",
          "mapbox": {
           "style": "light"
          },
          "paper_bgcolor": "white",
          "plot_bgcolor": "#E5ECF6",
          "polar": {
           "angularaxis": {
            "gridcolor": "white",
            "linecolor": "white",
            "ticks": ""
           },
           "bgcolor": "#E5ECF6",
           "radialaxis": {
            "gridcolor": "white",
            "linecolor": "white",
            "ticks": ""
           }
          },
          "scene": {
           "xaxis": {
            "backgroundcolor": "#E5ECF6",
            "gridcolor": "white",
            "gridwidth": 2,
            "linecolor": "white",
            "showbackground": true,
            "ticks": "",
            "zerolinecolor": "white"
           },
           "yaxis": {
            "backgroundcolor": "#E5ECF6",
            "gridcolor": "white",
            "gridwidth": 2,
            "linecolor": "white",
            "showbackground": true,
            "ticks": "",
            "zerolinecolor": "white"
           },
           "zaxis": {
            "backgroundcolor": "#E5ECF6",
            "gridcolor": "white",
            "gridwidth": 2,
            "linecolor": "white",
            "showbackground": true,
            "ticks": "",
            "zerolinecolor": "white"
           }
          },
          "shapedefaults": {
           "line": {
            "color": "#2a3f5f"
           }
          },
          "ternary": {
           "aaxis": {
            "gridcolor": "white",
            "linecolor": "white",
            "ticks": ""
           },
           "baxis": {
            "gridcolor": "white",
            "linecolor": "white",
            "ticks": ""
           },
           "bgcolor": "#E5ECF6",
           "caxis": {
            "gridcolor": "white",
            "linecolor": "white",
            "ticks": ""
           }
          },
          "title": {
           "x": 0.05
          },
          "xaxis": {
           "automargin": true,
           "gridcolor": "white",
           "linecolor": "white",
           "ticks": "",
           "title": {
            "standoff": 15
           },
           "zerolinecolor": "white",
           "zerolinewidth": 2
          },
          "yaxis": {
           "automargin": true,
           "gridcolor": "white",
           "linecolor": "white",
           "ticks": "",
           "title": {
            "standoff": 15
           },
           "zerolinecolor": "white",
           "zerolinewidth": 2
          }
         }
        },
        "title": {
         "text": "GANTT Chart"
        },
        "xaxis": {
         "range": [
          "1970-01-01T00:00:00",
          "1970-01-02T02:14:40"
         ],
         "title": {
          "font": {
           "color": "#7f7f7f",
           "family": "Courier New, monospace",
           "size": 18
          },
          "text": "Time"
         }
        },
        "yaxis": {
         "title": {
          "font": {
           "color": "#7f7f7f",
           "family": "Courier New, monospace",
           "size": 18
          },
          "text": "Activities"
         }
        }
       }
      },
      "text/html": [
       "<div>                            <div id=\"a8ae4898-47e9-4a9e-981d-c89f18e4b3b4\" class=\"plotly-graph-div\" style=\"height:525px; width:100%;\"></div>            <script type=\"text/javascript\">                require([\"plotly\"], function(Plotly) {                    window.PLOTLYENV=window.PLOTLYENV || {};                                    if (document.getElementById(\"a8ae4898-47e9-4a9e-981d-c89f18e4b3b4\")) {                    Plotly.newPlot(                        \"a8ae4898-47e9-4a9e-981d-c89f18e4b3b4\",                        [{\"connectgaps\":false,\"hoverinfo\":\"y+name\",\"line\":{\"color\":\"rgb(189,151,13)\",\"width\":10},\"mode\":\"lines\",\"name\":\"loading:barge_0\",\"x\":[\"1970-01-01T01:13:30\",\"1970-01-01T01:13:30\",\"1970-01-01T01:46:50\",\"1970-01-01T01:46:50\",\"1970-01-01T01:46:50\",\"1970-01-01T04:13:50\",\"1970-01-01T04:13:50\",\"1970-01-01T04:47:10\",\"1970-01-01T04:47:10\",\"1970-01-01T04:47:10\",\"1970-01-01T07:14:10\",\"1970-01-01T07:14:10\",\"1970-01-01T07:47:30\",\"1970-01-01T07:47:30\",\"1970-01-01T07:47:30\",\"1970-01-01T10:14:30\",\"1970-01-01T10:14:30\",\"1970-01-01T10:47:50\",\"1970-01-01T10:47:50\",\"1970-01-01T10:47:50\",\"1970-01-01T13:14:50\",\"1970-01-01T13:14:50\",\"1970-01-01T13:48:10\",\"1970-01-01T13:48:10\",\"1970-01-01T13:48:10\",\"1970-01-01T16:15:10\",\"1970-01-01T16:15:10\",\"1970-01-01T16:48:30\",\"1970-01-01T16:48:30\",\"1970-01-01T16:48:30\",\"1970-01-01T19:15:30\",\"1970-01-01T19:15:30\",\"1970-01-01T19:48:50\",\"1970-01-01T19:48:50\",\"1970-01-01T19:48:50\",\"1970-01-01T22:19:26\",\"1970-01-01T22:19:26\",\"1970-01-01T22:52:46\",\"1970-01-01T22:52:46\",\"1970-01-01T22:52:46\",\"1970-01-01T01:13:30\",\"1970-01-01T01:13:30\",\"1970-01-01T01:46:50\",\"1970-01-01T01:46:50\",\"1970-01-01T01:46:50\",\"1970-01-01T04:13:50\",\"1970-01-01T04:13:50\",\"1970-01-01T04:47:10\",\"1970-01-01T04:47:10\",\"1970-01-01T04:47:10\",\"1970-01-01T07:14:10\",\"1970-01-01T07:14:10\",\"1970-01-01T07:47:30\",\"1970-01-01T07:47:30\",\"1970-01-01T07:47:30\",\"1970-01-01T10:14:30\",\"1970-01-01T10:14:30\",\"1970-01-01T10:47:50\",\"1970-01-01T10:47:50\",\"1970-01-01T10:47:50\",\"1970-01-01T13:14:50\",\"1970-01-01T13:14:50\",\"1970-01-01T13:48:10\",\"1970-01-01T13:48:10\",\"1970-01-01T13:48:10\",\"1970-01-01T16:15:10\",\"1970-01-01T16:15:10\",\"1970-01-01T16:48:30\",\"1970-01-01T16:48:30\",\"1970-01-01T16:48:30\",\"1970-01-01T19:15:30\",\"1970-01-01T19:15:30\",\"1970-01-01T19:48:50\",\"1970-01-01T19:48:50\",\"1970-01-01T19:48:50\",\"1970-01-01T22:19:26\",\"1970-01-01T22:19:26\",\"1970-01-01T22:52:46\",\"1970-01-01T22:52:46\",\"1970-01-01T22:52:46\"],\"y\":[\"barge_0\",\"barge_0\",\"barge_0\",\"barge_0\",null,\"barge_0\",\"barge_0\",\"barge_0\",\"barge_0\",null,\"barge_0\",\"barge_0\",\"barge_0\",\"barge_0\",null,\"barge_0\",\"barge_0\",\"barge_0\",\"barge_0\",null,\"barge_0\",\"barge_0\",\"barge_0\",\"barge_0\",null,\"barge_0\",\"barge_0\",\"barge_0\",\"barge_0\",null,\"barge_0\",\"barge_0\",\"barge_0\",\"barge_0\",null,\"barge_0\",\"barge_0\",\"barge_0\",\"barge_0\",null,\"cutter\",\"cutter\",\"cutter\",\"cutter\",null,\"cutter\",\"cutter\",\"cutter\",\"cutter\",null,\"cutter\",\"cutter\",\"cutter\",\"cutter\",null,\"cutter\",\"cutter\",\"cutter\",\"cutter\",null,\"cutter\",\"cutter\",\"cutter\",\"cutter\",null,\"cutter\",\"cutter\",\"cutter\",\"cutter\",null,\"cutter\",\"cutter\",\"cutter\",\"cutter\",null,\"cutter\",\"cutter\",\"cutter\",\"cutter\",null],\"type\":\"scatter\"},{\"connectgaps\":false,\"hoverinfo\":\"y+name\",\"line\":{\"color\":\"rgb(203,165,27)\",\"width\":10},\"mode\":\"lines\",\"name\":\"basic activity:barge_0\",\"x\":[\"1970-01-01T00:00:00\",\"1970-01-01T00:00:00\",\"1970-01-01T00:36:45\",\"1970-01-01T00:36:45\",\"1970-01-01T00:36:45\",\"1970-01-01T03:00:20\",\"1970-01-01T03:00:20\",\"1970-01-01T03:37:05\",\"1970-01-01T03:37:05\",\"1970-01-01T03:37:05\",\"1970-01-01T06:00:40\",\"1970-01-01T06:00:40\",\"1970-01-01T06:37:25\",\"1970-01-01T06:37:25\",\"1970-01-01T06:37:25\",\"1970-01-01T09:01:00\",\"1970-01-01T09:01:00\",\"1970-01-01T09:37:45\",\"1970-01-01T09:37:45\",\"1970-01-01T09:37:45\",\"1970-01-01T12:01:20\",\"1970-01-01T12:01:20\",\"1970-01-01T12:38:05\",\"1970-01-01T12:38:05\",\"1970-01-01T12:38:05\",\"1970-01-01T15:01:40\",\"1970-01-01T15:01:40\",\"1970-01-01T15:38:25\",\"1970-01-01T15:38:25\",\"1970-01-01T15:38:25\",\"1970-01-01T18:02:00\",\"1970-01-01T18:02:00\",\"1970-01-01T18:38:45\",\"1970-01-01T18:38:45\",\"1970-01-01T18:38:45\",\"1970-01-01T21:02:20\",\"1970-01-01T21:02:20\",\"1970-01-01T21:39:05\",\"1970-01-01T21:39:05\",\"1970-01-01T21:39:05\"],\"y\":[\"barge_0\",\"barge_0\",\"barge_0\",\"barge_0\",null,\"barge_0\",\"barge_0\",\"barge_0\",\"barge_0\",null,\"barge_0\",\"barge_0\",\"barge_0\",\"barge_0\",null,\"barge_0\",\"barge_0\",\"barge_0\",\"barge_0\",null,\"barge_0\",\"barge_0\",\"barge_0\",\"barge_0\",null,\"barge_0\",\"barge_0\",\"barge_0\",\"barge_0\",null,\"barge_0\",\"barge_0\",\"barge_0\",\"barge_0\",null,\"barge_0\",\"barge_0\",\"barge_0\",\"barge_0\",null],\"type\":\"scatter\"},{\"connectgaps\":false,\"hoverinfo\":\"y+name\",\"line\":{\"color\":\"rgb(217,179,41)\",\"width\":10},\"mode\":\"lines\",\"name\":\"unloading:barge_0\",\"x\":[\"1970-01-01T02:23:35\",\"1970-01-01T02:23:35\",\"1970-01-01T03:00:20\",\"1970-01-01T03:00:20\",\"1970-01-01T03:00:20\",\"1970-01-01T05:23:55\",\"1970-01-01T05:23:55\",\"1970-01-01T06:00:40\",\"1970-01-01T06:00:40\",\"1970-01-01T06:00:40\",\"1970-01-01T08:24:15\",\"1970-01-01T08:24:15\",\"1970-01-01T09:01:00\",\"1970-01-01T09:01:00\",\"1970-01-01T09:01:00\",\"1970-01-01T11:24:35\",\"1970-01-01T11:24:35\",\"1970-01-01T12:01:20\",\"1970-01-01T12:01:20\",\"1970-01-01T12:01:20\",\"1970-01-01T14:24:55\",\"1970-01-01T14:24:55\",\"1970-01-01T15:01:40\",\"1970-01-01T15:01:40\",\"1970-01-01T15:01:40\",\"1970-01-01T17:25:15\",\"1970-01-01T17:25:15\",\"1970-01-01T18:02:00\",\"1970-01-01T18:02:00\",\"1970-01-01T18:02:00\",\"1970-01-01T20:25:35\",\"1970-01-01T20:25:35\",\"1970-01-01T21:02:20\",\"1970-01-01T21:02:20\",\"1970-01-01T21:02:20\",\"1970-01-01T23:29:31\",\"1970-01-01T23:29:31\",\"1970-01-02T00:06:16\",\"1970-01-02T00:06:16\",\"1970-01-02T00:06:16\"],\"y\":[\"barge_0\",\"barge_0\",\"barge_0\",\"barge_0\",null,\"barge_0\",\"barge_0\",\"barge_0\",\"barge_0\",null,\"barge_0\",\"barge_0\",\"barge_0\",\"barge_0\",null,\"barge_0\",\"barge_0\",\"barge_0\",\"barge_0\",null,\"barge_0\",\"barge_0\",\"barge_0\",\"barge_0\",null,\"barge_0\",\"barge_0\",\"barge_0\",\"barge_0\",null,\"barge_0\",\"barge_0\",\"barge_0\",\"barge_0\",null,\"barge_0\",\"barge_0\",\"barge_0\",\"barge_0\",null],\"type\":\"scatter\"},{\"connectgaps\":false,\"hoverinfo\":\"y+name\",\"line\":{\"color\":\"rgb(231,193,55)\",\"width\":10},\"mode\":\"lines\",\"name\":\"sailing full:barge_0\",\"x\":[\"1970-01-01T01:46:50\",\"1970-01-01T01:46:50\",\"1970-01-01T02:23:35\",\"1970-01-01T02:23:35\",\"1970-01-01T02:23:35\",\"1970-01-01T04:47:10\",\"1970-01-01T04:47:10\",\"1970-01-01T05:23:55\",\"1970-01-01T05:23:55\",\"1970-01-01T05:23:55\",\"1970-01-01T07:47:30\",\"1970-01-01T07:47:30\",\"1970-01-01T08:24:15\",\"1970-01-01T08:24:15\",\"1970-01-01T08:24:15\",\"1970-01-01T10:47:50\",\"1970-01-01T10:47:50\",\"1970-01-01T11:24:35\",\"1970-01-01T11:24:35\",\"1970-01-01T11:24:35\",\"1970-01-01T13:48:10\",\"1970-01-01T13:48:10\",\"1970-01-01T14:24:55\",\"1970-01-01T14:24:55\",\"1970-01-01T14:24:55\",\"1970-01-01T16:48:30\",\"1970-01-01T16:48:30\",\"1970-01-01T17:25:15\",\"1970-01-01T17:25:15\",\"1970-01-01T17:25:15\",\"1970-01-01T19:48:50\",\"1970-01-01T19:48:50\",\"1970-01-01T20:25:35\",\"1970-01-01T20:25:35\",\"1970-01-01T20:25:35\",\"1970-01-01T22:52:46\",\"1970-01-01T22:52:46\",\"1970-01-01T23:29:31\",\"1970-01-01T23:29:31\",\"1970-01-01T23:29:31\"],\"y\":[\"barge_0\",\"barge_0\",\"barge_0\",\"barge_0\",null,\"barge_0\",\"barge_0\",\"barge_0\",\"barge_0\",null,\"barge_0\",\"barge_0\",\"barge_0\",\"barge_0\",null,\"barge_0\",\"barge_0\",\"barge_0\",\"barge_0\",null,\"barge_0\",\"barge_0\",\"barge_0\",\"barge_0\",null,\"barge_0\",\"barge_0\",\"barge_0\",\"barge_0\",null,\"barge_0\",\"barge_0\",\"barge_0\",\"barge_0\",null,\"barge_0\",\"barge_0\",\"barge_0\",\"barge_0\",null],\"type\":\"scatter\"},{\"connectgaps\":false,\"hoverinfo\":\"y+name\",\"line\":{\"color\":\"rgb(245,207,69)\",\"width\":10},\"mode\":\"lines\",\"name\":\"sailing empty:barge_0\",\"x\":[\"1970-01-01T00:36:45\",\"1970-01-01T00:36:45\",\"1970-01-01T01:13:30\",\"1970-01-01T01:13:30\",\"1970-01-01T01:13:30\",\"1970-01-01T03:37:05\",\"1970-01-01T03:37:05\",\"1970-01-01T04:13:50\",\"1970-01-01T04:13:50\",\"1970-01-01T04:13:50\",\"1970-01-01T06:37:25\",\"1970-01-01T06:37:25\",\"1970-01-01T07:14:10\",\"1970-01-01T07:14:10\",\"1970-01-01T07:14:10\",\"1970-01-01T09:37:45\",\"1970-01-01T09:37:45\",\"1970-01-01T10:14:30\",\"1970-01-01T10:14:30\",\"1970-01-01T10:14:30\",\"1970-01-01T12:38:05\",\"1970-01-01T12:38:05\",\"1970-01-01T13:14:50\",\"1970-01-01T13:14:50\",\"1970-01-01T13:14:50\",\"1970-01-01T15:38:25\",\"1970-01-01T15:38:25\",\"1970-01-01T16:15:10\",\"1970-01-01T16:15:10\",\"1970-01-01T16:15:10\",\"1970-01-01T18:38:45\",\"1970-01-01T18:38:45\",\"1970-01-01T19:15:30\",\"1970-01-01T19:15:30\",\"1970-01-01T19:15:30\",\"1970-01-01T21:39:05\",\"1970-01-01T21:39:05\",\"1970-01-01T22:15:50\",\"1970-01-01T22:15:50\",\"1970-01-01T22:15:50\"],\"y\":[\"barge_0\",\"barge_0\",\"barge_0\",\"barge_0\",null,\"barge_0\",\"barge_0\",\"barge_0\",\"barge_0\",null,\"barge_0\",\"barge_0\",\"barge_0\",\"barge_0\",null,\"barge_0\",\"barge_0\",\"barge_0\",\"barge_0\",null,\"barge_0\",\"barge_0\",\"barge_0\",\"barge_0\",null,\"barge_0\",\"barge_0\",\"barge_0\",\"barge_0\",null,\"barge_0\",\"barge_0\",\"barge_0\",\"barge_0\",null,\"barge_0\",\"barge_0\",\"barge_0\",\"barge_0\",null],\"type\":\"scatter\"},{\"connectgaps\":false,\"hoverinfo\":\"y+name\",\"line\":{\"color\":\"rgb(3,221,83)\",\"width\":10},\"mode\":\"lines\",\"name\":\"loading:barge_1\",\"x\":[\"1970-01-01T01:46:50\",\"1970-01-01T01:46:50\",\"1970-01-01T02:28:30\",\"1970-01-01T02:28:30\",\"1970-01-01T02:28:30\",\"1970-01-01T04:59:46\",\"1970-01-01T04:59:46\",\"1970-01-01T05:41:26\",\"1970-01-01T05:41:26\",\"1970-01-01T05:41:26\",\"1970-01-01T08:12:42\",\"1970-01-01T08:12:42\",\"1970-01-01T08:54:22\",\"1970-01-01T08:54:22\",\"1970-01-01T08:54:22\",\"1970-01-01T11:25:38\",\"1970-01-01T11:25:38\",\"1970-01-01T12:07:18\",\"1970-01-01T12:07:18\",\"1970-01-01T12:07:18\",\"1970-01-01T14:38:34\",\"1970-01-01T14:38:34\",\"1970-01-01T15:20:14\",\"1970-01-01T15:20:14\",\"1970-01-01T15:20:14\",\"1970-01-01T17:51:30\",\"1970-01-01T17:51:30\",\"1970-01-01T18:33:10\",\"1970-01-01T18:33:10\",\"1970-01-01T18:33:10\",\"1970-01-01T21:04:26\",\"1970-01-01T21:04:26\",\"1970-01-01T21:46:06\",\"1970-01-01T21:46:06\",\"1970-01-01T21:46:06\",\"1970-01-02T00:17:22\",\"1970-01-02T00:17:22\",\"1970-01-02T00:59:02\",\"1970-01-02T00:59:02\",\"1970-01-02T00:59:02\",\"1970-01-01T01:46:50\",\"1970-01-01T01:46:50\",\"1970-01-01T02:28:30\",\"1970-01-01T02:28:30\",\"1970-01-01T02:28:30\",\"1970-01-01T04:59:46\",\"1970-01-01T04:59:46\",\"1970-01-01T05:41:26\",\"1970-01-01T05:41:26\",\"1970-01-01T05:41:26\",\"1970-01-01T08:12:42\",\"1970-01-01T08:12:42\",\"1970-01-01T08:54:22\",\"1970-01-01T08:54:22\",\"1970-01-01T08:54:22\",\"1970-01-01T11:25:38\",\"1970-01-01T11:25:38\",\"1970-01-01T12:07:18\",\"1970-01-01T12:07:18\",\"1970-01-01T12:07:18\",\"1970-01-01T14:38:34\",\"1970-01-01T14:38:34\",\"1970-01-01T15:20:14\",\"1970-01-01T15:20:14\",\"1970-01-01T15:20:14\",\"1970-01-01T17:51:30\",\"1970-01-01T17:51:30\",\"1970-01-01T18:33:10\",\"1970-01-01T18:33:10\",\"1970-01-01T18:33:10\",\"1970-01-01T21:04:26\",\"1970-01-01T21:04:26\",\"1970-01-01T21:46:06\",\"1970-01-01T21:46:06\",\"1970-01-01T21:46:06\",\"1970-01-02T00:17:22\",\"1970-01-02T00:17:22\",\"1970-01-02T00:59:02\",\"1970-01-02T00:59:02\",\"1970-01-02T00:59:02\"],\"y\":[\"barge_1\",\"barge_1\",\"barge_1\",\"barge_1\",null,\"barge_1\",\"barge_1\",\"barge_1\",\"barge_1\",null,\"barge_1\",\"barge_1\",\"barge_1\",\"barge_1\",null,\"barge_1\",\"barge_1\",\"barge_1\",\"barge_1\",null,\"barge_1\",\"barge_1\",\"barge_1\",\"barge_1\",null,\"barge_1\",\"barge_1\",\"barge_1\",\"barge_1\",null,\"barge_1\",\"barge_1\",\"barge_1\",\"barge_1\",null,\"barge_1\",\"barge_1\",\"barge_1\",\"barge_1\",null,\"cutter\",\"cutter\",\"cutter\",\"cutter\",null,\"cutter\",\"cutter\",\"cutter\",\"cutter\",null,\"cutter\",\"cutter\",\"cutter\",\"cutter\",null,\"cutter\",\"cutter\",\"cutter\",\"cutter\",null,\"cutter\",\"cutter\",\"cutter\",\"cutter\",null,\"cutter\",\"cutter\",\"cutter\",\"cutter\",null,\"cutter\",\"cutter\",\"cutter\",\"cutter\",null,\"cutter\",\"cutter\",\"cutter\",\"cutter\",null],\"type\":\"scatter\"},{\"connectgaps\":false,\"hoverinfo\":\"y+name\",\"line\":{\"color\":\"rgb(17,235,97)\",\"width\":10},\"mode\":\"lines\",\"name\":\"unloading:barge_1\",\"x\":[\"1970-01-01T03:06:19\",\"1970-01-01T03:06:19\",\"1970-01-01T03:44:08\",\"1970-01-01T03:44:08\",\"1970-01-01T03:44:08\",\"1970-01-01T06:19:15\",\"1970-01-01T06:19:15\",\"1970-01-01T06:57:04\",\"1970-01-01T06:57:04\",\"1970-01-01T06:57:04\",\"1970-01-01T09:32:11\",\"1970-01-01T09:32:11\",\"1970-01-01T10:10:00\",\"1970-01-01T10:10:00\",\"1970-01-01T10:10:00\",\"1970-01-01T12:45:07\",\"1970-01-01T12:45:07\",\"1970-01-01T13:22:56\",\"1970-01-01T13:22:56\",\"1970-01-01T13:22:56\",\"1970-01-01T15:58:03\",\"1970-01-01T15:58:03\",\"1970-01-01T16:35:52\",\"1970-01-01T16:35:52\",\"1970-01-01T16:35:52\",\"1970-01-01T19:10:59\",\"1970-01-01T19:10:59\",\"1970-01-01T19:48:48\",\"1970-01-01T19:48:48\",\"1970-01-01T19:48:48\",\"1970-01-01T22:23:55\",\"1970-01-01T22:23:55\",\"1970-01-01T23:01:44\",\"1970-01-01T23:01:44\",\"1970-01-01T23:01:44\",\"1970-01-02T01:36:51\",\"1970-01-02T01:36:51\",\"1970-01-02T02:14:40\",\"1970-01-02T02:14:40\",\"1970-01-02T02:14:40\"],\"y\":[\"barge_1\",\"barge_1\",\"barge_1\",\"barge_1\",null,\"barge_1\",\"barge_1\",\"barge_1\",\"barge_1\",null,\"barge_1\",\"barge_1\",\"barge_1\",\"barge_1\",null,\"barge_1\",\"barge_1\",\"barge_1\",\"barge_1\",null,\"barge_1\",\"barge_1\",\"barge_1\",\"barge_1\",null,\"barge_1\",\"barge_1\",\"barge_1\",\"barge_1\",null,\"barge_1\",\"barge_1\",\"barge_1\",\"barge_1\",null,\"barge_1\",\"barge_1\",\"barge_1\",\"barge_1\",null],\"type\":\"scatter\"},{\"connectgaps\":false,\"hoverinfo\":\"y+name\",\"line\":{\"color\":\"rgb(31,249,111)\",\"width\":10},\"mode\":\"lines\",\"name\":\"sailing full:barge_1\",\"x\":[\"1970-01-01T02:28:30\",\"1970-01-01T02:28:30\",\"1970-01-01T03:06:19\",\"1970-01-01T03:06:19\",\"1970-01-01T03:06:19\",\"1970-01-01T05:41:26\",\"1970-01-01T05:41:26\",\"1970-01-01T06:19:15\",\"1970-01-01T06:19:15\",\"1970-01-01T06:19:15\",\"1970-01-01T08:54:22\",\"1970-01-01T08:54:22\",\"1970-01-01T09:32:11\",\"1970-01-01T09:32:11\",\"1970-01-01T09:32:11\",\"1970-01-01T12:07:18\",\"1970-01-01T12:07:18\",\"1970-01-01T12:45:07\",\"1970-01-01T12:45:07\",\"1970-01-01T12:45:07\",\"1970-01-01T15:20:14\",\"1970-01-01T15:20:14\",\"1970-01-01T15:58:03\",\"1970-01-01T15:58:03\",\"1970-01-01T15:58:03\",\"1970-01-01T18:33:10\",\"1970-01-01T18:33:10\",\"1970-01-01T19:10:59\",\"1970-01-01T19:10:59\",\"1970-01-01T19:10:59\",\"1970-01-01T21:46:06\",\"1970-01-01T21:46:06\",\"1970-01-01T22:23:55\",\"1970-01-01T22:23:55\",\"1970-01-01T22:23:55\",\"1970-01-02T00:59:02\",\"1970-01-02T00:59:02\",\"1970-01-02T01:36:51\",\"1970-01-02T01:36:51\",\"1970-01-02T01:36:51\"],\"y\":[\"barge_1\",\"barge_1\",\"barge_1\",\"barge_1\",null,\"barge_1\",\"barge_1\",\"barge_1\",\"barge_1\",null,\"barge_1\",\"barge_1\",\"barge_1\",\"barge_1\",null,\"barge_1\",\"barge_1\",\"barge_1\",\"barge_1\",null,\"barge_1\",\"barge_1\",\"barge_1\",\"barge_1\",null,\"barge_1\",\"barge_1\",\"barge_1\",\"barge_1\",null,\"barge_1\",\"barge_1\",\"barge_1\",\"barge_1\",null,\"barge_1\",\"barge_1\",\"barge_1\",\"barge_1\",null],\"type\":\"scatter\"},{\"connectgaps\":false,\"hoverinfo\":\"y+name\",\"line\":{\"color\":\"rgb(45,7,125)\",\"width\":10},\"mode\":\"lines\",\"name\":\"basic activity:barge_1\",\"x\":[\"1970-01-01T00:00:00\",\"1970-01-01T00:00:00\",\"1970-01-01T00:37:49\",\"1970-01-01T00:37:49\",\"1970-01-01T00:37:49\",\"1970-01-01T03:44:08\",\"1970-01-01T03:44:08\",\"1970-01-01T04:21:57\",\"1970-01-01T04:21:57\",\"1970-01-01T04:21:57\",\"1970-01-01T06:57:04\",\"1970-01-01T06:57:04\",\"1970-01-01T07:34:53\",\"1970-01-01T07:34:53\",\"1970-01-01T07:34:53\",\"1970-01-01T10:10:00\",\"1970-01-01T10:10:00\",\"1970-01-01T10:47:49\",\"1970-01-01T10:47:49\",\"1970-01-01T10:47:49\",\"1970-01-01T13:22:56\",\"1970-01-01T13:22:56\",\"1970-01-01T14:00:45\",\"1970-01-01T14:00:45\",\"1970-01-01T14:00:45\",\"1970-01-01T16:35:52\",\"1970-01-01T16:35:52\",\"1970-01-01T17:13:41\",\"1970-01-01T17:13:41\",\"1970-01-01T17:13:41\",\"1970-01-01T19:48:48\",\"1970-01-01T19:48:48\",\"1970-01-01T20:26:37\",\"1970-01-01T20:26:37\",\"1970-01-01T20:26:37\",\"1970-01-01T23:01:44\",\"1970-01-01T23:01:44\",\"1970-01-01T23:39:33\",\"1970-01-01T23:39:33\",\"1970-01-01T23:39:33\"],\"y\":[\"barge_1\",\"barge_1\",\"barge_1\",\"barge_1\",null,\"barge_1\",\"barge_1\",\"barge_1\",\"barge_1\",null,\"barge_1\",\"barge_1\",\"barge_1\",\"barge_1\",null,\"barge_1\",\"barge_1\",\"barge_1\",\"barge_1\",null,\"barge_1\",\"barge_1\",\"barge_1\",\"barge_1\",null,\"barge_1\",\"barge_1\",\"barge_1\",\"barge_1\",null,\"barge_1\",\"barge_1\",\"barge_1\",\"barge_1\",null,\"barge_1\",\"barge_1\",\"barge_1\",\"barge_1\",null],\"type\":\"scatter\"},{\"connectgaps\":false,\"hoverinfo\":\"y+name\",\"line\":{\"color\":\"rgb(59,21,139)\",\"width\":10},\"mode\":\"lines\",\"name\":\"sailing empty:barge_1\",\"x\":[\"1970-01-01T00:37:49\",\"1970-01-01T00:37:49\",\"1970-01-01T01:15:38\",\"1970-01-01T01:15:38\",\"1970-01-01T01:15:38\",\"1970-01-01T04:21:57\",\"1970-01-01T04:21:57\",\"1970-01-01T04:59:46\",\"1970-01-01T04:59:46\",\"1970-01-01T04:59:46\",\"1970-01-01T07:34:53\",\"1970-01-01T07:34:53\",\"1970-01-01T08:12:42\",\"1970-01-01T08:12:42\",\"1970-01-01T08:12:42\",\"1970-01-01T10:47:49\",\"1970-01-01T10:47:49\",\"1970-01-01T11:25:38\",\"1970-01-01T11:25:38\",\"1970-01-01T11:25:38\",\"1970-01-01T14:00:45\",\"1970-01-01T14:00:45\",\"1970-01-01T14:38:34\",\"1970-01-01T14:38:34\",\"1970-01-01T14:38:34\",\"1970-01-01T17:13:41\",\"1970-01-01T17:13:41\",\"1970-01-01T17:51:30\",\"1970-01-01T17:51:30\",\"1970-01-01T17:51:30\",\"1970-01-01T20:26:37\",\"1970-01-01T20:26:37\",\"1970-01-01T21:04:26\",\"1970-01-01T21:04:26\",\"1970-01-01T21:04:26\",\"1970-01-01T23:39:33\",\"1970-01-01T23:39:33\",\"1970-01-02T00:17:22\",\"1970-01-02T00:17:22\",\"1970-01-02T00:17:22\"],\"y\":[\"barge_1\",\"barge_1\",\"barge_1\",\"barge_1\",null,\"barge_1\",\"barge_1\",\"barge_1\",\"barge_1\",null,\"barge_1\",\"barge_1\",\"barge_1\",\"barge_1\",null,\"barge_1\",\"barge_1\",\"barge_1\",\"barge_1\",null,\"barge_1\",\"barge_1\",\"barge_1\",\"barge_1\",null,\"barge_1\",\"barge_1\",\"barge_1\",\"barge_1\",null,\"barge_1\",\"barge_1\",\"barge_1\",\"barge_1\",null,\"barge_1\",\"barge_1\",\"barge_1\",\"barge_1\",null],\"type\":\"scatter\"},{\"connectgaps\":false,\"hoverinfo\":\"y+name\",\"line\":{\"color\":\"rgb(73,35,153)\",\"width\":10},\"mode\":\"lines\",\"name\":\"loading:barge_2\",\"x\":[\"1970-01-01T02:28:30\",\"1970-01-01T02:28:30\",\"1970-01-01T03:01:50\",\"1970-01-01T03:01:50\",\"1970-01-01T03:01:50\",\"1970-01-01T05:41:26\",\"1970-01-01T05:41:26\",\"1970-01-01T06:14:46\",\"1970-01-01T06:14:46\",\"1970-01-01T06:14:46\",\"1970-01-01T08:54:22\",\"1970-01-01T08:54:22\",\"1970-01-01T09:27:42\",\"1970-01-01T09:27:42\",\"1970-01-01T09:27:42\",\"1970-01-01T12:07:18\",\"1970-01-01T12:07:18\",\"1970-01-01T12:40:38\",\"1970-01-01T12:40:38\",\"1970-01-01T12:40:38\",\"1970-01-01T15:20:14\",\"1970-01-01T15:20:14\",\"1970-01-01T15:53:34\",\"1970-01-01T15:53:34\",\"1970-01-01T15:53:34\",\"1970-01-01T18:33:10\",\"1970-01-01T18:33:10\",\"1970-01-01T19:06:30\",\"1970-01-01T19:06:30\",\"1970-01-01T19:06:30\",\"1970-01-01T21:46:06\",\"1970-01-01T21:46:06\",\"1970-01-01T22:19:26\",\"1970-01-01T22:19:26\",\"1970-01-01T22:19:26\",\"1970-01-01T02:28:30\",\"1970-01-01T02:28:30\",\"1970-01-01T03:01:50\",\"1970-01-01T03:01:50\",\"1970-01-01T03:01:50\",\"1970-01-01T05:41:26\",\"1970-01-01T05:41:26\",\"1970-01-01T06:14:46\",\"1970-01-01T06:14:46\",\"1970-01-01T06:14:46\",\"1970-01-01T08:54:22\",\"1970-01-01T08:54:22\",\"1970-01-01T09:27:42\",\"1970-01-01T09:27:42\",\"1970-01-01T09:27:42\",\"1970-01-01T12:07:18\",\"1970-01-01T12:07:18\",\"1970-01-01T12:40:38\",\"1970-01-01T12:40:38\",\"1970-01-01T12:40:38\",\"1970-01-01T15:20:14\",\"1970-01-01T15:20:14\",\"1970-01-01T15:53:34\",\"1970-01-01T15:53:34\",\"1970-01-01T15:53:34\",\"1970-01-01T18:33:10\",\"1970-01-01T18:33:10\",\"1970-01-01T19:06:30\",\"1970-01-01T19:06:30\",\"1970-01-01T19:06:30\",\"1970-01-01T21:46:06\",\"1970-01-01T21:46:06\",\"1970-01-01T22:19:26\",\"1970-01-01T22:19:26\",\"1970-01-01T22:19:26\"],\"y\":[\"barge_2\",\"barge_2\",\"barge_2\",\"barge_2\",null,\"barge_2\",\"barge_2\",\"barge_2\",\"barge_2\",null,\"barge_2\",\"barge_2\",\"barge_2\",\"barge_2\",null,\"barge_2\",\"barge_2\",\"barge_2\",\"barge_2\",null,\"barge_2\",\"barge_2\",\"barge_2\",\"barge_2\",null,\"barge_2\",\"barge_2\",\"barge_2\",\"barge_2\",null,\"barge_2\",\"barge_2\",\"barge_2\",\"barge_2\",null,\"cutter\",\"cutter\",\"cutter\",\"cutter\",null,\"cutter\",\"cutter\",\"cutter\",\"cutter\",null,\"cutter\",\"cutter\",\"cutter\",\"cutter\",null,\"cutter\",\"cutter\",\"cutter\",\"cutter\",null,\"cutter\",\"cutter\",\"cutter\",\"cutter\",null,\"cutter\",\"cutter\",\"cutter\",\"cutter\",null,\"cutter\",\"cutter\",\"cutter\",\"cutter\",null],\"type\":\"scatter\"},{\"connectgaps\":false,\"hoverinfo\":\"y+name\",\"line\":{\"color\":\"rgb(87,49,167)\",\"width\":10},\"mode\":\"lines\",\"name\":\"sailing empty:barge_2\",\"x\":[\"1970-01-01T00:38:52\",\"1970-01-01T00:38:52\",\"1970-01-01T01:17:44\",\"1970-01-01T01:17:44\",\"1970-01-01T01:17:44\",\"1970-01-01T04:58:26\",\"1970-01-01T04:58:26\",\"1970-01-01T05:37:18\",\"1970-01-01T05:37:18\",\"1970-01-01T05:37:18\",\"1970-01-01T08:11:22\",\"1970-01-01T08:11:22\",\"1970-01-01T08:50:14\",\"1970-01-01T08:50:14\",\"1970-01-01T08:50:14\",\"1970-01-01T11:24:18\",\"1970-01-01T11:24:18\",\"1970-01-01T12:03:10\",\"1970-01-01T12:03:10\",\"1970-01-01T12:03:10\",\"1970-01-01T14:37:14\",\"1970-01-01T14:37:14\",\"1970-01-01T15:16:06\",\"1970-01-01T15:16:06\",\"1970-01-01T15:16:06\",\"1970-01-01T17:50:10\",\"1970-01-01T17:50:10\",\"1970-01-01T18:29:02\",\"1970-01-01T18:29:02\",\"1970-01-01T18:29:02\",\"1970-01-01T21:03:06\",\"1970-01-01T21:03:06\",\"1970-01-01T21:41:58\",\"1970-01-01T21:41:58\",\"1970-01-01T21:41:58\"],\"y\":[\"barge_2\",\"barge_2\",\"barge_2\",\"barge_2\",null,\"barge_2\",\"barge_2\",\"barge_2\",\"barge_2\",null,\"barge_2\",\"barge_2\",\"barge_2\",\"barge_2\",null,\"barge_2\",\"barge_2\",\"barge_2\",\"barge_2\",null,\"barge_2\",\"barge_2\",\"barge_2\",\"barge_2\",null,\"barge_2\",\"barge_2\",\"barge_2\",\"barge_2\",null,\"barge_2\",\"barge_2\",\"barge_2\",\"barge_2\",null],\"type\":\"scatter\"},{\"connectgaps\":false,\"hoverinfo\":\"y+name\",\"line\":{\"color\":\"rgb(101,63,181)\",\"width\":10},\"mode\":\"lines\",\"name\":\"basic activity:barge_2\",\"x\":[\"1970-01-01T00:00:00\",\"1970-01-01T00:00:00\",\"1970-01-01T00:38:52\",\"1970-01-01T00:38:52\",\"1970-01-01T00:38:52\",\"1970-01-01T04:19:34\",\"1970-01-01T04:19:34\",\"1970-01-01T04:58:26\",\"1970-01-01T04:58:26\",\"1970-01-01T04:58:26\",\"1970-01-01T07:32:30\",\"1970-01-01T07:32:30\",\"1970-01-01T08:11:22\",\"1970-01-01T08:11:22\",\"1970-01-01T08:11:22\",\"1970-01-01T10:45:26\",\"1970-01-01T10:45:26\",\"1970-01-01T11:24:18\",\"1970-01-01T11:24:18\",\"1970-01-01T11:24:18\",\"1970-01-01T13:58:22\",\"1970-01-01T13:58:22\",\"1970-01-01T14:37:14\",\"1970-01-01T14:37:14\",\"1970-01-01T14:37:14\",\"1970-01-01T17:11:18\",\"1970-01-01T17:11:18\",\"1970-01-01T17:50:10\",\"1970-01-01T17:50:10\",\"1970-01-01T17:50:10\",\"1970-01-01T20:24:14\",\"1970-01-01T20:24:14\",\"1970-01-01T21:03:06\",\"1970-01-01T21:03:06\",\"1970-01-01T21:03:06\"],\"y\":[\"barge_2\",\"barge_2\",\"barge_2\",\"barge_2\",null,\"barge_2\",\"barge_2\",\"barge_2\",\"barge_2\",null,\"barge_2\",\"barge_2\",\"barge_2\",\"barge_2\",null,\"barge_2\",\"barge_2\",\"barge_2\",\"barge_2\",null,\"barge_2\",\"barge_2\",\"barge_2\",\"barge_2\",null,\"barge_2\",\"barge_2\",\"barge_2\",\"barge_2\",null,\"barge_2\",\"barge_2\",\"barge_2\",\"barge_2\",null],\"type\":\"scatter\"},{\"connectgaps\":false,\"hoverinfo\":\"y+name\",\"line\":{\"color\":\"rgb(115,77,195)\",\"width\":10},\"mode\":\"lines\",\"name\":\"unloading:barge_2\",\"x\":[\"1970-01-01T03:40:42\",\"1970-01-01T03:40:42\",\"1970-01-01T04:19:34\",\"1970-01-01T04:19:34\",\"1970-01-01T04:19:34\",\"1970-01-01T06:53:38\",\"1970-01-01T06:53:38\",\"1970-01-01T07:32:30\",\"1970-01-01T07:32:30\",\"1970-01-01T07:32:30\",\"1970-01-01T10:06:34\",\"1970-01-01T10:06:34\",\"1970-01-01T10:45:26\",\"1970-01-01T10:45:26\",\"1970-01-01T10:45:26\",\"1970-01-01T13:19:30\",\"1970-01-01T13:19:30\",\"1970-01-01T13:58:22\",\"1970-01-01T13:58:22\",\"1970-01-01T13:58:22\",\"1970-01-01T16:32:26\",\"1970-01-01T16:32:26\",\"1970-01-01T17:11:18\",\"1970-01-01T17:11:18\",\"1970-01-01T17:11:18\",\"1970-01-01T19:45:22\",\"1970-01-01T19:45:22\",\"1970-01-01T20:24:14\",\"1970-01-01T20:24:14\",\"1970-01-01T20:24:14\",\"1970-01-01T22:58:18\",\"1970-01-01T22:58:18\",\"1970-01-01T23:37:10\",\"1970-01-01T23:37:10\",\"1970-01-01T23:37:10\"],\"y\":[\"barge_2\",\"barge_2\",\"barge_2\",\"barge_2\",null,\"barge_2\",\"barge_2\",\"barge_2\",\"barge_2\",null,\"barge_2\",\"barge_2\",\"barge_2\",\"barge_2\",null,\"barge_2\",\"barge_2\",\"barge_2\",\"barge_2\",null,\"barge_2\",\"barge_2\",\"barge_2\",\"barge_2\",null,\"barge_2\",\"barge_2\",\"barge_2\",\"barge_2\",null,\"barge_2\",\"barge_2\",\"barge_2\",\"barge_2\",null],\"type\":\"scatter\"},{\"connectgaps\":false,\"hoverinfo\":\"y+name\",\"line\":{\"color\":\"rgb(129,91,209)\",\"width\":10},\"mode\":\"lines\",\"name\":\"sailing full:barge_2\",\"x\":[\"1970-01-01T03:01:50\",\"1970-01-01T03:01:50\",\"1970-01-01T03:40:42\",\"1970-01-01T03:40:42\",\"1970-01-01T03:40:42\",\"1970-01-01T06:14:46\",\"1970-01-01T06:14:46\",\"1970-01-01T06:53:38\",\"1970-01-01T06:53:38\",\"1970-01-01T06:53:38\",\"1970-01-01T09:27:42\",\"1970-01-01T09:27:42\",\"1970-01-01T10:06:34\",\"1970-01-01T10:06:34\",\"1970-01-01T10:06:34\",\"1970-01-01T12:40:38\",\"1970-01-01T12:40:38\",\"1970-01-01T13:19:30\",\"1970-01-01T13:19:30\",\"1970-01-01T13:19:30\",\"1970-01-01T15:53:34\",\"1970-01-01T15:53:34\",\"1970-01-01T16:32:26\",\"1970-01-01T16:32:26\",\"1970-01-01T16:32:26\",\"1970-01-01T19:06:30\",\"1970-01-01T19:06:30\",\"1970-01-01T19:45:22\",\"1970-01-01T19:45:22\",\"1970-01-01T19:45:22\",\"1970-01-01T22:19:26\",\"1970-01-01T22:19:26\",\"1970-01-01T22:58:18\",\"1970-01-01T22:58:18\",\"1970-01-01T22:58:18\"],\"y\":[\"barge_2\",\"barge_2\",\"barge_2\",\"barge_2\",null,\"barge_2\",\"barge_2\",\"barge_2\",\"barge_2\",null,\"barge_2\",\"barge_2\",\"barge_2\",\"barge_2\",null,\"barge_2\",\"barge_2\",\"barge_2\",\"barge_2\",null,\"barge_2\",\"barge_2\",\"barge_2\",\"barge_2\",null,\"barge_2\",\"barge_2\",\"barge_2\",\"barge_2\",null,\"barge_2\",\"barge_2\",\"barge_2\",\"barge_2\",null],\"type\":\"scatter\"},{\"connectgaps\":false,\"hoverinfo\":\"y+name\",\"line\":{\"color\":\"rgb(143,105,223)\",\"width\":10},\"mode\":\"lines\",\"name\":\"loading:barge_1\",\"x\":[\"1970-01-01T01:46:50\",\"1970-01-01T01:46:50\",\"1970-01-01T02:28:30\",\"1970-01-01T02:28:30\",\"1970-01-01T02:28:30\",\"1970-01-01T04:59:46\",\"1970-01-01T04:59:46\",\"1970-01-01T05:41:26\",\"1970-01-01T05:41:26\",\"1970-01-01T05:41:26\",\"1970-01-01T08:12:42\",\"1970-01-01T08:12:42\",\"1970-01-01T08:54:22\",\"1970-01-01T08:54:22\",\"1970-01-01T08:54:22\",\"1970-01-01T11:25:38\",\"1970-01-01T11:25:38\",\"1970-01-01T12:07:18\",\"1970-01-01T12:07:18\",\"1970-01-01T12:07:18\",\"1970-01-01T14:38:34\",\"1970-01-01T14:38:34\",\"1970-01-01T15:20:14\",\"1970-01-01T15:20:14\",\"1970-01-01T15:20:14\",\"1970-01-01T17:51:30\",\"1970-01-01T17:51:30\",\"1970-01-01T18:33:10\",\"1970-01-01T18:33:10\",\"1970-01-01T18:33:10\",\"1970-01-01T21:04:26\",\"1970-01-01T21:04:26\",\"1970-01-01T21:46:06\",\"1970-01-01T21:46:06\",\"1970-01-01T21:46:06\",\"1970-01-02T00:17:22\",\"1970-01-02T00:17:22\",\"1970-01-02T00:59:02\",\"1970-01-02T00:59:02\",\"1970-01-02T00:59:02\",\"1970-01-01T01:46:50\",\"1970-01-01T01:46:50\",\"1970-01-01T02:28:30\",\"1970-01-01T02:28:30\",\"1970-01-01T02:28:30\",\"1970-01-01T04:59:46\",\"1970-01-01T04:59:46\",\"1970-01-01T05:41:26\",\"1970-01-01T05:41:26\",\"1970-01-01T05:41:26\",\"1970-01-01T08:12:42\",\"1970-01-01T08:12:42\",\"1970-01-01T08:54:22\",\"1970-01-01T08:54:22\",\"1970-01-01T08:54:22\",\"1970-01-01T11:25:38\",\"1970-01-01T11:25:38\",\"1970-01-01T12:07:18\",\"1970-01-01T12:07:18\",\"1970-01-01T12:07:18\",\"1970-01-01T14:38:34\",\"1970-01-01T14:38:34\",\"1970-01-01T15:20:14\",\"1970-01-01T15:20:14\",\"1970-01-01T15:20:14\",\"1970-01-01T17:51:30\",\"1970-01-01T17:51:30\",\"1970-01-01T18:33:10\",\"1970-01-01T18:33:10\",\"1970-01-01T18:33:10\",\"1970-01-01T21:04:26\",\"1970-01-01T21:04:26\",\"1970-01-01T21:46:06\",\"1970-01-01T21:46:06\",\"1970-01-01T21:46:06\",\"1970-01-02T00:17:22\",\"1970-01-02T00:17:22\",\"1970-01-02T00:59:02\",\"1970-01-02T00:59:02\",\"1970-01-02T00:59:02\"],\"y\":[\"barge_1\",\"barge_1\",\"barge_1\",\"barge_1\",null,\"barge_1\",\"barge_1\",\"barge_1\",\"barge_1\",null,\"barge_1\",\"barge_1\",\"barge_1\",\"barge_1\",null,\"barge_1\",\"barge_1\",\"barge_1\",\"barge_1\",null,\"barge_1\",\"barge_1\",\"barge_1\",\"barge_1\",null,\"barge_1\",\"barge_1\",\"barge_1\",\"barge_1\",null,\"barge_1\",\"barge_1\",\"barge_1\",\"barge_1\",null,\"barge_1\",\"barge_1\",\"barge_1\",\"barge_1\",null,\"cutter\",\"cutter\",\"cutter\",\"cutter\",null,\"cutter\",\"cutter\",\"cutter\",\"cutter\",null,\"cutter\",\"cutter\",\"cutter\",\"cutter\",null,\"cutter\",\"cutter\",\"cutter\",\"cutter\",null,\"cutter\",\"cutter\",\"cutter\",\"cutter\",null,\"cutter\",\"cutter\",\"cutter\",\"cutter\",null,\"cutter\",\"cutter\",\"cutter\",\"cutter\",null,\"cutter\",\"cutter\",\"cutter\",\"cutter\",null],\"type\":\"scatter\"},{\"connectgaps\":false,\"hoverinfo\":\"y+name\",\"line\":{\"color\":\"rgb(157,119,237)\",\"width\":10},\"mode\":\"lines\",\"name\":\"loading:barge_2\",\"x\":[\"1970-01-01T02:28:30\",\"1970-01-01T02:28:30\",\"1970-01-01T03:01:50\",\"1970-01-01T03:01:50\",\"1970-01-01T03:01:50\",\"1970-01-01T05:41:26\",\"1970-01-01T05:41:26\",\"1970-01-01T06:14:46\",\"1970-01-01T06:14:46\",\"1970-01-01T06:14:46\",\"1970-01-01T08:54:22\",\"1970-01-01T08:54:22\",\"1970-01-01T09:27:42\",\"1970-01-01T09:27:42\",\"1970-01-01T09:27:42\",\"1970-01-01T12:07:18\",\"1970-01-01T12:07:18\",\"1970-01-01T12:40:38\",\"1970-01-01T12:40:38\",\"1970-01-01T12:40:38\",\"1970-01-01T15:20:14\",\"1970-01-01T15:20:14\",\"1970-01-01T15:53:34\",\"1970-01-01T15:53:34\",\"1970-01-01T15:53:34\",\"1970-01-01T18:33:10\",\"1970-01-01T18:33:10\",\"1970-01-01T19:06:30\",\"1970-01-01T19:06:30\",\"1970-01-01T19:06:30\",\"1970-01-01T21:46:06\",\"1970-01-01T21:46:06\",\"1970-01-01T22:19:26\",\"1970-01-01T22:19:26\",\"1970-01-01T22:19:26\",\"1970-01-01T02:28:30\",\"1970-01-01T02:28:30\",\"1970-01-01T03:01:50\",\"1970-01-01T03:01:50\",\"1970-01-01T03:01:50\",\"1970-01-01T05:41:26\",\"1970-01-01T05:41:26\",\"1970-01-01T06:14:46\",\"1970-01-01T06:14:46\",\"1970-01-01T06:14:46\",\"1970-01-01T08:54:22\",\"1970-01-01T08:54:22\",\"1970-01-01T09:27:42\",\"1970-01-01T09:27:42\",\"1970-01-01T09:27:42\",\"1970-01-01T12:07:18\",\"1970-01-01T12:07:18\",\"1970-01-01T12:40:38\",\"1970-01-01T12:40:38\",\"1970-01-01T12:40:38\",\"1970-01-01T15:20:14\",\"1970-01-01T15:20:14\",\"1970-01-01T15:53:34\",\"1970-01-01T15:53:34\",\"1970-01-01T15:53:34\",\"1970-01-01T18:33:10\",\"1970-01-01T18:33:10\",\"1970-01-01T19:06:30\",\"1970-01-01T19:06:30\",\"1970-01-01T19:06:30\",\"1970-01-01T21:46:06\",\"1970-01-01T21:46:06\",\"1970-01-01T22:19:26\",\"1970-01-01T22:19:26\",\"1970-01-01T22:19:26\"],\"y\":[\"barge_2\",\"barge_2\",\"barge_2\",\"barge_2\",null,\"barge_2\",\"barge_2\",\"barge_2\",\"barge_2\",null,\"barge_2\",\"barge_2\",\"barge_2\",\"barge_2\",null,\"barge_2\",\"barge_2\",\"barge_2\",\"barge_2\",null,\"barge_2\",\"barge_2\",\"barge_2\",\"barge_2\",null,\"barge_2\",\"barge_2\",\"barge_2\",\"barge_2\",null,\"barge_2\",\"barge_2\",\"barge_2\",\"barge_2\",null,\"cutter\",\"cutter\",\"cutter\",\"cutter\",null,\"cutter\",\"cutter\",\"cutter\",\"cutter\",null,\"cutter\",\"cutter\",\"cutter\",\"cutter\",null,\"cutter\",\"cutter\",\"cutter\",\"cutter\",null,\"cutter\",\"cutter\",\"cutter\",\"cutter\",null,\"cutter\",\"cutter\",\"cutter\",\"cutter\",null,\"cutter\",\"cutter\",\"cutter\",\"cutter\",null],\"type\":\"scatter\"},{\"connectgaps\":false,\"hoverinfo\":\"y+name\",\"line\":{\"color\":\"rgb(171,133,251)\",\"width\":10},\"mode\":\"lines\",\"name\":\"loading:barge_0\",\"x\":[\"1970-01-01T01:13:30\",\"1970-01-01T01:13:30\",\"1970-01-01T01:46:50\",\"1970-01-01T01:46:50\",\"1970-01-01T01:46:50\",\"1970-01-01T04:13:50\",\"1970-01-01T04:13:50\",\"1970-01-01T04:47:10\",\"1970-01-01T04:47:10\",\"1970-01-01T04:47:10\",\"1970-01-01T07:14:10\",\"1970-01-01T07:14:10\",\"1970-01-01T07:47:30\",\"1970-01-01T07:47:30\",\"1970-01-01T07:47:30\",\"1970-01-01T10:14:30\",\"1970-01-01T10:14:30\",\"1970-01-01T10:47:50\",\"1970-01-01T10:47:50\",\"1970-01-01T10:47:50\",\"1970-01-01T13:14:50\",\"1970-01-01T13:14:50\",\"1970-01-01T13:48:10\",\"1970-01-01T13:48:10\",\"1970-01-01T13:48:10\",\"1970-01-01T16:15:10\",\"1970-01-01T16:15:10\",\"1970-01-01T16:48:30\",\"1970-01-01T16:48:30\",\"1970-01-01T16:48:30\",\"1970-01-01T19:15:30\",\"1970-01-01T19:15:30\",\"1970-01-01T19:48:50\",\"1970-01-01T19:48:50\",\"1970-01-01T19:48:50\",\"1970-01-01T22:19:26\",\"1970-01-01T22:19:26\",\"1970-01-01T22:52:46\",\"1970-01-01T22:52:46\",\"1970-01-01T22:52:46\",\"1970-01-01T01:13:30\",\"1970-01-01T01:13:30\",\"1970-01-01T01:46:50\",\"1970-01-01T01:46:50\",\"1970-01-01T01:46:50\",\"1970-01-01T04:13:50\",\"1970-01-01T04:13:50\",\"1970-01-01T04:47:10\",\"1970-01-01T04:47:10\",\"1970-01-01T04:47:10\",\"1970-01-01T07:14:10\",\"1970-01-01T07:14:10\",\"1970-01-01T07:47:30\",\"1970-01-01T07:47:30\",\"1970-01-01T07:47:30\",\"1970-01-01T10:14:30\",\"1970-01-01T10:14:30\",\"1970-01-01T10:47:50\",\"1970-01-01T10:47:50\",\"1970-01-01T10:47:50\",\"1970-01-01T13:14:50\",\"1970-01-01T13:14:50\",\"1970-01-01T13:48:10\",\"1970-01-01T13:48:10\",\"1970-01-01T13:48:10\",\"1970-01-01T16:15:10\",\"1970-01-01T16:15:10\",\"1970-01-01T16:48:30\",\"1970-01-01T16:48:30\",\"1970-01-01T16:48:30\",\"1970-01-01T19:15:30\",\"1970-01-01T19:15:30\",\"1970-01-01T19:48:50\",\"1970-01-01T19:48:50\",\"1970-01-01T19:48:50\",\"1970-01-01T22:19:26\",\"1970-01-01T22:19:26\",\"1970-01-01T22:52:46\",\"1970-01-01T22:52:46\",\"1970-01-01T22:52:46\"],\"y\":[\"barge_0\",\"barge_0\",\"barge_0\",\"barge_0\",null,\"barge_0\",\"barge_0\",\"barge_0\",\"barge_0\",null,\"barge_0\",\"barge_0\",\"barge_0\",\"barge_0\",null,\"barge_0\",\"barge_0\",\"barge_0\",\"barge_0\",null,\"barge_0\",\"barge_0\",\"barge_0\",\"barge_0\",null,\"barge_0\",\"barge_0\",\"barge_0\",\"barge_0\",null,\"barge_0\",\"barge_0\",\"barge_0\",\"barge_0\",null,\"barge_0\",\"barge_0\",\"barge_0\",\"barge_0\",null,\"cutter\",\"cutter\",\"cutter\",\"cutter\",null,\"cutter\",\"cutter\",\"cutter\",\"cutter\",null,\"cutter\",\"cutter\",\"cutter\",\"cutter\",null,\"cutter\",\"cutter\",\"cutter\",\"cutter\",null,\"cutter\",\"cutter\",\"cutter\",\"cutter\",null,\"cutter\",\"cutter\",\"cutter\",\"cutter\",null,\"cutter\",\"cutter\",\"cutter\",\"cutter\",null,\"cutter\",\"cutter\",\"cutter\",\"cutter\",null],\"type\":\"scatter\"}],                        {\"hovermode\":\"closest\",\"legend\":{\"orientation\":\"h\",\"x\":0,\"y\":-0.2},\"template\":{\"data\":{\"barpolar\":[{\"marker\":{\"line\":{\"color\":\"#E5ECF6\",\"width\":0.5},\"pattern\":{\"fillmode\":\"overlay\",\"size\":10,\"solidity\":0.2}},\"type\":\"barpolar\"}],\"bar\":[{\"error_x\":{\"color\":\"#2a3f5f\"},\"error_y\":{\"color\":\"#2a3f5f\"},\"marker\":{\"line\":{\"color\":\"#E5ECF6\",\"width\":0.5},\"pattern\":{\"fillmode\":\"overlay\",\"size\":10,\"solidity\":0.2}},\"type\":\"bar\"}],\"carpet\":[{\"aaxis\":{\"endlinecolor\":\"#2a3f5f\",\"gridcolor\":\"white\",\"linecolor\":\"white\",\"minorgridcolor\":\"white\",\"startlinecolor\":\"#2a3f5f\"},\"baxis\":{\"endlinecolor\":\"#2a3f5f\",\"gridcolor\":\"white\",\"linecolor\":\"white\",\"minorgridcolor\":\"white\",\"startlinecolor\":\"#2a3f5f\"},\"type\":\"carpet\"}],\"choropleth\":[{\"colorbar\":{\"outlinewidth\":0,\"ticks\":\"\"},\"type\":\"choropleth\"}],\"contourcarpet\":[{\"colorbar\":{\"outlinewidth\":0,\"ticks\":\"\"},\"type\":\"contourcarpet\"}],\"contour\":[{\"colorbar\":{\"outlinewidth\":0,\"ticks\":\"\"},\"colorscale\":[[0.0,\"#0d0887\"],[0.1111111111111111,\"#46039f\"],[0.2222222222222222,\"#7201a8\"],[0.3333333333333333,\"#9c179e\"],[0.4444444444444444,\"#bd3786\"],[0.5555555555555556,\"#d8576b\"],[0.6666666666666666,\"#ed7953\"],[0.7777777777777778,\"#fb9f3a\"],[0.8888888888888888,\"#fdca26\"],[1.0,\"#f0f921\"]],\"type\":\"contour\"}],\"heatmapgl\":[{\"colorbar\":{\"outlinewidth\":0,\"ticks\":\"\"},\"colorscale\":[[0.0,\"#0d0887\"],[0.1111111111111111,\"#46039f\"],[0.2222222222222222,\"#7201a8\"],[0.3333333333333333,\"#9c179e\"],[0.4444444444444444,\"#bd3786\"],[0.5555555555555556,\"#d8576b\"],[0.6666666666666666,\"#ed7953\"],[0.7777777777777778,\"#fb9f3a\"],[0.8888888888888888,\"#fdca26\"],[1.0,\"#f0f921\"]],\"type\":\"heatmapgl\"}],\"heatmap\":[{\"colorbar\":{\"outlinewidth\":0,\"ticks\":\"\"},\"colorscale\":[[0.0,\"#0d0887\"],[0.1111111111111111,\"#46039f\"],[0.2222222222222222,\"#7201a8\"],[0.3333333333333333,\"#9c179e\"],[0.4444444444444444,\"#bd3786\"],[0.5555555555555556,\"#d8576b\"],[0.6666666666666666,\"#ed7953\"],[0.7777777777777778,\"#fb9f3a\"],[0.8888888888888888,\"#fdca26\"],[1.0,\"#f0f921\"]],\"type\":\"heatmap\"}],\"histogram2dcontour\":[{\"colorbar\":{\"outlinewidth\":0,\"ticks\":\"\"},\"colorscale\":[[0.0,\"#0d0887\"],[0.1111111111111111,\"#46039f\"],[0.2222222222222222,\"#7201a8\"],[0.3333333333333333,\"#9c179e\"],[0.4444444444444444,\"#bd3786\"],[0.5555555555555556,\"#d8576b\"],[0.6666666666666666,\"#ed7953\"],[0.7777777777777778,\"#fb9f3a\"],[0.8888888888888888,\"#fdca26\"],[1.0,\"#f0f921\"]],\"type\":\"histogram2dcontour\"}],\"histogram2d\":[{\"colorbar\":{\"outlinewidth\":0,\"ticks\":\"\"},\"colorscale\":[[0.0,\"#0d0887\"],[0.1111111111111111,\"#46039f\"],[0.2222222222222222,\"#7201a8\"],[0.3333333333333333,\"#9c179e\"],[0.4444444444444444,\"#bd3786\"],[0.5555555555555556,\"#d8576b\"],[0.6666666666666666,\"#ed7953\"],[0.7777777777777778,\"#fb9f3a\"],[0.8888888888888888,\"#fdca26\"],[1.0,\"#f0f921\"]],\"type\":\"histogram2d\"}],\"histogram\":[{\"marker\":{\"pattern\":{\"fillmode\":\"overlay\",\"size\":10,\"solidity\":0.2}},\"type\":\"histogram\"}],\"mesh3d\":[{\"colorbar\":{\"outlinewidth\":0,\"ticks\":\"\"},\"type\":\"mesh3d\"}],\"parcoords\":[{\"line\":{\"colorbar\":{\"outlinewidth\":0,\"ticks\":\"\"}},\"type\":\"parcoords\"}],\"pie\":[{\"automargin\":true,\"type\":\"pie\"}],\"scatter3d\":[{\"line\":{\"colorbar\":{\"outlinewidth\":0,\"ticks\":\"\"}},\"marker\":{\"colorbar\":{\"outlinewidth\":0,\"ticks\":\"\"}},\"type\":\"scatter3d\"}],\"scattercarpet\":[{\"marker\":{\"colorbar\":{\"outlinewidth\":0,\"ticks\":\"\"}},\"type\":\"scattercarpet\"}],\"scattergeo\":[{\"marker\":{\"colorbar\":{\"outlinewidth\":0,\"ticks\":\"\"}},\"type\":\"scattergeo\"}],\"scattergl\":[{\"marker\":{\"colorbar\":{\"outlinewidth\":0,\"ticks\":\"\"}},\"type\":\"scattergl\"}],\"scattermapbox\":[{\"marker\":{\"colorbar\":{\"outlinewidth\":0,\"ticks\":\"\"}},\"type\":\"scattermapbox\"}],\"scatterpolargl\":[{\"marker\":{\"colorbar\":{\"outlinewidth\":0,\"ticks\":\"\"}},\"type\":\"scatterpolargl\"}],\"scatterpolar\":[{\"marker\":{\"colorbar\":{\"outlinewidth\":0,\"ticks\":\"\"}},\"type\":\"scatterpolar\"}],\"scatter\":[{\"marker\":{\"colorbar\":{\"outlinewidth\":0,\"ticks\":\"\"}},\"type\":\"scatter\"}],\"scatterternary\":[{\"marker\":{\"colorbar\":{\"outlinewidth\":0,\"ticks\":\"\"}},\"type\":\"scatterternary\"}],\"surface\":[{\"colorbar\":{\"outlinewidth\":0,\"ticks\":\"\"},\"colorscale\":[[0.0,\"#0d0887\"],[0.1111111111111111,\"#46039f\"],[0.2222222222222222,\"#7201a8\"],[0.3333333333333333,\"#9c179e\"],[0.4444444444444444,\"#bd3786\"],[0.5555555555555556,\"#d8576b\"],[0.6666666666666666,\"#ed7953\"],[0.7777777777777778,\"#fb9f3a\"],[0.8888888888888888,\"#fdca26\"],[1.0,\"#f0f921\"]],\"type\":\"surface\"}],\"table\":[{\"cells\":{\"fill\":{\"color\":\"#EBF0F8\"},\"line\":{\"color\":\"white\"}},\"header\":{\"fill\":{\"color\":\"#C8D4E3\"},\"line\":{\"color\":\"white\"}},\"type\":\"table\"}]},\"layout\":{\"annotationdefaults\":{\"arrowcolor\":\"#2a3f5f\",\"arrowhead\":0,\"arrowwidth\":1},\"autotypenumbers\":\"strict\",\"coloraxis\":{\"colorbar\":{\"outlinewidth\":0,\"ticks\":\"\"}},\"colorscale\":{\"diverging\":[[0,\"#8e0152\"],[0.1,\"#c51b7d\"],[0.2,\"#de77ae\"],[0.3,\"#f1b6da\"],[0.4,\"#fde0ef\"],[0.5,\"#f7f7f7\"],[0.6,\"#e6f5d0\"],[0.7,\"#b8e186\"],[0.8,\"#7fbc41\"],[0.9,\"#4d9221\"],[1,\"#276419\"]],\"sequential\":[[0.0,\"#0d0887\"],[0.1111111111111111,\"#46039f\"],[0.2222222222222222,\"#7201a8\"],[0.3333333333333333,\"#9c179e\"],[0.4444444444444444,\"#bd3786\"],[0.5555555555555556,\"#d8576b\"],[0.6666666666666666,\"#ed7953\"],[0.7777777777777778,\"#fb9f3a\"],[0.8888888888888888,\"#fdca26\"],[1.0,\"#f0f921\"]],\"sequentialminus\":[[0.0,\"#0d0887\"],[0.1111111111111111,\"#46039f\"],[0.2222222222222222,\"#7201a8\"],[0.3333333333333333,\"#9c179e\"],[0.4444444444444444,\"#bd3786\"],[0.5555555555555556,\"#d8576b\"],[0.6666666666666666,\"#ed7953\"],[0.7777777777777778,\"#fb9f3a\"],[0.8888888888888888,\"#fdca26\"],[1.0,\"#f0f921\"]]},\"colorway\":[\"#636efa\",\"#EF553B\",\"#00cc96\",\"#ab63fa\",\"#FFA15A\",\"#19d3f3\",\"#FF6692\",\"#B6E880\",\"#FF97FF\",\"#FECB52\"],\"font\":{\"color\":\"#2a3f5f\"},\"geo\":{\"bgcolor\":\"white\",\"lakecolor\":\"white\",\"landcolor\":\"#E5ECF6\",\"showlakes\":true,\"showland\":true,\"subunitcolor\":\"white\"},\"hoverlabel\":{\"align\":\"left\"},\"hovermode\":\"closest\",\"mapbox\":{\"style\":\"light\"},\"paper_bgcolor\":\"white\",\"plot_bgcolor\":\"#E5ECF6\",\"polar\":{\"angularaxis\":{\"gridcolor\":\"white\",\"linecolor\":\"white\",\"ticks\":\"\"},\"bgcolor\":\"#E5ECF6\",\"radialaxis\":{\"gridcolor\":\"white\",\"linecolor\":\"white\",\"ticks\":\"\"}},\"scene\":{\"xaxis\":{\"backgroundcolor\":\"#E5ECF6\",\"gridcolor\":\"white\",\"gridwidth\":2,\"linecolor\":\"white\",\"showbackground\":true,\"ticks\":\"\",\"zerolinecolor\":\"white\"},\"yaxis\":{\"backgroundcolor\":\"#E5ECF6\",\"gridcolor\":\"white\",\"gridwidth\":2,\"linecolor\":\"white\",\"showbackground\":true,\"ticks\":\"\",\"zerolinecolor\":\"white\"},\"zaxis\":{\"backgroundcolor\":\"#E5ECF6\",\"gridcolor\":\"white\",\"gridwidth\":2,\"linecolor\":\"white\",\"showbackground\":true,\"ticks\":\"\",\"zerolinecolor\":\"white\"}},\"shapedefaults\":{\"line\":{\"color\":\"#2a3f5f\"}},\"ternary\":{\"aaxis\":{\"gridcolor\":\"white\",\"linecolor\":\"white\",\"ticks\":\"\"},\"baxis\":{\"gridcolor\":\"white\",\"linecolor\":\"white\",\"ticks\":\"\"},\"bgcolor\":\"#E5ECF6\",\"caxis\":{\"gridcolor\":\"white\",\"linecolor\":\"white\",\"ticks\":\"\"}},\"title\":{\"x\":0.05},\"xaxis\":{\"automargin\":true,\"gridcolor\":\"white\",\"linecolor\":\"white\",\"ticks\":\"\",\"title\":{\"standoff\":15},\"zerolinecolor\":\"white\",\"zerolinewidth\":2},\"yaxis\":{\"automargin\":true,\"gridcolor\":\"white\",\"linecolor\":\"white\",\"ticks\":\"\",\"title\":{\"standoff\":15},\"zerolinecolor\":\"white\",\"zerolinewidth\":2}}},\"title\":{\"text\":\"GANTT Chart\"},\"xaxis\":{\"range\":[\"1970-01-01T00:00:00\",\"1970-01-02T02:14:40\"],\"title\":{\"font\":{\"color\":\"#7f7f7f\",\"family\":\"Courier New, monospace\",\"size\":18},\"text\":\"Time\"}},\"yaxis\":{\"title\":{\"font\":{\"color\":\"#7f7f7f\",\"family\":\"Courier New, monospace\",\"size\":18},\"text\":\"Activities\"}}},                        {\"responsive\": true}                    ).then(function(){\n",
       "                            \n",
       "var gd = document.getElementById('a8ae4898-47e9-4a9e-981d-c89f18e4b3b4');\n",
       "var x = new MutationObserver(function (mutations, observer) {{\n",
       "        var display = window.getComputedStyle(gd).display;\n",
       "        if (!display || display === 'none') {{\n",
       "            console.log([gd, 'removed!']);\n",
       "            Plotly.purge(gd);\n",
       "            observer.disconnect();\n",
       "        }}\n",
       "}});\n",
       "\n",
       "// Listen for the removal of the full notebook cells\n",
       "var notebookContainer = gd.closest('#notebook-container');\n",
       "if (notebookContainer) {{\n",
       "    x.observe(notebookContainer, {childList: true});\n",
       "}}\n",
       "\n",
       "// Listen for the clearing of the current output cell\n",
       "var outputEl = gd.closest('.output');\n",
       "if (outputEl) {{\n",
       "    x.observe(outputEl, {childList: true});\n",
       "}}\n",
       "\n",
       "                        })                };                });            </script>        </div>"
      ]
     },
     "metadata": {},
     "output_type": "display_data"
    }
   ],
   "source": [
    "fig = plot.get_gantt_chart([*vessels.values()], id_map=[activities[x] for x in activities])"
   ]
  },
  {
   "cell_type": "code",
   "execution_count": 6,
   "id": "b7331bd0",
   "metadata": {},
   "outputs": [
    {
     "data": {
      "text/html": [
       "        <script type=\"text/javascript\">\n",
       "        window.PlotlyConfig = {MathJaxConfig: 'local'};\n",
       "        if (window.MathJax) {MathJax.Hub.Config({SVG: {font: \"STIX-Web\"}});}\n",
       "        if (typeof require !== 'undefined') {\n",
       "        require.undef(\"plotly\");\n",
       "        requirejs.config({\n",
       "            paths: {\n",
       "                'plotly': ['https://cdn.plot.ly/plotly-2.8.3.min']\n",
       "            }\n",
       "        });\n",
       "        require(['plotly'], function(Plotly) {\n",
       "            window._Plotly = Plotly;\n",
       "        });\n",
       "        }\n",
       "        </script>\n",
       "        "
      ]
     },
     "metadata": {},
     "output_type": "display_data"
    },
    {
     "data": {
      "application/vnd.plotly.v1+json": {
       "config": {
        "linkText": "Export to plot.ly",
        "plotlyServerURL": "https://plot.ly",
        "showLink": false
       },
       "data": [
        {
         "connectgaps": false,
         "hoverinfo": "y+name",
         "line": {
          "color": "rgb(161,198,178)",
          "width": 10
         },
         "mode": "lines",
         "name": "loading:barge_1",
         "type": "scatter",
         "x": [
          "1970-01-01T01:46:50",
          "1970-01-01T01:46:50",
          "1970-01-01T02:28:30",
          "1970-01-01T02:28:30",
          "1970-01-01T02:28:30",
          "1970-01-01T04:59:46",
          "1970-01-01T04:59:46",
          "1970-01-01T05:41:26",
          "1970-01-01T05:41:26",
          "1970-01-01T05:41:26",
          "1970-01-01T08:12:42",
          "1970-01-01T08:12:42",
          "1970-01-01T08:54:22",
          "1970-01-01T08:54:22",
          "1970-01-01T08:54:22",
          "1970-01-01T11:25:38",
          "1970-01-01T11:25:38",
          "1970-01-01T12:07:18",
          "1970-01-01T12:07:18",
          "1970-01-01T12:07:18",
          "1970-01-01T14:38:34",
          "1970-01-01T14:38:34",
          "1970-01-01T15:20:14",
          "1970-01-01T15:20:14",
          "1970-01-01T15:20:14",
          "1970-01-01T17:51:30",
          "1970-01-01T17:51:30",
          "1970-01-01T18:33:10",
          "1970-01-01T18:33:10",
          "1970-01-01T18:33:10",
          "1970-01-01T21:04:26",
          "1970-01-01T21:04:26",
          "1970-01-01T21:46:06",
          "1970-01-01T21:46:06",
          "1970-01-01T21:46:06",
          "1970-01-02T00:17:22",
          "1970-01-02T00:17:22",
          "1970-01-02T00:59:02",
          "1970-01-02T00:59:02",
          "1970-01-02T00:59:02",
          "1970-01-01T01:46:50",
          "1970-01-01T01:46:50",
          "1970-01-01T02:28:30",
          "1970-01-01T02:28:30",
          "1970-01-01T02:28:30",
          "1970-01-01T04:59:46",
          "1970-01-01T04:59:46",
          "1970-01-01T05:41:26",
          "1970-01-01T05:41:26",
          "1970-01-01T05:41:26",
          "1970-01-01T08:12:42",
          "1970-01-01T08:12:42",
          "1970-01-01T08:54:22",
          "1970-01-01T08:54:22",
          "1970-01-01T08:54:22",
          "1970-01-01T11:25:38",
          "1970-01-01T11:25:38",
          "1970-01-01T12:07:18",
          "1970-01-01T12:07:18",
          "1970-01-01T12:07:18",
          "1970-01-01T14:38:34",
          "1970-01-01T14:38:34",
          "1970-01-01T15:20:14",
          "1970-01-01T15:20:14",
          "1970-01-01T15:20:14",
          "1970-01-01T17:51:30",
          "1970-01-01T17:51:30",
          "1970-01-01T18:33:10",
          "1970-01-01T18:33:10",
          "1970-01-01T18:33:10",
          "1970-01-01T21:04:26",
          "1970-01-01T21:04:26",
          "1970-01-01T21:46:06",
          "1970-01-01T21:46:06",
          "1970-01-01T21:46:06",
          "1970-01-02T00:17:22",
          "1970-01-02T00:17:22",
          "1970-01-02T00:59:02",
          "1970-01-02T00:59:02",
          "1970-01-02T00:59:02"
         ],
         "y": [
          "from_site",
          "from_site",
          "from_site",
          "from_site",
          null,
          "from_site",
          "from_site",
          "from_site",
          "from_site",
          null,
          "from_site",
          "from_site",
          "from_site",
          "from_site",
          null,
          "from_site",
          "from_site",
          "from_site",
          "from_site",
          null,
          "from_site",
          "from_site",
          "from_site",
          "from_site",
          null,
          "from_site",
          "from_site",
          "from_site",
          "from_site",
          null,
          "from_site",
          "from_site",
          "from_site",
          "from_site",
          null,
          "from_site",
          "from_site",
          "from_site",
          "from_site",
          null,
          "cutter",
          "cutter",
          "cutter",
          "cutter",
          null,
          "cutter",
          "cutter",
          "cutter",
          "cutter",
          null,
          "cutter",
          "cutter",
          "cutter",
          "cutter",
          null,
          "cutter",
          "cutter",
          "cutter",
          "cutter",
          null,
          "cutter",
          "cutter",
          "cutter",
          "cutter",
          null,
          "cutter",
          "cutter",
          "cutter",
          "cutter",
          null,
          "cutter",
          "cutter",
          "cutter",
          "cutter",
          null,
          "cutter",
          "cutter",
          "cutter",
          "cutter",
          null
         ]
        },
        {
         "connectgaps": false,
         "hoverinfo": "y+name",
         "line": {
          "color": "rgb(189,226,206)",
          "width": 10
         },
         "mode": "lines",
         "name": "loading:barge_2",
         "type": "scatter",
         "x": [
          "1970-01-01T02:28:30",
          "1970-01-01T02:28:30",
          "1970-01-01T03:01:50",
          "1970-01-01T03:01:50",
          "1970-01-01T03:01:50",
          "1970-01-01T05:41:26",
          "1970-01-01T05:41:26",
          "1970-01-01T06:14:46",
          "1970-01-01T06:14:46",
          "1970-01-01T06:14:46",
          "1970-01-01T08:54:22",
          "1970-01-01T08:54:22",
          "1970-01-01T09:27:42",
          "1970-01-01T09:27:42",
          "1970-01-01T09:27:42",
          "1970-01-01T12:07:18",
          "1970-01-01T12:07:18",
          "1970-01-01T12:40:38",
          "1970-01-01T12:40:38",
          "1970-01-01T12:40:38",
          "1970-01-01T15:20:14",
          "1970-01-01T15:20:14",
          "1970-01-01T15:53:34",
          "1970-01-01T15:53:34",
          "1970-01-01T15:53:34",
          "1970-01-01T18:33:10",
          "1970-01-01T18:33:10",
          "1970-01-01T19:06:30",
          "1970-01-01T19:06:30",
          "1970-01-01T19:06:30",
          "1970-01-01T21:46:06",
          "1970-01-01T21:46:06",
          "1970-01-01T22:19:26",
          "1970-01-01T22:19:26",
          "1970-01-01T22:19:26",
          "1970-01-01T02:28:30",
          "1970-01-01T02:28:30",
          "1970-01-01T03:01:50",
          "1970-01-01T03:01:50",
          "1970-01-01T03:01:50",
          "1970-01-01T05:41:26",
          "1970-01-01T05:41:26",
          "1970-01-01T06:14:46",
          "1970-01-01T06:14:46",
          "1970-01-01T06:14:46",
          "1970-01-01T08:54:22",
          "1970-01-01T08:54:22",
          "1970-01-01T09:27:42",
          "1970-01-01T09:27:42",
          "1970-01-01T09:27:42",
          "1970-01-01T12:07:18",
          "1970-01-01T12:07:18",
          "1970-01-01T12:40:38",
          "1970-01-01T12:40:38",
          "1970-01-01T12:40:38",
          "1970-01-01T15:20:14",
          "1970-01-01T15:20:14",
          "1970-01-01T15:53:34",
          "1970-01-01T15:53:34",
          "1970-01-01T15:53:34",
          "1970-01-01T18:33:10",
          "1970-01-01T18:33:10",
          "1970-01-01T19:06:30",
          "1970-01-01T19:06:30",
          "1970-01-01T19:06:30",
          "1970-01-01T21:46:06",
          "1970-01-01T21:46:06",
          "1970-01-01T22:19:26",
          "1970-01-01T22:19:26",
          "1970-01-01T22:19:26"
         ],
         "y": [
          "from_site",
          "from_site",
          "from_site",
          "from_site",
          null,
          "from_site",
          "from_site",
          "from_site",
          "from_site",
          null,
          "from_site",
          "from_site",
          "from_site",
          "from_site",
          null,
          "from_site",
          "from_site",
          "from_site",
          "from_site",
          null,
          "from_site",
          "from_site",
          "from_site",
          "from_site",
          null,
          "from_site",
          "from_site",
          "from_site",
          "from_site",
          null,
          "from_site",
          "from_site",
          "from_site",
          "from_site",
          null,
          "cutter",
          "cutter",
          "cutter",
          "cutter",
          null,
          "cutter",
          "cutter",
          "cutter",
          "cutter",
          null,
          "cutter",
          "cutter",
          "cutter",
          "cutter",
          null,
          "cutter",
          "cutter",
          "cutter",
          "cutter",
          null,
          "cutter",
          "cutter",
          "cutter",
          "cutter",
          null,
          "cutter",
          "cutter",
          "cutter",
          "cutter",
          null,
          "cutter",
          "cutter",
          "cutter",
          "cutter",
          null
         ]
        },
        {
         "connectgaps": false,
         "hoverinfo": "y+name",
         "line": {
          "color": "rgb(217,254,234)",
          "width": 10
         },
         "mode": "lines",
         "name": "loading:barge_0",
         "type": "scatter",
         "x": [
          "1970-01-01T01:13:30",
          "1970-01-01T01:13:30",
          "1970-01-01T01:46:50",
          "1970-01-01T01:46:50",
          "1970-01-01T01:46:50",
          "1970-01-01T04:13:50",
          "1970-01-01T04:13:50",
          "1970-01-01T04:47:10",
          "1970-01-01T04:47:10",
          "1970-01-01T04:47:10",
          "1970-01-01T07:14:10",
          "1970-01-01T07:14:10",
          "1970-01-01T07:47:30",
          "1970-01-01T07:47:30",
          "1970-01-01T07:47:30",
          "1970-01-01T10:14:30",
          "1970-01-01T10:14:30",
          "1970-01-01T10:47:50",
          "1970-01-01T10:47:50",
          "1970-01-01T10:47:50",
          "1970-01-01T13:14:50",
          "1970-01-01T13:14:50",
          "1970-01-01T13:48:10",
          "1970-01-01T13:48:10",
          "1970-01-01T13:48:10",
          "1970-01-01T16:15:10",
          "1970-01-01T16:15:10",
          "1970-01-01T16:48:30",
          "1970-01-01T16:48:30",
          "1970-01-01T16:48:30",
          "1970-01-01T19:15:30",
          "1970-01-01T19:15:30",
          "1970-01-01T19:48:50",
          "1970-01-01T19:48:50",
          "1970-01-01T19:48:50",
          "1970-01-01T22:19:26",
          "1970-01-01T22:19:26",
          "1970-01-01T22:52:46",
          "1970-01-01T22:52:46",
          "1970-01-01T22:52:46",
          "1970-01-01T01:13:30",
          "1970-01-01T01:13:30",
          "1970-01-01T01:46:50",
          "1970-01-01T01:46:50",
          "1970-01-01T01:46:50",
          "1970-01-01T04:13:50",
          "1970-01-01T04:13:50",
          "1970-01-01T04:47:10",
          "1970-01-01T04:47:10",
          "1970-01-01T04:47:10",
          "1970-01-01T07:14:10",
          "1970-01-01T07:14:10",
          "1970-01-01T07:47:30",
          "1970-01-01T07:47:30",
          "1970-01-01T07:47:30",
          "1970-01-01T10:14:30",
          "1970-01-01T10:14:30",
          "1970-01-01T10:47:50",
          "1970-01-01T10:47:50",
          "1970-01-01T10:47:50",
          "1970-01-01T13:14:50",
          "1970-01-01T13:14:50",
          "1970-01-01T13:48:10",
          "1970-01-01T13:48:10",
          "1970-01-01T13:48:10",
          "1970-01-01T16:15:10",
          "1970-01-01T16:15:10",
          "1970-01-01T16:48:30",
          "1970-01-01T16:48:30",
          "1970-01-01T16:48:30",
          "1970-01-01T19:15:30",
          "1970-01-01T19:15:30",
          "1970-01-01T19:48:50",
          "1970-01-01T19:48:50",
          "1970-01-01T19:48:50",
          "1970-01-01T22:19:26",
          "1970-01-01T22:19:26",
          "1970-01-01T22:52:46",
          "1970-01-01T22:52:46",
          "1970-01-01T22:52:46"
         ],
         "y": [
          "from_site",
          "from_site",
          "from_site",
          "from_site",
          null,
          "from_site",
          "from_site",
          "from_site",
          "from_site",
          null,
          "from_site",
          "from_site",
          "from_site",
          "from_site",
          null,
          "from_site",
          "from_site",
          "from_site",
          "from_site",
          null,
          "from_site",
          "from_site",
          "from_site",
          "from_site",
          null,
          "from_site",
          "from_site",
          "from_site",
          "from_site",
          null,
          "from_site",
          "from_site",
          "from_site",
          "from_site",
          null,
          "from_site",
          "from_site",
          "from_site",
          "from_site",
          null,
          "cutter",
          "cutter",
          "cutter",
          "cutter",
          null,
          "cutter",
          "cutter",
          "cutter",
          "cutter",
          null,
          "cutter",
          "cutter",
          "cutter",
          "cutter",
          null,
          "cutter",
          "cutter",
          "cutter",
          "cutter",
          null,
          "cutter",
          "cutter",
          "cutter",
          "cutter",
          null,
          "cutter",
          "cutter",
          "cutter",
          "cutter",
          null,
          "cutter",
          "cutter",
          "cutter",
          "cutter",
          null,
          "cutter",
          "cutter",
          "cutter",
          "cutter",
          null
         ]
        },
        {
         "connectgaps": false,
         "hoverinfo": "y+name",
         "line": {
          "color": "rgb(245,26,6)",
          "width": 10
         },
         "mode": "lines",
         "name": "unloading:barge_1",
         "type": "scatter",
         "x": [
          "1970-01-01T03:06:19",
          "1970-01-01T03:06:19",
          "1970-01-01T03:44:08",
          "1970-01-01T03:44:08",
          "1970-01-01T03:44:08",
          "1970-01-01T06:19:15",
          "1970-01-01T06:19:15",
          "1970-01-01T06:57:04",
          "1970-01-01T06:57:04",
          "1970-01-01T06:57:04",
          "1970-01-01T09:32:11",
          "1970-01-01T09:32:11",
          "1970-01-01T10:10:00",
          "1970-01-01T10:10:00",
          "1970-01-01T10:10:00",
          "1970-01-01T12:45:07",
          "1970-01-01T12:45:07",
          "1970-01-01T13:22:56",
          "1970-01-01T13:22:56",
          "1970-01-01T13:22:56",
          "1970-01-01T15:58:03",
          "1970-01-01T15:58:03",
          "1970-01-01T16:35:52",
          "1970-01-01T16:35:52",
          "1970-01-01T16:35:52",
          "1970-01-01T19:10:59",
          "1970-01-01T19:10:59",
          "1970-01-01T19:48:48",
          "1970-01-01T19:48:48",
          "1970-01-01T19:48:48",
          "1970-01-01T22:23:55",
          "1970-01-01T22:23:55",
          "1970-01-01T23:01:44",
          "1970-01-01T23:01:44",
          "1970-01-01T23:01:44",
          "1970-01-02T01:36:51",
          "1970-01-02T01:36:51",
          "1970-01-02T02:14:40",
          "1970-01-02T02:14:40",
          "1970-01-02T02:14:40"
         ],
         "y": [
          "to_site",
          "to_site",
          "to_site",
          "to_site",
          null,
          "to_site",
          "to_site",
          "to_site",
          "to_site",
          null,
          "to_site",
          "to_site",
          "to_site",
          "to_site",
          null,
          "to_site",
          "to_site",
          "to_site",
          "to_site",
          null,
          "to_site",
          "to_site",
          "to_site",
          "to_site",
          null,
          "to_site",
          "to_site",
          "to_site",
          "to_site",
          null,
          "to_site",
          "to_site",
          "to_site",
          "to_site",
          null,
          "to_site",
          "to_site",
          "to_site",
          "to_site",
          null
         ]
        },
        {
         "connectgaps": false,
         "hoverinfo": "y+name",
         "line": {
          "color": "rgb(17,54,34)",
          "width": 10
         },
         "mode": "lines",
         "name": "unloading:barge_2",
         "type": "scatter",
         "x": [
          "1970-01-01T03:40:42",
          "1970-01-01T03:40:42",
          "1970-01-01T04:19:34",
          "1970-01-01T04:19:34",
          "1970-01-01T04:19:34",
          "1970-01-01T06:53:38",
          "1970-01-01T06:53:38",
          "1970-01-01T07:32:30",
          "1970-01-01T07:32:30",
          "1970-01-01T07:32:30",
          "1970-01-01T10:06:34",
          "1970-01-01T10:06:34",
          "1970-01-01T10:45:26",
          "1970-01-01T10:45:26",
          "1970-01-01T10:45:26",
          "1970-01-01T13:19:30",
          "1970-01-01T13:19:30",
          "1970-01-01T13:58:22",
          "1970-01-01T13:58:22",
          "1970-01-01T13:58:22",
          "1970-01-01T16:32:26",
          "1970-01-01T16:32:26",
          "1970-01-01T17:11:18",
          "1970-01-01T17:11:18",
          "1970-01-01T17:11:18",
          "1970-01-01T19:45:22",
          "1970-01-01T19:45:22",
          "1970-01-01T20:24:14",
          "1970-01-01T20:24:14",
          "1970-01-01T20:24:14",
          "1970-01-01T22:58:18",
          "1970-01-01T22:58:18",
          "1970-01-01T23:37:10",
          "1970-01-01T23:37:10",
          "1970-01-01T23:37:10"
         ],
         "y": [
          "to_site",
          "to_site",
          "to_site",
          "to_site",
          null,
          "to_site",
          "to_site",
          "to_site",
          "to_site",
          null,
          "to_site",
          "to_site",
          "to_site",
          "to_site",
          null,
          "to_site",
          "to_site",
          "to_site",
          "to_site",
          null,
          "to_site",
          "to_site",
          "to_site",
          "to_site",
          null,
          "to_site",
          "to_site",
          "to_site",
          "to_site",
          null,
          "to_site",
          "to_site",
          "to_site",
          "to_site",
          null
         ]
        },
        {
         "connectgaps": false,
         "hoverinfo": "y+name",
         "line": {
          "color": "rgb(45,82,62)",
          "width": 10
         },
         "mode": "lines",
         "name": "unloading:barge_0",
         "type": "scatter",
         "x": [
          "1970-01-01T02:23:35",
          "1970-01-01T02:23:35",
          "1970-01-01T03:00:20",
          "1970-01-01T03:00:20",
          "1970-01-01T03:00:20",
          "1970-01-01T05:23:55",
          "1970-01-01T05:23:55",
          "1970-01-01T06:00:40",
          "1970-01-01T06:00:40",
          "1970-01-01T06:00:40",
          "1970-01-01T08:24:15",
          "1970-01-01T08:24:15",
          "1970-01-01T09:01:00",
          "1970-01-01T09:01:00",
          "1970-01-01T09:01:00",
          "1970-01-01T11:24:35",
          "1970-01-01T11:24:35",
          "1970-01-01T12:01:20",
          "1970-01-01T12:01:20",
          "1970-01-01T12:01:20",
          "1970-01-01T14:24:55",
          "1970-01-01T14:24:55",
          "1970-01-01T15:01:40",
          "1970-01-01T15:01:40",
          "1970-01-01T15:01:40",
          "1970-01-01T17:25:15",
          "1970-01-01T17:25:15",
          "1970-01-01T18:02:00",
          "1970-01-01T18:02:00",
          "1970-01-01T18:02:00",
          "1970-01-01T20:25:35",
          "1970-01-01T20:25:35",
          "1970-01-01T21:02:20",
          "1970-01-01T21:02:20",
          "1970-01-01T21:02:20",
          "1970-01-01T23:29:31",
          "1970-01-01T23:29:31",
          "1970-01-02T00:06:16",
          "1970-01-02T00:06:16",
          "1970-01-02T00:06:16"
         ],
         "y": [
          "to_site",
          "to_site",
          "to_site",
          "to_site",
          null,
          "to_site",
          "to_site",
          "to_site",
          "to_site",
          null,
          "to_site",
          "to_site",
          "to_site",
          "to_site",
          null,
          "to_site",
          "to_site",
          "to_site",
          "to_site",
          null,
          "to_site",
          "to_site",
          "to_site",
          "to_site",
          null,
          "to_site",
          "to_site",
          "to_site",
          "to_site",
          null,
          "to_site",
          "to_site",
          "to_site",
          "to_site",
          null,
          "to_site",
          "to_site",
          "to_site",
          "to_site",
          null
         ]
        },
        {
         "connectgaps": false,
         "hoverinfo": "y+name",
         "line": {
          "color": "rgb(73,110,90)",
          "width": 10
         },
         "mode": "lines",
         "name": "loading:barge_1",
         "type": "scatter",
         "x": [
          "1970-01-01T01:46:50",
          "1970-01-01T01:46:50",
          "1970-01-01T02:28:30",
          "1970-01-01T02:28:30",
          "1970-01-01T02:28:30",
          "1970-01-01T04:59:46",
          "1970-01-01T04:59:46",
          "1970-01-01T05:41:26",
          "1970-01-01T05:41:26",
          "1970-01-01T05:41:26",
          "1970-01-01T08:12:42",
          "1970-01-01T08:12:42",
          "1970-01-01T08:54:22",
          "1970-01-01T08:54:22",
          "1970-01-01T08:54:22",
          "1970-01-01T11:25:38",
          "1970-01-01T11:25:38",
          "1970-01-01T12:07:18",
          "1970-01-01T12:07:18",
          "1970-01-01T12:07:18",
          "1970-01-01T14:38:34",
          "1970-01-01T14:38:34",
          "1970-01-01T15:20:14",
          "1970-01-01T15:20:14",
          "1970-01-01T15:20:14",
          "1970-01-01T17:51:30",
          "1970-01-01T17:51:30",
          "1970-01-01T18:33:10",
          "1970-01-01T18:33:10",
          "1970-01-01T18:33:10",
          "1970-01-01T21:04:26",
          "1970-01-01T21:04:26",
          "1970-01-01T21:46:06",
          "1970-01-01T21:46:06",
          "1970-01-01T21:46:06",
          "1970-01-02T00:17:22",
          "1970-01-02T00:17:22",
          "1970-01-02T00:59:02",
          "1970-01-02T00:59:02",
          "1970-01-02T00:59:02",
          "1970-01-01T01:46:50",
          "1970-01-01T01:46:50",
          "1970-01-01T02:28:30",
          "1970-01-01T02:28:30",
          "1970-01-01T02:28:30",
          "1970-01-01T04:59:46",
          "1970-01-01T04:59:46",
          "1970-01-01T05:41:26",
          "1970-01-01T05:41:26",
          "1970-01-01T05:41:26",
          "1970-01-01T08:12:42",
          "1970-01-01T08:12:42",
          "1970-01-01T08:54:22",
          "1970-01-01T08:54:22",
          "1970-01-01T08:54:22",
          "1970-01-01T11:25:38",
          "1970-01-01T11:25:38",
          "1970-01-01T12:07:18",
          "1970-01-01T12:07:18",
          "1970-01-01T12:07:18",
          "1970-01-01T14:38:34",
          "1970-01-01T14:38:34",
          "1970-01-01T15:20:14",
          "1970-01-01T15:20:14",
          "1970-01-01T15:20:14",
          "1970-01-01T17:51:30",
          "1970-01-01T17:51:30",
          "1970-01-01T18:33:10",
          "1970-01-01T18:33:10",
          "1970-01-01T18:33:10",
          "1970-01-01T21:04:26",
          "1970-01-01T21:04:26",
          "1970-01-01T21:46:06",
          "1970-01-01T21:46:06",
          "1970-01-01T21:46:06",
          "1970-01-02T00:17:22",
          "1970-01-02T00:17:22",
          "1970-01-02T00:59:02",
          "1970-01-02T00:59:02",
          "1970-01-02T00:59:02"
         ],
         "y": [
          "from_site",
          "from_site",
          "from_site",
          "from_site",
          null,
          "from_site",
          "from_site",
          "from_site",
          "from_site",
          null,
          "from_site",
          "from_site",
          "from_site",
          "from_site",
          null,
          "from_site",
          "from_site",
          "from_site",
          "from_site",
          null,
          "from_site",
          "from_site",
          "from_site",
          "from_site",
          null,
          "from_site",
          "from_site",
          "from_site",
          "from_site",
          null,
          "from_site",
          "from_site",
          "from_site",
          "from_site",
          null,
          "from_site",
          "from_site",
          "from_site",
          "from_site",
          null,
          "cutter",
          "cutter",
          "cutter",
          "cutter",
          null,
          "cutter",
          "cutter",
          "cutter",
          "cutter",
          null,
          "cutter",
          "cutter",
          "cutter",
          "cutter",
          null,
          "cutter",
          "cutter",
          "cutter",
          "cutter",
          null,
          "cutter",
          "cutter",
          "cutter",
          "cutter",
          null,
          "cutter",
          "cutter",
          "cutter",
          "cutter",
          null,
          "cutter",
          "cutter",
          "cutter",
          "cutter",
          null,
          "cutter",
          "cutter",
          "cutter",
          "cutter",
          null
         ]
        },
        {
         "connectgaps": false,
         "hoverinfo": "y+name",
         "line": {
          "color": "rgb(101,138,118)",
          "width": 10
         },
         "mode": "lines",
         "name": "loading:barge_2",
         "type": "scatter",
         "x": [
          "1970-01-01T02:28:30",
          "1970-01-01T02:28:30",
          "1970-01-01T03:01:50",
          "1970-01-01T03:01:50",
          "1970-01-01T03:01:50",
          "1970-01-01T05:41:26",
          "1970-01-01T05:41:26",
          "1970-01-01T06:14:46",
          "1970-01-01T06:14:46",
          "1970-01-01T06:14:46",
          "1970-01-01T08:54:22",
          "1970-01-01T08:54:22",
          "1970-01-01T09:27:42",
          "1970-01-01T09:27:42",
          "1970-01-01T09:27:42",
          "1970-01-01T12:07:18",
          "1970-01-01T12:07:18",
          "1970-01-01T12:40:38",
          "1970-01-01T12:40:38",
          "1970-01-01T12:40:38",
          "1970-01-01T15:20:14",
          "1970-01-01T15:20:14",
          "1970-01-01T15:53:34",
          "1970-01-01T15:53:34",
          "1970-01-01T15:53:34",
          "1970-01-01T18:33:10",
          "1970-01-01T18:33:10",
          "1970-01-01T19:06:30",
          "1970-01-01T19:06:30",
          "1970-01-01T19:06:30",
          "1970-01-01T21:46:06",
          "1970-01-01T21:46:06",
          "1970-01-01T22:19:26",
          "1970-01-01T22:19:26",
          "1970-01-01T22:19:26",
          "1970-01-01T02:28:30",
          "1970-01-01T02:28:30",
          "1970-01-01T03:01:50",
          "1970-01-01T03:01:50",
          "1970-01-01T03:01:50",
          "1970-01-01T05:41:26",
          "1970-01-01T05:41:26",
          "1970-01-01T06:14:46",
          "1970-01-01T06:14:46",
          "1970-01-01T06:14:46",
          "1970-01-01T08:54:22",
          "1970-01-01T08:54:22",
          "1970-01-01T09:27:42",
          "1970-01-01T09:27:42",
          "1970-01-01T09:27:42",
          "1970-01-01T12:07:18",
          "1970-01-01T12:07:18",
          "1970-01-01T12:40:38",
          "1970-01-01T12:40:38",
          "1970-01-01T12:40:38",
          "1970-01-01T15:20:14",
          "1970-01-01T15:20:14",
          "1970-01-01T15:53:34",
          "1970-01-01T15:53:34",
          "1970-01-01T15:53:34",
          "1970-01-01T18:33:10",
          "1970-01-01T18:33:10",
          "1970-01-01T19:06:30",
          "1970-01-01T19:06:30",
          "1970-01-01T19:06:30",
          "1970-01-01T21:46:06",
          "1970-01-01T21:46:06",
          "1970-01-01T22:19:26",
          "1970-01-01T22:19:26",
          "1970-01-01T22:19:26"
         ],
         "y": [
          "from_site",
          "from_site",
          "from_site",
          "from_site",
          null,
          "from_site",
          "from_site",
          "from_site",
          "from_site",
          null,
          "from_site",
          "from_site",
          "from_site",
          "from_site",
          null,
          "from_site",
          "from_site",
          "from_site",
          "from_site",
          null,
          "from_site",
          "from_site",
          "from_site",
          "from_site",
          null,
          "from_site",
          "from_site",
          "from_site",
          "from_site",
          null,
          "from_site",
          "from_site",
          "from_site",
          "from_site",
          null,
          "cutter",
          "cutter",
          "cutter",
          "cutter",
          null,
          "cutter",
          "cutter",
          "cutter",
          "cutter",
          null,
          "cutter",
          "cutter",
          "cutter",
          "cutter",
          null,
          "cutter",
          "cutter",
          "cutter",
          "cutter",
          null,
          "cutter",
          "cutter",
          "cutter",
          "cutter",
          null,
          "cutter",
          "cutter",
          "cutter",
          "cutter",
          null,
          "cutter",
          "cutter",
          "cutter",
          "cutter",
          null
         ]
        },
        {
         "connectgaps": false,
         "hoverinfo": "y+name",
         "line": {
          "color": "rgb(129,166,146)",
          "width": 10
         },
         "mode": "lines",
         "name": "loading:barge_0",
         "type": "scatter",
         "x": [
          "1970-01-01T01:13:30",
          "1970-01-01T01:13:30",
          "1970-01-01T01:46:50",
          "1970-01-01T01:46:50",
          "1970-01-01T01:46:50",
          "1970-01-01T04:13:50",
          "1970-01-01T04:13:50",
          "1970-01-01T04:47:10",
          "1970-01-01T04:47:10",
          "1970-01-01T04:47:10",
          "1970-01-01T07:14:10",
          "1970-01-01T07:14:10",
          "1970-01-01T07:47:30",
          "1970-01-01T07:47:30",
          "1970-01-01T07:47:30",
          "1970-01-01T10:14:30",
          "1970-01-01T10:14:30",
          "1970-01-01T10:47:50",
          "1970-01-01T10:47:50",
          "1970-01-01T10:47:50",
          "1970-01-01T13:14:50",
          "1970-01-01T13:14:50",
          "1970-01-01T13:48:10",
          "1970-01-01T13:48:10",
          "1970-01-01T13:48:10",
          "1970-01-01T16:15:10",
          "1970-01-01T16:15:10",
          "1970-01-01T16:48:30",
          "1970-01-01T16:48:30",
          "1970-01-01T16:48:30",
          "1970-01-01T19:15:30",
          "1970-01-01T19:15:30",
          "1970-01-01T19:48:50",
          "1970-01-01T19:48:50",
          "1970-01-01T19:48:50",
          "1970-01-01T22:19:26",
          "1970-01-01T22:19:26",
          "1970-01-01T22:52:46",
          "1970-01-01T22:52:46",
          "1970-01-01T22:52:46",
          "1970-01-01T01:13:30",
          "1970-01-01T01:13:30",
          "1970-01-01T01:46:50",
          "1970-01-01T01:46:50",
          "1970-01-01T01:46:50",
          "1970-01-01T04:13:50",
          "1970-01-01T04:13:50",
          "1970-01-01T04:47:10",
          "1970-01-01T04:47:10",
          "1970-01-01T04:47:10",
          "1970-01-01T07:14:10",
          "1970-01-01T07:14:10",
          "1970-01-01T07:47:30",
          "1970-01-01T07:47:30",
          "1970-01-01T07:47:30",
          "1970-01-01T10:14:30",
          "1970-01-01T10:14:30",
          "1970-01-01T10:47:50",
          "1970-01-01T10:47:50",
          "1970-01-01T10:47:50",
          "1970-01-01T13:14:50",
          "1970-01-01T13:14:50",
          "1970-01-01T13:48:10",
          "1970-01-01T13:48:10",
          "1970-01-01T13:48:10",
          "1970-01-01T16:15:10",
          "1970-01-01T16:15:10",
          "1970-01-01T16:48:30",
          "1970-01-01T16:48:30",
          "1970-01-01T16:48:30",
          "1970-01-01T19:15:30",
          "1970-01-01T19:15:30",
          "1970-01-01T19:48:50",
          "1970-01-01T19:48:50",
          "1970-01-01T19:48:50",
          "1970-01-01T22:19:26",
          "1970-01-01T22:19:26",
          "1970-01-01T22:52:46",
          "1970-01-01T22:52:46",
          "1970-01-01T22:52:46"
         ],
         "y": [
          "from_site",
          "from_site",
          "from_site",
          "from_site",
          null,
          "from_site",
          "from_site",
          "from_site",
          "from_site",
          null,
          "from_site",
          "from_site",
          "from_site",
          "from_site",
          null,
          "from_site",
          "from_site",
          "from_site",
          "from_site",
          null,
          "from_site",
          "from_site",
          "from_site",
          "from_site",
          null,
          "from_site",
          "from_site",
          "from_site",
          "from_site",
          null,
          "from_site",
          "from_site",
          "from_site",
          "from_site",
          null,
          "from_site",
          "from_site",
          "from_site",
          "from_site",
          null,
          "cutter",
          "cutter",
          "cutter",
          "cutter",
          null,
          "cutter",
          "cutter",
          "cutter",
          "cutter",
          null,
          "cutter",
          "cutter",
          "cutter",
          "cutter",
          null,
          "cutter",
          "cutter",
          "cutter",
          "cutter",
          null,
          "cutter",
          "cutter",
          "cutter",
          "cutter",
          null,
          "cutter",
          "cutter",
          "cutter",
          "cutter",
          null,
          "cutter",
          "cutter",
          "cutter",
          "cutter",
          null,
          "cutter",
          "cutter",
          "cutter",
          "cutter",
          null
         ]
        }
       ],
       "layout": {
        "hovermode": "closest",
        "legend": {
         "orientation": "h",
         "x": 0,
         "y": -0.2
        },
        "template": {
         "data": {
          "bar": [
           {
            "error_x": {
             "color": "#2a3f5f"
            },
            "error_y": {
             "color": "#2a3f5f"
            },
            "marker": {
             "line": {
              "color": "#E5ECF6",
              "width": 0.5
             },
             "pattern": {
              "fillmode": "overlay",
              "size": 10,
              "solidity": 0.2
             }
            },
            "type": "bar"
           }
          ],
          "barpolar": [
           {
            "marker": {
             "line": {
              "color": "#E5ECF6",
              "width": 0.5
             },
             "pattern": {
              "fillmode": "overlay",
              "size": 10,
              "solidity": 0.2
             }
            },
            "type": "barpolar"
           }
          ],
          "carpet": [
           {
            "aaxis": {
             "endlinecolor": "#2a3f5f",
             "gridcolor": "white",
             "linecolor": "white",
             "minorgridcolor": "white",
             "startlinecolor": "#2a3f5f"
            },
            "baxis": {
             "endlinecolor": "#2a3f5f",
             "gridcolor": "white",
             "linecolor": "white",
             "minorgridcolor": "white",
             "startlinecolor": "#2a3f5f"
            },
            "type": "carpet"
           }
          ],
          "choropleth": [
           {
            "colorbar": {
             "outlinewidth": 0,
             "ticks": ""
            },
            "type": "choropleth"
           }
          ],
          "contour": [
           {
            "colorbar": {
             "outlinewidth": 0,
             "ticks": ""
            },
            "colorscale": [
             [
              0,
              "#0d0887"
             ],
             [
              0.1111111111111111,
              "#46039f"
             ],
             [
              0.2222222222222222,
              "#7201a8"
             ],
             [
              0.3333333333333333,
              "#9c179e"
             ],
             [
              0.4444444444444444,
              "#bd3786"
             ],
             [
              0.5555555555555556,
              "#d8576b"
             ],
             [
              0.6666666666666666,
              "#ed7953"
             ],
             [
              0.7777777777777778,
              "#fb9f3a"
             ],
             [
              0.8888888888888888,
              "#fdca26"
             ],
             [
              1,
              "#f0f921"
             ]
            ],
            "type": "contour"
           }
          ],
          "contourcarpet": [
           {
            "colorbar": {
             "outlinewidth": 0,
             "ticks": ""
            },
            "type": "contourcarpet"
           }
          ],
          "heatmap": [
           {
            "colorbar": {
             "outlinewidth": 0,
             "ticks": ""
            },
            "colorscale": [
             [
              0,
              "#0d0887"
             ],
             [
              0.1111111111111111,
              "#46039f"
             ],
             [
              0.2222222222222222,
              "#7201a8"
             ],
             [
              0.3333333333333333,
              "#9c179e"
             ],
             [
              0.4444444444444444,
              "#bd3786"
             ],
             [
              0.5555555555555556,
              "#d8576b"
             ],
             [
              0.6666666666666666,
              "#ed7953"
             ],
             [
              0.7777777777777778,
              "#fb9f3a"
             ],
             [
              0.8888888888888888,
              "#fdca26"
             ],
             [
              1,
              "#f0f921"
             ]
            ],
            "type": "heatmap"
           }
          ],
          "heatmapgl": [
           {
            "colorbar": {
             "outlinewidth": 0,
             "ticks": ""
            },
            "colorscale": [
             [
              0,
              "#0d0887"
             ],
             [
              0.1111111111111111,
              "#46039f"
             ],
             [
              0.2222222222222222,
              "#7201a8"
             ],
             [
              0.3333333333333333,
              "#9c179e"
             ],
             [
              0.4444444444444444,
              "#bd3786"
             ],
             [
              0.5555555555555556,
              "#d8576b"
             ],
             [
              0.6666666666666666,
              "#ed7953"
             ],
             [
              0.7777777777777778,
              "#fb9f3a"
             ],
             [
              0.8888888888888888,
              "#fdca26"
             ],
             [
              1,
              "#f0f921"
             ]
            ],
            "type": "heatmapgl"
           }
          ],
          "histogram": [
           {
            "marker": {
             "pattern": {
              "fillmode": "overlay",
              "size": 10,
              "solidity": 0.2
             }
            },
            "type": "histogram"
           }
          ],
          "histogram2d": [
           {
            "colorbar": {
             "outlinewidth": 0,
             "ticks": ""
            },
            "colorscale": [
             [
              0,
              "#0d0887"
             ],
             [
              0.1111111111111111,
              "#46039f"
             ],
             [
              0.2222222222222222,
              "#7201a8"
             ],
             [
              0.3333333333333333,
              "#9c179e"
             ],
             [
              0.4444444444444444,
              "#bd3786"
             ],
             [
              0.5555555555555556,
              "#d8576b"
             ],
             [
              0.6666666666666666,
              "#ed7953"
             ],
             [
              0.7777777777777778,
              "#fb9f3a"
             ],
             [
              0.8888888888888888,
              "#fdca26"
             ],
             [
              1,
              "#f0f921"
             ]
            ],
            "type": "histogram2d"
           }
          ],
          "histogram2dcontour": [
           {
            "colorbar": {
             "outlinewidth": 0,
             "ticks": ""
            },
            "colorscale": [
             [
              0,
              "#0d0887"
             ],
             [
              0.1111111111111111,
              "#46039f"
             ],
             [
              0.2222222222222222,
              "#7201a8"
             ],
             [
              0.3333333333333333,
              "#9c179e"
             ],
             [
              0.4444444444444444,
              "#bd3786"
             ],
             [
              0.5555555555555556,
              "#d8576b"
             ],
             [
              0.6666666666666666,
              "#ed7953"
             ],
             [
              0.7777777777777778,
              "#fb9f3a"
             ],
             [
              0.8888888888888888,
              "#fdca26"
             ],
             [
              1,
              "#f0f921"
             ]
            ],
            "type": "histogram2dcontour"
           }
          ],
          "mesh3d": [
           {
            "colorbar": {
             "outlinewidth": 0,
             "ticks": ""
            },
            "type": "mesh3d"
           }
          ],
          "parcoords": [
           {
            "line": {
             "colorbar": {
              "outlinewidth": 0,
              "ticks": ""
             }
            },
            "type": "parcoords"
           }
          ],
          "pie": [
           {
            "automargin": true,
            "type": "pie"
           }
          ],
          "scatter": [
           {
            "marker": {
             "colorbar": {
              "outlinewidth": 0,
              "ticks": ""
             }
            },
            "type": "scatter"
           }
          ],
          "scatter3d": [
           {
            "line": {
             "colorbar": {
              "outlinewidth": 0,
              "ticks": ""
             }
            },
            "marker": {
             "colorbar": {
              "outlinewidth": 0,
              "ticks": ""
             }
            },
            "type": "scatter3d"
           }
          ],
          "scattercarpet": [
           {
            "marker": {
             "colorbar": {
              "outlinewidth": 0,
              "ticks": ""
             }
            },
            "type": "scattercarpet"
           }
          ],
          "scattergeo": [
           {
            "marker": {
             "colorbar": {
              "outlinewidth": 0,
              "ticks": ""
             }
            },
            "type": "scattergeo"
           }
          ],
          "scattergl": [
           {
            "marker": {
             "colorbar": {
              "outlinewidth": 0,
              "ticks": ""
             }
            },
            "type": "scattergl"
           }
          ],
          "scattermapbox": [
           {
            "marker": {
             "colorbar": {
              "outlinewidth": 0,
              "ticks": ""
             }
            },
            "type": "scattermapbox"
           }
          ],
          "scatterpolar": [
           {
            "marker": {
             "colorbar": {
              "outlinewidth": 0,
              "ticks": ""
             }
            },
            "type": "scatterpolar"
           }
          ],
          "scatterpolargl": [
           {
            "marker": {
             "colorbar": {
              "outlinewidth": 0,
              "ticks": ""
             }
            },
            "type": "scatterpolargl"
           }
          ],
          "scatterternary": [
           {
            "marker": {
             "colorbar": {
              "outlinewidth": 0,
              "ticks": ""
             }
            },
            "type": "scatterternary"
           }
          ],
          "surface": [
           {
            "colorbar": {
             "outlinewidth": 0,
             "ticks": ""
            },
            "colorscale": [
             [
              0,
              "#0d0887"
             ],
             [
              0.1111111111111111,
              "#46039f"
             ],
             [
              0.2222222222222222,
              "#7201a8"
             ],
             [
              0.3333333333333333,
              "#9c179e"
             ],
             [
              0.4444444444444444,
              "#bd3786"
             ],
             [
              0.5555555555555556,
              "#d8576b"
             ],
             [
              0.6666666666666666,
              "#ed7953"
             ],
             [
              0.7777777777777778,
              "#fb9f3a"
             ],
             [
              0.8888888888888888,
              "#fdca26"
             ],
             [
              1,
              "#f0f921"
             ]
            ],
            "type": "surface"
           }
          ],
          "table": [
           {
            "cells": {
             "fill": {
              "color": "#EBF0F8"
             },
             "line": {
              "color": "white"
             }
            },
            "header": {
             "fill": {
              "color": "#C8D4E3"
             },
             "line": {
              "color": "white"
             }
            },
            "type": "table"
           }
          ]
         },
         "layout": {
          "annotationdefaults": {
           "arrowcolor": "#2a3f5f",
           "arrowhead": 0,
           "arrowwidth": 1
          },
          "autotypenumbers": "strict",
          "coloraxis": {
           "colorbar": {
            "outlinewidth": 0,
            "ticks": ""
           }
          },
          "colorscale": {
           "diverging": [
            [
             0,
             "#8e0152"
            ],
            [
             0.1,
             "#c51b7d"
            ],
            [
             0.2,
             "#de77ae"
            ],
            [
             0.3,
             "#f1b6da"
            ],
            [
             0.4,
             "#fde0ef"
            ],
            [
             0.5,
             "#f7f7f7"
            ],
            [
             0.6,
             "#e6f5d0"
            ],
            [
             0.7,
             "#b8e186"
            ],
            [
             0.8,
             "#7fbc41"
            ],
            [
             0.9,
             "#4d9221"
            ],
            [
             1,
             "#276419"
            ]
           ],
           "sequential": [
            [
             0,
             "#0d0887"
            ],
            [
             0.1111111111111111,
             "#46039f"
            ],
            [
             0.2222222222222222,
             "#7201a8"
            ],
            [
             0.3333333333333333,
             "#9c179e"
            ],
            [
             0.4444444444444444,
             "#bd3786"
            ],
            [
             0.5555555555555556,
             "#d8576b"
            ],
            [
             0.6666666666666666,
             "#ed7953"
            ],
            [
             0.7777777777777778,
             "#fb9f3a"
            ],
            [
             0.8888888888888888,
             "#fdca26"
            ],
            [
             1,
             "#f0f921"
            ]
           ],
           "sequentialminus": [
            [
             0,
             "#0d0887"
            ],
            [
             0.1111111111111111,
             "#46039f"
            ],
            [
             0.2222222222222222,
             "#7201a8"
            ],
            [
             0.3333333333333333,
             "#9c179e"
            ],
            [
             0.4444444444444444,
             "#bd3786"
            ],
            [
             0.5555555555555556,
             "#d8576b"
            ],
            [
             0.6666666666666666,
             "#ed7953"
            ],
            [
             0.7777777777777778,
             "#fb9f3a"
            ],
            [
             0.8888888888888888,
             "#fdca26"
            ],
            [
             1,
             "#f0f921"
            ]
           ]
          },
          "colorway": [
           "#636efa",
           "#EF553B",
           "#00cc96",
           "#ab63fa",
           "#FFA15A",
           "#19d3f3",
           "#FF6692",
           "#B6E880",
           "#FF97FF",
           "#FECB52"
          ],
          "font": {
           "color": "#2a3f5f"
          },
          "geo": {
           "bgcolor": "white",
           "lakecolor": "white",
           "landcolor": "#E5ECF6",
           "showlakes": true,
           "showland": true,
           "subunitcolor": "white"
          },
          "hoverlabel": {
           "align": "left"
          },
          "hovermode": "closest",
          "mapbox": {
           "style": "light"
          },
          "paper_bgcolor": "white",
          "plot_bgcolor": "#E5ECF6",
          "polar": {
           "angularaxis": {
            "gridcolor": "white",
            "linecolor": "white",
            "ticks": ""
           },
           "bgcolor": "#E5ECF6",
           "radialaxis": {
            "gridcolor": "white",
            "linecolor": "white",
            "ticks": ""
           }
          },
          "scene": {
           "xaxis": {
            "backgroundcolor": "#E5ECF6",
            "gridcolor": "white",
            "gridwidth": 2,
            "linecolor": "white",
            "showbackground": true,
            "ticks": "",
            "zerolinecolor": "white"
           },
           "yaxis": {
            "backgroundcolor": "#E5ECF6",
            "gridcolor": "white",
            "gridwidth": 2,
            "linecolor": "white",
            "showbackground": true,
            "ticks": "",
            "zerolinecolor": "white"
           },
           "zaxis": {
            "backgroundcolor": "#E5ECF6",
            "gridcolor": "white",
            "gridwidth": 2,
            "linecolor": "white",
            "showbackground": true,
            "ticks": "",
            "zerolinecolor": "white"
           }
          },
          "shapedefaults": {
           "line": {
            "color": "#2a3f5f"
           }
          },
          "ternary": {
           "aaxis": {
            "gridcolor": "white",
            "linecolor": "white",
            "ticks": ""
           },
           "baxis": {
            "gridcolor": "white",
            "linecolor": "white",
            "ticks": ""
           },
           "bgcolor": "#E5ECF6",
           "caxis": {
            "gridcolor": "white",
            "linecolor": "white",
            "ticks": ""
           }
          },
          "title": {
           "x": 0.05
          },
          "xaxis": {
           "automargin": true,
           "gridcolor": "white",
           "linecolor": "white",
           "ticks": "",
           "title": {
            "standoff": 15
           },
           "zerolinecolor": "white",
           "zerolinewidth": 2
          },
          "yaxis": {
           "automargin": true,
           "gridcolor": "white",
           "linecolor": "white",
           "ticks": "",
           "title": {
            "standoff": 15
           },
           "zerolinecolor": "white",
           "zerolinewidth": 2
          }
         }
        },
        "title": {
         "text": "GANTT Chart"
        },
        "xaxis": {
         "range": [
          "1970-01-01T01:13:30",
          "1970-01-02T02:14:40"
         ],
         "title": {
          "font": {
           "color": "#7f7f7f",
           "family": "Courier New, monospace",
           "size": 18
          },
          "text": "Time"
         }
        },
        "yaxis": {
         "title": {
          "font": {
           "color": "#7f7f7f",
           "family": "Courier New, monospace",
           "size": 18
          },
          "text": "Activities"
         }
        }
       }
      },
      "text/html": [
       "<div>                            <div id=\"8b06900b-cb43-40ef-a462-abe246c6dc96\" class=\"plotly-graph-div\" style=\"height:525px; width:100%;\"></div>            <script type=\"text/javascript\">                require([\"plotly\"], function(Plotly) {                    window.PLOTLYENV=window.PLOTLYENV || {};                                    if (document.getElementById(\"8b06900b-cb43-40ef-a462-abe246c6dc96\")) {                    Plotly.newPlot(                        \"8b06900b-cb43-40ef-a462-abe246c6dc96\",                        [{\"connectgaps\":false,\"hoverinfo\":\"y+name\",\"line\":{\"color\":\"rgb(161,198,178)\",\"width\":10},\"mode\":\"lines\",\"name\":\"loading:barge_1\",\"x\":[\"1970-01-01T01:46:50\",\"1970-01-01T01:46:50\",\"1970-01-01T02:28:30\",\"1970-01-01T02:28:30\",\"1970-01-01T02:28:30\",\"1970-01-01T04:59:46\",\"1970-01-01T04:59:46\",\"1970-01-01T05:41:26\",\"1970-01-01T05:41:26\",\"1970-01-01T05:41:26\",\"1970-01-01T08:12:42\",\"1970-01-01T08:12:42\",\"1970-01-01T08:54:22\",\"1970-01-01T08:54:22\",\"1970-01-01T08:54:22\",\"1970-01-01T11:25:38\",\"1970-01-01T11:25:38\",\"1970-01-01T12:07:18\",\"1970-01-01T12:07:18\",\"1970-01-01T12:07:18\",\"1970-01-01T14:38:34\",\"1970-01-01T14:38:34\",\"1970-01-01T15:20:14\",\"1970-01-01T15:20:14\",\"1970-01-01T15:20:14\",\"1970-01-01T17:51:30\",\"1970-01-01T17:51:30\",\"1970-01-01T18:33:10\",\"1970-01-01T18:33:10\",\"1970-01-01T18:33:10\",\"1970-01-01T21:04:26\",\"1970-01-01T21:04:26\",\"1970-01-01T21:46:06\",\"1970-01-01T21:46:06\",\"1970-01-01T21:46:06\",\"1970-01-02T00:17:22\",\"1970-01-02T00:17:22\",\"1970-01-02T00:59:02\",\"1970-01-02T00:59:02\",\"1970-01-02T00:59:02\",\"1970-01-01T01:46:50\",\"1970-01-01T01:46:50\",\"1970-01-01T02:28:30\",\"1970-01-01T02:28:30\",\"1970-01-01T02:28:30\",\"1970-01-01T04:59:46\",\"1970-01-01T04:59:46\",\"1970-01-01T05:41:26\",\"1970-01-01T05:41:26\",\"1970-01-01T05:41:26\",\"1970-01-01T08:12:42\",\"1970-01-01T08:12:42\",\"1970-01-01T08:54:22\",\"1970-01-01T08:54:22\",\"1970-01-01T08:54:22\",\"1970-01-01T11:25:38\",\"1970-01-01T11:25:38\",\"1970-01-01T12:07:18\",\"1970-01-01T12:07:18\",\"1970-01-01T12:07:18\",\"1970-01-01T14:38:34\",\"1970-01-01T14:38:34\",\"1970-01-01T15:20:14\",\"1970-01-01T15:20:14\",\"1970-01-01T15:20:14\",\"1970-01-01T17:51:30\",\"1970-01-01T17:51:30\",\"1970-01-01T18:33:10\",\"1970-01-01T18:33:10\",\"1970-01-01T18:33:10\",\"1970-01-01T21:04:26\",\"1970-01-01T21:04:26\",\"1970-01-01T21:46:06\",\"1970-01-01T21:46:06\",\"1970-01-01T21:46:06\",\"1970-01-02T00:17:22\",\"1970-01-02T00:17:22\",\"1970-01-02T00:59:02\",\"1970-01-02T00:59:02\",\"1970-01-02T00:59:02\"],\"y\":[\"from_site\",\"from_site\",\"from_site\",\"from_site\",null,\"from_site\",\"from_site\",\"from_site\",\"from_site\",null,\"from_site\",\"from_site\",\"from_site\",\"from_site\",null,\"from_site\",\"from_site\",\"from_site\",\"from_site\",null,\"from_site\",\"from_site\",\"from_site\",\"from_site\",null,\"from_site\",\"from_site\",\"from_site\",\"from_site\",null,\"from_site\",\"from_site\",\"from_site\",\"from_site\",null,\"from_site\",\"from_site\",\"from_site\",\"from_site\",null,\"cutter\",\"cutter\",\"cutter\",\"cutter\",null,\"cutter\",\"cutter\",\"cutter\",\"cutter\",null,\"cutter\",\"cutter\",\"cutter\",\"cutter\",null,\"cutter\",\"cutter\",\"cutter\",\"cutter\",null,\"cutter\",\"cutter\",\"cutter\",\"cutter\",null,\"cutter\",\"cutter\",\"cutter\",\"cutter\",null,\"cutter\",\"cutter\",\"cutter\",\"cutter\",null,\"cutter\",\"cutter\",\"cutter\",\"cutter\",null],\"type\":\"scatter\"},{\"connectgaps\":false,\"hoverinfo\":\"y+name\",\"line\":{\"color\":\"rgb(189,226,206)\",\"width\":10},\"mode\":\"lines\",\"name\":\"loading:barge_2\",\"x\":[\"1970-01-01T02:28:30\",\"1970-01-01T02:28:30\",\"1970-01-01T03:01:50\",\"1970-01-01T03:01:50\",\"1970-01-01T03:01:50\",\"1970-01-01T05:41:26\",\"1970-01-01T05:41:26\",\"1970-01-01T06:14:46\",\"1970-01-01T06:14:46\",\"1970-01-01T06:14:46\",\"1970-01-01T08:54:22\",\"1970-01-01T08:54:22\",\"1970-01-01T09:27:42\",\"1970-01-01T09:27:42\",\"1970-01-01T09:27:42\",\"1970-01-01T12:07:18\",\"1970-01-01T12:07:18\",\"1970-01-01T12:40:38\",\"1970-01-01T12:40:38\",\"1970-01-01T12:40:38\",\"1970-01-01T15:20:14\",\"1970-01-01T15:20:14\",\"1970-01-01T15:53:34\",\"1970-01-01T15:53:34\",\"1970-01-01T15:53:34\",\"1970-01-01T18:33:10\",\"1970-01-01T18:33:10\",\"1970-01-01T19:06:30\",\"1970-01-01T19:06:30\",\"1970-01-01T19:06:30\",\"1970-01-01T21:46:06\",\"1970-01-01T21:46:06\",\"1970-01-01T22:19:26\",\"1970-01-01T22:19:26\",\"1970-01-01T22:19:26\",\"1970-01-01T02:28:30\",\"1970-01-01T02:28:30\",\"1970-01-01T03:01:50\",\"1970-01-01T03:01:50\",\"1970-01-01T03:01:50\",\"1970-01-01T05:41:26\",\"1970-01-01T05:41:26\",\"1970-01-01T06:14:46\",\"1970-01-01T06:14:46\",\"1970-01-01T06:14:46\",\"1970-01-01T08:54:22\",\"1970-01-01T08:54:22\",\"1970-01-01T09:27:42\",\"1970-01-01T09:27:42\",\"1970-01-01T09:27:42\",\"1970-01-01T12:07:18\",\"1970-01-01T12:07:18\",\"1970-01-01T12:40:38\",\"1970-01-01T12:40:38\",\"1970-01-01T12:40:38\",\"1970-01-01T15:20:14\",\"1970-01-01T15:20:14\",\"1970-01-01T15:53:34\",\"1970-01-01T15:53:34\",\"1970-01-01T15:53:34\",\"1970-01-01T18:33:10\",\"1970-01-01T18:33:10\",\"1970-01-01T19:06:30\",\"1970-01-01T19:06:30\",\"1970-01-01T19:06:30\",\"1970-01-01T21:46:06\",\"1970-01-01T21:46:06\",\"1970-01-01T22:19:26\",\"1970-01-01T22:19:26\",\"1970-01-01T22:19:26\"],\"y\":[\"from_site\",\"from_site\",\"from_site\",\"from_site\",null,\"from_site\",\"from_site\",\"from_site\",\"from_site\",null,\"from_site\",\"from_site\",\"from_site\",\"from_site\",null,\"from_site\",\"from_site\",\"from_site\",\"from_site\",null,\"from_site\",\"from_site\",\"from_site\",\"from_site\",null,\"from_site\",\"from_site\",\"from_site\",\"from_site\",null,\"from_site\",\"from_site\",\"from_site\",\"from_site\",null,\"cutter\",\"cutter\",\"cutter\",\"cutter\",null,\"cutter\",\"cutter\",\"cutter\",\"cutter\",null,\"cutter\",\"cutter\",\"cutter\",\"cutter\",null,\"cutter\",\"cutter\",\"cutter\",\"cutter\",null,\"cutter\",\"cutter\",\"cutter\",\"cutter\",null,\"cutter\",\"cutter\",\"cutter\",\"cutter\",null,\"cutter\",\"cutter\",\"cutter\",\"cutter\",null],\"type\":\"scatter\"},{\"connectgaps\":false,\"hoverinfo\":\"y+name\",\"line\":{\"color\":\"rgb(217,254,234)\",\"width\":10},\"mode\":\"lines\",\"name\":\"loading:barge_0\",\"x\":[\"1970-01-01T01:13:30\",\"1970-01-01T01:13:30\",\"1970-01-01T01:46:50\",\"1970-01-01T01:46:50\",\"1970-01-01T01:46:50\",\"1970-01-01T04:13:50\",\"1970-01-01T04:13:50\",\"1970-01-01T04:47:10\",\"1970-01-01T04:47:10\",\"1970-01-01T04:47:10\",\"1970-01-01T07:14:10\",\"1970-01-01T07:14:10\",\"1970-01-01T07:47:30\",\"1970-01-01T07:47:30\",\"1970-01-01T07:47:30\",\"1970-01-01T10:14:30\",\"1970-01-01T10:14:30\",\"1970-01-01T10:47:50\",\"1970-01-01T10:47:50\",\"1970-01-01T10:47:50\",\"1970-01-01T13:14:50\",\"1970-01-01T13:14:50\",\"1970-01-01T13:48:10\",\"1970-01-01T13:48:10\",\"1970-01-01T13:48:10\",\"1970-01-01T16:15:10\",\"1970-01-01T16:15:10\",\"1970-01-01T16:48:30\",\"1970-01-01T16:48:30\",\"1970-01-01T16:48:30\",\"1970-01-01T19:15:30\",\"1970-01-01T19:15:30\",\"1970-01-01T19:48:50\",\"1970-01-01T19:48:50\",\"1970-01-01T19:48:50\",\"1970-01-01T22:19:26\",\"1970-01-01T22:19:26\",\"1970-01-01T22:52:46\",\"1970-01-01T22:52:46\",\"1970-01-01T22:52:46\",\"1970-01-01T01:13:30\",\"1970-01-01T01:13:30\",\"1970-01-01T01:46:50\",\"1970-01-01T01:46:50\",\"1970-01-01T01:46:50\",\"1970-01-01T04:13:50\",\"1970-01-01T04:13:50\",\"1970-01-01T04:47:10\",\"1970-01-01T04:47:10\",\"1970-01-01T04:47:10\",\"1970-01-01T07:14:10\",\"1970-01-01T07:14:10\",\"1970-01-01T07:47:30\",\"1970-01-01T07:47:30\",\"1970-01-01T07:47:30\",\"1970-01-01T10:14:30\",\"1970-01-01T10:14:30\",\"1970-01-01T10:47:50\",\"1970-01-01T10:47:50\",\"1970-01-01T10:47:50\",\"1970-01-01T13:14:50\",\"1970-01-01T13:14:50\",\"1970-01-01T13:48:10\",\"1970-01-01T13:48:10\",\"1970-01-01T13:48:10\",\"1970-01-01T16:15:10\",\"1970-01-01T16:15:10\",\"1970-01-01T16:48:30\",\"1970-01-01T16:48:30\",\"1970-01-01T16:48:30\",\"1970-01-01T19:15:30\",\"1970-01-01T19:15:30\",\"1970-01-01T19:48:50\",\"1970-01-01T19:48:50\",\"1970-01-01T19:48:50\",\"1970-01-01T22:19:26\",\"1970-01-01T22:19:26\",\"1970-01-01T22:52:46\",\"1970-01-01T22:52:46\",\"1970-01-01T22:52:46\"],\"y\":[\"from_site\",\"from_site\",\"from_site\",\"from_site\",null,\"from_site\",\"from_site\",\"from_site\",\"from_site\",null,\"from_site\",\"from_site\",\"from_site\",\"from_site\",null,\"from_site\",\"from_site\",\"from_site\",\"from_site\",null,\"from_site\",\"from_site\",\"from_site\",\"from_site\",null,\"from_site\",\"from_site\",\"from_site\",\"from_site\",null,\"from_site\",\"from_site\",\"from_site\",\"from_site\",null,\"from_site\",\"from_site\",\"from_site\",\"from_site\",null,\"cutter\",\"cutter\",\"cutter\",\"cutter\",null,\"cutter\",\"cutter\",\"cutter\",\"cutter\",null,\"cutter\",\"cutter\",\"cutter\",\"cutter\",null,\"cutter\",\"cutter\",\"cutter\",\"cutter\",null,\"cutter\",\"cutter\",\"cutter\",\"cutter\",null,\"cutter\",\"cutter\",\"cutter\",\"cutter\",null,\"cutter\",\"cutter\",\"cutter\",\"cutter\",null,\"cutter\",\"cutter\",\"cutter\",\"cutter\",null],\"type\":\"scatter\"},{\"connectgaps\":false,\"hoverinfo\":\"y+name\",\"line\":{\"color\":\"rgb(245,26,6)\",\"width\":10},\"mode\":\"lines\",\"name\":\"unloading:barge_1\",\"x\":[\"1970-01-01T03:06:19\",\"1970-01-01T03:06:19\",\"1970-01-01T03:44:08\",\"1970-01-01T03:44:08\",\"1970-01-01T03:44:08\",\"1970-01-01T06:19:15\",\"1970-01-01T06:19:15\",\"1970-01-01T06:57:04\",\"1970-01-01T06:57:04\",\"1970-01-01T06:57:04\",\"1970-01-01T09:32:11\",\"1970-01-01T09:32:11\",\"1970-01-01T10:10:00\",\"1970-01-01T10:10:00\",\"1970-01-01T10:10:00\",\"1970-01-01T12:45:07\",\"1970-01-01T12:45:07\",\"1970-01-01T13:22:56\",\"1970-01-01T13:22:56\",\"1970-01-01T13:22:56\",\"1970-01-01T15:58:03\",\"1970-01-01T15:58:03\",\"1970-01-01T16:35:52\",\"1970-01-01T16:35:52\",\"1970-01-01T16:35:52\",\"1970-01-01T19:10:59\",\"1970-01-01T19:10:59\",\"1970-01-01T19:48:48\",\"1970-01-01T19:48:48\",\"1970-01-01T19:48:48\",\"1970-01-01T22:23:55\",\"1970-01-01T22:23:55\",\"1970-01-01T23:01:44\",\"1970-01-01T23:01:44\",\"1970-01-01T23:01:44\",\"1970-01-02T01:36:51\",\"1970-01-02T01:36:51\",\"1970-01-02T02:14:40\",\"1970-01-02T02:14:40\",\"1970-01-02T02:14:40\"],\"y\":[\"to_site\",\"to_site\",\"to_site\",\"to_site\",null,\"to_site\",\"to_site\",\"to_site\",\"to_site\",null,\"to_site\",\"to_site\",\"to_site\",\"to_site\",null,\"to_site\",\"to_site\",\"to_site\",\"to_site\",null,\"to_site\",\"to_site\",\"to_site\",\"to_site\",null,\"to_site\",\"to_site\",\"to_site\",\"to_site\",null,\"to_site\",\"to_site\",\"to_site\",\"to_site\",null,\"to_site\",\"to_site\",\"to_site\",\"to_site\",null],\"type\":\"scatter\"},{\"connectgaps\":false,\"hoverinfo\":\"y+name\",\"line\":{\"color\":\"rgb(17,54,34)\",\"width\":10},\"mode\":\"lines\",\"name\":\"unloading:barge_2\",\"x\":[\"1970-01-01T03:40:42\",\"1970-01-01T03:40:42\",\"1970-01-01T04:19:34\",\"1970-01-01T04:19:34\",\"1970-01-01T04:19:34\",\"1970-01-01T06:53:38\",\"1970-01-01T06:53:38\",\"1970-01-01T07:32:30\",\"1970-01-01T07:32:30\",\"1970-01-01T07:32:30\",\"1970-01-01T10:06:34\",\"1970-01-01T10:06:34\",\"1970-01-01T10:45:26\",\"1970-01-01T10:45:26\",\"1970-01-01T10:45:26\",\"1970-01-01T13:19:30\",\"1970-01-01T13:19:30\",\"1970-01-01T13:58:22\",\"1970-01-01T13:58:22\",\"1970-01-01T13:58:22\",\"1970-01-01T16:32:26\",\"1970-01-01T16:32:26\",\"1970-01-01T17:11:18\",\"1970-01-01T17:11:18\",\"1970-01-01T17:11:18\",\"1970-01-01T19:45:22\",\"1970-01-01T19:45:22\",\"1970-01-01T20:24:14\",\"1970-01-01T20:24:14\",\"1970-01-01T20:24:14\",\"1970-01-01T22:58:18\",\"1970-01-01T22:58:18\",\"1970-01-01T23:37:10\",\"1970-01-01T23:37:10\",\"1970-01-01T23:37:10\"],\"y\":[\"to_site\",\"to_site\",\"to_site\",\"to_site\",null,\"to_site\",\"to_site\",\"to_site\",\"to_site\",null,\"to_site\",\"to_site\",\"to_site\",\"to_site\",null,\"to_site\",\"to_site\",\"to_site\",\"to_site\",null,\"to_site\",\"to_site\",\"to_site\",\"to_site\",null,\"to_site\",\"to_site\",\"to_site\",\"to_site\",null,\"to_site\",\"to_site\",\"to_site\",\"to_site\",null],\"type\":\"scatter\"},{\"connectgaps\":false,\"hoverinfo\":\"y+name\",\"line\":{\"color\":\"rgb(45,82,62)\",\"width\":10},\"mode\":\"lines\",\"name\":\"unloading:barge_0\",\"x\":[\"1970-01-01T02:23:35\",\"1970-01-01T02:23:35\",\"1970-01-01T03:00:20\",\"1970-01-01T03:00:20\",\"1970-01-01T03:00:20\",\"1970-01-01T05:23:55\",\"1970-01-01T05:23:55\",\"1970-01-01T06:00:40\",\"1970-01-01T06:00:40\",\"1970-01-01T06:00:40\",\"1970-01-01T08:24:15\",\"1970-01-01T08:24:15\",\"1970-01-01T09:01:00\",\"1970-01-01T09:01:00\",\"1970-01-01T09:01:00\",\"1970-01-01T11:24:35\",\"1970-01-01T11:24:35\",\"1970-01-01T12:01:20\",\"1970-01-01T12:01:20\",\"1970-01-01T12:01:20\",\"1970-01-01T14:24:55\",\"1970-01-01T14:24:55\",\"1970-01-01T15:01:40\",\"1970-01-01T15:01:40\",\"1970-01-01T15:01:40\",\"1970-01-01T17:25:15\",\"1970-01-01T17:25:15\",\"1970-01-01T18:02:00\",\"1970-01-01T18:02:00\",\"1970-01-01T18:02:00\",\"1970-01-01T20:25:35\",\"1970-01-01T20:25:35\",\"1970-01-01T21:02:20\",\"1970-01-01T21:02:20\",\"1970-01-01T21:02:20\",\"1970-01-01T23:29:31\",\"1970-01-01T23:29:31\",\"1970-01-02T00:06:16\",\"1970-01-02T00:06:16\",\"1970-01-02T00:06:16\"],\"y\":[\"to_site\",\"to_site\",\"to_site\",\"to_site\",null,\"to_site\",\"to_site\",\"to_site\",\"to_site\",null,\"to_site\",\"to_site\",\"to_site\",\"to_site\",null,\"to_site\",\"to_site\",\"to_site\",\"to_site\",null,\"to_site\",\"to_site\",\"to_site\",\"to_site\",null,\"to_site\",\"to_site\",\"to_site\",\"to_site\",null,\"to_site\",\"to_site\",\"to_site\",\"to_site\",null,\"to_site\",\"to_site\",\"to_site\",\"to_site\",null],\"type\":\"scatter\"},{\"connectgaps\":false,\"hoverinfo\":\"y+name\",\"line\":{\"color\":\"rgb(73,110,90)\",\"width\":10},\"mode\":\"lines\",\"name\":\"loading:barge_1\",\"x\":[\"1970-01-01T01:46:50\",\"1970-01-01T01:46:50\",\"1970-01-01T02:28:30\",\"1970-01-01T02:28:30\",\"1970-01-01T02:28:30\",\"1970-01-01T04:59:46\",\"1970-01-01T04:59:46\",\"1970-01-01T05:41:26\",\"1970-01-01T05:41:26\",\"1970-01-01T05:41:26\",\"1970-01-01T08:12:42\",\"1970-01-01T08:12:42\",\"1970-01-01T08:54:22\",\"1970-01-01T08:54:22\",\"1970-01-01T08:54:22\",\"1970-01-01T11:25:38\",\"1970-01-01T11:25:38\",\"1970-01-01T12:07:18\",\"1970-01-01T12:07:18\",\"1970-01-01T12:07:18\",\"1970-01-01T14:38:34\",\"1970-01-01T14:38:34\",\"1970-01-01T15:20:14\",\"1970-01-01T15:20:14\",\"1970-01-01T15:20:14\",\"1970-01-01T17:51:30\",\"1970-01-01T17:51:30\",\"1970-01-01T18:33:10\",\"1970-01-01T18:33:10\",\"1970-01-01T18:33:10\",\"1970-01-01T21:04:26\",\"1970-01-01T21:04:26\",\"1970-01-01T21:46:06\",\"1970-01-01T21:46:06\",\"1970-01-01T21:46:06\",\"1970-01-02T00:17:22\",\"1970-01-02T00:17:22\",\"1970-01-02T00:59:02\",\"1970-01-02T00:59:02\",\"1970-01-02T00:59:02\",\"1970-01-01T01:46:50\",\"1970-01-01T01:46:50\",\"1970-01-01T02:28:30\",\"1970-01-01T02:28:30\",\"1970-01-01T02:28:30\",\"1970-01-01T04:59:46\",\"1970-01-01T04:59:46\",\"1970-01-01T05:41:26\",\"1970-01-01T05:41:26\",\"1970-01-01T05:41:26\",\"1970-01-01T08:12:42\",\"1970-01-01T08:12:42\",\"1970-01-01T08:54:22\",\"1970-01-01T08:54:22\",\"1970-01-01T08:54:22\",\"1970-01-01T11:25:38\",\"1970-01-01T11:25:38\",\"1970-01-01T12:07:18\",\"1970-01-01T12:07:18\",\"1970-01-01T12:07:18\",\"1970-01-01T14:38:34\",\"1970-01-01T14:38:34\",\"1970-01-01T15:20:14\",\"1970-01-01T15:20:14\",\"1970-01-01T15:20:14\",\"1970-01-01T17:51:30\",\"1970-01-01T17:51:30\",\"1970-01-01T18:33:10\",\"1970-01-01T18:33:10\",\"1970-01-01T18:33:10\",\"1970-01-01T21:04:26\",\"1970-01-01T21:04:26\",\"1970-01-01T21:46:06\",\"1970-01-01T21:46:06\",\"1970-01-01T21:46:06\",\"1970-01-02T00:17:22\",\"1970-01-02T00:17:22\",\"1970-01-02T00:59:02\",\"1970-01-02T00:59:02\",\"1970-01-02T00:59:02\"],\"y\":[\"from_site\",\"from_site\",\"from_site\",\"from_site\",null,\"from_site\",\"from_site\",\"from_site\",\"from_site\",null,\"from_site\",\"from_site\",\"from_site\",\"from_site\",null,\"from_site\",\"from_site\",\"from_site\",\"from_site\",null,\"from_site\",\"from_site\",\"from_site\",\"from_site\",null,\"from_site\",\"from_site\",\"from_site\",\"from_site\",null,\"from_site\",\"from_site\",\"from_site\",\"from_site\",null,\"from_site\",\"from_site\",\"from_site\",\"from_site\",null,\"cutter\",\"cutter\",\"cutter\",\"cutter\",null,\"cutter\",\"cutter\",\"cutter\",\"cutter\",null,\"cutter\",\"cutter\",\"cutter\",\"cutter\",null,\"cutter\",\"cutter\",\"cutter\",\"cutter\",null,\"cutter\",\"cutter\",\"cutter\",\"cutter\",null,\"cutter\",\"cutter\",\"cutter\",\"cutter\",null,\"cutter\",\"cutter\",\"cutter\",\"cutter\",null,\"cutter\",\"cutter\",\"cutter\",\"cutter\",null],\"type\":\"scatter\"},{\"connectgaps\":false,\"hoverinfo\":\"y+name\",\"line\":{\"color\":\"rgb(101,138,118)\",\"width\":10},\"mode\":\"lines\",\"name\":\"loading:barge_2\",\"x\":[\"1970-01-01T02:28:30\",\"1970-01-01T02:28:30\",\"1970-01-01T03:01:50\",\"1970-01-01T03:01:50\",\"1970-01-01T03:01:50\",\"1970-01-01T05:41:26\",\"1970-01-01T05:41:26\",\"1970-01-01T06:14:46\",\"1970-01-01T06:14:46\",\"1970-01-01T06:14:46\",\"1970-01-01T08:54:22\",\"1970-01-01T08:54:22\",\"1970-01-01T09:27:42\",\"1970-01-01T09:27:42\",\"1970-01-01T09:27:42\",\"1970-01-01T12:07:18\",\"1970-01-01T12:07:18\",\"1970-01-01T12:40:38\",\"1970-01-01T12:40:38\",\"1970-01-01T12:40:38\",\"1970-01-01T15:20:14\",\"1970-01-01T15:20:14\",\"1970-01-01T15:53:34\",\"1970-01-01T15:53:34\",\"1970-01-01T15:53:34\",\"1970-01-01T18:33:10\",\"1970-01-01T18:33:10\",\"1970-01-01T19:06:30\",\"1970-01-01T19:06:30\",\"1970-01-01T19:06:30\",\"1970-01-01T21:46:06\",\"1970-01-01T21:46:06\",\"1970-01-01T22:19:26\",\"1970-01-01T22:19:26\",\"1970-01-01T22:19:26\",\"1970-01-01T02:28:30\",\"1970-01-01T02:28:30\",\"1970-01-01T03:01:50\",\"1970-01-01T03:01:50\",\"1970-01-01T03:01:50\",\"1970-01-01T05:41:26\",\"1970-01-01T05:41:26\",\"1970-01-01T06:14:46\",\"1970-01-01T06:14:46\",\"1970-01-01T06:14:46\",\"1970-01-01T08:54:22\",\"1970-01-01T08:54:22\",\"1970-01-01T09:27:42\",\"1970-01-01T09:27:42\",\"1970-01-01T09:27:42\",\"1970-01-01T12:07:18\",\"1970-01-01T12:07:18\",\"1970-01-01T12:40:38\",\"1970-01-01T12:40:38\",\"1970-01-01T12:40:38\",\"1970-01-01T15:20:14\",\"1970-01-01T15:20:14\",\"1970-01-01T15:53:34\",\"1970-01-01T15:53:34\",\"1970-01-01T15:53:34\",\"1970-01-01T18:33:10\",\"1970-01-01T18:33:10\",\"1970-01-01T19:06:30\",\"1970-01-01T19:06:30\",\"1970-01-01T19:06:30\",\"1970-01-01T21:46:06\",\"1970-01-01T21:46:06\",\"1970-01-01T22:19:26\",\"1970-01-01T22:19:26\",\"1970-01-01T22:19:26\"],\"y\":[\"from_site\",\"from_site\",\"from_site\",\"from_site\",null,\"from_site\",\"from_site\",\"from_site\",\"from_site\",null,\"from_site\",\"from_site\",\"from_site\",\"from_site\",null,\"from_site\",\"from_site\",\"from_site\",\"from_site\",null,\"from_site\",\"from_site\",\"from_site\",\"from_site\",null,\"from_site\",\"from_site\",\"from_site\",\"from_site\",null,\"from_site\",\"from_site\",\"from_site\",\"from_site\",null,\"cutter\",\"cutter\",\"cutter\",\"cutter\",null,\"cutter\",\"cutter\",\"cutter\",\"cutter\",null,\"cutter\",\"cutter\",\"cutter\",\"cutter\",null,\"cutter\",\"cutter\",\"cutter\",\"cutter\",null,\"cutter\",\"cutter\",\"cutter\",\"cutter\",null,\"cutter\",\"cutter\",\"cutter\",\"cutter\",null,\"cutter\",\"cutter\",\"cutter\",\"cutter\",null],\"type\":\"scatter\"},{\"connectgaps\":false,\"hoverinfo\":\"y+name\",\"line\":{\"color\":\"rgb(129,166,146)\",\"width\":10},\"mode\":\"lines\",\"name\":\"loading:barge_0\",\"x\":[\"1970-01-01T01:13:30\",\"1970-01-01T01:13:30\",\"1970-01-01T01:46:50\",\"1970-01-01T01:46:50\",\"1970-01-01T01:46:50\",\"1970-01-01T04:13:50\",\"1970-01-01T04:13:50\",\"1970-01-01T04:47:10\",\"1970-01-01T04:47:10\",\"1970-01-01T04:47:10\",\"1970-01-01T07:14:10\",\"1970-01-01T07:14:10\",\"1970-01-01T07:47:30\",\"1970-01-01T07:47:30\",\"1970-01-01T07:47:30\",\"1970-01-01T10:14:30\",\"1970-01-01T10:14:30\",\"1970-01-01T10:47:50\",\"1970-01-01T10:47:50\",\"1970-01-01T10:47:50\",\"1970-01-01T13:14:50\",\"1970-01-01T13:14:50\",\"1970-01-01T13:48:10\",\"1970-01-01T13:48:10\",\"1970-01-01T13:48:10\",\"1970-01-01T16:15:10\",\"1970-01-01T16:15:10\",\"1970-01-01T16:48:30\",\"1970-01-01T16:48:30\",\"1970-01-01T16:48:30\",\"1970-01-01T19:15:30\",\"1970-01-01T19:15:30\",\"1970-01-01T19:48:50\",\"1970-01-01T19:48:50\",\"1970-01-01T19:48:50\",\"1970-01-01T22:19:26\",\"1970-01-01T22:19:26\",\"1970-01-01T22:52:46\",\"1970-01-01T22:52:46\",\"1970-01-01T22:52:46\",\"1970-01-01T01:13:30\",\"1970-01-01T01:13:30\",\"1970-01-01T01:46:50\",\"1970-01-01T01:46:50\",\"1970-01-01T01:46:50\",\"1970-01-01T04:13:50\",\"1970-01-01T04:13:50\",\"1970-01-01T04:47:10\",\"1970-01-01T04:47:10\",\"1970-01-01T04:47:10\",\"1970-01-01T07:14:10\",\"1970-01-01T07:14:10\",\"1970-01-01T07:47:30\",\"1970-01-01T07:47:30\",\"1970-01-01T07:47:30\",\"1970-01-01T10:14:30\",\"1970-01-01T10:14:30\",\"1970-01-01T10:47:50\",\"1970-01-01T10:47:50\",\"1970-01-01T10:47:50\",\"1970-01-01T13:14:50\",\"1970-01-01T13:14:50\",\"1970-01-01T13:48:10\",\"1970-01-01T13:48:10\",\"1970-01-01T13:48:10\",\"1970-01-01T16:15:10\",\"1970-01-01T16:15:10\",\"1970-01-01T16:48:30\",\"1970-01-01T16:48:30\",\"1970-01-01T16:48:30\",\"1970-01-01T19:15:30\",\"1970-01-01T19:15:30\",\"1970-01-01T19:48:50\",\"1970-01-01T19:48:50\",\"1970-01-01T19:48:50\",\"1970-01-01T22:19:26\",\"1970-01-01T22:19:26\",\"1970-01-01T22:52:46\",\"1970-01-01T22:52:46\",\"1970-01-01T22:52:46\"],\"y\":[\"from_site\",\"from_site\",\"from_site\",\"from_site\",null,\"from_site\",\"from_site\",\"from_site\",\"from_site\",null,\"from_site\",\"from_site\",\"from_site\",\"from_site\",null,\"from_site\",\"from_site\",\"from_site\",\"from_site\",null,\"from_site\",\"from_site\",\"from_site\",\"from_site\",null,\"from_site\",\"from_site\",\"from_site\",\"from_site\",null,\"from_site\",\"from_site\",\"from_site\",\"from_site\",null,\"from_site\",\"from_site\",\"from_site\",\"from_site\",null,\"cutter\",\"cutter\",\"cutter\",\"cutter\",null,\"cutter\",\"cutter\",\"cutter\",\"cutter\",null,\"cutter\",\"cutter\",\"cutter\",\"cutter\",null,\"cutter\",\"cutter\",\"cutter\",\"cutter\",null,\"cutter\",\"cutter\",\"cutter\",\"cutter\",null,\"cutter\",\"cutter\",\"cutter\",\"cutter\",null,\"cutter\",\"cutter\",\"cutter\",\"cutter\",null,\"cutter\",\"cutter\",\"cutter\",\"cutter\",null],\"type\":\"scatter\"}],                        {\"hovermode\":\"closest\",\"legend\":{\"orientation\":\"h\",\"x\":0,\"y\":-0.2},\"template\":{\"data\":{\"barpolar\":[{\"marker\":{\"line\":{\"color\":\"#E5ECF6\",\"width\":0.5},\"pattern\":{\"fillmode\":\"overlay\",\"size\":10,\"solidity\":0.2}},\"type\":\"barpolar\"}],\"bar\":[{\"error_x\":{\"color\":\"#2a3f5f\"},\"error_y\":{\"color\":\"#2a3f5f\"},\"marker\":{\"line\":{\"color\":\"#E5ECF6\",\"width\":0.5},\"pattern\":{\"fillmode\":\"overlay\",\"size\":10,\"solidity\":0.2}},\"type\":\"bar\"}],\"carpet\":[{\"aaxis\":{\"endlinecolor\":\"#2a3f5f\",\"gridcolor\":\"white\",\"linecolor\":\"white\",\"minorgridcolor\":\"white\",\"startlinecolor\":\"#2a3f5f\"},\"baxis\":{\"endlinecolor\":\"#2a3f5f\",\"gridcolor\":\"white\",\"linecolor\":\"white\",\"minorgridcolor\":\"white\",\"startlinecolor\":\"#2a3f5f\"},\"type\":\"carpet\"}],\"choropleth\":[{\"colorbar\":{\"outlinewidth\":0,\"ticks\":\"\"},\"type\":\"choropleth\"}],\"contourcarpet\":[{\"colorbar\":{\"outlinewidth\":0,\"ticks\":\"\"},\"type\":\"contourcarpet\"}],\"contour\":[{\"colorbar\":{\"outlinewidth\":0,\"ticks\":\"\"},\"colorscale\":[[0.0,\"#0d0887\"],[0.1111111111111111,\"#46039f\"],[0.2222222222222222,\"#7201a8\"],[0.3333333333333333,\"#9c179e\"],[0.4444444444444444,\"#bd3786\"],[0.5555555555555556,\"#d8576b\"],[0.6666666666666666,\"#ed7953\"],[0.7777777777777778,\"#fb9f3a\"],[0.8888888888888888,\"#fdca26\"],[1.0,\"#f0f921\"]],\"type\":\"contour\"}],\"heatmapgl\":[{\"colorbar\":{\"outlinewidth\":0,\"ticks\":\"\"},\"colorscale\":[[0.0,\"#0d0887\"],[0.1111111111111111,\"#46039f\"],[0.2222222222222222,\"#7201a8\"],[0.3333333333333333,\"#9c179e\"],[0.4444444444444444,\"#bd3786\"],[0.5555555555555556,\"#d8576b\"],[0.6666666666666666,\"#ed7953\"],[0.7777777777777778,\"#fb9f3a\"],[0.8888888888888888,\"#fdca26\"],[1.0,\"#f0f921\"]],\"type\":\"heatmapgl\"}],\"heatmap\":[{\"colorbar\":{\"outlinewidth\":0,\"ticks\":\"\"},\"colorscale\":[[0.0,\"#0d0887\"],[0.1111111111111111,\"#46039f\"],[0.2222222222222222,\"#7201a8\"],[0.3333333333333333,\"#9c179e\"],[0.4444444444444444,\"#bd3786\"],[0.5555555555555556,\"#d8576b\"],[0.6666666666666666,\"#ed7953\"],[0.7777777777777778,\"#fb9f3a\"],[0.8888888888888888,\"#fdca26\"],[1.0,\"#f0f921\"]],\"type\":\"heatmap\"}],\"histogram2dcontour\":[{\"colorbar\":{\"outlinewidth\":0,\"ticks\":\"\"},\"colorscale\":[[0.0,\"#0d0887\"],[0.1111111111111111,\"#46039f\"],[0.2222222222222222,\"#7201a8\"],[0.3333333333333333,\"#9c179e\"],[0.4444444444444444,\"#bd3786\"],[0.5555555555555556,\"#d8576b\"],[0.6666666666666666,\"#ed7953\"],[0.7777777777777778,\"#fb9f3a\"],[0.8888888888888888,\"#fdca26\"],[1.0,\"#f0f921\"]],\"type\":\"histogram2dcontour\"}],\"histogram2d\":[{\"colorbar\":{\"outlinewidth\":0,\"ticks\":\"\"},\"colorscale\":[[0.0,\"#0d0887\"],[0.1111111111111111,\"#46039f\"],[0.2222222222222222,\"#7201a8\"],[0.3333333333333333,\"#9c179e\"],[0.4444444444444444,\"#bd3786\"],[0.5555555555555556,\"#d8576b\"],[0.6666666666666666,\"#ed7953\"],[0.7777777777777778,\"#fb9f3a\"],[0.8888888888888888,\"#fdca26\"],[1.0,\"#f0f921\"]],\"type\":\"histogram2d\"}],\"histogram\":[{\"marker\":{\"pattern\":{\"fillmode\":\"overlay\",\"size\":10,\"solidity\":0.2}},\"type\":\"histogram\"}],\"mesh3d\":[{\"colorbar\":{\"outlinewidth\":0,\"ticks\":\"\"},\"type\":\"mesh3d\"}],\"parcoords\":[{\"line\":{\"colorbar\":{\"outlinewidth\":0,\"ticks\":\"\"}},\"type\":\"parcoords\"}],\"pie\":[{\"automargin\":true,\"type\":\"pie\"}],\"scatter3d\":[{\"line\":{\"colorbar\":{\"outlinewidth\":0,\"ticks\":\"\"}},\"marker\":{\"colorbar\":{\"outlinewidth\":0,\"ticks\":\"\"}},\"type\":\"scatter3d\"}],\"scattercarpet\":[{\"marker\":{\"colorbar\":{\"outlinewidth\":0,\"ticks\":\"\"}},\"type\":\"scattercarpet\"}],\"scattergeo\":[{\"marker\":{\"colorbar\":{\"outlinewidth\":0,\"ticks\":\"\"}},\"type\":\"scattergeo\"}],\"scattergl\":[{\"marker\":{\"colorbar\":{\"outlinewidth\":0,\"ticks\":\"\"}},\"type\":\"scattergl\"}],\"scattermapbox\":[{\"marker\":{\"colorbar\":{\"outlinewidth\":0,\"ticks\":\"\"}},\"type\":\"scattermapbox\"}],\"scatterpolargl\":[{\"marker\":{\"colorbar\":{\"outlinewidth\":0,\"ticks\":\"\"}},\"type\":\"scatterpolargl\"}],\"scatterpolar\":[{\"marker\":{\"colorbar\":{\"outlinewidth\":0,\"ticks\":\"\"}},\"type\":\"scatterpolar\"}],\"scatter\":[{\"marker\":{\"colorbar\":{\"outlinewidth\":0,\"ticks\":\"\"}},\"type\":\"scatter\"}],\"scatterternary\":[{\"marker\":{\"colorbar\":{\"outlinewidth\":0,\"ticks\":\"\"}},\"type\":\"scatterternary\"}],\"surface\":[{\"colorbar\":{\"outlinewidth\":0,\"ticks\":\"\"},\"colorscale\":[[0.0,\"#0d0887\"],[0.1111111111111111,\"#46039f\"],[0.2222222222222222,\"#7201a8\"],[0.3333333333333333,\"#9c179e\"],[0.4444444444444444,\"#bd3786\"],[0.5555555555555556,\"#d8576b\"],[0.6666666666666666,\"#ed7953\"],[0.7777777777777778,\"#fb9f3a\"],[0.8888888888888888,\"#fdca26\"],[1.0,\"#f0f921\"]],\"type\":\"surface\"}],\"table\":[{\"cells\":{\"fill\":{\"color\":\"#EBF0F8\"},\"line\":{\"color\":\"white\"}},\"header\":{\"fill\":{\"color\":\"#C8D4E3\"},\"line\":{\"color\":\"white\"}},\"type\":\"table\"}]},\"layout\":{\"annotationdefaults\":{\"arrowcolor\":\"#2a3f5f\",\"arrowhead\":0,\"arrowwidth\":1},\"autotypenumbers\":\"strict\",\"coloraxis\":{\"colorbar\":{\"outlinewidth\":0,\"ticks\":\"\"}},\"colorscale\":{\"diverging\":[[0,\"#8e0152\"],[0.1,\"#c51b7d\"],[0.2,\"#de77ae\"],[0.3,\"#f1b6da\"],[0.4,\"#fde0ef\"],[0.5,\"#f7f7f7\"],[0.6,\"#e6f5d0\"],[0.7,\"#b8e186\"],[0.8,\"#7fbc41\"],[0.9,\"#4d9221\"],[1,\"#276419\"]],\"sequential\":[[0.0,\"#0d0887\"],[0.1111111111111111,\"#46039f\"],[0.2222222222222222,\"#7201a8\"],[0.3333333333333333,\"#9c179e\"],[0.4444444444444444,\"#bd3786\"],[0.5555555555555556,\"#d8576b\"],[0.6666666666666666,\"#ed7953\"],[0.7777777777777778,\"#fb9f3a\"],[0.8888888888888888,\"#fdca26\"],[1.0,\"#f0f921\"]],\"sequentialminus\":[[0.0,\"#0d0887\"],[0.1111111111111111,\"#46039f\"],[0.2222222222222222,\"#7201a8\"],[0.3333333333333333,\"#9c179e\"],[0.4444444444444444,\"#bd3786\"],[0.5555555555555556,\"#d8576b\"],[0.6666666666666666,\"#ed7953\"],[0.7777777777777778,\"#fb9f3a\"],[0.8888888888888888,\"#fdca26\"],[1.0,\"#f0f921\"]]},\"colorway\":[\"#636efa\",\"#EF553B\",\"#00cc96\",\"#ab63fa\",\"#FFA15A\",\"#19d3f3\",\"#FF6692\",\"#B6E880\",\"#FF97FF\",\"#FECB52\"],\"font\":{\"color\":\"#2a3f5f\"},\"geo\":{\"bgcolor\":\"white\",\"lakecolor\":\"white\",\"landcolor\":\"#E5ECF6\",\"showlakes\":true,\"showland\":true,\"subunitcolor\":\"white\"},\"hoverlabel\":{\"align\":\"left\"},\"hovermode\":\"closest\",\"mapbox\":{\"style\":\"light\"},\"paper_bgcolor\":\"white\",\"plot_bgcolor\":\"#E5ECF6\",\"polar\":{\"angularaxis\":{\"gridcolor\":\"white\",\"linecolor\":\"white\",\"ticks\":\"\"},\"bgcolor\":\"#E5ECF6\",\"radialaxis\":{\"gridcolor\":\"white\",\"linecolor\":\"white\",\"ticks\":\"\"}},\"scene\":{\"xaxis\":{\"backgroundcolor\":\"#E5ECF6\",\"gridcolor\":\"white\",\"gridwidth\":2,\"linecolor\":\"white\",\"showbackground\":true,\"ticks\":\"\",\"zerolinecolor\":\"white\"},\"yaxis\":{\"backgroundcolor\":\"#E5ECF6\",\"gridcolor\":\"white\",\"gridwidth\":2,\"linecolor\":\"white\",\"showbackground\":true,\"ticks\":\"\",\"zerolinecolor\":\"white\"},\"zaxis\":{\"backgroundcolor\":\"#E5ECF6\",\"gridcolor\":\"white\",\"gridwidth\":2,\"linecolor\":\"white\",\"showbackground\":true,\"ticks\":\"\",\"zerolinecolor\":\"white\"}},\"shapedefaults\":{\"line\":{\"color\":\"#2a3f5f\"}},\"ternary\":{\"aaxis\":{\"gridcolor\":\"white\",\"linecolor\":\"white\",\"ticks\":\"\"},\"baxis\":{\"gridcolor\":\"white\",\"linecolor\":\"white\",\"ticks\":\"\"},\"bgcolor\":\"#E5ECF6\",\"caxis\":{\"gridcolor\":\"white\",\"linecolor\":\"white\",\"ticks\":\"\"}},\"title\":{\"x\":0.05},\"xaxis\":{\"automargin\":true,\"gridcolor\":\"white\",\"linecolor\":\"white\",\"ticks\":\"\",\"title\":{\"standoff\":15},\"zerolinecolor\":\"white\",\"zerolinewidth\":2},\"yaxis\":{\"automargin\":true,\"gridcolor\":\"white\",\"linecolor\":\"white\",\"ticks\":\"\",\"title\":{\"standoff\":15},\"zerolinecolor\":\"white\",\"zerolinewidth\":2}}},\"title\":{\"text\":\"GANTT Chart\"},\"xaxis\":{\"range\":[\"1970-01-01T01:13:30\",\"1970-01-02T02:14:40\"],\"title\":{\"font\":{\"color\":\"#7f7f7f\",\"family\":\"Courier New, monospace\",\"size\":18},\"text\":\"Time\"}},\"yaxis\":{\"title\":{\"font\":{\"color\":\"#7f7f7f\",\"family\":\"Courier New, monospace\",\"size\":18},\"text\":\"Activities\"}}},                        {\"responsive\": true}                    ).then(function(){\n",
       "                            \n",
       "var gd = document.getElementById('8b06900b-cb43-40ef-a462-abe246c6dc96');\n",
       "var x = new MutationObserver(function (mutations, observer) {{\n",
       "        var display = window.getComputedStyle(gd).display;\n",
       "        if (!display || display === 'none') {{\n",
       "            console.log([gd, 'removed!']);\n",
       "            Plotly.purge(gd);\n",
       "            observer.disconnect();\n",
       "        }}\n",
       "}});\n",
       "\n",
       "// Listen for the removal of the full notebook cells\n",
       "var notebookContainer = gd.closest('#notebook-container');\n",
       "if (notebookContainer) {{\n",
       "    x.observe(notebookContainer, {childList: true});\n",
       "}}\n",
       "\n",
       "// Listen for the clearing of the current output cell\n",
       "var outputEl = gd.closest('.output');\n",
       "if (outputEl) {{\n",
       "    x.observe(outputEl, {childList: true});\n",
       "}}\n",
       "\n",
       "                        })                };                });            </script>        </div>"
      ]
     },
     "metadata": {},
     "output_type": "display_data"
    }
   ],
   "source": [
    "fig = plot.get_gantt_chart([from_site, to_site, cutter], id_map=[activities[x] for x in activities])"
   ]
  },
  {
   "cell_type": "markdown",
   "id": "9d68aee1",
   "metadata": {},
   "source": [
    "Plot only activities whose namespace (firt letters) matches load*"
   ]
  },
  {
   "cell_type": "code",
   "execution_count": 7,
   "id": "6141ac61",
   "metadata": {},
   "outputs": [
    {
     "data": {
      "text/html": [
       "        <script type=\"text/javascript\">\n",
       "        window.PlotlyConfig = {MathJaxConfig: 'local'};\n",
       "        if (window.MathJax) {MathJax.Hub.Config({SVG: {font: \"STIX-Web\"}});}\n",
       "        if (typeof require !== 'undefined') {\n",
       "        require.undef(\"plotly\");\n",
       "        requirejs.config({\n",
       "            paths: {\n",
       "                'plotly': ['https://cdn.plot.ly/plotly-2.8.3.min']\n",
       "            }\n",
       "        });\n",
       "        require(['plotly'], function(Plotly) {\n",
       "            window._Plotly = Plotly;\n",
       "        });\n",
       "        }\n",
       "        </script>\n",
       "        "
      ]
     },
     "metadata": {},
     "output_type": "display_data"
    },
    {
     "data": {
      "application/vnd.plotly.v1+json": {
       "config": {
        "linkText": "Export to plot.ly",
        "plotlyServerURL": "https://plot.ly",
        "showLink": false
       },
       "data": [
        {
         "connectgaps": false,
         "hoverinfo": "y+name",
         "line": {
          "color": "rgb(196,19,141)",
          "width": 10
         },
         "mode": "lines",
         "name": "loading:barge_0",
         "type": "scatter",
         "x": [
          "1970-01-01T01:13:30",
          "1970-01-01T01:13:30",
          "1970-01-01T01:46:50",
          "1970-01-01T01:46:50",
          "1970-01-01T01:46:50",
          "1970-01-01T04:13:50",
          "1970-01-01T04:13:50",
          "1970-01-01T04:47:10",
          "1970-01-01T04:47:10",
          "1970-01-01T04:47:10",
          "1970-01-01T07:14:10",
          "1970-01-01T07:14:10",
          "1970-01-01T07:47:30",
          "1970-01-01T07:47:30",
          "1970-01-01T07:47:30",
          "1970-01-01T10:14:30",
          "1970-01-01T10:14:30",
          "1970-01-01T10:47:50",
          "1970-01-01T10:47:50",
          "1970-01-01T10:47:50",
          "1970-01-01T13:14:50",
          "1970-01-01T13:14:50",
          "1970-01-01T13:48:10",
          "1970-01-01T13:48:10",
          "1970-01-01T13:48:10",
          "1970-01-01T16:15:10",
          "1970-01-01T16:15:10",
          "1970-01-01T16:48:30",
          "1970-01-01T16:48:30",
          "1970-01-01T16:48:30",
          "1970-01-01T19:15:30",
          "1970-01-01T19:15:30",
          "1970-01-01T19:48:50",
          "1970-01-01T19:48:50",
          "1970-01-01T19:48:50",
          "1970-01-01T22:19:26",
          "1970-01-01T22:19:26",
          "1970-01-01T22:52:46",
          "1970-01-01T22:52:46",
          "1970-01-01T22:52:46",
          "1970-01-01T01:13:30",
          "1970-01-01T01:13:30",
          "1970-01-01T01:46:50",
          "1970-01-01T01:46:50",
          "1970-01-01T01:46:50",
          "1970-01-01T04:13:50",
          "1970-01-01T04:13:50",
          "1970-01-01T04:47:10",
          "1970-01-01T04:47:10",
          "1970-01-01T04:47:10",
          "1970-01-01T07:14:10",
          "1970-01-01T07:14:10",
          "1970-01-01T07:47:30",
          "1970-01-01T07:47:30",
          "1970-01-01T07:47:30",
          "1970-01-01T10:14:30",
          "1970-01-01T10:14:30",
          "1970-01-01T10:47:50",
          "1970-01-01T10:47:50",
          "1970-01-01T10:47:50",
          "1970-01-01T13:14:50",
          "1970-01-01T13:14:50",
          "1970-01-01T13:48:10",
          "1970-01-01T13:48:10",
          "1970-01-01T13:48:10",
          "1970-01-01T16:15:10",
          "1970-01-01T16:15:10",
          "1970-01-01T16:48:30",
          "1970-01-01T16:48:30",
          "1970-01-01T16:48:30",
          "1970-01-01T19:15:30",
          "1970-01-01T19:15:30",
          "1970-01-01T19:48:50",
          "1970-01-01T19:48:50",
          "1970-01-01T19:48:50",
          "1970-01-01T22:19:26",
          "1970-01-01T22:19:26",
          "1970-01-01T22:52:46",
          "1970-01-01T22:52:46",
          "1970-01-01T22:52:46"
         ],
         "y": [
          "loading:barge_0",
          "loading:barge_0",
          "loading:barge_0",
          "loading:barge_0",
          null,
          "loading:barge_0",
          "loading:barge_0",
          "loading:barge_0",
          "loading:barge_0",
          null,
          "loading:barge_0",
          "loading:barge_0",
          "loading:barge_0",
          "loading:barge_0",
          null,
          "loading:barge_0",
          "loading:barge_0",
          "loading:barge_0",
          "loading:barge_0",
          null,
          "loading:barge_0",
          "loading:barge_0",
          "loading:barge_0",
          "loading:barge_0",
          null,
          "loading:barge_0",
          "loading:barge_0",
          "loading:barge_0",
          "loading:barge_0",
          null,
          "loading:barge_0",
          "loading:barge_0",
          "loading:barge_0",
          "loading:barge_0",
          null,
          "loading:barge_0",
          "loading:barge_0",
          "loading:barge_0",
          "loading:barge_0",
          null,
          "loading:barge_0",
          "loading:barge_0",
          "loading:barge_0",
          "loading:barge_0",
          null,
          "loading:barge_0",
          "loading:barge_0",
          "loading:barge_0",
          "loading:barge_0",
          null,
          "loading:barge_0",
          "loading:barge_0",
          "loading:barge_0",
          "loading:barge_0",
          null,
          "loading:barge_0",
          "loading:barge_0",
          "loading:barge_0",
          "loading:barge_0",
          null,
          "loading:barge_0",
          "loading:barge_0",
          "loading:barge_0",
          "loading:barge_0",
          null,
          "loading:barge_0",
          "loading:barge_0",
          "loading:barge_0",
          "loading:barge_0",
          null,
          "loading:barge_0",
          "loading:barge_0",
          "loading:barge_0",
          "loading:barge_0",
          null,
          "loading:barge_0",
          "loading:barge_0",
          "loading:barge_0",
          "loading:barge_0",
          null
         ]
        },
        {
         "connectgaps": false,
         "hoverinfo": "y+name",
         "line": {
          "color": "rgb(238,61,183)",
          "width": 10
         },
         "mode": "lines",
         "name": "loading:barge_0",
         "type": "scatter",
         "x": [
          "1970-01-01T01:13:30",
          "1970-01-01T01:13:30",
          "1970-01-01T01:46:50",
          "1970-01-01T01:46:50",
          "1970-01-01T01:46:50",
          "1970-01-01T04:13:50",
          "1970-01-01T04:13:50",
          "1970-01-01T04:47:10",
          "1970-01-01T04:47:10",
          "1970-01-01T04:47:10",
          "1970-01-01T07:14:10",
          "1970-01-01T07:14:10",
          "1970-01-01T07:47:30",
          "1970-01-01T07:47:30",
          "1970-01-01T07:47:30",
          "1970-01-01T10:14:30",
          "1970-01-01T10:14:30",
          "1970-01-01T10:47:50",
          "1970-01-01T10:47:50",
          "1970-01-01T10:47:50",
          "1970-01-01T13:14:50",
          "1970-01-01T13:14:50",
          "1970-01-01T13:48:10",
          "1970-01-01T13:48:10",
          "1970-01-01T13:48:10",
          "1970-01-01T16:15:10",
          "1970-01-01T16:15:10",
          "1970-01-01T16:48:30",
          "1970-01-01T16:48:30",
          "1970-01-01T16:48:30",
          "1970-01-01T19:15:30",
          "1970-01-01T19:15:30",
          "1970-01-01T19:48:50",
          "1970-01-01T19:48:50",
          "1970-01-01T19:48:50",
          "1970-01-01T22:19:26",
          "1970-01-01T22:19:26",
          "1970-01-01T22:52:46",
          "1970-01-01T22:52:46",
          "1970-01-01T22:52:46",
          "1970-01-01T01:13:30",
          "1970-01-01T01:13:30",
          "1970-01-01T01:46:50",
          "1970-01-01T01:46:50",
          "1970-01-01T01:46:50",
          "1970-01-01T04:13:50",
          "1970-01-01T04:13:50",
          "1970-01-01T04:47:10",
          "1970-01-01T04:47:10",
          "1970-01-01T04:47:10",
          "1970-01-01T07:14:10",
          "1970-01-01T07:14:10",
          "1970-01-01T07:47:30",
          "1970-01-01T07:47:30",
          "1970-01-01T07:47:30",
          "1970-01-01T10:14:30",
          "1970-01-01T10:14:30",
          "1970-01-01T10:47:50",
          "1970-01-01T10:47:50",
          "1970-01-01T10:47:50",
          "1970-01-01T13:14:50",
          "1970-01-01T13:14:50",
          "1970-01-01T13:48:10",
          "1970-01-01T13:48:10",
          "1970-01-01T13:48:10",
          "1970-01-01T16:15:10",
          "1970-01-01T16:15:10",
          "1970-01-01T16:48:30",
          "1970-01-01T16:48:30",
          "1970-01-01T16:48:30",
          "1970-01-01T19:15:30",
          "1970-01-01T19:15:30",
          "1970-01-01T19:48:50",
          "1970-01-01T19:48:50",
          "1970-01-01T19:48:50",
          "1970-01-01T22:19:26",
          "1970-01-01T22:19:26",
          "1970-01-01T22:52:46",
          "1970-01-01T22:52:46",
          "1970-01-01T22:52:46"
         ],
         "y": [
          "loading:barge_0",
          "loading:barge_0",
          "loading:barge_0",
          "loading:barge_0",
          null,
          "loading:barge_0",
          "loading:barge_0",
          "loading:barge_0",
          "loading:barge_0",
          null,
          "loading:barge_0",
          "loading:barge_0",
          "loading:barge_0",
          "loading:barge_0",
          null,
          "loading:barge_0",
          "loading:barge_0",
          "loading:barge_0",
          "loading:barge_0",
          null,
          "loading:barge_0",
          "loading:barge_0",
          "loading:barge_0",
          "loading:barge_0",
          null,
          "loading:barge_0",
          "loading:barge_0",
          "loading:barge_0",
          "loading:barge_0",
          null,
          "loading:barge_0",
          "loading:barge_0",
          "loading:barge_0",
          "loading:barge_0",
          null,
          "loading:barge_0",
          "loading:barge_0",
          "loading:barge_0",
          "loading:barge_0",
          null,
          "loading:barge_0",
          "loading:barge_0",
          "loading:barge_0",
          "loading:barge_0",
          null,
          "loading:barge_0",
          "loading:barge_0",
          "loading:barge_0",
          "loading:barge_0",
          null,
          "loading:barge_0",
          "loading:barge_0",
          "loading:barge_0",
          "loading:barge_0",
          null,
          "loading:barge_0",
          "loading:barge_0",
          "loading:barge_0",
          "loading:barge_0",
          null,
          "loading:barge_0",
          "loading:barge_0",
          "loading:barge_0",
          "loading:barge_0",
          null,
          "loading:barge_0",
          "loading:barge_0",
          "loading:barge_0",
          "loading:barge_0",
          null,
          "loading:barge_0",
          "loading:barge_0",
          "loading:barge_0",
          "loading:barge_0",
          null,
          "loading:barge_0",
          "loading:barge_0",
          "loading:barge_0",
          "loading:barge_0",
          null
         ]
        },
        {
         "connectgaps": false,
         "hoverinfo": "y+name",
         "line": {
          "color": "rgb(24,103,225)",
          "width": 10
         },
         "mode": "lines",
         "name": "loading:barge_1",
         "type": "scatter",
         "x": [
          "1970-01-01T01:46:50",
          "1970-01-01T01:46:50",
          "1970-01-01T02:28:30",
          "1970-01-01T02:28:30",
          "1970-01-01T02:28:30",
          "1970-01-01T04:59:46",
          "1970-01-01T04:59:46",
          "1970-01-01T05:41:26",
          "1970-01-01T05:41:26",
          "1970-01-01T05:41:26",
          "1970-01-01T08:12:42",
          "1970-01-01T08:12:42",
          "1970-01-01T08:54:22",
          "1970-01-01T08:54:22",
          "1970-01-01T08:54:22",
          "1970-01-01T11:25:38",
          "1970-01-01T11:25:38",
          "1970-01-01T12:07:18",
          "1970-01-01T12:07:18",
          "1970-01-01T12:07:18",
          "1970-01-01T14:38:34",
          "1970-01-01T14:38:34",
          "1970-01-01T15:20:14",
          "1970-01-01T15:20:14",
          "1970-01-01T15:20:14",
          "1970-01-01T17:51:30",
          "1970-01-01T17:51:30",
          "1970-01-01T18:33:10",
          "1970-01-01T18:33:10",
          "1970-01-01T18:33:10",
          "1970-01-01T21:04:26",
          "1970-01-01T21:04:26",
          "1970-01-01T21:46:06",
          "1970-01-01T21:46:06",
          "1970-01-01T21:46:06",
          "1970-01-02T00:17:22",
          "1970-01-02T00:17:22",
          "1970-01-02T00:59:02",
          "1970-01-02T00:59:02",
          "1970-01-02T00:59:02",
          "1970-01-01T01:46:50",
          "1970-01-01T01:46:50",
          "1970-01-01T02:28:30",
          "1970-01-01T02:28:30",
          "1970-01-01T02:28:30",
          "1970-01-01T04:59:46",
          "1970-01-01T04:59:46",
          "1970-01-01T05:41:26",
          "1970-01-01T05:41:26",
          "1970-01-01T05:41:26",
          "1970-01-01T08:12:42",
          "1970-01-01T08:12:42",
          "1970-01-01T08:54:22",
          "1970-01-01T08:54:22",
          "1970-01-01T08:54:22",
          "1970-01-01T11:25:38",
          "1970-01-01T11:25:38",
          "1970-01-01T12:07:18",
          "1970-01-01T12:07:18",
          "1970-01-01T12:07:18",
          "1970-01-01T14:38:34",
          "1970-01-01T14:38:34",
          "1970-01-01T15:20:14",
          "1970-01-01T15:20:14",
          "1970-01-01T15:20:14",
          "1970-01-01T17:51:30",
          "1970-01-01T17:51:30",
          "1970-01-01T18:33:10",
          "1970-01-01T18:33:10",
          "1970-01-01T18:33:10",
          "1970-01-01T21:04:26",
          "1970-01-01T21:04:26",
          "1970-01-01T21:46:06",
          "1970-01-01T21:46:06",
          "1970-01-01T21:46:06",
          "1970-01-02T00:17:22",
          "1970-01-02T00:17:22",
          "1970-01-02T00:59:02",
          "1970-01-02T00:59:02",
          "1970-01-02T00:59:02"
         ],
         "y": [
          "loading:barge_1",
          "loading:barge_1",
          "loading:barge_1",
          "loading:barge_1",
          null,
          "loading:barge_1",
          "loading:barge_1",
          "loading:barge_1",
          "loading:barge_1",
          null,
          "loading:barge_1",
          "loading:barge_1",
          "loading:barge_1",
          "loading:barge_1",
          null,
          "loading:barge_1",
          "loading:barge_1",
          "loading:barge_1",
          "loading:barge_1",
          null,
          "loading:barge_1",
          "loading:barge_1",
          "loading:barge_1",
          "loading:barge_1",
          null,
          "loading:barge_1",
          "loading:barge_1",
          "loading:barge_1",
          "loading:barge_1",
          null,
          "loading:barge_1",
          "loading:barge_1",
          "loading:barge_1",
          "loading:barge_1",
          null,
          "loading:barge_1",
          "loading:barge_1",
          "loading:barge_1",
          "loading:barge_1",
          null,
          "loading:barge_1",
          "loading:barge_1",
          "loading:barge_1",
          "loading:barge_1",
          null,
          "loading:barge_1",
          "loading:barge_1",
          "loading:barge_1",
          "loading:barge_1",
          null,
          "loading:barge_1",
          "loading:barge_1",
          "loading:barge_1",
          "loading:barge_1",
          null,
          "loading:barge_1",
          "loading:barge_1",
          "loading:barge_1",
          "loading:barge_1",
          null,
          "loading:barge_1",
          "loading:barge_1",
          "loading:barge_1",
          "loading:barge_1",
          null,
          "loading:barge_1",
          "loading:barge_1",
          "loading:barge_1",
          "loading:barge_1",
          null,
          "loading:barge_1",
          "loading:barge_1",
          "loading:barge_1",
          "loading:barge_1",
          null,
          "loading:barge_1",
          "loading:barge_1",
          "loading:barge_1",
          "loading:barge_1",
          null
         ]
        },
        {
         "connectgaps": false,
         "hoverinfo": "y+name",
         "line": {
          "color": "rgb(66,145,11)",
          "width": 10
         },
         "mode": "lines",
         "name": "loading:barge_1",
         "type": "scatter",
         "x": [
          "1970-01-01T01:46:50",
          "1970-01-01T01:46:50",
          "1970-01-01T02:28:30",
          "1970-01-01T02:28:30",
          "1970-01-01T02:28:30",
          "1970-01-01T04:59:46",
          "1970-01-01T04:59:46",
          "1970-01-01T05:41:26",
          "1970-01-01T05:41:26",
          "1970-01-01T05:41:26",
          "1970-01-01T08:12:42",
          "1970-01-01T08:12:42",
          "1970-01-01T08:54:22",
          "1970-01-01T08:54:22",
          "1970-01-01T08:54:22",
          "1970-01-01T11:25:38",
          "1970-01-01T11:25:38",
          "1970-01-01T12:07:18",
          "1970-01-01T12:07:18",
          "1970-01-01T12:07:18",
          "1970-01-01T14:38:34",
          "1970-01-01T14:38:34",
          "1970-01-01T15:20:14",
          "1970-01-01T15:20:14",
          "1970-01-01T15:20:14",
          "1970-01-01T17:51:30",
          "1970-01-01T17:51:30",
          "1970-01-01T18:33:10",
          "1970-01-01T18:33:10",
          "1970-01-01T18:33:10",
          "1970-01-01T21:04:26",
          "1970-01-01T21:04:26",
          "1970-01-01T21:46:06",
          "1970-01-01T21:46:06",
          "1970-01-01T21:46:06",
          "1970-01-02T00:17:22",
          "1970-01-02T00:17:22",
          "1970-01-02T00:59:02",
          "1970-01-02T00:59:02",
          "1970-01-02T00:59:02",
          "1970-01-01T01:46:50",
          "1970-01-01T01:46:50",
          "1970-01-01T02:28:30",
          "1970-01-01T02:28:30",
          "1970-01-01T02:28:30",
          "1970-01-01T04:59:46",
          "1970-01-01T04:59:46",
          "1970-01-01T05:41:26",
          "1970-01-01T05:41:26",
          "1970-01-01T05:41:26",
          "1970-01-01T08:12:42",
          "1970-01-01T08:12:42",
          "1970-01-01T08:54:22",
          "1970-01-01T08:54:22",
          "1970-01-01T08:54:22",
          "1970-01-01T11:25:38",
          "1970-01-01T11:25:38",
          "1970-01-01T12:07:18",
          "1970-01-01T12:07:18",
          "1970-01-01T12:07:18",
          "1970-01-01T14:38:34",
          "1970-01-01T14:38:34",
          "1970-01-01T15:20:14",
          "1970-01-01T15:20:14",
          "1970-01-01T15:20:14",
          "1970-01-01T17:51:30",
          "1970-01-01T17:51:30",
          "1970-01-01T18:33:10",
          "1970-01-01T18:33:10",
          "1970-01-01T18:33:10",
          "1970-01-01T21:04:26",
          "1970-01-01T21:04:26",
          "1970-01-01T21:46:06",
          "1970-01-01T21:46:06",
          "1970-01-01T21:46:06",
          "1970-01-02T00:17:22",
          "1970-01-02T00:17:22",
          "1970-01-02T00:59:02",
          "1970-01-02T00:59:02",
          "1970-01-02T00:59:02"
         ],
         "y": [
          "loading:barge_1",
          "loading:barge_1",
          "loading:barge_1",
          "loading:barge_1",
          null,
          "loading:barge_1",
          "loading:barge_1",
          "loading:barge_1",
          "loading:barge_1",
          null,
          "loading:barge_1",
          "loading:barge_1",
          "loading:barge_1",
          "loading:barge_1",
          null,
          "loading:barge_1",
          "loading:barge_1",
          "loading:barge_1",
          "loading:barge_1",
          null,
          "loading:barge_1",
          "loading:barge_1",
          "loading:barge_1",
          "loading:barge_1",
          null,
          "loading:barge_1",
          "loading:barge_1",
          "loading:barge_1",
          "loading:barge_1",
          null,
          "loading:barge_1",
          "loading:barge_1",
          "loading:barge_1",
          "loading:barge_1",
          null,
          "loading:barge_1",
          "loading:barge_1",
          "loading:barge_1",
          "loading:barge_1",
          null,
          "loading:barge_1",
          "loading:barge_1",
          "loading:barge_1",
          "loading:barge_1",
          null,
          "loading:barge_1",
          "loading:barge_1",
          "loading:barge_1",
          "loading:barge_1",
          null,
          "loading:barge_1",
          "loading:barge_1",
          "loading:barge_1",
          "loading:barge_1",
          null,
          "loading:barge_1",
          "loading:barge_1",
          "loading:barge_1",
          "loading:barge_1",
          null,
          "loading:barge_1",
          "loading:barge_1",
          "loading:barge_1",
          "loading:barge_1",
          null,
          "loading:barge_1",
          "loading:barge_1",
          "loading:barge_1",
          "loading:barge_1",
          null,
          "loading:barge_1",
          "loading:barge_1",
          "loading:barge_1",
          "loading:barge_1",
          null,
          "loading:barge_1",
          "loading:barge_1",
          "loading:barge_1",
          "loading:barge_1",
          null
         ]
        },
        {
         "connectgaps": false,
         "hoverinfo": "y+name",
         "line": {
          "color": "rgb(108,187,53)",
          "width": 10
         },
         "mode": "lines",
         "name": "loading:barge_2",
         "type": "scatter",
         "x": [
          "1970-01-01T02:28:30",
          "1970-01-01T02:28:30",
          "1970-01-01T03:01:50",
          "1970-01-01T03:01:50",
          "1970-01-01T03:01:50",
          "1970-01-01T05:41:26",
          "1970-01-01T05:41:26",
          "1970-01-01T06:14:46",
          "1970-01-01T06:14:46",
          "1970-01-01T06:14:46",
          "1970-01-01T08:54:22",
          "1970-01-01T08:54:22",
          "1970-01-01T09:27:42",
          "1970-01-01T09:27:42",
          "1970-01-01T09:27:42",
          "1970-01-01T12:07:18",
          "1970-01-01T12:07:18",
          "1970-01-01T12:40:38",
          "1970-01-01T12:40:38",
          "1970-01-01T12:40:38",
          "1970-01-01T15:20:14",
          "1970-01-01T15:20:14",
          "1970-01-01T15:53:34",
          "1970-01-01T15:53:34",
          "1970-01-01T15:53:34",
          "1970-01-01T18:33:10",
          "1970-01-01T18:33:10",
          "1970-01-01T19:06:30",
          "1970-01-01T19:06:30",
          "1970-01-01T19:06:30",
          "1970-01-01T21:46:06",
          "1970-01-01T21:46:06",
          "1970-01-01T22:19:26",
          "1970-01-01T22:19:26",
          "1970-01-01T22:19:26",
          "1970-01-01T02:28:30",
          "1970-01-01T02:28:30",
          "1970-01-01T03:01:50",
          "1970-01-01T03:01:50",
          "1970-01-01T03:01:50",
          "1970-01-01T05:41:26",
          "1970-01-01T05:41:26",
          "1970-01-01T06:14:46",
          "1970-01-01T06:14:46",
          "1970-01-01T06:14:46",
          "1970-01-01T08:54:22",
          "1970-01-01T08:54:22",
          "1970-01-01T09:27:42",
          "1970-01-01T09:27:42",
          "1970-01-01T09:27:42",
          "1970-01-01T12:07:18",
          "1970-01-01T12:07:18",
          "1970-01-01T12:40:38",
          "1970-01-01T12:40:38",
          "1970-01-01T12:40:38",
          "1970-01-01T15:20:14",
          "1970-01-01T15:20:14",
          "1970-01-01T15:53:34",
          "1970-01-01T15:53:34",
          "1970-01-01T15:53:34",
          "1970-01-01T18:33:10",
          "1970-01-01T18:33:10",
          "1970-01-01T19:06:30",
          "1970-01-01T19:06:30",
          "1970-01-01T19:06:30",
          "1970-01-01T21:46:06",
          "1970-01-01T21:46:06",
          "1970-01-01T22:19:26",
          "1970-01-01T22:19:26",
          "1970-01-01T22:19:26"
         ],
         "y": [
          "loading:barge_2",
          "loading:barge_2",
          "loading:barge_2",
          "loading:barge_2",
          null,
          "loading:barge_2",
          "loading:barge_2",
          "loading:barge_2",
          "loading:barge_2",
          null,
          "loading:barge_2",
          "loading:barge_2",
          "loading:barge_2",
          "loading:barge_2",
          null,
          "loading:barge_2",
          "loading:barge_2",
          "loading:barge_2",
          "loading:barge_2",
          null,
          "loading:barge_2",
          "loading:barge_2",
          "loading:barge_2",
          "loading:barge_2",
          null,
          "loading:barge_2",
          "loading:barge_2",
          "loading:barge_2",
          "loading:barge_2",
          null,
          "loading:barge_2",
          "loading:barge_2",
          "loading:barge_2",
          "loading:barge_2",
          null,
          "loading:barge_2",
          "loading:barge_2",
          "loading:barge_2",
          "loading:barge_2",
          null,
          "loading:barge_2",
          "loading:barge_2",
          "loading:barge_2",
          "loading:barge_2",
          null,
          "loading:barge_2",
          "loading:barge_2",
          "loading:barge_2",
          "loading:barge_2",
          null,
          "loading:barge_2",
          "loading:barge_2",
          "loading:barge_2",
          "loading:barge_2",
          null,
          "loading:barge_2",
          "loading:barge_2",
          "loading:barge_2",
          "loading:barge_2",
          null,
          "loading:barge_2",
          "loading:barge_2",
          "loading:barge_2",
          "loading:barge_2",
          null,
          "loading:barge_2",
          "loading:barge_2",
          "loading:barge_2",
          "loading:barge_2",
          null
         ]
        },
        {
         "connectgaps": false,
         "hoverinfo": "y+name",
         "line": {
          "color": "rgb(150,229,95)",
          "width": 10
         },
         "mode": "lines",
         "name": "loading:barge_2",
         "type": "scatter",
         "x": [
          "1970-01-01T02:28:30",
          "1970-01-01T02:28:30",
          "1970-01-01T03:01:50",
          "1970-01-01T03:01:50",
          "1970-01-01T03:01:50",
          "1970-01-01T05:41:26",
          "1970-01-01T05:41:26",
          "1970-01-01T06:14:46",
          "1970-01-01T06:14:46",
          "1970-01-01T06:14:46",
          "1970-01-01T08:54:22",
          "1970-01-01T08:54:22",
          "1970-01-01T09:27:42",
          "1970-01-01T09:27:42",
          "1970-01-01T09:27:42",
          "1970-01-01T12:07:18",
          "1970-01-01T12:07:18",
          "1970-01-01T12:40:38",
          "1970-01-01T12:40:38",
          "1970-01-01T12:40:38",
          "1970-01-01T15:20:14",
          "1970-01-01T15:20:14",
          "1970-01-01T15:53:34",
          "1970-01-01T15:53:34",
          "1970-01-01T15:53:34",
          "1970-01-01T18:33:10",
          "1970-01-01T18:33:10",
          "1970-01-01T19:06:30",
          "1970-01-01T19:06:30",
          "1970-01-01T19:06:30",
          "1970-01-01T21:46:06",
          "1970-01-01T21:46:06",
          "1970-01-01T22:19:26",
          "1970-01-01T22:19:26",
          "1970-01-01T22:19:26",
          "1970-01-01T02:28:30",
          "1970-01-01T02:28:30",
          "1970-01-01T03:01:50",
          "1970-01-01T03:01:50",
          "1970-01-01T03:01:50",
          "1970-01-01T05:41:26",
          "1970-01-01T05:41:26",
          "1970-01-01T06:14:46",
          "1970-01-01T06:14:46",
          "1970-01-01T06:14:46",
          "1970-01-01T08:54:22",
          "1970-01-01T08:54:22",
          "1970-01-01T09:27:42",
          "1970-01-01T09:27:42",
          "1970-01-01T09:27:42",
          "1970-01-01T12:07:18",
          "1970-01-01T12:07:18",
          "1970-01-01T12:40:38",
          "1970-01-01T12:40:38",
          "1970-01-01T12:40:38",
          "1970-01-01T15:20:14",
          "1970-01-01T15:20:14",
          "1970-01-01T15:53:34",
          "1970-01-01T15:53:34",
          "1970-01-01T15:53:34",
          "1970-01-01T18:33:10",
          "1970-01-01T18:33:10",
          "1970-01-01T19:06:30",
          "1970-01-01T19:06:30",
          "1970-01-01T19:06:30",
          "1970-01-01T21:46:06",
          "1970-01-01T21:46:06",
          "1970-01-01T22:19:26",
          "1970-01-01T22:19:26",
          "1970-01-01T22:19:26"
         ],
         "y": [
          "loading:barge_2",
          "loading:barge_2",
          "loading:barge_2",
          "loading:barge_2",
          null,
          "loading:barge_2",
          "loading:barge_2",
          "loading:barge_2",
          "loading:barge_2",
          null,
          "loading:barge_2",
          "loading:barge_2",
          "loading:barge_2",
          "loading:barge_2",
          null,
          "loading:barge_2",
          "loading:barge_2",
          "loading:barge_2",
          "loading:barge_2",
          null,
          "loading:barge_2",
          "loading:barge_2",
          "loading:barge_2",
          "loading:barge_2",
          null,
          "loading:barge_2",
          "loading:barge_2",
          "loading:barge_2",
          "loading:barge_2",
          null,
          "loading:barge_2",
          "loading:barge_2",
          "loading:barge_2",
          "loading:barge_2",
          null,
          "loading:barge_2",
          "loading:barge_2",
          "loading:barge_2",
          "loading:barge_2",
          null,
          "loading:barge_2",
          "loading:barge_2",
          "loading:barge_2",
          "loading:barge_2",
          null,
          "loading:barge_2",
          "loading:barge_2",
          "loading:barge_2",
          "loading:barge_2",
          null,
          "loading:barge_2",
          "loading:barge_2",
          "loading:barge_2",
          "loading:barge_2",
          null,
          "loading:barge_2",
          "loading:barge_2",
          "loading:barge_2",
          "loading:barge_2",
          null,
          "loading:barge_2",
          "loading:barge_2",
          "loading:barge_2",
          "loading:barge_2",
          null,
          "loading:barge_2",
          "loading:barge_2",
          "loading:barge_2",
          "loading:barge_2",
          null
         ]
        }
       ],
       "layout": {
        "hovermode": "closest",
        "legend": {
         "orientation": "h",
         "x": 0,
         "y": -0.2
        },
        "template": {
         "data": {
          "bar": [
           {
            "error_x": {
             "color": "#2a3f5f"
            },
            "error_y": {
             "color": "#2a3f5f"
            },
            "marker": {
             "line": {
              "color": "#E5ECF6",
              "width": 0.5
             },
             "pattern": {
              "fillmode": "overlay",
              "size": 10,
              "solidity": 0.2
             }
            },
            "type": "bar"
           }
          ],
          "barpolar": [
           {
            "marker": {
             "line": {
              "color": "#E5ECF6",
              "width": 0.5
             },
             "pattern": {
              "fillmode": "overlay",
              "size": 10,
              "solidity": 0.2
             }
            },
            "type": "barpolar"
           }
          ],
          "carpet": [
           {
            "aaxis": {
             "endlinecolor": "#2a3f5f",
             "gridcolor": "white",
             "linecolor": "white",
             "minorgridcolor": "white",
             "startlinecolor": "#2a3f5f"
            },
            "baxis": {
             "endlinecolor": "#2a3f5f",
             "gridcolor": "white",
             "linecolor": "white",
             "minorgridcolor": "white",
             "startlinecolor": "#2a3f5f"
            },
            "type": "carpet"
           }
          ],
          "choropleth": [
           {
            "colorbar": {
             "outlinewidth": 0,
             "ticks": ""
            },
            "type": "choropleth"
           }
          ],
          "contour": [
           {
            "colorbar": {
             "outlinewidth": 0,
             "ticks": ""
            },
            "colorscale": [
             [
              0,
              "#0d0887"
             ],
             [
              0.1111111111111111,
              "#46039f"
             ],
             [
              0.2222222222222222,
              "#7201a8"
             ],
             [
              0.3333333333333333,
              "#9c179e"
             ],
             [
              0.4444444444444444,
              "#bd3786"
             ],
             [
              0.5555555555555556,
              "#d8576b"
             ],
             [
              0.6666666666666666,
              "#ed7953"
             ],
             [
              0.7777777777777778,
              "#fb9f3a"
             ],
             [
              0.8888888888888888,
              "#fdca26"
             ],
             [
              1,
              "#f0f921"
             ]
            ],
            "type": "contour"
           }
          ],
          "contourcarpet": [
           {
            "colorbar": {
             "outlinewidth": 0,
             "ticks": ""
            },
            "type": "contourcarpet"
           }
          ],
          "heatmap": [
           {
            "colorbar": {
             "outlinewidth": 0,
             "ticks": ""
            },
            "colorscale": [
             [
              0,
              "#0d0887"
             ],
             [
              0.1111111111111111,
              "#46039f"
             ],
             [
              0.2222222222222222,
              "#7201a8"
             ],
             [
              0.3333333333333333,
              "#9c179e"
             ],
             [
              0.4444444444444444,
              "#bd3786"
             ],
             [
              0.5555555555555556,
              "#d8576b"
             ],
             [
              0.6666666666666666,
              "#ed7953"
             ],
             [
              0.7777777777777778,
              "#fb9f3a"
             ],
             [
              0.8888888888888888,
              "#fdca26"
             ],
             [
              1,
              "#f0f921"
             ]
            ],
            "type": "heatmap"
           }
          ],
          "heatmapgl": [
           {
            "colorbar": {
             "outlinewidth": 0,
             "ticks": ""
            },
            "colorscale": [
             [
              0,
              "#0d0887"
             ],
             [
              0.1111111111111111,
              "#46039f"
             ],
             [
              0.2222222222222222,
              "#7201a8"
             ],
             [
              0.3333333333333333,
              "#9c179e"
             ],
             [
              0.4444444444444444,
              "#bd3786"
             ],
             [
              0.5555555555555556,
              "#d8576b"
             ],
             [
              0.6666666666666666,
              "#ed7953"
             ],
             [
              0.7777777777777778,
              "#fb9f3a"
             ],
             [
              0.8888888888888888,
              "#fdca26"
             ],
             [
              1,
              "#f0f921"
             ]
            ],
            "type": "heatmapgl"
           }
          ],
          "histogram": [
           {
            "marker": {
             "pattern": {
              "fillmode": "overlay",
              "size": 10,
              "solidity": 0.2
             }
            },
            "type": "histogram"
           }
          ],
          "histogram2d": [
           {
            "colorbar": {
             "outlinewidth": 0,
             "ticks": ""
            },
            "colorscale": [
             [
              0,
              "#0d0887"
             ],
             [
              0.1111111111111111,
              "#46039f"
             ],
             [
              0.2222222222222222,
              "#7201a8"
             ],
             [
              0.3333333333333333,
              "#9c179e"
             ],
             [
              0.4444444444444444,
              "#bd3786"
             ],
             [
              0.5555555555555556,
              "#d8576b"
             ],
             [
              0.6666666666666666,
              "#ed7953"
             ],
             [
              0.7777777777777778,
              "#fb9f3a"
             ],
             [
              0.8888888888888888,
              "#fdca26"
             ],
             [
              1,
              "#f0f921"
             ]
            ],
            "type": "histogram2d"
           }
          ],
          "histogram2dcontour": [
           {
            "colorbar": {
             "outlinewidth": 0,
             "ticks": ""
            },
            "colorscale": [
             [
              0,
              "#0d0887"
             ],
             [
              0.1111111111111111,
              "#46039f"
             ],
             [
              0.2222222222222222,
              "#7201a8"
             ],
             [
              0.3333333333333333,
              "#9c179e"
             ],
             [
              0.4444444444444444,
              "#bd3786"
             ],
             [
              0.5555555555555556,
              "#d8576b"
             ],
             [
              0.6666666666666666,
              "#ed7953"
             ],
             [
              0.7777777777777778,
              "#fb9f3a"
             ],
             [
              0.8888888888888888,
              "#fdca26"
             ],
             [
              1,
              "#f0f921"
             ]
            ],
            "type": "histogram2dcontour"
           }
          ],
          "mesh3d": [
           {
            "colorbar": {
             "outlinewidth": 0,
             "ticks": ""
            },
            "type": "mesh3d"
           }
          ],
          "parcoords": [
           {
            "line": {
             "colorbar": {
              "outlinewidth": 0,
              "ticks": ""
             }
            },
            "type": "parcoords"
           }
          ],
          "pie": [
           {
            "automargin": true,
            "type": "pie"
           }
          ],
          "scatter": [
           {
            "marker": {
             "colorbar": {
              "outlinewidth": 0,
              "ticks": ""
             }
            },
            "type": "scatter"
           }
          ],
          "scatter3d": [
           {
            "line": {
             "colorbar": {
              "outlinewidth": 0,
              "ticks": ""
             }
            },
            "marker": {
             "colorbar": {
              "outlinewidth": 0,
              "ticks": ""
             }
            },
            "type": "scatter3d"
           }
          ],
          "scattercarpet": [
           {
            "marker": {
             "colorbar": {
              "outlinewidth": 0,
              "ticks": ""
             }
            },
            "type": "scattercarpet"
           }
          ],
          "scattergeo": [
           {
            "marker": {
             "colorbar": {
              "outlinewidth": 0,
              "ticks": ""
             }
            },
            "type": "scattergeo"
           }
          ],
          "scattergl": [
           {
            "marker": {
             "colorbar": {
              "outlinewidth": 0,
              "ticks": ""
             }
            },
            "type": "scattergl"
           }
          ],
          "scattermapbox": [
           {
            "marker": {
             "colorbar": {
              "outlinewidth": 0,
              "ticks": ""
             }
            },
            "type": "scattermapbox"
           }
          ],
          "scatterpolar": [
           {
            "marker": {
             "colorbar": {
              "outlinewidth": 0,
              "ticks": ""
             }
            },
            "type": "scatterpolar"
           }
          ],
          "scatterpolargl": [
           {
            "marker": {
             "colorbar": {
              "outlinewidth": 0,
              "ticks": ""
             }
            },
            "type": "scatterpolargl"
           }
          ],
          "scatterternary": [
           {
            "marker": {
             "colorbar": {
              "outlinewidth": 0,
              "ticks": ""
             }
            },
            "type": "scatterternary"
           }
          ],
          "surface": [
           {
            "colorbar": {
             "outlinewidth": 0,
             "ticks": ""
            },
            "colorscale": [
             [
              0,
              "#0d0887"
             ],
             [
              0.1111111111111111,
              "#46039f"
             ],
             [
              0.2222222222222222,
              "#7201a8"
             ],
             [
              0.3333333333333333,
              "#9c179e"
             ],
             [
              0.4444444444444444,
              "#bd3786"
             ],
             [
              0.5555555555555556,
              "#d8576b"
             ],
             [
              0.6666666666666666,
              "#ed7953"
             ],
             [
              0.7777777777777778,
              "#fb9f3a"
             ],
             [
              0.8888888888888888,
              "#fdca26"
             ],
             [
              1,
              "#f0f921"
             ]
            ],
            "type": "surface"
           }
          ],
          "table": [
           {
            "cells": {
             "fill": {
              "color": "#EBF0F8"
             },
             "line": {
              "color": "white"
             }
            },
            "header": {
             "fill": {
              "color": "#C8D4E3"
             },
             "line": {
              "color": "white"
             }
            },
            "type": "table"
           }
          ]
         },
         "layout": {
          "annotationdefaults": {
           "arrowcolor": "#2a3f5f",
           "arrowhead": 0,
           "arrowwidth": 1
          },
          "autotypenumbers": "strict",
          "coloraxis": {
           "colorbar": {
            "outlinewidth": 0,
            "ticks": ""
           }
          },
          "colorscale": {
           "diverging": [
            [
             0,
             "#8e0152"
            ],
            [
             0.1,
             "#c51b7d"
            ],
            [
             0.2,
             "#de77ae"
            ],
            [
             0.3,
             "#f1b6da"
            ],
            [
             0.4,
             "#fde0ef"
            ],
            [
             0.5,
             "#f7f7f7"
            ],
            [
             0.6,
             "#e6f5d0"
            ],
            [
             0.7,
             "#b8e186"
            ],
            [
             0.8,
             "#7fbc41"
            ],
            [
             0.9,
             "#4d9221"
            ],
            [
             1,
             "#276419"
            ]
           ],
           "sequential": [
            [
             0,
             "#0d0887"
            ],
            [
             0.1111111111111111,
             "#46039f"
            ],
            [
             0.2222222222222222,
             "#7201a8"
            ],
            [
             0.3333333333333333,
             "#9c179e"
            ],
            [
             0.4444444444444444,
             "#bd3786"
            ],
            [
             0.5555555555555556,
             "#d8576b"
            ],
            [
             0.6666666666666666,
             "#ed7953"
            ],
            [
             0.7777777777777778,
             "#fb9f3a"
            ],
            [
             0.8888888888888888,
             "#fdca26"
            ],
            [
             1,
             "#f0f921"
            ]
           ],
           "sequentialminus": [
            [
             0,
             "#0d0887"
            ],
            [
             0.1111111111111111,
             "#46039f"
            ],
            [
             0.2222222222222222,
             "#7201a8"
            ],
            [
             0.3333333333333333,
             "#9c179e"
            ],
            [
             0.4444444444444444,
             "#bd3786"
            ],
            [
             0.5555555555555556,
             "#d8576b"
            ],
            [
             0.6666666666666666,
             "#ed7953"
            ],
            [
             0.7777777777777778,
             "#fb9f3a"
            ],
            [
             0.8888888888888888,
             "#fdca26"
            ],
            [
             1,
             "#f0f921"
            ]
           ]
          },
          "colorway": [
           "#636efa",
           "#EF553B",
           "#00cc96",
           "#ab63fa",
           "#FFA15A",
           "#19d3f3",
           "#FF6692",
           "#B6E880",
           "#FF97FF",
           "#FECB52"
          ],
          "font": {
           "color": "#2a3f5f"
          },
          "geo": {
           "bgcolor": "white",
           "lakecolor": "white",
           "landcolor": "#E5ECF6",
           "showlakes": true,
           "showland": true,
           "subunitcolor": "white"
          },
          "hoverlabel": {
           "align": "left"
          },
          "hovermode": "closest",
          "mapbox": {
           "style": "light"
          },
          "paper_bgcolor": "white",
          "plot_bgcolor": "#E5ECF6",
          "polar": {
           "angularaxis": {
            "gridcolor": "white",
            "linecolor": "white",
            "ticks": ""
           },
           "bgcolor": "#E5ECF6",
           "radialaxis": {
            "gridcolor": "white",
            "linecolor": "white",
            "ticks": ""
           }
          },
          "scene": {
           "xaxis": {
            "backgroundcolor": "#E5ECF6",
            "gridcolor": "white",
            "gridwidth": 2,
            "linecolor": "white",
            "showbackground": true,
            "ticks": "",
            "zerolinecolor": "white"
           },
           "yaxis": {
            "backgroundcolor": "#E5ECF6",
            "gridcolor": "white",
            "gridwidth": 2,
            "linecolor": "white",
            "showbackground": true,
            "ticks": "",
            "zerolinecolor": "white"
           },
           "zaxis": {
            "backgroundcolor": "#E5ECF6",
            "gridcolor": "white",
            "gridwidth": 2,
            "linecolor": "white",
            "showbackground": true,
            "ticks": "",
            "zerolinecolor": "white"
           }
          },
          "shapedefaults": {
           "line": {
            "color": "#2a3f5f"
           }
          },
          "ternary": {
           "aaxis": {
            "gridcolor": "white",
            "linecolor": "white",
            "ticks": ""
           },
           "baxis": {
            "gridcolor": "white",
            "linecolor": "white",
            "ticks": ""
           },
           "bgcolor": "#E5ECF6",
           "caxis": {
            "gridcolor": "white",
            "linecolor": "white",
            "ticks": ""
           }
          },
          "title": {
           "x": 0.05
          },
          "xaxis": {
           "automargin": true,
           "gridcolor": "white",
           "linecolor": "white",
           "ticks": "",
           "title": {
            "standoff": 15
           },
           "zerolinecolor": "white",
           "zerolinewidth": 2
          },
          "yaxis": {
           "automargin": true,
           "gridcolor": "white",
           "linecolor": "white",
           "ticks": "",
           "title": {
            "standoff": 15
           },
           "zerolinecolor": "white",
           "zerolinewidth": 2
          }
         }
        },
        "title": {
         "text": "GANTT Chart"
        },
        "xaxis": {
         "range": [
          "1970-01-01T01:13:30",
          "1970-01-02T00:59:02"
         ],
         "title": {
          "font": {
           "color": "#7f7f7f",
           "family": "Courier New, monospace",
           "size": 18
          },
          "text": "Time"
         }
        },
        "yaxis": {
         "title": {
          "font": {
           "color": "#7f7f7f",
           "family": "Courier New, monospace",
           "size": 18
          },
          "text": "Activities"
         }
        }
       }
      },
      "text/html": [
       "<div>                            <div id=\"f0c4089d-18ca-4e4d-b0aa-ff8803802896\" class=\"plotly-graph-div\" style=\"height:525px; width:100%;\"></div>            <script type=\"text/javascript\">                require([\"plotly\"], function(Plotly) {                    window.PLOTLYENV=window.PLOTLYENV || {};                                    if (document.getElementById(\"f0c4089d-18ca-4e4d-b0aa-ff8803802896\")) {                    Plotly.newPlot(                        \"f0c4089d-18ca-4e4d-b0aa-ff8803802896\",                        [{\"connectgaps\":false,\"hoverinfo\":\"y+name\",\"line\":{\"color\":\"rgb(196,19,141)\",\"width\":10},\"mode\":\"lines\",\"name\":\"loading:barge_0\",\"x\":[\"1970-01-01T01:13:30\",\"1970-01-01T01:13:30\",\"1970-01-01T01:46:50\",\"1970-01-01T01:46:50\",\"1970-01-01T01:46:50\",\"1970-01-01T04:13:50\",\"1970-01-01T04:13:50\",\"1970-01-01T04:47:10\",\"1970-01-01T04:47:10\",\"1970-01-01T04:47:10\",\"1970-01-01T07:14:10\",\"1970-01-01T07:14:10\",\"1970-01-01T07:47:30\",\"1970-01-01T07:47:30\",\"1970-01-01T07:47:30\",\"1970-01-01T10:14:30\",\"1970-01-01T10:14:30\",\"1970-01-01T10:47:50\",\"1970-01-01T10:47:50\",\"1970-01-01T10:47:50\",\"1970-01-01T13:14:50\",\"1970-01-01T13:14:50\",\"1970-01-01T13:48:10\",\"1970-01-01T13:48:10\",\"1970-01-01T13:48:10\",\"1970-01-01T16:15:10\",\"1970-01-01T16:15:10\",\"1970-01-01T16:48:30\",\"1970-01-01T16:48:30\",\"1970-01-01T16:48:30\",\"1970-01-01T19:15:30\",\"1970-01-01T19:15:30\",\"1970-01-01T19:48:50\",\"1970-01-01T19:48:50\",\"1970-01-01T19:48:50\",\"1970-01-01T22:19:26\",\"1970-01-01T22:19:26\",\"1970-01-01T22:52:46\",\"1970-01-01T22:52:46\",\"1970-01-01T22:52:46\",\"1970-01-01T01:13:30\",\"1970-01-01T01:13:30\",\"1970-01-01T01:46:50\",\"1970-01-01T01:46:50\",\"1970-01-01T01:46:50\",\"1970-01-01T04:13:50\",\"1970-01-01T04:13:50\",\"1970-01-01T04:47:10\",\"1970-01-01T04:47:10\",\"1970-01-01T04:47:10\",\"1970-01-01T07:14:10\",\"1970-01-01T07:14:10\",\"1970-01-01T07:47:30\",\"1970-01-01T07:47:30\",\"1970-01-01T07:47:30\",\"1970-01-01T10:14:30\",\"1970-01-01T10:14:30\",\"1970-01-01T10:47:50\",\"1970-01-01T10:47:50\",\"1970-01-01T10:47:50\",\"1970-01-01T13:14:50\",\"1970-01-01T13:14:50\",\"1970-01-01T13:48:10\",\"1970-01-01T13:48:10\",\"1970-01-01T13:48:10\",\"1970-01-01T16:15:10\",\"1970-01-01T16:15:10\",\"1970-01-01T16:48:30\",\"1970-01-01T16:48:30\",\"1970-01-01T16:48:30\",\"1970-01-01T19:15:30\",\"1970-01-01T19:15:30\",\"1970-01-01T19:48:50\",\"1970-01-01T19:48:50\",\"1970-01-01T19:48:50\",\"1970-01-01T22:19:26\",\"1970-01-01T22:19:26\",\"1970-01-01T22:52:46\",\"1970-01-01T22:52:46\",\"1970-01-01T22:52:46\"],\"y\":[\"loading:barge_0\",\"loading:barge_0\",\"loading:barge_0\",\"loading:barge_0\",null,\"loading:barge_0\",\"loading:barge_0\",\"loading:barge_0\",\"loading:barge_0\",null,\"loading:barge_0\",\"loading:barge_0\",\"loading:barge_0\",\"loading:barge_0\",null,\"loading:barge_0\",\"loading:barge_0\",\"loading:barge_0\",\"loading:barge_0\",null,\"loading:barge_0\",\"loading:barge_0\",\"loading:barge_0\",\"loading:barge_0\",null,\"loading:barge_0\",\"loading:barge_0\",\"loading:barge_0\",\"loading:barge_0\",null,\"loading:barge_0\",\"loading:barge_0\",\"loading:barge_0\",\"loading:barge_0\",null,\"loading:barge_0\",\"loading:barge_0\",\"loading:barge_0\",\"loading:barge_0\",null,\"loading:barge_0\",\"loading:barge_0\",\"loading:barge_0\",\"loading:barge_0\",null,\"loading:barge_0\",\"loading:barge_0\",\"loading:barge_0\",\"loading:barge_0\",null,\"loading:barge_0\",\"loading:barge_0\",\"loading:barge_0\",\"loading:barge_0\",null,\"loading:barge_0\",\"loading:barge_0\",\"loading:barge_0\",\"loading:barge_0\",null,\"loading:barge_0\",\"loading:barge_0\",\"loading:barge_0\",\"loading:barge_0\",null,\"loading:barge_0\",\"loading:barge_0\",\"loading:barge_0\",\"loading:barge_0\",null,\"loading:barge_0\",\"loading:barge_0\",\"loading:barge_0\",\"loading:barge_0\",null,\"loading:barge_0\",\"loading:barge_0\",\"loading:barge_0\",\"loading:barge_0\",null],\"type\":\"scatter\"},{\"connectgaps\":false,\"hoverinfo\":\"y+name\",\"line\":{\"color\":\"rgb(238,61,183)\",\"width\":10},\"mode\":\"lines\",\"name\":\"loading:barge_0\",\"x\":[\"1970-01-01T01:13:30\",\"1970-01-01T01:13:30\",\"1970-01-01T01:46:50\",\"1970-01-01T01:46:50\",\"1970-01-01T01:46:50\",\"1970-01-01T04:13:50\",\"1970-01-01T04:13:50\",\"1970-01-01T04:47:10\",\"1970-01-01T04:47:10\",\"1970-01-01T04:47:10\",\"1970-01-01T07:14:10\",\"1970-01-01T07:14:10\",\"1970-01-01T07:47:30\",\"1970-01-01T07:47:30\",\"1970-01-01T07:47:30\",\"1970-01-01T10:14:30\",\"1970-01-01T10:14:30\",\"1970-01-01T10:47:50\",\"1970-01-01T10:47:50\",\"1970-01-01T10:47:50\",\"1970-01-01T13:14:50\",\"1970-01-01T13:14:50\",\"1970-01-01T13:48:10\",\"1970-01-01T13:48:10\",\"1970-01-01T13:48:10\",\"1970-01-01T16:15:10\",\"1970-01-01T16:15:10\",\"1970-01-01T16:48:30\",\"1970-01-01T16:48:30\",\"1970-01-01T16:48:30\",\"1970-01-01T19:15:30\",\"1970-01-01T19:15:30\",\"1970-01-01T19:48:50\",\"1970-01-01T19:48:50\",\"1970-01-01T19:48:50\",\"1970-01-01T22:19:26\",\"1970-01-01T22:19:26\",\"1970-01-01T22:52:46\",\"1970-01-01T22:52:46\",\"1970-01-01T22:52:46\",\"1970-01-01T01:13:30\",\"1970-01-01T01:13:30\",\"1970-01-01T01:46:50\",\"1970-01-01T01:46:50\",\"1970-01-01T01:46:50\",\"1970-01-01T04:13:50\",\"1970-01-01T04:13:50\",\"1970-01-01T04:47:10\",\"1970-01-01T04:47:10\",\"1970-01-01T04:47:10\",\"1970-01-01T07:14:10\",\"1970-01-01T07:14:10\",\"1970-01-01T07:47:30\",\"1970-01-01T07:47:30\",\"1970-01-01T07:47:30\",\"1970-01-01T10:14:30\",\"1970-01-01T10:14:30\",\"1970-01-01T10:47:50\",\"1970-01-01T10:47:50\",\"1970-01-01T10:47:50\",\"1970-01-01T13:14:50\",\"1970-01-01T13:14:50\",\"1970-01-01T13:48:10\",\"1970-01-01T13:48:10\",\"1970-01-01T13:48:10\",\"1970-01-01T16:15:10\",\"1970-01-01T16:15:10\",\"1970-01-01T16:48:30\",\"1970-01-01T16:48:30\",\"1970-01-01T16:48:30\",\"1970-01-01T19:15:30\",\"1970-01-01T19:15:30\",\"1970-01-01T19:48:50\",\"1970-01-01T19:48:50\",\"1970-01-01T19:48:50\",\"1970-01-01T22:19:26\",\"1970-01-01T22:19:26\",\"1970-01-01T22:52:46\",\"1970-01-01T22:52:46\",\"1970-01-01T22:52:46\"],\"y\":[\"loading:barge_0\",\"loading:barge_0\",\"loading:barge_0\",\"loading:barge_0\",null,\"loading:barge_0\",\"loading:barge_0\",\"loading:barge_0\",\"loading:barge_0\",null,\"loading:barge_0\",\"loading:barge_0\",\"loading:barge_0\",\"loading:barge_0\",null,\"loading:barge_0\",\"loading:barge_0\",\"loading:barge_0\",\"loading:barge_0\",null,\"loading:barge_0\",\"loading:barge_0\",\"loading:barge_0\",\"loading:barge_0\",null,\"loading:barge_0\",\"loading:barge_0\",\"loading:barge_0\",\"loading:barge_0\",null,\"loading:barge_0\",\"loading:barge_0\",\"loading:barge_0\",\"loading:barge_0\",null,\"loading:barge_0\",\"loading:barge_0\",\"loading:barge_0\",\"loading:barge_0\",null,\"loading:barge_0\",\"loading:barge_0\",\"loading:barge_0\",\"loading:barge_0\",null,\"loading:barge_0\",\"loading:barge_0\",\"loading:barge_0\",\"loading:barge_0\",null,\"loading:barge_0\",\"loading:barge_0\",\"loading:barge_0\",\"loading:barge_0\",null,\"loading:barge_0\",\"loading:barge_0\",\"loading:barge_0\",\"loading:barge_0\",null,\"loading:barge_0\",\"loading:barge_0\",\"loading:barge_0\",\"loading:barge_0\",null,\"loading:barge_0\",\"loading:barge_0\",\"loading:barge_0\",\"loading:barge_0\",null,\"loading:barge_0\",\"loading:barge_0\",\"loading:barge_0\",\"loading:barge_0\",null,\"loading:barge_0\",\"loading:barge_0\",\"loading:barge_0\",\"loading:barge_0\",null],\"type\":\"scatter\"},{\"connectgaps\":false,\"hoverinfo\":\"y+name\",\"line\":{\"color\":\"rgb(24,103,225)\",\"width\":10},\"mode\":\"lines\",\"name\":\"loading:barge_1\",\"x\":[\"1970-01-01T01:46:50\",\"1970-01-01T01:46:50\",\"1970-01-01T02:28:30\",\"1970-01-01T02:28:30\",\"1970-01-01T02:28:30\",\"1970-01-01T04:59:46\",\"1970-01-01T04:59:46\",\"1970-01-01T05:41:26\",\"1970-01-01T05:41:26\",\"1970-01-01T05:41:26\",\"1970-01-01T08:12:42\",\"1970-01-01T08:12:42\",\"1970-01-01T08:54:22\",\"1970-01-01T08:54:22\",\"1970-01-01T08:54:22\",\"1970-01-01T11:25:38\",\"1970-01-01T11:25:38\",\"1970-01-01T12:07:18\",\"1970-01-01T12:07:18\",\"1970-01-01T12:07:18\",\"1970-01-01T14:38:34\",\"1970-01-01T14:38:34\",\"1970-01-01T15:20:14\",\"1970-01-01T15:20:14\",\"1970-01-01T15:20:14\",\"1970-01-01T17:51:30\",\"1970-01-01T17:51:30\",\"1970-01-01T18:33:10\",\"1970-01-01T18:33:10\",\"1970-01-01T18:33:10\",\"1970-01-01T21:04:26\",\"1970-01-01T21:04:26\",\"1970-01-01T21:46:06\",\"1970-01-01T21:46:06\",\"1970-01-01T21:46:06\",\"1970-01-02T00:17:22\",\"1970-01-02T00:17:22\",\"1970-01-02T00:59:02\",\"1970-01-02T00:59:02\",\"1970-01-02T00:59:02\",\"1970-01-01T01:46:50\",\"1970-01-01T01:46:50\",\"1970-01-01T02:28:30\",\"1970-01-01T02:28:30\",\"1970-01-01T02:28:30\",\"1970-01-01T04:59:46\",\"1970-01-01T04:59:46\",\"1970-01-01T05:41:26\",\"1970-01-01T05:41:26\",\"1970-01-01T05:41:26\",\"1970-01-01T08:12:42\",\"1970-01-01T08:12:42\",\"1970-01-01T08:54:22\",\"1970-01-01T08:54:22\",\"1970-01-01T08:54:22\",\"1970-01-01T11:25:38\",\"1970-01-01T11:25:38\",\"1970-01-01T12:07:18\",\"1970-01-01T12:07:18\",\"1970-01-01T12:07:18\",\"1970-01-01T14:38:34\",\"1970-01-01T14:38:34\",\"1970-01-01T15:20:14\",\"1970-01-01T15:20:14\",\"1970-01-01T15:20:14\",\"1970-01-01T17:51:30\",\"1970-01-01T17:51:30\",\"1970-01-01T18:33:10\",\"1970-01-01T18:33:10\",\"1970-01-01T18:33:10\",\"1970-01-01T21:04:26\",\"1970-01-01T21:04:26\",\"1970-01-01T21:46:06\",\"1970-01-01T21:46:06\",\"1970-01-01T21:46:06\",\"1970-01-02T00:17:22\",\"1970-01-02T00:17:22\",\"1970-01-02T00:59:02\",\"1970-01-02T00:59:02\",\"1970-01-02T00:59:02\"],\"y\":[\"loading:barge_1\",\"loading:barge_1\",\"loading:barge_1\",\"loading:barge_1\",null,\"loading:barge_1\",\"loading:barge_1\",\"loading:barge_1\",\"loading:barge_1\",null,\"loading:barge_1\",\"loading:barge_1\",\"loading:barge_1\",\"loading:barge_1\",null,\"loading:barge_1\",\"loading:barge_1\",\"loading:barge_1\",\"loading:barge_1\",null,\"loading:barge_1\",\"loading:barge_1\",\"loading:barge_1\",\"loading:barge_1\",null,\"loading:barge_1\",\"loading:barge_1\",\"loading:barge_1\",\"loading:barge_1\",null,\"loading:barge_1\",\"loading:barge_1\",\"loading:barge_1\",\"loading:barge_1\",null,\"loading:barge_1\",\"loading:barge_1\",\"loading:barge_1\",\"loading:barge_1\",null,\"loading:barge_1\",\"loading:barge_1\",\"loading:barge_1\",\"loading:barge_1\",null,\"loading:barge_1\",\"loading:barge_1\",\"loading:barge_1\",\"loading:barge_1\",null,\"loading:barge_1\",\"loading:barge_1\",\"loading:barge_1\",\"loading:barge_1\",null,\"loading:barge_1\",\"loading:barge_1\",\"loading:barge_1\",\"loading:barge_1\",null,\"loading:barge_1\",\"loading:barge_1\",\"loading:barge_1\",\"loading:barge_1\",null,\"loading:barge_1\",\"loading:barge_1\",\"loading:barge_1\",\"loading:barge_1\",null,\"loading:barge_1\",\"loading:barge_1\",\"loading:barge_1\",\"loading:barge_1\",null,\"loading:barge_1\",\"loading:barge_1\",\"loading:barge_1\",\"loading:barge_1\",null],\"type\":\"scatter\"},{\"connectgaps\":false,\"hoverinfo\":\"y+name\",\"line\":{\"color\":\"rgb(66,145,11)\",\"width\":10},\"mode\":\"lines\",\"name\":\"loading:barge_1\",\"x\":[\"1970-01-01T01:46:50\",\"1970-01-01T01:46:50\",\"1970-01-01T02:28:30\",\"1970-01-01T02:28:30\",\"1970-01-01T02:28:30\",\"1970-01-01T04:59:46\",\"1970-01-01T04:59:46\",\"1970-01-01T05:41:26\",\"1970-01-01T05:41:26\",\"1970-01-01T05:41:26\",\"1970-01-01T08:12:42\",\"1970-01-01T08:12:42\",\"1970-01-01T08:54:22\",\"1970-01-01T08:54:22\",\"1970-01-01T08:54:22\",\"1970-01-01T11:25:38\",\"1970-01-01T11:25:38\",\"1970-01-01T12:07:18\",\"1970-01-01T12:07:18\",\"1970-01-01T12:07:18\",\"1970-01-01T14:38:34\",\"1970-01-01T14:38:34\",\"1970-01-01T15:20:14\",\"1970-01-01T15:20:14\",\"1970-01-01T15:20:14\",\"1970-01-01T17:51:30\",\"1970-01-01T17:51:30\",\"1970-01-01T18:33:10\",\"1970-01-01T18:33:10\",\"1970-01-01T18:33:10\",\"1970-01-01T21:04:26\",\"1970-01-01T21:04:26\",\"1970-01-01T21:46:06\",\"1970-01-01T21:46:06\",\"1970-01-01T21:46:06\",\"1970-01-02T00:17:22\",\"1970-01-02T00:17:22\",\"1970-01-02T00:59:02\",\"1970-01-02T00:59:02\",\"1970-01-02T00:59:02\",\"1970-01-01T01:46:50\",\"1970-01-01T01:46:50\",\"1970-01-01T02:28:30\",\"1970-01-01T02:28:30\",\"1970-01-01T02:28:30\",\"1970-01-01T04:59:46\",\"1970-01-01T04:59:46\",\"1970-01-01T05:41:26\",\"1970-01-01T05:41:26\",\"1970-01-01T05:41:26\",\"1970-01-01T08:12:42\",\"1970-01-01T08:12:42\",\"1970-01-01T08:54:22\",\"1970-01-01T08:54:22\",\"1970-01-01T08:54:22\",\"1970-01-01T11:25:38\",\"1970-01-01T11:25:38\",\"1970-01-01T12:07:18\",\"1970-01-01T12:07:18\",\"1970-01-01T12:07:18\",\"1970-01-01T14:38:34\",\"1970-01-01T14:38:34\",\"1970-01-01T15:20:14\",\"1970-01-01T15:20:14\",\"1970-01-01T15:20:14\",\"1970-01-01T17:51:30\",\"1970-01-01T17:51:30\",\"1970-01-01T18:33:10\",\"1970-01-01T18:33:10\",\"1970-01-01T18:33:10\",\"1970-01-01T21:04:26\",\"1970-01-01T21:04:26\",\"1970-01-01T21:46:06\",\"1970-01-01T21:46:06\",\"1970-01-01T21:46:06\",\"1970-01-02T00:17:22\",\"1970-01-02T00:17:22\",\"1970-01-02T00:59:02\",\"1970-01-02T00:59:02\",\"1970-01-02T00:59:02\"],\"y\":[\"loading:barge_1\",\"loading:barge_1\",\"loading:barge_1\",\"loading:barge_1\",null,\"loading:barge_1\",\"loading:barge_1\",\"loading:barge_1\",\"loading:barge_1\",null,\"loading:barge_1\",\"loading:barge_1\",\"loading:barge_1\",\"loading:barge_1\",null,\"loading:barge_1\",\"loading:barge_1\",\"loading:barge_1\",\"loading:barge_1\",null,\"loading:barge_1\",\"loading:barge_1\",\"loading:barge_1\",\"loading:barge_1\",null,\"loading:barge_1\",\"loading:barge_1\",\"loading:barge_1\",\"loading:barge_1\",null,\"loading:barge_1\",\"loading:barge_1\",\"loading:barge_1\",\"loading:barge_1\",null,\"loading:barge_1\",\"loading:barge_1\",\"loading:barge_1\",\"loading:barge_1\",null,\"loading:barge_1\",\"loading:barge_1\",\"loading:barge_1\",\"loading:barge_1\",null,\"loading:barge_1\",\"loading:barge_1\",\"loading:barge_1\",\"loading:barge_1\",null,\"loading:barge_1\",\"loading:barge_1\",\"loading:barge_1\",\"loading:barge_1\",null,\"loading:barge_1\",\"loading:barge_1\",\"loading:barge_1\",\"loading:barge_1\",null,\"loading:barge_1\",\"loading:barge_1\",\"loading:barge_1\",\"loading:barge_1\",null,\"loading:barge_1\",\"loading:barge_1\",\"loading:barge_1\",\"loading:barge_1\",null,\"loading:barge_1\",\"loading:barge_1\",\"loading:barge_1\",\"loading:barge_1\",null,\"loading:barge_1\",\"loading:barge_1\",\"loading:barge_1\",\"loading:barge_1\",null],\"type\":\"scatter\"},{\"connectgaps\":false,\"hoverinfo\":\"y+name\",\"line\":{\"color\":\"rgb(108,187,53)\",\"width\":10},\"mode\":\"lines\",\"name\":\"loading:barge_2\",\"x\":[\"1970-01-01T02:28:30\",\"1970-01-01T02:28:30\",\"1970-01-01T03:01:50\",\"1970-01-01T03:01:50\",\"1970-01-01T03:01:50\",\"1970-01-01T05:41:26\",\"1970-01-01T05:41:26\",\"1970-01-01T06:14:46\",\"1970-01-01T06:14:46\",\"1970-01-01T06:14:46\",\"1970-01-01T08:54:22\",\"1970-01-01T08:54:22\",\"1970-01-01T09:27:42\",\"1970-01-01T09:27:42\",\"1970-01-01T09:27:42\",\"1970-01-01T12:07:18\",\"1970-01-01T12:07:18\",\"1970-01-01T12:40:38\",\"1970-01-01T12:40:38\",\"1970-01-01T12:40:38\",\"1970-01-01T15:20:14\",\"1970-01-01T15:20:14\",\"1970-01-01T15:53:34\",\"1970-01-01T15:53:34\",\"1970-01-01T15:53:34\",\"1970-01-01T18:33:10\",\"1970-01-01T18:33:10\",\"1970-01-01T19:06:30\",\"1970-01-01T19:06:30\",\"1970-01-01T19:06:30\",\"1970-01-01T21:46:06\",\"1970-01-01T21:46:06\",\"1970-01-01T22:19:26\",\"1970-01-01T22:19:26\",\"1970-01-01T22:19:26\",\"1970-01-01T02:28:30\",\"1970-01-01T02:28:30\",\"1970-01-01T03:01:50\",\"1970-01-01T03:01:50\",\"1970-01-01T03:01:50\",\"1970-01-01T05:41:26\",\"1970-01-01T05:41:26\",\"1970-01-01T06:14:46\",\"1970-01-01T06:14:46\",\"1970-01-01T06:14:46\",\"1970-01-01T08:54:22\",\"1970-01-01T08:54:22\",\"1970-01-01T09:27:42\",\"1970-01-01T09:27:42\",\"1970-01-01T09:27:42\",\"1970-01-01T12:07:18\",\"1970-01-01T12:07:18\",\"1970-01-01T12:40:38\",\"1970-01-01T12:40:38\",\"1970-01-01T12:40:38\",\"1970-01-01T15:20:14\",\"1970-01-01T15:20:14\",\"1970-01-01T15:53:34\",\"1970-01-01T15:53:34\",\"1970-01-01T15:53:34\",\"1970-01-01T18:33:10\",\"1970-01-01T18:33:10\",\"1970-01-01T19:06:30\",\"1970-01-01T19:06:30\",\"1970-01-01T19:06:30\",\"1970-01-01T21:46:06\",\"1970-01-01T21:46:06\",\"1970-01-01T22:19:26\",\"1970-01-01T22:19:26\",\"1970-01-01T22:19:26\"],\"y\":[\"loading:barge_2\",\"loading:barge_2\",\"loading:barge_2\",\"loading:barge_2\",null,\"loading:barge_2\",\"loading:barge_2\",\"loading:barge_2\",\"loading:barge_2\",null,\"loading:barge_2\",\"loading:barge_2\",\"loading:barge_2\",\"loading:barge_2\",null,\"loading:barge_2\",\"loading:barge_2\",\"loading:barge_2\",\"loading:barge_2\",null,\"loading:barge_2\",\"loading:barge_2\",\"loading:barge_2\",\"loading:barge_2\",null,\"loading:barge_2\",\"loading:barge_2\",\"loading:barge_2\",\"loading:barge_2\",null,\"loading:barge_2\",\"loading:barge_2\",\"loading:barge_2\",\"loading:barge_2\",null,\"loading:barge_2\",\"loading:barge_2\",\"loading:barge_2\",\"loading:barge_2\",null,\"loading:barge_2\",\"loading:barge_2\",\"loading:barge_2\",\"loading:barge_2\",null,\"loading:barge_2\",\"loading:barge_2\",\"loading:barge_2\",\"loading:barge_2\",null,\"loading:barge_2\",\"loading:barge_2\",\"loading:barge_2\",\"loading:barge_2\",null,\"loading:barge_2\",\"loading:barge_2\",\"loading:barge_2\",\"loading:barge_2\",null,\"loading:barge_2\",\"loading:barge_2\",\"loading:barge_2\",\"loading:barge_2\",null,\"loading:barge_2\",\"loading:barge_2\",\"loading:barge_2\",\"loading:barge_2\",null],\"type\":\"scatter\"},{\"connectgaps\":false,\"hoverinfo\":\"y+name\",\"line\":{\"color\":\"rgb(150,229,95)\",\"width\":10},\"mode\":\"lines\",\"name\":\"loading:barge_2\",\"x\":[\"1970-01-01T02:28:30\",\"1970-01-01T02:28:30\",\"1970-01-01T03:01:50\",\"1970-01-01T03:01:50\",\"1970-01-01T03:01:50\",\"1970-01-01T05:41:26\",\"1970-01-01T05:41:26\",\"1970-01-01T06:14:46\",\"1970-01-01T06:14:46\",\"1970-01-01T06:14:46\",\"1970-01-01T08:54:22\",\"1970-01-01T08:54:22\",\"1970-01-01T09:27:42\",\"1970-01-01T09:27:42\",\"1970-01-01T09:27:42\",\"1970-01-01T12:07:18\",\"1970-01-01T12:07:18\",\"1970-01-01T12:40:38\",\"1970-01-01T12:40:38\",\"1970-01-01T12:40:38\",\"1970-01-01T15:20:14\",\"1970-01-01T15:20:14\",\"1970-01-01T15:53:34\",\"1970-01-01T15:53:34\",\"1970-01-01T15:53:34\",\"1970-01-01T18:33:10\",\"1970-01-01T18:33:10\",\"1970-01-01T19:06:30\",\"1970-01-01T19:06:30\",\"1970-01-01T19:06:30\",\"1970-01-01T21:46:06\",\"1970-01-01T21:46:06\",\"1970-01-01T22:19:26\",\"1970-01-01T22:19:26\",\"1970-01-01T22:19:26\",\"1970-01-01T02:28:30\",\"1970-01-01T02:28:30\",\"1970-01-01T03:01:50\",\"1970-01-01T03:01:50\",\"1970-01-01T03:01:50\",\"1970-01-01T05:41:26\",\"1970-01-01T05:41:26\",\"1970-01-01T06:14:46\",\"1970-01-01T06:14:46\",\"1970-01-01T06:14:46\",\"1970-01-01T08:54:22\",\"1970-01-01T08:54:22\",\"1970-01-01T09:27:42\",\"1970-01-01T09:27:42\",\"1970-01-01T09:27:42\",\"1970-01-01T12:07:18\",\"1970-01-01T12:07:18\",\"1970-01-01T12:40:38\",\"1970-01-01T12:40:38\",\"1970-01-01T12:40:38\",\"1970-01-01T15:20:14\",\"1970-01-01T15:20:14\",\"1970-01-01T15:53:34\",\"1970-01-01T15:53:34\",\"1970-01-01T15:53:34\",\"1970-01-01T18:33:10\",\"1970-01-01T18:33:10\",\"1970-01-01T19:06:30\",\"1970-01-01T19:06:30\",\"1970-01-01T19:06:30\",\"1970-01-01T21:46:06\",\"1970-01-01T21:46:06\",\"1970-01-01T22:19:26\",\"1970-01-01T22:19:26\",\"1970-01-01T22:19:26\"],\"y\":[\"loading:barge_2\",\"loading:barge_2\",\"loading:barge_2\",\"loading:barge_2\",null,\"loading:barge_2\",\"loading:barge_2\",\"loading:barge_2\",\"loading:barge_2\",null,\"loading:barge_2\",\"loading:barge_2\",\"loading:barge_2\",\"loading:barge_2\",null,\"loading:barge_2\",\"loading:barge_2\",\"loading:barge_2\",\"loading:barge_2\",null,\"loading:barge_2\",\"loading:barge_2\",\"loading:barge_2\",\"loading:barge_2\",null,\"loading:barge_2\",\"loading:barge_2\",\"loading:barge_2\",\"loading:barge_2\",null,\"loading:barge_2\",\"loading:barge_2\",\"loading:barge_2\",\"loading:barge_2\",null,\"loading:barge_2\",\"loading:barge_2\",\"loading:barge_2\",\"loading:barge_2\",null,\"loading:barge_2\",\"loading:barge_2\",\"loading:barge_2\",\"loading:barge_2\",null,\"loading:barge_2\",\"loading:barge_2\",\"loading:barge_2\",\"loading:barge_2\",null,\"loading:barge_2\",\"loading:barge_2\",\"loading:barge_2\",\"loading:barge_2\",null,\"loading:barge_2\",\"loading:barge_2\",\"loading:barge_2\",\"loading:barge_2\",null,\"loading:barge_2\",\"loading:barge_2\",\"loading:barge_2\",\"loading:barge_2\",null,\"loading:barge_2\",\"loading:barge_2\",\"loading:barge_2\",\"loading:barge_2\",null],\"type\":\"scatter\"}],                        {\"hovermode\":\"closest\",\"legend\":{\"orientation\":\"h\",\"x\":0,\"y\":-0.2},\"template\":{\"data\":{\"barpolar\":[{\"marker\":{\"line\":{\"color\":\"#E5ECF6\",\"width\":0.5},\"pattern\":{\"fillmode\":\"overlay\",\"size\":10,\"solidity\":0.2}},\"type\":\"barpolar\"}],\"bar\":[{\"error_x\":{\"color\":\"#2a3f5f\"},\"error_y\":{\"color\":\"#2a3f5f\"},\"marker\":{\"line\":{\"color\":\"#E5ECF6\",\"width\":0.5},\"pattern\":{\"fillmode\":\"overlay\",\"size\":10,\"solidity\":0.2}},\"type\":\"bar\"}],\"carpet\":[{\"aaxis\":{\"endlinecolor\":\"#2a3f5f\",\"gridcolor\":\"white\",\"linecolor\":\"white\",\"minorgridcolor\":\"white\",\"startlinecolor\":\"#2a3f5f\"},\"baxis\":{\"endlinecolor\":\"#2a3f5f\",\"gridcolor\":\"white\",\"linecolor\":\"white\",\"minorgridcolor\":\"white\",\"startlinecolor\":\"#2a3f5f\"},\"type\":\"carpet\"}],\"choropleth\":[{\"colorbar\":{\"outlinewidth\":0,\"ticks\":\"\"},\"type\":\"choropleth\"}],\"contourcarpet\":[{\"colorbar\":{\"outlinewidth\":0,\"ticks\":\"\"},\"type\":\"contourcarpet\"}],\"contour\":[{\"colorbar\":{\"outlinewidth\":0,\"ticks\":\"\"},\"colorscale\":[[0.0,\"#0d0887\"],[0.1111111111111111,\"#46039f\"],[0.2222222222222222,\"#7201a8\"],[0.3333333333333333,\"#9c179e\"],[0.4444444444444444,\"#bd3786\"],[0.5555555555555556,\"#d8576b\"],[0.6666666666666666,\"#ed7953\"],[0.7777777777777778,\"#fb9f3a\"],[0.8888888888888888,\"#fdca26\"],[1.0,\"#f0f921\"]],\"type\":\"contour\"}],\"heatmapgl\":[{\"colorbar\":{\"outlinewidth\":0,\"ticks\":\"\"},\"colorscale\":[[0.0,\"#0d0887\"],[0.1111111111111111,\"#46039f\"],[0.2222222222222222,\"#7201a8\"],[0.3333333333333333,\"#9c179e\"],[0.4444444444444444,\"#bd3786\"],[0.5555555555555556,\"#d8576b\"],[0.6666666666666666,\"#ed7953\"],[0.7777777777777778,\"#fb9f3a\"],[0.8888888888888888,\"#fdca26\"],[1.0,\"#f0f921\"]],\"type\":\"heatmapgl\"}],\"heatmap\":[{\"colorbar\":{\"outlinewidth\":0,\"ticks\":\"\"},\"colorscale\":[[0.0,\"#0d0887\"],[0.1111111111111111,\"#46039f\"],[0.2222222222222222,\"#7201a8\"],[0.3333333333333333,\"#9c179e\"],[0.4444444444444444,\"#bd3786\"],[0.5555555555555556,\"#d8576b\"],[0.6666666666666666,\"#ed7953\"],[0.7777777777777778,\"#fb9f3a\"],[0.8888888888888888,\"#fdca26\"],[1.0,\"#f0f921\"]],\"type\":\"heatmap\"}],\"histogram2dcontour\":[{\"colorbar\":{\"outlinewidth\":0,\"ticks\":\"\"},\"colorscale\":[[0.0,\"#0d0887\"],[0.1111111111111111,\"#46039f\"],[0.2222222222222222,\"#7201a8\"],[0.3333333333333333,\"#9c179e\"],[0.4444444444444444,\"#bd3786\"],[0.5555555555555556,\"#d8576b\"],[0.6666666666666666,\"#ed7953\"],[0.7777777777777778,\"#fb9f3a\"],[0.8888888888888888,\"#fdca26\"],[1.0,\"#f0f921\"]],\"type\":\"histogram2dcontour\"}],\"histogram2d\":[{\"colorbar\":{\"outlinewidth\":0,\"ticks\":\"\"},\"colorscale\":[[0.0,\"#0d0887\"],[0.1111111111111111,\"#46039f\"],[0.2222222222222222,\"#7201a8\"],[0.3333333333333333,\"#9c179e\"],[0.4444444444444444,\"#bd3786\"],[0.5555555555555556,\"#d8576b\"],[0.6666666666666666,\"#ed7953\"],[0.7777777777777778,\"#fb9f3a\"],[0.8888888888888888,\"#fdca26\"],[1.0,\"#f0f921\"]],\"type\":\"histogram2d\"}],\"histogram\":[{\"marker\":{\"pattern\":{\"fillmode\":\"overlay\",\"size\":10,\"solidity\":0.2}},\"type\":\"histogram\"}],\"mesh3d\":[{\"colorbar\":{\"outlinewidth\":0,\"ticks\":\"\"},\"type\":\"mesh3d\"}],\"parcoords\":[{\"line\":{\"colorbar\":{\"outlinewidth\":0,\"ticks\":\"\"}},\"type\":\"parcoords\"}],\"pie\":[{\"automargin\":true,\"type\":\"pie\"}],\"scatter3d\":[{\"line\":{\"colorbar\":{\"outlinewidth\":0,\"ticks\":\"\"}},\"marker\":{\"colorbar\":{\"outlinewidth\":0,\"ticks\":\"\"}},\"type\":\"scatter3d\"}],\"scattercarpet\":[{\"marker\":{\"colorbar\":{\"outlinewidth\":0,\"ticks\":\"\"}},\"type\":\"scattercarpet\"}],\"scattergeo\":[{\"marker\":{\"colorbar\":{\"outlinewidth\":0,\"ticks\":\"\"}},\"type\":\"scattergeo\"}],\"scattergl\":[{\"marker\":{\"colorbar\":{\"outlinewidth\":0,\"ticks\":\"\"}},\"type\":\"scattergl\"}],\"scattermapbox\":[{\"marker\":{\"colorbar\":{\"outlinewidth\":0,\"ticks\":\"\"}},\"type\":\"scattermapbox\"}],\"scatterpolargl\":[{\"marker\":{\"colorbar\":{\"outlinewidth\":0,\"ticks\":\"\"}},\"type\":\"scatterpolargl\"}],\"scatterpolar\":[{\"marker\":{\"colorbar\":{\"outlinewidth\":0,\"ticks\":\"\"}},\"type\":\"scatterpolar\"}],\"scatter\":[{\"marker\":{\"colorbar\":{\"outlinewidth\":0,\"ticks\":\"\"}},\"type\":\"scatter\"}],\"scatterternary\":[{\"marker\":{\"colorbar\":{\"outlinewidth\":0,\"ticks\":\"\"}},\"type\":\"scatterternary\"}],\"surface\":[{\"colorbar\":{\"outlinewidth\":0,\"ticks\":\"\"},\"colorscale\":[[0.0,\"#0d0887\"],[0.1111111111111111,\"#46039f\"],[0.2222222222222222,\"#7201a8\"],[0.3333333333333333,\"#9c179e\"],[0.4444444444444444,\"#bd3786\"],[0.5555555555555556,\"#d8576b\"],[0.6666666666666666,\"#ed7953\"],[0.7777777777777778,\"#fb9f3a\"],[0.8888888888888888,\"#fdca26\"],[1.0,\"#f0f921\"]],\"type\":\"surface\"}],\"table\":[{\"cells\":{\"fill\":{\"color\":\"#EBF0F8\"},\"line\":{\"color\":\"white\"}},\"header\":{\"fill\":{\"color\":\"#C8D4E3\"},\"line\":{\"color\":\"white\"}},\"type\":\"table\"}]},\"layout\":{\"annotationdefaults\":{\"arrowcolor\":\"#2a3f5f\",\"arrowhead\":0,\"arrowwidth\":1},\"autotypenumbers\":\"strict\",\"coloraxis\":{\"colorbar\":{\"outlinewidth\":0,\"ticks\":\"\"}},\"colorscale\":{\"diverging\":[[0,\"#8e0152\"],[0.1,\"#c51b7d\"],[0.2,\"#de77ae\"],[0.3,\"#f1b6da\"],[0.4,\"#fde0ef\"],[0.5,\"#f7f7f7\"],[0.6,\"#e6f5d0\"],[0.7,\"#b8e186\"],[0.8,\"#7fbc41\"],[0.9,\"#4d9221\"],[1,\"#276419\"]],\"sequential\":[[0.0,\"#0d0887\"],[0.1111111111111111,\"#46039f\"],[0.2222222222222222,\"#7201a8\"],[0.3333333333333333,\"#9c179e\"],[0.4444444444444444,\"#bd3786\"],[0.5555555555555556,\"#d8576b\"],[0.6666666666666666,\"#ed7953\"],[0.7777777777777778,\"#fb9f3a\"],[0.8888888888888888,\"#fdca26\"],[1.0,\"#f0f921\"]],\"sequentialminus\":[[0.0,\"#0d0887\"],[0.1111111111111111,\"#46039f\"],[0.2222222222222222,\"#7201a8\"],[0.3333333333333333,\"#9c179e\"],[0.4444444444444444,\"#bd3786\"],[0.5555555555555556,\"#d8576b\"],[0.6666666666666666,\"#ed7953\"],[0.7777777777777778,\"#fb9f3a\"],[0.8888888888888888,\"#fdca26\"],[1.0,\"#f0f921\"]]},\"colorway\":[\"#636efa\",\"#EF553B\",\"#00cc96\",\"#ab63fa\",\"#FFA15A\",\"#19d3f3\",\"#FF6692\",\"#B6E880\",\"#FF97FF\",\"#FECB52\"],\"font\":{\"color\":\"#2a3f5f\"},\"geo\":{\"bgcolor\":\"white\",\"lakecolor\":\"white\",\"landcolor\":\"#E5ECF6\",\"showlakes\":true,\"showland\":true,\"subunitcolor\":\"white\"},\"hoverlabel\":{\"align\":\"left\"},\"hovermode\":\"closest\",\"mapbox\":{\"style\":\"light\"},\"paper_bgcolor\":\"white\",\"plot_bgcolor\":\"#E5ECF6\",\"polar\":{\"angularaxis\":{\"gridcolor\":\"white\",\"linecolor\":\"white\",\"ticks\":\"\"},\"bgcolor\":\"#E5ECF6\",\"radialaxis\":{\"gridcolor\":\"white\",\"linecolor\":\"white\",\"ticks\":\"\"}},\"scene\":{\"xaxis\":{\"backgroundcolor\":\"#E5ECF6\",\"gridcolor\":\"white\",\"gridwidth\":2,\"linecolor\":\"white\",\"showbackground\":true,\"ticks\":\"\",\"zerolinecolor\":\"white\"},\"yaxis\":{\"backgroundcolor\":\"#E5ECF6\",\"gridcolor\":\"white\",\"gridwidth\":2,\"linecolor\":\"white\",\"showbackground\":true,\"ticks\":\"\",\"zerolinecolor\":\"white\"},\"zaxis\":{\"backgroundcolor\":\"#E5ECF6\",\"gridcolor\":\"white\",\"gridwidth\":2,\"linecolor\":\"white\",\"showbackground\":true,\"ticks\":\"\",\"zerolinecolor\":\"white\"}},\"shapedefaults\":{\"line\":{\"color\":\"#2a3f5f\"}},\"ternary\":{\"aaxis\":{\"gridcolor\":\"white\",\"linecolor\":\"white\",\"ticks\":\"\"},\"baxis\":{\"gridcolor\":\"white\",\"linecolor\":\"white\",\"ticks\":\"\"},\"bgcolor\":\"#E5ECF6\",\"caxis\":{\"gridcolor\":\"white\",\"linecolor\":\"white\",\"ticks\":\"\"}},\"title\":{\"x\":0.05},\"xaxis\":{\"automargin\":true,\"gridcolor\":\"white\",\"linecolor\":\"white\",\"ticks\":\"\",\"title\":{\"standoff\":15},\"zerolinecolor\":\"white\",\"zerolinewidth\":2},\"yaxis\":{\"automargin\":true,\"gridcolor\":\"white\",\"linecolor\":\"white\",\"ticks\":\"\",\"title\":{\"standoff\":15},\"zerolinecolor\":\"white\",\"zerolinewidth\":2}}},\"title\":{\"text\":\"GANTT Chart\"},\"xaxis\":{\"range\":[\"1970-01-01T01:13:30\",\"1970-01-02T00:59:02\"],\"title\":{\"font\":{\"color\":\"#7f7f7f\",\"family\":\"Courier New, monospace\",\"size\":18},\"text\":\"Time\"}},\"yaxis\":{\"title\":{\"font\":{\"color\":\"#7f7f7f\",\"family\":\"Courier New, monospace\",\"size\":18},\"text\":\"Activities\"}}},                        {\"responsive\": true}                    ).then(function(){\n",
       "                            \n",
       "var gd = document.getElementById('f0c4089d-18ca-4e4d-b0aa-ff8803802896');\n",
       "var x = new MutationObserver(function (mutations, observer) {{\n",
       "        var display = window.getComputedStyle(gd).display;\n",
       "        if (!display || display === 'none') {{\n",
       "            console.log([gd, 'removed!']);\n",
       "            Plotly.purge(gd);\n",
       "            observer.disconnect();\n",
       "        }}\n",
       "}});\n",
       "\n",
       "// Listen for the removal of the full notebook cells\n",
       "var notebookContainer = gd.closest('#notebook-container');\n",
       "if (notebookContainer) {{\n",
       "    x.observe(notebookContainer, {childList: true});\n",
       "}}\n",
       "\n",
       "// Listen for the clearing of the current output cell\n",
       "var outputEl = gd.closest('.output');\n",
       "if (outputEl) {{\n",
       "    x.observe(outputEl, {childList: true});\n",
       "}}\n",
       "\n",
       "                        })                };                });            </script>        </div>"
      ]
     },
     "metadata": {},
     "output_type": "display_data"
    }
   ],
   "source": [
    "def expand(a, namespace):\n",
    "    n = len(namespace)\n",
    "    sa = []\n",
    "    if a.name[0:n]==namespace:\n",
    "        sa.append(a)\n",
    "    if hasattr(a, \"sub_processes\"):\n",
    "        for s in a.sub_processes:\n",
    "            if s.name[0:n]==namespace:\n",
    "                sa.append(s)\n",
    "            sa+=expand(s,namespace)\n",
    "    return sa\n",
    "all_activities = []\n",
    "for a in [*activities]:\n",
    "    all_activities+=expand(activities[a],'load')\n",
    "all_activities\n",
    "fig = plot.get_gantt_chart(all_activities)"
   ]
  },
  {
   "cell_type": "code",
   "execution_count": 8,
   "id": "283667b8",
   "metadata": {},
   "outputs": [
    {
     "data": {
      "image/png": "[encoded data removed]",
      "text/plain": [
       "<Figure size 1008x504 with 1 Axes>"
      ]
     },
     "metadata": {
      "needs_background": "light"
     },
     "output_type": "display_data"
    }
   ],
   "source": [
    "fig = plot.get_step_chart([from_site, to_site, *vessels.values()])"
   ]
  },
  {
   "cell_type": "code",
   "execution_count": 9,
   "id": "a7def889",
   "metadata": {},
   "outputs": [
    {
     "data": {
      "text/html": [
       "<div>\n",
       "<style scoped>\n",
       "    .dataframe tbody tr th:only-of-type {\n",
       "        vertical-align: middle;\n",
       "    }\n",
       "\n",
       "    .dataframe tbody tr th {\n",
       "        vertical-align: top;\n",
       "    }\n",
       "\n",
       "    .dataframe thead th {\n",
       "        text-align: right;\n",
       "    }\n",
       "</style>\n",
       "<table border=\"1\" class=\"dataframe\">\n",
       "  <thead>\n",
       "    <tr style=\"text-align: right;\">\n",
       "      <th></th>\n",
       "      <th>name</th>\n",
       "      <th>trips</th>\n",
       "      <th>theoretical production</th>\n",
       "      <th>production</th>\n",
       "    </tr>\n",
       "  </thead>\n",
       "  <tbody>\n",
       "    <tr>\n",
       "      <th>1</th>\n",
       "      <td>barge_1</td>\n",
       "      <td>8</td>\n",
       "      <td>0.000549</td>\n",
       "      <td>0.000423</td>\n",
       "    </tr>\n",
       "    <tr>\n",
       "      <th>0</th>\n",
       "      <td>barge_0</td>\n",
       "      <td>8</td>\n",
       "      <td>0.000452</td>\n",
       "      <td>0.000369</td>\n",
       "    </tr>\n",
       "    <tr>\n",
       "      <th>2</th>\n",
       "      <td>barge_2</td>\n",
       "      <td>7</td>\n",
       "      <td>0.000428</td>\n",
       "      <td>0.000329</td>\n",
       "    </tr>\n",
       "  </tbody>\n",
       "</table>\n",
       "</div>"
      ],
      "text/plain": [
       "      name  trips  theoretical production  production\n",
       "1  barge_1      8                0.000549    0.000423\n",
       "0  barge_0      8                0.000452    0.000369\n",
       "2  barge_2      7                0.000428    0.000329"
      ]
     },
     "execution_count": 9,
     "metadata": {},
     "output_type": "execute_result"
    }
   ],
   "source": [
    "data = []\n",
    "for i in range(len(vessels.values()) - 1):\n",
    "    vessel = vessels[f'vessel{i}']\n",
    "    activity = activities[f'activity{i}']\n",
    "    sub_act = activity.sub_processes[0].sub_processes[-1]\n",
    "    log = pd.DataFrame(vessel.log)\n",
    "    nr_trips = len(log[(log.ActivityID == sub_act.id) & (log.ActivityState == \"START\")])\n",
    "    data.append({\n",
    "        'name':vessel.name, \n",
    "        'trips':nr_trips, \n",
    "        'theoretical production': (sub_act.amount / (4*sub_act.duration+ 5*sub_act.amount)),\n",
    "        'production':(nr_trips * sub_act.amount) / ((log.Timestamp.max() - log.Timestamp.min()).total_seconds()),\n",
    "    })\n",
    "df = pd.DataFrame(data).sort_values(by=['production'],ascending=False)\n",
    "df"
   ]
  },
  {
   "cell_type": "code",
   "execution_count": null,
   "id": "d25fc937",
   "metadata": {},
   "outputs": [],
   "source": []
  },
  {
   "cell_type": "code",
   "execution_count": null,
   "id": "c2163a56",
   "metadata": {},
   "outputs": [],
   "source": []
  }
 ],
 "metadata": {
  "kernelspec": {
   "display_name": "Python 3 (ipykernel)",
   "language": "python",
   "name": "python3"
  },
  "language_info": {
   "codemirror_mode": {
    "name": "ipython",
    "version": 3
   },
   "file_extension": ".py",
   "mimetype": "text/x-python",
   "name": "python",
   "nbconvert_exporter": "python",
   "pygments_lexer": "ipython3",
   "version": "3.9.16"
  }
 },
 "nbformat": 4,
 "nbformat_minor": 5
}
