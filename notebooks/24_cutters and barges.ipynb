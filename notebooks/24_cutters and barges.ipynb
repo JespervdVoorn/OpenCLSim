{
 "cells": [
  {
   "cell_type": "code",
   "execution_count": 1,
   "metadata": {},
   "outputs": [],
   "source": [
    "import datetime, time\n",
    "import simpy\n",
    "\n",
    "import shapely.geometry\n",
    "import pandas as pd\n",
    "\n",
    "import openclsim.core as core\n",
    "import openclsim.model as model\n",
    "import openclsim.plot as plot\n",
    "import numpy as np"
   ]
  },
  {
   "cell_type": "code",
   "execution_count": null,
   "metadata": {},
   "outputs": [],
   "source": []
  },
  {
   "cell_type": "code",
   "execution_count": 2,
   "metadata": {},
   "outputs": [],
   "source": [
    "Site = type(\n",
    "    \"Site\",\n",
    "    (\n",
    "        core.Identifiable,\n",
    "        core.Log,\n",
    "        core.Locatable,\n",
    "        core.HasContainer,\n",
    "        core.HasResource,\n",
    "    ),\n",
    "    {},\n",
    ")\n",
    "TransportProcessingResource = type(\n",
    "    \"TransportProcessingResource\",\n",
    "    (\n",
    "        core.Identifiable,\n",
    "        core.Log,\n",
    "        core.ContainerDependentMovable,\n",
    "        core.Processor,\n",
    "        core.HasResource,\n",
    "    ),\n",
    "    {},\n",
    ")"
   ]
  },
  {
   "cell_type": "code",
   "execution_count": 3,
   "metadata": {},
   "outputs": [],
   "source": [
    "def run(NR_BARGES, total_amount):\n",
    "    simulation_start = 0\n",
    "    my_env = simpy.Environment(initial_time=simulation_start)\n",
    "    registry = {}\n",
    "\n",
    "    location_from_site = shapely.geometry.Point(4.18055556, 52.18664444)\n",
    "    location_to_site = shapely.geometry.Point(4.25222222, 52.11428333)\n",
    "\n",
    "    data_from_site = {\"env\": my_env,\n",
    "                      \"name\": \"from_site\",\n",
    "                      \"geometry\": location_from_site,\n",
    "                      \"capacity\": total_amount,\n",
    "                      \"level\": total_amount,\n",
    "                      \"nr_resources\":1\n",
    "                     }\n",
    "    from_site = Site(**data_from_site)\n",
    "\n",
    "    location_to_site = shapely.geometry.Point(4.25222222, 52.11428333)\n",
    "    data_to_site = {\"env\": my_env,\n",
    "                    \"name\": \"to_site\",\n",
    "                    \"geometry\": location_to_site,\n",
    "                    \"capacity\": total_amount,\n",
    "                    \"level\": 0,\n",
    "                    \"nr_resources\":4\n",
    "                   }\n",
    "    to_site = Site(**data_to_site)\n",
    "\n",
    "    vessels = {}\n",
    "\n",
    "    for i in range(NR_BARGES):\n",
    "        vessels[f\"vessel{i}\"] = TransportProcessingResource(\n",
    "            env=my_env,\n",
    "            name=f\"barge{i}\",\n",
    "            geometry=location_from_site, \n",
    "            capacity=10,\n",
    "            compute_v=lambda x: 10\n",
    "        )\n",
    "    cutter = TransportProcessingResource(\n",
    "        env=my_env,\n",
    "        name=f\"cutter\",\n",
    "        geometry=location_from_site, \n",
    "        capacity=10,\n",
    "        compute_v=lambda x: 10\n",
    "    )\n",
    "    vessels['cutter'] = cutter\n",
    "    \n",
    "\n",
    "    activities = {}\n",
    "    for i in range(NR_BARGES):\n",
    "        amount = np.random.randint(3,10)\n",
    "        duration=np.random.randint(10,55)\n",
    "\n",
    "        requested_resources={}\n",
    "        activities[f\"activity{i}\"] = model.WhileActivity(\n",
    "            env=my_env,\n",
    "            name=f\"while_sequential_activity_subcycle{i}\",\n",
    "            registry=registry,\n",
    "            sub_processes=[model.SequentialActivity(\n",
    "                env=my_env,\n",
    "                name=f\"sequential_activity_subcycle{i}\",\n",
    "                registry=registry,\n",
    "                sub_processes=[\n",
    "                    model.BasicActivity(\n",
    "                        env=my_env,\n",
    "                        name=f\"basic activity{i}\",\n",
    "                        registry=registry,\n",
    "                        duration=duration,\n",
    "                        additional_logs=[vessels[f\"vessel{i}\"]],\n",
    "                    ),\n",
    "                    model.MoveActivity(\n",
    "                        env=my_env,\n",
    "                        name=f\"sailing empty{i}\",\n",
    "                        registry=registry,\n",
    "                        mover=vessels[f\"vessel{i}\"],\n",
    "                        destination=from_site,\n",
    "                        duration=duration,\n",
    "                    ),\n",
    "                    model.ShiftAmountActivity(\n",
    "                        env=my_env,\n",
    "                        name=f\"loading{i}\",\n",
    "                        registry=registry,\n",
    "                        processor=cutter,\n",
    "                        origin=from_site,\n",
    "                        destination=vessels[f\"vessel{i}\"],\n",
    "                        amount=amount,\n",
    "                        duration=5*amount,\n",
    "                        requested_resources=requested_resources,\n",
    "                    ),\n",
    "                    model.MoveActivity(\n",
    "                        env=my_env,\n",
    "                        name=f\"sailing full{i}\",\n",
    "                        registry=registry,\n",
    "                        mover=vessels[f\"vessel{i}\"],\n",
    "                        destination=to_site,\n",
    "                        duration=duration,\n",
    "                    ),\n",
    "                    model.ShiftAmountActivity(\n",
    "                        env=my_env,\n",
    "                        name=f\"unloading{i}\",\n",
    "                        registry=registry,\n",
    "                        processor=vessels[f\"vessel{i}\"],\n",
    "                        origin=vessels[f\"vessel{i}\"],\n",
    "                        destination=to_site,\n",
    "                        amount=amount,\n",
    "                        duration=duration,\n",
    "                        requested_resources=requested_resources,\n",
    "                    ),\n",
    "                ],\n",
    "            )],\n",
    "            condition_event=[\n",
    "                {\n",
    "                    \"type\": \"container\", \n",
    "                    \"concept\": to_site, \n",
    "                    \"state\": \"full\",\n",
    "                    \"id_\":\"default_reservations\"\n",
    "                }\n",
    "            ],\n",
    "        )\n",
    "\n",
    "    model.register_processes(list(activities.values()))\n",
    "    my_env.run()\n",
    "    \n",
    "    return {\n",
    "        \"vessels\": vessels,\n",
    "        \"activities\":activities,\n",
    "        \"from_site\":from_site,\n",
    "        \"to_site\":to_site,\n",
    "    }\n"
   ]
  },
  {
   "cell_type": "code",
   "execution_count": 4,
   "metadata": {},
   "outputs": [
    {
     "name": "stdout",
     "output_type": "stream",
     "text": [
      "Wall time: 39 ms\n"
     ]
    }
   ],
   "source": [
    "%%time\n",
    "\n",
    "res = run(3,100)\n",
    "vessels = res['vessels']\n",
    "activities = res['activities']\n",
    "cutter = vessels['cutter']\n",
    "to_site = res['to_site']\n",
    "from_site = res['from_site']"
   ]
  },
  {
   "cell_type": "code",
   "execution_count": 5,
   "metadata": {},
   "outputs": [],
   "source": [
    "# this should be made generic and added to openclsim.plot\n",
    "def extend_id_map(activity, id_map):\n",
    "    if hasattr(activity, \"sub_processes\"):\n",
    "        for sub_process in activity.sub_processes:\n",
    "            id_map = extend_id_map(sub_process, id_map)\n",
    "    \n",
    "    return {**id_map, activity.id: activity }\n",
    "\n",
    "activity_map = {}\n",
    "for activity in [*activities]:\n",
    "    activity_map = extend_id_map(activities[activity], activity_map)\n",
    "    \n",
    "id_map = {key:val.name for (key,val) in activity_map.items()}"
   ]
  },
  {
   "cell_type": "code",
   "execution_count": 6,
   "metadata": {},
   "outputs": [
    {
     "data": {
      "text/html": [
       "        <script type=\"text/javascript\">\n",
       "        window.PlotlyConfig = {MathJaxConfig: 'local'};\n",
       "        if (window.MathJax) {MathJax.Hub.Config({SVG: {font: \"STIX-Web\"}});}\n",
       "        if (typeof require !== 'undefined') {\n",
       "        require.undef(\"plotly\");\n",
       "        requirejs.config({\n",
       "            paths: {\n",
       "                'plotly': ['https://cdn.plot.ly/plotly-2.8.3.min']\n",
       "            }\n",
       "        });\n",
       "        require(['plotly'], function(Plotly) {\n",
       "            window._Plotly = Plotly;\n",
       "        });\n",
       "        }\n",
       "        </script>\n",
       "        "
      ]
     },
     "metadata": {},
     "output_type": "display_data"
    },
    {
     "data": {
      "application/vnd.plotly.v1+json": {
       "config": {
        "linkText": "Export to plot.ly",
        "plotlyServerURL": "https://plot.ly",
        "showLink": false
       },
       "data": [
        {
         "connectgaps": false,
         "hoverinfo": "y+name",
         "line": {
          "color": "rgb(150,7,155)",
          "width": 10
         },
         "mode": "lines",
         "name": "basic activity0",
         "type": "scatter",
         "x": [
          "1970-01-01T00:00:00",
          "1970-01-01T00:00:00",
          "1970-01-01T00:00:28",
          "1970-01-01T00:00:28",
          "1970-01-01T00:00:28",
          "1970-01-01T00:02:37",
          "1970-01-01T00:02:37",
          "1970-01-01T00:03:05",
          "1970-01-01T00:03:05",
          "1970-01-01T00:03:05",
          "1970-01-01T00:05:14",
          "1970-01-01T00:05:14",
          "1970-01-01T00:05:42",
          "1970-01-01T00:05:42",
          "1970-01-01T00:05:42",
          "1970-01-01T00:07:51",
          "1970-01-01T00:07:51",
          "1970-01-01T00:08:19",
          "1970-01-01T00:08:19",
          "1970-01-01T00:08:19",
          "1970-01-01T00:10:28",
          "1970-01-01T00:10:28",
          "1970-01-01T00:10:56",
          "1970-01-01T00:10:56",
          "1970-01-01T00:10:56",
          "1970-01-01T00:13:05",
          "1970-01-01T00:13:05",
          "1970-01-01T00:13:33",
          "1970-01-01T00:13:33",
          "1970-01-01T00:13:33",
          "1970-01-01T00:15:42",
          "1970-01-01T00:15:42",
          "1970-01-01T00:16:10",
          "1970-01-01T00:16:10",
          "1970-01-01T00:16:10"
         ],
         "y": [
          "barge0",
          "barge0",
          "barge0",
          "barge0",
          null,
          "barge0",
          "barge0",
          "barge0",
          "barge0",
          null,
          "barge0",
          "barge0",
          "barge0",
          "barge0",
          null,
          "barge0",
          "barge0",
          "barge0",
          "barge0",
          null,
          "barge0",
          "barge0",
          "barge0",
          "barge0",
          null,
          "barge0",
          "barge0",
          "barge0",
          "barge0",
          null,
          "barge0",
          "barge0",
          "barge0",
          "barge0",
          null
         ]
        },
        {
         "connectgaps": false,
         "hoverinfo": "y+name",
         "line": {
          "color": "rgb(164,21,169)",
          "width": 10
         },
         "mode": "lines",
         "name": "loading0",
         "type": "scatter",
         "x": [
          "1970-01-01T00:00:56",
          "1970-01-01T00:00:56",
          "1970-01-01T00:01:41",
          "1970-01-01T00:01:41",
          "1970-01-01T00:01:41",
          "1970-01-01T00:03:33",
          "1970-01-01T00:03:33",
          "1970-01-01T00:04:18",
          "1970-01-01T00:04:18",
          "1970-01-01T00:04:18",
          "1970-01-01T00:06:10",
          "1970-01-01T00:06:10",
          "1970-01-01T00:06:55",
          "1970-01-01T00:06:55",
          "1970-01-01T00:06:55",
          "1970-01-01T00:08:47",
          "1970-01-01T00:08:47",
          "1970-01-01T00:09:32",
          "1970-01-01T00:09:32",
          "1970-01-01T00:09:32",
          "1970-01-01T00:11:24",
          "1970-01-01T00:11:24",
          "1970-01-01T00:12:09",
          "1970-01-01T00:12:09",
          "1970-01-01T00:12:09",
          "1970-01-01T00:14:01",
          "1970-01-01T00:14:01",
          "1970-01-01T00:14:46",
          "1970-01-01T00:14:46",
          "1970-01-01T00:14:46",
          "1970-01-01T00:16:38",
          "1970-01-01T00:16:38",
          "1970-01-01T00:17:23",
          "1970-01-01T00:17:23",
          "1970-01-01T00:17:23",
          "1970-01-01T00:00:56",
          "1970-01-01T00:00:56",
          "1970-01-01T00:01:41",
          "1970-01-01T00:01:41",
          "1970-01-01T00:01:41",
          "1970-01-01T00:03:33",
          "1970-01-01T00:03:33",
          "1970-01-01T00:04:18",
          "1970-01-01T00:04:18",
          "1970-01-01T00:04:18",
          "1970-01-01T00:06:10",
          "1970-01-01T00:06:10",
          "1970-01-01T00:06:55",
          "1970-01-01T00:06:55",
          "1970-01-01T00:06:55",
          "1970-01-01T00:08:47",
          "1970-01-01T00:08:47",
          "1970-01-01T00:09:32",
          "1970-01-01T00:09:32",
          "1970-01-01T00:09:32",
          "1970-01-01T00:11:24",
          "1970-01-01T00:11:24",
          "1970-01-01T00:12:09",
          "1970-01-01T00:12:09",
          "1970-01-01T00:12:09",
          "1970-01-01T00:14:01",
          "1970-01-01T00:14:01",
          "1970-01-01T00:14:46",
          "1970-01-01T00:14:46",
          "1970-01-01T00:14:46",
          "1970-01-01T00:16:38",
          "1970-01-01T00:16:38",
          "1970-01-01T00:17:23",
          "1970-01-01T00:17:23",
          "1970-01-01T00:17:23"
         ],
         "y": [
          "barge0",
          "barge0",
          "barge0",
          "barge0",
          null,
          "barge0",
          "barge0",
          "barge0",
          "barge0",
          null,
          "barge0",
          "barge0",
          "barge0",
          "barge0",
          null,
          "barge0",
          "barge0",
          "barge0",
          "barge0",
          null,
          "barge0",
          "barge0",
          "barge0",
          "barge0",
          null,
          "barge0",
          "barge0",
          "barge0",
          "barge0",
          null,
          "barge0",
          "barge0",
          "barge0",
          "barge0",
          null,
          "cutter",
          "cutter",
          "cutter",
          "cutter",
          null,
          "cutter",
          "cutter",
          "cutter",
          "cutter",
          null,
          "cutter",
          "cutter",
          "cutter",
          "cutter",
          null,
          "cutter",
          "cutter",
          "cutter",
          "cutter",
          null,
          "cutter",
          "cutter",
          "cutter",
          "cutter",
          null,
          "cutter",
          "cutter",
          "cutter",
          "cutter",
          null,
          "cutter",
          "cutter",
          "cutter",
          "cutter",
          null
         ]
        },
        {
         "connectgaps": false,
         "hoverinfo": "y+name",
         "line": {
          "color": "rgb(178,35,183)",
          "width": 10
         },
         "mode": "lines",
         "name": "unloading0",
         "type": "scatter",
         "x": [
          "1970-01-01T00:02:09",
          "1970-01-01T00:02:09",
          "1970-01-01T00:02:37",
          "1970-01-01T00:02:37",
          "1970-01-01T00:02:37",
          "1970-01-01T00:04:46",
          "1970-01-01T00:04:46",
          "1970-01-01T00:05:14",
          "1970-01-01T00:05:14",
          "1970-01-01T00:05:14",
          "1970-01-01T00:07:23",
          "1970-01-01T00:07:23",
          "1970-01-01T00:07:51",
          "1970-01-01T00:07:51",
          "1970-01-01T00:07:51",
          "1970-01-01T00:10:00",
          "1970-01-01T00:10:00",
          "1970-01-01T00:10:28",
          "1970-01-01T00:10:28",
          "1970-01-01T00:10:28",
          "1970-01-01T00:12:37",
          "1970-01-01T00:12:37",
          "1970-01-01T00:13:05",
          "1970-01-01T00:13:05",
          "1970-01-01T00:13:05",
          "1970-01-01T00:15:14",
          "1970-01-01T00:15:14",
          "1970-01-01T00:15:42",
          "1970-01-01T00:15:42",
          "1970-01-01T00:15:42",
          "1970-01-01T00:17:51",
          "1970-01-01T00:17:51",
          "1970-01-01T00:18:19",
          "1970-01-01T00:18:19",
          "1970-01-01T00:18:19"
         ],
         "y": [
          "barge0",
          "barge0",
          "barge0",
          "barge0",
          null,
          "barge0",
          "barge0",
          "barge0",
          "barge0",
          null,
          "barge0",
          "barge0",
          "barge0",
          "barge0",
          null,
          "barge0",
          "barge0",
          "barge0",
          "barge0",
          null,
          "barge0",
          "barge0",
          "barge0",
          "barge0",
          null,
          "barge0",
          "barge0",
          "barge0",
          "barge0",
          null,
          "barge0",
          "barge0",
          "barge0",
          "barge0",
          null
         ]
        },
        {
         "connectgaps": false,
         "hoverinfo": "y+name",
         "line": {
          "color": "rgb(192,49,197)",
          "width": 10
         },
         "mode": "lines",
         "name": "sailing empty0",
         "type": "scatter",
         "x": [
          "1970-01-01T00:00:28",
          "1970-01-01T00:00:28",
          "1970-01-01T00:00:56",
          "1970-01-01T00:00:56",
          "1970-01-01T00:00:56",
          "1970-01-01T00:03:05",
          "1970-01-01T00:03:05",
          "1970-01-01T00:03:33",
          "1970-01-01T00:03:33",
          "1970-01-01T00:03:33",
          "1970-01-01T00:05:42",
          "1970-01-01T00:05:42",
          "1970-01-01T00:06:10",
          "1970-01-01T00:06:10",
          "1970-01-01T00:06:10",
          "1970-01-01T00:08:19",
          "1970-01-01T00:08:19",
          "1970-01-01T00:08:47",
          "1970-01-01T00:08:47",
          "1970-01-01T00:08:47",
          "1970-01-01T00:10:56",
          "1970-01-01T00:10:56",
          "1970-01-01T00:11:24",
          "1970-01-01T00:11:24",
          "1970-01-01T00:11:24",
          "1970-01-01T00:13:33",
          "1970-01-01T00:13:33",
          "1970-01-01T00:14:01",
          "1970-01-01T00:14:01",
          "1970-01-01T00:14:01",
          "1970-01-01T00:16:10",
          "1970-01-01T00:16:10",
          "1970-01-01T00:16:38",
          "1970-01-01T00:16:38",
          "1970-01-01T00:16:38"
         ],
         "y": [
          "barge0",
          "barge0",
          "barge0",
          "barge0",
          null,
          "barge0",
          "barge0",
          "barge0",
          "barge0",
          null,
          "barge0",
          "barge0",
          "barge0",
          "barge0",
          null,
          "barge0",
          "barge0",
          "barge0",
          "barge0",
          null,
          "barge0",
          "barge0",
          "barge0",
          "barge0",
          null,
          "barge0",
          "barge0",
          "barge0",
          "barge0",
          null,
          "barge0",
          "barge0",
          "barge0",
          "barge0",
          null
         ]
        },
        {
         "connectgaps": false,
         "hoverinfo": "y+name",
         "line": {
          "color": "rgb(206,63,211)",
          "width": 10
         },
         "mode": "lines",
         "name": "sailing full0",
         "type": "scatter",
         "x": [
          "1970-01-01T00:01:41",
          "1970-01-01T00:01:41",
          "1970-01-01T00:02:09",
          "1970-01-01T00:02:09",
          "1970-01-01T00:02:09",
          "1970-01-01T00:04:18",
          "1970-01-01T00:04:18",
          "1970-01-01T00:04:46",
          "1970-01-01T00:04:46",
          "1970-01-01T00:04:46",
          "1970-01-01T00:06:55",
          "1970-01-01T00:06:55",
          "1970-01-01T00:07:23",
          "1970-01-01T00:07:23",
          "1970-01-01T00:07:23",
          "1970-01-01T00:09:32",
          "1970-01-01T00:09:32",
          "1970-01-01T00:10:00",
          "1970-01-01T00:10:00",
          "1970-01-01T00:10:00",
          "1970-01-01T00:12:09",
          "1970-01-01T00:12:09",
          "1970-01-01T00:12:37",
          "1970-01-01T00:12:37",
          "1970-01-01T00:12:37",
          "1970-01-01T00:14:46",
          "1970-01-01T00:14:46",
          "1970-01-01T00:15:14",
          "1970-01-01T00:15:14",
          "1970-01-01T00:15:14",
          "1970-01-01T00:17:23",
          "1970-01-01T00:17:23",
          "1970-01-01T00:17:51",
          "1970-01-01T00:17:51",
          "1970-01-01T00:17:51"
         ],
         "y": [
          "barge0",
          "barge0",
          "barge0",
          "barge0",
          null,
          "barge0",
          "barge0",
          "barge0",
          "barge0",
          null,
          "barge0",
          "barge0",
          "barge0",
          "barge0",
          null,
          "barge0",
          "barge0",
          "barge0",
          "barge0",
          null,
          "barge0",
          "barge0",
          "barge0",
          "barge0",
          null,
          "barge0",
          "barge0",
          "barge0",
          "barge0",
          null,
          "barge0",
          "barge0",
          "barge0",
          "barge0",
          null
         ]
        },
        {
         "connectgaps": false,
         "hoverinfo": "y+name",
         "line": {
          "color": "rgb(220,77,225)",
          "width": 10
         },
         "mode": "lines",
         "name": "sailing full1",
         "type": "scatter",
         "x": [
          "1970-01-01T00:02:01",
          "1970-01-01T00:02:01",
          "1970-01-01T00:02:31",
          "1970-01-01T00:02:31",
          "1970-01-01T00:02:31",
          "1970-01-01T00:04:38",
          "1970-01-01T00:04:38",
          "1970-01-01T00:05:08",
          "1970-01-01T00:05:08",
          "1970-01-01T00:05:08",
          "1970-01-01T00:07:15",
          "1970-01-01T00:07:15",
          "1970-01-01T00:07:45",
          "1970-01-01T00:07:45",
          "1970-01-01T00:07:45",
          "1970-01-01T00:09:52",
          "1970-01-01T00:09:52",
          "1970-01-01T00:10:22",
          "1970-01-01T00:10:22",
          "1970-01-01T00:10:22",
          "1970-01-01T00:12:29",
          "1970-01-01T00:12:29",
          "1970-01-01T00:12:59",
          "1970-01-01T00:12:59",
          "1970-01-01T00:12:59",
          "1970-01-01T00:15:06",
          "1970-01-01T00:15:06",
          "1970-01-01T00:15:36",
          "1970-01-01T00:15:36",
          "1970-01-01T00:15:36"
         ],
         "y": [
          "barge1",
          "barge1",
          "barge1",
          "barge1",
          null,
          "barge1",
          "barge1",
          "barge1",
          "barge1",
          null,
          "barge1",
          "barge1",
          "barge1",
          "barge1",
          null,
          "barge1",
          "barge1",
          "barge1",
          "barge1",
          null,
          "barge1",
          "barge1",
          "barge1",
          "barge1",
          null,
          "barge1",
          "barge1",
          "barge1",
          "barge1",
          null
         ]
        },
        {
         "connectgaps": false,
         "hoverinfo": "y+name",
         "line": {
          "color": "rgb(234,91,239)",
          "width": 10
         },
         "mode": "lines",
         "name": "loading1",
         "type": "scatter",
         "x": [
          "1970-01-01T00:01:41",
          "1970-01-01T00:01:41",
          "1970-01-01T00:02:01",
          "1970-01-01T00:02:01",
          "1970-01-01T00:02:01",
          "1970-01-01T00:04:18",
          "1970-01-01T00:04:18",
          "1970-01-01T00:04:38",
          "1970-01-01T00:04:38",
          "1970-01-01T00:04:38",
          "1970-01-01T00:06:55",
          "1970-01-01T00:06:55",
          "1970-01-01T00:07:15",
          "1970-01-01T00:07:15",
          "1970-01-01T00:07:15",
          "1970-01-01T00:09:32",
          "1970-01-01T00:09:32",
          "1970-01-01T00:09:52",
          "1970-01-01T00:09:52",
          "1970-01-01T00:09:52",
          "1970-01-01T00:12:09",
          "1970-01-01T00:12:09",
          "1970-01-01T00:12:29",
          "1970-01-01T00:12:29",
          "1970-01-01T00:12:29",
          "1970-01-01T00:14:46",
          "1970-01-01T00:14:46",
          "1970-01-01T00:15:06",
          "1970-01-01T00:15:06",
          "1970-01-01T00:15:06",
          "1970-01-01T00:01:41",
          "1970-01-01T00:01:41",
          "1970-01-01T00:02:01",
          "1970-01-01T00:02:01",
          "1970-01-01T00:02:01",
          "1970-01-01T00:04:18",
          "1970-01-01T00:04:18",
          "1970-01-01T00:04:38",
          "1970-01-01T00:04:38",
          "1970-01-01T00:04:38",
          "1970-01-01T00:06:55",
          "1970-01-01T00:06:55",
          "1970-01-01T00:07:15",
          "1970-01-01T00:07:15",
          "1970-01-01T00:07:15",
          "1970-01-01T00:09:32",
          "1970-01-01T00:09:32",
          "1970-01-01T00:09:52",
          "1970-01-01T00:09:52",
          "1970-01-01T00:09:52",
          "1970-01-01T00:12:09",
          "1970-01-01T00:12:09",
          "1970-01-01T00:12:29",
          "1970-01-01T00:12:29",
          "1970-01-01T00:12:29",
          "1970-01-01T00:14:46",
          "1970-01-01T00:14:46",
          "1970-01-01T00:15:06",
          "1970-01-01T00:15:06",
          "1970-01-01T00:15:06"
         ],
         "y": [
          "barge1",
          "barge1",
          "barge1",
          "barge1",
          null,
          "barge1",
          "barge1",
          "barge1",
          "barge1",
          null,
          "barge1",
          "barge1",
          "barge1",
          "barge1",
          null,
          "barge1",
          "barge1",
          "barge1",
          "barge1",
          null,
          "barge1",
          "barge1",
          "barge1",
          "barge1",
          null,
          "barge1",
          "barge1",
          "barge1",
          "barge1",
          null,
          "cutter",
          "cutter",
          "cutter",
          "cutter",
          null,
          "cutter",
          "cutter",
          "cutter",
          "cutter",
          null,
          "cutter",
          "cutter",
          "cutter",
          "cutter",
          null,
          "cutter",
          "cutter",
          "cutter",
          "cutter",
          null,
          "cutter",
          "cutter",
          "cutter",
          "cutter",
          null,
          "cutter",
          "cutter",
          "cutter",
          "cutter",
          null
         ]
        },
        {
         "connectgaps": false,
         "hoverinfo": "y+name",
         "line": {
          "color": "rgb(248,105,253)",
          "width": 10
         },
         "mode": "lines",
         "name": "unloading1",
         "type": "scatter",
         "x": [
          "1970-01-01T00:02:31",
          "1970-01-01T00:02:31",
          "1970-01-01T00:03:01",
          "1970-01-01T00:03:01",
          "1970-01-01T00:03:01",
          "1970-01-01T00:05:08",
          "1970-01-01T00:05:08",
          "1970-01-01T00:05:38",
          "1970-01-01T00:05:38",
          "1970-01-01T00:05:38",
          "1970-01-01T00:07:45",
          "1970-01-01T00:07:45",
          "1970-01-01T00:08:15",
          "1970-01-01T00:08:15",
          "1970-01-01T00:08:15",
          "1970-01-01T00:10:22",
          "1970-01-01T00:10:22",
          "1970-01-01T00:10:52",
          "1970-01-01T00:10:52",
          "1970-01-01T00:10:52",
          "1970-01-01T00:12:59",
          "1970-01-01T00:12:59",
          "1970-01-01T00:13:29",
          "1970-01-01T00:13:29",
          "1970-01-01T00:13:29",
          "1970-01-01T00:15:36",
          "1970-01-01T00:15:36",
          "1970-01-01T00:16:06",
          "1970-01-01T00:16:06",
          "1970-01-01T00:16:06"
         ],
         "y": [
          "barge1",
          "barge1",
          "barge1",
          "barge1",
          null,
          "barge1",
          "barge1",
          "barge1",
          "barge1",
          null,
          "barge1",
          "barge1",
          "barge1",
          "barge1",
          null,
          "barge1",
          "barge1",
          "barge1",
          "barge1",
          null,
          "barge1",
          "barge1",
          "barge1",
          "barge1",
          null,
          "barge1",
          "barge1",
          "barge1",
          "barge1",
          null
         ]
        },
        {
         "connectgaps": false,
         "hoverinfo": "y+name",
         "line": {
          "color": "rgb(6,119,11)",
          "width": 10
         },
         "mode": "lines",
         "name": "sailing empty1",
         "type": "scatter",
         "x": [
          "1970-01-01T00:00:30",
          "1970-01-01T00:00:30",
          "1970-01-01T00:01:00",
          "1970-01-01T00:01:00",
          "1970-01-01T00:01:00",
          "1970-01-01T00:03:31",
          "1970-01-01T00:03:31",
          "1970-01-01T00:04:01",
          "1970-01-01T00:04:01",
          "1970-01-01T00:04:01",
          "1970-01-01T00:06:08",
          "1970-01-01T00:06:08",
          "1970-01-01T00:06:38",
          "1970-01-01T00:06:38",
          "1970-01-01T00:06:38",
          "1970-01-01T00:08:45",
          "1970-01-01T00:08:45",
          "1970-01-01T00:09:15",
          "1970-01-01T00:09:15",
          "1970-01-01T00:09:15",
          "1970-01-01T00:11:22",
          "1970-01-01T00:11:22",
          "1970-01-01T00:11:52",
          "1970-01-01T00:11:52",
          "1970-01-01T00:11:52",
          "1970-01-01T00:13:59",
          "1970-01-01T00:13:59",
          "1970-01-01T00:14:29",
          "1970-01-01T00:14:29",
          "1970-01-01T00:14:29"
         ],
         "y": [
          "barge1",
          "barge1",
          "barge1",
          "barge1",
          null,
          "barge1",
          "barge1",
          "barge1",
          "barge1",
          null,
          "barge1",
          "barge1",
          "barge1",
          "barge1",
          null,
          "barge1",
          "barge1",
          "barge1",
          "barge1",
          null,
          "barge1",
          "barge1",
          "barge1",
          "barge1",
          null,
          "barge1",
          "barge1",
          "barge1",
          "barge1",
          null
         ]
        },
        {
         "connectgaps": false,
         "hoverinfo": "y+name",
         "line": {
          "color": "rgb(20,133,25)",
          "width": 10
         },
         "mode": "lines",
         "name": "basic activity1",
         "type": "scatter",
         "x": [
          "1970-01-01T00:00:00",
          "1970-01-01T00:00:00",
          "1970-01-01T00:00:30",
          "1970-01-01T00:00:30",
          "1970-01-01T00:00:30",
          "1970-01-01T00:03:01",
          "1970-01-01T00:03:01",
          "1970-01-01T00:03:31",
          "1970-01-01T00:03:31",
          "1970-01-01T00:03:31",
          "1970-01-01T00:05:38",
          "1970-01-01T00:05:38",
          "1970-01-01T00:06:08",
          "1970-01-01T00:06:08",
          "1970-01-01T00:06:08",
          "1970-01-01T00:08:15",
          "1970-01-01T00:08:15",
          "1970-01-01T00:08:45",
          "1970-01-01T00:08:45",
          "1970-01-01T00:08:45",
          "1970-01-01T00:10:52",
          "1970-01-01T00:10:52",
          "1970-01-01T00:11:22",
          "1970-01-01T00:11:22",
          "1970-01-01T00:11:22",
          "1970-01-01T00:13:29",
          "1970-01-01T00:13:29",
          "1970-01-01T00:13:59",
          "1970-01-01T00:13:59",
          "1970-01-01T00:13:59"
         ],
         "y": [
          "barge1",
          "barge1",
          "barge1",
          "barge1",
          null,
          "barge1",
          "barge1",
          "barge1",
          "barge1",
          null,
          "barge1",
          "barge1",
          "barge1",
          "barge1",
          null,
          "barge1",
          "barge1",
          "barge1",
          "barge1",
          null,
          "barge1",
          "barge1",
          "barge1",
          "barge1",
          null,
          "barge1",
          "barge1",
          "barge1",
          "barge1",
          null
         ]
        },
        {
         "connectgaps": false,
         "hoverinfo": "y+name",
         "line": {
          "color": "rgb(34,147,39)",
          "width": 10
         },
         "mode": "lines",
         "name": "sailing full2",
         "type": "scatter",
         "x": [
          "1970-01-01T00:02:16",
          "1970-01-01T00:02:16",
          "1970-01-01T00:02:54",
          "1970-01-01T00:02:54",
          "1970-01-01T00:02:54",
          "1970-01-01T00:05:03",
          "1970-01-01T00:05:03",
          "1970-01-01T00:05:41",
          "1970-01-01T00:05:41",
          "1970-01-01T00:05:41",
          "1970-01-01T00:07:50",
          "1970-01-01T00:07:50",
          "1970-01-01T00:08:28",
          "1970-01-01T00:08:28",
          "1970-01-01T00:08:28",
          "1970-01-01T00:10:37",
          "1970-01-01T00:10:37",
          "1970-01-01T00:11:15",
          "1970-01-01T00:11:15",
          "1970-01-01T00:11:15",
          "1970-01-01T00:13:24",
          "1970-01-01T00:13:24",
          "1970-01-01T00:14:02",
          "1970-01-01T00:14:02",
          "1970-01-01T00:14:02",
          "1970-01-01T00:16:11",
          "1970-01-01T00:16:11",
          "1970-01-01T00:16:49",
          "1970-01-01T00:16:49",
          "1970-01-01T00:16:49"
         ],
         "y": [
          "barge2",
          "barge2",
          "barge2",
          "barge2",
          null,
          "barge2",
          "barge2",
          "barge2",
          "barge2",
          null,
          "barge2",
          "barge2",
          "barge2",
          "barge2",
          null,
          "barge2",
          "barge2",
          "barge2",
          "barge2",
          null,
          "barge2",
          "barge2",
          "barge2",
          "barge2",
          null,
          "barge2",
          "barge2",
          "barge2",
          "barge2",
          null
         ]
        },
        {
         "connectgaps": false,
         "hoverinfo": "y+name",
         "line": {
          "color": "rgb(48,161,53)",
          "width": 10
         },
         "mode": "lines",
         "name": "basic activity2",
         "type": "scatter",
         "x": [
          "1970-01-01T00:00:00",
          "1970-01-01T00:00:00",
          "1970-01-01T00:00:38",
          "1970-01-01T00:00:38",
          "1970-01-01T00:00:38",
          "1970-01-01T00:03:32",
          "1970-01-01T00:03:32",
          "1970-01-01T00:04:10",
          "1970-01-01T00:04:10",
          "1970-01-01T00:04:10",
          "1970-01-01T00:06:19",
          "1970-01-01T00:06:19",
          "1970-01-01T00:06:57",
          "1970-01-01T00:06:57",
          "1970-01-01T00:06:57",
          "1970-01-01T00:09:06",
          "1970-01-01T00:09:06",
          "1970-01-01T00:09:44",
          "1970-01-01T00:09:44",
          "1970-01-01T00:09:44",
          "1970-01-01T00:11:53",
          "1970-01-01T00:11:53",
          "1970-01-01T00:12:31",
          "1970-01-01T00:12:31",
          "1970-01-01T00:12:31",
          "1970-01-01T00:14:40",
          "1970-01-01T00:14:40",
          "1970-01-01T00:15:18",
          "1970-01-01T00:15:18",
          "1970-01-01T00:15:18"
         ],
         "y": [
          "barge2",
          "barge2",
          "barge2",
          "barge2",
          null,
          "barge2",
          "barge2",
          "barge2",
          "barge2",
          null,
          "barge2",
          "barge2",
          "barge2",
          "barge2",
          null,
          "barge2",
          "barge2",
          "barge2",
          "barge2",
          null,
          "barge2",
          "barge2",
          "barge2",
          "barge2",
          null,
          "barge2",
          "barge2",
          "barge2",
          "barge2",
          null
         ]
        },
        {
         "connectgaps": false,
         "hoverinfo": "y+name",
         "line": {
          "color": "rgb(62,175,67)",
          "width": 10
         },
         "mode": "lines",
         "name": "unloading2",
         "type": "scatter",
         "x": [
          "1970-01-01T00:02:54",
          "1970-01-01T00:02:54",
          "1970-01-01T00:03:32",
          "1970-01-01T00:03:32",
          "1970-01-01T00:03:32",
          "1970-01-01T00:05:41",
          "1970-01-01T00:05:41",
          "1970-01-01T00:06:19",
          "1970-01-01T00:06:19",
          "1970-01-01T00:06:19",
          "1970-01-01T00:08:28",
          "1970-01-01T00:08:28",
          "1970-01-01T00:09:06",
          "1970-01-01T00:09:06",
          "1970-01-01T00:09:06",
          "1970-01-01T00:11:15",
          "1970-01-01T00:11:15",
          "1970-01-01T00:11:53",
          "1970-01-01T00:11:53",
          "1970-01-01T00:11:53",
          "1970-01-01T00:14:02",
          "1970-01-01T00:14:02",
          "1970-01-01T00:14:40",
          "1970-01-01T00:14:40",
          "1970-01-01T00:14:40",
          "1970-01-01T00:16:49",
          "1970-01-01T00:16:49",
          "1970-01-01T00:17:27",
          "1970-01-01T00:17:27",
          "1970-01-01T00:17:27"
         ],
         "y": [
          "barge2",
          "barge2",
          "barge2",
          "barge2",
          null,
          "barge2",
          "barge2",
          "barge2",
          "barge2",
          null,
          "barge2",
          "barge2",
          "barge2",
          "barge2",
          null,
          "barge2",
          "barge2",
          "barge2",
          "barge2",
          null,
          "barge2",
          "barge2",
          "barge2",
          "barge2",
          null,
          "barge2",
          "barge2",
          "barge2",
          "barge2",
          null
         ]
        },
        {
         "connectgaps": false,
         "hoverinfo": "y+name",
         "line": {
          "color": "rgb(76,189,81)",
          "width": 10
         },
         "mode": "lines",
         "name": "loading2",
         "type": "scatter",
         "x": [
          "1970-01-01T00:02:01",
          "1970-01-01T00:02:01",
          "1970-01-01T00:02:16",
          "1970-01-01T00:02:16",
          "1970-01-01T00:02:16",
          "1970-01-01T00:04:48",
          "1970-01-01T00:04:48",
          "1970-01-01T00:05:03",
          "1970-01-01T00:05:03",
          "1970-01-01T00:05:03",
          "1970-01-01T00:07:35",
          "1970-01-01T00:07:35",
          "1970-01-01T00:07:50",
          "1970-01-01T00:07:50",
          "1970-01-01T00:07:50",
          "1970-01-01T00:10:22",
          "1970-01-01T00:10:22",
          "1970-01-01T00:10:37",
          "1970-01-01T00:10:37",
          "1970-01-01T00:10:37",
          "1970-01-01T00:13:09",
          "1970-01-01T00:13:09",
          "1970-01-01T00:13:24",
          "1970-01-01T00:13:24",
          "1970-01-01T00:13:24",
          "1970-01-01T00:15:56",
          "1970-01-01T00:15:56",
          "1970-01-01T00:16:11",
          "1970-01-01T00:16:11",
          "1970-01-01T00:16:11",
          "1970-01-01T00:02:01",
          "1970-01-01T00:02:01",
          "1970-01-01T00:02:16",
          "1970-01-01T00:02:16",
          "1970-01-01T00:02:16",
          "1970-01-01T00:04:48",
          "1970-01-01T00:04:48",
          "1970-01-01T00:05:03",
          "1970-01-01T00:05:03",
          "1970-01-01T00:05:03",
          "1970-01-01T00:07:35",
          "1970-01-01T00:07:35",
          "1970-01-01T00:07:50",
          "1970-01-01T00:07:50",
          "1970-01-01T00:07:50",
          "1970-01-01T00:10:22",
          "1970-01-01T00:10:22",
          "1970-01-01T00:10:37",
          "1970-01-01T00:10:37",
          "1970-01-01T00:10:37",
          "1970-01-01T00:13:09",
          "1970-01-01T00:13:09",
          "1970-01-01T00:13:24",
          "1970-01-01T00:13:24",
          "1970-01-01T00:13:24",
          "1970-01-01T00:15:56",
          "1970-01-01T00:15:56",
          "1970-01-01T00:16:11",
          "1970-01-01T00:16:11",
          "1970-01-01T00:16:11"
         ],
         "y": [
          "barge2",
          "barge2",
          "barge2",
          "barge2",
          null,
          "barge2",
          "barge2",
          "barge2",
          "barge2",
          null,
          "barge2",
          "barge2",
          "barge2",
          "barge2",
          null,
          "barge2",
          "barge2",
          "barge2",
          "barge2",
          null,
          "barge2",
          "barge2",
          "barge2",
          "barge2",
          null,
          "barge2",
          "barge2",
          "barge2",
          "barge2",
          null,
          "cutter",
          "cutter",
          "cutter",
          "cutter",
          null,
          "cutter",
          "cutter",
          "cutter",
          "cutter",
          null,
          "cutter",
          "cutter",
          "cutter",
          "cutter",
          null,
          "cutter",
          "cutter",
          "cutter",
          "cutter",
          null,
          "cutter",
          "cutter",
          "cutter",
          "cutter",
          null,
          "cutter",
          "cutter",
          "cutter",
          "cutter",
          null
         ]
        },
        {
         "connectgaps": false,
         "hoverinfo": "y+name",
         "line": {
          "color": "rgb(90,203,95)",
          "width": 10
         },
         "mode": "lines",
         "name": "sailing empty2",
         "type": "scatter",
         "x": [
          "1970-01-01T00:00:38",
          "1970-01-01T00:00:38",
          "1970-01-01T00:01:16",
          "1970-01-01T00:01:16",
          "1970-01-01T00:01:16",
          "1970-01-01T00:04:10",
          "1970-01-01T00:04:10",
          "1970-01-01T00:04:48",
          "1970-01-01T00:04:48",
          "1970-01-01T00:04:48",
          "1970-01-01T00:06:57",
          "1970-01-01T00:06:57",
          "1970-01-01T00:07:35",
          "1970-01-01T00:07:35",
          "1970-01-01T00:07:35",
          "1970-01-01T00:09:44",
          "1970-01-01T00:09:44",
          "1970-01-01T00:10:22",
          "1970-01-01T00:10:22",
          "1970-01-01T00:10:22",
          "1970-01-01T00:12:31",
          "1970-01-01T00:12:31",
          "1970-01-01T00:13:09",
          "1970-01-01T00:13:09",
          "1970-01-01T00:13:09",
          "1970-01-01T00:15:18",
          "1970-01-01T00:15:18",
          "1970-01-01T00:15:56",
          "1970-01-01T00:15:56",
          "1970-01-01T00:15:56"
         ],
         "y": [
          "barge2",
          "barge2",
          "barge2",
          "barge2",
          null,
          "barge2",
          "barge2",
          "barge2",
          "barge2",
          null,
          "barge2",
          "barge2",
          "barge2",
          "barge2",
          null,
          "barge2",
          "barge2",
          "barge2",
          "barge2",
          null,
          "barge2",
          "barge2",
          "barge2",
          "barge2",
          null,
          "barge2",
          "barge2",
          "barge2",
          "barge2",
          null
         ]
        },
        {
         "connectgaps": false,
         "hoverinfo": "y+name",
         "line": {
          "color": "rgb(104,217,109)",
          "width": 10
         },
         "mode": "lines",
         "name": "loading1",
         "type": "scatter",
         "x": [
          "1970-01-01T00:01:41",
          "1970-01-01T00:01:41",
          "1970-01-01T00:02:01",
          "1970-01-01T00:02:01",
          "1970-01-01T00:02:01",
          "1970-01-01T00:04:18",
          "1970-01-01T00:04:18",
          "1970-01-01T00:04:38",
          "1970-01-01T00:04:38",
          "1970-01-01T00:04:38",
          "1970-01-01T00:06:55",
          "1970-01-01T00:06:55",
          "1970-01-01T00:07:15",
          "1970-01-01T00:07:15",
          "1970-01-01T00:07:15",
          "1970-01-01T00:09:32",
          "1970-01-01T00:09:32",
          "1970-01-01T00:09:52",
          "1970-01-01T00:09:52",
          "1970-01-01T00:09:52",
          "1970-01-01T00:12:09",
          "1970-01-01T00:12:09",
          "1970-01-01T00:12:29",
          "1970-01-01T00:12:29",
          "1970-01-01T00:12:29",
          "1970-01-01T00:14:46",
          "1970-01-01T00:14:46",
          "1970-01-01T00:15:06",
          "1970-01-01T00:15:06",
          "1970-01-01T00:15:06",
          "1970-01-01T00:01:41",
          "1970-01-01T00:01:41",
          "1970-01-01T00:02:01",
          "1970-01-01T00:02:01",
          "1970-01-01T00:02:01",
          "1970-01-01T00:04:18",
          "1970-01-01T00:04:18",
          "1970-01-01T00:04:38",
          "1970-01-01T00:04:38",
          "1970-01-01T00:04:38",
          "1970-01-01T00:06:55",
          "1970-01-01T00:06:55",
          "1970-01-01T00:07:15",
          "1970-01-01T00:07:15",
          "1970-01-01T00:07:15",
          "1970-01-01T00:09:32",
          "1970-01-01T00:09:32",
          "1970-01-01T00:09:52",
          "1970-01-01T00:09:52",
          "1970-01-01T00:09:52",
          "1970-01-01T00:12:09",
          "1970-01-01T00:12:09",
          "1970-01-01T00:12:29",
          "1970-01-01T00:12:29",
          "1970-01-01T00:12:29",
          "1970-01-01T00:14:46",
          "1970-01-01T00:14:46",
          "1970-01-01T00:15:06",
          "1970-01-01T00:15:06",
          "1970-01-01T00:15:06"
         ],
         "y": [
          "barge1",
          "barge1",
          "barge1",
          "barge1",
          null,
          "barge1",
          "barge1",
          "barge1",
          "barge1",
          null,
          "barge1",
          "barge1",
          "barge1",
          "barge1",
          null,
          "barge1",
          "barge1",
          "barge1",
          "barge1",
          null,
          "barge1",
          "barge1",
          "barge1",
          "barge1",
          null,
          "barge1",
          "barge1",
          "barge1",
          "barge1",
          null,
          "cutter",
          "cutter",
          "cutter",
          "cutter",
          null,
          "cutter",
          "cutter",
          "cutter",
          "cutter",
          null,
          "cutter",
          "cutter",
          "cutter",
          "cutter",
          null,
          "cutter",
          "cutter",
          "cutter",
          "cutter",
          null,
          "cutter",
          "cutter",
          "cutter",
          "cutter",
          null,
          "cutter",
          "cutter",
          "cutter",
          "cutter",
          null
         ]
        },
        {
         "connectgaps": false,
         "hoverinfo": "y+name",
         "line": {
          "color": "rgb(118,231,123)",
          "width": 10
         },
         "mode": "lines",
         "name": "loading2",
         "type": "scatter",
         "x": [
          "1970-01-01T00:02:01",
          "1970-01-01T00:02:01",
          "1970-01-01T00:02:16",
          "1970-01-01T00:02:16",
          "1970-01-01T00:02:16",
          "1970-01-01T00:04:48",
          "1970-01-01T00:04:48",
          "1970-01-01T00:05:03",
          "1970-01-01T00:05:03",
          "1970-01-01T00:05:03",
          "1970-01-01T00:07:35",
          "1970-01-01T00:07:35",
          "1970-01-01T00:07:50",
          "1970-01-01T00:07:50",
          "1970-01-01T00:07:50",
          "1970-01-01T00:10:22",
          "1970-01-01T00:10:22",
          "1970-01-01T00:10:37",
          "1970-01-01T00:10:37",
          "1970-01-01T00:10:37",
          "1970-01-01T00:13:09",
          "1970-01-01T00:13:09",
          "1970-01-01T00:13:24",
          "1970-01-01T00:13:24",
          "1970-01-01T00:13:24",
          "1970-01-01T00:15:56",
          "1970-01-01T00:15:56",
          "1970-01-01T00:16:11",
          "1970-01-01T00:16:11",
          "1970-01-01T00:16:11",
          "1970-01-01T00:02:01",
          "1970-01-01T00:02:01",
          "1970-01-01T00:02:16",
          "1970-01-01T00:02:16",
          "1970-01-01T00:02:16",
          "1970-01-01T00:04:48",
          "1970-01-01T00:04:48",
          "1970-01-01T00:05:03",
          "1970-01-01T00:05:03",
          "1970-01-01T00:05:03",
          "1970-01-01T00:07:35",
          "1970-01-01T00:07:35",
          "1970-01-01T00:07:50",
          "1970-01-01T00:07:50",
          "1970-01-01T00:07:50",
          "1970-01-01T00:10:22",
          "1970-01-01T00:10:22",
          "1970-01-01T00:10:37",
          "1970-01-01T00:10:37",
          "1970-01-01T00:10:37",
          "1970-01-01T00:13:09",
          "1970-01-01T00:13:09",
          "1970-01-01T00:13:24",
          "1970-01-01T00:13:24",
          "1970-01-01T00:13:24",
          "1970-01-01T00:15:56",
          "1970-01-01T00:15:56",
          "1970-01-01T00:16:11",
          "1970-01-01T00:16:11",
          "1970-01-01T00:16:11"
         ],
         "y": [
          "barge2",
          "barge2",
          "barge2",
          "barge2",
          null,
          "barge2",
          "barge2",
          "barge2",
          "barge2",
          null,
          "barge2",
          "barge2",
          "barge2",
          "barge2",
          null,
          "barge2",
          "barge2",
          "barge2",
          "barge2",
          null,
          "barge2",
          "barge2",
          "barge2",
          "barge2",
          null,
          "barge2",
          "barge2",
          "barge2",
          "barge2",
          null,
          "cutter",
          "cutter",
          "cutter",
          "cutter",
          null,
          "cutter",
          "cutter",
          "cutter",
          "cutter",
          null,
          "cutter",
          "cutter",
          "cutter",
          "cutter",
          null,
          "cutter",
          "cutter",
          "cutter",
          "cutter",
          null,
          "cutter",
          "cutter",
          "cutter",
          "cutter",
          null,
          "cutter",
          "cutter",
          "cutter",
          "cutter",
          null
         ]
        },
        {
         "connectgaps": false,
         "hoverinfo": "y+name",
         "line": {
          "color": "rgb(132,245,137)",
          "width": 10
         },
         "mode": "lines",
         "name": "loading0",
         "type": "scatter",
         "x": [
          "1970-01-01T00:00:56",
          "1970-01-01T00:00:56",
          "1970-01-01T00:01:41",
          "1970-01-01T00:01:41",
          "1970-01-01T00:01:41",
          "1970-01-01T00:03:33",
          "1970-01-01T00:03:33",
          "1970-01-01T00:04:18",
          "1970-01-01T00:04:18",
          "1970-01-01T00:04:18",
          "1970-01-01T00:06:10",
          "1970-01-01T00:06:10",
          "1970-01-01T00:06:55",
          "1970-01-01T00:06:55",
          "1970-01-01T00:06:55",
          "1970-01-01T00:08:47",
          "1970-01-01T00:08:47",
          "1970-01-01T00:09:32",
          "1970-01-01T00:09:32",
          "1970-01-01T00:09:32",
          "1970-01-01T00:11:24",
          "1970-01-01T00:11:24",
          "1970-01-01T00:12:09",
          "1970-01-01T00:12:09",
          "1970-01-01T00:12:09",
          "1970-01-01T00:14:01",
          "1970-01-01T00:14:01",
          "1970-01-01T00:14:46",
          "1970-01-01T00:14:46",
          "1970-01-01T00:14:46",
          "1970-01-01T00:16:38",
          "1970-01-01T00:16:38",
          "1970-01-01T00:17:23",
          "1970-01-01T00:17:23",
          "1970-01-01T00:17:23",
          "1970-01-01T00:00:56",
          "1970-01-01T00:00:56",
          "1970-01-01T00:01:41",
          "1970-01-01T00:01:41",
          "1970-01-01T00:01:41",
          "1970-01-01T00:03:33",
          "1970-01-01T00:03:33",
          "1970-01-01T00:04:18",
          "1970-01-01T00:04:18",
          "1970-01-01T00:04:18",
          "1970-01-01T00:06:10",
          "1970-01-01T00:06:10",
          "1970-01-01T00:06:55",
          "1970-01-01T00:06:55",
          "1970-01-01T00:06:55",
          "1970-01-01T00:08:47",
          "1970-01-01T00:08:47",
          "1970-01-01T00:09:32",
          "1970-01-01T00:09:32",
          "1970-01-01T00:09:32",
          "1970-01-01T00:11:24",
          "1970-01-01T00:11:24",
          "1970-01-01T00:12:09",
          "1970-01-01T00:12:09",
          "1970-01-01T00:12:09",
          "1970-01-01T00:14:01",
          "1970-01-01T00:14:01",
          "1970-01-01T00:14:46",
          "1970-01-01T00:14:46",
          "1970-01-01T00:14:46",
          "1970-01-01T00:16:38",
          "1970-01-01T00:16:38",
          "1970-01-01T00:17:23",
          "1970-01-01T00:17:23",
          "1970-01-01T00:17:23"
         ],
         "y": [
          "barge0",
          "barge0",
          "barge0",
          "barge0",
          null,
          "barge0",
          "barge0",
          "barge0",
          "barge0",
          null,
          "barge0",
          "barge0",
          "barge0",
          "barge0",
          null,
          "barge0",
          "barge0",
          "barge0",
          "barge0",
          null,
          "barge0",
          "barge0",
          "barge0",
          "barge0",
          null,
          "barge0",
          "barge0",
          "barge0",
          "barge0",
          null,
          "barge0",
          "barge0",
          "barge0",
          "barge0",
          null,
          "cutter",
          "cutter",
          "cutter",
          "cutter",
          null,
          "cutter",
          "cutter",
          "cutter",
          "cutter",
          null,
          "cutter",
          "cutter",
          "cutter",
          "cutter",
          null,
          "cutter",
          "cutter",
          "cutter",
          "cutter",
          null,
          "cutter",
          "cutter",
          "cutter",
          "cutter",
          null,
          "cutter",
          "cutter",
          "cutter",
          "cutter",
          null,
          "cutter",
          "cutter",
          "cutter",
          "cutter",
          null
         ]
        }
       ],
       "layout": {
        "hovermode": "closest",
        "legend": {
         "orientation": "h",
         "x": 0,
         "y": -0.2
        },
        "template": {
         "data": {
          "bar": [
           {
            "error_x": {
             "color": "#2a3f5f"
            },
            "error_y": {
             "color": "#2a3f5f"
            },
            "marker": {
             "line": {
              "color": "#E5ECF6",
              "width": 0.5
             },
             "pattern": {
              "fillmode": "overlay",
              "size": 10,
              "solidity": 0.2
             }
            },
            "type": "bar"
           }
          ],
          "barpolar": [
           {
            "marker": {
             "line": {
              "color": "#E5ECF6",
              "width": 0.5
             },
             "pattern": {
              "fillmode": "overlay",
              "size": 10,
              "solidity": 0.2
             }
            },
            "type": "barpolar"
           }
          ],
          "carpet": [
           {
            "aaxis": {
             "endlinecolor": "#2a3f5f",
             "gridcolor": "white",
             "linecolor": "white",
             "minorgridcolor": "white",
             "startlinecolor": "#2a3f5f"
            },
            "baxis": {
             "endlinecolor": "#2a3f5f",
             "gridcolor": "white",
             "linecolor": "white",
             "minorgridcolor": "white",
             "startlinecolor": "#2a3f5f"
            },
            "type": "carpet"
           }
          ],
          "choropleth": [
           {
            "colorbar": {
             "outlinewidth": 0,
             "ticks": ""
            },
            "type": "choropleth"
           }
          ],
          "contour": [
           {
            "colorbar": {
             "outlinewidth": 0,
             "ticks": ""
            },
            "colorscale": [
             [
              0,
              "#0d0887"
             ],
             [
              0.1111111111111111,
              "#46039f"
             ],
             [
              0.2222222222222222,
              "#7201a8"
             ],
             [
              0.3333333333333333,
              "#9c179e"
             ],
             [
              0.4444444444444444,
              "#bd3786"
             ],
             [
              0.5555555555555556,
              "#d8576b"
             ],
             [
              0.6666666666666666,
              "#ed7953"
             ],
             [
              0.7777777777777778,
              "#fb9f3a"
             ],
             [
              0.8888888888888888,
              "#fdca26"
             ],
             [
              1,
              "#f0f921"
             ]
            ],
            "type": "contour"
           }
          ],
          "contourcarpet": [
           {
            "colorbar": {
             "outlinewidth": 0,
             "ticks": ""
            },
            "type": "contourcarpet"
           }
          ],
          "heatmap": [
           {
            "colorbar": {
             "outlinewidth": 0,
             "ticks": ""
            },
            "colorscale": [
             [
              0,
              "#0d0887"
             ],
             [
              0.1111111111111111,
              "#46039f"
             ],
             [
              0.2222222222222222,
              "#7201a8"
             ],
             [
              0.3333333333333333,
              "#9c179e"
             ],
             [
              0.4444444444444444,
              "#bd3786"
             ],
             [
              0.5555555555555556,
              "#d8576b"
             ],
             [
              0.6666666666666666,
              "#ed7953"
             ],
             [
              0.7777777777777778,
              "#fb9f3a"
             ],
             [
              0.8888888888888888,
              "#fdca26"
             ],
             [
              1,
              "#f0f921"
             ]
            ],
            "type": "heatmap"
           }
          ],
          "heatmapgl": [
           {
            "colorbar": {
             "outlinewidth": 0,
             "ticks": ""
            },
            "colorscale": [
             [
              0,
              "#0d0887"
             ],
             [
              0.1111111111111111,
              "#46039f"
             ],
             [
              0.2222222222222222,
              "#7201a8"
             ],
             [
              0.3333333333333333,
              "#9c179e"
             ],
             [
              0.4444444444444444,
              "#bd3786"
             ],
             [
              0.5555555555555556,
              "#d8576b"
             ],
             [
              0.6666666666666666,
              "#ed7953"
             ],
             [
              0.7777777777777778,
              "#fb9f3a"
             ],
             [
              0.8888888888888888,
              "#fdca26"
             ],
             [
              1,
              "#f0f921"
             ]
            ],
            "type": "heatmapgl"
           }
          ],
          "histogram": [
           {
            "marker": {
             "pattern": {
              "fillmode": "overlay",
              "size": 10,
              "solidity": 0.2
             }
            },
            "type": "histogram"
           }
          ],
          "histogram2d": [
           {
            "colorbar": {
             "outlinewidth": 0,
             "ticks": ""
            },
            "colorscale": [
             [
              0,
              "#0d0887"
             ],
             [
              0.1111111111111111,
              "#46039f"
             ],
             [
              0.2222222222222222,
              "#7201a8"
             ],
             [
              0.3333333333333333,
              "#9c179e"
             ],
             [
              0.4444444444444444,
              "#bd3786"
             ],
             [
              0.5555555555555556,
              "#d8576b"
             ],
             [
              0.6666666666666666,
              "#ed7953"
             ],
             [
              0.7777777777777778,
              "#fb9f3a"
             ],
             [
              0.8888888888888888,
              "#fdca26"
             ],
             [
              1,
              "#f0f921"
             ]
            ],
            "type": "histogram2d"
           }
          ],
          "histogram2dcontour": [
           {
            "colorbar": {
             "outlinewidth": 0,
             "ticks": ""
            },
            "colorscale": [
             [
              0,
              "#0d0887"
             ],
             [
              0.1111111111111111,
              "#46039f"
             ],
             [
              0.2222222222222222,
              "#7201a8"
             ],
             [
              0.3333333333333333,
              "#9c179e"
             ],
             [
              0.4444444444444444,
              "#bd3786"
             ],
             [
              0.5555555555555556,
              "#d8576b"
             ],
             [
              0.6666666666666666,
              "#ed7953"
             ],
             [
              0.7777777777777778,
              "#fb9f3a"
             ],
             [
              0.8888888888888888,
              "#fdca26"
             ],
             [
              1,
              "#f0f921"
             ]
            ],
            "type": "histogram2dcontour"
           }
          ],
          "mesh3d": [
           {
            "colorbar": {
             "outlinewidth": 0,
             "ticks": ""
            },
            "type": "mesh3d"
           }
          ],
          "parcoords": [
           {
            "line": {
             "colorbar": {
              "outlinewidth": 0,
              "ticks": ""
             }
            },
            "type": "parcoords"
           }
          ],
          "pie": [
           {
            "automargin": true,
            "type": "pie"
           }
          ],
          "scatter": [
           {
            "marker": {
             "colorbar": {
              "outlinewidth": 0,
              "ticks": ""
             }
            },
            "type": "scatter"
           }
          ],
          "scatter3d": [
           {
            "line": {
             "colorbar": {
              "outlinewidth": 0,
              "ticks": ""
             }
            },
            "marker": {
             "colorbar": {
              "outlinewidth": 0,
              "ticks": ""
             }
            },
            "type": "scatter3d"
           }
          ],
          "scattercarpet": [
           {
            "marker": {
             "colorbar": {
              "outlinewidth": 0,
              "ticks": ""
             }
            },
            "type": "scattercarpet"
           }
          ],
          "scattergeo": [
           {
            "marker": {
             "colorbar": {
              "outlinewidth": 0,
              "ticks": ""
             }
            },
            "type": "scattergeo"
           }
          ],
          "scattergl": [
           {
            "marker": {
             "colorbar": {
              "outlinewidth": 0,
              "ticks": ""
             }
            },
            "type": "scattergl"
           }
          ],
          "scattermapbox": [
           {
            "marker": {
             "colorbar": {
              "outlinewidth": 0,
              "ticks": ""
             }
            },
            "type": "scattermapbox"
           }
          ],
          "scatterpolar": [
           {
            "marker": {
             "colorbar": {
              "outlinewidth": 0,
              "ticks": ""
             }
            },
            "type": "scatterpolar"
           }
          ],
          "scatterpolargl": [
           {
            "marker": {
             "colorbar": {
              "outlinewidth": 0,
              "ticks": ""
             }
            },
            "type": "scatterpolargl"
           }
          ],
          "scatterternary": [
           {
            "marker": {
             "colorbar": {
              "outlinewidth": 0,
              "ticks": ""
             }
            },
            "type": "scatterternary"
           }
          ],
          "surface": [
           {
            "colorbar": {
             "outlinewidth": 0,
             "ticks": ""
            },
            "colorscale": [
             [
              0,
              "#0d0887"
             ],
             [
              0.1111111111111111,
              "#46039f"
             ],
             [
              0.2222222222222222,
              "#7201a8"
             ],
             [
              0.3333333333333333,
              "#9c179e"
             ],
             [
              0.4444444444444444,
              "#bd3786"
             ],
             [
              0.5555555555555556,
              "#d8576b"
             ],
             [
              0.6666666666666666,
              "#ed7953"
             ],
             [
              0.7777777777777778,
              "#fb9f3a"
             ],
             [
              0.8888888888888888,
              "#fdca26"
             ],
             [
              1,
              "#f0f921"
             ]
            ],
            "type": "surface"
           }
          ],
          "table": [
           {
            "cells": {
             "fill": {
              "color": "#EBF0F8"
             },
             "line": {
              "color": "white"
             }
            },
            "header": {
             "fill": {
              "color": "#C8D4E3"
             },
             "line": {
              "color": "white"
             }
            },
            "type": "table"
           }
          ]
         },
         "layout": {
          "annotationdefaults": {
           "arrowcolor": "#2a3f5f",
           "arrowhead": 0,
           "arrowwidth": 1
          },
          "autotypenumbers": "strict",
          "coloraxis": {
           "colorbar": {
            "outlinewidth": 0,
            "ticks": ""
           }
          },
          "colorscale": {
           "diverging": [
            [
             0,
             "#8e0152"
            ],
            [
             0.1,
             "#c51b7d"
            ],
            [
             0.2,
             "#de77ae"
            ],
            [
             0.3,
             "#f1b6da"
            ],
            [
             0.4,
             "#fde0ef"
            ],
            [
             0.5,
             "#f7f7f7"
            ],
            [
             0.6,
             "#e6f5d0"
            ],
            [
             0.7,
             "#b8e186"
            ],
            [
             0.8,
             "#7fbc41"
            ],
            [
             0.9,
             "#4d9221"
            ],
            [
             1,
             "#276419"
            ]
           ],
           "sequential": [
            [
             0,
             "#0d0887"
            ],
            [
             0.1111111111111111,
             "#46039f"
            ],
            [
             0.2222222222222222,
             "#7201a8"
            ],
            [
             0.3333333333333333,
             "#9c179e"
            ],
            [
             0.4444444444444444,
             "#bd3786"
            ],
            [
             0.5555555555555556,
             "#d8576b"
            ],
            [
             0.6666666666666666,
             "#ed7953"
            ],
            [
             0.7777777777777778,
             "#fb9f3a"
            ],
            [
             0.8888888888888888,
             "#fdca26"
            ],
            [
             1,
             "#f0f921"
            ]
           ],
           "sequentialminus": [
            [
             0,
             "#0d0887"
            ],
            [
             0.1111111111111111,
             "#46039f"
            ],
            [
             0.2222222222222222,
             "#7201a8"
            ],
            [
             0.3333333333333333,
             "#9c179e"
            ],
            [
             0.4444444444444444,
             "#bd3786"
            ],
            [
             0.5555555555555556,
             "#d8576b"
            ],
            [
             0.6666666666666666,
             "#ed7953"
            ],
            [
             0.7777777777777778,
             "#fb9f3a"
            ],
            [
             0.8888888888888888,
             "#fdca26"
            ],
            [
             1,
             "#f0f921"
            ]
           ]
          },
          "colorway": [
           "#636efa",
           "#EF553B",
           "#00cc96",
           "#ab63fa",
           "#FFA15A",
           "#19d3f3",
           "#FF6692",
           "#B6E880",
           "#FF97FF",
           "#FECB52"
          ],
          "font": {
           "color": "#2a3f5f"
          },
          "geo": {
           "bgcolor": "white",
           "lakecolor": "white",
           "landcolor": "#E5ECF6",
           "showlakes": true,
           "showland": true,
           "subunitcolor": "white"
          },
          "hoverlabel": {
           "align": "left"
          },
          "hovermode": "closest",
          "mapbox": {
           "style": "light"
          },
          "paper_bgcolor": "white",
          "plot_bgcolor": "#E5ECF6",
          "polar": {
           "angularaxis": {
            "gridcolor": "white",
            "linecolor": "white",
            "ticks": ""
           },
           "bgcolor": "#E5ECF6",
           "radialaxis": {
            "gridcolor": "white",
            "linecolor": "white",
            "ticks": ""
           }
          },
          "scene": {
           "xaxis": {
            "backgroundcolor": "#E5ECF6",
            "gridcolor": "white",
            "gridwidth": 2,
            "linecolor": "white",
            "showbackground": true,
            "ticks": "",
            "zerolinecolor": "white"
           },
           "yaxis": {
            "backgroundcolor": "#E5ECF6",
            "gridcolor": "white",
            "gridwidth": 2,
            "linecolor": "white",
            "showbackground": true,
            "ticks": "",
            "zerolinecolor": "white"
           },
           "zaxis": {
            "backgroundcolor": "#E5ECF6",
            "gridcolor": "white",
            "gridwidth": 2,
            "linecolor": "white",
            "showbackground": true,
            "ticks": "",
            "zerolinecolor": "white"
           }
          },
          "shapedefaults": {
           "line": {
            "color": "#2a3f5f"
           }
          },
          "ternary": {
           "aaxis": {
            "gridcolor": "white",
            "linecolor": "white",
            "ticks": ""
           },
           "baxis": {
            "gridcolor": "white",
            "linecolor": "white",
            "ticks": ""
           },
           "bgcolor": "#E5ECF6",
           "caxis": {
            "gridcolor": "white",
            "linecolor": "white",
            "ticks": ""
           }
          },
          "title": {
           "x": 0.05
          },
          "xaxis": {
           "automargin": true,
           "gridcolor": "white",
           "linecolor": "white",
           "ticks": "",
           "title": {
            "standoff": 15
           },
           "zerolinecolor": "white",
           "zerolinewidth": 2
          },
          "yaxis": {
           "automargin": true,
           "gridcolor": "white",
           "linecolor": "white",
           "ticks": "",
           "title": {
            "standoff": 15
           },
           "zerolinecolor": "white",
           "zerolinewidth": 2
          }
         }
        },
        "title": {
         "text": "GANTT Chart"
        },
        "xaxis": {
         "range": [
          "1970-01-01T00:00:00",
          "1970-01-01T00:18:19"
         ],
         "title": {
          "font": {
           "color": "#7f7f7f",
           "family": "Courier New, monospace",
           "size": 18
          },
          "text": "Time"
         }
        },
        "yaxis": {
         "title": {
          "font": {
           "color": "#7f7f7f",
           "family": "Courier New, monospace",
           "size": 18
          },
          "text": "Activities"
         }
        }
       }
      },
      "text/html": [
       "<div>                            <div id=\"77e866f0-743a-4348-9191-13a6a253d1b5\" class=\"plotly-graph-div\" style=\"height:525px; width:100%;\"></div>            <script type=\"text/javascript\">                require([\"plotly\"], function(Plotly) {                    window.PLOTLYENV=window.PLOTLYENV || {};                                    if (document.getElementById(\"77e866f0-743a-4348-9191-13a6a253d1b5\")) {                    Plotly.newPlot(                        \"77e866f0-743a-4348-9191-13a6a253d1b5\",                        [{\"connectgaps\":false,\"hoverinfo\":\"y+name\",\"line\":{\"color\":\"rgb(150,7,155)\",\"width\":10},\"mode\":\"lines\",\"name\":\"basic activity0\",\"x\":[\"1970-01-01T00:00:00\",\"1970-01-01T00:00:00\",\"1970-01-01T00:00:28\",\"1970-01-01T00:00:28\",\"1970-01-01T00:00:28\",\"1970-01-01T00:02:37\",\"1970-01-01T00:02:37\",\"1970-01-01T00:03:05\",\"1970-01-01T00:03:05\",\"1970-01-01T00:03:05\",\"1970-01-01T00:05:14\",\"1970-01-01T00:05:14\",\"1970-01-01T00:05:42\",\"1970-01-01T00:05:42\",\"1970-01-01T00:05:42\",\"1970-01-01T00:07:51\",\"1970-01-01T00:07:51\",\"1970-01-01T00:08:19\",\"1970-01-01T00:08:19\",\"1970-01-01T00:08:19\",\"1970-01-01T00:10:28\",\"1970-01-01T00:10:28\",\"1970-01-01T00:10:56\",\"1970-01-01T00:10:56\",\"1970-01-01T00:10:56\",\"1970-01-01T00:13:05\",\"1970-01-01T00:13:05\",\"1970-01-01T00:13:33\",\"1970-01-01T00:13:33\",\"1970-01-01T00:13:33\",\"1970-01-01T00:15:42\",\"1970-01-01T00:15:42\",\"1970-01-01T00:16:10\",\"1970-01-01T00:16:10\",\"1970-01-01T00:16:10\"],\"y\":[\"barge0\",\"barge0\",\"barge0\",\"barge0\",null,\"barge0\",\"barge0\",\"barge0\",\"barge0\",null,\"barge0\",\"barge0\",\"barge0\",\"barge0\",null,\"barge0\",\"barge0\",\"barge0\",\"barge0\",null,\"barge0\",\"barge0\",\"barge0\",\"barge0\",null,\"barge0\",\"barge0\",\"barge0\",\"barge0\",null,\"barge0\",\"barge0\",\"barge0\",\"barge0\",null],\"type\":\"scatter\"},{\"connectgaps\":false,\"hoverinfo\":\"y+name\",\"line\":{\"color\":\"rgb(164,21,169)\",\"width\":10},\"mode\":\"lines\",\"name\":\"loading0\",\"x\":[\"1970-01-01T00:00:56\",\"1970-01-01T00:00:56\",\"1970-01-01T00:01:41\",\"1970-01-01T00:01:41\",\"1970-01-01T00:01:41\",\"1970-01-01T00:03:33\",\"1970-01-01T00:03:33\",\"1970-01-01T00:04:18\",\"1970-01-01T00:04:18\",\"1970-01-01T00:04:18\",\"1970-01-01T00:06:10\",\"1970-01-01T00:06:10\",\"1970-01-01T00:06:55\",\"1970-01-01T00:06:55\",\"1970-01-01T00:06:55\",\"1970-01-01T00:08:47\",\"1970-01-01T00:08:47\",\"1970-01-01T00:09:32\",\"1970-01-01T00:09:32\",\"1970-01-01T00:09:32\",\"1970-01-01T00:11:24\",\"1970-01-01T00:11:24\",\"1970-01-01T00:12:09\",\"1970-01-01T00:12:09\",\"1970-01-01T00:12:09\",\"1970-01-01T00:14:01\",\"1970-01-01T00:14:01\",\"1970-01-01T00:14:46\",\"1970-01-01T00:14:46\",\"1970-01-01T00:14:46\",\"1970-01-01T00:16:38\",\"1970-01-01T00:16:38\",\"1970-01-01T00:17:23\",\"1970-01-01T00:17:23\",\"1970-01-01T00:17:23\",\"1970-01-01T00:00:56\",\"1970-01-01T00:00:56\",\"1970-01-01T00:01:41\",\"1970-01-01T00:01:41\",\"1970-01-01T00:01:41\",\"1970-01-01T00:03:33\",\"1970-01-01T00:03:33\",\"1970-01-01T00:04:18\",\"1970-01-01T00:04:18\",\"1970-01-01T00:04:18\",\"1970-01-01T00:06:10\",\"1970-01-01T00:06:10\",\"1970-01-01T00:06:55\",\"1970-01-01T00:06:55\",\"1970-01-01T00:06:55\",\"1970-01-01T00:08:47\",\"1970-01-01T00:08:47\",\"1970-01-01T00:09:32\",\"1970-01-01T00:09:32\",\"1970-01-01T00:09:32\",\"1970-01-01T00:11:24\",\"1970-01-01T00:11:24\",\"1970-01-01T00:12:09\",\"1970-01-01T00:12:09\",\"1970-01-01T00:12:09\",\"1970-01-01T00:14:01\",\"1970-01-01T00:14:01\",\"1970-01-01T00:14:46\",\"1970-01-01T00:14:46\",\"1970-01-01T00:14:46\",\"1970-01-01T00:16:38\",\"1970-01-01T00:16:38\",\"1970-01-01T00:17:23\",\"1970-01-01T00:17:23\",\"1970-01-01T00:17:23\"],\"y\":[\"barge0\",\"barge0\",\"barge0\",\"barge0\",null,\"barge0\",\"barge0\",\"barge0\",\"barge0\",null,\"barge0\",\"barge0\",\"barge0\",\"barge0\",null,\"barge0\",\"barge0\",\"barge0\",\"barge0\",null,\"barge0\",\"barge0\",\"barge0\",\"barge0\",null,\"barge0\",\"barge0\",\"barge0\",\"barge0\",null,\"barge0\",\"barge0\",\"barge0\",\"barge0\",null,\"cutter\",\"cutter\",\"cutter\",\"cutter\",null,\"cutter\",\"cutter\",\"cutter\",\"cutter\",null,\"cutter\",\"cutter\",\"cutter\",\"cutter\",null,\"cutter\",\"cutter\",\"cutter\",\"cutter\",null,\"cutter\",\"cutter\",\"cutter\",\"cutter\",null,\"cutter\",\"cutter\",\"cutter\",\"cutter\",null,\"cutter\",\"cutter\",\"cutter\",\"cutter\",null],\"type\":\"scatter\"},{\"connectgaps\":false,\"hoverinfo\":\"y+name\",\"line\":{\"color\":\"rgb(178,35,183)\",\"width\":10},\"mode\":\"lines\",\"name\":\"unloading0\",\"x\":[\"1970-01-01T00:02:09\",\"1970-01-01T00:02:09\",\"1970-01-01T00:02:37\",\"1970-01-01T00:02:37\",\"1970-01-01T00:02:37\",\"1970-01-01T00:04:46\",\"1970-01-01T00:04:46\",\"1970-01-01T00:05:14\",\"1970-01-01T00:05:14\",\"1970-01-01T00:05:14\",\"1970-01-01T00:07:23\",\"1970-01-01T00:07:23\",\"1970-01-01T00:07:51\",\"1970-01-01T00:07:51\",\"1970-01-01T00:07:51\",\"1970-01-01T00:10:00\",\"1970-01-01T00:10:00\",\"1970-01-01T00:10:28\",\"1970-01-01T00:10:28\",\"1970-01-01T00:10:28\",\"1970-01-01T00:12:37\",\"1970-01-01T00:12:37\",\"1970-01-01T00:13:05\",\"1970-01-01T00:13:05\",\"1970-01-01T00:13:05\",\"1970-01-01T00:15:14\",\"1970-01-01T00:15:14\",\"1970-01-01T00:15:42\",\"1970-01-01T00:15:42\",\"1970-01-01T00:15:42\",\"1970-01-01T00:17:51\",\"1970-01-01T00:17:51\",\"1970-01-01T00:18:19\",\"1970-01-01T00:18:19\",\"1970-01-01T00:18:19\"],\"y\":[\"barge0\",\"barge0\",\"barge0\",\"barge0\",null,\"barge0\",\"barge0\",\"barge0\",\"barge0\",null,\"barge0\",\"barge0\",\"barge0\",\"barge0\",null,\"barge0\",\"barge0\",\"barge0\",\"barge0\",null,\"barge0\",\"barge0\",\"barge0\",\"barge0\",null,\"barge0\",\"barge0\",\"barge0\",\"barge0\",null,\"barge0\",\"barge0\",\"barge0\",\"barge0\",null],\"type\":\"scatter\"},{\"connectgaps\":false,\"hoverinfo\":\"y+name\",\"line\":{\"color\":\"rgb(192,49,197)\",\"width\":10},\"mode\":\"lines\",\"name\":\"sailing empty0\",\"x\":[\"1970-01-01T00:00:28\",\"1970-01-01T00:00:28\",\"1970-01-01T00:00:56\",\"1970-01-01T00:00:56\",\"1970-01-01T00:00:56\",\"1970-01-01T00:03:05\",\"1970-01-01T00:03:05\",\"1970-01-01T00:03:33\",\"1970-01-01T00:03:33\",\"1970-01-01T00:03:33\",\"1970-01-01T00:05:42\",\"1970-01-01T00:05:42\",\"1970-01-01T00:06:10\",\"1970-01-01T00:06:10\",\"1970-01-01T00:06:10\",\"1970-01-01T00:08:19\",\"1970-01-01T00:08:19\",\"1970-01-01T00:08:47\",\"1970-01-01T00:08:47\",\"1970-01-01T00:08:47\",\"1970-01-01T00:10:56\",\"1970-01-01T00:10:56\",\"1970-01-01T00:11:24\",\"1970-01-01T00:11:24\",\"1970-01-01T00:11:24\",\"1970-01-01T00:13:33\",\"1970-01-01T00:13:33\",\"1970-01-01T00:14:01\",\"1970-01-01T00:14:01\",\"1970-01-01T00:14:01\",\"1970-01-01T00:16:10\",\"1970-01-01T00:16:10\",\"1970-01-01T00:16:38\",\"1970-01-01T00:16:38\",\"1970-01-01T00:16:38\"],\"y\":[\"barge0\",\"barge0\",\"barge0\",\"barge0\",null,\"barge0\",\"barge0\",\"barge0\",\"barge0\",null,\"barge0\",\"barge0\",\"barge0\",\"barge0\",null,\"barge0\",\"barge0\",\"barge0\",\"barge0\",null,\"barge0\",\"barge0\",\"barge0\",\"barge0\",null,\"barge0\",\"barge0\",\"barge0\",\"barge0\",null,\"barge0\",\"barge0\",\"barge0\",\"barge0\",null],\"type\":\"scatter\"},{\"connectgaps\":false,\"hoverinfo\":\"y+name\",\"line\":{\"color\":\"rgb(206,63,211)\",\"width\":10},\"mode\":\"lines\",\"name\":\"sailing full0\",\"x\":[\"1970-01-01T00:01:41\",\"1970-01-01T00:01:41\",\"1970-01-01T00:02:09\",\"1970-01-01T00:02:09\",\"1970-01-01T00:02:09\",\"1970-01-01T00:04:18\",\"1970-01-01T00:04:18\",\"1970-01-01T00:04:46\",\"1970-01-01T00:04:46\",\"1970-01-01T00:04:46\",\"1970-01-01T00:06:55\",\"1970-01-01T00:06:55\",\"1970-01-01T00:07:23\",\"1970-01-01T00:07:23\",\"1970-01-01T00:07:23\",\"1970-01-01T00:09:32\",\"1970-01-01T00:09:32\",\"1970-01-01T00:10:00\",\"1970-01-01T00:10:00\",\"1970-01-01T00:10:00\",\"1970-01-01T00:12:09\",\"1970-01-01T00:12:09\",\"1970-01-01T00:12:37\",\"1970-01-01T00:12:37\",\"1970-01-01T00:12:37\",\"1970-01-01T00:14:46\",\"1970-01-01T00:14:46\",\"1970-01-01T00:15:14\",\"1970-01-01T00:15:14\",\"1970-01-01T00:15:14\",\"1970-01-01T00:17:23\",\"1970-01-01T00:17:23\",\"1970-01-01T00:17:51\",\"1970-01-01T00:17:51\",\"1970-01-01T00:17:51\"],\"y\":[\"barge0\",\"barge0\",\"barge0\",\"barge0\",null,\"barge0\",\"barge0\",\"barge0\",\"barge0\",null,\"barge0\",\"barge0\",\"barge0\",\"barge0\",null,\"barge0\",\"barge0\",\"barge0\",\"barge0\",null,\"barge0\",\"barge0\",\"barge0\",\"barge0\",null,\"barge0\",\"barge0\",\"barge0\",\"barge0\",null,\"barge0\",\"barge0\",\"barge0\",\"barge0\",null],\"type\":\"scatter\"},{\"connectgaps\":false,\"hoverinfo\":\"y+name\",\"line\":{\"color\":\"rgb(220,77,225)\",\"width\":10},\"mode\":\"lines\",\"name\":\"sailing full1\",\"x\":[\"1970-01-01T00:02:01\",\"1970-01-01T00:02:01\",\"1970-01-01T00:02:31\",\"1970-01-01T00:02:31\",\"1970-01-01T00:02:31\",\"1970-01-01T00:04:38\",\"1970-01-01T00:04:38\",\"1970-01-01T00:05:08\",\"1970-01-01T00:05:08\",\"1970-01-01T00:05:08\",\"1970-01-01T00:07:15\",\"1970-01-01T00:07:15\",\"1970-01-01T00:07:45\",\"1970-01-01T00:07:45\",\"1970-01-01T00:07:45\",\"1970-01-01T00:09:52\",\"1970-01-01T00:09:52\",\"1970-01-01T00:10:22\",\"1970-01-01T00:10:22\",\"1970-01-01T00:10:22\",\"1970-01-01T00:12:29\",\"1970-01-01T00:12:29\",\"1970-01-01T00:12:59\",\"1970-01-01T00:12:59\",\"1970-01-01T00:12:59\",\"1970-01-01T00:15:06\",\"1970-01-01T00:15:06\",\"1970-01-01T00:15:36\",\"1970-01-01T00:15:36\",\"1970-01-01T00:15:36\"],\"y\":[\"barge1\",\"barge1\",\"barge1\",\"barge1\",null,\"barge1\",\"barge1\",\"barge1\",\"barge1\",null,\"barge1\",\"barge1\",\"barge1\",\"barge1\",null,\"barge1\",\"barge1\",\"barge1\",\"barge1\",null,\"barge1\",\"barge1\",\"barge1\",\"barge1\",null,\"barge1\",\"barge1\",\"barge1\",\"barge1\",null],\"type\":\"scatter\"},{\"connectgaps\":false,\"hoverinfo\":\"y+name\",\"line\":{\"color\":\"rgb(234,91,239)\",\"width\":10},\"mode\":\"lines\",\"name\":\"loading1\",\"x\":[\"1970-01-01T00:01:41\",\"1970-01-01T00:01:41\",\"1970-01-01T00:02:01\",\"1970-01-01T00:02:01\",\"1970-01-01T00:02:01\",\"1970-01-01T00:04:18\",\"1970-01-01T00:04:18\",\"1970-01-01T00:04:38\",\"1970-01-01T00:04:38\",\"1970-01-01T00:04:38\",\"1970-01-01T00:06:55\",\"1970-01-01T00:06:55\",\"1970-01-01T00:07:15\",\"1970-01-01T00:07:15\",\"1970-01-01T00:07:15\",\"1970-01-01T00:09:32\",\"1970-01-01T00:09:32\",\"1970-01-01T00:09:52\",\"1970-01-01T00:09:52\",\"1970-01-01T00:09:52\",\"1970-01-01T00:12:09\",\"1970-01-01T00:12:09\",\"1970-01-01T00:12:29\",\"1970-01-01T00:12:29\",\"1970-01-01T00:12:29\",\"1970-01-01T00:14:46\",\"1970-01-01T00:14:46\",\"1970-01-01T00:15:06\",\"1970-01-01T00:15:06\",\"1970-01-01T00:15:06\",\"1970-01-01T00:01:41\",\"1970-01-01T00:01:41\",\"1970-01-01T00:02:01\",\"1970-01-01T00:02:01\",\"1970-01-01T00:02:01\",\"1970-01-01T00:04:18\",\"1970-01-01T00:04:18\",\"1970-01-01T00:04:38\",\"1970-01-01T00:04:38\",\"1970-01-01T00:04:38\",\"1970-01-01T00:06:55\",\"1970-01-01T00:06:55\",\"1970-01-01T00:07:15\",\"1970-01-01T00:07:15\",\"1970-01-01T00:07:15\",\"1970-01-01T00:09:32\",\"1970-01-01T00:09:32\",\"1970-01-01T00:09:52\",\"1970-01-01T00:09:52\",\"1970-01-01T00:09:52\",\"1970-01-01T00:12:09\",\"1970-01-01T00:12:09\",\"1970-01-01T00:12:29\",\"1970-01-01T00:12:29\",\"1970-01-01T00:12:29\",\"1970-01-01T00:14:46\",\"1970-01-01T00:14:46\",\"1970-01-01T00:15:06\",\"1970-01-01T00:15:06\",\"1970-01-01T00:15:06\"],\"y\":[\"barge1\",\"barge1\",\"barge1\",\"barge1\",null,\"barge1\",\"barge1\",\"barge1\",\"barge1\",null,\"barge1\",\"barge1\",\"barge1\",\"barge1\",null,\"barge1\",\"barge1\",\"barge1\",\"barge1\",null,\"barge1\",\"barge1\",\"barge1\",\"barge1\",null,\"barge1\",\"barge1\",\"barge1\",\"barge1\",null,\"cutter\",\"cutter\",\"cutter\",\"cutter\",null,\"cutter\",\"cutter\",\"cutter\",\"cutter\",null,\"cutter\",\"cutter\",\"cutter\",\"cutter\",null,\"cutter\",\"cutter\",\"cutter\",\"cutter\",null,\"cutter\",\"cutter\",\"cutter\",\"cutter\",null,\"cutter\",\"cutter\",\"cutter\",\"cutter\",null],\"type\":\"scatter\"},{\"connectgaps\":false,\"hoverinfo\":\"y+name\",\"line\":{\"color\":\"rgb(248,105,253)\",\"width\":10},\"mode\":\"lines\",\"name\":\"unloading1\",\"x\":[\"1970-01-01T00:02:31\",\"1970-01-01T00:02:31\",\"1970-01-01T00:03:01\",\"1970-01-01T00:03:01\",\"1970-01-01T00:03:01\",\"1970-01-01T00:05:08\",\"1970-01-01T00:05:08\",\"1970-01-01T00:05:38\",\"1970-01-01T00:05:38\",\"1970-01-01T00:05:38\",\"1970-01-01T00:07:45\",\"1970-01-01T00:07:45\",\"1970-01-01T00:08:15\",\"1970-01-01T00:08:15\",\"1970-01-01T00:08:15\",\"1970-01-01T00:10:22\",\"1970-01-01T00:10:22\",\"1970-01-01T00:10:52\",\"1970-01-01T00:10:52\",\"1970-01-01T00:10:52\",\"1970-01-01T00:12:59\",\"1970-01-01T00:12:59\",\"1970-01-01T00:13:29\",\"1970-01-01T00:13:29\",\"1970-01-01T00:13:29\",\"1970-01-01T00:15:36\",\"1970-01-01T00:15:36\",\"1970-01-01T00:16:06\",\"1970-01-01T00:16:06\",\"1970-01-01T00:16:06\"],\"y\":[\"barge1\",\"barge1\",\"barge1\",\"barge1\",null,\"barge1\",\"barge1\",\"barge1\",\"barge1\",null,\"barge1\",\"barge1\",\"barge1\",\"barge1\",null,\"barge1\",\"barge1\",\"barge1\",\"barge1\",null,\"barge1\",\"barge1\",\"barge1\",\"barge1\",null,\"barge1\",\"barge1\",\"barge1\",\"barge1\",null],\"type\":\"scatter\"},{\"connectgaps\":false,\"hoverinfo\":\"y+name\",\"line\":{\"color\":\"rgb(6,119,11)\",\"width\":10},\"mode\":\"lines\",\"name\":\"sailing empty1\",\"x\":[\"1970-01-01T00:00:30\",\"1970-01-01T00:00:30\",\"1970-01-01T00:01:00\",\"1970-01-01T00:01:00\",\"1970-01-01T00:01:00\",\"1970-01-01T00:03:31\",\"1970-01-01T00:03:31\",\"1970-01-01T00:04:01\",\"1970-01-01T00:04:01\",\"1970-01-01T00:04:01\",\"1970-01-01T00:06:08\",\"1970-01-01T00:06:08\",\"1970-01-01T00:06:38\",\"1970-01-01T00:06:38\",\"1970-01-01T00:06:38\",\"1970-01-01T00:08:45\",\"1970-01-01T00:08:45\",\"1970-01-01T00:09:15\",\"1970-01-01T00:09:15\",\"1970-01-01T00:09:15\",\"1970-01-01T00:11:22\",\"1970-01-01T00:11:22\",\"1970-01-01T00:11:52\",\"1970-01-01T00:11:52\",\"1970-01-01T00:11:52\",\"1970-01-01T00:13:59\",\"1970-01-01T00:13:59\",\"1970-01-01T00:14:29\",\"1970-01-01T00:14:29\",\"1970-01-01T00:14:29\"],\"y\":[\"barge1\",\"barge1\",\"barge1\",\"barge1\",null,\"barge1\",\"barge1\",\"barge1\",\"barge1\",null,\"barge1\",\"barge1\",\"barge1\",\"barge1\",null,\"barge1\",\"barge1\",\"barge1\",\"barge1\",null,\"barge1\",\"barge1\",\"barge1\",\"barge1\",null,\"barge1\",\"barge1\",\"barge1\",\"barge1\",null],\"type\":\"scatter\"},{\"connectgaps\":false,\"hoverinfo\":\"y+name\",\"line\":{\"color\":\"rgb(20,133,25)\",\"width\":10},\"mode\":\"lines\",\"name\":\"basic activity1\",\"x\":[\"1970-01-01T00:00:00\",\"1970-01-01T00:00:00\",\"1970-01-01T00:00:30\",\"1970-01-01T00:00:30\",\"1970-01-01T00:00:30\",\"1970-01-01T00:03:01\",\"1970-01-01T00:03:01\",\"1970-01-01T00:03:31\",\"1970-01-01T00:03:31\",\"1970-01-01T00:03:31\",\"1970-01-01T00:05:38\",\"1970-01-01T00:05:38\",\"1970-01-01T00:06:08\",\"1970-01-01T00:06:08\",\"1970-01-01T00:06:08\",\"1970-01-01T00:08:15\",\"1970-01-01T00:08:15\",\"1970-01-01T00:08:45\",\"1970-01-01T00:08:45\",\"1970-01-01T00:08:45\",\"1970-01-01T00:10:52\",\"1970-01-01T00:10:52\",\"1970-01-01T00:11:22\",\"1970-01-01T00:11:22\",\"1970-01-01T00:11:22\",\"1970-01-01T00:13:29\",\"1970-01-01T00:13:29\",\"1970-01-01T00:13:59\",\"1970-01-01T00:13:59\",\"1970-01-01T00:13:59\"],\"y\":[\"barge1\",\"barge1\",\"barge1\",\"barge1\",null,\"barge1\",\"barge1\",\"barge1\",\"barge1\",null,\"barge1\",\"barge1\",\"barge1\",\"barge1\",null,\"barge1\",\"barge1\",\"barge1\",\"barge1\",null,\"barge1\",\"barge1\",\"barge1\",\"barge1\",null,\"barge1\",\"barge1\",\"barge1\",\"barge1\",null],\"type\":\"scatter\"},{\"connectgaps\":false,\"hoverinfo\":\"y+name\",\"line\":{\"color\":\"rgb(34,147,39)\",\"width\":10},\"mode\":\"lines\",\"name\":\"sailing full2\",\"x\":[\"1970-01-01T00:02:16\",\"1970-01-01T00:02:16\",\"1970-01-01T00:02:54\",\"1970-01-01T00:02:54\",\"1970-01-01T00:02:54\",\"1970-01-01T00:05:03\",\"1970-01-01T00:05:03\",\"1970-01-01T00:05:41\",\"1970-01-01T00:05:41\",\"1970-01-01T00:05:41\",\"1970-01-01T00:07:50\",\"1970-01-01T00:07:50\",\"1970-01-01T00:08:28\",\"1970-01-01T00:08:28\",\"1970-01-01T00:08:28\",\"1970-01-01T00:10:37\",\"1970-01-01T00:10:37\",\"1970-01-01T00:11:15\",\"1970-01-01T00:11:15\",\"1970-01-01T00:11:15\",\"1970-01-01T00:13:24\",\"1970-01-01T00:13:24\",\"1970-01-01T00:14:02\",\"1970-01-01T00:14:02\",\"1970-01-01T00:14:02\",\"1970-01-01T00:16:11\",\"1970-01-01T00:16:11\",\"1970-01-01T00:16:49\",\"1970-01-01T00:16:49\",\"1970-01-01T00:16:49\"],\"y\":[\"barge2\",\"barge2\",\"barge2\",\"barge2\",null,\"barge2\",\"barge2\",\"barge2\",\"barge2\",null,\"barge2\",\"barge2\",\"barge2\",\"barge2\",null,\"barge2\",\"barge2\",\"barge2\",\"barge2\",null,\"barge2\",\"barge2\",\"barge2\",\"barge2\",null,\"barge2\",\"barge2\",\"barge2\",\"barge2\",null],\"type\":\"scatter\"},{\"connectgaps\":false,\"hoverinfo\":\"y+name\",\"line\":{\"color\":\"rgb(48,161,53)\",\"width\":10},\"mode\":\"lines\",\"name\":\"basic activity2\",\"x\":[\"1970-01-01T00:00:00\",\"1970-01-01T00:00:00\",\"1970-01-01T00:00:38\",\"1970-01-01T00:00:38\",\"1970-01-01T00:00:38\",\"1970-01-01T00:03:32\",\"1970-01-01T00:03:32\",\"1970-01-01T00:04:10\",\"1970-01-01T00:04:10\",\"1970-01-01T00:04:10\",\"1970-01-01T00:06:19\",\"1970-01-01T00:06:19\",\"1970-01-01T00:06:57\",\"1970-01-01T00:06:57\",\"1970-01-01T00:06:57\",\"1970-01-01T00:09:06\",\"1970-01-01T00:09:06\",\"1970-01-01T00:09:44\",\"1970-01-01T00:09:44\",\"1970-01-01T00:09:44\",\"1970-01-01T00:11:53\",\"1970-01-01T00:11:53\",\"1970-01-01T00:12:31\",\"1970-01-01T00:12:31\",\"1970-01-01T00:12:31\",\"1970-01-01T00:14:40\",\"1970-01-01T00:14:40\",\"1970-01-01T00:15:18\",\"1970-01-01T00:15:18\",\"1970-01-01T00:15:18\"],\"y\":[\"barge2\",\"barge2\",\"barge2\",\"barge2\",null,\"barge2\",\"barge2\",\"barge2\",\"barge2\",null,\"barge2\",\"barge2\",\"barge2\",\"barge2\",null,\"barge2\",\"barge2\",\"barge2\",\"barge2\",null,\"barge2\",\"barge2\",\"barge2\",\"barge2\",null,\"barge2\",\"barge2\",\"barge2\",\"barge2\",null],\"type\":\"scatter\"},{\"connectgaps\":false,\"hoverinfo\":\"y+name\",\"line\":{\"color\":\"rgb(62,175,67)\",\"width\":10},\"mode\":\"lines\",\"name\":\"unloading2\",\"x\":[\"1970-01-01T00:02:54\",\"1970-01-01T00:02:54\",\"1970-01-01T00:03:32\",\"1970-01-01T00:03:32\",\"1970-01-01T00:03:32\",\"1970-01-01T00:05:41\",\"1970-01-01T00:05:41\",\"1970-01-01T00:06:19\",\"1970-01-01T00:06:19\",\"1970-01-01T00:06:19\",\"1970-01-01T00:08:28\",\"1970-01-01T00:08:28\",\"1970-01-01T00:09:06\",\"1970-01-01T00:09:06\",\"1970-01-01T00:09:06\",\"1970-01-01T00:11:15\",\"1970-01-01T00:11:15\",\"1970-01-01T00:11:53\",\"1970-01-01T00:11:53\",\"1970-01-01T00:11:53\",\"1970-01-01T00:14:02\",\"1970-01-01T00:14:02\",\"1970-01-01T00:14:40\",\"1970-01-01T00:14:40\",\"1970-01-01T00:14:40\",\"1970-01-01T00:16:49\",\"1970-01-01T00:16:49\",\"1970-01-01T00:17:27\",\"1970-01-01T00:17:27\",\"1970-01-01T00:17:27\"],\"y\":[\"barge2\",\"barge2\",\"barge2\",\"barge2\",null,\"barge2\",\"barge2\",\"barge2\",\"barge2\",null,\"barge2\",\"barge2\",\"barge2\",\"barge2\",null,\"barge2\",\"barge2\",\"barge2\",\"barge2\",null,\"barge2\",\"barge2\",\"barge2\",\"barge2\",null,\"barge2\",\"barge2\",\"barge2\",\"barge2\",null],\"type\":\"scatter\"},{\"connectgaps\":false,\"hoverinfo\":\"y+name\",\"line\":{\"color\":\"rgb(76,189,81)\",\"width\":10},\"mode\":\"lines\",\"name\":\"loading2\",\"x\":[\"1970-01-01T00:02:01\",\"1970-01-01T00:02:01\",\"1970-01-01T00:02:16\",\"1970-01-01T00:02:16\",\"1970-01-01T00:02:16\",\"1970-01-01T00:04:48\",\"1970-01-01T00:04:48\",\"1970-01-01T00:05:03\",\"1970-01-01T00:05:03\",\"1970-01-01T00:05:03\",\"1970-01-01T00:07:35\",\"1970-01-01T00:07:35\",\"1970-01-01T00:07:50\",\"1970-01-01T00:07:50\",\"1970-01-01T00:07:50\",\"1970-01-01T00:10:22\",\"1970-01-01T00:10:22\",\"1970-01-01T00:10:37\",\"1970-01-01T00:10:37\",\"1970-01-01T00:10:37\",\"1970-01-01T00:13:09\",\"1970-01-01T00:13:09\",\"1970-01-01T00:13:24\",\"1970-01-01T00:13:24\",\"1970-01-01T00:13:24\",\"1970-01-01T00:15:56\",\"1970-01-01T00:15:56\",\"1970-01-01T00:16:11\",\"1970-01-01T00:16:11\",\"1970-01-01T00:16:11\",\"1970-01-01T00:02:01\",\"1970-01-01T00:02:01\",\"1970-01-01T00:02:16\",\"1970-01-01T00:02:16\",\"1970-01-01T00:02:16\",\"1970-01-01T00:04:48\",\"1970-01-01T00:04:48\",\"1970-01-01T00:05:03\",\"1970-01-01T00:05:03\",\"1970-01-01T00:05:03\",\"1970-01-01T00:07:35\",\"1970-01-01T00:07:35\",\"1970-01-01T00:07:50\",\"1970-01-01T00:07:50\",\"1970-01-01T00:07:50\",\"1970-01-01T00:10:22\",\"1970-01-01T00:10:22\",\"1970-01-01T00:10:37\",\"1970-01-01T00:10:37\",\"1970-01-01T00:10:37\",\"1970-01-01T00:13:09\",\"1970-01-01T00:13:09\",\"1970-01-01T00:13:24\",\"1970-01-01T00:13:24\",\"1970-01-01T00:13:24\",\"1970-01-01T00:15:56\",\"1970-01-01T00:15:56\",\"1970-01-01T00:16:11\",\"1970-01-01T00:16:11\",\"1970-01-01T00:16:11\"],\"y\":[\"barge2\",\"barge2\",\"barge2\",\"barge2\",null,\"barge2\",\"barge2\",\"barge2\",\"barge2\",null,\"barge2\",\"barge2\",\"barge2\",\"barge2\",null,\"barge2\",\"barge2\",\"barge2\",\"barge2\",null,\"barge2\",\"barge2\",\"barge2\",\"barge2\",null,\"barge2\",\"barge2\",\"barge2\",\"barge2\",null,\"cutter\",\"cutter\",\"cutter\",\"cutter\",null,\"cutter\",\"cutter\",\"cutter\",\"cutter\",null,\"cutter\",\"cutter\",\"cutter\",\"cutter\",null,\"cutter\",\"cutter\",\"cutter\",\"cutter\",null,\"cutter\",\"cutter\",\"cutter\",\"cutter\",null,\"cutter\",\"cutter\",\"cutter\",\"cutter\",null],\"type\":\"scatter\"},{\"connectgaps\":false,\"hoverinfo\":\"y+name\",\"line\":{\"color\":\"rgb(90,203,95)\",\"width\":10},\"mode\":\"lines\",\"name\":\"sailing empty2\",\"x\":[\"1970-01-01T00:00:38\",\"1970-01-01T00:00:38\",\"1970-01-01T00:01:16\",\"1970-01-01T00:01:16\",\"1970-01-01T00:01:16\",\"1970-01-01T00:04:10\",\"1970-01-01T00:04:10\",\"1970-01-01T00:04:48\",\"1970-01-01T00:04:48\",\"1970-01-01T00:04:48\",\"1970-01-01T00:06:57\",\"1970-01-01T00:06:57\",\"1970-01-01T00:07:35\",\"1970-01-01T00:07:35\",\"1970-01-01T00:07:35\",\"1970-01-01T00:09:44\",\"1970-01-01T00:09:44\",\"1970-01-01T00:10:22\",\"1970-01-01T00:10:22\",\"1970-01-01T00:10:22\",\"1970-01-01T00:12:31\",\"1970-01-01T00:12:31\",\"1970-01-01T00:13:09\",\"1970-01-01T00:13:09\",\"1970-01-01T00:13:09\",\"1970-01-01T00:15:18\",\"1970-01-01T00:15:18\",\"1970-01-01T00:15:56\",\"1970-01-01T00:15:56\",\"1970-01-01T00:15:56\"],\"y\":[\"barge2\",\"barge2\",\"barge2\",\"barge2\",null,\"barge2\",\"barge2\",\"barge2\",\"barge2\",null,\"barge2\",\"barge2\",\"barge2\",\"barge2\",null,\"barge2\",\"barge2\",\"barge2\",\"barge2\",null,\"barge2\",\"barge2\",\"barge2\",\"barge2\",null,\"barge2\",\"barge2\",\"barge2\",\"barge2\",null],\"type\":\"scatter\"},{\"connectgaps\":false,\"hoverinfo\":\"y+name\",\"line\":{\"color\":\"rgb(104,217,109)\",\"width\":10},\"mode\":\"lines\",\"name\":\"loading1\",\"x\":[\"1970-01-01T00:01:41\",\"1970-01-01T00:01:41\",\"1970-01-01T00:02:01\",\"1970-01-01T00:02:01\",\"1970-01-01T00:02:01\",\"1970-01-01T00:04:18\",\"1970-01-01T00:04:18\",\"1970-01-01T00:04:38\",\"1970-01-01T00:04:38\",\"1970-01-01T00:04:38\",\"1970-01-01T00:06:55\",\"1970-01-01T00:06:55\",\"1970-01-01T00:07:15\",\"1970-01-01T00:07:15\",\"1970-01-01T00:07:15\",\"1970-01-01T00:09:32\",\"1970-01-01T00:09:32\",\"1970-01-01T00:09:52\",\"1970-01-01T00:09:52\",\"1970-01-01T00:09:52\",\"1970-01-01T00:12:09\",\"1970-01-01T00:12:09\",\"1970-01-01T00:12:29\",\"1970-01-01T00:12:29\",\"1970-01-01T00:12:29\",\"1970-01-01T00:14:46\",\"1970-01-01T00:14:46\",\"1970-01-01T00:15:06\",\"1970-01-01T00:15:06\",\"1970-01-01T00:15:06\",\"1970-01-01T00:01:41\",\"1970-01-01T00:01:41\",\"1970-01-01T00:02:01\",\"1970-01-01T00:02:01\",\"1970-01-01T00:02:01\",\"1970-01-01T00:04:18\",\"1970-01-01T00:04:18\",\"1970-01-01T00:04:38\",\"1970-01-01T00:04:38\",\"1970-01-01T00:04:38\",\"1970-01-01T00:06:55\",\"1970-01-01T00:06:55\",\"1970-01-01T00:07:15\",\"1970-01-01T00:07:15\",\"1970-01-01T00:07:15\",\"1970-01-01T00:09:32\",\"1970-01-01T00:09:32\",\"1970-01-01T00:09:52\",\"1970-01-01T00:09:52\",\"1970-01-01T00:09:52\",\"1970-01-01T00:12:09\",\"1970-01-01T00:12:09\",\"1970-01-01T00:12:29\",\"1970-01-01T00:12:29\",\"1970-01-01T00:12:29\",\"1970-01-01T00:14:46\",\"1970-01-01T00:14:46\",\"1970-01-01T00:15:06\",\"1970-01-01T00:15:06\",\"1970-01-01T00:15:06\"],\"y\":[\"barge1\",\"barge1\",\"barge1\",\"barge1\",null,\"barge1\",\"barge1\",\"barge1\",\"barge1\",null,\"barge1\",\"barge1\",\"barge1\",\"barge1\",null,\"barge1\",\"barge1\",\"barge1\",\"barge1\",null,\"barge1\",\"barge1\",\"barge1\",\"barge1\",null,\"barge1\",\"barge1\",\"barge1\",\"barge1\",null,\"cutter\",\"cutter\",\"cutter\",\"cutter\",null,\"cutter\",\"cutter\",\"cutter\",\"cutter\",null,\"cutter\",\"cutter\",\"cutter\",\"cutter\",null,\"cutter\",\"cutter\",\"cutter\",\"cutter\",null,\"cutter\",\"cutter\",\"cutter\",\"cutter\",null,\"cutter\",\"cutter\",\"cutter\",\"cutter\",null],\"type\":\"scatter\"},{\"connectgaps\":false,\"hoverinfo\":\"y+name\",\"line\":{\"color\":\"rgb(118,231,123)\",\"width\":10},\"mode\":\"lines\",\"name\":\"loading2\",\"x\":[\"1970-01-01T00:02:01\",\"1970-01-01T00:02:01\",\"1970-01-01T00:02:16\",\"1970-01-01T00:02:16\",\"1970-01-01T00:02:16\",\"1970-01-01T00:04:48\",\"1970-01-01T00:04:48\",\"1970-01-01T00:05:03\",\"1970-01-01T00:05:03\",\"1970-01-01T00:05:03\",\"1970-01-01T00:07:35\",\"1970-01-01T00:07:35\",\"1970-01-01T00:07:50\",\"1970-01-01T00:07:50\",\"1970-01-01T00:07:50\",\"1970-01-01T00:10:22\",\"1970-01-01T00:10:22\",\"1970-01-01T00:10:37\",\"1970-01-01T00:10:37\",\"1970-01-01T00:10:37\",\"1970-01-01T00:13:09\",\"1970-01-01T00:13:09\",\"1970-01-01T00:13:24\",\"1970-01-01T00:13:24\",\"1970-01-01T00:13:24\",\"1970-01-01T00:15:56\",\"1970-01-01T00:15:56\",\"1970-01-01T00:16:11\",\"1970-01-01T00:16:11\",\"1970-01-01T00:16:11\",\"1970-01-01T00:02:01\",\"1970-01-01T00:02:01\",\"1970-01-01T00:02:16\",\"1970-01-01T00:02:16\",\"1970-01-01T00:02:16\",\"1970-01-01T00:04:48\",\"1970-01-01T00:04:48\",\"1970-01-01T00:05:03\",\"1970-01-01T00:05:03\",\"1970-01-01T00:05:03\",\"1970-01-01T00:07:35\",\"1970-01-01T00:07:35\",\"1970-01-01T00:07:50\",\"1970-01-01T00:07:50\",\"1970-01-01T00:07:50\",\"1970-01-01T00:10:22\",\"1970-01-01T00:10:22\",\"1970-01-01T00:10:37\",\"1970-01-01T00:10:37\",\"1970-01-01T00:10:37\",\"1970-01-01T00:13:09\",\"1970-01-01T00:13:09\",\"1970-01-01T00:13:24\",\"1970-01-01T00:13:24\",\"1970-01-01T00:13:24\",\"1970-01-01T00:15:56\",\"1970-01-01T00:15:56\",\"1970-01-01T00:16:11\",\"1970-01-01T00:16:11\",\"1970-01-01T00:16:11\"],\"y\":[\"barge2\",\"barge2\",\"barge2\",\"barge2\",null,\"barge2\",\"barge2\",\"barge2\",\"barge2\",null,\"barge2\",\"barge2\",\"barge2\",\"barge2\",null,\"barge2\",\"barge2\",\"barge2\",\"barge2\",null,\"barge2\",\"barge2\",\"barge2\",\"barge2\",null,\"barge2\",\"barge2\",\"barge2\",\"barge2\",null,\"cutter\",\"cutter\",\"cutter\",\"cutter\",null,\"cutter\",\"cutter\",\"cutter\",\"cutter\",null,\"cutter\",\"cutter\",\"cutter\",\"cutter\",null,\"cutter\",\"cutter\",\"cutter\",\"cutter\",null,\"cutter\",\"cutter\",\"cutter\",\"cutter\",null,\"cutter\",\"cutter\",\"cutter\",\"cutter\",null],\"type\":\"scatter\"},{\"connectgaps\":false,\"hoverinfo\":\"y+name\",\"line\":{\"color\":\"rgb(132,245,137)\",\"width\":10},\"mode\":\"lines\",\"name\":\"loading0\",\"x\":[\"1970-01-01T00:00:56\",\"1970-01-01T00:00:56\",\"1970-01-01T00:01:41\",\"1970-01-01T00:01:41\",\"1970-01-01T00:01:41\",\"1970-01-01T00:03:33\",\"1970-01-01T00:03:33\",\"1970-01-01T00:04:18\",\"1970-01-01T00:04:18\",\"1970-01-01T00:04:18\",\"1970-01-01T00:06:10\",\"1970-01-01T00:06:10\",\"1970-01-01T00:06:55\",\"1970-01-01T00:06:55\",\"1970-01-01T00:06:55\",\"1970-01-01T00:08:47\",\"1970-01-01T00:08:47\",\"1970-01-01T00:09:32\",\"1970-01-01T00:09:32\",\"1970-01-01T00:09:32\",\"1970-01-01T00:11:24\",\"1970-01-01T00:11:24\",\"1970-01-01T00:12:09\",\"1970-01-01T00:12:09\",\"1970-01-01T00:12:09\",\"1970-01-01T00:14:01\",\"1970-01-01T00:14:01\",\"1970-01-01T00:14:46\",\"1970-01-01T00:14:46\",\"1970-01-01T00:14:46\",\"1970-01-01T00:16:38\",\"1970-01-01T00:16:38\",\"1970-01-01T00:17:23\",\"1970-01-01T00:17:23\",\"1970-01-01T00:17:23\",\"1970-01-01T00:00:56\",\"1970-01-01T00:00:56\",\"1970-01-01T00:01:41\",\"1970-01-01T00:01:41\",\"1970-01-01T00:01:41\",\"1970-01-01T00:03:33\",\"1970-01-01T00:03:33\",\"1970-01-01T00:04:18\",\"1970-01-01T00:04:18\",\"1970-01-01T00:04:18\",\"1970-01-01T00:06:10\",\"1970-01-01T00:06:10\",\"1970-01-01T00:06:55\",\"1970-01-01T00:06:55\",\"1970-01-01T00:06:55\",\"1970-01-01T00:08:47\",\"1970-01-01T00:08:47\",\"1970-01-01T00:09:32\",\"1970-01-01T00:09:32\",\"1970-01-01T00:09:32\",\"1970-01-01T00:11:24\",\"1970-01-01T00:11:24\",\"1970-01-01T00:12:09\",\"1970-01-01T00:12:09\",\"1970-01-01T00:12:09\",\"1970-01-01T00:14:01\",\"1970-01-01T00:14:01\",\"1970-01-01T00:14:46\",\"1970-01-01T00:14:46\",\"1970-01-01T00:14:46\",\"1970-01-01T00:16:38\",\"1970-01-01T00:16:38\",\"1970-01-01T00:17:23\",\"1970-01-01T00:17:23\",\"1970-01-01T00:17:23\"],\"y\":[\"barge0\",\"barge0\",\"barge0\",\"barge0\",null,\"barge0\",\"barge0\",\"barge0\",\"barge0\",null,\"barge0\",\"barge0\",\"barge0\",\"barge0\",null,\"barge0\",\"barge0\",\"barge0\",\"barge0\",null,\"barge0\",\"barge0\",\"barge0\",\"barge0\",null,\"barge0\",\"barge0\",\"barge0\",\"barge0\",null,\"barge0\",\"barge0\",\"barge0\",\"barge0\",null,\"cutter\",\"cutter\",\"cutter\",\"cutter\",null,\"cutter\",\"cutter\",\"cutter\",\"cutter\",null,\"cutter\",\"cutter\",\"cutter\",\"cutter\",null,\"cutter\",\"cutter\",\"cutter\",\"cutter\",null,\"cutter\",\"cutter\",\"cutter\",\"cutter\",null,\"cutter\",\"cutter\",\"cutter\",\"cutter\",null,\"cutter\",\"cutter\",\"cutter\",\"cutter\",null],\"type\":\"scatter\"}],                        {\"hovermode\":\"closest\",\"legend\":{\"orientation\":\"h\",\"x\":0,\"y\":-0.2},\"template\":{\"data\":{\"barpolar\":[{\"marker\":{\"line\":{\"color\":\"#E5ECF6\",\"width\":0.5},\"pattern\":{\"fillmode\":\"overlay\",\"size\":10,\"solidity\":0.2}},\"type\":\"barpolar\"}],\"bar\":[{\"error_x\":{\"color\":\"#2a3f5f\"},\"error_y\":{\"color\":\"#2a3f5f\"},\"marker\":{\"line\":{\"color\":\"#E5ECF6\",\"width\":0.5},\"pattern\":{\"fillmode\":\"overlay\",\"size\":10,\"solidity\":0.2}},\"type\":\"bar\"}],\"carpet\":[{\"aaxis\":{\"endlinecolor\":\"#2a3f5f\",\"gridcolor\":\"white\",\"linecolor\":\"white\",\"minorgridcolor\":\"white\",\"startlinecolor\":\"#2a3f5f\"},\"baxis\":{\"endlinecolor\":\"#2a3f5f\",\"gridcolor\":\"white\",\"linecolor\":\"white\",\"minorgridcolor\":\"white\",\"startlinecolor\":\"#2a3f5f\"},\"type\":\"carpet\"}],\"choropleth\":[{\"colorbar\":{\"outlinewidth\":0,\"ticks\":\"\"},\"type\":\"choropleth\"}],\"contourcarpet\":[{\"colorbar\":{\"outlinewidth\":0,\"ticks\":\"\"},\"type\":\"contourcarpet\"}],\"contour\":[{\"colorbar\":{\"outlinewidth\":0,\"ticks\":\"\"},\"colorscale\":[[0.0,\"#0d0887\"],[0.1111111111111111,\"#46039f\"],[0.2222222222222222,\"#7201a8\"],[0.3333333333333333,\"#9c179e\"],[0.4444444444444444,\"#bd3786\"],[0.5555555555555556,\"#d8576b\"],[0.6666666666666666,\"#ed7953\"],[0.7777777777777778,\"#fb9f3a\"],[0.8888888888888888,\"#fdca26\"],[1.0,\"#f0f921\"]],\"type\":\"contour\"}],\"heatmapgl\":[{\"colorbar\":{\"outlinewidth\":0,\"ticks\":\"\"},\"colorscale\":[[0.0,\"#0d0887\"],[0.1111111111111111,\"#46039f\"],[0.2222222222222222,\"#7201a8\"],[0.3333333333333333,\"#9c179e\"],[0.4444444444444444,\"#bd3786\"],[0.5555555555555556,\"#d8576b\"],[0.6666666666666666,\"#ed7953\"],[0.7777777777777778,\"#fb9f3a\"],[0.8888888888888888,\"#fdca26\"],[1.0,\"#f0f921\"]],\"type\":\"heatmapgl\"}],\"heatmap\":[{\"colorbar\":{\"outlinewidth\":0,\"ticks\":\"\"},\"colorscale\":[[0.0,\"#0d0887\"],[0.1111111111111111,\"#46039f\"],[0.2222222222222222,\"#7201a8\"],[0.3333333333333333,\"#9c179e\"],[0.4444444444444444,\"#bd3786\"],[0.5555555555555556,\"#d8576b\"],[0.6666666666666666,\"#ed7953\"],[0.7777777777777778,\"#fb9f3a\"],[0.8888888888888888,\"#fdca26\"],[1.0,\"#f0f921\"]],\"type\":\"heatmap\"}],\"histogram2dcontour\":[{\"colorbar\":{\"outlinewidth\":0,\"ticks\":\"\"},\"colorscale\":[[0.0,\"#0d0887\"],[0.1111111111111111,\"#46039f\"],[0.2222222222222222,\"#7201a8\"],[0.3333333333333333,\"#9c179e\"],[0.4444444444444444,\"#bd3786\"],[0.5555555555555556,\"#d8576b\"],[0.6666666666666666,\"#ed7953\"],[0.7777777777777778,\"#fb9f3a\"],[0.8888888888888888,\"#fdca26\"],[1.0,\"#f0f921\"]],\"type\":\"histogram2dcontour\"}],\"histogram2d\":[{\"colorbar\":{\"outlinewidth\":0,\"ticks\":\"\"},\"colorscale\":[[0.0,\"#0d0887\"],[0.1111111111111111,\"#46039f\"],[0.2222222222222222,\"#7201a8\"],[0.3333333333333333,\"#9c179e\"],[0.4444444444444444,\"#bd3786\"],[0.5555555555555556,\"#d8576b\"],[0.6666666666666666,\"#ed7953\"],[0.7777777777777778,\"#fb9f3a\"],[0.8888888888888888,\"#fdca26\"],[1.0,\"#f0f921\"]],\"type\":\"histogram2d\"}],\"histogram\":[{\"marker\":{\"pattern\":{\"fillmode\":\"overlay\",\"size\":10,\"solidity\":0.2}},\"type\":\"histogram\"}],\"mesh3d\":[{\"colorbar\":{\"outlinewidth\":0,\"ticks\":\"\"},\"type\":\"mesh3d\"}],\"parcoords\":[{\"line\":{\"colorbar\":{\"outlinewidth\":0,\"ticks\":\"\"}},\"type\":\"parcoords\"}],\"pie\":[{\"automargin\":true,\"type\":\"pie\"}],\"scatter3d\":[{\"line\":{\"colorbar\":{\"outlinewidth\":0,\"ticks\":\"\"}},\"marker\":{\"colorbar\":{\"outlinewidth\":0,\"ticks\":\"\"}},\"type\":\"scatter3d\"}],\"scattercarpet\":[{\"marker\":{\"colorbar\":{\"outlinewidth\":0,\"ticks\":\"\"}},\"type\":\"scattercarpet\"}],\"scattergeo\":[{\"marker\":{\"colorbar\":{\"outlinewidth\":0,\"ticks\":\"\"}},\"type\":\"scattergeo\"}],\"scattergl\":[{\"marker\":{\"colorbar\":{\"outlinewidth\":0,\"ticks\":\"\"}},\"type\":\"scattergl\"}],\"scattermapbox\":[{\"marker\":{\"colorbar\":{\"outlinewidth\":0,\"ticks\":\"\"}},\"type\":\"scattermapbox\"}],\"scatterpolargl\":[{\"marker\":{\"colorbar\":{\"outlinewidth\":0,\"ticks\":\"\"}},\"type\":\"scatterpolargl\"}],\"scatterpolar\":[{\"marker\":{\"colorbar\":{\"outlinewidth\":0,\"ticks\":\"\"}},\"type\":\"scatterpolar\"}],\"scatter\":[{\"marker\":{\"colorbar\":{\"outlinewidth\":0,\"ticks\":\"\"}},\"type\":\"scatter\"}],\"scatterternary\":[{\"marker\":{\"colorbar\":{\"outlinewidth\":0,\"ticks\":\"\"}},\"type\":\"scatterternary\"}],\"surface\":[{\"colorbar\":{\"outlinewidth\":0,\"ticks\":\"\"},\"colorscale\":[[0.0,\"#0d0887\"],[0.1111111111111111,\"#46039f\"],[0.2222222222222222,\"#7201a8\"],[0.3333333333333333,\"#9c179e\"],[0.4444444444444444,\"#bd3786\"],[0.5555555555555556,\"#d8576b\"],[0.6666666666666666,\"#ed7953\"],[0.7777777777777778,\"#fb9f3a\"],[0.8888888888888888,\"#fdca26\"],[1.0,\"#f0f921\"]],\"type\":\"surface\"}],\"table\":[{\"cells\":{\"fill\":{\"color\":\"#EBF0F8\"},\"line\":{\"color\":\"white\"}},\"header\":{\"fill\":{\"color\":\"#C8D4E3\"},\"line\":{\"color\":\"white\"}},\"type\":\"table\"}]},\"layout\":{\"annotationdefaults\":{\"arrowcolor\":\"#2a3f5f\",\"arrowhead\":0,\"arrowwidth\":1},\"autotypenumbers\":\"strict\",\"coloraxis\":{\"colorbar\":{\"outlinewidth\":0,\"ticks\":\"\"}},\"colorscale\":{\"diverging\":[[0,\"#8e0152\"],[0.1,\"#c51b7d\"],[0.2,\"#de77ae\"],[0.3,\"#f1b6da\"],[0.4,\"#fde0ef\"],[0.5,\"#f7f7f7\"],[0.6,\"#e6f5d0\"],[0.7,\"#b8e186\"],[0.8,\"#7fbc41\"],[0.9,\"#4d9221\"],[1,\"#276419\"]],\"sequential\":[[0.0,\"#0d0887\"],[0.1111111111111111,\"#46039f\"],[0.2222222222222222,\"#7201a8\"],[0.3333333333333333,\"#9c179e\"],[0.4444444444444444,\"#bd3786\"],[0.5555555555555556,\"#d8576b\"],[0.6666666666666666,\"#ed7953\"],[0.7777777777777778,\"#fb9f3a\"],[0.8888888888888888,\"#fdca26\"],[1.0,\"#f0f921\"]],\"sequentialminus\":[[0.0,\"#0d0887\"],[0.1111111111111111,\"#46039f\"],[0.2222222222222222,\"#7201a8\"],[0.3333333333333333,\"#9c179e\"],[0.4444444444444444,\"#bd3786\"],[0.5555555555555556,\"#d8576b\"],[0.6666666666666666,\"#ed7953\"],[0.7777777777777778,\"#fb9f3a\"],[0.8888888888888888,\"#fdca26\"],[1.0,\"#f0f921\"]]},\"colorway\":[\"#636efa\",\"#EF553B\",\"#00cc96\",\"#ab63fa\",\"#FFA15A\",\"#19d3f3\",\"#FF6692\",\"#B6E880\",\"#FF97FF\",\"#FECB52\"],\"font\":{\"color\":\"#2a3f5f\"},\"geo\":{\"bgcolor\":\"white\",\"lakecolor\":\"white\",\"landcolor\":\"#E5ECF6\",\"showlakes\":true,\"showland\":true,\"subunitcolor\":\"white\"},\"hoverlabel\":{\"align\":\"left\"},\"hovermode\":\"closest\",\"mapbox\":{\"style\":\"light\"},\"paper_bgcolor\":\"white\",\"plot_bgcolor\":\"#E5ECF6\",\"polar\":{\"angularaxis\":{\"gridcolor\":\"white\",\"linecolor\":\"white\",\"ticks\":\"\"},\"bgcolor\":\"#E5ECF6\",\"radialaxis\":{\"gridcolor\":\"white\",\"linecolor\":\"white\",\"ticks\":\"\"}},\"scene\":{\"xaxis\":{\"backgroundcolor\":\"#E5ECF6\",\"gridcolor\":\"white\",\"gridwidth\":2,\"linecolor\":\"white\",\"showbackground\":true,\"ticks\":\"\",\"zerolinecolor\":\"white\"},\"yaxis\":{\"backgroundcolor\":\"#E5ECF6\",\"gridcolor\":\"white\",\"gridwidth\":2,\"linecolor\":\"white\",\"showbackground\":true,\"ticks\":\"\",\"zerolinecolor\":\"white\"},\"zaxis\":{\"backgroundcolor\":\"#E5ECF6\",\"gridcolor\":\"white\",\"gridwidth\":2,\"linecolor\":\"white\",\"showbackground\":true,\"ticks\":\"\",\"zerolinecolor\":\"white\"}},\"shapedefaults\":{\"line\":{\"color\":\"#2a3f5f\"}},\"ternary\":{\"aaxis\":{\"gridcolor\":\"white\",\"linecolor\":\"white\",\"ticks\":\"\"},\"baxis\":{\"gridcolor\":\"white\",\"linecolor\":\"white\",\"ticks\":\"\"},\"bgcolor\":\"#E5ECF6\",\"caxis\":{\"gridcolor\":\"white\",\"linecolor\":\"white\",\"ticks\":\"\"}},\"title\":{\"x\":0.05},\"xaxis\":{\"automargin\":true,\"gridcolor\":\"white\",\"linecolor\":\"white\",\"ticks\":\"\",\"title\":{\"standoff\":15},\"zerolinecolor\":\"white\",\"zerolinewidth\":2},\"yaxis\":{\"automargin\":true,\"gridcolor\":\"white\",\"linecolor\":\"white\",\"ticks\":\"\",\"title\":{\"standoff\":15},\"zerolinecolor\":\"white\",\"zerolinewidth\":2}}},\"title\":{\"text\":\"GANTT Chart\"},\"xaxis\":{\"range\":[\"1970-01-01T00:00:00\",\"1970-01-01T00:18:19\"],\"title\":{\"font\":{\"color\":\"#7f7f7f\",\"family\":\"Courier New, monospace\",\"size\":18},\"text\":\"Time\"}},\"yaxis\":{\"title\":{\"font\":{\"color\":\"#7f7f7f\",\"family\":\"Courier New, monospace\",\"size\":18},\"text\":\"Activities\"}}},                        {\"responsive\": true}                    ).then(function(){\n",
       "                            \n",
       "var gd = document.getElementById('77e866f0-743a-4348-9191-13a6a253d1b5');\n",
       "var x = new MutationObserver(function (mutations, observer) {{\n",
       "        var display = window.getComputedStyle(gd).display;\n",
       "        if (!display || display === 'none') {{\n",
       "            console.log([gd, 'removed!']);\n",
       "            Plotly.purge(gd);\n",
       "            observer.disconnect();\n",
       "        }}\n",
       "}});\n",
       "\n",
       "// Listen for the removal of the full notebook cells\n",
       "var notebookContainer = gd.closest('#notebook-container');\n",
       "if (notebookContainer) {{\n",
       "    x.observe(notebookContainer, {childList: true});\n",
       "}}\n",
       "\n",
       "// Listen for the clearing of the current output cell\n",
       "var outputEl = gd.closest('.output');\n",
       "if (outputEl) {{\n",
       "    x.observe(outputEl, {childList: true});\n",
       "}}\n",
       "\n",
       "                        })                };                });            </script>        </div>"
      ]
     },
     "metadata": {},
     "output_type": "display_data"
    }
   ],
   "source": [
    "fig = plot.get_gantt_chart([*vessels.values()], id_map=id_map)"
   ]
  },
  {
   "cell_type": "code",
   "execution_count": 7,
   "metadata": {},
   "outputs": [
    {
     "data": {
      "text/html": [
       "        <script type=\"text/javascript\">\n",
       "        window.PlotlyConfig = {MathJaxConfig: 'local'};\n",
       "        if (window.MathJax) {MathJax.Hub.Config({SVG: {font: \"STIX-Web\"}});}\n",
       "        if (typeof require !== 'undefined') {\n",
       "        require.undef(\"plotly\");\n",
       "        requirejs.config({\n",
       "            paths: {\n",
       "                'plotly': ['https://cdn.plot.ly/plotly-2.8.3.min']\n",
       "            }\n",
       "        });\n",
       "        require(['plotly'], function(Plotly) {\n",
       "            window._Plotly = Plotly;\n",
       "        });\n",
       "        }\n",
       "        </script>\n",
       "        "
      ]
     },
     "metadata": {},
     "output_type": "display_data"
    },
    {
     "data": {
      "application/vnd.plotly.v1+json": {
       "config": {
        "linkText": "Export to plot.ly",
        "plotlyServerURL": "https://plot.ly",
        "showLink": false
       },
       "data": [
        {
         "connectgaps": false,
         "hoverinfo": "y+name",
         "line": {
          "color": "rgb(80,234,34)",
          "width": 10
         },
         "mode": "lines",
         "name": "loading1",
         "type": "scatter",
         "x": [
          "1970-01-01T00:01:41",
          "1970-01-01T00:01:41",
          "1970-01-01T00:02:01",
          "1970-01-01T00:02:01",
          "1970-01-01T00:02:01",
          "1970-01-01T00:04:18",
          "1970-01-01T00:04:18",
          "1970-01-01T00:04:38",
          "1970-01-01T00:04:38",
          "1970-01-01T00:04:38",
          "1970-01-01T00:06:55",
          "1970-01-01T00:06:55",
          "1970-01-01T00:07:15",
          "1970-01-01T00:07:15",
          "1970-01-01T00:07:15",
          "1970-01-01T00:09:32",
          "1970-01-01T00:09:32",
          "1970-01-01T00:09:52",
          "1970-01-01T00:09:52",
          "1970-01-01T00:09:52",
          "1970-01-01T00:12:09",
          "1970-01-01T00:12:09",
          "1970-01-01T00:12:29",
          "1970-01-01T00:12:29",
          "1970-01-01T00:12:29",
          "1970-01-01T00:14:46",
          "1970-01-01T00:14:46",
          "1970-01-01T00:15:06",
          "1970-01-01T00:15:06",
          "1970-01-01T00:15:06",
          "1970-01-01T00:01:41",
          "1970-01-01T00:01:41",
          "1970-01-01T00:02:01",
          "1970-01-01T00:02:01",
          "1970-01-01T00:02:01",
          "1970-01-01T00:04:18",
          "1970-01-01T00:04:18",
          "1970-01-01T00:04:38",
          "1970-01-01T00:04:38",
          "1970-01-01T00:04:38",
          "1970-01-01T00:06:55",
          "1970-01-01T00:06:55",
          "1970-01-01T00:07:15",
          "1970-01-01T00:07:15",
          "1970-01-01T00:07:15",
          "1970-01-01T00:09:32",
          "1970-01-01T00:09:32",
          "1970-01-01T00:09:52",
          "1970-01-01T00:09:52",
          "1970-01-01T00:09:52",
          "1970-01-01T00:12:09",
          "1970-01-01T00:12:09",
          "1970-01-01T00:12:29",
          "1970-01-01T00:12:29",
          "1970-01-01T00:12:29",
          "1970-01-01T00:14:46",
          "1970-01-01T00:14:46",
          "1970-01-01T00:15:06",
          "1970-01-01T00:15:06",
          "1970-01-01T00:15:06"
         ],
         "y": [
          "from_site",
          "from_site",
          "from_site",
          "from_site",
          null,
          "from_site",
          "from_site",
          "from_site",
          "from_site",
          null,
          "from_site",
          "from_site",
          "from_site",
          "from_site",
          null,
          "from_site",
          "from_site",
          "from_site",
          "from_site",
          null,
          "from_site",
          "from_site",
          "from_site",
          "from_site",
          null,
          "from_site",
          "from_site",
          "from_site",
          "from_site",
          null,
          "cutter",
          "cutter",
          "cutter",
          "cutter",
          null,
          "cutter",
          "cutter",
          "cutter",
          "cutter",
          null,
          "cutter",
          "cutter",
          "cutter",
          "cutter",
          null,
          "cutter",
          "cutter",
          "cutter",
          "cutter",
          null,
          "cutter",
          "cutter",
          "cutter",
          "cutter",
          null,
          "cutter",
          "cutter",
          "cutter",
          "cutter",
          null
         ]
        },
        {
         "connectgaps": false,
         "hoverinfo": "y+name",
         "line": {
          "color": "rgb(108,6,62)",
          "width": 10
         },
         "mode": "lines",
         "name": "loading2",
         "type": "scatter",
         "x": [
          "1970-01-01T00:02:01",
          "1970-01-01T00:02:01",
          "1970-01-01T00:02:16",
          "1970-01-01T00:02:16",
          "1970-01-01T00:02:16",
          "1970-01-01T00:04:48",
          "1970-01-01T00:04:48",
          "1970-01-01T00:05:03",
          "1970-01-01T00:05:03",
          "1970-01-01T00:05:03",
          "1970-01-01T00:07:35",
          "1970-01-01T00:07:35",
          "1970-01-01T00:07:50",
          "1970-01-01T00:07:50",
          "1970-01-01T00:07:50",
          "1970-01-01T00:10:22",
          "1970-01-01T00:10:22",
          "1970-01-01T00:10:37",
          "1970-01-01T00:10:37",
          "1970-01-01T00:10:37",
          "1970-01-01T00:13:09",
          "1970-01-01T00:13:09",
          "1970-01-01T00:13:24",
          "1970-01-01T00:13:24",
          "1970-01-01T00:13:24",
          "1970-01-01T00:15:56",
          "1970-01-01T00:15:56",
          "1970-01-01T00:16:11",
          "1970-01-01T00:16:11",
          "1970-01-01T00:16:11",
          "1970-01-01T00:02:01",
          "1970-01-01T00:02:01",
          "1970-01-01T00:02:16",
          "1970-01-01T00:02:16",
          "1970-01-01T00:02:16",
          "1970-01-01T00:04:48",
          "1970-01-01T00:04:48",
          "1970-01-01T00:05:03",
          "1970-01-01T00:05:03",
          "1970-01-01T00:05:03",
          "1970-01-01T00:07:35",
          "1970-01-01T00:07:35",
          "1970-01-01T00:07:50",
          "1970-01-01T00:07:50",
          "1970-01-01T00:07:50",
          "1970-01-01T00:10:22",
          "1970-01-01T00:10:22",
          "1970-01-01T00:10:37",
          "1970-01-01T00:10:37",
          "1970-01-01T00:10:37",
          "1970-01-01T00:13:09",
          "1970-01-01T00:13:09",
          "1970-01-01T00:13:24",
          "1970-01-01T00:13:24",
          "1970-01-01T00:13:24",
          "1970-01-01T00:15:56",
          "1970-01-01T00:15:56",
          "1970-01-01T00:16:11",
          "1970-01-01T00:16:11",
          "1970-01-01T00:16:11"
         ],
         "y": [
          "from_site",
          "from_site",
          "from_site",
          "from_site",
          null,
          "from_site",
          "from_site",
          "from_site",
          "from_site",
          null,
          "from_site",
          "from_site",
          "from_site",
          "from_site",
          null,
          "from_site",
          "from_site",
          "from_site",
          "from_site",
          null,
          "from_site",
          "from_site",
          "from_site",
          "from_site",
          null,
          "from_site",
          "from_site",
          "from_site",
          "from_site",
          null,
          "cutter",
          "cutter",
          "cutter",
          "cutter",
          null,
          "cutter",
          "cutter",
          "cutter",
          "cutter",
          null,
          "cutter",
          "cutter",
          "cutter",
          "cutter",
          null,
          "cutter",
          "cutter",
          "cutter",
          "cutter",
          null,
          "cutter",
          "cutter",
          "cutter",
          "cutter",
          null,
          "cutter",
          "cutter",
          "cutter",
          "cutter",
          null
         ]
        },
        {
         "connectgaps": false,
         "hoverinfo": "y+name",
         "line": {
          "color": "rgb(136,34,90)",
          "width": 10
         },
         "mode": "lines",
         "name": "loading0",
         "type": "scatter",
         "x": [
          "1970-01-01T00:00:56",
          "1970-01-01T00:00:56",
          "1970-01-01T00:01:41",
          "1970-01-01T00:01:41",
          "1970-01-01T00:01:41",
          "1970-01-01T00:03:33",
          "1970-01-01T00:03:33",
          "1970-01-01T00:04:18",
          "1970-01-01T00:04:18",
          "1970-01-01T00:04:18",
          "1970-01-01T00:06:10",
          "1970-01-01T00:06:10",
          "1970-01-01T00:06:55",
          "1970-01-01T00:06:55",
          "1970-01-01T00:06:55",
          "1970-01-01T00:08:47",
          "1970-01-01T00:08:47",
          "1970-01-01T00:09:32",
          "1970-01-01T00:09:32",
          "1970-01-01T00:09:32",
          "1970-01-01T00:11:24",
          "1970-01-01T00:11:24",
          "1970-01-01T00:12:09",
          "1970-01-01T00:12:09",
          "1970-01-01T00:12:09",
          "1970-01-01T00:14:01",
          "1970-01-01T00:14:01",
          "1970-01-01T00:14:46",
          "1970-01-01T00:14:46",
          "1970-01-01T00:14:46",
          "1970-01-01T00:16:38",
          "1970-01-01T00:16:38",
          "1970-01-01T00:17:23",
          "1970-01-01T00:17:23",
          "1970-01-01T00:17:23",
          "1970-01-01T00:00:56",
          "1970-01-01T00:00:56",
          "1970-01-01T00:01:41",
          "1970-01-01T00:01:41",
          "1970-01-01T00:01:41",
          "1970-01-01T00:03:33",
          "1970-01-01T00:03:33",
          "1970-01-01T00:04:18",
          "1970-01-01T00:04:18",
          "1970-01-01T00:04:18",
          "1970-01-01T00:06:10",
          "1970-01-01T00:06:10",
          "1970-01-01T00:06:55",
          "1970-01-01T00:06:55",
          "1970-01-01T00:06:55",
          "1970-01-01T00:08:47",
          "1970-01-01T00:08:47",
          "1970-01-01T00:09:32",
          "1970-01-01T00:09:32",
          "1970-01-01T00:09:32",
          "1970-01-01T00:11:24",
          "1970-01-01T00:11:24",
          "1970-01-01T00:12:09",
          "1970-01-01T00:12:09",
          "1970-01-01T00:12:09",
          "1970-01-01T00:14:01",
          "1970-01-01T00:14:01",
          "1970-01-01T00:14:46",
          "1970-01-01T00:14:46",
          "1970-01-01T00:14:46",
          "1970-01-01T00:16:38",
          "1970-01-01T00:16:38",
          "1970-01-01T00:17:23",
          "1970-01-01T00:17:23",
          "1970-01-01T00:17:23"
         ],
         "y": [
          "from_site",
          "from_site",
          "from_site",
          "from_site",
          null,
          "from_site",
          "from_site",
          "from_site",
          "from_site",
          null,
          "from_site",
          "from_site",
          "from_site",
          "from_site",
          null,
          "from_site",
          "from_site",
          "from_site",
          "from_site",
          null,
          "from_site",
          "from_site",
          "from_site",
          "from_site",
          null,
          "from_site",
          "from_site",
          "from_site",
          "from_site",
          null,
          "from_site",
          "from_site",
          "from_site",
          "from_site",
          null,
          "cutter",
          "cutter",
          "cutter",
          "cutter",
          null,
          "cutter",
          "cutter",
          "cutter",
          "cutter",
          null,
          "cutter",
          "cutter",
          "cutter",
          "cutter",
          null,
          "cutter",
          "cutter",
          "cutter",
          "cutter",
          null,
          "cutter",
          "cutter",
          "cutter",
          "cutter",
          null,
          "cutter",
          "cutter",
          "cutter",
          "cutter",
          null,
          "cutter",
          "cutter",
          "cutter",
          "cutter",
          null
         ]
        },
        {
         "connectgaps": false,
         "hoverinfo": "y+name",
         "line": {
          "color": "rgb(164,62,118)",
          "width": 10
         },
         "mode": "lines",
         "name": "unloading2",
         "type": "scatter",
         "x": [
          "1970-01-01T00:02:54",
          "1970-01-01T00:02:54",
          "1970-01-01T00:03:32",
          "1970-01-01T00:03:32",
          "1970-01-01T00:03:32",
          "1970-01-01T00:05:41",
          "1970-01-01T00:05:41",
          "1970-01-01T00:06:19",
          "1970-01-01T00:06:19",
          "1970-01-01T00:06:19",
          "1970-01-01T00:08:28",
          "1970-01-01T00:08:28",
          "1970-01-01T00:09:06",
          "1970-01-01T00:09:06",
          "1970-01-01T00:09:06",
          "1970-01-01T00:11:15",
          "1970-01-01T00:11:15",
          "1970-01-01T00:11:53",
          "1970-01-01T00:11:53",
          "1970-01-01T00:11:53",
          "1970-01-01T00:14:02",
          "1970-01-01T00:14:02",
          "1970-01-01T00:14:40",
          "1970-01-01T00:14:40",
          "1970-01-01T00:14:40",
          "1970-01-01T00:16:49",
          "1970-01-01T00:16:49",
          "1970-01-01T00:17:27",
          "1970-01-01T00:17:27",
          "1970-01-01T00:17:27"
         ],
         "y": [
          "to_site",
          "to_site",
          "to_site",
          "to_site",
          null,
          "to_site",
          "to_site",
          "to_site",
          "to_site",
          null,
          "to_site",
          "to_site",
          "to_site",
          "to_site",
          null,
          "to_site",
          "to_site",
          "to_site",
          "to_site",
          null,
          "to_site",
          "to_site",
          "to_site",
          "to_site",
          null,
          "to_site",
          "to_site",
          "to_site",
          "to_site",
          null
         ]
        },
        {
         "connectgaps": false,
         "hoverinfo": "y+name",
         "line": {
          "color": "rgb(192,90,146)",
          "width": 10
         },
         "mode": "lines",
         "name": "unloading1",
         "type": "scatter",
         "x": [
          "1970-01-01T00:02:31",
          "1970-01-01T00:02:31",
          "1970-01-01T00:03:01",
          "1970-01-01T00:03:01",
          "1970-01-01T00:03:01",
          "1970-01-01T00:05:08",
          "1970-01-01T00:05:08",
          "1970-01-01T00:05:38",
          "1970-01-01T00:05:38",
          "1970-01-01T00:05:38",
          "1970-01-01T00:07:45",
          "1970-01-01T00:07:45",
          "1970-01-01T00:08:15",
          "1970-01-01T00:08:15",
          "1970-01-01T00:08:15",
          "1970-01-01T00:10:22",
          "1970-01-01T00:10:22",
          "1970-01-01T00:10:52",
          "1970-01-01T00:10:52",
          "1970-01-01T00:10:52",
          "1970-01-01T00:12:59",
          "1970-01-01T00:12:59",
          "1970-01-01T00:13:29",
          "1970-01-01T00:13:29",
          "1970-01-01T00:13:29",
          "1970-01-01T00:15:36",
          "1970-01-01T00:15:36",
          "1970-01-01T00:16:06",
          "1970-01-01T00:16:06",
          "1970-01-01T00:16:06"
         ],
         "y": [
          "to_site",
          "to_site",
          "to_site",
          "to_site",
          null,
          "to_site",
          "to_site",
          "to_site",
          "to_site",
          null,
          "to_site",
          "to_site",
          "to_site",
          "to_site",
          null,
          "to_site",
          "to_site",
          "to_site",
          "to_site",
          null,
          "to_site",
          "to_site",
          "to_site",
          "to_site",
          null,
          "to_site",
          "to_site",
          "to_site",
          "to_site",
          null
         ]
        },
        {
         "connectgaps": false,
         "hoverinfo": "y+name",
         "line": {
          "color": "rgb(220,118,174)",
          "width": 10
         },
         "mode": "lines",
         "name": "unloading0",
         "type": "scatter",
         "x": [
          "1970-01-01T00:02:09",
          "1970-01-01T00:02:09",
          "1970-01-01T00:02:37",
          "1970-01-01T00:02:37",
          "1970-01-01T00:02:37",
          "1970-01-01T00:04:46",
          "1970-01-01T00:04:46",
          "1970-01-01T00:05:14",
          "1970-01-01T00:05:14",
          "1970-01-01T00:05:14",
          "1970-01-01T00:07:23",
          "1970-01-01T00:07:23",
          "1970-01-01T00:07:51",
          "1970-01-01T00:07:51",
          "1970-01-01T00:07:51",
          "1970-01-01T00:10:00",
          "1970-01-01T00:10:00",
          "1970-01-01T00:10:28",
          "1970-01-01T00:10:28",
          "1970-01-01T00:10:28",
          "1970-01-01T00:12:37",
          "1970-01-01T00:12:37",
          "1970-01-01T00:13:05",
          "1970-01-01T00:13:05",
          "1970-01-01T00:13:05",
          "1970-01-01T00:15:14",
          "1970-01-01T00:15:14",
          "1970-01-01T00:15:42",
          "1970-01-01T00:15:42",
          "1970-01-01T00:15:42",
          "1970-01-01T00:17:51",
          "1970-01-01T00:17:51",
          "1970-01-01T00:18:19",
          "1970-01-01T00:18:19",
          "1970-01-01T00:18:19"
         ],
         "y": [
          "to_site",
          "to_site",
          "to_site",
          "to_site",
          null,
          "to_site",
          "to_site",
          "to_site",
          "to_site",
          null,
          "to_site",
          "to_site",
          "to_site",
          "to_site",
          null,
          "to_site",
          "to_site",
          "to_site",
          "to_site",
          null,
          "to_site",
          "to_site",
          "to_site",
          "to_site",
          null,
          "to_site",
          "to_site",
          "to_site",
          "to_site",
          null,
          "to_site",
          "to_site",
          "to_site",
          "to_site",
          null
         ]
        },
        {
         "connectgaps": false,
         "hoverinfo": "y+name",
         "line": {
          "color": "rgb(248,146,202)",
          "width": 10
         },
         "mode": "lines",
         "name": "loading1",
         "type": "scatter",
         "x": [
          "1970-01-01T00:01:41",
          "1970-01-01T00:01:41",
          "1970-01-01T00:02:01",
          "1970-01-01T00:02:01",
          "1970-01-01T00:02:01",
          "1970-01-01T00:04:18",
          "1970-01-01T00:04:18",
          "1970-01-01T00:04:38",
          "1970-01-01T00:04:38",
          "1970-01-01T00:04:38",
          "1970-01-01T00:06:55",
          "1970-01-01T00:06:55",
          "1970-01-01T00:07:15",
          "1970-01-01T00:07:15",
          "1970-01-01T00:07:15",
          "1970-01-01T00:09:32",
          "1970-01-01T00:09:32",
          "1970-01-01T00:09:52",
          "1970-01-01T00:09:52",
          "1970-01-01T00:09:52",
          "1970-01-01T00:12:09",
          "1970-01-01T00:12:09",
          "1970-01-01T00:12:29",
          "1970-01-01T00:12:29",
          "1970-01-01T00:12:29",
          "1970-01-01T00:14:46",
          "1970-01-01T00:14:46",
          "1970-01-01T00:15:06",
          "1970-01-01T00:15:06",
          "1970-01-01T00:15:06",
          "1970-01-01T00:01:41",
          "1970-01-01T00:01:41",
          "1970-01-01T00:02:01",
          "1970-01-01T00:02:01",
          "1970-01-01T00:02:01",
          "1970-01-01T00:04:18",
          "1970-01-01T00:04:18",
          "1970-01-01T00:04:38",
          "1970-01-01T00:04:38",
          "1970-01-01T00:04:38",
          "1970-01-01T00:06:55",
          "1970-01-01T00:06:55",
          "1970-01-01T00:07:15",
          "1970-01-01T00:07:15",
          "1970-01-01T00:07:15",
          "1970-01-01T00:09:32",
          "1970-01-01T00:09:32",
          "1970-01-01T00:09:52",
          "1970-01-01T00:09:52",
          "1970-01-01T00:09:52",
          "1970-01-01T00:12:09",
          "1970-01-01T00:12:09",
          "1970-01-01T00:12:29",
          "1970-01-01T00:12:29",
          "1970-01-01T00:12:29",
          "1970-01-01T00:14:46",
          "1970-01-01T00:14:46",
          "1970-01-01T00:15:06",
          "1970-01-01T00:15:06",
          "1970-01-01T00:15:06"
         ],
         "y": [
          "from_site",
          "from_site",
          "from_site",
          "from_site",
          null,
          "from_site",
          "from_site",
          "from_site",
          "from_site",
          null,
          "from_site",
          "from_site",
          "from_site",
          "from_site",
          null,
          "from_site",
          "from_site",
          "from_site",
          "from_site",
          null,
          "from_site",
          "from_site",
          "from_site",
          "from_site",
          null,
          "from_site",
          "from_site",
          "from_site",
          "from_site",
          null,
          "cutter",
          "cutter",
          "cutter",
          "cutter",
          null,
          "cutter",
          "cutter",
          "cutter",
          "cutter",
          null,
          "cutter",
          "cutter",
          "cutter",
          "cutter",
          null,
          "cutter",
          "cutter",
          "cutter",
          "cutter",
          null,
          "cutter",
          "cutter",
          "cutter",
          "cutter",
          null,
          "cutter",
          "cutter",
          "cutter",
          "cutter",
          null
         ]
        },
        {
         "connectgaps": false,
         "hoverinfo": "y+name",
         "line": {
          "color": "rgb(20,174,230)",
          "width": 10
         },
         "mode": "lines",
         "name": "loading2",
         "type": "scatter",
         "x": [
          "1970-01-01T00:02:01",
          "1970-01-01T00:02:01",
          "1970-01-01T00:02:16",
          "1970-01-01T00:02:16",
          "1970-01-01T00:02:16",
          "1970-01-01T00:04:48",
          "1970-01-01T00:04:48",
          "1970-01-01T00:05:03",
          "1970-01-01T00:05:03",
          "1970-01-01T00:05:03",
          "1970-01-01T00:07:35",
          "1970-01-01T00:07:35",
          "1970-01-01T00:07:50",
          "1970-01-01T00:07:50",
          "1970-01-01T00:07:50",
          "1970-01-01T00:10:22",
          "1970-01-01T00:10:22",
          "1970-01-01T00:10:37",
          "1970-01-01T00:10:37",
          "1970-01-01T00:10:37",
          "1970-01-01T00:13:09",
          "1970-01-01T00:13:09",
          "1970-01-01T00:13:24",
          "1970-01-01T00:13:24",
          "1970-01-01T00:13:24",
          "1970-01-01T00:15:56",
          "1970-01-01T00:15:56",
          "1970-01-01T00:16:11",
          "1970-01-01T00:16:11",
          "1970-01-01T00:16:11",
          "1970-01-01T00:02:01",
          "1970-01-01T00:02:01",
          "1970-01-01T00:02:16",
          "1970-01-01T00:02:16",
          "1970-01-01T00:02:16",
          "1970-01-01T00:04:48",
          "1970-01-01T00:04:48",
          "1970-01-01T00:05:03",
          "1970-01-01T00:05:03",
          "1970-01-01T00:05:03",
          "1970-01-01T00:07:35",
          "1970-01-01T00:07:35",
          "1970-01-01T00:07:50",
          "1970-01-01T00:07:50",
          "1970-01-01T00:07:50",
          "1970-01-01T00:10:22",
          "1970-01-01T00:10:22",
          "1970-01-01T00:10:37",
          "1970-01-01T00:10:37",
          "1970-01-01T00:10:37",
          "1970-01-01T00:13:09",
          "1970-01-01T00:13:09",
          "1970-01-01T00:13:24",
          "1970-01-01T00:13:24",
          "1970-01-01T00:13:24",
          "1970-01-01T00:15:56",
          "1970-01-01T00:15:56",
          "1970-01-01T00:16:11",
          "1970-01-01T00:16:11",
          "1970-01-01T00:16:11"
         ],
         "y": [
          "from_site",
          "from_site",
          "from_site",
          "from_site",
          null,
          "from_site",
          "from_site",
          "from_site",
          "from_site",
          null,
          "from_site",
          "from_site",
          "from_site",
          "from_site",
          null,
          "from_site",
          "from_site",
          "from_site",
          "from_site",
          null,
          "from_site",
          "from_site",
          "from_site",
          "from_site",
          null,
          "from_site",
          "from_site",
          "from_site",
          "from_site",
          null,
          "cutter",
          "cutter",
          "cutter",
          "cutter",
          null,
          "cutter",
          "cutter",
          "cutter",
          "cutter",
          null,
          "cutter",
          "cutter",
          "cutter",
          "cutter",
          null,
          "cutter",
          "cutter",
          "cutter",
          "cutter",
          null,
          "cutter",
          "cutter",
          "cutter",
          "cutter",
          null,
          "cutter",
          "cutter",
          "cutter",
          "cutter",
          null
         ]
        },
        {
         "connectgaps": false,
         "hoverinfo": "y+name",
         "line": {
          "color": "rgb(48,202,2)",
          "width": 10
         },
         "mode": "lines",
         "name": "loading0",
         "type": "scatter",
         "x": [
          "1970-01-01T00:00:56",
          "1970-01-01T00:00:56",
          "1970-01-01T00:01:41",
          "1970-01-01T00:01:41",
          "1970-01-01T00:01:41",
          "1970-01-01T00:03:33",
          "1970-01-01T00:03:33",
          "1970-01-01T00:04:18",
          "1970-01-01T00:04:18",
          "1970-01-01T00:04:18",
          "1970-01-01T00:06:10",
          "1970-01-01T00:06:10",
          "1970-01-01T00:06:55",
          "1970-01-01T00:06:55",
          "1970-01-01T00:06:55",
          "1970-01-01T00:08:47",
          "1970-01-01T00:08:47",
          "1970-01-01T00:09:32",
          "1970-01-01T00:09:32",
          "1970-01-01T00:09:32",
          "1970-01-01T00:11:24",
          "1970-01-01T00:11:24",
          "1970-01-01T00:12:09",
          "1970-01-01T00:12:09",
          "1970-01-01T00:12:09",
          "1970-01-01T00:14:01",
          "1970-01-01T00:14:01",
          "1970-01-01T00:14:46",
          "1970-01-01T00:14:46",
          "1970-01-01T00:14:46",
          "1970-01-01T00:16:38",
          "1970-01-01T00:16:38",
          "1970-01-01T00:17:23",
          "1970-01-01T00:17:23",
          "1970-01-01T00:17:23",
          "1970-01-01T00:00:56",
          "1970-01-01T00:00:56",
          "1970-01-01T00:01:41",
          "1970-01-01T00:01:41",
          "1970-01-01T00:01:41",
          "1970-01-01T00:03:33",
          "1970-01-01T00:03:33",
          "1970-01-01T00:04:18",
          "1970-01-01T00:04:18",
          "1970-01-01T00:04:18",
          "1970-01-01T00:06:10",
          "1970-01-01T00:06:10",
          "1970-01-01T00:06:55",
          "1970-01-01T00:06:55",
          "1970-01-01T00:06:55",
          "1970-01-01T00:08:47",
          "1970-01-01T00:08:47",
          "1970-01-01T00:09:32",
          "1970-01-01T00:09:32",
          "1970-01-01T00:09:32",
          "1970-01-01T00:11:24",
          "1970-01-01T00:11:24",
          "1970-01-01T00:12:09",
          "1970-01-01T00:12:09",
          "1970-01-01T00:12:09",
          "1970-01-01T00:14:01",
          "1970-01-01T00:14:01",
          "1970-01-01T00:14:46",
          "1970-01-01T00:14:46",
          "1970-01-01T00:14:46",
          "1970-01-01T00:16:38",
          "1970-01-01T00:16:38",
          "1970-01-01T00:17:23",
          "1970-01-01T00:17:23",
          "1970-01-01T00:17:23"
         ],
         "y": [
          "from_site",
          "from_site",
          "from_site",
          "from_site",
          null,
          "from_site",
          "from_site",
          "from_site",
          "from_site",
          null,
          "from_site",
          "from_site",
          "from_site",
          "from_site",
          null,
          "from_site",
          "from_site",
          "from_site",
          "from_site",
          null,
          "from_site",
          "from_site",
          "from_site",
          "from_site",
          null,
          "from_site",
          "from_site",
          "from_site",
          "from_site",
          null,
          "from_site",
          "from_site",
          "from_site",
          "from_site",
          null,
          "cutter",
          "cutter",
          "cutter",
          "cutter",
          null,
          "cutter",
          "cutter",
          "cutter",
          "cutter",
          null,
          "cutter",
          "cutter",
          "cutter",
          "cutter",
          null,
          "cutter",
          "cutter",
          "cutter",
          "cutter",
          null,
          "cutter",
          "cutter",
          "cutter",
          "cutter",
          null,
          "cutter",
          "cutter",
          "cutter",
          "cutter",
          null,
          "cutter",
          "cutter",
          "cutter",
          "cutter",
          null
         ]
        }
       ],
       "layout": {
        "hovermode": "closest",
        "legend": {
         "orientation": "h",
         "x": 0,
         "y": -0.2
        },
        "template": {
         "data": {
          "bar": [
           {
            "error_x": {
             "color": "#2a3f5f"
            },
            "error_y": {
             "color": "#2a3f5f"
            },
            "marker": {
             "line": {
              "color": "#E5ECF6",
              "width": 0.5
             },
             "pattern": {
              "fillmode": "overlay",
              "size": 10,
              "solidity": 0.2
             }
            },
            "type": "bar"
           }
          ],
          "barpolar": [
           {
            "marker": {
             "line": {
              "color": "#E5ECF6",
              "width": 0.5
             },
             "pattern": {
              "fillmode": "overlay",
              "size": 10,
              "solidity": 0.2
             }
            },
            "type": "barpolar"
           }
          ],
          "carpet": [
           {
            "aaxis": {
             "endlinecolor": "#2a3f5f",
             "gridcolor": "white",
             "linecolor": "white",
             "minorgridcolor": "white",
             "startlinecolor": "#2a3f5f"
            },
            "baxis": {
             "endlinecolor": "#2a3f5f",
             "gridcolor": "white",
             "linecolor": "white",
             "minorgridcolor": "white",
             "startlinecolor": "#2a3f5f"
            },
            "type": "carpet"
           }
          ],
          "choropleth": [
           {
            "colorbar": {
             "outlinewidth": 0,
             "ticks": ""
            },
            "type": "choropleth"
           }
          ],
          "contour": [
           {
            "colorbar": {
             "outlinewidth": 0,
             "ticks": ""
            },
            "colorscale": [
             [
              0,
              "#0d0887"
             ],
             [
              0.1111111111111111,
              "#46039f"
             ],
             [
              0.2222222222222222,
              "#7201a8"
             ],
             [
              0.3333333333333333,
              "#9c179e"
             ],
             [
              0.4444444444444444,
              "#bd3786"
             ],
             [
              0.5555555555555556,
              "#d8576b"
             ],
             [
              0.6666666666666666,
              "#ed7953"
             ],
             [
              0.7777777777777778,
              "#fb9f3a"
             ],
             [
              0.8888888888888888,
              "#fdca26"
             ],
             [
              1,
              "#f0f921"
             ]
            ],
            "type": "contour"
           }
          ],
          "contourcarpet": [
           {
            "colorbar": {
             "outlinewidth": 0,
             "ticks": ""
            },
            "type": "contourcarpet"
           }
          ],
          "heatmap": [
           {
            "colorbar": {
             "outlinewidth": 0,
             "ticks": ""
            },
            "colorscale": [
             [
              0,
              "#0d0887"
             ],
             [
              0.1111111111111111,
              "#46039f"
             ],
             [
              0.2222222222222222,
              "#7201a8"
             ],
             [
              0.3333333333333333,
              "#9c179e"
             ],
             [
              0.4444444444444444,
              "#bd3786"
             ],
             [
              0.5555555555555556,
              "#d8576b"
             ],
             [
              0.6666666666666666,
              "#ed7953"
             ],
             [
              0.7777777777777778,
              "#fb9f3a"
             ],
             [
              0.8888888888888888,
              "#fdca26"
             ],
             [
              1,
              "#f0f921"
             ]
            ],
            "type": "heatmap"
           }
          ],
          "heatmapgl": [
           {
            "colorbar": {
             "outlinewidth": 0,
             "ticks": ""
            },
            "colorscale": [
             [
              0,
              "#0d0887"
             ],
             [
              0.1111111111111111,
              "#46039f"
             ],
             [
              0.2222222222222222,
              "#7201a8"
             ],
             [
              0.3333333333333333,
              "#9c179e"
             ],
             [
              0.4444444444444444,
              "#bd3786"
             ],
             [
              0.5555555555555556,
              "#d8576b"
             ],
             [
              0.6666666666666666,
              "#ed7953"
             ],
             [
              0.7777777777777778,
              "#fb9f3a"
             ],
             [
              0.8888888888888888,
              "#fdca26"
             ],
             [
              1,
              "#f0f921"
             ]
            ],
            "type": "heatmapgl"
           }
          ],
          "histogram": [
           {
            "marker": {
             "pattern": {
              "fillmode": "overlay",
              "size": 10,
              "solidity": 0.2
             }
            },
            "type": "histogram"
           }
          ],
          "histogram2d": [
           {
            "colorbar": {
             "outlinewidth": 0,
             "ticks": ""
            },
            "colorscale": [
             [
              0,
              "#0d0887"
             ],
             [
              0.1111111111111111,
              "#46039f"
             ],
             [
              0.2222222222222222,
              "#7201a8"
             ],
             [
              0.3333333333333333,
              "#9c179e"
             ],
             [
              0.4444444444444444,
              "#bd3786"
             ],
             [
              0.5555555555555556,
              "#d8576b"
             ],
             [
              0.6666666666666666,
              "#ed7953"
             ],
             [
              0.7777777777777778,
              "#fb9f3a"
             ],
             [
              0.8888888888888888,
              "#fdca26"
             ],
             [
              1,
              "#f0f921"
             ]
            ],
            "type": "histogram2d"
           }
          ],
          "histogram2dcontour": [
           {
            "colorbar": {
             "outlinewidth": 0,
             "ticks": ""
            },
            "colorscale": [
             [
              0,
              "#0d0887"
             ],
             [
              0.1111111111111111,
              "#46039f"
             ],
             [
              0.2222222222222222,
              "#7201a8"
             ],
             [
              0.3333333333333333,
              "#9c179e"
             ],
             [
              0.4444444444444444,
              "#bd3786"
             ],
             [
              0.5555555555555556,
              "#d8576b"
             ],
             [
              0.6666666666666666,
              "#ed7953"
             ],
             [
              0.7777777777777778,
              "#fb9f3a"
             ],
             [
              0.8888888888888888,
              "#fdca26"
             ],
             [
              1,
              "#f0f921"
             ]
            ],
            "type": "histogram2dcontour"
           }
          ],
          "mesh3d": [
           {
            "colorbar": {
             "outlinewidth": 0,
             "ticks": ""
            },
            "type": "mesh3d"
           }
          ],
          "parcoords": [
           {
            "line": {
             "colorbar": {
              "outlinewidth": 0,
              "ticks": ""
             }
            },
            "type": "parcoords"
           }
          ],
          "pie": [
           {
            "automargin": true,
            "type": "pie"
           }
          ],
          "scatter": [
           {
            "marker": {
             "colorbar": {
              "outlinewidth": 0,
              "ticks": ""
             }
            },
            "type": "scatter"
           }
          ],
          "scatter3d": [
           {
            "line": {
             "colorbar": {
              "outlinewidth": 0,
              "ticks": ""
             }
            },
            "marker": {
             "colorbar": {
              "outlinewidth": 0,
              "ticks": ""
             }
            },
            "type": "scatter3d"
           }
          ],
          "scattercarpet": [
           {
            "marker": {
             "colorbar": {
              "outlinewidth": 0,
              "ticks": ""
             }
            },
            "type": "scattercarpet"
           }
          ],
          "scattergeo": [
           {
            "marker": {
             "colorbar": {
              "outlinewidth": 0,
              "ticks": ""
             }
            },
            "type": "scattergeo"
           }
          ],
          "scattergl": [
           {
            "marker": {
             "colorbar": {
              "outlinewidth": 0,
              "ticks": ""
             }
            },
            "type": "scattergl"
           }
          ],
          "scattermapbox": [
           {
            "marker": {
             "colorbar": {
              "outlinewidth": 0,
              "ticks": ""
             }
            },
            "type": "scattermapbox"
           }
          ],
          "scatterpolar": [
           {
            "marker": {
             "colorbar": {
              "outlinewidth": 0,
              "ticks": ""
             }
            },
            "type": "scatterpolar"
           }
          ],
          "scatterpolargl": [
           {
            "marker": {
             "colorbar": {
              "outlinewidth": 0,
              "ticks": ""
             }
            },
            "type": "scatterpolargl"
           }
          ],
          "scatterternary": [
           {
            "marker": {
             "colorbar": {
              "outlinewidth": 0,
              "ticks": ""
             }
            },
            "type": "scatterternary"
           }
          ],
          "surface": [
           {
            "colorbar": {
             "outlinewidth": 0,
             "ticks": ""
            },
            "colorscale": [
             [
              0,
              "#0d0887"
             ],
             [
              0.1111111111111111,
              "#46039f"
             ],
             [
              0.2222222222222222,
              "#7201a8"
             ],
             [
              0.3333333333333333,
              "#9c179e"
             ],
             [
              0.4444444444444444,
              "#bd3786"
             ],
             [
              0.5555555555555556,
              "#d8576b"
             ],
             [
              0.6666666666666666,
              "#ed7953"
             ],
             [
              0.7777777777777778,
              "#fb9f3a"
             ],
             [
              0.8888888888888888,
              "#fdca26"
             ],
             [
              1,
              "#f0f921"
             ]
            ],
            "type": "surface"
           }
          ],
          "table": [
           {
            "cells": {
             "fill": {
              "color": "#EBF0F8"
             },
             "line": {
              "color": "white"
             }
            },
            "header": {
             "fill": {
              "color": "#C8D4E3"
             },
             "line": {
              "color": "white"
             }
            },
            "type": "table"
           }
          ]
         },
         "layout": {
          "annotationdefaults": {
           "arrowcolor": "#2a3f5f",
           "arrowhead": 0,
           "arrowwidth": 1
          },
          "autotypenumbers": "strict",
          "coloraxis": {
           "colorbar": {
            "outlinewidth": 0,
            "ticks": ""
           }
          },
          "colorscale": {
           "diverging": [
            [
             0,
             "#8e0152"
            ],
            [
             0.1,
             "#c51b7d"
            ],
            [
             0.2,
             "#de77ae"
            ],
            [
             0.3,
             "#f1b6da"
            ],
            [
             0.4,
             "#fde0ef"
            ],
            [
             0.5,
             "#f7f7f7"
            ],
            [
             0.6,
             "#e6f5d0"
            ],
            [
             0.7,
             "#b8e186"
            ],
            [
             0.8,
             "#7fbc41"
            ],
            [
             0.9,
             "#4d9221"
            ],
            [
             1,
             "#276419"
            ]
           ],
           "sequential": [
            [
             0,
             "#0d0887"
            ],
            [
             0.1111111111111111,
             "#46039f"
            ],
            [
             0.2222222222222222,
             "#7201a8"
            ],
            [
             0.3333333333333333,
             "#9c179e"
            ],
            [
             0.4444444444444444,
             "#bd3786"
            ],
            [
             0.5555555555555556,
             "#d8576b"
            ],
            [
             0.6666666666666666,
             "#ed7953"
            ],
            [
             0.7777777777777778,
             "#fb9f3a"
            ],
            [
             0.8888888888888888,
             "#fdca26"
            ],
            [
             1,
             "#f0f921"
            ]
           ],
           "sequentialminus": [
            [
             0,
             "#0d0887"
            ],
            [
             0.1111111111111111,
             "#46039f"
            ],
            [
             0.2222222222222222,
             "#7201a8"
            ],
            [
             0.3333333333333333,
             "#9c179e"
            ],
            [
             0.4444444444444444,
             "#bd3786"
            ],
            [
             0.5555555555555556,
             "#d8576b"
            ],
            [
             0.6666666666666666,
             "#ed7953"
            ],
            [
             0.7777777777777778,
             "#fb9f3a"
            ],
            [
             0.8888888888888888,
             "#fdca26"
            ],
            [
             1,
             "#f0f921"
            ]
           ]
          },
          "colorway": [
           "#636efa",
           "#EF553B",
           "#00cc96",
           "#ab63fa",
           "#FFA15A",
           "#19d3f3",
           "#FF6692",
           "#B6E880",
           "#FF97FF",
           "#FECB52"
          ],
          "font": {
           "color": "#2a3f5f"
          },
          "geo": {
           "bgcolor": "white",
           "lakecolor": "white",
           "landcolor": "#E5ECF6",
           "showlakes": true,
           "showland": true,
           "subunitcolor": "white"
          },
          "hoverlabel": {
           "align": "left"
          },
          "hovermode": "closest",
          "mapbox": {
           "style": "light"
          },
          "paper_bgcolor": "white",
          "plot_bgcolor": "#E5ECF6",
          "polar": {
           "angularaxis": {
            "gridcolor": "white",
            "linecolor": "white",
            "ticks": ""
           },
           "bgcolor": "#E5ECF6",
           "radialaxis": {
            "gridcolor": "white",
            "linecolor": "white",
            "ticks": ""
           }
          },
          "scene": {
           "xaxis": {
            "backgroundcolor": "#E5ECF6",
            "gridcolor": "white",
            "gridwidth": 2,
            "linecolor": "white",
            "showbackground": true,
            "ticks": "",
            "zerolinecolor": "white"
           },
           "yaxis": {
            "backgroundcolor": "#E5ECF6",
            "gridcolor": "white",
            "gridwidth": 2,
            "linecolor": "white",
            "showbackground": true,
            "ticks": "",
            "zerolinecolor": "white"
           },
           "zaxis": {
            "backgroundcolor": "#E5ECF6",
            "gridcolor": "white",
            "gridwidth": 2,
            "linecolor": "white",
            "showbackground": true,
            "ticks": "",
            "zerolinecolor": "white"
           }
          },
          "shapedefaults": {
           "line": {
            "color": "#2a3f5f"
           }
          },
          "ternary": {
           "aaxis": {
            "gridcolor": "white",
            "linecolor": "white",
            "ticks": ""
           },
           "baxis": {
            "gridcolor": "white",
            "linecolor": "white",
            "ticks": ""
           },
           "bgcolor": "#E5ECF6",
           "caxis": {
            "gridcolor": "white",
            "linecolor": "white",
            "ticks": ""
           }
          },
          "title": {
           "x": 0.05
          },
          "xaxis": {
           "automargin": true,
           "gridcolor": "white",
           "linecolor": "white",
           "ticks": "",
           "title": {
            "standoff": 15
           },
           "zerolinecolor": "white",
           "zerolinewidth": 2
          },
          "yaxis": {
           "automargin": true,
           "gridcolor": "white",
           "linecolor": "white",
           "ticks": "",
           "title": {
            "standoff": 15
           },
           "zerolinecolor": "white",
           "zerolinewidth": 2
          }
         }
        },
        "title": {
         "text": "GANTT Chart"
        },
        "xaxis": {
         "range": [
          "1970-01-01T00:00:56",
          "1970-01-01T00:18:19"
         ],
         "title": {
          "font": {
           "color": "#7f7f7f",
           "family": "Courier New, monospace",
           "size": 18
          },
          "text": "Time"
         }
        },
        "yaxis": {
         "title": {
          "font": {
           "color": "#7f7f7f",
           "family": "Courier New, monospace",
           "size": 18
          },
          "text": "Activities"
         }
        }
       }
      },
      "text/html": [
       "<div>                            <div id=\"fc5ba036-e0d2-4491-b8b3-d2148d246793\" class=\"plotly-graph-div\" style=\"height:525px; width:100%;\"></div>            <script type=\"text/javascript\">                require([\"plotly\"], function(Plotly) {                    window.PLOTLYENV=window.PLOTLYENV || {};                                    if (document.getElementById(\"fc5ba036-e0d2-4491-b8b3-d2148d246793\")) {                    Plotly.newPlot(                        \"fc5ba036-e0d2-4491-b8b3-d2148d246793\",                        [{\"connectgaps\":false,\"hoverinfo\":\"y+name\",\"line\":{\"color\":\"rgb(80,234,34)\",\"width\":10},\"mode\":\"lines\",\"name\":\"loading1\",\"x\":[\"1970-01-01T00:01:41\",\"1970-01-01T00:01:41\",\"1970-01-01T00:02:01\",\"1970-01-01T00:02:01\",\"1970-01-01T00:02:01\",\"1970-01-01T00:04:18\",\"1970-01-01T00:04:18\",\"1970-01-01T00:04:38\",\"1970-01-01T00:04:38\",\"1970-01-01T00:04:38\",\"1970-01-01T00:06:55\",\"1970-01-01T00:06:55\",\"1970-01-01T00:07:15\",\"1970-01-01T00:07:15\",\"1970-01-01T00:07:15\",\"1970-01-01T00:09:32\",\"1970-01-01T00:09:32\",\"1970-01-01T00:09:52\",\"1970-01-01T00:09:52\",\"1970-01-01T00:09:52\",\"1970-01-01T00:12:09\",\"1970-01-01T00:12:09\",\"1970-01-01T00:12:29\",\"1970-01-01T00:12:29\",\"1970-01-01T00:12:29\",\"1970-01-01T00:14:46\",\"1970-01-01T00:14:46\",\"1970-01-01T00:15:06\",\"1970-01-01T00:15:06\",\"1970-01-01T00:15:06\",\"1970-01-01T00:01:41\",\"1970-01-01T00:01:41\",\"1970-01-01T00:02:01\",\"1970-01-01T00:02:01\",\"1970-01-01T00:02:01\",\"1970-01-01T00:04:18\",\"1970-01-01T00:04:18\",\"1970-01-01T00:04:38\",\"1970-01-01T00:04:38\",\"1970-01-01T00:04:38\",\"1970-01-01T00:06:55\",\"1970-01-01T00:06:55\",\"1970-01-01T00:07:15\",\"1970-01-01T00:07:15\",\"1970-01-01T00:07:15\",\"1970-01-01T00:09:32\",\"1970-01-01T00:09:32\",\"1970-01-01T00:09:52\",\"1970-01-01T00:09:52\",\"1970-01-01T00:09:52\",\"1970-01-01T00:12:09\",\"1970-01-01T00:12:09\",\"1970-01-01T00:12:29\",\"1970-01-01T00:12:29\",\"1970-01-01T00:12:29\",\"1970-01-01T00:14:46\",\"1970-01-01T00:14:46\",\"1970-01-01T00:15:06\",\"1970-01-01T00:15:06\",\"1970-01-01T00:15:06\"],\"y\":[\"from_site\",\"from_site\",\"from_site\",\"from_site\",null,\"from_site\",\"from_site\",\"from_site\",\"from_site\",null,\"from_site\",\"from_site\",\"from_site\",\"from_site\",null,\"from_site\",\"from_site\",\"from_site\",\"from_site\",null,\"from_site\",\"from_site\",\"from_site\",\"from_site\",null,\"from_site\",\"from_site\",\"from_site\",\"from_site\",null,\"cutter\",\"cutter\",\"cutter\",\"cutter\",null,\"cutter\",\"cutter\",\"cutter\",\"cutter\",null,\"cutter\",\"cutter\",\"cutter\",\"cutter\",null,\"cutter\",\"cutter\",\"cutter\",\"cutter\",null,\"cutter\",\"cutter\",\"cutter\",\"cutter\",null,\"cutter\",\"cutter\",\"cutter\",\"cutter\",null],\"type\":\"scatter\"},{\"connectgaps\":false,\"hoverinfo\":\"y+name\",\"line\":{\"color\":\"rgb(108,6,62)\",\"width\":10},\"mode\":\"lines\",\"name\":\"loading2\",\"x\":[\"1970-01-01T00:02:01\",\"1970-01-01T00:02:01\",\"1970-01-01T00:02:16\",\"1970-01-01T00:02:16\",\"1970-01-01T00:02:16\",\"1970-01-01T00:04:48\",\"1970-01-01T00:04:48\",\"1970-01-01T00:05:03\",\"1970-01-01T00:05:03\",\"1970-01-01T00:05:03\",\"1970-01-01T00:07:35\",\"1970-01-01T00:07:35\",\"1970-01-01T00:07:50\",\"1970-01-01T00:07:50\",\"1970-01-01T00:07:50\",\"1970-01-01T00:10:22\",\"1970-01-01T00:10:22\",\"1970-01-01T00:10:37\",\"1970-01-01T00:10:37\",\"1970-01-01T00:10:37\",\"1970-01-01T00:13:09\",\"1970-01-01T00:13:09\",\"1970-01-01T00:13:24\",\"1970-01-01T00:13:24\",\"1970-01-01T00:13:24\",\"1970-01-01T00:15:56\",\"1970-01-01T00:15:56\",\"1970-01-01T00:16:11\",\"1970-01-01T00:16:11\",\"1970-01-01T00:16:11\",\"1970-01-01T00:02:01\",\"1970-01-01T00:02:01\",\"1970-01-01T00:02:16\",\"1970-01-01T00:02:16\",\"1970-01-01T00:02:16\",\"1970-01-01T00:04:48\",\"1970-01-01T00:04:48\",\"1970-01-01T00:05:03\",\"1970-01-01T00:05:03\",\"1970-01-01T00:05:03\",\"1970-01-01T00:07:35\",\"1970-01-01T00:07:35\",\"1970-01-01T00:07:50\",\"1970-01-01T00:07:50\",\"1970-01-01T00:07:50\",\"1970-01-01T00:10:22\",\"1970-01-01T00:10:22\",\"1970-01-01T00:10:37\",\"1970-01-01T00:10:37\",\"1970-01-01T00:10:37\",\"1970-01-01T00:13:09\",\"1970-01-01T00:13:09\",\"1970-01-01T00:13:24\",\"1970-01-01T00:13:24\",\"1970-01-01T00:13:24\",\"1970-01-01T00:15:56\",\"1970-01-01T00:15:56\",\"1970-01-01T00:16:11\",\"1970-01-01T00:16:11\",\"1970-01-01T00:16:11\"],\"y\":[\"from_site\",\"from_site\",\"from_site\",\"from_site\",null,\"from_site\",\"from_site\",\"from_site\",\"from_site\",null,\"from_site\",\"from_site\",\"from_site\",\"from_site\",null,\"from_site\",\"from_site\",\"from_site\",\"from_site\",null,\"from_site\",\"from_site\",\"from_site\",\"from_site\",null,\"from_site\",\"from_site\",\"from_site\",\"from_site\",null,\"cutter\",\"cutter\",\"cutter\",\"cutter\",null,\"cutter\",\"cutter\",\"cutter\",\"cutter\",null,\"cutter\",\"cutter\",\"cutter\",\"cutter\",null,\"cutter\",\"cutter\",\"cutter\",\"cutter\",null,\"cutter\",\"cutter\",\"cutter\",\"cutter\",null,\"cutter\",\"cutter\",\"cutter\",\"cutter\",null],\"type\":\"scatter\"},{\"connectgaps\":false,\"hoverinfo\":\"y+name\",\"line\":{\"color\":\"rgb(136,34,90)\",\"width\":10},\"mode\":\"lines\",\"name\":\"loading0\",\"x\":[\"1970-01-01T00:00:56\",\"1970-01-01T00:00:56\",\"1970-01-01T00:01:41\",\"1970-01-01T00:01:41\",\"1970-01-01T00:01:41\",\"1970-01-01T00:03:33\",\"1970-01-01T00:03:33\",\"1970-01-01T00:04:18\",\"1970-01-01T00:04:18\",\"1970-01-01T00:04:18\",\"1970-01-01T00:06:10\",\"1970-01-01T00:06:10\",\"1970-01-01T00:06:55\",\"1970-01-01T00:06:55\",\"1970-01-01T00:06:55\",\"1970-01-01T00:08:47\",\"1970-01-01T00:08:47\",\"1970-01-01T00:09:32\",\"1970-01-01T00:09:32\",\"1970-01-01T00:09:32\",\"1970-01-01T00:11:24\",\"1970-01-01T00:11:24\",\"1970-01-01T00:12:09\",\"1970-01-01T00:12:09\",\"1970-01-01T00:12:09\",\"1970-01-01T00:14:01\",\"1970-01-01T00:14:01\",\"1970-01-01T00:14:46\",\"1970-01-01T00:14:46\",\"1970-01-01T00:14:46\",\"1970-01-01T00:16:38\",\"1970-01-01T00:16:38\",\"1970-01-01T00:17:23\",\"1970-01-01T00:17:23\",\"1970-01-01T00:17:23\",\"1970-01-01T00:00:56\",\"1970-01-01T00:00:56\",\"1970-01-01T00:01:41\",\"1970-01-01T00:01:41\",\"1970-01-01T00:01:41\",\"1970-01-01T00:03:33\",\"1970-01-01T00:03:33\",\"1970-01-01T00:04:18\",\"1970-01-01T00:04:18\",\"1970-01-01T00:04:18\",\"1970-01-01T00:06:10\",\"1970-01-01T00:06:10\",\"1970-01-01T00:06:55\",\"1970-01-01T00:06:55\",\"1970-01-01T00:06:55\",\"1970-01-01T00:08:47\",\"1970-01-01T00:08:47\",\"1970-01-01T00:09:32\",\"1970-01-01T00:09:32\",\"1970-01-01T00:09:32\",\"1970-01-01T00:11:24\",\"1970-01-01T00:11:24\",\"1970-01-01T00:12:09\",\"1970-01-01T00:12:09\",\"1970-01-01T00:12:09\",\"1970-01-01T00:14:01\",\"1970-01-01T00:14:01\",\"1970-01-01T00:14:46\",\"1970-01-01T00:14:46\",\"1970-01-01T00:14:46\",\"1970-01-01T00:16:38\",\"1970-01-01T00:16:38\",\"1970-01-01T00:17:23\",\"1970-01-01T00:17:23\",\"1970-01-01T00:17:23\"],\"y\":[\"from_site\",\"from_site\",\"from_site\",\"from_site\",null,\"from_site\",\"from_site\",\"from_site\",\"from_site\",null,\"from_site\",\"from_site\",\"from_site\",\"from_site\",null,\"from_site\",\"from_site\",\"from_site\",\"from_site\",null,\"from_site\",\"from_site\",\"from_site\",\"from_site\",null,\"from_site\",\"from_site\",\"from_site\",\"from_site\",null,\"from_site\",\"from_site\",\"from_site\",\"from_site\",null,\"cutter\",\"cutter\",\"cutter\",\"cutter\",null,\"cutter\",\"cutter\",\"cutter\",\"cutter\",null,\"cutter\",\"cutter\",\"cutter\",\"cutter\",null,\"cutter\",\"cutter\",\"cutter\",\"cutter\",null,\"cutter\",\"cutter\",\"cutter\",\"cutter\",null,\"cutter\",\"cutter\",\"cutter\",\"cutter\",null,\"cutter\",\"cutter\",\"cutter\",\"cutter\",null],\"type\":\"scatter\"},{\"connectgaps\":false,\"hoverinfo\":\"y+name\",\"line\":{\"color\":\"rgb(164,62,118)\",\"width\":10},\"mode\":\"lines\",\"name\":\"unloading2\",\"x\":[\"1970-01-01T00:02:54\",\"1970-01-01T00:02:54\",\"1970-01-01T00:03:32\",\"1970-01-01T00:03:32\",\"1970-01-01T00:03:32\",\"1970-01-01T00:05:41\",\"1970-01-01T00:05:41\",\"1970-01-01T00:06:19\",\"1970-01-01T00:06:19\",\"1970-01-01T00:06:19\",\"1970-01-01T00:08:28\",\"1970-01-01T00:08:28\",\"1970-01-01T00:09:06\",\"1970-01-01T00:09:06\",\"1970-01-01T00:09:06\",\"1970-01-01T00:11:15\",\"1970-01-01T00:11:15\",\"1970-01-01T00:11:53\",\"1970-01-01T00:11:53\",\"1970-01-01T00:11:53\",\"1970-01-01T00:14:02\",\"1970-01-01T00:14:02\",\"1970-01-01T00:14:40\",\"1970-01-01T00:14:40\",\"1970-01-01T00:14:40\",\"1970-01-01T00:16:49\",\"1970-01-01T00:16:49\",\"1970-01-01T00:17:27\",\"1970-01-01T00:17:27\",\"1970-01-01T00:17:27\"],\"y\":[\"to_site\",\"to_site\",\"to_site\",\"to_site\",null,\"to_site\",\"to_site\",\"to_site\",\"to_site\",null,\"to_site\",\"to_site\",\"to_site\",\"to_site\",null,\"to_site\",\"to_site\",\"to_site\",\"to_site\",null,\"to_site\",\"to_site\",\"to_site\",\"to_site\",null,\"to_site\",\"to_site\",\"to_site\",\"to_site\",null],\"type\":\"scatter\"},{\"connectgaps\":false,\"hoverinfo\":\"y+name\",\"line\":{\"color\":\"rgb(192,90,146)\",\"width\":10},\"mode\":\"lines\",\"name\":\"unloading1\",\"x\":[\"1970-01-01T00:02:31\",\"1970-01-01T00:02:31\",\"1970-01-01T00:03:01\",\"1970-01-01T00:03:01\",\"1970-01-01T00:03:01\",\"1970-01-01T00:05:08\",\"1970-01-01T00:05:08\",\"1970-01-01T00:05:38\",\"1970-01-01T00:05:38\",\"1970-01-01T00:05:38\",\"1970-01-01T00:07:45\",\"1970-01-01T00:07:45\",\"1970-01-01T00:08:15\",\"1970-01-01T00:08:15\",\"1970-01-01T00:08:15\",\"1970-01-01T00:10:22\",\"1970-01-01T00:10:22\",\"1970-01-01T00:10:52\",\"1970-01-01T00:10:52\",\"1970-01-01T00:10:52\",\"1970-01-01T00:12:59\",\"1970-01-01T00:12:59\",\"1970-01-01T00:13:29\",\"1970-01-01T00:13:29\",\"1970-01-01T00:13:29\",\"1970-01-01T00:15:36\",\"1970-01-01T00:15:36\",\"1970-01-01T00:16:06\",\"1970-01-01T00:16:06\",\"1970-01-01T00:16:06\"],\"y\":[\"to_site\",\"to_site\",\"to_site\",\"to_site\",null,\"to_site\",\"to_site\",\"to_site\",\"to_site\",null,\"to_site\",\"to_site\",\"to_site\",\"to_site\",null,\"to_site\",\"to_site\",\"to_site\",\"to_site\",null,\"to_site\",\"to_site\",\"to_site\",\"to_site\",null,\"to_site\",\"to_site\",\"to_site\",\"to_site\",null],\"type\":\"scatter\"},{\"connectgaps\":false,\"hoverinfo\":\"y+name\",\"line\":{\"color\":\"rgb(220,118,174)\",\"width\":10},\"mode\":\"lines\",\"name\":\"unloading0\",\"x\":[\"1970-01-01T00:02:09\",\"1970-01-01T00:02:09\",\"1970-01-01T00:02:37\",\"1970-01-01T00:02:37\",\"1970-01-01T00:02:37\",\"1970-01-01T00:04:46\",\"1970-01-01T00:04:46\",\"1970-01-01T00:05:14\",\"1970-01-01T00:05:14\",\"1970-01-01T00:05:14\",\"1970-01-01T00:07:23\",\"1970-01-01T00:07:23\",\"1970-01-01T00:07:51\",\"1970-01-01T00:07:51\",\"1970-01-01T00:07:51\",\"1970-01-01T00:10:00\",\"1970-01-01T00:10:00\",\"1970-01-01T00:10:28\",\"1970-01-01T00:10:28\",\"1970-01-01T00:10:28\",\"1970-01-01T00:12:37\",\"1970-01-01T00:12:37\",\"1970-01-01T00:13:05\",\"1970-01-01T00:13:05\",\"1970-01-01T00:13:05\",\"1970-01-01T00:15:14\",\"1970-01-01T00:15:14\",\"1970-01-01T00:15:42\",\"1970-01-01T00:15:42\",\"1970-01-01T00:15:42\",\"1970-01-01T00:17:51\",\"1970-01-01T00:17:51\",\"1970-01-01T00:18:19\",\"1970-01-01T00:18:19\",\"1970-01-01T00:18:19\"],\"y\":[\"to_site\",\"to_site\",\"to_site\",\"to_site\",null,\"to_site\",\"to_site\",\"to_site\",\"to_site\",null,\"to_site\",\"to_site\",\"to_site\",\"to_site\",null,\"to_site\",\"to_site\",\"to_site\",\"to_site\",null,\"to_site\",\"to_site\",\"to_site\",\"to_site\",null,\"to_site\",\"to_site\",\"to_site\",\"to_site\",null,\"to_site\",\"to_site\",\"to_site\",\"to_site\",null],\"type\":\"scatter\"},{\"connectgaps\":false,\"hoverinfo\":\"y+name\",\"line\":{\"color\":\"rgb(248,146,202)\",\"width\":10},\"mode\":\"lines\",\"name\":\"loading1\",\"x\":[\"1970-01-01T00:01:41\",\"1970-01-01T00:01:41\",\"1970-01-01T00:02:01\",\"1970-01-01T00:02:01\",\"1970-01-01T00:02:01\",\"1970-01-01T00:04:18\",\"1970-01-01T00:04:18\",\"1970-01-01T00:04:38\",\"1970-01-01T00:04:38\",\"1970-01-01T00:04:38\",\"1970-01-01T00:06:55\",\"1970-01-01T00:06:55\",\"1970-01-01T00:07:15\",\"1970-01-01T00:07:15\",\"1970-01-01T00:07:15\",\"1970-01-01T00:09:32\",\"1970-01-01T00:09:32\",\"1970-01-01T00:09:52\",\"1970-01-01T00:09:52\",\"1970-01-01T00:09:52\",\"1970-01-01T00:12:09\",\"1970-01-01T00:12:09\",\"1970-01-01T00:12:29\",\"1970-01-01T00:12:29\",\"1970-01-01T00:12:29\",\"1970-01-01T00:14:46\",\"1970-01-01T00:14:46\",\"1970-01-01T00:15:06\",\"1970-01-01T00:15:06\",\"1970-01-01T00:15:06\",\"1970-01-01T00:01:41\",\"1970-01-01T00:01:41\",\"1970-01-01T00:02:01\",\"1970-01-01T00:02:01\",\"1970-01-01T00:02:01\",\"1970-01-01T00:04:18\",\"1970-01-01T00:04:18\",\"1970-01-01T00:04:38\",\"1970-01-01T00:04:38\",\"1970-01-01T00:04:38\",\"1970-01-01T00:06:55\",\"1970-01-01T00:06:55\",\"1970-01-01T00:07:15\",\"1970-01-01T00:07:15\",\"1970-01-01T00:07:15\",\"1970-01-01T00:09:32\",\"1970-01-01T00:09:32\",\"1970-01-01T00:09:52\",\"1970-01-01T00:09:52\",\"1970-01-01T00:09:52\",\"1970-01-01T00:12:09\",\"1970-01-01T00:12:09\",\"1970-01-01T00:12:29\",\"1970-01-01T00:12:29\",\"1970-01-01T00:12:29\",\"1970-01-01T00:14:46\",\"1970-01-01T00:14:46\",\"1970-01-01T00:15:06\",\"1970-01-01T00:15:06\",\"1970-01-01T00:15:06\"],\"y\":[\"from_site\",\"from_site\",\"from_site\",\"from_site\",null,\"from_site\",\"from_site\",\"from_site\",\"from_site\",null,\"from_site\",\"from_site\",\"from_site\",\"from_site\",null,\"from_site\",\"from_site\",\"from_site\",\"from_site\",null,\"from_site\",\"from_site\",\"from_site\",\"from_site\",null,\"from_site\",\"from_site\",\"from_site\",\"from_site\",null,\"cutter\",\"cutter\",\"cutter\",\"cutter\",null,\"cutter\",\"cutter\",\"cutter\",\"cutter\",null,\"cutter\",\"cutter\",\"cutter\",\"cutter\",null,\"cutter\",\"cutter\",\"cutter\",\"cutter\",null,\"cutter\",\"cutter\",\"cutter\",\"cutter\",null,\"cutter\",\"cutter\",\"cutter\",\"cutter\",null],\"type\":\"scatter\"},{\"connectgaps\":false,\"hoverinfo\":\"y+name\",\"line\":{\"color\":\"rgb(20,174,230)\",\"width\":10},\"mode\":\"lines\",\"name\":\"loading2\",\"x\":[\"1970-01-01T00:02:01\",\"1970-01-01T00:02:01\",\"1970-01-01T00:02:16\",\"1970-01-01T00:02:16\",\"1970-01-01T00:02:16\",\"1970-01-01T00:04:48\",\"1970-01-01T00:04:48\",\"1970-01-01T00:05:03\",\"1970-01-01T00:05:03\",\"1970-01-01T00:05:03\",\"1970-01-01T00:07:35\",\"1970-01-01T00:07:35\",\"1970-01-01T00:07:50\",\"1970-01-01T00:07:50\",\"1970-01-01T00:07:50\",\"1970-01-01T00:10:22\",\"1970-01-01T00:10:22\",\"1970-01-01T00:10:37\",\"1970-01-01T00:10:37\",\"1970-01-01T00:10:37\",\"1970-01-01T00:13:09\",\"1970-01-01T00:13:09\",\"1970-01-01T00:13:24\",\"1970-01-01T00:13:24\",\"1970-01-01T00:13:24\",\"1970-01-01T00:15:56\",\"1970-01-01T00:15:56\",\"1970-01-01T00:16:11\",\"1970-01-01T00:16:11\",\"1970-01-01T00:16:11\",\"1970-01-01T00:02:01\",\"1970-01-01T00:02:01\",\"1970-01-01T00:02:16\",\"1970-01-01T00:02:16\",\"1970-01-01T00:02:16\",\"1970-01-01T00:04:48\",\"1970-01-01T00:04:48\",\"1970-01-01T00:05:03\",\"1970-01-01T00:05:03\",\"1970-01-01T00:05:03\",\"1970-01-01T00:07:35\",\"1970-01-01T00:07:35\",\"1970-01-01T00:07:50\",\"1970-01-01T00:07:50\",\"1970-01-01T00:07:50\",\"1970-01-01T00:10:22\",\"1970-01-01T00:10:22\",\"1970-01-01T00:10:37\",\"1970-01-01T00:10:37\",\"1970-01-01T00:10:37\",\"1970-01-01T00:13:09\",\"1970-01-01T00:13:09\",\"1970-01-01T00:13:24\",\"1970-01-01T00:13:24\",\"1970-01-01T00:13:24\",\"1970-01-01T00:15:56\",\"1970-01-01T00:15:56\",\"1970-01-01T00:16:11\",\"1970-01-01T00:16:11\",\"1970-01-01T00:16:11\"],\"y\":[\"from_site\",\"from_site\",\"from_site\",\"from_site\",null,\"from_site\",\"from_site\",\"from_site\",\"from_site\",null,\"from_site\",\"from_site\",\"from_site\",\"from_site\",null,\"from_site\",\"from_site\",\"from_site\",\"from_site\",null,\"from_site\",\"from_site\",\"from_site\",\"from_site\",null,\"from_site\",\"from_site\",\"from_site\",\"from_site\",null,\"cutter\",\"cutter\",\"cutter\",\"cutter\",null,\"cutter\",\"cutter\",\"cutter\",\"cutter\",null,\"cutter\",\"cutter\",\"cutter\",\"cutter\",null,\"cutter\",\"cutter\",\"cutter\",\"cutter\",null,\"cutter\",\"cutter\",\"cutter\",\"cutter\",null,\"cutter\",\"cutter\",\"cutter\",\"cutter\",null],\"type\":\"scatter\"},{\"connectgaps\":false,\"hoverinfo\":\"y+name\",\"line\":{\"color\":\"rgb(48,202,2)\",\"width\":10},\"mode\":\"lines\",\"name\":\"loading0\",\"x\":[\"1970-01-01T00:00:56\",\"1970-01-01T00:00:56\",\"1970-01-01T00:01:41\",\"1970-01-01T00:01:41\",\"1970-01-01T00:01:41\",\"1970-01-01T00:03:33\",\"1970-01-01T00:03:33\",\"1970-01-01T00:04:18\",\"1970-01-01T00:04:18\",\"1970-01-01T00:04:18\",\"1970-01-01T00:06:10\",\"1970-01-01T00:06:10\",\"1970-01-01T00:06:55\",\"1970-01-01T00:06:55\",\"1970-01-01T00:06:55\",\"1970-01-01T00:08:47\",\"1970-01-01T00:08:47\",\"1970-01-01T00:09:32\",\"1970-01-01T00:09:32\",\"1970-01-01T00:09:32\",\"1970-01-01T00:11:24\",\"1970-01-01T00:11:24\",\"1970-01-01T00:12:09\",\"1970-01-01T00:12:09\",\"1970-01-01T00:12:09\",\"1970-01-01T00:14:01\",\"1970-01-01T00:14:01\",\"1970-01-01T00:14:46\",\"1970-01-01T00:14:46\",\"1970-01-01T00:14:46\",\"1970-01-01T00:16:38\",\"1970-01-01T00:16:38\",\"1970-01-01T00:17:23\",\"1970-01-01T00:17:23\",\"1970-01-01T00:17:23\",\"1970-01-01T00:00:56\",\"1970-01-01T00:00:56\",\"1970-01-01T00:01:41\",\"1970-01-01T00:01:41\",\"1970-01-01T00:01:41\",\"1970-01-01T00:03:33\",\"1970-01-01T00:03:33\",\"1970-01-01T00:04:18\",\"1970-01-01T00:04:18\",\"1970-01-01T00:04:18\",\"1970-01-01T00:06:10\",\"1970-01-01T00:06:10\",\"1970-01-01T00:06:55\",\"1970-01-01T00:06:55\",\"1970-01-01T00:06:55\",\"1970-01-01T00:08:47\",\"1970-01-01T00:08:47\",\"1970-01-01T00:09:32\",\"1970-01-01T00:09:32\",\"1970-01-01T00:09:32\",\"1970-01-01T00:11:24\",\"1970-01-01T00:11:24\",\"1970-01-01T00:12:09\",\"1970-01-01T00:12:09\",\"1970-01-01T00:12:09\",\"1970-01-01T00:14:01\",\"1970-01-01T00:14:01\",\"1970-01-01T00:14:46\",\"1970-01-01T00:14:46\",\"1970-01-01T00:14:46\",\"1970-01-01T00:16:38\",\"1970-01-01T00:16:38\",\"1970-01-01T00:17:23\",\"1970-01-01T00:17:23\",\"1970-01-01T00:17:23\"],\"y\":[\"from_site\",\"from_site\",\"from_site\",\"from_site\",null,\"from_site\",\"from_site\",\"from_site\",\"from_site\",null,\"from_site\",\"from_site\",\"from_site\",\"from_site\",null,\"from_site\",\"from_site\",\"from_site\",\"from_site\",null,\"from_site\",\"from_site\",\"from_site\",\"from_site\",null,\"from_site\",\"from_site\",\"from_site\",\"from_site\",null,\"from_site\",\"from_site\",\"from_site\",\"from_site\",null,\"cutter\",\"cutter\",\"cutter\",\"cutter\",null,\"cutter\",\"cutter\",\"cutter\",\"cutter\",null,\"cutter\",\"cutter\",\"cutter\",\"cutter\",null,\"cutter\",\"cutter\",\"cutter\",\"cutter\",null,\"cutter\",\"cutter\",\"cutter\",\"cutter\",null,\"cutter\",\"cutter\",\"cutter\",\"cutter\",null,\"cutter\",\"cutter\",\"cutter\",\"cutter\",null],\"type\":\"scatter\"}],                        {\"hovermode\":\"closest\",\"legend\":{\"orientation\":\"h\",\"x\":0,\"y\":-0.2},\"template\":{\"data\":{\"barpolar\":[{\"marker\":{\"line\":{\"color\":\"#E5ECF6\",\"width\":0.5},\"pattern\":{\"fillmode\":\"overlay\",\"size\":10,\"solidity\":0.2}},\"type\":\"barpolar\"}],\"bar\":[{\"error_x\":{\"color\":\"#2a3f5f\"},\"error_y\":{\"color\":\"#2a3f5f\"},\"marker\":{\"line\":{\"color\":\"#E5ECF6\",\"width\":0.5},\"pattern\":{\"fillmode\":\"overlay\",\"size\":10,\"solidity\":0.2}},\"type\":\"bar\"}],\"carpet\":[{\"aaxis\":{\"endlinecolor\":\"#2a3f5f\",\"gridcolor\":\"white\",\"linecolor\":\"white\",\"minorgridcolor\":\"white\",\"startlinecolor\":\"#2a3f5f\"},\"baxis\":{\"endlinecolor\":\"#2a3f5f\",\"gridcolor\":\"white\",\"linecolor\":\"white\",\"minorgridcolor\":\"white\",\"startlinecolor\":\"#2a3f5f\"},\"type\":\"carpet\"}],\"choropleth\":[{\"colorbar\":{\"outlinewidth\":0,\"ticks\":\"\"},\"type\":\"choropleth\"}],\"contourcarpet\":[{\"colorbar\":{\"outlinewidth\":0,\"ticks\":\"\"},\"type\":\"contourcarpet\"}],\"contour\":[{\"colorbar\":{\"outlinewidth\":0,\"ticks\":\"\"},\"colorscale\":[[0.0,\"#0d0887\"],[0.1111111111111111,\"#46039f\"],[0.2222222222222222,\"#7201a8\"],[0.3333333333333333,\"#9c179e\"],[0.4444444444444444,\"#bd3786\"],[0.5555555555555556,\"#d8576b\"],[0.6666666666666666,\"#ed7953\"],[0.7777777777777778,\"#fb9f3a\"],[0.8888888888888888,\"#fdca26\"],[1.0,\"#f0f921\"]],\"type\":\"contour\"}],\"heatmapgl\":[{\"colorbar\":{\"outlinewidth\":0,\"ticks\":\"\"},\"colorscale\":[[0.0,\"#0d0887\"],[0.1111111111111111,\"#46039f\"],[0.2222222222222222,\"#7201a8\"],[0.3333333333333333,\"#9c179e\"],[0.4444444444444444,\"#bd3786\"],[0.5555555555555556,\"#d8576b\"],[0.6666666666666666,\"#ed7953\"],[0.7777777777777778,\"#fb9f3a\"],[0.8888888888888888,\"#fdca26\"],[1.0,\"#f0f921\"]],\"type\":\"heatmapgl\"}],\"heatmap\":[{\"colorbar\":{\"outlinewidth\":0,\"ticks\":\"\"},\"colorscale\":[[0.0,\"#0d0887\"],[0.1111111111111111,\"#46039f\"],[0.2222222222222222,\"#7201a8\"],[0.3333333333333333,\"#9c179e\"],[0.4444444444444444,\"#bd3786\"],[0.5555555555555556,\"#d8576b\"],[0.6666666666666666,\"#ed7953\"],[0.7777777777777778,\"#fb9f3a\"],[0.8888888888888888,\"#fdca26\"],[1.0,\"#f0f921\"]],\"type\":\"heatmap\"}],\"histogram2dcontour\":[{\"colorbar\":{\"outlinewidth\":0,\"ticks\":\"\"},\"colorscale\":[[0.0,\"#0d0887\"],[0.1111111111111111,\"#46039f\"],[0.2222222222222222,\"#7201a8\"],[0.3333333333333333,\"#9c179e\"],[0.4444444444444444,\"#bd3786\"],[0.5555555555555556,\"#d8576b\"],[0.6666666666666666,\"#ed7953\"],[0.7777777777777778,\"#fb9f3a\"],[0.8888888888888888,\"#fdca26\"],[1.0,\"#f0f921\"]],\"type\":\"histogram2dcontour\"}],\"histogram2d\":[{\"colorbar\":{\"outlinewidth\":0,\"ticks\":\"\"},\"colorscale\":[[0.0,\"#0d0887\"],[0.1111111111111111,\"#46039f\"],[0.2222222222222222,\"#7201a8\"],[0.3333333333333333,\"#9c179e\"],[0.4444444444444444,\"#bd3786\"],[0.5555555555555556,\"#d8576b\"],[0.6666666666666666,\"#ed7953\"],[0.7777777777777778,\"#fb9f3a\"],[0.8888888888888888,\"#fdca26\"],[1.0,\"#f0f921\"]],\"type\":\"histogram2d\"}],\"histogram\":[{\"marker\":{\"pattern\":{\"fillmode\":\"overlay\",\"size\":10,\"solidity\":0.2}},\"type\":\"histogram\"}],\"mesh3d\":[{\"colorbar\":{\"outlinewidth\":0,\"ticks\":\"\"},\"type\":\"mesh3d\"}],\"parcoords\":[{\"line\":{\"colorbar\":{\"outlinewidth\":0,\"ticks\":\"\"}},\"type\":\"parcoords\"}],\"pie\":[{\"automargin\":true,\"type\":\"pie\"}],\"scatter3d\":[{\"line\":{\"colorbar\":{\"outlinewidth\":0,\"ticks\":\"\"}},\"marker\":{\"colorbar\":{\"outlinewidth\":0,\"ticks\":\"\"}},\"type\":\"scatter3d\"}],\"scattercarpet\":[{\"marker\":{\"colorbar\":{\"outlinewidth\":0,\"ticks\":\"\"}},\"type\":\"scattercarpet\"}],\"scattergeo\":[{\"marker\":{\"colorbar\":{\"outlinewidth\":0,\"ticks\":\"\"}},\"type\":\"scattergeo\"}],\"scattergl\":[{\"marker\":{\"colorbar\":{\"outlinewidth\":0,\"ticks\":\"\"}},\"type\":\"scattergl\"}],\"scattermapbox\":[{\"marker\":{\"colorbar\":{\"outlinewidth\":0,\"ticks\":\"\"}},\"type\":\"scattermapbox\"}],\"scatterpolargl\":[{\"marker\":{\"colorbar\":{\"outlinewidth\":0,\"ticks\":\"\"}},\"type\":\"scatterpolargl\"}],\"scatterpolar\":[{\"marker\":{\"colorbar\":{\"outlinewidth\":0,\"ticks\":\"\"}},\"type\":\"scatterpolar\"}],\"scatter\":[{\"marker\":{\"colorbar\":{\"outlinewidth\":0,\"ticks\":\"\"}},\"type\":\"scatter\"}],\"scatterternary\":[{\"marker\":{\"colorbar\":{\"outlinewidth\":0,\"ticks\":\"\"}},\"type\":\"scatterternary\"}],\"surface\":[{\"colorbar\":{\"outlinewidth\":0,\"ticks\":\"\"},\"colorscale\":[[0.0,\"#0d0887\"],[0.1111111111111111,\"#46039f\"],[0.2222222222222222,\"#7201a8\"],[0.3333333333333333,\"#9c179e\"],[0.4444444444444444,\"#bd3786\"],[0.5555555555555556,\"#d8576b\"],[0.6666666666666666,\"#ed7953\"],[0.7777777777777778,\"#fb9f3a\"],[0.8888888888888888,\"#fdca26\"],[1.0,\"#f0f921\"]],\"type\":\"surface\"}],\"table\":[{\"cells\":{\"fill\":{\"color\":\"#EBF0F8\"},\"line\":{\"color\":\"white\"}},\"header\":{\"fill\":{\"color\":\"#C8D4E3\"},\"line\":{\"color\":\"white\"}},\"type\":\"table\"}]},\"layout\":{\"annotationdefaults\":{\"arrowcolor\":\"#2a3f5f\",\"arrowhead\":0,\"arrowwidth\":1},\"autotypenumbers\":\"strict\",\"coloraxis\":{\"colorbar\":{\"outlinewidth\":0,\"ticks\":\"\"}},\"colorscale\":{\"diverging\":[[0,\"#8e0152\"],[0.1,\"#c51b7d\"],[0.2,\"#de77ae\"],[0.3,\"#f1b6da\"],[0.4,\"#fde0ef\"],[0.5,\"#f7f7f7\"],[0.6,\"#e6f5d0\"],[0.7,\"#b8e186\"],[0.8,\"#7fbc41\"],[0.9,\"#4d9221\"],[1,\"#276419\"]],\"sequential\":[[0.0,\"#0d0887\"],[0.1111111111111111,\"#46039f\"],[0.2222222222222222,\"#7201a8\"],[0.3333333333333333,\"#9c179e\"],[0.4444444444444444,\"#bd3786\"],[0.5555555555555556,\"#d8576b\"],[0.6666666666666666,\"#ed7953\"],[0.7777777777777778,\"#fb9f3a\"],[0.8888888888888888,\"#fdca26\"],[1.0,\"#f0f921\"]],\"sequentialminus\":[[0.0,\"#0d0887\"],[0.1111111111111111,\"#46039f\"],[0.2222222222222222,\"#7201a8\"],[0.3333333333333333,\"#9c179e\"],[0.4444444444444444,\"#bd3786\"],[0.5555555555555556,\"#d8576b\"],[0.6666666666666666,\"#ed7953\"],[0.7777777777777778,\"#fb9f3a\"],[0.8888888888888888,\"#fdca26\"],[1.0,\"#f0f921\"]]},\"colorway\":[\"#636efa\",\"#EF553B\",\"#00cc96\",\"#ab63fa\",\"#FFA15A\",\"#19d3f3\",\"#FF6692\",\"#B6E880\",\"#FF97FF\",\"#FECB52\"],\"font\":{\"color\":\"#2a3f5f\"},\"geo\":{\"bgcolor\":\"white\",\"lakecolor\":\"white\",\"landcolor\":\"#E5ECF6\",\"showlakes\":true,\"showland\":true,\"subunitcolor\":\"white\"},\"hoverlabel\":{\"align\":\"left\"},\"hovermode\":\"closest\",\"mapbox\":{\"style\":\"light\"},\"paper_bgcolor\":\"white\",\"plot_bgcolor\":\"#E5ECF6\",\"polar\":{\"angularaxis\":{\"gridcolor\":\"white\",\"linecolor\":\"white\",\"ticks\":\"\"},\"bgcolor\":\"#E5ECF6\",\"radialaxis\":{\"gridcolor\":\"white\",\"linecolor\":\"white\",\"ticks\":\"\"}},\"scene\":{\"xaxis\":{\"backgroundcolor\":\"#E5ECF6\",\"gridcolor\":\"white\",\"gridwidth\":2,\"linecolor\":\"white\",\"showbackground\":true,\"ticks\":\"\",\"zerolinecolor\":\"white\"},\"yaxis\":{\"backgroundcolor\":\"#E5ECF6\",\"gridcolor\":\"white\",\"gridwidth\":2,\"linecolor\":\"white\",\"showbackground\":true,\"ticks\":\"\",\"zerolinecolor\":\"white\"},\"zaxis\":{\"backgroundcolor\":\"#E5ECF6\",\"gridcolor\":\"white\",\"gridwidth\":2,\"linecolor\":\"white\",\"showbackground\":true,\"ticks\":\"\",\"zerolinecolor\":\"white\"}},\"shapedefaults\":{\"line\":{\"color\":\"#2a3f5f\"}},\"ternary\":{\"aaxis\":{\"gridcolor\":\"white\",\"linecolor\":\"white\",\"ticks\":\"\"},\"baxis\":{\"gridcolor\":\"white\",\"linecolor\":\"white\",\"ticks\":\"\"},\"bgcolor\":\"#E5ECF6\",\"caxis\":{\"gridcolor\":\"white\",\"linecolor\":\"white\",\"ticks\":\"\"}},\"title\":{\"x\":0.05},\"xaxis\":{\"automargin\":true,\"gridcolor\":\"white\",\"linecolor\":\"white\",\"ticks\":\"\",\"title\":{\"standoff\":15},\"zerolinecolor\":\"white\",\"zerolinewidth\":2},\"yaxis\":{\"automargin\":true,\"gridcolor\":\"white\",\"linecolor\":\"white\",\"ticks\":\"\",\"title\":{\"standoff\":15},\"zerolinecolor\":\"white\",\"zerolinewidth\":2}}},\"title\":{\"text\":\"GANTT Chart\"},\"xaxis\":{\"range\":[\"1970-01-01T00:00:56\",\"1970-01-01T00:18:19\"],\"title\":{\"font\":{\"color\":\"#7f7f7f\",\"family\":\"Courier New, monospace\",\"size\":18},\"text\":\"Time\"}},\"yaxis\":{\"title\":{\"font\":{\"color\":\"#7f7f7f\",\"family\":\"Courier New, monospace\",\"size\":18},\"text\":\"Activities\"}}},                        {\"responsive\": true}                    ).then(function(){\n",
       "                            \n",
       "var gd = document.getElementById('fc5ba036-e0d2-4491-b8b3-d2148d246793');\n",
       "var x = new MutationObserver(function (mutations, observer) {{\n",
       "        var display = window.getComputedStyle(gd).display;\n",
       "        if (!display || display === 'none') {{\n",
       "            console.log([gd, 'removed!']);\n",
       "            Plotly.purge(gd);\n",
       "            observer.disconnect();\n",
       "        }}\n",
       "}});\n",
       "\n",
       "// Listen for the removal of the full notebook cells\n",
       "var notebookContainer = gd.closest('#notebook-container');\n",
       "if (notebookContainer) {{\n",
       "    x.observe(notebookContainer, {childList: true});\n",
       "}}\n",
       "\n",
       "// Listen for the clearing of the current output cell\n",
       "var outputEl = gd.closest('.output');\n",
       "if (outputEl) {{\n",
       "    x.observe(outputEl, {childList: true});\n",
       "}}\n",
       "\n",
       "                        })                };                });            </script>        </div>"
      ]
     },
     "metadata": {},
     "output_type": "display_data"
    }
   ],
   "source": [
    "fig = plot.get_gantt_chart([from_site, to_site,cutter],id_map=id_map)"
   ]
  },
  {
   "cell_type": "code",
   "execution_count": 8,
   "metadata": {},
   "outputs": [
    {
     "data": {
      "image/png": "[encoded data removed]",
      "text/plain": [
       "<Figure size 1008x504 with 1 Axes>"
      ]
     },
     "metadata": {
      "needs_background": "light"
     },
     "output_type": "display_data"
    }
   ],
   "source": [
    "fig = plot.get_step_chart([from_site, to_site, *vessels.values()])"
   ]
  },
  {
   "cell_type": "code",
   "execution_count": 9,
   "metadata": {},
   "outputs": [
    {
     "data": {
      "text/html": [
       "<div>\n",
       "<style scoped>\n",
       "    .dataframe tbody tr th:only-of-type {\n",
       "        vertical-align: middle;\n",
       "    }\n",
       "\n",
       "    .dataframe tbody tr th {\n",
       "        vertical-align: top;\n",
       "    }\n",
       "\n",
       "    .dataframe thead th {\n",
       "        text-align: right;\n",
       "    }\n",
       "</style>\n",
       "<table border=\"1\" class=\"dataframe\">\n",
       "  <thead>\n",
       "    <tr style=\"text-align: right;\">\n",
       "      <th></th>\n",
       "      <th>name</th>\n",
       "      <th>trips</th>\n",
       "      <th>theoretical production</th>\n",
       "      <th>production</th>\n",
       "    </tr>\n",
       "  </thead>\n",
       "  <tbody>\n",
       "    <tr>\n",
       "      <th>0</th>\n",
       "      <td>barge0</td>\n",
       "      <td>7</td>\n",
       "      <td>0.057325</td>\n",
       "      <td>0.057325</td>\n",
       "    </tr>\n",
       "    <tr>\n",
       "      <th>1</th>\n",
       "      <td>barge1</td>\n",
       "      <td>6</td>\n",
       "      <td>0.028571</td>\n",
       "      <td>0.024845</td>\n",
       "    </tr>\n",
       "    <tr>\n",
       "      <th>2</th>\n",
       "      <td>barge2</td>\n",
       "      <td>6</td>\n",
       "      <td>0.017964</td>\n",
       "      <td>0.017192</td>\n",
       "    </tr>\n",
       "  </tbody>\n",
       "</table>\n",
       "</div>"
      ],
      "text/plain": [
       "     name  trips  theoretical production  production\n",
       "0  barge0      7                0.057325    0.057325\n",
       "1  barge1      6                0.028571    0.024845\n",
       "2  barge2      6                0.017964    0.017192"
      ]
     },
     "execution_count": 9,
     "metadata": {},
     "output_type": "execute_result"
    }
   ],
   "source": [
    "data = []\n",
    "for i in range(len(vessels.values()) - 1):\n",
    "    vessel = vessels[f'vessel{i}']\n",
    "    activity = activities[f'activity{i}']\n",
    "    sub_act = activity.sub_processes[0].sub_processes[-1]\n",
    "    log = pd.DataFrame(vessel.log)\n",
    "    nr_trips = len(log[(log.ActivityID == sub_act.id) & (log.ActivityState == \"START\")])\n",
    "    data.append({\n",
    "        'name':vessel.name, \n",
    "        'trips':nr_trips, \n",
    "        'theoretical production': (sub_act.amount / (4*sub_act.duration+ 5*sub_act.amount)),\n",
    "        'production':(nr_trips * sub_act.amount) / ((log.Timestamp.max() - log.Timestamp.min()).total_seconds()),\n",
    "    })\n",
    "df = pd.DataFrame(data).sort_values(by=['production'],ascending=False)\n",
    "df"
   ]
  },
  {
   "cell_type": "code",
   "execution_count": null,
   "metadata": {},
   "outputs": [],
   "source": []
  },
  {
   "cell_type": "code",
   "execution_count": null,
   "metadata": {},
   "outputs": [],
   "source": []
  }
 ],
 "metadata": {
  "kernelspec": {
   "display_name": "Python 3",
   "language": "python",
   "name": "python3"
  },
  "language_info": {
   "codemirror_mode": {
    "name": "ipython",
    "version": 3
   },
   "file_extension": ".py",
   "mimetype": "text/x-python",
   "name": "python",
   "nbconvert_exporter": "python",
   "pygments_lexer": "ipython3",
   "version": "3.8.5"
  }
 },
 "nbformat": 4,
 "nbformat_minor": 5
}
