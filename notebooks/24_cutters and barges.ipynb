{
 "cells": [
  {
   "cell_type": "code",
   "execution_count": 1,
   "metadata": {},
   "outputs": [],
   "source": [
    "import datetime, time\n",
    "import simpy\n",
    "\n",
    "import shapely.geometry\n",
    "import pandas as pd\n",
    "\n",
    "import openclsim.core as core\n",
    "import openclsim.model as model\n",
    "import openclsim.plot as plot\n",
    "import numpy as np"
   ]
  },
  {
   "cell_type": "code",
   "execution_count": 2,
   "metadata": {},
   "outputs": [],
   "source": [
    "Site = type(\n",
    "    \"Site\",\n",
    "    (\n",
    "        core.Identifiable,\n",
    "        core.Log,\n",
    "        core.Locatable,\n",
    "        core.HasContainer,\n",
    "        core.HasResource,\n",
    "    ),\n",
    "    {},\n",
    ")\n",
    "TransportProcessingResource = type(\n",
    "    \"TransportProcessingResource\",\n",
    "    (\n",
    "        core.Identifiable,\n",
    "        core.Log,\n",
    "        core.ContainerDependentMovable,\n",
    "        core.Processor,\n",
    "        core.HasResource,\n",
    "    ),\n",
    "    {},\n",
    ")"
   ]
  },
  {
   "cell_type": "code",
   "execution_count": 3,
   "metadata": {},
   "outputs": [],
   "source": [
    "def run(NR_BARGES, total_amount):\n",
    "    simulation_start = 0\n",
    "    my_env = simpy.Environment(initial_time=simulation_start)\n",
    "    registry = {}\n",
    "\n",
    "    location_from_site = shapely.geometry.Point(4.18055556, 52.18664444)\n",
    "    location_to_site = shapely.geometry.Point(4.25222222, 52.11428333)\n",
    "\n",
    "    data_from_site = {\"env\": my_env,\n",
    "                      \"name\": \"from_site\",\n",
    "                      \"geometry\": location_from_site,\n",
    "                      \"capacity\": total_amount,\n",
    "                      \"level\": total_amount,\n",
    "                      \"nr_resources\":1\n",
    "                     }\n",
    "    from_site = Site(**data_from_site)\n",
    "\n",
    "    location_to_site = shapely.geometry.Point(4.25222222, 52.11428333)\n",
    "    data_to_site = {\"env\": my_env,\n",
    "                    \"name\": \"to_site\",\n",
    "                    \"geometry\": location_to_site,\n",
    "                    \"capacity\": total_amount,\n",
    "                    \"level\": 0,\n",
    "                    \"nr_resources\":4\n",
    "                   }\n",
    "    to_site = Site(**data_to_site)\n",
    "\n",
    "    vessels = {}\n",
    "\n",
    "    for i in range(NR_BARGES):\n",
    "        vessels[f\"vessel{i}\"] = TransportProcessingResource(\n",
    "            env=my_env,\n",
    "            name=f\"barge_{i}\",\n",
    "            geometry=location_from_site, \n",
    "            capacity=10,\n",
    "            compute_v=lambda x: 10\n",
    "        )\n",
    "    cutter = TransportProcessingResource(\n",
    "        env=my_env,\n",
    "        name=f\"cutter\",\n",
    "        geometry=location_from_site, \n",
    "        capacity=10,\n",
    "        compute_v=lambda x: 10\n",
    "    )\n",
    "    vessels['cutter'] = cutter\n",
    "    \n",
    "\n",
    "    activities = {}\n",
    "    for i in range(NR_BARGES):\n",
    "        amount = np.random.randint(4,6) # handle loading\n",
    "        duration=np.random.randint(2000,3000) # sailing and unloading\n",
    "\n",
    "        requested_resources={}\n",
    "        activities[f\"activity{i}\"] = model.WhileActivity(\n",
    "            env=my_env,\n",
    "            name=f\"while_sequential_activity_subcycle{i}\",\n",
    "            registry=registry,\n",
    "            sub_processes=[model.SequentialActivity(\n",
    "                env=my_env,\n",
    "                name=f\"sequential_activity_subcycle{i}\",\n",
    "                registry=registry,\n",
    "                sub_processes=[\n",
    "                    model.BasicActivity(\n",
    "                        env=my_env,\n",
    "                        name=f\"basic activity:\"+vessels[f\"vessel{i}\"].name,\n",
    "                        registry=registry,\n",
    "                        duration=duration,\n",
    "                        additional_logs=[vessels[f\"vessel{i}\"]],\n",
    "                    ),\n",
    "                    model.MoveActivity(\n",
    "                        env=my_env,\n",
    "                        name=f\"sailing empty:\"+vessels[f\"vessel{i}\"].name,\n",
    "                        registry=registry,\n",
    "                        mover=vessels[f\"vessel{i}\"],\n",
    "                        destination=from_site,\n",
    "                        duration=duration,\n",
    "                    ),\n",
    "                    model.ShiftAmountActivity(\n",
    "                        env=my_env,\n",
    "                        name=f\"loading:\"+vessels[f\"vessel{i}\"].name,\n",
    "                        registry=registry,\n",
    "                        processor=cutter,\n",
    "                        origin=from_site,\n",
    "                        destination=vessels[f\"vessel{i}\"],\n",
    "                        amount=amount,\n",
    "                        duration=500*amount,\n",
    "                        requested_resources=requested_resources,\n",
    "                    ),\n",
    "                    model.MoveActivity(\n",
    "                        env=my_env,\n",
    "                        name=f\"sailing full:\"+vessels[f\"vessel{i}\"].name,\n",
    "                        registry=registry,\n",
    "                        mover=vessels[f\"vessel{i}\"],\n",
    "                        destination=to_site,\n",
    "                        duration=duration,\n",
    "                    ),\n",
    "                    model.ShiftAmountActivity(\n",
    "                        env=my_env,\n",
    "                        name=f\"unloading:\"+vessels[f\"vessel{i}\"].name,\n",
    "                        registry=registry,\n",
    "                        processor=vessels[f\"vessel{i}\"],\n",
    "                        origin=vessels[f\"vessel{i}\"],\n",
    "                        destination=to_site,\n",
    "                        amount=amount,\n",
    "                        duration=duration,\n",
    "                        requested_resources=requested_resources,\n",
    "                    ),\n",
    "                ],\n",
    "            )],\n",
    "            condition_event=[\n",
    "                {\n",
    "                    \"type\": \"container\", \n",
    "                    \"concept\": to_site, \n",
    "                    \"state\": \"full\",\n",
    "                    \"id_\":\"default_reservations\"\n",
    "                }\n",
    "            ],\n",
    "        )\n",
    "\n",
    "    model.register_processes(list(activities.values()))\n",
    "    my_env.run()\n",
    "    \n",
    "    return {\n",
    "        \"vessels\": vessels,\n",
    "        \"activities\":activities,\n",
    "        \"from_site\":from_site,\n",
    "        \"to_site\":to_site,\n",
    "    }\n"
   ]
  },
  {
   "cell_type": "code",
   "execution_count": 4,
   "metadata": {},
   "outputs": [
    {
     "name": "stdout",
     "output_type": "stream",
     "text": [
      "Wall time: 53.6 ms\n"
     ]
    }
   ],
   "source": [
    "%%time\n",
    "\n",
    "res = run(3,100)\n",
    "vessels = res['vessels']\n",
    "activities = res['activities']\n",
    "cutter = vessels['cutter']\n",
    "to_site = res['to_site']\n",
    "from_site = res['from_site']"
   ]
  },
  {
   "cell_type": "code",
   "execution_count": 5,
   "metadata": {},
   "outputs": [],
   "source": [
    "# this should be made generic and added to openclsim.plot\n",
    "def extend_id_map(activity, id_map):\n",
    "    if hasattr(activity, \"sub_processes\"):\n",
    "        for sub_process in activity.sub_processes:\n",
    "            id_map = extend_id_map(sub_process, id_map)\n",
    "    \n",
    "    return {**id_map, activity.id: activity }\n",
    "\n",
    "activity_map = {}\n",
    "for activity in [*activities]:\n",
    "    activity_map = extend_id_map(activities[activity], activity_map)\n",
    "    \n",
    "id_map = {key:val.name for (key,val) in activity_map.items()}"
   ]
  },
  {
   "cell_type": "code",
   "execution_count": 6,
   "metadata": {},
   "outputs": [
    {
     "data": {
      "text/html": [
       "        <script type=\"text/javascript\">\n",
       "        window.PlotlyConfig = {MathJaxConfig: 'local'};\n",
       "        if (window.MathJax) {MathJax.Hub.Config({SVG: {font: \"STIX-Web\"}});}\n",
       "        if (typeof require !== 'undefined') {\n",
       "        require.undef(\"plotly\");\n",
       "        requirejs.config({\n",
       "            paths: {\n",
       "                'plotly': ['https://cdn.plot.ly/plotly-2.8.3.min']\n",
       "            }\n",
       "        });\n",
       "        require(['plotly'], function(Plotly) {\n",
       "            window._Plotly = Plotly;\n",
       "        });\n",
       "        }\n",
       "        </script>\n",
       "        "
      ]
     },
     "metadata": {},
     "output_type": "display_data"
    },
    {
     "data": {
      "application/vnd.plotly.v1+json": {
       "config": {
        "linkText": "Export to plot.ly",
        "plotlyServerURL": "https://plot.ly",
        "showLink": false
       },
       "data": [
        {
         "connectgaps": false,
         "hoverinfo": "y+name",
         "line": {
          "color": "rgb(190,144,101)",
          "width": 10
         },
         "mode": "lines",
         "name": "unloading:barge_0",
         "type": "scatter",
         "x": [
          "1970-01-01T02:22:56",
          "1970-01-01T02:22:56",
          "1970-01-01T02:59:28",
          "1970-01-01T02:59:28",
          "1970-01-01T02:59:28",
          "1970-01-01T05:22:24",
          "1970-01-01T05:22:24",
          "1970-01-01T05:58:56",
          "1970-01-01T05:58:56",
          "1970-01-01T05:58:56",
          "1970-01-01T08:21:52",
          "1970-01-01T08:21:52",
          "1970-01-01T08:58:24",
          "1970-01-01T08:58:24",
          "1970-01-01T08:58:24",
          "1970-01-01T11:33:00",
          "1970-01-01T11:33:00",
          "1970-01-01T12:09:32",
          "1970-01-01T12:09:32",
          "1970-01-01T12:09:32",
          "1970-01-01T15:13:52",
          "1970-01-01T15:13:52",
          "1970-01-01T15:50:24",
          "1970-01-01T15:50:24",
          "1970-01-01T15:50:24",
          "1970-01-01T18:54:44",
          "1970-01-01T18:54:44",
          "1970-01-01T19:31:16",
          "1970-01-01T19:31:16",
          "1970-01-01T19:31:16",
          "1970-01-01T22:35:36",
          "1970-01-01T22:35:36",
          "1970-01-01T23:12:08",
          "1970-01-01T23:12:08",
          "1970-01-01T23:12:08",
          "1970-01-02T02:16:28",
          "1970-01-02T02:16:28",
          "1970-01-02T02:53:00",
          "1970-01-02T02:53:00",
          "1970-01-02T02:53:00"
         ],
         "y": [
          "barge_0",
          "barge_0",
          "barge_0",
          "barge_0",
          null,
          "barge_0",
          "barge_0",
          "barge_0",
          "barge_0",
          null,
          "barge_0",
          "barge_0",
          "barge_0",
          "barge_0",
          null,
          "barge_0",
          "barge_0",
          "barge_0",
          "barge_0",
          null,
          "barge_0",
          "barge_0",
          "barge_0",
          "barge_0",
          null,
          "barge_0",
          "barge_0",
          "barge_0",
          "barge_0",
          null,
          "barge_0",
          "barge_0",
          "barge_0",
          "barge_0",
          null,
          "barge_0",
          "barge_0",
          "barge_0",
          "barge_0",
          null
         ]
        },
        {
         "connectgaps": false,
         "hoverinfo": "y+name",
         "line": {
          "color": "rgb(204,158,115)",
          "width": 10
         },
         "mode": "lines",
         "name": "sailing empty:barge_0",
         "type": "scatter",
         "x": [
          "1970-01-01T00:36:32",
          "1970-01-01T00:36:32",
          "1970-01-01T01:13:04",
          "1970-01-01T01:13:04",
          "1970-01-01T01:13:04",
          "1970-01-01T03:36:00",
          "1970-01-01T03:36:00",
          "1970-01-01T04:12:32",
          "1970-01-01T04:12:32",
          "1970-01-01T04:12:32",
          "1970-01-01T06:35:28",
          "1970-01-01T06:35:28",
          "1970-01-01T07:12:00",
          "1970-01-01T07:12:00",
          "1970-01-01T07:12:00",
          "1970-01-01T09:34:56",
          "1970-01-01T09:34:56",
          "1970-01-01T10:11:28",
          "1970-01-01T10:11:28",
          "1970-01-01T10:11:28",
          "1970-01-01T12:46:04",
          "1970-01-01T12:46:04",
          "1970-01-01T13:22:36",
          "1970-01-01T13:22:36",
          "1970-01-01T13:22:36",
          "1970-01-01T16:26:56",
          "1970-01-01T16:26:56",
          "1970-01-01T17:03:28",
          "1970-01-01T17:03:28",
          "1970-01-01T17:03:28",
          "1970-01-01T20:07:48",
          "1970-01-01T20:07:48",
          "1970-01-01T20:44:20",
          "1970-01-01T20:44:20",
          "1970-01-01T20:44:20",
          "1970-01-01T23:48:40",
          "1970-01-01T23:48:40",
          "1970-01-02T00:25:12",
          "1970-01-02T00:25:12",
          "1970-01-02T00:25:12"
         ],
         "y": [
          "barge_0",
          "barge_0",
          "barge_0",
          "barge_0",
          null,
          "barge_0",
          "barge_0",
          "barge_0",
          "barge_0",
          null,
          "barge_0",
          "barge_0",
          "barge_0",
          "barge_0",
          null,
          "barge_0",
          "barge_0",
          "barge_0",
          "barge_0",
          null,
          "barge_0",
          "barge_0",
          "barge_0",
          "barge_0",
          null,
          "barge_0",
          "barge_0",
          "barge_0",
          "barge_0",
          null,
          "barge_0",
          "barge_0",
          "barge_0",
          "barge_0",
          null,
          "barge_0",
          "barge_0",
          "barge_0",
          "barge_0",
          null
         ]
        },
        {
         "connectgaps": false,
         "hoverinfo": "y+name",
         "line": {
          "color": "rgb(218,172,129)",
          "width": 10
         },
         "mode": "lines",
         "name": "basic activity:barge_0",
         "type": "scatter",
         "x": [
          "1970-01-01T00:00:00",
          "1970-01-01T00:00:00",
          "1970-01-01T00:36:32",
          "1970-01-01T00:36:32",
          "1970-01-01T00:36:32",
          "1970-01-01T02:59:28",
          "1970-01-01T02:59:28",
          "1970-01-01T03:36:00",
          "1970-01-01T03:36:00",
          "1970-01-01T03:36:00",
          "1970-01-01T05:58:56",
          "1970-01-01T05:58:56",
          "1970-01-01T06:35:28",
          "1970-01-01T06:35:28",
          "1970-01-01T06:35:28",
          "1970-01-01T08:58:24",
          "1970-01-01T08:58:24",
          "1970-01-01T09:34:56",
          "1970-01-01T09:34:56",
          "1970-01-01T09:34:56",
          "1970-01-01T12:09:32",
          "1970-01-01T12:09:32",
          "1970-01-01T12:46:04",
          "1970-01-01T12:46:04",
          "1970-01-01T12:46:04",
          "1970-01-01T15:50:24",
          "1970-01-01T15:50:24",
          "1970-01-01T16:26:56",
          "1970-01-01T16:26:56",
          "1970-01-01T16:26:56",
          "1970-01-01T19:31:16",
          "1970-01-01T19:31:16",
          "1970-01-01T20:07:48",
          "1970-01-01T20:07:48",
          "1970-01-01T20:07:48",
          "1970-01-01T23:12:08",
          "1970-01-01T23:12:08",
          "1970-01-01T23:48:40",
          "1970-01-01T23:48:40",
          "1970-01-01T23:48:40"
         ],
         "y": [
          "barge_0",
          "barge_0",
          "barge_0",
          "barge_0",
          null,
          "barge_0",
          "barge_0",
          "barge_0",
          "barge_0",
          null,
          "barge_0",
          "barge_0",
          "barge_0",
          "barge_0",
          null,
          "barge_0",
          "barge_0",
          "barge_0",
          "barge_0",
          null,
          "barge_0",
          "barge_0",
          "barge_0",
          "barge_0",
          null,
          "barge_0",
          "barge_0",
          "barge_0",
          "barge_0",
          null,
          "barge_0",
          "barge_0",
          "barge_0",
          "barge_0",
          null,
          "barge_0",
          "barge_0",
          "barge_0",
          "barge_0",
          null
         ]
        },
        {
         "connectgaps": false,
         "hoverinfo": "y+name",
         "line": {
          "color": "rgb(232,186,143)",
          "width": 10
         },
         "mode": "lines",
         "name": "loading:barge_0",
         "type": "scatter",
         "x": [
          "1970-01-01T01:13:04",
          "1970-01-01T01:13:04",
          "1970-01-01T01:46:24",
          "1970-01-01T01:46:24",
          "1970-01-01T01:46:24",
          "1970-01-01T04:12:32",
          "1970-01-01T04:12:32",
          "1970-01-01T04:45:52",
          "1970-01-01T04:45:52",
          "1970-01-01T04:45:52",
          "1970-01-01T07:12:00",
          "1970-01-01T07:12:00",
          "1970-01-01T07:45:20",
          "1970-01-01T07:45:20",
          "1970-01-01T07:45:20",
          "1970-01-01T10:23:08",
          "1970-01-01T10:23:08",
          "1970-01-01T10:56:28",
          "1970-01-01T10:56:28",
          "1970-01-01T10:56:28",
          "1970-01-01T14:04:00",
          "1970-01-01T14:04:00",
          "1970-01-01T14:37:20",
          "1970-01-01T14:37:20",
          "1970-01-01T14:37:20",
          "1970-01-01T17:44:52",
          "1970-01-01T17:44:52",
          "1970-01-01T18:18:12",
          "1970-01-01T18:18:12",
          "1970-01-01T18:18:12",
          "1970-01-01T21:25:44",
          "1970-01-01T21:25:44",
          "1970-01-01T21:59:04",
          "1970-01-01T21:59:04",
          "1970-01-01T21:59:04",
          "1970-01-02T01:06:36",
          "1970-01-02T01:06:36",
          "1970-01-02T01:39:56",
          "1970-01-02T01:39:56",
          "1970-01-02T01:39:56",
          "1970-01-01T01:13:04",
          "1970-01-01T01:13:04",
          "1970-01-01T01:46:24",
          "1970-01-01T01:46:24",
          "1970-01-01T01:46:24",
          "1970-01-01T04:12:32",
          "1970-01-01T04:12:32",
          "1970-01-01T04:45:52",
          "1970-01-01T04:45:52",
          "1970-01-01T04:45:52",
          "1970-01-01T07:12:00",
          "1970-01-01T07:12:00",
          "1970-01-01T07:45:20",
          "1970-01-01T07:45:20",
          "1970-01-01T07:45:20",
          "1970-01-01T10:23:08",
          "1970-01-01T10:23:08",
          "1970-01-01T10:56:28",
          "1970-01-01T10:56:28",
          "1970-01-01T10:56:28",
          "1970-01-01T14:04:00",
          "1970-01-01T14:04:00",
          "1970-01-01T14:37:20",
          "1970-01-01T14:37:20",
          "1970-01-01T14:37:20",
          "1970-01-01T17:44:52",
          "1970-01-01T17:44:52",
          "1970-01-01T18:18:12",
          "1970-01-01T18:18:12",
          "1970-01-01T18:18:12",
          "1970-01-01T21:25:44",
          "1970-01-01T21:25:44",
          "1970-01-01T21:59:04",
          "1970-01-01T21:59:04",
          "1970-01-01T21:59:04",
          "1970-01-02T01:06:36",
          "1970-01-02T01:06:36",
          "1970-01-02T01:39:56",
          "1970-01-02T01:39:56",
          "1970-01-02T01:39:56"
         ],
         "y": [
          "barge_0",
          "barge_0",
          "barge_0",
          "barge_0",
          null,
          "barge_0",
          "barge_0",
          "barge_0",
          "barge_0",
          null,
          "barge_0",
          "barge_0",
          "barge_0",
          "barge_0",
          null,
          "barge_0",
          "barge_0",
          "barge_0",
          "barge_0",
          null,
          "barge_0",
          "barge_0",
          "barge_0",
          "barge_0",
          null,
          "barge_0",
          "barge_0",
          "barge_0",
          "barge_0",
          null,
          "barge_0",
          "barge_0",
          "barge_0",
          "barge_0",
          null,
          "barge_0",
          "barge_0",
          "barge_0",
          "barge_0",
          null,
          "cutter",
          "cutter",
          "cutter",
          "cutter",
          null,
          "cutter",
          "cutter",
          "cutter",
          "cutter",
          null,
          "cutter",
          "cutter",
          "cutter",
          "cutter",
          null,
          "cutter",
          "cutter",
          "cutter",
          "cutter",
          null,
          "cutter",
          "cutter",
          "cutter",
          "cutter",
          null,
          "cutter",
          "cutter",
          "cutter",
          "cutter",
          null,
          "cutter",
          "cutter",
          "cutter",
          "cutter",
          null,
          "cutter",
          "cutter",
          "cutter",
          "cutter",
          null
         ]
        },
        {
         "connectgaps": false,
         "hoverinfo": "y+name",
         "line": {
          "color": "rgb(246,200,157)",
          "width": 10
         },
         "mode": "lines",
         "name": "sailing full:barge_0",
         "type": "scatter",
         "x": [
          "1970-01-01T01:46:24",
          "1970-01-01T01:46:24",
          "1970-01-01T02:22:56",
          "1970-01-01T02:22:56",
          "1970-01-01T02:22:56",
          "1970-01-01T04:45:52",
          "1970-01-01T04:45:52",
          "1970-01-01T05:22:24",
          "1970-01-01T05:22:24",
          "1970-01-01T05:22:24",
          "1970-01-01T07:45:20",
          "1970-01-01T07:45:20",
          "1970-01-01T08:21:52",
          "1970-01-01T08:21:52",
          "1970-01-01T08:21:52",
          "1970-01-01T10:56:28",
          "1970-01-01T10:56:28",
          "1970-01-01T11:33:00",
          "1970-01-01T11:33:00",
          "1970-01-01T11:33:00",
          "1970-01-01T14:37:20",
          "1970-01-01T14:37:20",
          "1970-01-01T15:13:52",
          "1970-01-01T15:13:52",
          "1970-01-01T15:13:52",
          "1970-01-01T18:18:12",
          "1970-01-01T18:18:12",
          "1970-01-01T18:54:44",
          "1970-01-01T18:54:44",
          "1970-01-01T18:54:44",
          "1970-01-01T21:59:04",
          "1970-01-01T21:59:04",
          "1970-01-01T22:35:36",
          "1970-01-01T22:35:36",
          "1970-01-01T22:35:36",
          "1970-01-02T01:39:56",
          "1970-01-02T01:39:56",
          "1970-01-02T02:16:28",
          "1970-01-02T02:16:28",
          "1970-01-02T02:16:28"
         ],
         "y": [
          "barge_0",
          "barge_0",
          "barge_0",
          "barge_0",
          null,
          "barge_0",
          "barge_0",
          "barge_0",
          "barge_0",
          null,
          "barge_0",
          "barge_0",
          "barge_0",
          "barge_0",
          null,
          "barge_0",
          "barge_0",
          "barge_0",
          "barge_0",
          null,
          "barge_0",
          "barge_0",
          "barge_0",
          "barge_0",
          null,
          "barge_0",
          "barge_0",
          "barge_0",
          "barge_0",
          null,
          "barge_0",
          "barge_0",
          "barge_0",
          "barge_0",
          null,
          "barge_0",
          "barge_0",
          "barge_0",
          "barge_0",
          null
         ]
        },
        {
         "connectgaps": false,
         "hoverinfo": "y+name",
         "line": {
          "color": "rgb(4,214,171)",
          "width": 10
         },
         "mode": "lines",
         "name": "basic activity:barge_1",
         "type": "scatter",
         "x": [
          "1970-01-01T00:00:00",
          "1970-01-01T00:00:00",
          "1970-01-01T00:37:56",
          "1970-01-01T00:37:56",
          "1970-01-01T00:37:56",
          "1970-01-01T03:35:36",
          "1970-01-01T03:35:36",
          "1970-01-01T04:13:32",
          "1970-01-01T04:13:32",
          "1970-01-01T04:13:32",
          "1970-01-01T06:40:40",
          "1970-01-01T06:40:40",
          "1970-01-01T07:18:36",
          "1970-01-01T07:18:36",
          "1970-01-01T07:18:36",
          "1970-01-01T09:45:44",
          "1970-01-01T09:45:44",
          "1970-01-01T10:23:40",
          "1970-01-01T10:23:40",
          "1970-01-01T10:23:40",
          "1970-01-01T12:50:48",
          "1970-01-01T12:50:48",
          "1970-01-01T13:28:44",
          "1970-01-01T13:28:44",
          "1970-01-01T13:28:44",
          "1970-01-01T16:26:32",
          "1970-01-01T16:26:32",
          "1970-01-01T17:04:28",
          "1970-01-01T17:04:28",
          "1970-01-01T17:04:28",
          "1970-01-01T20:07:24",
          "1970-01-01T20:07:24",
          "1970-01-01T20:45:20",
          "1970-01-01T20:45:20",
          "1970-01-01T20:45:20",
          "1970-01-01T23:48:16",
          "1970-01-01T23:48:16",
          "1970-01-02T00:26:12",
          "1970-01-02T00:26:12",
          "1970-01-02T00:26:12"
         ],
         "y": [
          "barge_1",
          "barge_1",
          "barge_1",
          "barge_1",
          null,
          "barge_1",
          "barge_1",
          "barge_1",
          "barge_1",
          null,
          "barge_1",
          "barge_1",
          "barge_1",
          "barge_1",
          null,
          "barge_1",
          "barge_1",
          "barge_1",
          "barge_1",
          null,
          "barge_1",
          "barge_1",
          "barge_1",
          "barge_1",
          null,
          "barge_1",
          "barge_1",
          "barge_1",
          "barge_1",
          null,
          "barge_1",
          "barge_1",
          "barge_1",
          "barge_1",
          null,
          "barge_1",
          "barge_1",
          "barge_1",
          "barge_1",
          null
         ]
        },
        {
         "connectgaps": false,
         "hoverinfo": "y+name",
         "line": {
          "color": "rgb(18,228,185)",
          "width": 10
         },
         "mode": "lines",
         "name": "sailing full:barge_1",
         "type": "scatter",
         "x": [
          "1970-01-01T02:19:44",
          "1970-01-01T02:19:44",
          "1970-01-01T02:57:40",
          "1970-01-01T02:57:40",
          "1970-01-01T02:57:40",
          "1970-01-01T05:24:48",
          "1970-01-01T05:24:48",
          "1970-01-01T06:02:44",
          "1970-01-01T06:02:44",
          "1970-01-01T06:02:44",
          "1970-01-01T08:29:52",
          "1970-01-01T08:29:52",
          "1970-01-01T09:07:48",
          "1970-01-01T09:07:48",
          "1970-01-01T09:07:48",
          "1970-01-01T11:34:56",
          "1970-01-01T11:34:56",
          "1970-01-01T12:12:52",
          "1970-01-01T12:12:52",
          "1970-01-01T12:12:52",
          "1970-01-01T15:10:40",
          "1970-01-01T15:10:40",
          "1970-01-01T15:48:36",
          "1970-01-01T15:48:36",
          "1970-01-01T15:48:36",
          "1970-01-01T18:51:32",
          "1970-01-01T18:51:32",
          "1970-01-01T19:29:28",
          "1970-01-01T19:29:28",
          "1970-01-01T19:29:28",
          "1970-01-01T22:32:24",
          "1970-01-01T22:32:24",
          "1970-01-01T23:10:20",
          "1970-01-01T23:10:20",
          "1970-01-01T23:10:20",
          "1970-01-02T02:13:16",
          "1970-01-02T02:13:16",
          "1970-01-02T02:51:12",
          "1970-01-02T02:51:12",
          "1970-01-02T02:51:12"
         ],
         "y": [
          "barge_1",
          "barge_1",
          "barge_1",
          "barge_1",
          null,
          "barge_1",
          "barge_1",
          "barge_1",
          "barge_1",
          null,
          "barge_1",
          "barge_1",
          "barge_1",
          "barge_1",
          null,
          "barge_1",
          "barge_1",
          "barge_1",
          "barge_1",
          null,
          "barge_1",
          "barge_1",
          "barge_1",
          "barge_1",
          null,
          "barge_1",
          "barge_1",
          "barge_1",
          "barge_1",
          null,
          "barge_1",
          "barge_1",
          "barge_1",
          "barge_1",
          null,
          "barge_1",
          "barge_1",
          "barge_1",
          "barge_1",
          null
         ]
        },
        {
         "connectgaps": false,
         "hoverinfo": "y+name",
         "line": {
          "color": "rgb(32,242,199)",
          "width": 10
         },
         "mode": "lines",
         "name": "unloading:barge_1",
         "type": "scatter",
         "x": [
          "1970-01-01T02:57:40",
          "1970-01-01T02:57:40",
          "1970-01-01T03:35:36",
          "1970-01-01T03:35:36",
          "1970-01-01T03:35:36",
          "1970-01-01T06:02:44",
          "1970-01-01T06:02:44",
          "1970-01-01T06:40:40",
          "1970-01-01T06:40:40",
          "1970-01-01T06:40:40",
          "1970-01-01T09:07:48",
          "1970-01-01T09:07:48",
          "1970-01-01T09:45:44",
          "1970-01-01T09:45:44",
          "1970-01-01T09:45:44",
          "1970-01-01T12:12:52",
          "1970-01-01T12:12:52",
          "1970-01-01T12:50:48",
          "1970-01-01T12:50:48",
          "1970-01-01T12:50:48",
          "1970-01-01T15:48:36",
          "1970-01-01T15:48:36",
          "1970-01-01T16:26:32",
          "1970-01-01T16:26:32",
          "1970-01-01T16:26:32",
          "1970-01-01T19:29:28",
          "1970-01-01T19:29:28",
          "1970-01-01T20:07:24",
          "1970-01-01T20:07:24",
          "1970-01-01T20:07:24",
          "1970-01-01T23:10:20",
          "1970-01-01T23:10:20",
          "1970-01-01T23:48:16",
          "1970-01-01T23:48:16",
          "1970-01-01T23:48:16",
          "1970-01-02T02:51:12",
          "1970-01-02T02:51:12",
          "1970-01-02T03:29:08",
          "1970-01-02T03:29:08",
          "1970-01-02T03:29:08"
         ],
         "y": [
          "barge_1",
          "barge_1",
          "barge_1",
          "barge_1",
          null,
          "barge_1",
          "barge_1",
          "barge_1",
          "barge_1",
          null,
          "barge_1",
          "barge_1",
          "barge_1",
          "barge_1",
          null,
          "barge_1",
          "barge_1",
          "barge_1",
          "barge_1",
          null,
          "barge_1",
          "barge_1",
          "barge_1",
          "barge_1",
          null,
          "barge_1",
          "barge_1",
          "barge_1",
          "barge_1",
          null,
          "barge_1",
          "barge_1",
          "barge_1",
          "barge_1",
          null,
          "barge_1",
          "barge_1",
          "barge_1",
          "barge_1",
          null
         ]
        },
        {
         "connectgaps": false,
         "hoverinfo": "y+name",
         "line": {
          "color": "rgb(46,0,213)",
          "width": 10
         },
         "mode": "lines",
         "name": "sailing empty:barge_1",
         "type": "scatter",
         "x": [
          "1970-01-01T00:37:56",
          "1970-01-01T00:37:56",
          "1970-01-01T01:15:52",
          "1970-01-01T01:15:52",
          "1970-01-01T01:15:52",
          "1970-01-01T04:13:32",
          "1970-01-01T04:13:32",
          "1970-01-01T04:51:28",
          "1970-01-01T04:51:28",
          "1970-01-01T04:51:28",
          "1970-01-01T07:18:36",
          "1970-01-01T07:18:36",
          "1970-01-01T07:56:32",
          "1970-01-01T07:56:32",
          "1970-01-01T07:56:32",
          "1970-01-01T10:23:40",
          "1970-01-01T10:23:40",
          "1970-01-01T11:01:36",
          "1970-01-01T11:01:36",
          "1970-01-01T11:01:36",
          "1970-01-01T13:28:44",
          "1970-01-01T13:28:44",
          "1970-01-01T14:06:40",
          "1970-01-01T14:06:40",
          "1970-01-01T14:06:40",
          "1970-01-01T17:04:28",
          "1970-01-01T17:04:28",
          "1970-01-01T17:42:24",
          "1970-01-01T17:42:24",
          "1970-01-01T17:42:24",
          "1970-01-01T20:45:20",
          "1970-01-01T20:45:20",
          "1970-01-01T21:23:16",
          "1970-01-01T21:23:16",
          "1970-01-01T21:23:16",
          "1970-01-02T00:26:12",
          "1970-01-02T00:26:12",
          "1970-01-02T01:04:08",
          "1970-01-02T01:04:08",
          "1970-01-02T01:04:08"
         ],
         "y": [
          "barge_1",
          "barge_1",
          "barge_1",
          "barge_1",
          null,
          "barge_1",
          "barge_1",
          "barge_1",
          "barge_1",
          null,
          "barge_1",
          "barge_1",
          "barge_1",
          "barge_1",
          null,
          "barge_1",
          "barge_1",
          "barge_1",
          "barge_1",
          null,
          "barge_1",
          "barge_1",
          "barge_1",
          "barge_1",
          null,
          "barge_1",
          "barge_1",
          "barge_1",
          "barge_1",
          null,
          "barge_1",
          "barge_1",
          "barge_1",
          "barge_1",
          null,
          "barge_1",
          "barge_1",
          "barge_1",
          "barge_1",
          null
         ]
        },
        {
         "connectgaps": false,
         "hoverinfo": "y+name",
         "line": {
          "color": "rgb(60,14,227)",
          "width": 10
         },
         "mode": "lines",
         "name": "loading:barge_1",
         "type": "scatter",
         "x": [
          "1970-01-01T01:46:24",
          "1970-01-01T01:46:24",
          "1970-01-01T02:19:44",
          "1970-01-01T02:19:44",
          "1970-01-01T02:19:44",
          "1970-01-01T04:51:28",
          "1970-01-01T04:51:28",
          "1970-01-01T05:24:48",
          "1970-01-01T05:24:48",
          "1970-01-01T05:24:48",
          "1970-01-01T07:56:32",
          "1970-01-01T07:56:32",
          "1970-01-01T08:29:52",
          "1970-01-01T08:29:52",
          "1970-01-01T08:29:52",
          "1970-01-01T11:01:36",
          "1970-01-01T11:01:36",
          "1970-01-01T11:34:56",
          "1970-01-01T11:34:56",
          "1970-01-01T11:34:56",
          "1970-01-01T14:37:20",
          "1970-01-01T14:37:20",
          "1970-01-01T15:10:40",
          "1970-01-01T15:10:40",
          "1970-01-01T15:10:40",
          "1970-01-01T18:18:12",
          "1970-01-01T18:18:12",
          "1970-01-01T18:51:32",
          "1970-01-01T18:51:32",
          "1970-01-01T18:51:32",
          "1970-01-01T21:59:04",
          "1970-01-01T21:59:04",
          "1970-01-01T22:32:24",
          "1970-01-01T22:32:24",
          "1970-01-01T22:32:24",
          "1970-01-02T01:39:56",
          "1970-01-02T01:39:56",
          "1970-01-02T02:13:16",
          "1970-01-02T02:13:16",
          "1970-01-02T02:13:16",
          "1970-01-01T01:46:24",
          "1970-01-01T01:46:24",
          "1970-01-01T02:19:44",
          "1970-01-01T02:19:44",
          "1970-01-01T02:19:44",
          "1970-01-01T04:51:28",
          "1970-01-01T04:51:28",
          "1970-01-01T05:24:48",
          "1970-01-01T05:24:48",
          "1970-01-01T05:24:48",
          "1970-01-01T07:56:32",
          "1970-01-01T07:56:32",
          "1970-01-01T08:29:52",
          "1970-01-01T08:29:52",
          "1970-01-01T08:29:52",
          "1970-01-01T11:01:36",
          "1970-01-01T11:01:36",
          "1970-01-01T11:34:56",
          "1970-01-01T11:34:56",
          "1970-01-01T11:34:56",
          "1970-01-01T14:37:20",
          "1970-01-01T14:37:20",
          "1970-01-01T15:10:40",
          "1970-01-01T15:10:40",
          "1970-01-01T15:10:40",
          "1970-01-01T18:18:12",
          "1970-01-01T18:18:12",
          "1970-01-01T18:51:32",
          "1970-01-01T18:51:32",
          "1970-01-01T18:51:32",
          "1970-01-01T21:59:04",
          "1970-01-01T21:59:04",
          "1970-01-01T22:32:24",
          "1970-01-01T22:32:24",
          "1970-01-01T22:32:24",
          "1970-01-02T01:39:56",
          "1970-01-02T01:39:56",
          "1970-01-02T02:13:16",
          "1970-01-02T02:13:16",
          "1970-01-02T02:13:16"
         ],
         "y": [
          "barge_1",
          "barge_1",
          "barge_1",
          "barge_1",
          null,
          "barge_1",
          "barge_1",
          "barge_1",
          "barge_1",
          null,
          "barge_1",
          "barge_1",
          "barge_1",
          "barge_1",
          null,
          "barge_1",
          "barge_1",
          "barge_1",
          "barge_1",
          null,
          "barge_1",
          "barge_1",
          "barge_1",
          "barge_1",
          null,
          "barge_1",
          "barge_1",
          "barge_1",
          "barge_1",
          null,
          "barge_1",
          "barge_1",
          "barge_1",
          "barge_1",
          null,
          "barge_1",
          "barge_1",
          "barge_1",
          "barge_1",
          null,
          "cutter",
          "cutter",
          "cutter",
          "cutter",
          null,
          "cutter",
          "cutter",
          "cutter",
          "cutter",
          null,
          "cutter",
          "cutter",
          "cutter",
          "cutter",
          null,
          "cutter",
          "cutter",
          "cutter",
          "cutter",
          null,
          "cutter",
          "cutter",
          "cutter",
          "cutter",
          null,
          "cutter",
          "cutter",
          "cutter",
          "cutter",
          null,
          "cutter",
          "cutter",
          "cutter",
          "cutter",
          null,
          "cutter",
          "cutter",
          "cutter",
          "cutter",
          null
         ]
        },
        {
         "connectgaps": false,
         "hoverinfo": "y+name",
         "line": {
          "color": "rgb(74,28,241)",
          "width": 10
         },
         "mode": "lines",
         "name": "sailing empty:barge_2",
         "type": "scatter",
         "x": [
          "1970-01-01T00:44:48",
          "1970-01-01T00:44:48",
          "1970-01-01T01:29:36",
          "1970-01-01T01:29:36",
          "1970-01-01T01:29:36",
          "1970-01-01T05:15:48",
          "1970-01-01T05:15:48",
          "1970-01-01T06:00:36",
          "1970-01-01T06:00:36",
          "1970-01-01T06:00:36",
          "1970-01-01T08:56:40",
          "1970-01-01T08:56:40",
          "1970-01-01T09:41:28",
          "1970-01-01T09:41:28",
          "1970-01-01T09:41:28",
          "1970-01-01T12:37:32",
          "1970-01-01T12:37:32",
          "1970-01-01T13:22:20",
          "1970-01-01T13:22:20",
          "1970-01-01T13:22:20",
          "1970-01-01T16:18:24",
          "1970-01-01T16:18:24",
          "1970-01-01T17:03:12",
          "1970-01-01T17:03:12",
          "1970-01-01T17:03:12",
          "1970-01-01T19:59:16",
          "1970-01-01T19:59:16",
          "1970-01-01T20:44:04",
          "1970-01-01T20:44:04",
          "1970-01-01T20:44:04",
          "1970-01-01T23:40:08",
          "1970-01-01T23:40:08",
          "1970-01-02T00:24:56",
          "1970-01-02T00:24:56",
          "1970-01-02T00:24:56",
          "1970-01-02T03:21:00",
          "1970-01-02T03:21:00",
          "1970-01-02T04:05:48",
          "1970-01-02T04:05:48",
          "1970-01-02T04:05:48"
         ],
         "y": [
          "barge_2",
          "barge_2",
          "barge_2",
          "barge_2",
          null,
          "barge_2",
          "barge_2",
          "barge_2",
          "barge_2",
          null,
          "barge_2",
          "barge_2",
          "barge_2",
          "barge_2",
          null,
          "barge_2",
          "barge_2",
          "barge_2",
          "barge_2",
          null,
          "barge_2",
          "barge_2",
          "barge_2",
          "barge_2",
          null,
          "barge_2",
          "barge_2",
          "barge_2",
          "barge_2",
          null,
          "barge_2",
          "barge_2",
          "barge_2",
          "barge_2",
          null,
          "barge_2",
          "barge_2",
          "barge_2",
          "barge_2",
          null
         ]
        },
        {
         "connectgaps": false,
         "hoverinfo": "y+name",
         "line": {
          "color": "rgb(88,42,255)",
          "width": 10
         },
         "mode": "lines",
         "name": "sailing full:barge_2",
         "type": "scatter",
         "x": [
          "1970-01-01T03:01:24",
          "1970-01-01T03:01:24",
          "1970-01-01T03:46:12",
          "1970-01-01T03:46:12",
          "1970-01-01T03:46:12",
          "1970-01-01T06:42:16",
          "1970-01-01T06:42:16",
          "1970-01-01T07:27:04",
          "1970-01-01T07:27:04",
          "1970-01-01T07:27:04",
          "1970-01-01T10:23:08",
          "1970-01-01T10:23:08",
          "1970-01-01T11:07:56",
          "1970-01-01T11:07:56",
          "1970-01-01T11:07:56",
          "1970-01-01T14:04:00",
          "1970-01-01T14:04:00",
          "1970-01-01T14:48:48",
          "1970-01-01T14:48:48",
          "1970-01-01T14:48:48",
          "1970-01-01T17:44:52",
          "1970-01-01T17:44:52",
          "1970-01-01T18:29:40",
          "1970-01-01T18:29:40",
          "1970-01-01T18:29:40",
          "1970-01-01T21:25:44",
          "1970-01-01T21:25:44",
          "1970-01-01T22:10:32",
          "1970-01-01T22:10:32",
          "1970-01-01T22:10:32",
          "1970-01-02T01:06:36",
          "1970-01-02T01:06:36",
          "1970-01-02T01:51:24",
          "1970-01-02T01:51:24",
          "1970-01-02T01:51:24",
          "1970-01-02T04:47:28",
          "1970-01-02T04:47:28",
          "1970-01-02T05:32:16",
          "1970-01-02T05:32:16",
          "1970-01-02T05:32:16"
         ],
         "y": [
          "barge_2",
          "barge_2",
          "barge_2",
          "barge_2",
          null,
          "barge_2",
          "barge_2",
          "barge_2",
          "barge_2",
          null,
          "barge_2",
          "barge_2",
          "barge_2",
          "barge_2",
          null,
          "barge_2",
          "barge_2",
          "barge_2",
          "barge_2",
          null,
          "barge_2",
          "barge_2",
          "barge_2",
          "barge_2",
          null,
          "barge_2",
          "barge_2",
          "barge_2",
          "barge_2",
          null,
          "barge_2",
          "barge_2",
          "barge_2",
          "barge_2",
          null,
          "barge_2",
          "barge_2",
          "barge_2",
          "barge_2",
          null
         ]
        },
        {
         "connectgaps": false,
         "hoverinfo": "y+name",
         "line": {
          "color": "rgb(102,56,13)",
          "width": 10
         },
         "mode": "lines",
         "name": "loading:barge_2",
         "type": "scatter",
         "x": [
          "1970-01-01T02:19:44",
          "1970-01-01T02:19:44",
          "1970-01-01T03:01:24",
          "1970-01-01T03:01:24",
          "1970-01-01T03:01:24",
          "1970-01-01T06:00:36",
          "1970-01-01T06:00:36",
          "1970-01-01T06:42:16",
          "1970-01-01T06:42:16",
          "1970-01-01T06:42:16",
          "1970-01-01T09:41:28",
          "1970-01-01T09:41:28",
          "1970-01-01T10:23:08",
          "1970-01-01T10:23:08",
          "1970-01-01T10:23:08",
          "1970-01-01T13:22:20",
          "1970-01-01T13:22:20",
          "1970-01-01T14:04:00",
          "1970-01-01T14:04:00",
          "1970-01-01T14:04:00",
          "1970-01-01T17:03:12",
          "1970-01-01T17:03:12",
          "1970-01-01T17:44:52",
          "1970-01-01T17:44:52",
          "1970-01-01T17:44:52",
          "1970-01-01T20:44:04",
          "1970-01-01T20:44:04",
          "1970-01-01T21:25:44",
          "1970-01-01T21:25:44",
          "1970-01-01T21:25:44",
          "1970-01-02T00:24:56",
          "1970-01-02T00:24:56",
          "1970-01-02T01:06:36",
          "1970-01-02T01:06:36",
          "1970-01-02T01:06:36",
          "1970-01-02T04:05:48",
          "1970-01-02T04:05:48",
          "1970-01-02T04:47:28",
          "1970-01-02T04:47:28",
          "1970-01-02T04:47:28",
          "1970-01-01T02:19:44",
          "1970-01-01T02:19:44",
          "1970-01-01T03:01:24",
          "1970-01-01T03:01:24",
          "1970-01-01T03:01:24",
          "1970-01-01T06:00:36",
          "1970-01-01T06:00:36",
          "1970-01-01T06:42:16",
          "1970-01-01T06:42:16",
          "1970-01-01T06:42:16",
          "1970-01-01T09:41:28",
          "1970-01-01T09:41:28",
          "1970-01-01T10:23:08",
          "1970-01-01T10:23:08",
          "1970-01-01T10:23:08",
          "1970-01-01T13:22:20",
          "1970-01-01T13:22:20",
          "1970-01-01T14:04:00",
          "1970-01-01T14:04:00",
          "1970-01-01T14:04:00",
          "1970-01-01T17:03:12",
          "1970-01-01T17:03:12",
          "1970-01-01T17:44:52",
          "1970-01-01T17:44:52",
          "1970-01-01T17:44:52",
          "1970-01-01T20:44:04",
          "1970-01-01T20:44:04",
          "1970-01-01T21:25:44",
          "1970-01-01T21:25:44",
          "1970-01-01T21:25:44",
          "1970-01-02T00:24:56",
          "1970-01-02T00:24:56",
          "1970-01-02T01:06:36",
          "1970-01-02T01:06:36",
          "1970-01-02T01:06:36",
          "1970-01-02T04:05:48",
          "1970-01-02T04:05:48",
          "1970-01-02T04:47:28",
          "1970-01-02T04:47:28",
          "1970-01-02T04:47:28"
         ],
         "y": [
          "barge_2",
          "barge_2",
          "barge_2",
          "barge_2",
          null,
          "barge_2",
          "barge_2",
          "barge_2",
          "barge_2",
          null,
          "barge_2",
          "barge_2",
          "barge_2",
          "barge_2",
          null,
          "barge_2",
          "barge_2",
          "barge_2",
          "barge_2",
          null,
          "barge_2",
          "barge_2",
          "barge_2",
          "barge_2",
          null,
          "barge_2",
          "barge_2",
          "barge_2",
          "barge_2",
          null,
          "barge_2",
          "barge_2",
          "barge_2",
          "barge_2",
          null,
          "barge_2",
          "barge_2",
          "barge_2",
          "barge_2",
          null,
          "cutter",
          "cutter",
          "cutter",
          "cutter",
          null,
          "cutter",
          "cutter",
          "cutter",
          "cutter",
          null,
          "cutter",
          "cutter",
          "cutter",
          "cutter",
          null,
          "cutter",
          "cutter",
          "cutter",
          "cutter",
          null,
          "cutter",
          "cutter",
          "cutter",
          "cutter",
          null,
          "cutter",
          "cutter",
          "cutter",
          "cutter",
          null,
          "cutter",
          "cutter",
          "cutter",
          "cutter",
          null,
          "cutter",
          "cutter",
          "cutter",
          "cutter",
          null
         ]
        },
        {
         "connectgaps": false,
         "hoverinfo": "y+name",
         "line": {
          "color": "rgb(116,70,27)",
          "width": 10
         },
         "mode": "lines",
         "name": "basic activity:barge_2",
         "type": "scatter",
         "x": [
          "1970-01-01T00:00:00",
          "1970-01-01T00:00:00",
          "1970-01-01T00:44:48",
          "1970-01-01T00:44:48",
          "1970-01-01T00:44:48",
          "1970-01-01T04:31:00",
          "1970-01-01T04:31:00",
          "1970-01-01T05:15:48",
          "1970-01-01T05:15:48",
          "1970-01-01T05:15:48",
          "1970-01-01T08:11:52",
          "1970-01-01T08:11:52",
          "1970-01-01T08:56:40",
          "1970-01-01T08:56:40",
          "1970-01-01T08:56:40",
          "1970-01-01T11:52:44",
          "1970-01-01T11:52:44",
          "1970-01-01T12:37:32",
          "1970-01-01T12:37:32",
          "1970-01-01T12:37:32",
          "1970-01-01T15:33:36",
          "1970-01-01T15:33:36",
          "1970-01-01T16:18:24",
          "1970-01-01T16:18:24",
          "1970-01-01T16:18:24",
          "1970-01-01T19:14:28",
          "1970-01-01T19:14:28",
          "1970-01-01T19:59:16",
          "1970-01-01T19:59:16",
          "1970-01-01T19:59:16",
          "1970-01-01T22:55:20",
          "1970-01-01T22:55:20",
          "1970-01-01T23:40:08",
          "1970-01-01T23:40:08",
          "1970-01-01T23:40:08",
          "1970-01-02T02:36:12",
          "1970-01-02T02:36:12",
          "1970-01-02T03:21:00",
          "1970-01-02T03:21:00",
          "1970-01-02T03:21:00"
         ],
         "y": [
          "barge_2",
          "barge_2",
          "barge_2",
          "barge_2",
          null,
          "barge_2",
          "barge_2",
          "barge_2",
          "barge_2",
          null,
          "barge_2",
          "barge_2",
          "barge_2",
          "barge_2",
          null,
          "barge_2",
          "barge_2",
          "barge_2",
          "barge_2",
          null,
          "barge_2",
          "barge_2",
          "barge_2",
          "barge_2",
          null,
          "barge_2",
          "barge_2",
          "barge_2",
          "barge_2",
          null,
          "barge_2",
          "barge_2",
          "barge_2",
          "barge_2",
          null,
          "barge_2",
          "barge_2",
          "barge_2",
          "barge_2",
          null
         ]
        },
        {
         "connectgaps": false,
         "hoverinfo": "y+name",
         "line": {
          "color": "rgb(130,84,41)",
          "width": 10
         },
         "mode": "lines",
         "name": "unloading:barge_2",
         "type": "scatter",
         "x": [
          "1970-01-01T03:46:12",
          "1970-01-01T03:46:12",
          "1970-01-01T04:31:00",
          "1970-01-01T04:31:00",
          "1970-01-01T04:31:00",
          "1970-01-01T07:27:04",
          "1970-01-01T07:27:04",
          "1970-01-01T08:11:52",
          "1970-01-01T08:11:52",
          "1970-01-01T08:11:52",
          "1970-01-01T11:07:56",
          "1970-01-01T11:07:56",
          "1970-01-01T11:52:44",
          "1970-01-01T11:52:44",
          "1970-01-01T11:52:44",
          "1970-01-01T14:48:48",
          "1970-01-01T14:48:48",
          "1970-01-01T15:33:36",
          "1970-01-01T15:33:36",
          "1970-01-01T15:33:36",
          "1970-01-01T18:29:40",
          "1970-01-01T18:29:40",
          "1970-01-01T19:14:28",
          "1970-01-01T19:14:28",
          "1970-01-01T19:14:28",
          "1970-01-01T22:10:32",
          "1970-01-01T22:10:32",
          "1970-01-01T22:55:20",
          "1970-01-01T22:55:20",
          "1970-01-01T22:55:20",
          "1970-01-02T01:51:24",
          "1970-01-02T01:51:24",
          "1970-01-02T02:36:12",
          "1970-01-02T02:36:12",
          "1970-01-02T02:36:12",
          "1970-01-02T05:32:16",
          "1970-01-02T05:32:16",
          "1970-01-02T06:17:04",
          "1970-01-02T06:17:04",
          "1970-01-02T06:17:04"
         ],
         "y": [
          "barge_2",
          "barge_2",
          "barge_2",
          "barge_2",
          null,
          "barge_2",
          "barge_2",
          "barge_2",
          "barge_2",
          null,
          "barge_2",
          "barge_2",
          "barge_2",
          "barge_2",
          null,
          "barge_2",
          "barge_2",
          "barge_2",
          "barge_2",
          null,
          "barge_2",
          "barge_2",
          "barge_2",
          "barge_2",
          null,
          "barge_2",
          "barge_2",
          "barge_2",
          "barge_2",
          null,
          "barge_2",
          "barge_2",
          "barge_2",
          "barge_2",
          null,
          "barge_2",
          "barge_2",
          "barge_2",
          "barge_2",
          null
         ]
        },
        {
         "connectgaps": false,
         "hoverinfo": "y+name",
         "line": {
          "color": "rgb(144,98,55)",
          "width": 10
         },
         "mode": "lines",
         "name": "loading:barge_1",
         "type": "scatter",
         "x": [
          "1970-01-01T01:46:24",
          "1970-01-01T01:46:24",
          "1970-01-01T02:19:44",
          "1970-01-01T02:19:44",
          "1970-01-01T02:19:44",
          "1970-01-01T04:51:28",
          "1970-01-01T04:51:28",
          "1970-01-01T05:24:48",
          "1970-01-01T05:24:48",
          "1970-01-01T05:24:48",
          "1970-01-01T07:56:32",
          "1970-01-01T07:56:32",
          "1970-01-01T08:29:52",
          "1970-01-01T08:29:52",
          "1970-01-01T08:29:52",
          "1970-01-01T11:01:36",
          "1970-01-01T11:01:36",
          "1970-01-01T11:34:56",
          "1970-01-01T11:34:56",
          "1970-01-01T11:34:56",
          "1970-01-01T14:37:20",
          "1970-01-01T14:37:20",
          "1970-01-01T15:10:40",
          "1970-01-01T15:10:40",
          "1970-01-01T15:10:40",
          "1970-01-01T18:18:12",
          "1970-01-01T18:18:12",
          "1970-01-01T18:51:32",
          "1970-01-01T18:51:32",
          "1970-01-01T18:51:32",
          "1970-01-01T21:59:04",
          "1970-01-01T21:59:04",
          "1970-01-01T22:32:24",
          "1970-01-01T22:32:24",
          "1970-01-01T22:32:24",
          "1970-01-02T01:39:56",
          "1970-01-02T01:39:56",
          "1970-01-02T02:13:16",
          "1970-01-02T02:13:16",
          "1970-01-02T02:13:16",
          "1970-01-01T01:46:24",
          "1970-01-01T01:46:24",
          "1970-01-01T02:19:44",
          "1970-01-01T02:19:44",
          "1970-01-01T02:19:44",
          "1970-01-01T04:51:28",
          "1970-01-01T04:51:28",
          "1970-01-01T05:24:48",
          "1970-01-01T05:24:48",
          "1970-01-01T05:24:48",
          "1970-01-01T07:56:32",
          "1970-01-01T07:56:32",
          "1970-01-01T08:29:52",
          "1970-01-01T08:29:52",
          "1970-01-01T08:29:52",
          "1970-01-01T11:01:36",
          "1970-01-01T11:01:36",
          "1970-01-01T11:34:56",
          "1970-01-01T11:34:56",
          "1970-01-01T11:34:56",
          "1970-01-01T14:37:20",
          "1970-01-01T14:37:20",
          "1970-01-01T15:10:40",
          "1970-01-01T15:10:40",
          "1970-01-01T15:10:40",
          "1970-01-01T18:18:12",
          "1970-01-01T18:18:12",
          "1970-01-01T18:51:32",
          "1970-01-01T18:51:32",
          "1970-01-01T18:51:32",
          "1970-01-01T21:59:04",
          "1970-01-01T21:59:04",
          "1970-01-01T22:32:24",
          "1970-01-01T22:32:24",
          "1970-01-01T22:32:24",
          "1970-01-02T01:39:56",
          "1970-01-02T01:39:56",
          "1970-01-02T02:13:16",
          "1970-01-02T02:13:16",
          "1970-01-02T02:13:16"
         ],
         "y": [
          "barge_1",
          "barge_1",
          "barge_1",
          "barge_1",
          null,
          "barge_1",
          "barge_1",
          "barge_1",
          "barge_1",
          null,
          "barge_1",
          "barge_1",
          "barge_1",
          "barge_1",
          null,
          "barge_1",
          "barge_1",
          "barge_1",
          "barge_1",
          null,
          "barge_1",
          "barge_1",
          "barge_1",
          "barge_1",
          null,
          "barge_1",
          "barge_1",
          "barge_1",
          "barge_1",
          null,
          "barge_1",
          "barge_1",
          "barge_1",
          "barge_1",
          null,
          "barge_1",
          "barge_1",
          "barge_1",
          "barge_1",
          null,
          "cutter",
          "cutter",
          "cutter",
          "cutter",
          null,
          "cutter",
          "cutter",
          "cutter",
          "cutter",
          null,
          "cutter",
          "cutter",
          "cutter",
          "cutter",
          null,
          "cutter",
          "cutter",
          "cutter",
          "cutter",
          null,
          "cutter",
          "cutter",
          "cutter",
          "cutter",
          null,
          "cutter",
          "cutter",
          "cutter",
          "cutter",
          null,
          "cutter",
          "cutter",
          "cutter",
          "cutter",
          null,
          "cutter",
          "cutter",
          "cutter",
          "cutter",
          null
         ]
        },
        {
         "connectgaps": false,
         "hoverinfo": "y+name",
         "line": {
          "color": "rgb(158,112,69)",
          "width": 10
         },
         "mode": "lines",
         "name": "loading:barge_0",
         "type": "scatter",
         "x": [
          "1970-01-01T01:13:04",
          "1970-01-01T01:13:04",
          "1970-01-01T01:46:24",
          "1970-01-01T01:46:24",
          "1970-01-01T01:46:24",
          "1970-01-01T04:12:32",
          "1970-01-01T04:12:32",
          "1970-01-01T04:45:52",
          "1970-01-01T04:45:52",
          "1970-01-01T04:45:52",
          "1970-01-01T07:12:00",
          "1970-01-01T07:12:00",
          "1970-01-01T07:45:20",
          "1970-01-01T07:45:20",
          "1970-01-01T07:45:20",
          "1970-01-01T10:23:08",
          "1970-01-01T10:23:08",
          "1970-01-01T10:56:28",
          "1970-01-01T10:56:28",
          "1970-01-01T10:56:28",
          "1970-01-01T14:04:00",
          "1970-01-01T14:04:00",
          "1970-01-01T14:37:20",
          "1970-01-01T14:37:20",
          "1970-01-01T14:37:20",
          "1970-01-01T17:44:52",
          "1970-01-01T17:44:52",
          "1970-01-01T18:18:12",
          "1970-01-01T18:18:12",
          "1970-01-01T18:18:12",
          "1970-01-01T21:25:44",
          "1970-01-01T21:25:44",
          "1970-01-01T21:59:04",
          "1970-01-01T21:59:04",
          "1970-01-01T21:59:04",
          "1970-01-02T01:06:36",
          "1970-01-02T01:06:36",
          "1970-01-02T01:39:56",
          "1970-01-02T01:39:56",
          "1970-01-02T01:39:56",
          "1970-01-01T01:13:04",
          "1970-01-01T01:13:04",
          "1970-01-01T01:46:24",
          "1970-01-01T01:46:24",
          "1970-01-01T01:46:24",
          "1970-01-01T04:12:32",
          "1970-01-01T04:12:32",
          "1970-01-01T04:45:52",
          "1970-01-01T04:45:52",
          "1970-01-01T04:45:52",
          "1970-01-01T07:12:00",
          "1970-01-01T07:12:00",
          "1970-01-01T07:45:20",
          "1970-01-01T07:45:20",
          "1970-01-01T07:45:20",
          "1970-01-01T10:23:08",
          "1970-01-01T10:23:08",
          "1970-01-01T10:56:28",
          "1970-01-01T10:56:28",
          "1970-01-01T10:56:28",
          "1970-01-01T14:04:00",
          "1970-01-01T14:04:00",
          "1970-01-01T14:37:20",
          "1970-01-01T14:37:20",
          "1970-01-01T14:37:20",
          "1970-01-01T17:44:52",
          "1970-01-01T17:44:52",
          "1970-01-01T18:18:12",
          "1970-01-01T18:18:12",
          "1970-01-01T18:18:12",
          "1970-01-01T21:25:44",
          "1970-01-01T21:25:44",
          "1970-01-01T21:59:04",
          "1970-01-01T21:59:04",
          "1970-01-01T21:59:04",
          "1970-01-02T01:06:36",
          "1970-01-02T01:06:36",
          "1970-01-02T01:39:56",
          "1970-01-02T01:39:56",
          "1970-01-02T01:39:56"
         ],
         "y": [
          "barge_0",
          "barge_0",
          "barge_0",
          "barge_0",
          null,
          "barge_0",
          "barge_0",
          "barge_0",
          "barge_0",
          null,
          "barge_0",
          "barge_0",
          "barge_0",
          "barge_0",
          null,
          "barge_0",
          "barge_0",
          "barge_0",
          "barge_0",
          null,
          "barge_0",
          "barge_0",
          "barge_0",
          "barge_0",
          null,
          "barge_0",
          "barge_0",
          "barge_0",
          "barge_0",
          null,
          "barge_0",
          "barge_0",
          "barge_0",
          "barge_0",
          null,
          "barge_0",
          "barge_0",
          "barge_0",
          "barge_0",
          null,
          "cutter",
          "cutter",
          "cutter",
          "cutter",
          null,
          "cutter",
          "cutter",
          "cutter",
          "cutter",
          null,
          "cutter",
          "cutter",
          "cutter",
          "cutter",
          null,
          "cutter",
          "cutter",
          "cutter",
          "cutter",
          null,
          "cutter",
          "cutter",
          "cutter",
          "cutter",
          null,
          "cutter",
          "cutter",
          "cutter",
          "cutter",
          null,
          "cutter",
          "cutter",
          "cutter",
          "cutter",
          null,
          "cutter",
          "cutter",
          "cutter",
          "cutter",
          null
         ]
        },
        {
         "connectgaps": false,
         "hoverinfo": "y+name",
         "line": {
          "color": "rgb(172,126,83)",
          "width": 10
         },
         "mode": "lines",
         "name": "loading:barge_2",
         "type": "scatter",
         "x": [
          "1970-01-01T02:19:44",
          "1970-01-01T02:19:44",
          "1970-01-01T03:01:24",
          "1970-01-01T03:01:24",
          "1970-01-01T03:01:24",
          "1970-01-01T06:00:36",
          "1970-01-01T06:00:36",
          "1970-01-01T06:42:16",
          "1970-01-01T06:42:16",
          "1970-01-01T06:42:16",
          "1970-01-01T09:41:28",
          "1970-01-01T09:41:28",
          "1970-01-01T10:23:08",
          "1970-01-01T10:23:08",
          "1970-01-01T10:23:08",
          "1970-01-01T13:22:20",
          "1970-01-01T13:22:20",
          "1970-01-01T14:04:00",
          "1970-01-01T14:04:00",
          "1970-01-01T14:04:00",
          "1970-01-01T17:03:12",
          "1970-01-01T17:03:12",
          "1970-01-01T17:44:52",
          "1970-01-01T17:44:52",
          "1970-01-01T17:44:52",
          "1970-01-01T20:44:04",
          "1970-01-01T20:44:04",
          "1970-01-01T21:25:44",
          "1970-01-01T21:25:44",
          "1970-01-01T21:25:44",
          "1970-01-02T00:24:56",
          "1970-01-02T00:24:56",
          "1970-01-02T01:06:36",
          "1970-01-02T01:06:36",
          "1970-01-02T01:06:36",
          "1970-01-02T04:05:48",
          "1970-01-02T04:05:48",
          "1970-01-02T04:47:28",
          "1970-01-02T04:47:28",
          "1970-01-02T04:47:28",
          "1970-01-01T02:19:44",
          "1970-01-01T02:19:44",
          "1970-01-01T03:01:24",
          "1970-01-01T03:01:24",
          "1970-01-01T03:01:24",
          "1970-01-01T06:00:36",
          "1970-01-01T06:00:36",
          "1970-01-01T06:42:16",
          "1970-01-01T06:42:16",
          "1970-01-01T06:42:16",
          "1970-01-01T09:41:28",
          "1970-01-01T09:41:28",
          "1970-01-01T10:23:08",
          "1970-01-01T10:23:08",
          "1970-01-01T10:23:08",
          "1970-01-01T13:22:20",
          "1970-01-01T13:22:20",
          "1970-01-01T14:04:00",
          "1970-01-01T14:04:00",
          "1970-01-01T14:04:00",
          "1970-01-01T17:03:12",
          "1970-01-01T17:03:12",
          "1970-01-01T17:44:52",
          "1970-01-01T17:44:52",
          "1970-01-01T17:44:52",
          "1970-01-01T20:44:04",
          "1970-01-01T20:44:04",
          "1970-01-01T21:25:44",
          "1970-01-01T21:25:44",
          "1970-01-01T21:25:44",
          "1970-01-02T00:24:56",
          "1970-01-02T00:24:56",
          "1970-01-02T01:06:36",
          "1970-01-02T01:06:36",
          "1970-01-02T01:06:36",
          "1970-01-02T04:05:48",
          "1970-01-02T04:05:48",
          "1970-01-02T04:47:28",
          "1970-01-02T04:47:28",
          "1970-01-02T04:47:28"
         ],
         "y": [
          "barge_2",
          "barge_2",
          "barge_2",
          "barge_2",
          null,
          "barge_2",
          "barge_2",
          "barge_2",
          "barge_2",
          null,
          "barge_2",
          "barge_2",
          "barge_2",
          "barge_2",
          null,
          "barge_2",
          "barge_2",
          "barge_2",
          "barge_2",
          null,
          "barge_2",
          "barge_2",
          "barge_2",
          "barge_2",
          null,
          "barge_2",
          "barge_2",
          "barge_2",
          "barge_2",
          null,
          "barge_2",
          "barge_2",
          "barge_2",
          "barge_2",
          null,
          "barge_2",
          "barge_2",
          "barge_2",
          "barge_2",
          null,
          "cutter",
          "cutter",
          "cutter",
          "cutter",
          null,
          "cutter",
          "cutter",
          "cutter",
          "cutter",
          null,
          "cutter",
          "cutter",
          "cutter",
          "cutter",
          null,
          "cutter",
          "cutter",
          "cutter",
          "cutter",
          null,
          "cutter",
          "cutter",
          "cutter",
          "cutter",
          null,
          "cutter",
          "cutter",
          "cutter",
          "cutter",
          null,
          "cutter",
          "cutter",
          "cutter",
          "cutter",
          null,
          "cutter",
          "cutter",
          "cutter",
          "cutter",
          null
         ]
        }
       ],
       "layout": {
        "hovermode": "closest",
        "legend": {
         "orientation": "h",
         "x": 0,
         "y": -0.2
        },
        "template": {
         "data": {
          "bar": [
           {
            "error_x": {
             "color": "#2a3f5f"
            },
            "error_y": {
             "color": "#2a3f5f"
            },
            "marker": {
             "line": {
              "color": "#E5ECF6",
              "width": 0.5
             },
             "pattern": {
              "fillmode": "overlay",
              "size": 10,
              "solidity": 0.2
             }
            },
            "type": "bar"
           }
          ],
          "barpolar": [
           {
            "marker": {
             "line": {
              "color": "#E5ECF6",
              "width": 0.5
             },
             "pattern": {
              "fillmode": "overlay",
              "size": 10,
              "solidity": 0.2
             }
            },
            "type": "barpolar"
           }
          ],
          "carpet": [
           {
            "aaxis": {
             "endlinecolor": "#2a3f5f",
             "gridcolor": "white",
             "linecolor": "white",
             "minorgridcolor": "white",
             "startlinecolor": "#2a3f5f"
            },
            "baxis": {
             "endlinecolor": "#2a3f5f",
             "gridcolor": "white",
             "linecolor": "white",
             "minorgridcolor": "white",
             "startlinecolor": "#2a3f5f"
            },
            "type": "carpet"
           }
          ],
          "choropleth": [
           {
            "colorbar": {
             "outlinewidth": 0,
             "ticks": ""
            },
            "type": "choropleth"
           }
          ],
          "contour": [
           {
            "colorbar": {
             "outlinewidth": 0,
             "ticks": ""
            },
            "colorscale": [
             [
              0,
              "#0d0887"
             ],
             [
              0.1111111111111111,
              "#46039f"
             ],
             [
              0.2222222222222222,
              "#7201a8"
             ],
             [
              0.3333333333333333,
              "#9c179e"
             ],
             [
              0.4444444444444444,
              "#bd3786"
             ],
             [
              0.5555555555555556,
              "#d8576b"
             ],
             [
              0.6666666666666666,
              "#ed7953"
             ],
             [
              0.7777777777777778,
              "#fb9f3a"
             ],
             [
              0.8888888888888888,
              "#fdca26"
             ],
             [
              1,
              "#f0f921"
             ]
            ],
            "type": "contour"
           }
          ],
          "contourcarpet": [
           {
            "colorbar": {
             "outlinewidth": 0,
             "ticks": ""
            },
            "type": "contourcarpet"
           }
          ],
          "heatmap": [
           {
            "colorbar": {
             "outlinewidth": 0,
             "ticks": ""
            },
            "colorscale": [
             [
              0,
              "#0d0887"
             ],
             [
              0.1111111111111111,
              "#46039f"
             ],
             [
              0.2222222222222222,
              "#7201a8"
             ],
             [
              0.3333333333333333,
              "#9c179e"
             ],
             [
              0.4444444444444444,
              "#bd3786"
             ],
             [
              0.5555555555555556,
              "#d8576b"
             ],
             [
              0.6666666666666666,
              "#ed7953"
             ],
             [
              0.7777777777777778,
              "#fb9f3a"
             ],
             [
              0.8888888888888888,
              "#fdca26"
             ],
             [
              1,
              "#f0f921"
             ]
            ],
            "type": "heatmap"
           }
          ],
          "heatmapgl": [
           {
            "colorbar": {
             "outlinewidth": 0,
             "ticks": ""
            },
            "colorscale": [
             [
              0,
              "#0d0887"
             ],
             [
              0.1111111111111111,
              "#46039f"
             ],
             [
              0.2222222222222222,
              "#7201a8"
             ],
             [
              0.3333333333333333,
              "#9c179e"
             ],
             [
              0.4444444444444444,
              "#bd3786"
             ],
             [
              0.5555555555555556,
              "#d8576b"
             ],
             [
              0.6666666666666666,
              "#ed7953"
             ],
             [
              0.7777777777777778,
              "#fb9f3a"
             ],
             [
              0.8888888888888888,
              "#fdca26"
             ],
             [
              1,
              "#f0f921"
             ]
            ],
            "type": "heatmapgl"
           }
          ],
          "histogram": [
           {
            "marker": {
             "pattern": {
              "fillmode": "overlay",
              "size": 10,
              "solidity": 0.2
             }
            },
            "type": "histogram"
           }
          ],
          "histogram2d": [
           {
            "colorbar": {
             "outlinewidth": 0,
             "ticks": ""
            },
            "colorscale": [
             [
              0,
              "#0d0887"
             ],
             [
              0.1111111111111111,
              "#46039f"
             ],
             [
              0.2222222222222222,
              "#7201a8"
             ],
             [
              0.3333333333333333,
              "#9c179e"
             ],
             [
              0.4444444444444444,
              "#bd3786"
             ],
             [
              0.5555555555555556,
              "#d8576b"
             ],
             [
              0.6666666666666666,
              "#ed7953"
             ],
             [
              0.7777777777777778,
              "#fb9f3a"
             ],
             [
              0.8888888888888888,
              "#fdca26"
             ],
             [
              1,
              "#f0f921"
             ]
            ],
            "type": "histogram2d"
           }
          ],
          "histogram2dcontour": [
           {
            "colorbar": {
             "outlinewidth": 0,
             "ticks": ""
            },
            "colorscale": [
             [
              0,
              "#0d0887"
             ],
             [
              0.1111111111111111,
              "#46039f"
             ],
             [
              0.2222222222222222,
              "#7201a8"
             ],
             [
              0.3333333333333333,
              "#9c179e"
             ],
             [
              0.4444444444444444,
              "#bd3786"
             ],
             [
              0.5555555555555556,
              "#d8576b"
             ],
             [
              0.6666666666666666,
              "#ed7953"
             ],
             [
              0.7777777777777778,
              "#fb9f3a"
             ],
             [
              0.8888888888888888,
              "#fdca26"
             ],
             [
              1,
              "#f0f921"
             ]
            ],
            "type": "histogram2dcontour"
           }
          ],
          "mesh3d": [
           {
            "colorbar": {
             "outlinewidth": 0,
             "ticks": ""
            },
            "type": "mesh3d"
           }
          ],
          "parcoords": [
           {
            "line": {
             "colorbar": {
              "outlinewidth": 0,
              "ticks": ""
             }
            },
            "type": "parcoords"
           }
          ],
          "pie": [
           {
            "automargin": true,
            "type": "pie"
           }
          ],
          "scatter": [
           {
            "marker": {
             "colorbar": {
              "outlinewidth": 0,
              "ticks": ""
             }
            },
            "type": "scatter"
           }
          ],
          "scatter3d": [
           {
            "line": {
             "colorbar": {
              "outlinewidth": 0,
              "ticks": ""
             }
            },
            "marker": {
             "colorbar": {
              "outlinewidth": 0,
              "ticks": ""
             }
            },
            "type": "scatter3d"
           }
          ],
          "scattercarpet": [
           {
            "marker": {
             "colorbar": {
              "outlinewidth": 0,
              "ticks": ""
             }
            },
            "type": "scattercarpet"
           }
          ],
          "scattergeo": [
           {
            "marker": {
             "colorbar": {
              "outlinewidth": 0,
              "ticks": ""
             }
            },
            "type": "scattergeo"
           }
          ],
          "scattergl": [
           {
            "marker": {
             "colorbar": {
              "outlinewidth": 0,
              "ticks": ""
             }
            },
            "type": "scattergl"
           }
          ],
          "scattermapbox": [
           {
            "marker": {
             "colorbar": {
              "outlinewidth": 0,
              "ticks": ""
             }
            },
            "type": "scattermapbox"
           }
          ],
          "scatterpolar": [
           {
            "marker": {
             "colorbar": {
              "outlinewidth": 0,
              "ticks": ""
             }
            },
            "type": "scatterpolar"
           }
          ],
          "scatterpolargl": [
           {
            "marker": {
             "colorbar": {
              "outlinewidth": 0,
              "ticks": ""
             }
            },
            "type": "scatterpolargl"
           }
          ],
          "scatterternary": [
           {
            "marker": {
             "colorbar": {
              "outlinewidth": 0,
              "ticks": ""
             }
            },
            "type": "scatterternary"
           }
          ],
          "surface": [
           {
            "colorbar": {
             "outlinewidth": 0,
             "ticks": ""
            },
            "colorscale": [
             [
              0,
              "#0d0887"
             ],
             [
              0.1111111111111111,
              "#46039f"
             ],
             [
              0.2222222222222222,
              "#7201a8"
             ],
             [
              0.3333333333333333,
              "#9c179e"
             ],
             [
              0.4444444444444444,
              "#bd3786"
             ],
             [
              0.5555555555555556,
              "#d8576b"
             ],
             [
              0.6666666666666666,
              "#ed7953"
             ],
             [
              0.7777777777777778,
              "#fb9f3a"
             ],
             [
              0.8888888888888888,
              "#fdca26"
             ],
             [
              1,
              "#f0f921"
             ]
            ],
            "type": "surface"
           }
          ],
          "table": [
           {
            "cells": {
             "fill": {
              "color": "#EBF0F8"
             },
             "line": {
              "color": "white"
             }
            },
            "header": {
             "fill": {
              "color": "#C8D4E3"
             },
             "line": {
              "color": "white"
             }
            },
            "type": "table"
           }
          ]
         },
         "layout": {
          "annotationdefaults": {
           "arrowcolor": "#2a3f5f",
           "arrowhead": 0,
           "arrowwidth": 1
          },
          "autotypenumbers": "strict",
          "coloraxis": {
           "colorbar": {
            "outlinewidth": 0,
            "ticks": ""
           }
          },
          "colorscale": {
           "diverging": [
            [
             0,
             "#8e0152"
            ],
            [
             0.1,
             "#c51b7d"
            ],
            [
             0.2,
             "#de77ae"
            ],
            [
             0.3,
             "#f1b6da"
            ],
            [
             0.4,
             "#fde0ef"
            ],
            [
             0.5,
             "#f7f7f7"
            ],
            [
             0.6,
             "#e6f5d0"
            ],
            [
             0.7,
             "#b8e186"
            ],
            [
             0.8,
             "#7fbc41"
            ],
            [
             0.9,
             "#4d9221"
            ],
            [
             1,
             "#276419"
            ]
           ],
           "sequential": [
            [
             0,
             "#0d0887"
            ],
            [
             0.1111111111111111,
             "#46039f"
            ],
            [
             0.2222222222222222,
             "#7201a8"
            ],
            [
             0.3333333333333333,
             "#9c179e"
            ],
            [
             0.4444444444444444,
             "#bd3786"
            ],
            [
             0.5555555555555556,
             "#d8576b"
            ],
            [
             0.6666666666666666,
             "#ed7953"
            ],
            [
             0.7777777777777778,
             "#fb9f3a"
            ],
            [
             0.8888888888888888,
             "#fdca26"
            ],
            [
             1,
             "#f0f921"
            ]
           ],
           "sequentialminus": [
            [
             0,
             "#0d0887"
            ],
            [
             0.1111111111111111,
             "#46039f"
            ],
            [
             0.2222222222222222,
             "#7201a8"
            ],
            [
             0.3333333333333333,
             "#9c179e"
            ],
            [
             0.4444444444444444,
             "#bd3786"
            ],
            [
             0.5555555555555556,
             "#d8576b"
            ],
            [
             0.6666666666666666,
             "#ed7953"
            ],
            [
             0.7777777777777778,
             "#fb9f3a"
            ],
            [
             0.8888888888888888,
             "#fdca26"
            ],
            [
             1,
             "#f0f921"
            ]
           ]
          },
          "colorway": [
           "#636efa",
           "#EF553B",
           "#00cc96",
           "#ab63fa",
           "#FFA15A",
           "#19d3f3",
           "#FF6692",
           "#B6E880",
           "#FF97FF",
           "#FECB52"
          ],
          "font": {
           "color": "#2a3f5f"
          },
          "geo": {
           "bgcolor": "white",
           "lakecolor": "white",
           "landcolor": "#E5ECF6",
           "showlakes": true,
           "showland": true,
           "subunitcolor": "white"
          },
          "hoverlabel": {
           "align": "left"
          },
          "hovermode": "closest",
          "mapbox": {
           "style": "light"
          },
          "paper_bgcolor": "white",
          "plot_bgcolor": "#E5ECF6",
          "polar": {
           "angularaxis": {
            "gridcolor": "white",
            "linecolor": "white",
            "ticks": ""
           },
           "bgcolor": "#E5ECF6",
           "radialaxis": {
            "gridcolor": "white",
            "linecolor": "white",
            "ticks": ""
           }
          },
          "scene": {
           "xaxis": {
            "backgroundcolor": "#E5ECF6",
            "gridcolor": "white",
            "gridwidth": 2,
            "linecolor": "white",
            "showbackground": true,
            "ticks": "",
            "zerolinecolor": "white"
           },
           "yaxis": {
            "backgroundcolor": "#E5ECF6",
            "gridcolor": "white",
            "gridwidth": 2,
            "linecolor": "white",
            "showbackground": true,
            "ticks": "",
            "zerolinecolor": "white"
           },
           "zaxis": {
            "backgroundcolor": "#E5ECF6",
            "gridcolor": "white",
            "gridwidth": 2,
            "linecolor": "white",
            "showbackground": true,
            "ticks": "",
            "zerolinecolor": "white"
           }
          },
          "shapedefaults": {
           "line": {
            "color": "#2a3f5f"
           }
          },
          "ternary": {
           "aaxis": {
            "gridcolor": "white",
            "linecolor": "white",
            "ticks": ""
           },
           "baxis": {
            "gridcolor": "white",
            "linecolor": "white",
            "ticks": ""
           },
           "bgcolor": "#E5ECF6",
           "caxis": {
            "gridcolor": "white",
            "linecolor": "white",
            "ticks": ""
           }
          },
          "title": {
           "x": 0.05
          },
          "xaxis": {
           "automargin": true,
           "gridcolor": "white",
           "linecolor": "white",
           "ticks": "",
           "title": {
            "standoff": 15
           },
           "zerolinecolor": "white",
           "zerolinewidth": 2
          },
          "yaxis": {
           "automargin": true,
           "gridcolor": "white",
           "linecolor": "white",
           "ticks": "",
           "title": {
            "standoff": 15
           },
           "zerolinecolor": "white",
           "zerolinewidth": 2
          }
         }
        },
        "title": {
         "text": "GANTT Chart"
        },
        "xaxis": {
         "range": [
          "1970-01-01T00:00:00",
          "1970-01-02T06:17:04"
         ],
         "title": {
          "font": {
           "color": "#7f7f7f",
           "family": "Courier New, monospace",
           "size": 18
          },
          "text": "Time"
         }
        },
        "yaxis": {
         "title": {
          "font": {
           "color": "#7f7f7f",
           "family": "Courier New, monospace",
           "size": 18
          },
          "text": "Activities"
         }
        }
       }
      },
      "text/html": [
       "<div>                            <div id=\"d1f91e07-830b-4084-b030-ffd876ae6c2e\" class=\"plotly-graph-div\" style=\"height:525px; width:100%;\"></div>            <script type=\"text/javascript\">                require([\"plotly\"], function(Plotly) {                    window.PLOTLYENV=window.PLOTLYENV || {};                                    if (document.getElementById(\"d1f91e07-830b-4084-b030-ffd876ae6c2e\")) {                    Plotly.newPlot(                        \"d1f91e07-830b-4084-b030-ffd876ae6c2e\",                        [{\"connectgaps\":false,\"hoverinfo\":\"y+name\",\"line\":{\"color\":\"rgb(190,144,101)\",\"width\":10},\"mode\":\"lines\",\"name\":\"unloading:barge_0\",\"x\":[\"1970-01-01T02:22:56\",\"1970-01-01T02:22:56\",\"1970-01-01T02:59:28\",\"1970-01-01T02:59:28\",\"1970-01-01T02:59:28\",\"1970-01-01T05:22:24\",\"1970-01-01T05:22:24\",\"1970-01-01T05:58:56\",\"1970-01-01T05:58:56\",\"1970-01-01T05:58:56\",\"1970-01-01T08:21:52\",\"1970-01-01T08:21:52\",\"1970-01-01T08:58:24\",\"1970-01-01T08:58:24\",\"1970-01-01T08:58:24\",\"1970-01-01T11:33:00\",\"1970-01-01T11:33:00\",\"1970-01-01T12:09:32\",\"1970-01-01T12:09:32\",\"1970-01-01T12:09:32\",\"1970-01-01T15:13:52\",\"1970-01-01T15:13:52\",\"1970-01-01T15:50:24\",\"1970-01-01T15:50:24\",\"1970-01-01T15:50:24\",\"1970-01-01T18:54:44\",\"1970-01-01T18:54:44\",\"1970-01-01T19:31:16\",\"1970-01-01T19:31:16\",\"1970-01-01T19:31:16\",\"1970-01-01T22:35:36\",\"1970-01-01T22:35:36\",\"1970-01-01T23:12:08\",\"1970-01-01T23:12:08\",\"1970-01-01T23:12:08\",\"1970-01-02T02:16:28\",\"1970-01-02T02:16:28\",\"1970-01-02T02:53:00\",\"1970-01-02T02:53:00\",\"1970-01-02T02:53:00\"],\"y\":[\"barge_0\",\"barge_0\",\"barge_0\",\"barge_0\",null,\"barge_0\",\"barge_0\",\"barge_0\",\"barge_0\",null,\"barge_0\",\"barge_0\",\"barge_0\",\"barge_0\",null,\"barge_0\",\"barge_0\",\"barge_0\",\"barge_0\",null,\"barge_0\",\"barge_0\",\"barge_0\",\"barge_0\",null,\"barge_0\",\"barge_0\",\"barge_0\",\"barge_0\",null,\"barge_0\",\"barge_0\",\"barge_0\",\"barge_0\",null,\"barge_0\",\"barge_0\",\"barge_0\",\"barge_0\",null],\"type\":\"scatter\"},{\"connectgaps\":false,\"hoverinfo\":\"y+name\",\"line\":{\"color\":\"rgb(204,158,115)\",\"width\":10},\"mode\":\"lines\",\"name\":\"sailing empty:barge_0\",\"x\":[\"1970-01-01T00:36:32\",\"1970-01-01T00:36:32\",\"1970-01-01T01:13:04\",\"1970-01-01T01:13:04\",\"1970-01-01T01:13:04\",\"1970-01-01T03:36:00\",\"1970-01-01T03:36:00\",\"1970-01-01T04:12:32\",\"1970-01-01T04:12:32\",\"1970-01-01T04:12:32\",\"1970-01-01T06:35:28\",\"1970-01-01T06:35:28\",\"1970-01-01T07:12:00\",\"1970-01-01T07:12:00\",\"1970-01-01T07:12:00\",\"1970-01-01T09:34:56\",\"1970-01-01T09:34:56\",\"1970-01-01T10:11:28\",\"1970-01-01T10:11:28\",\"1970-01-01T10:11:28\",\"1970-01-01T12:46:04\",\"1970-01-01T12:46:04\",\"1970-01-01T13:22:36\",\"1970-01-01T13:22:36\",\"1970-01-01T13:22:36\",\"1970-01-01T16:26:56\",\"1970-01-01T16:26:56\",\"1970-01-01T17:03:28\",\"1970-01-01T17:03:28\",\"1970-01-01T17:03:28\",\"1970-01-01T20:07:48\",\"1970-01-01T20:07:48\",\"1970-01-01T20:44:20\",\"1970-01-01T20:44:20\",\"1970-01-01T20:44:20\",\"1970-01-01T23:48:40\",\"1970-01-01T23:48:40\",\"1970-01-02T00:25:12\",\"1970-01-02T00:25:12\",\"1970-01-02T00:25:12\"],\"y\":[\"barge_0\",\"barge_0\",\"barge_0\",\"barge_0\",null,\"barge_0\",\"barge_0\",\"barge_0\",\"barge_0\",null,\"barge_0\",\"barge_0\",\"barge_0\",\"barge_0\",null,\"barge_0\",\"barge_0\",\"barge_0\",\"barge_0\",null,\"barge_0\",\"barge_0\",\"barge_0\",\"barge_0\",null,\"barge_0\",\"barge_0\",\"barge_0\",\"barge_0\",null,\"barge_0\",\"barge_0\",\"barge_0\",\"barge_0\",null,\"barge_0\",\"barge_0\",\"barge_0\",\"barge_0\",null],\"type\":\"scatter\"},{\"connectgaps\":false,\"hoverinfo\":\"y+name\",\"line\":{\"color\":\"rgb(218,172,129)\",\"width\":10},\"mode\":\"lines\",\"name\":\"basic activity:barge_0\",\"x\":[\"1970-01-01T00:00:00\",\"1970-01-01T00:00:00\",\"1970-01-01T00:36:32\",\"1970-01-01T00:36:32\",\"1970-01-01T00:36:32\",\"1970-01-01T02:59:28\",\"1970-01-01T02:59:28\",\"1970-01-01T03:36:00\",\"1970-01-01T03:36:00\",\"1970-01-01T03:36:00\",\"1970-01-01T05:58:56\",\"1970-01-01T05:58:56\",\"1970-01-01T06:35:28\",\"1970-01-01T06:35:28\",\"1970-01-01T06:35:28\",\"1970-01-01T08:58:24\",\"1970-01-01T08:58:24\",\"1970-01-01T09:34:56\",\"1970-01-01T09:34:56\",\"1970-01-01T09:34:56\",\"1970-01-01T12:09:32\",\"1970-01-01T12:09:32\",\"1970-01-01T12:46:04\",\"1970-01-01T12:46:04\",\"1970-01-01T12:46:04\",\"1970-01-01T15:50:24\",\"1970-01-01T15:50:24\",\"1970-01-01T16:26:56\",\"1970-01-01T16:26:56\",\"1970-01-01T16:26:56\",\"1970-01-01T19:31:16\",\"1970-01-01T19:31:16\",\"1970-01-01T20:07:48\",\"1970-01-01T20:07:48\",\"1970-01-01T20:07:48\",\"1970-01-01T23:12:08\",\"1970-01-01T23:12:08\",\"1970-01-01T23:48:40\",\"1970-01-01T23:48:40\",\"1970-01-01T23:48:40\"],\"y\":[\"barge_0\",\"barge_0\",\"barge_0\",\"barge_0\",null,\"barge_0\",\"barge_0\",\"barge_0\",\"barge_0\",null,\"barge_0\",\"barge_0\",\"barge_0\",\"barge_0\",null,\"barge_0\",\"barge_0\",\"barge_0\",\"barge_0\",null,\"barge_0\",\"barge_0\",\"barge_0\",\"barge_0\",null,\"barge_0\",\"barge_0\",\"barge_0\",\"barge_0\",null,\"barge_0\",\"barge_0\",\"barge_0\",\"barge_0\",null,\"barge_0\",\"barge_0\",\"barge_0\",\"barge_0\",null],\"type\":\"scatter\"},{\"connectgaps\":false,\"hoverinfo\":\"y+name\",\"line\":{\"color\":\"rgb(232,186,143)\",\"width\":10},\"mode\":\"lines\",\"name\":\"loading:barge_0\",\"x\":[\"1970-01-01T01:13:04\",\"1970-01-01T01:13:04\",\"1970-01-01T01:46:24\",\"1970-01-01T01:46:24\",\"1970-01-01T01:46:24\",\"1970-01-01T04:12:32\",\"1970-01-01T04:12:32\",\"1970-01-01T04:45:52\",\"1970-01-01T04:45:52\",\"1970-01-01T04:45:52\",\"1970-01-01T07:12:00\",\"1970-01-01T07:12:00\",\"1970-01-01T07:45:20\",\"1970-01-01T07:45:20\",\"1970-01-01T07:45:20\",\"1970-01-01T10:23:08\",\"1970-01-01T10:23:08\",\"1970-01-01T10:56:28\",\"1970-01-01T10:56:28\",\"1970-01-01T10:56:28\",\"1970-01-01T14:04:00\",\"1970-01-01T14:04:00\",\"1970-01-01T14:37:20\",\"1970-01-01T14:37:20\",\"1970-01-01T14:37:20\",\"1970-01-01T17:44:52\",\"1970-01-01T17:44:52\",\"1970-01-01T18:18:12\",\"1970-01-01T18:18:12\",\"1970-01-01T18:18:12\",\"1970-01-01T21:25:44\",\"1970-01-01T21:25:44\",\"1970-01-01T21:59:04\",\"1970-01-01T21:59:04\",\"1970-01-01T21:59:04\",\"1970-01-02T01:06:36\",\"1970-01-02T01:06:36\",\"1970-01-02T01:39:56\",\"1970-01-02T01:39:56\",\"1970-01-02T01:39:56\",\"1970-01-01T01:13:04\",\"1970-01-01T01:13:04\",\"1970-01-01T01:46:24\",\"1970-01-01T01:46:24\",\"1970-01-01T01:46:24\",\"1970-01-01T04:12:32\",\"1970-01-01T04:12:32\",\"1970-01-01T04:45:52\",\"1970-01-01T04:45:52\",\"1970-01-01T04:45:52\",\"1970-01-01T07:12:00\",\"1970-01-01T07:12:00\",\"1970-01-01T07:45:20\",\"1970-01-01T07:45:20\",\"1970-01-01T07:45:20\",\"1970-01-01T10:23:08\",\"1970-01-01T10:23:08\",\"1970-01-01T10:56:28\",\"1970-01-01T10:56:28\",\"1970-01-01T10:56:28\",\"1970-01-01T14:04:00\",\"1970-01-01T14:04:00\",\"1970-01-01T14:37:20\",\"1970-01-01T14:37:20\",\"1970-01-01T14:37:20\",\"1970-01-01T17:44:52\",\"1970-01-01T17:44:52\",\"1970-01-01T18:18:12\",\"1970-01-01T18:18:12\",\"1970-01-01T18:18:12\",\"1970-01-01T21:25:44\",\"1970-01-01T21:25:44\",\"1970-01-01T21:59:04\",\"1970-01-01T21:59:04\",\"1970-01-01T21:59:04\",\"1970-01-02T01:06:36\",\"1970-01-02T01:06:36\",\"1970-01-02T01:39:56\",\"1970-01-02T01:39:56\",\"1970-01-02T01:39:56\"],\"y\":[\"barge_0\",\"barge_0\",\"barge_0\",\"barge_0\",null,\"barge_0\",\"barge_0\",\"barge_0\",\"barge_0\",null,\"barge_0\",\"barge_0\",\"barge_0\",\"barge_0\",null,\"barge_0\",\"barge_0\",\"barge_0\",\"barge_0\",null,\"barge_0\",\"barge_0\",\"barge_0\",\"barge_0\",null,\"barge_0\",\"barge_0\",\"barge_0\",\"barge_0\",null,\"barge_0\",\"barge_0\",\"barge_0\",\"barge_0\",null,\"barge_0\",\"barge_0\",\"barge_0\",\"barge_0\",null,\"cutter\",\"cutter\",\"cutter\",\"cutter\",null,\"cutter\",\"cutter\",\"cutter\",\"cutter\",null,\"cutter\",\"cutter\",\"cutter\",\"cutter\",null,\"cutter\",\"cutter\",\"cutter\",\"cutter\",null,\"cutter\",\"cutter\",\"cutter\",\"cutter\",null,\"cutter\",\"cutter\",\"cutter\",\"cutter\",null,\"cutter\",\"cutter\",\"cutter\",\"cutter\",null,\"cutter\",\"cutter\",\"cutter\",\"cutter\",null],\"type\":\"scatter\"},{\"connectgaps\":false,\"hoverinfo\":\"y+name\",\"line\":{\"color\":\"rgb(246,200,157)\",\"width\":10},\"mode\":\"lines\",\"name\":\"sailing full:barge_0\",\"x\":[\"1970-01-01T01:46:24\",\"1970-01-01T01:46:24\",\"1970-01-01T02:22:56\",\"1970-01-01T02:22:56\",\"1970-01-01T02:22:56\",\"1970-01-01T04:45:52\",\"1970-01-01T04:45:52\",\"1970-01-01T05:22:24\",\"1970-01-01T05:22:24\",\"1970-01-01T05:22:24\",\"1970-01-01T07:45:20\",\"1970-01-01T07:45:20\",\"1970-01-01T08:21:52\",\"1970-01-01T08:21:52\",\"1970-01-01T08:21:52\",\"1970-01-01T10:56:28\",\"1970-01-01T10:56:28\",\"1970-01-01T11:33:00\",\"1970-01-01T11:33:00\",\"1970-01-01T11:33:00\",\"1970-01-01T14:37:20\",\"1970-01-01T14:37:20\",\"1970-01-01T15:13:52\",\"1970-01-01T15:13:52\",\"1970-01-01T15:13:52\",\"1970-01-01T18:18:12\",\"1970-01-01T18:18:12\",\"1970-01-01T18:54:44\",\"1970-01-01T18:54:44\",\"1970-01-01T18:54:44\",\"1970-01-01T21:59:04\",\"1970-01-01T21:59:04\",\"1970-01-01T22:35:36\",\"1970-01-01T22:35:36\",\"1970-01-01T22:35:36\",\"1970-01-02T01:39:56\",\"1970-01-02T01:39:56\",\"1970-01-02T02:16:28\",\"1970-01-02T02:16:28\",\"1970-01-02T02:16:28\"],\"y\":[\"barge_0\",\"barge_0\",\"barge_0\",\"barge_0\",null,\"barge_0\",\"barge_0\",\"barge_0\",\"barge_0\",null,\"barge_0\",\"barge_0\",\"barge_0\",\"barge_0\",null,\"barge_0\",\"barge_0\",\"barge_0\",\"barge_0\",null,\"barge_0\",\"barge_0\",\"barge_0\",\"barge_0\",null,\"barge_0\",\"barge_0\",\"barge_0\",\"barge_0\",null,\"barge_0\",\"barge_0\",\"barge_0\",\"barge_0\",null,\"barge_0\",\"barge_0\",\"barge_0\",\"barge_0\",null],\"type\":\"scatter\"},{\"connectgaps\":false,\"hoverinfo\":\"y+name\",\"line\":{\"color\":\"rgb(4,214,171)\",\"width\":10},\"mode\":\"lines\",\"name\":\"basic activity:barge_1\",\"x\":[\"1970-01-01T00:00:00\",\"1970-01-01T00:00:00\",\"1970-01-01T00:37:56\",\"1970-01-01T00:37:56\",\"1970-01-01T00:37:56\",\"1970-01-01T03:35:36\",\"1970-01-01T03:35:36\",\"1970-01-01T04:13:32\",\"1970-01-01T04:13:32\",\"1970-01-01T04:13:32\",\"1970-01-01T06:40:40\",\"1970-01-01T06:40:40\",\"1970-01-01T07:18:36\",\"1970-01-01T07:18:36\",\"1970-01-01T07:18:36\",\"1970-01-01T09:45:44\",\"1970-01-01T09:45:44\",\"1970-01-01T10:23:40\",\"1970-01-01T10:23:40\",\"1970-01-01T10:23:40\",\"1970-01-01T12:50:48\",\"1970-01-01T12:50:48\",\"1970-01-01T13:28:44\",\"1970-01-01T13:28:44\",\"1970-01-01T13:28:44\",\"1970-01-01T16:26:32\",\"1970-01-01T16:26:32\",\"1970-01-01T17:04:28\",\"1970-01-01T17:04:28\",\"1970-01-01T17:04:28\",\"1970-01-01T20:07:24\",\"1970-01-01T20:07:24\",\"1970-01-01T20:45:20\",\"1970-01-01T20:45:20\",\"1970-01-01T20:45:20\",\"1970-01-01T23:48:16\",\"1970-01-01T23:48:16\",\"1970-01-02T00:26:12\",\"1970-01-02T00:26:12\",\"1970-01-02T00:26:12\"],\"y\":[\"barge_1\",\"barge_1\",\"barge_1\",\"barge_1\",null,\"barge_1\",\"barge_1\",\"barge_1\",\"barge_1\",null,\"barge_1\",\"barge_1\",\"barge_1\",\"barge_1\",null,\"barge_1\",\"barge_1\",\"barge_1\",\"barge_1\",null,\"barge_1\",\"barge_1\",\"barge_1\",\"barge_1\",null,\"barge_1\",\"barge_1\",\"barge_1\",\"barge_1\",null,\"barge_1\",\"barge_1\",\"barge_1\",\"barge_1\",null,\"barge_1\",\"barge_1\",\"barge_1\",\"barge_1\",null],\"type\":\"scatter\"},{\"connectgaps\":false,\"hoverinfo\":\"y+name\",\"line\":{\"color\":\"rgb(18,228,185)\",\"width\":10},\"mode\":\"lines\",\"name\":\"sailing full:barge_1\",\"x\":[\"1970-01-01T02:19:44\",\"1970-01-01T02:19:44\",\"1970-01-01T02:57:40\",\"1970-01-01T02:57:40\",\"1970-01-01T02:57:40\",\"1970-01-01T05:24:48\",\"1970-01-01T05:24:48\",\"1970-01-01T06:02:44\",\"1970-01-01T06:02:44\",\"1970-01-01T06:02:44\",\"1970-01-01T08:29:52\",\"1970-01-01T08:29:52\",\"1970-01-01T09:07:48\",\"1970-01-01T09:07:48\",\"1970-01-01T09:07:48\",\"1970-01-01T11:34:56\",\"1970-01-01T11:34:56\",\"1970-01-01T12:12:52\",\"1970-01-01T12:12:52\",\"1970-01-01T12:12:52\",\"1970-01-01T15:10:40\",\"1970-01-01T15:10:40\",\"1970-01-01T15:48:36\",\"1970-01-01T15:48:36\",\"1970-01-01T15:48:36\",\"1970-01-01T18:51:32\",\"1970-01-01T18:51:32\",\"1970-01-01T19:29:28\",\"1970-01-01T19:29:28\",\"1970-01-01T19:29:28\",\"1970-01-01T22:32:24\",\"1970-01-01T22:32:24\",\"1970-01-01T23:10:20\",\"1970-01-01T23:10:20\",\"1970-01-01T23:10:20\",\"1970-01-02T02:13:16\",\"1970-01-02T02:13:16\",\"1970-01-02T02:51:12\",\"1970-01-02T02:51:12\",\"1970-01-02T02:51:12\"],\"y\":[\"barge_1\",\"barge_1\",\"barge_1\",\"barge_1\",null,\"barge_1\",\"barge_1\",\"barge_1\",\"barge_1\",null,\"barge_1\",\"barge_1\",\"barge_1\",\"barge_1\",null,\"barge_1\",\"barge_1\",\"barge_1\",\"barge_1\",null,\"barge_1\",\"barge_1\",\"barge_1\",\"barge_1\",null,\"barge_1\",\"barge_1\",\"barge_1\",\"barge_1\",null,\"barge_1\",\"barge_1\",\"barge_1\",\"barge_1\",null,\"barge_1\",\"barge_1\",\"barge_1\",\"barge_1\",null],\"type\":\"scatter\"},{\"connectgaps\":false,\"hoverinfo\":\"y+name\",\"line\":{\"color\":\"rgb(32,242,199)\",\"width\":10},\"mode\":\"lines\",\"name\":\"unloading:barge_1\",\"x\":[\"1970-01-01T02:57:40\",\"1970-01-01T02:57:40\",\"1970-01-01T03:35:36\",\"1970-01-01T03:35:36\",\"1970-01-01T03:35:36\",\"1970-01-01T06:02:44\",\"1970-01-01T06:02:44\",\"1970-01-01T06:40:40\",\"1970-01-01T06:40:40\",\"1970-01-01T06:40:40\",\"1970-01-01T09:07:48\",\"1970-01-01T09:07:48\",\"1970-01-01T09:45:44\",\"1970-01-01T09:45:44\",\"1970-01-01T09:45:44\",\"1970-01-01T12:12:52\",\"1970-01-01T12:12:52\",\"1970-01-01T12:50:48\",\"1970-01-01T12:50:48\",\"1970-01-01T12:50:48\",\"1970-01-01T15:48:36\",\"1970-01-01T15:48:36\",\"1970-01-01T16:26:32\",\"1970-01-01T16:26:32\",\"1970-01-01T16:26:32\",\"1970-01-01T19:29:28\",\"1970-01-01T19:29:28\",\"1970-01-01T20:07:24\",\"1970-01-01T20:07:24\",\"1970-01-01T20:07:24\",\"1970-01-01T23:10:20\",\"1970-01-01T23:10:20\",\"1970-01-01T23:48:16\",\"1970-01-01T23:48:16\",\"1970-01-01T23:48:16\",\"1970-01-02T02:51:12\",\"1970-01-02T02:51:12\",\"1970-01-02T03:29:08\",\"1970-01-02T03:29:08\",\"1970-01-02T03:29:08\"],\"y\":[\"barge_1\",\"barge_1\",\"barge_1\",\"barge_1\",null,\"barge_1\",\"barge_1\",\"barge_1\",\"barge_1\",null,\"barge_1\",\"barge_1\",\"barge_1\",\"barge_1\",null,\"barge_1\",\"barge_1\",\"barge_1\",\"barge_1\",null,\"barge_1\",\"barge_1\",\"barge_1\",\"barge_1\",null,\"barge_1\",\"barge_1\",\"barge_1\",\"barge_1\",null,\"barge_1\",\"barge_1\",\"barge_1\",\"barge_1\",null,\"barge_1\",\"barge_1\",\"barge_1\",\"barge_1\",null],\"type\":\"scatter\"},{\"connectgaps\":false,\"hoverinfo\":\"y+name\",\"line\":{\"color\":\"rgb(46,0,213)\",\"width\":10},\"mode\":\"lines\",\"name\":\"sailing empty:barge_1\",\"x\":[\"1970-01-01T00:37:56\",\"1970-01-01T00:37:56\",\"1970-01-01T01:15:52\",\"1970-01-01T01:15:52\",\"1970-01-01T01:15:52\",\"1970-01-01T04:13:32\",\"1970-01-01T04:13:32\",\"1970-01-01T04:51:28\",\"1970-01-01T04:51:28\",\"1970-01-01T04:51:28\",\"1970-01-01T07:18:36\",\"1970-01-01T07:18:36\",\"1970-01-01T07:56:32\",\"1970-01-01T07:56:32\",\"1970-01-01T07:56:32\",\"1970-01-01T10:23:40\",\"1970-01-01T10:23:40\",\"1970-01-01T11:01:36\",\"1970-01-01T11:01:36\",\"1970-01-01T11:01:36\",\"1970-01-01T13:28:44\",\"1970-01-01T13:28:44\",\"1970-01-01T14:06:40\",\"1970-01-01T14:06:40\",\"1970-01-01T14:06:40\",\"1970-01-01T17:04:28\",\"1970-01-01T17:04:28\",\"1970-01-01T17:42:24\",\"1970-01-01T17:42:24\",\"1970-01-01T17:42:24\",\"1970-01-01T20:45:20\",\"1970-01-01T20:45:20\",\"1970-01-01T21:23:16\",\"1970-01-01T21:23:16\",\"1970-01-01T21:23:16\",\"1970-01-02T00:26:12\",\"1970-01-02T00:26:12\",\"1970-01-02T01:04:08\",\"1970-01-02T01:04:08\",\"1970-01-02T01:04:08\"],\"y\":[\"barge_1\",\"barge_1\",\"barge_1\",\"barge_1\",null,\"barge_1\",\"barge_1\",\"barge_1\",\"barge_1\",null,\"barge_1\",\"barge_1\",\"barge_1\",\"barge_1\",null,\"barge_1\",\"barge_1\",\"barge_1\",\"barge_1\",null,\"barge_1\",\"barge_1\",\"barge_1\",\"barge_1\",null,\"barge_1\",\"barge_1\",\"barge_1\",\"barge_1\",null,\"barge_1\",\"barge_1\",\"barge_1\",\"barge_1\",null,\"barge_1\",\"barge_1\",\"barge_1\",\"barge_1\",null],\"type\":\"scatter\"},{\"connectgaps\":false,\"hoverinfo\":\"y+name\",\"line\":{\"color\":\"rgb(60,14,227)\",\"width\":10},\"mode\":\"lines\",\"name\":\"loading:barge_1\",\"x\":[\"1970-01-01T01:46:24\",\"1970-01-01T01:46:24\",\"1970-01-01T02:19:44\",\"1970-01-01T02:19:44\",\"1970-01-01T02:19:44\",\"1970-01-01T04:51:28\",\"1970-01-01T04:51:28\",\"1970-01-01T05:24:48\",\"1970-01-01T05:24:48\",\"1970-01-01T05:24:48\",\"1970-01-01T07:56:32\",\"1970-01-01T07:56:32\",\"1970-01-01T08:29:52\",\"1970-01-01T08:29:52\",\"1970-01-01T08:29:52\",\"1970-01-01T11:01:36\",\"1970-01-01T11:01:36\",\"1970-01-01T11:34:56\",\"1970-01-01T11:34:56\",\"1970-01-01T11:34:56\",\"1970-01-01T14:37:20\",\"1970-01-01T14:37:20\",\"1970-01-01T15:10:40\",\"1970-01-01T15:10:40\",\"1970-01-01T15:10:40\",\"1970-01-01T18:18:12\",\"1970-01-01T18:18:12\",\"1970-01-01T18:51:32\",\"1970-01-01T18:51:32\",\"1970-01-01T18:51:32\",\"1970-01-01T21:59:04\",\"1970-01-01T21:59:04\",\"1970-01-01T22:32:24\",\"1970-01-01T22:32:24\",\"1970-01-01T22:32:24\",\"1970-01-02T01:39:56\",\"1970-01-02T01:39:56\",\"1970-01-02T02:13:16\",\"1970-01-02T02:13:16\",\"1970-01-02T02:13:16\",\"1970-01-01T01:46:24\",\"1970-01-01T01:46:24\",\"1970-01-01T02:19:44\",\"1970-01-01T02:19:44\",\"1970-01-01T02:19:44\",\"1970-01-01T04:51:28\",\"1970-01-01T04:51:28\",\"1970-01-01T05:24:48\",\"1970-01-01T05:24:48\",\"1970-01-01T05:24:48\",\"1970-01-01T07:56:32\",\"1970-01-01T07:56:32\",\"1970-01-01T08:29:52\",\"1970-01-01T08:29:52\",\"1970-01-01T08:29:52\",\"1970-01-01T11:01:36\",\"1970-01-01T11:01:36\",\"1970-01-01T11:34:56\",\"1970-01-01T11:34:56\",\"1970-01-01T11:34:56\",\"1970-01-01T14:37:20\",\"1970-01-01T14:37:20\",\"1970-01-01T15:10:40\",\"1970-01-01T15:10:40\",\"1970-01-01T15:10:40\",\"1970-01-01T18:18:12\",\"1970-01-01T18:18:12\",\"1970-01-01T18:51:32\",\"1970-01-01T18:51:32\",\"1970-01-01T18:51:32\",\"1970-01-01T21:59:04\",\"1970-01-01T21:59:04\",\"1970-01-01T22:32:24\",\"1970-01-01T22:32:24\",\"1970-01-01T22:32:24\",\"1970-01-02T01:39:56\",\"1970-01-02T01:39:56\",\"1970-01-02T02:13:16\",\"1970-01-02T02:13:16\",\"1970-01-02T02:13:16\"],\"y\":[\"barge_1\",\"barge_1\",\"barge_1\",\"barge_1\",null,\"barge_1\",\"barge_1\",\"barge_1\",\"barge_1\",null,\"barge_1\",\"barge_1\",\"barge_1\",\"barge_1\",null,\"barge_1\",\"barge_1\",\"barge_1\",\"barge_1\",null,\"barge_1\",\"barge_1\",\"barge_1\",\"barge_1\",null,\"barge_1\",\"barge_1\",\"barge_1\",\"barge_1\",null,\"barge_1\",\"barge_1\",\"barge_1\",\"barge_1\",null,\"barge_1\",\"barge_1\",\"barge_1\",\"barge_1\",null,\"cutter\",\"cutter\",\"cutter\",\"cutter\",null,\"cutter\",\"cutter\",\"cutter\",\"cutter\",null,\"cutter\",\"cutter\",\"cutter\",\"cutter\",null,\"cutter\",\"cutter\",\"cutter\",\"cutter\",null,\"cutter\",\"cutter\",\"cutter\",\"cutter\",null,\"cutter\",\"cutter\",\"cutter\",\"cutter\",null,\"cutter\",\"cutter\",\"cutter\",\"cutter\",null,\"cutter\",\"cutter\",\"cutter\",\"cutter\",null],\"type\":\"scatter\"},{\"connectgaps\":false,\"hoverinfo\":\"y+name\",\"line\":{\"color\":\"rgb(74,28,241)\",\"width\":10},\"mode\":\"lines\",\"name\":\"sailing empty:barge_2\",\"x\":[\"1970-01-01T00:44:48\",\"1970-01-01T00:44:48\",\"1970-01-01T01:29:36\",\"1970-01-01T01:29:36\",\"1970-01-01T01:29:36\",\"1970-01-01T05:15:48\",\"1970-01-01T05:15:48\",\"1970-01-01T06:00:36\",\"1970-01-01T06:00:36\",\"1970-01-01T06:00:36\",\"1970-01-01T08:56:40\",\"1970-01-01T08:56:40\",\"1970-01-01T09:41:28\",\"1970-01-01T09:41:28\",\"1970-01-01T09:41:28\",\"1970-01-01T12:37:32\",\"1970-01-01T12:37:32\",\"1970-01-01T13:22:20\",\"1970-01-01T13:22:20\",\"1970-01-01T13:22:20\",\"1970-01-01T16:18:24\",\"1970-01-01T16:18:24\",\"1970-01-01T17:03:12\",\"1970-01-01T17:03:12\",\"1970-01-01T17:03:12\",\"1970-01-01T19:59:16\",\"1970-01-01T19:59:16\",\"1970-01-01T20:44:04\",\"1970-01-01T20:44:04\",\"1970-01-01T20:44:04\",\"1970-01-01T23:40:08\",\"1970-01-01T23:40:08\",\"1970-01-02T00:24:56\",\"1970-01-02T00:24:56\",\"1970-01-02T00:24:56\",\"1970-01-02T03:21:00\",\"1970-01-02T03:21:00\",\"1970-01-02T04:05:48\",\"1970-01-02T04:05:48\",\"1970-01-02T04:05:48\"],\"y\":[\"barge_2\",\"barge_2\",\"barge_2\",\"barge_2\",null,\"barge_2\",\"barge_2\",\"barge_2\",\"barge_2\",null,\"barge_2\",\"barge_2\",\"barge_2\",\"barge_2\",null,\"barge_2\",\"barge_2\",\"barge_2\",\"barge_2\",null,\"barge_2\",\"barge_2\",\"barge_2\",\"barge_2\",null,\"barge_2\",\"barge_2\",\"barge_2\",\"barge_2\",null,\"barge_2\",\"barge_2\",\"barge_2\",\"barge_2\",null,\"barge_2\",\"barge_2\",\"barge_2\",\"barge_2\",null],\"type\":\"scatter\"},{\"connectgaps\":false,\"hoverinfo\":\"y+name\",\"line\":{\"color\":\"rgb(88,42,255)\",\"width\":10},\"mode\":\"lines\",\"name\":\"sailing full:barge_2\",\"x\":[\"1970-01-01T03:01:24\",\"1970-01-01T03:01:24\",\"1970-01-01T03:46:12\",\"1970-01-01T03:46:12\",\"1970-01-01T03:46:12\",\"1970-01-01T06:42:16\",\"1970-01-01T06:42:16\",\"1970-01-01T07:27:04\",\"1970-01-01T07:27:04\",\"1970-01-01T07:27:04\",\"1970-01-01T10:23:08\",\"1970-01-01T10:23:08\",\"1970-01-01T11:07:56\",\"1970-01-01T11:07:56\",\"1970-01-01T11:07:56\",\"1970-01-01T14:04:00\",\"1970-01-01T14:04:00\",\"1970-01-01T14:48:48\",\"1970-01-01T14:48:48\",\"1970-01-01T14:48:48\",\"1970-01-01T17:44:52\",\"1970-01-01T17:44:52\",\"1970-01-01T18:29:40\",\"1970-01-01T18:29:40\",\"1970-01-01T18:29:40\",\"1970-01-01T21:25:44\",\"1970-01-01T21:25:44\",\"1970-01-01T22:10:32\",\"1970-01-01T22:10:32\",\"1970-01-01T22:10:32\",\"1970-01-02T01:06:36\",\"1970-01-02T01:06:36\",\"1970-01-02T01:51:24\",\"1970-01-02T01:51:24\",\"1970-01-02T01:51:24\",\"1970-01-02T04:47:28\",\"1970-01-02T04:47:28\",\"1970-01-02T05:32:16\",\"1970-01-02T05:32:16\",\"1970-01-02T05:32:16\"],\"y\":[\"barge_2\",\"barge_2\",\"barge_2\",\"barge_2\",null,\"barge_2\",\"barge_2\",\"barge_2\",\"barge_2\",null,\"barge_2\",\"barge_2\",\"barge_2\",\"barge_2\",null,\"barge_2\",\"barge_2\",\"barge_2\",\"barge_2\",null,\"barge_2\",\"barge_2\",\"barge_2\",\"barge_2\",null,\"barge_2\",\"barge_2\",\"barge_2\",\"barge_2\",null,\"barge_2\",\"barge_2\",\"barge_2\",\"barge_2\",null,\"barge_2\",\"barge_2\",\"barge_2\",\"barge_2\",null],\"type\":\"scatter\"},{\"connectgaps\":false,\"hoverinfo\":\"y+name\",\"line\":{\"color\":\"rgb(102,56,13)\",\"width\":10},\"mode\":\"lines\",\"name\":\"loading:barge_2\",\"x\":[\"1970-01-01T02:19:44\",\"1970-01-01T02:19:44\",\"1970-01-01T03:01:24\",\"1970-01-01T03:01:24\",\"1970-01-01T03:01:24\",\"1970-01-01T06:00:36\",\"1970-01-01T06:00:36\",\"1970-01-01T06:42:16\",\"1970-01-01T06:42:16\",\"1970-01-01T06:42:16\",\"1970-01-01T09:41:28\",\"1970-01-01T09:41:28\",\"1970-01-01T10:23:08\",\"1970-01-01T10:23:08\",\"1970-01-01T10:23:08\",\"1970-01-01T13:22:20\",\"1970-01-01T13:22:20\",\"1970-01-01T14:04:00\",\"1970-01-01T14:04:00\",\"1970-01-01T14:04:00\",\"1970-01-01T17:03:12\",\"1970-01-01T17:03:12\",\"1970-01-01T17:44:52\",\"1970-01-01T17:44:52\",\"1970-01-01T17:44:52\",\"1970-01-01T20:44:04\",\"1970-01-01T20:44:04\",\"1970-01-01T21:25:44\",\"1970-01-01T21:25:44\",\"1970-01-01T21:25:44\",\"1970-01-02T00:24:56\",\"1970-01-02T00:24:56\",\"1970-01-02T01:06:36\",\"1970-01-02T01:06:36\",\"1970-01-02T01:06:36\",\"1970-01-02T04:05:48\",\"1970-01-02T04:05:48\",\"1970-01-02T04:47:28\",\"1970-01-02T04:47:28\",\"1970-01-02T04:47:28\",\"1970-01-01T02:19:44\",\"1970-01-01T02:19:44\",\"1970-01-01T03:01:24\",\"1970-01-01T03:01:24\",\"1970-01-01T03:01:24\",\"1970-01-01T06:00:36\",\"1970-01-01T06:00:36\",\"1970-01-01T06:42:16\",\"1970-01-01T06:42:16\",\"1970-01-01T06:42:16\",\"1970-01-01T09:41:28\",\"1970-01-01T09:41:28\",\"1970-01-01T10:23:08\",\"1970-01-01T10:23:08\",\"1970-01-01T10:23:08\",\"1970-01-01T13:22:20\",\"1970-01-01T13:22:20\",\"1970-01-01T14:04:00\",\"1970-01-01T14:04:00\",\"1970-01-01T14:04:00\",\"1970-01-01T17:03:12\",\"1970-01-01T17:03:12\",\"1970-01-01T17:44:52\",\"1970-01-01T17:44:52\",\"1970-01-01T17:44:52\",\"1970-01-01T20:44:04\",\"1970-01-01T20:44:04\",\"1970-01-01T21:25:44\",\"1970-01-01T21:25:44\",\"1970-01-01T21:25:44\",\"1970-01-02T00:24:56\",\"1970-01-02T00:24:56\",\"1970-01-02T01:06:36\",\"1970-01-02T01:06:36\",\"1970-01-02T01:06:36\",\"1970-01-02T04:05:48\",\"1970-01-02T04:05:48\",\"1970-01-02T04:47:28\",\"1970-01-02T04:47:28\",\"1970-01-02T04:47:28\"],\"y\":[\"barge_2\",\"barge_2\",\"barge_2\",\"barge_2\",null,\"barge_2\",\"barge_2\",\"barge_2\",\"barge_2\",null,\"barge_2\",\"barge_2\",\"barge_2\",\"barge_2\",null,\"barge_2\",\"barge_2\",\"barge_2\",\"barge_2\",null,\"barge_2\",\"barge_2\",\"barge_2\",\"barge_2\",null,\"barge_2\",\"barge_2\",\"barge_2\",\"barge_2\",null,\"barge_2\",\"barge_2\",\"barge_2\",\"barge_2\",null,\"barge_2\",\"barge_2\",\"barge_2\",\"barge_2\",null,\"cutter\",\"cutter\",\"cutter\",\"cutter\",null,\"cutter\",\"cutter\",\"cutter\",\"cutter\",null,\"cutter\",\"cutter\",\"cutter\",\"cutter\",null,\"cutter\",\"cutter\",\"cutter\",\"cutter\",null,\"cutter\",\"cutter\",\"cutter\",\"cutter\",null,\"cutter\",\"cutter\",\"cutter\",\"cutter\",null,\"cutter\",\"cutter\",\"cutter\",\"cutter\",null,\"cutter\",\"cutter\",\"cutter\",\"cutter\",null],\"type\":\"scatter\"},{\"connectgaps\":false,\"hoverinfo\":\"y+name\",\"line\":{\"color\":\"rgb(116,70,27)\",\"width\":10},\"mode\":\"lines\",\"name\":\"basic activity:barge_2\",\"x\":[\"1970-01-01T00:00:00\",\"1970-01-01T00:00:00\",\"1970-01-01T00:44:48\",\"1970-01-01T00:44:48\",\"1970-01-01T00:44:48\",\"1970-01-01T04:31:00\",\"1970-01-01T04:31:00\",\"1970-01-01T05:15:48\",\"1970-01-01T05:15:48\",\"1970-01-01T05:15:48\",\"1970-01-01T08:11:52\",\"1970-01-01T08:11:52\",\"1970-01-01T08:56:40\",\"1970-01-01T08:56:40\",\"1970-01-01T08:56:40\",\"1970-01-01T11:52:44\",\"1970-01-01T11:52:44\",\"1970-01-01T12:37:32\",\"1970-01-01T12:37:32\",\"1970-01-01T12:37:32\",\"1970-01-01T15:33:36\",\"1970-01-01T15:33:36\",\"1970-01-01T16:18:24\",\"1970-01-01T16:18:24\",\"1970-01-01T16:18:24\",\"1970-01-01T19:14:28\",\"1970-01-01T19:14:28\",\"1970-01-01T19:59:16\",\"1970-01-01T19:59:16\",\"1970-01-01T19:59:16\",\"1970-01-01T22:55:20\",\"1970-01-01T22:55:20\",\"1970-01-01T23:40:08\",\"1970-01-01T23:40:08\",\"1970-01-01T23:40:08\",\"1970-01-02T02:36:12\",\"1970-01-02T02:36:12\",\"1970-01-02T03:21:00\",\"1970-01-02T03:21:00\",\"1970-01-02T03:21:00\"],\"y\":[\"barge_2\",\"barge_2\",\"barge_2\",\"barge_2\",null,\"barge_2\",\"barge_2\",\"barge_2\",\"barge_2\",null,\"barge_2\",\"barge_2\",\"barge_2\",\"barge_2\",null,\"barge_2\",\"barge_2\",\"barge_2\",\"barge_2\",null,\"barge_2\",\"barge_2\",\"barge_2\",\"barge_2\",null,\"barge_2\",\"barge_2\",\"barge_2\",\"barge_2\",null,\"barge_2\",\"barge_2\",\"barge_2\",\"barge_2\",null,\"barge_2\",\"barge_2\",\"barge_2\",\"barge_2\",null],\"type\":\"scatter\"},{\"connectgaps\":false,\"hoverinfo\":\"y+name\",\"line\":{\"color\":\"rgb(130,84,41)\",\"width\":10},\"mode\":\"lines\",\"name\":\"unloading:barge_2\",\"x\":[\"1970-01-01T03:46:12\",\"1970-01-01T03:46:12\",\"1970-01-01T04:31:00\",\"1970-01-01T04:31:00\",\"1970-01-01T04:31:00\",\"1970-01-01T07:27:04\",\"1970-01-01T07:27:04\",\"1970-01-01T08:11:52\",\"1970-01-01T08:11:52\",\"1970-01-01T08:11:52\",\"1970-01-01T11:07:56\",\"1970-01-01T11:07:56\",\"1970-01-01T11:52:44\",\"1970-01-01T11:52:44\",\"1970-01-01T11:52:44\",\"1970-01-01T14:48:48\",\"1970-01-01T14:48:48\",\"1970-01-01T15:33:36\",\"1970-01-01T15:33:36\",\"1970-01-01T15:33:36\",\"1970-01-01T18:29:40\",\"1970-01-01T18:29:40\",\"1970-01-01T19:14:28\",\"1970-01-01T19:14:28\",\"1970-01-01T19:14:28\",\"1970-01-01T22:10:32\",\"1970-01-01T22:10:32\",\"1970-01-01T22:55:20\",\"1970-01-01T22:55:20\",\"1970-01-01T22:55:20\",\"1970-01-02T01:51:24\",\"1970-01-02T01:51:24\",\"1970-01-02T02:36:12\",\"1970-01-02T02:36:12\",\"1970-01-02T02:36:12\",\"1970-01-02T05:32:16\",\"1970-01-02T05:32:16\",\"1970-01-02T06:17:04\",\"1970-01-02T06:17:04\",\"1970-01-02T06:17:04\"],\"y\":[\"barge_2\",\"barge_2\",\"barge_2\",\"barge_2\",null,\"barge_2\",\"barge_2\",\"barge_2\",\"barge_2\",null,\"barge_2\",\"barge_2\",\"barge_2\",\"barge_2\",null,\"barge_2\",\"barge_2\",\"barge_2\",\"barge_2\",null,\"barge_2\",\"barge_2\",\"barge_2\",\"barge_2\",null,\"barge_2\",\"barge_2\",\"barge_2\",\"barge_2\",null,\"barge_2\",\"barge_2\",\"barge_2\",\"barge_2\",null,\"barge_2\",\"barge_2\",\"barge_2\",\"barge_2\",null],\"type\":\"scatter\"},{\"connectgaps\":false,\"hoverinfo\":\"y+name\",\"line\":{\"color\":\"rgb(144,98,55)\",\"width\":10},\"mode\":\"lines\",\"name\":\"loading:barge_1\",\"x\":[\"1970-01-01T01:46:24\",\"1970-01-01T01:46:24\",\"1970-01-01T02:19:44\",\"1970-01-01T02:19:44\",\"1970-01-01T02:19:44\",\"1970-01-01T04:51:28\",\"1970-01-01T04:51:28\",\"1970-01-01T05:24:48\",\"1970-01-01T05:24:48\",\"1970-01-01T05:24:48\",\"1970-01-01T07:56:32\",\"1970-01-01T07:56:32\",\"1970-01-01T08:29:52\",\"1970-01-01T08:29:52\",\"1970-01-01T08:29:52\",\"1970-01-01T11:01:36\",\"1970-01-01T11:01:36\",\"1970-01-01T11:34:56\",\"1970-01-01T11:34:56\",\"1970-01-01T11:34:56\",\"1970-01-01T14:37:20\",\"1970-01-01T14:37:20\",\"1970-01-01T15:10:40\",\"1970-01-01T15:10:40\",\"1970-01-01T15:10:40\",\"1970-01-01T18:18:12\",\"1970-01-01T18:18:12\",\"1970-01-01T18:51:32\",\"1970-01-01T18:51:32\",\"1970-01-01T18:51:32\",\"1970-01-01T21:59:04\",\"1970-01-01T21:59:04\",\"1970-01-01T22:32:24\",\"1970-01-01T22:32:24\",\"1970-01-01T22:32:24\",\"1970-01-02T01:39:56\",\"1970-01-02T01:39:56\",\"1970-01-02T02:13:16\",\"1970-01-02T02:13:16\",\"1970-01-02T02:13:16\",\"1970-01-01T01:46:24\",\"1970-01-01T01:46:24\",\"1970-01-01T02:19:44\",\"1970-01-01T02:19:44\",\"1970-01-01T02:19:44\",\"1970-01-01T04:51:28\",\"1970-01-01T04:51:28\",\"1970-01-01T05:24:48\",\"1970-01-01T05:24:48\",\"1970-01-01T05:24:48\",\"1970-01-01T07:56:32\",\"1970-01-01T07:56:32\",\"1970-01-01T08:29:52\",\"1970-01-01T08:29:52\",\"1970-01-01T08:29:52\",\"1970-01-01T11:01:36\",\"1970-01-01T11:01:36\",\"1970-01-01T11:34:56\",\"1970-01-01T11:34:56\",\"1970-01-01T11:34:56\",\"1970-01-01T14:37:20\",\"1970-01-01T14:37:20\",\"1970-01-01T15:10:40\",\"1970-01-01T15:10:40\",\"1970-01-01T15:10:40\",\"1970-01-01T18:18:12\",\"1970-01-01T18:18:12\",\"1970-01-01T18:51:32\",\"1970-01-01T18:51:32\",\"1970-01-01T18:51:32\",\"1970-01-01T21:59:04\",\"1970-01-01T21:59:04\",\"1970-01-01T22:32:24\",\"1970-01-01T22:32:24\",\"1970-01-01T22:32:24\",\"1970-01-02T01:39:56\",\"1970-01-02T01:39:56\",\"1970-01-02T02:13:16\",\"1970-01-02T02:13:16\",\"1970-01-02T02:13:16\"],\"y\":[\"barge_1\",\"barge_1\",\"barge_1\",\"barge_1\",null,\"barge_1\",\"barge_1\",\"barge_1\",\"barge_1\",null,\"barge_1\",\"barge_1\",\"barge_1\",\"barge_1\",null,\"barge_1\",\"barge_1\",\"barge_1\",\"barge_1\",null,\"barge_1\",\"barge_1\",\"barge_1\",\"barge_1\",null,\"barge_1\",\"barge_1\",\"barge_1\",\"barge_1\",null,\"barge_1\",\"barge_1\",\"barge_1\",\"barge_1\",null,\"barge_1\",\"barge_1\",\"barge_1\",\"barge_1\",null,\"cutter\",\"cutter\",\"cutter\",\"cutter\",null,\"cutter\",\"cutter\",\"cutter\",\"cutter\",null,\"cutter\",\"cutter\",\"cutter\",\"cutter\",null,\"cutter\",\"cutter\",\"cutter\",\"cutter\",null,\"cutter\",\"cutter\",\"cutter\",\"cutter\",null,\"cutter\",\"cutter\",\"cutter\",\"cutter\",null,\"cutter\",\"cutter\",\"cutter\",\"cutter\",null,\"cutter\",\"cutter\",\"cutter\",\"cutter\",null],\"type\":\"scatter\"},{\"connectgaps\":false,\"hoverinfo\":\"y+name\",\"line\":{\"color\":\"rgb(158,112,69)\",\"width\":10},\"mode\":\"lines\",\"name\":\"loading:barge_0\",\"x\":[\"1970-01-01T01:13:04\",\"1970-01-01T01:13:04\",\"1970-01-01T01:46:24\",\"1970-01-01T01:46:24\",\"1970-01-01T01:46:24\",\"1970-01-01T04:12:32\",\"1970-01-01T04:12:32\",\"1970-01-01T04:45:52\",\"1970-01-01T04:45:52\",\"1970-01-01T04:45:52\",\"1970-01-01T07:12:00\",\"1970-01-01T07:12:00\",\"1970-01-01T07:45:20\",\"1970-01-01T07:45:20\",\"1970-01-01T07:45:20\",\"1970-01-01T10:23:08\",\"1970-01-01T10:23:08\",\"1970-01-01T10:56:28\",\"1970-01-01T10:56:28\",\"1970-01-01T10:56:28\",\"1970-01-01T14:04:00\",\"1970-01-01T14:04:00\",\"1970-01-01T14:37:20\",\"1970-01-01T14:37:20\",\"1970-01-01T14:37:20\",\"1970-01-01T17:44:52\",\"1970-01-01T17:44:52\",\"1970-01-01T18:18:12\",\"1970-01-01T18:18:12\",\"1970-01-01T18:18:12\",\"1970-01-01T21:25:44\",\"1970-01-01T21:25:44\",\"1970-01-01T21:59:04\",\"1970-01-01T21:59:04\",\"1970-01-01T21:59:04\",\"1970-01-02T01:06:36\",\"1970-01-02T01:06:36\",\"1970-01-02T01:39:56\",\"1970-01-02T01:39:56\",\"1970-01-02T01:39:56\",\"1970-01-01T01:13:04\",\"1970-01-01T01:13:04\",\"1970-01-01T01:46:24\",\"1970-01-01T01:46:24\",\"1970-01-01T01:46:24\",\"1970-01-01T04:12:32\",\"1970-01-01T04:12:32\",\"1970-01-01T04:45:52\",\"1970-01-01T04:45:52\",\"1970-01-01T04:45:52\",\"1970-01-01T07:12:00\",\"1970-01-01T07:12:00\",\"1970-01-01T07:45:20\",\"1970-01-01T07:45:20\",\"1970-01-01T07:45:20\",\"1970-01-01T10:23:08\",\"1970-01-01T10:23:08\",\"1970-01-01T10:56:28\",\"1970-01-01T10:56:28\",\"1970-01-01T10:56:28\",\"1970-01-01T14:04:00\",\"1970-01-01T14:04:00\",\"1970-01-01T14:37:20\",\"1970-01-01T14:37:20\",\"1970-01-01T14:37:20\",\"1970-01-01T17:44:52\",\"1970-01-01T17:44:52\",\"1970-01-01T18:18:12\",\"1970-01-01T18:18:12\",\"1970-01-01T18:18:12\",\"1970-01-01T21:25:44\",\"1970-01-01T21:25:44\",\"1970-01-01T21:59:04\",\"1970-01-01T21:59:04\",\"1970-01-01T21:59:04\",\"1970-01-02T01:06:36\",\"1970-01-02T01:06:36\",\"1970-01-02T01:39:56\",\"1970-01-02T01:39:56\",\"1970-01-02T01:39:56\"],\"y\":[\"barge_0\",\"barge_0\",\"barge_0\",\"barge_0\",null,\"barge_0\",\"barge_0\",\"barge_0\",\"barge_0\",null,\"barge_0\",\"barge_0\",\"barge_0\",\"barge_0\",null,\"barge_0\",\"barge_0\",\"barge_0\",\"barge_0\",null,\"barge_0\",\"barge_0\",\"barge_0\",\"barge_0\",null,\"barge_0\",\"barge_0\",\"barge_0\",\"barge_0\",null,\"barge_0\",\"barge_0\",\"barge_0\",\"barge_0\",null,\"barge_0\",\"barge_0\",\"barge_0\",\"barge_0\",null,\"cutter\",\"cutter\",\"cutter\",\"cutter\",null,\"cutter\",\"cutter\",\"cutter\",\"cutter\",null,\"cutter\",\"cutter\",\"cutter\",\"cutter\",null,\"cutter\",\"cutter\",\"cutter\",\"cutter\",null,\"cutter\",\"cutter\",\"cutter\",\"cutter\",null,\"cutter\",\"cutter\",\"cutter\",\"cutter\",null,\"cutter\",\"cutter\",\"cutter\",\"cutter\",null,\"cutter\",\"cutter\",\"cutter\",\"cutter\",null],\"type\":\"scatter\"},{\"connectgaps\":false,\"hoverinfo\":\"y+name\",\"line\":{\"color\":\"rgb(172,126,83)\",\"width\":10},\"mode\":\"lines\",\"name\":\"loading:barge_2\",\"x\":[\"1970-01-01T02:19:44\",\"1970-01-01T02:19:44\",\"1970-01-01T03:01:24\",\"1970-01-01T03:01:24\",\"1970-01-01T03:01:24\",\"1970-01-01T06:00:36\",\"1970-01-01T06:00:36\",\"1970-01-01T06:42:16\",\"1970-01-01T06:42:16\",\"1970-01-01T06:42:16\",\"1970-01-01T09:41:28\",\"1970-01-01T09:41:28\",\"1970-01-01T10:23:08\",\"1970-01-01T10:23:08\",\"1970-01-01T10:23:08\",\"1970-01-01T13:22:20\",\"1970-01-01T13:22:20\",\"1970-01-01T14:04:00\",\"1970-01-01T14:04:00\",\"1970-01-01T14:04:00\",\"1970-01-01T17:03:12\",\"1970-01-01T17:03:12\",\"1970-01-01T17:44:52\",\"1970-01-01T17:44:52\",\"1970-01-01T17:44:52\",\"1970-01-01T20:44:04\",\"1970-01-01T20:44:04\",\"1970-01-01T21:25:44\",\"1970-01-01T21:25:44\",\"1970-01-01T21:25:44\",\"1970-01-02T00:24:56\",\"1970-01-02T00:24:56\",\"1970-01-02T01:06:36\",\"1970-01-02T01:06:36\",\"1970-01-02T01:06:36\",\"1970-01-02T04:05:48\",\"1970-01-02T04:05:48\",\"1970-01-02T04:47:28\",\"1970-01-02T04:47:28\",\"1970-01-02T04:47:28\",\"1970-01-01T02:19:44\",\"1970-01-01T02:19:44\",\"1970-01-01T03:01:24\",\"1970-01-01T03:01:24\",\"1970-01-01T03:01:24\",\"1970-01-01T06:00:36\",\"1970-01-01T06:00:36\",\"1970-01-01T06:42:16\",\"1970-01-01T06:42:16\",\"1970-01-01T06:42:16\",\"1970-01-01T09:41:28\",\"1970-01-01T09:41:28\",\"1970-01-01T10:23:08\",\"1970-01-01T10:23:08\",\"1970-01-01T10:23:08\",\"1970-01-01T13:22:20\",\"1970-01-01T13:22:20\",\"1970-01-01T14:04:00\",\"1970-01-01T14:04:00\",\"1970-01-01T14:04:00\",\"1970-01-01T17:03:12\",\"1970-01-01T17:03:12\",\"1970-01-01T17:44:52\",\"1970-01-01T17:44:52\",\"1970-01-01T17:44:52\",\"1970-01-01T20:44:04\",\"1970-01-01T20:44:04\",\"1970-01-01T21:25:44\",\"1970-01-01T21:25:44\",\"1970-01-01T21:25:44\",\"1970-01-02T00:24:56\",\"1970-01-02T00:24:56\",\"1970-01-02T01:06:36\",\"1970-01-02T01:06:36\",\"1970-01-02T01:06:36\",\"1970-01-02T04:05:48\",\"1970-01-02T04:05:48\",\"1970-01-02T04:47:28\",\"1970-01-02T04:47:28\",\"1970-01-02T04:47:28\"],\"y\":[\"barge_2\",\"barge_2\",\"barge_2\",\"barge_2\",null,\"barge_2\",\"barge_2\",\"barge_2\",\"barge_2\",null,\"barge_2\",\"barge_2\",\"barge_2\",\"barge_2\",null,\"barge_2\",\"barge_2\",\"barge_2\",\"barge_2\",null,\"barge_2\",\"barge_2\",\"barge_2\",\"barge_2\",null,\"barge_2\",\"barge_2\",\"barge_2\",\"barge_2\",null,\"barge_2\",\"barge_2\",\"barge_2\",\"barge_2\",null,\"barge_2\",\"barge_2\",\"barge_2\",\"barge_2\",null,\"cutter\",\"cutter\",\"cutter\",\"cutter\",null,\"cutter\",\"cutter\",\"cutter\",\"cutter\",null,\"cutter\",\"cutter\",\"cutter\",\"cutter\",null,\"cutter\",\"cutter\",\"cutter\",\"cutter\",null,\"cutter\",\"cutter\",\"cutter\",\"cutter\",null,\"cutter\",\"cutter\",\"cutter\",\"cutter\",null,\"cutter\",\"cutter\",\"cutter\",\"cutter\",null,\"cutter\",\"cutter\",\"cutter\",\"cutter\",null],\"type\":\"scatter\"}],                        {\"hovermode\":\"closest\",\"legend\":{\"orientation\":\"h\",\"x\":0,\"y\":-0.2},\"template\":{\"data\":{\"barpolar\":[{\"marker\":{\"line\":{\"color\":\"#E5ECF6\",\"width\":0.5},\"pattern\":{\"fillmode\":\"overlay\",\"size\":10,\"solidity\":0.2}},\"type\":\"barpolar\"}],\"bar\":[{\"error_x\":{\"color\":\"#2a3f5f\"},\"error_y\":{\"color\":\"#2a3f5f\"},\"marker\":{\"line\":{\"color\":\"#E5ECF6\",\"width\":0.5},\"pattern\":{\"fillmode\":\"overlay\",\"size\":10,\"solidity\":0.2}},\"type\":\"bar\"}],\"carpet\":[{\"aaxis\":{\"endlinecolor\":\"#2a3f5f\",\"gridcolor\":\"white\",\"linecolor\":\"white\",\"minorgridcolor\":\"white\",\"startlinecolor\":\"#2a3f5f\"},\"baxis\":{\"endlinecolor\":\"#2a3f5f\",\"gridcolor\":\"white\",\"linecolor\":\"white\",\"minorgridcolor\":\"white\",\"startlinecolor\":\"#2a3f5f\"},\"type\":\"carpet\"}],\"choropleth\":[{\"colorbar\":{\"outlinewidth\":0,\"ticks\":\"\"},\"type\":\"choropleth\"}],\"contourcarpet\":[{\"colorbar\":{\"outlinewidth\":0,\"ticks\":\"\"},\"type\":\"contourcarpet\"}],\"contour\":[{\"colorbar\":{\"outlinewidth\":0,\"ticks\":\"\"},\"colorscale\":[[0.0,\"#0d0887\"],[0.1111111111111111,\"#46039f\"],[0.2222222222222222,\"#7201a8\"],[0.3333333333333333,\"#9c179e\"],[0.4444444444444444,\"#bd3786\"],[0.5555555555555556,\"#d8576b\"],[0.6666666666666666,\"#ed7953\"],[0.7777777777777778,\"#fb9f3a\"],[0.8888888888888888,\"#fdca26\"],[1.0,\"#f0f921\"]],\"type\":\"contour\"}],\"heatmapgl\":[{\"colorbar\":{\"outlinewidth\":0,\"ticks\":\"\"},\"colorscale\":[[0.0,\"#0d0887\"],[0.1111111111111111,\"#46039f\"],[0.2222222222222222,\"#7201a8\"],[0.3333333333333333,\"#9c179e\"],[0.4444444444444444,\"#bd3786\"],[0.5555555555555556,\"#d8576b\"],[0.6666666666666666,\"#ed7953\"],[0.7777777777777778,\"#fb9f3a\"],[0.8888888888888888,\"#fdca26\"],[1.0,\"#f0f921\"]],\"type\":\"heatmapgl\"}],\"heatmap\":[{\"colorbar\":{\"outlinewidth\":0,\"ticks\":\"\"},\"colorscale\":[[0.0,\"#0d0887\"],[0.1111111111111111,\"#46039f\"],[0.2222222222222222,\"#7201a8\"],[0.3333333333333333,\"#9c179e\"],[0.4444444444444444,\"#bd3786\"],[0.5555555555555556,\"#d8576b\"],[0.6666666666666666,\"#ed7953\"],[0.7777777777777778,\"#fb9f3a\"],[0.8888888888888888,\"#fdca26\"],[1.0,\"#f0f921\"]],\"type\":\"heatmap\"}],\"histogram2dcontour\":[{\"colorbar\":{\"outlinewidth\":0,\"ticks\":\"\"},\"colorscale\":[[0.0,\"#0d0887\"],[0.1111111111111111,\"#46039f\"],[0.2222222222222222,\"#7201a8\"],[0.3333333333333333,\"#9c179e\"],[0.4444444444444444,\"#bd3786\"],[0.5555555555555556,\"#d8576b\"],[0.6666666666666666,\"#ed7953\"],[0.7777777777777778,\"#fb9f3a\"],[0.8888888888888888,\"#fdca26\"],[1.0,\"#f0f921\"]],\"type\":\"histogram2dcontour\"}],\"histogram2d\":[{\"colorbar\":{\"outlinewidth\":0,\"ticks\":\"\"},\"colorscale\":[[0.0,\"#0d0887\"],[0.1111111111111111,\"#46039f\"],[0.2222222222222222,\"#7201a8\"],[0.3333333333333333,\"#9c179e\"],[0.4444444444444444,\"#bd3786\"],[0.5555555555555556,\"#d8576b\"],[0.6666666666666666,\"#ed7953\"],[0.7777777777777778,\"#fb9f3a\"],[0.8888888888888888,\"#fdca26\"],[1.0,\"#f0f921\"]],\"type\":\"histogram2d\"}],\"histogram\":[{\"marker\":{\"pattern\":{\"fillmode\":\"overlay\",\"size\":10,\"solidity\":0.2}},\"type\":\"histogram\"}],\"mesh3d\":[{\"colorbar\":{\"outlinewidth\":0,\"ticks\":\"\"},\"type\":\"mesh3d\"}],\"parcoords\":[{\"line\":{\"colorbar\":{\"outlinewidth\":0,\"ticks\":\"\"}},\"type\":\"parcoords\"}],\"pie\":[{\"automargin\":true,\"type\":\"pie\"}],\"scatter3d\":[{\"line\":{\"colorbar\":{\"outlinewidth\":0,\"ticks\":\"\"}},\"marker\":{\"colorbar\":{\"outlinewidth\":0,\"ticks\":\"\"}},\"type\":\"scatter3d\"}],\"scattercarpet\":[{\"marker\":{\"colorbar\":{\"outlinewidth\":0,\"ticks\":\"\"}},\"type\":\"scattercarpet\"}],\"scattergeo\":[{\"marker\":{\"colorbar\":{\"outlinewidth\":0,\"ticks\":\"\"}},\"type\":\"scattergeo\"}],\"scattergl\":[{\"marker\":{\"colorbar\":{\"outlinewidth\":0,\"ticks\":\"\"}},\"type\":\"scattergl\"}],\"scattermapbox\":[{\"marker\":{\"colorbar\":{\"outlinewidth\":0,\"ticks\":\"\"}},\"type\":\"scattermapbox\"}],\"scatterpolargl\":[{\"marker\":{\"colorbar\":{\"outlinewidth\":0,\"ticks\":\"\"}},\"type\":\"scatterpolargl\"}],\"scatterpolar\":[{\"marker\":{\"colorbar\":{\"outlinewidth\":0,\"ticks\":\"\"}},\"type\":\"scatterpolar\"}],\"scatter\":[{\"marker\":{\"colorbar\":{\"outlinewidth\":0,\"ticks\":\"\"}},\"type\":\"scatter\"}],\"scatterternary\":[{\"marker\":{\"colorbar\":{\"outlinewidth\":0,\"ticks\":\"\"}},\"type\":\"scatterternary\"}],\"surface\":[{\"colorbar\":{\"outlinewidth\":0,\"ticks\":\"\"},\"colorscale\":[[0.0,\"#0d0887\"],[0.1111111111111111,\"#46039f\"],[0.2222222222222222,\"#7201a8\"],[0.3333333333333333,\"#9c179e\"],[0.4444444444444444,\"#bd3786\"],[0.5555555555555556,\"#d8576b\"],[0.6666666666666666,\"#ed7953\"],[0.7777777777777778,\"#fb9f3a\"],[0.8888888888888888,\"#fdca26\"],[1.0,\"#f0f921\"]],\"type\":\"surface\"}],\"table\":[{\"cells\":{\"fill\":{\"color\":\"#EBF0F8\"},\"line\":{\"color\":\"white\"}},\"header\":{\"fill\":{\"color\":\"#C8D4E3\"},\"line\":{\"color\":\"white\"}},\"type\":\"table\"}]},\"layout\":{\"annotationdefaults\":{\"arrowcolor\":\"#2a3f5f\",\"arrowhead\":0,\"arrowwidth\":1},\"autotypenumbers\":\"strict\",\"coloraxis\":{\"colorbar\":{\"outlinewidth\":0,\"ticks\":\"\"}},\"colorscale\":{\"diverging\":[[0,\"#8e0152\"],[0.1,\"#c51b7d\"],[0.2,\"#de77ae\"],[0.3,\"#f1b6da\"],[0.4,\"#fde0ef\"],[0.5,\"#f7f7f7\"],[0.6,\"#e6f5d0\"],[0.7,\"#b8e186\"],[0.8,\"#7fbc41\"],[0.9,\"#4d9221\"],[1,\"#276419\"]],\"sequential\":[[0.0,\"#0d0887\"],[0.1111111111111111,\"#46039f\"],[0.2222222222222222,\"#7201a8\"],[0.3333333333333333,\"#9c179e\"],[0.4444444444444444,\"#bd3786\"],[0.5555555555555556,\"#d8576b\"],[0.6666666666666666,\"#ed7953\"],[0.7777777777777778,\"#fb9f3a\"],[0.8888888888888888,\"#fdca26\"],[1.0,\"#f0f921\"]],\"sequentialminus\":[[0.0,\"#0d0887\"],[0.1111111111111111,\"#46039f\"],[0.2222222222222222,\"#7201a8\"],[0.3333333333333333,\"#9c179e\"],[0.4444444444444444,\"#bd3786\"],[0.5555555555555556,\"#d8576b\"],[0.6666666666666666,\"#ed7953\"],[0.7777777777777778,\"#fb9f3a\"],[0.8888888888888888,\"#fdca26\"],[1.0,\"#f0f921\"]]},\"colorway\":[\"#636efa\",\"#EF553B\",\"#00cc96\",\"#ab63fa\",\"#FFA15A\",\"#19d3f3\",\"#FF6692\",\"#B6E880\",\"#FF97FF\",\"#FECB52\"],\"font\":{\"color\":\"#2a3f5f\"},\"geo\":{\"bgcolor\":\"white\",\"lakecolor\":\"white\",\"landcolor\":\"#E5ECF6\",\"showlakes\":true,\"showland\":true,\"subunitcolor\":\"white\"},\"hoverlabel\":{\"align\":\"left\"},\"hovermode\":\"closest\",\"mapbox\":{\"style\":\"light\"},\"paper_bgcolor\":\"white\",\"plot_bgcolor\":\"#E5ECF6\",\"polar\":{\"angularaxis\":{\"gridcolor\":\"white\",\"linecolor\":\"white\",\"ticks\":\"\"},\"bgcolor\":\"#E5ECF6\",\"radialaxis\":{\"gridcolor\":\"white\",\"linecolor\":\"white\",\"ticks\":\"\"}},\"scene\":{\"xaxis\":{\"backgroundcolor\":\"#E5ECF6\",\"gridcolor\":\"white\",\"gridwidth\":2,\"linecolor\":\"white\",\"showbackground\":true,\"ticks\":\"\",\"zerolinecolor\":\"white\"},\"yaxis\":{\"backgroundcolor\":\"#E5ECF6\",\"gridcolor\":\"white\",\"gridwidth\":2,\"linecolor\":\"white\",\"showbackground\":true,\"ticks\":\"\",\"zerolinecolor\":\"white\"},\"zaxis\":{\"backgroundcolor\":\"#E5ECF6\",\"gridcolor\":\"white\",\"gridwidth\":2,\"linecolor\":\"white\",\"showbackground\":true,\"ticks\":\"\",\"zerolinecolor\":\"white\"}},\"shapedefaults\":{\"line\":{\"color\":\"#2a3f5f\"}},\"ternary\":{\"aaxis\":{\"gridcolor\":\"white\",\"linecolor\":\"white\",\"ticks\":\"\"},\"baxis\":{\"gridcolor\":\"white\",\"linecolor\":\"white\",\"ticks\":\"\"},\"bgcolor\":\"#E5ECF6\",\"caxis\":{\"gridcolor\":\"white\",\"linecolor\":\"white\",\"ticks\":\"\"}},\"title\":{\"x\":0.05},\"xaxis\":{\"automargin\":true,\"gridcolor\":\"white\",\"linecolor\":\"white\",\"ticks\":\"\",\"title\":{\"standoff\":15},\"zerolinecolor\":\"white\",\"zerolinewidth\":2},\"yaxis\":{\"automargin\":true,\"gridcolor\":\"white\",\"linecolor\":\"white\",\"ticks\":\"\",\"title\":{\"standoff\":15},\"zerolinecolor\":\"white\",\"zerolinewidth\":2}}},\"title\":{\"text\":\"GANTT Chart\"},\"xaxis\":{\"range\":[\"1970-01-01T00:00:00\",\"1970-01-02T06:17:04\"],\"title\":{\"font\":{\"color\":\"#7f7f7f\",\"family\":\"Courier New, monospace\",\"size\":18},\"text\":\"Time\"}},\"yaxis\":{\"title\":{\"font\":{\"color\":\"#7f7f7f\",\"family\":\"Courier New, monospace\",\"size\":18},\"text\":\"Activities\"}}},                        {\"responsive\": true}                    ).then(function(){\n",
       "                            \n",
       "var gd = document.getElementById('d1f91e07-830b-4084-b030-ffd876ae6c2e');\n",
       "var x = new MutationObserver(function (mutations, observer) {{\n",
       "        var display = window.getComputedStyle(gd).display;\n",
       "        if (!display || display === 'none') {{\n",
       "            console.log([gd, 'removed!']);\n",
       "            Plotly.purge(gd);\n",
       "            observer.disconnect();\n",
       "        }}\n",
       "}});\n",
       "\n",
       "// Listen for the removal of the full notebook cells\n",
       "var notebookContainer = gd.closest('#notebook-container');\n",
       "if (notebookContainer) {{\n",
       "    x.observe(notebookContainer, {childList: true});\n",
       "}}\n",
       "\n",
       "// Listen for the clearing of the current output cell\n",
       "var outputEl = gd.closest('.output');\n",
       "if (outputEl) {{\n",
       "    x.observe(outputEl, {childList: true});\n",
       "}}\n",
       "\n",
       "                        })                };                });            </script>        </div>"
      ]
     },
     "metadata": {},
     "output_type": "display_data"
    }
   ],
   "source": [
    "fig = plot.get_gantt_chart([*vessels.values()], id_map=id_map)"
   ]
  },
  {
   "cell_type": "code",
   "execution_count": 7,
   "metadata": {},
   "outputs": [
    {
     "data": {
      "text/html": [
       "        <script type=\"text/javascript\">\n",
       "        window.PlotlyConfig = {MathJaxConfig: 'local'};\n",
       "        if (window.MathJax) {MathJax.Hub.Config({SVG: {font: \"STIX-Web\"}});}\n",
       "        if (typeof require !== 'undefined') {\n",
       "        require.undef(\"plotly\");\n",
       "        requirejs.config({\n",
       "            paths: {\n",
       "                'plotly': ['https://cdn.plot.ly/plotly-2.8.3.min']\n",
       "            }\n",
       "        });\n",
       "        require(['plotly'], function(Plotly) {\n",
       "            window._Plotly = Plotly;\n",
       "        });\n",
       "        }\n",
       "        </script>\n",
       "        "
      ]
     },
     "metadata": {},
     "output_type": "display_data"
    },
    {
     "data": {
      "application/vnd.plotly.v1+json": {
       "config": {
        "linkText": "Export to plot.ly",
        "plotlyServerURL": "https://plot.ly",
        "showLink": false
       },
       "data": [
        {
         "connectgaps": false,
         "hoverinfo": "y+name",
         "line": {
          "color": "rgb(88,140,43)",
          "width": 10
         },
         "mode": "lines",
         "name": "loading:barge_1",
         "type": "scatter",
         "x": [
          "1970-01-01T01:46:24",
          "1970-01-01T01:46:24",
          "1970-01-01T02:19:44",
          "1970-01-01T02:19:44",
          "1970-01-01T02:19:44",
          "1970-01-01T04:51:28",
          "1970-01-01T04:51:28",
          "1970-01-01T05:24:48",
          "1970-01-01T05:24:48",
          "1970-01-01T05:24:48",
          "1970-01-01T07:56:32",
          "1970-01-01T07:56:32",
          "1970-01-01T08:29:52",
          "1970-01-01T08:29:52",
          "1970-01-01T08:29:52",
          "1970-01-01T11:01:36",
          "1970-01-01T11:01:36",
          "1970-01-01T11:34:56",
          "1970-01-01T11:34:56",
          "1970-01-01T11:34:56",
          "1970-01-01T14:37:20",
          "1970-01-01T14:37:20",
          "1970-01-01T15:10:40",
          "1970-01-01T15:10:40",
          "1970-01-01T15:10:40",
          "1970-01-01T18:18:12",
          "1970-01-01T18:18:12",
          "1970-01-01T18:51:32",
          "1970-01-01T18:51:32",
          "1970-01-01T18:51:32",
          "1970-01-01T21:59:04",
          "1970-01-01T21:59:04",
          "1970-01-01T22:32:24",
          "1970-01-01T22:32:24",
          "1970-01-01T22:32:24",
          "1970-01-02T01:39:56",
          "1970-01-02T01:39:56",
          "1970-01-02T02:13:16",
          "1970-01-02T02:13:16",
          "1970-01-02T02:13:16",
          "1970-01-01T01:46:24",
          "1970-01-01T01:46:24",
          "1970-01-01T02:19:44",
          "1970-01-01T02:19:44",
          "1970-01-01T02:19:44",
          "1970-01-01T04:51:28",
          "1970-01-01T04:51:28",
          "1970-01-01T05:24:48",
          "1970-01-01T05:24:48",
          "1970-01-01T05:24:48",
          "1970-01-01T07:56:32",
          "1970-01-01T07:56:32",
          "1970-01-01T08:29:52",
          "1970-01-01T08:29:52",
          "1970-01-01T08:29:52",
          "1970-01-01T11:01:36",
          "1970-01-01T11:01:36",
          "1970-01-01T11:34:56",
          "1970-01-01T11:34:56",
          "1970-01-01T11:34:56",
          "1970-01-01T14:37:20",
          "1970-01-01T14:37:20",
          "1970-01-01T15:10:40",
          "1970-01-01T15:10:40",
          "1970-01-01T15:10:40",
          "1970-01-01T18:18:12",
          "1970-01-01T18:18:12",
          "1970-01-01T18:51:32",
          "1970-01-01T18:51:32",
          "1970-01-01T18:51:32",
          "1970-01-01T21:59:04",
          "1970-01-01T21:59:04",
          "1970-01-01T22:32:24",
          "1970-01-01T22:32:24",
          "1970-01-01T22:32:24",
          "1970-01-02T01:39:56",
          "1970-01-02T01:39:56",
          "1970-01-02T02:13:16",
          "1970-01-02T02:13:16",
          "1970-01-02T02:13:16"
         ],
         "y": [
          "from_site",
          "from_site",
          "from_site",
          "from_site",
          null,
          "from_site",
          "from_site",
          "from_site",
          "from_site",
          null,
          "from_site",
          "from_site",
          "from_site",
          "from_site",
          null,
          "from_site",
          "from_site",
          "from_site",
          "from_site",
          null,
          "from_site",
          "from_site",
          "from_site",
          "from_site",
          null,
          "from_site",
          "from_site",
          "from_site",
          "from_site",
          null,
          "from_site",
          "from_site",
          "from_site",
          "from_site",
          null,
          "from_site",
          "from_site",
          "from_site",
          "from_site",
          null,
          "cutter",
          "cutter",
          "cutter",
          "cutter",
          null,
          "cutter",
          "cutter",
          "cutter",
          "cutter",
          null,
          "cutter",
          "cutter",
          "cutter",
          "cutter",
          null,
          "cutter",
          "cutter",
          "cutter",
          "cutter",
          null,
          "cutter",
          "cutter",
          "cutter",
          "cutter",
          null,
          "cutter",
          "cutter",
          "cutter",
          "cutter",
          null,
          "cutter",
          "cutter",
          "cutter",
          "cutter",
          null,
          "cutter",
          "cutter",
          "cutter",
          "cutter",
          null
         ]
        },
        {
         "connectgaps": false,
         "hoverinfo": "y+name",
         "line": {
          "color": "rgb(116,168,71)",
          "width": 10
         },
         "mode": "lines",
         "name": "loading:barge_0",
         "type": "scatter",
         "x": [
          "1970-01-01T01:13:04",
          "1970-01-01T01:13:04",
          "1970-01-01T01:46:24",
          "1970-01-01T01:46:24",
          "1970-01-01T01:46:24",
          "1970-01-01T04:12:32",
          "1970-01-01T04:12:32",
          "1970-01-01T04:45:52",
          "1970-01-01T04:45:52",
          "1970-01-01T04:45:52",
          "1970-01-01T07:12:00",
          "1970-01-01T07:12:00",
          "1970-01-01T07:45:20",
          "1970-01-01T07:45:20",
          "1970-01-01T07:45:20",
          "1970-01-01T10:23:08",
          "1970-01-01T10:23:08",
          "1970-01-01T10:56:28",
          "1970-01-01T10:56:28",
          "1970-01-01T10:56:28",
          "1970-01-01T14:04:00",
          "1970-01-01T14:04:00",
          "1970-01-01T14:37:20",
          "1970-01-01T14:37:20",
          "1970-01-01T14:37:20",
          "1970-01-01T17:44:52",
          "1970-01-01T17:44:52",
          "1970-01-01T18:18:12",
          "1970-01-01T18:18:12",
          "1970-01-01T18:18:12",
          "1970-01-01T21:25:44",
          "1970-01-01T21:25:44",
          "1970-01-01T21:59:04",
          "1970-01-01T21:59:04",
          "1970-01-01T21:59:04",
          "1970-01-02T01:06:36",
          "1970-01-02T01:06:36",
          "1970-01-02T01:39:56",
          "1970-01-02T01:39:56",
          "1970-01-02T01:39:56",
          "1970-01-01T01:13:04",
          "1970-01-01T01:13:04",
          "1970-01-01T01:46:24",
          "1970-01-01T01:46:24",
          "1970-01-01T01:46:24",
          "1970-01-01T04:12:32",
          "1970-01-01T04:12:32",
          "1970-01-01T04:45:52",
          "1970-01-01T04:45:52",
          "1970-01-01T04:45:52",
          "1970-01-01T07:12:00",
          "1970-01-01T07:12:00",
          "1970-01-01T07:45:20",
          "1970-01-01T07:45:20",
          "1970-01-01T07:45:20",
          "1970-01-01T10:23:08",
          "1970-01-01T10:23:08",
          "1970-01-01T10:56:28",
          "1970-01-01T10:56:28",
          "1970-01-01T10:56:28",
          "1970-01-01T14:04:00",
          "1970-01-01T14:04:00",
          "1970-01-01T14:37:20",
          "1970-01-01T14:37:20",
          "1970-01-01T14:37:20",
          "1970-01-01T17:44:52",
          "1970-01-01T17:44:52",
          "1970-01-01T18:18:12",
          "1970-01-01T18:18:12",
          "1970-01-01T18:18:12",
          "1970-01-01T21:25:44",
          "1970-01-01T21:25:44",
          "1970-01-01T21:59:04",
          "1970-01-01T21:59:04",
          "1970-01-01T21:59:04",
          "1970-01-02T01:06:36",
          "1970-01-02T01:06:36",
          "1970-01-02T01:39:56",
          "1970-01-02T01:39:56",
          "1970-01-02T01:39:56"
         ],
         "y": [
          "from_site",
          "from_site",
          "from_site",
          "from_site",
          null,
          "from_site",
          "from_site",
          "from_site",
          "from_site",
          null,
          "from_site",
          "from_site",
          "from_site",
          "from_site",
          null,
          "from_site",
          "from_site",
          "from_site",
          "from_site",
          null,
          "from_site",
          "from_site",
          "from_site",
          "from_site",
          null,
          "from_site",
          "from_site",
          "from_site",
          "from_site",
          null,
          "from_site",
          "from_site",
          "from_site",
          "from_site",
          null,
          "from_site",
          "from_site",
          "from_site",
          "from_site",
          null,
          "cutter",
          "cutter",
          "cutter",
          "cutter",
          null,
          "cutter",
          "cutter",
          "cutter",
          "cutter",
          null,
          "cutter",
          "cutter",
          "cutter",
          "cutter",
          null,
          "cutter",
          "cutter",
          "cutter",
          "cutter",
          null,
          "cutter",
          "cutter",
          "cutter",
          "cutter",
          null,
          "cutter",
          "cutter",
          "cutter",
          "cutter",
          null,
          "cutter",
          "cutter",
          "cutter",
          "cutter",
          null,
          "cutter",
          "cutter",
          "cutter",
          "cutter",
          null
         ]
        },
        {
         "connectgaps": false,
         "hoverinfo": "y+name",
         "line": {
          "color": "rgb(144,196,99)",
          "width": 10
         },
         "mode": "lines",
         "name": "loading:barge_2",
         "type": "scatter",
         "x": [
          "1970-01-01T02:19:44",
          "1970-01-01T02:19:44",
          "1970-01-01T03:01:24",
          "1970-01-01T03:01:24",
          "1970-01-01T03:01:24",
          "1970-01-01T06:00:36",
          "1970-01-01T06:00:36",
          "1970-01-01T06:42:16",
          "1970-01-01T06:42:16",
          "1970-01-01T06:42:16",
          "1970-01-01T09:41:28",
          "1970-01-01T09:41:28",
          "1970-01-01T10:23:08",
          "1970-01-01T10:23:08",
          "1970-01-01T10:23:08",
          "1970-01-01T13:22:20",
          "1970-01-01T13:22:20",
          "1970-01-01T14:04:00",
          "1970-01-01T14:04:00",
          "1970-01-01T14:04:00",
          "1970-01-01T17:03:12",
          "1970-01-01T17:03:12",
          "1970-01-01T17:44:52",
          "1970-01-01T17:44:52",
          "1970-01-01T17:44:52",
          "1970-01-01T20:44:04",
          "1970-01-01T20:44:04",
          "1970-01-01T21:25:44",
          "1970-01-01T21:25:44",
          "1970-01-01T21:25:44",
          "1970-01-02T00:24:56",
          "1970-01-02T00:24:56",
          "1970-01-02T01:06:36",
          "1970-01-02T01:06:36",
          "1970-01-02T01:06:36",
          "1970-01-02T04:05:48",
          "1970-01-02T04:05:48",
          "1970-01-02T04:47:28",
          "1970-01-02T04:47:28",
          "1970-01-02T04:47:28",
          "1970-01-01T02:19:44",
          "1970-01-01T02:19:44",
          "1970-01-01T03:01:24",
          "1970-01-01T03:01:24",
          "1970-01-01T03:01:24",
          "1970-01-01T06:00:36",
          "1970-01-01T06:00:36",
          "1970-01-01T06:42:16",
          "1970-01-01T06:42:16",
          "1970-01-01T06:42:16",
          "1970-01-01T09:41:28",
          "1970-01-01T09:41:28",
          "1970-01-01T10:23:08",
          "1970-01-01T10:23:08",
          "1970-01-01T10:23:08",
          "1970-01-01T13:22:20",
          "1970-01-01T13:22:20",
          "1970-01-01T14:04:00",
          "1970-01-01T14:04:00",
          "1970-01-01T14:04:00",
          "1970-01-01T17:03:12",
          "1970-01-01T17:03:12",
          "1970-01-01T17:44:52",
          "1970-01-01T17:44:52",
          "1970-01-01T17:44:52",
          "1970-01-01T20:44:04",
          "1970-01-01T20:44:04",
          "1970-01-01T21:25:44",
          "1970-01-01T21:25:44",
          "1970-01-01T21:25:44",
          "1970-01-02T00:24:56",
          "1970-01-02T00:24:56",
          "1970-01-02T01:06:36",
          "1970-01-02T01:06:36",
          "1970-01-02T01:06:36",
          "1970-01-02T04:05:48",
          "1970-01-02T04:05:48",
          "1970-01-02T04:47:28",
          "1970-01-02T04:47:28",
          "1970-01-02T04:47:28"
         ],
         "y": [
          "from_site",
          "from_site",
          "from_site",
          "from_site",
          null,
          "from_site",
          "from_site",
          "from_site",
          "from_site",
          null,
          "from_site",
          "from_site",
          "from_site",
          "from_site",
          null,
          "from_site",
          "from_site",
          "from_site",
          "from_site",
          null,
          "from_site",
          "from_site",
          "from_site",
          "from_site",
          null,
          "from_site",
          "from_site",
          "from_site",
          "from_site",
          null,
          "from_site",
          "from_site",
          "from_site",
          "from_site",
          null,
          "from_site",
          "from_site",
          "from_site",
          "from_site",
          null,
          "cutter",
          "cutter",
          "cutter",
          "cutter",
          null,
          "cutter",
          "cutter",
          "cutter",
          "cutter",
          null,
          "cutter",
          "cutter",
          "cutter",
          "cutter",
          null,
          "cutter",
          "cutter",
          "cutter",
          "cutter",
          null,
          "cutter",
          "cutter",
          "cutter",
          "cutter",
          null,
          "cutter",
          "cutter",
          "cutter",
          "cutter",
          null,
          "cutter",
          "cutter",
          "cutter",
          "cutter",
          null,
          "cutter",
          "cutter",
          "cutter",
          "cutter",
          null
         ]
        },
        {
         "connectgaps": false,
         "hoverinfo": "y+name",
         "line": {
          "color": "rgb(172,224,127)",
          "width": 10
         },
         "mode": "lines",
         "name": "unloading:barge_1",
         "type": "scatter",
         "x": [
          "1970-01-01T02:57:40",
          "1970-01-01T02:57:40",
          "1970-01-01T03:35:36",
          "1970-01-01T03:35:36",
          "1970-01-01T03:35:36",
          "1970-01-01T06:02:44",
          "1970-01-01T06:02:44",
          "1970-01-01T06:40:40",
          "1970-01-01T06:40:40",
          "1970-01-01T06:40:40",
          "1970-01-01T09:07:48",
          "1970-01-01T09:07:48",
          "1970-01-01T09:45:44",
          "1970-01-01T09:45:44",
          "1970-01-01T09:45:44",
          "1970-01-01T12:12:52",
          "1970-01-01T12:12:52",
          "1970-01-01T12:50:48",
          "1970-01-01T12:50:48",
          "1970-01-01T12:50:48",
          "1970-01-01T15:48:36",
          "1970-01-01T15:48:36",
          "1970-01-01T16:26:32",
          "1970-01-01T16:26:32",
          "1970-01-01T16:26:32",
          "1970-01-01T19:29:28",
          "1970-01-01T19:29:28",
          "1970-01-01T20:07:24",
          "1970-01-01T20:07:24",
          "1970-01-01T20:07:24",
          "1970-01-01T23:10:20",
          "1970-01-01T23:10:20",
          "1970-01-01T23:48:16",
          "1970-01-01T23:48:16",
          "1970-01-01T23:48:16",
          "1970-01-02T02:51:12",
          "1970-01-02T02:51:12",
          "1970-01-02T03:29:08",
          "1970-01-02T03:29:08",
          "1970-01-02T03:29:08"
         ],
         "y": [
          "to_site",
          "to_site",
          "to_site",
          "to_site",
          null,
          "to_site",
          "to_site",
          "to_site",
          "to_site",
          null,
          "to_site",
          "to_site",
          "to_site",
          "to_site",
          null,
          "to_site",
          "to_site",
          "to_site",
          "to_site",
          null,
          "to_site",
          "to_site",
          "to_site",
          "to_site",
          null,
          "to_site",
          "to_site",
          "to_site",
          "to_site",
          null,
          "to_site",
          "to_site",
          "to_site",
          "to_site",
          null,
          "to_site",
          "to_site",
          "to_site",
          "to_site",
          null
         ]
        },
        {
         "connectgaps": false,
         "hoverinfo": "y+name",
         "line": {
          "color": "rgb(200,252,155)",
          "width": 10
         },
         "mode": "lines",
         "name": "unloading:barge_0",
         "type": "scatter",
         "x": [
          "1970-01-01T02:22:56",
          "1970-01-01T02:22:56",
          "1970-01-01T02:59:28",
          "1970-01-01T02:59:28",
          "1970-01-01T02:59:28",
          "1970-01-01T05:22:24",
          "1970-01-01T05:22:24",
          "1970-01-01T05:58:56",
          "1970-01-01T05:58:56",
          "1970-01-01T05:58:56",
          "1970-01-01T08:21:52",
          "1970-01-01T08:21:52",
          "1970-01-01T08:58:24",
          "1970-01-01T08:58:24",
          "1970-01-01T08:58:24",
          "1970-01-01T11:33:00",
          "1970-01-01T11:33:00",
          "1970-01-01T12:09:32",
          "1970-01-01T12:09:32",
          "1970-01-01T12:09:32",
          "1970-01-01T15:13:52",
          "1970-01-01T15:13:52",
          "1970-01-01T15:50:24",
          "1970-01-01T15:50:24",
          "1970-01-01T15:50:24",
          "1970-01-01T18:54:44",
          "1970-01-01T18:54:44",
          "1970-01-01T19:31:16",
          "1970-01-01T19:31:16",
          "1970-01-01T19:31:16",
          "1970-01-01T22:35:36",
          "1970-01-01T22:35:36",
          "1970-01-01T23:12:08",
          "1970-01-01T23:12:08",
          "1970-01-01T23:12:08",
          "1970-01-02T02:16:28",
          "1970-01-02T02:16:28",
          "1970-01-02T02:53:00",
          "1970-01-02T02:53:00",
          "1970-01-02T02:53:00"
         ],
         "y": [
          "to_site",
          "to_site",
          "to_site",
          "to_site",
          null,
          "to_site",
          "to_site",
          "to_site",
          "to_site",
          null,
          "to_site",
          "to_site",
          "to_site",
          "to_site",
          null,
          "to_site",
          "to_site",
          "to_site",
          "to_site",
          null,
          "to_site",
          "to_site",
          "to_site",
          "to_site",
          null,
          "to_site",
          "to_site",
          "to_site",
          "to_site",
          null,
          "to_site",
          "to_site",
          "to_site",
          "to_site",
          null,
          "to_site",
          "to_site",
          "to_site",
          "to_site",
          null
         ]
        },
        {
         "connectgaps": false,
         "hoverinfo": "y+name",
         "line": {
          "color": "rgb(228,24,183)",
          "width": 10
         },
         "mode": "lines",
         "name": "unloading:barge_2",
         "type": "scatter",
         "x": [
          "1970-01-01T03:46:12",
          "1970-01-01T03:46:12",
          "1970-01-01T04:31:00",
          "1970-01-01T04:31:00",
          "1970-01-01T04:31:00",
          "1970-01-01T07:27:04",
          "1970-01-01T07:27:04",
          "1970-01-01T08:11:52",
          "1970-01-01T08:11:52",
          "1970-01-01T08:11:52",
          "1970-01-01T11:07:56",
          "1970-01-01T11:07:56",
          "1970-01-01T11:52:44",
          "1970-01-01T11:52:44",
          "1970-01-01T11:52:44",
          "1970-01-01T14:48:48",
          "1970-01-01T14:48:48",
          "1970-01-01T15:33:36",
          "1970-01-01T15:33:36",
          "1970-01-01T15:33:36",
          "1970-01-01T18:29:40",
          "1970-01-01T18:29:40",
          "1970-01-01T19:14:28",
          "1970-01-01T19:14:28",
          "1970-01-01T19:14:28",
          "1970-01-01T22:10:32",
          "1970-01-01T22:10:32",
          "1970-01-01T22:55:20",
          "1970-01-01T22:55:20",
          "1970-01-01T22:55:20",
          "1970-01-02T01:51:24",
          "1970-01-02T01:51:24",
          "1970-01-02T02:36:12",
          "1970-01-02T02:36:12",
          "1970-01-02T02:36:12",
          "1970-01-02T05:32:16",
          "1970-01-02T05:32:16",
          "1970-01-02T06:17:04",
          "1970-01-02T06:17:04",
          "1970-01-02T06:17:04"
         ],
         "y": [
          "to_site",
          "to_site",
          "to_site",
          "to_site",
          null,
          "to_site",
          "to_site",
          "to_site",
          "to_site",
          null,
          "to_site",
          "to_site",
          "to_site",
          "to_site",
          null,
          "to_site",
          "to_site",
          "to_site",
          "to_site",
          null,
          "to_site",
          "to_site",
          "to_site",
          "to_site",
          null,
          "to_site",
          "to_site",
          "to_site",
          "to_site",
          null,
          "to_site",
          "to_site",
          "to_site",
          "to_site",
          null,
          "to_site",
          "to_site",
          "to_site",
          "to_site",
          null
         ]
        },
        {
         "connectgaps": false,
         "hoverinfo": "y+name",
         "line": {
          "color": "rgb(0,52,211)",
          "width": 10
         },
         "mode": "lines",
         "name": "loading:barge_1",
         "type": "scatter",
         "x": [
          "1970-01-01T01:46:24",
          "1970-01-01T01:46:24",
          "1970-01-01T02:19:44",
          "1970-01-01T02:19:44",
          "1970-01-01T02:19:44",
          "1970-01-01T04:51:28",
          "1970-01-01T04:51:28",
          "1970-01-01T05:24:48",
          "1970-01-01T05:24:48",
          "1970-01-01T05:24:48",
          "1970-01-01T07:56:32",
          "1970-01-01T07:56:32",
          "1970-01-01T08:29:52",
          "1970-01-01T08:29:52",
          "1970-01-01T08:29:52",
          "1970-01-01T11:01:36",
          "1970-01-01T11:01:36",
          "1970-01-01T11:34:56",
          "1970-01-01T11:34:56",
          "1970-01-01T11:34:56",
          "1970-01-01T14:37:20",
          "1970-01-01T14:37:20",
          "1970-01-01T15:10:40",
          "1970-01-01T15:10:40",
          "1970-01-01T15:10:40",
          "1970-01-01T18:18:12",
          "1970-01-01T18:18:12",
          "1970-01-01T18:51:32",
          "1970-01-01T18:51:32",
          "1970-01-01T18:51:32",
          "1970-01-01T21:59:04",
          "1970-01-01T21:59:04",
          "1970-01-01T22:32:24",
          "1970-01-01T22:32:24",
          "1970-01-01T22:32:24",
          "1970-01-02T01:39:56",
          "1970-01-02T01:39:56",
          "1970-01-02T02:13:16",
          "1970-01-02T02:13:16",
          "1970-01-02T02:13:16",
          "1970-01-01T01:46:24",
          "1970-01-01T01:46:24",
          "1970-01-01T02:19:44",
          "1970-01-01T02:19:44",
          "1970-01-01T02:19:44",
          "1970-01-01T04:51:28",
          "1970-01-01T04:51:28",
          "1970-01-01T05:24:48",
          "1970-01-01T05:24:48",
          "1970-01-01T05:24:48",
          "1970-01-01T07:56:32",
          "1970-01-01T07:56:32",
          "1970-01-01T08:29:52",
          "1970-01-01T08:29:52",
          "1970-01-01T08:29:52",
          "1970-01-01T11:01:36",
          "1970-01-01T11:01:36",
          "1970-01-01T11:34:56",
          "1970-01-01T11:34:56",
          "1970-01-01T11:34:56",
          "1970-01-01T14:37:20",
          "1970-01-01T14:37:20",
          "1970-01-01T15:10:40",
          "1970-01-01T15:10:40",
          "1970-01-01T15:10:40",
          "1970-01-01T18:18:12",
          "1970-01-01T18:18:12",
          "1970-01-01T18:51:32",
          "1970-01-01T18:51:32",
          "1970-01-01T18:51:32",
          "1970-01-01T21:59:04",
          "1970-01-01T21:59:04",
          "1970-01-01T22:32:24",
          "1970-01-01T22:32:24",
          "1970-01-01T22:32:24",
          "1970-01-02T01:39:56",
          "1970-01-02T01:39:56",
          "1970-01-02T02:13:16",
          "1970-01-02T02:13:16",
          "1970-01-02T02:13:16"
         ],
         "y": [
          "from_site",
          "from_site",
          "from_site",
          "from_site",
          null,
          "from_site",
          "from_site",
          "from_site",
          "from_site",
          null,
          "from_site",
          "from_site",
          "from_site",
          "from_site",
          null,
          "from_site",
          "from_site",
          "from_site",
          "from_site",
          null,
          "from_site",
          "from_site",
          "from_site",
          "from_site",
          null,
          "from_site",
          "from_site",
          "from_site",
          "from_site",
          null,
          "from_site",
          "from_site",
          "from_site",
          "from_site",
          null,
          "from_site",
          "from_site",
          "from_site",
          "from_site",
          null,
          "cutter",
          "cutter",
          "cutter",
          "cutter",
          null,
          "cutter",
          "cutter",
          "cutter",
          "cutter",
          null,
          "cutter",
          "cutter",
          "cutter",
          "cutter",
          null,
          "cutter",
          "cutter",
          "cutter",
          "cutter",
          null,
          "cutter",
          "cutter",
          "cutter",
          "cutter",
          null,
          "cutter",
          "cutter",
          "cutter",
          "cutter",
          null,
          "cutter",
          "cutter",
          "cutter",
          "cutter",
          null,
          "cutter",
          "cutter",
          "cutter",
          "cutter",
          null
         ]
        },
        {
         "connectgaps": false,
         "hoverinfo": "y+name",
         "line": {
          "color": "rgb(28,80,239)",
          "width": 10
         },
         "mode": "lines",
         "name": "loading:barge_0",
         "type": "scatter",
         "x": [
          "1970-01-01T01:13:04",
          "1970-01-01T01:13:04",
          "1970-01-01T01:46:24",
          "1970-01-01T01:46:24",
          "1970-01-01T01:46:24",
          "1970-01-01T04:12:32",
          "1970-01-01T04:12:32",
          "1970-01-01T04:45:52",
          "1970-01-01T04:45:52",
          "1970-01-01T04:45:52",
          "1970-01-01T07:12:00",
          "1970-01-01T07:12:00",
          "1970-01-01T07:45:20",
          "1970-01-01T07:45:20",
          "1970-01-01T07:45:20",
          "1970-01-01T10:23:08",
          "1970-01-01T10:23:08",
          "1970-01-01T10:56:28",
          "1970-01-01T10:56:28",
          "1970-01-01T10:56:28",
          "1970-01-01T14:04:00",
          "1970-01-01T14:04:00",
          "1970-01-01T14:37:20",
          "1970-01-01T14:37:20",
          "1970-01-01T14:37:20",
          "1970-01-01T17:44:52",
          "1970-01-01T17:44:52",
          "1970-01-01T18:18:12",
          "1970-01-01T18:18:12",
          "1970-01-01T18:18:12",
          "1970-01-01T21:25:44",
          "1970-01-01T21:25:44",
          "1970-01-01T21:59:04",
          "1970-01-01T21:59:04",
          "1970-01-01T21:59:04",
          "1970-01-02T01:06:36",
          "1970-01-02T01:06:36",
          "1970-01-02T01:39:56",
          "1970-01-02T01:39:56",
          "1970-01-02T01:39:56",
          "1970-01-01T01:13:04",
          "1970-01-01T01:13:04",
          "1970-01-01T01:46:24",
          "1970-01-01T01:46:24",
          "1970-01-01T01:46:24",
          "1970-01-01T04:12:32",
          "1970-01-01T04:12:32",
          "1970-01-01T04:45:52",
          "1970-01-01T04:45:52",
          "1970-01-01T04:45:52",
          "1970-01-01T07:12:00",
          "1970-01-01T07:12:00",
          "1970-01-01T07:45:20",
          "1970-01-01T07:45:20",
          "1970-01-01T07:45:20",
          "1970-01-01T10:23:08",
          "1970-01-01T10:23:08",
          "1970-01-01T10:56:28",
          "1970-01-01T10:56:28",
          "1970-01-01T10:56:28",
          "1970-01-01T14:04:00",
          "1970-01-01T14:04:00",
          "1970-01-01T14:37:20",
          "1970-01-01T14:37:20",
          "1970-01-01T14:37:20",
          "1970-01-01T17:44:52",
          "1970-01-01T17:44:52",
          "1970-01-01T18:18:12",
          "1970-01-01T18:18:12",
          "1970-01-01T18:18:12",
          "1970-01-01T21:25:44",
          "1970-01-01T21:25:44",
          "1970-01-01T21:59:04",
          "1970-01-01T21:59:04",
          "1970-01-01T21:59:04",
          "1970-01-02T01:06:36",
          "1970-01-02T01:06:36",
          "1970-01-02T01:39:56",
          "1970-01-02T01:39:56",
          "1970-01-02T01:39:56"
         ],
         "y": [
          "from_site",
          "from_site",
          "from_site",
          "from_site",
          null,
          "from_site",
          "from_site",
          "from_site",
          "from_site",
          null,
          "from_site",
          "from_site",
          "from_site",
          "from_site",
          null,
          "from_site",
          "from_site",
          "from_site",
          "from_site",
          null,
          "from_site",
          "from_site",
          "from_site",
          "from_site",
          null,
          "from_site",
          "from_site",
          "from_site",
          "from_site",
          null,
          "from_site",
          "from_site",
          "from_site",
          "from_site",
          null,
          "from_site",
          "from_site",
          "from_site",
          "from_site",
          null,
          "cutter",
          "cutter",
          "cutter",
          "cutter",
          null,
          "cutter",
          "cutter",
          "cutter",
          "cutter",
          null,
          "cutter",
          "cutter",
          "cutter",
          "cutter",
          null,
          "cutter",
          "cutter",
          "cutter",
          "cutter",
          null,
          "cutter",
          "cutter",
          "cutter",
          "cutter",
          null,
          "cutter",
          "cutter",
          "cutter",
          "cutter",
          null,
          "cutter",
          "cutter",
          "cutter",
          "cutter",
          null,
          "cutter",
          "cutter",
          "cutter",
          "cutter",
          null
         ]
        },
        {
         "connectgaps": false,
         "hoverinfo": "y+name",
         "line": {
          "color": "rgb(56,108,11)",
          "width": 10
         },
         "mode": "lines",
         "name": "loading:barge_2",
         "type": "scatter",
         "x": [
          "1970-01-01T02:19:44",
          "1970-01-01T02:19:44",
          "1970-01-01T03:01:24",
          "1970-01-01T03:01:24",
          "1970-01-01T03:01:24",
          "1970-01-01T06:00:36",
          "1970-01-01T06:00:36",
          "1970-01-01T06:42:16",
          "1970-01-01T06:42:16",
          "1970-01-01T06:42:16",
          "1970-01-01T09:41:28",
          "1970-01-01T09:41:28",
          "1970-01-01T10:23:08",
          "1970-01-01T10:23:08",
          "1970-01-01T10:23:08",
          "1970-01-01T13:22:20",
          "1970-01-01T13:22:20",
          "1970-01-01T14:04:00",
          "1970-01-01T14:04:00",
          "1970-01-01T14:04:00",
          "1970-01-01T17:03:12",
          "1970-01-01T17:03:12",
          "1970-01-01T17:44:52",
          "1970-01-01T17:44:52",
          "1970-01-01T17:44:52",
          "1970-01-01T20:44:04",
          "1970-01-01T20:44:04",
          "1970-01-01T21:25:44",
          "1970-01-01T21:25:44",
          "1970-01-01T21:25:44",
          "1970-01-02T00:24:56",
          "1970-01-02T00:24:56",
          "1970-01-02T01:06:36",
          "1970-01-02T01:06:36",
          "1970-01-02T01:06:36",
          "1970-01-02T04:05:48",
          "1970-01-02T04:05:48",
          "1970-01-02T04:47:28",
          "1970-01-02T04:47:28",
          "1970-01-02T04:47:28",
          "1970-01-01T02:19:44",
          "1970-01-01T02:19:44",
          "1970-01-01T03:01:24",
          "1970-01-01T03:01:24",
          "1970-01-01T03:01:24",
          "1970-01-01T06:00:36",
          "1970-01-01T06:00:36",
          "1970-01-01T06:42:16",
          "1970-01-01T06:42:16",
          "1970-01-01T06:42:16",
          "1970-01-01T09:41:28",
          "1970-01-01T09:41:28",
          "1970-01-01T10:23:08",
          "1970-01-01T10:23:08",
          "1970-01-01T10:23:08",
          "1970-01-01T13:22:20",
          "1970-01-01T13:22:20",
          "1970-01-01T14:04:00",
          "1970-01-01T14:04:00",
          "1970-01-01T14:04:00",
          "1970-01-01T17:03:12",
          "1970-01-01T17:03:12",
          "1970-01-01T17:44:52",
          "1970-01-01T17:44:52",
          "1970-01-01T17:44:52",
          "1970-01-01T20:44:04",
          "1970-01-01T20:44:04",
          "1970-01-01T21:25:44",
          "1970-01-01T21:25:44",
          "1970-01-01T21:25:44",
          "1970-01-02T00:24:56",
          "1970-01-02T00:24:56",
          "1970-01-02T01:06:36",
          "1970-01-02T01:06:36",
          "1970-01-02T01:06:36",
          "1970-01-02T04:05:48",
          "1970-01-02T04:05:48",
          "1970-01-02T04:47:28",
          "1970-01-02T04:47:28",
          "1970-01-02T04:47:28"
         ],
         "y": [
          "from_site",
          "from_site",
          "from_site",
          "from_site",
          null,
          "from_site",
          "from_site",
          "from_site",
          "from_site",
          null,
          "from_site",
          "from_site",
          "from_site",
          "from_site",
          null,
          "from_site",
          "from_site",
          "from_site",
          "from_site",
          null,
          "from_site",
          "from_site",
          "from_site",
          "from_site",
          null,
          "from_site",
          "from_site",
          "from_site",
          "from_site",
          null,
          "from_site",
          "from_site",
          "from_site",
          "from_site",
          null,
          "from_site",
          "from_site",
          "from_site",
          "from_site",
          null,
          "cutter",
          "cutter",
          "cutter",
          "cutter",
          null,
          "cutter",
          "cutter",
          "cutter",
          "cutter",
          null,
          "cutter",
          "cutter",
          "cutter",
          "cutter",
          null,
          "cutter",
          "cutter",
          "cutter",
          "cutter",
          null,
          "cutter",
          "cutter",
          "cutter",
          "cutter",
          null,
          "cutter",
          "cutter",
          "cutter",
          "cutter",
          null,
          "cutter",
          "cutter",
          "cutter",
          "cutter",
          null,
          "cutter",
          "cutter",
          "cutter",
          "cutter",
          null
         ]
        }
       ],
       "layout": {
        "hovermode": "closest",
        "legend": {
         "orientation": "h",
         "x": 0,
         "y": -0.2
        },
        "template": {
         "data": {
          "bar": [
           {
            "error_x": {
             "color": "#2a3f5f"
            },
            "error_y": {
             "color": "#2a3f5f"
            },
            "marker": {
             "line": {
              "color": "#E5ECF6",
              "width": 0.5
             },
             "pattern": {
              "fillmode": "overlay",
              "size": 10,
              "solidity": 0.2
             }
            },
            "type": "bar"
           }
          ],
          "barpolar": [
           {
            "marker": {
             "line": {
              "color": "#E5ECF6",
              "width": 0.5
             },
             "pattern": {
              "fillmode": "overlay",
              "size": 10,
              "solidity": 0.2
             }
            },
            "type": "barpolar"
           }
          ],
          "carpet": [
           {
            "aaxis": {
             "endlinecolor": "#2a3f5f",
             "gridcolor": "white",
             "linecolor": "white",
             "minorgridcolor": "white",
             "startlinecolor": "#2a3f5f"
            },
            "baxis": {
             "endlinecolor": "#2a3f5f",
             "gridcolor": "white",
             "linecolor": "white",
             "minorgridcolor": "white",
             "startlinecolor": "#2a3f5f"
            },
            "type": "carpet"
           }
          ],
          "choropleth": [
           {
            "colorbar": {
             "outlinewidth": 0,
             "ticks": ""
            },
            "type": "choropleth"
           }
          ],
          "contour": [
           {
            "colorbar": {
             "outlinewidth": 0,
             "ticks": ""
            },
            "colorscale": [
             [
              0,
              "#0d0887"
             ],
             [
              0.1111111111111111,
              "#46039f"
             ],
             [
              0.2222222222222222,
              "#7201a8"
             ],
             [
              0.3333333333333333,
              "#9c179e"
             ],
             [
              0.4444444444444444,
              "#bd3786"
             ],
             [
              0.5555555555555556,
              "#d8576b"
             ],
             [
              0.6666666666666666,
              "#ed7953"
             ],
             [
              0.7777777777777778,
              "#fb9f3a"
             ],
             [
              0.8888888888888888,
              "#fdca26"
             ],
             [
              1,
              "#f0f921"
             ]
            ],
            "type": "contour"
           }
          ],
          "contourcarpet": [
           {
            "colorbar": {
             "outlinewidth": 0,
             "ticks": ""
            },
            "type": "contourcarpet"
           }
          ],
          "heatmap": [
           {
            "colorbar": {
             "outlinewidth": 0,
             "ticks": ""
            },
            "colorscale": [
             [
              0,
              "#0d0887"
             ],
             [
              0.1111111111111111,
              "#46039f"
             ],
             [
              0.2222222222222222,
              "#7201a8"
             ],
             [
              0.3333333333333333,
              "#9c179e"
             ],
             [
              0.4444444444444444,
              "#bd3786"
             ],
             [
              0.5555555555555556,
              "#d8576b"
             ],
             [
              0.6666666666666666,
              "#ed7953"
             ],
             [
              0.7777777777777778,
              "#fb9f3a"
             ],
             [
              0.8888888888888888,
              "#fdca26"
             ],
             [
              1,
              "#f0f921"
             ]
            ],
            "type": "heatmap"
           }
          ],
          "heatmapgl": [
           {
            "colorbar": {
             "outlinewidth": 0,
             "ticks": ""
            },
            "colorscale": [
             [
              0,
              "#0d0887"
             ],
             [
              0.1111111111111111,
              "#46039f"
             ],
             [
              0.2222222222222222,
              "#7201a8"
             ],
             [
              0.3333333333333333,
              "#9c179e"
             ],
             [
              0.4444444444444444,
              "#bd3786"
             ],
             [
              0.5555555555555556,
              "#d8576b"
             ],
             [
              0.6666666666666666,
              "#ed7953"
             ],
             [
              0.7777777777777778,
              "#fb9f3a"
             ],
             [
              0.8888888888888888,
              "#fdca26"
             ],
             [
              1,
              "#f0f921"
             ]
            ],
            "type": "heatmapgl"
           }
          ],
          "histogram": [
           {
            "marker": {
             "pattern": {
              "fillmode": "overlay",
              "size": 10,
              "solidity": 0.2
             }
            },
            "type": "histogram"
           }
          ],
          "histogram2d": [
           {
            "colorbar": {
             "outlinewidth": 0,
             "ticks": ""
            },
            "colorscale": [
             [
              0,
              "#0d0887"
             ],
             [
              0.1111111111111111,
              "#46039f"
             ],
             [
              0.2222222222222222,
              "#7201a8"
             ],
             [
              0.3333333333333333,
              "#9c179e"
             ],
             [
              0.4444444444444444,
              "#bd3786"
             ],
             [
              0.5555555555555556,
              "#d8576b"
             ],
             [
              0.6666666666666666,
              "#ed7953"
             ],
             [
              0.7777777777777778,
              "#fb9f3a"
             ],
             [
              0.8888888888888888,
              "#fdca26"
             ],
             [
              1,
              "#f0f921"
             ]
            ],
            "type": "histogram2d"
           }
          ],
          "histogram2dcontour": [
           {
            "colorbar": {
             "outlinewidth": 0,
             "ticks": ""
            },
            "colorscale": [
             [
              0,
              "#0d0887"
             ],
             [
              0.1111111111111111,
              "#46039f"
             ],
             [
              0.2222222222222222,
              "#7201a8"
             ],
             [
              0.3333333333333333,
              "#9c179e"
             ],
             [
              0.4444444444444444,
              "#bd3786"
             ],
             [
              0.5555555555555556,
              "#d8576b"
             ],
             [
              0.6666666666666666,
              "#ed7953"
             ],
             [
              0.7777777777777778,
              "#fb9f3a"
             ],
             [
              0.8888888888888888,
              "#fdca26"
             ],
             [
              1,
              "#f0f921"
             ]
            ],
            "type": "histogram2dcontour"
           }
          ],
          "mesh3d": [
           {
            "colorbar": {
             "outlinewidth": 0,
             "ticks": ""
            },
            "type": "mesh3d"
           }
          ],
          "parcoords": [
           {
            "line": {
             "colorbar": {
              "outlinewidth": 0,
              "ticks": ""
             }
            },
            "type": "parcoords"
           }
          ],
          "pie": [
           {
            "automargin": true,
            "type": "pie"
           }
          ],
          "scatter": [
           {
            "marker": {
             "colorbar": {
              "outlinewidth": 0,
              "ticks": ""
             }
            },
            "type": "scatter"
           }
          ],
          "scatter3d": [
           {
            "line": {
             "colorbar": {
              "outlinewidth": 0,
              "ticks": ""
             }
            },
            "marker": {
             "colorbar": {
              "outlinewidth": 0,
              "ticks": ""
             }
            },
            "type": "scatter3d"
           }
          ],
          "scattercarpet": [
           {
            "marker": {
             "colorbar": {
              "outlinewidth": 0,
              "ticks": ""
             }
            },
            "type": "scattercarpet"
           }
          ],
          "scattergeo": [
           {
            "marker": {
             "colorbar": {
              "outlinewidth": 0,
              "ticks": ""
             }
            },
            "type": "scattergeo"
           }
          ],
          "scattergl": [
           {
            "marker": {
             "colorbar": {
              "outlinewidth": 0,
              "ticks": ""
             }
            },
            "type": "scattergl"
           }
          ],
          "scattermapbox": [
           {
            "marker": {
             "colorbar": {
              "outlinewidth": 0,
              "ticks": ""
             }
            },
            "type": "scattermapbox"
           }
          ],
          "scatterpolar": [
           {
            "marker": {
             "colorbar": {
              "outlinewidth": 0,
              "ticks": ""
             }
            },
            "type": "scatterpolar"
           }
          ],
          "scatterpolargl": [
           {
            "marker": {
             "colorbar": {
              "outlinewidth": 0,
              "ticks": ""
             }
            },
            "type": "scatterpolargl"
           }
          ],
          "scatterternary": [
           {
            "marker": {
             "colorbar": {
              "outlinewidth": 0,
              "ticks": ""
             }
            },
            "type": "scatterternary"
           }
          ],
          "surface": [
           {
            "colorbar": {
             "outlinewidth": 0,
             "ticks": ""
            },
            "colorscale": [
             [
              0,
              "#0d0887"
             ],
             [
              0.1111111111111111,
              "#46039f"
             ],
             [
              0.2222222222222222,
              "#7201a8"
             ],
             [
              0.3333333333333333,
              "#9c179e"
             ],
             [
              0.4444444444444444,
              "#bd3786"
             ],
             [
              0.5555555555555556,
              "#d8576b"
             ],
             [
              0.6666666666666666,
              "#ed7953"
             ],
             [
              0.7777777777777778,
              "#fb9f3a"
             ],
             [
              0.8888888888888888,
              "#fdca26"
             ],
             [
              1,
              "#f0f921"
             ]
            ],
            "type": "surface"
           }
          ],
          "table": [
           {
            "cells": {
             "fill": {
              "color": "#EBF0F8"
             },
             "line": {
              "color": "white"
             }
            },
            "header": {
             "fill": {
              "color": "#C8D4E3"
             },
             "line": {
              "color": "white"
             }
            },
            "type": "table"
           }
          ]
         },
         "layout": {
          "annotationdefaults": {
           "arrowcolor": "#2a3f5f",
           "arrowhead": 0,
           "arrowwidth": 1
          },
          "autotypenumbers": "strict",
          "coloraxis": {
           "colorbar": {
            "outlinewidth": 0,
            "ticks": ""
           }
          },
          "colorscale": {
           "diverging": [
            [
             0,
             "#8e0152"
            ],
            [
             0.1,
             "#c51b7d"
            ],
            [
             0.2,
             "#de77ae"
            ],
            [
             0.3,
             "#f1b6da"
            ],
            [
             0.4,
             "#fde0ef"
            ],
            [
             0.5,
             "#f7f7f7"
            ],
            [
             0.6,
             "#e6f5d0"
            ],
            [
             0.7,
             "#b8e186"
            ],
            [
             0.8,
             "#7fbc41"
            ],
            [
             0.9,
             "#4d9221"
            ],
            [
             1,
             "#276419"
            ]
           ],
           "sequential": [
            [
             0,
             "#0d0887"
            ],
            [
             0.1111111111111111,
             "#46039f"
            ],
            [
             0.2222222222222222,
             "#7201a8"
            ],
            [
             0.3333333333333333,
             "#9c179e"
            ],
            [
             0.4444444444444444,
             "#bd3786"
            ],
            [
             0.5555555555555556,
             "#d8576b"
            ],
            [
             0.6666666666666666,
             "#ed7953"
            ],
            [
             0.7777777777777778,
             "#fb9f3a"
            ],
            [
             0.8888888888888888,
             "#fdca26"
            ],
            [
             1,
             "#f0f921"
            ]
           ],
           "sequentialminus": [
            [
             0,
             "#0d0887"
            ],
            [
             0.1111111111111111,
             "#46039f"
            ],
            [
             0.2222222222222222,
             "#7201a8"
            ],
            [
             0.3333333333333333,
             "#9c179e"
            ],
            [
             0.4444444444444444,
             "#bd3786"
            ],
            [
             0.5555555555555556,
             "#d8576b"
            ],
            [
             0.6666666666666666,
             "#ed7953"
            ],
            [
             0.7777777777777778,
             "#fb9f3a"
            ],
            [
             0.8888888888888888,
             "#fdca26"
            ],
            [
             1,
             "#f0f921"
            ]
           ]
          },
          "colorway": [
           "#636efa",
           "#EF553B",
           "#00cc96",
           "#ab63fa",
           "#FFA15A",
           "#19d3f3",
           "#FF6692",
           "#B6E880",
           "#FF97FF",
           "#FECB52"
          ],
          "font": {
           "color": "#2a3f5f"
          },
          "geo": {
           "bgcolor": "white",
           "lakecolor": "white",
           "landcolor": "#E5ECF6",
           "showlakes": true,
           "showland": true,
           "subunitcolor": "white"
          },
          "hoverlabel": {
           "align": "left"
          },
          "hovermode": "closest",
          "mapbox": {
           "style": "light"
          },
          "paper_bgcolor": "white",
          "plot_bgcolor": "#E5ECF6",
          "polar": {
           "angularaxis": {
            "gridcolor": "white",
            "linecolor": "white",
            "ticks": ""
           },
           "bgcolor": "#E5ECF6",
           "radialaxis": {
            "gridcolor": "white",
            "linecolor": "white",
            "ticks": ""
           }
          },
          "scene": {
           "xaxis": {
            "backgroundcolor": "#E5ECF6",
            "gridcolor": "white",
            "gridwidth": 2,
            "linecolor": "white",
            "showbackground": true,
            "ticks": "",
            "zerolinecolor": "white"
           },
           "yaxis": {
            "backgroundcolor": "#E5ECF6",
            "gridcolor": "white",
            "gridwidth": 2,
            "linecolor": "white",
            "showbackground": true,
            "ticks": "",
            "zerolinecolor": "white"
           },
           "zaxis": {
            "backgroundcolor": "#E5ECF6",
            "gridcolor": "white",
            "gridwidth": 2,
            "linecolor": "white",
            "showbackground": true,
            "ticks": "",
            "zerolinecolor": "white"
           }
          },
          "shapedefaults": {
           "line": {
            "color": "#2a3f5f"
           }
          },
          "ternary": {
           "aaxis": {
            "gridcolor": "white",
            "linecolor": "white",
            "ticks": ""
           },
           "baxis": {
            "gridcolor": "white",
            "linecolor": "white",
            "ticks": ""
           },
           "bgcolor": "#E5ECF6",
           "caxis": {
            "gridcolor": "white",
            "linecolor": "white",
            "ticks": ""
           }
          },
          "title": {
           "x": 0.05
          },
          "xaxis": {
           "automargin": true,
           "gridcolor": "white",
           "linecolor": "white",
           "ticks": "",
           "title": {
            "standoff": 15
           },
           "zerolinecolor": "white",
           "zerolinewidth": 2
          },
          "yaxis": {
           "automargin": true,
           "gridcolor": "white",
           "linecolor": "white",
           "ticks": "",
           "title": {
            "standoff": 15
           },
           "zerolinecolor": "white",
           "zerolinewidth": 2
          }
         }
        },
        "title": {
         "text": "GANTT Chart"
        },
        "xaxis": {
         "range": [
          "1970-01-01T01:13:04",
          "1970-01-02T06:17:04"
         ],
         "title": {
          "font": {
           "color": "#7f7f7f",
           "family": "Courier New, monospace",
           "size": 18
          },
          "text": "Time"
         }
        },
        "yaxis": {
         "title": {
          "font": {
           "color": "#7f7f7f",
           "family": "Courier New, monospace",
           "size": 18
          },
          "text": "Activities"
         }
        }
       }
      },
      "text/html": [
       "<div>                            <div id=\"88762e57-fd56-4bcf-8ec9-86ab6c4de149\" class=\"plotly-graph-div\" style=\"height:525px; width:100%;\"></div>            <script type=\"text/javascript\">                require([\"plotly\"], function(Plotly) {                    window.PLOTLYENV=window.PLOTLYENV || {};                                    if (document.getElementById(\"88762e57-fd56-4bcf-8ec9-86ab6c4de149\")) {                    Plotly.newPlot(                        \"88762e57-fd56-4bcf-8ec9-86ab6c4de149\",                        [{\"connectgaps\":false,\"hoverinfo\":\"y+name\",\"line\":{\"color\":\"rgb(88,140,43)\",\"width\":10},\"mode\":\"lines\",\"name\":\"loading:barge_1\",\"x\":[\"1970-01-01T01:46:24\",\"1970-01-01T01:46:24\",\"1970-01-01T02:19:44\",\"1970-01-01T02:19:44\",\"1970-01-01T02:19:44\",\"1970-01-01T04:51:28\",\"1970-01-01T04:51:28\",\"1970-01-01T05:24:48\",\"1970-01-01T05:24:48\",\"1970-01-01T05:24:48\",\"1970-01-01T07:56:32\",\"1970-01-01T07:56:32\",\"1970-01-01T08:29:52\",\"1970-01-01T08:29:52\",\"1970-01-01T08:29:52\",\"1970-01-01T11:01:36\",\"1970-01-01T11:01:36\",\"1970-01-01T11:34:56\",\"1970-01-01T11:34:56\",\"1970-01-01T11:34:56\",\"1970-01-01T14:37:20\",\"1970-01-01T14:37:20\",\"1970-01-01T15:10:40\",\"1970-01-01T15:10:40\",\"1970-01-01T15:10:40\",\"1970-01-01T18:18:12\",\"1970-01-01T18:18:12\",\"1970-01-01T18:51:32\",\"1970-01-01T18:51:32\",\"1970-01-01T18:51:32\",\"1970-01-01T21:59:04\",\"1970-01-01T21:59:04\",\"1970-01-01T22:32:24\",\"1970-01-01T22:32:24\",\"1970-01-01T22:32:24\",\"1970-01-02T01:39:56\",\"1970-01-02T01:39:56\",\"1970-01-02T02:13:16\",\"1970-01-02T02:13:16\",\"1970-01-02T02:13:16\",\"1970-01-01T01:46:24\",\"1970-01-01T01:46:24\",\"1970-01-01T02:19:44\",\"1970-01-01T02:19:44\",\"1970-01-01T02:19:44\",\"1970-01-01T04:51:28\",\"1970-01-01T04:51:28\",\"1970-01-01T05:24:48\",\"1970-01-01T05:24:48\",\"1970-01-01T05:24:48\",\"1970-01-01T07:56:32\",\"1970-01-01T07:56:32\",\"1970-01-01T08:29:52\",\"1970-01-01T08:29:52\",\"1970-01-01T08:29:52\",\"1970-01-01T11:01:36\",\"1970-01-01T11:01:36\",\"1970-01-01T11:34:56\",\"1970-01-01T11:34:56\",\"1970-01-01T11:34:56\",\"1970-01-01T14:37:20\",\"1970-01-01T14:37:20\",\"1970-01-01T15:10:40\",\"1970-01-01T15:10:40\",\"1970-01-01T15:10:40\",\"1970-01-01T18:18:12\",\"1970-01-01T18:18:12\",\"1970-01-01T18:51:32\",\"1970-01-01T18:51:32\",\"1970-01-01T18:51:32\",\"1970-01-01T21:59:04\",\"1970-01-01T21:59:04\",\"1970-01-01T22:32:24\",\"1970-01-01T22:32:24\",\"1970-01-01T22:32:24\",\"1970-01-02T01:39:56\",\"1970-01-02T01:39:56\",\"1970-01-02T02:13:16\",\"1970-01-02T02:13:16\",\"1970-01-02T02:13:16\"],\"y\":[\"from_site\",\"from_site\",\"from_site\",\"from_site\",null,\"from_site\",\"from_site\",\"from_site\",\"from_site\",null,\"from_site\",\"from_site\",\"from_site\",\"from_site\",null,\"from_site\",\"from_site\",\"from_site\",\"from_site\",null,\"from_site\",\"from_site\",\"from_site\",\"from_site\",null,\"from_site\",\"from_site\",\"from_site\",\"from_site\",null,\"from_site\",\"from_site\",\"from_site\",\"from_site\",null,\"from_site\",\"from_site\",\"from_site\",\"from_site\",null,\"cutter\",\"cutter\",\"cutter\",\"cutter\",null,\"cutter\",\"cutter\",\"cutter\",\"cutter\",null,\"cutter\",\"cutter\",\"cutter\",\"cutter\",null,\"cutter\",\"cutter\",\"cutter\",\"cutter\",null,\"cutter\",\"cutter\",\"cutter\",\"cutter\",null,\"cutter\",\"cutter\",\"cutter\",\"cutter\",null,\"cutter\",\"cutter\",\"cutter\",\"cutter\",null,\"cutter\",\"cutter\",\"cutter\",\"cutter\",null],\"type\":\"scatter\"},{\"connectgaps\":false,\"hoverinfo\":\"y+name\",\"line\":{\"color\":\"rgb(116,168,71)\",\"width\":10},\"mode\":\"lines\",\"name\":\"loading:barge_0\",\"x\":[\"1970-01-01T01:13:04\",\"1970-01-01T01:13:04\",\"1970-01-01T01:46:24\",\"1970-01-01T01:46:24\",\"1970-01-01T01:46:24\",\"1970-01-01T04:12:32\",\"1970-01-01T04:12:32\",\"1970-01-01T04:45:52\",\"1970-01-01T04:45:52\",\"1970-01-01T04:45:52\",\"1970-01-01T07:12:00\",\"1970-01-01T07:12:00\",\"1970-01-01T07:45:20\",\"1970-01-01T07:45:20\",\"1970-01-01T07:45:20\",\"1970-01-01T10:23:08\",\"1970-01-01T10:23:08\",\"1970-01-01T10:56:28\",\"1970-01-01T10:56:28\",\"1970-01-01T10:56:28\",\"1970-01-01T14:04:00\",\"1970-01-01T14:04:00\",\"1970-01-01T14:37:20\",\"1970-01-01T14:37:20\",\"1970-01-01T14:37:20\",\"1970-01-01T17:44:52\",\"1970-01-01T17:44:52\",\"1970-01-01T18:18:12\",\"1970-01-01T18:18:12\",\"1970-01-01T18:18:12\",\"1970-01-01T21:25:44\",\"1970-01-01T21:25:44\",\"1970-01-01T21:59:04\",\"1970-01-01T21:59:04\",\"1970-01-01T21:59:04\",\"1970-01-02T01:06:36\",\"1970-01-02T01:06:36\",\"1970-01-02T01:39:56\",\"1970-01-02T01:39:56\",\"1970-01-02T01:39:56\",\"1970-01-01T01:13:04\",\"1970-01-01T01:13:04\",\"1970-01-01T01:46:24\",\"1970-01-01T01:46:24\",\"1970-01-01T01:46:24\",\"1970-01-01T04:12:32\",\"1970-01-01T04:12:32\",\"1970-01-01T04:45:52\",\"1970-01-01T04:45:52\",\"1970-01-01T04:45:52\",\"1970-01-01T07:12:00\",\"1970-01-01T07:12:00\",\"1970-01-01T07:45:20\",\"1970-01-01T07:45:20\",\"1970-01-01T07:45:20\",\"1970-01-01T10:23:08\",\"1970-01-01T10:23:08\",\"1970-01-01T10:56:28\",\"1970-01-01T10:56:28\",\"1970-01-01T10:56:28\",\"1970-01-01T14:04:00\",\"1970-01-01T14:04:00\",\"1970-01-01T14:37:20\",\"1970-01-01T14:37:20\",\"1970-01-01T14:37:20\",\"1970-01-01T17:44:52\",\"1970-01-01T17:44:52\",\"1970-01-01T18:18:12\",\"1970-01-01T18:18:12\",\"1970-01-01T18:18:12\",\"1970-01-01T21:25:44\",\"1970-01-01T21:25:44\",\"1970-01-01T21:59:04\",\"1970-01-01T21:59:04\",\"1970-01-01T21:59:04\",\"1970-01-02T01:06:36\",\"1970-01-02T01:06:36\",\"1970-01-02T01:39:56\",\"1970-01-02T01:39:56\",\"1970-01-02T01:39:56\"],\"y\":[\"from_site\",\"from_site\",\"from_site\",\"from_site\",null,\"from_site\",\"from_site\",\"from_site\",\"from_site\",null,\"from_site\",\"from_site\",\"from_site\",\"from_site\",null,\"from_site\",\"from_site\",\"from_site\",\"from_site\",null,\"from_site\",\"from_site\",\"from_site\",\"from_site\",null,\"from_site\",\"from_site\",\"from_site\",\"from_site\",null,\"from_site\",\"from_site\",\"from_site\",\"from_site\",null,\"from_site\",\"from_site\",\"from_site\",\"from_site\",null,\"cutter\",\"cutter\",\"cutter\",\"cutter\",null,\"cutter\",\"cutter\",\"cutter\",\"cutter\",null,\"cutter\",\"cutter\",\"cutter\",\"cutter\",null,\"cutter\",\"cutter\",\"cutter\",\"cutter\",null,\"cutter\",\"cutter\",\"cutter\",\"cutter\",null,\"cutter\",\"cutter\",\"cutter\",\"cutter\",null,\"cutter\",\"cutter\",\"cutter\",\"cutter\",null,\"cutter\",\"cutter\",\"cutter\",\"cutter\",null],\"type\":\"scatter\"},{\"connectgaps\":false,\"hoverinfo\":\"y+name\",\"line\":{\"color\":\"rgb(144,196,99)\",\"width\":10},\"mode\":\"lines\",\"name\":\"loading:barge_2\",\"x\":[\"1970-01-01T02:19:44\",\"1970-01-01T02:19:44\",\"1970-01-01T03:01:24\",\"1970-01-01T03:01:24\",\"1970-01-01T03:01:24\",\"1970-01-01T06:00:36\",\"1970-01-01T06:00:36\",\"1970-01-01T06:42:16\",\"1970-01-01T06:42:16\",\"1970-01-01T06:42:16\",\"1970-01-01T09:41:28\",\"1970-01-01T09:41:28\",\"1970-01-01T10:23:08\",\"1970-01-01T10:23:08\",\"1970-01-01T10:23:08\",\"1970-01-01T13:22:20\",\"1970-01-01T13:22:20\",\"1970-01-01T14:04:00\",\"1970-01-01T14:04:00\",\"1970-01-01T14:04:00\",\"1970-01-01T17:03:12\",\"1970-01-01T17:03:12\",\"1970-01-01T17:44:52\",\"1970-01-01T17:44:52\",\"1970-01-01T17:44:52\",\"1970-01-01T20:44:04\",\"1970-01-01T20:44:04\",\"1970-01-01T21:25:44\",\"1970-01-01T21:25:44\",\"1970-01-01T21:25:44\",\"1970-01-02T00:24:56\",\"1970-01-02T00:24:56\",\"1970-01-02T01:06:36\",\"1970-01-02T01:06:36\",\"1970-01-02T01:06:36\",\"1970-01-02T04:05:48\",\"1970-01-02T04:05:48\",\"1970-01-02T04:47:28\",\"1970-01-02T04:47:28\",\"1970-01-02T04:47:28\",\"1970-01-01T02:19:44\",\"1970-01-01T02:19:44\",\"1970-01-01T03:01:24\",\"1970-01-01T03:01:24\",\"1970-01-01T03:01:24\",\"1970-01-01T06:00:36\",\"1970-01-01T06:00:36\",\"1970-01-01T06:42:16\",\"1970-01-01T06:42:16\",\"1970-01-01T06:42:16\",\"1970-01-01T09:41:28\",\"1970-01-01T09:41:28\",\"1970-01-01T10:23:08\",\"1970-01-01T10:23:08\",\"1970-01-01T10:23:08\",\"1970-01-01T13:22:20\",\"1970-01-01T13:22:20\",\"1970-01-01T14:04:00\",\"1970-01-01T14:04:00\",\"1970-01-01T14:04:00\",\"1970-01-01T17:03:12\",\"1970-01-01T17:03:12\",\"1970-01-01T17:44:52\",\"1970-01-01T17:44:52\",\"1970-01-01T17:44:52\",\"1970-01-01T20:44:04\",\"1970-01-01T20:44:04\",\"1970-01-01T21:25:44\",\"1970-01-01T21:25:44\",\"1970-01-01T21:25:44\",\"1970-01-02T00:24:56\",\"1970-01-02T00:24:56\",\"1970-01-02T01:06:36\",\"1970-01-02T01:06:36\",\"1970-01-02T01:06:36\",\"1970-01-02T04:05:48\",\"1970-01-02T04:05:48\",\"1970-01-02T04:47:28\",\"1970-01-02T04:47:28\",\"1970-01-02T04:47:28\"],\"y\":[\"from_site\",\"from_site\",\"from_site\",\"from_site\",null,\"from_site\",\"from_site\",\"from_site\",\"from_site\",null,\"from_site\",\"from_site\",\"from_site\",\"from_site\",null,\"from_site\",\"from_site\",\"from_site\",\"from_site\",null,\"from_site\",\"from_site\",\"from_site\",\"from_site\",null,\"from_site\",\"from_site\",\"from_site\",\"from_site\",null,\"from_site\",\"from_site\",\"from_site\",\"from_site\",null,\"from_site\",\"from_site\",\"from_site\",\"from_site\",null,\"cutter\",\"cutter\",\"cutter\",\"cutter\",null,\"cutter\",\"cutter\",\"cutter\",\"cutter\",null,\"cutter\",\"cutter\",\"cutter\",\"cutter\",null,\"cutter\",\"cutter\",\"cutter\",\"cutter\",null,\"cutter\",\"cutter\",\"cutter\",\"cutter\",null,\"cutter\",\"cutter\",\"cutter\",\"cutter\",null,\"cutter\",\"cutter\",\"cutter\",\"cutter\",null,\"cutter\",\"cutter\",\"cutter\",\"cutter\",null],\"type\":\"scatter\"},{\"connectgaps\":false,\"hoverinfo\":\"y+name\",\"line\":{\"color\":\"rgb(172,224,127)\",\"width\":10},\"mode\":\"lines\",\"name\":\"unloading:barge_1\",\"x\":[\"1970-01-01T02:57:40\",\"1970-01-01T02:57:40\",\"1970-01-01T03:35:36\",\"1970-01-01T03:35:36\",\"1970-01-01T03:35:36\",\"1970-01-01T06:02:44\",\"1970-01-01T06:02:44\",\"1970-01-01T06:40:40\",\"1970-01-01T06:40:40\",\"1970-01-01T06:40:40\",\"1970-01-01T09:07:48\",\"1970-01-01T09:07:48\",\"1970-01-01T09:45:44\",\"1970-01-01T09:45:44\",\"1970-01-01T09:45:44\",\"1970-01-01T12:12:52\",\"1970-01-01T12:12:52\",\"1970-01-01T12:50:48\",\"1970-01-01T12:50:48\",\"1970-01-01T12:50:48\",\"1970-01-01T15:48:36\",\"1970-01-01T15:48:36\",\"1970-01-01T16:26:32\",\"1970-01-01T16:26:32\",\"1970-01-01T16:26:32\",\"1970-01-01T19:29:28\",\"1970-01-01T19:29:28\",\"1970-01-01T20:07:24\",\"1970-01-01T20:07:24\",\"1970-01-01T20:07:24\",\"1970-01-01T23:10:20\",\"1970-01-01T23:10:20\",\"1970-01-01T23:48:16\",\"1970-01-01T23:48:16\",\"1970-01-01T23:48:16\",\"1970-01-02T02:51:12\",\"1970-01-02T02:51:12\",\"1970-01-02T03:29:08\",\"1970-01-02T03:29:08\",\"1970-01-02T03:29:08\"],\"y\":[\"to_site\",\"to_site\",\"to_site\",\"to_site\",null,\"to_site\",\"to_site\",\"to_site\",\"to_site\",null,\"to_site\",\"to_site\",\"to_site\",\"to_site\",null,\"to_site\",\"to_site\",\"to_site\",\"to_site\",null,\"to_site\",\"to_site\",\"to_site\",\"to_site\",null,\"to_site\",\"to_site\",\"to_site\",\"to_site\",null,\"to_site\",\"to_site\",\"to_site\",\"to_site\",null,\"to_site\",\"to_site\",\"to_site\",\"to_site\",null],\"type\":\"scatter\"},{\"connectgaps\":false,\"hoverinfo\":\"y+name\",\"line\":{\"color\":\"rgb(200,252,155)\",\"width\":10},\"mode\":\"lines\",\"name\":\"unloading:barge_0\",\"x\":[\"1970-01-01T02:22:56\",\"1970-01-01T02:22:56\",\"1970-01-01T02:59:28\",\"1970-01-01T02:59:28\",\"1970-01-01T02:59:28\",\"1970-01-01T05:22:24\",\"1970-01-01T05:22:24\",\"1970-01-01T05:58:56\",\"1970-01-01T05:58:56\",\"1970-01-01T05:58:56\",\"1970-01-01T08:21:52\",\"1970-01-01T08:21:52\",\"1970-01-01T08:58:24\",\"1970-01-01T08:58:24\",\"1970-01-01T08:58:24\",\"1970-01-01T11:33:00\",\"1970-01-01T11:33:00\",\"1970-01-01T12:09:32\",\"1970-01-01T12:09:32\",\"1970-01-01T12:09:32\",\"1970-01-01T15:13:52\",\"1970-01-01T15:13:52\",\"1970-01-01T15:50:24\",\"1970-01-01T15:50:24\",\"1970-01-01T15:50:24\",\"1970-01-01T18:54:44\",\"1970-01-01T18:54:44\",\"1970-01-01T19:31:16\",\"1970-01-01T19:31:16\",\"1970-01-01T19:31:16\",\"1970-01-01T22:35:36\",\"1970-01-01T22:35:36\",\"1970-01-01T23:12:08\",\"1970-01-01T23:12:08\",\"1970-01-01T23:12:08\",\"1970-01-02T02:16:28\",\"1970-01-02T02:16:28\",\"1970-01-02T02:53:00\",\"1970-01-02T02:53:00\",\"1970-01-02T02:53:00\"],\"y\":[\"to_site\",\"to_site\",\"to_site\",\"to_site\",null,\"to_site\",\"to_site\",\"to_site\",\"to_site\",null,\"to_site\",\"to_site\",\"to_site\",\"to_site\",null,\"to_site\",\"to_site\",\"to_site\",\"to_site\",null,\"to_site\",\"to_site\",\"to_site\",\"to_site\",null,\"to_site\",\"to_site\",\"to_site\",\"to_site\",null,\"to_site\",\"to_site\",\"to_site\",\"to_site\",null,\"to_site\",\"to_site\",\"to_site\",\"to_site\",null],\"type\":\"scatter\"},{\"connectgaps\":false,\"hoverinfo\":\"y+name\",\"line\":{\"color\":\"rgb(228,24,183)\",\"width\":10},\"mode\":\"lines\",\"name\":\"unloading:barge_2\",\"x\":[\"1970-01-01T03:46:12\",\"1970-01-01T03:46:12\",\"1970-01-01T04:31:00\",\"1970-01-01T04:31:00\",\"1970-01-01T04:31:00\",\"1970-01-01T07:27:04\",\"1970-01-01T07:27:04\",\"1970-01-01T08:11:52\",\"1970-01-01T08:11:52\",\"1970-01-01T08:11:52\",\"1970-01-01T11:07:56\",\"1970-01-01T11:07:56\",\"1970-01-01T11:52:44\",\"1970-01-01T11:52:44\",\"1970-01-01T11:52:44\",\"1970-01-01T14:48:48\",\"1970-01-01T14:48:48\",\"1970-01-01T15:33:36\",\"1970-01-01T15:33:36\",\"1970-01-01T15:33:36\",\"1970-01-01T18:29:40\",\"1970-01-01T18:29:40\",\"1970-01-01T19:14:28\",\"1970-01-01T19:14:28\",\"1970-01-01T19:14:28\",\"1970-01-01T22:10:32\",\"1970-01-01T22:10:32\",\"1970-01-01T22:55:20\",\"1970-01-01T22:55:20\",\"1970-01-01T22:55:20\",\"1970-01-02T01:51:24\",\"1970-01-02T01:51:24\",\"1970-01-02T02:36:12\",\"1970-01-02T02:36:12\",\"1970-01-02T02:36:12\",\"1970-01-02T05:32:16\",\"1970-01-02T05:32:16\",\"1970-01-02T06:17:04\",\"1970-01-02T06:17:04\",\"1970-01-02T06:17:04\"],\"y\":[\"to_site\",\"to_site\",\"to_site\",\"to_site\",null,\"to_site\",\"to_site\",\"to_site\",\"to_site\",null,\"to_site\",\"to_site\",\"to_site\",\"to_site\",null,\"to_site\",\"to_site\",\"to_site\",\"to_site\",null,\"to_site\",\"to_site\",\"to_site\",\"to_site\",null,\"to_site\",\"to_site\",\"to_site\",\"to_site\",null,\"to_site\",\"to_site\",\"to_site\",\"to_site\",null,\"to_site\",\"to_site\",\"to_site\",\"to_site\",null],\"type\":\"scatter\"},{\"connectgaps\":false,\"hoverinfo\":\"y+name\",\"line\":{\"color\":\"rgb(0,52,211)\",\"width\":10},\"mode\":\"lines\",\"name\":\"loading:barge_1\",\"x\":[\"1970-01-01T01:46:24\",\"1970-01-01T01:46:24\",\"1970-01-01T02:19:44\",\"1970-01-01T02:19:44\",\"1970-01-01T02:19:44\",\"1970-01-01T04:51:28\",\"1970-01-01T04:51:28\",\"1970-01-01T05:24:48\",\"1970-01-01T05:24:48\",\"1970-01-01T05:24:48\",\"1970-01-01T07:56:32\",\"1970-01-01T07:56:32\",\"1970-01-01T08:29:52\",\"1970-01-01T08:29:52\",\"1970-01-01T08:29:52\",\"1970-01-01T11:01:36\",\"1970-01-01T11:01:36\",\"1970-01-01T11:34:56\",\"1970-01-01T11:34:56\",\"1970-01-01T11:34:56\",\"1970-01-01T14:37:20\",\"1970-01-01T14:37:20\",\"1970-01-01T15:10:40\",\"1970-01-01T15:10:40\",\"1970-01-01T15:10:40\",\"1970-01-01T18:18:12\",\"1970-01-01T18:18:12\",\"1970-01-01T18:51:32\",\"1970-01-01T18:51:32\",\"1970-01-01T18:51:32\",\"1970-01-01T21:59:04\",\"1970-01-01T21:59:04\",\"1970-01-01T22:32:24\",\"1970-01-01T22:32:24\",\"1970-01-01T22:32:24\",\"1970-01-02T01:39:56\",\"1970-01-02T01:39:56\",\"1970-01-02T02:13:16\",\"1970-01-02T02:13:16\",\"1970-01-02T02:13:16\",\"1970-01-01T01:46:24\",\"1970-01-01T01:46:24\",\"1970-01-01T02:19:44\",\"1970-01-01T02:19:44\",\"1970-01-01T02:19:44\",\"1970-01-01T04:51:28\",\"1970-01-01T04:51:28\",\"1970-01-01T05:24:48\",\"1970-01-01T05:24:48\",\"1970-01-01T05:24:48\",\"1970-01-01T07:56:32\",\"1970-01-01T07:56:32\",\"1970-01-01T08:29:52\",\"1970-01-01T08:29:52\",\"1970-01-01T08:29:52\",\"1970-01-01T11:01:36\",\"1970-01-01T11:01:36\",\"1970-01-01T11:34:56\",\"1970-01-01T11:34:56\",\"1970-01-01T11:34:56\",\"1970-01-01T14:37:20\",\"1970-01-01T14:37:20\",\"1970-01-01T15:10:40\",\"1970-01-01T15:10:40\",\"1970-01-01T15:10:40\",\"1970-01-01T18:18:12\",\"1970-01-01T18:18:12\",\"1970-01-01T18:51:32\",\"1970-01-01T18:51:32\",\"1970-01-01T18:51:32\",\"1970-01-01T21:59:04\",\"1970-01-01T21:59:04\",\"1970-01-01T22:32:24\",\"1970-01-01T22:32:24\",\"1970-01-01T22:32:24\",\"1970-01-02T01:39:56\",\"1970-01-02T01:39:56\",\"1970-01-02T02:13:16\",\"1970-01-02T02:13:16\",\"1970-01-02T02:13:16\"],\"y\":[\"from_site\",\"from_site\",\"from_site\",\"from_site\",null,\"from_site\",\"from_site\",\"from_site\",\"from_site\",null,\"from_site\",\"from_site\",\"from_site\",\"from_site\",null,\"from_site\",\"from_site\",\"from_site\",\"from_site\",null,\"from_site\",\"from_site\",\"from_site\",\"from_site\",null,\"from_site\",\"from_site\",\"from_site\",\"from_site\",null,\"from_site\",\"from_site\",\"from_site\",\"from_site\",null,\"from_site\",\"from_site\",\"from_site\",\"from_site\",null,\"cutter\",\"cutter\",\"cutter\",\"cutter\",null,\"cutter\",\"cutter\",\"cutter\",\"cutter\",null,\"cutter\",\"cutter\",\"cutter\",\"cutter\",null,\"cutter\",\"cutter\",\"cutter\",\"cutter\",null,\"cutter\",\"cutter\",\"cutter\",\"cutter\",null,\"cutter\",\"cutter\",\"cutter\",\"cutter\",null,\"cutter\",\"cutter\",\"cutter\",\"cutter\",null,\"cutter\",\"cutter\",\"cutter\",\"cutter\",null],\"type\":\"scatter\"},{\"connectgaps\":false,\"hoverinfo\":\"y+name\",\"line\":{\"color\":\"rgb(28,80,239)\",\"width\":10},\"mode\":\"lines\",\"name\":\"loading:barge_0\",\"x\":[\"1970-01-01T01:13:04\",\"1970-01-01T01:13:04\",\"1970-01-01T01:46:24\",\"1970-01-01T01:46:24\",\"1970-01-01T01:46:24\",\"1970-01-01T04:12:32\",\"1970-01-01T04:12:32\",\"1970-01-01T04:45:52\",\"1970-01-01T04:45:52\",\"1970-01-01T04:45:52\",\"1970-01-01T07:12:00\",\"1970-01-01T07:12:00\",\"1970-01-01T07:45:20\",\"1970-01-01T07:45:20\",\"1970-01-01T07:45:20\",\"1970-01-01T10:23:08\",\"1970-01-01T10:23:08\",\"1970-01-01T10:56:28\",\"1970-01-01T10:56:28\",\"1970-01-01T10:56:28\",\"1970-01-01T14:04:00\",\"1970-01-01T14:04:00\",\"1970-01-01T14:37:20\",\"1970-01-01T14:37:20\",\"1970-01-01T14:37:20\",\"1970-01-01T17:44:52\",\"1970-01-01T17:44:52\",\"1970-01-01T18:18:12\",\"1970-01-01T18:18:12\",\"1970-01-01T18:18:12\",\"1970-01-01T21:25:44\",\"1970-01-01T21:25:44\",\"1970-01-01T21:59:04\",\"1970-01-01T21:59:04\",\"1970-01-01T21:59:04\",\"1970-01-02T01:06:36\",\"1970-01-02T01:06:36\",\"1970-01-02T01:39:56\",\"1970-01-02T01:39:56\",\"1970-01-02T01:39:56\",\"1970-01-01T01:13:04\",\"1970-01-01T01:13:04\",\"1970-01-01T01:46:24\",\"1970-01-01T01:46:24\",\"1970-01-01T01:46:24\",\"1970-01-01T04:12:32\",\"1970-01-01T04:12:32\",\"1970-01-01T04:45:52\",\"1970-01-01T04:45:52\",\"1970-01-01T04:45:52\",\"1970-01-01T07:12:00\",\"1970-01-01T07:12:00\",\"1970-01-01T07:45:20\",\"1970-01-01T07:45:20\",\"1970-01-01T07:45:20\",\"1970-01-01T10:23:08\",\"1970-01-01T10:23:08\",\"1970-01-01T10:56:28\",\"1970-01-01T10:56:28\",\"1970-01-01T10:56:28\",\"1970-01-01T14:04:00\",\"1970-01-01T14:04:00\",\"1970-01-01T14:37:20\",\"1970-01-01T14:37:20\",\"1970-01-01T14:37:20\",\"1970-01-01T17:44:52\",\"1970-01-01T17:44:52\",\"1970-01-01T18:18:12\",\"1970-01-01T18:18:12\",\"1970-01-01T18:18:12\",\"1970-01-01T21:25:44\",\"1970-01-01T21:25:44\",\"1970-01-01T21:59:04\",\"1970-01-01T21:59:04\",\"1970-01-01T21:59:04\",\"1970-01-02T01:06:36\",\"1970-01-02T01:06:36\",\"1970-01-02T01:39:56\",\"1970-01-02T01:39:56\",\"1970-01-02T01:39:56\"],\"y\":[\"from_site\",\"from_site\",\"from_site\",\"from_site\",null,\"from_site\",\"from_site\",\"from_site\",\"from_site\",null,\"from_site\",\"from_site\",\"from_site\",\"from_site\",null,\"from_site\",\"from_site\",\"from_site\",\"from_site\",null,\"from_site\",\"from_site\",\"from_site\",\"from_site\",null,\"from_site\",\"from_site\",\"from_site\",\"from_site\",null,\"from_site\",\"from_site\",\"from_site\",\"from_site\",null,\"from_site\",\"from_site\",\"from_site\",\"from_site\",null,\"cutter\",\"cutter\",\"cutter\",\"cutter\",null,\"cutter\",\"cutter\",\"cutter\",\"cutter\",null,\"cutter\",\"cutter\",\"cutter\",\"cutter\",null,\"cutter\",\"cutter\",\"cutter\",\"cutter\",null,\"cutter\",\"cutter\",\"cutter\",\"cutter\",null,\"cutter\",\"cutter\",\"cutter\",\"cutter\",null,\"cutter\",\"cutter\",\"cutter\",\"cutter\",null,\"cutter\",\"cutter\",\"cutter\",\"cutter\",null],\"type\":\"scatter\"},{\"connectgaps\":false,\"hoverinfo\":\"y+name\",\"line\":{\"color\":\"rgb(56,108,11)\",\"width\":10},\"mode\":\"lines\",\"name\":\"loading:barge_2\",\"x\":[\"1970-01-01T02:19:44\",\"1970-01-01T02:19:44\",\"1970-01-01T03:01:24\",\"1970-01-01T03:01:24\",\"1970-01-01T03:01:24\",\"1970-01-01T06:00:36\",\"1970-01-01T06:00:36\",\"1970-01-01T06:42:16\",\"1970-01-01T06:42:16\",\"1970-01-01T06:42:16\",\"1970-01-01T09:41:28\",\"1970-01-01T09:41:28\",\"1970-01-01T10:23:08\",\"1970-01-01T10:23:08\",\"1970-01-01T10:23:08\",\"1970-01-01T13:22:20\",\"1970-01-01T13:22:20\",\"1970-01-01T14:04:00\",\"1970-01-01T14:04:00\",\"1970-01-01T14:04:00\",\"1970-01-01T17:03:12\",\"1970-01-01T17:03:12\",\"1970-01-01T17:44:52\",\"1970-01-01T17:44:52\",\"1970-01-01T17:44:52\",\"1970-01-01T20:44:04\",\"1970-01-01T20:44:04\",\"1970-01-01T21:25:44\",\"1970-01-01T21:25:44\",\"1970-01-01T21:25:44\",\"1970-01-02T00:24:56\",\"1970-01-02T00:24:56\",\"1970-01-02T01:06:36\",\"1970-01-02T01:06:36\",\"1970-01-02T01:06:36\",\"1970-01-02T04:05:48\",\"1970-01-02T04:05:48\",\"1970-01-02T04:47:28\",\"1970-01-02T04:47:28\",\"1970-01-02T04:47:28\",\"1970-01-01T02:19:44\",\"1970-01-01T02:19:44\",\"1970-01-01T03:01:24\",\"1970-01-01T03:01:24\",\"1970-01-01T03:01:24\",\"1970-01-01T06:00:36\",\"1970-01-01T06:00:36\",\"1970-01-01T06:42:16\",\"1970-01-01T06:42:16\",\"1970-01-01T06:42:16\",\"1970-01-01T09:41:28\",\"1970-01-01T09:41:28\",\"1970-01-01T10:23:08\",\"1970-01-01T10:23:08\",\"1970-01-01T10:23:08\",\"1970-01-01T13:22:20\",\"1970-01-01T13:22:20\",\"1970-01-01T14:04:00\",\"1970-01-01T14:04:00\",\"1970-01-01T14:04:00\",\"1970-01-01T17:03:12\",\"1970-01-01T17:03:12\",\"1970-01-01T17:44:52\",\"1970-01-01T17:44:52\",\"1970-01-01T17:44:52\",\"1970-01-01T20:44:04\",\"1970-01-01T20:44:04\",\"1970-01-01T21:25:44\",\"1970-01-01T21:25:44\",\"1970-01-01T21:25:44\",\"1970-01-02T00:24:56\",\"1970-01-02T00:24:56\",\"1970-01-02T01:06:36\",\"1970-01-02T01:06:36\",\"1970-01-02T01:06:36\",\"1970-01-02T04:05:48\",\"1970-01-02T04:05:48\",\"1970-01-02T04:47:28\",\"1970-01-02T04:47:28\",\"1970-01-02T04:47:28\"],\"y\":[\"from_site\",\"from_site\",\"from_site\",\"from_site\",null,\"from_site\",\"from_site\",\"from_site\",\"from_site\",null,\"from_site\",\"from_site\",\"from_site\",\"from_site\",null,\"from_site\",\"from_site\",\"from_site\",\"from_site\",null,\"from_site\",\"from_site\",\"from_site\",\"from_site\",null,\"from_site\",\"from_site\",\"from_site\",\"from_site\",null,\"from_site\",\"from_site\",\"from_site\",\"from_site\",null,\"from_site\",\"from_site\",\"from_site\",\"from_site\",null,\"cutter\",\"cutter\",\"cutter\",\"cutter\",null,\"cutter\",\"cutter\",\"cutter\",\"cutter\",null,\"cutter\",\"cutter\",\"cutter\",\"cutter\",null,\"cutter\",\"cutter\",\"cutter\",\"cutter\",null,\"cutter\",\"cutter\",\"cutter\",\"cutter\",null,\"cutter\",\"cutter\",\"cutter\",\"cutter\",null,\"cutter\",\"cutter\",\"cutter\",\"cutter\",null,\"cutter\",\"cutter\",\"cutter\",\"cutter\",null],\"type\":\"scatter\"}],                        {\"hovermode\":\"closest\",\"legend\":{\"orientation\":\"h\",\"x\":0,\"y\":-0.2},\"template\":{\"data\":{\"barpolar\":[{\"marker\":{\"line\":{\"color\":\"#E5ECF6\",\"width\":0.5},\"pattern\":{\"fillmode\":\"overlay\",\"size\":10,\"solidity\":0.2}},\"type\":\"barpolar\"}],\"bar\":[{\"error_x\":{\"color\":\"#2a3f5f\"},\"error_y\":{\"color\":\"#2a3f5f\"},\"marker\":{\"line\":{\"color\":\"#E5ECF6\",\"width\":0.5},\"pattern\":{\"fillmode\":\"overlay\",\"size\":10,\"solidity\":0.2}},\"type\":\"bar\"}],\"carpet\":[{\"aaxis\":{\"endlinecolor\":\"#2a3f5f\",\"gridcolor\":\"white\",\"linecolor\":\"white\",\"minorgridcolor\":\"white\",\"startlinecolor\":\"#2a3f5f\"},\"baxis\":{\"endlinecolor\":\"#2a3f5f\",\"gridcolor\":\"white\",\"linecolor\":\"white\",\"minorgridcolor\":\"white\",\"startlinecolor\":\"#2a3f5f\"},\"type\":\"carpet\"}],\"choropleth\":[{\"colorbar\":{\"outlinewidth\":0,\"ticks\":\"\"},\"type\":\"choropleth\"}],\"contourcarpet\":[{\"colorbar\":{\"outlinewidth\":0,\"ticks\":\"\"},\"type\":\"contourcarpet\"}],\"contour\":[{\"colorbar\":{\"outlinewidth\":0,\"ticks\":\"\"},\"colorscale\":[[0.0,\"#0d0887\"],[0.1111111111111111,\"#46039f\"],[0.2222222222222222,\"#7201a8\"],[0.3333333333333333,\"#9c179e\"],[0.4444444444444444,\"#bd3786\"],[0.5555555555555556,\"#d8576b\"],[0.6666666666666666,\"#ed7953\"],[0.7777777777777778,\"#fb9f3a\"],[0.8888888888888888,\"#fdca26\"],[1.0,\"#f0f921\"]],\"type\":\"contour\"}],\"heatmapgl\":[{\"colorbar\":{\"outlinewidth\":0,\"ticks\":\"\"},\"colorscale\":[[0.0,\"#0d0887\"],[0.1111111111111111,\"#46039f\"],[0.2222222222222222,\"#7201a8\"],[0.3333333333333333,\"#9c179e\"],[0.4444444444444444,\"#bd3786\"],[0.5555555555555556,\"#d8576b\"],[0.6666666666666666,\"#ed7953\"],[0.7777777777777778,\"#fb9f3a\"],[0.8888888888888888,\"#fdca26\"],[1.0,\"#f0f921\"]],\"type\":\"heatmapgl\"}],\"heatmap\":[{\"colorbar\":{\"outlinewidth\":0,\"ticks\":\"\"},\"colorscale\":[[0.0,\"#0d0887\"],[0.1111111111111111,\"#46039f\"],[0.2222222222222222,\"#7201a8\"],[0.3333333333333333,\"#9c179e\"],[0.4444444444444444,\"#bd3786\"],[0.5555555555555556,\"#d8576b\"],[0.6666666666666666,\"#ed7953\"],[0.7777777777777778,\"#fb9f3a\"],[0.8888888888888888,\"#fdca26\"],[1.0,\"#f0f921\"]],\"type\":\"heatmap\"}],\"histogram2dcontour\":[{\"colorbar\":{\"outlinewidth\":0,\"ticks\":\"\"},\"colorscale\":[[0.0,\"#0d0887\"],[0.1111111111111111,\"#46039f\"],[0.2222222222222222,\"#7201a8\"],[0.3333333333333333,\"#9c179e\"],[0.4444444444444444,\"#bd3786\"],[0.5555555555555556,\"#d8576b\"],[0.6666666666666666,\"#ed7953\"],[0.7777777777777778,\"#fb9f3a\"],[0.8888888888888888,\"#fdca26\"],[1.0,\"#f0f921\"]],\"type\":\"histogram2dcontour\"}],\"histogram2d\":[{\"colorbar\":{\"outlinewidth\":0,\"ticks\":\"\"},\"colorscale\":[[0.0,\"#0d0887\"],[0.1111111111111111,\"#46039f\"],[0.2222222222222222,\"#7201a8\"],[0.3333333333333333,\"#9c179e\"],[0.4444444444444444,\"#bd3786\"],[0.5555555555555556,\"#d8576b\"],[0.6666666666666666,\"#ed7953\"],[0.7777777777777778,\"#fb9f3a\"],[0.8888888888888888,\"#fdca26\"],[1.0,\"#f0f921\"]],\"type\":\"histogram2d\"}],\"histogram\":[{\"marker\":{\"pattern\":{\"fillmode\":\"overlay\",\"size\":10,\"solidity\":0.2}},\"type\":\"histogram\"}],\"mesh3d\":[{\"colorbar\":{\"outlinewidth\":0,\"ticks\":\"\"},\"type\":\"mesh3d\"}],\"parcoords\":[{\"line\":{\"colorbar\":{\"outlinewidth\":0,\"ticks\":\"\"}},\"type\":\"parcoords\"}],\"pie\":[{\"automargin\":true,\"type\":\"pie\"}],\"scatter3d\":[{\"line\":{\"colorbar\":{\"outlinewidth\":0,\"ticks\":\"\"}},\"marker\":{\"colorbar\":{\"outlinewidth\":0,\"ticks\":\"\"}},\"type\":\"scatter3d\"}],\"scattercarpet\":[{\"marker\":{\"colorbar\":{\"outlinewidth\":0,\"ticks\":\"\"}},\"type\":\"scattercarpet\"}],\"scattergeo\":[{\"marker\":{\"colorbar\":{\"outlinewidth\":0,\"ticks\":\"\"}},\"type\":\"scattergeo\"}],\"scattergl\":[{\"marker\":{\"colorbar\":{\"outlinewidth\":0,\"ticks\":\"\"}},\"type\":\"scattergl\"}],\"scattermapbox\":[{\"marker\":{\"colorbar\":{\"outlinewidth\":0,\"ticks\":\"\"}},\"type\":\"scattermapbox\"}],\"scatterpolargl\":[{\"marker\":{\"colorbar\":{\"outlinewidth\":0,\"ticks\":\"\"}},\"type\":\"scatterpolargl\"}],\"scatterpolar\":[{\"marker\":{\"colorbar\":{\"outlinewidth\":0,\"ticks\":\"\"}},\"type\":\"scatterpolar\"}],\"scatter\":[{\"marker\":{\"colorbar\":{\"outlinewidth\":0,\"ticks\":\"\"}},\"type\":\"scatter\"}],\"scatterternary\":[{\"marker\":{\"colorbar\":{\"outlinewidth\":0,\"ticks\":\"\"}},\"type\":\"scatterternary\"}],\"surface\":[{\"colorbar\":{\"outlinewidth\":0,\"ticks\":\"\"},\"colorscale\":[[0.0,\"#0d0887\"],[0.1111111111111111,\"#46039f\"],[0.2222222222222222,\"#7201a8\"],[0.3333333333333333,\"#9c179e\"],[0.4444444444444444,\"#bd3786\"],[0.5555555555555556,\"#d8576b\"],[0.6666666666666666,\"#ed7953\"],[0.7777777777777778,\"#fb9f3a\"],[0.8888888888888888,\"#fdca26\"],[1.0,\"#f0f921\"]],\"type\":\"surface\"}],\"table\":[{\"cells\":{\"fill\":{\"color\":\"#EBF0F8\"},\"line\":{\"color\":\"white\"}},\"header\":{\"fill\":{\"color\":\"#C8D4E3\"},\"line\":{\"color\":\"white\"}},\"type\":\"table\"}]},\"layout\":{\"annotationdefaults\":{\"arrowcolor\":\"#2a3f5f\",\"arrowhead\":0,\"arrowwidth\":1},\"autotypenumbers\":\"strict\",\"coloraxis\":{\"colorbar\":{\"outlinewidth\":0,\"ticks\":\"\"}},\"colorscale\":{\"diverging\":[[0,\"#8e0152\"],[0.1,\"#c51b7d\"],[0.2,\"#de77ae\"],[0.3,\"#f1b6da\"],[0.4,\"#fde0ef\"],[0.5,\"#f7f7f7\"],[0.6,\"#e6f5d0\"],[0.7,\"#b8e186\"],[0.8,\"#7fbc41\"],[0.9,\"#4d9221\"],[1,\"#276419\"]],\"sequential\":[[0.0,\"#0d0887\"],[0.1111111111111111,\"#46039f\"],[0.2222222222222222,\"#7201a8\"],[0.3333333333333333,\"#9c179e\"],[0.4444444444444444,\"#bd3786\"],[0.5555555555555556,\"#d8576b\"],[0.6666666666666666,\"#ed7953\"],[0.7777777777777778,\"#fb9f3a\"],[0.8888888888888888,\"#fdca26\"],[1.0,\"#f0f921\"]],\"sequentialminus\":[[0.0,\"#0d0887\"],[0.1111111111111111,\"#46039f\"],[0.2222222222222222,\"#7201a8\"],[0.3333333333333333,\"#9c179e\"],[0.4444444444444444,\"#bd3786\"],[0.5555555555555556,\"#d8576b\"],[0.6666666666666666,\"#ed7953\"],[0.7777777777777778,\"#fb9f3a\"],[0.8888888888888888,\"#fdca26\"],[1.0,\"#f0f921\"]]},\"colorway\":[\"#636efa\",\"#EF553B\",\"#00cc96\",\"#ab63fa\",\"#FFA15A\",\"#19d3f3\",\"#FF6692\",\"#B6E880\",\"#FF97FF\",\"#FECB52\"],\"font\":{\"color\":\"#2a3f5f\"},\"geo\":{\"bgcolor\":\"white\",\"lakecolor\":\"white\",\"landcolor\":\"#E5ECF6\",\"showlakes\":true,\"showland\":true,\"subunitcolor\":\"white\"},\"hoverlabel\":{\"align\":\"left\"},\"hovermode\":\"closest\",\"mapbox\":{\"style\":\"light\"},\"paper_bgcolor\":\"white\",\"plot_bgcolor\":\"#E5ECF6\",\"polar\":{\"angularaxis\":{\"gridcolor\":\"white\",\"linecolor\":\"white\",\"ticks\":\"\"},\"bgcolor\":\"#E5ECF6\",\"radialaxis\":{\"gridcolor\":\"white\",\"linecolor\":\"white\",\"ticks\":\"\"}},\"scene\":{\"xaxis\":{\"backgroundcolor\":\"#E5ECF6\",\"gridcolor\":\"white\",\"gridwidth\":2,\"linecolor\":\"white\",\"showbackground\":true,\"ticks\":\"\",\"zerolinecolor\":\"white\"},\"yaxis\":{\"backgroundcolor\":\"#E5ECF6\",\"gridcolor\":\"white\",\"gridwidth\":2,\"linecolor\":\"white\",\"showbackground\":true,\"ticks\":\"\",\"zerolinecolor\":\"white\"},\"zaxis\":{\"backgroundcolor\":\"#E5ECF6\",\"gridcolor\":\"white\",\"gridwidth\":2,\"linecolor\":\"white\",\"showbackground\":true,\"ticks\":\"\",\"zerolinecolor\":\"white\"}},\"shapedefaults\":{\"line\":{\"color\":\"#2a3f5f\"}},\"ternary\":{\"aaxis\":{\"gridcolor\":\"white\",\"linecolor\":\"white\",\"ticks\":\"\"},\"baxis\":{\"gridcolor\":\"white\",\"linecolor\":\"white\",\"ticks\":\"\"},\"bgcolor\":\"#E5ECF6\",\"caxis\":{\"gridcolor\":\"white\",\"linecolor\":\"white\",\"ticks\":\"\"}},\"title\":{\"x\":0.05},\"xaxis\":{\"automargin\":true,\"gridcolor\":\"white\",\"linecolor\":\"white\",\"ticks\":\"\",\"title\":{\"standoff\":15},\"zerolinecolor\":\"white\",\"zerolinewidth\":2},\"yaxis\":{\"automargin\":true,\"gridcolor\":\"white\",\"linecolor\":\"white\",\"ticks\":\"\",\"title\":{\"standoff\":15},\"zerolinecolor\":\"white\",\"zerolinewidth\":2}}},\"title\":{\"text\":\"GANTT Chart\"},\"xaxis\":{\"range\":[\"1970-01-01T01:13:04\",\"1970-01-02T06:17:04\"],\"title\":{\"font\":{\"color\":\"#7f7f7f\",\"family\":\"Courier New, monospace\",\"size\":18},\"text\":\"Time\"}},\"yaxis\":{\"title\":{\"font\":{\"color\":\"#7f7f7f\",\"family\":\"Courier New, monospace\",\"size\":18},\"text\":\"Activities\"}}},                        {\"responsive\": true}                    ).then(function(){\n",
       "                            \n",
       "var gd = document.getElementById('88762e57-fd56-4bcf-8ec9-86ab6c4de149');\n",
       "var x = new MutationObserver(function (mutations, observer) {{\n",
       "        var display = window.getComputedStyle(gd).display;\n",
       "        if (!display || display === 'none') {{\n",
       "            console.log([gd, 'removed!']);\n",
       "            Plotly.purge(gd);\n",
       "            observer.disconnect();\n",
       "        }}\n",
       "}});\n",
       "\n",
       "// Listen for the removal of the full notebook cells\n",
       "var notebookContainer = gd.closest('#notebook-container');\n",
       "if (notebookContainer) {{\n",
       "    x.observe(notebookContainer, {childList: true});\n",
       "}}\n",
       "\n",
       "// Listen for the clearing of the current output cell\n",
       "var outputEl = gd.closest('.output');\n",
       "if (outputEl) {{\n",
       "    x.observe(outputEl, {childList: true});\n",
       "}}\n",
       "\n",
       "                        })                };                });            </script>        </div>"
      ]
     },
     "metadata": {},
     "output_type": "display_data"
    }
   ],
   "source": [
    "fig = plot.get_gantt_chart([from_site, to_site, cutter],id_map=id_map)"
   ]
  },
  {
   "cell_type": "markdown",
   "metadata": {},
   "source": [
    "Plot only activities whose namespace (firt letters) matches load*"
   ]
  },
  {
   "cell_type": "code",
   "execution_count": 8,
   "metadata": {},
   "outputs": [
    {
     "data": {
      "text/html": [
       "        <script type=\"text/javascript\">\n",
       "        window.PlotlyConfig = {MathJaxConfig: 'local'};\n",
       "        if (window.MathJax) {MathJax.Hub.Config({SVG: {font: \"STIX-Web\"}});}\n",
       "        if (typeof require !== 'undefined') {\n",
       "        require.undef(\"plotly\");\n",
       "        requirejs.config({\n",
       "            paths: {\n",
       "                'plotly': ['https://cdn.plot.ly/plotly-2.8.3.min']\n",
       "            }\n",
       "        });\n",
       "        require(['plotly'], function(Plotly) {\n",
       "            window._Plotly = Plotly;\n",
       "        });\n",
       "        }\n",
       "        </script>\n",
       "        "
      ]
     },
     "metadata": {},
     "output_type": "display_data"
    },
    {
     "data": {
      "application/vnd.plotly.v1+json": {
       "config": {
        "linkText": "Export to plot.ly",
        "plotlyServerURL": "https://plot.ly",
        "showLink": false
       },
       "data": [
        {
         "connectgaps": false,
         "hoverinfo": "y+name",
         "line": {
          "color": "rgb(25,1,156)",
          "width": 10
         },
         "mode": "lines",
         "name": "loading:barge_0",
         "type": "scatter",
         "x": [
          "1970-01-01T01:13:04",
          "1970-01-01T01:13:04",
          "1970-01-01T01:46:24",
          "1970-01-01T01:46:24",
          "1970-01-01T01:46:24",
          "1970-01-01T04:12:32",
          "1970-01-01T04:12:32",
          "1970-01-01T04:45:52",
          "1970-01-01T04:45:52",
          "1970-01-01T04:45:52",
          "1970-01-01T07:12:00",
          "1970-01-01T07:12:00",
          "1970-01-01T07:45:20",
          "1970-01-01T07:45:20",
          "1970-01-01T07:45:20",
          "1970-01-01T10:23:08",
          "1970-01-01T10:23:08",
          "1970-01-01T10:56:28",
          "1970-01-01T10:56:28",
          "1970-01-01T10:56:28",
          "1970-01-01T14:04:00",
          "1970-01-01T14:04:00",
          "1970-01-01T14:37:20",
          "1970-01-01T14:37:20",
          "1970-01-01T14:37:20",
          "1970-01-01T17:44:52",
          "1970-01-01T17:44:52",
          "1970-01-01T18:18:12",
          "1970-01-01T18:18:12",
          "1970-01-01T18:18:12",
          "1970-01-01T21:25:44",
          "1970-01-01T21:25:44",
          "1970-01-01T21:59:04",
          "1970-01-01T21:59:04",
          "1970-01-01T21:59:04",
          "1970-01-02T01:06:36",
          "1970-01-02T01:06:36",
          "1970-01-02T01:39:56",
          "1970-01-02T01:39:56",
          "1970-01-02T01:39:56",
          "1970-01-01T01:13:04",
          "1970-01-01T01:13:04",
          "1970-01-01T01:46:24",
          "1970-01-01T01:46:24",
          "1970-01-01T01:46:24",
          "1970-01-01T04:12:32",
          "1970-01-01T04:12:32",
          "1970-01-01T04:45:52",
          "1970-01-01T04:45:52",
          "1970-01-01T04:45:52",
          "1970-01-01T07:12:00",
          "1970-01-01T07:12:00",
          "1970-01-01T07:45:20",
          "1970-01-01T07:45:20",
          "1970-01-01T07:45:20",
          "1970-01-01T10:23:08",
          "1970-01-01T10:23:08",
          "1970-01-01T10:56:28",
          "1970-01-01T10:56:28",
          "1970-01-01T10:56:28",
          "1970-01-01T14:04:00",
          "1970-01-01T14:04:00",
          "1970-01-01T14:37:20",
          "1970-01-01T14:37:20",
          "1970-01-01T14:37:20",
          "1970-01-01T17:44:52",
          "1970-01-01T17:44:52",
          "1970-01-01T18:18:12",
          "1970-01-01T18:18:12",
          "1970-01-01T18:18:12",
          "1970-01-01T21:25:44",
          "1970-01-01T21:25:44",
          "1970-01-01T21:59:04",
          "1970-01-01T21:59:04",
          "1970-01-01T21:59:04",
          "1970-01-02T01:06:36",
          "1970-01-02T01:06:36",
          "1970-01-02T01:39:56",
          "1970-01-02T01:39:56",
          "1970-01-02T01:39:56"
         ],
         "y": [
          "loading:barge_0",
          "loading:barge_0",
          "loading:barge_0",
          "loading:barge_0",
          null,
          "loading:barge_0",
          "loading:barge_0",
          "loading:barge_0",
          "loading:barge_0",
          null,
          "loading:barge_0",
          "loading:barge_0",
          "loading:barge_0",
          "loading:barge_0",
          null,
          "loading:barge_0",
          "loading:barge_0",
          "loading:barge_0",
          "loading:barge_0",
          null,
          "loading:barge_0",
          "loading:barge_0",
          "loading:barge_0",
          "loading:barge_0",
          null,
          "loading:barge_0",
          "loading:barge_0",
          "loading:barge_0",
          "loading:barge_0",
          null,
          "loading:barge_0",
          "loading:barge_0",
          "loading:barge_0",
          "loading:barge_0",
          null,
          "loading:barge_0",
          "loading:barge_0",
          "loading:barge_0",
          "loading:barge_0",
          null,
          "loading:barge_0",
          "loading:barge_0",
          "loading:barge_0",
          "loading:barge_0",
          null,
          "loading:barge_0",
          "loading:barge_0",
          "loading:barge_0",
          "loading:barge_0",
          null,
          "loading:barge_0",
          "loading:barge_0",
          "loading:barge_0",
          "loading:barge_0",
          null,
          "loading:barge_0",
          "loading:barge_0",
          "loading:barge_0",
          "loading:barge_0",
          null,
          "loading:barge_0",
          "loading:barge_0",
          "loading:barge_0",
          "loading:barge_0",
          null,
          "loading:barge_0",
          "loading:barge_0",
          "loading:barge_0",
          "loading:barge_0",
          null,
          "loading:barge_0",
          "loading:barge_0",
          "loading:barge_0",
          "loading:barge_0",
          null,
          "loading:barge_0",
          "loading:barge_0",
          "loading:barge_0",
          "loading:barge_0",
          null
         ]
        },
        {
         "connectgaps": false,
         "hoverinfo": "y+name",
         "line": {
          "color": "rgb(67,43,198)",
          "width": 10
         },
         "mode": "lines",
         "name": "loading:barge_0",
         "type": "scatter",
         "x": [
          "1970-01-01T01:13:04",
          "1970-01-01T01:13:04",
          "1970-01-01T01:46:24",
          "1970-01-01T01:46:24",
          "1970-01-01T01:46:24",
          "1970-01-01T04:12:32",
          "1970-01-01T04:12:32",
          "1970-01-01T04:45:52",
          "1970-01-01T04:45:52",
          "1970-01-01T04:45:52",
          "1970-01-01T07:12:00",
          "1970-01-01T07:12:00",
          "1970-01-01T07:45:20",
          "1970-01-01T07:45:20",
          "1970-01-01T07:45:20",
          "1970-01-01T10:23:08",
          "1970-01-01T10:23:08",
          "1970-01-01T10:56:28",
          "1970-01-01T10:56:28",
          "1970-01-01T10:56:28",
          "1970-01-01T14:04:00",
          "1970-01-01T14:04:00",
          "1970-01-01T14:37:20",
          "1970-01-01T14:37:20",
          "1970-01-01T14:37:20",
          "1970-01-01T17:44:52",
          "1970-01-01T17:44:52",
          "1970-01-01T18:18:12",
          "1970-01-01T18:18:12",
          "1970-01-01T18:18:12",
          "1970-01-01T21:25:44",
          "1970-01-01T21:25:44",
          "1970-01-01T21:59:04",
          "1970-01-01T21:59:04",
          "1970-01-01T21:59:04",
          "1970-01-02T01:06:36",
          "1970-01-02T01:06:36",
          "1970-01-02T01:39:56",
          "1970-01-02T01:39:56",
          "1970-01-02T01:39:56",
          "1970-01-01T01:13:04",
          "1970-01-01T01:13:04",
          "1970-01-01T01:46:24",
          "1970-01-01T01:46:24",
          "1970-01-01T01:46:24",
          "1970-01-01T04:12:32",
          "1970-01-01T04:12:32",
          "1970-01-01T04:45:52",
          "1970-01-01T04:45:52",
          "1970-01-01T04:45:52",
          "1970-01-01T07:12:00",
          "1970-01-01T07:12:00",
          "1970-01-01T07:45:20",
          "1970-01-01T07:45:20",
          "1970-01-01T07:45:20",
          "1970-01-01T10:23:08",
          "1970-01-01T10:23:08",
          "1970-01-01T10:56:28",
          "1970-01-01T10:56:28",
          "1970-01-01T10:56:28",
          "1970-01-01T14:04:00",
          "1970-01-01T14:04:00",
          "1970-01-01T14:37:20",
          "1970-01-01T14:37:20",
          "1970-01-01T14:37:20",
          "1970-01-01T17:44:52",
          "1970-01-01T17:44:52",
          "1970-01-01T18:18:12",
          "1970-01-01T18:18:12",
          "1970-01-01T18:18:12",
          "1970-01-01T21:25:44",
          "1970-01-01T21:25:44",
          "1970-01-01T21:59:04",
          "1970-01-01T21:59:04",
          "1970-01-01T21:59:04",
          "1970-01-02T01:06:36",
          "1970-01-02T01:06:36",
          "1970-01-02T01:39:56",
          "1970-01-02T01:39:56",
          "1970-01-02T01:39:56"
         ],
         "y": [
          "loading:barge_0",
          "loading:barge_0",
          "loading:barge_0",
          "loading:barge_0",
          null,
          "loading:barge_0",
          "loading:barge_0",
          "loading:barge_0",
          "loading:barge_0",
          null,
          "loading:barge_0",
          "loading:barge_0",
          "loading:barge_0",
          "loading:barge_0",
          null,
          "loading:barge_0",
          "loading:barge_0",
          "loading:barge_0",
          "loading:barge_0",
          null,
          "loading:barge_0",
          "loading:barge_0",
          "loading:barge_0",
          "loading:barge_0",
          null,
          "loading:barge_0",
          "loading:barge_0",
          "loading:barge_0",
          "loading:barge_0",
          null,
          "loading:barge_0",
          "loading:barge_0",
          "loading:barge_0",
          "loading:barge_0",
          null,
          "loading:barge_0",
          "loading:barge_0",
          "loading:barge_0",
          "loading:barge_0",
          null,
          "loading:barge_0",
          "loading:barge_0",
          "loading:barge_0",
          "loading:barge_0",
          null,
          "loading:barge_0",
          "loading:barge_0",
          "loading:barge_0",
          "loading:barge_0",
          null,
          "loading:barge_0",
          "loading:barge_0",
          "loading:barge_0",
          "loading:barge_0",
          null,
          "loading:barge_0",
          "loading:barge_0",
          "loading:barge_0",
          "loading:barge_0",
          null,
          "loading:barge_0",
          "loading:barge_0",
          "loading:barge_0",
          "loading:barge_0",
          null,
          "loading:barge_0",
          "loading:barge_0",
          "loading:barge_0",
          "loading:barge_0",
          null,
          "loading:barge_0",
          "loading:barge_0",
          "loading:barge_0",
          "loading:barge_0",
          null,
          "loading:barge_0",
          "loading:barge_0",
          "loading:barge_0",
          "loading:barge_0",
          null
         ]
        },
        {
         "connectgaps": false,
         "hoverinfo": "y+name",
         "line": {
          "color": "rgb(109,85,240)",
          "width": 10
         },
         "mode": "lines",
         "name": "loading:barge_1",
         "type": "scatter",
         "x": [
          "1970-01-01T01:46:24",
          "1970-01-01T01:46:24",
          "1970-01-01T02:19:44",
          "1970-01-01T02:19:44",
          "1970-01-01T02:19:44",
          "1970-01-01T04:51:28",
          "1970-01-01T04:51:28",
          "1970-01-01T05:24:48",
          "1970-01-01T05:24:48",
          "1970-01-01T05:24:48",
          "1970-01-01T07:56:32",
          "1970-01-01T07:56:32",
          "1970-01-01T08:29:52",
          "1970-01-01T08:29:52",
          "1970-01-01T08:29:52",
          "1970-01-01T11:01:36",
          "1970-01-01T11:01:36",
          "1970-01-01T11:34:56",
          "1970-01-01T11:34:56",
          "1970-01-01T11:34:56",
          "1970-01-01T14:37:20",
          "1970-01-01T14:37:20",
          "1970-01-01T15:10:40",
          "1970-01-01T15:10:40",
          "1970-01-01T15:10:40",
          "1970-01-01T18:18:12",
          "1970-01-01T18:18:12",
          "1970-01-01T18:51:32",
          "1970-01-01T18:51:32",
          "1970-01-01T18:51:32",
          "1970-01-01T21:59:04",
          "1970-01-01T21:59:04",
          "1970-01-01T22:32:24",
          "1970-01-01T22:32:24",
          "1970-01-01T22:32:24",
          "1970-01-02T01:39:56",
          "1970-01-02T01:39:56",
          "1970-01-02T02:13:16",
          "1970-01-02T02:13:16",
          "1970-01-02T02:13:16",
          "1970-01-01T01:46:24",
          "1970-01-01T01:46:24",
          "1970-01-01T02:19:44",
          "1970-01-01T02:19:44",
          "1970-01-01T02:19:44",
          "1970-01-01T04:51:28",
          "1970-01-01T04:51:28",
          "1970-01-01T05:24:48",
          "1970-01-01T05:24:48",
          "1970-01-01T05:24:48",
          "1970-01-01T07:56:32",
          "1970-01-01T07:56:32",
          "1970-01-01T08:29:52",
          "1970-01-01T08:29:52",
          "1970-01-01T08:29:52",
          "1970-01-01T11:01:36",
          "1970-01-01T11:01:36",
          "1970-01-01T11:34:56",
          "1970-01-01T11:34:56",
          "1970-01-01T11:34:56",
          "1970-01-01T14:37:20",
          "1970-01-01T14:37:20",
          "1970-01-01T15:10:40",
          "1970-01-01T15:10:40",
          "1970-01-01T15:10:40",
          "1970-01-01T18:18:12",
          "1970-01-01T18:18:12",
          "1970-01-01T18:51:32",
          "1970-01-01T18:51:32",
          "1970-01-01T18:51:32",
          "1970-01-01T21:59:04",
          "1970-01-01T21:59:04",
          "1970-01-01T22:32:24",
          "1970-01-01T22:32:24",
          "1970-01-01T22:32:24",
          "1970-01-02T01:39:56",
          "1970-01-02T01:39:56",
          "1970-01-02T02:13:16",
          "1970-01-02T02:13:16",
          "1970-01-02T02:13:16"
         ],
         "y": [
          "loading:barge_1",
          "loading:barge_1",
          "loading:barge_1",
          "loading:barge_1",
          null,
          "loading:barge_1",
          "loading:barge_1",
          "loading:barge_1",
          "loading:barge_1",
          null,
          "loading:barge_1",
          "loading:barge_1",
          "loading:barge_1",
          "loading:barge_1",
          null,
          "loading:barge_1",
          "loading:barge_1",
          "loading:barge_1",
          "loading:barge_1",
          null,
          "loading:barge_1",
          "loading:barge_1",
          "loading:barge_1",
          "loading:barge_1",
          null,
          "loading:barge_1",
          "loading:barge_1",
          "loading:barge_1",
          "loading:barge_1",
          null,
          "loading:barge_1",
          "loading:barge_1",
          "loading:barge_1",
          "loading:barge_1",
          null,
          "loading:barge_1",
          "loading:barge_1",
          "loading:barge_1",
          "loading:barge_1",
          null,
          "loading:barge_1",
          "loading:barge_1",
          "loading:barge_1",
          "loading:barge_1",
          null,
          "loading:barge_1",
          "loading:barge_1",
          "loading:barge_1",
          "loading:barge_1",
          null,
          "loading:barge_1",
          "loading:barge_1",
          "loading:barge_1",
          "loading:barge_1",
          null,
          "loading:barge_1",
          "loading:barge_1",
          "loading:barge_1",
          "loading:barge_1",
          null,
          "loading:barge_1",
          "loading:barge_1",
          "loading:barge_1",
          "loading:barge_1",
          null,
          "loading:barge_1",
          "loading:barge_1",
          "loading:barge_1",
          "loading:barge_1",
          null,
          "loading:barge_1",
          "loading:barge_1",
          "loading:barge_1",
          "loading:barge_1",
          null,
          "loading:barge_1",
          "loading:barge_1",
          "loading:barge_1",
          "loading:barge_1",
          null
         ]
        },
        {
         "connectgaps": false,
         "hoverinfo": "y+name",
         "line": {
          "color": "rgb(151,127,26)",
          "width": 10
         },
         "mode": "lines",
         "name": "loading:barge_1",
         "type": "scatter",
         "x": [
          "1970-01-01T01:46:24",
          "1970-01-01T01:46:24",
          "1970-01-01T02:19:44",
          "1970-01-01T02:19:44",
          "1970-01-01T02:19:44",
          "1970-01-01T04:51:28",
          "1970-01-01T04:51:28",
          "1970-01-01T05:24:48",
          "1970-01-01T05:24:48",
          "1970-01-01T05:24:48",
          "1970-01-01T07:56:32",
          "1970-01-01T07:56:32",
          "1970-01-01T08:29:52",
          "1970-01-01T08:29:52",
          "1970-01-01T08:29:52",
          "1970-01-01T11:01:36",
          "1970-01-01T11:01:36",
          "1970-01-01T11:34:56",
          "1970-01-01T11:34:56",
          "1970-01-01T11:34:56",
          "1970-01-01T14:37:20",
          "1970-01-01T14:37:20",
          "1970-01-01T15:10:40",
          "1970-01-01T15:10:40",
          "1970-01-01T15:10:40",
          "1970-01-01T18:18:12",
          "1970-01-01T18:18:12",
          "1970-01-01T18:51:32",
          "1970-01-01T18:51:32",
          "1970-01-01T18:51:32",
          "1970-01-01T21:59:04",
          "1970-01-01T21:59:04",
          "1970-01-01T22:32:24",
          "1970-01-01T22:32:24",
          "1970-01-01T22:32:24",
          "1970-01-02T01:39:56",
          "1970-01-02T01:39:56",
          "1970-01-02T02:13:16",
          "1970-01-02T02:13:16",
          "1970-01-02T02:13:16",
          "1970-01-01T01:46:24",
          "1970-01-01T01:46:24",
          "1970-01-01T02:19:44",
          "1970-01-01T02:19:44",
          "1970-01-01T02:19:44",
          "1970-01-01T04:51:28",
          "1970-01-01T04:51:28",
          "1970-01-01T05:24:48",
          "1970-01-01T05:24:48",
          "1970-01-01T05:24:48",
          "1970-01-01T07:56:32",
          "1970-01-01T07:56:32",
          "1970-01-01T08:29:52",
          "1970-01-01T08:29:52",
          "1970-01-01T08:29:52",
          "1970-01-01T11:01:36",
          "1970-01-01T11:01:36",
          "1970-01-01T11:34:56",
          "1970-01-01T11:34:56",
          "1970-01-01T11:34:56",
          "1970-01-01T14:37:20",
          "1970-01-01T14:37:20",
          "1970-01-01T15:10:40",
          "1970-01-01T15:10:40",
          "1970-01-01T15:10:40",
          "1970-01-01T18:18:12",
          "1970-01-01T18:18:12",
          "1970-01-01T18:51:32",
          "1970-01-01T18:51:32",
          "1970-01-01T18:51:32",
          "1970-01-01T21:59:04",
          "1970-01-01T21:59:04",
          "1970-01-01T22:32:24",
          "1970-01-01T22:32:24",
          "1970-01-01T22:32:24",
          "1970-01-02T01:39:56",
          "1970-01-02T01:39:56",
          "1970-01-02T02:13:16",
          "1970-01-02T02:13:16",
          "1970-01-02T02:13:16"
         ],
         "y": [
          "loading:barge_1",
          "loading:barge_1",
          "loading:barge_1",
          "loading:barge_1",
          null,
          "loading:barge_1",
          "loading:barge_1",
          "loading:barge_1",
          "loading:barge_1",
          null,
          "loading:barge_1",
          "loading:barge_1",
          "loading:barge_1",
          "loading:barge_1",
          null,
          "loading:barge_1",
          "loading:barge_1",
          "loading:barge_1",
          "loading:barge_1",
          null,
          "loading:barge_1",
          "loading:barge_1",
          "loading:barge_1",
          "loading:barge_1",
          null,
          "loading:barge_1",
          "loading:barge_1",
          "loading:barge_1",
          "loading:barge_1",
          null,
          "loading:barge_1",
          "loading:barge_1",
          "loading:barge_1",
          "loading:barge_1",
          null,
          "loading:barge_1",
          "loading:barge_1",
          "loading:barge_1",
          "loading:barge_1",
          null,
          "loading:barge_1",
          "loading:barge_1",
          "loading:barge_1",
          "loading:barge_1",
          null,
          "loading:barge_1",
          "loading:barge_1",
          "loading:barge_1",
          "loading:barge_1",
          null,
          "loading:barge_1",
          "loading:barge_1",
          "loading:barge_1",
          "loading:barge_1",
          null,
          "loading:barge_1",
          "loading:barge_1",
          "loading:barge_1",
          "loading:barge_1",
          null,
          "loading:barge_1",
          "loading:barge_1",
          "loading:barge_1",
          "loading:barge_1",
          null,
          "loading:barge_1",
          "loading:barge_1",
          "loading:barge_1",
          "loading:barge_1",
          null,
          "loading:barge_1",
          "loading:barge_1",
          "loading:barge_1",
          "loading:barge_1",
          null,
          "loading:barge_1",
          "loading:barge_1",
          "loading:barge_1",
          "loading:barge_1",
          null
         ]
        },
        {
         "connectgaps": false,
         "hoverinfo": "y+name",
         "line": {
          "color": "rgb(193,169,68)",
          "width": 10
         },
         "mode": "lines",
         "name": "loading:barge_2",
         "type": "scatter",
         "x": [
          "1970-01-01T02:19:44",
          "1970-01-01T02:19:44",
          "1970-01-01T03:01:24",
          "1970-01-01T03:01:24",
          "1970-01-01T03:01:24",
          "1970-01-01T06:00:36",
          "1970-01-01T06:00:36",
          "1970-01-01T06:42:16",
          "1970-01-01T06:42:16",
          "1970-01-01T06:42:16",
          "1970-01-01T09:41:28",
          "1970-01-01T09:41:28",
          "1970-01-01T10:23:08",
          "1970-01-01T10:23:08",
          "1970-01-01T10:23:08",
          "1970-01-01T13:22:20",
          "1970-01-01T13:22:20",
          "1970-01-01T14:04:00",
          "1970-01-01T14:04:00",
          "1970-01-01T14:04:00",
          "1970-01-01T17:03:12",
          "1970-01-01T17:03:12",
          "1970-01-01T17:44:52",
          "1970-01-01T17:44:52",
          "1970-01-01T17:44:52",
          "1970-01-01T20:44:04",
          "1970-01-01T20:44:04",
          "1970-01-01T21:25:44",
          "1970-01-01T21:25:44",
          "1970-01-01T21:25:44",
          "1970-01-02T00:24:56",
          "1970-01-02T00:24:56",
          "1970-01-02T01:06:36",
          "1970-01-02T01:06:36",
          "1970-01-02T01:06:36",
          "1970-01-02T04:05:48",
          "1970-01-02T04:05:48",
          "1970-01-02T04:47:28",
          "1970-01-02T04:47:28",
          "1970-01-02T04:47:28",
          "1970-01-01T02:19:44",
          "1970-01-01T02:19:44",
          "1970-01-01T03:01:24",
          "1970-01-01T03:01:24",
          "1970-01-01T03:01:24",
          "1970-01-01T06:00:36",
          "1970-01-01T06:00:36",
          "1970-01-01T06:42:16",
          "1970-01-01T06:42:16",
          "1970-01-01T06:42:16",
          "1970-01-01T09:41:28",
          "1970-01-01T09:41:28",
          "1970-01-01T10:23:08",
          "1970-01-01T10:23:08",
          "1970-01-01T10:23:08",
          "1970-01-01T13:22:20",
          "1970-01-01T13:22:20",
          "1970-01-01T14:04:00",
          "1970-01-01T14:04:00",
          "1970-01-01T14:04:00",
          "1970-01-01T17:03:12",
          "1970-01-01T17:03:12",
          "1970-01-01T17:44:52",
          "1970-01-01T17:44:52",
          "1970-01-01T17:44:52",
          "1970-01-01T20:44:04",
          "1970-01-01T20:44:04",
          "1970-01-01T21:25:44",
          "1970-01-01T21:25:44",
          "1970-01-01T21:25:44",
          "1970-01-02T00:24:56",
          "1970-01-02T00:24:56",
          "1970-01-02T01:06:36",
          "1970-01-02T01:06:36",
          "1970-01-02T01:06:36",
          "1970-01-02T04:05:48",
          "1970-01-02T04:05:48",
          "1970-01-02T04:47:28",
          "1970-01-02T04:47:28",
          "1970-01-02T04:47:28"
         ],
         "y": [
          "loading:barge_2",
          "loading:barge_2",
          "loading:barge_2",
          "loading:barge_2",
          null,
          "loading:barge_2",
          "loading:barge_2",
          "loading:barge_2",
          "loading:barge_2",
          null,
          "loading:barge_2",
          "loading:barge_2",
          "loading:barge_2",
          "loading:barge_2",
          null,
          "loading:barge_2",
          "loading:barge_2",
          "loading:barge_2",
          "loading:barge_2",
          null,
          "loading:barge_2",
          "loading:barge_2",
          "loading:barge_2",
          "loading:barge_2",
          null,
          "loading:barge_2",
          "loading:barge_2",
          "loading:barge_2",
          "loading:barge_2",
          null,
          "loading:barge_2",
          "loading:barge_2",
          "loading:barge_2",
          "loading:barge_2",
          null,
          "loading:barge_2",
          "loading:barge_2",
          "loading:barge_2",
          "loading:barge_2",
          null,
          "loading:barge_2",
          "loading:barge_2",
          "loading:barge_2",
          "loading:barge_2",
          null,
          "loading:barge_2",
          "loading:barge_2",
          "loading:barge_2",
          "loading:barge_2",
          null,
          "loading:barge_2",
          "loading:barge_2",
          "loading:barge_2",
          "loading:barge_2",
          null,
          "loading:barge_2",
          "loading:barge_2",
          "loading:barge_2",
          "loading:barge_2",
          null,
          "loading:barge_2",
          "loading:barge_2",
          "loading:barge_2",
          "loading:barge_2",
          null,
          "loading:barge_2",
          "loading:barge_2",
          "loading:barge_2",
          "loading:barge_2",
          null,
          "loading:barge_2",
          "loading:barge_2",
          "loading:barge_2",
          "loading:barge_2",
          null,
          "loading:barge_2",
          "loading:barge_2",
          "loading:barge_2",
          "loading:barge_2",
          null
         ]
        },
        {
         "connectgaps": false,
         "hoverinfo": "y+name",
         "line": {
          "color": "rgb(235,211,110)",
          "width": 10
         },
         "mode": "lines",
         "name": "loading:barge_2",
         "type": "scatter",
         "x": [
          "1970-01-01T02:19:44",
          "1970-01-01T02:19:44",
          "1970-01-01T03:01:24",
          "1970-01-01T03:01:24",
          "1970-01-01T03:01:24",
          "1970-01-01T06:00:36",
          "1970-01-01T06:00:36",
          "1970-01-01T06:42:16",
          "1970-01-01T06:42:16",
          "1970-01-01T06:42:16",
          "1970-01-01T09:41:28",
          "1970-01-01T09:41:28",
          "1970-01-01T10:23:08",
          "1970-01-01T10:23:08",
          "1970-01-01T10:23:08",
          "1970-01-01T13:22:20",
          "1970-01-01T13:22:20",
          "1970-01-01T14:04:00",
          "1970-01-01T14:04:00",
          "1970-01-01T14:04:00",
          "1970-01-01T17:03:12",
          "1970-01-01T17:03:12",
          "1970-01-01T17:44:52",
          "1970-01-01T17:44:52",
          "1970-01-01T17:44:52",
          "1970-01-01T20:44:04",
          "1970-01-01T20:44:04",
          "1970-01-01T21:25:44",
          "1970-01-01T21:25:44",
          "1970-01-01T21:25:44",
          "1970-01-02T00:24:56",
          "1970-01-02T00:24:56",
          "1970-01-02T01:06:36",
          "1970-01-02T01:06:36",
          "1970-01-02T01:06:36",
          "1970-01-02T04:05:48",
          "1970-01-02T04:05:48",
          "1970-01-02T04:47:28",
          "1970-01-02T04:47:28",
          "1970-01-02T04:47:28",
          "1970-01-01T02:19:44",
          "1970-01-01T02:19:44",
          "1970-01-01T03:01:24",
          "1970-01-01T03:01:24",
          "1970-01-01T03:01:24",
          "1970-01-01T06:00:36",
          "1970-01-01T06:00:36",
          "1970-01-01T06:42:16",
          "1970-01-01T06:42:16",
          "1970-01-01T06:42:16",
          "1970-01-01T09:41:28",
          "1970-01-01T09:41:28",
          "1970-01-01T10:23:08",
          "1970-01-01T10:23:08",
          "1970-01-01T10:23:08",
          "1970-01-01T13:22:20",
          "1970-01-01T13:22:20",
          "1970-01-01T14:04:00",
          "1970-01-01T14:04:00",
          "1970-01-01T14:04:00",
          "1970-01-01T17:03:12",
          "1970-01-01T17:03:12",
          "1970-01-01T17:44:52",
          "1970-01-01T17:44:52",
          "1970-01-01T17:44:52",
          "1970-01-01T20:44:04",
          "1970-01-01T20:44:04",
          "1970-01-01T21:25:44",
          "1970-01-01T21:25:44",
          "1970-01-01T21:25:44",
          "1970-01-02T00:24:56",
          "1970-01-02T00:24:56",
          "1970-01-02T01:06:36",
          "1970-01-02T01:06:36",
          "1970-01-02T01:06:36",
          "1970-01-02T04:05:48",
          "1970-01-02T04:05:48",
          "1970-01-02T04:47:28",
          "1970-01-02T04:47:28",
          "1970-01-02T04:47:28"
         ],
         "y": [
          "loading:barge_2",
          "loading:barge_2",
          "loading:barge_2",
          "loading:barge_2",
          null,
          "loading:barge_2",
          "loading:barge_2",
          "loading:barge_2",
          "loading:barge_2",
          null,
          "loading:barge_2",
          "loading:barge_2",
          "loading:barge_2",
          "loading:barge_2",
          null,
          "loading:barge_2",
          "loading:barge_2",
          "loading:barge_2",
          "loading:barge_2",
          null,
          "loading:barge_2",
          "loading:barge_2",
          "loading:barge_2",
          "loading:barge_2",
          null,
          "loading:barge_2",
          "loading:barge_2",
          "loading:barge_2",
          "loading:barge_2",
          null,
          "loading:barge_2",
          "loading:barge_2",
          "loading:barge_2",
          "loading:barge_2",
          null,
          "loading:barge_2",
          "loading:barge_2",
          "loading:barge_2",
          "loading:barge_2",
          null,
          "loading:barge_2",
          "loading:barge_2",
          "loading:barge_2",
          "loading:barge_2",
          null,
          "loading:barge_2",
          "loading:barge_2",
          "loading:barge_2",
          "loading:barge_2",
          null,
          "loading:barge_2",
          "loading:barge_2",
          "loading:barge_2",
          "loading:barge_2",
          null,
          "loading:barge_2",
          "loading:barge_2",
          "loading:barge_2",
          "loading:barge_2",
          null,
          "loading:barge_2",
          "loading:barge_2",
          "loading:barge_2",
          "loading:barge_2",
          null,
          "loading:barge_2",
          "loading:barge_2",
          "loading:barge_2",
          "loading:barge_2",
          null,
          "loading:barge_2",
          "loading:barge_2",
          "loading:barge_2",
          "loading:barge_2",
          null,
          "loading:barge_2",
          "loading:barge_2",
          "loading:barge_2",
          "loading:barge_2",
          null
         ]
        }
       ],
       "layout": {
        "hovermode": "closest",
        "legend": {
         "orientation": "h",
         "x": 0,
         "y": -0.2
        },
        "template": {
         "data": {
          "bar": [
           {
            "error_x": {
             "color": "#2a3f5f"
            },
            "error_y": {
             "color": "#2a3f5f"
            },
            "marker": {
             "line": {
              "color": "#E5ECF6",
              "width": 0.5
             },
             "pattern": {
              "fillmode": "overlay",
              "size": 10,
              "solidity": 0.2
             }
            },
            "type": "bar"
           }
          ],
          "barpolar": [
           {
            "marker": {
             "line": {
              "color": "#E5ECF6",
              "width": 0.5
             },
             "pattern": {
              "fillmode": "overlay",
              "size": 10,
              "solidity": 0.2
             }
            },
            "type": "barpolar"
           }
          ],
          "carpet": [
           {
            "aaxis": {
             "endlinecolor": "#2a3f5f",
             "gridcolor": "white",
             "linecolor": "white",
             "minorgridcolor": "white",
             "startlinecolor": "#2a3f5f"
            },
            "baxis": {
             "endlinecolor": "#2a3f5f",
             "gridcolor": "white",
             "linecolor": "white",
             "minorgridcolor": "white",
             "startlinecolor": "#2a3f5f"
            },
            "type": "carpet"
           }
          ],
          "choropleth": [
           {
            "colorbar": {
             "outlinewidth": 0,
             "ticks": ""
            },
            "type": "choropleth"
           }
          ],
          "contour": [
           {
            "colorbar": {
             "outlinewidth": 0,
             "ticks": ""
            },
            "colorscale": [
             [
              0,
              "#0d0887"
             ],
             [
              0.1111111111111111,
              "#46039f"
             ],
             [
              0.2222222222222222,
              "#7201a8"
             ],
             [
              0.3333333333333333,
              "#9c179e"
             ],
             [
              0.4444444444444444,
              "#bd3786"
             ],
             [
              0.5555555555555556,
              "#d8576b"
             ],
             [
              0.6666666666666666,
              "#ed7953"
             ],
             [
              0.7777777777777778,
              "#fb9f3a"
             ],
             [
              0.8888888888888888,
              "#fdca26"
             ],
             [
              1,
              "#f0f921"
             ]
            ],
            "type": "contour"
           }
          ],
          "contourcarpet": [
           {
            "colorbar": {
             "outlinewidth": 0,
             "ticks": ""
            },
            "type": "contourcarpet"
           }
          ],
          "heatmap": [
           {
            "colorbar": {
             "outlinewidth": 0,
             "ticks": ""
            },
            "colorscale": [
             [
              0,
              "#0d0887"
             ],
             [
              0.1111111111111111,
              "#46039f"
             ],
             [
              0.2222222222222222,
              "#7201a8"
             ],
             [
              0.3333333333333333,
              "#9c179e"
             ],
             [
              0.4444444444444444,
              "#bd3786"
             ],
             [
              0.5555555555555556,
              "#d8576b"
             ],
             [
              0.6666666666666666,
              "#ed7953"
             ],
             [
              0.7777777777777778,
              "#fb9f3a"
             ],
             [
              0.8888888888888888,
              "#fdca26"
             ],
             [
              1,
              "#f0f921"
             ]
            ],
            "type": "heatmap"
           }
          ],
          "heatmapgl": [
           {
            "colorbar": {
             "outlinewidth": 0,
             "ticks": ""
            },
            "colorscale": [
             [
              0,
              "#0d0887"
             ],
             [
              0.1111111111111111,
              "#46039f"
             ],
             [
              0.2222222222222222,
              "#7201a8"
             ],
             [
              0.3333333333333333,
              "#9c179e"
             ],
             [
              0.4444444444444444,
              "#bd3786"
             ],
             [
              0.5555555555555556,
              "#d8576b"
             ],
             [
              0.6666666666666666,
              "#ed7953"
             ],
             [
              0.7777777777777778,
              "#fb9f3a"
             ],
             [
              0.8888888888888888,
              "#fdca26"
             ],
             [
              1,
              "#f0f921"
             ]
            ],
            "type": "heatmapgl"
           }
          ],
          "histogram": [
           {
            "marker": {
             "pattern": {
              "fillmode": "overlay",
              "size": 10,
              "solidity": 0.2
             }
            },
            "type": "histogram"
           }
          ],
          "histogram2d": [
           {
            "colorbar": {
             "outlinewidth": 0,
             "ticks": ""
            },
            "colorscale": [
             [
              0,
              "#0d0887"
             ],
             [
              0.1111111111111111,
              "#46039f"
             ],
             [
              0.2222222222222222,
              "#7201a8"
             ],
             [
              0.3333333333333333,
              "#9c179e"
             ],
             [
              0.4444444444444444,
              "#bd3786"
             ],
             [
              0.5555555555555556,
              "#d8576b"
             ],
             [
              0.6666666666666666,
              "#ed7953"
             ],
             [
              0.7777777777777778,
              "#fb9f3a"
             ],
             [
              0.8888888888888888,
              "#fdca26"
             ],
             [
              1,
              "#f0f921"
             ]
            ],
            "type": "histogram2d"
           }
          ],
          "histogram2dcontour": [
           {
            "colorbar": {
             "outlinewidth": 0,
             "ticks": ""
            },
            "colorscale": [
             [
              0,
              "#0d0887"
             ],
             [
              0.1111111111111111,
              "#46039f"
             ],
             [
              0.2222222222222222,
              "#7201a8"
             ],
             [
              0.3333333333333333,
              "#9c179e"
             ],
             [
              0.4444444444444444,
              "#bd3786"
             ],
             [
              0.5555555555555556,
              "#d8576b"
             ],
             [
              0.6666666666666666,
              "#ed7953"
             ],
             [
              0.7777777777777778,
              "#fb9f3a"
             ],
             [
              0.8888888888888888,
              "#fdca26"
             ],
             [
              1,
              "#f0f921"
             ]
            ],
            "type": "histogram2dcontour"
           }
          ],
          "mesh3d": [
           {
            "colorbar": {
             "outlinewidth": 0,
             "ticks": ""
            },
            "type": "mesh3d"
           }
          ],
          "parcoords": [
           {
            "line": {
             "colorbar": {
              "outlinewidth": 0,
              "ticks": ""
             }
            },
            "type": "parcoords"
           }
          ],
          "pie": [
           {
            "automargin": true,
            "type": "pie"
           }
          ],
          "scatter": [
           {
            "marker": {
             "colorbar": {
              "outlinewidth": 0,
              "ticks": ""
             }
            },
            "type": "scatter"
           }
          ],
          "scatter3d": [
           {
            "line": {
             "colorbar": {
              "outlinewidth": 0,
              "ticks": ""
             }
            },
            "marker": {
             "colorbar": {
              "outlinewidth": 0,
              "ticks": ""
             }
            },
            "type": "scatter3d"
           }
          ],
          "scattercarpet": [
           {
            "marker": {
             "colorbar": {
              "outlinewidth": 0,
              "ticks": ""
             }
            },
            "type": "scattercarpet"
           }
          ],
          "scattergeo": [
           {
            "marker": {
             "colorbar": {
              "outlinewidth": 0,
              "ticks": ""
             }
            },
            "type": "scattergeo"
           }
          ],
          "scattergl": [
           {
            "marker": {
             "colorbar": {
              "outlinewidth": 0,
              "ticks": ""
             }
            },
            "type": "scattergl"
           }
          ],
          "scattermapbox": [
           {
            "marker": {
             "colorbar": {
              "outlinewidth": 0,
              "ticks": ""
             }
            },
            "type": "scattermapbox"
           }
          ],
          "scatterpolar": [
           {
            "marker": {
             "colorbar": {
              "outlinewidth": 0,
              "ticks": ""
             }
            },
            "type": "scatterpolar"
           }
          ],
          "scatterpolargl": [
           {
            "marker": {
             "colorbar": {
              "outlinewidth": 0,
              "ticks": ""
             }
            },
            "type": "scatterpolargl"
           }
          ],
          "scatterternary": [
           {
            "marker": {
             "colorbar": {
              "outlinewidth": 0,
              "ticks": ""
             }
            },
            "type": "scatterternary"
           }
          ],
          "surface": [
           {
            "colorbar": {
             "outlinewidth": 0,
             "ticks": ""
            },
            "colorscale": [
             [
              0,
              "#0d0887"
             ],
             [
              0.1111111111111111,
              "#46039f"
             ],
             [
              0.2222222222222222,
              "#7201a8"
             ],
             [
              0.3333333333333333,
              "#9c179e"
             ],
             [
              0.4444444444444444,
              "#bd3786"
             ],
             [
              0.5555555555555556,
              "#d8576b"
             ],
             [
              0.6666666666666666,
              "#ed7953"
             ],
             [
              0.7777777777777778,
              "#fb9f3a"
             ],
             [
              0.8888888888888888,
              "#fdca26"
             ],
             [
              1,
              "#f0f921"
             ]
            ],
            "type": "surface"
           }
          ],
          "table": [
           {
            "cells": {
             "fill": {
              "color": "#EBF0F8"
             },
             "line": {
              "color": "white"
             }
            },
            "header": {
             "fill": {
              "color": "#C8D4E3"
             },
             "line": {
              "color": "white"
             }
            },
            "type": "table"
           }
          ]
         },
         "layout": {
          "annotationdefaults": {
           "arrowcolor": "#2a3f5f",
           "arrowhead": 0,
           "arrowwidth": 1
          },
          "autotypenumbers": "strict",
          "coloraxis": {
           "colorbar": {
            "outlinewidth": 0,
            "ticks": ""
           }
          },
          "colorscale": {
           "diverging": [
            [
             0,
             "#8e0152"
            ],
            [
             0.1,
             "#c51b7d"
            ],
            [
             0.2,
             "#de77ae"
            ],
            [
             0.3,
             "#f1b6da"
            ],
            [
             0.4,
             "#fde0ef"
            ],
            [
             0.5,
             "#f7f7f7"
            ],
            [
             0.6,
             "#e6f5d0"
            ],
            [
             0.7,
             "#b8e186"
            ],
            [
             0.8,
             "#7fbc41"
            ],
            [
             0.9,
             "#4d9221"
            ],
            [
             1,
             "#276419"
            ]
           ],
           "sequential": [
            [
             0,
             "#0d0887"
            ],
            [
             0.1111111111111111,
             "#46039f"
            ],
            [
             0.2222222222222222,
             "#7201a8"
            ],
            [
             0.3333333333333333,
             "#9c179e"
            ],
            [
             0.4444444444444444,
             "#bd3786"
            ],
            [
             0.5555555555555556,
             "#d8576b"
            ],
            [
             0.6666666666666666,
             "#ed7953"
            ],
            [
             0.7777777777777778,
             "#fb9f3a"
            ],
            [
             0.8888888888888888,
             "#fdca26"
            ],
            [
             1,
             "#f0f921"
            ]
           ],
           "sequentialminus": [
            [
             0,
             "#0d0887"
            ],
            [
             0.1111111111111111,
             "#46039f"
            ],
            [
             0.2222222222222222,
             "#7201a8"
            ],
            [
             0.3333333333333333,
             "#9c179e"
            ],
            [
             0.4444444444444444,
             "#bd3786"
            ],
            [
             0.5555555555555556,
             "#d8576b"
            ],
            [
             0.6666666666666666,
             "#ed7953"
            ],
            [
             0.7777777777777778,
             "#fb9f3a"
            ],
            [
             0.8888888888888888,
             "#fdca26"
            ],
            [
             1,
             "#f0f921"
            ]
           ]
          },
          "colorway": [
           "#636efa",
           "#EF553B",
           "#00cc96",
           "#ab63fa",
           "#FFA15A",
           "#19d3f3",
           "#FF6692",
           "#B6E880",
           "#FF97FF",
           "#FECB52"
          ],
          "font": {
           "color": "#2a3f5f"
          },
          "geo": {
           "bgcolor": "white",
           "lakecolor": "white",
           "landcolor": "#E5ECF6",
           "showlakes": true,
           "showland": true,
           "subunitcolor": "white"
          },
          "hoverlabel": {
           "align": "left"
          },
          "hovermode": "closest",
          "mapbox": {
           "style": "light"
          },
          "paper_bgcolor": "white",
          "plot_bgcolor": "#E5ECF6",
          "polar": {
           "angularaxis": {
            "gridcolor": "white",
            "linecolor": "white",
            "ticks": ""
           },
           "bgcolor": "#E5ECF6",
           "radialaxis": {
            "gridcolor": "white",
            "linecolor": "white",
            "ticks": ""
           }
          },
          "scene": {
           "xaxis": {
            "backgroundcolor": "#E5ECF6",
            "gridcolor": "white",
            "gridwidth": 2,
            "linecolor": "white",
            "showbackground": true,
            "ticks": "",
            "zerolinecolor": "white"
           },
           "yaxis": {
            "backgroundcolor": "#E5ECF6",
            "gridcolor": "white",
            "gridwidth": 2,
            "linecolor": "white",
            "showbackground": true,
            "ticks": "",
            "zerolinecolor": "white"
           },
           "zaxis": {
            "backgroundcolor": "#E5ECF6",
            "gridcolor": "white",
            "gridwidth": 2,
            "linecolor": "white",
            "showbackground": true,
            "ticks": "",
            "zerolinecolor": "white"
           }
          },
          "shapedefaults": {
           "line": {
            "color": "#2a3f5f"
           }
          },
          "ternary": {
           "aaxis": {
            "gridcolor": "white",
            "linecolor": "white",
            "ticks": ""
           },
           "baxis": {
            "gridcolor": "white",
            "linecolor": "white",
            "ticks": ""
           },
           "bgcolor": "#E5ECF6",
           "caxis": {
            "gridcolor": "white",
            "linecolor": "white",
            "ticks": ""
           }
          },
          "title": {
           "x": 0.05
          },
          "xaxis": {
           "automargin": true,
           "gridcolor": "white",
           "linecolor": "white",
           "ticks": "",
           "title": {
            "standoff": 15
           },
           "zerolinecolor": "white",
           "zerolinewidth": 2
          },
          "yaxis": {
           "automargin": true,
           "gridcolor": "white",
           "linecolor": "white",
           "ticks": "",
           "title": {
            "standoff": 15
           },
           "zerolinecolor": "white",
           "zerolinewidth": 2
          }
         }
        },
        "title": {
         "text": "GANTT Chart"
        },
        "xaxis": {
         "range": [
          "1970-01-01T01:13:04",
          "1970-01-02T04:47:28"
         ],
         "title": {
          "font": {
           "color": "#7f7f7f",
           "family": "Courier New, monospace",
           "size": 18
          },
          "text": "Time"
         }
        },
        "yaxis": {
         "title": {
          "font": {
           "color": "#7f7f7f",
           "family": "Courier New, monospace",
           "size": 18
          },
          "text": "Activities"
         }
        }
       }
      },
      "text/html": [
       "<div>                            <div id=\"cef4d0d0-331a-48ef-9b23-b34a2c261f0d\" class=\"plotly-graph-div\" style=\"height:525px; width:100%;\"></div>            <script type=\"text/javascript\">                require([\"plotly\"], function(Plotly) {                    window.PLOTLYENV=window.PLOTLYENV || {};                                    if (document.getElementById(\"cef4d0d0-331a-48ef-9b23-b34a2c261f0d\")) {                    Plotly.newPlot(                        \"cef4d0d0-331a-48ef-9b23-b34a2c261f0d\",                        [{\"connectgaps\":false,\"hoverinfo\":\"y+name\",\"line\":{\"color\":\"rgb(25,1,156)\",\"width\":10},\"mode\":\"lines\",\"name\":\"loading:barge_0\",\"x\":[\"1970-01-01T01:13:04\",\"1970-01-01T01:13:04\",\"1970-01-01T01:46:24\",\"1970-01-01T01:46:24\",\"1970-01-01T01:46:24\",\"1970-01-01T04:12:32\",\"1970-01-01T04:12:32\",\"1970-01-01T04:45:52\",\"1970-01-01T04:45:52\",\"1970-01-01T04:45:52\",\"1970-01-01T07:12:00\",\"1970-01-01T07:12:00\",\"1970-01-01T07:45:20\",\"1970-01-01T07:45:20\",\"1970-01-01T07:45:20\",\"1970-01-01T10:23:08\",\"1970-01-01T10:23:08\",\"1970-01-01T10:56:28\",\"1970-01-01T10:56:28\",\"1970-01-01T10:56:28\",\"1970-01-01T14:04:00\",\"1970-01-01T14:04:00\",\"1970-01-01T14:37:20\",\"1970-01-01T14:37:20\",\"1970-01-01T14:37:20\",\"1970-01-01T17:44:52\",\"1970-01-01T17:44:52\",\"1970-01-01T18:18:12\",\"1970-01-01T18:18:12\",\"1970-01-01T18:18:12\",\"1970-01-01T21:25:44\",\"1970-01-01T21:25:44\",\"1970-01-01T21:59:04\",\"1970-01-01T21:59:04\",\"1970-01-01T21:59:04\",\"1970-01-02T01:06:36\",\"1970-01-02T01:06:36\",\"1970-01-02T01:39:56\",\"1970-01-02T01:39:56\",\"1970-01-02T01:39:56\",\"1970-01-01T01:13:04\",\"1970-01-01T01:13:04\",\"1970-01-01T01:46:24\",\"1970-01-01T01:46:24\",\"1970-01-01T01:46:24\",\"1970-01-01T04:12:32\",\"1970-01-01T04:12:32\",\"1970-01-01T04:45:52\",\"1970-01-01T04:45:52\",\"1970-01-01T04:45:52\",\"1970-01-01T07:12:00\",\"1970-01-01T07:12:00\",\"1970-01-01T07:45:20\",\"1970-01-01T07:45:20\",\"1970-01-01T07:45:20\",\"1970-01-01T10:23:08\",\"1970-01-01T10:23:08\",\"1970-01-01T10:56:28\",\"1970-01-01T10:56:28\",\"1970-01-01T10:56:28\",\"1970-01-01T14:04:00\",\"1970-01-01T14:04:00\",\"1970-01-01T14:37:20\",\"1970-01-01T14:37:20\",\"1970-01-01T14:37:20\",\"1970-01-01T17:44:52\",\"1970-01-01T17:44:52\",\"1970-01-01T18:18:12\",\"1970-01-01T18:18:12\",\"1970-01-01T18:18:12\",\"1970-01-01T21:25:44\",\"1970-01-01T21:25:44\",\"1970-01-01T21:59:04\",\"1970-01-01T21:59:04\",\"1970-01-01T21:59:04\",\"1970-01-02T01:06:36\",\"1970-01-02T01:06:36\",\"1970-01-02T01:39:56\",\"1970-01-02T01:39:56\",\"1970-01-02T01:39:56\"],\"y\":[\"loading:barge_0\",\"loading:barge_0\",\"loading:barge_0\",\"loading:barge_0\",null,\"loading:barge_0\",\"loading:barge_0\",\"loading:barge_0\",\"loading:barge_0\",null,\"loading:barge_0\",\"loading:barge_0\",\"loading:barge_0\",\"loading:barge_0\",null,\"loading:barge_0\",\"loading:barge_0\",\"loading:barge_0\",\"loading:barge_0\",null,\"loading:barge_0\",\"loading:barge_0\",\"loading:barge_0\",\"loading:barge_0\",null,\"loading:barge_0\",\"loading:barge_0\",\"loading:barge_0\",\"loading:barge_0\",null,\"loading:barge_0\",\"loading:barge_0\",\"loading:barge_0\",\"loading:barge_0\",null,\"loading:barge_0\",\"loading:barge_0\",\"loading:barge_0\",\"loading:barge_0\",null,\"loading:barge_0\",\"loading:barge_0\",\"loading:barge_0\",\"loading:barge_0\",null,\"loading:barge_0\",\"loading:barge_0\",\"loading:barge_0\",\"loading:barge_0\",null,\"loading:barge_0\",\"loading:barge_0\",\"loading:barge_0\",\"loading:barge_0\",null,\"loading:barge_0\",\"loading:barge_0\",\"loading:barge_0\",\"loading:barge_0\",null,\"loading:barge_0\",\"loading:barge_0\",\"loading:barge_0\",\"loading:barge_0\",null,\"loading:barge_0\",\"loading:barge_0\",\"loading:barge_0\",\"loading:barge_0\",null,\"loading:barge_0\",\"loading:barge_0\",\"loading:barge_0\",\"loading:barge_0\",null,\"loading:barge_0\",\"loading:barge_0\",\"loading:barge_0\",\"loading:barge_0\",null],\"type\":\"scatter\"},{\"connectgaps\":false,\"hoverinfo\":\"y+name\",\"line\":{\"color\":\"rgb(67,43,198)\",\"width\":10},\"mode\":\"lines\",\"name\":\"loading:barge_0\",\"x\":[\"1970-01-01T01:13:04\",\"1970-01-01T01:13:04\",\"1970-01-01T01:46:24\",\"1970-01-01T01:46:24\",\"1970-01-01T01:46:24\",\"1970-01-01T04:12:32\",\"1970-01-01T04:12:32\",\"1970-01-01T04:45:52\",\"1970-01-01T04:45:52\",\"1970-01-01T04:45:52\",\"1970-01-01T07:12:00\",\"1970-01-01T07:12:00\",\"1970-01-01T07:45:20\",\"1970-01-01T07:45:20\",\"1970-01-01T07:45:20\",\"1970-01-01T10:23:08\",\"1970-01-01T10:23:08\",\"1970-01-01T10:56:28\",\"1970-01-01T10:56:28\",\"1970-01-01T10:56:28\",\"1970-01-01T14:04:00\",\"1970-01-01T14:04:00\",\"1970-01-01T14:37:20\",\"1970-01-01T14:37:20\",\"1970-01-01T14:37:20\",\"1970-01-01T17:44:52\",\"1970-01-01T17:44:52\",\"1970-01-01T18:18:12\",\"1970-01-01T18:18:12\",\"1970-01-01T18:18:12\",\"1970-01-01T21:25:44\",\"1970-01-01T21:25:44\",\"1970-01-01T21:59:04\",\"1970-01-01T21:59:04\",\"1970-01-01T21:59:04\",\"1970-01-02T01:06:36\",\"1970-01-02T01:06:36\",\"1970-01-02T01:39:56\",\"1970-01-02T01:39:56\",\"1970-01-02T01:39:56\",\"1970-01-01T01:13:04\",\"1970-01-01T01:13:04\",\"1970-01-01T01:46:24\",\"1970-01-01T01:46:24\",\"1970-01-01T01:46:24\",\"1970-01-01T04:12:32\",\"1970-01-01T04:12:32\",\"1970-01-01T04:45:52\",\"1970-01-01T04:45:52\",\"1970-01-01T04:45:52\",\"1970-01-01T07:12:00\",\"1970-01-01T07:12:00\",\"1970-01-01T07:45:20\",\"1970-01-01T07:45:20\",\"1970-01-01T07:45:20\",\"1970-01-01T10:23:08\",\"1970-01-01T10:23:08\",\"1970-01-01T10:56:28\",\"1970-01-01T10:56:28\",\"1970-01-01T10:56:28\",\"1970-01-01T14:04:00\",\"1970-01-01T14:04:00\",\"1970-01-01T14:37:20\",\"1970-01-01T14:37:20\",\"1970-01-01T14:37:20\",\"1970-01-01T17:44:52\",\"1970-01-01T17:44:52\",\"1970-01-01T18:18:12\",\"1970-01-01T18:18:12\",\"1970-01-01T18:18:12\",\"1970-01-01T21:25:44\",\"1970-01-01T21:25:44\",\"1970-01-01T21:59:04\",\"1970-01-01T21:59:04\",\"1970-01-01T21:59:04\",\"1970-01-02T01:06:36\",\"1970-01-02T01:06:36\",\"1970-01-02T01:39:56\",\"1970-01-02T01:39:56\",\"1970-01-02T01:39:56\"],\"y\":[\"loading:barge_0\",\"loading:barge_0\",\"loading:barge_0\",\"loading:barge_0\",null,\"loading:barge_0\",\"loading:barge_0\",\"loading:barge_0\",\"loading:barge_0\",null,\"loading:barge_0\",\"loading:barge_0\",\"loading:barge_0\",\"loading:barge_0\",null,\"loading:barge_0\",\"loading:barge_0\",\"loading:barge_0\",\"loading:barge_0\",null,\"loading:barge_0\",\"loading:barge_0\",\"loading:barge_0\",\"loading:barge_0\",null,\"loading:barge_0\",\"loading:barge_0\",\"loading:barge_0\",\"loading:barge_0\",null,\"loading:barge_0\",\"loading:barge_0\",\"loading:barge_0\",\"loading:barge_0\",null,\"loading:barge_0\",\"loading:barge_0\",\"loading:barge_0\",\"loading:barge_0\",null,\"loading:barge_0\",\"loading:barge_0\",\"loading:barge_0\",\"loading:barge_0\",null,\"loading:barge_0\",\"loading:barge_0\",\"loading:barge_0\",\"loading:barge_0\",null,\"loading:barge_0\",\"loading:barge_0\",\"loading:barge_0\",\"loading:barge_0\",null,\"loading:barge_0\",\"loading:barge_0\",\"loading:barge_0\",\"loading:barge_0\",null,\"loading:barge_0\",\"loading:barge_0\",\"loading:barge_0\",\"loading:barge_0\",null,\"loading:barge_0\",\"loading:barge_0\",\"loading:barge_0\",\"loading:barge_0\",null,\"loading:barge_0\",\"loading:barge_0\",\"loading:barge_0\",\"loading:barge_0\",null,\"loading:barge_0\",\"loading:barge_0\",\"loading:barge_0\",\"loading:barge_0\",null],\"type\":\"scatter\"},{\"connectgaps\":false,\"hoverinfo\":\"y+name\",\"line\":{\"color\":\"rgb(109,85,240)\",\"width\":10},\"mode\":\"lines\",\"name\":\"loading:barge_1\",\"x\":[\"1970-01-01T01:46:24\",\"1970-01-01T01:46:24\",\"1970-01-01T02:19:44\",\"1970-01-01T02:19:44\",\"1970-01-01T02:19:44\",\"1970-01-01T04:51:28\",\"1970-01-01T04:51:28\",\"1970-01-01T05:24:48\",\"1970-01-01T05:24:48\",\"1970-01-01T05:24:48\",\"1970-01-01T07:56:32\",\"1970-01-01T07:56:32\",\"1970-01-01T08:29:52\",\"1970-01-01T08:29:52\",\"1970-01-01T08:29:52\",\"1970-01-01T11:01:36\",\"1970-01-01T11:01:36\",\"1970-01-01T11:34:56\",\"1970-01-01T11:34:56\",\"1970-01-01T11:34:56\",\"1970-01-01T14:37:20\",\"1970-01-01T14:37:20\",\"1970-01-01T15:10:40\",\"1970-01-01T15:10:40\",\"1970-01-01T15:10:40\",\"1970-01-01T18:18:12\",\"1970-01-01T18:18:12\",\"1970-01-01T18:51:32\",\"1970-01-01T18:51:32\",\"1970-01-01T18:51:32\",\"1970-01-01T21:59:04\",\"1970-01-01T21:59:04\",\"1970-01-01T22:32:24\",\"1970-01-01T22:32:24\",\"1970-01-01T22:32:24\",\"1970-01-02T01:39:56\",\"1970-01-02T01:39:56\",\"1970-01-02T02:13:16\",\"1970-01-02T02:13:16\",\"1970-01-02T02:13:16\",\"1970-01-01T01:46:24\",\"1970-01-01T01:46:24\",\"1970-01-01T02:19:44\",\"1970-01-01T02:19:44\",\"1970-01-01T02:19:44\",\"1970-01-01T04:51:28\",\"1970-01-01T04:51:28\",\"1970-01-01T05:24:48\",\"1970-01-01T05:24:48\",\"1970-01-01T05:24:48\",\"1970-01-01T07:56:32\",\"1970-01-01T07:56:32\",\"1970-01-01T08:29:52\",\"1970-01-01T08:29:52\",\"1970-01-01T08:29:52\",\"1970-01-01T11:01:36\",\"1970-01-01T11:01:36\",\"1970-01-01T11:34:56\",\"1970-01-01T11:34:56\",\"1970-01-01T11:34:56\",\"1970-01-01T14:37:20\",\"1970-01-01T14:37:20\",\"1970-01-01T15:10:40\",\"1970-01-01T15:10:40\",\"1970-01-01T15:10:40\",\"1970-01-01T18:18:12\",\"1970-01-01T18:18:12\",\"1970-01-01T18:51:32\",\"1970-01-01T18:51:32\",\"1970-01-01T18:51:32\",\"1970-01-01T21:59:04\",\"1970-01-01T21:59:04\",\"1970-01-01T22:32:24\",\"1970-01-01T22:32:24\",\"1970-01-01T22:32:24\",\"1970-01-02T01:39:56\",\"1970-01-02T01:39:56\",\"1970-01-02T02:13:16\",\"1970-01-02T02:13:16\",\"1970-01-02T02:13:16\"],\"y\":[\"loading:barge_1\",\"loading:barge_1\",\"loading:barge_1\",\"loading:barge_1\",null,\"loading:barge_1\",\"loading:barge_1\",\"loading:barge_1\",\"loading:barge_1\",null,\"loading:barge_1\",\"loading:barge_1\",\"loading:barge_1\",\"loading:barge_1\",null,\"loading:barge_1\",\"loading:barge_1\",\"loading:barge_1\",\"loading:barge_1\",null,\"loading:barge_1\",\"loading:barge_1\",\"loading:barge_1\",\"loading:barge_1\",null,\"loading:barge_1\",\"loading:barge_1\",\"loading:barge_1\",\"loading:barge_1\",null,\"loading:barge_1\",\"loading:barge_1\",\"loading:barge_1\",\"loading:barge_1\",null,\"loading:barge_1\",\"loading:barge_1\",\"loading:barge_1\",\"loading:barge_1\",null,\"loading:barge_1\",\"loading:barge_1\",\"loading:barge_1\",\"loading:barge_1\",null,\"loading:barge_1\",\"loading:barge_1\",\"loading:barge_1\",\"loading:barge_1\",null,\"loading:barge_1\",\"loading:barge_1\",\"loading:barge_1\",\"loading:barge_1\",null,\"loading:barge_1\",\"loading:barge_1\",\"loading:barge_1\",\"loading:barge_1\",null,\"loading:barge_1\",\"loading:barge_1\",\"loading:barge_1\",\"loading:barge_1\",null,\"loading:barge_1\",\"loading:barge_1\",\"loading:barge_1\",\"loading:barge_1\",null,\"loading:barge_1\",\"loading:barge_1\",\"loading:barge_1\",\"loading:barge_1\",null,\"loading:barge_1\",\"loading:barge_1\",\"loading:barge_1\",\"loading:barge_1\",null],\"type\":\"scatter\"},{\"connectgaps\":false,\"hoverinfo\":\"y+name\",\"line\":{\"color\":\"rgb(151,127,26)\",\"width\":10},\"mode\":\"lines\",\"name\":\"loading:barge_1\",\"x\":[\"1970-01-01T01:46:24\",\"1970-01-01T01:46:24\",\"1970-01-01T02:19:44\",\"1970-01-01T02:19:44\",\"1970-01-01T02:19:44\",\"1970-01-01T04:51:28\",\"1970-01-01T04:51:28\",\"1970-01-01T05:24:48\",\"1970-01-01T05:24:48\",\"1970-01-01T05:24:48\",\"1970-01-01T07:56:32\",\"1970-01-01T07:56:32\",\"1970-01-01T08:29:52\",\"1970-01-01T08:29:52\",\"1970-01-01T08:29:52\",\"1970-01-01T11:01:36\",\"1970-01-01T11:01:36\",\"1970-01-01T11:34:56\",\"1970-01-01T11:34:56\",\"1970-01-01T11:34:56\",\"1970-01-01T14:37:20\",\"1970-01-01T14:37:20\",\"1970-01-01T15:10:40\",\"1970-01-01T15:10:40\",\"1970-01-01T15:10:40\",\"1970-01-01T18:18:12\",\"1970-01-01T18:18:12\",\"1970-01-01T18:51:32\",\"1970-01-01T18:51:32\",\"1970-01-01T18:51:32\",\"1970-01-01T21:59:04\",\"1970-01-01T21:59:04\",\"1970-01-01T22:32:24\",\"1970-01-01T22:32:24\",\"1970-01-01T22:32:24\",\"1970-01-02T01:39:56\",\"1970-01-02T01:39:56\",\"1970-01-02T02:13:16\",\"1970-01-02T02:13:16\",\"1970-01-02T02:13:16\",\"1970-01-01T01:46:24\",\"1970-01-01T01:46:24\",\"1970-01-01T02:19:44\",\"1970-01-01T02:19:44\",\"1970-01-01T02:19:44\",\"1970-01-01T04:51:28\",\"1970-01-01T04:51:28\",\"1970-01-01T05:24:48\",\"1970-01-01T05:24:48\",\"1970-01-01T05:24:48\",\"1970-01-01T07:56:32\",\"1970-01-01T07:56:32\",\"1970-01-01T08:29:52\",\"1970-01-01T08:29:52\",\"1970-01-01T08:29:52\",\"1970-01-01T11:01:36\",\"1970-01-01T11:01:36\",\"1970-01-01T11:34:56\",\"1970-01-01T11:34:56\",\"1970-01-01T11:34:56\",\"1970-01-01T14:37:20\",\"1970-01-01T14:37:20\",\"1970-01-01T15:10:40\",\"1970-01-01T15:10:40\",\"1970-01-01T15:10:40\",\"1970-01-01T18:18:12\",\"1970-01-01T18:18:12\",\"1970-01-01T18:51:32\",\"1970-01-01T18:51:32\",\"1970-01-01T18:51:32\",\"1970-01-01T21:59:04\",\"1970-01-01T21:59:04\",\"1970-01-01T22:32:24\",\"1970-01-01T22:32:24\",\"1970-01-01T22:32:24\",\"1970-01-02T01:39:56\",\"1970-01-02T01:39:56\",\"1970-01-02T02:13:16\",\"1970-01-02T02:13:16\",\"1970-01-02T02:13:16\"],\"y\":[\"loading:barge_1\",\"loading:barge_1\",\"loading:barge_1\",\"loading:barge_1\",null,\"loading:barge_1\",\"loading:barge_1\",\"loading:barge_1\",\"loading:barge_1\",null,\"loading:barge_1\",\"loading:barge_1\",\"loading:barge_1\",\"loading:barge_1\",null,\"loading:barge_1\",\"loading:barge_1\",\"loading:barge_1\",\"loading:barge_1\",null,\"loading:barge_1\",\"loading:barge_1\",\"loading:barge_1\",\"loading:barge_1\",null,\"loading:barge_1\",\"loading:barge_1\",\"loading:barge_1\",\"loading:barge_1\",null,\"loading:barge_1\",\"loading:barge_1\",\"loading:barge_1\",\"loading:barge_1\",null,\"loading:barge_1\",\"loading:barge_1\",\"loading:barge_1\",\"loading:barge_1\",null,\"loading:barge_1\",\"loading:barge_1\",\"loading:barge_1\",\"loading:barge_1\",null,\"loading:barge_1\",\"loading:barge_1\",\"loading:barge_1\",\"loading:barge_1\",null,\"loading:barge_1\",\"loading:barge_1\",\"loading:barge_1\",\"loading:barge_1\",null,\"loading:barge_1\",\"loading:barge_1\",\"loading:barge_1\",\"loading:barge_1\",null,\"loading:barge_1\",\"loading:barge_1\",\"loading:barge_1\",\"loading:barge_1\",null,\"loading:barge_1\",\"loading:barge_1\",\"loading:barge_1\",\"loading:barge_1\",null,\"loading:barge_1\",\"loading:barge_1\",\"loading:barge_1\",\"loading:barge_1\",null,\"loading:barge_1\",\"loading:barge_1\",\"loading:barge_1\",\"loading:barge_1\",null],\"type\":\"scatter\"},{\"connectgaps\":false,\"hoverinfo\":\"y+name\",\"line\":{\"color\":\"rgb(193,169,68)\",\"width\":10},\"mode\":\"lines\",\"name\":\"loading:barge_2\",\"x\":[\"1970-01-01T02:19:44\",\"1970-01-01T02:19:44\",\"1970-01-01T03:01:24\",\"1970-01-01T03:01:24\",\"1970-01-01T03:01:24\",\"1970-01-01T06:00:36\",\"1970-01-01T06:00:36\",\"1970-01-01T06:42:16\",\"1970-01-01T06:42:16\",\"1970-01-01T06:42:16\",\"1970-01-01T09:41:28\",\"1970-01-01T09:41:28\",\"1970-01-01T10:23:08\",\"1970-01-01T10:23:08\",\"1970-01-01T10:23:08\",\"1970-01-01T13:22:20\",\"1970-01-01T13:22:20\",\"1970-01-01T14:04:00\",\"1970-01-01T14:04:00\",\"1970-01-01T14:04:00\",\"1970-01-01T17:03:12\",\"1970-01-01T17:03:12\",\"1970-01-01T17:44:52\",\"1970-01-01T17:44:52\",\"1970-01-01T17:44:52\",\"1970-01-01T20:44:04\",\"1970-01-01T20:44:04\",\"1970-01-01T21:25:44\",\"1970-01-01T21:25:44\",\"1970-01-01T21:25:44\",\"1970-01-02T00:24:56\",\"1970-01-02T00:24:56\",\"1970-01-02T01:06:36\",\"1970-01-02T01:06:36\",\"1970-01-02T01:06:36\",\"1970-01-02T04:05:48\",\"1970-01-02T04:05:48\",\"1970-01-02T04:47:28\",\"1970-01-02T04:47:28\",\"1970-01-02T04:47:28\",\"1970-01-01T02:19:44\",\"1970-01-01T02:19:44\",\"1970-01-01T03:01:24\",\"1970-01-01T03:01:24\",\"1970-01-01T03:01:24\",\"1970-01-01T06:00:36\",\"1970-01-01T06:00:36\",\"1970-01-01T06:42:16\",\"1970-01-01T06:42:16\",\"1970-01-01T06:42:16\",\"1970-01-01T09:41:28\",\"1970-01-01T09:41:28\",\"1970-01-01T10:23:08\",\"1970-01-01T10:23:08\",\"1970-01-01T10:23:08\",\"1970-01-01T13:22:20\",\"1970-01-01T13:22:20\",\"1970-01-01T14:04:00\",\"1970-01-01T14:04:00\",\"1970-01-01T14:04:00\",\"1970-01-01T17:03:12\",\"1970-01-01T17:03:12\",\"1970-01-01T17:44:52\",\"1970-01-01T17:44:52\",\"1970-01-01T17:44:52\",\"1970-01-01T20:44:04\",\"1970-01-01T20:44:04\",\"1970-01-01T21:25:44\",\"1970-01-01T21:25:44\",\"1970-01-01T21:25:44\",\"1970-01-02T00:24:56\",\"1970-01-02T00:24:56\",\"1970-01-02T01:06:36\",\"1970-01-02T01:06:36\",\"1970-01-02T01:06:36\",\"1970-01-02T04:05:48\",\"1970-01-02T04:05:48\",\"1970-01-02T04:47:28\",\"1970-01-02T04:47:28\",\"1970-01-02T04:47:28\"],\"y\":[\"loading:barge_2\",\"loading:barge_2\",\"loading:barge_2\",\"loading:barge_2\",null,\"loading:barge_2\",\"loading:barge_2\",\"loading:barge_2\",\"loading:barge_2\",null,\"loading:barge_2\",\"loading:barge_2\",\"loading:barge_2\",\"loading:barge_2\",null,\"loading:barge_2\",\"loading:barge_2\",\"loading:barge_2\",\"loading:barge_2\",null,\"loading:barge_2\",\"loading:barge_2\",\"loading:barge_2\",\"loading:barge_2\",null,\"loading:barge_2\",\"loading:barge_2\",\"loading:barge_2\",\"loading:barge_2\",null,\"loading:barge_2\",\"loading:barge_2\",\"loading:barge_2\",\"loading:barge_2\",null,\"loading:barge_2\",\"loading:barge_2\",\"loading:barge_2\",\"loading:barge_2\",null,\"loading:barge_2\",\"loading:barge_2\",\"loading:barge_2\",\"loading:barge_2\",null,\"loading:barge_2\",\"loading:barge_2\",\"loading:barge_2\",\"loading:barge_2\",null,\"loading:barge_2\",\"loading:barge_2\",\"loading:barge_2\",\"loading:barge_2\",null,\"loading:barge_2\",\"loading:barge_2\",\"loading:barge_2\",\"loading:barge_2\",null,\"loading:barge_2\",\"loading:barge_2\",\"loading:barge_2\",\"loading:barge_2\",null,\"loading:barge_2\",\"loading:barge_2\",\"loading:barge_2\",\"loading:barge_2\",null,\"loading:barge_2\",\"loading:barge_2\",\"loading:barge_2\",\"loading:barge_2\",null,\"loading:barge_2\",\"loading:barge_2\",\"loading:barge_2\",\"loading:barge_2\",null],\"type\":\"scatter\"},{\"connectgaps\":false,\"hoverinfo\":\"y+name\",\"line\":{\"color\":\"rgb(235,211,110)\",\"width\":10},\"mode\":\"lines\",\"name\":\"loading:barge_2\",\"x\":[\"1970-01-01T02:19:44\",\"1970-01-01T02:19:44\",\"1970-01-01T03:01:24\",\"1970-01-01T03:01:24\",\"1970-01-01T03:01:24\",\"1970-01-01T06:00:36\",\"1970-01-01T06:00:36\",\"1970-01-01T06:42:16\",\"1970-01-01T06:42:16\",\"1970-01-01T06:42:16\",\"1970-01-01T09:41:28\",\"1970-01-01T09:41:28\",\"1970-01-01T10:23:08\",\"1970-01-01T10:23:08\",\"1970-01-01T10:23:08\",\"1970-01-01T13:22:20\",\"1970-01-01T13:22:20\",\"1970-01-01T14:04:00\",\"1970-01-01T14:04:00\",\"1970-01-01T14:04:00\",\"1970-01-01T17:03:12\",\"1970-01-01T17:03:12\",\"1970-01-01T17:44:52\",\"1970-01-01T17:44:52\",\"1970-01-01T17:44:52\",\"1970-01-01T20:44:04\",\"1970-01-01T20:44:04\",\"1970-01-01T21:25:44\",\"1970-01-01T21:25:44\",\"1970-01-01T21:25:44\",\"1970-01-02T00:24:56\",\"1970-01-02T00:24:56\",\"1970-01-02T01:06:36\",\"1970-01-02T01:06:36\",\"1970-01-02T01:06:36\",\"1970-01-02T04:05:48\",\"1970-01-02T04:05:48\",\"1970-01-02T04:47:28\",\"1970-01-02T04:47:28\",\"1970-01-02T04:47:28\",\"1970-01-01T02:19:44\",\"1970-01-01T02:19:44\",\"1970-01-01T03:01:24\",\"1970-01-01T03:01:24\",\"1970-01-01T03:01:24\",\"1970-01-01T06:00:36\",\"1970-01-01T06:00:36\",\"1970-01-01T06:42:16\",\"1970-01-01T06:42:16\",\"1970-01-01T06:42:16\",\"1970-01-01T09:41:28\",\"1970-01-01T09:41:28\",\"1970-01-01T10:23:08\",\"1970-01-01T10:23:08\",\"1970-01-01T10:23:08\",\"1970-01-01T13:22:20\",\"1970-01-01T13:22:20\",\"1970-01-01T14:04:00\",\"1970-01-01T14:04:00\",\"1970-01-01T14:04:00\",\"1970-01-01T17:03:12\",\"1970-01-01T17:03:12\",\"1970-01-01T17:44:52\",\"1970-01-01T17:44:52\",\"1970-01-01T17:44:52\",\"1970-01-01T20:44:04\",\"1970-01-01T20:44:04\",\"1970-01-01T21:25:44\",\"1970-01-01T21:25:44\",\"1970-01-01T21:25:44\",\"1970-01-02T00:24:56\",\"1970-01-02T00:24:56\",\"1970-01-02T01:06:36\",\"1970-01-02T01:06:36\",\"1970-01-02T01:06:36\",\"1970-01-02T04:05:48\",\"1970-01-02T04:05:48\",\"1970-01-02T04:47:28\",\"1970-01-02T04:47:28\",\"1970-01-02T04:47:28\"],\"y\":[\"loading:barge_2\",\"loading:barge_2\",\"loading:barge_2\",\"loading:barge_2\",null,\"loading:barge_2\",\"loading:barge_2\",\"loading:barge_2\",\"loading:barge_2\",null,\"loading:barge_2\",\"loading:barge_2\",\"loading:barge_2\",\"loading:barge_2\",null,\"loading:barge_2\",\"loading:barge_2\",\"loading:barge_2\",\"loading:barge_2\",null,\"loading:barge_2\",\"loading:barge_2\",\"loading:barge_2\",\"loading:barge_2\",null,\"loading:barge_2\",\"loading:barge_2\",\"loading:barge_2\",\"loading:barge_2\",null,\"loading:barge_2\",\"loading:barge_2\",\"loading:barge_2\",\"loading:barge_2\",null,\"loading:barge_2\",\"loading:barge_2\",\"loading:barge_2\",\"loading:barge_2\",null,\"loading:barge_2\",\"loading:barge_2\",\"loading:barge_2\",\"loading:barge_2\",null,\"loading:barge_2\",\"loading:barge_2\",\"loading:barge_2\",\"loading:barge_2\",null,\"loading:barge_2\",\"loading:barge_2\",\"loading:barge_2\",\"loading:barge_2\",null,\"loading:barge_2\",\"loading:barge_2\",\"loading:barge_2\",\"loading:barge_2\",null,\"loading:barge_2\",\"loading:barge_2\",\"loading:barge_2\",\"loading:barge_2\",null,\"loading:barge_2\",\"loading:barge_2\",\"loading:barge_2\",\"loading:barge_2\",null,\"loading:barge_2\",\"loading:barge_2\",\"loading:barge_2\",\"loading:barge_2\",null,\"loading:barge_2\",\"loading:barge_2\",\"loading:barge_2\",\"loading:barge_2\",null],\"type\":\"scatter\"}],                        {\"hovermode\":\"closest\",\"legend\":{\"orientation\":\"h\",\"x\":0,\"y\":-0.2},\"template\":{\"data\":{\"barpolar\":[{\"marker\":{\"line\":{\"color\":\"#E5ECF6\",\"width\":0.5},\"pattern\":{\"fillmode\":\"overlay\",\"size\":10,\"solidity\":0.2}},\"type\":\"barpolar\"}],\"bar\":[{\"error_x\":{\"color\":\"#2a3f5f\"},\"error_y\":{\"color\":\"#2a3f5f\"},\"marker\":{\"line\":{\"color\":\"#E5ECF6\",\"width\":0.5},\"pattern\":{\"fillmode\":\"overlay\",\"size\":10,\"solidity\":0.2}},\"type\":\"bar\"}],\"carpet\":[{\"aaxis\":{\"endlinecolor\":\"#2a3f5f\",\"gridcolor\":\"white\",\"linecolor\":\"white\",\"minorgridcolor\":\"white\",\"startlinecolor\":\"#2a3f5f\"},\"baxis\":{\"endlinecolor\":\"#2a3f5f\",\"gridcolor\":\"white\",\"linecolor\":\"white\",\"minorgridcolor\":\"white\",\"startlinecolor\":\"#2a3f5f\"},\"type\":\"carpet\"}],\"choropleth\":[{\"colorbar\":{\"outlinewidth\":0,\"ticks\":\"\"},\"type\":\"choropleth\"}],\"contourcarpet\":[{\"colorbar\":{\"outlinewidth\":0,\"ticks\":\"\"},\"type\":\"contourcarpet\"}],\"contour\":[{\"colorbar\":{\"outlinewidth\":0,\"ticks\":\"\"},\"colorscale\":[[0.0,\"#0d0887\"],[0.1111111111111111,\"#46039f\"],[0.2222222222222222,\"#7201a8\"],[0.3333333333333333,\"#9c179e\"],[0.4444444444444444,\"#bd3786\"],[0.5555555555555556,\"#d8576b\"],[0.6666666666666666,\"#ed7953\"],[0.7777777777777778,\"#fb9f3a\"],[0.8888888888888888,\"#fdca26\"],[1.0,\"#f0f921\"]],\"type\":\"contour\"}],\"heatmapgl\":[{\"colorbar\":{\"outlinewidth\":0,\"ticks\":\"\"},\"colorscale\":[[0.0,\"#0d0887\"],[0.1111111111111111,\"#46039f\"],[0.2222222222222222,\"#7201a8\"],[0.3333333333333333,\"#9c179e\"],[0.4444444444444444,\"#bd3786\"],[0.5555555555555556,\"#d8576b\"],[0.6666666666666666,\"#ed7953\"],[0.7777777777777778,\"#fb9f3a\"],[0.8888888888888888,\"#fdca26\"],[1.0,\"#f0f921\"]],\"type\":\"heatmapgl\"}],\"heatmap\":[{\"colorbar\":{\"outlinewidth\":0,\"ticks\":\"\"},\"colorscale\":[[0.0,\"#0d0887\"],[0.1111111111111111,\"#46039f\"],[0.2222222222222222,\"#7201a8\"],[0.3333333333333333,\"#9c179e\"],[0.4444444444444444,\"#bd3786\"],[0.5555555555555556,\"#d8576b\"],[0.6666666666666666,\"#ed7953\"],[0.7777777777777778,\"#fb9f3a\"],[0.8888888888888888,\"#fdca26\"],[1.0,\"#f0f921\"]],\"type\":\"heatmap\"}],\"histogram2dcontour\":[{\"colorbar\":{\"outlinewidth\":0,\"ticks\":\"\"},\"colorscale\":[[0.0,\"#0d0887\"],[0.1111111111111111,\"#46039f\"],[0.2222222222222222,\"#7201a8\"],[0.3333333333333333,\"#9c179e\"],[0.4444444444444444,\"#bd3786\"],[0.5555555555555556,\"#d8576b\"],[0.6666666666666666,\"#ed7953\"],[0.7777777777777778,\"#fb9f3a\"],[0.8888888888888888,\"#fdca26\"],[1.0,\"#f0f921\"]],\"type\":\"histogram2dcontour\"}],\"histogram2d\":[{\"colorbar\":{\"outlinewidth\":0,\"ticks\":\"\"},\"colorscale\":[[0.0,\"#0d0887\"],[0.1111111111111111,\"#46039f\"],[0.2222222222222222,\"#7201a8\"],[0.3333333333333333,\"#9c179e\"],[0.4444444444444444,\"#bd3786\"],[0.5555555555555556,\"#d8576b\"],[0.6666666666666666,\"#ed7953\"],[0.7777777777777778,\"#fb9f3a\"],[0.8888888888888888,\"#fdca26\"],[1.0,\"#f0f921\"]],\"type\":\"histogram2d\"}],\"histogram\":[{\"marker\":{\"pattern\":{\"fillmode\":\"overlay\",\"size\":10,\"solidity\":0.2}},\"type\":\"histogram\"}],\"mesh3d\":[{\"colorbar\":{\"outlinewidth\":0,\"ticks\":\"\"},\"type\":\"mesh3d\"}],\"parcoords\":[{\"line\":{\"colorbar\":{\"outlinewidth\":0,\"ticks\":\"\"}},\"type\":\"parcoords\"}],\"pie\":[{\"automargin\":true,\"type\":\"pie\"}],\"scatter3d\":[{\"line\":{\"colorbar\":{\"outlinewidth\":0,\"ticks\":\"\"}},\"marker\":{\"colorbar\":{\"outlinewidth\":0,\"ticks\":\"\"}},\"type\":\"scatter3d\"}],\"scattercarpet\":[{\"marker\":{\"colorbar\":{\"outlinewidth\":0,\"ticks\":\"\"}},\"type\":\"scattercarpet\"}],\"scattergeo\":[{\"marker\":{\"colorbar\":{\"outlinewidth\":0,\"ticks\":\"\"}},\"type\":\"scattergeo\"}],\"scattergl\":[{\"marker\":{\"colorbar\":{\"outlinewidth\":0,\"ticks\":\"\"}},\"type\":\"scattergl\"}],\"scattermapbox\":[{\"marker\":{\"colorbar\":{\"outlinewidth\":0,\"ticks\":\"\"}},\"type\":\"scattermapbox\"}],\"scatterpolargl\":[{\"marker\":{\"colorbar\":{\"outlinewidth\":0,\"ticks\":\"\"}},\"type\":\"scatterpolargl\"}],\"scatterpolar\":[{\"marker\":{\"colorbar\":{\"outlinewidth\":0,\"ticks\":\"\"}},\"type\":\"scatterpolar\"}],\"scatter\":[{\"marker\":{\"colorbar\":{\"outlinewidth\":0,\"ticks\":\"\"}},\"type\":\"scatter\"}],\"scatterternary\":[{\"marker\":{\"colorbar\":{\"outlinewidth\":0,\"ticks\":\"\"}},\"type\":\"scatterternary\"}],\"surface\":[{\"colorbar\":{\"outlinewidth\":0,\"ticks\":\"\"},\"colorscale\":[[0.0,\"#0d0887\"],[0.1111111111111111,\"#46039f\"],[0.2222222222222222,\"#7201a8\"],[0.3333333333333333,\"#9c179e\"],[0.4444444444444444,\"#bd3786\"],[0.5555555555555556,\"#d8576b\"],[0.6666666666666666,\"#ed7953\"],[0.7777777777777778,\"#fb9f3a\"],[0.8888888888888888,\"#fdca26\"],[1.0,\"#f0f921\"]],\"type\":\"surface\"}],\"table\":[{\"cells\":{\"fill\":{\"color\":\"#EBF0F8\"},\"line\":{\"color\":\"white\"}},\"header\":{\"fill\":{\"color\":\"#C8D4E3\"},\"line\":{\"color\":\"white\"}},\"type\":\"table\"}]},\"layout\":{\"annotationdefaults\":{\"arrowcolor\":\"#2a3f5f\",\"arrowhead\":0,\"arrowwidth\":1},\"autotypenumbers\":\"strict\",\"coloraxis\":{\"colorbar\":{\"outlinewidth\":0,\"ticks\":\"\"}},\"colorscale\":{\"diverging\":[[0,\"#8e0152\"],[0.1,\"#c51b7d\"],[0.2,\"#de77ae\"],[0.3,\"#f1b6da\"],[0.4,\"#fde0ef\"],[0.5,\"#f7f7f7\"],[0.6,\"#e6f5d0\"],[0.7,\"#b8e186\"],[0.8,\"#7fbc41\"],[0.9,\"#4d9221\"],[1,\"#276419\"]],\"sequential\":[[0.0,\"#0d0887\"],[0.1111111111111111,\"#46039f\"],[0.2222222222222222,\"#7201a8\"],[0.3333333333333333,\"#9c179e\"],[0.4444444444444444,\"#bd3786\"],[0.5555555555555556,\"#d8576b\"],[0.6666666666666666,\"#ed7953\"],[0.7777777777777778,\"#fb9f3a\"],[0.8888888888888888,\"#fdca26\"],[1.0,\"#f0f921\"]],\"sequentialminus\":[[0.0,\"#0d0887\"],[0.1111111111111111,\"#46039f\"],[0.2222222222222222,\"#7201a8\"],[0.3333333333333333,\"#9c179e\"],[0.4444444444444444,\"#bd3786\"],[0.5555555555555556,\"#d8576b\"],[0.6666666666666666,\"#ed7953\"],[0.7777777777777778,\"#fb9f3a\"],[0.8888888888888888,\"#fdca26\"],[1.0,\"#f0f921\"]]},\"colorway\":[\"#636efa\",\"#EF553B\",\"#00cc96\",\"#ab63fa\",\"#FFA15A\",\"#19d3f3\",\"#FF6692\",\"#B6E880\",\"#FF97FF\",\"#FECB52\"],\"font\":{\"color\":\"#2a3f5f\"},\"geo\":{\"bgcolor\":\"white\",\"lakecolor\":\"white\",\"landcolor\":\"#E5ECF6\",\"showlakes\":true,\"showland\":true,\"subunitcolor\":\"white\"},\"hoverlabel\":{\"align\":\"left\"},\"hovermode\":\"closest\",\"mapbox\":{\"style\":\"light\"},\"paper_bgcolor\":\"white\",\"plot_bgcolor\":\"#E5ECF6\",\"polar\":{\"angularaxis\":{\"gridcolor\":\"white\",\"linecolor\":\"white\",\"ticks\":\"\"},\"bgcolor\":\"#E5ECF6\",\"radialaxis\":{\"gridcolor\":\"white\",\"linecolor\":\"white\",\"ticks\":\"\"}},\"scene\":{\"xaxis\":{\"backgroundcolor\":\"#E5ECF6\",\"gridcolor\":\"white\",\"gridwidth\":2,\"linecolor\":\"white\",\"showbackground\":true,\"ticks\":\"\",\"zerolinecolor\":\"white\"},\"yaxis\":{\"backgroundcolor\":\"#E5ECF6\",\"gridcolor\":\"white\",\"gridwidth\":2,\"linecolor\":\"white\",\"showbackground\":true,\"ticks\":\"\",\"zerolinecolor\":\"white\"},\"zaxis\":{\"backgroundcolor\":\"#E5ECF6\",\"gridcolor\":\"white\",\"gridwidth\":2,\"linecolor\":\"white\",\"showbackground\":true,\"ticks\":\"\",\"zerolinecolor\":\"white\"}},\"shapedefaults\":{\"line\":{\"color\":\"#2a3f5f\"}},\"ternary\":{\"aaxis\":{\"gridcolor\":\"white\",\"linecolor\":\"white\",\"ticks\":\"\"},\"baxis\":{\"gridcolor\":\"white\",\"linecolor\":\"white\",\"ticks\":\"\"},\"bgcolor\":\"#E5ECF6\",\"caxis\":{\"gridcolor\":\"white\",\"linecolor\":\"white\",\"ticks\":\"\"}},\"title\":{\"x\":0.05},\"xaxis\":{\"automargin\":true,\"gridcolor\":\"white\",\"linecolor\":\"white\",\"ticks\":\"\",\"title\":{\"standoff\":15},\"zerolinecolor\":\"white\",\"zerolinewidth\":2},\"yaxis\":{\"automargin\":true,\"gridcolor\":\"white\",\"linecolor\":\"white\",\"ticks\":\"\",\"title\":{\"standoff\":15},\"zerolinecolor\":\"white\",\"zerolinewidth\":2}}},\"title\":{\"text\":\"GANTT Chart\"},\"xaxis\":{\"range\":[\"1970-01-01T01:13:04\",\"1970-01-02T04:47:28\"],\"title\":{\"font\":{\"color\":\"#7f7f7f\",\"family\":\"Courier New, monospace\",\"size\":18},\"text\":\"Time\"}},\"yaxis\":{\"title\":{\"font\":{\"color\":\"#7f7f7f\",\"family\":\"Courier New, monospace\",\"size\":18},\"text\":\"Activities\"}}},                        {\"responsive\": true}                    ).then(function(){\n",
       "                            \n",
       "var gd = document.getElementById('cef4d0d0-331a-48ef-9b23-b34a2c261f0d');\n",
       "var x = new MutationObserver(function (mutations, observer) {{\n",
       "        var display = window.getComputedStyle(gd).display;\n",
       "        if (!display || display === 'none') {{\n",
       "            console.log([gd, 'removed!']);\n",
       "            Plotly.purge(gd);\n",
       "            observer.disconnect();\n",
       "        }}\n",
       "}});\n",
       "\n",
       "// Listen for the removal of the full notebook cells\n",
       "var notebookContainer = gd.closest('#notebook-container');\n",
       "if (notebookContainer) {{\n",
       "    x.observe(notebookContainer, {childList: true});\n",
       "}}\n",
       "\n",
       "// Listen for the clearing of the current output cell\n",
       "var outputEl = gd.closest('.output');\n",
       "if (outputEl) {{\n",
       "    x.observe(outputEl, {childList: true});\n",
       "}}\n",
       "\n",
       "                        })                };                });            </script>        </div>"
      ]
     },
     "metadata": {},
     "output_type": "display_data"
    }
   ],
   "source": [
    "def expand(a, namespace):\n",
    "    n = len(namespace)\n",
    "    sa = []\n",
    "    if a.name[0:n]==namespace:\n",
    "        sa.append(a)\n",
    "    if hasattr(a, \"sub_processes\"):\n",
    "        for s in a.sub_processes:\n",
    "            if s.name[0:n]==namespace:\n",
    "                sa.append(s)\n",
    "            sa+=expand(s,namespace)\n",
    "    return sa\n",
    "all_activities = []\n",
    "for a in [*activities]:\n",
    "    all_activities+=expand(activities[a],'load')\n",
    "all_activities\n",
    "fig = plot.get_gantt_chart(all_activities)"
   ]
  },
  {
   "cell_type": "code",
   "execution_count": 9,
   "metadata": {},
   "outputs": [
    {
     "data": {
      "image/png": "[encoded data removed]",
      "text/plain": [
       "<Figure size 1008x504 with 1 Axes>"
      ]
     },
     "metadata": {
      "needs_background": "light"
     },
     "output_type": "display_data"
    }
   ],
   "source": [
    "fig = plot.get_step_chart([from_site, to_site, *vessels.values()])"
   ]
  },
  {
   "cell_type": "code",
   "execution_count": 10,
   "metadata": {},
   "outputs": [
    {
     "data": {
      "text/html": [
       "<div>\n",
       "<style scoped>\n",
       "    .dataframe tbody tr th:only-of-type {\n",
       "        vertical-align: middle;\n",
       "    }\n",
       "\n",
       "    .dataframe tbody tr th {\n",
       "        vertical-align: top;\n",
       "    }\n",
       "\n",
       "    .dataframe thead th {\n",
       "        text-align: right;\n",
       "    }\n",
       "</style>\n",
       "<table border=\"1\" class=\"dataframe\">\n",
       "  <thead>\n",
       "    <tr style=\"text-align: right;\">\n",
       "      <th></th>\n",
       "      <th>name</th>\n",
       "      <th>trips</th>\n",
       "      <th>theoretical production</th>\n",
       "      <th>production</th>\n",
       "    </tr>\n",
       "  </thead>\n",
       "  <tbody>\n",
       "    <tr>\n",
       "      <th>2</th>\n",
       "      <td>barge_2</td>\n",
       "      <td>8</td>\n",
       "      <td>0.000464</td>\n",
       "      <td>0.000367</td>\n",
       "    </tr>\n",
       "    <tr>\n",
       "      <th>0</th>\n",
       "      <td>barge_0</td>\n",
       "      <td>8</td>\n",
       "      <td>0.000455</td>\n",
       "      <td>0.000331</td>\n",
       "    </tr>\n",
       "    <tr>\n",
       "      <th>1</th>\n",
       "      <td>barge_1</td>\n",
       "      <td>8</td>\n",
       "      <td>0.000438</td>\n",
       "      <td>0.000323</td>\n",
       "    </tr>\n",
       "  </tbody>\n",
       "</table>\n",
       "</div>"
      ],
      "text/plain": [
       "      name  trips  theoretical production  production\n",
       "2  barge_2      8                0.000464    0.000367\n",
       "0  barge_0      8                0.000455    0.000331\n",
       "1  barge_1      8                0.000438    0.000323"
      ]
     },
     "execution_count": 10,
     "metadata": {},
     "output_type": "execute_result"
    }
   ],
   "source": [
    "data = []\n",
    "for i in range(len(vessels.values()) - 1):\n",
    "    vessel = vessels[f'vessel{i}']\n",
    "    activity = activities[f'activity{i}']\n",
    "    sub_act = activity.sub_processes[0].sub_processes[-1]\n",
    "    log = pd.DataFrame(vessel.log)\n",
    "    nr_trips = len(log[(log.ActivityID == sub_act.id) & (log.ActivityState == \"START\")])\n",
    "    data.append({\n",
    "        'name':vessel.name, \n",
    "        'trips':nr_trips, \n",
    "        'theoretical production': (sub_act.amount / (4*sub_act.duration+ 5*sub_act.amount)),\n",
    "        'production':(nr_trips * sub_act.amount) / ((log.Timestamp.max() - log.Timestamp.min()).total_seconds()),\n",
    "    })\n",
    "df = pd.DataFrame(data).sort_values(by=['production'],ascending=False)\n",
    "df"
   ]
  },
  {
   "cell_type": "code",
   "execution_count": null,
   "metadata": {},
   "outputs": [],
   "source": []
  },
  {
   "cell_type": "code",
   "execution_count": null,
   "metadata": {},
   "outputs": [],
   "source": []
  }
 ],
 "metadata": {
  "kernelspec": {
   "display_name": "Python 3",
   "language": "python",
   "name": "python3"
  },
  "language_info": {
   "codemirror_mode": {
    "name": "ipython",
    "version": 3
   },
   "file_extension": ".py",
   "mimetype": "text/x-python",
   "name": "python",
   "nbconvert_exporter": "python",
   "pygments_lexer": "ipython3",
   "version": "3.8.5"
  }
 },
 "nbformat": 4,
 "nbformat_minor": 5
}
