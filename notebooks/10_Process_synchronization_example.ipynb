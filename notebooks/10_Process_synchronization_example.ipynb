{
 "cells": [
  {
   "cell_type": "markdown",
   "metadata": {},
   "source": [
    "# Demo Process Synchronization\n",
    "Next to the synchronization of activities using controll structures like **while** and **sequence** used within a single process, OpenCLSim allows to synchronize different processes using **start_events**. Start_events can be specified using the expression language as documented to **delay** the execution of a process. Control structures do not delay the execution but explicitly start the execution when possible. The difference is very well visible when you compare the activity log in this demo with the one from the sequence demo."
   ]
  },
  {
   "cell_type": "code",
   "execution_count": 1,
   "metadata": {},
   "outputs": [],
   "source": [
    "import datetime, time\n",
    "import simpy\n",
    "\n",
    "import pandas as pd\n",
    "import openclsim.core as core\n",
    "import openclsim.model as model\n",
    "\n",
    "# setup environment\n",
    "simulation_start = 0\n",
    "my_env = simpy.Environment(initial_time=simulation_start)\n",
    "registry = {}"
   ]
  },
  {
   "cell_type": "markdown",
   "metadata": {},
   "source": [
    "## Definition of two basic activities\n",
    "The two activities are started in parallel, but the execution of Activity2 is delayed until Activity1 has been completed. To easier see how the two activities are interrelated a reporting activity is added."
   ]
  },
  {
   "cell_type": "code",
   "execution_count": 2,
   "metadata": {},
   "outputs": [],
   "source": [
    "reporting_activity_data = {\n",
    "    \"env\": my_env,\n",
    "    \"name\": \"Reporting activity\",\n",
    "    \"ID\": \"6dbbbdf7-4589-11e9-bf3b-b469212bff5k\",  # For logging purposes\n",
    "    \"registry\": registry,\n",
    "    \"duration\": 0,\n",
    "    \"postpone_start\": False,\n",
    "}\n",
    "reporting_activity = model.BasicActivity(**reporting_activity_data)\n",
    "\n",
    "basic_activity_data= {\"env\"  : my_env,\n",
    "                      \"name\" : \"Activity1\",\n",
    "                      \"ID\":\"6dbbbdf7-4589-11e9-bf3b-b469212bff5b\",  # For logging purposes\n",
    "                      \"registry\": registry,\n",
    "                      \"additional_logs\": [reporting_activity],\n",
    "                      \"duration\" : 14}\n",
    "activity = model.BasicActivity(**basic_activity_data)\n",
    "basic_activity_data2= {\"env\"  : my_env,\n",
    "                      \"name\" : \"Activity2\",\n",
    "                      \"ID\":\"6dbbbdf7-4589-11e9-bf3b-b469212bff5c\",  # For logging purposes\n",
    "                      \"registry\": registry,\n",
    "                      \"additional_logs\": [reporting_activity],\n",
    "                      \"start_event\": [{\"type\":\"activity\", \"name\": \"Activity1\" , \"state\":\"done\"}],\n",
    "                      \"duration\" : 30}\n",
    "activity2 = model.BasicActivity(**basic_activity_data2)\n"
   ]
  },
  {
   "cell_type": "markdown",
   "metadata": {},
   "source": [
    "## Run simulation"
   ]
  },
  {
   "cell_type": "code",
   "execution_count": 3,
   "metadata": {},
   "outputs": [],
   "source": [
    "my_env.run()"
   ]
  },
  {
   "cell_type": "code",
   "execution_count": 4,
   "metadata": {},
   "outputs": [
    {
     "data": {
      "text/html": [
       "<div>\n",
       "<style scoped>\n",
       "    .dataframe tbody tr th:only-of-type {\n",
       "        vertical-align: middle;\n",
       "    }\n",
       "\n",
       "    .dataframe tbody tr th {\n",
       "        vertical-align: top;\n",
       "    }\n",
       "\n",
       "    .dataframe thead th {\n",
       "        text-align: right;\n",
       "    }\n",
       "</style>\n",
       "<table border=\"1\" class=\"dataframe\">\n",
       "  <thead>\n",
       "    <tr style=\"text-align: right;\">\n",
       "      <th></th>\n",
       "      <th>Message</th>\n",
       "      <th>ActivityState</th>\n",
       "      <th>Timestamp</th>\n",
       "      <th>Value</th>\n",
       "      <th>ActivityID</th>\n",
       "    </tr>\n",
       "  </thead>\n",
       "  <tbody>\n",
       "    <tr>\n",
       "      <th>0</th>\n",
       "      <td>Reporting activity</td>\n",
       "      <td>START</td>\n",
       "      <td>1970-01-01 00:00:00</td>\n",
       "      <td>0</td>\n",
       "      <td>6dbbbdf7-4589-11e9-bf3b-b469212bff5k</td>\n",
       "    </tr>\n",
       "    <tr>\n",
       "      <th>1</th>\n",
       "      <td>Activity1</td>\n",
       "      <td>START</td>\n",
       "      <td>1970-01-01 00:00:00</td>\n",
       "      <td>14</td>\n",
       "      <td>6dbbbdf7-4589-11e9-bf3b-b469212bff5b</td>\n",
       "    </tr>\n",
       "    <tr>\n",
       "      <th>2</th>\n",
       "      <td>Activity2</td>\n",
       "      <td>WAIT_START</td>\n",
       "      <td>1970-01-01 00:00:00</td>\n",
       "      <td>-1</td>\n",
       "      <td>6dbbbdf7-4589-11e9-bf3b-b469212bff5c</td>\n",
       "    </tr>\n",
       "    <tr>\n",
       "      <th>3</th>\n",
       "      <td>Reporting activity</td>\n",
       "      <td>STOP</td>\n",
       "      <td>1970-01-01 00:00:00</td>\n",
       "      <td>0</td>\n",
       "      <td>6dbbbdf7-4589-11e9-bf3b-b469212bff5k</td>\n",
       "    </tr>\n",
       "    <tr>\n",
       "      <th>4</th>\n",
       "      <td>Activity1</td>\n",
       "      <td>STOP</td>\n",
       "      <td>1970-01-01 00:00:14</td>\n",
       "      <td>14</td>\n",
       "      <td>6dbbbdf7-4589-11e9-bf3b-b469212bff5b</td>\n",
       "    </tr>\n",
       "    <tr>\n",
       "      <th>5</th>\n",
       "      <td>Activity2</td>\n",
       "      <td>WAIT_STOP</td>\n",
       "      <td>1970-01-01 00:00:14</td>\n",
       "      <td>-1</td>\n",
       "      <td>6dbbbdf7-4589-11e9-bf3b-b469212bff5c</td>\n",
       "    </tr>\n",
       "    <tr>\n",
       "      <th>6</th>\n",
       "      <td>Activity2</td>\n",
       "      <td>START</td>\n",
       "      <td>1970-01-01 00:00:14</td>\n",
       "      <td>30</td>\n",
       "      <td>6dbbbdf7-4589-11e9-bf3b-b469212bff5c</td>\n",
       "    </tr>\n",
       "    <tr>\n",
       "      <th>7</th>\n",
       "      <td>Activity2</td>\n",
       "      <td>STOP</td>\n",
       "      <td>1970-01-01 00:00:44</td>\n",
       "      <td>30</td>\n",
       "      <td>6dbbbdf7-4589-11e9-bf3b-b469212bff5c</td>\n",
       "    </tr>\n",
       "  </tbody>\n",
       "</table>\n",
       "</div>"
      ],
      "text/plain": [
       "              Message ActivityState           Timestamp  Value  \\\n",
       "0  Reporting activity         START 1970-01-01 00:00:00      0   \n",
       "1           Activity1         START 1970-01-01 00:00:00     14   \n",
       "2           Activity2    WAIT_START 1970-01-01 00:00:00     -1   \n",
       "3  Reporting activity          STOP 1970-01-01 00:00:00      0   \n",
       "4           Activity1          STOP 1970-01-01 00:00:14     14   \n",
       "5           Activity2     WAIT_STOP 1970-01-01 00:00:14     -1   \n",
       "6           Activity2         START 1970-01-01 00:00:14     30   \n",
       "7           Activity2          STOP 1970-01-01 00:00:44     30   \n",
       "\n",
       "                             ActivityID  \n",
       "0  6dbbbdf7-4589-11e9-bf3b-b469212bff5k  \n",
       "1  6dbbbdf7-4589-11e9-bf3b-b469212bff5b  \n",
       "2  6dbbbdf7-4589-11e9-bf3b-b469212bff5c  \n",
       "3  6dbbbdf7-4589-11e9-bf3b-b469212bff5k  \n",
       "4  6dbbbdf7-4589-11e9-bf3b-b469212bff5b  \n",
       "5  6dbbbdf7-4589-11e9-bf3b-b469212bff5c  \n",
       "6  6dbbbdf7-4589-11e9-bf3b-b469212bff5c  \n",
       "7  6dbbbdf7-4589-11e9-bf3b-b469212bff5c  "
      ]
     },
     "execution_count": 4,
     "metadata": {},
     "output_type": "execute_result"
    }
   ],
   "source": [
    "log_df = pd.DataFrame(reporting_activity.log)\n",
    "data =log_df[['Message', 'ActivityState', 'Timestamp', 'Value', 'ActivityID']]\n",
    "data"
   ]
  },
  {
   "cell_type": "markdown",
   "metadata": {},
   "source": [
    "Both activities start at the same time. Activity2 gets into a waiting state, which ends, when Activity1 ends. Then Activity2 is executed."
   ]
  },
  {
   "cell_type": "code",
   "execution_count": null,
   "metadata": {},
   "outputs": [],
   "source": []
  }
 ],
 "metadata": {
  "kernelspec": {
   "display_name": "Python 3",
   "language": "python",
   "name": "python3"
  },
  "language_info": {
   "codemirror_mode": {
    "name": "ipython",
    "version": 3
   },
   "file_extension": ".py",
   "mimetype": "text/x-python",
   "name": "python",
   "nbconvert_exporter": "python",
   "pygments_lexer": "ipython3",
   "version": "3.7.3"
  }
 },
 "nbformat": 4,
 "nbformat_minor": 2
}
