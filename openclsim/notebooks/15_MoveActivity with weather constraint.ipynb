{
 "cells": [
  {
   "cell_type": "markdown",
   "metadata": {},
   "source": [
    "# Demo MoverActivity using Weather plugin"
   ]
  },
  {
   "cell_type": "code",
   "execution_count": 9,
   "metadata": {},
   "outputs": [],
   "source": [
    "import datetime, time\n",
    "import simpy\n",
    "\n",
    "import shapely.geometry\n",
    "from simplekml import Kml, Style\n",
    "\n",
    "import pandas as pd\n",
    "import openclsim.core as core\n",
    "import openclsim.model as model\n",
    "import openclsim.plot as plot\n",
    "import openclsim.plugins as plugin\n",
    "\n",
    "# setup environment\n",
    "simulation_start  = datetime.datetime(2010,1,1)\n",
    "my_env = simpy.Environment(initial_time=simulation_start.timestamp())\n",
    "registry = {}"
   ]
  },
  {
   "cell_type": "markdown",
   "metadata": {},
   "source": [
    "## Definition of Sites"
   ]
  },
  {
   "cell_type": "code",
   "execution_count": 10,
   "metadata": {},
   "outputs": [
    {
     "output_type": "stream",
     "name": "stdout",
     "text": "init\nlevel: 2\ncompleted init\ninit\nlevel: 0\ncompleted init\n"
    }
   ],
   "source": [
    "Site = type(\n",
    "    \"Site\",\n",
    "    (\n",
    "        core.Identifiable,  # Give it a name\n",
    "        core.Log,  # Allow logging of all discrete events\n",
    "        core.Locatable,  # Add coordinates to extract distance information and visualize\n",
    "        core.HasContainer,  # Add information on the material available at the site\n",
    "        core.HasResource,\n",
    "    ),  # Add information on serving equipment\n",
    "    {},\n",
    ")  # The dictionary is empty because the site type is generic\n",
    "\n",
    "# Information on the extraction site - the \"from site\" - the \"win locatie\"\n",
    "location_from_site = shapely.geometry.Point(4.18055556, 52.18664444)  # lon, lat\n",
    "\n",
    "data_from_site = {\n",
    "    \"env\": my_env,  # The simpy environment defined in the first cel\n",
    "    \"name\": \"Winlocatie\",  # The name of the site\n",
    "    \"ID\": \"6dbbbdf4-4589-11e9-a501-b469212bff5b\",  # For logging purposes\n",
    "    \"geometry\": location_from_site,  # The coordinates of the project site\n",
    "    \"capacity\": 10,  # The capacity of the site\n",
    "    \"level\": 2,\n",
    "}  # The actual volume of the site\n",
    "\n",
    "# Information on the dumping site - the \"to site\" - the \"dump locatie\"\n",
    "location_to_site = shapely.geometry.Point(4.25222222, 52.11428333)  # lon, lat\n",
    "\n",
    "data_to_site = {\n",
    "    \"env\": my_env,  # The simpy environment defined in the first cel\n",
    "    \"name\": \"Dumplocatie\",  # The name of the site\n",
    "    \"ID\": \"6dbbbdf5-4589-11e9-82b2-b469212bff5b\",  # For logging purposes\n",
    "    \"geometry\": location_to_site,  # The coordinates of the project site\n",
    "    \"capacity\": 10,  # The capacity of the site\n",
    "    \"level\": 0,\n",
    "}  # The actual volume of the site (empty of course)\n",
    "\n",
    "# The two objects used for the simulation\n",
    "from_site = Site(**data_from_site)\n",
    "to_site = Site(**data_to_site)"
   ]
  },
  {
   "cell_type": "markdown",
   "metadata": {},
   "source": [
    "## Creation of Vessel"
   ]
  },
  {
   "cell_type": "code",
   "execution_count": 11,
   "metadata": {},
   "outputs": [
    {
     "output_type": "stream",
     "name": "stdout",
     "text": "init\nlevel: 0\ncompleted init\n"
    }
   ],
   "source": [
    "TransportProcessingResource = type(\n",
    "    \"TransportProcessingResource\",\n",
    "    (\n",
    "        core.Identifiable,  # Give it a name\n",
    "        core.Log,  # Allow logging of all discrete events\n",
    "        core.ContainerDependentMovable,  # A moving container, so capacity and location\n",
    "        core.Processor,  # Allow for loading and unloading\n",
    "        core.HasResource,  # Add information on serving equipment\n",
    "        core.HasCosts,  # Add information on costs\n",
    "        core.LoadingFunction,  # Add a loading function\n",
    "        core.UnloadingFunction,  # Add an unloading function\n",
    "    ),\n",
    "    {},\n",
    ")\n",
    "\n",
    "# For more realistic simulation you might want to have speed dependent on the volume carried by the vessel\n",
    "def compute_v_provider(v_empty, v_full):\n",
    "    return lambda x: 10\n",
    "\n",
    "# TSHD variables\n",
    "data_hopper = {\n",
    "    \"env\": my_env,  # The simpy environment\n",
    "    \"name\": \"Hopper 01\",  # Name\n",
    "    \"ID\": \"6dbbbdf6-4589-11e9-95a2-b469212bff5b\",  # For logging purposes\n",
    "    \"geometry\": location_from_site,  # It starts at the \"from site\"\n",
    "    \"loading_rate\": 1,  # Loading rate\n",
    "    \"unloading_rate\": 1,  # Unloading rate\n",
    "    \"capacity\": 5,  # Capacity of the hopper - \"Beunvolume\"\n",
    "    \"compute_v\": compute_v_provider(5, 4.5),  # Variable speed\n",
    "    \"weekrate\": 7,\n",
    "}\n",
    "\n",
    "hopper = TransportProcessingResource(**data_hopper)"
   ]
  },
  {
   "cell_type": "markdown",
   "metadata": {},
   "source": [
    "## Definition of Move Activity with weather and test plugin"
   ]
  },
  {
   "cell_type": "code",
   "execution_count": 12,
   "metadata": {},
   "outputs": [],
   "source": [
    "TestMoveActivity =  type(\n",
    "    \"TestMoveActivity\",\n",
    "    (\n",
    "        plugin.HasTestPluginMoveActivity,\n",
    "        plugin.HasWeatherPluginMoveActivity,\n",
    "        model.MoveActivity,  # the order is critical!\n",
    "    ),\n",
    "    {},\n",
    ")"
   ]
  },
  {
   "cell_type": "markdown",
   "metadata": {},
   "source": [
    "## Definition of Move Activity\n",
    "First a criteria is constructed and the weather data is read and prepared. Then the activity is defined."
   ]
  },
  {
   "cell_type": "code",
   "execution_count": 13,
   "metadata": {},
   "outputs": [
    {
     "output_type": "stream",
     "name": "stdout",
     "text": "start event instance None\ncheck weather plugin\nTrue\nTrue\nTrue\nregrister weather plugin\n"
    }
   ],
   "source": [
    "metocean_df = pd.read_csv(\"unit_test_weather.csv\")\n",
    "metocean_df = metocean_df.set_index(pd.to_datetime(metocean_df[\"Time\"], dayfirst=True))\n",
    "metocean_df = metocean_df.sort_index()\n",
    "\n",
    "criteria_data = {\"event_name\":\"this\",\n",
    "                 \"condition\":\"Hs [m]\",\n",
    "                 \"maximum\":3,\n",
    "                 \"window_length\":datetime.timedelta(hours=1)}\n",
    "crit = core.WorkabilityCriterion(**criteria_data)\n",
    "\n",
    "move_activity_data = {\n",
    "    \"env\": my_env,  # The simpy environment defined in the first cel\n",
    "    \"name\": \"Soil movement\",  # We are moving soil\n",
    "    \"ID\": \"6dbbbdf7-4589-11e9-bf3b-b469212bff5b\",  # For logging purposes\n",
    "    \"registry\": registry,\n",
    "    \"mover\": hopper,\n",
    "    \"destination\": to_site,\n",
    "    \"metocean_criteria\":[crit],\n",
    "    \"metocean_df\": metocean_df,\n",
    "}\n",
    "\n",
    "activity = TestMoveActivity(**move_activity_data)"
   ]
  },
  {
   "cell_type": "markdown",
   "metadata": {},
   "source": [
    "## Run simulation"
   ]
  },
  {
   "cell_type": "code",
   "execution_count": 14,
   "metadata": {},
   "outputs": [
    {
     "output_type": "stream",
     "name": "stdout",
     "text": "Mover_move before mover resource request\nput_callback - id_ default\n{}\nput_callback - id_ default\n{}\nput_callback - id_ default\n{}\nMover_move after mover resource request\nweatherPlugin start preprocess\n[['2010-01-01T04:20:00.000000000' '2010-01-01T15:30:00.000000000']\n ['2010-01-03T04:20:00.000000000' '2010-01-04T21:30:00.000000000']\n ['2010-01-05T04:20:00.000000000' '2010-01-07T09:30:00.000000000']\n ['2010-01-08T04:20:00.000000000' '2010-01-08T15:30:00.000000000']]\n[15600.0]\nwe have to wait for 15600.0\ndelay processing 15600.0\nbefore delay 1262300400.0\nafter delay 1262316000.0\nplugin_data mover: <__main__.TransportProcessingResource object at 0x0000029F7EDEB208>\nplugin_data origin: <__main__.TransportProcessingResource object at 0x0000029F7EDEB208>\nplugin_data destination: <__main__.Site object at 0x0000029F7EC69488>\nplugin_data engine_oder: 1.0\nplugin_data activity_log: <__main__.TestMoveActivity object at 0x0000029F7D05B2C8>\nMover_move after move\nplugin_data mover: <__main__.TransportProcessingResource object at 0x0000029F7EDEB208>\nplugin_data origin: <__main__.TransportProcessingResource object at 0x0000029F7EDEB208>\nplugin_data destination: <__main__.Site object at 0x0000029F7EC69488>\nplugin_data engine_oder: 1.0\nplugin_data activity_log: <__main__.TestMoveActivity object at 0x0000029F7D05B2C8>\nplugin_data start_preprocessing: 1262300400.0\nplugin_data start_activity: 1262316000.0\n"
    }
   ],
   "source": [
    "my_env.run()\n"
   ]
  },
  {
   "cell_type": "code",
   "execution_count": 15,
   "metadata": {},
   "outputs": [
    {
     "output_type": "execute_result",
     "data": {
      "text/plain": "                                             Message ActivityState  \\\n0  move activity Soil movement of Hopper 01 to Du...       UNKNOWN   \n1  move activity Soil movement of Hopper 01 to Du...    WAIT_START   \n2  move activity Soil movement of Hopper 01 to Du...     WAIT_STOP   \n3           move activity pre-procesisng test plugin       UNKNOWN   \n4  move activity Soil movement of Hopper 01 to Du...         START   \n5          move activity post-procesisng test plugin       UNKNOWN   \n6  move activity Soil movement of Hopper 01 to Du...          STOP   \n\n                   Timestamp  Value                            ActivityID  \n0 2010-01-01 00:00:00.000000     -1  6dbbbdf7-4589-11e9-bf3b-b469212bff5b  \n1 2010-01-01 00:00:00.000000     -1  6dbbbdf7-4589-11e9-bf3b-b469212bff5b  \n2 2010-01-01 04:20:00.000000     -1  6dbbbdf7-4589-11e9-bf3b-b469212bff5b  \n3 2010-01-01 04:20:00.000000     -1  6dbbbdf7-4589-11e9-bf3b-b469212bff5b  \n4 2010-01-01 04:20:00.000000     -1  6dbbbdf7-4589-11e9-bf3b-b469212bff5b  \n5 2010-01-01 04:35:42.824591     -1  6dbbbdf7-4589-11e9-bf3b-b469212bff5b  \n6 2010-01-01 04:35:42.824591     -1  6dbbbdf7-4589-11e9-bf3b-b469212bff5b  ",
      "text/html": "<div>\n<style scoped>\n    .dataframe tbody tr th:only-of-type {\n        vertical-align: middle;\n    }\n\n    .dataframe tbody tr th {\n        vertical-align: top;\n    }\n\n    .dataframe thead th {\n        text-align: right;\n    }\n</style>\n<table border=\"1\" class=\"dataframe\">\n  <thead>\n    <tr style=\"text-align: right;\">\n      <th></th>\n      <th>Message</th>\n      <th>ActivityState</th>\n      <th>Timestamp</th>\n      <th>Value</th>\n      <th>ActivityID</th>\n    </tr>\n  </thead>\n  <tbody>\n    <tr>\n      <th>0</th>\n      <td>move activity Soil movement of Hopper 01 to Du...</td>\n      <td>UNKNOWN</td>\n      <td>2010-01-01 00:00:00.000000</td>\n      <td>-1</td>\n      <td>6dbbbdf7-4589-11e9-bf3b-b469212bff5b</td>\n    </tr>\n    <tr>\n      <th>1</th>\n      <td>move activity Soil movement of Hopper 01 to Du...</td>\n      <td>WAIT_START</td>\n      <td>2010-01-01 00:00:00.000000</td>\n      <td>-1</td>\n      <td>6dbbbdf7-4589-11e9-bf3b-b469212bff5b</td>\n    </tr>\n    <tr>\n      <th>2</th>\n      <td>move activity Soil movement of Hopper 01 to Du...</td>\n      <td>WAIT_STOP</td>\n      <td>2010-01-01 04:20:00.000000</td>\n      <td>-1</td>\n      <td>6dbbbdf7-4589-11e9-bf3b-b469212bff5b</td>\n    </tr>\n    <tr>\n      <th>3</th>\n      <td>move activity pre-procesisng test plugin</td>\n      <td>UNKNOWN</td>\n      <td>2010-01-01 04:20:00.000000</td>\n      <td>-1</td>\n      <td>6dbbbdf7-4589-11e9-bf3b-b469212bff5b</td>\n    </tr>\n    <tr>\n      <th>4</th>\n      <td>move activity Soil movement of Hopper 01 to Du...</td>\n      <td>START</td>\n      <td>2010-01-01 04:20:00.000000</td>\n      <td>-1</td>\n      <td>6dbbbdf7-4589-11e9-bf3b-b469212bff5b</td>\n    </tr>\n    <tr>\n      <th>5</th>\n      <td>move activity post-procesisng test plugin</td>\n      <td>UNKNOWN</td>\n      <td>2010-01-01 04:35:42.824591</td>\n      <td>-1</td>\n      <td>6dbbbdf7-4589-11e9-bf3b-b469212bff5b</td>\n    </tr>\n    <tr>\n      <th>6</th>\n      <td>move activity Soil movement of Hopper 01 to Du...</td>\n      <td>STOP</td>\n      <td>2010-01-01 04:35:42.824591</td>\n      <td>-1</td>\n      <td>6dbbbdf7-4589-11e9-bf3b-b469212bff5b</td>\n    </tr>\n  </tbody>\n</table>\n</div>"
     },
     "metadata": {},
     "execution_count": 15
    }
   ],
   "source": [
    "log_df = pd.DataFrame(activity.log)\n",
    "data =log_df[['Message', 'ActivityState', 'Timestamp', 'Value', 'ActivityID']]\n",
    "data"
   ]
  },
  {
   "cell_type": "markdown",
   "metadata": {},
   "source": [
    "The result shows a first message indicating that the weather plugin has been initialized. Then due to the constraint the execution of the move is delayed because of weather conditions. Next the pre-processing of the TestPlugin is performed followed by the actual move. Then the post processing of the test plugin creates a log entry."
   ]
  }
 ],
 "metadata": {
  "language_info": {
   "codemirror_mode": {
    "name": "ipython",
    "version": 3
   },
   "file_extension": ".py",
   "mimetype": "text/x-python",
   "name": "python",
   "nbconvert_exporter": "python",
   "pygments_lexer": "ipython3",
   "version": "3.7.7-final"
  },
  "orig_nbformat": 2,
  "kernelspec": {
   "name": "python3",
   "display_name": "Python 3"
  }
 },
 "nbformat": 4,
 "nbformat_minor": 2
}