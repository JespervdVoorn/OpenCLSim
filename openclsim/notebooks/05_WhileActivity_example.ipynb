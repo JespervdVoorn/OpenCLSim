{
 "cells": [
  {
   "cell_type": "markdown",
   "metadata": {},
   "source": [
    "# Demo WhileActivity\n",
    "The while activity executes a **sub_process** until a **condition_event** is fulfilled. The condition event can be formulated based on the expression language documented in the project. "
   ]
  },
  {
   "cell_type": "code",
   "execution_count": 6,
   "metadata": {},
   "outputs": [],
   "source": [
    "import datetime, time\n",
    "import simpy\n",
    "\n",
    "import pandas as pd\n",
    "import openclsim.core as core\n",
    "import openclsim.model as model\n",
    "import openclsim.plot as plot\n",
    "\n",
    "# setup environment\n",
    "simulation_start = 0\n",
    "my_env = simpy.Environment(initial_time=simulation_start)\n",
    "registry = {}"
   ]
  },
  {
   "cell_type": "markdown",
   "metadata": {},
   "source": [
    "## Definition of while activity with a nested basic activity\n",
    "This example has a constraint that the activity while has to be completed. Thus, the activity while is terminating after the activity while has been completed. This is impossible, thus this expression guarantees an infinte loop, which will be limited in the simulation run parameter below."
   ]
  },
  {
   "cell_type": "code",
   "execution_count": 7,
   "metadata": {},
   "outputs": [
    {
     "output_type": "stream",
     "name": "stdout",
     "text": "start event instance None\n"
    }
   ],
   "source": [
    "basic_activity_data = {\n",
    "    \"env\": my_env,\n",
    "    \"name\": \"Basic activity\",\n",
    "    \"ID\": \"6dbbbdf7-4589-11e9-bf3b-b469212bff5b\",  # For logging purposes\n",
    "    \"registry\": registry,\n",
    "    \"duration\": 14,\n",
    "    \"postpone_start\": True,\n",
    "}\n",
    "activity = model.BasicActivity(**basic_activity_data)\n",
    "\n",
    "while_data = {\n",
    "    \"env\": my_env,  # The simpy environment defined in the first cel\n",
    "    \"name\": \"while\",  # We are moving soil\n",
    "    \"ID\": \"6dbbbdf7-4589-11e9-bf3b-b469212bff5g\",  # For logging purposes\n",
    "    \"registry\": registry,\n",
    "    \"sub_process\": activity,\n",
    "    \"condition_event\": [{\"type\":\"activity\", \"name\": \"while\", \"state\":\"done\"}],\n",
    "    \"postpone_start\": False,\n",
    "}\n",
    "while_activity = model.WhileActivity(**while_data)"
   ]
  },
  {
   "cell_type": "markdown",
   "metadata": {},
   "source": [
    "## Run simulation\n",
    "Since this is an endless loop the execution is constrained to a time limit of 100 time units."
   ]
  },
  {
   "cell_type": "code",
   "execution_count": 8,
   "metadata": {},
   "outputs": [
    {
     "output_type": "stream",
     "name": "stdout",
     "text": "<openclsim.model.BasicActivity object at 0x000001F26F389F08>\nconditional \nstart event instance None\nActivity end()\ncondition event triggered: False False round 0\n<openclsim.model.BasicActivity object at 0x000001F26F389F08>\nconditional \nstart event instance None\nActivity end()\ncondition event triggered: False False round 1\n<openclsim.model.BasicActivity object at 0x000001F26F389F08>\nconditional \nstart event instance None\nActivity end()\ncondition event triggered: False False round 2\n<openclsim.model.BasicActivity object at 0x000001F26F389F08>\nconditional \nstart event instance None\nActivity end()\ncondition event triggered: False False round 3\n<openclsim.model.BasicActivity object at 0x000001F26F389F08>\nconditional \nstart event instance None\nActivity end()\ncondition event triggered: False False round 4\n<openclsim.model.BasicActivity object at 0x000001F26F389F08>\nconditional \nstart event instance None\nActivity end()\ncondition event triggered: False False round 5\n<openclsim.model.BasicActivity object at 0x000001F26F389F08>\nconditional \nstart event instance None\nActivity end()\ncondition event triggered: False False round 6\n<openclsim.model.BasicActivity object at 0x000001F26F389F08>\nconditional \nstart event instance None\n"
    }
   ],
   "source": [
    "my_env.run(until=100)\n"
   ]
  },
  {
   "cell_type": "code",
   "execution_count": 9,
   "metadata": {},
   "outputs": [
    {
     "output_type": "execute_result",
     "data": {
      "text/plain": "                       Message ActivityState           Timestamp  Value  \\\n0    conditional process while         START 1970-01-01 01:00:00     -1   \n1   sub process Basic activity         START 1970-01-01 01:00:00     -1   \n2               Basic activity         START 1970-01-01 01:00:00     14   \n3               Basic activity          STOP 1970-01-01 01:00:14     14   \n4   sub process Basic activity          STOP 1970-01-01 01:00:14     -1   \n5   sub process Basic activity         START 1970-01-01 01:00:14     -1   \n6               Basic activity         START 1970-01-01 01:00:14     14   \n7               Basic activity          STOP 1970-01-01 01:00:28     14   \n8   sub process Basic activity          STOP 1970-01-01 01:00:28     -1   \n9   sub process Basic activity         START 1970-01-01 01:00:28     -1   \n10              Basic activity         START 1970-01-01 01:00:28     14   \n11              Basic activity          STOP 1970-01-01 01:00:42     14   \n12  sub process Basic activity          STOP 1970-01-01 01:00:42     -1   \n13  sub process Basic activity         START 1970-01-01 01:00:42     -1   \n14              Basic activity         START 1970-01-01 01:00:42     14   \n15              Basic activity          STOP 1970-01-01 01:00:56     14   \n16  sub process Basic activity          STOP 1970-01-01 01:00:56     -1   \n17  sub process Basic activity         START 1970-01-01 01:00:56     -1   \n18              Basic activity         START 1970-01-01 01:00:56     14   \n19              Basic activity          STOP 1970-01-01 01:01:10     14   \n20  sub process Basic activity          STOP 1970-01-01 01:01:10     -1   \n21  sub process Basic activity         START 1970-01-01 01:01:10     -1   \n22              Basic activity         START 1970-01-01 01:01:10     14   \n23              Basic activity          STOP 1970-01-01 01:01:24     14   \n24  sub process Basic activity          STOP 1970-01-01 01:01:24     -1   \n25  sub process Basic activity         START 1970-01-01 01:01:24     -1   \n26              Basic activity         START 1970-01-01 01:01:24     14   \n27              Basic activity          STOP 1970-01-01 01:01:38     14   \n28  sub process Basic activity          STOP 1970-01-01 01:01:38     -1   \n29  sub process Basic activity         START 1970-01-01 01:01:38     -1   \n30              Basic activity         START 1970-01-01 01:01:38     14   \n\n                              ActivityID  \n0   6dbbbdf7-4589-11e9-bf3b-b469212bff5g  \n1   6dbbbdf7-4589-11e9-bf3b-b469212bff5g  \n2   6dbbbdf7-4589-11e9-bf3b-b469212bff5g  \n3   6dbbbdf7-4589-11e9-bf3b-b469212bff5g  \n4   6dbbbdf7-4589-11e9-bf3b-b469212bff5g  \n5   6dbbbdf7-4589-11e9-bf3b-b469212bff5g  \n6   6dbbbdf7-4589-11e9-bf3b-b469212bff5g  \n7   6dbbbdf7-4589-11e9-bf3b-b469212bff5g  \n8   6dbbbdf7-4589-11e9-bf3b-b469212bff5g  \n9   6dbbbdf7-4589-11e9-bf3b-b469212bff5g  \n10  6dbbbdf7-4589-11e9-bf3b-b469212bff5g  \n11  6dbbbdf7-4589-11e9-bf3b-b469212bff5g  \n12  6dbbbdf7-4589-11e9-bf3b-b469212bff5g  \n13  6dbbbdf7-4589-11e9-bf3b-b469212bff5g  \n14  6dbbbdf7-4589-11e9-bf3b-b469212bff5g  \n15  6dbbbdf7-4589-11e9-bf3b-b469212bff5g  \n16  6dbbbdf7-4589-11e9-bf3b-b469212bff5g  \n17  6dbbbdf7-4589-11e9-bf3b-b469212bff5g  \n18  6dbbbdf7-4589-11e9-bf3b-b469212bff5g  \n19  6dbbbdf7-4589-11e9-bf3b-b469212bff5g  \n20  6dbbbdf7-4589-11e9-bf3b-b469212bff5g  \n21  6dbbbdf7-4589-11e9-bf3b-b469212bff5g  \n22  6dbbbdf7-4589-11e9-bf3b-b469212bff5g  \n23  6dbbbdf7-4589-11e9-bf3b-b469212bff5g  \n24  6dbbbdf7-4589-11e9-bf3b-b469212bff5g  \n25  6dbbbdf7-4589-11e9-bf3b-b469212bff5g  \n26  6dbbbdf7-4589-11e9-bf3b-b469212bff5g  \n27  6dbbbdf7-4589-11e9-bf3b-b469212bff5g  \n28  6dbbbdf7-4589-11e9-bf3b-b469212bff5g  \n29  6dbbbdf7-4589-11e9-bf3b-b469212bff5g  \n30  6dbbbdf7-4589-11e9-bf3b-b469212bff5g  ",
      "text/html": "<div>\n<style scoped>\n    .dataframe tbody tr th:only-of-type {\n        vertical-align: middle;\n    }\n\n    .dataframe tbody tr th {\n        vertical-align: top;\n    }\n\n    .dataframe thead th {\n        text-align: right;\n    }\n</style>\n<table border=\"1\" class=\"dataframe\">\n  <thead>\n    <tr style=\"text-align: right;\">\n      <th></th>\n      <th>Message</th>\n      <th>ActivityState</th>\n      <th>Timestamp</th>\n      <th>Value</th>\n      <th>ActivityID</th>\n    </tr>\n  </thead>\n  <tbody>\n    <tr>\n      <th>0</th>\n      <td>conditional process while</td>\n      <td>START</td>\n      <td>1970-01-01 01:00:00</td>\n      <td>-1</td>\n      <td>6dbbbdf7-4589-11e9-bf3b-b469212bff5g</td>\n    </tr>\n    <tr>\n      <th>1</th>\n      <td>sub process Basic activity</td>\n      <td>START</td>\n      <td>1970-01-01 01:00:00</td>\n      <td>-1</td>\n      <td>6dbbbdf7-4589-11e9-bf3b-b469212bff5g</td>\n    </tr>\n    <tr>\n      <th>2</th>\n      <td>Basic activity</td>\n      <td>START</td>\n      <td>1970-01-01 01:00:00</td>\n      <td>14</td>\n      <td>6dbbbdf7-4589-11e9-bf3b-b469212bff5g</td>\n    </tr>\n    <tr>\n      <th>3</th>\n      <td>Basic activity</td>\n      <td>STOP</td>\n      <td>1970-01-01 01:00:14</td>\n      <td>14</td>\n      <td>6dbbbdf7-4589-11e9-bf3b-b469212bff5g</td>\n    </tr>\n    <tr>\n      <th>4</th>\n      <td>sub process Basic activity</td>\n      <td>STOP</td>\n      <td>1970-01-01 01:00:14</td>\n      <td>-1</td>\n      <td>6dbbbdf7-4589-11e9-bf3b-b469212bff5g</td>\n    </tr>\n    <tr>\n      <th>5</th>\n      <td>sub process Basic activity</td>\n      <td>START</td>\n      <td>1970-01-01 01:00:14</td>\n      <td>-1</td>\n      <td>6dbbbdf7-4589-11e9-bf3b-b469212bff5g</td>\n    </tr>\n    <tr>\n      <th>6</th>\n      <td>Basic activity</td>\n      <td>START</td>\n      <td>1970-01-01 01:00:14</td>\n      <td>14</td>\n      <td>6dbbbdf7-4589-11e9-bf3b-b469212bff5g</td>\n    </tr>\n    <tr>\n      <th>7</th>\n      <td>Basic activity</td>\n      <td>STOP</td>\n      <td>1970-01-01 01:00:28</td>\n      <td>14</td>\n      <td>6dbbbdf7-4589-11e9-bf3b-b469212bff5g</td>\n    </tr>\n    <tr>\n      <th>8</th>\n      <td>sub process Basic activity</td>\n      <td>STOP</td>\n      <td>1970-01-01 01:00:28</td>\n      <td>-1</td>\n      <td>6dbbbdf7-4589-11e9-bf3b-b469212bff5g</td>\n    </tr>\n    <tr>\n      <th>9</th>\n      <td>sub process Basic activity</td>\n      <td>START</td>\n      <td>1970-01-01 01:00:28</td>\n      <td>-1</td>\n      <td>6dbbbdf7-4589-11e9-bf3b-b469212bff5g</td>\n    </tr>\n    <tr>\n      <th>10</th>\n      <td>Basic activity</td>\n      <td>START</td>\n      <td>1970-01-01 01:00:28</td>\n      <td>14</td>\n      <td>6dbbbdf7-4589-11e9-bf3b-b469212bff5g</td>\n    </tr>\n    <tr>\n      <th>11</th>\n      <td>Basic activity</td>\n      <td>STOP</td>\n      <td>1970-01-01 01:00:42</td>\n      <td>14</td>\n      <td>6dbbbdf7-4589-11e9-bf3b-b469212bff5g</td>\n    </tr>\n    <tr>\n      <th>12</th>\n      <td>sub process Basic activity</td>\n      <td>STOP</td>\n      <td>1970-01-01 01:00:42</td>\n      <td>-1</td>\n      <td>6dbbbdf7-4589-11e9-bf3b-b469212bff5g</td>\n    </tr>\n    <tr>\n      <th>13</th>\n      <td>sub process Basic activity</td>\n      <td>START</td>\n      <td>1970-01-01 01:00:42</td>\n      <td>-1</td>\n      <td>6dbbbdf7-4589-11e9-bf3b-b469212bff5g</td>\n    </tr>\n    <tr>\n      <th>14</th>\n      <td>Basic activity</td>\n      <td>START</td>\n      <td>1970-01-01 01:00:42</td>\n      <td>14</td>\n      <td>6dbbbdf7-4589-11e9-bf3b-b469212bff5g</td>\n    </tr>\n    <tr>\n      <th>15</th>\n      <td>Basic activity</td>\n      <td>STOP</td>\n      <td>1970-01-01 01:00:56</td>\n      <td>14</td>\n      <td>6dbbbdf7-4589-11e9-bf3b-b469212bff5g</td>\n    </tr>\n    <tr>\n      <th>16</th>\n      <td>sub process Basic activity</td>\n      <td>STOP</td>\n      <td>1970-01-01 01:00:56</td>\n      <td>-1</td>\n      <td>6dbbbdf7-4589-11e9-bf3b-b469212bff5g</td>\n    </tr>\n    <tr>\n      <th>17</th>\n      <td>sub process Basic activity</td>\n      <td>START</td>\n      <td>1970-01-01 01:00:56</td>\n      <td>-1</td>\n      <td>6dbbbdf7-4589-11e9-bf3b-b469212bff5g</td>\n    </tr>\n    <tr>\n      <th>18</th>\n      <td>Basic activity</td>\n      <td>START</td>\n      <td>1970-01-01 01:00:56</td>\n      <td>14</td>\n      <td>6dbbbdf7-4589-11e9-bf3b-b469212bff5g</td>\n    </tr>\n    <tr>\n      <th>19</th>\n      <td>Basic activity</td>\n      <td>STOP</td>\n      <td>1970-01-01 01:01:10</td>\n      <td>14</td>\n      <td>6dbbbdf7-4589-11e9-bf3b-b469212bff5g</td>\n    </tr>\n    <tr>\n      <th>20</th>\n      <td>sub process Basic activity</td>\n      <td>STOP</td>\n      <td>1970-01-01 01:01:10</td>\n      <td>-1</td>\n      <td>6dbbbdf7-4589-11e9-bf3b-b469212bff5g</td>\n    </tr>\n    <tr>\n      <th>21</th>\n      <td>sub process Basic activity</td>\n      <td>START</td>\n      <td>1970-01-01 01:01:10</td>\n      <td>-1</td>\n      <td>6dbbbdf7-4589-11e9-bf3b-b469212bff5g</td>\n    </tr>\n    <tr>\n      <th>22</th>\n      <td>Basic activity</td>\n      <td>START</td>\n      <td>1970-01-01 01:01:10</td>\n      <td>14</td>\n      <td>6dbbbdf7-4589-11e9-bf3b-b469212bff5g</td>\n    </tr>\n    <tr>\n      <th>23</th>\n      <td>Basic activity</td>\n      <td>STOP</td>\n      <td>1970-01-01 01:01:24</td>\n      <td>14</td>\n      <td>6dbbbdf7-4589-11e9-bf3b-b469212bff5g</td>\n    </tr>\n    <tr>\n      <th>24</th>\n      <td>sub process Basic activity</td>\n      <td>STOP</td>\n      <td>1970-01-01 01:01:24</td>\n      <td>-1</td>\n      <td>6dbbbdf7-4589-11e9-bf3b-b469212bff5g</td>\n    </tr>\n    <tr>\n      <th>25</th>\n      <td>sub process Basic activity</td>\n      <td>START</td>\n      <td>1970-01-01 01:01:24</td>\n      <td>-1</td>\n      <td>6dbbbdf7-4589-11e9-bf3b-b469212bff5g</td>\n    </tr>\n    <tr>\n      <th>26</th>\n      <td>Basic activity</td>\n      <td>START</td>\n      <td>1970-01-01 01:01:24</td>\n      <td>14</td>\n      <td>6dbbbdf7-4589-11e9-bf3b-b469212bff5g</td>\n    </tr>\n    <tr>\n      <th>27</th>\n      <td>Basic activity</td>\n      <td>STOP</td>\n      <td>1970-01-01 01:01:38</td>\n      <td>14</td>\n      <td>6dbbbdf7-4589-11e9-bf3b-b469212bff5g</td>\n    </tr>\n    <tr>\n      <th>28</th>\n      <td>sub process Basic activity</td>\n      <td>STOP</td>\n      <td>1970-01-01 01:01:38</td>\n      <td>-1</td>\n      <td>6dbbbdf7-4589-11e9-bf3b-b469212bff5g</td>\n    </tr>\n    <tr>\n      <th>29</th>\n      <td>sub process Basic activity</td>\n      <td>START</td>\n      <td>1970-01-01 01:01:38</td>\n      <td>-1</td>\n      <td>6dbbbdf7-4589-11e9-bf3b-b469212bff5g</td>\n    </tr>\n    <tr>\n      <th>30</th>\n      <td>Basic activity</td>\n      <td>START</td>\n      <td>1970-01-01 01:01:38</td>\n      <td>14</td>\n      <td>6dbbbdf7-4589-11e9-bf3b-b469212bff5g</td>\n    </tr>\n  </tbody>\n</table>\n</div>"
     },
     "metadata": {},
     "execution_count": 9
    }
   ],
   "source": [
    "log_df = pd.DataFrame(while_activity.log)\n",
    "data =log_df[['Message', 'ActivityState', 'Timestamp', 'Value', 'ActivityID']]\n",
    "data"
   ]
  }
 ],
 "metadata": {
  "language_info": {
   "codemirror_mode": {
    "name": "ipython",
    "version": 3
   },
   "file_extension": ".py",
   "mimetype": "text/x-python",
   "name": "python",
   "nbconvert_exporter": "python",
   "pygments_lexer": "ipython3",
   "version": "3.7.7-final"
  },
  "orig_nbformat": 2,
  "kernelspec": {
   "name": "python3",
   "display_name": "Python 3"
  }
 },
 "nbformat": 4,
 "nbformat_minor": 2
}