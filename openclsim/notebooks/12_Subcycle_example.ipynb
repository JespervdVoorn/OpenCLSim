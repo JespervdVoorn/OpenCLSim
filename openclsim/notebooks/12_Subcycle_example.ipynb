{
 "cells": [
  {
   "cell_type": "markdown",
   "metadata": {},
   "source": [
    "# Demo Subcyle example\n",
    "This notebook demonstartes the capabilities comparable to current cycle sheets without weather. It uses MultiStores to represent containers for MPs and TPs. "
   ]
  },
  {
   "cell_type": "code",
   "execution_count": 1,
   "metadata": {},
   "outputs": [],
   "source": [
    "import datetime, time\n",
    "import simpy\n",
    "\n",
    "import shapely.geometry\n",
    "from simplekml import Kml, Style\n",
    "\n",
    "import pandas as pd\n",
    "import openclsim.core as core\n",
    "import openclsim.model as model\n",
    "import openclsim.plot as plot\n",
    "import uuid\n",
    "\n",
    "# setup environment\n",
    "simulation_start = 0\n",
    "my_env = simpy.Environment(initial_time=simulation_start)\n",
    "registry = {}\n",
    "keep_resources = {}"
   ]
  },
  {
   "cell_type": "markdown",
   "metadata": {},
   "source": [
    "## Definition of Site"
   ]
  },
  {
   "cell_type": "code",
   "execution_count": 2,
   "metadata": {},
   "outputs": [
    {
     "output_type": "stream",
     "name": "stdout",
     "text": "init\n{'id': 'MP', 'level': 5, 'capacity': 10}\n{'id': 'TP', 'level': 5, 'capacity': 10}\ninit\n{'id': 'MP', 'level': 0, 'capacity': 5}\n{'id': 'TP', 'level': 0, 'capacity': 5}\n"
    }
   ],
   "source": [
    "# The generic site class\n",
    "Site = type(\n",
    "    \"Site\",\n",
    "    (\n",
    "        core.Identifiable,  # Give it a name\n",
    "        core.Log,  # Allow logging of all discrete events\n",
    "        core.Locatable,  # Add coordinates to extract distance information and visualize\n",
    "        core.HasMultiContainer,  # Add information on the material available at the site\n",
    "        core.HasResource,\n",
    "    ),  # Add information on serving equipment\n",
    "    {},\n",
    ")  # The dictionary is empty because the site type is generic\n",
    "\n",
    "# Information on the extraction site - the \"from site\" - the \"win locatie\"\n",
    "location_from_site = shapely.geometry.Point(4.18055556, 52.18664444)  # lon, lat\n",
    "\n",
    "data_from_site = {\n",
    "    \"env\": my_env,  # The simpy environment defined in the first cel\n",
    "    \"name\": \"Winlocatie\",  # The name of the site\n",
    "    \"ID\": str(uuid.uuid4()),  # For logging purposes\n",
    "    \"geometry\": location_from_site,  # The coordinates of the project site\n",
    "    \"store_capacity\": 4,\n",
    "    \"initials\": [\n",
    "        {\"id\": \"MP\", \"level\": 5, \"capacity\": 10},\n",
    "        {\"id\": \"TP\", \"level\": 5, \"capacity\": 10},\n",
    "    ],\n",
    "}  # The actual volume of the site\n",
    "\n",
    "# Information on the dumping site - the \"to site\" - the \"dump locatie\"\n",
    "location_to_site = shapely.geometry.Point(4.25222222, 52.11428333)  # lon, lat\n",
    "\n",
    "data_to_site = {\n",
    "    \"env\": my_env,  # The simpy environment defined in the first cel\n",
    "    \"name\": \"Dumplocatie\",  # The name of the site\n",
    "    \"ID\": str(uuid.uuid4()),  # For logging purposes\n",
    "    \"geometry\": location_to_site,  # The coordinates of the project site\n",
    "    \"store_capacity\": 4,\n",
    "    \"initials\": [\n",
    "        {\"id\": \"MP\", \"level\": 0, \"capacity\": 5},\n",
    "        {\"id\": \"TP\", \"level\": 0, \"capacity\": 5},\n",
    "    ],\n",
    "}  # The actual volume of the site (empty of course)\n",
    "\n",
    "# The two objects used for the simulation\n",
    "from_site = Site(**data_from_site)\n",
    "to_site = Site(**data_to_site)"
   ]
  },
  {
   "cell_type": "markdown",
   "metadata": {},
   "source": [
    "## Definition of Vessels"
   ]
  },
  {
   "cell_type": "code",
   "execution_count": 3,
   "metadata": {},
   "outputs": [
    {
     "output_type": "stream",
     "name": "stdout",
     "text": "init\n{'id': 'MP', 'level': 0, 'capacity': 2}\n{'id': 'TP', 'level': 0, 'capacity': 2}\n"
    }
   ],
   "source": [
    "TransportProcessingResource = type(\n",
    "    \"TransportProcessingResource\",\n",
    "    (\n",
    "        core.Identifiable,  # Give it a name\n",
    "        core.Log,  # Allow logging of all discrete events\n",
    "        core.MultiContainerDependentMovable,  # A moving container, so capacity and location\n",
    "        core.Processor,  # Allow for loading and unloading\n",
    "        core.HasResource,  # Add information on serving equipment\n",
    "        core.HasCosts,  # Add information on costs\n",
    "        core.LoadingFunction,  # Add a loading function\n",
    "        core.UnloadingFunction,  # Add an unloading function\n",
    "        # SiteRegistry,\n",
    "    ),\n",
    "    {\"key\": \"MultiStoreHopper\"},\n",
    ")\n",
    "\n",
    "# print(SiteRegistry.inspect(\"MultiStoreHopper\"))\n",
    "# For more realistic simulation you might want to have speed dependent on the volume carried by the vessel\n",
    "def compute_v_provider(v_empty, v_full):\n",
    "    return lambda x: 10\n",
    "\n",
    "# TSHD variables\n",
    "data_hopper = {\n",
    "    \"env\": my_env,  # The simpy environment\n",
    "    \"name\": \"Hopper 01\",  # Name\n",
    "    \"ID\": str(uuid.uuid4()),  # For logging purposes\n",
    "    \"geometry\": location_from_site,  # It starts at the \"from site\"\n",
    "    \"loading_rate\": 1,  # Loading rate\n",
    "    \"unloading_rate\": 1,  # Unloading rate\n",
    "    \"store_capacity\": 4,\n",
    "    \"initials\": [\n",
    "        {\"id\": \"MP\", \"level\": 0, \"capacity\": 2},\n",
    "        {\"id\": \"TP\", \"level\": 0, \"capacity\": 2},\n",
    "    ],  # Capacity of the hopper - \"Beunvolume\"\n",
    "    \"compute_v\": compute_v_provider(5, 4.5),  # Variable speed\n",
    "    \"weekrate\": 7,\n",
    "}\n",
    "\n",
    "hopper = TransportProcessingResource(**data_hopper)"
   ]
  },
  {
   "cell_type": "markdown",
   "metadata": {},
   "source": [
    "## Definition of process\n",
    "The process is introduced in three parts:\n",
    "- Loading process\n",
    "- Unloading process\n",
    "- High level process\n",
    "\n",
    "### Definition of Loading process\n",
    "The loging process consists of simulation of a cyclesheet. There are some preparatory actions, followed by a loop to load MPs, then some changes on the crane configuration before the TPs are loaded in a loop again. "
   ]
  },
  {
   "cell_type": "code",
   "execution_count": 4,
   "metadata": {},
   "outputs": [
    {
     "output_type": "stream",
     "name": "stdout",
     "text": "while Activity keep_resources []\nwhile Activity keep_resources []\n"
    }
   ],
   "source": [
    "# definition of loading\n",
    "loading = []\n",
    "\n",
    "basic_activity_data1= {\"env\"  : my_env,\n",
    "                      \"name\" : \"MP loading hook on rigging\",\n",
    "                      \"registry\": registry,\n",
    "                      \"ID\":str(uuid.uuid4()),  # For logging purposes\n",
    "                      \"duration\" : 45,\n",
    "                      \"additional_logs\": [hopper],\n",
    "                      \"postpone_start\": True,\n",
    "                      }\n",
    "loading.append(model.BasicActivity(**basic_activity_data1))\n",
    "\n",
    "shift_amount_loading_data = {\n",
    "    \"env\": my_env,  # The simpy environment defined in the first cel\n",
    "    \"name\": \"Transfer MP\",  # We are moving soil\n",
    "    \"ID\": str(uuid.uuid4()),  # For logging purposes\n",
    "    \"registry\": registry,\n",
    "    \"processor\": hopper,\n",
    "    \"origin\": from_site,\n",
    "    \"destination\": hopper,\n",
    "    \"amount\": 1,\n",
    "    \"duration\": 120,\n",
    "    \"id_\": \"MP\",\n",
    "    \"postpone_start\": True,\n",
    "}\n",
    "activity_mp_loading = model.ShiftAmountActivity(**shift_amount_loading_data)\n",
    "activity_mp_loading_seq_data = {\n",
    "    \"env\": my_env,\n",
    "    \"name\": \"loading MP seq\",\n",
    "    \"ID\": str(uuid.uuid4()),  # For logging purposes\n",
    "    \"registry\": registry,\n",
    "    \"sub_processes\": [activity_mp_loading],\n",
    "    \"postpone_start\": True,\n",
    "}\n",
    "activity_mp_loading_seq = model.SequentialActivity(**activity_mp_loading_seq_data)\n",
    "while_data = {\n",
    "    \"env\": my_env,  # The simpy environment defined in the first cel\n",
    "    \"name\": \"loading MP while\",  # We are moving soil\n",
    "    \"ID\": str(uuid.uuid4()),  # For logging purposes\n",
    "    \"registry\": registry,\n",
    "    \"sub_process\": activity_mp_loading_seq,\n",
    "    \"condition_event\": [{\"or\":[{\"type\":\"container\", \"concept\": hopper, \"state\":\"full\", \"id_\":\"MP\"},\n",
    "                                {\"type\":\"container\", \"concept\": from_site, \"state\":\"empty\", \"id_\":\"MP\"}]\n",
    "                        }],\n",
    "    \"postpone_start\": True,\n",
    "}\n",
    "loading.append(model.WhileActivity(**while_data))\n",
    "\n",
    "basic_activity_data2= {\"env\"  : my_env,\n",
    "                      \"name\" : \"MP loading hook off rigging\",\n",
    "                      \"registry\": registry,\n",
    "                      \"ID\":str(uuid.uuid4()),  # For logging purposes\n",
    "                      \"duration\" : 15,\n",
    "                      \"additional_logs\": [hopper],\n",
    "                      \"postpone_start\": True,\n",
    "                      }\n",
    "loading.append(model.BasicActivity(**basic_activity_data2))\n",
    "\n",
    "basic_activity_data3= {\"env\"  : my_env,\n",
    "                      \"name\" : \"TP loading hook on rigging\",\n",
    "                      \"registry\": registry,\n",
    "                      \"ID\":str(uuid.uuid4()),  # For logging purposes\n",
    "                      \"duration\" : 30,\n",
    "                      \"additional_logs\": [hopper],\n",
    "                      \"postpone_start\": True,\n",
    "                      }\n",
    "loading.append(model.BasicActivity(**basic_activity_data3))\n",
    "\n",
    "shift_amount_loading_data2 = {\n",
    "    \"env\": my_env,  # The simpy environment defined in the first cel\n",
    "    \"name\": \"Transfer TP\",  # We are moving soil\n",
    "    \"ID\": str(uuid.uuid4()),  # For logging purposes\n",
    "    \"registry\": registry,\n",
    "    \"processor\": hopper,\n",
    "    \"origin\": from_site,\n",
    "    \"destination\": hopper,\n",
    "    \"amount\": 1,\n",
    "    \"duration\": 10,\n",
    "    \"id_\": \"TP\",\n",
    "    \"postpone_start\": True,\n",
    "}\n",
    "activity_tp_loading = model.ShiftAmountActivity(**shift_amount_loading_data2)\n",
    "activity_tp_loading_seq_data = {\n",
    "    \"env\": my_env,\n",
    "    \"name\": \"loading MP seq\",\n",
    "    \"ID\": str(uuid.uuid4()),  # For logging purposes\n",
    "    \"registry\": registry,\n",
    "    \"sub_processes\": [activity_tp_loading],\n",
    "    \"postpone_start\": True,\n",
    "}\n",
    "activity_tp_loading_seq = model.SequentialActivity(**activity_tp_loading_seq_data)\n",
    "while_data2 = {\n",
    "    \"env\": my_env,  # The simpy environment defined in the first cel\n",
    "    \"name\": \"loading MP while\",  # We are moving soil\n",
    "    \"ID\": str(uuid.uuid4()),  # For logging purposes\n",
    "    \"registry\": registry,\n",
    "    \"sub_process\": activity_tp_loading_seq,\n",
    "    \"condition_event\": [{\"or\":[{\"type\":\"container\", \"concept\": hopper, \"state\":\"full\", \"id_\":\"TP\"},\n",
    "                                {\"type\":\"container\", \"concept\": from_site, \"state\":\"empty\", \"id_\":\"TP\"}]\n",
    "                          }],\n",
    "    #\"condition_event\": [{\"type\":\"container\", \"concept\": hopper, \"state\":\"full\", \"id_\":\"TP\"}],\n",
    "    \"postpone_start\": True,\n",
    "}\n",
    "loading.append(model.WhileActivity(**while_data2))\n",
    "\n",
    "basic_activity_data4= {\"env\"  : my_env,\n",
    "                      \"name\" : \"TP loading hook off rigging\",\n",
    "                      \"registry\": registry,\n",
    "                      \"ID\":str(uuid.uuid4()),  # For logging purposes\n",
    "                      \"duration\" : 15,\n",
    "                      \"additional_logs\": [hopper],\n",
    "                      \"postpone_start\": True,\n",
    "                      }\n",
    "loading.append(model.BasicActivity(**basic_activity_data4))\n",
    "\n",
    "sequential_activity_data1 = {\n",
    "    \"env\": my_env,\n",
    "    \"name\": \"loading\",\n",
    "    \"ID\": str(uuid.uuid4()),  # For logging purposes\"registry\": registry,\n",
    "    \"registry\": registry,\n",
    "    \"sub_processes\": loading,\n",
    "    \"postpone_start\": True,\n",
    "}\n",
    "\n",
    "loading_activity = model.SequentialActivity(**sequential_activity_data1)\n"
   ]
  },
  {
   "cell_type": "markdown",
   "metadata": {},
   "source": [
    "### Definition of Unloading\n",
    "The unloading consists of unloading an MP and a TP with some auxilary actions."
   ]
  },
  {
   "cell_type": "code",
   "execution_count": 5,
   "metadata": {},
   "outputs": [
    {
     "output_type": "stream",
     "name": "stdout",
     "text": "while Activity keep_resources []\n"
    }
   ],
   "source": [
    "# definition of unloading\n",
    "#\n",
    "unloading = []\n",
    "move_activity_transit_data = {\n",
    "    \"env\": my_env,  # The simpy environment defined in the first cel\n",
    "    \"name\": \"sailing transit\",  # We are moving soil\n",
    "    \"ID\": str(uuid.uuid4()),  # For logging purposes\n",
    "    \"registry\": registry,\n",
    "    \"mover\": hopper,\n",
    "    \"destination\": to_site,\n",
    "    \"postpone_start\": True,\n",
    "}\n",
    "unloading.append(model.MoveActivity(**move_activity_transit_data))\n",
    "basic_activity_data20= {\"env\"  : my_env,\n",
    "                      \"name\" : \"MP preparing for installation\",\n",
    "                      \"registry\": registry,\n",
    "                      \"ID\":str(uuid.uuid4()),  # For logging purposes\n",
    "                      \"duration\" : 45,\n",
    "                      \"additional_logs\": [hopper],\n",
    "                      \"postpone_start\": True,\n",
    "                      }\n",
    "unloading.append(model.BasicActivity(**basic_activity_data20))\n",
    "shift_amount_unloading_data = {\n",
    "    \"env\": my_env,  # The simpy environment defined in the first cel\n",
    "    \"name\": \"Install MP\",  # We are moving soil\n",
    "    \"ID\": str(uuid.uuid4()),  # For logging purposes\n",
    "    \"registry\": registry,\n",
    "    \"processor\": hopper,\n",
    "    \"origin\": hopper,\n",
    "    \"destination\": to_site,\n",
    "    \"amount\": 1,\n",
    "    \"duration\": 120,\n",
    "    \"id_\": \"MP\",\n",
    "    \"postpone_start\": True,\n",
    "}\n",
    "unloading.append(model.ShiftAmountActivity(**shift_amount_unloading_data))\n",
    "basic_activity_data21= {\"env\"  : my_env,\n",
    "                      \"name\" : \"Installing MP\",\n",
    "                      \"registry\": registry,\n",
    "                      \"ID\":str(uuid.uuid4()),  # For logging purposes\n",
    "                      \"duration\" : 45,\n",
    "                      \"additional_logs\": [hopper],\n",
    "                      \"postpone_start\": True,\n",
    "                      }\n",
    "unloading.append(model.BasicActivity(**basic_activity_data21))\n",
    "basic_activity_data22= {\"env\"  : my_env,\n",
    "                      \"name\" : \"Prepare TP installation\",\n",
    "                      \"registry\": registry,\n",
    "                      \"ID\":str(uuid.uuid4()),  # For logging purposes\n",
    "                      \"duration\" : 45,\n",
    "                      \"additional_logs\": [hopper],\n",
    "                      \"postpone_start\": True,\n",
    "                      }\n",
    "unloading.append(model.BasicActivity(**basic_activity_data22))\n",
    "\n",
    "shift_amount_unloading_data2 = {\n",
    "    \"env\": my_env,  # The simpy environment defined in the first cel\n",
    "    \"name\": \"Install TP\",  # We are moving soil\n",
    "    \"ID\": str(uuid.uuid4()),  # For logging purposes\n",
    "    \"registry\": registry,\n",
    "    \"processor\": hopper,\n",
    "    \"origin\": hopper,\n",
    "    \"destination\": to_site,\n",
    "    \"amount\": 1,\n",
    "    \"duration\": 120,\n",
    "    \"id_\": \"TP\",\n",
    "    \"postpone_start\": True,\n",
    "}\n",
    "unloading.append(model.ShiftAmountActivity(**shift_amount_unloading_data2))\n",
    "\n",
    "basic_activity_data23= {\"env\"  : my_env,\n",
    "                      \"name\" : \"TP finalize installation\",\n",
    "                      \"registry\": registry,\n",
    "                      \"ID\":str(uuid.uuid4()),  # For logging purposes\n",
    "                      \"duration\" : 45,\n",
    "                      \"additional_logs\": [hopper],\n",
    "                      \"postpone_start\": True,\n",
    "                      }\n",
    "unloading.append(model.BasicActivity(**basic_activity_data23))\n",
    "\n",
    "sequential_activity_data2 = {\n",
    "    \"env\": my_env,\n",
    "    \"name\": \"unloading\",\n",
    "    \"ID\": str(uuid.uuid4()),  # For logging purposes\n",
    "    \"registry\": registry,\n",
    "    \"sub_processes\": unloading,\n",
    "    \"postpone_start\": True,\n",
    "}\n",
    "sequential_activity = model.SequentialActivity(**sequential_activity_data2)\n",
    "\n",
    "while_data = {\n",
    "    \"env\": my_env,  # The simpy environment defined in the first cel\n",
    "    \"name\": \"unloading while\",  # We are moving soil\n",
    "    \"ID\":str(uuid.uuid4()),  # For logging purposes\n",
    "    \"registry\": registry,\n",
    "    \"sub_process\": sequential_activity,\n",
    "    \"condition_event\": [{\"or\":[{\"type\":\"container\", \"concept\": to_site, \"state\":\"full\", \"id_\":\"TP\"},\n",
    "                                {\"type\":\"container\", \"concept\": hopper, \"state\":\"empty\", \"id_\":\"TP\"}]\n",
    "                          }],\n",
    "    #\"condition_event\": [{\"type\":\"container\", \"concept\": hopper, \"state\":\"empty\", \"id_\":\"TP\"}],\n",
    "    \"postpone_start\": True,\n",
    "}\n",
    "unloading_activity = model.WhileActivity(**while_data)"
   ]
  },
  {
   "cell_type": "markdown",
   "metadata": {},
   "source": [
    "### Definition of High level Process\n",
    "The high level process is based on the following steps:\n",
    "- While the destination is not full do:\n",
    "    - Sail empty\n",
    "    - Loading\n",
    "    - Sail full\n",
    "    - Unloading"
   ]
  },
  {
   "cell_type": "code",
   "execution_count": 6,
   "metadata": {},
   "outputs": [
    {
     "output_type": "stream",
     "name": "stdout",
     "text": "while Activity keep_resources []\nget_full_event : TP\nstart get_available\nstart event instance None\n"
    }
   ],
   "source": [
    "# definition of main cycle\n",
    "\n",
    "single_run = []\n",
    "\n",
    "move_activity_to_harbor_data = {\n",
    "    \"env\": my_env,  # The simpy environment defined in the first cel\n",
    "    \"name\": \"sailing empty\",  # We are moving soil\n",
    "    \"ID\": str(uuid.uuid4()),  # For logging purposes\n",
    "    \"registry\": registry,\n",
    "    \"mover\": hopper,\n",
    "    \"destination\": from_site,\n",
    "    \"postpone_start\": True,\n",
    "}\n",
    "single_run.append(model.MoveActivity(**move_activity_to_harbor_data))\n",
    "\n",
    "single_run.append(loading_activity)\n",
    "\n",
    "move_activity_to_site_data = {\n",
    "    \"env\": my_env,  # The simpy environment defined in the first cel\n",
    "    \"name\": \"sailing filled\",  # We are moving soil\n",
    "    \"ID\": str(uuid.uuid4()),  # For logging purposes\n",
    "    \"registry\": registry,\n",
    "    \"mover\": hopper,\n",
    "    \"destination\": to_site,\n",
    "    \"postpone_start\": True,\n",
    "}\n",
    "single_run.append(model.MoveActivity(**move_activity_to_site_data))\n",
    "\n",
    "single_run.append(unloading_activity)\n",
    "\n",
    "sequential_activity_data3 = {\n",
    "    \"env\": my_env,\n",
    "    \"name\": \"Single run process\",\n",
    "    \"ID\": str(uuid.uuid4()),  # For logging purposes\n",
    "    \"registry\": registry,\n",
    "    \"sub_processes\": single_run,\n",
    "    \"postpone_start\": True,\n",
    "}\n",
    "activity = model.SequentialActivity(**sequential_activity_data3)\n",
    "\n",
    "while_data = {\n",
    "    \"env\": my_env,  # The simpy environment defined in the first cel\n",
    "    \"name\": \"single run while\",  # We are moving soil\n",
    "    \"ID\": str(uuid.uuid4()),  # For logging purposes\n",
    "    \"registry\": registry,\n",
    "    \"sub_process\": activity,\n",
    "    \"condition_event\": [{\"type\":\"container\", \"concept\": to_site, \"state\":\"full\", \"id_\":\"TP\"}],\n",
    "    \"postpone_start\": False,\n",
    "}\n",
    "while_activity = model.WhileActivity(**while_data)\n"
   ]
  },
  {
   "cell_type": "code",
   "execution_count": 8,
   "metadata": {
    "tags": [
     "outputPrepend"
    ]
   },
   "outputs": [
    {
     "output_type": "stream",
     "name": "stdout",
     "text": "et_callback\n{'TP': {2: <Event() object at 0x2067f789688>}}\norigin store after get: [{'id': 'TP', 'level': 1, 'capacity': 2}, {'id': 'MP', 'level': 0, 'capacity': 2}]\nafter get\nafter check_down time\ndestination store before put: [{'id': 'MP', 'level': 3, 'capacity': 5}, {'id': 'TP', 'level': 3, 'capacity': 5}]\n<FilterStoreGet() object at 0x2067f79a4c8>\nput_callback - id_ MP\n{'TP': {5: <Event() object at 0x2067f1a4908>}}\ndestination store after put: [{'id': 'TP', 'level': 3, 'capacity': 5}, {'id': 'MP', 'level': 4, 'capacity': 5}]\nafter put\nprocessor end process\nProcessed 1 of MP:\n  by:          Hopper 01\n  origin        Hopper 01  contains: 0 of MP\n  destination:  Dumplocatie contains: 4 of MP\nafter shift amount : {<simpy.resources.resource.Resource object at 0x000002067F78AD88>: <Request() object at 0x2067f789ec8>, <simpy.resources.resource.Resource object at 0x000002067F78A808>: <Request() object at 0x2067f79a808>}\nkeep resources []\nrelease destination : {<simpy.resources.resource.Resource object at 0x000002067F78A808>: <Request() object at 0x2067f79a808>}\nreleased origin : {}\nreleased processor : {}\n{}\nActivity end()\n<openclsim.model.BasicActivity object at 0x000002067F7AE988>\nkeep_resources []\nstart event instance None\nActivity end()\n<openclsim.model.BasicActivity object at 0x000002067F7DB748>\nkeep_resources []\nstart event instance None\nActivity end()\n<openclsim.model.ShiftAmountActivity object at 0x000002067F7DB508>\nkeep_resources []\nSHift amount Activity keep_resources []\nstart event instance None\nstart : {}\n{'origin.b03b56e4-276d-4823-a412-278f597176b0': 1, 'destination.02f325eb-14fe-4c18-adef-65ab87bfbdca': 2}\ndestination request : {<simpy.resources.resource.Resource object at 0x000002067F78AD88>: <Request() object at 0x2067f789fc8>}\nshift amount process keep_resources []\nstart get_available\nprocessor request : {<simpy.resources.resource.Resource object at 0x000002067F78AD88>: <Request() object at 0x2067f789fc8>, <simpy.resources.resource.Resource object at 0x000002067F78A808>: <Request() object at 0x2067f79ae48>}\nsite request : {<simpy.resources.resource.Resource object at 0x000002067F78AD88>: <Request() object at 0x2067f789fc8>, <simpy.resources.resource.Resource object at 0x000002067F78A808>: <Request() object at 0x2067f79ae48>}\nend requestIfAvailable : {<simpy.resources.resource.Resource object at 0x000002067F78AD88>: <Request() object at 0x2067f789fc8>, <simpy.resources.resource.Resource object at 0x000002067F78A808>: <Request() object at 0x2067f79ae48>}\nafter req resource if available : {<simpy.resources.resource.Resource object at 0x000002067F78AD88>: <Request() object at 0x2067f789fc8>, <simpy.resources.resource.Resource object at 0x000002067F78A808>: <Request() object at 0x2067f79ae48>}\n_shift_amount\nstart _shift_amount\namount 1\nprocessor start process\ntransfer TP to Dumplocatie\nprocessor process without rate\norigin store before get: [{'id': 'TP', 'level': 1, 'capacity': 2}, {'id': 'MP', 'level': 0, 'capacity': 2}]\nstart get 1\nstore_status {'id': 'TP', 'level': 1, 'capacity': 2}\nend get 1\nget_callback - id_ <StorePut() object at 0x2067f789908>\nstart get_callback\n{'TP': {2: <Event() object at 0x2067f789688>}}\norigin store after get: [{'id': 'MP', 'level': 0, 'capacity': 2}, {'id': 'TP', 'level': 0, 'capacity': 2}]\nafter get\nafter check_down time\ndestination store before put: [{'id': 'TP', 'level': 3, 'capacity': 5}, {'id': 'MP', 'level': 4, 'capacity': 5}]\n<FilterStoreGet() object at 0x2067f79a108>\nput_callback - id_ TP\n{'TP': {5: <Event() object at 0x2067f1a4908>}}\namount :5\ndestination store after put: [{'id': 'MP', 'level': 4, 'capacity': 5}, {'id': 'TP', 'level': 4, 'capacity': 5}]\nafter put\nprocessor end process\nProcessed 1 of TP:\n  by:          Hopper 01\n  origin        Hopper 01  contains: 0 of TP\n  destination:  Dumplocatie contains: 4 of TP\nafter shift amount : {<simpy.resources.resource.Resource object at 0x000002067F78AD88>: <Request() object at 0x2067f789fc8>, <simpy.resources.resource.Resource object at 0x000002067F78A808>: <Request() object at 0x2067f79ae48>}\nkeep resources []\nrelease destination : {<simpy.resources.resource.Resource object at 0x000002067F78A808>: <Request() object at 0x2067f79ae48>}\nreleased origin : {}\nreleased processor : {}\n{}\nActivity end()\n<openclsim.model.BasicActivity object at 0x000002067F7DBC88>\nkeep_resources []\nstart event instance None\nActivity end()\nActivity end()\ncondition event triggered: True True round 1\nwhile loop requested_resources {}\nwhile loop keep_resources []\nActivity end()\nActivity end()\ncondition event triggered: False False round 1\nwhile loop requested_resources {}\nwhile loop keep_resources []\n<openclsim.model.SequentialActivity object at 0x000002067F790C08>\nconditional \nstart event instance None\n<openclsim.model.MoveActivity object at 0x000002067F790688>\nkeep_resources []\nstart event instance None\nMover_move before mover resource request\nMover_move after mover resource request\nMover_move after move\nActivity end()\n<openclsim.model.SequentialActivity object at 0x000002067F7AB688>\nkeep_resources []\nstart event instance None\n<openclsim.model.BasicActivity object at 0x000002067F7DC8C8>\nkeep_resources []\nstart event instance None\nActivity end()\n<openclsim.model.WhileActivity object at 0x000002067F28FB08>\nkeep_resources []\nget_full_event : MP\nstart get_available\nstart put_available\ncheck put_available events\nregister new event \nevaluate event <Event() object at 0x2067f79a788> as triggered False and processed False\nevaluate event <Event() object at 0x2067f79af08> as triggered False and processed False\nstart event instance None\n<openclsim.model.SequentialActivity object at 0x000002067F7DCF48>\nconditional \nstart event instance None\n<openclsim.model.ShiftAmountActivity object at 0x000002067F7DCC88>\nkeep_resources []\nSHift amount Activity keep_resources []\nstart event instance None\nstart : {}\n{'origin.cb090f83-f46a-4842-b2a4-199588b920e3': 1, 'destination.b03b56e4-276d-4823-a412-278f597176b0': 2}\ndestination request : {<simpy.resources.resource.Resource object at 0x000002067F78A808>: <Request() object at 0x20678cf3788>}\nshift amount process keep_resources []\nstart get_available\nprocessor request : {<simpy.resources.resource.Resource object at 0x000002067F78A808>: <Request() object at 0x20678cf3788>}\nsite request : {<simpy.resources.resource.Resource object at 0x000002067F78A808>: <Request() object at 0x20678cf3788>, <simpy.resources.resource.Resource object at 0x000002067F78AAC8>: <Request() object at 0x2067f79ae08>}\nend requestIfAvailable : {<simpy.resources.resource.Resource object at 0x000002067F78A808>: <Request() object at 0x20678cf3788>, <simpy.resources.resource.Resource object at 0x000002067F78AAC8>: <Request() object at 0x2067f79ae08>}\nafter req resource if available : {<simpy.resources.resource.Resource object at 0x000002067F78A808>: <Request() object at 0x20678cf3788>, <simpy.resources.resource.Resource object at 0x000002067F78AAC8>: <Request() object at 0x2067f79ae08>}\n_shift_amount\nstart _shift_amount\namount 1\nprocessor start process\ntransfer MP to Hopper 01\nprocessor process without rate\norigin store before get: [{'id': 'MP', 'level': 1, 'capacity': 10}, {'id': 'TP', 'level': 1, 'capacity': 10}]\nstart get 1\nstore_status {'id': 'MP', 'level': 1, 'capacity': 10}\nend get 1\nget_callback - id_ <StorePut() object at 0x2067f7aa8c8>\nstart get_callback\n{'MP': {10: <Event() object at 0x2067f79af08>}, 'TP': {10: <Event() object at 0x2067f7a86c8>}}\norigin store after get: [{'id': 'TP', 'level': 1, 'capacity': 10}, {'id': 'MP', 'level': 0, 'capacity': 10}]\nafter get\nafter check_down time\ndestination store before put: [{'id': 'MP', 'level': 0, 'capacity': 2}, {'id': 'TP', 'level': 0, 'capacity': 2}]\n<FilterStoreGet() object at 0x2067ed53d48>\nput_callback - id_ MP\n{'MP': {2: <Event() object at 0x2067f79a788>}, 'TP': {}}\namount :2\ndestination store after put: [{'id': 'TP', 'level': 0, 'capacity': 2}, {'id': 'MP', 'level': 1, 'capacity': 2}]\nafter put\nprocessor end process\nProcessed 1 of MP:\n  by:          Hopper 01\n  origin        Winlocatie  contains: 0 of MP\n  destination:  Hopper 01 contains: 1 of MP\nafter shift amount : {<simpy.resources.resource.Resource object at 0x000002067F78A808>: <Request() object at 0x20678cf3788>, <simpy.resources.resource.Resource object at 0x000002067F78AAC8>: <Request() object at 0x2067f79ae08>}\nkeep resources []\nrelease destination : {<simpy.resources.resource.Resource object at 0x000002067F78AAC8>: <Request() object at 0x2067f79ae08>}\nreleased origin : {}\nreleased processor : {}\n{}\nActivity end()\nActivity end()\ncondition event triggered: True True round 0\nwhile loop requested_resources {}\nwhile loop keep_resources []\nActivity end()\n<openclsim.model.BasicActivity object at 0x000002067F7D8648>\nkeep_resources []\nstart event instance None\nActivity end()\n<openclsim.model.BasicActivity object at 0x000002067F7D8888>\nkeep_resources []\nstart event instance None\nActivity end()\n<openclsim.model.WhileActivity object at 0x000002067F7DCE08>\nkeep_resources []\nget_full_event : TP\nstart get_available\nstart put_available\ncheck put_available events\nregister new event \nevaluate event <Event() object at 0x2067f79a888> as triggered False and processed False\nevaluate event <Event() object at 0x2067f79aa88> as triggered False and processed False\nstart event instance None\n<openclsim.model.SequentialActivity object at 0x000002067F7D8E48>\nconditional \nstart event instance None\n<openclsim.model.ShiftAmountActivity object at 0x000002067F7D8B88>\nkeep_resources []\nSHift amount Activity keep_resources []\nstart event instance None\nstart : {}\n{'origin.cb090f83-f46a-4842-b2a4-199588b920e3': 1, 'destination.b03b56e4-276d-4823-a412-278f597176b0': 2}\ndestination request : {<simpy.resources.resource.Resource object at 0x000002067F78A808>: <Request() object at 0x2067beda448>}\nshift amount process keep_resources []\nstart get_available\nprocessor request : {<simpy.resources.resource.Resource object at 0x000002067F78A808>: <Request() object at 0x2067beda448>}\nsite request : {<simpy.resources.resource.Resource object at 0x000002067F78A808>: <Request() object at 0x2067beda448>, <simpy.resources.resource.Resource object at 0x000002067F78AAC8>: <Request() object at 0x2067f7a86c8>}\nend requestIfAvailable : {<simpy.resources.resource.Resource object at 0x000002067F78A808>: <Request() object at 0x2067beda448>, <simpy.resources.resource.Resource object at 0x000002067F78AAC8>: <Request() object at 0x2067f7a86c8>}\nafter req resource if available : {<simpy.resources.resource.Resource object at 0x000002067F78A808>: <Request() object at 0x2067beda448>, <simpy.resources.resource.Resource object at 0x000002067F78AAC8>: <Request() object at 0x2067f7a86c8>}\n_shift_amount\nstart _shift_amount\namount 1\nprocessor start process\ntransfer TP to Hopper 01\nprocessor process without rate\norigin store before get: [{'id': 'TP', 'level': 1, 'capacity': 10}, {'id': 'MP', 'level': 0, 'capacity': 10}]\nstart get 1\nstore_status {'id': 'TP', 'level': 1, 'capacity': 10}\nend get 1\nget_callback - id_ <StorePut() object at 0x2067f791f48>\nstart get_callback\n{'MP': {}, 'TP': {10: <Event() object at 0x2067f79aa88>}}\norigin store after get: [{'id': 'MP', 'level': 0, 'capacity': 10}, {'id': 'TP', 'level': 0, 'capacity': 10}]\nafter get\nafter check_down time\ndestination store before put: [{'id': 'TP', 'level': 0, 'capacity': 2}, {'id': 'MP', 'level': 1, 'capacity': 2}]\n<FilterStoreGet() object at 0x2067f79a848>\nput_callback - id_ TP\n{'MP': {2: <Event() object at 0x2067f79a788>}, 'TP': {2: <Event() object at 0x2067f79a888>}}\namount :2\ndestination store after put: [{'id': 'MP', 'level': 1, 'capacity': 2}, {'id': 'TP', 'level': 1, 'capacity': 2}]\nafter put\nprocessor end process\nProcessed 1 of TP:\n  by:          Hopper 01\n  origin        Winlocatie  contains: 0 of TP\n  destination:  Hopper 01 contains: 1 of TP\nafter shift amount : {<simpy.resources.resource.Resource object at 0x000002067F78A808>: <Request() object at 0x2067beda448>, <simpy.resources.resource.Resource object at 0x000002067F78AAC8>: <Request() object at 0x2067f7a86c8>}\nkeep resources []\nrelease destination : {<simpy.resources.resource.Resource object at 0x000002067F78AAC8>: <Request() object at 0x2067f7a86c8>}\nreleased origin : {}\nreleased processor : {}\n{}\nActivity end()\nActivity end()\ncondition event triggered: True True round 0\nwhile loop requested_resources {}\nwhile loop keep_resources []\nActivity end()\n<openclsim.model.BasicActivity object at 0x000002067F7AB448>\nkeep_resources []\nstart event instance None\nActivity end()\nActivity end()\n<openclsim.model.MoveActivity object at 0x000002067F7905C8>\nkeep_resources []\nstart event instance None\nMover_move before mover resource request\nMover_move after mover resource request\nMover_move after move\nActivity end()\n<openclsim.model.WhileActivity object at 0x000002067F7DC4C8>\nkeep_resources []\nget_full_event : TP\nstart get_available\nstart put_available\ncheck put_available events\nregister new event \nevaluate event <Event() object at 0x2067f1a4908> as triggered False and processed False\nevaluate event <Event() object at 0x2067f7dba88> as triggered False and processed False\nstart event instance None\n<openclsim.model.SequentialActivity object at 0x000002067F759F88>\nconditional \nstart event instance None\n<openclsim.model.MoveActivity object at 0x000002067F79DF08>\nkeep_resources []\nstart event instance None\nMover_move before mover resource request\nMover_move after mover resource request\nMover_move after move\nActivity end()\n<openclsim.model.BasicActivity object at 0x000002067F79D388>\nkeep_resources []\nstart event instance None\nActivity end()\n<openclsim.model.ShiftAmountActivity object at 0x000002067F7AEE88>\nkeep_resources []\nSHift amount Activity keep_resources []\nstart event instance None\nstart : {}\n{'origin.b03b56e4-276d-4823-a412-278f597176b0': 1, 'destination.02f325eb-14fe-4c18-adef-65ab87bfbdca': 1}\ndestination request : {<simpy.resources.resource.Resource object at 0x000002067F78AD88>: <Request() object at 0x2067f7a5f88>}\nshift amount process keep_resources []\nstart get_available\nprocessor request : {<simpy.resources.resource.Resource object at 0x000002067F78AD88>: <Request() object at 0x2067f7a5f88>, <simpy.resources.resource.Resource object at 0x000002067F78A808>: <Request() object at 0x2067f789948>}\nsite request : {<simpy.resources.resource.Resource object at 0x000002067F78AD88>: <Request() object at 0x2067f7a5f88>, <simpy.resources.resource.Resource object at 0x000002067F78A808>: <Request() object at 0x2067f789948>}\nend requestIfAvailable : {<simpy.resources.resource.Resource object at 0x000002067F78AD88>: <Request() object at 0x2067f7a5f88>, <simpy.resources.resource.Resource object at 0x000002067F78A808>: <Request() object at 0x2067f789948>}\nafter req resource if available : {<simpy.resources.resource.Resource object at 0x000002067F78AD88>: <Request() object at 0x2067f7a5f88>, <simpy.resources.resource.Resource object at 0x000002067F78A808>: <Request() object at 0x2067f789948>}\n_shift_amount\nstart _shift_amount\namount 1\nprocessor start process\ntransfer MP to Dumplocatie\nprocessor process without rate\norigin store before get: [{'id': 'MP', 'level': 1, 'capacity': 2}, {'id': 'TP', 'level': 1, 'capacity': 2}]\nstart get 1\nstore_status {'id': 'MP', 'level': 1, 'capacity': 2}\nend get 1\nget_callback - id_ <StorePut() object at 0x2067f7d8788>\nstart get_callback\n{'TP': {2: <Event() object at 0x2067f7dba88>}}\norigin store after get: [{'id': 'TP', 'level': 1, 'capacity': 2}, {'id': 'MP', 'level': 0, 'capacity': 2}]\nafter get\nafter check_down time\ndestination store before put: [{'id': 'MP', 'level': 4, 'capacity': 5}, {'id': 'TP', 'level': 4, 'capacity': 5}]\n<FilterStoreGet() object at 0x20678d2d848>\nput_callback - id_ MP\n{'TP': {5: <Event() object at 0x2067f1a4908>}}\ndestination store after put: [{'id': 'TP', 'level': 4, 'capacity': 5}, {'id': 'MP', 'level': 5, 'capacity': 5}]\nafter put\nprocessor end process\nProcessed 1 of MP:\n  by:          Hopper 01\n  origin        Hopper 01  contains: 0 of MP\n  destination:  Dumplocatie contains: 5 of MP\nafter shift amount : {<simpy.resources.resource.Resource object at 0x000002067F78AD88>: <Request() object at 0x2067f7a5f88>, <simpy.resources.resource.Resource object at 0x000002067F78A808>: <Request() object at 0x2067f789948>}\nkeep resources []\nrelease destination : {<simpy.resources.resource.Resource object at 0x000002067F78A808>: <Request() object at 0x2067f789948>}\nreleased origin : {}\nreleased processor : {}\n{}\nActivity end()\n<openclsim.model.BasicActivity object at 0x000002067F7AE988>\nkeep_resources []\nstart event instance None\nActivity end()\n<openclsim.model.BasicActivity object at 0x000002067F7DB748>\nkeep_resources []\nstart event instance None\nActivity end()\n<openclsim.model.ShiftAmountActivity object at 0x000002067F7DB508>\nkeep_resources []\nSHift amount Activity keep_resources []\nstart event instance None\nstart : {}\n{'origin.b03b56e4-276d-4823-a412-278f597176b0': 1, 'destination.02f325eb-14fe-4c18-adef-65ab87bfbdca': 1}\ndestination request : {<simpy.resources.resource.Resource object at 0x000002067F78AD88>: <Request() object at 0x20678d2d848>}\nshift amount process keep_resources []\nstart get_available\nprocessor request : {<simpy.resources.resource.Resource object at 0x000002067F78AD88>: <Request() object at 0x20678d2d848>, <simpy.resources.resource.Resource object at 0x000002067F78A808>: <Request() object at 0x2067f789e08>}\nsite request : {<simpy.resources.resource.Resource object at 0x000002067F78AD88>: <Request() object at 0x20678d2d848>, <simpy.resources.resource.Resource object at 0x000002067F78A808>: <Request() object at 0x2067f789e08>}\nend requestIfAvailable : {<simpy.resources.resource.Resource object at 0x000002067F78AD88>: <Request() object at 0x20678d2d848>, <simpy.resources.resource.Resource object at 0x000002067F78A808>: <Request() object at 0x2067f789e08>}\nafter req resource if available : {<simpy.resources.resource.Resource object at 0x000002067F78AD88>: <Request() object at 0x20678d2d848>, <simpy.resources.resource.Resource object at 0x000002067F78A808>: <Request() object at 0x2067f789e08>}\n_shift_amount\nstart _shift_amount\namount 1\nprocessor start process\ntransfer TP to Dumplocatie\nprocessor process without rate\norigin store before get: [{'id': 'TP', 'level': 1, 'capacity': 2}, {'id': 'MP', 'level': 0, 'capacity': 2}]\nstart get 1\nstore_status {'id': 'TP', 'level': 1, 'capacity': 2}\nend get 1\nget_callback - id_ <StorePut() object at 0x20678d73608>\nstart get_callback\n{'TP': {2: <Event() object at 0x2067f7dba88>}}\norigin store after get: [{'id': 'MP', 'level': 0, 'capacity': 2}, {'id': 'TP', 'level': 0, 'capacity': 2}]\nafter get\nafter check_down time\ndestination store before put: [{'id': 'TP', 'level': 4, 'capacity': 5}, {'id': 'MP', 'level': 5, 'capacity': 5}]\n<FilterStoreGet() object at 0x2067f7aa8c8>\nput_callback - id_ TP\n{'TP': {5: <Event() object at 0x2067f1a4908>}}\namount :5\ndestination store after put: [{'id': 'MP', 'level': 5, 'capacity': 5}, {'id': 'TP', 'level': 5, 'capacity': 5}]\nafter put\nprocessor end process\nProcessed 1 of TP:\n  by:          Hopper 01\n  origin        Hopper 01  contains: 0 of TP\n  destination:  Dumplocatie contains: 5 of TP\nafter shift amount : {<simpy.resources.resource.Resource object at 0x000002067F78AD88>: <Request() object at 0x20678d2d848>, <simpy.resources.resource.Resource object at 0x000002067F78A808>: <Request() object at 0x2067f789e08>}\nkeep resources []\nrelease destination : {<simpy.resources.resource.Resource object at 0x000002067F78A808>: <Request() object at 0x2067f789e08>}\nreleased origin : {}\nreleased processor : {}\n{}\nActivity end()\n<openclsim.model.BasicActivity object at 0x000002067F7DBC88>\nkeep_resources []\nstart event instance None\nActivity end()\nActivity end()\ncondition event triggered: True True round 0\nwhile loop requested_resources {}\nwhile loop keep_resources []\nActivity end()\nActivity end()\ncondition event triggered: True True round 2\nwhile loop requested_resources {}\nwhile loop keep_resources []\n"
    }
   ],
   "source": [
    "my_env.run()\n"
   ]
  },
  {
   "cell_type": "code",
   "execution_count": 9,
   "metadata": {},
   "outputs": [
    {
     "output_type": "execute_result",
     "data": {
      "text/plain": "                         Message ActivityState                  Timestamp  \\\n0                  sailing empty         START 1970-01-01 01:00:00.000000   \n2     MP loading hook on rigging         START 1970-01-01 01:00:00.000000   \n4       transfer MP to Hopper 01         START 1970-01-01 01:00:45.000000   \n8       transfer MP to Hopper 01         START 1970-01-01 01:02:45.000000   \n12   MP loading hook off rigging         START 1970-01-01 01:04:45.000000   \n..                           ...           ...                        ...   \n152   transfer MP to Dumplocatie         START 1970-01-01 03:03:24.122956   \n156                Installing MP         START 1970-01-01 03:05:24.122956   \n158      Prepare TP installation         START 1970-01-01 03:06:09.122956   \n160   transfer TP to Dumplocatie         START 1970-01-01 03:06:54.122956   \n164     TP finalize installation         START 1970-01-01 03:08:54.122956   \n\n     Value                            ActivityID  \n0        0  846e72e3-8e64-4720-977d-0df00b0cbcaa  \n2       45  2e95f671-0a9e-4a65-a3aa-e3c09cbc92be  \n4        1  f9881f28-2a6d-48eb-8ead-f6b165bf65a7  \n8        1  f9881f28-2a6d-48eb-8ead-f6b165bf65a7  \n12      15  48bea753-5d03-447f-b7fc-38cada0b038f  \n..     ...                                   ...  \n152      1  fcb736cf-b3f4-4a5f-8b99-f8dfec657fe2  \n156     45  98632eff-bf58-4536-ab56-2767815f8e47  \n158     45  b350b682-9e47-4a08-a33a-1edd754adb45  \n160      1  c9d243b0-b0b8-4c8f-a2ea-6f999bda0029  \n164     45  369fba05-02a7-4d9c-a73b-925df6cc259d  \n\n[63 rows x 5 columns]",
      "text/html": "<div>\n<style scoped>\n    .dataframe tbody tr th:only-of-type {\n        vertical-align: middle;\n    }\n\n    .dataframe tbody tr th {\n        vertical-align: top;\n    }\n\n    .dataframe thead th {\n        text-align: right;\n    }\n</style>\n<table border=\"1\" class=\"dataframe\">\n  <thead>\n    <tr style=\"text-align: right;\">\n      <th></th>\n      <th>Message</th>\n      <th>ActivityState</th>\n      <th>Timestamp</th>\n      <th>Value</th>\n      <th>ActivityID</th>\n    </tr>\n  </thead>\n  <tbody>\n    <tr>\n      <th>0</th>\n      <td>sailing empty</td>\n      <td>START</td>\n      <td>1970-01-01 01:00:00.000000</td>\n      <td>0</td>\n      <td>846e72e3-8e64-4720-977d-0df00b0cbcaa</td>\n    </tr>\n    <tr>\n      <th>2</th>\n      <td>MP loading hook on rigging</td>\n      <td>START</td>\n      <td>1970-01-01 01:00:00.000000</td>\n      <td>45</td>\n      <td>2e95f671-0a9e-4a65-a3aa-e3c09cbc92be</td>\n    </tr>\n    <tr>\n      <th>4</th>\n      <td>transfer MP to Hopper 01</td>\n      <td>START</td>\n      <td>1970-01-01 01:00:45.000000</td>\n      <td>1</td>\n      <td>f9881f28-2a6d-48eb-8ead-f6b165bf65a7</td>\n    </tr>\n    <tr>\n      <th>8</th>\n      <td>transfer MP to Hopper 01</td>\n      <td>START</td>\n      <td>1970-01-01 01:02:45.000000</td>\n      <td>1</td>\n      <td>f9881f28-2a6d-48eb-8ead-f6b165bf65a7</td>\n    </tr>\n    <tr>\n      <th>12</th>\n      <td>MP loading hook off rigging</td>\n      <td>START</td>\n      <td>1970-01-01 01:04:45.000000</td>\n      <td>15</td>\n      <td>48bea753-5d03-447f-b7fc-38cada0b038f</td>\n    </tr>\n    <tr>\n      <th>...</th>\n      <td>...</td>\n      <td>...</td>\n      <td>...</td>\n      <td>...</td>\n      <td>...</td>\n    </tr>\n    <tr>\n      <th>152</th>\n      <td>transfer MP to Dumplocatie</td>\n      <td>START</td>\n      <td>1970-01-01 03:03:24.122956</td>\n      <td>1</td>\n      <td>fcb736cf-b3f4-4a5f-8b99-f8dfec657fe2</td>\n    </tr>\n    <tr>\n      <th>156</th>\n      <td>Installing MP</td>\n      <td>START</td>\n      <td>1970-01-01 03:05:24.122956</td>\n      <td>45</td>\n      <td>98632eff-bf58-4536-ab56-2767815f8e47</td>\n    </tr>\n    <tr>\n      <th>158</th>\n      <td>Prepare TP installation</td>\n      <td>START</td>\n      <td>1970-01-01 03:06:09.122956</td>\n      <td>45</td>\n      <td>b350b682-9e47-4a08-a33a-1edd754adb45</td>\n    </tr>\n    <tr>\n      <th>160</th>\n      <td>transfer TP to Dumplocatie</td>\n      <td>START</td>\n      <td>1970-01-01 03:06:54.122956</td>\n      <td>1</td>\n      <td>c9d243b0-b0b8-4c8f-a2ea-6f999bda0029</td>\n    </tr>\n    <tr>\n      <th>164</th>\n      <td>TP finalize installation</td>\n      <td>START</td>\n      <td>1970-01-01 03:08:54.122956</td>\n      <td>45</td>\n      <td>369fba05-02a7-4d9c-a73b-925df6cc259d</td>\n    </tr>\n  </tbody>\n</table>\n<p>63 rows × 5 columns</p>\n</div>"
     },
     "metadata": {},
     "execution_count": 9
    }
   ],
   "source": [
    "log_df = pd.DataFrame(hopper.log)\n",
    "data = log_df[[\"Message\", \"ActivityState\", \"Timestamp\", \"Value\", \"ActivityID\"]]\n",
    "data = data.drop_duplicates()\n",
    "data = data[data['ActivityState']=='START']\n",
    "data"
   ]
  },
  {
   "cell_type": "code",
   "execution_count": 13,
   "metadata": {},
   "outputs": [
    {
     "output_type": "execute_result",
     "data": {
      "text/plain": "                        Message ActivityState           Timestamp  Value  \\\n0                 sailing empty         START 1970-01-01 01:00:00      0   \n2    MP loading hook on rigging         START 1970-01-01 01:00:00     45   \n4      transfer MP to Hopper 01         START 1970-01-01 01:00:45      1   \n8      transfer MP to Hopper 01         START 1970-01-01 01:02:45      1   \n12  MP loading hook off rigging         START 1970-01-01 01:04:45     15   \n14   TP loading hook on rigging         START 1970-01-01 01:05:00     30   \n16     transfer TP to Hopper 01         START 1970-01-01 01:05:30      1   \n20     transfer TP to Hopper 01         START 1970-01-01 01:05:40      1   \n24  TP loading hook off rigging         START 1970-01-01 01:05:50     15   \n26               sailing filled         START 1970-01-01 01:06:05      0   \n\n                              ActivityID  \n0   846e72e3-8e64-4720-977d-0df00b0cbcaa  \n2   2e95f671-0a9e-4a65-a3aa-e3c09cbc92be  \n4   f9881f28-2a6d-48eb-8ead-f6b165bf65a7  \n8   f9881f28-2a6d-48eb-8ead-f6b165bf65a7  \n12  48bea753-5d03-447f-b7fc-38cada0b038f  \n14  d865cc8f-3e5c-46b7-856d-1aaea200b203  \n16  b14807e0-0fcd-4639-b928-9d47e8139d8e  \n20  b14807e0-0fcd-4639-b928-9d47e8139d8e  \n24  91dfa4b1-84b9-4847-b49f-22b24b9fb602  \n26  3b6c76c6-4a26-4a0b-b746-b14c2dddf325  ",
      "text/html": "<div>\n<style scoped>\n    .dataframe tbody tr th:only-of-type {\n        vertical-align: middle;\n    }\n\n    .dataframe tbody tr th {\n        vertical-align: top;\n    }\n\n    .dataframe thead th {\n        text-align: right;\n    }\n</style>\n<table border=\"1\" class=\"dataframe\">\n  <thead>\n    <tr style=\"text-align: right;\">\n      <th></th>\n      <th>Message</th>\n      <th>ActivityState</th>\n      <th>Timestamp</th>\n      <th>Value</th>\n      <th>ActivityID</th>\n    </tr>\n  </thead>\n  <tbody>\n    <tr>\n      <th>0</th>\n      <td>sailing empty</td>\n      <td>START</td>\n      <td>1970-01-01 01:00:00</td>\n      <td>0</td>\n      <td>846e72e3-8e64-4720-977d-0df00b0cbcaa</td>\n    </tr>\n    <tr>\n      <th>2</th>\n      <td>MP loading hook on rigging</td>\n      <td>START</td>\n      <td>1970-01-01 01:00:00</td>\n      <td>45</td>\n      <td>2e95f671-0a9e-4a65-a3aa-e3c09cbc92be</td>\n    </tr>\n    <tr>\n      <th>4</th>\n      <td>transfer MP to Hopper 01</td>\n      <td>START</td>\n      <td>1970-01-01 01:00:45</td>\n      <td>1</td>\n      <td>f9881f28-2a6d-48eb-8ead-f6b165bf65a7</td>\n    </tr>\n    <tr>\n      <th>8</th>\n      <td>transfer MP to Hopper 01</td>\n      <td>START</td>\n      <td>1970-01-01 01:02:45</td>\n      <td>1</td>\n      <td>f9881f28-2a6d-48eb-8ead-f6b165bf65a7</td>\n    </tr>\n    <tr>\n      <th>12</th>\n      <td>MP loading hook off rigging</td>\n      <td>START</td>\n      <td>1970-01-01 01:04:45</td>\n      <td>15</td>\n      <td>48bea753-5d03-447f-b7fc-38cada0b038f</td>\n    </tr>\n    <tr>\n      <th>14</th>\n      <td>TP loading hook on rigging</td>\n      <td>START</td>\n      <td>1970-01-01 01:05:00</td>\n      <td>30</td>\n      <td>d865cc8f-3e5c-46b7-856d-1aaea200b203</td>\n    </tr>\n    <tr>\n      <th>16</th>\n      <td>transfer TP to Hopper 01</td>\n      <td>START</td>\n      <td>1970-01-01 01:05:30</td>\n      <td>1</td>\n      <td>b14807e0-0fcd-4639-b928-9d47e8139d8e</td>\n    </tr>\n    <tr>\n      <th>20</th>\n      <td>transfer TP to Hopper 01</td>\n      <td>START</td>\n      <td>1970-01-01 01:05:40</td>\n      <td>1</td>\n      <td>b14807e0-0fcd-4639-b928-9d47e8139d8e</td>\n    </tr>\n    <tr>\n      <th>24</th>\n      <td>TP loading hook off rigging</td>\n      <td>START</td>\n      <td>1970-01-01 01:05:50</td>\n      <td>15</td>\n      <td>91dfa4b1-84b9-4847-b49f-22b24b9fb602</td>\n    </tr>\n    <tr>\n      <th>26</th>\n      <td>sailing filled</td>\n      <td>START</td>\n      <td>1970-01-01 01:06:05</td>\n      <td>0</td>\n      <td>3b6c76c6-4a26-4a0b-b746-b14c2dddf325</td>\n    </tr>\n  </tbody>\n</table>\n</div>"
     },
     "metadata": {},
     "execution_count": 13
    }
   ],
   "source": [
    "# Loading first and second run\n",
    "data.iloc[:10]"
   ]
  },
  {
   "cell_type": "code",
   "execution_count": 16,
   "metadata": {},
   "outputs": [
    {
     "output_type": "execute_result",
     "data": {
      "text/plain": "                           Message ActivityState                  Timestamp  \\\n128                  sailing empty         START 1970-01-01 02:27:18.473774   \n130     MP loading hook on rigging         START 1970-01-01 02:43:01.298365   \n132       transfer MP to Hopper 01         START 1970-01-01 02:43:46.298365   \n136    MP loading hook off rigging         START 1970-01-01 02:45:46.298365   \n138     TP loading hook on rigging         START 1970-01-01 02:46:01.298365   \n140       transfer TP to Hopper 01         START 1970-01-01 02:46:31.298365   \n144    TP loading hook off rigging         START 1970-01-01 02:46:41.298365   \n146                 sailing filled         START 1970-01-01 02:46:56.298365   \n148                 sailing filled         START 1970-01-01 03:02:39.122956   \n150  MP preparing for installation         START 1970-01-01 03:02:39.122956   \n152     transfer MP to Dumplocatie         START 1970-01-01 03:03:24.122956   \n156                  Installing MP         START 1970-01-01 03:05:24.122956   \n158        Prepare TP installation         START 1970-01-01 03:06:09.122956   \n160     transfer TP to Dumplocatie         START 1970-01-01 03:06:54.122956   \n164       TP finalize installation         START 1970-01-01 03:08:54.122956   \n\n     Value                            ActivityID  \n128      0  846e72e3-8e64-4720-977d-0df00b0cbcaa  \n130     45  2e95f671-0a9e-4a65-a3aa-e3c09cbc92be  \n132      1  f9881f28-2a6d-48eb-8ead-f6b165bf65a7  \n136     15  48bea753-5d03-447f-b7fc-38cada0b038f  \n138     30  d865cc8f-3e5c-46b7-856d-1aaea200b203  \n140      1  b14807e0-0fcd-4639-b928-9d47e8139d8e  \n144     15  91dfa4b1-84b9-4847-b49f-22b24b9fb602  \n146      0  3b6c76c6-4a26-4a0b-b746-b14c2dddf325  \n148      0  e5674d5f-d7e4-43d6-a627-10f12a6d488f  \n150     45  07f17555-6ae2-466e-a1e3-a4d858b5caa2  \n152      1  fcb736cf-b3f4-4a5f-8b99-f8dfec657fe2  \n156     45  98632eff-bf58-4536-ab56-2767815f8e47  \n158     45  b350b682-9e47-4a08-a33a-1edd754adb45  \n160      1  c9d243b0-b0b8-4c8f-a2ea-6f999bda0029  \n164     45  369fba05-02a7-4d9c-a73b-925df6cc259d  ",
      "text/html": "<div>\n<style scoped>\n    .dataframe tbody tr th:only-of-type {\n        vertical-align: middle;\n    }\n\n    .dataframe tbody tr th {\n        vertical-align: top;\n    }\n\n    .dataframe thead th {\n        text-align: right;\n    }\n</style>\n<table border=\"1\" class=\"dataframe\">\n  <thead>\n    <tr style=\"text-align: right;\">\n      <th></th>\n      <th>Message</th>\n      <th>ActivityState</th>\n      <th>Timestamp</th>\n      <th>Value</th>\n      <th>ActivityID</th>\n    </tr>\n  </thead>\n  <tbody>\n    <tr>\n      <th>128</th>\n      <td>sailing empty</td>\n      <td>START</td>\n      <td>1970-01-01 02:27:18.473774</td>\n      <td>0</td>\n      <td>846e72e3-8e64-4720-977d-0df00b0cbcaa</td>\n    </tr>\n    <tr>\n      <th>130</th>\n      <td>MP loading hook on rigging</td>\n      <td>START</td>\n      <td>1970-01-01 02:43:01.298365</td>\n      <td>45</td>\n      <td>2e95f671-0a9e-4a65-a3aa-e3c09cbc92be</td>\n    </tr>\n    <tr>\n      <th>132</th>\n      <td>transfer MP to Hopper 01</td>\n      <td>START</td>\n      <td>1970-01-01 02:43:46.298365</td>\n      <td>1</td>\n      <td>f9881f28-2a6d-48eb-8ead-f6b165bf65a7</td>\n    </tr>\n    <tr>\n      <th>136</th>\n      <td>MP loading hook off rigging</td>\n      <td>START</td>\n      <td>1970-01-01 02:45:46.298365</td>\n      <td>15</td>\n      <td>48bea753-5d03-447f-b7fc-38cada0b038f</td>\n    </tr>\n    <tr>\n      <th>138</th>\n      <td>TP loading hook on rigging</td>\n      <td>START</td>\n      <td>1970-01-01 02:46:01.298365</td>\n      <td>30</td>\n      <td>d865cc8f-3e5c-46b7-856d-1aaea200b203</td>\n    </tr>\n    <tr>\n      <th>140</th>\n      <td>transfer TP to Hopper 01</td>\n      <td>START</td>\n      <td>1970-01-01 02:46:31.298365</td>\n      <td>1</td>\n      <td>b14807e0-0fcd-4639-b928-9d47e8139d8e</td>\n    </tr>\n    <tr>\n      <th>144</th>\n      <td>TP loading hook off rigging</td>\n      <td>START</td>\n      <td>1970-01-01 02:46:41.298365</td>\n      <td>15</td>\n      <td>91dfa4b1-84b9-4847-b49f-22b24b9fb602</td>\n    </tr>\n    <tr>\n      <th>146</th>\n      <td>sailing filled</td>\n      <td>START</td>\n      <td>1970-01-01 02:46:56.298365</td>\n      <td>0</td>\n      <td>3b6c76c6-4a26-4a0b-b746-b14c2dddf325</td>\n    </tr>\n    <tr>\n      <th>148</th>\n      <td>sailing filled</td>\n      <td>START</td>\n      <td>1970-01-01 03:02:39.122956</td>\n      <td>0</td>\n      <td>e5674d5f-d7e4-43d6-a627-10f12a6d488f</td>\n    </tr>\n    <tr>\n      <th>150</th>\n      <td>MP preparing for installation</td>\n      <td>START</td>\n      <td>1970-01-01 03:02:39.122956</td>\n      <td>45</td>\n      <td>07f17555-6ae2-466e-a1e3-a4d858b5caa2</td>\n    </tr>\n    <tr>\n      <th>152</th>\n      <td>transfer MP to Dumplocatie</td>\n      <td>START</td>\n      <td>1970-01-01 03:03:24.122956</td>\n      <td>1</td>\n      <td>fcb736cf-b3f4-4a5f-8b99-f8dfec657fe2</td>\n    </tr>\n    <tr>\n      <th>156</th>\n      <td>Installing MP</td>\n      <td>START</td>\n      <td>1970-01-01 03:05:24.122956</td>\n      <td>45</td>\n      <td>98632eff-bf58-4536-ab56-2767815f8e47</td>\n    </tr>\n    <tr>\n      <th>158</th>\n      <td>Prepare TP installation</td>\n      <td>START</td>\n      <td>1970-01-01 03:06:09.122956</td>\n      <td>45</td>\n      <td>b350b682-9e47-4a08-a33a-1edd754adb45</td>\n    </tr>\n    <tr>\n      <th>160</th>\n      <td>transfer TP to Dumplocatie</td>\n      <td>START</td>\n      <td>1970-01-01 03:06:54.122956</td>\n      <td>1</td>\n      <td>c9d243b0-b0b8-4c8f-a2ea-6f999bda0029</td>\n    </tr>\n    <tr>\n      <th>164</th>\n      <td>TP finalize installation</td>\n      <td>START</td>\n      <td>1970-01-01 03:08:54.122956</td>\n      <td>45</td>\n      <td>369fba05-02a7-4d9c-a73b-925df6cc259d</td>\n    </tr>\n  </tbody>\n</table>\n</div>"
     },
     "metadata": {},
     "execution_count": 16
    }
   ],
   "source": [
    "# Loading third run\n",
    "data.iloc[48:]"
   ]
  },
  {
   "cell_type": "code",
   "execution_count": 19,
   "metadata": {},
   "outputs": [
    {
     "output_type": "execute_result",
     "data": {
      "text/plain": "                          Message ActivityState                  Timestamp  \\\n28                 sailing filled         START 1970-01-01 01:21:47.824591   \n30  MP preparing for installation         START 1970-01-01 01:21:47.824591   \n32     transfer MP to Dumplocatie         START 1970-01-01 01:22:32.824591   \n36                  Installing MP         START 1970-01-01 01:24:32.824591   \n38        Prepare TP installation         START 1970-01-01 01:25:17.824591   \n40     transfer TP to Dumplocatie         START 1970-01-01 01:26:02.824591   \n44       TP finalize installation         START 1970-01-01 01:28:02.824591   \n46                 sailing filled         START 1970-01-01 01:28:47.824591   \n48  MP preparing for installation         START 1970-01-01 01:28:47.824591   \n50     transfer MP to Dumplocatie         START 1970-01-01 01:29:32.824591   \n54                  Installing MP         START 1970-01-01 01:31:32.824591   \n56        Prepare TP installation         START 1970-01-01 01:32:17.824591   \n58     transfer TP to Dumplocatie         START 1970-01-01 01:33:02.824591   \n62       TP finalize installation         START 1970-01-01 01:35:02.824591   \n64                  sailing empty         START 1970-01-01 01:35:47.824591   \n\n    Value                            ActivityID  \n28      0  e5674d5f-d7e4-43d6-a627-10f12a6d488f  \n30     45  07f17555-6ae2-466e-a1e3-a4d858b5caa2  \n32      1  fcb736cf-b3f4-4a5f-8b99-f8dfec657fe2  \n36     45  98632eff-bf58-4536-ab56-2767815f8e47  \n38     45  b350b682-9e47-4a08-a33a-1edd754adb45  \n40      1  c9d243b0-b0b8-4c8f-a2ea-6f999bda0029  \n44     45  369fba05-02a7-4d9c-a73b-925df6cc259d  \n46      0  e5674d5f-d7e4-43d6-a627-10f12a6d488f  \n48     45  07f17555-6ae2-466e-a1e3-a4d858b5caa2  \n50      1  fcb736cf-b3f4-4a5f-8b99-f8dfec657fe2  \n54     45  98632eff-bf58-4536-ab56-2767815f8e47  \n56     45  b350b682-9e47-4a08-a33a-1edd754adb45  \n58      1  c9d243b0-b0b8-4c8f-a2ea-6f999bda0029  \n62     45  369fba05-02a7-4d9c-a73b-925df6cc259d  \n64      0  846e72e3-8e64-4720-977d-0df00b0cbcaa  ",
      "text/html": "<div>\n<style scoped>\n    .dataframe tbody tr th:only-of-type {\n        vertical-align: middle;\n    }\n\n    .dataframe tbody tr th {\n        vertical-align: top;\n    }\n\n    .dataframe thead th {\n        text-align: right;\n    }\n</style>\n<table border=\"1\" class=\"dataframe\">\n  <thead>\n    <tr style=\"text-align: right;\">\n      <th></th>\n      <th>Message</th>\n      <th>ActivityState</th>\n      <th>Timestamp</th>\n      <th>Value</th>\n      <th>ActivityID</th>\n    </tr>\n  </thead>\n  <tbody>\n    <tr>\n      <th>28</th>\n      <td>sailing filled</td>\n      <td>START</td>\n      <td>1970-01-01 01:21:47.824591</td>\n      <td>0</td>\n      <td>e5674d5f-d7e4-43d6-a627-10f12a6d488f</td>\n    </tr>\n    <tr>\n      <th>30</th>\n      <td>MP preparing for installation</td>\n      <td>START</td>\n      <td>1970-01-01 01:21:47.824591</td>\n      <td>45</td>\n      <td>07f17555-6ae2-466e-a1e3-a4d858b5caa2</td>\n    </tr>\n    <tr>\n      <th>32</th>\n      <td>transfer MP to Dumplocatie</td>\n      <td>START</td>\n      <td>1970-01-01 01:22:32.824591</td>\n      <td>1</td>\n      <td>fcb736cf-b3f4-4a5f-8b99-f8dfec657fe2</td>\n    </tr>\n    <tr>\n      <th>36</th>\n      <td>Installing MP</td>\n      <td>START</td>\n      <td>1970-01-01 01:24:32.824591</td>\n      <td>45</td>\n      <td>98632eff-bf58-4536-ab56-2767815f8e47</td>\n    </tr>\n    <tr>\n      <th>38</th>\n      <td>Prepare TP installation</td>\n      <td>START</td>\n      <td>1970-01-01 01:25:17.824591</td>\n      <td>45</td>\n      <td>b350b682-9e47-4a08-a33a-1edd754adb45</td>\n    </tr>\n    <tr>\n      <th>40</th>\n      <td>transfer TP to Dumplocatie</td>\n      <td>START</td>\n      <td>1970-01-01 01:26:02.824591</td>\n      <td>1</td>\n      <td>c9d243b0-b0b8-4c8f-a2ea-6f999bda0029</td>\n    </tr>\n    <tr>\n      <th>44</th>\n      <td>TP finalize installation</td>\n      <td>START</td>\n      <td>1970-01-01 01:28:02.824591</td>\n      <td>45</td>\n      <td>369fba05-02a7-4d9c-a73b-925df6cc259d</td>\n    </tr>\n    <tr>\n      <th>46</th>\n      <td>sailing filled</td>\n      <td>START</td>\n      <td>1970-01-01 01:28:47.824591</td>\n      <td>0</td>\n      <td>e5674d5f-d7e4-43d6-a627-10f12a6d488f</td>\n    </tr>\n    <tr>\n      <th>48</th>\n      <td>MP preparing for installation</td>\n      <td>START</td>\n      <td>1970-01-01 01:28:47.824591</td>\n      <td>45</td>\n      <td>07f17555-6ae2-466e-a1e3-a4d858b5caa2</td>\n    </tr>\n    <tr>\n      <th>50</th>\n      <td>transfer MP to Dumplocatie</td>\n      <td>START</td>\n      <td>1970-01-01 01:29:32.824591</td>\n      <td>1</td>\n      <td>fcb736cf-b3f4-4a5f-8b99-f8dfec657fe2</td>\n    </tr>\n    <tr>\n      <th>54</th>\n      <td>Installing MP</td>\n      <td>START</td>\n      <td>1970-01-01 01:31:32.824591</td>\n      <td>45</td>\n      <td>98632eff-bf58-4536-ab56-2767815f8e47</td>\n    </tr>\n    <tr>\n      <th>56</th>\n      <td>Prepare TP installation</td>\n      <td>START</td>\n      <td>1970-01-01 01:32:17.824591</td>\n      <td>45</td>\n      <td>b350b682-9e47-4a08-a33a-1edd754adb45</td>\n    </tr>\n    <tr>\n      <th>58</th>\n      <td>transfer TP to Dumplocatie</td>\n      <td>START</td>\n      <td>1970-01-01 01:33:02.824591</td>\n      <td>1</td>\n      <td>c9d243b0-b0b8-4c8f-a2ea-6f999bda0029</td>\n    </tr>\n    <tr>\n      <th>62</th>\n      <td>TP finalize installation</td>\n      <td>START</td>\n      <td>1970-01-01 01:35:02.824591</td>\n      <td>45</td>\n      <td>369fba05-02a7-4d9c-a73b-925df6cc259d</td>\n    </tr>\n    <tr>\n      <th>64</th>\n      <td>sailing empty</td>\n      <td>START</td>\n      <td>1970-01-01 01:35:47.824591</td>\n      <td>0</td>\n      <td>846e72e3-8e64-4720-977d-0df00b0cbcaa</td>\n    </tr>\n  </tbody>\n</table>\n</div>"
     },
     "metadata": {},
     "execution_count": 19
    }
   ],
   "source": [
    "# unloading first run\n",
    "data.iloc[10:25]"
   ]
  },
  {
   "cell_type": "markdown",
   "metadata": {},
   "source": [
    "Log of the high level process"
   ]
  },
  {
   "cell_type": "code",
   "execution_count": 11,
   "metadata": {},
   "outputs": [
    {
     "output_type": "execute_result",
     "data": {
      "text/plain": "                                 Message ActivityState  \\\n0   conditional process single run while         START   \n1         sub process Single run process         START   \n2          sequential Single run process         START   \n3              sub process sailing empty         START   \n4              sub process sailing empty          STOP   \n5                    sub process loading         START   \n6                    sub process loading          STOP   \n7             sub process sailing filled         START   \n8             sub process sailing filled          STOP   \n9            sub process unloading while         START   \n10           sub process unloading while          STOP   \n11         sequential Single run process          STOP   \n12        sub process Single run process          STOP   \n13        sub process Single run process         START   \n14         sequential Single run process         START   \n15             sub process sailing empty         START   \n16             sub process sailing empty          STOP   \n17                   sub process loading         START   \n18                   sub process loading          STOP   \n19            sub process sailing filled         START   \n20            sub process sailing filled          STOP   \n21           sub process unloading while         START   \n22           sub process unloading while          STOP   \n23         sequential Single run process          STOP   \n24        sub process Single run process          STOP   \n25        sub process Single run process         START   \n26         sequential Single run process         START   \n27             sub process sailing empty         START   \n28             sub process sailing empty          STOP   \n29                   sub process loading         START   \n30                   sub process loading          STOP   \n31            sub process sailing filled         START   \n32            sub process sailing filled          STOP   \n33           sub process unloading while         START   \n34           sub process unloading while          STOP   \n35         sequential Single run process          STOP   \n36        sub process Single run process          STOP   \n37  conditional process single run while          STOP   \n\n                    Timestamp  Value                            ActivityID  \n0  1970-01-01 01:00:00.000000     -1  c556d006-18cb-4fcf-bc08-904ee4eb88eb  \n1  1970-01-01 01:00:00.000000     -1  c556d006-18cb-4fcf-bc08-904ee4eb88eb  \n2  1970-01-01 01:00:00.000000     -1  c556d006-18cb-4fcf-bc08-904ee4eb88eb  \n3  1970-01-01 01:00:00.000000     -1  c556d006-18cb-4fcf-bc08-904ee4eb88eb  \n4  1970-01-01 01:00:00.000000     -1  c556d006-18cb-4fcf-bc08-904ee4eb88eb  \n5  1970-01-01 01:00:00.000000     -1  c556d006-18cb-4fcf-bc08-904ee4eb88eb  \n6  1970-01-01 01:06:05.000000     -1  c556d006-18cb-4fcf-bc08-904ee4eb88eb  \n7  1970-01-01 01:06:05.000000     -1  c556d006-18cb-4fcf-bc08-904ee4eb88eb  \n8  1970-01-01 01:21:47.824591     -1  c556d006-18cb-4fcf-bc08-904ee4eb88eb  \n9  1970-01-01 01:21:47.824591     -1  c556d006-18cb-4fcf-bc08-904ee4eb88eb  \n10 1970-01-01 01:35:47.824591     -1  c556d006-18cb-4fcf-bc08-904ee4eb88eb  \n11 1970-01-01 01:35:47.824591     -1  c556d006-18cb-4fcf-bc08-904ee4eb88eb  \n12 1970-01-01 01:35:47.824591     -1  c556d006-18cb-4fcf-bc08-904ee4eb88eb  \n13 1970-01-01 01:35:47.824591     -1  c556d006-18cb-4fcf-bc08-904ee4eb88eb  \n14 1970-01-01 01:35:47.824591     -1  c556d006-18cb-4fcf-bc08-904ee4eb88eb  \n15 1970-01-01 01:35:47.824591     -1  c556d006-18cb-4fcf-bc08-904ee4eb88eb  \n16 1970-01-01 01:51:30.649183     -1  c556d006-18cb-4fcf-bc08-904ee4eb88eb  \n17 1970-01-01 01:51:30.649183     -1  c556d006-18cb-4fcf-bc08-904ee4eb88eb  \n18 1970-01-01 01:57:35.649183     -1  c556d006-18cb-4fcf-bc08-904ee4eb88eb  \n19 1970-01-01 01:57:35.649183     -1  c556d006-18cb-4fcf-bc08-904ee4eb88eb  \n20 1970-01-01 02:13:18.473774     -1  c556d006-18cb-4fcf-bc08-904ee4eb88eb  \n21 1970-01-01 02:13:18.473774     -1  c556d006-18cb-4fcf-bc08-904ee4eb88eb  \n22 1970-01-01 02:27:18.473774     -1  c556d006-18cb-4fcf-bc08-904ee4eb88eb  \n23 1970-01-01 02:27:18.473774     -1  c556d006-18cb-4fcf-bc08-904ee4eb88eb  \n24 1970-01-01 02:27:18.473774     -1  c556d006-18cb-4fcf-bc08-904ee4eb88eb  \n25 1970-01-01 02:27:18.473774     -1  c556d006-18cb-4fcf-bc08-904ee4eb88eb  \n26 1970-01-01 02:27:18.473774     -1  c556d006-18cb-4fcf-bc08-904ee4eb88eb  \n27 1970-01-01 02:27:18.473774     -1  c556d006-18cb-4fcf-bc08-904ee4eb88eb  \n28 1970-01-01 02:43:01.298365     -1  c556d006-18cb-4fcf-bc08-904ee4eb88eb  \n29 1970-01-01 02:43:01.298365     -1  c556d006-18cb-4fcf-bc08-904ee4eb88eb  \n30 1970-01-01 02:46:56.298365     -1  c556d006-18cb-4fcf-bc08-904ee4eb88eb  \n31 1970-01-01 02:46:56.298365     -1  c556d006-18cb-4fcf-bc08-904ee4eb88eb  \n32 1970-01-01 03:02:39.122956     -1  c556d006-18cb-4fcf-bc08-904ee4eb88eb  \n33 1970-01-01 03:02:39.122956     -1  c556d006-18cb-4fcf-bc08-904ee4eb88eb  \n34 1970-01-01 03:09:39.122956     -1  c556d006-18cb-4fcf-bc08-904ee4eb88eb  \n35 1970-01-01 03:09:39.122956     -1  c556d006-18cb-4fcf-bc08-904ee4eb88eb  \n36 1970-01-01 03:09:39.122956     -1  c556d006-18cb-4fcf-bc08-904ee4eb88eb  \n37 1970-01-01 03:09:39.122956     -1  c556d006-18cb-4fcf-bc08-904ee4eb88eb  ",
      "text/html": "<div>\n<style scoped>\n    .dataframe tbody tr th:only-of-type {\n        vertical-align: middle;\n    }\n\n    .dataframe tbody tr th {\n        vertical-align: top;\n    }\n\n    .dataframe thead th {\n        text-align: right;\n    }\n</style>\n<table border=\"1\" class=\"dataframe\">\n  <thead>\n    <tr style=\"text-align: right;\">\n      <th></th>\n      <th>Message</th>\n      <th>ActivityState</th>\n      <th>Timestamp</th>\n      <th>Value</th>\n      <th>ActivityID</th>\n    </tr>\n  </thead>\n  <tbody>\n    <tr>\n      <th>0</th>\n      <td>conditional process single run while</td>\n      <td>START</td>\n      <td>1970-01-01 01:00:00.000000</td>\n      <td>-1</td>\n      <td>c556d006-18cb-4fcf-bc08-904ee4eb88eb</td>\n    </tr>\n    <tr>\n      <th>1</th>\n      <td>sub process Single run process</td>\n      <td>START</td>\n      <td>1970-01-01 01:00:00.000000</td>\n      <td>-1</td>\n      <td>c556d006-18cb-4fcf-bc08-904ee4eb88eb</td>\n    </tr>\n    <tr>\n      <th>2</th>\n      <td>sequential Single run process</td>\n      <td>START</td>\n      <td>1970-01-01 01:00:00.000000</td>\n      <td>-1</td>\n      <td>c556d006-18cb-4fcf-bc08-904ee4eb88eb</td>\n    </tr>\n    <tr>\n      <th>3</th>\n      <td>sub process sailing empty</td>\n      <td>START</td>\n      <td>1970-01-01 01:00:00.000000</td>\n      <td>-1</td>\n      <td>c556d006-18cb-4fcf-bc08-904ee4eb88eb</td>\n    </tr>\n    <tr>\n      <th>4</th>\n      <td>sub process sailing empty</td>\n      <td>STOP</td>\n      <td>1970-01-01 01:00:00.000000</td>\n      <td>-1</td>\n      <td>c556d006-18cb-4fcf-bc08-904ee4eb88eb</td>\n    </tr>\n    <tr>\n      <th>5</th>\n      <td>sub process loading</td>\n      <td>START</td>\n      <td>1970-01-01 01:00:00.000000</td>\n      <td>-1</td>\n      <td>c556d006-18cb-4fcf-bc08-904ee4eb88eb</td>\n    </tr>\n    <tr>\n      <th>6</th>\n      <td>sub process loading</td>\n      <td>STOP</td>\n      <td>1970-01-01 01:06:05.000000</td>\n      <td>-1</td>\n      <td>c556d006-18cb-4fcf-bc08-904ee4eb88eb</td>\n    </tr>\n    <tr>\n      <th>7</th>\n      <td>sub process sailing filled</td>\n      <td>START</td>\n      <td>1970-01-01 01:06:05.000000</td>\n      <td>-1</td>\n      <td>c556d006-18cb-4fcf-bc08-904ee4eb88eb</td>\n    </tr>\n    <tr>\n      <th>8</th>\n      <td>sub process sailing filled</td>\n      <td>STOP</td>\n      <td>1970-01-01 01:21:47.824591</td>\n      <td>-1</td>\n      <td>c556d006-18cb-4fcf-bc08-904ee4eb88eb</td>\n    </tr>\n    <tr>\n      <th>9</th>\n      <td>sub process unloading while</td>\n      <td>START</td>\n      <td>1970-01-01 01:21:47.824591</td>\n      <td>-1</td>\n      <td>c556d006-18cb-4fcf-bc08-904ee4eb88eb</td>\n    </tr>\n    <tr>\n      <th>10</th>\n      <td>sub process unloading while</td>\n      <td>STOP</td>\n      <td>1970-01-01 01:35:47.824591</td>\n      <td>-1</td>\n      <td>c556d006-18cb-4fcf-bc08-904ee4eb88eb</td>\n    </tr>\n    <tr>\n      <th>11</th>\n      <td>sequential Single run process</td>\n      <td>STOP</td>\n      <td>1970-01-01 01:35:47.824591</td>\n      <td>-1</td>\n      <td>c556d006-18cb-4fcf-bc08-904ee4eb88eb</td>\n    </tr>\n    <tr>\n      <th>12</th>\n      <td>sub process Single run process</td>\n      <td>STOP</td>\n      <td>1970-01-01 01:35:47.824591</td>\n      <td>-1</td>\n      <td>c556d006-18cb-4fcf-bc08-904ee4eb88eb</td>\n    </tr>\n    <tr>\n      <th>13</th>\n      <td>sub process Single run process</td>\n      <td>START</td>\n      <td>1970-01-01 01:35:47.824591</td>\n      <td>-1</td>\n      <td>c556d006-18cb-4fcf-bc08-904ee4eb88eb</td>\n    </tr>\n    <tr>\n      <th>14</th>\n      <td>sequential Single run process</td>\n      <td>START</td>\n      <td>1970-01-01 01:35:47.824591</td>\n      <td>-1</td>\n      <td>c556d006-18cb-4fcf-bc08-904ee4eb88eb</td>\n    </tr>\n    <tr>\n      <th>15</th>\n      <td>sub process sailing empty</td>\n      <td>START</td>\n      <td>1970-01-01 01:35:47.824591</td>\n      <td>-1</td>\n      <td>c556d006-18cb-4fcf-bc08-904ee4eb88eb</td>\n    </tr>\n    <tr>\n      <th>16</th>\n      <td>sub process sailing empty</td>\n      <td>STOP</td>\n      <td>1970-01-01 01:51:30.649183</td>\n      <td>-1</td>\n      <td>c556d006-18cb-4fcf-bc08-904ee4eb88eb</td>\n    </tr>\n    <tr>\n      <th>17</th>\n      <td>sub process loading</td>\n      <td>START</td>\n      <td>1970-01-01 01:51:30.649183</td>\n      <td>-1</td>\n      <td>c556d006-18cb-4fcf-bc08-904ee4eb88eb</td>\n    </tr>\n    <tr>\n      <th>18</th>\n      <td>sub process loading</td>\n      <td>STOP</td>\n      <td>1970-01-01 01:57:35.649183</td>\n      <td>-1</td>\n      <td>c556d006-18cb-4fcf-bc08-904ee4eb88eb</td>\n    </tr>\n    <tr>\n      <th>19</th>\n      <td>sub process sailing filled</td>\n      <td>START</td>\n      <td>1970-01-01 01:57:35.649183</td>\n      <td>-1</td>\n      <td>c556d006-18cb-4fcf-bc08-904ee4eb88eb</td>\n    </tr>\n    <tr>\n      <th>20</th>\n      <td>sub process sailing filled</td>\n      <td>STOP</td>\n      <td>1970-01-01 02:13:18.473774</td>\n      <td>-1</td>\n      <td>c556d006-18cb-4fcf-bc08-904ee4eb88eb</td>\n    </tr>\n    <tr>\n      <th>21</th>\n      <td>sub process unloading while</td>\n      <td>START</td>\n      <td>1970-01-01 02:13:18.473774</td>\n      <td>-1</td>\n      <td>c556d006-18cb-4fcf-bc08-904ee4eb88eb</td>\n    </tr>\n    <tr>\n      <th>22</th>\n      <td>sub process unloading while</td>\n      <td>STOP</td>\n      <td>1970-01-01 02:27:18.473774</td>\n      <td>-1</td>\n      <td>c556d006-18cb-4fcf-bc08-904ee4eb88eb</td>\n    </tr>\n    <tr>\n      <th>23</th>\n      <td>sequential Single run process</td>\n      <td>STOP</td>\n      <td>1970-01-01 02:27:18.473774</td>\n      <td>-1</td>\n      <td>c556d006-18cb-4fcf-bc08-904ee4eb88eb</td>\n    </tr>\n    <tr>\n      <th>24</th>\n      <td>sub process Single run process</td>\n      <td>STOP</td>\n      <td>1970-01-01 02:27:18.473774</td>\n      <td>-1</td>\n      <td>c556d006-18cb-4fcf-bc08-904ee4eb88eb</td>\n    </tr>\n    <tr>\n      <th>25</th>\n      <td>sub process Single run process</td>\n      <td>START</td>\n      <td>1970-01-01 02:27:18.473774</td>\n      <td>-1</td>\n      <td>c556d006-18cb-4fcf-bc08-904ee4eb88eb</td>\n    </tr>\n    <tr>\n      <th>26</th>\n      <td>sequential Single run process</td>\n      <td>START</td>\n      <td>1970-01-01 02:27:18.473774</td>\n      <td>-1</td>\n      <td>c556d006-18cb-4fcf-bc08-904ee4eb88eb</td>\n    </tr>\n    <tr>\n      <th>27</th>\n      <td>sub process sailing empty</td>\n      <td>START</td>\n      <td>1970-01-01 02:27:18.473774</td>\n      <td>-1</td>\n      <td>c556d006-18cb-4fcf-bc08-904ee4eb88eb</td>\n    </tr>\n    <tr>\n      <th>28</th>\n      <td>sub process sailing empty</td>\n      <td>STOP</td>\n      <td>1970-01-01 02:43:01.298365</td>\n      <td>-1</td>\n      <td>c556d006-18cb-4fcf-bc08-904ee4eb88eb</td>\n    </tr>\n    <tr>\n      <th>29</th>\n      <td>sub process loading</td>\n      <td>START</td>\n      <td>1970-01-01 02:43:01.298365</td>\n      <td>-1</td>\n      <td>c556d006-18cb-4fcf-bc08-904ee4eb88eb</td>\n    </tr>\n    <tr>\n      <th>30</th>\n      <td>sub process loading</td>\n      <td>STOP</td>\n      <td>1970-01-01 02:46:56.298365</td>\n      <td>-1</td>\n      <td>c556d006-18cb-4fcf-bc08-904ee4eb88eb</td>\n    </tr>\n    <tr>\n      <th>31</th>\n      <td>sub process sailing filled</td>\n      <td>START</td>\n      <td>1970-01-01 02:46:56.298365</td>\n      <td>-1</td>\n      <td>c556d006-18cb-4fcf-bc08-904ee4eb88eb</td>\n    </tr>\n    <tr>\n      <th>32</th>\n      <td>sub process sailing filled</td>\n      <td>STOP</td>\n      <td>1970-01-01 03:02:39.122956</td>\n      <td>-1</td>\n      <td>c556d006-18cb-4fcf-bc08-904ee4eb88eb</td>\n    </tr>\n    <tr>\n      <th>33</th>\n      <td>sub process unloading while</td>\n      <td>START</td>\n      <td>1970-01-01 03:02:39.122956</td>\n      <td>-1</td>\n      <td>c556d006-18cb-4fcf-bc08-904ee4eb88eb</td>\n    </tr>\n    <tr>\n      <th>34</th>\n      <td>sub process unloading while</td>\n      <td>STOP</td>\n      <td>1970-01-01 03:09:39.122956</td>\n      <td>-1</td>\n      <td>c556d006-18cb-4fcf-bc08-904ee4eb88eb</td>\n    </tr>\n    <tr>\n      <th>35</th>\n      <td>sequential Single run process</td>\n      <td>STOP</td>\n      <td>1970-01-01 03:09:39.122956</td>\n      <td>-1</td>\n      <td>c556d006-18cb-4fcf-bc08-904ee4eb88eb</td>\n    </tr>\n    <tr>\n      <th>36</th>\n      <td>sub process Single run process</td>\n      <td>STOP</td>\n      <td>1970-01-01 03:09:39.122956</td>\n      <td>-1</td>\n      <td>c556d006-18cb-4fcf-bc08-904ee4eb88eb</td>\n    </tr>\n    <tr>\n      <th>37</th>\n      <td>conditional process single run while</td>\n      <td>STOP</td>\n      <td>1970-01-01 03:09:39.122956</td>\n      <td>-1</td>\n      <td>c556d006-18cb-4fcf-bc08-904ee4eb88eb</td>\n    </tr>\n  </tbody>\n</table>\n</div>"
     },
     "metadata": {},
     "execution_count": 11
    }
   ],
   "source": [
    "while_log_df = pd.DataFrame(while_activity.log)\n",
    "while_data = while_log_df[[\"Message\", \"ActivityState\", \"Timestamp\", \"Value\", \"ActivityID\"]]\n",
    "while_data = while_data.drop_duplicates()\n",
    "#while_data = while_data[data['ActivityState']=='START']\n",
    "while_data"
   ]
  },
  {
   "cell_type": "code",
   "execution_count": null,
   "metadata": {},
   "outputs": [],
   "source": []
  }
 ],
 "metadata": {
  "language_info": {
   "codemirror_mode": {
    "name": "ipython",
    "version": 3
   },
   "file_extension": ".py",
   "mimetype": "text/x-python",
   "name": "python",
   "nbconvert_exporter": "python",
   "pygments_lexer": "ipython3",
   "version": "3.7.7-final"
  },
  "orig_nbformat": 2,
  "kernelspec": {
   "name": "python3",
   "display_name": "Python 3"
  }
 },
 "nbformat": 4,
 "nbformat_minor": 2
}