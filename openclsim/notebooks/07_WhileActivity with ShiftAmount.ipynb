{
 "cells": [
  {
   "cell_type": "markdown",
   "metadata": {},
   "source": [
    "# Demo While Activity with ShiftAmount Activity\n",
    "The combination of a while activity with a shift amount activity can be used to represent the loading or unloading of a vessel, where coordination of the process is represented on the granularity of the amount shifted in one iteration."
   ]
  },
  {
   "cell_type": "code",
   "execution_count": 1,
   "metadata": {},
   "outputs": [],
   "source": [
    "import datetime, time\n",
    "import simpy\n",
    "\n",
    "import shapely.geometry\n",
    "from simplekml import Kml, Style\n",
    "\n",
    "import pandas as pd\n",
    "import openclsim.core as core\n",
    "import openclsim.model as model\n",
    "import openclsim.plot as plot\n",
    "\n",
    "# setup environment\n",
    "simulation_start = 0\n",
    "my_env = simpy.Environment(initial_time=simulation_start)\n",
    "registry = {}"
   ]
  },
  {
   "cell_type": "markdown",
   "metadata": {},
   "source": [
    "## Definition of Sites"
   ]
  },
  {
   "cell_type": "code",
   "execution_count": 2,
   "metadata": {},
   "outputs": [
    {
     "output_type": "stream",
     "name": "stdout",
     "text": "init\nlevel: 2\ncompleted init\ninit\nlevel: 0\ncompleted init\n"
    }
   ],
   "source": [
    "# The generic site class\n",
    "Site = type(\n",
    "    \"Site\",\n",
    "    (\n",
    "        core.Identifiable,  # Give it a name\n",
    "        core.Log,  # Allow logging of all discrete events\n",
    "        core.Locatable,  # Add coordinates to extract distance information and visualize\n",
    "        core.HasContainer,  # Add information on the material available at the site\n",
    "        core.HasResource,\n",
    "    ),  # Add information on serving equipment\n",
    "    {},\n",
    ")  # The dictionary is empty because the site type is generic\n",
    "\n",
    "# Information on the extraction site - the \"from site\" - the \"win locatie\"\n",
    "location_from_site = shapely.geometry.Point(4.18055556, 52.18664444)  # lon, lat\n",
    "\n",
    "data_from_site = {\n",
    "    \"env\": my_env,  # The simpy environment defined in the first cel\n",
    "    \"name\": \"Winlocatie\",  # The name of the site\n",
    "    \"ID\": \"6dbbbdf4-4589-11e9-a501-b469212bff5b\",  # For logging purposes\n",
    "    \"geometry\": location_from_site,  # The coordinates of the project site\n",
    "    \"capacity\": 10,  # The capacity of the site\n",
    "    \"level\": 2,\n",
    "}  # The actual volume of the site\n",
    "\n",
    "# Information on the dumping site - the \"to site\" - the \"dump locatie\"\n",
    "location_to_site = shapely.geometry.Point(4.25222222, 52.11428333)  # lon, lat\n",
    "\n",
    "data_to_site = {\n",
    "    \"env\": my_env,  # The simpy environment defined in the first cel\n",
    "    \"name\": \"Dumplocatie\",  # The name of the site\n",
    "    \"ID\": \"6dbbbdf5-4589-11e9-82b2-b469212bff5b\",  # For logging purposes\n",
    "    \"geometry\": location_to_site,  # The coordinates of the project site\n",
    "    \"capacity\": 10,  # The capacity of the site\n",
    "    \"level\": 0,\n",
    "}  # The actual volume of the site (empty of course)\n",
    "\n",
    "# The two objects used for the simulation\n",
    "from_site = Site(**data_from_site)\n",
    "to_site = Site(**data_to_site)"
   ]
  },
  {
   "cell_type": "markdown",
   "metadata": {},
   "source": [
    "## Creation of Vessel"
   ]
  },
  {
   "cell_type": "code",
   "execution_count": 3,
   "metadata": {},
   "outputs": [
    {
     "output_type": "stream",
     "name": "stdout",
     "text": "init\nlevel: 0\ncompleted init\n"
    }
   ],
   "source": [
    "# The generic class for an object that can move and transport (a TSHD for example)\n",
    "TransportProcessingResource = type(\n",
    "    \"TransportProcessingResource\",\n",
    "    (\n",
    "        core.Identifiable,  # Give it a name\n",
    "        core.Log,  # Allow logging of all discrete events\n",
    "        core.ContainerDependentMovable,  # A moving container, so capacity and location\n",
    "        core.Processor,  # Allow for loading and unloading\n",
    "        core.HasResource,  # Add information on serving equipment\n",
    "        core.HasCosts,  # Add information on costs\n",
    "        core.LoadingFunction,  # Add a loading function\n",
    "        core.UnloadingFunction,  # Add an unloading function\n",
    "    ),\n",
    "    {},\n",
    ")\n",
    "\n",
    "# For more realistic simulation you might want to have speed dependent on the volume carried by the vessel\n",
    "def compute_v_provider(v_empty, v_full):\n",
    "    return lambda x: 10\n",
    "\n",
    "# TSHD variables\n",
    "data_hopper = {\n",
    "    \"env\": my_env,  # The simpy environment\n",
    "    \"name\": \"Hopper 01\",  # Name\n",
    "    \"ID\": \"6dbbbdf6-4589-11e9-95a2-b469212bff5b\",  # For logging purposes\n",
    "    \"geometry\": location_from_site,  # It starts at the \"from site\"\n",
    "    \"loading_rate\": 1,  # Loading rate\n",
    "    \"unloading_rate\": 1,  # Unloading rate\n",
    "    \"capacity\": 5,  # Capacity of the hopper - \"Beunvolume\"\n",
    "    \"compute_v\": compute_v_provider(5, 4.5),  # Variable speed\n",
    "    \"weekrate\": 7,\n",
    "}\n",
    "\n",
    "hopper = TransportProcessingResource(**data_hopper)"
   ]
  },
  {
   "cell_type": "markdown",
   "metadata": {},
   "source": [
    "## Definition of Shift Amount activity"
   ]
  },
  {
   "cell_type": "code",
   "execution_count": 4,
   "metadata": {},
   "outputs": [
    {
     "output_type": "stream",
     "name": "stdout",
     "text": "get_full_event : default\nstart get_available\nstart event instance None\n"
    }
   ],
   "source": [
    "shift_amount_activity_loading_data = {\n",
    "    \"env\": my_env,  # The simpy environment defined in the first cel\n",
    "    \"name\": \"Transfer MP\",  # We are moving soil\n",
    "    \"ID\": \"6dbbbdf7-4589-11e9-bf3b-b469212bff52\",  # For logging purposes\n",
    "    \"registry\": registry,\n",
    "    \"processor\": hopper,\n",
    "    \"origin\": from_site,\n",
    "    \"destination\": hopper,\n",
    "    \"amount\": 1,\n",
    "    \"duration\": 20,\n",
    "    \"postpone_start\": True,\n",
    "}\n",
    "activity = model.ShiftAmountActivity(**shift_amount_activity_loading_data)\n",
    "\n",
    "while_data = {\n",
    "    \"env\": my_env,  # The simpy environment defined in the first cel\n",
    "    \"name\": \"while\",  # We are moving soil\n",
    "    \"ID\": \"6dbbbdf7-4589-11e9-bf3b-b469212bff5g\",  # For logging purposes\n",
    "    \"registry\": registry,\n",
    "    \"sub_process\": activity,\n",
    "    \"condition_event\": [{\"type\":\"container\", \"concept\": hopper, \"state\":\"full\"}],\n",
    "    \"postpone_start\": False,\n",
    "}\n",
    "while_activity = model.WhileActivity(**while_data)\n"
   ]
  },
  {
   "cell_type": "markdown",
   "metadata": {},
   "source": [
    "## Run simulation"
   ]
  },
  {
   "cell_type": "code",
   "execution_count": 5,
   "metadata": {},
   "outputs": [
    {
     "output_type": "stream",
     "name": "stdout",
     "text": "<openclsim.model.ShiftAmountActivity object at 0x0000027A3F0695C8>\nconditional \nstart event instance None\nstart : {}\n{'origin.6dbbbdf4-4589-11e9-a501-b469212bff5b': 2, 'destination.6dbbbdf6-4589-11e9-95a2-b469212bff5b': 5}\nput_callback - id_ default\n{}\nput_callback - id_ default\n{}\nput_callback - id_ default\n{'default': {5: <Event() object at 0x27a3f069a88>}}\namount :5\ndestination request : {<simpy.resources.resource.Resource object at 0x0000027A3F067A08>: <Request() object at 0x27a3ea83088>}\nstart get_available\nprocessor request : {<simpy.resources.resource.Resource object at 0x0000027A3F067A08>: <Request() object at 0x27a3ea83088>}\nsite request : {<simpy.resources.resource.Resource object at 0x0000027A3F067A08>: <Request() object at 0x27a3ea83088>, <simpy.resources.resource.Resource object at 0x0000027A3F067088>: <Request() object at 0x27a3ea832c8>}\nend requestIfAvailable : {<simpy.resources.resource.Resource object at 0x0000027A3F067A08>: <Request() object at 0x27a3ea83088>, <simpy.resources.resource.Resource object at 0x0000027A3F067088>: <Request() object at 0x27a3ea832c8>}\nafter req resource if available : {<simpy.resources.resource.Resource object at 0x0000027A3F067A08>: <Request() object at 0x27a3ea83088>, <simpy.resources.resource.Resource object at 0x0000027A3F067088>: <Request() object at 0x27a3ea832c8>}\n_shift_amount\nstart _shift_amount\namount 1\nprocessor start process\ntransfer default to Hopper 01\nprocessor process without rate\norigin store before get: [{'id': 'default', 'level': 2, 'capacity': 10}]\nstart get 1\nstore_status {'id': 'default', 'level': 2, 'capacity': 10}\nend get 1\nget_callback - id_ <StorePut() object at 0x27a3f067b48>\nstart get_callback\n{}\norigin store after get: [{'id': 'default', 'level': 1, 'capacity': 10}]\nafter get\nafter check_down time\ndestination store before put: [{'id': 'default', 'level': 0, 'capacity': 5}]\n<FilterStoreGet() object at 0x27a3f067b48>\nput_callback - id_ default\n{'default': {5: <Event() object at 0x27a3f069a88>}}\namount :5\ndestination store after put: [{'id': 'default', 'level': 1, 'capacity': 5}]\nafter put\nprocessor end process\nProcessed 1 of default:\n  by:          Hopper 01\n  origin        Winlocatie  contains: 1 of default\n  destination:  Hopper 01 contains: 1 of default\nafter shift amount : {<simpy.resources.resource.Resource object at 0x0000027A3F067A08>: <Request() object at 0x27a3ea83088>, <simpy.resources.resource.Resource object at 0x0000027A3F067088>: <Request() object at 0x27a3ea832c8>}\nkeep resources []\nrelease destination : {<simpy.resources.resource.Resource object at 0x0000027A3F067088>: <Request() object at 0x27a3ea832c8>}\nreleased origin : {}\nreleased processor : {}\nActivity end()\ncondition event triggered: False False round 0\n<openclsim.model.ShiftAmountActivity object at 0x0000027A3F0695C8>\nconditional \nstart event instance None\nstart : {}\n{'origin.6dbbbdf4-4589-11e9-a501-b469212bff5b': 1, 'destination.6dbbbdf6-4589-11e9-95a2-b469212bff5b': 4}\ndestination request : {<simpy.resources.resource.Resource object at 0x0000027A3F067A08>: <Request() object at 0x27a37684bc8>}\nstart get_available\nprocessor request : {<simpy.resources.resource.Resource object at 0x0000027A3F067A08>: <Request() object at 0x27a37684bc8>}\nsite request : {<simpy.resources.resource.Resource object at 0x0000027A3F067A08>: <Request() object at 0x27a37684bc8>, <simpy.resources.resource.Resource object at 0x0000027A3F067088>: <Request() object at 0x27a3f067888>}\nend requestIfAvailable : {<simpy.resources.resource.Resource object at 0x0000027A3F067A08>: <Request() object at 0x27a37684bc8>, <simpy.resources.resource.Resource object at 0x0000027A3F067088>: <Request() object at 0x27a3f067888>}\nafter req resource if available : {<simpy.resources.resource.Resource object at 0x0000027A3F067A08>: <Request() object at 0x27a37684bc8>, <simpy.resources.resource.Resource object at 0x0000027A3F067088>: <Request() object at 0x27a3f067888>}\n_shift_amount\nstart _shift_amount\namount 1\nprocessor start process\ntransfer default to Hopper 01\nprocessor process without rate\norigin store before get: [{'id': 'default', 'level': 1, 'capacity': 10}]\nstart get 1\nstore_status {'id': 'default', 'level': 1, 'capacity': 10}\nend get 1\nget_callback - id_ <StorePut() object at 0x27a3f067dc8>\nstart get_callback\n{}\norigin store after get: [{'id': 'default', 'level': 0, 'capacity': 10}]\nafter get\nafter check_down time\ndestination store before put: [{'id': 'default', 'level': 1, 'capacity': 5}]\n<FilterStoreGet() object at 0x27a3f067dc8>\nput_callback - id_ default\n{'default': {5: <Event() object at 0x27a3f069a88>}}\namount :5\ndestination store after put: [{'id': 'default', 'level': 2, 'capacity': 5}]\nafter put\nprocessor end process\nProcessed 1 of default:\n  by:          Hopper 01\n  origin        Winlocatie  contains: 0 of default\n  destination:  Hopper 01 contains: 2 of default\nafter shift amount : {<simpy.resources.resource.Resource object at 0x0000027A3F067A08>: <Request() object at 0x27a37684bc8>, <simpy.resources.resource.Resource object at 0x0000027A3F067088>: <Request() object at 0x27a3f067888>}\nkeep resources []\nrelease destination : {<simpy.resources.resource.Resource object at 0x0000027A3F067088>: <Request() object at 0x27a3f067888>}\nreleased origin : {}\nreleased processor : {}\nActivity end()\ncondition event triggered: False False round 1\n<openclsim.model.ShiftAmountActivity object at 0x0000027A3F0695C8>\nconditional \nstart event instance None\nstart : {}\n{'origin.6dbbbdf4-4589-11e9-a501-b469212bff5b': 0, 'destination.6dbbbdf6-4589-11e9-95a2-b469212bff5b': 3}\n"
    },
    {
     "output_type": "error",
     "ename": "RuntimeError",
     "evalue": "Attempting to shift content from an empty origin or to a full destination. ({'origin.6dbbbdf4-4589-11e9-a501-b469212bff5b': 0, 'destination.6dbbbdf6-4589-11e9-95a2-b469212bff5b': 3})",
     "traceback": [
      "\u001b[1;31m---------------------------------------------------------------------------\u001b[0m",
      "\u001b[1;31mRuntimeError\u001b[0m                              Traceback (most recent call last)",
      "\u001b[1;32m~\\anaconda3\\envs\\vo\\lib\\site-packages\\openclsim\\model.py\u001b[0m in \u001b[0;36mconditional_process\u001b[1;34m(activity_log, env, condition_event, sub_process, name, requested_resources, keep_resources)\u001b[0m\n\u001b[0;32m    711\u001b[0m         \u001b[0msub_process\u001b[0m\u001b[1;33m.\u001b[0m\u001b[0mstart\u001b[0m\u001b[1;33m(\u001b[0m\u001b[1;33m)\u001b[0m\u001b[1;33m\u001b[0m\u001b[1;33m\u001b[0m\u001b[0m\n\u001b[1;32m--> 712\u001b[1;33m         \u001b[1;32myield\u001b[0m \u001b[1;32mfrom\u001b[0m \u001b[0msub_process\u001b[0m\u001b[1;33m.\u001b[0m\u001b[0mcall_main_proc\u001b[0m\u001b[1;33m(\u001b[0m\u001b[0mactivity_log\u001b[0m\u001b[1;33m=\u001b[0m\u001b[0mactivity_log\u001b[0m\u001b[1;33m,\u001b[0m \u001b[0menv\u001b[0m\u001b[1;33m=\u001b[0m\u001b[0menv\u001b[0m\u001b[1;33m)\u001b[0m\u001b[1;33m\u001b[0m\u001b[1;33m\u001b[0m\u001b[0m\n\u001b[0m\u001b[0;32m    713\u001b[0m         \u001b[0msub_process\u001b[0m\u001b[1;33m.\u001b[0m\u001b[0mend\u001b[0m\u001b[1;33m(\u001b[0m\u001b[1;33m)\u001b[0m\u001b[1;33m\u001b[0m\u001b[1;33m\u001b[0m\u001b[0m\n",
      "\u001b[1;32m~\\anaconda3\\envs\\vo\\lib\\site-packages\\openclsim\\model.py\u001b[0m in \u001b[0;36mshift_amount_process\u001b[1;34m(activity_log, env, processor, origin, destination, name, duration, amount, requested_resources, keep_resources, id_, engine_order, stop_reservation_waiting_event)\u001b[0m\n\u001b[0;32m   1002\u001b[0m         raise RuntimeError(\n\u001b[1;32m-> 1003\u001b[1;33m             \u001b[1;34mf\"Attempting to shift content from an empty origin or to a full destination. ({all_amounts})\"\u001b[0m\u001b[1;33m\u001b[0m\u001b[1;33m\u001b[0m\u001b[0m\n\u001b[0m\u001b[0;32m   1004\u001b[0m         )\n",
      "\u001b[1;31mRuntimeError\u001b[0m: Attempting to shift content from an empty origin or to a full destination. ({'origin.6dbbbdf4-4589-11e9-a501-b469212bff5b': 0, 'destination.6dbbbdf6-4589-11e9-95a2-b469212bff5b': 3})",
      "\nThe above exception was the direct cause of the following exception:\n",
      "\u001b[1;31mRuntimeError\u001b[0m                              Traceback (most recent call last)",
      "\u001b[1;32m<ipython-input-5-cf25dcac65e6>\u001b[0m in \u001b[0;36m<module>\u001b[1;34m\u001b[0m\n\u001b[1;32m----> 1\u001b[1;33m \u001b[0mmy_env\u001b[0m\u001b[1;33m.\u001b[0m\u001b[0mrun\u001b[0m\u001b[1;33m(\u001b[0m\u001b[1;33m)\u001b[0m\u001b[1;33m\u001b[0m\u001b[1;33m\u001b[0m\u001b[0m\n\u001b[0m",
      "\u001b[1;32m~\\anaconda3\\envs\\vo\\lib\\site-packages\\simpy\\core.py\u001b[0m in \u001b[0;36mrun\u001b[1;34m(self, until)\u001b[0m\n\u001b[0;32m    252\u001b[0m         \u001b[1;32mtry\u001b[0m\u001b[1;33m:\u001b[0m\u001b[1;33m\u001b[0m\u001b[1;33m\u001b[0m\u001b[0m\n\u001b[0;32m    253\u001b[0m             \u001b[1;32mwhile\u001b[0m \u001b[1;32mTrue\u001b[0m\u001b[1;33m:\u001b[0m\u001b[1;33m\u001b[0m\u001b[1;33m\u001b[0m\u001b[0m\n\u001b[1;32m--> 254\u001b[1;33m                 \u001b[0mself\u001b[0m\u001b[1;33m.\u001b[0m\u001b[0mstep\u001b[0m\u001b[1;33m(\u001b[0m\u001b[1;33m)\u001b[0m\u001b[1;33m\u001b[0m\u001b[1;33m\u001b[0m\u001b[0m\n\u001b[0m\u001b[0;32m    255\u001b[0m         \u001b[1;32mexcept\u001b[0m \u001b[0mStopSimulation\u001b[0m \u001b[1;32mas\u001b[0m \u001b[0mexc\u001b[0m\u001b[1;33m:\u001b[0m\u001b[1;33m\u001b[0m\u001b[1;33m\u001b[0m\u001b[0m\n\u001b[0;32m    256\u001b[0m             \u001b[1;32mreturn\u001b[0m \u001b[0mexc\u001b[0m\u001b[1;33m.\u001b[0m\u001b[0margs\u001b[0m\u001b[1;33m[\u001b[0m\u001b[1;36m0\u001b[0m\u001b[1;33m]\u001b[0m  \u001b[1;31m# == until.value\u001b[0m\u001b[1;33m\u001b[0m\u001b[1;33m\u001b[0m\u001b[0m\n",
      "\u001b[1;32m~\\anaconda3\\envs\\vo\\lib\\site-packages\\simpy\\core.py\u001b[0m in \u001b[0;36mstep\u001b[1;34m(self)\u001b[0m\n\u001b[0;32m    204\u001b[0m             \u001b[0mexc\u001b[0m \u001b[1;33m=\u001b[0m \u001b[0mtype\u001b[0m\u001b[1;33m(\u001b[0m\u001b[0mevent\u001b[0m\u001b[1;33m.\u001b[0m\u001b[0m_value\u001b[0m\u001b[1;33m)\u001b[0m\u001b[1;33m(\u001b[0m\u001b[1;33m*\u001b[0m\u001b[0mevent\u001b[0m\u001b[1;33m.\u001b[0m\u001b[0m_value\u001b[0m\u001b[1;33m.\u001b[0m\u001b[0margs\u001b[0m\u001b[1;33m)\u001b[0m\u001b[1;33m\u001b[0m\u001b[1;33m\u001b[0m\u001b[0m\n\u001b[0;32m    205\u001b[0m             \u001b[0mexc\u001b[0m\u001b[1;33m.\u001b[0m\u001b[0m__cause__\u001b[0m \u001b[1;33m=\u001b[0m \u001b[0mevent\u001b[0m\u001b[1;33m.\u001b[0m\u001b[0m_value\u001b[0m\u001b[1;33m\u001b[0m\u001b[1;33m\u001b[0m\u001b[0m\n\u001b[1;32m--> 206\u001b[1;33m             \u001b[1;32mraise\u001b[0m \u001b[0mexc\u001b[0m\u001b[1;33m\u001b[0m\u001b[1;33m\u001b[0m\u001b[0m\n\u001b[0m\u001b[0;32m    207\u001b[0m \u001b[1;33m\u001b[0m\u001b[0m\n\u001b[0;32m    208\u001b[0m     def run(\n",
      "\u001b[1;31mRuntimeError\u001b[0m: Attempting to shift content from an empty origin or to a full destination. ({'origin.6dbbbdf4-4589-11e9-a501-b469212bff5b': 0, 'destination.6dbbbdf6-4589-11e9-95a2-b469212bff5b': 3})"
     ]
    }
   ],
   "source": [
    "my_env.run()\n"
   ]
  },
  {
   "cell_type": "code",
   "execution_count": 6,
   "metadata": {},
   "outputs": [
    {
     "output_type": "execute_result",
     "data": {
      "text/plain": "                     Message ActivityState           Timestamp  Value  \\\n0  conditional process while         START 1970-01-01 01:00:00     -1   \n1    sub process Transfer MP         START 1970-01-01 01:00:00     -1   \n2                Transfer MP         START 1970-01-01 01:00:00      1   \n3                Transfer MP          STOP 1970-01-01 01:00:20      1   \n4    sub process Transfer MP          STOP 1970-01-01 01:00:20     -1   \n5    sub process Transfer MP         START 1970-01-01 01:00:20     -1   \n6                Transfer MP         START 1970-01-01 01:00:20      1   \n7                Transfer MP          STOP 1970-01-01 01:00:40      1   \n8    sub process Transfer MP          STOP 1970-01-01 01:00:40     -1   \n9    sub process Transfer MP         START 1970-01-01 01:00:40     -1   \n\n                             ActivityID  \n0  6dbbbdf7-4589-11e9-bf3b-b469212bff5g  \n1  6dbbbdf7-4589-11e9-bf3b-b469212bff5g  \n2  6dbbbdf7-4589-11e9-bf3b-b469212bff5g  \n3  6dbbbdf7-4589-11e9-bf3b-b469212bff5g  \n4  6dbbbdf7-4589-11e9-bf3b-b469212bff5g  \n5  6dbbbdf7-4589-11e9-bf3b-b469212bff5g  \n6  6dbbbdf7-4589-11e9-bf3b-b469212bff5g  \n7  6dbbbdf7-4589-11e9-bf3b-b469212bff5g  \n8  6dbbbdf7-4589-11e9-bf3b-b469212bff5g  \n9  6dbbbdf7-4589-11e9-bf3b-b469212bff5g  ",
      "text/html": "<div>\n<style scoped>\n    .dataframe tbody tr th:only-of-type {\n        vertical-align: middle;\n    }\n\n    .dataframe tbody tr th {\n        vertical-align: top;\n    }\n\n    .dataframe thead th {\n        text-align: right;\n    }\n</style>\n<table border=\"1\" class=\"dataframe\">\n  <thead>\n    <tr style=\"text-align: right;\">\n      <th></th>\n      <th>Message</th>\n      <th>ActivityState</th>\n      <th>Timestamp</th>\n      <th>Value</th>\n      <th>ActivityID</th>\n    </tr>\n  </thead>\n  <tbody>\n    <tr>\n      <th>0</th>\n      <td>conditional process while</td>\n      <td>START</td>\n      <td>1970-01-01 01:00:00</td>\n      <td>-1</td>\n      <td>6dbbbdf7-4589-11e9-bf3b-b469212bff5g</td>\n    </tr>\n    <tr>\n      <th>1</th>\n      <td>sub process Transfer MP</td>\n      <td>START</td>\n      <td>1970-01-01 01:00:00</td>\n      <td>-1</td>\n      <td>6dbbbdf7-4589-11e9-bf3b-b469212bff5g</td>\n    </tr>\n    <tr>\n      <th>2</th>\n      <td>Transfer MP</td>\n      <td>START</td>\n      <td>1970-01-01 01:00:00</td>\n      <td>1</td>\n      <td>6dbbbdf7-4589-11e9-bf3b-b469212bff5g</td>\n    </tr>\n    <tr>\n      <th>3</th>\n      <td>Transfer MP</td>\n      <td>STOP</td>\n      <td>1970-01-01 01:00:20</td>\n      <td>1</td>\n      <td>6dbbbdf7-4589-11e9-bf3b-b469212bff5g</td>\n    </tr>\n    <tr>\n      <th>4</th>\n      <td>sub process Transfer MP</td>\n      <td>STOP</td>\n      <td>1970-01-01 01:00:20</td>\n      <td>-1</td>\n      <td>6dbbbdf7-4589-11e9-bf3b-b469212bff5g</td>\n    </tr>\n    <tr>\n      <th>5</th>\n      <td>sub process Transfer MP</td>\n      <td>START</td>\n      <td>1970-01-01 01:00:20</td>\n      <td>-1</td>\n      <td>6dbbbdf7-4589-11e9-bf3b-b469212bff5g</td>\n    </tr>\n    <tr>\n      <th>6</th>\n      <td>Transfer MP</td>\n      <td>START</td>\n      <td>1970-01-01 01:00:20</td>\n      <td>1</td>\n      <td>6dbbbdf7-4589-11e9-bf3b-b469212bff5g</td>\n    </tr>\n    <tr>\n      <th>7</th>\n      <td>Transfer MP</td>\n      <td>STOP</td>\n      <td>1970-01-01 01:00:40</td>\n      <td>1</td>\n      <td>6dbbbdf7-4589-11e9-bf3b-b469212bff5g</td>\n    </tr>\n    <tr>\n      <th>8</th>\n      <td>sub process Transfer MP</td>\n      <td>STOP</td>\n      <td>1970-01-01 01:00:40</td>\n      <td>-1</td>\n      <td>6dbbbdf7-4589-11e9-bf3b-b469212bff5g</td>\n    </tr>\n    <tr>\n      <th>9</th>\n      <td>sub process Transfer MP</td>\n      <td>START</td>\n      <td>1970-01-01 01:00:40</td>\n      <td>-1</td>\n      <td>6dbbbdf7-4589-11e9-bf3b-b469212bff5g</td>\n    </tr>\n  </tbody>\n</table>\n</div>"
     },
     "metadata": {},
     "execution_count": 6
    }
   ],
   "source": [
    "log_df = pd.DataFrame(while_activity.log)\n",
    "data =log_df[['Message', 'ActivityState', 'Timestamp', 'Value', 'ActivityID']]\n",
    "data"
   ]
  },
  {
   "cell_type": "markdown",
   "metadata": {},
   "source": [
    "The resulting levels of objects in the hopper and the from_site are requested below. "
   ]
  },
  {
   "cell_type": "code",
   "execution_count": 7,
   "metadata": {},
   "outputs": [
    {
     "output_type": "execute_result",
     "data": {
      "text/plain": "2"
     },
     "metadata": {},
     "execution_count": 7
    }
   ],
   "source": [
    "hopper.container.get_level()"
   ]
  },
  {
   "cell_type": "code",
   "execution_count": 8,
   "metadata": {},
   "outputs": [
    {
     "output_type": "execute_result",
     "data": {
      "text/plain": "0"
     },
     "metadata": {},
     "execution_count": 8
    }
   ],
   "source": [
    "from_site.container.get_level()"
   ]
  }
 ],
 "metadata": {
  "language_info": {
   "codemirror_mode": {
    "name": "ipython",
    "version": 3
   },
   "file_extension": ".py",
   "mimetype": "text/x-python",
   "name": "python",
   "nbconvert_exporter": "python",
   "pygments_lexer": "ipython3",
   "version": "3.7.7-final"
  },
  "orig_nbformat": 2,
  "kernelspec": {
   "name": "python3",
   "display_name": "Python 3"
  }
 },
 "nbformat": 4,
 "nbformat_minor": 2
}