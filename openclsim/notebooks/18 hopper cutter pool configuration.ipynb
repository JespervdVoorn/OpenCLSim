{
 "cells": [
  {
   "cell_type": "code",
   "execution_count": 1,
   "metadata": {
    "scrolled": true
   },
   "outputs": [],
   "source": [
    "import datetime, time\n",
    "import simpy\n",
    "\n",
    "import shapely.geometry\n",
    "from simplekml import Kml, Style\n",
    "\n",
    "import pandas as pd\n",
    "import openclsim.core as core\n",
    "import openclsim.model as model\n",
    "\n",
    "import datetime\n",
    "\n",
    "import numpy as np\n",
    "\n",
    "from plot import vessel_planning"
   ]
  },
  {
   "cell_type": "code",
   "execution_count": 2,
   "metadata": {},
   "outputs": [],
   "source": [
    "simulation_start = 0\n",
    "my_env = simpy.Environment(initial_time=simulation_start)\n",
    "registry = {}\n",
    "\n",
    "# The generic site class\n",
    "Site = type(\n",
    "    \"Site\",\n",
    "    (\n",
    "        core.Identifiable,  # Give it a name\n",
    "        core.Log,  # Allow logging of all discrete events\n",
    "        core.Locatable,  # Add coordinates to extract distance information and visualize\n",
    "        core.HasContainer,  # Add information on the material available at the site\n",
    "        core.HasResource,\n",
    "    ),  # Add information on serving equipment\n",
    "    {},\n",
    ")  # The dictionary is empty because the site type is generic\n"
   ]
  },
  {
   "cell_type": "code",
   "execution_count": 3,
   "metadata": {},
   "outputs": [
    {
     "name": "stdout",
     "output_type": "stream",
     "text": [
      "init\n",
      "level: 24\n",
      "completed init\n",
      "init\n",
      "level: 0\n",
      "completed init\n",
      "init\n",
      "level: 0\n",
      "completed init\n",
      "init\n",
      "level: 0\n",
      "completed init\n",
      "init\n",
      "level: 0\n",
      "completed init\n",
      "init\n",
      "level: 0\n",
      "completed init\n",
      "init\n",
      "level: 0\n",
      "completed init\n"
     ]
    }
   ],
   "source": [
    "# Information on the extraction site - the \"from site\" - the \"win locatie\"\n",
    "location_from_site = shapely.geometry.Point(5.1, 52)  # lon, lat\n",
    "data_from_site = {\n",
    "    \"env\": my_env,  # The simpy environment defined in the first cel\n",
    "    \"name\": \"Winlocatie1\",  # The name of the site\n",
    "    \"geometry\": location_from_site,  # The coordinates of the project site\n",
    "    \"capacity\": 24,\n",
    "    \"level\": 24,\n",
    "    \"nr_resources\":3\n",
    "}  # The actual volume of the site\n",
    "from_site = Site(**data_from_site)\n",
    "\n",
    "\n",
    "location_to_site = shapely.geometry.Point(5, 52)  # lon, lat\n",
    "data_to_site = {\n",
    "    \"env\": my_env,  # The simpy environment defined in the first cel\n",
    "    \"name\": \"Dumplocatie\",  # The name of the site\n",
    "    \"geometry\": location_to_site,  # The coordinates of the project site\n",
    "    \"capacity\": 24,\n",
    "    \"level\": 0,\n",
    "}  # The actual volume of the site (empty of course)\n",
    "to_site = Site(**data_to_site)\n",
    "\n",
    "\n",
    "# The generic class for an object that can move and transport (a TSHD for example)\n",
    "TransportProcessingResource = type(\n",
    "    \"TransportProcessingResource\",\n",
    "    (\n",
    "        core.Identifiable,  # Give it a name\n",
    "        core.Log,  # Allow logging of all discrete events\n",
    "        core.ContainerDependentMovable,  # A moving container, so capacity and location\n",
    "        core.Processor,  # Allow for loading and unloading\n",
    "        core.HasResource,  # Add information on serving equipment\n",
    "        core.HasCosts,  # Add information on costs\n",
    "        core.LoadingFunction,  # Add a loading function\n",
    "        core.UnloadingFunction,  # Add an unloading function\n",
    "        # SiteRegistry,\n",
    "    ),\n",
    "    {\"key\": \"MultiStoreHopper\"},\n",
    ")\n",
    "\n",
    " \n",
    "data_cutter1 = {\n",
    "    \"env\": my_env,  # The simpy environment\n",
    "    \"name\": \"Cutter1\",  # Name\n",
    "    \"geometry\": location_from_site,  # It starts at the \"from site\"\n",
    "    \"loading_rate\": 1,  # Loading rate\n",
    "    \"unloading_rate\": 1,  # Unloading rate\n",
    "    \"capacity\": 1,\n",
    "    \"level\": 0,\n",
    "    \"compute_v\": lambda x: 10,  # Variable speed\n",
    "    \"weekrate\": 7,\n",
    "}\n",
    "cutter1 = TransportProcessingResource(**data_cutter1)\n",
    "data_cutter2 = {\n",
    "    \"env\": my_env,  # The simpy environment\n",
    "    \"name\": \"Cutter2\",  # Name\n",
    "    \"geometry\": location_from_site,  # It starts at the \"from site\"\n",
    "    \"loading_rate\": 1,  # Loading rate\n",
    "    \"unloading_rate\": 1,  # Unloading rate\n",
    "    \"capacity\": 1,\n",
    "    \"level\": 0,\n",
    "    \"compute_v\": lambda x: 10,  # Variable speed\n",
    "    \"weekrate\": 7,\n",
    "}\n",
    "cutter2 = TransportProcessingResource(**data_cutter2)\n",
    " \n",
    "\n",
    "# TSHD variables\n",
    "data_hopper1 = {\n",
    "    \"env\": my_env,  # The simpy environment\n",
    "    \"name\": \"Hopper1\",  # Name\n",
    "    \"geometry\": location_from_site,  # It starts at the \"from site\"\n",
    "    \"loading_rate\": 1,  # Loading rate\n",
    "    \"unloading_rate\": 1,  # Unloading rate\n",
    "    \"capacity\": 1,\n",
    "    \"level\": 0,\n",
    "    \"compute_v\": lambda x: 10,  # Variable speed\n",
    "    \"weekrate\": 7,\n",
    "}\n",
    "hopper1 = TransportProcessingResource(**data_hopper1)\n",
    "data_hopper2 = {\n",
    "    \"env\": my_env,  # The simpy environment\n",
    "    \"name\": \"Hopper2\",  # Name\n",
    "    \"geometry\": location_from_site,  # It starts at the \"from site\"\n",
    "    \"loading_rate\": 1,  # Loading rate\n",
    "    \"unloading_rate\": 1,  # Unloading rate\n",
    "    \"capacity\": 1,\n",
    "    \"level\": 0,\n",
    "    \"compute_v\": lambda x: 10,  # Variable speed\n",
    "    \"weekrate\": 7,\n",
    "}\n",
    "hopper2 = TransportProcessingResource(**data_hopper2)\n",
    "data_hopper3 = {\n",
    "    \"env\": my_env,  # The simpy environment\n",
    "    \"name\": \"Hopper3\",  # Name\n",
    "    \"geometry\": location_from_site,  # It starts at the \"from site\"\n",
    "    \"loading_rate\": 1,  # Loading rate\n",
    "    \"unloading_rate\": 1,  # Unloading rate\n",
    "    \"capacity\": 1,\n",
    "    \"level\": 0,\n",
    "    \"compute_v\": lambda x: 10,  # Variable speed\n",
    "    \"weekrate\": 7,\n",
    "}\n",
    "hopper3 = TransportProcessingResource(**data_hopper3)"
   ]
  },
  {
   "cell_type": "code",
   "execution_count": 4,
   "metadata": {},
   "outputs": [
    {
     "name": "stdout",
     "output_type": "stream",
     "text": [
      "while Activity keep_resources []\n",
      "start put_available\n",
      "register new event \n",
      "start event instance None\n",
      "while Activity keep_resources []\n",
      "start put_available\n",
      "check put_available events\n",
      "register new event \n",
      "start event instance None\n",
      "while Activity keep_resources []\n",
      "start put_available\n",
      "check put_available events\n",
      "register new event \n",
      "start event instance None\n",
      "while Activity keep_resources []\n",
      "start put_available\n",
      "check put_available events\n",
      "register new event \n",
      "start event instance None\n",
      "while Activity keep_resources []\n",
      "start put_available\n",
      "check put_available events\n",
      "register new event \n",
      "start event instance None\n",
      "while Activity keep_resources []\n",
      "start put_available\n",
      "check put_available events\n",
      "register new event \n",
      "start event instance None\n"
     ]
    }
   ],
   "source": [
    "# definition of loading a barge\n",
    "registry = {}\n",
    "cutter_list = [cutter1, cutter2]\n",
    "for hopper in [hopper1, hopper2, hopper3]:\n",
    "    first_cutter = cutter_list[0]\n",
    "    cutter_list= cutter_list[1:]\n",
    "    cutter_list.append(first_cutter)\n",
    "    for cutter in cutter_list:\n",
    "        requested_resources = {}\n",
    "        run = []\n",
    "        \n",
    "        move_activity_to_harbor_data = {\n",
    "            \"env\": my_env,  # The simpy environment defined in the first cel\n",
    "            \"name\": \"sailing empty\",  # We are moving soil\n",
    "            \"registry\": registry,\n",
    "            \"mover\": hopper,\n",
    "            \"destination\": from_site,\n",
    "            \"requested_resources\":requested_resources,\n",
    "            \"postpone_start\": True,\n",
    "#             \"keep_resources\":[hopper],\n",
    "        }\n",
    "        run.append(model.MoveActivity(**move_activity_to_harbor_data))\n",
    "        \n",
    "        shift_amount_loading_data = {\n",
    "            \"env\": my_env,  # The simpy environment defined in the first cel\n",
    "            \"name\": \"Load\",  # We are moving soil\n",
    "            \"registry\": registry,\n",
    "            \"processor\": cutter,\n",
    "            \"origin\": from_site,\n",
    "            \"destination\": hopper,\n",
    "            \"amount\": 1,\n",
    "            \"duration\": 3600,\n",
    "            \"requested_resources\":requested_resources,\n",
    "#             \"keep_resources\":[hopper],\n",
    "            \"postpone_start\": True,\n",
    "        }\n",
    "        run.append(model.ShiftAmountActivity(**shift_amount_loading_data))\n",
    "        \n",
    "        move_activity_to_harbor_data = {\n",
    "            \"env\": my_env,  # The simpy environment defined in the first cel\n",
    "            \"name\": \"sailing full\",  # We are moving soil\n",
    "            \"registry\": registry,\n",
    "            \"mover\": hopper,\n",
    "            \"destination\": to_site,\n",
    "            \"requested_resources\":requested_resources,\n",
    "#             \"keep_resources\":[hopper],\n",
    "            \"postpone_start\": True,\n",
    "        }\n",
    "        run.append(model.MoveActivity(**move_activity_to_harbor_data))\n",
    "\n",
    " \n",
    "        shift_amount_loading_data = {\n",
    "            \"env\": my_env,  # The simpy environment defined in the first cel\n",
    "            \"name\": \"Unload\",  # We are moving soil\n",
    "            \"registry\": registry,\n",
    "            \"processor\": hopper,\n",
    "            \"origin\": hopper,\n",
    "            \"destination\": to_site,\n",
    "            \"amount\": 1,\n",
    "            \"duration\": 3600,\n",
    "            \"requested_resources\":requested_resources,\n",
    "#             \"keep_resources\":[hopper],\n",
    "            \"postpone_start\": True,\n",
    "        }\n",
    "        run.append(model.ShiftAmountActivity(**shift_amount_loading_data))\n",
    "         \n",
    "\n",
    "        sequential_activity_data = {\n",
    "            \"env\": my_env,\n",
    "            \"name\": \"run\",\n",
    "            \"registry\": registry,\n",
    "            \"sub_processes\": run,\n",
    "            \"postpone_start\": True,\n",
    "        }\n",
    "        sequential_activity = model.SequentialActivity(**sequential_activity_data)\n",
    "        \n",
    "        while_data = {\n",
    "            \"env\": my_env,  # The simpy environment defined in the first cel\n",
    "            \"name\": \"run while\",  # We are moving soil\n",
    "            \"registry\": registry,\n",
    "            \"sub_process\": sequential_activity,\n",
    "            \"condition_event\": [{\"type\":\"container\", \"concept\": from_site, \"state\":\"empty\"}],\n",
    "            \"postpone_start\": False,\n",
    "        }\n",
    "        run_activity = model.WhileActivity(**while_data)"
   ]
  },
  {
   "cell_type": "code",
   "execution_count": 5,
   "metadata": {},
   "outputs": [
    {
     "name": "stdout",
     "output_type": "stream",
     "text": [
      "<openclsim.model.SequentialActivity object at 0x000002731386D188>\n",
      "conditional \n",
      "start event instance None\n",
      "<openclsim.model.MoveActivity object at 0x000002731386D348>\n",
      "keep_resources []\n",
      "start event instance None\n",
      "Mover_move before mover resource request\n",
      "<openclsim.model.SequentialActivity object at 0x0000027313857E48>\n",
      "conditional \n",
      "start event instance None\n",
      "<openclsim.model.MoveActivity object at 0x000002731386AA08>\n",
      "keep_resources []\n",
      "start event instance None\n",
      "Mover_move before mover resource request\n",
      "<openclsim.model.SequentialActivity object at 0x000002731386F248>\n",
      "conditional \n",
      "start event instance None\n",
      "<openclsim.model.MoveActivity object at 0x00000273138575C8>\n",
      "keep_resources []\n",
      "start event instance None\n",
      "Mover_move before mover resource request\n",
      "<openclsim.model.SequentialActivity object at 0x0000027313851DC8>\n",
      "conditional \n",
      "start event instance None\n",
      "<openclsim.model.MoveActivity object at 0x0000027313853DC8>\n",
      "keep_resources []\n",
      "start event instance None\n",
      "Mover_move before mover resource request\n",
      "<openclsim.model.SequentialActivity object at 0x000002731384FEC8>\n",
      "conditional \n",
      "start event instance None\n",
      "<openclsim.model.MoveActivity object at 0x0000027313851A88>\n",
      "keep_resources []\n",
      "start event instance None\n",
      "Mover_move before mover resource request\n",
      "<openclsim.model.SequentialActivity object at 0x000002731384ECC8>\n",
      "conditional \n",
      "start event instance None\n",
      "<openclsim.model.MoveActivity object at 0x000002731384F2C8>\n",
      "keep_resources []\n",
      "start event instance None\n",
      "Mover_move before mover resource request\n",
      "put_callback - id_ default\n",
      "{}\n",
      "put_callback - id_ default\n",
      "{}\n",
      "put_callback - id_ default\n",
      "{}\n",
      "put_callback - id_ default\n",
      "{}\n",
      "put_callback - id_ default\n",
      "{}\n",
      "put_callback - id_ default\n",
      "{}\n",
      "put_callback - id_ default\n",
      "{}\n",
      "Mover_move after mover resource request\n",
      "Mover_move after mover resource request\n",
      "Mover_move after mover resource request\n",
      "Mover_move after move\n",
      "Activity end(sailing empty)\n",
      "Mover_move after move\n",
      "Activity end(sailing empty)\n",
      "Mover_move after move\n",
      "Activity end(sailing empty)\n",
      "<openclsim.model.ShiftAmountActivity object at 0x000002731386DF08>\n",
      "keep_resources []\n",
      "SHift amount Activity keep_resources []\n",
      "start event instance None\n",
      "start : {}\n",
      "{'origin.41cea906-aaff-11ea-aa1f-2079183a5c9a': 24, 'destination.41cef59c-aaff-11ea-9173-2079183a5c9a': 1}\n",
      "<openclsim.model.ShiftAmountActivity object at 0x0000027313857648>\n",
      "keep_resources []\n",
      "SHift amount Activity keep_resources []\n",
      "start event instance None\n",
      "start : {}\n",
      "{'origin.41cea906-aaff-11ea-aa1f-2079183a5c9a': 24, 'destination.41cef59d-aaff-11ea-98f2-2079183a5c9a': 1}\n",
      "<openclsim.model.ShiftAmountActivity object at 0x0000027313851748>\n",
      "keep_resources []\n",
      "SHift amount Activity keep_resources []\n",
      "start event instance None\n",
      "start : {}\n",
      "{'origin.41cea906-aaff-11ea-aa1f-2079183a5c9a': 24, 'destination.41cef59e-aaff-11ea-9997-2079183a5c9a': 1}\n",
      "Mover_move after mover resource request\n",
      "Mover_move after mover resource request\n",
      "Mover_move after mover resource request\n",
      "Mover_move after move\n",
      "Activity end(sailing empty)\n",
      "Mover_move after move\n",
      "Activity end(sailing empty)\n",
      "Mover_move after move\n",
      "Activity end(sailing empty)\n",
      "<openclsim.model.ShiftAmountActivity object at 0x000002731386A848>\n",
      "keep_resources []\n",
      "SHift amount Activity keep_resources []\n",
      "start event instance None\n",
      "start : {}\n",
      "{'origin.41cea906-aaff-11ea-aa1f-2079183a5c9a': 24, 'destination.41cef59c-aaff-11ea-9173-2079183a5c9a': 1}\n",
      "<openclsim.model.ShiftAmountActivity object at 0x0000027313853E48>\n",
      "keep_resources []\n",
      "SHift amount Activity keep_resources []\n",
      "start event instance None\n",
      "start : {}\n",
      "{'origin.41cea906-aaff-11ea-aa1f-2079183a5c9a': 24, 'destination.41cef59d-aaff-11ea-98f2-2079183a5c9a': 1}\n",
      "<openclsim.model.ShiftAmountActivity object at 0x000002731384F608>\n",
      "keep_resources []\n",
      "SHift amount Activity keep_resources []\n",
      "start event instance None\n",
      "start : {}\n",
      "{'origin.41cea906-aaff-11ea-aa1f-2079183a5c9a': 24, 'destination.41cef59e-aaff-11ea-9997-2079183a5c9a': 1}\n",
      "destination request : {<simpy.resources.resource.Resource object at 0x000002731386F288>: <Request() object at 0x2731101fec8>}\n",
      "shift amount process keep_resources []\n",
      "start get_available\n",
      "destination request : {<simpy.resources.resource.Resource object at 0x000002731386F308>: <Request() object at 0x27313857308>}\n",
      "shift amount process keep_resources []\n",
      "start get_available\n",
      "destination request : {<simpy.resources.resource.Resource object at 0x000002731386D4C8>: <Request() object at 0x2731377d4c8>}\n",
      "shift amount process keep_resources []\n",
      "start get_available\n",
      "processor request : {<simpy.resources.resource.Resource object at 0x000002731386F288>: <Request() object at 0x2731101fec8>, <simpy.resources.resource.Resource object at 0x0000027313875A48>: <Request() object at 0x27313777f48>}\n",
      "processor request : {<simpy.resources.resource.Resource object at 0x000002731386F308>: <Request() object at 0x27313857308>, <simpy.resources.resource.Resource object at 0x0000027313777608>: <Request() object at 0x2731384f208>}\n",
      "site request : {<simpy.resources.resource.Resource object at 0x000002731386F288>: <Request() object at 0x2731101fec8>, <simpy.resources.resource.Resource object at 0x0000027313875A48>: <Request() object at 0x27313777f48>, <simpy.resources.resource.Resource object at 0x000002730CF8D7C8>: <Request() object at 0x2731377d208>}\n",
      "end requestIfAvailable : {<simpy.resources.resource.Resource object at 0x000002731386F288>: <Request() object at 0x2731101fec8>, <simpy.resources.resource.Resource object at 0x0000027313875A48>: <Request() object at 0x27313777f48>, <simpy.resources.resource.Resource object at 0x000002730CF8D7C8>: <Request() object at 0x2731377d208>}\n",
      "after req resource if available : {<simpy.resources.resource.Resource object at 0x000002731386F288>: <Request() object at 0x2731101fec8>, <simpy.resources.resource.Resource object at 0x0000027313875A48>: <Request() object at 0x27313777f48>, <simpy.resources.resource.Resource object at 0x000002730CF8D7C8>: <Request() object at 0x2731377d208>}\n",
      "_shift_amount\n",
      "start _shift_amount\n",
      "amount 1\n",
      "processor start process\n",
      "transfer default to Hopper1\n",
      "processor process without rate\n",
      "origin store before get: [{'id': 'default', 'level': 24, 'capacity': 24}]\n",
      "start get 1\n",
      "store_status {'id': 'default', 'level': 24, 'capacity': 24}\n",
      "end get 1\n",
      "site request : {<simpy.resources.resource.Resource object at 0x000002731386F308>: <Request() object at 0x27313857308>, <simpy.resources.resource.Resource object at 0x0000027313777608>: <Request() object at 0x2731384f208>, <simpy.resources.resource.Resource object at 0x000002730CF8D7C8>: <Request() object at 0x2731377d108>}\n",
      "end requestIfAvailable : {<simpy.resources.resource.Resource object at 0x000002731386F308>: <Request() object at 0x27313857308>, <simpy.resources.resource.Resource object at 0x0000027313777608>: <Request() object at 0x2731384f208>, <simpy.resources.resource.Resource object at 0x000002730CF8D7C8>: <Request() object at 0x2731377d108>}\n",
      "after req resource if available : {<simpy.resources.resource.Resource object at 0x000002731386F308>: <Request() object at 0x27313857308>, <simpy.resources.resource.Resource object at 0x0000027313777608>: <Request() object at 0x2731384f208>, <simpy.resources.resource.Resource object at 0x000002730CF8D7C8>: <Request() object at 0x2731377d108>}\n",
      "_shift_amount\n",
      "start _shift_amount\n",
      "amount 1\n",
      "processor start process\n",
      "transfer default to Hopper2\n",
      "processor process without rate\n",
      "origin store before get: [{'id': 'default', 'level': 23, 'capacity': 24}]\n",
      "start get 1\n",
      "store_status {'id': 'default', 'level': 23, 'capacity': 24}\n",
      "end get 1\n",
      "get_callback - id_ <StorePut() object at 0x2731377ab48>\n",
      "start get_callback\n",
      "{'default': {24: <Event() object at 0x2731384e688>}}\n",
      "origin store after get: [{'id': 'default', 'level': 22, 'capacity': 24}]\n",
      "after get\n",
      "after check_down time\n",
      "get_callback - id_ <StorePut() object at 0x2731377ad08>\n",
      "start get_callback\n",
      "{'default': {24: <Event() object at 0x2731384e688>}}\n",
      "origin store after get: [{'id': 'default', 'level': 22, 'capacity': 24}]\n",
      "after get\n",
      "after check_down time\n",
      "destination store before put: [{'id': 'default', 'level': 0, 'capacity': 1}]\n",
      "<FilterStoreGet() object at 0x2731377ad08>\n",
      "destination store before put: [{'id': 'default', 'level': 0, 'capacity': 1}]\n",
      "<FilterStoreGet() object at 0x2731377d048>\n",
      "put_callback - id_ default\n",
      "{}\n",
      "destination store after put: [{'id': 'default', 'level': 1, 'capacity': 1}]\n",
      "after put\n",
      "processor end process\n",
      "Processed 1 of default:\n",
      "  by:          Cutter2\n",
      "  origin        Winlocatie1  contains: 22 of default\n",
      "  destination:  Hopper1 contains: 1 of default\n",
      "after shift amount : {<simpy.resources.resource.Resource object at 0x000002731386F288>: <Request() object at 0x2731101fec8>, <simpy.resources.resource.Resource object at 0x0000027313875A48>: <Request() object at 0x27313777f48>, <simpy.resources.resource.Resource object at 0x000002730CF8D7C8>: <Request() object at 0x2731377d208>}\n",
      "keep resources []\n",
      "release destination : {<simpy.resources.resource.Resource object at 0x0000027313875A48>: <Request() object at 0x27313777f48>, <simpy.resources.resource.Resource object at 0x000002730CF8D7C8>: <Request() object at 0x2731377d208>}\n",
      "released origin : {<simpy.resources.resource.Resource object at 0x0000027313875A48>: <Request() object at 0x27313777f48>}\n",
      "released processor : {}\n",
      "{}\n",
      "Activity end(Load)\n",
      "put_callback - id_ default\n",
      "{}\n",
      "destination store after put: [{'id': 'default', 'level': 1, 'capacity': 1}]\n",
      "after put\n",
      "processor end process\n",
      "Processed 1 of default:\n",
      "  by:          Cutter1\n",
      "  origin        Winlocatie1  contains: 22 of default\n",
      "  destination:  Hopper2 contains: 1 of default\n",
      "after shift amount : {<simpy.resources.resource.Resource object at 0x000002731386F308>: <Request() object at 0x27313857308>, <simpy.resources.resource.Resource object at 0x0000027313777608>: <Request() object at 0x2731384f208>, <simpy.resources.resource.Resource object at 0x000002730CF8D7C8>: <Request() object at 0x2731377d108>}\n",
      "keep resources []\n",
      "release destination : {<simpy.resources.resource.Resource object at 0x0000027313777608>: <Request() object at 0x2731384f208>, <simpy.resources.resource.Resource object at 0x000002730CF8D7C8>: <Request() object at 0x2731377d108>}\n",
      "released origin : {<simpy.resources.resource.Resource object at 0x0000027313777608>: <Request() object at 0x2731384f208>}\n",
      "released processor : {}\n",
      "{}\n",
      "Activity end(Load)\n",
      "<openclsim.model.MoveActivity object at 0x000002731386D208>\n",
      "keep_resources []\n",
      "start event instance None\n",
      "Mover_move before mover resource request\n",
      "<openclsim.model.MoveActivity object at 0x0000027313857048>\n",
      "keep_resources []\n",
      "start event instance None\n",
      "Mover_move before mover resource request\n",
      "destination request : {<simpy.resources.resource.Resource object at 0x000002731386F288>: <Request() object at 0x2731386a448>}\n",
      "shift amount process keep_resources []\n",
      "start get_available\n",
      "processor request : {<simpy.resources.resource.Resource object at 0x000002731386D4C8>: <Request() object at 0x2731377d4c8>, <simpy.resources.resource.Resource object at 0x0000027313875A48>: <Request() object at 0x2731377d9c8>}\n",
      "destination request : {<simpy.resources.resource.Resource object at 0x000002731386F308>: <Request() object at 0x27313853a88>}\n",
      "shift amount process keep_resources []\n",
      "start get_available\n",
      "site request : {<simpy.resources.resource.Resource object at 0x000002731386D4C8>: <Request() object at 0x2731377d4c8>, <simpy.resources.resource.Resource object at 0x0000027313875A48>: <Request() object at 0x2731377d9c8>, <simpy.resources.resource.Resource object at 0x000002730CF8D7C8>: <Request() object at 0x2731377d208>}\n",
      "end requestIfAvailable : {<simpy.resources.resource.Resource object at 0x000002731386D4C8>: <Request() object at 0x2731377d4c8>, <simpy.resources.resource.Resource object at 0x0000027313875A48>: <Request() object at 0x2731377d9c8>, <simpy.resources.resource.Resource object at 0x000002730CF8D7C8>: <Request() object at 0x2731377d208>}\n",
      "after req resource if available : {<simpy.resources.resource.Resource object at 0x000002731386D4C8>: <Request() object at 0x2731377d4c8>, <simpy.resources.resource.Resource object at 0x0000027313875A48>: <Request() object at 0x2731377d9c8>, <simpy.resources.resource.Resource object at 0x000002730CF8D7C8>: <Request() object at 0x2731377d208>}\n",
      "_shift_amount\n",
      "start _shift_amount\n",
      "amount 1\n",
      "processor start process\n",
      "transfer default to Hopper3\n",
      "processor process without rate\n",
      "origin store before get: [{'id': 'default', 'level': 22, 'capacity': 24}]\n",
      "start get 1\n",
      "store_status {'id': 'default', 'level': 22, 'capacity': 24}\n",
      "end get 1\n",
      "get_callback - id_ <StorePut() object at 0x2731377a408>\n",
      "start get_callback\n",
      "{'default': {24: <Event() object at 0x2731384e688>}}\n",
      "origin store after get: [{'id': 'default', 'level': 21, 'capacity': 24}]\n",
      "after get\n",
      "after check_down time\n",
      "processor request : {<simpy.resources.resource.Resource object at 0x000002731386F288>: <Request() object at 0x2731386a448>, <simpy.resources.resource.Resource object at 0x0000027313777608>: <Request() object at 0x2731377a708>}\n",
      "site request : {<simpy.resources.resource.Resource object at 0x000002731386F288>: <Request() object at 0x2731386a448>, <simpy.resources.resource.Resource object at 0x0000027313777608>: <Request() object at 0x2731377a708>, <simpy.resources.resource.Resource object at 0x000002730CF8D7C8>: <Request() object at 0x2731377d108>}\n",
      "end requestIfAvailable : {<simpy.resources.resource.Resource object at 0x000002731386F288>: <Request() object at 0x2731386a448>, <simpy.resources.resource.Resource object at 0x0000027313777608>: <Request() object at 0x2731377a708>, <simpy.resources.resource.Resource object at 0x000002730CF8D7C8>: <Request() object at 0x2731377d108>}\n",
      "after req resource if available : {<simpy.resources.resource.Resource object at 0x000002731386F288>: <Request() object at 0x2731386a448>, <simpy.resources.resource.Resource object at 0x0000027313777608>: <Request() object at 0x2731377a708>, <simpy.resources.resource.Resource object at 0x000002730CF8D7C8>: <Request() object at 0x2731377d108>}\n",
      "_shift_amount\n",
      "start _shift_amount\n",
      "amount 1\n",
      "processor start process\n",
      "transfer default to Hopper1\n",
      "processor process without rate\n",
      "origin store before get: [{'id': 'default', 'level': 21, 'capacity': 24}]\n",
      "start get 1\n",
      "store_status {'id': 'default', 'level': 21, 'capacity': 24}\n",
      "end get 1\n",
      "get_callback - id_ <StorePut() object at 0x2731377a1c8>\n",
      "start get_callback\n",
      "{'default': {24: <Event() object at 0x2731384e688>}}\n",
      "origin store after get: [{'id': 'default', 'level': 20, 'capacity': 24}]\n",
      "after get\n",
      "after check_down time\n",
      "destination store before put: [{'id': 'default', 'level': 0, 'capacity': 1}]\n",
      "<FilterStoreGet() object at 0x2731377a1c8>\n",
      "destination store before put: [{'id': 'default', 'level': 1, 'capacity': 1}]\n",
      "<FilterStoreGet() object at 0x2731384f208>\n",
      "put_callback - id_ default\n",
      "{}\n",
      "destination store after put: [{'id': 'default', 'level': 1, 'capacity': 1}]\n",
      "after put\n",
      "processor end process\n",
      "Processed 1 of default:\n",
      "  by:          Cutter2\n",
      "  origin        Winlocatie1  contains: 20 of default\n",
      "  destination:  Hopper3 contains: 1 of default\n",
      "after shift amount : {<simpy.resources.resource.Resource object at 0x000002731386D4C8>: <Request() object at 0x2731377d4c8>, <simpy.resources.resource.Resource object at 0x0000027313875A48>: <Request() object at 0x2731377d9c8>, <simpy.resources.resource.Resource object at 0x000002730CF8D7C8>: <Request() object at 0x2731377d208>}\n",
      "keep resources []\n",
      "release destination : {<simpy.resources.resource.Resource object at 0x0000027313875A48>: <Request() object at 0x2731377d9c8>, <simpy.resources.resource.Resource object at 0x000002730CF8D7C8>: <Request() object at 0x2731377d208>}\n",
      "released origin : {<simpy.resources.resource.Resource object at 0x0000027313875A48>: <Request() object at 0x2731377d9c8>}\n",
      "released processor : {}\n",
      "{}\n",
      "Activity end(Load)\n",
      "put_callback - id_ default\n",
      "{}\n",
      "destination store after put: [{'id': 'default', 'level': 2, 'capacity': 1}]\n",
      "after put\n",
      "processor end process\n",
      "Processed 1 of default:\n",
      "  by:          Cutter1\n",
      "  origin        Winlocatie1  contains: 20 of default\n",
      "  destination:  Hopper1 contains: 2 of default\n",
      "after shift amount : {<simpy.resources.resource.Resource object at 0x000002731386F288>: <Request() object at 0x2731386a448>, <simpy.resources.resource.Resource object at 0x0000027313777608>: <Request() object at 0x2731377a708>, <simpy.resources.resource.Resource object at 0x000002730CF8D7C8>: <Request() object at 0x2731377d108>}\n",
      "keep resources []\n",
      "release destination : {<simpy.resources.resource.Resource object at 0x0000027313777608>: <Request() object at 0x2731377a708>, <simpy.resources.resource.Resource object at 0x000002730CF8D7C8>: <Request() object at 0x2731377d108>}\n",
      "released origin : {<simpy.resources.resource.Resource object at 0x0000027313777608>: <Request() object at 0x2731377a708>}\n",
      "released processor : {}\n",
      "{}\n",
      "Activity end(Load)\n",
      "<openclsim.model.MoveActivity object at 0x0000027313851248>\n",
      "keep_resources []\n",
      "start event instance None\n",
      "Mover_move before mover resource request\n",
      "<openclsim.model.MoveActivity object at 0x000002731386A5C8>\n",
      "keep_resources []\n",
      "start event instance None\n",
      "Mover_move before mover resource request\n",
      "destination request : {<simpy.resources.resource.Resource object at 0x000002731386D4C8>: <Request() object at 0x2731377d608>}\n",
      "shift amount process keep_resources []\n",
      "start get_available\n",
      "processor request : {<simpy.resources.resource.Resource object at 0x000002731386F308>: <Request() object at 0x27313853a88>, <simpy.resources.resource.Resource object at 0x0000027313875A48>: <Request() object at 0x2731377a9c8>}\n",
      "Mover_move after mover resource request\n",
      "site request : {<simpy.resources.resource.Resource object at 0x000002731386F308>: <Request() object at 0x27313853a88>, <simpy.resources.resource.Resource object at 0x0000027313875A48>: <Request() object at 0x2731377a9c8>, <simpy.resources.resource.Resource object at 0x000002730CF8D7C8>: <Request() object at 0x2731384f208>}\n",
      "end requestIfAvailable : {<simpy.resources.resource.Resource object at 0x000002731386F308>: <Request() object at 0x27313853a88>, <simpy.resources.resource.Resource object at 0x0000027313875A48>: <Request() object at 0x2731377a9c8>, <simpy.resources.resource.Resource object at 0x000002730CF8D7C8>: <Request() object at 0x2731384f208>}\n",
      "after req resource if available : {<simpy.resources.resource.Resource object at 0x000002731386F308>: <Request() object at 0x27313853a88>, <simpy.resources.resource.Resource object at 0x0000027313875A48>: <Request() object at 0x2731377a9c8>, <simpy.resources.resource.Resource object at 0x000002730CF8D7C8>: <Request() object at 0x2731384f208>}\n",
      "_shift_amount\n",
      "start _shift_amount\n",
      "amount 1\n",
      "processor start process\n",
      "transfer default to Hopper2\n",
      "processor process without rate\n",
      "origin store before get: [{'id': 'default', 'level': 20, 'capacity': 24}]\n",
      "start get 1\n",
      "store_status {'id': 'default', 'level': 20, 'capacity': 24}\n",
      "end get 1\n",
      "get_callback - id_ <StorePut() object at 0x273137771c8>\n",
      "start get_callback\n",
      "{'default': {24: <Event() object at 0x2731384e688>}}\n",
      "origin store after get: [{'id': 'default', 'level': 19, 'capacity': 24}]\n",
      "after get\n",
      "after check_down time\n",
      "processor request : {<simpy.resources.resource.Resource object at 0x000002731386D4C8>: <Request() object at 0x2731377d608>, <simpy.resources.resource.Resource object at 0x0000027313777608>: <Request() object at 0x2731377aac8>}\n",
      "site request : {<simpy.resources.resource.Resource object at 0x000002731386D4C8>: <Request() object at 0x2731377d608>, <simpy.resources.resource.Resource object at 0x0000027313777608>: <Request() object at 0x2731377aac8>, <simpy.resources.resource.Resource object at 0x000002730CF8D7C8>: <Request() object at 0x27313777bc8>}\n",
      "end requestIfAvailable : {<simpy.resources.resource.Resource object at 0x000002731386D4C8>: <Request() object at 0x2731377d608>, <simpy.resources.resource.Resource object at 0x0000027313777608>: <Request() object at 0x2731377aac8>, <simpy.resources.resource.Resource object at 0x000002730CF8D7C8>: <Request() object at 0x27313777bc8>}\n",
      "after req resource if available : {<simpy.resources.resource.Resource object at 0x000002731386D4C8>: <Request() object at 0x2731377d608>, <simpy.resources.resource.Resource object at 0x0000027313777608>: <Request() object at 0x2731377aac8>, <simpy.resources.resource.Resource object at 0x000002730CF8D7C8>: <Request() object at 0x27313777bc8>}\n",
      "_shift_amount\n",
      "start _shift_amount\n",
      "amount 1\n",
      "processor start process\n",
      "transfer default to Hopper3\n",
      "processor process without rate\n",
      "origin store before get: [{'id': 'default', 'level': 19, 'capacity': 24}]\n",
      "start get 1\n",
      "store_status {'id': 'default', 'level': 19, 'capacity': 24}\n",
      "end get 1\n",
      "get_callback - id_ <StorePut() object at 0x2731377a688>\n",
      "start get_callback\n",
      "{'default': {24: <Event() object at 0x2731384e688>}}\n",
      "origin store after get: [{'id': 'default', 'level': 18, 'capacity': 24}]\n",
      "after get\n",
      "after check_down time\n",
      "Mover_move after move\n",
      "Activity end(sailing full)\n",
      "<openclsim.model.ShiftAmountActivity object at 0x000002731386D7C8>\n",
      "keep_resources []\n",
      "SHift amount Activity keep_resources []\n",
      "start event instance None\n",
      "start : {}\n",
      "{'origin.41cef59c-aaff-11ea-9173-2079183a5c9a': 2, 'destination.41cecfee-aaff-11ea-960e-2079183a5c9a': 24}\n",
      "Mover_move after mover resource request\n",
      "destination request : {<simpy.resources.resource.Resource object at 0x0000027313777F88>: <Request() object at 0x2731377dcc8>}\n",
      "shift amount process keep_resources []\n",
      "start get_available\n",
      "Mover_move after move\n",
      "Activity end(sailing full)\n",
      "<openclsim.model.ShiftAmountActivity object at 0x0000027313857F08>\n",
      "keep_resources []\n",
      "SHift amount Activity keep_resources []\n",
      "start event instance None\n",
      "start : {}\n",
      "{'origin.41cef59c-aaff-11ea-9173-2079183a5c9a': 2, 'destination.41cecfee-aaff-11ea-960e-2079183a5c9a': 24}\n",
      "processor request : {<simpy.resources.resource.Resource object at 0x0000027313777F88>: <Request() object at 0x2731377dcc8>, <simpy.resources.resource.Resource object at 0x000002731386F288>: <Request() object at 0x2731377d408>}\n",
      "site request : {<simpy.resources.resource.Resource object at 0x0000027313777F88>: <Request() object at 0x2731377dcc8>, <simpy.resources.resource.Resource object at 0x000002731386F288>: <Request() object at 0x2731377d408>}\n",
      "end requestIfAvailable : {<simpy.resources.resource.Resource object at 0x0000027313777F88>: <Request() object at 0x2731377dcc8>, <simpy.resources.resource.Resource object at 0x000002731386F288>: <Request() object at 0x2731377d408>}\n",
      "after req resource if available : {<simpy.resources.resource.Resource object at 0x0000027313777F88>: <Request() object at 0x2731377dcc8>, <simpy.resources.resource.Resource object at 0x000002731386F288>: <Request() object at 0x2731377d408>}\n",
      "_shift_amount\n",
      "start _shift_amount\n",
      "amount 1\n",
      "processor start process\n",
      "transfer default to Dumplocatie\n",
      "processor process without rate\n",
      "origin store before get: [{'id': 'default', 'level': 2, 'capacity': 1}]\n",
      "start get 1\n",
      "store_status {'id': 'default', 'level': 2, 'capacity': 1}\n",
      "end get 1\n",
      "get_callback - id_ <StorePut() object at 0x2731101fec8>\n",
      "start get_callback\n",
      "{}\n",
      "origin store after get: [{'id': 'default', 'level': 1, 'capacity': 1}]\n",
      "after get\n",
      "after check_down time\n",
      "destination store before put: [{'id': 'default', 'level': 1, 'capacity': 1}]\n",
      "<FilterStoreGet() object at 0x2731384f5c8>\n",
      "destination store before put: [{'id': 'default', 'level': 1, 'capacity': 1}]\n",
      "<FilterStoreGet() object at 0x2731377df08>\n",
      "put_callback - id_ default\n",
      "{}\n",
      "destination store after put: [{'id': 'default', 'level': 2, 'capacity': 1}]\n",
      "after put\n",
      "processor end process\n",
      "Processed 1 of default:\n",
      "  by:          Cutter2\n",
      "  origin        Winlocatie1  contains: 18 of default\n",
      "  destination:  Hopper2 contains: 2 of default\n",
      "after shift amount : {<simpy.resources.resource.Resource object at 0x000002731386F308>: <Request() object at 0x27313853a88>, <simpy.resources.resource.Resource object at 0x0000027313875A48>: <Request() object at 0x2731377a9c8>, <simpy.resources.resource.Resource object at 0x000002730CF8D7C8>: <Request() object at 0x2731384f208>}\n",
      "keep resources []\n",
      "release destination : {<simpy.resources.resource.Resource object at 0x0000027313875A48>: <Request() object at 0x2731377a9c8>, <simpy.resources.resource.Resource object at 0x000002730CF8D7C8>: <Request() object at 0x2731384f208>}\n",
      "released origin : {<simpy.resources.resource.Resource object at 0x0000027313875A48>: <Request() object at 0x2731377a9c8>}\n",
      "released processor : {}\n",
      "{}\n",
      "Activity end(Load)\n",
      "put_callback - id_ default\n",
      "{}\n",
      "destination store after put: [{'id': 'default', 'level': 2, 'capacity': 1}]\n",
      "after put\n",
      "processor end process\n",
      "Processed 1 of default:\n",
      "  by:          Cutter1\n",
      "  origin        Winlocatie1  contains: 18 of default\n",
      "  destination:  Hopper3 contains: 2 of default\n",
      "after shift amount : {<simpy.resources.resource.Resource object at 0x000002731386D4C8>: <Request() object at 0x2731377d608>, <simpy.resources.resource.Resource object at 0x0000027313777608>: <Request() object at 0x2731377aac8>, <simpy.resources.resource.Resource object at 0x000002730CF8D7C8>: <Request() object at 0x27313777bc8>}\n",
      "keep resources []\n",
      "release destination : {<simpy.resources.resource.Resource object at 0x0000027313777608>: <Request() object at 0x2731377aac8>, <simpy.resources.resource.Resource object at 0x000002730CF8D7C8>: <Request() object at 0x27313777bc8>}\n",
      "released origin : {<simpy.resources.resource.Resource object at 0x0000027313777608>: <Request() object at 0x2731377aac8>}\n",
      "released processor : {}\n",
      "{}\n",
      "Activity end(Load)\n",
      "<openclsim.model.MoveActivity object at 0x0000027313853B48>\n",
      "keep_resources []\n",
      "start event instance None\n",
      "Mover_move before mover resource request\n",
      "<openclsim.model.MoveActivity object at 0x000002731384E608>\n",
      "keep_resources []\n",
      "start event instance None\n",
      "Mover_move before mover resource request\n",
      "Mover_move after mover resource request\n",
      "Mover_move after mover resource request\n",
      "destination store before put: [{'id': 'default', 'level': 0, 'capacity': 24}]\n",
      "<FilterStoreGet() object at 0x2731377a488>\n",
      "Mover_move after move\n",
      "Activity end(sailing full)\n",
      "Mover_move after move\n",
      "Activity end(sailing full)\n",
      "put_callback - id_ default\n",
      "{}\n",
      "destination store after put: [{'id': 'default', 'level': 1, 'capacity': 24}]\n",
      "after put\n",
      "processor end process\n",
      "Processed 1 of default:\n",
      "  by:          Hopper1\n",
      "  origin        Hopper1  contains: 1 of default\n",
      "  destination:  Dumplocatie contains: 1 of default\n",
      "after shift amount : {<simpy.resources.resource.Resource object at 0x0000027313777F88>: <Request() object at 0x2731377dcc8>, <simpy.resources.resource.Resource object at 0x000002731386F288>: <Request() object at 0x2731377d408>}\n",
      "keep resources []\n",
      "release destination : {<simpy.resources.resource.Resource object at 0x000002731386F288>: <Request() object at 0x2731377d408>}\n",
      "released origin : {}\n",
      "released processor : {}\n",
      "{}\n",
      "Activity end(Unload)\n",
      "<openclsim.model.ShiftAmountActivity object at 0x00000273111F6988>\n",
      "keep_resources []\n",
      "SHift amount Activity keep_resources []\n",
      "start event instance None\n",
      "start : {}\n",
      "{'origin.41cef59d-aaff-11ea-98f2-2079183a5c9a': 2, 'destination.41cecfee-aaff-11ea-960e-2079183a5c9a': 23}\n",
      "<openclsim.model.ShiftAmountActivity object at 0x000002731384F248>\n",
      "keep_resources []\n",
      "SHift amount Activity keep_resources []\n",
      "start event instance None\n",
      "start : {}\n",
      "{'origin.41cef59e-aaff-11ea-9997-2079183a5c9a': 2, 'destination.41cecfee-aaff-11ea-960e-2079183a5c9a': 23}\n",
      "Activity end(run)\n",
      "Mover_move after mover resource request\n",
      "destination request : {<simpy.resources.resource.Resource object at 0x0000027313777F88>: <Request() object at 0x27313777388>}\n",
      "shift amount process keep_resources []\n",
      "start get_available\n",
      "Mover_move after mover resource request\n",
      "condition event triggered: False False round 0\n",
      "while loop requested_resources {}\n",
      "while loop keep_resources []\n",
      "<openclsim.model.SequentialActivity object at 0x000002731386D188>\n",
      "conditional \n",
      "start event instance None\n",
      "<openclsim.model.MoveActivity object at 0x000002731386D348>\n",
      "keep_resources []\n",
      "start event instance None\n",
      "Mover_move before mover resource request\n",
      "Mover_move after move\n",
      "Activity end(sailing full)\n",
      "Mover_move after move\n",
      "Activity end(sailing full)\n",
      "Mover_move after mover resource request\n",
      "<openclsim.model.ShiftAmountActivity object at 0x00000273138531C8>\n",
      "keep_resources []\n",
      "SHift amount Activity keep_resources []\n",
      "start event instance None\n",
      "start : {}\n",
      "{'origin.41cef59d-aaff-11ea-98f2-2079183a5c9a': 2, 'destination.41cecfee-aaff-11ea-960e-2079183a5c9a': 23}\n",
      "<openclsim.model.ShiftAmountActivity object at 0x000002731384EFC8>\n",
      "keep_resources []\n",
      "SHift amount Activity keep_resources []\n",
      "start event instance None\n",
      "start : {}\n",
      "{'origin.41cef59e-aaff-11ea-9997-2079183a5c9a': 2, 'destination.41cecfee-aaff-11ea-960e-2079183a5c9a': 23}\n",
      "Mover_move after move\n",
      "Activity end(sailing empty)\n",
      "<openclsim.model.ShiftAmountActivity object at 0x000002731386DF08>\n",
      "keep_resources []\n",
      "SHift amount Activity keep_resources []\n",
      "start event instance None\n",
      "start : {}\n",
      "{'origin.41cea906-aaff-11ea-aa1f-2079183a5c9a': 18, 'destination.41cef59c-aaff-11ea-9173-2079183a5c9a': 0}\n",
      "processor request : {<simpy.resources.resource.Resource object at 0x0000027313777F88>: <Request() object at 0x27313777388>, <simpy.resources.resource.Resource object at 0x000002731386F288>: <Request() object at 0x2731377d0c8>}\n",
      "site request : {<simpy.resources.resource.Resource object at 0x0000027313777F88>: <Request() object at 0x27313777388>, <simpy.resources.resource.Resource object at 0x000002731386F288>: <Request() object at 0x2731377d0c8>}\n",
      "end requestIfAvailable : {<simpy.resources.resource.Resource object at 0x0000027313777F88>: <Request() object at 0x27313777388>, <simpy.resources.resource.Resource object at 0x000002731386F288>: <Request() object at 0x2731377d0c8>}\n",
      "after req resource if available : {<simpy.resources.resource.Resource object at 0x0000027313777F88>: <Request() object at 0x27313777388>, <simpy.resources.resource.Resource object at 0x000002731386F288>: <Request() object at 0x2731377d0c8>}\n",
      "_shift_amount\n",
      "start _shift_amount\n",
      "amount 1\n",
      "processor start process\n"
     ]
    },
    {
     "ename": "RuntimeError",
     "evalue": "Attempting to shift content from an empty origin or to a full destination. ({'origin.41cea906-aaff-11ea-aa1f-2079183a5c9a': 18, 'destination.41cef59c-aaff-11ea-9173-2079183a5c9a': 0})",
     "output_type": "error",
     "traceback": [
      "\u001b[1;31m---------------------------------------------------------------------------\u001b[0m",
      "\u001b[1;31mRuntimeError\u001b[0m                              Traceback (most recent call last)",
      "\u001b[1;32mc:\\users\\d4l\\github\\openclsim\\openclsim\\model.py\u001b[0m in \u001b[0;36mconditional_process\u001b[1;34m(activity_log, env, condition_event, sub_process, name, requested_resources, keep_resources)\u001b[0m\n\u001b[0;32m    554\u001b[0m         \u001b[0msub_process\u001b[0m\u001b[1;33m.\u001b[0m\u001b[0mstart\u001b[0m\u001b[1;33m(\u001b[0m\u001b[1;33m)\u001b[0m\u001b[1;33m\u001b[0m\u001b[1;33m\u001b[0m\u001b[0m\n\u001b[1;32m--> 555\u001b[1;33m         \u001b[1;32myield\u001b[0m \u001b[1;32mfrom\u001b[0m \u001b[0msub_process\u001b[0m\u001b[1;33m.\u001b[0m\u001b[0mcall_main_proc\u001b[0m\u001b[1;33m(\u001b[0m\u001b[0mactivity_log\u001b[0m\u001b[1;33m=\u001b[0m\u001b[0mactivity_log\u001b[0m\u001b[1;33m,\u001b[0m \u001b[0menv\u001b[0m\u001b[1;33m=\u001b[0m\u001b[0menv\u001b[0m\u001b[1;33m)\u001b[0m\u001b[1;33m\u001b[0m\u001b[1;33m\u001b[0m\u001b[0m\n\u001b[0m\u001b[0;32m    556\u001b[0m         \u001b[0msub_process\u001b[0m\u001b[1;33m.\u001b[0m\u001b[0mend\u001b[0m\u001b[1;33m(\u001b[0m\u001b[1;33m)\u001b[0m\u001b[1;33m\u001b[0m\u001b[1;33m\u001b[0m\u001b[0m\n",
      "\u001b[1;32mc:\\users\\d4l\\github\\openclsim\\openclsim\\model.py\u001b[0m in \u001b[0;36msequential_process\u001b[1;34m(activity_log, env, sub_processes, name, requested_resources, keep_resources)\u001b[0m\n\u001b[0;32m    825\u001b[0m         \u001b[0msub_process\u001b[0m\u001b[1;33m.\u001b[0m\u001b[0mstart\u001b[0m\u001b[1;33m(\u001b[0m\u001b[1;33m)\u001b[0m\u001b[1;33m\u001b[0m\u001b[1;33m\u001b[0m\u001b[0m\n\u001b[1;32m--> 826\u001b[1;33m         \u001b[1;32myield\u001b[0m \u001b[1;32mfrom\u001b[0m \u001b[0msub_process\u001b[0m\u001b[1;33m.\u001b[0m\u001b[0mcall_main_proc\u001b[0m\u001b[1;33m(\u001b[0m\u001b[0mactivity_log\u001b[0m\u001b[1;33m=\u001b[0m\u001b[0msub_process\u001b[0m\u001b[1;33m,\u001b[0m \u001b[0menv\u001b[0m\u001b[1;33m=\u001b[0m\u001b[0menv\u001b[0m\u001b[1;33m)\u001b[0m\u001b[1;33m\u001b[0m\u001b[1;33m\u001b[0m\u001b[0m\n\u001b[0m\u001b[0;32m    827\u001b[0m         \u001b[0msub_process\u001b[0m\u001b[1;33m.\u001b[0m\u001b[0mend\u001b[0m\u001b[1;33m(\u001b[0m\u001b[1;33m)\u001b[0m\u001b[1;33m\u001b[0m\u001b[1;33m\u001b[0m\u001b[0m\n",
      "\u001b[1;32mc:\\users\\d4l\\github\\openclsim\\openclsim\\model.py\u001b[0m in \u001b[0;36mshift_amount_process\u001b[1;34m(activity_log, env, processor, origin, destination, name, duration, amount, requested_resources, keep_resources, id_, engine_order, stop_reservation_waiting_event)\u001b[0m\n\u001b[0;32m    784\u001b[0m         raise RuntimeError(\n\u001b[1;32m--> 785\u001b[1;33m             \u001b[1;34mf\"Attempting to shift content from an empty origin or to a full destination. ({all_amounts})\"\u001b[0m\u001b[1;33m\u001b[0m\u001b[1;33m\u001b[0m\u001b[0m\n\u001b[0m\u001b[0;32m    786\u001b[0m         )\n",
      "\u001b[1;31mRuntimeError\u001b[0m: Attempting to shift content from an empty origin or to a full destination. ({'origin.41cea906-aaff-11ea-aa1f-2079183a5c9a': 18, 'destination.41cef59c-aaff-11ea-9173-2079183a5c9a': 0})",
      "\nThe above exception was the direct cause of the following exception:\n",
      "\u001b[1;31mRuntimeError\u001b[0m                              Traceback (most recent call last)",
      "\u001b[1;32m<ipython-input-5-cf25dcac65e6>\u001b[0m in \u001b[0;36m<module>\u001b[1;34m\u001b[0m\n\u001b[1;32m----> 1\u001b[1;33m \u001b[0mmy_env\u001b[0m\u001b[1;33m.\u001b[0m\u001b[0mrun\u001b[0m\u001b[1;33m(\u001b[0m\u001b[1;33m)\u001b[0m\u001b[1;33m\u001b[0m\u001b[1;33m\u001b[0m\u001b[0m\n\u001b[0m",
      "\u001b[1;32m~\\AppData\\Local\\Continuum\\anaconda3\\lib\\site-packages\\simpy\\core.py\u001b[0m in \u001b[0;36mrun\u001b[1;34m(self, until)\u001b[0m\n\u001b[0;32m    136\u001b[0m         \u001b[1;32mtry\u001b[0m\u001b[1;33m:\u001b[0m\u001b[1;33m\u001b[0m\u001b[1;33m\u001b[0m\u001b[0m\n\u001b[0;32m    137\u001b[0m             \u001b[1;32mwhile\u001b[0m \u001b[1;32mTrue\u001b[0m\u001b[1;33m:\u001b[0m\u001b[1;33m\u001b[0m\u001b[1;33m\u001b[0m\u001b[0m\n\u001b[1;32m--> 138\u001b[1;33m                 \u001b[0mself\u001b[0m\u001b[1;33m.\u001b[0m\u001b[0mstep\u001b[0m\u001b[1;33m(\u001b[0m\u001b[1;33m)\u001b[0m\u001b[1;33m\u001b[0m\u001b[1;33m\u001b[0m\u001b[0m\n\u001b[0m\u001b[0;32m    139\u001b[0m         \u001b[1;32mexcept\u001b[0m \u001b[0mStopSimulation\u001b[0m \u001b[1;32mas\u001b[0m \u001b[0mexc\u001b[0m\u001b[1;33m:\u001b[0m\u001b[1;33m\u001b[0m\u001b[1;33m\u001b[0m\u001b[0m\n\u001b[0;32m    140\u001b[0m             \u001b[1;32mreturn\u001b[0m \u001b[0mexc\u001b[0m\u001b[1;33m.\u001b[0m\u001b[0margs\u001b[0m\u001b[1;33m[\u001b[0m\u001b[1;36m0\u001b[0m\u001b[1;33m]\u001b[0m  \u001b[1;31m# == until.value\u001b[0m\u001b[1;33m\u001b[0m\u001b[1;33m\u001b[0m\u001b[0m\n",
      "\u001b[1;32m~\\AppData\\Local\\Continuum\\anaconda3\\lib\\site-packages\\simpy\\core.py\u001b[0m in \u001b[0;36mstep\u001b[1;34m(self)\u001b[0m\n\u001b[0;32m    228\u001b[0m             \u001b[0mexc\u001b[0m \u001b[1;33m=\u001b[0m \u001b[0mtype\u001b[0m\u001b[1;33m(\u001b[0m\u001b[0mevent\u001b[0m\u001b[1;33m.\u001b[0m\u001b[0m_value\u001b[0m\u001b[1;33m)\u001b[0m\u001b[1;33m(\u001b[0m\u001b[1;33m*\u001b[0m\u001b[0mevent\u001b[0m\u001b[1;33m.\u001b[0m\u001b[0m_value\u001b[0m\u001b[1;33m.\u001b[0m\u001b[0margs\u001b[0m\u001b[1;33m)\u001b[0m\u001b[1;33m\u001b[0m\u001b[1;33m\u001b[0m\u001b[0m\n\u001b[0;32m    229\u001b[0m             \u001b[0mexc\u001b[0m\u001b[1;33m.\u001b[0m\u001b[0m__cause__\u001b[0m \u001b[1;33m=\u001b[0m \u001b[0mevent\u001b[0m\u001b[1;33m.\u001b[0m\u001b[0m_value\u001b[0m\u001b[1;33m\u001b[0m\u001b[1;33m\u001b[0m\u001b[0m\n\u001b[1;32m--> 230\u001b[1;33m             \u001b[1;32mraise\u001b[0m \u001b[0mexc\u001b[0m\u001b[1;33m\u001b[0m\u001b[1;33m\u001b[0m\u001b[0m\n\u001b[0m",
      "\u001b[1;31mRuntimeError\u001b[0m: Attempting to shift content from an empty origin or to a full destination. ({'origin.41cea906-aaff-11ea-aa1f-2079183a5c9a': 18, 'destination.41cef59c-aaff-11ea-9173-2079183a5c9a': 0})"
     ]
    }
   ],
   "source": [
    "my_env.run()"
   ]
  },
  {
   "cell_type": "code",
   "execution_count": 6,
   "metadata": {},
   "outputs": [
    {
     "name": "stdout",
     "output_type": "stream",
     "text": [
      "{'transfer default to Hopper1', 'transfer default to Hopper2', 'transfer default to Hopper3'}\n",
      "{'transfer default to Hopper1', 'transfer default to Hopper2', 'transfer default to Hopper3'}\n",
      "{'transfer default to Hopper1', 'transfer default to Dumplocatie', 'sailing filled', 'sailing empty'}\n",
      "{'transfer default to Hopper2', 'sailing filled', 'sailing empty'}\n",
      "{'transfer default to Hopper3', 'sailing filled', 'sailing empty'}\n",
      "{'transfer default to Hopper1', 'transfer default to Hopper2', 'transfer default to Hopper3'}\n"
     ]
    },
    {
     "data": {
      "text/html": [
       "        <script type=\"text/javascript\">\n",
       "        window.PlotlyConfig = {MathJaxConfig: 'local'};\n",
       "        if (window.MathJax) {MathJax.Hub.Config({SVG: {font: \"STIX-Web\"}});}\n",
       "        if (typeof require !== 'undefined') {\n",
       "        require.undef(\"plotly\");\n",
       "        requirejs.config({\n",
       "            paths: {\n",
       "                'plotly': ['https://cdn.plot.ly/plotly-latest.min']\n",
       "            }\n",
       "        });\n",
       "        require(['plotly'], function(Plotly) {\n",
       "            window._Plotly = Plotly;\n",
       "        });\n",
       "        }\n",
       "        </script>\n",
       "        "
      ]
     },
     "metadata": {},
     "output_type": "display_data"
    },
    {
     "data": {
      "application/vnd.plotly.v1+json": {
       "config": {
        "linkText": "Export to plot.ly",
        "plotlyServerURL": "https://plot.ly",
        "showLink": false
       },
       "data": [
        {
         "connectgaps": false,
         "hoverinfo": "y+name",
         "line": {
          "color": "rgb(0,170,0)",
          "width": 10
         },
         "mode": "lines",
         "name": "transfer default to Dumplocatie",
         "type": "scatter",
         "x": [
          "1970-01-01T03:11:26.780107",
          "1970-01-01T03:11:26.780107",
          "1970-01-01T04:11:26.780107",
          "1970-01-01T04:11:26.780107",
          "1970-01-01T04:11:26.780107",
          "1970-01-01T03:11:26.780107",
          "1970-01-01T03:11:26.780107",
          "1970-01-01T04:11:26.780107",
          "1970-01-01T04:11:26.780107",
          "1970-01-01T04:11:26.780107"
         ],
         "y": [
          "Hopper1",
          "Hopper1",
          "Hopper1",
          "Hopper1",
          null,
          "Hopper1",
          "Hopper1",
          "Hopper1",
          "Hopper1",
          null
         ]
        },
        {
         "connectgaps": false,
         "hoverinfo": "y+name",
         "line": {
          "color": "rgb(25,136,51)",
          "width": 10
         },
         "mode": "lines",
         "name": "sailing filled",
         "type": "scatter",
         "x": [
          "1970-01-01T03:00:00",
          "1970-01-01T03:00:00",
          "1970-01-01T03:11:26.780107",
          "1970-01-01T03:11:26.780107",
          "1970-01-01T03:11:26.780107",
          "1970-01-01T03:11:26.780107",
          "1970-01-01T03:11:26.780107",
          "1970-01-01T03:11:26.780107",
          "1970-01-01T03:11:26.780107",
          "1970-01-01T03:11:26.780107",
          "1970-01-01T04:11:26.780107",
          "1970-01-01T04:11:26.780107",
          "1970-01-01T04:22:53.560213",
          "1970-01-01T04:22:53.560213",
          "1970-01-01T04:22:53.560213",
          "1970-01-01T04:00:00",
          "1970-01-01T04:00:00",
          "1970-01-01T04:11:26.780107",
          "1970-01-01T04:11:26.780107",
          "1970-01-01T04:11:26.780107",
          "1970-01-01T04:11:26.780107",
          "1970-01-01T04:11:26.780107",
          "1970-01-01T04:11:26.780107",
          "1970-01-01T04:11:26.780107",
          "1970-01-01T04:11:26.780107",
          "1970-01-01T04:00:00",
          "1970-01-01T04:00:00",
          "1970-01-01T04:11:26.780107",
          "1970-01-01T04:11:26.780107",
          "1970-01-01T04:11:26.780107",
          "1970-01-01T04:11:26.780107",
          "1970-01-01T04:11:26.780107",
          "1970-01-01T04:11:26.780107",
          "1970-01-01T04:11:26.780107",
          "1970-01-01T04:11:26.780107"
         ],
         "y": [
          "Hopper1",
          "Hopper1",
          "Hopper1",
          "Hopper1",
          null,
          "Hopper1",
          "Hopper1",
          "Hopper1",
          "Hopper1",
          null,
          "Hopper1",
          "Hopper1",
          "Hopper1",
          "Hopper1",
          null,
          "Hopper2",
          "Hopper2",
          "Hopper2",
          "Hopper2",
          null,
          "Hopper2",
          "Hopper2",
          "Hopper2",
          "Hopper2",
          null,
          "Hopper3",
          "Hopper3",
          "Hopper3",
          "Hopper3",
          null,
          "Hopper3",
          "Hopper3",
          "Hopper3",
          "Hopper3",
          null
         ]
        },
        {
         "connectgaps": false,
         "hoverinfo": "y+name",
         "line": {
          "color": "rgb(51,102,102)",
          "width": 10
         },
         "mode": "lines",
         "name": "transfer default to Hopper1",
         "type": "scatter",
         "x": [
          "1970-01-01T02:00:00",
          "1970-01-01T02:00:00",
          "1970-01-01T03:00:00",
          "1970-01-01T03:00:00",
          "1970-01-01T03:00:00",
          "1970-01-01T01:00:00",
          "1970-01-01T01:00:00",
          "1970-01-01T02:00:00",
          "1970-01-01T02:00:00",
          "1970-01-01T02:00:00",
          "1970-01-01T01:00:00",
          "1970-01-01T01:00:00",
          "1970-01-01T02:00:00",
          "1970-01-01T02:00:00",
          "1970-01-01T02:00:00",
          "1970-01-01T02:00:00",
          "1970-01-01T02:00:00",
          "1970-01-01T03:00:00",
          "1970-01-01T03:00:00",
          "1970-01-01T03:00:00",
          "1970-01-01T01:00:00",
          "1970-01-01T01:00:00",
          "1970-01-01T02:00:00",
          "1970-01-01T02:00:00",
          "1970-01-01T02:00:00",
          "1970-01-01T02:00:00",
          "1970-01-01T02:00:00",
          "1970-01-01T03:00:00",
          "1970-01-01T03:00:00",
          "1970-01-01T03:00:00"
         ],
         "y": [
          "Cutter1",
          "Cutter1",
          "Cutter1",
          "Cutter1",
          null,
          "Cutter2",
          "Cutter2",
          "Cutter2",
          "Cutter2",
          null,
          "Hopper1",
          "Hopper1",
          "Hopper1",
          "Hopper1",
          null,
          "Hopper1",
          "Hopper1",
          "Hopper1",
          "Hopper1",
          null,
          "Winlocatie1",
          "Winlocatie1",
          "Winlocatie1",
          "Winlocatie1",
          null,
          "Winlocatie1",
          "Winlocatie1",
          "Winlocatie1",
          "Winlocatie1",
          null
         ]
        },
        {
         "connectgaps": false,
         "hoverinfo": "y+name",
         "line": {
          "color": "rgb(76,68,153)",
          "width": 10
         },
         "mode": "lines",
         "name": "transfer default to Hopper2",
         "type": "scatter",
         "x": [
          "1970-01-01T01:00:00",
          "1970-01-01T01:00:00",
          "1970-01-01T02:00:00",
          "1970-01-01T02:00:00",
          "1970-01-01T02:00:00",
          "1970-01-01T03:00:00",
          "1970-01-01T03:00:00",
          "1970-01-01T04:00:00",
          "1970-01-01T04:00:00",
          "1970-01-01T04:00:00",
          "1970-01-01T01:00:00",
          "1970-01-01T01:00:00",
          "1970-01-01T02:00:00",
          "1970-01-01T02:00:00",
          "1970-01-01T02:00:00",
          "1970-01-01T03:00:00",
          "1970-01-01T03:00:00",
          "1970-01-01T04:00:00",
          "1970-01-01T04:00:00",
          "1970-01-01T04:00:00",
          "1970-01-01T01:00:00",
          "1970-01-01T01:00:00",
          "1970-01-01T02:00:00",
          "1970-01-01T02:00:00",
          "1970-01-01T02:00:00",
          "1970-01-01T03:00:00",
          "1970-01-01T03:00:00",
          "1970-01-01T04:00:00",
          "1970-01-01T04:00:00",
          "1970-01-01T04:00:00"
         ],
         "y": [
          "Cutter1",
          "Cutter1",
          "Cutter1",
          "Cutter1",
          null,
          "Cutter2",
          "Cutter2",
          "Cutter2",
          "Cutter2",
          null,
          "Hopper2",
          "Hopper2",
          "Hopper2",
          "Hopper2",
          null,
          "Hopper2",
          "Hopper2",
          "Hopper2",
          "Hopper2",
          null,
          "Winlocatie1",
          "Winlocatie1",
          "Winlocatie1",
          "Winlocatie1",
          null,
          "Winlocatie1",
          "Winlocatie1",
          "Winlocatie1",
          "Winlocatie1",
          null
         ]
        },
        {
         "connectgaps": false,
         "hoverinfo": "y+name",
         "line": {
          "color": "rgb(102,34,204)",
          "width": 10
         },
         "mode": "lines",
         "name": "sailing empty",
         "type": "scatter",
         "x": [
          "1970-01-01T01:00:00",
          "1970-01-01T01:00:00",
          "1970-01-01T01:00:00",
          "1970-01-01T01:00:00",
          "1970-01-01T01:00:00",
          "1970-01-01T01:00:00",
          "1970-01-01T01:00:00",
          "1970-01-01T01:00:00",
          "1970-01-01T01:00:00",
          "1970-01-01T01:00:00",
          "1970-01-01T01:00:00",
          "1970-01-01T01:00:00",
          "1970-01-01T01:00:00",
          "1970-01-01T01:00:00",
          "1970-01-01T01:00:00",
          "1970-01-01T01:00:00",
          "1970-01-01T01:00:00",
          "1970-01-01T01:00:00",
          "1970-01-01T01:00:00",
          "1970-01-01T01:00:00",
          "1970-01-01T01:00:00",
          "1970-01-01T01:00:00",
          "1970-01-01T01:00:00",
          "1970-01-01T01:00:00",
          "1970-01-01T01:00:00",
          "1970-01-01T01:00:00",
          "1970-01-01T01:00:00",
          "1970-01-01T01:00:00",
          "1970-01-01T01:00:00",
          "1970-01-01T01:00:00"
         ],
         "y": [
          "Hopper1",
          "Hopper1",
          "Hopper1",
          "Hopper1",
          null,
          "Hopper1",
          "Hopper1",
          "Hopper1",
          "Hopper1",
          null,
          "Hopper2",
          "Hopper2",
          "Hopper2",
          "Hopper2",
          null,
          "Hopper2",
          "Hopper2",
          "Hopper2",
          "Hopper2",
          null,
          "Hopper3",
          "Hopper3",
          "Hopper3",
          "Hopper3",
          null,
          "Hopper3",
          "Hopper3",
          "Hopper3",
          "Hopper3",
          null
         ]
        },
        {
         "connectgaps": false,
         "hoverinfo": "y+name",
         "line": {
          "color": "rgb(127,0,255)",
          "width": 10
         },
         "mode": "lines",
         "name": "transfer default to Hopper3",
         "type": "scatter",
         "x": [
          "1970-01-01T03:00:00",
          "1970-01-01T03:00:00",
          "1970-01-01T04:00:00",
          "1970-01-01T04:00:00",
          "1970-01-01T04:00:00",
          "1970-01-01T02:00:00",
          "1970-01-01T02:00:00",
          "1970-01-01T03:00:00",
          "1970-01-01T03:00:00",
          "1970-01-01T03:00:00",
          "1970-01-01T02:00:00",
          "1970-01-01T02:00:00",
          "1970-01-01T03:00:00",
          "1970-01-01T03:00:00",
          "1970-01-01T03:00:00",
          "1970-01-01T03:00:00",
          "1970-01-01T03:00:00",
          "1970-01-01T04:00:00",
          "1970-01-01T04:00:00",
          "1970-01-01T04:00:00",
          "1970-01-01T02:00:00",
          "1970-01-01T02:00:00",
          "1970-01-01T03:00:00",
          "1970-01-01T03:00:00",
          "1970-01-01T03:00:00",
          "1970-01-01T03:00:00",
          "1970-01-01T03:00:00",
          "1970-01-01T04:00:00",
          "1970-01-01T04:00:00",
          "1970-01-01T04:00:00"
         ],
         "y": [
          "Cutter1",
          "Cutter1",
          "Cutter1",
          "Cutter1",
          null,
          "Cutter2",
          "Cutter2",
          "Cutter2",
          "Cutter2",
          null,
          "Hopper3",
          "Hopper3",
          "Hopper3",
          "Hopper3",
          null,
          "Hopper3",
          "Hopper3",
          "Hopper3",
          "Hopper3",
          null,
          "Winlocatie1",
          "Winlocatie1",
          "Winlocatie1",
          "Winlocatie1",
          null,
          "Winlocatie1",
          "Winlocatie1",
          "Winlocatie1",
          "Winlocatie1",
          null
         ]
        }
       ],
       "layout": {
        "hovermode": "closest",
        "legend": {
         "orientation": "h",
         "x": 0,
         "y": -0.2
        },
        "template": {
         "data": {
          "bar": [
           {
            "error_x": {
             "color": "#2a3f5f"
            },
            "error_y": {
             "color": "#2a3f5f"
            },
            "marker": {
             "line": {
              "color": "#E5ECF6",
              "width": 0.5
             }
            },
            "type": "bar"
           }
          ],
          "barpolar": [
           {
            "marker": {
             "line": {
              "color": "#E5ECF6",
              "width": 0.5
             }
            },
            "type": "barpolar"
           }
          ],
          "carpet": [
           {
            "aaxis": {
             "endlinecolor": "#2a3f5f",
             "gridcolor": "white",
             "linecolor": "white",
             "minorgridcolor": "white",
             "startlinecolor": "#2a3f5f"
            },
            "baxis": {
             "endlinecolor": "#2a3f5f",
             "gridcolor": "white",
             "linecolor": "white",
             "minorgridcolor": "white",
             "startlinecolor": "#2a3f5f"
            },
            "type": "carpet"
           }
          ],
          "choropleth": [
           {
            "colorbar": {
             "outlinewidth": 0,
             "ticks": ""
            },
            "type": "choropleth"
           }
          ],
          "contour": [
           {
            "colorbar": {
             "outlinewidth": 0,
             "ticks": ""
            },
            "colorscale": [
             [
              0,
              "#0d0887"
             ],
             [
              0.1111111111111111,
              "#46039f"
             ],
             [
              0.2222222222222222,
              "#7201a8"
             ],
             [
              0.3333333333333333,
              "#9c179e"
             ],
             [
              0.4444444444444444,
              "#bd3786"
             ],
             [
              0.5555555555555556,
              "#d8576b"
             ],
             [
              0.6666666666666666,
              "#ed7953"
             ],
             [
              0.7777777777777778,
              "#fb9f3a"
             ],
             [
              0.8888888888888888,
              "#fdca26"
             ],
             [
              1,
              "#f0f921"
             ]
            ],
            "type": "contour"
           }
          ],
          "contourcarpet": [
           {
            "colorbar": {
             "outlinewidth": 0,
             "ticks": ""
            },
            "type": "contourcarpet"
           }
          ],
          "heatmap": [
           {
            "colorbar": {
             "outlinewidth": 0,
             "ticks": ""
            },
            "colorscale": [
             [
              0,
              "#0d0887"
             ],
             [
              0.1111111111111111,
              "#46039f"
             ],
             [
              0.2222222222222222,
              "#7201a8"
             ],
             [
              0.3333333333333333,
              "#9c179e"
             ],
             [
              0.4444444444444444,
              "#bd3786"
             ],
             [
              0.5555555555555556,
              "#d8576b"
             ],
             [
              0.6666666666666666,
              "#ed7953"
             ],
             [
              0.7777777777777778,
              "#fb9f3a"
             ],
             [
              0.8888888888888888,
              "#fdca26"
             ],
             [
              1,
              "#f0f921"
             ]
            ],
            "type": "heatmap"
           }
          ],
          "heatmapgl": [
           {
            "colorbar": {
             "outlinewidth": 0,
             "ticks": ""
            },
            "colorscale": [
             [
              0,
              "#0d0887"
             ],
             [
              0.1111111111111111,
              "#46039f"
             ],
             [
              0.2222222222222222,
              "#7201a8"
             ],
             [
              0.3333333333333333,
              "#9c179e"
             ],
             [
              0.4444444444444444,
              "#bd3786"
             ],
             [
              0.5555555555555556,
              "#d8576b"
             ],
             [
              0.6666666666666666,
              "#ed7953"
             ],
             [
              0.7777777777777778,
              "#fb9f3a"
             ],
             [
              0.8888888888888888,
              "#fdca26"
             ],
             [
              1,
              "#f0f921"
             ]
            ],
            "type": "heatmapgl"
           }
          ],
          "histogram": [
           {
            "marker": {
             "colorbar": {
              "outlinewidth": 0,
              "ticks": ""
             }
            },
            "type": "histogram"
           }
          ],
          "histogram2d": [
           {
            "colorbar": {
             "outlinewidth": 0,
             "ticks": ""
            },
            "colorscale": [
             [
              0,
              "#0d0887"
             ],
             [
              0.1111111111111111,
              "#46039f"
             ],
             [
              0.2222222222222222,
              "#7201a8"
             ],
             [
              0.3333333333333333,
              "#9c179e"
             ],
             [
              0.4444444444444444,
              "#bd3786"
             ],
             [
              0.5555555555555556,
              "#d8576b"
             ],
             [
              0.6666666666666666,
              "#ed7953"
             ],
             [
              0.7777777777777778,
              "#fb9f3a"
             ],
             [
              0.8888888888888888,
              "#fdca26"
             ],
             [
              1,
              "#f0f921"
             ]
            ],
            "type": "histogram2d"
           }
          ],
          "histogram2dcontour": [
           {
            "colorbar": {
             "outlinewidth": 0,
             "ticks": ""
            },
            "colorscale": [
             [
              0,
              "#0d0887"
             ],
             [
              0.1111111111111111,
              "#46039f"
             ],
             [
              0.2222222222222222,
              "#7201a8"
             ],
             [
              0.3333333333333333,
              "#9c179e"
             ],
             [
              0.4444444444444444,
              "#bd3786"
             ],
             [
              0.5555555555555556,
              "#d8576b"
             ],
             [
              0.6666666666666666,
              "#ed7953"
             ],
             [
              0.7777777777777778,
              "#fb9f3a"
             ],
             [
              0.8888888888888888,
              "#fdca26"
             ],
             [
              1,
              "#f0f921"
             ]
            ],
            "type": "histogram2dcontour"
           }
          ],
          "mesh3d": [
           {
            "colorbar": {
             "outlinewidth": 0,
             "ticks": ""
            },
            "type": "mesh3d"
           }
          ],
          "parcoords": [
           {
            "line": {
             "colorbar": {
              "outlinewidth": 0,
              "ticks": ""
             }
            },
            "type": "parcoords"
           }
          ],
          "pie": [
           {
            "automargin": true,
            "type": "pie"
           }
          ],
          "scatter": [
           {
            "marker": {
             "colorbar": {
              "outlinewidth": 0,
              "ticks": ""
             }
            },
            "type": "scatter"
           }
          ],
          "scatter3d": [
           {
            "line": {
             "colorbar": {
              "outlinewidth": 0,
              "ticks": ""
             }
            },
            "marker": {
             "colorbar": {
              "outlinewidth": 0,
              "ticks": ""
             }
            },
            "type": "scatter3d"
           }
          ],
          "scattercarpet": [
           {
            "marker": {
             "colorbar": {
              "outlinewidth": 0,
              "ticks": ""
             }
            },
            "type": "scattercarpet"
           }
          ],
          "scattergeo": [
           {
            "marker": {
             "colorbar": {
              "outlinewidth": 0,
              "ticks": ""
             }
            },
            "type": "scattergeo"
           }
          ],
          "scattergl": [
           {
            "marker": {
             "colorbar": {
              "outlinewidth": 0,
              "ticks": ""
             }
            },
            "type": "scattergl"
           }
          ],
          "scattermapbox": [
           {
            "marker": {
             "colorbar": {
              "outlinewidth": 0,
              "ticks": ""
             }
            },
            "type": "scattermapbox"
           }
          ],
          "scatterpolar": [
           {
            "marker": {
             "colorbar": {
              "outlinewidth": 0,
              "ticks": ""
             }
            },
            "type": "scatterpolar"
           }
          ],
          "scatterpolargl": [
           {
            "marker": {
             "colorbar": {
              "outlinewidth": 0,
              "ticks": ""
             }
            },
            "type": "scatterpolargl"
           }
          ],
          "scatterternary": [
           {
            "marker": {
             "colorbar": {
              "outlinewidth": 0,
              "ticks": ""
             }
            },
            "type": "scatterternary"
           }
          ],
          "surface": [
           {
            "colorbar": {
             "outlinewidth": 0,
             "ticks": ""
            },
            "colorscale": [
             [
              0,
              "#0d0887"
             ],
             [
              0.1111111111111111,
              "#46039f"
             ],
             [
              0.2222222222222222,
              "#7201a8"
             ],
             [
              0.3333333333333333,
              "#9c179e"
             ],
             [
              0.4444444444444444,
              "#bd3786"
             ],
             [
              0.5555555555555556,
              "#d8576b"
             ],
             [
              0.6666666666666666,
              "#ed7953"
             ],
             [
              0.7777777777777778,
              "#fb9f3a"
             ],
             [
              0.8888888888888888,
              "#fdca26"
             ],
             [
              1,
              "#f0f921"
             ]
            ],
            "type": "surface"
           }
          ],
          "table": [
           {
            "cells": {
             "fill": {
              "color": "#EBF0F8"
             },
             "line": {
              "color": "white"
             }
            },
            "header": {
             "fill": {
              "color": "#C8D4E3"
             },
             "line": {
              "color": "white"
             }
            },
            "type": "table"
           }
          ]
         },
         "layout": {
          "annotationdefaults": {
           "arrowcolor": "#2a3f5f",
           "arrowhead": 0,
           "arrowwidth": 1
          },
          "coloraxis": {
           "colorbar": {
            "outlinewidth": 0,
            "ticks": ""
           }
          },
          "colorscale": {
           "diverging": [
            [
             0,
             "#8e0152"
            ],
            [
             0.1,
             "#c51b7d"
            ],
            [
             0.2,
             "#de77ae"
            ],
            [
             0.3,
             "#f1b6da"
            ],
            [
             0.4,
             "#fde0ef"
            ],
            [
             0.5,
             "#f7f7f7"
            ],
            [
             0.6,
             "#e6f5d0"
            ],
            [
             0.7,
             "#b8e186"
            ],
            [
             0.8,
             "#7fbc41"
            ],
            [
             0.9,
             "#4d9221"
            ],
            [
             1,
             "#276419"
            ]
           ],
           "sequential": [
            [
             0,
             "#0d0887"
            ],
            [
             0.1111111111111111,
             "#46039f"
            ],
            [
             0.2222222222222222,
             "#7201a8"
            ],
            [
             0.3333333333333333,
             "#9c179e"
            ],
            [
             0.4444444444444444,
             "#bd3786"
            ],
            [
             0.5555555555555556,
             "#d8576b"
            ],
            [
             0.6666666666666666,
             "#ed7953"
            ],
            [
             0.7777777777777778,
             "#fb9f3a"
            ],
            [
             0.8888888888888888,
             "#fdca26"
            ],
            [
             1,
             "#f0f921"
            ]
           ],
           "sequentialminus": [
            [
             0,
             "#0d0887"
            ],
            [
             0.1111111111111111,
             "#46039f"
            ],
            [
             0.2222222222222222,
             "#7201a8"
            ],
            [
             0.3333333333333333,
             "#9c179e"
            ],
            [
             0.4444444444444444,
             "#bd3786"
            ],
            [
             0.5555555555555556,
             "#d8576b"
            ],
            [
             0.6666666666666666,
             "#ed7953"
            ],
            [
             0.7777777777777778,
             "#fb9f3a"
            ],
            [
             0.8888888888888888,
             "#fdca26"
            ],
            [
             1,
             "#f0f921"
            ]
           ]
          },
          "colorway": [
           "#636efa",
           "#EF553B",
           "#00cc96",
           "#ab63fa",
           "#FFA15A",
           "#19d3f3",
           "#FF6692",
           "#B6E880",
           "#FF97FF",
           "#FECB52"
          ],
          "font": {
           "color": "#2a3f5f"
          },
          "geo": {
           "bgcolor": "white",
           "lakecolor": "white",
           "landcolor": "#E5ECF6",
           "showlakes": true,
           "showland": true,
           "subunitcolor": "white"
          },
          "hoverlabel": {
           "align": "left"
          },
          "hovermode": "closest",
          "mapbox": {
           "style": "light"
          },
          "paper_bgcolor": "white",
          "plot_bgcolor": "#E5ECF6",
          "polar": {
           "angularaxis": {
            "gridcolor": "white",
            "linecolor": "white",
            "ticks": ""
           },
           "bgcolor": "#E5ECF6",
           "radialaxis": {
            "gridcolor": "white",
            "linecolor": "white",
            "ticks": ""
           }
          },
          "scene": {
           "xaxis": {
            "backgroundcolor": "#E5ECF6",
            "gridcolor": "white",
            "gridwidth": 2,
            "linecolor": "white",
            "showbackground": true,
            "ticks": "",
            "zerolinecolor": "white"
           },
           "yaxis": {
            "backgroundcolor": "#E5ECF6",
            "gridcolor": "white",
            "gridwidth": 2,
            "linecolor": "white",
            "showbackground": true,
            "ticks": "",
            "zerolinecolor": "white"
           },
           "zaxis": {
            "backgroundcolor": "#E5ECF6",
            "gridcolor": "white",
            "gridwidth": 2,
            "linecolor": "white",
            "showbackground": true,
            "ticks": "",
            "zerolinecolor": "white"
           }
          },
          "shapedefaults": {
           "line": {
            "color": "#2a3f5f"
           }
          },
          "ternary": {
           "aaxis": {
            "gridcolor": "white",
            "linecolor": "white",
            "ticks": ""
           },
           "baxis": {
            "gridcolor": "white",
            "linecolor": "white",
            "ticks": ""
           },
           "bgcolor": "#E5ECF6",
           "caxis": {
            "gridcolor": "white",
            "linecolor": "white",
            "ticks": ""
           }
          },
          "title": {
           "x": 0.05
          },
          "xaxis": {
           "automargin": true,
           "gridcolor": "white",
           "linecolor": "white",
           "ticks": "",
           "title": {
            "standoff": 15
           },
           "zerolinecolor": "white",
           "zerolinewidth": 2
          },
          "yaxis": {
           "automargin": true,
           "gridcolor": "white",
           "linecolor": "white",
           "ticks": "",
           "title": {
            "standoff": 15
           },
           "zerolinecolor": "white",
           "zerolinewidth": 2
          }
         }
        },
        "title": {
         "text": "Vessel planning"
        },
        "xaxis": {
         "range": [
          "1970-01-01T01:00:00",
          "1970-01-01T08:00:00"
         ],
         "title": {
          "font": {
           "color": "#7f7f7f",
           "family": "Courier New, monospace",
           "size": 18
          },
          "text": "Time"
         }
        },
        "yaxis": {
         "title": {
          "font": {
           "color": "#7f7f7f",
           "family": "Courier New, monospace",
           "size": 18
          },
          "text": "Vessels"
         }
        }
       }
      },
      "text/html": [
       "<div>\n",
       "        \n",
       "        \n",
       "            <div id=\"9cd6f212-7645-4b50-88db-47f69703c2e7\" class=\"plotly-graph-div\" style=\"height:525px; width:100%;\"></div>\n",
       "            <script type=\"text/javascript\">\n",
       "                require([\"plotly\"], function(Plotly) {\n",
       "                    window.PLOTLYENV=window.PLOTLYENV || {};\n",
       "                    \n",
       "                if (document.getElementById(\"9cd6f212-7645-4b50-88db-47f69703c2e7\")) {\n",
       "                    Plotly.newPlot(\n",
       "                        '9cd6f212-7645-4b50-88db-47f69703c2e7',\n",
       "                        [{\"connectgaps\": false, \"hoverinfo\": \"y+name\", \"line\": {\"color\": \"rgb(0,170,0)\", \"width\": 10}, \"mode\": \"lines\", \"name\": \"transfer default to Dumplocatie\", \"type\": \"scatter\", \"x\": [\"1970-01-01T03:11:26.780107\", \"1970-01-01T03:11:26.780107\", \"1970-01-01T04:11:26.780107\", \"1970-01-01T04:11:26.780107\", \"1970-01-01T04:11:26.780107\", \"1970-01-01T03:11:26.780107\", \"1970-01-01T03:11:26.780107\", \"1970-01-01T04:11:26.780107\", \"1970-01-01T04:11:26.780107\", \"1970-01-01T04:11:26.780107\"], \"y\": [\"Hopper1\", \"Hopper1\", \"Hopper1\", \"Hopper1\", null, \"Hopper1\", \"Hopper1\", \"Hopper1\", \"Hopper1\", null]}, {\"connectgaps\": false, \"hoverinfo\": \"y+name\", \"line\": {\"color\": \"rgb(25,136,51)\", \"width\": 10}, \"mode\": \"lines\", \"name\": \"sailing filled\", \"type\": \"scatter\", \"x\": [\"1970-01-01T03:00:00\", \"1970-01-01T03:00:00\", \"1970-01-01T03:11:26.780107\", \"1970-01-01T03:11:26.780107\", \"1970-01-01T03:11:26.780107\", \"1970-01-01T03:11:26.780107\", \"1970-01-01T03:11:26.780107\", \"1970-01-01T03:11:26.780107\", \"1970-01-01T03:11:26.780107\", \"1970-01-01T03:11:26.780107\", \"1970-01-01T04:11:26.780107\", \"1970-01-01T04:11:26.780107\", \"1970-01-01T04:22:53.560213\", \"1970-01-01T04:22:53.560213\", \"1970-01-01T04:22:53.560213\", \"1970-01-01T04:00:00\", \"1970-01-01T04:00:00\", \"1970-01-01T04:11:26.780107\", \"1970-01-01T04:11:26.780107\", \"1970-01-01T04:11:26.780107\", \"1970-01-01T04:11:26.780107\", \"1970-01-01T04:11:26.780107\", \"1970-01-01T04:11:26.780107\", \"1970-01-01T04:11:26.780107\", \"1970-01-01T04:11:26.780107\", \"1970-01-01T04:00:00\", \"1970-01-01T04:00:00\", \"1970-01-01T04:11:26.780107\", \"1970-01-01T04:11:26.780107\", \"1970-01-01T04:11:26.780107\", \"1970-01-01T04:11:26.780107\", \"1970-01-01T04:11:26.780107\", \"1970-01-01T04:11:26.780107\", \"1970-01-01T04:11:26.780107\", \"1970-01-01T04:11:26.780107\"], \"y\": [\"Hopper1\", \"Hopper1\", \"Hopper1\", \"Hopper1\", null, \"Hopper1\", \"Hopper1\", \"Hopper1\", \"Hopper1\", null, \"Hopper1\", \"Hopper1\", \"Hopper1\", \"Hopper1\", null, \"Hopper2\", \"Hopper2\", \"Hopper2\", \"Hopper2\", null, \"Hopper2\", \"Hopper2\", \"Hopper2\", \"Hopper2\", null, \"Hopper3\", \"Hopper3\", \"Hopper3\", \"Hopper3\", null, \"Hopper3\", \"Hopper3\", \"Hopper3\", \"Hopper3\", null]}, {\"connectgaps\": false, \"hoverinfo\": \"y+name\", \"line\": {\"color\": \"rgb(51,102,102)\", \"width\": 10}, \"mode\": \"lines\", \"name\": \"transfer default to Hopper1\", \"type\": \"scatter\", \"x\": [\"1970-01-01T02:00:00\", \"1970-01-01T02:00:00\", \"1970-01-01T03:00:00\", \"1970-01-01T03:00:00\", \"1970-01-01T03:00:00\", \"1970-01-01T01:00:00\", \"1970-01-01T01:00:00\", \"1970-01-01T02:00:00\", \"1970-01-01T02:00:00\", \"1970-01-01T02:00:00\", \"1970-01-01T01:00:00\", \"1970-01-01T01:00:00\", \"1970-01-01T02:00:00\", \"1970-01-01T02:00:00\", \"1970-01-01T02:00:00\", \"1970-01-01T02:00:00\", \"1970-01-01T02:00:00\", \"1970-01-01T03:00:00\", \"1970-01-01T03:00:00\", \"1970-01-01T03:00:00\", \"1970-01-01T01:00:00\", \"1970-01-01T01:00:00\", \"1970-01-01T02:00:00\", \"1970-01-01T02:00:00\", \"1970-01-01T02:00:00\", \"1970-01-01T02:00:00\", \"1970-01-01T02:00:00\", \"1970-01-01T03:00:00\", \"1970-01-01T03:00:00\", \"1970-01-01T03:00:00\"], \"y\": [\"Cutter1\", \"Cutter1\", \"Cutter1\", \"Cutter1\", null, \"Cutter2\", \"Cutter2\", \"Cutter2\", \"Cutter2\", null, \"Hopper1\", \"Hopper1\", \"Hopper1\", \"Hopper1\", null, \"Hopper1\", \"Hopper1\", \"Hopper1\", \"Hopper1\", null, \"Winlocatie1\", \"Winlocatie1\", \"Winlocatie1\", \"Winlocatie1\", null, \"Winlocatie1\", \"Winlocatie1\", \"Winlocatie1\", \"Winlocatie1\", null]}, {\"connectgaps\": false, \"hoverinfo\": \"y+name\", \"line\": {\"color\": \"rgb(76,68,153)\", \"width\": 10}, \"mode\": \"lines\", \"name\": \"transfer default to Hopper2\", \"type\": \"scatter\", \"x\": [\"1970-01-01T01:00:00\", \"1970-01-01T01:00:00\", \"1970-01-01T02:00:00\", \"1970-01-01T02:00:00\", \"1970-01-01T02:00:00\", \"1970-01-01T03:00:00\", \"1970-01-01T03:00:00\", \"1970-01-01T04:00:00\", \"1970-01-01T04:00:00\", \"1970-01-01T04:00:00\", \"1970-01-01T01:00:00\", \"1970-01-01T01:00:00\", \"1970-01-01T02:00:00\", \"1970-01-01T02:00:00\", \"1970-01-01T02:00:00\", \"1970-01-01T03:00:00\", \"1970-01-01T03:00:00\", \"1970-01-01T04:00:00\", \"1970-01-01T04:00:00\", \"1970-01-01T04:00:00\", \"1970-01-01T01:00:00\", \"1970-01-01T01:00:00\", \"1970-01-01T02:00:00\", \"1970-01-01T02:00:00\", \"1970-01-01T02:00:00\", \"1970-01-01T03:00:00\", \"1970-01-01T03:00:00\", \"1970-01-01T04:00:00\", \"1970-01-01T04:00:00\", \"1970-01-01T04:00:00\"], \"y\": [\"Cutter1\", \"Cutter1\", \"Cutter1\", \"Cutter1\", null, \"Cutter2\", \"Cutter2\", \"Cutter2\", \"Cutter2\", null, \"Hopper2\", \"Hopper2\", \"Hopper2\", \"Hopper2\", null, \"Hopper2\", \"Hopper2\", \"Hopper2\", \"Hopper2\", null, \"Winlocatie1\", \"Winlocatie1\", \"Winlocatie1\", \"Winlocatie1\", null, \"Winlocatie1\", \"Winlocatie1\", \"Winlocatie1\", \"Winlocatie1\", null]}, {\"connectgaps\": false, \"hoverinfo\": \"y+name\", \"line\": {\"color\": \"rgb(102,34,204)\", \"width\": 10}, \"mode\": \"lines\", \"name\": \"sailing empty\", \"type\": \"scatter\", \"x\": [\"1970-01-01T01:00:00\", \"1970-01-01T01:00:00\", \"1970-01-01T01:00:00\", \"1970-01-01T01:00:00\", \"1970-01-01T01:00:00\", \"1970-01-01T01:00:00\", \"1970-01-01T01:00:00\", \"1970-01-01T01:00:00\", \"1970-01-01T01:00:00\", \"1970-01-01T01:00:00\", \"1970-01-01T01:00:00\", \"1970-01-01T01:00:00\", \"1970-01-01T01:00:00\", \"1970-01-01T01:00:00\", \"1970-01-01T01:00:00\", \"1970-01-01T01:00:00\", \"1970-01-01T01:00:00\", \"1970-01-01T01:00:00\", \"1970-01-01T01:00:00\", \"1970-01-01T01:00:00\", \"1970-01-01T01:00:00\", \"1970-01-01T01:00:00\", \"1970-01-01T01:00:00\", \"1970-01-01T01:00:00\", \"1970-01-01T01:00:00\", \"1970-01-01T01:00:00\", \"1970-01-01T01:00:00\", \"1970-01-01T01:00:00\", \"1970-01-01T01:00:00\", \"1970-01-01T01:00:00\"], \"y\": [\"Hopper1\", \"Hopper1\", \"Hopper1\", \"Hopper1\", null, \"Hopper1\", \"Hopper1\", \"Hopper1\", \"Hopper1\", null, \"Hopper2\", \"Hopper2\", \"Hopper2\", \"Hopper2\", null, \"Hopper2\", \"Hopper2\", \"Hopper2\", \"Hopper2\", null, \"Hopper3\", \"Hopper3\", \"Hopper3\", \"Hopper3\", null, \"Hopper3\", \"Hopper3\", \"Hopper3\", \"Hopper3\", null]}, {\"connectgaps\": false, \"hoverinfo\": \"y+name\", \"line\": {\"color\": \"rgb(127,0,255)\", \"width\": 10}, \"mode\": \"lines\", \"name\": \"transfer default to Hopper3\", \"type\": \"scatter\", \"x\": [\"1970-01-01T03:00:00\", \"1970-01-01T03:00:00\", \"1970-01-01T04:00:00\", \"1970-01-01T04:00:00\", \"1970-01-01T04:00:00\", \"1970-01-01T02:00:00\", \"1970-01-01T02:00:00\", \"1970-01-01T03:00:00\", \"1970-01-01T03:00:00\", \"1970-01-01T03:00:00\", \"1970-01-01T02:00:00\", \"1970-01-01T02:00:00\", \"1970-01-01T03:00:00\", \"1970-01-01T03:00:00\", \"1970-01-01T03:00:00\", \"1970-01-01T03:00:00\", \"1970-01-01T03:00:00\", \"1970-01-01T04:00:00\", \"1970-01-01T04:00:00\", \"1970-01-01T04:00:00\", \"1970-01-01T02:00:00\", \"1970-01-01T02:00:00\", \"1970-01-01T03:00:00\", \"1970-01-01T03:00:00\", \"1970-01-01T03:00:00\", \"1970-01-01T03:00:00\", \"1970-01-01T03:00:00\", \"1970-01-01T04:00:00\", \"1970-01-01T04:00:00\", \"1970-01-01T04:00:00\"], \"y\": [\"Cutter1\", \"Cutter1\", \"Cutter1\", \"Cutter1\", null, \"Cutter2\", \"Cutter2\", \"Cutter2\", \"Cutter2\", null, \"Hopper3\", \"Hopper3\", \"Hopper3\", \"Hopper3\", null, \"Hopper3\", \"Hopper3\", \"Hopper3\", \"Hopper3\", null, \"Winlocatie1\", \"Winlocatie1\", \"Winlocatie1\", \"Winlocatie1\", null, \"Winlocatie1\", \"Winlocatie1\", \"Winlocatie1\", \"Winlocatie1\", null]}],\n",
       "                        {\"hovermode\": \"closest\", \"legend\": {\"orientation\": \"h\", \"x\": 0, \"y\": -0.2}, \"template\": {\"data\": {\"bar\": [{\"error_x\": {\"color\": \"#2a3f5f\"}, \"error_y\": {\"color\": \"#2a3f5f\"}, \"marker\": {\"line\": {\"color\": \"#E5ECF6\", \"width\": 0.5}}, \"type\": \"bar\"}], \"barpolar\": [{\"marker\": {\"line\": {\"color\": \"#E5ECF6\", \"width\": 0.5}}, \"type\": \"barpolar\"}], \"carpet\": [{\"aaxis\": {\"endlinecolor\": \"#2a3f5f\", \"gridcolor\": \"white\", \"linecolor\": \"white\", \"minorgridcolor\": \"white\", \"startlinecolor\": \"#2a3f5f\"}, \"baxis\": {\"endlinecolor\": \"#2a3f5f\", \"gridcolor\": \"white\", \"linecolor\": \"white\", \"minorgridcolor\": \"white\", \"startlinecolor\": \"#2a3f5f\"}, \"type\": \"carpet\"}], \"choropleth\": [{\"colorbar\": {\"outlinewidth\": 0, \"ticks\": \"\"}, \"type\": \"choropleth\"}], \"contour\": [{\"colorbar\": {\"outlinewidth\": 0, \"ticks\": \"\"}, \"colorscale\": [[0.0, \"#0d0887\"], [0.1111111111111111, \"#46039f\"], [0.2222222222222222, \"#7201a8\"], [0.3333333333333333, \"#9c179e\"], [0.4444444444444444, \"#bd3786\"], [0.5555555555555556, \"#d8576b\"], [0.6666666666666666, \"#ed7953\"], [0.7777777777777778, \"#fb9f3a\"], [0.8888888888888888, \"#fdca26\"], [1.0, \"#f0f921\"]], \"type\": \"contour\"}], \"contourcarpet\": [{\"colorbar\": {\"outlinewidth\": 0, \"ticks\": \"\"}, \"type\": \"contourcarpet\"}], \"heatmap\": [{\"colorbar\": {\"outlinewidth\": 0, \"ticks\": \"\"}, \"colorscale\": [[0.0, \"#0d0887\"], [0.1111111111111111, \"#46039f\"], [0.2222222222222222, \"#7201a8\"], [0.3333333333333333, \"#9c179e\"], [0.4444444444444444, \"#bd3786\"], [0.5555555555555556, \"#d8576b\"], [0.6666666666666666, \"#ed7953\"], [0.7777777777777778, \"#fb9f3a\"], [0.8888888888888888, \"#fdca26\"], [1.0, \"#f0f921\"]], \"type\": \"heatmap\"}], \"heatmapgl\": [{\"colorbar\": {\"outlinewidth\": 0, \"ticks\": \"\"}, \"colorscale\": [[0.0, \"#0d0887\"], [0.1111111111111111, \"#46039f\"], [0.2222222222222222, \"#7201a8\"], [0.3333333333333333, \"#9c179e\"], [0.4444444444444444, \"#bd3786\"], [0.5555555555555556, \"#d8576b\"], [0.6666666666666666, \"#ed7953\"], [0.7777777777777778, \"#fb9f3a\"], [0.8888888888888888, \"#fdca26\"], [1.0, \"#f0f921\"]], \"type\": \"heatmapgl\"}], \"histogram\": [{\"marker\": {\"colorbar\": {\"outlinewidth\": 0, \"ticks\": \"\"}}, \"type\": \"histogram\"}], \"histogram2d\": [{\"colorbar\": {\"outlinewidth\": 0, \"ticks\": \"\"}, \"colorscale\": [[0.0, \"#0d0887\"], [0.1111111111111111, \"#46039f\"], [0.2222222222222222, \"#7201a8\"], [0.3333333333333333, \"#9c179e\"], [0.4444444444444444, \"#bd3786\"], [0.5555555555555556, \"#d8576b\"], [0.6666666666666666, \"#ed7953\"], [0.7777777777777778, \"#fb9f3a\"], [0.8888888888888888, \"#fdca26\"], [1.0, \"#f0f921\"]], \"type\": \"histogram2d\"}], \"histogram2dcontour\": [{\"colorbar\": {\"outlinewidth\": 0, \"ticks\": \"\"}, \"colorscale\": [[0.0, \"#0d0887\"], [0.1111111111111111, \"#46039f\"], [0.2222222222222222, \"#7201a8\"], [0.3333333333333333, \"#9c179e\"], [0.4444444444444444, \"#bd3786\"], [0.5555555555555556, \"#d8576b\"], [0.6666666666666666, \"#ed7953\"], [0.7777777777777778, \"#fb9f3a\"], [0.8888888888888888, \"#fdca26\"], [1.0, \"#f0f921\"]], \"type\": \"histogram2dcontour\"}], \"mesh3d\": [{\"colorbar\": {\"outlinewidth\": 0, \"ticks\": \"\"}, \"type\": \"mesh3d\"}], \"parcoords\": [{\"line\": {\"colorbar\": {\"outlinewidth\": 0, \"ticks\": \"\"}}, \"type\": \"parcoords\"}], \"pie\": [{\"automargin\": true, \"type\": \"pie\"}], \"scatter\": [{\"marker\": {\"colorbar\": {\"outlinewidth\": 0, \"ticks\": \"\"}}, \"type\": \"scatter\"}], \"scatter3d\": [{\"line\": {\"colorbar\": {\"outlinewidth\": 0, \"ticks\": \"\"}}, \"marker\": {\"colorbar\": {\"outlinewidth\": 0, \"ticks\": \"\"}}, \"type\": \"scatter3d\"}], \"scattercarpet\": [{\"marker\": {\"colorbar\": {\"outlinewidth\": 0, \"ticks\": \"\"}}, \"type\": \"scattercarpet\"}], \"scattergeo\": [{\"marker\": {\"colorbar\": {\"outlinewidth\": 0, \"ticks\": \"\"}}, \"type\": \"scattergeo\"}], \"scattergl\": [{\"marker\": {\"colorbar\": {\"outlinewidth\": 0, \"ticks\": \"\"}}, \"type\": \"scattergl\"}], \"scattermapbox\": [{\"marker\": {\"colorbar\": {\"outlinewidth\": 0, \"ticks\": \"\"}}, \"type\": \"scattermapbox\"}], \"scatterpolar\": [{\"marker\": {\"colorbar\": {\"outlinewidth\": 0, \"ticks\": \"\"}}, \"type\": \"scatterpolar\"}], \"scatterpolargl\": [{\"marker\": {\"colorbar\": {\"outlinewidth\": 0, \"ticks\": \"\"}}, \"type\": \"scatterpolargl\"}], \"scatterternary\": [{\"marker\": {\"colorbar\": {\"outlinewidth\": 0, \"ticks\": \"\"}}, \"type\": \"scatterternary\"}], \"surface\": [{\"colorbar\": {\"outlinewidth\": 0, \"ticks\": \"\"}, \"colorscale\": [[0.0, \"#0d0887\"], [0.1111111111111111, \"#46039f\"], [0.2222222222222222, \"#7201a8\"], [0.3333333333333333, \"#9c179e\"], [0.4444444444444444, \"#bd3786\"], [0.5555555555555556, \"#d8576b\"], [0.6666666666666666, \"#ed7953\"], [0.7777777777777778, \"#fb9f3a\"], [0.8888888888888888, \"#fdca26\"], [1.0, \"#f0f921\"]], \"type\": \"surface\"}], \"table\": [{\"cells\": {\"fill\": {\"color\": \"#EBF0F8\"}, \"line\": {\"color\": \"white\"}}, \"header\": {\"fill\": {\"color\": \"#C8D4E3\"}, \"line\": {\"color\": \"white\"}}, \"type\": \"table\"}]}, \"layout\": {\"annotationdefaults\": {\"arrowcolor\": \"#2a3f5f\", \"arrowhead\": 0, \"arrowwidth\": 1}, \"coloraxis\": {\"colorbar\": {\"outlinewidth\": 0, \"ticks\": \"\"}}, \"colorscale\": {\"diverging\": [[0, \"#8e0152\"], [0.1, \"#c51b7d\"], [0.2, \"#de77ae\"], [0.3, \"#f1b6da\"], [0.4, \"#fde0ef\"], [0.5, \"#f7f7f7\"], [0.6, \"#e6f5d0\"], [0.7, \"#b8e186\"], [0.8, \"#7fbc41\"], [0.9, \"#4d9221\"], [1, \"#276419\"]], \"sequential\": [[0.0, \"#0d0887\"], [0.1111111111111111, \"#46039f\"], [0.2222222222222222, \"#7201a8\"], [0.3333333333333333, \"#9c179e\"], [0.4444444444444444, \"#bd3786\"], [0.5555555555555556, \"#d8576b\"], [0.6666666666666666, \"#ed7953\"], [0.7777777777777778, \"#fb9f3a\"], [0.8888888888888888, \"#fdca26\"], [1.0, \"#f0f921\"]], \"sequentialminus\": [[0.0, \"#0d0887\"], [0.1111111111111111, \"#46039f\"], [0.2222222222222222, \"#7201a8\"], [0.3333333333333333, \"#9c179e\"], [0.4444444444444444, \"#bd3786\"], [0.5555555555555556, \"#d8576b\"], [0.6666666666666666, \"#ed7953\"], [0.7777777777777778, \"#fb9f3a\"], [0.8888888888888888, \"#fdca26\"], [1.0, \"#f0f921\"]]}, \"colorway\": [\"#636efa\", \"#EF553B\", \"#00cc96\", \"#ab63fa\", \"#FFA15A\", \"#19d3f3\", \"#FF6692\", \"#B6E880\", \"#FF97FF\", \"#FECB52\"], \"font\": {\"color\": \"#2a3f5f\"}, \"geo\": {\"bgcolor\": \"white\", \"lakecolor\": \"white\", \"landcolor\": \"#E5ECF6\", \"showlakes\": true, \"showland\": true, \"subunitcolor\": \"white\"}, \"hoverlabel\": {\"align\": \"left\"}, \"hovermode\": \"closest\", \"mapbox\": {\"style\": \"light\"}, \"paper_bgcolor\": \"white\", \"plot_bgcolor\": \"#E5ECF6\", \"polar\": {\"angularaxis\": {\"gridcolor\": \"white\", \"linecolor\": \"white\", \"ticks\": \"\"}, \"bgcolor\": \"#E5ECF6\", \"radialaxis\": {\"gridcolor\": \"white\", \"linecolor\": \"white\", \"ticks\": \"\"}}, \"scene\": {\"xaxis\": {\"backgroundcolor\": \"#E5ECF6\", \"gridcolor\": \"white\", \"gridwidth\": 2, \"linecolor\": \"white\", \"showbackground\": true, \"ticks\": \"\", \"zerolinecolor\": \"white\"}, \"yaxis\": {\"backgroundcolor\": \"#E5ECF6\", \"gridcolor\": \"white\", \"gridwidth\": 2, \"linecolor\": \"white\", \"showbackground\": true, \"ticks\": \"\", \"zerolinecolor\": \"white\"}, \"zaxis\": {\"backgroundcolor\": \"#E5ECF6\", \"gridcolor\": \"white\", \"gridwidth\": 2, \"linecolor\": \"white\", \"showbackground\": true, \"ticks\": \"\", \"zerolinecolor\": \"white\"}}, \"shapedefaults\": {\"line\": {\"color\": \"#2a3f5f\"}}, \"ternary\": {\"aaxis\": {\"gridcolor\": \"white\", \"linecolor\": \"white\", \"ticks\": \"\"}, \"baxis\": {\"gridcolor\": \"white\", \"linecolor\": \"white\", \"ticks\": \"\"}, \"bgcolor\": \"#E5ECF6\", \"caxis\": {\"gridcolor\": \"white\", \"linecolor\": \"white\", \"ticks\": \"\"}}, \"title\": {\"x\": 0.05}, \"xaxis\": {\"automargin\": true, \"gridcolor\": \"white\", \"linecolor\": \"white\", \"ticks\": \"\", \"title\": {\"standoff\": 15}, \"zerolinecolor\": \"white\", \"zerolinewidth\": 2}, \"yaxis\": {\"automargin\": true, \"gridcolor\": \"white\", \"linecolor\": \"white\", \"ticks\": \"\", \"title\": {\"standoff\": 15}, \"zerolinecolor\": \"white\", \"zerolinewidth\": 2}}}, \"title\": {\"text\": \"Vessel planning\"}, \"xaxis\": {\"range\": [\"1970-01-01T01:00:00\", \"1970-01-01T08:00:00\"], \"title\": {\"font\": {\"color\": \"#7f7f7f\", \"family\": \"Courier New, monospace\", \"size\": 18}, \"text\": \"Time\"}}, \"yaxis\": {\"title\": {\"font\": {\"color\": \"#7f7f7f\", \"family\": \"Courier New, monospace\", \"size\": 18}, \"text\": \"Vessels\"}}},\n",
       "                        {\"responsive\": true}\n",
       "                    ).then(function(){\n",
       "                            \n",
       "var gd = document.getElementById('9cd6f212-7645-4b50-88db-47f69703c2e7');\n",
       "var x = new MutationObserver(function (mutations, observer) {{\n",
       "        var display = window.getComputedStyle(gd).display;\n",
       "        if (!display || display === 'none') {{\n",
       "            console.log([gd, 'removed!']);\n",
       "            Plotly.purge(gd);\n",
       "            observer.disconnect();\n",
       "        }}\n",
       "}});\n",
       "\n",
       "// Listen for the removal of the full notebook cells\n",
       "var notebookContainer = gd.closest('#notebook-container');\n",
       "if (notebookContainer) {{\n",
       "    x.observe(notebookContainer, {childList: true});\n",
       "}}\n",
       "\n",
       "// Listen for the clearing of the current output cell\n",
       "var outputEl = gd.closest('.output');\n",
       "if (outputEl) {{\n",
       "    x.observe(outputEl, {childList: true});\n",
       "}}\n",
       "\n",
       "                        })\n",
       "                };\n",
       "                });\n",
       "            </script>\n",
       "        </div>"
      ]
     },
     "metadata": {},
     "output_type": "display_data"
    }
   ],
   "source": [
    "objects = [cutter1, cutter2, hopper1, hopper2, hopper3, from_site]\n",
    "\n",
    "activities = []\n",
    "for obj in objects:\n",
    "    print(set(obj.log[\"Message\"]))\n",
    "    activities.extend(set(obj.log[\"Message\"]))\n",
    "\n",
    "activities = list(set(activities))\n",
    "\n",
    "            \n",
    "C = np.linspace(0,255, len(activities))\n",
    "colors = {}\n",
    "\n",
    "for i in range(len(activities)):\n",
    "    colors[i] = f'rgb({int(C[i]/2)},{int(C[len(C) - 1 - i]/1.5)},{int(C[i])})'\n",
    "\n",
    "vessel_planning(objects, activities, colors)"
   ]
  },
  {
   "cell_type": "code",
   "execution_count": 9,
   "metadata": {},
   "outputs": [
    {
     "data": {
      "text/plain": [
       "18"
      ]
     },
     "execution_count": 9,
     "metadata": {},
     "output_type": "execute_result"
    }
   ],
   "source": [
    "from_site.container.get_level()"
   ]
  },
  {
   "cell_type": "code",
   "execution_count": 10,
   "metadata": {},
   "outputs": [
    {
     "data": {
      "text/plain": [
       "1"
      ]
     },
     "execution_count": 10,
     "metadata": {},
     "output_type": "execute_result"
    }
   ],
   "source": [
    "to_site.container.get_level()"
   ]
  },
  {
   "cell_type": "code",
   "execution_count": null,
   "metadata": {},
   "outputs": [],
   "source": []
  }
 ],
 "metadata": {
  "kernelspec": {
   "display_name": "Python 3",
   "language": "python",
   "name": "python3"
  },
  "language_info": {
   "codemirror_mode": {
    "name": "ipython",
    "version": 3
   },
   "file_extension": ".py",
   "mimetype": "text/x-python",
   "name": "python",
   "nbconvert_exporter": "python",
   "pygments_lexer": "ipython3",
   "version": "3.7.4"
  }
 },
 "nbformat": 4,
 "nbformat_minor": 2
}
