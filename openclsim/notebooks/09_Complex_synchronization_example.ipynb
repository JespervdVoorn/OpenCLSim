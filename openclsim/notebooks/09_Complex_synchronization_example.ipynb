{
 "cells": [
  {
   "cell_type": "markdown",
   "metadata": {},
   "source": [
    "# Demo Complex Process Synchronization\n",
    "In the Process Synchronization notebook the Synchronization using **start_events** was compared with a sequence of activities. However, the synchronization of two processes e.g. two vessels can not be implemented using sequence, but requires the **start_event** synchronization. \n",
    "\n",
    "In this demo two processes each consisting of a sequence of activities representing the processes of two vessels are synchronized, e.g. because they have to make a hand-over of material. \n",
    "\n",
    "This basic mechanism is also used in the feeder demo."
   ]
  },
  {
   "cell_type": "code",
   "execution_count": 28,
   "metadata": {},
   "outputs": [],
   "source": [
    "import datetime, time\n",
    "import simpy\n",
    "\n",
    "import pandas as pd\n",
    "import openclsim.core as core\n",
    "import openclsim.model as model\n",
    "import openclsim.plot as plot\n",
    "\n",
    "# setup environment\n",
    "simulation_start = 0\n",
    "my_env = simpy.Environment(initial_time=simulation_start)\n",
    "registry = {}\n",
    "keep_resources = {}"
   ]
  },
  {
   "cell_type": "markdown",
   "metadata": {},
   "source": [
    "## Definition of two sequences of basic activities\n",
    "The activity names of the first sequence all start with *A Basic activity*. Activity *A Basic activity3* is constrained such that it can only be executed after *B Basic activity 2* has been completed. Thus, in this demo, two processes controlled by a structural control element are synchronized with each other using **start_events**."
   ]
  },
  {
   "cell_type": "code",
   "execution_count": 29,
   "metadata": {},
   "outputs": [
    {
     "output_type": "stream",
     "name": "stdout",
     "text": "start event instance None\nstart event instance None\n"
    }
   ],
   "source": [
    "reporting_activity_data = {\n",
    "    \"env\": my_env,\n",
    "    \"name\": \"Reporting activity\",\n",
    "    \"ID\": \"6dbbbdf7-4589-11e9-bf3b-b469212bff5k\",  # For logging purposes\n",
    "    \"registry\": registry,\n",
    "    \"duration\": 0,\n",
    "    \"postpone_start\": False,\n",
    "    \"keep_resources\": keep_resources,\n",
    "}\n",
    "reporting_activity = model.BasicActivity(**reporting_activity_data)\n",
    "\n",
    "sub_processes = []\n",
    "basic_activity_data1 = {\n",
    "    \"env\": my_env,\n",
    "    \"name\": \"A Basic activity1\",\n",
    "    \"ID\": \"6dbbbdf7-4589-11e9-bf3b-b469212bff5b\",  # For logging purposes\n",
    "    \"registry\": registry,\n",
    "    \"duration\": 14,\n",
    "    \"postpone_start\": True,\n",
    "    \"additional_logs\": [reporting_activity],\n",
    "    \"keep_resources\": keep_resources,\n",
    "}\n",
    "sub_processes.append(model.BasicActivity(**basic_activity_data1))\n",
    "basic_activity_data2 = {\n",
    "    \"env\": my_env,\n",
    "    \"name\": \"A Basic activity2\",\n",
    "    \"ID\": \"6dbbbdf7-4589-11e9-bf3b-b469212bff5c\",  # For logging purposes\n",
    "    \"registry\": registry,\n",
    "    \"duration\": 10,\n",
    "    \"additional_logs\": [reporting_activity],\n",
    "    \"postpone_start\": True,\n",
    "    \"keep_resources\": keep_resources,\n",
    "}\n",
    "sub_processes.append(model.BasicActivity(**basic_activity_data2))\n",
    "basic_activity_data3 = {\n",
    "    \"env\": my_env,\n",
    "    \"name\": \"A Basic activity3\",\n",
    "    \"ID\": \"6dbbbdf7-4589-11e9-bf3b-b469212bff5d\",  # For logging purposes\n",
    "    \"registry\": registry,\n",
    "    \"duration\": 220,\n",
    "    \"additional_logs\": [reporting_activity],\n",
    "    \"postpone_start\": True,\n",
    "    \"keep_resources\": keep_resources,\n",
    "    \"start_event\": [{\"type\":\"activity\", \"name\": \"B Basic activity2\" , \"state\":\"done\"}],\n",
    "}\n",
    "sub_processes.append(model.BasicActivity(**basic_activity_data3))\n",
    "\n",
    "sequential_activity_data = {\n",
    "    \"env\": my_env,\n",
    "    \"name\": \"A Sequential process\",\n",
    "    \"ID\": \"6dbbbdf7-4589-11e9-bf3b-b469212bff60\",  # For logging purposes\n",
    "    \"registry\": registry,\n",
    "    \"sub_processes\": sub_processes,\n",
    "    \"keep_resources\": keep_resources,\n",
    "}\n",
    "activity = model.SequentialActivity(**sequential_activity_data)"
   ]
  },
  {
   "cell_type": "markdown",
   "metadata": {},
   "source": [
    "Process 2 definition"
   ]
  },
  {
   "cell_type": "code",
   "execution_count": 30,
   "metadata": {},
   "outputs": [
    {
     "output_type": "stream",
     "name": "stdout",
     "text": "start event instance None\n"
    }
   ],
   "source": [
    "sub_processes2 = []\n",
    "basic_activity_data4 = {\n",
    "    \"env\": my_env,\n",
    "    \"name\": \"B Basic activity1\",\n",
    "    \"ID\": \"5dbbbdf7-4589-11e9-bf3b-b469212bff5b\",  # For logging purposes\n",
    "    \"registry\": registry,\n",
    "    \"duration\": 1,\n",
    "    \"postpone_start\": True,\n",
    "    \"additional_logs\": [reporting_activity],\n",
    "    \"keep_resources\": keep_resources,\n",
    "}\n",
    "sub_processes2.append(model.BasicActivity(**basic_activity_data4))\n",
    "basic_activity_data5 = {\n",
    "    \"env\": my_env,\n",
    "    \"name\": \"B Basic activity2\",\n",
    "    \"ID\": \"5dbbbdf7-4589-11e9-bf3b-b469212bff5c\",  # For logging purposes\n",
    "    \"registry\": registry,\n",
    "    \"duration\": 500,\n",
    "    \"additional_logs\": [reporting_activity],\n",
    "    \"postpone_start\": True,\n",
    "    \"keep_resources\": keep_resources,\n",
    "}\n",
    "sub_processes2.append(model.BasicActivity(**basic_activity_data5))\n",
    "basic_activity_data6 = {\n",
    "    \"env\": my_env,\n",
    "    \"name\": \"B Basic activity3\",\n",
    "    \"ID\": \"5dbbbdf7-4589-11e9-bf3b-b469212bff5d\",  # For logging purposes\n",
    "    \"registry\": registry,\n",
    "    \"duration\": 120,\n",
    "    \"additional_logs\": [reporting_activity],\n",
    "    \"postpone_start\": True,\n",
    "    \"keep_resources\": keep_resources,\n",
    "}\n",
    "sub_processes2.append(model.BasicActivity(**basic_activity_data6))\n",
    "\n",
    "sequential_activity_data2 = {\n",
    "    \"env\": my_env,\n",
    "    \"name\": \"B Sequential process\",\n",
    "    \"ID\": \"5dbbbdf7-4589-11e9-bf3b-b469212bff60\",  # For logging purposes\n",
    "    \"registry\": registry,\n",
    "    \"sub_processes\": (proc for proc in sub_processes2),\n",
    "    \"keep_resources\": keep_resources,\n",
    "}\n",
    "activity2 = model.SequentialActivity(**sequential_activity_data2)"
   ]
  },
  {
   "cell_type": "code",
   "execution_count": 31,
   "metadata": {},
   "outputs": [
    {
     "output_type": "stream",
     "name": "stdout",
     "text": "<openclsim.model.BasicActivity object at 0x0000024B01C85C08>\nkeep_resources {}\nstart event instance None\n<openclsim.model.BasicActivity object at 0x0000024B01B74E88>\nkeep_resources {}\nstart event instance None\nActivity end()\n<openclsim.model.BasicActivity object at 0x0000024B01C60748>\nkeep_resources {}\nstart event instance None\nActivity end()\n<openclsim.model.BasicActivity object at 0x0000024B01C5A888>\nkeep_resources {}\nstart event instance None\nActivity end()\n<openclsim.model.BasicActivity object at 0x0000024B7FD50748>\nkeep_resources {}\nstart event expression [{'type': 'activity', 'name': 'B Basic activity2', 'state': 'done'}]\nstart event <Event() object at 0x24b01c26d48>\nstart event instance <Event() object at 0x24b01c26d48>\ndelayed process : <Event() object at 0x24b01c26d48>\nActivity end()\ndelayed process : after yield True\ndelayed process start subprocess functools.partial(<function basic_process at 0x0000024B7C9BB9D8>, name='A Basic activity3', duration=220, additional_logs=[<openclsim.model.BasicActivity object at 0x0000024B01C606C8>], requested_resources=[], keep_resources={})\n<openclsim.model.BasicActivity object at 0x0000024B01C8DEC8>\nkeep_resources {}\nstart event instance None\nActivity end()\nActivity end()\n"
    }
   ],
   "source": [
    "my_env.run()\n"
   ]
  },
  {
   "cell_type": "code",
   "execution_count": 32,
   "metadata": {},
   "outputs": [
    {
     "output_type": "execute_result",
     "data": {
      "text/plain": "               Message ActivityState           Timestamp  Value  \\\n0   Reporting activity         START 1970-01-01 01:00:00      0   \n1    A Basic activity1         START 1970-01-01 01:00:00     14   \n2    B Basic activity1         START 1970-01-01 01:00:00      1   \n3   Reporting activity          STOP 1970-01-01 01:00:00      0   \n4    B Basic activity1          STOP 1970-01-01 01:00:01      1   \n5    B Basic activity2         START 1970-01-01 01:00:01    500   \n6    A Basic activity1          STOP 1970-01-01 01:00:14     14   \n7    A Basic activity2         START 1970-01-01 01:00:14     10   \n8    A Basic activity2          STOP 1970-01-01 01:00:24     10   \n9    A Basic activity3    WAIT_START 1970-01-01 01:00:24     -1   \n10   B Basic activity2          STOP 1970-01-01 01:08:21    500   \n11   A Basic activity3     WAIT_STOP 1970-01-01 01:08:21     -1   \n12   A Basic activity3         START 1970-01-01 01:08:21    220   \n13   B Basic activity3         START 1970-01-01 01:08:21    120   \n14   B Basic activity3          STOP 1970-01-01 01:10:21    120   \n15   A Basic activity3          STOP 1970-01-01 01:12:01    220   \n\n                              ActivityID  \n0   6dbbbdf7-4589-11e9-bf3b-b469212bff5k  \n1   6dbbbdf7-4589-11e9-bf3b-b469212bff5b  \n2   5dbbbdf7-4589-11e9-bf3b-b469212bff5b  \n3   6dbbbdf7-4589-11e9-bf3b-b469212bff5k  \n4   5dbbbdf7-4589-11e9-bf3b-b469212bff5b  \n5   5dbbbdf7-4589-11e9-bf3b-b469212bff5c  \n6   6dbbbdf7-4589-11e9-bf3b-b469212bff5b  \n7   6dbbbdf7-4589-11e9-bf3b-b469212bff5c  \n8   6dbbbdf7-4589-11e9-bf3b-b469212bff5c  \n9   6dbbbdf7-4589-11e9-bf3b-b469212bff5d  \n10  5dbbbdf7-4589-11e9-bf3b-b469212bff5c  \n11  6dbbbdf7-4589-11e9-bf3b-b469212bff5d  \n12  6dbbbdf7-4589-11e9-bf3b-b469212bff5d  \n13  5dbbbdf7-4589-11e9-bf3b-b469212bff5d  \n14  5dbbbdf7-4589-11e9-bf3b-b469212bff5d  \n15  6dbbbdf7-4589-11e9-bf3b-b469212bff5d  ",
      "text/html": "<div>\n<style scoped>\n    .dataframe tbody tr th:only-of-type {\n        vertical-align: middle;\n    }\n\n    .dataframe tbody tr th {\n        vertical-align: top;\n    }\n\n    .dataframe thead th {\n        text-align: right;\n    }\n</style>\n<table border=\"1\" class=\"dataframe\">\n  <thead>\n    <tr style=\"text-align: right;\">\n      <th></th>\n      <th>Message</th>\n      <th>ActivityState</th>\n      <th>Timestamp</th>\n      <th>Value</th>\n      <th>ActivityID</th>\n    </tr>\n  </thead>\n  <tbody>\n    <tr>\n      <th>0</th>\n      <td>Reporting activity</td>\n      <td>START</td>\n      <td>1970-01-01 01:00:00</td>\n      <td>0</td>\n      <td>6dbbbdf7-4589-11e9-bf3b-b469212bff5k</td>\n    </tr>\n    <tr>\n      <th>1</th>\n      <td>A Basic activity1</td>\n      <td>START</td>\n      <td>1970-01-01 01:00:00</td>\n      <td>14</td>\n      <td>6dbbbdf7-4589-11e9-bf3b-b469212bff5b</td>\n    </tr>\n    <tr>\n      <th>2</th>\n      <td>B Basic activity1</td>\n      <td>START</td>\n      <td>1970-01-01 01:00:00</td>\n      <td>1</td>\n      <td>5dbbbdf7-4589-11e9-bf3b-b469212bff5b</td>\n    </tr>\n    <tr>\n      <th>3</th>\n      <td>Reporting activity</td>\n      <td>STOP</td>\n      <td>1970-01-01 01:00:00</td>\n      <td>0</td>\n      <td>6dbbbdf7-4589-11e9-bf3b-b469212bff5k</td>\n    </tr>\n    <tr>\n      <th>4</th>\n      <td>B Basic activity1</td>\n      <td>STOP</td>\n      <td>1970-01-01 01:00:01</td>\n      <td>1</td>\n      <td>5dbbbdf7-4589-11e9-bf3b-b469212bff5b</td>\n    </tr>\n    <tr>\n      <th>5</th>\n      <td>B Basic activity2</td>\n      <td>START</td>\n      <td>1970-01-01 01:00:01</td>\n      <td>500</td>\n      <td>5dbbbdf7-4589-11e9-bf3b-b469212bff5c</td>\n    </tr>\n    <tr>\n      <th>6</th>\n      <td>A Basic activity1</td>\n      <td>STOP</td>\n      <td>1970-01-01 01:00:14</td>\n      <td>14</td>\n      <td>6dbbbdf7-4589-11e9-bf3b-b469212bff5b</td>\n    </tr>\n    <tr>\n      <th>7</th>\n      <td>A Basic activity2</td>\n      <td>START</td>\n      <td>1970-01-01 01:00:14</td>\n      <td>10</td>\n      <td>6dbbbdf7-4589-11e9-bf3b-b469212bff5c</td>\n    </tr>\n    <tr>\n      <th>8</th>\n      <td>A Basic activity2</td>\n      <td>STOP</td>\n      <td>1970-01-01 01:00:24</td>\n      <td>10</td>\n      <td>6dbbbdf7-4589-11e9-bf3b-b469212bff5c</td>\n    </tr>\n    <tr>\n      <th>9</th>\n      <td>A Basic activity3</td>\n      <td>WAIT_START</td>\n      <td>1970-01-01 01:00:24</td>\n      <td>-1</td>\n      <td>6dbbbdf7-4589-11e9-bf3b-b469212bff5d</td>\n    </tr>\n    <tr>\n      <th>10</th>\n      <td>B Basic activity2</td>\n      <td>STOP</td>\n      <td>1970-01-01 01:08:21</td>\n      <td>500</td>\n      <td>5dbbbdf7-4589-11e9-bf3b-b469212bff5c</td>\n    </tr>\n    <tr>\n      <th>11</th>\n      <td>A Basic activity3</td>\n      <td>WAIT_STOP</td>\n      <td>1970-01-01 01:08:21</td>\n      <td>-1</td>\n      <td>6dbbbdf7-4589-11e9-bf3b-b469212bff5d</td>\n    </tr>\n    <tr>\n      <th>12</th>\n      <td>A Basic activity3</td>\n      <td>START</td>\n      <td>1970-01-01 01:08:21</td>\n      <td>220</td>\n      <td>6dbbbdf7-4589-11e9-bf3b-b469212bff5d</td>\n    </tr>\n    <tr>\n      <th>13</th>\n      <td>B Basic activity3</td>\n      <td>START</td>\n      <td>1970-01-01 01:08:21</td>\n      <td>120</td>\n      <td>5dbbbdf7-4589-11e9-bf3b-b469212bff5d</td>\n    </tr>\n    <tr>\n      <th>14</th>\n      <td>B Basic activity3</td>\n      <td>STOP</td>\n      <td>1970-01-01 01:10:21</td>\n      <td>120</td>\n      <td>5dbbbdf7-4589-11e9-bf3b-b469212bff5d</td>\n    </tr>\n    <tr>\n      <th>15</th>\n      <td>A Basic activity3</td>\n      <td>STOP</td>\n      <td>1970-01-01 01:12:01</td>\n      <td>220</td>\n      <td>6dbbbdf7-4589-11e9-bf3b-b469212bff5d</td>\n    </tr>\n  </tbody>\n</table>\n</div>"
     },
     "metadata": {},
     "execution_count": 32
    }
   ],
   "source": [
    "log_df = pd.DataFrame(reporting_activity.log)\n",
    "data =log_df[['Message', 'ActivityState', 'Timestamp', 'Value', 'ActivityID']]\n",
    "data_rep = data.drop_duplicates()\n",
    "data"
   ]
  },
  {
   "cell_type": "markdown",
   "metadata": {},
   "source": [
    "Both processes start at the same time. *A Basic activity3* enters waiting state since *A Basic activity2* has not been completed yet.\n",
    "\n",
    "**Hint:** Having a start_event based on the last activity of a sequence is currently not working. If the constraint is made based on the end of the parent sequence, then the intended synchronization can be accomplished.\n",
    "\n",
    "When changing the duration of *A Basic activity2* to 1000 then there will be no waiting since the *A Basic activity2* completes after *B Basic activity2* has been completed. "
   ]
  }
 ],
 "metadata": {
  "language_info": {
   "codemirror_mode": {
    "name": "ipython",
    "version": 3
   },
   "file_extension": ".py",
   "mimetype": "text/x-python",
   "name": "python",
   "nbconvert_exporter": "python",
   "pygments_lexer": "ipython3",
   "version": "3.7.7-final"
  },
  "orig_nbformat": 2,
  "kernelspec": {
   "name": "python3",
   "display_name": "Python 3"
  }
 },
 "nbformat": 4,
 "nbformat_minor": 2
}