{
 "cells": [
  {
   "cell_type": "markdown",
   "metadata": {},
   "source": [
    "# Demo SingleRun\n",
    "This notebook shows a single run consisting of the following four phases:\n",
    "* sail empty\n",
    "* loading\n",
    "* sail full\n",
    "* unloading"
   ]
  },
  {
   "cell_type": "code",
   "execution_count": 1,
   "metadata": {},
   "outputs": [],
   "source": [
    "import datetime, time\n",
    "import simpy\n",
    "\n",
    "import shapely.geometry\n",
    "from simplekml import Kml, Style\n",
    "\n",
    "import pandas as pd\n",
    "import openclsim.core as core\n",
    "import openclsim.model as model\n",
    "import openclsim.plot as plot\n",
    "\n",
    "# setup environment\n",
    "simulation_start = 0\n",
    "my_env = simpy.Environment(initial_time=simulation_start)\n",
    "registry = {}\n",
    "keep_resources = {}"
   ]
  },
  {
   "cell_type": "markdown",
   "metadata": {},
   "source": [
    "## Definition of Site"
   ]
  },
  {
   "cell_type": "code",
   "execution_count": 2,
   "metadata": {},
   "outputs": [
    {
     "output_type": "stream",
     "name": "stdout",
     "text": "init\nlevel: 6\ncompleted init\ninit\nlevel: 0\ncompleted init\n"
    }
   ],
   "source": [
    "# The generic site class\n",
    "Site = type(\n",
    "    \"Site\",\n",
    "    (\n",
    "        core.Identifiable,  # Give it a name\n",
    "        core.Log,  # Allow logging of all discrete events\n",
    "        core.Locatable,  # Add coordinates to extract distance information and visualize\n",
    "        core.HasContainer,  # Add information on the material available at the site\n",
    "        core.HasResource,\n",
    "    ),  # Add information on serving equipment\n",
    "    {},\n",
    ")  # The dictionary is empty because the site type is generic\n",
    "\n",
    "# Information on the extraction site - the \"from site\" - the \"win locatie\"\n",
    "location_from_site = shapely.geometry.Point(4.18055556, 52.18664444)  # lon, lat\n",
    "\n",
    "data_from_site = {\n",
    "    \"env\": my_env,  # The simpy environment defined in the first cel\n",
    "    \"name\": \"Winlocatie\",  # The name of the site\n",
    "    \"ID\": \"6dbbbdf4-4589-11e9-a501-b469212bff5d\",  # For logging purposes\n",
    "    \"geometry\": location_from_site,  # The coordinates of the project site\n",
    "    \"capacity\": 10,  # The capacity of the site\n",
    "    \"level\": 6,\n",
    "}  # The actual volume of the site\n",
    "\n",
    "# Information on the dumping site - the \"to site\" - the \"dump locatie\"\n",
    "location_to_site = shapely.geometry.Point(4.25222222, 52.11428333)  # lon, lat\n",
    "\n",
    "data_to_site = {\n",
    "    \"env\": my_env,  # The simpy environment defined in the first cel\n",
    "    \"name\": \"Dumplocatie\",  # The name of the site\n",
    "    \"ID\": \"6dbbbdf5-4589-11e9-82b2-b469212bff5c\",  # For logging purposes\n",
    "    \"geometry\": location_to_site,  # The coordinates of the project site\n",
    "    \"capacity\": 6,  # The capacity of the site\n",
    "    \"level\": 0,\n",
    "}  # The actual volume of the site (empty of course)\n",
    "\n",
    "# The two objects used for the simulation\n",
    "from_site = Site(**data_from_site)\n",
    "to_site = Site(**data_to_site)"
   ]
  },
  {
   "cell_type": "markdown",
   "metadata": {},
   "source": [
    "## Definition of Vessels"
   ]
  },
  {
   "cell_type": "code",
   "execution_count": 3,
   "metadata": {},
   "outputs": [
    {
     "output_type": "stream",
     "name": "stdout",
     "text": "init\nlevel: 0\ncompleted init\n"
    }
   ],
   "source": [
    "# The generic class for an object that can move and transport (a TSHD for example)\n",
    "TransportProcessingResource = type(\n",
    "    \"TransportProcessingResource\",\n",
    "    (\n",
    "        core.Identifiable,  # Give it a name\n",
    "        core.Log,  # Allow logging of all discrete events\n",
    "        core.ContainerDependentMovable,  # A moving container, so capacity and location\n",
    "        core.Processor,  # Allow for loading and unloading\n",
    "        core.HasResource,  # Add information on serving equipment\n",
    "        core.HasCosts,  # Add information on costs\n",
    "        core.LoadingFunction,  # Add a loading function\n",
    "        core.UnloadingFunction,  # Add an unloading function\n",
    "    ),\n",
    "    {},\n",
    ")\n",
    "\n",
    "# For more realistic simulation you might want to have speed dependent on the volume carried by the vessel\n",
    "def compute_v_provider(v_empty, v_full):\n",
    "    return lambda x: 10\n",
    "\n",
    "# TSHD variables\n",
    "data_hopper = {\n",
    "    \"env\": my_env,  # The simpy environment\n",
    "    \"name\": \"Hopper 01\",  # Name\n",
    "    \"ID\": \"6dbbbdf6-4589-11e9-95a2-b469212bff5b\",  # For logging purposes\n",
    "    \"geometry\": location_from_site,  # It starts at the \"from site\"\n",
    "    \"loading_rate\": 1,  # Loading rate\n",
    "    \"unloading_rate\": 1,  # Unloading rate\n",
    "    \"capacity\": 4,  # Capacity of the hopper - \"Beunvolume\"\n",
    "    \"compute_v\": compute_v_provider(5, 4.5),  # Variable speed\n",
    "    \"weekrate\": 7,\n",
    "}\n",
    "\n",
    "hopper = TransportProcessingResource(**data_hopper)"
   ]
  },
  {
   "cell_type": "markdown",
   "metadata": {},
   "source": [
    "## Definition of process"
   ]
  },
  {
   "cell_type": "code",
   "execution_count": 4,
   "metadata": {},
   "outputs": [
    {
     "output_type": "stream",
     "name": "stdout",
     "text": "while Activity keep_resources []\nget_full_event : default\nstart get_available\nstart event instance None\n"
    }
   ],
   "source": [
    "single_run = []\n",
    "\n",
    "move_activity_to_harbor_data = {\n",
    "    \"env\": my_env,  # The simpy environment defined in the first cel\n",
    "    \"name\": \"sailing empty\",  # We are moving soil\n",
    "    \"ID\": \"6dbbbdf7-4589-11e9-bf3b-b469212bff5d\",  # For logging purposes\n",
    "    \"registry\": registry,\n",
    "    \"mover\": hopper,\n",
    "    \"destination\": from_site,\n",
    "    \"postpone_start\": True,\n",
    "}\n",
    "single_run.append(model.MoveActivity(**move_activity_to_harbor_data))\n",
    "\n",
    "shift_amount_activity_loading_data = {\n",
    "    \"env\": my_env,  # The simpy environment defined in the first cel\n",
    "    \"name\": \"Transfer MP\",  # We are moving soil\n",
    "    \"ID\": \"6dbbbdf7-4589-11e9-bf3b-b469212bff52\",  # For logging purposes\n",
    "    \"registry\": registry,\n",
    "    \"processor\": hopper,\n",
    "    \"origin\": from_site,\n",
    "    \"destination\": hopper,\n",
    "    \"amount\": 4,\n",
    "    \"duration\": 10,\n",
    "    \"postpone_start\": True,\n",
    "}\n",
    "single_run.append(model.ShiftAmountActivity(**shift_amount_activity_loading_data))\n",
    "\n",
    "move_activity_to_site_data = {\n",
    "    \"env\": my_env,  # The simpy environment defined in the first cel\n",
    "    \"name\": \"sailing filler\",  # We are moving soil\n",
    "    \"ID\": \"6dbbbdf7-4589-11e9-bf3b-b469212bff5b\",  # For logging purposes\n",
    "    \"registry\": registry,\n",
    "    \"mover\": hopper,\n",
    "    \"destination\": to_site,\n",
    "    \"postpone_start\": True,\n",
    "}\n",
    "single_run.append(model.MoveActivity(**move_activity_to_site_data))\n",
    "\n",
    "shift_amount_activity_unloading_data = {\n",
    "    \"env\": my_env,  # The simpy environment defined in the first cel\n",
    "    \"name\": \"Transfer TP\",  # We are moving soil\n",
    "    \"ID\": \"6dbbbdf7-4589-11e9-bf3b-b469212bff54\",  # For logging purposes\n",
    "    \"registry\": registry,\n",
    "    \"processor\": hopper,\n",
    "    \"origin\": hopper,\n",
    "    \"destination\": to_site,\n",
    "    \"amount\": 4,\n",
    "    \"duration\": 10,\n",
    "    \"postpone_start\": True,\n",
    "}\n",
    "single_run.append(model.ShiftAmountActivity(**shift_amount_activity_unloading_data))\n",
    "\n",
    "basic_activity_data = {\n",
    "    \"env\": my_env,\n",
    "    \"name\": \"Basic activity\",\n",
    "    \"ID\": \"6dbbbdf7-4589-11e9-bf3b-b469212bff5h\",  # For logging purposes\n",
    "    \"registry\": registry,\n",
    "    \"duration\": 0,\n",
    "     \"additional_logs\": [hopper],\n",
    "    \"postpone_start\": True,\n",
    "}\n",
    "single_run.append(model.BasicActivity(**basic_activity_data))\n",
    "\n",
    "\n",
    "sequential_activity_data = {\n",
    "    \"env\": my_env,\n",
    "    \"name\": \"Single run process\",\n",
    "    \"ID\": \"6dbbbdf7-4589-11e9-bf3b-b469212bff60\",  # For logging purposes\n",
    "    \"registry\": registry,\n",
    "    \"sub_processes\": single_run,\n",
    "    \"postpone_start\": True,\n",
    "}\n",
    "activity = model.SequentialActivity(**sequential_activity_data)\n",
    "\n",
    "expr = [{\"type\":\"container\", \"concept\": to_site, \"state\":\"full\"}]\n",
    "while_data = {\n",
    "    \"env\": my_env,  # The simpy environment defined in the first cel\n",
    "    \"name\": \"while\",  # We are moving soil\n",
    "    \"ID\": \"6dbbbdf7-4589-11e9-bf3b-b469212bff5g\",  # For logging purposes\n",
    "    \"registry\": registry,\n",
    "    \"sub_process\": activity,\n",
    "    # \"condition_event\": [from_site.container.get_empty_event, to_site.container.get_full_event],\n",
    "    #\"condition_event\": to_site.container.get_full_event,\n",
    "    \"condition_event\": expr,\n",
    "    \"postpone_start\": False,\n",
    "}\n",
    "while_activity = model.WhileActivity(**while_data)\n"
   ]
  },
  {
   "cell_type": "code",
   "execution_count": 5,
   "metadata": {},
   "outputs": [
    {
     "output_type": "stream",
     "name": "stdout",
     "text": "<openclsim.model.SequentialActivity object at 0x000001F515653E48>\nconditional \nstart event instance None\n<openclsim.model.MoveActivity object at 0x000001F515650F08>\nkeep_resources []\nstart event instance None\nMover_move before mover resource request\nput_callback - id_ default\n{}\nput_callback - id_ default\n{'default': {6: <Event() object at 0x1f515657548>}}\namount :6\nput_callback - id_ default\n{}\nMover_move after mover resource request\nMover_move after move\nActivity end()\n<openclsim.model.ShiftAmountActivity object at 0x000001F5156532C8>\nkeep_resources []\nSHift amount Activity keep_resources []\nstart event instance None\nstart : {}\n{'origin.6dbbbdf4-4589-11e9-a501-b469212bff5d': 6, 'destination.6dbbbdf6-4589-11e9-95a2-b469212bff5b': 4}\ndestination request : {<simpy.resources.resource.Resource object at 0x000001F51564A1C8>: <Request() object at 0x1f515642508>}\nshift amount process keep_resources []\nstart get_available\nprocessor request : {<simpy.resources.resource.Resource object at 0x000001F51564A1C8>: <Request() object at 0x1f515642508>}\nsite request : {<simpy.resources.resource.Resource object at 0x000001F51564A1C8>: <Request() object at 0x1f515642508>, <simpy.resources.resource.Resource object at 0x000001F515642908>: <Request() object at 0x1f515642f08>}\nend requestIfAvailable : {<simpy.resources.resource.Resource object at 0x000001F51564A1C8>: <Request() object at 0x1f515642508>, <simpy.resources.resource.Resource object at 0x000001F515642908>: <Request() object at 0x1f515642f08>}\nafter req resource if available : {<simpy.resources.resource.Resource object at 0x000001F51564A1C8>: <Request() object at 0x1f515642508>, <simpy.resources.resource.Resource object at 0x000001F515642908>: <Request() object at 0x1f515642f08>}\n_shift_amount\nstart _shift_amount\namount 4\nprocessor start process\ntransfer default to Hopper 01\nprocessor process without rate\norigin store before get: [{'id': 'default', 'level': 6, 'capacity': 10}]\nstart get 4\nstore_status {'id': 'default', 'level': 6, 'capacity': 10}\nend get 4\nget_callback - id_ <StorePut() object at 0x1f515642388>\nstart get_callback\n{}\norigin store after get: [{'id': 'default', 'level': 2, 'capacity': 10}]\nafter get\nafter check_down time\ndestination store before put: [{'id': 'default', 'level': 0, 'capacity': 4}]\n<FilterStoreGet() object at 0x1f515642388>\nput_callback - id_ default\n{}\ndestination store after put: [{'id': 'default', 'level': 4, 'capacity': 4}]\nafter put\nprocessor end process\nProcessed 4 of default:\n  by:          Hopper 01\n  origin        Winlocatie  contains: 2 of default\n  destination:  Hopper 01 contains: 4 of default\nafter shift amount : {<simpy.resources.resource.Resource object at 0x000001F51564A1C8>: <Request() object at 0x1f515642508>, <simpy.resources.resource.Resource object at 0x000001F515642908>: <Request() object at 0x1f515642f08>}\nkeep resources []\nrelease destination : {<simpy.resources.resource.Resource object at 0x000001F515642908>: <Request() object at 0x1f515642f08>}\nreleased origin : {}\nreleased processor : {}\n{}\nActivity end()\n<openclsim.model.MoveActivity object at 0x000001F515653588>\nkeep_resources []\nstart event instance None\nMover_move before mover resource request\nMover_move after mover resource request\nMover_move after move\nActivity end()\n<openclsim.model.ShiftAmountActivity object at 0x000001F515653848>\nkeep_resources []\nSHift amount Activity keep_resources []\nstart event instance None\nstart : {}\n{'origin.6dbbbdf6-4589-11e9-95a2-b469212bff5b': 4, 'destination.6dbbbdf5-4589-11e9-82b2-b469212bff5c': 6}\ndestination request : {<simpy.resources.resource.Resource object at 0x000001F515642B48>: <Request() object at 0x1f515642fc8>}\nshift amount process keep_resources []\nstart get_available\nprocessor request : {<simpy.resources.resource.Resource object at 0x000001F515642B48>: <Request() object at 0x1f515642fc8>, <simpy.resources.resource.Resource object at 0x000001F51564A1C8>: <Request() object at 0x1f515642f08>}\nsite request : {<simpy.resources.resource.Resource object at 0x000001F515642B48>: <Request() object at 0x1f515642fc8>, <simpy.resources.resource.Resource object at 0x000001F51564A1C8>: <Request() object at 0x1f515642f08>}\nend requestIfAvailable : {<simpy.resources.resource.Resource object at 0x000001F515642B48>: <Request() object at 0x1f515642fc8>, <simpy.resources.resource.Resource object at 0x000001F51564A1C8>: <Request() object at 0x1f515642f08>}\nafter req resource if available : {<simpy.resources.resource.Resource object at 0x000001F515642B48>: <Request() object at 0x1f515642fc8>, <simpy.resources.resource.Resource object at 0x000001F51564A1C8>: <Request() object at 0x1f515642f08>}\n_shift_amount\nstart _shift_amount\namount 4\nprocessor start process\ntransfer default to Dumplocatie\nprocessor process without rate\norigin store before get: [{'id': 'default', 'level': 4, 'capacity': 4}]\nstart get 4\nstore_status {'id': 'default', 'level': 4, 'capacity': 4}\nend get 4\nget_callback - id_ <StorePut() object at 0x1f515642e88>\nstart get_callback\n{}\norigin store after get: [{'id': 'default', 'level': 0, 'capacity': 4}]\nafter get\nafter check_down time\ndestination store before put: [{'id': 'default', 'level': 0, 'capacity': 6}]\n<FilterStoreGet() object at 0x1f515642e88>\nput_callback - id_ default\n{'default': {6: <Event() object at 0x1f515657548>}}\namount :6\ndestination store after put: [{'id': 'default', 'level': 4, 'capacity': 6}]\nafter put\nprocessor end process\nProcessed 4 of default:\n  by:          Hopper 01\n  origin        Hopper 01  contains: 0 of default\n  destination:  Dumplocatie contains: 4 of default\nafter shift amount : {<simpy.resources.resource.Resource object at 0x000001F515642B48>: <Request() object at 0x1f515642fc8>, <simpy.resources.resource.Resource object at 0x000001F51564A1C8>: <Request() object at 0x1f515642f08>}\nkeep resources []\nrelease destination : {<simpy.resources.resource.Resource object at 0x000001F51564A1C8>: <Request() object at 0x1f515642f08>}\nreleased origin : {}\nreleased processor : {}\n{}\nActivity end()\n<openclsim.model.BasicActivity object at 0x000001F515653B08>\nkeep_resources []\nstart event instance None\nActivity end()\nActivity end()\ncondition event triggered: False False round 0\nwhile loop requested_resources {}\nwhile loop keep_resources []\n<openclsim.model.SequentialActivity object at 0x000001F515653E48>\nconditional \nstart event instance None\n<openclsim.model.MoveActivity object at 0x000001F515650F08>\nkeep_resources []\nstart event instance None\nMover_move before mover resource request\nMover_move after mover resource request\nMover_move after move\nActivity end()\n<openclsim.model.ShiftAmountActivity object at 0x000001F5156532C8>\nkeep_resources []\nSHift amount Activity keep_resources []\nstart event instance None\nstart : {}\n{'origin.6dbbbdf4-4589-11e9-a501-b469212bff5d': 2, 'destination.6dbbbdf6-4589-11e9-95a2-b469212bff5b': 4}\ndestination request : {<simpy.resources.resource.Resource object at 0x000001F51564A1C8>: <Request() object at 0x1f515642fc8>}\nshift amount process keep_resources []\nstart get_available\nprocessor request : {<simpy.resources.resource.Resource object at 0x000001F51564A1C8>: <Request() object at 0x1f515642fc8>}\nsite request : {<simpy.resources.resource.Resource object at 0x000001F51564A1C8>: <Request() object at 0x1f515642fc8>, <simpy.resources.resource.Resource object at 0x000001F515642908>: <Request() object at 0x1f515658e08>}\nend requestIfAvailable : {<simpy.resources.resource.Resource object at 0x000001F51564A1C8>: <Request() object at 0x1f515642fc8>, <simpy.resources.resource.Resource object at 0x000001F515642908>: <Request() object at 0x1f515658e08>}\nafter req resource if available : {<simpy.resources.resource.Resource object at 0x000001F51564A1C8>: <Request() object at 0x1f515642fc8>, <simpy.resources.resource.Resource object at 0x000001F515642908>: <Request() object at 0x1f515658e08>}\n_shift_amount\nstart _shift_amount\namount 2\nprocessor start process\ntransfer default to Hopper 01\nprocessor process without rate\norigin store before get: [{'id': 'default', 'level': 2, 'capacity': 10}]\nstart get 2\nstore_status {'id': 'default', 'level': 2, 'capacity': 10}\nend get 2\nget_callback - id_ <StorePut() object at 0x1f510feb988>\nstart get_callback\n{}\norigin store after get: [{'id': 'default', 'level': 0, 'capacity': 10}]\nafter get\nafter check_down time\ndestination store before put: [{'id': 'default', 'level': 0, 'capacity': 4}]\n<FilterStoreGet() object at 0x1f5156585c8>\nput_callback - id_ default\n{}\ndestination store after put: [{'id': 'default', 'level': 2, 'capacity': 4}]\nafter put\nprocessor end process\nProcessed 2 of default:\n  by:          Hopper 01\n  origin        Winlocatie  contains: 0 of default\n  destination:  Hopper 01 contains: 2 of default\nafter shift amount : {<simpy.resources.resource.Resource object at 0x000001F51564A1C8>: <Request() object at 0x1f515642fc8>, <simpy.resources.resource.Resource object at 0x000001F515642908>: <Request() object at 0x1f515658e08>}\nkeep resources []\nrelease destination : {<simpy.resources.resource.Resource object at 0x000001F515642908>: <Request() object at 0x1f515658e08>}\nreleased origin : {}\nreleased processor : {}\n{}\nActivity end()\n<openclsim.model.MoveActivity object at 0x000001F515653588>\nkeep_resources []\nstart event instance None\nMover_move before mover resource request\nMover_move after mover resource request\nMover_move after move\nActivity end()\n<openclsim.model.ShiftAmountActivity object at 0x000001F515653848>\nkeep_resources []\nSHift amount Activity keep_resources []\nstart event instance None\nstart : {}\n{'origin.6dbbbdf6-4589-11e9-95a2-b469212bff5b': 2, 'destination.6dbbbdf5-4589-11e9-82b2-b469212bff5c': 2}\ndestination request : {<simpy.resources.resource.Resource object at 0x000001F515642B48>: <Request() object at 0x1f51564a3c8>}\nshift amount process keep_resources []\nstart get_available\nprocessor request : {<simpy.resources.resource.Resource object at 0x000001F515642B48>: <Request() object at 0x1f51564a3c8>, <simpy.resources.resource.Resource object at 0x000001F51564A1C8>: <Request() object at 0x1f51565c108>}\nsite request : {<simpy.resources.resource.Resource object at 0x000001F515642B48>: <Request() object at 0x1f51564a3c8>, <simpy.resources.resource.Resource object at 0x000001F51564A1C8>: <Request() object at 0x1f51565c108>}\nend requestIfAvailable : {<simpy.resources.resource.Resource object at 0x000001F515642B48>: <Request() object at 0x1f51564a3c8>, <simpy.resources.resource.Resource object at 0x000001F51564A1C8>: <Request() object at 0x1f51565c108>}\nafter req resource if available : {<simpy.resources.resource.Resource object at 0x000001F515642B48>: <Request() object at 0x1f51564a3c8>, <simpy.resources.resource.Resource object at 0x000001F51564A1C8>: <Request() object at 0x1f51565c108>}\n_shift_amount\nstart _shift_amount\namount 2\nprocessor start process\ntransfer default to Dumplocatie\nprocessor process without rate\norigin store before get: [{'id': 'default', 'level': 2, 'capacity': 4}]\nstart get 2\nstore_status {'id': 'default', 'level': 2, 'capacity': 4}\nend get 2\nget_callback - id_ <StorePut() object at 0x1f51565c848>\nstart get_callback\n{}\norigin store after get: [{'id': 'default', 'level': 0, 'capacity': 4}]\nafter get\nafter check_down time\ndestination store before put: [{'id': 'default', 'level': 4, 'capacity': 6}]\n<FilterStoreGet() object at 0x1f51565c848>\nput_callback - id_ default\n{'default': {6: <Event() object at 0x1f515657548>}}\namount :6\ndestination store after put: [{'id': 'default', 'level': 6, 'capacity': 6}]\nafter put\nprocessor end process\nProcessed 2 of default:\n  by:          Hopper 01\n  origin        Hopper 01  contains: 0 of default\n  destination:  Dumplocatie contains: 6 of default\nafter shift amount : {<simpy.resources.resource.Resource object at 0x000001F515642B48>: <Request() object at 0x1f51564a3c8>, <simpy.resources.resource.Resource object at 0x000001F51564A1C8>: <Request() object at 0x1f51565c108>}\nkeep resources []\nrelease destination : {<simpy.resources.resource.Resource object at 0x000001F51564A1C8>: <Request() object at 0x1f51565c108>}\nreleased origin : {}\nreleased processor : {}\n{}\nActivity end()\n<openclsim.model.BasicActivity object at 0x000001F515653B08>\nkeep_resources []\nstart event instance None\nActivity end()\nActivity end()\ncondition event triggered: True True round 1\nwhile loop requested_resources {}\nwhile loop keep_resources []\n"
    }
   ],
   "source": [
    "my_env.run()\n"
   ]
  },
  {
   "cell_type": "code",
   "execution_count": 7,
   "metadata": {},
   "outputs": [
    {
     "output_type": "execute_result",
     "data": {
      "text/plain": "                            Message ActivityState                  Timestamp  \\\n0                     sailing empty         START 1970-01-01 01:00:00.000000   \n1                     sailing empty          STOP 1970-01-01 01:00:00.000000   \n2     transfer default to Hopper 01         START 1970-01-01 01:00:00.000000   \n4     transfer default to Hopper 01          STOP 1970-01-01 01:00:10.000000   \n6                    sailing filled         START 1970-01-01 01:00:10.000000   \n7                    sailing filled          STOP 1970-01-01 01:15:52.824591   \n8   transfer default to Dumplocatie         START 1970-01-01 01:15:52.824591   \n10  transfer default to Dumplocatie          STOP 1970-01-01 01:16:02.824591   \n12                   Basic activity         START 1970-01-01 01:16:02.824591   \n13                   Basic activity          STOP 1970-01-01 01:16:02.824591   \n14                    sailing empty         START 1970-01-01 01:16:02.824591   \n15                    sailing empty          STOP 1970-01-01 01:31:45.649183   \n16    transfer default to Hopper 01         START 1970-01-01 01:31:45.649183   \n18    transfer default to Hopper 01          STOP 1970-01-01 01:31:55.649183   \n20                   sailing filled         START 1970-01-01 01:31:55.649183   \n21                   sailing filled          STOP 1970-01-01 01:47:38.473774   \n22  transfer default to Dumplocatie         START 1970-01-01 01:47:38.473774   \n24  transfer default to Dumplocatie          STOP 1970-01-01 01:47:48.473774   \n26                   Basic activity         START 1970-01-01 01:47:48.473774   \n27                   Basic activity          STOP 1970-01-01 01:47:48.473774   \n\n    Value                            ActivityID  \n0       0  6dbbbdf7-4589-11e9-bf3b-b469212bff5d  \n1       0  6dbbbdf7-4589-11e9-bf3b-b469212bff5d  \n2       4  6dbbbdf7-4589-11e9-bf3b-b469212bff52  \n4       4  6dbbbdf7-4589-11e9-bf3b-b469212bff52  \n6       4  6dbbbdf7-4589-11e9-bf3b-b469212bff5b  \n7       4  6dbbbdf7-4589-11e9-bf3b-b469212bff5b  \n8       4  6dbbbdf7-4589-11e9-bf3b-b469212bff54  \n10      4  6dbbbdf7-4589-11e9-bf3b-b469212bff54  \n12      0  6dbbbdf7-4589-11e9-bf3b-b469212bff5h  \n13      0  6dbbbdf7-4589-11e9-bf3b-b469212bff5h  \n14      0  6dbbbdf7-4589-11e9-bf3b-b469212bff5d  \n15      0  6dbbbdf7-4589-11e9-bf3b-b469212bff5d  \n16      2  6dbbbdf7-4589-11e9-bf3b-b469212bff52  \n18      2  6dbbbdf7-4589-11e9-bf3b-b469212bff52  \n20      2  6dbbbdf7-4589-11e9-bf3b-b469212bff5b  \n21      2  6dbbbdf7-4589-11e9-bf3b-b469212bff5b  \n22      2  6dbbbdf7-4589-11e9-bf3b-b469212bff54  \n24      2  6dbbbdf7-4589-11e9-bf3b-b469212bff54  \n26      0  6dbbbdf7-4589-11e9-bf3b-b469212bff5h  \n27      0  6dbbbdf7-4589-11e9-bf3b-b469212bff5h  ",
      "text/html": "<div>\n<style scoped>\n    .dataframe tbody tr th:only-of-type {\n        vertical-align: middle;\n    }\n\n    .dataframe tbody tr th {\n        vertical-align: top;\n    }\n\n    .dataframe thead th {\n        text-align: right;\n    }\n</style>\n<table border=\"1\" class=\"dataframe\">\n  <thead>\n    <tr style=\"text-align: right;\">\n      <th></th>\n      <th>Message</th>\n      <th>ActivityState</th>\n      <th>Timestamp</th>\n      <th>Value</th>\n      <th>ActivityID</th>\n    </tr>\n  </thead>\n  <tbody>\n    <tr>\n      <th>0</th>\n      <td>sailing empty</td>\n      <td>START</td>\n      <td>1970-01-01 01:00:00.000000</td>\n      <td>0</td>\n      <td>6dbbbdf7-4589-11e9-bf3b-b469212bff5d</td>\n    </tr>\n    <tr>\n      <th>1</th>\n      <td>sailing empty</td>\n      <td>STOP</td>\n      <td>1970-01-01 01:00:00.000000</td>\n      <td>0</td>\n      <td>6dbbbdf7-4589-11e9-bf3b-b469212bff5d</td>\n    </tr>\n    <tr>\n      <th>2</th>\n      <td>transfer default to Hopper 01</td>\n      <td>START</td>\n      <td>1970-01-01 01:00:00.000000</td>\n      <td>4</td>\n      <td>6dbbbdf7-4589-11e9-bf3b-b469212bff52</td>\n    </tr>\n    <tr>\n      <th>4</th>\n      <td>transfer default to Hopper 01</td>\n      <td>STOP</td>\n      <td>1970-01-01 01:00:10.000000</td>\n      <td>4</td>\n      <td>6dbbbdf7-4589-11e9-bf3b-b469212bff52</td>\n    </tr>\n    <tr>\n      <th>6</th>\n      <td>sailing filled</td>\n      <td>START</td>\n      <td>1970-01-01 01:00:10.000000</td>\n      <td>4</td>\n      <td>6dbbbdf7-4589-11e9-bf3b-b469212bff5b</td>\n    </tr>\n    <tr>\n      <th>7</th>\n      <td>sailing filled</td>\n      <td>STOP</td>\n      <td>1970-01-01 01:15:52.824591</td>\n      <td>4</td>\n      <td>6dbbbdf7-4589-11e9-bf3b-b469212bff5b</td>\n    </tr>\n    <tr>\n      <th>8</th>\n      <td>transfer default to Dumplocatie</td>\n      <td>START</td>\n      <td>1970-01-01 01:15:52.824591</td>\n      <td>4</td>\n      <td>6dbbbdf7-4589-11e9-bf3b-b469212bff54</td>\n    </tr>\n    <tr>\n      <th>10</th>\n      <td>transfer default to Dumplocatie</td>\n      <td>STOP</td>\n      <td>1970-01-01 01:16:02.824591</td>\n      <td>4</td>\n      <td>6dbbbdf7-4589-11e9-bf3b-b469212bff54</td>\n    </tr>\n    <tr>\n      <th>12</th>\n      <td>Basic activity</td>\n      <td>START</td>\n      <td>1970-01-01 01:16:02.824591</td>\n      <td>0</td>\n      <td>6dbbbdf7-4589-11e9-bf3b-b469212bff5h</td>\n    </tr>\n    <tr>\n      <th>13</th>\n      <td>Basic activity</td>\n      <td>STOP</td>\n      <td>1970-01-01 01:16:02.824591</td>\n      <td>0</td>\n      <td>6dbbbdf7-4589-11e9-bf3b-b469212bff5h</td>\n    </tr>\n    <tr>\n      <th>14</th>\n      <td>sailing empty</td>\n      <td>START</td>\n      <td>1970-01-01 01:16:02.824591</td>\n      <td>0</td>\n      <td>6dbbbdf7-4589-11e9-bf3b-b469212bff5d</td>\n    </tr>\n    <tr>\n      <th>15</th>\n      <td>sailing empty</td>\n      <td>STOP</td>\n      <td>1970-01-01 01:31:45.649183</td>\n      <td>0</td>\n      <td>6dbbbdf7-4589-11e9-bf3b-b469212bff5d</td>\n    </tr>\n    <tr>\n      <th>16</th>\n      <td>transfer default to Hopper 01</td>\n      <td>START</td>\n      <td>1970-01-01 01:31:45.649183</td>\n      <td>2</td>\n      <td>6dbbbdf7-4589-11e9-bf3b-b469212bff52</td>\n    </tr>\n    <tr>\n      <th>18</th>\n      <td>transfer default to Hopper 01</td>\n      <td>STOP</td>\n      <td>1970-01-01 01:31:55.649183</td>\n      <td>2</td>\n      <td>6dbbbdf7-4589-11e9-bf3b-b469212bff52</td>\n    </tr>\n    <tr>\n      <th>20</th>\n      <td>sailing filled</td>\n      <td>START</td>\n      <td>1970-01-01 01:31:55.649183</td>\n      <td>2</td>\n      <td>6dbbbdf7-4589-11e9-bf3b-b469212bff5b</td>\n    </tr>\n    <tr>\n      <th>21</th>\n      <td>sailing filled</td>\n      <td>STOP</td>\n      <td>1970-01-01 01:47:38.473774</td>\n      <td>2</td>\n      <td>6dbbbdf7-4589-11e9-bf3b-b469212bff5b</td>\n    </tr>\n    <tr>\n      <th>22</th>\n      <td>transfer default to Dumplocatie</td>\n      <td>START</td>\n      <td>1970-01-01 01:47:38.473774</td>\n      <td>2</td>\n      <td>6dbbbdf7-4589-11e9-bf3b-b469212bff54</td>\n    </tr>\n    <tr>\n      <th>24</th>\n      <td>transfer default to Dumplocatie</td>\n      <td>STOP</td>\n      <td>1970-01-01 01:47:48.473774</td>\n      <td>2</td>\n      <td>6dbbbdf7-4589-11e9-bf3b-b469212bff54</td>\n    </tr>\n    <tr>\n      <th>26</th>\n      <td>Basic activity</td>\n      <td>START</td>\n      <td>1970-01-01 01:47:48.473774</td>\n      <td>0</td>\n      <td>6dbbbdf7-4589-11e9-bf3b-b469212bff5h</td>\n    </tr>\n    <tr>\n      <th>27</th>\n      <td>Basic activity</td>\n      <td>STOP</td>\n      <td>1970-01-01 01:47:48.473774</td>\n      <td>0</td>\n      <td>6dbbbdf7-4589-11e9-bf3b-b469212bff5h</td>\n    </tr>\n  </tbody>\n</table>\n</div>"
     },
     "metadata": {},
     "execution_count": 7
    }
   ],
   "source": [
    "log_df = pd.DataFrame(hopper.log)\n",
    "data =log_df[['Message', 'ActivityState', 'Timestamp', 'Value', 'ActivityID']]\n",
    "data = data.drop_duplicates()\n",
    "data"
   ]
  }
 ],
 "metadata": {
  "language_info": {
   "codemirror_mode": {
    "name": "ipython",
    "version": 3
   },
   "file_extension": ".py",
   "mimetype": "text/x-python",
   "name": "python",
   "nbconvert_exporter": "python",
   "pygments_lexer": "ipython3",
   "version": "3.7.7-final"
  },
  "orig_nbformat": 2,
  "kernelspec": {
   "name": "python3",
   "display_name": "Python 3"
  }
 },
 "nbformat": 4,
 "nbformat_minor": 2
}