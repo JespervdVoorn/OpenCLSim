{
 "cells": [
  {
   "cell_type": "markdown",
   "metadata": {},
   "source": [
    "# Demo Resource Synchronization\n",
    "Synchronization of resources means that before objects can be moved from one location to another, the processor as well as the origin and the destination resource must be available. If a resource is not available the process will wait untill the resource available.\n",
    "\n",
    "Currently this waiting time is not recorded in the logs. The waiting time can be derived from the activity log by identifying time differences between the completion of an activity and the start of the subsequent activity.\n",
    "\n",
    "This is an incomplete feature since preserve reservations can not be released automatically. Recommendation is to have a request_resource and a release_resource activity.\n",
    "\n",
    "The current mechanism is based on two attributes of activities\n",
    "- **keep_resources** a list of resources, which should not be released at the end of an activity\n",
    "- **reserved_resources** is a dictionary, should be initialized for all activities of a process with the same variable. This will enable the transfer of reserved resources from one activity to another one."
   ]
  },
  {
   "cell_type": "code",
   "execution_count": 8,
   "metadata": {},
   "outputs": [],
   "source": [
    "import datetime, time\n",
    "import simpy\n",
    "\n",
    "import shapely.geometry\n",
    "from simplekml import Kml, Style\n",
    "\n",
    "import pandas as pd\n",
    "import openclsim.core as core\n",
    "import openclsim.model as model\n",
    "import openclsim.plot as plot\n",
    "\n",
    "# setup environment\n",
    "simulation_start = 0\n",
    "my_env = simpy.Environment(initial_time=simulation_start)\n",
    "registry = {}\n",
    "keep_resources = {}"
   ]
  },
  {
   "cell_type": "markdown",
   "metadata": {},
   "source": [
    "## Definition of Site"
   ]
  },
  {
   "cell_type": "code",
   "execution_count": 9,
   "metadata": {},
   "outputs": [
    {
     "output_type": "stream",
     "name": "stdout",
     "text": "init\nlevel: 8\ncompleted init\n"
    }
   ],
   "source": [
    "# The generic site class\n",
    "Site = type(\n",
    "    \"Site\",\n",
    "    (\n",
    "        core.Identifiable,  # Give it a name\n",
    "        core.Log,  # Allow logging of all discrete events\n",
    "        core.Locatable,  # Add coordinates to extract distance information and visualize\n",
    "        core.HasContainer,  # Add information on the material available at the site\n",
    "        core.HasResource,\n",
    "    ),  # Add information on serving equipment\n",
    "    {},\n",
    ")  # The dictionary is empty because the site type is generic\n",
    "\n",
    "# Information on the extraction site - the \"from site\" - the \"win locatie\"\n",
    "location_from_site = shapely.geometry.Point(4.18055556, 52.18664444)  # lon, lat\n",
    "\n",
    "data_from_site = {\n",
    "    \"env\": my_env,  # The simpy environment defined in the first cel\n",
    "    \"name\": \"Winlocatie\",  # The name of the site\n",
    "    \"ID\": \"6dbbbdf4-4589-11e9-a501-b469212bff5d\",  # For logging purposes\n",
    "    \"geometry\": location_from_site,  # The coordinates of the project site\n",
    "    \"capacity\": 10,  # The capacity of the site\n",
    "    \"level\": 8,\n",
    "}  # The actual volume of the site\n",
    "\n",
    "# The two objects used for the simulation\n",
    "from_site = Site(**data_from_site)"
   ]
  },
  {
   "cell_type": "markdown",
   "metadata": {},
   "source": [
    "## Definition of Vessels"
   ]
  },
  {
   "cell_type": "code",
   "execution_count": 10,
   "metadata": {},
   "outputs": [
    {
     "output_type": "stream",
     "name": "stdout",
     "text": "init\nlevel: 0\ncompleted init\ninit\nlevel: 0\ncompleted init\n"
    }
   ],
   "source": [
    "# The generic class for an object that can move and transport (a TSHD for example)\n",
    "TransportProcessingResource = type(\n",
    "    \"TransportProcessingResource\",\n",
    "    (\n",
    "        core.Identifiable,  # Give it a name\n",
    "        core.Log,  # Allow logging of all discrete events\n",
    "        core.ContainerDependentMovable,  # A moving container, so capacity and location\n",
    "        core.Processor,  # Allow for loading and unloading\n",
    "        core.HasResource,  # Add information on serving equipment\n",
    "        core.HasCosts,  # Add information on costs\n",
    "        core.LoadingFunction,  # Add a loading function\n",
    "        core.UnloadingFunction,  # Add an unloading function\n",
    "    ),\n",
    "    {},\n",
    ")\n",
    "\n",
    "# For more realistic simulation you might want to have speed dependent on the volume carried by the vessel\n",
    "def compute_v_provider(v_empty, v_full):\n",
    "    return lambda x: 10\n",
    "\n",
    "\n",
    "# TSHD variables\n",
    "data_hopper1 = {\n",
    "    \"env\": my_env,  # The simpy environment\n",
    "    \"name\": \"Hopper 01\",  # Name\n",
    "    \"ID\": \"6dbbbdf6-4589-11e9-95a2-b469212bff5b\",  # For logging purposes\n",
    "    \"geometry\": location_from_site,  # It starts at the \"from site\"\n",
    "    \"loading_rate\": 1,  # Loading rate\n",
    "    \"unloading_rate\": 1,  # Unloading rate\n",
    "    \"capacity\": 4,  # Capacity of the hopper - \"Beunvolume\"\n",
    "    \"compute_v\": compute_v_provider(5, 4.5),  # Variable speed\n",
    "    \"weekrate\": 7,\n",
    "}\n",
    "\n",
    "hopper1 = TransportProcessingResource(**data_hopper1)\n",
    "\n",
    "data_hopper2 = {\n",
    "    \"env\": my_env,  # The simpy environment\n",
    "    \"name\": \"Hopper 02\",  # Name\n",
    "    \"ID\": \"5dbbbdf6-4589-11e9-95a2-b469212bff5b\",  # For logging purposes\n",
    "    \"geometry\": location_from_site,  # It starts at the \"from site\"\n",
    "    \"loading_rate\": 1,  # Loading rate\n",
    "    \"unloading_rate\": 1,  # Unloading rate\n",
    "    \"capacity\": 4,  # Capacity of the hopper - \"Beunvolume\"\n",
    "    \"compute_v\": compute_v_provider(5, 4.5),  # Variable speed\n",
    "    \"weekrate\": 7,\n",
    "}\n",
    "hopper2 = TransportProcessingResource(**data_hopper2)"
   ]
  },
  {
   "cell_type": "markdown",
   "metadata": {},
   "source": [
    "## Definition of the process for hopper1\n",
    "Then **requested_resources1** variable is used to initialize all activities below. This enables the transfer of reserved resources to the next activity.\n",
    "The **keep_resources** parameter tells that after hopper1 has received an object from *from_site* it should not release the *from_site* resource."
   ]
  },
  {
   "cell_type": "code",
   "execution_count": 11,
   "metadata": {},
   "outputs": [
    {
     "output_type": "stream",
     "name": "stdout",
     "text": "while Activity keep_resources []\nget_full_event : default\nstart get_available\nstart put_available\nregister new event \nevaluate event <Event() object at 0x2212ff0f3c8> as triggered False and processed False\nevaluate event <Event() object at 0x2213456bec8> as triggered False and processed False\nstart event instance None\n"
    }
   ],
   "source": [
    "requested_resources1 = {}\n",
    "shift_amount_activity_loading_data1 = {\n",
    "    \"env\": my_env,  # The simpy environment defined in the first cel\n",
    "    \"name\": \"Transfer1\",  # We are moving soil\n",
    "    \"ID\": \"6dbbbdf7-4589-11e9-bf3b-b469212bff52\",  # For logging purposes\n",
    "    \"registry\": registry,\n",
    "    \"processor\": hopper1,\n",
    "    \"origin\": from_site,\n",
    "    \"destination\": hopper1,\n",
    "    \"amount\": 1,\n",
    "    \"duration\": 20,\n",
    "    \"postpone_start\": True,\n",
    "    \"keep_resources\":[from_site],\n",
    "    \"requested_resources\": requested_resources1,\n",
    "}\n",
    "activity1 = model.ShiftAmountActivity(**shift_amount_activity_loading_data1)\n",
    "\n",
    "sequential_activity_data1 = {\n",
    "    \"env\": my_env,\n",
    "    \"name\": \"Sequential process1\",\n",
    "    \"ID\": \"6dbbbdf7-4589-11e9-bf3b-b469212bff60\",  # For logging purposes\n",
    "    \"registry\": registry,\n",
    "    \"sub_processes\": [activity1],\n",
    "    \"postpone_start\": True,\n",
    "    \"requested_resources\": requested_resources1,\n",
    "}\n",
    "seq_activity1 = model.SequentialActivity(**sequential_activity_data1)\n",
    "\n",
    "while_data1 = {\n",
    "    \"env\": my_env,  # The simpy environment defined in the first cel\n",
    "    \"name\": \"while1\",  # We are moving soil\n",
    "    \"ID\": \"6dbbbdf7-4589-11e9-bf3b-b469212bff5g\",  # For logging purposes\n",
    "    \"registry\": registry,\n",
    "    \"sub_process\": seq_activity1,\n",
    "    \"condition_event\": [{\"or\":[{\"type\":\"container\", \"concept\": hopper1, \"state\":\"full\"},\n",
    "               {\"type\":\"container\", \"concept\": from_site, \"state\":\"empty\"}]\n",
    "         }],\n",
    "    \"postpone_start\": False,\n",
    "    \"requested_resources\": requested_resources1,\n",
    "}\n",
    "while_activity1 = model.WhileActivity(**while_data1)"
   ]
  },
  {
   "cell_type": "markdown",
   "metadata": {},
   "source": [
    "## Definition of process for hopper2\n",
    "This is a normal process without special parameters."
   ]
  },
  {
   "cell_type": "code",
   "execution_count": 12,
   "metadata": {},
   "outputs": [
    {
     "output_type": "stream",
     "name": "stdout",
     "text": "while Activity keep_resources []\nget_full_event : default\nstart get_available\nstart put_available\ncheck put_available events\nregister new event \nevaluate event <Event() object at 0x22134557f48> as triggered False and processed False\nevaluate event <Event() object at 0x22134557fc8> as triggered False and processed False\nstart event instance None\n"
    }
   ],
   "source": [
    "shift_amount_activity_loading_data2 = {\n",
    "    \"env\": my_env,  # The simpy environment defined in the first cel\n",
    "    \"name\": \"Transfer2\",  # We are moving soil\n",
    "    \"ID\": \"5dbbbdf7-4589-11e9-bf3b-b469212bff52\",  # For logging purposes\n",
    "    \"registry\": registry,\n",
    "    \"processor\": hopper2,\n",
    "    \"origin\": from_site,\n",
    "    \"destination\": hopper2,\n",
    "    \"amount\": 1,\n",
    "    \"duration\": 20,\n",
    "    \"postpone_start\": True,\n",
    "}\n",
    "activity2 = model.ShiftAmountActivity(**shift_amount_activity_loading_data2)\n",
    "\n",
    "sequential_activity_data2 = {\n",
    "    \"env\": my_env,\n",
    "    \"name\": \"Sequential process2\",\n",
    "    \"ID\": \"5dbbbdf7-4589-11e9-bf3b-b469212bff60\",  # For logging purposes\n",
    "    \"registry\": registry,\n",
    "    \"sub_processes\": [activity2],\n",
    "    \"postpone_start\": True,\n",
    "}\n",
    "seq_activity2 = model.SequentialActivity(**sequential_activity_data2)\n",
    "\n",
    "while_data2 = {\n",
    "    \"env\": my_env,  # The simpy environment defined in the first cel\n",
    "    \"name\": \"while2\",  # We are moving soil\n",
    "    \"ID\": \"5dbbbdf7-4589-11e9-bf3b-b469212bff5g\",  # For logging purposes\n",
    "    \"registry\": registry,\n",
    "    \"sub_process\": seq_activity2,\n",
    "    \"condition_event\": [{\"or\":[{\"type\":\"container\", \"concept\": hopper2, \"state\":\"full\"},\n",
    "               {\"type\":\"container\", \"concept\": from_site, \"state\":\"empty\"}]\n",
    "         }],\n",
    "    \"postpone_start\": False,\n",
    "}\n",
    "while_activity2 = model.WhileActivity(**while_data2)\n"
   ]
  },
  {
   "cell_type": "code",
   "execution_count": 13,
   "metadata": {},
   "outputs": [
    {
     "output_type": "stream",
     "name": "stdout",
     "text": "<openclsim.model.SequentialActivity object at 0x000002213456B988>\nconditional \nstart event instance None\n<openclsim.model.ShiftAmountActivity object at 0x000002213456B948>\nkeep_resources []\nSHift amount Activity keep_resources [<__main__.Site object at 0x0000022134441C08>]\nstart event instance None\nstart : {}\n{'origin.6dbbbdf4-4589-11e9-a501-b469212bff5d': 8, 'destination.6dbbbdf6-4589-11e9-95a2-b469212bff5b': 4}\n<openclsim.model.SequentialActivity object at 0x0000022134557888>\nconditional \nstart event instance None\n<openclsim.model.ShiftAmountActivity object at 0x0000022134557448>\nkeep_resources []\nSHift amount Activity keep_resources []\nstart event instance None\nstart : {}\n{'origin.6dbbbdf4-4589-11e9-a501-b469212bff5d': 8, 'destination.5dbbbdf6-4589-11e9-95a2-b469212bff5b': 4}\nput_callback - id_ default\n{}\nput_callback - id_ default\n{'default': {4: <Event() object at 0x2212ff0f3c8>}}\namount :4\nput_callback - id_ default\n{'default': {4: <Event() object at 0x22134557f48>}}\namount :4\ndestination request : {<simpy.resources.resource.Resource object at 0x0000022134564B88>: <Request() object at 0x221329847c8>}\nshift amount process keep_resources [<__main__.Site object at 0x0000022134441C08>]\nstart get_available\ndestination request : {<simpy.resources.resource.Resource object at 0x0000022134564188>: <Request() object at 0x221345618c8>}\nshift amount process keep_resources []\nstart get_available\nprocessor request : {<simpy.resources.resource.Resource object at 0x0000022134564B88>: <Request() object at 0x221329847c8>}\nprocessor request : {<simpy.resources.resource.Resource object at 0x0000022134564188>: <Request() object at 0x221345618c8>}\nsite request : {<simpy.resources.resource.Resource object at 0x0000022134564B88>: <Request() object at 0x221329847c8>, <simpy.resources.resource.Resource object at 0x0000022133ECC1C8>: <Request() object at 0x22134561348>}\nend requestIfAvailable : {<simpy.resources.resource.Resource object at 0x0000022134564B88>: <Request() object at 0x221329847c8>, <simpy.resources.resource.Resource object at 0x0000022133ECC1C8>: <Request() object at 0x22134561348>}\nafter req resource if available : {<simpy.resources.resource.Resource object at 0x0000022134564B88>: <Request() object at 0x221329847c8>, <simpy.resources.resource.Resource object at 0x0000022133ECC1C8>: <Request() object at 0x22134561348>}\n_shift_amount\nstart _shift_amount\namount 1\nprocessor start process\ntransfer default to Hopper 01\nprocessor process without rate\norigin store before get: [{'id': 'default', 'level': 8, 'capacity': 10}]\nstart get 1\nstore_status {'id': 'default', 'level': 8, 'capacity': 10}\nend get 1\nget_callback - id_ <StorePut() object at 0x22134561548>\nstart get_callback\n{'default': {10: <Event() object at 0x22134557fc8>}}\norigin store after get: [{'id': 'default', 'level': 7, 'capacity': 10}]\nafter get\nafter check_down time\ndestination store before put: [{'id': 'default', 'level': 0, 'capacity': 4}]\n<FilterStoreGet() object at 0x22134561548>\nput_callback - id_ default\n{'default': {4: <Event() object at 0x2212ff0f3c8>}}\namount :4\ndestination store after put: [{'id': 'default', 'level': 1, 'capacity': 4}]\nafter put\nprocessor end process\nProcessed 1 of default:\n  by:          Hopper 01\n  origin        Winlocatie  contains: 7 of default\n  destination:  Hopper 01 contains: 1 of default\nafter shift amount : {<simpy.resources.resource.Resource object at 0x0000022134564B88>: <Request() object at 0x221329847c8>, <simpy.resources.resource.Resource object at 0x0000022133ECC1C8>: <Request() object at 0x22134561348>}\nkeep resources [<__main__.Site object at 0x0000022134441C08>]\nrelease destination : {<simpy.resources.resource.Resource object at 0x0000022133ECC1C8>: <Request() object at 0x22134561348>}\nreleased origin : {<simpy.resources.resource.Resource object at 0x0000022133ECC1C8>: <Request() object at 0x22134561348>}\nreleased processor : {<simpy.resources.resource.Resource object at 0x0000022133ECC1C8>: <Request() object at 0x22134561348>}\n{<simpy.resources.resource.Resource object at 0x0000022133ECC1C8>: <Request() object at 0x22134561348>}\nActivity end()\nActivity end()\ncondition event triggered: False False round 0\nwhile loop requested_resources {<simpy.resources.resource.Resource object at 0x0000022133ECC1C8>: <Request() object at 0x22134561348>}\nwhile loop keep_resources []\n<openclsim.model.SequentialActivity object at 0x000002213456B988>\nconditional \nstart event instance None\n<openclsim.model.ShiftAmountActivity object at 0x000002213456B948>\nkeep_resources []\nSHift amount Activity keep_resources [<__main__.Site object at 0x0000022134441C08>]\nstart event instance None\nstart : {<simpy.resources.resource.Resource object at 0x0000022133ECC1C8>: <Request() object at 0x22134561348>}\n{'origin.6dbbbdf4-4589-11e9-a501-b469212bff5d': 7, 'destination.6dbbbdf6-4589-11e9-95a2-b469212bff5b': 3}\ndestination request : {<simpy.resources.resource.Resource object at 0x0000022133ECC1C8>: <Request() object at 0x22134561348>, <simpy.resources.resource.Resource object at 0x0000022134564B88>: <Request() object at 0x22134564388>}\nshift amount process keep_resources [<__main__.Site object at 0x0000022134441C08>]\nstart get_available\nprocessor request : {<simpy.resources.resource.Resource object at 0x0000022133ECC1C8>: <Request() object at 0x22134561348>, <simpy.resources.resource.Resource object at 0x0000022134564B88>: <Request() object at 0x22134564388>}\nsite request : {<simpy.resources.resource.Resource object at 0x0000022133ECC1C8>: <Request() object at 0x22134561348>, <simpy.resources.resource.Resource object at 0x0000022134564B88>: <Request() object at 0x22134564388>}\nend requestIfAvailable : {<simpy.resources.resource.Resource object at 0x0000022133ECC1C8>: <Request() object at 0x22134561348>, <simpy.resources.resource.Resource object at 0x0000022134564B88>: <Request() object at 0x22134564388>}\nafter req resource if available : {<simpy.resources.resource.Resource object at 0x0000022133ECC1C8>: <Request() object at 0x22134561348>, <simpy.resources.resource.Resource object at 0x0000022134564B88>: <Request() object at 0x22134564388>}\n_shift_amount\nstart _shift_amount\namount 1\nprocessor start process\ntransfer default to Hopper 01\nprocessor process without rate\norigin store before get: [{'id': 'default', 'level': 7, 'capacity': 10}]\nstart get 1\nstore_status {'id': 'default', 'level': 7, 'capacity': 10}\nend get 1\nget_callback - id_ <StorePut() object at 0x221345619c8>\nstart get_callback\n{'default': {10: <Event() object at 0x22134557fc8>}}\norigin store after get: [{'id': 'default', 'level': 6, 'capacity': 10}]\nafter get\nafter check_down time\ndestination store before put: [{'id': 'default', 'level': 1, 'capacity': 4}]\n<FilterStoreGet() object at 0x221345619c8>\nput_callback - id_ default\n{'default': {4: <Event() object at 0x2212ff0f3c8>}}\namount :4\ndestination store after put: [{'id': 'default', 'level': 2, 'capacity': 4}]\nafter put\nprocessor end process\nProcessed 1 of default:\n  by:          Hopper 01\n  origin        Winlocatie  contains: 6 of default\n  destination:  Hopper 01 contains: 2 of default\nafter shift amount : {<simpy.resources.resource.Resource object at 0x0000022133ECC1C8>: <Request() object at 0x22134561348>, <simpy.resources.resource.Resource object at 0x0000022134564B88>: <Request() object at 0x22134564388>}\nkeep resources [<__main__.Site object at 0x0000022134441C08>]\nrelease destination : {<simpy.resources.resource.Resource object at 0x0000022133ECC1C8>: <Request() object at 0x22134561348>}\nreleased origin : {<simpy.resources.resource.Resource object at 0x0000022133ECC1C8>: <Request() object at 0x22134561348>}\nreleased processor : {<simpy.resources.resource.Resource object at 0x0000022133ECC1C8>: <Request() object at 0x22134561348>}\n{<simpy.resources.resource.Resource object at 0x0000022133ECC1C8>: <Request() object at 0x22134561348>}\nActivity end()\nActivity end()\ncondition event triggered: False False round 1\nwhile loop requested_resources {<simpy.resources.resource.Resource object at 0x0000022133ECC1C8>: <Request() object at 0x22134561348>}\nwhile loop keep_resources []\n<openclsim.model.SequentialActivity object at 0x000002213456B988>\nconditional \nstart event instance None\n<openclsim.model.ShiftAmountActivity object at 0x000002213456B948>\nkeep_resources []\nSHift amount Activity keep_resources [<__main__.Site object at 0x0000022134441C08>]\nstart event instance None\nstart : {<simpy.resources.resource.Resource object at 0x0000022133ECC1C8>: <Request() object at 0x22134561348>}\n{'origin.6dbbbdf4-4589-11e9-a501-b469212bff5d': 6, 'destination.6dbbbdf6-4589-11e9-95a2-b469212bff5b': 2}\ndestination request : {<simpy.resources.resource.Resource object at 0x0000022133ECC1C8>: <Request() object at 0x22134561348>, <simpy.resources.resource.Resource object at 0x0000022134564B88>: <Request() object at 0x2212b407d48>}\nshift amount process keep_resources [<__main__.Site object at 0x0000022134441C08>]\nstart get_available\nprocessor request : {<simpy.resources.resource.Resource object at 0x0000022133ECC1C8>: <Request() object at 0x22134561348>, <simpy.resources.resource.Resource object at 0x0000022134564B88>: <Request() object at 0x2212b407d48>}\nsite request : {<simpy.resources.resource.Resource object at 0x0000022133ECC1C8>: <Request() object at 0x22134561348>, <simpy.resources.resource.Resource object at 0x0000022134564B88>: <Request() object at 0x2212b407d48>}\nend requestIfAvailable : {<simpy.resources.resource.Resource object at 0x0000022133ECC1C8>: <Request() object at 0x22134561348>, <simpy.resources.resource.Resource object at 0x0000022134564B88>: <Request() object at 0x2212b407d48>}\nafter req resource if available : {<simpy.resources.resource.Resource object at 0x0000022133ECC1C8>: <Request() object at 0x22134561348>, <simpy.resources.resource.Resource object at 0x0000022134564B88>: <Request() object at 0x2212b407d48>}\n_shift_amount\nstart _shift_amount\namount 1\nprocessor start process\ntransfer default to Hopper 01\nprocessor process without rate\norigin store before get: [{'id': 'default', 'level': 6, 'capacity': 10}]\nstart get 1\nstore_status {'id': 'default', 'level': 6, 'capacity': 10}\nend get 1\nget_callback - id_ <StorePut() object at 0x221345616c8>\nstart get_callback\n{'default': {10: <Event() object at 0x22134557fc8>}}\norigin store after get: [{'id': 'default', 'level': 5, 'capacity': 10}]\nafter get\nafter check_down time\ndestination store before put: [{'id': 'default', 'level': 2, 'capacity': 4}]\n<FilterStoreGet() object at 0x22134446608>\nput_callback - id_ default\n{'default': {4: <Event() object at 0x2212ff0f3c8>}}\namount :4\ndestination store after put: [{'id': 'default', 'level': 3, 'capacity': 4}]\nafter put\nprocessor end process\nProcessed 1 of default:\n  by:          Hopper 01\n  origin        Winlocatie  contains: 5 of default\n  destination:  Hopper 01 contains: 3 of default\nafter shift amount : {<simpy.resources.resource.Resource object at 0x0000022133ECC1C8>: <Request() object at 0x22134561348>, <simpy.resources.resource.Resource object at 0x0000022134564B88>: <Request() object at 0x2212b407d48>}\nkeep resources [<__main__.Site object at 0x0000022134441C08>]\nrelease destination : {<simpy.resources.resource.Resource object at 0x0000022133ECC1C8>: <Request() object at 0x22134561348>}\nreleased origin : {<simpy.resources.resource.Resource object at 0x0000022133ECC1C8>: <Request() object at 0x22134561348>}\nreleased processor : {<simpy.resources.resource.Resource object at 0x0000022133ECC1C8>: <Request() object at 0x22134561348>}\n{<simpy.resources.resource.Resource object at 0x0000022133ECC1C8>: <Request() object at 0x22134561348>}\nActivity end()\nActivity end()\ncondition event triggered: False False round 2\nwhile loop requested_resources {<simpy.resources.resource.Resource object at 0x0000022133ECC1C8>: <Request() object at 0x22134561348>}\nwhile loop keep_resources []\n<openclsim.model.SequentialActivity object at 0x000002213456B988>\nconditional \nstart event instance None\n<openclsim.model.ShiftAmountActivity object at 0x000002213456B948>\nkeep_resources []\nSHift amount Activity keep_resources [<__main__.Site object at 0x0000022134441C08>]\nstart event instance None\nstart : {<simpy.resources.resource.Resource object at 0x0000022133ECC1C8>: <Request() object at 0x22134561348>}\n{'origin.6dbbbdf4-4589-11e9-a501-b469212bff5d': 5, 'destination.6dbbbdf6-4589-11e9-95a2-b469212bff5b': 1}\ndestination request : {<simpy.resources.resource.Resource object at 0x0000022133ECC1C8>: <Request() object at 0x22134561348>, <simpy.resources.resource.Resource object at 0x0000022134564B88>: <Request() object at 0x2212b407d48>}\nshift amount process keep_resources [<__main__.Site object at 0x0000022134441C08>]\nstart get_available\nprocessor request : {<simpy.resources.resource.Resource object at 0x0000022133ECC1C8>: <Request() object at 0x22134561348>, <simpy.resources.resource.Resource object at 0x0000022134564B88>: <Request() object at 0x2212b407d48>}\nsite request : {<simpy.resources.resource.Resource object at 0x0000022133ECC1C8>: <Request() object at 0x22134561348>, <simpy.resources.resource.Resource object at 0x0000022134564B88>: <Request() object at 0x2212b407d48>}\nend requestIfAvailable : {<simpy.resources.resource.Resource object at 0x0000022133ECC1C8>: <Request() object at 0x22134561348>, <simpy.resources.resource.Resource object at 0x0000022134564B88>: <Request() object at 0x2212b407d48>}\nafter req resource if available : {<simpy.resources.resource.Resource object at 0x0000022133ECC1C8>: <Request() object at 0x22134561348>, <simpy.resources.resource.Resource object at 0x0000022134564B88>: <Request() object at 0x2212b407d48>}\n_shift_amount\nstart _shift_amount\namount 1\nprocessor start process\ntransfer default to Hopper 01\nprocessor process without rate\norigin store before get: [{'id': 'default', 'level': 5, 'capacity': 10}]\nstart get 1\nstore_status {'id': 'default', 'level': 5, 'capacity': 10}\nend get 1\nget_callback - id_ <StorePut() object at 0x22134561548>\nstart get_callback\n{'default': {10: <Event() object at 0x22134557fc8>}}\norigin store after get: [{'id': 'default', 'level': 4, 'capacity': 10}]\nafter get\nafter check_down time\ndestination store before put: [{'id': 'default', 'level': 3, 'capacity': 4}]\n<FilterStoreGet() object at 0x2212c3fcb48>\nput_callback - id_ default\n{'default': {4: <Event() object at 0x2212ff0f3c8>}}\namount :4\ndestination store after put: [{'id': 'default', 'level': 4, 'capacity': 4}]\nafter put\nprocessor end process\nProcessed 1 of default:\n  by:          Hopper 01\n  origin        Winlocatie  contains: 4 of default\n  destination:  Hopper 01 contains: 4 of default\nafter shift amount : {<simpy.resources.resource.Resource object at 0x0000022133ECC1C8>: <Request() object at 0x22134561348>, <simpy.resources.resource.Resource object at 0x0000022134564B88>: <Request() object at 0x2212b407d48>}\nkeep resources [<__main__.Site object at 0x0000022134441C08>]\nrelease destination : {<simpy.resources.resource.Resource object at 0x0000022133ECC1C8>: <Request() object at 0x22134561348>}\nreleased origin : {<simpy.resources.resource.Resource object at 0x0000022133ECC1C8>: <Request() object at 0x22134561348>}\nreleased processor : {<simpy.resources.resource.Resource object at 0x0000022133ECC1C8>: <Request() object at 0x22134561348>}\n{<simpy.resources.resource.Resource object at 0x0000022133ECC1C8>: <Request() object at 0x22134561348>}\nActivity end()\nActivity end()\ncondition event triggered: True True round 3\nwhile loop requested_resources {<simpy.resources.resource.Resource object at 0x0000022133ECC1C8>: <Request() object at 0x22134561348>}\nwhile loop keep_resources []\n"
    }
   ],
   "source": [
    "my_env.run()\n"
   ]
  },
  {
   "cell_type": "code",
   "execution_count": 14,
   "metadata": {},
   "outputs": [
    {
     "output_type": "execute_result",
     "data": {
      "text/plain": "                         Message ActivityState           Timestamp  Value  \\\n0  transfer default to Hopper 01         START 1970-01-01 01:00:00      1   \n1  transfer default to Hopper 01          STOP 1970-01-01 01:00:20      1   \n2  transfer default to Hopper 01         START 1970-01-01 01:00:20      1   \n3  transfer default to Hopper 01          STOP 1970-01-01 01:00:40      1   \n4  transfer default to Hopper 01         START 1970-01-01 01:00:40      1   \n5  transfer default to Hopper 01          STOP 1970-01-01 01:01:00      1   \n6  transfer default to Hopper 01         START 1970-01-01 01:01:00      1   \n7  transfer default to Hopper 01          STOP 1970-01-01 01:01:20      1   \n\n                             ActivityID  \n0  6dbbbdf7-4589-11e9-bf3b-b469212bff52  \n1  6dbbbdf7-4589-11e9-bf3b-b469212bff52  \n2  6dbbbdf7-4589-11e9-bf3b-b469212bff52  \n3  6dbbbdf7-4589-11e9-bf3b-b469212bff52  \n4  6dbbbdf7-4589-11e9-bf3b-b469212bff52  \n5  6dbbbdf7-4589-11e9-bf3b-b469212bff52  \n6  6dbbbdf7-4589-11e9-bf3b-b469212bff52  \n7  6dbbbdf7-4589-11e9-bf3b-b469212bff52  ",
      "text/html": "<div>\n<style scoped>\n    .dataframe tbody tr th:only-of-type {\n        vertical-align: middle;\n    }\n\n    .dataframe tbody tr th {\n        vertical-align: top;\n    }\n\n    .dataframe thead th {\n        text-align: right;\n    }\n</style>\n<table border=\"1\" class=\"dataframe\">\n  <thead>\n    <tr style=\"text-align: right;\">\n      <th></th>\n      <th>Message</th>\n      <th>ActivityState</th>\n      <th>Timestamp</th>\n      <th>Value</th>\n      <th>ActivityID</th>\n    </tr>\n  </thead>\n  <tbody>\n    <tr>\n      <th>0</th>\n      <td>transfer default to Hopper 01</td>\n      <td>START</td>\n      <td>1970-01-01 01:00:00</td>\n      <td>1</td>\n      <td>6dbbbdf7-4589-11e9-bf3b-b469212bff52</td>\n    </tr>\n    <tr>\n      <th>1</th>\n      <td>transfer default to Hopper 01</td>\n      <td>STOP</td>\n      <td>1970-01-01 01:00:20</td>\n      <td>1</td>\n      <td>6dbbbdf7-4589-11e9-bf3b-b469212bff52</td>\n    </tr>\n    <tr>\n      <th>2</th>\n      <td>transfer default to Hopper 01</td>\n      <td>START</td>\n      <td>1970-01-01 01:00:20</td>\n      <td>1</td>\n      <td>6dbbbdf7-4589-11e9-bf3b-b469212bff52</td>\n    </tr>\n    <tr>\n      <th>3</th>\n      <td>transfer default to Hopper 01</td>\n      <td>STOP</td>\n      <td>1970-01-01 01:00:40</td>\n      <td>1</td>\n      <td>6dbbbdf7-4589-11e9-bf3b-b469212bff52</td>\n    </tr>\n    <tr>\n      <th>4</th>\n      <td>transfer default to Hopper 01</td>\n      <td>START</td>\n      <td>1970-01-01 01:00:40</td>\n      <td>1</td>\n      <td>6dbbbdf7-4589-11e9-bf3b-b469212bff52</td>\n    </tr>\n    <tr>\n      <th>5</th>\n      <td>transfer default to Hopper 01</td>\n      <td>STOP</td>\n      <td>1970-01-01 01:01:00</td>\n      <td>1</td>\n      <td>6dbbbdf7-4589-11e9-bf3b-b469212bff52</td>\n    </tr>\n    <tr>\n      <th>6</th>\n      <td>transfer default to Hopper 01</td>\n      <td>START</td>\n      <td>1970-01-01 01:01:00</td>\n      <td>1</td>\n      <td>6dbbbdf7-4589-11e9-bf3b-b469212bff52</td>\n    </tr>\n    <tr>\n      <th>7</th>\n      <td>transfer default to Hopper 01</td>\n      <td>STOP</td>\n      <td>1970-01-01 01:01:20</td>\n      <td>1</td>\n      <td>6dbbbdf7-4589-11e9-bf3b-b469212bff52</td>\n    </tr>\n  </tbody>\n</table>\n</div>"
     },
     "metadata": {},
     "execution_count": 14
    }
   ],
   "source": [
    "log_df = pd.DataFrame(from_site.log)\n",
    "data =log_df[['Message', 'ActivityState', 'Timestamp', 'Value', 'ActivityID']]\n",
    "data_rep = data.drop_duplicates()\n",
    "data"
   ]
  },
  {
   "cell_type": "markdown",
   "metadata": {},
   "source": [
    "Interesting in this scenario is that the process of hopper2 is not executed at all because hopper1 takes requests the resource *from_site* and never releases it again, thus hopper2 process can not start.\n",
    "\n",
    "By commenting out the **keep_resource** parameter in shift amount activity of hopper1, will result in hopper1 and hopper2 getting access to the resource *from_site* one after each other."
   ]
  }
 ],
 "metadata": {
  "language_info": {
   "codemirror_mode": {
    "name": "ipython",
    "version": 3
   },
   "file_extension": ".py",
   "mimetype": "text/x-python",
   "name": "python",
   "nbconvert_exporter": "python",
   "pygments_lexer": "ipython3",
   "version": "3.7.7-final"
  },
  "orig_nbformat": 2,
  "kernelspec": {
   "name": "python3",
   "display_name": "Python 3"
  }
 },
 "nbformat": 4,
 "nbformat_minor": 2
}