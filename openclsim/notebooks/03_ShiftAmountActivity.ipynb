{
 "cells": [
  {
   "cell_type": "markdown",
   "metadata": {},
   "source": [
    "# Demo ShiftAmountActivity\n",
    "This activity uses a processor to transfer a specified number of objects from an origin resource, which must have a container, to a destination resource, which also must have a container.\n",
    "\n",
    "Shift Amount checks the possible amount of objects which can be transferred, based on the number of objects available in the origin, the number of objects which can be stored in the destination and the number of objects requested to be transferred. If the number of actually to be transferred objects is zero than an exception is raised. These cases have to be prevented by using appropriate events."
   ]
  },
  {
   "cell_type": "code",
   "execution_count": 1,
   "metadata": {},
   "outputs": [],
   "source": [
    "import datetime, time\n",
    "import simpy\n",
    "\n",
    "import shapely.geometry\n",
    "from simplekml import Kml, Style\n",
    "\n",
    "import pandas as pd\n",
    "import openclsim.core as core\n",
    "import openclsim.model as model\n",
    "import openclsim.plot as plot\n",
    "\n",
    "# setup environment\n",
    "simulation_start = 0\n",
    "my_env = simpy.Environment(initial_time=simulation_start)\n",
    "registry = {}"
   ]
  },
  {
   "cell_type": "markdown",
   "metadata": {},
   "source": [
    "## Definition of Sites"
   ]
  },
  {
   "cell_type": "code",
   "execution_count": 2,
   "metadata": {},
   "outputs": [
    {
     "output_type": "stream",
     "name": "stdout",
     "text": "init\nlevel: 2\ncompleted init\ninit\nlevel: 0\ncompleted init\n"
    }
   ],
   "source": [
    "# The generic site class\n",
    "Site = type(\n",
    "    \"Site\",\n",
    "    (\n",
    "        core.Identifiable,  # Give it a name\n",
    "        core.Log,  # Allow logging of all discrete events\n",
    "        core.Locatable,  # Add coordinates to extract distance information and visualize\n",
    "        core.HasContainer,  # Add information on the material available at the site\n",
    "        core.HasResource,\n",
    "    ),  # Add information on serving equipment\n",
    "    {},\n",
    ")  # The dictionary is empty because the site type is generic\n",
    "\n",
    "# Information on the extraction site - the \"from site\" - the \"win locatie\"\n",
    "location_from_site = shapely.geometry.Point(4.18055556, 52.18664444)  # lon, lat\n",
    "\n",
    "data_from_site = {\n",
    "    \"env\": my_env,  # The simpy environment defined in the first cel\n",
    "    \"name\": \"Winlocatie\",  # The name of the site\n",
    "    \"ID\": \"6dbbbdf4-4589-11e9-a501-b469212bff5b\",  # For logging purposes\n",
    "    \"geometry\": location_from_site,  # The coordinates of the project site\n",
    "    \"capacity\": 10,  # The capacity of the site\n",
    "    \"level\": 2,\n",
    "}  # The actual volume of the site\n",
    "\n",
    "# Information on the dumping site - the \"to site\" - the \"dump locatie\"\n",
    "location_to_site = shapely.geometry.Point(4.25222222, 52.11428333)  # lon, lat\n",
    "\n",
    "data_to_site = {\n",
    "    \"env\": my_env,  # The simpy environment defined in the first cel\n",
    "    \"name\": \"Dumplocatie\",  # The name of the site\n",
    "    \"ID\": \"6dbbbdf5-4589-11e9-82b2-b469212bff5b\",  # For logging purposes\n",
    "    \"geometry\": location_to_site,  # The coordinates of the project site\n",
    "    \"capacity\": 10,  # The capacity of the site\n",
    "    \"level\": 0,\n",
    "}  # The actual volume of the site (empty of course)\n",
    "\n",
    "# The two objects used for the simulation\n",
    "from_site = Site(**data_from_site)\n",
    "to_site = Site(**data_to_site)"
   ]
  },
  {
   "cell_type": "markdown",
   "metadata": {},
   "source": [
    "## Creation of Vessel"
   ]
  },
  {
   "cell_type": "code",
   "execution_count": 4,
   "metadata": {},
   "outputs": [
    {
     "output_type": "stream",
     "name": "stdout",
     "text": "init\nlevel: 0\ncompleted init\n"
    }
   ],
   "source": [
    "# The generic class for an object that can move and transport (a TSHD for example)\n",
    "TransportProcessingResource = type(\n",
    "    \"TransportProcessingResource\",\n",
    "    (\n",
    "        core.Identifiable,  # Give it a name\n",
    "        core.Log,  # Allow logging of all discrete events\n",
    "        core.ContainerDependentMovable,  # A moving container, so capacity and location\n",
    "        core.Processor,  # Allow for loading and unloading\n",
    "        core.HasResource,  # Add information on serving equipment\n",
    "        core.HasCosts,  # Add information on costs\n",
    "        core.LoadingFunction,  # Add a loading function\n",
    "        core.UnloadingFunction,  # Add an unloading function\n",
    "    ),\n",
    "    {},\n",
    ")\n",
    "\n",
    "# For more realistic simulation you might want to have speed dependent on the volume carried by the vessel\n",
    "def compute_v_provider(v_empty, v_full):\n",
    "    return lambda x: 10\n",
    "\n",
    "# TSHD variables\n",
    "data_hopper = {\n",
    "    \"env\": my_env,  # The simpy environment\n",
    "    \"name\": \"Hopper 01\",  # Name\n",
    "    \"ID\": \"6dbbbdf6-4589-11e9-95a2-b469212bff5b\",  # For logging purposes\n",
    "    \"geometry\": location_from_site,  # It starts at the \"from site\"\n",
    "    \"loading_rate\": 1,  # Loading rate\n",
    "    \"unloading_rate\": 1,  # Unloading rate\n",
    "    \"capacity\": 5,  # Capacity of the hopper - \"Beunvolume\"\n",
    "    \"compute_v\": compute_v_provider(5, 4.5),  # Variable speed\n",
    "    \"weekrate\": 7,\n",
    "}\n",
    "\n",
    "hopper = TransportProcessingResource(**data_hopper)"
   ]
  },
  {
   "cell_type": "markdown",
   "metadata": {},
   "source": [
    "## Definition of Shift Amount activity"
   ]
  },
  {
   "cell_type": "code",
   "execution_count": 5,
   "metadata": {},
   "outputs": [
    {
     "output_type": "stream",
     "name": "stdout",
     "text": "start event instance None\n"
    }
   ],
   "source": [
    "shift_amount_activity_data = {\n",
    "    \"env\": my_env,  # The simpy environment defined in the first cel\n",
    "    \"name\": \"Transfer MP\",  # We are moving soil\n",
    "    \"ID\": \"6dbbbdf7-4589-11e9-bf3b-b469212bff5b\",  # For logging purposes\n",
    "    \"registry\": registry,\n",
    "    \"processor\": hopper,\n",
    "    \"origin\": from_site,\n",
    "    \"destination\": hopper,\n",
    "    \"amount\": 2,\n",
    "    \"duration\": 10,\n",
    "}\n",
    "activity = model.ShiftAmountActivity(**shift_amount_activity_data)"
   ]
  },
  {
   "cell_type": "markdown",
   "metadata": {},
   "source": [
    "## Run simulation"
   ]
  },
  {
   "cell_type": "code",
   "execution_count": 6,
   "metadata": {},
   "outputs": [
    {
     "output_type": "stream",
     "name": "stdout",
     "text": "start : {}\n{'origin.6dbbbdf4-4589-11e9-a501-b469212bff5b': 2, 'destination.6dbbbdf6-4589-11e9-95a2-b469212bff5b': 5}\nput_callback - id_ default\n{}\nput_callback - id_ default\n{}\nput_callback - id_ default\n{}\nput_callback - id_ default\n{}\ndestination request : {<simpy.resources.resource.Resource object at 0x00000133773FE748>: <Request() object at 0x133773f3208>}\nstart get_available\nprocessor request : {<simpy.resources.resource.Resource object at 0x00000133773FE748>: <Request() object at 0x133773f3208>}\nsite request : {<simpy.resources.resource.Resource object at 0x00000133773FE748>: <Request() object at 0x133773f3208>, <simpy.resources.resource.Resource object at 0x00000133773F3588>: <Request() object at 0x13375b71248>}\nend requestIfAvailable : {<simpy.resources.resource.Resource object at 0x00000133773FE748>: <Request() object at 0x133773f3208>, <simpy.resources.resource.Resource object at 0x00000133773F3588>: <Request() object at 0x13375b71248>}\nafter req resource if available : {<simpy.resources.resource.Resource object at 0x00000133773FE748>: <Request() object at 0x133773f3208>, <simpy.resources.resource.Resource object at 0x00000133773F3588>: <Request() object at 0x13375b71248>}\n_shift_amount\nstart _shift_amount\namount 2\nprocessor start process\ntransfer default to Hopper 01\nprocessor process without rate\norigin store before get: [{'id': 'default', 'level': 2, 'capacity': 10}]\nstart get 2\nstore_status {'id': 'default', 'level': 2, 'capacity': 10}\nend get 2\nget_callback - id_ <StorePut() object at 0x1336f9549c8>\nstart get_callback\n{}\norigin store after get: [{'id': 'default', 'level': 0, 'capacity': 10}]\nafter get\nafter check_down time\ndestination store before put: [{'id': 'default', 'level': 0, 'capacity': 5}]\n<FilterStoreGet() object at 0x133773f3dc8>\nput_callback - id_ default\n{}\ndestination store after put: [{'id': 'default', 'level': 2, 'capacity': 5}]\nafter put\nprocessor end process\nProcessed 2 of default:\n  by:          Hopper 01\n  origin        Winlocatie  contains: 0 of default\n  destination:  Hopper 01 contains: 2 of default\nafter shift amount : {<simpy.resources.resource.Resource object at 0x00000133773FE748>: <Request() object at 0x133773f3208>, <simpy.resources.resource.Resource object at 0x00000133773F3588>: <Request() object at 0x13375b71248>}\nrelease destination : {<simpy.resources.resource.Resource object at 0x00000133773F3588>: <Request() object at 0x13375b71248>}\nreleased origin : {}\nreleased processor : {}\n"
    }
   ],
   "source": [
    "my_env.run()\n"
   ]
  },
  {
   "cell_type": "code",
   "execution_count": 7,
   "metadata": {},
   "outputs": [
    {
     "output_type": "execute_result",
     "data": {
      "text/plain": "       Message ActivityState           Timestamp  Value  \\\n0  Transfer MP         START 1970-01-01 01:00:00      2   \n1  Transfer MP          STOP 1970-01-01 01:00:10      2   \n\n                             ActivityID  \n0  6dbbbdf7-4589-11e9-bf3b-b469212bff5b  \n1  6dbbbdf7-4589-11e9-bf3b-b469212bff5b  ",
      "text/html": "<div>\n<style scoped>\n    .dataframe tbody tr th:only-of-type {\n        vertical-align: middle;\n    }\n\n    .dataframe tbody tr th {\n        vertical-align: top;\n    }\n\n    .dataframe thead th {\n        text-align: right;\n    }\n</style>\n<table border=\"1\" class=\"dataframe\">\n  <thead>\n    <tr style=\"text-align: right;\">\n      <th></th>\n      <th>Message</th>\n      <th>ActivityState</th>\n      <th>Timestamp</th>\n      <th>Value</th>\n      <th>ActivityID</th>\n    </tr>\n  </thead>\n  <tbody>\n    <tr>\n      <th>0</th>\n      <td>Transfer MP</td>\n      <td>START</td>\n      <td>1970-01-01 01:00:00</td>\n      <td>2</td>\n      <td>6dbbbdf7-4589-11e9-bf3b-b469212bff5b</td>\n    </tr>\n    <tr>\n      <th>1</th>\n      <td>Transfer MP</td>\n      <td>STOP</td>\n      <td>1970-01-01 01:00:10</td>\n      <td>2</td>\n      <td>6dbbbdf7-4589-11e9-bf3b-b469212bff5b</td>\n    </tr>\n  </tbody>\n</table>\n</div>"
     },
     "metadata": {},
     "execution_count": 7
    }
   ],
   "source": [
    "log_df = pd.DataFrame(activity.log)\n",
    "data =log_df[['Message', 'ActivityState', 'Timestamp', 'Value', 'ActivityID']]\n",
    "data"
   ]
  },
  {
   "cell_type": "markdown",
   "metadata": {},
   "source": [
    "The resulting levels ob objects in the hopper and the from_site are requested below. "
   ]
  },
  {
   "cell_type": "code",
   "execution_count": 8,
   "metadata": {},
   "outputs": [
    {
     "output_type": "execute_result",
     "data": {
      "text/plain": "2"
     },
     "metadata": {},
     "execution_count": 8
    }
   ],
   "source": [
    "hopper.container.get_level()"
   ]
  },
  {
   "cell_type": "code",
   "execution_count": 9,
   "metadata": {},
   "outputs": [
    {
     "output_type": "execute_result",
     "data": {
      "text/plain": "0"
     },
     "metadata": {},
     "execution_count": 9
    }
   ],
   "source": [
    "from_site.container.get_level()"
   ]
  }
 ],
 "metadata": {
  "language_info": {
   "codemirror_mode": {
    "name": "ipython",
    "version": 3
   },
   "file_extension": ".py",
   "mimetype": "text/x-python",
   "name": "python",
   "nbconvert_exporter": "python",
   "pygments_lexer": "ipython3",
   "version": "3.7.7-final"
  },
  "orig_nbformat": 2,
  "kernelspec": {
   "name": "python3",
   "display_name": "Python 3"
  }
 },
 "nbformat": 4,
 "nbformat_minor": 2
}