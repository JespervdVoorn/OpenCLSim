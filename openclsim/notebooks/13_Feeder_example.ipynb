{
 "cells": [
  {
   "cell_type": "markdown",
   "metadata": {},
   "source": [
    "# Demo Feeder Concept\n",
    "This notebook shows a basics of a feeder concept. This scenario has two vessels:\n",
    "* a *vessel* for the transport of material\n",
    "* an *installer*, receiving the material and installing it.\n",
    "Thus, we also need two processes - one for each vessel. In this process the hand over of the material is done from the *vessel* to the *installer*."
   ]
  },
  {
   "cell_type": "code",
   "execution_count": 1,
   "metadata": {},
   "outputs": [],
   "source": [
    "import datetime, time\n",
    "import simpy\n",
    "\n",
    "import shapely.geometry\n",
    "from simplekml import Kml, Style\n",
    "\n",
    "# package(s) for data handling\n",
    "import pandas as pd\n",
    "import numpy as np\n",
    "\n",
    "import openclsim.core as core\n",
    "import openclsim.model as model\n",
    "import openclsim.plot as plot\n",
    "import uuid\n",
    "\n",
    "# setup environment\n",
    "simulation_start = 0\n",
    "my_env = simpy.Environment(initial_time=simulation_start)\n",
    "registry = {}\n",
    "keep_resources = {}"
   ]
  },
  {
   "cell_type": "markdown",
   "metadata": {},
   "source": [
    "## Definition of Sites"
   ]
  },
  {
   "cell_type": "code",
   "execution_count": 2,
   "metadata": {},
   "outputs": [
    {
     "output_type": "stream",
     "name": "stdout",
     "text": "init\n{'id': 'MP', 'level': 5, 'capacity': 10}\n{'id': 'TP', 'level': 5, 'capacity': 10}\ninit\n{'id': 'MP', 'level': 0, 'capacity': 5}\n{'id': 'TP', 'level': 0, 'capacity': 5}\n"
    }
   ],
   "source": [
    "# The generic site class\n",
    "Site = type(\n",
    "    \"Site\",\n",
    "    (\n",
    "        core.Identifiable,  # Give it a name\n",
    "        core.Log,  # Allow logging of all discrete events\n",
    "        core.Locatable,  # Add coordinates to extract distance information and visualize\n",
    "        core.HasMultiContainer,  # Add information on the material available at the site\n",
    "        core.HasResource,\n",
    "    ),  # Add information on serving equipment\n",
    "    {},\n",
    ")  # The dictionary is empty because the site type is generic\n",
    "\n",
    "# Information on the extraction site - the \"from site\" - the \"win locatie\"\n",
    "location_from_site = shapely.geometry.Point(4.18055556, 52.18664444)  # lon, lat\n",
    "\n",
    "data_from_site = {\n",
    "    \"env\": my_env,  # The simpy environment defined in the first cel\n",
    "    \"name\": \"Winlocatie\",  # The name of the site\n",
    "    \"ID\": str(uuid.uuid4()),  # For logging purposes\n",
    "    \"geometry\": location_from_site,  # The coordinates of the project site\n",
    "    \"store_capacity\": 4,\n",
    "    \"initials\": [\n",
    "        {\"id\": \"MP\", \"level\": 5, \"capacity\": 10},\n",
    "        {\"id\": \"TP\", \"level\": 5, \"capacity\": 10},\n",
    "    ],\n",
    "}  # The actual volume of the site\n",
    "\n",
    "# Information on the dumping site - the \"to site\" - the \"dump locatie\"\n",
    "location_to_site = shapely.geometry.Point(4.25222222, 52.11428333)  # lon, lat\n",
    "\n",
    "data_to_site = {\n",
    "    \"env\": my_env,  # The simpy environment defined in the first cel\n",
    "    \"name\": \"Dumplocatie\",  # The name of the site\n",
    "    \"ID\": str(uuid.uuid4()),  # For logging purposes\n",
    "    \"geometry\": location_to_site,  # The coordinates of the project site\n",
    "    \"store_capacity\": 4,\n",
    "    \"initials\": [\n",
    "        {\"id\": \"MP\", \"level\": 0, \"capacity\": 5},\n",
    "        {\"id\": \"TP\", \"level\": 0, \"capacity\": 5},\n",
    "    ],\n",
    "}  # The actual volume of the site (empty of course)\n",
    "\n",
    "# The two objects used for the simulation\n",
    "from_site = Site(**data_from_site)\n",
    "to_site = Site(**data_to_site)\n"
   ]
  },
  {
   "cell_type": "markdown",
   "metadata": {},
   "source": [
    "## Definition of Vessels"
   ]
  },
  {
   "cell_type": "code",
   "execution_count": 3,
   "metadata": {},
   "outputs": [
    {
     "output_type": "stream",
     "name": "stdout",
     "text": "init\n{'id': 'MP', 'level': 0, 'capacity': 2}\n{'id': 'TP', 'level': 0, 'capacity': 2}\ninit\n{'id': 'MP', 'level': 0, 'capacity': 1}\n{'id': 'TP', 'level': 0, 'capacity': 1}\n"
    }
   ],
   "source": [
    "# The generic class for an object that can move and transport (a TSHD for example)\n",
    "TransportProcessingResource = type(\n",
    "    \"TransportProcessingResource\",\n",
    "    (\n",
    "        core.Identifiable,  # Give it a name\n",
    "        core.Log,  # Allow logging of all discrete events\n",
    "        core.MultiContainerDependentMovable,  # A moving container, so capacity and location\n",
    "        core.Processor,  # Allow for loading and unloading\n",
    "        core.HasResource,  # Add information on serving equipment\n",
    "        core.HasCosts,  # Add information on costs\n",
    "        core.LoadingFunction,  # Add a loading function\n",
    "        core.UnloadingFunction,  # Add an unloading function\n",
    "        # SiteRegistry,\n",
    "    ),\n",
    "    {\"key\": \"MultiStoreHopper\"},\n",
    ")\n",
    "\n",
    "# print(SiteRegistry.inspect(\"MultiStoreHopper\"))\n",
    "# For more realistic simulation you might want to have speed dependent on the volume carried by the vessel\n",
    "def compute_v_provider(v_empty, v_full):\n",
    "    return lambda x: 10\n",
    "\n",
    "\n",
    "# TSHD variables\n",
    "data_vessel = {\n",
    "    \"env\": my_env,  # The simpy environment\n",
    "    \"name\": \"Vessel 01\",  # Name\n",
    "    \"ID\": str(uuid.uuid4()),  # For logging purposes\n",
    "    \"geometry\": location_from_site,  # It starts at the \"from site\"\n",
    "    \"loading_rate\": 1,  # Loading rate\n",
    "    \"unloading_rate\": 1,  # Unloading rate\n",
    "    \"store_capacity\": 4,\n",
    "    \"initials\": [\n",
    "        {\"id\": \"MP\", \"level\": 0, \"capacity\": 2},\n",
    "        {\"id\": \"TP\", \"level\": 0, \"capacity\": 2},\n",
    "    ],  # Capacity of the hopper - \"Beunvolume\"\n",
    "    \"compute_v\": compute_v_provider(5, 4.5),  # Variable speed\n",
    "    \"weekrate\": 7,\n",
    "}\n",
    "vessel = TransportProcessingResource(**data_vessel)\n",
    "\n",
    "\n",
    "data_installer = {\n",
    "    \"env\": my_env,  # The simpy environment\n",
    "    \"name\": \"Installer\",  # Name\n",
    "    \"ID\": str(uuid.uuid4()),  # For logging purposes\n",
    "    \"geometry\": location_from_site,  # It starts at the \"from site\"\n",
    "    \"loading_rate\": 1,  # Loading rate\n",
    "    \"unloading_rate\": 1,  # Unloading rate\n",
    "    \"store_capacity\": 4,\n",
    "    \"initials\": [\n",
    "        {\"id\": \"MP\", \"level\": 0, \"capacity\": 1},\n",
    "        {\"id\": \"TP\", \"level\": 0, \"capacity\": 1},\n",
    "    ],  # Capacity of the hopper - \"Beunvolume\"\n",
    "    \"compute_v\": compute_v_provider(5, 4.5),  # Variable speed\n",
    "    \"weekrate\": 7,\n",
    "}\n",
    "installer = TransportProcessingResource(**data_installer)"
   ]
  },
  {
   "cell_type": "markdown",
   "metadata": {},
   "source": [
    "## Definition of Vessel process"
   ]
  },
  {
   "cell_type": "code",
   "execution_count": 4,
   "metadata": {},
   "outputs": [],
   "source": [
    "# definition of vessel main cycle\n",
    "def vessel_process(vessel):\n",
    "    single_run = []\n",
    "    move_activity_to_harbor_data = {\n",
    "        \"env\": my_env,  # The simpy environment defined in the first cel\n",
    "        \"name\": \"sailing empty\",  # We are moving soil\n",
    "        \"ID\": str(uuid.uuid4()),  # For logging purposes\n",
    "        \"registry\": registry,\n",
    "        \"mover\": vessel,\n",
    "        \"destination\": from_site,\n",
    "        \"postpone_start\": True,\n",
    "    }\n",
    "    single_run.append(model.MoveActivity(**move_activity_to_harbor_data))\n",
    "    \n",
    "    shift_amount_loading_data = {\n",
    "        \"env\": my_env,  # The simpy environment defined in the first cel\n",
    "        \"name\": \"Load MP\",  # We are moving soil\n",
    "        \"ID\": str(uuid.uuid4()),  # For logging purposes\n",
    "        \"registry\": registry,\n",
    "        \"processor\": vessel,\n",
    "        \"origin\": from_site,\n",
    "        \"destination\": vessel,\n",
    "        \"amount\": 1,\n",
    "        \"duration\": 120,\n",
    "        \"id_\": \"MP\",\n",
    "        \"postpone_start\": True,\n",
    "    }\n",
    "    single_run.append(model.ShiftAmountActivity(**shift_amount_loading_data))\n",
    "    \n",
    "    move_activity_to_site_data = {\n",
    "        \"env\": my_env,  # The simpy environment defined in the first cel\n",
    "        \"name\": \"sailing filled\",  # We are moving soil\n",
    "        \"ID\": str(uuid.uuid4()),  # For logging purposes\n",
    "        \"registry\": registry,\n",
    "        \"mover\": vessel,\n",
    "        \"destination\": to_site,\n",
    "        \"postpone_start\": True,\n",
    "    }\n",
    "    single_run.append(model.MoveActivity(**move_activity_to_site_data))\n",
    "    \n",
    "    shift_amount_unloading_data = {\n",
    "        \"env\": my_env,  # The simpy environment defined in the first cel\n",
    "        \"name\": \"Transfer MP\",  # We are moving soil\n",
    "        \"ID\": str(uuid.uuid4()),  # For logging purposes\n",
    "        \"registry\": registry,\n",
    "        \"processor\": installer,\n",
    "        \"origin\": vessel,\n",
    "        \"destination\": installer,\n",
    "        \"amount\": 1,\n",
    "        \"duration\": 120,\n",
    "        \"id_\": \"MP\",\n",
    "        \"postpone_start\": True,\n",
    "        \"start_event\": [{\"type\":\"activity\", \"name\": \"Sail transit\" , \"state\":\"done\"}],\n",
    "    }\n",
    "    single_run.append(model.ShiftAmountActivity(**shift_amount_unloading_data))\n",
    "    \n",
    "    sequential_activity_data3 = {\n",
    "        \"env\": my_env,\n",
    "        \"name\": \"Single run process\",\n",
    "        \"ID\": str(uuid.uuid4()),  # For logging purposes\n",
    "        \"registry\": registry,\n",
    "        \"sub_processes\": single_run,\n",
    "        \"postpone_start\": True,\n",
    "    }\n",
    "    activity = model.SequentialActivity(**sequential_activity_data3)\n",
    "    \n",
    "    while_data = {\n",
    "        \"env\": my_env,  # The simpy environment defined in the first cel\n",
    "        \"name\": \"single run while\",  # We are moving soil\n",
    "        \"ID\": str(uuid.uuid4()),  # For logging purposes\n",
    "        \"registry\": registry,\n",
    "        \"sub_process\": activity,\n",
    "        \"condition_event\": [{\"type\":\"container\", \"concept\": from_site, \"state\":\"empty\", \"id_\":\"MP\"}],\n",
    "        \"postpone_start\": False,\n",
    "    }\n",
    "    while_activity = model.WhileActivity(**while_data)\n",
    "    return while_activity\n"
   ]
  },
  {
   "cell_type": "markdown",
   "metadata": {},
   "source": [
    "## Definition of Installer process"
   ]
  },
  {
   "cell_type": "code",
   "execution_count": 5,
   "metadata": {},
   "outputs": [
    {
     "output_type": "stream",
     "name": "stdout",
     "text": "while Activity keep_resources []\nstart event instance None\nwhile Activity keep_resources []\nstart put_available\nregister new event \nstart event instance None\n"
    }
   ],
   "source": [
    "# installer process\n",
    "#\n",
    "installer_run = []\n",
    "move_activity_to_site_data = {\n",
    "    \"env\": my_env,  # The simpy environment defined in the first cel\n",
    "    \"name\": \"sailing empty\",  # We are moving soil\n",
    "    \"ID\": str(uuid.uuid4()),  # For logging purposes\n",
    "    \"registry\": registry,\n",
    "    \"mover\": installer,\n",
    "    \"destination\": to_site,\n",
    "    \"postpone_start\": True,\n",
    "}\n",
    "installer_run.append(model.MoveActivity(**move_activity_to_site_data))\n",
    "\n",
    "installer_run2 = []\n",
    "basic_activity_data= {\"env\"  : my_env,\n",
    "                      \"name\" : \"Sail transit\",\n",
    "                      \"registry\": registry,\n",
    "                      \"ID\":str(uuid.uuid4()),  # For logging purposes\n",
    "                      \"duration\" : 30,\n",
    "                      \"additional_logs\": [installer],\n",
    "                      \"postpone_start\": True,\n",
    "                      }\n",
    "installer_run2.append(model.BasicActivity(**basic_activity_data))\n",
    "\n",
    "basic_activity_data33= {\"env\"  : my_env,\n",
    "                      \"name\" : \"Prepare installation\",\n",
    "                      \"registry\": registry,\n",
    "                      \"ID\":str(uuid.uuid4()),  # For logging purposes\n",
    "                      \"duration\" : 60,\n",
    "                      \"additional_logs\": [installer],\n",
    "                      \"postpone_start\": True,\n",
    "                      \"start_event\": [{\"type\":\"activity\", \"name\": \"Single run process\" , \"state\":\"done\"}],\n",
    "                      }\n",
    "installer_run2.append(model.BasicActivity(**basic_activity_data33))\n",
    "\n",
    "shift_amount_unloading_data2 = {\n",
    "    \"env\": my_env,  # The simpy environment defined in the first cel\n",
    "    \"name\": \"Install MP\",  # We are moving soil\n",
    "    \"ID\": str(uuid.uuid4()),  # For logging purposes\n",
    "    \"registry\": registry,\n",
    "    \"processor\": installer,\n",
    "    \"origin\": installer,\n",
    "    \"destination\": to_site,\n",
    "    \"amount\": 1,\n",
    "    \"duration\": 120,\n",
    "    \"id_\": \"MP\",\n",
    "    \"postpone_start\": True,\n",
    "}\n",
    "installer_run2.append(model.ShiftAmountActivity(**shift_amount_unloading_data2))\n",
    "\n",
    "sequential_activity_data3 = {\n",
    "    \"env\": my_env,\n",
    "    \"name\": \"Installer run process 2\",\n",
    "    \"ID\": str(uuid.uuid4()),  # For logging purposes\n",
    "    \"registry\": registry,\n",
    "    \"sub_processes\": installer_run2,\n",
    "    \"postpone_start\": True,\n",
    "}\n",
    "activity = model.SequentialActivity(**sequential_activity_data3)\n",
    "\n",
    "while_data = {\n",
    "    \"env\": my_env,  # The simpy environment defined in the first cel\n",
    "    \"name\": \"installer run while\",  # We are moving soil\n",
    "    \"ID\": str(uuid.uuid4()),  # For logging purposes\n",
    "    \"registry\": registry,\n",
    "    \"sub_process\": activity,\n",
    "    \"condition_event\": [{\"type\":\"container\", \"concept\": to_site, \"state\":\"full\", \"id_\":\"MP\"}],\n",
    "    \"postpone_start\": True,\n",
    "}\n",
    "installer_run.append(model.WhileActivity(**while_data))\n",
    "\n",
    "sequential_activity_data4 = {\n",
    "    \"env\": my_env,\n",
    "    \"name\": \"Installer run process\",\n",
    "    \"ID\": str(uuid.uuid4()),  # For logging purposes\n",
    "    \"registry\": registry,\n",
    "    \"sub_processes\": installer_run,\n",
    "    \"postpone_start\": False,\n",
    "}\n",
    "installer_proc = model.SequentialActivity(**sequential_activity_data4)\n",
    "\n",
    "## instantiate vessel process\n",
    "vessel_proc = vessel_process(vessel)\n"
   ]
  },
  {
   "cell_type": "code",
   "execution_count": 6,
   "metadata": {
    "tags": [
     "outputPrepend"
    ]
   },
   "outputs": [
    {
     "output_type": "stream",
     "name": "stdout",
     "text": "ount process keep_resources []\nstart get_available\nprocessor request : {<simpy.resources.resource.Resource object at 0x00000202AFD7A1C8>: <Request() object at 0x202afda5f88>}\nsite request : {<simpy.resources.resource.Resource object at 0x00000202AFD7A1C8>: <Request() object at 0x202afda5f88>, <simpy.resources.resource.Resource object at 0x00000202AFD938C8>: <Request() object at 0x202afdb5748>}\nend requestIfAvailable : {<simpy.resources.resource.Resource object at 0x00000202AFD7A1C8>: <Request() object at 0x202afda5f88>, <simpy.resources.resource.Resource object at 0x00000202AFD938C8>: <Request() object at 0x202afdb5748>}\nafter req resource if available : {<simpy.resources.resource.Resource object at 0x00000202AFD7A1C8>: <Request() object at 0x202afda5f88>, <simpy.resources.resource.Resource object at 0x00000202AFD938C8>: <Request() object at 0x202afdb5748>}\n_shift_amount\nstart _shift_amount\namount 1\nprocessor start process\ntransfer MP to Vessel 01\nprocessor process without rate\norigin store before get: [{'id': 'TP', 'level': 5, 'capacity': 10}, {'id': 'MP', 'level': 2, 'capacity': 10}]\nstart get 1\nstore_status {'id': 'MP', 'level': 2, 'capacity': 10}\nend get 1\nget_callback - id_ <StorePut() object at 0x202afda5d08>\nstart get_callback\n{'MP': {10: <Event() object at 0x202afda7448>}}\norigin store after get: [{'id': 'TP', 'level': 5, 'capacity': 10}, {'id': 'MP', 'level': 1, 'capacity': 10}]\nafter get\nafter check_down time\ndestination store before put: [{'id': 'TP', 'level': 0, 'capacity': 2}, {'id': 'MP', 'level': 0, 'capacity': 2}]\n<FilterStoreGet() object at 0x202afd95b08>\nput_callback - id_ MP\n{}\ndestination store after put: [{'id': 'TP', 'level': 0, 'capacity': 2}, {'id': 'MP', 'level': 1, 'capacity': 2}]\nafter put\nprocessor end process\nProcessed 1 of MP:\n  by:          Vessel 01\n  origin        Winlocatie  contains: 1 of MP\n  destination:  Vessel 01 contains: 1 of MP\nafter shift amount : {<simpy.resources.resource.Resource object at 0x00000202AFD7A1C8>: <Request() object at 0x202afda5f88>, <simpy.resources.resource.Resource object at 0x00000202AFD938C8>: <Request() object at 0x202afdb5748>}\nkeep resources []\nrelease destination : {<simpy.resources.resource.Resource object at 0x00000202AFD938C8>: <Request() object at 0x202afdb5748>}\nreleased origin : {}\nreleased processor : {}\n{}\nActivity end()\n<openclsim.model.MoveActivity object at 0x00000202AFDC0848>\nkeep_resources []\nstart event instance None\nMover_move before mover resource request\nMover_move after mover resource request\nMover_move after move\nActivity end()\n<openclsim.model.ShiftAmountActivity object at 0x00000202AFDC0B08>\nkeep_resources []\nSHift amount Activity keep_resources []\nstart event expression [{'type': 'activity', 'name': 'Sail transit', 'state': 'done'}]\nstart event <Event() object at 0x202afdb5188>\nstart event instance <Event() object at 0x202afdb5188>\ndelayed process : <Event() object at 0x202afdb5188>\ndelayed process : after yield True\ndelayed process start subprocess functools.partial(<function shift_amount_process at 0x00000202ABAE2F78>, name='Transfer MP', processor=<__main__.TransportProcessingResource object at 0x00000202AFD7A548>, origin=<__main__.TransportProcessingResource object at 0x00000202AFD9CE08>, destination=<__main__.TransportProcessingResource object at 0x00000202AFD7A548>, amount=1, duration=120, id_='MP', requested_resources={}, keep_resources=[])\nstart : {}\n{'origin.91e3967f-4908-4640-a974-e77f883338d4': 1, 'destination.d33da207-2bec-4604-b9d3-ce6d1a681b59': 1}\ndestination request : {<simpy.resources.resource.Resource object at 0x00000202AFD7A7C8>: <Request() object at 0x202afd95388>}\nshift amount process keep_resources []\nstart get_available\nprocessor request : {<simpy.resources.resource.Resource object at 0x00000202AFD7A7C8>: <Request() object at 0x202afd95388>}\nsite request : {<simpy.resources.resource.Resource object at 0x00000202AFD7A7C8>: <Request() object at 0x202afd95388>, <simpy.resources.resource.Resource object at 0x00000202AFD7A1C8>: <Request() object at 0x202afdb5988>}\nend requestIfAvailable : {<simpy.resources.resource.Resource object at 0x00000202AFD7A7C8>: <Request() object at 0x202afd95388>, <simpy.resources.resource.Resource object at 0x00000202AFD7A1C8>: <Request() object at 0x202afdb5988>}\nafter req resource if available : {<simpy.resources.resource.Resource object at 0x00000202AFD7A7C8>: <Request() object at 0x202afd95388>, <simpy.resources.resource.Resource object at 0x00000202AFD7A1C8>: <Request() object at 0x202afdb5988>}\n_shift_amount\nstart _shift_amount\namount 1\nprocessor start process\ntransfer MP to Installer\nprocessor process without rate\norigin store before get: [{'id': 'TP', 'level': 0, 'capacity': 2}, {'id': 'MP', 'level': 1, 'capacity': 2}]\nstart get 1\nstore_status {'id': 'MP', 'level': 1, 'capacity': 2}\nend get 1\nget_callback - id_ <StorePut() object at 0x202afdb5888>\nstart get_callback\n{}\norigin store after get: [{'id': 'TP', 'level': 0, 'capacity': 2}, {'id': 'MP', 'level': 0, 'capacity': 2}]\nafter get\nafter check_down time\ndestination store before put: [{'id': 'TP', 'level': 0, 'capacity': 1}, {'id': 'MP', 'level': 0, 'capacity': 1}]\n<FilterStoreGet() object at 0x202afdb5808>\nput_callback - id_ MP\n{}\ndestination store after put: [{'id': 'TP', 'level': 0, 'capacity': 1}, {'id': 'MP', 'level': 1, 'capacity': 1}]\nafter put\nprocessor end process\nProcessed 1 of MP:\n  by:          Installer\n  origin        Vessel 01  contains: 0 of MP\n  destination:  Installer contains: 1 of MP\nafter shift amount : {<simpy.resources.resource.Resource object at 0x00000202AFD7A7C8>: <Request() object at 0x202afd95388>, <simpy.resources.resource.Resource object at 0x00000202AFD7A1C8>: <Request() object at 0x202afdb5988>}\nkeep resources []\nrelease destination : {<simpy.resources.resource.Resource object at 0x00000202AFD7A1C8>: <Request() object at 0x202afdb5988>}\nreleased origin : {}\nreleased processor : {}\n{}\nActivity end()\nActivity end()\ndelayed process : after yield True\ndelayed process start subprocess functools.partial(<function basic_process at 0x00000202ABAE2E58>, name='Prepare installation', duration=60, additional_logs=[<__main__.TransportProcessingResource object at 0x00000202AFD7A548>], requested_resources={}, keep_resources=[])\ncondition event triggered: False False round 3\nwhile loop requested_resources {}\nwhile loop keep_resources []\n<openclsim.model.SequentialActivity object at 0x00000202AFDC0E08>\nconditional \nstart event instance None\n<openclsim.model.MoveActivity object at 0x00000202AFD86E88>\nkeep_resources []\nstart event instance None\nMover_move before mover resource request\nMover_move after mover resource request\nActivity end()\n<openclsim.model.ShiftAmountActivity object at 0x00000202AFDA8C48>\nkeep_resources []\nSHift amount Activity keep_resources []\nstart event instance None\nstart : {}\n{'origin.d33da207-2bec-4604-b9d3-ce6d1a681b59': 1, 'destination.1839ee8e-08b9-4e4e-9f65-7f18ae0cf2a1': 2}\ndestination request : {<simpy.resources.resource.Resource object at 0x00000202AFD93B88>: <Request() object at 0x202afd88948>}\nshift amount process keep_resources []\nstart get_available\nprocessor request : {<simpy.resources.resource.Resource object at 0x00000202AFD93B88>: <Request() object at 0x202afd88948>, <simpy.resources.resource.Resource object at 0x00000202AFD7A7C8>: <Request() object at 0x202afda5f48>}\nsite request : {<simpy.resources.resource.Resource object at 0x00000202AFD93B88>: <Request() object at 0x202afd88948>, <simpy.resources.resource.Resource object at 0x00000202AFD7A7C8>: <Request() object at 0x202afda5f48>}\nend requestIfAvailable : {<simpy.resources.resource.Resource object at 0x00000202AFD93B88>: <Request() object at 0x202afd88948>, <simpy.resources.resource.Resource object at 0x00000202AFD7A7C8>: <Request() object at 0x202afda5f48>}\nafter req resource if available : {<simpy.resources.resource.Resource object at 0x00000202AFD93B88>: <Request() object at 0x202afd88948>, <simpy.resources.resource.Resource object at 0x00000202AFD7A7C8>: <Request() object at 0x202afda5f48>}\n_shift_amount\nstart _shift_amount\namount 1\nprocessor start process\ntransfer MP to Dumplocatie\nprocessor process without rate\norigin store before get: [{'id': 'TP', 'level': 0, 'capacity': 1}, {'id': 'MP', 'level': 1, 'capacity': 1}]\nstart get 1\nstore_status {'id': 'MP', 'level': 1, 'capacity': 1}\nend get 1\nget_callback - id_ <StorePut() object at 0x202afd88508>\nstart get_callback\n{}\norigin store after get: [{'id': 'TP', 'level': 0, 'capacity': 1}, {'id': 'MP', 'level': 0, 'capacity': 1}]\nafter get\nafter check_down time\ndestination store before put: [{'id': 'TP', 'level': 0, 'capacity': 5}, {'id': 'MP', 'level': 3, 'capacity': 5}]\n<FilterStoreGet() object at 0x202afdb5d08>\nput_callback - id_ MP\n{'MP': {5: <Event() object at 0x202afd88a08>}}\namount :5\ndestination store after put: [{'id': 'TP', 'level': 0, 'capacity': 5}, {'id': 'MP', 'level': 4, 'capacity': 5}]\nafter put\nprocessor end process\nProcessed 1 of MP:\n  by:          Installer\n  origin        Installer  contains: 0 of MP\n  destination:  Dumplocatie contains: 4 of MP\nafter shift amount : {<simpy.resources.resource.Resource object at 0x00000202AFD93B88>: <Request() object at 0x202afd88948>, <simpy.resources.resource.Resource object at 0x00000202AFD7A7C8>: <Request() object at 0x202afda5f48>}\nkeep resources []\nrelease destination : {<simpy.resources.resource.Resource object at 0x00000202AFD7A7C8>: <Request() object at 0x202afda5f48>}\nreleased origin : {}\nreleased processor : {}\n{}\nActivity end()\nActivity end()\ncondition event triggered: False False round 3\nwhile loop requested_resources {}\nwhile loop keep_resources []\n<openclsim.model.SequentialActivity object at 0x00000202AFDA8F08>\nconditional \nstart event instance None\n<openclsim.model.BasicActivity object at 0x00000202AFDA8408>\nkeep_resources []\nstart event instance None\nActivity end()\n<openclsim.model.BasicActivity object at 0x00000202AFDA8908>\nkeep_resources []\nstart event expression [{'type': 'activity', 'name': 'Single run process', 'state': 'done'}]\nstart event <Event() object at 0x202afdb5a08>\nstart event instance <Event() object at 0x202afdb5a08>\ndelayed process : <Event() object at 0x202afdb5a08>\nMover_move after move\nActivity end()\n<openclsim.model.ShiftAmountActivity object at 0x00000202AFDC0588>\nkeep_resources []\nSHift amount Activity keep_resources []\nstart event instance None\nstart : {}\n{'origin.d6909702-ae45-467b-8dfe-8822e5bd645c': 1, 'destination.91e3967f-4908-4640-a974-e77f883338d4': 2}\ndestination request : {<simpy.resources.resource.Resource object at 0x00000202AFD7A1C8>: <Request() object at 0x202afda5c48>}\nshift amount process keep_resources []\nstart get_available\nprocessor request : {<simpy.resources.resource.Resource object at 0x00000202AFD7A1C8>: <Request() object at 0x202afda5c48>}\nsite request : {<simpy.resources.resource.Resource object at 0x00000202AFD7A1C8>: <Request() object at 0x202afda5c48>, <simpy.resources.resource.Resource object at 0x00000202AFD938C8>: <Request() object at 0x202afd88a88>}\nend requestIfAvailable : {<simpy.resources.resource.Resource object at 0x00000202AFD7A1C8>: <Request() object at 0x202afda5c48>, <simpy.resources.resource.Resource object at 0x00000202AFD938C8>: <Request() object at 0x202afd88a88>}\nafter req resource if available : {<simpy.resources.resource.Resource object at 0x00000202AFD7A1C8>: <Request() object at 0x202afda5c48>, <simpy.resources.resource.Resource object at 0x00000202AFD938C8>: <Request() object at 0x202afd88a88>}\n_shift_amount\nstart _shift_amount\namount 1\nprocessor start process\ntransfer MP to Vessel 01\nprocessor process without rate\norigin store before get: [{'id': 'TP', 'level': 5, 'capacity': 10}, {'id': 'MP', 'level': 1, 'capacity': 10}]\nstart get 1\nstore_status {'id': 'MP', 'level': 1, 'capacity': 10}\nend get 1\nget_callback - id_ <StorePut() object at 0x202ae3892c8>\nstart get_callback\n{'MP': {10: <Event() object at 0x202afda7448>}}\norigin store after get: [{'id': 'TP', 'level': 5, 'capacity': 10}, {'id': 'MP', 'level': 0, 'capacity': 10}]\nafter get\nafter check_down time\ndestination store before put: [{'id': 'TP', 'level': 0, 'capacity': 2}, {'id': 'MP', 'level': 0, 'capacity': 2}]\n<FilterStoreGet() object at 0x202afd95748>\nput_callback - id_ MP\n{}\ndestination store after put: [{'id': 'TP', 'level': 0, 'capacity': 2}, {'id': 'MP', 'level': 1, 'capacity': 2}]\nafter put\nprocessor end process\nProcessed 1 of MP:\n  by:          Vessel 01\n  origin        Winlocatie  contains: 0 of MP\n  destination:  Vessel 01 contains: 1 of MP\nafter shift amount : {<simpy.resources.resource.Resource object at 0x00000202AFD7A1C8>: <Request() object at 0x202afda5c48>, <simpy.resources.resource.Resource object at 0x00000202AFD938C8>: <Request() object at 0x202afd88a88>}\nkeep resources []\nrelease destination : {<simpy.resources.resource.Resource object at 0x00000202AFD938C8>: <Request() object at 0x202afd88a88>}\nreleased origin : {}\nreleased processor : {}\n{}\nActivity end()\n<openclsim.model.MoveActivity object at 0x00000202AFDC0848>\nkeep_resources []\nstart event instance None\nMover_move before mover resource request\nMover_move after mover resource request\nMover_move after move\nActivity end()\n<openclsim.model.ShiftAmountActivity object at 0x00000202AFDC0B08>\nkeep_resources []\nSHift amount Activity keep_resources []\nstart event expression [{'type': 'activity', 'name': 'Sail transit', 'state': 'done'}]\nstart event <Event() object at 0x202afd88948>\nstart event instance <Event() object at 0x202afd88948>\ndelayed process : <Event() object at 0x202afd88948>\ndelayed process : after yield True\ndelayed process start subprocess functools.partial(<function shift_amount_process at 0x00000202ABAE2F78>, name='Transfer MP', processor=<__main__.TransportProcessingResource object at 0x00000202AFD7A548>, origin=<__main__.TransportProcessingResource object at 0x00000202AFD9CE08>, destination=<__main__.TransportProcessingResource object at 0x00000202AFD7A548>, amount=1, duration=120, id_='MP', requested_resources={}, keep_resources=[])\nstart : {}\n{'origin.91e3967f-4908-4640-a974-e77f883338d4': 1, 'destination.d33da207-2bec-4604-b9d3-ce6d1a681b59': 1}\ndestination request : {<simpy.resources.resource.Resource object at 0x00000202AFD7A7C8>: <Request() object at 0x202afd95e88>}\nshift amount process keep_resources []\nstart get_available\nprocessor request : {<simpy.resources.resource.Resource object at 0x00000202AFD7A7C8>: <Request() object at 0x202afd95e88>}\nsite request : {<simpy.resources.resource.Resource object at 0x00000202AFD7A7C8>: <Request() object at 0x202afd95e88>, <simpy.resources.resource.Resource object at 0x00000202AFD7A1C8>: <Request() object at 0x202afda5f08>}\nend requestIfAvailable : {<simpy.resources.resource.Resource object at 0x00000202AFD7A7C8>: <Request() object at 0x202afd95e88>, <simpy.resources.resource.Resource object at 0x00000202AFD7A1C8>: <Request() object at 0x202afda5f08>}\nafter req resource if available : {<simpy.resources.resource.Resource object at 0x00000202AFD7A7C8>: <Request() object at 0x202afd95e88>, <simpy.resources.resource.Resource object at 0x00000202AFD7A1C8>: <Request() object at 0x202afda5f08>}\n_shift_amount\nstart _shift_amount\namount 1\nprocessor start process\ntransfer MP to Installer\nprocessor process without rate\norigin store before get: [{'id': 'TP', 'level': 0, 'capacity': 2}, {'id': 'MP', 'level': 1, 'capacity': 2}]\nstart get 1\nstore_status {'id': 'MP', 'level': 1, 'capacity': 2}\nend get 1\nget_callback - id_ <StorePut() object at 0x202afd952c8>\nstart get_callback\n{}\norigin store after get: [{'id': 'TP', 'level': 0, 'capacity': 2}, {'id': 'MP', 'level': 0, 'capacity': 2}]\nafter get\nafter check_down time\ndestination store before put: [{'id': 'TP', 'level': 0, 'capacity': 1}, {'id': 'MP', 'level': 0, 'capacity': 1}]\n<FilterStoreGet() object at 0x202afda5c48>\nput_callback - id_ MP\n{}\ndestination store after put: [{'id': 'TP', 'level': 0, 'capacity': 1}, {'id': 'MP', 'level': 1, 'capacity': 1}]\nafter put\nprocessor end process\nProcessed 1 of MP:\n  by:          Installer\n  origin        Vessel 01  contains: 0 of MP\n  destination:  Installer contains: 1 of MP\nafter shift amount : {<simpy.resources.resource.Resource object at 0x00000202AFD7A7C8>: <Request() object at 0x202afd95e88>, <simpy.resources.resource.Resource object at 0x00000202AFD7A1C8>: <Request() object at 0x202afda5f08>}\nkeep resources []\nrelease destination : {<simpy.resources.resource.Resource object at 0x00000202AFD7A1C8>: <Request() object at 0x202afda5f08>}\nreleased origin : {}\nreleased processor : {}\n{}\nActivity end()\nActivity end()\ndelayed process : after yield True\ndelayed process start subprocess functools.partial(<function basic_process at 0x00000202ABAE2E58>, name='Prepare installation', duration=60, additional_logs=[<__main__.TransportProcessingResource object at 0x00000202AFD7A548>], requested_resources={}, keep_resources=[])\ncondition event triggered: True True round 4\nwhile loop requested_resources {}\nwhile loop keep_resources []\nActivity end()\n<openclsim.model.ShiftAmountActivity object at 0x00000202AFDA8C48>\nkeep_resources []\nSHift amount Activity keep_resources []\nstart event instance None\nstart : {}\n{'origin.d33da207-2bec-4604-b9d3-ce6d1a681b59': 1, 'destination.1839ee8e-08b9-4e4e-9f65-7f18ae0cf2a1': 1}\ndestination request : {<simpy.resources.resource.Resource object at 0x00000202AFD93B88>: <Request() object at 0x202afda5f08>}\nshift amount process keep_resources []\nstart get_available\nprocessor request : {<simpy.resources.resource.Resource object at 0x00000202AFD93B88>: <Request() object at 0x202afda5f08>, <simpy.resources.resource.Resource object at 0x00000202AFD7A7C8>: <Request() object at 0x202afd88a88>}\nsite request : {<simpy.resources.resource.Resource object at 0x00000202AFD93B88>: <Request() object at 0x202afda5f08>, <simpy.resources.resource.Resource object at 0x00000202AFD7A7C8>: <Request() object at 0x202afd88a88>}\nend requestIfAvailable : {<simpy.resources.resource.Resource object at 0x00000202AFD93B88>: <Request() object at 0x202afda5f08>, <simpy.resources.resource.Resource object at 0x00000202AFD7A7C8>: <Request() object at 0x202afd88a88>}\nafter req resource if available : {<simpy.resources.resource.Resource object at 0x00000202AFD93B88>: <Request() object at 0x202afda5f08>, <simpy.resources.resource.Resource object at 0x00000202AFD7A7C8>: <Request() object at 0x202afd88a88>}\n_shift_amount\nstart _shift_amount\namount 1\nprocessor start process\ntransfer MP to Dumplocatie\nprocessor process without rate\norigin store before get: [{'id': 'TP', 'level': 0, 'capacity': 1}, {'id': 'MP', 'level': 1, 'capacity': 1}]\nstart get 1\nstore_status {'id': 'MP', 'level': 1, 'capacity': 1}\nend get 1\nget_callback - id_ <StorePut() object at 0x202ae389ec8>\nstart get_callback\n{}\norigin store after get: [{'id': 'TP', 'level': 0, 'capacity': 1}, {'id': 'MP', 'level': 0, 'capacity': 1}]\nafter get\nafter check_down time\ndestination store before put: [{'id': 'TP', 'level': 0, 'capacity': 5}, {'id': 'MP', 'level': 4, 'capacity': 5}]\n<FilterStoreGet() object at 0x202afd952c8>\nput_callback - id_ MP\n{'MP': {5: <Event() object at 0x202afd88a08>}}\namount :5\ndestination store after put: [{'id': 'TP', 'level': 0, 'capacity': 5}, {'id': 'MP', 'level': 5, 'capacity': 5}]\nafter put\nprocessor end process\nProcessed 1 of MP:\n  by:          Installer\n  origin        Installer  contains: 0 of MP\n  destination:  Dumplocatie contains: 5 of MP\nafter shift amount : {<simpy.resources.resource.Resource object at 0x00000202AFD93B88>: <Request() object at 0x202afda5f08>, <simpy.resources.resource.Resource object at 0x00000202AFD7A7C8>: <Request() object at 0x202afd88a88>}\nkeep resources []\nrelease destination : {<simpy.resources.resource.Resource object at 0x00000202AFD7A7C8>: <Request() object at 0x202afd88a88>}\nreleased origin : {}\nreleased processor : {}\n{}\nActivity end()\nActivity end()\ncondition event triggered: True True round 4\nwhile loop requested_resources {}\nwhile loop keep_resources []\nActivity end()\n"
    }
   ],
   "source": [
    "my_env.run()\n"
   ]
  },
  {
   "cell_type": "code",
   "execution_count": 9,
   "metadata": {},
   "outputs": [
    {
     "output_type": "execute_result",
     "data": {
      "text/plain": "                     Message ActivityState                  Timestamp  Value  \\\n0              sailing empty         START 1970-01-01 01:00:00.000000      0   \n1              sailing empty          STOP 1970-01-01 01:00:00.000000      0   \n2   transfer MP to Vessel 01         START 1970-01-01 01:00:00.000000      1   \n4   transfer MP to Vessel 01          STOP 1970-01-01 01:02:00.000000      1   \n6             sailing filled         START 1970-01-01 01:02:00.000000      0   \n7             sailing filled          STOP 1970-01-01 01:17:42.824591      0   \n8   transfer MP to Installer         START 1970-01-01 01:17:42.824591      1   \n9   transfer MP to Installer          STOP 1970-01-01 01:19:42.824591      1   \n10             sailing empty         START 1970-01-01 01:19:42.824591      0   \n11             sailing empty          STOP 1970-01-01 01:35:25.649183      0   \n12  transfer MP to Vessel 01         START 1970-01-01 01:35:25.649183      1   \n14  transfer MP to Vessel 01          STOP 1970-01-01 01:37:25.649183      1   \n16            sailing filled         START 1970-01-01 01:37:25.649183      0   \n17            sailing filled          STOP 1970-01-01 01:53:08.473774      0   \n18  transfer MP to Installer         START 1970-01-01 01:53:08.473774      1   \n19  transfer MP to Installer          STOP 1970-01-01 01:55:08.473774      1   \n20             sailing empty         START 1970-01-01 01:55:08.473774      0   \n21             sailing empty          STOP 1970-01-01 02:10:51.298365      0   \n22  transfer MP to Vessel 01         START 1970-01-01 02:10:51.298365      1   \n24  transfer MP to Vessel 01          STOP 1970-01-01 02:12:51.298365      1   \n26            sailing filled         START 1970-01-01 02:12:51.298365      0   \n27            sailing filled          STOP 1970-01-01 02:28:34.122956      0   \n28  transfer MP to Installer         START 1970-01-01 02:28:34.122956      1   \n29  transfer MP to Installer          STOP 1970-01-01 02:30:34.122956      1   \n30             sailing empty         START 1970-01-01 02:30:34.122956      0   \n31             sailing empty          STOP 1970-01-01 02:46:16.947548      0   \n32  transfer MP to Vessel 01         START 1970-01-01 02:46:16.947548      1   \n34  transfer MP to Vessel 01          STOP 1970-01-01 02:48:16.947548      1   \n36            sailing filled         START 1970-01-01 02:48:16.947548      0   \n37            sailing filled          STOP 1970-01-01 03:03:59.772139      0   \n38  transfer MP to Installer         START 1970-01-01 03:03:59.772139      1   \n39  transfer MP to Installer          STOP 1970-01-01 03:05:59.772139      1   \n40             sailing empty         START 1970-01-01 03:05:59.772139      0   \n41             sailing empty          STOP 1970-01-01 03:21:42.596730      0   \n42  transfer MP to Vessel 01         START 1970-01-01 03:21:42.596730      1   \n44  transfer MP to Vessel 01          STOP 1970-01-01 03:23:42.596730      1   \n46            sailing filled         START 1970-01-01 03:23:42.596730      0   \n47            sailing filled          STOP 1970-01-01 03:39:25.421321      0   \n48  transfer MP to Installer         START 1970-01-01 03:39:25.421321      1   \n49  transfer MP to Installer          STOP 1970-01-01 03:41:25.421321      1   \n\n                              ActivityID  \n0   88f9e6e9-5633-4723-b7b3-4fe6ac007281  \n1   88f9e6e9-5633-4723-b7b3-4fe6ac007281  \n2   1a05c2b6-d978-48b0-beb4-ad7e2de10260  \n4   1a05c2b6-d978-48b0-beb4-ad7e2de10260  \n6   3e18d668-9a37-4cb3-a6b2-71b4db924eb1  \n7   3e18d668-9a37-4cb3-a6b2-71b4db924eb1  \n8   ec2861de-d92a-4609-b349-a42f43f4763a  \n9   ec2861de-d92a-4609-b349-a42f43f4763a  \n10  88f9e6e9-5633-4723-b7b3-4fe6ac007281  \n11  88f9e6e9-5633-4723-b7b3-4fe6ac007281  \n12  1a05c2b6-d978-48b0-beb4-ad7e2de10260  \n14  1a05c2b6-d978-48b0-beb4-ad7e2de10260  \n16  3e18d668-9a37-4cb3-a6b2-71b4db924eb1  \n17  3e18d668-9a37-4cb3-a6b2-71b4db924eb1  \n18  ec2861de-d92a-4609-b349-a42f43f4763a  \n19  ec2861de-d92a-4609-b349-a42f43f4763a  \n20  88f9e6e9-5633-4723-b7b3-4fe6ac007281  \n21  88f9e6e9-5633-4723-b7b3-4fe6ac007281  \n22  1a05c2b6-d978-48b0-beb4-ad7e2de10260  \n24  1a05c2b6-d978-48b0-beb4-ad7e2de10260  \n26  3e18d668-9a37-4cb3-a6b2-71b4db924eb1  \n27  3e18d668-9a37-4cb3-a6b2-71b4db924eb1  \n28  ec2861de-d92a-4609-b349-a42f43f4763a  \n29  ec2861de-d92a-4609-b349-a42f43f4763a  \n30  88f9e6e9-5633-4723-b7b3-4fe6ac007281  \n31  88f9e6e9-5633-4723-b7b3-4fe6ac007281  \n32  1a05c2b6-d978-48b0-beb4-ad7e2de10260  \n34  1a05c2b6-d978-48b0-beb4-ad7e2de10260  \n36  3e18d668-9a37-4cb3-a6b2-71b4db924eb1  \n37  3e18d668-9a37-4cb3-a6b2-71b4db924eb1  \n38  ec2861de-d92a-4609-b349-a42f43f4763a  \n39  ec2861de-d92a-4609-b349-a42f43f4763a  \n40  88f9e6e9-5633-4723-b7b3-4fe6ac007281  \n41  88f9e6e9-5633-4723-b7b3-4fe6ac007281  \n42  1a05c2b6-d978-48b0-beb4-ad7e2de10260  \n44  1a05c2b6-d978-48b0-beb4-ad7e2de10260  \n46  3e18d668-9a37-4cb3-a6b2-71b4db924eb1  \n47  3e18d668-9a37-4cb3-a6b2-71b4db924eb1  \n48  ec2861de-d92a-4609-b349-a42f43f4763a  \n49  ec2861de-d92a-4609-b349-a42f43f4763a  ",
      "text/html": "<div>\n<style scoped>\n    .dataframe tbody tr th:only-of-type {\n        vertical-align: middle;\n    }\n\n    .dataframe tbody tr th {\n        vertical-align: top;\n    }\n\n    .dataframe thead th {\n        text-align: right;\n    }\n</style>\n<table border=\"1\" class=\"dataframe\">\n  <thead>\n    <tr style=\"text-align: right;\">\n      <th></th>\n      <th>Message</th>\n      <th>ActivityState</th>\n      <th>Timestamp</th>\n      <th>Value</th>\n      <th>ActivityID</th>\n    </tr>\n  </thead>\n  <tbody>\n    <tr>\n      <th>0</th>\n      <td>sailing empty</td>\n      <td>START</td>\n      <td>1970-01-01 01:00:00.000000</td>\n      <td>0</td>\n      <td>88f9e6e9-5633-4723-b7b3-4fe6ac007281</td>\n    </tr>\n    <tr>\n      <th>1</th>\n      <td>sailing empty</td>\n      <td>STOP</td>\n      <td>1970-01-01 01:00:00.000000</td>\n      <td>0</td>\n      <td>88f9e6e9-5633-4723-b7b3-4fe6ac007281</td>\n    </tr>\n    <tr>\n      <th>2</th>\n      <td>transfer MP to Vessel 01</td>\n      <td>START</td>\n      <td>1970-01-01 01:00:00.000000</td>\n      <td>1</td>\n      <td>1a05c2b6-d978-48b0-beb4-ad7e2de10260</td>\n    </tr>\n    <tr>\n      <th>4</th>\n      <td>transfer MP to Vessel 01</td>\n      <td>STOP</td>\n      <td>1970-01-01 01:02:00.000000</td>\n      <td>1</td>\n      <td>1a05c2b6-d978-48b0-beb4-ad7e2de10260</td>\n    </tr>\n    <tr>\n      <th>6</th>\n      <td>sailing filled</td>\n      <td>START</td>\n      <td>1970-01-01 01:02:00.000000</td>\n      <td>0</td>\n      <td>3e18d668-9a37-4cb3-a6b2-71b4db924eb1</td>\n    </tr>\n    <tr>\n      <th>7</th>\n      <td>sailing filled</td>\n      <td>STOP</td>\n      <td>1970-01-01 01:17:42.824591</td>\n      <td>0</td>\n      <td>3e18d668-9a37-4cb3-a6b2-71b4db924eb1</td>\n    </tr>\n    <tr>\n      <th>8</th>\n      <td>transfer MP to Installer</td>\n      <td>START</td>\n      <td>1970-01-01 01:17:42.824591</td>\n      <td>1</td>\n      <td>ec2861de-d92a-4609-b349-a42f43f4763a</td>\n    </tr>\n    <tr>\n      <th>9</th>\n      <td>transfer MP to Installer</td>\n      <td>STOP</td>\n      <td>1970-01-01 01:19:42.824591</td>\n      <td>1</td>\n      <td>ec2861de-d92a-4609-b349-a42f43f4763a</td>\n    </tr>\n    <tr>\n      <th>10</th>\n      <td>sailing empty</td>\n      <td>START</td>\n      <td>1970-01-01 01:19:42.824591</td>\n      <td>0</td>\n      <td>88f9e6e9-5633-4723-b7b3-4fe6ac007281</td>\n    </tr>\n    <tr>\n      <th>11</th>\n      <td>sailing empty</td>\n      <td>STOP</td>\n      <td>1970-01-01 01:35:25.649183</td>\n      <td>0</td>\n      <td>88f9e6e9-5633-4723-b7b3-4fe6ac007281</td>\n    </tr>\n    <tr>\n      <th>12</th>\n      <td>transfer MP to Vessel 01</td>\n      <td>START</td>\n      <td>1970-01-01 01:35:25.649183</td>\n      <td>1</td>\n      <td>1a05c2b6-d978-48b0-beb4-ad7e2de10260</td>\n    </tr>\n    <tr>\n      <th>14</th>\n      <td>transfer MP to Vessel 01</td>\n      <td>STOP</td>\n      <td>1970-01-01 01:37:25.649183</td>\n      <td>1</td>\n      <td>1a05c2b6-d978-48b0-beb4-ad7e2de10260</td>\n    </tr>\n    <tr>\n      <th>16</th>\n      <td>sailing filled</td>\n      <td>START</td>\n      <td>1970-01-01 01:37:25.649183</td>\n      <td>0</td>\n      <td>3e18d668-9a37-4cb3-a6b2-71b4db924eb1</td>\n    </tr>\n    <tr>\n      <th>17</th>\n      <td>sailing filled</td>\n      <td>STOP</td>\n      <td>1970-01-01 01:53:08.473774</td>\n      <td>0</td>\n      <td>3e18d668-9a37-4cb3-a6b2-71b4db924eb1</td>\n    </tr>\n    <tr>\n      <th>18</th>\n      <td>transfer MP to Installer</td>\n      <td>START</td>\n      <td>1970-01-01 01:53:08.473774</td>\n      <td>1</td>\n      <td>ec2861de-d92a-4609-b349-a42f43f4763a</td>\n    </tr>\n    <tr>\n      <th>19</th>\n      <td>transfer MP to Installer</td>\n      <td>STOP</td>\n      <td>1970-01-01 01:55:08.473774</td>\n      <td>1</td>\n      <td>ec2861de-d92a-4609-b349-a42f43f4763a</td>\n    </tr>\n    <tr>\n      <th>20</th>\n      <td>sailing empty</td>\n      <td>START</td>\n      <td>1970-01-01 01:55:08.473774</td>\n      <td>0</td>\n      <td>88f9e6e9-5633-4723-b7b3-4fe6ac007281</td>\n    </tr>\n    <tr>\n      <th>21</th>\n      <td>sailing empty</td>\n      <td>STOP</td>\n      <td>1970-01-01 02:10:51.298365</td>\n      <td>0</td>\n      <td>88f9e6e9-5633-4723-b7b3-4fe6ac007281</td>\n    </tr>\n    <tr>\n      <th>22</th>\n      <td>transfer MP to Vessel 01</td>\n      <td>START</td>\n      <td>1970-01-01 02:10:51.298365</td>\n      <td>1</td>\n      <td>1a05c2b6-d978-48b0-beb4-ad7e2de10260</td>\n    </tr>\n    <tr>\n      <th>24</th>\n      <td>transfer MP to Vessel 01</td>\n      <td>STOP</td>\n      <td>1970-01-01 02:12:51.298365</td>\n      <td>1</td>\n      <td>1a05c2b6-d978-48b0-beb4-ad7e2de10260</td>\n    </tr>\n    <tr>\n      <th>26</th>\n      <td>sailing filled</td>\n      <td>START</td>\n      <td>1970-01-01 02:12:51.298365</td>\n      <td>0</td>\n      <td>3e18d668-9a37-4cb3-a6b2-71b4db924eb1</td>\n    </tr>\n    <tr>\n      <th>27</th>\n      <td>sailing filled</td>\n      <td>STOP</td>\n      <td>1970-01-01 02:28:34.122956</td>\n      <td>0</td>\n      <td>3e18d668-9a37-4cb3-a6b2-71b4db924eb1</td>\n    </tr>\n    <tr>\n      <th>28</th>\n      <td>transfer MP to Installer</td>\n      <td>START</td>\n      <td>1970-01-01 02:28:34.122956</td>\n      <td>1</td>\n      <td>ec2861de-d92a-4609-b349-a42f43f4763a</td>\n    </tr>\n    <tr>\n      <th>29</th>\n      <td>transfer MP to Installer</td>\n      <td>STOP</td>\n      <td>1970-01-01 02:30:34.122956</td>\n      <td>1</td>\n      <td>ec2861de-d92a-4609-b349-a42f43f4763a</td>\n    </tr>\n    <tr>\n      <th>30</th>\n      <td>sailing empty</td>\n      <td>START</td>\n      <td>1970-01-01 02:30:34.122956</td>\n      <td>0</td>\n      <td>88f9e6e9-5633-4723-b7b3-4fe6ac007281</td>\n    </tr>\n    <tr>\n      <th>31</th>\n      <td>sailing empty</td>\n      <td>STOP</td>\n      <td>1970-01-01 02:46:16.947548</td>\n      <td>0</td>\n      <td>88f9e6e9-5633-4723-b7b3-4fe6ac007281</td>\n    </tr>\n    <tr>\n      <th>32</th>\n      <td>transfer MP to Vessel 01</td>\n      <td>START</td>\n      <td>1970-01-01 02:46:16.947548</td>\n      <td>1</td>\n      <td>1a05c2b6-d978-48b0-beb4-ad7e2de10260</td>\n    </tr>\n    <tr>\n      <th>34</th>\n      <td>transfer MP to Vessel 01</td>\n      <td>STOP</td>\n      <td>1970-01-01 02:48:16.947548</td>\n      <td>1</td>\n      <td>1a05c2b6-d978-48b0-beb4-ad7e2de10260</td>\n    </tr>\n    <tr>\n      <th>36</th>\n      <td>sailing filled</td>\n      <td>START</td>\n      <td>1970-01-01 02:48:16.947548</td>\n      <td>0</td>\n      <td>3e18d668-9a37-4cb3-a6b2-71b4db924eb1</td>\n    </tr>\n    <tr>\n      <th>37</th>\n      <td>sailing filled</td>\n      <td>STOP</td>\n      <td>1970-01-01 03:03:59.772139</td>\n      <td>0</td>\n      <td>3e18d668-9a37-4cb3-a6b2-71b4db924eb1</td>\n    </tr>\n    <tr>\n      <th>38</th>\n      <td>transfer MP to Installer</td>\n      <td>START</td>\n      <td>1970-01-01 03:03:59.772139</td>\n      <td>1</td>\n      <td>ec2861de-d92a-4609-b349-a42f43f4763a</td>\n    </tr>\n    <tr>\n      <th>39</th>\n      <td>transfer MP to Installer</td>\n      <td>STOP</td>\n      <td>1970-01-01 03:05:59.772139</td>\n      <td>1</td>\n      <td>ec2861de-d92a-4609-b349-a42f43f4763a</td>\n    </tr>\n    <tr>\n      <th>40</th>\n      <td>sailing empty</td>\n      <td>START</td>\n      <td>1970-01-01 03:05:59.772139</td>\n      <td>0</td>\n      <td>88f9e6e9-5633-4723-b7b3-4fe6ac007281</td>\n    </tr>\n    <tr>\n      <th>41</th>\n      <td>sailing empty</td>\n      <td>STOP</td>\n      <td>1970-01-01 03:21:42.596730</td>\n      <td>0</td>\n      <td>88f9e6e9-5633-4723-b7b3-4fe6ac007281</td>\n    </tr>\n    <tr>\n      <th>42</th>\n      <td>transfer MP to Vessel 01</td>\n      <td>START</td>\n      <td>1970-01-01 03:21:42.596730</td>\n      <td>1</td>\n      <td>1a05c2b6-d978-48b0-beb4-ad7e2de10260</td>\n    </tr>\n    <tr>\n      <th>44</th>\n      <td>transfer MP to Vessel 01</td>\n      <td>STOP</td>\n      <td>1970-01-01 03:23:42.596730</td>\n      <td>1</td>\n      <td>1a05c2b6-d978-48b0-beb4-ad7e2de10260</td>\n    </tr>\n    <tr>\n      <th>46</th>\n      <td>sailing filled</td>\n      <td>START</td>\n      <td>1970-01-01 03:23:42.596730</td>\n      <td>0</td>\n      <td>3e18d668-9a37-4cb3-a6b2-71b4db924eb1</td>\n    </tr>\n    <tr>\n      <th>47</th>\n      <td>sailing filled</td>\n      <td>STOP</td>\n      <td>1970-01-01 03:39:25.421321</td>\n      <td>0</td>\n      <td>3e18d668-9a37-4cb3-a6b2-71b4db924eb1</td>\n    </tr>\n    <tr>\n      <th>48</th>\n      <td>transfer MP to Installer</td>\n      <td>START</td>\n      <td>1970-01-01 03:39:25.421321</td>\n      <td>1</td>\n      <td>ec2861de-d92a-4609-b349-a42f43f4763a</td>\n    </tr>\n    <tr>\n      <th>49</th>\n      <td>transfer MP to Installer</td>\n      <td>STOP</td>\n      <td>1970-01-01 03:41:25.421321</td>\n      <td>1</td>\n      <td>ec2861de-d92a-4609-b349-a42f43f4763a</td>\n    </tr>\n  </tbody>\n</table>\n</div>"
     },
     "metadata": {},
     "execution_count": 9
    }
   ],
   "source": [
    "log_df = pd.DataFrame(vessel.log)\n",
    "data = log_df[[\"Message\", \"ActivityState\", \"Timestamp\", \"Value\", \"ActivityID\"]]\n",
    "data = data.drop_duplicates()\n",
    "data\n"
   ]
  },
  {
   "cell_type": "code",
   "execution_count": 10,
   "metadata": {},
   "outputs": [
    {
     "output_type": "execute_result",
     "data": {
      "text/plain": "                       Message ActivityState                  Timestamp  \\\n0                sailing empty         START 1970-01-01 01:00:00.000000   \n1                sailing empty          STOP 1970-01-01 01:15:42.824591   \n2                 Sail transit         START 1970-01-01 01:15:42.824591   \n3                 Sail transit          STOP 1970-01-01 01:16:12.824591   \n4         Prepare installation    WAIT_START 1970-01-01 01:16:12.824591   \n5     transfer MP to Installer         START 1970-01-01 01:17:42.824591   \n7     transfer MP to Installer          STOP 1970-01-01 01:19:42.824591   \n9         Prepare installation     WAIT_STOP 1970-01-01 01:19:42.824591   \n10        Prepare installation         START 1970-01-01 01:19:42.824591   \n11        Prepare installation          STOP 1970-01-01 01:20:42.824591   \n12  transfer MP to Dumplocatie         START 1970-01-01 01:20:42.824591   \n14  transfer MP to Dumplocatie          STOP 1970-01-01 01:22:42.824591   \n16                Sail transit         START 1970-01-01 01:22:42.824591   \n17                Sail transit          STOP 1970-01-01 01:23:12.824591   \n18        Prepare installation    WAIT_START 1970-01-01 01:23:12.824591   \n19    transfer MP to Installer         START 1970-01-01 01:53:08.473774   \n21    transfer MP to Installer          STOP 1970-01-01 01:55:08.473774   \n23        Prepare installation     WAIT_STOP 1970-01-01 01:55:08.473774   \n24        Prepare installation         START 1970-01-01 01:55:08.473774   \n25        Prepare installation          STOP 1970-01-01 01:56:08.473774   \n26  transfer MP to Dumplocatie         START 1970-01-01 01:56:08.473774   \n28  transfer MP to Dumplocatie          STOP 1970-01-01 01:58:08.473774   \n30                Sail transit         START 1970-01-01 01:58:08.473774   \n31                Sail transit          STOP 1970-01-01 01:58:38.473774   \n32        Prepare installation    WAIT_START 1970-01-01 01:58:38.473774   \n33    transfer MP to Installer         START 1970-01-01 02:28:34.122956   \n35    transfer MP to Installer          STOP 1970-01-01 02:30:34.122956   \n37        Prepare installation     WAIT_STOP 1970-01-01 02:30:34.122956   \n38        Prepare installation         START 1970-01-01 02:30:34.122956   \n39        Prepare installation          STOP 1970-01-01 02:31:34.122956   \n40  transfer MP to Dumplocatie         START 1970-01-01 02:31:34.122956   \n42  transfer MP to Dumplocatie          STOP 1970-01-01 02:33:34.122956   \n44                Sail transit         START 1970-01-01 02:33:34.122956   \n45                Sail transit          STOP 1970-01-01 02:34:04.122956   \n46        Prepare installation    WAIT_START 1970-01-01 02:34:04.122956   \n47    transfer MP to Installer         START 1970-01-01 03:03:59.772139   \n49    transfer MP to Installer          STOP 1970-01-01 03:05:59.772139   \n51        Prepare installation     WAIT_STOP 1970-01-01 03:05:59.772139   \n52        Prepare installation         START 1970-01-01 03:05:59.772139   \n53        Prepare installation          STOP 1970-01-01 03:06:59.772139   \n54  transfer MP to Dumplocatie         START 1970-01-01 03:06:59.772139   \n56  transfer MP to Dumplocatie          STOP 1970-01-01 03:08:59.772139   \n58                Sail transit         START 1970-01-01 03:08:59.772139   \n59                Sail transit          STOP 1970-01-01 03:09:29.772139   \n60        Prepare installation    WAIT_START 1970-01-01 03:09:29.772139   \n61    transfer MP to Installer         START 1970-01-01 03:39:25.421321   \n63    transfer MP to Installer          STOP 1970-01-01 03:41:25.421321   \n65        Prepare installation     WAIT_STOP 1970-01-01 03:41:25.421321   \n66        Prepare installation         START 1970-01-01 03:41:25.421321   \n67        Prepare installation          STOP 1970-01-01 03:42:25.421321   \n68  transfer MP to Dumplocatie         START 1970-01-01 03:42:25.421321   \n70  transfer MP to Dumplocatie          STOP 1970-01-01 03:44:25.421321   \n\n    Value                            ActivityID  \n0       0  7bad3f4d-2d4f-45a0-9462-3fcc26cea8cb  \n1       0  7bad3f4d-2d4f-45a0-9462-3fcc26cea8cb  \n2      30  eacd8a65-47ae-4fde-bac6-191a4c086af4  \n3      30  eacd8a65-47ae-4fde-bac6-191a4c086af4  \n4      -1  7fe63a1b-9df0-4d3f-a3b7-ec8a3823febc  \n5       1  ec2861de-d92a-4609-b349-a42f43f4763a  \n7       1  ec2861de-d92a-4609-b349-a42f43f4763a  \n9      -1  7fe63a1b-9df0-4d3f-a3b7-ec8a3823febc  \n10     60  7fe63a1b-9df0-4d3f-a3b7-ec8a3823febc  \n11     60  7fe63a1b-9df0-4d3f-a3b7-ec8a3823febc  \n12      1  d3969975-1103-452d-92fc-6fffa1da9c1b  \n14      1  d3969975-1103-452d-92fc-6fffa1da9c1b  \n16     30  eacd8a65-47ae-4fde-bac6-191a4c086af4  \n17     30  eacd8a65-47ae-4fde-bac6-191a4c086af4  \n18     -1  7fe63a1b-9df0-4d3f-a3b7-ec8a3823febc  \n19      1  ec2861de-d92a-4609-b349-a42f43f4763a  \n21      1  ec2861de-d92a-4609-b349-a42f43f4763a  \n23     -1  7fe63a1b-9df0-4d3f-a3b7-ec8a3823febc  \n24     60  7fe63a1b-9df0-4d3f-a3b7-ec8a3823febc  \n25     60  7fe63a1b-9df0-4d3f-a3b7-ec8a3823febc  \n26      1  d3969975-1103-452d-92fc-6fffa1da9c1b  \n28      1  d3969975-1103-452d-92fc-6fffa1da9c1b  \n30     30  eacd8a65-47ae-4fde-bac6-191a4c086af4  \n31     30  eacd8a65-47ae-4fde-bac6-191a4c086af4  \n32     -1  7fe63a1b-9df0-4d3f-a3b7-ec8a3823febc  \n33      1  ec2861de-d92a-4609-b349-a42f43f4763a  \n35      1  ec2861de-d92a-4609-b349-a42f43f4763a  \n37     -1  7fe63a1b-9df0-4d3f-a3b7-ec8a3823febc  \n38     60  7fe63a1b-9df0-4d3f-a3b7-ec8a3823febc  \n39     60  7fe63a1b-9df0-4d3f-a3b7-ec8a3823febc  \n40      1  d3969975-1103-452d-92fc-6fffa1da9c1b  \n42      1  d3969975-1103-452d-92fc-6fffa1da9c1b  \n44     30  eacd8a65-47ae-4fde-bac6-191a4c086af4  \n45     30  eacd8a65-47ae-4fde-bac6-191a4c086af4  \n46     -1  7fe63a1b-9df0-4d3f-a3b7-ec8a3823febc  \n47      1  ec2861de-d92a-4609-b349-a42f43f4763a  \n49      1  ec2861de-d92a-4609-b349-a42f43f4763a  \n51     -1  7fe63a1b-9df0-4d3f-a3b7-ec8a3823febc  \n52     60  7fe63a1b-9df0-4d3f-a3b7-ec8a3823febc  \n53     60  7fe63a1b-9df0-4d3f-a3b7-ec8a3823febc  \n54      1  d3969975-1103-452d-92fc-6fffa1da9c1b  \n56      1  d3969975-1103-452d-92fc-6fffa1da9c1b  \n58     30  eacd8a65-47ae-4fde-bac6-191a4c086af4  \n59     30  eacd8a65-47ae-4fde-bac6-191a4c086af4  \n60     -1  7fe63a1b-9df0-4d3f-a3b7-ec8a3823febc  \n61      1  ec2861de-d92a-4609-b349-a42f43f4763a  \n63      1  ec2861de-d92a-4609-b349-a42f43f4763a  \n65     -1  7fe63a1b-9df0-4d3f-a3b7-ec8a3823febc  \n66     60  7fe63a1b-9df0-4d3f-a3b7-ec8a3823febc  \n67     60  7fe63a1b-9df0-4d3f-a3b7-ec8a3823febc  \n68      1  d3969975-1103-452d-92fc-6fffa1da9c1b  \n70      1  d3969975-1103-452d-92fc-6fffa1da9c1b  ",
      "text/html": "<div>\n<style scoped>\n    .dataframe tbody tr th:only-of-type {\n        vertical-align: middle;\n    }\n\n    .dataframe tbody tr th {\n        vertical-align: top;\n    }\n\n    .dataframe thead th {\n        text-align: right;\n    }\n</style>\n<table border=\"1\" class=\"dataframe\">\n  <thead>\n    <tr style=\"text-align: right;\">\n      <th></th>\n      <th>Message</th>\n      <th>ActivityState</th>\n      <th>Timestamp</th>\n      <th>Value</th>\n      <th>ActivityID</th>\n    </tr>\n  </thead>\n  <tbody>\n    <tr>\n      <th>0</th>\n      <td>sailing empty</td>\n      <td>START</td>\n      <td>1970-01-01 01:00:00.000000</td>\n      <td>0</td>\n      <td>7bad3f4d-2d4f-45a0-9462-3fcc26cea8cb</td>\n    </tr>\n    <tr>\n      <th>1</th>\n      <td>sailing empty</td>\n      <td>STOP</td>\n      <td>1970-01-01 01:15:42.824591</td>\n      <td>0</td>\n      <td>7bad3f4d-2d4f-45a0-9462-3fcc26cea8cb</td>\n    </tr>\n    <tr>\n      <th>2</th>\n      <td>Sail transit</td>\n      <td>START</td>\n      <td>1970-01-01 01:15:42.824591</td>\n      <td>30</td>\n      <td>eacd8a65-47ae-4fde-bac6-191a4c086af4</td>\n    </tr>\n    <tr>\n      <th>3</th>\n      <td>Sail transit</td>\n      <td>STOP</td>\n      <td>1970-01-01 01:16:12.824591</td>\n      <td>30</td>\n      <td>eacd8a65-47ae-4fde-bac6-191a4c086af4</td>\n    </tr>\n    <tr>\n      <th>4</th>\n      <td>Prepare installation</td>\n      <td>WAIT_START</td>\n      <td>1970-01-01 01:16:12.824591</td>\n      <td>-1</td>\n      <td>7fe63a1b-9df0-4d3f-a3b7-ec8a3823febc</td>\n    </tr>\n    <tr>\n      <th>5</th>\n      <td>transfer MP to Installer</td>\n      <td>START</td>\n      <td>1970-01-01 01:17:42.824591</td>\n      <td>1</td>\n      <td>ec2861de-d92a-4609-b349-a42f43f4763a</td>\n    </tr>\n    <tr>\n      <th>7</th>\n      <td>transfer MP to Installer</td>\n      <td>STOP</td>\n      <td>1970-01-01 01:19:42.824591</td>\n      <td>1</td>\n      <td>ec2861de-d92a-4609-b349-a42f43f4763a</td>\n    </tr>\n    <tr>\n      <th>9</th>\n      <td>Prepare installation</td>\n      <td>WAIT_STOP</td>\n      <td>1970-01-01 01:19:42.824591</td>\n      <td>-1</td>\n      <td>7fe63a1b-9df0-4d3f-a3b7-ec8a3823febc</td>\n    </tr>\n    <tr>\n      <th>10</th>\n      <td>Prepare installation</td>\n      <td>START</td>\n      <td>1970-01-01 01:19:42.824591</td>\n      <td>60</td>\n      <td>7fe63a1b-9df0-4d3f-a3b7-ec8a3823febc</td>\n    </tr>\n    <tr>\n      <th>11</th>\n      <td>Prepare installation</td>\n      <td>STOP</td>\n      <td>1970-01-01 01:20:42.824591</td>\n      <td>60</td>\n      <td>7fe63a1b-9df0-4d3f-a3b7-ec8a3823febc</td>\n    </tr>\n    <tr>\n      <th>12</th>\n      <td>transfer MP to Dumplocatie</td>\n      <td>START</td>\n      <td>1970-01-01 01:20:42.824591</td>\n      <td>1</td>\n      <td>d3969975-1103-452d-92fc-6fffa1da9c1b</td>\n    </tr>\n    <tr>\n      <th>14</th>\n      <td>transfer MP to Dumplocatie</td>\n      <td>STOP</td>\n      <td>1970-01-01 01:22:42.824591</td>\n      <td>1</td>\n      <td>d3969975-1103-452d-92fc-6fffa1da9c1b</td>\n    </tr>\n    <tr>\n      <th>16</th>\n      <td>Sail transit</td>\n      <td>START</td>\n      <td>1970-01-01 01:22:42.824591</td>\n      <td>30</td>\n      <td>eacd8a65-47ae-4fde-bac6-191a4c086af4</td>\n    </tr>\n    <tr>\n      <th>17</th>\n      <td>Sail transit</td>\n      <td>STOP</td>\n      <td>1970-01-01 01:23:12.824591</td>\n      <td>30</td>\n      <td>eacd8a65-47ae-4fde-bac6-191a4c086af4</td>\n    </tr>\n    <tr>\n      <th>18</th>\n      <td>Prepare installation</td>\n      <td>WAIT_START</td>\n      <td>1970-01-01 01:23:12.824591</td>\n      <td>-1</td>\n      <td>7fe63a1b-9df0-4d3f-a3b7-ec8a3823febc</td>\n    </tr>\n    <tr>\n      <th>19</th>\n      <td>transfer MP to Installer</td>\n      <td>START</td>\n      <td>1970-01-01 01:53:08.473774</td>\n      <td>1</td>\n      <td>ec2861de-d92a-4609-b349-a42f43f4763a</td>\n    </tr>\n    <tr>\n      <th>21</th>\n      <td>transfer MP to Installer</td>\n      <td>STOP</td>\n      <td>1970-01-01 01:55:08.473774</td>\n      <td>1</td>\n      <td>ec2861de-d92a-4609-b349-a42f43f4763a</td>\n    </tr>\n    <tr>\n      <th>23</th>\n      <td>Prepare installation</td>\n      <td>WAIT_STOP</td>\n      <td>1970-01-01 01:55:08.473774</td>\n      <td>-1</td>\n      <td>7fe63a1b-9df0-4d3f-a3b7-ec8a3823febc</td>\n    </tr>\n    <tr>\n      <th>24</th>\n      <td>Prepare installation</td>\n      <td>START</td>\n      <td>1970-01-01 01:55:08.473774</td>\n      <td>60</td>\n      <td>7fe63a1b-9df0-4d3f-a3b7-ec8a3823febc</td>\n    </tr>\n    <tr>\n      <th>25</th>\n      <td>Prepare installation</td>\n      <td>STOP</td>\n      <td>1970-01-01 01:56:08.473774</td>\n      <td>60</td>\n      <td>7fe63a1b-9df0-4d3f-a3b7-ec8a3823febc</td>\n    </tr>\n    <tr>\n      <th>26</th>\n      <td>transfer MP to Dumplocatie</td>\n      <td>START</td>\n      <td>1970-01-01 01:56:08.473774</td>\n      <td>1</td>\n      <td>d3969975-1103-452d-92fc-6fffa1da9c1b</td>\n    </tr>\n    <tr>\n      <th>28</th>\n      <td>transfer MP to Dumplocatie</td>\n      <td>STOP</td>\n      <td>1970-01-01 01:58:08.473774</td>\n      <td>1</td>\n      <td>d3969975-1103-452d-92fc-6fffa1da9c1b</td>\n    </tr>\n    <tr>\n      <th>30</th>\n      <td>Sail transit</td>\n      <td>START</td>\n      <td>1970-01-01 01:58:08.473774</td>\n      <td>30</td>\n      <td>eacd8a65-47ae-4fde-bac6-191a4c086af4</td>\n    </tr>\n    <tr>\n      <th>31</th>\n      <td>Sail transit</td>\n      <td>STOP</td>\n      <td>1970-01-01 01:58:38.473774</td>\n      <td>30</td>\n      <td>eacd8a65-47ae-4fde-bac6-191a4c086af4</td>\n    </tr>\n    <tr>\n      <th>32</th>\n      <td>Prepare installation</td>\n      <td>WAIT_START</td>\n      <td>1970-01-01 01:58:38.473774</td>\n      <td>-1</td>\n      <td>7fe63a1b-9df0-4d3f-a3b7-ec8a3823febc</td>\n    </tr>\n    <tr>\n      <th>33</th>\n      <td>transfer MP to Installer</td>\n      <td>START</td>\n      <td>1970-01-01 02:28:34.122956</td>\n      <td>1</td>\n      <td>ec2861de-d92a-4609-b349-a42f43f4763a</td>\n    </tr>\n    <tr>\n      <th>35</th>\n      <td>transfer MP to Installer</td>\n      <td>STOP</td>\n      <td>1970-01-01 02:30:34.122956</td>\n      <td>1</td>\n      <td>ec2861de-d92a-4609-b349-a42f43f4763a</td>\n    </tr>\n    <tr>\n      <th>37</th>\n      <td>Prepare installation</td>\n      <td>WAIT_STOP</td>\n      <td>1970-01-01 02:30:34.122956</td>\n      <td>-1</td>\n      <td>7fe63a1b-9df0-4d3f-a3b7-ec8a3823febc</td>\n    </tr>\n    <tr>\n      <th>38</th>\n      <td>Prepare installation</td>\n      <td>START</td>\n      <td>1970-01-01 02:30:34.122956</td>\n      <td>60</td>\n      <td>7fe63a1b-9df0-4d3f-a3b7-ec8a3823febc</td>\n    </tr>\n    <tr>\n      <th>39</th>\n      <td>Prepare installation</td>\n      <td>STOP</td>\n      <td>1970-01-01 02:31:34.122956</td>\n      <td>60</td>\n      <td>7fe63a1b-9df0-4d3f-a3b7-ec8a3823febc</td>\n    </tr>\n    <tr>\n      <th>40</th>\n      <td>transfer MP to Dumplocatie</td>\n      <td>START</td>\n      <td>1970-01-01 02:31:34.122956</td>\n      <td>1</td>\n      <td>d3969975-1103-452d-92fc-6fffa1da9c1b</td>\n    </tr>\n    <tr>\n      <th>42</th>\n      <td>transfer MP to Dumplocatie</td>\n      <td>STOP</td>\n      <td>1970-01-01 02:33:34.122956</td>\n      <td>1</td>\n      <td>d3969975-1103-452d-92fc-6fffa1da9c1b</td>\n    </tr>\n    <tr>\n      <th>44</th>\n      <td>Sail transit</td>\n      <td>START</td>\n      <td>1970-01-01 02:33:34.122956</td>\n      <td>30</td>\n      <td>eacd8a65-47ae-4fde-bac6-191a4c086af4</td>\n    </tr>\n    <tr>\n      <th>45</th>\n      <td>Sail transit</td>\n      <td>STOP</td>\n      <td>1970-01-01 02:34:04.122956</td>\n      <td>30</td>\n      <td>eacd8a65-47ae-4fde-bac6-191a4c086af4</td>\n    </tr>\n    <tr>\n      <th>46</th>\n      <td>Prepare installation</td>\n      <td>WAIT_START</td>\n      <td>1970-01-01 02:34:04.122956</td>\n      <td>-1</td>\n      <td>7fe63a1b-9df0-4d3f-a3b7-ec8a3823febc</td>\n    </tr>\n    <tr>\n      <th>47</th>\n      <td>transfer MP to Installer</td>\n      <td>START</td>\n      <td>1970-01-01 03:03:59.772139</td>\n      <td>1</td>\n      <td>ec2861de-d92a-4609-b349-a42f43f4763a</td>\n    </tr>\n    <tr>\n      <th>49</th>\n      <td>transfer MP to Installer</td>\n      <td>STOP</td>\n      <td>1970-01-01 03:05:59.772139</td>\n      <td>1</td>\n      <td>ec2861de-d92a-4609-b349-a42f43f4763a</td>\n    </tr>\n    <tr>\n      <th>51</th>\n      <td>Prepare installation</td>\n      <td>WAIT_STOP</td>\n      <td>1970-01-01 03:05:59.772139</td>\n      <td>-1</td>\n      <td>7fe63a1b-9df0-4d3f-a3b7-ec8a3823febc</td>\n    </tr>\n    <tr>\n      <th>52</th>\n      <td>Prepare installation</td>\n      <td>START</td>\n      <td>1970-01-01 03:05:59.772139</td>\n      <td>60</td>\n      <td>7fe63a1b-9df0-4d3f-a3b7-ec8a3823febc</td>\n    </tr>\n    <tr>\n      <th>53</th>\n      <td>Prepare installation</td>\n      <td>STOP</td>\n      <td>1970-01-01 03:06:59.772139</td>\n      <td>60</td>\n      <td>7fe63a1b-9df0-4d3f-a3b7-ec8a3823febc</td>\n    </tr>\n    <tr>\n      <th>54</th>\n      <td>transfer MP to Dumplocatie</td>\n      <td>START</td>\n      <td>1970-01-01 03:06:59.772139</td>\n      <td>1</td>\n      <td>d3969975-1103-452d-92fc-6fffa1da9c1b</td>\n    </tr>\n    <tr>\n      <th>56</th>\n      <td>transfer MP to Dumplocatie</td>\n      <td>STOP</td>\n      <td>1970-01-01 03:08:59.772139</td>\n      <td>1</td>\n      <td>d3969975-1103-452d-92fc-6fffa1da9c1b</td>\n    </tr>\n    <tr>\n      <th>58</th>\n      <td>Sail transit</td>\n      <td>START</td>\n      <td>1970-01-01 03:08:59.772139</td>\n      <td>30</td>\n      <td>eacd8a65-47ae-4fde-bac6-191a4c086af4</td>\n    </tr>\n    <tr>\n      <th>59</th>\n      <td>Sail transit</td>\n      <td>STOP</td>\n      <td>1970-01-01 03:09:29.772139</td>\n      <td>30</td>\n      <td>eacd8a65-47ae-4fde-bac6-191a4c086af4</td>\n    </tr>\n    <tr>\n      <th>60</th>\n      <td>Prepare installation</td>\n      <td>WAIT_START</td>\n      <td>1970-01-01 03:09:29.772139</td>\n      <td>-1</td>\n      <td>7fe63a1b-9df0-4d3f-a3b7-ec8a3823febc</td>\n    </tr>\n    <tr>\n      <th>61</th>\n      <td>transfer MP to Installer</td>\n      <td>START</td>\n      <td>1970-01-01 03:39:25.421321</td>\n      <td>1</td>\n      <td>ec2861de-d92a-4609-b349-a42f43f4763a</td>\n    </tr>\n    <tr>\n      <th>63</th>\n      <td>transfer MP to Installer</td>\n      <td>STOP</td>\n      <td>1970-01-01 03:41:25.421321</td>\n      <td>1</td>\n      <td>ec2861de-d92a-4609-b349-a42f43f4763a</td>\n    </tr>\n    <tr>\n      <th>65</th>\n      <td>Prepare installation</td>\n      <td>WAIT_STOP</td>\n      <td>1970-01-01 03:41:25.421321</td>\n      <td>-1</td>\n      <td>7fe63a1b-9df0-4d3f-a3b7-ec8a3823febc</td>\n    </tr>\n    <tr>\n      <th>66</th>\n      <td>Prepare installation</td>\n      <td>START</td>\n      <td>1970-01-01 03:41:25.421321</td>\n      <td>60</td>\n      <td>7fe63a1b-9df0-4d3f-a3b7-ec8a3823febc</td>\n    </tr>\n    <tr>\n      <th>67</th>\n      <td>Prepare installation</td>\n      <td>STOP</td>\n      <td>1970-01-01 03:42:25.421321</td>\n      <td>60</td>\n      <td>7fe63a1b-9df0-4d3f-a3b7-ec8a3823febc</td>\n    </tr>\n    <tr>\n      <th>68</th>\n      <td>transfer MP to Dumplocatie</td>\n      <td>START</td>\n      <td>1970-01-01 03:42:25.421321</td>\n      <td>1</td>\n      <td>d3969975-1103-452d-92fc-6fffa1da9c1b</td>\n    </tr>\n    <tr>\n      <th>70</th>\n      <td>transfer MP to Dumplocatie</td>\n      <td>STOP</td>\n      <td>1970-01-01 03:44:25.421321</td>\n      <td>1</td>\n      <td>d3969975-1103-452d-92fc-6fffa1da9c1b</td>\n    </tr>\n  </tbody>\n</table>\n</div>"
     },
     "metadata": {},
     "execution_count": 10
    }
   ],
   "source": [
    "log_df = pd.DataFrame(installer.log)\n",
    "data2 = log_df[[\"Message\", \"ActivityState\", \"Timestamp\", \"Value\", \"ActivityID\"]]\n",
    "data2 = data2.drop_duplicates()\n",
    "data2"
   ]
  },
  {
   "cell_type": "code",
   "execution_count": null,
   "metadata": {},
   "outputs": [],
   "source": []
  }
 ],
 "metadata": {
  "language_info": {
   "codemirror_mode": {
    "name": "ipython",
    "version": 3
   },
   "file_extension": ".py",
   "mimetype": "text/x-python",
   "name": "python",
   "nbconvert_exporter": "python",
   "pygments_lexer": "ipython3",
   "version": "3.7.7-final"
  },
  "orig_nbformat": 2,
  "kernelspec": {
   "name": "python3",
   "display_name": "Python 3"
  }
 },
 "nbformat": 4,
 "nbformat_minor": 2
}