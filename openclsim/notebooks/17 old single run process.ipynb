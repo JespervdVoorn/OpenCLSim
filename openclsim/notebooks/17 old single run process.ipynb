{
 "cells": [
  {
   "cell_type": "code",
   "execution_count": 1,
   "metadata": {},
   "outputs": [],
   "source": [
    "import datetime, time\n",
    "import simpy\n",
    "import shapely.geometry\n",
    "import numpy as np\n",
    "import pandas as pd\n",
    "\n",
    "import matplotlib.pyplot as plt\n",
    "%matplotlib inline\n",
    "\n",
    "import openclsim\n",
    "import openclsim.core as core\n",
    "import openclsim.plot as plot\n",
    "import openclsim.model as model\n",
    "\n",
    "import vo_colos.vodr_colos.vodr_core as vodr_core\n",
    "import vo_colos.test_colos.test_core as test_core\n",
    "\n",
    "from vo_colos.utils.object_registry import SiteRegistry, VesselRegistry"
   ]
  },
  {
   "cell_type": "markdown",
   "metadata": {},
   "source": [
    "# 1. Define the environment"
   ]
  },
  {
   "cell_type": "code",
   "execution_count": 2,
   "metadata": {},
   "outputs": [],
   "source": [
    "simulation_start = datetime.datetime.now()\n",
    "\n",
    "my_env = simpy.Environment(initial_time=time.mktime(simulation_start.timetuple()))\n",
    "my_env.epoch = time.mktime(simulation_start.timetuple())"
   ]
  },
  {
   "cell_type": "markdown",
   "metadata": {},
   "source": [
    "# 2. Define the sites"
   ]
  },
  {
   "cell_type": "code",
   "execution_count": 3,
   "metadata": {},
   "outputs": [
    {
     "name": "stdout",
     "output_type": "stream",
     "text": [
      "init\n",
      "level: 50000\n",
      "completed init\n",
      "init\n",
      "level: 150000\n",
      "completed init\n",
      "init\n",
      "level: 0\n",
      "completed init\n"
     ]
    }
   ],
   "source": [
    "class Site(\n",
    "        openclsim.core.Identifiable,\n",
    "        openclsim.core.Log,\n",
    "        vodr_core.Locatable,\n",
    "        openclsim.core.HasContainer,\n",
    "        openclsim.core.HasResource,\n",
    "    ):\n",
    "    def __init__(self, *args, **kwargs):\n",
    "        super().__init__(*args, **kwargs)\n",
    "        \n",
    "        pass\n",
    "\n",
    "from_site_1 = Site(\n",
    "    env=my_env,\n",
    "    name=\"Winlocatie 1\",\n",
    "    lat = 4.1,\n",
    "    lon = 52,\n",
    "    level=50_000,\n",
    "    capacity=50_000,\n",
    ")\n",
    "\n",
    "from_site_2 = Site(\n",
    "    env=my_env,\n",
    "    name=\"Winlocatie 2\",\n",
    "    lat = 4.2,\n",
    "    lon = 52,\n",
    "    level=150_000,\n",
    "    capacity=150_000,\n",
    ")\n",
    "\n",
    "to_site = Site(\n",
    "    env=my_env,\n",
    "    name=\"Dumplocatie\",\n",
    "    lat = 4,\n",
    "    lon= 52.1,\n",
    "    capacity=200_000,\n",
    "    level=0,\n",
    ")"
   ]
  },
  {
   "cell_type": "markdown",
   "metadata": {},
   "source": [
    "# 3. Define the vessels"
   ]
  },
  {
   "cell_type": "code",
   "execution_count": 4,
   "metadata": {},
   "outputs": [
    {
     "name": "stdout",
     "output_type": "stream",
     "text": [
      "init\n",
      "level: 0\n",
      "completed init\n"
     ]
    }
   ],
   "source": [
    "class LoadingFunction:\n",
    "    def __init__(self, loading_rate, *args, **kwargs):\n",
    "        super().__init__(*args, **kwargs)\n",
    "        self.loading_rate = loading_rate\n",
    "\n",
    "    def loading(self, origin, destination, amount):\n",
    "        load_time = amount / self.loading_rate\n",
    "        return load_time\n",
    "\n",
    "\n",
    "class UnloadingFunction:\n",
    "    def __init__(self,  *args, **kwargs):\n",
    "        super().__init__(*args, **kwargs)\n",
    "\n",
    "    def unloading(self, origin, destination, amount):\n",
    "        dump_time = 10 * 60\n",
    "        return dump_time\n",
    "\n",
    "class TransportProcessingResource(\n",
    "        openclsim.core.Identifiable,\n",
    "        openclsim.core.Log,\n",
    "        test_core.ContainerDependentMovable,\n",
    "        openclsim.core.Processor,\n",
    "        openclsim.core.HasResource,\n",
    "        LoadingFunction,\n",
    "        UnloadingFunction,\n",
    "    ):\n",
    "    def __init__(self, *args, **kwargs):\n",
    "        super().__init__(*args, **kwargs)\n",
    "        \n",
    "        pass\n",
    "\n",
    "hopper = TransportProcessingResource(\n",
    "    env=my_env,\n",
    "    name=\"Hopper 01\",\n",
    "    lat=4,\n",
    "    lon=52.1,\n",
    "    loading_rate=1,\n",
    "    capacity=5_000, \n",
    "    v_empty=4.5,\n",
    "    v_full= 5,\n",
    ")"
   ]
  },
  {
   "cell_type": "markdown",
   "metadata": {},
   "source": [
    "# 4. Define the activity"
   ]
  },
  {
   "cell_type": "code",
   "execution_count": 5,
   "metadata": {},
   "outputs": [
    {
     "name": "stdout",
     "output_type": "stream",
     "text": [
      "start put_available\n",
      "register new event \n",
      "start get_available\n"
     ]
    },
    {
     "ename": "TypeError",
     "evalue": "conditional_process() got an unexpected keyword argument 'stop_event'",
     "output_type": "error",
     "traceback": [
      "\u001b[1;31m---------------------------------------------------------------------------\u001b[0m",
      "\u001b[1;31mTypeError\u001b[0m                                 Traceback (most recent call last)",
      "\u001b[1;32m<ipython-input-5-d4ee1e6bb24b>\u001b[0m in \u001b[0;36m<module>\u001b[1;34m\u001b[0m\n\u001b[0;32m      8\u001b[0m     \u001b[0munloader\u001b[0m\u001b[1;33m=\u001b[0m\u001b[0mhopper\u001b[0m\u001b[1;33m,\u001b[0m\u001b[1;33m\u001b[0m\u001b[1;33m\u001b[0m\u001b[0m\n\u001b[0;32m      9\u001b[0m     \u001b[0mstart_event\u001b[0m\u001b[1;33m=\u001b[0m\u001b[1;32mNone\u001b[0m\u001b[1;33m,\u001b[0m\u001b[1;33m\u001b[0m\u001b[1;33m\u001b[0m\u001b[0m\n\u001b[1;32m---> 10\u001b[1;33m     \u001b[0mstop_event\u001b[0m\u001b[1;33m=\u001b[0m\u001b[1;32mNone\u001b[0m\u001b[1;33m,\u001b[0m\u001b[1;33m\u001b[0m\u001b[1;33m\u001b[0m\u001b[0m\n\u001b[0m\u001b[0;32m     11\u001b[0m )\n\u001b[0;32m     12\u001b[0m \u001b[1;33m\u001b[0m\u001b[0m\n",
      "\u001b[1;32mc:\\users\\d4l\\github\\openclsim\\openclsim\\model.py\u001b[0m in \u001b[0;36m__init__\u001b[1;34m(self, origin, destination, loader, mover, unloader, start_event, stop_event, show, *args, **kwargs)\u001b[0m\n\u001b[0;32m    119\u001b[0m                 \u001b[0mdelayed_process\u001b[0m\u001b[1;33m,\u001b[0m \u001b[0mstart_event\u001b[0m\u001b[1;33m=\u001b[0m\u001b[0mself\u001b[0m\u001b[1;33m.\u001b[0m\u001b[0mstart_event\u001b[0m\u001b[1;33m,\u001b[0m \u001b[0msub_processes\u001b[0m\u001b[1;33m=\u001b[0m\u001b[1;33m[\u001b[0m\u001b[0mmain_proc\u001b[0m\u001b[1;33m]\u001b[0m\u001b[1;33m\u001b[0m\u001b[1;33m\u001b[0m\u001b[0m\n\u001b[0;32m    120\u001b[0m             )\n\u001b[1;32m--> 121\u001b[1;33m         \u001b[0mself\u001b[0m\u001b[1;33m.\u001b[0m\u001b[0mmain_process\u001b[0m \u001b[1;33m=\u001b[0m \u001b[0mself\u001b[0m\u001b[1;33m.\u001b[0m\u001b[0menv\u001b[0m\u001b[1;33m.\u001b[0m\u001b[0mprocess\u001b[0m\u001b[1;33m(\u001b[0m\u001b[0mmain_proc\u001b[0m\u001b[1;33m(\u001b[0m\u001b[0mactivity_log\u001b[0m\u001b[1;33m=\u001b[0m\u001b[0mself\u001b[0m\u001b[1;33m,\u001b[0m \u001b[0menv\u001b[0m\u001b[1;33m=\u001b[0m\u001b[0mself\u001b[0m\u001b[1;33m.\u001b[0m\u001b[0menv\u001b[0m\u001b[1;33m)\u001b[0m\u001b[1;33m)\u001b[0m\u001b[1;33m\u001b[0m\u001b[1;33m\u001b[0m\u001b[0m\n\u001b[0m\u001b[0;32m    122\u001b[0m \u001b[1;33m\u001b[0m\u001b[0m\n\u001b[0;32m    123\u001b[0m \u001b[1;33m\u001b[0m\u001b[0m\n",
      "\u001b[1;31mTypeError\u001b[0m: conditional_process() got an unexpected keyword argument 'stop_event'"
     ]
    }
   ],
   "source": [
    "activity_1 = openclsim.model.Activity(\n",
    "    env=my_env,\n",
    "    name=\"Soil movement 1\",\n",
    "    origin=from_site_1,\n",
    "    destination=to_site,\n",
    "    loader=hopper,\n",
    "    mover=hopper,\n",
    "    unloader=hopper,\n",
    "    start_event=None,\n",
    "    stop_event=None,\n",
    ")\n",
    "\n",
    "activity_2 = openclsim.model.Activity(\n",
    "    env=my_env,\n",
    "    name=\"Soil movement 2\",\n",
    "    origin=from_site_2,\n",
    "    destination=to_site,\n",
    "    loader=hopper,\n",
    "    mover=hopper,\n",
    "    unloader=hopper,\n",
    "    start_event=activity_1.main_process,\n",
    "    stop_event=None,\n",
    ")"
   ]
  },
  {
   "cell_type": "markdown",
   "metadata": {},
   "source": [
    "# 5. Run the Simulation"
   ]
  },
  {
   "cell_type": "code",
   "execution_count": null,
   "metadata": {},
   "outputs": [],
   "source": [
    "my_env.run()"
   ]
  },
  {
   "cell_type": "markdown",
   "metadata": {},
   "source": [
    "# 6. Simulations visualisation"
   ]
  },
  {
   "cell_type": "code",
   "execution_count": null,
   "metadata": {},
   "outputs": [],
   "source": [
    "objects = [activity_1, activity_2, hopper, from_site_1, from_site_2, to_site]\n",
    "activities = []\n",
    "for obj in objects:\n",
    "    L = set(obj.log[\"Message\"])\n",
    "    for l in L:\n",
    "        if l[-5:] == 'start' and l[:-6] not in activities:\n",
    "            activities.append(l[:-6])\n",
    "            \n",
    "C = np.linspace(0,255, len(activities))\n",
    "colors = {}\n",
    "for i in range(len(activities)):\n",
    "    colors[i] = f'rgb({int(C[i]/2)},{int(C[len(C) - 1 - i]/1.5)},{int(C[i])})'\n",
    "\n",
    "plot.vessel_planning(objects, activities, colors)\n",
    "\n",
    "plt.figure(figsize=(14,5))"
   ]
  },
  {
   "cell_type": "code",
   "execution_count": null,
   "metadata": {},
   "outputs": [],
   "source": []
  },
  {
   "cell_type": "code",
   "execution_count": null,
   "metadata": {},
   "outputs": [],
   "source": []
  },
  {
   "cell_type": "code",
   "execution_count": null,
   "metadata": {},
   "outputs": [],
   "source": []
  }
 ],
 "metadata": {
  "kernelspec": {
   "display_name": "Python 3",
   "language": "python",
   "name": "python3"
  },
  "language_info": {
   "codemirror_mode": {
    "name": "ipython",
    "version": 3
   },
   "file_extension": ".py",
   "mimetype": "text/x-python",
   "name": "python",
   "nbconvert_exporter": "python",
   "pygments_lexer": "ipython3",
   "version": "3.7.4"
  }
 },
 "nbformat": 4,
 "nbformat_minor": 2
}
