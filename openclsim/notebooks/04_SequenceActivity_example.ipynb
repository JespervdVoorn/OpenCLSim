{
 "cells": [
  {
   "cell_type": "markdown",
   "metadata": {},
   "source": [
    "# Demo SequenceActivity\n",
    "The sequence activity calls all activities which are specified as sub processes."
   ]
  },
  {
   "cell_type": "code",
   "execution_count": 1,
   "metadata": {},
   "outputs": [],
   "source": [
    "import datetime, time\n",
    "import simpy\n",
    "\n",
    "import pandas as pd\n",
    "import openclsim.core as core\n",
    "import openclsim.model as model\n",
    "import openclsim.plot as plot\n",
    "\n",
    "# setup environment\n",
    "simulation_start = 0\n",
    "my_env = simpy.Environment(initial_time=simulation_start)\n",
    "registry = {}"
   ]
  },
  {
   "cell_type": "markdown",
   "metadata": {},
   "source": [
    "## Definition of the subprocesses used in the seqeunce activity\n",
    "The sequence activity executes three basic activities in a sequence. Since the individual basic activities are executed one after the other, it is necessary to postpone the initialization of the initialization of these activities. This is done using the **postpone_start** parameter.\n",
    "\n",
    "To ensure that all logging of the basic activities are available in a single log, additional logging is configured to an reporting activity."
   ]
  },
  {
   "cell_type": "code",
   "execution_count": 3,
   "metadata": {},
   "outputs": [
    {
     "output_type": "stream",
     "name": "stdout",
     "text": "start event instance None\n"
    }
   ],
   "source": [
    "reporting_activity_data = {\n",
    "    \"env\": my_env,\n",
    "    \"name\": \"Reporting activity\",\n",
    "    \"ID\": \"6dbbbdf7-4589-11e9-bf3b-b469212bff5k\",  # For logging purposes\n",
    "    \"registry\": registry,\n",
    "    \"duration\": 0,\n",
    "    \"postpone_start\": False,\n",
    "}\n",
    "reporting_activity = model.BasicActivity(**reporting_activity_data)\n",
    "\n",
    "sub_processes = []\n",
    "basic_activity_data1 = {\n",
    "    \"env\": my_env,\n",
    "    \"name\": \"Basic activity1\",\n",
    "    \"ID\": \"6dbbbdf7-4589-11e9-bf3b-b469212bff5b\",  # For logging purposes\n",
    "    \"registry\": registry,\n",
    "    \"duration\": 14,\n",
    "    \"postpone_start\": True,\n",
    "    \"additional_logs\": [reporting_activity],\n",
    "}\n",
    "sub_processes.append(model.BasicActivity(**basic_activity_data1))\n",
    "basic_activity_data2 = {\n",
    "    \"env\": my_env,\n",
    "    \"name\": \"Basic activity2\",\n",
    "    \"ID\": \"6dbbbdf7-4589-11e9-bf3b-b469212bff5c\",  # For logging purposes\n",
    "    \"registry\": registry,\n",
    "    \"duration\": 5,\n",
    "    \"additional_logs\": [reporting_activity],\n",
    "    \"postpone_start\": True,\n",
    "}\n",
    "sub_processes.append(model.BasicActivity(**basic_activity_data2))\n",
    "basic_activity_data3 = {\n",
    "    \"env\": my_env,\n",
    "    \"name\": \"Basic activity3\",\n",
    "    \"ID\": \"6dbbbdf7-4589-11e9-bf3b-b469212bff5d\",  # For logging purposes\n",
    "    \"registry\": registry,\n",
    "    \"duration\": 220,\n",
    "    \"additional_logs\": [reporting_activity],\n",
    "    \"postpone_start\": True,\n",
    "}\n",
    "sub_processes.append(model.BasicActivity(**basic_activity_data3))\n",
    "\n"
   ]
  },
  {
   "cell_type": "markdown",
   "metadata": {},
   "source": [
    "## Definition of seqeunce activity"
   ]
  },
  {
   "cell_type": "code",
   "execution_count": 11,
   "metadata": {},
   "outputs": [
    {
     "output_type": "stream",
     "name": "stdout",
     "text": "start event instance None\n"
    }
   ],
   "source": [
    "sequential_activity_data = {\n",
    "    \"env\": my_env,\n",
    "    \"name\": \"Sequential process\",\n",
    "    \"ID\": \"6dbbbdf7-4589-11e9-bf3b-b469212bff60\",  # For logging purposes\n",
    "    \"registry\": registry,\n",
    "    \"sub_processes\": sub_processes,\n",
    "}\n",
    "activity = model.SequentialActivity(**sequential_activity_data)"
   ]
  },
  {
   "cell_type": "code",
   "execution_count": null,
   "metadata": {},
   "outputs": [],
   "source": [
    "## Run simulation"
   ]
  },
  {
   "cell_type": "code",
   "execution_count": 12,
   "metadata": {},
   "outputs": [
    {
     "output_type": "stream",
     "name": "stdout",
     "text": "<openclsim.model.BasicActivity object at 0x00000215938AE808>\nkeep_resources []\nstart event instance None\nActivity end()\n<openclsim.model.BasicActivity object at 0x00000215938AEA08>\nkeep_resources []\nstart event instance None\nActivity end()\n<openclsim.model.BasicActivity object at 0x00000215938AED48>\nkeep_resources []\nstart event instance None\nActivity end()\n"
    }
   ],
   "source": [
    "my_env.run()\n"
   ]
  },
  {
   "cell_type": "code",
   "execution_count": 13,
   "metadata": {},
   "outputs": [
    {
     "output_type": "execute_result",
     "data": {
      "text/plain": "                         Message ActivityState           Timestamp  Value  \\\n0  sequential Sequential process         START 1970-01-01 01:03:59     -1   \n1    sub process Basic activity1         START 1970-01-01 01:03:59     -1   \n2    sub process Basic activity1          STOP 1970-01-01 01:04:13     -1   \n3    sub process Basic activity2         START 1970-01-01 01:04:13     -1   \n4    sub process Basic activity2          STOP 1970-01-01 01:04:18     -1   \n5    sub process Basic activity3         START 1970-01-01 01:04:18     -1   \n6    sub process Basic activity3          STOP 1970-01-01 01:07:58     -1   \n7  sequential Sequential process          STOP 1970-01-01 01:07:58     -1   \n\n                             ActivityID  \n0  6dbbbdf7-4589-11e9-bf3b-b469212bff60  \n1  6dbbbdf7-4589-11e9-bf3b-b469212bff60  \n2  6dbbbdf7-4589-11e9-bf3b-b469212bff60  \n3  6dbbbdf7-4589-11e9-bf3b-b469212bff60  \n4  6dbbbdf7-4589-11e9-bf3b-b469212bff60  \n5  6dbbbdf7-4589-11e9-bf3b-b469212bff60  \n6  6dbbbdf7-4589-11e9-bf3b-b469212bff60  \n7  6dbbbdf7-4589-11e9-bf3b-b469212bff60  ",
      "text/html": "<div>\n<style scoped>\n    .dataframe tbody tr th:only-of-type {\n        vertical-align: middle;\n    }\n\n    .dataframe tbody tr th {\n        vertical-align: top;\n    }\n\n    .dataframe thead th {\n        text-align: right;\n    }\n</style>\n<table border=\"1\" class=\"dataframe\">\n  <thead>\n    <tr style=\"text-align: right;\">\n      <th></th>\n      <th>Message</th>\n      <th>ActivityState</th>\n      <th>Timestamp</th>\n      <th>Value</th>\n      <th>ActivityID</th>\n    </tr>\n  </thead>\n  <tbody>\n    <tr>\n      <th>0</th>\n      <td>sequential Sequential process</td>\n      <td>START</td>\n      <td>1970-01-01 01:03:59</td>\n      <td>-1</td>\n      <td>6dbbbdf7-4589-11e9-bf3b-b469212bff60</td>\n    </tr>\n    <tr>\n      <th>1</th>\n      <td>sub process Basic activity1</td>\n      <td>START</td>\n      <td>1970-01-01 01:03:59</td>\n      <td>-1</td>\n      <td>6dbbbdf7-4589-11e9-bf3b-b469212bff60</td>\n    </tr>\n    <tr>\n      <th>2</th>\n      <td>sub process Basic activity1</td>\n      <td>STOP</td>\n      <td>1970-01-01 01:04:13</td>\n      <td>-1</td>\n      <td>6dbbbdf7-4589-11e9-bf3b-b469212bff60</td>\n    </tr>\n    <tr>\n      <th>3</th>\n      <td>sub process Basic activity2</td>\n      <td>START</td>\n      <td>1970-01-01 01:04:13</td>\n      <td>-1</td>\n      <td>6dbbbdf7-4589-11e9-bf3b-b469212bff60</td>\n    </tr>\n    <tr>\n      <th>4</th>\n      <td>sub process Basic activity2</td>\n      <td>STOP</td>\n      <td>1970-01-01 01:04:18</td>\n      <td>-1</td>\n      <td>6dbbbdf7-4589-11e9-bf3b-b469212bff60</td>\n    </tr>\n    <tr>\n      <th>5</th>\n      <td>sub process Basic activity3</td>\n      <td>START</td>\n      <td>1970-01-01 01:04:18</td>\n      <td>-1</td>\n      <td>6dbbbdf7-4589-11e9-bf3b-b469212bff60</td>\n    </tr>\n    <tr>\n      <th>6</th>\n      <td>sub process Basic activity3</td>\n      <td>STOP</td>\n      <td>1970-01-01 01:07:58</td>\n      <td>-1</td>\n      <td>6dbbbdf7-4589-11e9-bf3b-b469212bff60</td>\n    </tr>\n    <tr>\n      <th>7</th>\n      <td>sequential Sequential process</td>\n      <td>STOP</td>\n      <td>1970-01-01 01:07:58</td>\n      <td>-1</td>\n      <td>6dbbbdf7-4589-11e9-bf3b-b469212bff60</td>\n    </tr>\n  </tbody>\n</table>\n</div>"
     },
     "metadata": {},
     "execution_count": 13
    }
   ],
   "source": [
    "log_df = pd.DataFrame(activity.log)\n",
    "data =log_df[['Message', 'ActivityState', 'Timestamp', 'Value', 'ActivityID']]\n",
    "data"
   ]
  },
  {
   "cell_type": "markdown",
   "metadata": {},
   "source": [
    "## Additional logging\n",
    "The reporting activity log is displayed as well as the logs for the three basic activity sub processes are explicated and represented in an array."
   ]
  },
  {
   "cell_type": "code",
   "execution_count": 8,
   "metadata": {},
   "outputs": [
    {
     "output_type": "execute_result",
     "data": {
      "text/plain": "              Message ActivityState           Timestamp  Value  \\\n0  Reporting activity         START 1970-01-01 01:00:00      0   \n1     Basic activity1         START 1970-01-01 01:00:00     14   \n2  Reporting activity          STOP 1970-01-01 01:00:00      0   \n3     Basic activity1          STOP 1970-01-01 01:00:14     14   \n4     Basic activity2         START 1970-01-01 01:00:14      5   \n5     Basic activity2          STOP 1970-01-01 01:00:19      5   \n6     Basic activity3         START 1970-01-01 01:00:19    220   \n7     Basic activity3          STOP 1970-01-01 01:03:59    220   \n\n                             ActivityID  \n0  6dbbbdf7-4589-11e9-bf3b-b469212bff5k  \n1  6dbbbdf7-4589-11e9-bf3b-b469212bff5b  \n2  6dbbbdf7-4589-11e9-bf3b-b469212bff5k  \n3  6dbbbdf7-4589-11e9-bf3b-b469212bff5b  \n4  6dbbbdf7-4589-11e9-bf3b-b469212bff5c  \n5  6dbbbdf7-4589-11e9-bf3b-b469212bff5c  \n6  6dbbbdf7-4589-11e9-bf3b-b469212bff5d  \n7  6dbbbdf7-4589-11e9-bf3b-b469212bff5d  ",
      "text/html": "<div>\n<style scoped>\n    .dataframe tbody tr th:only-of-type {\n        vertical-align: middle;\n    }\n\n    .dataframe tbody tr th {\n        vertical-align: top;\n    }\n\n    .dataframe thead th {\n        text-align: right;\n    }\n</style>\n<table border=\"1\" class=\"dataframe\">\n  <thead>\n    <tr style=\"text-align: right;\">\n      <th></th>\n      <th>Message</th>\n      <th>ActivityState</th>\n      <th>Timestamp</th>\n      <th>Value</th>\n      <th>ActivityID</th>\n    </tr>\n  </thead>\n  <tbody>\n    <tr>\n      <th>0</th>\n      <td>Reporting activity</td>\n      <td>START</td>\n      <td>1970-01-01 01:00:00</td>\n      <td>0</td>\n      <td>6dbbbdf7-4589-11e9-bf3b-b469212bff5k</td>\n    </tr>\n    <tr>\n      <th>1</th>\n      <td>Basic activity1</td>\n      <td>START</td>\n      <td>1970-01-01 01:00:00</td>\n      <td>14</td>\n      <td>6dbbbdf7-4589-11e9-bf3b-b469212bff5b</td>\n    </tr>\n    <tr>\n      <th>2</th>\n      <td>Reporting activity</td>\n      <td>STOP</td>\n      <td>1970-01-01 01:00:00</td>\n      <td>0</td>\n      <td>6dbbbdf7-4589-11e9-bf3b-b469212bff5k</td>\n    </tr>\n    <tr>\n      <th>3</th>\n      <td>Basic activity1</td>\n      <td>STOP</td>\n      <td>1970-01-01 01:00:14</td>\n      <td>14</td>\n      <td>6dbbbdf7-4589-11e9-bf3b-b469212bff5b</td>\n    </tr>\n    <tr>\n      <th>4</th>\n      <td>Basic activity2</td>\n      <td>START</td>\n      <td>1970-01-01 01:00:14</td>\n      <td>5</td>\n      <td>6dbbbdf7-4589-11e9-bf3b-b469212bff5c</td>\n    </tr>\n    <tr>\n      <th>5</th>\n      <td>Basic activity2</td>\n      <td>STOP</td>\n      <td>1970-01-01 01:00:19</td>\n      <td>5</td>\n      <td>6dbbbdf7-4589-11e9-bf3b-b469212bff5c</td>\n    </tr>\n    <tr>\n      <th>6</th>\n      <td>Basic activity3</td>\n      <td>START</td>\n      <td>1970-01-01 01:00:19</td>\n      <td>220</td>\n      <td>6dbbbdf7-4589-11e9-bf3b-b469212bff5d</td>\n    </tr>\n    <tr>\n      <th>7</th>\n      <td>Basic activity3</td>\n      <td>STOP</td>\n      <td>1970-01-01 01:03:59</td>\n      <td>220</td>\n      <td>6dbbbdf7-4589-11e9-bf3b-b469212bff5d</td>\n    </tr>\n  </tbody>\n</table>\n</div>"
     },
     "metadata": {},
     "execution_count": 8
    }
   ],
   "source": [
    "rep_log_df = pd.DataFrame(reporting_activity.log)\n",
    "data_rep = rep_log_df[[\"Message\", \"ActivityState\", \"Timestamp\", \"Value\", \"ActivityID\"]]\n",
    "data_rep = data_rep.drop_duplicates()\n",
    "data_rep"
   ]
  },
  {
   "cell_type": "markdown",
   "metadata": {},
   "source": [
    "Logging of the individual basic activities"
   ]
  },
  {
   "cell_type": "code",
   "execution_count": 10,
   "metadata": {},
   "outputs": [
    {
     "output_type": "execute_result",
     "data": {
      "text/plain": "[           Message ActivityState           Timestamp  Value  \\\n 0  Basic activity1         START 1970-01-01 01:00:00     14   \n 1  Basic activity1          STOP 1970-01-01 01:00:14     14   \n \n                              ActivityID  \n 0  6dbbbdf7-4589-11e9-bf3b-b469212bff5b  \n 1  6dbbbdf7-4589-11e9-bf3b-b469212bff5b  ,\n            Message ActivityState           Timestamp  Value  \\\n 0  Basic activity2         START 1970-01-01 01:00:14      5   \n 1  Basic activity2          STOP 1970-01-01 01:00:19      5   \n \n                              ActivityID  \n 0  6dbbbdf7-4589-11e9-bf3b-b469212bff5c  \n 1  6dbbbdf7-4589-11e9-bf3b-b469212bff5c  ,\n            Message ActivityState           Timestamp  Value  \\\n 0  Basic activity3         START 1970-01-01 01:00:19    220   \n 1  Basic activity3          STOP 1970-01-01 01:03:59    220   \n \n                              ActivityID  \n 0  6dbbbdf7-4589-11e9-bf3b-b469212bff5d  \n 1  6dbbbdf7-4589-11e9-bf3b-b469212bff5d  ]"
     },
     "metadata": {},
     "execution_count": 10
    }
   ],
   "source": [
    "basic = []\n",
    "for proc in sub_processes:\n",
    "    df = pd.DataFrame(proc.log)\n",
    "    basic.append(df[[\"Message\", \"ActivityState\", \"Timestamp\", \"Value\", \"ActivityID\"]])\n",
    "basic"
   ]
  },
  {
   "cell_type": "code",
   "execution_count": null,
   "metadata": {},
   "outputs": [],
   "source": []
  }
 ],
 "metadata": {
  "language_info": {
   "codemirror_mode": {
    "name": "ipython",
    "version": 3
   },
   "file_extension": ".py",
   "mimetype": "text/x-python",
   "name": "python",
   "nbconvert_exporter": "python",
   "pygments_lexer": "ipython3",
   "version": "3.7.7-final"
  },
  "orig_nbformat": 2,
  "kernelspec": {
   "name": "python3",
   "display_name": "Python 3"
  }
 },
 "nbformat": 4,
 "nbformat_minor": 2
}