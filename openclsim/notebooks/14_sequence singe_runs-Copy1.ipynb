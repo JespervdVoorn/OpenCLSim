{
 "cells": [
  {
   "cell_type": "code",
   "execution_count": 1,
   "metadata": {},
   "outputs": [],
   "source": [
    "import datetime, time\n",
    "import simpy\n",
    "\n",
    "import shapely.geometry\n",
    "from simplekml import Kml, Style\n",
    "\n",
    "import pandas as pd\n",
    "import openclsim.core as core\n",
    "import openclsim.model as model\n",
    "\n",
    "import datetime\n",
    "\n",
    "import numpy as np\n",
    "\n",
    "from plot import vessel_planning"
   ]
  },
  {
   "cell_type": "code",
   "execution_count": 2,
   "metadata": {},
   "outputs": [],
   "source": [
    "simulation_start = 0\n",
    "my_env = simpy.Environment(initial_time=simulation_start)\n",
    "registry = {}\n",
    "keep_resources = {}"
   ]
  },
  {
   "cell_type": "code",
   "execution_count": 3,
   "metadata": {},
   "outputs": [],
   "source": [
    "Site = type(\n",
    "    \"Site\",\n",
    "    (\n",
    "        core.Identifiable,\n",
    "        core.Log,\n",
    "        core.Locatable,\n",
    "        core.HasContainer,\n",
    "        core.HasResource,\n",
    "    ),\n",
    "    {},\n",
    ")\n",
    "\n",
    "\n",
    "TransportProcessingResource = type(\n",
    "    \"TransportProcessingResource\",\n",
    "    (\n",
    "        core.Identifiable,\n",
    "        core.Log,\n",
    "        core.ContainerDependentMovable,\n",
    "        core.Processor,\n",
    "        core.HasResource,\n",
    "    ),\n",
    "    {},\n",
    ")"
   ]
  },
  {
   "cell_type": "code",
   "execution_count": 4,
   "metadata": {},
   "outputs": [
    {
     "name": "stdout",
     "output_type": "stream",
     "text": [
      "init\n",
      "level: 50\n",
      "completed init\n",
      "init\n",
      "level: 0\n",
      "completed init\n"
     ]
    }
   ],
   "source": [
    "location_from_site = shapely.geometry.Point(5.1, 52)\n",
    "location_to_site = shapely.geometry.Point(5, 52.1)\n",
    "\n",
    "data_from_site = {\n",
    "    \"env\": my_env,\n",
    "    \"name\": \"Winlocatie\",\n",
    "    \"geometry\": location_from_site,\n",
    "    \"capacity\": 50,\n",
    "    \"level\": 50,\n",
    "}\n",
    "\n",
    "data_to_site = {\n",
    "    \"env\": my_env,\n",
    "    \"name\": \"Dumplocatie\",\n",
    "    \"geometry\": location_to_site,\n",
    "    \"capacity\": 20,\n",
    "    \"level\": 0,\n",
    "}\n",
    "\n",
    "\n",
    "from_site = Site(**data_from_site)\n",
    "to_site = Site(**data_to_site)\n"
   ]
  },
  {
   "cell_type": "code",
   "execution_count": 5,
   "metadata": {},
   "outputs": [
    {
     "name": "stdout",
     "output_type": "stream",
     "text": [
      "init\n",
      "level: 0\n",
      "completed init\n",
      "init\n",
      "level: 0\n",
      "completed init\n"
     ]
    }
   ],
   "source": [
    "data_hopper = {\n",
    "    \"env\": my_env,\n",
    "    \"name\": \"Hopper 01\",\n",
    "    \"geometry\": location_from_site,\n",
    "    \"capacity\": 5,\n",
    "    \"compute_v\": lambda x: 10\n",
    "}\n",
    "\n",
    "hopper = TransportProcessingResource(**data_hopper)\n",
    "\n",
    "data_hopper2 = {\n",
    "    \"env\": my_env,\n",
    "    \"name\": \"Hopper 02\",\n",
    "    \"geometry\": location_from_site,\n",
    "    \"capacity\": 5,\n",
    "    \"compute_v\": lambda x: 10\n",
    "}\n",
    "\n",
    "hopper2 = TransportProcessingResource(**data_hopper2)"
   ]
  },
  {
   "cell_type": "code",
   "execution_count": 6,
   "metadata": {},
   "outputs": [
    {
     "name": "stdout",
     "output_type": "stream",
     "text": [
      "while Activity keep_resources []\n",
      "get_full_event : default\n",
      "start get_available\n",
      "start event instance None\n"
     ]
    }
   ],
   "source": [
    "requested_resources1 = {}\n",
    "\n",
    "\n",
    "single_run = [\n",
    "    model.MoveActivity(**{\n",
    "        \"env\": my_env,\n",
    "        \"name\": \"sailing empty\",\n",
    "        \"registry\": registry,\n",
    "        \"mover\": hopper,\n",
    "        \"destination\": from_site,\n",
    "        \"postpone_start\": True,\n",
    "    }),\n",
    "    model.ShiftAmountActivity(**{\n",
    "        \"env\": my_env,\n",
    "        \"name\": \"Transfer MP\",\n",
    "        \"registry\": registry,\n",
    "        \"processor\": hopper,\n",
    "        \"origin\": from_site,\n",
    "        \"destination\": hopper,\n",
    "        \"amount\": 4,\n",
    "        \"duration\": 3600,\n",
    "        \"postpone_start\": True,\n",
    "        \"requested_resources\": {},\n",
    "    }),\n",
    "    model.MoveActivity(**{\n",
    "        \"env\": my_env,\n",
    "        \"name\": \"sailing filled\",\n",
    "        \"registry\": registry,\n",
    "        \"mover\": hopper,\n",
    "        \"destination\": to_site,\n",
    "        \"postpone_start\": True,\n",
    "    }),\n",
    "    model.ShiftAmountActivity(**{\n",
    "        \"env\": my_env,\n",
    "        \"name\": \"Transfer TP\",\n",
    "        \"registry\": registry,\n",
    "        \"processor\": hopper,\n",
    "        \"origin\": hopper,\n",
    "        \"destination\": to_site,\n",
    "        \"amount\": 4,\n",
    "        \"duration\": 3600,\n",
    "        \"postpone_start\": True,\n",
    "        \"requested_resources\": {},\n",
    "    })\n",
    "]\n",
    "\n",
    "\n",
    "sequential_activity_data = {\n",
    "    \"env\": my_env,\n",
    "    \"name\": \"Single run process\",\n",
    "    \"registry\": registry,\n",
    "    \"sub_processes\": single_run,\n",
    "    \"postpone_start\": True,\n",
    "}\n",
    "activity = model.SequentialActivity(**sequential_activity_data)\n",
    "\n",
    "while_activity = model.WhileActivity(**{\n",
    "    \"env\": my_env,\n",
    "    \"name\": \"while\",\n",
    "    \"registry\": registry,\n",
    "    \"sub_process\": activity,\n",
    "    \"condition_event\": [{\"type\":\"container\", \"concept\": to_site, \"state\":\"full\"}],\n",
    "    \"postpone_start\": False,\n",
    "})"
   ]
  },
  {
   "cell_type": "code",
   "execution_count": 7,
   "metadata": {},
   "outputs": [
    {
     "name": "stdout",
     "output_type": "stream",
     "text": [
      "while Activity keep_resources []\n",
      "get_full_event : default\n",
      "start get_available\n",
      "start event instance None\n"
     ]
    }
   ],
   "source": [
    "single_run = [\n",
    "    model.MoveActivity(**{\n",
    "        \"env\": my_env,\n",
    "        \"name\": \"sailing empty 2\",\n",
    "        \"registry\": registry,\n",
    "        \"mover\": hopper2,\n",
    "        \"destination\": from_site,\n",
    "        \"postpone_start\": True,\n",
    "    }),\n",
    "    model.ShiftAmountActivity(**{\n",
    "        \"env\": my_env,\n",
    "        \"name\": \"Transfer MP 2\",\n",
    "        \"registry\": registry,\n",
    "        \"processor\": hopper2,\n",
    "        \"origin\": from_site,\n",
    "        \"destination\": hopper2,\n",
    "        \"amount\": 4,\n",
    "        \"duration\": 3600,\n",
    "        \"postpone_start\": True,\n",
    "    }),\n",
    "    model.MoveActivity(**{\n",
    "        \"env\": my_env,\n",
    "        \"name\": \"sailing filled 2\",\n",
    "        \"registry\": registry,\n",
    "        \"mover\": hopper2,\n",
    "        \"destination\": to_site,\n",
    "        \"postpone_start\": True,\n",
    "    }),\n",
    "    model.ShiftAmountActivity(**{\n",
    "        \"env\": my_env,\n",
    "        \"name\": \"Transfer TP 2\",\n",
    "        \"registry\": registry,\n",
    "        \"processor\": hopper2,\n",
    "        \"origin\": hopper2,\n",
    "        \"destination\": to_site,\n",
    "        \"amount\": 4,\n",
    "        \"duration\": 3600,\n",
    "        \"postpone_start\": True,\n",
    "    })\n",
    "]\n",
    "\n",
    "\n",
    "activity = model.SequentialActivity(**{\n",
    "    \"env\": my_env,\n",
    "    \"name\": \"Single run process 2\",\n",
    "    \"registry\": registry,\n",
    "    \"sub_processes\": single_run,\n",
    "    \"postpone_start\": True,\n",
    "})\n",
    "\n",
    "while_activity_2 = model.WhileActivity(**{\n",
    "    \"env\": my_env,\n",
    "    \"name\": \"while2\",\n",
    "    \"registry\": registry,\n",
    "    \"sub_process\": activity,\n",
    "    \"condition_event\": [{\"type\":\"container\", \"concept\": to_site, \"state\":\"full\"}],\n",
    "    \"postpone_start\": False,\n",
    "})"
   ]
  },
  {
   "cell_type": "code",
   "execution_count": 8,
   "metadata": {
    "scrolled": true
   },
   "outputs": [
    {
     "name": "stdout",
     "output_type": "stream",
     "text": [
      "<openclsim.model.SequentialActivity object at 0x0000023C8B136788>\n",
      "conditional \n",
      "start event instance None\n",
      "<openclsim.model.MoveActivity object at 0x0000023C8B136608>\n",
      "keep_resources []\n",
      "start event instance None\n",
      "Mover_move before mover resource request\n",
      "<openclsim.model.SequentialActivity object at 0x0000023C8B22FD08>\n",
      "conditional \n",
      "start event instance None\n",
      "<openclsim.model.MoveActivity object at 0x0000023C8B22F488>\n",
      "keep_resources []\n",
      "start event instance None\n",
      "Mover_move before mover resource request\n",
      "put_callback - id_ default\n",
      "{}\n",
      "put_callback - id_ default\n",
      "{'default': {20: <Event() object at 0x23c8b234a88>}}\n",
      "amount :20\n",
      "put_callback - id_ default\n",
      "{}\n",
      "put_callback - id_ default\n",
      "{}\n",
      "Mover_move after mover resource request\n",
      "Mover_move after mover resource request\n",
      "Mover_move after move\n",
      "Activity end(sailing empty)\n",
      "Mover_move after move\n",
      "Activity end(sailing empty 2)\n",
      "<openclsim.model.ShiftAmountActivity object at 0x0000023C8B136848>\n",
      "keep_resources []\n",
      "SHift amount Activity keep_resources []\n",
      "start event instance None\n",
      "start : {}\n",
      "{'origin.13a05922-aa63-11ea-88d0-2079183a5c9a': 50, 'destination.13a33f7e-aa63-11ea-8ad1-2079183a5c9a': 5}\n",
      "<openclsim.model.ShiftAmountActivity object at 0x0000023C8B22FFC8>\n",
      "keep_resources []\n",
      "SHift amount Activity keep_resources []\n",
      "start event instance None\n",
      "start : {}\n",
      "{'origin.13a05922-aa63-11ea-88d0-2079183a5c9a': 50, 'destination.13a33f7f-aa63-11ea-9e4b-2079183a5c9a': 5}\n",
      "destination request : {<simpy.resources.resource.Resource object at 0x0000023C8B0DA188>: <Request() object at 0x23c8b1388c8>}\n",
      "shift amount process keep_resources []\n",
      "start get_available\n",
      "destination request : {<simpy.resources.resource.Resource object at 0x0000023C8B0D3C88>: <Request() object at 0x23c8b138d88>}\n",
      "shift amount process keep_resources []\n",
      "start get_available\n",
      "processor request : {<simpy.resources.resource.Resource object at 0x0000023C8B0DA188>: <Request() object at 0x23c8b1388c8>}\n",
      "processor request : {<simpy.resources.resource.Resource object at 0x0000023C8B0D3C88>: <Request() object at 0x23c8b138d88>}\n",
      "site request : {<simpy.resources.resource.Resource object at 0x0000023C8B0DA188>: <Request() object at 0x23c8b1388c8>, <simpy.resources.resource.Resource object at 0x0000023C8B13F3C8>: <Request() object at 0x23c8b138308>}\n",
      "end requestIfAvailable : {<simpy.resources.resource.Resource object at 0x0000023C8B0DA188>: <Request() object at 0x23c8b1388c8>, <simpy.resources.resource.Resource object at 0x0000023C8B13F3C8>: <Request() object at 0x23c8b138308>}\n",
      "after req resource if available : {<simpy.resources.resource.Resource object at 0x0000023C8B0DA188>: <Request() object at 0x23c8b1388c8>, <simpy.resources.resource.Resource object at 0x0000023C8B13F3C8>: <Request() object at 0x23c8b138308>}\n",
      "_shift_amount\n",
      "start _shift_amount\n",
      "amount 4\n",
      "processor start process\n",
      "transfer default to Hopper 01\n",
      "processor process without rate\n",
      "origin store before get: [{'id': 'default', 'level': 50, 'capacity': 50}]\n",
      "start get 4\n",
      "store_status {'id': 'default', 'level': 50, 'capacity': 50}\n",
      "end get 4\n",
      "get_callback - id_ <StorePut() object at 0x23c8b165988>\n",
      "start get_callback\n",
      "{}\n",
      "origin store after get: [{'id': 'default', 'level': 46, 'capacity': 50}]\n",
      "after get\n",
      "after check_down time\n",
      "destination store before put: [{'id': 'default', 'level': 0, 'capacity': 5}]\n",
      "<FilterStoreGet() object at 0x23c85df1388>\n",
      "put_callback - id_ default\n",
      "{}\n",
      "destination store after put: [{'id': 'default', 'level': 4, 'capacity': 5}]\n",
      "after put\n",
      "processor end process\n",
      "Processed 4 of default:\n",
      "  by:          Hopper 01\n",
      "  origin        Winlocatie  contains: 46 of default\n",
      "  destination:  Hopper 01 contains: 4 of default\n",
      "after shift amount : {<simpy.resources.resource.Resource object at 0x0000023C8B0DA188>: <Request() object at 0x23c8b1388c8>, <simpy.resources.resource.Resource object at 0x0000023C8B13F3C8>: <Request() object at 0x23c8b138308>}\n",
      "keep resources []\n",
      "release destination : {<simpy.resources.resource.Resource object at 0x0000023C8B13F3C8>: <Request() object at 0x23c8b138308>}\n",
      "released origin : {}\n",
      "released processor : {}\n",
      "{}\n",
      "Activity end(Transfer MP)\n",
      "<openclsim.model.MoveActivity object at 0x0000023C8B136EC8>\n",
      "keep_resources []\n",
      "start event instance None\n",
      "Mover_move before mover resource request\n",
      "site request : {<simpy.resources.resource.Resource object at 0x0000023C8B0D3C88>: <Request() object at 0x23c8b138d88>, <simpy.resources.resource.Resource object at 0x0000023C8B13F3C8>: <Request() object at 0x23c8b138348>}\n",
      "end requestIfAvailable : {<simpy.resources.resource.Resource object at 0x0000023C8B0D3C88>: <Request() object at 0x23c8b138d88>, <simpy.resources.resource.Resource object at 0x0000023C8B13F3C8>: <Request() object at 0x23c8b138348>}\n",
      "after req resource if available : {<simpy.resources.resource.Resource object at 0x0000023C8B0D3C88>: <Request() object at 0x23c8b138d88>, <simpy.resources.resource.Resource object at 0x0000023C8B13F3C8>: <Request() object at 0x23c8b138348>}\n",
      "_shift_amount\n",
      "start _shift_amount\n",
      "amount 4\n",
      "processor start process\n",
      "transfer default to Hopper 02\n",
      "processor process without rate\n",
      "origin store before get: [{'id': 'default', 'level': 46, 'capacity': 50}]\n",
      "start get 4\n",
      "store_status {'id': 'default', 'level': 46, 'capacity': 50}\n",
      "end get 4\n",
      "Mover_move after mover resource request\n",
      "get_callback - id_ <StorePut() object at 0x23c8b138388>\n",
      "start get_callback\n",
      "{}\n",
      "origin store after get: [{'id': 'default', 'level': 42, 'capacity': 50}]\n",
      "after get\n",
      "after check_down time\n",
      "Mover_move after move\n",
      "Activity end(sailing filled)\n",
      "<openclsim.model.ShiftAmountActivity object at 0x0000023C8B136A88>\n",
      "keep_resources []\n",
      "SHift amount Activity keep_resources []\n",
      "start event instance None\n",
      "start : {}\n",
      "{'origin.13a33f7e-aa63-11ea-8ad1-2079183a5c9a': 4, 'destination.13a0803a-aa63-11ea-8e33-2079183a5c9a': 20}\n",
      "destination request : {<simpy.resources.resource.Resource object at 0x0000023C88BD76C8>: <Request() object at 0x23c8b138088>}\n",
      "shift amount process keep_resources []\n",
      "start get_available\n",
      "processor request : {<simpy.resources.resource.Resource object at 0x0000023C88BD76C8>: <Request() object at 0x23c8b138088>, <simpy.resources.resource.Resource object at 0x0000023C8B0DA188>: <Request() object at 0x23c8b138cc8>}\n",
      "site request : {<simpy.resources.resource.Resource object at 0x0000023C88BD76C8>: <Request() object at 0x23c8b138088>, <simpy.resources.resource.Resource object at 0x0000023C8B0DA188>: <Request() object at 0x23c8b138cc8>}\n",
      "end requestIfAvailable : {<simpy.resources.resource.Resource object at 0x0000023C88BD76C8>: <Request() object at 0x23c8b138088>, <simpy.resources.resource.Resource object at 0x0000023C8B0DA188>: <Request() object at 0x23c8b138cc8>}\n",
      "after req resource if available : {<simpy.resources.resource.Resource object at 0x0000023C88BD76C8>: <Request() object at 0x23c8b138088>, <simpy.resources.resource.Resource object at 0x0000023C8B0DA188>: <Request() object at 0x23c8b138cc8>}\n",
      "_shift_amount\n",
      "start _shift_amount\n",
      "amount 4\n",
      "processor start process\n",
      "transfer default to Dumplocatie\n",
      "processor process without rate\n",
      "origin store before get: [{'id': 'default', 'level': 4, 'capacity': 5}]\n",
      "start get 4\n",
      "store_status {'id': 'default', 'level': 4, 'capacity': 5}\n",
      "end get 4\n",
      "get_callback - id_ <StorePut() object at 0x23c8b138d48>\n",
      "start get_callback\n",
      "{}\n",
      "origin store after get: [{'id': 'default', 'level': 0, 'capacity': 5}]\n",
      "after get\n",
      "after check_down time\n",
      "destination store before put: [{'id': 'default', 'level': 0, 'capacity': 5}]\n",
      "<FilterStoreGet() object at 0x23c8b138d48>\n",
      "put_callback - id_ default\n",
      "{}\n",
      "destination store after put: [{'id': 'default', 'level': 4, 'capacity': 5}]\n",
      "after put\n",
      "processor end process\n",
      "Processed 4 of default:\n",
      "  by:          Hopper 02\n",
      "  origin        Winlocatie  contains: 42 of default\n",
      "  destination:  Hopper 02 contains: 4 of default\n",
      "after shift amount : {<simpy.resources.resource.Resource object at 0x0000023C8B0D3C88>: <Request() object at 0x23c8b138d88>, <simpy.resources.resource.Resource object at 0x0000023C8B13F3C8>: <Request() object at 0x23c8b138348>}\n",
      "keep resources []\n",
      "release destination : {<simpy.resources.resource.Resource object at 0x0000023C8B13F3C8>: <Request() object at 0x23c8b138348>}\n",
      "released origin : {}\n",
      "released processor : {}\n",
      "{}\n",
      "Activity end(Transfer MP 2)\n",
      "<openclsim.model.MoveActivity object at 0x0000023C8B22FA48>\n",
      "keep_resources []\n",
      "start event instance None\n",
      "Mover_move before mover resource request\n",
      "Mover_move after mover resource request\n",
      "destination store before put: [{'id': 'default', 'level': 0, 'capacity': 20}]\n",
      "<FilterStoreGet() object at 0x23c8b13f848>\n",
      "Mover_move after move\n",
      "Activity end(sailing filled 2)\n",
      "put_callback - id_ default\n",
      "{'default': {20: <Event() object at 0x23c8b234a88>}}\n",
      "amount :20\n",
      "destination store after put: [{'id': 'default', 'level': 4, 'capacity': 20}]\n",
      "after put\n",
      "processor end process\n",
      "Processed 4 of default:\n",
      "  by:          Hopper 01\n",
      "  origin        Hopper 01  contains: 0 of default\n",
      "  destination:  Dumplocatie contains: 4 of default\n",
      "after shift amount : {<simpy.resources.resource.Resource object at 0x0000023C88BD76C8>: <Request() object at 0x23c8b138088>, <simpy.resources.resource.Resource object at 0x0000023C8B0DA188>: <Request() object at 0x23c8b138cc8>}\n",
      "keep resources []\n",
      "release destination : {<simpy.resources.resource.Resource object at 0x0000023C8B0DA188>: <Request() object at 0x23c8b138cc8>}\n",
      "released origin : {}\n",
      "released processor : {}\n",
      "{}\n",
      "Activity end(Transfer TP)\n",
      "<openclsim.model.ShiftAmountActivity object at 0x0000023C8B22F1C8>\n",
      "keep_resources []\n",
      "SHift amount Activity keep_resources []\n",
      "start event instance None\n",
      "start : {}\n",
      "{'origin.13a33f7f-aa63-11ea-9e4b-2079183a5c9a': 4, 'destination.13a0803a-aa63-11ea-8e33-2079183a5c9a': 16}\n",
      "Activity end(Single run process)\n",
      "destination request : {<simpy.resources.resource.Resource object at 0x0000023C88BD76C8>: <Request() object at 0x23c8b13fac8>}\n",
      "shift amount process keep_resources []\n",
      "start get_available\n",
      "condition event triggered: False False round 0\n",
      "while loop requested_resources {<simpy.resources.resource.Resource object at 0x0000023C88BD76C8>: <Request() object at 0x23c8b13fac8>}\n",
      "while loop keep_resources []\n",
      "<openclsim.model.SequentialActivity object at 0x0000023C8B136788>\n",
      "conditional \n",
      "start event instance None\n",
      "<openclsim.model.MoveActivity object at 0x0000023C8B136608>\n",
      "keep_resources []\n",
      "start event instance None\n",
      "Mover_move before mover resource request\n",
      "Mover_move after mover resource request\n",
      "processor request : {<simpy.resources.resource.Resource object at 0x0000023C88BD76C8>: <Request() object at 0x23c8b13fac8>, <simpy.resources.resource.Resource object at 0x0000023C8B0D3C88>: <Request() object at 0x23c8b234348>}\n",
      "site request : {<simpy.resources.resource.Resource object at 0x0000023C88BD76C8>: <Request() object at 0x23c8b13fac8>, <simpy.resources.resource.Resource object at 0x0000023C8B0D3C88>: <Request() object at 0x23c8b234348>}\n",
      "end requestIfAvailable : {<simpy.resources.resource.Resource object at 0x0000023C88BD76C8>: <Request() object at 0x23c8b13fac8>, <simpy.resources.resource.Resource object at 0x0000023C8B0D3C88>: <Request() object at 0x23c8b234348>}\n",
      "after req resource if available : {<simpy.resources.resource.Resource object at 0x0000023C88BD76C8>: <Request() object at 0x23c8b13fac8>, <simpy.resources.resource.Resource object at 0x0000023C8B0D3C88>: <Request() object at 0x23c8b234348>}\n",
      "_shift_amount\n",
      "start _shift_amount\n",
      "amount 4\n",
      "processor start process\n",
      "transfer default to Dumplocatie\n",
      "processor process without rate\n",
      "origin store before get: [{'id': 'default', 'level': 4, 'capacity': 5}]\n",
      "start get 4\n",
      "store_status {'id': 'default', 'level': 4, 'capacity': 5}\n",
      "end get 4\n",
      "get_callback - id_ <StorePut() object at 0x23c8aee5388>\n",
      "start get_callback\n",
      "{}\n",
      "origin store after get: [{'id': 'default', 'level': 0, 'capacity': 5}]\n",
      "after get\n",
      "after check_down time\n",
      "Mover_move after move\n",
      "Activity end(sailing empty)\n",
      "<openclsim.model.ShiftAmountActivity object at 0x0000023C8B136848>\n",
      "keep_resources []\n",
      "SHift amount Activity keep_resources []\n",
      "start event instance None\n",
      "start : {}\n",
      "{'origin.13a05922-aa63-11ea-88d0-2079183a5c9a': 42, 'destination.13a33f7e-aa63-11ea-8ad1-2079183a5c9a': 5}\n",
      "destination request : {<simpy.resources.resource.Resource object at 0x0000023C8B0DA188>: <Request() object at 0x23c8b0cbb48>}\n",
      "shift amount process keep_resources []\n",
      "start get_available\n",
      "processor request : {<simpy.resources.resource.Resource object at 0x0000023C8B0DA188>: <Request() object at 0x23c8b0cbb48>}\n",
      "site request : {<simpy.resources.resource.Resource object at 0x0000023C8B0DA188>: <Request() object at 0x23c8b0cbb48>, <simpy.resources.resource.Resource object at 0x0000023C8B13F3C8>: <Request() object at 0x23c8b0e9e48>}\n",
      "end requestIfAvailable : {<simpy.resources.resource.Resource object at 0x0000023C8B0DA188>: <Request() object at 0x23c8b0cbb48>, <simpy.resources.resource.Resource object at 0x0000023C8B13F3C8>: <Request() object at 0x23c8b0e9e48>}\n",
      "after req resource if available : {<simpy.resources.resource.Resource object at 0x0000023C8B0DA188>: <Request() object at 0x23c8b0cbb48>, <simpy.resources.resource.Resource object at 0x0000023C8B13F3C8>: <Request() object at 0x23c8b0e9e48>}\n",
      "_shift_amount\n",
      "start _shift_amount\n",
      "amount 4\n",
      "processor start process\n",
      "transfer default to Hopper 01\n",
      "processor process without rate\n",
      "origin store before get: [{'id': 'default', 'level': 42, 'capacity': 50}]\n",
      "start get 4\n",
      "store_status {'id': 'default', 'level': 42, 'capacity': 50}\n",
      "end get 4\n",
      "get_callback - id_ <StorePut() object at 0x23c8b15d248>\n",
      "start get_callback\n",
      "{}\n",
      "origin store after get: [{'id': 'default', 'level': 38, 'capacity': 50}]\n",
      "after get\n",
      "after check_down time\n",
      "destination store before put: [{'id': 'default', 'level': 4, 'capacity': 20}]\n",
      "<FilterStoreGet() object at 0x23c8b15d248>\n",
      "put_callback - id_ default\n",
      "{'default': {20: <Event() object at 0x23c8b234a88>}}\n",
      "amount :20\n",
      "destination store after put: [{'id': 'default', 'level': 8, 'capacity': 20}]\n",
      "after put\n",
      "processor end process\n",
      "Processed 4 of default:\n",
      "  by:          Hopper 02\n",
      "  origin        Hopper 02  contains: 0 of default\n",
      "  destination:  Dumplocatie contains: 8 of default\n",
      "after shift amount : {<simpy.resources.resource.Resource object at 0x0000023C88BD76C8>: <Request() object at 0x23c8b13fac8>, <simpy.resources.resource.Resource object at 0x0000023C8B0D3C88>: <Request() object at 0x23c8b234348>}\n",
      "keep resources []\n",
      "release destination : {<simpy.resources.resource.Resource object at 0x0000023C8B0D3C88>: <Request() object at 0x23c8b234348>}\n",
      "released origin : {}\n",
      "released processor : {}\n",
      "{}\n",
      "Activity end(Transfer TP 2)\n",
      "Activity end(Single run process 2)\n",
      "condition event triggered: False False round 0\n",
      "while loop requested_resources {}\n",
      "while loop keep_resources []\n",
      "<openclsim.model.SequentialActivity object at 0x0000023C8B22FD08>\n",
      "conditional \n",
      "start event instance None\n",
      "<openclsim.model.MoveActivity object at 0x0000023C8B22F488>\n",
      "keep_resources []\n",
      "start event instance None\n",
      "Mover_move before mover resource request\n",
      "Mover_move after mover resource request\n",
      "destination store before put: [{'id': 'default', 'level': 0, 'capacity': 5}]\n",
      "<FilterStoreGet() object at 0x23c8b159e88>\n",
      "Mover_move after move\n",
      "Activity end(sailing empty 2)\n",
      "put_callback - id_ default\n",
      "{}\n",
      "destination store after put: [{'id': 'default', 'level': 4, 'capacity': 5}]\n",
      "after put\n",
      "processor end process\n",
      "Processed 4 of default:\n",
      "  by:          Hopper 01\n",
      "  origin        Winlocatie  contains: 38 of default\n",
      "  destination:  Hopper 01 contains: 4 of default\n",
      "after shift amount : {<simpy.resources.resource.Resource object at 0x0000023C8B0DA188>: <Request() object at 0x23c8b0cbb48>, <simpy.resources.resource.Resource object at 0x0000023C8B13F3C8>: <Request() object at 0x23c8b0e9e48>}\n",
      "keep resources []\n",
      "release destination : {<simpy.resources.resource.Resource object at 0x0000023C8B13F3C8>: <Request() object at 0x23c8b0e9e48>}\n",
      "released origin : {}\n",
      "released processor : {}\n",
      "{}\n",
      "Activity end(Transfer MP)\n",
      "<openclsim.model.ShiftAmountActivity object at 0x0000023C8B22FFC8>\n",
      "keep_resources []\n",
      "SHift amount Activity keep_resources []\n",
      "start event instance None\n",
      "start : {}\n",
      "{'origin.13a05922-aa63-11ea-88d0-2079183a5c9a': 38, 'destination.13a33f7f-aa63-11ea-9e4b-2079183a5c9a': 5}\n",
      "<openclsim.model.MoveActivity object at 0x0000023C8B136EC8>\n",
      "keep_resources []\n",
      "start event instance None\n",
      "Mover_move before mover resource request\n",
      "destination request : {<simpy.resources.resource.Resource object at 0x0000023C8B0D3C88>: <Request() object at 0x23c8b159e88>}\n",
      "shift amount process keep_resources []\n",
      "start get_available\n",
      "Mover_move after mover resource request\n",
      "processor request : {<simpy.resources.resource.Resource object at 0x0000023C8B0D3C88>: <Request() object at 0x23c8b159e88>}\n",
      "site request : {<simpy.resources.resource.Resource object at 0x0000023C8B0D3C88>: <Request() object at 0x23c8b159e88>, <simpy.resources.resource.Resource object at 0x0000023C8B13F3C8>: <Request() object at 0x23c8b164a48>}\n",
      "end requestIfAvailable : {<simpy.resources.resource.Resource object at 0x0000023C8B0D3C88>: <Request() object at 0x23c8b159e88>, <simpy.resources.resource.Resource object at 0x0000023C8B13F3C8>: <Request() object at 0x23c8b164a48>}\n",
      "after req resource if available : {<simpy.resources.resource.Resource object at 0x0000023C8B0D3C88>: <Request() object at 0x23c8b159e88>, <simpy.resources.resource.Resource object at 0x0000023C8B13F3C8>: <Request() object at 0x23c8b164a48>}\n",
      "_shift_amount\n",
      "start _shift_amount\n",
      "amount 4\n",
      "processor start process\n",
      "transfer default to Hopper 02\n",
      "processor process without rate\n",
      "origin store before get: [{'id': 'default', 'level': 38, 'capacity': 50}]\n",
      "start get 4\n",
      "store_status {'id': 'default', 'level': 38, 'capacity': 50}\n",
      "end get 4\n",
      "get_callback - id_ <StorePut() object at 0x23c8b164408>\n",
      "start get_callback\n",
      "{}\n",
      "origin store after get: [{'id': 'default', 'level': 34, 'capacity': 50}]\n"
     ]
    },
    {
     "name": "stdout",
     "output_type": "stream",
     "text": [
      "after get\n",
      "after check_down time\n",
      "Mover_move after move\n",
      "Activity end(sailing filled)\n",
      "<openclsim.model.ShiftAmountActivity object at 0x0000023C8B136A88>\n",
      "keep_resources []\n",
      "SHift amount Activity keep_resources []\n",
      "start event instance None\n",
      "start : {}\n",
      "{'origin.13a33f7e-aa63-11ea-8ad1-2079183a5c9a': 4, 'destination.13a0803a-aa63-11ea-8e33-2079183a5c9a': 12}\n",
      "destination request : {<simpy.resources.resource.Resource object at 0x0000023C88BD76C8>: <Request() object at 0x23c8b13f688>}\n",
      "shift amount process keep_resources []\n",
      "start get_available\n",
      "processor request : {<simpy.resources.resource.Resource object at 0x0000023C88BD76C8>: <Request() object at 0x23c8b13f688>, <simpy.resources.resource.Resource object at 0x0000023C8B0DA188>: <Request() object at 0x23c85df1208>}\n",
      "site request : {<simpy.resources.resource.Resource object at 0x0000023C88BD76C8>: <Request() object at 0x23c8b13f688>, <simpy.resources.resource.Resource object at 0x0000023C8B0DA188>: <Request() object at 0x23c85df1208>}\n",
      "end requestIfAvailable : {<simpy.resources.resource.Resource object at 0x0000023C88BD76C8>: <Request() object at 0x23c8b13f688>, <simpy.resources.resource.Resource object at 0x0000023C8B0DA188>: <Request() object at 0x23c85df1208>}\n",
      "after req resource if available : {<simpy.resources.resource.Resource object at 0x0000023C88BD76C8>: <Request() object at 0x23c8b13f688>, <simpy.resources.resource.Resource object at 0x0000023C8B0DA188>: <Request() object at 0x23c85df1208>}\n",
      "_shift_amount\n",
      "start _shift_amount\n",
      "amount 4\n",
      "processor start process\n",
      "transfer default to Dumplocatie\n",
      "processor process without rate\n",
      "origin store before get: [{'id': 'default', 'level': 4, 'capacity': 5}]\n",
      "start get 4\n",
      "store_status {'id': 'default', 'level': 4, 'capacity': 5}\n",
      "end get 4\n",
      "get_callback - id_ <StorePut() object at 0x23c8b161708>\n",
      "start get_callback\n",
      "{}\n",
      "origin store after get: [{'id': 'default', 'level': 0, 'capacity': 5}]\n",
      "after get\n",
      "after check_down time\n",
      "destination store before put: [{'id': 'default', 'level': 0, 'capacity': 5}]\n",
      "<FilterStoreGet() object at 0x23c8b13fcc8>\n",
      "put_callback - id_ default\n",
      "{}\n",
      "destination store after put: [{'id': 'default', 'level': 4, 'capacity': 5}]\n",
      "after put\n",
      "processor end process\n",
      "Processed 4 of default:\n",
      "  by:          Hopper 02\n",
      "  origin        Winlocatie  contains: 34 of default\n",
      "  destination:  Hopper 02 contains: 4 of default\n",
      "after shift amount : {<simpy.resources.resource.Resource object at 0x0000023C8B0D3C88>: <Request() object at 0x23c8b159e88>, <simpy.resources.resource.Resource object at 0x0000023C8B13F3C8>: <Request() object at 0x23c8b164a48>}\n",
      "keep resources []\n",
      "release destination : {<simpy.resources.resource.Resource object at 0x0000023C8B13F3C8>: <Request() object at 0x23c8b164a48>}\n",
      "released origin : {}\n",
      "released processor : {}\n",
      "{}\n",
      "Activity end(Transfer MP 2)\n",
      "<openclsim.model.MoveActivity object at 0x0000023C8B22FA48>\n",
      "keep_resources []\n",
      "start event instance None\n",
      "Mover_move before mover resource request\n",
      "Mover_move after mover resource request\n",
      "destination store before put: [{'id': 'default', 'level': 8, 'capacity': 20}]\n",
      "<FilterStoreGet() object at 0x23c8b15d148>\n",
      "Mover_move after move\n",
      "Activity end(sailing filled 2)\n",
      "put_callback - id_ default\n",
      "{'default': {20: <Event() object at 0x23c8b234a88>}}\n",
      "amount :20\n",
      "destination store after put: [{'id': 'default', 'level': 12, 'capacity': 20}]\n",
      "after put\n",
      "processor end process\n",
      "Processed 4 of default:\n",
      "  by:          Hopper 01\n",
      "  origin        Hopper 01  contains: 0 of default\n",
      "  destination:  Dumplocatie contains: 12 of default\n",
      "after shift amount : {<simpy.resources.resource.Resource object at 0x0000023C88BD76C8>: <Request() object at 0x23c8b13f688>, <simpy.resources.resource.Resource object at 0x0000023C8B0DA188>: <Request() object at 0x23c85df1208>}\n",
      "keep resources []\n",
      "release destination : {<simpy.resources.resource.Resource object at 0x0000023C8B0DA188>: <Request() object at 0x23c85df1208>}\n",
      "released origin : {}\n",
      "released processor : {}\n",
      "{}\n",
      "Activity end(Transfer TP)\n",
      "<openclsim.model.ShiftAmountActivity object at 0x0000023C8B22F1C8>\n",
      "keep_resources []\n",
      "SHift amount Activity keep_resources []\n",
      "start event instance None\n",
      "start : {}\n",
      "{'origin.13a33f7f-aa63-11ea-9e4b-2079183a5c9a': 4, 'destination.13a0803a-aa63-11ea-8e33-2079183a5c9a': 8}\n",
      "Activity end(Single run process)\n",
      "destination request : {<simpy.resources.resource.Resource object at 0x0000023C88BD76C8>: <Request() object at 0x23c8b13fc48>}\n",
      "shift amount process keep_resources []\n",
      "start get_available\n",
      "condition event triggered: False False round 1\n",
      "while loop requested_resources {<simpy.resources.resource.Resource object at 0x0000023C88BD76C8>: <Request() object at 0x23c8b13fc48>}\n",
      "while loop keep_resources []\n",
      "<openclsim.model.SequentialActivity object at 0x0000023C8B136788>\n",
      "conditional \n",
      "start event instance None\n",
      "<openclsim.model.MoveActivity object at 0x0000023C8B136608>\n",
      "keep_resources []\n",
      "start event instance None\n",
      "Mover_move before mover resource request\n",
      "Mover_move after mover resource request\n",
      "processor request : {<simpy.resources.resource.Resource object at 0x0000023C88BD76C8>: <Request() object at 0x23c8b13fc48>, <simpy.resources.resource.Resource object at 0x0000023C8B0D3C88>: <Request() object at 0x23c8b160ac8>}\n",
      "site request : {<simpy.resources.resource.Resource object at 0x0000023C88BD76C8>: <Request() object at 0x23c8b13fc48>, <simpy.resources.resource.Resource object at 0x0000023C8B0D3C88>: <Request() object at 0x23c8b160ac8>}\n",
      "end requestIfAvailable : {<simpy.resources.resource.Resource object at 0x0000023C88BD76C8>: <Request() object at 0x23c8b13fc48>, <simpy.resources.resource.Resource object at 0x0000023C8B0D3C88>: <Request() object at 0x23c8b160ac8>}\n",
      "after req resource if available : {<simpy.resources.resource.Resource object at 0x0000023C88BD76C8>: <Request() object at 0x23c8b13fc48>, <simpy.resources.resource.Resource object at 0x0000023C8B0D3C88>: <Request() object at 0x23c8b160ac8>}\n",
      "_shift_amount\n",
      "start _shift_amount\n",
      "amount 4\n",
      "processor start process\n",
      "transfer default to Dumplocatie\n",
      "processor process without rate\n",
      "origin store before get: [{'id': 'default', 'level': 4, 'capacity': 5}]\n",
      "start get 4\n",
      "store_status {'id': 'default', 'level': 4, 'capacity': 5}\n",
      "end get 4\n",
      "get_callback - id_ <StorePut() object at 0x23c8b165b08>\n",
      "start get_callback\n",
      "{}\n",
      "origin store after get: [{'id': 'default', 'level': 0, 'capacity': 5}]\n",
      "after get\n",
      "after check_down time\n",
      "Mover_move after move\n",
      "Activity end(sailing empty)\n",
      "<openclsim.model.ShiftAmountActivity object at 0x0000023C8B136848>\n",
      "keep_resources []\n",
      "SHift amount Activity keep_resources []\n",
      "start event instance None\n",
      "start : {}\n",
      "{'origin.13a05922-aa63-11ea-88d0-2079183a5c9a': 34, 'destination.13a33f7e-aa63-11ea-8ad1-2079183a5c9a': 5}\n",
      "destination request : {<simpy.resources.resource.Resource object at 0x0000023C8B0DA188>: <Request() object at 0x23c8b160c48>}\n",
      "shift amount process keep_resources []\n",
      "start get_available\n",
      "processor request : {<simpy.resources.resource.Resource object at 0x0000023C8B0DA188>: <Request() object at 0x23c8b160c48>}\n",
      "site request : {<simpy.resources.resource.Resource object at 0x0000023C8B0DA188>: <Request() object at 0x23c8b160c48>, <simpy.resources.resource.Resource object at 0x0000023C8B13F3C8>: <Request() object at 0x23c8aee5a08>}\n",
      "end requestIfAvailable : {<simpy.resources.resource.Resource object at 0x0000023C8B0DA188>: <Request() object at 0x23c8b160c48>, <simpy.resources.resource.Resource object at 0x0000023C8B13F3C8>: <Request() object at 0x23c8aee5a08>}\n",
      "after req resource if available : {<simpy.resources.resource.Resource object at 0x0000023C8B0DA188>: <Request() object at 0x23c8b160c48>, <simpy.resources.resource.Resource object at 0x0000023C8B13F3C8>: <Request() object at 0x23c8aee5a08>}\n",
      "_shift_amount\n",
      "start _shift_amount\n",
      "amount 4\n",
      "processor start process\n",
      "transfer default to Hopper 01\n",
      "processor process without rate\n",
      "origin store before get: [{'id': 'default', 'level': 34, 'capacity': 50}]\n",
      "start get 4\n",
      "store_status {'id': 'default', 'level': 34, 'capacity': 50}\n",
      "end get 4\n",
      "get_callback - id_ <StorePut() object at 0x23c8afde808>\n",
      "start get_callback\n",
      "{}\n",
      "origin store after get: [{'id': 'default', 'level': 30, 'capacity': 50}]\n",
      "after get\n",
      "after check_down time\n",
      "destination store before put: [{'id': 'default', 'level': 12, 'capacity': 20}]\n",
      "<FilterStoreGet() object at 0x23c8aee5388>\n",
      "put_callback - id_ default\n",
      "{'default': {20: <Event() object at 0x23c8b234a88>}}\n",
      "amount :20\n",
      "destination store after put: [{'id': 'default', 'level': 16, 'capacity': 20}]\n",
      "after put\n",
      "processor end process\n",
      "Processed 4 of default:\n",
      "  by:          Hopper 02\n",
      "  origin        Hopper 02  contains: 0 of default\n",
      "  destination:  Dumplocatie contains: 16 of default\n",
      "after shift amount : {<simpy.resources.resource.Resource object at 0x0000023C88BD76C8>: <Request() object at 0x23c8b13fc48>, <simpy.resources.resource.Resource object at 0x0000023C8B0D3C88>: <Request() object at 0x23c8b160ac8>}\n",
      "keep resources []\n",
      "release destination : {<simpy.resources.resource.Resource object at 0x0000023C8B0D3C88>: <Request() object at 0x23c8b160ac8>}\n",
      "released origin : {}\n",
      "released processor : {}\n",
      "{}\n",
      "Activity end(Transfer TP 2)\n",
      "Activity end(Single run process 2)\n",
      "condition event triggered: False False round 1\n",
      "while loop requested_resources {}\n",
      "while loop keep_resources []\n",
      "<openclsim.model.SequentialActivity object at 0x0000023C8B22FD08>\n",
      "conditional \n",
      "start event instance None\n",
      "<openclsim.model.MoveActivity object at 0x0000023C8B22F488>\n",
      "keep_resources []\n",
      "start event instance None\n",
      "Mover_move before mover resource request\n",
      "Mover_move after mover resource request\n",
      "destination store before put: [{'id': 'default', 'level': 0, 'capacity': 5}]\n",
      "<FilterStoreGet() object at 0x23c8804fc88>\n",
      "Mover_move after move\n",
      "Activity end(sailing empty 2)\n",
      "put_callback - id_ default\n",
      "{}\n",
      "destination store after put: [{'id': 'default', 'level': 4, 'capacity': 5}]\n",
      "after put\n",
      "processor end process\n",
      "Processed 4 of default:\n",
      "  by:          Hopper 01\n",
      "  origin        Winlocatie  contains: 30 of default\n",
      "  destination:  Hopper 01 contains: 4 of default\n",
      "after shift amount : {<simpy.resources.resource.Resource object at 0x0000023C8B0DA188>: <Request() object at 0x23c8b160c48>, <simpy.resources.resource.Resource object at 0x0000023C8B13F3C8>: <Request() object at 0x23c8aee5a08>}\n",
      "keep resources []\n",
      "release destination : {<simpy.resources.resource.Resource object at 0x0000023C8B13F3C8>: <Request() object at 0x23c8aee5a08>}\n",
      "released origin : {}\n",
      "released processor : {}\n",
      "{}\n",
      "Activity end(Transfer MP)\n",
      "<openclsim.model.ShiftAmountActivity object at 0x0000023C8B22FFC8>\n",
      "keep_resources []\n",
      "SHift amount Activity keep_resources []\n",
      "start event instance None\n",
      "start : {}\n",
      "{'origin.13a05922-aa63-11ea-88d0-2079183a5c9a': 30, 'destination.13a33f7f-aa63-11ea-9e4b-2079183a5c9a': 5}\n",
      "<openclsim.model.MoveActivity object at 0x0000023C8B136EC8>\n",
      "keep_resources []\n",
      "start event instance None\n",
      "Mover_move before mover resource request\n",
      "destination request : {<simpy.resources.resource.Resource object at 0x0000023C8B0D3C88>: <Request() object at 0x23c8b15d248>}\n",
      "shift amount process keep_resources []\n",
      "start get_available\n",
      "Mover_move after mover resource request\n",
      "processor request : {<simpy.resources.resource.Resource object at 0x0000023C8B0D3C88>: <Request() object at 0x23c8b15d248>}\n",
      "site request : {<simpy.resources.resource.Resource object at 0x0000023C8B0D3C88>: <Request() object at 0x23c8b15d248>, <simpy.resources.resource.Resource object at 0x0000023C8B13F3C8>: <Request() object at 0x23c8b138508>}\n",
      "end requestIfAvailable : {<simpy.resources.resource.Resource object at 0x0000023C8B0D3C88>: <Request() object at 0x23c8b15d248>, <simpy.resources.resource.Resource object at 0x0000023C8B13F3C8>: <Request() object at 0x23c8b138508>}\n",
      "after req resource if available : {<simpy.resources.resource.Resource object at 0x0000023C8B0D3C88>: <Request() object at 0x23c8b15d248>, <simpy.resources.resource.Resource object at 0x0000023C8B13F3C8>: <Request() object at 0x23c8b138508>}\n",
      "_shift_amount\n",
      "start _shift_amount\n",
      "amount 4\n",
      "processor start process\n",
      "transfer default to Hopper 02\n",
      "processor process without rate\n",
      "origin store before get: [{'id': 'default', 'level': 30, 'capacity': 50}]\n",
      "start get 4\n",
      "store_status {'id': 'default', 'level': 30, 'capacity': 50}\n",
      "end get 4\n",
      "get_callback - id_ <StorePut() object at 0x23c8b1388c8>\n",
      "start get_callback\n"
     ]
    },
    {
     "name": "stdout",
     "output_type": "stream",
     "text": [
      "{}\n",
      "origin store after get: [{'id': 'default', 'level': 26, 'capacity': 50}]\n",
      "after get\n",
      "after check_down time\n",
      "Mover_move after move\n",
      "Activity end(sailing filled)\n",
      "<openclsim.model.ShiftAmountActivity object at 0x0000023C8B136A88>\n",
      "keep_resources []\n",
      "SHift amount Activity keep_resources []\n",
      "start event instance None\n",
      "start : {}\n",
      "{'origin.13a33f7e-aa63-11ea-8ad1-2079183a5c9a': 4, 'destination.13a0803a-aa63-11ea-8e33-2079183a5c9a': 4}\n",
      "destination request : {<simpy.resources.resource.Resource object at 0x0000023C88BD76C8>: <Request() object at 0x23c8b0e9e48>}\n",
      "shift amount process keep_resources []\n",
      "start get_available\n",
      "processor request : {<simpy.resources.resource.Resource object at 0x0000023C88BD76C8>: <Request() object at 0x23c8b0e9e48>, <simpy.resources.resource.Resource object at 0x0000023C8B0DA188>: <Request() object at 0x23c8b164348>}\n",
      "site request : {<simpy.resources.resource.Resource object at 0x0000023C88BD76C8>: <Request() object at 0x23c8b0e9e48>, <simpy.resources.resource.Resource object at 0x0000023C8B0DA188>: <Request() object at 0x23c8b164348>}\n",
      "end requestIfAvailable : {<simpy.resources.resource.Resource object at 0x0000023C88BD76C8>: <Request() object at 0x23c8b0e9e48>, <simpy.resources.resource.Resource object at 0x0000023C8B0DA188>: <Request() object at 0x23c8b164348>}\n",
      "after req resource if available : {<simpy.resources.resource.Resource object at 0x0000023C88BD76C8>: <Request() object at 0x23c8b0e9e48>, <simpy.resources.resource.Resource object at 0x0000023C8B0DA188>: <Request() object at 0x23c8b164348>}\n",
      "_shift_amount\n",
      "start _shift_amount\n",
      "amount 4\n",
      "processor start process\n",
      "transfer default to Dumplocatie\n",
      "processor process without rate\n",
      "origin store before get: [{'id': 'default', 'level': 4, 'capacity': 5}]\n",
      "start get 4\n",
      "store_status {'id': 'default', 'level': 4, 'capacity': 5}\n",
      "end get 4\n",
      "get_callback - id_ <StorePut() object at 0x23c8b161988>\n",
      "start get_callback\n",
      "{}\n",
      "origin store after get: [{'id': 'default', 'level': 0, 'capacity': 5}]\n",
      "after get\n",
      "after check_down time\n",
      "destination store before put: [{'id': 'default', 'level': 0, 'capacity': 5}]\n",
      "<FilterStoreGet() object at 0x23c8b161188>\n",
      "put_callback - id_ default\n",
      "{}\n",
      "destination store after put: [{'id': 'default', 'level': 4, 'capacity': 5}]\n",
      "after put\n",
      "processor end process\n",
      "Processed 4 of default:\n",
      "  by:          Hopper 02\n",
      "  origin        Winlocatie  contains: 26 of default\n",
      "  destination:  Hopper 02 contains: 4 of default\n",
      "after shift amount : {<simpy.resources.resource.Resource object at 0x0000023C8B0D3C88>: <Request() object at 0x23c8b15d248>, <simpy.resources.resource.Resource object at 0x0000023C8B13F3C8>: <Request() object at 0x23c8b138508>}\n",
      "keep resources []\n",
      "release destination : {<simpy.resources.resource.Resource object at 0x0000023C8B13F3C8>: <Request() object at 0x23c8b138508>}\n",
      "released origin : {}\n",
      "released processor : {}\n",
      "{}\n",
      "Activity end(Transfer MP 2)\n",
      "<openclsim.model.MoveActivity object at 0x0000023C8B22FA48>\n",
      "keep_resources []\n",
      "start event instance None\n",
      "Mover_move before mover resource request\n",
      "Mover_move after mover resource request\n",
      "destination store before put: [{'id': 'default', 'level': 16, 'capacity': 20}]\n",
      "<FilterStoreGet() object at 0x23c8b138748>\n",
      "Mover_move after move\n",
      "Activity end(sailing filled 2)\n",
      "put_callback - id_ default\n",
      "{'default': {20: <Event() object at 0x23c8b234a88>}}\n",
      "amount :20\n",
      "destination store after put: [{'id': 'default', 'level': 20, 'capacity': 20}]\n",
      "after put\n",
      "processor end process\n",
      "Processed 4 of default:\n",
      "  by:          Hopper 01\n",
      "  origin        Hopper 01  contains: 0 of default\n",
      "  destination:  Dumplocatie contains: 20 of default\n",
      "after shift amount : {<simpy.resources.resource.Resource object at 0x0000023C88BD76C8>: <Request() object at 0x23c8b0e9e48>, <simpy.resources.resource.Resource object at 0x0000023C8B0DA188>: <Request() object at 0x23c8b164348>}\n",
      "keep resources []\n",
      "release destination : {<simpy.resources.resource.Resource object at 0x0000023C8B0DA188>: <Request() object at 0x23c8b164348>}\n",
      "released origin : {}\n",
      "released processor : {}\n",
      "{}\n",
      "Activity end(Transfer TP)\n",
      "<openclsim.model.ShiftAmountActivity object at 0x0000023C8B22F1C8>\n",
      "keep_resources []\n",
      "SHift amount Activity keep_resources []\n",
      "start event instance None\n",
      "start : {}\n",
      "{'origin.13a33f7f-aa63-11ea-9e4b-2079183a5c9a': 4, 'destination.13a0803a-aa63-11ea-8e33-2079183a5c9a': 0}\n",
      "Activity end(Single run process)\n"
     ]
    },
    {
     "ename": "RuntimeError",
     "evalue": "Attempting to shift content from an empty origin or to a full destination. ({'origin.13a33f7f-aa63-11ea-9e4b-2079183a5c9a': 4, 'destination.13a0803a-aa63-11ea-8e33-2079183a5c9a': 0})",
     "output_type": "error",
     "traceback": [
      "\u001b[1;31m---------------------------------------------------------------------------\u001b[0m",
      "\u001b[1;31mRuntimeError\u001b[0m                              Traceback (most recent call last)",
      "\u001b[1;32mc:\\users\\d4l\\github\\openclsim\\openclsim\\model.py\u001b[0m in \u001b[0;36mconditional_process\u001b[1;34m(activity_log, env, condition_event, sub_process, name, requested_resources, keep_resources)\u001b[0m\n\u001b[0;32m    554\u001b[0m         \u001b[0msub_process\u001b[0m\u001b[1;33m.\u001b[0m\u001b[0mstart\u001b[0m\u001b[1;33m(\u001b[0m\u001b[1;33m)\u001b[0m\u001b[1;33m\u001b[0m\u001b[1;33m\u001b[0m\u001b[0m\n\u001b[1;32m--> 555\u001b[1;33m         \u001b[1;32myield\u001b[0m \u001b[1;32mfrom\u001b[0m \u001b[0msub_process\u001b[0m\u001b[1;33m.\u001b[0m\u001b[0mcall_main_proc\u001b[0m\u001b[1;33m(\u001b[0m\u001b[0mactivity_log\u001b[0m\u001b[1;33m=\u001b[0m\u001b[0mactivity_log\u001b[0m\u001b[1;33m,\u001b[0m \u001b[0menv\u001b[0m\u001b[1;33m=\u001b[0m\u001b[0menv\u001b[0m\u001b[1;33m)\u001b[0m\u001b[1;33m\u001b[0m\u001b[1;33m\u001b[0m\u001b[0m\n\u001b[0m\u001b[0;32m    556\u001b[0m         \u001b[0msub_process\u001b[0m\u001b[1;33m.\u001b[0m\u001b[0mend\u001b[0m\u001b[1;33m(\u001b[0m\u001b[1;33m)\u001b[0m\u001b[1;33m\u001b[0m\u001b[1;33m\u001b[0m\u001b[0m\n",
      "\u001b[1;32mc:\\users\\d4l\\github\\openclsim\\openclsim\\model.py\u001b[0m in \u001b[0;36msequential_process\u001b[1;34m(activity_log, env, sub_processes, name, requested_resources, keep_resources)\u001b[0m\n\u001b[0;32m    825\u001b[0m         \u001b[0msub_process\u001b[0m\u001b[1;33m.\u001b[0m\u001b[0mstart\u001b[0m\u001b[1;33m(\u001b[0m\u001b[1;33m)\u001b[0m\u001b[1;33m\u001b[0m\u001b[1;33m\u001b[0m\u001b[0m\n\u001b[1;32m--> 826\u001b[1;33m         \u001b[1;32myield\u001b[0m \u001b[1;32mfrom\u001b[0m \u001b[0msub_process\u001b[0m\u001b[1;33m.\u001b[0m\u001b[0mcall_main_proc\u001b[0m\u001b[1;33m(\u001b[0m\u001b[0mactivity_log\u001b[0m\u001b[1;33m=\u001b[0m\u001b[0msub_process\u001b[0m\u001b[1;33m,\u001b[0m \u001b[0menv\u001b[0m\u001b[1;33m=\u001b[0m\u001b[0menv\u001b[0m\u001b[1;33m)\u001b[0m\u001b[1;33m\u001b[0m\u001b[1;33m\u001b[0m\u001b[0m\n\u001b[0m\u001b[0;32m    827\u001b[0m         \u001b[0msub_process\u001b[0m\u001b[1;33m.\u001b[0m\u001b[0mend\u001b[0m\u001b[1;33m(\u001b[0m\u001b[1;33m)\u001b[0m\u001b[1;33m\u001b[0m\u001b[1;33m\u001b[0m\u001b[0m\n",
      "\u001b[1;32mc:\\users\\d4l\\github\\openclsim\\openclsim\\model.py\u001b[0m in \u001b[0;36mshift_amount_process\u001b[1;34m(activity_log, env, processor, origin, destination, name, duration, amount, requested_resources, keep_resources, id_, engine_order, stop_reservation_waiting_event)\u001b[0m\n\u001b[0;32m    784\u001b[0m         raise RuntimeError(\n\u001b[1;32m--> 785\u001b[1;33m             \u001b[1;34mf\"Attempting to shift content from an empty origin or to a full destination. ({all_amounts})\"\u001b[0m\u001b[1;33m\u001b[0m\u001b[1;33m\u001b[0m\u001b[0m\n\u001b[0m\u001b[0;32m    786\u001b[0m         )\n",
      "\u001b[1;31mRuntimeError\u001b[0m: Attempting to shift content from an empty origin or to a full destination. ({'origin.13a33f7f-aa63-11ea-9e4b-2079183a5c9a': 4, 'destination.13a0803a-aa63-11ea-8e33-2079183a5c9a': 0})",
      "\nThe above exception was the direct cause of the following exception:\n",
      "\u001b[1;31mRuntimeError\u001b[0m                              Traceback (most recent call last)",
      "\u001b[1;32m<ipython-input-8-cf25dcac65e6>\u001b[0m in \u001b[0;36m<module>\u001b[1;34m\u001b[0m\n\u001b[1;32m----> 1\u001b[1;33m \u001b[0mmy_env\u001b[0m\u001b[1;33m.\u001b[0m\u001b[0mrun\u001b[0m\u001b[1;33m(\u001b[0m\u001b[1;33m)\u001b[0m\u001b[1;33m\u001b[0m\u001b[1;33m\u001b[0m\u001b[0m\n\u001b[0m",
      "\u001b[1;32m~\\AppData\\Local\\Continuum\\anaconda3\\lib\\site-packages\\simpy\\core.py\u001b[0m in \u001b[0;36mrun\u001b[1;34m(self, until)\u001b[0m\n\u001b[0;32m    136\u001b[0m         \u001b[1;32mtry\u001b[0m\u001b[1;33m:\u001b[0m\u001b[1;33m\u001b[0m\u001b[1;33m\u001b[0m\u001b[0m\n\u001b[0;32m    137\u001b[0m             \u001b[1;32mwhile\u001b[0m \u001b[1;32mTrue\u001b[0m\u001b[1;33m:\u001b[0m\u001b[1;33m\u001b[0m\u001b[1;33m\u001b[0m\u001b[0m\n\u001b[1;32m--> 138\u001b[1;33m                 \u001b[0mself\u001b[0m\u001b[1;33m.\u001b[0m\u001b[0mstep\u001b[0m\u001b[1;33m(\u001b[0m\u001b[1;33m)\u001b[0m\u001b[1;33m\u001b[0m\u001b[1;33m\u001b[0m\u001b[0m\n\u001b[0m\u001b[0;32m    139\u001b[0m         \u001b[1;32mexcept\u001b[0m \u001b[0mStopSimulation\u001b[0m \u001b[1;32mas\u001b[0m \u001b[0mexc\u001b[0m\u001b[1;33m:\u001b[0m\u001b[1;33m\u001b[0m\u001b[1;33m\u001b[0m\u001b[0m\n\u001b[0;32m    140\u001b[0m             \u001b[1;32mreturn\u001b[0m \u001b[0mexc\u001b[0m\u001b[1;33m.\u001b[0m\u001b[0margs\u001b[0m\u001b[1;33m[\u001b[0m\u001b[1;36m0\u001b[0m\u001b[1;33m]\u001b[0m  \u001b[1;31m# == until.value\u001b[0m\u001b[1;33m\u001b[0m\u001b[1;33m\u001b[0m\u001b[0m\n",
      "\u001b[1;32m~\\AppData\\Local\\Continuum\\anaconda3\\lib\\site-packages\\simpy\\core.py\u001b[0m in \u001b[0;36mstep\u001b[1;34m(self)\u001b[0m\n\u001b[0;32m    228\u001b[0m             \u001b[0mexc\u001b[0m \u001b[1;33m=\u001b[0m \u001b[0mtype\u001b[0m\u001b[1;33m(\u001b[0m\u001b[0mevent\u001b[0m\u001b[1;33m.\u001b[0m\u001b[0m_value\u001b[0m\u001b[1;33m)\u001b[0m\u001b[1;33m(\u001b[0m\u001b[1;33m*\u001b[0m\u001b[0mevent\u001b[0m\u001b[1;33m.\u001b[0m\u001b[0m_value\u001b[0m\u001b[1;33m.\u001b[0m\u001b[0margs\u001b[0m\u001b[1;33m)\u001b[0m\u001b[1;33m\u001b[0m\u001b[1;33m\u001b[0m\u001b[0m\n\u001b[0;32m    229\u001b[0m             \u001b[0mexc\u001b[0m\u001b[1;33m.\u001b[0m\u001b[0m__cause__\u001b[0m \u001b[1;33m=\u001b[0m \u001b[0mevent\u001b[0m\u001b[1;33m.\u001b[0m\u001b[0m_value\u001b[0m\u001b[1;33m\u001b[0m\u001b[1;33m\u001b[0m\u001b[0m\n\u001b[1;32m--> 230\u001b[1;33m             \u001b[1;32mraise\u001b[0m \u001b[0mexc\u001b[0m\u001b[1;33m\u001b[0m\u001b[1;33m\u001b[0m\u001b[0m\n\u001b[0m",
      "\u001b[1;31mRuntimeError\u001b[0m: Attempting to shift content from an empty origin or to a full destination. ({'origin.13a33f7f-aa63-11ea-9e4b-2079183a5c9a': 4, 'destination.13a0803a-aa63-11ea-8e33-2079183a5c9a': 0})"
     ]
    }
   ],
   "source": [
    "my_env.run()"
   ]
  },
  {
   "cell_type": "code",
   "execution_count": 9,
   "metadata": {},
   "outputs": [
    {
     "data": {
      "text/html": [
       "<div>\n",
       "<style scoped>\n",
       "    .dataframe tbody tr th:only-of-type {\n",
       "        vertical-align: middle;\n",
       "    }\n",
       "\n",
       "    .dataframe tbody tr th {\n",
       "        vertical-align: top;\n",
       "    }\n",
       "\n",
       "    .dataframe thead th {\n",
       "        text-align: right;\n",
       "    }\n",
       "</style>\n",
       "<table border=\"1\" class=\"dataframe\">\n",
       "  <thead>\n",
       "    <tr style=\"text-align: right;\">\n",
       "      <th></th>\n",
       "      <th>Message</th>\n",
       "      <th>Timestamp</th>\n",
       "      <th>Value</th>\n",
       "      <th>Geometry</th>\n",
       "      <th>ActivityID</th>\n",
       "      <th>ActivityState</th>\n",
       "    </tr>\n",
       "  </thead>\n",
       "  <tbody>\n",
       "    <tr>\n",
       "      <th>0</th>\n",
       "      <td>sailing empty</td>\n",
       "      <td>1970-01-01 01:00:00.000000</td>\n",
       "      <td>0</td>\n",
       "      <td>POINT (5.1 52)</td>\n",
       "      <td>13a5d792-aa63-11ea-af68-2079183a5c9a</td>\n",
       "      <td>START</td>\n",
       "    </tr>\n",
       "    <tr>\n",
       "      <th>1</th>\n",
       "      <td>sailing empty</td>\n",
       "      <td>1970-01-01 01:00:00.000000</td>\n",
       "      <td>0</td>\n",
       "      <td>POINT (5.1 52)</td>\n",
       "      <td>13a5d792-aa63-11ea-af68-2079183a5c9a</td>\n",
       "      <td>STOP</td>\n",
       "    </tr>\n",
       "    <tr>\n",
       "      <th>2</th>\n",
       "      <td>transfer default to Hopper 01</td>\n",
       "      <td>1970-01-01 01:00:00.000000</td>\n",
       "      <td>4</td>\n",
       "      <td>POINT (5.1 52)</td>\n",
       "      <td>13a5d793-aa63-11ea-98ff-2079183a5c9a</td>\n",
       "      <td>START</td>\n",
       "    </tr>\n",
       "    <tr>\n",
       "      <th>3</th>\n",
       "      <td>transfer default to Hopper 01</td>\n",
       "      <td>1970-01-01 01:00:00.000000</td>\n",
       "      <td>4</td>\n",
       "      <td>POINT (5.1 52)</td>\n",
       "      <td>13a5d793-aa63-11ea-98ff-2079183a5c9a</td>\n",
       "      <td>START</td>\n",
       "    </tr>\n",
       "    <tr>\n",
       "      <th>4</th>\n",
       "      <td>transfer default to Hopper 01</td>\n",
       "      <td>1970-01-01 02:00:00.000000</td>\n",
       "      <td>4</td>\n",
       "      <td>POINT (5.1 52)</td>\n",
       "      <td>13a5d793-aa63-11ea-98ff-2079183a5c9a</td>\n",
       "      <td>STOP</td>\n",
       "    </tr>\n",
       "    <tr>\n",
       "      <th>5</th>\n",
       "      <td>transfer default to Hopper 01</td>\n",
       "      <td>1970-01-01 02:00:00.000000</td>\n",
       "      <td>4</td>\n",
       "      <td>POINT (5.1 52)</td>\n",
       "      <td>13a5d793-aa63-11ea-98ff-2079183a5c9a</td>\n",
       "      <td>STOP</td>\n",
       "    </tr>\n",
       "    <tr>\n",
       "      <th>6</th>\n",
       "      <td>sailing filled</td>\n",
       "      <td>1970-01-01 02:00:00.000000</td>\n",
       "      <td>4</td>\n",
       "      <td>POINT (5.1 52)</td>\n",
       "      <td>13a5d794-aa63-11ea-814a-2079183a5c9a</td>\n",
       "      <td>START</td>\n",
       "    </tr>\n",
       "    <tr>\n",
       "      <th>7</th>\n",
       "      <td>sailing filled</td>\n",
       "      <td>1970-01-01 02:21:47.164478</td>\n",
       "      <td>4</td>\n",
       "      <td>POINT (5 52.1)</td>\n",
       "      <td>13a5d794-aa63-11ea-814a-2079183a5c9a</td>\n",
       "      <td>STOP</td>\n",
       "    </tr>\n",
       "    <tr>\n",
       "      <th>8</th>\n",
       "      <td>transfer default to Dumplocatie</td>\n",
       "      <td>1970-01-01 02:21:47.164478</td>\n",
       "      <td>4</td>\n",
       "      <td>POINT (5 52.1)</td>\n",
       "      <td>13a5d795-aa63-11ea-afe6-2079183a5c9a</td>\n",
       "      <td>START</td>\n",
       "    </tr>\n",
       "    <tr>\n",
       "      <th>9</th>\n",
       "      <td>transfer default to Dumplocatie</td>\n",
       "      <td>1970-01-01 02:21:47.164478</td>\n",
       "      <td>4</td>\n",
       "      <td>POINT (5 52.1)</td>\n",
       "      <td>13a5d795-aa63-11ea-afe6-2079183a5c9a</td>\n",
       "      <td>START</td>\n",
       "    </tr>\n",
       "    <tr>\n",
       "      <th>10</th>\n",
       "      <td>transfer default to Dumplocatie</td>\n",
       "      <td>1970-01-01 03:21:47.164478</td>\n",
       "      <td>4</td>\n",
       "      <td>POINT (5 52.1)</td>\n",
       "      <td>13a5d795-aa63-11ea-afe6-2079183a5c9a</td>\n",
       "      <td>STOP</td>\n",
       "    </tr>\n",
       "    <tr>\n",
       "      <th>11</th>\n",
       "      <td>transfer default to Dumplocatie</td>\n",
       "      <td>1970-01-01 03:21:47.164478</td>\n",
       "      <td>4</td>\n",
       "      <td>POINT (5 52.1)</td>\n",
       "      <td>13a5d795-aa63-11ea-afe6-2079183a5c9a</td>\n",
       "      <td>STOP</td>\n",
       "    </tr>\n",
       "    <tr>\n",
       "      <th>12</th>\n",
       "      <td>sailing empty</td>\n",
       "      <td>1970-01-01 03:21:47.164478</td>\n",
       "      <td>0</td>\n",
       "      <td>POINT (5 52.1)</td>\n",
       "      <td>13a5d792-aa63-11ea-af68-2079183a5c9a</td>\n",
       "      <td>START</td>\n",
       "    </tr>\n",
       "    <tr>\n",
       "      <th>13</th>\n",
       "      <td>sailing empty</td>\n",
       "      <td>1970-01-01 03:43:34.328956</td>\n",
       "      <td>0</td>\n",
       "      <td>POINT (5.1 52)</td>\n",
       "      <td>13a5d792-aa63-11ea-af68-2079183a5c9a</td>\n",
       "      <td>STOP</td>\n",
       "    </tr>\n",
       "    <tr>\n",
       "      <th>14</th>\n",
       "      <td>transfer default to Hopper 01</td>\n",
       "      <td>1970-01-01 03:43:34.328956</td>\n",
       "      <td>4</td>\n",
       "      <td>POINT (5.1 52)</td>\n",
       "      <td>13a5d793-aa63-11ea-98ff-2079183a5c9a</td>\n",
       "      <td>START</td>\n",
       "    </tr>\n",
       "    <tr>\n",
       "      <th>15</th>\n",
       "      <td>transfer default to Hopper 01</td>\n",
       "      <td>1970-01-01 03:43:34.328956</td>\n",
       "      <td>4</td>\n",
       "      <td>POINT (5.1 52)</td>\n",
       "      <td>13a5d793-aa63-11ea-98ff-2079183a5c9a</td>\n",
       "      <td>START</td>\n",
       "    </tr>\n",
       "    <tr>\n",
       "      <th>16</th>\n",
       "      <td>transfer default to Hopper 01</td>\n",
       "      <td>1970-01-01 04:43:34.328956</td>\n",
       "      <td>4</td>\n",
       "      <td>POINT (5.1 52)</td>\n",
       "      <td>13a5d793-aa63-11ea-98ff-2079183a5c9a</td>\n",
       "      <td>STOP</td>\n",
       "    </tr>\n",
       "    <tr>\n",
       "      <th>17</th>\n",
       "      <td>transfer default to Hopper 01</td>\n",
       "      <td>1970-01-01 04:43:34.328956</td>\n",
       "      <td>4</td>\n",
       "      <td>POINT (5.1 52)</td>\n",
       "      <td>13a5d793-aa63-11ea-98ff-2079183a5c9a</td>\n",
       "      <td>STOP</td>\n",
       "    </tr>\n",
       "    <tr>\n",
       "      <th>18</th>\n",
       "      <td>sailing filled</td>\n",
       "      <td>1970-01-01 04:43:34.328956</td>\n",
       "      <td>4</td>\n",
       "      <td>POINT (5.1 52)</td>\n",
       "      <td>13a5d794-aa63-11ea-814a-2079183a5c9a</td>\n",
       "      <td>START</td>\n",
       "    </tr>\n",
       "    <tr>\n",
       "      <th>19</th>\n",
       "      <td>sailing filled</td>\n",
       "      <td>1970-01-01 05:05:21.493435</td>\n",
       "      <td>4</td>\n",
       "      <td>POINT (5 52.1)</td>\n",
       "      <td>13a5d794-aa63-11ea-814a-2079183a5c9a</td>\n",
       "      <td>STOP</td>\n",
       "    </tr>\n",
       "    <tr>\n",
       "      <th>20</th>\n",
       "      <td>transfer default to Dumplocatie</td>\n",
       "      <td>1970-01-01 05:05:21.493435</td>\n",
       "      <td>4</td>\n",
       "      <td>POINT (5 52.1)</td>\n",
       "      <td>13a5d795-aa63-11ea-afe6-2079183a5c9a</td>\n",
       "      <td>START</td>\n",
       "    </tr>\n",
       "    <tr>\n",
       "      <th>21</th>\n",
       "      <td>transfer default to Dumplocatie</td>\n",
       "      <td>1970-01-01 05:05:21.493435</td>\n",
       "      <td>4</td>\n",
       "      <td>POINT (5 52.1)</td>\n",
       "      <td>13a5d795-aa63-11ea-afe6-2079183a5c9a</td>\n",
       "      <td>START</td>\n",
       "    </tr>\n",
       "    <tr>\n",
       "      <th>22</th>\n",
       "      <td>transfer default to Dumplocatie</td>\n",
       "      <td>1970-01-01 06:05:21.493435</td>\n",
       "      <td>4</td>\n",
       "      <td>POINT (5 52.1)</td>\n",
       "      <td>13a5d795-aa63-11ea-afe6-2079183a5c9a</td>\n",
       "      <td>STOP</td>\n",
       "    </tr>\n",
       "    <tr>\n",
       "      <th>23</th>\n",
       "      <td>transfer default to Dumplocatie</td>\n",
       "      <td>1970-01-01 06:05:21.493435</td>\n",
       "      <td>4</td>\n",
       "      <td>POINT (5 52.1)</td>\n",
       "      <td>13a5d795-aa63-11ea-afe6-2079183a5c9a</td>\n",
       "      <td>STOP</td>\n",
       "    </tr>\n",
       "    <tr>\n",
       "      <th>24</th>\n",
       "      <td>sailing empty</td>\n",
       "      <td>1970-01-01 06:05:21.493435</td>\n",
       "      <td>0</td>\n",
       "      <td>POINT (5 52.1)</td>\n",
       "      <td>13a5d792-aa63-11ea-af68-2079183a5c9a</td>\n",
       "      <td>START</td>\n",
       "    </tr>\n",
       "    <tr>\n",
       "      <th>25</th>\n",
       "      <td>sailing empty</td>\n",
       "      <td>1970-01-01 06:27:08.657913</td>\n",
       "      <td>0</td>\n",
       "      <td>POINT (5.1 52)</td>\n",
       "      <td>13a5d792-aa63-11ea-af68-2079183a5c9a</td>\n",
       "      <td>STOP</td>\n",
       "    </tr>\n",
       "    <tr>\n",
       "      <th>26</th>\n",
       "      <td>transfer default to Hopper 01</td>\n",
       "      <td>1970-01-01 06:27:08.657913</td>\n",
       "      <td>4</td>\n",
       "      <td>POINT (5.1 52)</td>\n",
       "      <td>13a5d793-aa63-11ea-98ff-2079183a5c9a</td>\n",
       "      <td>START</td>\n",
       "    </tr>\n",
       "    <tr>\n",
       "      <th>27</th>\n",
       "      <td>transfer default to Hopper 01</td>\n",
       "      <td>1970-01-01 06:27:08.657913</td>\n",
       "      <td>4</td>\n",
       "      <td>POINT (5.1 52)</td>\n",
       "      <td>13a5d793-aa63-11ea-98ff-2079183a5c9a</td>\n",
       "      <td>START</td>\n",
       "    </tr>\n",
       "    <tr>\n",
       "      <th>28</th>\n",
       "      <td>transfer default to Hopper 01</td>\n",
       "      <td>1970-01-01 07:27:08.657913</td>\n",
       "      <td>4</td>\n",
       "      <td>POINT (5.1 52)</td>\n",
       "      <td>13a5d793-aa63-11ea-98ff-2079183a5c9a</td>\n",
       "      <td>STOP</td>\n",
       "    </tr>\n",
       "    <tr>\n",
       "      <th>29</th>\n",
       "      <td>transfer default to Hopper 01</td>\n",
       "      <td>1970-01-01 07:27:08.657913</td>\n",
       "      <td>4</td>\n",
       "      <td>POINT (5.1 52)</td>\n",
       "      <td>13a5d793-aa63-11ea-98ff-2079183a5c9a</td>\n",
       "      <td>STOP</td>\n",
       "    </tr>\n",
       "    <tr>\n",
       "      <th>30</th>\n",
       "      <td>sailing filled</td>\n",
       "      <td>1970-01-01 07:27:08.657913</td>\n",
       "      <td>4</td>\n",
       "      <td>POINT (5.1 52)</td>\n",
       "      <td>13a5d794-aa63-11ea-814a-2079183a5c9a</td>\n",
       "      <td>START</td>\n",
       "    </tr>\n",
       "    <tr>\n",
       "      <th>31</th>\n",
       "      <td>sailing filled</td>\n",
       "      <td>1970-01-01 07:48:55.822391</td>\n",
       "      <td>4</td>\n",
       "      <td>POINT (5 52.1)</td>\n",
       "      <td>13a5d794-aa63-11ea-814a-2079183a5c9a</td>\n",
       "      <td>STOP</td>\n",
       "    </tr>\n",
       "    <tr>\n",
       "      <th>32</th>\n",
       "      <td>transfer default to Dumplocatie</td>\n",
       "      <td>1970-01-01 07:48:55.822391</td>\n",
       "      <td>4</td>\n",
       "      <td>POINT (5 52.1)</td>\n",
       "      <td>13a5d795-aa63-11ea-afe6-2079183a5c9a</td>\n",
       "      <td>START</td>\n",
       "    </tr>\n",
       "    <tr>\n",
       "      <th>33</th>\n",
       "      <td>transfer default to Dumplocatie</td>\n",
       "      <td>1970-01-01 07:48:55.822391</td>\n",
       "      <td>4</td>\n",
       "      <td>POINT (5 52.1)</td>\n",
       "      <td>13a5d795-aa63-11ea-afe6-2079183a5c9a</td>\n",
       "      <td>START</td>\n",
       "    </tr>\n",
       "    <tr>\n",
       "      <th>34</th>\n",
       "      <td>transfer default to Dumplocatie</td>\n",
       "      <td>1970-01-01 08:48:55.822391</td>\n",
       "      <td>4</td>\n",
       "      <td>POINT (5 52.1)</td>\n",
       "      <td>13a5d795-aa63-11ea-afe6-2079183a5c9a</td>\n",
       "      <td>STOP</td>\n",
       "    </tr>\n",
       "    <tr>\n",
       "      <th>35</th>\n",
       "      <td>transfer default to Dumplocatie</td>\n",
       "      <td>1970-01-01 08:48:55.822391</td>\n",
       "      <td>4</td>\n",
       "      <td>POINT (5 52.1)</td>\n",
       "      <td>13a5d795-aa63-11ea-afe6-2079183a5c9a</td>\n",
       "      <td>STOP</td>\n",
       "    </tr>\n",
       "  </tbody>\n",
       "</table>\n",
       "</div>"
      ],
      "text/plain": [
       "                            Message                  Timestamp  Value  \\\n",
       "0                     sailing empty 1970-01-01 01:00:00.000000      0   \n",
       "1                     sailing empty 1970-01-01 01:00:00.000000      0   \n",
       "2     transfer default to Hopper 01 1970-01-01 01:00:00.000000      4   \n",
       "3     transfer default to Hopper 01 1970-01-01 01:00:00.000000      4   \n",
       "4     transfer default to Hopper 01 1970-01-01 02:00:00.000000      4   \n",
       "5     transfer default to Hopper 01 1970-01-01 02:00:00.000000      4   \n",
       "6                    sailing filled 1970-01-01 02:00:00.000000      4   \n",
       "7                    sailing filled 1970-01-01 02:21:47.164478      4   \n",
       "8   transfer default to Dumplocatie 1970-01-01 02:21:47.164478      4   \n",
       "9   transfer default to Dumplocatie 1970-01-01 02:21:47.164478      4   \n",
       "10  transfer default to Dumplocatie 1970-01-01 03:21:47.164478      4   \n",
       "11  transfer default to Dumplocatie 1970-01-01 03:21:47.164478      4   \n",
       "12                    sailing empty 1970-01-01 03:21:47.164478      0   \n",
       "13                    sailing empty 1970-01-01 03:43:34.328956      0   \n",
       "14    transfer default to Hopper 01 1970-01-01 03:43:34.328956      4   \n",
       "15    transfer default to Hopper 01 1970-01-01 03:43:34.328956      4   \n",
       "16    transfer default to Hopper 01 1970-01-01 04:43:34.328956      4   \n",
       "17    transfer default to Hopper 01 1970-01-01 04:43:34.328956      4   \n",
       "18                   sailing filled 1970-01-01 04:43:34.328956      4   \n",
       "19                   sailing filled 1970-01-01 05:05:21.493435      4   \n",
       "20  transfer default to Dumplocatie 1970-01-01 05:05:21.493435      4   \n",
       "21  transfer default to Dumplocatie 1970-01-01 05:05:21.493435      4   \n",
       "22  transfer default to Dumplocatie 1970-01-01 06:05:21.493435      4   \n",
       "23  transfer default to Dumplocatie 1970-01-01 06:05:21.493435      4   \n",
       "24                    sailing empty 1970-01-01 06:05:21.493435      0   \n",
       "25                    sailing empty 1970-01-01 06:27:08.657913      0   \n",
       "26    transfer default to Hopper 01 1970-01-01 06:27:08.657913      4   \n",
       "27    transfer default to Hopper 01 1970-01-01 06:27:08.657913      4   \n",
       "28    transfer default to Hopper 01 1970-01-01 07:27:08.657913      4   \n",
       "29    transfer default to Hopper 01 1970-01-01 07:27:08.657913      4   \n",
       "30                   sailing filled 1970-01-01 07:27:08.657913      4   \n",
       "31                   sailing filled 1970-01-01 07:48:55.822391      4   \n",
       "32  transfer default to Dumplocatie 1970-01-01 07:48:55.822391      4   \n",
       "33  transfer default to Dumplocatie 1970-01-01 07:48:55.822391      4   \n",
       "34  transfer default to Dumplocatie 1970-01-01 08:48:55.822391      4   \n",
       "35  transfer default to Dumplocatie 1970-01-01 08:48:55.822391      4   \n",
       "\n",
       "          Geometry                            ActivityID ActivityState  \n",
       "0   POINT (5.1 52)  13a5d792-aa63-11ea-af68-2079183a5c9a         START  \n",
       "1   POINT (5.1 52)  13a5d792-aa63-11ea-af68-2079183a5c9a          STOP  \n",
       "2   POINT (5.1 52)  13a5d793-aa63-11ea-98ff-2079183a5c9a         START  \n",
       "3   POINT (5.1 52)  13a5d793-aa63-11ea-98ff-2079183a5c9a         START  \n",
       "4   POINT (5.1 52)  13a5d793-aa63-11ea-98ff-2079183a5c9a          STOP  \n",
       "5   POINT (5.1 52)  13a5d793-aa63-11ea-98ff-2079183a5c9a          STOP  \n",
       "6   POINT (5.1 52)  13a5d794-aa63-11ea-814a-2079183a5c9a         START  \n",
       "7   POINT (5 52.1)  13a5d794-aa63-11ea-814a-2079183a5c9a          STOP  \n",
       "8   POINT (5 52.1)  13a5d795-aa63-11ea-afe6-2079183a5c9a         START  \n",
       "9   POINT (5 52.1)  13a5d795-aa63-11ea-afe6-2079183a5c9a         START  \n",
       "10  POINT (5 52.1)  13a5d795-aa63-11ea-afe6-2079183a5c9a          STOP  \n",
       "11  POINT (5 52.1)  13a5d795-aa63-11ea-afe6-2079183a5c9a          STOP  \n",
       "12  POINT (5 52.1)  13a5d792-aa63-11ea-af68-2079183a5c9a         START  \n",
       "13  POINT (5.1 52)  13a5d792-aa63-11ea-af68-2079183a5c9a          STOP  \n",
       "14  POINT (5.1 52)  13a5d793-aa63-11ea-98ff-2079183a5c9a         START  \n",
       "15  POINT (5.1 52)  13a5d793-aa63-11ea-98ff-2079183a5c9a         START  \n",
       "16  POINT (5.1 52)  13a5d793-aa63-11ea-98ff-2079183a5c9a          STOP  \n",
       "17  POINT (5.1 52)  13a5d793-aa63-11ea-98ff-2079183a5c9a          STOP  \n",
       "18  POINT (5.1 52)  13a5d794-aa63-11ea-814a-2079183a5c9a         START  \n",
       "19  POINT (5 52.1)  13a5d794-aa63-11ea-814a-2079183a5c9a          STOP  \n",
       "20  POINT (5 52.1)  13a5d795-aa63-11ea-afe6-2079183a5c9a         START  \n",
       "21  POINT (5 52.1)  13a5d795-aa63-11ea-afe6-2079183a5c9a         START  \n",
       "22  POINT (5 52.1)  13a5d795-aa63-11ea-afe6-2079183a5c9a          STOP  \n",
       "23  POINT (5 52.1)  13a5d795-aa63-11ea-afe6-2079183a5c9a          STOP  \n",
       "24  POINT (5 52.1)  13a5d792-aa63-11ea-af68-2079183a5c9a         START  \n",
       "25  POINT (5.1 52)  13a5d792-aa63-11ea-af68-2079183a5c9a          STOP  \n",
       "26  POINT (5.1 52)  13a5d793-aa63-11ea-98ff-2079183a5c9a         START  \n",
       "27  POINT (5.1 52)  13a5d793-aa63-11ea-98ff-2079183a5c9a         START  \n",
       "28  POINT (5.1 52)  13a5d793-aa63-11ea-98ff-2079183a5c9a          STOP  \n",
       "29  POINT (5.1 52)  13a5d793-aa63-11ea-98ff-2079183a5c9a          STOP  \n",
       "30  POINT (5.1 52)  13a5d794-aa63-11ea-814a-2079183a5c9a         START  \n",
       "31  POINT (5 52.1)  13a5d794-aa63-11ea-814a-2079183a5c9a          STOP  \n",
       "32  POINT (5 52.1)  13a5d795-aa63-11ea-afe6-2079183a5c9a         START  \n",
       "33  POINT (5 52.1)  13a5d795-aa63-11ea-afe6-2079183a5c9a         START  \n",
       "34  POINT (5 52.1)  13a5d795-aa63-11ea-afe6-2079183a5c9a          STOP  \n",
       "35  POINT (5 52.1)  13a5d795-aa63-11ea-afe6-2079183a5c9a          STOP  "
      ]
     },
     "execution_count": 9,
     "metadata": {},
     "output_type": "execute_result"
    }
   ],
   "source": [
    "pd.DataFrame(hopper.log)"
   ]
  },
  {
   "cell_type": "code",
   "execution_count": 10,
   "metadata": {},
   "outputs": [
    {
     "name": "stdout",
     "output_type": "stream",
     "text": [
      "{'transfer default to Dumplocatie', 'transfer default to Hopper 01', 'sailing empty', 'sailing filled'}\n",
      "{'transfer default to Dumplocatie', 'sailing empty', 'transfer default to Hopper 02', 'sailing filled'}\n"
     ]
    },
    {
     "data": {
      "text/html": [
       "        <script type=\"text/javascript\">\n",
       "        window.PlotlyConfig = {MathJaxConfig: 'local'};\n",
       "        if (window.MathJax) {MathJax.Hub.Config({SVG: {font: \"STIX-Web\"}});}\n",
       "        if (typeof require !== 'undefined') {\n",
       "        require.undef(\"plotly\");\n",
       "        requirejs.config({\n",
       "            paths: {\n",
       "                'plotly': ['https://cdn.plot.ly/plotly-latest.min']\n",
       "            }\n",
       "        });\n",
       "        require(['plotly'], function(Plotly) {\n",
       "            window._Plotly = Plotly;\n",
       "        });\n",
       "        }\n",
       "        </script>\n",
       "        "
      ]
     },
     "metadata": {},
     "output_type": "display_data"
    },
    {
     "data": {
      "application/vnd.plotly.v1+json": {
       "config": {
        "linkText": "Export to plot.ly",
        "plotlyServerURL": "https://plot.ly",
        "showLink": false
       },
       "data": [
        {
         "connectgaps": false,
         "hoverinfo": "y+name",
         "line": {
          "color": "rgb(0,255,0)",
          "width": 10
         },
         "mode": "lines",
         "name": "transfer default to Dumplocatie",
         "type": "scatter",
         "x": [
          "1970-01-01T02:21:47.164478",
          "1970-01-01T02:21:47.164478",
          "1970-01-01T03:21:47.164478",
          "1970-01-01T03:21:47.164478",
          "1970-01-01T03:21:47.164478",
          "1970-01-01T02:21:47.164478",
          "1970-01-01T02:21:47.164478",
          "1970-01-01T03:21:47.164478",
          "1970-01-01T03:21:47.164478",
          "1970-01-01T03:21:47.164478",
          "1970-01-01T05:05:21.493435",
          "1970-01-01T05:05:21.493435",
          "1970-01-01T06:05:21.493435",
          "1970-01-01T06:05:21.493435",
          "1970-01-01T06:05:21.493435",
          "1970-01-01T05:05:21.493435",
          "1970-01-01T05:05:21.493435",
          "1970-01-01T06:05:21.493435",
          "1970-01-01T06:05:21.493435",
          "1970-01-01T06:05:21.493435",
          "1970-01-01T07:48:55.822391",
          "1970-01-01T07:48:55.822391",
          "1970-01-01T08:48:55.822391",
          "1970-01-01T08:48:55.822391",
          "1970-01-01T08:48:55.822391",
          "1970-01-01T07:48:55.822391",
          "1970-01-01T07:48:55.822391",
          "1970-01-01T08:48:55.822391",
          "1970-01-01T08:48:55.822391",
          "1970-01-01T08:48:55.822391",
          "1970-01-01T03:21:47.164478",
          "1970-01-01T03:21:47.164478",
          "1970-01-01T04:21:47.164478",
          "1970-01-01T04:21:47.164478",
          "1970-01-01T04:21:47.164478",
          "1970-01-01T03:21:47.164478",
          "1970-01-01T03:21:47.164478",
          "1970-01-01T04:21:47.164478",
          "1970-01-01T04:21:47.164478",
          "1970-01-01T04:21:47.164478",
          "1970-01-01T06:05:21.493435",
          "1970-01-01T06:05:21.493435",
          "1970-01-01T07:05:21.493435",
          "1970-01-01T07:05:21.493435",
          "1970-01-01T07:05:21.493435",
          "1970-01-01T06:05:21.493435",
          "1970-01-01T06:05:21.493435",
          "1970-01-01T07:05:21.493435",
          "1970-01-01T07:05:21.493435",
          "1970-01-01T07:05:21.493435"
         ],
         "y": [
          "Hopper 01",
          "Hopper 01",
          "Hopper 01",
          "Hopper 01",
          null,
          "Hopper 01",
          "Hopper 01",
          "Hopper 01",
          "Hopper 01",
          null,
          "Hopper 01",
          "Hopper 01",
          "Hopper 01",
          "Hopper 01",
          null,
          "Hopper 01",
          "Hopper 01",
          "Hopper 01",
          "Hopper 01",
          null,
          "Hopper 01",
          "Hopper 01",
          "Hopper 01",
          "Hopper 01",
          null,
          "Hopper 01",
          "Hopper 01",
          "Hopper 01",
          "Hopper 01",
          null,
          "Hopper 02",
          "Hopper 02",
          "Hopper 02",
          "Hopper 02",
          null,
          "Hopper 02",
          "Hopper 02",
          "Hopper 02",
          "Hopper 02",
          null,
          "Hopper 02",
          "Hopper 02",
          "Hopper 02",
          "Hopper 02",
          null,
          "Hopper 02",
          "Hopper 02",
          "Hopper 02",
          "Hopper 02",
          null
         ]
        },
        {
         "connectgaps": false,
         "hoverinfo": "y+name",
         "line": {
          "color": "rgb(0,218,36)",
          "width": 10
         },
         "mode": "lines",
         "name": "transfer default to Hopper 01",
         "type": "scatter",
         "x": [
          "1970-01-01T01:00:00",
          "1970-01-01T01:00:00",
          "1970-01-01T02:00:00",
          "1970-01-01T02:00:00",
          "1970-01-01T02:00:00",
          "1970-01-01T01:00:00",
          "1970-01-01T01:00:00",
          "1970-01-01T02:00:00",
          "1970-01-01T02:00:00",
          "1970-01-01T02:00:00",
          "1970-01-01T03:43:34.328956",
          "1970-01-01T03:43:34.328956",
          "1970-01-01T04:43:34.328956",
          "1970-01-01T04:43:34.328956",
          "1970-01-01T04:43:34.328956",
          "1970-01-01T03:43:34.328956",
          "1970-01-01T03:43:34.328956",
          "1970-01-01T04:43:34.328956",
          "1970-01-01T04:43:34.328956",
          "1970-01-01T04:43:34.328956",
          "1970-01-01T06:27:08.657913",
          "1970-01-01T06:27:08.657913",
          "1970-01-01T07:27:08.657913",
          "1970-01-01T07:27:08.657913",
          "1970-01-01T07:27:08.657913",
          "1970-01-01T06:27:08.657913",
          "1970-01-01T06:27:08.657913",
          "1970-01-01T07:27:08.657913",
          "1970-01-01T07:27:08.657913",
          "1970-01-01T07:27:08.657913"
         ],
         "y": [
          "Hopper 01",
          "Hopper 01",
          "Hopper 01",
          "Hopper 01",
          null,
          "Hopper 01",
          "Hopper 01",
          "Hopper 01",
          "Hopper 01",
          null,
          "Hopper 01",
          "Hopper 01",
          "Hopper 01",
          "Hopper 01",
          null,
          "Hopper 01",
          "Hopper 01",
          "Hopper 01",
          "Hopper 01",
          null,
          "Hopper 01",
          "Hopper 01",
          "Hopper 01",
          "Hopper 01",
          null,
          "Hopper 01",
          "Hopper 01",
          "Hopper 01",
          "Hopper 01",
          null
         ]
        },
        {
         "connectgaps": false,
         "hoverinfo": "y+name",
         "line": {
          "color": "rgb(0,182,72)",
          "width": 10
         },
         "mode": "lines",
         "name": "sailing empty",
         "type": "scatter",
         "x": [
          "1970-01-01T01:00:00",
          "1970-01-01T01:00:00",
          "1970-01-01T01:00:00",
          "1970-01-01T01:00:00",
          "1970-01-01T01:00:00",
          "1970-01-01T03:21:47.164478",
          "1970-01-01T03:21:47.164478",
          "1970-01-01T03:43:34.328956",
          "1970-01-01T03:43:34.328956",
          "1970-01-01T03:43:34.328956",
          "1970-01-01T06:05:21.493435",
          "1970-01-01T06:05:21.493435",
          "1970-01-01T06:27:08.657913",
          "1970-01-01T06:27:08.657913",
          "1970-01-01T06:27:08.657913",
          "1970-01-01T01:00:00",
          "1970-01-01T01:00:00",
          "1970-01-01T01:00:00",
          "1970-01-01T01:00:00",
          "1970-01-01T01:00:00",
          "1970-01-01T04:21:47.164478",
          "1970-01-01T04:21:47.164478",
          "1970-01-01T04:43:34.328956",
          "1970-01-01T04:43:34.328956",
          "1970-01-01T04:43:34.328956",
          "1970-01-01T07:05:21.493435",
          "1970-01-01T07:05:21.493435",
          "1970-01-01T07:27:08.657913",
          "1970-01-01T07:27:08.657913",
          "1970-01-01T07:27:08.657913"
         ],
         "y": [
          "Hopper 01",
          "Hopper 01",
          "Hopper 01",
          "Hopper 01",
          null,
          "Hopper 01",
          "Hopper 01",
          "Hopper 01",
          "Hopper 01",
          null,
          "Hopper 01",
          "Hopper 01",
          "Hopper 01",
          "Hopper 01",
          null,
          "Hopper 02",
          "Hopper 02",
          "Hopper 02",
          "Hopper 02",
          null,
          "Hopper 02",
          "Hopper 02",
          "Hopper 02",
          "Hopper 02",
          null,
          "Hopper 02",
          "Hopper 02",
          "Hopper 02",
          "Hopper 02",
          null
         ]
        },
        {
         "connectgaps": false,
         "hoverinfo": "y+name",
         "line": {
          "color": "rgb(0,145,109)",
          "width": 10
         },
         "mode": "lines",
         "name": "sailing filled",
         "type": "scatter",
         "x": [
          "1970-01-01T02:00:00",
          "1970-01-01T02:00:00",
          "1970-01-01T02:21:47.164478",
          "1970-01-01T02:21:47.164478",
          "1970-01-01T02:21:47.164478",
          "1970-01-01T04:43:34.328956",
          "1970-01-01T04:43:34.328956",
          "1970-01-01T05:05:21.493435",
          "1970-01-01T05:05:21.493435",
          "1970-01-01T05:05:21.493435",
          "1970-01-01T07:27:08.657913",
          "1970-01-01T07:27:08.657913",
          "1970-01-01T07:48:55.822391",
          "1970-01-01T07:48:55.822391",
          "1970-01-01T07:48:55.822391",
          "1970-01-01T03:00:00",
          "1970-01-01T03:00:00",
          "1970-01-01T03:21:47.164478",
          "1970-01-01T03:21:47.164478",
          "1970-01-01T03:21:47.164478",
          "1970-01-01T05:43:34.328956",
          "1970-01-01T05:43:34.328956",
          "1970-01-01T06:05:21.493435",
          "1970-01-01T06:05:21.493435",
          "1970-01-01T06:05:21.493435",
          "1970-01-01T08:27:08.657913",
          "1970-01-01T08:27:08.657913",
          "1970-01-01T08:48:55.822391",
          "1970-01-01T08:48:55.822391",
          "1970-01-01T08:48:55.822391"
         ],
         "y": [
          "Hopper 01",
          "Hopper 01",
          "Hopper 01",
          "Hopper 01",
          null,
          "Hopper 01",
          "Hopper 01",
          "Hopper 01",
          "Hopper 01",
          null,
          "Hopper 01",
          "Hopper 01",
          "Hopper 01",
          "Hopper 01",
          null,
          "Hopper 02",
          "Hopper 02",
          "Hopper 02",
          "Hopper 02",
          null,
          "Hopper 02",
          "Hopper 02",
          "Hopper 02",
          "Hopper 02",
          null,
          "Hopper 02",
          "Hopper 02",
          "Hopper 02",
          "Hopper 02",
          null
         ]
        },
        {
         "connectgaps": false,
         "hoverinfo": "y+name",
         "line": {
          "color": "rgb(0,109,145)",
          "width": 10
         },
         "mode": "lines",
         "name": "transfer default to Dumplocatie",
         "type": "scatter",
         "x": [
          "1970-01-01T02:21:47.164478",
          "1970-01-01T02:21:47.164478",
          "1970-01-01T03:21:47.164478",
          "1970-01-01T03:21:47.164478",
          "1970-01-01T03:21:47.164478",
          "1970-01-01T02:21:47.164478",
          "1970-01-01T02:21:47.164478",
          "1970-01-01T03:21:47.164478",
          "1970-01-01T03:21:47.164478",
          "1970-01-01T03:21:47.164478",
          "1970-01-01T05:05:21.493435",
          "1970-01-01T05:05:21.493435",
          "1970-01-01T06:05:21.493435",
          "1970-01-01T06:05:21.493435",
          "1970-01-01T06:05:21.493435",
          "1970-01-01T05:05:21.493435",
          "1970-01-01T05:05:21.493435",
          "1970-01-01T06:05:21.493435",
          "1970-01-01T06:05:21.493435",
          "1970-01-01T06:05:21.493435",
          "1970-01-01T07:48:55.822391",
          "1970-01-01T07:48:55.822391",
          "1970-01-01T08:48:55.822391",
          "1970-01-01T08:48:55.822391",
          "1970-01-01T08:48:55.822391",
          "1970-01-01T07:48:55.822391",
          "1970-01-01T07:48:55.822391",
          "1970-01-01T08:48:55.822391",
          "1970-01-01T08:48:55.822391",
          "1970-01-01T08:48:55.822391",
          "1970-01-01T03:21:47.164478",
          "1970-01-01T03:21:47.164478",
          "1970-01-01T04:21:47.164478",
          "1970-01-01T04:21:47.164478",
          "1970-01-01T04:21:47.164478",
          "1970-01-01T03:21:47.164478",
          "1970-01-01T03:21:47.164478",
          "1970-01-01T04:21:47.164478",
          "1970-01-01T04:21:47.164478",
          "1970-01-01T04:21:47.164478",
          "1970-01-01T06:05:21.493435",
          "1970-01-01T06:05:21.493435",
          "1970-01-01T07:05:21.493435",
          "1970-01-01T07:05:21.493435",
          "1970-01-01T07:05:21.493435",
          "1970-01-01T06:05:21.493435",
          "1970-01-01T06:05:21.493435",
          "1970-01-01T07:05:21.493435",
          "1970-01-01T07:05:21.493435",
          "1970-01-01T07:05:21.493435"
         ],
         "y": [
          "Hopper 01",
          "Hopper 01",
          "Hopper 01",
          "Hopper 01",
          null,
          "Hopper 01",
          "Hopper 01",
          "Hopper 01",
          "Hopper 01",
          null,
          "Hopper 01",
          "Hopper 01",
          "Hopper 01",
          "Hopper 01",
          null,
          "Hopper 01",
          "Hopper 01",
          "Hopper 01",
          "Hopper 01",
          null,
          "Hopper 01",
          "Hopper 01",
          "Hopper 01",
          "Hopper 01",
          null,
          "Hopper 01",
          "Hopper 01",
          "Hopper 01",
          "Hopper 01",
          null,
          "Hopper 02",
          "Hopper 02",
          "Hopper 02",
          "Hopper 02",
          null,
          "Hopper 02",
          "Hopper 02",
          "Hopper 02",
          "Hopper 02",
          null,
          "Hopper 02",
          "Hopper 02",
          "Hopper 02",
          "Hopper 02",
          null,
          "Hopper 02",
          "Hopper 02",
          "Hopper 02",
          "Hopper 02",
          null
         ]
        },
        {
         "connectgaps": false,
         "hoverinfo": "y+name",
         "line": {
          "color": "rgb(0,72,182)",
          "width": 10
         },
         "mode": "lines",
         "name": "sailing empty",
         "type": "scatter",
         "x": [
          "1970-01-01T01:00:00",
          "1970-01-01T01:00:00",
          "1970-01-01T01:00:00",
          "1970-01-01T01:00:00",
          "1970-01-01T01:00:00",
          "1970-01-01T03:21:47.164478",
          "1970-01-01T03:21:47.164478",
          "1970-01-01T03:43:34.328956",
          "1970-01-01T03:43:34.328956",
          "1970-01-01T03:43:34.328956",
          "1970-01-01T06:05:21.493435",
          "1970-01-01T06:05:21.493435",
          "1970-01-01T06:27:08.657913",
          "1970-01-01T06:27:08.657913",
          "1970-01-01T06:27:08.657913",
          "1970-01-01T01:00:00",
          "1970-01-01T01:00:00",
          "1970-01-01T01:00:00",
          "1970-01-01T01:00:00",
          "1970-01-01T01:00:00",
          "1970-01-01T04:21:47.164478",
          "1970-01-01T04:21:47.164478",
          "1970-01-01T04:43:34.328956",
          "1970-01-01T04:43:34.328956",
          "1970-01-01T04:43:34.328956",
          "1970-01-01T07:05:21.493435",
          "1970-01-01T07:05:21.493435",
          "1970-01-01T07:27:08.657913",
          "1970-01-01T07:27:08.657913",
          "1970-01-01T07:27:08.657913"
         ],
         "y": [
          "Hopper 01",
          "Hopper 01",
          "Hopper 01",
          "Hopper 01",
          null,
          "Hopper 01",
          "Hopper 01",
          "Hopper 01",
          "Hopper 01",
          null,
          "Hopper 01",
          "Hopper 01",
          "Hopper 01",
          "Hopper 01",
          null,
          "Hopper 02",
          "Hopper 02",
          "Hopper 02",
          "Hopper 02",
          null,
          "Hopper 02",
          "Hopper 02",
          "Hopper 02",
          "Hopper 02",
          null,
          "Hopper 02",
          "Hopper 02",
          "Hopper 02",
          "Hopper 02",
          null
         ]
        },
        {
         "connectgaps": false,
         "hoverinfo": "y+name",
         "line": {
          "color": "rgb(0,36,218)",
          "width": 10
         },
         "mode": "lines",
         "name": "transfer default to Hopper 02",
         "type": "scatter",
         "x": [
          "1970-01-01T02:00:00",
          "1970-01-01T02:00:00",
          "1970-01-01T03:00:00",
          "1970-01-01T03:00:00",
          "1970-01-01T03:00:00",
          "1970-01-01T02:00:00",
          "1970-01-01T02:00:00",
          "1970-01-01T03:00:00",
          "1970-01-01T03:00:00",
          "1970-01-01T03:00:00",
          "1970-01-01T04:43:34.328956",
          "1970-01-01T04:43:34.328956",
          "1970-01-01T05:43:34.328956",
          "1970-01-01T05:43:34.328956",
          "1970-01-01T05:43:34.328956",
          "1970-01-01T04:43:34.328956",
          "1970-01-01T04:43:34.328956",
          "1970-01-01T05:43:34.328956",
          "1970-01-01T05:43:34.328956",
          "1970-01-01T05:43:34.328956",
          "1970-01-01T07:27:08.657913",
          "1970-01-01T07:27:08.657913",
          "1970-01-01T08:27:08.657913",
          "1970-01-01T08:27:08.657913",
          "1970-01-01T08:27:08.657913",
          "1970-01-01T07:27:08.657913",
          "1970-01-01T07:27:08.657913",
          "1970-01-01T08:27:08.657913",
          "1970-01-01T08:27:08.657913",
          "1970-01-01T08:27:08.657913"
         ],
         "y": [
          "Hopper 02",
          "Hopper 02",
          "Hopper 02",
          "Hopper 02",
          null,
          "Hopper 02",
          "Hopper 02",
          "Hopper 02",
          "Hopper 02",
          null,
          "Hopper 02",
          "Hopper 02",
          "Hopper 02",
          "Hopper 02",
          null,
          "Hopper 02",
          "Hopper 02",
          "Hopper 02",
          "Hopper 02",
          null,
          "Hopper 02",
          "Hopper 02",
          "Hopper 02",
          "Hopper 02",
          null,
          "Hopper 02",
          "Hopper 02",
          "Hopper 02",
          "Hopper 02",
          null
         ]
        },
        {
         "connectgaps": false,
         "hoverinfo": "y+name",
         "line": {
          "color": "rgb(0,0,255)",
          "width": 10
         },
         "mode": "lines",
         "name": "sailing filled",
         "type": "scatter",
         "x": [
          "1970-01-01T02:00:00",
          "1970-01-01T02:00:00",
          "1970-01-01T02:21:47.164478",
          "1970-01-01T02:21:47.164478",
          "1970-01-01T02:21:47.164478",
          "1970-01-01T04:43:34.328956",
          "1970-01-01T04:43:34.328956",
          "1970-01-01T05:05:21.493435",
          "1970-01-01T05:05:21.493435",
          "1970-01-01T05:05:21.493435",
          "1970-01-01T07:27:08.657913",
          "1970-01-01T07:27:08.657913",
          "1970-01-01T07:48:55.822391",
          "1970-01-01T07:48:55.822391",
          "1970-01-01T07:48:55.822391",
          "1970-01-01T03:00:00",
          "1970-01-01T03:00:00",
          "1970-01-01T03:21:47.164478",
          "1970-01-01T03:21:47.164478",
          "1970-01-01T03:21:47.164478",
          "1970-01-01T05:43:34.328956",
          "1970-01-01T05:43:34.328956",
          "1970-01-01T06:05:21.493435",
          "1970-01-01T06:05:21.493435",
          "1970-01-01T06:05:21.493435",
          "1970-01-01T08:27:08.657913",
          "1970-01-01T08:27:08.657913",
          "1970-01-01T08:48:55.822391",
          "1970-01-01T08:48:55.822391",
          "1970-01-01T08:48:55.822391"
         ],
         "y": [
          "Hopper 01",
          "Hopper 01",
          "Hopper 01",
          "Hopper 01",
          null,
          "Hopper 01",
          "Hopper 01",
          "Hopper 01",
          "Hopper 01",
          null,
          "Hopper 01",
          "Hopper 01",
          "Hopper 01",
          "Hopper 01",
          null,
          "Hopper 02",
          "Hopper 02",
          "Hopper 02",
          "Hopper 02",
          null,
          "Hopper 02",
          "Hopper 02",
          "Hopper 02",
          "Hopper 02",
          null,
          "Hopper 02",
          "Hopper 02",
          "Hopper 02",
          "Hopper 02",
          null
         ]
        }
       ],
       "layout": {
        "hovermode": "closest",
        "legend": {
         "orientation": "h",
         "x": 0,
         "y": -0.2
        },
        "template": {
         "data": {
          "bar": [
           {
            "error_x": {
             "color": "#2a3f5f"
            },
            "error_y": {
             "color": "#2a3f5f"
            },
            "marker": {
             "line": {
              "color": "#E5ECF6",
              "width": 0.5
             }
            },
            "type": "bar"
           }
          ],
          "barpolar": [
           {
            "marker": {
             "line": {
              "color": "#E5ECF6",
              "width": 0.5
             }
            },
            "type": "barpolar"
           }
          ],
          "carpet": [
           {
            "aaxis": {
             "endlinecolor": "#2a3f5f",
             "gridcolor": "white",
             "linecolor": "white",
             "minorgridcolor": "white",
             "startlinecolor": "#2a3f5f"
            },
            "baxis": {
             "endlinecolor": "#2a3f5f",
             "gridcolor": "white",
             "linecolor": "white",
             "minorgridcolor": "white",
             "startlinecolor": "#2a3f5f"
            },
            "type": "carpet"
           }
          ],
          "choropleth": [
           {
            "colorbar": {
             "outlinewidth": 0,
             "ticks": ""
            },
            "type": "choropleth"
           }
          ],
          "contour": [
           {
            "colorbar": {
             "outlinewidth": 0,
             "ticks": ""
            },
            "colorscale": [
             [
              0,
              "#0d0887"
             ],
             [
              0.1111111111111111,
              "#46039f"
             ],
             [
              0.2222222222222222,
              "#7201a8"
             ],
             [
              0.3333333333333333,
              "#9c179e"
             ],
             [
              0.4444444444444444,
              "#bd3786"
             ],
             [
              0.5555555555555556,
              "#d8576b"
             ],
             [
              0.6666666666666666,
              "#ed7953"
             ],
             [
              0.7777777777777778,
              "#fb9f3a"
             ],
             [
              0.8888888888888888,
              "#fdca26"
             ],
             [
              1,
              "#f0f921"
             ]
            ],
            "type": "contour"
           }
          ],
          "contourcarpet": [
           {
            "colorbar": {
             "outlinewidth": 0,
             "ticks": ""
            },
            "type": "contourcarpet"
           }
          ],
          "heatmap": [
           {
            "colorbar": {
             "outlinewidth": 0,
             "ticks": ""
            },
            "colorscale": [
             [
              0,
              "#0d0887"
             ],
             [
              0.1111111111111111,
              "#46039f"
             ],
             [
              0.2222222222222222,
              "#7201a8"
             ],
             [
              0.3333333333333333,
              "#9c179e"
             ],
             [
              0.4444444444444444,
              "#bd3786"
             ],
             [
              0.5555555555555556,
              "#d8576b"
             ],
             [
              0.6666666666666666,
              "#ed7953"
             ],
             [
              0.7777777777777778,
              "#fb9f3a"
             ],
             [
              0.8888888888888888,
              "#fdca26"
             ],
             [
              1,
              "#f0f921"
             ]
            ],
            "type": "heatmap"
           }
          ],
          "heatmapgl": [
           {
            "colorbar": {
             "outlinewidth": 0,
             "ticks": ""
            },
            "colorscale": [
             [
              0,
              "#0d0887"
             ],
             [
              0.1111111111111111,
              "#46039f"
             ],
             [
              0.2222222222222222,
              "#7201a8"
             ],
             [
              0.3333333333333333,
              "#9c179e"
             ],
             [
              0.4444444444444444,
              "#bd3786"
             ],
             [
              0.5555555555555556,
              "#d8576b"
             ],
             [
              0.6666666666666666,
              "#ed7953"
             ],
             [
              0.7777777777777778,
              "#fb9f3a"
             ],
             [
              0.8888888888888888,
              "#fdca26"
             ],
             [
              1,
              "#f0f921"
             ]
            ],
            "type": "heatmapgl"
           }
          ],
          "histogram": [
           {
            "marker": {
             "colorbar": {
              "outlinewidth": 0,
              "ticks": ""
             }
            },
            "type": "histogram"
           }
          ],
          "histogram2d": [
           {
            "colorbar": {
             "outlinewidth": 0,
             "ticks": ""
            },
            "colorscale": [
             [
              0,
              "#0d0887"
             ],
             [
              0.1111111111111111,
              "#46039f"
             ],
             [
              0.2222222222222222,
              "#7201a8"
             ],
             [
              0.3333333333333333,
              "#9c179e"
             ],
             [
              0.4444444444444444,
              "#bd3786"
             ],
             [
              0.5555555555555556,
              "#d8576b"
             ],
             [
              0.6666666666666666,
              "#ed7953"
             ],
             [
              0.7777777777777778,
              "#fb9f3a"
             ],
             [
              0.8888888888888888,
              "#fdca26"
             ],
             [
              1,
              "#f0f921"
             ]
            ],
            "type": "histogram2d"
           }
          ],
          "histogram2dcontour": [
           {
            "colorbar": {
             "outlinewidth": 0,
             "ticks": ""
            },
            "colorscale": [
             [
              0,
              "#0d0887"
             ],
             [
              0.1111111111111111,
              "#46039f"
             ],
             [
              0.2222222222222222,
              "#7201a8"
             ],
             [
              0.3333333333333333,
              "#9c179e"
             ],
             [
              0.4444444444444444,
              "#bd3786"
             ],
             [
              0.5555555555555556,
              "#d8576b"
             ],
             [
              0.6666666666666666,
              "#ed7953"
             ],
             [
              0.7777777777777778,
              "#fb9f3a"
             ],
             [
              0.8888888888888888,
              "#fdca26"
             ],
             [
              1,
              "#f0f921"
             ]
            ],
            "type": "histogram2dcontour"
           }
          ],
          "mesh3d": [
           {
            "colorbar": {
             "outlinewidth": 0,
             "ticks": ""
            },
            "type": "mesh3d"
           }
          ],
          "parcoords": [
           {
            "line": {
             "colorbar": {
              "outlinewidth": 0,
              "ticks": ""
             }
            },
            "type": "parcoords"
           }
          ],
          "pie": [
           {
            "automargin": true,
            "type": "pie"
           }
          ],
          "scatter": [
           {
            "marker": {
             "colorbar": {
              "outlinewidth": 0,
              "ticks": ""
             }
            },
            "type": "scatter"
           }
          ],
          "scatter3d": [
           {
            "line": {
             "colorbar": {
              "outlinewidth": 0,
              "ticks": ""
             }
            },
            "marker": {
             "colorbar": {
              "outlinewidth": 0,
              "ticks": ""
             }
            },
            "type": "scatter3d"
           }
          ],
          "scattercarpet": [
           {
            "marker": {
             "colorbar": {
              "outlinewidth": 0,
              "ticks": ""
             }
            },
            "type": "scattercarpet"
           }
          ],
          "scattergeo": [
           {
            "marker": {
             "colorbar": {
              "outlinewidth": 0,
              "ticks": ""
             }
            },
            "type": "scattergeo"
           }
          ],
          "scattergl": [
           {
            "marker": {
             "colorbar": {
              "outlinewidth": 0,
              "ticks": ""
             }
            },
            "type": "scattergl"
           }
          ],
          "scattermapbox": [
           {
            "marker": {
             "colorbar": {
              "outlinewidth": 0,
              "ticks": ""
             }
            },
            "type": "scattermapbox"
           }
          ],
          "scatterpolar": [
           {
            "marker": {
             "colorbar": {
              "outlinewidth": 0,
              "ticks": ""
             }
            },
            "type": "scatterpolar"
           }
          ],
          "scatterpolargl": [
           {
            "marker": {
             "colorbar": {
              "outlinewidth": 0,
              "ticks": ""
             }
            },
            "type": "scatterpolargl"
           }
          ],
          "scatterternary": [
           {
            "marker": {
             "colorbar": {
              "outlinewidth": 0,
              "ticks": ""
             }
            },
            "type": "scatterternary"
           }
          ],
          "surface": [
           {
            "colorbar": {
             "outlinewidth": 0,
             "ticks": ""
            },
            "colorscale": [
             [
              0,
              "#0d0887"
             ],
             [
              0.1111111111111111,
              "#46039f"
             ],
             [
              0.2222222222222222,
              "#7201a8"
             ],
             [
              0.3333333333333333,
              "#9c179e"
             ],
             [
              0.4444444444444444,
              "#bd3786"
             ],
             [
              0.5555555555555556,
              "#d8576b"
             ],
             [
              0.6666666666666666,
              "#ed7953"
             ],
             [
              0.7777777777777778,
              "#fb9f3a"
             ],
             [
              0.8888888888888888,
              "#fdca26"
             ],
             [
              1,
              "#f0f921"
             ]
            ],
            "type": "surface"
           }
          ],
          "table": [
           {
            "cells": {
             "fill": {
              "color": "#EBF0F8"
             },
             "line": {
              "color": "white"
             }
            },
            "header": {
             "fill": {
              "color": "#C8D4E3"
             },
             "line": {
              "color": "white"
             }
            },
            "type": "table"
           }
          ]
         },
         "layout": {
          "annotationdefaults": {
           "arrowcolor": "#2a3f5f",
           "arrowhead": 0,
           "arrowwidth": 1
          },
          "coloraxis": {
           "colorbar": {
            "outlinewidth": 0,
            "ticks": ""
           }
          },
          "colorscale": {
           "diverging": [
            [
             0,
             "#8e0152"
            ],
            [
             0.1,
             "#c51b7d"
            ],
            [
             0.2,
             "#de77ae"
            ],
            [
             0.3,
             "#f1b6da"
            ],
            [
             0.4,
             "#fde0ef"
            ],
            [
             0.5,
             "#f7f7f7"
            ],
            [
             0.6,
             "#e6f5d0"
            ],
            [
             0.7,
             "#b8e186"
            ],
            [
             0.8,
             "#7fbc41"
            ],
            [
             0.9,
             "#4d9221"
            ],
            [
             1,
             "#276419"
            ]
           ],
           "sequential": [
            [
             0,
             "#0d0887"
            ],
            [
             0.1111111111111111,
             "#46039f"
            ],
            [
             0.2222222222222222,
             "#7201a8"
            ],
            [
             0.3333333333333333,
             "#9c179e"
            ],
            [
             0.4444444444444444,
             "#bd3786"
            ],
            [
             0.5555555555555556,
             "#d8576b"
            ],
            [
             0.6666666666666666,
             "#ed7953"
            ],
            [
             0.7777777777777778,
             "#fb9f3a"
            ],
            [
             0.8888888888888888,
             "#fdca26"
            ],
            [
             1,
             "#f0f921"
            ]
           ],
           "sequentialminus": [
            [
             0,
             "#0d0887"
            ],
            [
             0.1111111111111111,
             "#46039f"
            ],
            [
             0.2222222222222222,
             "#7201a8"
            ],
            [
             0.3333333333333333,
             "#9c179e"
            ],
            [
             0.4444444444444444,
             "#bd3786"
            ],
            [
             0.5555555555555556,
             "#d8576b"
            ],
            [
             0.6666666666666666,
             "#ed7953"
            ],
            [
             0.7777777777777778,
             "#fb9f3a"
            ],
            [
             0.8888888888888888,
             "#fdca26"
            ],
            [
             1,
             "#f0f921"
            ]
           ]
          },
          "colorway": [
           "#636efa",
           "#EF553B",
           "#00cc96",
           "#ab63fa",
           "#FFA15A",
           "#19d3f3",
           "#FF6692",
           "#B6E880",
           "#FF97FF",
           "#FECB52"
          ],
          "font": {
           "color": "#2a3f5f"
          },
          "geo": {
           "bgcolor": "white",
           "lakecolor": "white",
           "landcolor": "#E5ECF6",
           "showlakes": true,
           "showland": true,
           "subunitcolor": "white"
          },
          "hoverlabel": {
           "align": "left"
          },
          "hovermode": "closest",
          "mapbox": {
           "style": "light"
          },
          "paper_bgcolor": "white",
          "plot_bgcolor": "#E5ECF6",
          "polar": {
           "angularaxis": {
            "gridcolor": "white",
            "linecolor": "white",
            "ticks": ""
           },
           "bgcolor": "#E5ECF6",
           "radialaxis": {
            "gridcolor": "white",
            "linecolor": "white",
            "ticks": ""
           }
          },
          "scene": {
           "xaxis": {
            "backgroundcolor": "#E5ECF6",
            "gridcolor": "white",
            "gridwidth": 2,
            "linecolor": "white",
            "showbackground": true,
            "ticks": "",
            "zerolinecolor": "white"
           },
           "yaxis": {
            "backgroundcolor": "#E5ECF6",
            "gridcolor": "white",
            "gridwidth": 2,
            "linecolor": "white",
            "showbackground": true,
            "ticks": "",
            "zerolinecolor": "white"
           },
           "zaxis": {
            "backgroundcolor": "#E5ECF6",
            "gridcolor": "white",
            "gridwidth": 2,
            "linecolor": "white",
            "showbackground": true,
            "ticks": "",
            "zerolinecolor": "white"
           }
          },
          "shapedefaults": {
           "line": {
            "color": "#2a3f5f"
           }
          },
          "ternary": {
           "aaxis": {
            "gridcolor": "white",
            "linecolor": "white",
            "ticks": ""
           },
           "baxis": {
            "gridcolor": "white",
            "linecolor": "white",
            "ticks": ""
           },
           "bgcolor": "#E5ECF6",
           "caxis": {
            "gridcolor": "white",
            "linecolor": "white",
            "ticks": ""
           }
          },
          "title": {
           "x": 0.05
          },
          "xaxis": {
           "automargin": true,
           "gridcolor": "white",
           "linecolor": "white",
           "ticks": "",
           "title": {
            "standoff": 15
           },
           "zerolinecolor": "white",
           "zerolinewidth": 2
          },
          "yaxis": {
           "automargin": true,
           "gridcolor": "white",
           "linecolor": "white",
           "ticks": "",
           "title": {
            "standoff": 15
           },
           "zerolinecolor": "white",
           "zerolinewidth": 2
          }
         }
        },
        "title": {
         "text": "Vessel planning"
        },
        "xaxis": {
         "range": [
          "1970-01-01T01:00:00",
          "1970-01-01T12:48:55.822391"
         ],
         "title": {
          "font": {
           "color": "#7f7f7f",
           "family": "Courier New, monospace",
           "size": 18
          },
          "text": "Time"
         }
        },
        "yaxis": {
         "title": {
          "font": {
           "color": "#7f7f7f",
           "family": "Courier New, monospace",
           "size": 18
          },
          "text": "Vessels"
         }
        }
       }
      },
      "text/html": [
       "<div>\n",
       "        \n",
       "        \n",
       "            <div id=\"b2da5af3-f224-4769-bbbe-a5cc5e2f16a2\" class=\"plotly-graph-div\" style=\"height:525px; width:100%;\"></div>\n",
       "            <script type=\"text/javascript\">\n",
       "                require([\"plotly\"], function(Plotly) {\n",
       "                    window.PLOTLYENV=window.PLOTLYENV || {};\n",
       "                    \n",
       "                if (document.getElementById(\"b2da5af3-f224-4769-bbbe-a5cc5e2f16a2\")) {\n",
       "                    Plotly.newPlot(\n",
       "                        'b2da5af3-f224-4769-bbbe-a5cc5e2f16a2',\n",
       "                        [{\"connectgaps\": false, \"hoverinfo\": \"y+name\", \"line\": {\"color\": \"rgb(0,255,0)\", \"width\": 10}, \"mode\": \"lines\", \"name\": \"transfer default to Dumplocatie\", \"type\": \"scatter\", \"x\": [\"1970-01-01T02:21:47.164478\", \"1970-01-01T02:21:47.164478\", \"1970-01-01T03:21:47.164478\", \"1970-01-01T03:21:47.164478\", \"1970-01-01T03:21:47.164478\", \"1970-01-01T02:21:47.164478\", \"1970-01-01T02:21:47.164478\", \"1970-01-01T03:21:47.164478\", \"1970-01-01T03:21:47.164478\", \"1970-01-01T03:21:47.164478\", \"1970-01-01T05:05:21.493435\", \"1970-01-01T05:05:21.493435\", \"1970-01-01T06:05:21.493435\", \"1970-01-01T06:05:21.493435\", \"1970-01-01T06:05:21.493435\", \"1970-01-01T05:05:21.493435\", \"1970-01-01T05:05:21.493435\", \"1970-01-01T06:05:21.493435\", \"1970-01-01T06:05:21.493435\", \"1970-01-01T06:05:21.493435\", \"1970-01-01T07:48:55.822391\", \"1970-01-01T07:48:55.822391\", \"1970-01-01T08:48:55.822391\", \"1970-01-01T08:48:55.822391\", \"1970-01-01T08:48:55.822391\", \"1970-01-01T07:48:55.822391\", \"1970-01-01T07:48:55.822391\", \"1970-01-01T08:48:55.822391\", \"1970-01-01T08:48:55.822391\", \"1970-01-01T08:48:55.822391\", \"1970-01-01T03:21:47.164478\", \"1970-01-01T03:21:47.164478\", \"1970-01-01T04:21:47.164478\", \"1970-01-01T04:21:47.164478\", \"1970-01-01T04:21:47.164478\", \"1970-01-01T03:21:47.164478\", \"1970-01-01T03:21:47.164478\", \"1970-01-01T04:21:47.164478\", \"1970-01-01T04:21:47.164478\", \"1970-01-01T04:21:47.164478\", \"1970-01-01T06:05:21.493435\", \"1970-01-01T06:05:21.493435\", \"1970-01-01T07:05:21.493435\", \"1970-01-01T07:05:21.493435\", \"1970-01-01T07:05:21.493435\", \"1970-01-01T06:05:21.493435\", \"1970-01-01T06:05:21.493435\", \"1970-01-01T07:05:21.493435\", \"1970-01-01T07:05:21.493435\", \"1970-01-01T07:05:21.493435\"], \"y\": [\"Hopper 01\", \"Hopper 01\", \"Hopper 01\", \"Hopper 01\", null, \"Hopper 01\", \"Hopper 01\", \"Hopper 01\", \"Hopper 01\", null, \"Hopper 01\", \"Hopper 01\", \"Hopper 01\", \"Hopper 01\", null, \"Hopper 01\", \"Hopper 01\", \"Hopper 01\", \"Hopper 01\", null, \"Hopper 01\", \"Hopper 01\", \"Hopper 01\", \"Hopper 01\", null, \"Hopper 01\", \"Hopper 01\", \"Hopper 01\", \"Hopper 01\", null, \"Hopper 02\", \"Hopper 02\", \"Hopper 02\", \"Hopper 02\", null, \"Hopper 02\", \"Hopper 02\", \"Hopper 02\", \"Hopper 02\", null, \"Hopper 02\", \"Hopper 02\", \"Hopper 02\", \"Hopper 02\", null, \"Hopper 02\", \"Hopper 02\", \"Hopper 02\", \"Hopper 02\", null]}, {\"connectgaps\": false, \"hoverinfo\": \"y+name\", \"line\": {\"color\": \"rgb(0,218,36)\", \"width\": 10}, \"mode\": \"lines\", \"name\": \"transfer default to Hopper 01\", \"type\": \"scatter\", \"x\": [\"1970-01-01T01:00:00\", \"1970-01-01T01:00:00\", \"1970-01-01T02:00:00\", \"1970-01-01T02:00:00\", \"1970-01-01T02:00:00\", \"1970-01-01T01:00:00\", \"1970-01-01T01:00:00\", \"1970-01-01T02:00:00\", \"1970-01-01T02:00:00\", \"1970-01-01T02:00:00\", \"1970-01-01T03:43:34.328956\", \"1970-01-01T03:43:34.328956\", \"1970-01-01T04:43:34.328956\", \"1970-01-01T04:43:34.328956\", \"1970-01-01T04:43:34.328956\", \"1970-01-01T03:43:34.328956\", \"1970-01-01T03:43:34.328956\", \"1970-01-01T04:43:34.328956\", \"1970-01-01T04:43:34.328956\", \"1970-01-01T04:43:34.328956\", \"1970-01-01T06:27:08.657913\", \"1970-01-01T06:27:08.657913\", \"1970-01-01T07:27:08.657913\", \"1970-01-01T07:27:08.657913\", \"1970-01-01T07:27:08.657913\", \"1970-01-01T06:27:08.657913\", \"1970-01-01T06:27:08.657913\", \"1970-01-01T07:27:08.657913\", \"1970-01-01T07:27:08.657913\", \"1970-01-01T07:27:08.657913\"], \"y\": [\"Hopper 01\", \"Hopper 01\", \"Hopper 01\", \"Hopper 01\", null, \"Hopper 01\", \"Hopper 01\", \"Hopper 01\", \"Hopper 01\", null, \"Hopper 01\", \"Hopper 01\", \"Hopper 01\", \"Hopper 01\", null, \"Hopper 01\", \"Hopper 01\", \"Hopper 01\", \"Hopper 01\", null, \"Hopper 01\", \"Hopper 01\", \"Hopper 01\", \"Hopper 01\", null, \"Hopper 01\", \"Hopper 01\", \"Hopper 01\", \"Hopper 01\", null]}, {\"connectgaps\": false, \"hoverinfo\": \"y+name\", \"line\": {\"color\": \"rgb(0,182,72)\", \"width\": 10}, \"mode\": \"lines\", \"name\": \"sailing empty\", \"type\": \"scatter\", \"x\": [\"1970-01-01T01:00:00\", \"1970-01-01T01:00:00\", \"1970-01-01T01:00:00\", \"1970-01-01T01:00:00\", \"1970-01-01T01:00:00\", \"1970-01-01T03:21:47.164478\", \"1970-01-01T03:21:47.164478\", \"1970-01-01T03:43:34.328956\", \"1970-01-01T03:43:34.328956\", \"1970-01-01T03:43:34.328956\", \"1970-01-01T06:05:21.493435\", \"1970-01-01T06:05:21.493435\", \"1970-01-01T06:27:08.657913\", \"1970-01-01T06:27:08.657913\", \"1970-01-01T06:27:08.657913\", \"1970-01-01T01:00:00\", \"1970-01-01T01:00:00\", \"1970-01-01T01:00:00\", \"1970-01-01T01:00:00\", \"1970-01-01T01:00:00\", \"1970-01-01T04:21:47.164478\", \"1970-01-01T04:21:47.164478\", \"1970-01-01T04:43:34.328956\", \"1970-01-01T04:43:34.328956\", \"1970-01-01T04:43:34.328956\", \"1970-01-01T07:05:21.493435\", \"1970-01-01T07:05:21.493435\", \"1970-01-01T07:27:08.657913\", \"1970-01-01T07:27:08.657913\", \"1970-01-01T07:27:08.657913\"], \"y\": [\"Hopper 01\", \"Hopper 01\", \"Hopper 01\", \"Hopper 01\", null, \"Hopper 01\", \"Hopper 01\", \"Hopper 01\", \"Hopper 01\", null, \"Hopper 01\", \"Hopper 01\", \"Hopper 01\", \"Hopper 01\", null, \"Hopper 02\", \"Hopper 02\", \"Hopper 02\", \"Hopper 02\", null, \"Hopper 02\", \"Hopper 02\", \"Hopper 02\", \"Hopper 02\", null, \"Hopper 02\", \"Hopper 02\", \"Hopper 02\", \"Hopper 02\", null]}, {\"connectgaps\": false, \"hoverinfo\": \"y+name\", \"line\": {\"color\": \"rgb(0,145,109)\", \"width\": 10}, \"mode\": \"lines\", \"name\": \"sailing filled\", \"type\": \"scatter\", \"x\": [\"1970-01-01T02:00:00\", \"1970-01-01T02:00:00\", \"1970-01-01T02:21:47.164478\", \"1970-01-01T02:21:47.164478\", \"1970-01-01T02:21:47.164478\", \"1970-01-01T04:43:34.328956\", \"1970-01-01T04:43:34.328956\", \"1970-01-01T05:05:21.493435\", \"1970-01-01T05:05:21.493435\", \"1970-01-01T05:05:21.493435\", \"1970-01-01T07:27:08.657913\", \"1970-01-01T07:27:08.657913\", \"1970-01-01T07:48:55.822391\", \"1970-01-01T07:48:55.822391\", \"1970-01-01T07:48:55.822391\", \"1970-01-01T03:00:00\", \"1970-01-01T03:00:00\", \"1970-01-01T03:21:47.164478\", \"1970-01-01T03:21:47.164478\", \"1970-01-01T03:21:47.164478\", \"1970-01-01T05:43:34.328956\", \"1970-01-01T05:43:34.328956\", \"1970-01-01T06:05:21.493435\", \"1970-01-01T06:05:21.493435\", \"1970-01-01T06:05:21.493435\", \"1970-01-01T08:27:08.657913\", \"1970-01-01T08:27:08.657913\", \"1970-01-01T08:48:55.822391\", \"1970-01-01T08:48:55.822391\", \"1970-01-01T08:48:55.822391\"], \"y\": [\"Hopper 01\", \"Hopper 01\", \"Hopper 01\", \"Hopper 01\", null, \"Hopper 01\", \"Hopper 01\", \"Hopper 01\", \"Hopper 01\", null, \"Hopper 01\", \"Hopper 01\", \"Hopper 01\", \"Hopper 01\", null, \"Hopper 02\", \"Hopper 02\", \"Hopper 02\", \"Hopper 02\", null, \"Hopper 02\", \"Hopper 02\", \"Hopper 02\", \"Hopper 02\", null, \"Hopper 02\", \"Hopper 02\", \"Hopper 02\", \"Hopper 02\", null]}, {\"connectgaps\": false, \"hoverinfo\": \"y+name\", \"line\": {\"color\": \"rgb(0,109,145)\", \"width\": 10}, \"mode\": \"lines\", \"name\": \"transfer default to Dumplocatie\", \"type\": \"scatter\", \"x\": [\"1970-01-01T02:21:47.164478\", \"1970-01-01T02:21:47.164478\", \"1970-01-01T03:21:47.164478\", \"1970-01-01T03:21:47.164478\", \"1970-01-01T03:21:47.164478\", \"1970-01-01T02:21:47.164478\", \"1970-01-01T02:21:47.164478\", \"1970-01-01T03:21:47.164478\", \"1970-01-01T03:21:47.164478\", \"1970-01-01T03:21:47.164478\", \"1970-01-01T05:05:21.493435\", \"1970-01-01T05:05:21.493435\", \"1970-01-01T06:05:21.493435\", \"1970-01-01T06:05:21.493435\", \"1970-01-01T06:05:21.493435\", \"1970-01-01T05:05:21.493435\", \"1970-01-01T05:05:21.493435\", \"1970-01-01T06:05:21.493435\", \"1970-01-01T06:05:21.493435\", \"1970-01-01T06:05:21.493435\", \"1970-01-01T07:48:55.822391\", \"1970-01-01T07:48:55.822391\", \"1970-01-01T08:48:55.822391\", \"1970-01-01T08:48:55.822391\", \"1970-01-01T08:48:55.822391\", \"1970-01-01T07:48:55.822391\", \"1970-01-01T07:48:55.822391\", \"1970-01-01T08:48:55.822391\", \"1970-01-01T08:48:55.822391\", \"1970-01-01T08:48:55.822391\", \"1970-01-01T03:21:47.164478\", \"1970-01-01T03:21:47.164478\", \"1970-01-01T04:21:47.164478\", \"1970-01-01T04:21:47.164478\", \"1970-01-01T04:21:47.164478\", \"1970-01-01T03:21:47.164478\", \"1970-01-01T03:21:47.164478\", \"1970-01-01T04:21:47.164478\", \"1970-01-01T04:21:47.164478\", \"1970-01-01T04:21:47.164478\", \"1970-01-01T06:05:21.493435\", \"1970-01-01T06:05:21.493435\", \"1970-01-01T07:05:21.493435\", \"1970-01-01T07:05:21.493435\", \"1970-01-01T07:05:21.493435\", \"1970-01-01T06:05:21.493435\", \"1970-01-01T06:05:21.493435\", \"1970-01-01T07:05:21.493435\", \"1970-01-01T07:05:21.493435\", \"1970-01-01T07:05:21.493435\"], \"y\": [\"Hopper 01\", \"Hopper 01\", \"Hopper 01\", \"Hopper 01\", null, \"Hopper 01\", \"Hopper 01\", \"Hopper 01\", \"Hopper 01\", null, \"Hopper 01\", \"Hopper 01\", \"Hopper 01\", \"Hopper 01\", null, \"Hopper 01\", \"Hopper 01\", \"Hopper 01\", \"Hopper 01\", null, \"Hopper 01\", \"Hopper 01\", \"Hopper 01\", \"Hopper 01\", null, \"Hopper 01\", \"Hopper 01\", \"Hopper 01\", \"Hopper 01\", null, \"Hopper 02\", \"Hopper 02\", \"Hopper 02\", \"Hopper 02\", null, \"Hopper 02\", \"Hopper 02\", \"Hopper 02\", \"Hopper 02\", null, \"Hopper 02\", \"Hopper 02\", \"Hopper 02\", \"Hopper 02\", null, \"Hopper 02\", \"Hopper 02\", \"Hopper 02\", \"Hopper 02\", null]}, {\"connectgaps\": false, \"hoverinfo\": \"y+name\", \"line\": {\"color\": \"rgb(0,72,182)\", \"width\": 10}, \"mode\": \"lines\", \"name\": \"sailing empty\", \"type\": \"scatter\", \"x\": [\"1970-01-01T01:00:00\", \"1970-01-01T01:00:00\", \"1970-01-01T01:00:00\", \"1970-01-01T01:00:00\", \"1970-01-01T01:00:00\", \"1970-01-01T03:21:47.164478\", \"1970-01-01T03:21:47.164478\", \"1970-01-01T03:43:34.328956\", \"1970-01-01T03:43:34.328956\", \"1970-01-01T03:43:34.328956\", \"1970-01-01T06:05:21.493435\", \"1970-01-01T06:05:21.493435\", \"1970-01-01T06:27:08.657913\", \"1970-01-01T06:27:08.657913\", \"1970-01-01T06:27:08.657913\", \"1970-01-01T01:00:00\", \"1970-01-01T01:00:00\", \"1970-01-01T01:00:00\", \"1970-01-01T01:00:00\", \"1970-01-01T01:00:00\", \"1970-01-01T04:21:47.164478\", \"1970-01-01T04:21:47.164478\", \"1970-01-01T04:43:34.328956\", \"1970-01-01T04:43:34.328956\", \"1970-01-01T04:43:34.328956\", \"1970-01-01T07:05:21.493435\", \"1970-01-01T07:05:21.493435\", \"1970-01-01T07:27:08.657913\", \"1970-01-01T07:27:08.657913\", \"1970-01-01T07:27:08.657913\"], \"y\": [\"Hopper 01\", \"Hopper 01\", \"Hopper 01\", \"Hopper 01\", null, \"Hopper 01\", \"Hopper 01\", \"Hopper 01\", \"Hopper 01\", null, \"Hopper 01\", \"Hopper 01\", \"Hopper 01\", \"Hopper 01\", null, \"Hopper 02\", \"Hopper 02\", \"Hopper 02\", \"Hopper 02\", null, \"Hopper 02\", \"Hopper 02\", \"Hopper 02\", \"Hopper 02\", null, \"Hopper 02\", \"Hopper 02\", \"Hopper 02\", \"Hopper 02\", null]}, {\"connectgaps\": false, \"hoverinfo\": \"y+name\", \"line\": {\"color\": \"rgb(0,36,218)\", \"width\": 10}, \"mode\": \"lines\", \"name\": \"transfer default to Hopper 02\", \"type\": \"scatter\", \"x\": [\"1970-01-01T02:00:00\", \"1970-01-01T02:00:00\", \"1970-01-01T03:00:00\", \"1970-01-01T03:00:00\", \"1970-01-01T03:00:00\", \"1970-01-01T02:00:00\", \"1970-01-01T02:00:00\", \"1970-01-01T03:00:00\", \"1970-01-01T03:00:00\", \"1970-01-01T03:00:00\", \"1970-01-01T04:43:34.328956\", \"1970-01-01T04:43:34.328956\", \"1970-01-01T05:43:34.328956\", \"1970-01-01T05:43:34.328956\", \"1970-01-01T05:43:34.328956\", \"1970-01-01T04:43:34.328956\", \"1970-01-01T04:43:34.328956\", \"1970-01-01T05:43:34.328956\", \"1970-01-01T05:43:34.328956\", \"1970-01-01T05:43:34.328956\", \"1970-01-01T07:27:08.657913\", \"1970-01-01T07:27:08.657913\", \"1970-01-01T08:27:08.657913\", \"1970-01-01T08:27:08.657913\", \"1970-01-01T08:27:08.657913\", \"1970-01-01T07:27:08.657913\", \"1970-01-01T07:27:08.657913\", \"1970-01-01T08:27:08.657913\", \"1970-01-01T08:27:08.657913\", \"1970-01-01T08:27:08.657913\"], \"y\": [\"Hopper 02\", \"Hopper 02\", \"Hopper 02\", \"Hopper 02\", null, \"Hopper 02\", \"Hopper 02\", \"Hopper 02\", \"Hopper 02\", null, \"Hopper 02\", \"Hopper 02\", \"Hopper 02\", \"Hopper 02\", null, \"Hopper 02\", \"Hopper 02\", \"Hopper 02\", \"Hopper 02\", null, \"Hopper 02\", \"Hopper 02\", \"Hopper 02\", \"Hopper 02\", null, \"Hopper 02\", \"Hopper 02\", \"Hopper 02\", \"Hopper 02\", null]}, {\"connectgaps\": false, \"hoverinfo\": \"y+name\", \"line\": {\"color\": \"rgb(0,0,255)\", \"width\": 10}, \"mode\": \"lines\", \"name\": \"sailing filled\", \"type\": \"scatter\", \"x\": [\"1970-01-01T02:00:00\", \"1970-01-01T02:00:00\", \"1970-01-01T02:21:47.164478\", \"1970-01-01T02:21:47.164478\", \"1970-01-01T02:21:47.164478\", \"1970-01-01T04:43:34.328956\", \"1970-01-01T04:43:34.328956\", \"1970-01-01T05:05:21.493435\", \"1970-01-01T05:05:21.493435\", \"1970-01-01T05:05:21.493435\", \"1970-01-01T07:27:08.657913\", \"1970-01-01T07:27:08.657913\", \"1970-01-01T07:48:55.822391\", \"1970-01-01T07:48:55.822391\", \"1970-01-01T07:48:55.822391\", \"1970-01-01T03:00:00\", \"1970-01-01T03:00:00\", \"1970-01-01T03:21:47.164478\", \"1970-01-01T03:21:47.164478\", \"1970-01-01T03:21:47.164478\", \"1970-01-01T05:43:34.328956\", \"1970-01-01T05:43:34.328956\", \"1970-01-01T06:05:21.493435\", \"1970-01-01T06:05:21.493435\", \"1970-01-01T06:05:21.493435\", \"1970-01-01T08:27:08.657913\", \"1970-01-01T08:27:08.657913\", \"1970-01-01T08:48:55.822391\", \"1970-01-01T08:48:55.822391\", \"1970-01-01T08:48:55.822391\"], \"y\": [\"Hopper 01\", \"Hopper 01\", \"Hopper 01\", \"Hopper 01\", null, \"Hopper 01\", \"Hopper 01\", \"Hopper 01\", \"Hopper 01\", null, \"Hopper 01\", \"Hopper 01\", \"Hopper 01\", \"Hopper 01\", null, \"Hopper 02\", \"Hopper 02\", \"Hopper 02\", \"Hopper 02\", null, \"Hopper 02\", \"Hopper 02\", \"Hopper 02\", \"Hopper 02\", null, \"Hopper 02\", \"Hopper 02\", \"Hopper 02\", \"Hopper 02\", null]}],\n",
       "                        {\"hovermode\": \"closest\", \"legend\": {\"orientation\": \"h\", \"x\": 0, \"y\": -0.2}, \"template\": {\"data\": {\"bar\": [{\"error_x\": {\"color\": \"#2a3f5f\"}, \"error_y\": {\"color\": \"#2a3f5f\"}, \"marker\": {\"line\": {\"color\": \"#E5ECF6\", \"width\": 0.5}}, \"type\": \"bar\"}], \"barpolar\": [{\"marker\": {\"line\": {\"color\": \"#E5ECF6\", \"width\": 0.5}}, \"type\": \"barpolar\"}], \"carpet\": [{\"aaxis\": {\"endlinecolor\": \"#2a3f5f\", \"gridcolor\": \"white\", \"linecolor\": \"white\", \"minorgridcolor\": \"white\", \"startlinecolor\": \"#2a3f5f\"}, \"baxis\": {\"endlinecolor\": \"#2a3f5f\", \"gridcolor\": \"white\", \"linecolor\": \"white\", \"minorgridcolor\": \"white\", \"startlinecolor\": \"#2a3f5f\"}, \"type\": \"carpet\"}], \"choropleth\": [{\"colorbar\": {\"outlinewidth\": 0, \"ticks\": \"\"}, \"type\": \"choropleth\"}], \"contour\": [{\"colorbar\": {\"outlinewidth\": 0, \"ticks\": \"\"}, \"colorscale\": [[0.0, \"#0d0887\"], [0.1111111111111111, \"#46039f\"], [0.2222222222222222, \"#7201a8\"], [0.3333333333333333, \"#9c179e\"], [0.4444444444444444, \"#bd3786\"], [0.5555555555555556, \"#d8576b\"], [0.6666666666666666, \"#ed7953\"], [0.7777777777777778, \"#fb9f3a\"], [0.8888888888888888, \"#fdca26\"], [1.0, \"#f0f921\"]], \"type\": \"contour\"}], \"contourcarpet\": [{\"colorbar\": {\"outlinewidth\": 0, \"ticks\": \"\"}, \"type\": \"contourcarpet\"}], \"heatmap\": [{\"colorbar\": {\"outlinewidth\": 0, \"ticks\": \"\"}, \"colorscale\": [[0.0, \"#0d0887\"], [0.1111111111111111, \"#46039f\"], [0.2222222222222222, \"#7201a8\"], [0.3333333333333333, \"#9c179e\"], [0.4444444444444444, \"#bd3786\"], [0.5555555555555556, \"#d8576b\"], [0.6666666666666666, \"#ed7953\"], [0.7777777777777778, \"#fb9f3a\"], [0.8888888888888888, \"#fdca26\"], [1.0, \"#f0f921\"]], \"type\": \"heatmap\"}], \"heatmapgl\": [{\"colorbar\": {\"outlinewidth\": 0, \"ticks\": \"\"}, \"colorscale\": [[0.0, \"#0d0887\"], [0.1111111111111111, \"#46039f\"], [0.2222222222222222, \"#7201a8\"], [0.3333333333333333, \"#9c179e\"], [0.4444444444444444, \"#bd3786\"], [0.5555555555555556, \"#d8576b\"], [0.6666666666666666, \"#ed7953\"], [0.7777777777777778, \"#fb9f3a\"], [0.8888888888888888, \"#fdca26\"], [1.0, \"#f0f921\"]], \"type\": \"heatmapgl\"}], \"histogram\": [{\"marker\": {\"colorbar\": {\"outlinewidth\": 0, \"ticks\": \"\"}}, \"type\": \"histogram\"}], \"histogram2d\": [{\"colorbar\": {\"outlinewidth\": 0, \"ticks\": \"\"}, \"colorscale\": [[0.0, \"#0d0887\"], [0.1111111111111111, \"#46039f\"], [0.2222222222222222, \"#7201a8\"], [0.3333333333333333, \"#9c179e\"], [0.4444444444444444, \"#bd3786\"], [0.5555555555555556, \"#d8576b\"], [0.6666666666666666, \"#ed7953\"], [0.7777777777777778, \"#fb9f3a\"], [0.8888888888888888, \"#fdca26\"], [1.0, \"#f0f921\"]], \"type\": \"histogram2d\"}], \"histogram2dcontour\": [{\"colorbar\": {\"outlinewidth\": 0, \"ticks\": \"\"}, \"colorscale\": [[0.0, \"#0d0887\"], [0.1111111111111111, \"#46039f\"], [0.2222222222222222, \"#7201a8\"], [0.3333333333333333, \"#9c179e\"], [0.4444444444444444, \"#bd3786\"], [0.5555555555555556, \"#d8576b\"], [0.6666666666666666, \"#ed7953\"], [0.7777777777777778, \"#fb9f3a\"], [0.8888888888888888, \"#fdca26\"], [1.0, \"#f0f921\"]], \"type\": \"histogram2dcontour\"}], \"mesh3d\": [{\"colorbar\": {\"outlinewidth\": 0, \"ticks\": \"\"}, \"type\": \"mesh3d\"}], \"parcoords\": [{\"line\": {\"colorbar\": {\"outlinewidth\": 0, \"ticks\": \"\"}}, \"type\": \"parcoords\"}], \"pie\": [{\"automargin\": true, \"type\": \"pie\"}], \"scatter\": [{\"marker\": {\"colorbar\": {\"outlinewidth\": 0, \"ticks\": \"\"}}, \"type\": \"scatter\"}], \"scatter3d\": [{\"line\": {\"colorbar\": {\"outlinewidth\": 0, \"ticks\": \"\"}}, \"marker\": {\"colorbar\": {\"outlinewidth\": 0, \"ticks\": \"\"}}, \"type\": \"scatter3d\"}], \"scattercarpet\": [{\"marker\": {\"colorbar\": {\"outlinewidth\": 0, \"ticks\": \"\"}}, \"type\": \"scattercarpet\"}], \"scattergeo\": [{\"marker\": {\"colorbar\": {\"outlinewidth\": 0, \"ticks\": \"\"}}, \"type\": \"scattergeo\"}], \"scattergl\": [{\"marker\": {\"colorbar\": {\"outlinewidth\": 0, \"ticks\": \"\"}}, \"type\": \"scattergl\"}], \"scattermapbox\": [{\"marker\": {\"colorbar\": {\"outlinewidth\": 0, \"ticks\": \"\"}}, \"type\": \"scattermapbox\"}], \"scatterpolar\": [{\"marker\": {\"colorbar\": {\"outlinewidth\": 0, \"ticks\": \"\"}}, \"type\": \"scatterpolar\"}], \"scatterpolargl\": [{\"marker\": {\"colorbar\": {\"outlinewidth\": 0, \"ticks\": \"\"}}, \"type\": \"scatterpolargl\"}], \"scatterternary\": [{\"marker\": {\"colorbar\": {\"outlinewidth\": 0, \"ticks\": \"\"}}, \"type\": \"scatterternary\"}], \"surface\": [{\"colorbar\": {\"outlinewidth\": 0, \"ticks\": \"\"}, \"colorscale\": [[0.0, \"#0d0887\"], [0.1111111111111111, \"#46039f\"], [0.2222222222222222, \"#7201a8\"], [0.3333333333333333, \"#9c179e\"], [0.4444444444444444, \"#bd3786\"], [0.5555555555555556, \"#d8576b\"], [0.6666666666666666, \"#ed7953\"], [0.7777777777777778, \"#fb9f3a\"], [0.8888888888888888, \"#fdca26\"], [1.0, \"#f0f921\"]], \"type\": \"surface\"}], \"table\": [{\"cells\": {\"fill\": {\"color\": \"#EBF0F8\"}, \"line\": {\"color\": \"white\"}}, \"header\": {\"fill\": {\"color\": \"#C8D4E3\"}, \"line\": {\"color\": \"white\"}}, \"type\": \"table\"}]}, \"layout\": {\"annotationdefaults\": {\"arrowcolor\": \"#2a3f5f\", \"arrowhead\": 0, \"arrowwidth\": 1}, \"coloraxis\": {\"colorbar\": {\"outlinewidth\": 0, \"ticks\": \"\"}}, \"colorscale\": {\"diverging\": [[0, \"#8e0152\"], [0.1, \"#c51b7d\"], [0.2, \"#de77ae\"], [0.3, \"#f1b6da\"], [0.4, \"#fde0ef\"], [0.5, \"#f7f7f7\"], [0.6, \"#e6f5d0\"], [0.7, \"#b8e186\"], [0.8, \"#7fbc41\"], [0.9, \"#4d9221\"], [1, \"#276419\"]], \"sequential\": [[0.0, \"#0d0887\"], [0.1111111111111111, \"#46039f\"], [0.2222222222222222, \"#7201a8\"], [0.3333333333333333, \"#9c179e\"], [0.4444444444444444, \"#bd3786\"], [0.5555555555555556, \"#d8576b\"], [0.6666666666666666, \"#ed7953\"], [0.7777777777777778, \"#fb9f3a\"], [0.8888888888888888, \"#fdca26\"], [1.0, \"#f0f921\"]], \"sequentialminus\": [[0.0, \"#0d0887\"], [0.1111111111111111, \"#46039f\"], [0.2222222222222222, \"#7201a8\"], [0.3333333333333333, \"#9c179e\"], [0.4444444444444444, \"#bd3786\"], [0.5555555555555556, \"#d8576b\"], [0.6666666666666666, \"#ed7953\"], [0.7777777777777778, \"#fb9f3a\"], [0.8888888888888888, \"#fdca26\"], [1.0, \"#f0f921\"]]}, \"colorway\": [\"#636efa\", \"#EF553B\", \"#00cc96\", \"#ab63fa\", \"#FFA15A\", \"#19d3f3\", \"#FF6692\", \"#B6E880\", \"#FF97FF\", \"#FECB52\"], \"font\": {\"color\": \"#2a3f5f\"}, \"geo\": {\"bgcolor\": \"white\", \"lakecolor\": \"white\", \"landcolor\": \"#E5ECF6\", \"showlakes\": true, \"showland\": true, \"subunitcolor\": \"white\"}, \"hoverlabel\": {\"align\": \"left\"}, \"hovermode\": \"closest\", \"mapbox\": {\"style\": \"light\"}, \"paper_bgcolor\": \"white\", \"plot_bgcolor\": \"#E5ECF6\", \"polar\": {\"angularaxis\": {\"gridcolor\": \"white\", \"linecolor\": \"white\", \"ticks\": \"\"}, \"bgcolor\": \"#E5ECF6\", \"radialaxis\": {\"gridcolor\": \"white\", \"linecolor\": \"white\", \"ticks\": \"\"}}, \"scene\": {\"xaxis\": {\"backgroundcolor\": \"#E5ECF6\", \"gridcolor\": \"white\", \"gridwidth\": 2, \"linecolor\": \"white\", \"showbackground\": true, \"ticks\": \"\", \"zerolinecolor\": \"white\"}, \"yaxis\": {\"backgroundcolor\": \"#E5ECF6\", \"gridcolor\": \"white\", \"gridwidth\": 2, \"linecolor\": \"white\", \"showbackground\": true, \"ticks\": \"\", \"zerolinecolor\": \"white\"}, \"zaxis\": {\"backgroundcolor\": \"#E5ECF6\", \"gridcolor\": \"white\", \"gridwidth\": 2, \"linecolor\": \"white\", \"showbackground\": true, \"ticks\": \"\", \"zerolinecolor\": \"white\"}}, \"shapedefaults\": {\"line\": {\"color\": \"#2a3f5f\"}}, \"ternary\": {\"aaxis\": {\"gridcolor\": \"white\", \"linecolor\": \"white\", \"ticks\": \"\"}, \"baxis\": {\"gridcolor\": \"white\", \"linecolor\": \"white\", \"ticks\": \"\"}, \"bgcolor\": \"#E5ECF6\", \"caxis\": {\"gridcolor\": \"white\", \"linecolor\": \"white\", \"ticks\": \"\"}}, \"title\": {\"x\": 0.05}, \"xaxis\": {\"automargin\": true, \"gridcolor\": \"white\", \"linecolor\": \"white\", \"ticks\": \"\", \"title\": {\"standoff\": 15}, \"zerolinecolor\": \"white\", \"zerolinewidth\": 2}, \"yaxis\": {\"automargin\": true, \"gridcolor\": \"white\", \"linecolor\": \"white\", \"ticks\": \"\", \"title\": {\"standoff\": 15}, \"zerolinecolor\": \"white\", \"zerolinewidth\": 2}}}, \"title\": {\"text\": \"Vessel planning\"}, \"xaxis\": {\"range\": [\"1970-01-01T01:00:00\", \"1970-01-01T12:48:55.822391\"], \"title\": {\"font\": {\"color\": \"#7f7f7f\", \"family\": \"Courier New, monospace\", \"size\": 18}, \"text\": \"Time\"}}, \"yaxis\": {\"title\": {\"font\": {\"color\": \"#7f7f7f\", \"family\": \"Courier New, monospace\", \"size\": 18}, \"text\": \"Vessels\"}}},\n",
       "                        {\"responsive\": true}\n",
       "                    ).then(function(){\n",
       "                            \n",
       "var gd = document.getElementById('b2da5af3-f224-4769-bbbe-a5cc5e2f16a2');\n",
       "var x = new MutationObserver(function (mutations, observer) {{\n",
       "        var display = window.getComputedStyle(gd).display;\n",
       "        if (!display || display === 'none') {{\n",
       "            console.log([gd, 'removed!']);\n",
       "            Plotly.purge(gd);\n",
       "            observer.disconnect();\n",
       "        }}\n",
       "}});\n",
       "\n",
       "// Listen for the removal of the full notebook cells\n",
       "var notebookContainer = gd.closest('#notebook-container');\n",
       "if (notebookContainer) {{\n",
       "    x.observe(notebookContainer, {childList: true});\n",
       "}}\n",
       "\n",
       "// Listen for the clearing of the current output cell\n",
       "var outputEl = gd.closest('.output');\n",
       "if (outputEl) {{\n",
       "    x.observe(outputEl, {childList: true});\n",
       "}}\n",
       "\n",
       "                        })\n",
       "                };\n",
       "                });\n",
       "            </script>\n",
       "        </div>"
      ]
     },
     "metadata": {},
     "output_type": "display_data"
    }
   ],
   "source": [
    "objects = [hopper, hopper2] #, to_site, from_site]\n",
    "activities = []\n",
    "for obj in objects:\n",
    "    print(set(obj.log[\"Message\"]))\n",
    "    activities.extend(set(obj.log[\"Message\"]))\n",
    "            \n",
    "C = np.linspace(0,255, len(activities))\n",
    "colors = {}\n",
    "\n",
    "for i in range(len(activities)):\n",
    "#     colors[i] = f'rgb({int(C[i]/2)},{int(C[len(C) - 1 - i]/1.5)},{int(C[i])})'\n",
    "    colors[i] = f'rgb(0,{int(C[len(C) - 1 - i])},{int(C[i])})'\n",
    "\n",
    "vessel_planning(objects, activities, colors)"
   ]
  },
  {
   "cell_type": "code",
   "execution_count": 11,
   "metadata": {},
   "outputs": [
    {
     "data": {
      "text/html": [
       "<div>\n",
       "<style scoped>\n",
       "    .dataframe tbody tr th:only-of-type {\n",
       "        vertical-align: middle;\n",
       "    }\n",
       "\n",
       "    .dataframe tbody tr th {\n",
       "        vertical-align: top;\n",
       "    }\n",
       "\n",
       "    .dataframe thead th {\n",
       "        text-align: right;\n",
       "    }\n",
       "</style>\n",
       "<table border=\"1\" class=\"dataframe\">\n",
       "  <thead>\n",
       "    <tr style=\"text-align: right;\">\n",
       "      <th></th>\n",
       "      <th>Message</th>\n",
       "      <th>Timestamp</th>\n",
       "      <th>Value</th>\n",
       "      <th>Geometry</th>\n",
       "      <th>ActivityID</th>\n",
       "      <th>ActivityState</th>\n",
       "    </tr>\n",
       "  </thead>\n",
       "  <tbody>\n",
       "    <tr>\n",
       "      <th>0</th>\n",
       "      <td>transfer default to Hopper 01</td>\n",
       "      <td>1970-01-01 01:00:00.000000</td>\n",
       "      <td>4</td>\n",
       "      <td>POINT (5.1 52)</td>\n",
       "      <td>13a5d793-aa63-11ea-98ff-2079183a5c9a</td>\n",
       "      <td>START</td>\n",
       "    </tr>\n",
       "    <tr>\n",
       "      <th>1</th>\n",
       "      <td>transfer default to Hopper 01</td>\n",
       "      <td>1970-01-01 02:00:00.000000</td>\n",
       "      <td>4</td>\n",
       "      <td>POINT (5.1 52)</td>\n",
       "      <td>13a5d793-aa63-11ea-98ff-2079183a5c9a</td>\n",
       "      <td>STOP</td>\n",
       "    </tr>\n",
       "    <tr>\n",
       "      <th>2</th>\n",
       "      <td>transfer default to Hopper 02</td>\n",
       "      <td>1970-01-01 02:00:00.000000</td>\n",
       "      <td>4</td>\n",
       "      <td>POINT (5.1 52)</td>\n",
       "      <td>13a9a803-aa63-11ea-a435-2079183a5c9a</td>\n",
       "      <td>START</td>\n",
       "    </tr>\n",
       "    <tr>\n",
       "      <th>3</th>\n",
       "      <td>transfer default to Hopper 02</td>\n",
       "      <td>1970-01-01 03:00:00.000000</td>\n",
       "      <td>4</td>\n",
       "      <td>POINT (5.1 52)</td>\n",
       "      <td>13a9a803-aa63-11ea-a435-2079183a5c9a</td>\n",
       "      <td>STOP</td>\n",
       "    </tr>\n",
       "    <tr>\n",
       "      <th>4</th>\n",
       "      <td>transfer default to Hopper 01</td>\n",
       "      <td>1970-01-01 03:43:34.328956</td>\n",
       "      <td>4</td>\n",
       "      <td>POINT (5.1 52)</td>\n",
       "      <td>13a5d793-aa63-11ea-98ff-2079183a5c9a</td>\n",
       "      <td>START</td>\n",
       "    </tr>\n",
       "    <tr>\n",
       "      <th>5</th>\n",
       "      <td>transfer default to Hopper 01</td>\n",
       "      <td>1970-01-01 04:43:34.328956</td>\n",
       "      <td>4</td>\n",
       "      <td>POINT (5.1 52)</td>\n",
       "      <td>13a5d793-aa63-11ea-98ff-2079183a5c9a</td>\n",
       "      <td>STOP</td>\n",
       "    </tr>\n",
       "    <tr>\n",
       "      <th>6</th>\n",
       "      <td>transfer default to Hopper 02</td>\n",
       "      <td>1970-01-01 04:43:34.328956</td>\n",
       "      <td>4</td>\n",
       "      <td>POINT (5.1 52)</td>\n",
       "      <td>13a9a803-aa63-11ea-a435-2079183a5c9a</td>\n",
       "      <td>START</td>\n",
       "    </tr>\n",
       "    <tr>\n",
       "      <th>7</th>\n",
       "      <td>transfer default to Hopper 02</td>\n",
       "      <td>1970-01-01 05:43:34.328956</td>\n",
       "      <td>4</td>\n",
       "      <td>POINT (5.1 52)</td>\n",
       "      <td>13a9a803-aa63-11ea-a435-2079183a5c9a</td>\n",
       "      <td>STOP</td>\n",
       "    </tr>\n",
       "    <tr>\n",
       "      <th>8</th>\n",
       "      <td>transfer default to Hopper 01</td>\n",
       "      <td>1970-01-01 06:27:08.657913</td>\n",
       "      <td>4</td>\n",
       "      <td>POINT (5.1 52)</td>\n",
       "      <td>13a5d793-aa63-11ea-98ff-2079183a5c9a</td>\n",
       "      <td>START</td>\n",
       "    </tr>\n",
       "    <tr>\n",
       "      <th>9</th>\n",
       "      <td>transfer default to Hopper 01</td>\n",
       "      <td>1970-01-01 07:27:08.657913</td>\n",
       "      <td>4</td>\n",
       "      <td>POINT (5.1 52)</td>\n",
       "      <td>13a5d793-aa63-11ea-98ff-2079183a5c9a</td>\n",
       "      <td>STOP</td>\n",
       "    </tr>\n",
       "    <tr>\n",
       "      <th>10</th>\n",
       "      <td>transfer default to Hopper 02</td>\n",
       "      <td>1970-01-01 07:27:08.657913</td>\n",
       "      <td>4</td>\n",
       "      <td>POINT (5.1 52)</td>\n",
       "      <td>13a9a803-aa63-11ea-a435-2079183a5c9a</td>\n",
       "      <td>START</td>\n",
       "    </tr>\n",
       "    <tr>\n",
       "      <th>11</th>\n",
       "      <td>transfer default to Hopper 02</td>\n",
       "      <td>1970-01-01 08:27:08.657913</td>\n",
       "      <td>4</td>\n",
       "      <td>POINT (5.1 52)</td>\n",
       "      <td>13a9a803-aa63-11ea-a435-2079183a5c9a</td>\n",
       "      <td>STOP</td>\n",
       "    </tr>\n",
       "  </tbody>\n",
       "</table>\n",
       "</div>"
      ],
      "text/plain": [
       "                          Message                  Timestamp  Value  \\\n",
       "0   transfer default to Hopper 01 1970-01-01 01:00:00.000000      4   \n",
       "1   transfer default to Hopper 01 1970-01-01 02:00:00.000000      4   \n",
       "2   transfer default to Hopper 02 1970-01-01 02:00:00.000000      4   \n",
       "3   transfer default to Hopper 02 1970-01-01 03:00:00.000000      4   \n",
       "4   transfer default to Hopper 01 1970-01-01 03:43:34.328956      4   \n",
       "5   transfer default to Hopper 01 1970-01-01 04:43:34.328956      4   \n",
       "6   transfer default to Hopper 02 1970-01-01 04:43:34.328956      4   \n",
       "7   transfer default to Hopper 02 1970-01-01 05:43:34.328956      4   \n",
       "8   transfer default to Hopper 01 1970-01-01 06:27:08.657913      4   \n",
       "9   transfer default to Hopper 01 1970-01-01 07:27:08.657913      4   \n",
       "10  transfer default to Hopper 02 1970-01-01 07:27:08.657913      4   \n",
       "11  transfer default to Hopper 02 1970-01-01 08:27:08.657913      4   \n",
       "\n",
       "          Geometry                            ActivityID ActivityState  \n",
       "0   POINT (5.1 52)  13a5d793-aa63-11ea-98ff-2079183a5c9a         START  \n",
       "1   POINT (5.1 52)  13a5d793-aa63-11ea-98ff-2079183a5c9a          STOP  \n",
       "2   POINT (5.1 52)  13a9a803-aa63-11ea-a435-2079183a5c9a         START  \n",
       "3   POINT (5.1 52)  13a9a803-aa63-11ea-a435-2079183a5c9a          STOP  \n",
       "4   POINT (5.1 52)  13a5d793-aa63-11ea-98ff-2079183a5c9a         START  \n",
       "5   POINT (5.1 52)  13a5d793-aa63-11ea-98ff-2079183a5c9a          STOP  \n",
       "6   POINT (5.1 52)  13a9a803-aa63-11ea-a435-2079183a5c9a         START  \n",
       "7   POINT (5.1 52)  13a9a803-aa63-11ea-a435-2079183a5c9a          STOP  \n",
       "8   POINT (5.1 52)  13a5d793-aa63-11ea-98ff-2079183a5c9a         START  \n",
       "9   POINT (5.1 52)  13a5d793-aa63-11ea-98ff-2079183a5c9a          STOP  \n",
       "10  POINT (5.1 52)  13a9a803-aa63-11ea-a435-2079183a5c9a         START  \n",
       "11  POINT (5.1 52)  13a9a803-aa63-11ea-a435-2079183a5c9a          STOP  "
      ]
     },
     "execution_count": 11,
     "metadata": {},
     "output_type": "execute_result"
    }
   ],
   "source": [
    "pd.DataFrame(from_site.log)"
   ]
  },
  {
   "cell_type": "code",
   "execution_count": 12,
   "metadata": {},
   "outputs": [
    {
     "data": {
      "text/html": [
       "<div>\n",
       "<style scoped>\n",
       "    .dataframe tbody tr th:only-of-type {\n",
       "        vertical-align: middle;\n",
       "    }\n",
       "\n",
       "    .dataframe tbody tr th {\n",
       "        vertical-align: top;\n",
       "    }\n",
       "\n",
       "    .dataframe thead th {\n",
       "        text-align: right;\n",
       "    }\n",
       "</style>\n",
       "<table border=\"1\" class=\"dataframe\">\n",
       "  <thead>\n",
       "    <tr style=\"text-align: right;\">\n",
       "      <th></th>\n",
       "      <th>Message</th>\n",
       "      <th>Timestamp</th>\n",
       "      <th>Value</th>\n",
       "      <th>Geometry</th>\n",
       "      <th>ActivityID</th>\n",
       "      <th>ActivityState</th>\n",
       "    </tr>\n",
       "  </thead>\n",
       "  <tbody>\n",
       "    <tr>\n",
       "      <th>0</th>\n",
       "      <td>transfer default to Dumplocatie</td>\n",
       "      <td>1970-01-01 02:21:47.164478</td>\n",
       "      <td>4</td>\n",
       "      <td>POINT (5 52.1)</td>\n",
       "      <td>13a5d795-aa63-11ea-afe6-2079183a5c9a</td>\n",
       "      <td>START</td>\n",
       "    </tr>\n",
       "    <tr>\n",
       "      <th>1</th>\n",
       "      <td>transfer default to Dumplocatie</td>\n",
       "      <td>1970-01-01 03:21:47.164478</td>\n",
       "      <td>4</td>\n",
       "      <td>POINT (5 52.1)</td>\n",
       "      <td>13a5d795-aa63-11ea-afe6-2079183a5c9a</td>\n",
       "      <td>STOP</td>\n",
       "    </tr>\n",
       "    <tr>\n",
       "      <th>2</th>\n",
       "      <td>transfer default to Dumplocatie</td>\n",
       "      <td>1970-01-01 03:21:47.164478</td>\n",
       "      <td>4</td>\n",
       "      <td>POINT (5 52.1)</td>\n",
       "      <td>13a9a805-aa63-11ea-ace2-2079183a5c9a</td>\n",
       "      <td>START</td>\n",
       "    </tr>\n",
       "    <tr>\n",
       "      <th>3</th>\n",
       "      <td>transfer default to Dumplocatie</td>\n",
       "      <td>1970-01-01 04:21:47.164478</td>\n",
       "      <td>4</td>\n",
       "      <td>POINT (5 52.1)</td>\n",
       "      <td>13a9a805-aa63-11ea-ace2-2079183a5c9a</td>\n",
       "      <td>STOP</td>\n",
       "    </tr>\n",
       "    <tr>\n",
       "      <th>4</th>\n",
       "      <td>transfer default to Dumplocatie</td>\n",
       "      <td>1970-01-01 05:05:21.493435</td>\n",
       "      <td>4</td>\n",
       "      <td>POINT (5 52.1)</td>\n",
       "      <td>13a5d795-aa63-11ea-afe6-2079183a5c9a</td>\n",
       "      <td>START</td>\n",
       "    </tr>\n",
       "    <tr>\n",
       "      <th>5</th>\n",
       "      <td>transfer default to Dumplocatie</td>\n",
       "      <td>1970-01-01 06:05:21.493435</td>\n",
       "      <td>4</td>\n",
       "      <td>POINT (5 52.1)</td>\n",
       "      <td>13a5d795-aa63-11ea-afe6-2079183a5c9a</td>\n",
       "      <td>STOP</td>\n",
       "    </tr>\n",
       "    <tr>\n",
       "      <th>6</th>\n",
       "      <td>transfer default to Dumplocatie</td>\n",
       "      <td>1970-01-01 06:05:21.493435</td>\n",
       "      <td>4</td>\n",
       "      <td>POINT (5 52.1)</td>\n",
       "      <td>13a9a805-aa63-11ea-ace2-2079183a5c9a</td>\n",
       "      <td>START</td>\n",
       "    </tr>\n",
       "    <tr>\n",
       "      <th>7</th>\n",
       "      <td>transfer default to Dumplocatie</td>\n",
       "      <td>1970-01-01 07:05:21.493435</td>\n",
       "      <td>4</td>\n",
       "      <td>POINT (5 52.1)</td>\n",
       "      <td>13a9a805-aa63-11ea-ace2-2079183a5c9a</td>\n",
       "      <td>STOP</td>\n",
       "    </tr>\n",
       "    <tr>\n",
       "      <th>8</th>\n",
       "      <td>transfer default to Dumplocatie</td>\n",
       "      <td>1970-01-01 07:48:55.822391</td>\n",
       "      <td>4</td>\n",
       "      <td>POINT (5 52.1)</td>\n",
       "      <td>13a5d795-aa63-11ea-afe6-2079183a5c9a</td>\n",
       "      <td>START</td>\n",
       "    </tr>\n",
       "    <tr>\n",
       "      <th>9</th>\n",
       "      <td>transfer default to Dumplocatie</td>\n",
       "      <td>1970-01-01 08:48:55.822391</td>\n",
       "      <td>4</td>\n",
       "      <td>POINT (5 52.1)</td>\n",
       "      <td>13a5d795-aa63-11ea-afe6-2079183a5c9a</td>\n",
       "      <td>STOP</td>\n",
       "    </tr>\n",
       "  </tbody>\n",
       "</table>\n",
       "</div>"
      ],
      "text/plain": [
       "                           Message                  Timestamp  Value  \\\n",
       "0  transfer default to Dumplocatie 1970-01-01 02:21:47.164478      4   \n",
       "1  transfer default to Dumplocatie 1970-01-01 03:21:47.164478      4   \n",
       "2  transfer default to Dumplocatie 1970-01-01 03:21:47.164478      4   \n",
       "3  transfer default to Dumplocatie 1970-01-01 04:21:47.164478      4   \n",
       "4  transfer default to Dumplocatie 1970-01-01 05:05:21.493435      4   \n",
       "5  transfer default to Dumplocatie 1970-01-01 06:05:21.493435      4   \n",
       "6  transfer default to Dumplocatie 1970-01-01 06:05:21.493435      4   \n",
       "7  transfer default to Dumplocatie 1970-01-01 07:05:21.493435      4   \n",
       "8  transfer default to Dumplocatie 1970-01-01 07:48:55.822391      4   \n",
       "9  transfer default to Dumplocatie 1970-01-01 08:48:55.822391      4   \n",
       "\n",
       "         Geometry                            ActivityID ActivityState  \n",
       "0  POINT (5 52.1)  13a5d795-aa63-11ea-afe6-2079183a5c9a         START  \n",
       "1  POINT (5 52.1)  13a5d795-aa63-11ea-afe6-2079183a5c9a          STOP  \n",
       "2  POINT (5 52.1)  13a9a805-aa63-11ea-ace2-2079183a5c9a         START  \n",
       "3  POINT (5 52.1)  13a9a805-aa63-11ea-ace2-2079183a5c9a          STOP  \n",
       "4  POINT (5 52.1)  13a5d795-aa63-11ea-afe6-2079183a5c9a         START  \n",
       "5  POINT (5 52.1)  13a5d795-aa63-11ea-afe6-2079183a5c9a          STOP  \n",
       "6  POINT (5 52.1)  13a9a805-aa63-11ea-ace2-2079183a5c9a         START  \n",
       "7  POINT (5 52.1)  13a9a805-aa63-11ea-ace2-2079183a5c9a          STOP  \n",
       "8  POINT (5 52.1)  13a5d795-aa63-11ea-afe6-2079183a5c9a         START  \n",
       "9  POINT (5 52.1)  13a5d795-aa63-11ea-afe6-2079183a5c9a          STOP  "
      ]
     },
     "execution_count": 12,
     "metadata": {},
     "output_type": "execute_result"
    }
   ],
   "source": [
    "pd.DataFrame(to_site.log)"
   ]
  },
  {
   "cell_type": "code",
   "execution_count": 13,
   "metadata": {},
   "outputs": [
    {
     "data": {
      "text/plain": [
       "26"
      ]
     },
     "execution_count": 13,
     "metadata": {},
     "output_type": "execute_result"
    }
   ],
   "source": [
    "from_site.container.get_level()"
   ]
  },
  {
   "cell_type": "code",
   "execution_count": 14,
   "metadata": {},
   "outputs": [
    {
     "data": {
      "text/plain": [
       "20"
      ]
     },
     "execution_count": 14,
     "metadata": {},
     "output_type": "execute_result"
    }
   ],
   "source": [
    "to_site.container.get_level()"
   ]
  },
  {
   "cell_type": "code",
   "execution_count": null,
   "metadata": {},
   "outputs": [],
   "source": []
  }
 ],
 "metadata": {
  "kernelspec": {
   "display_name": "Python 3",
   "language": "python",
   "name": "python3"
  },
  "language_info": {
   "codemirror_mode": {
    "name": "ipython",
    "version": 3
   },
   "file_extension": ".py",
   "mimetype": "text/x-python",
   "name": "python",
   "nbconvert_exporter": "python",
   "pygments_lexer": "ipython3",
   "version": "3.7.4"
  }
 },
 "nbformat": 4,
 "nbformat_minor": 2
}
