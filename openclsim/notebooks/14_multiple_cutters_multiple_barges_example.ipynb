{
 "cells": [
  {
   "cell_type": "markdown",
   "metadata": {},
   "source": [
    "# Demo Multiple Cutters - Multiple Barches\n",
    "This notebook shows a basics of a feeder concept. This scenario has two vessels:\n",
    "* a *vessel* for the transport of material\n",
    "* an *installer*, receiving the material and installing it.\n",
    "Thus, we also need two processes - one for each vessel. In this process the hand over of the material is done from the *vessel* to the *installer*."
   ]
  },
  {
   "cell_type": "code",
   "execution_count": 1,
   "metadata": {},
   "outputs": [],
   "source": [
    "import datetime, time\n",
    "import simpy\n",
    "\n",
    "import shapely.geometry\n",
    "from simplekml import Kml, Style\n",
    "\n",
    "# package(s) for data handling\n",
    "import pandas as pd\n",
    "import numpy as np\n",
    "\n",
    "import openclsim.core as core\n",
    "import openclsim.model as model\n",
    "import openclsim.plot as plot\n",
    "import uuid\n",
    "\n",
    "# setup environment\n",
    "simulation_start = 0\n",
    "my_env = simpy.Environment(initial_time=simulation_start)\n",
    "registry = {}"
   ]
  },
  {
   "cell_type": "markdown",
   "metadata": {},
   "source": [
    "## Definition of Sites"
   ]
  },
  {
   "cell_type": "code",
   "execution_count": 2,
   "metadata": {},
   "outputs": [
    {
     "output_type": "stream",
     "name": "stdout",
     "text": "init\nlevel: 4\ncompleted init\ninit\nlevel: 0\ncompleted init\n"
    }
   ],
   "source": [
    "# The generic site class\n",
    "Site = type(\n",
    "    \"Site\",\n",
    "    (\n",
    "        core.Identifiable,  # Give it a name\n",
    "        core.Log,  # Allow logging of all discrete events\n",
    "        core.Locatable,  # Add coordinates to extract distance information and visualize\n",
    "        core.HasContainer,  # Add information on the material available at the site\n",
    "        core.HasResource,\n",
    "    ),  # Add information on serving equipment\n",
    "    {},\n",
    ")  # The dictionary is empty because the site type is generic\n",
    "\n",
    "# Information on the extraction site - the \"from site\" - the \"win locatie\"\n",
    "location_from_site = shapely.geometry.Point(4.18055556, 52.18664444)  # lon, lat\n",
    "\n",
    "data_from_site = {\n",
    "    \"env\": my_env,  # The simpy environment defined in the first cel\n",
    "    \"name\": \"Winlocatie1\",  # The name of the site\n",
    "    \"geometry\": location_from_site,  # The coordinates of the project site\n",
    "    \"capacity\": 4,\n",
    "    \"level\": 4,\n",
    "}  # The actual volume of the site\n",
    "from_site = Site(**data_from_site)\n",
    "\n",
    "location_to_site = shapely.geometry.Point(4.25222222, 52.11428333)  # lon, lat\n",
    "\n",
    "data_to_site = {\n",
    "    \"env\": my_env,  # The simpy environment defined in the first cel\n",
    "    \"name\": \"Dumplocatie\",  # The name of the site\n",
    "    \"geometry\": location_to_site,  # The coordinates of the project site\n",
    "    \"capacity\": 12,\n",
    "    \"level\": 0,\n",
    "}  # The actual volume of the site (empty of course)\n",
    "to_site = Site(**data_to_site)"
   ]
  },
  {
   "cell_type": "markdown",
   "metadata": {},
   "source": [
    "## Definition of Vessels"
   ]
  },
  {
   "cell_type": "code",
   "execution_count": 3,
   "metadata": {},
   "outputs": [
    {
     "output_type": "stream",
     "name": "stdout",
     "text": "init\nlevel: 0\ncompleted init\ninit\nlevel: 0\ncompleted init\ninit\nlevel: 0\ncompleted init\ninit\nlevel: 0\ncompleted init\ninit\nlevel: 0\ncompleted init\n"
    }
   ],
   "source": [
    "# The generic class for an object that can move and transport (a TSHD for example)\n",
    "TransportProcessingResource = type(\n",
    "    \"TransportProcessingResource\",\n",
    "    (\n",
    "        core.Identifiable,  # Give it a name\n",
    "        core.Log,  # Allow logging of all discrete events\n",
    "        core.ContainerDependentMovable,  # A moving container, so capacity and location\n",
    "        core.Processor,  # Allow for loading and unloading\n",
    "        core.HasResource,  # Add information on serving equipment\n",
    "        core.HasCosts,  # Add information on costs\n",
    "        core.LoadingFunction,  # Add a loading function\n",
    "        core.UnloadingFunction,  # Add an unloading function\n",
    "        # SiteRegistry,\n",
    "    ),\n",
    "    {\"key\": \"MultiStoreHopper\"},\n",
    ")\n",
    "\n",
    "# print(SiteRegistry.inspect(\"MultiStoreHopper\"))\n",
    "# For more realistic simulation you might want to have speed dependent on the volume carried by the vessel\n",
    "def compute_v_provider(v_empty, v_full):\n",
    "    return lambda x: 10\n",
    "\n",
    "data_cutter1 = {\n",
    "    \"env\": my_env,  # The simpy environment\n",
    "    \"name\": \"Cutter1\",  # Name\n",
    "    \"geometry\": location_from_site,  # It starts at the \"from site\"\n",
    "    \"loading_rate\": 1,  # Loading rate\n",
    "    \"unloading_rate\": 1,  # Unloading rate\n",
    "    \"capacity\": 1,\n",
    "    \"level\": 0,\n",
    "    \"compute_v\": compute_v_provider(5, 4.5),  # Variable speed\n",
    "    \"weekrate\": 7,\n",
    "}\n",
    "cutter1 = TransportProcessingResource(**data_cutter1)\n",
    "data_cutter2 = {\n",
    "    \"env\": my_env,  # The simpy environment\n",
    "    \"name\": \"Cutter2\",  # Name\n",
    "    \"geometry\": location_from_site,  # It starts at the \"from site\"\n",
    "    \"loading_rate\": 1,  # Loading rate\n",
    "    \"unloading_rate\": 1,  # Unloading rate\n",
    "    \"capacity\": 1,\n",
    "    \"level\": 0,\n",
    "    \"compute_v\": compute_v_provider(5, 4.5),  # Variable speed\n",
    "    \"weekrate\": 7,\n",
    "}\n",
    "cutter2 = TransportProcessingResource(**data_cutter2)\n",
    "\n",
    "# TSHD variables\n",
    "data_hopper1 = {\n",
    "    \"env\": my_env,  # The simpy environment\n",
    "    \"name\": \"Hopper1\",  # Name\n",
    "    \"geometry\": location_from_site,  # It starts at the \"from site\"\n",
    "    \"loading_rate\": 1,  # Loading rate\n",
    "    \"unloading_rate\": 1,  # Unloading rate\n",
    "    \"capacity\": 1,\n",
    "    \"level\": 0,\n",
    "    \"compute_v\": compute_v_provider(5, 4.5),  # Variable speed\n",
    "    \"weekrate\": 7,\n",
    "}\n",
    "hopper1 = TransportProcessingResource(**data_hopper1)\n",
    "data_hopper2 = {\n",
    "    \"env\": my_env,  # The simpy environment\n",
    "    \"name\": \"Hopper2\",  # Name\n",
    "    \"geometry\": location_from_site,  # It starts at the \"from site\"\n",
    "    \"loading_rate\": 1,  # Loading rate\n",
    "    \"unloading_rate\": 1,  # Unloading rate\n",
    "    \"capacity\": 1,\n",
    "    \"level\": 0,\n",
    "    \"compute_v\": compute_v_provider(5, 4.5),  # Variable speed\n",
    "    \"weekrate\": 7,\n",
    "}\n",
    "hopper2 = TransportProcessingResource(**data_hopper2)\n",
    "data_hopper3 = {\n",
    "    \"env\": my_env,  # The simpy environment\n",
    "    \"name\": \"Hopper3\",  # Name\n",
    "    \"geometry\": location_from_site,  # It starts at the \"from site\"\n",
    "    \"loading_rate\": 1,  # Loading rate\n",
    "    \"unloading_rate\": 1,  # Unloading rate\n",
    "    \"capacity\": 1,\n",
    "    \"level\": 0,\n",
    "    \"compute_v\": compute_v_provider(5, 4.5),  # Variable speed\n",
    "    \"weekrate\": 7,\n",
    "}\n",
    "hopper3 = TransportProcessingResource(**data_hopper3)"
   ]
  },
  {
   "cell_type": "markdown",
   "metadata": {},
   "source": [
    "## Definition of Barge process"
   ]
  },
  {
   "cell_type": "code",
   "execution_count": 4,
   "metadata": {},
   "outputs": [
    {
     "output_type": "stream",
     "name": "stdout",
     "text": "while Activity keep_resources []\nstart put_available\nregister new event \nstart event instance None\nwhile Activity keep_resources []\nstart put_available\ncheck put_available events\nregister new event \nstart event instance None\nwhile Activity keep_resources []\nstart put_available\ncheck put_available events\nregister new event \nstart event instance None\nwhile Activity keep_resources []\nstart put_available\ncheck put_available events\nregister new event \nstart event instance None\nwhile Activity keep_resources []\nstart put_available\ncheck put_available events\nregister new event \nstart event instance None\nwhile Activity keep_resources []\nstart put_available\ncheck put_available events\nregister new event \nstart event instance None\n"
    }
   ],
   "source": [
    "cutter_list = [cutter1, cutter2]\n",
    "for hopper in [hopper1, hopper2, hopper3]:\n",
    "    first_cutter = cutter_list[0]\n",
    "    cutter_list= cutter_list[1:]\n",
    "    cutter_list.append(first_cutter)\n",
    "    for cutter in cutter_list:\n",
    "        requested_resources = {}\n",
    "        run = []\n",
    "        \n",
    "        shift_amount_loading_data = {\n",
    "            \"env\": my_env,  # The simpy environment defined in the first cel\n",
    "            \"name\": \"Load\",  # We are moving soil\n",
    "            \"registry\": registry,\n",
    "            \"processor\": cutter,\n",
    "            \"origin\": from_site,\n",
    "            \"destination\": hopper,\n",
    "            \"amount\": 1,\n",
    "            \"duration\": 10,\n",
    "            \"requested_resources\":requested_resources,\n",
    "            \"keep_resources\":[hopper],\n",
    "            \"postpone_start\": True,\n",
    "        }\n",
    "        run.append(model.ShiftAmountActivity(**shift_amount_loading_data))\n",
    "        \n",
    "        move_activity_to_harbor_data = {\n",
    "            \"env\": my_env,  # The simpy environment defined in the first cel\n",
    "            \"name\": \"sailing full\",  # We are moving soil\n",
    "            \"registry\": registry,\n",
    "            \"mover\": hopper,\n",
    "            \"destination\": to_site,\n",
    "            \"requested_resources\":requested_resources,\n",
    "            \"keep_resources\":[hopper],\n",
    "            \"postpone_start\": True,\n",
    "        }\n",
    "        run.append(model.MoveActivity(**move_activity_to_harbor_data))\n",
    "\n",
    "        shift_amount_loading_data = {\n",
    "            \"env\": my_env,  # The simpy environment defined in the first cel\n",
    "            \"name\": \"Unload\",  # We are moving soil\n",
    "            \"registry\": registry,\n",
    "            \"processor\": hopper,\n",
    "            \"origin\": hopper,\n",
    "            \"destination\": to_site,\n",
    "            \"amount\": 1,\n",
    "            \"duration\": 10,\n",
    "            \"requested_resources\":requested_resources,\n",
    "            \"keep_resources\":[hopper],\n",
    "            \"postpone_start\": True,\n",
    "        }\n",
    "        run.append(model.ShiftAmountActivity(**shift_amount_loading_data))\n",
    "        \n",
    "        move_activity_to_harbor_data = {\n",
    "            \"env\": my_env,  # The simpy environment defined in the first cel\n",
    "            \"name\": \"sailing empty\",  # We are moving soil\n",
    "            \"registry\": registry,\n",
    "            \"mover\": hopper,\n",
    "            \"destination\": from_site,\n",
    "            \"requested_resources\":requested_resources,\n",
    "            \"postpone_start\": True,\n",
    "        }\n",
    "        run.append(model.MoveActivity(**move_activity_to_harbor_data))\n",
    "\n",
    "        sequential_activity_data = {\n",
    "            \"env\": my_env,\n",
    "            \"name\": \"run\",\n",
    "            \"registry\": registry,\n",
    "            \"sub_processes\": run,\n",
    "            \"postpone_start\": True,\n",
    "        }\n",
    "        sequential_activity = model.SequentialActivity(**sequential_activity_data)\n",
    "        \n",
    "        while_data = {\n",
    "            \"env\": my_env,  # The simpy environment defined in the first cel\n",
    "            \"name\": \"run while\",  # We are moving soil\n",
    "            \"registry\": registry,\n",
    "            \"sub_process\": sequential_activity,\n",
    "            \"condition_event\": [{\"type\":\"container\", \"concept\": from_site, \"state\":\"empty\"}],\n",
    "            \"postpone_start\": False,\n",
    "        }\n",
    "        run_activity = model.WhileActivity(**while_data)"
   ]
  },
  {
   "cell_type": "code",
   "execution_count": 5,
   "metadata": {
    "tags": [
     "outputPrepend"
    ]
   },
   "outputs": [
    {
     "output_type": "stream",
     "name": "stdout",
     "text": "<openclsim.model.SequentialActivity object at 0x000001E06F4CCA88>\nconditional \nstart event instance None\n<openclsim.model.ShiftAmountActivity object at 0x000001E06DAB1188>\nkeep_resources []\nSHift amount Activity keep_resources [<__main__.TransportProcessingResource object at 0x000001E06F4BF988>]\nstart event instance None\nstart : {}\n{'origin.b0b3b0c8-aae7-11ea-987e-d89ef3f41f81': 4, 'destination.b0bb4caf-aae7-11ea-be30-d89ef3f41f81': 1}\n<openclsim.model.SequentialActivity object at 0x000001E06F4CFC48>\nconditional \nstart event instance None\n<openclsim.model.ShiftAmountActivity object at 0x000001E06F4CF1C8>\nkeep_resources []\nSHift amount Activity keep_resources [<__main__.TransportProcessingResource object at 0x000001E06F4BF988>]\nstart event instance None\nstart : {}\n{'origin.b0b3b0c8-aae7-11ea-987e-d89ef3f41f81': 4, 'destination.b0bb4caf-aae7-11ea-be30-d89ef3f41f81': 1}\n<openclsim.model.SequentialActivity object at 0x000001E06F4D3908>\nconditional \nstart event instance None\n<openclsim.model.ShiftAmountActivity object at 0x000001E068794748>\nkeep_resources []\nSHift amount Activity keep_resources [<__main__.TransportProcessingResource object at 0x000001E06F4BFEC8>]\nstart event instance None\nstart : {}\n{'origin.b0b3b0c8-aae7-11ea-987e-d89ef3f41f81': 4, 'destination.b0bb73f6-aae7-11ea-bc04-d89ef3f41f81': 1}\n<openclsim.model.SequentialActivity object at 0x000001E06F4D6A88>\nconditional \nstart event instance None\n<openclsim.model.ShiftAmountActivity object at 0x000001E06F4D3FC8>\nkeep_resources []\nSHift amount Activity keep_resources [<__main__.TransportProcessingResource object at 0x000001E06F4BFEC8>]\nstart event instance None\nstart : {}\n{'origin.b0b3b0c8-aae7-11ea-987e-d89ef3f41f81': 4, 'destination.b0bb73f6-aae7-11ea-bc04-d89ef3f41f81': 1}\n<openclsim.model.SequentialActivity object at 0x000001E06F4D8DC8>\nconditional \nstart event instance None\n<openclsim.model.ShiftAmountActivity object at 0x000001E06F4D8208>\nkeep_resources []\nSHift amount Activity keep_resources [<__main__.TransportProcessingResource object at 0x000001E06F4C7488>]\nstart event instance None\nstart : {}\n{'origin.b0b3b0c8-aae7-11ea-987e-d89ef3f41f81': 4, 'destination.b0bb9aba-aae7-11ea-8bb9-d89ef3f41f81': 1}\n<openclsim.model.SequentialActivity object at 0x000001E06F4DE0C8>\nconditional \nstart event instance None\n<openclsim.model.ShiftAmountActivity object at 0x000001E06F4DC5C8>\nkeep_resources []\nSHift amount Activity keep_resources [<__main__.TransportProcessingResource object at 0x000001E06F4C7488>]\nstart event instance None\nstart : {}\n{'origin.b0b3b0c8-aae7-11ea-987e-d89ef3f41f81': 4, 'destination.b0bb9aba-aae7-11ea-8bb9-d89ef3f41f81': 1}\nput_callback - id_ default\n{}\nput_callback - id_ default\n{}\nput_callback - id_ default\n{}\nput_callback - id_ default\n{}\nput_callback - id_ default\n{}\nput_callback - id_ default\n{}\nput_callback - id_ default\n{}\ndestination request : {<simpy.resources.resource.Resource object at 0x000001E06F4BFC88>: <Request() object at 0x1e06f4ab188>}\nshift amount process keep_resources [<__main__.TransportProcessingResource object at 0x000001E06F4BF988>]\nstart get_available\ndestination request : {<simpy.resources.resource.Resource object at 0x000001E06F4C7208>: <Request() object at 0x1e06f27f088>}\nshift amount process keep_resources [<__main__.TransportProcessingResource object at 0x000001E06F4BFEC8>]\nstart get_available\ndestination request : {<simpy.resources.resource.Resource object at 0x000001E06F4C7788>: <Request() object at 0x1e06f4d8488>}\nshift amount process keep_resources [<__main__.TransportProcessingResource object at 0x000001E06F4C7488>]\nstart get_available\nprocessor request : {<simpy.resources.resource.Resource object at 0x000001E06F4BFC88>: <Request() object at 0x1e06f4ab188>, <simpy.resources.resource.Resource object at 0x000001E06F4BF708>: <Request() object at 0x1e06f4c7bc8>}\nprocessor request : {<simpy.resources.resource.Resource object at 0x000001E06F4C7208>: <Request() object at 0x1e06f27f088>, <simpy.resources.resource.Resource object at 0x000001E06F4BF288>: <Request() object at 0x1e06f4abf88>}\nsite request : {<simpy.resources.resource.Resource object at 0x000001E06F4BFC88>: <Request() object at 0x1e06f4ab188>, <simpy.resources.resource.Resource object at 0x000001E06F4BF708>: <Request() object at 0x1e06f4c7bc8>, <simpy.resources.resource.Resource object at 0x000001E06F4ADD08>: <Request() object at 0x1e0687c5e08>}\nend requestIfAvailable : {<simpy.resources.resource.Resource object at 0x000001E06F4BFC88>: <Request() object at 0x1e06f4ab188>, <simpy.resources.resource.Resource object at 0x000001E06F4BF708>: <Request() object at 0x1e06f4c7bc8>, <simpy.resources.resource.Resource object at 0x000001E06F4ADD08>: <Request() object at 0x1e0687c5e08>}\nafter req resource if available : {<simpy.resources.resource.Resource object at 0x000001E06F4BFC88>: <Request() object at 0x1e06f4ab188>, <simpy.resources.resource.Resource object at 0x000001E06F4BF708>: <Request() object at 0x1e06f4c7bc8>, <simpy.resources.resource.Resource object at 0x000001E06F4ADD08>: <Request() object at 0x1e0687c5e08>}\n_shift_amount\nstart _shift_amount\namount 1\nprocessor start process\ntransfer default to Hopper1\nprocessor process without rate\norigin store before get: [{'id': 'default', 'level': 4, 'capacity': 4}]\nstart get 1\nstore_status {'id': 'default', 'level': 4, 'capacity': 4}\nend get 1\nget_callback - id_ <StorePut() object at 0x1e06f4c7c08>\nstart get_callback\n{'default': {4: <Event() object at 0x1e06f4de7c8>}}\norigin store after get: [{'id': 'default', 'level': 3, 'capacity': 4}]\nafter get\nafter check_down time\ndestination store before put: [{'id': 'default', 'level': 0, 'capacity': 1}]\n<FilterStoreGet() object at 0x1e06f4c7c08>\nput_callback - id_ default\n{}\ndestination store after put: [{'id': 'default', 'level': 1, 'capacity': 1}]\nafter put\nprocessor end process\nProcessed 1 of default:\n  by:          Cutter2\n  origin        Winlocatie1  contains: 3 of default\n  destination:  Hopper1 contains: 1 of default\nafter shift amount : {<simpy.resources.resource.Resource object at 0x000001E06F4BFC88>: <Request() object at 0x1e06f4ab188>, <simpy.resources.resource.Resource object at 0x000001E06F4BF708>: <Request() object at 0x1e06f4c7bc8>, <simpy.resources.resource.Resource object at 0x000001E06F4ADD08>: <Request() object at 0x1e0687c5e08>}\nkeep resources [<__main__.TransportProcessingResource object at 0x000001E06F4BF988>]\nrelease destination : {<simpy.resources.resource.Resource object at 0x000001E06F4BFC88>: <Request() object at 0x1e06f4ab188>, <simpy.resources.resource.Resource object at 0x000001E06F4BF708>: <Request() object at 0x1e06f4c7bc8>, <simpy.resources.resource.Resource object at 0x000001E06F4ADD08>: <Request() object at 0x1e0687c5e08>}\nreleased origin : {<simpy.resources.resource.Resource object at 0x000001E06F4BFC88>: <Request() object at 0x1e06f4ab188>, <simpy.resources.resource.Resource object at 0x000001E06F4BF708>: <Request() object at 0x1e06f4c7bc8>}\nreleased processor : {<simpy.resources.resource.Resource object at 0x000001E06F4BFC88>: <Request() object at 0x1e06f4ab188>}\n{<simpy.resources.resource.Resource object at 0x000001E06F4BFC88>: <Request() object at 0x1e06f4ab188>}\nActivity end()\n<openclsim.model.MoveActivity object at 0x000001E06F4CC248>\nkeep_resources []\nstart event instance None\nMover_move before mover resource request\nsite request : {<simpy.resources.resource.Resource object at 0x000001E06F4C7208>: <Request() object at 0x1e06f27f088>, <simpy.resources.resource.Resource object at 0x000001E06F4BF288>: <Request() object at 0x1e06f4abf88>, <simpy.resources.resource.Resource object at 0x000001E06F4ADD08>: <Request() object at 0x1e06f4b0548>}\nend requestIfAvailable : {<simpy.resources.resource.Resource object at 0x000001E06F4C7208>: <Request() object at 0x1e06f27f088>, <simpy.resources.resource.Resource object at 0x000001E06F4BF288>: <Request() object at 0x1e06f4abf88>, <simpy.resources.resource.Resource object at 0x000001E06F4ADD08>: <Request() object at 0x1e06f4b0548>}\nafter req resource if available : {<simpy.resources.resource.Resource object at 0x000001E06F4C7208>: <Request() object at 0x1e06f27f088>, <simpy.resources.resource.Resource object at 0x000001E06F4BF288>: <Request() object at 0x1e06f4abf88>, <simpy.resources.resource.Resource object at 0x000001E06F4ADD08>: <Request() object at 0x1e06f4b0548>}\n_shift_amount\nstart _shift_amount\namount 1\nprocessor start process\ntransfer default to Hopper2\nprocessor process without rate\norigin store before get: [{'id': 'default', 'level': 3, 'capacity': 4}]\nstart get 1\nstore_status {'id': 'default', 'level': 3, 'capacity': 4}\nend get 1\nprocessor request : {<simpy.resources.resource.Resource object at 0x000001E06F4C7788>: <Request() object at 0x1e06f4d8488>, <simpy.resources.resource.Resource object at 0x000001E06F4BF708>: <Request() object at 0x1e06f4c7ac8>}\nget_callback - id_ <StorePut() object at 0x1e06f4c7d88>\nstart get_callback\n{'default': {4: <Event() object at 0x1e06f4de7c8>}}\norigin store after get: [{'id': 'default', 'level': 2, 'capacity': 4}]\nafter get\nafter check_down time\ndestination store before put: [{'id': 'default', 'level': 0, 'capacity': 1}]\n<FilterStoreGet() object at 0x1e06f4c7d88>\nput_callback - id_ default\n{}\ndestination store after put: [{'id': 'default', 'level': 1, 'capacity': 1}]\nafter put\nprocessor end process\nProcessed 1 of default:\n  by:          Cutter1\n  origin        Winlocatie1  contains: 2 of default\n  destination:  Hopper2 contains: 1 of default\nafter shift amount : {<simpy.resources.resource.Resource object at 0x000001E06F4C7208>: <Request() object at 0x1e06f27f088>, <simpy.resources.resource.Resource object at 0x000001E06F4BF288>: <Request() object at 0x1e06f4abf88>, <simpy.resources.resource.Resource object at 0x000001E06F4ADD08>: <Request() object at 0x1e06f4b0548>}\nkeep resources [<__main__.TransportProcessingResource object at 0x000001E06F4BFEC8>]\nrelease destination : {<simpy.resources.resource.Resource object at 0x000001E06F4C7208>: <Request() object at 0x1e06f27f088>, <simpy.resources.resource.Resource object at 0x000001E06F4BF288>: <Request() object at 0x1e06f4abf88>, <simpy.resources.resource.Resource object at 0x000001E06F4ADD08>: <Request() object at 0x1e06f4b0548>}\nreleased origin : {<simpy.resources.resource.Resource object at 0x000001E06F4C7208>: <Request() object at 0x1e06f27f088>, <simpy.resources.resource.Resource object at 0x000001E06F4BF288>: <Request() object at 0x1e06f4abf88>}\nreleased processor : {<simpy.resources.resource.Resource object at 0x000001E06F4C7208>: <Request() object at 0x1e06f27f088>}\n{<simpy.resources.resource.Resource object at 0x000001E06F4C7208>: <Request() object at 0x1e06f27f088>}\nActivity end()\n<openclsim.model.MoveActivity object at 0x000001E06F4C0848>\nkeep_resources []\nstart event instance None\nMover_move before mover resource request\nsite request : {<simpy.resources.resource.Resource object at 0x000001E06F4C7788>: <Request() object at 0x1e06f4d8488>, <simpy.resources.resource.Resource object at 0x000001E06F4BF708>: <Request() object at 0x1e06f4c7ac8>, <simpy.resources.resource.Resource object at 0x000001E06F4ADD08>: <Request() object at 0x1e06f4c7e08>}\nend requestIfAvailable : {<simpy.resources.resource.Resource object at 0x000001E06F4C7788>: <Request() object at 0x1e06f4d8488>, <simpy.resources.resource.Resource object at 0x000001E06F4BF708>: <Request() object at 0x1e06f4c7ac8>, <simpy.resources.resource.Resource object at 0x000001E06F4ADD08>: <Request() object at 0x1e06f4c7e08>}\nafter req resource if available : {<simpy.resources.resource.Resource object at 0x000001E06F4C7788>: <Request() object at 0x1e06f4d8488>, <simpy.resources.resource.Resource object at 0x000001E06F4BF708>: <Request() object at 0x1e06f4c7ac8>, <simpy.resources.resource.Resource object at 0x000001E06F4ADD08>: <Request() object at 0x1e06f4c7e08>}\n_shift_amount\nstart _shift_amount\namount 1\nprocessor start process\ntransfer default to Hopper3\nprocessor process without rate\norigin store before get: [{'id': 'default', 'level': 2, 'capacity': 4}]\nstart get 1\nstore_status {'id': 'default', 'level': 2, 'capacity': 4}\nend get 1\nget_callback - id_ <StorePut() object at 0x1e06f4b7c08>\nstart get_callback\n{'default': {4: <Event() object at 0x1e06f4de7c8>}}\norigin store after get: [{'id': 'default', 'level': 1, 'capacity': 4}]\nafter get\nafter check_down time\ndestination store before put: [{'id': 'default', 'level': 0, 'capacity': 1}]\n<FilterStoreGet() object at 0x1e06f4b7c08>\nput_callback - id_ default\n{}\ndestination store after put: [{'id': 'default', 'level': 1, 'capacity': 1}]\nafter put\nprocessor end process\nProcessed 1 of default:\n  by:          Cutter2\n  origin        Winlocatie1  contains: 1 of default\n  destination:  Hopper3 contains: 1 of default\nafter shift amount : {<simpy.resources.resource.Resource object at 0x000001E06F4C7788>: <Request() object at 0x1e06f4d8488>, <simpy.resources.resource.Resource object at 0x000001E06F4BF708>: <Request() object at 0x1e06f4c7ac8>, <simpy.resources.resource.Resource object at 0x000001E06F4ADD08>: <Request() object at 0x1e06f4c7e08>}\nkeep resources [<__main__.TransportProcessingResource object at 0x000001E06F4C7488>]\nrelease destination : {<simpy.resources.resource.Resource object at 0x000001E06F4C7788>: <Request() object at 0x1e06f4d8488>, <simpy.resources.resource.Resource object at 0x000001E06F4BF708>: <Request() object at 0x1e06f4c7ac8>, <simpy.resources.resource.Resource object at 0x000001E06F4ADD08>: <Request() object at 0x1e06f4c7e08>}\nreleased origin : {<simpy.resources.resource.Resource object at 0x000001E06F4C7788>: <Request() object at 0x1e06f4d8488>, <simpy.resources.resource.Resource object at 0x000001E06F4BF708>: <Request() object at 0x1e06f4c7ac8>}\nreleased processor : {<simpy.resources.resource.Resource object at 0x000001E06F4C7788>: <Request() object at 0x1e06f4d8488>}\n{<simpy.resources.resource.Resource object at 0x000001E06F4C7788>: <Request() object at 0x1e06f4d8488>}\nActivity end()\n<openclsim.model.MoveActivity object at 0x000001E06F4D8548>\nkeep_resources []\nstart event instance None\nMover_move before mover resource request\n"
    }
   ],
   "source": [
    "my_env.run()\n"
   ]
  },
  {
   "cell_type": "markdown",
   "metadata": {},
   "source": [
    "## Cutter1 log"
   ]
  },
  {
   "cell_type": "code",
   "execution_count": 6,
   "metadata": {},
   "outputs": [
    {
     "output_type": "execute_result",
     "data": {
      "text/plain": "                       Message ActivityState           Timestamp  Value  \\\n0  transfer default to Hopper2         START 1970-01-01 01:00:10      1   \n1  transfer default to Hopper2          STOP 1970-01-01 01:00:20      1   \n\n                             ActivityID  \n0  b0c0c766-aae7-11ea-8b92-d89ef3f41f81  \n1  b0c0c766-aae7-11ea-8b92-d89ef3f41f81  ",
      "text/html": "<div>\n<style scoped>\n    .dataframe tbody tr th:only-of-type {\n        vertical-align: middle;\n    }\n\n    .dataframe tbody tr th {\n        vertical-align: top;\n    }\n\n    .dataframe thead th {\n        text-align: right;\n    }\n</style>\n<table border=\"1\" class=\"dataframe\">\n  <thead>\n    <tr style=\"text-align: right;\">\n      <th></th>\n      <th>Message</th>\n      <th>ActivityState</th>\n      <th>Timestamp</th>\n      <th>Value</th>\n      <th>ActivityID</th>\n    </tr>\n  </thead>\n  <tbody>\n    <tr>\n      <th>0</th>\n      <td>transfer default to Hopper2</td>\n      <td>START</td>\n      <td>1970-01-01 01:00:10</td>\n      <td>1</td>\n      <td>b0c0c766-aae7-11ea-8b92-d89ef3f41f81</td>\n    </tr>\n    <tr>\n      <th>1</th>\n      <td>transfer default to Hopper2</td>\n      <td>STOP</td>\n      <td>1970-01-01 01:00:20</td>\n      <td>1</td>\n      <td>b0c0c766-aae7-11ea-8b92-d89ef3f41f81</td>\n    </tr>\n  </tbody>\n</table>\n</div>"
     },
     "metadata": {},
     "execution_count": 6
    }
   ],
   "source": [
    "log_df = pd.DataFrame(cutter1.log)\n",
    "data = log_df[[\"Message\", \"ActivityState\", \"Timestamp\", \"Value\", \"ActivityID\"]]\n",
    "data = data.drop_duplicates()\n",
    "data\n"
   ]
  },
  {
   "cell_type": "markdown",
   "metadata": {},
   "source": [
    "## Cutter2 log"
   ]
  },
  {
   "cell_type": "code",
   "execution_count": 7,
   "metadata": {},
   "outputs": [
    {
     "output_type": "execute_result",
     "data": {
      "text/plain": "                       Message ActivityState           Timestamp  Value  \\\n0  transfer default to Hopper1         START 1970-01-01 01:00:00      1   \n1  transfer default to Hopper1          STOP 1970-01-01 01:00:10      1   \n2  transfer default to Hopper3         START 1970-01-01 01:00:20      1   \n3  transfer default to Hopper3          STOP 1970-01-01 01:00:30      1   \n\n                             ActivityID  \n0  b0c07980-aae7-11ea-baaa-d89ef3f41f81  \n1  b0c07980-aae7-11ea-baaa-d89ef3f41f81  \n2  b0c11558-aae7-11ea-a218-d89ef3f41f81  \n3  b0c11558-aae7-11ea-a218-d89ef3f41f81  ",
      "text/html": "<div>\n<style scoped>\n    .dataframe tbody tr th:only-of-type {\n        vertical-align: middle;\n    }\n\n    .dataframe tbody tr th {\n        vertical-align: top;\n    }\n\n    .dataframe thead th {\n        text-align: right;\n    }\n</style>\n<table border=\"1\" class=\"dataframe\">\n  <thead>\n    <tr style=\"text-align: right;\">\n      <th></th>\n      <th>Message</th>\n      <th>ActivityState</th>\n      <th>Timestamp</th>\n      <th>Value</th>\n      <th>ActivityID</th>\n    </tr>\n  </thead>\n  <tbody>\n    <tr>\n      <th>0</th>\n      <td>transfer default to Hopper1</td>\n      <td>START</td>\n      <td>1970-01-01 01:00:00</td>\n      <td>1</td>\n      <td>b0c07980-aae7-11ea-baaa-d89ef3f41f81</td>\n    </tr>\n    <tr>\n      <th>1</th>\n      <td>transfer default to Hopper1</td>\n      <td>STOP</td>\n      <td>1970-01-01 01:00:10</td>\n      <td>1</td>\n      <td>b0c07980-aae7-11ea-baaa-d89ef3f41f81</td>\n    </tr>\n    <tr>\n      <th>2</th>\n      <td>transfer default to Hopper3</td>\n      <td>START</td>\n      <td>1970-01-01 01:00:20</td>\n      <td>1</td>\n      <td>b0c11558-aae7-11ea-a218-d89ef3f41f81</td>\n    </tr>\n    <tr>\n      <th>3</th>\n      <td>transfer default to Hopper3</td>\n      <td>STOP</td>\n      <td>1970-01-01 01:00:30</td>\n      <td>1</td>\n      <td>b0c11558-aae7-11ea-a218-d89ef3f41f81</td>\n    </tr>\n  </tbody>\n</table>\n</div>"
     },
     "metadata": {},
     "execution_count": 7
    }
   ],
   "source": [
    "log2_df = pd.DataFrame(cutter2.log)\n",
    "data2 = log2_df[[\"Message\", \"ActivityState\", \"Timestamp\", \"Value\", \"ActivityID\"]]\n",
    "data2 = data2.drop_duplicates()\n",
    "data2"
   ]
  },
  {
   "cell_type": "markdown",
   "metadata": {},
   "source": [
    "## Hopper1 log"
   ]
  },
  {
   "cell_type": "code",
   "execution_count": 8,
   "metadata": {},
   "outputs": [
    {
     "output_type": "execute_result",
     "data": {
      "text/plain": "                       Message ActivityState           Timestamp  Value  \\\n0  transfer default to Hopper1         START 1970-01-01 01:00:00      1   \n1  transfer default to Hopper1          STOP 1970-01-01 01:00:10      1   \n\n                             ActivityID  \n0  b0c07980-aae7-11ea-baaa-d89ef3f41f81  \n1  b0c07980-aae7-11ea-baaa-d89ef3f41f81  ",
      "text/html": "<div>\n<style scoped>\n    .dataframe tbody tr th:only-of-type {\n        vertical-align: middle;\n    }\n\n    .dataframe tbody tr th {\n        vertical-align: top;\n    }\n\n    .dataframe thead th {\n        text-align: right;\n    }\n</style>\n<table border=\"1\" class=\"dataframe\">\n  <thead>\n    <tr style=\"text-align: right;\">\n      <th></th>\n      <th>Message</th>\n      <th>ActivityState</th>\n      <th>Timestamp</th>\n      <th>Value</th>\n      <th>ActivityID</th>\n    </tr>\n  </thead>\n  <tbody>\n    <tr>\n      <th>0</th>\n      <td>transfer default to Hopper1</td>\n      <td>START</td>\n      <td>1970-01-01 01:00:00</td>\n      <td>1</td>\n      <td>b0c07980-aae7-11ea-baaa-d89ef3f41f81</td>\n    </tr>\n    <tr>\n      <th>1</th>\n      <td>transfer default to Hopper1</td>\n      <td>STOP</td>\n      <td>1970-01-01 01:00:10</td>\n      <td>1</td>\n      <td>b0c07980-aae7-11ea-baaa-d89ef3f41f81</td>\n    </tr>\n  </tbody>\n</table>\n</div>"
     },
     "metadata": {},
     "execution_count": 8
    }
   ],
   "source": [
    "hopper1_log_df = pd.DataFrame(hopper1.log)\n",
    "data_hopper1 = hopper1_log_df[[\"Message\", \"ActivityState\", \"Timestamp\", \"Value\", \"ActivityID\"]]\n",
    "data_hopper1 = data_hopper1.drop_duplicates()\n",
    "data_hopper1"
   ]
  },
  {
   "cell_type": "markdown",
   "metadata": {},
   "source": [
    "## Hopper2 log"
   ]
  },
  {
   "cell_type": "code",
   "execution_count": 9,
   "metadata": {},
   "outputs": [
    {
     "output_type": "execute_result",
     "data": {
      "text/plain": "                       Message ActivityState           Timestamp  Value  \\\n0  transfer default to Hopper2         START 1970-01-01 01:00:10      1   \n1  transfer default to Hopper2          STOP 1970-01-01 01:00:20      1   \n\n                             ActivityID  \n0  b0c0c766-aae7-11ea-8b92-d89ef3f41f81  \n1  b0c0c766-aae7-11ea-8b92-d89ef3f41f81  ",
      "text/html": "<div>\n<style scoped>\n    .dataframe tbody tr th:only-of-type {\n        vertical-align: middle;\n    }\n\n    .dataframe tbody tr th {\n        vertical-align: top;\n    }\n\n    .dataframe thead th {\n        text-align: right;\n    }\n</style>\n<table border=\"1\" class=\"dataframe\">\n  <thead>\n    <tr style=\"text-align: right;\">\n      <th></th>\n      <th>Message</th>\n      <th>ActivityState</th>\n      <th>Timestamp</th>\n      <th>Value</th>\n      <th>ActivityID</th>\n    </tr>\n  </thead>\n  <tbody>\n    <tr>\n      <th>0</th>\n      <td>transfer default to Hopper2</td>\n      <td>START</td>\n      <td>1970-01-01 01:00:10</td>\n      <td>1</td>\n      <td>b0c0c766-aae7-11ea-8b92-d89ef3f41f81</td>\n    </tr>\n    <tr>\n      <th>1</th>\n      <td>transfer default to Hopper2</td>\n      <td>STOP</td>\n      <td>1970-01-01 01:00:20</td>\n      <td>1</td>\n      <td>b0c0c766-aae7-11ea-8b92-d89ef3f41f81</td>\n    </tr>\n  </tbody>\n</table>\n</div>"
     },
     "metadata": {},
     "execution_count": 9
    }
   ],
   "source": [
    "hopper2_log_df = pd.DataFrame(hopper2.log)\n",
    "data_hopper2 = hopper2_log_df[[\"Message\", \"ActivityState\", \"Timestamp\", \"Value\", \"ActivityID\"]]\n",
    "data_hopper2 = data_hopper2.drop_duplicates()\n",
    "data_hopper2"
   ]
  },
  {
   "cell_type": "markdown",
   "metadata": {},
   "source": [
    "## Hopper3 log"
   ]
  },
  {
   "cell_type": "code",
   "execution_count": 10,
   "metadata": {},
   "outputs": [
    {
     "output_type": "execute_result",
     "data": {
      "text/plain": "                       Message ActivityState           Timestamp  Value  \\\n0  transfer default to Hopper3         START 1970-01-01 01:00:20      1   \n1  transfer default to Hopper3          STOP 1970-01-01 01:00:30      1   \n\n                             ActivityID  \n0  b0c11558-aae7-11ea-a218-d89ef3f41f81  \n1  b0c11558-aae7-11ea-a218-d89ef3f41f81  ",
      "text/html": "<div>\n<style scoped>\n    .dataframe tbody tr th:only-of-type {\n        vertical-align: middle;\n    }\n\n    .dataframe tbody tr th {\n        vertical-align: top;\n    }\n\n    .dataframe thead th {\n        text-align: right;\n    }\n</style>\n<table border=\"1\" class=\"dataframe\">\n  <thead>\n    <tr style=\"text-align: right;\">\n      <th></th>\n      <th>Message</th>\n      <th>ActivityState</th>\n      <th>Timestamp</th>\n      <th>Value</th>\n      <th>ActivityID</th>\n    </tr>\n  </thead>\n  <tbody>\n    <tr>\n      <th>0</th>\n      <td>transfer default to Hopper3</td>\n      <td>START</td>\n      <td>1970-01-01 01:00:20</td>\n      <td>1</td>\n      <td>b0c11558-aae7-11ea-a218-d89ef3f41f81</td>\n    </tr>\n    <tr>\n      <th>1</th>\n      <td>transfer default to Hopper3</td>\n      <td>STOP</td>\n      <td>1970-01-01 01:00:30</td>\n      <td>1</td>\n      <td>b0c11558-aae7-11ea-a218-d89ef3f41f81</td>\n    </tr>\n  </tbody>\n</table>\n</div>"
     },
     "metadata": {},
     "execution_count": 10
    }
   ],
   "source": [
    "hopper3_log_df = pd.DataFrame(hopper3.log)\n",
    "data_hopper3 = hopper3_log_df[[\"Message\", \"ActivityState\", \"Timestamp\", \"Value\", \"ActivityID\"]]\n",
    "data_hopper3 = data_hopper3.drop_duplicates()\n",
    "data_hopper3"
   ]
  }
 ],
 "metadata": {
  "language_info": {
   "codemirror_mode": {
    "name": "ipython",
    "version": 3
   },
   "file_extension": ".py",
   "mimetype": "text/x-python",
   "name": "python",
   "nbconvert_exporter": "python",
   "pygments_lexer": "ipython3",
   "version": "3.7.7-final"
  },
  "orig_nbformat": 2,
  "kernelspec": {
   "name": "python3",
   "display_name": "Python 3"
  }
 },
 "nbformat": 4,
 "nbformat_minor": 2
}