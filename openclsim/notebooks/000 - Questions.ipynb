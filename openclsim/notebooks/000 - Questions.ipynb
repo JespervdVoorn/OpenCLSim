{
 "cells": [
  {
   "cell_type": "markdown",
   "metadata": {},
   "source": [
    "### Questions\n",
    "* Why did you change the log structure? Did you change that as well for the single run process?\n",
    "* What do we have to do to make the old notebooks run again?\n",
    "* What happend to the stop_events?\n",
    "* Why implement such a complex condition_event parser if you can just use simpy events?\n",
    "* why all the set time-outs in the condition event parser?"
   ]
  },
  {
   "cell_type": "markdown",
   "metadata": {},
   "source": [
    "### Feedback\n",
    "\n",
    "* Currently Loadingfunctions are not included\n",
    "* amount should not be a required property\n",
    "* please confirm to the styling rules (black, isort, pylama, ect.)\n",
    "* All the logs that are produced by the activities and simulation objects should be only trrigger when verbose = true\n",
    "* See notebook 15. This is a bug and a proove of why we need reservations\n",
    "* Each rescource has a capacity (nr_resources) wich is by default one. If a origin has 1 rescourse one processor can load from or to that rescource at the same time. This is not included in the new activities!\n",
    "* What should we do with the 500+ lines of outdated code?"
   ]
  },
  {
   "cell_type": "markdown",
   "metadata": {},
   "source": [
    "### Notes\n",
    "\n",
    "* Sequence activty and while activity (wrapping activities) reset done event of all childred (sub processes) instead of activty reset it's own done activity\n",
    "\n",
    "* Update events of the environment with a better method that env.timeout(0). If a activity is wrapped by another activity, and the event finnishes, the done events are not automaticly updated. This is now done with env.timeout(0). This also holds for shifting amoutns in containers. A possible mistake is the (mis)use of the yield command\n"
   ]
  },
  {
   "cell_type": "code",
   "execution_count": null,
   "metadata": {},
   "outputs": [],
   "source": []
  }
 ],
 "metadata": {
  "kernelspec": {
   "display_name": "Python 3",
   "language": "python",
   "name": "python3"
  },
  "language_info": {
   "codemirror_mode": {
    "name": "ipython",
    "version": 3
   },
   "file_extension": ".py",
   "mimetype": "text/x-python",
   "name": "python",
   "nbconvert_exporter": "python",
   "pygments_lexer": "ipython3",
   "version": "3.7.4"
  }
 },
 "nbformat": 4,
 "nbformat_minor": 2
}
