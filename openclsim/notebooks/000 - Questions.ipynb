{
 "cells": [
  {
   "cell_type": "code",
   "execution_count": null,
   "metadata": {},
   "outputs": [],
   "source": [
    "shift_amount_activity_data = {\n",
    "    \"env\": my_env,  # The simpy environment defined in the first cel\n",
    "    \"name\": \"Transfer MP\",  # We are moving soil\n",
    "    \"ID\": \"6dbbbdf7-4589-11e9-bf3b-b469212bff5b\",  # For logging purposes\n",
    "    \"registry\": registry,\n",
    "    \"processor\": hopper,\n",
    "    \"origin\": from_site,\n",
    "    \"destination\": hopper,\n",
    "    \"amount\": 2,\n",
    "    \"duration\": 10,\n",
    "}\n",
    "\n",
    "\n",
    "# Why do you need to specify the amounth and duration? Why isn't it calculated?"
   ]
  },
  {
   "cell_type": "code",
   "execution_count": null,
   "metadata": {},
   "outputs": [],
   "source": [
    "# setup environment\n",
    "simulation_start = 0\n",
    "my_env = simpy.Environment(initial_time=simulation_start)\n",
    "registry = {}\n",
    "keep_resources = {}\n",
    "\n",
    "# what are keep_resources and registry and why are they empty dicts?"
   ]
  },
  {
   "cell_type": "code",
   "execution_count": 1,
   "metadata": {},
   "outputs": [],
   "source": [
    "# All the logs that are produced by the activities and simulation objects should be only trrigger when verbose = true"
   ]
  },
  {
   "cell_type": "code",
   "execution_count": 2,
   "metadata": {},
   "outputs": [],
   "source": [
    "# Why did you change the log structure?\n",
    "# Did you change that as well for the single run process?"
   ]
  },
  {
   "cell_type": "code",
   "execution_count": 3,
   "metadata": {},
   "outputs": [],
   "source": [
    "# What do we have to do to make the old notebooks run again?"
   ]
  },
  {
   "cell_type": "markdown",
   "metadata": {},
   "source": [
    "* Currently Loadingfunctions are not included\n",
    "* amount should not be a required property\n",
    "* please confirm to the styling rules (black, isort, pylama, ect.)\n",
    "* All the logs that are produced by the activities and simulation objects should be only trrigger when verbose = true\n",
    "* See notebook 15. This is a bug and a proove of why we need reservations\n",
    "* Each rescource has a capacity (nr_resources) wich is by default one. If a origin has 1 rescourse one processor can load from or to that rescource at the same time. This is not included in the new activities!"
   ]
  },
  {
   "cell_type": "code",
   "execution_count": null,
   "metadata": {},
   "outputs": [],
   "source": []
  }
 ],
 "metadata": {
  "kernelspec": {
   "display_name": "Python 3",
   "language": "python",
   "name": "python3"
  },
  "language_info": {
   "codemirror_mode": {
    "name": "ipython",
    "version": 3
   },
   "file_extension": ".py",
   "mimetype": "text/x-python",
   "name": "python",
   "nbconvert_exporter": "python",
   "pygments_lexer": "ipython3",
   "version": "3.7.4"
  }
 },
 "nbformat": 4,
 "nbformat_minor": 2
}
