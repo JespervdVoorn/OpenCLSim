{
 "cells": [
  {
   "cell_type": "markdown",
   "metadata": {},
   "source": [
    "# Demo SingleRun\n",
    "This notebook shows a single run consisting of the following four phases:\n",
    "* sail empty\n",
    "* loading\n",
    "* sail full\n",
    "* unloading"
   ]
  },
  {
   "cell_type": "code",
   "execution_count": 1,
   "metadata": {},
   "outputs": [],
   "source": [
    "import datetime, time\n",
    "import simpy\n",
    "\n",
    "import shapely.geometry\n",
    "from simplekml import Kml, Style\n",
    "\n",
    "import pandas as pd\n",
    "import openclsim.core as core\n",
    "import openclsim.model as model\n",
    "import openclsim.plot as plot\n",
    "import openclsim.plugins as plugin\n",
    "\n",
    "from plot import vessel_planning\n",
    "\n",
    "import matplotlib.pyplot as plt\n",
    "%matplotlib inline\n",
    "\n",
    "# setup environment\n",
    "simulation_start  = datetime.datetime(2010,1,1)\n",
    "my_env = simpy.Environment(initial_time=simulation_start.timestamp())\n",
    "registry = {}\n",
    "keep_resources = {}\n",
    "\n",
    "import numpy as np"
   ]
  },
  {
   "cell_type": "markdown",
   "metadata": {},
   "source": [
    "## Definition of Site"
   ]
  },
  {
   "cell_type": "code",
   "execution_count": 2,
   "metadata": {},
   "outputs": [
    {
     "name": "stdout",
     "output_type": "stream",
     "text": [
      "init\n",
      "level: 40\n",
      "completed init\n",
      "init\n",
      "level: 0\n",
      "completed init\n"
     ]
    }
   ],
   "source": [
    "# The generic site class\n",
    "Site = type(\n",
    "    \"Site\",\n",
    "    (\n",
    "        core.Identifiable,  # Give it a name\n",
    "        core.Log,  # Allow logging of all discrete events\n",
    "        core.Locatable,  # Add coordinates to extract distance information and visualize\n",
    "        core.HasContainer,  # Add information on the material available at the site\n",
    "        core.HasResource,\n",
    "    ),  # Add information on serving equipment\n",
    "    {},\n",
    ")  # The dictionary is empty because the site type is generic\n",
    "\n",
    "# Information on the extraction site - the \"from site\" - the \"win locatie\"\n",
    "location_from_site = shapely.geometry.Point(4.18055556, 52.18664444)  # lon, lat\n",
    "\n",
    "data_from_site = {\n",
    "    \"env\": my_env,  # The simpy environment defined in the first cel\n",
    "    \"name\": \"Winlocatie\",  # The name of the site\n",
    "    \"ID\": \"6dbbbdf4-4589-11e9-a501-b469212bff5d\",  # For logging purposes\n",
    "    \"geometry\": location_from_site,  # The coordinates of the project site\n",
    "    \"capacity\": 40,  # The capacity of the site\n",
    "    \"level\": 40,\n",
    "}  # The actual volume of the site\n",
    "\n",
    "# Information on the dumping site - the \"to site\" - the \"dump locatie\"\n",
    "location_to_site = shapely.geometry.Point(4.25222222, 52.11428333)  # lon, lat\n",
    "\n",
    "data_to_site = {\n",
    "    \"env\": my_env,  # The simpy environment defined in the first cel\n",
    "    \"name\": \"Dumplocatie\",  # The name of the site\n",
    "    \"ID\": \"6dbbbdf5-4589-11e9-82b2-b469212bff5c\",  # For logging purposes\n",
    "    \"geometry\": location_to_site,  # The coordinates of the project site\n",
    "    \"capacity\": 40,  # The capacity of the site\n",
    "    \"level\": 0,\n",
    "}  # The actual volume of the site (empty of course)\n",
    "\n",
    "# The two objects used for the simulation\n",
    "from_site = Site(**data_from_site)\n",
    "to_site = Site(**data_to_site)"
   ]
  },
  {
   "cell_type": "markdown",
   "metadata": {},
   "source": [
    "## Definition of Vessels"
   ]
  },
  {
   "cell_type": "code",
   "execution_count": 3,
   "metadata": {},
   "outputs": [
    {
     "name": "stdout",
     "output_type": "stream",
     "text": [
      "init\n",
      "level: 0\n",
      "completed init\n"
     ]
    }
   ],
   "source": [
    "# The generic class for an object that can move and transport (a TSHD for example)\n",
    "TransportProcessingResource = type(\n",
    "    \"TransportProcessingResource\",\n",
    "    (\n",
    "        core.Identifiable,  # Give it a name\n",
    "        core.Log,  # Allow logging of all discrete events\n",
    "        core.ContainerDependentMovable,  # A moving container, so capacity and location\n",
    "        core.Processor,  # Allow for loading and unloading\n",
    "        core.HasResource,  # Add information on serving equipment\n",
    "        core.HasCosts,  # Add information on costs\n",
    "        core.LoadingFunction,  # Add a loading function\n",
    "        core.UnloadingFunction,  # Add an unloading function\n",
    "    ),\n",
    "    {},\n",
    ")\n",
    "\n",
    "# For more realistic simulation you might want to have speed dependent on the volume carried by the vessel\n",
    "def compute_v_provider(v_empty, v_full):\n",
    "    return lambda x: 10\n",
    "\n",
    "# TSHD variables\n",
    "data_hopper = {\n",
    "    \"env\": my_env,  # The simpy environment\n",
    "    \"name\": \"Hopper 01\",  # Name\n",
    "    \"ID\": \"6dbbbdf6-4589-11e9-95a2-b469212bff5b\",  # For logging purposes\n",
    "    \"geometry\": location_from_site,  # It starts at the \"from site\"\n",
    "    \"loading_rate\": 1,  # Loading rate\n",
    "    \"unloading_rate\": 1,  # Unloading rate\n",
    "    \"capacity\": 4,  # Capacity of the hopper - \"Beunvolume\"\n",
    "    \"compute_v\": compute_v_provider(5, 4.5),  # Variable speed\n",
    "    \"weekrate\": 7,\n",
    "}\n",
    "\n",
    "hopper = TransportProcessingResource(**data_hopper)"
   ]
  },
  {
   "cell_type": "markdown",
   "metadata": {},
   "source": [
    "## Definition of process"
   ]
  },
  {
   "cell_type": "code",
   "execution_count": 4,
   "metadata": {},
   "outputs": [],
   "source": [
    "TestMoveActivity =  type(\n",
    "    \"TestMoveActivity\",\n",
    "    (\n",
    "        plugin.HasTestPluginMoveActivity,\n",
    "        plugin.HasWeatherPluginMoveActivity,\n",
    "        model.MoveActivity,  # the order is critical!\n",
    "    ),\n",
    "    {},\n",
    ")\n"
   ]
  },
  {
   "cell_type": "code",
   "execution_count": 5,
   "metadata": {},
   "outputs": [],
   "source": [
    "metocean_df = pd.read_csv(\"../demo/unit_test_weather.csv\")\n",
    "metocean_df = metocean_df.set_index(pd.to_datetime(metocean_df[\"Time\"], dayfirst=True))\n",
    "metocean_df = metocean_df.sort_index()\n",
    "\n",
    "metocean_df[\"Hs [m]\"] = 4 + \\\n",
    "                        1.5*np.sin(metocean_df['  Hour']/24 * 8 *np.pi) + \\\n",
    "                        1.5*np.sin(metocean_df['  Hour']/24 * 6 *np.pi)\n",
    "\n",
    "metocean_df[\"DateTime\"] = [datetime.datetime.strptime(dt, '%d-%m-%Y %H:%M') for dt in metocean_df[\"Time\"]]"
   ]
  },
  {
   "cell_type": "code",
   "execution_count": 6,
   "metadata": {},
   "outputs": [],
   "source": [
    "criteria_data_sail = {\n",
    "    \"event_name\":\"this\",\n",
    "    \"condition\":\"Hs [m]\",\n",
    "    \"maximum\":5,\n",
    "    \"window_length\":datetime.timedelta(hours=1)\n",
    "}\n",
    "\n",
    "sailing_crit = core.WorkabilityCriterion(**criteria_data_sail)\n"
   ]
  },
  {
   "cell_type": "code",
   "execution_count": 7,
   "metadata": {},
   "outputs": [
    {
     "name": "stdout",
     "output_type": "stream",
     "text": [
      "check weather plugin\n",
      "True\n",
      "True\n",
      "True\n",
      "regrister weather plugin\n",
      "check weather plugin\n",
      "True\n",
      "True\n",
      "True\n",
      "regrister weather plugin\n",
      "while Activity keep_resources []\n",
      "get_full_event : default\n",
      "start get_available\n",
      "start event instance None\n"
     ]
    }
   ],
   "source": [
    "single_run = []\n",
    "\n",
    "single_run.append(\n",
    "    TestMoveActivity(**{\n",
    "        \"env\": my_env,\n",
    "        \"name\": \"Soil movement\",\n",
    "        \"registry\": registry,\n",
    "        \"mover\": hopper,\n",
    "        \"destination\": from_site,\n",
    "        \"metocean_criteria\":[sailing_crit],\n",
    "        \"metocean_df\": metocean_df,\n",
    "        \"postpone_start\": True,\n",
    "    })\n",
    ")\n",
    "\n",
    "single_run.append(\n",
    "    model.ShiftAmountActivity(**{\n",
    "        \"env\": my_env,  # The simpy environment defined in the first cel\n",
    "        \"name\": \"Transfer MP\",  # We are moving soil\n",
    "        \"ID\": \"6dbbbdf7-4589-11e9-bf3b-b469212bff52\",  # For logging purposes\n",
    "        \"registry\": registry,\n",
    "        \"processor\": hopper,\n",
    "        \"origin\": from_site,\n",
    "        \"destination\": hopper,\n",
    "        \"amount\": 4,\n",
    "        \"duration\": 3600,\n",
    "        \"postpone_start\": True,\n",
    "    })\n",
    ")\n",
    "\n",
    "single_run.append(\n",
    "    TestMoveActivity(**{\n",
    "        \"env\": my_env,\n",
    "        \"name\": \"Soil movement\",\n",
    "        \"registry\": registry,\n",
    "        \"mover\": hopper,\n",
    "        \"destination\": to_site,\n",
    "        \"metocean_criteria\":[sailing_crit],\n",
    "        \"metocean_df\": metocean_df,\n",
    "        \"postpone_start\": True,\n",
    "    })\n",
    ")\n",
    "\n",
    "single_run.append(\n",
    "    model.ShiftAmountActivity(**{\n",
    "        \"env\": my_env,  # The simpy environment defined in the first cel\n",
    "        \"name\": \"Transfer TP\",  # We are moving soil\n",
    "        \"ID\": \"6dbbbdf7-4589-11e9-bf3b-b469212bff54\",  # For logging purposes\n",
    "        \"registry\": registry,\n",
    "        \"processor\": hopper,\n",
    "        \"origin\": hopper,\n",
    "        \"destination\": to_site,\n",
    "        \"amount\": 4,\n",
    "        \"duration\": 3600,\n",
    "        \"postpone_start\": True,\n",
    "    })\n",
    ")\n",
    "\n",
    "sequential_activity_data = {\n",
    "    \"env\": my_env,\n",
    "    \"name\": \"Single run process\",\n",
    "    \"ID\": \"6dbbbdf7-4589-11e9-bf3b-b469212bff60\",  # For logging purposes\n",
    "    \"registry\": registry,\n",
    "    \"sub_processes\": single_run,\n",
    "    \"postpone_start\": True,\n",
    "}\n",
    "activity = model.SequentialActivity(**sequential_activity_data)\n",
    "\n",
    "expr = [{\"type\":\"container\", \"concept\": to_site, \"state\":\"full\"}]\n",
    "while_data = {\n",
    "    \"env\": my_env,  # The simpy environment defined in the first cel\n",
    "    \"name\": \"while\",  # We are moving soil\n",
    "    \"ID\": \"6dbbbdf7-4589-11e9-bf3b-b469212bff5g\",  # For logging purposes\n",
    "    \"registry\": registry,\n",
    "    \"sub_process\": activity,\n",
    "    # \"condition_event\": [from_site.container.get_empty_event, to_site.container.get_full_event],\n",
    "    #\"condition_event\": to_site.container.get_full_event,\n",
    "    \"condition_event\": expr,\n",
    "    \"postpone_start\": False,\n",
    "}\n",
    "while_activity = model.WhileActivity(**while_data)\n"
   ]
  },
  {
   "cell_type": "code",
   "execution_count": 8,
   "metadata": {},
   "outputs": [
    {
     "name": "stdout",
     "output_type": "stream",
     "text": [
      "<openclsim.model.SequentialActivity object at 0x000002A126135848>\n",
      "conditional \n",
      "start event instance None\n",
      "<__main__.TestMoveActivity object at 0x000002A126118948>\n",
      "keep_resources []\n",
      "start event instance None\n",
      "Mover_move before mover resource request\n",
      "put_callback - id_ default\n",
      "{}\n",
      "put_callback - id_ default\n",
      "{'default': {40: <Event() object at 0x2a126135d88>}}\n",
      "amount :40\n",
      "put_callback - id_ default\n",
      "{}\n",
      "Mover_move after mover resource request\n",
      "weatherPlugin start preprocess\n",
      "[['2010-01-01T03:00:00.000000000' '2010-01-01T06:40:00.000000000']\n",
      " ['2010-01-01T09:00:00.000000000' '2010-01-01T16:40:00.000000000']\n",
      " ['2010-01-01T20:00:00.000000000' '2010-01-01T23:20:00.000000000']\n",
      " ['2010-01-02T03:00:00.000000000' '2010-01-02T06:40:00.000000000']\n",
      " ['2010-01-02T09:00:00.000000000' '2010-01-02T16:40:00.000000000']\n",
      " ['2010-01-02T20:00:00.000000000' '2010-01-02T23:20:00.000000000']\n",
      " ['2010-01-03T03:00:00.000000000' '2010-01-03T06:40:00.000000000']\n",
      " ['2010-01-03T09:00:00.000000000' '2010-01-03T16:40:00.000000000']\n",
      " ['2010-01-03T20:00:00.000000000' '2010-01-03T23:20:00.000000000']\n",
      " ['2010-01-04T03:00:00.000000000' '2010-01-04T06:40:00.000000000']\n",
      " ['2010-01-04T09:00:00.000000000' '2010-01-04T16:40:00.000000000']\n",
      " ['2010-01-04T20:00:00.000000000' '2010-01-04T23:20:00.000000000']\n",
      " ['2010-01-05T03:00:00.000000000' '2010-01-05T06:40:00.000000000']\n",
      " ['2010-01-05T09:00:00.000000000' '2010-01-05T16:40:00.000000000']\n",
      " ['2010-01-05T20:00:00.000000000' '2010-01-05T23:20:00.000000000']\n",
      " ['2010-01-06T03:00:00.000000000' '2010-01-06T06:40:00.000000000']\n",
      " ['2010-01-06T09:00:00.000000000' '2010-01-06T16:40:00.000000000']\n",
      " ['2010-01-06T20:00:00.000000000' '2010-01-06T23:20:00.000000000']\n",
      " ['2010-01-07T03:00:00.000000000' '2010-01-07T06:40:00.000000000']\n",
      " ['2010-01-07T09:00:00.000000000' '2010-01-07T16:40:00.000000000']\n",
      " ['2010-01-07T20:00:00.000000000' '2010-01-07T23:20:00.000000000']\n",
      " ['2010-01-08T03:00:00.000000000' '2010-01-08T06:40:00.000000000']\n",
      " ['2010-01-08T09:00:00.000000000' '2010-01-08T16:40:00.000000000']\n",
      " ['2010-01-08T20:00:00.000000000' '2010-01-08T21:50:00.000000000']]\n",
      "[10800.0]\n",
      "we have to wait for 10800.0\n",
      "delay processing 10800.0\n",
      "before delay 1262300400.0\n",
      "after delay 1262311200.0\n",
      "plugin_data mover: <__main__.TransportProcessingResource object at 0x000002A126066BC8>\n",
      "plugin_data origin: <__main__.TransportProcessingResource object at 0x000002A126066BC8>\n",
      "plugin_data destination: <__main__.Site object at 0x000002A12605C108>\n",
      "plugin_data engine_oder: 1.0\n",
      "plugin_data activity_log: <__main__.TestMoveActivity object at 0x000002A126118948>\n",
      "Mover_move after move\n",
      "plugin_data mover: <__main__.TransportProcessingResource object at 0x000002A126066BC8>\n",
      "plugin_data origin: <__main__.TransportProcessingResource object at 0x000002A126066BC8>\n",
      "plugin_data destination: <__main__.Site object at 0x000002A12605C108>\n",
      "plugin_data engine_oder: 1.0\n",
      "plugin_data activity_log: <__main__.TestMoveActivity object at 0x000002A126118948>\n",
      "plugin_data start_preprocessing: 1262300400.0\n",
      "plugin_data start_activity: 1262311200.0\n",
      "Activity end(Soil movement)\n",
      "<openclsim.model.ShiftAmountActivity object at 0x000002A126118988>\n",
      "keep_resources []\n",
      "SHift amount Activity keep_resources []\n",
      "start event instance None\n",
      "start : {}\n",
      "{'origin.6dbbbdf4-4589-11e9-a501-b469212bff5d': 40, 'destination.6dbbbdf6-4589-11e9-95a2-b469212bff5b': 4}\n",
      "destination request : {<simpy.resources.resource.Resource object at 0x000002A126066E48>: <Request() object at 0x2a12612f5c8>}\n",
      "shift amount process keep_resources []\n",
      "start get_available\n",
      "processor request : {<simpy.resources.resource.Resource object at 0x000002A126066E48>: <Request() object at 0x2a12612f5c8>}\n",
      "site request : {<simpy.resources.resource.Resource object at 0x000002A126066E48>: <Request() object at 0x2a12612f5c8>, <simpy.resources.resource.Resource object at 0x000002A125B9FB88>: <Request() object at 0x2a125b6b4c8>}\n",
      "end requestIfAvailable : {<simpy.resources.resource.Resource object at 0x000002A126066E48>: <Request() object at 0x2a12612f5c8>, <simpy.resources.resource.Resource object at 0x000002A125B9FB88>: <Request() object at 0x2a125b6b4c8>}\n",
      "after req resource if available : {<simpy.resources.resource.Resource object at 0x000002A126066E48>: <Request() object at 0x2a12612f5c8>, <simpy.resources.resource.Resource object at 0x000002A125B9FB88>: <Request() object at 0x2a125b6b4c8>}\n",
      "_shift_amount\n",
      "start _shift_amount\n",
      "amount 4\n",
      "processor start process\n",
      "transfer default to Hopper 01\n",
      "processor process without rate\n",
      "origin store before get: [{'id': 'default', 'level': 40, 'capacity': 40}]\n",
      "start get 4\n",
      "store_status {'id': 'default', 'level': 40, 'capacity': 40}\n",
      "end get 4\n",
      "get_callback - id_ <StorePut() object at 0x2a126072208>\n",
      "start get_callback\n",
      "{}\n",
      "origin store after get: [{'id': 'default', 'level': 36, 'capacity': 40}]\n",
      "after get\n",
      "after check_down time\n",
      "destination store before put: [{'id': 'default', 'level': 0, 'capacity': 4}]\n",
      "<FilterStoreGet() object at 0x2a126072208>\n",
      "put_callback - id_ default\n",
      "{}\n",
      "destination store after put: [{'id': 'default', 'level': 4, 'capacity': 4}]\n",
      "after put\n",
      "processor end process\n",
      "Processed 4 of default:\n",
      "  by:          Hopper 01\n",
      "  origin        Winlocatie  contains: 36 of default\n",
      "  destination:  Hopper 01 contains: 4 of default\n",
      "after shift amount : {<simpy.resources.resource.Resource object at 0x000002A126066E48>: <Request() object at 0x2a12612f5c8>, <simpy.resources.resource.Resource object at 0x000002A125B9FB88>: <Request() object at 0x2a125b6b4c8>}\n",
      "keep resources []\n",
      "release destination : {<simpy.resources.resource.Resource object at 0x000002A125B9FB88>: <Request() object at 0x2a125b6b4c8>}\n",
      "released origin : {}\n",
      "released processor : {}\n",
      "{}\n",
      "Activity end(Transfer MP)\n",
      "<__main__.TestMoveActivity object at 0x000002A12612FC48>\n",
      "keep_resources []\n",
      "start event instance None\n",
      "Mover_move before mover resource request\n",
      "Mover_move after mover resource request\n",
      "weatherPlugin start preprocess\n",
      "[['2010-01-01T03:00:00.000000000' '2010-01-01T06:40:00.000000000']\n",
      " ['2010-01-01T09:00:00.000000000' '2010-01-01T16:40:00.000000000']\n",
      " ['2010-01-01T20:00:00.000000000' '2010-01-01T23:20:00.000000000']\n",
      " ['2010-01-02T03:00:00.000000000' '2010-01-02T06:40:00.000000000']\n",
      " ['2010-01-02T09:00:00.000000000' '2010-01-02T16:40:00.000000000']\n",
      " ['2010-01-02T20:00:00.000000000' '2010-01-02T23:20:00.000000000']\n",
      " ['2010-01-03T03:00:00.000000000' '2010-01-03T06:40:00.000000000']\n",
      " ['2010-01-03T09:00:00.000000000' '2010-01-03T16:40:00.000000000']\n",
      " ['2010-01-03T20:00:00.000000000' '2010-01-03T23:20:00.000000000']\n",
      " ['2010-01-04T03:00:00.000000000' '2010-01-04T06:40:00.000000000']\n",
      " ['2010-01-04T09:00:00.000000000' '2010-01-04T16:40:00.000000000']\n",
      " ['2010-01-04T20:00:00.000000000' '2010-01-04T23:20:00.000000000']\n",
      " ['2010-01-05T03:00:00.000000000' '2010-01-05T06:40:00.000000000']\n",
      " ['2010-01-05T09:00:00.000000000' '2010-01-05T16:40:00.000000000']\n",
      " ['2010-01-05T20:00:00.000000000' '2010-01-05T23:20:00.000000000']\n",
      " ['2010-01-06T03:00:00.000000000' '2010-01-06T06:40:00.000000000']\n",
      " ['2010-01-06T09:00:00.000000000' '2010-01-06T16:40:00.000000000']\n",
      " ['2010-01-06T20:00:00.000000000' '2010-01-06T23:20:00.000000000']\n",
      " ['2010-01-07T03:00:00.000000000' '2010-01-07T06:40:00.000000000']\n",
      " ['2010-01-07T09:00:00.000000000' '2010-01-07T16:40:00.000000000']\n",
      " ['2010-01-07T20:00:00.000000000' '2010-01-07T23:20:00.000000000']\n",
      " ['2010-01-08T03:00:00.000000000' '2010-01-08T06:40:00.000000000']\n",
      " ['2010-01-08T09:00:00.000000000' '2010-01-08T16:40:00.000000000']\n",
      " ['2010-01-08T20:00:00.000000000' '2010-01-08T21:50:00.000000000']]\n",
      "[0.0]\n",
      "we have to wait for 0.0\n",
      "delay processing 0.0\n",
      "before delay 1262314800.0\n",
      "after delay 1262314800.0\n",
      "plugin_data mover: <__main__.TransportProcessingResource object at 0x000002A126066BC8>\n",
      "plugin_data origin: <__main__.TransportProcessingResource object at 0x000002A126066BC8>\n",
      "plugin_data destination: <__main__.Site object at 0x000002A126066F88>\n",
      "plugin_data engine_oder: 1.0\n",
      "plugin_data activity_log: <__main__.TestMoveActivity object at 0x000002A12612FC48>\n",
      "Mover_move after move\n",
      "plugin_data mover: <__main__.TransportProcessingResource object at 0x000002A126066BC8>\n",
      "plugin_data origin: <__main__.TransportProcessingResource object at 0x000002A126066BC8>\n",
      "plugin_data destination: <__main__.Site object at 0x000002A126066F88>\n",
      "plugin_data engine_oder: 1.0\n",
      "plugin_data activity_log: <__main__.TestMoveActivity object at 0x000002A12612FC48>\n",
      "plugin_data start_preprocessing: 1262314800.0\n",
      "plugin_data start_activity: 1262314800.0\n",
      "Activity end(Soil movement)\n",
      "<openclsim.model.ShiftAmountActivity object at 0x000002A12612FE48>\n",
      "keep_resources []\n",
      "SHift amount Activity keep_resources []\n",
      "start event instance None\n"
     ]
    },
    {
     "name": "stdout",
     "output_type": "stream",
     "text": [
      "start : {}\n",
      "{'origin.6dbbbdf6-4589-11e9-95a2-b469212bff5b': 4, 'destination.6dbbbdf5-4589-11e9-82b2-b469212bff5c': 40}\n",
      "destination request : {<simpy.resources.resource.Resource object at 0x000002A125B9F388>: <Request() object at 0x2a126100208>}\n",
      "shift amount process keep_resources []\n",
      "start get_available\n",
      "processor request : {<simpy.resources.resource.Resource object at 0x000002A125B9F388>: <Request() object at 0x2a126100208>, <simpy.resources.resource.Resource object at 0x000002A126066E48>: <Request() object at 0x2a1260f0888>}\n",
      "site request : {<simpy.resources.resource.Resource object at 0x000002A125B9F388>: <Request() object at 0x2a126100208>, <simpy.resources.resource.Resource object at 0x000002A126066E48>: <Request() object at 0x2a1260f0888>}\n",
      "end requestIfAvailable : {<simpy.resources.resource.Resource object at 0x000002A125B9F388>: <Request() object at 0x2a126100208>, <simpy.resources.resource.Resource object at 0x000002A126066E48>: <Request() object at 0x2a1260f0888>}\n",
      "after req resource if available : {<simpy.resources.resource.Resource object at 0x000002A125B9F388>: <Request() object at 0x2a126100208>, <simpy.resources.resource.Resource object at 0x000002A126066E48>: <Request() object at 0x2a1260f0888>}\n",
      "_shift_amount\n",
      "start _shift_amount\n",
      "amount 4\n",
      "processor start process\n",
      "transfer default to Dumplocatie\n",
      "processor process without rate\n",
      "origin store before get: [{'id': 'default', 'level': 4, 'capacity': 4}]\n",
      "start get 4\n",
      "store_status {'id': 'default', 'level': 4, 'capacity': 4}\n",
      "end get 4\n",
      "get_callback - id_ <StorePut() object at 0x2a126100608>\n",
      "start get_callback\n",
      "{}\n",
      "origin store after get: [{'id': 'default', 'level': 0, 'capacity': 4}]\n",
      "after get\n",
      "after check_down time\n",
      "destination store before put: [{'id': 'default', 'level': 0, 'capacity': 40}]\n",
      "<FilterStoreGet() object at 0x2a125f06ec8>\n",
      "put_callback - id_ default\n",
      "{'default': {40: <Event() object at 0x2a126135d88>}}\n",
      "amount :40\n",
      "destination store after put: [{'id': 'default', 'level': 4, 'capacity': 40}]\n",
      "after put\n",
      "processor end process\n",
      "Processed 4 of default:\n",
      "  by:          Hopper 01\n",
      "  origin        Hopper 01  contains: 0 of default\n",
      "  destination:  Dumplocatie contains: 4 of default\n",
      "after shift amount : {<simpy.resources.resource.Resource object at 0x000002A125B9F388>: <Request() object at 0x2a126100208>, <simpy.resources.resource.Resource object at 0x000002A126066E48>: <Request() object at 0x2a1260f0888>}\n",
      "keep resources []\n",
      "release destination : {<simpy.resources.resource.Resource object at 0x000002A126066E48>: <Request() object at 0x2a1260f0888>}\n",
      "released origin : {}\n",
      "released processor : {}\n",
      "{}\n",
      "Activity end(Transfer TP)\n",
      "Activity end(Single run process)\n",
      "condition event triggered: False False round 0\n",
      "while loop requested_resources {}\n",
      "while loop keep_resources []\n",
      "<openclsim.model.SequentialActivity object at 0x000002A126135848>\n",
      "conditional \n",
      "start event instance None\n",
      "<__main__.TestMoveActivity object at 0x000002A126118948>\n",
      "keep_resources []\n",
      "start event instance None\n",
      "Mover_move before mover resource request\n",
      "Mover_move after mover resource request\n",
      "weatherPlugin start preprocess\n",
      "[['2010-01-01T03:00:00.000000000' '2010-01-01T06:40:00.000000000']\n",
      " ['2010-01-01T09:00:00.000000000' '2010-01-01T16:40:00.000000000']\n",
      " ['2010-01-01T20:00:00.000000000' '2010-01-01T23:20:00.000000000']\n",
      " ['2010-01-02T03:00:00.000000000' '2010-01-02T06:40:00.000000000']\n",
      " ['2010-01-02T09:00:00.000000000' '2010-01-02T16:40:00.000000000']\n",
      " ['2010-01-02T20:00:00.000000000' '2010-01-02T23:20:00.000000000']\n",
      " ['2010-01-03T03:00:00.000000000' '2010-01-03T06:40:00.000000000']\n",
      " ['2010-01-03T09:00:00.000000000' '2010-01-03T16:40:00.000000000']\n",
      " ['2010-01-03T20:00:00.000000000' '2010-01-03T23:20:00.000000000']\n",
      " ['2010-01-04T03:00:00.000000000' '2010-01-04T06:40:00.000000000']\n",
      " ['2010-01-04T09:00:00.000000000' '2010-01-04T16:40:00.000000000']\n",
      " ['2010-01-04T20:00:00.000000000' '2010-01-04T23:20:00.000000000']\n",
      " ['2010-01-05T03:00:00.000000000' '2010-01-05T06:40:00.000000000']\n",
      " ['2010-01-05T09:00:00.000000000' '2010-01-05T16:40:00.000000000']\n",
      " ['2010-01-05T20:00:00.000000000' '2010-01-05T23:20:00.000000000']\n",
      " ['2010-01-06T03:00:00.000000000' '2010-01-06T06:40:00.000000000']\n",
      " ['2010-01-06T09:00:00.000000000' '2010-01-06T16:40:00.000000000']\n",
      " ['2010-01-06T20:00:00.000000000' '2010-01-06T23:20:00.000000000']\n",
      " ['2010-01-07T03:00:00.000000000' '2010-01-07T06:40:00.000000000']\n",
      " ['2010-01-07T09:00:00.000000000' '2010-01-07T16:40:00.000000000']\n",
      " ['2010-01-07T20:00:00.000000000' '2010-01-07T23:20:00.000000000']\n",
      " ['2010-01-08T03:00:00.000000000' '2010-01-08T06:40:00.000000000']\n",
      " ['2010-01-08T09:00:00.000000000' '2010-01-08T16:40:00.000000000']\n",
      " ['2010-01-08T20:00:00.000000000' '2010-01-08T21:50:00.000000000']]\n",
      "[0.0]\n",
      "we have to wait for 0.0\n",
      "delay processing 0.0\n",
      "before delay 1262319342.8245912\n",
      "after delay 1262319342.8245912\n",
      "plugin_data mover: <__main__.TransportProcessingResource object at 0x000002A126066BC8>\n",
      "plugin_data origin: <__main__.TransportProcessingResource object at 0x000002A126066BC8>\n",
      "plugin_data destination: <__main__.Site object at 0x000002A12605C108>\n",
      "plugin_data engine_oder: 1.0\n",
      "plugin_data activity_log: <__main__.TestMoveActivity object at 0x000002A126118948>\n",
      "Mover_move after move\n",
      "plugin_data mover: <__main__.TransportProcessingResource object at 0x000002A126066BC8>\n",
      "plugin_data origin: <__main__.TransportProcessingResource object at 0x000002A126066BC8>\n",
      "plugin_data destination: <__main__.Site object at 0x000002A12605C108>\n",
      "plugin_data engine_oder: 1.0\n",
      "plugin_data activity_log: <__main__.TestMoveActivity object at 0x000002A126118948>\n",
      "plugin_data start_preprocessing: 1262319342.8245912\n",
      "plugin_data start_activity: 1262319342.8245912\n",
      "Activity end(Soil movement)\n",
      "<openclsim.model.ShiftAmountActivity object at 0x000002A126118988>\n",
      "keep_resources []\n",
      "SHift amount Activity keep_resources []\n",
      "start event instance None\n",
      "start : {}\n",
      "{'origin.6dbbbdf4-4589-11e9-a501-b469212bff5d': 36, 'destination.6dbbbdf6-4589-11e9-95a2-b469212bff5b': 4}\n",
      "destination request : {<simpy.resources.resource.Resource object at 0x000002A126066E48>: <Request() object at 0x2a126072308>}\n",
      "shift amount process keep_resources []\n",
      "start get_available\n",
      "processor request : {<simpy.resources.resource.Resource object at 0x000002A126066E48>: <Request() object at 0x2a126072308>}\n",
      "site request : {<simpy.resources.resource.Resource object at 0x000002A126066E48>: <Request() object at 0x2a126072308>, <simpy.resources.resource.Resource object at 0x000002A125B9FB88>: <Request() object at 0x2a1260725c8>}\n",
      "end requestIfAvailable : {<simpy.resources.resource.Resource object at 0x000002A126066E48>: <Request() object at 0x2a126072308>, <simpy.resources.resource.Resource object at 0x000002A125B9FB88>: <Request() object at 0x2a1260725c8>}\n",
      "after req resource if available : {<simpy.resources.resource.Resource object at 0x000002A126066E48>: <Request() object at 0x2a126072308>, <simpy.resources.resource.Resource object at 0x000002A125B9FB88>: <Request() object at 0x2a1260725c8>}\n",
      "_shift_amount\n",
      "start _shift_amount\n",
      "amount 4\n",
      "processor start process\n",
      "transfer default to Hopper 01\n",
      "processor process without rate\n",
      "origin store before get: [{'id': 'default', 'level': 36, 'capacity': 40}]\n",
      "start get 4\n",
      "store_status {'id': 'default', 'level': 36, 'capacity': 40}\n",
      "end get 4\n",
      "get_callback - id_ <StorePut() object at 0x2a12605c248>\n",
      "start get_callback\n",
      "{}\n",
      "origin store after get: [{'id': 'default', 'level': 32, 'capacity': 40}]\n",
      "after get\n",
      "after check_down time\n",
      "destination store before put: [{'id': 'default', 'level': 0, 'capacity': 4}]\n",
      "<FilterStoreGet() object at 0x2a12605c248>\n",
      "put_callback - id_ default\n",
      "{}\n",
      "destination store after put: [{'id': 'default', 'level': 4, 'capacity': 4}]\n",
      "after put\n",
      "processor end process\n",
      "Processed 4 of default:\n",
      "  by:          Hopper 01\n",
      "  origin        Winlocatie  contains: 32 of default\n",
      "  destination:  Hopper 01 contains: 4 of default\n",
      "after shift amount : {<simpy.resources.resource.Resource object at 0x000002A126066E48>: <Request() object at 0x2a126072308>, <simpy.resources.resource.Resource object at 0x000002A125B9FB88>: <Request() object at 0x2a1260725c8>}\n",
      "keep resources []\n",
      "release destination : {<simpy.resources.resource.Resource object at 0x000002A125B9FB88>: <Request() object at 0x2a1260725c8>}\n",
      "released origin : {}\n",
      "released processor : {}\n",
      "{}\n",
      "Activity end(Transfer MP)\n",
      "<__main__.TestMoveActivity object at 0x000002A12612FC48>\n",
      "keep_resources []\n",
      "start event instance None\n",
      "Mover_move before mover resource request\n",
      "Mover_move after mover resource request\n",
      "weatherPlugin start preprocess\n",
      "[['2010-01-01T03:00:00.000000000' '2010-01-01T06:40:00.000000000']\n",
      " ['2010-01-01T09:00:00.000000000' '2010-01-01T16:40:00.000000000']\n",
      " ['2010-01-01T20:00:00.000000000' '2010-01-01T23:20:00.000000000']\n",
      " ['2010-01-02T03:00:00.000000000' '2010-01-02T06:40:00.000000000']\n",
      " ['2010-01-02T09:00:00.000000000' '2010-01-02T16:40:00.000000000']\n",
      " ['2010-01-02T20:00:00.000000000' '2010-01-02T23:20:00.000000000']\n",
      " ['2010-01-03T03:00:00.000000000' '2010-01-03T06:40:00.000000000']\n",
      " ['2010-01-03T09:00:00.000000000' '2010-01-03T16:40:00.000000000']\n",
      " ['2010-01-03T20:00:00.000000000' '2010-01-03T23:20:00.000000000']\n",
      " ['2010-01-04T03:00:00.000000000' '2010-01-04T06:40:00.000000000']\n",
      " ['2010-01-04T09:00:00.000000000' '2010-01-04T16:40:00.000000000']\n",
      " ['2010-01-04T20:00:00.000000000' '2010-01-04T23:20:00.000000000']\n",
      " ['2010-01-05T03:00:00.000000000' '2010-01-05T06:40:00.000000000']\n",
      " ['2010-01-05T09:00:00.000000000' '2010-01-05T16:40:00.000000000']\n",
      " ['2010-01-05T20:00:00.000000000' '2010-01-05T23:20:00.000000000']\n",
      " ['2010-01-06T03:00:00.000000000' '2010-01-06T06:40:00.000000000']\n",
      " ['2010-01-06T09:00:00.000000000' '2010-01-06T16:40:00.000000000']\n",
      " ['2010-01-06T20:00:00.000000000' '2010-01-06T23:20:00.000000000']\n",
      " ['2010-01-07T03:00:00.000000000' '2010-01-07T06:40:00.000000000']\n",
      " ['2010-01-07T09:00:00.000000000' '2010-01-07T16:40:00.000000000']\n",
      " ['2010-01-07T20:00:00.000000000' '2010-01-07T23:20:00.000000000']\n",
      " ['2010-01-08T03:00:00.000000000' '2010-01-08T06:40:00.000000000']\n",
      " ['2010-01-08T09:00:00.000000000' '2010-01-08T16:40:00.000000000']\n",
      " ['2010-01-08T20:00:00.000000000' '2010-01-08T21:50:00.000000000']]\n",
      "[0.0]\n",
      "we have to wait for 0.0\n",
      "delay processing 0.0\n",
      "before delay 1262323885.6491823\n",
      "after delay 1262323885.6491823\n",
      "plugin_data mover: <__main__.TransportProcessingResource object at 0x000002A126066BC8>\n",
      "plugin_data origin: <__main__.TransportProcessingResource object at 0x000002A126066BC8>\n",
      "plugin_data destination: <__main__.Site object at 0x000002A126066F88>\n",
      "plugin_data engine_oder: 1.0\n",
      "plugin_data activity_log: <__main__.TestMoveActivity object at 0x000002A12612FC48>\n",
      "Mover_move after move\n",
      "plugin_data mover: <__main__.TransportProcessingResource object at 0x000002A126066BC8>\n",
      "plugin_data origin: <__main__.TransportProcessingResource object at 0x000002A126066BC8>\n",
      "plugin_data destination: <__main__.Site object at 0x000002A126066F88>\n",
      "plugin_data engine_oder: 1.0\n",
      "plugin_data activity_log: <__main__.TestMoveActivity object at 0x000002A12612FC48>\n",
      "plugin_data start_preprocessing: 1262323885.6491823\n",
      "plugin_data start_activity: 1262323885.6491823\n",
      "Activity end(Soil movement)\n",
      "<openclsim.model.ShiftAmountActivity object at 0x000002A12612FE48>\n",
      "keep_resources []\n",
      "SHift amount Activity keep_resources []\n",
      "start event instance None\n",
      "start : {}\n",
      "{'origin.6dbbbdf6-4589-11e9-95a2-b469212bff5b': 4, 'destination.6dbbbdf5-4589-11e9-82b2-b469212bff5c': 36}\n",
      "destination request : {<simpy.resources.resource.Resource object at 0x000002A125B9F388>: <Request() object at 0x2a11fe01f48>}\n",
      "shift amount process keep_resources []\n",
      "start get_available\n",
      "processor request : {<simpy.resources.resource.Resource object at 0x000002A125B9F388>: <Request() object at 0x2a11fe01f48>, <simpy.resources.resource.Resource object at 0x000002A126066E48>: <Request() object at 0x2a1260725c8>}\n",
      "site request : {<simpy.resources.resource.Resource object at 0x000002A125B9F388>: <Request() object at 0x2a11fe01f48>, <simpy.resources.resource.Resource object at 0x000002A126066E48>: <Request() object at 0x2a1260725c8>}\n",
      "end requestIfAvailable : {<simpy.resources.resource.Resource object at 0x000002A125B9F388>: <Request() object at 0x2a11fe01f48>, <simpy.resources.resource.Resource object at 0x000002A126066E48>: <Request() object at 0x2a1260725c8>}\n",
      "after req resource if available : {<simpy.resources.resource.Resource object at 0x000002A125B9F388>: <Request() object at 0x2a11fe01f48>, <simpy.resources.resource.Resource object at 0x000002A126066E48>: <Request() object at 0x2a1260725c8>}\n",
      "_shift_amount\n",
      "start _shift_amount\n",
      "amount 4\n",
      "processor start process\n",
      "transfer default to Dumplocatie\n",
      "processor process without rate\n",
      "origin store before get: [{'id': 'default', 'level': 4, 'capacity': 4}]\n",
      "start get 4\n",
      "store_status {'id': 'default', 'level': 4, 'capacity': 4}\n",
      "end get 4\n",
      "get_callback - id_ <StorePut() object at 0x2a126072248>\n",
      "start get_callback\n",
      "{}\n",
      "origin store after get: [{'id': 'default', 'level': 0, 'capacity': 4}]\n",
      "after get\n",
      "after check_down time\n",
      "destination store before put: [{'id': 'default', 'level': 4, 'capacity': 40}]\n",
      "<FilterStoreGet() object at 0x2a126072248>\n",
      "put_callback - id_ default\n",
      "{'default': {40: <Event() object at 0x2a126135d88>}}\n",
      "amount :40\n",
      "destination store after put: [{'id': 'default', 'level': 8, 'capacity': 40}]\n",
      "after put\n",
      "processor end process\n",
      "Processed 4 of default:\n",
      "  by:          Hopper 01\n",
      "  origin        Hopper 01  contains: 0 of default\n",
      "  destination:  Dumplocatie contains: 8 of default\n",
      "after shift amount : {<simpy.resources.resource.Resource object at 0x000002A125B9F388>: <Request() object at 0x2a11fe01f48>, <simpy.resources.resource.Resource object at 0x000002A126066E48>: <Request() object at 0x2a1260725c8>}\n",
      "keep resources []\n",
      "release destination : {<simpy.resources.resource.Resource object at 0x000002A126066E48>: <Request() object at 0x2a1260725c8>}\n",
      "released origin : {}\n",
      "released processor : {}\n",
      "{}\n",
      "Activity end(Transfer TP)\n",
      "Activity end(Single run process)\n",
      "condition event triggered: False False round 1\n",
      "while loop requested_resources {}\n",
      "while loop keep_resources []\n",
      "<openclsim.model.SequentialActivity object at 0x000002A126135848>\n",
      "conditional \n",
      "start event instance None\n",
      "<__main__.TestMoveActivity object at 0x000002A126118948>\n",
      "keep_resources []\n",
      "start event instance None\n",
      "Mover_move before mover resource request\n",
      "Mover_move after mover resource request\n",
      "weatherPlugin start preprocess\n",
      "[['2010-01-01T03:00:00.000000000' '2010-01-01T06:40:00.000000000']\n",
      " ['2010-01-01T09:00:00.000000000' '2010-01-01T16:40:00.000000000']\n",
      " ['2010-01-01T20:00:00.000000000' '2010-01-01T23:20:00.000000000']\n",
      " ['2010-01-02T03:00:00.000000000' '2010-01-02T06:40:00.000000000']\n",
      " ['2010-01-02T09:00:00.000000000' '2010-01-02T16:40:00.000000000']\n",
      " ['2010-01-02T20:00:00.000000000' '2010-01-02T23:20:00.000000000']\n",
      " ['2010-01-03T03:00:00.000000000' '2010-01-03T06:40:00.000000000']\n",
      " ['2010-01-03T09:00:00.000000000' '2010-01-03T16:40:00.000000000']\n",
      " ['2010-01-03T20:00:00.000000000' '2010-01-03T23:20:00.000000000']\n",
      " ['2010-01-04T03:00:00.000000000' '2010-01-04T06:40:00.000000000']\n",
      " ['2010-01-04T09:00:00.000000000' '2010-01-04T16:40:00.000000000']\n",
      " ['2010-01-04T20:00:00.000000000' '2010-01-04T23:20:00.000000000']\n",
      " ['2010-01-05T03:00:00.000000000' '2010-01-05T06:40:00.000000000']\n",
      " ['2010-01-05T09:00:00.000000000' '2010-01-05T16:40:00.000000000']\n",
      " ['2010-01-05T20:00:00.000000000' '2010-01-05T23:20:00.000000000']\n",
      " ['2010-01-06T03:00:00.000000000' '2010-01-06T06:40:00.000000000']\n",
      " ['2010-01-06T09:00:00.000000000' '2010-01-06T16:40:00.000000000']\n",
      " ['2010-01-06T20:00:00.000000000' '2010-01-06T23:20:00.000000000']\n",
      " ['2010-01-07T03:00:00.000000000' '2010-01-07T06:40:00.000000000']\n",
      " ['2010-01-07T09:00:00.000000000' '2010-01-07T16:40:00.000000000']\n",
      " ['2010-01-07T20:00:00.000000000' '2010-01-07T23:20:00.000000000']\n",
      " ['2010-01-08T03:00:00.000000000' '2010-01-08T06:40:00.000000000']\n",
      " ['2010-01-08T09:00:00.000000000' '2010-01-08T16:40:00.000000000']\n",
      " ['2010-01-08T20:00:00.000000000' '2010-01-08T21:50:00.000000000']]\n",
      "[4371.526227]\n",
      "we have to wait for 4371.526227\n",
      "delay processing 4371.526227\n",
      "before delay 1262328428.4737735\n",
      "after delay 1262332800.0000005\n",
      "plugin_data mover: <__main__.TransportProcessingResource object at 0x000002A126066BC8>\n",
      "plugin_data origin: <__main__.TransportProcessingResource object at 0x000002A126066BC8>\n",
      "plugin_data destination: <__main__.Site object at 0x000002A12605C108>\n",
      "plugin_data engine_oder: 1.0\n",
      "plugin_data activity_log: <__main__.TestMoveActivity object at 0x000002A126118948>\n",
      "Mover_move after move\n",
      "plugin_data mover: <__main__.TransportProcessingResource object at 0x000002A126066BC8>\n",
      "plugin_data origin: <__main__.TransportProcessingResource object at 0x000002A126066BC8>\n",
      "plugin_data destination: <__main__.Site object at 0x000002A12605C108>\n",
      "plugin_data engine_oder: 1.0\n",
      "plugin_data activity_log: <__main__.TestMoveActivity object at 0x000002A126118948>\n",
      "plugin_data start_preprocessing: 1262328428.4737735\n",
      "plugin_data start_activity: 1262332800.0000005\n",
      "Activity end(Soil movement)\n",
      "<openclsim.model.ShiftAmountActivity object at 0x000002A126118988>\n",
      "keep_resources []\n",
      "SHift amount Activity keep_resources []\n",
      "start event instance None\n",
      "start : {}\n",
      "{'origin.6dbbbdf4-4589-11e9-a501-b469212bff5d': 32, 'destination.6dbbbdf6-4589-11e9-95a2-b469212bff5b': 4}\n",
      "destination request : {<simpy.resources.resource.Resource object at 0x000002A126066E48>: <Request() object at 0x2a1260723c8>}\n",
      "shift amount process keep_resources []\n",
      "start get_available\n",
      "processor request : {<simpy.resources.resource.Resource object at 0x000002A126066E48>: <Request() object at 0x2a1260723c8>}\n",
      "site request : {<simpy.resources.resource.Resource object at 0x000002A126066E48>: <Request() object at 0x2a1260723c8>, <simpy.resources.resource.Resource object at 0x000002A125B9FB88>: <Request() object at 0x2a1260f0588>}\n",
      "end requestIfAvailable : {<simpy.resources.resource.Resource object at 0x000002A126066E48>: <Request() object at 0x2a1260723c8>, <simpy.resources.resource.Resource object at 0x000002A125B9FB88>: <Request() object at 0x2a1260f0588>}\n",
      "after req resource if available : {<simpy.resources.resource.Resource object at 0x000002A126066E48>: <Request() object at 0x2a1260723c8>, <simpy.resources.resource.Resource object at 0x000002A125B9FB88>: <Request() object at 0x2a1260f0588>}\n",
      "_shift_amount\n",
      "start _shift_amount\n",
      "amount 4\n",
      "processor start process\n",
      "transfer default to Hopper 01\n",
      "processor process without rate\n",
      "origin store before get: [{'id': 'default', 'level': 32, 'capacity': 40}]\n",
      "start get 4\n",
      "store_status {'id': 'default', 'level': 32, 'capacity': 40}\n",
      "end get 4\n",
      "get_callback - id_ <StorePut() object at 0x2a11fd28908>\n",
      "start get_callback\n",
      "{}\n",
      "origin store after get: [{'id': 'default', 'level': 28, 'capacity': 40}]\n",
      "after get\n",
      "after check_down time\n",
      "destination store before put: [{'id': 'default', 'level': 0, 'capacity': 4}]\n",
      "<FilterStoreGet() object at 0x2a11fd28908>\n",
      "put_callback - id_ default\n",
      "{}\n",
      "destination store after put: [{'id': 'default', 'level': 4, 'capacity': 4}]\n",
      "after put\n",
      "processor end process\n",
      "Processed 4 of default:\n",
      "  by:          Hopper 01\n",
      "  origin        Winlocatie  contains: 28 of default\n",
      "  destination:  Hopper 01 contains: 4 of default\n",
      "after shift amount : {<simpy.resources.resource.Resource object at 0x000002A126066E48>: <Request() object at 0x2a1260723c8>, <simpy.resources.resource.Resource object at 0x000002A125B9FB88>: <Request() object at 0x2a1260f0588>}\n",
      "keep resources []\n",
      "release destination : {<simpy.resources.resource.Resource object at 0x000002A125B9FB88>: <Request() object at 0x2a1260f0588>}\n",
      "released origin : {}\n",
      "released processor : {}\n",
      "{}\n",
      "Activity end(Transfer MP)\n",
      "<__main__.TestMoveActivity object at 0x000002A12612FC48>\n",
      "keep_resources []\n",
      "start event instance None\n",
      "Mover_move before mover resource request\n",
      "Mover_move after mover resource request\n",
      "weatherPlugin start preprocess\n",
      "[['2010-01-01T03:00:00.000000000' '2010-01-01T06:40:00.000000000']\n",
      " ['2010-01-01T09:00:00.000000000' '2010-01-01T16:40:00.000000000']\n",
      " ['2010-01-01T20:00:00.000000000' '2010-01-01T23:20:00.000000000']\n",
      " ['2010-01-02T03:00:00.000000000' '2010-01-02T06:40:00.000000000']\n",
      " ['2010-01-02T09:00:00.000000000' '2010-01-02T16:40:00.000000000']\n",
      " ['2010-01-02T20:00:00.000000000' '2010-01-02T23:20:00.000000000']\n",
      " ['2010-01-03T03:00:00.000000000' '2010-01-03T06:40:00.000000000']\n",
      " ['2010-01-03T09:00:00.000000000' '2010-01-03T16:40:00.000000000']\n",
      " ['2010-01-03T20:00:00.000000000' '2010-01-03T23:20:00.000000000']\n",
      " ['2010-01-04T03:00:00.000000000' '2010-01-04T06:40:00.000000000']\n",
      " ['2010-01-04T09:00:00.000000000' '2010-01-04T16:40:00.000000000']\n",
      " ['2010-01-04T20:00:00.000000000' '2010-01-04T23:20:00.000000000']\n",
      " ['2010-01-05T03:00:00.000000000' '2010-01-05T06:40:00.000000000']\n",
      " ['2010-01-05T09:00:00.000000000' '2010-01-05T16:40:00.000000000']\n",
      " ['2010-01-05T20:00:00.000000000' '2010-01-05T23:20:00.000000000']\n",
      " ['2010-01-06T03:00:00.000000000' '2010-01-06T06:40:00.000000000']\n",
      " ['2010-01-06T09:00:00.000000000' '2010-01-06T16:40:00.000000000']\n",
      " ['2010-01-06T20:00:00.000000000' '2010-01-06T23:20:00.000000000']\n",
      " ['2010-01-07T03:00:00.000000000' '2010-01-07T06:40:00.000000000']\n",
      " ['2010-01-07T09:00:00.000000000' '2010-01-07T16:40:00.000000000']\n",
      " ['2010-01-07T20:00:00.000000000' '2010-01-07T23:20:00.000000000']\n",
      " ['2010-01-08T03:00:00.000000000' '2010-01-08T06:40:00.000000000']\n",
      " ['2010-01-08T09:00:00.000000000' '2010-01-08T16:40:00.000000000']\n",
      " ['2010-01-08T20:00:00.000000000' '2010-01-08T21:50:00.000000000']]\n",
      "[0.0]\n",
      "we have to wait for 0.0\n",
      "delay processing 0.0\n",
      "before delay 1262337342.8245916\n",
      "after delay 1262337342.8245916\n",
      "plugin_data mover: <__main__.TransportProcessingResource object at 0x000002A126066BC8>\n",
      "plugin_data origin: <__main__.TransportProcessingResource object at 0x000002A126066BC8>\n",
      "plugin_data destination: <__main__.Site object at 0x000002A126066F88>\n",
      "plugin_data engine_oder: 1.0\n",
      "plugin_data activity_log: <__main__.TestMoveActivity object at 0x000002A12612FC48>\n",
      "Mover_move after move\n",
      "plugin_data mover: <__main__.TransportProcessingResource object at 0x000002A126066BC8>\n",
      "plugin_data origin: <__main__.TransportProcessingResource object at 0x000002A126066BC8>\n",
      "plugin_data destination: <__main__.Site object at 0x000002A126066F88>\n",
      "plugin_data engine_oder: 1.0\n",
      "plugin_data activity_log: <__main__.TestMoveActivity object at 0x000002A12612FC48>\n",
      "plugin_data start_preprocessing: 1262337342.8245916\n",
      "plugin_data start_activity: 1262337342.8245916\n",
      "Activity end(Soil movement)\n",
      "<openclsim.model.ShiftAmountActivity object at 0x000002A12612FE48>\n",
      "keep_resources []\n",
      "SHift amount Activity keep_resources []\n",
      "start event instance None\n",
      "start : {}\n",
      "{'origin.6dbbbdf6-4589-11e9-95a2-b469212bff5b': 4, 'destination.6dbbbdf5-4589-11e9-82b2-b469212bff5c': 32}\n",
      "destination request : {<simpy.resources.resource.Resource object at 0x000002A125B9F388>: <Request() object at 0x2a12612f5c8>}\n",
      "shift amount process keep_resources []\n",
      "start get_available\n",
      "processor request : {<simpy.resources.resource.Resource object at 0x000002A125B9F388>: <Request() object at 0x2a12612f5c8>, <simpy.resources.resource.Resource object at 0x000002A126066E48>: <Request() object at 0x2a126108b08>}\n",
      "site request : {<simpy.resources.resource.Resource object at 0x000002A125B9F388>: <Request() object at 0x2a12612f5c8>, <simpy.resources.resource.Resource object at 0x000002A126066E48>: <Request() object at 0x2a126108b08>}\n",
      "end requestIfAvailable : {<simpy.resources.resource.Resource object at 0x000002A125B9F388>: <Request() object at 0x2a12612f5c8>, <simpy.resources.resource.Resource object at 0x000002A126066E48>: <Request() object at 0x2a126108b08>}\n",
      "after req resource if available : {<simpy.resources.resource.Resource object at 0x000002A125B9F388>: <Request() object at 0x2a12612f5c8>, <simpy.resources.resource.Resource object at 0x000002A126066E48>: <Request() object at 0x2a126108b08>}\n",
      "_shift_amount\n",
      "start _shift_amount\n",
      "amount 4\n",
      "processor start process\n",
      "transfer default to Dumplocatie\n",
      "processor process without rate\n",
      "origin store before get: [{'id': 'default', 'level': 4, 'capacity': 4}]\n",
      "start get 4\n",
      "store_status {'id': 'default', 'level': 4, 'capacity': 4}\n",
      "end get 4\n",
      "get_callback - id_ <StorePut() object at 0x2a126108d08>\n",
      "start get_callback\n",
      "{}\n",
      "origin store after get: [{'id': 'default', 'level': 0, 'capacity': 4}]\n",
      "after get\n",
      "after check_down time\n",
      "destination store before put: [{'id': 'default', 'level': 8, 'capacity': 40}]\n",
      "<FilterStoreGet() object at 0x2a126108d08>\n",
      "put_callback - id_ default\n",
      "{'default': {40: <Event() object at 0x2a126135d88>}}\n",
      "amount :40\n",
      "destination store after put: [{'id': 'default', 'level': 12, 'capacity': 40}]\n",
      "after put\n",
      "processor end process\n",
      "Processed 4 of default:\n",
      "  by:          Hopper 01\n",
      "  origin        Hopper 01  contains: 0 of default\n",
      "  destination:  Dumplocatie contains: 12 of default\n",
      "after shift amount : {<simpy.resources.resource.Resource object at 0x000002A125B9F388>: <Request() object at 0x2a12612f5c8>, <simpy.resources.resource.Resource object at 0x000002A126066E48>: <Request() object at 0x2a126108b08>}\n",
      "keep resources []\n",
      "release destination : {<simpy.resources.resource.Resource object at 0x000002A126066E48>: <Request() object at 0x2a126108b08>}\n",
      "released origin : {}\n",
      "released processor : {}\n",
      "{}\n",
      "Activity end(Transfer TP)\n",
      "Activity end(Single run process)\n",
      "condition event triggered: False False round 2\n",
      "while loop requested_resources {}\n",
      "while loop keep_resources []\n",
      "<openclsim.model.SequentialActivity object at 0x000002A126135848>\n",
      "conditional \n",
      "start event instance None\n",
      "<__main__.TestMoveActivity object at 0x000002A126118948>\n",
      "keep_resources []\n",
      "start event instance None\n",
      "Mover_move before mover resource request\n",
      "Mover_move after mover resource request\n",
      "weatherPlugin start preprocess\n",
      "[['2010-01-01T03:00:00.000000000' '2010-01-01T06:40:00.000000000']\n",
      " ['2010-01-01T09:00:00.000000000' '2010-01-01T16:40:00.000000000']\n",
      " ['2010-01-01T20:00:00.000000000' '2010-01-01T23:20:00.000000000']\n",
      " ['2010-01-02T03:00:00.000000000' '2010-01-02T06:40:00.000000000']\n",
      " ['2010-01-02T09:00:00.000000000' '2010-01-02T16:40:00.000000000']\n",
      " ['2010-01-02T20:00:00.000000000' '2010-01-02T23:20:00.000000000']\n",
      " ['2010-01-03T03:00:00.000000000' '2010-01-03T06:40:00.000000000']\n",
      " ['2010-01-03T09:00:00.000000000' '2010-01-03T16:40:00.000000000']\n",
      " ['2010-01-03T20:00:00.000000000' '2010-01-03T23:20:00.000000000']\n",
      " ['2010-01-04T03:00:00.000000000' '2010-01-04T06:40:00.000000000']\n",
      " ['2010-01-04T09:00:00.000000000' '2010-01-04T16:40:00.000000000']\n",
      " ['2010-01-04T20:00:00.000000000' '2010-01-04T23:20:00.000000000']\n",
      " ['2010-01-05T03:00:00.000000000' '2010-01-05T06:40:00.000000000']\n",
      " ['2010-01-05T09:00:00.000000000' '2010-01-05T16:40:00.000000000']\n",
      " ['2010-01-05T20:00:00.000000000' '2010-01-05T23:20:00.000000000']\n",
      " ['2010-01-06T03:00:00.000000000' '2010-01-06T06:40:00.000000000']\n",
      " ['2010-01-06T09:00:00.000000000' '2010-01-06T16:40:00.000000000']\n",
      " ['2010-01-06T20:00:00.000000000' '2010-01-06T23:20:00.000000000']\n",
      " ['2010-01-07T03:00:00.000000000' '2010-01-07T06:40:00.000000000']\n",
      " ['2010-01-07T09:00:00.000000000' '2010-01-07T16:40:00.000000000']\n",
      " ['2010-01-07T20:00:00.000000000' '2010-01-07T23:20:00.000000000']\n",
      " ['2010-01-08T03:00:00.000000000' '2010-01-08T06:40:00.000000000']\n",
      " ['2010-01-08T09:00:00.000000000' '2010-01-08T16:40:00.000000000']\n",
      " ['2010-01-08T20:00:00.000000000' '2010-01-08T21:50:00.000000000']]\n",
      "[0.0]\n",
      "we have to wait for 0.0\n",
      "delay processing 0.0\n",
      "before delay 1262341885.6491828\n",
      "after delay 1262341885.6491828\n",
      "plugin_data mover: <__main__.TransportProcessingResource object at 0x000002A126066BC8>\n",
      "plugin_data origin: <__main__.TransportProcessingResource object at 0x000002A126066BC8>\n",
      "plugin_data destination: <__main__.Site object at 0x000002A12605C108>\n",
      "plugin_data engine_oder: 1.0\n",
      "plugin_data activity_log: <__main__.TestMoveActivity object at 0x000002A126118948>\n",
      "Mover_move after move\n",
      "plugin_data mover: <__main__.TransportProcessingResource object at 0x000002A126066BC8>\n",
      "plugin_data origin: <__main__.TransportProcessingResource object at 0x000002A126066BC8>\n",
      "plugin_data destination: <__main__.Site object at 0x000002A12605C108>\n",
      "plugin_data engine_oder: 1.0\n",
      "plugin_data activity_log: <__main__.TestMoveActivity object at 0x000002A126118948>\n",
      "plugin_data start_preprocessing: 1262341885.6491828\n",
      "plugin_data start_activity: 1262341885.6491828\n",
      "Activity end(Soil movement)\n",
      "<openclsim.model.ShiftAmountActivity object at 0x000002A126118988>\n",
      "keep_resources []\n",
      "SHift amount Activity keep_resources []\n",
      "start event instance None\n",
      "start : {}\n",
      "{'origin.6dbbbdf4-4589-11e9-a501-b469212bff5d': 28, 'destination.6dbbbdf6-4589-11e9-95a2-b469212bff5b': 4}\n",
      "destination request : {<simpy.resources.resource.Resource object at 0x000002A126066E48>: <Request() object at 0x2a125f06ec8>}\n",
      "shift amount process keep_resources []\n",
      "start get_available\n",
      "processor request : {<simpy.resources.resource.Resource object at 0x000002A126066E48>: <Request() object at 0x2a125f06ec8>}\n",
      "site request : {<simpy.resources.resource.Resource object at 0x000002A126066E48>: <Request() object at 0x2a125f06ec8>, <simpy.resources.resource.Resource object at 0x000002A125B9FB88>: <Request() object at 0x2a1261026c8>}\n",
      "end requestIfAvailable : {<simpy.resources.resource.Resource object at 0x000002A126066E48>: <Request() object at 0x2a125f06ec8>, <simpy.resources.resource.Resource object at 0x000002A125B9FB88>: <Request() object at 0x2a1261026c8>}\n",
      "after req resource if available : {<simpy.resources.resource.Resource object at 0x000002A126066E48>: <Request() object at 0x2a125f06ec8>, <simpy.resources.resource.Resource object at 0x000002A125B9FB88>: <Request() object at 0x2a1261026c8>}\n",
      "_shift_amount\n",
      "start _shift_amount\n",
      "amount 4\n",
      "processor start process\n",
      "transfer default to Hopper 01\n",
      "processor process without rate\n",
      "origin store before get: [{'id': 'default', 'level': 28, 'capacity': 40}]\n",
      "start get 4\n",
      "store_status {'id': 'default', 'level': 28, 'capacity': 40}\n",
      "end get 4\n",
      "get_callback - id_ <StorePut() object at 0x2a1261022c8>\n",
      "start get_callback\n",
      "{}\n",
      "origin store after get: [{'id': 'default', 'level': 24, 'capacity': 40}]\n",
      "after get\n",
      "after check_down time\n",
      "destination store before put: [{'id': 'default', 'level': 0, 'capacity': 4}]\n",
      "<FilterStoreGet() object at 0x2a1261022c8>\n",
      "put_callback - id_ default\n",
      "{}\n",
      "destination store after put: [{'id': 'default', 'level': 4, 'capacity': 4}]\n",
      "after put\n",
      "processor end process\n",
      "Processed 4 of default:\n",
      "  by:          Hopper 01\n",
      "  origin        Winlocatie  contains: 24 of default\n",
      "  destination:  Hopper 01 contains: 4 of default\n",
      "after shift amount : {<simpy.resources.resource.Resource object at 0x000002A126066E48>: <Request() object at 0x2a125f06ec8>, <simpy.resources.resource.Resource object at 0x000002A125B9FB88>: <Request() object at 0x2a1261026c8>}\n",
      "keep resources []\n",
      "release destination : {<simpy.resources.resource.Resource object at 0x000002A125B9FB88>: <Request() object at 0x2a1261026c8>}\n",
      "released origin : {}\n",
      "released processor : {}\n",
      "{}\n",
      "Activity end(Transfer MP)\n",
      "<__main__.TestMoveActivity object at 0x000002A12612FC48>\n",
      "keep_resources []\n",
      "start event instance None\n",
      "Mover_move before mover resource request\n",
      "Mover_move after mover resource request\n",
      "weatherPlugin start preprocess\n",
      "[['2010-01-01T03:00:00.000000000' '2010-01-01T06:40:00.000000000']\n",
      " ['2010-01-01T09:00:00.000000000' '2010-01-01T16:40:00.000000000']\n",
      " ['2010-01-01T20:00:00.000000000' '2010-01-01T23:20:00.000000000']\n",
      " ['2010-01-02T03:00:00.000000000' '2010-01-02T06:40:00.000000000']\n",
      " ['2010-01-02T09:00:00.000000000' '2010-01-02T16:40:00.000000000']\n",
      " ['2010-01-02T20:00:00.000000000' '2010-01-02T23:20:00.000000000']\n",
      " ['2010-01-03T03:00:00.000000000' '2010-01-03T06:40:00.000000000']\n",
      " ['2010-01-03T09:00:00.000000000' '2010-01-03T16:40:00.000000000']\n",
      " ['2010-01-03T20:00:00.000000000' '2010-01-03T23:20:00.000000000']\n",
      " ['2010-01-04T03:00:00.000000000' '2010-01-04T06:40:00.000000000']\n",
      " ['2010-01-04T09:00:00.000000000' '2010-01-04T16:40:00.000000000']\n",
      " ['2010-01-04T20:00:00.000000000' '2010-01-04T23:20:00.000000000']\n",
      " ['2010-01-05T03:00:00.000000000' '2010-01-05T06:40:00.000000000']\n",
      " ['2010-01-05T09:00:00.000000000' '2010-01-05T16:40:00.000000000']\n",
      " ['2010-01-05T20:00:00.000000000' '2010-01-05T23:20:00.000000000']\n",
      " ['2010-01-06T03:00:00.000000000' '2010-01-06T06:40:00.000000000']\n",
      " ['2010-01-06T09:00:00.000000000' '2010-01-06T16:40:00.000000000']\n",
      " ['2010-01-06T20:00:00.000000000' '2010-01-06T23:20:00.000000000']\n",
      " ['2010-01-07T03:00:00.000000000' '2010-01-07T06:40:00.000000000']\n",
      " ['2010-01-07T09:00:00.000000000' '2010-01-07T16:40:00.000000000']\n",
      " ['2010-01-07T20:00:00.000000000' '2010-01-07T23:20:00.000000000']\n",
      " ['2010-01-08T03:00:00.000000000' '2010-01-08T06:40:00.000000000']\n",
      " ['2010-01-08T09:00:00.000000000' '2010-01-08T16:40:00.000000000']\n",
      " ['2010-01-08T20:00:00.000000000' '2010-01-08T21:50:00.000000000']]\n",
      "[0.0]\n",
      "we have to wait for 0.0\n",
      "delay processing 0.0\n",
      "before delay 1262346428.473774\n",
      "after delay 1262346428.473774\n",
      "plugin_data mover: <__main__.TransportProcessingResource object at 0x000002A126066BC8>\n",
      "plugin_data origin: <__main__.TransportProcessingResource object at 0x000002A126066BC8>\n",
      "plugin_data destination: <__main__.Site object at 0x000002A126066F88>\n",
      "plugin_data engine_oder: 1.0\n",
      "plugin_data activity_log: <__main__.TestMoveActivity object at 0x000002A12612FC48>\n",
      "Mover_move after move\n",
      "plugin_data mover: <__main__.TransportProcessingResource object at 0x000002A126066BC8>\n",
      "plugin_data origin: <__main__.TransportProcessingResource object at 0x000002A126066BC8>\n",
      "plugin_data destination: <__main__.Site object at 0x000002A126066F88>\n",
      "plugin_data engine_oder: 1.0\n",
      "plugin_data activity_log: <__main__.TestMoveActivity object at 0x000002A12612FC48>\n",
      "plugin_data start_preprocessing: 1262346428.473774\n",
      "plugin_data start_activity: 1262346428.473774\n",
      "Activity end(Soil movement)\n",
      "<openclsim.model.ShiftAmountActivity object at 0x000002A12612FE48>\n",
      "keep_resources []\n",
      "SHift amount Activity keep_resources []\n",
      "start event instance None\n",
      "start : {}\n",
      "{'origin.6dbbbdf6-4589-11e9-95a2-b469212bff5b': 4, 'destination.6dbbbdf5-4589-11e9-82b2-b469212bff5c': 28}\n",
      "destination request : {<simpy.resources.resource.Resource object at 0x000002A125B9F388>: <Request() object at 0x2a11fd28908>}\n",
      "shift amount process keep_resources []\n",
      "start get_available\n",
      "processor request : {<simpy.resources.resource.Resource object at 0x000002A125B9F388>: <Request() object at 0x2a11fd28908>, <simpy.resources.resource.Resource object at 0x000002A126066E48>: <Request() object at 0x2a126104808>}\n",
      "site request : {<simpy.resources.resource.Resource object at 0x000002A125B9F388>: <Request() object at 0x2a11fd28908>, <simpy.resources.resource.Resource object at 0x000002A126066E48>: <Request() object at 0x2a126104808>}\n",
      "end requestIfAvailable : {<simpy.resources.resource.Resource object at 0x000002A125B9F388>: <Request() object at 0x2a11fd28908>, <simpy.resources.resource.Resource object at 0x000002A126066E48>: <Request() object at 0x2a126104808>}\n",
      "after req resource if available : {<simpy.resources.resource.Resource object at 0x000002A125B9F388>: <Request() object at 0x2a11fd28908>, <simpy.resources.resource.Resource object at 0x000002A126066E48>: <Request() object at 0x2a126104808>}\n",
      "_shift_amount\n",
      "start _shift_amount\n",
      "amount 4\n",
      "processor start process\n",
      "transfer default to Dumplocatie\n",
      "processor process without rate\n",
      "origin store before get: [{'id': 'default', 'level': 4, 'capacity': 4}]\n",
      "start get 4\n",
      "store_status {'id': 'default', 'level': 4, 'capacity': 4}\n",
      "end get 4\n",
      "get_callback - id_ <StorePut() object at 0x2a126104dc8>\n",
      "start get_callback\n",
      "{}\n",
      "origin store after get: [{'id': 'default', 'level': 0, 'capacity': 4}]\n",
      "after get\n",
      "after check_down time\n",
      "destination store before put: [{'id': 'default', 'level': 12, 'capacity': 40}]\n",
      "<FilterStoreGet() object at 0x2a126104dc8>\n",
      "put_callback - id_ default\n",
      "{'default': {40: <Event() object at 0x2a126135d88>}}\n",
      "amount :40\n",
      "destination store after put: [{'id': 'default', 'level': 16, 'capacity': 40}]\n",
      "after put\n",
      "processor end process\n",
      "Processed 4 of default:\n",
      "  by:          Hopper 01\n",
      "  origin        Hopper 01  contains: 0 of default\n",
      "  destination:  Dumplocatie contains: 16 of default\n",
      "after shift amount : {<simpy.resources.resource.Resource object at 0x000002A125B9F388>: <Request() object at 0x2a11fd28908>, <simpy.resources.resource.Resource object at 0x000002A126066E48>: <Request() object at 0x2a126104808>}\n",
      "keep resources []\n",
      "release destination : {<simpy.resources.resource.Resource object at 0x000002A126066E48>: <Request() object at 0x2a126104808>}\n",
      "released origin : {}\n",
      "released processor : {}\n",
      "{}\n",
      "Activity end(Transfer TP)\n",
      "Activity end(Single run process)\n",
      "condition event triggered: False False round 3\n",
      "while loop requested_resources {}\n",
      "while loop keep_resources []\n",
      "<openclsim.model.SequentialActivity object at 0x000002A126135848>\n",
      "conditional \n",
      "start event instance None\n",
      "<__main__.TestMoveActivity object at 0x000002A126118948>\n",
      "keep_resources []\n",
      "start event instance None\n",
      "Mover_move before mover resource request\n",
      "Mover_move after mover resource request\n",
      "weatherPlugin start preprocess\n",
      "[['2010-01-01T03:00:00.000000000' '2010-01-01T06:40:00.000000000']\n",
      " ['2010-01-01T09:00:00.000000000' '2010-01-01T16:40:00.000000000']\n",
      " ['2010-01-01T20:00:00.000000000' '2010-01-01T23:20:00.000000000']\n",
      " ['2010-01-02T03:00:00.000000000' '2010-01-02T06:40:00.000000000']\n",
      " ['2010-01-02T09:00:00.000000000' '2010-01-02T16:40:00.000000000']\n",
      " ['2010-01-02T20:00:00.000000000' '2010-01-02T23:20:00.000000000']\n",
      " ['2010-01-03T03:00:00.000000000' '2010-01-03T06:40:00.000000000']\n",
      " ['2010-01-03T09:00:00.000000000' '2010-01-03T16:40:00.000000000']\n",
      " ['2010-01-03T20:00:00.000000000' '2010-01-03T23:20:00.000000000']\n",
      " ['2010-01-04T03:00:00.000000000' '2010-01-04T06:40:00.000000000']\n",
      " ['2010-01-04T09:00:00.000000000' '2010-01-04T16:40:00.000000000']\n",
      " ['2010-01-04T20:00:00.000000000' '2010-01-04T23:20:00.000000000']\n",
      " ['2010-01-05T03:00:00.000000000' '2010-01-05T06:40:00.000000000']\n",
      " ['2010-01-05T09:00:00.000000000' '2010-01-05T16:40:00.000000000']\n",
      " ['2010-01-05T20:00:00.000000000' '2010-01-05T23:20:00.000000000']\n",
      " ['2010-01-06T03:00:00.000000000' '2010-01-06T06:40:00.000000000']\n",
      " ['2010-01-06T09:00:00.000000000' '2010-01-06T16:40:00.000000000']\n",
      " ['2010-01-06T20:00:00.000000000' '2010-01-06T23:20:00.000000000']\n",
      " ['2010-01-07T03:00:00.000000000' '2010-01-07T06:40:00.000000000']\n",
      " ['2010-01-07T09:00:00.000000000' '2010-01-07T16:40:00.000000000']\n",
      " ['2010-01-07T20:00:00.000000000' '2010-01-07T23:20:00.000000000']\n",
      " ['2010-01-08T03:00:00.000000000' '2010-01-08T06:40:00.000000000']\n",
      " ['2010-01-08T09:00:00.000000000' '2010-01-08T16:40:00.000000000']\n",
      " ['2010-01-08T20:00:00.000000000' '2010-01-08T21:50:00.000000000']]\n",
      "[0.0]\n",
      "we have to wait for 0.0\n",
      "delay processing 0.0\n",
      "before delay 1262350971.298365\n",
      "after delay 1262350971.298365\n",
      "plugin_data mover: <__main__.TransportProcessingResource object at 0x000002A126066BC8>\n",
      "plugin_data origin: <__main__.TransportProcessingResource object at 0x000002A126066BC8>\n",
      "plugin_data destination: <__main__.Site object at 0x000002A12605C108>\n",
      "plugin_data engine_oder: 1.0\n",
      "plugin_data activity_log: <__main__.TestMoveActivity object at 0x000002A126118948>\n",
      "Mover_move after move\n",
      "plugin_data mover: <__main__.TransportProcessingResource object at 0x000002A126066BC8>\n",
      "plugin_data origin: <__main__.TransportProcessingResource object at 0x000002A126066BC8>\n",
      "plugin_data destination: <__main__.Site object at 0x000002A12605C108>\n",
      "plugin_data engine_oder: 1.0\n",
      "plugin_data activity_log: <__main__.TestMoveActivity object at 0x000002A126118948>\n",
      "plugin_data start_preprocessing: 1262350971.298365\n",
      "plugin_data start_activity: 1262350971.298365\n",
      "Activity end(Soil movement)\n",
      "<openclsim.model.ShiftAmountActivity object at 0x000002A126118988>\n",
      "keep_resources []\n",
      "SHift amount Activity keep_resources []\n",
      "start event instance None\n",
      "start : {}\n",
      "{'origin.6dbbbdf4-4589-11e9-a501-b469212bff5d': 24, 'destination.6dbbbdf6-4589-11e9-95a2-b469212bff5b': 4}\n",
      "destination request : {<simpy.resources.resource.Resource object at 0x000002A126066E48>: <Request() object at 0x2a126108f48>}\n",
      "shift amount process keep_resources []\n"
     ]
    },
    {
     "name": "stdout",
     "output_type": "stream",
     "text": [
      "start get_available\n",
      "processor request : {<simpy.resources.resource.Resource object at 0x000002A126066E48>: <Request() object at 0x2a126108f48>}\n",
      "site request : {<simpy.resources.resource.Resource object at 0x000002A126066E48>: <Request() object at 0x2a126108f48>, <simpy.resources.resource.Resource object at 0x000002A125B9FB88>: <Request() object at 0x2a126100608>}\n",
      "end requestIfAvailable : {<simpy.resources.resource.Resource object at 0x000002A126066E48>: <Request() object at 0x2a126108f48>, <simpy.resources.resource.Resource object at 0x000002A125B9FB88>: <Request() object at 0x2a126100608>}\n",
      "after req resource if available : {<simpy.resources.resource.Resource object at 0x000002A126066E48>: <Request() object at 0x2a126108f48>, <simpy.resources.resource.Resource object at 0x000002A125B9FB88>: <Request() object at 0x2a126100608>}\n",
      "_shift_amount\n",
      "start _shift_amount\n",
      "amount 4\n",
      "processor start process\n",
      "transfer default to Hopper 01\n",
      "processor process without rate\n",
      "origin store before get: [{'id': 'default', 'level': 24, 'capacity': 40}]\n",
      "start get 4\n",
      "store_status {'id': 'default', 'level': 24, 'capacity': 40}\n",
      "end get 4\n",
      "get_callback - id_ <StorePut() object at 0x2a1257ab848>\n",
      "start get_callback\n",
      "{}\n",
      "origin store after get: [{'id': 'default', 'level': 20, 'capacity': 40}]\n",
      "after get\n",
      "after check_down time\n",
      "destination store before put: [{'id': 'default', 'level': 0, 'capacity': 4}]\n",
      "<FilterStoreGet() object at 0x2a12561a248>\n",
      "put_callback - id_ default\n",
      "{}\n",
      "destination store after put: [{'id': 'default', 'level': 4, 'capacity': 4}]\n",
      "after put\n",
      "processor end process\n",
      "Processed 4 of default:\n",
      "  by:          Hopper 01\n",
      "  origin        Winlocatie  contains: 20 of default\n",
      "  destination:  Hopper 01 contains: 4 of default\n",
      "after shift amount : {<simpy.resources.resource.Resource object at 0x000002A126066E48>: <Request() object at 0x2a126108f48>, <simpy.resources.resource.Resource object at 0x000002A125B9FB88>: <Request() object at 0x2a126100608>}\n",
      "keep resources []\n",
      "release destination : {<simpy.resources.resource.Resource object at 0x000002A125B9FB88>: <Request() object at 0x2a126100608>}\n",
      "released origin : {}\n",
      "released processor : {}\n",
      "{}\n",
      "Activity end(Transfer MP)\n",
      "<__main__.TestMoveActivity object at 0x000002A12612FC48>\n",
      "keep_resources []\n",
      "start event instance None\n",
      "Mover_move before mover resource request\n",
      "Mover_move after mover resource request\n",
      "weatherPlugin start preprocess\n",
      "[['2010-01-01T03:00:00.000000000' '2010-01-01T06:40:00.000000000']\n",
      " ['2010-01-01T09:00:00.000000000' '2010-01-01T16:40:00.000000000']\n",
      " ['2010-01-01T20:00:00.000000000' '2010-01-01T23:20:00.000000000']\n",
      " ['2010-01-02T03:00:00.000000000' '2010-01-02T06:40:00.000000000']\n",
      " ['2010-01-02T09:00:00.000000000' '2010-01-02T16:40:00.000000000']\n",
      " ['2010-01-02T20:00:00.000000000' '2010-01-02T23:20:00.000000000']\n",
      " ['2010-01-03T03:00:00.000000000' '2010-01-03T06:40:00.000000000']\n",
      " ['2010-01-03T09:00:00.000000000' '2010-01-03T16:40:00.000000000']\n",
      " ['2010-01-03T20:00:00.000000000' '2010-01-03T23:20:00.000000000']\n",
      " ['2010-01-04T03:00:00.000000000' '2010-01-04T06:40:00.000000000']\n",
      " ['2010-01-04T09:00:00.000000000' '2010-01-04T16:40:00.000000000']\n",
      " ['2010-01-04T20:00:00.000000000' '2010-01-04T23:20:00.000000000']\n",
      " ['2010-01-05T03:00:00.000000000' '2010-01-05T06:40:00.000000000']\n",
      " ['2010-01-05T09:00:00.000000000' '2010-01-05T16:40:00.000000000']\n",
      " ['2010-01-05T20:00:00.000000000' '2010-01-05T23:20:00.000000000']\n",
      " ['2010-01-06T03:00:00.000000000' '2010-01-06T06:40:00.000000000']\n",
      " ['2010-01-06T09:00:00.000000000' '2010-01-06T16:40:00.000000000']\n",
      " ['2010-01-06T20:00:00.000000000' '2010-01-06T23:20:00.000000000']\n",
      " ['2010-01-07T03:00:00.000000000' '2010-01-07T06:40:00.000000000']\n",
      " ['2010-01-07T09:00:00.000000000' '2010-01-07T16:40:00.000000000']\n",
      " ['2010-01-07T20:00:00.000000000' '2010-01-07T23:20:00.000000000']\n",
      " ['2010-01-08T03:00:00.000000000' '2010-01-08T06:40:00.000000000']\n",
      " ['2010-01-08T09:00:00.000000000' '2010-01-08T16:40:00.000000000']\n",
      " ['2010-01-08T20:00:00.000000000' '2010-01-08T21:50:00.000000000']]\n",
      "[0.0]\n",
      "we have to wait for 0.0\n",
      "delay processing 0.0\n",
      "before delay 1262355514.1229563\n",
      "after delay 1262355514.1229563\n",
      "plugin_data mover: <__main__.TransportProcessingResource object at 0x000002A126066BC8>\n",
      "plugin_data origin: <__main__.TransportProcessingResource object at 0x000002A126066BC8>\n",
      "plugin_data destination: <__main__.Site object at 0x000002A126066F88>\n",
      "plugin_data engine_oder: 1.0\n",
      "plugin_data activity_log: <__main__.TestMoveActivity object at 0x000002A12612FC48>\n",
      "Mover_move after move\n",
      "plugin_data mover: <__main__.TransportProcessingResource object at 0x000002A126066BC8>\n",
      "plugin_data origin: <__main__.TransportProcessingResource object at 0x000002A126066BC8>\n",
      "plugin_data destination: <__main__.Site object at 0x000002A126066F88>\n",
      "plugin_data engine_oder: 1.0\n",
      "plugin_data activity_log: <__main__.TestMoveActivity object at 0x000002A12612FC48>\n",
      "plugin_data start_preprocessing: 1262355514.1229563\n",
      "plugin_data start_activity: 1262355514.1229563\n",
      "Activity end(Soil movement)\n",
      "<openclsim.model.ShiftAmountActivity object at 0x000002A12612FE48>\n",
      "keep_resources []\n",
      "SHift amount Activity keep_resources []\n",
      "start event instance None\n",
      "start : {}\n",
      "{'origin.6dbbbdf6-4589-11e9-95a2-b469212bff5b': 4, 'destination.6dbbbdf5-4589-11e9-82b2-b469212bff5c': 24}\n",
      "destination request : {<simpy.resources.resource.Resource object at 0x000002A125B9F388>: <Request() object at 0x2a126072608>}\n",
      "shift amount process keep_resources []\n",
      "start get_available\n",
      "processor request : {<simpy.resources.resource.Resource object at 0x000002A125B9F388>: <Request() object at 0x2a126072608>, <simpy.resources.resource.Resource object at 0x000002A126066E48>: <Request() object at 0x2a126072788>}\n",
      "site request : {<simpy.resources.resource.Resource object at 0x000002A125B9F388>: <Request() object at 0x2a126072608>, <simpy.resources.resource.Resource object at 0x000002A126066E48>: <Request() object at 0x2a126072788>}\n",
      "end requestIfAvailable : {<simpy.resources.resource.Resource object at 0x000002A125B9F388>: <Request() object at 0x2a126072608>, <simpy.resources.resource.Resource object at 0x000002A126066E48>: <Request() object at 0x2a126072788>}\n",
      "after req resource if available : {<simpy.resources.resource.Resource object at 0x000002A125B9F388>: <Request() object at 0x2a126072608>, <simpy.resources.resource.Resource object at 0x000002A126066E48>: <Request() object at 0x2a126072788>}\n",
      "_shift_amount\n",
      "start _shift_amount\n",
      "amount 4\n",
      "processor start process\n",
      "transfer default to Dumplocatie\n",
      "processor process without rate\n",
      "origin store before get: [{'id': 'default', 'level': 4, 'capacity': 4}]\n",
      "start get 4\n",
      "store_status {'id': 'default', 'level': 4, 'capacity': 4}\n",
      "end get 4\n",
      "get_callback - id_ <StorePut() object at 0x2a126072688>\n",
      "start get_callback\n",
      "{}\n",
      "origin store after get: [{'id': 'default', 'level': 0, 'capacity': 4}]\n",
      "after get\n",
      "after check_down time\n",
      "destination store before put: [{'id': 'default', 'level': 16, 'capacity': 40}]\n",
      "<FilterStoreGet() object at 0x2a126072688>\n",
      "put_callback - id_ default\n",
      "{'default': {40: <Event() object at 0x2a126135d88>}}\n",
      "amount :40\n",
      "destination store after put: [{'id': 'default', 'level': 20, 'capacity': 40}]\n",
      "after put\n",
      "processor end process\n",
      "Processed 4 of default:\n",
      "  by:          Hopper 01\n",
      "  origin        Hopper 01  contains: 0 of default\n",
      "  destination:  Dumplocatie contains: 20 of default\n",
      "after shift amount : {<simpy.resources.resource.Resource object at 0x000002A125B9F388>: <Request() object at 0x2a126072608>, <simpy.resources.resource.Resource object at 0x000002A126066E48>: <Request() object at 0x2a126072788>}\n",
      "keep resources []\n",
      "release destination : {<simpy.resources.resource.Resource object at 0x000002A126066E48>: <Request() object at 0x2a126072788>}\n",
      "released origin : {}\n",
      "released processor : {}\n",
      "{}\n",
      "Activity end(Transfer TP)\n",
      "Activity end(Single run process)\n",
      "condition event triggered: False False round 4\n",
      "while loop requested_resources {}\n",
      "while loop keep_resources []\n",
      "<openclsim.model.SequentialActivity object at 0x000002A126135848>\n",
      "conditional \n",
      "start event instance None\n",
      "<__main__.TestMoveActivity object at 0x000002A126118948>\n",
      "keep_resources []\n",
      "start event instance None\n",
      "Mover_move before mover resource request\n",
      "Mover_move after mover resource request\n",
      "weatherPlugin start preprocess\n",
      "[['2010-01-01T03:00:00.000000000' '2010-01-01T06:40:00.000000000']\n",
      " ['2010-01-01T09:00:00.000000000' '2010-01-01T16:40:00.000000000']\n",
      " ['2010-01-01T20:00:00.000000000' '2010-01-01T23:20:00.000000000']\n",
      " ['2010-01-02T03:00:00.000000000' '2010-01-02T06:40:00.000000000']\n",
      " ['2010-01-02T09:00:00.000000000' '2010-01-02T16:40:00.000000000']\n",
      " ['2010-01-02T20:00:00.000000000' '2010-01-02T23:20:00.000000000']\n",
      " ['2010-01-03T03:00:00.000000000' '2010-01-03T06:40:00.000000000']\n",
      " ['2010-01-03T09:00:00.000000000' '2010-01-03T16:40:00.000000000']\n",
      " ['2010-01-03T20:00:00.000000000' '2010-01-03T23:20:00.000000000']\n",
      " ['2010-01-04T03:00:00.000000000' '2010-01-04T06:40:00.000000000']\n",
      " ['2010-01-04T09:00:00.000000000' '2010-01-04T16:40:00.000000000']\n",
      " ['2010-01-04T20:00:00.000000000' '2010-01-04T23:20:00.000000000']\n",
      " ['2010-01-05T03:00:00.000000000' '2010-01-05T06:40:00.000000000']\n",
      " ['2010-01-05T09:00:00.000000000' '2010-01-05T16:40:00.000000000']\n",
      " ['2010-01-05T20:00:00.000000000' '2010-01-05T23:20:00.000000000']\n",
      " ['2010-01-06T03:00:00.000000000' '2010-01-06T06:40:00.000000000']\n",
      " ['2010-01-06T09:00:00.000000000' '2010-01-06T16:40:00.000000000']\n",
      " ['2010-01-06T20:00:00.000000000' '2010-01-06T23:20:00.000000000']\n",
      " ['2010-01-07T03:00:00.000000000' '2010-01-07T06:40:00.000000000']\n",
      " ['2010-01-07T09:00:00.000000000' '2010-01-07T16:40:00.000000000']\n",
      " ['2010-01-07T20:00:00.000000000' '2010-01-07T23:20:00.000000000']\n",
      " ['2010-01-08T03:00:00.000000000' '2010-01-08T06:40:00.000000000']\n",
      " ['2010-01-08T09:00:00.000000000' '2010-01-08T16:40:00.000000000']\n",
      " ['2010-01-08T20:00:00.000000000' '2010-01-08T21:50:00.000000000']]\n",
      "[0.0]\n",
      "we have to wait for 0.0\n",
      "delay processing 0.0\n",
      "before delay 1262360056.9475474\n",
      "after delay 1262360056.9475474\n",
      "plugin_data mover: <__main__.TransportProcessingResource object at 0x000002A126066BC8>\n",
      "plugin_data origin: <__main__.TransportProcessingResource object at 0x000002A126066BC8>\n",
      "plugin_data destination: <__main__.Site object at 0x000002A12605C108>\n",
      "plugin_data engine_oder: 1.0\n",
      "plugin_data activity_log: <__main__.TestMoveActivity object at 0x000002A126118948>\n",
      "Mover_move after move\n",
      "plugin_data mover: <__main__.TransportProcessingResource object at 0x000002A126066BC8>\n",
      "plugin_data origin: <__main__.TransportProcessingResource object at 0x000002A126066BC8>\n",
      "plugin_data destination: <__main__.Site object at 0x000002A12605C108>\n",
      "plugin_data engine_oder: 1.0\n",
      "plugin_data activity_log: <__main__.TestMoveActivity object at 0x000002A126118948>\n",
      "plugin_data start_preprocessing: 1262360056.9475474\n",
      "plugin_data start_activity: 1262360056.9475474\n",
      "Activity end(Soil movement)\n",
      "<openclsim.model.ShiftAmountActivity object at 0x000002A126118988>\n",
      "keep_resources []\n",
      "SHift amount Activity keep_resources []\n",
      "start event instance None\n",
      "start : {}\n",
      "{'origin.6dbbbdf4-4589-11e9-a501-b469212bff5d': 20, 'destination.6dbbbdf6-4589-11e9-95a2-b469212bff5b': 4}\n",
      "destination request : {<simpy.resources.resource.Resource object at 0x000002A126066E48>: <Request() object at 0x2a126072108>}\n",
      "shift amount process keep_resources []\n",
      "start get_available\n",
      "processor request : {<simpy.resources.resource.Resource object at 0x000002A126066E48>: <Request() object at 0x2a126072108>}\n",
      "site request : {<simpy.resources.resource.Resource object at 0x000002A126066E48>: <Request() object at 0x2a126072108>, <simpy.resources.resource.Resource object at 0x000002A125B9FB88>: <Request() object at 0x2a11fd28608>}\n",
      "end requestIfAvailable : {<simpy.resources.resource.Resource object at 0x000002A126066E48>: <Request() object at 0x2a126072108>, <simpy.resources.resource.Resource object at 0x000002A125B9FB88>: <Request() object at 0x2a11fd28608>}\n",
      "after req resource if available : {<simpy.resources.resource.Resource object at 0x000002A126066E48>: <Request() object at 0x2a126072108>, <simpy.resources.resource.Resource object at 0x000002A125B9FB88>: <Request() object at 0x2a11fd28608>}\n",
      "_shift_amount\n",
      "start _shift_amount\n",
      "amount 4\n",
      "processor start process\n",
      "transfer default to Hopper 01\n",
      "processor process without rate\n",
      "origin store before get: [{'id': 'default', 'level': 20, 'capacity': 40}]\n",
      "start get 4\n",
      "store_status {'id': 'default', 'level': 20, 'capacity': 40}\n",
      "end get 4\n",
      "get_callback - id_ <StorePut() object at 0x2a1260f0888>\n",
      "start get_callback\n",
      "{}\n",
      "origin store after get: [{'id': 'default', 'level': 16, 'capacity': 40}]\n",
      "after get\n",
      "after check_down time\n",
      "destination store before put: [{'id': 'default', 'level': 0, 'capacity': 4}]\n",
      "<FilterStoreGet() object at 0x2a11fd28688>\n",
      "put_callback - id_ default\n",
      "{}\n",
      "destination store after put: [{'id': 'default', 'level': 4, 'capacity': 4}]\n",
      "after put\n",
      "processor end process\n",
      "Processed 4 of default:\n",
      "  by:          Hopper 01\n",
      "  origin        Winlocatie  contains: 16 of default\n",
      "  destination:  Hopper 01 contains: 4 of default\n",
      "after shift amount : {<simpy.resources.resource.Resource object at 0x000002A126066E48>: <Request() object at 0x2a126072108>, <simpy.resources.resource.Resource object at 0x000002A125B9FB88>: <Request() object at 0x2a11fd28608>}\n",
      "keep resources []\n",
      "release destination : {<simpy.resources.resource.Resource object at 0x000002A125B9FB88>: <Request() object at 0x2a11fd28608>}\n",
      "released origin : {}\n",
      "released processor : {}\n",
      "{}\n",
      "Activity end(Transfer MP)\n",
      "<__main__.TestMoveActivity object at 0x000002A12612FC48>\n",
      "keep_resources []\n",
      "start event instance None\n",
      "Mover_move before mover resource request\n",
      "Mover_move after mover resource request\n",
      "weatherPlugin start preprocess\n",
      "[['2010-01-01T03:00:00.000000000' '2010-01-01T06:40:00.000000000']\n",
      " ['2010-01-01T09:00:00.000000000' '2010-01-01T16:40:00.000000000']\n",
      " ['2010-01-01T20:00:00.000000000' '2010-01-01T23:20:00.000000000']\n",
      " ['2010-01-02T03:00:00.000000000' '2010-01-02T06:40:00.000000000']\n",
      " ['2010-01-02T09:00:00.000000000' '2010-01-02T16:40:00.000000000']\n",
      " ['2010-01-02T20:00:00.000000000' '2010-01-02T23:20:00.000000000']\n",
      " ['2010-01-03T03:00:00.000000000' '2010-01-03T06:40:00.000000000']\n",
      " ['2010-01-03T09:00:00.000000000' '2010-01-03T16:40:00.000000000']\n",
      " ['2010-01-03T20:00:00.000000000' '2010-01-03T23:20:00.000000000']\n",
      " ['2010-01-04T03:00:00.000000000' '2010-01-04T06:40:00.000000000']\n",
      " ['2010-01-04T09:00:00.000000000' '2010-01-04T16:40:00.000000000']\n",
      " ['2010-01-04T20:00:00.000000000' '2010-01-04T23:20:00.000000000']\n",
      " ['2010-01-05T03:00:00.000000000' '2010-01-05T06:40:00.000000000']\n",
      " ['2010-01-05T09:00:00.000000000' '2010-01-05T16:40:00.000000000']\n",
      " ['2010-01-05T20:00:00.000000000' '2010-01-05T23:20:00.000000000']\n",
      " ['2010-01-06T03:00:00.000000000' '2010-01-06T06:40:00.000000000']\n",
      " ['2010-01-06T09:00:00.000000000' '2010-01-06T16:40:00.000000000']\n",
      " ['2010-01-06T20:00:00.000000000' '2010-01-06T23:20:00.000000000']\n",
      " ['2010-01-07T03:00:00.000000000' '2010-01-07T06:40:00.000000000']\n",
      " ['2010-01-07T09:00:00.000000000' '2010-01-07T16:40:00.000000000']\n",
      " ['2010-01-07T20:00:00.000000000' '2010-01-07T23:20:00.000000000']\n",
      " ['2010-01-08T03:00:00.000000000' '2010-01-08T06:40:00.000000000']\n",
      " ['2010-01-08T09:00:00.000000000' '2010-01-08T16:40:00.000000000']\n",
      " ['2010-01-08T20:00:00.000000000' '2010-01-08T21:50:00.000000000']]\n",
      "[7800.227861]\n",
      "we have to wait for 7800.227861\n",
      "delay processing 7800.227861\n",
      "before delay 1262364599.7721386\n",
      "after delay 1262372399.9999995\n",
      "plugin_data mover: <__main__.TransportProcessingResource object at 0x000002A126066BC8>\n",
      "plugin_data origin: <__main__.TransportProcessingResource object at 0x000002A126066BC8>\n",
      "plugin_data destination: <__main__.Site object at 0x000002A126066F88>\n",
      "plugin_data engine_oder: 1.0\n",
      "plugin_data activity_log: <__main__.TestMoveActivity object at 0x000002A12612FC48>\n",
      "Mover_move after move\n",
      "plugin_data mover: <__main__.TransportProcessingResource object at 0x000002A126066BC8>\n",
      "plugin_data origin: <__main__.TransportProcessingResource object at 0x000002A126066BC8>\n",
      "plugin_data destination: <__main__.Site object at 0x000002A126066F88>\n",
      "plugin_data engine_oder: 1.0\n",
      "plugin_data activity_log: <__main__.TestMoveActivity object at 0x000002A12612FC48>\n",
      "plugin_data start_preprocessing: 1262364599.7721386\n",
      "plugin_data start_activity: 1262372399.9999995\n",
      "Activity end(Soil movement)\n",
      "<openclsim.model.ShiftAmountActivity object at 0x000002A12612FE48>\n",
      "keep_resources []\n",
      "SHift amount Activity keep_resources []\n",
      "start event instance None\n",
      "start : {}\n",
      "{'origin.6dbbbdf6-4589-11e9-95a2-b469212bff5b': 4, 'destination.6dbbbdf5-4589-11e9-82b2-b469212bff5c': 20}\n",
      "destination request : {<simpy.resources.resource.Resource object at 0x000002A125B9F388>: <Request() object at 0x2a126100608>}\n",
      "shift amount process keep_resources []\n",
      "start get_available\n",
      "processor request : {<simpy.resources.resource.Resource object at 0x000002A125B9F388>: <Request() object at 0x2a126100608>, <simpy.resources.resource.Resource object at 0x000002A126066E48>: <Request() object at 0x2a1261057c8>}\n",
      "site request : {<simpy.resources.resource.Resource object at 0x000002A125B9F388>: <Request() object at 0x2a126100608>, <simpy.resources.resource.Resource object at 0x000002A126066E48>: <Request() object at 0x2a1261057c8>}\n",
      "end requestIfAvailable : {<simpy.resources.resource.Resource object at 0x000002A125B9F388>: <Request() object at 0x2a126100608>, <simpy.resources.resource.Resource object at 0x000002A126066E48>: <Request() object at 0x2a1261057c8>}\n",
      "after req resource if available : {<simpy.resources.resource.Resource object at 0x000002A125B9F388>: <Request() object at 0x2a126100608>, <simpy.resources.resource.Resource object at 0x000002A126066E48>: <Request() object at 0x2a1261057c8>}\n",
      "_shift_amount\n",
      "start _shift_amount\n",
      "amount 4\n",
      "processor start process\n"
     ]
    },
    {
     "name": "stdout",
     "output_type": "stream",
     "text": [
      "transfer default to Dumplocatie\n",
      "processor process without rate\n",
      "origin store before get: [{'id': 'default', 'level': 4, 'capacity': 4}]\n",
      "start get 4\n",
      "store_status {'id': 'default', 'level': 4, 'capacity': 4}\n",
      "end get 4\n",
      "get_callback - id_ <StorePut() object at 0x2a126100fc8>\n",
      "start get_callback\n",
      "{}\n",
      "origin store after get: [{'id': 'default', 'level': 0, 'capacity': 4}]\n",
      "after get\n",
      "after check_down time\n",
      "destination store before put: [{'id': 'default', 'level': 20, 'capacity': 40}]\n",
      "<FilterStoreGet() object at 0x2a12605c908>\n",
      "put_callback - id_ default\n",
      "{'default': {40: <Event() object at 0x2a126135d88>}}\n",
      "amount :40\n",
      "destination store after put: [{'id': 'default', 'level': 24, 'capacity': 40}]\n",
      "after put\n",
      "processor end process\n",
      "Processed 4 of default:\n",
      "  by:          Hopper 01\n",
      "  origin        Hopper 01  contains: 0 of default\n",
      "  destination:  Dumplocatie contains: 24 of default\n",
      "after shift amount : {<simpy.resources.resource.Resource object at 0x000002A125B9F388>: <Request() object at 0x2a126100608>, <simpy.resources.resource.Resource object at 0x000002A126066E48>: <Request() object at 0x2a1261057c8>}\n",
      "keep resources []\n",
      "release destination : {<simpy.resources.resource.Resource object at 0x000002A126066E48>: <Request() object at 0x2a1261057c8>}\n",
      "released origin : {}\n",
      "released processor : {}\n",
      "{}\n",
      "Activity end(Transfer TP)\n",
      "Activity end(Single run process)\n",
      "condition event triggered: False False round 5\n",
      "while loop requested_resources {}\n",
      "while loop keep_resources []\n",
      "<openclsim.model.SequentialActivity object at 0x000002A126135848>\n",
      "conditional \n",
      "start event instance None\n",
      "<__main__.TestMoveActivity object at 0x000002A126118948>\n",
      "keep_resources []\n",
      "start event instance None\n",
      "Mover_move before mover resource request\n",
      "Mover_move after mover resource request\n",
      "weatherPlugin start preprocess\n",
      "[['2010-01-01T03:00:00.000000000' '2010-01-01T06:40:00.000000000']\n",
      " ['2010-01-01T09:00:00.000000000' '2010-01-01T16:40:00.000000000']\n",
      " ['2010-01-01T20:00:00.000000000' '2010-01-01T23:20:00.000000000']\n",
      " ['2010-01-02T03:00:00.000000000' '2010-01-02T06:40:00.000000000']\n",
      " ['2010-01-02T09:00:00.000000000' '2010-01-02T16:40:00.000000000']\n",
      " ['2010-01-02T20:00:00.000000000' '2010-01-02T23:20:00.000000000']\n",
      " ['2010-01-03T03:00:00.000000000' '2010-01-03T06:40:00.000000000']\n",
      " ['2010-01-03T09:00:00.000000000' '2010-01-03T16:40:00.000000000']\n",
      " ['2010-01-03T20:00:00.000000000' '2010-01-03T23:20:00.000000000']\n",
      " ['2010-01-04T03:00:00.000000000' '2010-01-04T06:40:00.000000000']\n",
      " ['2010-01-04T09:00:00.000000000' '2010-01-04T16:40:00.000000000']\n",
      " ['2010-01-04T20:00:00.000000000' '2010-01-04T23:20:00.000000000']\n",
      " ['2010-01-05T03:00:00.000000000' '2010-01-05T06:40:00.000000000']\n",
      " ['2010-01-05T09:00:00.000000000' '2010-01-05T16:40:00.000000000']\n",
      " ['2010-01-05T20:00:00.000000000' '2010-01-05T23:20:00.000000000']\n",
      " ['2010-01-06T03:00:00.000000000' '2010-01-06T06:40:00.000000000']\n",
      " ['2010-01-06T09:00:00.000000000' '2010-01-06T16:40:00.000000000']\n",
      " ['2010-01-06T20:00:00.000000000' '2010-01-06T23:20:00.000000000']\n",
      " ['2010-01-07T03:00:00.000000000' '2010-01-07T06:40:00.000000000']\n",
      " ['2010-01-07T09:00:00.000000000' '2010-01-07T16:40:00.000000000']\n",
      " ['2010-01-07T20:00:00.000000000' '2010-01-07T23:20:00.000000000']\n",
      " ['2010-01-08T03:00:00.000000000' '2010-01-08T06:40:00.000000000']\n",
      " ['2010-01-08T09:00:00.000000000' '2010-01-08T16:40:00.000000000']\n",
      " ['2010-01-08T20:00:00.000000000' '2010-01-08T21:50:00.000000000']]\n",
      "[0.0]\n",
      "we have to wait for 0.0\n",
      "delay processing 0.0\n",
      "before delay 1262376942.8245907\n",
      "after delay 1262376942.8245907\n",
      "plugin_data mover: <__main__.TransportProcessingResource object at 0x000002A126066BC8>\n",
      "plugin_data origin: <__main__.TransportProcessingResource object at 0x000002A126066BC8>\n",
      "plugin_data destination: <__main__.Site object at 0x000002A12605C108>\n",
      "plugin_data engine_oder: 1.0\n",
      "plugin_data activity_log: <__main__.TestMoveActivity object at 0x000002A126118948>\n",
      "Mover_move after move\n",
      "plugin_data mover: <__main__.TransportProcessingResource object at 0x000002A126066BC8>\n",
      "plugin_data origin: <__main__.TransportProcessingResource object at 0x000002A126066BC8>\n",
      "plugin_data destination: <__main__.Site object at 0x000002A12605C108>\n",
      "plugin_data engine_oder: 1.0\n",
      "plugin_data activity_log: <__main__.TestMoveActivity object at 0x000002A126118948>\n",
      "plugin_data start_preprocessing: 1262376942.8245907\n",
      "plugin_data start_activity: 1262376942.8245907\n",
      "Activity end(Soil movement)\n",
      "<openclsim.model.ShiftAmountActivity object at 0x000002A126118988>\n",
      "keep_resources []\n",
      "SHift amount Activity keep_resources []\n",
      "start event instance None\n",
      "start : {}\n",
      "{'origin.6dbbbdf4-4589-11e9-a501-b469212bff5d': 16, 'destination.6dbbbdf6-4589-11e9-95a2-b469212bff5b': 4}\n",
      "destination request : {<simpy.resources.resource.Resource object at 0x000002A126066E48>: <Request() object at 0x2a126072388>}\n",
      "shift amount process keep_resources []\n",
      "start get_available\n",
      "processor request : {<simpy.resources.resource.Resource object at 0x000002A126066E48>: <Request() object at 0x2a126072388>}\n",
      "site request : {<simpy.resources.resource.Resource object at 0x000002A126066E48>: <Request() object at 0x2a126072388>, <simpy.resources.resource.Resource object at 0x000002A125B9FB88>: <Request() object at 0x2a1260f0888>}\n",
      "end requestIfAvailable : {<simpy.resources.resource.Resource object at 0x000002A126066E48>: <Request() object at 0x2a126072388>, <simpy.resources.resource.Resource object at 0x000002A125B9FB88>: <Request() object at 0x2a1260f0888>}\n",
      "after req resource if available : {<simpy.resources.resource.Resource object at 0x000002A126066E48>: <Request() object at 0x2a126072388>, <simpy.resources.resource.Resource object at 0x000002A125B9FB88>: <Request() object at 0x2a1260f0888>}\n",
      "_shift_amount\n",
      "start _shift_amount\n",
      "amount 4\n",
      "processor start process\n",
      "transfer default to Hopper 01\n",
      "processor process without rate\n",
      "origin store before get: [{'id': 'default', 'level': 16, 'capacity': 40}]\n",
      "start get 4\n",
      "store_status {'id': 'default', 'level': 16, 'capacity': 40}\n",
      "end get 4\n",
      "get_callback - id_ <StorePut() object at 0x2a126072688>\n",
      "start get_callback\n",
      "{}\n",
      "origin store after get: [{'id': 'default', 'level': 12, 'capacity': 40}]\n",
      "after get\n",
      "after check_down time\n",
      "destination store before put: [{'id': 'default', 'level': 0, 'capacity': 4}]\n",
      "<FilterStoreGet() object at 0x2a126072688>\n",
      "put_callback - id_ default\n",
      "{}\n",
      "destination store after put: [{'id': 'default', 'level': 4, 'capacity': 4}]\n",
      "after put\n",
      "processor end process\n",
      "Processed 4 of default:\n",
      "  by:          Hopper 01\n",
      "  origin        Winlocatie  contains: 12 of default\n",
      "  destination:  Hopper 01 contains: 4 of default\n",
      "after shift amount : {<simpy.resources.resource.Resource object at 0x000002A126066E48>: <Request() object at 0x2a126072388>, <simpy.resources.resource.Resource object at 0x000002A125B9FB88>: <Request() object at 0x2a1260f0888>}\n",
      "keep resources []\n",
      "release destination : {<simpy.resources.resource.Resource object at 0x000002A125B9FB88>: <Request() object at 0x2a1260f0888>}\n",
      "released origin : {}\n",
      "released processor : {}\n",
      "{}\n",
      "Activity end(Transfer MP)\n",
      "<__main__.TestMoveActivity object at 0x000002A12612FC48>\n",
      "keep_resources []\n",
      "start event instance None\n",
      "Mover_move before mover resource request\n",
      "Mover_move after mover resource request\n",
      "weatherPlugin start preprocess\n",
      "[['2010-01-01T03:00:00.000000000' '2010-01-01T06:40:00.000000000']\n",
      " ['2010-01-01T09:00:00.000000000' '2010-01-01T16:40:00.000000000']\n",
      " ['2010-01-01T20:00:00.000000000' '2010-01-01T23:20:00.000000000']\n",
      " ['2010-01-02T03:00:00.000000000' '2010-01-02T06:40:00.000000000']\n",
      " ['2010-01-02T09:00:00.000000000' '2010-01-02T16:40:00.000000000']\n",
      " ['2010-01-02T20:00:00.000000000' '2010-01-02T23:20:00.000000000']\n",
      " ['2010-01-03T03:00:00.000000000' '2010-01-03T06:40:00.000000000']\n",
      " ['2010-01-03T09:00:00.000000000' '2010-01-03T16:40:00.000000000']\n",
      " ['2010-01-03T20:00:00.000000000' '2010-01-03T23:20:00.000000000']\n",
      " ['2010-01-04T03:00:00.000000000' '2010-01-04T06:40:00.000000000']\n",
      " ['2010-01-04T09:00:00.000000000' '2010-01-04T16:40:00.000000000']\n",
      " ['2010-01-04T20:00:00.000000000' '2010-01-04T23:20:00.000000000']\n",
      " ['2010-01-05T03:00:00.000000000' '2010-01-05T06:40:00.000000000']\n",
      " ['2010-01-05T09:00:00.000000000' '2010-01-05T16:40:00.000000000']\n",
      " ['2010-01-05T20:00:00.000000000' '2010-01-05T23:20:00.000000000']\n",
      " ['2010-01-06T03:00:00.000000000' '2010-01-06T06:40:00.000000000']\n",
      " ['2010-01-06T09:00:00.000000000' '2010-01-06T16:40:00.000000000']\n",
      " ['2010-01-06T20:00:00.000000000' '2010-01-06T23:20:00.000000000']\n",
      " ['2010-01-07T03:00:00.000000000' '2010-01-07T06:40:00.000000000']\n",
      " ['2010-01-07T09:00:00.000000000' '2010-01-07T16:40:00.000000000']\n",
      " ['2010-01-07T20:00:00.000000000' '2010-01-07T23:20:00.000000000']\n",
      " ['2010-01-08T03:00:00.000000000' '2010-01-08T06:40:00.000000000']\n",
      " ['2010-01-08T09:00:00.000000000' '2010-01-08T16:40:00.000000000']\n",
      " ['2010-01-08T20:00:00.000000000' '2010-01-08T21:50:00.000000000']]\n",
      "[0.0]\n",
      "we have to wait for 0.0\n",
      "delay processing 0.0\n",
      "before delay 1262381485.6491818\n",
      "after delay 1262381485.6491818\n",
      "plugin_data mover: <__main__.TransportProcessingResource object at 0x000002A126066BC8>\n",
      "plugin_data origin: <__main__.TransportProcessingResource object at 0x000002A126066BC8>\n",
      "plugin_data destination: <__main__.Site object at 0x000002A126066F88>\n",
      "plugin_data engine_oder: 1.0\n",
      "plugin_data activity_log: <__main__.TestMoveActivity object at 0x000002A12612FC48>\n",
      "Mover_move after move\n",
      "plugin_data mover: <__main__.TransportProcessingResource object at 0x000002A126066BC8>\n",
      "plugin_data origin: <__main__.TransportProcessingResource object at 0x000002A126066BC8>\n",
      "plugin_data destination: <__main__.Site object at 0x000002A126066F88>\n",
      "plugin_data engine_oder: 1.0\n",
      "plugin_data activity_log: <__main__.TestMoveActivity object at 0x000002A12612FC48>\n",
      "plugin_data start_preprocessing: 1262381485.6491818\n",
      "plugin_data start_activity: 1262381485.6491818\n",
      "Activity end(Soil movement)\n",
      "<openclsim.model.ShiftAmountActivity object at 0x000002A12612FE48>\n",
      "keep_resources []\n",
      "SHift amount Activity keep_resources []\n",
      "start event instance None\n",
      "start : {}\n",
      "{'origin.6dbbbdf6-4589-11e9-95a2-b469212bff5b': 4, 'destination.6dbbbdf5-4589-11e9-82b2-b469212bff5c': 16}\n",
      "destination request : {<simpy.resources.resource.Resource object at 0x000002A125B9F388>: <Request() object at 0x2a1257ab848>}\n",
      "shift amount process keep_resources []\n",
      "start get_available\n",
      "processor request : {<simpy.resources.resource.Resource object at 0x000002A125B9F388>: <Request() object at 0x2a1257ab848>, <simpy.resources.resource.Resource object at 0x000002A126066E48>: <Request() object at 0x2a1261057c8>}\n",
      "site request : {<simpy.resources.resource.Resource object at 0x000002A125B9F388>: <Request() object at 0x2a1257ab848>, <simpy.resources.resource.Resource object at 0x000002A126066E48>: <Request() object at 0x2a1261057c8>}\n",
      "end requestIfAvailable : {<simpy.resources.resource.Resource object at 0x000002A125B9F388>: <Request() object at 0x2a1257ab848>, <simpy.resources.resource.Resource object at 0x000002A126066E48>: <Request() object at 0x2a1261057c8>}\n",
      "after req resource if available : {<simpy.resources.resource.Resource object at 0x000002A125B9F388>: <Request() object at 0x2a1257ab848>, <simpy.resources.resource.Resource object at 0x000002A126066E48>: <Request() object at 0x2a1261057c8>}\n",
      "_shift_amount\n",
      "start _shift_amount\n",
      "amount 4\n",
      "processor start process\n",
      "transfer default to Dumplocatie\n",
      "processor process without rate\n",
      "origin store before get: [{'id': 'default', 'level': 4, 'capacity': 4}]\n",
      "start get 4\n",
      "store_status {'id': 'default', 'level': 4, 'capacity': 4}\n",
      "end get 4\n",
      "get_callback - id_ <StorePut() object at 0x2a126105608>\n",
      "start get_callback\n",
      "{}\n",
      "origin store after get: [{'id': 'default', 'level': 0, 'capacity': 4}]\n",
      "after get\n",
      "after check_down time\n",
      "destination store before put: [{'id': 'default', 'level': 24, 'capacity': 40}]\n",
      "<FilterStoreGet() object at 0x2a126105608>\n",
      "put_callback - id_ default\n",
      "{'default': {40: <Event() object at 0x2a126135d88>}}\n",
      "amount :40\n",
      "destination store after put: [{'id': 'default', 'level': 28, 'capacity': 40}]\n",
      "after put\n",
      "processor end process\n",
      "Processed 4 of default:\n",
      "  by:          Hopper 01\n",
      "  origin        Hopper 01  contains: 0 of default\n",
      "  destination:  Dumplocatie contains: 28 of default\n",
      "after shift amount : {<simpy.resources.resource.Resource object at 0x000002A125B9F388>: <Request() object at 0x2a1257ab848>, <simpy.resources.resource.Resource object at 0x000002A126066E48>: <Request() object at 0x2a1261057c8>}\n",
      "keep resources []\n",
      "release destination : {<simpy.resources.resource.Resource object at 0x000002A126066E48>: <Request() object at 0x2a1261057c8>}\n",
      "released origin : {}\n",
      "released processor : {}\n",
      "{}\n",
      "Activity end(Transfer TP)\n",
      "Activity end(Single run process)\n",
      "condition event triggered: False False round 6\n",
      "while loop requested_resources {}\n",
      "while loop keep_resources []\n",
      "<openclsim.model.SequentialActivity object at 0x000002A126135848>\n",
      "conditional \n",
      "start event instance None\n",
      "<__main__.TestMoveActivity object at 0x000002A126118948>\n",
      "keep_resources []\n",
      "start event instance None\n",
      "Mover_move before mover resource request\n",
      "Mover_move after mover resource request\n",
      "weatherPlugin start preprocess\n",
      "[['2010-01-01T03:00:00.000000000' '2010-01-01T06:40:00.000000000']\n",
      " ['2010-01-01T09:00:00.000000000' '2010-01-01T16:40:00.000000000']\n",
      " ['2010-01-01T20:00:00.000000000' '2010-01-01T23:20:00.000000000']\n",
      " ['2010-01-02T03:00:00.000000000' '2010-01-02T06:40:00.000000000']\n",
      " ['2010-01-02T09:00:00.000000000' '2010-01-02T16:40:00.000000000']\n",
      " ['2010-01-02T20:00:00.000000000' '2010-01-02T23:20:00.000000000']\n",
      " ['2010-01-03T03:00:00.000000000' '2010-01-03T06:40:00.000000000']\n",
      " ['2010-01-03T09:00:00.000000000' '2010-01-03T16:40:00.000000000']\n",
      " ['2010-01-03T20:00:00.000000000' '2010-01-03T23:20:00.000000000']\n",
      " ['2010-01-04T03:00:00.000000000' '2010-01-04T06:40:00.000000000']\n",
      " ['2010-01-04T09:00:00.000000000' '2010-01-04T16:40:00.000000000']\n",
      " ['2010-01-04T20:00:00.000000000' '2010-01-04T23:20:00.000000000']\n",
      " ['2010-01-05T03:00:00.000000000' '2010-01-05T06:40:00.000000000']\n",
      " ['2010-01-05T09:00:00.000000000' '2010-01-05T16:40:00.000000000']\n",
      " ['2010-01-05T20:00:00.000000000' '2010-01-05T23:20:00.000000000']\n",
      " ['2010-01-06T03:00:00.000000000' '2010-01-06T06:40:00.000000000']\n",
      " ['2010-01-06T09:00:00.000000000' '2010-01-06T16:40:00.000000000']\n",
      " ['2010-01-06T20:00:00.000000000' '2010-01-06T23:20:00.000000000']\n",
      " ['2010-01-07T03:00:00.000000000' '2010-01-07T06:40:00.000000000']\n",
      " ['2010-01-07T09:00:00.000000000' '2010-01-07T16:40:00.000000000']\n",
      " ['2010-01-07T20:00:00.000000000' '2010-01-07T23:20:00.000000000']\n",
      " ['2010-01-08T03:00:00.000000000' '2010-01-08T06:40:00.000000000']\n",
      " ['2010-01-08T09:00:00.000000000' '2010-01-08T16:40:00.000000000']\n",
      " ['2010-01-08T20:00:00.000000000' '2010-01-08T21:50:00.000000000']]\n",
      "[11571.526227]\n",
      "we have to wait for 11571.526227\n",
      "delay processing 11571.526227\n",
      "before delay 1262386028.473773\n",
      "after delay 1262397600.0\n",
      "plugin_data mover: <__main__.TransportProcessingResource object at 0x000002A126066BC8>\n"
     ]
    },
    {
     "name": "stdout",
     "output_type": "stream",
     "text": [
      "plugin_data origin: <__main__.TransportProcessingResource object at 0x000002A126066BC8>\n",
      "plugin_data destination: <__main__.Site object at 0x000002A12605C108>\n",
      "plugin_data engine_oder: 1.0\n",
      "plugin_data activity_log: <__main__.TestMoveActivity object at 0x000002A126118948>\n",
      "Mover_move after move\n",
      "plugin_data mover: <__main__.TransportProcessingResource object at 0x000002A126066BC8>\n",
      "plugin_data origin: <__main__.TransportProcessingResource object at 0x000002A126066BC8>\n",
      "plugin_data destination: <__main__.Site object at 0x000002A12605C108>\n",
      "plugin_data engine_oder: 1.0\n",
      "plugin_data activity_log: <__main__.TestMoveActivity object at 0x000002A126118948>\n",
      "plugin_data start_preprocessing: 1262386028.473773\n",
      "plugin_data start_activity: 1262397600.0\n",
      "Activity end(Soil movement)\n",
      "<openclsim.model.ShiftAmountActivity object at 0x000002A126118988>\n",
      "keep_resources []\n",
      "SHift amount Activity keep_resources []\n",
      "start event instance None\n",
      "start : {}\n",
      "{'origin.6dbbbdf4-4589-11e9-a501-b469212bff5d': 12, 'destination.6dbbbdf6-4589-11e9-95a2-b469212bff5b': 4}\n",
      "destination request : {<simpy.resources.resource.Resource object at 0x000002A126066E48>: <Request() object at 0x2a1260fe448>}\n",
      "shift amount process keep_resources []\n",
      "start get_available\n",
      "processor request : {<simpy.resources.resource.Resource object at 0x000002A126066E48>: <Request() object at 0x2a1260fe448>}\n",
      "site request : {<simpy.resources.resource.Resource object at 0x000002A126066E48>: <Request() object at 0x2a1260fe448>, <simpy.resources.resource.Resource object at 0x000002A125B9FB88>: <Request() object at 0x2a126105608>}\n",
      "end requestIfAvailable : {<simpy.resources.resource.Resource object at 0x000002A126066E48>: <Request() object at 0x2a1260fe448>, <simpy.resources.resource.Resource object at 0x000002A125B9FB88>: <Request() object at 0x2a126105608>}\n",
      "after req resource if available : {<simpy.resources.resource.Resource object at 0x000002A126066E48>: <Request() object at 0x2a1260fe448>, <simpy.resources.resource.Resource object at 0x000002A125B9FB88>: <Request() object at 0x2a126105608>}\n",
      "_shift_amount\n",
      "start _shift_amount\n",
      "amount 4\n",
      "processor start process\n",
      "transfer default to Hopper 01\n",
      "processor process without rate\n",
      "origin store before get: [{'id': 'default', 'level': 12, 'capacity': 40}]\n",
      "start get 4\n",
      "store_status {'id': 'default', 'level': 12, 'capacity': 40}\n",
      "end get 4\n",
      "get_callback - id_ <StorePut() object at 0x2a126102808>\n",
      "start get_callback\n",
      "{}\n",
      "origin store after get: [{'id': 'default', 'level': 8, 'capacity': 40}]\n",
      "after get\n",
      "after check_down time\n",
      "destination store before put: [{'id': 'default', 'level': 0, 'capacity': 4}]\n",
      "<FilterStoreGet() object at 0x2a11fd28808>\n",
      "put_callback - id_ default\n",
      "{}\n",
      "destination store after put: [{'id': 'default', 'level': 4, 'capacity': 4}]\n",
      "after put\n",
      "processor end process\n",
      "Processed 4 of default:\n",
      "  by:          Hopper 01\n",
      "  origin        Winlocatie  contains: 8 of default\n",
      "  destination:  Hopper 01 contains: 4 of default\n",
      "after shift amount : {<simpy.resources.resource.Resource object at 0x000002A126066E48>: <Request() object at 0x2a1260fe448>, <simpy.resources.resource.Resource object at 0x000002A125B9FB88>: <Request() object at 0x2a126105608>}\n",
      "keep resources []\n",
      "release destination : {<simpy.resources.resource.Resource object at 0x000002A125B9FB88>: <Request() object at 0x2a126105608>}\n",
      "released origin : {}\n",
      "released processor : {}\n",
      "{}\n",
      "Activity end(Transfer MP)\n",
      "<__main__.TestMoveActivity object at 0x000002A12612FC48>\n",
      "keep_resources []\n",
      "start event instance None\n",
      "Mover_move before mover resource request\n",
      "Mover_move after mover resource request\n",
      "weatherPlugin start preprocess\n",
      "[['2010-01-01T03:00:00.000000000' '2010-01-01T06:40:00.000000000']\n",
      " ['2010-01-01T09:00:00.000000000' '2010-01-01T16:40:00.000000000']\n",
      " ['2010-01-01T20:00:00.000000000' '2010-01-01T23:20:00.000000000']\n",
      " ['2010-01-02T03:00:00.000000000' '2010-01-02T06:40:00.000000000']\n",
      " ['2010-01-02T09:00:00.000000000' '2010-01-02T16:40:00.000000000']\n",
      " ['2010-01-02T20:00:00.000000000' '2010-01-02T23:20:00.000000000']\n",
      " ['2010-01-03T03:00:00.000000000' '2010-01-03T06:40:00.000000000']\n",
      " ['2010-01-03T09:00:00.000000000' '2010-01-03T16:40:00.000000000']\n",
      " ['2010-01-03T20:00:00.000000000' '2010-01-03T23:20:00.000000000']\n",
      " ['2010-01-04T03:00:00.000000000' '2010-01-04T06:40:00.000000000']\n",
      " ['2010-01-04T09:00:00.000000000' '2010-01-04T16:40:00.000000000']\n",
      " ['2010-01-04T20:00:00.000000000' '2010-01-04T23:20:00.000000000']\n",
      " ['2010-01-05T03:00:00.000000000' '2010-01-05T06:40:00.000000000']\n",
      " ['2010-01-05T09:00:00.000000000' '2010-01-05T16:40:00.000000000']\n",
      " ['2010-01-05T20:00:00.000000000' '2010-01-05T23:20:00.000000000']\n",
      " ['2010-01-06T03:00:00.000000000' '2010-01-06T06:40:00.000000000']\n",
      " ['2010-01-06T09:00:00.000000000' '2010-01-06T16:40:00.000000000']\n",
      " ['2010-01-06T20:00:00.000000000' '2010-01-06T23:20:00.000000000']\n",
      " ['2010-01-07T03:00:00.000000000' '2010-01-07T06:40:00.000000000']\n",
      " ['2010-01-07T09:00:00.000000000' '2010-01-07T16:40:00.000000000']\n",
      " ['2010-01-07T20:00:00.000000000' '2010-01-07T23:20:00.000000000']\n",
      " ['2010-01-08T03:00:00.000000000' '2010-01-08T06:40:00.000000000']\n",
      " ['2010-01-08T09:00:00.000000000' '2010-01-08T16:40:00.000000000']\n",
      " ['2010-01-08T20:00:00.000000000' '2010-01-08T21:50:00.000000000']]\n",
      "[0.0]\n",
      "we have to wait for 0.0\n",
      "delay processing 0.0\n",
      "before delay 1262402142.8245912\n",
      "after delay 1262402142.8245912\n",
      "plugin_data mover: <__main__.TransportProcessingResource object at 0x000002A126066BC8>\n",
      "plugin_data origin: <__main__.TransportProcessingResource object at 0x000002A126066BC8>\n",
      "plugin_data destination: <__main__.Site object at 0x000002A126066F88>\n",
      "plugin_data engine_oder: 1.0\n",
      "plugin_data activity_log: <__main__.TestMoveActivity object at 0x000002A12612FC48>\n",
      "Mover_move after move\n",
      "plugin_data mover: <__main__.TransportProcessingResource object at 0x000002A126066BC8>\n",
      "plugin_data origin: <__main__.TransportProcessingResource object at 0x000002A126066BC8>\n",
      "plugin_data destination: <__main__.Site object at 0x000002A126066F88>\n",
      "plugin_data engine_oder: 1.0\n",
      "plugin_data activity_log: <__main__.TestMoveActivity object at 0x000002A12612FC48>\n",
      "plugin_data start_preprocessing: 1262402142.8245912\n",
      "plugin_data start_activity: 1262402142.8245912\n",
      "Activity end(Soil movement)\n",
      "<openclsim.model.ShiftAmountActivity object at 0x000002A12612FE48>\n",
      "keep_resources []\n",
      "SHift amount Activity keep_resources []\n",
      "start event instance None\n",
      "start : {}\n",
      "{'origin.6dbbbdf6-4589-11e9-95a2-b469212bff5b': 4, 'destination.6dbbbdf5-4589-11e9-82b2-b469212bff5c': 12}\n",
      "destination request : {<simpy.resources.resource.Resource object at 0x000002A125B9F388>: <Request() object at 0x2a126102d08>}\n",
      "shift amount process keep_resources []\n",
      "start get_available\n",
      "processor request : {<simpy.resources.resource.Resource object at 0x000002A125B9F388>: <Request() object at 0x2a126102d08>, <simpy.resources.resource.Resource object at 0x000002A126066E48>: <Request() object at 0x2a1260721c8>}\n",
      "site request : {<simpy.resources.resource.Resource object at 0x000002A125B9F388>: <Request() object at 0x2a126102d08>, <simpy.resources.resource.Resource object at 0x000002A126066E48>: <Request() object at 0x2a1260721c8>}\n",
      "end requestIfAvailable : {<simpy.resources.resource.Resource object at 0x000002A125B9F388>: <Request() object at 0x2a126102d08>, <simpy.resources.resource.Resource object at 0x000002A126066E48>: <Request() object at 0x2a1260721c8>}\n",
      "after req resource if available : {<simpy.resources.resource.Resource object at 0x000002A125B9F388>: <Request() object at 0x2a126102d08>, <simpy.resources.resource.Resource object at 0x000002A126066E48>: <Request() object at 0x2a1260721c8>}\n",
      "_shift_amount\n",
      "start _shift_amount\n",
      "amount 4\n",
      "processor start process\n",
      "transfer default to Dumplocatie\n",
      "processor process without rate\n",
      "origin store before get: [{'id': 'default', 'level': 4, 'capacity': 4}]\n",
      "start get 4\n",
      "store_status {'id': 'default', 'level': 4, 'capacity': 4}\n",
      "end get 4\n",
      "get_callback - id_ <StorePut() object at 0x2a126072608>\n",
      "start get_callback\n",
      "{}\n",
      "origin store after get: [{'id': 'default', 'level': 0, 'capacity': 4}]\n",
      "after get\n",
      "after check_down time\n",
      "destination store before put: [{'id': 'default', 'level': 28, 'capacity': 40}]\n",
      "<FilterStoreGet() object at 0x2a126072608>\n",
      "put_callback - id_ default\n",
      "{'default': {40: <Event() object at 0x2a126135d88>}}\n",
      "amount :40\n",
      "destination store after put: [{'id': 'default', 'level': 32, 'capacity': 40}]\n",
      "after put\n",
      "processor end process\n",
      "Processed 4 of default:\n",
      "  by:          Hopper 01\n",
      "  origin        Hopper 01  contains: 0 of default\n",
      "  destination:  Dumplocatie contains: 32 of default\n",
      "after shift amount : {<simpy.resources.resource.Resource object at 0x000002A125B9F388>: <Request() object at 0x2a126102d08>, <simpy.resources.resource.Resource object at 0x000002A126066E48>: <Request() object at 0x2a1260721c8>}\n",
      "keep resources []\n",
      "release destination : {<simpy.resources.resource.Resource object at 0x000002A126066E48>: <Request() object at 0x2a1260721c8>}\n",
      "released origin : {}\n",
      "released processor : {}\n",
      "{}\n",
      "Activity end(Transfer TP)\n",
      "Activity end(Single run process)\n",
      "condition event triggered: False False round 7\n",
      "while loop requested_resources {}\n",
      "while loop keep_resources []\n",
      "<openclsim.model.SequentialActivity object at 0x000002A126135848>\n",
      "conditional \n",
      "start event instance None\n",
      "<__main__.TestMoveActivity object at 0x000002A126118948>\n",
      "keep_resources []\n",
      "start event instance None\n",
      "Mover_move before mover resource request\n",
      "Mover_move after mover resource request\n",
      "weatherPlugin start preprocess\n",
      "[['2010-01-01T03:00:00.000000000' '2010-01-01T06:40:00.000000000']\n",
      " ['2010-01-01T09:00:00.000000000' '2010-01-01T16:40:00.000000000']\n",
      " ['2010-01-01T20:00:00.000000000' '2010-01-01T23:20:00.000000000']\n",
      " ['2010-01-02T03:00:00.000000000' '2010-01-02T06:40:00.000000000']\n",
      " ['2010-01-02T09:00:00.000000000' '2010-01-02T16:40:00.000000000']\n",
      " ['2010-01-02T20:00:00.000000000' '2010-01-02T23:20:00.000000000']\n",
      " ['2010-01-03T03:00:00.000000000' '2010-01-03T06:40:00.000000000']\n",
      " ['2010-01-03T09:00:00.000000000' '2010-01-03T16:40:00.000000000']\n",
      " ['2010-01-03T20:00:00.000000000' '2010-01-03T23:20:00.000000000']\n",
      " ['2010-01-04T03:00:00.000000000' '2010-01-04T06:40:00.000000000']\n",
      " ['2010-01-04T09:00:00.000000000' '2010-01-04T16:40:00.000000000']\n",
      " ['2010-01-04T20:00:00.000000000' '2010-01-04T23:20:00.000000000']\n",
      " ['2010-01-05T03:00:00.000000000' '2010-01-05T06:40:00.000000000']\n",
      " ['2010-01-05T09:00:00.000000000' '2010-01-05T16:40:00.000000000']\n",
      " ['2010-01-05T20:00:00.000000000' '2010-01-05T23:20:00.000000000']\n",
      " ['2010-01-06T03:00:00.000000000' '2010-01-06T06:40:00.000000000']\n",
      " ['2010-01-06T09:00:00.000000000' '2010-01-06T16:40:00.000000000']\n",
      " ['2010-01-06T20:00:00.000000000' '2010-01-06T23:20:00.000000000']\n",
      " ['2010-01-07T03:00:00.000000000' '2010-01-07T06:40:00.000000000']\n",
      " ['2010-01-07T09:00:00.000000000' '2010-01-07T16:40:00.000000000']\n",
      " ['2010-01-07T20:00:00.000000000' '2010-01-07T23:20:00.000000000']\n",
      " ['2010-01-08T03:00:00.000000000' '2010-01-08T06:40:00.000000000']\n",
      " ['2010-01-08T09:00:00.000000000' '2010-01-08T16:40:00.000000000']\n",
      " ['2010-01-08T20:00:00.000000000' '2010-01-08T21:50:00.000000000']]\n",
      "[0.0]\n",
      "we have to wait for 0.0\n",
      "delay processing 0.0\n",
      "before delay 1262406685.6491823\n",
      "after delay 1262406685.6491823\n",
      "plugin_data mover: <__main__.TransportProcessingResource object at 0x000002A126066BC8>\n",
      "plugin_data origin: <__main__.TransportProcessingResource object at 0x000002A126066BC8>\n",
      "plugin_data destination: <__main__.Site object at 0x000002A12605C108>\n",
      "plugin_data engine_oder: 1.0\n",
      "plugin_data activity_log: <__main__.TestMoveActivity object at 0x000002A126118948>\n",
      "Mover_move after move\n",
      "plugin_data mover: <__main__.TransportProcessingResource object at 0x000002A126066BC8>\n",
      "plugin_data origin: <__main__.TransportProcessingResource object at 0x000002A126066BC8>\n",
      "plugin_data destination: <__main__.Site object at 0x000002A12605C108>\n",
      "plugin_data engine_oder: 1.0\n",
      "plugin_data activity_log: <__main__.TestMoveActivity object at 0x000002A126118948>\n",
      "plugin_data start_preprocessing: 1262406685.6491823\n",
      "plugin_data start_activity: 1262406685.6491823\n",
      "Activity end(Soil movement)\n",
      "<openclsim.model.ShiftAmountActivity object at 0x000002A126118988>\n",
      "keep_resources []\n",
      "SHift amount Activity keep_resources []\n",
      "start event instance None\n",
      "start : {}\n",
      "{'origin.6dbbbdf4-4589-11e9-a501-b469212bff5d': 8, 'destination.6dbbbdf6-4589-11e9-95a2-b469212bff5b': 4}\n",
      "destination request : {<simpy.resources.resource.Resource object at 0x000002A126066E48>: <Request() object at 0x2a126105908>}\n",
      "shift amount process keep_resources []\n",
      "start get_available\n",
      "processor request : {<simpy.resources.resource.Resource object at 0x000002A126066E48>: <Request() object at 0x2a126105908>}\n",
      "site request : {<simpy.resources.resource.Resource object at 0x000002A126066E48>: <Request() object at 0x2a126105908>, <simpy.resources.resource.Resource object at 0x000002A125B9FB88>: <Request() object at 0x2a126108e08>}\n",
      "end requestIfAvailable : {<simpy.resources.resource.Resource object at 0x000002A126066E48>: <Request() object at 0x2a126105908>, <simpy.resources.resource.Resource object at 0x000002A125B9FB88>: <Request() object at 0x2a126108e08>}\n",
      "after req resource if available : {<simpy.resources.resource.Resource object at 0x000002A126066E48>: <Request() object at 0x2a126105908>, <simpy.resources.resource.Resource object at 0x000002A125B9FB88>: <Request() object at 0x2a126108e08>}\n",
      "_shift_amount\n",
      "start _shift_amount\n",
      "amount 4\n",
      "processor start process\n",
      "transfer default to Hopper 01\n",
      "processor process without rate\n",
      "origin store before get: [{'id': 'default', 'level': 8, 'capacity': 40}]\n",
      "start get 4\n",
      "store_status {'id': 'default', 'level': 8, 'capacity': 40}\n",
      "end get 4\n",
      "get_callback - id_ <StorePut() object at 0x2a126108e48>\n",
      "start get_callback\n",
      "{}\n",
      "origin store after get: [{'id': 'default', 'level': 4, 'capacity': 40}]\n",
      "after get\n",
      "after check_down time\n",
      "destination store before put: [{'id': 'default', 'level': 0, 'capacity': 4}]\n",
      "<FilterStoreGet() object at 0x2a126108e48>\n",
      "put_callback - id_ default\n",
      "{}\n",
      "destination store after put: [{'id': 'default', 'level': 4, 'capacity': 4}]\n",
      "after put\n",
      "processor end process\n",
      "Processed 4 of default:\n",
      "  by:          Hopper 01\n",
      "  origin        Winlocatie  contains: 4 of default\n",
      "  destination:  Hopper 01 contains: 4 of default\n",
      "after shift amount : {<simpy.resources.resource.Resource object at 0x000002A126066E48>: <Request() object at 0x2a126105908>, <simpy.resources.resource.Resource object at 0x000002A125B9FB88>: <Request() object at 0x2a126108e08>}\n",
      "keep resources []\n",
      "release destination : {<simpy.resources.resource.Resource object at 0x000002A125B9FB88>: <Request() object at 0x2a126108e08>}\n",
      "released origin : {}\n",
      "released processor : {}\n",
      "{}\n",
      "Activity end(Transfer MP)\n",
      "<__main__.TestMoveActivity object at 0x000002A12612FC48>\n",
      "keep_resources []\n",
      "start event instance None\n",
      "Mover_move before mover resource request\n",
      "Mover_move after mover resource request\n",
      "weatherPlugin start preprocess\n",
      "[['2010-01-01T03:00:00.000000000' '2010-01-01T06:40:00.000000000']\n",
      " ['2010-01-01T09:00:00.000000000' '2010-01-01T16:40:00.000000000']\n",
      " ['2010-01-01T20:00:00.000000000' '2010-01-01T23:20:00.000000000']\n",
      " ['2010-01-02T03:00:00.000000000' '2010-01-02T06:40:00.000000000']\n",
      " ['2010-01-02T09:00:00.000000000' '2010-01-02T16:40:00.000000000']\n",
      " ['2010-01-02T20:00:00.000000000' '2010-01-02T23:20:00.000000000']\n",
      " ['2010-01-03T03:00:00.000000000' '2010-01-03T06:40:00.000000000']\n",
      " ['2010-01-03T09:00:00.000000000' '2010-01-03T16:40:00.000000000']\n",
      " ['2010-01-03T20:00:00.000000000' '2010-01-03T23:20:00.000000000']\n",
      " ['2010-01-04T03:00:00.000000000' '2010-01-04T06:40:00.000000000']\n",
      " ['2010-01-04T09:00:00.000000000' '2010-01-04T16:40:00.000000000']\n",
      " ['2010-01-04T20:00:00.000000000' '2010-01-04T23:20:00.000000000']\n",
      " ['2010-01-05T03:00:00.000000000' '2010-01-05T06:40:00.000000000']\n",
      " ['2010-01-05T09:00:00.000000000' '2010-01-05T16:40:00.000000000']\n",
      " ['2010-01-05T20:00:00.000000000' '2010-01-05T23:20:00.000000000']\n",
      " ['2010-01-06T03:00:00.000000000' '2010-01-06T06:40:00.000000000']\n",
      " ['2010-01-06T09:00:00.000000000' '2010-01-06T16:40:00.000000000']\n",
      " ['2010-01-06T20:00:00.000000000' '2010-01-06T23:20:00.000000000']\n",
      " ['2010-01-07T03:00:00.000000000' '2010-01-07T06:40:00.000000000']\n",
      " ['2010-01-07T09:00:00.000000000' '2010-01-07T16:40:00.000000000']\n",
      " ['2010-01-07T20:00:00.000000000' '2010-01-07T23:20:00.000000000']\n",
      " ['2010-01-08T03:00:00.000000000' '2010-01-08T06:40:00.000000000']\n",
      " ['2010-01-08T09:00:00.000000000' '2010-01-08T16:40:00.000000000']\n",
      " ['2010-01-08T20:00:00.000000000' '2010-01-08T21:50:00.000000000']]\n",
      "[7971.526227]\n",
      "we have to wait for 7971.526227\n",
      "delay processing 7971.526227\n",
      "before delay 1262411228.4737735\n",
      "after delay 1262419200.0000005\n",
      "plugin_data mover: <__main__.TransportProcessingResource object at 0x000002A126066BC8>\n",
      "plugin_data origin: <__main__.TransportProcessingResource object at 0x000002A126066BC8>\n",
      "plugin_data destination: <__main__.Site object at 0x000002A126066F88>\n",
      "plugin_data engine_oder: 1.0\n",
      "plugin_data activity_log: <__main__.TestMoveActivity object at 0x000002A12612FC48>\n",
      "Mover_move after move\n",
      "plugin_data mover: <__main__.TransportProcessingResource object at 0x000002A126066BC8>\n",
      "plugin_data origin: <__main__.TransportProcessingResource object at 0x000002A126066BC8>\n",
      "plugin_data destination: <__main__.Site object at 0x000002A126066F88>\n",
      "plugin_data engine_oder: 1.0\n",
      "plugin_data activity_log: <__main__.TestMoveActivity object at 0x000002A12612FC48>\n",
      "plugin_data start_preprocessing: 1262411228.4737735\n",
      "plugin_data start_activity: 1262419200.0000005\n",
      "Activity end(Soil movement)\n",
      "<openclsim.model.ShiftAmountActivity object at 0x000002A12612FE48>\n",
      "keep_resources []\n",
      "SHift amount Activity keep_resources []\n",
      "start event instance None\n",
      "start : {}\n",
      "{'origin.6dbbbdf6-4589-11e9-95a2-b469212bff5b': 4, 'destination.6dbbbdf5-4589-11e9-82b2-b469212bff5c': 8}\n",
      "destination request : {<simpy.resources.resource.Resource object at 0x000002A125B9F388>: <Request() object at 0x2a1260fe448>}\n",
      "shift amount process keep_resources []\n",
      "start get_available\n",
      "processor request : {<simpy.resources.resource.Resource object at 0x000002A125B9F388>: <Request() object at 0x2a1260fe448>, <simpy.resources.resource.Resource object at 0x000002A126066E48>: <Request() object at 0x2a126108b88>}\n",
      "site request : {<simpy.resources.resource.Resource object at 0x000002A125B9F388>: <Request() object at 0x2a1260fe448>, <simpy.resources.resource.Resource object at 0x000002A126066E48>: <Request() object at 0x2a126108b88>}\n",
      "end requestIfAvailable : {<simpy.resources.resource.Resource object at 0x000002A125B9F388>: <Request() object at 0x2a1260fe448>, <simpy.resources.resource.Resource object at 0x000002A126066E48>: <Request() object at 0x2a126108b88>}\n",
      "after req resource if available : {<simpy.resources.resource.Resource object at 0x000002A125B9F388>: <Request() object at 0x2a1260fe448>, <simpy.resources.resource.Resource object at 0x000002A126066E48>: <Request() object at 0x2a126108b88>}\n",
      "_shift_amount\n",
      "start _shift_amount\n",
      "amount 4\n",
      "processor start process\n",
      "transfer default to Dumplocatie\n",
      "processor process without rate\n",
      "origin store before get: [{'id': 'default', 'level': 4, 'capacity': 4}]\n",
      "start get 4\n",
      "store_status {'id': 'default', 'level': 4, 'capacity': 4}\n",
      "end get 4\n",
      "get_callback - id_ <StorePut() object at 0x2a126108788>\n",
      "start get_callback\n",
      "{}\n",
      "origin store after get: [{'id': 'default', 'level': 0, 'capacity': 4}]\n",
      "after get\n",
      "after check_down time\n",
      "destination store before put: [{'id': 'default', 'level': 32, 'capacity': 40}]\n",
      "<FilterStoreGet() object at 0x2a126108788>\n",
      "put_callback - id_ default\n",
      "{'default': {40: <Event() object at 0x2a126135d88>}}\n",
      "amount :40\n",
      "destination store after put: [{'id': 'default', 'level': 36, 'capacity': 40}]\n",
      "after put\n",
      "processor end process\n",
      "Processed 4 of default:\n",
      "  by:          Hopper 01\n",
      "  origin        Hopper 01  contains: 0 of default\n",
      "  destination:  Dumplocatie contains: 36 of default\n",
      "after shift amount : {<simpy.resources.resource.Resource object at 0x000002A125B9F388>: <Request() object at 0x2a1260fe448>, <simpy.resources.resource.Resource object at 0x000002A126066E48>: <Request() object at 0x2a126108b88>}\n",
      "keep resources []\n",
      "release destination : {<simpy.resources.resource.Resource object at 0x000002A126066E48>: <Request() object at 0x2a126108b88>}\n",
      "released origin : {}\n",
      "released processor : {}\n",
      "{}\n",
      "Activity end(Transfer TP)\n",
      "Activity end(Single run process)\n",
      "condition event triggered: False False round 8\n",
      "while loop requested_resources {}\n",
      "while loop keep_resources []\n",
      "<openclsim.model.SequentialActivity object at 0x000002A126135848>\n",
      "conditional \n",
      "start event instance None\n",
      "<__main__.TestMoveActivity object at 0x000002A126118948>\n",
      "keep_resources []\n",
      "start event instance None\n",
      "Mover_move before mover resource request\n",
      "Mover_move after mover resource request\n",
      "weatherPlugin start preprocess\n",
      "[['2010-01-01T03:00:00.000000000' '2010-01-01T06:40:00.000000000']\n",
      " ['2010-01-01T09:00:00.000000000' '2010-01-01T16:40:00.000000000']\n",
      " ['2010-01-01T20:00:00.000000000' '2010-01-01T23:20:00.000000000']\n",
      " ['2010-01-02T03:00:00.000000000' '2010-01-02T06:40:00.000000000']\n",
      " ['2010-01-02T09:00:00.000000000' '2010-01-02T16:40:00.000000000']\n",
      " ['2010-01-02T20:00:00.000000000' '2010-01-02T23:20:00.000000000']\n",
      " ['2010-01-03T03:00:00.000000000' '2010-01-03T06:40:00.000000000']\n",
      " ['2010-01-03T09:00:00.000000000' '2010-01-03T16:40:00.000000000']\n",
      " ['2010-01-03T20:00:00.000000000' '2010-01-03T23:20:00.000000000']\n",
      " ['2010-01-04T03:00:00.000000000' '2010-01-04T06:40:00.000000000']\n",
      " ['2010-01-04T09:00:00.000000000' '2010-01-04T16:40:00.000000000']\n",
      " ['2010-01-04T20:00:00.000000000' '2010-01-04T23:20:00.000000000']\n",
      " ['2010-01-05T03:00:00.000000000' '2010-01-05T06:40:00.000000000']\n",
      " ['2010-01-05T09:00:00.000000000' '2010-01-05T16:40:00.000000000']\n",
      " ['2010-01-05T20:00:00.000000000' '2010-01-05T23:20:00.000000000']\n",
      " ['2010-01-06T03:00:00.000000000' '2010-01-06T06:40:00.000000000']\n",
      " ['2010-01-06T09:00:00.000000000' '2010-01-06T16:40:00.000000000']\n",
      " ['2010-01-06T20:00:00.000000000' '2010-01-06T23:20:00.000000000']\n",
      " ['2010-01-07T03:00:00.000000000' '2010-01-07T06:40:00.000000000']\n",
      " ['2010-01-07T09:00:00.000000000' '2010-01-07T16:40:00.000000000']\n",
      " ['2010-01-07T20:00:00.000000000' '2010-01-07T23:20:00.000000000']\n",
      " ['2010-01-08T03:00:00.000000000' '2010-01-08T06:40:00.000000000']\n",
      " ['2010-01-08T09:00:00.000000000' '2010-01-08T16:40:00.000000000']\n",
      " ['2010-01-08T20:00:00.000000000' '2010-01-08T21:50:00.000000000']]\n",
      "[0.0]\n",
      "we have to wait for 0.0\n",
      "delay processing 0.0\n",
      "before delay 1262423742.8245916\n",
      "after delay 1262423742.8245916\n",
      "plugin_data mover: <__main__.TransportProcessingResource object at 0x000002A126066BC8>\n",
      "plugin_data origin: <__main__.TransportProcessingResource object at 0x000002A126066BC8>\n",
      "plugin_data destination: <__main__.Site object at 0x000002A12605C108>\n",
      "plugin_data engine_oder: 1.0\n",
      "plugin_data activity_log: <__main__.TestMoveActivity object at 0x000002A126118948>\n",
      "Mover_move after move\n",
      "plugin_data mover: <__main__.TransportProcessingResource object at 0x000002A126066BC8>\n",
      "plugin_data origin: <__main__.TransportProcessingResource object at 0x000002A126066BC8>\n",
      "plugin_data destination: <__main__.Site object at 0x000002A12605C108>\n",
      "plugin_data engine_oder: 1.0\n",
      "plugin_data activity_log: <__main__.TestMoveActivity object at 0x000002A126118948>\n",
      "plugin_data start_preprocessing: 1262423742.8245916\n",
      "plugin_data start_activity: 1262423742.8245916\n",
      "Activity end(Soil movement)\n",
      "<openclsim.model.ShiftAmountActivity object at 0x000002A126118988>\n",
      "keep_resources []\n",
      "SHift amount Activity keep_resources []\n",
      "start event instance None\n",
      "start : {}\n",
      "{'origin.6dbbbdf4-4589-11e9-a501-b469212bff5d': 4, 'destination.6dbbbdf6-4589-11e9-95a2-b469212bff5b': 4}\n",
      "destination request : {<simpy.resources.resource.Resource object at 0x000002A126066E48>: <Request() object at 0x2a1260726c8>}\n",
      "shift amount process keep_resources []\n",
      "start get_available\n",
      "processor request : {<simpy.resources.resource.Resource object at 0x000002A126066E48>: <Request() object at 0x2a1260726c8>}\n",
      "site request : {<simpy.resources.resource.Resource object at 0x000002A126066E48>: <Request() object at 0x2a1260726c8>, <simpy.resources.resource.Resource object at 0x000002A125B9FB88>: <Request() object at 0x2a126108e88>}\n",
      "end requestIfAvailable : {<simpy.resources.resource.Resource object at 0x000002A126066E48>: <Request() object at 0x2a1260726c8>, <simpy.resources.resource.Resource object at 0x000002A125B9FB88>: <Request() object at 0x2a126108e88>}\n",
      "after req resource if available : {<simpy.resources.resource.Resource object at 0x000002A126066E48>: <Request() object at 0x2a1260726c8>, <simpy.resources.resource.Resource object at 0x000002A125B9FB88>: <Request() object at 0x2a126108e88>}\n",
      "_shift_amount\n",
      "start _shift_amount\n",
      "amount 4\n",
      "processor start process\n",
      "transfer default to Hopper 01\n",
      "processor process without rate\n",
      "origin store before get: [{'id': 'default', 'level': 4, 'capacity': 40}]\n",
      "start get 4\n",
      "store_status {'id': 'default', 'level': 4, 'capacity': 40}\n",
      "end get 4\n",
      "get_callback - id_ <StorePut() object at 0x2a126108c88>\n",
      "start get_callback\n",
      "{}\n",
      "origin store after get: [{'id': 'default', 'level': 0, 'capacity': 40}]\n",
      "after get\n",
      "after check_down time\n",
      "destination store before put: [{'id': 'default', 'level': 0, 'capacity': 4}]\n",
      "<FilterStoreGet() object at 0x2a126108c88>\n",
      "put_callback - id_ default\n",
      "{}\n",
      "destination store after put: [{'id': 'default', 'level': 4, 'capacity': 4}]\n",
      "after put\n",
      "processor end process\n",
      "Processed 4 of default:\n",
      "  by:          Hopper 01\n",
      "  origin        Winlocatie  contains: 0 of default\n",
      "  destination:  Hopper 01 contains: 4 of default\n",
      "after shift amount : {<simpy.resources.resource.Resource object at 0x000002A126066E48>: <Request() object at 0x2a1260726c8>, <simpy.resources.resource.Resource object at 0x000002A125B9FB88>: <Request() object at 0x2a126108e88>}\n",
      "keep resources []\n",
      "release destination : {<simpy.resources.resource.Resource object at 0x000002A125B9FB88>: <Request() object at 0x2a126108e88>}\n",
      "released origin : {}\n",
      "released processor : {}\n",
      "{}\n",
      "Activity end(Transfer MP)\n",
      "<__main__.TestMoveActivity object at 0x000002A12612FC48>\n",
      "keep_resources []\n",
      "start event instance None\n",
      "Mover_move before mover resource request\n",
      "Mover_move after mover resource request\n",
      "weatherPlugin start preprocess\n",
      "[['2010-01-01T03:00:00.000000000' '2010-01-01T06:40:00.000000000']\n",
      " ['2010-01-01T09:00:00.000000000' '2010-01-01T16:40:00.000000000']\n",
      " ['2010-01-01T20:00:00.000000000' '2010-01-01T23:20:00.000000000']\n",
      " ['2010-01-02T03:00:00.000000000' '2010-01-02T06:40:00.000000000']\n",
      " ['2010-01-02T09:00:00.000000000' '2010-01-02T16:40:00.000000000']\n",
      " ['2010-01-02T20:00:00.000000000' '2010-01-02T23:20:00.000000000']\n",
      " ['2010-01-03T03:00:00.000000000' '2010-01-03T06:40:00.000000000']\n",
      " ['2010-01-03T09:00:00.000000000' '2010-01-03T16:40:00.000000000']\n",
      " ['2010-01-03T20:00:00.000000000' '2010-01-03T23:20:00.000000000']\n",
      " ['2010-01-04T03:00:00.000000000' '2010-01-04T06:40:00.000000000']\n",
      " ['2010-01-04T09:00:00.000000000' '2010-01-04T16:40:00.000000000']\n",
      " ['2010-01-04T20:00:00.000000000' '2010-01-04T23:20:00.000000000']\n",
      " ['2010-01-05T03:00:00.000000000' '2010-01-05T06:40:00.000000000']\n",
      " ['2010-01-05T09:00:00.000000000' '2010-01-05T16:40:00.000000000']\n",
      " ['2010-01-05T20:00:00.000000000' '2010-01-05T23:20:00.000000000']\n",
      " ['2010-01-06T03:00:00.000000000' '2010-01-06T06:40:00.000000000']\n",
      " ['2010-01-06T09:00:00.000000000' '2010-01-06T16:40:00.000000000']\n",
      " ['2010-01-06T20:00:00.000000000' '2010-01-06T23:20:00.000000000']\n",
      " ['2010-01-07T03:00:00.000000000' '2010-01-07T06:40:00.000000000']\n",
      " ['2010-01-07T09:00:00.000000000' '2010-01-07T16:40:00.000000000']\n",
      " ['2010-01-07T20:00:00.000000000' '2010-01-07T23:20:00.000000000']\n",
      " ['2010-01-08T03:00:00.000000000' '2010-01-08T06:40:00.000000000']\n",
      " ['2010-01-08T09:00:00.000000000' '2010-01-08T16:40:00.000000000']\n",
      " ['2010-01-08T20:00:00.000000000' '2010-01-08T21:50:00.000000000']]\n",
      "[0.0]\n",
      "we have to wait for 0.0\n",
      "delay processing 0.0\n",
      "before delay 1262428285.6491828\n",
      "after delay 1262428285.6491828\n",
      "plugin_data mover: <__main__.TransportProcessingResource object at 0x000002A126066BC8>\n",
      "plugin_data origin: <__main__.TransportProcessingResource object at 0x000002A126066BC8>\n",
      "plugin_data destination: <__main__.Site object at 0x000002A126066F88>\n",
      "plugin_data engine_oder: 1.0\n",
      "plugin_data activity_log: <__main__.TestMoveActivity object at 0x000002A12612FC48>\n",
      "Mover_move after move\n",
      "plugin_data mover: <__main__.TransportProcessingResource object at 0x000002A126066BC8>\n",
      "plugin_data origin: <__main__.TransportProcessingResource object at 0x000002A126066BC8>\n",
      "plugin_data destination: <__main__.Site object at 0x000002A126066F88>\n",
      "plugin_data engine_oder: 1.0\n",
      "plugin_data activity_log: <__main__.TestMoveActivity object at 0x000002A12612FC48>\n",
      "plugin_data start_preprocessing: 1262428285.6491828\n",
      "plugin_data start_activity: 1262428285.6491828\n",
      "Activity end(Soil movement)\n",
      "<openclsim.model.ShiftAmountActivity object at 0x000002A12612FE48>\n",
      "keep_resources []\n",
      "SHift amount Activity keep_resources []\n",
      "start event instance None\n",
      "start : {}\n",
      "{'origin.6dbbbdf6-4589-11e9-95a2-b469212bff5b': 4, 'destination.6dbbbdf5-4589-11e9-82b2-b469212bff5c': 4}\n",
      "destination request : {<simpy.resources.resource.Resource object at 0x000002A125B9F388>: <Request() object at 0x2a126104bc8>}\n",
      "shift amount process keep_resources []\n",
      "start get_available\n",
      "processor request : {<simpy.resources.resource.Resource object at 0x000002A125B9F388>: <Request() object at 0x2a126104bc8>, <simpy.resources.resource.Resource object at 0x000002A126066E48>: <Request() object at 0x2a126104dc8>}\n",
      "site request : {<simpy.resources.resource.Resource object at 0x000002A125B9F388>: <Request() object at 0x2a126104bc8>, <simpy.resources.resource.Resource object at 0x000002A126066E48>: <Request() object at 0x2a126104dc8>}\n",
      "end requestIfAvailable : {<simpy.resources.resource.Resource object at 0x000002A125B9F388>: <Request() object at 0x2a126104bc8>, <simpy.resources.resource.Resource object at 0x000002A126066E48>: <Request() object at 0x2a126104dc8>}\n",
      "after req resource if available : {<simpy.resources.resource.Resource object at 0x000002A125B9F388>: <Request() object at 0x2a126104bc8>, <simpy.resources.resource.Resource object at 0x000002A126066E48>: <Request() object at 0x2a126104dc8>}\n",
      "_shift_amount\n",
      "start _shift_amount\n",
      "amount 4\n",
      "processor start process\n",
      "transfer default to Dumplocatie\n",
      "processor process without rate\n",
      "origin store before get: [{'id': 'default', 'level': 4, 'capacity': 4}]\n",
      "start get 4\n",
      "store_status {'id': 'default', 'level': 4, 'capacity': 4}\n",
      "end get 4\n",
      "get_callback - id_ <StorePut() object at 0x2a11fd28808>\n",
      "start get_callback\n",
      "{}\n",
      "origin store after get: [{'id': 'default', 'level': 0, 'capacity': 4}]\n",
      "after get\n",
      "after check_down time\n",
      "destination store before put: [{'id': 'default', 'level': 36, 'capacity': 40}]\n",
      "<FilterStoreGet() object at 0x2a126104108>\n",
      "put_callback - id_ default\n",
      "{'default': {40: <Event() object at 0x2a126135d88>}}\n",
      "amount :40\n",
      "destination store after put: [{'id': 'default', 'level': 40, 'capacity': 40}]\n",
      "after put\n",
      "processor end process\n",
      "Processed 4 of default:\n",
      "  by:          Hopper 01\n",
      "  origin        Hopper 01  contains: 0 of default\n",
      "  destination:  Dumplocatie contains: 40 of default\n",
      "after shift amount : {<simpy.resources.resource.Resource object at 0x000002A125B9F388>: <Request() object at 0x2a126104bc8>, <simpy.resources.resource.Resource object at 0x000002A126066E48>: <Request() object at 0x2a126104dc8>}\n",
      "keep resources []\n",
      "release destination : {<simpy.resources.resource.Resource object at 0x000002A126066E48>: <Request() object at 0x2a126104dc8>}\n",
      "released origin : {}\n",
      "released processor : {}\n",
      "{}\n",
      "Activity end(Transfer TP)\n",
      "Activity end(Single run process)\n",
      "condition event triggered: True True round 9\n",
      "while loop requested_resources {}\n",
      "while loop keep_resources []\n"
     ]
    }
   ],
   "source": [
    "my_env.run()"
   ]
  },
  {
   "cell_type": "code",
   "execution_count": 9,
   "metadata": {},
   "outputs": [
    {
     "data": {
      "text/html": [
       "<div>\n",
       "<style scoped>\n",
       "    .dataframe tbody tr th:only-of-type {\n",
       "        vertical-align: middle;\n",
       "    }\n",
       "\n",
       "    .dataframe tbody tr th {\n",
       "        vertical-align: top;\n",
       "    }\n",
       "\n",
       "    .dataframe thead th {\n",
       "        text-align: right;\n",
       "    }\n",
       "</style>\n",
       "<table border=\"1\" class=\"dataframe\">\n",
       "  <thead>\n",
       "    <tr style=\"text-align: right;\">\n",
       "      <th></th>\n",
       "      <th>Message</th>\n",
       "      <th>ActivityState</th>\n",
       "      <th>Timestamp</th>\n",
       "      <th>Value</th>\n",
       "      <th>ActivityID</th>\n",
       "    </tr>\n",
       "  </thead>\n",
       "  <tbody>\n",
       "    <tr>\n",
       "      <th>0</th>\n",
       "      <td>sailing empty</td>\n",
       "      <td>START</td>\n",
       "      <td>2010-01-01 03:00:00.000000</td>\n",
       "      <td>0</td>\n",
       "      <td>58223950-abe5-11ea-abf7-2079183a5c9a</td>\n",
       "    </tr>\n",
       "    <tr>\n",
       "      <th>1</th>\n",
       "      <td>sailing empty</td>\n",
       "      <td>STOP</td>\n",
       "      <td>2010-01-01 03:00:00.000000</td>\n",
       "      <td>0</td>\n",
       "      <td>58223950-abe5-11ea-abf7-2079183a5c9a</td>\n",
       "    </tr>\n",
       "    <tr>\n",
       "      <th>2</th>\n",
       "      <td>transfer default to Hopper 01</td>\n",
       "      <td>START</td>\n",
       "      <td>2010-01-01 03:00:00.000000</td>\n",
       "      <td>4</td>\n",
       "      <td>6dbbbdf7-4589-11e9-bf3b-b469212bff52</td>\n",
       "    </tr>\n",
       "    <tr>\n",
       "      <th>4</th>\n",
       "      <td>transfer default to Hopper 01</td>\n",
       "      <td>STOP</td>\n",
       "      <td>2010-01-01 04:00:00.000000</td>\n",
       "      <td>4</td>\n",
       "      <td>6dbbbdf7-4589-11e9-bf3b-b469212bff52</td>\n",
       "    </tr>\n",
       "    <tr>\n",
       "      <th>6</th>\n",
       "      <td>sailing filled</td>\n",
       "      <td>START</td>\n",
       "      <td>2010-01-01 04:00:00.000000</td>\n",
       "      <td>4</td>\n",
       "      <td>5825e46e-abe5-11ea-8ccd-2079183a5c9a</td>\n",
       "    </tr>\n",
       "    <tr>\n",
       "      <th>...</th>\n",
       "      <td>...</td>\n",
       "      <td>...</td>\n",
       "      <td>...</td>\n",
       "      <td>...</td>\n",
       "      <td>...</td>\n",
       "    </tr>\n",
       "    <tr>\n",
       "      <th>112</th>\n",
       "      <td>transfer default to Hopper 01</td>\n",
       "      <td>STOP</td>\n",
       "      <td>2010-01-02 11:31:25.649183</td>\n",
       "      <td>4</td>\n",
       "      <td>6dbbbdf7-4589-11e9-bf3b-b469212bff52</td>\n",
       "    </tr>\n",
       "    <tr>\n",
       "      <th>114</th>\n",
       "      <td>sailing filled</td>\n",
       "      <td>START</td>\n",
       "      <td>2010-01-02 11:31:25.649183</td>\n",
       "      <td>4</td>\n",
       "      <td>5825e46e-abe5-11ea-8ccd-2079183a5c9a</td>\n",
       "    </tr>\n",
       "    <tr>\n",
       "      <th>115</th>\n",
       "      <td>sailing filled</td>\n",
       "      <td>STOP</td>\n",
       "      <td>2010-01-02 11:47:08.473774</td>\n",
       "      <td>4</td>\n",
       "      <td>5825e46e-abe5-11ea-8ccd-2079183a5c9a</td>\n",
       "    </tr>\n",
       "    <tr>\n",
       "      <th>116</th>\n",
       "      <td>transfer default to Dumplocatie</td>\n",
       "      <td>START</td>\n",
       "      <td>2010-01-02 11:47:08.473774</td>\n",
       "      <td>4</td>\n",
       "      <td>6dbbbdf7-4589-11e9-bf3b-b469212bff54</td>\n",
       "    </tr>\n",
       "    <tr>\n",
       "      <th>118</th>\n",
       "      <td>transfer default to Dumplocatie</td>\n",
       "      <td>STOP</td>\n",
       "      <td>2010-01-02 12:47:08.473774</td>\n",
       "      <td>4</td>\n",
       "      <td>6dbbbdf7-4589-11e9-bf3b-b469212bff54</td>\n",
       "    </tr>\n",
       "  </tbody>\n",
       "</table>\n",
       "<p>80 rows × 5 columns</p>\n",
       "</div>"
      ],
      "text/plain": [
       "                             Message ActivityState                  Timestamp  \\\n",
       "0                      sailing empty         START 2010-01-01 03:00:00.000000   \n",
       "1                      sailing empty          STOP 2010-01-01 03:00:00.000000   \n",
       "2      transfer default to Hopper 01         START 2010-01-01 03:00:00.000000   \n",
       "4      transfer default to Hopper 01          STOP 2010-01-01 04:00:00.000000   \n",
       "6                     sailing filled         START 2010-01-01 04:00:00.000000   \n",
       "..                               ...           ...                        ...   \n",
       "112    transfer default to Hopper 01          STOP 2010-01-02 11:31:25.649183   \n",
       "114                   sailing filled         START 2010-01-02 11:31:25.649183   \n",
       "115                   sailing filled          STOP 2010-01-02 11:47:08.473774   \n",
       "116  transfer default to Dumplocatie         START 2010-01-02 11:47:08.473774   \n",
       "118  transfer default to Dumplocatie          STOP 2010-01-02 12:47:08.473774   \n",
       "\n",
       "     Value                            ActivityID  \n",
       "0        0  58223950-abe5-11ea-abf7-2079183a5c9a  \n",
       "1        0  58223950-abe5-11ea-abf7-2079183a5c9a  \n",
       "2        4  6dbbbdf7-4589-11e9-bf3b-b469212bff52  \n",
       "4        4  6dbbbdf7-4589-11e9-bf3b-b469212bff52  \n",
       "6        4  5825e46e-abe5-11ea-8ccd-2079183a5c9a  \n",
       "..     ...                                   ...  \n",
       "112      4  6dbbbdf7-4589-11e9-bf3b-b469212bff52  \n",
       "114      4  5825e46e-abe5-11ea-8ccd-2079183a5c9a  \n",
       "115      4  5825e46e-abe5-11ea-8ccd-2079183a5c9a  \n",
       "116      4  6dbbbdf7-4589-11e9-bf3b-b469212bff54  \n",
       "118      4  6dbbbdf7-4589-11e9-bf3b-b469212bff54  \n",
       "\n",
       "[80 rows x 5 columns]"
      ]
     },
     "execution_count": 9,
     "metadata": {},
     "output_type": "execute_result"
    }
   ],
   "source": [
    "log_df = pd.DataFrame(hopper.log)\n",
    "data =log_df[['Message', 'ActivityState', 'Timestamp', 'Value', 'ActivityID']]\n",
    "data = data.drop_duplicates()\n",
    "data"
   ]
  },
  {
   "cell_type": "code",
   "execution_count": 10,
   "metadata": {},
   "outputs": [
    {
     "data": {
      "text/html": [
       "        <script type=\"text/javascript\">\n",
       "        window.PlotlyConfig = {MathJaxConfig: 'local'};\n",
       "        if (window.MathJax) {MathJax.Hub.Config({SVG: {font: \"STIX-Web\"}});}\n",
       "        if (typeof require !== 'undefined') {\n",
       "        require.undef(\"plotly\");\n",
       "        requirejs.config({\n",
       "            paths: {\n",
       "                'plotly': ['https://cdn.plot.ly/plotly-latest.min']\n",
       "            }\n",
       "        });\n",
       "        require(['plotly'], function(Plotly) {\n",
       "            window._Plotly = Plotly;\n",
       "        });\n",
       "        }\n",
       "        </script>\n",
       "        "
      ]
     },
     "metadata": {},
     "output_type": "display_data"
    },
    {
     "data": {
      "application/vnd.plotly.v1+json": {
       "config": {
        "linkText": "Export to plot.ly",
        "plotlyServerURL": "https://plot.ly",
        "showLink": false
       },
       "data": [
        {
         "connectgaps": false,
         "hoverinfo": "y+name",
         "line": {
          "color": "rgb(236,230,154)",
          "width": 10
         },
         "mode": "lines",
         "name": "transfer default to Hopper 01",
         "type": "scatter",
         "x": [
          "2010-01-01T03:00:00",
          "2010-01-01T03:00:00",
          "2010-01-01T04:00:00",
          "2010-01-01T04:00:00",
          "2010-01-01T04:00:00",
          "2010-01-01T03:00:00",
          "2010-01-01T03:00:00",
          "2010-01-01T04:00:00",
          "2010-01-01T04:00:00",
          "2010-01-01T04:00:00",
          "2010-01-01T05:31:25.649182",
          "2010-01-01T05:31:25.649182",
          "2010-01-01T06:31:25.649182",
          "2010-01-01T06:31:25.649182",
          "2010-01-01T06:31:25.649182",
          "2010-01-01T05:31:25.649182",
          "2010-01-01T05:31:25.649182",
          "2010-01-01T06:31:25.649182",
          "2010-01-01T06:31:25.649182",
          "2010-01-01T06:31:25.649182",
          "2010-01-01T09:15:42.824592",
          "2010-01-01T09:15:42.824592",
          "2010-01-01T10:15:42.824592",
          "2010-01-01T10:15:42.824592",
          "2010-01-01T10:15:42.824592",
          "2010-01-01T09:15:42.824592",
          "2010-01-01T09:15:42.824592",
          "2010-01-01T10:15:42.824592",
          "2010-01-01T10:15:42.824592",
          "2010-01-01T10:15:42.824592",
          "2010-01-01T11:47:08.473774",
          "2010-01-01T11:47:08.473774",
          "2010-01-01T12:47:08.473774",
          "2010-01-01T12:47:08.473774",
          "2010-01-01T12:47:08.473774",
          "2010-01-01T11:47:08.473774",
          "2010-01-01T11:47:08.473774",
          "2010-01-01T12:47:08.473774",
          "2010-01-01T12:47:08.473774",
          "2010-01-01T12:47:08.473774",
          "2010-01-01T14:18:34.122956",
          "2010-01-01T14:18:34.122956",
          "2010-01-01T15:18:34.122956",
          "2010-01-01T15:18:34.122956",
          "2010-01-01T15:18:34.122956",
          "2010-01-01T14:18:34.122956",
          "2010-01-01T14:18:34.122956",
          "2010-01-01T15:18:34.122956",
          "2010-01-01T15:18:34.122956",
          "2010-01-01T15:18:34.122956",
          "2010-01-01T16:49:59.772139",
          "2010-01-01T16:49:59.772139",
          "2010-01-01T17:49:59.772139",
          "2010-01-01T17:49:59.772139",
          "2010-01-01T17:49:59.772139",
          "2010-01-01T16:49:59.772139",
          "2010-01-01T16:49:59.772139",
          "2010-01-01T17:49:59.772139",
          "2010-01-01T17:49:59.772139",
          "2010-01-01T17:49:59.772139",
          "2010-01-01T21:31:25.649182",
          "2010-01-01T21:31:25.649182",
          "2010-01-01T22:31:25.649182",
          "2010-01-01T22:31:25.649182",
          "2010-01-01T22:31:25.649182",
          "2010-01-01T21:31:25.649182",
          "2010-01-01T21:31:25.649182",
          "2010-01-01T22:31:25.649182",
          "2010-01-01T22:31:25.649182",
          "2010-01-01T22:31:25.649182",
          "2010-01-02T03:15:42.824591",
          "2010-01-02T03:15:42.824591",
          "2010-01-02T04:15:42.824591",
          "2010-01-02T04:15:42.824591",
          "2010-01-02T04:15:42.824591",
          "2010-01-02T03:15:42.824591",
          "2010-01-02T03:15:42.824591",
          "2010-01-02T04:15:42.824591",
          "2010-01-02T04:15:42.824591",
          "2010-01-02T04:15:42.824591",
          "2010-01-02T05:47:08.473773",
          "2010-01-02T05:47:08.473773",
          "2010-01-02T06:47:08.473773",
          "2010-01-02T06:47:08.473773",
          "2010-01-02T06:47:08.473773",
          "2010-01-02T05:47:08.473773",
          "2010-01-02T05:47:08.473773",
          "2010-01-02T06:47:08.473773",
          "2010-01-02T06:47:08.473773",
          "2010-01-02T06:47:08.473773",
          "2010-01-02T10:31:25.649183",
          "2010-01-02T10:31:25.649183",
          "2010-01-02T11:31:25.649183",
          "2010-01-02T11:31:25.649183",
          "2010-01-02T11:31:25.649183",
          "2010-01-02T10:31:25.649183",
          "2010-01-02T10:31:25.649183",
          "2010-01-02T11:31:25.649183",
          "2010-01-02T11:31:25.649183",
          "2010-01-02T11:31:25.649183",
          "2010-01-01T03:00:00",
          "2010-01-01T03:00:00",
          "2010-01-01T04:00:00",
          "2010-01-01T04:00:00",
          "2010-01-01T04:00:00",
          "2010-01-01T05:31:25.649182",
          "2010-01-01T05:31:25.649182",
          "2010-01-01T06:31:25.649182",
          "2010-01-01T06:31:25.649182",
          "2010-01-01T06:31:25.649182",
          "2010-01-01T09:15:42.824592",
          "2010-01-01T09:15:42.824592",
          "2010-01-01T10:15:42.824592",
          "2010-01-01T10:15:42.824592",
          "2010-01-01T10:15:42.824592",
          "2010-01-01T11:47:08.473774",
          "2010-01-01T11:47:08.473774",
          "2010-01-01T12:47:08.473774",
          "2010-01-01T12:47:08.473774",
          "2010-01-01T12:47:08.473774",
          "2010-01-01T14:18:34.122956",
          "2010-01-01T14:18:34.122956",
          "2010-01-01T15:18:34.122956",
          "2010-01-01T15:18:34.122956",
          "2010-01-01T15:18:34.122956",
          "2010-01-01T16:49:59.772139",
          "2010-01-01T16:49:59.772139",
          "2010-01-01T17:49:59.772139",
          "2010-01-01T17:49:59.772139",
          "2010-01-01T17:49:59.772139",
          "2010-01-01T21:31:25.649182",
          "2010-01-01T21:31:25.649182",
          "2010-01-01T22:31:25.649182",
          "2010-01-01T22:31:25.649182",
          "2010-01-01T22:31:25.649182",
          "2010-01-02T03:15:42.824591",
          "2010-01-02T03:15:42.824591",
          "2010-01-02T04:15:42.824591",
          "2010-01-02T04:15:42.824591",
          "2010-01-02T04:15:42.824591",
          "2010-01-02T05:47:08.473773",
          "2010-01-02T05:47:08.473773",
          "2010-01-02T06:47:08.473773",
          "2010-01-02T06:47:08.473773",
          "2010-01-02T06:47:08.473773",
          "2010-01-02T10:31:25.649183",
          "2010-01-02T10:31:25.649183",
          "2010-01-02T11:31:25.649183",
          "2010-01-02T11:31:25.649183",
          "2010-01-02T11:31:25.649183"
         ],
         "y": [
          "Hopper 01",
          "Hopper 01",
          "Hopper 01",
          "Hopper 01",
          null,
          "Hopper 01",
          "Hopper 01",
          "Hopper 01",
          "Hopper 01",
          null,
          "Hopper 01",
          "Hopper 01",
          "Hopper 01",
          "Hopper 01",
          null,
          "Hopper 01",
          "Hopper 01",
          "Hopper 01",
          "Hopper 01",
          null,
          "Hopper 01",
          "Hopper 01",
          "Hopper 01",
          "Hopper 01",
          null,
          "Hopper 01",
          "Hopper 01",
          "Hopper 01",
          "Hopper 01",
          null,
          "Hopper 01",
          "Hopper 01",
          "Hopper 01",
          "Hopper 01",
          null,
          "Hopper 01",
          "Hopper 01",
          "Hopper 01",
          "Hopper 01",
          null,
          "Hopper 01",
          "Hopper 01",
          "Hopper 01",
          "Hopper 01",
          null,
          "Hopper 01",
          "Hopper 01",
          "Hopper 01",
          "Hopper 01",
          null,
          "Hopper 01",
          "Hopper 01",
          "Hopper 01",
          "Hopper 01",
          null,
          "Hopper 01",
          "Hopper 01",
          "Hopper 01",
          "Hopper 01",
          null,
          "Hopper 01",
          "Hopper 01",
          "Hopper 01",
          "Hopper 01",
          null,
          "Hopper 01",
          "Hopper 01",
          "Hopper 01",
          "Hopper 01",
          null,
          "Hopper 01",
          "Hopper 01",
          "Hopper 01",
          "Hopper 01",
          null,
          "Hopper 01",
          "Hopper 01",
          "Hopper 01",
          "Hopper 01",
          null,
          "Hopper 01",
          "Hopper 01",
          "Hopper 01",
          "Hopper 01",
          null,
          "Hopper 01",
          "Hopper 01",
          "Hopper 01",
          "Hopper 01",
          null,
          "Hopper 01",
          "Hopper 01",
          "Hopper 01",
          "Hopper 01",
          null,
          "Hopper 01",
          "Hopper 01",
          "Hopper 01",
          "Hopper 01",
          null,
          "Winlocatie",
          "Winlocatie",
          "Winlocatie",
          "Winlocatie",
          null,
          "Winlocatie",
          "Winlocatie",
          "Winlocatie",
          "Winlocatie",
          null,
          "Winlocatie",
          "Winlocatie",
          "Winlocatie",
          "Winlocatie",
          null,
          "Winlocatie",
          "Winlocatie",
          "Winlocatie",
          "Winlocatie",
          null,
          "Winlocatie",
          "Winlocatie",
          "Winlocatie",
          "Winlocatie",
          null,
          "Winlocatie",
          "Winlocatie",
          "Winlocatie",
          "Winlocatie",
          null,
          "Winlocatie",
          "Winlocatie",
          "Winlocatie",
          "Winlocatie",
          null,
          "Winlocatie",
          "Winlocatie",
          "Winlocatie",
          "Winlocatie",
          null,
          "Winlocatie",
          "Winlocatie",
          "Winlocatie",
          "Winlocatie",
          null,
          "Winlocatie",
          "Winlocatie",
          "Winlocatie",
          "Winlocatie",
          null
         ]
        },
        {
         "connectgaps": false,
         "hoverinfo": "y+name",
         "line": {
          "color": "rgb(44,38,218)",
          "width": 10
         },
         "mode": "lines",
         "name": "sailing empty",
         "type": "scatter",
         "x": [
          "2010-01-01T03:00:00",
          "2010-01-01T03:00:00",
          "2010-01-01T03:00:00",
          "2010-01-01T03:00:00",
          "2010-01-01T03:00:00",
          "2010-01-01T05:15:42.824591",
          "2010-01-01T05:15:42.824591",
          "2010-01-01T05:31:25.649182",
          "2010-01-01T05:31:25.649182",
          "2010-01-01T05:31:25.649182",
          "2010-01-01T09:00:00",
          "2010-01-01T09:00:00",
          "2010-01-01T09:15:42.824592",
          "2010-01-01T09:15:42.824592",
          "2010-01-01T09:15:42.824592",
          "2010-01-01T11:31:25.649183",
          "2010-01-01T11:31:25.649183",
          "2010-01-01T11:47:08.473774",
          "2010-01-01T11:47:08.473774",
          "2010-01-01T11:47:08.473774",
          "2010-01-01T14:02:51.298365",
          "2010-01-01T14:02:51.298365",
          "2010-01-01T14:18:34.122956",
          "2010-01-01T14:18:34.122956",
          "2010-01-01T14:18:34.122956",
          "2010-01-01T16:34:16.947547",
          "2010-01-01T16:34:16.947547",
          "2010-01-01T16:49:59.772139",
          "2010-01-01T16:49:59.772139",
          "2010-01-01T16:49:59.772139",
          "2010-01-01T21:15:42.824591",
          "2010-01-01T21:15:42.824591",
          "2010-01-01T21:31:25.649182",
          "2010-01-01T21:31:25.649182",
          "2010-01-01T21:31:25.649182",
          "2010-01-02T03:00:00",
          "2010-01-02T03:00:00",
          "2010-01-02T03:15:42.824591",
          "2010-01-02T03:15:42.824591",
          "2010-01-02T03:15:42.824591",
          "2010-01-02T05:31:25.649182",
          "2010-01-02T05:31:25.649182",
          "2010-01-02T05:47:08.473773",
          "2010-01-02T05:47:08.473773",
          "2010-01-02T05:47:08.473773",
          "2010-01-02T10:15:42.824592",
          "2010-01-02T10:15:42.824592",
          "2010-01-02T10:31:25.649183",
          "2010-01-02T10:31:25.649183",
          "2010-01-02T10:31:25.649183"
         ],
         "y": [
          "Hopper 01",
          "Hopper 01",
          "Hopper 01",
          "Hopper 01",
          null,
          "Hopper 01",
          "Hopper 01",
          "Hopper 01",
          "Hopper 01",
          null,
          "Hopper 01",
          "Hopper 01",
          "Hopper 01",
          "Hopper 01",
          null,
          "Hopper 01",
          "Hopper 01",
          "Hopper 01",
          "Hopper 01",
          null,
          "Hopper 01",
          "Hopper 01",
          "Hopper 01",
          "Hopper 01",
          null,
          "Hopper 01",
          "Hopper 01",
          "Hopper 01",
          "Hopper 01",
          null,
          "Hopper 01",
          "Hopper 01",
          "Hopper 01",
          "Hopper 01",
          null,
          "Hopper 01",
          "Hopper 01",
          "Hopper 01",
          "Hopper 01",
          null,
          "Hopper 01",
          "Hopper 01",
          "Hopper 01",
          "Hopper 01",
          null,
          "Hopper 01",
          "Hopper 01",
          "Hopper 01",
          "Hopper 01",
          null
         ]
        },
        {
         "connectgaps": false,
         "hoverinfo": "y+name",
         "line": {
          "color": "rgb(108,102,26)",
          "width": 10
         },
         "mode": "lines",
         "name": "sailing filled",
         "type": "scatter",
         "x": [
          "2010-01-01T04:00:00",
          "2010-01-01T04:00:00",
          "2010-01-01T04:15:42.824591",
          "2010-01-01T04:15:42.824591",
          "2010-01-01T04:15:42.824591",
          "2010-01-01T06:31:25.649182",
          "2010-01-01T06:31:25.649182",
          "2010-01-01T06:47:08.473773",
          "2010-01-01T06:47:08.473773",
          "2010-01-01T06:47:08.473773",
          "2010-01-01T10:15:42.824592",
          "2010-01-01T10:15:42.824592",
          "2010-01-01T10:31:25.649183",
          "2010-01-01T10:31:25.649183",
          "2010-01-01T10:31:25.649183",
          "2010-01-01T12:47:08.473774",
          "2010-01-01T12:47:08.473774",
          "2010-01-01T13:02:51.298365",
          "2010-01-01T13:02:51.298365",
          "2010-01-01T13:02:51.298365",
          "2010-01-01T15:18:34.122956",
          "2010-01-01T15:18:34.122956",
          "2010-01-01T15:34:16.947547",
          "2010-01-01T15:34:16.947547",
          "2010-01-01T15:34:16.947547",
          "2010-01-01T20:00:00",
          "2010-01-01T20:00:00",
          "2010-01-01T20:15:42.824591",
          "2010-01-01T20:15:42.824591",
          "2010-01-01T20:15:42.824591",
          "2010-01-01T22:31:25.649182",
          "2010-01-01T22:31:25.649182",
          "2010-01-01T22:47:08.473773",
          "2010-01-01T22:47:08.473773",
          "2010-01-01T22:47:08.473773",
          "2010-01-02T04:15:42.824591",
          "2010-01-02T04:15:42.824591",
          "2010-01-02T04:31:25.649182",
          "2010-01-02T04:31:25.649182",
          "2010-01-02T04:31:25.649182",
          "2010-01-02T09:00:00",
          "2010-01-02T09:00:00",
          "2010-01-02T09:15:42.824592",
          "2010-01-02T09:15:42.824592",
          "2010-01-02T09:15:42.824592",
          "2010-01-02T11:31:25.649183",
          "2010-01-02T11:31:25.649183",
          "2010-01-02T11:47:08.473774",
          "2010-01-02T11:47:08.473774",
          "2010-01-02T11:47:08.473774"
         ],
         "y": [
          "Hopper 01",
          "Hopper 01",
          "Hopper 01",
          "Hopper 01",
          null,
          "Hopper 01",
          "Hopper 01",
          "Hopper 01",
          "Hopper 01",
          null,
          "Hopper 01",
          "Hopper 01",
          "Hopper 01",
          "Hopper 01",
          null,
          "Hopper 01",
          "Hopper 01",
          "Hopper 01",
          "Hopper 01",
          null,
          "Hopper 01",
          "Hopper 01",
          "Hopper 01",
          "Hopper 01",
          null,
          "Hopper 01",
          "Hopper 01",
          "Hopper 01",
          "Hopper 01",
          null,
          "Hopper 01",
          "Hopper 01",
          "Hopper 01",
          "Hopper 01",
          null,
          "Hopper 01",
          "Hopper 01",
          "Hopper 01",
          "Hopper 01",
          null,
          "Hopper 01",
          "Hopper 01",
          "Hopper 01",
          "Hopper 01",
          null,
          "Hopper 01",
          "Hopper 01",
          "Hopper 01",
          "Hopper 01",
          null
         ]
        },
        {
         "connectgaps": false,
         "hoverinfo": "y+name",
         "line": {
          "color": "rgb(172,166,90)",
          "width": 10
         },
         "mode": "lines",
         "name": "transfer default to Dumplocatie",
         "type": "scatter",
         "x": [
          "2010-01-01T04:15:42.824591",
          "2010-01-01T04:15:42.824591",
          "2010-01-01T05:15:42.824591",
          "2010-01-01T05:15:42.824591",
          "2010-01-01T05:15:42.824591",
          "2010-01-01T04:15:42.824591",
          "2010-01-01T04:15:42.824591",
          "2010-01-01T05:15:42.824591",
          "2010-01-01T05:15:42.824591",
          "2010-01-01T05:15:42.824591",
          "2010-01-01T06:47:08.473773",
          "2010-01-01T06:47:08.473773",
          "2010-01-01T07:47:08.473773",
          "2010-01-01T07:47:08.473773",
          "2010-01-01T07:47:08.473773",
          "2010-01-01T06:47:08.473773",
          "2010-01-01T06:47:08.473773",
          "2010-01-01T07:47:08.473773",
          "2010-01-01T07:47:08.473773",
          "2010-01-01T07:47:08.473773",
          "2010-01-01T10:31:25.649183",
          "2010-01-01T10:31:25.649183",
          "2010-01-01T11:31:25.649183",
          "2010-01-01T11:31:25.649183",
          "2010-01-01T11:31:25.649183",
          "2010-01-01T10:31:25.649183",
          "2010-01-01T10:31:25.649183",
          "2010-01-01T11:31:25.649183",
          "2010-01-01T11:31:25.649183",
          "2010-01-01T11:31:25.649183",
          "2010-01-01T13:02:51.298365",
          "2010-01-01T13:02:51.298365",
          "2010-01-01T14:02:51.298365",
          "2010-01-01T14:02:51.298365",
          "2010-01-01T14:02:51.298365",
          "2010-01-01T13:02:51.298365",
          "2010-01-01T13:02:51.298365",
          "2010-01-01T14:02:51.298365",
          "2010-01-01T14:02:51.298365",
          "2010-01-01T14:02:51.298365",
          "2010-01-01T15:34:16.947547",
          "2010-01-01T15:34:16.947547",
          "2010-01-01T16:34:16.947547",
          "2010-01-01T16:34:16.947547",
          "2010-01-01T16:34:16.947547",
          "2010-01-01T15:34:16.947547",
          "2010-01-01T15:34:16.947547",
          "2010-01-01T16:34:16.947547",
          "2010-01-01T16:34:16.947547",
          "2010-01-01T16:34:16.947547",
          "2010-01-01T20:15:42.824591",
          "2010-01-01T20:15:42.824591",
          "2010-01-01T21:15:42.824591",
          "2010-01-01T21:15:42.824591",
          "2010-01-01T21:15:42.824591",
          "2010-01-01T20:15:42.824591",
          "2010-01-01T20:15:42.824591",
          "2010-01-01T21:15:42.824591",
          "2010-01-01T21:15:42.824591",
          "2010-01-01T21:15:42.824591",
          "2010-01-01T22:47:08.473773",
          "2010-01-01T22:47:08.473773",
          "2010-01-01T23:47:08.473773",
          "2010-01-01T23:47:08.473773",
          "2010-01-01T23:47:08.473773",
          "2010-01-01T22:47:08.473773",
          "2010-01-01T22:47:08.473773",
          "2010-01-01T23:47:08.473773",
          "2010-01-01T23:47:08.473773",
          "2010-01-01T23:47:08.473773",
          "2010-01-02T04:31:25.649182",
          "2010-01-02T04:31:25.649182",
          "2010-01-02T05:31:25.649182",
          "2010-01-02T05:31:25.649182",
          "2010-01-02T05:31:25.649182",
          "2010-01-02T04:31:25.649182",
          "2010-01-02T04:31:25.649182",
          "2010-01-02T05:31:25.649182",
          "2010-01-02T05:31:25.649182",
          "2010-01-02T05:31:25.649182",
          "2010-01-02T09:15:42.824592",
          "2010-01-02T09:15:42.824592",
          "2010-01-02T10:15:42.824592",
          "2010-01-02T10:15:42.824592",
          "2010-01-02T10:15:42.824592",
          "2010-01-02T09:15:42.824592",
          "2010-01-02T09:15:42.824592",
          "2010-01-02T10:15:42.824592",
          "2010-01-02T10:15:42.824592",
          "2010-01-02T10:15:42.824592",
          "2010-01-02T11:47:08.473774",
          "2010-01-02T11:47:08.473774",
          "2010-01-02T12:47:08.473774",
          "2010-01-02T12:47:08.473774",
          "2010-01-02T12:47:08.473774",
          "2010-01-02T11:47:08.473774",
          "2010-01-02T11:47:08.473774",
          "2010-01-02T12:47:08.473774",
          "2010-01-02T12:47:08.473774",
          "2010-01-02T12:47:08.473774",
          "2010-01-01T04:15:42.824591",
          "2010-01-01T04:15:42.824591",
          "2010-01-01T05:15:42.824591",
          "2010-01-01T05:15:42.824591",
          "2010-01-01T05:15:42.824591",
          "2010-01-01T06:47:08.473773",
          "2010-01-01T06:47:08.473773",
          "2010-01-01T07:47:08.473773",
          "2010-01-01T07:47:08.473773",
          "2010-01-01T07:47:08.473773",
          "2010-01-01T10:31:25.649183",
          "2010-01-01T10:31:25.649183",
          "2010-01-01T11:31:25.649183",
          "2010-01-01T11:31:25.649183",
          "2010-01-01T11:31:25.649183",
          "2010-01-01T13:02:51.298365",
          "2010-01-01T13:02:51.298365",
          "2010-01-01T14:02:51.298365",
          "2010-01-01T14:02:51.298365",
          "2010-01-01T14:02:51.298365",
          "2010-01-01T15:34:16.947547",
          "2010-01-01T15:34:16.947547",
          "2010-01-01T16:34:16.947547",
          "2010-01-01T16:34:16.947547",
          "2010-01-01T16:34:16.947547",
          "2010-01-01T20:15:42.824591",
          "2010-01-01T20:15:42.824591",
          "2010-01-01T21:15:42.824591",
          "2010-01-01T21:15:42.824591",
          "2010-01-01T21:15:42.824591",
          "2010-01-01T22:47:08.473773",
          "2010-01-01T22:47:08.473773",
          "2010-01-01T23:47:08.473773",
          "2010-01-01T23:47:08.473773",
          "2010-01-01T23:47:08.473773",
          "2010-01-02T04:31:25.649182",
          "2010-01-02T04:31:25.649182",
          "2010-01-02T05:31:25.649182",
          "2010-01-02T05:31:25.649182",
          "2010-01-02T05:31:25.649182",
          "2010-01-02T09:15:42.824592",
          "2010-01-02T09:15:42.824592",
          "2010-01-02T10:15:42.824592",
          "2010-01-02T10:15:42.824592",
          "2010-01-02T10:15:42.824592",
          "2010-01-02T11:47:08.473774",
          "2010-01-02T11:47:08.473774",
          "2010-01-02T12:47:08.473774",
          "2010-01-02T12:47:08.473774",
          "2010-01-02T12:47:08.473774"
         ],
         "y": [
          "Hopper 01",
          "Hopper 01",
          "Hopper 01",
          "Hopper 01",
          null,
          "Hopper 01",
          "Hopper 01",
          "Hopper 01",
          "Hopper 01",
          null,
          "Hopper 01",
          "Hopper 01",
          "Hopper 01",
          "Hopper 01",
          null,
          "Hopper 01",
          "Hopper 01",
          "Hopper 01",
          "Hopper 01",
          null,
          "Hopper 01",
          "Hopper 01",
          "Hopper 01",
          "Hopper 01",
          null,
          "Hopper 01",
          "Hopper 01",
          "Hopper 01",
          "Hopper 01",
          null,
          "Hopper 01",
          "Hopper 01",
          "Hopper 01",
          "Hopper 01",
          null,
          "Hopper 01",
          "Hopper 01",
          "Hopper 01",
          "Hopper 01",
          null,
          "Hopper 01",
          "Hopper 01",
          "Hopper 01",
          "Hopper 01",
          null,
          "Hopper 01",
          "Hopper 01",
          "Hopper 01",
          "Hopper 01",
          null,
          "Hopper 01",
          "Hopper 01",
          "Hopper 01",
          "Hopper 01",
          null,
          "Hopper 01",
          "Hopper 01",
          "Hopper 01",
          "Hopper 01",
          null,
          "Hopper 01",
          "Hopper 01",
          "Hopper 01",
          "Hopper 01",
          null,
          "Hopper 01",
          "Hopper 01",
          "Hopper 01",
          "Hopper 01",
          null,
          "Hopper 01",
          "Hopper 01",
          "Hopper 01",
          "Hopper 01",
          null,
          "Hopper 01",
          "Hopper 01",
          "Hopper 01",
          "Hopper 01",
          null,
          "Hopper 01",
          "Hopper 01",
          "Hopper 01",
          "Hopper 01",
          null,
          "Hopper 01",
          "Hopper 01",
          "Hopper 01",
          "Hopper 01",
          null,
          "Hopper 01",
          "Hopper 01",
          "Hopper 01",
          "Hopper 01",
          null,
          "Hopper 01",
          "Hopper 01",
          "Hopper 01",
          "Hopper 01",
          null,
          "Dumplocatie",
          "Dumplocatie",
          "Dumplocatie",
          "Dumplocatie",
          null,
          "Dumplocatie",
          "Dumplocatie",
          "Dumplocatie",
          "Dumplocatie",
          null,
          "Dumplocatie",
          "Dumplocatie",
          "Dumplocatie",
          "Dumplocatie",
          null,
          "Dumplocatie",
          "Dumplocatie",
          "Dumplocatie",
          "Dumplocatie",
          null,
          "Dumplocatie",
          "Dumplocatie",
          "Dumplocatie",
          "Dumplocatie",
          null,
          "Dumplocatie",
          "Dumplocatie",
          "Dumplocatie",
          "Dumplocatie",
          null,
          "Dumplocatie",
          "Dumplocatie",
          "Dumplocatie",
          "Dumplocatie",
          null,
          "Dumplocatie",
          "Dumplocatie",
          "Dumplocatie",
          "Dumplocatie",
          null,
          "Dumplocatie",
          "Dumplocatie",
          "Dumplocatie",
          "Dumplocatie",
          null,
          "Dumplocatie",
          "Dumplocatie",
          "Dumplocatie",
          "Dumplocatie",
          null
         ]
        }
       ],
       "layout": {
        "hovermode": "closest",
        "legend": {
         "orientation": "h",
         "x": 0,
         "y": -0.2
        },
        "template": {
         "data": {
          "bar": [
           {
            "error_x": {
             "color": "#2a3f5f"
            },
            "error_y": {
             "color": "#2a3f5f"
            },
            "marker": {
             "line": {
              "color": "#E5ECF6",
              "width": 0.5
             }
            },
            "type": "bar"
           }
          ],
          "barpolar": [
           {
            "marker": {
             "line": {
              "color": "#E5ECF6",
              "width": 0.5
             }
            },
            "type": "barpolar"
           }
          ],
          "carpet": [
           {
            "aaxis": {
             "endlinecolor": "#2a3f5f",
             "gridcolor": "white",
             "linecolor": "white",
             "minorgridcolor": "white",
             "startlinecolor": "#2a3f5f"
            },
            "baxis": {
             "endlinecolor": "#2a3f5f",
             "gridcolor": "white",
             "linecolor": "white",
             "minorgridcolor": "white",
             "startlinecolor": "#2a3f5f"
            },
            "type": "carpet"
           }
          ],
          "choropleth": [
           {
            "colorbar": {
             "outlinewidth": 0,
             "ticks": ""
            },
            "type": "choropleth"
           }
          ],
          "contour": [
           {
            "colorbar": {
             "outlinewidth": 0,
             "ticks": ""
            },
            "colorscale": [
             [
              0,
              "#0d0887"
             ],
             [
              0.1111111111111111,
              "#46039f"
             ],
             [
              0.2222222222222222,
              "#7201a8"
             ],
             [
              0.3333333333333333,
              "#9c179e"
             ],
             [
              0.4444444444444444,
              "#bd3786"
             ],
             [
              0.5555555555555556,
              "#d8576b"
             ],
             [
              0.6666666666666666,
              "#ed7953"
             ],
             [
              0.7777777777777778,
              "#fb9f3a"
             ],
             [
              0.8888888888888888,
              "#fdca26"
             ],
             [
              1,
              "#f0f921"
             ]
            ],
            "type": "contour"
           }
          ],
          "contourcarpet": [
           {
            "colorbar": {
             "outlinewidth": 0,
             "ticks": ""
            },
            "type": "contourcarpet"
           }
          ],
          "heatmap": [
           {
            "colorbar": {
             "outlinewidth": 0,
             "ticks": ""
            },
            "colorscale": [
             [
              0,
              "#0d0887"
             ],
             [
              0.1111111111111111,
              "#46039f"
             ],
             [
              0.2222222222222222,
              "#7201a8"
             ],
             [
              0.3333333333333333,
              "#9c179e"
             ],
             [
              0.4444444444444444,
              "#bd3786"
             ],
             [
              0.5555555555555556,
              "#d8576b"
             ],
             [
              0.6666666666666666,
              "#ed7953"
             ],
             [
              0.7777777777777778,
              "#fb9f3a"
             ],
             [
              0.8888888888888888,
              "#fdca26"
             ],
             [
              1,
              "#f0f921"
             ]
            ],
            "type": "heatmap"
           }
          ],
          "heatmapgl": [
           {
            "colorbar": {
             "outlinewidth": 0,
             "ticks": ""
            },
            "colorscale": [
             [
              0,
              "#0d0887"
             ],
             [
              0.1111111111111111,
              "#46039f"
             ],
             [
              0.2222222222222222,
              "#7201a8"
             ],
             [
              0.3333333333333333,
              "#9c179e"
             ],
             [
              0.4444444444444444,
              "#bd3786"
             ],
             [
              0.5555555555555556,
              "#d8576b"
             ],
             [
              0.6666666666666666,
              "#ed7953"
             ],
             [
              0.7777777777777778,
              "#fb9f3a"
             ],
             [
              0.8888888888888888,
              "#fdca26"
             ],
             [
              1,
              "#f0f921"
             ]
            ],
            "type": "heatmapgl"
           }
          ],
          "histogram": [
           {
            "marker": {
             "colorbar": {
              "outlinewidth": 0,
              "ticks": ""
             }
            },
            "type": "histogram"
           }
          ],
          "histogram2d": [
           {
            "colorbar": {
             "outlinewidth": 0,
             "ticks": ""
            },
            "colorscale": [
             [
              0,
              "#0d0887"
             ],
             [
              0.1111111111111111,
              "#46039f"
             ],
             [
              0.2222222222222222,
              "#7201a8"
             ],
             [
              0.3333333333333333,
              "#9c179e"
             ],
             [
              0.4444444444444444,
              "#bd3786"
             ],
             [
              0.5555555555555556,
              "#d8576b"
             ],
             [
              0.6666666666666666,
              "#ed7953"
             ],
             [
              0.7777777777777778,
              "#fb9f3a"
             ],
             [
              0.8888888888888888,
              "#fdca26"
             ],
             [
              1,
              "#f0f921"
             ]
            ],
            "type": "histogram2d"
           }
          ],
          "histogram2dcontour": [
           {
            "colorbar": {
             "outlinewidth": 0,
             "ticks": ""
            },
            "colorscale": [
             [
              0,
              "#0d0887"
             ],
             [
              0.1111111111111111,
              "#46039f"
             ],
             [
              0.2222222222222222,
              "#7201a8"
             ],
             [
              0.3333333333333333,
              "#9c179e"
             ],
             [
              0.4444444444444444,
              "#bd3786"
             ],
             [
              0.5555555555555556,
              "#d8576b"
             ],
             [
              0.6666666666666666,
              "#ed7953"
             ],
             [
              0.7777777777777778,
              "#fb9f3a"
             ],
             [
              0.8888888888888888,
              "#fdca26"
             ],
             [
              1,
              "#f0f921"
             ]
            ],
            "type": "histogram2dcontour"
           }
          ],
          "mesh3d": [
           {
            "colorbar": {
             "outlinewidth": 0,
             "ticks": ""
            },
            "type": "mesh3d"
           }
          ],
          "parcoords": [
           {
            "line": {
             "colorbar": {
              "outlinewidth": 0,
              "ticks": ""
             }
            },
            "type": "parcoords"
           }
          ],
          "pie": [
           {
            "automargin": true,
            "type": "pie"
           }
          ],
          "scatter": [
           {
            "marker": {
             "colorbar": {
              "outlinewidth": 0,
              "ticks": ""
             }
            },
            "type": "scatter"
           }
          ],
          "scatter3d": [
           {
            "line": {
             "colorbar": {
              "outlinewidth": 0,
              "ticks": ""
             }
            },
            "marker": {
             "colorbar": {
              "outlinewidth": 0,
              "ticks": ""
             }
            },
            "type": "scatter3d"
           }
          ],
          "scattercarpet": [
           {
            "marker": {
             "colorbar": {
              "outlinewidth": 0,
              "ticks": ""
             }
            },
            "type": "scattercarpet"
           }
          ],
          "scattergeo": [
           {
            "marker": {
             "colorbar": {
              "outlinewidth": 0,
              "ticks": ""
             }
            },
            "type": "scattergeo"
           }
          ],
          "scattergl": [
           {
            "marker": {
             "colorbar": {
              "outlinewidth": 0,
              "ticks": ""
             }
            },
            "type": "scattergl"
           }
          ],
          "scattermapbox": [
           {
            "marker": {
             "colorbar": {
              "outlinewidth": 0,
              "ticks": ""
             }
            },
            "type": "scattermapbox"
           }
          ],
          "scatterpolar": [
           {
            "marker": {
             "colorbar": {
              "outlinewidth": 0,
              "ticks": ""
             }
            },
            "type": "scatterpolar"
           }
          ],
          "scatterpolargl": [
           {
            "marker": {
             "colorbar": {
              "outlinewidth": 0,
              "ticks": ""
             }
            },
            "type": "scatterpolargl"
           }
          ],
          "scatterternary": [
           {
            "marker": {
             "colorbar": {
              "outlinewidth": 0,
              "ticks": ""
             }
            },
            "type": "scatterternary"
           }
          ],
          "surface": [
           {
            "colorbar": {
             "outlinewidth": 0,
             "ticks": ""
            },
            "colorscale": [
             [
              0,
              "#0d0887"
             ],
             [
              0.1111111111111111,
              "#46039f"
             ],
             [
              0.2222222222222222,
              "#7201a8"
             ],
             [
              0.3333333333333333,
              "#9c179e"
             ],
             [
              0.4444444444444444,
              "#bd3786"
             ],
             [
              0.5555555555555556,
              "#d8576b"
             ],
             [
              0.6666666666666666,
              "#ed7953"
             ],
             [
              0.7777777777777778,
              "#fb9f3a"
             ],
             [
              0.8888888888888888,
              "#fdca26"
             ],
             [
              1,
              "#f0f921"
             ]
            ],
            "type": "surface"
           }
          ],
          "table": [
           {
            "cells": {
             "fill": {
              "color": "#EBF0F8"
             },
             "line": {
              "color": "white"
             }
            },
            "header": {
             "fill": {
              "color": "#C8D4E3"
             },
             "line": {
              "color": "white"
             }
            },
            "type": "table"
           }
          ]
         },
         "layout": {
          "annotationdefaults": {
           "arrowcolor": "#2a3f5f",
           "arrowhead": 0,
           "arrowwidth": 1
          },
          "coloraxis": {
           "colorbar": {
            "outlinewidth": 0,
            "ticks": ""
           }
          },
          "colorscale": {
           "diverging": [
            [
             0,
             "#8e0152"
            ],
            [
             0.1,
             "#c51b7d"
            ],
            [
             0.2,
             "#de77ae"
            ],
            [
             0.3,
             "#f1b6da"
            ],
            [
             0.4,
             "#fde0ef"
            ],
            [
             0.5,
             "#f7f7f7"
            ],
            [
             0.6,
             "#e6f5d0"
            ],
            [
             0.7,
             "#b8e186"
            ],
            [
             0.8,
             "#7fbc41"
            ],
            [
             0.9,
             "#4d9221"
            ],
            [
             1,
             "#276419"
            ]
           ],
           "sequential": [
            [
             0,
             "#0d0887"
            ],
            [
             0.1111111111111111,
             "#46039f"
            ],
            [
             0.2222222222222222,
             "#7201a8"
            ],
            [
             0.3333333333333333,
             "#9c179e"
            ],
            [
             0.4444444444444444,
             "#bd3786"
            ],
            [
             0.5555555555555556,
             "#d8576b"
            ],
            [
             0.6666666666666666,
             "#ed7953"
            ],
            [
             0.7777777777777778,
             "#fb9f3a"
            ],
            [
             0.8888888888888888,
             "#fdca26"
            ],
            [
             1,
             "#f0f921"
            ]
           ],
           "sequentialminus": [
            [
             0,
             "#0d0887"
            ],
            [
             0.1111111111111111,
             "#46039f"
            ],
            [
             0.2222222222222222,
             "#7201a8"
            ],
            [
             0.3333333333333333,
             "#9c179e"
            ],
            [
             0.4444444444444444,
             "#bd3786"
            ],
            [
             0.5555555555555556,
             "#d8576b"
            ],
            [
             0.6666666666666666,
             "#ed7953"
            ],
            [
             0.7777777777777778,
             "#fb9f3a"
            ],
            [
             0.8888888888888888,
             "#fdca26"
            ],
            [
             1,
             "#f0f921"
            ]
           ]
          },
          "colorway": [
           "#636efa",
           "#EF553B",
           "#00cc96",
           "#ab63fa",
           "#FFA15A",
           "#19d3f3",
           "#FF6692",
           "#B6E880",
           "#FF97FF",
           "#FECB52"
          ],
          "font": {
           "color": "#2a3f5f"
          },
          "geo": {
           "bgcolor": "white",
           "lakecolor": "white",
           "landcolor": "#E5ECF6",
           "showlakes": true,
           "showland": true,
           "subunitcolor": "white"
          },
          "hoverlabel": {
           "align": "left"
          },
          "hovermode": "closest",
          "mapbox": {
           "style": "light"
          },
          "paper_bgcolor": "white",
          "plot_bgcolor": "#E5ECF6",
          "polar": {
           "angularaxis": {
            "gridcolor": "white",
            "linecolor": "white",
            "ticks": ""
           },
           "bgcolor": "#E5ECF6",
           "radialaxis": {
            "gridcolor": "white",
            "linecolor": "white",
            "ticks": ""
           }
          },
          "scene": {
           "xaxis": {
            "backgroundcolor": "#E5ECF6",
            "gridcolor": "white",
            "gridwidth": 2,
            "linecolor": "white",
            "showbackground": true,
            "ticks": "",
            "zerolinecolor": "white"
           },
           "yaxis": {
            "backgroundcolor": "#E5ECF6",
            "gridcolor": "white",
            "gridwidth": 2,
            "linecolor": "white",
            "showbackground": true,
            "ticks": "",
            "zerolinecolor": "white"
           },
           "zaxis": {
            "backgroundcolor": "#E5ECF6",
            "gridcolor": "white",
            "gridwidth": 2,
            "linecolor": "white",
            "showbackground": true,
            "ticks": "",
            "zerolinecolor": "white"
           }
          },
          "shapedefaults": {
           "line": {
            "color": "#2a3f5f"
           }
          },
          "ternary": {
           "aaxis": {
            "gridcolor": "white",
            "linecolor": "white",
            "ticks": ""
           },
           "baxis": {
            "gridcolor": "white",
            "linecolor": "white",
            "ticks": ""
           },
           "bgcolor": "#E5ECF6",
           "caxis": {
            "gridcolor": "white",
            "linecolor": "white",
            "ticks": ""
           }
          },
          "title": {
           "x": 0.05
          },
          "xaxis": {
           "automargin": true,
           "gridcolor": "white",
           "linecolor": "white",
           "ticks": "",
           "title": {
            "standoff": 15
           },
           "zerolinecolor": "white",
           "zerolinewidth": 2
          },
          "yaxis": {
           "automargin": true,
           "gridcolor": "white",
           "linecolor": "white",
           "ticks": "",
           "title": {
            "standoff": 15
           },
           "zerolinecolor": "white",
           "zerolinewidth": 2
          }
         }
        },
        "title": {
         "text": "Vessel planning"
        },
        "xaxis": {
         "range": [
          "2010-01-01T03:00:00",
          "2010-01-02T12:47:08.473774"
         ],
         "title": {
          "font": {
           "color": "#7f7f7f",
           "family": "Courier New, monospace",
           "size": 18
          },
          "text": "Time"
         }
        },
        "yaxis": {
         "title": {
          "font": {
           "color": "#7f7f7f",
           "family": "Courier New, monospace",
           "size": 18
          },
          "text": "Vessels"
         }
        }
       }
      },
      "text/html": [
       "<div>\n",
       "        \n",
       "        \n",
       "            <div id=\"fd629592-a1c2-4308-9693-95ddee4729fe\" class=\"plotly-graph-div\" style=\"height:525px; width:100%;\"></div>\n",
       "            <script type=\"text/javascript\">\n",
       "                require([\"plotly\"], function(Plotly) {\n",
       "                    window.PLOTLYENV=window.PLOTLYENV || {};\n",
       "                    \n",
       "                if (document.getElementById(\"fd629592-a1c2-4308-9693-95ddee4729fe\")) {\n",
       "                    Plotly.newPlot(\n",
       "                        'fd629592-a1c2-4308-9693-95ddee4729fe',\n",
       "                        [{\"connectgaps\": false, \"hoverinfo\": \"y+name\", \"line\": {\"color\": \"rgb(236,230,154)\", \"width\": 10}, \"mode\": \"lines\", \"name\": \"transfer default to Hopper 01\", \"type\": \"scatter\", \"x\": [\"2010-01-01T03:00:00\", \"2010-01-01T03:00:00\", \"2010-01-01T04:00:00\", \"2010-01-01T04:00:00\", \"2010-01-01T04:00:00\", \"2010-01-01T03:00:00\", \"2010-01-01T03:00:00\", \"2010-01-01T04:00:00\", \"2010-01-01T04:00:00\", \"2010-01-01T04:00:00\", \"2010-01-01T05:31:25.649182\", \"2010-01-01T05:31:25.649182\", \"2010-01-01T06:31:25.649182\", \"2010-01-01T06:31:25.649182\", \"2010-01-01T06:31:25.649182\", \"2010-01-01T05:31:25.649182\", \"2010-01-01T05:31:25.649182\", \"2010-01-01T06:31:25.649182\", \"2010-01-01T06:31:25.649182\", \"2010-01-01T06:31:25.649182\", \"2010-01-01T09:15:42.824592\", \"2010-01-01T09:15:42.824592\", \"2010-01-01T10:15:42.824592\", \"2010-01-01T10:15:42.824592\", \"2010-01-01T10:15:42.824592\", \"2010-01-01T09:15:42.824592\", \"2010-01-01T09:15:42.824592\", \"2010-01-01T10:15:42.824592\", \"2010-01-01T10:15:42.824592\", \"2010-01-01T10:15:42.824592\", \"2010-01-01T11:47:08.473774\", \"2010-01-01T11:47:08.473774\", \"2010-01-01T12:47:08.473774\", \"2010-01-01T12:47:08.473774\", \"2010-01-01T12:47:08.473774\", \"2010-01-01T11:47:08.473774\", \"2010-01-01T11:47:08.473774\", \"2010-01-01T12:47:08.473774\", \"2010-01-01T12:47:08.473774\", \"2010-01-01T12:47:08.473774\", \"2010-01-01T14:18:34.122956\", \"2010-01-01T14:18:34.122956\", \"2010-01-01T15:18:34.122956\", \"2010-01-01T15:18:34.122956\", \"2010-01-01T15:18:34.122956\", \"2010-01-01T14:18:34.122956\", \"2010-01-01T14:18:34.122956\", \"2010-01-01T15:18:34.122956\", \"2010-01-01T15:18:34.122956\", \"2010-01-01T15:18:34.122956\", \"2010-01-01T16:49:59.772139\", \"2010-01-01T16:49:59.772139\", \"2010-01-01T17:49:59.772139\", \"2010-01-01T17:49:59.772139\", \"2010-01-01T17:49:59.772139\", \"2010-01-01T16:49:59.772139\", \"2010-01-01T16:49:59.772139\", \"2010-01-01T17:49:59.772139\", \"2010-01-01T17:49:59.772139\", \"2010-01-01T17:49:59.772139\", \"2010-01-01T21:31:25.649182\", \"2010-01-01T21:31:25.649182\", \"2010-01-01T22:31:25.649182\", \"2010-01-01T22:31:25.649182\", \"2010-01-01T22:31:25.649182\", \"2010-01-01T21:31:25.649182\", \"2010-01-01T21:31:25.649182\", \"2010-01-01T22:31:25.649182\", \"2010-01-01T22:31:25.649182\", \"2010-01-01T22:31:25.649182\", \"2010-01-02T03:15:42.824591\", \"2010-01-02T03:15:42.824591\", \"2010-01-02T04:15:42.824591\", \"2010-01-02T04:15:42.824591\", \"2010-01-02T04:15:42.824591\", \"2010-01-02T03:15:42.824591\", \"2010-01-02T03:15:42.824591\", \"2010-01-02T04:15:42.824591\", \"2010-01-02T04:15:42.824591\", \"2010-01-02T04:15:42.824591\", \"2010-01-02T05:47:08.473773\", \"2010-01-02T05:47:08.473773\", \"2010-01-02T06:47:08.473773\", \"2010-01-02T06:47:08.473773\", \"2010-01-02T06:47:08.473773\", \"2010-01-02T05:47:08.473773\", \"2010-01-02T05:47:08.473773\", \"2010-01-02T06:47:08.473773\", \"2010-01-02T06:47:08.473773\", \"2010-01-02T06:47:08.473773\", \"2010-01-02T10:31:25.649183\", \"2010-01-02T10:31:25.649183\", \"2010-01-02T11:31:25.649183\", \"2010-01-02T11:31:25.649183\", \"2010-01-02T11:31:25.649183\", \"2010-01-02T10:31:25.649183\", \"2010-01-02T10:31:25.649183\", \"2010-01-02T11:31:25.649183\", \"2010-01-02T11:31:25.649183\", \"2010-01-02T11:31:25.649183\", \"2010-01-01T03:00:00\", \"2010-01-01T03:00:00\", \"2010-01-01T04:00:00\", \"2010-01-01T04:00:00\", \"2010-01-01T04:00:00\", \"2010-01-01T05:31:25.649182\", \"2010-01-01T05:31:25.649182\", \"2010-01-01T06:31:25.649182\", \"2010-01-01T06:31:25.649182\", \"2010-01-01T06:31:25.649182\", \"2010-01-01T09:15:42.824592\", \"2010-01-01T09:15:42.824592\", \"2010-01-01T10:15:42.824592\", \"2010-01-01T10:15:42.824592\", \"2010-01-01T10:15:42.824592\", \"2010-01-01T11:47:08.473774\", \"2010-01-01T11:47:08.473774\", \"2010-01-01T12:47:08.473774\", \"2010-01-01T12:47:08.473774\", \"2010-01-01T12:47:08.473774\", \"2010-01-01T14:18:34.122956\", \"2010-01-01T14:18:34.122956\", \"2010-01-01T15:18:34.122956\", \"2010-01-01T15:18:34.122956\", \"2010-01-01T15:18:34.122956\", \"2010-01-01T16:49:59.772139\", \"2010-01-01T16:49:59.772139\", \"2010-01-01T17:49:59.772139\", \"2010-01-01T17:49:59.772139\", \"2010-01-01T17:49:59.772139\", \"2010-01-01T21:31:25.649182\", \"2010-01-01T21:31:25.649182\", \"2010-01-01T22:31:25.649182\", \"2010-01-01T22:31:25.649182\", \"2010-01-01T22:31:25.649182\", \"2010-01-02T03:15:42.824591\", \"2010-01-02T03:15:42.824591\", \"2010-01-02T04:15:42.824591\", \"2010-01-02T04:15:42.824591\", \"2010-01-02T04:15:42.824591\", \"2010-01-02T05:47:08.473773\", \"2010-01-02T05:47:08.473773\", \"2010-01-02T06:47:08.473773\", \"2010-01-02T06:47:08.473773\", \"2010-01-02T06:47:08.473773\", \"2010-01-02T10:31:25.649183\", \"2010-01-02T10:31:25.649183\", \"2010-01-02T11:31:25.649183\", \"2010-01-02T11:31:25.649183\", \"2010-01-02T11:31:25.649183\"], \"y\": [\"Hopper 01\", \"Hopper 01\", \"Hopper 01\", \"Hopper 01\", null, \"Hopper 01\", \"Hopper 01\", \"Hopper 01\", \"Hopper 01\", null, \"Hopper 01\", \"Hopper 01\", \"Hopper 01\", \"Hopper 01\", null, \"Hopper 01\", \"Hopper 01\", \"Hopper 01\", \"Hopper 01\", null, \"Hopper 01\", \"Hopper 01\", \"Hopper 01\", \"Hopper 01\", null, \"Hopper 01\", \"Hopper 01\", \"Hopper 01\", \"Hopper 01\", null, \"Hopper 01\", \"Hopper 01\", \"Hopper 01\", \"Hopper 01\", null, \"Hopper 01\", \"Hopper 01\", \"Hopper 01\", \"Hopper 01\", null, \"Hopper 01\", \"Hopper 01\", \"Hopper 01\", \"Hopper 01\", null, \"Hopper 01\", \"Hopper 01\", \"Hopper 01\", \"Hopper 01\", null, \"Hopper 01\", \"Hopper 01\", \"Hopper 01\", \"Hopper 01\", null, \"Hopper 01\", \"Hopper 01\", \"Hopper 01\", \"Hopper 01\", null, \"Hopper 01\", \"Hopper 01\", \"Hopper 01\", \"Hopper 01\", null, \"Hopper 01\", \"Hopper 01\", \"Hopper 01\", \"Hopper 01\", null, \"Hopper 01\", \"Hopper 01\", \"Hopper 01\", \"Hopper 01\", null, \"Hopper 01\", \"Hopper 01\", \"Hopper 01\", \"Hopper 01\", null, \"Hopper 01\", \"Hopper 01\", \"Hopper 01\", \"Hopper 01\", null, \"Hopper 01\", \"Hopper 01\", \"Hopper 01\", \"Hopper 01\", null, \"Hopper 01\", \"Hopper 01\", \"Hopper 01\", \"Hopper 01\", null, \"Hopper 01\", \"Hopper 01\", \"Hopper 01\", \"Hopper 01\", null, \"Winlocatie\", \"Winlocatie\", \"Winlocatie\", \"Winlocatie\", null, \"Winlocatie\", \"Winlocatie\", \"Winlocatie\", \"Winlocatie\", null, \"Winlocatie\", \"Winlocatie\", \"Winlocatie\", \"Winlocatie\", null, \"Winlocatie\", \"Winlocatie\", \"Winlocatie\", \"Winlocatie\", null, \"Winlocatie\", \"Winlocatie\", \"Winlocatie\", \"Winlocatie\", null, \"Winlocatie\", \"Winlocatie\", \"Winlocatie\", \"Winlocatie\", null, \"Winlocatie\", \"Winlocatie\", \"Winlocatie\", \"Winlocatie\", null, \"Winlocatie\", \"Winlocatie\", \"Winlocatie\", \"Winlocatie\", null, \"Winlocatie\", \"Winlocatie\", \"Winlocatie\", \"Winlocatie\", null, \"Winlocatie\", \"Winlocatie\", \"Winlocatie\", \"Winlocatie\", null]}, {\"connectgaps\": false, \"hoverinfo\": \"y+name\", \"line\": {\"color\": \"rgb(44,38,218)\", \"width\": 10}, \"mode\": \"lines\", \"name\": \"sailing empty\", \"type\": \"scatter\", \"x\": [\"2010-01-01T03:00:00\", \"2010-01-01T03:00:00\", \"2010-01-01T03:00:00\", \"2010-01-01T03:00:00\", \"2010-01-01T03:00:00\", \"2010-01-01T05:15:42.824591\", \"2010-01-01T05:15:42.824591\", \"2010-01-01T05:31:25.649182\", \"2010-01-01T05:31:25.649182\", \"2010-01-01T05:31:25.649182\", \"2010-01-01T09:00:00\", \"2010-01-01T09:00:00\", \"2010-01-01T09:15:42.824592\", \"2010-01-01T09:15:42.824592\", \"2010-01-01T09:15:42.824592\", \"2010-01-01T11:31:25.649183\", \"2010-01-01T11:31:25.649183\", \"2010-01-01T11:47:08.473774\", \"2010-01-01T11:47:08.473774\", \"2010-01-01T11:47:08.473774\", \"2010-01-01T14:02:51.298365\", \"2010-01-01T14:02:51.298365\", \"2010-01-01T14:18:34.122956\", \"2010-01-01T14:18:34.122956\", \"2010-01-01T14:18:34.122956\", \"2010-01-01T16:34:16.947547\", \"2010-01-01T16:34:16.947547\", \"2010-01-01T16:49:59.772139\", \"2010-01-01T16:49:59.772139\", \"2010-01-01T16:49:59.772139\", \"2010-01-01T21:15:42.824591\", \"2010-01-01T21:15:42.824591\", \"2010-01-01T21:31:25.649182\", \"2010-01-01T21:31:25.649182\", \"2010-01-01T21:31:25.649182\", \"2010-01-02T03:00:00\", \"2010-01-02T03:00:00\", \"2010-01-02T03:15:42.824591\", \"2010-01-02T03:15:42.824591\", \"2010-01-02T03:15:42.824591\", \"2010-01-02T05:31:25.649182\", \"2010-01-02T05:31:25.649182\", \"2010-01-02T05:47:08.473773\", \"2010-01-02T05:47:08.473773\", \"2010-01-02T05:47:08.473773\", \"2010-01-02T10:15:42.824592\", \"2010-01-02T10:15:42.824592\", \"2010-01-02T10:31:25.649183\", \"2010-01-02T10:31:25.649183\", \"2010-01-02T10:31:25.649183\"], \"y\": [\"Hopper 01\", \"Hopper 01\", \"Hopper 01\", \"Hopper 01\", null, \"Hopper 01\", \"Hopper 01\", \"Hopper 01\", \"Hopper 01\", null, \"Hopper 01\", \"Hopper 01\", \"Hopper 01\", \"Hopper 01\", null, \"Hopper 01\", \"Hopper 01\", \"Hopper 01\", \"Hopper 01\", null, \"Hopper 01\", \"Hopper 01\", \"Hopper 01\", \"Hopper 01\", null, \"Hopper 01\", \"Hopper 01\", \"Hopper 01\", \"Hopper 01\", null, \"Hopper 01\", \"Hopper 01\", \"Hopper 01\", \"Hopper 01\", null, \"Hopper 01\", \"Hopper 01\", \"Hopper 01\", \"Hopper 01\", null, \"Hopper 01\", \"Hopper 01\", \"Hopper 01\", \"Hopper 01\", null, \"Hopper 01\", \"Hopper 01\", \"Hopper 01\", \"Hopper 01\", null]}, {\"connectgaps\": false, \"hoverinfo\": \"y+name\", \"line\": {\"color\": \"rgb(108,102,26)\", \"width\": 10}, \"mode\": \"lines\", \"name\": \"sailing filled\", \"type\": \"scatter\", \"x\": [\"2010-01-01T04:00:00\", \"2010-01-01T04:00:00\", \"2010-01-01T04:15:42.824591\", \"2010-01-01T04:15:42.824591\", \"2010-01-01T04:15:42.824591\", \"2010-01-01T06:31:25.649182\", \"2010-01-01T06:31:25.649182\", \"2010-01-01T06:47:08.473773\", \"2010-01-01T06:47:08.473773\", \"2010-01-01T06:47:08.473773\", \"2010-01-01T10:15:42.824592\", \"2010-01-01T10:15:42.824592\", \"2010-01-01T10:31:25.649183\", \"2010-01-01T10:31:25.649183\", \"2010-01-01T10:31:25.649183\", \"2010-01-01T12:47:08.473774\", \"2010-01-01T12:47:08.473774\", \"2010-01-01T13:02:51.298365\", \"2010-01-01T13:02:51.298365\", \"2010-01-01T13:02:51.298365\", \"2010-01-01T15:18:34.122956\", \"2010-01-01T15:18:34.122956\", \"2010-01-01T15:34:16.947547\", \"2010-01-01T15:34:16.947547\", \"2010-01-01T15:34:16.947547\", \"2010-01-01T20:00:00\", \"2010-01-01T20:00:00\", \"2010-01-01T20:15:42.824591\", \"2010-01-01T20:15:42.824591\", \"2010-01-01T20:15:42.824591\", \"2010-01-01T22:31:25.649182\", \"2010-01-01T22:31:25.649182\", \"2010-01-01T22:47:08.473773\", \"2010-01-01T22:47:08.473773\", \"2010-01-01T22:47:08.473773\", \"2010-01-02T04:15:42.824591\", \"2010-01-02T04:15:42.824591\", \"2010-01-02T04:31:25.649182\", \"2010-01-02T04:31:25.649182\", \"2010-01-02T04:31:25.649182\", \"2010-01-02T09:00:00\", \"2010-01-02T09:00:00\", \"2010-01-02T09:15:42.824592\", \"2010-01-02T09:15:42.824592\", \"2010-01-02T09:15:42.824592\", \"2010-01-02T11:31:25.649183\", \"2010-01-02T11:31:25.649183\", \"2010-01-02T11:47:08.473774\", \"2010-01-02T11:47:08.473774\", \"2010-01-02T11:47:08.473774\"], \"y\": [\"Hopper 01\", \"Hopper 01\", \"Hopper 01\", \"Hopper 01\", null, \"Hopper 01\", \"Hopper 01\", \"Hopper 01\", \"Hopper 01\", null, \"Hopper 01\", \"Hopper 01\", \"Hopper 01\", \"Hopper 01\", null, \"Hopper 01\", \"Hopper 01\", \"Hopper 01\", \"Hopper 01\", null, \"Hopper 01\", \"Hopper 01\", \"Hopper 01\", \"Hopper 01\", null, \"Hopper 01\", \"Hopper 01\", \"Hopper 01\", \"Hopper 01\", null, \"Hopper 01\", \"Hopper 01\", \"Hopper 01\", \"Hopper 01\", null, \"Hopper 01\", \"Hopper 01\", \"Hopper 01\", \"Hopper 01\", null, \"Hopper 01\", \"Hopper 01\", \"Hopper 01\", \"Hopper 01\", null, \"Hopper 01\", \"Hopper 01\", \"Hopper 01\", \"Hopper 01\", null]}, {\"connectgaps\": false, \"hoverinfo\": \"y+name\", \"line\": {\"color\": \"rgb(172,166,90)\", \"width\": 10}, \"mode\": \"lines\", \"name\": \"transfer default to Dumplocatie\", \"type\": \"scatter\", \"x\": [\"2010-01-01T04:15:42.824591\", \"2010-01-01T04:15:42.824591\", \"2010-01-01T05:15:42.824591\", \"2010-01-01T05:15:42.824591\", \"2010-01-01T05:15:42.824591\", \"2010-01-01T04:15:42.824591\", \"2010-01-01T04:15:42.824591\", \"2010-01-01T05:15:42.824591\", \"2010-01-01T05:15:42.824591\", \"2010-01-01T05:15:42.824591\", \"2010-01-01T06:47:08.473773\", \"2010-01-01T06:47:08.473773\", \"2010-01-01T07:47:08.473773\", \"2010-01-01T07:47:08.473773\", \"2010-01-01T07:47:08.473773\", \"2010-01-01T06:47:08.473773\", \"2010-01-01T06:47:08.473773\", \"2010-01-01T07:47:08.473773\", \"2010-01-01T07:47:08.473773\", \"2010-01-01T07:47:08.473773\", \"2010-01-01T10:31:25.649183\", \"2010-01-01T10:31:25.649183\", \"2010-01-01T11:31:25.649183\", \"2010-01-01T11:31:25.649183\", \"2010-01-01T11:31:25.649183\", \"2010-01-01T10:31:25.649183\", \"2010-01-01T10:31:25.649183\", \"2010-01-01T11:31:25.649183\", \"2010-01-01T11:31:25.649183\", \"2010-01-01T11:31:25.649183\", \"2010-01-01T13:02:51.298365\", \"2010-01-01T13:02:51.298365\", \"2010-01-01T14:02:51.298365\", \"2010-01-01T14:02:51.298365\", \"2010-01-01T14:02:51.298365\", \"2010-01-01T13:02:51.298365\", \"2010-01-01T13:02:51.298365\", \"2010-01-01T14:02:51.298365\", \"2010-01-01T14:02:51.298365\", \"2010-01-01T14:02:51.298365\", \"2010-01-01T15:34:16.947547\", \"2010-01-01T15:34:16.947547\", \"2010-01-01T16:34:16.947547\", \"2010-01-01T16:34:16.947547\", \"2010-01-01T16:34:16.947547\", \"2010-01-01T15:34:16.947547\", \"2010-01-01T15:34:16.947547\", \"2010-01-01T16:34:16.947547\", \"2010-01-01T16:34:16.947547\", \"2010-01-01T16:34:16.947547\", \"2010-01-01T20:15:42.824591\", \"2010-01-01T20:15:42.824591\", \"2010-01-01T21:15:42.824591\", \"2010-01-01T21:15:42.824591\", \"2010-01-01T21:15:42.824591\", \"2010-01-01T20:15:42.824591\", \"2010-01-01T20:15:42.824591\", \"2010-01-01T21:15:42.824591\", \"2010-01-01T21:15:42.824591\", \"2010-01-01T21:15:42.824591\", \"2010-01-01T22:47:08.473773\", \"2010-01-01T22:47:08.473773\", \"2010-01-01T23:47:08.473773\", \"2010-01-01T23:47:08.473773\", \"2010-01-01T23:47:08.473773\", \"2010-01-01T22:47:08.473773\", \"2010-01-01T22:47:08.473773\", \"2010-01-01T23:47:08.473773\", \"2010-01-01T23:47:08.473773\", \"2010-01-01T23:47:08.473773\", \"2010-01-02T04:31:25.649182\", \"2010-01-02T04:31:25.649182\", \"2010-01-02T05:31:25.649182\", \"2010-01-02T05:31:25.649182\", \"2010-01-02T05:31:25.649182\", \"2010-01-02T04:31:25.649182\", \"2010-01-02T04:31:25.649182\", \"2010-01-02T05:31:25.649182\", \"2010-01-02T05:31:25.649182\", \"2010-01-02T05:31:25.649182\", \"2010-01-02T09:15:42.824592\", \"2010-01-02T09:15:42.824592\", \"2010-01-02T10:15:42.824592\", \"2010-01-02T10:15:42.824592\", \"2010-01-02T10:15:42.824592\", \"2010-01-02T09:15:42.824592\", \"2010-01-02T09:15:42.824592\", \"2010-01-02T10:15:42.824592\", \"2010-01-02T10:15:42.824592\", \"2010-01-02T10:15:42.824592\", \"2010-01-02T11:47:08.473774\", \"2010-01-02T11:47:08.473774\", \"2010-01-02T12:47:08.473774\", \"2010-01-02T12:47:08.473774\", \"2010-01-02T12:47:08.473774\", \"2010-01-02T11:47:08.473774\", \"2010-01-02T11:47:08.473774\", \"2010-01-02T12:47:08.473774\", \"2010-01-02T12:47:08.473774\", \"2010-01-02T12:47:08.473774\", \"2010-01-01T04:15:42.824591\", \"2010-01-01T04:15:42.824591\", \"2010-01-01T05:15:42.824591\", \"2010-01-01T05:15:42.824591\", \"2010-01-01T05:15:42.824591\", \"2010-01-01T06:47:08.473773\", \"2010-01-01T06:47:08.473773\", \"2010-01-01T07:47:08.473773\", \"2010-01-01T07:47:08.473773\", \"2010-01-01T07:47:08.473773\", \"2010-01-01T10:31:25.649183\", \"2010-01-01T10:31:25.649183\", \"2010-01-01T11:31:25.649183\", \"2010-01-01T11:31:25.649183\", \"2010-01-01T11:31:25.649183\", \"2010-01-01T13:02:51.298365\", \"2010-01-01T13:02:51.298365\", \"2010-01-01T14:02:51.298365\", \"2010-01-01T14:02:51.298365\", \"2010-01-01T14:02:51.298365\", \"2010-01-01T15:34:16.947547\", \"2010-01-01T15:34:16.947547\", \"2010-01-01T16:34:16.947547\", \"2010-01-01T16:34:16.947547\", \"2010-01-01T16:34:16.947547\", \"2010-01-01T20:15:42.824591\", \"2010-01-01T20:15:42.824591\", \"2010-01-01T21:15:42.824591\", \"2010-01-01T21:15:42.824591\", \"2010-01-01T21:15:42.824591\", \"2010-01-01T22:47:08.473773\", \"2010-01-01T22:47:08.473773\", \"2010-01-01T23:47:08.473773\", \"2010-01-01T23:47:08.473773\", \"2010-01-01T23:47:08.473773\", \"2010-01-02T04:31:25.649182\", \"2010-01-02T04:31:25.649182\", \"2010-01-02T05:31:25.649182\", \"2010-01-02T05:31:25.649182\", \"2010-01-02T05:31:25.649182\", \"2010-01-02T09:15:42.824592\", \"2010-01-02T09:15:42.824592\", \"2010-01-02T10:15:42.824592\", \"2010-01-02T10:15:42.824592\", \"2010-01-02T10:15:42.824592\", \"2010-01-02T11:47:08.473774\", \"2010-01-02T11:47:08.473774\", \"2010-01-02T12:47:08.473774\", \"2010-01-02T12:47:08.473774\", \"2010-01-02T12:47:08.473774\"], \"y\": [\"Hopper 01\", \"Hopper 01\", \"Hopper 01\", \"Hopper 01\", null, \"Hopper 01\", \"Hopper 01\", \"Hopper 01\", \"Hopper 01\", null, \"Hopper 01\", \"Hopper 01\", \"Hopper 01\", \"Hopper 01\", null, \"Hopper 01\", \"Hopper 01\", \"Hopper 01\", \"Hopper 01\", null, \"Hopper 01\", \"Hopper 01\", \"Hopper 01\", \"Hopper 01\", null, \"Hopper 01\", \"Hopper 01\", \"Hopper 01\", \"Hopper 01\", null, \"Hopper 01\", \"Hopper 01\", \"Hopper 01\", \"Hopper 01\", null, \"Hopper 01\", \"Hopper 01\", \"Hopper 01\", \"Hopper 01\", null, \"Hopper 01\", \"Hopper 01\", \"Hopper 01\", \"Hopper 01\", null, \"Hopper 01\", \"Hopper 01\", \"Hopper 01\", \"Hopper 01\", null, \"Hopper 01\", \"Hopper 01\", \"Hopper 01\", \"Hopper 01\", null, \"Hopper 01\", \"Hopper 01\", \"Hopper 01\", \"Hopper 01\", null, \"Hopper 01\", \"Hopper 01\", \"Hopper 01\", \"Hopper 01\", null, \"Hopper 01\", \"Hopper 01\", \"Hopper 01\", \"Hopper 01\", null, \"Hopper 01\", \"Hopper 01\", \"Hopper 01\", \"Hopper 01\", null, \"Hopper 01\", \"Hopper 01\", \"Hopper 01\", \"Hopper 01\", null, \"Hopper 01\", \"Hopper 01\", \"Hopper 01\", \"Hopper 01\", null, \"Hopper 01\", \"Hopper 01\", \"Hopper 01\", \"Hopper 01\", null, \"Hopper 01\", \"Hopper 01\", \"Hopper 01\", \"Hopper 01\", null, \"Hopper 01\", \"Hopper 01\", \"Hopper 01\", \"Hopper 01\", null, \"Dumplocatie\", \"Dumplocatie\", \"Dumplocatie\", \"Dumplocatie\", null, \"Dumplocatie\", \"Dumplocatie\", \"Dumplocatie\", \"Dumplocatie\", null, \"Dumplocatie\", \"Dumplocatie\", \"Dumplocatie\", \"Dumplocatie\", null, \"Dumplocatie\", \"Dumplocatie\", \"Dumplocatie\", \"Dumplocatie\", null, \"Dumplocatie\", \"Dumplocatie\", \"Dumplocatie\", \"Dumplocatie\", null, \"Dumplocatie\", \"Dumplocatie\", \"Dumplocatie\", \"Dumplocatie\", null, \"Dumplocatie\", \"Dumplocatie\", \"Dumplocatie\", \"Dumplocatie\", null, \"Dumplocatie\", \"Dumplocatie\", \"Dumplocatie\", \"Dumplocatie\", null, \"Dumplocatie\", \"Dumplocatie\", \"Dumplocatie\", \"Dumplocatie\", null, \"Dumplocatie\", \"Dumplocatie\", \"Dumplocatie\", \"Dumplocatie\", null]}],\n",
       "                        {\"hovermode\": \"closest\", \"legend\": {\"orientation\": \"h\", \"x\": 0, \"y\": -0.2}, \"template\": {\"data\": {\"bar\": [{\"error_x\": {\"color\": \"#2a3f5f\"}, \"error_y\": {\"color\": \"#2a3f5f\"}, \"marker\": {\"line\": {\"color\": \"#E5ECF6\", \"width\": 0.5}}, \"type\": \"bar\"}], \"barpolar\": [{\"marker\": {\"line\": {\"color\": \"#E5ECF6\", \"width\": 0.5}}, \"type\": \"barpolar\"}], \"carpet\": [{\"aaxis\": {\"endlinecolor\": \"#2a3f5f\", \"gridcolor\": \"white\", \"linecolor\": \"white\", \"minorgridcolor\": \"white\", \"startlinecolor\": \"#2a3f5f\"}, \"baxis\": {\"endlinecolor\": \"#2a3f5f\", \"gridcolor\": \"white\", \"linecolor\": \"white\", \"minorgridcolor\": \"white\", \"startlinecolor\": \"#2a3f5f\"}, \"type\": \"carpet\"}], \"choropleth\": [{\"colorbar\": {\"outlinewidth\": 0, \"ticks\": \"\"}, \"type\": \"choropleth\"}], \"contour\": [{\"colorbar\": {\"outlinewidth\": 0, \"ticks\": \"\"}, \"colorscale\": [[0.0, \"#0d0887\"], [0.1111111111111111, \"#46039f\"], [0.2222222222222222, \"#7201a8\"], [0.3333333333333333, \"#9c179e\"], [0.4444444444444444, \"#bd3786\"], [0.5555555555555556, \"#d8576b\"], [0.6666666666666666, \"#ed7953\"], [0.7777777777777778, \"#fb9f3a\"], [0.8888888888888888, \"#fdca26\"], [1.0, \"#f0f921\"]], \"type\": \"contour\"}], \"contourcarpet\": [{\"colorbar\": {\"outlinewidth\": 0, \"ticks\": \"\"}, \"type\": \"contourcarpet\"}], \"heatmap\": [{\"colorbar\": {\"outlinewidth\": 0, \"ticks\": \"\"}, \"colorscale\": [[0.0, \"#0d0887\"], [0.1111111111111111, \"#46039f\"], [0.2222222222222222, \"#7201a8\"], [0.3333333333333333, \"#9c179e\"], [0.4444444444444444, \"#bd3786\"], [0.5555555555555556, \"#d8576b\"], [0.6666666666666666, \"#ed7953\"], [0.7777777777777778, \"#fb9f3a\"], [0.8888888888888888, \"#fdca26\"], [1.0, \"#f0f921\"]], \"type\": \"heatmap\"}], \"heatmapgl\": [{\"colorbar\": {\"outlinewidth\": 0, \"ticks\": \"\"}, \"colorscale\": [[0.0, \"#0d0887\"], [0.1111111111111111, \"#46039f\"], [0.2222222222222222, \"#7201a8\"], [0.3333333333333333, \"#9c179e\"], [0.4444444444444444, \"#bd3786\"], [0.5555555555555556, \"#d8576b\"], [0.6666666666666666, \"#ed7953\"], [0.7777777777777778, \"#fb9f3a\"], [0.8888888888888888, \"#fdca26\"], [1.0, \"#f0f921\"]], \"type\": \"heatmapgl\"}], \"histogram\": [{\"marker\": {\"colorbar\": {\"outlinewidth\": 0, \"ticks\": \"\"}}, \"type\": \"histogram\"}], \"histogram2d\": [{\"colorbar\": {\"outlinewidth\": 0, \"ticks\": \"\"}, \"colorscale\": [[0.0, \"#0d0887\"], [0.1111111111111111, \"#46039f\"], [0.2222222222222222, \"#7201a8\"], [0.3333333333333333, \"#9c179e\"], [0.4444444444444444, \"#bd3786\"], [0.5555555555555556, \"#d8576b\"], [0.6666666666666666, \"#ed7953\"], [0.7777777777777778, \"#fb9f3a\"], [0.8888888888888888, \"#fdca26\"], [1.0, \"#f0f921\"]], \"type\": \"histogram2d\"}], \"histogram2dcontour\": [{\"colorbar\": {\"outlinewidth\": 0, \"ticks\": \"\"}, \"colorscale\": [[0.0, \"#0d0887\"], [0.1111111111111111, \"#46039f\"], [0.2222222222222222, \"#7201a8\"], [0.3333333333333333, \"#9c179e\"], [0.4444444444444444, \"#bd3786\"], [0.5555555555555556, \"#d8576b\"], [0.6666666666666666, \"#ed7953\"], [0.7777777777777778, \"#fb9f3a\"], [0.8888888888888888, \"#fdca26\"], [1.0, \"#f0f921\"]], \"type\": \"histogram2dcontour\"}], \"mesh3d\": [{\"colorbar\": {\"outlinewidth\": 0, \"ticks\": \"\"}, \"type\": \"mesh3d\"}], \"parcoords\": [{\"line\": {\"colorbar\": {\"outlinewidth\": 0, \"ticks\": \"\"}}, \"type\": \"parcoords\"}], \"pie\": [{\"automargin\": true, \"type\": \"pie\"}], \"scatter\": [{\"marker\": {\"colorbar\": {\"outlinewidth\": 0, \"ticks\": \"\"}}, \"type\": \"scatter\"}], \"scatter3d\": [{\"line\": {\"colorbar\": {\"outlinewidth\": 0, \"ticks\": \"\"}}, \"marker\": {\"colorbar\": {\"outlinewidth\": 0, \"ticks\": \"\"}}, \"type\": \"scatter3d\"}], \"scattercarpet\": [{\"marker\": {\"colorbar\": {\"outlinewidth\": 0, \"ticks\": \"\"}}, \"type\": \"scattercarpet\"}], \"scattergeo\": [{\"marker\": {\"colorbar\": {\"outlinewidth\": 0, \"ticks\": \"\"}}, \"type\": \"scattergeo\"}], \"scattergl\": [{\"marker\": {\"colorbar\": {\"outlinewidth\": 0, \"ticks\": \"\"}}, \"type\": \"scattergl\"}], \"scattermapbox\": [{\"marker\": {\"colorbar\": {\"outlinewidth\": 0, \"ticks\": \"\"}}, \"type\": \"scattermapbox\"}], \"scatterpolar\": [{\"marker\": {\"colorbar\": {\"outlinewidth\": 0, \"ticks\": \"\"}}, \"type\": \"scatterpolar\"}], \"scatterpolargl\": [{\"marker\": {\"colorbar\": {\"outlinewidth\": 0, \"ticks\": \"\"}}, \"type\": \"scatterpolargl\"}], \"scatterternary\": [{\"marker\": {\"colorbar\": {\"outlinewidth\": 0, \"ticks\": \"\"}}, \"type\": \"scatterternary\"}], \"surface\": [{\"colorbar\": {\"outlinewidth\": 0, \"ticks\": \"\"}, \"colorscale\": [[0.0, \"#0d0887\"], [0.1111111111111111, \"#46039f\"], [0.2222222222222222, \"#7201a8\"], [0.3333333333333333, \"#9c179e\"], [0.4444444444444444, \"#bd3786\"], [0.5555555555555556, \"#d8576b\"], [0.6666666666666666, \"#ed7953\"], [0.7777777777777778, \"#fb9f3a\"], [0.8888888888888888, \"#fdca26\"], [1.0, \"#f0f921\"]], \"type\": \"surface\"}], \"table\": [{\"cells\": {\"fill\": {\"color\": \"#EBF0F8\"}, \"line\": {\"color\": \"white\"}}, \"header\": {\"fill\": {\"color\": \"#C8D4E3\"}, \"line\": {\"color\": \"white\"}}, \"type\": \"table\"}]}, \"layout\": {\"annotationdefaults\": {\"arrowcolor\": \"#2a3f5f\", \"arrowhead\": 0, \"arrowwidth\": 1}, \"coloraxis\": {\"colorbar\": {\"outlinewidth\": 0, \"ticks\": \"\"}}, \"colorscale\": {\"diverging\": [[0, \"#8e0152\"], [0.1, \"#c51b7d\"], [0.2, \"#de77ae\"], [0.3, \"#f1b6da\"], [0.4, \"#fde0ef\"], [0.5, \"#f7f7f7\"], [0.6, \"#e6f5d0\"], [0.7, \"#b8e186\"], [0.8, \"#7fbc41\"], [0.9, \"#4d9221\"], [1, \"#276419\"]], \"sequential\": [[0.0, \"#0d0887\"], [0.1111111111111111, \"#46039f\"], [0.2222222222222222, \"#7201a8\"], [0.3333333333333333, \"#9c179e\"], [0.4444444444444444, \"#bd3786\"], [0.5555555555555556, \"#d8576b\"], [0.6666666666666666, \"#ed7953\"], [0.7777777777777778, \"#fb9f3a\"], [0.8888888888888888, \"#fdca26\"], [1.0, \"#f0f921\"]], \"sequentialminus\": [[0.0, \"#0d0887\"], [0.1111111111111111, \"#46039f\"], [0.2222222222222222, \"#7201a8\"], [0.3333333333333333, \"#9c179e\"], [0.4444444444444444, \"#bd3786\"], [0.5555555555555556, \"#d8576b\"], [0.6666666666666666, \"#ed7953\"], [0.7777777777777778, \"#fb9f3a\"], [0.8888888888888888, \"#fdca26\"], [1.0, \"#f0f921\"]]}, \"colorway\": [\"#636efa\", \"#EF553B\", \"#00cc96\", \"#ab63fa\", \"#FFA15A\", \"#19d3f3\", \"#FF6692\", \"#B6E880\", \"#FF97FF\", \"#FECB52\"], \"font\": {\"color\": \"#2a3f5f\"}, \"geo\": {\"bgcolor\": \"white\", \"lakecolor\": \"white\", \"landcolor\": \"#E5ECF6\", \"showlakes\": true, \"showland\": true, \"subunitcolor\": \"white\"}, \"hoverlabel\": {\"align\": \"left\"}, \"hovermode\": \"closest\", \"mapbox\": {\"style\": \"light\"}, \"paper_bgcolor\": \"white\", \"plot_bgcolor\": \"#E5ECF6\", \"polar\": {\"angularaxis\": {\"gridcolor\": \"white\", \"linecolor\": \"white\", \"ticks\": \"\"}, \"bgcolor\": \"#E5ECF6\", \"radialaxis\": {\"gridcolor\": \"white\", \"linecolor\": \"white\", \"ticks\": \"\"}}, \"scene\": {\"xaxis\": {\"backgroundcolor\": \"#E5ECF6\", \"gridcolor\": \"white\", \"gridwidth\": 2, \"linecolor\": \"white\", \"showbackground\": true, \"ticks\": \"\", \"zerolinecolor\": \"white\"}, \"yaxis\": {\"backgroundcolor\": \"#E5ECF6\", \"gridcolor\": \"white\", \"gridwidth\": 2, \"linecolor\": \"white\", \"showbackground\": true, \"ticks\": \"\", \"zerolinecolor\": \"white\"}, \"zaxis\": {\"backgroundcolor\": \"#E5ECF6\", \"gridcolor\": \"white\", \"gridwidth\": 2, \"linecolor\": \"white\", \"showbackground\": true, \"ticks\": \"\", \"zerolinecolor\": \"white\"}}, \"shapedefaults\": {\"line\": {\"color\": \"#2a3f5f\"}}, \"ternary\": {\"aaxis\": {\"gridcolor\": \"white\", \"linecolor\": \"white\", \"ticks\": \"\"}, \"baxis\": {\"gridcolor\": \"white\", \"linecolor\": \"white\", \"ticks\": \"\"}, \"bgcolor\": \"#E5ECF6\", \"caxis\": {\"gridcolor\": \"white\", \"linecolor\": \"white\", \"ticks\": \"\"}}, \"title\": {\"x\": 0.05}, \"xaxis\": {\"automargin\": true, \"gridcolor\": \"white\", \"linecolor\": \"white\", \"ticks\": \"\", \"title\": {\"standoff\": 15}, \"zerolinecolor\": \"white\", \"zerolinewidth\": 2}, \"yaxis\": {\"automargin\": true, \"gridcolor\": \"white\", \"linecolor\": \"white\", \"ticks\": \"\", \"title\": {\"standoff\": 15}, \"zerolinecolor\": \"white\", \"zerolinewidth\": 2}}}, \"title\": {\"text\": \"Vessel planning\"}, \"xaxis\": {\"range\": [\"2010-01-01T03:00:00\", \"2010-01-02T12:47:08.473774\"], \"title\": {\"font\": {\"color\": \"#7f7f7f\", \"family\": \"Courier New, monospace\", \"size\": 18}, \"text\": \"Time\"}}, \"yaxis\": {\"title\": {\"font\": {\"color\": \"#7f7f7f\", \"family\": \"Courier New, monospace\", \"size\": 18}, \"text\": \"Vessels\"}}},\n",
       "                        {\"responsive\": true}\n",
       "                    ).then(function(){\n",
       "                            \n",
       "var gd = document.getElementById('fd629592-a1c2-4308-9693-95ddee4729fe');\n",
       "var x = new MutationObserver(function (mutations, observer) {{\n",
       "        var display = window.getComputedStyle(gd).display;\n",
       "        if (!display || display === 'none') {{\n",
       "            console.log([gd, 'removed!']);\n",
       "            Plotly.purge(gd);\n",
       "            observer.disconnect();\n",
       "        }}\n",
       "}});\n",
       "\n",
       "// Listen for the removal of the full notebook cells\n",
       "var notebookContainer = gd.closest('#notebook-container');\n",
       "if (notebookContainer) {{\n",
       "    x.observe(notebookContainer, {childList: true});\n",
       "}}\n",
       "\n",
       "// Listen for the clearing of the current output cell\n",
       "var outputEl = gd.closest('.output');\n",
       "if (outputEl) {{\n",
       "    x.observe(outputEl, {childList: true});\n",
       "}}\n",
       "\n",
       "                        })\n",
       "                };\n",
       "                });\n",
       "            </script>\n",
       "        </div>"
      ]
     },
     "metadata": {},
     "output_type": "display_data"
    },
    {
     "data": {
      "application/vnd.plotly.v1+json": {
       "config": {
        "plotlyServerURL": "https://plot.ly"
       },
       "data": [
        {
         "hoverlabel": {
          "namelength": 0
         },
         "hovertemplate": "DateTime=%{x}<br>Hs [m]=%{y}",
         "legendgroup": "",
         "line": {
          "color": "#636efa",
          "dash": "solid"
         },
         "mode": "lines",
         "name": "",
         "showlegend": false,
         "type": "scatter",
         "x": [
          "2010-01-01T00:00:00",
          "2010-01-01T01:00:00",
          "2010-01-01T02:00:00",
          "2010-01-01T03:00:00",
          "2010-01-01T04:00:00",
          "2010-01-01T05:00:00",
          "2010-01-01T06:00:00",
          "2010-01-01T07:00:00",
          "2010-01-01T08:00:00",
          "2010-01-01T09:00:00",
          "2010-01-01T10:00:00",
          "2010-01-01T11:00:00",
          "2010-01-01T12:00:00",
          "2010-01-01T13:00:00",
          "2010-01-01T14:00:00",
          "2010-01-01T15:00:00",
          "2010-01-01T16:00:00",
          "2010-01-01T17:00:00",
          "2010-01-01T18:00:00",
          "2010-01-01T19:00:00",
          "2010-01-01T20:00:00",
          "2010-01-01T21:00:00",
          "2010-01-01T22:00:00",
          "2010-01-01T23:00:00",
          "2010-01-02T00:00:00",
          "2010-01-02T01:00:00",
          "2010-01-02T02:00:00",
          "2010-01-02T03:00:00",
          "2010-01-02T04:00:00",
          "2010-01-02T05:00:00",
          "2010-01-02T06:00:00",
          "2010-01-02T07:00:00",
          "2010-01-02T08:00:00",
          "2010-01-02T09:00:00",
          "2010-01-02T10:00:00",
          "2010-01-02T11:00:00",
          "2010-01-02T12:00:00",
          "2010-01-02T13:00:00",
          "2010-01-02T14:00:00",
          "2010-01-02T15:00:00",
          "2010-01-02T16:00:00",
          "2010-01-02T17:00:00",
          "2010-01-02T18:00:00",
          "2010-01-02T19:00:00",
          "2010-01-02T20:00:00",
          "2010-01-02T21:00:00",
          "2010-01-02T22:00:00",
          "2010-01-02T23:00:00",
          "2010-01-03T00:00:00",
          "2010-01-03T01:00:00",
          "2010-01-03T02:00:00",
          "2010-01-03T03:00:00",
          "2010-01-03T04:00:00",
          "2010-01-03T05:00:00",
          "2010-01-03T06:00:00",
          "2010-01-03T07:00:00",
          "2010-01-03T08:00:00",
          "2010-01-03T09:00:00",
          "2010-01-03T10:00:00",
          "2010-01-03T11:00:00",
          "2010-01-03T12:00:00",
          "2010-01-03T13:00:00",
          "2010-01-03T14:00:00",
          "2010-01-03T15:00:00",
          "2010-01-03T16:00:00",
          "2010-01-03T17:00:00",
          "2010-01-03T18:00:00",
          "2010-01-03T19:00:00",
          "2010-01-03T20:00:00",
          "2010-01-03T21:00:00",
          "2010-01-03T22:00:00",
          "2010-01-03T23:00:00",
          "2010-01-04T00:00:00",
          "2010-01-04T01:00:00",
          "2010-01-04T02:00:00",
          "2010-01-04T03:00:00",
          "2010-01-04T04:00:00",
          "2010-01-04T05:00:00",
          "2010-01-04T06:00:00",
          "2010-01-04T07:00:00",
          "2010-01-04T08:00:00",
          "2010-01-04T09:00:00",
          "2010-01-04T10:00:00",
          "2010-01-04T11:00:00",
          "2010-01-04T12:00:00",
          "2010-01-04T13:00:00",
          "2010-01-04T14:00:00",
          "2010-01-04T15:00:00",
          "2010-01-04T16:00:00",
          "2010-01-04T17:00:00",
          "2010-01-04T18:00:00",
          "2010-01-04T19:00:00",
          "2010-01-04T20:00:00",
          "2010-01-04T21:00:00",
          "2010-01-04T22:00:00",
          "2010-01-04T23:00:00",
          "2010-01-05T00:00:00",
          "2010-01-05T01:00:00",
          "2010-01-05T02:00:00",
          "2010-01-05T03:00:00",
          "2010-01-05T04:00:00",
          "2010-01-05T05:00:00",
          "2010-01-05T06:00:00",
          "2010-01-05T07:00:00",
          "2010-01-05T08:00:00",
          "2010-01-05T09:00:00",
          "2010-01-05T10:00:00",
          "2010-01-05T11:00:00",
          "2010-01-05T12:00:00",
          "2010-01-05T13:00:00",
          "2010-01-05T14:00:00",
          "2010-01-05T15:00:00",
          "2010-01-05T16:00:00",
          "2010-01-05T17:00:00",
          "2010-01-05T18:00:00",
          "2010-01-05T19:00:00",
          "2010-01-05T20:00:00",
          "2010-01-05T21:00:00",
          "2010-01-05T22:00:00",
          "2010-01-05T23:00:00",
          "2010-01-06T00:00:00",
          "2010-01-06T01:00:00",
          "2010-01-06T02:00:00",
          "2010-01-06T03:00:00",
          "2010-01-06T04:00:00",
          "2010-01-06T05:00:00",
          "2010-01-06T06:00:00",
          "2010-01-06T07:00:00",
          "2010-01-06T08:00:00",
          "2010-01-06T09:00:00",
          "2010-01-06T10:00:00",
          "2010-01-06T11:00:00",
          "2010-01-06T12:00:00",
          "2010-01-06T13:00:00",
          "2010-01-06T14:00:00",
          "2010-01-06T15:00:00",
          "2010-01-06T16:00:00",
          "2010-01-06T17:00:00",
          "2010-01-06T18:00:00",
          "2010-01-06T19:00:00",
          "2010-01-06T20:00:00",
          "2010-01-06T21:00:00",
          "2010-01-06T22:00:00",
          "2010-01-06T23:00:00",
          "2010-01-07T00:00:00",
          "2010-01-07T01:00:00",
          "2010-01-07T02:00:00",
          "2010-01-07T03:00:00",
          "2010-01-07T04:00:00",
          "2010-01-07T05:00:00",
          "2010-01-07T06:00:00",
          "2010-01-07T07:00:00",
          "2010-01-07T08:00:00",
          "2010-01-07T09:00:00",
          "2010-01-07T10:00:00",
          "2010-01-07T11:00:00",
          "2010-01-07T12:00:00",
          "2010-01-07T13:00:00",
          "2010-01-07T14:00:00",
          "2010-01-07T15:00:00",
          "2010-01-07T16:00:00",
          "2010-01-07T17:00:00",
          "2010-01-07T18:00:00",
          "2010-01-07T19:00:00",
          "2010-01-07T20:00:00",
          "2010-01-07T21:00:00",
          "2010-01-07T22:00:00",
          "2010-01-07T23:00:00",
          "2010-01-08T00:00:00",
          "2010-01-08T01:00:00",
          "2010-01-08T02:00:00",
          "2010-01-08T03:00:00",
          "2010-01-08T04:00:00",
          "2010-01-08T05:00:00",
          "2010-01-08T06:00:00",
          "2010-01-08T07:00:00",
          "2010-01-08T08:00:00",
          "2010-01-08T09:00:00",
          "2010-01-08T10:00:00",
          "2010-01-08T11:00:00",
          "2010-01-08T12:00:00",
          "2010-01-08T13:00:00",
          "2010-01-08T14:00:00",
          "2010-01-08T15:00:00",
          "2010-01-08T16:00:00",
          "2010-01-08T17:00:00",
          "2010-01-08T18:00:00",
          "2010-01-08T19:00:00",
          "2010-01-08T20:00:00",
          "2010-01-08T21:00:00",
          "2010-01-08T22:00:00",
          "2010-01-08T23:00:00"
         ],
         "xaxis": "x",
         "y": [
          4,
          6.359698277456479,
          6.799038105676658,
          5.060660171779821,
          2.700961894323342,
          1.6403017225435208,
          2.4999999999999996,
          4.238377933896837,
          5.299038105676659,
          5.060660171779822,
          4.200961894323342,
          3.761622066103164,
          3.9999999999999996,
          4.238377933896834,
          3.799038105676658,
          2.939339828220178,
          2.7009618943233424,
          3.761622066103164,
          5.499999999999999,
          6.359698277456479,
          5.299038105676659,
          2.9393398282201795,
          1.2009618943233438,
          1.640301722543519,
          4,
          6.359698277456479,
          6.799038105676658,
          5.060660171779821,
          2.700961894323342,
          1.6403017225435208,
          2.4999999999999996,
          4.238377933896837,
          5.299038105676659,
          5.060660171779822,
          4.200961894323342,
          3.761622066103164,
          3.9999999999999996,
          4.238377933896834,
          3.799038105676658,
          2.939339828220178,
          2.7009618943233424,
          3.761622066103164,
          5.499999999999999,
          6.359698277456479,
          5.299038105676659,
          2.9393398282201795,
          1.2009618943233438,
          1.640301722543519,
          4,
          6.359698277456479,
          6.799038105676658,
          5.060660171779821,
          2.700961894323342,
          1.6403017225435208,
          2.4999999999999996,
          4.238377933896837,
          5.299038105676659,
          5.060660171779822,
          4.200961894323342,
          3.761622066103164,
          3.9999999999999996,
          4.238377933896834,
          3.799038105676658,
          2.939339828220178,
          2.7009618943233424,
          3.761622066103164,
          5.499999999999999,
          6.359698277456479,
          5.299038105676659,
          2.9393398282201795,
          1.2009618943233438,
          1.640301722543519,
          4,
          6.359698277456479,
          6.799038105676658,
          5.060660171779821,
          2.700961894323342,
          1.6403017225435208,
          2.4999999999999996,
          4.238377933896837,
          5.299038105676659,
          5.060660171779822,
          4.200961894323342,
          3.761622066103164,
          3.9999999999999996,
          4.238377933896834,
          3.799038105676658,
          2.939339828220178,
          2.7009618943233424,
          3.761622066103164,
          5.499999999999999,
          6.359698277456479,
          5.299038105676659,
          2.9393398282201795,
          1.2009618943233438,
          1.640301722543519,
          4,
          6.359698277456479,
          6.799038105676658,
          5.060660171779821,
          2.700961894323342,
          1.6403017225435208,
          2.4999999999999996,
          4.238377933896837,
          5.299038105676659,
          5.060660171779822,
          4.200961894323342,
          3.761622066103164,
          3.9999999999999996,
          4.238377933896834,
          3.799038105676658,
          2.939339828220178,
          2.7009618943233424,
          3.761622066103164,
          5.499999999999999,
          6.359698277456479,
          5.299038105676659,
          2.9393398282201795,
          1.2009618943233438,
          1.640301722543519,
          4,
          6.359698277456479,
          6.799038105676658,
          5.060660171779821,
          2.700961894323342,
          1.6403017225435208,
          2.4999999999999996,
          4.238377933896837,
          5.299038105676659,
          5.060660171779822,
          4.200961894323342,
          3.761622066103164,
          3.9999999999999996,
          4.238377933896834,
          3.799038105676658,
          2.939339828220178,
          2.7009618943233424,
          3.761622066103164,
          5.499999999999999,
          6.359698277456479,
          5.299038105676659,
          2.9393398282201795,
          1.2009618943233438,
          1.640301722543519,
          4,
          6.359698277456479,
          6.799038105676658,
          5.060660171779821,
          2.700961894323342,
          1.6403017225435208,
          2.4999999999999996,
          4.238377933896837,
          5.299038105676659,
          5.060660171779822,
          4.200961894323342,
          3.761622066103164,
          3.9999999999999996,
          4.238377933896834,
          3.799038105676658,
          2.939339828220178,
          2.7009618943233424,
          3.761622066103164,
          5.499999999999999,
          6.359698277456479,
          5.299038105676659,
          2.9393398282201795,
          1.2009618943233438,
          1.640301722543519,
          4,
          6.359698277456479,
          6.799038105676658,
          5.060660171779821,
          2.700961894323342,
          1.6403017225435208,
          2.4999999999999996,
          4.238377933896837,
          5.299038105676659,
          5.060660171779822,
          4.200961894323342,
          3.761622066103164,
          3.9999999999999996,
          4.238377933896834,
          3.799038105676658,
          2.939339828220178,
          2.7009618943233424,
          3.761622066103164,
          5.499999999999999,
          6.359698277456479,
          5.299038105676659,
          2.9393398282201795,
          1.2009618943233438,
          1.640301722543519
         ],
         "yaxis": "y"
        }
       ],
       "layout": {
        "legend": {
         "tracegroupgap": 0
        },
        "template": {
         "data": {
          "bar": [
           {
            "error_x": {
             "color": "#2a3f5f"
            },
            "error_y": {
             "color": "#2a3f5f"
            },
            "marker": {
             "line": {
              "color": "#E5ECF6",
              "width": 0.5
             }
            },
            "type": "bar"
           }
          ],
          "barpolar": [
           {
            "marker": {
             "line": {
              "color": "#E5ECF6",
              "width": 0.5
             }
            },
            "type": "barpolar"
           }
          ],
          "carpet": [
           {
            "aaxis": {
             "endlinecolor": "#2a3f5f",
             "gridcolor": "white",
             "linecolor": "white",
             "minorgridcolor": "white",
             "startlinecolor": "#2a3f5f"
            },
            "baxis": {
             "endlinecolor": "#2a3f5f",
             "gridcolor": "white",
             "linecolor": "white",
             "minorgridcolor": "white",
             "startlinecolor": "#2a3f5f"
            },
            "type": "carpet"
           }
          ],
          "choropleth": [
           {
            "colorbar": {
             "outlinewidth": 0,
             "ticks": ""
            },
            "type": "choropleth"
           }
          ],
          "contour": [
           {
            "colorbar": {
             "outlinewidth": 0,
             "ticks": ""
            },
            "colorscale": [
             [
              0,
              "#0d0887"
             ],
             [
              0.1111111111111111,
              "#46039f"
             ],
             [
              0.2222222222222222,
              "#7201a8"
             ],
             [
              0.3333333333333333,
              "#9c179e"
             ],
             [
              0.4444444444444444,
              "#bd3786"
             ],
             [
              0.5555555555555556,
              "#d8576b"
             ],
             [
              0.6666666666666666,
              "#ed7953"
             ],
             [
              0.7777777777777778,
              "#fb9f3a"
             ],
             [
              0.8888888888888888,
              "#fdca26"
             ],
             [
              1,
              "#f0f921"
             ]
            ],
            "type": "contour"
           }
          ],
          "contourcarpet": [
           {
            "colorbar": {
             "outlinewidth": 0,
             "ticks": ""
            },
            "type": "contourcarpet"
           }
          ],
          "heatmap": [
           {
            "colorbar": {
             "outlinewidth": 0,
             "ticks": ""
            },
            "colorscale": [
             [
              0,
              "#0d0887"
             ],
             [
              0.1111111111111111,
              "#46039f"
             ],
             [
              0.2222222222222222,
              "#7201a8"
             ],
             [
              0.3333333333333333,
              "#9c179e"
             ],
             [
              0.4444444444444444,
              "#bd3786"
             ],
             [
              0.5555555555555556,
              "#d8576b"
             ],
             [
              0.6666666666666666,
              "#ed7953"
             ],
             [
              0.7777777777777778,
              "#fb9f3a"
             ],
             [
              0.8888888888888888,
              "#fdca26"
             ],
             [
              1,
              "#f0f921"
             ]
            ],
            "type": "heatmap"
           }
          ],
          "heatmapgl": [
           {
            "colorbar": {
             "outlinewidth": 0,
             "ticks": ""
            },
            "colorscale": [
             [
              0,
              "#0d0887"
             ],
             [
              0.1111111111111111,
              "#46039f"
             ],
             [
              0.2222222222222222,
              "#7201a8"
             ],
             [
              0.3333333333333333,
              "#9c179e"
             ],
             [
              0.4444444444444444,
              "#bd3786"
             ],
             [
              0.5555555555555556,
              "#d8576b"
             ],
             [
              0.6666666666666666,
              "#ed7953"
             ],
             [
              0.7777777777777778,
              "#fb9f3a"
             ],
             [
              0.8888888888888888,
              "#fdca26"
             ],
             [
              1,
              "#f0f921"
             ]
            ],
            "type": "heatmapgl"
           }
          ],
          "histogram": [
           {
            "marker": {
             "colorbar": {
              "outlinewidth": 0,
              "ticks": ""
             }
            },
            "type": "histogram"
           }
          ],
          "histogram2d": [
           {
            "colorbar": {
             "outlinewidth": 0,
             "ticks": ""
            },
            "colorscale": [
             [
              0,
              "#0d0887"
             ],
             [
              0.1111111111111111,
              "#46039f"
             ],
             [
              0.2222222222222222,
              "#7201a8"
             ],
             [
              0.3333333333333333,
              "#9c179e"
             ],
             [
              0.4444444444444444,
              "#bd3786"
             ],
             [
              0.5555555555555556,
              "#d8576b"
             ],
             [
              0.6666666666666666,
              "#ed7953"
             ],
             [
              0.7777777777777778,
              "#fb9f3a"
             ],
             [
              0.8888888888888888,
              "#fdca26"
             ],
             [
              1,
              "#f0f921"
             ]
            ],
            "type": "histogram2d"
           }
          ],
          "histogram2dcontour": [
           {
            "colorbar": {
             "outlinewidth": 0,
             "ticks": ""
            },
            "colorscale": [
             [
              0,
              "#0d0887"
             ],
             [
              0.1111111111111111,
              "#46039f"
             ],
             [
              0.2222222222222222,
              "#7201a8"
             ],
             [
              0.3333333333333333,
              "#9c179e"
             ],
             [
              0.4444444444444444,
              "#bd3786"
             ],
             [
              0.5555555555555556,
              "#d8576b"
             ],
             [
              0.6666666666666666,
              "#ed7953"
             ],
             [
              0.7777777777777778,
              "#fb9f3a"
             ],
             [
              0.8888888888888888,
              "#fdca26"
             ],
             [
              1,
              "#f0f921"
             ]
            ],
            "type": "histogram2dcontour"
           }
          ],
          "mesh3d": [
           {
            "colorbar": {
             "outlinewidth": 0,
             "ticks": ""
            },
            "type": "mesh3d"
           }
          ],
          "parcoords": [
           {
            "line": {
             "colorbar": {
              "outlinewidth": 0,
              "ticks": ""
             }
            },
            "type": "parcoords"
           }
          ],
          "pie": [
           {
            "automargin": true,
            "type": "pie"
           }
          ],
          "scatter": [
           {
            "marker": {
             "colorbar": {
              "outlinewidth": 0,
              "ticks": ""
             }
            },
            "type": "scatter"
           }
          ],
          "scatter3d": [
           {
            "line": {
             "colorbar": {
              "outlinewidth": 0,
              "ticks": ""
             }
            },
            "marker": {
             "colorbar": {
              "outlinewidth": 0,
              "ticks": ""
             }
            },
            "type": "scatter3d"
           }
          ],
          "scattercarpet": [
           {
            "marker": {
             "colorbar": {
              "outlinewidth": 0,
              "ticks": ""
             }
            },
            "type": "scattercarpet"
           }
          ],
          "scattergeo": [
           {
            "marker": {
             "colorbar": {
              "outlinewidth": 0,
              "ticks": ""
             }
            },
            "type": "scattergeo"
           }
          ],
          "scattergl": [
           {
            "marker": {
             "colorbar": {
              "outlinewidth": 0,
              "ticks": ""
             }
            },
            "type": "scattergl"
           }
          ],
          "scattermapbox": [
           {
            "marker": {
             "colorbar": {
              "outlinewidth": 0,
              "ticks": ""
             }
            },
            "type": "scattermapbox"
           }
          ],
          "scatterpolar": [
           {
            "marker": {
             "colorbar": {
              "outlinewidth": 0,
              "ticks": ""
             }
            },
            "type": "scatterpolar"
           }
          ],
          "scatterpolargl": [
           {
            "marker": {
             "colorbar": {
              "outlinewidth": 0,
              "ticks": ""
             }
            },
            "type": "scatterpolargl"
           }
          ],
          "scatterternary": [
           {
            "marker": {
             "colorbar": {
              "outlinewidth": 0,
              "ticks": ""
             }
            },
            "type": "scatterternary"
           }
          ],
          "surface": [
           {
            "colorbar": {
             "outlinewidth": 0,
             "ticks": ""
            },
            "colorscale": [
             [
              0,
              "#0d0887"
             ],
             [
              0.1111111111111111,
              "#46039f"
             ],
             [
              0.2222222222222222,
              "#7201a8"
             ],
             [
              0.3333333333333333,
              "#9c179e"
             ],
             [
              0.4444444444444444,
              "#bd3786"
             ],
             [
              0.5555555555555556,
              "#d8576b"
             ],
             [
              0.6666666666666666,
              "#ed7953"
             ],
             [
              0.7777777777777778,
              "#fb9f3a"
             ],
             [
              0.8888888888888888,
              "#fdca26"
             ],
             [
              1,
              "#f0f921"
             ]
            ],
            "type": "surface"
           }
          ],
          "table": [
           {
            "cells": {
             "fill": {
              "color": "#EBF0F8"
             },
             "line": {
              "color": "white"
             }
            },
            "header": {
             "fill": {
              "color": "#C8D4E3"
             },
             "line": {
              "color": "white"
             }
            },
            "type": "table"
           }
          ]
         },
         "layout": {
          "annotationdefaults": {
           "arrowcolor": "#2a3f5f",
           "arrowhead": 0,
           "arrowwidth": 1
          },
          "coloraxis": {
           "colorbar": {
            "outlinewidth": 0,
            "ticks": ""
           }
          },
          "colorscale": {
           "diverging": [
            [
             0,
             "#8e0152"
            ],
            [
             0.1,
             "#c51b7d"
            ],
            [
             0.2,
             "#de77ae"
            ],
            [
             0.3,
             "#f1b6da"
            ],
            [
             0.4,
             "#fde0ef"
            ],
            [
             0.5,
             "#f7f7f7"
            ],
            [
             0.6,
             "#e6f5d0"
            ],
            [
             0.7,
             "#b8e186"
            ],
            [
             0.8,
             "#7fbc41"
            ],
            [
             0.9,
             "#4d9221"
            ],
            [
             1,
             "#276419"
            ]
           ],
           "sequential": [
            [
             0,
             "#0d0887"
            ],
            [
             0.1111111111111111,
             "#46039f"
            ],
            [
             0.2222222222222222,
             "#7201a8"
            ],
            [
             0.3333333333333333,
             "#9c179e"
            ],
            [
             0.4444444444444444,
             "#bd3786"
            ],
            [
             0.5555555555555556,
             "#d8576b"
            ],
            [
             0.6666666666666666,
             "#ed7953"
            ],
            [
             0.7777777777777778,
             "#fb9f3a"
            ],
            [
             0.8888888888888888,
             "#fdca26"
            ],
            [
             1,
             "#f0f921"
            ]
           ],
           "sequentialminus": [
            [
             0,
             "#0d0887"
            ],
            [
             0.1111111111111111,
             "#46039f"
            ],
            [
             0.2222222222222222,
             "#7201a8"
            ],
            [
             0.3333333333333333,
             "#9c179e"
            ],
            [
             0.4444444444444444,
             "#bd3786"
            ],
            [
             0.5555555555555556,
             "#d8576b"
            ],
            [
             0.6666666666666666,
             "#ed7953"
            ],
            [
             0.7777777777777778,
             "#fb9f3a"
            ],
            [
             0.8888888888888888,
             "#fdca26"
            ],
            [
             1,
             "#f0f921"
            ]
           ]
          },
          "colorway": [
           "#636efa",
           "#EF553B",
           "#00cc96",
           "#ab63fa",
           "#FFA15A",
           "#19d3f3",
           "#FF6692",
           "#B6E880",
           "#FF97FF",
           "#FECB52"
          ],
          "font": {
           "color": "#2a3f5f"
          },
          "geo": {
           "bgcolor": "white",
           "lakecolor": "white",
           "landcolor": "#E5ECF6",
           "showlakes": true,
           "showland": true,
           "subunitcolor": "white"
          },
          "hoverlabel": {
           "align": "left"
          },
          "hovermode": "closest",
          "mapbox": {
           "style": "light"
          },
          "paper_bgcolor": "white",
          "plot_bgcolor": "#E5ECF6",
          "polar": {
           "angularaxis": {
            "gridcolor": "white",
            "linecolor": "white",
            "ticks": ""
           },
           "bgcolor": "#E5ECF6",
           "radialaxis": {
            "gridcolor": "white",
            "linecolor": "white",
            "ticks": ""
           }
          },
          "scene": {
           "xaxis": {
            "backgroundcolor": "#E5ECF6",
            "gridcolor": "white",
            "gridwidth": 2,
            "linecolor": "white",
            "showbackground": true,
            "ticks": "",
            "zerolinecolor": "white"
           },
           "yaxis": {
            "backgroundcolor": "#E5ECF6",
            "gridcolor": "white",
            "gridwidth": 2,
            "linecolor": "white",
            "showbackground": true,
            "ticks": "",
            "zerolinecolor": "white"
           },
           "zaxis": {
            "backgroundcolor": "#E5ECF6",
            "gridcolor": "white",
            "gridwidth": 2,
            "linecolor": "white",
            "showbackground": true,
            "ticks": "",
            "zerolinecolor": "white"
           }
          },
          "shapedefaults": {
           "line": {
            "color": "#2a3f5f"
           }
          },
          "ternary": {
           "aaxis": {
            "gridcolor": "white",
            "linecolor": "white",
            "ticks": ""
           },
           "baxis": {
            "gridcolor": "white",
            "linecolor": "white",
            "ticks": ""
           },
           "bgcolor": "#E5ECF6",
           "caxis": {
            "gridcolor": "white",
            "linecolor": "white",
            "ticks": ""
           }
          },
          "title": {
           "x": 0.05
          },
          "xaxis": {
           "automargin": true,
           "gridcolor": "white",
           "linecolor": "white",
           "ticks": "",
           "title": {
            "standoff": 15
           },
           "zerolinecolor": "white",
           "zerolinewidth": 2
          },
          "yaxis": {
           "automargin": true,
           "gridcolor": "white",
           "linecolor": "white",
           "ticks": "",
           "title": {
            "standoff": 15
           },
           "zerolinecolor": "white",
           "zerolinewidth": 2
          }
         }
        },
        "title": {
         "text": "Life expectancy in Canada"
        },
        "xaxis": {
         "anchor": "y",
         "domain": [
          0,
          1
         ],
         "title": {
          "text": "DateTime"
         }
        },
        "yaxis": {
         "anchor": "x",
         "domain": [
          0,
          1
         ],
         "title": {
          "text": "Hs [m]"
         }
        }
       }
      },
      "text/html": [
       "<div>\n",
       "        \n",
       "        \n",
       "            <div id=\"4823a32f-20c4-41b4-b158-c2fbc3cb31d6\" class=\"plotly-graph-div\" style=\"height:525px; width:100%;\"></div>\n",
       "            <script type=\"text/javascript\">\n",
       "                require([\"plotly\"], function(Plotly) {\n",
       "                    window.PLOTLYENV=window.PLOTLYENV || {};\n",
       "                    \n",
       "                if (document.getElementById(\"4823a32f-20c4-41b4-b158-c2fbc3cb31d6\")) {\n",
       "                    Plotly.newPlot(\n",
       "                        '4823a32f-20c4-41b4-b158-c2fbc3cb31d6',\n",
       "                        [{\"hoverlabel\": {\"namelength\": 0}, \"hovertemplate\": \"DateTime=%{x}<br>Hs [m]=%{y}\", \"legendgroup\": \"\", \"line\": {\"color\": \"#636efa\", \"dash\": \"solid\"}, \"mode\": \"lines\", \"name\": \"\", \"showlegend\": false, \"type\": \"scatter\", \"x\": [\"2010-01-01T00:00:00\", \"2010-01-01T01:00:00\", \"2010-01-01T02:00:00\", \"2010-01-01T03:00:00\", \"2010-01-01T04:00:00\", \"2010-01-01T05:00:00\", \"2010-01-01T06:00:00\", \"2010-01-01T07:00:00\", \"2010-01-01T08:00:00\", \"2010-01-01T09:00:00\", \"2010-01-01T10:00:00\", \"2010-01-01T11:00:00\", \"2010-01-01T12:00:00\", \"2010-01-01T13:00:00\", \"2010-01-01T14:00:00\", \"2010-01-01T15:00:00\", \"2010-01-01T16:00:00\", \"2010-01-01T17:00:00\", \"2010-01-01T18:00:00\", \"2010-01-01T19:00:00\", \"2010-01-01T20:00:00\", \"2010-01-01T21:00:00\", \"2010-01-01T22:00:00\", \"2010-01-01T23:00:00\", \"2010-01-02T00:00:00\", \"2010-01-02T01:00:00\", \"2010-01-02T02:00:00\", \"2010-01-02T03:00:00\", \"2010-01-02T04:00:00\", \"2010-01-02T05:00:00\", \"2010-01-02T06:00:00\", \"2010-01-02T07:00:00\", \"2010-01-02T08:00:00\", \"2010-01-02T09:00:00\", \"2010-01-02T10:00:00\", \"2010-01-02T11:00:00\", \"2010-01-02T12:00:00\", \"2010-01-02T13:00:00\", \"2010-01-02T14:00:00\", \"2010-01-02T15:00:00\", \"2010-01-02T16:00:00\", \"2010-01-02T17:00:00\", \"2010-01-02T18:00:00\", \"2010-01-02T19:00:00\", \"2010-01-02T20:00:00\", \"2010-01-02T21:00:00\", \"2010-01-02T22:00:00\", \"2010-01-02T23:00:00\", \"2010-01-03T00:00:00\", \"2010-01-03T01:00:00\", \"2010-01-03T02:00:00\", \"2010-01-03T03:00:00\", \"2010-01-03T04:00:00\", \"2010-01-03T05:00:00\", \"2010-01-03T06:00:00\", \"2010-01-03T07:00:00\", \"2010-01-03T08:00:00\", \"2010-01-03T09:00:00\", \"2010-01-03T10:00:00\", \"2010-01-03T11:00:00\", \"2010-01-03T12:00:00\", \"2010-01-03T13:00:00\", \"2010-01-03T14:00:00\", \"2010-01-03T15:00:00\", \"2010-01-03T16:00:00\", \"2010-01-03T17:00:00\", \"2010-01-03T18:00:00\", \"2010-01-03T19:00:00\", \"2010-01-03T20:00:00\", \"2010-01-03T21:00:00\", \"2010-01-03T22:00:00\", \"2010-01-03T23:00:00\", \"2010-01-04T00:00:00\", \"2010-01-04T01:00:00\", \"2010-01-04T02:00:00\", \"2010-01-04T03:00:00\", \"2010-01-04T04:00:00\", \"2010-01-04T05:00:00\", \"2010-01-04T06:00:00\", \"2010-01-04T07:00:00\", \"2010-01-04T08:00:00\", \"2010-01-04T09:00:00\", \"2010-01-04T10:00:00\", \"2010-01-04T11:00:00\", \"2010-01-04T12:00:00\", \"2010-01-04T13:00:00\", \"2010-01-04T14:00:00\", \"2010-01-04T15:00:00\", \"2010-01-04T16:00:00\", \"2010-01-04T17:00:00\", \"2010-01-04T18:00:00\", \"2010-01-04T19:00:00\", \"2010-01-04T20:00:00\", \"2010-01-04T21:00:00\", \"2010-01-04T22:00:00\", \"2010-01-04T23:00:00\", \"2010-01-05T00:00:00\", \"2010-01-05T01:00:00\", \"2010-01-05T02:00:00\", \"2010-01-05T03:00:00\", \"2010-01-05T04:00:00\", \"2010-01-05T05:00:00\", \"2010-01-05T06:00:00\", \"2010-01-05T07:00:00\", \"2010-01-05T08:00:00\", \"2010-01-05T09:00:00\", \"2010-01-05T10:00:00\", \"2010-01-05T11:00:00\", \"2010-01-05T12:00:00\", \"2010-01-05T13:00:00\", \"2010-01-05T14:00:00\", \"2010-01-05T15:00:00\", \"2010-01-05T16:00:00\", \"2010-01-05T17:00:00\", \"2010-01-05T18:00:00\", \"2010-01-05T19:00:00\", \"2010-01-05T20:00:00\", \"2010-01-05T21:00:00\", \"2010-01-05T22:00:00\", \"2010-01-05T23:00:00\", \"2010-01-06T00:00:00\", \"2010-01-06T01:00:00\", \"2010-01-06T02:00:00\", \"2010-01-06T03:00:00\", \"2010-01-06T04:00:00\", \"2010-01-06T05:00:00\", \"2010-01-06T06:00:00\", \"2010-01-06T07:00:00\", \"2010-01-06T08:00:00\", \"2010-01-06T09:00:00\", \"2010-01-06T10:00:00\", \"2010-01-06T11:00:00\", \"2010-01-06T12:00:00\", \"2010-01-06T13:00:00\", \"2010-01-06T14:00:00\", \"2010-01-06T15:00:00\", \"2010-01-06T16:00:00\", \"2010-01-06T17:00:00\", \"2010-01-06T18:00:00\", \"2010-01-06T19:00:00\", \"2010-01-06T20:00:00\", \"2010-01-06T21:00:00\", \"2010-01-06T22:00:00\", \"2010-01-06T23:00:00\", \"2010-01-07T00:00:00\", \"2010-01-07T01:00:00\", \"2010-01-07T02:00:00\", \"2010-01-07T03:00:00\", \"2010-01-07T04:00:00\", \"2010-01-07T05:00:00\", \"2010-01-07T06:00:00\", \"2010-01-07T07:00:00\", \"2010-01-07T08:00:00\", \"2010-01-07T09:00:00\", \"2010-01-07T10:00:00\", \"2010-01-07T11:00:00\", \"2010-01-07T12:00:00\", \"2010-01-07T13:00:00\", \"2010-01-07T14:00:00\", \"2010-01-07T15:00:00\", \"2010-01-07T16:00:00\", \"2010-01-07T17:00:00\", \"2010-01-07T18:00:00\", \"2010-01-07T19:00:00\", \"2010-01-07T20:00:00\", \"2010-01-07T21:00:00\", \"2010-01-07T22:00:00\", \"2010-01-07T23:00:00\", \"2010-01-08T00:00:00\", \"2010-01-08T01:00:00\", \"2010-01-08T02:00:00\", \"2010-01-08T03:00:00\", \"2010-01-08T04:00:00\", \"2010-01-08T05:00:00\", \"2010-01-08T06:00:00\", \"2010-01-08T07:00:00\", \"2010-01-08T08:00:00\", \"2010-01-08T09:00:00\", \"2010-01-08T10:00:00\", \"2010-01-08T11:00:00\", \"2010-01-08T12:00:00\", \"2010-01-08T13:00:00\", \"2010-01-08T14:00:00\", \"2010-01-08T15:00:00\", \"2010-01-08T16:00:00\", \"2010-01-08T17:00:00\", \"2010-01-08T18:00:00\", \"2010-01-08T19:00:00\", \"2010-01-08T20:00:00\", \"2010-01-08T21:00:00\", \"2010-01-08T22:00:00\", \"2010-01-08T23:00:00\"], \"xaxis\": \"x\", \"y\": [4.0, 6.359698277456479, 6.799038105676658, 5.060660171779821, 2.700961894323342, 1.6403017225435208, 2.4999999999999996, 4.238377933896837, 5.299038105676659, 5.060660171779822, 4.200961894323342, 3.761622066103164, 3.9999999999999996, 4.238377933896834, 3.799038105676658, 2.939339828220178, 2.7009618943233424, 3.761622066103164, 5.499999999999999, 6.359698277456479, 5.299038105676659, 2.9393398282201795, 1.2009618943233438, 1.640301722543519, 4.0, 6.359698277456479, 6.799038105676658, 5.060660171779821, 2.700961894323342, 1.6403017225435208, 2.4999999999999996, 4.238377933896837, 5.299038105676659, 5.060660171779822, 4.200961894323342, 3.761622066103164, 3.9999999999999996, 4.238377933896834, 3.799038105676658, 2.939339828220178, 2.7009618943233424, 3.761622066103164, 5.499999999999999, 6.359698277456479, 5.299038105676659, 2.9393398282201795, 1.2009618943233438, 1.640301722543519, 4.0, 6.359698277456479, 6.799038105676658, 5.060660171779821, 2.700961894323342, 1.6403017225435208, 2.4999999999999996, 4.238377933896837, 5.299038105676659, 5.060660171779822, 4.200961894323342, 3.761622066103164, 3.9999999999999996, 4.238377933896834, 3.799038105676658, 2.939339828220178, 2.7009618943233424, 3.761622066103164, 5.499999999999999, 6.359698277456479, 5.299038105676659, 2.9393398282201795, 1.2009618943233438, 1.640301722543519, 4.0, 6.359698277456479, 6.799038105676658, 5.060660171779821, 2.700961894323342, 1.6403017225435208, 2.4999999999999996, 4.238377933896837, 5.299038105676659, 5.060660171779822, 4.200961894323342, 3.761622066103164, 3.9999999999999996, 4.238377933896834, 3.799038105676658, 2.939339828220178, 2.7009618943233424, 3.761622066103164, 5.499999999999999, 6.359698277456479, 5.299038105676659, 2.9393398282201795, 1.2009618943233438, 1.640301722543519, 4.0, 6.359698277456479, 6.799038105676658, 5.060660171779821, 2.700961894323342, 1.6403017225435208, 2.4999999999999996, 4.238377933896837, 5.299038105676659, 5.060660171779822, 4.200961894323342, 3.761622066103164, 3.9999999999999996, 4.238377933896834, 3.799038105676658, 2.939339828220178, 2.7009618943233424, 3.761622066103164, 5.499999999999999, 6.359698277456479, 5.299038105676659, 2.9393398282201795, 1.2009618943233438, 1.640301722543519, 4.0, 6.359698277456479, 6.799038105676658, 5.060660171779821, 2.700961894323342, 1.6403017225435208, 2.4999999999999996, 4.238377933896837, 5.299038105676659, 5.060660171779822, 4.200961894323342, 3.761622066103164, 3.9999999999999996, 4.238377933896834, 3.799038105676658, 2.939339828220178, 2.7009618943233424, 3.761622066103164, 5.499999999999999, 6.359698277456479, 5.299038105676659, 2.9393398282201795, 1.2009618943233438, 1.640301722543519, 4.0, 6.359698277456479, 6.799038105676658, 5.060660171779821, 2.700961894323342, 1.6403017225435208, 2.4999999999999996, 4.238377933896837, 5.299038105676659, 5.060660171779822, 4.200961894323342, 3.761622066103164, 3.9999999999999996, 4.238377933896834, 3.799038105676658, 2.939339828220178, 2.7009618943233424, 3.761622066103164, 5.499999999999999, 6.359698277456479, 5.299038105676659, 2.9393398282201795, 1.2009618943233438, 1.640301722543519, 4.0, 6.359698277456479, 6.799038105676658, 5.060660171779821, 2.700961894323342, 1.6403017225435208, 2.4999999999999996, 4.238377933896837, 5.299038105676659, 5.060660171779822, 4.200961894323342, 3.761622066103164, 3.9999999999999996, 4.238377933896834, 3.799038105676658, 2.939339828220178, 2.7009618943233424, 3.761622066103164, 5.499999999999999, 6.359698277456479, 5.299038105676659, 2.9393398282201795, 1.2009618943233438, 1.640301722543519], \"yaxis\": \"y\"}],\n",
       "                        {\"legend\": {\"tracegroupgap\": 0}, \"template\": {\"data\": {\"bar\": [{\"error_x\": {\"color\": \"#2a3f5f\"}, \"error_y\": {\"color\": \"#2a3f5f\"}, \"marker\": {\"line\": {\"color\": \"#E5ECF6\", \"width\": 0.5}}, \"type\": \"bar\"}], \"barpolar\": [{\"marker\": {\"line\": {\"color\": \"#E5ECF6\", \"width\": 0.5}}, \"type\": \"barpolar\"}], \"carpet\": [{\"aaxis\": {\"endlinecolor\": \"#2a3f5f\", \"gridcolor\": \"white\", \"linecolor\": \"white\", \"minorgridcolor\": \"white\", \"startlinecolor\": \"#2a3f5f\"}, \"baxis\": {\"endlinecolor\": \"#2a3f5f\", \"gridcolor\": \"white\", \"linecolor\": \"white\", \"minorgridcolor\": \"white\", \"startlinecolor\": \"#2a3f5f\"}, \"type\": \"carpet\"}], \"choropleth\": [{\"colorbar\": {\"outlinewidth\": 0, \"ticks\": \"\"}, \"type\": \"choropleth\"}], \"contour\": [{\"colorbar\": {\"outlinewidth\": 0, \"ticks\": \"\"}, \"colorscale\": [[0.0, \"#0d0887\"], [0.1111111111111111, \"#46039f\"], [0.2222222222222222, \"#7201a8\"], [0.3333333333333333, \"#9c179e\"], [0.4444444444444444, \"#bd3786\"], [0.5555555555555556, \"#d8576b\"], [0.6666666666666666, \"#ed7953\"], [0.7777777777777778, \"#fb9f3a\"], [0.8888888888888888, \"#fdca26\"], [1.0, \"#f0f921\"]], \"type\": \"contour\"}], \"contourcarpet\": [{\"colorbar\": {\"outlinewidth\": 0, \"ticks\": \"\"}, \"type\": \"contourcarpet\"}], \"heatmap\": [{\"colorbar\": {\"outlinewidth\": 0, \"ticks\": \"\"}, \"colorscale\": [[0.0, \"#0d0887\"], [0.1111111111111111, \"#46039f\"], [0.2222222222222222, \"#7201a8\"], [0.3333333333333333, \"#9c179e\"], [0.4444444444444444, \"#bd3786\"], [0.5555555555555556, \"#d8576b\"], [0.6666666666666666, \"#ed7953\"], [0.7777777777777778, \"#fb9f3a\"], [0.8888888888888888, \"#fdca26\"], [1.0, \"#f0f921\"]], \"type\": \"heatmap\"}], \"heatmapgl\": [{\"colorbar\": {\"outlinewidth\": 0, \"ticks\": \"\"}, \"colorscale\": [[0.0, \"#0d0887\"], [0.1111111111111111, \"#46039f\"], [0.2222222222222222, \"#7201a8\"], [0.3333333333333333, \"#9c179e\"], [0.4444444444444444, \"#bd3786\"], [0.5555555555555556, \"#d8576b\"], [0.6666666666666666, \"#ed7953\"], [0.7777777777777778, \"#fb9f3a\"], [0.8888888888888888, \"#fdca26\"], [1.0, \"#f0f921\"]], \"type\": \"heatmapgl\"}], \"histogram\": [{\"marker\": {\"colorbar\": {\"outlinewidth\": 0, \"ticks\": \"\"}}, \"type\": \"histogram\"}], \"histogram2d\": [{\"colorbar\": {\"outlinewidth\": 0, \"ticks\": \"\"}, \"colorscale\": [[0.0, \"#0d0887\"], [0.1111111111111111, \"#46039f\"], [0.2222222222222222, \"#7201a8\"], [0.3333333333333333, \"#9c179e\"], [0.4444444444444444, \"#bd3786\"], [0.5555555555555556, \"#d8576b\"], [0.6666666666666666, \"#ed7953\"], [0.7777777777777778, \"#fb9f3a\"], [0.8888888888888888, \"#fdca26\"], [1.0, \"#f0f921\"]], \"type\": \"histogram2d\"}], \"histogram2dcontour\": [{\"colorbar\": {\"outlinewidth\": 0, \"ticks\": \"\"}, \"colorscale\": [[0.0, \"#0d0887\"], [0.1111111111111111, \"#46039f\"], [0.2222222222222222, \"#7201a8\"], [0.3333333333333333, \"#9c179e\"], [0.4444444444444444, \"#bd3786\"], [0.5555555555555556, \"#d8576b\"], [0.6666666666666666, \"#ed7953\"], [0.7777777777777778, \"#fb9f3a\"], [0.8888888888888888, \"#fdca26\"], [1.0, \"#f0f921\"]], \"type\": \"histogram2dcontour\"}], \"mesh3d\": [{\"colorbar\": {\"outlinewidth\": 0, \"ticks\": \"\"}, \"type\": \"mesh3d\"}], \"parcoords\": [{\"line\": {\"colorbar\": {\"outlinewidth\": 0, \"ticks\": \"\"}}, \"type\": \"parcoords\"}], \"pie\": [{\"automargin\": true, \"type\": \"pie\"}], \"scatter\": [{\"marker\": {\"colorbar\": {\"outlinewidth\": 0, \"ticks\": \"\"}}, \"type\": \"scatter\"}], \"scatter3d\": [{\"line\": {\"colorbar\": {\"outlinewidth\": 0, \"ticks\": \"\"}}, \"marker\": {\"colorbar\": {\"outlinewidth\": 0, \"ticks\": \"\"}}, \"type\": \"scatter3d\"}], \"scattercarpet\": [{\"marker\": {\"colorbar\": {\"outlinewidth\": 0, \"ticks\": \"\"}}, \"type\": \"scattercarpet\"}], \"scattergeo\": [{\"marker\": {\"colorbar\": {\"outlinewidth\": 0, \"ticks\": \"\"}}, \"type\": \"scattergeo\"}], \"scattergl\": [{\"marker\": {\"colorbar\": {\"outlinewidth\": 0, \"ticks\": \"\"}}, \"type\": \"scattergl\"}], \"scattermapbox\": [{\"marker\": {\"colorbar\": {\"outlinewidth\": 0, \"ticks\": \"\"}}, \"type\": \"scattermapbox\"}], \"scatterpolar\": [{\"marker\": {\"colorbar\": {\"outlinewidth\": 0, \"ticks\": \"\"}}, \"type\": \"scatterpolar\"}], \"scatterpolargl\": [{\"marker\": {\"colorbar\": {\"outlinewidth\": 0, \"ticks\": \"\"}}, \"type\": \"scatterpolargl\"}], \"scatterternary\": [{\"marker\": {\"colorbar\": {\"outlinewidth\": 0, \"ticks\": \"\"}}, \"type\": \"scatterternary\"}], \"surface\": [{\"colorbar\": {\"outlinewidth\": 0, \"ticks\": \"\"}, \"colorscale\": [[0.0, \"#0d0887\"], [0.1111111111111111, \"#46039f\"], [0.2222222222222222, \"#7201a8\"], [0.3333333333333333, \"#9c179e\"], [0.4444444444444444, \"#bd3786\"], [0.5555555555555556, \"#d8576b\"], [0.6666666666666666, \"#ed7953\"], [0.7777777777777778, \"#fb9f3a\"], [0.8888888888888888, \"#fdca26\"], [1.0, \"#f0f921\"]], \"type\": \"surface\"}], \"table\": [{\"cells\": {\"fill\": {\"color\": \"#EBF0F8\"}, \"line\": {\"color\": \"white\"}}, \"header\": {\"fill\": {\"color\": \"#C8D4E3\"}, \"line\": {\"color\": \"white\"}}, \"type\": \"table\"}]}, \"layout\": {\"annotationdefaults\": {\"arrowcolor\": \"#2a3f5f\", \"arrowhead\": 0, \"arrowwidth\": 1}, \"coloraxis\": {\"colorbar\": {\"outlinewidth\": 0, \"ticks\": \"\"}}, \"colorscale\": {\"diverging\": [[0, \"#8e0152\"], [0.1, \"#c51b7d\"], [0.2, \"#de77ae\"], [0.3, \"#f1b6da\"], [0.4, \"#fde0ef\"], [0.5, \"#f7f7f7\"], [0.6, \"#e6f5d0\"], [0.7, \"#b8e186\"], [0.8, \"#7fbc41\"], [0.9, \"#4d9221\"], [1, \"#276419\"]], \"sequential\": [[0.0, \"#0d0887\"], [0.1111111111111111, \"#46039f\"], [0.2222222222222222, \"#7201a8\"], [0.3333333333333333, \"#9c179e\"], [0.4444444444444444, \"#bd3786\"], [0.5555555555555556, \"#d8576b\"], [0.6666666666666666, \"#ed7953\"], [0.7777777777777778, \"#fb9f3a\"], [0.8888888888888888, \"#fdca26\"], [1.0, \"#f0f921\"]], \"sequentialminus\": [[0.0, \"#0d0887\"], [0.1111111111111111, \"#46039f\"], [0.2222222222222222, \"#7201a8\"], [0.3333333333333333, \"#9c179e\"], [0.4444444444444444, \"#bd3786\"], [0.5555555555555556, \"#d8576b\"], [0.6666666666666666, \"#ed7953\"], [0.7777777777777778, \"#fb9f3a\"], [0.8888888888888888, \"#fdca26\"], [1.0, \"#f0f921\"]]}, \"colorway\": [\"#636efa\", \"#EF553B\", \"#00cc96\", \"#ab63fa\", \"#FFA15A\", \"#19d3f3\", \"#FF6692\", \"#B6E880\", \"#FF97FF\", \"#FECB52\"], \"font\": {\"color\": \"#2a3f5f\"}, \"geo\": {\"bgcolor\": \"white\", \"lakecolor\": \"white\", \"landcolor\": \"#E5ECF6\", \"showlakes\": true, \"showland\": true, \"subunitcolor\": \"white\"}, \"hoverlabel\": {\"align\": \"left\"}, \"hovermode\": \"closest\", \"mapbox\": {\"style\": \"light\"}, \"paper_bgcolor\": \"white\", \"plot_bgcolor\": \"#E5ECF6\", \"polar\": {\"angularaxis\": {\"gridcolor\": \"white\", \"linecolor\": \"white\", \"ticks\": \"\"}, \"bgcolor\": \"#E5ECF6\", \"radialaxis\": {\"gridcolor\": \"white\", \"linecolor\": \"white\", \"ticks\": \"\"}}, \"scene\": {\"xaxis\": {\"backgroundcolor\": \"#E5ECF6\", \"gridcolor\": \"white\", \"gridwidth\": 2, \"linecolor\": \"white\", \"showbackground\": true, \"ticks\": \"\", \"zerolinecolor\": \"white\"}, \"yaxis\": {\"backgroundcolor\": \"#E5ECF6\", \"gridcolor\": \"white\", \"gridwidth\": 2, \"linecolor\": \"white\", \"showbackground\": true, \"ticks\": \"\", \"zerolinecolor\": \"white\"}, \"zaxis\": {\"backgroundcolor\": \"#E5ECF6\", \"gridcolor\": \"white\", \"gridwidth\": 2, \"linecolor\": \"white\", \"showbackground\": true, \"ticks\": \"\", \"zerolinecolor\": \"white\"}}, \"shapedefaults\": {\"line\": {\"color\": \"#2a3f5f\"}}, \"ternary\": {\"aaxis\": {\"gridcolor\": \"white\", \"linecolor\": \"white\", \"ticks\": \"\"}, \"baxis\": {\"gridcolor\": \"white\", \"linecolor\": \"white\", \"ticks\": \"\"}, \"bgcolor\": \"#E5ECF6\", \"caxis\": {\"gridcolor\": \"white\", \"linecolor\": \"white\", \"ticks\": \"\"}}, \"title\": {\"x\": 0.05}, \"xaxis\": {\"automargin\": true, \"gridcolor\": \"white\", \"linecolor\": \"white\", \"ticks\": \"\", \"title\": {\"standoff\": 15}, \"zerolinecolor\": \"white\", \"zerolinewidth\": 2}, \"yaxis\": {\"automargin\": true, \"gridcolor\": \"white\", \"linecolor\": \"white\", \"ticks\": \"\", \"title\": {\"standoff\": 15}, \"zerolinecolor\": \"white\", \"zerolinewidth\": 2}}}, \"title\": {\"text\": \"Life expectancy in Canada\"}, \"xaxis\": {\"anchor\": \"y\", \"domain\": [0.0, 1.0], \"title\": {\"text\": \"DateTime\"}}, \"yaxis\": {\"anchor\": \"x\", \"domain\": [0.0, 1.0], \"title\": {\"text\": \"Hs [m]\"}}},\n",
       "                        {\"responsive\": true}\n",
       "                    ).then(function(){\n",
       "                            \n",
       "var gd = document.getElementById('4823a32f-20c4-41b4-b158-c2fbc3cb31d6');\n",
       "var x = new MutationObserver(function (mutations, observer) {{\n",
       "        var display = window.getComputedStyle(gd).display;\n",
       "        if (!display || display === 'none') {{\n",
       "            console.log([gd, 'removed!']);\n",
       "            Plotly.purge(gd);\n",
       "            observer.disconnect();\n",
       "        }}\n",
       "}});\n",
       "\n",
       "// Listen for the removal of the full notebook cells\n",
       "var notebookContainer = gd.closest('#notebook-container');\n",
       "if (notebookContainer) {{\n",
       "    x.observe(notebookContainer, {childList: true});\n",
       "}}\n",
       "\n",
       "// Listen for the clearing of the current output cell\n",
       "var outputEl = gd.closest('.output');\n",
       "if (outputEl) {{\n",
       "    x.observe(outputEl, {childList: true});\n",
       "}}\n",
       "\n",
       "                        })\n",
       "                };\n",
       "                });\n",
       "            </script>\n",
       "        </div>"
      ]
     },
     "metadata": {},
     "output_type": "display_data"
    }
   ],
   "source": [
    "import plotly.express as px\n",
    "\n",
    "objects = [hopper, from_site, to_site]\n",
    "\n",
    "\n",
    "activities = []\n",
    "for obj in objects:\n",
    "    activities.extend(set(obj.log[\"Message\"]))\n",
    "\n",
    "activities = list(set(activities))\n",
    "\n",
    "fig = vessel_planning(objects, activities)\n",
    "\n",
    "fig = px.line(metocean_df, x=\"DateTime\", y=\"Hs [m]\", title='Life expectancy in Canada')\n",
    "fig.show()"
   ]
  },
  {
   "cell_type": "code",
   "execution_count": null,
   "metadata": {},
   "outputs": [],
   "source": []
  },
  {
   "cell_type": "code",
   "execution_count": null,
   "metadata": {},
   "outputs": [],
   "source": []
  }
 ],
 "metadata": {
  "kernelspec": {
   "display_name": "Python 3",
   "language": "python",
   "name": "python3"
  },
  "language_info": {
   "codemirror_mode": {
    "name": "ipython",
    "version": 3
   },
   "file_extension": ".py",
   "mimetype": "text/x-python",
   "name": "python",
   "nbconvert_exporter": "python",
   "pygments_lexer": "ipython3",
   "version": "3.7.4"
  }
 },
 "nbformat": 4,
 "nbformat_minor": 2
}
